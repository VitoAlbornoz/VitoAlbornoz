{
 "cells": [
  {
   "cell_type": "markdown",
   "id": "68ab5ee1",
   "metadata": {},
   "source": [
    "# Pandas!"
   ]
  },
  {
   "cell_type": "code",
   "execution_count": 1,
   "id": "20a629a5",
   "metadata": {
    "ExecuteTime": {
     "end_time": "2022-01-25T20:12:51.430636Z",
     "start_time": "2022-01-25T20:12:51.297820Z"
    }
   },
   "outputs": [],
   "source": [
    "import pandas as pd # importando esta librería como pd"
   ]
  },
  {
   "cell_type": "markdown",
   "id": "e017b1b7",
   "metadata": {},
   "source": [
    "## Diccionarios"
   ]
  },
  {
   "cell_type": "markdown",
   "id": "999886d2",
   "metadata": {},
   "source": [
    "A partir de estos se crean los dataframes"
   ]
  },
  {
   "cell_type": "markdown",
   "id": "a895fb79",
   "metadata": {},
   "source": [
    "Se distinguen con llaves y el contenido"
   ]
  },
  {
   "cell_type": "code",
   "execution_count": 2,
   "id": "eeff9540",
   "metadata": {
    "ExecuteTime": {
     "end_time": "2022-01-25T20:20:15.500732Z",
     "start_time": "2022-01-25T20:20:15.498526Z"
    }
   },
   "outputs": [],
   "source": [
    "sports = {'a':'alpha',\n",
    "          'b':'beta',\n",
    "          'c':'gama'\n",
    "         }"
   ]
  },
  {
   "cell_type": "code",
   "execution_count": 3,
   "id": "a815550a",
   "metadata": {
    "ExecuteTime": {
     "end_time": "2022-01-25T20:20:43.052770Z",
     "start_time": "2022-01-25T20:20:43.050537Z"
    }
   },
   "outputs": [],
   "source": [
    "s = pd.Series(sports)"
   ]
  },
  {
   "cell_type": "code",
   "execution_count": 4,
   "id": "1aa9e73c",
   "metadata": {
    "ExecuteTime": {
     "end_time": "2022-01-25T20:20:49.951835Z",
     "start_time": "2022-01-25T20:20:49.946439Z"
    }
   },
   "outputs": [
    {
     "data": {
      "text/plain": [
       "a    alpha\n",
       "b     beta\n",
       "c     gama\n",
       "dtype: object"
      ]
     },
     "execution_count": 4,
     "metadata": {},
     "output_type": "execute_result"
    }
   ],
   "source": [
    "s"
   ]
  },
  {
   "cell_type": "code",
   "execution_count": 6,
   "id": "bbdb47bb",
   "metadata": {
    "ExecuteTime": {
     "end_time": "2022-01-25T20:30:10.510297Z",
     "start_time": "2022-01-25T20:30:10.507787Z"
    }
   },
   "outputs": [],
   "source": [
    "s2 = pd.Series(sports, index ={'b','c','d'})"
   ]
  },
  {
   "cell_type": "code",
   "execution_count": 7,
   "id": "77d9bc32",
   "metadata": {
    "ExecuteTime": {
     "end_time": "2022-01-25T20:30:12.486680Z",
     "start_time": "2022-01-25T20:30:12.483667Z"
    }
   },
   "outputs": [
    {
     "data": {
      "text/plain": [
       "c    gama\n",
       "b    beta\n",
       "d     NaN\n",
       "dtype: object"
      ]
     },
     "execution_count": 7,
     "metadata": {},
     "output_type": "execute_result"
    }
   ],
   "source": [
    "s2"
   ]
  },
  {
   "cell_type": "code",
   "execution_count": 10,
   "id": "591ff194",
   "metadata": {
    "ExecuteTime": {
     "end_time": "2022-01-25T20:31:34.494860Z",
     "start_time": "2022-01-25T20:31:34.492146Z"
    }
   },
   "outputs": [
    {
     "data": {
      "text/plain": [
       "'gama'"
      ]
     },
     "execution_count": 10,
     "metadata": {},
     "output_type": "execute_result"
    }
   ],
   "source": [
    "s.iloc[2]"
   ]
  },
  {
   "cell_type": "code",
   "execution_count": 12,
   "id": "73ae037c",
   "metadata": {
    "ExecuteTime": {
     "end_time": "2022-01-25T20:32:24.990811Z",
     "start_time": "2022-01-25T20:32:24.988256Z"
    }
   },
   "outputs": [
    {
     "data": {
      "text/plain": [
       "'beta'"
      ]
     },
     "execution_count": 12,
     "metadata": {},
     "output_type": "execute_result"
    }
   ],
   "source": [
    "s.loc['b']"
   ]
  },
  {
   "cell_type": "code",
   "execution_count": null,
   "id": "758ea774",
   "metadata": {},
   "outputs": [],
   "source": [
    "s3 ="
   ]
  }
 ],
 "metadata": {
  "kernelspec": {
   "display_name": "Python 3 (ipykernel)",
   "language": "python",
   "name": "python3"
  },
  "language_info": {
   "codemirror_mode": {
    "name": "ipython",
    "version": 3
   },
   "file_extension": ".py",
   "mimetype": "text/x-python",
   "name": "python",
   "nbconvert_exporter": "python",
   "pygments_lexer": "ipython3",
   "version": "3.8.12"
  },
  "toc": {
   "base_numbering": 1,
   "nav_menu": {},
   "number_sections": true,
   "sideBar": true,
   "skip_h1_title": false,
   "title_cell": "Table of Contents",
   "title_sidebar": "Contents",
   "toc_cell": false,
   "toc_position": {},
   "toc_section_display": true,
   "toc_window_display": false
  },
  "varInspector": {
   "cols": {
    "lenName": 16,
    "lenType": 16,
    "lenVar": 40
   },
   "kernels_config": {
    "python": {
     "delete_cmd_postfix": "",
     "delete_cmd_prefix": "del ",
     "library": "var_list.py",
     "varRefreshCmd": "print(var_dic_list())"
    },
    "r": {
     "delete_cmd_postfix": ") ",
     "delete_cmd_prefix": "rm(",
     "library": "var_list.r",
     "varRefreshCmd": "cat(var_dic_list()) "
    }
   },
   "types_to_exclude": [
    "module",
    "function",
    "builtin_function_or_method",
    "instance",
    "_Feature"
   ],
   "window_display": false
  }
 },
 "nbformat": 4,
 "nbformat_minor": 5
}
