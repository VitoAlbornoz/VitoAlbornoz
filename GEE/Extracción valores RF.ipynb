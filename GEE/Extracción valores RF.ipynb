{
 "cells": [
  {
   "cell_type": "code",
   "execution_count": 1,
   "id": "joined-delicious",
   "metadata": {},
   "outputs": [],
   "source": [
    "import ee\n",
    "import geemap\n",
    "import os\n"
   ]
  },
  {
   "cell_type": "code",
   "execution_count": null,
   "id": "26676695",
   "metadata": {},
   "outputs": [],
   "source": [
    "# geemap.update_package()"
   ]
  },
  {
   "cell_type": "code",
   "execution_count": 2,
   "id": "departmental-bridal",
   "metadata": {},
   "outputs": [],
   "source": [
    "Map = geemap.Map()\n"
   ]
  },
  {
   "cell_type": "code",
   "execution_count": 3,
   "id": "adolescent-tsunami",
   "metadata": {},
   "outputs": [
    {
     "data": {
      "application/vnd.jupyter.widget-view+json": {
       "model_id": "271a36cabcea4267b1ab837a26890d39",
       "version_major": 2,
       "version_minor": 0
      },
      "text/plain": [
       "Map(center=[40, -100], controls=(WidgetControl(options=['position'], widget=HBox(children=(ToggleButton(value=…"
      ]
     },
     "metadata": {},
     "output_type": "display_data"
    }
   ],
   "source": [
    "mosaico = ee.Image(\"users/franciscoalbornoz/Mosaico_2018\")\n",
    "landsat_vis = {\n",
    "    'min': 0,\n",
    "    'max': 1,\n",
    "    'bands': ['b5', 'b4', 'b3']\n",
    "}\n",
    "Map.addLayer(mosaico, landsat_vis, \"Landsat-8-2018\")\n",
    "Map"
   ]
  },
  {
   "cell_type": "code",
   "execution_count": 4,
   "id": "b25f65ce",
   "metadata": {},
   "outputs": [
    {
     "data": {
      "text/plain": [
       "['b1', 'b2', 'b3', 'b4', 'b5', 'b6', 'b7', 'b8', 'b9']"
      ]
     },
     "execution_count": 4,
     "metadata": {},
     "output_type": "execute_result"
    }
   ],
   "source": [
    "mosaico.bandNames().getInfo()"
   ]
  },
  {
   "cell_type": "code",
   "execution_count": 5,
   "id": "flush-raleigh",
   "metadata": {},
   "outputs": [],
   "source": [
    "work_dir = os.path.expanduser('../Data/shapes/')\n",
    "achaparrado_shp = os.path.join(work_dir, 'achaparrado_2018_2210_grande.shp')\n",
    "agricolas_shp = os.path.join(work_dir, 'agricolas_2018_2610_grande.shp')\n",
    "agua_shp = os.path.join(work_dir, 'agua_2018_0310_grande.shp')\n",
    "arenalroca_shp = os.path.join(work_dir, 'arenal_roca_2018_0310_grande.shp')\n",
    "bosquedegradado_shp = os.path.join(work_dir, 'bosques_degradados_2018_22112018.shp')\n",
    "cuncuna_shp = os.path.join(work_dir, 'cuncunas_2018_2210_grande.shp')\n",
    "estepa_shp = os.path.join(work_dir, 'estepa_2018_0310_grande.shp')\n",
    "humedal_shp = os.path.join(work_dir, 'humedal_agua_2018_0310_grande.shp')\n",
    "mallin_shp = os.path.join(work_dir, 'mallin_2018_0510_grande.shp')\n",
    "matorralabierto_shp = os.path.join(work_dir, 'matorrales_abiertos_2018_22102018.shp')\n",
    "matorraldenso_shp = os.path.join(work_dir, 'matorrales_densos_2018_22102018.shp')\n",
    "plantacion1_shp = os.path.join(work_dir, 'plantaciones_2018_0310_grande.shp')\n",
    "plantacion2_shp = os.path.join(work_dir, 'plantaciones_2018_23112018_grande.shp')\n",
    "plantacion3_shp = os.path.join(work_dir, 'plantaciones_2018_26112018_grande.shp')\n",
    "pradera_shp = os.path.join(work_dir, 'praderas_2018_0310_grande.shp')\n",
    "primario_shp = os.path.join(work_dir, 'primario_2018_0310_grande.shp')\n",
    "secundario_shp = os.path.join(work_dir, 'secundario_2018_0310_grande.shp')\n",
    "sombra_shp = os.path.join(work_dir, 'sombras_topograficas_2018_0310_grande.shp')\n",
    "suelo_shp = os.path.join(work_dir, 'suelo_desnudo_agricola_2018_0310_grande.shp')\n"
   ]
  },
  {
   "cell_type": "code",
   "execution_count": 6,
   "id": "340bcd66",
   "metadata": {},
   "outputs": [],
   "source": [
    "achaparrado = geemap.shp_to_ee(achaparrado_shp)\n",
    "Map.addLayer(achaparrado, {}, 'achaparrado')\n",
    "\n",
    "agricolas = geemap.shp_to_ee(agricolas_shp)\n",
    "Map.addLayer(agricolas, {}, 'agricolas')\n",
    "\n",
    "agua = geemap.shp_to_ee(agua_shp)\n",
    "Map.addLayer(agua, {}, 'agua')\n",
    "\n",
    "arenalroca = geemap.shp_to_ee(arenalroca_shp)\n",
    "Map.addLayer(arenalroca, {}, 'arenal roca')\n",
    "\n",
    "bosquedegradado = geemap.shp_to_ee(bosquedegradado_shp)\n",
    "Map.addLayer(bosquedegradado, {}, 'bosque degradado')\n",
    "\n",
    "cuncuna = geemap.shp_to_ee(cuncuna_shp)\n",
    "Map.addLayer(cuncuna, {}, 'cuncuna')\n",
    "\n",
    "estepa = geemap.shp_to_ee(estepa_shp)\n",
    "Map.addLayer(estepa, {}, 'estepa')\n",
    "\n",
    "humedal = geemap.shp_to_ee(humedal_shp)\n",
    "Map.addLayer(humedal, {}, 'humedal')\n",
    "\n",
    "mallin = geemap.shp_to_ee(mallin_shp)\n",
    "Map.addLayer(mallin, {}, 'mallin')\n",
    "\n",
    "matorralabierto = geemap.shp_to_ee(matorralabierto_shp)\n",
    "Map.addLayer(matorralabierto, {}, 'matorral abierto')\n",
    "\n",
    "matdenso = geemap.shp_to_ee(matorraldenso_shp)\n",
    "Map.addLayer(matdenso, {}, 'matorral denso')\n",
    "\n",
    "plantacion1 = geemap.shp_to_ee(plantacion1_shp)\n",
    "Map.addLayer(plantacion1, {}, 'plantacion1')\n",
    "plantacion2 = geemap.shp_to_ee(plantacion2_shp)\n",
    "Map.addLayer(plantacion2, {}, 'plantacion')\n",
    "plantacion3 = geemap.shp_to_ee(plantacion3_shp)\n",
    "Map.addLayer(plantacion3, {}, 'plantacion3')\n",
    "\n",
    "pradera = geemap.shp_to_ee(pradera_shp)\n",
    "Map.addLayer(pradera, {}, 'pradera')\n",
    "\n",
    "primario = geemap.shp_to_ee(primario_shp)\n",
    "Map.addLayer(primario, {}, 'primario')\n",
    "\n",
    "secundario = geemap.shp_to_ee(secundario_shp)\n",
    "Map.addLayer(secundario, {}, 'secundario')\n",
    "\n",
    "sombra = geemap.shp_to_ee(sombra_shp)\n",
    "Map.addLayer(sombra, {}, 'sombra')\n",
    "\n",
    "suelo = geemap.shp_to_ee(suelo_shp)\n",
    "Map.addLayer(suelo, {}, 'suelo')\n"
   ]
  },
  {
   "cell_type": "code",
   "execution_count": null,
   "id": "8fbc884e",
   "metadata": {},
   "outputs": [],
   "source": [
    "poligono = ee.FeatureCollection([\n",
    "    ee.Feature(achaparrado),\n",
    "    ee.Feature(agricolas),\n",
    "    ee.Feature(agua),\n",
    "    ee.Feature(arenalroca),\n",
    "    ee.Feature(bosquedegradado),\n",
    "    ee.Feature(cuncuna),\n",
    "    ee.Feature(estepa),\n",
    "    ee.Feature(humedal),\n",
    "    ee.Feature(mallin),\n",
    "    ee.Feature(matorralabierto),\n",
    "    ee.Feature(matdenso),\n",
    "    ee.Feature(plantacion1),\n",
    "    ee.Feature(plantacion2),\n",
    "    ee.Feature(plantacion3),\n",
    "    ee.Feature(pradera),\n",
    "    ee.Feature(primario),\n",
    "    ee.Feature(secundario),\n",
    "    ee.Feature(sombra),\n",
    "    ee.Feature(suelo),    \n",
    "])"
   ]
  },
  {
   "cell_type": "code",
   "execution_count": null,
   "id": "a700e867",
   "metadata": {
    "scrolled": true
   },
   "outputs": [],
   "source": [
    "print(poligono.first().getInfo())"
   ]
  },
  {
   "cell_type": "code",
   "execution_count": null,
   "id": "another-dubai",
   "metadata": {},
   "outputs": [],
   "source": [
    "# Guardamos las bandas\n",
    "bands = ['b1', 'b2', 'b3', 'b4', 'b5', 'b6', 'b7', 'b8', 'b9']\n",
    "\n",
    "# Esta propiedad guarda las clases de landcover\n",
    "# label = 'RF'\n",
    "\n",
    "# Overlay the points on the imagery to get training.\n",
    "sample = mosaico.select(bands).sampleRegions(**{\n",
    "  'collection': poligono,\n",
    "  'properties': ['RF'],\n",
    "  'scale': 30\n",
    "})\n",
    "\n",
    "# Adds a column of deterministic pseudorandom numbers. \n",
    "sample = sample.randomColumn()\n",
    "\n",
    "split = 0.7 \n",
    "\n",
    "training = sample.filter(ee.Filter.lt('random', split))\n",
    "validation = sample.filter(ee.Filter.gte('random', split))"
   ]
  },
  {
   "cell_type": "code",
   "execution_count": null,
   "id": "ffd46fcf",
   "metadata": {},
   "outputs": [],
   "source": [
    "sample.first().getInfo()"
   ]
  },
  {
   "cell_type": "code",
   "execution_count": null,
   "id": "1ec991ae",
   "metadata": {},
   "outputs": [],
   "source": [
    "training"
   ]
  },
  {
   "cell_type": "code",
   "execution_count": null,
   "id": "13b91725",
   "metadata": {},
   "outputs": [],
   "source": [
    "training.first().getInfo()"
   ]
  },
  {
   "cell_type": "code",
   "execution_count": null,
   "id": "eb79f472",
   "metadata": {},
   "outputs": [],
   "source": [
    "validation.first().getInfo()"
   ]
  },
  {
   "cell_type": "code",
   "execution_count": null,
   "id": "ba74718f",
   "metadata": {},
   "outputs": [],
   "source": []
  },
  {
   "cell_type": "code",
   "execution_count": null,
   "id": "f3581c1a",
   "metadata": {},
   "outputs": [],
   "source": []
  },
  {
   "cell_type": "code",
   "execution_count": null,
   "id": "62de3d63",
   "metadata": {},
   "outputs": [],
   "source": [
    "# ph = ee.Image(\"projects/soilgrids-isric/phh2o_mean\")\n",
    "# Map.addLayer(ph)\n",
    "# Map"
   ]
  },
  {
   "cell_type": "code",
   "execution_count": null,
   "id": "7d7d6fd5",
   "metadata": {},
   "outputs": [],
   "source": [
    "# out_csv = os.path.join(work_dir, 'ph.csv')\n",
    "# geemap.extract_values_to_points(in_fc, ph, out_csv)"
   ]
  },
  {
   "cell_type": "code",
   "execution_count": null,
   "id": "bf9f0f78",
   "metadata": {},
   "outputs": [],
   "source": []
  },
  {
   "cell_type": "code",
   "execution_count": null,
   "id": "87428b76",
   "metadata": {},
   "outputs": [],
   "source": []
  },
  {
   "cell_type": "code",
   "execution_count": null,
   "id": "22f87ea4",
   "metadata": {},
   "outputs": [],
   "source": []
  },
  {
   "cell_type": "code",
   "execution_count": null,
   "id": "299a227d",
   "metadata": {},
   "outputs": [],
   "source": []
  }
 ],
 "metadata": {
  "kernelspec": {
   "display_name": "Python 3",
   "language": "python",
   "name": "python3"
  },
  "language_info": {
   "codemirror_mode": {
    "name": "ipython",
    "version": 3
   },
   "file_extension": ".py",
   "mimetype": "text/x-python",
   "name": "python",
   "nbconvert_exporter": "python",
   "pygments_lexer": "ipython3",
   "version": "3.9.2"
  },
  "toc": {
   "base_numbering": 1,
   "nav_menu": {},
   "number_sections": true,
   "sideBar": true,
   "skip_h1_title": false,
   "title_cell": "Table of Contents",
   "title_sidebar": "Contents",
   "toc_cell": false,
   "toc_position": {},
   "toc_section_display": true,
   "toc_window_display": false
  },
  "varInspector": {
   "cols": {
    "lenName": 16,
    "lenType": 16,
    "lenVar": 40
   },
   "kernels_config": {
    "python": {
     "delete_cmd_postfix": "",
     "delete_cmd_prefix": "del ",
     "library": "var_list.py",
     "varRefreshCmd": "print(var_dic_list())"
    },
    "r": {
     "delete_cmd_postfix": ") ",
     "delete_cmd_prefix": "rm(",
     "library": "var_list.r",
     "varRefreshCmd": "cat(var_dic_list()) "
    }
   },
   "types_to_exclude": [
    "module",
    "function",
    "builtin_function_or_method",
    "instance",
    "_Feature"
   ],
   "window_display": false
  }
 },
 "nbformat": 4,
 "nbformat_minor": 5
}
