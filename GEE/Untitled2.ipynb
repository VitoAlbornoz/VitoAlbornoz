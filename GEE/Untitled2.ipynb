{
 "cells": [
  {
   "cell_type": "code",
   "execution_count": 3,
   "id": "fb94d11c",
   "metadata": {},
   "outputs": [],
   "source": [
    "import ee\n",
    "import os\n",
    "import geemap"
   ]
  },
  {
   "cell_type": "code",
   "execution_count": 5,
   "id": "8332a23b",
   "metadata": {},
   "outputs": [],
   "source": [
    "Map = geemap.Map()"
   ]
  },
  {
   "cell_type": "code",
   "execution_count": 6,
   "id": "ee814704",
   "metadata": {},
   "outputs": [
    {
     "data": {
      "application/vnd.jupyter.widget-view+json": {
       "model_id": "df99f2068462475186771b62295cca90",
       "version_major": 2,
       "version_minor": 0
      },
      "text/plain": [
       "Map(center=[40, -100], controls=(WidgetControl(options=['position', 'transparent_bg'], widget=HBox(children=(T…"
      ]
     },
     "metadata": {},
     "output_type": "display_data"
    }
   ],
   "source": [
    "dataset = ee.ImageCollection('CSP/HM/GlobalHumanModification');\n",
    "\n",
    "visualization = {\n",
    "  'bands': ['gHM'],\n",
    "  'min': 0.0,\n",
    "  'max': 1.0,\n",
    "  'palette': ['0c0c0c', '071aff', 'ff0000', 'ffbd03', 'fbff05', 'fffdfd']\n",
    "};\n",
    "\n",
    "Map.centerObject(dataset);\n",
    "\n",
    "Map.addLayer(dataset, visualization, 'Human modification')\n",
    "Map"
   ]
  },
  {
   "cell_type": "code",
   "execution_count": 15,
   "id": "b213f848",
   "metadata": {},
   "outputs": [
    {
     "data": {
      "application/vnd.jupyter.widget-view+json": {
       "model_id": "df99f2068462475186771b62295cca90",
       "version_major": 2,
       "version_minor": 0
      },
      "text/plain": [
       "Map(bottom=85381.0, center=[18, 0], controls=(WidgetControl(options=['position', 'transparent_bg'], widget=HBo…"
      ]
     },
     "metadata": {},
     "output_type": "display_data"
    }
   ],
   "source": [
    "#Visualize FireCCI51 for the year 2019\n",
    "dataset = ee.ImageCollection('ESA/CCI/FireCCI/5_1').filterDate('2018-01-01', '2019-12-31');                \n",
    "burnedArea = dataset.select('BurnDate');\n",
    "\n",
    "#Use a circular palette to assign colors to date of first detection\n",
    "baVis = {\n",
    "  'min': 1,\n",
    "  'max': 366,\n",
    "  'palette': [\n",
    "    'ff0000', 'fd4100', 'fb8200', 'f9c400', 'f2ff00', 'b6ff05',\n",
    "    '7aff0a', '3eff0f', '02ff15', '00ff55', '00ff99', '00ffdd',\n",
    "    '00ddff', '0098ff', '0052ff', '0210ff', '3a0dfb', '7209f6',\n",
    "    'a905f1', 'e102ed', 'ff00cc', 'ff0089', 'ff0047', 'ff0004'\n",
    "  ]\n",
    "};\n",
    "maxBA = burnedArea.max();\n",
    "\n",
    "Map.setCenter(0, 18, 2.1);\n",
    "Map.addLayer(maxBA, baVis, 'Burned Area');\n",
    "Map"
   ]
  },
  {
   "cell_type": "code",
   "execution_count": null,
   "id": "d57ba5a2",
   "metadata": {},
   "outputs": [],
   "source": []
  }
 ],
 "metadata": {
  "kernelspec": {
   "display_name": "Python 3",
   "language": "python",
   "name": "python3"
  },
  "language_info": {
   "codemirror_mode": {
    "name": "ipython",
    "version": 3
   },
   "file_extension": ".py",
   "mimetype": "text/x-python",
   "name": "python",
   "nbconvert_exporter": "python",
   "pygments_lexer": "ipython3",
   "version": "3.8.8"
  }
 },
 "nbformat": 4,
 "nbformat_minor": 5
}
