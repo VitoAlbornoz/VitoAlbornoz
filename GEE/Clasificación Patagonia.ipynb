{
 "cells": [
  {
   "cell_type": "code",
   "execution_count": 1,
   "id": "joined-delicious",
   "metadata": {
    "ExecuteTime": {
     "end_time": "2021-09-09T16:30:09.379540Z",
     "start_time": "2021-09-09T16:30:08.976351Z"
    }
   },
   "outputs": [],
   "source": [
    "import ee\n",
    "import geemap\n",
    "import os\n"
   ]
  },
  {
   "cell_type": "code",
   "execution_count": 2,
   "id": "26676695",
   "metadata": {
    "ExecuteTime": {
     "end_time": "2021-09-09T16:30:09.382155Z",
     "start_time": "2021-09-09T16:30:09.380594Z"
    }
   },
   "outputs": [],
   "source": [
    "# geemap.update_package()"
   ]
  },
  {
   "cell_type": "code",
   "execution_count": 3,
   "id": "departmental-bridal",
   "metadata": {
    "ExecuteTime": {
     "end_time": "2021-09-09T16:30:17.926222Z",
     "start_time": "2021-09-09T16:30:09.382832Z"
    }
   },
   "outputs": [],
   "source": [
    "Map = geemap.Map()\n"
   ]
  },
  {
   "cell_type": "code",
   "execution_count": 4,
   "id": "adolescent-tsunami",
   "metadata": {
    "ExecuteTime": {
     "end_time": "2021-09-09T16:30:17.928914Z",
     "start_time": "2021-09-09T16:30:17.927295Z"
    }
   },
   "outputs": [],
   "source": [
    "# mosaico = ee.Image(\"users/franciscoalbornoz/Mosaico_2018\")\n",
    "# clasificacion_2018 = ee.Image(\"users/franciscoalbornoz/clasificacion_2018\")\n",
    "# landcover_2018 = ee.Image(\"users/franciscoalbornoz/landcover_sur\")\n",
    "# landsat_vis = {\n",
    "#     'min': 0,\n",
    "#     'max': 1,\n",
    "#     'bands': ['b5', 'b4', 'b3']\n",
    "# }\n",
    "# Map.addLayer(mosaico, landsat_vis, \"Landsat-8-2018\")\n",
    "# Map.addLayer(clasificacion_2018.randomVisualizer(), {}, \"clasificación 2018\")\n",
    "# Map.addLayer(landcover_2018.randomVisualizer(), {} , \"landcover provincia\")\n",
    "# Map"
   ]
  },
  {
   "cell_type": "code",
   "execution_count": 5,
   "id": "bef2af38",
   "metadata": {
    "ExecuteTime": {
     "end_time": "2021-09-09T16:30:18.381304Z",
     "start_time": "2021-09-09T16:30:17.929992Z"
    }
   },
   "outputs": [],
   "source": [
    "countries = ee.FeatureCollection('users/giswqs/public/countries')\n",
    "Map.addLayer(countries, {}, 'countries')\n"
   ]
  },
  {
   "cell_type": "code",
   "execution_count": 6,
   "id": "38be2532",
   "metadata": {
    "ExecuteTime": {
     "end_time": "2021-09-09T16:30:19.238675Z",
     "start_time": "2021-09-09T16:30:18.382109Z"
    }
   },
   "outputs": [],
   "source": [
    "roi = countries.filter(ee.Filter.eq('id', 'CHL'))\n",
    "Map.addLayer(roi, {}, 'roi')"
   ]
  },
  {
   "cell_type": "code",
   "execution_count": 7,
   "id": "51936c07",
   "metadata": {
    "ExecuteTime": {
     "end_time": "2021-09-09T16:30:20.332429Z",
     "start_time": "2021-09-09T16:30:19.239716Z"
    }
   },
   "outputs": [],
   "source": [
    "work_dir = os.path.expanduser('../Data/shapes/')\n",
    "patagonia = os.path.join(work_dir, 'patagonia.shp')\n",
    "patagonia_grande = geemap.shp_to_ee(patagonia)\n",
    "Map.addLayer(patagonia_grande, {}, 'Patagonia')"
   ]
  },
  {
   "cell_type": "code",
   "execution_count": 8,
   "id": "0b0baf76",
   "metadata": {
    "ExecuteTime": {
     "end_time": "2021-09-09T16:30:20.335807Z",
     "start_time": "2021-09-09T16:30:20.333537Z"
    }
   },
   "outputs": [],
   "source": [
    "start_date = '2019-12-01'\n",
    "end_date = '2021-03-31'\n",
    "\n",
    "l8 = ee.ImageCollection('LANDSAT/LC08/C01/T1_TOA') \\\n",
    "    .filterBounds(patagonia_grande) \\\n",
    "    .filterDate(start_date, end_date)"
   ]
  },
  {
   "cell_type": "code",
   "execution_count": 9,
   "id": "9a8c3eda",
   "metadata": {
    "ExecuteTime": {
     "end_time": "2021-09-09T16:30:21.026116Z",
     "start_time": "2021-09-09T16:30:20.336568Z"
    }
   },
   "outputs": [
    {
     "data": {
      "application/vnd.jupyter.widget-view+json": {
       "model_id": "a3e243af883645dfb4a65ae224162097",
       "version_major": 2,
       "version_minor": 0
      },
      "text/plain": [
       "Map(center=[-49.84557630436097, -69.36690600021171], controls=(WidgetControl(options=['position', 'transparent…"
      ]
     },
     "metadata": {},
     "output_type": "display_data"
    }
   ],
   "source": [
    "median = l8.median()\n",
    "\n",
    "visParams = {\n",
    "  'bands': ['B4', 'B3', 'B2'],\n",
    "  'min': 0,\n",
    "  'max': 0.4,\n",
    "}\n",
    "\n",
    "Map.addLayer(median, visParams, 'Median')\n",
    "Map.centerObject(patagonia_grande, 10)\n",
    "Map"
   ]
  },
  {
   "cell_type": "code",
   "execution_count": 10,
   "id": "379663d2",
   "metadata": {
    "ExecuteTime": {
     "end_time": "2021-09-09T16:30:21.029776Z",
     "start_time": "2021-09-09T16:30:21.027765Z"
    }
   },
   "outputs": [],
   "source": [
    "def addNDVI(image): \n",
    "    ndvi = image.normalizedDifference(['B5', 'B4']).rename('NDVI')\n",
    "    return image.addBands(ndvi)"
   ]
  },
  {
   "cell_type": "code",
   "execution_count": 11,
   "id": "ac36c683",
   "metadata": {
    "ExecuteTime": {
     "end_time": "2021-09-09T16:30:21.035260Z",
     "start_time": "2021-09-09T16:30:21.030771Z"
    }
   },
   "outputs": [],
   "source": [
    "def addDate(image):\n",
    "    img_date = ee.Date(image.date())\n",
    "    img_date = ee.Number.parse(img_date.format('YYYYMMdd'))\n",
    "    return image.addBands(ee.Image(img_date).rename('date').toInt())"
   ]
  },
  {
   "cell_type": "code",
   "execution_count": 12,
   "id": "8b1bf6b8",
   "metadata": {
    "ExecuteTime": {
     "end_time": "2021-09-09T16:30:21.040350Z",
     "start_time": "2021-09-09T16:30:21.036464Z"
    }
   },
   "outputs": [],
   "source": [
    "def addMonth(image):\n",
    "    img_date = ee.Date(image.date())\n",
    "    img_doy = ee.Number.parse(img_date.format('M'))\n",
    "    return image.addBands(ee.Image(img_doy).rename('month').toInt())"
   ]
  },
  {
   "cell_type": "code",
   "execution_count": 13,
   "id": "6bc512f2",
   "metadata": {
    "ExecuteTime": {
     "end_time": "2021-09-09T16:30:21.046234Z",
     "start_time": "2021-09-09T16:30:21.041181Z"
    }
   },
   "outputs": [],
   "source": [
    "def addDOY(image):\n",
    "    img_date = ee.Date(image.date())\n",
    "    img_doy = ee.Number.parse(img_date.format('D'))\n",
    "    return image.addBands(ee.Image(img_doy).rename('doy').toInt())"
   ]
  },
  {
   "cell_type": "code",
   "execution_count": 14,
   "id": "e5c1416b",
   "metadata": {
    "ExecuteTime": {
     "end_time": "2021-09-09T16:30:21.053152Z",
     "start_time": "2021-09-09T16:30:21.047378Z"
    }
   },
   "outputs": [],
   "source": [
    "withNDVI = l8.map(addNDVI).map(addDate).map(addMonth).map(addDOY)"
   ]
  },
  {
   "cell_type": "code",
   "execution_count": 15,
   "id": "a6ce3775",
   "metadata": {
    "ExecuteTime": {
     "end_time": "2021-09-09T16:30:21.058214Z",
     "start_time": "2021-09-09T16:30:21.054193Z"
    }
   },
   "outputs": [],
   "source": [
    "greenest = withNDVI.qualityMosaic('NDVI').clip(patagonia_grande)"
   ]
  },
  {
   "cell_type": "code",
   "execution_count": 16,
   "id": "96d6ee29",
   "metadata": {
    "ExecuteTime": {
     "end_time": "2021-09-09T16:30:21.637843Z",
     "start_time": "2021-09-09T16:30:21.059087Z"
    }
   },
   "outputs": [
    {
     "data": {
      "text/plain": [
       "['B1',\n",
       " 'B2',\n",
       " 'B3',\n",
       " 'B4',\n",
       " 'B5',\n",
       " 'B6',\n",
       " 'B7',\n",
       " 'B8',\n",
       " 'B9',\n",
       " 'B10',\n",
       " 'B11',\n",
       " 'BQA',\n",
       " 'NDVI',\n",
       " 'date',\n",
       " 'month',\n",
       " 'doy']"
      ]
     },
     "execution_count": 16,
     "metadata": {},
     "output_type": "execute_result"
    }
   ],
   "source": [
    "greenest.bandNames().getInfo()"
   ]
  },
  {
   "cell_type": "code",
   "execution_count": 17,
   "id": "cc847ca0",
   "metadata": {
    "ExecuteTime": {
     "end_time": "2021-09-09T16:30:21.993338Z",
     "start_time": "2021-09-09T16:30:21.638645Z"
    }
   },
   "outputs": [],
   "source": [
    "ndvi = greenest.select('NDVI')\n",
    "palette = ['#d73027', '#f46d43', '#fdae61', '#fee08b', '#d9ef8b', '#a6d96a', '#66bd63', '#1a9850']\n",
    "Map.addLayer(ndvi, {'palette': palette}, 'NDVI')"
   ]
  },
  {
   "cell_type": "code",
   "execution_count": 18,
   "id": "b071ec69",
   "metadata": {
    "ExecuteTime": {
     "end_time": "2021-09-09T16:30:22.639872Z",
     "start_time": "2021-09-09T16:30:21.994401Z"
    }
   },
   "outputs": [
    {
     "data": {
      "application/vnd.jupyter.widget-view+json": {
       "model_id": "a3e243af883645dfb4a65ae224162097",
       "version_major": 2,
       "version_minor": 0
      },
      "text/plain": [
       "Map(center=[-49.84557630436097, -69.36690600021171], controls=(WidgetControl(options=['position', 'transparent…"
      ]
     },
     "metadata": {},
     "output_type": "display_data"
    }
   ],
   "source": [
    "Map.addLayer(greenest, visParams, 'Greenest pixel')\n",
    "Map"
   ]
  },
  {
   "cell_type": "code",
   "execution_count": 19,
   "id": "f0819773",
   "metadata": {
    "ExecuteTime": {
     "end_time": "2021-09-09T16:30:24.110558Z",
     "start_time": "2021-09-09T16:30:22.640814Z"
    }
   },
   "outputs": [
    {
     "data": {
      "application/vnd.jupyter.widget-view+json": {
       "model_id": "a3e243af883645dfb4a65ae224162097",
       "version_major": 2,
       "version_minor": 0
      },
      "text/plain": [
       "Map(center=[-49.84557630436097, -69.36690600021171], controls=(WidgetControl(options=['position', 'transparent…"
      ]
     },
     "metadata": {},
     "output_type": "display_data"
    }
   ],
   "source": [
    "mosaico = ee.Image(\"users/franciscoalbornoz/Mosaico_2018\")\n",
    "clasificacion_2018 = ee.Image(\"users/franciscoalbornoz/clasificacion_2018\")\n",
    "landcover_2018 = ee.Image(\"users/franciscoalbornoz/landcover_sur\")\n",
    "landsat_vis = {\n",
    "    'min': 0,\n",
    "    'max': 1,\n",
    "    'bands': ['b5', 'b4', 'b3']\n",
    "}\n",
    "Map.addLayer(mosaico, landsat_vis, \"Landsat-8-2018\")\n",
    "Map.addLayer(clasificacion_2018.randomVisualizer(), {}, \"clasificación 2018\")\n",
    "Map.addLayer(landcover_2018.randomVisualizer(), {} , \"landcover provincia\")\n",
    "Map"
   ]
  },
  {
   "cell_type": "code",
   "execution_count": 20,
   "id": "0dbb0df5",
   "metadata": {
    "ExecuteTime": {
     "end_time": "2021-09-09T16:30:24.113244Z",
     "start_time": "2021-09-09T16:30:24.111398Z"
    }
   },
   "outputs": [],
   "source": [
    "class_palette = ['22c129',\n",
    " 'f0ff00',\n",
    " '0c40f1',\n",
    " '685205',\n",
    " '0d4404',\n",
    " 'e82d13',\n",
    " 'f99504',\n",
    " '17d4c6',\n",
    " '1c6330',\n",
    " '24ff00',\n",
    " '2de50f',\n",
    " 'ccba7d',\n",
    " 'dec61a',\n",
    " '28d909',\n",
    " '03c2ff',\n",
    " '4e8c44',\n",
    " 'fdfdfd',\n",
    " 'c0c233'\n",
    "]\n",
    "# paleta de 18 colores\n"
   ]
  },
  {
   "cell_type": "code",
   "execution_count": 21,
   "id": "fd4e4fdf",
   "metadata": {
    "ExecuteTime": {
     "end_time": "2021-09-09T16:30:24.115839Z",
     "start_time": "2021-09-09T16:30:24.114172Z"
    }
   },
   "outputs": [],
   "source": [
    "class_values = [1,2,3,4,5,6,7,8,9,10,11,12,13,14,15,16,17,18\n",
    "    ]"
   ]
  },
  {
   "cell_type": "code",
   "execution_count": 22,
   "id": "b28686e6",
   "metadata": {
    "ExecuteTime": {
     "end_time": "2021-09-09T16:30:24.564779Z",
     "start_time": "2021-09-09T16:30:24.116726Z"
    }
   },
   "outputs": [
    {
     "data": {
      "text/plain": [
       "['b1']"
      ]
     },
     "execution_count": 22,
     "metadata": {},
     "output_type": "execute_result"
    }
   ],
   "source": [
    "landcover_2018.bandNames().getInfo()"
   ]
  },
  {
   "cell_type": "code",
   "execution_count": 23,
   "id": "0f667c56",
   "metadata": {
    "ExecuteTime": {
     "end_time": "2021-09-09T16:30:24.894639Z",
     "start_time": "2021-09-09T16:30:24.565575Z"
    }
   },
   "outputs": [
    {
     "data": {
      "text/plain": [
       "{'b1': {'type': 'PixelType', 'precision': 'int', 'min': 0, 'max': 255}}"
      ]
     },
     "execution_count": 23,
     "metadata": {},
     "output_type": "execute_result"
    }
   ],
   "source": [
    "clasificacion_2018.bandTypes().getInfo()\n"
   ]
  },
  {
   "cell_type": "code",
   "execution_count": 24,
   "id": "26ba0fad",
   "metadata": {
    "ExecuteTime": {
     "end_time": "2021-09-09T16:30:24.897471Z",
     "start_time": "2021-09-09T16:30:24.895707Z"
    }
   },
   "outputs": [],
   "source": [
    "# land2018 = landcover_2018.set('classification_class_values', class_values)\n",
    "# land2018f = land2018.set('classification_class_palette', class_palette)"
   ]
  },
  {
   "cell_type": "code",
   "execution_count": 25,
   "id": "234d5974",
   "metadata": {
    "ExecuteTime": {
     "end_time": "2021-09-09T16:30:24.899852Z",
     "start_time": "2021-09-09T16:30:24.898564Z"
    }
   },
   "outputs": [],
   "source": [
    "# class2018 = clasificacion_2018.set('classification_class_values', class_values)\n",
    "# class2018f = class2018.set('classification_class_palette', class_palette)"
   ]
  },
  {
   "cell_type": "code",
   "execution_count": 26,
   "id": "c85ae479",
   "metadata": {
    "ExecuteTime": {
     "end_time": "2021-09-09T16:30:24.901938Z",
     "start_time": "2021-09-09T16:30:24.900619Z"
    }
   },
   "outputs": [],
   "source": [
    "# Map.addLayer(land2018f, {}, 'landcover_prov_coyhaique' )\n",
    "# Map.addLayer(class2018f,{},'clasificacion 2018')"
   ]
  },
  {
   "cell_type": "code",
   "execution_count": 27,
   "id": "2f97f3a9",
   "metadata": {
    "ExecuteTime": {
     "end_time": "2021-09-09T16:30:25.321461Z",
     "start_time": "2021-09-09T16:30:24.902849Z"
    }
   },
   "outputs": [
    {
     "data": {
      "text/plain": [
       "['b1', 'b2', 'b3', 'b4', 'b5', 'b6', 'b7', 'b8', 'b9']"
      ]
     },
     "execution_count": 27,
     "metadata": {},
     "output_type": "execute_result"
    }
   ],
   "source": [
    "mosaico.bandNames().getInfo()"
   ]
  },
  {
   "cell_type": "code",
   "execution_count": 28,
   "id": "flush-raleigh",
   "metadata": {
    "ExecuteTime": {
     "end_time": "2021-09-09T16:30:25.325647Z",
     "start_time": "2021-09-09T16:30:25.324059Z"
    }
   },
   "outputs": [],
   "source": [
    "work_dir = os.path.expanduser('../Data/shapes/')\n",
    "\n",
    "merged_shp = os.path.join(work_dir, 'roi_merged.shp')"
   ]
  },
  {
   "cell_type": "code",
   "execution_count": 29,
   "id": "340bcd66",
   "metadata": {
    "ExecuteTime": {
     "end_time": "2021-09-09T16:30:30.154881Z",
     "start_time": "2021-09-09T16:30:25.326501Z"
    }
   },
   "outputs": [],
   "source": [
    "merged =geemap.shp_to_ee(merged_shp)\n",
    "Map.addLayer(merged, {}, 'Áreas de entrenamiento')"
   ]
  },
  {
   "cell_type": "code",
   "execution_count": 30,
   "id": "8fbc884e",
   "metadata": {
    "ExecuteTime": {
     "end_time": "2021-09-09T16:30:30.157471Z",
     "start_time": "2021-09-09T16:30:30.155716Z"
    }
   },
   "outputs": [],
   "source": [
    "# poligono = ee.FeatureCollection([\n",
    "#     ee.Feature(achaparrado),\n",
    "#     ee.Feature(agricolas),\n",
    "#     ee.Feature(agua),\n",
    "#     ee.Feature(arenalroca),\n",
    "#     ee.Feature(bosquedegradado),\n",
    "#     ee.Feature(cuncuna),\n",
    "#     ee.Feature(estepa),\n",
    "#     ee.Feature(humedal),\n",
    "#     ee.Feature(mallin),\n",
    "#     ee.Feature(matorralabierto),\n",
    "#     ee.Feature(matdenso),\n",
    "#     ee.Feature(plantacion1),\n",
    "#     ee.Feature(plantacion2),\n",
    "#     ee.Feature(plantacion3),\n",
    "#     ee.Feature(pradera),\n",
    "#     ee.Feature(primario),\n",
    "#     ee.Feature(secundario),\n",
    "#     ee.Feature(sombra),\n",
    "#     ee.Feature(suelo),    \n",
    "# ])\n"
   ]
  },
  {
   "cell_type": "code",
   "execution_count": 31,
   "id": "696742ae",
   "metadata": {
    "ExecuteTime": {
     "end_time": "2021-09-09T16:30:30.161400Z",
     "start_time": "2021-09-09T16:30:30.158208Z"
    }
   },
   "outputs": [
    {
     "data": {
      "text/plain": [
       "'../Data/shapes/roi_merged.shp'"
      ]
     },
     "execution_count": 31,
     "metadata": {},
     "output_type": "execute_result"
    }
   ],
   "source": [
    "merged_shp"
   ]
  },
  {
   "cell_type": "code",
   "execution_count": 32,
   "id": "76339414",
   "metadata": {
    "ExecuteTime": {
     "end_time": "2021-09-09T16:30:30.163997Z",
     "start_time": "2021-09-09T16:30:30.162370Z"
    },
    "scrolled": true
   },
   "outputs": [],
   "source": [
    "dataset = greenest.sampleRegions(**{\n",
    "    'collection': merged,\n",
    "    'properties': ['ID'],\n",
    "    'scale' : 30 ,\n",
    "})"
   ]
  },
  {
   "cell_type": "code",
   "execution_count": 33,
   "id": "ea580180",
   "metadata": {
    "ExecuteTime": {
     "end_time": "2021-09-09T16:30:39.030654Z",
     "start_time": "2021-09-09T16:30:30.164896Z"
    }
   },
   "outputs": [
    {
     "ename": "EEException",
     "evalue": "User memory limit exceeded.",
     "output_type": "error",
     "traceback": [
      "\u001b[0;31m---------------------------------------------------------------------------\u001b[0m",
      "\u001b[0;31mHttpError\u001b[0m                                 Traceback (most recent call last)",
      "\u001b[0;32m~/anaconda3/envs/gee/lib/python3.8/site-packages/ee/data.py\u001b[0m in \u001b[0;36m_execute_cloud_call\u001b[0;34m(call, num_retries)\u001b[0m\n\u001b[1;32m    333\u001b[0m   \u001b[0;32mtry\u001b[0m\u001b[0;34m:\u001b[0m\u001b[0;34m\u001b[0m\u001b[0;34m\u001b[0m\u001b[0m\n\u001b[0;32m--> 334\u001b[0;31m     \u001b[0;32mreturn\u001b[0m \u001b[0mcall\u001b[0m\u001b[0;34m.\u001b[0m\u001b[0mexecute\u001b[0m\u001b[0;34m(\u001b[0m\u001b[0mnum_retries\u001b[0m\u001b[0;34m=\u001b[0m\u001b[0mnum_retries\u001b[0m\u001b[0;34m)\u001b[0m\u001b[0;34m\u001b[0m\u001b[0;34m\u001b[0m\u001b[0m\n\u001b[0m\u001b[1;32m    335\u001b[0m   \u001b[0;32mexcept\u001b[0m \u001b[0mgoogleapiclient\u001b[0m\u001b[0;34m.\u001b[0m\u001b[0merrors\u001b[0m\u001b[0;34m.\u001b[0m\u001b[0mHttpError\u001b[0m \u001b[0;32mas\u001b[0m \u001b[0me\u001b[0m\u001b[0;34m:\u001b[0m\u001b[0;34m\u001b[0m\u001b[0;34m\u001b[0m\u001b[0m\n",
      "\u001b[0;32m~/anaconda3/envs/gee/lib/python3.8/site-packages/googleapiclient/_helpers.py\u001b[0m in \u001b[0;36mpositional_wrapper\u001b[0;34m(*args, **kwargs)\u001b[0m\n\u001b[1;32m    133\u001b[0m                     \u001b[0mlogger\u001b[0m\u001b[0;34m.\u001b[0m\u001b[0mwarning\u001b[0m\u001b[0;34m(\u001b[0m\u001b[0mmessage\u001b[0m\u001b[0;34m)\u001b[0m\u001b[0;34m\u001b[0m\u001b[0;34m\u001b[0m\u001b[0m\n\u001b[0;32m--> 134\u001b[0;31m             \u001b[0;32mreturn\u001b[0m \u001b[0mwrapped\u001b[0m\u001b[0;34m(\u001b[0m\u001b[0;34m*\u001b[0m\u001b[0margs\u001b[0m\u001b[0;34m,\u001b[0m \u001b[0;34m**\u001b[0m\u001b[0mkwargs\u001b[0m\u001b[0;34m)\u001b[0m\u001b[0;34m\u001b[0m\u001b[0;34m\u001b[0m\u001b[0m\n\u001b[0m\u001b[1;32m    135\u001b[0m \u001b[0;34m\u001b[0m\u001b[0m\n",
      "\u001b[0;32m~/anaconda3/envs/gee/lib/python3.8/site-packages/googleapiclient/http.py\u001b[0m in \u001b[0;36mexecute\u001b[0;34m(self, http, num_retries)\u001b[0m\n\u001b[1;32m    914\u001b[0m         \u001b[0;32mif\u001b[0m \u001b[0mresp\u001b[0m\u001b[0;34m.\u001b[0m\u001b[0mstatus\u001b[0m \u001b[0;34m>=\u001b[0m \u001b[0;36m300\u001b[0m\u001b[0;34m:\u001b[0m\u001b[0;34m\u001b[0m\u001b[0;34m\u001b[0m\u001b[0m\n\u001b[0;32m--> 915\u001b[0;31m             \u001b[0;32mraise\u001b[0m \u001b[0mHttpError\u001b[0m\u001b[0;34m(\u001b[0m\u001b[0mresp\u001b[0m\u001b[0;34m,\u001b[0m \u001b[0mcontent\u001b[0m\u001b[0;34m,\u001b[0m \u001b[0muri\u001b[0m\u001b[0;34m=\u001b[0m\u001b[0mself\u001b[0m\u001b[0;34m.\u001b[0m\u001b[0muri\u001b[0m\u001b[0;34m)\u001b[0m\u001b[0;34m\u001b[0m\u001b[0;34m\u001b[0m\u001b[0m\n\u001b[0m\u001b[1;32m    916\u001b[0m         \u001b[0;32mreturn\u001b[0m \u001b[0mself\u001b[0m\u001b[0;34m.\u001b[0m\u001b[0mpostproc\u001b[0m\u001b[0;34m(\u001b[0m\u001b[0mresp\u001b[0m\u001b[0;34m,\u001b[0m \u001b[0mcontent\u001b[0m\u001b[0;34m)\u001b[0m\u001b[0;34m\u001b[0m\u001b[0;34m\u001b[0m\u001b[0m\n",
      "\u001b[0;31mHttpError\u001b[0m: <HttpError 400 when requesting https://earthengine.googleapis.com/v1alpha/projects/earthengine-legacy/value:compute?prettyPrint=false&alt=json returned \"User memory limit exceeded.\". Details: \"User memory limit exceeded.\">",
      "\nDuring handling of the above exception, another exception occurred:\n",
      "\u001b[0;31mEEException\u001b[0m                               Traceback (most recent call last)",
      "\u001b[0;32m/tmp/ipykernel_1267/88303450.py\u001b[0m in \u001b[0;36m<module>\u001b[0;34m\u001b[0m\n\u001b[0;32m----> 1\u001b[0;31m \u001b[0mdataset\u001b[0m\u001b[0;34m.\u001b[0m\u001b[0msize\u001b[0m\u001b[0;34m(\u001b[0m\u001b[0;34m)\u001b[0m\u001b[0;34m.\u001b[0m\u001b[0mgetInfo\u001b[0m\u001b[0;34m(\u001b[0m\u001b[0;34m)\u001b[0m\u001b[0;34m\u001b[0m\u001b[0;34m\u001b[0m\u001b[0m\n\u001b[0m",
      "\u001b[0;32m~/anaconda3/envs/gee/lib/python3.8/site-packages/ee/computedobject.py\u001b[0m in \u001b[0;36mgetInfo\u001b[0;34m(self)\u001b[0m\n\u001b[1;32m     96\u001b[0m       \u001b[0mThe\u001b[0m \u001b[0mobject\u001b[0m \u001b[0mcan\u001b[0m \u001b[0mevaluate\u001b[0m \u001b[0mto\u001b[0m \u001b[0manything\u001b[0m\u001b[0;34m.\u001b[0m\u001b[0;34m\u001b[0m\u001b[0;34m\u001b[0m\u001b[0m\n\u001b[1;32m     97\u001b[0m     \"\"\"\n\u001b[0;32m---> 98\u001b[0;31m     \u001b[0;32mreturn\u001b[0m \u001b[0mdata\u001b[0m\u001b[0;34m.\u001b[0m\u001b[0mcomputeValue\u001b[0m\u001b[0;34m(\u001b[0m\u001b[0mself\u001b[0m\u001b[0;34m)\u001b[0m\u001b[0;34m\u001b[0m\u001b[0;34m\u001b[0m\u001b[0m\n\u001b[0m\u001b[1;32m     99\u001b[0m \u001b[0;34m\u001b[0m\u001b[0m\n\u001b[1;32m    100\u001b[0m   \u001b[0;32mdef\u001b[0m \u001b[0mencode\u001b[0m\u001b[0;34m(\u001b[0m\u001b[0mself\u001b[0m\u001b[0;34m,\u001b[0m \u001b[0mencoder\u001b[0m\u001b[0;34m)\u001b[0m\u001b[0;34m:\u001b[0m\u001b[0;34m\u001b[0m\u001b[0;34m\u001b[0m\u001b[0m\n",
      "\u001b[0;32m~/anaconda3/envs/gee/lib/python3.8/site-packages/ee/data.py\u001b[0m in \u001b[0;36mcomputeValue\u001b[0;34m(obj)\u001b[0m\n\u001b[1;32m    670\u001b[0m     \u001b[0mThe\u001b[0m \u001b[0mresult\u001b[0m \u001b[0mof\u001b[0m \u001b[0mevaluating\u001b[0m \u001b[0mthat\u001b[0m \u001b[0mobject\u001b[0m \u001b[0mon\u001b[0m \u001b[0mthe\u001b[0m \u001b[0mserver\u001b[0m\u001b[0;34m.\u001b[0m\u001b[0;34m\u001b[0m\u001b[0;34m\u001b[0m\u001b[0m\n\u001b[1;32m    671\u001b[0m   \"\"\"\n\u001b[0;32m--> 672\u001b[0;31m   return _execute_cloud_call(\n\u001b[0m\u001b[1;32m    673\u001b[0m       _get_cloud_api_resource().projects().value().compute(\n\u001b[1;32m    674\u001b[0m           \u001b[0mbody\u001b[0m\u001b[0;34m=\u001b[0m\u001b[0;34m{\u001b[0m\u001b[0;34m'expression'\u001b[0m\u001b[0;34m:\u001b[0m \u001b[0mserializer\u001b[0m\u001b[0;34m.\u001b[0m\u001b[0mencode\u001b[0m\u001b[0;34m(\u001b[0m\u001b[0mobj\u001b[0m\u001b[0;34m,\u001b[0m \u001b[0mfor_cloud_api\u001b[0m\u001b[0;34m=\u001b[0m\u001b[0;32mTrue\u001b[0m\u001b[0;34m)\u001b[0m\u001b[0;34m}\u001b[0m\u001b[0;34m,\u001b[0m\u001b[0;34m\u001b[0m\u001b[0;34m\u001b[0m\u001b[0m\n",
      "\u001b[0;32m~/anaconda3/envs/gee/lib/python3.8/site-packages/ee/data.py\u001b[0m in \u001b[0;36m_execute_cloud_call\u001b[0;34m(call, num_retries)\u001b[0m\n\u001b[1;32m    334\u001b[0m     \u001b[0;32mreturn\u001b[0m \u001b[0mcall\u001b[0m\u001b[0;34m.\u001b[0m\u001b[0mexecute\u001b[0m\u001b[0;34m(\u001b[0m\u001b[0mnum_retries\u001b[0m\u001b[0;34m=\u001b[0m\u001b[0mnum_retries\u001b[0m\u001b[0;34m)\u001b[0m\u001b[0;34m\u001b[0m\u001b[0;34m\u001b[0m\u001b[0m\n\u001b[1;32m    335\u001b[0m   \u001b[0;32mexcept\u001b[0m \u001b[0mgoogleapiclient\u001b[0m\u001b[0;34m.\u001b[0m\u001b[0merrors\u001b[0m\u001b[0;34m.\u001b[0m\u001b[0mHttpError\u001b[0m \u001b[0;32mas\u001b[0m \u001b[0me\u001b[0m\u001b[0;34m:\u001b[0m\u001b[0;34m\u001b[0m\u001b[0;34m\u001b[0m\u001b[0m\n\u001b[0;32m--> 336\u001b[0;31m     \u001b[0;32mraise\u001b[0m \u001b[0m_translate_cloud_exception\u001b[0m\u001b[0;34m(\u001b[0m\u001b[0me\u001b[0m\u001b[0;34m)\u001b[0m\u001b[0;34m\u001b[0m\u001b[0;34m\u001b[0m\u001b[0m\n\u001b[0m\u001b[1;32m    337\u001b[0m \u001b[0;34m\u001b[0m\u001b[0m\n\u001b[1;32m    338\u001b[0m \u001b[0;34m\u001b[0m\u001b[0m\n",
      "\u001b[0;31mEEException\u001b[0m: User memory limit exceeded."
     ]
    }
   ],
   "source": [
    "dataset.size().getInfo()"
   ]
  },
  {
   "cell_type": "code",
   "execution_count": null,
   "id": "42a44c4f",
   "metadata": {
    "ExecuteTime": {
     "end_time": "2021-09-09T16:30:39.034171Z",
     "start_time": "2021-09-09T16:30:39.034164Z"
    }
   },
   "outputs": [],
   "source": [
    "print(dataset.first().getInfo())"
   ]
  },
  {
   "cell_type": "code",
   "execution_count": null,
   "id": "another-dubai",
   "metadata": {
    "ExecuteTime": {
     "end_time": "2021-09-09T16:30:39.035202Z",
     "start_time": "2021-09-09T16:30:39.035184Z"
    }
   },
   "outputs": [],
   "source": [
    "# Guardamos las bandas\n",
    "bands = ['B1',\n",
    " 'B2',\n",
    " 'B3',\n",
    " 'B4',\n",
    " 'B5',\n",
    " 'B6',\n",
    " 'B7',\n",
    " 'B8',\n",
    " 'B9',\n",
    " 'B10',\n",
    " 'B11',\n",
    " 'BQA',\n",
    " 'NDVI',\n",
    " 'date',\n",
    " 'month',\n",
    " 'doy']\n",
    "\n",
    "# Esta propiedad guarda las clases de landcover\n",
    "label = 'ID'\n",
    "\n",
    "# Overlay the points on the imagery to get training.\n",
    "# sample = mosaico.select(bands).sampleRegions(**{\n",
    "#   'collection': dataset,\n",
    "#   'properties': ['RF'],\n",
    "#   'scale': 30\n",
    "# })\n",
    "\n",
    "# Adds a column of deterministic pseudorandom numbers. \n",
    "# sample = dataset.randomColumn()\n",
    "\n",
    "# split = 0.7 \n",
    "\n",
    "# training = sample.filter(ee.Filter.lt('random', split))\n",
    "# validation = sample.filter(ee.Filter.gte('random', split))"
   ]
  },
  {
   "cell_type": "code",
   "execution_count": null,
   "id": "13b91725",
   "metadata": {
    "ExecuteTime": {
     "end_time": "2021-09-09T16:30:39.036216Z",
     "start_time": "2021-09-09T16:30:39.036203Z"
    }
   },
   "outputs": [],
   "source": [
    "# print(training.first().getInfo())"
   ]
  },
  {
   "cell_type": "code",
   "execution_count": null,
   "id": "eb79f472",
   "metadata": {
    "ExecuteTime": {
     "end_time": "2021-09-09T16:30:39.037052Z",
     "start_time": "2021-09-09T16:30:39.037043Z"
    }
   },
   "outputs": [],
   "source": [
    "# print(validation.first().getInfo())"
   ]
  },
  {
   "cell_type": "code",
   "execution_count": null,
   "id": "ba74718f",
   "metadata": {
    "ExecuteTime": {
     "end_time": "2021-09-09T16:30:39.038006Z",
     "start_time": "2021-09-09T16:30:39.037994Z"
    }
   },
   "outputs": [],
   "source": [
    "classifier = ee.Classifier.smileRandomForest(100).train(dataset, label, bands)"
   ]
  },
  {
   "cell_type": "code",
   "execution_count": null,
   "id": "f3581c1a",
   "metadata": {
    "ExecuteTime": {
     "end_time": "2021-09-09T16:30:39.038680Z",
     "start_time": "2021-09-09T16:30:39.038668Z"
    }
   },
   "outputs": [],
   "source": [
    "# Clasificando con las mismas bandas de entrenamiento\n",
    "result = greenest.select(bands).classify(classifier)\n",
    "\n",
    "# # Display the clusters with random colors.\n",
    "Map.addLayer(result.randomVisualizer(), {}, 'classificado')\n",
    "Map"
   ]
  },
  {
   "cell_type": "code",
   "execution_count": null,
   "id": "19bfc50d",
   "metadata": {
    "ExecuteTime": {
     "end_time": "2021-09-09T16:30:39.039571Z",
     "start_time": "2021-09-09T16:30:39.039562Z"
    }
   },
   "outputs": [],
   "source": [
    "result.getInfo()"
   ]
  },
  {
   "cell_type": "code",
   "execution_count": null,
   "id": "2f9ff9f4",
   "metadata": {
    "ExecuteTime": {
     "end_time": "2021-09-09T16:30:39.040189Z",
     "start_time": "2021-09-09T16:30:39.040181Z"
    }
   },
   "outputs": [],
   "source": [
    "class_values = [1,2,3,4,5,6,7,8,9,10,11,12,13,14,15,16,17,18\n",
    "    ]"
   ]
  },
  {
   "cell_type": "code",
   "execution_count": null,
   "id": "bf9f0f78",
   "metadata": {
    "ExecuteTime": {
     "end_time": "2021-09-09T16:30:39.040776Z",
     "start_time": "2021-09-09T16:30:39.040769Z"
    }
   },
   "outputs": [],
   "source": [
    "class_palette = ['22c129',\n",
    " 'f0ff00',\n",
    " '0c40f1',\n",
    " '685205',\n",
    " '0d4404',\n",
    " 'e82d13',\n",
    " 'f99504',\n",
    " '17d4c6',\n",
    " '1c6330',\n",
    " '24ff00',\n",
    " '2de50f',\n",
    " 'ccba7d',\n",
    " 'dec61a',\n",
    " '28d909',\n",
    " '03c2ff',\n",
    " '4e8c44',\n",
    " 'fdfdfd',\n",
    " 'c0c233'\n",
    "]"
   ]
  },
  {
   "cell_type": "code",
   "execution_count": null,
   "id": "69b62656",
   "metadata": {
    "ExecuteTime": {
     "end_time": "2021-09-09T16:30:39.041524Z",
     "start_time": "2021-09-09T16:30:39.041516Z"
    }
   },
   "outputs": [],
   "source": [
    "land = result.set('classification_class_values', class_values)\n",
    "landcoverf = land.set('classification_class_palette', class_palette)"
   ]
  },
  {
   "cell_type": "code",
   "execution_count": null,
   "id": "22f87ea4",
   "metadata": {
    "ExecuteTime": {
     "end_time": "2021-09-09T16:30:39.042166Z",
     "start_time": "2021-09-09T16:30:39.042158Z"
    }
   },
   "outputs": [],
   "source": [
    "Map.addLayer(landcoverf, {}, 'Land cover Random Forest Región')\n",
    "legend_dict = {\n",
    "    '01 Achaparrado': '22c129',\n",
    "    '02 Agrícola': 'f0ff00',\n",
    "    '03 Agua': '0c40f1',\n",
    "    '04 Arenal o Roca': '685205',\n",
    "    '05 Bosque Degradado': '0d4404',\n",
    "    '06 Cuncunas': 'e82d13',\n",
    "    '07 Estepa': 'f99504',\n",
    "    '08 Humedal': '17d4c6',\n",
    "    '09 Mallin': '1c6330',\n",
    "    '10 Matorral abierto': '24ff00',\n",
    "    '11 Matorral denso': '2de50f',\n",
    "    '12 Plantaciones': 'ccba7d',\n",
    "    '13 Praderas': 'dec61a',\n",
    "    '14 Primario': '28d909',\n",
    "    '15 Ríos': '03c2ff',\n",
    "    '16 Secundario': '4e8c44',\n",
    "    '17 Sombra topo': 'fdfdfd',\n",
    "    '18 Suelo desnudo': 'c0c233'\n",
    "}\n",
    "Map.add_legend(legend_title=\"Random Forest Patagonia\", legend_dict=legend_dict)\n",
    "Map"
   ]
  },
  {
   "cell_type": "code",
   "execution_count": null,
   "id": "299a227d",
   "metadata": {
    "ExecuteTime": {
     "end_time": "2021-09-09T16:30:39.042803Z",
     "start_time": "2021-09-09T16:30:39.042795Z"
    }
   },
   "outputs": [],
   "source": [
    "# train_accuracy = classifier.confusionMatrix()"
   ]
  },
  {
   "cell_type": "code",
   "execution_count": null,
   "id": "611c9899",
   "metadata": {
    "ExecuteTime": {
     "end_time": "2021-09-09T16:30:39.043468Z",
     "start_time": "2021-09-09T16:30:39.043459Z"
    }
   },
   "outputs": [],
   "source": [
    "# train_accuracy.getInfo()"
   ]
  },
  {
   "cell_type": "code",
   "execution_count": null,
   "id": "c1693f22",
   "metadata": {
    "ExecuteTime": {
     "end_time": "2021-09-09T16:30:39.044082Z",
     "start_time": "2021-09-09T16:30:39.044073Z"
    }
   },
   "outputs": [],
   "source": [
    "# train_accuracy.accuracy().getInfo()"
   ]
  },
  {
   "cell_type": "code",
   "execution_count": null,
   "id": "410b951b",
   "metadata": {
    "ExecuteTime": {
     "end_time": "2021-09-09T16:30:39.044740Z",
     "start_time": "2021-09-09T16:30:39.044724Z"
    }
   },
   "outputs": [],
   "source": [
    "# train_accuracy.kappa().getInfo()"
   ]
  },
  {
   "cell_type": "code",
   "execution_count": null,
   "id": "2b29f647",
   "metadata": {
    "ExecuteTime": {
     "end_time": "2021-09-09T16:30:39.045625Z",
     "start_time": "2021-09-09T16:30:39.045615Z"
    }
   },
   "outputs": [],
   "source": [
    "# train_accuracy.producersAccuracy().getInfo()"
   ]
  },
  {
   "cell_type": "code",
   "execution_count": null,
   "id": "32bbd6be",
   "metadata": {
    "ExecuteTime": {
     "end_time": "2021-09-09T16:30:39.046259Z",
     "start_time": "2021-09-09T16:30:39.046251Z"
    }
   },
   "outputs": [],
   "source": [
    "# train_accuracy.consumersAccuracy().getInfo()"
   ]
  },
  {
   "cell_type": "code",
   "execution_count": null,
   "id": "ec4e2627",
   "metadata": {
    "ExecuteTime": {
     "end_time": "2021-09-09T16:30:39.046887Z",
     "start_time": "2021-09-09T16:30:39.046880Z"
    }
   },
   "outputs": [],
   "source": [
    "# validacion = datasetval.classify(classifier)"
   ]
  },
  {
   "cell_type": "code",
   "execution_count": null,
   "id": "511f36f3",
   "metadata": {
    "ExecuteTime": {
     "end_time": "2021-09-09T16:30:39.047588Z",
     "start_time": "2021-09-09T16:30:39.047579Z"
    }
   },
   "outputs": [],
   "source": [
    "# testAccuracy = validacion.errorMatrix('ID', 'classification')"
   ]
  },
  {
   "cell_type": "code",
   "execution_count": null,
   "id": "733c4428",
   "metadata": {
    "ExecuteTime": {
     "end_time": "2021-09-09T16:30:39.048134Z",
     "start_time": "2021-09-09T16:30:39.048127Z"
    }
   },
   "outputs": [],
   "source": [
    "# testAccuracy.accuracy().getInfo()"
   ]
  },
  {
   "cell_type": "code",
   "execution_count": null,
   "id": "707c5287",
   "metadata": {
    "ExecuteTime": {
     "end_time": "2021-09-09T16:30:39.048846Z",
     "start_time": "2021-09-09T16:30:39.048838Z"
    }
   },
   "outputs": [],
   "source": [
    "# testAccuracy.getInfo()"
   ]
  },
  {
   "cell_type": "code",
   "execution_count": null,
   "id": "2be76587",
   "metadata": {},
   "outputs": [],
   "source": []
  }
 ],
 "metadata": {
  "kernelspec": {
   "display_name": "Python 3 (ipykernel)",
   "language": "python",
   "name": "python3"
  },
  "language_info": {
   "codemirror_mode": {
    "name": "ipython",
    "version": 3
   },
   "file_extension": ".py",
   "mimetype": "text/x-python",
   "name": "python",
   "nbconvert_exporter": "python",
   "pygments_lexer": "ipython3",
   "version": "3.8.11"
  },
  "toc": {
   "base_numbering": 1,
   "nav_menu": {},
   "number_sections": true,
   "sideBar": true,
   "skip_h1_title": false,
   "title_cell": "Table of Contents",
   "title_sidebar": "Contents",
   "toc_cell": false,
   "toc_position": {},
   "toc_section_display": true,
   "toc_window_display": false
  },
  "varInspector": {
   "cols": {
    "lenName": 16,
    "lenType": 16,
    "lenVar": 40
   },
   "kernels_config": {
    "python": {
     "delete_cmd_postfix": "",
     "delete_cmd_prefix": "del ",
     "library": "var_list.py",
     "varRefreshCmd": "print(var_dic_list())"
    },
    "r": {
     "delete_cmd_postfix": ") ",
     "delete_cmd_prefix": "rm(",
     "library": "var_list.r",
     "varRefreshCmd": "cat(var_dic_list()) "
    }
   },
   "types_to_exclude": [
    "module",
    "function",
    "builtin_function_or_method",
    "instance",
    "_Feature"
   ],
   "window_display": false
  }
 },
 "nbformat": 4,
 "nbformat_minor": 5
}
