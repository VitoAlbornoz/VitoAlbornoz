{
 "cells": [
  {
   "cell_type": "code",
   "execution_count": 1,
   "id": "joined-delicious",
   "metadata": {
    "ExecuteTime": {
     "end_time": "2021-09-09T16:19:53.132003Z",
     "start_time": "2021-09-09T16:19:52.728840Z"
    }
   },
   "outputs": [],
   "source": [
    "import ee\n",
    "import geemap\n",
    "import os\n"
   ]
  },
  {
   "cell_type": "code",
   "execution_count": 2,
   "id": "26676695",
   "metadata": {
    "ExecuteTime": {
     "end_time": "2021-09-09T16:19:53.134504Z",
     "start_time": "2021-09-09T16:19:53.132940Z"
    }
   },
   "outputs": [],
   "source": [
    "# geemap.update_package()"
   ]
  },
  {
   "cell_type": "code",
   "execution_count": 3,
   "id": "departmental-bridal",
   "metadata": {
    "ExecuteTime": {
     "end_time": "2021-09-09T16:20:01.647049Z",
     "start_time": "2021-09-09T16:19:53.135386Z"
    }
   },
   "outputs": [],
   "source": [
    "Map = geemap.Map()\n"
   ]
  },
  {
   "cell_type": "code",
   "execution_count": 4,
   "id": "adolescent-tsunami",
   "metadata": {
    "ExecuteTime": {
     "end_time": "2021-09-09T16:20:03.362012Z",
     "start_time": "2021-09-09T16:20:01.648107Z"
    }
   },
   "outputs": [
    {
     "data": {
      "application/vnd.jupyter.widget-view+json": {
       "model_id": "d6e50775a9044e71b1d419022dd1a2de",
       "version_major": 2,
       "version_minor": 0
      },
      "text/plain": [
       "Map(center=[40, -100], controls=(WidgetControl(options=['position', 'transparent_bg'], widget=HBox(children=(T…"
      ]
     },
     "metadata": {},
     "output_type": "display_data"
    }
   ],
   "source": [
    "mosaico = ee.Image(\"users/franciscoalbornoz/Mosaico_2018\")\n",
    "clasificacion_2018 = ee.Image(\"users/franciscoalbornoz/clasificacion_2018\")\n",
    "landcover_2018 = ee.Image(\"users/franciscoalbornoz/landcover_sur\")\n",
    "landsat_vis = {\n",
    "    'min': 0,\n",
    "    'max': 1,\n",
    "    'bands': ['b5', 'b4', 'b3']\n",
    "}\n",
    "Map.addLayer(mosaico, landsat_vis, \"Landsat-8-2018\")\n",
    "Map.addLayer(clasificacion_2018.randomVisualizer(), {}, \"clasificación 2018\")\n",
    "Map.addLayer(landcover_2018.randomVisualizer(), {} , \"landcover provincia\")\n",
    "Map"
   ]
  },
  {
   "cell_type": "code",
   "execution_count": 5,
   "id": "64caa9d6",
   "metadata": {
    "ExecuteTime": {
     "end_time": "2021-09-09T16:20:03.364812Z",
     "start_time": "2021-09-09T16:20:03.362910Z"
    }
   },
   "outputs": [],
   "source": [
    "class_palette = ['0c40f1', #1 agua*\n",
    " 'f0ff00', #2 cultivo*\n",
    " 'f99504', #3 estepa*\n",
    " '17d4c6', #4 humedal*\n",
    " '24ff00', #5 matorral abierto*\n",
    " '2de50f', #6 matorral arborescente*\n",
    " 'ccba7d', #7 plantaciones*\n",
    " 'dec61a', #8 praderas*\n",
    " '28d909', #9 primario*\n",
    " '4e8c44', #10 secundario*\n",
    " '685205', #11 suelo desnudo*\n",
    "\n",
    "]"
   ]
  },
  {
   "cell_type": "code",
   "execution_count": 6,
   "id": "1c6f360c",
   "metadata": {
    "ExecuteTime": {
     "end_time": "2021-09-09T16:20:03.371354Z",
     "start_time": "2021-09-09T16:20:03.365749Z"
    }
   },
   "outputs": [],
   "source": [
    "class_values = [1,2,3,4,5,6,7,8,9,10,11\n",
    "    ]"
   ]
  },
  {
   "cell_type": "code",
   "execution_count": 7,
   "id": "b1bc1b47",
   "metadata": {
    "ExecuteTime": {
     "end_time": "2021-09-09T16:20:03.739156Z",
     "start_time": "2021-09-09T16:20:03.372484Z"
    }
   },
   "outputs": [
    {
     "data": {
      "text/plain": [
       "['b1']"
      ]
     },
     "execution_count": 7,
     "metadata": {},
     "output_type": "execute_result"
    }
   ],
   "source": [
    "landcover_2018.bandNames().getInfo()"
   ]
  },
  {
   "cell_type": "code",
   "execution_count": 8,
   "id": "73c2d58e",
   "metadata": {
    "ExecuteTime": {
     "end_time": "2021-09-09T16:20:04.321325Z",
     "start_time": "2021-09-09T16:20:03.740058Z"
    }
   },
   "outputs": [
    {
     "data": {
      "text/plain": [
       "{'b1': {'type': 'PixelType', 'precision': 'int', 'min': 0, 'max': 255}}"
      ]
     },
     "execution_count": 8,
     "metadata": {},
     "output_type": "execute_result"
    }
   ],
   "source": [
    "clasificacion_2018.bandTypes().getInfo()\n"
   ]
  },
  {
   "cell_type": "code",
   "execution_count": 9,
   "id": "d594385c",
   "metadata": {
    "ExecuteTime": {
     "end_time": "2021-09-09T16:20:04.324151Z",
     "start_time": "2021-09-09T16:20:04.322540Z"
    }
   },
   "outputs": [],
   "source": [
    "# land2018 = landcover_2018.set('classification_class_values', class_values)\n",
    "# land2018f = land2018.set('classification_class_palette', class_palette)"
   ]
  },
  {
   "cell_type": "code",
   "execution_count": 10,
   "id": "0946b20e",
   "metadata": {
    "ExecuteTime": {
     "end_time": "2021-09-09T16:20:04.329631Z",
     "start_time": "2021-09-09T16:20:04.326512Z"
    }
   },
   "outputs": [],
   "source": [
    "# class2018 = clasificacion_2018.set('classification_class_values', class_values)\n",
    "# class2018f = class2018.set('classification_class_palette', class_palette)"
   ]
  },
  {
   "cell_type": "code",
   "execution_count": 11,
   "id": "2257a2dd",
   "metadata": {
    "ExecuteTime": {
     "end_time": "2021-09-09T16:20:04.334641Z",
     "start_time": "2021-09-09T16:20:04.330846Z"
    }
   },
   "outputs": [],
   "source": [
    "# Map.addLayer(land2018f, {}, 'landcover_prov_coyhaique' )\n",
    "# Map.addLayer(class2018f,{},'clasificacion 2018')"
   ]
  },
  {
   "cell_type": "code",
   "execution_count": 12,
   "id": "2f97f3a9",
   "metadata": {
    "ExecuteTime": {
     "end_time": "2021-09-09T16:20:04.536828Z",
     "start_time": "2021-09-09T16:20:04.335827Z"
    }
   },
   "outputs": [
    {
     "data": {
      "text/plain": [
       "['b1', 'b2', 'b3', 'b4', 'b5', 'b6', 'b7', 'b8', 'b9']"
      ]
     },
     "execution_count": 12,
     "metadata": {},
     "output_type": "execute_result"
    }
   ],
   "source": [
    "mosaico.bandNames().getInfo()"
   ]
  },
  {
   "cell_type": "code",
   "execution_count": 13,
   "id": "flush-raleigh",
   "metadata": {
    "ExecuteTime": {
     "end_time": "2021-09-09T16:20:04.539795Z",
     "start_time": "2021-09-09T16:20:04.537794Z"
    }
   },
   "outputs": [],
   "source": [
    "work_dir = os.path.expanduser('../Data/shapes/')\n",
    "\n",
    "merged_shp = os.path.join(work_dir, 'roi_h.shp')\n",
    "val_shp= os.path.join(work_dir, 'puntos_validacion.shp')"
   ]
  },
  {
   "cell_type": "code",
   "execution_count": 14,
   "id": "340bcd66",
   "metadata": {
    "ExecuteTime": {
     "end_time": "2021-09-09T16:20:09.393440Z",
     "start_time": "2021-09-09T16:20:04.540841Z"
    }
   },
   "outputs": [],
   "source": [
    "merged = geemap.shp_to_ee(merged_shp)\n",
    "Map.addLayer(merged, {}, 'Áreas de entrenamiento')"
   ]
  },
  {
   "cell_type": "code",
   "execution_count": 15,
   "id": "8fbc884e",
   "metadata": {
    "ExecuteTime": {
     "end_time": "2021-09-09T16:20:16.505361Z",
     "start_time": "2021-09-09T16:20:09.394628Z"
    }
   },
   "outputs": [],
   "source": [
    "val = geemap.shp_to_ee(val_shp)\n",
    "Map.addLayer(val, {}, 'Áreas de Validación')"
   ]
  },
  {
   "cell_type": "code",
   "execution_count": 16,
   "id": "4b1b2441",
   "metadata": {
    "ExecuteTime": {
     "end_time": "2021-09-09T16:20:16.508379Z",
     "start_time": "2021-09-09T16:20:16.506286Z"
    }
   },
   "outputs": [],
   "source": [
    "dataset = mosaico.sampleRegions(**{\n",
    "    'collection': merged,\n",
    "    'properties': ['IDH'],\n",
    "    'scale' : 30 ,\n",
    "})"
   ]
  },
  {
   "cell_type": "code",
   "execution_count": 17,
   "id": "b430ff45",
   "metadata": {
    "ExecuteTime": {
     "end_time": "2021-09-09T16:20:16.514892Z",
     "start_time": "2021-09-09T16:20:16.509312Z"
    }
   },
   "outputs": [],
   "source": [
    "datasetval = mosaico.sampleRegions(**{\n",
    "    'collection': val,\n",
    "    'properties': ['IDH'],\n",
    "    'scale': 30,\n",
    "})"
   ]
  },
  {
   "cell_type": "code",
   "execution_count": 18,
   "id": "89c1b5bc",
   "metadata": {
    "ExecuteTime": {
     "end_time": "2021-09-09T16:20:20.826929Z",
     "start_time": "2021-09-09T16:20:16.515898Z"
    }
   },
   "outputs": [
    {
     "name": "stdout",
     "output_type": "stream",
     "text": [
      "14099\n"
     ]
    }
   ],
   "source": [
    "print(dataset.size().getInfo())"
   ]
  },
  {
   "cell_type": "code",
   "execution_count": 19,
   "id": "454867f7",
   "metadata": {
    "ExecuteTime": {
     "end_time": "2021-09-09T16:20:31.466630Z",
     "start_time": "2021-09-09T16:20:20.827867Z"
    }
   },
   "outputs": [
    {
     "name": "stdout",
     "output_type": "stream",
     "text": [
      "316\n"
     ]
    }
   ],
   "source": [
    "print(datasetval.size().getInfo())"
   ]
  },
  {
   "cell_type": "code",
   "execution_count": 20,
   "id": "ea580180",
   "metadata": {
    "ExecuteTime": {
     "end_time": "2021-09-09T16:20:35.502342Z",
     "start_time": "2021-09-09T16:20:31.467772Z"
    }
   },
   "outputs": [
    {
     "data": {
      "text/plain": [
       "14099"
      ]
     },
     "execution_count": 20,
     "metadata": {},
     "output_type": "execute_result"
    }
   ],
   "source": [
    "dataset.size().getInfo()"
   ]
  },
  {
   "cell_type": "code",
   "execution_count": 21,
   "id": "42a44c4f",
   "metadata": {
    "ExecuteTime": {
     "end_time": "2021-09-09T16:20:39.955845Z",
     "start_time": "2021-09-09T16:20:35.503541Z"
    }
   },
   "outputs": [
    {
     "name": "stdout",
     "output_type": "stream",
     "text": [
      "{'type': 'Feature', 'geometry': None, 'id': '0_0', 'properties': {'IDH': 9, 'b1': 0.026168961077928543, 'b2': 0.04253531992435455, 'b3': 0.03470490872859955, 'b4': 0.33766427636146545, 'b5': 0.1495322287082672, 'b6': 0.06873124837875366, 'b7': 0.8135994672775269, 'b8': 0.7762474417686462, 'b9': 0.5209251642227173}}\n"
     ]
    }
   ],
   "source": [
    "print(dataset.first().getInfo())"
   ]
  },
  {
   "cell_type": "code",
   "execution_count": 22,
   "id": "another-dubai",
   "metadata": {
    "ExecuteTime": {
     "end_time": "2021-09-09T16:20:39.958952Z",
     "start_time": "2021-09-09T16:20:39.956810Z"
    }
   },
   "outputs": [],
   "source": [
    "# Guardamos las bandas\n",
    "bands = ['b1', 'b2', 'b3', 'b4', 'b5', 'b6', 'b7', 'b8', 'b9']\n",
    "\n",
    "# Esta propiedad guarda las clases de landcover\n",
    "label = 'IDH'\n",
    "\n",
    "# Overlay the points on the imagery to get training.\n",
    "# sample = mosaico.select(bands).sampleRegions(**{\n",
    "#   'collection': dataset,\n",
    "#   'properties': ['RF'],\n",
    "#   'scale': 30\n",
    "# })\n",
    "\n",
    "# Adds a column of deterministic pseudorandom numbers. \n",
    "# sample = dataset.randomColumn()\n",
    "\n",
    "# split = 0.7 \n",
    "\n",
    "# training = sample.filter(ee.Filter.lt('random', split))\n",
    "# validation = sample.filter(ee.Filter.gte('random', split))"
   ]
  },
  {
   "cell_type": "code",
   "execution_count": 23,
   "id": "13b91725",
   "metadata": {
    "ExecuteTime": {
     "end_time": "2021-09-09T16:20:39.961696Z",
     "start_time": "2021-09-09T16:20:39.960208Z"
    }
   },
   "outputs": [],
   "source": [
    "# print(training.first().getInfo())"
   ]
  },
  {
   "cell_type": "code",
   "execution_count": 24,
   "id": "eb79f472",
   "metadata": {
    "ExecuteTime": {
     "end_time": "2021-09-09T16:20:39.964503Z",
     "start_time": "2021-09-09T16:20:39.963172Z"
    }
   },
   "outputs": [],
   "source": [
    "# print(validation.first().getInfo())"
   ]
  },
  {
   "cell_type": "code",
   "execution_count": 25,
   "id": "ba74718f",
   "metadata": {
    "ExecuteTime": {
     "end_time": "2021-09-09T16:20:39.967138Z",
     "start_time": "2021-09-09T16:20:39.965561Z"
    }
   },
   "outputs": [],
   "source": [
    "classifier = ee.Classifier.smileRandomForest(10).train(dataset, label, bands)"
   ]
  },
  {
   "cell_type": "code",
   "execution_count": 26,
   "id": "f3581c1a",
   "metadata": {
    "ExecuteTime": {
     "end_time": "2021-09-09T16:20:39.969956Z",
     "start_time": "2021-09-09T16:20:39.968262Z"
    }
   },
   "outputs": [],
   "source": [
    "# Clasificando con las mismas bandas de entrenamiento\n",
    "result = mosaico.select(bands).classify(classifier)\n",
    "\n",
    "# # Display the clusters with random colors.\n",
    "# Map.addLayer(result.randomVisualizer(), {}, 'classificado')\n",
    "# Map"
   ]
  },
  {
   "cell_type": "code",
   "execution_count": 27,
   "id": "78eb7a54",
   "metadata": {
    "ExecuteTime": {
     "end_time": "2021-09-09T16:20:44.524649Z",
     "start_time": "2021-09-09T16:20:39.971027Z"
    }
   },
   "outputs": [
    {
     "data": {
      "text/plain": [
       "{'type': 'Image',\n",
       " 'bands': [{'id': 'classification',\n",
       "   'data_type': {'type': 'PixelType',\n",
       "    'precision': 'int',\n",
       "    'min': -2147483648,\n",
       "    'max': 2147483647},\n",
       "   'dimensions': [6083, 9750],\n",
       "   'crs': 'EPSG:32719',\n",
       "   'crs_transform': [30, 0, 179085, 0, -30, 5153095]}],\n",
       " 'properties': {'system:footprint': {'type': 'LinearRing',\n",
       "   'coordinates': [[-70.71978119886894, -43.7621302946721],\n",
       "    [-70.71984230426219, -43.762120959847216],\n",
       "    [-72.98275024455971, -43.70561719895318],\n",
       "    [-72.98292936081644, -43.70572079387638],\n",
       "    [-72.98313712829581, -43.705812701067146],\n",
       "    [-73.02744506941205, -44.362573403829224],\n",
       "    [-73.07328396187123, -45.01916085040947],\n",
       "    [-73.12072282029395, -45.67563442548405],\n",
       "    [-73.16983051350653, -46.331992631080205],\n",
       "    [-73.16968129990005, -46.33212249547371],\n",
       "    [-73.1695568677538, -46.33226430394552],\n",
       "    [-73.16949325899127, -46.33227507995767],\n",
       "    [-70.80072781794739, -46.3941742696168],\n",
       "    [-70.80054376625334, -46.39406743407541],\n",
       "    [-70.8003295159667, -46.39397167944718],\n",
       "    [-70.77906530990533, -45.73615680982198],\n",
       "    [-70.75852767129469, -45.078319626052654],\n",
       "    [-70.73868453021892, -44.420399274201614],\n",
       "    [-70.71950769735695, -43.76239603120268],\n",
       "    [-70.71965591186232, -43.7622693621061],\n",
       "    [-70.71978119886894, -43.7621302946721]]}}}"
      ]
     },
     "execution_count": 27,
     "metadata": {},
     "output_type": "execute_result"
    }
   ],
   "source": [
    "result.getInfo()"
   ]
  },
  {
   "cell_type": "code",
   "execution_count": 28,
   "id": "219aa64d",
   "metadata": {
    "ExecuteTime": {
     "end_time": "2021-09-09T16:20:44.529401Z",
     "start_time": "2021-09-09T16:20:44.527663Z"
    }
   },
   "outputs": [],
   "source": [
    "class_values = [1,2,3,4,5,6,7,8,9,10,11\n",
    "    ]"
   ]
  },
  {
   "cell_type": "code",
   "execution_count": 29,
   "id": "a1cb578b",
   "metadata": {
    "ExecuteTime": {
     "end_time": "2021-09-09T16:20:44.532439Z",
     "start_time": "2021-09-09T16:20:44.530311Z"
    }
   },
   "outputs": [],
   "source": [
    "land = result.set('classification_class_values', class_values)\n",
    "landcoverf = land.set('classification_class_palette', class_palette)"
   ]
  },
  {
   "cell_type": "code",
   "execution_count": 30,
   "id": "22f87ea4",
   "metadata": {
    "ExecuteTime": {
     "end_time": "2021-09-09T16:20:48.290838Z",
     "start_time": "2021-09-09T16:20:44.533441Z"
    }
   },
   "outputs": [
    {
     "data": {
      "application/vnd.jupyter.widget-view+json": {
       "model_id": "d6e50775a9044e71b1d419022dd1a2de",
       "version_major": 2,
       "version_minor": 0
      },
      "text/plain": [
       "Map(center=[40, -100], controls=(WidgetControl(options=['position', 'transparent_bg'], widget=HBox(children=(T…"
      ]
     },
     "metadata": {},
     "output_type": "display_data"
    }
   ],
   "source": [
    "Map.addLayer(landcoverf, {}, 'Land cover Random Forest')\n",
    "Map"
   ]
  },
  {
   "cell_type": "code",
   "execution_count": 31,
   "id": "299a227d",
   "metadata": {
    "ExecuteTime": {
     "end_time": "2021-09-09T16:20:48.293552Z",
     "start_time": "2021-09-09T16:20:48.291882Z"
    }
   },
   "outputs": [],
   "source": [
    "train_accuracy = classifier.confusionMatrix()"
   ]
  },
  {
   "cell_type": "code",
   "execution_count": 32,
   "id": "611c9899",
   "metadata": {
    "ExecuteTime": {
     "end_time": "2021-09-09T16:20:54.705617Z",
     "start_time": "2021-09-09T16:20:48.294412Z"
    }
   },
   "outputs": [
    {
     "data": {
      "text/plain": [
       "[[0, 0, 0, 0, 0, 0, 0, 0, 0, 0, 0, 0],\n",
       " [0, 3237, 0, 0, 0, 0, 0, 0, 0, 0, 0, 0],\n",
       " [0, 0, 806, 0, 0, 0, 0, 0, 0, 0, 0, 0],\n",
       " [0, 0, 0, 620, 0, 0, 0, 0, 0, 0, 0, 1],\n",
       " [0, 2, 0, 0, 133, 0, 0, 0, 0, 0, 0, 0],\n",
       " [0, 0, 0, 0, 0, 222, 0, 0, 0, 0, 0, 0],\n",
       " [0, 0, 0, 0, 0, 0, 158, 0, 0, 2, 2, 0],\n",
       " [0, 0, 0, 0, 0, 0, 0, 3098, 0, 0, 0, 0],\n",
       " [0, 0, 1, 0, 0, 0, 0, 0, 255, 0, 0, 2],\n",
       " [0, 0, 0, 0, 0, 1, 4, 0, 0, 1498, 3, 0],\n",
       " [0, 0, 0, 0, 0, 0, 3, 0, 0, 10, 1598, 0],\n",
       " [0, 0, 0, 2, 0, 0, 0, 0, 1, 0, 4, 2436]]"
      ]
     },
     "execution_count": 32,
     "metadata": {},
     "output_type": "execute_result"
    }
   ],
   "source": [
    "train_accuracy.getInfo()"
   ]
  },
  {
   "cell_type": "code",
   "execution_count": 33,
   "id": "c1693f22",
   "metadata": {
    "ExecuteTime": {
     "end_time": "2021-09-09T16:20:58.892603Z",
     "start_time": "2021-09-09T16:20:54.706614Z"
    }
   },
   "outputs": [
    {
     "data": {
      "text/plain": [
       "0.9973047733881836"
      ]
     },
     "execution_count": 33,
     "metadata": {},
     "output_type": "execute_result"
    }
   ],
   "source": [
    "train_accuracy.accuracy().getInfo()"
   ]
  },
  {
   "cell_type": "code",
   "execution_count": 34,
   "id": "410b951b",
   "metadata": {
    "ExecuteTime": {
     "end_time": "2021-09-09T16:21:03.074079Z",
     "start_time": "2021-09-09T16:20:58.893665Z"
    }
   },
   "outputs": [
    {
     "data": {
      "text/plain": [
       "0.9967857082283851"
      ]
     },
     "execution_count": 34,
     "metadata": {},
     "output_type": "execute_result"
    }
   ],
   "source": [
    "train_accuracy.kappa().getInfo()"
   ]
  },
  {
   "cell_type": "code",
   "execution_count": 35,
   "id": "2b29f647",
   "metadata": {
    "ExecuteTime": {
     "end_time": "2021-09-09T16:21:06.900257Z",
     "start_time": "2021-09-09T16:21:03.075023Z"
    }
   },
   "outputs": [
    {
     "data": {
      "text/plain": [
       "[[0],\n",
       " [1],\n",
       " [1],\n",
       " [0.998389694041868],\n",
       " [0.9851851851851852],\n",
       " [1],\n",
       " [0.9753086419753086],\n",
       " [1],\n",
       " [0.9883720930232558],\n",
       " [0.9946879150066401],\n",
       " [0.9919304779639975],\n",
       " [0.997134670487106]]"
      ]
     },
     "execution_count": 35,
     "metadata": {},
     "output_type": "execute_result"
    }
   ],
   "source": [
    "train_accuracy.producersAccuracy().getInfo()"
   ]
  },
  {
   "cell_type": "code",
   "execution_count": 36,
   "id": "32bbd6be",
   "metadata": {
    "ExecuteTime": {
     "end_time": "2021-09-09T16:21:11.052162Z",
     "start_time": "2021-09-09T16:21:06.901416Z"
    }
   },
   "outputs": [
    {
     "data": {
      "text/plain": [
       "[[0,\n",
       "  0.9993825254708243,\n",
       "  0.9987608426270136,\n",
       "  0.9967845659163987,\n",
       "  1,\n",
       "  0.9955156950672646,\n",
       "  0.9575757575757575,\n",
       "  1,\n",
       "  0.99609375,\n",
       "  0.9920529801324504,\n",
       "  0.9943995021779714,\n",
       "  0.998769987699877]]"
      ]
     },
     "execution_count": 36,
     "metadata": {},
     "output_type": "execute_result"
    }
   ],
   "source": [
    "train_accuracy.consumersAccuracy().getInfo()"
   ]
  },
  {
   "cell_type": "code",
   "execution_count": 37,
   "id": "ec4e2627",
   "metadata": {
    "ExecuteTime": {
     "end_time": "2021-09-09T16:21:11.054952Z",
     "start_time": "2021-09-09T16:21:11.053260Z"
    }
   },
   "outputs": [],
   "source": [
    "validated = datasetval.classify(classifier)"
   ]
  },
  {
   "cell_type": "code",
   "execution_count": 38,
   "id": "511f36f3",
   "metadata": {
    "ExecuteTime": {
     "end_time": "2021-09-09T16:21:21.845838Z",
     "start_time": "2021-09-09T16:21:11.056232Z"
    }
   },
   "outputs": [
    {
     "data": {
      "text/plain": [
       "{'type': 'Feature',\n",
       " 'geometry': None,\n",
       " 'id': '0_0',\n",
       " 'properties': {'IDH': 1,\n",
       "  'b1': 0.01979999989271164,\n",
       "  'b2': 0.017999999225139618,\n",
       "  'b3': 0.010499999858438969,\n",
       "  'b4': 0.01730000041425228,\n",
       "  'b5': 0.00989999994635582,\n",
       "  'b6': 0.0071000000461936,\n",
       "  'b7': 0.24460433423519135,\n",
       "  'b8': -0.019829994067549706,\n",
       "  'b9': 0.019325504079461098,\n",
       "  'classification': 1}}"
      ]
     },
     "execution_count": 38,
     "metadata": {},
     "output_type": "execute_result"
    }
   ],
   "source": [
    "validated.first().getInfo()"
   ]
  },
  {
   "cell_type": "code",
   "execution_count": 39,
   "id": "733c4428",
   "metadata": {
    "ExecuteTime": {
     "end_time": "2021-09-09T16:21:21.848684Z",
     "start_time": "2021-09-09T16:21:21.846831Z"
    }
   },
   "outputs": [],
   "source": [
    "test_accuracy = validated.errorMatrix('IDH', 'classification')"
   ]
  },
  {
   "cell_type": "code",
   "execution_count": 40,
   "id": "39ff86ca",
   "metadata": {
    "ExecuteTime": {
     "end_time": "2021-09-09T16:21:32.370728Z",
     "start_time": "2021-09-09T16:21:21.849744Z"
    }
   },
   "outputs": [
    {
     "data": {
      "text/plain": [
       "[[0, 0, 0, 0, 0, 0, 0, 0, 0, 0, 0, 0],\n",
       " [0, 4, 0, 0, 0, 0, 0, 0, 0, 1, 0, 0],\n",
       " [0, 0, 4, 0, 0, 0, 0, 0, 0, 0, 0, 0],\n",
       " [0, 0, 0, 21, 0, 0, 0, 0, 0, 0, 0, 6],\n",
       " [0, 0, 0, 0, 0, 0, 0, 0, 0, 0, 1, 0],\n",
       " [0, 0, 2, 0, 0, 2, 6, 0, 1, 3, 0, 3],\n",
       " [0, 0, 2, 0, 0, 0, 7, 2, 0, 16, 3, 0],\n",
       " [0, 0, 0, 0, 0, 0, 0, 3, 0, 1, 0, 0],\n",
       " [0, 0, 14, 1, 0, 1, 2, 0, 6, 1, 0, 7],\n",
       " [0, 0, 4, 0, 0, 0, 3, 2, 0, 102, 11, 1],\n",
       " [0, 0, 0, 0, 0, 0, 0, 0, 0, 0, 0, 0],\n",
       " [0, 0, 0, 2, 0, 1, 0, 0, 2, 0, 0, 68]]"
      ]
     },
     "execution_count": 40,
     "metadata": {},
     "output_type": "execute_result"
    }
   ],
   "source": [
    "test_accuracy.getInfo()"
   ]
  },
  {
   "cell_type": "code",
   "execution_count": 41,
   "id": "ac8319b2",
   "metadata": {
    "ExecuteTime": {
     "end_time": "2021-09-09T16:21:43.299559Z",
     "start_time": "2021-09-09T16:21:32.371841Z"
    }
   },
   "outputs": [
    {
     "data": {
      "text/plain": [
       "0.6867088607594937"
      ]
     },
     "execution_count": 41,
     "metadata": {},
     "output_type": "execute_result"
    }
   ],
   "source": [
    "test_accuracy.accuracy().getInfo()"
   ]
  },
  {
   "cell_type": "code",
   "execution_count": 42,
   "id": "018af7db",
   "metadata": {
    "ExecuteTime": {
     "end_time": "2021-09-09T16:21:52.849897Z",
     "start_time": "2021-09-09T16:21:43.300656Z"
    }
   },
   "outputs": [
    {
     "data": {
      "text/plain": [
       "0.5921411157321096"
      ]
     },
     "execution_count": 42,
     "metadata": {},
     "output_type": "execute_result"
    }
   ],
   "source": [
    "test_accuracy.kappa().getInfo()"
   ]
  },
  {
   "cell_type": "code",
   "execution_count": 43,
   "id": "172ad49a",
   "metadata": {
    "ExecuteTime": {
     "end_time": "2021-09-09T16:22:05.829186Z",
     "start_time": "2021-09-09T16:21:52.851005Z"
    }
   },
   "outputs": [
    {
     "data": {
      "text/plain": [
       "[[0],\n",
       " [0.8],\n",
       " [1],\n",
       " [0.7777777777777778],\n",
       " [0],\n",
       " [0.11764705882352941],\n",
       " [0.23333333333333334],\n",
       " [0.75],\n",
       " [0.1875],\n",
       " [0.8292682926829268],\n",
       " [0],\n",
       " [0.9315068493150684]]"
      ]
     },
     "execution_count": 43,
     "metadata": {},
     "output_type": "execute_result"
    }
   ],
   "source": [
    "test_accuracy.producersAccuracy().getInfo()"
   ]
  },
  {
   "cell_type": "code",
   "execution_count": 44,
   "id": "0c4e328c",
   "metadata": {
    "ExecuteTime": {
     "end_time": "2021-09-09T16:22:16.680913Z",
     "start_time": "2021-09-09T16:22:05.830174Z"
    }
   },
   "outputs": [
    {
     "data": {
      "text/plain": [
       "[[0,\n",
       "  1,\n",
       "  0.15384615384615385,\n",
       "  0.875,\n",
       "  0,\n",
       "  0.5,\n",
       "  0.3888888888888889,\n",
       "  0.42857142857142855,\n",
       "  0.6666666666666666,\n",
       "  0.8225806451612904,\n",
       "  0,\n",
       "  0.8]]"
      ]
     },
     "execution_count": 44,
     "metadata": {},
     "output_type": "execute_result"
    }
   ],
   "source": [
    "test_accuracy.consumersAccuracy().getInfo()"
   ]
  }
 ],
 "metadata": {
  "kernelspec": {
   "display_name": "Python 3 (ipykernel)",
   "language": "python",
   "name": "python3"
  },
  "language_info": {
   "codemirror_mode": {
    "name": "ipython",
    "version": 3
   },
   "file_extension": ".py",
   "mimetype": "text/x-python",
   "name": "python",
   "nbconvert_exporter": "python",
   "pygments_lexer": "ipython3",
   "version": "3.8.11"
  },
  "toc": {
   "base_numbering": 1,
   "nav_menu": {},
   "number_sections": true,
   "sideBar": true,
   "skip_h1_title": false,
   "title_cell": "Table of Contents",
   "title_sidebar": "Contents",
   "toc_cell": false,
   "toc_position": {},
   "toc_section_display": true,
   "toc_window_display": false
  },
  "varInspector": {
   "cols": {
    "lenName": 16,
    "lenType": 16,
    "lenVar": 40
   },
   "kernels_config": {
    "python": {
     "delete_cmd_postfix": "",
     "delete_cmd_prefix": "del ",
     "library": "var_list.py",
     "varRefreshCmd": "print(var_dic_list())"
    },
    "r": {
     "delete_cmd_postfix": ") ",
     "delete_cmd_prefix": "rm(",
     "library": "var_list.r",
     "varRefreshCmd": "cat(var_dic_list()) "
    }
   },
   "types_to_exclude": [
    "module",
    "function",
    "builtin_function_or_method",
    "instance",
    "_Feature"
   ],
   "window_display": false
  }
 },
 "nbformat": 4,
 "nbformat_minor": 5
}
