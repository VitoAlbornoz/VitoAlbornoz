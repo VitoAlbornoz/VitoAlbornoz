{
 "cells": [
  {
   "cell_type": "code",
   "execution_count": 5,
   "id": "bc491d6c",
   "metadata": {
    "scrolled": false
   },
   "outputs": [
    {
     "name": "stdout",
     "output_type": "stream",
     "text": [
      "Requirement already satisfied: jupyterthemes in /home/vitoalbornoz/anaconda3/envs/gee/lib/python3.9/site-packages (0.20.0)\n",
      "Requirement already satisfied: lesscpy>=0.11.2 in /home/vitoalbornoz/anaconda3/envs/gee/lib/python3.9/site-packages (from jupyterthemes) (0.14.0)\n",
      "Requirement already satisfied: jupyter-core in /home/vitoalbornoz/anaconda3/envs/gee/lib/python3.9/site-packages (from jupyterthemes) (4.7.1)\n",
      "Requirement already satisfied: matplotlib>=1.4.3 in /home/vitoalbornoz/anaconda3/envs/gee/lib/python3.9/site-packages (from jupyterthemes) (3.4.1)\n",
      "Requirement already satisfied: notebook>=5.6.0 in /home/vitoalbornoz/anaconda3/envs/gee/lib/python3.9/site-packages (from jupyterthemes) (6.3.0)\n",
      "Requirement already satisfied: ipython>=5.4.1 in /home/vitoalbornoz/anaconda3/envs/gee/lib/python3.9/site-packages (from jupyterthemes) (7.22.0)\n",
      "Requirement already satisfied: pexpect>4.3 in /home/vitoalbornoz/anaconda3/envs/gee/lib/python3.9/site-packages (from ipython>=5.4.1->jupyterthemes) (4.8.0)\n",
      "Requirement already satisfied: prompt-toolkit!=3.0.0,!=3.0.1,<3.1.0,>=2.0.0 in /home/vitoalbornoz/anaconda3/envs/gee/lib/python3.9/site-packages (from ipython>=5.4.1->jupyterthemes) (3.0.18)\n",
      "Requirement already satisfied: pickleshare in /home/vitoalbornoz/anaconda3/envs/gee/lib/python3.9/site-packages (from ipython>=5.4.1->jupyterthemes) (0.7.5)\n",
      "Requirement already satisfied: pygments in /home/vitoalbornoz/anaconda3/envs/gee/lib/python3.9/site-packages (from ipython>=5.4.1->jupyterthemes) (2.8.1)\n",
      "Requirement already satisfied: setuptools>=18.5 in /home/vitoalbornoz/anaconda3/envs/gee/lib/python3.9/site-packages (from ipython>=5.4.1->jupyterthemes) (52.0.0.post20210125)\n",
      "Requirement already satisfied: jedi>=0.16 in /home/vitoalbornoz/anaconda3/envs/gee/lib/python3.9/site-packages (from ipython>=5.4.1->jupyterthemes) (0.18.0)\n",
      "Requirement already satisfied: backcall in /home/vitoalbornoz/anaconda3/envs/gee/lib/python3.9/site-packages (from ipython>=5.4.1->jupyterthemes) (0.2.0)\n",
      "Requirement already satisfied: traitlets>=4.2 in /home/vitoalbornoz/anaconda3/envs/gee/lib/python3.9/site-packages (from ipython>=5.4.1->jupyterthemes) (5.0.5)\n",
      "Requirement already satisfied: decorator in /home/vitoalbornoz/anaconda3/envs/gee/lib/python3.9/site-packages (from ipython>=5.4.1->jupyterthemes) (5.0.5)\n",
      "Requirement already satisfied: parso<0.9.0,>=0.8.0 in /home/vitoalbornoz/anaconda3/envs/gee/lib/python3.9/site-packages (from jedi>=0.16->ipython>=5.4.1->jupyterthemes) (0.8.2)\n",
      "Requirement already satisfied: six in /home/vitoalbornoz/anaconda3/envs/gee/lib/python3.9/site-packages (from lesscpy>=0.11.2->jupyterthemes) (1.15.0)\n",
      "Requirement already satisfied: ply in /home/vitoalbornoz/anaconda3/envs/gee/lib/python3.9/site-packages (from lesscpy>=0.11.2->jupyterthemes) (3.11)\n",
      "Requirement already satisfied: numpy>=1.16 in /home/vitoalbornoz/anaconda3/envs/gee/lib/python3.9/site-packages (from matplotlib>=1.4.3->jupyterthemes) (1.20.2)\n",
      "Requirement already satisfied: cycler>=0.10 in /home/vitoalbornoz/anaconda3/envs/gee/lib/python3.9/site-packages (from matplotlib>=1.4.3->jupyterthemes) (0.10.0)\n",
      "Requirement already satisfied: pyparsing>=2.2.1 in /home/vitoalbornoz/anaconda3/envs/gee/lib/python3.9/site-packages (from matplotlib>=1.4.3->jupyterthemes) (2.4.7)\n",
      "Requirement already satisfied: python-dateutil>=2.7 in /home/vitoalbornoz/anaconda3/envs/gee/lib/python3.9/site-packages (from matplotlib>=1.4.3->jupyterthemes) (2.8.1)\n",
      "Requirement already satisfied: pillow>=6.2.0 in /home/vitoalbornoz/anaconda3/envs/gee/lib/python3.9/site-packages (from matplotlib>=1.4.3->jupyterthemes) (8.2.0)\n",
      "Requirement already satisfied: kiwisolver>=1.0.1 in /home/vitoalbornoz/anaconda3/envs/gee/lib/python3.9/site-packages (from matplotlib>=1.4.3->jupyterthemes) (1.3.1)\n",
      "Requirement already satisfied: ipython-genutils in /home/vitoalbornoz/anaconda3/envs/gee/lib/python3.9/site-packages (from notebook>=5.6.0->jupyterthemes) (0.2.0)\n",
      "Requirement already satisfied: jupyter-client>=5.3.4 in /home/vitoalbornoz/anaconda3/envs/gee/lib/python3.9/site-packages (from notebook>=5.6.0->jupyterthemes) (6.1.12)\n",
      "Requirement already satisfied: jinja2 in /home/vitoalbornoz/anaconda3/envs/gee/lib/python3.9/site-packages (from notebook>=5.6.0->jupyterthemes) (2.11.3)\n",
      "Requirement already satisfied: Send2Trash>=1.5.0 in /home/vitoalbornoz/anaconda3/envs/gee/lib/python3.9/site-packages (from notebook>=5.6.0->jupyterthemes) (1.5.0)\n",
      "Requirement already satisfied: ipykernel in /home/vitoalbornoz/anaconda3/envs/gee/lib/python3.9/site-packages (from notebook>=5.6.0->jupyterthemes) (5.5.3)\n",
      "Requirement already satisfied: terminado>=0.8.3 in /home/vitoalbornoz/anaconda3/envs/gee/lib/python3.9/site-packages (from notebook>=5.6.0->jupyterthemes) (0.9.4)\n",
      "Requirement already satisfied: tornado>=6.1 in /home/vitoalbornoz/anaconda3/envs/gee/lib/python3.9/site-packages (from notebook>=5.6.0->jupyterthemes) (6.1)\n",
      "Requirement already satisfied: nbconvert in /home/vitoalbornoz/anaconda3/envs/gee/lib/python3.9/site-packages (from notebook>=5.6.0->jupyterthemes) (6.0.7)\n",
      "Requirement already satisfied: nbformat in /home/vitoalbornoz/anaconda3/envs/gee/lib/python3.9/site-packages (from notebook>=5.6.0->jupyterthemes) (5.1.3)\n",
      "Requirement already satisfied: pyzmq>=17 in /home/vitoalbornoz/anaconda3/envs/gee/lib/python3.9/site-packages (from notebook>=5.6.0->jupyterthemes) (22.0.3)\n",
      "Requirement already satisfied: prometheus-client in /home/vitoalbornoz/anaconda3/envs/gee/lib/python3.9/site-packages (from notebook>=5.6.0->jupyterthemes) (0.10.0)\n",
      "Requirement already satisfied: argon2-cffi in /home/vitoalbornoz/anaconda3/envs/gee/lib/python3.9/site-packages (from notebook>=5.6.0->jupyterthemes) (20.1.0)\n",
      "Requirement already satisfied: ptyprocess>=0.5 in /home/vitoalbornoz/anaconda3/envs/gee/lib/python3.9/site-packages (from pexpect>4.3->ipython>=5.4.1->jupyterthemes) (0.7.0)\n",
      "Requirement already satisfied: wcwidth in /home/vitoalbornoz/anaconda3/envs/gee/lib/python3.9/site-packages (from prompt-toolkit!=3.0.0,!=3.0.1,<3.1.0,>=2.0.0->ipython>=5.4.1->jupyterthemes) (0.2.5)\n",
      "Requirement already satisfied: cffi>=1.0.0 in /home/vitoalbornoz/anaconda3/envs/gee/lib/python3.9/site-packages (from argon2-cffi->notebook>=5.6.0->jupyterthemes) (1.14.5)\n",
      "Requirement already satisfied: pycparser in /home/vitoalbornoz/anaconda3/envs/gee/lib/python3.9/site-packages (from cffi>=1.0.0->argon2-cffi->notebook>=5.6.0->jupyterthemes) (2.20)\n",
      "Requirement already satisfied: MarkupSafe>=0.23 in /home/vitoalbornoz/anaconda3/envs/gee/lib/python3.9/site-packages (from jinja2->notebook>=5.6.0->jupyterthemes) (1.1.1)\n",
      "Requirement already satisfied: bleach in /home/vitoalbornoz/anaconda3/envs/gee/lib/python3.9/site-packages (from nbconvert->notebook>=5.6.0->jupyterthemes) (3.3.0)\n",
      "Requirement already satisfied: defusedxml in /home/vitoalbornoz/anaconda3/envs/gee/lib/python3.9/site-packages (from nbconvert->notebook>=5.6.0->jupyterthemes) (0.7.1)\n",
      "Requirement already satisfied: mistune<2,>=0.8.1 in /home/vitoalbornoz/anaconda3/envs/gee/lib/python3.9/site-packages (from nbconvert->notebook>=5.6.0->jupyterthemes) (0.8.4)\n",
      "Requirement already satisfied: entrypoints>=0.2.2 in /home/vitoalbornoz/anaconda3/envs/gee/lib/python3.9/site-packages (from nbconvert->notebook>=5.6.0->jupyterthemes) (0.3)\n",
      "Requirement already satisfied: testpath in /home/vitoalbornoz/anaconda3/envs/gee/lib/python3.9/site-packages (from nbconvert->notebook>=5.6.0->jupyterthemes) (0.4.4)\n",
      "Requirement already satisfied: nbclient<0.6.0,>=0.5.0 in /home/vitoalbornoz/anaconda3/envs/gee/lib/python3.9/site-packages (from nbconvert->notebook>=5.6.0->jupyterthemes) (0.5.3)\n",
      "Requirement already satisfied: pandocfilters>=1.4.1 in /home/vitoalbornoz/anaconda3/envs/gee/lib/python3.9/site-packages (from nbconvert->notebook>=5.6.0->jupyterthemes) (1.4.3)\n",
      "Requirement already satisfied: jupyterlab-pygments in /home/vitoalbornoz/anaconda3/envs/gee/lib/python3.9/site-packages (from nbconvert->notebook>=5.6.0->jupyterthemes) (0.1.2)\n",
      "Requirement already satisfied: nest-asyncio in /home/vitoalbornoz/anaconda3/envs/gee/lib/python3.9/site-packages (from nbclient<0.6.0,>=0.5.0->nbconvert->notebook>=5.6.0->jupyterthemes) (1.5.1)\n",
      "Requirement already satisfied: async-generator in /home/vitoalbornoz/anaconda3/envs/gee/lib/python3.9/site-packages (from nbclient<0.6.0,>=0.5.0->nbconvert->notebook>=5.6.0->jupyterthemes) (1.10)\n",
      "Requirement already satisfied: jsonschema!=2.5.0,>=2.4 in /home/vitoalbornoz/anaconda3/envs/gee/lib/python3.9/site-packages (from nbformat->notebook>=5.6.0->jupyterthemes) (3.2.0)\n",
      "Requirement already satisfied: attrs>=17.4.0 in /home/vitoalbornoz/anaconda3/envs/gee/lib/python3.9/site-packages (from jsonschema!=2.5.0,>=2.4->nbformat->notebook>=5.6.0->jupyterthemes) (20.3.0)\n",
      "Requirement already satisfied: pyrsistent>=0.14.0 in /home/vitoalbornoz/anaconda3/envs/gee/lib/python3.9/site-packages (from jsonschema!=2.5.0,>=2.4->nbformat->notebook>=5.6.0->jupyterthemes) (0.17.3)\n",
      "Requirement already satisfied: packaging in /home/vitoalbornoz/anaconda3/envs/gee/lib/python3.9/site-packages (from bleach->nbconvert->notebook>=5.6.0->jupyterthemes) (20.9)\n",
      "Requirement already satisfied: webencodings in /home/vitoalbornoz/anaconda3/envs/gee/lib/python3.9/site-packages (from bleach->nbconvert->notebook>=5.6.0->jupyterthemes) (0.5.1)\n"
     ]
    }
   ],
   "source": [
    "# !pip install jupyterthemes"
   ]
  },
  {
   "cell_type": "code",
   "execution_count": 1,
   "id": "3cb6029e",
   "metadata": {},
   "outputs": [
    {
     "name": "stdout",
     "output_type": "stream",
     "text": [
      "Available Themes: \r\n",
      "   chesterish\r\n",
      "   grade3\r\n",
      "   gruvboxd\r\n",
      "   gruvboxl\r\n",
      "   monokai\r\n",
      "   oceans16\r\n",
      "   onedork\r\n",
      "   solarizedd\r\n",
      "   solarizedl\r\n"
     ]
    }
   ],
   "source": [
    "!jt -l"
   ]
  },
  {
   "cell_type": "code",
   "execution_count": 11,
   "id": "d9d027ef",
   "metadata": {},
   "outputs": [],
   "source": [
    "!jt -t oceans16 -cellw 85% -T -N"
   ]
  },
  {
   "cell_type": "code",
   "execution_count": 8,
   "id": "01719d51",
   "metadata": {},
   "outputs": [
    {
     "name": "stdout",
     "output_type": "stream",
     "text": [
      "usage: jt [-h] [-l] [-t THEME] [-f MONOFONT] [-fs MONOSIZE] [-nf NBFONT]\r\n",
      "          [-nfs NBFONTSIZE] [-tf TCFONT] [-tfs TCFONTSIZE] [-dfs DFFONTSIZE]\r\n",
      "          [-ofs OUTFONTSIZE] [-mathfs MATHFONTSIZE] [-m MARGINS]\r\n",
      "          [-cursw CURSORWIDTH] [-cursc CURSORCOLOR] [-cellw CELLWIDTH]\r\n",
      "          [-lineh LINEHEIGHT] [-altp] [-altmd] [-altout] [-P] [-T] [-N] [-kl]\r\n",
      "          [-vim] [-r] [-dfonts]\r\n",
      "jt: error: unrecognized arguments: -cellw70%\r\n"
     ]
    }
   ],
   "source": [
    "!jt -t onedork -cellw70% -T -N"
   ]
  },
  {
   "cell_type": "code",
   "execution_count": 6,
   "id": "42ed7491",
   "metadata": {},
   "outputs": [
    {
     "name": "stdout",
     "output_type": "stream",
     "text": [
      "Reset css and font defaults in:\r\n",
      "/home/falbornoz/.jupyter/custom &\r\n",
      "/home/falbornoz/.local/share/jupyter/nbextensions\r\n"
     ]
    }
   ],
   "source": [
    "!jt -r"
   ]
  },
  {
   "cell_type": "code",
   "execution_count": null,
   "id": "f2b8060f",
   "metadata": {},
   "outputs": [],
   "source": []
  }
 ],
 "metadata": {
  "kernelspec": {
   "display_name": "Python 3 (ipykernel)",
   "language": "python",
   "name": "python3"
  },
  "language_info": {
   "codemirror_mode": {
    "name": "ipython",
    "version": 3
   },
   "file_extension": ".py",
   "mimetype": "text/x-python",
   "name": "python",
   "nbconvert_exporter": "python",
   "pygments_lexer": "ipython3",
   "version": "3.9.2"
  },
  "toc": {
   "base_numbering": 1,
   "nav_menu": {},
   "number_sections": true,
   "sideBar": true,
   "skip_h1_title": false,
   "title_cell": "Table of Contents",
   "title_sidebar": "Contents",
   "toc_cell": false,
   "toc_position": {},
   "toc_section_display": true,
   "toc_window_display": true
  },
  "varInspector": {
   "cols": {
    "lenName": 16,
    "lenType": 16,
    "lenVar": 40
   },
   "kernels_config": {
    "python": {
     "delete_cmd_postfix": "",
     "delete_cmd_prefix": "del ",
     "library": "var_list.py",
     "varRefreshCmd": "print(var_dic_list())"
    },
    "r": {
     "delete_cmd_postfix": ") ",
     "delete_cmd_prefix": "rm(",
     "library": "var_list.r",
     "varRefreshCmd": "cat(var_dic_list()) "
    }
   },
   "types_to_exclude": [
    "module",
    "function",
    "builtin_function_or_method",
    "instance",
    "_Feature"
   ],
   "window_display": false
  }
 },
 "nbformat": 4,
 "nbformat_minor": 5
}
