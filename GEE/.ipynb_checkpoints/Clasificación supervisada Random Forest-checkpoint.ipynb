{
 "cells": [
  {
   "cell_type": "markdown",
   "metadata": {},
   "source": [
    "<table class=\"ee-notebook-buttons\" align=\"left\">\n",
    "    <td><a target=\"_blank\"  href=\"https://github.com/giswqs/geemap/tree/master/examples/template/template.ipynb\"><img width=32px src=\"https://www.tensorflow.org/images/GitHub-Mark-32px.png\" /> View source on GitHub</a></td>\n",
    "    <td><a target=\"_blank\"  href=\"https://nbviewer.jupyter.org/github/giswqs/geemap/blob/master/examples/template/template.ipynb\"><img width=26px src=\"https://upload.wikimedia.org/wikipedia/commons/thumb/3/38/Jupyter_logo.svg/883px-Jupyter_logo.svg.png\" />Notebook Viewer</a></td>\n",
    "    <td><a target=\"_blank\"  href=\"https://colab.research.google.com/github/giswqs/geemap/blob/master/examples/template/template.ipynb\"><img src=\"https://www.tensorflow.org/images/colab_logo_32px.png\" /> Run in Google Colab</a></td>\n",
    "</table>"
   ]
  },
  {
   "cell_type": "markdown",
   "metadata": {},
   "source": [
    "# Clasificación supervisada Random Forest\n",
    "Script trabajado por Francisco Albornoz (2021-04-13) / Última modificación / Análisis y clasificación supervisada región de Aysen"
   ]
  },
  {
   "cell_type": "markdown",
   "metadata": {},
   "source": [
    "<img src=https://www.ecopaysen.cl/wp-content/uploads/2019/12/ecopaysen_marca_web.png>"
   ]
  },
  {
   "cell_type": "code",
   "execution_count": 5,
   "metadata": {},
   "outputs": [],
   "source": [
    "# Installs geemap package\n",
    "# import subprocess\n",
    "\n",
    "# try:\n",
    "#     import geemap\n",
    "# except ImportError:\n",
    "#     print(\"Installing geemap ...\")\n",
    "#     subprocess.check_call([\"python\", \"-m\", \"pip\", \"install\", \"geemap\"])"
   ]
  },
  {
   "cell_type": "code",
   "execution_count": 15,
   "metadata": {},
   "outputs": [],
   "source": [
    "import os\n",
    "import ee\n",
    "import geemap\n",
    "import xarray_leaflet\n",
    "import rasterio \n",
    "from rasterio import plot\n",
    "import matplotlib.pyplot as plt\n",
    "import numpy as np\n",
    "%matplotlib inline"
   ]
  },
  {
   "cell_type": "markdown",
   "metadata": {},
   "source": [
    "## Crear un mapa interactivo \n",
    "The default basemap is `Google Maps`. [Additional basemaps](https://github.com/giswqs/geemap/blob/master/geemap/basemaps.py) can be added using the `Map.add_basemap()` function. "
   ]
  },
  {
   "cell_type": "code",
   "execution_count": 16,
   "metadata": {},
   "outputs": [
    {
     "data": {
      "application/vnd.jupyter.widget-view+json": {
       "model_id": "195b60ff6d1d4b8f8a83b0e743320ff4",
       "version_major": 2,
       "version_minor": 0
      },
      "text/plain": [
       "Map(center=[40, -100], controls=(WidgetControl(options=['position'], widget=HBox(children=(ToggleButton(value=…"
      ]
     },
     "metadata": {},
     "output_type": "display_data"
    }
   ],
   "source": [
    "Map = geemap.Map()\n",
    "Map"
   ]
  },
  {
   "cell_type": "markdown",
   "metadata": {},
   "source": [
    "## Escogemos la imagen landsat "
   ]
  },
  {
   "cell_type": "code",
   "execution_count": 19,
   "metadata": {},
   "outputs": [],
   "source": [
    "centroid = ee.Geometry.Point([-72, -44])\n",
    "\n",
    "landsat = ee.ImageCollection('LANDSAT/LC08/C01/T1_SR') \\\n",
    "    .filterBounds(centroid) \\\n",
    "    .filterDate('2020-01-01', '2021-03-31') \\\n",
    "    .sort('CLOUD_COVER') \\\n",
    "    .first() \\\n",
    "    .select('B[1-7]')\n",
    "\n",
    "landsat_vis = {\n",
    "    'min': 0,\n",
    "    'max': 3000,\n",
    "    'bands': ['B5', 'B4', 'B3']\n",
    "}\n",
    "\n",
    "Map.centerObject(centroid, 8)\n",
    "Map.addLayer(landsat, landsat_vis, \"Landsat-8\")\n",
    "\n",
    "\n",
    "# Define spectral bands to be used for supervised classification\n",
    "# bands = ['B1', 'B2', 'B3', 'B4', 'B5', 'B6', 'B7', 'B10', 'B11']\n",
    "# landsatbands = landsat.select(bands)\n",
    "\n",
    "\n",
    "# IMPORTANT NOTE:\n",
    "# On LANDSAT 8 images, Band 12 (a data quality assessment band) is not useful for classification purposes.\n",
    "# Band 8 (panchromatic) is not used here as well because it has different spatial resolution (15 m), and\n",
    "# more importantly, its spectral information is redundant (its content overlaps with B2, B3 and B4).\n",
    "#\n",
    "\n",
    "# Define geometries for the training data of X land cover classes: water, vegetation, bare ground, and urban\n",
    "\n",
    "\n",
    "\n",
    "# print(agua)\n",
    "\n",
    "\n",
    "\n",
    "\n",
    "# # Generate a feature collection from the geometries created for each land cover class\n",
    "# muestras = agua.merge(urbano).merge(bosque).merge(hielo).merge(agro).merge(suelo)\n",
    "# print(muestras)\n",
    "\n",
    "# # Make the training dataset\n",
    "# training = image.select(bands).sampleRegions({\n",
    "#   'collection': muestras,\n",
    "#   'properties': ['class'],\n",
    "#   'scale': 150\n",
    "# })\n",
    "# print(training)\n",
    "\n",
    "# # Create a Random Forest (RF) classifier with custom parameters\n",
    "# classifierRF = ee.Classifier.smileRandomForest({\n",
    "#   'numberOfTrees': 10\n",
    "# })\n",
    "\n",
    "# # Train the classifier\n",
    "# trainedRF  = classifierRF.train(training, 'class', bands)\n",
    "\n",
    "# # Classify the image using the trained classifier\n",
    "# classesRF  = image.classify(trainedRF)\n",
    "\n",
    "# # Create a palette to display the land cover maps\n",
    "# palette = ['blue', 'green', 'yellow', 'gray','red','purple']\n",
    "\n",
    "# # Display the classification result and the input image\n",
    "# Map.centerObject(image, 7)\n",
    "# Map.addLayer(image, {'bands': ['B4',  'B3',  'B2'], 'min':20, 'max': 10000, 'gamma': 2}, 'True color image', True)\n",
    "# Map.addLayer(classesRF, {'min': 0, 'max': 6, 'palette': palette}, 'RF classification', False)\n",
    "# print(classesRF)\n",
    "\n",
    "# # Display geometries with the training dataset\n",
    "# Map.addLayer(agua, {'color': 'green'}, 'agua', False)\n",
    "# Map.addLayer(bosque, {'color': 'red'}, 'bosque', False)\n",
    "# Map.addLayer(suelo, {'color': 'black'}, 'suelo', False)\n",
    "# Map.addLayer(urbano, {'color': 'BEBEBE'}, 'urbano', False)\n",
    "# Map.addLayer(hielo,{'color':'purple'},'Hielo', False)\n",
    "# Map.addLayer(agro, {'color':'green'}, 'Actividad agro',False)\n",
    "\n",
    "# # Get the confusion matrices representing resubstitution accuracy for the classification\n",
    "# trainAccuracyRF = trainedRF.confusionMatrix()\n",
    "# print('RF resubstitution error matrix: ', trainAccuracyRF)\n",
    "# print('RF training overall accuracy: ', trainAccuracyRF.accuracy())\n",
    "\n",
    "# Export.image.toDrive(classesRF, 'Exportedclass')\n"
   ]
  },
  {
   "cell_type": "markdown",
   "metadata": {},
   "source": [
    "## Importar rasters locales "
   ]
  },
  {
   "cell_type": "code",
   "execution_count": 20,
   "metadata": {},
   "outputs": [
    {
     "data": {
      "text/plain": [
       "'/mnt/c/Users/R7 3700X/Documents/GitHub/combinacion_bandas_landsat'"
      ]
     },
     "execution_count": 20,
     "metadata": {},
     "output_type": "execute_result"
    }
   ],
   "source": [
    "%pwd"
   ]
  },
  {
   "cell_type": "code",
   "execution_count": 21,
   "metadata": {},
   "outputs": [],
   "source": [
    "# verificar en el sistema del pc cual es la ruta\n",
    "# os.path.expanduser('/mnt/c/Users/R7 3700X/Documents/GitHub/VitoAlbornoz/') "
   ]
  },
  {
   "cell_type": "code",
   "execution_count": 23,
   "metadata": {},
   "outputs": [],
   "source": [
    "# verificar en el sistema del pc cual es la ruta\n",
    "out_dir = os.path.join(os.path.expanduser('/mnt/c/Users/R7 3700X/Documents/GitHub/VitoAlbornoz/'), 'Data')\n",
    "if not os.path.exists(out_dir):\n",
    "    os.makedirs(out_dir)\n",
    "\n",
    "raster_aysen = os.path.join(out_dir, 'landcover_2018_aysen.tif')"
   ]
  },
  {
   "cell_type": "code",
   "execution_count": 24,
   "metadata": {},
   "outputs": [
    {
     "data": {
      "text/plain": [
       "'/mnt/c/Users/R7 3700X/Documents/GitHub/VitoAlbornoz/Data'"
      ]
     },
     "execution_count": 24,
     "metadata": {},
     "output_type": "execute_result"
    }
   ],
   "source": [
    "out_dir"
   ]
  },
  {
   "cell_type": "code",
   "execution_count": 25,
   "metadata": {},
   "outputs": [
    {
     "data": {
      "text/plain": [
       "'/mnt/c/Users/R7 3700X/Documents/GitHub/VitoAlbornoz/Data/landcover_2018_aysen.tif'"
      ]
     },
     "execution_count": 25,
     "metadata": {},
     "output_type": "execute_result"
    }
   ],
   "source": [
    "raster_aysen"
   ]
  },
  {
   "cell_type": "code",
   "execution_count": 26,
   "metadata": {},
   "outputs": [
    {
     "data": {
      "application/vnd.jupyter.widget-view+json": {
       "model_id": "195b60ff6d1d4b8f8a83b0e743320ff4",
       "version_major": 2,
       "version_minor": 0
      },
      "text/plain": [
       "Map(bottom=42006.0, center=[-44.00071783428277, -72.00164794921876], controls=(WidgetControl(options=['positio…"
      ]
     },
     "metadata": {},
     "output_type": "display_data"
    }
   ],
   "source": [
    "Map.add_raster(raster_aysen, colormap= 'terrain', layer_name='Landcover 2018')\n",
    "Map"
   ]
  },
  {
   "cell_type": "code",
   "execution_count": 27,
   "metadata": {},
   "outputs": [
    {
     "data": {
      "text/plain": [
       "<ee.image.Image at 0x7fcbff920fa0>"
      ]
     },
     "execution_count": 27,
     "metadata": {},
     "output_type": "execute_result"
    }
   ],
   "source": [
    "landcover = ee.Image(\"users/franciscoalbornoz/landcover_sur\")\n",
    "landcover"
   ]
  },
  {
   "cell_type": "code",
   "execution_count": 28,
   "metadata": {},
   "outputs": [],
   "source": [
    "raster = rasterio.open(out_dir+'/landcover_2018_aysen.tif')"
   ]
  },
  {
   "cell_type": "code",
   "execution_count": 29,
   "metadata": {},
   "outputs": [
    {
     "data": {
      "text/plain": [
       "BoundingBox(left=-73.169644655, bottom=-46.394042378, right=-70.719691266, top=-43.705745621)"
      ]
     },
     "execution_count": 29,
     "metadata": {},
     "output_type": "execute_result"
    }
   ],
   "source": [
    "raster.bounds"
   ]
  },
  {
   "cell_type": "code",
   "execution_count": 30,
   "metadata": {},
   "outputs": [
    {
     "data": {
      "text/plain": [
       "CRS.from_epsg(4326)"
      ]
     },
     "execution_count": 30,
     "metadata": {},
     "output_type": "execute_result"
    }
   ],
   "source": [
    "raster.crs"
   ]
  },
  {
   "cell_type": "code",
   "execution_count": 31,
   "metadata": {},
   "outputs": [
    {
     "data": {
      "text/plain": [
       "<open DatasetReader name='/mnt/c/Users/R7 3700X/Documents/GitHub/VitoAlbornoz/Data/landcover_2018_aysen.tif' mode='r'>"
      ]
     },
     "execution_count": 31,
     "metadata": {},
     "output_type": "execute_result"
    }
   ],
   "source": [
    "raster"
   ]
  },
  {
   "cell_type": "markdown",
   "metadata": {},
   "source": [
    "## Obteniendo los valores para el Training Datasets"
   ]
  },
  {
   "cell_type": "code",
   "execution_count": 39,
   "metadata": {},
   "outputs": [
    {
     "data": {
      "application/vnd.jupyter.widget-view+json": {
       "model_id": "195b60ff6d1d4b8f8a83b0e743320ff4",
       "version_major": 2,
       "version_minor": 0
      },
      "text/plain": [
       "Map(bottom=42307.0, center=[-45.178164812206376, -72.32025146484376], controls=(WidgetControl(options=['positi…"
      ]
     },
     "metadata": {},
     "output_type": "display_data"
    }
   ],
   "source": [
    "points = landcover.sample(**{\n",
    "#     'region': landsat.geometry(),\n",
    "    'scale': 30,\n",
    "    'numPixels': 20000,\n",
    "    'seed': 0,\n",
    "    'geometries': True  # Set this to False to ignore geometries\n",
    "})\n",
    "\n",
    "Map.addLayer(points, {}, 'training', False)\n",
    "Map"
   ]
  },
  {
   "cell_type": "code",
   "execution_count": 40,
   "metadata": {},
   "outputs": [
    {
     "name": "stdout",
     "output_type": "stream",
     "text": [
      "4332\n"
     ]
    }
   ],
   "source": [
    "print(points.size().getInfo())"
   ]
  },
  {
   "cell_type": "code",
   "execution_count": 41,
   "metadata": {},
   "outputs": [
    {
     "name": "stdout",
     "output_type": "stream",
     "text": [
      "{'type': 'Feature', 'geometry': {'type': 'Point', 'coordinates': [-72.13225057296826, -45.41726503680242]}, 'id': '9', 'properties': {'b1': 1}}\n"
     ]
    }
   ],
   "source": [
    "print(points.first().getInfo())"
   ]
  },
  {
   "cell_type": "markdown",
   "metadata": {},
   "source": [
    "### Dividiendo en muestras y datos de validación"
   ]
  },
  {
   "cell_type": "code",
   "execution_count": 48,
   "metadata": {},
   "outputs": [],
   "source": [
    "# Guardamos las bandas\n",
    "bands = ['B1', 'B2', 'B3', 'B4', 'B5', 'B6', 'B7']\n",
    "\n",
    "# Esta propiedad guarda las clases de landcover\n",
    "label = 'b1'\n",
    "\n",
    "# Overlay the points on the imagery to get training.\n",
    "sample = landsat.select(bands).sampleRegions(**{\n",
    "  'collection': points,\n",
    "  'properties': [label],\n",
    "  'scale': 30\n",
    "})\n",
    "\n",
    "# Adds a column of deterministic pseudorandom numbers. \n",
    "sample = sample.randomColumn()\n",
    "\n",
    "split = 0.7 \n",
    "\n",
    "training = sample.filter(ee.Filter.lt('random', split))\n",
    "validation = sample.filter(ee.Filter.gte('random', split))"
   ]
  },
  {
   "cell_type": "code",
   "execution_count": 49,
   "metadata": {},
   "outputs": [
    {
     "data": {
      "text/plain": [
       "{'type': 'Feature',\n",
       " 'geometry': None,\n",
       " 'id': '11_0',\n",
       " 'properties': {'B1': 75,\n",
       "  'B2': 107,\n",
       "  'B3': 218,\n",
       "  'B4': 161,\n",
       "  'B5': 1706,\n",
       "  'B6': 759,\n",
       "  'B7': 318,\n",
       "  'b1': 1,\n",
       "  'random': 0.41729453605741296}}"
      ]
     },
     "execution_count": 49,
     "metadata": {},
     "output_type": "execute_result"
    }
   ],
   "source": [
    "training.first().getInfo()"
   ]
  },
  {
   "cell_type": "code",
   "execution_count": 50,
   "metadata": {},
   "outputs": [
    {
     "data": {
      "text/plain": [
       "{'type': 'Feature',\n",
       " 'geometry': None,\n",
       " 'id': '9_0',\n",
       " 'properties': {'B1': -10,\n",
       "  'B2': 44,\n",
       "  'B3': 202,\n",
       "  'B4': 150,\n",
       "  'B5': 2683,\n",
       "  'B6': 1103,\n",
       "  'B7': 447,\n",
       "  'b1': 1,\n",
       "  'random': 0.9523946710457639}}"
      ]
     },
     "execution_count": 50,
     "metadata": {},
     "output_type": "execute_result"
    }
   ],
   "source": [
    "validation.first().getInfo()"
   ]
  },
  {
   "cell_type": "markdown",
   "metadata": {},
   "source": [
    "## Entrenando el modelo "
   ]
  },
  {
   "cell_type": "code",
   "execution_count": 51,
   "metadata": {},
   "outputs": [],
   "source": [
    "classifier = ee.Classifier.smileRandomForest(10).train(training, label, bands)"
   ]
  },
  {
   "cell_type": "markdown",
   "metadata": {},
   "source": [
    "### Clasificando la imagen"
   ]
  },
  {
   "cell_type": "code",
   "execution_count": 52,
   "metadata": {},
   "outputs": [
    {
     "data": {
      "application/vnd.jupyter.widget-view+json": {
       "model_id": "195b60ff6d1d4b8f8a83b0e743320ff4",
       "version_major": 2,
       "version_minor": 0
      },
      "text/plain": [
       "Map(bottom=42307.0, center=[-45.178164812206376, -72.32025146484376], controls=(WidgetControl(options=['positi…"
      ]
     },
     "metadata": {},
     "output_type": "display_data"
    }
   ],
   "source": [
    "# Clasificando con las mismas bandas de entrenamiento\n",
    "result = landsat.select(bands).classify(classifier)\n",
    "\n",
    "# # Display the clusters with random colors.\n",
    "Map.addLayer(result.randomVisualizer(), {}, 'classificado')\n",
    "Map"
   ]
  },
  {
   "cell_type": "markdown",
   "metadata": {},
   "source": [
    "### Categorizando según las clases "
   ]
  },
  {
   "cell_type": "code",
   "execution_count": 53,
   "metadata": {},
   "outputs": [
    {
     "data": {
      "text/plain": [
       "{'type': 'Image',\n",
       " 'bands': [{'id': 'b1',\n",
       "   'data_type': {'type': 'PixelType',\n",
       "    'precision': 'int',\n",
       "    'min': 0,\n",
       "    'max': 255},\n",
       "   'dimensions': [6213, 10344],\n",
       "   'crs': 'EPSG:4326',\n",
       "   'crs_transform': [0.00039432695783035585,\n",
       "    0,\n",
       "    -73.169644655,\n",
       "    0,\n",
       "    -0.00025988947766821376,\n",
       "    -43.705745621]}],\n",
       " 'version': 1618258778374729,\n",
       " 'id': 'users/franciscoalbornoz/landcover_sur',\n",
       " 'properties': {'system:footprint': {'type': 'LinearRing',\n",
       "   'coordinates': [[-71.7915705454372, -46.394233097905705],\n",
       "    [-71.48537564335197, -46.394233113935314],\n",
       "    [-71.17918071529392, -46.394233134441336],\n",
       "    [-70.71942341871768, -46.39423280743593],\n",
       "    [-70.71944481304791, -43.70555461483804],\n",
       "    [-70.94953461187166, -43.705478246600414],\n",
       "    [-71.17918079334628, -43.70555488795941],\n",
       "    [-71.40882695158388, -43.70547823784516],\n",
       "    [-71.71502184267688, -43.705478227199414],\n",
       "    [-72.02121670565627, -43.7054782640891],\n",
       "    [-72.32741161353145, -43.70547824476745],\n",
       "    [-72.63360641182706, -43.70547823740376],\n",
       "    [-72.93980131281272, -43.705478270250985],\n",
       "    [-73.16989108223163, -43.705554588274076],\n",
       "    [-73.16991250363948, -46.39423280865199],\n",
       "    [-72.7101551325533, -46.394233120733865],\n",
       "    [-72.40396027111386, -46.394233129531074],\n",
       "    [-72.09776540876062, -46.394233135894765],\n",
       "    [-71.7915705454372, -46.394233097905705]]},\n",
       "  'system:asset_size': 3804998}}"
      ]
     },
     "execution_count": 53,
     "metadata": {},
     "output_type": "execute_result"
    }
   ],
   "source": [
    "landcover.getInfo()"
   ]
  },
  {
   "cell_type": "code",
   "execution_count": 54,
   "metadata": {},
   "outputs": [],
   "source": [
    "class_values = [1,\n",
    " 2,\n",
    " 3,\n",
    " 4,\n",
    " 5,\n",
    " 6,\n",
    " 7,\n",
    " 8,\n",
    " 9,\n",
    " 10,\n",
    " 11,\n",
    " 12,\n",
    " 13,\n",
    " 14,\n",
    " 15,\n",
    " 16]"
   ]
  },
  {
   "cell_type": "code",
   "execution_count": 55,
   "metadata": {},
   "outputs": [],
   "source": [
    "class_palette = ['476ba1',\n",
    " 'd1defa',\n",
    " 'decaca',\n",
    " 'd99482',\n",
    " 'ee0000',\n",
    " 'ab0000',\n",
    " 'b3aea3',\n",
    " '68ab63',\n",
    " '1c6330',\n",
    " 'b5ca8f',\n",
    " 'a68c30',\n",
    " 'ccba7d',\n",
    " 'e3e3c2',\n",
    " 'caca78',\n",
    " '99c247',\n",
    " '78ae94']\n"
   ]
  },
  {
   "cell_type": "code",
   "execution_count": 56,
   "metadata": {},
   "outputs": [],
   "source": [
    "landcoverf = result.set('classification_class_values', class_values)\n",
    "landcoverf = landcoverf.set('classification_class_palette', class_palette)"
   ]
  },
  {
   "cell_type": "code",
   "execution_count": 57,
   "metadata": {},
   "outputs": [
    {
     "data": {
      "application/vnd.jupyter.widget-view+json": {
       "model_id": "195b60ff6d1d4b8f8a83b0e743320ff4",
       "version_major": 2,
       "version_minor": 0
      },
      "text/plain": [
       "Map(bottom=42211.0, center=[-44.80522439622255, -72.49053955078126], controls=(WidgetControl(options=['positio…"
      ]
     },
     "metadata": {},
     "output_type": "display_data"
    }
   ],
   "source": [
    "Map.addLayer(landcoverf, {}, 'Land cover clasificado' )\n",
    "Map"
   ]
  },
  {
   "cell_type": "markdown",
   "metadata": {},
   "source": [
    "### Visualizando el resultado\n"
   ]
  },
  {
   "cell_type": "code",
   "execution_count": 58,
   "metadata": {},
   "outputs": [
    {
     "name": "stdout",
     "output_type": "stream",
     "text": [
      "Change layer opacity:\n"
     ]
    },
    {
     "data": {
      "application/vnd.jupyter.widget-view+json": {
       "model_id": "1144c6ebb08a475fb4420dd32213b7eb",
       "version_major": 2,
       "version_minor": 0
      },
      "text/plain": [
       "Box(children=(FloatSlider(value=1.0, description='opacity', max=1.0),))"
      ]
     },
     "metadata": {},
     "output_type": "display_data"
    }
   ],
   "source": [
    "print('Change layer opacity:')\n",
    "cluster_layer = Map.layers[-1]\n",
    "cluster_layer.interact(opacity=(0, 1, 0.1))"
   ]
  },
  {
   "cell_type": "markdown",
   "metadata": {},
   "source": [
    "### Agregando título al mapa"
   ]
  },
  {
   "cell_type": "code",
   "execution_count": 62,
   "metadata": {},
   "outputs": [
    {
     "data": {
      "application/vnd.jupyter.widget-view+json": {
       "model_id": "195b60ff6d1d4b8f8a83b0e743320ff4",
       "version_major": 2,
       "version_minor": 0
      },
      "text/plain": [
       "Map(bottom=42108.0, center=[-44.402391829093915, -72.56195068359376], controls=(WidgetControl(options=['positi…"
      ]
     },
     "metadata": {},
     "output_type": "display_data"
    }
   ],
   "source": [
    "# Map.add_legend('Clasificación supervisada Random Forest')\n",
    "# Map"
   ]
  },
  {
   "cell_type": "markdown",
   "metadata": {},
   "source": [
    "### Evaluación de presición / Accuracy assessment"
   ]
  },
  {
   "cell_type": "code",
   "execution_count": 63,
   "metadata": {},
   "outputs": [],
   "source": [
    "train_accuracy = classifier.confusionMatrix()"
   ]
  },
  {
   "cell_type": "code",
   "execution_count": 64,
   "metadata": {},
   "outputs": [
    {
     "data": {
      "text/plain": [
       "[[0, 0, 0, 0, 0, 0, 0, 0, 0, 0, 0, 0, 0, 0, 0, 0, 0],\n",
       " [0, 672, 4, 1, 0, 0, 0, 0, 0, 0, 0, 0, 0, 0, 0, 0, 0],\n",
       " [0, 36, 163, 1, 0, 0, 0, 0, 1, 0, 0, 0, 0, 0, 0, 0, 0],\n",
       " [0, 18, 4, 243, 0, 0, 0, 0, 1, 0, 0, 0, 0, 0, 0, 0, 0],\n",
       " [0, 2, 0, 8, 95, 0, 0, 0, 0, 0, 0, 0, 1, 0, 0, 1, 0],\n",
       " [0, 0, 0, 0, 2, 20, 0, 0, 0, 0, 0, 0, 0, 0, 0, 1, 0],\n",
       " [0, 0, 1, 0, 0, 0, 18, 0, 0, 0, 0, 0, 0, 0, 0, 0, 0],\n",
       " [0, 0, 0, 0, 0, 0, 0, 3, 0, 0, 0, 0, 0, 0, 0, 0, 0],\n",
       " [0, 1, 0, 1, 0, 0, 0, 0, 262, 0, 0, 0, 1, 0, 1, 0, 0],\n",
       " [0, 1, 0, 1, 0, 0, 0, 0, 0, 25, 0, 0, 0, 0, 0, 0, 0],\n",
       " [0, 0, 0, 0, 0, 0, 0, 0, 0, 0, 0, 0, 0, 0, 0, 0, 0],\n",
       " [0, 0, 0, 0, 0, 0, 0, 0, 0, 0, 0, 1, 0, 0, 0, 0, 0],\n",
       " [0, 0, 0, 1, 1, 0, 0, 0, 1, 0, 0, 0, 16, 0, 0, 0, 0],\n",
       " [0, 0, 0, 1, 0, 0, 0, 0, 1, 0, 0, 0, 1, 17, 0, 1, 0],\n",
       " [0, 0, 0, 0, 0, 0, 0, 0, 1, 0, 0, 0, 0, 0, 7, 0, 0],\n",
       " [0, 1, 0, 5, 1, 0, 0, 0, 4, 0, 0, 0, 0, 0, 0, 74, 0],\n",
       " [0, 3, 0, 1, 0, 0, 0, 0, 0, 0, 0, 0, 0, 0, 0, 0, 26]]"
      ]
     },
     "execution_count": 64,
     "metadata": {},
     "output_type": "execute_result"
    }
   ],
   "source": [
    "train_accuracy.getInfo()"
   ]
  },
  {
   "cell_type": "code",
   "execution_count": 65,
   "metadata": {},
   "outputs": [
    {
     "data": {
      "text/plain": [
       "0.9366799771819737"
      ]
     },
     "execution_count": 65,
     "metadata": {},
     "output_type": "execute_result"
    }
   ],
   "source": [
    "train_accuracy.accuracy().getInfo()"
   ]
  },
  {
   "cell_type": "code",
   "execution_count": 66,
   "metadata": {},
   "outputs": [
    {
     "data": {
      "text/plain": [
       "0.9182179710905111"
      ]
     },
     "execution_count": 66,
     "metadata": {},
     "output_type": "execute_result"
    }
   ],
   "source": [
    "train_accuracy.kappa().getInfo()"
   ]
  },
  {
   "cell_type": "code",
   "execution_count": 67,
   "metadata": {},
   "outputs": [
    {
     "data": {
      "text/plain": [
       "[[0],\n",
       " [0.9926144756277696],\n",
       " [0.8109452736318408],\n",
       " [0.9135338345864662],\n",
       " [0.8878504672897196],\n",
       " [0.8695652173913043],\n",
       " [0.9473684210526315],\n",
       " [1],\n",
       " [0.9849624060150376],\n",
       " [0.9259259259259259],\n",
       " [0],\n",
       " [1],\n",
       " [0.8421052631578947],\n",
       " [0.8095238095238095],\n",
       " [0.875],\n",
       " [0.8705882352941177],\n",
       " [0.8666666666666667]]"
      ]
     },
     "execution_count": 67,
     "metadata": {},
     "output_type": "execute_result"
    }
   ],
   "source": [
    "train_accuracy.producersAccuracy().getInfo()"
   ]
  },
  {
   "cell_type": "code",
   "execution_count": 68,
   "metadata": {},
   "outputs": [
    {
     "data": {
      "text/plain": [
       "[[0,\n",
       "  0.9155313351498637,\n",
       "  0.9476744186046512,\n",
       "  0.9239543726235742,\n",
       "  0.9595959595959596,\n",
       "  1,\n",
       "  1,\n",
       "  1,\n",
       "  0.966789667896679,\n",
       "  1,\n",
       "  0,\n",
       "  1,\n",
       "  0.8421052631578947,\n",
       "  1,\n",
       "  0.875,\n",
       "  0.961038961038961,\n",
       "  1]]"
      ]
     },
     "execution_count": 68,
     "metadata": {},
     "output_type": "execute_result"
    }
   ],
   "source": [
    "train_accuracy.consumersAccuracy().getInfo()"
   ]
  },
  {
   "cell_type": "markdown",
   "metadata": {},
   "source": [
    "#### Set de datos de validación"
   ]
  },
  {
   "cell_type": "code",
   "execution_count": 69,
   "metadata": {},
   "outputs": [],
   "source": [
    "validated = validation.classify(classifier)"
   ]
  },
  {
   "cell_type": "code",
   "execution_count": 70,
   "metadata": {},
   "outputs": [
    {
     "data": {
      "text/plain": [
       "{'type': 'Feature',\n",
       " 'geometry': None,\n",
       " 'id': '9_0',\n",
       " 'properties': {'B1': -10,\n",
       "  'B2': 44,\n",
       "  'B3': 202,\n",
       "  'B4': 150,\n",
       "  'B5': 2683,\n",
       "  'B6': 1103,\n",
       "  'B7': 447,\n",
       "  'b1': 1,\n",
       "  'classification': 1,\n",
       "  'random': 0.9523946710457639}}"
      ]
     },
     "execution_count": 70,
     "metadata": {},
     "output_type": "execute_result"
    }
   ],
   "source": [
    "validated.first().getInfo()"
   ]
  },
  {
   "cell_type": "code",
   "execution_count": 74,
   "metadata": {},
   "outputs": [],
   "source": [
    "test_accuracy = validated.errorMatrix('b1', 'classification')"
   ]
  },
  {
   "cell_type": "code",
   "execution_count": 75,
   "metadata": {},
   "outputs": [
    {
     "data": {
      "text/plain": [
       "[[0, 0, 0, 0, 0, 0, 0, 0, 0, 0, 0, 0, 0, 0, 0, 0, 0],\n",
       " [0, 233, 29, 8, 1, 0, 1, 0, 0, 1, 0, 0, 0, 0, 0, 0, 3],\n",
       " [0, 50, 19, 5, 3, 0, 0, 0, 0, 0, 0, 0, 0, 0, 0, 0, 0],\n",
       " [0, 22, 4, 62, 6, 0, 1, 0, 3, 3, 0, 0, 1, 0, 0, 2, 1],\n",
       " [0, 7, 3, 17, 14, 2, 0, 0, 1, 0, 0, 0, 0, 0, 0, 2, 0],\n",
       " [0, 1, 0, 3, 2, 2, 0, 0, 0, 0, 0, 0, 1, 0, 0, 0, 0],\n",
       " [0, 2, 1, 0, 0, 0, 5, 0, 0, 0, 0, 0, 0, 0, 0, 0, 0],\n",
       " [0, 0, 0, 1, 0, 0, 0, 0, 1, 0, 0, 0, 0, 0, 0, 0, 0],\n",
       " [0, 0, 0, 2, 2, 1, 0, 0, 82, 0, 0, 0, 1, 1, 0, 5, 0],\n",
       " [0, 7, 2, 3, 0, 0, 0, 0, 0, 4, 0, 0, 0, 0, 0, 0, 0],\n",
       " [0, 0, 0, 0, 0, 0, 0, 0, 0, 0, 0, 0, 0, 0, 0, 0, 0],\n",
       " [0, 0, 0, 0, 0, 0, 0, 0, 0, 0, 0, 0, 0, 0, 0, 0, 0],\n",
       " [0, 0, 0, 5, 2, 0, 0, 0, 6, 0, 0, 0, 1, 0, 0, 1, 0],\n",
       " [0, 0, 0, 3, 4, 0, 0, 0, 8, 0, 0, 0, 0, 0, 0, 0, 0],\n",
       " [0, 0, 0, 0, 0, 0, 0, 0, 1, 0, 0, 0, 0, 0, 3, 0, 0],\n",
       " [0, 4, 0, 15, 4, 1, 1, 0, 6, 0, 0, 0, 2, 0, 0, 2, 0],\n",
       " [0, 8, 0, 4, 1, 0, 0, 0, 1, 0, 0, 0, 0, 0, 0, 0, 4]]"
      ]
     },
     "execution_count": 75,
     "metadata": {},
     "output_type": "execute_result"
    }
   ],
   "source": [
    "test_accuracy.getInfo()"
   ]
  },
  {
   "cell_type": "code",
   "execution_count": 76,
   "metadata": {},
   "outputs": [
    {
     "data": {
      "text/plain": [
       "0.5986111111111111"
      ]
     },
     "execution_count": 76,
     "metadata": {},
     "output_type": "execute_result"
    }
   ],
   "source": [
    "test_accuracy.accuracy().getInfo()"
   ]
  },
  {
   "cell_type": "code",
   "execution_count": 77,
   "metadata": {},
   "outputs": [
    {
     "data": {
      "text/plain": [
       "0.47367222892526234"
      ]
     },
     "execution_count": 77,
     "metadata": {},
     "output_type": "execute_result"
    }
   ],
   "source": [
    "test_accuracy.kappa().getInfo()"
   ]
  },
  {
   "cell_type": "code",
   "execution_count": 78,
   "metadata": {},
   "outputs": [
    {
     "data": {
      "text/plain": [
       "[[0],\n",
       " [0.8442028985507246],\n",
       " [0.24675324675324675],\n",
       " [0.5904761904761905],\n",
       " [0.30434782608695654],\n",
       " [0.2222222222222222],\n",
       " [0.625],\n",
       " [0],\n",
       " [0.8723404255319149],\n",
       " [0.25],\n",
       " [0],\n",
       " [0],\n",
       " [0.06666666666666667],\n",
       " [0],\n",
       " [0.75],\n",
       " [0.05714285714285714],\n",
       " [0.2222222222222222]]"
      ]
     },
     "execution_count": 78,
     "metadata": {},
     "output_type": "execute_result"
    }
   ],
   "source": [
    "test_accuracy.producersAccuracy().getInfo()"
   ]
  },
  {
   "cell_type": "code",
   "execution_count": 79,
   "metadata": {},
   "outputs": [
    {
     "data": {
      "text/plain": [
       "[[0,\n",
       "  0.6976047904191617,\n",
       "  0.3275862068965517,\n",
       "  0.484375,\n",
       "  0.358974358974359,\n",
       "  0.3333333333333333,\n",
       "  0.625,\n",
       "  0,\n",
       "  0.7522935779816514,\n",
       "  0.5,\n",
       "  0,\n",
       "  0,\n",
       "  0.16666666666666666,\n",
       "  0,\n",
       "  1,\n",
       "  0.16666666666666666,\n",
       "  0.5]]"
      ]
     },
     "execution_count": 79,
     "metadata": {},
     "output_type": "execute_result"
    }
   ],
   "source": [
    "test_accuracy.consumersAccuracy().getInfo()"
   ]
  },
  {
   "cell_type": "markdown",
   "metadata": {},
   "source": [
    "### Descargando la matrix"
   ]
  },
  {
   "cell_type": "code",
   "execution_count": null,
   "metadata": {},
   "outputs": [],
   "source": [
    "import csv\n",
    "import os\n",
    "\n",
    "out_dir = os.path.join(os.path.expanduser('/mnt/c/Users/R7 3700X/'), 'Desktop')\n",
    "training_csv = os.path.join(out_dir, 'train_accuracy.csv')\n",
    "testing_csv = os.path.join(out_dir, 'test_accuracy.csv')\n",
    "\n",
    "with open(training_csv, \"w\", newline=\"\") as f:\n",
    "    writer = csv.writer(f)\n",
    "    writer.writerows(train_accuracy.getInfo())\n",
    "    \n",
    "with open(testing_csv, \"w\", newline=\"\") as f:\n",
    "    writer = csv.writer(f)\n",
    "    writer.writerows(test_accuracy.getInfo())"
   ]
  },
  {
   "cell_type": "code",
   "execution_count": null,
   "metadata": {},
   "outputs": [],
   "source": []
  },
  {
   "cell_type": "markdown",
   "metadata": {},
   "source": [
    "### Exportando "
   ]
  },
  {
   "cell_type": "code",
   "execution_count": null,
   "metadata": {},
   "outputs": [],
   "source": [
    "import os\n",
    "out_dir = os.path.join(os.path.expanduser('/mnt/c/Users/R7 3700X/'), 'Desktop')\n",
    "out_file = os.path.join(out_dir, 'landcover.tif')"
   ]
  },
  {
   "cell_type": "code",
   "execution_count": null,
   "metadata": {},
   "outputs": [],
   "source": [
    "geemap.ee_export_image(landcover, filename=out_file, scale=900)\n"
   ]
  },
  {
   "cell_type": "code",
   "execution_count": null,
   "metadata": {},
   "outputs": [],
   "source": [
    "# geemap.ee_export_image_to_drive(landcover, description='landcover', folder='export', scale=900)"
   ]
  }
 ],
 "metadata": {
  "anaconda-cloud": {},
  "kernelspec": {
   "display_name": "Python 3",
   "language": "python",
   "name": "python3"
  },
  "language_info": {
   "codemirror_mode": {
    "name": "ipython",
    "version": 3
   },
   "file_extension": ".py",
   "mimetype": "text/x-python",
   "name": "python",
   "nbconvert_exporter": "python",
   "pygments_lexer": "ipython3",
   "version": "3.9.2"
  },
  "toc": {
   "base_numbering": 1,
   "nav_menu": {},
   "number_sections": true,
   "sideBar": true,
   "skip_h1_title": false,
   "title_cell": "Table of Contents",
   "title_sidebar": "Contents",
   "toc_cell": false,
   "toc_position": {},
   "toc_section_display": true,
   "toc_window_display": true
  },
  "varInspector": {
   "cols": {
    "lenName": 16,
    "lenType": 16,
    "lenVar": 40
   },
   "kernels_config": {
    "python": {
     "delete_cmd_postfix": "",
     "delete_cmd_prefix": "del ",
     "library": "var_list.py",
     "varRefreshCmd": "print(var_dic_list())"
    },
    "r": {
     "delete_cmd_postfix": ") ",
     "delete_cmd_prefix": "rm(",
     "library": "var_list.r",
     "varRefreshCmd": "cat(var_dic_list()) "
    }
   },
   "types_to_exclude": [
    "module",
    "function",
    "builtin_function_or_method",
    "instance",
    "_Feature"
   ],
   "window_display": false
  }
 },
 "nbformat": 4,
 "nbformat_minor": 4
}
