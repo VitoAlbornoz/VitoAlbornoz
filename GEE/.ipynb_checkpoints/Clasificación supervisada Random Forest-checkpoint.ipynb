{
 "cells": [
  {
   "cell_type": "markdown",
   "metadata": {},
   "source": [
    "<table class=\"ee-notebook-buttons\" align=\"left\">\n",
    "    <td><a target=\"_blank\"  href=\"https://github.com/giswqs/geemap/tree/master/examples/template/template.ipynb\"><img width=32px src=\"https://www.tensorflow.org/images/GitHub-Mark-32px.png\" /> View source on GitHub</a></td>\n",
    "    <td><a target=\"_blank\"  href=\"https://nbviewer.jupyter.org/github/giswqs/geemap/blob/master/examples/template/template.ipynb\"><img width=26px src=\"https://upload.wikimedia.org/wikipedia/commons/thumb/3/38/Jupyter_logo.svg/883px-Jupyter_logo.svg.png\" />Notebook Viewer</a></td>\n",
    "    <td><a target=\"_blank\"  href=\"https://colab.research.google.com/github/giswqs/geemap/blob/master/examples/template/template.ipynb\"><img src=\"https://www.tensorflow.org/images/colab_logo_32px.png\" /> Run in Google Colab</a></td>\n",
    "</table>"
   ]
  },
  {
   "cell_type": "markdown",
   "metadata": {},
   "source": [
    "# Clasificación supervisada Random Forest\n",
    "Script trabajado por Francisco Albornoz (2021-04-13) / Última modificación / Análisis y clasificación supervisada región de Aysen"
   ]
  },
  {
   "cell_type": "markdown",
   "metadata": {},
   "source": [
    "<img src=https://www.ecopaysen.cl/wp-content/uploads/2019/12/ecopaysen_marca_web.png>"
   ]
  },
  {
   "cell_type": "code",
   "execution_count": 1,
   "metadata": {},
   "outputs": [],
   "source": [
    "# Installs geemap package\n",
    "# import subprocess\n",
    "\n",
    "# try:\n",
    "#     import geemap\n",
    "# except ImportError:\n",
    "#     print(\"Installing geemap ...\")\n",
    "#     subprocess.check_call([\"python\", \"-m\", \"pip\", \"install\", \"geemap\"])"
   ]
  },
  {
   "cell_type": "code",
   "execution_count": 2,
   "metadata": {},
   "outputs": [],
   "source": [
    "import os\n",
    "import ee\n",
    "import geemap\n",
    "import xarray_leaflet\n",
    "import rasterio \n",
    "from rasterio import plot\n",
    "import matplotlib.pyplot as plt\n",
    "import numpy as np\n",
    "%matplotlib inline"
   ]
  },
  {
   "cell_type": "markdown",
   "metadata": {},
   "source": [
    "## Crear un mapa interactivo \n",
    "The default basemap is `Google Maps`. [Additional basemaps](https://github.com/giswqs/geemap/blob/master/geemap/basemaps.py) can be added using the `Map.add_basemap()` function. "
   ]
  },
  {
   "cell_type": "code",
   "execution_count": 3,
   "metadata": {},
   "outputs": [
    {
     "data": {
      "application/vnd.jupyter.widget-view+json": {
       "model_id": "a0bb55fceddd4e5f85a57857252162c9",
       "version_major": 2,
       "version_minor": 0
      },
      "text/plain": [
       "Map(center=[40, -100], controls=(WidgetControl(options=['position', 'transparent_bg'], widget=HBox(children=(T…"
      ]
     },
     "metadata": {},
     "output_type": "display_data"
    }
   ],
   "source": [
    "Map = geemap.Map()\n",
    "Map"
   ]
  },
  {
   "cell_type": "markdown",
   "metadata": {},
   "source": [
    "## Escogemos la imagen landsat "
   ]
  },
  {
   "cell_type": "code",
   "execution_count": 4,
   "metadata": {},
   "outputs": [],
   "source": [
    "centroid = ee.Geometry.Point([-72, -44])\n",
    "\n",
    "landsat = ee.ImageCollection('LANDSAT/LC08/C01/T1_SR') \\\n",
    "    .filterBounds(centroid) \\\n",
    "    .filterDate('2020-01-01', '2021-03-31') \\\n",
    "    .sort('CLOUD_COVER') \\\n",
    "    .first() \\\n",
    "    .select('B[1-7]')\n",
    "\n",
    "landsat_vis = {\n",
    "    'min': 0,\n",
    "    'max': 3000,\n",
    "    'bands': ['B5', 'B4', 'B3']\n",
    "}\n",
    "\n",
    "Map.centerObject(centroid, 8)\n",
    "Map.addLayer(landsat, landsat_vis, \"Landsat-8\")\n",
    "\n",
    "\n",
    "# Define spectral bands to be used for supervised classification\n",
    "# bands = ['B1', 'B2', 'B3', 'B4', 'B5', 'B6', 'B7', 'B10', 'B11']\n",
    "# landsatbands = landsat.select(bands)\n",
    "\n",
    "\n",
    "# IMPORTANT NOTE:\n",
    "# On LANDSAT 8 images, Band 12 (a data quality assessment band) is not useful for classification purposes.\n",
    "# Band 8 (panchromatic) is not used here as well because it has different spatial resolution (15 m), and\n",
    "# more importantly, its spectral information is redundant (its content overlaps with B2, B3 and B4).\n",
    "#\n",
    "\n",
    "# Define geometries for the training data of X land cover classes: water, vegetation, bare ground, and urban\n",
    "\n",
    "\n",
    "\n",
    "# print(agua)\n",
    "\n",
    "\n",
    "\n",
    "\n",
    "# # Generate a feature collection from the geometries created for each land cover class\n",
    "# muestras = agua.merge(urbano).merge(bosque).merge(hielo).merge(agro).merge(suelo)\n",
    "# print(muestras)\n",
    "\n",
    "# # Make the training dataset\n",
    "# training = image.select(bands).sampleRegions({\n",
    "#   'collection': muestras,\n",
    "#   'properties': ['class'],\n",
    "#   'scale': 150\n",
    "# })\n",
    "# print(training)\n",
    "\n",
    "# # Create a Random Forest (RF) classifier with custom parameters\n",
    "# classifierRF = ee.Classifier.smileRandomForest({\n",
    "#   'numberOfTrees': 10\n",
    "# })\n",
    "\n",
    "# # Train the classifier\n",
    "# trainedRF  = classifierRF.train(training, 'class', bands)\n",
    "\n",
    "# # Classify the image using the trained classifier\n",
    "# classesRF  = image.classify(trainedRF)\n",
    "\n",
    "# # Create a palette to display the land cover maps\n",
    "# palette = ['blue', 'green', 'yellow', 'gray','red','purple']\n",
    "\n",
    "# # Display the classification result and the input image\n",
    "# Map.centerObject(image, 7)\n",
    "# Map.addLayer(image, {'bands': ['B4',  'B3',  'B2'], 'min':20, 'max': 10000, 'gamma': 2}, 'True color image', True)\n",
    "# Map.addLayer(classesRF, {'min': 0, 'max': 6, 'palette': palette}, 'RF classification', False)\n",
    "# print(classesRF)\n",
    "\n",
    "# # Display geometries with the training dataset\n",
    "# Map.addLayer(agua, {'color': 'green'}, 'agua', False)\n",
    "# Map.addLayer(bosque, {'color': 'red'}, 'bosque', False)\n",
    "# Map.addLayer(suelo, {'color': 'black'}, 'suelo', False)\n",
    "# Map.addLayer(urbano, {'color': 'BEBEBE'}, 'urbano', False)\n",
    "# Map.addLayer(hielo,{'color':'purple'},'Hielo', False)\n",
    "# Map.addLayer(agro, {'color':'green'}, 'Actividad agro',False)\n",
    "\n",
    "# # Get the confusion matrices representing resubstitution accuracy for the classification\n",
    "# trainAccuracyRF = trainedRF.confusionMatrix()\n",
    "# print('RF resubstitution error matrix: ', trainAccuracyRF)\n",
    "# print('RF training overall accuracy: ', trainAccuracyRF.accuracy())\n",
    "\n",
    "# Export.image.toDrive(classesRF, 'Exportedclass')\n"
   ]
  },
  {
   "cell_type": "markdown",
   "metadata": {},
   "source": [
    "## Importar rasters locales "
   ]
  },
  {
   "cell_type": "code",
   "execution_count": 5,
   "metadata": {},
   "outputs": [
    {
     "data": {
      "text/plain": [
       "'/mnt/c/Users/Usuario/Documents/GitHub/VitoAlbornoz/GEE'"
      ]
     },
     "execution_count": 5,
     "metadata": {},
     "output_type": "execute_result"
    }
   ],
   "source": [
    "%pwd"
   ]
  },
  {
   "cell_type": "code",
   "execution_count": 6,
   "metadata": {},
   "outputs": [],
   "source": [
    "# verificar en el sistema del pc cual es la ruta\n",
    "# os.path.expanduser('/mnt/c/Users/R7 3700X/Documents/GitHub/VitoAlbornoz/') "
   ]
  },
  {
   "cell_type": "code",
   "execution_count": 7,
   "metadata": {},
   "outputs": [],
   "source": [
    "# verificar en el sistema del pc cual es la ruta\n",
    "out_dir = os.path.join(os.path.expanduser('/mnt/c/Users/Usuario/Documents/GitHub/VitoAlbornoz/'), 'Data')\n",
    "if not os.path.exists(out_dir):\n",
    "    os.makedirs(out_dir)\n",
    "\n",
    "raster_aysen = os.path.join(out_dir, 'landcover_2018_aysen.tif')"
   ]
  },
  {
   "cell_type": "code",
   "execution_count": 8,
   "metadata": {},
   "outputs": [
    {
     "data": {
      "text/plain": [
       "'/mnt/c/Users/Usuario/Documents/GitHub/VitoAlbornoz/Data'"
      ]
     },
     "execution_count": 8,
     "metadata": {},
     "output_type": "execute_result"
    }
   ],
   "source": [
    "out_dir"
   ]
  },
  {
   "cell_type": "code",
   "execution_count": 9,
   "metadata": {},
   "outputs": [
    {
     "data": {
      "text/plain": [
       "'/mnt/c/Users/Usuario/Documents/GitHub/VitoAlbornoz/Data/landcover_2018_aysen.tif'"
      ]
     },
     "execution_count": 9,
     "metadata": {},
     "output_type": "execute_result"
    }
   ],
   "source": [
    "raster_aysen"
   ]
  },
  {
   "cell_type": "code",
   "execution_count": 10,
   "metadata": {},
   "outputs": [
    {
     "data": {
      "application/vnd.jupyter.widget-view+json": {
       "model_id": "a0bb55fceddd4e5f85a57857252162c9",
       "version_major": 2,
       "version_minor": 0
      },
      "text/plain": [
       "Map(center=[-44, -72], controls=(WidgetControl(options=['position', 'transparent_bg'], widget=HBox(children=(T…"
      ]
     },
     "metadata": {},
     "output_type": "display_data"
    }
   ],
   "source": [
    "Map.add_raster(raster_aysen, colormap= 'terrain', layer_name='Landcover 2018')\n",
    "Map"
   ]
  },
  {
   "cell_type": "code",
   "execution_count": 11,
   "metadata": {},
   "outputs": [
    {
     "data": {
      "text/plain": [
       "<ee.image.Image at 0x7f40d2b1ac70>"
      ]
     },
     "execution_count": 11,
     "metadata": {},
     "output_type": "execute_result"
    }
   ],
   "source": [
    "landcover = ee.Image(\"users/franciscoalbornoz/landcover_sur\")\n",
    "landcover"
   ]
  },
  {
   "cell_type": "code",
   "execution_count": 12,
   "metadata": {},
   "outputs": [],
   "source": [
    "raster = rasterio.open(out_dir+'/landcover_2018_aysen.tif')"
   ]
  },
  {
   "cell_type": "code",
   "execution_count": 13,
   "metadata": {},
   "outputs": [
    {
     "data": {
      "text/plain": [
       "BoundingBox(left=-73.169644655, bottom=-46.394042378, right=-70.719691266, top=-43.705745621)"
      ]
     },
     "execution_count": 13,
     "metadata": {},
     "output_type": "execute_result"
    }
   ],
   "source": [
    "raster.bounds"
   ]
  },
  {
   "cell_type": "code",
   "execution_count": 14,
   "metadata": {},
   "outputs": [
    {
     "data": {
      "text/plain": [
       "CRS.from_epsg(4326)"
      ]
     },
     "execution_count": 14,
     "metadata": {},
     "output_type": "execute_result"
    }
   ],
   "source": [
    "raster.crs"
   ]
  },
  {
   "cell_type": "code",
   "execution_count": 15,
   "metadata": {},
   "outputs": [
    {
     "data": {
      "text/plain": [
       "<open DatasetReader name='/mnt/c/Users/Usuario/Documents/GitHub/VitoAlbornoz/Data/landcover_2018_aysen.tif' mode='r'>"
      ]
     },
     "execution_count": 15,
     "metadata": {},
     "output_type": "execute_result"
    }
   ],
   "source": [
    "raster"
   ]
  },
  {
   "cell_type": "markdown",
   "metadata": {},
   "source": [
    "## Obteniendo los valores para el Training Datasets"
   ]
  },
  {
   "cell_type": "code",
   "execution_count": 16,
   "metadata": {},
   "outputs": [
    {
     "data": {
      "application/vnd.jupyter.widget-view+json": {
       "model_id": "a0bb55fceddd4e5f85a57857252162c9",
       "version_major": 2,
       "version_minor": 0
      },
      "text/plain": [
       "Map(center=[-44, -72], controls=(WidgetControl(options=['position', 'transparent_bg'], widget=HBox(children=(T…"
      ]
     },
     "metadata": {},
     "output_type": "display_data"
    }
   ],
   "source": [
    "points = landcover.sample(**{\n",
    "#     'region': landsat.geometry(),\n",
    "    'scale': 30,\n",
    "    'numPixels': 20000,\n",
    "    'seed': 0,\n",
    "    'geometries': True  # Set this to False to ignore geometries\n",
    "})\n",
    "\n",
    "Map.addLayer(points, {}, 'training', False)\n",
    "Map"
   ]
  },
  {
   "cell_type": "code",
   "execution_count": 17,
   "metadata": {},
   "outputs": [
    {
     "name": "stdout",
     "output_type": "stream",
     "text": [
      "4332\n"
     ]
    }
   ],
   "source": [
    "print(points.size().getInfo())"
   ]
  },
  {
   "cell_type": "code",
   "execution_count": 18,
   "metadata": {},
   "outputs": [
    {
     "name": "stdout",
     "output_type": "stream",
     "text": [
      "{'type': 'Feature', 'geometry': {'type': 'Point', 'coordinates': [-72.13225057296826, -45.41726503680242]}, 'id': '9', 'properties': {'b1': 1}}\n"
     ]
    }
   ],
   "source": [
    "print(points.first().getInfo())"
   ]
  },
  {
   "cell_type": "markdown",
   "metadata": {},
   "source": [
    "### Dividiendo en muestras y datos de validación"
   ]
  },
  {
   "cell_type": "code",
   "execution_count": 19,
   "metadata": {},
   "outputs": [],
   "source": [
    "# Guardamos las bandas\n",
    "bands = ['B1', 'B2', 'B3', 'B4', 'B5', 'B6', 'B7']\n",
    "\n",
    "# Esta propiedad guarda las clases de landcover\n",
    "label = 'b1'\n",
    "\n",
    "# Overlay the points on the imagery to get training.\n",
    "sample = landsat.select(bands).sampleRegions(**{\n",
    "  'collection': points,\n",
    "  'properties': [label],\n",
    "  'scale': 30\n",
    "})\n",
    "\n",
    "# Adds a column of deterministic pseudorandom numbers. \n",
    "sample = sample.randomColumn()\n",
    "\n",
    "split = 0.7 \n",
    "\n",
    "training = sample.filter(ee.Filter.lt('random', split))\n",
    "validation = sample.filter(ee.Filter.gte('random', split))"
   ]
  },
  {
   "cell_type": "code",
   "execution_count": 20,
   "metadata": {},
   "outputs": [
    {
     "data": {
      "text/plain": [
       "{'type': 'Feature',\n",
       " 'geometry': None,\n",
       " 'id': '11_0',\n",
       " 'properties': {'B1': 75,\n",
       "  'B2': 107,\n",
       "  'B3': 218,\n",
       "  'B4': 161,\n",
       "  'B5': 1706,\n",
       "  'B6': 759,\n",
       "  'B7': 318,\n",
       "  'b1': 1,\n",
       "  'random': 0.41729453605741296}}"
      ]
     },
     "execution_count": 20,
     "metadata": {},
     "output_type": "execute_result"
    }
   ],
   "source": [
    "training.first().getInfo()"
   ]
  },
  {
   "cell_type": "code",
   "execution_count": 21,
   "metadata": {},
   "outputs": [
    {
     "data": {
      "text/plain": [
       "{'type': 'Feature',\n",
       " 'geometry': None,\n",
       " 'id': '9_0',\n",
       " 'properties': {'B1': -10,\n",
       "  'B2': 44,\n",
       "  'B3': 202,\n",
       "  'B4': 150,\n",
       "  'B5': 2683,\n",
       "  'B6': 1103,\n",
       "  'B7': 447,\n",
       "  'b1': 1,\n",
       "  'random': 0.9523946710457639}}"
      ]
     },
     "execution_count": 21,
     "metadata": {},
     "output_type": "execute_result"
    }
   ],
   "source": [
    "validation.first().getInfo()"
   ]
  },
  {
   "cell_type": "markdown",
   "metadata": {},
   "source": [
    "## Entrenando el modelo "
   ]
  },
  {
   "cell_type": "code",
   "execution_count": 26,
   "metadata": {},
   "outputs": [],
   "source": [
    "classifier = ee.Classifier.smileRandomForest(10).train(training, label, bands)"
   ]
  },
  {
   "cell_type": "markdown",
   "metadata": {},
   "source": [
    "### Clasificando la imagen"
   ]
  },
  {
   "cell_type": "code",
   "execution_count": 27,
   "metadata": {},
   "outputs": [
    {
     "data": {
      "application/vnd.jupyter.widget-view+json": {
       "model_id": "a0bb55fceddd4e5f85a57857252162c9",
       "version_major": 2,
       "version_minor": 0
      },
      "text/plain": [
       "Map(bottom=10794.0, center=[-45.05024026979461, -71.94396972656251], controls=(WidgetControl(options=['positio…"
      ]
     },
     "metadata": {},
     "output_type": "display_data"
    }
   ],
   "source": [
    "# Clasificando con las mismas bandas de entrenamiento\n",
    "result = landsat.select(bands).classify(classifier)\n",
    "\n",
    "# # Display the clusters with random colors.\n",
    "Map.addLayer(result.randomVisualizer(), {}, 'classificado')\n",
    "Map"
   ]
  },
  {
   "cell_type": "code",
   "execution_count": 30,
   "metadata": {},
   "outputs": [
    {
     "data": {
      "text/plain": [
       "{'type': 'Image',\n",
       " 'bands': [{'id': 'classification',\n",
       "   'data_type': {'type': 'PixelType',\n",
       "    'precision': 'int',\n",
       "    'min': -2147483648,\n",
       "    'max': 2147483647},\n",
       "   'dimensions': [8021, 8031],\n",
       "   'crs': 'EPSG:32618',\n",
       "   'crs_transform': [30, 0, 563985, 0, -30, -4821885]}],\n",
       " 'properties': {'system:footprint': {'type': 'LinearRing',\n",
       "   'coordinates': [[-73.98100708063204, -44.76775844527536],\n",
       "    [-74.02202469346787, -44.8756033385409],\n",
       "    [-74.07633879770931, -45.017837247288014],\n",
       "    [-74.1620664470257, -45.240975627916335],\n",
       "    [-74.12979270115957, -45.247229462546805],\n",
       "    [-73.75657231289094, -45.31840257196503],\n",
       "    [-72.21717928320084, -45.59721423322858],\n",
       "    [-71.8122584780602, -45.6666364632359],\n",
       "    [-71.811454875824, -45.666026316684444],\n",
       "    [-71.7551818233905, -45.50246632934048],\n",
       "    [-71.5339811576147, -44.84878097061749],\n",
       "    [-71.31731944321463, -44.1947660573219],\n",
       "    [-71.24148928715591, -43.96082893395694],\n",
       "    [-71.30659742060537, -43.949660914549824],\n",
       "    [-73.27735814231443, -43.59286227609899],\n",
       "    [-73.52484902290149, -43.545317973086284],\n",
       "    [-73.63486308740627, -43.84396830198354],\n",
       "    [-73.71589738388066, -44.06251293594148],\n",
       "    [-73.78736819264942, -44.25406463154044],\n",
       "    [-73.83198304181589, -44.37309870634747],\n",
       "    [-73.89972566727127, -44.553057571565056],\n",
       "    [-73.98100708063204, -44.76775844527536]]}}}"
      ]
     },
     "execution_count": 30,
     "metadata": {},
     "output_type": "execute_result"
    }
   ],
   "source": [
    "result.getInfo()"
   ]
  },
  {
   "cell_type": "markdown",
   "metadata": {},
   "source": [
    "### Categorizando según las clases "
   ]
  },
  {
   "cell_type": "code",
   "execution_count": 31,
   "metadata": {},
   "outputs": [
    {
     "data": {
      "text/plain": [
       "{'type': 'Image',\n",
       " 'bands': [{'id': 'b1',\n",
       "   'data_type': {'type': 'PixelType',\n",
       "    'precision': 'int',\n",
       "    'min': 0,\n",
       "    'max': 255},\n",
       "   'dimensions': [6213, 10344],\n",
       "   'crs': 'EPSG:4326',\n",
       "   'crs_transform': [0.00039432695783035585,\n",
       "    0,\n",
       "    -73.169644655,\n",
       "    0,\n",
       "    -0.00025988947766821376,\n",
       "    -43.705745621]}],\n",
       " 'version': 1618258778374729,\n",
       " 'id': 'users/franciscoalbornoz/landcover_sur',\n",
       " 'properties': {'system:footprint': {'type': 'LinearRing',\n",
       "   'coordinates': [[-71.7915705454372, -46.394233097905705],\n",
       "    [-71.48537564335197, -46.394233113935314],\n",
       "    [-71.17918071529392, -46.394233134441336],\n",
       "    [-70.71942341871768, -46.39423280743593],\n",
       "    [-70.71944481304791, -43.70555461483804],\n",
       "    [-70.94953461187166, -43.705478246600414],\n",
       "    [-71.17918079334628, -43.70555488795941],\n",
       "    [-71.40882695158388, -43.70547823784516],\n",
       "    [-71.71502184267688, -43.705478227199414],\n",
       "    [-72.02121670565627, -43.7054782640891],\n",
       "    [-72.32741161353145, -43.70547824476745],\n",
       "    [-72.63360641182706, -43.70547823740376],\n",
       "    [-72.93980131281272, -43.705478270250985],\n",
       "    [-73.16989108223163, -43.705554588274076],\n",
       "    [-73.16991250363948, -46.39423280865199],\n",
       "    [-72.7101551325533, -46.394233120733865],\n",
       "    [-72.40396027111386, -46.394233129531074],\n",
       "    [-72.09776540876062, -46.394233135894765],\n",
       "    [-71.7915705454372, -46.394233097905705]]},\n",
       "  'system:asset_size': 3804998}}"
      ]
     },
     "execution_count": 31,
     "metadata": {},
     "output_type": "execute_result"
    }
   ],
   "source": [
    "landcover.getInfo()"
   ]
  },
  {
   "cell_type": "code",
   "execution_count": 32,
   "metadata": {},
   "outputs": [],
   "source": [
    "class_values = [1,\n",
    " 2,\n",
    " 3,\n",
    " 4,\n",
    " 5,\n",
    " 6,\n",
    " 7,\n",
    " 8,\n",
    " 9,\n",
    " 10,\n",
    " 11,\n",
    " 12,\n",
    " 13,\n",
    " 14,\n",
    " 15,\n",
    " 16]"
   ]
  },
  {
   "cell_type": "code",
   "execution_count": 33,
   "metadata": {},
   "outputs": [],
   "source": [
    "class_palette = ['476ba1',\n",
    " 'd1defa',\n",
    " 'decaca',\n",
    " 'd99482',\n",
    " 'ee0000',\n",
    " 'ab0000',\n",
    " 'b3aea3',\n",
    " '68ab63',\n",
    " '1c6330',\n",
    " 'b5ca8f',\n",
    " 'a68c30',\n",
    " 'ccba7d',\n",
    " 'e3e3c2',\n",
    " 'caca78',\n",
    " '99c247',\n",
    " '78ae94']\n"
   ]
  },
  {
   "cell_type": "code",
   "execution_count": null,
   "metadata": {},
   "outputs": [],
   "source": [
    "# clases = [\"Bosque Adulto\",       #1\n",
    "#            \"Renoval\",             #2\n",
    "#            \"Matorrales\",          #3\n",
    "#            \"Praderas\",            #4\n",
    "#            \"Agropecuario\",        #5\n",
    "#            \"Agua\",                #6\n",
    "#            \"Humedales\",           #7 \n",
    "#            \"Suelo Desnudo\",       #8\n",
    "#            \"Plantación Forestal\", #9\n",
    "#            \"Incendio\",            #10\n",
    "#            \"Urbano\",              #11\n",
    "#            \"Estepa\",              #12\n",
    "#            \"Estepa abierta\",      #13\n",
    "#            \"Glaciares-Nieve\",     #14\n",
    "#            \"Vegetación de altura\",#15\n",
    "#            \"No clasificado\"]     #16"
   ]
  },
  {
   "cell_type": "code",
   "execution_count": 34,
   "metadata": {},
   "outputs": [],
   "source": [
    "landcoverf = result.set('classification_class_values', class_values)\n",
    "landcoverf = landcoverf.set('classification_class_palette', class_palette)"
   ]
  },
  {
   "cell_type": "code",
   "execution_count": null,
   "metadata": {},
   "outputs": [],
   "source": [
    "landcoverf.first().getInfo()"
   ]
  },
  {
   "cell_type": "code",
   "execution_count": 35,
   "metadata": {},
   "outputs": [
    {
     "data": {
      "application/vnd.jupyter.widget-view+json": {
       "model_id": "a0bb55fceddd4e5f85a57857252162c9",
       "version_major": 2,
       "version_minor": 0
      },
      "text/plain": [
       "Map(bottom=84297.0, center=[-45.14524196975274, -72.43560791015626], controls=(WidgetControl(options=['positio…"
      ]
     },
     "metadata": {},
     "output_type": "display_data"
    }
   ],
   "source": [
    "Map.addLayer(landcoverf, {}, 'Land cover clasificado' )\n",
    "Map"
   ]
  },
  {
   "cell_type": "markdown",
   "metadata": {},
   "source": [
    "### Visualizando el resultado\n"
   ]
  },
  {
   "cell_type": "code",
   "execution_count": null,
   "metadata": {},
   "outputs": [],
   "source": [
    "print('Change layer opacity:')\n",
    "cluster_layer = Map.layers[-1]\n",
    "cluster_layer.interact(opacity=(0, 1, 0.1))"
   ]
  },
  {
   "cell_type": "markdown",
   "metadata": {},
   "source": [
    "### Agregando título al mapa"
   ]
  },
  {
   "cell_type": "code",
   "execution_count": null,
   "metadata": {},
   "outputs": [],
   "source": [
    "# Map.add_legend('Clasificación supervisada Random Forest')\n",
    "# Map"
   ]
  },
  {
   "cell_type": "markdown",
   "metadata": {},
   "source": [
    "### Evaluación de presición / Accuracy assessment"
   ]
  },
  {
   "cell_type": "code",
   "execution_count": null,
   "metadata": {},
   "outputs": [],
   "source": [
    "train_accuracy = classifier.confusionMatrix()"
   ]
  },
  {
   "cell_type": "code",
   "execution_count": null,
   "metadata": {},
   "outputs": [],
   "source": [
    "train_accuracy.getInfo()"
   ]
  },
  {
   "cell_type": "code",
   "execution_count": null,
   "metadata": {},
   "outputs": [],
   "source": [
    "train_accuracy.accuracy().getInfo()"
   ]
  },
  {
   "cell_type": "code",
   "execution_count": null,
   "metadata": {},
   "outputs": [],
   "source": [
    "train_accuracy.kappa().getInfo()"
   ]
  },
  {
   "cell_type": "code",
   "execution_count": null,
   "metadata": {},
   "outputs": [],
   "source": [
    "train_accuracy.producersAccuracy().getInfo()"
   ]
  },
  {
   "cell_type": "code",
   "execution_count": null,
   "metadata": {},
   "outputs": [],
   "source": [
    "train_accuracy.consumersAccuracy().getInfo()"
   ]
  },
  {
   "cell_type": "markdown",
   "metadata": {},
   "source": [
    "#### Set de datos de validación"
   ]
  },
  {
   "cell_type": "code",
   "execution_count": null,
   "metadata": {},
   "outputs": [],
   "source": [
    "validated = validation.classify(classifier)"
   ]
  },
  {
   "cell_type": "code",
   "execution_count": null,
   "metadata": {},
   "outputs": [],
   "source": [
    "validated.first().getInfo()"
   ]
  },
  {
   "cell_type": "code",
   "execution_count": null,
   "metadata": {},
   "outputs": [],
   "source": [
    "test_accuracy = validated.errorMatrix('b1', 'classification')"
   ]
  },
  {
   "cell_type": "code",
   "execution_count": null,
   "metadata": {},
   "outputs": [],
   "source": [
    "test_accuracy.getInfo()"
   ]
  },
  {
   "cell_type": "code",
   "execution_count": null,
   "metadata": {},
   "outputs": [],
   "source": [
    "test_accuracy.accuracy().getInfo()"
   ]
  },
  {
   "cell_type": "code",
   "execution_count": null,
   "metadata": {},
   "outputs": [],
   "source": [
    "test_accuracy.kappa().getInfo()"
   ]
  },
  {
   "cell_type": "code",
   "execution_count": null,
   "metadata": {},
   "outputs": [],
   "source": [
    "test_accuracy.producersAccuracy().getInfo()"
   ]
  },
  {
   "cell_type": "code",
   "execution_count": null,
   "metadata": {},
   "outputs": [],
   "source": [
    "test_accuracy.consumersAccuracy().getInfo()"
   ]
  },
  {
   "cell_type": "markdown",
   "metadata": {},
   "source": [
    "### Descargando la matrix"
   ]
  },
  {
   "cell_type": "code",
   "execution_count": null,
   "metadata": {},
   "outputs": [],
   "source": [
    "import csv\n",
    "import os\n",
    "\n",
    "out_dir = os.path.join(os.path.expanduser('/mnt/c/Users/Usuario/'), 'Desktop')\n",
    "training_csv = os.path.join(out_dir, 'train_accuracy.csv')\n",
    "testing_csv = os.path.join(out_dir, 'test_accuracy.csv')\n",
    "\n",
    "with open(training_csv, \"w\", newline=\"\") as f:\n",
    "    writer = csv.writer(f)\n",
    "    writer.writerows(train_accuracy.getInfo())\n",
    "    \n",
    "with open(testing_csv, \"w\", newline=\"\") as f:\n",
    "    writer = csv.writer(f)\n",
    "    writer.writerows(test_accuracy.getInfo())"
   ]
  },
  {
   "cell_type": "code",
   "execution_count": null,
   "metadata": {},
   "outputs": [],
   "source": []
  },
  {
   "cell_type": "markdown",
   "metadata": {},
   "source": [
    "### Exportando "
   ]
  },
  {
   "cell_type": "code",
   "execution_count": null,
   "metadata": {},
   "outputs": [],
   "source": [
    "import os\n",
    "out_dir = os.path.join(os.path.expanduser('/mnt/c/Users/Usuario/'), 'Desktop')\n",
    "out_file = os.path.join(out_dir, 'landcover.tif')"
   ]
  },
  {
   "cell_type": "code",
   "execution_count": null,
   "metadata": {},
   "outputs": [],
   "source": [
    "geemap.ee_export_image(landcover, filename=out_file, scale=900)\n"
   ]
  },
  {
   "cell_type": "code",
   "execution_count": null,
   "metadata": {},
   "outputs": [],
   "source": [
    "# geemap.ee_export_image_to_drive(landcover, description='landcover', folder='export', scale=900)"
   ]
  }
 ],
 "metadata": {
  "anaconda-cloud": {},
  "kernelspec": {
   "display_name": "Python 3",
   "language": "python",
   "name": "python3"
  },
  "language_info": {
   "codemirror_mode": {
    "name": "ipython",
    "version": 3
   },
   "file_extension": ".py",
   "mimetype": "text/x-python",
   "name": "python",
   "nbconvert_exporter": "python",
   "pygments_lexer": "ipython3",
   "version": "3.9.2"
  },
  "toc": {
   "base_numbering": 1,
   "nav_menu": {},
   "number_sections": true,
   "sideBar": true,
   "skip_h1_title": false,
   "title_cell": "Table of Contents",
   "title_sidebar": "Contents",
   "toc_cell": false,
   "toc_position": {},
   "toc_section_display": true,
   "toc_window_display": true
  },
  "varInspector": {
   "cols": {
    "lenName": 16,
    "lenType": 16,
    "lenVar": 40
   },
   "kernels_config": {
    "python": {
     "delete_cmd_postfix": "",
     "delete_cmd_prefix": "del ",
     "library": "var_list.py",
     "varRefreshCmd": "print(var_dic_list())"
    },
    "r": {
     "delete_cmd_postfix": ") ",
     "delete_cmd_prefix": "rm(",
     "library": "var_list.r",
     "varRefreshCmd": "cat(var_dic_list()) "
    }
   },
   "types_to_exclude": [
    "module",
    "function",
    "builtin_function_or_method",
    "instance",
    "_Feature"
   ],
   "window_display": false
  }
 },
 "nbformat": 4,
 "nbformat_minor": 4
}
