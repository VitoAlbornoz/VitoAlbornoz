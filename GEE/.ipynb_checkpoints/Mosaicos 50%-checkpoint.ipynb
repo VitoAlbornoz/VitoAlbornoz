{
 "cells": [
  {
   "cell_type": "markdown",
   "id": "de46a481",
   "metadata": {},
   "source": [
    "# Scripts de mosaicos"
   ]
  },
  {
   "cell_type": "code",
   "execution_count": 1,
   "id": "05c57752",
   "metadata": {},
   "outputs": [],
   "source": [
    "import ee\n",
    "import geemap\n",
    "import os\n",
    "import folium"
   ]
  },
  {
   "cell_type": "markdown",
   "id": "33eba764",
   "metadata": {},
   "source": [
    "## Área de Estudio"
   ]
  },
  {
   "cell_type": "code",
   "execution_count": 2,
   "id": "5e419573",
   "metadata": {},
   "outputs": [],
   "source": [
    "Map = geemap.Map()"
   ]
  },
  {
   "cell_type": "code",
   "execution_count": 3,
   "id": "faf098dc",
   "metadata": {},
   "outputs": [],
   "source": [
    "countries = ee.FeatureCollection('users/giswqs/public/countries')\n",
    "roi = countries.filter(ee.Filter.eq('id', 'CHL'))\n",
    "Map.addLayer(roi, {}, 'roi')"
   ]
  },
  {
   "cell_type": "markdown",
   "id": "01ec18b8",
   "metadata": {},
   "source": [
    "### Patagonia"
   ]
  },
  {
   "cell_type": "code",
   "execution_count": 4,
   "id": "0ad12fa1",
   "metadata": {},
   "outputs": [],
   "source": [
    "work_dir = os.path.expanduser('../Data/shapes/')\n",
    "patagonia = os.path.join(work_dir, 'patagonia.shp')\n",
    "patagonia_grande = geemap.shp_to_ee(patagonia)\n",
    "Map.addLayer(patagonia_grande, {}, 'Patagonia')"
   ]
  },
  {
   "cell_type": "markdown",
   "id": "6ecf6f6e",
   "metadata": {},
   "source": [
    "## Funciones"
   ]
  },
  {
   "cell_type": "code",
   "execution_count": 5,
   "id": "aed2aaff",
   "metadata": {},
   "outputs": [],
   "source": [
    "def addNDVI(image): \n",
    "    ndvi = image.normalizedDifference(['B5', 'B4']).rename('NDVI')\n",
    "    return image.addBands(ndvi)"
   ]
  },
  {
   "cell_type": "code",
   "execution_count": 6,
   "id": "119fbc6f",
   "metadata": {},
   "outputs": [],
   "source": [
    "def addDate(image):\n",
    "    img_date = ee.Date(image.date())\n",
    "    img_date = ee.Number.parse(img_date.format('YYYYMMdd'))\n",
    "    return image.addBands(ee.Image(img_date).rename('date').toInt())"
   ]
  },
  {
   "cell_type": "code",
   "execution_count": 7,
   "id": "48a7d239",
   "metadata": {},
   "outputs": [],
   "source": [
    "def addMonth(image):\n",
    "    img_date = ee.Date(image.date())\n",
    "    img_doy = ee.Number.parse(img_date.format('M'))\n",
    "    return image.addBands(ee.Image(img_doy).rename('month').toInt())"
   ]
  },
  {
   "cell_type": "code",
   "execution_count": 8,
   "id": "baacb5aa",
   "metadata": {},
   "outputs": [],
   "source": [
    "def addDOY(image):\n",
    "    img_date = ee.Date(image.date())\n",
    "    img_doy = ee.Number.parse(img_date.format('D'))\n",
    "    return image.addBands(ee.Image(img_doy).rename('doy').toInt())"
   ]
  },
  {
   "cell_type": "code",
   "execution_count": 9,
   "id": "3beaa005",
   "metadata": {},
   "outputs": [],
   "source": [
    "def addNDWI(image):\n",
    "    ndwi = image.normalizedDifference(['B3','B5']).rename('NDWI')\n",
    "    return image.addBands(ndwi)"
   ]
  },
  {
   "cell_type": "code",
   "execution_count": 10,
   "id": "b4e2fbae",
   "metadata": {},
   "outputs": [],
   "source": [
    "def addNDGI(image):\n",
    "    ndgi = image.normalizedDifference(['B3','B4']).rename('NDGI')\n",
    "    return image.addBands(ndgi)"
   ]
  },
  {
   "cell_type": "code",
   "execution_count": 11,
   "id": "87a0ad3d",
   "metadata": {},
   "outputs": [],
   "source": [
    "def add_ee_layer(self, ee_image_object, vis_params, name):\n",
    "  map_id_dict = ee.Image(ee_image_object).getMapId(vis_params)\n",
    "  folium.raster_layers.TileLayer(\n",
    "      tiles=map_id_dict['tile_fetcher'].url_format,\n",
    "      attr='Map Data &copy; <a href=\"https://earthengine.google.com/\">Google Earth Engine</a>',\n",
    "      name=name,\n",
    "      overlay=True,\n",
    "      control=True\n",
    "  ).add_to(self)\n",
    "\n",
    "folium.Map.add_ee_layer = add_ee_layer"
   ]
  },
  {
   "cell_type": "code",
   "execution_count": 12,
   "id": "e7c1ee53",
   "metadata": {},
   "outputs": [],
   "source": [
    "def Cloud(image):\n",
    "    scored = ee.Algorithms.Landsat.simpleCloudScore(image)\n",
    "    return image.updateMask(scored.select(['cloud']).lt(30))  "
   ]
  },
  {
   "cell_type": "code",
   "execution_count": 63,
   "id": "97b65fb2",
   "metadata": {},
   "outputs": [],
   "source": [
    "def Agua(image):\n",
    "    return image.updateMask(ndwi.lte(-0.1))"
   ]
  },
  {
   "cell_type": "code",
   "execution_count": 14,
   "id": "cb67cbae",
   "metadata": {},
   "outputs": [],
   "source": [
    "def Ndvi1(image):\n",
    "    return image.updateMask(ndvi.lt(0.2))"
   ]
  },
  {
   "cell_type": "code",
   "execution_count": 15,
   "id": "1805fa38",
   "metadata": {},
   "outputs": [],
   "source": [
    "def Ndvi2(image):\n",
    "    return image.updateMask(ndvi.gte(0.2))"
   ]
  },
  {
   "cell_type": "markdown",
   "id": "0d238854",
   "metadata": {},
   "source": [
    "## Generación de Colecciones"
   ]
  },
  {
   "cell_type": "code",
   "execution_count": 16,
   "id": "e1c108d0",
   "metadata": {},
   "outputs": [],
   "source": [
    "start_date = '2020-10-01'\n",
    "end_date = '2021-03-31'\n",
    "\n",
    "l8 = ee.ImageCollection('LANDSAT/LC08/C01/T1_TOA') \\\n",
    "    .filterBounds(patagonia_grande) \\\n",
    "    .filterDate(start_date, end_date)"
   ]
  },
  {
   "cell_type": "code",
   "execution_count": 17,
   "id": "28df0230",
   "metadata": {},
   "outputs": [],
   "source": [
    "vizParams = {\n",
    "  'bands': ['B5', 'B4', 'B3'],\n",
    "  'min': 0,\n",
    "  'max': 0.5,\n",
    "  'gamma': [0.95, 1.1, 1]\n",
    "}"
   ]
  },
  {
   "cell_type": "code",
   "execution_count": 18,
   "id": "06a49ba5",
   "metadata": {},
   "outputs": [],
   "source": [
    "coleccion = l8.map(addNDVI).map(addNDWI).map(addNDGI).map(addDate)"
   ]
  },
  {
   "cell_type": "code",
   "execution_count": 19,
   "id": "9a353e68",
   "metadata": {},
   "outputs": [
    {
     "data": {
      "application/vnd.jupyter.widget-view+json": {
       "model_id": "d2124b57b47242d78e8333c855260123",
       "version_major": 2,
       "version_minor": 0
      },
      "text/plain": [
       "Map(center=[40, -100], controls=(WidgetControl(options=['position'], widget=HBox(children=(ToggleButton(value=…"
      ]
     },
     "metadata": {},
     "output_type": "display_data"
    }
   ],
   "source": [
    "Map.addLayer(l8, vizParams, 'false color composite')\n",
    "Map"
   ]
  },
  {
   "cell_type": "markdown",
   "id": "b8914e0a",
   "metadata": {},
   "source": [
    "### Greenest"
   ]
  },
  {
   "cell_type": "code",
   "execution_count": 20,
   "id": "8d04fe22",
   "metadata": {},
   "outputs": [],
   "source": [
    "greenest = coleccion.qualityMosaic('NDVI')"
   ]
  },
  {
   "cell_type": "code",
   "execution_count": 21,
   "id": "c732e78e",
   "metadata": {
    "scrolled": false
   },
   "outputs": [
    {
     "data": {
      "application/vnd.jupyter.widget-view+json": {
       "model_id": "d2124b57b47242d78e8333c855260123",
       "version_major": 2,
       "version_minor": 0
      },
      "text/plain": [
       "Map(bottom=2899.0, center=[-49.845576304360975, -69.3669060002117], controls=(WidgetControl(options=['position…"
      ]
     },
     "metadata": {},
     "output_type": "display_data"
    }
   ],
   "source": [
    "visParams = {\n",
    "  'bands': ['B5', 'B4', 'B3'],\n",
    "  'min': 0,\n",
    "  'max': 0.4,\n",
    "    'gamma': [0.95, 1.1, 1],\n",
    "}\n",
    "\n",
    "Map.addLayer(greenest, visParams, 'comp mas verde')\n",
    "Map.centerObject(patagonia_grande, 6)\n",
    "Map"
   ]
  },
  {
   "cell_type": "code",
   "execution_count": 22,
   "id": "a0e23e11",
   "metadata": {},
   "outputs": [],
   "source": [
    "ndvi = greenest.select('NDVI')\n",
    "palette = ['#d73027', '#f46d43', '#fdae61', '#fee08b', '#d9ef8b', '#a6d96a', '#66bd63', '#1a9850']\n",
    "Map.addLayer(ndvi, {'palette': palette}, 'NDVI')"
   ]
  },
  {
   "cell_type": "code",
   "execution_count": 23,
   "id": "b878915f",
   "metadata": {},
   "outputs": [],
   "source": [
    "image_rgb = greenest.visualize(**{\n",
    "    'bands' : ['B5','B4','B3'],\n",
    "    'max':0.5\n",
    "})"
   ]
  },
  {
   "cell_type": "code",
   "execution_count": 27,
   "id": "ab9f440f",
   "metadata": {},
   "outputs": [],
   "source": [
    "Map.addLayer(image_rgb, {}, 'test visualizacion')"
   ]
  },
  {
   "cell_type": "markdown",
   "id": "8b1a9b33",
   "metadata": {},
   "source": [
    "#### Máscara"
   ]
  },
  {
   "cell_type": "code",
   "execution_count": 24,
   "id": "339a06ad",
   "metadata": {},
   "outputs": [
    {
     "data": {
      "text/html": [
       "<div style=\"width:100%;\"><div style=\"position:relative;width:100%;height:0;padding-bottom:60%;\"><span style=\"color:#565656\">Make this Notebook Trusted to load map: File -> Trust Notebook</span><iframe src=\"about:blank\" style=\"position:absolute;width:100%;height:100%;left:0;top:0;border:none !important;\" data-html=%3C%21DOCTYPE%20html%3E%0A%3Chead%3E%20%20%20%20%0A%20%20%20%20%3Cmeta%20http-equiv%3D%22content-type%22%20content%3D%22text/html%3B%20charset%3DUTF-8%22%20/%3E%0A%20%20%20%20%0A%20%20%20%20%20%20%20%20%3Cscript%3E%0A%20%20%20%20%20%20%20%20%20%20%20%20L_NO_TOUCH%20%3D%20false%3B%0A%20%20%20%20%20%20%20%20%20%20%20%20L_DISABLE_3D%20%3D%20false%3B%0A%20%20%20%20%20%20%20%20%3C/script%3E%0A%20%20%20%20%0A%20%20%20%20%3Cstyle%3Ehtml%2C%20body%20%7Bwidth%3A%20100%25%3Bheight%3A%20100%25%3Bmargin%3A%200%3Bpadding%3A%200%3B%7D%3C/style%3E%0A%20%20%20%20%3Cstyle%3E%23map%20%7Bposition%3Aabsolute%3Btop%3A0%3Bbottom%3A0%3Bright%3A0%3Bleft%3A0%3B%7D%3C/style%3E%0A%20%20%20%20%3Cscript%20src%3D%22https%3A//cdn.jsdelivr.net/npm/leaflet%401.6.0/dist/leaflet.js%22%3E%3C/script%3E%0A%20%20%20%20%3Cscript%20src%3D%22https%3A//code.jquery.com/jquery-1.12.4.min.js%22%3E%3C/script%3E%0A%20%20%20%20%3Cscript%20src%3D%22https%3A//maxcdn.bootstrapcdn.com/bootstrap/3.2.0/js/bootstrap.min.js%22%3E%3C/script%3E%0A%20%20%20%20%3Cscript%20src%3D%22https%3A//cdnjs.cloudflare.com/ajax/libs/Leaflet.awesome-markers/2.0.2/leaflet.awesome-markers.js%22%3E%3C/script%3E%0A%20%20%20%20%3Clink%20rel%3D%22stylesheet%22%20href%3D%22https%3A//cdn.jsdelivr.net/npm/leaflet%401.6.0/dist/leaflet.css%22/%3E%0A%20%20%20%20%3Clink%20rel%3D%22stylesheet%22%20href%3D%22https%3A//maxcdn.bootstrapcdn.com/bootstrap/3.2.0/css/bootstrap.min.css%22/%3E%0A%20%20%20%20%3Clink%20rel%3D%22stylesheet%22%20href%3D%22https%3A//maxcdn.bootstrapcdn.com/bootstrap/3.2.0/css/bootstrap-theme.min.css%22/%3E%0A%20%20%20%20%3Clink%20rel%3D%22stylesheet%22%20href%3D%22https%3A//maxcdn.bootstrapcdn.com/font-awesome/4.6.3/css/font-awesome.min.css%22/%3E%0A%20%20%20%20%3Clink%20rel%3D%22stylesheet%22%20href%3D%22https%3A//cdnjs.cloudflare.com/ajax/libs/Leaflet.awesome-markers/2.0.2/leaflet.awesome-markers.css%22/%3E%0A%20%20%20%20%3Clink%20rel%3D%22stylesheet%22%20href%3D%22https%3A//cdn.jsdelivr.net/gh/python-visualization/folium/folium/templates/leaflet.awesome.rotate.min.css%22/%3E%0A%20%20%20%20%0A%20%20%20%20%20%20%20%20%20%20%20%20%3Cmeta%20name%3D%22viewport%22%20content%3D%22width%3Ddevice-width%2C%0A%20%20%20%20%20%20%20%20%20%20%20%20%20%20%20%20initial-scale%3D1.0%2C%20maximum-scale%3D1.0%2C%20user-scalable%3Dno%22%20/%3E%0A%20%20%20%20%20%20%20%20%20%20%20%20%3Cstyle%3E%0A%20%20%20%20%20%20%20%20%20%20%20%20%20%20%20%20%23map_ffa055408f0448f5806b506879e462e4%20%7B%0A%20%20%20%20%20%20%20%20%20%20%20%20%20%20%20%20%20%20%20%20position%3A%20relative%3B%0A%20%20%20%20%20%20%20%20%20%20%20%20%20%20%20%20%20%20%20%20width%3A%20100.0%25%3B%0A%20%20%20%20%20%20%20%20%20%20%20%20%20%20%20%20%20%20%20%20height%3A%20100.0%25%3B%0A%20%20%20%20%20%20%20%20%20%20%20%20%20%20%20%20%20%20%20%20left%3A%200.0%25%3B%0A%20%20%20%20%20%20%20%20%20%20%20%20%20%20%20%20%20%20%20%20top%3A%200.0%25%3B%0A%20%20%20%20%20%20%20%20%20%20%20%20%20%20%20%20%7D%0A%20%20%20%20%20%20%20%20%20%20%20%20%3C/style%3E%0A%20%20%20%20%20%20%20%20%0A%3C/head%3E%0A%3Cbody%3E%20%20%20%20%0A%20%20%20%20%0A%20%20%20%20%20%20%20%20%20%20%20%20%3Cdiv%20class%3D%22folium-map%22%20id%3D%22map_ffa055408f0448f5806b506879e462e4%22%20%3E%3C/div%3E%0A%20%20%20%20%20%20%20%20%0A%3C/body%3E%0A%3Cscript%3E%20%20%20%20%0A%20%20%20%20%0A%20%20%20%20%20%20%20%20%20%20%20%20var%20map_ffa055408f0448f5806b506879e462e4%20%3D%20L.map%28%0A%20%20%20%20%20%20%20%20%20%20%20%20%20%20%20%20%22map_ffa055408f0448f5806b506879e462e4%22%2C%0A%20%20%20%20%20%20%20%20%20%20%20%20%20%20%20%20%7B%0A%20%20%20%20%20%20%20%20%20%20%20%20%20%20%20%20%20%20%20%20center%3A%20%5B-45.0%2C%20-73.0%5D%2C%0A%20%20%20%20%20%20%20%20%20%20%20%20%20%20%20%20%20%20%20%20crs%3A%20L.CRS.EPSG3857%2C%0A%20%20%20%20%20%20%20%20%20%20%20%20%20%20%20%20%20%20%20%20zoom%3A%205%2C%0A%20%20%20%20%20%20%20%20%20%20%20%20%20%20%20%20%20%20%20%20zoomControl%3A%20true%2C%0A%20%20%20%20%20%20%20%20%20%20%20%20%20%20%20%20%20%20%20%20preferCanvas%3A%20false%2C%0A%20%20%20%20%20%20%20%20%20%20%20%20%20%20%20%20%7D%0A%20%20%20%20%20%20%20%20%20%20%20%20%29%3B%0A%0A%20%20%20%20%20%20%20%20%20%20%20%20%0A%0A%20%20%20%20%20%20%20%20%0A%20%20%20%20%0A%20%20%20%20%20%20%20%20%20%20%20%20var%20tile_layer_0b3b69e226c44a75adffb5369468b149%20%3D%20L.tileLayer%28%0A%20%20%20%20%20%20%20%20%20%20%20%20%20%20%20%20%22https%3A//%7Bs%7D.tile.openstreetmap.org/%7Bz%7D/%7Bx%7D/%7By%7D.png%22%2C%0A%20%20%20%20%20%20%20%20%20%20%20%20%20%20%20%20%7B%22attribution%22%3A%20%22Data%20by%20%5Cu0026copy%3B%20%5Cu003ca%20href%3D%5C%22http%3A//openstreetmap.org%5C%22%5Cu003eOpenStreetMap%5Cu003c/a%5Cu003e%2C%20under%20%5Cu003ca%20href%3D%5C%22http%3A//www.openstreetmap.org/copyright%5C%22%5Cu003eODbL%5Cu003c/a%5Cu003e.%22%2C%20%22detectRetina%22%3A%20false%2C%20%22maxNativeZoom%22%3A%2018%2C%20%22maxZoom%22%3A%2018%2C%20%22minZoom%22%3A%200%2C%20%22noWrap%22%3A%20false%2C%20%22opacity%22%3A%201%2C%20%22subdomains%22%3A%20%22abc%22%2C%20%22tms%22%3A%20false%7D%0A%20%20%20%20%20%20%20%20%20%20%20%20%29.addTo%28map_ffa055408f0448f5806b506879e462e4%29%3B%0A%20%20%20%20%20%20%20%20%0A%20%20%20%20%0A%20%20%20%20%20%20%20%20%20%20%20%20var%20tile_layer_7d52d206a3354f389e371b489582676e%20%3D%20L.tileLayer%28%0A%20%20%20%20%20%20%20%20%20%20%20%20%20%20%20%20%22https%3A//earthengine.googleapis.com/v1alpha/projects/earthengine-legacy/maps/fcd2e03eb79464d5ef86d15c89867a4e-4f62de6f59f6c4b1d8dcfabeb12957c6/tiles/%7Bz%7D/%7Bx%7D/%7By%7D%22%2C%0A%20%20%20%20%20%20%20%20%20%20%20%20%20%20%20%20%7B%22attribution%22%3A%20%22Map%20Data%20%5Cu0026copy%3B%20%5Cu003ca%20href%3D%5C%22https%3A//earthengine.google.com/%5C%22%5Cu003eGoogle%20Earth%20Engine%5Cu003c/a%5Cu003e%22%2C%20%22detectRetina%22%3A%20false%2C%20%22maxNativeZoom%22%3A%2018%2C%20%22maxZoom%22%3A%2018%2C%20%22minZoom%22%3A%200%2C%20%22noWrap%22%3A%20false%2C%20%22opacity%22%3A%201%2C%20%22subdomains%22%3A%20%22abc%22%2C%20%22tms%22%3A%20false%7D%0A%20%20%20%20%20%20%20%20%20%20%20%20%29.addTo%28map_ffa055408f0448f5806b506879e462e4%29%3B%0A%20%20%20%20%20%20%20%20%0A%3C/script%3E onload=\"this.contentDocument.open();this.contentDocument.write(    decodeURIComponent(this.getAttribute('data-html')));this.contentDocument.close();\" allowfullscreen webkitallowfullscreen mozallowfullscreen></iframe></div></div>"
      ],
      "text/plain": [
       "<folium.folium.Map at 0x7f1b08461040>"
      ]
     },
     "metadata": {},
     "output_type": "display_data"
    }
   ],
   "source": [
    "coleccion2 = coleccion.map(Cloud)\n",
    "coleccion2 = coleccion2.map(Ndvi2)\n",
    "greenest2 = coleccion2.qualityMosaic('NDVI')\n",
    "map_sin_nubes = folium.Map(location = [-45, -73], zoom_start = 5)\n",
    "map_sin_nubes.add_ee_layer(greenest2, vizParams, 'sin nubes')\n",
    "display(map_sin_nubes)"
   ]
  },
  {
   "cell_type": "markdown",
   "id": "b49d8ce1",
   "metadata": {},
   "source": [
    "#### Test"
   ]
  },
  {
   "cell_type": "code",
   "execution_count": 25,
   "id": "7bacb429",
   "metadata": {},
   "outputs": [],
   "source": [
    "coleccion2 = coleccion.map(Cloud)\n",
    "coleccion2 = coleccion2.map(Ndvi2)\n",
    "\n",
    "greenest2 = coleccion2.qualityMosaic('NDVI')"
   ]
  },
  {
   "cell_type": "code",
   "execution_count": 26,
   "id": "edcc4fde",
   "metadata": {
    "scrolled": false
   },
   "outputs": [
    {
     "data": {
      "text/html": [
       "<div style=\"width:100%;\"><div style=\"position:relative;width:100%;height:0;padding-bottom:60%;\"><span style=\"color:#565656\">Make this Notebook Trusted to load map: File -> Trust Notebook</span><iframe src=\"about:blank\" style=\"position:absolute;width:100%;height:100%;left:0;top:0;border:none !important;\" data-html=%3C%21DOCTYPE%20html%3E%0A%3Chead%3E%20%20%20%20%0A%20%20%20%20%3Cmeta%20http-equiv%3D%22content-type%22%20content%3D%22text/html%3B%20charset%3DUTF-8%22%20/%3E%0A%20%20%20%20%0A%20%20%20%20%20%20%20%20%3Cscript%3E%0A%20%20%20%20%20%20%20%20%20%20%20%20L_NO_TOUCH%20%3D%20false%3B%0A%20%20%20%20%20%20%20%20%20%20%20%20L_DISABLE_3D%20%3D%20false%3B%0A%20%20%20%20%20%20%20%20%3C/script%3E%0A%20%20%20%20%0A%20%20%20%20%3Cstyle%3Ehtml%2C%20body%20%7Bwidth%3A%20100%25%3Bheight%3A%20100%25%3Bmargin%3A%200%3Bpadding%3A%200%3B%7D%3C/style%3E%0A%20%20%20%20%3Cstyle%3E%23map%20%7Bposition%3Aabsolute%3Btop%3A0%3Bbottom%3A0%3Bright%3A0%3Bleft%3A0%3B%7D%3C/style%3E%0A%20%20%20%20%3Cscript%20src%3D%22https%3A//cdn.jsdelivr.net/npm/leaflet%401.6.0/dist/leaflet.js%22%3E%3C/script%3E%0A%20%20%20%20%3Cscript%20src%3D%22https%3A//code.jquery.com/jquery-1.12.4.min.js%22%3E%3C/script%3E%0A%20%20%20%20%3Cscript%20src%3D%22https%3A//maxcdn.bootstrapcdn.com/bootstrap/3.2.0/js/bootstrap.min.js%22%3E%3C/script%3E%0A%20%20%20%20%3Cscript%20src%3D%22https%3A//cdnjs.cloudflare.com/ajax/libs/Leaflet.awesome-markers/2.0.2/leaflet.awesome-markers.js%22%3E%3C/script%3E%0A%20%20%20%20%3Clink%20rel%3D%22stylesheet%22%20href%3D%22https%3A//cdn.jsdelivr.net/npm/leaflet%401.6.0/dist/leaflet.css%22/%3E%0A%20%20%20%20%3Clink%20rel%3D%22stylesheet%22%20href%3D%22https%3A//maxcdn.bootstrapcdn.com/bootstrap/3.2.0/css/bootstrap.min.css%22/%3E%0A%20%20%20%20%3Clink%20rel%3D%22stylesheet%22%20href%3D%22https%3A//maxcdn.bootstrapcdn.com/bootstrap/3.2.0/css/bootstrap-theme.min.css%22/%3E%0A%20%20%20%20%3Clink%20rel%3D%22stylesheet%22%20href%3D%22https%3A//maxcdn.bootstrapcdn.com/font-awesome/4.6.3/css/font-awesome.min.css%22/%3E%0A%20%20%20%20%3Clink%20rel%3D%22stylesheet%22%20href%3D%22https%3A//cdnjs.cloudflare.com/ajax/libs/Leaflet.awesome-markers/2.0.2/leaflet.awesome-markers.css%22/%3E%0A%20%20%20%20%3Clink%20rel%3D%22stylesheet%22%20href%3D%22https%3A//cdn.jsdelivr.net/gh/python-visualization/folium/folium/templates/leaflet.awesome.rotate.min.css%22/%3E%0A%20%20%20%20%0A%20%20%20%20%20%20%20%20%20%20%20%20%3Cmeta%20name%3D%22viewport%22%20content%3D%22width%3Ddevice-width%2C%0A%20%20%20%20%20%20%20%20%20%20%20%20%20%20%20%20initial-scale%3D1.0%2C%20maximum-scale%3D1.0%2C%20user-scalable%3Dno%22%20/%3E%0A%20%20%20%20%20%20%20%20%20%20%20%20%3Cstyle%3E%0A%20%20%20%20%20%20%20%20%20%20%20%20%20%20%20%20%23map_aa0f5d9ef70f465c8770886bca628169%20%7B%0A%20%20%20%20%20%20%20%20%20%20%20%20%20%20%20%20%20%20%20%20position%3A%20relative%3B%0A%20%20%20%20%20%20%20%20%20%20%20%20%20%20%20%20%20%20%20%20width%3A%20100.0%25%3B%0A%20%20%20%20%20%20%20%20%20%20%20%20%20%20%20%20%20%20%20%20height%3A%20100.0%25%3B%0A%20%20%20%20%20%20%20%20%20%20%20%20%20%20%20%20%20%20%20%20left%3A%200.0%25%3B%0A%20%20%20%20%20%20%20%20%20%20%20%20%20%20%20%20%20%20%20%20top%3A%200.0%25%3B%0A%20%20%20%20%20%20%20%20%20%20%20%20%20%20%20%20%7D%0A%20%20%20%20%20%20%20%20%20%20%20%20%3C/style%3E%0A%20%20%20%20%20%20%20%20%0A%3C/head%3E%0A%3Cbody%3E%20%20%20%20%0A%20%20%20%20%0A%20%20%20%20%20%20%20%20%20%20%20%20%3Cdiv%20class%3D%22folium-map%22%20id%3D%22map_aa0f5d9ef70f465c8770886bca628169%22%20%3E%3C/div%3E%0A%20%20%20%20%20%20%20%20%0A%3C/body%3E%0A%3Cscript%3E%20%20%20%20%0A%20%20%20%20%0A%20%20%20%20%20%20%20%20%20%20%20%20var%20map_aa0f5d9ef70f465c8770886bca628169%20%3D%20L.map%28%0A%20%20%20%20%20%20%20%20%20%20%20%20%20%20%20%20%22map_aa0f5d9ef70f465c8770886bca628169%22%2C%0A%20%20%20%20%20%20%20%20%20%20%20%20%20%20%20%20%7B%0A%20%20%20%20%20%20%20%20%20%20%20%20%20%20%20%20%20%20%20%20center%3A%20%5B-45.0%2C%20-73.0%5D%2C%0A%20%20%20%20%20%20%20%20%20%20%20%20%20%20%20%20%20%20%20%20crs%3A%20L.CRS.EPSG3857%2C%0A%20%20%20%20%20%20%20%20%20%20%20%20%20%20%20%20%20%20%20%20zoom%3A%207%2C%0A%20%20%20%20%20%20%20%20%20%20%20%20%20%20%20%20%20%20%20%20zoomControl%3A%20true%2C%0A%20%20%20%20%20%20%20%20%20%20%20%20%20%20%20%20%20%20%20%20preferCanvas%3A%20false%2C%0A%20%20%20%20%20%20%20%20%20%20%20%20%20%20%20%20%7D%0A%20%20%20%20%20%20%20%20%20%20%20%20%29%3B%0A%0A%20%20%20%20%20%20%20%20%20%20%20%20%0A%0A%20%20%20%20%20%20%20%20%0A%20%20%20%20%0A%20%20%20%20%20%20%20%20%20%20%20%20var%20tile_layer_99e32a0909994ebe96eee312a3ee2250%20%3D%20L.tileLayer%28%0A%20%20%20%20%20%20%20%20%20%20%20%20%20%20%20%20%22https%3A//%7Bs%7D.tile.openstreetmap.org/%7Bz%7D/%7Bx%7D/%7By%7D.png%22%2C%0A%20%20%20%20%20%20%20%20%20%20%20%20%20%20%20%20%7B%22attribution%22%3A%20%22Data%20by%20%5Cu0026copy%3B%20%5Cu003ca%20href%3D%5C%22http%3A//openstreetmap.org%5C%22%5Cu003eOpenStreetMap%5Cu003c/a%5Cu003e%2C%20under%20%5Cu003ca%20href%3D%5C%22http%3A//www.openstreetmap.org/copyright%5C%22%5Cu003eODbL%5Cu003c/a%5Cu003e.%22%2C%20%22detectRetina%22%3A%20false%2C%20%22maxNativeZoom%22%3A%2018%2C%20%22maxZoom%22%3A%2018%2C%20%22minZoom%22%3A%200%2C%20%22noWrap%22%3A%20false%2C%20%22opacity%22%3A%201%2C%20%22subdomains%22%3A%20%22abc%22%2C%20%22tms%22%3A%20false%7D%0A%20%20%20%20%20%20%20%20%20%20%20%20%29.addTo%28map_aa0f5d9ef70f465c8770886bca628169%29%3B%0A%20%20%20%20%20%20%20%20%0A%20%20%20%20%0A%20%20%20%20%20%20%20%20%20%20%20%20var%20tile_layer_303e6737aeba4b05b3cd0013d340f93d%20%3D%20L.tileLayer%28%0A%20%20%20%20%20%20%20%20%20%20%20%20%20%20%20%20%22https%3A//earthengine.googleapis.com/v1alpha/projects/earthengine-legacy/maps/fcd2e03eb79464d5ef86d15c89867a4e-a040410aa7267fb4bc31bc49cec86fd6/tiles/%7Bz%7D/%7Bx%7D/%7By%7D%22%2C%0A%20%20%20%20%20%20%20%20%20%20%20%20%20%20%20%20%7B%22attribution%22%3A%20%22Map%20Data%20%5Cu0026copy%3B%20%5Cu003ca%20href%3D%5C%22https%3A//earthengine.google.com/%5C%22%5Cu003eGoogle%20Earth%20Engine%5Cu003c/a%5Cu003e%22%2C%20%22detectRetina%22%3A%20false%2C%20%22maxNativeZoom%22%3A%2018%2C%20%22maxZoom%22%3A%2018%2C%20%22minZoom%22%3A%200%2C%20%22noWrap%22%3A%20false%2C%20%22opacity%22%3A%201%2C%20%22subdomains%22%3A%20%22abc%22%2C%20%22tms%22%3A%20false%7D%0A%20%20%20%20%20%20%20%20%20%20%20%20%29.addTo%28map_aa0f5d9ef70f465c8770886bca628169%29%3B%0A%20%20%20%20%20%20%20%20%0A%3C/script%3E onload=\"this.contentDocument.open();this.contentDocument.write(    decodeURIComponent(this.getAttribute('data-html')));this.contentDocument.close();\" allowfullscreen webkitallowfullscreen mozallowfullscreen></iframe></div></div>"
      ],
      "text/plain": [
       "<folium.folium.Map at 0x7f1b083f7dc0>"
      ]
     },
     "metadata": {},
     "output_type": "display_data"
    }
   ],
   "source": [
    "map_sin_nubes = folium.Map(location = [-45, -73], zoom_start = 7)\n",
    "map_sin_nubes.add_ee_layer(greenest2, vizParams, 'sin nubes')\n",
    "display(map_sin_nubes)"
   ]
  },
  {
   "cell_type": "code",
   "execution_count": 27,
   "id": "244e61c0",
   "metadata": {},
   "outputs": [],
   "source": [
    "greenest2 = greenest2.visualize(**{\n",
    "    'bands': ['B5', 'B4', 'B3'],\n",
    "    'min': 0,\n",
    "    'max': 0.5,\n",
    "    'gamma': [0.95, 1.1, 1]\n",
    "})\n"
   ]
  },
  {
   "cell_type": "markdown",
   "id": "650b76a6",
   "metadata": {},
   "source": [
    "### Agua"
   ]
  },
  {
   "cell_type": "code",
   "execution_count": 28,
   "id": "ea4f56bb",
   "metadata": {},
   "outputs": [],
   "source": [
    "start_date_agua = '2020-11-01'\n",
    "end_date_agua = '2021-03-31'\n",
    "\n",
    "l8_agua = ee.ImageCollection('LANDSAT/LC08/C01/T1_TOA') \\\n",
    "    .filterBounds(patagonia_grande) \\\n",
    "    .filterDate(start_date_agua, end_date_agua)\n"
   ]
  },
  {
   "cell_type": "code",
   "execution_count": 29,
   "id": "1b9d853a",
   "metadata": {},
   "outputs": [],
   "source": [
    "coleccion_agua = l8_agua.map(addNDVI).map(addNDWI).map(addNDGI).map(addDate)"
   ]
  },
  {
   "cell_type": "code",
   "execution_count": 30,
   "id": "4ad370e6",
   "metadata": {},
   "outputs": [],
   "source": [
    "aquast = coleccion_agua.qualityMosaic('NDWI')"
   ]
  },
  {
   "cell_type": "code",
   "execution_count": 31,
   "id": "0c92aaa0",
   "metadata": {},
   "outputs": [
    {
     "data": {
      "application/vnd.jupyter.widget-view+json": {
       "model_id": "d2124b57b47242d78e8333c855260123",
       "version_major": 2,
       "version_minor": 0
      },
      "text/plain": [
       "Map(bottom=11117.0, center=[-49.845576304360975, -69.3669060002117], controls=(WidgetControl(options=['positio…"
      ]
     },
     "metadata": {},
     "output_type": "display_data"
    }
   ],
   "source": [
    "visParams = {\n",
    "  'bands': ['B4', 'B3', 'B1'],\n",
    "  'min': 0,\n",
    "  'max': 0.4,\n",
    "    'gamma': [0.95, 1.1, 1],\n",
    "}\n",
    "\n",
    "Map.addLayer(aquast, visParams, 'comp mas agua')\n",
    "Map.centerObject(patagonia_grande, 6)\n",
    "Map"
   ]
  },
  {
   "cell_type": "code",
   "execution_count": 32,
   "id": "af28d32b",
   "metadata": {},
   "outputs": [],
   "source": [
    "ndwi = greenest.select('NDWI')\n",
    "ndwi_viz = {'min': -1, 'max': 1, 'palette': ['00FFFF', '0000FF']}\n",
    "Map.addLayer(ndwi, ndwi_viz, 'NDWI')"
   ]
  },
  {
   "cell_type": "code",
   "execution_count": 33,
   "id": "75f5807a",
   "metadata": {},
   "outputs": [],
   "source": [
    "ndwi_rgb = ndwi.visualize(**{\n",
    "    'min': 0.5,\n",
    "    'max':1,\n",
    "    'palette': ['00FFFF', '0000FF']\n",
    "})"
   ]
  },
  {
   "cell_type": "markdown",
   "id": "18989bd3",
   "metadata": {},
   "source": [
    "#### Máscara"
   ]
  },
  {
   "cell_type": "code",
   "execution_count": 61,
   "id": "376a84f8",
   "metadata": {},
   "outputs": [],
   "source": [
    "ndwi_mask = ndwi.updateMask(ndwi.gte(-0.1)) # Máscara partes sin agua, NDWI < -0.1"
   ]
  },
  {
   "cell_type": "code",
   "execution_count": 62,
   "id": "9bab7798",
   "metadata": {},
   "outputs": [
    {
     "data": {
      "text/html": [
       "<div style=\"width:100%;\"><div style=\"position:relative;width:100%;height:0;padding-bottom:60%;\"><span style=\"color:#565656\">Make this Notebook Trusted to load map: File -> Trust Notebook</span><iframe src=\"about:blank\" style=\"position:absolute;width:100%;height:100%;left:0;top:0;border:none !important;\" data-html=%3C%21DOCTYPE%20html%3E%0A%3Chead%3E%20%20%20%20%0A%20%20%20%20%3Cmeta%20http-equiv%3D%22content-type%22%20content%3D%22text/html%3B%20charset%3DUTF-8%22%20/%3E%0A%20%20%20%20%0A%20%20%20%20%20%20%20%20%3Cscript%3E%0A%20%20%20%20%20%20%20%20%20%20%20%20L_NO_TOUCH%20%3D%20false%3B%0A%20%20%20%20%20%20%20%20%20%20%20%20L_DISABLE_3D%20%3D%20false%3B%0A%20%20%20%20%20%20%20%20%3C/script%3E%0A%20%20%20%20%0A%20%20%20%20%3Cstyle%3Ehtml%2C%20body%20%7Bwidth%3A%20100%25%3Bheight%3A%20100%25%3Bmargin%3A%200%3Bpadding%3A%200%3B%7D%3C/style%3E%0A%20%20%20%20%3Cstyle%3E%23map%20%7Bposition%3Aabsolute%3Btop%3A0%3Bbottom%3A0%3Bright%3A0%3Bleft%3A0%3B%7D%3C/style%3E%0A%20%20%20%20%3Cscript%20src%3D%22https%3A//cdn.jsdelivr.net/npm/leaflet%401.6.0/dist/leaflet.js%22%3E%3C/script%3E%0A%20%20%20%20%3Cscript%20src%3D%22https%3A//code.jquery.com/jquery-1.12.4.min.js%22%3E%3C/script%3E%0A%20%20%20%20%3Cscript%20src%3D%22https%3A//maxcdn.bootstrapcdn.com/bootstrap/3.2.0/js/bootstrap.min.js%22%3E%3C/script%3E%0A%20%20%20%20%3Cscript%20src%3D%22https%3A//cdnjs.cloudflare.com/ajax/libs/Leaflet.awesome-markers/2.0.2/leaflet.awesome-markers.js%22%3E%3C/script%3E%0A%20%20%20%20%3Clink%20rel%3D%22stylesheet%22%20href%3D%22https%3A//cdn.jsdelivr.net/npm/leaflet%401.6.0/dist/leaflet.css%22/%3E%0A%20%20%20%20%3Clink%20rel%3D%22stylesheet%22%20href%3D%22https%3A//maxcdn.bootstrapcdn.com/bootstrap/3.2.0/css/bootstrap.min.css%22/%3E%0A%20%20%20%20%3Clink%20rel%3D%22stylesheet%22%20href%3D%22https%3A//maxcdn.bootstrapcdn.com/bootstrap/3.2.0/css/bootstrap-theme.min.css%22/%3E%0A%20%20%20%20%3Clink%20rel%3D%22stylesheet%22%20href%3D%22https%3A//maxcdn.bootstrapcdn.com/font-awesome/4.6.3/css/font-awesome.min.css%22/%3E%0A%20%20%20%20%3Clink%20rel%3D%22stylesheet%22%20href%3D%22https%3A//cdnjs.cloudflare.com/ajax/libs/Leaflet.awesome-markers/2.0.2/leaflet.awesome-markers.css%22/%3E%0A%20%20%20%20%3Clink%20rel%3D%22stylesheet%22%20href%3D%22https%3A//cdn.jsdelivr.net/gh/python-visualization/folium/folium/templates/leaflet.awesome.rotate.min.css%22/%3E%0A%20%20%20%20%0A%20%20%20%20%20%20%20%20%20%20%20%20%3Cmeta%20name%3D%22viewport%22%20content%3D%22width%3Ddevice-width%2C%0A%20%20%20%20%20%20%20%20%20%20%20%20%20%20%20%20initial-scale%3D1.0%2C%20maximum-scale%3D1.0%2C%20user-scalable%3Dno%22%20/%3E%0A%20%20%20%20%20%20%20%20%20%20%20%20%3Cstyle%3E%0A%20%20%20%20%20%20%20%20%20%20%20%20%20%20%20%20%23map_d6a38c2b28cf415e9f32198b8c49a792%20%7B%0A%20%20%20%20%20%20%20%20%20%20%20%20%20%20%20%20%20%20%20%20position%3A%20relative%3B%0A%20%20%20%20%20%20%20%20%20%20%20%20%20%20%20%20%20%20%20%20width%3A%20100.0%25%3B%0A%20%20%20%20%20%20%20%20%20%20%20%20%20%20%20%20%20%20%20%20height%3A%20100.0%25%3B%0A%20%20%20%20%20%20%20%20%20%20%20%20%20%20%20%20%20%20%20%20left%3A%200.0%25%3B%0A%20%20%20%20%20%20%20%20%20%20%20%20%20%20%20%20%20%20%20%20top%3A%200.0%25%3B%0A%20%20%20%20%20%20%20%20%20%20%20%20%20%20%20%20%7D%0A%20%20%20%20%20%20%20%20%20%20%20%20%3C/style%3E%0A%20%20%20%20%20%20%20%20%0A%3C/head%3E%0A%3Cbody%3E%20%20%20%20%0A%20%20%20%20%0A%20%20%20%20%20%20%20%20%20%20%20%20%3Cdiv%20class%3D%22folium-map%22%20id%3D%22map_d6a38c2b28cf415e9f32198b8c49a792%22%20%3E%3C/div%3E%0A%20%20%20%20%20%20%20%20%0A%3C/body%3E%0A%3Cscript%3E%20%20%20%20%0A%20%20%20%20%0A%20%20%20%20%20%20%20%20%20%20%20%20var%20map_d6a38c2b28cf415e9f32198b8c49a792%20%3D%20L.map%28%0A%20%20%20%20%20%20%20%20%20%20%20%20%20%20%20%20%22map_d6a38c2b28cf415e9f32198b8c49a792%22%2C%0A%20%20%20%20%20%20%20%20%20%20%20%20%20%20%20%20%7B%0A%20%20%20%20%20%20%20%20%20%20%20%20%20%20%20%20%20%20%20%20center%3A%20%5B-45.0%2C%20-73.0%5D%2C%0A%20%20%20%20%20%20%20%20%20%20%20%20%20%20%20%20%20%20%20%20crs%3A%20L.CRS.EPSG3857%2C%0A%20%20%20%20%20%20%20%20%20%20%20%20%20%20%20%20%20%20%20%20zoom%3A%205%2C%0A%20%20%20%20%20%20%20%20%20%20%20%20%20%20%20%20%20%20%20%20zoomControl%3A%20true%2C%0A%20%20%20%20%20%20%20%20%20%20%20%20%20%20%20%20%20%20%20%20preferCanvas%3A%20false%2C%0A%20%20%20%20%20%20%20%20%20%20%20%20%20%20%20%20%7D%0A%20%20%20%20%20%20%20%20%20%20%20%20%29%3B%0A%0A%20%20%20%20%20%20%20%20%20%20%20%20%0A%0A%20%20%20%20%20%20%20%20%0A%20%20%20%20%0A%20%20%20%20%20%20%20%20%20%20%20%20var%20tile_layer_2dcb48e05ee0449ba4c6138e6b02f861%20%3D%20L.tileLayer%28%0A%20%20%20%20%20%20%20%20%20%20%20%20%20%20%20%20%22https%3A//%7Bs%7D.tile.openstreetmap.org/%7Bz%7D/%7Bx%7D/%7By%7D.png%22%2C%0A%20%20%20%20%20%20%20%20%20%20%20%20%20%20%20%20%7B%22attribution%22%3A%20%22Data%20by%20%5Cu0026copy%3B%20%5Cu003ca%20href%3D%5C%22http%3A//openstreetmap.org%5C%22%5Cu003eOpenStreetMap%5Cu003c/a%5Cu003e%2C%20under%20%5Cu003ca%20href%3D%5C%22http%3A//www.openstreetmap.org/copyright%5C%22%5Cu003eODbL%5Cu003c/a%5Cu003e.%22%2C%20%22detectRetina%22%3A%20false%2C%20%22maxNativeZoom%22%3A%2018%2C%20%22maxZoom%22%3A%2018%2C%20%22minZoom%22%3A%200%2C%20%22noWrap%22%3A%20false%2C%20%22opacity%22%3A%201%2C%20%22subdomains%22%3A%20%22abc%22%2C%20%22tms%22%3A%20false%7D%0A%20%20%20%20%20%20%20%20%20%20%20%20%29.addTo%28map_d6a38c2b28cf415e9f32198b8c49a792%29%3B%0A%20%20%20%20%20%20%20%20%0A%20%20%20%20%0A%20%20%20%20%20%20%20%20%20%20%20%20var%20tile_layer_62092f6df224452bac4cfe2cb32ea203%20%3D%20L.tileLayer%28%0A%20%20%20%20%20%20%20%20%20%20%20%20%20%20%20%20%22https%3A//earthengine.googleapis.com/v1alpha/projects/earthengine-legacy/maps/a593c662a060c003628d62cbfb783eb2-e9cb6464f909f5e6b0e72075d7cc163e/tiles/%7Bz%7D/%7Bx%7D/%7By%7D%22%2C%0A%20%20%20%20%20%20%20%20%20%20%20%20%20%20%20%20%7B%22attribution%22%3A%20%22Map%20Data%20%5Cu0026copy%3B%20%5Cu003ca%20href%3D%5C%22https%3A//earthengine.google.com/%5C%22%5Cu003eGoogle%20Earth%20Engine%5Cu003c/a%5Cu003e%22%2C%20%22detectRetina%22%3A%20false%2C%20%22maxNativeZoom%22%3A%2018%2C%20%22maxZoom%22%3A%2018%2C%20%22minZoom%22%3A%200%2C%20%22noWrap%22%3A%20false%2C%20%22opacity%22%3A%201%2C%20%22subdomains%22%3A%20%22abc%22%2C%20%22tms%22%3A%20false%7D%0A%20%20%20%20%20%20%20%20%20%20%20%20%29.addTo%28map_d6a38c2b28cf415e9f32198b8c49a792%29%3B%0A%20%20%20%20%20%20%20%20%0A%3C/script%3E onload=\"this.contentDocument.open();this.contentDocument.write(    decodeURIComponent(this.getAttribute('data-html')));this.contentDocument.close();\" allowfullscreen webkitallowfullscreen mozallowfullscreen></iframe></div></div>"
      ],
      "text/plain": [
       "<folium.folium.Map at 0x7f1aabe94dc0>"
      ]
     },
     "metadata": {},
     "output_type": "display_data"
    }
   ],
   "source": [
    "map_ndwi_mask = folium.Map(location = [-45, -73], zoom_start = 5)\n",
    "map_ndwi_mask.add_ee_layer(ndwi_mask, ndwi_viz, 'NDWI sin tierra')\n",
    "display(map_ndwi_mask)"
   ]
  },
  {
   "cell_type": "code",
   "execution_count": 36,
   "id": "7b2bf4a8",
   "metadata": {},
   "outputs": [],
   "source": [
    "coleccion3 = coleccion.map(Cloud)\n",
    "coleccion3 = coleccion3.map(Ndvi1)\n",
    "aquast2 = coleccion3.qualityMosaic('NDWI')"
   ]
  },
  {
   "cell_type": "code",
   "execution_count": 37,
   "id": "f8510d13",
   "metadata": {
    "scrolled": true
   },
   "outputs": [
    {
     "data": {
      "text/html": [
       "<div style=\"width:100%;\"><div style=\"position:relative;width:100%;height:0;padding-bottom:60%;\"><span style=\"color:#565656\">Make this Notebook Trusted to load map: File -> Trust Notebook</span><iframe src=\"about:blank\" style=\"position:absolute;width:100%;height:100%;left:0;top:0;border:none !important;\" data-html=%3C%21DOCTYPE%20html%3E%0A%3Chead%3E%20%20%20%20%0A%20%20%20%20%3Cmeta%20http-equiv%3D%22content-type%22%20content%3D%22text/html%3B%20charset%3DUTF-8%22%20/%3E%0A%20%20%20%20%0A%20%20%20%20%20%20%20%20%3Cscript%3E%0A%20%20%20%20%20%20%20%20%20%20%20%20L_NO_TOUCH%20%3D%20false%3B%0A%20%20%20%20%20%20%20%20%20%20%20%20L_DISABLE_3D%20%3D%20false%3B%0A%20%20%20%20%20%20%20%20%3C/script%3E%0A%20%20%20%20%0A%20%20%20%20%3Cstyle%3Ehtml%2C%20body%20%7Bwidth%3A%20100%25%3Bheight%3A%20100%25%3Bmargin%3A%200%3Bpadding%3A%200%3B%7D%3C/style%3E%0A%20%20%20%20%3Cstyle%3E%23map%20%7Bposition%3Aabsolute%3Btop%3A0%3Bbottom%3A0%3Bright%3A0%3Bleft%3A0%3B%7D%3C/style%3E%0A%20%20%20%20%3Cscript%20src%3D%22https%3A//cdn.jsdelivr.net/npm/leaflet%401.6.0/dist/leaflet.js%22%3E%3C/script%3E%0A%20%20%20%20%3Cscript%20src%3D%22https%3A//code.jquery.com/jquery-1.12.4.min.js%22%3E%3C/script%3E%0A%20%20%20%20%3Cscript%20src%3D%22https%3A//maxcdn.bootstrapcdn.com/bootstrap/3.2.0/js/bootstrap.min.js%22%3E%3C/script%3E%0A%20%20%20%20%3Cscript%20src%3D%22https%3A//cdnjs.cloudflare.com/ajax/libs/Leaflet.awesome-markers/2.0.2/leaflet.awesome-markers.js%22%3E%3C/script%3E%0A%20%20%20%20%3Clink%20rel%3D%22stylesheet%22%20href%3D%22https%3A//cdn.jsdelivr.net/npm/leaflet%401.6.0/dist/leaflet.css%22/%3E%0A%20%20%20%20%3Clink%20rel%3D%22stylesheet%22%20href%3D%22https%3A//maxcdn.bootstrapcdn.com/bootstrap/3.2.0/css/bootstrap.min.css%22/%3E%0A%20%20%20%20%3Clink%20rel%3D%22stylesheet%22%20href%3D%22https%3A//maxcdn.bootstrapcdn.com/bootstrap/3.2.0/css/bootstrap-theme.min.css%22/%3E%0A%20%20%20%20%3Clink%20rel%3D%22stylesheet%22%20href%3D%22https%3A//maxcdn.bootstrapcdn.com/font-awesome/4.6.3/css/font-awesome.min.css%22/%3E%0A%20%20%20%20%3Clink%20rel%3D%22stylesheet%22%20href%3D%22https%3A//cdnjs.cloudflare.com/ajax/libs/Leaflet.awesome-markers/2.0.2/leaflet.awesome-markers.css%22/%3E%0A%20%20%20%20%3Clink%20rel%3D%22stylesheet%22%20href%3D%22https%3A//cdn.jsdelivr.net/gh/python-visualization/folium/folium/templates/leaflet.awesome.rotate.min.css%22/%3E%0A%20%20%20%20%0A%20%20%20%20%20%20%20%20%20%20%20%20%3Cmeta%20name%3D%22viewport%22%20content%3D%22width%3Ddevice-width%2C%0A%20%20%20%20%20%20%20%20%20%20%20%20%20%20%20%20initial-scale%3D1.0%2C%20maximum-scale%3D1.0%2C%20user-scalable%3Dno%22%20/%3E%0A%20%20%20%20%20%20%20%20%20%20%20%20%3Cstyle%3E%0A%20%20%20%20%20%20%20%20%20%20%20%20%20%20%20%20%23map_02b4aaeb68ae40739231135276f4ddd0%20%7B%0A%20%20%20%20%20%20%20%20%20%20%20%20%20%20%20%20%20%20%20%20position%3A%20relative%3B%0A%20%20%20%20%20%20%20%20%20%20%20%20%20%20%20%20%20%20%20%20width%3A%20100.0%25%3B%0A%20%20%20%20%20%20%20%20%20%20%20%20%20%20%20%20%20%20%20%20height%3A%20100.0%25%3B%0A%20%20%20%20%20%20%20%20%20%20%20%20%20%20%20%20%20%20%20%20left%3A%200.0%25%3B%0A%20%20%20%20%20%20%20%20%20%20%20%20%20%20%20%20%20%20%20%20top%3A%200.0%25%3B%0A%20%20%20%20%20%20%20%20%20%20%20%20%20%20%20%20%7D%0A%20%20%20%20%20%20%20%20%20%20%20%20%3C/style%3E%0A%20%20%20%20%20%20%20%20%0A%3C/head%3E%0A%3Cbody%3E%20%20%20%20%0A%20%20%20%20%0A%20%20%20%20%20%20%20%20%20%20%20%20%3Cdiv%20class%3D%22folium-map%22%20id%3D%22map_02b4aaeb68ae40739231135276f4ddd0%22%20%3E%3C/div%3E%0A%20%20%20%20%20%20%20%20%0A%3C/body%3E%0A%3Cscript%3E%20%20%20%20%0A%20%20%20%20%0A%20%20%20%20%20%20%20%20%20%20%20%20var%20map_02b4aaeb68ae40739231135276f4ddd0%20%3D%20L.map%28%0A%20%20%20%20%20%20%20%20%20%20%20%20%20%20%20%20%22map_02b4aaeb68ae40739231135276f4ddd0%22%2C%0A%20%20%20%20%20%20%20%20%20%20%20%20%20%20%20%20%7B%0A%20%20%20%20%20%20%20%20%20%20%20%20%20%20%20%20%20%20%20%20center%3A%20%5B-45.0%2C%20-73.0%5D%2C%0A%20%20%20%20%20%20%20%20%20%20%20%20%20%20%20%20%20%20%20%20crs%3A%20L.CRS.EPSG3857%2C%0A%20%20%20%20%20%20%20%20%20%20%20%20%20%20%20%20%20%20%20%20zoom%3A%207%2C%0A%20%20%20%20%20%20%20%20%20%20%20%20%20%20%20%20%20%20%20%20zoomControl%3A%20true%2C%0A%20%20%20%20%20%20%20%20%20%20%20%20%20%20%20%20%20%20%20%20preferCanvas%3A%20false%2C%0A%20%20%20%20%20%20%20%20%20%20%20%20%20%20%20%20%7D%0A%20%20%20%20%20%20%20%20%20%20%20%20%29%3B%0A%0A%20%20%20%20%20%20%20%20%20%20%20%20%0A%0A%20%20%20%20%20%20%20%20%0A%20%20%20%20%0A%20%20%20%20%20%20%20%20%20%20%20%20var%20tile_layer_fb70c121bd5b41daaac3a965a9ada413%20%3D%20L.tileLayer%28%0A%20%20%20%20%20%20%20%20%20%20%20%20%20%20%20%20%22https%3A//%7Bs%7D.tile.openstreetmap.org/%7Bz%7D/%7Bx%7D/%7By%7D.png%22%2C%0A%20%20%20%20%20%20%20%20%20%20%20%20%20%20%20%20%7B%22attribution%22%3A%20%22Data%20by%20%5Cu0026copy%3B%20%5Cu003ca%20href%3D%5C%22http%3A//openstreetmap.org%5C%22%5Cu003eOpenStreetMap%5Cu003c/a%5Cu003e%2C%20under%20%5Cu003ca%20href%3D%5C%22http%3A//www.openstreetmap.org/copyright%5C%22%5Cu003eODbL%5Cu003c/a%5Cu003e.%22%2C%20%22detectRetina%22%3A%20false%2C%20%22maxNativeZoom%22%3A%2018%2C%20%22maxZoom%22%3A%2018%2C%20%22minZoom%22%3A%200%2C%20%22noWrap%22%3A%20false%2C%20%22opacity%22%3A%201%2C%20%22subdomains%22%3A%20%22abc%22%2C%20%22tms%22%3A%20false%7D%0A%20%20%20%20%20%20%20%20%20%20%20%20%29.addTo%28map_02b4aaeb68ae40739231135276f4ddd0%29%3B%0A%20%20%20%20%20%20%20%20%0A%20%20%20%20%0A%20%20%20%20%20%20%20%20%20%20%20%20var%20tile_layer_27abee37d9234c4b874bc445e6a43178%20%3D%20L.tileLayer%28%0A%20%20%20%20%20%20%20%20%20%20%20%20%20%20%20%20%22https%3A//earthengine.googleapis.com/v1alpha/projects/earthengine-legacy/maps/9e691cc76302e5cc1719d98ae7795508-5d004b7af584af6e838ef196687af254/tiles/%7Bz%7D/%7Bx%7D/%7By%7D%22%2C%0A%20%20%20%20%20%20%20%20%20%20%20%20%20%20%20%20%7B%22attribution%22%3A%20%22Map%20Data%20%5Cu0026copy%3B%20%5Cu003ca%20href%3D%5C%22https%3A//earthengine.google.com/%5C%22%5Cu003eGoogle%20Earth%20Engine%5Cu003c/a%5Cu003e%22%2C%20%22detectRetina%22%3A%20false%2C%20%22maxNativeZoom%22%3A%2018%2C%20%22maxZoom%22%3A%2018%2C%20%22minZoom%22%3A%200%2C%20%22noWrap%22%3A%20false%2C%20%22opacity%22%3A%201%2C%20%22subdomains%22%3A%20%22abc%22%2C%20%22tms%22%3A%20false%7D%0A%20%20%20%20%20%20%20%20%20%20%20%20%29.addTo%28map_02b4aaeb68ae40739231135276f4ddd0%29%3B%0A%20%20%20%20%20%20%20%20%0A%3C/script%3E onload=\"this.contentDocument.open();this.contentDocument.write(    decodeURIComponent(this.getAttribute('data-html')));this.contentDocument.close();\" allowfullscreen webkitallowfullscreen mozallowfullscreen></iframe></div></div>"
      ],
      "text/plain": [
       "<folium.folium.Map at 0x7f1b083fbb20>"
      ]
     },
     "metadata": {},
     "output_type": "display_data"
    }
   ],
   "source": [
    "map_sin_tierra = folium.Map(location = [-45, -73], zoom_start = 7)\n",
    "map_sin_tierra.add_ee_layer(aquast2, vizParams, 'sin tierra')\n",
    "display(map_sin_tierra)"
   ]
  },
  {
   "cell_type": "code",
   "execution_count": 64,
   "id": "fef4d5b4",
   "metadata": {},
   "outputs": [],
   "source": [
    "coleccion4 = coleccion.map(Cloud)\n",
    "coleccion4 = coleccion4.map(Agua)\n",
    "# coleccion4 = coleccion4.map(Ndvi2)\n",
    "\n",
    "greenest3 = coleccion4.qualityMosaic('NDVI')"
   ]
  },
  {
   "cell_type": "code",
   "execution_count": 65,
   "id": "1315d54f",
   "metadata": {},
   "outputs": [
    {
     "data": {
      "text/html": [
       "<div style=\"width:100%;\"><div style=\"position:relative;width:100%;height:0;padding-bottom:60%;\"><span style=\"color:#565656\">Make this Notebook Trusted to load map: File -> Trust Notebook</span><iframe src=\"about:blank\" style=\"position:absolute;width:100%;height:100%;left:0;top:0;border:none !important;\" data-html=%3C%21DOCTYPE%20html%3E%0A%3Chead%3E%20%20%20%20%0A%20%20%20%20%3Cmeta%20http-equiv%3D%22content-type%22%20content%3D%22text/html%3B%20charset%3DUTF-8%22%20/%3E%0A%20%20%20%20%0A%20%20%20%20%20%20%20%20%3Cscript%3E%0A%20%20%20%20%20%20%20%20%20%20%20%20L_NO_TOUCH%20%3D%20false%3B%0A%20%20%20%20%20%20%20%20%20%20%20%20L_DISABLE_3D%20%3D%20false%3B%0A%20%20%20%20%20%20%20%20%3C/script%3E%0A%20%20%20%20%0A%20%20%20%20%3Cstyle%3Ehtml%2C%20body%20%7Bwidth%3A%20100%25%3Bheight%3A%20100%25%3Bmargin%3A%200%3Bpadding%3A%200%3B%7D%3C/style%3E%0A%20%20%20%20%3Cstyle%3E%23map%20%7Bposition%3Aabsolute%3Btop%3A0%3Bbottom%3A0%3Bright%3A0%3Bleft%3A0%3B%7D%3C/style%3E%0A%20%20%20%20%3Cscript%20src%3D%22https%3A//cdn.jsdelivr.net/npm/leaflet%401.6.0/dist/leaflet.js%22%3E%3C/script%3E%0A%20%20%20%20%3Cscript%20src%3D%22https%3A//code.jquery.com/jquery-1.12.4.min.js%22%3E%3C/script%3E%0A%20%20%20%20%3Cscript%20src%3D%22https%3A//maxcdn.bootstrapcdn.com/bootstrap/3.2.0/js/bootstrap.min.js%22%3E%3C/script%3E%0A%20%20%20%20%3Cscript%20src%3D%22https%3A//cdnjs.cloudflare.com/ajax/libs/Leaflet.awesome-markers/2.0.2/leaflet.awesome-markers.js%22%3E%3C/script%3E%0A%20%20%20%20%3Clink%20rel%3D%22stylesheet%22%20href%3D%22https%3A//cdn.jsdelivr.net/npm/leaflet%401.6.0/dist/leaflet.css%22/%3E%0A%20%20%20%20%3Clink%20rel%3D%22stylesheet%22%20href%3D%22https%3A//maxcdn.bootstrapcdn.com/bootstrap/3.2.0/css/bootstrap.min.css%22/%3E%0A%20%20%20%20%3Clink%20rel%3D%22stylesheet%22%20href%3D%22https%3A//maxcdn.bootstrapcdn.com/bootstrap/3.2.0/css/bootstrap-theme.min.css%22/%3E%0A%20%20%20%20%3Clink%20rel%3D%22stylesheet%22%20href%3D%22https%3A//maxcdn.bootstrapcdn.com/font-awesome/4.6.3/css/font-awesome.min.css%22/%3E%0A%20%20%20%20%3Clink%20rel%3D%22stylesheet%22%20href%3D%22https%3A//cdnjs.cloudflare.com/ajax/libs/Leaflet.awesome-markers/2.0.2/leaflet.awesome-markers.css%22/%3E%0A%20%20%20%20%3Clink%20rel%3D%22stylesheet%22%20href%3D%22https%3A//cdn.jsdelivr.net/gh/python-visualization/folium/folium/templates/leaflet.awesome.rotate.min.css%22/%3E%0A%20%20%20%20%0A%20%20%20%20%20%20%20%20%20%20%20%20%3Cmeta%20name%3D%22viewport%22%20content%3D%22width%3Ddevice-width%2C%0A%20%20%20%20%20%20%20%20%20%20%20%20%20%20%20%20initial-scale%3D1.0%2C%20maximum-scale%3D1.0%2C%20user-scalable%3Dno%22%20/%3E%0A%20%20%20%20%20%20%20%20%20%20%20%20%3Cstyle%3E%0A%20%20%20%20%20%20%20%20%20%20%20%20%20%20%20%20%23map_b6953f6f29a74a40a021a3ac8bc571d0%20%7B%0A%20%20%20%20%20%20%20%20%20%20%20%20%20%20%20%20%20%20%20%20position%3A%20relative%3B%0A%20%20%20%20%20%20%20%20%20%20%20%20%20%20%20%20%20%20%20%20width%3A%20100.0%25%3B%0A%20%20%20%20%20%20%20%20%20%20%20%20%20%20%20%20%20%20%20%20height%3A%20100.0%25%3B%0A%20%20%20%20%20%20%20%20%20%20%20%20%20%20%20%20%20%20%20%20left%3A%200.0%25%3B%0A%20%20%20%20%20%20%20%20%20%20%20%20%20%20%20%20%20%20%20%20top%3A%200.0%25%3B%0A%20%20%20%20%20%20%20%20%20%20%20%20%20%20%20%20%7D%0A%20%20%20%20%20%20%20%20%20%20%20%20%3C/style%3E%0A%20%20%20%20%20%20%20%20%0A%3C/head%3E%0A%3Cbody%3E%20%20%20%20%0A%20%20%20%20%0A%20%20%20%20%20%20%20%20%20%20%20%20%3Cdiv%20class%3D%22folium-map%22%20id%3D%22map_b6953f6f29a74a40a021a3ac8bc571d0%22%20%3E%3C/div%3E%0A%20%20%20%20%20%20%20%20%0A%3C/body%3E%0A%3Cscript%3E%20%20%20%20%0A%20%20%20%20%0A%20%20%20%20%20%20%20%20%20%20%20%20var%20map_b6953f6f29a74a40a021a3ac8bc571d0%20%3D%20L.map%28%0A%20%20%20%20%20%20%20%20%20%20%20%20%20%20%20%20%22map_b6953f6f29a74a40a021a3ac8bc571d0%22%2C%0A%20%20%20%20%20%20%20%20%20%20%20%20%20%20%20%20%7B%0A%20%20%20%20%20%20%20%20%20%20%20%20%20%20%20%20%20%20%20%20center%3A%20%5B-45.0%2C%20-73.0%5D%2C%0A%20%20%20%20%20%20%20%20%20%20%20%20%20%20%20%20%20%20%20%20crs%3A%20L.CRS.EPSG3857%2C%0A%20%20%20%20%20%20%20%20%20%20%20%20%20%20%20%20%20%20%20%20zoom%3A%207%2C%0A%20%20%20%20%20%20%20%20%20%20%20%20%20%20%20%20%20%20%20%20zoomControl%3A%20true%2C%0A%20%20%20%20%20%20%20%20%20%20%20%20%20%20%20%20%20%20%20%20preferCanvas%3A%20false%2C%0A%20%20%20%20%20%20%20%20%20%20%20%20%20%20%20%20%7D%0A%20%20%20%20%20%20%20%20%20%20%20%20%29%3B%0A%0A%20%20%20%20%20%20%20%20%20%20%20%20%0A%0A%20%20%20%20%20%20%20%20%0A%20%20%20%20%0A%20%20%20%20%20%20%20%20%20%20%20%20var%20tile_layer_f1b244c7044248e0bcd874ab2c637897%20%3D%20L.tileLayer%28%0A%20%20%20%20%20%20%20%20%20%20%20%20%20%20%20%20%22https%3A//%7Bs%7D.tile.openstreetmap.org/%7Bz%7D/%7Bx%7D/%7By%7D.png%22%2C%0A%20%20%20%20%20%20%20%20%20%20%20%20%20%20%20%20%7B%22attribution%22%3A%20%22Data%20by%20%5Cu0026copy%3B%20%5Cu003ca%20href%3D%5C%22http%3A//openstreetmap.org%5C%22%5Cu003eOpenStreetMap%5Cu003c/a%5Cu003e%2C%20under%20%5Cu003ca%20href%3D%5C%22http%3A//www.openstreetmap.org/copyright%5C%22%5Cu003eODbL%5Cu003c/a%5Cu003e.%22%2C%20%22detectRetina%22%3A%20false%2C%20%22maxNativeZoom%22%3A%2018%2C%20%22maxZoom%22%3A%2018%2C%20%22minZoom%22%3A%200%2C%20%22noWrap%22%3A%20false%2C%20%22opacity%22%3A%201%2C%20%22subdomains%22%3A%20%22abc%22%2C%20%22tms%22%3A%20false%7D%0A%20%20%20%20%20%20%20%20%20%20%20%20%29.addTo%28map_b6953f6f29a74a40a021a3ac8bc571d0%29%3B%0A%20%20%20%20%20%20%20%20%0A%20%20%20%20%0A%20%20%20%20%20%20%20%20%20%20%20%20var%20tile_layer_26810c8a03424d8d922988877f6f84ca%20%3D%20L.tileLayer%28%0A%20%20%20%20%20%20%20%20%20%20%20%20%20%20%20%20%22https%3A//earthengine.googleapis.com/v1alpha/projects/earthengine-legacy/maps/c96ca81f2951379f4b49567cf4c377c8-7fa6db84e205e201e977b65c958a552f/tiles/%7Bz%7D/%7Bx%7D/%7By%7D%22%2C%0A%20%20%20%20%20%20%20%20%20%20%20%20%20%20%20%20%7B%22attribution%22%3A%20%22Map%20Data%20%5Cu0026copy%3B%20%5Cu003ca%20href%3D%5C%22https%3A//earthengine.google.com/%5C%22%5Cu003eGoogle%20Earth%20Engine%5Cu003c/a%5Cu003e%22%2C%20%22detectRetina%22%3A%20false%2C%20%22maxNativeZoom%22%3A%2018%2C%20%22maxZoom%22%3A%2018%2C%20%22minZoom%22%3A%200%2C%20%22noWrap%22%3A%20false%2C%20%22opacity%22%3A%201%2C%20%22subdomains%22%3A%20%22abc%22%2C%20%22tms%22%3A%20false%7D%0A%20%20%20%20%20%20%20%20%20%20%20%20%29.addTo%28map_b6953f6f29a74a40a021a3ac8bc571d0%29%3B%0A%20%20%20%20%20%20%20%20%0A%3C/script%3E onload=\"this.contentDocument.open();this.contentDocument.write(    decodeURIComponent(this.getAttribute('data-html')));this.contentDocument.close();\" allowfullscreen webkitallowfullscreen mozallowfullscreen></iframe></div></div>"
      ],
      "text/plain": [
       "<folium.folium.Map at 0x7f1aac82af10>"
      ]
     },
     "metadata": {},
     "output_type": "display_data"
    }
   ],
   "source": [
    "map_sin_nubes = folium.Map(location = [-45, -73], zoom_start = 7)\n",
    "map_sin_nubes.add_ee_layer(greenest3, vizParams, 'sin nubes')\n",
    "display(map_sin_nubes)"
   ]
  },
  {
   "cell_type": "code",
   "execution_count": null,
   "id": "22456c7a",
   "metadata": {},
   "outputs": [],
   "source": []
  },
  {
   "cell_type": "code",
   "execution_count": null,
   "id": "e2a6caeb",
   "metadata": {},
   "outputs": [],
   "source": []
  },
  {
   "cell_type": "code",
   "execution_count": null,
   "id": "548af92e",
   "metadata": {},
   "outputs": [],
   "source": []
  },
  {
   "cell_type": "markdown",
   "id": "99a7f3ce",
   "metadata": {},
   "source": [
    "### Tierra"
   ]
  },
  {
   "cell_type": "code",
   "execution_count": 38,
   "id": "9e6f51d0",
   "metadata": {},
   "outputs": [],
   "source": [
    "ndgi = greenest.select('NDGI')\n",
    "ndgi_viz = {'min': -1, 'max': 1, 'palette': ['FF00FF', 'FFFF00']}\n",
    "Map.addLayer(ndgi, ndgi_viz, 'NDGI')"
   ]
  },
  {
   "cell_type": "code",
   "execution_count": 39,
   "id": "0807aa1c",
   "metadata": {},
   "outputs": [],
   "source": [
    "start_date = '2020-01-01'\n",
    "end_date = '2021-03-31'\n",
    "\n",
    "l8tierra = ee.ImageCollection('LANDSAT/LC08/C01/T1_TOA') \\\n",
    "    .filterBounds(patagonia_grande) \\\n",
    "    .filterDate(start_date, end_date)"
   ]
  },
  {
   "cell_type": "code",
   "execution_count": 40,
   "id": "e84d8ded",
   "metadata": {},
   "outputs": [],
   "source": [
    "coleccion_tierra = l8tierra.map(addNDVI).map(addNDWI).map(addNDGI).map(addDate)"
   ]
  },
  {
   "cell_type": "code",
   "execution_count": 41,
   "id": "910a2cd1",
   "metadata": {},
   "outputs": [],
   "source": [
    "tierrast = coleccion_tierra.qualityMosaic('NDGI')"
   ]
  },
  {
   "cell_type": "code",
   "execution_count": 42,
   "id": "bdcfa0b0",
   "metadata": {},
   "outputs": [
    {
     "data": {
      "application/vnd.jupyter.widget-view+json": {
       "model_id": "d2124b57b47242d78e8333c855260123",
       "version_major": 2,
       "version_minor": 0
      },
      "text/plain": [
       "Map(bottom=11117.0, center=[-49.845576304360975, -69.3669060002117], controls=(WidgetControl(options=['positio…"
      ]
     },
     "metadata": {},
     "output_type": "display_data"
    }
   ],
   "source": [
    "Map.addLayer(tierrast, vizParams, 'test tierra')\n",
    "Map"
   ]
  },
  {
   "cell_type": "markdown",
   "id": "99bf0fe5",
   "metadata": {},
   "source": [
    "## Mosaicos"
   ]
  },
  {
   "cell_type": "markdown",
   "id": "c0c53b31",
   "metadata": {},
   "source": [
    "### RGB"
   ]
  },
  {
   "cell_type": "code",
   "execution_count": 66,
   "id": "2dc8bdea",
   "metadata": {},
   "outputs": [],
   "source": [
    "aquast_rgb = aquast.visualize"
   ]
  },
  {
   "cell_type": "code",
   "execution_count": null,
   "id": "f0979780",
   "metadata": {},
   "outputs": [],
   "source": []
  },
  {
   "cell_type": "code",
   "execution_count": 67,
   "id": "d9de07aa",
   "metadata": {},
   "outputs": [],
   "source": [
    "mosaic = ee.ImageCollection([aquast, greenest]).mosaic()"
   ]
  },
  {
   "cell_type": "code",
   "execution_count": 52,
   "id": "727b69a2",
   "metadata": {},
   "outputs": [
    {
     "data": {
      "application/vnd.jupyter.widget-view+json": {
       "model_id": "15e6b534e5f14600aff159a5941b955f",
       "version_major": 2,
       "version_minor": 0
      },
      "text/plain": [
       "Map(bottom=5731.0, center=[-50.485473545784984, -68.40087890625001], controls=(WidgetControl(options=['positio…"
      ]
     },
     "metadata": {},
     "output_type": "display_data"
    }
   ],
   "source": [
    "Map.addLayer(mosaic, vizParams, 'Mosaico')\n",
    "Map"
   ]
  },
  {
   "cell_type": "code",
   "execution_count": 68,
   "id": "61d115cd",
   "metadata": {},
   "outputs": [
    {
     "data": {
      "text/html": [
       "<div style=\"width:100%;\"><div style=\"position:relative;width:100%;height:0;padding-bottom:60%;\"><span style=\"color:#565656\">Make this Notebook Trusted to load map: File -> Trust Notebook</span><iframe src=\"about:blank\" style=\"position:absolute;width:100%;height:100%;left:0;top:0;border:none !important;\" data-html=%3C%21DOCTYPE%20html%3E%0A%3Chead%3E%20%20%20%20%0A%20%20%20%20%3Cmeta%20http-equiv%3D%22content-type%22%20content%3D%22text/html%3B%20charset%3DUTF-8%22%20/%3E%0A%20%20%20%20%0A%20%20%20%20%20%20%20%20%3Cscript%3E%0A%20%20%20%20%20%20%20%20%20%20%20%20L_NO_TOUCH%20%3D%20false%3B%0A%20%20%20%20%20%20%20%20%20%20%20%20L_DISABLE_3D%20%3D%20false%3B%0A%20%20%20%20%20%20%20%20%3C/script%3E%0A%20%20%20%20%0A%20%20%20%20%3Cstyle%3Ehtml%2C%20body%20%7Bwidth%3A%20100%25%3Bheight%3A%20100%25%3Bmargin%3A%200%3Bpadding%3A%200%3B%7D%3C/style%3E%0A%20%20%20%20%3Cstyle%3E%23map%20%7Bposition%3Aabsolute%3Btop%3A0%3Bbottom%3A0%3Bright%3A0%3Bleft%3A0%3B%7D%3C/style%3E%0A%20%20%20%20%3Cscript%20src%3D%22https%3A//cdn.jsdelivr.net/npm/leaflet%401.6.0/dist/leaflet.js%22%3E%3C/script%3E%0A%20%20%20%20%3Cscript%20src%3D%22https%3A//code.jquery.com/jquery-1.12.4.min.js%22%3E%3C/script%3E%0A%20%20%20%20%3Cscript%20src%3D%22https%3A//maxcdn.bootstrapcdn.com/bootstrap/3.2.0/js/bootstrap.min.js%22%3E%3C/script%3E%0A%20%20%20%20%3Cscript%20src%3D%22https%3A//cdnjs.cloudflare.com/ajax/libs/Leaflet.awesome-markers/2.0.2/leaflet.awesome-markers.js%22%3E%3C/script%3E%0A%20%20%20%20%3Clink%20rel%3D%22stylesheet%22%20href%3D%22https%3A//cdn.jsdelivr.net/npm/leaflet%401.6.0/dist/leaflet.css%22/%3E%0A%20%20%20%20%3Clink%20rel%3D%22stylesheet%22%20href%3D%22https%3A//maxcdn.bootstrapcdn.com/bootstrap/3.2.0/css/bootstrap.min.css%22/%3E%0A%20%20%20%20%3Clink%20rel%3D%22stylesheet%22%20href%3D%22https%3A//maxcdn.bootstrapcdn.com/bootstrap/3.2.0/css/bootstrap-theme.min.css%22/%3E%0A%20%20%20%20%3Clink%20rel%3D%22stylesheet%22%20href%3D%22https%3A//maxcdn.bootstrapcdn.com/font-awesome/4.6.3/css/font-awesome.min.css%22/%3E%0A%20%20%20%20%3Clink%20rel%3D%22stylesheet%22%20href%3D%22https%3A//cdnjs.cloudflare.com/ajax/libs/Leaflet.awesome-markers/2.0.2/leaflet.awesome-markers.css%22/%3E%0A%20%20%20%20%3Clink%20rel%3D%22stylesheet%22%20href%3D%22https%3A//cdn.jsdelivr.net/gh/python-visualization/folium/folium/templates/leaflet.awesome.rotate.min.css%22/%3E%0A%20%20%20%20%0A%20%20%20%20%20%20%20%20%20%20%20%20%3Cmeta%20name%3D%22viewport%22%20content%3D%22width%3Ddevice-width%2C%0A%20%20%20%20%20%20%20%20%20%20%20%20%20%20%20%20initial-scale%3D1.0%2C%20maximum-scale%3D1.0%2C%20user-scalable%3Dno%22%20/%3E%0A%20%20%20%20%20%20%20%20%20%20%20%20%3Cstyle%3E%0A%20%20%20%20%20%20%20%20%20%20%20%20%20%20%20%20%23map_40939c476f90472eb25ceb2f91fd4c04%20%7B%0A%20%20%20%20%20%20%20%20%20%20%20%20%20%20%20%20%20%20%20%20position%3A%20relative%3B%0A%20%20%20%20%20%20%20%20%20%20%20%20%20%20%20%20%20%20%20%20width%3A%20100.0%25%3B%0A%20%20%20%20%20%20%20%20%20%20%20%20%20%20%20%20%20%20%20%20height%3A%20100.0%25%3B%0A%20%20%20%20%20%20%20%20%20%20%20%20%20%20%20%20%20%20%20%20left%3A%200.0%25%3B%0A%20%20%20%20%20%20%20%20%20%20%20%20%20%20%20%20%20%20%20%20top%3A%200.0%25%3B%0A%20%20%20%20%20%20%20%20%20%20%20%20%20%20%20%20%7D%0A%20%20%20%20%20%20%20%20%20%20%20%20%3C/style%3E%0A%20%20%20%20%20%20%20%20%0A%3C/head%3E%0A%3Cbody%3E%20%20%20%20%0A%20%20%20%20%0A%20%20%20%20%20%20%20%20%20%20%20%20%3Cdiv%20class%3D%22folium-map%22%20id%3D%22map_40939c476f90472eb25ceb2f91fd4c04%22%20%3E%3C/div%3E%0A%20%20%20%20%20%20%20%20%0A%3C/body%3E%0A%3Cscript%3E%20%20%20%20%0A%20%20%20%20%0A%20%20%20%20%20%20%20%20%20%20%20%20var%20map_40939c476f90472eb25ceb2f91fd4c04%20%3D%20L.map%28%0A%20%20%20%20%20%20%20%20%20%20%20%20%20%20%20%20%22map_40939c476f90472eb25ceb2f91fd4c04%22%2C%0A%20%20%20%20%20%20%20%20%20%20%20%20%20%20%20%20%7B%0A%20%20%20%20%20%20%20%20%20%20%20%20%20%20%20%20%20%20%20%20center%3A%20%5B-45.0%2C%20-73.0%5D%2C%0A%20%20%20%20%20%20%20%20%20%20%20%20%20%20%20%20%20%20%20%20crs%3A%20L.CRS.EPSG3857%2C%0A%20%20%20%20%20%20%20%20%20%20%20%20%20%20%20%20%20%20%20%20zoom%3A%207%2C%0A%20%20%20%20%20%20%20%20%20%20%20%20%20%20%20%20%20%20%20%20zoomControl%3A%20true%2C%0A%20%20%20%20%20%20%20%20%20%20%20%20%20%20%20%20%20%20%20%20preferCanvas%3A%20false%2C%0A%20%20%20%20%20%20%20%20%20%20%20%20%20%20%20%20%7D%0A%20%20%20%20%20%20%20%20%20%20%20%20%29%3B%0A%0A%20%20%20%20%20%20%20%20%20%20%20%20%0A%0A%20%20%20%20%20%20%20%20%0A%20%20%20%20%0A%20%20%20%20%20%20%20%20%20%20%20%20var%20tile_layer_c5a4c1e3e9b04a2a94a9fb91285d8b58%20%3D%20L.tileLayer%28%0A%20%20%20%20%20%20%20%20%20%20%20%20%20%20%20%20%22https%3A//%7Bs%7D.tile.openstreetmap.org/%7Bz%7D/%7Bx%7D/%7By%7D.png%22%2C%0A%20%20%20%20%20%20%20%20%20%20%20%20%20%20%20%20%7B%22attribution%22%3A%20%22Data%20by%20%5Cu0026copy%3B%20%5Cu003ca%20href%3D%5C%22http%3A//openstreetmap.org%5C%22%5Cu003eOpenStreetMap%5Cu003c/a%5Cu003e%2C%20under%20%5Cu003ca%20href%3D%5C%22http%3A//www.openstreetmap.org/copyright%5C%22%5Cu003eODbL%5Cu003c/a%5Cu003e.%22%2C%20%22detectRetina%22%3A%20false%2C%20%22maxNativeZoom%22%3A%2018%2C%20%22maxZoom%22%3A%2018%2C%20%22minZoom%22%3A%200%2C%20%22noWrap%22%3A%20false%2C%20%22opacity%22%3A%201%2C%20%22subdomains%22%3A%20%22abc%22%2C%20%22tms%22%3A%20false%7D%0A%20%20%20%20%20%20%20%20%20%20%20%20%29.addTo%28map_40939c476f90472eb25ceb2f91fd4c04%29%3B%0A%20%20%20%20%20%20%20%20%0A%20%20%20%20%0A%20%20%20%20%20%20%20%20%20%20%20%20var%20tile_layer_881e1fb356fa46c983875f26b7f53e7a%20%3D%20L.tileLayer%28%0A%20%20%20%20%20%20%20%20%20%20%20%20%20%20%20%20%22https%3A//earthengine.googleapis.com/v1alpha/projects/earthengine-legacy/maps/ae1c819376edcef684ac2c574f333032-1761632826da382eae35015eaf0fb69c/tiles/%7Bz%7D/%7Bx%7D/%7By%7D%22%2C%0A%20%20%20%20%20%20%20%20%20%20%20%20%20%20%20%20%7B%22attribution%22%3A%20%22Map%20Data%20%5Cu0026copy%3B%20%5Cu003ca%20href%3D%5C%22https%3A//earthengine.google.com/%5C%22%5Cu003eGoogle%20Earth%20Engine%5Cu003c/a%5Cu003e%22%2C%20%22detectRetina%22%3A%20false%2C%20%22maxNativeZoom%22%3A%2018%2C%20%22maxZoom%22%3A%2018%2C%20%22minZoom%22%3A%200%2C%20%22noWrap%22%3A%20false%2C%20%22opacity%22%3A%201%2C%20%22subdomains%22%3A%20%22abc%22%2C%20%22tms%22%3A%20false%7D%0A%20%20%20%20%20%20%20%20%20%20%20%20%29.addTo%28map_40939c476f90472eb25ceb2f91fd4c04%29%3B%0A%20%20%20%20%20%20%20%20%0A%3C/script%3E onload=\"this.contentDocument.open();this.contentDocument.write(    decodeURIComponent(this.getAttribute('data-html')));this.contentDocument.close();\" allowfullscreen webkitallowfullscreen mozallowfullscreen></iframe></div></div>"
      ],
      "text/plain": [
       "<folium.folium.Map at 0x7f1aac82aa90>"
      ]
     },
     "metadata": {},
     "output_type": "display_data"
    }
   ],
   "source": [
    "map_mosaic = folium.Map(location = [-45, -73], zoom_start = 7)\n",
    "map_mosaic.add_ee_layer(mosaic, vizParams, 'mosaic')\n",
    "display(map_mosaic)"
   ]
  },
  {
   "cell_type": "code",
   "execution_count": 72,
   "id": "da236fda",
   "metadata": {},
   "outputs": [],
   "source": [
    "mosaic2 = ee.ImageCollection([aquast2, greenest3]).mosaic()"
   ]
  },
  {
   "cell_type": "code",
   "execution_count": 73,
   "id": "53ff3ac9",
   "metadata": {},
   "outputs": [
    {
     "data": {
      "text/plain": [
       "['B1',\n",
       " 'B2',\n",
       " 'B3',\n",
       " 'B4',\n",
       " 'B5',\n",
       " 'B6',\n",
       " 'B7',\n",
       " 'B8',\n",
       " 'B9',\n",
       " 'B10',\n",
       " 'B11',\n",
       " 'BQA',\n",
       " 'NDVI',\n",
       " 'NDWI',\n",
       " 'NDGI',\n",
       " 'date']"
      ]
     },
     "execution_count": 73,
     "metadata": {},
     "output_type": "execute_result"
    }
   ],
   "source": [
    "mosaic2.bandNames().getInfo()"
   ]
  },
  {
   "cell_type": "code",
   "execution_count": 74,
   "id": "b9547693",
   "metadata": {},
   "outputs": [
    {
     "data": {
      "application/vnd.jupyter.widget-view+json": {
       "model_id": "d2124b57b47242d78e8333c855260123",
       "version_major": 2,
       "version_minor": 0
      },
      "text/plain": [
       "Map(bottom=5757.0, center=[-51.20688339486561, -69.23583984375001], controls=(WidgetControl(options=['position…"
      ]
     },
     "metadata": {},
     "output_type": "display_data"
    }
   ],
   "source": [
    "Map.addLayer(mosaic2, vizParams, 'Mosaico2')\n",
    "Map"
   ]
  },
  {
   "cell_type": "code",
   "execution_count": 64,
   "id": "8f94c44b",
   "metadata": {},
   "outputs": [
    {
     "data": {
      "application/vnd.jupyter.widget-view+json": {
       "model_id": "15e6b534e5f14600aff159a5941b955f",
       "version_major": 2,
       "version_minor": 0
      },
      "text/plain": [
       "Map(bottom=10965.0, center=[-47.650587571187344, -72.93823242187501], controls=(WidgetControl(options=['positi…"
      ]
     },
     "metadata": {},
     "output_type": "display_data"
    }
   ],
   "source": [
    "mosaico = ee.Image(\"users/franciscoalbornoz/Mosaico_2018\")\n",
    "clasificacion_2018 = ee.Image(\"users/franciscoalbornoz/clasificacion_2018\")\n",
    "landcover_2018 = ee.Image(\"users/franciscoalbornoz/landcover_sur\")\n",
    "landsat_vis = {\n",
    "    'min': 0,\n",
    "    'max': 1,\n",
    "    'bands': ['b5', 'b4', 'b3']\n",
    "}\n",
    "Map.addLayer(mosaico, landsat_vis, \"Landsat-8-2018\")\n",
    "Map.addLayer(clasificacion_2018.randomVisualizer(), {}, \"clasificación 2018\")\n",
    "Map.addLayer(landcover_2018.randomVisualizer(), {} , \"landcover provincia\")\n",
    "Map"
   ]
  },
  {
   "cell_type": "markdown",
   "id": "c52fe718",
   "metadata": {},
   "source": [
    "## Clasificación Supervisada"
   ]
  },
  {
   "cell_type": "code",
   "execution_count": 66,
   "id": "220afe3c",
   "metadata": {},
   "outputs": [],
   "source": [
    "work_dir = os.path.expanduser('../Data/shapes/')\n",
    "\n",
    "val_shp= os.path.join(work_dir, 'validacion.shp')\n",
    "merged_shp = os.path.join(work_dir, 'roi_merged.shp')"
   ]
  },
  {
   "cell_type": "code",
   "execution_count": 67,
   "id": "223c9f5f",
   "metadata": {},
   "outputs": [],
   "source": [
    "merged = geemap.shp_to_ee(merged_shp)\n",
    "Map.addLayer(merged, {}, 'Áreas de entrenamiento')"
   ]
  },
  {
   "cell_type": "code",
   "execution_count": 68,
   "id": "8095c8a5",
   "metadata": {},
   "outputs": [],
   "source": [
    "val = geemap.shp_to_ee(val_shp)\n",
    "Map.addLayer(val, {}, 'Áreas de Validación')"
   ]
  },
  {
   "cell_type": "code",
   "execution_count": 69,
   "id": "2448703b",
   "metadata": {},
   "outputs": [],
   "source": [
    "dataset = mosaic2.sampleRegions(**{\n",
    "    'collection': merged,\n",
    "    'properties': ['ID'],\n",
    "    'scale' : 30 ,\n",
    "})"
   ]
  },
  {
   "cell_type": "code",
   "execution_count": 70,
   "id": "33af8dbf",
   "metadata": {},
   "outputs": [],
   "source": [
    "datasetval = mosaic2.sampleRegions(**{\n",
    "    'collection': val,\n",
    "    'properties': ['ID'],\n",
    "    'scale': 10,\n",
    "})"
   ]
  },
  {
   "cell_type": "code",
   "execution_count": 71,
   "id": "aa708024",
   "metadata": {},
   "outputs": [
    {
     "name": "stdout",
     "output_type": "stream",
     "text": [
      "20343\n"
     ]
    }
   ],
   "source": [
    "print(dataset.size().getInfo())"
   ]
  },
  {
   "cell_type": "code",
   "execution_count": 72,
   "id": "d417273d",
   "metadata": {},
   "outputs": [],
   "source": [
    "bands = ['B1',\n",
    " 'B2',\n",
    " 'B3',\n",
    " 'B4',\n",
    " 'B5',\n",
    " 'B6',\n",
    " 'B7',\n",
    " 'B8',\n",
    " 'B9',\n",
    " 'B10',\n",
    " 'B11',\n",
    " 'BQA',\n",
    " 'NDVI',\n",
    " 'NDWI',\n",
    " 'NDGI']\n",
    "\n",
    "label = 'ID'"
   ]
  },
  {
   "cell_type": "code",
   "execution_count": 73,
   "id": "8b1a5c83",
   "metadata": {},
   "outputs": [],
   "source": [
    "randomforest = ee.Classifier.smileRandomForest(100).train(dataset, label, bands)\n",
    "resultRF = mosaic2.select(bands).classify(randomforest)"
   ]
  },
  {
   "cell_type": "code",
   "execution_count": 74,
   "id": "83a31039",
   "metadata": {},
   "outputs": [],
   "source": [
    "\n",
    "class_values1 = [1,2,3,4,5,6,7,8,9,10,11,12,13,14,15,16,17,18]\n",
    "\n",
    "class_palette1 = ['22c129', # 1\n",
    " 'f0ff00',\n",
    " '0c40f1',\n",
    " '685205',\n",
    " '0d4404',\n",
    " 'e82d13',\n",
    " 'f99504',\n",
    " '17d4c6',\n",
    " '1c6330',\n",
    " '24ff00',\n",
    " '2de50f',\n",
    " 'ccba7d',\n",
    " 'dec61a',\n",
    " '28d909',\n",
    " '03c2ff',\n",
    " '4e8c44',\n",
    " 'fdfdfd',\n",
    " 'c0c233'\n",
    "]"
   ]
  },
  {
   "cell_type": "code",
   "execution_count": 75,
   "id": "0fa88687",
   "metadata": {},
   "outputs": [],
   "source": [
    "resultRF = resultRF.set('classification_class_values', class_values1)\n",
    "resultRF = resultRF.set('classification_class_palette', class_palette1)"
   ]
  },
  {
   "cell_type": "code",
   "execution_count": 76,
   "id": "e21bd213",
   "metadata": {},
   "outputs": [
    {
     "data": {
      "application/vnd.jupyter.widget-view+json": {
       "model_id": "15e6b534e5f14600aff159a5941b955f",
       "version_major": 2,
       "version_minor": 0
      },
      "text/plain": [
       "Map(bottom=11289.0, center=[-52.227799418870696, -71.40014648437501], controls=(WidgetControl(options=['positi…"
      ]
     },
     "metadata": {},
     "output_type": "display_data"
    }
   ],
   "source": [
    "Map.addLayer(resultRF, {}, 'Land cover clasificado RF 100' )\n",
    "legend_dict = {\n",
    "    '01 Achaparrado': '22c129',\n",
    "    '02 Agrícola': 'f0ff00',\n",
    "    '03 Agua': '0c40f1',\n",
    "    '04 Arenal o Roca': '685205',\n",
    "    '05 Bosque Degradado': '0d4404',\n",
    "    '06 Cuncunas': 'e82d13',\n",
    "    '07 Estepa': 'f99504',\n",
    "    '08 Humedal': '17d4c6',\n",
    "    '09 Mallin': '1c6330',\n",
    "    '10 Matorral abierto': '24ff00',\n",
    "    '11 Matorral denso': '2de50f',\n",
    "    '12 Plantaciones': 'ccba7d',\n",
    "    '13 Praderas': 'dec61a',\n",
    "    '14 Primario': '28d909',\n",
    "    '15 Ríos': '03c2ff',\n",
    "    '16 Secundario': '4e8c44',\n",
    "    '17 Sombra topo': 'fdfdfd',\n",
    "    '18 Suelo desnudo': 'c0c233'\n",
    "}\n",
    "Map.add_legend(legend_title=\"Random Forest\", legend_dict=legend_dict)\n",
    "Map"
   ]
  },
  {
   "cell_type": "code",
   "execution_count": null,
   "id": "d70371a0",
   "metadata": {},
   "outputs": [],
   "source": []
  }
 ],
 "metadata": {
  "kernelspec": {
   "display_name": "Python 3",
   "language": "python",
   "name": "python3"
  },
  "language_info": {
   "codemirror_mode": {
    "name": "ipython",
    "version": 3
   },
   "file_extension": ".py",
   "mimetype": "text/x-python",
   "name": "python",
   "nbconvert_exporter": "python",
   "pygments_lexer": "ipython3",
   "version": "3.9.2"
  },
  "toc": {
   "base_numbering": 1,
   "nav_menu": {},
   "number_sections": true,
   "sideBar": true,
   "skip_h1_title": false,
   "title_cell": "Table of Contents",
   "title_sidebar": "Contents",
   "toc_cell": false,
   "toc_position": {
    "height": "calc(100% - 180px)",
    "left": "10px",
    "top": "150px",
    "width": "336px"
   },
   "toc_section_display": true,
   "toc_window_display": true
  },
  "varInspector": {
   "cols": {
    "lenName": 16,
    "lenType": 16,
    "lenVar": 40
   },
   "kernels_config": {
    "python": {
     "delete_cmd_postfix": "",
     "delete_cmd_prefix": "del ",
     "library": "var_list.py",
     "varRefreshCmd": "print(var_dic_list())"
    },
    "r": {
     "delete_cmd_postfix": ") ",
     "delete_cmd_prefix": "rm(",
     "library": "var_list.r",
     "varRefreshCmd": "cat(var_dic_list()) "
    }
   },
   "types_to_exclude": [
    "module",
    "function",
    "builtin_function_or_method",
    "instance",
    "_Feature"
   ],
   "window_display": false
  }
 },
 "nbformat": 4,
 "nbformat_minor": 5
}
