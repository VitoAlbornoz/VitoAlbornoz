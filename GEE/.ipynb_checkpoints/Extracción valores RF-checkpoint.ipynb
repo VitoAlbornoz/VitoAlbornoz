{
 "cells": [
  {
   "cell_type": "code",
   "execution_count": 1,
   "id": "joined-delicious",
   "metadata": {},
   "outputs": [],
   "source": [
    "import ee\n",
    "import geemap\n",
    "import os\n"
   ]
  },
  {
   "cell_type": "code",
   "execution_count": null,
   "id": "26676695",
   "metadata": {},
   "outputs": [],
   "source": [
    "# geemap.update_package()"
   ]
  },
  {
   "cell_type": "code",
   "execution_count": 2,
   "id": "departmental-bridal",
   "metadata": {},
   "outputs": [],
   "source": [
    "Map = geemap.Map()\n"
   ]
  },
  {
   "cell_type": "code",
   "execution_count": 3,
   "id": "adolescent-tsunami",
   "metadata": {},
   "outputs": [
    {
     "data": {
      "application/vnd.jupyter.widget-view+json": {
       "model_id": "0ee2ad483675431aa0ad02b9b79ad2bf",
       "version_major": 2,
       "version_minor": 0
      },
      "text/plain": [
       "Map(center=[40, -100], controls=(WidgetControl(options=['position'], widget=HBox(children=(ToggleButton(value=…"
      ]
     },
     "metadata": {},
     "output_type": "display_data"
    }
   ],
   "source": [
    "mosaico = ee.Image(\"users/franciscoalbornoz/Mosaico_2018\")\n",
    "landsat_vis = {\n",
    "    'min': 0,\n",
    "    'max': 1,\n",
    "    'bands': ['b5', 'b4', 'b3']\n",
    "}\n",
    "Map.addLayer(mosaico, landsat_vis, \"Landsat-8-2018\")\n",
    "Map"
   ]
  },
  {
   "cell_type": "code",
   "execution_count": 4,
   "id": "2f97f3a9",
   "metadata": {},
   "outputs": [
    {
     "data": {
      "text/plain": [
       "['b1', 'b2', 'b3', 'b4', 'b5', 'b6', 'b7', 'b8', 'b9']"
      ]
     },
     "execution_count": 4,
     "metadata": {},
     "output_type": "execute_result"
    }
   ],
   "source": [
    "mosaico.bandNames().getInfo()"
   ]
  },
  {
   "cell_type": "code",
   "execution_count": 5,
   "id": "flush-raleigh",
   "metadata": {},
   "outputs": [],
   "source": [
    "work_dir = os.path.expanduser('../Data/shapes/')\n",
    "achaparrado_shp = os.path.join(work_dir, 'achaparrado_2018_2210_grande.shp')\n",
    "agricolas_shp = os.path.join(work_dir, 'agricolas_2018_2610_grande.shp')\n",
    "agua_shp = os.path.join(work_dir, 'agua_2018_0310_grande.shp')\n",
    "arenalroca_shp = os.path.join(work_dir, 'arenal_roca_2018_0310_grande.shp')\n",
    "bosquedegradado_shp = os.path.join(work_dir, 'bosques_degradados_2018_22112018.shp')\n",
    "cuncuna_shp = os.path.join(work_dir, 'cuncunas_2018_2210_grande.shp')\n",
    "estepa_shp = os.path.join(work_dir, 'estepa_2018_0310_grande.shp')\n",
    "humedal_shp = os.path.join(work_dir, 'humedal_agua_2018_0310_grande.shp')\n",
    "mallin_shp = os.path.join(work_dir, 'mallin_2018_0510_grande.shp')\n",
    "matorralabierto_shp = os.path.join(work_dir, 'matorrales_abiertos_2018_22102018.shp')\n",
    "matorraldenso_shp = os.path.join(work_dir, 'matorrales_densos_2018_22102018.shp')\n",
    "plantacion1_shp = os.path.join(work_dir, 'plantaciones_2018_0310_grande.shp')\n",
    "plantacion2_shp = os.path.join(work_dir, 'plantaciones_2018_23112018_grande.shp')\n",
    "plantacion3_shp = os.path.join(work_dir, 'plantaciones_2018_26112018_grande.shp')\n",
    "pradera_shp = os.path.join(work_dir, 'praderas_2018_0310_grande.shp')\n",
    "primario_shp = os.path.join(work_dir, 'primario_2018_0310_grande.shp')\n",
    "secundario_shp = os.path.join(work_dir, 'secundario_2018_0310_grande.shp')\n",
    "sombra_shp = os.path.join(work_dir, 'sombras_topograficas_2018_0310_grande.shp')\n",
    "suelo_shp = os.path.join(work_dir, 'suelo_desnudo_agricola_2018_0310_grande.shp')\n",
    "merged_shp = os.path.join(work_dir, 'roi_merged.shp')"
   ]
  },
  {
   "cell_type": "code",
   "execution_count": 6,
   "id": "340bcd66",
   "metadata": {},
   "outputs": [],
   "source": [
    "# achaparrado = geemap.shp_to_ee(achaparrado_shp)\n",
    "# Map.addLayer(achaparrado, {}, 'achaparrado')\n",
    "\n",
    "# agricolas = geemap.shp_to_ee(agricolas_shp)\n",
    "# Map.addLayer(agricolas, {}, 'agricolas')\n",
    "\n",
    "# agua = geemap.shp_to_ee(agua_shp)\n",
    "# Map.addLayer(agua, {}, 'agua')\n",
    "\n",
    "# arenalroca = geemap.shp_to_ee(arenalroca_shp)\n",
    "# Map.addLayer(arenalroca, {}, 'arenal roca')\n",
    "\n",
    "# bosquedegradado = geemap.shp_to_ee(bosquedegradado_shp)\n",
    "# Map.addLayer(bosquedegradado, {}, 'bosque degradado')\n",
    "\n",
    "# cuncuna = geemap.shp_to_ee(cuncuna_shp)\n",
    "# Map.addLayer(cuncuna, {}, 'cuncuna')\n",
    "\n",
    "# estepa = geemap.shp_to_ee(estepa_shp)\n",
    "# Map.addLayer(estepa, {}, 'estepa')\n",
    "\n",
    "# humedal = geemap.shp_to_ee(humedal_shp)\n",
    "# Map.addLayer(humedal, {}, 'humedal')\n",
    "\n",
    "# mallin = geemap.shp_to_ee(mallin_shp)\n",
    "# Map.addLayer(mallin, {}, 'mallin')\n",
    "\n",
    "# matorralabierto = geemap.shp_to_ee(matorralabierto_shp)\n",
    "# Map.addLayer(matorralabierto, {}, 'matorral abierto')\n",
    "\n",
    "# matdenso = geemap.shp_to_ee(matorraldenso_shp)\n",
    "# Map.addLayer(matdenso, {}, 'matorral denso')\n",
    "\n",
    "# plantacion1 = geemap.shp_to_ee(plantacion1_shp)\n",
    "# Map.addLayer(plantacion1, {}, 'plantacion1')\n",
    "# plantacion2 = geemap.shp_to_ee(plantacion2_shp)\n",
    "# Map.addLayer(plantacion2, {}, 'plantacion')\n",
    "# plantacion3 = geemap.shp_to_ee(plantacion3_shp)\n",
    "# Map.addLayer(plantacion3, {}, 'plantacion3')\n",
    "\n",
    "# pradera = geemap.shp_to_ee(pradera_shp)\n",
    "# Map.addLayer(pradera, {}, 'pradera')\n",
    "\n",
    "# primario = geemap.shp_to_ee(primario_shp)\n",
    "# Map.addLayer(primario, {}, 'primario')\n",
    "\n",
    "# secundario = geemap.shp_to_ee(secundario_shp)\n",
    "# Map.addLayer(secundario, {}, 'secundario')\n",
    "\n",
    "# sombra = geemap.shp_to_ee(sombra_shp)\n",
    "# Map.addLayer(sombra, {}, 'sombra')\n",
    "\n",
    "# suelo = geemap.shp_to_ee(suelo_shp)\n",
    "# Map.addLayer(suelo, {}, 'suelo')\n",
    "\n",
    "merged =geemap.shp_to_ee(merged_shp)\n",
    "Map.addLayer(merged, {}, 'Áreas de entrenamiento')\n"
   ]
  },
  {
   "cell_type": "code",
   "execution_count": null,
   "id": "8fbc884e",
   "metadata": {},
   "outputs": [],
   "source": [
    "# poligono = ee.FeatureCollection([\n",
    "#     ee.Feature(achaparrado),\n",
    "#     ee.Feature(agricolas),\n",
    "#     ee.Feature(agua),\n",
    "#     ee.Feature(arenalroca),\n",
    "#     ee.Feature(bosquedegradado),\n",
    "#     ee.Feature(cuncuna),\n",
    "#     ee.Feature(estepa),\n",
    "#     ee.Feature(humedal),\n",
    "#     ee.Feature(mallin),\n",
    "#     ee.Feature(matorralabierto),\n",
    "#     ee.Feature(matdenso),\n",
    "#     ee.Feature(plantacion1),\n",
    "#     ee.Feature(plantacion2),\n",
    "#     ee.Feature(plantacion3),\n",
    "#     ee.Feature(pradera),\n",
    "#     ee.Feature(primario),\n",
    "#     ee.Feature(secundario),\n",
    "#     ee.Feature(sombra),\n",
    "#     ee.Feature(suelo),    \n",
    "# ])\n"
   ]
  },
  {
   "cell_type": "code",
   "execution_count": null,
   "id": "696742ae",
   "metadata": {},
   "outputs": [],
   "source": [
    "merged_shp"
   ]
  },
  {
   "cell_type": "code",
   "execution_count": 7,
   "id": "76339414",
   "metadata": {
    "scrolled": true
   },
   "outputs": [],
   "source": [
    "dataset = mosaico.sampleRegions(**{\n",
    "    'collection': merged,\n",
    "    'properties': ['ID'],\n",
    "    'scale' : 30 ,\n",
    "})"
   ]
  },
  {
   "cell_type": "code",
   "execution_count": 8,
   "id": "ea580180",
   "metadata": {},
   "outputs": [
    {
     "data": {
      "text/plain": [
       "14254"
      ]
     },
     "execution_count": 8,
     "metadata": {},
     "output_type": "execute_result"
    }
   ],
   "source": [
    "dataset.size().getInfo()"
   ]
  },
  {
   "cell_type": "code",
   "execution_count": 9,
   "id": "42a44c4f",
   "metadata": {},
   "outputs": [
    {
     "name": "stdout",
     "output_type": "stream",
     "text": [
      "{'type': 'Feature', 'geometry': None, 'id': '0_0', 'properties': {'ID': 1, 'b1': 0.026168961077928543, 'b2': 0.04253531992435455, 'b3': 0.03470490872859955, 'b4': 0.33766427636146545, 'b5': 0.1495322287082672, 'b6': 0.06873124837875366, 'b7': 0.8135994672775269, 'b8': 0.7762474417686462, 'b9': 0.5209251642227173}}\n"
     ]
    }
   ],
   "source": [
    "print(dataset.first().getInfo())"
   ]
  },
  {
   "cell_type": "code",
   "execution_count": 10,
   "id": "another-dubai",
   "metadata": {},
   "outputs": [],
   "source": [
    "# Guardamos las bandas\n",
    "bands = ['b1', 'b2', 'b3', 'b4', 'b5', 'b6', 'b7', 'b8', 'b9']\n",
    "\n",
    "# Esta propiedad guarda las clases de landcover\n",
    "label = 'ID'\n",
    "\n",
    "# Overlay the points on the imagery to get training.\n",
    "# sample = mosaico.select(bands).sampleRegions(**{\n",
    "#   'collection': dataset,\n",
    "#   'properties': ['RF'],\n",
    "#   'scale': 30\n",
    "# })\n",
    "\n",
    "# Adds a column of deterministic pseudorandom numbers. \n",
    "sample = dataset.randomColumn()\n",
    "\n",
    "split = 0.7 \n",
    "\n",
    "training = sample.filter(ee.Filter.lt('random', split))\n",
    "validation = sample.filter(ee.Filter.gte('random', split))"
   ]
  },
  {
   "cell_type": "code",
   "execution_count": 11,
   "id": "13b91725",
   "metadata": {},
   "outputs": [
    {
     "name": "stdout",
     "output_type": "stream",
     "text": [
      "{'type': 'Feature', 'geometry': None, 'id': '0_1', 'properties': {'ID': 1, 'b1': 0.02466532774269581, 'b2': 0.03902462124824524, 'b3': 0.03005797602236271, 'b4': 0.31321027874946594, 'b5': 0.13090473413467407, 'b6': 0.061290204524993896, 'b7': 0.8248717784881592, 'b8': 0.7784170508384705, 'b9': 0.5036694407463074, 'random': 0.16340030157546792}}\n"
     ]
    }
   ],
   "source": [
    "print(training.first().getInfo())"
   ]
  },
  {
   "cell_type": "code",
   "execution_count": 12,
   "id": "eb79f472",
   "metadata": {},
   "outputs": [
    {
     "name": "stdout",
     "output_type": "stream",
     "text": [
      "{'type': 'Feature', 'geometry': None, 'id': '0_0', 'properties': {'ID': 1, 'b1': 0.026168961077928543, 'b2': 0.04253531992435455, 'b3': 0.03470490872859955, 'b4': 0.33766427636146545, 'b5': 0.1495322287082672, 'b6': 0.06873124837875366, 'b7': 0.8135994672775269, 'b8': 0.7762474417686462, 'b9': 0.5209251642227173, 'random': 0.9956806624347441}}\n"
     ]
    }
   ],
   "source": [
    "print(validation.first().getInfo())"
   ]
  },
  {
   "cell_type": "code",
   "execution_count": 13,
   "id": "ba74718f",
   "metadata": {},
   "outputs": [],
   "source": [
    "classifier = ee.Classifier.smileRandomForest(10).train(training, label, bands)"
   ]
  },
  {
   "cell_type": "code",
   "execution_count": 14,
   "id": "f3581c1a",
   "metadata": {},
   "outputs": [
    {
     "data": {
      "application/vnd.jupyter.widget-view+json": {
       "model_id": "0ee2ad483675431aa0ad02b9b79ad2bf",
       "version_major": 2,
       "version_minor": 0
      },
      "text/plain": [
       "Map(bottom=21335.0, center=[-45.4215881232909, -72.61962890625001], controls=(WidgetControl(options=['position…"
      ]
     },
     "metadata": {},
     "output_type": "display_data"
    }
   ],
   "source": [
    "# Clasificando con las mismas bandas de entrenamiento\n",
    "result = mosaico.select(bands).classify(classifier)\n",
    "\n",
    "# # Display the clusters with random colors.\n",
    "Map.addLayer(result.randomVisualizer(), {}, 'classificado')\n",
    "Map"
   ]
  },
  {
   "cell_type": "code",
   "execution_count": 15,
   "id": "62de3d63",
   "metadata": {},
   "outputs": [
    {
     "data": {
      "text/plain": [
       "{'type': 'Image',\n",
       " 'bands': [{'id': 'classification',\n",
       "   'data_type': {'type': 'PixelType',\n",
       "    'precision': 'int',\n",
       "    'min': -2147483648,\n",
       "    'max': 2147483647},\n",
       "   'dimensions': [6083, 9750],\n",
       "   'crs': 'EPSG:32719',\n",
       "   'crs_transform': [30, 0, 179085, 0, -30, 5153095]}],\n",
       " 'properties': {'system:footprint': {'type': 'LinearRing',\n",
       "   'coordinates': [[-70.71978119886894, -43.7621302946721],\n",
       "    [-70.71984230426219, -43.762120959847216],\n",
       "    [-72.98275024455971, -43.70561719895318],\n",
       "    [-72.98292936081644, -43.70572079387638],\n",
       "    [-72.98313712829581, -43.705812701067146],\n",
       "    [-73.02744506941205, -44.362573403829224],\n",
       "    [-73.07328396187123, -45.01916085040947],\n",
       "    [-73.12072282029395, -45.67563442548405],\n",
       "    [-73.16983051350653, -46.331992631080205],\n",
       "    [-73.16968129990005, -46.33212249547371],\n",
       "    [-73.1695568677538, -46.33226430394552],\n",
       "    [-73.16949325899127, -46.33227507995767],\n",
       "    [-70.80072781794739, -46.3941742696168],\n",
       "    [-70.80054376625334, -46.39406743407541],\n",
       "    [-70.8003295159667, -46.39397167944718],\n",
       "    [-70.77906530990533, -45.73615680982198],\n",
       "    [-70.75852767129469, -45.078319626052654],\n",
       "    [-70.73868453021892, -44.420399274201614],\n",
       "    [-70.71950769735695, -43.76239603120268],\n",
       "    [-70.71965591186232, -43.7622693621061],\n",
       "    [-70.71978119886894, -43.7621302946721]]}}}"
      ]
     },
     "execution_count": 15,
     "metadata": {},
     "output_type": "execute_result"
    }
   ],
   "source": [
    "result.getInfo()"
   ]
  },
  {
   "cell_type": "code",
   "execution_count": 26,
   "id": "7d7d6fd5",
   "metadata": {},
   "outputs": [],
   "source": [
    "class_values = result.get('bands').getInfo()\n",
    "class_values"
   ]
  },
  {
   "cell_type": "code",
   "execution_count": 21,
   "id": "bf9f0f78",
   "metadata": {},
   "outputs": [],
   "source": [
    "class_palette = ['476ba1',\n",
    " 'd1defa',\n",
    " 'decaca',\n",
    " 'd99482',\n",
    " 'ee0000',\n",
    " 'ab0000',\n",
    " 'b3aea3',\n",
    " '68ab63',\n",
    " '1c6330',\n",
    " 'b5ca8f',\n",
    " 'a68c30',\n",
    " 'ccba7d',\n",
    " 'e3e3c2',\n",
    " 'caca78',\n",
    " '99c247',\n",
    " '78ae94',\n",
    " 'dcd93d',\n",
    " 'ab7028']"
   ]
  },
  {
   "cell_type": "code",
   "execution_count": 22,
   "id": "87428b76",
   "metadata": {},
   "outputs": [],
   "source": [
    "landcover = result.set('classification_class_palette', class_palette)"
   ]
  },
  {
   "cell_type": "code",
   "execution_count": 23,
   "id": "22f87ea4",
   "metadata": {},
   "outputs": [
    {
     "ename": "EEException",
     "evalue": "Image.visualize: Expected 18 color values. Got 0.",
     "output_type": "error",
     "traceback": [
      "\u001b[0;31m---------------------------------------------------------------------------\u001b[0m",
      "\u001b[0;31mHttpError\u001b[0m                                 Traceback (most recent call last)",
      "\u001b[0;32m~/anaconda3/envs/gee/lib/python3.9/site-packages/ee/data.py\u001b[0m in \u001b[0;36m_execute_cloud_call\u001b[0;34m(call, num_retries)\u001b[0m\n\u001b[1;32m    333\u001b[0m   \u001b[0;32mtry\u001b[0m\u001b[0;34m:\u001b[0m\u001b[0;34m\u001b[0m\u001b[0;34m\u001b[0m\u001b[0m\n\u001b[0;32m--> 334\u001b[0;31m     \u001b[0;32mreturn\u001b[0m \u001b[0mcall\u001b[0m\u001b[0;34m.\u001b[0m\u001b[0mexecute\u001b[0m\u001b[0;34m(\u001b[0m\u001b[0mnum_retries\u001b[0m\u001b[0;34m=\u001b[0m\u001b[0mnum_retries\u001b[0m\u001b[0;34m)\u001b[0m\u001b[0;34m\u001b[0m\u001b[0;34m\u001b[0m\u001b[0m\n\u001b[0m\u001b[1;32m    335\u001b[0m   \u001b[0;32mexcept\u001b[0m \u001b[0mgoogleapiclient\u001b[0m\u001b[0;34m.\u001b[0m\u001b[0merrors\u001b[0m\u001b[0;34m.\u001b[0m\u001b[0mHttpError\u001b[0m \u001b[0;32mas\u001b[0m \u001b[0me\u001b[0m\u001b[0;34m:\u001b[0m\u001b[0;34m\u001b[0m\u001b[0;34m\u001b[0m\u001b[0m\n",
      "\u001b[0;32m~/anaconda3/envs/gee/lib/python3.9/site-packages/googleapiclient/_helpers.py\u001b[0m in \u001b[0;36mpositional_wrapper\u001b[0;34m(*args, **kwargs)\u001b[0m\n\u001b[1;32m    133\u001b[0m                     \u001b[0mlogger\u001b[0m\u001b[0;34m.\u001b[0m\u001b[0mwarning\u001b[0m\u001b[0;34m(\u001b[0m\u001b[0mmessage\u001b[0m\u001b[0;34m)\u001b[0m\u001b[0;34m\u001b[0m\u001b[0;34m\u001b[0m\u001b[0m\n\u001b[0;32m--> 134\u001b[0;31m             \u001b[0;32mreturn\u001b[0m \u001b[0mwrapped\u001b[0m\u001b[0;34m(\u001b[0m\u001b[0;34m*\u001b[0m\u001b[0margs\u001b[0m\u001b[0;34m,\u001b[0m \u001b[0;34m**\u001b[0m\u001b[0mkwargs\u001b[0m\u001b[0;34m)\u001b[0m\u001b[0;34m\u001b[0m\u001b[0;34m\u001b[0m\u001b[0m\n\u001b[0m\u001b[1;32m    135\u001b[0m \u001b[0;34m\u001b[0m\u001b[0m\n",
      "\u001b[0;32m~/anaconda3/envs/gee/lib/python3.9/site-packages/googleapiclient/http.py\u001b[0m in \u001b[0;36mexecute\u001b[0;34m(self, http, num_retries)\u001b[0m\n\u001b[1;32m    914\u001b[0m         \u001b[0;32mif\u001b[0m \u001b[0mresp\u001b[0m\u001b[0;34m.\u001b[0m\u001b[0mstatus\u001b[0m \u001b[0;34m>=\u001b[0m \u001b[0;36m300\u001b[0m\u001b[0;34m:\u001b[0m\u001b[0;34m\u001b[0m\u001b[0;34m\u001b[0m\u001b[0m\n\u001b[0;32m--> 915\u001b[0;31m             \u001b[0;32mraise\u001b[0m \u001b[0mHttpError\u001b[0m\u001b[0;34m(\u001b[0m\u001b[0mresp\u001b[0m\u001b[0;34m,\u001b[0m \u001b[0mcontent\u001b[0m\u001b[0;34m,\u001b[0m \u001b[0muri\u001b[0m\u001b[0;34m=\u001b[0m\u001b[0mself\u001b[0m\u001b[0;34m.\u001b[0m\u001b[0muri\u001b[0m\u001b[0;34m)\u001b[0m\u001b[0;34m\u001b[0m\u001b[0;34m\u001b[0m\u001b[0m\n\u001b[0m\u001b[1;32m    916\u001b[0m         \u001b[0;32mreturn\u001b[0m \u001b[0mself\u001b[0m\u001b[0;34m.\u001b[0m\u001b[0mpostproc\u001b[0m\u001b[0;34m(\u001b[0m\u001b[0mresp\u001b[0m\u001b[0;34m,\u001b[0m \u001b[0mcontent\u001b[0m\u001b[0;34m)\u001b[0m\u001b[0;34m\u001b[0m\u001b[0;34m\u001b[0m\u001b[0m\n",
      "\u001b[0;31mHttpError\u001b[0m: <HttpError 400 when requesting https://earthengine.googleapis.com/v1alpha/projects/earthengine-legacy/maps?fields=name&alt=json returned \"Image.visualize: Expected 18 color values. Got 0.\". Details: \"Image.visualize: Expected 18 color values. Got 0.\">",
      "\nDuring handling of the above exception, another exception occurred:\n",
      "\u001b[0;31mEEException\u001b[0m                               Traceback (most recent call last)",
      "\u001b[0;32m<ipython-input-23-f3fa73df3727>\u001b[0m in \u001b[0;36m<module>\u001b[0;34m\u001b[0m\n\u001b[0;32m----> 1\u001b[0;31m \u001b[0mMap\u001b[0m\u001b[0;34m.\u001b[0m\u001b[0maddLayer\u001b[0m\u001b[0;34m(\u001b[0m\u001b[0mlandcover\u001b[0m\u001b[0;34m,\u001b[0m \u001b[0;34m{\u001b[0m\u001b[0;34m}\u001b[0m\u001b[0;34m,\u001b[0m \u001b[0;34m'Land cover'\u001b[0m\u001b[0;34m)\u001b[0m\u001b[0;34m\u001b[0m\u001b[0;34m\u001b[0m\u001b[0m\n\u001b[0m\u001b[1;32m      2\u001b[0m \u001b[0mMap\u001b[0m\u001b[0;34m\u001b[0m\u001b[0;34m\u001b[0m\u001b[0m\n",
      "\u001b[0;32m~/anaconda3/envs/gee/lib/python3.9/site-packages/geemap/geemap.py\u001b[0m in \u001b[0;36madd_ee_layer\u001b[0;34m(self, ee_object, vis_params, name, shown, opacity)\u001b[0m\n\u001b[1;32m   1329\u001b[0m                 \u001b[0;32mraise\u001b[0m \u001b[0mException\u001b[0m\u001b[0;34m(\u001b[0m\u001b[0me\u001b[0m\u001b[0;34m)\u001b[0m\u001b[0;34m\u001b[0m\u001b[0;34m\u001b[0m\u001b[0m\n\u001b[1;32m   1330\u001b[0m \u001b[0;34m\u001b[0m\u001b[0m\n\u001b[0;32m-> 1331\u001b[0;31m         \u001b[0mmap_id_dict\u001b[0m \u001b[0;34m=\u001b[0m \u001b[0mee\u001b[0m\u001b[0;34m.\u001b[0m\u001b[0mImage\u001b[0m\u001b[0;34m(\u001b[0m\u001b[0mimage\u001b[0m\u001b[0;34m)\u001b[0m\u001b[0;34m.\u001b[0m\u001b[0mgetMapId\u001b[0m\u001b[0;34m(\u001b[0m\u001b[0mvis_params\u001b[0m\u001b[0;34m)\u001b[0m\u001b[0;34m\u001b[0m\u001b[0;34m\u001b[0m\u001b[0m\n\u001b[0m\u001b[1;32m   1332\u001b[0m         tile_layer = TileLayer(\n\u001b[1;32m   1333\u001b[0m             \u001b[0murl\u001b[0m\u001b[0;34m=\u001b[0m\u001b[0mmap_id_dict\u001b[0m\u001b[0;34m[\u001b[0m\u001b[0;34m\"tile_fetcher\"\u001b[0m\u001b[0;34m]\u001b[0m\u001b[0;34m.\u001b[0m\u001b[0murl_format\u001b[0m\u001b[0;34m,\u001b[0m\u001b[0;34m\u001b[0m\u001b[0;34m\u001b[0m\u001b[0m\n",
      "\u001b[0;32m~/anaconda3/envs/gee/lib/python3.9/site-packages/ee/image.py\u001b[0m in \u001b[0;36mgetMapId\u001b[0;34m(self, vis_params)\u001b[0m\n\u001b[1;32m    129\u001b[0m     \u001b[0mvis_image\u001b[0m\u001b[0;34m,\u001b[0m \u001b[0mrequest\u001b[0m \u001b[0;34m=\u001b[0m \u001b[0mself\u001b[0m\u001b[0;34m.\u001b[0m\u001b[0m_apply_visualization\u001b[0m\u001b[0;34m(\u001b[0m\u001b[0mvis_params\u001b[0m\u001b[0;34m)\u001b[0m\u001b[0;34m\u001b[0m\u001b[0;34m\u001b[0m\u001b[0m\n\u001b[1;32m    130\u001b[0m     \u001b[0mrequest\u001b[0m\u001b[0;34m[\u001b[0m\u001b[0;34m'image'\u001b[0m\u001b[0;34m]\u001b[0m \u001b[0;34m=\u001b[0m \u001b[0mvis_image\u001b[0m\u001b[0;34m\u001b[0m\u001b[0;34m\u001b[0m\u001b[0m\n\u001b[0;32m--> 131\u001b[0;31m     \u001b[0mresponse\u001b[0m \u001b[0;34m=\u001b[0m \u001b[0mdata\u001b[0m\u001b[0;34m.\u001b[0m\u001b[0mgetMapId\u001b[0m\u001b[0;34m(\u001b[0m\u001b[0mrequest\u001b[0m\u001b[0;34m)\u001b[0m\u001b[0;34m\u001b[0m\u001b[0;34m\u001b[0m\u001b[0m\n\u001b[0m\u001b[1;32m    132\u001b[0m     \u001b[0mresponse\u001b[0m\u001b[0;34m[\u001b[0m\u001b[0;34m'image'\u001b[0m\u001b[0;34m]\u001b[0m \u001b[0;34m=\u001b[0m \u001b[0mself\u001b[0m\u001b[0;34m\u001b[0m\u001b[0;34m\u001b[0m\u001b[0m\n\u001b[1;32m    133\u001b[0m     \u001b[0;32mreturn\u001b[0m \u001b[0mresponse\u001b[0m\u001b[0;34m\u001b[0m\u001b[0;34m\u001b[0m\u001b[0m\n",
      "\u001b[0;32m~/anaconda3/envs/gee/lib/python3.9/site-packages/ee/data.py\u001b[0m in \u001b[0;36mgetMapId\u001b[0;34m(params)\u001b[0m\n\u001b[1;32m    573\u001b[0m   \u001b[0;31m# Make it return only the name field, as otherwise it echoes the entire\u001b[0m\u001b[0;34m\u001b[0m\u001b[0;34m\u001b[0m\u001b[0;34m\u001b[0m\u001b[0m\n\u001b[1;32m    574\u001b[0m   \u001b[0;31m# request, which might be large.\u001b[0m\u001b[0;34m\u001b[0m\u001b[0;34m\u001b[0m\u001b[0;34m\u001b[0m\u001b[0m\n\u001b[0;32m--> 575\u001b[0;31m   result = _execute_cloud_call(\n\u001b[0m\u001b[1;32m    576\u001b[0m       _get_cloud_api_resource().projects().maps().create(\n\u001b[1;32m    577\u001b[0m           parent=_get_projects_path(), fields='name', body=request))\n",
      "\u001b[0;32m~/anaconda3/envs/gee/lib/python3.9/site-packages/ee/data.py\u001b[0m in \u001b[0;36m_execute_cloud_call\u001b[0;34m(call, num_retries)\u001b[0m\n\u001b[1;32m    334\u001b[0m     \u001b[0;32mreturn\u001b[0m \u001b[0mcall\u001b[0m\u001b[0;34m.\u001b[0m\u001b[0mexecute\u001b[0m\u001b[0;34m(\u001b[0m\u001b[0mnum_retries\u001b[0m\u001b[0;34m=\u001b[0m\u001b[0mnum_retries\u001b[0m\u001b[0;34m)\u001b[0m\u001b[0;34m\u001b[0m\u001b[0;34m\u001b[0m\u001b[0m\n\u001b[1;32m    335\u001b[0m   \u001b[0;32mexcept\u001b[0m \u001b[0mgoogleapiclient\u001b[0m\u001b[0;34m.\u001b[0m\u001b[0merrors\u001b[0m\u001b[0;34m.\u001b[0m\u001b[0mHttpError\u001b[0m \u001b[0;32mas\u001b[0m \u001b[0me\u001b[0m\u001b[0;34m:\u001b[0m\u001b[0;34m\u001b[0m\u001b[0;34m\u001b[0m\u001b[0m\n\u001b[0;32m--> 336\u001b[0;31m     \u001b[0;32mraise\u001b[0m \u001b[0m_translate_cloud_exception\u001b[0m\u001b[0;34m(\u001b[0m\u001b[0me\u001b[0m\u001b[0;34m)\u001b[0m\u001b[0;34m\u001b[0m\u001b[0;34m\u001b[0m\u001b[0m\n\u001b[0m\u001b[1;32m    337\u001b[0m \u001b[0;34m\u001b[0m\u001b[0m\n\u001b[1;32m    338\u001b[0m \u001b[0;34m\u001b[0m\u001b[0m\n",
      "\u001b[0;31mEEException\u001b[0m: Image.visualize: Expected 18 color values. Got 0."
     ]
    }
   ],
   "source": [
    "Map.addLayer(landcover, {}, 'Land cover')\n",
    "Map"
   ]
  },
  {
   "cell_type": "code",
   "execution_count": 27,
   "id": "299a227d",
   "metadata": {},
   "outputs": [],
   "source": [
    "train_accuracy = classifier.confusionMatrix()"
   ]
  },
  {
   "cell_type": "code",
   "execution_count": 28,
   "id": "611c9899",
   "metadata": {},
   "outputs": [
    {
     "data": {
      "text/plain": [
       "[[0, 0, 0, 0, 0, 0, 0, 0, 0, 0, 0, 0, 0, 0, 0, 0, 0, 0, 0],\n",
       " [0, 419, 0, 0, 0, 0, 0, 0, 0, 0, 0, 0, 0, 0, 0, 0, 1, 0, 0],\n",
       " [0, 0, 553, 0, 0, 0, 0, 0, 0, 0, 0, 0, 0, 0, 0, 0, 0, 0, 1],\n",
       " [0, 0, 0, 2137, 0, 0, 0, 0, 0, 0, 0, 0, 0, 0, 0, 0, 0, 0, 0],\n",
       " [0, 0, 0, 0, 1121, 0, 1, 0, 0, 0, 0, 0, 0, 0, 0, 0, 0, 0, 0],\n",
       " [0, 0, 0, 0, 0, 69, 1, 0, 0, 0, 0, 2, 0, 0, 0, 0, 0, 0, 0],\n",
       " [0, 0, 0, 0, 0, 0, 651, 0, 0, 0, 0, 0, 0, 0, 0, 0, 0, 0, 0],\n",
       " [0, 0, 0, 0, 2, 0, 0, 420, 0, 0, 0, 0, 0, 0, 0, 0, 0, 0, 0],\n",
       " [0, 0, 0, 4, 0, 0, 0, 0, 34, 0, 0, 0, 0, 0, 0, 0, 0, 0, 0],\n",
       " [0, 0, 0, 0, 0, 0, 0, 0, 0, 61, 0, 0, 0, 0, 0, 0, 0, 0, 0],\n",
       " [0, 0, 0, 0, 0, 0, 0, 0, 0, 0, 153, 0, 0, 0, 0, 0, 0, 0, 0],\n",
       " [0, 0, 0, 0, 0, 1, 3, 0, 0, 0, 1, 109, 0, 0, 0, 0, 0, 0, 0],\n",
       " [0, 0, 0, 0, 0, 0, 0, 0, 0, 0, 0, 2, 2137, 0, 0, 0, 0, 0, 0],\n",
       " [0, 0, 1, 0, 0, 0, 0, 0, 0, 0, 0, 0, 0, 188, 0, 0, 0, 0, 0],\n",
       " [0, 1, 0, 0, 0, 0, 0, 0, 0, 0, 0, 0, 2, 0, 544, 0, 0, 0, 0],\n",
       " [0, 0, 0, 0, 0, 0, 0, 0, 0, 0, 0, 0, 0, 0, 0, 149, 0, 0, 0],\n",
       " [0, 7, 0, 0, 0, 0, 0, 0, 0, 0, 0, 0, 0, 0, 0, 0, 473, 0, 0],\n",
       " [0, 0, 0, 0, 0, 0, 0, 0, 0, 0, 0, 0, 0, 0, 0, 0, 0, 106, 0],\n",
       " [0, 0, 0, 0, 0, 0, 0, 0, 0, 1, 0, 0, 0, 0, 0, 0, 0, 0, 567]]"
      ]
     },
     "execution_count": 28,
     "metadata": {},
     "output_type": "execute_result"
    }
   ],
   "source": [
    "train_accuracy.getInfo()"
   ]
  },
  {
   "cell_type": "code",
   "execution_count": 29,
   "id": "c1693f22",
   "metadata": {},
   "outputs": [
    {
     "data": {
      "text/plain": [
       "0.9968756299133239"
      ]
     },
     "execution_count": 29,
     "metadata": {},
     "output_type": "execute_result"
    }
   ],
   "source": [
    "train_accuracy.accuracy().getInfo()"
   ]
  },
  {
   "cell_type": "code",
   "execution_count": 30,
   "id": "410b951b",
   "metadata": {},
   "outputs": [
    {
     "data": {
      "text/plain": [
       "0.9964227017790738"
      ]
     },
     "execution_count": 30,
     "metadata": {},
     "output_type": "execute_result"
    }
   ],
   "source": [
    "train_accuracy.kappa().getInfo()"
   ]
  },
  {
   "cell_type": "code",
   "execution_count": 31,
   "id": "2b29f647",
   "metadata": {},
   "outputs": [
    {
     "data": {
      "text/plain": [
       "[[0],\n",
       " [0.9976190476190476],\n",
       " [0.9981949458483754],\n",
       " [1],\n",
       " [0.9991087344028521],\n",
       " [0.9583333333333334],\n",
       " [1],\n",
       " [0.995260663507109],\n",
       " [0.8947368421052632],\n",
       " [1],\n",
       " [1],\n",
       " [0.956140350877193],\n",
       " [0.9990649836372136],\n",
       " [0.9947089947089947],\n",
       " [0.9945155393053017],\n",
       " [1],\n",
       " [0.9854166666666667],\n",
       " [1],\n",
       " [0.9982394366197183]]"
      ]
     },
     "execution_count": 31,
     "metadata": {},
     "output_type": "execute_result"
    }
   ],
   "source": [
    "train_accuracy.producersAccuracy().getInfo()"
   ]
  },
  {
   "cell_type": "code",
   "execution_count": null,
   "id": "32bbd6be",
   "metadata": {},
   "outputs": [],
   "source": [
    "train_accuracy.consumersAccuracy().getInfo()"
   ]
  },
  {
   "cell_type": "code",
   "execution_count": null,
   "id": "ec4e2627",
   "metadata": {},
   "outputs": [],
   "source": []
  },
  {
   "cell_type": "code",
   "execution_count": null,
   "id": "511f36f3",
   "metadata": {},
   "outputs": [],
   "source": []
  },
  {
   "cell_type": "code",
   "execution_count": null,
   "id": "733c4428",
   "metadata": {},
   "outputs": [],
   "source": []
  }
 ],
 "metadata": {
  "kernelspec": {
   "display_name": "Python 3",
   "language": "python",
   "name": "python3"
  },
  "language_info": {
   "codemirror_mode": {
    "name": "ipython",
    "version": 3
   },
   "file_extension": ".py",
   "mimetype": "text/x-python",
   "name": "python",
   "nbconvert_exporter": "python",
   "pygments_lexer": "ipython3",
   "version": "3.9.2"
  },
  "toc": {
   "base_numbering": 1,
   "nav_menu": {},
   "number_sections": true,
   "sideBar": true,
   "skip_h1_title": false,
   "title_cell": "Table of Contents",
   "title_sidebar": "Contents",
   "toc_cell": false,
   "toc_position": {},
   "toc_section_display": true,
   "toc_window_display": false
  },
  "varInspector": {
   "cols": {
    "lenName": 16,
    "lenType": 16,
    "lenVar": 40
   },
   "kernels_config": {
    "python": {
     "delete_cmd_postfix": "",
     "delete_cmd_prefix": "del ",
     "library": "var_list.py",
     "varRefreshCmd": "print(var_dic_list())"
    },
    "r": {
     "delete_cmd_postfix": ") ",
     "delete_cmd_prefix": "rm(",
     "library": "var_list.r",
     "varRefreshCmd": "cat(var_dic_list()) "
    }
   },
   "types_to_exclude": [
    "module",
    "function",
    "builtin_function_or_method",
    "instance",
    "_Feature"
   ],
   "window_display": false
  }
 },
 "nbformat": 4,
 "nbformat_minor": 5
}
