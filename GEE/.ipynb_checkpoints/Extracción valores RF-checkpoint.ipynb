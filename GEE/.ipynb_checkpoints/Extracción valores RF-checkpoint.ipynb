{
 "cells": [
  {
   "cell_type": "code",
   "execution_count": 1,
   "id": "joined-delicious",
   "metadata": {},
   "outputs": [],
   "source": [
    "import ee\n",
    "import geemap\n",
    "import os\n"
   ]
  },
  {
   "cell_type": "code",
   "execution_count": 2,
   "id": "26676695",
   "metadata": {},
   "outputs": [],
   "source": [
    "# geemap.update_package()"
   ]
  },
  {
   "cell_type": "code",
   "execution_count": 3,
   "id": "departmental-bridal",
   "metadata": {},
   "outputs": [],
   "source": [
    "Map = geemap.Map()\n"
   ]
  },
  {
   "cell_type": "code",
   "execution_count": 4,
   "id": "adolescent-tsunami",
   "metadata": {},
   "outputs": [
    {
     "data": {
      "application/vnd.jupyter.widget-view+json": {
       "model_id": "1a5eb25352e042f6a42dfae1611eac10",
       "version_major": 2,
       "version_minor": 0
      },
      "text/plain": [
       "Map(center=[40, -100], controls=(WidgetControl(options=['position'], widget=HBox(children=(ToggleButton(value=…"
      ]
     },
     "metadata": {},
     "output_type": "display_data"
    }
   ],
   "source": [
    "nitrogeno = ee.Image(\"projects/soilgrids-isric/nitrogen_mean\")\n",
    "Map.addLayer(nitrogeno)\n",
    "Map.set_plot_options(add_marker_cluster=True)\n",
    "Map"
   ]
  },
  {
   "cell_type": "code",
   "execution_count": 5,
   "id": "flush-raleigh",
   "metadata": {},
   "outputs": [],
   "source": [
    "work_dir = os.path.expanduser('../Data/Parcelas/')\n",
    "in_shp = os.path.join(work_dir, 'puntos_parcelas.shp')\n"
   ]
  },
  {
   "cell_type": "code",
   "execution_count": 6,
   "id": "340bcd66",
   "metadata": {},
   "outputs": [],
   "source": [
    "in_fc = geemap.shp_to_ee(in_shp)\n",
    "Map.addLayer(in_fc, {}, 'Parcelas')"
   ]
  },
  {
   "cell_type": "code",
   "execution_count": 7,
   "id": "8fbc884e",
   "metadata": {},
   "outputs": [
    {
     "name": "stdout",
     "output_type": "stream",
     "text": [
      "Generating URL ...\n",
      "Downloading data from https://earthengine.googleapis.com/v1alpha/projects/earthengine-legacy/tables/b3f3e296b5fecd48ae47a594dd4f8e9a-0ea7148994913686ee996e975bcef248:getFeatures\n",
      "Please wait ...\n",
      "An error occurred while downloading. \n",
      " Retrying ...\n",
      "Generating URL ...\n",
      "Downloading data from https://earthengine.googleapis.com/v1alpha/projects/earthengine-legacy/tables/3cfddc08c73dd34c606fc0721ec26715-b8375918c78823a5f09c640b72b484c0:getFeatures\n",
      "Please wait ...\n"
     ]
    },
    {
     "ename": "ValueError",
     "evalue": "File is not a zip file",
     "output_type": "error",
     "traceback": [
      "\u001b[0;31m---------------------------------------------------------------------------\u001b[0m",
      "\u001b[0;31mBadZipFile\u001b[0m                                Traceback (most recent call last)",
      "\u001b[0;32m~/anaconda3/envs/gee/lib/python3.9/site-packages/geemap/common.py\u001b[0m in \u001b[0;36mee_export_vector\u001b[0;34m(ee_object, filename, selectors, verbose, keep_zip)\u001b[0m\n\u001b[1;32m   1238\u001b[0m         \u001b[0;32mif\u001b[0m \u001b[0mfiletype\u001b[0m \u001b[0;34m==\u001b[0m \u001b[0;34m\"shp\"\u001b[0m\u001b[0;34m:\u001b[0m\u001b[0;34m\u001b[0m\u001b[0;34m\u001b[0m\u001b[0m\n\u001b[0;32m-> 1239\u001b[0;31m             \u001b[0mz\u001b[0m \u001b[0;34m=\u001b[0m \u001b[0mzipfile\u001b[0m\u001b[0;34m.\u001b[0m\u001b[0mZipFile\u001b[0m\u001b[0;34m(\u001b[0m\u001b[0mfilename\u001b[0m\u001b[0;34m)\u001b[0m\u001b[0;34m\u001b[0m\u001b[0;34m\u001b[0m\u001b[0m\n\u001b[0m\u001b[1;32m   1240\u001b[0m             \u001b[0mz\u001b[0m\u001b[0;34m.\u001b[0m\u001b[0mextractall\u001b[0m\u001b[0;34m(\u001b[0m\u001b[0mos\u001b[0m\u001b[0;34m.\u001b[0m\u001b[0mpath\u001b[0m\u001b[0;34m.\u001b[0m\u001b[0mdirname\u001b[0m\u001b[0;34m(\u001b[0m\u001b[0mfilename\u001b[0m\u001b[0;34m)\u001b[0m\u001b[0;34m)\u001b[0m\u001b[0;34m\u001b[0m\u001b[0;34m\u001b[0m\u001b[0m\n",
      "\u001b[0;32m~/anaconda3/envs/gee/lib/python3.9/zipfile.py\u001b[0m in \u001b[0;36m__init__\u001b[0;34m(self, file, mode, compression, allowZip64, compresslevel, strict_timestamps)\u001b[0m\n\u001b[1;32m   1256\u001b[0m             \u001b[0;32mif\u001b[0m \u001b[0mmode\u001b[0m \u001b[0;34m==\u001b[0m \u001b[0;34m'r'\u001b[0m\u001b[0;34m:\u001b[0m\u001b[0;34m\u001b[0m\u001b[0;34m\u001b[0m\u001b[0m\n\u001b[0;32m-> 1257\u001b[0;31m                 \u001b[0mself\u001b[0m\u001b[0;34m.\u001b[0m\u001b[0m_RealGetContents\u001b[0m\u001b[0;34m(\u001b[0m\u001b[0;34m)\u001b[0m\u001b[0;34m\u001b[0m\u001b[0;34m\u001b[0m\u001b[0m\n\u001b[0m\u001b[1;32m   1258\u001b[0m             \u001b[0;32melif\u001b[0m \u001b[0mmode\u001b[0m \u001b[0;32min\u001b[0m \u001b[0;34m(\u001b[0m\u001b[0;34m'w'\u001b[0m\u001b[0;34m,\u001b[0m \u001b[0;34m'x'\u001b[0m\u001b[0;34m)\u001b[0m\u001b[0;34m:\u001b[0m\u001b[0;34m\u001b[0m\u001b[0;34m\u001b[0m\u001b[0m\n",
      "\u001b[0;32m~/anaconda3/envs/gee/lib/python3.9/zipfile.py\u001b[0m in \u001b[0;36m_RealGetContents\u001b[0;34m(self)\u001b[0m\n\u001b[1;32m   1323\u001b[0m         \u001b[0;32mif\u001b[0m \u001b[0;32mnot\u001b[0m \u001b[0mendrec\u001b[0m\u001b[0;34m:\u001b[0m\u001b[0;34m\u001b[0m\u001b[0;34m\u001b[0m\u001b[0m\n\u001b[0;32m-> 1324\u001b[0;31m             \u001b[0;32mraise\u001b[0m \u001b[0mBadZipFile\u001b[0m\u001b[0;34m(\u001b[0m\u001b[0;34m\"File is not a zip file\"\u001b[0m\u001b[0;34m)\u001b[0m\u001b[0;34m\u001b[0m\u001b[0;34m\u001b[0m\u001b[0m\n\u001b[0m\u001b[1;32m   1325\u001b[0m         \u001b[0;32mif\u001b[0m \u001b[0mself\u001b[0m\u001b[0;34m.\u001b[0m\u001b[0mdebug\u001b[0m \u001b[0;34m>\u001b[0m \u001b[0;36m1\u001b[0m\u001b[0;34m:\u001b[0m\u001b[0;34m\u001b[0m\u001b[0;34m\u001b[0m\u001b[0m\n",
      "\u001b[0;31mBadZipFile\u001b[0m: File is not a zip file",
      "\nDuring handling of the above exception, another exception occurred:\n",
      "\u001b[0;31mValueError\u001b[0m                                Traceback (most recent call last)",
      "\u001b[0;32m<ipython-input-7-3100d25c4d38>\u001b[0m in \u001b[0;36m<module>\u001b[0;34m\u001b[0m\n\u001b[1;32m      1\u001b[0m \u001b[0mout_shp\u001b[0m \u001b[0;34m=\u001b[0m \u001b[0mos\u001b[0m\u001b[0;34m.\u001b[0m\u001b[0mpath\u001b[0m\u001b[0;34m.\u001b[0m\u001b[0mjoin\u001b[0m\u001b[0;34m(\u001b[0m\u001b[0mwork_dir\u001b[0m\u001b[0;34m,\u001b[0m \u001b[0;34m'nitrogeno.shp'\u001b[0m\u001b[0;34m)\u001b[0m\u001b[0;34m\u001b[0m\u001b[0;34m\u001b[0m\u001b[0m\n\u001b[0;32m----> 2\u001b[0;31m \u001b[0mgeemap\u001b[0m\u001b[0;34m.\u001b[0m\u001b[0mextract_values_to_points\u001b[0m\u001b[0;34m(\u001b[0m\u001b[0min_fc\u001b[0m\u001b[0;34m,\u001b[0m \u001b[0mnitrogeno\u001b[0m\u001b[0;34m,\u001b[0m \u001b[0mout_shp\u001b[0m\u001b[0;34m)\u001b[0m\u001b[0;34m\u001b[0m\u001b[0;34m\u001b[0m\u001b[0m\n\u001b[0m",
      "\u001b[0;32m~/anaconda3/envs/gee/lib/python3.9/site-packages/geemap/common.py\u001b[0m in \u001b[0;36mextract_values_to_points\u001b[0;34m(in_fc, image, out_fc, properties, scale, projection, tile_scale, geometries)\u001b[0m\n\u001b[1;32m   6141\u001b[0m \u001b[0;34m\u001b[0m\u001b[0m\n\u001b[1;32m   6142\u001b[0m     \u001b[0;32mif\u001b[0m \u001b[0mout_fc\u001b[0m \u001b[0;32mis\u001b[0m \u001b[0;32mnot\u001b[0m \u001b[0;32mNone\u001b[0m\u001b[0;34m:\u001b[0m\u001b[0;34m\u001b[0m\u001b[0;34m\u001b[0m\u001b[0m\n\u001b[0;32m-> 6143\u001b[0;31m         \u001b[0mee_export_vector\u001b[0m\u001b[0;34m(\u001b[0m\u001b[0mresult\u001b[0m\u001b[0;34m,\u001b[0m \u001b[0mout_fc\u001b[0m\u001b[0;34m)\u001b[0m\u001b[0;34m\u001b[0m\u001b[0;34m\u001b[0m\u001b[0m\n\u001b[0m\u001b[1;32m   6144\u001b[0m     \u001b[0;32melse\u001b[0m\u001b[0;34m:\u001b[0m\u001b[0;34m\u001b[0m\u001b[0;34m\u001b[0m\u001b[0m\n\u001b[1;32m   6145\u001b[0m         \u001b[0;32mreturn\u001b[0m \u001b[0mresult\u001b[0m\u001b[0;34m\u001b[0m\u001b[0;34m\u001b[0m\u001b[0m\n",
      "\u001b[0;32m~/anaconda3/envs/gee/lib/python3.9/site-packages/geemap/common.py\u001b[0m in \u001b[0;36mee_export_vector\u001b[0;34m(ee_object, filename, selectors, verbose, keep_zip)\u001b[0m\n\u001b[1;32m   1246\u001b[0m             \u001b[0mprint\u001b[0m\u001b[0;34m(\u001b[0m\u001b[0;34m\"Data downloaded to {}\"\u001b[0m\u001b[0;34m.\u001b[0m\u001b[0mformat\u001b[0m\u001b[0;34m(\u001b[0m\u001b[0mfilename\u001b[0m\u001b[0;34m)\u001b[0m\u001b[0;34m)\u001b[0m\u001b[0;34m\u001b[0m\u001b[0;34m\u001b[0m\u001b[0m\n\u001b[1;32m   1247\u001b[0m     \u001b[0;32mexcept\u001b[0m \u001b[0mException\u001b[0m \u001b[0;32mas\u001b[0m \u001b[0me\u001b[0m\u001b[0;34m:\u001b[0m\u001b[0;34m\u001b[0m\u001b[0;34m\u001b[0m\u001b[0m\n\u001b[0;32m-> 1248\u001b[0;31m         \u001b[0;32mraise\u001b[0m \u001b[0mValueError\u001b[0m\u001b[0;34m(\u001b[0m\u001b[0me\u001b[0m\u001b[0;34m)\u001b[0m\u001b[0;34m\u001b[0m\u001b[0;34m\u001b[0m\u001b[0m\n\u001b[0m\u001b[1;32m   1249\u001b[0m \u001b[0;34m\u001b[0m\u001b[0m\n\u001b[1;32m   1250\u001b[0m \u001b[0;34m\u001b[0m\u001b[0m\n",
      "\u001b[0;31mValueError\u001b[0m: File is not a zip file"
     ]
    }
   ],
   "source": [
    "out_shp = os.path.join(work_dir, 'nitrogeno.shp')\n",
    "geemap.extract_values_to_points(in_fc, nitrogeno, out_shp)"
   ]
  },
  {
   "cell_type": "code",
   "execution_count": null,
   "id": "another-dubai",
   "metadata": {},
   "outputs": [],
   "source": [
    "out_csv = os.path.join(work_dir, 'nitrogeno.csv')\n",
    "geemap.extract_values_to_points(in_fc, nitrogeno, out_csv)"
   ]
  },
  {
   "cell_type": "code",
   "execution_count": 9,
   "id": "13b91725",
   "metadata": {},
   "outputs": [
    {
     "data": {
      "application/vnd.jupyter.widget-view+json": {
       "model_id": "1a5eb25352e042f6a42dfae1611eac10",
       "version_major": 2,
       "version_minor": 0
      },
      "text/plain": [
       "Map(bottom=84464.0, center=[-45.46783598133375, -71.61163750526963], controls=(WidgetControl(options=['positio…"
      ]
     },
     "metadata": {},
     "output_type": "display_data"
    }
   ],
   "source": [
    "bulk_density = ee.Image(\"projects/soilgrids-isric/bdod_mean\")\n",
    "Map.addLayer(bulk_density)\n",
    "Map"
   ]
  },
  {
   "cell_type": "code",
   "execution_count": 10,
   "id": "eb79f472",
   "metadata": {},
   "outputs": [
    {
     "name": "stdout",
     "output_type": "stream",
     "text": [
      "Generating URL ...\n",
      "Downloading data from https://earthengine.googleapis.com/v1alpha/projects/earthengine-legacy/tables/e00f41b35ba4aea9d34e180a1b3faafe-312821d564aecac857330ce0990cc7d2:getFeatures\n",
      "Please wait ...\n",
      "Data downloaded to /mnt/c/Users/Usuario/Documents/GitHub/VitoAlbornoz/Data/Parcelas/bulk_density.csv\n"
     ]
    }
   ],
   "source": [
    "out_csv = os.path.join(work_dir, 'bulk_density.csv')\n",
    "geemap.extract_values_to_points(in_fc, bulk_density, out_csv)"
   ]
  },
  {
   "cell_type": "code",
   "execution_count": 11,
   "id": "ba74718f",
   "metadata": {},
   "outputs": [
    {
     "data": {
      "application/vnd.jupyter.widget-view+json": {
       "model_id": "1a5eb25352e042f6a42dfae1611eac10",
       "version_major": 2,
       "version_minor": 0
      },
      "text/plain": [
       "Map(bottom=5693.0, center=[-49.41097319969585, -68.02734375000001], controls=(WidgetControl(options=['position…"
      ]
     },
     "metadata": {},
     "output_type": "display_data"
    }
   ],
   "source": [
    "cec_mean = ee.Image(\"projects/soilgrids-isric/cec_mean\")\n",
    "Map.addLayer(cec_mean)\n",
    "Map"
   ]
  },
  {
   "cell_type": "code",
   "execution_count": 12,
   "id": "f3581c1a",
   "metadata": {},
   "outputs": [
    {
     "name": "stdout",
     "output_type": "stream",
     "text": [
      "Generating URL ...\n",
      "Downloading data from https://earthengine.googleapis.com/v1alpha/projects/earthengine-legacy/tables/17bfbf9fbff54ea0c4550d203998b386-d2f91ba56c049f3b7c612cfe10884325:getFeatures\n",
      "Please wait ...\n",
      "Data downloaded to /mnt/c/Users/Usuario/Documents/GitHub/VitoAlbornoz/Data/Parcelas/cec_mean.csv\n"
     ]
    }
   ],
   "source": [
    "out_csv = os.path.join(work_dir, 'cec_mean.csv')\n",
    "geemap.extract_values_to_points(in_fc, cec_mean, out_csv)"
   ]
  },
  {
   "cell_type": "code",
   "execution_count": 13,
   "id": "62de3d63",
   "metadata": {},
   "outputs": [
    {
     "data": {
      "application/vnd.jupyter.widget-view+json": {
       "model_id": "1a5eb25352e042f6a42dfae1611eac10",
       "version_major": 2,
       "version_minor": 0
      },
      "text/plain": [
       "Map(bottom=5693.0, center=[-49.41097319969585, -68.02734375000001], controls=(WidgetControl(options=['position…"
      ]
     },
     "metadata": {},
     "output_type": "display_data"
    }
   ],
   "source": [
    "ph = ee.Image(\"projects/soilgrids-isric/phh2o_mean\")\n",
    "Map.addLayer(ph)\n",
    "Map"
   ]
  },
  {
   "cell_type": "code",
   "execution_count": 14,
   "id": "7d7d6fd5",
   "metadata": {},
   "outputs": [
    {
     "name": "stdout",
     "output_type": "stream",
     "text": [
      "Generating URL ...\n",
      "Downloading data from https://earthengine.googleapis.com/v1alpha/projects/earthengine-legacy/tables/11c3a1cfef6737018c6d8e0eaa76b3c9-2226049ded08efc487a2ecd8ba25990e:getFeatures\n",
      "Please wait ...\n",
      "Data downloaded to /mnt/c/Users/Usuario/Documents/GitHub/VitoAlbornoz/Data/Parcelas/ph.csv\n"
     ]
    }
   ],
   "source": [
    "out_csv = os.path.join(work_dir, 'ph.csv')\n",
    "geemap.extract_values_to_points(in_fc, ph, out_csv)"
   ]
  },
  {
   "cell_type": "code",
   "execution_count": 15,
   "id": "bf9f0f78",
   "metadata": {},
   "outputs": [
    {
     "data": {
      "application/vnd.jupyter.widget-view+json": {
       "model_id": "1a5eb25352e042f6a42dfae1611eac10",
       "version_major": 2,
       "version_minor": 0
      },
      "text/plain": [
       "Map(bottom=5693.0, center=[-49.41097319969585, -68.02734375000001], controls=(WidgetControl(options=['position…"
      ]
     },
     "metadata": {},
     "output_type": "display_data"
    }
   ],
   "source": [
    "soc = ee.Image(\"projects/soilgrids-isric/soc_mean\")\n",
    "Map.addLayer(soc)\n",
    "Map"
   ]
  },
  {
   "cell_type": "code",
   "execution_count": 16,
   "id": "87428b76",
   "metadata": {},
   "outputs": [
    {
     "name": "stdout",
     "output_type": "stream",
     "text": [
      "Generating URL ...\n",
      "Downloading data from https://earthengine.googleapis.com/v1alpha/projects/earthengine-legacy/tables/b4630a5e62ab995cbdc213fc962e3dd6-44f9b7704cb12b34587ff290073bbd3b:getFeatures\n",
      "Please wait ...\n",
      "Data downloaded to /mnt/c/Users/Usuario/Documents/GitHub/VitoAlbornoz/Data/Parcelas/soc.csv\n"
     ]
    }
   ],
   "source": [
    "out_csv = os.path.join(work_dir, 'soc.csv')\n",
    "geemap.extract_values_to_points(in_fc, soc, out_csv)"
   ]
  },
  {
   "cell_type": "code",
   "execution_count": null,
   "id": "22f87ea4",
   "metadata": {},
   "outputs": [],
   "source": []
  },
  {
   "cell_type": "code",
   "execution_count": null,
   "id": "299a227d",
   "metadata": {},
   "outputs": [],
   "source": []
  }
 ],
 "metadata": {
  "kernelspec": {
   "display_name": "Python 3",
   "language": "python",
   "name": "python3"
  },
  "language_info": {
   "codemirror_mode": {
    "name": "ipython",
    "version": 3
   },
   "file_extension": ".py",
   "mimetype": "text/x-python",
   "name": "python",
   "nbconvert_exporter": "python",
   "pygments_lexer": "ipython3",
   "version": "3.9.2"
  },
  "toc": {
   "base_numbering": 1,
   "nav_menu": {},
   "number_sections": true,
   "sideBar": true,
   "skip_h1_title": false,
   "title_cell": "Table of Contents",
   "title_sidebar": "Contents",
   "toc_cell": false,
   "toc_position": {},
   "toc_section_display": true,
   "toc_window_display": false
  },
  "varInspector": {
   "cols": {
    "lenName": 16,
    "lenType": 16,
    "lenVar": 40
   },
   "kernels_config": {
    "python": {
     "delete_cmd_postfix": "",
     "delete_cmd_prefix": "del ",
     "library": "var_list.py",
     "varRefreshCmd": "print(var_dic_list())"
    },
    "r": {
     "delete_cmd_postfix": ") ",
     "delete_cmd_prefix": "rm(",
     "library": "var_list.r",
     "varRefreshCmd": "cat(var_dic_list()) "
    }
   },
   "types_to_exclude": [
    "module",
    "function",
    "builtin_function_or_method",
    "instance",
    "_Feature"
   ],
   "window_display": false
  }
 },
 "nbformat": 4,
 "nbformat_minor": 5
}
