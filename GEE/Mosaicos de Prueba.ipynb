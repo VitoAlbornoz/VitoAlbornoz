{
 "cells": [
  {
   "cell_type": "code",
   "execution_count": 1,
   "id": "joined-delicious",
   "metadata": {
    "ExecuteTime": {
     "end_time": "2021-09-09T18:51:24.790351Z",
     "start_time": "2021-09-09T18:51:24.371619Z"
    }
   },
   "outputs": [],
   "source": [
    "import ee\n",
    "import geemap\n",
    "import os"
   ]
  },
  {
   "cell_type": "code",
   "execution_count": 2,
   "id": "26676695",
   "metadata": {
    "ExecuteTime": {
     "end_time": "2021-09-09T18:51:24.792934Z",
     "start_time": "2021-09-09T18:51:24.791310Z"
    }
   },
   "outputs": [],
   "source": [
    "# geemap.update_package()"
   ]
  },
  {
   "cell_type": "code",
   "execution_count": 3,
   "id": "departmental-bridal",
   "metadata": {
    "ExecuteTime": {
     "end_time": "2021-09-09T18:51:28.094549Z",
     "start_time": "2021-09-09T18:51:24.794012Z"
    }
   },
   "outputs": [],
   "source": [
    "Map = geemap.Map()"
   ]
  },
  {
   "cell_type": "code",
   "execution_count": 4,
   "id": "adolescent-tsunami",
   "metadata": {
    "ExecuteTime": {
     "end_time": "2021-09-09T18:51:28.097155Z",
     "start_time": "2021-09-09T18:51:28.095747Z"
    }
   },
   "outputs": [],
   "source": [
    "# mosaico = ee.Image(\"users/franciscoalbornoz/Mosaico_2018\")\n",
    "# clasificacion_2018 = ee.Image(\"users/franciscoalbornoz/clasificacion_2018\")\n",
    "# landcover_2018 = ee.Image(\"users/franciscoalbornoz/landcover_sur\")\n",
    "# landsat_vis = {\n",
    "#     'min': 0,\n",
    "#     'max': 1,\n",
    "#     'bands': ['b5', 'b4', 'b3']\n",
    "# }\n",
    "# Map.addLayer(mosaico, landsat_vis, \"Landsat-8-2018\")\n",
    "# Map.addLayer(clasificacion_2018.randomVisualizer(), {}, \"clasificación 2018\")\n",
    "# Map.addLayer(landcover_2018.randomVisualizer(), {} , \"landcover provincia\")\n",
    "# Map"
   ]
  },
  {
   "cell_type": "code",
   "execution_count": 5,
   "id": "bef2af38",
   "metadata": {
    "ExecuteTime": {
     "end_time": "2021-09-09T18:51:29.169098Z",
     "start_time": "2021-09-09T18:51:28.098185Z"
    }
   },
   "outputs": [],
   "source": [
    "countries = ee.FeatureCollection('users/giswqs/public/countries')\n",
    "Map.addLayer(countries, {}, 'countries')"
   ]
  },
  {
   "cell_type": "code",
   "execution_count": 6,
   "id": "38be2532",
   "metadata": {
    "ExecuteTime": {
     "end_time": "2021-09-09T18:51:29.573862Z",
     "start_time": "2021-09-09T18:51:29.169970Z"
    }
   },
   "outputs": [],
   "source": [
    "roi = countries.filter(ee.Filter.eq('id', 'CHL'))\n",
    "Map.addLayer(roi, {}, 'roi')"
   ]
  },
  {
   "cell_type": "code",
   "execution_count": 7,
   "id": "51936c07",
   "metadata": {
    "ExecuteTime": {
     "end_time": "2021-09-09T18:51:30.229029Z",
     "start_time": "2021-09-09T18:51:29.574652Z"
    }
   },
   "outputs": [],
   "source": [
    "region = ee.FeatureCollection('users/franciscoalbornoz/Aysen')\n",
    "Map.addLayer(region, {}, 'Aysen')"
   ]
  },
  {
   "cell_type": "code",
   "execution_count": 8,
   "id": "0b0baf76",
   "metadata": {
    "ExecuteTime": {
     "end_time": "2021-09-09T18:51:30.231635Z",
     "start_time": "2021-09-09T18:51:30.229858Z"
    }
   },
   "outputs": [],
   "source": [
    "start_date = '2020-12-01'\n",
    "end_date = '2021-03-31'\n",
    "\n",
    "l8 = ee.ImageCollection('LANDSAT/LC08/C01/T1_TOA') \\\n",
    "    .filterBounds(roi) \\\n",
    "    .filterDate(start_date, end_date)\n"
   ]
  },
  {
   "cell_type": "code",
   "execution_count": 9,
   "id": "2311d5cb",
   "metadata": {
    "ExecuteTime": {
     "end_time": "2021-09-09T18:51:30.236624Z",
     "start_time": "2021-09-09T18:51:30.232363Z"
    }
   },
   "outputs": [],
   "source": [
    "# l8testnubes = ee.ImageCollection('LANDSAT/LC08/C01/T1_TOA') \\\n",
    "#     .filterBounds(roi) \\\n",
    "#     .filterDate(start_date, end_date)\\\n",
    "#     .map(Cloud2)"
   ]
  },
  {
   "cell_type": "code",
   "execution_count": 10,
   "id": "9a8c3eda",
   "metadata": {
    "ExecuteTime": {
     "end_time": "2021-09-09T18:51:31.726667Z",
     "start_time": "2021-09-09T18:51:30.238242Z"
    }
   },
   "outputs": [
    {
     "data": {
      "application/vnd.jupyter.widget-view+json": {
       "model_id": "b50b455e86684049b33fe80ac8e57963",
       "version_major": 2,
       "version_minor": 0
      },
      "text/plain": [
       "Map(center=[-37.30779156528291, -71.17818286898157], controls=(WidgetControl(options=['position', 'transparent…"
      ]
     },
     "metadata": {},
     "output_type": "display_data"
    }
   ],
   "source": [
    "median = l8.median()\n",
    "\n",
    "visParams = {\n",
    "  'bands': ['B4', 'B3', 'B2'],\n",
    "  'min': 0,\n",
    "  'max': 0.4,\n",
    "}\n",
    "\n",
    "Map.addLayer(median, visParams, 'Median')\n",
    "Map.centerObject(roi, 10)\n",
    "Map"
   ]
  },
  {
   "cell_type": "code",
   "execution_count": 12,
   "id": "8aac9efe",
   "metadata": {
    "ExecuteTime": {
     "end_time": "2021-09-09T18:52:31.635014Z",
     "start_time": "2021-09-09T18:52:31.633295Z"
    }
   },
   "outputs": [],
   "source": [
    "# ndwi = .normalizedDifference(['B3','B5'])"
   ]
  },
  {
   "cell_type": "code",
   "execution_count": 13,
   "id": "7ae84428",
   "metadata": {
    "ExecuteTime": {
     "end_time": "2021-09-09T18:52:31.640131Z",
     "start_time": "2021-09-09T18:52:31.636101Z"
    }
   },
   "outputs": [],
   "source": [
    "def Cloud(image):\n",
    "    scored = ee.Algorithms.Landsat.simpleCloudScore(image)\n",
    "    return image.updateMask(scored.select(['cloud']).lt(20))    "
   ]
  },
  {
   "cell_type": "code",
   "execution_count": 14,
   "id": "265d432f",
   "metadata": {
    "ExecuteTime": {
     "end_time": "2021-09-09T18:52:31.645023Z",
     "start_time": "2021-09-09T18:52:31.641002Z"
    }
   },
   "outputs": [],
   "source": [
    "# def Cloud2(image):\n",
    "#     scored = ee.Algorithms.Landsat.simpleCloudScore(image)\n",
    "#     return image.updateMask(scored.select(['cloud']).lt(10))"
   ]
  },
  {
   "cell_type": "code",
   "execution_count": 15,
   "id": "379663d2",
   "metadata": {
    "ExecuteTime": {
     "end_time": "2021-09-09T18:52:31.650002Z",
     "start_time": "2021-09-09T18:52:31.646230Z"
    }
   },
   "outputs": [],
   "source": [
    "def addNDVI(image): \n",
    "    ndvi = image.normalizedDifference(['B5', 'B4']).rename('NDVI')\n",
    "    return image.addBands(ndvi)"
   ]
  },
  {
   "cell_type": "code",
   "execution_count": 16,
   "id": "ac36c683",
   "metadata": {
    "ExecuteTime": {
     "end_time": "2021-09-09T18:52:31.654801Z",
     "start_time": "2021-09-09T18:52:31.650927Z"
    }
   },
   "outputs": [],
   "source": [
    "def addDate(image):\n",
    "    img_date = ee.Date(image.date())\n",
    "    img_date = ee.Number.parse(img_date.format('YYYYMMdd'))\n",
    "    return image.addBands(ee.Image(img_date).rename('date').toInt())"
   ]
  },
  {
   "cell_type": "code",
   "execution_count": 17,
   "id": "8b1bf6b8",
   "metadata": {
    "ExecuteTime": {
     "end_time": "2021-09-09T18:52:31.660183Z",
     "start_time": "2021-09-09T18:52:31.655761Z"
    }
   },
   "outputs": [],
   "source": [
    "def addMonth(image):\n",
    "    img_date = ee.Date(image.date())\n",
    "    img_doy = ee.Number.parse(img_date.format('M'))\n",
    "    return image.addBands(ee.Image(img_doy).rename('month').toInt())"
   ]
  },
  {
   "cell_type": "code",
   "execution_count": 18,
   "id": "6bc512f2",
   "metadata": {
    "ExecuteTime": {
     "end_time": "2021-09-09T18:52:31.665338Z",
     "start_time": "2021-09-09T18:52:31.661140Z"
    }
   },
   "outputs": [],
   "source": [
    "def addDOY(image):\n",
    "    img_date = ee.Date(image.date())\n",
    "    img_doy = ee.Number.parse(img_date.format('D'))\n",
    "    return image.addBands(ee.Image(img_doy).rename('doy').toInt())"
   ]
  },
  {
   "cell_type": "code",
   "execution_count": 19,
   "id": "e6d6ab81",
   "metadata": {
    "ExecuteTime": {
     "end_time": "2021-09-09T18:52:31.669844Z",
     "start_time": "2021-09-09T18:52:31.666327Z"
    }
   },
   "outputs": [],
   "source": [
    "def addNDWI(image):\n",
    "    ndwi = image.normalizedDifference(['B3','B5']).rename('NDWI')\n",
    "    return image.addBands(ndwi)"
   ]
  },
  {
   "cell_type": "code",
   "execution_count": 20,
   "id": "c21f889d",
   "metadata": {
    "ExecuteTime": {
     "end_time": "2021-09-09T18:52:31.674998Z",
     "start_time": "2021-09-09T18:52:31.671341Z"
    }
   },
   "outputs": [],
   "source": [
    "def aguamask(image):\n",
    "    return image.updateMask(ndwi.gte(0.4))    "
   ]
  },
  {
   "cell_type": "code",
   "execution_count": 21,
   "id": "f4652ce2",
   "metadata": {
    "ExecuteTime": {
     "end_time": "2021-09-09T18:52:31.680155Z",
     "start_time": "2021-09-09T18:52:31.675812Z"
    }
   },
   "outputs": [],
   "source": [
    "def addNDGI(image):\n",
    "    ndgi = image.normalizedDifference(['B3','B4']).rename('NDGI')\n",
    "    return image.addBands(ndgi)"
   ]
  },
  {
   "cell_type": "code",
   "execution_count": 22,
   "id": "e5c1416b",
   "metadata": {
    "ExecuteTime": {
     "end_time": "2021-09-09T18:52:31.687296Z",
     "start_time": "2021-09-09T18:52:31.681174Z"
    }
   },
   "outputs": [],
   "source": [
    "composicion = l8.map(addNDVI).map(addDate).map(addMonth).map(addDOY).map(addNDWI).map(addNDGI)"
   ]
  },
  {
   "cell_type": "code",
   "execution_count": 23,
   "id": "e282af50",
   "metadata": {
    "ExecuteTime": {
     "end_time": "2021-09-09T18:52:31.695263Z",
     "start_time": "2021-09-09T18:52:31.688371Z"
    }
   },
   "outputs": [],
   "source": [
    "# coleccion = l8testnubes.map(addNDVI).map(addDate).map(addMonth).map(addDOY).map(addNDWI).map(addNDGI)"
   ]
  },
  {
   "cell_type": "code",
   "execution_count": 24,
   "id": "7b6ccc47",
   "metadata": {
    "ExecuteTime": {
     "end_time": "2021-09-09T18:52:31.697531Z",
     "start_time": "2021-09-09T18:52:31.696036Z"
    }
   },
   "outputs": [],
   "source": [
    "# mascarasnubes = coleccion.qualityMosaic('NDVI')"
   ]
  },
  {
   "cell_type": "code",
   "execution_count": 25,
   "id": "a6ce3775",
   "metadata": {
    "ExecuteTime": {
     "end_time": "2021-09-09T18:52:31.705542Z",
     "start_time": "2021-09-09T18:52:31.698604Z"
    }
   },
   "outputs": [],
   "source": [
    "greenestregion = composicion.qualityMosaic('NDVI').clip(region)\n",
    "greenest = composicion.qualityMosaic('NDVI')"
   ]
  },
  {
   "cell_type": "code",
   "execution_count": 26,
   "id": "96d6ee29",
   "metadata": {
    "ExecuteTime": {
     "end_time": "2021-09-09T18:52:32.704504Z",
     "start_time": "2021-09-09T18:52:31.706351Z"
    },
    "scrolled": true
   },
   "outputs": [
    {
     "data": {
      "text/plain": [
       "['B1',\n",
       " 'B2',\n",
       " 'B3',\n",
       " 'B4',\n",
       " 'B5',\n",
       " 'B6',\n",
       " 'B7',\n",
       " 'B8',\n",
       " 'B9',\n",
       " 'B10',\n",
       " 'B11',\n",
       " 'BQA',\n",
       " 'NDVI',\n",
       " 'date',\n",
       " 'month',\n",
       " 'doy',\n",
       " 'NDWI',\n",
       " 'NDGI']"
      ]
     },
     "execution_count": 26,
     "metadata": {},
     "output_type": "execute_result"
    }
   ],
   "source": [
    "greenest.bandNames().getInfo()"
   ]
  },
  {
   "cell_type": "code",
   "execution_count": 27,
   "id": "cc847ca0",
   "metadata": {
    "ExecuteTime": {
     "end_time": "2021-09-09T18:52:33.755069Z",
     "start_time": "2021-09-09T18:52:32.705526Z"
    }
   },
   "outputs": [],
   "source": [
    "ndvi = greenest.select('NDVI')\n",
    "palette = ['#d73027', '#f46d43', '#fdae61', '#fee08b', '#d9ef8b', '#a6d96a', '#66bd63', '#1a9850']\n",
    "Map.addLayer(ndvi, {'palette': palette}, 'NDVI')"
   ]
  },
  {
   "cell_type": "code",
   "execution_count": 28,
   "id": "27467bcf",
   "metadata": {
    "ExecuteTime": {
     "end_time": "2021-09-09T18:52:33.757758Z",
     "start_time": "2021-09-09T18:52:33.756129Z"
    }
   },
   "outputs": [],
   "source": [
    "ndwi = greenest.select('NDWI')\n"
   ]
  },
  {
   "cell_type": "code",
   "execution_count": 29,
   "id": "fc1709f7",
   "metadata": {
    "ExecuteTime": {
     "end_time": "2021-09-09T18:52:33.765198Z",
     "start_time": "2021-09-09T18:52:33.758503Z"
    }
   },
   "outputs": [],
   "source": [
    "mascaraagua = composicion.map(aguamask)"
   ]
  },
  {
   "cell_type": "code",
   "execution_count": 30,
   "id": "0de64968",
   "metadata": {
    "ExecuteTime": {
     "end_time": "2021-09-09T18:52:34.926496Z",
     "start_time": "2021-09-09T18:52:33.766299Z"
    }
   },
   "outputs": [],
   "source": [
    "palette = ['#d73027', '#f46d43', '#fdae61', '#fee08b', '#d9ef8b', '#a6d96a', '#66bd63', '#1a9850']\n",
    "Map.addLayer(ndwi, {'palette': palette}, 'NDWI')\n",
    "# ndwirgb = mascaraagua.visualize({\n",
    "#   'min': 0.5,\n",
    "#   'max': 1,\n",
    "#   'palette': ['00FFFF', '0000FF']\n",
    "# }); "
   ]
  },
  {
   "cell_type": "code",
   "execution_count": 31,
   "id": "98c37333",
   "metadata": {
    "ExecuteTime": {
     "end_time": "2021-09-09T18:52:34.929472Z",
     "start_time": "2021-09-09T18:52:34.927336Z"
    }
   },
   "outputs": [],
   "source": [
    "otroproceso = mascaraagua.map(Cloud)\n",
    "greenest3 = otroproceso.qualityMosaic('NDVI')"
   ]
  },
  {
   "cell_type": "code",
   "execution_count": null,
   "id": "78348c06",
   "metadata": {},
   "outputs": [],
   "source": []
  },
  {
   "cell_type": "code",
   "execution_count": null,
   "id": "1c81a8a9",
   "metadata": {},
   "outputs": [],
   "source": []
  },
  {
   "cell_type": "code",
   "execution_count": 32,
   "id": "a64bb477",
   "metadata": {
    "ExecuteTime": {
     "end_time": "2021-09-09T18:52:36.099812Z",
     "start_time": "2021-09-09T18:52:34.930394Z"
    }
   },
   "outputs": [],
   "source": [
    "ndgi = greenest.select('NDGI')\n",
    "palette = ['#D0D3D4', '#979A9A', '#7B7D7D', '#76D7C4', '#E74C3C', '#1ABC9C','#6E2C00', '#76D7C4','#48C9B0', '#17A589', '#148F77', '#F7DC6F', '#F4D03F']\n",
    "Map.addLayer(ndgi, {'palette': palette}, 'NDGI')"
   ]
  },
  {
   "cell_type": "code",
   "execution_count": 33,
   "id": "b071ec69",
   "metadata": {
    "ExecuteTime": {
     "end_time": "2021-09-09T18:52:37.245441Z",
     "start_time": "2021-09-09T18:52:36.100761Z"
    },
    "scrolled": false
   },
   "outputs": [],
   "source": [
    "Map.addLayer(greenest, visParams, 'Greenest pixel')"
   ]
  },
  {
   "cell_type": "code",
   "execution_count": 34,
   "id": "4b972d21",
   "metadata": {
    "ExecuteTime": {
     "end_time": "2021-09-09T18:52:37.247755Z",
     "start_time": "2021-09-09T18:52:37.246283Z"
    },
    "scrolled": false
   },
   "outputs": [],
   "source": [
    "# Map.addLayer(mascarasnubes, visParams, 'mascara')"
   ]
  },
  {
   "cell_type": "code",
   "execution_count": 35,
   "id": "2e953b70",
   "metadata": {
    "ExecuteTime": {
     "end_time": "2021-09-09T18:52:38.379153Z",
     "start_time": "2021-09-09T18:52:37.250733Z"
    }
   },
   "outputs": [],
   "source": [
    "Map.addLayer(greenest3, visParams, '3')"
   ]
  },
  {
   "cell_type": "code",
   "execution_count": 36,
   "id": "0914368d",
   "metadata": {
    "ExecuteTime": {
     "end_time": "2021-09-09T18:52:38.381286Z",
     "start_time": "2021-09-09T18:52:38.379911Z"
    }
   },
   "outputs": [],
   "source": [
    "# greenest3rgb = mascaraagua.visualize(visParams)"
   ]
  },
  {
   "cell_type": "code",
   "execution_count": 37,
   "id": "5a3a7919",
   "metadata": {
    "ExecuteTime": {
     "end_time": "2021-09-09T18:52:39.447946Z",
     "start_time": "2021-09-09T18:52:38.382387Z"
    }
   },
   "outputs": [],
   "source": [
    "testmosaico = ee.ImageCollection([greenest3, ndwi]).mosaic()\n",
    "Map.addLayer(testmosaico, {}, 'mosaico')"
   ]
  },
  {
   "cell_type": "code",
   "execution_count": 38,
   "id": "f0819773",
   "metadata": {
    "ExecuteTime": {
     "end_time": "2021-09-09T18:52:40.613979Z",
     "start_time": "2021-09-09T18:52:39.448824Z"
    }
   },
   "outputs": [
    {
     "data": {
      "application/vnd.jupyter.widget-view+json": {
       "model_id": "b50b455e86684049b33fe80ac8e57963",
       "version_major": 2,
       "version_minor": 0
      },
      "text/plain": [
       "Map(bottom=160691.0, center=[-37.30779156528291, -71.17818286898157], controls=(WidgetControl(options=['positi…"
      ]
     },
     "metadata": {},
     "output_type": "display_data"
    }
   ],
   "source": [
    "mosaico = ee.Image(\"users/franciscoalbornoz/Mosaico_2018\")\n",
    "clasificacion_2018 = ee.Image(\"users/franciscoalbornoz/clasificacion_2018\")\n",
    "landcover_2018 = ee.Image(\"users/franciscoalbornoz/landcover_sur\")\n",
    "landsat_vis = {\n",
    "    'min': 0,\n",
    "    'max': 1,\n",
    "    'bands': ['b5', 'b4', 'b3']\n",
    "}\n",
    "Map.addLayer(mosaico, landsat_vis, \"Landsat-8-2018\")\n",
    "Map.addLayer(clasificacion_2018.randomVisualizer(), {}, \"clasificación 2018\")\n",
    "Map.addLayer(landcover_2018.randomVisualizer(), {} , \"landcover provincia\")\n",
    "Map"
   ]
  },
  {
   "cell_type": "code",
   "execution_count": 39,
   "id": "0dbb0df5",
   "metadata": {
    "ExecuteTime": {
     "end_time": "2021-09-09T18:52:40.616924Z",
     "start_time": "2021-09-09T18:52:40.614900Z"
    }
   },
   "outputs": [],
   "source": [
    "class_palette = ['22c129',\n",
    " 'f0ff00',\n",
    " '0c40f1',\n",
    " '685205',\n",
    " '0d4404',\n",
    " 'e82d13',\n",
    " 'f99504',\n",
    " '17d4c6',\n",
    " '1c6330',\n",
    " '24ff00',\n",
    " '2de50f',\n",
    " 'ccba7d',\n",
    " 'dec61a',\n",
    " '28d909',\n",
    " '03c2ff',\n",
    " '4e8c44',\n",
    " 'fdfdfd',\n",
    " 'c0c233'\n",
    "]\n",
    "# paleta de 18 colores\n"
   ]
  },
  {
   "cell_type": "code",
   "execution_count": 40,
   "id": "fd4e4fdf",
   "metadata": {
    "ExecuteTime": {
     "end_time": "2021-09-09T18:52:40.619778Z",
     "start_time": "2021-09-09T18:52:40.618036Z"
    }
   },
   "outputs": [],
   "source": [
    "class_values = [1,2,3,4,5,6,7,8,9,10,11,12,13,14,15,16,17,18\n",
    "    ]"
   ]
  },
  {
   "cell_type": "code",
   "execution_count": 41,
   "id": "b28686e6",
   "metadata": {
    "ExecuteTime": {
     "end_time": "2021-09-09T18:52:40.909316Z",
     "start_time": "2021-09-09T18:52:40.620663Z"
    }
   },
   "outputs": [
    {
     "data": {
      "text/plain": [
       "['b1']"
      ]
     },
     "execution_count": 41,
     "metadata": {},
     "output_type": "execute_result"
    }
   ],
   "source": [
    "landcover_2018.bandNames().getInfo()"
   ]
  },
  {
   "cell_type": "code",
   "execution_count": 42,
   "id": "0f667c56",
   "metadata": {
    "ExecuteTime": {
     "end_time": "2021-09-09T18:52:41.220700Z",
     "start_time": "2021-09-09T18:52:40.910286Z"
    }
   },
   "outputs": [
    {
     "data": {
      "text/plain": [
       "{'b1': {'type': 'PixelType', 'precision': 'int', 'min': 0, 'max': 255}}"
      ]
     },
     "execution_count": 42,
     "metadata": {},
     "output_type": "execute_result"
    }
   ],
   "source": [
    "clasificacion_2018.bandTypes().getInfo()\n"
   ]
  },
  {
   "cell_type": "code",
   "execution_count": 43,
   "id": "26ba0fad",
   "metadata": {
    "ExecuteTime": {
     "end_time": "2021-09-09T18:52:41.222995Z",
     "start_time": "2021-09-09T18:52:41.221557Z"
    }
   },
   "outputs": [],
   "source": [
    "# land2018 = landcover_2018.set('classification_class_values', class_values)\n",
    "# land2018f = land2018.set('classification_class_palette', class_palette)"
   ]
  },
  {
   "cell_type": "code",
   "execution_count": 44,
   "id": "234d5974",
   "metadata": {
    "ExecuteTime": {
     "end_time": "2021-09-09T18:52:41.225427Z",
     "start_time": "2021-09-09T18:52:41.223977Z"
    }
   },
   "outputs": [],
   "source": [
    "# class2018 = clasificacion_2018.set('classification_class_values', class_values)\n",
    "# class2018f = class2018.set('classification_class_palette', class_palette)"
   ]
  },
  {
   "cell_type": "code",
   "execution_count": 45,
   "id": "c85ae479",
   "metadata": {
    "ExecuteTime": {
     "end_time": "2021-09-09T18:52:41.227646Z",
     "start_time": "2021-09-09T18:52:41.226366Z"
    }
   },
   "outputs": [],
   "source": [
    "# Map.addLayer(land2018f, {}, 'landcover_prov_coyhaique' )\n",
    "# Map.addLayer(class2018f,{},'clasificacion 2018')"
   ]
  },
  {
   "cell_type": "code",
   "execution_count": 46,
   "id": "2f97f3a9",
   "metadata": {
    "ExecuteTime": {
     "end_time": "2021-09-09T18:52:41.435473Z",
     "start_time": "2021-09-09T18:52:41.228635Z"
    }
   },
   "outputs": [
    {
     "data": {
      "text/plain": [
       "['b1', 'b2', 'b3', 'b4', 'b5', 'b6', 'b7', 'b8', 'b9']"
      ]
     },
     "execution_count": 46,
     "metadata": {},
     "output_type": "execute_result"
    }
   ],
   "source": [
    "mosaico.bandNames().getInfo()"
   ]
  },
  {
   "cell_type": "code",
   "execution_count": 47,
   "id": "flush-raleigh",
   "metadata": {
    "ExecuteTime": {
     "end_time": "2021-09-09T18:52:41.438438Z",
     "start_time": "2021-09-09T18:52:41.436355Z"
    }
   },
   "outputs": [],
   "source": [
    "work_dir = os.path.expanduser('../Data/shapes/')\n",
    "\n",
    "val_shp= os.path.join(work_dir, 'validacion.shp')\n",
    "merged_shp = os.path.join(work_dir, 'roi_merged.shp')"
   ]
  },
  {
   "cell_type": "code",
   "execution_count": 48,
   "id": "340bcd66",
   "metadata": {
    "ExecuteTime": {
     "end_time": "2021-09-09T18:52:51.054852Z",
     "start_time": "2021-09-09T18:52:41.439152Z"
    }
   },
   "outputs": [],
   "source": [
    "merged =geemap.shp_to_ee(merged_shp)\n",
    "Map.addLayer(merged, {}, 'Áreas de entrenamiento')"
   ]
  },
  {
   "cell_type": "code",
   "execution_count": 49,
   "id": "8fbc884e",
   "metadata": {
    "ExecuteTime": {
     "end_time": "2021-09-09T18:52:58.813910Z",
     "start_time": "2021-09-09T18:52:51.056003Z"
    }
   },
   "outputs": [],
   "source": [
    "val = geemap.shp_to_ee(val_shp)\n",
    "Map.addLayer(val, {}, 'Áreas de Validación')\n"
   ]
  },
  {
   "cell_type": "code",
   "execution_count": 50,
   "id": "696742ae",
   "metadata": {
    "ExecuteTime": {
     "end_time": "2021-09-09T18:52:58.817381Z",
     "start_time": "2021-09-09T18:52:58.814788Z"
    }
   },
   "outputs": [
    {
     "data": {
      "text/plain": [
       "'../Data/shapes/roi_merged.shp'"
      ]
     },
     "execution_count": 50,
     "metadata": {},
     "output_type": "execute_result"
    }
   ],
   "source": [
    "merged_shp"
   ]
  },
  {
   "cell_type": "code",
   "execution_count": 51,
   "id": "76339414",
   "metadata": {
    "ExecuteTime": {
     "end_time": "2021-09-09T18:52:58.820030Z",
     "start_time": "2021-09-09T18:52:58.818452Z"
    },
    "scrolled": true
   },
   "outputs": [],
   "source": [
    "dataset = greenest3.sampleRegions(**{\n",
    "    'collection': merged,\n",
    "    'properties': ['ID'],\n",
    "    'scale' : 30 ,\n",
    "})"
   ]
  },
  {
   "cell_type": "code",
   "execution_count": 52,
   "id": "eeb9cd65",
   "metadata": {
    "ExecuteTime": {
     "end_time": "2021-09-09T18:52:58.822551Z",
     "start_time": "2021-09-09T18:52:58.820908Z"
    }
   },
   "outputs": [],
   "source": [
    "datasetval = greenest3.sampleRegions(**{\n",
    "    'collection': val,\n",
    "    'properties': ['ID'],\n",
    "    'scale': 10,\n",
    "})"
   ]
  },
  {
   "cell_type": "code",
   "execution_count": 53,
   "id": "ea580180",
   "metadata": {
    "ExecuteTime": {
     "end_time": "2021-09-09T18:53:37.194699Z",
     "start_time": "2021-09-09T18:52:58.823377Z"
    }
   },
   "outputs": [
    {
     "data": {
      "text/plain": [
       "0"
      ]
     },
     "execution_count": 53,
     "metadata": {},
     "output_type": "execute_result"
    }
   ],
   "source": [
    "dataset.size().getInfo()"
   ]
  },
  {
   "cell_type": "code",
   "execution_count": 54,
   "id": "439c0c2b",
   "metadata": {
    "ExecuteTime": {
     "end_time": "2021-09-09T18:54:33.723570Z",
     "start_time": "2021-09-09T18:53:37.195517Z"
    }
   },
   "outputs": [
    {
     "data": {
      "text/plain": [
       "0"
      ]
     },
     "execution_count": 54,
     "metadata": {},
     "output_type": "execute_result"
    }
   ],
   "source": [
    "datasetval.size().getInfo()"
   ]
  },
  {
   "cell_type": "code",
   "execution_count": 55,
   "id": "42a44c4f",
   "metadata": {
    "ExecuteTime": {
     "end_time": "2021-09-09T18:54:39.404264Z",
     "start_time": "2021-09-09T18:54:33.724485Z"
    }
   },
   "outputs": [
    {
     "name": "stdout",
     "output_type": "stream",
     "text": [
      "None\n"
     ]
    }
   ],
   "source": [
    "print(dataset.first().getInfo())"
   ]
  },
  {
   "cell_type": "code",
   "execution_count": 56,
   "id": "another-dubai",
   "metadata": {
    "ExecuteTime": {
     "end_time": "2021-09-09T18:54:39.407658Z",
     "start_time": "2021-09-09T18:54:39.405304Z"
    }
   },
   "outputs": [],
   "source": [
    "# Guardamos las bandas\n",
    "bands = ['B1',\n",
    " 'B2',\n",
    " 'B3',\n",
    " 'B4',\n",
    " 'B5',\n",
    " 'B6',\n",
    " 'B7',\n",
    " 'B8',\n",
    " 'B9',\n",
    " 'B10',\n",
    " 'B11',\n",
    " 'BQA',\n",
    " 'NDVI',\n",
    " 'NDWI',\n",
    " 'NDGI']\n",
    "\n",
    "# Esta propiedad guarda las clases de landcover\n",
    "label = 'ID'\n",
    "\n",
    "# Overlay the points on the imagery to get training.\n",
    "# sample = mosaico.select(bands).sampleRegions(**{\n",
    "#   'collection': dataset,\n",
    "#   'properties': ['RF'],\n",
    "#   'scale': 30\n",
    "# })\n",
    "\n",
    "# Adds a column of deterministic pseudorandom numbers. \n",
    "# sample = dataset.randomColumn()\n",
    "\n",
    "# split = 0.7 \n",
    "\n",
    "# training = sample.filter(ee.Filter.lt('random', split))\n",
    "# validation = sample.filter(ee.Filter.gte('random', split))"
   ]
  },
  {
   "cell_type": "code",
   "execution_count": 57,
   "id": "13b91725",
   "metadata": {
    "ExecuteTime": {
     "end_time": "2021-09-09T18:54:39.410516Z",
     "start_time": "2021-09-09T18:54:39.408465Z"
    }
   },
   "outputs": [],
   "source": [
    "# print(training.first().getInfo())"
   ]
  },
  {
   "cell_type": "code",
   "execution_count": 58,
   "id": "eb79f472",
   "metadata": {
    "ExecuteTime": {
     "end_time": "2021-09-09T18:54:39.413036Z",
     "start_time": "2021-09-09T18:54:39.411405Z"
    }
   },
   "outputs": [],
   "source": [
    "# print(validation.first().getInfo())"
   ]
  },
  {
   "cell_type": "code",
   "execution_count": 59,
   "id": "ba74718f",
   "metadata": {
    "ExecuteTime": {
     "end_time": "2021-09-09T18:54:39.415552Z",
     "start_time": "2021-09-09T18:54:39.413795Z"
    }
   },
   "outputs": [],
   "source": [
    "randomforest = ee.Classifier.smileRandomForest(100).train(dataset, label, bands)\n",
    "resultRF = greenest.select(bands).classify(randomforest)"
   ]
  },
  {
   "cell_type": "code",
   "execution_count": 60,
   "id": "155e1bb9",
   "metadata": {
    "ExecuteTime": {
     "end_time": "2021-09-09T18:54:39.418338Z",
     "start_time": "2021-09-09T18:54:39.416570Z"
    }
   },
   "outputs": [],
   "source": [
    "SVM = ee.Classifier.libsvm('Voting','C_SVC','RBF', gamma = 0.5 , cost = 10 )\n",
    "trained = SVM.train(dataset, label, bands)\n",
    "classifiedSVM = greenest.classify(trained)"
   ]
  },
  {
   "cell_type": "code",
   "execution_count": 61,
   "id": "b17e3095",
   "metadata": {
    "ExecuteTime": {
     "end_time": "2021-09-09T18:54:39.420997Z",
     "start_time": "2021-09-09T18:54:39.419260Z"
    }
   },
   "outputs": [],
   "source": [
    "smc = ee.Classifier.smileCart().train(dataset, label, bands)\n",
    "classifiedsmc = greenest.select(bands).classify(smc)"
   ]
  },
  {
   "cell_type": "code",
   "execution_count": 62,
   "id": "f3581c1a",
   "metadata": {
    "ExecuteTime": {
     "end_time": "2021-09-09T18:54:39.423230Z",
     "start_time": "2021-09-09T18:54:39.421867Z"
    }
   },
   "outputs": [],
   "source": [
    "# Clasificando con las mismas bandas de entrenamiento\n",
    "# result1 = greenest.select(bands).classify(randomforest)\n",
    "# result2 = greenest.select(bands).classify(SVM)\n",
    "# # Display the clusters with random colors.\n",
    "# Map.addLayer(result.randomVisualizer(), {}, 'classificado')\n",
    "# Map"
   ]
  },
  {
   "cell_type": "code",
   "execution_count": 63,
   "id": "19bfc50d",
   "metadata": {
    "ExecuteTime": {
     "end_time": "2021-09-09T18:54:39.425619Z",
     "start_time": "2021-09-09T18:54:39.424173Z"
    }
   },
   "outputs": [],
   "source": [
    "# result.getInfo()"
   ]
  },
  {
   "cell_type": "code",
   "execution_count": 64,
   "id": "2f9ff9f4",
   "metadata": {
    "ExecuteTime": {
     "end_time": "2021-09-09T18:54:39.428016Z",
     "start_time": "2021-09-09T18:54:39.426407Z"
    }
   },
   "outputs": [],
   "source": [
    "class_values = [1,2,3,4,5,6,7,8,9,10,11,12,13,14,15,16,17,18\n",
    "    ]"
   ]
  },
  {
   "cell_type": "code",
   "execution_count": 65,
   "id": "bf9f0f78",
   "metadata": {
    "ExecuteTime": {
     "end_time": "2021-09-09T18:54:39.430565Z",
     "start_time": "2021-09-09T18:54:39.428944Z"
    }
   },
   "outputs": [],
   "source": [
    "class_palette = ['22c129',\n",
    " 'f0ff00',\n",
    " '0c40f1',\n",
    " '685205',\n",
    " '0d4404',\n",
    " 'e82d13',\n",
    " 'f99504',\n",
    " '17d4c6',\n",
    " '1c6330',\n",
    " '24ff00',\n",
    " '2de50f',\n",
    " 'ccba7d',\n",
    " 'dec61a',\n",
    " '28d909',\n",
    " '03c2ff',\n",
    " '4e8c44',\n",
    " 'fdfdfd',\n",
    " 'c0c233'\n",
    "]"
   ]
  },
  {
   "cell_type": "code",
   "execution_count": 66,
   "id": "69b62656",
   "metadata": {
    "ExecuteTime": {
     "end_time": "2021-09-09T18:54:39.433112Z",
     "start_time": "2021-09-09T18:54:39.431562Z"
    }
   },
   "outputs": [],
   "source": [
    "landcover_randomforest = resultRF.set('classification_class_values', class_values)\n",
    "landcover_randomforest = landcover_randomforest.set('classification_class_palette', class_palette)"
   ]
  },
  {
   "cell_type": "code",
   "execution_count": 67,
   "id": "22f87ea4",
   "metadata": {
    "ExecuteTime": {
     "end_time": "2021-09-09T18:54:44.899388Z",
     "start_time": "2021-09-09T18:54:39.434008Z"
    }
   },
   "outputs": [
    {
     "ename": "EEException",
     "evalue": "No valid training data were found.",
     "output_type": "error",
     "traceback": [
      "\u001b[0;31m---------------------------------------------------------------------------\u001b[0m",
      "\u001b[0;31mHttpError\u001b[0m                                 Traceback (most recent call last)",
      "\u001b[0;32m~/anaconda3/envs/gee/lib/python3.8/site-packages/ee/data.py\u001b[0m in \u001b[0;36m_execute_cloud_call\u001b[0;34m(call, num_retries)\u001b[0m\n\u001b[1;32m    333\u001b[0m   \u001b[0;32mtry\u001b[0m\u001b[0;34m:\u001b[0m\u001b[0;34m\u001b[0m\u001b[0;34m\u001b[0m\u001b[0m\n\u001b[0;32m--> 334\u001b[0;31m     \u001b[0;32mreturn\u001b[0m \u001b[0mcall\u001b[0m\u001b[0;34m.\u001b[0m\u001b[0mexecute\u001b[0m\u001b[0;34m(\u001b[0m\u001b[0mnum_retries\u001b[0m\u001b[0;34m=\u001b[0m\u001b[0mnum_retries\u001b[0m\u001b[0;34m)\u001b[0m\u001b[0;34m\u001b[0m\u001b[0;34m\u001b[0m\u001b[0m\n\u001b[0m\u001b[1;32m    335\u001b[0m   \u001b[0;32mexcept\u001b[0m \u001b[0mgoogleapiclient\u001b[0m\u001b[0;34m.\u001b[0m\u001b[0merrors\u001b[0m\u001b[0;34m.\u001b[0m\u001b[0mHttpError\u001b[0m \u001b[0;32mas\u001b[0m \u001b[0me\u001b[0m\u001b[0;34m:\u001b[0m\u001b[0;34m\u001b[0m\u001b[0;34m\u001b[0m\u001b[0m\n",
      "\u001b[0;32m~/anaconda3/envs/gee/lib/python3.8/site-packages/googleapiclient/_helpers.py\u001b[0m in \u001b[0;36mpositional_wrapper\u001b[0;34m(*args, **kwargs)\u001b[0m\n\u001b[1;32m    133\u001b[0m                     \u001b[0mlogger\u001b[0m\u001b[0;34m.\u001b[0m\u001b[0mwarning\u001b[0m\u001b[0;34m(\u001b[0m\u001b[0mmessage\u001b[0m\u001b[0;34m)\u001b[0m\u001b[0;34m\u001b[0m\u001b[0;34m\u001b[0m\u001b[0m\n\u001b[0;32m--> 134\u001b[0;31m             \u001b[0;32mreturn\u001b[0m \u001b[0mwrapped\u001b[0m\u001b[0;34m(\u001b[0m\u001b[0;34m*\u001b[0m\u001b[0margs\u001b[0m\u001b[0;34m,\u001b[0m \u001b[0;34m**\u001b[0m\u001b[0mkwargs\u001b[0m\u001b[0;34m)\u001b[0m\u001b[0;34m\u001b[0m\u001b[0;34m\u001b[0m\u001b[0m\n\u001b[0m\u001b[1;32m    135\u001b[0m \u001b[0;34m\u001b[0m\u001b[0m\n",
      "\u001b[0;32m~/anaconda3/envs/gee/lib/python3.8/site-packages/googleapiclient/http.py\u001b[0m in \u001b[0;36mexecute\u001b[0;34m(self, http, num_retries)\u001b[0m\n\u001b[1;32m    914\u001b[0m         \u001b[0;32mif\u001b[0m \u001b[0mresp\u001b[0m\u001b[0;34m.\u001b[0m\u001b[0mstatus\u001b[0m \u001b[0;34m>=\u001b[0m \u001b[0;36m300\u001b[0m\u001b[0;34m:\u001b[0m\u001b[0;34m\u001b[0m\u001b[0;34m\u001b[0m\u001b[0m\n\u001b[0;32m--> 915\u001b[0;31m             \u001b[0;32mraise\u001b[0m \u001b[0mHttpError\u001b[0m\u001b[0;34m(\u001b[0m\u001b[0mresp\u001b[0m\u001b[0;34m,\u001b[0m \u001b[0mcontent\u001b[0m\u001b[0;34m,\u001b[0m \u001b[0muri\u001b[0m\u001b[0;34m=\u001b[0m\u001b[0mself\u001b[0m\u001b[0;34m.\u001b[0m\u001b[0muri\u001b[0m\u001b[0;34m)\u001b[0m\u001b[0;34m\u001b[0m\u001b[0;34m\u001b[0m\u001b[0m\n\u001b[0m\u001b[1;32m    916\u001b[0m         \u001b[0;32mreturn\u001b[0m \u001b[0mself\u001b[0m\u001b[0;34m.\u001b[0m\u001b[0mpostproc\u001b[0m\u001b[0;34m(\u001b[0m\u001b[0mresp\u001b[0m\u001b[0;34m,\u001b[0m \u001b[0mcontent\u001b[0m\u001b[0;34m)\u001b[0m\u001b[0;34m\u001b[0m\u001b[0;34m\u001b[0m\u001b[0m\n",
      "\u001b[0;31mHttpError\u001b[0m: <HttpError 400 when requesting https://earthengine.googleapis.com/v1alpha/projects/earthengine-legacy/maps?fields=name&alt=json returned \"No valid training data were found.\". Details: \"No valid training data were found.\">",
      "\nDuring handling of the above exception, another exception occurred:\n",
      "\u001b[0;31mEEException\u001b[0m                               Traceback (most recent call last)",
      "\u001b[0;32m/tmp/ipykernel_1678/3166766823.py\u001b[0m in \u001b[0;36m<module>\u001b[0;34m\u001b[0m\n\u001b[0;32m----> 1\u001b[0;31m \u001b[0mMap\u001b[0m\u001b[0;34m.\u001b[0m\u001b[0maddLayer\u001b[0m\u001b[0;34m(\u001b[0m\u001b[0mlandcover_randomforest\u001b[0m\u001b[0;34m,\u001b[0m \u001b[0;34m{\u001b[0m\u001b[0;34m}\u001b[0m\u001b[0;34m,\u001b[0m \u001b[0;34m'Land cover Random Forest Región'\u001b[0m\u001b[0;34m)\u001b[0m\u001b[0;34m\u001b[0m\u001b[0;34m\u001b[0m\u001b[0m\n\u001b[0m",
      "\u001b[0;32m~/anaconda3/envs/gee/lib/python3.8/site-packages/geemap/geemap.py\u001b[0m in \u001b[0;36madd_ee_layer\u001b[0;34m(self, ee_object, vis_params, name, shown, opacity)\u001b[0m\n\u001b[1;32m   1363\u001b[0m                 \u001b[0;32mraise\u001b[0m \u001b[0mException\u001b[0m\u001b[0;34m(\u001b[0m\u001b[0me\u001b[0m\u001b[0;34m)\u001b[0m\u001b[0;34m\u001b[0m\u001b[0;34m\u001b[0m\u001b[0m\n\u001b[1;32m   1364\u001b[0m \u001b[0;34m\u001b[0m\u001b[0m\n\u001b[0;32m-> 1365\u001b[0;31m         \u001b[0mmap_id_dict\u001b[0m \u001b[0;34m=\u001b[0m \u001b[0mee\u001b[0m\u001b[0;34m.\u001b[0m\u001b[0mImage\u001b[0m\u001b[0;34m(\u001b[0m\u001b[0mimage\u001b[0m\u001b[0;34m)\u001b[0m\u001b[0;34m.\u001b[0m\u001b[0mgetMapId\u001b[0m\u001b[0;34m(\u001b[0m\u001b[0mvis_params\u001b[0m\u001b[0;34m)\u001b[0m\u001b[0;34m\u001b[0m\u001b[0;34m\u001b[0m\u001b[0m\n\u001b[0m\u001b[1;32m   1366\u001b[0m         tile_layer = TileLayer(\n\u001b[1;32m   1367\u001b[0m             \u001b[0murl\u001b[0m\u001b[0;34m=\u001b[0m\u001b[0mmap_id_dict\u001b[0m\u001b[0;34m[\u001b[0m\u001b[0;34m\"tile_fetcher\"\u001b[0m\u001b[0;34m]\u001b[0m\u001b[0;34m.\u001b[0m\u001b[0murl_format\u001b[0m\u001b[0;34m,\u001b[0m\u001b[0;34m\u001b[0m\u001b[0;34m\u001b[0m\u001b[0m\n",
      "\u001b[0;32m~/anaconda3/envs/gee/lib/python3.8/site-packages/ee/image.py\u001b[0m in \u001b[0;36mgetMapId\u001b[0;34m(self, vis_params)\u001b[0m\n\u001b[1;32m    128\u001b[0m     \u001b[0mvis_image\u001b[0m\u001b[0;34m,\u001b[0m \u001b[0mrequest\u001b[0m \u001b[0;34m=\u001b[0m \u001b[0mself\u001b[0m\u001b[0;34m.\u001b[0m\u001b[0m_apply_visualization\u001b[0m\u001b[0;34m(\u001b[0m\u001b[0mvis_params\u001b[0m\u001b[0;34m)\u001b[0m\u001b[0;34m\u001b[0m\u001b[0;34m\u001b[0m\u001b[0m\n\u001b[1;32m    129\u001b[0m     \u001b[0mrequest\u001b[0m\u001b[0;34m[\u001b[0m\u001b[0;34m'image'\u001b[0m\u001b[0;34m]\u001b[0m \u001b[0;34m=\u001b[0m \u001b[0mvis_image\u001b[0m\u001b[0;34m\u001b[0m\u001b[0;34m\u001b[0m\u001b[0m\n\u001b[0;32m--> 130\u001b[0;31m     \u001b[0mresponse\u001b[0m \u001b[0;34m=\u001b[0m \u001b[0mdata\u001b[0m\u001b[0;34m.\u001b[0m\u001b[0mgetMapId\u001b[0m\u001b[0;34m(\u001b[0m\u001b[0mrequest\u001b[0m\u001b[0;34m)\u001b[0m\u001b[0;34m\u001b[0m\u001b[0;34m\u001b[0m\u001b[0m\n\u001b[0m\u001b[1;32m    131\u001b[0m     \u001b[0mresponse\u001b[0m\u001b[0;34m[\u001b[0m\u001b[0;34m'image'\u001b[0m\u001b[0;34m]\u001b[0m \u001b[0;34m=\u001b[0m \u001b[0mself\u001b[0m\u001b[0;34m\u001b[0m\u001b[0;34m\u001b[0m\u001b[0m\n\u001b[1;32m    132\u001b[0m     \u001b[0;32mreturn\u001b[0m \u001b[0mresponse\u001b[0m\u001b[0;34m\u001b[0m\u001b[0;34m\u001b[0m\u001b[0m\n",
      "\u001b[0;32m~/anaconda3/envs/gee/lib/python3.8/site-packages/ee/data.py\u001b[0m in \u001b[0;36mgetMapId\u001b[0;34m(params)\u001b[0m\n\u001b[1;32m    571\u001b[0m   \u001b[0;31m# Make it return only the name field, as otherwise it echoes the entire\u001b[0m\u001b[0;34m\u001b[0m\u001b[0;34m\u001b[0m\u001b[0;34m\u001b[0m\u001b[0m\n\u001b[1;32m    572\u001b[0m   \u001b[0;31m# request, which might be large.\u001b[0m\u001b[0;34m\u001b[0m\u001b[0;34m\u001b[0m\u001b[0;34m\u001b[0m\u001b[0m\n\u001b[0;32m--> 573\u001b[0;31m   result = _execute_cloud_call(\n\u001b[0m\u001b[1;32m    574\u001b[0m       _get_cloud_api_resource().projects().maps().create(\n\u001b[1;32m    575\u001b[0m           parent=_get_projects_path(), fields='name', body=request))\n",
      "\u001b[0;32m~/anaconda3/envs/gee/lib/python3.8/site-packages/ee/data.py\u001b[0m in \u001b[0;36m_execute_cloud_call\u001b[0;34m(call, num_retries)\u001b[0m\n\u001b[1;32m    334\u001b[0m     \u001b[0;32mreturn\u001b[0m \u001b[0mcall\u001b[0m\u001b[0;34m.\u001b[0m\u001b[0mexecute\u001b[0m\u001b[0;34m(\u001b[0m\u001b[0mnum_retries\u001b[0m\u001b[0;34m=\u001b[0m\u001b[0mnum_retries\u001b[0m\u001b[0;34m)\u001b[0m\u001b[0;34m\u001b[0m\u001b[0;34m\u001b[0m\u001b[0m\n\u001b[1;32m    335\u001b[0m   \u001b[0;32mexcept\u001b[0m \u001b[0mgoogleapiclient\u001b[0m\u001b[0;34m.\u001b[0m\u001b[0merrors\u001b[0m\u001b[0;34m.\u001b[0m\u001b[0mHttpError\u001b[0m \u001b[0;32mas\u001b[0m \u001b[0me\u001b[0m\u001b[0;34m:\u001b[0m\u001b[0;34m\u001b[0m\u001b[0;34m\u001b[0m\u001b[0m\n\u001b[0;32m--> 336\u001b[0;31m     \u001b[0;32mraise\u001b[0m \u001b[0m_translate_cloud_exception\u001b[0m\u001b[0;34m(\u001b[0m\u001b[0me\u001b[0m\u001b[0;34m)\u001b[0m\u001b[0;34m\u001b[0m\u001b[0;34m\u001b[0m\u001b[0m\n\u001b[0m\u001b[1;32m    337\u001b[0m \u001b[0;34m\u001b[0m\u001b[0m\n\u001b[1;32m    338\u001b[0m \u001b[0;34m\u001b[0m\u001b[0m\n",
      "\u001b[0;31mEEException\u001b[0m: No valid training data were found."
     ]
    }
   ],
   "source": [
    "Map.addLayer(landcover_randomforest, {}, 'Land cover Random Forest Región')"
   ]
  },
  {
   "cell_type": "code",
   "execution_count": null,
   "id": "732a6579",
   "metadata": {
    "ExecuteTime": {
     "end_time": "2021-09-09T18:54:44.913273Z",
     "start_time": "2021-09-09T18:54:44.913264Z"
    }
   },
   "outputs": [],
   "source": [
    "landcover_svm = classifiedSVM.set('classification_class_values', class_values)\n",
    "landcover_svm = landcover_svm.set('classification_class_palette', class_palette)"
   ]
  },
  {
   "cell_type": "code",
   "execution_count": null,
   "id": "922e7510",
   "metadata": {
    "ExecuteTime": {
     "end_time": "2021-09-09T18:54:44.914259Z",
     "start_time": "2021-09-09T18:54:44.914250Z"
    }
   },
   "outputs": [],
   "source": [
    "Map.addLayer(landcover_svm, {}, 'Land cover SVM Región')"
   ]
  },
  {
   "cell_type": "code",
   "execution_count": null,
   "id": "6ac3d049",
   "metadata": {
    "ExecuteTime": {
     "end_time": "2021-09-09T18:54:44.914908Z",
     "start_time": "2021-09-09T18:54:44.914898Z"
    }
   },
   "outputs": [],
   "source": [
    "landcover_cart = classifiedsmc.set('classification_class_values', class_values)\n",
    "landcover_cart = landcover_cart.set('classification_class_palette', class_palette)"
   ]
  },
  {
   "cell_type": "code",
   "execution_count": null,
   "id": "5c9158b3",
   "metadata": {
    "ExecuteTime": {
     "end_time": "2021-09-09T18:54:44.915532Z",
     "start_time": "2021-09-09T18:54:44.915524Z"
    }
   },
   "outputs": [],
   "source": [
    "Map.addLayer(landcover_cart, {}, 'Land cover SCART Región')"
   ]
  },
  {
   "cell_type": "code",
   "execution_count": null,
   "id": "ddc5d110",
   "metadata": {
    "ExecuteTime": {
     "end_time": "2021-09-09T18:54:44.916346Z",
     "start_time": "2021-09-09T18:54:44.916337Z"
    }
   },
   "outputs": [],
   "source": [
    "Map"
   ]
  },
  {
   "cell_type": "markdown",
   "id": "0910e3ca",
   "metadata": {},
   "source": [
    "RF"
   ]
  },
  {
   "cell_type": "code",
   "execution_count": null,
   "id": "299a227d",
   "metadata": {
    "ExecuteTime": {
     "end_time": "2021-09-09T18:54:44.916997Z",
     "start_time": "2021-09-09T18:54:44.916989Z"
    }
   },
   "outputs": [],
   "source": [
    "train_accuracy = randomforest.confusionMatrix()"
   ]
  },
  {
   "cell_type": "code",
   "execution_count": null,
   "id": "611c9899",
   "metadata": {
    "ExecuteTime": {
     "end_time": "2021-09-09T18:54:44.917710Z",
     "start_time": "2021-09-09T18:54:44.917702Z"
    }
   },
   "outputs": [],
   "source": [
    "train_accuracy.getInfo()"
   ]
  },
  {
   "cell_type": "code",
   "execution_count": null,
   "id": "c1693f22",
   "metadata": {
    "ExecuteTime": {
     "end_time": "2021-09-09T18:54:44.918274Z",
     "start_time": "2021-09-09T18:54:44.918268Z"
    }
   },
   "outputs": [],
   "source": [
    "train_accuracy.accuracy().getInfo()"
   ]
  },
  {
   "cell_type": "code",
   "execution_count": null,
   "id": "410b951b",
   "metadata": {
    "ExecuteTime": {
     "end_time": "2021-09-09T18:54:44.919027Z",
     "start_time": "2021-09-09T18:54:44.919018Z"
    }
   },
   "outputs": [],
   "source": [
    "train_accuracy.kappa().getInfo()"
   ]
  },
  {
   "cell_type": "code",
   "execution_count": null,
   "id": "2b29f647",
   "metadata": {
    "ExecuteTime": {
     "end_time": "2021-09-09T18:54:44.919511Z",
     "start_time": "2021-09-09T18:54:44.919505Z"
    }
   },
   "outputs": [],
   "source": [
    "train_accuracy.producersAccuracy().getInfo()"
   ]
  },
  {
   "cell_type": "code",
   "execution_count": null,
   "id": "32bbd6be",
   "metadata": {
    "ExecuteTime": {
     "end_time": "2021-09-09T18:54:44.920110Z",
     "start_time": "2021-09-09T18:54:44.920104Z"
    }
   },
   "outputs": [],
   "source": [
    "train_accuracy.consumersAccuracy().getInfo()"
   ]
  },
  {
   "cell_type": "code",
   "execution_count": null,
   "id": "ec4e2627",
   "metadata": {
    "ExecuteTime": {
     "end_time": "2021-09-09T18:54:44.920754Z",
     "start_time": "2021-09-09T18:54:44.920746Z"
    }
   },
   "outputs": [],
   "source": [
    "validacion = datasetval.classify(randomforest)"
   ]
  },
  {
   "cell_type": "code",
   "execution_count": null,
   "id": "5fa5aa61",
   "metadata": {
    "ExecuteTime": {
     "end_time": "2021-09-09T18:54:44.921332Z",
     "start_time": "2021-09-09T18:54:44.921323Z"
    }
   },
   "outputs": [],
   "source": [
    "validacion.first().getInfo()"
   ]
  },
  {
   "cell_type": "code",
   "execution_count": null,
   "id": "511f36f3",
   "metadata": {
    "ExecuteTime": {
     "end_time": "2021-09-09T18:54:44.921866Z",
     "start_time": "2021-09-09T18:54:44.921859Z"
    }
   },
   "outputs": [],
   "source": [
    "testAccuracy = validacion.errorMatrix('ID', 'classification')"
   ]
  },
  {
   "cell_type": "code",
   "execution_count": null,
   "id": "73b8fa6e",
   "metadata": {
    "ExecuteTime": {
     "end_time": "2021-09-09T18:54:44.922524Z",
     "start_time": "2021-09-09T18:54:44.922516Z"
    }
   },
   "outputs": [],
   "source": [
    "testAccuracy.getInfo()"
   ]
  },
  {
   "cell_type": "code",
   "execution_count": null,
   "id": "733c4428",
   "metadata": {
    "ExecuteTime": {
     "end_time": "2021-09-09T18:54:44.923307Z",
     "start_time": "2021-09-09T18:54:44.923298Z"
    }
   },
   "outputs": [],
   "source": [
    "testAccuracy.accuracy().getInfo()"
   ]
  },
  {
   "cell_type": "code",
   "execution_count": null,
   "id": "55dcc06a",
   "metadata": {
    "ExecuteTime": {
     "end_time": "2021-09-09T18:54:44.924022Z",
     "start_time": "2021-09-09T18:54:44.924014Z"
    }
   },
   "outputs": [],
   "source": [
    "testAccuracy.kappa().getInfo()"
   ]
  },
  {
   "cell_type": "code",
   "execution_count": null,
   "id": "6309124a",
   "metadata": {
    "ExecuteTime": {
     "end_time": "2021-09-09T18:54:44.924730Z",
     "start_time": "2021-09-09T18:54:44.924721Z"
    }
   },
   "outputs": [],
   "source": [
    "testAccuracy.producersAccuracy().getInfo()"
   ]
  },
  {
   "cell_type": "code",
   "execution_count": null,
   "id": "1e6064d1",
   "metadata": {
    "ExecuteTime": {
     "end_time": "2021-09-09T18:54:44.925346Z",
     "start_time": "2021-09-09T18:54:44.925338Z"
    }
   },
   "outputs": [],
   "source": [
    "testAccuracy.consumersAccuracy().getInfo()"
   ]
  },
  {
   "cell_type": "markdown",
   "id": "4e1c7fc9",
   "metadata": {},
   "source": [
    "SVM"
   ]
  },
  {
   "cell_type": "code",
   "execution_count": null,
   "id": "5b593944",
   "metadata": {
    "ExecuteTime": {
     "end_time": "2021-09-09T18:54:44.925797Z",
     "start_time": "2021-09-09T18:54:44.925790Z"
    }
   },
   "outputs": [],
   "source": [
    "train_accuracy1 = trained.confusionMatrix()"
   ]
  },
  {
   "cell_type": "code",
   "execution_count": null,
   "id": "6b35e7a3",
   "metadata": {
    "ExecuteTime": {
     "end_time": "2021-09-09T18:54:44.926384Z",
     "start_time": "2021-09-09T18:54:44.926376Z"
    }
   },
   "outputs": [],
   "source": [
    "train_accuracy1.getInfo()"
   ]
  },
  {
   "cell_type": "code",
   "execution_count": null,
   "id": "52f2b3e2",
   "metadata": {
    "ExecuteTime": {
     "end_time": "2021-09-09T18:54:44.927116Z",
     "start_time": "2021-09-09T18:54:44.927108Z"
    }
   },
   "outputs": [],
   "source": [
    "train_accuracy1.accuracy().getInfo()"
   ]
  },
  {
   "cell_type": "code",
   "execution_count": null,
   "id": "2acef59d",
   "metadata": {
    "ExecuteTime": {
     "end_time": "2021-09-09T18:54:44.927782Z",
     "start_time": "2021-09-09T18:54:44.927776Z"
    }
   },
   "outputs": [],
   "source": [
    "train_accuracy1.kappa().getInfo()"
   ]
  },
  {
   "cell_type": "code",
   "execution_count": null,
   "id": "792140c6",
   "metadata": {
    "ExecuteTime": {
     "end_time": "2021-09-09T18:54:44.928473Z",
     "start_time": "2021-09-09T18:54:44.928464Z"
    }
   },
   "outputs": [],
   "source": [
    "train_accuracy1.producersAccuracy().getInfo()"
   ]
  },
  {
   "cell_type": "code",
   "execution_count": null,
   "id": "b6eba2fa",
   "metadata": {
    "ExecuteTime": {
     "end_time": "2021-09-09T18:54:44.929099Z",
     "start_time": "2021-09-09T18:54:44.929093Z"
    }
   },
   "outputs": [],
   "source": [
    "train_accuracy1.consumersAccuracy().getInfo()"
   ]
  },
  {
   "cell_type": "code",
   "execution_count": null,
   "id": "0af6bde8",
   "metadata": {
    "ExecuteTime": {
     "end_time": "2021-09-09T18:54:44.929713Z",
     "start_time": "2021-09-09T18:54:44.929707Z"
    }
   },
   "outputs": [],
   "source": [
    "validacion1 = datasetval.classify(trained)"
   ]
  },
  {
   "cell_type": "code",
   "execution_count": null,
   "id": "e2e81bee",
   "metadata": {
    "ExecuteTime": {
     "end_time": "2021-09-09T18:54:44.930463Z",
     "start_time": "2021-09-09T18:54:44.930454Z"
    }
   },
   "outputs": [],
   "source": [
    "testAccuracy1 = validacion1.errorMatrix('ID', 'classification')"
   ]
  },
  {
   "cell_type": "code",
   "execution_count": null,
   "id": "55906497",
   "metadata": {
    "ExecuteTime": {
     "end_time": "2021-09-09T18:54:44.931168Z",
     "start_time": "2021-09-09T18:54:44.931158Z"
    }
   },
   "outputs": [],
   "source": [
    "testAccuracy1.getInfo()"
   ]
  },
  {
   "cell_type": "code",
   "execution_count": null,
   "id": "f88a855f",
   "metadata": {
    "ExecuteTime": {
     "end_time": "2021-09-09T18:54:44.931915Z",
     "start_time": "2021-09-09T18:54:44.931908Z"
    }
   },
   "outputs": [],
   "source": [
    "testAccuracy1.accuracy().getInfo()"
   ]
  },
  {
   "cell_type": "code",
   "execution_count": null,
   "id": "5a95868c",
   "metadata": {
    "ExecuteTime": {
     "end_time": "2021-09-09T18:54:44.932695Z",
     "start_time": "2021-09-09T18:54:44.932687Z"
    }
   },
   "outputs": [],
   "source": [
    "testAccuracy1.kappa().getInfo()"
   ]
  },
  {
   "cell_type": "code",
   "execution_count": null,
   "id": "ded3a4fe",
   "metadata": {
    "ExecuteTime": {
     "end_time": "2021-09-09T18:54:44.933305Z",
     "start_time": "2021-09-09T18:54:44.933296Z"
    }
   },
   "outputs": [],
   "source": [
    "testAccuracy1.producersAccuracy().getInfo()"
   ]
  },
  {
   "cell_type": "code",
   "execution_count": null,
   "id": "63b715bd",
   "metadata": {
    "ExecuteTime": {
     "end_time": "2021-09-09T18:54:44.933944Z",
     "start_time": "2021-09-09T18:54:44.933936Z"
    }
   },
   "outputs": [],
   "source": [
    "testAccuracy1.consumersAccuracy().getInfo()"
   ]
  },
  {
   "cell_type": "markdown",
   "id": "0514b957",
   "metadata": {},
   "source": [
    "SCART"
   ]
  },
  {
   "cell_type": "code",
   "execution_count": null,
   "id": "0b07886b",
   "metadata": {
    "ExecuteTime": {
     "end_time": "2021-09-09T18:54:44.934630Z",
     "start_time": "2021-09-09T18:54:44.934621Z"
    }
   },
   "outputs": [],
   "source": [
    "train_accuracy = smc.confusionMatrix()"
   ]
  },
  {
   "cell_type": "code",
   "execution_count": null,
   "id": "f9a78201",
   "metadata": {
    "ExecuteTime": {
     "end_time": "2021-09-09T18:54:44.935335Z",
     "start_time": "2021-09-09T18:54:44.935324Z"
    }
   },
   "outputs": [],
   "source": [
    "train_accuracy.getInfo()"
   ]
  },
  {
   "cell_type": "code",
   "execution_count": null,
   "id": "5b7132c1",
   "metadata": {
    "ExecuteTime": {
     "end_time": "2021-09-09T18:54:44.935951Z",
     "start_time": "2021-09-09T18:54:44.935942Z"
    }
   },
   "outputs": [],
   "source": [
    "train_accuracy.accuracy().getInfo()"
   ]
  },
  {
   "cell_type": "code",
   "execution_count": null,
   "id": "d6067b63",
   "metadata": {
    "ExecuteTime": {
     "end_time": "2021-09-09T18:54:44.936560Z",
     "start_time": "2021-09-09T18:54:44.936552Z"
    }
   },
   "outputs": [],
   "source": [
    "train_accuracy.kappa().getInfo()"
   ]
  },
  {
   "cell_type": "code",
   "execution_count": null,
   "id": "4ee87732",
   "metadata": {
    "ExecuteTime": {
     "end_time": "2021-09-09T18:54:44.937278Z",
     "start_time": "2021-09-09T18:54:44.937270Z"
    }
   },
   "outputs": [],
   "source": [
    "train_accuracy.producersAccuracy().getInfo()"
   ]
  },
  {
   "cell_type": "code",
   "execution_count": null,
   "id": "057a2ae5",
   "metadata": {
    "ExecuteTime": {
     "end_time": "2021-09-09T18:54:44.937716Z",
     "start_time": "2021-09-09T18:54:44.937709Z"
    }
   },
   "outputs": [],
   "source": [
    "train_accuracy.consumersAccuracy().getInfo()"
   ]
  },
  {
   "cell_type": "code",
   "execution_count": null,
   "id": "6071447e",
   "metadata": {
    "ExecuteTime": {
     "end_time": "2021-09-09T18:54:44.938412Z",
     "start_time": "2021-09-09T18:54:44.938403Z"
    }
   },
   "outputs": [],
   "source": [
    "validated = datasetval.classify(smc)"
   ]
  },
  {
   "cell_type": "code",
   "execution_count": null,
   "id": "00f56ee5",
   "metadata": {
    "ExecuteTime": {
     "end_time": "2021-09-09T18:54:44.939051Z",
     "start_time": "2021-09-09T18:54:44.939043Z"
    }
   },
   "outputs": [],
   "source": [
    "validated.first().getInfo()"
   ]
  },
  {
   "cell_type": "code",
   "execution_count": null,
   "id": "136497dd",
   "metadata": {
    "ExecuteTime": {
     "end_time": "2021-09-09T18:54:44.939611Z",
     "start_time": "2021-09-09T18:54:44.939605Z"
    }
   },
   "outputs": [],
   "source": [
    "test_accuracy = validated.errorMatrix('ID', 'classification')"
   ]
  },
  {
   "cell_type": "code",
   "execution_count": null,
   "id": "c0a1b125",
   "metadata": {
    "ExecuteTime": {
     "end_time": "2021-09-09T18:54:44.940109Z",
     "start_time": "2021-09-09T18:54:44.940101Z"
    }
   },
   "outputs": [],
   "source": [
    "test_accuracy.getInfo()"
   ]
  },
  {
   "cell_type": "code",
   "execution_count": null,
   "id": "68ae5ac6",
   "metadata": {
    "ExecuteTime": {
     "end_time": "2021-09-09T18:54:44.940707Z",
     "start_time": "2021-09-09T18:54:44.940701Z"
    }
   },
   "outputs": [],
   "source": [
    "test_accuracy.accuracy().getInfo()"
   ]
  },
  {
   "cell_type": "code",
   "execution_count": null,
   "id": "ea47e667",
   "metadata": {
    "ExecuteTime": {
     "end_time": "2021-09-09T18:54:44.941345Z",
     "start_time": "2021-09-09T18:54:44.941338Z"
    }
   },
   "outputs": [],
   "source": [
    "test_accuracy.kappa().getInfo()"
   ]
  },
  {
   "cell_type": "code",
   "execution_count": null,
   "id": "e65fba42",
   "metadata": {
    "ExecuteTime": {
     "end_time": "2021-09-09T18:54:44.942216Z",
     "start_time": "2021-09-09T18:54:44.942208Z"
    }
   },
   "outputs": [],
   "source": [
    "test_accuracy.producersAccuracy().getInfo()"
   ]
  },
  {
   "cell_type": "code",
   "execution_count": null,
   "id": "e47ea162",
   "metadata": {
    "ExecuteTime": {
     "end_time": "2021-09-09T18:54:44.942739Z",
     "start_time": "2021-09-09T18:54:44.942732Z"
    }
   },
   "outputs": [],
   "source": [
    "test_accuracy.consumersAccuracy().getInfo()"
   ]
  },
  {
   "cell_type": "code",
   "execution_count": null,
   "id": "20a2c081",
   "metadata": {},
   "outputs": [],
   "source": []
  },
  {
   "cell_type": "code",
   "execution_count": null,
   "id": "6b12e2d9",
   "metadata": {},
   "outputs": [],
   "source": []
  }
 ],
 "metadata": {
  "kernelspec": {
   "display_name": "Python 3 (ipykernel)",
   "language": "python",
   "name": "python3"
  },
  "language_info": {
   "codemirror_mode": {
    "name": "ipython",
    "version": 3
   },
   "file_extension": ".py",
   "mimetype": "text/x-python",
   "name": "python",
   "nbconvert_exporter": "python",
   "pygments_lexer": "ipython3",
   "version": "3.8.11"
  },
  "toc": {
   "base_numbering": 1,
   "nav_menu": {},
   "number_sections": true,
   "sideBar": true,
   "skip_h1_title": false,
   "title_cell": "Table of Contents",
   "title_sidebar": "Contents",
   "toc_cell": false,
   "toc_position": {},
   "toc_section_display": true,
   "toc_window_display": false
  },
  "varInspector": {
   "cols": {
    "lenName": 16,
    "lenType": 16,
    "lenVar": 40
   },
   "kernels_config": {
    "python": {
     "delete_cmd_postfix": "",
     "delete_cmd_prefix": "del ",
     "library": "var_list.py",
     "varRefreshCmd": "print(var_dic_list())"
    },
    "r": {
     "delete_cmd_postfix": ") ",
     "delete_cmd_prefix": "rm(",
     "library": "var_list.r",
     "varRefreshCmd": "cat(var_dic_list()) "
    }
   },
   "types_to_exclude": [
    "module",
    "function",
    "builtin_function_or_method",
    "instance",
    "_Feature"
   ],
   "window_display": false
  }
 },
 "nbformat": 4,
 "nbformat_minor": 5
}
