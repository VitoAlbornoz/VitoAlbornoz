{
 "cells": [
  {
   "cell_type": "code",
   "execution_count": null,
   "id": "ad919398",
   "metadata": {},
   "outputs": [],
   "source": []
  },
  {
   "cell_type": "code",
   "execution_count": 7,
   "id": "08499bcc",
   "metadata": {},
   "outputs": [],
   "source": [
    "\"\"\"Demonstrates the ee.Classifier.amnhMaxent method.\"\"\"\n",
    "\n",
    "import ee\n",
    "import geemap\n",
    "\n",
    "# Authenticates to the Earth Engine servers.\n",
    "# ee.Authenticate()\n",
    "# Initializes the client library.\n",
    "# ee.Initialize()\n",
    "\n"
   ]
  },
  {
   "cell_type": "code",
   "execution_count": 2,
   "id": "f06fb7c7",
   "metadata": {},
   "outputs": [],
   "source": [
    "# Create some sample species presence/absence training data.\n",
    "training_data = ee.FeatureCollection([\n",
    "    # Species present points.\n",
    "    ee.Feature(ee.Geometry.Point([-122.39567, 38.02740]), {'presence': 1}),\n",
    "    ee.Feature(ee.Geometry.Point([-122.68560, 37.83690]), {'presence': 1}),\n",
    "    # Species absent points.\n",
    "    ee.Feature(ee.Geometry.Point([-122.59755, 37.92402]), {'presence': 0}),\n",
    "    ee.Feature(ee.Geometry.Point([-122.47137, 37.99291]), {'presence': 0}),\n",
    "    ee.Feature(ee.Geometry.Point([-122.52905, 37.85642]), {'presence': 0}),\n",
    "    ee.Feature(ee.Geometry.Point([-122.03010, 37.66660]), {'presence': 0})\n",
    "])\n"
   ]
  },
  {
   "cell_type": "code",
   "execution_count": 3,
   "id": "fdcbc3d0",
   "metadata": {},
   "outputs": [],
   "source": [
    "# Import a Landsat 8 image and select the reflectance bands.\n",
    "image = (ee.Image('LANDSAT/LC08/C02/T1_L2/LC08_044034_20200606')\n",
    "         .select(['SR_B[1-7]'])\n",
    "         .multiply(0.0000275).add(-0.2))  # Apply scaling factors.\n",
    "\n",
    "# Sample the image at the location of the points.\n",
    "training = image.sampleRegions(**{\n",
    "    'collection': training_data,\n",
    "    'scale': 30\n",
    "})\n",
    "\n",
    "\n"
   ]
  },
  {
   "cell_type": "code",
   "execution_count": 4,
   "id": "39edb264",
   "metadata": {},
   "outputs": [],
   "source": [
    "# Define and train a Maxent classifier from the image-sampled points.\n",
    "classifier = ee.Classifier.amnhMaxent().train(**{\n",
    "    'features': training,\n",
    "    'classProperty': 'presence',\n",
    "    'inputProperties': image.bandNames()\n",
    "})\n",
    "\n"
   ]
  },
  {
   "cell_type": "code",
   "execution_count": 5,
   "id": "47c5bd0d",
   "metadata": {},
   "outputs": [],
   "source": [
    "# Classify the image using the Maxent classifier.\n",
    "image_classified = image.classify(classifier)\n"
   ]
  },
  {
   "cell_type": "code",
   "execution_count": 8,
   "id": "bf65d43f",
   "metadata": {},
   "outputs": [],
   "source": [
    "Map = geemap.Map()\n"
   ]
  },
  {
   "cell_type": "code",
   "execution_count": 13,
   "id": "092295ef",
   "metadata": {},
   "outputs": [
    {
     "data": {
      "application/vnd.jupyter.widget-view+json": {
       "model_id": "8844bcc90c5741c9ae9d281b845a9c91",
       "version_major": 2,
       "version_minor": 0
      },
      "text/plain": [
       "Map(bottom=25685.0, center=[37.54022177661216, -121.81362845010851], controls=(WidgetControl(options=['positio…"
      ]
     },
     "metadata": {},
     "output_type": "display_data"
    }
   ],
   "source": [
    "Map.addLayer(image_classified)\n",
    "Map.addLayer(training_data)\n",
    "Map\n"
   ]
  },
  {
   "cell_type": "code",
   "execution_count": null,
   "id": "0ec17408",
   "metadata": {},
   "outputs": [],
   "source": []
  }
 ],
 "metadata": {
  "kernelspec": {
   "display_name": "Python 3 (ipykernel)",
   "language": "python",
   "name": "python3"
  },
  "language_info": {
   "codemirror_mode": {
    "name": "ipython",
    "version": 3
   },
   "file_extension": ".py",
   "mimetype": "text/x-python",
   "name": "python",
   "nbconvert_exporter": "python",
   "pygments_lexer": "ipython3",
   "version": "3.9.2"
  },
  "toc": {
   "base_numbering": 1,
   "nav_menu": {},
   "number_sections": true,
   "sideBar": true,
   "skip_h1_title": false,
   "title_cell": "Table of Contents",
   "title_sidebar": "Contents",
   "toc_cell": false,
   "toc_position": {},
   "toc_section_display": true,
   "toc_window_display": false
  },
  "varInspector": {
   "cols": {
    "lenName": 16,
    "lenType": 16,
    "lenVar": 40
   },
   "kernels_config": {
    "python": {
     "delete_cmd_postfix": "",
     "delete_cmd_prefix": "del ",
     "library": "var_list.py",
     "varRefreshCmd": "print(var_dic_list())"
    },
    "r": {
     "delete_cmd_postfix": ") ",
     "delete_cmd_prefix": "rm(",
     "library": "var_list.r",
     "varRefreshCmd": "cat(var_dic_list()) "
    }
   },
   "types_to_exclude": [
    "module",
    "function",
    "builtin_function_or_method",
    "instance",
    "_Feature"
   ],
   "window_display": false
  }
 },
 "nbformat": 4,
 "nbformat_minor": 5
}
