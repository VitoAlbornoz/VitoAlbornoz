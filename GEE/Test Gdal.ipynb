{
 "cells": [
  {
   "cell_type": "code",
   "execution_count": 1,
   "id": "1036854e",
   "metadata": {
    "ExecuteTime": {
     "end_time": "2021-09-21T13:37:46.927798Z",
     "start_time": "2021-09-21T13:37:46.925977Z"
    }
   },
   "outputs": [],
   "source": [
    "import sys\n"
   ]
  },
  {
   "cell_type": "code",
   "execution_count": 2,
   "id": "9e03083e",
   "metadata": {
    "ExecuteTime": {
     "end_time": "2021-09-21T13:37:57.272969Z",
     "start_time": "2021-09-21T13:37:57.245521Z"
    }
   },
   "outputs": [],
   "source": [
    "from osgeo import ogr"
   ]
  },
  {
   "cell_type": "code",
   "execution_count": 3,
   "id": "ec7db6f4",
   "metadata": {
    "ExecuteTime": {
     "end_time": "2021-09-21T13:38:06.615203Z",
     "start_time": "2021-09-21T13:38:06.613398Z"
    }
   },
   "outputs": [],
   "source": [
    "ogr.UseExceptions()"
   ]
  },
  {
   "cell_type": "code",
   "execution_count": 4,
   "id": "d5640199",
   "metadata": {
    "ExecuteTime": {
     "end_time": "2021-09-21T13:38:48.743264Z",
     "start_time": "2021-09-21T13:38:48.741047Z"
    }
   },
   "outputs": [],
   "source": [
    "driver = ogr.GetDriverByName(\"OpenFileGDB\")"
   ]
  },
  {
   "cell_type": "code",
   "execution_count": 17,
   "id": "2f48c270",
   "metadata": {
    "ExecuteTime": {
     "end_time": "2021-09-21T13:45:22.776708Z",
     "start_time": "2021-09-21T13:45:22.772977Z"
    }
   },
   "outputs": [
    {
     "ename": "NameError",
     "evalue": "name 'gdb_path' is not defined",
     "output_type": "error",
     "traceback": [
      "\u001b[0;31m---------------------------------------------------------------------------\u001b[0m",
      "\u001b[0;31mNameError\u001b[0m                                 Traceback (most recent call last)",
      "\u001b[0;32m/tmp/ipykernel_10693/3208387930.py\u001b[0m in \u001b[0;36m<module>\u001b[0;34m\u001b[0m\n\u001b[0;32m----> 1\u001b[0;31m \u001b[0mgdb\u001b[0m \u001b[0;34m=\u001b[0m \u001b[0mdriver\u001b[0m\u001b[0;34m.\u001b[0m\u001b[0mOpen\u001b[0m\u001b[0;34m(\u001b[0m\u001b[0mgdb_path\u001b[0m\u001b[0;34m,\u001b[0m \u001b[0;36m0\u001b[0m\u001b[0;34m)\u001b[0m\u001b[0;34m\u001b[0m\u001b[0;34m\u001b[0m\u001b[0m\n\u001b[0m",
      "\u001b[0;31mNameError\u001b[0m: name 'gdb_path' is not defined"
     ]
    }
   ],
   "source": [
    "gdb = driver.Open(gdb_path, 0)\n"
   ]
  },
  {
   "cell_type": "code",
   "execution_count": null,
   "id": "fe289f33",
   "metadata": {},
   "outputs": [],
   "source": []
  }
 ],
 "metadata": {
  "kernelspec": {
   "display_name": "Python 3 (ipykernel)",
   "language": "python",
   "name": "python3"
  },
  "language_info": {
   "codemirror_mode": {
    "name": "ipython",
    "version": 3
   },
   "file_extension": ".py",
   "mimetype": "text/x-python",
   "name": "python",
   "nbconvert_exporter": "python",
   "pygments_lexer": "ipython3",
   "version": "3.8.11"
  },
  "toc": {
   "base_numbering": 1,
   "nav_menu": {},
   "number_sections": true,
   "sideBar": true,
   "skip_h1_title": false,
   "title_cell": "Table of Contents",
   "title_sidebar": "Contents",
   "toc_cell": false,
   "toc_position": {},
   "toc_section_display": true,
   "toc_window_display": false
  },
  "varInspector": {
   "cols": {
    "lenName": 16,
    "lenType": 16,
    "lenVar": 40
   },
   "kernels_config": {
    "python": {
     "delete_cmd_postfix": "",
     "delete_cmd_prefix": "del ",
     "library": "var_list.py",
     "varRefreshCmd": "print(var_dic_list())"
    },
    "r": {
     "delete_cmd_postfix": ") ",
     "delete_cmd_prefix": "rm(",
     "library": "var_list.r",
     "varRefreshCmd": "cat(var_dic_list()) "
    }
   },
   "types_to_exclude": [
    "module",
    "function",
    "builtin_function_or_method",
    "instance",
    "_Feature"
   ],
   "window_display": false
  }
 },
 "nbformat": 4,
 "nbformat_minor": 5
}
