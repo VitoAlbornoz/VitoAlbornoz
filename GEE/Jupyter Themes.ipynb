{
 "cells": [
  {
   "cell_type": "code",
   "execution_count": 2,
   "id": "bc491d6c",
   "metadata": {
    "ExecuteTime": {
     "end_time": "2022-08-30T18:58:19.630806Z",
     "start_time": "2022-08-30T18:58:10.282205Z"
    },
    "scrolled": false
   },
   "outputs": [
    {
     "name": "stdout",
     "output_type": "stream",
     "text": [
      "Collecting jupyterthemes\n",
      "  Using cached jupyterthemes-0.20.0-py2.py3-none-any.whl (7.0 MB)\n",
      "Collecting lesscpy>=0.11.2\n",
      "  Using cached lesscpy-0.15.0-py2.py3-none-any.whl (46 kB)\n",
      "Requirement already satisfied: ipython>=5.4.1 in /home/paysen/anaconda3/envs/gee/lib/python3.8/site-packages (from jupyterthemes) (8.4.0)\n",
      "Requirement already satisfied: notebook>=5.6.0 in /home/paysen/anaconda3/envs/gee/lib/python3.8/site-packages (from jupyterthemes) (6.4.12)\n",
      "Requirement already satisfied: matplotlib>=1.4.3 in /home/paysen/anaconda3/envs/gee/lib/python3.8/site-packages (from jupyterthemes) (3.5.3)\n",
      "Requirement already satisfied: jupyter-core in /home/paysen/anaconda3/envs/gee/lib/python3.8/site-packages (from jupyterthemes) (4.11.1)\n",
      "Requirement already satisfied: traitlets>=5 in /home/paysen/anaconda3/envs/gee/lib/python3.8/site-packages (from ipython>=5.4.1->jupyterthemes) (5.3.0)\n",
      "Requirement already satisfied: matplotlib-inline in /home/paysen/anaconda3/envs/gee/lib/python3.8/site-packages (from ipython>=5.4.1->jupyterthemes) (0.1.6)\n",
      "Requirement already satisfied: stack-data in /home/paysen/anaconda3/envs/gee/lib/python3.8/site-packages (from ipython>=5.4.1->jupyterthemes) (0.4.0)\n",
      "Requirement already satisfied: setuptools>=18.5 in /home/paysen/anaconda3/envs/gee/lib/python3.8/site-packages (from ipython>=5.4.1->jupyterthemes) (65.2.0)\n",
      "Requirement already satisfied: pygments>=2.4.0 in /home/paysen/anaconda3/envs/gee/lib/python3.8/site-packages (from ipython>=5.4.1->jupyterthemes) (2.13.0)\n",
      "Requirement already satisfied: jedi>=0.16 in /home/paysen/anaconda3/envs/gee/lib/python3.8/site-packages (from ipython>=5.4.1->jupyterthemes) (0.18.1)\n",
      "Requirement already satisfied: pickleshare in /home/paysen/anaconda3/envs/gee/lib/python3.8/site-packages (from ipython>=5.4.1->jupyterthemes) (0.7.5)\n",
      "Requirement already satisfied: decorator in /home/paysen/anaconda3/envs/gee/lib/python3.8/site-packages (from ipython>=5.4.1->jupyterthemes) (5.1.1)\n",
      "Requirement already satisfied: pexpect>4.3 in /home/paysen/anaconda3/envs/gee/lib/python3.8/site-packages (from ipython>=5.4.1->jupyterthemes) (4.8.0)\n",
      "Requirement already satisfied: prompt-toolkit!=3.0.0,!=3.0.1,<3.1.0,>=2.0.0 in /home/paysen/anaconda3/envs/gee/lib/python3.8/site-packages (from ipython>=5.4.1->jupyterthemes) (3.0.30)\n",
      "Requirement already satisfied: backcall in /home/paysen/anaconda3/envs/gee/lib/python3.8/site-packages (from ipython>=5.4.1->jupyterthemes) (0.2.0)\n",
      "Requirement already satisfied: six in /home/paysen/anaconda3/envs/gee/lib/python3.8/site-packages (from lesscpy>=0.11.2->jupyterthemes) (1.16.0)\n",
      "Collecting ply\n",
      "  Using cached ply-3.11-py2.py3-none-any.whl (49 kB)\n",
      "Requirement already satisfied: pillow>=6.2.0 in /home/paysen/anaconda3/envs/gee/lib/python3.8/site-packages (from matplotlib>=1.4.3->jupyterthemes) (9.2.0)\n",
      "Requirement already satisfied: pyparsing>=2.2.1 in /home/paysen/anaconda3/envs/gee/lib/python3.8/site-packages (from matplotlib>=1.4.3->jupyterthemes) (3.0.9)\n",
      "Requirement already satisfied: packaging>=20.0 in /home/paysen/anaconda3/envs/gee/lib/python3.8/site-packages (from matplotlib>=1.4.3->jupyterthemes) (21.3)\n",
      "Requirement already satisfied: numpy>=1.17 in /home/paysen/anaconda3/envs/gee/lib/python3.8/site-packages (from matplotlib>=1.4.3->jupyterthemes) (1.23.2)\n",
      "Requirement already satisfied: fonttools>=4.22.0 in /home/paysen/anaconda3/envs/gee/lib/python3.8/site-packages (from matplotlib>=1.4.3->jupyterthemes) (4.36.0)\n",
      "Requirement already satisfied: kiwisolver>=1.0.1 in /home/paysen/anaconda3/envs/gee/lib/python3.8/site-packages (from matplotlib>=1.4.3->jupyterthemes) (1.4.4)\n",
      "Requirement already satisfied: cycler>=0.10 in /home/paysen/anaconda3/envs/gee/lib/python3.8/site-packages (from matplotlib>=1.4.3->jupyterthemes) (0.11.0)\n",
      "Requirement already satisfied: python-dateutil>=2.7 in /home/paysen/anaconda3/envs/gee/lib/python3.8/site-packages (from matplotlib>=1.4.3->jupyterthemes) (2.8.2)\n",
      "Requirement already satisfied: ipython-genutils in /home/paysen/anaconda3/envs/gee/lib/python3.8/site-packages (from notebook>=5.6.0->jupyterthemes) (0.2.0)\n",
      "Requirement already satisfied: tornado>=6.1 in /home/paysen/anaconda3/envs/gee/lib/python3.8/site-packages (from notebook>=5.6.0->jupyterthemes) (6.2)\n",
      "Requirement already satisfied: nbformat in /home/paysen/anaconda3/envs/gee/lib/python3.8/site-packages (from notebook>=5.6.0->jupyterthemes) (5.4.0)\n",
      "Requirement already satisfied: ipykernel in /home/paysen/anaconda3/envs/gee/lib/python3.8/site-packages (from notebook>=5.6.0->jupyterthemes) (6.15.1)\n",
      "Requirement already satisfied: jupyter-client>=5.3.4 in /home/paysen/anaconda3/envs/gee/lib/python3.8/site-packages (from notebook>=5.6.0->jupyterthemes) (7.3.4)\n",
      "Requirement already satisfied: nbconvert>=5 in /home/paysen/anaconda3/envs/gee/lib/python3.8/site-packages (from notebook>=5.6.0->jupyterthemes) (6.5.3)\n",
      "Requirement already satisfied: nest-asyncio>=1.5 in /home/paysen/anaconda3/envs/gee/lib/python3.8/site-packages (from notebook>=5.6.0->jupyterthemes) (1.5.5)\n",
      "Requirement already satisfied: prometheus-client in /home/paysen/anaconda3/envs/gee/lib/python3.8/site-packages (from notebook>=5.6.0->jupyterthemes) (0.14.1)\n",
      "Requirement already satisfied: argon2-cffi in /home/paysen/anaconda3/envs/gee/lib/python3.8/site-packages (from notebook>=5.6.0->jupyterthemes) (21.3.0)\n",
      "Requirement already satisfied: jinja2 in /home/paysen/anaconda3/envs/gee/lib/python3.8/site-packages (from notebook>=5.6.0->jupyterthemes) (3.1.2)\n",
      "Requirement already satisfied: pyzmq>=17 in /home/paysen/anaconda3/envs/gee/lib/python3.8/site-packages (from notebook>=5.6.0->jupyterthemes) (23.2.1)\n",
      "Requirement already satisfied: Send2Trash>=1.8.0 in /home/paysen/anaconda3/envs/gee/lib/python3.8/site-packages (from notebook>=5.6.0->jupyterthemes) (1.8.0)\n",
      "Requirement already satisfied: terminado>=0.8.3 in /home/paysen/anaconda3/envs/gee/lib/python3.8/site-packages (from notebook>=5.6.0->jupyterthemes) (0.15.0)\n",
      "Requirement already satisfied: parso<0.9.0,>=0.8.0 in /home/paysen/anaconda3/envs/gee/lib/python3.8/site-packages (from jedi>=0.16->ipython>=5.4.1->jupyterthemes) (0.8.3)\n",
      "Requirement already satisfied: entrypoints in /home/paysen/anaconda3/envs/gee/lib/python3.8/site-packages (from jupyter-client>=5.3.4->notebook>=5.6.0->jupyterthemes) (0.4)\n",
      "Requirement already satisfied: beautifulsoup4 in /home/paysen/anaconda3/envs/gee/lib/python3.8/site-packages (from nbconvert>=5->notebook>=5.6.0->jupyterthemes) (4.11.1)\n",
      "Requirement already satisfied: nbclient>=0.5.0 in /home/paysen/anaconda3/envs/gee/lib/python3.8/site-packages (from nbconvert>=5->notebook>=5.6.0->jupyterthemes) (0.6.6)\n",
      "Requirement already satisfied: pandocfilters>=1.4.1 in /home/paysen/anaconda3/envs/gee/lib/python3.8/site-packages (from nbconvert>=5->notebook>=5.6.0->jupyterthemes) (1.5.0)\n",
      "Requirement already satisfied: bleach in /home/paysen/anaconda3/envs/gee/lib/python3.8/site-packages (from nbconvert>=5->notebook>=5.6.0->jupyterthemes) (5.0.1)\n",
      "Requirement already satisfied: tinycss2 in /home/paysen/anaconda3/envs/gee/lib/python3.8/site-packages (from nbconvert>=5->notebook>=5.6.0->jupyterthemes) (1.1.1)\n",
      "Requirement already satisfied: jupyterlab-pygments in /home/paysen/anaconda3/envs/gee/lib/python3.8/site-packages (from nbconvert>=5->notebook>=5.6.0->jupyterthemes) (0.2.2)\n",
      "Requirement already satisfied: mistune<2,>=0.8.1 in /home/paysen/anaconda3/envs/gee/lib/python3.8/site-packages (from nbconvert>=5->notebook>=5.6.0->jupyterthemes) (0.8.4)\n",
      "Requirement already satisfied: lxml in /home/paysen/anaconda3/envs/gee/lib/python3.8/site-packages (from nbconvert>=5->notebook>=5.6.0->jupyterthemes) (4.9.1)\n",
      "Requirement already satisfied: MarkupSafe>=2.0 in /home/paysen/anaconda3/envs/gee/lib/python3.8/site-packages (from nbconvert>=5->notebook>=5.6.0->jupyterthemes) (2.1.1)\n",
      "Requirement already satisfied: defusedxml in /home/paysen/anaconda3/envs/gee/lib/python3.8/site-packages (from nbconvert>=5->notebook>=5.6.0->jupyterthemes) (0.7.1)\n",
      "Requirement already satisfied: fastjsonschema in /home/paysen/anaconda3/envs/gee/lib/python3.8/site-packages (from nbformat->notebook>=5.6.0->jupyterthemes) (2.16.1)\n",
      "Requirement already satisfied: jsonschema>=2.6 in /home/paysen/anaconda3/envs/gee/lib/python3.8/site-packages (from nbformat->notebook>=5.6.0->jupyterthemes) (4.14.0)\n",
      "Requirement already satisfied: ptyprocess>=0.5 in /home/paysen/anaconda3/envs/gee/lib/python3.8/site-packages (from pexpect>4.3->ipython>=5.4.1->jupyterthemes) (0.7.0)\n"
     ]
    },
    {
     "name": "stdout",
     "output_type": "stream",
     "text": [
      "Requirement already satisfied: wcwidth in /home/paysen/anaconda3/envs/gee/lib/python3.8/site-packages (from prompt-toolkit!=3.0.0,!=3.0.1,<3.1.0,>=2.0.0->ipython>=5.4.1->jupyterthemes) (0.2.5)\n",
      "Requirement already satisfied: argon2-cffi-bindings in /home/paysen/anaconda3/envs/gee/lib/python3.8/site-packages (from argon2-cffi->notebook>=5.6.0->jupyterthemes) (21.2.0)\n",
      "Requirement already satisfied: psutil in /home/paysen/anaconda3/envs/gee/lib/python3.8/site-packages (from ipykernel->notebook>=5.6.0->jupyterthemes) (5.9.1)\n",
      "Requirement already satisfied: debugpy>=1.0 in /home/paysen/anaconda3/envs/gee/lib/python3.8/site-packages (from ipykernel->notebook>=5.6.0->jupyterthemes) (1.6.3)\n",
      "Requirement already satisfied: asttokens in /home/paysen/anaconda3/envs/gee/lib/python3.8/site-packages (from stack-data->ipython>=5.4.1->jupyterthemes) (2.0.8)\n",
      "Requirement already satisfied: pure-eval in /home/paysen/anaconda3/envs/gee/lib/python3.8/site-packages (from stack-data->ipython>=5.4.1->jupyterthemes) (0.2.2)\n",
      "Requirement already satisfied: executing in /home/paysen/anaconda3/envs/gee/lib/python3.8/site-packages (from stack-data->ipython>=5.4.1->jupyterthemes) (0.10.0)\n",
      "Requirement already satisfied: importlib-resources>=1.4.0 in /home/paysen/anaconda3/envs/gee/lib/python3.8/site-packages (from jsonschema>=2.6->nbformat->notebook>=5.6.0->jupyterthemes) (5.9.0)\n",
      "Requirement already satisfied: attrs>=17.4.0 in /home/paysen/anaconda3/envs/gee/lib/python3.8/site-packages (from jsonschema>=2.6->nbformat->notebook>=5.6.0->jupyterthemes) (22.1.0)\n",
      "Requirement already satisfied: pyrsistent!=0.17.0,!=0.17.1,!=0.17.2,>=0.14.0 in /home/paysen/anaconda3/envs/gee/lib/python3.8/site-packages (from jsonschema>=2.6->nbformat->notebook>=5.6.0->jupyterthemes) (0.18.1)\n",
      "Requirement already satisfied: pkgutil-resolve-name>=1.3.10 in /home/paysen/anaconda3/envs/gee/lib/python3.8/site-packages (from jsonschema>=2.6->nbformat->notebook>=5.6.0->jupyterthemes) (1.3.10)\n",
      "Requirement already satisfied: cffi>=1.0.1 in /home/paysen/anaconda3/envs/gee/lib/python3.8/site-packages (from argon2-cffi-bindings->argon2-cffi->notebook>=5.6.0->jupyterthemes) (1.15.1)\n",
      "Requirement already satisfied: soupsieve>1.2 in /home/paysen/anaconda3/envs/gee/lib/python3.8/site-packages (from beautifulsoup4->nbconvert>=5->notebook>=5.6.0->jupyterthemes) (2.3.2.post1)\n",
      "Requirement already satisfied: webencodings in /home/paysen/anaconda3/envs/gee/lib/python3.8/site-packages (from bleach->nbconvert>=5->notebook>=5.6.0->jupyterthemes) (0.5.1)\n",
      "Requirement already satisfied: pycparser in /home/paysen/anaconda3/envs/gee/lib/python3.8/site-packages (from cffi>=1.0.1->argon2-cffi-bindings->argon2-cffi->notebook>=5.6.0->jupyterthemes) (2.21)\n",
      "Requirement already satisfied: zipp>=3.1.0 in /home/paysen/anaconda3/envs/gee/lib/python3.8/site-packages (from importlib-resources>=1.4.0->jsonschema>=2.6->nbformat->notebook>=5.6.0->jupyterthemes) (3.8.1)\n",
      "Installing collected packages: ply, lesscpy, jupyterthemes\n",
      "Successfully installed jupyterthemes-0.20.0 lesscpy-0.15.0 ply-3.11\n"
     ]
    }
   ],
   "source": [
    "!pip install jupyterthemes"
   ]
  },
  {
   "cell_type": "code",
   "execution_count": 26,
   "id": "6fbb2173",
   "metadata": {
    "ExecuteTime": {
     "end_time": "2022-08-30T19:36:29.915606Z",
     "start_time": "2022-08-30T19:36:22.511935Z"
    }
   },
   "outputs": [
    {
     "name": "stdout",
     "output_type": "stream",
     "text": [
      "Requirement already satisfied: jupyterthemes in /home/paysen/anaconda3/envs/gee/lib/python3.8/site-packages (0.20.0)\n",
      "Requirement already satisfied: jupyter-core in /home/paysen/anaconda3/envs/gee/lib/python3.8/site-packages (from jupyterthemes) (4.11.1)\n",
      "Requirement already satisfied: lesscpy>=0.11.2 in /home/paysen/anaconda3/envs/gee/lib/python3.8/site-packages (from jupyterthemes) (0.15.0)\n",
      "Requirement already satisfied: notebook>=5.6.0 in /home/paysen/anaconda3/envs/gee/lib/python3.8/site-packages (from jupyterthemes) (6.4.12)\n",
      "Requirement already satisfied: ipython>=5.4.1 in /home/paysen/anaconda3/envs/gee/lib/python3.8/site-packages (from jupyterthemes) (8.4.0)\n",
      "Requirement already satisfied: matplotlib>=1.4.3 in /home/paysen/anaconda3/envs/gee/lib/python3.8/site-packages (from jupyterthemes) (3.5.3)\n",
      "Requirement already satisfied: pygments>=2.4.0 in /home/paysen/anaconda3/envs/gee/lib/python3.8/site-packages (from ipython>=5.4.1->jupyterthemes) (2.13.0)\n",
      "Requirement already satisfied: matplotlib-inline in /home/paysen/anaconda3/envs/gee/lib/python3.8/site-packages (from ipython>=5.4.1->jupyterthemes) (0.1.6)\n",
      "Requirement already satisfied: setuptools>=18.5 in /home/paysen/anaconda3/envs/gee/lib/python3.8/site-packages (from ipython>=5.4.1->jupyterthemes) (65.2.0)\n",
      "Requirement already satisfied: prompt-toolkit!=3.0.0,!=3.0.1,<3.1.0,>=2.0.0 in /home/paysen/anaconda3/envs/gee/lib/python3.8/site-packages (from ipython>=5.4.1->jupyterthemes) (3.0.30)\n",
      "Requirement already satisfied: jedi>=0.16 in /home/paysen/anaconda3/envs/gee/lib/python3.8/site-packages (from ipython>=5.4.1->jupyterthemes) (0.18.1)\n",
      "Requirement already satisfied: stack-data in /home/paysen/anaconda3/envs/gee/lib/python3.8/site-packages (from ipython>=5.4.1->jupyterthemes) (0.4.0)\n",
      "Requirement already satisfied: traitlets>=5 in /home/paysen/anaconda3/envs/gee/lib/python3.8/site-packages (from ipython>=5.4.1->jupyterthemes) (5.3.0)\n",
      "Requirement already satisfied: backcall in /home/paysen/anaconda3/envs/gee/lib/python3.8/site-packages (from ipython>=5.4.1->jupyterthemes) (0.2.0)\n",
      "Requirement already satisfied: pickleshare in /home/paysen/anaconda3/envs/gee/lib/python3.8/site-packages (from ipython>=5.4.1->jupyterthemes) (0.7.5)\n",
      "Requirement already satisfied: decorator in /home/paysen/anaconda3/envs/gee/lib/python3.8/site-packages (from ipython>=5.4.1->jupyterthemes) (5.1.1)\n",
      "Requirement already satisfied: pexpect>4.3 in /home/paysen/anaconda3/envs/gee/lib/python3.8/site-packages (from ipython>=5.4.1->jupyterthemes) (4.8.0)\n",
      "Requirement already satisfied: ply in /home/paysen/anaconda3/envs/gee/lib/python3.8/site-packages (from lesscpy>=0.11.2->jupyterthemes) (3.11)\n",
      "Requirement already satisfied: six in /home/paysen/anaconda3/envs/gee/lib/python3.8/site-packages (from lesscpy>=0.11.2->jupyterthemes) (1.16.0)\n",
      "Requirement already satisfied: numpy>=1.17 in /home/paysen/anaconda3/envs/gee/lib/python3.8/site-packages (from matplotlib>=1.4.3->jupyterthemes) (1.23.2)\n",
      "Requirement already satisfied: packaging>=20.0 in /home/paysen/anaconda3/envs/gee/lib/python3.8/site-packages (from matplotlib>=1.4.3->jupyterthemes) (21.3)\n",
      "Requirement already satisfied: pyparsing>=2.2.1 in /home/paysen/anaconda3/envs/gee/lib/python3.8/site-packages (from matplotlib>=1.4.3->jupyterthemes) (3.0.9)\n",
      "Requirement already satisfied: cycler>=0.10 in /home/paysen/anaconda3/envs/gee/lib/python3.8/site-packages (from matplotlib>=1.4.3->jupyterthemes) (0.11.0)\n",
      "Requirement already satisfied: fonttools>=4.22.0 in /home/paysen/anaconda3/envs/gee/lib/python3.8/site-packages (from matplotlib>=1.4.3->jupyterthemes) (4.36.0)\n",
      "Requirement already satisfied: python-dateutil>=2.7 in /home/paysen/anaconda3/envs/gee/lib/python3.8/site-packages (from matplotlib>=1.4.3->jupyterthemes) (2.8.2)\n",
      "Requirement already satisfied: pillow>=6.2.0 in /home/paysen/anaconda3/envs/gee/lib/python3.8/site-packages (from matplotlib>=1.4.3->jupyterthemes) (9.2.0)\n",
      "Requirement already satisfied: kiwisolver>=1.0.1 in /home/paysen/anaconda3/envs/gee/lib/python3.8/site-packages (from matplotlib>=1.4.3->jupyterthemes) (1.4.4)\n",
      "Requirement already satisfied: argon2-cffi in /home/paysen/anaconda3/envs/gee/lib/python3.8/site-packages (from notebook>=5.6.0->jupyterthemes) (21.3.0)\n",
      "Requirement already satisfied: pyzmq>=17 in /home/paysen/anaconda3/envs/gee/lib/python3.8/site-packages (from notebook>=5.6.0->jupyterthemes) (23.2.1)\n",
      "Requirement already satisfied: prometheus-client in /home/paysen/anaconda3/envs/gee/lib/python3.8/site-packages (from notebook>=5.6.0->jupyterthemes) (0.14.1)\n",
      "Requirement already satisfied: jupyter-client>=5.3.4 in /home/paysen/anaconda3/envs/gee/lib/python3.8/site-packages (from notebook>=5.6.0->jupyterthemes) (7.3.4)\n",
      "Requirement already satisfied: nbconvert>=5 in /home/paysen/anaconda3/envs/gee/lib/python3.8/site-packages (from notebook>=5.6.0->jupyterthemes) (6.5.3)\n",
      "Requirement already satisfied: tornado>=6.1 in /home/paysen/anaconda3/envs/gee/lib/python3.8/site-packages (from notebook>=5.6.0->jupyterthemes) (6.2)\n",
      "Requirement already satisfied: jinja2 in /home/paysen/anaconda3/envs/gee/lib/python3.8/site-packages (from notebook>=5.6.0->jupyterthemes) (3.1.2)\n",
      "Requirement already satisfied: ipython-genutils in /home/paysen/anaconda3/envs/gee/lib/python3.8/site-packages (from notebook>=5.6.0->jupyterthemes) (0.2.0)\n",
      "Requirement already satisfied: nbformat in /home/paysen/anaconda3/envs/gee/lib/python3.8/site-packages (from notebook>=5.6.0->jupyterthemes) (5.4.0)\n",
      "Requirement already satisfied: ipykernel in /home/paysen/anaconda3/envs/gee/lib/python3.8/site-packages (from notebook>=5.6.0->jupyterthemes) (6.15.1)\n",
      "Requirement already satisfied: terminado>=0.8.3 in /home/paysen/anaconda3/envs/gee/lib/python3.8/site-packages (from notebook>=5.6.0->jupyterthemes) (0.15.0)\n",
      "Requirement already satisfied: nest-asyncio>=1.5 in /home/paysen/anaconda3/envs/gee/lib/python3.8/site-packages (from notebook>=5.6.0->jupyterthemes) (1.5.5)\n",
      "Requirement already satisfied: Send2Trash>=1.8.0 in /home/paysen/anaconda3/envs/gee/lib/python3.8/site-packages (from notebook>=5.6.0->jupyterthemes) (1.8.0)\n",
      "Requirement already satisfied: parso<0.9.0,>=0.8.0 in /home/paysen/anaconda3/envs/gee/lib/python3.8/site-packages (from jedi>=0.16->ipython>=5.4.1->jupyterthemes) (0.8.3)\n",
      "Requirement already satisfied: entrypoints in /home/paysen/anaconda3/envs/gee/lib/python3.8/site-packages (from jupyter-client>=5.3.4->notebook>=5.6.0->jupyterthemes) (0.4)\n",
      "Requirement already satisfied: MarkupSafe>=2.0 in /home/paysen/anaconda3/envs/gee/lib/python3.8/site-packages (from nbconvert>=5->notebook>=5.6.0->jupyterthemes) (2.1.1)\n",
      "Requirement already satisfied: tinycss2 in /home/paysen/anaconda3/envs/gee/lib/python3.8/site-packages (from nbconvert>=5->notebook>=5.6.0->jupyterthemes) (1.1.1)\n",
      "Requirement already satisfied: beautifulsoup4 in /home/paysen/anaconda3/envs/gee/lib/python3.8/site-packages (from nbconvert>=5->notebook>=5.6.0->jupyterthemes) (4.11.1)\n",
      "Requirement already satisfied: defusedxml in /home/paysen/anaconda3/envs/gee/lib/python3.8/site-packages (from nbconvert>=5->notebook>=5.6.0->jupyterthemes) (0.7.1)\n",
      "Requirement already satisfied: mistune<2,>=0.8.1 in /home/paysen/anaconda3/envs/gee/lib/python3.8/site-packages (from nbconvert>=5->notebook>=5.6.0->jupyterthemes) (0.8.4)\n",
      "Requirement already satisfied: pandocfilters>=1.4.1 in /home/paysen/anaconda3/envs/gee/lib/python3.8/site-packages (from nbconvert>=5->notebook>=5.6.0->jupyterthemes) (1.5.0)\n",
      "Requirement already satisfied: jupyterlab-pygments in /home/paysen/anaconda3/envs/gee/lib/python3.8/site-packages (from nbconvert>=5->notebook>=5.6.0->jupyterthemes) (0.2.2)\n",
      "Requirement already satisfied: lxml in /home/paysen/anaconda3/envs/gee/lib/python3.8/site-packages (from nbconvert>=5->notebook>=5.6.0->jupyterthemes) (4.9.1)\n",
      "Requirement already satisfied: nbclient>=0.5.0 in /home/paysen/anaconda3/envs/gee/lib/python3.8/site-packages (from nbconvert>=5->notebook>=5.6.0->jupyterthemes) (0.6.6)\n",
      "Requirement already satisfied: bleach in /home/paysen/anaconda3/envs/gee/lib/python3.8/site-packages (from nbconvert>=5->notebook>=5.6.0->jupyterthemes) (5.0.1)\n",
      "Requirement already satisfied: fastjsonschema in /home/paysen/anaconda3/envs/gee/lib/python3.8/site-packages (from nbformat->notebook>=5.6.0->jupyterthemes) (2.16.1)\n",
      "Requirement already satisfied: jsonschema>=2.6 in /home/paysen/anaconda3/envs/gee/lib/python3.8/site-packages (from nbformat->notebook>=5.6.0->jupyterthemes) (4.14.0)\n",
      "Requirement already satisfied: ptyprocess>=0.5 in /home/paysen/anaconda3/envs/gee/lib/python3.8/site-packages (from pexpect>4.3->ipython>=5.4.1->jupyterthemes) (0.7.0)\n"
     ]
    },
    {
     "name": "stdout",
     "output_type": "stream",
     "text": [
      "Requirement already satisfied: wcwidth in /home/paysen/anaconda3/envs/gee/lib/python3.8/site-packages (from prompt-toolkit!=3.0.0,!=3.0.1,<3.1.0,>=2.0.0->ipython>=5.4.1->jupyterthemes) (0.2.5)\n",
      "Requirement already satisfied: argon2-cffi-bindings in /home/paysen/anaconda3/envs/gee/lib/python3.8/site-packages (from argon2-cffi->notebook>=5.6.0->jupyterthemes) (21.2.0)\n",
      "Requirement already satisfied: psutil in /home/paysen/anaconda3/envs/gee/lib/python3.8/site-packages (from ipykernel->notebook>=5.6.0->jupyterthemes) (5.9.1)\n",
      "Requirement already satisfied: debugpy>=1.0 in /home/paysen/anaconda3/envs/gee/lib/python3.8/site-packages (from ipykernel->notebook>=5.6.0->jupyterthemes) (1.6.3)\n",
      "Requirement already satisfied: asttokens in /home/paysen/anaconda3/envs/gee/lib/python3.8/site-packages (from stack-data->ipython>=5.4.1->jupyterthemes) (2.0.8)\n",
      "Requirement already satisfied: pure-eval in /home/paysen/anaconda3/envs/gee/lib/python3.8/site-packages (from stack-data->ipython>=5.4.1->jupyterthemes) (0.2.2)\n",
      "Requirement already satisfied: executing in /home/paysen/anaconda3/envs/gee/lib/python3.8/site-packages (from stack-data->ipython>=5.4.1->jupyterthemes) (0.10.0)\n",
      "Requirement already satisfied: attrs>=17.4.0 in /home/paysen/anaconda3/envs/gee/lib/python3.8/site-packages (from jsonschema>=2.6->nbformat->notebook>=5.6.0->jupyterthemes) (22.1.0)\n",
      "Requirement already satisfied: importlib-resources>=1.4.0 in /home/paysen/anaconda3/envs/gee/lib/python3.8/site-packages (from jsonschema>=2.6->nbformat->notebook>=5.6.0->jupyterthemes) (5.9.0)\n",
      "Requirement already satisfied: pyrsistent!=0.17.0,!=0.17.1,!=0.17.2,>=0.14.0 in /home/paysen/anaconda3/envs/gee/lib/python3.8/site-packages (from jsonschema>=2.6->nbformat->notebook>=5.6.0->jupyterthemes) (0.18.1)\n",
      "Requirement already satisfied: pkgutil-resolve-name>=1.3.10 in /home/paysen/anaconda3/envs/gee/lib/python3.8/site-packages (from jsonschema>=2.6->nbformat->notebook>=5.6.0->jupyterthemes) (1.3.10)\n",
      "Requirement already satisfied: cffi>=1.0.1 in /home/paysen/anaconda3/envs/gee/lib/python3.8/site-packages (from argon2-cffi-bindings->argon2-cffi->notebook>=5.6.0->jupyterthemes) (1.15.1)\n",
      "Requirement already satisfied: soupsieve>1.2 in /home/paysen/anaconda3/envs/gee/lib/python3.8/site-packages (from beautifulsoup4->nbconvert>=5->notebook>=5.6.0->jupyterthemes) (2.3.2.post1)\n",
      "Requirement already satisfied: webencodings in /home/paysen/anaconda3/envs/gee/lib/python3.8/site-packages (from bleach->nbconvert>=5->notebook>=5.6.0->jupyterthemes) (0.5.1)\n",
      "Requirement already satisfied: pycparser in /home/paysen/anaconda3/envs/gee/lib/python3.8/site-packages (from cffi>=1.0.1->argon2-cffi-bindings->argon2-cffi->notebook>=5.6.0->jupyterthemes) (2.21)\n",
      "Requirement already satisfied: zipp>=3.1.0 in /home/paysen/anaconda3/envs/gee/lib/python3.8/site-packages (from importlib-resources>=1.4.0->jsonschema>=2.6->nbformat->notebook>=5.6.0->jupyterthemes) (3.8.1)\n"
     ]
    }
   ],
   "source": [
    "!pip install --upgrade jupyterthemes"
   ]
  },
  {
   "cell_type": "code",
   "execution_count": null,
   "id": "f0f14564",
   "metadata": {},
   "outputs": [],
   "source": []
  },
  {
   "cell_type": "code",
   "execution_count": 15,
   "id": "3cb6029e",
   "metadata": {
    "ExecuteTime": {
     "end_time": "2022-08-30T19:30:01.059419Z",
     "start_time": "2022-08-30T19:30:00.399719Z"
    },
    "scrolled": true
   },
   "outputs": [
    {
     "name": "stdout",
     "output_type": "stream",
     "text": [
      "Available Themes: \r\n",
      "   chesterish\r\n",
      "   grade3\r\n",
      "   gruvboxd\r\n",
      "   gruvboxl\r\n",
      "   monokai\r\n",
      "   oceans16\r\n",
      "   onedork\r\n",
      "   solarizedd\r\n",
      "   solarizedl\r\n"
     ]
    }
   ],
   "source": [
    "!jt -l"
   ]
  },
  {
   "cell_type": "code",
   "execution_count": 3,
   "id": "d9d027ef",
   "metadata": {
    "ExecuteTime": {
     "end_time": "2021-09-09T14:21:52.174254Z",
     "start_time": "2021-09-09T14:21:51.307875Z"
    }
   },
   "outputs": [],
   "source": [
    "!jt -t oceans16 -cellw 75% -T -N"
   ]
  },
  {
   "cell_type": "code",
   "execution_count": 2,
   "id": "01719d51",
   "metadata": {
    "ExecuteTime": {
     "end_time": "2021-09-09T14:21:25.087816Z",
     "start_time": "2021-09-09T14:21:24.211163Z"
    }
   },
   "outputs": [],
   "source": [
    "!jt -t onedork -cellw 75% -T -N"
   ]
  },
  {
   "cell_type": "code",
   "execution_count": 25,
   "id": "ed433bdf",
   "metadata": {
    "ExecuteTime": {
     "end_time": "2022-08-30T19:35:07.065668Z",
     "start_time": "2022-08-30T19:35:06.399528Z"
    }
   },
   "outputs": [
    {
     "name": "stdout",
     "output_type": "stream",
     "text": [
      "\r\n",
      "\tOne of the fonts you requested is not available\r\n",
      "\tSetting all fonts to default\r\n",
      "Traceback (most recent call last):\r\n",
      "  File \"/home/paysen/anaconda3/envs/gee/bin/jt\", line 8, in <module>\r\n",
      "    sys.exit(main())\r\n",
      "  File \"/home/paysen/anaconda3/envs/gee/lib/python3.8/site-packages/jupyterthemes/__init__.py\", line 290, in main\r\n",
      "    install_theme(\r\n",
      "  File \"/home/paysen/anaconda3/envs/gee/lib/python3.8/site-packages/jupyterthemes/__init__.py\", line 69, in install_theme\r\n",
      "    style_less = stylefx.set_font_properties(\r\n",
      "  File \"/home/paysen/anaconda3/envs/gee/lib/python3.8/site-packages/jupyterthemes/stylefx.py\", line 142, in set_font_properties\r\n",
      "    monofont, monofpath = stored_font_dicts(monofont)\r\n",
      "ValueError: not enough values to unpack (expected 2, got 0)\r\n"
     ]
    }
   ],
   "source": [
    "!jt -t onedork -f monofont -fs 10 -nf ptsans -nfs 11 -N -kl -cursw 5 -cursc r -cellw 75% -T"
   ]
  },
  {
   "cell_type": "code",
   "execution_count": 1,
   "id": "8025c838",
   "metadata": {
    "ExecuteTime": {
     "end_time": "2022-08-30T19:49:19.066281Z",
     "start_time": "2022-08-30T19:49:18.069173Z"
    }
   },
   "outputs": [],
   "source": [
    "!jt -t grade3 -fs 11 -nf ptsans -nfs 11 -N -kl -cursw 5 -cursc r -cellw 75% -T"
   ]
  },
  {
   "cell_type": "code",
   "execution_count": 6,
   "id": "42ed7491",
   "metadata": {},
   "outputs": [
    {
     "name": "stdout",
     "output_type": "stream",
     "text": [
      "Reset css and font defaults in:\r\n",
      "/home/falbornoz/.jupyter/custom &\r\n",
      "/home/falbornoz/.local/share/jupyter/nbextensions\r\n"
     ]
    }
   ],
   "source": [
    "!jt -r"
   ]
  },
  {
   "cell_type": "code",
   "execution_count": 33,
   "id": "f2b8060f",
   "metadata": {
    "ExecuteTime": {
     "end_time": "2022-08-30T19:47:15.164489Z",
     "start_time": "2022-08-30T19:47:14.162225Z"
    }
   },
   "outputs": [],
   "source": [
    "!jt -t grade3 -f droidmono -fs 10 -altp -tfs 11 -nfs 115 -cellw 88% -T"
   ]
  }
 ],
 "metadata": {
  "kernelspec": {
   "display_name": "Python 3 (ipykernel)",
   "language": "python",
   "name": "python3"
  },
  "language_info": {
   "codemirror_mode": {
    "name": "ipython",
    "version": 3
   },
   "file_extension": ".py",
   "mimetype": "text/x-python",
   "name": "python",
   "nbconvert_exporter": "python",
   "pygments_lexer": "ipython3",
   "version": "3.8.13"
  },
  "toc": {
   "base_numbering": 1,
   "nav_menu": {},
   "number_sections": true,
   "sideBar": true,
   "skip_h1_title": false,
   "title_cell": "Table of Contents",
   "title_sidebar": "Contents",
   "toc_cell": false,
   "toc_position": {
    "height": "calc(100% - 180px)",
    "left": "10px",
    "top": "150px",
    "width": "329px"
   },
   "toc_section_display": true,
   "toc_window_display": true
  },
  "varInspector": {
   "cols": {
    "lenName": 16,
    "lenType": 16,
    "lenVar": 40
   },
   "kernels_config": {
    "python": {
     "delete_cmd_postfix": "",
     "delete_cmd_prefix": "del ",
     "library": "var_list.py",
     "varRefreshCmd": "print(var_dic_list())"
    },
    "r": {
     "delete_cmd_postfix": ") ",
     "delete_cmd_prefix": "rm(",
     "library": "var_list.r",
     "varRefreshCmd": "cat(var_dic_list()) "
    }
   },
   "types_to_exclude": [
    "module",
    "function",
    "builtin_function_or_method",
    "instance",
    "_Feature"
   ],
   "window_display": false
  }
 },
 "nbformat": 4,
 "nbformat_minor": 5
}
