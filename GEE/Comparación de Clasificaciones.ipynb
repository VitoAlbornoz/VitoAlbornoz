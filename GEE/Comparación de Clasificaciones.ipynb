{
 "cells": [
  {
   "cell_type": "markdown",
   "id": "f9574012",
   "metadata": {},
   "source": [
    "# Comparación Visual de las clasificaciones Supervisadas Aysén\n",
    "Script trabajado por Francisco Albornoz (2021-05-03 10:47:09  ) / Última modificación / Comparación visual de las clasificaciones supervisadas región de Aysen"
   ]
  },
  {
   "cell_type": "markdown",
   "id": "f46d6b46",
   "metadata": {},
   "source": [
    "<img src=https://www.ecopaysen.cl/wp-content/uploads/2019/12/ecopaysen_marca_web.png>"
   ]
  },
  {
   "cell_type": "markdown",
   "id": "818d3d32",
   "metadata": {},
   "source": [
    "1) Importamos las librerías a utilizar"
   ]
  },
  {
   "cell_type": "code",
   "execution_count": 1,
   "id": "71a6edbc",
   "metadata": {
    "ExecuteTime": {
     "end_time": "2021-09-16T14:08:24.492396Z",
     "start_time": "2021-09-16T14:08:21.938914Z"
    }
   },
   "outputs": [],
   "source": [
    "import os\n",
    "import ee\n",
    "import geemap"
   ]
  },
  {
   "cell_type": "markdown",
   "id": "33201224",
   "metadata": {},
   "source": [
    "## Creamos un mapa interactivo "
   ]
  },
  {
   "cell_type": "markdown",
   "id": "c0ada45b",
   "metadata": {},
   "source": [
    "Para crear un mapa interactivo asignamos a \"Map\" la función geemap.Map() que es la que contendrá el mapa interactivo, por lo que podemos crear varios mapas según nuestra necesidad. Para centrarlo automaticamente en la región de interés agregamos un punto con sus coordenadas para centrar nuestra visualización."
   ]
  },
  {
   "cell_type": "code",
   "execution_count": 2,
   "id": "e6e6c9bf",
   "metadata": {
    "ExecuteTime": {
     "end_time": "2021-09-16T14:08:33.351459Z",
     "start_time": "2021-09-16T14:08:24.493559Z"
    }
   },
   "outputs": [
    {
     "data": {
      "application/vnd.jupyter.widget-view+json": {
       "model_id": "d0a8d485e2b143da8506551889c940ec",
       "version_major": 2,
       "version_minor": 0
      },
      "text/plain": [
       "Map(center=[-45, -72], controls=(WidgetControl(options=['position', 'transparent_bg'], widget=HBox(children=(T…"
      ]
     },
     "metadata": {},
     "output_type": "display_data"
    }
   ],
   "source": [
    "Map = geemap.Map()\n",
    "centroid = ee.Geometry.Point([-72, -45]) #Coordenada de área de interés\n",
    "Map.centerObject(centroid, 8) #Número 8 representa el zoom del mapa\n",
    "Map #activamos el mapa para visualizar"
   ]
  },
  {
   "cell_type": "markdown",
   "id": "8cd1a17c",
   "metadata": {},
   "source": [
    "## Inicializamos los mapas linkeados"
   ]
  },
  {
   "cell_type": "markdown",
   "id": "af453be2",
   "metadata": {},
   "source": [
    "A continuación se mostrará un ejemplo de los mapas linkeados de una imagen de Landsat 8 para la región de Aysén.\n",
    "En diferentes orden de bandas."
   ]
  },
  {
   "cell_type": "code",
   "execution_count": 3,
   "id": "02b23789",
   "metadata": {
    "ExecuteTime": {
     "end_time": "2021-09-16T14:08:33.354080Z",
     "start_time": "2021-09-16T14:08:33.352395Z"
    }
   },
   "outputs": [],
   "source": [
    "geemap.ee_initialize()"
   ]
  },
  {
   "cell_type": "code",
   "execution_count": 4,
   "id": "e741b985",
   "metadata": {
    "ExecuteTime": {
     "end_time": "2021-09-16T14:08:33.358314Z",
     "start_time": "2021-09-16T14:08:33.355675Z"
    }
   },
   "outputs": [],
   "source": [
    "landsat = ee.ImageCollection('LANDSAT/LC08/C01/T1_SR') \\\n",
    "    .filterBounds(centroid) \\\n",
    "    .filterDate('2020-01-01', '2021-03-31') \\\n",
    "    .sort('CLOUD_COVER') \\\n",
    "    .first() \\\n",
    "    .select('B[1-7]')"
   ]
  },
  {
   "cell_type": "code",
   "execution_count": 5,
   "id": "1f3d4eaa",
   "metadata": {
    "ExecuteTime": {
     "end_time": "2021-09-16T14:08:33.362467Z",
     "start_time": "2021-09-16T14:08:33.359113Z"
    }
   },
   "outputs": [],
   "source": [
    "vis_params = [\n",
    "    {'bands': ['B4', 'B3', 'B2'], 'min': 0, 'max': 3000, 'gamma': 1}, \n",
    "    {'bands': ['B6', 'B5', 'B2'], 'min': 0, 'max': 3000, 'gamma': 1},\n",
    "    {'bands': ['B5', 'B4', 'B3'], 'min': 0, 'max': 3000, 'gamma': 1},\n",
    "    {'bands': ['B5', 'B6', 'B4'], 'min': 0, 'max': 3000, 'gamma': 1}\n",
    "]\n",
    "vis_params_mosaico = [\n",
    "    {'bands': ['b3', 'b2', 'b1'], 'min': 0, 'max': 0.2, 'gamma': 1}, \n",
    "    {'bands': ['b7'],'min': 0, 'max': 1, 'palette' : ['0000FF', 'FF0000']},\n",
    "    {'bands': ['b4', 'b3', 'b2'], 'min': 0, 'max': 0.5, 'gamma': 1},\n",
    "    {'bands': ['b6', 'b7', 'b5'], 'min': 0, 'max': 1, 'gamma': 1}\n",
    "]"
   ]
  },
  {
   "cell_type": "code",
   "execution_count": 6,
   "id": "4bda28bd",
   "metadata": {
    "ExecuteTime": {
     "end_time": "2021-09-16T14:08:33.365659Z",
     "start_time": "2021-09-16T14:08:33.363242Z"
    }
   },
   "outputs": [],
   "source": [
    "labels = [\n",
    "    'Natural Color (B4/B3/B2)',\n",
    "    'Agricultura (B6/B5/B2)',\n",
    "    'Color Infrarojo (B5/B4/B3)',\n",
    "    'Masas de agua (B5/B6/B4)'\n",
    "]\n",
    "labelsmosaico = [\n",
    "    'Natural Color (B4/B3/B2)',\n",
    "    'NDVI',\n",
    "    'Color Infrarojo (B5/B4/B3)',\n",
    "    'Vegetación sana'\n",
    "]"
   ]
  },
  {
   "cell_type": "code",
   "execution_count": 7,
   "id": "d1ed7bd7",
   "metadata": {
    "ExecuteTime": {
     "end_time": "2021-09-16T14:08:36.665000Z",
     "start_time": "2021-09-16T14:08:33.366786Z"
    }
   },
   "outputs": [
    {
     "data": {
      "application/vnd.jupyter.widget-view+json": {
       "model_id": "638e3304f1054926a3daf9fbf9c3db19",
       "version_major": 2,
       "version_minor": 0
      },
      "text/plain": [
       "GridspecLayout(children=(Output(layout=Layout(grid_area='widget001')), Output(layout=Layout(grid_area='widget0…"
      ]
     },
     "metadata": {},
     "output_type": "display_data"
    }
   ],
   "source": [
    "geemap.linked_maps(rows=2, cols=2, height=\"400px\", center=[-45, -72], zoom=8, \n",
    "                   ee_objects=[landsat], vis_params=vis_params, labels=labels, label_position=\"topright\")"
   ]
  },
  {
   "cell_type": "markdown",
   "id": "f41b075c",
   "metadata": {},
   "source": [
    "## Inicializamos las clasificaciones "
   ]
  },
  {
   "cell_type": "markdown",
   "id": "1138bd2e",
   "metadata": {},
   "source": [
    "Primero importamos la imagen a clasificar y nuestras áreas de entrenamiento. Para luego extraer los valores a dicha imagen, de esta manera tendremos un vector por pixel que contendrá los valores de las bandas de la imagen landsat a clasificar, más los valores de nuestros set de entrenamientos, para que la clasificación resulte dichos valores deben ser números ya que con palabras o strings el set de comandos no lo reconocerá."
   ]
  },
  {
   "cell_type": "code",
   "execution_count": 8,
   "id": "b5585a8e",
   "metadata": {
    "ExecuteTime": {
     "end_time": "2021-09-16T14:08:37.068715Z",
     "start_time": "2021-09-16T14:08:36.666006Z"
    }
   },
   "outputs": [],
   "source": [
    "mosaico = ee.Image(\"users/franciscoalbornoz/Mosaico_2018\")\n",
    "landsat_vis = {\n",
    "    'min': 0,\n",
    "    'max': 1,\n",
    "    'bands': ['b5', 'b4', 'b3']\n",
    "}\n",
    "Map.addLayer(mosaico, landsat_vis, \"Landsat-8-2018\")"
   ]
  },
  {
   "cell_type": "code",
   "execution_count": 9,
   "id": "8c9edbb6",
   "metadata": {
    "ExecuteTime": {
     "end_time": "2021-09-16T14:08:37.071958Z",
     "start_time": "2021-09-16T14:08:37.069680Z"
    }
   },
   "outputs": [],
   "source": [
    "clas18c = ee.Image(\"users/franciscoalbornoz/clasificacion_18c\")\n"
   ]
  },
  {
   "cell_type": "code",
   "execution_count": 10,
   "id": "7a9302db",
   "metadata": {
    "ExecuteTime": {
     "end_time": "2021-09-16T14:08:37.672286Z",
     "start_time": "2021-09-16T14:08:37.073430Z"
    }
   },
   "outputs": [
    {
     "data": {
      "text/plain": [
       "['b1']"
      ]
     },
     "execution_count": 10,
     "metadata": {},
     "output_type": "execute_result"
    }
   ],
   "source": [
    "clas18c.bandNames().getInfo()"
   ]
  },
  {
   "cell_type": "code",
   "execution_count": 11,
   "id": "e222a1c7",
   "metadata": {
    "ExecuteTime": {
     "end_time": "2021-09-16T14:08:38.029219Z",
     "start_time": "2021-09-16T14:08:37.673141Z"
    }
   },
   "outputs": [
    {
     "data": {
      "text/plain": [
       "['b1', 'b2', 'b3', 'b4', 'b5', 'b6', 'b7', 'b8', 'b9']"
      ]
     },
     "execution_count": 11,
     "metadata": {},
     "output_type": "execute_result"
    }
   ],
   "source": [
    "mosaico.bandNames().getInfo()"
   ]
  },
  {
   "cell_type": "markdown",
   "id": "eaa432da",
   "metadata": {},
   "source": [
    "Importamos nuestros shapes de entrenamiento"
   ]
  },
  {
   "cell_type": "code",
   "execution_count": 12,
   "id": "08cbf7af",
   "metadata": {
    "ExecuteTime": {
     "end_time": "2021-09-16T14:08:38.032079Z",
     "start_time": "2021-09-16T14:08:38.030060Z"
    }
   },
   "outputs": [],
   "source": [
    "work_dir = os.path.expanduser('../Data/shapes/')\n",
    "\n",
    "val_shp= os.path.join(work_dir, 'validacion.shp')\n",
    "merged_original =os.path.join(work_dir,'roi_merged.shp')"
   ]
  },
  {
   "cell_type": "code",
   "execution_count": 13,
   "id": "3384e488",
   "metadata": {
    "ExecuteTime": {
     "end_time": "2021-09-16T14:08:44.380759Z",
     "start_time": "2021-09-16T14:08:38.033395Z"
    }
   },
   "outputs": [],
   "source": [
    "mergedoriginal =geemap.shp_to_ee(merged_original)\n",
    "Map.addLayer(mergedoriginal, {}, 'Áreas de entrenamiento Original')"
   ]
  },
  {
   "cell_type": "markdown",
   "id": "48c6f146",
   "metadata": {},
   "source": [
    "Extraemos los valores de nuetra imagen landsat según nuestras muestras de entrenamiento"
   ]
  },
  {
   "cell_type": "code",
   "execution_count": 14,
   "id": "4ce09069",
   "metadata": {
    "ExecuteTime": {
     "end_time": "2021-09-16T14:08:44.384065Z",
     "start_time": "2021-09-16T14:08:44.382024Z"
    }
   },
   "outputs": [],
   "source": [
    "dataset1 = mosaico.sampleRegions(**{\n",
    "    'collection': mergedoriginal,\n",
    "    'properties': ['ID'],\n",
    "    'scale': 30,\n",
    "})"
   ]
  },
  {
   "cell_type": "code",
   "execution_count": 15,
   "id": "4498a3e6",
   "metadata": {
    "ExecuteTime": {
     "end_time": "2021-09-16T14:08:50.960326Z",
     "start_time": "2021-09-16T14:08:44.385195Z"
    }
   },
   "outputs": [],
   "source": [
    "val = geemap.shp_to_ee(val_shp)\n",
    "Map.addLayer(val, {}, 'Áreas de Validación')"
   ]
  },
  {
   "cell_type": "code",
   "execution_count": 16,
   "id": "a0a47175",
   "metadata": {
    "ExecuteTime": {
     "end_time": "2021-09-16T14:08:50.963415Z",
     "start_time": "2021-09-16T14:08:50.961512Z"
    }
   },
   "outputs": [],
   "source": [
    "datasetval = mosaico.sampleRegions(**{\n",
    "    'collection': val,\n",
    "    'properties': ['ID'],\n",
    "    'scale': 10,\n",
    "})"
   ]
  },
  {
   "cell_type": "code",
   "execution_count": 17,
   "id": "59c59098",
   "metadata": {
    "ExecuteTime": {
     "end_time": "2021-09-16T14:08:50.970904Z",
     "start_time": "2021-09-16T14:08:50.964678Z"
    }
   },
   "outputs": [
    {
     "data": {
      "application/vnd.jupyter.widget-view+json": {
       "model_id": "d0a8d485e2b143da8506551889c940ec",
       "version_major": 2,
       "version_minor": 0
      },
      "text/plain": [
       "Map(center=[-45, -72], controls=(WidgetControl(options=['position', 'transparent_bg'], widget=HBox(children=(T…"
      ]
     },
     "metadata": {},
     "output_type": "display_data"
    }
   ],
   "source": [
    "Map"
   ]
  },
  {
   "cell_type": "code",
   "execution_count": 18,
   "id": "b74e056d",
   "metadata": {
    "ExecuteTime": {
     "end_time": "2021-09-16T14:08:50.973770Z",
     "start_time": "2021-09-16T14:08:50.971912Z"
    }
   },
   "outputs": [],
   "source": [
    "# Guardamos las bandas\n",
    "band = ['B1', 'B2', 'B3', 'B4', 'B5', 'B6', 'B7']\n",
    "bands = ['b1', 'b2', 'b3', 'b4', 'b5', 'b6', 'b7', 'b8', 'b9']\n",
    "# Esta propiedad guarda las clases de landcover\n",
    "label1 ='ID'"
   ]
  },
  {
   "cell_type": "markdown",
   "id": "a8dd8043",
   "metadata": {},
   "source": [
    "### Random Forest"
   ]
  },
  {
   "cell_type": "code",
   "execution_count": 19,
   "id": "8a914d16",
   "metadata": {
    "ExecuteTime": {
     "end_time": "2021-09-16T14:08:50.977055Z",
     "start_time": "2021-09-16T14:08:50.975041Z"
    }
   },
   "outputs": [],
   "source": [
    "classifier100 = ee.Classifier.smileRandomForest(100).train(dataset1, label1, bands) # 100 árboles de desición"
   ]
  },
  {
   "cell_type": "code",
   "execution_count": 20,
   "id": "d7a5843f",
   "metadata": {
    "ExecuteTime": {
     "end_time": "2021-09-16T14:08:50.979989Z",
     "start_time": "2021-09-16T14:08:50.978046Z"
    }
   },
   "outputs": [],
   "source": [
    "resultrandomforest = mosaico.select(bands).classify(classifier100)"
   ]
  },
  {
   "cell_type": "markdown",
   "id": "15597594",
   "metadata": {},
   "source": [
    "### Support Vector Machine"
   ]
  },
  {
   "cell_type": "code",
   "execution_count": 21,
   "id": "4b19f25b",
   "metadata": {
    "ExecuteTime": {
     "end_time": "2021-09-16T14:08:50.983992Z",
     "start_time": "2021-09-16T14:08:50.981268Z"
    }
   },
   "outputs": [],
   "source": [
    "classifiVM = ee.Classifier.libsvm('Voting','C_SVC','RBF', gamma = 1 , cost = 10 )"
   ]
  },
  {
   "cell_type": "code",
   "execution_count": 22,
   "id": "998c5871",
   "metadata": {
    "ExecuteTime": {
     "end_time": "2021-09-16T14:08:50.986689Z",
     "start_time": "2021-09-16T14:08:50.985060Z"
    }
   },
   "outputs": [],
   "source": [
    "entrenamiento = classifiVM.train(dataset1, label1, bands)\n",
    "classifiedVM = mosaico.classify(entrenamiento)"
   ]
  },
  {
   "cell_type": "markdown",
   "id": "00bc7f51",
   "metadata": {},
   "source": [
    "### Clasificación y árboles de Regresión"
   ]
  },
  {
   "cell_type": "code",
   "execution_count": 23,
   "id": "f7e6b1b3",
   "metadata": {
    "ExecuteTime": {
     "end_time": "2021-09-16T14:08:50.989875Z",
     "start_time": "2021-09-16T14:08:50.988034Z"
    }
   },
   "outputs": [],
   "source": [
    "trained1 = ee.Classifier.smileCart().train(dataset1, label1, bands)"
   ]
  },
  {
   "cell_type": "code",
   "execution_count": 24,
   "id": "b9a4048e",
   "metadata": {
    "ExecuteTime": {
     "end_time": "2021-09-16T14:08:50.992571Z",
     "start_time": "2021-09-16T14:08:50.990784Z"
    }
   },
   "outputs": [],
   "source": [
    "classifiedCART = mosaico.select(bands).classify(trained1)"
   ]
  },
  {
   "cell_type": "markdown",
   "id": "5b59eb99",
   "metadata": {},
   "source": [
    "### Mínima Distancia"
   ]
  },
  {
   "cell_type": "code",
   "execution_count": 25,
   "id": "e036decf",
   "metadata": {
    "ExecuteTime": {
     "end_time": "2021-09-16T14:08:50.995530Z",
     "start_time": "2021-09-16T14:08:50.993851Z"
    }
   },
   "outputs": [],
   "source": [
    "classifierMD = ee.Classifier.minimumDistance(\"euclidean\").train(dataset1, label1, bands)"
   ]
  },
  {
   "cell_type": "code",
   "execution_count": 26,
   "id": "9e0288d7",
   "metadata": {
    "ExecuteTime": {
     "end_time": "2021-09-16T14:08:50.998239Z",
     "start_time": "2021-09-16T14:08:50.996614Z"
    }
   },
   "outputs": [],
   "source": [
    "resultMD = mosaico.select(bands).classify(classifierMD)"
   ]
  },
  {
   "cell_type": "markdown",
   "id": "fc85b8b5",
   "metadata": {},
   "source": [
    "### Dando formato a los mapas clasificados"
   ]
  },
  {
   "cell_type": "code",
   "execution_count": 27,
   "id": "4ae518fe",
   "metadata": {
    "ExecuteTime": {
     "end_time": "2021-09-16T14:08:51.001593Z",
     "start_time": "2021-09-16T14:08:50.999513Z"
    }
   },
   "outputs": [],
   "source": [
    "class_values1 = [1,2,3,4,5,6,7,8,9,10,11,12,13,14,15,16,17,18]\n",
    "class_values = [1,2,3,4,5,6,7,8,9,10,11,12,13,14,15,16,18]"
   ]
  },
  {
   "cell_type": "code",
   "execution_count": 28,
   "id": "c48cfeac",
   "metadata": {
    "ExecuteTime": {
     "end_time": "2021-09-16T14:08:51.006894Z",
     "start_time": "2021-09-16T14:08:51.004578Z"
    }
   },
   "outputs": [],
   "source": [
    "class_palette1 = ['22c129',\n",
    " 'f0ff00',\n",
    " '0c40f1',\n",
    " '685205',\n",
    " '0d4404',\n",
    " 'e82d13',\n",
    " 'f99504',\n",
    " '17d4c6',\n",
    " '1c6330',\n",
    " '24ff00',\n",
    " '2de50f',\n",
    " 'ccba7d',\n",
    " 'dec61a',\n",
    " '28d909',\n",
    " '03c2ff',\n",
    " '4e8c44',\n",
    " 'fdfdfd',\n",
    " 'c0c233'\n",
    "]\n",
    "class_palette = ['22c129',\n",
    " 'f0ff00',\n",
    " '0c40f1',\n",
    " '685205',\n",
    " '0d4404',\n",
    " 'e82d13',\n",
    " 'f99504',\n",
    " '17d4c6',\n",
    " '1c6330',\n",
    " '24ff00',\n",
    " '2de50f',\n",
    " 'ccba7d',\n",
    " 'dec61a',\n",
    " '28d909',\n",
    " '03c2ff',\n",
    " '4e8c44',\n",
    " 'c0c233'\n",
    "]"
   ]
  },
  {
   "cell_type": "markdown",
   "id": "28a8e0b8",
   "metadata": {},
   "source": [
    "## Visualizando las clasificaciones"
   ]
  },
  {
   "cell_type": "code",
   "execution_count": 29,
   "id": "36f2dbb1",
   "metadata": {
    "ExecuteTime": {
     "end_time": "2021-09-16T14:08:51.009838Z",
     "start_time": "2021-09-16T14:08:51.008135Z"
    }
   },
   "outputs": [],
   "source": [
    "landcover1 = resultrandomforest.set('classification_class_values', class_values1)\n",
    "landcover1 = landcover1.set('classification_class_palette', class_palette1)"
   ]
  },
  {
   "cell_type": "code",
   "execution_count": 30,
   "id": "27b1dce4",
   "metadata": {
    "ExecuteTime": {
     "end_time": "2021-09-16T14:08:51.012504Z",
     "start_time": "2021-09-16T14:08:51.010836Z"
    }
   },
   "outputs": [],
   "source": [
    "landcover2 = classifiedVM.set('classification_class_values', class_values1)\n",
    "landcover2 = landcover2.set('classification_class_palette', class_palette1)"
   ]
  },
  {
   "cell_type": "code",
   "execution_count": 31,
   "id": "05bad901",
   "metadata": {
    "ExecuteTime": {
     "end_time": "2021-09-16T14:08:51.015190Z",
     "start_time": "2021-09-16T14:08:51.013476Z"
    }
   },
   "outputs": [],
   "source": [
    "landcover3 = classifiedCART.set('classification_class_values', class_values1)\n",
    "landcover3 = landcover3.set('classification_class_palette', class_palette1)"
   ]
  },
  {
   "cell_type": "code",
   "execution_count": 32,
   "id": "85df0152",
   "metadata": {
    "ExecuteTime": {
     "end_time": "2021-09-16T14:08:51.018128Z",
     "start_time": "2021-09-16T14:08:51.016347Z"
    }
   },
   "outputs": [],
   "source": [
    "landcover4 = resultMD.set('classification_class_values', class_values1)\n",
    "landcover4 = landcover4.set('classification_class_palette', class_palette1)"
   ]
  },
  {
   "cell_type": "code",
   "execution_count": 33,
   "id": "1aa3710a",
   "metadata": {
    "ExecuteTime": {
     "end_time": "2021-09-16T14:08:51.020785Z",
     "start_time": "2021-09-16T14:08:51.019242Z"
    }
   },
   "outputs": [],
   "source": [
    "resultados = [landcover1, landcover2, landcover3, landcover4]"
   ]
  },
  {
   "cell_type": "code",
   "execution_count": 34,
   "id": "d5b16ed3",
   "metadata": {
    "ExecuteTime": {
     "end_time": "2021-09-16T14:08:51.023587Z",
     "start_time": "2021-09-16T14:08:51.021946Z"
    }
   },
   "outputs": [],
   "source": [
    "vis_params2 = [\n",
    "    {}, \n",
    "    {},\n",
    "    {},\n",
    "    {},\n",
    "]"
   ]
  },
  {
   "cell_type": "code",
   "execution_count": 35,
   "id": "c57c67ae",
   "metadata": {
    "ExecuteTime": {
     "end_time": "2021-09-16T14:08:51.026179Z",
     "start_time": "2021-09-16T14:08:51.024614Z"
    }
   },
   "outputs": [],
   "source": [
    "labels2 = [\n",
    "    'Random Forest',\n",
    "    'Support Vector Machine',\n",
    "    'Regressions Trees',\n",
    "    'Mínima distancia', \n",
    "]"
   ]
  },
  {
   "cell_type": "code",
   "execution_count": 36,
   "id": "9f42879d",
   "metadata": {
    "ExecuteTime": {
     "end_time": "2021-09-16T14:09:20.995991Z",
     "start_time": "2021-09-16T14:08:51.027366Z"
    }
   },
   "outputs": [
    {
     "data": {
      "application/vnd.jupyter.widget-view+json": {
       "model_id": "07afd76b89ad46a1930a8885afbe62aa",
       "version_major": 2,
       "version_minor": 0
      },
      "text/plain": [
       "GridspecLayout(children=(Output(layout=Layout(grid_area='widget001')), Output(layout=Layout(grid_area='widget0…"
      ]
     },
     "metadata": {},
     "output_type": "display_data"
    }
   ],
   "source": [
    "geemap.linked_maps(rows=2, cols=2, height=\"400px\", center=[-45, -72], zoom=8, \n",
    "                   ee_objects=resultados, vis_params=vis_params2, labels=labels2, label_position=\"topright\")"
   ]
  },
  {
   "cell_type": "code",
   "execution_count": 37,
   "id": "792998e6",
   "metadata": {
    "ExecuteTime": {
     "end_time": "2021-09-16T14:09:21.423626Z",
     "start_time": "2021-09-16T14:09:20.996773Z"
    }
   },
   "outputs": [
    {
     "data": {
      "application/vnd.jupyter.widget-view+json": {
       "model_id": "d0a8d485e2b143da8506551889c940ec",
       "version_major": 2,
       "version_minor": 0
      },
      "text/plain": [
       "Map(center=[-45, -72], controls=(WidgetControl(options=['position', 'transparent_bg'], widget=HBox(children=(T…"
      ]
     },
     "metadata": {},
     "output_type": "display_data"
    }
   ],
   "source": [
    "\n",
    "clas18cs_vis = {\n",
    "    'min': 0,\n",
    "    'max': 20,\n",
    "    'bands': ['b1'],\n",
    "    'palette' : ['22c129',\n",
    " 'f0ff00',\n",
    " '0c40f1',\n",
    " '685205',\n",
    " '0d4404',\n",
    " 'e82d13',\n",
    " 'f99504',\n",
    " '17d4c6',\n",
    " '1c6330',\n",
    " '24ff00',\n",
    " '2de50f',\n",
    " 'ccba7d',\n",
    " 'dec61a',\n",
    " '28d909',\n",
    " '03c2ff',\n",
    " '4e8c44',\n",
    " 'fdfdfd',\n",
    " 'c0c233'\n",
    "]}\n",
    "Map.addLayer(clas18c, clas18cs_vis  , name = 'Land cover clasificado CIEP')\n",
    "Map"
   ]
  },
  {
   "cell_type": "code",
   "execution_count": 38,
   "id": "4b6e1c68",
   "metadata": {
    "ExecuteTime": {
     "end_time": "2021-09-16T14:09:23.649824Z",
     "start_time": "2021-09-16T14:09:21.424627Z"
    }
   },
   "outputs": [
    {
     "data": {
      "application/vnd.jupyter.widget-view+json": {
       "model_id": "1a74f374aa5e4c27b3337483cbfede2a",
       "version_major": 2,
       "version_minor": 0
      },
      "text/plain": [
       "GridspecLayout(children=(Output(layout=Layout(grid_area='widget001')), Output(layout=Layout(grid_area='widget0…"
      ]
     },
     "metadata": {},
     "output_type": "display_data"
    }
   ],
   "source": [
    "geemap.linked_maps(rows=2, cols=2, height=\"400px\", center=[-45, -72], zoom=8, \n",
    "                   ee_objects=[mosaico], vis_params=vis_params_mosaico, labels=labelsmosaico, label_position=\"topright\")"
   ]
  },
  {
   "cell_type": "code",
   "execution_count": 39,
   "id": "bd193cf7",
   "metadata": {
    "ExecuteTime": {
     "end_time": "2021-09-16T14:09:28.313449Z",
     "start_time": "2021-09-16T14:09:23.650913Z"
    }
   },
   "outputs": [],
   "source": [
    "left_layer = geemap.ee_tile_layer(landcover1, {}, 'Random Forest')\n",
    "right_layer = geemap.ee_tile_layer(mosaico, landsat_vis, 'Mosaico')"
   ]
  },
  {
   "cell_type": "code",
   "execution_count": 40,
   "id": "b66eefed",
   "metadata": {
    "ExecuteTime": {
     "end_time": "2021-09-16T14:09:32.185991Z",
     "start_time": "2021-09-16T14:09:28.314605Z"
    }
   },
   "outputs": [],
   "source": [
    "left_layer2 = geemap.ee_tile_layer(landcover2, {}, 'Support Vector Machine')"
   ]
  },
  {
   "cell_type": "code",
   "execution_count": 41,
   "id": "a72ec158",
   "metadata": {
    "ExecuteTime": {
     "end_time": "2021-09-16T14:09:36.175969Z",
     "start_time": "2021-09-16T14:09:32.187147Z"
    }
   },
   "outputs": [],
   "source": [
    "left_layer3 = geemap.ee_tile_layer(landcover3, {}, 'Regressions Trees')"
   ]
  },
  {
   "cell_type": "code",
   "execution_count": 42,
   "id": "8a77c95e",
   "metadata": {
    "ExecuteTime": {
     "end_time": "2021-09-16T14:09:40.355944Z",
     "start_time": "2021-09-16T14:09:36.177032Z"
    }
   },
   "outputs": [],
   "source": [
    "left_layer4 = geemap.ee_tile_layer(landcover4, {}, 'Mínima distancia')"
   ]
  },
  {
   "cell_type": "code",
   "execution_count": 43,
   "id": "f74bd899",
   "metadata": {
    "ExecuteTime": {
     "end_time": "2021-09-16T14:09:40.358991Z",
     "start_time": "2021-09-16T14:09:40.356920Z"
    }
   },
   "outputs": [],
   "source": [
    "legend_dict = {\n",
    "    '01 Achaparrado': '22c129',\n",
    "    '02 Agrícola': 'f0ff00',\n",
    "    '03 Agua': '0c40f1',\n",
    "    '04 Arenal o Roca': '685205',\n",
    "    '05 Bosque Degradado': '0d4404',\n",
    "    '06 Cuncunas': 'e82d13',\n",
    "    '07 Estepa': 'f99504',\n",
    "    '08 Humedal': '17d4c6',\n",
    "    '09 Mallin': '1c6330',\n",
    "    '10 Matorral abierto': '24ff00',\n",
    "    '11 Matorral denso': '2de50f',\n",
    "    '12 Plantaciones': 'ccba7d',\n",
    "    '13 Praderas': 'dec61a',\n",
    "    '14 Primario': '28d909',\n",
    "    '15 Ríos': '03c2ff',\n",
    "    '16 Secundario': '4e8c44',\n",
    "    '17 Sombra topo': 'fdfdfd',\n",
    "    '18 Suelo desnudo': 'c0c233'\n",
    "}"
   ]
  },
  {
   "cell_type": "code",
   "execution_count": 44,
   "id": "610a76c0",
   "metadata": {
    "ExecuteTime": {
     "end_time": "2021-09-16T14:09:40.734901Z",
     "start_time": "2021-09-16T14:09:40.359804Z"
    }
   },
   "outputs": [
    {
     "data": {
      "application/vnd.jupyter.widget-view+json": {
       "model_id": "28192c2a91b44fc386b2feb74ea7b008",
       "version_major": 2,
       "version_minor": 0
      },
      "text/plain": [
       "Map(center=[-45, -72], controls=(ZoomControl(options=['position', 'zoom_in_text', 'zoom_in_title', 'zoom_out_t…"
      ]
     },
     "metadata": {},
     "output_type": "display_data"
    }
   ],
   "source": [
    "Map2 = geemap.Map()\n",
    "Map2.centerObject(centroid, 8)\n",
    "Map2.split_map(left_layer, right_layer)\n",
    "Map2.add_legend(legend_title=\"Random Forest\", legend_dict=legend_dict)\n",
    "Map2"
   ]
  },
  {
   "cell_type": "code",
   "execution_count": 45,
   "id": "9939ac12",
   "metadata": {
    "ExecuteTime": {
     "end_time": "2021-09-16T14:09:41.346472Z",
     "start_time": "2021-09-16T14:09:40.735844Z"
    }
   },
   "outputs": [
    {
     "data": {
      "application/vnd.jupyter.widget-view+json": {
       "model_id": "4de6e9287010409c9600e78b4a6f732d",
       "version_major": 2,
       "version_minor": 0
      },
      "text/plain": [
       "Map(center=[-45, -72], controls=(ZoomControl(options=['position', 'zoom_in_text', 'zoom_in_title', 'zoom_out_t…"
      ]
     },
     "metadata": {},
     "output_type": "display_data"
    }
   ],
   "source": [
    "Map3 = geemap.Map()\n",
    "Map3.centerObject(centroid, 8)\n",
    "Map3.split_map(left_layer2, right_layer)\n",
    "Map3.add_legend(legend_title=\"SVM\", legend_dict=legend_dict)\n",
    "Map3"
   ]
  },
  {
   "cell_type": "code",
   "execution_count": 46,
   "id": "3d9ca3df",
   "metadata": {
    "ExecuteTime": {
     "end_time": "2021-09-16T14:09:41.720268Z",
     "start_time": "2021-09-16T14:09:41.347575Z"
    }
   },
   "outputs": [
    {
     "data": {
      "application/vnd.jupyter.widget-view+json": {
       "model_id": "c7b9969c7b434b24a66c28febed9e10b",
       "version_major": 2,
       "version_minor": 0
      },
      "text/plain": [
       "Map(center=[-45, -72], controls=(ZoomControl(options=['position', 'zoom_in_text', 'zoom_in_title', 'zoom_out_t…"
      ]
     },
     "metadata": {},
     "output_type": "display_data"
    }
   ],
   "source": [
    "Map4 = geemap.Map()\n",
    "Map4.centerObject(centroid, 8)\n",
    "Map4.split_map(left_layer3, right_layer)\n",
    "Map4.add_legend(legend_title=\"SCART\", legend_dict=legend_dict)\n",
    "Map4"
   ]
  },
  {
   "cell_type": "code",
   "execution_count": 47,
   "id": "0b7e2d5e",
   "metadata": {
    "ExecuteTime": {
     "end_time": "2021-09-16T14:09:42.162463Z",
     "start_time": "2021-09-16T14:09:41.721442Z"
    }
   },
   "outputs": [
    {
     "data": {
      "application/vnd.jupyter.widget-view+json": {
       "model_id": "3c4b192f59df48258802d9b26c4520f7",
       "version_major": 2,
       "version_minor": 0
      },
      "text/plain": [
       "Map(center=[-45, -72], controls=(ZoomControl(options=['position', 'zoom_in_text', 'zoom_in_title', 'zoom_out_t…"
      ]
     },
     "metadata": {},
     "output_type": "display_data"
    }
   ],
   "source": [
    "Map5 = geemap.Map()\n",
    "Map5.centerObject(centroid, 8)\n",
    "Map5.split_map(left_layer4, right_layer)\n",
    "\n",
    "Map5.add_legend(legend_title=\"Mínima Distancia\", legend_dict=legend_dict)\n",
    "Map5\n"
   ]
  },
  {
   "cell_type": "code",
   "execution_count": null,
   "id": "a311a00f",
   "metadata": {},
   "outputs": [],
   "source": []
  }
 ],
 "metadata": {
  "kernelspec": {
   "display_name": "Python 3 (ipykernel)",
   "language": "python",
   "name": "python3"
  },
  "language_info": {
   "codemirror_mode": {
    "name": "ipython",
    "version": 3
   },
   "file_extension": ".py",
   "mimetype": "text/x-python",
   "name": "python",
   "nbconvert_exporter": "python",
   "pygments_lexer": "ipython3",
   "version": "3.8.11"
  },
  "toc": {
   "base_numbering": 1,
   "nav_menu": {},
   "number_sections": true,
   "sideBar": true,
   "skip_h1_title": false,
   "title_cell": "Table of Contents",
   "title_sidebar": "Contents",
   "toc_cell": false,
   "toc_position": {
    "height": "calc(100% - 180px)",
    "left": "10px",
    "top": "150px",
    "width": "384px"
   },
   "toc_section_display": true,
   "toc_window_display": true
  },
  "varInspector": {
   "cols": {
    "lenName": 16,
    "lenType": 16,
    "lenVar": 40
   },
   "kernels_config": {
    "python": {
     "delete_cmd_postfix": "",
     "delete_cmd_prefix": "del ",
     "library": "var_list.py",
     "varRefreshCmd": "print(var_dic_list())"
    },
    "r": {
     "delete_cmd_postfix": ") ",
     "delete_cmd_prefix": "rm(",
     "library": "var_list.r",
     "varRefreshCmd": "cat(var_dic_list()) "
    }
   },
   "types_to_exclude": [
    "module",
    "function",
    "builtin_function_or_method",
    "instance",
    "_Feature"
   ],
   "window_display": false
  }
 },
 "nbformat": 4,
 "nbformat_minor": 5
}
