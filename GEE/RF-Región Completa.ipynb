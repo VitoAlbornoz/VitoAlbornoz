{
 "cells": [
  {
   "cell_type": "code",
   "execution_count": 1,
   "id": "joined-delicious",
   "metadata": {},
   "outputs": [],
   "source": [
    "import ee\n",
    "import geemap\n",
    "import os\n"
   ]
  },
  {
   "cell_type": "code",
   "execution_count": null,
   "id": "26676695",
   "metadata": {},
   "outputs": [],
   "source": [
    "# geemap.update_package()"
   ]
  },
  {
   "cell_type": "code",
   "execution_count": 2,
   "id": "departmental-bridal",
   "metadata": {},
   "outputs": [],
   "source": [
    "Map = geemap.Map()\n"
   ]
  },
  {
   "cell_type": "code",
   "execution_count": 3,
   "id": "adolescent-tsunami",
   "metadata": {},
   "outputs": [],
   "source": [
    "# mosaico = ee.Image(\"users/franciscoalbornoz/Mosaico_2018\")\n",
    "# clasificacion_2018 = ee.Image(\"users/franciscoalbornoz/clasificacion_2018\")\n",
    "# landcover_2018 = ee.Image(\"users/franciscoalbornoz/landcover_sur\")\n",
    "# landsat_vis = {\n",
    "#     'min': 0,\n",
    "#     'max': 1,\n",
    "#     'bands': ['b5', 'b4', 'b3']\n",
    "# }\n",
    "# Map.addLayer(mosaico, landsat_vis, \"Landsat-8-2018\")\n",
    "# Map.addLayer(clasificacion_2018.randomVisualizer(), {}, \"clasificación 2018\")\n",
    "# Map.addLayer(landcover_2018.randomVisualizer(), {} , \"landcover provincia\")\n",
    "# Map"
   ]
  },
  {
   "cell_type": "code",
   "execution_count": 9,
   "id": "bef2af38",
   "metadata": {},
   "outputs": [],
   "source": [
    "countries = ee.FeatureCollection('users/giswqs/public/countries')\n",
    "Map.addLayer(countries, {}, 'countries')\n"
   ]
  },
  {
   "cell_type": "code",
   "execution_count": 10,
   "id": "38be2532",
   "metadata": {},
   "outputs": [],
   "source": [
    "roi = countries.filter(ee.Filter.eq('id', 'CHL'))\n",
    "Map.addLayer(roi, {}, 'roi')"
   ]
  },
  {
   "cell_type": "code",
   "execution_count": 14,
   "id": "51936c07",
   "metadata": {},
   "outputs": [],
   "source": [
    "region = ee.FeatureCollection('users/franciscoalbornoz/Aysen')\n",
    "Map.addLayer(region, {}, 'Aysen')"
   ]
  },
  {
   "cell_type": "code",
   "execution_count": 17,
   "id": "0b0baf76",
   "metadata": {},
   "outputs": [],
   "source": [
    "start_date = '2018-12-01'\n",
    "end_date = '2019-03-31'\n",
    "\n",
    "l8 = ee.ImageCollection('LANDSAT/LC08/C01/T1_TOA') \\\n",
    "    .filterBounds(roi) \\\n",
    "    .filterDate(start_date, end_date)"
   ]
  },
  {
   "cell_type": "code",
   "execution_count": 18,
   "id": "9a8c3eda",
   "metadata": {},
   "outputs": [
    {
     "data": {
      "application/vnd.jupyter.widget-view+json": {
       "model_id": "ecf88a0f8e304076867d401699638001",
       "version_major": 2,
       "version_minor": 0
      },
      "text/plain": [
       "Map(bottom=10895.0, center=[-46.604167162931844, -70.74096679687501], controls=(WidgetControl(options=['positi…"
      ]
     },
     "metadata": {},
     "output_type": "display_data"
    }
   ],
   "source": [
    "median = l8.median()\n",
    "\n",
    "visParams = {\n",
    "  'bands': ['B4', 'B3', 'B2'],\n",
    "  'min': 0,\n",
    "  'max': 0.4,\n",
    "}\n",
    "\n",
    "Map.addLayer(median, visParams, 'Median')\n",
    "Map.centerObject(roi, 10)\n",
    "Map"
   ]
  },
  {
   "cell_type": "code",
   "execution_count": 19,
   "id": "379663d2",
   "metadata": {},
   "outputs": [],
   "source": [
    "def addNDVI(image): \n",
    "    ndvi = image.normalizedDifference(['B5', 'B4']).rename('NDVI')\n",
    "    return image.addBands(ndvi)"
   ]
  },
  {
   "cell_type": "code",
   "execution_count": 20,
   "id": "ac36c683",
   "metadata": {},
   "outputs": [],
   "source": [
    "def addDate(image):\n",
    "    img_date = ee.Date(image.date())\n",
    "    img_date = ee.Number.parse(img_date.format('YYYYMMdd'))\n",
    "    return image.addBands(ee.Image(img_date).rename('date').toInt())"
   ]
  },
  {
   "cell_type": "code",
   "execution_count": 21,
   "id": "8b1bf6b8",
   "metadata": {},
   "outputs": [],
   "source": [
    "def addMonth(image):\n",
    "    img_date = ee.Date(image.date())\n",
    "    img_doy = ee.Number.parse(img_date.format('M'))\n",
    "    return image.addBands(ee.Image(img_doy).rename('month').toInt())"
   ]
  },
  {
   "cell_type": "code",
   "execution_count": 22,
   "id": "6bc512f2",
   "metadata": {},
   "outputs": [],
   "source": [
    "def addDOY(image):\n",
    "    img_date = ee.Date(image.date())\n",
    "    img_doy = ee.Number.parse(img_date.format('D'))\n",
    "    return image.addBands(ee.Image(img_doy).rename('doy').toInt())"
   ]
  },
  {
   "cell_type": "code",
   "execution_count": 23,
   "id": "e5c1416b",
   "metadata": {},
   "outputs": [],
   "source": [
    "withNDVI = l8.map(addNDVI).map(addDate).map(addMonth).map(addDOY)"
   ]
  },
  {
   "cell_type": "code",
   "execution_count": 24,
   "id": "a6ce3775",
   "metadata": {},
   "outputs": [],
   "source": [
    "greenest = withNDVI.qualityMosaic('NDVI').clip(region)"
   ]
  },
  {
   "cell_type": "code",
   "execution_count": 25,
   "id": "96d6ee29",
   "metadata": {},
   "outputs": [
    {
     "data": {
      "text/plain": [
       "['B1',\n",
       " 'B2',\n",
       " 'B3',\n",
       " 'B4',\n",
       " 'B5',\n",
       " 'B6',\n",
       " 'B7',\n",
       " 'B8',\n",
       " 'B9',\n",
       " 'B10',\n",
       " 'B11',\n",
       " 'BQA',\n",
       " 'NDVI',\n",
       " 'date',\n",
       " 'month',\n",
       " 'doy']"
      ]
     },
     "execution_count": 25,
     "metadata": {},
     "output_type": "execute_result"
    }
   ],
   "source": [
    "greenest.bandNames().getInfo()"
   ]
  },
  {
   "cell_type": "code",
   "execution_count": 26,
   "id": "cc847ca0",
   "metadata": {},
   "outputs": [],
   "source": [
    "ndvi = greenest.select('NDVI')\n",
    "palette = ['#d73027', '#f46d43', '#fdae61', '#fee08b', '#d9ef8b', '#a6d96a', '#66bd63', '#1a9850']\n",
    "Map.addLayer(ndvi, {'palette': palette}, 'NDVI')"
   ]
  },
  {
   "cell_type": "code",
   "execution_count": 27,
   "id": "b071ec69",
   "metadata": {},
   "outputs": [
    {
     "data": {
      "application/vnd.jupyter.widget-view+json": {
       "model_id": "ecf88a0f8e304076867d401699638001",
       "version_major": 2,
       "version_minor": 0
      },
      "text/plain": [
       "Map(bottom=10895.0, center=[-46.604167162931844, -70.74096679687501], controls=(WidgetControl(options=['positi…"
      ]
     },
     "metadata": {},
     "output_type": "display_data"
    }
   ],
   "source": [
    "Map.addLayer(greenest, visParams, 'Greenest pixel')\n",
    "Map"
   ]
  },
  {
   "cell_type": "code",
   "execution_count": 28,
   "id": "f0819773",
   "metadata": {},
   "outputs": [
    {
     "data": {
      "application/vnd.jupyter.widget-view+json": {
       "model_id": "ecf88a0f8e304076867d401699638001",
       "version_major": 2,
       "version_minor": 0
      },
      "text/plain": [
       "Map(bottom=42514.0, center=[-45.97406038956238, -73.17169189453126], controls=(WidgetControl(options=['positio…"
      ]
     },
     "metadata": {},
     "output_type": "display_data"
    }
   ],
   "source": [
    "mosaico = ee.Image(\"users/franciscoalbornoz/Mosaico_2018\")\n",
    "clasificacion_2018 = ee.Image(\"users/franciscoalbornoz/clasificacion_2018\")\n",
    "landcover_2018 = ee.Image(\"users/franciscoalbornoz/landcover_sur\")\n",
    "landsat_vis = {\n",
    "    'min': 0,\n",
    "    'max': 1,\n",
    "    'bands': ['b5', 'b4', 'b3']\n",
    "}\n",
    "Map.addLayer(mosaico, landsat_vis, \"Landsat-8-2018\")\n",
    "Map.addLayer(clasificacion_2018.randomVisualizer(), {}, \"clasificación 2018\")\n",
    "Map.addLayer(landcover_2018.randomVisualizer(), {} , \"landcover provincia\")\n",
    "Map"
   ]
  },
  {
   "cell_type": "code",
   "execution_count": 29,
   "id": "0dbb0df5",
   "metadata": {},
   "outputs": [],
   "source": [
    "class_palette = ['22c129',\n",
    " 'f0ff00',\n",
    " '0c40f1',\n",
    " '685205',\n",
    " '0d4404',\n",
    " 'e82d13',\n",
    " 'f99504',\n",
    " '17d4c6',\n",
    " '1c6330',\n",
    " '24ff00',\n",
    " '2de50f',\n",
    " 'ccba7d',\n",
    " 'dec61a',\n",
    " '28d909',\n",
    " '03c2ff',\n",
    " '4e8c44',\n",
    " 'fdfdfd',\n",
    " 'c0c233'\n",
    "]"
   ]
  },
  {
   "cell_type": "code",
   "execution_count": 30,
   "id": "fd4e4fdf",
   "metadata": {},
   "outputs": [],
   "source": [
    "class_values = [1,2,3,4,5,6,7,8,9,10,11,12,13,14,15,16,17,18\n",
    "    ]"
   ]
  },
  {
   "cell_type": "code",
   "execution_count": 31,
   "id": "b28686e6",
   "metadata": {},
   "outputs": [
    {
     "data": {
      "text/plain": [
       "['b1']"
      ]
     },
     "execution_count": 31,
     "metadata": {},
     "output_type": "execute_result"
    }
   ],
   "source": [
    "landcover_2018.bandNames().getInfo()"
   ]
  },
  {
   "cell_type": "code",
   "execution_count": 32,
   "id": "0f667c56",
   "metadata": {},
   "outputs": [
    {
     "data": {
      "text/plain": [
       "{'b1': {'type': 'PixelType', 'precision': 'int', 'min': 0, 'max': 255}}"
      ]
     },
     "execution_count": 32,
     "metadata": {},
     "output_type": "execute_result"
    }
   ],
   "source": [
    "clasificacion_2018.bandTypes().getInfo()\n"
   ]
  },
  {
   "cell_type": "code",
   "execution_count": null,
   "id": "26ba0fad",
   "metadata": {},
   "outputs": [],
   "source": [
    "# land2018 = landcover_2018.set('classification_class_values', class_values)\n",
    "# land2018f = land2018.set('classification_class_palette', class_palette)"
   ]
  },
  {
   "cell_type": "code",
   "execution_count": null,
   "id": "234d5974",
   "metadata": {},
   "outputs": [],
   "source": [
    "# class2018 = clasificacion_2018.set('classification_class_values', class_values)\n",
    "# class2018f = class2018.set('classification_class_palette', class_palette)"
   ]
  },
  {
   "cell_type": "code",
   "execution_count": null,
   "id": "c85ae479",
   "metadata": {},
   "outputs": [],
   "source": [
    "# Map.addLayer(land2018f, {}, 'landcover_prov_coyhaique' )\n",
    "# Map.addLayer(class2018f,{},'clasificacion 2018')"
   ]
  },
  {
   "cell_type": "code",
   "execution_count": null,
   "id": "2f97f3a9",
   "metadata": {},
   "outputs": [],
   "source": [
    "mosaico.bandNames().getInfo()"
   ]
  },
  {
   "cell_type": "code",
   "execution_count": 33,
   "id": "flush-raleigh",
   "metadata": {},
   "outputs": [],
   "source": [
    "work_dir = os.path.expanduser('../Data/shapes/')\n",
    "achaparrado_shp = os.path.join(work_dir, 'achaparrado_2018_2210_grande.shp')\n",
    "agricolas_shp = os.path.join(work_dir, 'agricolas_2018_2610_grande.shp')\n",
    "agua_shp = os.path.join(work_dir, 'agua_2018_0310_grande.shp')\n",
    "arenalroca_shp = os.path.join(work_dir, 'arenal_roca_2018_0310_grande.shp')\n",
    "bosquedegradado_shp = os.path.join(work_dir, 'bosques_degradados_2018_22112018.shp')\n",
    "cuncuna_shp = os.path.join(work_dir, 'cuncunas_2018_2210_grande.shp')\n",
    "estepa_shp = os.path.join(work_dir, 'estepa_2018_0310_grande.shp')\n",
    "humedal_shp = os.path.join(work_dir, 'humedal_agua_2018_0310_grande.shp')\n",
    "mallin_shp = os.path.join(work_dir, 'mallin_2018_0510_grande.shp')\n",
    "matorralabierto_shp = os.path.join(work_dir, 'matorrales_abiertos_2018_22102018.shp')\n",
    "matorraldenso_shp = os.path.join(work_dir, 'matorrales_densos_2018_22102018.shp')\n",
    "plantacion1_shp = os.path.join(work_dir, 'plantaciones_2018_0310_grande.shp')\n",
    "plantacion2_shp = os.path.join(work_dir, 'plantaciones_2018_23112018_grande.shp')\n",
    "plantacion3_shp = os.path.join(work_dir, 'plantaciones_2018_26112018_grande.shp')\n",
    "pradera_shp = os.path.join(work_dir, 'praderas_2018_0310_grande.shp')\n",
    "primario_shp = os.path.join(work_dir, 'primario_2018_0310_grande.shp')\n",
    "secundario_shp = os.path.join(work_dir, 'secundario_2018_0310_grande.shp')\n",
    "sombra_shp = os.path.join(work_dir, 'sombras_topograficas_2018_0310_grande.shp')\n",
    "suelo_shp = os.path.join(work_dir, 'suelo_desnudo_agricola_2018_0310_grande.shp')\n",
    "merged_shp = os.path.join(work_dir, 'roi_merged.shp')"
   ]
  },
  {
   "cell_type": "code",
   "execution_count": 34,
   "id": "340bcd66",
   "metadata": {},
   "outputs": [],
   "source": [
    "merged =geemap.shp_to_ee(merged_shp)\n",
    "Map.addLayer(merged, {}, 'Áreas de entrenamiento')"
   ]
  },
  {
   "cell_type": "code",
   "execution_count": null,
   "id": "8fbc884e",
   "metadata": {},
   "outputs": [],
   "source": [
    "# poligono = ee.FeatureCollection([\n",
    "#     ee.Feature(achaparrado),\n",
    "#     ee.Feature(agricolas),\n",
    "#     ee.Feature(agua),\n",
    "#     ee.Feature(arenalroca),\n",
    "#     ee.Feature(bosquedegradado),\n",
    "#     ee.Feature(cuncuna),\n",
    "#     ee.Feature(estepa),\n",
    "#     ee.Feature(humedal),\n",
    "#     ee.Feature(mallin),\n",
    "#     ee.Feature(matorralabierto),\n",
    "#     ee.Feature(matdenso),\n",
    "#     ee.Feature(plantacion1),\n",
    "#     ee.Feature(plantacion2),\n",
    "#     ee.Feature(plantacion3),\n",
    "#     ee.Feature(pradera),\n",
    "#     ee.Feature(primario),\n",
    "#     ee.Feature(secundario),\n",
    "#     ee.Feature(sombra),\n",
    "#     ee.Feature(suelo),    \n",
    "# ])\n"
   ]
  },
  {
   "cell_type": "code",
   "execution_count": 35,
   "id": "696742ae",
   "metadata": {},
   "outputs": [
    {
     "data": {
      "text/plain": [
       "'../Data/shapes/roi_merged.shp'"
      ]
     },
     "execution_count": 35,
     "metadata": {},
     "output_type": "execute_result"
    }
   ],
   "source": [
    "merged_shp"
   ]
  },
  {
   "cell_type": "code",
   "execution_count": 36,
   "id": "76339414",
   "metadata": {
    "scrolled": true
   },
   "outputs": [],
   "source": [
    "dataset = greenest.sampleRegions(**{\n",
    "    'collection': merged,\n",
    "    'properties': ['ID'],\n",
    "    'scale' : 30 ,\n",
    "})"
   ]
  },
  {
   "cell_type": "code",
   "execution_count": 37,
   "id": "ea580180",
   "metadata": {},
   "outputs": [
    {
     "data": {
      "text/plain": [
       "20322"
      ]
     },
     "execution_count": 37,
     "metadata": {},
     "output_type": "execute_result"
    }
   ],
   "source": [
    "dataset.size().getInfo()"
   ]
  },
  {
   "cell_type": "code",
   "execution_count": 38,
   "id": "42a44c4f",
   "metadata": {},
   "outputs": [
    {
     "name": "stdout",
     "output_type": "stream",
     "text": [
      "{'type': 'Feature', 'geometry': None, 'id': '0_0', 'properties': {'B1': 0.10622850805521011, 'B10': 277.4976806640625, 'B11': 277.0090026855469, 'B2': 0.08158686012029648, 'B3': 0.05989211052656174, 'B4': 0.03704666346311569, 'B5': 0.3357214033603668, 'B6': 0.08223237097263336, 'B7': 0.02972152642905712, 'B8': 0.04830099269747734, 'B9': 0.0024417066015303135, 'BQA': 2720, 'ID': 1, 'NDVI': 0.801234781742096, 'date': 20190210, 'doy': 41, 'month': 2}}\n"
     ]
    }
   ],
   "source": [
    "print(dataset.first().getInfo())"
   ]
  },
  {
   "cell_type": "code",
   "execution_count": 39,
   "id": "another-dubai",
   "metadata": {},
   "outputs": [],
   "source": [
    "# Guardamos las bandas\n",
    "bands = ['B1',\n",
    " 'B2',\n",
    " 'B3',\n",
    " 'B4',\n",
    " 'B5',\n",
    " 'B6',\n",
    " 'B7',\n",
    " 'B8',\n",
    " 'B9',\n",
    " 'B10',\n",
    " 'B11',\n",
    " 'BQA',\n",
    " 'NDVI',\n",
    " 'date',\n",
    " 'month',\n",
    " 'doy']\n",
    "\n",
    "# Esta propiedad guarda las clases de landcover\n",
    "label = 'ID'\n",
    "\n",
    "# Overlay the points on the imagery to get training.\n",
    "# sample = mosaico.select(bands).sampleRegions(**{\n",
    "#   'collection': dataset,\n",
    "#   'properties': ['RF'],\n",
    "#   'scale': 30\n",
    "# })\n",
    "\n",
    "# Adds a column of deterministic pseudorandom numbers. \n",
    "sample = dataset.randomColumn()\n",
    "\n",
    "split = 0.7 \n",
    "\n",
    "training = sample.filter(ee.Filter.lt('random', split))\n",
    "validation = sample.filter(ee.Filter.gte('random', split))"
   ]
  },
  {
   "cell_type": "code",
   "execution_count": 40,
   "id": "13b91725",
   "metadata": {},
   "outputs": [
    {
     "name": "stdout",
     "output_type": "stream",
     "text": [
      "{'type': 'Feature', 'geometry': None, 'id': '0_0', 'properties': {'B1': 0.10622850805521011, 'B10': 277.4976806640625, 'B11': 277.0090026855469, 'B2': 0.08158686012029648, 'B3': 0.05989211052656174, 'B4': 0.03704666346311569, 'B5': 0.3357214033603668, 'B6': 0.08223237097263336, 'B7': 0.02972152642905712, 'B8': 0.04830099269747734, 'B9': 0.0024417066015303135, 'BQA': 2720, 'ID': 1, 'NDVI': 0.801234781742096, 'date': 20190210, 'doy': 41, 'month': 2, 'random': 0.026313961048200718}}\n"
     ]
    }
   ],
   "source": [
    "print(training.first().getInfo())"
   ]
  },
  {
   "cell_type": "code",
   "execution_count": 41,
   "id": "eb79f472",
   "metadata": {},
   "outputs": [
    {
     "name": "stdout",
     "output_type": "stream",
     "text": [
      "{'type': 'Feature', 'geometry': None, 'id': '0_2', 'properties': {'B1': 0.09528681635856628, 'B10': 286.1651916503906, 'B11': 285.3027648925781, 'B2': 0.07308124750852585, 'B3': 0.056383587419986725, 'B4': 0.036613091826438904, 'B5': 0.3218937814235687, 'B6': 0.12656593322753906, 'B7': 0.05084668844938278, 'B8': 0.044498100876808167, 'B9': 0.001536410884000361, 'BQA': 2720, 'ID': 1, 'NDVI': 0.7957468032836914, 'date': 20190217, 'doy': 48, 'month': 2, 'random': 0.9077315602553427}}\n"
     ]
    }
   ],
   "source": [
    "print(validation.first().getInfo())"
   ]
  },
  {
   "cell_type": "code",
   "execution_count": 42,
   "id": "ba74718f",
   "metadata": {},
   "outputs": [],
   "source": [
    "classifier = ee.Classifier.smileRandomForest(10).train(training, label, bands)"
   ]
  },
  {
   "cell_type": "code",
   "execution_count": 43,
   "id": "f3581c1a",
   "metadata": {},
   "outputs": [
    {
     "data": {
      "application/vnd.jupyter.widget-view+json": {
       "model_id": "ecf88a0f8e304076867d401699638001",
       "version_major": 2,
       "version_minor": 0
      },
      "text/plain": [
       "Map(bottom=42514.0, center=[-45.97406038956238, -73.17169189453126], controls=(WidgetControl(options=['positio…"
      ]
     },
     "metadata": {},
     "output_type": "display_data"
    }
   ],
   "source": [
    "# Clasificando con las mismas bandas de entrenamiento\n",
    "result = greenest.select(bands).classify(classifier)\n",
    "\n",
    "# # Display the clusters with random colors.\n",
    "Map.addLayer(result.randomVisualizer(), {}, 'classificado')\n",
    "Map"
   ]
  },
  {
   "cell_type": "code",
   "execution_count": 44,
   "id": "19bfc50d",
   "metadata": {},
   "outputs": [
    {
     "data": {
      "text/plain": [
       "{'type': 'Image',\n",
       " 'bands': [{'id': 'classification',\n",
       "   'data_type': {'type': 'PixelType',\n",
       "    'precision': 'int',\n",
       "    'min': -2147483648,\n",
       "    'max': 2147483647},\n",
       "   'crs': 'EPSG:4326',\n",
       "   'crs_transform': [1, 0, 0, 0, 1, 0]}]}"
      ]
     },
     "execution_count": 44,
     "metadata": {},
     "output_type": "execute_result"
    }
   ],
   "source": [
    "result.getInfo()"
   ]
  },
  {
   "cell_type": "code",
   "execution_count": 45,
   "id": "2f9ff9f4",
   "metadata": {},
   "outputs": [],
   "source": [
    "class_values = [1,2,3,4,5,6,7,8,9,10,11,12,13,14,15,16,17,18\n",
    "    ]"
   ]
  },
  {
   "cell_type": "code",
   "execution_count": 46,
   "id": "bf9f0f78",
   "metadata": {},
   "outputs": [],
   "source": [
    "class_palette = ['22c129',\n",
    " 'f0ff00',\n",
    " '0c40f1',\n",
    " '685205',\n",
    " '0d4404',\n",
    " 'e82d13',\n",
    " 'f99504',\n",
    " '17d4c6',\n",
    " '1c6330',\n",
    " '24ff00',\n",
    " '2de50f',\n",
    " 'ccba7d',\n",
    " 'dec61a',\n",
    " '28d909',\n",
    " '03c2ff',\n",
    " '4e8c44',\n",
    " 'fdfdfd',\n",
    " 'c0c233'\n",
    "]"
   ]
  },
  {
   "cell_type": "code",
   "execution_count": 47,
   "id": "69b62656",
   "metadata": {},
   "outputs": [],
   "source": [
    "land = result.set('classification_class_values', class_values)\n",
    "landcoverf = land.set('classification_class_palette', class_palette)"
   ]
  },
  {
   "cell_type": "code",
   "execution_count": 48,
   "id": "22f87ea4",
   "metadata": {},
   "outputs": [
    {
     "data": {
      "application/vnd.jupyter.widget-view+json": {
       "model_id": "ecf88a0f8e304076867d401699638001",
       "version_major": 2,
       "version_minor": 0
      },
      "text/plain": [
       "Map(bottom=42514.0, center=[-45.97406038956238, -73.17169189453126], controls=(WidgetControl(options=['positio…"
      ]
     },
     "metadata": {},
     "output_type": "display_data"
    }
   ],
   "source": [
    "Map.addLayer(landcoverf, {}, 'Land cover Random Forest Región')\n",
    "Map"
   ]
  },
  {
   "cell_type": "code",
   "execution_count": 49,
   "id": "299a227d",
   "metadata": {},
   "outputs": [],
   "source": [
    "train_accuracy = classifier.confusionMatrix()"
   ]
  },
  {
   "cell_type": "code",
   "execution_count": 50,
   "id": "611c9899",
   "metadata": {},
   "outputs": [
    {
     "data": {
      "text/plain": [
       "[[0, 0, 0, 0, 0, 0, 0, 0, 0, 0, 0, 0, 0, 0, 0, 0, 0, 0, 0],\n",
       " [0, 599, 0, 0, 0, 0, 0, 0, 0, 0, 0, 0, 0, 0, 0, 0, 0, 0, 0],\n",
       " [0, 0, 785, 0, 0, 0, 0, 0, 0, 0, 0, 0, 0, 0, 0, 0, 0, 0, 1],\n",
       " [0, 0, 0, 3005, 1, 0, 0, 0, 0, 0, 0, 0, 0, 0, 0, 1, 0, 0, 0],\n",
       " [0, 0, 0, 5, 1582, 0, 0, 1, 0, 0, 0, 0, 0, 0, 0, 0, 0, 0, 0],\n",
       " [0, 0, 0, 0, 0, 99, 1, 0, 0, 0, 0, 1, 0, 0, 0, 0, 0, 0, 0],\n",
       " [0, 0, 1, 0, 0, 0, 923, 0, 0, 0, 0, 1, 0, 0, 1, 0, 0, 0, 0],\n",
       " [0, 0, 0, 0, 1, 0, 0, 619, 0, 0, 0, 0, 0, 0, 0, 0, 0, 0, 0],\n",
       " [0, 0, 0, 3, 0, 0, 0, 0, 47, 0, 0, 0, 0, 0, 0, 0, 0, 0, 0],\n",
       " [0, 0, 0, 0, 0, 0, 0, 0, 0, 86, 0, 0, 0, 0, 0, 0, 0, 0, 0],\n",
       " [0, 0, 0, 0, 0, 1, 0, 0, 0, 0, 217, 0, 0, 0, 0, 0, 0, 0, 0],\n",
       " [0, 0, 0, 0, 0, 0, 2, 0, 0, 0, 0, 158, 0, 0, 0, 0, 0, 0, 0],\n",
       " [0, 0, 0, 0, 0, 0, 0, 0, 0, 0, 0, 0, 3171, 0, 0, 0, 0, 0, 0],\n",
       " [0, 0, 0, 0, 0, 0, 0, 0, 0, 0, 2, 0, 0, 274, 0, 0, 0, 0, 0],\n",
       " [0, 1, 0, 0, 0, 0, 3, 0, 0, 0, 0, 0, 2, 0, 740, 0, 1, 0, 0],\n",
       " [0, 0, 0, 6, 0, 0, 0, 0, 0, 0, 0, 0, 0, 0, 0, 221, 0, 0, 0],\n",
       " [0, 5, 0, 0, 0, 0, 0, 0, 0, 0, 0, 0, 0, 0, 1, 0, 671, 0, 0],\n",
       " [0, 0, 0, 2, 0, 0, 1, 0, 0, 0, 0, 0, 0, 0, 1, 0, 0, 149, 0],\n",
       " [0, 0, 2, 0, 0, 0, 0, 0, 0, 0, 0, 0, 2, 2, 0, 0, 0, 0, 818]]"
      ]
     },
     "execution_count": 50,
     "metadata": {},
     "output_type": "execute_result"
    }
   ],
   "source": [
    "train_accuracy.getInfo()"
   ]
  },
  {
   "cell_type": "code",
   "execution_count": 51,
   "id": "c1693f22",
   "metadata": {},
   "outputs": [
    {
     "data": {
      "text/plain": [
       "0.9963421496904896"
      ]
     },
     "execution_count": 51,
     "metadata": {},
     "output_type": "execute_result"
    }
   ],
   "source": [
    "train_accuracy.accuracy().getInfo()"
   ]
  },
  {
   "cell_type": "code",
   "execution_count": 52,
   "id": "410b951b",
   "metadata": {},
   "outputs": [
    {
     "data": {
      "text/plain": [
       "0.9958063106086905"
      ]
     },
     "execution_count": 52,
     "metadata": {},
     "output_type": "execute_result"
    }
   ],
   "source": [
    "train_accuracy.kappa().getInfo()"
   ]
  },
  {
   "cell_type": "code",
   "execution_count": 53,
   "id": "2b29f647",
   "metadata": {},
   "outputs": [
    {
     "data": {
      "text/plain": [
       "[[0],\n",
       " [1],\n",
       " [0.9987277353689568],\n",
       " [0.9993348852677086],\n",
       " [0.9962216624685138],\n",
       " [0.9801980198019802],\n",
       " [0.9967602591792657],\n",
       " [0.9983870967741936],\n",
       " [0.94],\n",
       " [1],\n",
       " [0.9954128440366973],\n",
       " [0.9875],\n",
       " [1],\n",
       " [0.9927536231884058],\n",
       " [0.9906291834002677],\n",
       " [0.973568281938326],\n",
       " [0.9911373707533235],\n",
       " [0.9738562091503268],\n",
       " [0.9927184466019418]]"
      ]
     },
     "execution_count": 53,
     "metadata": {},
     "output_type": "execute_result"
    }
   ],
   "source": [
    "train_accuracy.producersAccuracy().getInfo()"
   ]
  },
  {
   "cell_type": "code",
   "execution_count": 54,
   "id": "32bbd6be",
   "metadata": {},
   "outputs": [
    {
     "data": {
      "text/plain": [
       "[[0,\n",
       "  0.9900826446280991,\n",
       "  0.9961928934010152,\n",
       "  0.9947037404832837,\n",
       "  0.9987373737373737,\n",
       "  0.99,\n",
       "  0.9924731182795699,\n",
       "  0.9983870967741936,\n",
       "  1,\n",
       "  1,\n",
       "  0.9908675799086758,\n",
       "  0.9875,\n",
       "  0.998740157480315,\n",
       "  0.9927536231884058,\n",
       "  0.9959623149394348,\n",
       "  0.9954954954954955,\n",
       "  0.9985119047619048,\n",
       "  1,\n",
       "  0.9987789987789988]]"
      ]
     },
     "execution_count": 54,
     "metadata": {},
     "output_type": "execute_result"
    }
   ],
   "source": [
    "train_accuracy.consumersAccuracy().getInfo()"
   ]
  },
  {
   "cell_type": "code",
   "execution_count": 57,
   "id": "ec4e2627",
   "metadata": {},
   "outputs": [],
   "source": [
    "validacion = validation.classify(classifier)"
   ]
  },
  {
   "cell_type": "code",
   "execution_count": 58,
   "id": "511f36f3",
   "metadata": {},
   "outputs": [],
   "source": [
    "testAccuracy = validacion.errorMatrix('ID', 'classification')"
   ]
  },
  {
   "cell_type": "code",
   "execution_count": 59,
   "id": "733c4428",
   "metadata": {},
   "outputs": [
    {
     "data": {
      "text/plain": [
       "0.9695381591876843"
      ]
     },
     "execution_count": 59,
     "metadata": {},
     "output_type": "execute_result"
    }
   ],
   "source": [
    "testAccuracy.accuracy().getInfo()"
   ]
  }
 ],
 "metadata": {
  "kernelspec": {
   "display_name": "Python 3",
   "language": "python",
   "name": "python3"
  },
  "language_info": {
   "codemirror_mode": {
    "name": "ipython",
    "version": 3
   },
   "file_extension": ".py",
   "mimetype": "text/x-python",
   "name": "python",
   "nbconvert_exporter": "python",
   "pygments_lexer": "ipython3",
   "version": "3.9.2"
  },
  "toc": {
   "base_numbering": 1,
   "nav_menu": {},
   "number_sections": true,
   "sideBar": true,
   "skip_h1_title": false,
   "title_cell": "Table of Contents",
   "title_sidebar": "Contents",
   "toc_cell": false,
   "toc_position": {},
   "toc_section_display": true,
   "toc_window_display": false
  },
  "varInspector": {
   "cols": {
    "lenName": 16,
    "lenType": 16,
    "lenVar": 40
   },
   "kernels_config": {
    "python": {
     "delete_cmd_postfix": "",
     "delete_cmd_prefix": "del ",
     "library": "var_list.py",
     "varRefreshCmd": "print(var_dic_list())"
    },
    "r": {
     "delete_cmd_postfix": ") ",
     "delete_cmd_prefix": "rm(",
     "library": "var_list.r",
     "varRefreshCmd": "cat(var_dic_list()) "
    }
   },
   "types_to_exclude": [
    "module",
    "function",
    "builtin_function_or_method",
    "instance",
    "_Feature"
   ],
   "window_display": false
  }
 },
 "nbformat": 4,
 "nbformat_minor": 5
}
