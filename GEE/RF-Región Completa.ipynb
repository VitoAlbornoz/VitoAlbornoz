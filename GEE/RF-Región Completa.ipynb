{
 "cells": [
  {
   "cell_type": "code",
   "execution_count": 1,
   "id": "joined-delicious",
   "metadata": {
    "ExecuteTime": {
     "end_time": "2021-09-09T17:28:45.024187Z",
     "start_time": "2021-09-09T17:28:44.613697Z"
    }
   },
   "outputs": [],
   "source": [
    "import ee\n",
    "import geemap\n",
    "import os\n"
   ]
  },
  {
   "cell_type": "code",
   "execution_count": 2,
   "id": "26676695",
   "metadata": {
    "ExecuteTime": {
     "end_time": "2021-09-09T17:28:45.026866Z",
     "start_time": "2021-09-09T17:28:45.025314Z"
    }
   },
   "outputs": [],
   "source": [
    "# geemap.update_package()"
   ]
  },
  {
   "cell_type": "code",
   "execution_count": 3,
   "id": "departmental-bridal",
   "metadata": {
    "ExecuteTime": {
     "end_time": "2021-09-09T17:28:54.338427Z",
     "start_time": "2021-09-09T17:28:45.029634Z"
    }
   },
   "outputs": [],
   "source": [
    "Map = geemap.Map()\n"
   ]
  },
  {
   "cell_type": "code",
   "execution_count": 4,
   "id": "adolescent-tsunami",
   "metadata": {
    "ExecuteTime": {
     "end_time": "2021-09-09T17:28:54.340922Z",
     "start_time": "2021-09-09T17:28:54.339260Z"
    }
   },
   "outputs": [],
   "source": [
    "# mosaico = ee.Image(\"users/franciscoalbornoz/Mosaico_2018\")\n",
    "# clasificacion_2018 = ee.Image(\"users/franciscoalbornoz/clasificacion_2018\")\n",
    "# landcover_2018 = ee.Image(\"users/franciscoalbornoz/landcover_sur\")\n",
    "# landsat_vis = {\n",
    "#     'min': 0,\n",
    "#     'max': 1,\n",
    "#     'bands': ['b5', 'b4', 'b3']\n",
    "# }\n",
    "# Map.addLayer(mosaico, landsat_vis, \"Landsat-8-2018\")\n",
    "# Map.addLayer(clasificacion_2018.randomVisualizer(), {}, \"clasificación 2018\")\n",
    "# Map.addLayer(landcover_2018.randomVisualizer(), {} , \"landcover provincia\")\n",
    "# Map"
   ]
  },
  {
   "cell_type": "code",
   "execution_count": 5,
   "id": "bef2af38",
   "metadata": {
    "ExecuteTime": {
     "end_time": "2021-09-09T17:28:54.813243Z",
     "start_time": "2021-09-09T17:28:54.341830Z"
    }
   },
   "outputs": [],
   "source": [
    "countries = ee.FeatureCollection('users/giswqs/public/countries')\n",
    "Map.addLayer(countries, {}, 'countries')\n"
   ]
  },
  {
   "cell_type": "code",
   "execution_count": 6,
   "id": "38be2532",
   "metadata": {
    "ExecuteTime": {
     "end_time": "2021-09-09T17:28:55.244101Z",
     "start_time": "2021-09-09T17:28:54.814331Z"
    }
   },
   "outputs": [],
   "source": [
    "roi = countries.filter(ee.Filter.eq('id', 'CHL'))\n",
    "Map.addLayer(roi, {}, 'roi')"
   ]
  },
  {
   "cell_type": "code",
   "execution_count": 7,
   "id": "51936c07",
   "metadata": {
    "ExecuteTime": {
     "end_time": "2021-09-09T17:28:55.833003Z",
     "start_time": "2021-09-09T17:28:55.245245Z"
    }
   },
   "outputs": [],
   "source": [
    "region = ee.FeatureCollection('users/franciscoalbornoz/Aysen')\n",
    "Map.addLayer(region, {}, 'Aysen')"
   ]
  },
  {
   "cell_type": "code",
   "execution_count": null,
   "id": "7fa8a1a3",
   "metadata": {},
   "outputs": [],
   "source": [
    "work_dir = os.path.expanduser('../../../Data/shapes/')\n",
    "patagonia = os.path.join(work_dir, 'patagonia_nueva.shp')\n",
    "patagonia_grande = geemap.shp_to_ee(patagonia)"
   ]
  },
  {
   "cell_type": "code",
   "execution_count": 8,
   "id": "0b0baf76",
   "metadata": {
    "ExecuteTime": {
     "end_time": "2021-09-09T17:28:55.836134Z",
     "start_time": "2021-09-09T17:28:55.834022Z"
    }
   },
   "outputs": [],
   "source": [
    "start_date = '2020-12-01' # \n",
    "end_date = '2021-03-31'\n",
    "\n",
    "l8 = ee.ImageCollection('LANDSAT/LC08/C01/T1_TOA') \\\n",
    "    .filterBounds(roi) \\\n",
    "    .filterDate(start_date, end_date)"
   ]
  },
  {
   "cell_type": "code",
   "execution_count": 9,
   "id": "9a8c3eda",
   "metadata": {
    "ExecuteTime": {
     "end_time": "2021-09-09T17:28:57.135354Z",
     "start_time": "2021-09-09T17:28:55.837817Z"
    }
   },
   "outputs": [
    {
     "data": {
      "application/vnd.jupyter.widget-view+json": {
       "model_id": "887359fdd210474ea3f8b29c79c9abd7",
       "version_major": 2,
       "version_minor": 0
      },
      "text/plain": [
       "Map(center=[-37.30779156528291, -71.17818286898157], controls=(WidgetControl(options=['position', 'transparent…"
      ]
     },
     "metadata": {},
     "output_type": "display_data"
    }
   ],
   "source": [
    "median = l8.median()\n",
    "\n",
    "visParams = {\n",
    "  'bands': ['B4', 'B3', 'B2'],\n",
    "  'min': 0,\n",
    "  'max': 0.4,\n",
    "}\n",
    "\n",
    "Map.addLayer(median, visParams, 'Median')\n",
    "Map.centerObject(roi, 10)\n",
    "Map"
   ]
  },
  {
   "cell_type": "code",
   "execution_count": 10,
   "id": "379663d2",
   "metadata": {
    "ExecuteTime": {
     "end_time": "2021-09-09T17:28:57.137871Z",
     "start_time": "2021-09-09T17:28:57.136227Z"
    }
   },
   "outputs": [],
   "source": [
    "def addNDVI(image): \n",
    "    ndvi = image.normalizedDifference(['B5', 'B4']).rename('NDVI')\n",
    "    return image.addBands(ndvi)"
   ]
  },
  {
   "cell_type": "code",
   "execution_count": 11,
   "id": "ac36c683",
   "metadata": {
    "ExecuteTime": {
     "end_time": "2021-09-09T17:28:57.142455Z",
     "start_time": "2021-09-09T17:28:57.138584Z"
    }
   },
   "outputs": [],
   "source": [
    "def addDate(image):\n",
    "    img_date = ee.Date(image.date())\n",
    "    img_date = ee.Number.parse(img_date.format('YYYYMMdd'))\n",
    "    return image.addBands(ee.Image(img_date).rename('date').toInt())"
   ]
  },
  {
   "cell_type": "code",
   "execution_count": 12,
   "id": "8b1bf6b8",
   "metadata": {
    "ExecuteTime": {
     "end_time": "2021-09-09T17:28:57.145254Z",
     "start_time": "2021-09-09T17:28:57.143360Z"
    }
   },
   "outputs": [],
   "source": [
    "def addMonth(image):\n",
    "    img_date = ee.Date(image.date())\n",
    "    img_doy = ee.Number.parse(img_date.format('M'))\n",
    "    return image.addBands(ee.Image(img_doy).rename('month').toInt())"
   ]
  },
  {
   "cell_type": "code",
   "execution_count": 13,
   "id": "6bc512f2",
   "metadata": {
    "ExecuteTime": {
     "end_time": "2021-09-09T17:28:57.147794Z",
     "start_time": "2021-09-09T17:28:57.146024Z"
    }
   },
   "outputs": [],
   "source": [
    "def addDOY(image):\n",
    "    img_date = ee.Date(image.date())\n",
    "    img_doy = ee.Number.parse(img_date.format('D'))\n",
    "    return image.addBands(ee.Image(img_doy).rename('doy').toInt())"
   ]
  },
  {
   "cell_type": "code",
   "execution_count": 14,
   "id": "e5c1416b",
   "metadata": {
    "ExecuteTime": {
     "end_time": "2021-09-09T17:28:57.152175Z",
     "start_time": "2021-09-09T17:28:57.148954Z"
    }
   },
   "outputs": [],
   "source": [
    "withNDVI = l8.map(addNDVI).map(addDate).map(addMonth).map(addDOY)"
   ]
  },
  {
   "cell_type": "code",
   "execution_count": 15,
   "id": "a6ce3775",
   "metadata": {
    "ExecuteTime": {
     "end_time": "2021-09-09T17:28:57.155194Z",
     "start_time": "2021-09-09T17:28:57.153493Z"
    }
   },
   "outputs": [],
   "source": [
    "greenest = withNDVI.qualityMosaic('NDVI').clip(region)"
   ]
  },
  {
   "cell_type": "code",
   "execution_count": 16,
   "id": "96d6ee29",
   "metadata": {
    "ExecuteTime": {
     "end_time": "2021-09-09T17:28:58.542987Z",
     "start_time": "2021-09-09T17:28:57.156399Z"
    }
   },
   "outputs": [
    {
     "data": {
      "text/plain": [
       "['B1',\n",
       " 'B2',\n",
       " 'B3',\n",
       " 'B4',\n",
       " 'B5',\n",
       " 'B6',\n",
       " 'B7',\n",
       " 'B8',\n",
       " 'B9',\n",
       " 'B10',\n",
       " 'B11',\n",
       " 'BQA',\n",
       " 'NDVI',\n",
       " 'date',\n",
       " 'month',\n",
       " 'doy']"
      ]
     },
     "execution_count": 16,
     "metadata": {},
     "output_type": "execute_result"
    }
   ],
   "source": [
    "greenest.bandNames().getInfo()"
   ]
  },
  {
   "cell_type": "code",
   "execution_count": 17,
   "id": "cc847ca0",
   "metadata": {
    "ExecuteTime": {
     "end_time": "2021-09-09T17:28:59.646734Z",
     "start_time": "2021-09-09T17:28:58.544021Z"
    }
   },
   "outputs": [],
   "source": [
    "ndvi = greenest.select('NDVI')\n",
    "palette = ['#d73027', '#f46d43', '#fdae61', '#fee08b', '#d9ef8b', '#a6d96a', '#66bd63', '#1a9850']\n",
    "Map.addLayer(ndvi, {'palette': palette}, 'NDVI')"
   ]
  },
  {
   "cell_type": "code",
   "execution_count": 18,
   "id": "b071ec69",
   "metadata": {
    "ExecuteTime": {
     "end_time": "2021-09-09T17:29:00.645731Z",
     "start_time": "2021-09-09T17:28:59.647586Z"
    }
   },
   "outputs": [
    {
     "data": {
      "application/vnd.jupyter.widget-view+json": {
       "model_id": "887359fdd210474ea3f8b29c79c9abd7",
       "version_major": 2,
       "version_minor": 0
      },
      "text/plain": [
       "Map(center=[-37.30779156528291, -71.17818286898157], controls=(WidgetControl(options=['position', 'transparent…"
      ]
     },
     "metadata": {},
     "output_type": "display_data"
    }
   ],
   "source": [
    "Map.addLayer(greenest, visParams, 'Greenest pixel')\n",
    "Map"
   ]
  },
  {
   "cell_type": "code",
   "execution_count": 19,
   "id": "f0819773",
   "metadata": {
    "ExecuteTime": {
     "end_time": "2021-09-09T17:29:01.966621Z",
     "start_time": "2021-09-09T17:29:00.646616Z"
    }
   },
   "outputs": [
    {
     "data": {
      "application/vnd.jupyter.widget-view+json": {
       "model_id": "887359fdd210474ea3f8b29c79c9abd7",
       "version_major": 2,
       "version_minor": 0
      },
      "text/plain": [
       "Map(center=[-37.30779156528291, -71.17818286898157], controls=(WidgetControl(options=['position', 'transparent…"
      ]
     },
     "metadata": {},
     "output_type": "display_data"
    }
   ],
   "source": [
    "mosaico = ee.Image(\"users/franciscoalbornoz/Mosaico_2018\")\n",
    "clasificacion_2018 = ee.Image(\"users/franciscoalbornoz/clasificacion_2018\")\n",
    "landcover_2018 = ee.Image(\"users/franciscoalbornoz/landcover_sur\")\n",
    "landsat_vis = {\n",
    "    'min': 0,\n",
    "    'max': 1,\n",
    "    'bands': ['b5', 'b4', 'b3']\n",
    "}\n",
    "Map.addLayer(mosaico, landsat_vis, \"Landsat-8-2018\")\n",
    "Map.addLayer(clasificacion_2018.randomVisualizer(), {}, \"clasificación 2018\")\n",
    "Map.addLayer(landcover_2018.randomVisualizer(), {} , \"landcover provincia\")\n",
    "Map"
   ]
  },
  {
   "cell_type": "code",
   "execution_count": 20,
   "id": "0dbb0df5",
   "metadata": {
    "ExecuteTime": {
     "end_time": "2021-09-09T17:29:01.969355Z",
     "start_time": "2021-09-09T17:29:01.967349Z"
    }
   },
   "outputs": [],
   "source": [
    "class_palette = ['22c129',\n",
    " 'f0ff00',\n",
    " '0c40f1',\n",
    " '685205',\n",
    " '0d4404',\n",
    " 'e82d13',\n",
    " 'f99504',\n",
    " '17d4c6',\n",
    " '1c6330',\n",
    " '24ff00',\n",
    " '2de50f',\n",
    " 'ccba7d',\n",
    " 'dec61a',\n",
    " '28d909',\n",
    " '03c2ff',\n",
    " '4e8c44',\n",
    " 'fdfdfd',\n",
    " 'c0c233'\n",
    "]\n",
    "# paleta de 18 colores\n"
   ]
  },
  {
   "cell_type": "code",
   "execution_count": 21,
   "id": "fd4e4fdf",
   "metadata": {
    "ExecuteTime": {
     "end_time": "2021-09-09T17:29:01.971777Z",
     "start_time": "2021-09-09T17:29:01.970223Z"
    }
   },
   "outputs": [],
   "source": [
    "class_values = [1,2,3,4,5,6,7,8,9,10,11,12,13,14,15,16,17,18\n",
    "    ]"
   ]
  },
  {
   "cell_type": "code",
   "execution_count": 22,
   "id": "b28686e6",
   "metadata": {
    "ExecuteTime": {
     "end_time": "2021-09-09T17:29:02.299128Z",
     "start_time": "2021-09-09T17:29:01.972763Z"
    }
   },
   "outputs": [
    {
     "data": {
      "text/plain": [
       "['b1']"
      ]
     },
     "execution_count": 22,
     "metadata": {},
     "output_type": "execute_result"
    }
   ],
   "source": [
    "landcover_2018.bandNames().getInfo()"
   ]
  },
  {
   "cell_type": "code",
   "execution_count": 23,
   "id": "0f667c56",
   "metadata": {
    "ExecuteTime": {
     "end_time": "2021-09-09T17:29:02.606061Z",
     "start_time": "2021-09-09T17:29:02.299997Z"
    }
   },
   "outputs": [
    {
     "data": {
      "text/plain": [
       "{'b1': {'type': 'PixelType', 'precision': 'int', 'min': 0, 'max': 255}}"
      ]
     },
     "execution_count": 23,
     "metadata": {},
     "output_type": "execute_result"
    }
   ],
   "source": [
    "clasificacion_2018.bandTypes().getInfo()\n"
   ]
  },
  {
   "cell_type": "code",
   "execution_count": 24,
   "id": "26ba0fad",
   "metadata": {
    "ExecuteTime": {
     "end_time": "2021-09-09T17:29:02.608617Z",
     "start_time": "2021-09-09T17:29:02.607286Z"
    }
   },
   "outputs": [],
   "source": [
    "# land2018 = landcover_2018.set('classification_class_values', class_values)\n",
    "# land2018f = land2018.set('classification_class_palette', class_palette)"
   ]
  },
  {
   "cell_type": "code",
   "execution_count": 25,
   "id": "234d5974",
   "metadata": {
    "ExecuteTime": {
     "end_time": "2021-09-09T17:29:02.610872Z",
     "start_time": "2021-09-09T17:29:02.609484Z"
    }
   },
   "outputs": [],
   "source": [
    "# class2018 = clasificacion_2018.set('classification_class_values', class_values)\n",
    "# class2018f = class2018.set('classification_class_palette', class_palette)"
   ]
  },
  {
   "cell_type": "code",
   "execution_count": 26,
   "id": "c85ae479",
   "metadata": {
    "ExecuteTime": {
     "end_time": "2021-09-09T17:29:02.613009Z",
     "start_time": "2021-09-09T17:29:02.611683Z"
    }
   },
   "outputs": [],
   "source": [
    "# Map.addLayer(land2018f, {}, 'landcover_prov_coyhaique' )\n",
    "# Map.addLayer(class2018f,{},'clasificacion 2018')"
   ]
  },
  {
   "cell_type": "code",
   "execution_count": 27,
   "id": "2f97f3a9",
   "metadata": {
    "ExecuteTime": {
     "end_time": "2021-09-09T17:29:03.105758Z",
     "start_time": "2021-09-09T17:29:02.615812Z"
    }
   },
   "outputs": [
    {
     "data": {
      "text/plain": [
       "['b1', 'b2', 'b3', 'b4', 'b5', 'b6', 'b7', 'b8', 'b9']"
      ]
     },
     "execution_count": 27,
     "metadata": {},
     "output_type": "execute_result"
    }
   ],
   "source": [
    "mosaico.bandNames().getInfo()"
   ]
  },
  {
   "cell_type": "code",
   "execution_count": 28,
   "id": "flush-raleigh",
   "metadata": {
    "ExecuteTime": {
     "end_time": "2021-09-09T17:29:03.112141Z",
     "start_time": "2021-09-09T17:29:03.106915Z"
    }
   },
   "outputs": [],
   "source": [
    "work_dir = os.path.expanduser('../Data/shapes/')\n",
    "achaparrado_shp = os.path.join(work_dir, 'achaparrado_2018_2210_grande.shp')\n",
    "agricolas_shp = os.path.join(work_dir, 'agricolas_2018_2610_grande.shp')\n",
    "agua_shp = os.path.join(work_dir, 'agua_2018_0310_grande.shp')\n",
    "arenalroca_shp = os.path.join(work_dir, 'arenal_roca_2018_0310_grande.shp')\n",
    "bosquedegradado_shp = os.path.join(work_dir, 'bosques_degradados_2018_22112018.shp')\n",
    "cuncuna_shp = os.path.join(work_dir, 'cuncunas_2018_2210_grande.shp')\n",
    "estepa_shp = os.path.join(work_dir, 'estepa_2018_0310_grande.shp')\n",
    "humedal_shp = os.path.join(work_dir, 'humedal_agua_2018_0310_grande.shp')\n",
    "mallin_shp = os.path.join(work_dir, 'mallin_2018_0510_grande.shp')\n",
    "matorralabierto_shp = os.path.join(work_dir, 'matorrales_abiertos_2018_22102018.shp')\n",
    "matorraldenso_shp = os.path.join(work_dir, 'matorrales_densos_2018_22102018.shp')\n",
    "plantacion1_shp = os.path.join(work_dir, 'plantaciones_2018_0310_grande.shp')\n",
    "plantacion2_shp = os.path.join(work_dir, 'plantaciones_2018_23112018_grande.shp')\n",
    "plantacion3_shp = os.path.join(work_dir, 'plantaciones_2018_26112018_grande.shp')\n",
    "pradera_shp = os.path.join(work_dir, 'praderas_2018_0310_grande.shp')\n",
    "primario_shp = os.path.join(work_dir, 'primario_2018_0310_grande.shp')\n",
    "secundario_shp = os.path.join(work_dir, 'secundario_2018_0310_grande.shp')\n",
    "sombra_shp = os.path.join(work_dir, 'sombras_topograficas_2018_0310_grande.shp')\n",
    "suelo_shp = os.path.join(work_dir, 'suelo_desnudo_agricola_2018_0310_grande.shp')\n",
    "merged_shp = os.path.join(work_dir, 'roi_merged.shp')"
   ]
  },
  {
   "cell_type": "code",
   "execution_count": 29,
   "id": "340bcd66",
   "metadata": {
    "ExecuteTime": {
     "end_time": "2021-09-09T17:29:07.825184Z",
     "start_time": "2021-09-09T17:29:03.113563Z"
    }
   },
   "outputs": [],
   "source": [
    "merged =geemap.shp_to_ee(merged_shp)\n",
    "Map.addLayer(merged, {}, 'Áreas de entrenamiento')"
   ]
  },
  {
   "cell_type": "code",
   "execution_count": 30,
   "id": "8fbc884e",
   "metadata": {
    "ExecuteTime": {
     "end_time": "2021-09-09T17:29:07.827861Z",
     "start_time": "2021-09-09T17:29:07.826184Z"
    }
   },
   "outputs": [],
   "source": [
    "# poligono = ee.FeatureCollection([\n",
    "#     ee.Feature(achaparrado),\n",
    "#     ee.Feature(agricolas),\n",
    "#     ee.Feature(agua),\n",
    "#     ee.Feature(arenalroca),\n",
    "#     ee.Feature(bosquedegradado),\n",
    "#     ee.Feature(cuncuna),\n",
    "#     ee.Feature(estepa),\n",
    "#     ee.Feature(humedal),\n",
    "#     ee.Feature(mallin),\n",
    "#     ee.Feature(matorralabierto),\n",
    "#     ee.Feature(matdenso),\n",
    "#     ee.Feature(plantacion1),\n",
    "#     ee.Feature(plantacion2),\n",
    "#     ee.Feature(plantacion3),\n",
    "#     ee.Feature(pradera),\n",
    "#     ee.Feature(primario),\n",
    "#     ee.Feature(secundario),\n",
    "#     ee.Feature(sombra),\n",
    "#     ee.Feature(suelo),    \n",
    "# ])\n"
   ]
  },
  {
   "cell_type": "code",
   "execution_count": 31,
   "id": "696742ae",
   "metadata": {
    "ExecuteTime": {
     "end_time": "2021-09-09T17:29:07.831108Z",
     "start_time": "2021-09-09T17:29:07.828842Z"
    }
   },
   "outputs": [
    {
     "data": {
      "text/plain": [
       "'../Data/shapes/roi_merged.shp'"
      ]
     },
     "execution_count": 31,
     "metadata": {},
     "output_type": "execute_result"
    }
   ],
   "source": [
    "merged_shp"
   ]
  },
  {
   "cell_type": "code",
   "execution_count": 32,
   "id": "76339414",
   "metadata": {
    "ExecuteTime": {
     "end_time": "2021-09-09T17:29:07.833664Z",
     "start_time": "2021-09-09T17:29:07.832099Z"
    },
    "scrolled": true
   },
   "outputs": [],
   "source": [
    "dataset = greenest.sampleRegions(**{\n",
    "    'collection': merged,\n",
    "    'properties': ['ID'],\n",
    "    'scale' : 30 ,\n",
    "})"
   ]
  },
  {
   "cell_type": "code",
   "execution_count": 33,
   "id": "ea580180",
   "metadata": {
    "ExecuteTime": {
     "end_time": "2021-09-09T17:29:12.251770Z",
     "start_time": "2021-09-09T17:29:07.834511Z"
    }
   },
   "outputs": [
    {
     "data": {
      "text/plain": [
       "20322"
      ]
     },
     "execution_count": 33,
     "metadata": {},
     "output_type": "execute_result"
    }
   ],
   "source": [
    "dataset.size().getInfo()"
   ]
  },
  {
   "cell_type": "code",
   "execution_count": 34,
   "id": "42a44c4f",
   "metadata": {
    "ExecuteTime": {
     "end_time": "2021-09-09T17:29:17.031870Z",
     "start_time": "2021-09-09T17:29:12.252813Z"
    }
   },
   "outputs": [
    {
     "name": "stdout",
     "output_type": "stream",
     "text": [
      "{'type': 'Feature', 'geometry': None, 'id': '0_0', 'properties': {'B1': 0.08925435692071915, 'B10': 292.0626220703125, 'B11': 292.143798828125, 'B2': 0.06809869408607483, 'B3': 0.051249273121356964, 'B4': 0.03142053633928299, 'B5': 0.3350105583667755, 'B6': 0.11977358907461166, 'B7': 0.044714801013469696, 'B8': 0.04191073775291443, 'B9': 0.005282651633024216, 'BQA': 2720, 'ID': 1, 'NDVI': 0.8285050988197327, 'date': 20210105, 'doy': 5, 'month': 1}}\n"
     ]
    }
   ],
   "source": [
    "print(dataset.first().getInfo())"
   ]
  },
  {
   "cell_type": "code",
   "execution_count": 35,
   "id": "another-dubai",
   "metadata": {
    "ExecuteTime": {
     "end_time": "2021-09-09T17:29:17.035447Z",
     "start_time": "2021-09-09T17:29:17.032829Z"
    }
   },
   "outputs": [],
   "source": [
    "# Guardamos las bandas\n",
    "bands = ['B1',\n",
    " 'B2',\n",
    " 'B3',\n",
    " 'B4',\n",
    " 'B5',\n",
    " 'B6',\n",
    " 'B7',\n",
    " 'B8',\n",
    " 'B9',\n",
    " 'B10',\n",
    " 'B11',\n",
    " 'BQA',\n",
    " 'NDVI',\n",
    " 'date',\n",
    " 'month',\n",
    " 'doy']\n",
    "\n",
    "# Esta propiedad guarda las clases de landcover\n",
    "label = 'ID'\n",
    "\n",
    "# Overlay the points on the imagery to get training.\n",
    "# sample = mosaico.select(bands).sampleRegions(**{\n",
    "#   'collection': dataset,\n",
    "#   'properties': ['RF'],\n",
    "#   'scale': 30\n",
    "# })\n",
    "\n",
    "# Adds a column of deterministic pseudorandom numbers. \n",
    "sample = dataset.randomColumn()\n",
    "\n",
    "split = 0.7 \n",
    "\n",
    "training = sample.filter(ee.Filter.lt('random', split))\n",
    "validation = sample.filter(ee.Filter.gte('random', split))"
   ]
  },
  {
   "cell_type": "code",
   "execution_count": 36,
   "id": "13b91725",
   "metadata": {
    "ExecuteTime": {
     "end_time": "2021-09-09T17:29:21.346272Z",
     "start_time": "2021-09-09T17:29:17.036483Z"
    }
   },
   "outputs": [
    {
     "name": "stdout",
     "output_type": "stream",
     "text": [
      "{'type': 'Feature', 'geometry': None, 'id': '0_0', 'properties': {'B1': 0.08925435692071915, 'B10': 292.0626220703125, 'B11': 292.143798828125, 'B2': 0.06809869408607483, 'B3': 0.051249273121356964, 'B4': 0.03142053633928299, 'B5': 0.3350105583667755, 'B6': 0.11977358907461166, 'B7': 0.044714801013469696, 'B8': 0.04191073775291443, 'B9': 0.005282651633024216, 'BQA': 2720, 'ID': 1, 'NDVI': 0.8285050988197327, 'date': 20210105, 'doy': 5, 'month': 1, 'random': 0.5045240732428179}}\n"
     ]
    }
   ],
   "source": [
    "print(training.first().getInfo())"
   ]
  },
  {
   "cell_type": "code",
   "execution_count": 37,
   "id": "eb79f472",
   "metadata": {
    "ExecuteTime": {
     "end_time": "2021-09-09T17:29:26.601772Z",
     "start_time": "2021-09-09T17:29:21.347137Z"
    }
   },
   "outputs": [
    {
     "name": "stdout",
     "output_type": "stream",
     "text": [
      "{'type': 'Feature', 'geometry': None, 'id': '0_2', 'properties': {'B1': 0.08937954157590866, 'B10': 291.4913024902344, 'B11': 291.53875732421875, 'B2': 0.06789840757846832, 'B3': 0.052150581032037735, 'B4': 0.031620826572179794, 'B5': 0.3308044373989105, 'B6': 0.122127003967762, 'B7': 0.04619194194674492, 'B8': 0.043087445199489594, 'B9': 0.005207542795687914, 'BQA': 2720, 'ID': 1, 'NDVI': 0.8255043029785156, 'date': 20210105, 'doy': 5, 'month': 1, 'random': 0.8763019512832252}}\n"
     ]
    }
   ],
   "source": [
    "print(validation.first().getInfo())"
   ]
  },
  {
   "cell_type": "code",
   "execution_count": 38,
   "id": "ba74718f",
   "metadata": {
    "ExecuteTime": {
     "end_time": "2021-09-09T17:29:26.604497Z",
     "start_time": "2021-09-09T17:29:26.602663Z"
    }
   },
   "outputs": [],
   "source": [
    "classifier = ee.Classifier.smileRandomForest(10).train(training, label, bands)"
   ]
  },
  {
   "cell_type": "code",
   "execution_count": 39,
   "id": "f3581c1a",
   "metadata": {
    "ExecuteTime": {
     "end_time": "2021-09-09T17:29:31.578871Z",
     "start_time": "2021-09-09T17:29:26.605259Z"
    }
   },
   "outputs": [
    {
     "data": {
      "application/vnd.jupyter.widget-view+json": {
       "model_id": "887359fdd210474ea3f8b29c79c9abd7",
       "version_major": 2,
       "version_minor": 0
      },
      "text/plain": [
       "Map(center=[-37.30779156528291, -71.17818286898157], controls=(WidgetControl(options=['position', 'transparent…"
      ]
     },
     "metadata": {},
     "output_type": "display_data"
    }
   ],
   "source": [
    "# Clasificando con las mismas bandas de entrenamiento\n",
    "result = greenest.select(bands).classify(classifier)\n",
    "\n",
    "# # Display the clusters with random colors.\n",
    "Map.addLayer(result.randomVisualizer(), {}, 'classificado')\n",
    "Map"
   ]
  },
  {
   "cell_type": "code",
   "execution_count": 40,
   "id": "19bfc50d",
   "metadata": {
    "ExecuteTime": {
     "end_time": "2021-09-09T17:29:36.191542Z",
     "start_time": "2021-09-09T17:29:31.579847Z"
    }
   },
   "outputs": [
    {
     "data": {
      "text/plain": [
       "{'type': 'Image',\n",
       " 'bands': [{'id': 'classification',\n",
       "   'data_type': {'type': 'PixelType',\n",
       "    'precision': 'int',\n",
       "    'min': -2147483648,\n",
       "    'max': 2147483647},\n",
       "   'crs': 'EPSG:4326',\n",
       "   'crs_transform': [1, 0, 0, 0, 1, 0]}]}"
      ]
     },
     "execution_count": 40,
     "metadata": {},
     "output_type": "execute_result"
    }
   ],
   "source": [
    "result.getInfo()"
   ]
  },
  {
   "cell_type": "code",
   "execution_count": 41,
   "id": "2f9ff9f4",
   "metadata": {
    "ExecuteTime": {
     "end_time": "2021-09-09T17:29:36.194384Z",
     "start_time": "2021-09-09T17:29:36.192686Z"
    }
   },
   "outputs": [],
   "source": [
    "class_values = [1,2,3,4,5,6,7,8,9,10,11,12,13,14,15,16,17,18\n",
    "    ]"
   ]
  },
  {
   "cell_type": "code",
   "execution_count": 42,
   "id": "bf9f0f78",
   "metadata": {
    "ExecuteTime": {
     "end_time": "2021-09-09T17:29:36.196804Z",
     "start_time": "2021-09-09T17:29:36.195105Z"
    }
   },
   "outputs": [],
   "source": [
    "class_palette = ['22c129',\n",
    " 'f0ff00',\n",
    " '0c40f1',\n",
    " '685205',\n",
    " '0d4404',\n",
    " 'e82d13',\n",
    " 'f99504',\n",
    " '17d4c6',\n",
    " '1c6330',\n",
    " '24ff00',\n",
    " '2de50f',\n",
    " 'ccba7d',\n",
    " 'dec61a',\n",
    " '28d909',\n",
    " '03c2ff',\n",
    " '4e8c44',\n",
    " 'fdfdfd',\n",
    " 'c0c233'\n",
    "]"
   ]
  },
  {
   "cell_type": "code",
   "execution_count": 43,
   "id": "69b62656",
   "metadata": {
    "ExecuteTime": {
     "end_time": "2021-09-09T17:29:36.199220Z",
     "start_time": "2021-09-09T17:29:36.197640Z"
    }
   },
   "outputs": [],
   "source": [
    "land = result.set('classification_class_values', class_values)\n",
    "landcoverf = land.set('classification_class_palette', class_palette)"
   ]
  },
  {
   "cell_type": "code",
   "execution_count": 44,
   "id": "22f87ea4",
   "metadata": {
    "ExecuteTime": {
     "end_time": "2021-09-09T17:29:41.572246Z",
     "start_time": "2021-09-09T17:29:36.200161Z"
    }
   },
   "outputs": [
    {
     "data": {
      "application/vnd.jupyter.widget-view+json": {
       "model_id": "887359fdd210474ea3f8b29c79c9abd7",
       "version_major": 2,
       "version_minor": 0
      },
      "text/plain": [
       "Map(center=[-37.30779156528291, -71.17818286898157], controls=(WidgetControl(options=['position', 'transparent…"
      ]
     },
     "metadata": {},
     "output_type": "display_data"
    }
   ],
   "source": [
    "Map.addLayer(landcoverf, {}, 'Land cover Random Forest Región')\n",
    "Map"
   ]
  },
  {
   "cell_type": "code",
   "execution_count": 45,
   "id": "299a227d",
   "metadata": {
    "ExecuteTime": {
     "end_time": "2021-09-09T17:29:41.575004Z",
     "start_time": "2021-09-09T17:29:41.573237Z"
    }
   },
   "outputs": [],
   "source": [
    "train_accuracy = classifier.confusionMatrix()"
   ]
  },
  {
   "cell_type": "code",
   "execution_count": 46,
   "id": "611c9899",
   "metadata": {
    "ExecuteTime": {
     "end_time": "2021-09-09T17:29:46.758731Z",
     "start_time": "2021-09-09T17:29:41.576114Z"
    }
   },
   "outputs": [
    {
     "data": {
      "text/plain": [
       "[[0, 0, 0, 0, 0, 0, 0, 0, 0, 0, 0, 0, 0, 0, 0, 0, 0, 0, 0],\n",
       " [0, 633, 0, 0, 0, 0, 2, 0, 0, 0, 0, 0, 0, 0, 0, 0, 1, 0, 0],\n",
       " [0, 0, 752, 0, 0, 0, 0, 0, 0, 0, 0, 0, 0, 0, 0, 0, 0, 0, 2],\n",
       " [0, 0, 0, 3059, 0, 0, 0, 0, 0, 0, 0, 0, 0, 0, 0, 0, 0, 0, 0],\n",
       " [0, 0, 0, 10, 1605, 0, 0, 0, 0, 0, 0, 0, 0, 1, 0, 0, 0, 0, 0],\n",
       " [0, 0, 0, 0, 0, 102, 0, 0, 0, 0, 0, 0, 0, 0, 0, 0, 0, 0, 0],\n",
       " [0, 2, 1, 0, 0, 1, 917, 0, 0, 0, 0, 1, 0, 0, 4, 0, 0, 0, 0],\n",
       " [0, 0, 0, 0, 5, 0, 0, 626, 0, 0, 0, 0, 0, 0, 0, 0, 0, 0, 0],\n",
       " [0, 0, 0, 5, 0, 0, 0, 0, 52, 0, 0, 0, 0, 0, 0, 0, 0, 0, 0],\n",
       " [0, 0, 0, 0, 0, 0, 0, 0, 0, 82, 0, 0, 0, 0, 0, 0, 0, 0, 0],\n",
       " [0, 0, 0, 0, 0, 0, 0, 0, 0, 0, 223, 0, 0, 0, 0, 0, 0, 0, 0],\n",
       " [0, 0, 0, 0, 0, 0, 2, 0, 0, 0, 0, 156, 0, 0, 0, 0, 0, 0, 0],\n",
       " [0, 0, 0, 0, 0, 0, 0, 0, 0, 0, 0, 0, 3134, 0, 0, 0, 0, 0, 0],\n",
       " [0, 0, 1, 0, 0, 0, 0, 0, 0, 0, 1, 0, 0, 250, 0, 0, 0, 0, 1],\n",
       " [0, 0, 0, 0, 0, 0, 7, 0, 0, 0, 0, 0, 1, 0, 764, 0, 2, 0, 0],\n",
       " [0, 0, 0, 11, 1, 0, 0, 0, 0, 0, 0, 0, 2, 0, 0, 210, 0, 0, 0],\n",
       " [0, 0, 0, 0, 0, 0, 4, 0, 0, 0, 0, 0, 1, 0, 1, 0, 661, 0, 0],\n",
       " [0, 0, 0, 0, 0, 0, 0, 0, 0, 0, 0, 0, 3, 0, 6, 0, 0, 145, 0],\n",
       " [0, 0, 3, 0, 0, 0, 0, 0, 0, 0, 0, 0, 0, 2, 0, 0, 0, 0, 813]]"
      ]
     },
     "execution_count": 46,
     "metadata": {},
     "output_type": "execute_result"
    }
   ],
   "source": [
    "train_accuracy.getInfo()"
   ]
  },
  {
   "cell_type": "code",
   "execution_count": 47,
   "id": "c1693f22",
   "metadata": {
    "ExecuteTime": {
     "end_time": "2021-09-09T17:29:51.597121Z",
     "start_time": "2021-09-09T17:29:46.759704Z"
    }
   },
   "outputs": [
    {
     "data": {
      "text/plain": [
       "0.9941126997476871"
      ]
     },
     "execution_count": 47,
     "metadata": {},
     "output_type": "execute_result"
    }
   ],
   "source": [
    "train_accuracy.accuracy().getInfo()"
   ]
  },
  {
   "cell_type": "code",
   "execution_count": 48,
   "id": "410b951b",
   "metadata": {
    "ExecuteTime": {
     "end_time": "2021-09-09T17:29:56.431542Z",
     "start_time": "2021-09-09T17:29:51.598055Z"
    }
   },
   "outputs": [
    {
     "data": {
      "text/plain": [
       "0.993248592079376"
      ]
     },
     "execution_count": 48,
     "metadata": {},
     "output_type": "execute_result"
    }
   ],
   "source": [
    "train_accuracy.kappa().getInfo()"
   ]
  },
  {
   "cell_type": "code",
   "execution_count": 49,
   "id": "2b29f647",
   "metadata": {
    "ExecuteTime": {
     "end_time": "2021-09-09T17:30:00.958262Z",
     "start_time": "2021-09-09T17:29:56.432500Z"
    }
   },
   "outputs": [
    {
     "data": {
      "text/plain": [
       "[[0],\n",
       " [0.9952830188679245],\n",
       " [0.9973474801061007],\n",
       " [1],\n",
       " [0.9931930693069307],\n",
       " [1],\n",
       " [0.990280777537797],\n",
       " [0.9920760697305864],\n",
       " [0.9122807017543859],\n",
       " [1],\n",
       " [1],\n",
       " [0.9873417721518988],\n",
       " [1],\n",
       " [0.9881422924901185],\n",
       " [0.9870801033591732],\n",
       " [0.9375],\n",
       " [0.9910044977511244],\n",
       " [0.9415584415584416],\n",
       " [0.9938875305623472]]"
      ]
     },
     "execution_count": 49,
     "metadata": {},
     "output_type": "execute_result"
    }
   ],
   "source": [
    "train_accuracy.producersAccuracy().getInfo()"
   ]
  },
  {
   "cell_type": "code",
   "execution_count": 50,
   "id": "32bbd6be",
   "metadata": {
    "ExecuteTime": {
     "end_time": "2021-09-09T17:30:06.590643Z",
     "start_time": "2021-09-09T17:30:00.959015Z"
    }
   },
   "outputs": [
    {
     "data": {
      "text/plain": [
       "[[0,\n",
       "  0.9968503937007874,\n",
       "  0.9933949801849405,\n",
       "  0.9915721231766612,\n",
       "  0.9962756052141527,\n",
       "  0.9902912621359223,\n",
       "  0.9839055793991416,\n",
       "  1,\n",
       "  1,\n",
       "  1,\n",
       "  0.9955357142857143,\n",
       "  0.9936305732484076,\n",
       "  0.9977714103788602,\n",
       "  0.9881422924901185,\n",
       "  0.9858064516129033,\n",
       "  1,\n",
       "  0.9954819277108434,\n",
       "  1,\n",
       "  0.9963235294117647]]"
      ]
     },
     "execution_count": 50,
     "metadata": {},
     "output_type": "execute_result"
    }
   ],
   "source": [
    "train_accuracy.consumersAccuracy().getInfo()"
   ]
  },
  {
   "cell_type": "code",
   "execution_count": 51,
   "id": "ec4e2627",
   "metadata": {
    "ExecuteTime": {
     "end_time": "2021-09-09T17:30:06.593453Z",
     "start_time": "2021-09-09T17:30:06.591781Z"
    }
   },
   "outputs": [],
   "source": [
    "validacion = validation.classify(classifier)"
   ]
  },
  {
   "cell_type": "code",
   "execution_count": 52,
   "id": "511f36f3",
   "metadata": {
    "ExecuteTime": {
     "end_time": "2021-09-09T17:30:06.596320Z",
     "start_time": "2021-09-09T17:30:06.594435Z"
    }
   },
   "outputs": [],
   "source": [
    "testAccuracy = validacion.errorMatrix('ID', 'classification')"
   ]
  },
  {
   "cell_type": "code",
   "execution_count": 53,
   "id": "733c4428",
   "metadata": {
    "ExecuteTime": {
     "end_time": "2021-09-09T17:30:14.212314Z",
     "start_time": "2021-09-09T17:30:06.597320Z"
    }
   },
   "outputs": [
    {
     "data": {
      "text/plain": [
       "0.964816650148662"
      ]
     },
     "execution_count": 53,
     "metadata": {},
     "output_type": "execute_result"
    }
   ],
   "source": [
    "testAccuracy.accuracy().getInfo()"
   ]
  }
 ],
 "metadata": {
  "kernelspec": {
   "display_name": "Python 3 (ipykernel)",
   "language": "python",
   "name": "python3"
  },
  "language_info": {
   "codemirror_mode": {
    "name": "ipython",
    "version": 3
   },
   "file_extension": ".py",
   "mimetype": "text/x-python",
   "name": "python",
   "nbconvert_exporter": "python",
   "pygments_lexer": "ipython3",
   "version": "3.8.11"
  },
  "toc": {
   "base_numbering": 1,
   "nav_menu": {},
   "number_sections": true,
   "sideBar": true,
   "skip_h1_title": false,
   "title_cell": "Table of Contents",
   "title_sidebar": "Contents",
   "toc_cell": false,
   "toc_position": {},
   "toc_section_display": true,
   "toc_window_display": false
  },
  "varInspector": {
   "cols": {
    "lenName": 16,
    "lenType": 16,
    "lenVar": 40
   },
   "kernels_config": {
    "python": {
     "delete_cmd_postfix": "",
     "delete_cmd_prefix": "del ",
     "library": "var_list.py",
     "varRefreshCmd": "print(var_dic_list())"
    },
    "r": {
     "delete_cmd_postfix": ") ",
     "delete_cmd_prefix": "rm(",
     "library": "var_list.r",
     "varRefreshCmd": "cat(var_dic_list()) "
    }
   },
   "types_to_exclude": [
    "module",
    "function",
    "builtin_function_or_method",
    "instance",
    "_Feature"
   ],
   "window_display": false
  }
 },
 "nbformat": 4,
 "nbformat_minor": 5
}
