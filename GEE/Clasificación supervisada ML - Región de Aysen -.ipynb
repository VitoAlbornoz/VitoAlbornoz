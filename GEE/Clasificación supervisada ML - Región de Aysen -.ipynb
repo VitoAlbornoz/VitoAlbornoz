{
 "cells": [
  {
   "cell_type": "markdown",
   "id": "ec8f3945",
   "metadata": {},
   "source": [
    "# Primeros pasos para realizar la clasificación supervisada obtenida de un Raster Landcover de la Región de Aysen (2018)\n"
   ]
  },
  {
   "cell_type": "markdown",
   "id": "06328c4b",
   "metadata": {},
   "source": [
    "Script trabajado por Francisco Albornoz (2021-04-12) / Última modificación / Análisis y clasificación supervisada región de Aysen"
   ]
  },
  {
   "cell_type": "markdown",
   "id": "fed7419c",
   "metadata": {},
   "source": [
    "<img src=https://www.ecopaysen.cl/wp-content/uploads/2019/12/ecopaysen_marca_web.png>"
   ]
  },
  {
   "cell_type": "markdown",
   "id": "0603dbdd",
   "metadata": {},
   "source": [
    "Para crear un nuevo ambiente de trabajo realizamos este comando desde nuestro terminal:\n",
    "    \n",
    "- `conda create -n gee python`\n",
    "- `conda activate gee`\n",
    "- `conda install mamba -c conda-forge`\n",
    "- `mamba install geemap xarray_leaflet -c conda-forge`"
   ]
  },
  {
   "cell_type": "markdown",
   "id": "a3eac27a",
   "metadata": {},
   "source": [
    "Para correr aquellas librerías no encontradas instalamos con el siguiente comando: (correr borrando # o digitalizando ALT+C)"
   ]
  },
  {
   "cell_type": "code",
   "execution_count": null,
   "id": "ff32c724",
   "metadata": {},
   "outputs": [],
   "source": [
    "# !pip install xarray_leaflet\n",
    "# !pip install geemap"
   ]
  },
  {
   "cell_type": "markdown",
   "id": "bba2c3af",
   "metadata": {},
   "source": [
    "Importamos las librerías a utilizar dentro del siguiente script de Jupyter Notebooks:\n",
    "\n",
    "  -  os\n",
    "  - geemap\n",
    "  - xarray_leaflet\n",
    "  - ee\n",
    "  - rasterio\n",
    "  - numpy\n",
    "  - matplotlib\n",
    "  "
   ]
  },
  {
   "cell_type": "code",
   "execution_count": null,
   "id": "81d42867",
   "metadata": {},
   "outputs": [],
   "source": [
    "import os\n",
    "import ee\n",
    "import geemap\n",
    "import xarray_leaflet\n",
    "import rasterio \n",
    "from rasterio import plot\n",
    "import matplotlib.pyplot as plt\n",
    "import numpy as np\n",
    "%matplotlib inline"
   ]
  },
  {
   "cell_type": "markdown",
   "id": "3a7e927e",
   "metadata": {},
   "source": [
    "## Importar un mapa interactivo"
   ]
  },
  {
   "cell_type": "code",
   "execution_count": null,
   "id": "50959a19",
   "metadata": {},
   "outputs": [],
   "source": [
    "Map = geemap.Map()\n",
    "Map"
   ]
  },
  {
   "cell_type": "markdown",
   "id": "fbb05ef9",
   "metadata": {},
   "source": [
    "Insertamos las coordenadas de trabajo, y agregamos una imagen Landsat"
   ]
  },
  {
   "cell_type": "code",
   "execution_count": null,
   "id": "d6ba1017",
   "metadata": {},
   "outputs": [],
   "source": [
    "centroid = ee.Geometry.Point([-72, -44])\n",
    "\n",
    "landsat = ee.ImageCollection('LANDSAT/LC08/C01/T1_SR') \\\n",
    "    .filterBounds(centroid) \\\n",
    "    .filterDate('2020-01-01', '2021-03-31') \\\n",
    "    .sort('CLOUD_COVER') \\\n",
    "    .first() \\\n",
    "    .select('B[1-7]')\n",
    "\n",
    "landsat_vis = {\n",
    "    'min': 0,\n",
    "    'max': 3000,\n",
    "    'bands': ['B5', 'B4', 'B3']\n",
    "}\n",
    "\n",
    "Map.centerObject(centroid, 8)\n",
    "Map.addLayer(landsat, landsat_vis, \"Landsat-8\")"
   ]
  },
  {
   "cell_type": "markdown",
   "id": "17165bd7",
   "metadata": {},
   "source": [
    "Verificación de datos de la imagen landsat"
   ]
  },
  {
   "cell_type": "code",
   "execution_count": null,
   "id": "be61ea8a",
   "metadata": {},
   "outputs": [],
   "source": [
    "ee.Date(landsat.get('system:time_start')).format('YYYY-MM-dd').getInfo()"
   ]
  },
  {
   "cell_type": "code",
   "execution_count": null,
   "id": "a66b523e",
   "metadata": {},
   "outputs": [],
   "source": [
    "landsat.get('CLOUD_COVER').getInfo()"
   ]
  },
  {
   "cell_type": "markdown",
   "id": "fb5f0660",
   "metadata": {},
   "source": [
    "## Importar rasters locales"
   ]
  },
  {
   "cell_type": "markdown",
   "id": "e08e49e9",
   "metadata": {},
   "source": [
    "Debemos localizar nuestro raster a subir, verificamos nuestra carpeta de trabajo:"
   ]
  },
  {
   "cell_type": "code",
   "execution_count": null,
   "id": "e60b70a7",
   "metadata": {},
   "outputs": [],
   "source": [
    "%pwd"
   ]
  },
  {
   "cell_type": "code",
   "execution_count": null,
   "id": "75ae33ff",
   "metadata": {},
   "outputs": [],
   "source": [
    "# verificar en el sistema del pc cual es la ruta\n",
    "# os.path.expanduser('/mnt/c/Users/R7 3700X/Documents/GitHub/VitoAlbornoz/') "
   ]
  },
  {
   "cell_type": "code",
   "execution_count": null,
   "id": "27f93292",
   "metadata": {},
   "outputs": [],
   "source": [
    "# verificar en el sistema del pc cual es la ruta\n",
    "# out_dir = os.path.join(os.path.expanduser('/mnt/c/Users/R7 3700X/Documents/GitHub/VitoAlbornoz/'), 'Data')\n",
    "if not os.path.exists(out_dir):\n",
    "    os.makedirs(out_dir)\n",
    "\n",
    "raster_aysen = os.path.join(out_dir, 'landcover_2018_aysen.tif')"
   ]
  },
  {
   "cell_type": "code",
   "execution_count": null,
   "id": "44186308",
   "metadata": {},
   "outputs": [],
   "source": [
    "out_dir"
   ]
  },
  {
   "cell_type": "code",
   "execution_count": null,
   "id": "cfcb1547",
   "metadata": {},
   "outputs": [],
   "source": [
    "raster_aysen"
   ]
  },
  {
   "cell_type": "code",
   "execution_count": null,
   "id": "75001367",
   "metadata": {},
   "outputs": [],
   "source": [
    "Map.add_raster(raster_aysen, colormap= 'terrain', layer_name='Landcover 2018')\n",
    "Map"
   ]
  },
  {
   "cell_type": "code",
   "execution_count": null,
   "id": "82b168f4",
   "metadata": {},
   "outputs": [],
   "source": [
    "# os.listdir()"
   ]
  },
  {
   "cell_type": "code",
   "execution_count": null,
   "id": "56a61ec7",
   "metadata": {},
   "outputs": [],
   "source": [
    "landcover = ee.Image(\"users/franciscoalbornoz/landcover_sur\")\n",
    "landcover"
   ]
  },
  {
   "cell_type": "code",
   "execution_count": null,
   "id": "3eeda1ec",
   "metadata": {},
   "outputs": [],
   "source": [
    "raster = rasterio.open(out_dir+'/landcover_2018_aysen.tif')"
   ]
  },
  {
   "cell_type": "code",
   "execution_count": null,
   "id": "7617d705",
   "metadata": {},
   "outputs": [],
   "source": [
    "raster.bounds"
   ]
  },
  {
   "cell_type": "code",
   "execution_count": null,
   "id": "aa81277f",
   "metadata": {},
   "outputs": [],
   "source": [
    "raster.crs"
   ]
  },
  {
   "cell_type": "code",
   "execution_count": null,
   "id": "05ac2c88",
   "metadata": {},
   "outputs": [],
   "source": [
    "raster"
   ]
  },
  {
   "cell_type": "markdown",
   "id": "c2a3d83f",
   "metadata": {},
   "source": [
    "## Obteniendo los valores para el Training Datasets"
   ]
  },
  {
   "cell_type": "code",
   "execution_count": null,
   "id": "db5ad638",
   "metadata": {},
   "outputs": [],
   "source": [
    "points = landcover.sample(**{\n",
    "    'region': landsat.geometry(),\n",
    "    'scale': 30,\n",
    "    'numPixels': 5000,\n",
    "    'seed': 0,\n",
    "    'geometries': True  # Set this to False to ignore geometries\n",
    "})\n",
    "\n",
    "Map.addLayer(points, {}, 'training', False)\n",
    "Map\n"
   ]
  },
  {
   "cell_type": "code",
   "execution_count": null,
   "id": "225cfd3f",
   "metadata": {},
   "outputs": [],
   "source": [
    "print(points.size().getInfo())"
   ]
  },
  {
   "cell_type": "code",
   "execution_count": null,
   "id": "fe1e015e",
   "metadata": {},
   "outputs": [],
   "source": [
    "print(points.first().getInfo())"
   ]
  },
  {
   "cell_type": "markdown",
   "id": "44a6e7de",
   "metadata": {},
   "source": [
    "## Entrenando el modelo "
   ]
  },
  {
   "cell_type": "code",
   "execution_count": null,
   "id": "a0297bda",
   "metadata": {},
   "outputs": [],
   "source": [
    "# Usar las bandas para la predicción.\n",
    "bands = ['B1', 'B2', 'B3', 'B4', 'B5', 'B6', 'B7'] #agregar NDVI\n",
    "\n",
    "\n",
    "# Esta propiedad guarda los valores del landcover 2018\n",
    "label = 'b1'\n",
    "\n",
    "# Overlay the points on the imagery to get training.\n",
    "training = landsat.select(bands).sampleRegions(**{\n",
    "  'collection': points,\n",
    "  'properties': [label],\n",
    "  'scale': 30\n",
    "})\n",
    "\n",
    "# Train a CART classifier with default parameters.\n",
    "trained = ee.Classifier.smileCart().train(training, label, bands)"
   ]
  },
  {
   "cell_type": "code",
   "execution_count": null,
   "id": "2fc2cedd",
   "metadata": {},
   "outputs": [],
   "source": [
    "print(training.first().getInfo())"
   ]
  },
  {
   "cell_type": "markdown",
   "id": "e2ccb45c",
   "metadata": {},
   "source": [
    "## Clasificando la Imagen "
   ]
  },
  {
   "cell_type": "code",
   "execution_count": null,
   "id": "e9301d0f",
   "metadata": {},
   "outputs": [],
   "source": [
    "# Clasificar las imagenes con las mismas bandas usadas para el entrenamiento\n",
    "result = landsat.select(bands).classify(trained)\n",
    "\n",
    "# # Viendo los cluster con colores \n",
    "Map.addLayer(result.randomVisualizer(), {}, 'classfied')\n",
    "Map"
   ]
  },
  {
   "cell_type": "code",
   "execution_count": null,
   "id": "9e2f9373",
   "metadata": {},
   "outputs": [],
   "source": [
    "result.getInfo()"
   ]
  },
  {
   "cell_type": "markdown",
   "id": "15ee77d3",
   "metadata": {},
   "source": [
    "## Categorizando según las clases "
   ]
  },
  {
   "cell_type": "code",
   "execution_count": null,
   "id": "ac4c2c39",
   "metadata": {},
   "outputs": [],
   "source": [
    "landcover.getInfo()"
   ]
  },
  {
   "cell_type": "code",
   "execution_count": null,
   "id": "c3bb21d9",
   "metadata": {},
   "outputs": [],
   "source": [
    "class_values = [1,\n",
    " 2,\n",
    " 3,\n",
    " 4,\n",
    " 5,\n",
    " 6,\n",
    " 7,\n",
    " 8,\n",
    " 9,\n",
    " 10,\n",
    " 11,\n",
    " 12,\n",
    " 13,\n",
    " 14,\n",
    " 15,\n",
    " 16]"
   ]
  },
  {
   "cell_type": "code",
   "execution_count": null,
   "id": "f013515f",
   "metadata": {},
   "outputs": [],
   "source": [
    "class_palette = ['476ba1',\n",
    " 'd1defa',\n",
    " 'decaca',\n",
    " 'd99482',\n",
    " 'ee0000',\n",
    " 'ab0000',\n",
    " 'b3aea3',\n",
    " '68ab63',\n",
    " '1c6330',\n",
    " 'b5ca8f',\n",
    " 'a68c30',\n",
    " 'ccba7d',\n",
    " 'e3e3c2',\n",
    " 'caca78',\n",
    " '99c247',\n",
    " '78ae94']\n"
   ]
  },
  {
   "cell_type": "code",
   "execution_count": null,
   "id": "ab5a7d74",
   "metadata": {},
   "outputs": [],
   "source": [
    "landcoverf = result.set('classification_class_values', class_values)\n",
    "landcoverf = landcoverf.set('classification_class_palette', class_palette)"
   ]
  },
  {
   "cell_type": "code",
   "execution_count": null,
   "id": "05d0b8fe",
   "metadata": {},
   "outputs": [],
   "source": [
    "Map.addLayer(landcoverf, {}, 'Land cover Final' )\n",
    "Map"
   ]
  }
 ],
 "metadata": {
  "kernelspec": {
   "display_name": "Python 3",
   "language": "python",
   "name": "python3"
  },
  "language_info": {
   "codemirror_mode": {
    "name": "ipython",
    "version": 3
   },
   "file_extension": ".py",
   "mimetype": "text/x-python",
   "name": "python",
   "nbconvert_exporter": "python",
   "pygments_lexer": "ipython3",
   "version": "3.9.2"
  },
  "toc": {
   "base_numbering": 1,
   "nav_menu": {},
   "number_sections": true,
   "sideBar": true,
   "skip_h1_title": false,
   "title_cell": "Table of Contents",
   "title_sidebar": "Contents",
   "toc_cell": false,
   "toc_position": {
    "height": "calc(100% - 180px)",
    "left": "10px",
    "top": "150px",
    "width": "384px"
   },
   "toc_section_display": true,
   "toc_window_display": true
  },
  "varInspector": {
   "cols": {
    "lenName": 16,
    "lenType": 16,
    "lenVar": 40
   },
   "kernels_config": {
    "python": {
     "delete_cmd_postfix": "",
     "delete_cmd_prefix": "del ",
     "library": "var_list.py",
     "varRefreshCmd": "print(var_dic_list())"
    },
    "r": {
     "delete_cmd_postfix": ") ",
     "delete_cmd_prefix": "rm(",
     "library": "var_list.r",
     "varRefreshCmd": "cat(var_dic_list()) "
    }
   },
   "types_to_exclude": [
    "module",
    "function",
    "builtin_function_or_method",
    "instance",
    "_Feature"
   ],
   "window_display": false
  }
 },
 "nbformat": 4,
 "nbformat_minor": 5
}
