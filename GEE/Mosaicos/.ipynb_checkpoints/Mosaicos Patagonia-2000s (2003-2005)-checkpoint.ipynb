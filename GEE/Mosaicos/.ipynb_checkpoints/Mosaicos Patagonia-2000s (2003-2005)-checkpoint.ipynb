{
 "cells": [
  {
   "cell_type": "markdown",
   "id": "5a5304dc",
   "metadata": {},
   "source": [
    "# Scripts Mosaicos 90's"
   ]
  },
  {
   "cell_type": "code",
   "execution_count": 1,
   "id": "a27a8633",
   "metadata": {},
   "outputs": [],
   "source": [
    "import ee\n",
    "import geemap\n",
    "import os\n",
    "import folium"
   ]
  },
  {
   "cell_type": "code",
   "execution_count": 2,
   "id": "85b4021e",
   "metadata": {},
   "outputs": [],
   "source": [
    "Map = geemap.Map()\n",
    "Map2 = geemap.Map()\n",
    "Map3 = geemap.Map()"
   ]
  },
  {
   "cell_type": "markdown",
   "id": "89949bb8",
   "metadata": {},
   "source": [
    "## Área de Mosaicos"
   ]
  },
  {
   "cell_type": "markdown",
   "id": "2ce8f97e",
   "metadata": {},
   "source": [
    "### Patagonia"
   ]
  },
  {
   "cell_type": "code",
   "execution_count": 3,
   "id": "254d1e8d",
   "metadata": {},
   "outputs": [
    {
     "data": {
      "application/vnd.jupyter.widget-view+json": {
       "model_id": "043dd40364014ddb910da493e947b1bf",
       "version_major": 2,
       "version_minor": 0
      },
      "text/plain": [
       "Map(center=[40, -100], controls=(WidgetControl(options=['position', 'transparent_bg'], widget=HBox(children=(T…"
      ]
     },
     "metadata": {},
     "output_type": "display_data"
    }
   ],
   "source": [
    "work_dir = os.path.expanduser('../../Data/shapes/')\n",
    "patagonia = os.path.join(work_dir, 'patagonia_nueva.shp')\n",
    "patagonia_grande = geemap.shp_to_ee(patagonia)\n",
    "Map.addLayer(patagonia_grande, {}, 'Patagonia')\n",
    "Map"
   ]
  },
  {
   "cell_type": "code",
   "execution_count": 4,
   "id": "e66b818c",
   "metadata": {},
   "outputs": [],
   "source": [
    "work_dir = os.path.expanduser('../../Data/shapes/')\n",
    "norte = os.path.join(work_dir, 'area_norte.shp')\n",
    "patagonia_norte = geemap.shp_to_ee(norte)\n",
    "Map.addLayer(patagonia_norte, {}, 'norte')"
   ]
  },
  {
   "cell_type": "code",
   "execution_count": 5,
   "id": "3cd5c1c0",
   "metadata": {},
   "outputs": [],
   "source": [
    "work_dir = os.path.expanduser('../../Data/shapes/')\n",
    "centro = os.path.join(work_dir, 'area_centro.shp')\n",
    "patagonia_centro = geemap.shp_to_ee(centro)\n",
    "Map.addLayer(patagonia_centro, {}, 'centro')"
   ]
  },
  {
   "cell_type": "code",
   "execution_count": 6,
   "id": "e5925666",
   "metadata": {},
   "outputs": [],
   "source": [
    "work_dir = os.path.expanduser('../../Data/shapes/')\n",
    "sur = os.path.join(work_dir, 'area_sur.shp')\n",
    "patagonia_sur = geemap.shp_to_ee(sur)\n",
    "Map.addLayer(patagonia_grande, {}, 'sur')"
   ]
  },
  {
   "cell_type": "markdown",
   "id": "51e54fc8",
   "metadata": {},
   "source": [
    "## Funciones"
   ]
  },
  {
   "cell_type": "code",
   "execution_count": 7,
   "id": "c750bfea",
   "metadata": {},
   "outputs": [],
   "source": [
    "def addNDVI(image): \n",
    "    ndvi = image.normalizedDifference(['B4', 'B3']).rename('NDVI')\n",
    "    return image.addBands(ndvi)"
   ]
  },
  {
   "cell_type": "code",
   "execution_count": 8,
   "id": "b26d096c",
   "metadata": {},
   "outputs": [],
   "source": [
    "def addNDWI(image):\n",
    "    ndwi = image.normalizedDifference(['B2','B4']).rename('NDWI')\n",
    "    return image.addBands(ndwi)"
   ]
  },
  {
   "cell_type": "code",
   "execution_count": 9,
   "id": "07b12d89",
   "metadata": {},
   "outputs": [],
   "source": [
    "def addNDGI(image):\n",
    "    ndgi = image.normalizedDifference(['B2','B3']).rename('NDGI')\n",
    "    return image.addBands(ndgi)"
   ]
  },
  {
   "cell_type": "code",
   "execution_count": 10,
   "id": "1771739b",
   "metadata": {},
   "outputs": [],
   "source": [
    "def addDate(image):\n",
    "    img_date = ee.Date(image.date())\n",
    "    img_date = ee.Number.parse(img_date.format('YYYYMMdd'))\n",
    "    return image.addBands(ee.Image(img_date).rename('date').toInt())"
   ]
  },
  {
   "cell_type": "code",
   "execution_count": 11,
   "id": "2f646b86",
   "metadata": {},
   "outputs": [],
   "source": [
    "def add_ee_layer(self, ee_image_object, vis_params, name):\n",
    "  map_id_dict = ee.Image(ee_image_object).getMapId(vis_params)\n",
    "  folium.raster_layers.TileLayer(\n",
    "      tiles=map_id_dict['tile_fetcher'].url_format,\n",
    "      attr='Map Data &copy; <a href=\"https://earthengine.google.com/\">Google Earth Engine</a>',\n",
    "      name=name,\n",
    "      overlay=True,\n",
    "      control=True\n",
    "  ).add_to(self)\n",
    "\n",
    "folium.Map.add_ee_layer = add_ee_layer"
   ]
  },
  {
   "cell_type": "code",
   "execution_count": 12,
   "id": "f6b407f2",
   "metadata": {},
   "outputs": [],
   "source": [
    "def Cloud50(image):\n",
    "    scored = ee.Algorithms.Landsat.simpleCloudScore(image)\n",
    "    return image.updateMask(scored.select(['cloud']).lt(50))  "
   ]
  },
  {
   "cell_type": "code",
   "execution_count": 13,
   "id": "f36b3c0c",
   "metadata": {},
   "outputs": [],
   "source": [
    "def Cloud30(image):\n",
    "    scored = ee.Algorithms.Landsat.simpleCloudScore(image)\n",
    "    return image.updateMask(scored.select(['cloud']).lt(30)) "
   ]
  },
  {
   "cell_type": "code",
   "execution_count": 14,
   "id": "2179e685",
   "metadata": {},
   "outputs": [],
   "source": [
    "def Agua(image):\n",
    "    return image.updateMask(ndwi.lte(-0.1))"
   ]
  },
  {
   "cell_type": "code",
   "execution_count": 15,
   "id": "98d07fb0",
   "metadata": {},
   "outputs": [],
   "source": [
    "def Agua1996(image):\n",
    "    return image.updateMask(ndwi1996.gte(0.1))"
   ]
  },
  {
   "cell_type": "code",
   "execution_count": 16,
   "id": "638a608b",
   "metadata": {},
   "outputs": [],
   "source": [
    "def Agua1997(image):\n",
    "    return image.updateMask(ndwi1997.gte(0))"
   ]
  },
  {
   "cell_type": "code",
   "execution_count": 17,
   "id": "167a6afa",
   "metadata": {},
   "outputs": [],
   "source": [
    "def Agua1998(image):\n",
    "    return image.updateMask(ndwi1998.gte(0))"
   ]
  },
  {
   "cell_type": "code",
   "execution_count": 18,
   "id": "0f8959eb",
   "metadata": {},
   "outputs": [],
   "source": [
    "def Ndvi1996(image):\n",
    "    return image.updateMask(ndvi1996.gt(0.089))"
   ]
  },
  {
   "cell_type": "code",
   "execution_count": 19,
   "id": "7f18ca73",
   "metadata": {},
   "outputs": [],
   "source": [
    "def Ndvi1997(image):\n",
    "    return image.updateMask(ndvi1997.lt(0.2))"
   ]
  },
  {
   "cell_type": "code",
   "execution_count": 20,
   "id": "415cf24b",
   "metadata": {},
   "outputs": [],
   "source": [
    "def Ndvi1998(image):\n",
    "    return image.updateMask(ndvi1998.lt(0.2))"
   ]
  },
  {
   "cell_type": "code",
   "execution_count": 21,
   "id": "1b15e485",
   "metadata": {},
   "outputs": [],
   "source": [
    "def Ndvi2(image):\n",
    "    return image.updateMask(ndvi.gte(0.2))"
   ]
  },
  {
   "cell_type": "markdown",
   "id": "86821551",
   "metadata": {},
   "source": [
    "### Funciones SUR"
   ]
  },
  {
   "cell_type": "code",
   "execution_count": 22,
   "id": "6eaf3a44",
   "metadata": {},
   "outputs": [],
   "source": [
    "def Ndvi1996_sur(image):\n",
    "    return image.updateMask(ndvisur.gt(0.04))"
   ]
  },
  {
   "cell_type": "code",
   "execution_count": 23,
   "id": "f8306b15",
   "metadata": {},
   "outputs": [],
   "source": [
    "def contra_Ndvi1996_sur(image):\n",
    "    return image.updateMask(ndvisur.lte(0.04))"
   ]
  },
  {
   "cell_type": "code",
   "execution_count": 24,
   "id": "60ca3c5a",
   "metadata": {},
   "outputs": [],
   "source": [
    "def Agua1996_sur(image):\n",
    "    return image.updateMask(ndwisur.gte(0.3))"
   ]
  },
  {
   "cell_type": "code",
   "execution_count": 25,
   "id": "5e8e5721",
   "metadata": {},
   "outputs": [],
   "source": [
    "def contra_Agua1996_sur(image):\n",
    "    return image.updateMask(ndwisur.lt(0.3))"
   ]
  },
  {
   "cell_type": "markdown",
   "id": "9ff43882",
   "metadata": {},
   "source": [
    "## Colecciones"
   ]
  },
  {
   "cell_type": "markdown",
   "id": "5f4678b9",
   "metadata": {},
   "source": [
    "### Verano 2003"
   ]
  },
  {
   "cell_type": "code",
   "execution_count": 26,
   "id": "55e682c2",
   "metadata": {},
   "outputs": [],
   "source": [
    "start_date = '2003-10-01'\n",
    "end_date = '2004-03-31'\n",
    "\n",
    "l5_2003 = ee.ImageCollection('LANDSAT/LT05/C01/T1_TOA') \\\n",
    "    .filterBounds(patagonia_grande) \\\n",
    "    .filterDate(start_date, end_date)"
   ]
  },
  {
   "cell_type": "code",
   "execution_count": 27,
   "id": "b6cd527b",
   "metadata": {},
   "outputs": [],
   "source": [
    "vizParams = {\n",
    "  'bands': ['B4', 'B3', 'B2'],\n",
    "  'min': 0,\n",
    "  'max': 0.5,\n",
    "  'gamma': [0.95, 1.1, 1]\n",
    "}"
   ]
  },
  {
   "cell_type": "code",
   "execution_count": 28,
   "id": "467063f9",
   "metadata": {},
   "outputs": [],
   "source": [
    "coleccion2003 = l5_2003.map(addNDVI).map(addNDWI).map(addNDGI).map(addDate)"
   ]
  },
  {
   "cell_type": "markdown",
   "id": "161833f3",
   "metadata": {},
   "source": [
    "#### Verano Sur 2003-2005"
   ]
  },
  {
   "cell_type": "code",
   "execution_count": 29,
   "id": "d84f95a0",
   "metadata": {},
   "outputs": [],
   "source": [
    "start_date = '2003-10-01'\n",
    "end_date = '2005-03-31'\n",
    "\n",
    "l5_sur = ee.ImageCollection('LANDSAT/LT05/C01/T1_TOA') \\\n",
    "    .filterBounds(patagonia_grande) \\\n",
    "    .filterDate(start_date, end_date)"
   ]
  },
  {
   "cell_type": "code",
   "execution_count": 30,
   "id": "23d2268d",
   "metadata": {},
   "outputs": [],
   "source": [
    "coleccionsur = l5_sur.map(addNDVI).map(addNDWI).map(addNDGI).map(addDate)"
   ]
  },
  {
   "cell_type": "markdown",
   "id": "e5586dce",
   "metadata": {},
   "source": [
    "### Verano 2004"
   ]
  },
  {
   "cell_type": "code",
   "execution_count": 31,
   "id": "a853ce3d",
   "metadata": {},
   "outputs": [],
   "source": [
    "start_date = '2004-10-01'\n",
    "end_date = '2005-03-31'\n",
    "\n",
    "l5_2004 = ee.ImageCollection('LANDSAT/LT05/C01/T1_TOA') \\\n",
    "    .filterBounds(patagonia_grande) \\\n",
    "    .filterDate(start_date, end_date)"
   ]
  },
  {
   "cell_type": "code",
   "execution_count": 32,
   "id": "5a0269e8",
   "metadata": {},
   "outputs": [],
   "source": [
    "coleccion2004 = l5_2004.map(addNDVI).map(addNDWI).map(addNDGI).map(addDate)"
   ]
  },
  {
   "cell_type": "markdown",
   "id": "0f61a78f",
   "metadata": {},
   "source": [
    "### Verano 2005"
   ]
  },
  {
   "cell_type": "code",
   "execution_count": 33,
   "id": "d689da00",
   "metadata": {},
   "outputs": [],
   "source": [
    "start_date = '2005-10-01'\n",
    "end_date = '2006-03-31'\n",
    "\n",
    "l5_2005 = ee.ImageCollection('LANDSAT/LT05/C01/T1_TOA') \\\n",
    "    .filterBounds(patagonia_grande) \\\n",
    "    .filterDate(start_date, end_date)"
   ]
  },
  {
   "cell_type": "code",
   "execution_count": 34,
   "id": "1f090a15",
   "metadata": {},
   "outputs": [],
   "source": [
    "coleccion2005 = l5_2005.map(addNDVI).map(addNDWI).map(addNDGI).map(addDate)"
   ]
  },
  {
   "cell_type": "markdown",
   "id": "db5b1842",
   "metadata": {},
   "source": [
    "## Quality Mosaic NDVI"
   ]
  },
  {
   "cell_type": "code",
   "execution_count": 35,
   "id": "ddebebe1",
   "metadata": {},
   "outputs": [],
   "source": [
    "NDVI_2003 = coleccion2003.qualityMosaic('NDVI')\n",
    "NDVI_2004 = coleccion2004.qualityMosaic('NDVI')\n",
    "NDVI_2005 = coleccion2005.qualityMosaic('NDVI')"
   ]
  },
  {
   "cell_type": "code",
   "execution_count": 36,
   "id": "fa5a2d62",
   "metadata": {},
   "outputs": [],
   "source": [
    "NDVI_sur = coleccionsur.qualityMosaic('NDVI')"
   ]
  },
  {
   "cell_type": "code",
   "execution_count": 37,
   "id": "e5876b47",
   "metadata": {
    "scrolled": false
   },
   "outputs": [
    {
     "data": {
      "application/vnd.jupyter.widget-view+json": {
       "model_id": "043dd40364014ddb910da493e947b1bf",
       "version_major": 2,
       "version_minor": 0
      },
      "text/plain": [
       "Map(center=[-47.89147413528022, -68.82549165231002], controls=(WidgetControl(options=['position', 'transparent…"
      ]
     },
     "metadata": {},
     "output_type": "display_data"
    }
   ],
   "source": [
    "visParams = {\n",
    "  'bands': ['B4', 'B3', 'B2'],\n",
    "  'min': 0,\n",
    "  'max': 0.4,\n",
    "}\n",
    "Map.addLayer(NDVI_2003, visParams, 'Greenest 2003')\n",
    "Map.addLayer(NDVI_2004, visParams, 'Greenest 2004')\n",
    "Map.addLayer(NDVI_2005, visParams, 'Greenest 2005')\n",
    "Map.addLayer(NDVI_sur, visParams, 'Greenest sur 2003-2005')\n",
    "Map.centerObject(patagonia_grande, 6)\n",
    "Map"
   ]
  },
  {
   "cell_type": "code",
   "execution_count": 38,
   "id": "9f49e4b7",
   "metadata": {},
   "outputs": [],
   "source": [
    "ndvi2003 = NDVI_2003.select('NDVI')\n",
    "ndvi2004 = NDVI_2004.select('NDVI')\n",
    "ndvi2005 = NDVI_2005.select('NDVI')\n",
    "ndvisur = NDVI_sur.select('NDVI')\n",
    "palette = ['#d73027', '#f46d43', '#fdae61', '#fee08b', '#d9ef8b', '#a6d96a', '#66bd63', '#1a9850']"
   ]
  },
  {
   "cell_type": "code",
   "execution_count": 39,
   "id": "2fdbef91",
   "metadata": {},
   "outputs": [
    {
     "data": {
      "application/vnd.jupyter.widget-view+json": {
       "model_id": "043dd40364014ddb910da493e947b1bf",
       "version_major": 2,
       "version_minor": 0
      },
      "text/plain": [
       "Map(center=[-47.89147413528022, -68.82549165231002], controls=(WidgetControl(options=['position', 'transparent…"
      ]
     },
     "metadata": {},
     "output_type": "display_data"
    }
   ],
   "source": [
    "Map.addLayer(ndvi2003, {'palette': palette}, 'NDVI_2003')\n",
    "Map.addLayer(ndvi2004, {'palette': palette}, 'NDVI_2004')\n",
    "Map.addLayer(ndvi2005, {'palette': palette}, 'NDVI_2005')\n",
    "Map.addLayer(ndvisur,{'palette': palette}, 'NDVI_sur 2003-2005')\n",
    "Map"
   ]
  },
  {
   "cell_type": "markdown",
   "id": "2b5fd664",
   "metadata": {},
   "source": [
    "## Agua"
   ]
  },
  {
   "cell_type": "code",
   "execution_count": null,
   "id": "ea675b1e",
   "metadata": {},
   "outputs": [],
   "source": []
  },
  {
   "cell_type": "markdown",
   "id": "33f9b1fb",
   "metadata": {},
   "source": [
    "### Verano 2003"
   ]
  },
  {
   "cell_type": "code",
   "execution_count": 40,
   "id": "8811ab0b",
   "metadata": {},
   "outputs": [],
   "source": [
    "aquast_2003 = coleccion2003.qualityMosaic('NDWI')\n",
    "aquast_sur = coleccionsur.qualityMosaic('NDWI')"
   ]
  },
  {
   "cell_type": "markdown",
   "id": "73c20fb5",
   "metadata": {},
   "source": [
    "### Verano 1997"
   ]
  },
  {
   "cell_type": "code",
   "execution_count": 41,
   "id": "eb7769cd",
   "metadata": {},
   "outputs": [
    {
     "ename": "NameError",
     "evalue": "name 'coleccion1997' is not defined",
     "output_type": "error",
     "traceback": [
      "\u001b[0;31m---------------------------------------------------------------------------\u001b[0m",
      "\u001b[0;31mNameError\u001b[0m                                 Traceback (most recent call last)",
      "\u001b[0;32m/tmp/ipykernel_190/1611196455.py\u001b[0m in \u001b[0;36m<module>\u001b[0;34m\u001b[0m\n\u001b[0;32m----> 1\u001b[0;31m \u001b[0maquast_1997\u001b[0m \u001b[0;34m=\u001b[0m \u001b[0mcoleccion1997\u001b[0m\u001b[0;34m.\u001b[0m\u001b[0mqualityMosaic\u001b[0m\u001b[0;34m(\u001b[0m\u001b[0;34m'NDWI'\u001b[0m\u001b[0;34m)\u001b[0m\u001b[0;34m\u001b[0m\u001b[0;34m\u001b[0m\u001b[0m\n\u001b[0m",
      "\u001b[0;31mNameError\u001b[0m: name 'coleccion1997' is not defined"
     ]
    }
   ],
   "source": [
    "aquast_1997 = coleccion1997.qualityMosaic('NDWI')"
   ]
  },
  {
   "cell_type": "markdown",
   "id": "e8851298",
   "metadata": {},
   "source": [
    "### Verano 1998"
   ]
  },
  {
   "cell_type": "code",
   "execution_count": null,
   "id": "83ebf6ce",
   "metadata": {},
   "outputs": [],
   "source": [
    "aquast_1998 = coleccion1998.qualityMosaic('NDWI')"
   ]
  },
  {
   "cell_type": "markdown",
   "id": "3adcc722",
   "metadata": {},
   "source": [
    "### Quality Mosaic NDWI"
   ]
  },
  {
   "cell_type": "code",
   "execution_count": null,
   "id": "adaa1fe4",
   "metadata": {
    "scrolled": false
   },
   "outputs": [],
   "source": [
    "visParams = {\n",
    "  'bands': ['B4', 'B3', 'B1'],\n",
    "  'min': 0,\n",
    "  'max': 0.4,\n",
    "    'gamma': [0.95, 1.1, 1],\n",
    "}\n",
    "\n",
    "Map2.addLayer(aquast_1996, visParams, 'Agua 1996')\n",
    "Map2.addLayer(aquast_1997, visParams, 'Agua 1997')\n",
    "Map2.addLayer(aquast_1998, visParams, 'Agua 1998')\n",
    "Map2.addLayer(aquast_sur, visParams, 'Agua sur 1996-1999')\n",
    "Map2.centerObject(patagonia_grande, 6)\n",
    "Map2"
   ]
  },
  {
   "cell_type": "code",
   "execution_count": null,
   "id": "78362bbe",
   "metadata": {},
   "outputs": [],
   "source": [
    "ndwi1996 = aquast_1996.select('NDWI')\n",
    "ndwi_viz = ['00FFFF', '0000FF']\n",
    "ndwi1997 = aquast_1997.select('NDWI')\n",
    "ndwi1998 = aquast_1998.select('NDWI')\n",
    "ndwisur = aquast_sur.select('NDWI')\n",
    "Map2.addLayer(ndwi1996, {'palette': ndwi_viz}, 'NDWI_1996')\n",
    "Map2.addLayer(ndwi1997, {'palette': ndwi_viz}, 'NDWI_1997')\n",
    "Map2.addLayer(ndwi1998, {'palette': ndwi_viz}, 'NDWI_1998')\n",
    "Map2.addLayer(ndwisur, {'palette': ndwi_viz}, 'NDWI_sur 1996-1999')\n",
    "Map2"
   ]
  },
  {
   "cell_type": "code",
   "execution_count": null,
   "id": "253bdfe6",
   "metadata": {},
   "outputs": [],
   "source": [
    "ndwi_rgb = ndwi1996.visualize(**{\n",
    "    'min': 0.5,\n",
    "    'max':1,\n",
    "    'palette': ['00FFFF', '0000FF']\n",
    "})"
   ]
  },
  {
   "cell_type": "code",
   "execution_count": null,
   "id": "bc23e4c1",
   "metadata": {
    "scrolled": true
   },
   "outputs": [],
   "source": [
    "ndwi_mask = ndwi1996.updateMask(ndwi1996.gte(0.4))"
   ]
  },
  {
   "cell_type": "code",
   "execution_count": null,
   "id": "f7f45fc6",
   "metadata": {},
   "outputs": [],
   "source": [
    "map_ndwi_mask = folium.Map(location = [-45, -73], zoom_start = 5)\n",
    "map_ndwi_mask.add_ee_layer(ndwi_mask, {} , 'NDWI sin tierra')\n",
    "display(map_ndwi_mask)"
   ]
  },
  {
   "cell_type": "code",
   "execution_count": null,
   "id": "5c4b430b",
   "metadata": {},
   "outputs": [],
   "source": [
    "ndwi_mask1996 = ndwi1996.updateMask(ndwi1996.gte(0.4))"
   ]
  },
  {
   "cell_type": "code",
   "execution_count": null,
   "id": "54c2b169",
   "metadata": {},
   "outputs": [],
   "source": [
    "map_ndwi_mask1996 = folium.Map(location = [-45, -73], zoom_start = 5)\n",
    "map_ndwi_mask1996.add_ee_layer(ndwi_mask1996, {}, 'NDWI sin tierra')\n",
    "display(map_ndwi_mask1996)"
   ]
  },
  {
   "cell_type": "markdown",
   "id": "ae0c7072",
   "metadata": {},
   "source": [
    "## Máscaras"
   ]
  },
  {
   "cell_type": "markdown",
   "id": "b6ba70b1",
   "metadata": {},
   "source": [
    "### Verano 1996"
   ]
  },
  {
   "cell_type": "markdown",
   "id": "be5138cc",
   "metadata": {},
   "source": [
    "#### Nubes 50"
   ]
  },
  {
   "cell_type": "code",
   "execution_count": null,
   "id": "2793477d",
   "metadata": {
    "scrolled": false
   },
   "outputs": [],
   "source": [
    "coleccion96 = coleccion1996.map(Cloud50)\n",
    "greenest96 = coleccion96.qualityMosaic('NDVI')\n",
    "map_1996 = folium.Map(location = [-45, -73], zoom_start = 5)\n",
    "map_1996.add_ee_layer(greenest96, vizParams, 'Mapa sin Nubes')\n",
    "display(map_1996)"
   ]
  },
  {
   "cell_type": "markdown",
   "id": "fd00e4b3",
   "metadata": {},
   "source": [
    "#### Nubes 30"
   ]
  },
  {
   "cell_type": "code",
   "execution_count": null,
   "id": "49f4bf02",
   "metadata": {},
   "outputs": [],
   "source": [
    "coleccion97 = coleccion1997.map(Cloud30)\n",
    "greenest97 = coleccion97.qualityMosaic('NDVI')\n",
    "map_1997 = folium.Map(location = [-45, -73], zoom_start = 5)\n",
    "map_1997.add_ee_layer(greenest97, vizParams, 'Mapa sin Nubes')\n",
    "display(map_1997)"
   ]
  },
  {
   "cell_type": "markdown",
   "id": "65a57c16",
   "metadata": {},
   "source": [
    "#### Nubes Sur"
   ]
  },
  {
   "cell_type": "code",
   "execution_count": 42,
   "id": "fa76799b",
   "metadata": {},
   "outputs": [
    {
     "data": {
      "text/html": [
       "<div style=\"width:100%;\"><div style=\"position:relative;width:100%;height:0;padding-bottom:60%;\"><span style=\"color:#565656\">Make this Notebook Trusted to load map: File -> Trust Notebook</span><iframe src=\"about:blank\" style=\"position:absolute;width:100%;height:100%;left:0;top:0;border:none !important;\" data-html=%3C%21DOCTYPE%20html%3E%0A%3Chead%3E%20%20%20%20%0A%20%20%20%20%3Cmeta%20http-equiv%3D%22content-type%22%20content%3D%22text/html%3B%20charset%3DUTF-8%22%20/%3E%0A%20%20%20%20%0A%20%20%20%20%20%20%20%20%3Cscript%3E%0A%20%20%20%20%20%20%20%20%20%20%20%20L_NO_TOUCH%20%3D%20false%3B%0A%20%20%20%20%20%20%20%20%20%20%20%20L_DISABLE_3D%20%3D%20false%3B%0A%20%20%20%20%20%20%20%20%3C/script%3E%0A%20%20%20%20%0A%20%20%20%20%3Cstyle%3Ehtml%2C%20body%20%7Bwidth%3A%20100%25%3Bheight%3A%20100%25%3Bmargin%3A%200%3Bpadding%3A%200%3B%7D%3C/style%3E%0A%20%20%20%20%3Cstyle%3E%23map%20%7Bposition%3Aabsolute%3Btop%3A0%3Bbottom%3A0%3Bright%3A0%3Bleft%3A0%3B%7D%3C/style%3E%0A%20%20%20%20%3Cscript%20src%3D%22https%3A//cdn.jsdelivr.net/npm/leaflet%401.6.0/dist/leaflet.js%22%3E%3C/script%3E%0A%20%20%20%20%3Cscript%20src%3D%22https%3A//code.jquery.com/jquery-1.12.4.min.js%22%3E%3C/script%3E%0A%20%20%20%20%3Cscript%20src%3D%22https%3A//maxcdn.bootstrapcdn.com/bootstrap/3.2.0/js/bootstrap.min.js%22%3E%3C/script%3E%0A%20%20%20%20%3Cscript%20src%3D%22https%3A//cdnjs.cloudflare.com/ajax/libs/Leaflet.awesome-markers/2.0.2/leaflet.awesome-markers.js%22%3E%3C/script%3E%0A%20%20%20%20%3Clink%20rel%3D%22stylesheet%22%20href%3D%22https%3A//cdn.jsdelivr.net/npm/leaflet%401.6.0/dist/leaflet.css%22/%3E%0A%20%20%20%20%3Clink%20rel%3D%22stylesheet%22%20href%3D%22https%3A//maxcdn.bootstrapcdn.com/bootstrap/3.2.0/css/bootstrap.min.css%22/%3E%0A%20%20%20%20%3Clink%20rel%3D%22stylesheet%22%20href%3D%22https%3A//maxcdn.bootstrapcdn.com/bootstrap/3.2.0/css/bootstrap-theme.min.css%22/%3E%0A%20%20%20%20%3Clink%20rel%3D%22stylesheet%22%20href%3D%22https%3A//maxcdn.bootstrapcdn.com/font-awesome/4.6.3/css/font-awesome.min.css%22/%3E%0A%20%20%20%20%3Clink%20rel%3D%22stylesheet%22%20href%3D%22https%3A//cdnjs.cloudflare.com/ajax/libs/Leaflet.awesome-markers/2.0.2/leaflet.awesome-markers.css%22/%3E%0A%20%20%20%20%3Clink%20rel%3D%22stylesheet%22%20href%3D%22https%3A//cdn.jsdelivr.net/gh/python-visualization/folium/folium/templates/leaflet.awesome.rotate.min.css%22/%3E%0A%20%20%20%20%0A%20%20%20%20%20%20%20%20%20%20%20%20%3Cmeta%20name%3D%22viewport%22%20content%3D%22width%3Ddevice-width%2C%0A%20%20%20%20%20%20%20%20%20%20%20%20%20%20%20%20initial-scale%3D1.0%2C%20maximum-scale%3D1.0%2C%20user-scalable%3Dno%22%20/%3E%0A%20%20%20%20%20%20%20%20%20%20%20%20%3Cstyle%3E%0A%20%20%20%20%20%20%20%20%20%20%20%20%20%20%20%20%23map_4ea4a1bb02094a5bbbd3e94f445ee0f4%20%7B%0A%20%20%20%20%20%20%20%20%20%20%20%20%20%20%20%20%20%20%20%20position%3A%20relative%3B%0A%20%20%20%20%20%20%20%20%20%20%20%20%20%20%20%20%20%20%20%20width%3A%20100.0%25%3B%0A%20%20%20%20%20%20%20%20%20%20%20%20%20%20%20%20%20%20%20%20height%3A%20100.0%25%3B%0A%20%20%20%20%20%20%20%20%20%20%20%20%20%20%20%20%20%20%20%20left%3A%200.0%25%3B%0A%20%20%20%20%20%20%20%20%20%20%20%20%20%20%20%20%20%20%20%20top%3A%200.0%25%3B%0A%20%20%20%20%20%20%20%20%20%20%20%20%20%20%20%20%7D%0A%20%20%20%20%20%20%20%20%20%20%20%20%3C/style%3E%0A%20%20%20%20%20%20%20%20%0A%3C/head%3E%0A%3Cbody%3E%20%20%20%20%0A%20%20%20%20%0A%20%20%20%20%20%20%20%20%20%20%20%20%3Cdiv%20class%3D%22folium-map%22%20id%3D%22map_4ea4a1bb02094a5bbbd3e94f445ee0f4%22%20%3E%3C/div%3E%0A%20%20%20%20%20%20%20%20%0A%3C/body%3E%0A%3Cscript%3E%20%20%20%20%0A%20%20%20%20%0A%20%20%20%20%20%20%20%20%20%20%20%20var%20map_4ea4a1bb02094a5bbbd3e94f445ee0f4%20%3D%20L.map%28%0A%20%20%20%20%20%20%20%20%20%20%20%20%20%20%20%20%22map_4ea4a1bb02094a5bbbd3e94f445ee0f4%22%2C%0A%20%20%20%20%20%20%20%20%20%20%20%20%20%20%20%20%7B%0A%20%20%20%20%20%20%20%20%20%20%20%20%20%20%20%20%20%20%20%20center%3A%20%5B-45.0%2C%20-73.0%5D%2C%0A%20%20%20%20%20%20%20%20%20%20%20%20%20%20%20%20%20%20%20%20crs%3A%20L.CRS.EPSG3857%2C%0A%20%20%20%20%20%20%20%20%20%20%20%20%20%20%20%20%20%20%20%20zoom%3A%205%2C%0A%20%20%20%20%20%20%20%20%20%20%20%20%20%20%20%20%20%20%20%20zoomControl%3A%20true%2C%0A%20%20%20%20%20%20%20%20%20%20%20%20%20%20%20%20%20%20%20%20preferCanvas%3A%20false%2C%0A%20%20%20%20%20%20%20%20%20%20%20%20%20%20%20%20%7D%0A%20%20%20%20%20%20%20%20%20%20%20%20%29%3B%0A%0A%20%20%20%20%20%20%20%20%20%20%20%20%0A%0A%20%20%20%20%20%20%20%20%0A%20%20%20%20%0A%20%20%20%20%20%20%20%20%20%20%20%20var%20tile_layer_4b761a1c47c94d98abdc9e3dd8d17bba%20%3D%20L.tileLayer%28%0A%20%20%20%20%20%20%20%20%20%20%20%20%20%20%20%20%22https%3A//%7Bs%7D.tile.openstreetmap.org/%7Bz%7D/%7Bx%7D/%7By%7D.png%22%2C%0A%20%20%20%20%20%20%20%20%20%20%20%20%20%20%20%20%7B%22attribution%22%3A%20%22Data%20by%20%5Cu0026copy%3B%20%5Cu003ca%20href%3D%5C%22http%3A//openstreetmap.org%5C%22%5Cu003eOpenStreetMap%5Cu003c/a%5Cu003e%2C%20under%20%5Cu003ca%20href%3D%5C%22http%3A//www.openstreetmap.org/copyright%5C%22%5Cu003eODbL%5Cu003c/a%5Cu003e.%22%2C%20%22detectRetina%22%3A%20false%2C%20%22maxNativeZoom%22%3A%2018%2C%20%22maxZoom%22%3A%2018%2C%20%22minZoom%22%3A%200%2C%20%22noWrap%22%3A%20false%2C%20%22opacity%22%3A%201%2C%20%22subdomains%22%3A%20%22abc%22%2C%20%22tms%22%3A%20false%7D%0A%20%20%20%20%20%20%20%20%20%20%20%20%29.addTo%28map_4ea4a1bb02094a5bbbd3e94f445ee0f4%29%3B%0A%20%20%20%20%20%20%20%20%0A%20%20%20%20%0A%20%20%20%20%20%20%20%20%20%20%20%20var%20tile_layer_772d45d17d1b4ee4b196aa3b35eb0c42%20%3D%20L.tileLayer%28%0A%20%20%20%20%20%20%20%20%20%20%20%20%20%20%20%20%22https%3A//earthengine.googleapis.com/v1alpha/projects/earthengine-legacy/maps/e1f6b9c185b060b0c9cf87d4397cf036-da3488397196bb6bd77cf7726ce37dda/tiles/%7Bz%7D/%7Bx%7D/%7By%7D%22%2C%0A%20%20%20%20%20%20%20%20%20%20%20%20%20%20%20%20%7B%22attribution%22%3A%20%22Map%20Data%20%5Cu0026copy%3B%20%5Cu003ca%20href%3D%5C%22https%3A//earthengine.google.com/%5C%22%5Cu003eGoogle%20Earth%20Engine%5Cu003c/a%5Cu003e%22%2C%20%22detectRetina%22%3A%20false%2C%20%22maxNativeZoom%22%3A%2018%2C%20%22maxZoom%22%3A%2018%2C%20%22minZoom%22%3A%200%2C%20%22noWrap%22%3A%20false%2C%20%22opacity%22%3A%201%2C%20%22subdomains%22%3A%20%22abc%22%2C%20%22tms%22%3A%20false%7D%0A%20%20%20%20%20%20%20%20%20%20%20%20%29.addTo%28map_4ea4a1bb02094a5bbbd3e94f445ee0f4%29%3B%0A%20%20%20%20%20%20%20%20%0A%3C/script%3E onload=\"this.contentDocument.open();this.contentDocument.write(    decodeURIComponent(this.getAttribute('data-html')));this.contentDocument.close();\" allowfullscreen webkitallowfullscreen mozallowfullscreen></iframe></div></div>"
      ],
      "text/plain": [
       "<folium.folium.Map at 0x7f303e099460>"
      ]
     },
     "metadata": {},
     "output_type": "display_data"
    }
   ],
   "source": [
    "coleccion_sur = coleccionsur.map(Cloud30)\n",
    "greenestsur = coleccion_sur.qualityMosaic('NDVI')\n",
    "map_sur = folium.Map(location = [-45, -73], zoom_start = 5)\n",
    "map_sur.add_ee_layer(greenestsur, vizParams, 'Mapa sin Nubes')\n",
    "display(map_sur)"
   ]
  },
  {
   "cell_type": "code",
   "execution_count": null,
   "id": "2767d5d2",
   "metadata": {
    "scrolled": false
   },
   "outputs": [],
   "source": [
    "coleccionsur2 = coleccionsur.map(Cloud50)\n",
    "greenestsur2 = coleccionsur2.qualityMosaic('NDVI')\n",
    "map_sur2 = folium.Map(location = [-45, -73], zoom_start = 5)\n",
    "map_sur2.add_ee_layer(greenestsur2, vizParams, 'Mapa sin Nubes')\n",
    "display(map_sur2)"
   ]
  },
  {
   "cell_type": "code",
   "execution_count": null,
   "id": "fff58450",
   "metadata": {},
   "outputs": [],
   "source": [
    "coleccion_sur = coleccionsur.map(Cloud30)\n",
    "coleccion_sur = coleccion_sur.map(Agua1996_sur)\n",
    "aquastsur = coleccion_sur.qualityMosaic('NDWI')\n",
    "map_sur = folium.Map(location = [-45, -73], zoom_start = 5)\n",
    "map_sur.add_ee_layer(aquastsur, vizParams, 'Mapa sin Nubes')\n",
    "display(map_sur)"
   ]
  },
  {
   "cell_type": "code",
   "execution_count": null,
   "id": "32fc0b6c",
   "metadata": {},
   "outputs": [],
   "source": [
    "coleccion_sur = coleccionsur.map(Cloud30)\n",
    "coleccion_sur = coleccion_sur.map(Ndvi1996_sur)\n",
    "tierrasur = coleccion_sur.qualityMosaic('NDVI')\n",
    "map_sur = folium.Map(location = [-45, -73], zoom_start = 5)\n",
    "map_sur.add_ee_layer(tierrasur, vizParams, 'Mapa sin Nubes')\n",
    "display(map_sur)"
   ]
  },
  {
   "cell_type": "markdown",
   "id": "6cd9b695",
   "metadata": {},
   "source": [
    "#### Filtro de agua"
   ]
  },
  {
   "cell_type": "code",
   "execution_count": 43,
   "id": "f0d396c3",
   "metadata": {},
   "outputs": [
    {
     "ename": "NameError",
     "evalue": "name 'coleccion1996' is not defined",
     "output_type": "error",
     "traceback": [
      "\u001b[0;31m---------------------------------------------------------------------------\u001b[0m",
      "\u001b[0;31mNameError\u001b[0m                                 Traceback (most recent call last)",
      "\u001b[0;32m/tmp/ipykernel_190/511974361.py\u001b[0m in \u001b[0;36m<module>\u001b[0;34m\u001b[0m\n\u001b[0;32m----> 1\u001b[0;31m \u001b[0mcoleccion96_\u001b[0m \u001b[0;34m=\u001b[0m \u001b[0mcoleccion1996\u001b[0m\u001b[0;34m.\u001b[0m\u001b[0mmap\u001b[0m\u001b[0;34m(\u001b[0m\u001b[0mCloud50\u001b[0m\u001b[0;34m)\u001b[0m\u001b[0;34m\u001b[0m\u001b[0;34m\u001b[0m\u001b[0m\n\u001b[0m\u001b[1;32m      2\u001b[0m \u001b[0mcoleccion96_\u001b[0m \u001b[0;34m=\u001b[0m \u001b[0mcoleccion96_\u001b[0m\u001b[0;34m.\u001b[0m\u001b[0mmap\u001b[0m\u001b[0;34m(\u001b[0m\u001b[0mAgua1996\u001b[0m\u001b[0;34m)\u001b[0m\u001b[0;34m\u001b[0m\u001b[0;34m\u001b[0m\u001b[0m\n\u001b[1;32m      3\u001b[0m \u001b[0mgreenest96_\u001b[0m \u001b[0;34m=\u001b[0m \u001b[0mcoleccion96_\u001b[0m\u001b[0;34m.\u001b[0m\u001b[0mqualityMosaic\u001b[0m\u001b[0;34m(\u001b[0m\u001b[0;34m'NDVI'\u001b[0m\u001b[0;34m)\u001b[0m\u001b[0;34m\u001b[0m\u001b[0;34m\u001b[0m\u001b[0m\n\u001b[1;32m      4\u001b[0m \u001b[0mmap_1996_\u001b[0m \u001b[0;34m=\u001b[0m \u001b[0mfolium\u001b[0m\u001b[0;34m.\u001b[0m\u001b[0mMap\u001b[0m\u001b[0;34m(\u001b[0m\u001b[0mlocation\u001b[0m \u001b[0;34m=\u001b[0m \u001b[0;34m[\u001b[0m\u001b[0;34m-\u001b[0m\u001b[0;36m45\u001b[0m\u001b[0;34m,\u001b[0m \u001b[0;34m-\u001b[0m\u001b[0;36m73\u001b[0m\u001b[0;34m]\u001b[0m\u001b[0;34m,\u001b[0m \u001b[0mzoom_start\u001b[0m \u001b[0;34m=\u001b[0m \u001b[0;36m5\u001b[0m\u001b[0;34m)\u001b[0m\u001b[0;34m\u001b[0m\u001b[0;34m\u001b[0m\u001b[0m\n\u001b[1;32m      5\u001b[0m \u001b[0mmap_1996_\u001b[0m\u001b[0;34m.\u001b[0m\u001b[0madd_ee_layer\u001b[0m\u001b[0;34m(\u001b[0m\u001b[0mgreenest96_\u001b[0m\u001b[0;34m,\u001b[0m \u001b[0mvizParams\u001b[0m\u001b[0;34m,\u001b[0m \u001b[0;34m'Mapa sin Nubes'\u001b[0m\u001b[0;34m)\u001b[0m\u001b[0;34m\u001b[0m\u001b[0;34m\u001b[0m\u001b[0m\n",
      "\u001b[0;31mNameError\u001b[0m: name 'coleccion1996' is not defined"
     ]
    }
   ],
   "source": [
    "coleccion96_ = coleccion1996.map(Cloud50)\n",
    "coleccion96_ = coleccion96_.map(Agua1996)\n",
    "greenest96_ = coleccion96_.qualityMosaic('NDVI')\n",
    "map_1996_ = folium.Map(location = [-45, -73], zoom_start = 5)\n",
    "map_1996_.add_ee_layer(greenest96_, vizParams, 'Mapa sin Nubes')\n",
    "display(map_1996_)"
   ]
  },
  {
   "cell_type": "code",
   "execution_count": 44,
   "id": "47c27835",
   "metadata": {
    "scrolled": false
   },
   "outputs": [
    {
     "ename": "NameError",
     "evalue": "name 'coleccion1996' is not defined",
     "output_type": "error",
     "traceback": [
      "\u001b[0;31m---------------------------------------------------------------------------\u001b[0m",
      "\u001b[0;31mNameError\u001b[0m                                 Traceback (most recent call last)",
      "\u001b[0;32m/tmp/ipykernel_190/1042657004.py\u001b[0m in \u001b[0;36m<module>\u001b[0;34m\u001b[0m\n\u001b[0;32m----> 1\u001b[0;31m \u001b[0magua_1996\u001b[0m \u001b[0;34m=\u001b[0m \u001b[0mcoleccion1996\u001b[0m\u001b[0;34m.\u001b[0m\u001b[0mmap\u001b[0m\u001b[0;34m(\u001b[0m\u001b[0mCloud50\u001b[0m\u001b[0;34m)\u001b[0m\u001b[0;34m\u001b[0m\u001b[0;34m\u001b[0m\u001b[0m\n\u001b[0m\u001b[1;32m      2\u001b[0m \u001b[0magua_1996\u001b[0m \u001b[0;34m=\u001b[0m \u001b[0magua_1996\u001b[0m\u001b[0;34m.\u001b[0m\u001b[0mmap\u001b[0m\u001b[0;34m(\u001b[0m\u001b[0mAgua1996\u001b[0m\u001b[0;34m)\u001b[0m\u001b[0;34m\u001b[0m\u001b[0;34m\u001b[0m\u001b[0m\n\u001b[1;32m      3\u001b[0m \u001b[0maquast96_\u001b[0m \u001b[0;34m=\u001b[0m \u001b[0magua_1996\u001b[0m\u001b[0;34m.\u001b[0m\u001b[0mqualityMosaic\u001b[0m\u001b[0;34m(\u001b[0m\u001b[0;34m'NDWI'\u001b[0m\u001b[0;34m)\u001b[0m\u001b[0;34m\u001b[0m\u001b[0;34m\u001b[0m\u001b[0m\n\u001b[1;32m      4\u001b[0m \u001b[0mmap_agua1996\u001b[0m \u001b[0;34m=\u001b[0m \u001b[0mfolium\u001b[0m\u001b[0;34m.\u001b[0m\u001b[0mMap\u001b[0m\u001b[0;34m(\u001b[0m\u001b[0mlocation\u001b[0m \u001b[0;34m=\u001b[0m \u001b[0;34m[\u001b[0m\u001b[0;34m-\u001b[0m\u001b[0;36m45\u001b[0m\u001b[0;34m,\u001b[0m \u001b[0;34m-\u001b[0m\u001b[0;36m73\u001b[0m\u001b[0;34m]\u001b[0m\u001b[0;34m,\u001b[0m \u001b[0mzoom_start\u001b[0m \u001b[0;34m=\u001b[0m \u001b[0;36m5\u001b[0m\u001b[0;34m)\u001b[0m\u001b[0;34m\u001b[0m\u001b[0;34m\u001b[0m\u001b[0m\n\u001b[1;32m      5\u001b[0m \u001b[0mmap_agua1996\u001b[0m\u001b[0;34m.\u001b[0m\u001b[0madd_ee_layer\u001b[0m\u001b[0;34m(\u001b[0m\u001b[0maquast96_\u001b[0m\u001b[0;34m,\u001b[0m \u001b[0mvizParams\u001b[0m\u001b[0;34m,\u001b[0m \u001b[0;34m'Mapa sin Nubes'\u001b[0m\u001b[0;34m)\u001b[0m\u001b[0;34m\u001b[0m\u001b[0;34m\u001b[0m\u001b[0m\n",
      "\u001b[0;31mNameError\u001b[0m: name 'coleccion1996' is not defined"
     ]
    }
   ],
   "source": [
    "agua_1996 = coleccion1996.map(Cloud50)\n",
    "agua_1996 = agua_1996.map(Agua1996)\n",
    "aquast96_ = agua_1996.qualityMosaic('NDWI')\n",
    "map_agua1996 = folium.Map(location = [-45, -73], zoom_start = 5)\n",
    "map_agua1996.add_ee_layer(aquast96_, vizParams, 'Mapa sin Nubes')\n",
    "display(map_agua1996)"
   ]
  },
  {
   "cell_type": "code",
   "execution_count": null,
   "id": "ac8f71f5",
   "metadata": {},
   "outputs": [],
   "source": []
  },
  {
   "cell_type": "code",
   "execution_count": 45,
   "id": "d0b566bc",
   "metadata": {
    "scrolled": false
   },
   "outputs": [
    {
     "ename": "NameError",
     "evalue": "name 'coleccion1996' is not defined",
     "output_type": "error",
     "traceback": [
      "\u001b[0;31m---------------------------------------------------------------------------\u001b[0m",
      "\u001b[0;31mNameError\u001b[0m                                 Traceback (most recent call last)",
      "\u001b[0;32m/tmp/ipykernel_190/471620403.py\u001b[0m in \u001b[0;36m<module>\u001b[0;34m\u001b[0m\n\u001b[0;32m----> 1\u001b[0;31m \u001b[0mcoleccion96_2\u001b[0m \u001b[0;34m=\u001b[0m \u001b[0mcoleccion1996\u001b[0m\u001b[0;34m.\u001b[0m\u001b[0mmap\u001b[0m\u001b[0;34m(\u001b[0m\u001b[0mCloud50\u001b[0m\u001b[0;34m)\u001b[0m\u001b[0;34m\u001b[0m\u001b[0;34m\u001b[0m\u001b[0m\n\u001b[0m\u001b[1;32m      2\u001b[0m \u001b[0mgreenest96_2\u001b[0m \u001b[0;34m=\u001b[0m \u001b[0mcoleccion96_2\u001b[0m\u001b[0;34m.\u001b[0m\u001b[0mqualityMosaic\u001b[0m\u001b[0;34m(\u001b[0m\u001b[0;34m'NDVI'\u001b[0m\u001b[0;34m)\u001b[0m\u001b[0;34m\u001b[0m\u001b[0;34m\u001b[0m\u001b[0m\n\u001b[1;32m      3\u001b[0m \u001b[0mmap_1996_2\u001b[0m \u001b[0;34m=\u001b[0m \u001b[0mfolium\u001b[0m\u001b[0;34m.\u001b[0m\u001b[0mMap\u001b[0m\u001b[0;34m(\u001b[0m\u001b[0mlocation\u001b[0m \u001b[0;34m=\u001b[0m \u001b[0;34m[\u001b[0m\u001b[0;34m-\u001b[0m\u001b[0;36m45\u001b[0m\u001b[0;34m,\u001b[0m \u001b[0;34m-\u001b[0m\u001b[0;36m73\u001b[0m\u001b[0;34m]\u001b[0m\u001b[0;34m,\u001b[0m \u001b[0mzoom_start\u001b[0m \u001b[0;34m=\u001b[0m \u001b[0;36m5\u001b[0m\u001b[0;34m)\u001b[0m\u001b[0;34m\u001b[0m\u001b[0;34m\u001b[0m\u001b[0m\n\u001b[1;32m      4\u001b[0m \u001b[0mmap_1996_2\u001b[0m\u001b[0;34m.\u001b[0m\u001b[0madd_ee_layer\u001b[0m\u001b[0;34m(\u001b[0m\u001b[0mgreenest96_2\u001b[0m\u001b[0;34m,\u001b[0m \u001b[0mvizParams\u001b[0m\u001b[0;34m,\u001b[0m \u001b[0;34m'Mapa sin Nubes'\u001b[0m\u001b[0;34m)\u001b[0m\u001b[0;34m\u001b[0m\u001b[0;34m\u001b[0m\u001b[0m\n\u001b[1;32m      5\u001b[0m \u001b[0mdisplay\u001b[0m\u001b[0;34m(\u001b[0m\u001b[0mmap_1996_2\u001b[0m\u001b[0;34m)\u001b[0m\u001b[0;34m\u001b[0m\u001b[0;34m\u001b[0m\u001b[0m\n",
      "\u001b[0;31mNameError\u001b[0m: name 'coleccion1996' is not defined"
     ]
    }
   ],
   "source": [
    "coleccion96_2 = coleccion1996.map(Cloud50)\n",
    "greenest96_2 = coleccion96_2.qualityMosaic('NDVI')\n",
    "map_1996_2 = folium.Map(location = [-45, -73], zoom_start = 5)\n",
    "map_1996_2.add_ee_layer(greenest96_2, vizParams, 'Mapa sin Nubes')\n",
    "display(map_1996_2)"
   ]
  },
  {
   "cell_type": "markdown",
   "id": "9ee054b8",
   "metadata": {},
   "source": [
    "#### Filtro NDVI"
   ]
  },
  {
   "cell_type": "code",
   "execution_count": 46,
   "id": "662802ac",
   "metadata": {},
   "outputs": [
    {
     "ename": "NameError",
     "evalue": "name 'coleccion1996' is not defined",
     "output_type": "error",
     "traceback": [
      "\u001b[0;31m---------------------------------------------------------------------------\u001b[0m",
      "\u001b[0;31mNameError\u001b[0m                                 Traceback (most recent call last)",
      "\u001b[0;32m/tmp/ipykernel_190/563179599.py\u001b[0m in \u001b[0;36m<module>\u001b[0;34m\u001b[0m\n\u001b[0;32m----> 1\u001b[0;31m \u001b[0mcoleccion96_3\u001b[0m \u001b[0;34m=\u001b[0m \u001b[0mcoleccion1996\u001b[0m\u001b[0;34m.\u001b[0m\u001b[0mmap\u001b[0m\u001b[0;34m(\u001b[0m\u001b[0mCloud50\u001b[0m\u001b[0;34m)\u001b[0m\u001b[0;34m\u001b[0m\u001b[0;34m\u001b[0m\u001b[0m\n\u001b[0m\u001b[1;32m      2\u001b[0m \u001b[0mcoleccion96_3\u001b[0m \u001b[0;34m=\u001b[0m \u001b[0mcoleccion96_3\u001b[0m\u001b[0;34m.\u001b[0m\u001b[0mmap\u001b[0m\u001b[0;34m(\u001b[0m\u001b[0mNdvi1996\u001b[0m\u001b[0;34m)\u001b[0m\u001b[0;34m\u001b[0m\u001b[0;34m\u001b[0m\u001b[0m\n\u001b[1;32m      3\u001b[0m \u001b[0mgreenest96_3\u001b[0m \u001b[0;34m=\u001b[0m \u001b[0mcoleccion96_3\u001b[0m\u001b[0;34m.\u001b[0m\u001b[0mqualityMosaic\u001b[0m\u001b[0;34m(\u001b[0m\u001b[0;34m'NDVI'\u001b[0m\u001b[0;34m)\u001b[0m\u001b[0;34m\u001b[0m\u001b[0;34m\u001b[0m\u001b[0m\n\u001b[1;32m      4\u001b[0m \u001b[0mmap_1996_3\u001b[0m \u001b[0;34m=\u001b[0m \u001b[0mfolium\u001b[0m\u001b[0;34m.\u001b[0m\u001b[0mMap\u001b[0m\u001b[0;34m(\u001b[0m\u001b[0mlocation\u001b[0m \u001b[0;34m=\u001b[0m \u001b[0;34m[\u001b[0m\u001b[0;34m-\u001b[0m\u001b[0;36m45\u001b[0m\u001b[0;34m,\u001b[0m \u001b[0;34m-\u001b[0m\u001b[0;36m73\u001b[0m\u001b[0;34m]\u001b[0m\u001b[0;34m,\u001b[0m \u001b[0mzoom_start\u001b[0m \u001b[0;34m=\u001b[0m \u001b[0;36m5\u001b[0m\u001b[0;34m)\u001b[0m\u001b[0;34m\u001b[0m\u001b[0;34m\u001b[0m\u001b[0m\n\u001b[1;32m      5\u001b[0m \u001b[0mmap_1996_3\u001b[0m\u001b[0;34m.\u001b[0m\u001b[0madd_ee_layer\u001b[0m\u001b[0;34m(\u001b[0m\u001b[0mgreenest96_3\u001b[0m\u001b[0;34m,\u001b[0m \u001b[0mvizParams\u001b[0m\u001b[0;34m,\u001b[0m \u001b[0;34m'Mapa sin Nubes'\u001b[0m\u001b[0;34m)\u001b[0m\u001b[0;34m\u001b[0m\u001b[0;34m\u001b[0m\u001b[0m\n",
      "\u001b[0;31mNameError\u001b[0m: name 'coleccion1996' is not defined"
     ]
    }
   ],
   "source": [
    "coleccion96_3 = coleccion1996.map(Cloud50)\n",
    "coleccion96_3 = coleccion96_3.map(Ndvi1996)\n",
    "greenest96_3 = coleccion96_3.qualityMosaic('NDVI')\n",
    "map_1996_3 = folium.Map(location = [-45, -73], zoom_start = 5)\n",
    "map_1996_3.add_ee_layer(greenest96_3, vizParams, 'Mapa sin Nubes')\n",
    "display(map_1996_3)"
   ]
  },
  {
   "cell_type": "code",
   "execution_count": 47,
   "id": "778173c5",
   "metadata": {},
   "outputs": [
    {
     "ename": "NameError",
     "evalue": "name 'ndwisur' is not defined",
     "output_type": "error",
     "traceback": [
      "\u001b[0;31m---------------------------------------------------------------------------\u001b[0m",
      "\u001b[0;31mNameError\u001b[0m                                 Traceback (most recent call last)",
      "\u001b[0;32m/tmp/ipykernel_190/486103924.py\u001b[0m in \u001b[0;36m<module>\u001b[0;34m\u001b[0m\n\u001b[1;32m      1\u001b[0m \u001b[0mcoleccion_sur2\u001b[0m \u001b[0;34m=\u001b[0m \u001b[0mcoleccionsur\u001b[0m\u001b[0;34m.\u001b[0m\u001b[0mmap\u001b[0m\u001b[0;34m(\u001b[0m\u001b[0mCloud30\u001b[0m\u001b[0;34m)\u001b[0m\u001b[0;34m\u001b[0m\u001b[0;34m\u001b[0m\u001b[0m\n\u001b[1;32m      2\u001b[0m \u001b[0mcoleccion_sur2\u001b[0m \u001b[0;34m=\u001b[0m \u001b[0mcoleccion_sur2\u001b[0m\u001b[0;34m.\u001b[0m\u001b[0mmap\u001b[0m\u001b[0;34m(\u001b[0m\u001b[0mNdvi1996_sur\u001b[0m\u001b[0;34m)\u001b[0m\u001b[0;34m\u001b[0m\u001b[0;34m\u001b[0m\u001b[0m\n\u001b[0;32m----> 3\u001b[0;31m \u001b[0mcoleccion_sur2\u001b[0m \u001b[0;34m=\u001b[0m \u001b[0mcoleccion_sur2\u001b[0m\u001b[0;34m.\u001b[0m\u001b[0mmap\u001b[0m\u001b[0;34m(\u001b[0m\u001b[0mAgua1996_sur\u001b[0m\u001b[0;34m)\u001b[0m\u001b[0;34m\u001b[0m\u001b[0;34m\u001b[0m\u001b[0m\n\u001b[0m\u001b[1;32m      4\u001b[0m \u001b[0mgreenest_sur2\u001b[0m \u001b[0;34m=\u001b[0m \u001b[0mcoleccion_sur2\u001b[0m\u001b[0;34m.\u001b[0m\u001b[0mqualityMosaic\u001b[0m\u001b[0;34m(\u001b[0m\u001b[0;34m'NDVI'\u001b[0m\u001b[0;34m)\u001b[0m\u001b[0;34m\u001b[0m\u001b[0;34m\u001b[0m\u001b[0m\n\u001b[1;32m      5\u001b[0m \u001b[0mmap_sur2\u001b[0m \u001b[0;34m=\u001b[0m \u001b[0mfolium\u001b[0m\u001b[0;34m.\u001b[0m\u001b[0mMap\u001b[0m\u001b[0;34m(\u001b[0m\u001b[0mlocation\u001b[0m \u001b[0;34m=\u001b[0m \u001b[0;34m[\u001b[0m\u001b[0;34m-\u001b[0m\u001b[0;36m45\u001b[0m\u001b[0;34m,\u001b[0m \u001b[0;34m-\u001b[0m\u001b[0;36m73\u001b[0m\u001b[0;34m]\u001b[0m\u001b[0;34m,\u001b[0m \u001b[0mzoom_start\u001b[0m \u001b[0;34m=\u001b[0m \u001b[0;36m5\u001b[0m\u001b[0;34m)\u001b[0m\u001b[0;34m\u001b[0m\u001b[0;34m\u001b[0m\u001b[0m\n",
      "\u001b[0;32m~/anaconda3/envs/gee/lib/python3.9/site-packages/ee/collection.py\u001b[0m in \u001b[0;36mmap\u001b[0;34m(self, algorithm, opt_dropNulls)\u001b[0m\n\u001b[1;32m    196\u001b[0m     \u001b[0melement_type\u001b[0m \u001b[0;34m=\u001b[0m \u001b[0mself\u001b[0m\u001b[0;34m.\u001b[0m\u001b[0melementType\u001b[0m\u001b[0;34m(\u001b[0m\u001b[0;34m)\u001b[0m\u001b[0;34m\u001b[0m\u001b[0;34m\u001b[0m\u001b[0m\n\u001b[1;32m    197\u001b[0m     \u001b[0mwith_cast\u001b[0m \u001b[0;34m=\u001b[0m \u001b[0;32mlambda\u001b[0m \u001b[0me\u001b[0m\u001b[0;34m:\u001b[0m \u001b[0malgorithm\u001b[0m\u001b[0;34m(\u001b[0m\u001b[0melement_type\u001b[0m\u001b[0;34m(\u001b[0m\u001b[0me\u001b[0m\u001b[0;34m)\u001b[0m\u001b[0;34m)\u001b[0m\u001b[0;34m\u001b[0m\u001b[0;34m\u001b[0m\u001b[0m\n\u001b[0;32m--> 198\u001b[0;31m     return self._cast(apifunction.ApiFunction.call_(\n\u001b[0m\u001b[1;32m    199\u001b[0m         'Collection.map', self, with_cast, opt_dropNulls))\n\u001b[1;32m    200\u001b[0m \u001b[0;34m\u001b[0m\u001b[0m\n",
      "\u001b[0;32m~/anaconda3/envs/gee/lib/python3.9/site-packages/ee/apifunction.py\u001b[0m in \u001b[0;36mcall_\u001b[0;34m(cls, name, *args, **kwargs)\u001b[0m\n\u001b[1;32m     79\u001b[0m       \u001b[0ma\u001b[0m \u001b[0mrecognized\u001b[0m \u001b[0;32mreturn\u001b[0m \u001b[0mtype\u001b[0m\u001b[0;34m,\u001b[0m \u001b[0mthe\u001b[0m \u001b[0mreturned\u001b[0m \u001b[0mvalue\u001b[0m \u001b[0mwill\u001b[0m \u001b[0mbe\u001b[0m \u001b[0mcast\u001b[0m \u001b[0mto\u001b[0m \u001b[0mthat\u001b[0m \u001b[0mtype\u001b[0m\u001b[0;34m.\u001b[0m\u001b[0;34m\u001b[0m\u001b[0;34m\u001b[0m\u001b[0m\n\u001b[1;32m     80\u001b[0m     \"\"\"\n\u001b[0;32m---> 81\u001b[0;31m     \u001b[0;32mreturn\u001b[0m \u001b[0mcls\u001b[0m\u001b[0;34m.\u001b[0m\u001b[0mlookup\u001b[0m\u001b[0;34m(\u001b[0m\u001b[0mname\u001b[0m\u001b[0;34m)\u001b[0m\u001b[0;34m.\u001b[0m\u001b[0mcall\u001b[0m\u001b[0;34m(\u001b[0m\u001b[0;34m*\u001b[0m\u001b[0margs\u001b[0m\u001b[0;34m,\u001b[0m \u001b[0;34m**\u001b[0m\u001b[0mkwargs\u001b[0m\u001b[0;34m)\u001b[0m\u001b[0;34m\u001b[0m\u001b[0;34m\u001b[0m\u001b[0m\n\u001b[0m\u001b[1;32m     82\u001b[0m \u001b[0;34m\u001b[0m\u001b[0m\n\u001b[1;32m     83\u001b[0m   \u001b[0;34m@\u001b[0m\u001b[0mclassmethod\u001b[0m\u001b[0;34m\u001b[0m\u001b[0;34m\u001b[0m\u001b[0m\n",
      "\u001b[0;32m~/anaconda3/envs/gee/lib/python3.9/site-packages/ee/function.py\u001b[0m in \u001b[0;36mcall\u001b[0;34m(self, *args, **kwargs)\u001b[0m\n\u001b[1;32m     65\u001b[0m       \u001b[0mto\u001b[0m \u001b[0mthat\u001b[0m \u001b[0mtype\u001b[0m\u001b[0;34m.\u001b[0m\u001b[0;34m\u001b[0m\u001b[0;34m\u001b[0m\u001b[0m\n\u001b[1;32m     66\u001b[0m     \"\"\"\n\u001b[0;32m---> 67\u001b[0;31m     \u001b[0;32mreturn\u001b[0m \u001b[0mself\u001b[0m\u001b[0;34m.\u001b[0m\u001b[0mapply\u001b[0m\u001b[0;34m(\u001b[0m\u001b[0mself\u001b[0m\u001b[0;34m.\u001b[0m\u001b[0mnameArgs\u001b[0m\u001b[0;34m(\u001b[0m\u001b[0margs\u001b[0m\u001b[0;34m,\u001b[0m \u001b[0mkwargs\u001b[0m\u001b[0;34m)\u001b[0m\u001b[0;34m)\u001b[0m\u001b[0;34m\u001b[0m\u001b[0;34m\u001b[0m\u001b[0m\n\u001b[0m\u001b[1;32m     68\u001b[0m \u001b[0;34m\u001b[0m\u001b[0m\n\u001b[1;32m     69\u001b[0m   \u001b[0;32mdef\u001b[0m \u001b[0mapply\u001b[0m\u001b[0;34m(\u001b[0m\u001b[0mself\u001b[0m\u001b[0;34m,\u001b[0m \u001b[0mnamed_args\u001b[0m\u001b[0;34m)\u001b[0m\u001b[0;34m:\u001b[0m\u001b[0;34m\u001b[0m\u001b[0;34m\u001b[0m\u001b[0m\n",
      "\u001b[0;32m~/anaconda3/envs/gee/lib/python3.9/site-packages/ee/function.py\u001b[0m in \u001b[0;36mapply\u001b[0;34m(self, named_args)\u001b[0m\n\u001b[1;32m     78\u001b[0m       \u001b[0mto\u001b[0m \u001b[0mthat\u001b[0m \u001b[0mtype\u001b[0m\u001b[0;34m.\u001b[0m\u001b[0;34m\u001b[0m\u001b[0;34m\u001b[0m\u001b[0m\n\u001b[1;32m     79\u001b[0m     \"\"\"\n\u001b[0;32m---> 80\u001b[0;31m     \u001b[0mresult\u001b[0m \u001b[0;34m=\u001b[0m \u001b[0mcomputedobject\u001b[0m\u001b[0;34m.\u001b[0m\u001b[0mComputedObject\u001b[0m\u001b[0;34m(\u001b[0m\u001b[0mself\u001b[0m\u001b[0;34m,\u001b[0m \u001b[0mself\u001b[0m\u001b[0;34m.\u001b[0m\u001b[0mpromoteArgs\u001b[0m\u001b[0;34m(\u001b[0m\u001b[0mnamed_args\u001b[0m\u001b[0;34m)\u001b[0m\u001b[0;34m)\u001b[0m\u001b[0;34m\u001b[0m\u001b[0;34m\u001b[0m\u001b[0m\n\u001b[0m\u001b[1;32m     81\u001b[0m     \u001b[0;32mreturn\u001b[0m \u001b[0mFunction\u001b[0m\u001b[0;34m.\u001b[0m\u001b[0m_promoter\u001b[0m\u001b[0;34m(\u001b[0m\u001b[0mresult\u001b[0m\u001b[0;34m,\u001b[0m \u001b[0mself\u001b[0m\u001b[0;34m.\u001b[0m\u001b[0mgetReturnType\u001b[0m\u001b[0;34m(\u001b[0m\u001b[0;34m)\u001b[0m\u001b[0;34m)\u001b[0m\u001b[0;34m\u001b[0m\u001b[0;34m\u001b[0m\u001b[0m\n\u001b[1;32m     82\u001b[0m \u001b[0;34m\u001b[0m\u001b[0m\n",
      "\u001b[0;32m~/anaconda3/envs/gee/lib/python3.9/site-packages/ee/function.py\u001b[0m in \u001b[0;36mpromoteArgs\u001b[0;34m(self, args)\u001b[0m\n\u001b[1;32m    105\u001b[0m       \u001b[0mname\u001b[0m \u001b[0;34m=\u001b[0m \u001b[0mspec\u001b[0m\u001b[0;34m[\u001b[0m\u001b[0;34m'name'\u001b[0m\u001b[0;34m]\u001b[0m\u001b[0;34m\u001b[0m\u001b[0;34m\u001b[0m\u001b[0m\n\u001b[1;32m    106\u001b[0m       \u001b[0;32mif\u001b[0m \u001b[0mname\u001b[0m \u001b[0;32min\u001b[0m \u001b[0margs\u001b[0m\u001b[0;34m:\u001b[0m\u001b[0;34m\u001b[0m\u001b[0;34m\u001b[0m\u001b[0m\n\u001b[0;32m--> 107\u001b[0;31m         \u001b[0mpromoted_args\u001b[0m\u001b[0;34m[\u001b[0m\u001b[0mname\u001b[0m\u001b[0;34m]\u001b[0m \u001b[0;34m=\u001b[0m \u001b[0mFunction\u001b[0m\u001b[0;34m.\u001b[0m\u001b[0m_promoter\u001b[0m\u001b[0;34m(\u001b[0m\u001b[0margs\u001b[0m\u001b[0;34m[\u001b[0m\u001b[0mname\u001b[0m\u001b[0;34m]\u001b[0m\u001b[0;34m,\u001b[0m \u001b[0mspec\u001b[0m\u001b[0;34m[\u001b[0m\u001b[0;34m'type'\u001b[0m\u001b[0;34m]\u001b[0m\u001b[0;34m)\u001b[0m\u001b[0;34m\u001b[0m\u001b[0;34m\u001b[0m\u001b[0m\n\u001b[0m\u001b[1;32m    108\u001b[0m       \u001b[0;32melif\u001b[0m \u001b[0;32mnot\u001b[0m \u001b[0mspec\u001b[0m\u001b[0;34m.\u001b[0m\u001b[0mget\u001b[0m\u001b[0;34m(\u001b[0m\u001b[0;34m'optional'\u001b[0m\u001b[0;34m)\u001b[0m\u001b[0;34m:\u001b[0m\u001b[0;34m\u001b[0m\u001b[0;34m\u001b[0m\u001b[0m\n\u001b[1;32m    109\u001b[0m         raise ee_exception.EEException(\n",
      "\u001b[0;32m~/anaconda3/envs/gee/lib/python3.9/site-packages/ee/__init__.py\u001b[0m in \u001b[0;36m_Promote\u001b[0;34m(arg, klass)\u001b[0m\n\u001b[1;32m    243\u001b[0m       \u001b[0;32melse\u001b[0m\u001b[0;34m:\u001b[0m\u001b[0;34m\u001b[0m\u001b[0;34m\u001b[0m\u001b[0m\n\u001b[1;32m    244\u001b[0m         \u001b[0margs_count\u001b[0m \u001b[0;34m=\u001b[0m \u001b[0mlen\u001b[0m\u001b[0;34m(\u001b[0m\u001b[0minspect\u001b[0m\u001b[0;34m.\u001b[0m\u001b[0mgetfullargspec\u001b[0m\u001b[0;34m(\u001b[0m\u001b[0marg\u001b[0m\u001b[0;34m)\u001b[0m\u001b[0;34m.\u001b[0m\u001b[0margs\u001b[0m\u001b[0;34m)\u001b[0m\u001b[0;34m\u001b[0m\u001b[0;34m\u001b[0m\u001b[0m\n\u001b[0;32m--> 245\u001b[0;31m       \u001b[0;32mreturn\u001b[0m \u001b[0mCustomFunction\u001b[0m\u001b[0;34m.\u001b[0m\u001b[0mcreate\u001b[0m\u001b[0;34m(\u001b[0m\u001b[0marg\u001b[0m\u001b[0;34m,\u001b[0m \u001b[0;34m'Object'\u001b[0m\u001b[0;34m,\u001b[0m \u001b[0;34m[\u001b[0m\u001b[0;34m'Object'\u001b[0m\u001b[0;34m]\u001b[0m \u001b[0;34m*\u001b[0m \u001b[0margs_count\u001b[0m\u001b[0;34m)\u001b[0m\u001b[0;34m\u001b[0m\u001b[0;34m\u001b[0m\u001b[0m\n\u001b[0m\u001b[1;32m    246\u001b[0m     \u001b[0;32melif\u001b[0m \u001b[0misinstance\u001b[0m\u001b[0;34m(\u001b[0m\u001b[0marg\u001b[0m\u001b[0;34m,\u001b[0m \u001b[0mEncodable\u001b[0m\u001b[0;34m)\u001b[0m\u001b[0;34m:\u001b[0m\u001b[0;34m\u001b[0m\u001b[0;34m\u001b[0m\u001b[0m\n\u001b[1;32m    247\u001b[0m       \u001b[0;31m# An ee.Function or a computed function like the return value of\u001b[0m\u001b[0;34m\u001b[0m\u001b[0;34m\u001b[0m\u001b[0;34m\u001b[0m\u001b[0m\n",
      "\u001b[0;32m~/anaconda3/envs/gee/lib/python3.9/site-packages/ee/customfunction.py\u001b[0m in \u001b[0;36mcreate\u001b[0;34m(func, return_type, arg_types)\u001b[0m\n\u001b[1;32m    119\u001b[0m         \u001b[0;34m'args'\u001b[0m\u001b[0;34m:\u001b[0m \u001b[0margs\u001b[0m\u001b[0;34m\u001b[0m\u001b[0;34m\u001b[0m\u001b[0m\n\u001b[1;32m    120\u001b[0m     }\n\u001b[0;32m--> 121\u001b[0;31m     \u001b[0;32mreturn\u001b[0m \u001b[0mCustomFunction\u001b[0m\u001b[0;34m(\u001b[0m\u001b[0msignature\u001b[0m\u001b[0;34m,\u001b[0m \u001b[0mfunc\u001b[0m\u001b[0;34m)\u001b[0m\u001b[0;34m\u001b[0m\u001b[0;34m\u001b[0m\u001b[0m\n\u001b[0m\u001b[1;32m    122\u001b[0m \u001b[0;34m\u001b[0m\u001b[0m\n\u001b[1;32m    123\u001b[0m   \u001b[0;34m@\u001b[0m\u001b[0mstaticmethod\u001b[0m\u001b[0;34m\u001b[0m\u001b[0;34m\u001b[0m\u001b[0m\n",
      "\u001b[0;32m~/anaconda3/envs/gee/lib/python3.9/site-packages/ee/customfunction.py\u001b[0m in \u001b[0;36m__init__\u001b[0;34m(self, signature, body)\u001b[0m\n\u001b[1;32m     41\u001b[0m \u001b[0;34m\u001b[0m\u001b[0m\n\u001b[1;32m     42\u001b[0m     \u001b[0;31m# The signature of the function.\u001b[0m\u001b[0;34m\u001b[0m\u001b[0;34m\u001b[0m\u001b[0;34m\u001b[0m\u001b[0m\n\u001b[0;32m---> 43\u001b[0;31m     self._signature = CustomFunction._resolveNamelessArgs(\n\u001b[0m\u001b[1;32m     44\u001b[0m         signature, variables, body)\n\u001b[1;32m     45\u001b[0m \u001b[0;34m\u001b[0m\u001b[0m\n",
      "\u001b[0;32m~/anaconda3/envs/gee/lib/python3.9/site-packages/ee/customfunction.py\u001b[0m in \u001b[0;36m_resolveNamelessArgs\u001b[0;34m(signature, variables, body)\u001b[0m\n\u001b[1;32m    164\u001b[0m       \u001b[0;32mreturn\u001b[0m \u001b[0mCountNodes\u001b[0m\u001b[0;34m(\u001b[0m\u001b[0msix\u001b[0m\u001b[0;34m.\u001b[0m\u001b[0mitervalues\u001b[0m\u001b[0;34m(\u001b[0m\u001b[0mexpression\u001b[0m\u001b[0;34m[\u001b[0m\u001b[0;34m'values'\u001b[0m\u001b[0;34m]\u001b[0m\u001b[0;34m)\u001b[0m\u001b[0;34m)\u001b[0m\u001b[0;34m\u001b[0m\u001b[0;34m\u001b[0m\u001b[0m\n\u001b[1;32m    165\u001b[0m \u001b[0;34m\u001b[0m\u001b[0m\n\u001b[0;32m--> 166\u001b[0;31m     \u001b[0mserialized_body\u001b[0m \u001b[0;34m=\u001b[0m \u001b[0mserializer\u001b[0m\u001b[0;34m.\u001b[0m\u001b[0mencode\u001b[0m\u001b[0;34m(\u001b[0m\u001b[0mbody\u001b[0m\u001b[0;34m(\u001b[0m\u001b[0;34m*\u001b[0m\u001b[0mvariables\u001b[0m\u001b[0;34m)\u001b[0m\u001b[0;34m,\u001b[0m \u001b[0mfor_cloud_api\u001b[0m\u001b[0;34m=\u001b[0m\u001b[0;32mTrue\u001b[0m\u001b[0;34m)\u001b[0m\u001b[0;34m\u001b[0m\u001b[0;34m\u001b[0m\u001b[0m\n\u001b[0m\u001b[1;32m    167\u001b[0m     \u001b[0mbase_name\u001b[0m \u001b[0;34m=\u001b[0m \u001b[0;34m'_MAPPING_VAR_%d_'\u001b[0m \u001b[0;34m%\u001b[0m \u001b[0mCountFunctions\u001b[0m\u001b[0;34m(\u001b[0m\u001b[0mserialized_body\u001b[0m\u001b[0;34m)\u001b[0m\u001b[0;34m\u001b[0m\u001b[0;34m\u001b[0m\u001b[0m\n\u001b[1;32m    168\u001b[0m \u001b[0;34m\u001b[0m\u001b[0m\n",
      "\u001b[0;32m~/anaconda3/envs/gee/lib/python3.9/site-packages/ee/collection.py\u001b[0m in \u001b[0;36m<lambda>\u001b[0;34m(e)\u001b[0m\n\u001b[1;32m    195\u001b[0m     \"\"\"\n\u001b[1;32m    196\u001b[0m     \u001b[0melement_type\u001b[0m \u001b[0;34m=\u001b[0m \u001b[0mself\u001b[0m\u001b[0;34m.\u001b[0m\u001b[0melementType\u001b[0m\u001b[0;34m(\u001b[0m\u001b[0;34m)\u001b[0m\u001b[0;34m\u001b[0m\u001b[0;34m\u001b[0m\u001b[0m\n\u001b[0;32m--> 197\u001b[0;31m     \u001b[0mwith_cast\u001b[0m \u001b[0;34m=\u001b[0m \u001b[0;32mlambda\u001b[0m \u001b[0me\u001b[0m\u001b[0;34m:\u001b[0m \u001b[0malgorithm\u001b[0m\u001b[0;34m(\u001b[0m\u001b[0melement_type\u001b[0m\u001b[0;34m(\u001b[0m\u001b[0me\u001b[0m\u001b[0;34m)\u001b[0m\u001b[0;34m)\u001b[0m\u001b[0;34m\u001b[0m\u001b[0;34m\u001b[0m\u001b[0m\n\u001b[0m\u001b[1;32m    198\u001b[0m     return self._cast(apifunction.ApiFunction.call_(\n\u001b[1;32m    199\u001b[0m         'Collection.map', self, with_cast, opt_dropNulls))\n",
      "\u001b[0;32m/tmp/ipykernel_190/1730505785.py\u001b[0m in \u001b[0;36mAgua1996_sur\u001b[0;34m(image)\u001b[0m\n\u001b[1;32m      1\u001b[0m \u001b[0;32mdef\u001b[0m \u001b[0mAgua1996_sur\u001b[0m\u001b[0;34m(\u001b[0m\u001b[0mimage\u001b[0m\u001b[0;34m)\u001b[0m\u001b[0;34m:\u001b[0m\u001b[0;34m\u001b[0m\u001b[0;34m\u001b[0m\u001b[0m\n\u001b[0;32m----> 2\u001b[0;31m     \u001b[0;32mreturn\u001b[0m \u001b[0mimage\u001b[0m\u001b[0;34m.\u001b[0m\u001b[0mupdateMask\u001b[0m\u001b[0;34m(\u001b[0m\u001b[0mndwisur\u001b[0m\u001b[0;34m.\u001b[0m\u001b[0mgte\u001b[0m\u001b[0;34m(\u001b[0m\u001b[0;36m0.3\u001b[0m\u001b[0;34m)\u001b[0m\u001b[0;34m)\u001b[0m\u001b[0;34m\u001b[0m\u001b[0;34m\u001b[0m\u001b[0m\n\u001b[0m",
      "\u001b[0;31mNameError\u001b[0m: name 'ndwisur' is not defined"
     ]
    }
   ],
   "source": [
    "coleccion_sur2 = coleccionsur.map(Cloud30)\n",
    "coleccion_sur2 = coleccion_sur2.map(Ndvi1996_sur)\n",
    "coleccion_sur2 = coleccion_sur2.map(Agua1996_sur)\n",
    "greenest_sur2 = coleccion_sur2.qualityMosaic('NDVI')\n",
    "map_sur2 = folium.Map(location = [-45, -73], zoom_start = 5)\n",
    "map_sur2.add_ee_layer(greenest_sur2, vizParams, 'Mapa sin Nubes')\n",
    "display(map_sur2)"
   ]
  },
  {
   "cell_type": "code",
   "execution_count": null,
   "id": "27dc3c63",
   "metadata": {},
   "outputs": [],
   "source": []
  },
  {
   "cell_type": "markdown",
   "id": "4460a9fd",
   "metadata": {},
   "source": [
    "### Verano 1997"
   ]
  },
  {
   "cell_type": "code",
   "execution_count": 48,
   "id": "807d1d0d",
   "metadata": {
    "scrolled": false
   },
   "outputs": [
    {
     "ename": "NameError",
     "evalue": "name 'coleccion1997' is not defined",
     "output_type": "error",
     "traceback": [
      "\u001b[0;31m---------------------------------------------------------------------------\u001b[0m",
      "\u001b[0;31mNameError\u001b[0m                                 Traceback (most recent call last)",
      "\u001b[0;32m/tmp/ipykernel_190/4126474863.py\u001b[0m in \u001b[0;36m<module>\u001b[0;34m\u001b[0m\n\u001b[0;32m----> 1\u001b[0;31m \u001b[0mcoleccion97\u001b[0m \u001b[0;34m=\u001b[0m \u001b[0mcoleccion1997\u001b[0m\u001b[0;34m.\u001b[0m\u001b[0mmap\u001b[0m\u001b[0;34m(\u001b[0m\u001b[0mCloud50\u001b[0m\u001b[0;34m)\u001b[0m\u001b[0;34m\u001b[0m\u001b[0;34m\u001b[0m\u001b[0m\n\u001b[0m\u001b[1;32m      2\u001b[0m \u001b[0;34m\u001b[0m\u001b[0m\n\u001b[1;32m      3\u001b[0m \u001b[0mgreenest97\u001b[0m \u001b[0;34m=\u001b[0m \u001b[0mcoleccion97\u001b[0m\u001b[0;34m.\u001b[0m\u001b[0mqualityMosaic\u001b[0m\u001b[0;34m(\u001b[0m\u001b[0;34m'NDVI'\u001b[0m\u001b[0;34m)\u001b[0m\u001b[0;34m\u001b[0m\u001b[0;34m\u001b[0m\u001b[0m\n\u001b[1;32m      4\u001b[0m \u001b[0mmap_1997\u001b[0m \u001b[0;34m=\u001b[0m \u001b[0mfolium\u001b[0m\u001b[0;34m.\u001b[0m\u001b[0mMap\u001b[0m\u001b[0;34m(\u001b[0m\u001b[0mlocation\u001b[0m \u001b[0;34m=\u001b[0m \u001b[0;34m[\u001b[0m\u001b[0;34m-\u001b[0m\u001b[0;36m45\u001b[0m\u001b[0;34m,\u001b[0m \u001b[0;34m-\u001b[0m\u001b[0;36m73\u001b[0m\u001b[0;34m]\u001b[0m\u001b[0;34m,\u001b[0m \u001b[0mzoom_start\u001b[0m \u001b[0;34m=\u001b[0m \u001b[0;36m5\u001b[0m\u001b[0;34m)\u001b[0m\u001b[0;34m\u001b[0m\u001b[0;34m\u001b[0m\u001b[0m\n\u001b[1;32m      5\u001b[0m \u001b[0mmap_1997\u001b[0m\u001b[0;34m.\u001b[0m\u001b[0madd_ee_layer\u001b[0m\u001b[0;34m(\u001b[0m\u001b[0mgreenest97\u001b[0m\u001b[0;34m,\u001b[0m \u001b[0mvizParams\u001b[0m\u001b[0;34m,\u001b[0m \u001b[0;34m'Mapa sin nubes 97'\u001b[0m\u001b[0;34m)\u001b[0m\u001b[0;34m\u001b[0m\u001b[0;34m\u001b[0m\u001b[0m\n",
      "\u001b[0;31mNameError\u001b[0m: name 'coleccion1997' is not defined"
     ]
    }
   ],
   "source": [
    "coleccion97 = coleccion1997.map(Cloud50)\n",
    "\n",
    "greenest97 = coleccion97.qualityMosaic('NDVI')\n",
    "map_1997 = folium.Map(location = [-45, -73], zoom_start = 5)\n",
    "map_1997.add_ee_layer(greenest97, vizParams, 'Mapa sin nubes 97')\n",
    "display(map_1997)"
   ]
  },
  {
   "cell_type": "code",
   "execution_count": 49,
   "id": "62e838d6",
   "metadata": {},
   "outputs": [
    {
     "ename": "NameError",
     "evalue": "name 'coleccion1997' is not defined",
     "output_type": "error",
     "traceback": [
      "\u001b[0;31m---------------------------------------------------------------------------\u001b[0m",
      "\u001b[0;31mNameError\u001b[0m                                 Traceback (most recent call last)",
      "\u001b[0;32m/tmp/ipykernel_190/3639395249.py\u001b[0m in \u001b[0;36m<module>\u001b[0;34m\u001b[0m\n\u001b[0;32m----> 1\u001b[0;31m \u001b[0magua_1997\u001b[0m \u001b[0;34m=\u001b[0m \u001b[0mcoleccion1997\u001b[0m\u001b[0;34m.\u001b[0m\u001b[0mmap\u001b[0m\u001b[0;34m(\u001b[0m\u001b[0mAgua1997\u001b[0m\u001b[0;34m)\u001b[0m\u001b[0;34m\u001b[0m\u001b[0;34m\u001b[0m\u001b[0m\n\u001b[0m\u001b[1;32m      2\u001b[0m \u001b[0maquast97_\u001b[0m \u001b[0;34m=\u001b[0m \u001b[0magua_1997\u001b[0m\u001b[0;34m.\u001b[0m\u001b[0mqualityMosaic\u001b[0m\u001b[0;34m(\u001b[0m\u001b[0;34m'NDWI'\u001b[0m\u001b[0;34m)\u001b[0m\u001b[0;34m\u001b[0m\u001b[0;34m\u001b[0m\u001b[0m\n\u001b[1;32m      3\u001b[0m \u001b[0mmap_agua1997\u001b[0m \u001b[0;34m=\u001b[0m \u001b[0mfolium\u001b[0m\u001b[0;34m.\u001b[0m\u001b[0mMap\u001b[0m\u001b[0;34m(\u001b[0m\u001b[0mlocation\u001b[0m \u001b[0;34m=\u001b[0m \u001b[0;34m[\u001b[0m\u001b[0;34m-\u001b[0m\u001b[0;36m45\u001b[0m\u001b[0;34m,\u001b[0m \u001b[0;34m-\u001b[0m\u001b[0;36m73\u001b[0m\u001b[0;34m]\u001b[0m\u001b[0;34m,\u001b[0m \u001b[0mzoom_start\u001b[0m \u001b[0;34m=\u001b[0m \u001b[0;36m5\u001b[0m\u001b[0;34m)\u001b[0m\u001b[0;34m\u001b[0m\u001b[0;34m\u001b[0m\u001b[0m\n\u001b[1;32m      4\u001b[0m \u001b[0mmap_agua1997\u001b[0m\u001b[0;34m.\u001b[0m\u001b[0madd_ee_layer\u001b[0m\u001b[0;34m(\u001b[0m\u001b[0maquast97_\u001b[0m\u001b[0;34m,\u001b[0m \u001b[0mvizParams\u001b[0m\u001b[0;34m,\u001b[0m \u001b[0;34m'Mapa sin Nubes 97'\u001b[0m\u001b[0;34m)\u001b[0m\u001b[0;34m\u001b[0m\u001b[0;34m\u001b[0m\u001b[0m\n\u001b[1;32m      5\u001b[0m \u001b[0mdisplay\u001b[0m\u001b[0;34m(\u001b[0m\u001b[0mmap_agua1997\u001b[0m\u001b[0;34m)\u001b[0m\u001b[0;34m\u001b[0m\u001b[0;34m\u001b[0m\u001b[0m\n",
      "\u001b[0;31mNameError\u001b[0m: name 'coleccion1997' is not defined"
     ]
    }
   ],
   "source": [
    "agua_1997 = coleccion1997.map(Agua1997)\n",
    "aquast97_ = agua_1997.qualityMosaic('NDWI')\n",
    "map_agua1997 = folium.Map(location = [-45, -73], zoom_start = 5)\n",
    "map_agua1997.add_ee_layer(aquast97_, vizParams, 'Mapa sin Nubes 97')\n",
    "display(map_agua1997)"
   ]
  },
  {
   "cell_type": "code",
   "execution_count": null,
   "id": "69024020",
   "metadata": {},
   "outputs": [],
   "source": []
  },
  {
   "cell_type": "code",
   "execution_count": null,
   "id": "114383b0",
   "metadata": {},
   "outputs": [],
   "source": []
  },
  {
   "cell_type": "markdown",
   "id": "0ab92a35",
   "metadata": {},
   "source": [
    "### Verano 1998"
   ]
  },
  {
   "cell_type": "code",
   "execution_count": 50,
   "id": "8ab1e454",
   "metadata": {
    "scrolled": true
   },
   "outputs": [
    {
     "ename": "NameError",
     "evalue": "name 'coleccion1998' is not defined",
     "output_type": "error",
     "traceback": [
      "\u001b[0;31m---------------------------------------------------------------------------\u001b[0m",
      "\u001b[0;31mNameError\u001b[0m                                 Traceback (most recent call last)",
      "\u001b[0;32m/tmp/ipykernel_190/4055762197.py\u001b[0m in \u001b[0;36m<module>\u001b[0;34m\u001b[0m\n\u001b[0;32m----> 1\u001b[0;31m \u001b[0mcoleccion98\u001b[0m \u001b[0;34m=\u001b[0m \u001b[0mcoleccion1998\u001b[0m\u001b[0;34m.\u001b[0m\u001b[0mmap\u001b[0m\u001b[0;34m(\u001b[0m\u001b[0mCloud50\u001b[0m\u001b[0;34m)\u001b[0m\u001b[0;34m\u001b[0m\u001b[0;34m\u001b[0m\u001b[0m\n\u001b[0m\u001b[1;32m      2\u001b[0m \u001b[0;31m# coleccion2019 = coleccion2019.map(Agua)\u001b[0m\u001b[0;34m\u001b[0m\u001b[0;34m\u001b[0m\u001b[0;34m\u001b[0m\u001b[0m\n\u001b[1;32m      3\u001b[0m \u001b[0mgreenest98\u001b[0m \u001b[0;34m=\u001b[0m \u001b[0mcoleccion98\u001b[0m\u001b[0;34m.\u001b[0m\u001b[0mqualityMosaic\u001b[0m\u001b[0;34m(\u001b[0m\u001b[0;34m'NDVI'\u001b[0m\u001b[0;34m)\u001b[0m\u001b[0;34m\u001b[0m\u001b[0;34m\u001b[0m\u001b[0m\n\u001b[1;32m      4\u001b[0m \u001b[0mmap_1998\u001b[0m \u001b[0;34m=\u001b[0m \u001b[0mfolium\u001b[0m\u001b[0;34m.\u001b[0m\u001b[0mMap\u001b[0m\u001b[0;34m(\u001b[0m\u001b[0mlocation\u001b[0m \u001b[0;34m=\u001b[0m \u001b[0;34m[\u001b[0m\u001b[0;34m-\u001b[0m\u001b[0;36m45\u001b[0m\u001b[0;34m,\u001b[0m \u001b[0;34m-\u001b[0m\u001b[0;36m73\u001b[0m\u001b[0;34m]\u001b[0m\u001b[0;34m,\u001b[0m \u001b[0mzoom_start\u001b[0m \u001b[0;34m=\u001b[0m \u001b[0;36m5\u001b[0m\u001b[0;34m)\u001b[0m\u001b[0;34m\u001b[0m\u001b[0;34m\u001b[0m\u001b[0m\n\u001b[1;32m      5\u001b[0m \u001b[0mmap_1998\u001b[0m\u001b[0;34m.\u001b[0m\u001b[0madd_ee_layer\u001b[0m\u001b[0;34m(\u001b[0m\u001b[0mgreenest98\u001b[0m\u001b[0;34m,\u001b[0m \u001b[0mvizParams\u001b[0m\u001b[0;34m,\u001b[0m \u001b[0;34m'Mapa sin nubes'\u001b[0m\u001b[0;34m)\u001b[0m\u001b[0;34m\u001b[0m\u001b[0;34m\u001b[0m\u001b[0m\n",
      "\u001b[0;31mNameError\u001b[0m: name 'coleccion1998' is not defined"
     ]
    }
   ],
   "source": [
    "coleccion98 = coleccion1998.map(Cloud50)\n",
    "# coleccion2019 = coleccion2019.map(Agua)\n",
    "greenest98 = coleccion98.qualityMosaic('NDVI')\n",
    "map_1998 = folium.Map(location = [-45, -73], zoom_start = 5)\n",
    "map_1998.add_ee_layer(greenest98, vizParams, 'Mapa sin nubes')\n",
    "display(map_1998)"
   ]
  },
  {
   "cell_type": "markdown",
   "id": "dada3ebe",
   "metadata": {},
   "source": [
    "### Verano 1995"
   ]
  },
  {
   "cell_type": "code",
   "execution_count": 51,
   "id": "7f063baa",
   "metadata": {},
   "outputs": [],
   "source": [
    "start_date = '1995-10-01'\n",
    "end_date = '1996-03-31'\n",
    "\n",
    "l5_1995 = ee.ImageCollection('LANDSAT/LT05/C01/T1_TOA') \\\n",
    "    .filterBounds(patagonia_grande) \\\n",
    "    .filterDate(start_date, end_date)\n"
   ]
  },
  {
   "cell_type": "code",
   "execution_count": 52,
   "id": "0757ccf1",
   "metadata": {},
   "outputs": [],
   "source": [
    "coleccion1995 = l5_1995.map(addNDVI).map(addNDWI).map(addNDGI).map(addDate)"
   ]
  },
  {
   "cell_type": "code",
   "execution_count": null,
   "id": "9debec11",
   "metadata": {},
   "outputs": [],
   "source": [
    "coleccion95 = coleccion1995.map(Cloud30)\n",
    "# coleccion2019 = coleccion2019.map(Agua)\n",
    "greenest95 = coleccion95.qualityMosaic('NDVI')\n",
    "map_1995 = folium.Map(location = [-45, -73], zoom_start = 5)\n",
    "map_1995.add_ee_layer(greenest95, vizParams, 'Mapa sin nubes')\n",
    "display(map_1995)\n"
   ]
  },
  {
   "cell_type": "markdown",
   "id": "fa3956f1",
   "metadata": {},
   "source": [
    "### Verano 1994"
   ]
  },
  {
   "cell_type": "code",
   "execution_count": null,
   "id": "c3efcf0f",
   "metadata": {},
   "outputs": [],
   "source": [
    "start_date = '1994-10-01'\n",
    "end_date = '1995-03-31'\n",
    "\n",
    "l5_1994 = ee.ImageCollection('LANDSAT/LT05/C01/T1_TOA') \\\n",
    "    .filterBounds(patagonia_grande) \\\n",
    "    .filterDate(start_date, end_date)"
   ]
  },
  {
   "cell_type": "code",
   "execution_count": null,
   "id": "b15a99dc",
   "metadata": {},
   "outputs": [],
   "source": [
    "coleccion1994 = l5_1994.map(addNDVI).map(addNDWI).map(addNDGI).map(addDate)"
   ]
  },
  {
   "cell_type": "code",
   "execution_count": null,
   "id": "33a7f560",
   "metadata": {},
   "outputs": [],
   "source": [
    "coleccion94 = coleccion1994.map(Cloud30)\n",
    "# coleccion2019 = coleccion2019.map(Agua)\n",
    "greenest94 = coleccion94.qualityMosaic('NDVI')\n",
    "map_1994 = folium.Map(location = [-45, -73], zoom_start = 5)\n",
    "map_1994.add_ee_layer(greenest94, vizParams, 'Mapa sin nubes')\n",
    "display(map_1994)"
   ]
  },
  {
   "cell_type": "markdown",
   "id": "e5231ed6",
   "metadata": {},
   "source": [
    "### Verano 1993"
   ]
  },
  {
   "cell_type": "code",
   "execution_count": null,
   "id": "e9bb88fd",
   "metadata": {},
   "outputs": [],
   "source": [
    "start_date = '1993-10-01'\n",
    "end_date = '1994-03-31'\n",
    "\n",
    "l5_1993 = ee.ImageCollection('LANDSAT/LT05/C01/T1_TOA') \\\n",
    "    .filterBounds(patagonia_grande) \\\n",
    "    .filterDate(start_date, end_date)\n",
    "\n"
   ]
  },
  {
   "cell_type": "code",
   "execution_count": null,
   "id": "0f0819ff",
   "metadata": {},
   "outputs": [],
   "source": [
    "coleccion1993 = l5_1993.map(addNDVI).map(addNDWI).map(addNDGI).map(addDate)"
   ]
  },
  {
   "cell_type": "code",
   "execution_count": null,
   "id": "11ce9e71",
   "metadata": {
    "scrolled": false
   },
   "outputs": [],
   "source": [
    "coleccion93 = coleccion1993.map(Cloud30)\n",
    "# coleccion2019 = coleccion2019.map(Agua)\n",
    "greenest93 = coleccion93.qualityMosaic('NDVI')\n",
    "map_1993 = folium.Map(location = [-45, -73], zoom_start = 5)\n",
    "map_1993.add_ee_layer(greenest93, vizParams, 'Mapa sin nubes')\n",
    "display(map_1993)"
   ]
  },
  {
   "cell_type": "markdown",
   "id": "6d04237d",
   "metadata": {},
   "source": [
    "### Verano 1992"
   ]
  },
  {
   "cell_type": "code",
   "execution_count": null,
   "id": "50f57510",
   "metadata": {},
   "outputs": [],
   "source": [
    "start_date = '1992-10-01'\n",
    "end_date = '1993-03-31'\n",
    "\n",
    "l5_1992 = ee.ImageCollection('LANDSAT/LT05/C01/T1_TOA') \\\n",
    "    .filterBounds(patagonia_grande) \\\n",
    "    .filterDate(start_date, end_date)"
   ]
  },
  {
   "cell_type": "code",
   "execution_count": null,
   "id": "26cf4fcb",
   "metadata": {},
   "outputs": [],
   "source": [
    "coleccion1992 = l5_1992.map(addNDVI).map(addNDWI).map(addNDGI).map(addDate)"
   ]
  },
  {
   "cell_type": "code",
   "execution_count": null,
   "id": "a943c56d",
   "metadata": {},
   "outputs": [],
   "source": [
    "coleccion92 = coleccion1992.map(Cloud30)\n",
    "# coleccion2019 = coleccion2019.map(Agua)\n",
    "greenest92 = coleccion92.qualityMosaic('NDVI')\n",
    "map_1992 = folium.Map(location = [-45, -73], zoom_start = 5)\n",
    "map_1992.add_ee_layer(greenest92, vizParams, 'Mapa sin nubes')\n",
    "display(map_1992)"
   ]
  },
  {
   "cell_type": "markdown",
   "id": "f04c91d7",
   "metadata": {},
   "source": [
    "## Mosaicos"
   ]
  },
  {
   "cell_type": "code",
   "execution_count": null,
   "id": "2bbfc08d",
   "metadata": {},
   "outputs": [],
   "source": [
    "Map3.addLayer(ndvi1996, {'palette': palette}, 'NDVI_1996')\n",
    "Map3"
   ]
  },
  {
   "cell_type": "code",
   "execution_count": null,
   "id": "2bda063d",
   "metadata": {},
   "outputs": [],
   "source": [
    "mosaic = ee.ImageCollection([greenestsur,aquastsur]).mosaic()"
   ]
  },
  {
   "cell_type": "code",
   "execution_count": null,
   "id": "a33773a0",
   "metadata": {},
   "outputs": [],
   "source": [
    "Map3.addLayer(mosaic, vizParams, 'Mosaico')\n",
    "Map3"
   ]
  },
  {
   "cell_type": "code",
   "execution_count": null,
   "id": "9944b92e",
   "metadata": {},
   "outputs": [],
   "source": [
    "mosaic2 = ee.ImageCollection([mosaic, tierrasur]).mosaic()"
   ]
  },
  {
   "cell_type": "code",
   "execution_count": null,
   "id": "63676379",
   "metadata": {},
   "outputs": [],
   "source": [
    "Map3.addLayer(mosaic2, vizParams, 'Mosaico2')\n",
    "Map3"
   ]
  },
  {
   "cell_type": "code",
   "execution_count": null,
   "id": "9150deab",
   "metadata": {},
   "outputs": [],
   "source": [
    "# mosaic3 = ee.ImageCollection([mosaic2, greenest97]).mosaic()"
   ]
  },
  {
   "cell_type": "code",
   "execution_count": null,
   "id": "8c463ae3",
   "metadata": {},
   "outputs": [],
   "source": [
    "# Map3.addLayer(mosaic3, vizParams, 'Mosaico3')\n",
    "# Map3"
   ]
  },
  {
   "cell_type": "code",
   "execution_count": null,
   "id": "e28fd882",
   "metadata": {},
   "outputs": [],
   "source": [
    "# mosaic4 = ee.ImageCollection([mosaic3, greenest_sur2]).mosaic()"
   ]
  },
  {
   "cell_type": "code",
   "execution_count": null,
   "id": "85a84a4f",
   "metadata": {},
   "outputs": [],
   "source": [
    "# Map3.addLayer(mosaic4, vizParams, 'Mosaico 4')\n",
    "# Map3"
   ]
  },
  {
   "cell_type": "code",
   "execution_count": null,
   "id": "62b2bd44",
   "metadata": {},
   "outputs": [],
   "source": [
    "# mosaic5 = ee.ImageCollection([mosaic4,aquast97_]).mosaic()"
   ]
  },
  {
   "cell_type": "code",
   "execution_count": null,
   "id": "829dc2ab",
   "metadata": {},
   "outputs": [],
   "source": [
    "# Map3.addLayer(mosaic5, vizParams, 'Mosaico 5')\n",
    "# Map3"
   ]
  },
  {
   "cell_type": "code",
   "execution_count": null,
   "id": "b12fa204",
   "metadata": {},
   "outputs": [],
   "source": []
  }
 ],
 "metadata": {
  "kernelspec": {
   "display_name": "Python 3 (ipykernel)",
   "language": "python",
   "name": "python3"
  },
  "language_info": {
   "codemirror_mode": {
    "name": "ipython",
    "version": 3
   },
   "file_extension": ".py",
   "mimetype": "text/x-python",
   "name": "python",
   "nbconvert_exporter": "python",
   "pygments_lexer": "ipython3",
   "version": "3.9.2"
  },
  "toc": {
   "base_numbering": 1,
   "nav_menu": {},
   "number_sections": true,
   "sideBar": true,
   "skip_h1_title": false,
   "title_cell": "Table of Contents",
   "title_sidebar": "Contents",
   "toc_cell": false,
   "toc_position": {
    "height": "calc(100% - 180px)",
    "left": "10px",
    "top": "150px",
    "width": "384px"
   },
   "toc_section_display": true,
   "toc_window_display": true
  },
  "varInspector": {
   "cols": {
    "lenName": 16,
    "lenType": 16,
    "lenVar": 40
   },
   "kernels_config": {
    "python": {
     "delete_cmd_postfix": "",
     "delete_cmd_prefix": "del ",
     "library": "var_list.py",
     "varRefreshCmd": "print(var_dic_list())"
    },
    "r": {
     "delete_cmd_postfix": ") ",
     "delete_cmd_prefix": "rm(",
     "library": "var_list.r",
     "varRefreshCmd": "cat(var_dic_list()) "
    }
   },
   "types_to_exclude": [
    "module",
    "function",
    "builtin_function_or_method",
    "instance",
    "_Feature"
   ],
   "window_display": false
  }
 },
 "nbformat": 4,
 "nbformat_minor": 5
}
