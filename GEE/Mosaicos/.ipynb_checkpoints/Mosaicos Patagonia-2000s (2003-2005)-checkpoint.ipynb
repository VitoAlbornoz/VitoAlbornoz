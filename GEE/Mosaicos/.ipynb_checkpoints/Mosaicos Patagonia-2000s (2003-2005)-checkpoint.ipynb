{
 "cells": [
  {
   "cell_type": "markdown",
   "id": "5a5304dc",
   "metadata": {},
   "source": [
    "# Scripts Mosaicos 90's"
   ]
  },
  {
   "cell_type": "code",
   "execution_count": 1,
   "id": "a27a8633",
   "metadata": {},
   "outputs": [],
   "source": [
    "import ee\n",
    "import geemap\n",
    "import os\n",
    "import folium"
   ]
  },
  {
   "cell_type": "code",
   "execution_count": 2,
   "id": "85b4021e",
   "metadata": {},
   "outputs": [],
   "source": [
    "Map = geemap.Map()\n",
    "Map2 = geemap.Map()\n",
    "Map3 = geemap.Map()"
   ]
  },
  {
   "cell_type": "markdown",
   "id": "89949bb8",
   "metadata": {},
   "source": [
    "## Área de Mosaicos"
   ]
  },
  {
   "cell_type": "markdown",
   "id": "2ce8f97e",
   "metadata": {},
   "source": [
    "### Patagonia"
   ]
  },
  {
   "cell_type": "code",
   "execution_count": 3,
   "id": "254d1e8d",
   "metadata": {},
   "outputs": [
    {
     "data": {
      "application/vnd.jupyter.widget-view+json": {
       "model_id": "2e8cdd236be64f4baadf45882d4c67b2",
       "version_major": 2,
       "version_minor": 0
      },
      "text/plain": [
       "Map(center=[40, -100], controls=(WidgetControl(options=['position', 'transparent_bg'], widget=HBox(children=(T…"
      ]
     },
     "metadata": {},
     "output_type": "display_data"
    }
   ],
   "source": [
    "work_dir = os.path.expanduser('../../Data/shapes/')\n",
    "patagonia = os.path.join(work_dir, 'patagonia_nueva.shp')\n",
    "patagonia_grande = geemap.shp_to_ee(patagonia)\n",
    "Map.addLayer(patagonia_grande, {}, 'Patagonia')\n",
    "Map"
   ]
  },
  {
   "cell_type": "code",
   "execution_count": 4,
   "id": "e66b818c",
   "metadata": {},
   "outputs": [],
   "source": [
    "work_dir = os.path.expanduser('../../Data/shapes/')\n",
    "norte = os.path.join(work_dir, 'area_norte.shp')\n",
    "patagonia_norte = geemap.shp_to_ee(norte)\n",
    "Map.addLayer(patagonia_norte, {}, 'norte')"
   ]
  },
  {
   "cell_type": "code",
   "execution_count": 5,
   "id": "3cd5c1c0",
   "metadata": {},
   "outputs": [],
   "source": [
    "work_dir = os.path.expanduser('../../Data/shapes/')\n",
    "centro = os.path.join(work_dir, 'area_centro.shp')\n",
    "patagonia_centro = geemap.shp_to_ee(centro)\n",
    "Map.addLayer(patagonia_centro, {}, 'centro')"
   ]
  },
  {
   "cell_type": "code",
   "execution_count": 6,
   "id": "e5925666",
   "metadata": {},
   "outputs": [],
   "source": [
    "work_dir = os.path.expanduser('../../Data/shapes/')\n",
    "sur = os.path.join(work_dir, 'area_sur.shp')\n",
    "patagonia_sur = geemap.shp_to_ee(sur)\n",
    "Map.addLayer(patagonia_grande, {}, 'sur')"
   ]
  },
  {
   "cell_type": "markdown",
   "id": "51e54fc8",
   "metadata": {},
   "source": [
    "## Funciones"
   ]
  },
  {
   "cell_type": "code",
   "execution_count": 7,
   "id": "c750bfea",
   "metadata": {},
   "outputs": [],
   "source": [
    "def addNDVI(image): \n",
    "    ndvi = image.normalizedDifference(['B4', 'B3']).rename('NDVI')\n",
    "    return image.addBands(ndvi)"
   ]
  },
  {
   "cell_type": "code",
   "execution_count": 8,
   "id": "b26d096c",
   "metadata": {},
   "outputs": [],
   "source": [
    "def addNDWI(image):\n",
    "    ndwi = image.normalizedDifference(['B2','B4']).rename('NDWI')\n",
    "    return image.addBands(ndwi)"
   ]
  },
  {
   "cell_type": "code",
   "execution_count": 9,
   "id": "07b12d89",
   "metadata": {},
   "outputs": [],
   "source": [
    "def addNDGI(image):\n",
    "    ndgi = image.normalizedDifference(['B2','B3']).rename('NDGI')\n",
    "    return image.addBands(ndgi)"
   ]
  },
  {
   "cell_type": "code",
   "execution_count": 10,
   "id": "1771739b",
   "metadata": {},
   "outputs": [],
   "source": [
    "def addDate(image):\n",
    "    img_date = ee.Date(image.date())\n",
    "    img_date = ee.Number.parse(img_date.format('YYYYMMdd'))\n",
    "    return image.addBands(ee.Image(img_date).rename('date').toInt())"
   ]
  },
  {
   "cell_type": "code",
   "execution_count": 11,
   "id": "2f646b86",
   "metadata": {},
   "outputs": [],
   "source": [
    "def add_ee_layer(self, ee_image_object, vis_params, name):\n",
    "  map_id_dict = ee.Image(ee_image_object).getMapId(vis_params)\n",
    "  folium.raster_layers.TileLayer(\n",
    "      tiles=map_id_dict['tile_fetcher'].url_format,\n",
    "      attr='Map Data &copy; <a href=\"https://earthengine.google.com/\">Google Earth Engine</a>',\n",
    "      name=name,\n",
    "      overlay=True,\n",
    "      control=True\n",
    "  ).add_to(self)\n",
    "\n",
    "folium.Map.add_ee_layer = add_ee_layer"
   ]
  },
  {
   "cell_type": "code",
   "execution_count": 12,
   "id": "f6b407f2",
   "metadata": {},
   "outputs": [],
   "source": [
    "def Cloud50(image):\n",
    "    scored = ee.Algorithms.Landsat.simpleCloudScore(image)\n",
    "    return image.updateMask(scored.select(['cloud']).lt(50))  "
   ]
  },
  {
   "cell_type": "code",
   "execution_count": 13,
   "id": "f36b3c0c",
   "metadata": {},
   "outputs": [],
   "source": [
    "def Cloud30(image):\n",
    "    scored = ee.Algorithms.Landsat.simpleCloudScore(image)\n",
    "    return image.updateMask(scored.select(['cloud']).lt(30)) "
   ]
  },
  {
   "cell_type": "code",
   "execution_count": 14,
   "id": "2179e685",
   "metadata": {},
   "outputs": [],
   "source": [
    "def Agua(image):\n",
    "    return image.updateMask(ndwi.lte(-0.1))"
   ]
  },
  {
   "cell_type": "code",
   "execution_count": 15,
   "id": "98d07fb0",
   "metadata": {},
   "outputs": [],
   "source": [
    "def Agua1996(image):\n",
    "    return image.updateMask(ndwi1996.gte(0.1))"
   ]
  },
  {
   "cell_type": "code",
   "execution_count": 16,
   "id": "638a608b",
   "metadata": {},
   "outputs": [],
   "source": [
    "def Agua1997(image):\n",
    "    return image.updateMask(ndwi1997.gte(0))"
   ]
  },
  {
   "cell_type": "code",
   "execution_count": 17,
   "id": "167a6afa",
   "metadata": {},
   "outputs": [],
   "source": [
    "def Agua1998(image):\n",
    "    return image.updateMask(ndwi1998.gte(0))"
   ]
  },
  {
   "cell_type": "code",
   "execution_count": 18,
   "id": "0f8959eb",
   "metadata": {},
   "outputs": [],
   "source": [
    "def Ndvi1996(image):\n",
    "    return image.updateMask(ndvi1996.gt(0.089))"
   ]
  },
  {
   "cell_type": "code",
   "execution_count": 19,
   "id": "7f18ca73",
   "metadata": {},
   "outputs": [],
   "source": [
    "def Ndvi1997(image):\n",
    "    return image.updateMask(ndvi1997.lt(0.2))"
   ]
  },
  {
   "cell_type": "code",
   "execution_count": 20,
   "id": "415cf24b",
   "metadata": {},
   "outputs": [],
   "source": [
    "def Ndvi1998(image):\n",
    "    return image.updateMask(ndvi1998.lt(0.2))"
   ]
  },
  {
   "cell_type": "code",
   "execution_count": 21,
   "id": "1b15e485",
   "metadata": {},
   "outputs": [],
   "source": [
    "def Ndvi2(image):\n",
    "    return image.updateMask(ndvi.gte(0.2))"
   ]
  },
  {
   "cell_type": "markdown",
   "id": "86821551",
   "metadata": {},
   "source": [
    "### Funciones SUR"
   ]
  },
  {
   "cell_type": "code",
   "execution_count": 22,
   "id": "6eaf3a44",
   "metadata": {},
   "outputs": [],
   "source": [
    "def Ndvi1996_sur(image):\n",
    "    return image.updateMask(ndvisur.gt(0.04))"
   ]
  },
  {
   "cell_type": "code",
   "execution_count": 23,
   "id": "f8306b15",
   "metadata": {},
   "outputs": [],
   "source": [
    "def contra_Ndvi1996_sur(image):\n",
    "    return image.updateMask(ndvisur.lte(0.04))"
   ]
  },
  {
   "cell_type": "code",
   "execution_count": 24,
   "id": "60ca3c5a",
   "metadata": {},
   "outputs": [],
   "source": [
    "def Agua1996_sur(image):\n",
    "    return image.updateMask(ndwisur.gte(0.3))"
   ]
  },
  {
   "cell_type": "code",
   "execution_count": 25,
   "id": "5e8e5721",
   "metadata": {},
   "outputs": [],
   "source": [
    "def contra_Agua1996_sur(image):\n",
    "    return image.updateMask(ndwisur.lt(0.3))"
   ]
  },
  {
   "cell_type": "markdown",
   "id": "9ff43882",
   "metadata": {},
   "source": [
    "## Colecciones"
   ]
  },
  {
   "cell_type": "markdown",
   "id": "5f4678b9",
   "metadata": {},
   "source": [
    "### Verano 2003"
   ]
  },
  {
   "cell_type": "code",
   "execution_count": 26,
   "id": "55e682c2",
   "metadata": {},
   "outputs": [],
   "source": [
    "start_date = '2003-10-01'\n",
    "end_date = '2004-03-31'\n",
    "\n",
    "l5_2003 = ee.ImageCollection('LANDSAT/LT05/C01/T1_TOA') \\\n",
    "    .filterBounds(patagonia_grande) \\\n",
    "    .filterDate(start_date, end_date)"
   ]
  },
  {
   "cell_type": "code",
   "execution_count": 27,
   "id": "b6cd527b",
   "metadata": {},
   "outputs": [],
   "source": [
    "vizParams = {\n",
    "  'bands': ['B4', 'B3', 'B2'],\n",
    "  'min': 0,\n",
    "  'max': 0.5,\n",
    "  'gamma': [0.95, 1.1, 1]\n",
    "}"
   ]
  },
  {
   "cell_type": "code",
   "execution_count": 28,
   "id": "467063f9",
   "metadata": {},
   "outputs": [],
   "source": [
    "coleccion2003 = l5_2003.map(addNDVI).map(addNDWI).map(addNDGI).map(addDate)"
   ]
  },
  {
   "cell_type": "markdown",
   "id": "161833f3",
   "metadata": {},
   "source": [
    "#### Verano Sur 2003-2005"
   ]
  },
  {
   "cell_type": "code",
   "execution_count": 29,
   "id": "d84f95a0",
   "metadata": {},
   "outputs": [],
   "source": [
    "start_date = '2003-10-01'\n",
    "end_date = '2005-03-31'\n",
    "\n",
    "l5_sur = ee.ImageCollection('LANDSAT/LT05/C01/T1_TOA') \\\n",
    "    .filterBounds(patagonia_grande) \\\n",
    "    .filterDate(start_date, end_date)"
   ]
  },
  {
   "cell_type": "code",
   "execution_count": 30,
   "id": "23d2268d",
   "metadata": {},
   "outputs": [],
   "source": [
    "coleccionsur = l5_sur.map(addNDVI).map(addNDWI).map(addNDGI).map(addDate)"
   ]
  },
  {
   "cell_type": "markdown",
   "id": "e5586dce",
   "metadata": {},
   "source": [
    "### Verano 2004"
   ]
  },
  {
   "cell_type": "code",
   "execution_count": 31,
   "id": "a853ce3d",
   "metadata": {},
   "outputs": [],
   "source": [
    "start_date = '2004-10-01'\n",
    "end_date = '2005-03-31'\n",
    "\n",
    "l5_2004 = ee.ImageCollection('LANDSAT/LT05/C01/T1_TOA') \\\n",
    "    .filterBounds(patagonia_grande) \\\n",
    "    .filterDate(start_date, end_date)"
   ]
  },
  {
   "cell_type": "code",
   "execution_count": 32,
   "id": "5a0269e8",
   "metadata": {},
   "outputs": [],
   "source": [
    "coleccion2004 = l5_2004.map(addNDVI).map(addNDWI).map(addNDGI).map(addDate)"
   ]
  },
  {
   "cell_type": "markdown",
   "id": "0f61a78f",
   "metadata": {},
   "source": [
    "### Verano 2005"
   ]
  },
  {
   "cell_type": "code",
   "execution_count": 33,
   "id": "d689da00",
   "metadata": {},
   "outputs": [],
   "source": [
    "start_date = '2005-10-01'\n",
    "end_date = '2006-03-31'\n",
    "\n",
    "l5_2005 = ee.ImageCollection('LANDSAT/LT05/C01/T1_TOA') \\\n",
    "    .filterBounds(patagonia_grande) \\\n",
    "    .filterDate(start_date, end_date)"
   ]
  },
  {
   "cell_type": "code",
   "execution_count": 34,
   "id": "1f090a15",
   "metadata": {},
   "outputs": [],
   "source": [
    "coleccion2005 = l5_2005.map(addNDVI).map(addNDWI).map(addNDGI).map(addDate)"
   ]
  },
  {
   "cell_type": "markdown",
   "id": "db5b1842",
   "metadata": {},
   "source": [
    "## Quality Mosaic NDVI"
   ]
  },
  {
   "cell_type": "code",
   "execution_count": 35,
   "id": "ddebebe1",
   "metadata": {},
   "outputs": [],
   "source": [
    "NDVI_2003 = coleccion2003.qualityMosaic('NDVI')\n",
    "NDVI_2004 = coleccion2004.qualityMosaic('NDVI')\n",
    "NDVI_2005 = coleccion2005.qualityMosaic('NDVI')"
   ]
  },
  {
   "cell_type": "code",
   "execution_count": 36,
   "id": "fa5a2d62",
   "metadata": {},
   "outputs": [],
   "source": [
    "NDVI_sur = coleccionsur.qualityMosaic('NDVI')"
   ]
  },
  {
   "cell_type": "code",
   "execution_count": 37,
   "id": "e5876b47",
   "metadata": {
    "scrolled": false
   },
   "outputs": [
    {
     "data": {
      "application/vnd.jupyter.widget-view+json": {
       "model_id": "2e8cdd236be64f4baadf45882d4c67b2",
       "version_major": 2,
       "version_minor": 0
      },
      "text/plain": [
       "Map(center=[-47.89147413528022, -68.82549165231002], controls=(WidgetControl(options=['position', 'transparent…"
      ]
     },
     "metadata": {},
     "output_type": "display_data"
    }
   ],
   "source": [
    "visParams = {\n",
    "  'bands': ['B4', 'B3', 'B2'],\n",
    "  'min': 0,\n",
    "  'max': 0.4,\n",
    "}\n",
    "Map.addLayer(NDVI_2003, visParams, 'Greenest 2003')\n",
    "Map.addLayer(NDVI_2004, visParams, 'Greenest 2004')\n",
    "Map.addLayer(NDVI_2005, visParams, 'Greenest 2005')\n",
    "Map.addLayer(NDVI_sur, visParams, 'Greenest sur 2003-2005')\n",
    "Map.centerObject(patagonia_grande, 6)\n",
    "Map"
   ]
  },
  {
   "cell_type": "code",
   "execution_count": 38,
   "id": "9f49e4b7",
   "metadata": {},
   "outputs": [],
   "source": [
    "ndvi2003 = NDVI_2003.select('NDVI')\n",
    "ndvi2004 = NDVI_2004.select('NDVI')\n",
    "ndvi2005 = NDVI_2005.select('NDVI')\n",
    "ndvisur = NDVI_sur.select('NDVI')\n",
    "palette = ['#d73027', '#f46d43', '#fdae61', '#fee08b', '#d9ef8b', '#a6d96a', '#66bd63', '#1a9850']"
   ]
  },
  {
   "cell_type": "code",
   "execution_count": 39,
   "id": "2fdbef91",
   "metadata": {},
   "outputs": [
    {
     "data": {
      "application/vnd.jupyter.widget-view+json": {
       "model_id": "2e8cdd236be64f4baadf45882d4c67b2",
       "version_major": 2,
       "version_minor": 0
      },
      "text/plain": [
       "Map(center=[-47.89147413528022, -68.82549165231002], controls=(WidgetControl(options=['position', 'transparent…"
      ]
     },
     "metadata": {},
     "output_type": "display_data"
    }
   ],
   "source": [
    "Map.addLayer(ndvi2003, {'palette': palette}, 'NDVI_2003')\n",
    "Map.addLayer(ndvi2004, {'palette': palette}, 'NDVI_2004')\n",
    "Map.addLayer(ndvi2005, {'palette': palette}, 'NDVI_2005')\n",
    "Map.addLayer(ndvisur,{'palette': palette}, 'NDVI_sur 2003-2005')\n",
    "Map"
   ]
  },
  {
   "cell_type": "markdown",
   "id": "2b5fd664",
   "metadata": {},
   "source": [
    "## Agua"
   ]
  },
  {
   "cell_type": "code",
   "execution_count": null,
   "id": "ea675b1e",
   "metadata": {},
   "outputs": [],
   "source": []
  },
  {
   "cell_type": "markdown",
   "id": "33f9b1fb",
   "metadata": {},
   "source": [
    "### Verano 2003"
   ]
  },
  {
   "cell_type": "code",
   "execution_count": 40,
   "id": "8811ab0b",
   "metadata": {},
   "outputs": [],
   "source": [
    "aquast_2003 = coleccion2003.qualityMosaic('NDWI')\n",
    "aquast_sur = coleccionsur.qualityMosaic('NDWI')"
   ]
  },
  {
   "cell_type": "markdown",
   "id": "73c20fb5",
   "metadata": {},
   "source": [
    "### Verano 1997"
   ]
  },
  {
   "cell_type": "code",
   "execution_count": 41,
   "id": "eb7769cd",
   "metadata": {},
   "outputs": [
    {
     "ename": "NameError",
     "evalue": "name 'coleccion1997' is not defined",
     "output_type": "error",
     "traceback": [
      "\u001b[0;31m---------------------------------------------------------------------------\u001b[0m",
      "\u001b[0;31mNameError\u001b[0m                                 Traceback (most recent call last)",
      "\u001b[0;32m/tmp/ipykernel_295/1611196455.py\u001b[0m in \u001b[0;36m<module>\u001b[0;34m\u001b[0m\n\u001b[0;32m----> 1\u001b[0;31m \u001b[0maquast_1997\u001b[0m \u001b[0;34m=\u001b[0m \u001b[0mcoleccion1997\u001b[0m\u001b[0;34m.\u001b[0m\u001b[0mqualityMosaic\u001b[0m\u001b[0;34m(\u001b[0m\u001b[0;34m'NDWI'\u001b[0m\u001b[0;34m)\u001b[0m\u001b[0;34m\u001b[0m\u001b[0;34m\u001b[0m\u001b[0m\n\u001b[0m",
      "\u001b[0;31mNameError\u001b[0m: name 'coleccion1997' is not defined"
     ]
    }
   ],
   "source": [
    "aquast_1997 = coleccion1997.qualityMosaic('NDWI')"
   ]
  },
  {
   "cell_type": "markdown",
   "id": "e8851298",
   "metadata": {},
   "source": [
    "### Verano 1998"
   ]
  },
  {
   "cell_type": "code",
   "execution_count": null,
   "id": "83ebf6ce",
   "metadata": {},
   "outputs": [],
   "source": [
    "aquast_1998 = coleccion1998.qualityMosaic('NDWI')"
   ]
  },
  {
   "cell_type": "markdown",
   "id": "3adcc722",
   "metadata": {},
   "source": [
    "### Quality Mosaic NDWI"
   ]
  },
  {
   "cell_type": "code",
   "execution_count": null,
   "id": "adaa1fe4",
   "metadata": {
    "scrolled": false
   },
   "outputs": [],
   "source": [
    "visParams = {\n",
    "  'bands': ['B4', 'B3', 'B1'],\n",
    "  'min': 0,\n",
    "  'max': 0.4,\n",
    "    'gamma': [0.95, 1.1, 1],\n",
    "}\n",
    "\n",
    "Map2.addLayer(aquast_1996, visParams, 'Agua 1996')\n",
    "Map2.addLayer(aquast_1997, visParams, 'Agua 1997')\n",
    "Map2.addLayer(aquast_1998, visParams, 'Agua 1998')\n",
    "Map2.addLayer(aquast_sur, visParams, 'Agua sur 1996-1999')\n",
    "Map2.centerObject(patagonia_grande, 6)\n",
    "Map2"
   ]
  },
  {
   "cell_type": "code",
   "execution_count": null,
   "id": "78362bbe",
   "metadata": {},
   "outputs": [],
   "source": [
    "ndwi1996 = aquast_1996.select('NDWI')\n",
    "ndwi_viz = ['00FFFF', '0000FF']\n",
    "ndwi1997 = aquast_1997.select('NDWI')\n",
    "ndwi1998 = aquast_1998.select('NDWI')\n",
    "ndwisur = aquast_sur.select('NDWI')\n",
    "Map2.addLayer(ndwi1996, {'palette': ndwi_viz}, 'NDWI_1996')\n",
    "Map2.addLayer(ndwi1997, {'palette': ndwi_viz}, 'NDWI_1997')\n",
    "Map2.addLayer(ndwi1998, {'palette': ndwi_viz}, 'NDWI_1998')\n",
    "Map2.addLayer(ndwisur, {'palette': ndwi_viz}, 'NDWI_sur 1996-1999')\n",
    "Map2"
   ]
  },
  {
   "cell_type": "code",
   "execution_count": null,
   "id": "253bdfe6",
   "metadata": {},
   "outputs": [],
   "source": [
    "ndwi_rgb = ndwi1996.visualize(**{\n",
    "    'min': 0.5,\n",
    "    'max':1,\n",
    "    'palette': ['00FFFF', '0000FF']\n",
    "})"
   ]
  },
  {
   "cell_type": "code",
   "execution_count": null,
   "id": "bc23e4c1",
   "metadata": {
    "scrolled": true
   },
   "outputs": [],
   "source": [
    "ndwi_mask = ndwi1996.updateMask(ndwi1996.gte(0.4))"
   ]
  },
  {
   "cell_type": "code",
   "execution_count": null,
   "id": "f7f45fc6",
   "metadata": {},
   "outputs": [],
   "source": [
    "map_ndwi_mask = folium.Map(location = [-45, -73], zoom_start = 5)\n",
    "map_ndwi_mask.add_ee_layer(ndwi_mask, {} , 'NDWI sin tierra')\n",
    "display(map_ndwi_mask)"
   ]
  },
  {
   "cell_type": "code",
   "execution_count": null,
   "id": "5c4b430b",
   "metadata": {},
   "outputs": [],
   "source": [
    "ndwi_mask1996 = ndwi1996.updateMask(ndwi1996.gte(0.4))"
   ]
  },
  {
   "cell_type": "code",
   "execution_count": null,
   "id": "54c2b169",
   "metadata": {},
   "outputs": [],
   "source": [
    "map_ndwi_mask1996 = folium.Map(location = [-45, -73], zoom_start = 5)\n",
    "map_ndwi_mask1996.add_ee_layer(ndwi_mask1996, {}, 'NDWI sin tierra')\n",
    "display(map_ndwi_mask1996)"
   ]
  },
  {
   "cell_type": "markdown",
   "id": "ae0c7072",
   "metadata": {},
   "source": [
    "## Máscaras"
   ]
  },
  {
   "cell_type": "markdown",
   "id": "b6ba70b1",
   "metadata": {},
   "source": [
    "### Verano 1996"
   ]
  },
  {
   "cell_type": "markdown",
   "id": "be5138cc",
   "metadata": {},
   "source": [
    "#### Nubes 50"
   ]
  },
  {
   "cell_type": "code",
   "execution_count": null,
   "id": "2793477d",
   "metadata": {
    "scrolled": false
   },
   "outputs": [],
   "source": [
    "coleccion96 = coleccion1996.map(Cloud50)\n",
    "greenest96 = coleccion96.qualityMosaic('NDVI')\n",
    "map_1996 = folium.Map(location = [-45, -73], zoom_start = 5)\n",
    "map_1996.add_ee_layer(greenest96, vizParams, 'Mapa sin Nubes')\n",
    "display(map_1996)"
   ]
  },
  {
   "cell_type": "markdown",
   "id": "fd00e4b3",
   "metadata": {},
   "source": [
    "#### Nubes 30"
   ]
  },
  {
   "cell_type": "code",
   "execution_count": null,
   "id": "49f4bf02",
   "metadata": {},
   "outputs": [],
   "source": [
    "coleccion97 = coleccion1997.map(Cloud30)\n",
    "greenest97 = coleccion97.qualityMosaic('NDVI')\n",
    "map_1997 = folium.Map(location = [-45, -73], zoom_start = 5)\n",
    "map_1997.add_ee_layer(greenest97, vizParams, 'Mapa sin Nubes')\n",
    "display(map_1997)"
   ]
  },
  {
   "cell_type": "markdown",
   "id": "65a57c16",
   "metadata": {},
   "source": [
    "#### Nubes Sur"
   ]
  },
  {
   "cell_type": "code",
   "execution_count": null,
   "id": "fa76799b",
   "metadata": {},
   "outputs": [],
   "source": [
    "coleccion_sur = coleccionsur.map(Cloud30)\n",
    "greenestsur = coleccion_sur.qualityMosaic('NDVI')\n",
    "map_sur = folium.Map(location = [-45, -73], zoom_start = 5)\n",
    "map_sur.add_ee_layer(greenestsur, vizParams, 'Mapa sin Nubes')\n",
    "display(map_sur)"
   ]
  },
  {
   "cell_type": "code",
   "execution_count": null,
   "id": "2767d5d2",
   "metadata": {
    "scrolled": false
   },
   "outputs": [],
   "source": [
    "coleccionsur2 = coleccionsur.map(Cloud50)\n",
    "greenestsur2 = coleccionsur2.qualityMosaic('NDVI')\n",
    "map_sur2 = folium.Map(location = [-45, -73], zoom_start = 5)\n",
    "map_sur2.add_ee_layer(greenestsur2, vizParams, 'Mapa sin Nubes')\n",
    "display(map_sur2)"
   ]
  },
  {
   "cell_type": "code",
   "execution_count": null,
   "id": "fff58450",
   "metadata": {},
   "outputs": [],
   "source": [
    "coleccion_sur = coleccionsur.map(Cloud30)\n",
    "coleccion_sur = coleccion_sur.map(Agua1996_sur)\n",
    "aquastsur = coleccion_sur.qualityMosaic('NDWI')\n",
    "map_sur = folium.Map(location = [-45, -73], zoom_start = 5)\n",
    "map_sur.add_ee_layer(aquastsur, vizParams, 'Mapa sin Nubes')\n",
    "display(map_sur)"
   ]
  },
  {
   "cell_type": "code",
   "execution_count": null,
   "id": "32fc0b6c",
   "metadata": {},
   "outputs": [],
   "source": [
    "coleccion_sur = coleccionsur.map(Cloud30)\n",
    "coleccion_sur = coleccion_sur.map(Ndvi1996_sur)\n",
    "tierrasur = coleccion_sur.qualityMosaic('NDVI')\n",
    "map_sur = folium.Map(location = [-45, -73], zoom_start = 5)\n",
    "map_sur.add_ee_layer(tierrasur, vizParams, 'Mapa sin Nubes')\n",
    "display(map_sur)"
   ]
  },
  {
   "cell_type": "markdown",
   "id": "6cd9b695",
   "metadata": {},
   "source": [
    "#### Filtro de agua"
   ]
  },
  {
   "cell_type": "code",
   "execution_count": null,
   "id": "f0d396c3",
   "metadata": {},
   "outputs": [],
   "source": [
    "coleccion96_ = coleccion1996.map(Cloud50)\n",
    "coleccion96_ = coleccion96_.map(Agua1996)\n",
    "greenest96_ = coleccion96_.qualityMosaic('NDVI')\n",
    "map_1996_ = folium.Map(location = [-45, -73], zoom_start = 5)\n",
    "map_1996_.add_ee_layer(greenest96_, vizParams, 'Mapa sin Nubes')\n",
    "display(map_1996_)"
   ]
  },
  {
   "cell_type": "code",
   "execution_count": null,
   "id": "47c27835",
   "metadata": {
    "scrolled": false
   },
   "outputs": [],
   "source": [
    "agua_1996 = coleccion1996.map(Cloud50)\n",
    "agua_1996 = agua_1996.map(Agua1996)\n",
    "aquast96_ = agua_1996.qualityMosaic('NDWI')\n",
    "map_agua1996 = folium.Map(location = [-45, -73], zoom_start = 5)\n",
    "map_agua1996.add_ee_layer(aquast96_, vizParams, 'Mapa sin Nubes')\n",
    "display(map_agua1996)"
   ]
  },
  {
   "cell_type": "code",
   "execution_count": null,
   "id": "ac8f71f5",
   "metadata": {},
   "outputs": [],
   "source": []
  },
  {
   "cell_type": "code",
   "execution_count": null,
   "id": "d0b566bc",
   "metadata": {
    "scrolled": false
   },
   "outputs": [],
   "source": [
    "coleccion96_2 = coleccion1996.map(Cloud50)\n",
    "greenest96_2 = coleccion96_2.qualityMosaic('NDVI')\n",
    "map_1996_2 = folium.Map(location = [-45, -73], zoom_start = 5)\n",
    "map_1996_2.add_ee_layer(greenest96_2, vizParams, 'Mapa sin Nubes')\n",
    "display(map_1996_2)"
   ]
  },
  {
   "cell_type": "markdown",
   "id": "9ee054b8",
   "metadata": {},
   "source": [
    "#### Filtro NDVI"
   ]
  },
  {
   "cell_type": "code",
   "execution_count": null,
   "id": "662802ac",
   "metadata": {},
   "outputs": [],
   "source": [
    "coleccion96_3 = coleccion1996.map(Cloud50)\n",
    "coleccion96_3 = coleccion96_3.map(Ndvi1996)\n",
    "greenest96_3 = coleccion96_3.qualityMosaic('NDVI')\n",
    "map_1996_3 = folium.Map(location = [-45, -73], zoom_start = 5)\n",
    "map_1996_3.add_ee_layer(greenest96_3, vizParams, 'Mapa sin Nubes')\n",
    "display(map_1996_3)"
   ]
  },
  {
   "cell_type": "code",
   "execution_count": null,
   "id": "778173c5",
   "metadata": {},
   "outputs": [],
   "source": [
    "coleccion_sur2 = coleccionsur.map(Cloud30)\n",
    "coleccion_sur2 = coleccion_sur2.map(Ndvi1996_sur)\n",
    "coleccion_sur2 = coleccion_sur2.map(Agua1996_sur)\n",
    "greenest_sur2 = coleccion_sur2.qualityMosaic('NDVI')\n",
    "map_sur2 = folium.Map(location = [-45, -73], zoom_start = 5)\n",
    "map_sur2.add_ee_layer(greenest_sur2, vizParams, 'Mapa sin Nubes')\n",
    "display(map_sur2)"
   ]
  },
  {
   "cell_type": "code",
   "execution_count": null,
   "id": "27dc3c63",
   "metadata": {},
   "outputs": [],
   "source": []
  },
  {
   "cell_type": "markdown",
   "id": "4460a9fd",
   "metadata": {},
   "source": [
    "### Verano 1997"
   ]
  },
  {
   "cell_type": "code",
   "execution_count": null,
   "id": "807d1d0d",
   "metadata": {
    "scrolled": false
   },
   "outputs": [],
   "source": [
    "coleccion97 = coleccion1997.map(Cloud50)\n",
    "\n",
    "greenest97 = coleccion97.qualityMosaic('NDVI')\n",
    "map_1997 = folium.Map(location = [-45, -73], zoom_start = 5)\n",
    "map_1997.add_ee_layer(greenest97, vizParams, 'Mapa sin nubes 97')\n",
    "display(map_1997)"
   ]
  },
  {
   "cell_type": "code",
   "execution_count": null,
   "id": "62e838d6",
   "metadata": {},
   "outputs": [],
   "source": [
    "agua_1997 = coleccion1997.map(Agua1997)\n",
    "aquast97_ = agua_1997.qualityMosaic('NDWI')\n",
    "map_agua1997 = folium.Map(location = [-45, -73], zoom_start = 5)\n",
    "map_agua1997.add_ee_layer(aquast97_, vizParams, 'Mapa sin Nubes 97')\n",
    "display(map_agua1997)"
   ]
  },
  {
   "cell_type": "code",
   "execution_count": null,
   "id": "69024020",
   "metadata": {},
   "outputs": [],
   "source": []
  },
  {
   "cell_type": "code",
   "execution_count": null,
   "id": "114383b0",
   "metadata": {},
   "outputs": [],
   "source": []
  },
  {
   "cell_type": "markdown",
   "id": "0ab92a35",
   "metadata": {},
   "source": [
    "### Verano 1998"
   ]
  },
  {
   "cell_type": "code",
   "execution_count": null,
   "id": "8ab1e454",
   "metadata": {
    "scrolled": true
   },
   "outputs": [],
   "source": [
    "coleccion98 = coleccion1998.map(Cloud50)\n",
    "# coleccion2019 = coleccion2019.map(Agua)\n",
    "greenest98 = coleccion98.qualityMosaic('NDVI')\n",
    "map_1998 = folium.Map(location = [-45, -73], zoom_start = 5)\n",
    "map_1998.add_ee_layer(greenest98, vizParams, 'Mapa sin nubes')\n",
    "display(map_1998)"
   ]
  },
  {
   "cell_type": "markdown",
   "id": "dada3ebe",
   "metadata": {},
   "source": [
    "### Verano 1995"
   ]
  },
  {
   "cell_type": "code",
   "execution_count": null,
   "id": "7f063baa",
   "metadata": {},
   "outputs": [],
   "source": [
    "start_date = '1995-10-01'\n",
    "end_date = '1996-03-31'\n",
    "\n",
    "l5_1995 = ee.ImageCollection('LANDSAT/LT05/C01/T1_TOA') \\\n",
    "    .filterBounds(patagonia_grande) \\\n",
    "    .filterDate(start_date, end_date)\n"
   ]
  },
  {
   "cell_type": "code",
   "execution_count": null,
   "id": "0757ccf1",
   "metadata": {},
   "outputs": [],
   "source": [
    "coleccion1995 = l5_1995.map(addNDVI).map(addNDWI).map(addNDGI).map(addDate)"
   ]
  },
  {
   "cell_type": "code",
   "execution_count": null,
   "id": "9debec11",
   "metadata": {},
   "outputs": [],
   "source": [
    "coleccion95 = coleccion1995.map(Cloud30)\n",
    "# coleccion2019 = coleccion2019.map(Agua)\n",
    "greenest95 = coleccion95.qualityMosaic('NDVI')\n",
    "map_1995 = folium.Map(location = [-45, -73], zoom_start = 5)\n",
    "map_1995.add_ee_layer(greenest95, vizParams, 'Mapa sin nubes')\n",
    "display(map_1995)\n"
   ]
  },
  {
   "cell_type": "markdown",
   "id": "fa3956f1",
   "metadata": {},
   "source": [
    "### Verano 1994"
   ]
  },
  {
   "cell_type": "code",
   "execution_count": null,
   "id": "c3efcf0f",
   "metadata": {},
   "outputs": [],
   "source": [
    "start_date = '1994-10-01'\n",
    "end_date = '1995-03-31'\n",
    "\n",
    "l5_1994 = ee.ImageCollection('LANDSAT/LT05/C01/T1_TOA') \\\n",
    "    .filterBounds(patagonia_grande) \\\n",
    "    .filterDate(start_date, end_date)"
   ]
  },
  {
   "cell_type": "code",
   "execution_count": null,
   "id": "b15a99dc",
   "metadata": {},
   "outputs": [],
   "source": [
    "coleccion1994 = l5_1994.map(addNDVI).map(addNDWI).map(addNDGI).map(addDate)"
   ]
  },
  {
   "cell_type": "code",
   "execution_count": null,
   "id": "33a7f560",
   "metadata": {},
   "outputs": [],
   "source": [
    "coleccion94 = coleccion1994.map(Cloud30)\n",
    "# coleccion2019 = coleccion2019.map(Agua)\n",
    "greenest94 = coleccion94.qualityMosaic('NDVI')\n",
    "map_1994 = folium.Map(location = [-45, -73], zoom_start = 5)\n",
    "map_1994.add_ee_layer(greenest94, vizParams, 'Mapa sin nubes')\n",
    "display(map_1994)"
   ]
  },
  {
   "cell_type": "markdown",
   "id": "e5231ed6",
   "metadata": {},
   "source": [
    "### Verano 1993"
   ]
  },
  {
   "cell_type": "code",
   "execution_count": null,
   "id": "e9bb88fd",
   "metadata": {},
   "outputs": [],
   "source": [
    "start_date = '1993-10-01'\n",
    "end_date = '1994-03-31'\n",
    "\n",
    "l5_1993 = ee.ImageCollection('LANDSAT/LT05/C01/T1_TOA') \\\n",
    "    .filterBounds(patagonia_grande) \\\n",
    "    .filterDate(start_date, end_date)\n",
    "\n"
   ]
  },
  {
   "cell_type": "code",
   "execution_count": null,
   "id": "0f0819ff",
   "metadata": {},
   "outputs": [],
   "source": [
    "coleccion1993 = l5_1993.map(addNDVI).map(addNDWI).map(addNDGI).map(addDate)"
   ]
  },
  {
   "cell_type": "code",
   "execution_count": null,
   "id": "11ce9e71",
   "metadata": {
    "scrolled": false
   },
   "outputs": [],
   "source": [
    "coleccion93 = coleccion1993.map(Cloud30)\n",
    "# coleccion2019 = coleccion2019.map(Agua)\n",
    "greenest93 = coleccion93.qualityMosaic('NDVI')\n",
    "map_1993 = folium.Map(location = [-45, -73], zoom_start = 5)\n",
    "map_1993.add_ee_layer(greenest93, vizParams, 'Mapa sin nubes')\n",
    "display(map_1993)"
   ]
  },
  {
   "cell_type": "markdown",
   "id": "6d04237d",
   "metadata": {},
   "source": [
    "### Verano 1992"
   ]
  },
  {
   "cell_type": "code",
   "execution_count": null,
   "id": "50f57510",
   "metadata": {},
   "outputs": [],
   "source": [
    "start_date = '1992-10-01'\n",
    "end_date = '1993-03-31'\n",
    "\n",
    "l5_1992 = ee.ImageCollection('LANDSAT/LT05/C01/T1_TOA') \\\n",
    "    .filterBounds(patagonia_grande) \\\n",
    "    .filterDate(start_date, end_date)"
   ]
  },
  {
   "cell_type": "code",
   "execution_count": null,
   "id": "26cf4fcb",
   "metadata": {},
   "outputs": [],
   "source": [
    "coleccion1992 = l5_1992.map(addNDVI).map(addNDWI).map(addNDGI).map(addDate)"
   ]
  },
  {
   "cell_type": "code",
   "execution_count": null,
   "id": "a943c56d",
   "metadata": {},
   "outputs": [],
   "source": [
    "coleccion92 = coleccion1992.map(Cloud30)\n",
    "# coleccion2019 = coleccion2019.map(Agua)\n",
    "greenest92 = coleccion92.qualityMosaic('NDVI')\n",
    "map_1992 = folium.Map(location = [-45, -73], zoom_start = 5)\n",
    "map_1992.add_ee_layer(greenest92, vizParams, 'Mapa sin nubes')\n",
    "display(map_1992)"
   ]
  },
  {
   "cell_type": "markdown",
   "id": "f04c91d7",
   "metadata": {},
   "source": [
    "## Mosaicos"
   ]
  },
  {
   "cell_type": "code",
   "execution_count": null,
   "id": "2bbfc08d",
   "metadata": {},
   "outputs": [],
   "source": [
    "Map3.addLayer(ndvi1996, {'palette': palette}, 'NDVI_1996')\n",
    "Map3"
   ]
  },
  {
   "cell_type": "code",
   "execution_count": null,
   "id": "2bda063d",
   "metadata": {},
   "outputs": [],
   "source": [
    "mosaic = ee.ImageCollection([greenestsur,aquastsur]).mosaic()"
   ]
  },
  {
   "cell_type": "code",
   "execution_count": null,
   "id": "a33773a0",
   "metadata": {},
   "outputs": [],
   "source": [
    "Map3.addLayer(mosaic, vizParams, 'Mosaico')\n",
    "Map3"
   ]
  },
  {
   "cell_type": "code",
   "execution_count": null,
   "id": "9944b92e",
   "metadata": {},
   "outputs": [],
   "source": [
    "mosaic2 = ee.ImageCollection([mosaic, tierrasur]).mosaic()"
   ]
  },
  {
   "cell_type": "code",
   "execution_count": null,
   "id": "63676379",
   "metadata": {},
   "outputs": [],
   "source": [
    "Map3.addLayer(mosaic2, vizParams, 'Mosaico2')\n",
    "Map3"
   ]
  },
  {
   "cell_type": "code",
   "execution_count": null,
   "id": "9150deab",
   "metadata": {},
   "outputs": [],
   "source": [
    "# mosaic3 = ee.ImageCollection([mosaic2, greenest97]).mosaic()"
   ]
  },
  {
   "cell_type": "code",
   "execution_count": null,
   "id": "8c463ae3",
   "metadata": {},
   "outputs": [],
   "source": [
    "# Map3.addLayer(mosaic3, vizParams, 'Mosaico3')\n",
    "# Map3"
   ]
  },
  {
   "cell_type": "code",
   "execution_count": null,
   "id": "e28fd882",
   "metadata": {},
   "outputs": [],
   "source": [
    "# mosaic4 = ee.ImageCollection([mosaic3, greenest_sur2]).mosaic()"
   ]
  },
  {
   "cell_type": "code",
   "execution_count": null,
   "id": "85a84a4f",
   "metadata": {},
   "outputs": [],
   "source": [
    "# Map3.addLayer(mosaic4, vizParams, 'Mosaico 4')\n",
    "# Map3"
   ]
  },
  {
   "cell_type": "code",
   "execution_count": null,
   "id": "62b2bd44",
   "metadata": {},
   "outputs": [],
   "source": [
    "# mosaic5 = ee.ImageCollection([mosaic4,aquast97_]).mosaic()"
   ]
  },
  {
   "cell_type": "code",
   "execution_count": null,
   "id": "829dc2ab",
   "metadata": {},
   "outputs": [],
   "source": [
    "# Map3.addLayer(mosaic5, vizParams, 'Mosaico 5')\n",
    "# Map3"
   ]
  },
  {
   "cell_type": "code",
   "execution_count": null,
   "id": "b12fa204",
   "metadata": {},
   "outputs": [],
   "source": []
  }
 ],
 "metadata": {
  "kernelspec": {
   "display_name": "Python 3 (ipykernel)",
   "language": "python",
   "name": "python3"
  },
  "language_info": {
   "codemirror_mode": {
    "name": "ipython",
    "version": 3
   },
   "file_extension": ".py",
   "mimetype": "text/x-python",
   "name": "python",
   "nbconvert_exporter": "python",
   "pygments_lexer": "ipython3",
   "version": "3.9.2"
  },
  "toc": {
   "base_numbering": 1,
   "nav_menu": {},
   "number_sections": true,
   "sideBar": true,
   "skip_h1_title": false,
   "title_cell": "Table of Contents",
   "title_sidebar": "Contents",
   "toc_cell": false,
   "toc_position": {
    "height": "calc(100% - 180px)",
    "left": "10px",
    "top": "150px",
    "width": "384px"
   },
   "toc_section_display": true,
   "toc_window_display": true
  },
  "varInspector": {
   "cols": {
    "lenName": 16,
    "lenType": 16,
    "lenVar": 40
   },
   "kernels_config": {
    "python": {
     "delete_cmd_postfix": "",
     "delete_cmd_prefix": "del ",
     "library": "var_list.py",
     "varRefreshCmd": "print(var_dic_list())"
    },
    "r": {
     "delete_cmd_postfix": ") ",
     "delete_cmd_prefix": "rm(",
     "library": "var_list.r",
     "varRefreshCmd": "cat(var_dic_list()) "
    }
   },
   "types_to_exclude": [
    "module",
    "function",
    "builtin_function_or_method",
    "instance",
    "_Feature"
   ],
   "window_display": false
  }
 },
 "nbformat": 4,
 "nbformat_minor": 5
}
