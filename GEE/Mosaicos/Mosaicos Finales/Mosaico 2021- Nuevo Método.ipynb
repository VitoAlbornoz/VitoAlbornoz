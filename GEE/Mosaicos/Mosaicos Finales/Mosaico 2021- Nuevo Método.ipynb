{
 "cells": [
  {
   "cell_type": "markdown",
   "id": "c8ee7fef",
   "metadata": {},
   "source": [
    "# Mosaico 2021"
   ]
  },
  {
   "cell_type": "markdown",
   "id": "203f76ca",
   "metadata": {},
   "source": [
    "Script trabajado por Francisco Albornoz (2021-04-13) / Última modificación / Mosaicos Patagonia"
   ]
  },
  {
   "cell_type": "markdown",
   "id": "2fb5cdeb",
   "metadata": {},
   "source": [
    "2021-08-05 13:07:09 "
   ]
  },
  {
   "cell_type": "code",
   "execution_count": 1,
   "id": "3057c761",
   "metadata": {
    "ExecuteTime": {
     "end_time": "2022-01-20T12:56:01.149471Z",
     "start_time": "2022-01-20T12:55:59.098802Z"
    }
   },
   "outputs": [],
   "source": [
    "import ee \n",
    "import geemap\n",
    "import geemap.chart as chart\n",
    "import os\n",
    "import folium\n",
    "import xarray_leaflet\n",
    "import rasterio \n",
    "from rasterio import plot\n",
    "import matplotlib.pyplot as plt\n",
    "import numpy as np\n",
    "%matplotlib inline"
   ]
  },
  {
   "cell_type": "markdown",
   "id": "1997eeb4",
   "metadata": {},
   "source": [
    "<img src=https://www.ecopaysen.cl/wp-content/uploads/2019/12/ecopaysen_marca_web.png>"
   ]
  },
  {
   "cell_type": "code",
   "execution_count": 2,
   "id": "fca49a56",
   "metadata": {
    "ExecuteTime": {
     "end_time": "2022-01-20T12:56:11.815971Z",
     "start_time": "2022-01-20T12:56:01.150668Z"
    }
   },
   "outputs": [],
   "source": [
    "Map = geemap.Map(center = [-45, -70], zoom = 4)\n",
    "Map1 = geemap.Map(center = [-45, -70], zoom = 4)\n",
    "Map2 = geemap.Map(center = [-45, -70], zoom = 4)\n",
    "Map3 = geemap.Map(center = [-45, -70], zoom = 4)\n",
    "Map4 = geemap.Map(center = [-45, -70], zoom = 4)\n",
    "Map5 = geemap.Map(center = [-45, -70], zoom = 4)\n",
    "Map6 = geemap.Map(center = [-45, -70], zoom = 4)\n",
    "Map7 = geemap.Map(center = [-45, -70], zoom = 4)\n",
    "Map8 = geemap.Map(center = [-45, -70], zoom = 4)\n",
    "Map9 = geemap.Map(center = [-45, -70], zoom = 4)\n",
    "Map10 = geemap.Map(center = [-45, -70], zoom = 4)\n",
    "Map11 = geemap.Map(center = [-45, -70], zoom = 4)\n",
    "Map12 = geemap.Map(center = [-45, -70], zoom = 4)\n",
    "Map13 = geemap.Map(center = [-45, -70], zoom = 4)\n",
    "Map14 = geemap.Map(center = [-45, -70], zoom = 4)\n",
    "Map15 = geemap.Map(center = [-45, -70], zoom = 4)\n",
    "Map16 = geemap.Map(center = [-45, -70], zoom = 4)"
   ]
  },
  {
   "cell_type": "markdown",
   "id": "f26fe1a2",
   "metadata": {},
   "source": [
    "## Área de Estudio"
   ]
  },
  {
   "cell_type": "code",
   "execution_count": 3,
   "id": "2aae613d",
   "metadata": {
    "ExecuteTime": {
     "end_time": "2022-01-20T12:56:13.106680Z",
     "start_time": "2022-01-20T12:56:11.816917Z"
    }
   },
   "outputs": [],
   "source": [
    "work_dir = os.path.expanduser('../../../Data/shapes/')\n",
    "patagonia = os.path.join(work_dir, 'patagonia_geo.shp')\n",
    "patagonia_grande = geemap.shp_to_ee(patagonia)\n",
    "base1 = os.path.join(work_dir, 'base_geo.shp')\n",
    "base = geemap.shp_to_ee(base1)"
   ]
  },
  {
   "cell_type": "code",
   "execution_count": 4,
   "id": "ebd00a21",
   "metadata": {
    "ExecuteTime": {
     "end_time": "2022-01-20T12:56:14.667625Z",
     "start_time": "2022-01-20T12:56:13.108058Z"
    }
   },
   "outputs": [],
   "source": [
    "base2 = os.path.join(work_dir, 'base2.shp')\n",
    "base2 = geemap.shp_to_ee(base2)\n",
    "base3 = os.path.join(work_dir, 'base3.shp')\n",
    "base3 = geemap.shp_to_ee(base3)\n",
    "base4 = os.path.join(work_dir, 'base4.shp')\n",
    "base4 = geemap.shp_to_ee(base4)\n",
    "base5 = os.path.join(work_dir, 'base5.shp')\n",
    "base5 = geemap.shp_to_ee(base5)\n",
    "base6 = os.path.join(work_dir, 'base6.shp')\n",
    "base6 = geemap.shp_to_ee(base6)"
   ]
  },
  {
   "cell_type": "code",
   "execution_count": 5,
   "id": "833630fa",
   "metadata": {
    "ExecuteTime": {
     "end_time": "2022-01-20T12:56:15.732240Z",
     "start_time": "2022-01-20T12:56:14.668601Z"
    }
   },
   "outputs": [],
   "source": [
    "geometria_base = os.path.join(work_dir, 'mapa_base_dis.shp') \n",
    "geometria_base = geemap.shp_to_ee(geometria_base)"
   ]
  },
  {
   "cell_type": "code",
   "execution_count": 6,
   "id": "8968a576",
   "metadata": {
    "ExecuteTime": {
     "end_time": "2022-01-20T12:56:16.020660Z",
     "start_time": "2022-01-20T12:56:15.733743Z"
    }
   },
   "outputs": [],
   "source": [
    "geometria_base2 = os.path.join(work_dir, 'area_base2_dis.shp') \n",
    "geometria_base2 = geemap.shp_to_ee(geometria_base2)"
   ]
  },
  {
   "cell_type": "code",
   "execution_count": 7,
   "id": "4dbbceda",
   "metadata": {
    "ExecuteTime": {
     "end_time": "2022-01-20T12:56:16.029161Z",
     "start_time": "2022-01-20T12:56:16.021640Z"
    }
   },
   "outputs": [],
   "source": [
    "geometry_exp = ee.Geometry.Polygon(\n",
    "        [[[-72.56281773604495, -33.81999514196144],\n",
    "          [-72.96381871260745, -35.294382843203024],\n",
    "          [-73.27692906416995, -35.25850698608905],\n",
    "          [-74.15583531416995, -38.13757615203617],\n",
    "          [-73.96357457198245, -38.16349478321529],\n",
    "          [-74.41603250978783, -39.59214901926122],\n",
    "          [-73.71840067385033, -39.70212049569608],\n",
    "          [-74.48057965994737, -41.961233926702086],\n",
    "          [-76.23199334221133, -46.599308425949715],\n",
    "          [-75.71838250236758, -46.6705186900265],\n",
    "          [-76.31583416780423, -48.08335993023956],\n",
    "          [-75.6739504332226, -48.17601084778724],\n",
    "          [-76.1812028986966, -49.3089458997328],\n",
    "          [-75.8516130549466, -49.35190435466257],\n",
    "          [-75.88182545729035, -49.42252520588146],\n",
    "          [-75.62776661939972, -49.4593908439046],\n",
    "          [-75.87838309772656, -50.0286830263256],\n",
    "          [-75.4746355391328, -50.08951678614621],\n",
    "          [-75.54325576346766, -50.23909657453096],\n",
    "          [-75.77780697097086, -50.76007049594944],\n",
    "          [-75.16119930495523, -50.84458853545005],\n",
    "          [-75.38504574050211, -51.344039508567974],\n",
    "          [-75.5541538866841, -51.71140521484993],\n",
    "          [-75.18336531246536, -51.75648162278235],\n",
    "          [-75.47788882049618, -52.3659753295982],\n",
    "          [-74.75894718310815, -52.46884703800526],\n",
    "          [-75.08565455837835, -53.06208069103826],\n",
    "          [-74.55801479059262, -53.126414996444055],\n",
    "          [-74.81690883977036, -53.6371915734125],\n",
    "          [-73.44408000172288, -53.83741753537409],\n",
    "          [-73.50862467945726, -53.95798563315933],\n",
    "          [-73.45231974781663, -53.967680681913386],\n",
    "          [-73.53197062672288, -54.11766576333605],\n",
    "          [-73.77219189508037, -54.57485104154676],\n",
    "          [-72.34049166499341, -54.77775087176573],\n",
    "          [-72.47759402717024, -55.03231503944354],\n",
    "          [-71.05285526571967, -55.24340674895388],\n",
    "          [-71.08306766806342, -55.29113504937561],\n",
    "          [-69.81960741798575, -55.47109132991434],\n",
    "          [-69.85119311134513, -55.51932330880519],\n",
    "          [-69.68227831642325, -55.544194128455445],\n",
    "          [-69.79214159767325, -55.75341614311607],\n",
    "          [-66.85410518726452, -56.21137383375629],\n",
    "          [-66.30968752348785, -55.25322454720416],\n",
    "          [-65.44176760161285, -55.378260612328376],\n",
    "          [-65.29222191220039, -55.084940556988364],\n",
    "          [-63.8145607793879, -55.29503930747886],\n",
    "          [-63.4410256231379, -54.559610949790994],\n",
    "          [-66.01731956845039, -54.18844646199444],\n",
    "          [-65.92942894345039, -53.97576673331468],\n",
    "          [-67.35765159970039, -53.77173637481835],\n",
    "          [-66.83490788218774, -52.56216102836118],\n",
    "          [-68.29059635875024, -52.351280557744616],\n",
    "          [-67.13664467133525, -49.5665018755825],\n",
    "          [-65.6891959408665, -49.77447361491692],\n",
    "          [-64.6040407061826, -46.886773053508534],\n",
    "          [-66.07346209290135, -46.670468623465915],\n",
    "          [-65.60651222417681, -45.29237148760689],\n",
    "          [-64.13159767339556, -45.51413819831776],\n",
    "          [-63.11762183127383, -42.44210625114028],\n",
    "          [-61.64820044455508, -42.65254570178212],\n",
    "          [-60.691700635610566, -39.58656313087865],\n",
    "          [-60.612049756704316, -39.597145764356114],\n",
    "          [-60.214053037778356, -38.26345264755797],\n",
    "          [-62.338430585556544, -37.86345563921212],\n",
    "          [-62.431814374619044, -38.13616213643378],\n",
    "          [-63.880475463562526, -37.8656239671591],\n",
    "          [-63.965619506531276, -38.12752037872568],\n",
    "          [-65.43863114657343, -37.86678770192114],\n",
    "          [-65.52652177157343, -38.12867996539086],\n",
    "          [-66.31753739657343, -37.98811028708228],\n",
    "          [-65.98609312949165, -36.82548737245019],\n",
    "          [-68.06866521074468, -36.43149799324939],\n",
    "          [-68.16204899980718, -36.70723234878123],\n",
    "          [-69.00250310136968, -36.55294237984414],\n",
    "          [-68.66838285254276, -35.38834808765389],\n",
    "          [-70.73190167990279, -35.008946233837705],\n",
    "          [-70.82528546896529, -35.29190694633577],\n",
    "          [-71.68771222677779, -35.11685679848462],\n",
    "          [-71.37460187521529, -33.95679291780399],\n",
    "          [-72.53365949240279, -33.733238932504804]]])"
   ]
  },
  {
   "cell_type": "markdown",
   "id": "fa8e2fea",
   "metadata": {},
   "source": [
    "## Colors Bars"
   ]
  },
  {
   "cell_type": "code",
   "execution_count": 8,
   "id": "1efebd11",
   "metadata": {
    "ExecuteTime": {
     "end_time": "2022-01-20T12:56:16.995334Z",
     "start_time": "2022-01-20T12:56:16.030394Z"
    }
   },
   "outputs": [],
   "source": [
    "import geemap.colormaps as cm"
   ]
  },
  {
   "cell_type": "code",
   "execution_count": 9,
   "id": "d159d70f",
   "metadata": {
    "ExecuteTime": {
     "end_time": "2022-01-20T12:56:16.997971Z",
     "start_time": "2022-01-20T12:56:16.996417Z"
    }
   },
   "outputs": [],
   "source": [
    "# cm.palettes.terrain"
   ]
  },
  {
   "cell_type": "code",
   "execution_count": 10,
   "id": "fe999a91",
   "metadata": {
    "ExecuteTime": {
     "end_time": "2022-01-20T12:56:17.004983Z",
     "start_time": "2022-01-20T12:56:16.999927Z"
    }
   },
   "outputs": [],
   "source": [
    "color_ndvi = cm.palettes.ndvi"
   ]
  },
  {
   "cell_type": "code",
   "execution_count": 11,
   "id": "05fb282a",
   "metadata": {
    "ExecuteTime": {
     "end_time": "2022-01-20T12:56:17.010044Z",
     "start_time": "2022-01-20T12:56:17.006109Z"
    }
   },
   "outputs": [],
   "source": [
    "color_ndwi = cm.palettes.ndwi"
   ]
  },
  {
   "cell_type": "code",
   "execution_count": 12,
   "id": "68161910",
   "metadata": {
    "ExecuteTime": {
     "end_time": "2022-01-20T12:56:17.016553Z",
     "start_time": "2022-01-20T12:56:17.011210Z"
    }
   },
   "outputs": [],
   "source": [
    "color_terrain = cm.palettes.terrain"
   ]
  },
  {
   "cell_type": "code",
   "execution_count": 13,
   "id": "8e99245f",
   "metadata": {
    "ExecuteTime": {
     "end_time": "2022-01-20T12:56:17.022067Z",
     "start_time": "2022-01-20T12:56:17.017838Z"
    }
   },
   "outputs": [],
   "source": [
    "color_glaciar = cm.palettes.PuBuGn_r"
   ]
  },
  {
   "cell_type": "code",
   "execution_count": 14,
   "id": "92b8cf41",
   "metadata": {
    "ExecuteTime": {
     "end_time": "2022-01-20T12:56:17.028073Z",
     "start_time": "2022-01-20T12:56:17.023204Z"
    }
   },
   "outputs": [],
   "source": [
    "color_nubes = cm.palettes.inferno"
   ]
  },
  {
   "cell_type": "code",
   "execution_count": 15,
   "id": "39930741",
   "metadata": {
    "ExecuteTime": {
     "end_time": "2022-01-20T12:56:17.032384Z",
     "start_time": "2022-01-20T12:56:17.028938Z"
    }
   },
   "outputs": [],
   "source": [
    "# cm.list_colormaps()"
   ]
  },
  {
   "cell_type": "code",
   "execution_count": 16,
   "id": "0ce61cbe",
   "metadata": {
    "ExecuteTime": {
     "end_time": "2022-01-20T12:56:20.341297Z",
     "start_time": "2022-01-20T12:56:17.033278Z"
    }
   },
   "outputs": [
    {
     "data": {
      "image/png": "[encoded data removed]",
      "text/plain": [
       "<Figure size 864x4780.8 with 166 Axes>"
      ]
     },
     "metadata": {
      "needs_background": "light"
     },
     "output_type": "display_data"
    }
   ],
   "source": [
    "cm.plot_colormaps(width=12, height=0.4)"
   ]
  },
  {
   "cell_type": "code",
   "execution_count": 17,
   "id": "d6233e9b",
   "metadata": {
    "ExecuteTime": {
     "end_time": "2022-01-20T12:56:20.343979Z",
     "start_time": "2022-01-20T12:56:20.342181Z"
    }
   },
   "outputs": [],
   "source": [
    "color_rainbow = cm.palettes.summer_r"
   ]
  },
  {
   "cell_type": "markdown",
   "id": "11666045",
   "metadata": {},
   "source": [
    "## Funciones"
   ]
  },
  {
   "cell_type": "code",
   "execution_count": 18,
   "id": "166db170",
   "metadata": {
    "ExecuteTime": {
     "end_time": "2022-01-20T12:56:20.347333Z",
     "start_time": "2022-01-20T12:56:20.344913Z"
    }
   },
   "outputs": [],
   "source": [
    "def add_ee_layer(self, ee_image_object, vis_params, name):\n",
    "  map_id_dict = ee.Image(ee_image_object).getMapId(vis_params)\n",
    "  folium.raster_layers.TileLayer(\n",
    "      tiles=map_id_dict['tile_fetcher'].url_format,\n",
    "      attr='Map Data &copy; <a href=\"https://earthengine.google.com/\">Google Earth Engine</a>',\n",
    "      name=name,\n",
    "      overlay=True,\n",
    "      control=True\n",
    "  ).add_to(self)\n",
    "\n",
    "folium.Map.add_ee_layer = add_ee_layer"
   ]
  },
  {
   "cell_type": "code",
   "execution_count": 19,
   "id": "b9e1cdaf",
   "metadata": {
    "ExecuteTime": {
     "end_time": "2022-01-20T12:56:20.350341Z",
     "start_time": "2022-01-20T12:56:20.348371Z"
    }
   },
   "outputs": [],
   "source": [
    "def addNDVI(image): \n",
    "    ndvi = image.normalizedDifference(['B5', 'B4']).rename('NDVI')\n",
    "    return image.addBands(ndvi)"
   ]
  },
  {
   "cell_type": "code",
   "execution_count": 20,
   "id": "4c83d08e",
   "metadata": {
    "ExecuteTime": {
     "end_time": "2022-01-20T12:56:20.353377Z",
     "start_time": "2022-01-20T12:56:20.351416Z"
    }
   },
   "outputs": [],
   "source": [
    "def addNDVI2(image): \n",
    "    ndvi = image.normalizedDifference(['B5', 'B4']).rename('NDVI2')\n",
    "    return image.addBands(ndvi)"
   ]
  },
  {
   "cell_type": "code",
   "execution_count": 21,
   "id": "ad105a37",
   "metadata": {
    "ExecuteTime": {
     "end_time": "2022-01-20T12:56:20.356381Z",
     "start_time": "2022-01-20T12:56:20.354469Z"
    }
   },
   "outputs": [],
   "source": [
    "def addNDWI(image):\n",
    "    ndwi = image.normalizedDifference(['B3','B5']).rename('NDWI')\n",
    "    return image.addBands(ndwi)"
   ]
  },
  {
   "cell_type": "code",
   "execution_count": 22,
   "id": "afd5a921",
   "metadata": {
    "ExecuteTime": {
     "end_time": "2022-01-20T12:56:20.359007Z",
     "start_time": "2022-01-20T12:56:20.357366Z"
    }
   },
   "outputs": [],
   "source": [
    "def addNDGI(image):\n",
    "    ndgi = image.normalizedDifference(['B3','B4']).rename('NDGI')\n",
    "    return image.addBands(ndgi)"
   ]
  },
  {
   "cell_type": "code",
   "execution_count": 23,
   "id": "786770f8",
   "metadata": {
    "ExecuteTime": {
     "end_time": "2022-01-20T12:56:20.362008Z",
     "start_time": "2022-01-20T12:56:20.360062Z"
    }
   },
   "outputs": [],
   "source": [
    "def addSAVI(image):\n",
    "    savi = image.expression(\n",
    "        '((b5 - b4)/(b5 + b4 + 0.5))*1.5', {\n",
    "            'b4':image.select('B4'),\n",
    "            'b5':image.select('B5')\n",
    "        }) \n",
    "    savi= savi.rename('SAVI')\n",
    "    return image.addBands(savi)"
   ]
  },
  {
   "cell_type": "code",
   "execution_count": 24,
   "id": "cffb72aa",
   "metadata": {
    "ExecuteTime": {
     "end_time": "2022-01-20T12:56:20.365056Z",
     "start_time": "2022-01-20T12:56:20.363088Z"
    }
   },
   "outputs": [],
   "source": [
    "def addNDSI(image):\n",
    "    ndsi = image.normalizedDifference(['B3','B6']).rename('NDSI')\n",
    "    return image.addBands(ndsi)"
   ]
  },
  {
   "cell_type": "code",
   "execution_count": 25,
   "id": "4889cabe",
   "metadata": {
    "ExecuteTime": {
     "end_time": "2022-01-20T12:56:20.368054Z",
     "start_time": "2022-01-20T12:56:20.365861Z"
    }
   },
   "outputs": [],
   "source": [
    "def addDate(image):\n",
    "    img_date = ee.Date(image.date())\n",
    "    img_date = ee.Number.parse(img_date.format('YYYYMMdd'))\n",
    "    return image.addBands(ee.Image(img_date).rename('date').toInt())"
   ]
  },
  {
   "cell_type": "code",
   "execution_count": 26,
   "id": "04720d6b",
   "metadata": {
    "ExecuteTime": {
     "end_time": "2022-01-20T12:56:20.371050Z",
     "start_time": "2022-01-20T12:56:20.369202Z"
    }
   },
   "outputs": [],
   "source": [
    "def Cloud40(image):\n",
    "    scored = ee.Algorithms.Landsat.simpleCloudScore(image)\n",
    "    return image.updateMask(scored.select(['cloud']).lt(40)) "
   ]
  },
  {
   "cell_type": "code",
   "execution_count": 27,
   "id": "3115c210",
   "metadata": {
    "ExecuteTime": {
     "end_time": "2022-01-20T12:56:20.374056Z",
     "start_time": "2022-01-20T12:56:20.372041Z"
    }
   },
   "outputs": [],
   "source": [
    "def Cloud30(image):\n",
    "    scored = ee.Algorithms.Landsat.simpleCloudScore(image)\n",
    "    return image.updateMask(scored.select(['cloud']).lt(30)) "
   ]
  },
  {
   "cell_type": "code",
   "execution_count": 28,
   "id": "f86cf507",
   "metadata": {
    "ExecuteTime": {
     "end_time": "2022-01-20T12:56:20.378527Z",
     "start_time": "2022-01-20T12:56:20.376846Z"
    }
   },
   "outputs": [],
   "source": [
    "def Cloud20(image):\n",
    "    scored = ee.Algorithms.Landsat.simpleCloudScore(image)\n",
    "    return image.updateMask(scored.select(['cloud']).lt(20)) "
   ]
  },
  {
   "cell_type": "code",
   "execution_count": 29,
   "id": "9d288b40",
   "metadata": {
    "ExecuteTime": {
     "end_time": "2022-01-20T12:56:20.381525Z",
     "start_time": "2022-01-20T12:56:20.379677Z"
    }
   },
   "outputs": [],
   "source": [
    "def Cloud10(image):\n",
    "    scored = ee.Algorithms.Landsat.simpleCloudScore(image)\n",
    "    return image.updateMask(scored.select(['cloud']).lt(10))"
   ]
  },
  {
   "cell_type": "code",
   "execution_count": 30,
   "id": "92d6ba1b",
   "metadata": {
    "ExecuteTime": {
     "end_time": "2022-01-20T12:56:20.384526Z",
     "start_time": "2022-01-20T12:56:20.382604Z"
    }
   },
   "outputs": [],
   "source": [
    "def addCloud(image):\n",
    "    nube = ee.Algorithms.Landsat.simpleCloudScore(image)\n",
    "    return image.addBands(ee.Image(nube.select(['cloud'])).rename('nube'))"
   ]
  },
  {
   "cell_type": "code",
   "execution_count": 31,
   "id": "4eb69ead",
   "metadata": {
    "ExecuteTime": {
     "end_time": "2022-01-20T12:56:20.388352Z",
     "start_time": "2022-01-20T12:56:20.385495Z"
    }
   },
   "outputs": [],
   "source": [
    "def find_closest(target_image, image_col, days):\n",
    "    \"\"\"Filter images in a collection by date proximity and spatial intersection to a target image.\n",
    "\n",
    "    Args:\n",
    "        target_image: An ee.Image whose observation date is used to find near-date images in\n",
    "          the provided image_col image collection. It must have a 'system:time_start' property.\n",
    "        image_col: An ee.ImageCollection to filter by date proximity and spatial intersection\n",
    "          to the target_image. Each image in the collection must have a 'system:time_start'\n",
    "          property.\n",
    "        days: A number that defines the maximum number of days difference allowed between\n",
    "          the target_image and images in the image_col.\n",
    "\n",
    "    Returns:\n",
    "        An ee.ImageCollection that has been filtered to include those images that are within the\n",
    "          given date proximity to target_image and intersect it spatially.\n",
    "    \"\"\"\n",
    "\n",
    "    # Compute the timespan for N days (in milliseconds).\n",
    "    range = ee.Number(days).multiply(1000 * 60 * 60 * 24)\n",
    "\n",
    "    filter = ee.Filter.And(\n",
    "        ee.Filter.maxDifference(range, 'system:time_start', None, 'system:time_start'),\n",
    "        ee.Filter.intersects('.geo', None, '.geo'))\n",
    "\n",
    "    closest = (ee.Join.saveAll('matches', 'measure')\n",
    "        .apply(ee.ImageCollection([target_image]), image_col, filter))\n",
    "\n",
    "    return ee.ImageCollection(ee.List(closest.first().get('matches')))"
   ]
  },
  {
   "cell_type": "code",
   "execution_count": 32,
   "id": "b54bde64",
   "metadata": {
    "ExecuteTime": {
     "end_time": "2022-01-20T12:56:20.392353Z",
     "start_time": "2022-01-20T12:56:20.389318Z"
    }
   },
   "outputs": [],
   "source": [
    "vizParams = {\n",
    "  'bands': ['B5', 'B4', 'B3'],\n",
    "  'min': 0,\n",
    "  'max': 0.5,\n",
    "  'gamma': [0.95, 1.1, 1]\n",
    "}"
   ]
  },
  {
   "cell_type": "code",
   "execution_count": 33,
   "id": "71bcb153",
   "metadata": {
    "ExecuteTime": {
     "end_time": "2022-01-20T12:56:20.395352Z",
     "start_time": "2022-01-20T12:56:20.393206Z"
    }
   },
   "outputs": [],
   "source": [
    "vizParams_m = {\n",
    "  'bands': ['B5', 'B4', 'B3'],\n",
    "  'min': 0,\n",
    "  'max': 0.6,\n",
    "  'gamma': [1, 1, 1]\n",
    "}"
   ]
  },
  {
   "cell_type": "code",
   "execution_count": 34,
   "id": "aa02e8e2",
   "metadata": {
    "ExecuteTime": {
     "end_time": "2022-01-20T12:56:20.398158Z",
     "start_time": "2022-01-20T12:56:20.396347Z"
    }
   },
   "outputs": [],
   "source": [
    "vis_nieve = {\n",
    "  'bands': ['B6', 'B4', 'B3'],\n",
    "  'min': 0,\n",
    "  'max': 0.5,\n",
    "  'gamma': [0.95, 1.1, 1]\n",
    "}"
   ]
  },
  {
   "cell_type": "markdown",
   "id": "d9a442fb",
   "metadata": {},
   "source": [
    "## Colecciones"
   ]
  },
  {
   "cell_type": "markdown",
   "id": "5d07b81d",
   "metadata": {},
   "source": [
    "### 2021 Verano"
   ]
  },
  {
   "cell_type": "code",
   "execution_count": 35,
   "id": "0e0c1dfc",
   "metadata": {
    "ExecuteTime": {
     "end_time": "2022-01-20T12:56:20.401165Z",
     "start_time": "2022-01-20T12:56:20.399198Z"
    }
   },
   "outputs": [],
   "source": [
    "start_date = '2020-11-01'\n",
    "end_date = '2021-03-31'\n",
    "\n",
    "l8_2021 = ee.ImageCollection('LANDSAT/LC08/C01/T1_TOA') \\\n",
    "    .filterBounds(patagonia_grande) \\\n",
    "    .filterDate(start_date, end_date)  "
   ]
  },
  {
   "cell_type": "code",
   "execution_count": 36,
   "id": "74d427f9",
   "metadata": {
    "ExecuteTime": {
     "end_time": "2022-01-20T12:56:20.406980Z",
     "start_time": "2022-01-20T12:56:20.402078Z"
    }
   },
   "outputs": [],
   "source": [
    "coleccion2021 = l8_2021.map(addNDVI).map(addNDWI).map(addNDGI).map(addSAVI).map(addNDSI).map(addDate).map(addCloud)"
   ]
  },
  {
   "cell_type": "code",
   "execution_count": 37,
   "id": "e660d316",
   "metadata": {
    "ExecuteTime": {
     "end_time": "2022-01-20T12:56:20.409944Z",
     "start_time": "2022-01-20T12:56:20.408044Z"
    }
   },
   "outputs": [],
   "source": [
    "NDVI_2021 = coleccion2021.qualityMosaic('NDVI')\n",
    "NDWI_2021 = coleccion2021.qualityMosaic('NDWI')\n",
    "SAVI_2021 = coleccion2021.qualityMosaic('SAVI')\n",
    "NDGI_2021 = coleccion2021.qualityMosaic('NDGI')\n",
    "NDSI_2021 = coleccion2021.qualityMosaic('NDSI')"
   ]
  },
  {
   "cell_type": "code",
   "execution_count": 38,
   "id": "2b71385b",
   "metadata": {
    "ExecuteTime": {
     "end_time": "2022-01-20T12:56:20.413450Z",
     "start_time": "2022-01-20T12:56:20.410994Z"
    }
   },
   "outputs": [],
   "source": [
    "c2021_sn = coleccion2021.map(Cloud10)\n",
    "NDVI_2021_sn = c2021_sn.qualityMosaic('NDVI')\n",
    "NDWI_2021_sn = c2021_sn.qualityMosaic('NDWI')\n",
    "SAVI_2021_sn = c2021_sn.qualityMosaic('SAVI')\n",
    "NDGI_2021_sn = c2021_sn.qualityMosaic('NDGI')\n",
    "NDSI_2021_sn = c2021_sn.qualityMosaic('NDSI')"
   ]
  },
  {
   "cell_type": "code",
   "execution_count": 39,
   "id": "e2ee17c2",
   "metadata": {
    "ExecuteTime": {
     "end_time": "2022-01-20T12:56:28.988682Z",
     "start_time": "2022-01-20T12:56:20.414584Z"
    }
   },
   "outputs": [
    {
     "data": {
      "application/vnd.jupyter.widget-view+json": {
       "model_id": "b5e8ef9c03a24389813e34a65013790d",
       "version_major": 2,
       "version_minor": 0
      },
      "text/plain": [
       "Map(center=[-45, -70], controls=(WidgetControl(options=['position', 'transparent_bg'], widget=HBox(children=(T…"
      ]
     },
     "metadata": {},
     "output_type": "display_data"
    }
   ],
   "source": [
    "Map.addLayer(NDVI_2021_sn, vizParams, 'QMsn de NDVI 2021')\n",
    "Map.addLayer(NDVI_2021, vizParams, 'QM de NDVI 2021')\n",
    "Map.addLayer(NDWI_2021_sn, vizParams, 'QMsn de NDWI 2021')\n",
    "Map.addLayer(SAVI_2021_sn, vizParams, 'QMsn de SAVI 2021')\n",
    "Map.addLayer(NDGI_2021_sn, vis_nieve, 'QMsn de NDGI 2021')\n",
    "Map.addLayer(NDSI_2021_sn, vis_nieve, 'QMsn de NDSI 2021')\n",
    "Map"
   ]
  },
  {
   "cell_type": "code",
   "execution_count": 40,
   "id": "1994dbdf",
   "metadata": {
    "ExecuteTime": {
     "end_time": "2022-01-20T12:56:28.991314Z",
     "start_time": "2022-01-20T12:56:28.989703Z"
    }
   },
   "outputs": [],
   "source": [
    "NDVI_2021_l8 = NDVI_2021.set('SENSOR_ID', 'OLI_TIRS')"
   ]
  },
  {
   "cell_type": "code",
   "execution_count": 41,
   "id": "60a91aeb",
   "metadata": {
    "ExecuteTime": {
     "end_time": "2022-01-20T12:56:28.994445Z",
     "start_time": "2022-01-20T12:56:28.992095Z"
    }
   },
   "outputs": [],
   "source": [
    "cloud_2021_l8 = ee.Algorithms.Landsat.simpleCloudScore(NDVI_2021_l8)\n",
    "cloud_2021_l8 = cloud_2021_l8.select('cloud')"
   ]
  },
  {
   "cell_type": "code",
   "execution_count": 42,
   "id": "27740f8b",
   "metadata": {
    "ExecuteTime": {
     "end_time": "2022-01-20T12:56:28.997028Z",
     "start_time": "2022-01-20T12:56:28.995278Z"
    }
   },
   "outputs": [],
   "source": [
    "palette_nubes = ['#1a9850', '#66bd63', '#a6d96a', '#d9ef8b', '#fee08b', '#fdae61', '#f46d43', '#d73027']"
   ]
  },
  {
   "cell_type": "code",
   "execution_count": 43,
   "id": "613ea840",
   "metadata": {
    "ExecuteTime": {
     "end_time": "2022-01-20T12:56:28.999661Z",
     "start_time": "2022-01-20T12:56:28.998108Z"
    }
   },
   "outputs": [],
   "source": [
    "resultados= [cloud_2021_l8, NDVI_2021]\n",
    "vis_params2=  [\n",
    "    {'palette':palette_nubes}, \n",
    "    vizParams]\n",
    "labels = [\n",
    "    'Nubes 2021',\n",
    "    'QM NDVI 2021']"
   ]
  },
  {
   "cell_type": "code",
   "execution_count": 44,
   "id": "cb0d5f26",
   "metadata": {
    "ExecuteTime": {
     "end_time": "2022-01-20T12:56:29.002326Z",
     "start_time": "2022-01-20T12:56:29.000793Z"
    }
   },
   "outputs": [],
   "source": [
    "# geemap.linked_maps(rows=1, cols=2, height=\"400px\", center=[-45, -75], zoom=4, \n",
    "#                    ee_objects=resultados, vis_params=vis_params2, labels=labels, label_position=\"topright\")"
   ]
  },
  {
   "cell_type": "markdown",
   "id": "b8617200",
   "metadata": {},
   "source": [
    "### 2020 Verano"
   ]
  },
  {
   "cell_type": "code",
   "execution_count": 45,
   "id": "0401d370",
   "metadata": {
    "ExecuteTime": {
     "end_time": "2022-01-20T12:56:29.005559Z",
     "start_time": "2022-01-20T12:56:29.003402Z"
    }
   },
   "outputs": [],
   "source": [
    "start_date = '2019-11-01'\n",
    "end_date = '2020-03-31'\n",
    "\n",
    "l8_2020 = ee.ImageCollection('LANDSAT/LC08/C01/T1_TOA') \\\n",
    "    .filterBounds(patagonia_grande) \\\n",
    "    .filterDate(start_date, end_date)"
   ]
  },
  {
   "cell_type": "markdown",
   "id": "811a0128",
   "metadata": {},
   "source": [
    "### 2019 Verano"
   ]
  },
  {
   "cell_type": "code",
   "execution_count": 46,
   "id": "d756b623",
   "metadata": {
    "ExecuteTime": {
     "end_time": "2022-01-20T12:56:29.007879Z",
     "start_time": "2022-01-20T12:56:29.006267Z"
    }
   },
   "outputs": [],
   "source": [
    "start_date = '2018-11-01'\n",
    "end_date = '2019-03-31'\n",
    "\n",
    "l8_2019 = ee.ImageCollection('LANDSAT/LC08/C01/T1_TOA') \\\n",
    "    .filterBounds(patagonia_grande) \\\n",
    "    .filterDate(start_date, end_date)"
   ]
  },
  {
   "cell_type": "markdown",
   "id": "158f0bb1",
   "metadata": {},
   "source": [
    "### 2018 Verano"
   ]
  },
  {
   "cell_type": "code",
   "execution_count": 47,
   "id": "2c2ce2a2",
   "metadata": {
    "ExecuteTime": {
     "end_time": "2022-01-20T12:56:29.010523Z",
     "start_time": "2022-01-20T12:56:29.008785Z"
    }
   },
   "outputs": [],
   "source": [
    "start_date = '2017-11-01'\n",
    "end_date = '2018-03-31'\n",
    "\n",
    "l8_2018 = ee.ImageCollection('LANDSAT/LC08/C01/T1_TOA') \\\n",
    "    .filterBounds(patagonia_grande) \\\n",
    "    .filterDate(start_date, end_date)"
   ]
  },
  {
   "cell_type": "markdown",
   "id": "ad28b803",
   "metadata": {},
   "source": [
    "### 2017 Verano"
   ]
  },
  {
   "cell_type": "code",
   "execution_count": 48,
   "id": "1917c893",
   "metadata": {
    "ExecuteTime": {
     "end_time": "2022-01-20T12:56:29.013545Z",
     "start_time": "2022-01-20T12:56:29.011639Z"
    }
   },
   "outputs": [],
   "source": [
    "start_date = '2016-11-01'\n",
    "end_date = '2017-03-31'\n",
    "\n",
    "l8_2017 = ee.ImageCollection('LANDSAT/LC08/C01/T1_TOA') \\\n",
    "    .filterBounds(patagonia_grande) \\\n",
    "    .filterDate(start_date, end_date)"
   ]
  },
  {
   "cell_type": "markdown",
   "id": "d0a1318e",
   "metadata": {},
   "source": [
    "### 2021-2017 Colección "
   ]
  },
  {
   "cell_type": "code",
   "execution_count": 49,
   "id": "73e05438",
   "metadata": {
    "ExecuteTime": {
     "end_time": "2022-01-20T12:56:29.016648Z",
     "start_time": "2022-01-20T12:56:29.014513Z"
    }
   },
   "outputs": [],
   "source": [
    "filtersummer = ee.Filter.Or(\n",
    "    ee.Filter.date('2020-11-01','2021-03-31'),\n",
    "    ee.Filter.date('2019-11-01','2020-03-31'),\n",
    "    ee.Filter.date('2018-11-01','2019-03-31'),\n",
    "    ee.Filter.date('2017-11-01','2018-03-31')\n",
    ")"
   ]
  },
  {
   "cell_type": "code",
   "execution_count": 50,
   "id": "e3459c31",
   "metadata": {
    "ExecuteTime": {
     "end_time": "2022-01-20T12:56:29.019415Z",
     "start_time": "2022-01-20T12:56:29.017694Z"
    }
   },
   "outputs": [],
   "source": [
    "coleccion2021_2017 = ee.ImageCollection('LANDSAT/LC08/C01/T1_TOA') \\\n",
    "    .filterDate('2017-11-01', '2021-03-31') \\\n",
    "    .filter(filtersummer) \\\n",
    "    .filterBounds(patagonia_grande)"
   ]
  },
  {
   "cell_type": "code",
   "execution_count": 51,
   "id": "b84c22d9",
   "metadata": {
    "ExecuteTime": {
     "end_time": "2022-01-20T12:56:29.024617Z",
     "start_time": "2022-01-20T12:56:29.020498Z"
    }
   },
   "outputs": [],
   "source": [
    "l8_summer= coleccion2021_2017.map(addNDVI).map(addNDWI).map(addNDGI).map(addSAVI).map(addNDSI).map(addDate).map(addCloud)"
   ]
  },
  {
   "cell_type": "code",
   "execution_count": 52,
   "id": "cbb613f8",
   "metadata": {
    "ExecuteTime": {
     "end_time": "2022-01-20T12:56:30.221618Z",
     "start_time": "2022-01-20T12:56:29.025632Z"
    },
    "scrolled": false
   },
   "outputs": [
    {
     "data": {
      "application/vnd.jupyter.widget-view+json": {
       "model_id": "e0d0952b1be34ed789ffd7df0a936591",
       "version_major": 2,
       "version_minor": 0
      },
      "text/plain": [
       "Map(center=[-45, -70], controls=(WidgetControl(options=['position', 'transparent_bg'], widget=HBox(children=(T…"
      ]
     },
     "metadata": {},
     "output_type": "display_data"
    }
   ],
   "source": [
    "Map2.addLayer(l8_summer.median(), vizParams, 'median')\n",
    "Map2 "
   ]
  },
  {
   "cell_type": "markdown",
   "id": "12cf11b9",
   "metadata": {},
   "source": [
    "### Tier 1\n"
   ]
  },
  {
   "cell_type": "code",
   "execution_count": 53,
   "id": "65f6e56e",
   "metadata": {
    "ExecuteTime": {
     "end_time": "2022-01-20T12:56:30.224778Z",
     "start_time": "2022-01-20T12:56:30.222464Z"
    }
   },
   "outputs": [],
   "source": [
    "Tier1_sn = l8_summer.map(Cloud10)"
   ]
  },
  {
   "cell_type": "code",
   "execution_count": 54,
   "id": "61a35ad7",
   "metadata": {
    "ExecuteTime": {
     "end_time": "2022-01-20T12:56:30.228157Z",
     "start_time": "2022-01-20T12:56:30.226102Z"
    }
   },
   "outputs": [],
   "source": [
    "QM_NDVI_T1 = Tier1_sn.qualityMosaic('NDVI')# Normalized difference vegetation Index\n",
    "QM_NDWI_T1 = Tier1_sn.qualityMosaic('NDWI') # Normalize difference water index\n",
    "QM_SAVI_T1 = Tier1_sn.qualityMosaic('SAVI') # Soil Adjusted Vegetation Index \n",
    "QM_NDGI_T1 = Tier1_sn.qualityMosaic('NDGI') # Normalized difference glacier index\n",
    "QM_NDSI_T1 = Tier1_sn.qualityMosaic('NDSI') # Normalized difference snow index"
   ]
  },
  {
   "cell_type": "code",
   "execution_count": 55,
   "id": "416683d4",
   "metadata": {
    "ExecuteTime": {
     "end_time": "2022-01-20T12:56:38.061083Z",
     "start_time": "2022-01-20T12:56:30.229324Z"
    }
   },
   "outputs": [
    {
     "data": {
      "application/vnd.jupyter.widget-view+json": {
       "model_id": "e0d0952b1be34ed789ffd7df0a936591",
       "version_major": 2,
       "version_minor": 0
      },
      "text/plain": [
       "Map(center=[-45, -70], controls=(WidgetControl(options=['position', 'transparent_bg'], widget=HBox(children=(T…"
      ]
     },
     "metadata": {},
     "output_type": "display_data"
    }
   ],
   "source": [
    "Map2.addLayer(QM_NDVI_T1, vizParams, 'QM de NDVI T1')\n",
    "Map2.addLayer(QM_NDWI_T1, vizParams, 'QM de NDWI T1')\n",
    "Map2.addLayer(QM_SAVI_T1, vizParams, 'QM de SAVI T1')\n",
    "Map2.addLayer(QM_NDGI_T1, vis_nieve, 'QM de NDGI T1')\n",
    "Map2.addLayer(QM_NDSI_T1, vizParams, 'QM de NDSI T1')\n",
    "\n",
    "Map2.addLayer(Tier1_sn.median(), vizParams, 'mediana de T1')\n",
    "Map2 "
   ]
  },
  {
   "cell_type": "markdown",
   "id": "5f58151c",
   "metadata": {},
   "source": [
    "### Tier 2"
   ]
  },
  {
   "cell_type": "code",
   "execution_count": 56,
   "id": "3f1efa8c",
   "metadata": {
    "ExecuteTime": {
     "end_time": "2022-01-20T12:56:38.063977Z",
     "start_time": "2022-01-20T12:56:38.061952Z"
    }
   },
   "outputs": [],
   "source": [
    "Tier2_sn = l8_summer.map(Cloud20)"
   ]
  },
  {
   "cell_type": "code",
   "execution_count": 57,
   "id": "888370aa",
   "metadata": {
    "ExecuteTime": {
     "end_time": "2022-01-20T12:56:38.067612Z",
     "start_time": "2022-01-20T12:56:38.064824Z"
    }
   },
   "outputs": [],
   "source": [
    "QM_NDVI_T2 = Tier2_sn.qualityMosaic('NDVI')# Normalized difference vegetation Index\n",
    "QM_NDWI_T2 = Tier2_sn.qualityMosaic('NDWI') # Normalize difference water index\n",
    "QM_SAVI_T2 = Tier2_sn.qualityMosaic('SAVI') # Soil Adjusted Vegetation Index \n",
    "QM_NDGI_T2 = Tier2_sn.qualityMosaic('NDGI') # Normalized difference glacier index\n",
    "QM_NDSI_T2 = Tier2_sn.qualityMosaic('NDSI') # Normalized difference snow index"
   ]
  },
  {
   "cell_type": "code",
   "execution_count": 58,
   "id": "bfe0fd96",
   "metadata": {
    "ExecuteTime": {
     "end_time": "2022-01-20T12:56:38.070272Z",
     "start_time": "2022-01-20T12:56:38.068774Z"
    }
   },
   "outputs": [],
   "source": [
    "# Map2.addLayer(QM_NDVI_T2, vizParams, 'QM de NDVI T2')\n",
    "# Map2.addLayer(QM_NDWI_T2, vizParams, 'QM de NDWI T2')\n",
    "# Map2.addLayer(QM_SAVI_T2, vizParams, 'QM de SAVI T2')\n",
    "# Map2.addLayer(QM_NDGI_T2, vis_nieve, 'QM de NDGI T2')\n",
    "# Map2.addLayer(QM_NDSI_T2, vis_nieve, 'QM de NDSI T2')\n",
    "# Map2 "
   ]
  },
  {
   "cell_type": "markdown",
   "id": "783d2e36",
   "metadata": {},
   "source": [
    "### Tier 3"
   ]
  },
  {
   "cell_type": "code",
   "execution_count": 59,
   "id": "cba970e0",
   "metadata": {
    "ExecuteTime": {
     "end_time": "2022-01-20T12:56:38.072937Z",
     "start_time": "2022-01-20T12:56:38.071193Z"
    }
   },
   "outputs": [],
   "source": [
    "Tier3_sn = l8_summer.map(Cloud30)"
   ]
  },
  {
   "cell_type": "code",
   "execution_count": 60,
   "id": "8a844166",
   "metadata": {
    "ExecuteTime": {
     "end_time": "2022-01-20T12:56:38.076467Z",
     "start_time": "2022-01-20T12:56:38.073942Z"
    }
   },
   "outputs": [],
   "source": [
    "QM_NDVI_T3 = Tier3_sn.qualityMosaic('NDVI')# Normalized difference vegetation Index\n",
    "QM_NDWI_T3 = Tier3_sn.qualityMosaic('NDWI') # Normalize difference water index\n",
    "QM_SAVI_T3 = Tier3_sn.qualityMosaic('SAVI') # Soil Adjusted Vegetation Index \n",
    "QM_NDGI_T3 = Tier3_sn.qualityMosaic('NDGI') # Normalized difference glacier index\n",
    "QM_NDSI_T3 = Tier3_sn.qualityMosaic('NDSI') # Normalized difference snow index"
   ]
  },
  {
   "cell_type": "markdown",
   "id": "b2453291",
   "metadata": {},
   "source": [
    "### Tier 4"
   ]
  },
  {
   "cell_type": "code",
   "execution_count": 61,
   "id": "7a204626",
   "metadata": {
    "ExecuteTime": {
     "end_time": "2022-01-20T12:56:38.078967Z",
     "start_time": "2022-01-20T12:56:38.077182Z"
    }
   },
   "outputs": [],
   "source": [
    "Tier4_sn = l8_summer.map(Cloud40)"
   ]
  },
  {
   "cell_type": "code",
   "execution_count": 62,
   "id": "7339980d",
   "metadata": {
    "ExecuteTime": {
     "end_time": "2022-01-20T12:56:38.081993Z",
     "start_time": "2022-01-20T12:56:38.079935Z"
    }
   },
   "outputs": [],
   "source": [
    "QM_NDVI_T4 = Tier4_sn.qualityMosaic('NDVI')# Normalized difference vegetation Index\n",
    "QM_NDWI_T4 = Tier4_sn.qualityMosaic('NDWI') # Normalize difference water index\n",
    "QM_SAVI_T4 = Tier4_sn.qualityMosaic('SAVI') # Soil Adjusted Vegetation Index \n",
    "QM_NDGI_T4 = Tier4_sn.qualityMosaic('NDGI') # Normalized difference glacier index\n",
    "QM_NDSI_T4 = Tier4_sn.qualityMosaic('NDSI') # Normalized difference snow index"
   ]
  },
  {
   "cell_type": "markdown",
   "id": "094d9e5d",
   "metadata": {},
   "source": [
    "### Img base"
   ]
  },
  {
   "cell_type": "markdown",
   "id": "c8735a0a",
   "metadata": {},
   "source": [
    "##### Muestras de imagenes del mosaico"
   ]
  },
  {
   "cell_type": "code",
   "execution_count": 63,
   "id": "4202edec",
   "metadata": {
    "ExecuteTime": {
     "end_time": "2022-01-20T12:56:38.084992Z",
     "start_time": "2022-01-20T12:56:38.083002Z"
    }
   },
   "outputs": [],
   "source": [
    "start_date = '2020-10-01'\n",
    "end_date = '2021-03-31'\n",
    "imgbase = ee.ImageCollection('LANDSAT/LC08/C01/T1_TOA') \\\n",
    "    .filterBounds(base) \\\n",
    "    .filterDate(start_date, end_date) \\\n",
    "    .sort('CLOUD_COVER') \\\n",
    "    .first() \n"
   ]
  },
  {
   "cell_type": "code",
   "execution_count": 64,
   "id": "05155459",
   "metadata": {
    "ExecuteTime": {
     "end_time": "2022-01-20T12:56:38.528194Z",
     "start_time": "2022-01-20T12:56:38.086106Z"
    },
    "scrolled": true
   },
   "outputs": [
    {
     "data": {
      "text/plain": [
       "['system:version',\n",
       " 'system:id',\n",
       " 'RADIANCE_MULT_BAND_5',\n",
       " 'RADIANCE_MULT_BAND_6',\n",
       " 'RADIANCE_MULT_BAND_3',\n",
       " 'RADIANCE_MULT_BAND_4',\n",
       " 'RADIANCE_MULT_BAND_1',\n",
       " 'RADIANCE_MULT_BAND_2',\n",
       " 'K2_CONSTANT_BAND_11',\n",
       " 'K2_CONSTANT_BAND_10',\n",
       " 'system:footprint',\n",
       " 'REFLECTIVE_SAMPLES',\n",
       " 'SUN_AZIMUTH',\n",
       " 'CPF_NAME',\n",
       " 'DATE_ACQUIRED',\n",
       " 'ELLIPSOID',\n",
       " 'google:registration_offset_x',\n",
       " 'google:registration_offset_y',\n",
       " 'STATION_ID',\n",
       " 'RESAMPLING_OPTION',\n",
       " 'ORIENTATION',\n",
       " 'WRS_ROW',\n",
       " 'RADIANCE_MULT_BAND_9',\n",
       " 'TARGET_WRS_ROW',\n",
       " 'RADIANCE_MULT_BAND_7',\n",
       " 'RADIANCE_MULT_BAND_8',\n",
       " 'IMAGE_QUALITY_TIRS',\n",
       " 'TRUNCATION_OLI',\n",
       " 'CLOUD_COVER',\n",
       " 'GEOMETRIC_RMSE_VERIFY',\n",
       " 'COLLECTION_CATEGORY',\n",
       " 'GRID_CELL_SIZE_REFLECTIVE',\n",
       " 'CLOUD_COVER_LAND',\n",
       " 'GEOMETRIC_RMSE_MODEL',\n",
       " 'COLLECTION_NUMBER',\n",
       " 'IMAGE_QUALITY_OLI',\n",
       " 'LANDSAT_SCENE_ID',\n",
       " 'WRS_PATH',\n",
       " 'google:registration_count',\n",
       " 'PANCHROMATIC_SAMPLES',\n",
       " 'PANCHROMATIC_LINES',\n",
       " 'GEOMETRIC_RMSE_MODEL_Y',\n",
       " 'REFLECTIVE_LINES',\n",
       " 'TIRS_STRAY_LIGHT_CORRECTION_SOURCE',\n",
       " 'GEOMETRIC_RMSE_MODEL_X',\n",
       " 'system:asset_size',\n",
       " 'system:index',\n",
       " 'REFLECTANCE_ADD_BAND_1',\n",
       " 'REFLECTANCE_ADD_BAND_2',\n",
       " 'DATUM',\n",
       " 'REFLECTANCE_ADD_BAND_3',\n",
       " 'REFLECTANCE_ADD_BAND_4',\n",
       " 'REFLECTANCE_ADD_BAND_5',\n",
       " 'REFLECTANCE_ADD_BAND_6',\n",
       " 'REFLECTANCE_ADD_BAND_7',\n",
       " 'REFLECTANCE_ADD_BAND_8',\n",
       " 'BPF_NAME_TIRS',\n",
       " 'GROUND_CONTROL_POINTS_VERSION',\n",
       " 'DATA_TYPE',\n",
       " 'UTM_ZONE',\n",
       " 'system:time_end',\n",
       " 'LANDSAT_PRODUCT_ID',\n",
       " 'REFLECTANCE_ADD_BAND_9',\n",
       " 'google:registration_ratio',\n",
       " 'GRID_CELL_SIZE_PANCHROMATIC',\n",
       " 'RADIANCE_ADD_BAND_4',\n",
       " 'REFLECTANCE_MULT_BAND_7',\n",
       " 'system:time_start',\n",
       " 'RADIANCE_ADD_BAND_5',\n",
       " 'REFLECTANCE_MULT_BAND_6',\n",
       " 'RADIANCE_ADD_BAND_6',\n",
       " 'REFLECTANCE_MULT_BAND_9',\n",
       " 'PROCESSING_SOFTWARE_VERSION',\n",
       " 'RADIANCE_ADD_BAND_7',\n",
       " 'REFLECTANCE_MULT_BAND_8',\n",
       " 'RADIANCE_ADD_BAND_1',\n",
       " 'RADIANCE_ADD_BAND_2',\n",
       " 'RADIANCE_ADD_BAND_3',\n",
       " 'REFLECTANCE_MULT_BAND_1',\n",
       " 'RADIANCE_ADD_BAND_8',\n",
       " 'REFLECTANCE_MULT_BAND_3',\n",
       " 'RADIANCE_ADD_BAND_9',\n",
       " 'REFLECTANCE_MULT_BAND_2',\n",
       " 'REFLECTANCE_MULT_BAND_5',\n",
       " 'REFLECTANCE_MULT_BAND_4',\n",
       " 'THERMAL_LINES',\n",
       " 'TIRS_SSM_POSITION_STATUS',\n",
       " 'GRID_CELL_SIZE_THERMAL',\n",
       " 'NADIR_OFFNADIR',\n",
       " 'RADIANCE_ADD_BAND_11',\n",
       " 'REQUEST_ID',\n",
       " 'EARTH_SUN_DISTANCE',\n",
       " 'TIRS_SSM_MODEL',\n",
       " 'FILE_DATE',\n",
       " 'SCENE_CENTER_TIME',\n",
       " 'SUN_ELEVATION',\n",
       " 'BPF_NAME_OLI',\n",
       " 'RADIANCE_ADD_BAND_10',\n",
       " 'ROLL_ANGLE',\n",
       " 'K1_CONSTANT_BAND_10',\n",
       " 'SATURATION_BAND_1',\n",
       " 'SATURATION_BAND_2',\n",
       " 'SATURATION_BAND_3',\n",
       " 'SATURATION_BAND_4',\n",
       " 'SATURATION_BAND_5',\n",
       " 'MAP_PROJECTION',\n",
       " 'SATURATION_BAND_6',\n",
       " 'SENSOR_ID',\n",
       " 'SATURATION_BAND_7',\n",
       " 'K1_CONSTANT_BAND_11',\n",
       " 'SATURATION_BAND_8',\n",
       " 'SATURATION_BAND_9',\n",
       " 'TARGET_WRS_PATH',\n",
       " 'RADIANCE_MULT_BAND_11',\n",
       " 'RADIANCE_MULT_BAND_10',\n",
       " 'GROUND_CONTROL_POINTS_MODEL',\n",
       " 'SPACECRAFT_ID',\n",
       " 'ELEVATION_SOURCE',\n",
       " 'THERMAL_SAMPLES',\n",
       " 'GROUND_CONTROL_POINTS_VERIFY',\n",
       " 'system:bands',\n",
       " 'system:band_names']"
      ]
     },
     "execution_count": 64,
     "metadata": {},
     "output_type": "execute_result"
    }
   ],
   "source": [
    "imgbase.propertyNames().getInfo()"
   ]
  },
  {
   "cell_type": "code",
   "execution_count": 65,
   "id": "01e09fbd",
   "metadata": {
    "ExecuteTime": {
     "end_time": "2022-01-20T12:56:38.530865Z",
     "start_time": "2022-01-20T12:56:38.529233Z"
    }
   },
   "outputs": [],
   "source": [
    "# imgbase.get('LANDSAT_PRODUCT_ID').getInfo()"
   ]
  },
  {
   "cell_type": "code",
   "execution_count": 66,
   "id": "5d142772",
   "metadata": {
    "ExecuteTime": {
     "end_time": "2022-01-20T12:56:38.533419Z",
     "start_time": "2022-01-20T12:56:38.531939Z"
    }
   },
   "outputs": [],
   "source": [
    "# imgbase.get('system:time_start').getInfo()"
   ]
  },
  {
   "cell_type": "code",
   "execution_count": 67,
   "id": "e5bfe513",
   "metadata": {
    "ExecuteTime": {
     "end_time": "2022-01-20T12:56:38.910461Z",
     "start_time": "2022-01-20T12:56:38.534569Z"
    }
   },
   "outputs": [
    {
     "data": {
      "text/plain": [
       "'WGS84'"
      ]
     },
     "execution_count": 67,
     "metadata": {},
     "output_type": "execute_result"
    }
   ],
   "source": [
    "imgbase.get('DATUM').getInfo()"
   ]
  },
  {
   "cell_type": "code",
   "execution_count": 68,
   "id": "f62917d7",
   "metadata": {
    "ExecuteTime": {
     "end_time": "2022-01-20T12:56:39.421103Z",
     "start_time": "2022-01-20T12:56:38.911584Z"
    }
   },
   "outputs": [
    {
     "data": {
      "text/plain": [
       "'WGS84'"
      ]
     },
     "execution_count": 68,
     "metadata": {},
     "output_type": "execute_result"
    }
   ],
   "source": [
    "imgbase.get('ELLIPSOID').getInfo()"
   ]
  },
  {
   "cell_type": "code",
   "execution_count": 69,
   "id": "10196aa5",
   "metadata": {
    "ExecuteTime": {
     "end_time": "2022-01-20T12:56:39.742963Z",
     "start_time": "2022-01-20T12:56:39.422006Z"
    }
   },
   "outputs": [
    {
     "data": {
      "text/plain": [
       "'UTM'"
      ]
     },
     "execution_count": 69,
     "metadata": {},
     "output_type": "execute_result"
    }
   ],
   "source": [
    "imgbase.get('MAP_PROJECTION').getInfo()"
   ]
  },
  {
   "cell_type": "code",
   "execution_count": 70,
   "id": "c46c1df8",
   "metadata": {
    "ExecuteTime": {
     "end_time": "2022-01-20T12:56:40.496641Z",
     "start_time": "2022-01-20T12:56:39.743927Z"
    }
   },
   "outputs": [
    {
     "data": {
      "text/plain": [
       "19"
      ]
     },
     "execution_count": 70,
     "metadata": {},
     "output_type": "execute_result"
    }
   ],
   "source": [
    "imgbase.get('UTM_ZONE').getInfo()"
   ]
  },
  {
   "cell_type": "code",
   "execution_count": 71,
   "id": "082be07e",
   "metadata": {
    "ExecuteTime": {
     "end_time": "2022-01-20T12:56:40.800556Z",
     "start_time": "2022-01-20T12:56:40.497632Z"
    }
   },
   "outputs": [
    {
     "name": "stdout",
     "output_type": "stream",
     "text": [
      "{'type': 'Projection', 'crs': 'EPSG:32619', 'transform': [30, 0, 214185, 0, -30, -4825185]}\n"
     ]
    }
   ],
   "source": [
    "print(imgbase.select(\"B2\").projection().getInfo())"
   ]
  },
  {
   "cell_type": "code",
   "execution_count": 72,
   "id": "3b8e5716",
   "metadata": {
    "ExecuteTime": {
     "end_time": "2022-01-20T12:56:40.803536Z",
     "start_time": "2022-01-20T12:56:40.801551Z"
    }
   },
   "outputs": [],
   "source": [
    "# print(imgbase.projection())"
   ]
  },
  {
   "cell_type": "code",
   "execution_count": 73,
   "id": "6d01d09a",
   "metadata": {
    "ExecuteTime": {
     "end_time": "2022-01-20T12:56:40.806243Z",
     "start_time": "2022-01-20T12:56:40.804260Z"
    }
   },
   "outputs": [],
   "source": [
    "# time_start = imgbase.get('system:time_start')"
   ]
  },
  {
   "cell_type": "code",
   "execution_count": 74,
   "id": "5fb26496",
   "metadata": {
    "ExecuteTime": {
     "end_time": "2022-01-20T12:56:40.809020Z",
     "start_time": "2022-01-20T12:56:40.807378Z"
    }
   },
   "outputs": [],
   "source": [
    "imgbase = ee.Image('LANDSAT/LC08/C01/T1_TOA/LC08_231091_20210130')"
   ]
  },
  {
   "cell_type": "code",
   "execution_count": 75,
   "id": "5a136189",
   "metadata": {
    "ExecuteTime": {
     "end_time": "2022-01-20T12:56:41.371759Z",
     "start_time": "2022-01-20T12:56:40.810179Z"
    }
   },
   "outputs": [],
   "source": [
    "base_pro = imgbase.select('B4').projection().getInfo()"
   ]
  },
  {
   "cell_type": "code",
   "execution_count": 76,
   "id": "693f233e",
   "metadata": {
    "ExecuteTime": {
     "end_time": "2022-01-20T12:56:41.374993Z",
     "start_time": "2022-01-20T12:56:41.372834Z"
    }
   },
   "outputs": [
    {
     "name": "stdout",
     "output_type": "stream",
     "text": [
      "{'type': 'Projection', 'crs': 'EPSG:32619', 'transform': [30, 0, 214185, 0, -30, -4825185]}\n"
     ]
    }
   ],
   "source": [
    "print(base_pro)"
   ]
  },
  {
   "cell_type": "code",
   "execution_count": 77,
   "id": "1c65268b",
   "metadata": {
    "ExecuteTime": {
     "end_time": "2022-01-20T12:56:41.377609Z",
     "start_time": "2022-01-20T12:56:41.376146Z"
    }
   },
   "outputs": [],
   "source": [
    "# Map1.addLayer(imgbase, vizParams, 'img base')\n",
    "# Map1.addLayer(geometria_base2)\n",
    "# Map1"
   ]
  },
  {
   "cell_type": "code",
   "execution_count": 78,
   "id": "8cc90996",
   "metadata": {
    "ExecuteTime": {
     "end_time": "2022-01-20T12:56:41.380119Z",
     "start_time": "2022-01-20T12:56:41.378714Z"
    }
   },
   "outputs": [],
   "source": [
    "# reproj= imgbase \\\n",
    "#     .reproject(crs='EPSG:3857',scale = 30)\\\n",
    "#     .reduceResolution(reducer= ee.Reducer.mean(),bestEffort=True, maxPixels = 65536)"
   ]
  },
  {
   "cell_type": "code",
   "execution_count": 79,
   "id": "0996d02f",
   "metadata": {
    "ExecuteTime": {
     "end_time": "2022-01-20T12:56:41.382707Z",
     "start_time": "2022-01-20T12:56:41.381224Z"
    }
   },
   "outputs": [],
   "source": [
    "# resampled = imgbase.resample('bicubic')"
   ]
  },
  {
   "cell_type": "code",
   "execution_count": 80,
   "id": "4bb96647",
   "metadata": {
    "ExecuteTime": {
     "end_time": "2022-01-20T12:56:41.385726Z",
     "start_time": "2022-01-20T12:56:41.383849Z"
    }
   },
   "outputs": [],
   "source": [
    "# landsat_pro = resampled.select('B4').projection().getInfo()"
   ]
  },
  {
   "cell_type": "code",
   "execution_count": 81,
   "id": "9e964413",
   "metadata": {
    "ExecuteTime": {
     "end_time": "2022-01-20T12:56:41.388214Z",
     "start_time": "2022-01-20T12:56:41.386689Z"
    }
   },
   "outputs": [],
   "source": [
    "# escala = resampled.select('B4').projection().nominalScale().getInfo()"
   ]
  },
  {
   "cell_type": "code",
   "execution_count": 82,
   "id": "fccfa3ef",
   "metadata": {
    "ExecuteTime": {
     "end_time": "2022-01-20T12:56:41.396442Z",
     "start_time": "2022-01-20T12:56:41.394420Z"
    }
   },
   "outputs": [],
   "source": [
    "# print(landsat_pro)"
   ]
  },
  {
   "cell_type": "code",
   "execution_count": 83,
   "id": "11826e85",
   "metadata": {
    "ExecuteTime": {
     "end_time": "2022-01-20T12:56:41.398750Z",
     "start_time": "2022-01-20T12:56:41.397242Z"
    }
   },
   "outputs": [],
   "source": [
    "# print(escala)"
   ]
  },
  {
   "cell_type": "code",
   "execution_count": 84,
   "id": "fca393f0",
   "metadata": {
    "ExecuteTime": {
     "end_time": "2022-01-20T12:56:41.401355Z",
     "start_time": "2022-01-20T12:56:41.399910Z"
    }
   },
   "outputs": [],
   "source": [
    "# print(imgbase.projection())"
   ]
  },
  {
   "cell_type": "code",
   "execution_count": 85,
   "id": "e3b8043e",
   "metadata": {
    "ExecuteTime": {
     "end_time": "2022-01-20T12:56:41.686002Z",
     "start_time": "2022-01-20T12:56:41.402481Z"
    }
   },
   "outputs": [
    {
     "data": {
      "text/plain": [
       "'UTM'"
      ]
     },
     "execution_count": 85,
     "metadata": {},
     "output_type": "execute_result"
    }
   ],
   "source": [
    "imgbase.get('MAP_PROJECTION').getInfo()"
   ]
  },
  {
   "cell_type": "code",
   "execution_count": 86,
   "id": "e6579f0c",
   "metadata": {
    "ExecuteTime": {
     "end_time": "2022-01-20T12:56:41.689034Z",
     "start_time": "2022-01-20T12:56:41.686941Z"
    }
   },
   "outputs": [],
   "source": [
    "start_date = '2020-10-01'\n",
    "end_date = '2021-03-31'\n",
    "imgbase2 = ee.ImageCollection('LANDSAT/LC08/C01/T1_TOA') \\\n",
    "    .filter(ee.Filter.eq('WRS_PATH', 230)) \\\n",
    "    .filter(ee.Filter.eq('WRS_ROW', 91)) \\\n",
    "    .filterDate(start_date, end_date) "
   ]
  },
  {
   "cell_type": "code",
   "execution_count": 87,
   "id": "a7e5933f",
   "metadata": {
    "ExecuteTime": {
     "end_time": "2022-01-20T12:56:41.692334Z",
     "start_time": "2022-01-20T12:56:41.689875Z"
    }
   },
   "outputs": [],
   "source": [
    "imgbase2 = find_closest(imgbase, imgbase2,14).sort('CLOUD_COVER').first()\n",
    "imgbase2 = ee.Image(imgbase2)"
   ]
  },
  {
   "cell_type": "code",
   "execution_count": 88,
   "id": "28f16564",
   "metadata": {
    "ExecuteTime": {
     "end_time": "2022-01-20T12:56:42.259039Z",
     "start_time": "2022-01-20T12:56:41.693362Z"
    }
   },
   "outputs": [
    {
     "name": "stdout",
     "output_type": "stream",
     "text": [
      "{'type': 'Projection', 'crs': 'EPSG:32619', 'transform': [30, 0, 335085, 0, -30, -4821885]}\n"
     ]
    }
   ],
   "source": [
    "print(imgbase2.select(\"B2\").projection().getInfo())"
   ]
  },
  {
   "cell_type": "code",
   "execution_count": 89,
   "id": "c646d7e2",
   "metadata": {
    "ExecuteTime": {
     "end_time": "2022-01-20T12:56:42.261902Z",
     "start_time": "2022-01-20T12:56:42.260065Z"
    }
   },
   "outputs": [],
   "source": [
    "# reproj2= imgbase2 \\\n",
    "#     .reproject(crs='EPSG:4326',crsTransform= [0.00025, 0, -180, 0, -0.00025, 80])"
   ]
  },
  {
   "cell_type": "code",
   "execution_count": 90,
   "id": "596b0a0b",
   "metadata": {
    "ExecuteTime": {
     "end_time": "2022-01-20T12:56:42.264295Z",
     "start_time": "2022-01-20T12:56:42.262971Z"
    }
   },
   "outputs": [],
   "source": [
    "# Map1.addLayer(imgbase2, vizParams, 'img base2')\n",
    "# Map1"
   ]
  },
  {
   "cell_type": "code",
   "execution_count": 91,
   "id": "d77a3cd7",
   "metadata": {
    "ExecuteTime": {
     "end_time": "2022-01-20T12:56:42.267663Z",
     "start_time": "2022-01-20T12:56:42.265482Z"
    }
   },
   "outputs": [],
   "source": [
    "start_date = '2020-10-01'\n",
    "end_date = '2021-03-31'\n",
    "imgbase3 = ee.ImageCollection('LANDSAT/LC08/C01/T1_TOA') \\\n",
    "    .filter(ee.Filter.eq('WRS_PATH', 229)) \\\n",
    "    .filter(ee.Filter.eq('WRS_ROW', 91)) \\\n",
    "    .filterDate(start_date, end_date) "
   ]
  },
  {
   "cell_type": "code",
   "execution_count": 92,
   "id": "3d44c9fc",
   "metadata": {
    "ExecuteTime": {
     "end_time": "2022-01-20T12:56:42.270720Z",
     "start_time": "2022-01-20T12:56:42.268804Z"
    }
   },
   "outputs": [],
   "source": [
    "imgbase3 = find_closest(imgbase2, imgbase3,21).sort('CLOUD_COVER').first()\n",
    "imgbase3 = ee.Image(imgbase3)"
   ]
  },
  {
   "cell_type": "code",
   "execution_count": 93,
   "id": "40df32d8",
   "metadata": {
    "ExecuteTime": {
     "end_time": "2022-01-20T12:56:42.658712Z",
     "start_time": "2022-01-20T12:56:42.271736Z"
    }
   },
   "outputs": [
    {
     "name": "stdout",
     "output_type": "stream",
     "text": [
      "{'type': 'Projection', 'crs': 'EPSG:32619', 'transform': [30, 0, 456585, 0, -30, -4820685]}\n"
     ]
    }
   ],
   "source": [
    "print(imgbase3.select(\"B2\").projection().getInfo())"
   ]
  },
  {
   "cell_type": "code",
   "execution_count": 94,
   "id": "23050d6f",
   "metadata": {
    "ExecuteTime": {
     "end_time": "2022-01-20T12:56:42.661705Z",
     "start_time": "2022-01-20T12:56:42.659734Z"
    }
   },
   "outputs": [],
   "source": [
    "# reproj3= imgbase3 \\\n",
    "#     .reproject(crs='EPSG:4326',crsTransform= [0.00025, 0, -180, 0, -0.00025, 80])"
   ]
  },
  {
   "cell_type": "code",
   "execution_count": 95,
   "id": "954b5ed0",
   "metadata": {
    "ExecuteTime": {
     "end_time": "2022-01-20T12:56:42.664795Z",
     "start_time": "2022-01-20T12:56:42.662750Z"
    }
   },
   "outputs": [],
   "source": [
    "# Map1.addLayer(imgbase3, vizParams, 'img base3')\n",
    "# Map1"
   ]
  },
  {
   "cell_type": "code",
   "execution_count": 96,
   "id": "f4b197cf",
   "metadata": {
    "ExecuteTime": {
     "end_time": "2022-01-20T12:56:42.667897Z",
     "start_time": "2022-01-20T12:56:42.665799Z"
    }
   },
   "outputs": [],
   "source": [
    "start_date = '2020-10-01'\n",
    "end_date = '2021-03-31'\n",
    "imgbase4 = ee.ImageCollection('LANDSAT/LC08/C01/T1_TOA') \\\n",
    "    .filter(ee.Filter.eq('WRS_PATH', 228)) \\\n",
    "    .filter(ee.Filter.eq('WRS_ROW', 91)) \\\n",
    "    .filterDate(start_date, end_date) "
   ]
  },
  {
   "cell_type": "code",
   "execution_count": 97,
   "id": "af926cee",
   "metadata": {
    "ExecuteTime": {
     "end_time": "2022-01-20T12:56:42.670807Z",
     "start_time": "2022-01-20T12:56:42.668983Z"
    }
   },
   "outputs": [],
   "source": [
    "imgbase4 = find_closest(imgbase3, imgbase4,14).sort('CLOUD_COVER').first()\n",
    "imgbase4 = ee.Image(imgbase4)"
   ]
  },
  {
   "cell_type": "code",
   "execution_count": 98,
   "id": "b306fa69",
   "metadata": {
    "ExecuteTime": {
     "end_time": "2022-01-20T12:56:43.372732Z",
     "start_time": "2022-01-20T12:56:42.671952Z"
    }
   },
   "outputs": [
    {
     "name": "stdout",
     "output_type": "stream",
     "text": [
      "{'type': 'Projection', 'crs': 'EPSG:32619', 'transform': [30, 0, 577785, 0, -30, -4821885]}\n"
     ]
    }
   ],
   "source": [
    "print(imgbase4.select(\"B2\").projection().getInfo())"
   ]
  },
  {
   "cell_type": "code",
   "execution_count": 99,
   "id": "e00c13e2",
   "metadata": {
    "ExecuteTime": {
     "end_time": "2022-01-20T12:56:43.375734Z",
     "start_time": "2022-01-20T12:56:43.373870Z"
    }
   },
   "outputs": [],
   "source": [
    "# reproj4= imgbase4 \\\n",
    "#     .reproject(crs='EPSG:4326',crsTransform= [0.00025, 0, -180, 0, -0.00025, 80])"
   ]
  },
  {
   "cell_type": "code",
   "execution_count": 100,
   "id": "ecc2e9e6",
   "metadata": {
    "ExecuteTime": {
     "end_time": "2022-01-20T12:56:43.378432Z",
     "start_time": "2022-01-20T12:56:43.377009Z"
    }
   },
   "outputs": [],
   "source": [
    "# Map1.addLayer(imgbase4, vizParams, 'img base4')\n",
    "# Map1"
   ]
  },
  {
   "cell_type": "code",
   "execution_count": 101,
   "id": "e305e5b4",
   "metadata": {
    "ExecuteTime": {
     "end_time": "2022-01-20T12:56:43.381746Z",
     "start_time": "2022-01-20T12:56:43.379583Z"
    }
   },
   "outputs": [],
   "source": [
    "start_date = '2020-10-01'\n",
    "end_date = '2021-03-31'\n",
    "imgbase5 = ee.ImageCollection('LANDSAT/LC08/C01/T1_TOA') \\\n",
    "    .filter(ee.Filter.eq('WRS_PATH', 232)) \\\n",
    "    .filter(ee.Filter.eq('WRS_ROW', 91)) \\\n",
    "    .filterDate(start_date, end_date) "
   ]
  },
  {
   "cell_type": "code",
   "execution_count": 102,
   "id": "e76971d2",
   "metadata": {
    "ExecuteTime": {
     "end_time": "2022-01-20T12:56:43.384938Z",
     "start_time": "2022-01-20T12:56:43.382867Z"
    }
   },
   "outputs": [],
   "source": [
    "imgbase5 = find_closest(imgbase, imgbase5,28).sort('CLOUD_COVER').first()\n",
    "imgbase5 = ee.Image(imgbase5)"
   ]
  },
  {
   "cell_type": "code",
   "execution_count": 103,
   "id": "b41cdef9",
   "metadata": {
    "ExecuteTime": {
     "end_time": "2022-01-20T12:56:43.775727Z",
     "start_time": "2022-01-20T12:56:43.386061Z"
    }
   },
   "outputs": [
    {
     "name": "stdout",
     "output_type": "stream",
     "text": [
      "{'type': 'Projection', 'crs': 'EPSG:32618', 'transform': [30, 0, 562785, 0, -30, -4821885]}\n"
     ]
    }
   ],
   "source": [
    "print(imgbase5.select(\"B2\").projection().getInfo())"
   ]
  },
  {
   "cell_type": "code",
   "execution_count": 104,
   "id": "daaac0ef",
   "metadata": {
    "ExecuteTime": {
     "end_time": "2022-01-20T12:56:43.778725Z",
     "start_time": "2022-01-20T12:56:43.776821Z"
    }
   },
   "outputs": [],
   "source": [
    "# reproj5= imgbase5 \\\n",
    "#     .reproject(crs='EPSG:4326',crsTransform= [0.00025, 0, -180, 0, -0.00025, 80])"
   ]
  },
  {
   "cell_type": "code",
   "execution_count": 105,
   "id": "ee78b984",
   "metadata": {
    "ExecuteTime": {
     "end_time": "2022-01-20T12:56:43.782643Z",
     "start_time": "2022-01-20T12:56:43.779650Z"
    }
   },
   "outputs": [],
   "source": [
    "# Map1.addLayer(imgbase5, vizParams, 'img base5')\n",
    "# Map1"
   ]
  },
  {
   "cell_type": "code",
   "execution_count": 106,
   "id": "cb677c38",
   "metadata": {
    "ExecuteTime": {
     "end_time": "2022-01-20T12:56:43.786354Z",
     "start_time": "2022-01-20T12:56:43.783711Z"
    }
   },
   "outputs": [],
   "source": [
    "start_date = '2020-10-01'\n",
    "end_date = '2021-03-31'\n",
    "imgbase6 = ee.ImageCollection('LANDSAT/LC08/C01/T1_TOA') \\\n",
    "    .filter(ee.Filter.eq('WRS_PATH', 233)) \\\n",
    "    .filter(ee.Filter.eq('WRS_ROW', 91)) \\\n",
    "    .filterDate(start_date, end_date) "
   ]
  },
  {
   "cell_type": "code",
   "execution_count": 107,
   "id": "a2772ed4",
   "metadata": {
    "ExecuteTime": {
     "end_time": "2022-01-20T12:56:43.789645Z",
     "start_time": "2022-01-20T12:56:43.787232Z"
    }
   },
   "outputs": [],
   "source": [
    "imgbase6 = find_closest(imgbase5, imgbase6,360).sort('CLOUD_COVER').first()\n",
    "imgbase6 = ee.Image(imgbase6)"
   ]
  },
  {
   "cell_type": "code",
   "execution_count": 108,
   "id": "9e2c0c8c",
   "metadata": {
    "ExecuteTime": {
     "end_time": "2022-01-20T12:56:44.189191Z",
     "start_time": "2022-01-20T12:56:43.790548Z"
    }
   },
   "outputs": [
    {
     "name": "stdout",
     "output_type": "stream",
     "text": [
      "{'type': 'Projection', 'crs': 'EPSG:32618', 'transform': [30, 0, 443985, 0, -30, -4820685]}\n"
     ]
    }
   ],
   "source": [
    "print(imgbase6.select(\"B2\").projection().getInfo())"
   ]
  },
  {
   "cell_type": "code",
   "execution_count": 109,
   "id": "075deb32",
   "metadata": {
    "ExecuteTime": {
     "end_time": "2022-01-20T12:56:44.192077Z",
     "start_time": "2022-01-20T12:56:44.190250Z"
    }
   },
   "outputs": [],
   "source": [
    "# reproj6= imgbase6 \\\n",
    "#     .reproject(crs='EPSG:4326',crsTransform= [0.00025, 0, -180, 0, -0.00025, 80])"
   ]
  },
  {
   "cell_type": "code",
   "execution_count": 110,
   "id": "489f204a",
   "metadata": {
    "ExecuteTime": {
     "end_time": "2022-01-20T12:56:44.195111Z",
     "start_time": "2022-01-20T12:56:44.193245Z"
    }
   },
   "outputs": [],
   "source": [
    "# Map1.addLayer(imgbase6, vizParams, 'img base6')\n",
    "# Map1"
   ]
  },
  {
   "cell_type": "code",
   "execution_count": 111,
   "id": "9d3185e1",
   "metadata": {
    "ExecuteTime": {
     "end_time": "2022-01-20T12:56:44.197550Z",
     "start_time": "2022-01-20T12:56:44.195924Z"
    }
   },
   "outputs": [],
   "source": [
    "# imgbase2.get('UTM_ZONE').getInfo()"
   ]
  },
  {
   "cell_type": "code",
   "execution_count": 112,
   "id": "9110a69a",
   "metadata": {
    "ExecuteTime": {
     "end_time": "2022-01-20T12:56:44.200613Z",
     "start_time": "2022-01-20T12:56:44.198591Z"
    }
   },
   "outputs": [],
   "source": [
    "# imgbase3.get('UTM_ZONE').getInfo()"
   ]
  },
  {
   "cell_type": "code",
   "execution_count": 113,
   "id": "22bbc7e9",
   "metadata": {
    "ExecuteTime": {
     "end_time": "2022-01-20T12:56:44.202929Z",
     "start_time": "2022-01-20T12:56:44.201482Z"
    }
   },
   "outputs": [],
   "source": [
    "# imgbase4.get('UTM_ZONE').getInfo()"
   ]
  },
  {
   "cell_type": "code",
   "execution_count": 114,
   "id": "25d8cfe0",
   "metadata": {
    "ExecuteTime": {
     "end_time": "2022-01-20T12:56:44.205929Z",
     "start_time": "2022-01-20T12:56:44.203963Z"
    }
   },
   "outputs": [],
   "source": [
    "# imgbase5.get('UTM_ZONE').getInfo()"
   ]
  },
  {
   "cell_type": "code",
   "execution_count": 115,
   "id": "abc6e09e",
   "metadata": {
    "ExecuteTime": {
     "end_time": "2022-01-20T12:56:44.208527Z",
     "start_time": "2022-01-20T12:56:44.206792Z"
    }
   },
   "outputs": [],
   "source": [
    "# imgbase6.get('UTM_ZONE').getInfo()"
   ]
  },
  {
   "cell_type": "code",
   "execution_count": 116,
   "id": "0b719c95",
   "metadata": {
    "ExecuteTime": {
     "end_time": "2022-01-20T12:56:44.211170Z",
     "start_time": "2022-01-20T12:56:44.209358Z"
    }
   },
   "outputs": [],
   "source": [
    "# imgbase = addNDVI(imgbase)\n",
    "# imgbase2 = addNDVI(imgbase2)\n",
    "# imgbase3 = addNDVI(imgbase3)\n",
    "# imgbase4 = addNDVI(imgbase4)\n",
    "# imgbase5 = addNDVI(imgbase5)\n",
    "# imgbase6 = addNDVI(imgbase6)"
   ]
  },
  {
   "cell_type": "code",
   "execution_count": 117,
   "id": "c0072a07",
   "metadata": {
    "ExecuteTime": {
     "end_time": "2022-01-20T12:56:44.213427Z",
     "start_time": "2022-01-20T12:56:44.212027Z"
    }
   },
   "outputs": [],
   "source": [
    "# imgbase = addNDWI(imgbase)\n",
    "# imgbase2 = addNDWI(imgbase2)\n",
    "# imgbase3 = addNDWI(imgbase3)\n",
    "# imgbase4 = addNDWI(imgbase4)\n",
    "# imgbase5 = addNDWI(imgbase5)\n",
    "# imgbase6 = addNDWI(imgbase6)"
   ]
  },
  {
   "cell_type": "code",
   "execution_count": 118,
   "id": "8865875d",
   "metadata": {
    "ExecuteTime": {
     "end_time": "2022-01-20T12:56:44.216016Z",
     "start_time": "2022-01-20T12:56:44.214547Z"
    }
   },
   "outputs": [],
   "source": [
    "# imgbase = addNDGI(imgbase)\n",
    "# imgbase2 = addNDGI(imgbase2)\n",
    "# imgbase3 = addNDGI(imgbase3)\n",
    "# imgbase4 = addNDGI(imgbase4)\n",
    "# imgbase5 = addNDGI(imgbase5)\n",
    "# imgbase6 = addNDGI(imgbase6)"
   ]
  },
  {
   "cell_type": "code",
   "execution_count": 119,
   "id": "0aa70e71",
   "metadata": {
    "ExecuteTime": {
     "end_time": "2022-01-20T12:56:44.218339Z",
     "start_time": "2022-01-20T12:56:44.216899Z"
    }
   },
   "outputs": [],
   "source": [
    "# imgbase = addSAVI(imgbase)\n",
    "# imgbase2 = addSAVI(imgbase2)\n",
    "# imgbase3 = addSAVI(imgbase3)\n",
    "# imgbase4 = addSAVI(imgbase4)\n",
    "# imgbase5 = addSAVI(imgbase5)\n",
    "# imgbase6 = addSAVI(imgbase6)"
   ]
  },
  {
   "cell_type": "code",
   "execution_count": 120,
   "id": "38e741d2",
   "metadata": {
    "ExecuteTime": {
     "end_time": "2022-01-20T12:56:44.220883Z",
     "start_time": "2022-01-20T12:56:44.219367Z"
    }
   },
   "outputs": [],
   "source": [
    "# imgbase = addNDSI(imgbase)\n",
    "# imgbase2 = addNDSI(imgbase2)\n",
    "# imgbase3 = addNDSI(imgbase3)\n",
    "# imgbase4 = addNDSI(imgbase4)\n",
    "# imgbase5 = addNDSI(imgbase5)\n",
    "# imgbase6 = addNDSI(imgbase6)"
   ]
  },
  {
   "cell_type": "code",
   "execution_count": 121,
   "id": "995744da",
   "metadata": {
    "ExecuteTime": {
     "end_time": "2022-01-20T12:56:44.223438Z",
     "start_time": "2022-01-20T12:56:44.221832Z"
    }
   },
   "outputs": [],
   "source": [
    "# imgbase = addDate(imgbase)\n",
    "# imgbase2 = addDate(imgbase2)\n",
    "# imgbase3 = addDate(imgbase3)\n",
    "# imgbase4 = addDate(imgbase4)\n",
    "# imgbase5 = addDate(imgbase5)\n",
    "# imgbase6 = addDate(imgbase6)"
   ]
  },
  {
   "cell_type": "code",
   "execution_count": 122,
   "id": "85657b4b",
   "metadata": {
    "ExecuteTime": {
     "end_time": "2022-01-20T12:56:44.225956Z",
     "start_time": "2022-01-20T12:56:44.224440Z"
    }
   },
   "outputs": [],
   "source": [
    "# imgbase = addCloud(imgbase)\n",
    "# imgbase2 = addCloud(imgbase2)\n",
    "# imgbase3 = addCloud(imgbase3)\n",
    "# imgbase4 = addCloud(imgbase4)\n",
    "# imgbase5 = addCloud(imgbase5)\n",
    "# imgbase6 = addCloud(imgbase6)"
   ]
  },
  {
   "cell_type": "code",
   "execution_count": 123,
   "id": "1c7f97bf",
   "metadata": {
    "ExecuteTime": {
     "end_time": "2022-01-20T12:56:44.228963Z",
     "start_time": "2022-01-20T12:56:44.226883Z"
    }
   },
   "outputs": [],
   "source": [
    "# imgbase.get('DATE_ACQUIRED').getInfo()"
   ]
  },
  {
   "cell_type": "code",
   "execution_count": 124,
   "id": "8b81a7a1",
   "metadata": {
    "ExecuteTime": {
     "end_time": "2022-01-20T12:56:44.232026Z",
     "start_time": "2022-01-20T12:56:44.229855Z"
    }
   },
   "outputs": [],
   "source": [
    "# imgbase2.get('DATE_ACQUIRED').getInfo()"
   ]
  },
  {
   "cell_type": "code",
   "execution_count": 125,
   "id": "ba5e16fa",
   "metadata": {
    "ExecuteTime": {
     "end_time": "2022-01-20T12:56:44.234347Z",
     "start_time": "2022-01-20T12:56:44.232890Z"
    }
   },
   "outputs": [],
   "source": [
    "# imgbase3.get('DATE_ACQUIRED').getInfo()"
   ]
  },
  {
   "cell_type": "code",
   "execution_count": 126,
   "id": "5d4829ff",
   "metadata": {
    "ExecuteTime": {
     "end_time": "2022-01-20T12:56:44.236746Z",
     "start_time": "2022-01-20T12:56:44.235298Z"
    }
   },
   "outputs": [],
   "source": [
    "# imgbase4.get('DATE_ACQUIRED').getInfo()"
   ]
  },
  {
   "cell_type": "code",
   "execution_count": 127,
   "id": "dfb567b7",
   "metadata": {
    "ExecuteTime": {
     "end_time": "2022-01-20T12:56:44.239747Z",
     "start_time": "2022-01-20T12:56:44.237843Z"
    }
   },
   "outputs": [],
   "source": [
    "# imgbase5.get('DATE_ACQUIRED').getInfo()"
   ]
  },
  {
   "cell_type": "code",
   "execution_count": 128,
   "id": "144e07cd",
   "metadata": {
    "ExecuteTime": {
     "end_time": "2022-01-20T12:56:44.242764Z",
     "start_time": "2022-01-20T12:56:44.240605Z"
    }
   },
   "outputs": [],
   "source": [
    "# imgbase6.get('DATE_ACQUIRED').getInfo()"
   ]
  },
  {
   "cell_type": "code",
   "execution_count": 129,
   "id": "75a6a249",
   "metadata": {
    "ExecuteTime": {
     "end_time": "2022-01-20T12:56:44.246355Z",
     "start_time": "2022-01-20T12:56:44.243639Z"
    }
   },
   "outputs": [],
   "source": [
    "imgbase_bandas = imgbase.select(['B1','B2','B3','B4','B5','B6','B7'])\n",
    "imgbase_bandas2 = imgbase2.select(['B1','B2','B3','B4','B5','B6','B7'])\n",
    "imgbase_bandas3 = imgbase3.select(['B1','B2','B3','B4','B5','B6','B7'])\n",
    "imgbase_bandas4 = imgbase4.select(['B1','B2','B3','B4','B5','B6','B7'])\n",
    "imgbase_bandas5 = imgbase5.select(['B1','B2','B3','B4','B5','B6','B7'])\n",
    "imgbase_bandas6 = imgbase6.select(['B1','B2','B3','B4','B5','B6','B7'])"
   ]
  },
  {
   "cell_type": "code",
   "execution_count": 130,
   "id": "20da5ec9",
   "metadata": {
    "ExecuteTime": {
     "end_time": "2022-01-20T12:56:45.127452Z",
     "start_time": "2022-01-20T12:56:44.247280Z"
    }
   },
   "outputs": [],
   "source": [
    "work_dir = os.path.expanduser('../../../Data/shapes/')\n",
    "geom1 = os.path.join(work_dir, 'geom_1.shp')\n",
    "geom1 = geemap.shp_to_ee(geom1)\n",
    "geom2 = os.path.join(work_dir, 'geom_2.shp')\n",
    "geom2 = geemap.shp_to_ee(geom2)\n",
    "geom3 = os.path.join(work_dir, 'geom_3.shp')\n",
    "geom3 = geemap.shp_to_ee(geom3)"
   ]
  },
  {
   "cell_type": "code",
   "execution_count": 131,
   "id": "650aeeba",
   "metadata": {
    "ExecuteTime": {
     "end_time": "2022-01-20T12:56:45.130446Z",
     "start_time": "2022-01-20T12:56:45.128519Z"
    }
   },
   "outputs": [],
   "source": [
    "colec_base = ee.ImageCollection([imgbase_bandas,imgbase_bandas2,imgbase_bandas3,imgbase_bandas4,imgbase_bandas5,imgbase_bandas6]).mosaic()"
   ]
  },
  {
   "cell_type": "code",
   "execution_count": 132,
   "id": "f65341ee",
   "metadata": {
    "ExecuteTime": {
     "end_time": "2022-01-20T12:56:45.132916Z",
     "start_time": "2022-01-20T12:56:45.131575Z"
    }
   },
   "outputs": [],
   "source": [
    "# colec_base_r = ee.ImageCollection([reproj,reproj2,reproj3,reproj4,reproj5,reproj6]).mosaic()"
   ]
  },
  {
   "cell_type": "code",
   "execution_count": 133,
   "id": "264778eb",
   "metadata": {
    "ExecuteTime": {
     "end_time": "2022-01-20T12:56:45.136117Z",
     "start_time": "2022-01-20T12:56:45.134034Z"
    }
   },
   "outputs": [],
   "source": [
    "c1 = colec_base.clip(geom1)\n",
    "c2 = colec_base.clip(geom2)\n",
    "c3 = colec_base.clip(geom3)"
   ]
  },
  {
   "cell_type": "code",
   "execution_count": 134,
   "id": "997ae2ea",
   "metadata": {
    "ExecuteTime": {
     "end_time": "2022-01-20T12:56:45.138583Z",
     "start_time": "2022-01-20T12:56:45.137258Z"
    }
   },
   "outputs": [],
   "source": [
    "# geemap.ee_export_image_to_drive(colec_base, description='img_base_mosaic', folder='export',region=colec_geom.geometry(),scale=30)"
   ]
  },
  {
   "cell_type": "code",
   "execution_count": 135,
   "id": "d98c2981",
   "metadata": {
    "ExecuteTime": {
     "end_time": "2022-01-20T12:56:45.140972Z",
     "start_time": "2022-01-20T12:56:45.139639Z"
    }
   },
   "outputs": [],
   "source": [
    "# geemap.ee_export_image_to_drive(c1, description='colec1', folder='Base',region=geom1.geometry(),scale=30)\n",
    "# geemap.ee_export_image_to_drive(c2, description='colec2', folder='Base',region=geom2.geometry(),scale=30)\n",
    "# geemap.ee_export_image_to_drive(c3, description='colec3', folder='Base',region=geom3.geometry(),scale=30)"
   ]
  },
  {
   "cell_type": "code",
   "execution_count": 136,
   "id": "00c5c6f9",
   "metadata": {
    "ExecuteTime": {
     "end_time": "2022-01-20T12:56:45.144507Z",
     "start_time": "2022-01-20T12:56:45.142136Z"
    }
   },
   "outputs": [],
   "source": [
    "# geemap.ee_export_image_to_drive(imgbase_bandas, description='img_base1', folder='Base',scale=30)\n",
    "# geemap.ee_export_image_to_drive(imgbase_bandas2, description='img_base2', folder='Base',scale=30)\n",
    "# geemap.ee_export_image_to_drive(imgbase_bandas3, description='img_base3', folder='Base',scale=30)\n",
    "# geemap.ee_export_image_to_drive(imgbase_bandas4, description='img_base4', folder='Base',scale=30)\n",
    "# geemap.ee_export_image_to_drive(imgbase_bandas5, description='img_base5', folder='Base',scale=30)\n",
    "# geemap.ee_export_image_to_drive(imgbase_bandas6, description='img_base6', folder='Base',scale=30)\n"
   ]
  },
  {
   "cell_type": "code",
   "execution_count": 137,
   "id": "2d3d99aa",
   "metadata": {
    "ExecuteTime": {
     "end_time": "2022-01-20T12:56:46.382110Z",
     "start_time": "2022-01-20T12:56:45.145515Z"
    },
    "scrolled": false
   },
   "outputs": [
    {
     "data": {
      "application/vnd.jupyter.widget-view+json": {
       "model_id": "ba00a56251f44718afb02c35afc54bf2",
       "version_major": 2,
       "version_minor": 0
      },
      "text/plain": [
       "Map(center=[-45, -70], controls=(WidgetControl(options=['position', 'transparent_bg'], widget=HBox(children=(T…"
      ]
     },
     "metadata": {},
     "output_type": "display_data"
    }
   ],
   "source": [
    "# Map1.addLayer(resampled, vizParams, 'img base r')\n",
    "Map1.addLayer(imgbase, vizParams, 'img base')\n",
    "# Map1.addLayer(imgbase_bandas2, vizParams, 'img base2')\n",
    "# Map1.addLayer(imgbase_bandas3, vizParams, 'img base3')\n",
    "# Map1.addLayer(imgbase_bandas4, vizParams, 'img base4')\n",
    "# Map1.addLayer(imgbase_bandas5, vizParams, 'img base5')\n",
    "# Map1.addLayer(imgbase_bandas6, vizParams, 'img base6')\n",
    "Map1.addLayer(colec_base, vizParams, 'coleccion')\n",
    "# Map1.addLayer(colec_base_r, vizParams, 'coleccion r')\n",
    "Map1"
   ]
  },
  {
   "cell_type": "markdown",
   "id": "dd7d911d",
   "metadata": {},
   "source": [
    "## Indices por colección"
   ]
  },
  {
   "cell_type": "markdown",
   "id": "4ea0a4cd",
   "metadata": {},
   "source": [
    "### Índices 2021"
   ]
  },
  {
   "cell_type": "code",
   "execution_count": 138,
   "id": "426dfca0",
   "metadata": {
    "ExecuteTime": {
     "end_time": "2022-01-20T12:56:46.384620Z",
     "start_time": "2022-01-20T12:56:46.382854Z"
    }
   },
   "outputs": [],
   "source": [
    "# NDVI_2021 = NDVI_2021_sn.select('NDVI')\n",
    "# NDWI_2021 = NDWI_2021_sn.select('NDWI')\n",
    "# SAVI_2021 = SAVI_2021_sn.select('SAVI')\n",
    "# NDGI_2021 = NDGI_2021_sn.select('NDGI')\n",
    "# NDSI_2021 = NDSI_2021_sn.select('NDSI')\n"
   ]
  },
  {
   "cell_type": "code",
   "execution_count": 139,
   "id": "eaf84698",
   "metadata": {
    "ExecuteTime": {
     "end_time": "2022-01-20T12:56:46.387579Z",
     "start_time": "2022-01-20T12:56:46.385855Z"
    }
   },
   "outputs": [],
   "source": [
    "# Map9.addLayer(NDVI_2021, {'palette': color_terrain}, 'QMsn de NDVI 2021')\n",
    "# Map9.addLayer(NDWI_2021, {'palette': color_ndwi}, 'QMsn de NDWI 2021')\n",
    "# Map9.addLayer(SAVI_2021, {'palette': color_ndvi}, 'QMsn de SAVI 2021')\n",
    "# Map9.addLayer(NDGI_2021, {'palette': color_glaciar}, 'QMsn de NDGI 2021')\n",
    "# Map9.addLayer(NDSI_2021, {'palette': color_ndwi}, 'QMsn de NDSI 2021')\n",
    "# Map9"
   ]
  },
  {
   "cell_type": "markdown",
   "id": "1e0309e1",
   "metadata": {},
   "source": [
    "### Índices 2020"
   ]
  },
  {
   "cell_type": "code",
   "execution_count": 140,
   "id": "cc1253c0",
   "metadata": {
    "ExecuteTime": {
     "end_time": "2022-01-20T12:56:46.390087Z",
     "start_time": "2022-01-20T12:56:46.388473Z"
    }
   },
   "outputs": [],
   "source": [
    "# NDVI_2020 = NDVI_2020_sn.select('NDVI')\n",
    "# NDWI_2020 = NDWI_2020_sn.select('NDWI')\n",
    "# SAVI_2020 = SAVI_2020_sn.select('SAVI')\n",
    "# NDGI_2020 = NDGI_2020_sn.select('NDGI')\n",
    "# NDSI_2020 = NDSI_2020_sn.select('NDSI')"
   ]
  },
  {
   "cell_type": "code",
   "execution_count": 141,
   "id": "3e0524d7",
   "metadata": {
    "ExecuteTime": {
     "end_time": "2022-01-20T12:56:46.392392Z",
     "start_time": "2022-01-20T12:56:46.390869Z"
    }
   },
   "outputs": [],
   "source": [
    "# Map5.addLayer(NDVI_2020, {'palette': color_terrain}, 'QMsn de NDVI 2020')\n",
    "# Map5.addLayer(NDWI_2020, {'palette': color_ndwi}, 'QMsn de NDWI 2020')\n",
    "# Map5.addLayer(SAVI_2020, {'palette': color_ndvi}, 'QMsn de SAVI 2020')\n",
    "# Map5.addLayer(NDGI_2020, {'palette': color_glaciar}, 'QMsn de NDGI 2020')\n",
    "# Map5.addLayer(NDSI_2020, {'palette': color_ndwi}, 'QMsn de NDSI 2020')\n",
    "# Map5"
   ]
  },
  {
   "cell_type": "markdown",
   "id": "4aee56c9",
   "metadata": {},
   "source": [
    "### Índices 2019"
   ]
  },
  {
   "cell_type": "code",
   "execution_count": 142,
   "id": "4a0a2445",
   "metadata": {
    "ExecuteTime": {
     "end_time": "2022-01-20T12:56:46.394899Z",
     "start_time": "2022-01-20T12:56:46.393195Z"
    }
   },
   "outputs": [],
   "source": [
    "# NDVI_2019 = NDVI_2019_sn.select('NDVI')\n",
    "# NDWI_2019 = NDWI_2019_sn.select('NDWI')\n",
    "# SAVI_2019 = SAVI_2019_sn.select('SAVI')\n",
    "# NDGI_2019 = NDGI_2019_sn.select('NDGI')\n",
    "# NDSI_2019 = NDSI_2019_sn.select('NDSI')"
   ]
  },
  {
   "cell_type": "code",
   "execution_count": 143,
   "id": "144629ba",
   "metadata": {
    "ExecuteTime": {
     "end_time": "2022-01-20T12:56:46.397282Z",
     "start_time": "2022-01-20T12:56:46.395808Z"
    }
   },
   "outputs": [],
   "source": [
    "# Map6.addLayer(NDVI_2019, {'palette': color_terrain}, 'QMsn de NDVI 2019')\n",
    "# Map6.addLayer(NDWI_2019, {'palette': color_ndwi}, 'QMsn de NDWI 2019')\n",
    "# Map6.addLayer(SAVI_2019, {'palette': color_ndvi}, 'QMsn de SAVI 2019')\n",
    "# Map6.addLayer(NDGI_2019, {'palette': color_glaciar}, 'QMsn de NDGI 2019')\n",
    "# Map6.addLayer(NDSI_2019, {'palette': color_ndwi}, 'QMsn de NDSI 2019')\n",
    "# Map6"
   ]
  },
  {
   "cell_type": "markdown",
   "id": "e765cd19",
   "metadata": {},
   "source": [
    "### Índices 2018"
   ]
  },
  {
   "cell_type": "code",
   "execution_count": 144,
   "id": "b4275190",
   "metadata": {
    "ExecuteTime": {
     "end_time": "2022-01-20T12:56:46.399779Z",
     "start_time": "2022-01-20T12:56:46.398232Z"
    }
   },
   "outputs": [],
   "source": [
    "# NDVI_2018 = NDVI_2018_sn.select('NDVI')\n",
    "# NDWI_2018 = NDWI_2018_sn.select('NDWI')\n",
    "# SAVI_2018 = SAVI_2018_sn.select('SAVI')\n",
    "# NDGI_2018 = NDGI_2018_sn.select('NDGI')\n",
    "# NDSI_2018 = NDSI_2018_sn.select('NDSI')"
   ]
  },
  {
   "cell_type": "code",
   "execution_count": 145,
   "id": "977e42e9",
   "metadata": {
    "ExecuteTime": {
     "end_time": "2022-01-20T12:56:46.402398Z",
     "start_time": "2022-01-20T12:56:46.400860Z"
    }
   },
   "outputs": [],
   "source": [
    "# Map6.addLayer(NDVI_2018, {'palette': color_terrain}, 'QMsn de NDVI 2018')\n",
    "# Map6.addLayer(NDWI_2018, {'palette': color_ndwi}, 'QMsn de NDWI 2018')\n",
    "# Map6.addLayer(SAVI_2018, {'palette': color_ndvi}, 'QMsn de SAVI 2018')\n",
    "# Map6.addLayer(NDGI_2018, {'palette': color_glaciar}, 'QMsn de NDGI 2018')\n",
    "# Map6.addLayer(NDSI_2018, {'palette': color_ndwi}, 'QMsn de NDSI 2018')\n",
    "# Map6"
   ]
  },
  {
   "cell_type": "markdown",
   "id": "158b36ac",
   "metadata": {},
   "source": [
    "## Matching de Histogramas"
   ]
  },
  {
   "cell_type": "code",
   "execution_count": 146,
   "id": "c8f22563",
   "metadata": {
    "ExecuteTime": {
     "end_time": "2022-01-20T12:56:46.406486Z",
     "start_time": "2022-01-20T12:56:46.403487Z"
    }
   },
   "outputs": [],
   "source": [
    "def lookup(source_hist, target_hist):\n",
    "    \"\"\"Creates a lookup table to make a source histogram match a target histogram.\n",
    "\n",
    "    Args:\n",
    "        source_hist: The histogram to modify. \n",
    "        Expects the Nx2 array format produced by ee.Reducer.autoHistogram.\n",
    "        target_hist: The histogram to match to. \n",
    "        Expects the Nx2 array format produced by ee.Reducer.autoHistogram.\n",
    "\n",
    "    Returns:\n",
    "        A dictionary with 'x' and 'y' properties that respectively represent the x and y\n",
    "        array inputs to the ee.Image.interpolate function.\n",
    "    \"\"\"\n",
    "\n",
    "    # Split the histograms by column and normalize the counts.\n",
    "    source_values = source_hist.slice(1, 0, 1).project([0])\n",
    "    source_counts = source_hist.slice(1, 1, 2).project([0])\n",
    "    source_counts = source_counts.divide(source_counts.get([-1]))\n",
    "\n",
    "    target_values = target_hist.slice(1, 0, 1).project([0])\n",
    "    target_counts = target_hist.slice(1, 1, 2).project([0])\n",
    "    target_counts = target_counts.divide(target_counts.get([-1]))\n",
    "\n",
    "    # Find first position in target where targetCount >= srcCount[i], for each i.\n",
    "    def make_lookup(n):\n",
    "        return target_values.get(target_counts.gte(n).argmax())\n",
    "\n",
    "    lookup = source_counts.toList().map(make_lookup)\n",
    "\n",
    "    return {'x': source_values.toList(), 'y': lookup}"
   ]
  },
  {
   "cell_type": "code",
   "execution_count": 147,
   "id": "9adbc7c2",
   "metadata": {
    "ExecuteTime": {
     "end_time": "2022-01-20T12:56:46.411994Z",
     "start_time": "2022-01-20T12:56:46.407433Z"
    }
   },
   "outputs": [],
   "source": [
    "def histogram_match(source_img, target_img, geometry):\n",
    "    \"\"\"Performs histogram matching for 3-band RGB images by forcing the histogram CDF of source_img to match target_img.\n",
    "\n",
    "    Args:\n",
    "        source_img: A 3-band ee.Image to be color matched. Must have bands named 'R', 'G', and 'B'.\n",
    "        target_img: A 3-band ee.Image for color reference. Must have bands named 'R', 'G', and 'B'.\n",
    "        geometry: An ee.Geometry that defines the region to generate RGB histograms for.\n",
    "          It should intersect both source_img and target_img inputs.\n",
    "\n",
    "    Returns:\n",
    "        A copy of src_img color-matched to target_img.\n",
    "    \"\"\"\n",
    "\n",
    "    args = {\n",
    "        'reducer': ee.Reducer.autoHistogram(**{'maxBuckets': 1024, 'cumulative': True}),\n",
    "        'geometry': geometry,\n",
    "        'scale': 1, # Need to specify a scale, but it doesn't matter what it is because bestEffort is true.\n",
    "        'maxPixels': 1048576 * 4 - 1,\n",
    "        'bestEffort': True\n",
    "    }\n",
    "\n",
    "    # Only use pixels in target that have a value in source (inside the footprint and unmasked).\n",
    "    source = source_img.reduceRegion(**args)\n",
    "    target = target_img.updateMask(source_img.mask()).reduceRegion(**args)\n",
    "\n",
    "    return ee.Image.cat(\n",
    "        source_img.select(['B1']).interpolate(**lookup(source.getArray('B1'), target.getArray('B1'))),\n",
    "        source_img.select(['B2']).interpolate(**lookup(source.getArray('B2'), target.getArray('B2'))),\n",
    "        source_img.select(['B3']).interpolate(**lookup(source.getArray('B3'), target.getArray('B3'))),\n",
    "        source_img.select(['B4']).interpolate(**lookup(source.getArray('B4'), target.getArray('B4'))),\n",
    "        source_img.select(['B5']).interpolate(**lookup(source.getArray('B5'), target.getArray('B5'))),\n",
    "        source_img.select(['B6']).interpolate(**lookup(source.getArray('B6'), target.getArray('B6'))),\n",
    "        source_img.select(['B7']).interpolate(**lookup(source.getArray('B7'), target.getArray('B7'))),\n",
    "        source_img.select(['B8']).interpolate(**lookup(source.getArray('B8'), target.getArray('B8'))),\n",
    "        source_img.select(['B9']).interpolate(**lookup(source.getArray('B9'), target.getArray('B9'))),\n",
    "        source_img.select(['B10']).interpolate(**lookup(source.getArray('B10'), target.getArray('B10'))),\n",
    "        source_img.select(['B11']).interpolate(**lookup(source.getArray('B11'), target.getArray('B11'))),\n",
    "    ).copyProperties(source_img, ['system:time_start'])"
   ]
  },
  {
   "cell_type": "code",
   "execution_count": 148,
   "id": "006690ff",
   "metadata": {
    "ExecuteTime": {
     "end_time": "2022-01-20T12:56:46.414292Z",
     "start_time": "2022-01-20T12:56:46.412765Z"
    }
   },
   "outputs": [],
   "source": [
    "geometry = geometria_base2.geometry()"
   ]
  },
  {
   "cell_type": "code",
   "execution_count": 149,
   "id": "15798156",
   "metadata": {
    "ExecuteTime": {
     "end_time": "2022-01-20T12:56:46.417027Z",
     "start_time": "2022-01-20T12:56:46.415372Z"
    }
   },
   "outputs": [],
   "source": [
    "# geometry = ee.Geometry({\n",
    "#   'type': 'Polygon',\n",
    "#   'coordinates':\n",
    "#     [[[-72.674, -45.045],\n",
    "#       [-71.603, -45.086],\n",
    "#       [-71.554, -46.027],\n",
    "#       [-72.674, -45.045]]]\n",
    "# });"
   ]
  },
  {
   "cell_type": "code",
   "execution_count": 150,
   "id": "96c0fdd4",
   "metadata": {
    "ExecuteTime": {
     "end_time": "2022-01-20T12:56:46.419981Z",
     "start_time": "2022-01-20T12:56:46.418167Z"
    }
   },
   "outputs": [],
   "source": [
    "# geometryCoordinates = geometry.coordinates()"
   ]
  },
  {
   "cell_type": "code",
   "execution_count": 151,
   "id": "fd5d4d96",
   "metadata": {
    "ExecuteTime": {
     "end_time": "2022-01-20T12:56:46.422403Z",
     "start_time": "2022-01-20T12:56:46.420941Z"
    }
   },
   "outputs": [],
   "source": [
    "# print('geometry.coordinates(...) =', geometryCoordinates)"
   ]
  },
  {
   "cell_type": "code",
   "execution_count": 152,
   "id": "6f2af1f8",
   "metadata": {
    "ExecuteTime": {
     "end_time": "2022-01-20T12:56:46.593070Z",
     "start_time": "2022-01-20T12:56:46.423450Z"
    }
   },
   "outputs": [],
   "source": [
    "QM_NDVI_2021_m = histogram_match(NDVI_2021,colec_base, geometry)"
   ]
  },
  {
   "cell_type": "code",
   "execution_count": 153,
   "id": "01c11fab",
   "metadata": {
    "ExecuteTime": {
     "end_time": "2022-01-20T12:56:46.766523Z",
     "start_time": "2022-01-20T12:56:46.594078Z"
    }
   },
   "outputs": [],
   "source": [
    "NDVI_tier1 = histogram_match(QM_NDVI_T1, colec_base, geometry)"
   ]
  },
  {
   "cell_type": "code",
   "execution_count": 154,
   "id": "da2c9ab0",
   "metadata": {
    "ExecuteTime": {
     "end_time": "2022-01-20T12:56:46.939813Z",
     "start_time": "2022-01-20T12:56:46.767604Z"
    }
   },
   "outputs": [],
   "source": [
    "NDVI_tier2 = histogram_match(QM_NDVI_T2, colec_base, geometry)"
   ]
  },
  {
   "cell_type": "code",
   "execution_count": 155,
   "id": "e775315a",
   "metadata": {
    "ExecuteTime": {
     "end_time": "2022-01-20T12:56:47.408576Z",
     "start_time": "2022-01-20T12:56:46.940710Z"
    }
   },
   "outputs": [],
   "source": [
    "NDVI_tier3 = histogram_match(QM_NDVI_T3, colec_base, geometry)"
   ]
  },
  {
   "cell_type": "code",
   "execution_count": 156,
   "id": "131e6318",
   "metadata": {
    "ExecuteTime": {
     "end_time": "2022-01-20T12:56:47.584725Z",
     "start_time": "2022-01-20T12:56:47.409563Z"
    }
   },
   "outputs": [],
   "source": [
    "NDVI_tier4 = histogram_match(QM_NDVI_T4, colec_base, geometry)"
   ]
  },
  {
   "cell_type": "code",
   "execution_count": 157,
   "id": "92a22c22",
   "metadata": {
    "ExecuteTime": {
     "end_time": "2022-01-20T12:56:47.827163Z",
     "start_time": "2022-01-20T12:56:47.585767Z"
    }
   },
   "outputs": [],
   "source": [
    "NWVI_tier = histogram_match(QM_NDWI_T1, colec_base, geometry)"
   ]
  },
  {
   "cell_type": "code",
   "execution_count": 158,
   "id": "0964556b",
   "metadata": {
    "ExecuteTime": {
     "end_time": "2022-01-20T12:56:47.830159Z",
     "start_time": "2022-01-20T12:56:47.828215Z"
    }
   },
   "outputs": [],
   "source": [
    "vis_params_refl = {'min': 0, 'max': 0.25} "
   ]
  },
  {
   "cell_type": "code",
   "execution_count": 159,
   "id": "02bda186",
   "metadata": {
    "ExecuteTime": {
     "end_time": "2022-01-20T12:56:47.832762Z",
     "start_time": "2022-01-20T12:56:47.831329Z"
    }
   },
   "outputs": [],
   "source": [
    "# import folium\n",
    "\n",
    "# def add_ee_layer(self, ee_image_object, vis_params, name):\n",
    "#   map_id_dict = ee.Image(ee_image_object).getMapId(vis_params)\n",
    "#   folium.raster_layers.TileLayer(\n",
    "#       tiles=map_id_dict['tile_fetcher'].url_format,\n",
    "#       attr='Map Data &copy; <a href=\"https://earthengine.google.com/\">Google Earth Engine</a>',\n",
    "#       name=name,\n",
    "#       overlay=True,\n",
    "#       control=True\n",
    "#   ).add_to(self)\n",
    "\n",
    "# folium.Map.add_ee_layer = add_ee_layer"
   ]
  },
  {
   "cell_type": "code",
   "execution_count": 160,
   "id": "54dc379c",
   "metadata": {
    "ExecuteTime": {
     "end_time": "2022-01-20T12:56:47.835763Z",
     "start_time": "2022-01-20T12:56:47.833877Z"
    }
   },
   "outputs": [],
   "source": [
    "# lon, lat, zoom = -45, -70 , 4\n",
    "# vis_params_refl = {'min': 0, 'max': 0.25}\n",
    "# map_matched = folium.Map(location=[lat, lon], zoom_start=zoom)\n",
    "# map_matched.add_ee_layer(QM_NDVI_2021_m, vizParams, 'matched')\n",
    "# display(map_matched.add_child(folium.LayerControl()))"
   ]
  },
  {
   "cell_type": "markdown",
   "id": "dd05e9e8",
   "metadata": {},
   "source": [
    "## Generación de Mosaico"
   ]
  },
  {
   "cell_type": "code",
   "execution_count": 161,
   "id": "9b229098",
   "metadata": {
    "ExecuteTime": {
     "end_time": "2022-01-20T12:56:47.838482Z",
     "start_time": "2022-01-20T12:56:47.836791Z"
    }
   },
   "outputs": [],
   "source": [
    "NDVI_2021_landsat = NDVI_2021.set('SENSOR_ID', 'OLI_TIRS')"
   ]
  },
  {
   "cell_type": "code",
   "execution_count": 162,
   "id": "a98110ba",
   "metadata": {
    "ExecuteTime": {
     "end_time": "2022-01-20T12:56:47.841317Z",
     "start_time": "2022-01-20T12:56:47.839506Z"
    }
   },
   "outputs": [],
   "source": [
    "cloud_2021 = ee.Algorithms.Landsat.simpleCloudScore(NDVI_2021_landsat)"
   ]
  },
  {
   "cell_type": "code",
   "execution_count": 163,
   "id": "745b712d",
   "metadata": {
    "ExecuteTime": {
     "end_time": "2022-01-20T12:56:47.843794Z",
     "start_time": "2022-01-20T12:56:47.842111Z"
    }
   },
   "outputs": [],
   "source": [
    "cloud_2021 = cloud_2021.select('cloud')"
   ]
  },
  {
   "cell_type": "code",
   "execution_count": 164,
   "id": "3351dfe9",
   "metadata": {
    "ExecuteTime": {
     "end_time": "2022-01-20T12:56:47.846440Z",
     "start_time": "2022-01-20T12:56:47.844793Z"
    }
   },
   "outputs": [],
   "source": [
    "palette_nubes = ['#1a9850', '#d73027']"
   ]
  },
  {
   "cell_type": "code",
   "execution_count": 165,
   "id": "aa1c77e2",
   "metadata": {
    "ExecuteTime": {
     "end_time": "2022-01-20T12:56:47.849092Z",
     "start_time": "2022-01-20T12:56:47.847350Z"
    }
   },
   "outputs": [],
   "source": [
    "resultados= [cloud_2021, NDVI_2021]\n",
    "vis_params2=  [\n",
    "    {'palette':palette_nubes}, \n",
    "    vizParams]\n",
    "labels = [\n",
    "    'Nubes 2021',\n",
    "    'QM NDVI 2021']"
   ]
  },
  {
   "cell_type": "code",
   "execution_count": 166,
   "id": "28e91129",
   "metadata": {
    "ExecuteTime": {
     "end_time": "2022-01-20T12:56:50.540494Z",
     "start_time": "2022-01-20T12:56:47.850147Z"
    }
   },
   "outputs": [
    {
     "data": {
      "application/vnd.jupyter.widget-view+json": {
       "model_id": "23fac9e8711e402ea70797750a5ad693",
       "version_major": 2,
       "version_minor": 0
      },
      "text/plain": [
       "GridspecLayout(children=(Output(layout=Layout(grid_area='widget001')), Output(layout=Layout(grid_area='widget0…"
      ]
     },
     "metadata": {},
     "output_type": "display_data"
    }
   ],
   "source": [
    "geemap.linked_maps(rows=1, cols=2, height=\"400px\", center=[-45, -75], zoom=4, \n",
    "                   ee_objects=resultados, vis_params=vis_params2, labels=labels, label_position=\"topright\")"
   ]
  },
  {
   "cell_type": "code",
   "execution_count": 167,
   "id": "21067811",
   "metadata": {
    "ExecuteTime": {
     "end_time": "2022-01-20T12:56:51.709267Z",
     "start_time": "2022-01-20T12:56:50.541475Z"
    }
   },
   "outputs": [
    {
     "data": {
      "text/plain": [
       "['B1',\n",
       " 'B2',\n",
       " 'B3',\n",
       " 'B4',\n",
       " 'B5',\n",
       " 'B6',\n",
       " 'B7',\n",
       " 'B8',\n",
       " 'B9',\n",
       " 'B10',\n",
       " 'B11',\n",
       " 'BQA',\n",
       " 'NDVI',\n",
       " 'NDWI',\n",
       " 'NDGI',\n",
       " 'SAVI',\n",
       " 'NDSI',\n",
       " 'date',\n",
       " 'nube']"
      ]
     },
     "execution_count": 167,
     "metadata": {},
     "output_type": "execute_result"
    }
   ],
   "source": [
    "QM_NDVI_T1.bandNames().getInfo()"
   ]
  },
  {
   "cell_type": "code",
   "execution_count": 168,
   "id": "93ea56bf",
   "metadata": {
    "ExecuteTime": {
     "end_time": "2022-01-20T12:56:51.712234Z",
     "start_time": "2022-01-20T12:56:51.710360Z"
    }
   },
   "outputs": [],
   "source": [
    "def llenado(image):\n",
    "    return image.where(cloud_2021.gt(10),QM_NDVI_T1)"
   ]
  },
  {
   "cell_type": "code",
   "execution_count": 169,
   "id": "8287934f",
   "metadata": {
    "ExecuteTime": {
     "end_time": "2022-01-20T12:56:51.715537Z",
     "start_time": "2022-01-20T12:56:51.713539Z"
    }
   },
   "outputs": [],
   "source": [
    "img1 = llenado(NDVI_2021)"
   ]
  },
  {
   "cell_type": "code",
   "execution_count": 170,
   "id": "0ea4ebed",
   "metadata": {
    "ExecuteTime": {
     "end_time": "2022-01-20T12:56:51.719381Z",
     "start_time": "2022-01-20T12:56:51.716474Z"
    }
   },
   "outputs": [],
   "source": [
    "img1_landsat = img1.set('SENSOR_ID', 'OLI_TIRS')\n",
    "cloud_img1 = ee.Algorithms.Landsat.simpleCloudScore(img1_landsat)\n",
    "cloud_img1 = cloud_img1.select('cloud')"
   ]
  },
  {
   "cell_type": "code",
   "execution_count": 171,
   "id": "84dbb2d4",
   "metadata": {
    "ExecuteTime": {
     "end_time": "2022-01-20T12:56:51.722141Z",
     "start_time": "2022-01-20T12:56:51.720368Z"
    }
   },
   "outputs": [],
   "source": [
    "resultados= [cloud_img1, img1]\n",
    "vis_params2=  [\n",
    "    {'palette':palette_nubes}, \n",
    "    vizParams]\n",
    "labels = [\n",
    "    'Nubes Mosaico 1',\n",
    "    'Mosaico 1']"
   ]
  },
  {
   "cell_type": "code",
   "execution_count": 172,
   "id": "f3c2a996",
   "metadata": {
    "ExecuteTime": {
     "end_time": "2022-01-20T12:56:55.031785Z",
     "start_time": "2022-01-20T12:56:51.723212Z"
    }
   },
   "outputs": [
    {
     "data": {
      "application/vnd.jupyter.widget-view+json": {
       "model_id": "440c5a07c0c04fefb75a7d8d613e8549",
       "version_major": 2,
       "version_minor": 0
      },
      "text/plain": [
       "GridspecLayout(children=(Output(layout=Layout(grid_area='widget001')), Output(layout=Layout(grid_area='widget0…"
      ]
     },
     "metadata": {},
     "output_type": "display_data"
    }
   ],
   "source": [
    "geemap.linked_maps(rows=1, cols=2, height=\"400px\", center=[-45, -75], zoom=4, \n",
    "                   ee_objects=resultados, vis_params=vis_params2, labels=labels, label_position=\"topright\")"
   ]
  },
  {
   "cell_type": "code",
   "execution_count": 173,
   "id": "9a243ac4",
   "metadata": {
    "ExecuteTime": {
     "end_time": "2022-01-20T12:56:55.034692Z",
     "start_time": "2022-01-20T12:56:55.032684Z"
    }
   },
   "outputs": [],
   "source": [
    "def llenado2(image):\n",
    "    return image.where(cloud_img1.gt(10), QM_NDVI_T2)"
   ]
  },
  {
   "cell_type": "code",
   "execution_count": 174,
   "id": "ada6d94e",
   "metadata": {
    "ExecuteTime": {
     "end_time": "2022-01-20T12:56:55.037489Z",
     "start_time": "2022-01-20T12:56:55.035817Z"
    }
   },
   "outputs": [],
   "source": [
    "img2 = llenado2(img1)"
   ]
  },
  {
   "cell_type": "code",
   "execution_count": 175,
   "id": "e3db0a52",
   "metadata": {
    "ExecuteTime": {
     "end_time": "2022-01-20T12:56:55.040301Z",
     "start_time": "2022-01-20T12:56:55.038545Z"
    }
   },
   "outputs": [],
   "source": [
    "img2_landsat = img2.set('SENSOR_ID', 'OLI_TIRS')\n",
    "cloud_img2 = ee.Algorithms.Landsat.simpleCloudScore(img2_landsat)\n",
    "cloud_img2 = cloud_img2.select('cloud')"
   ]
  },
  {
   "cell_type": "code",
   "execution_count": 176,
   "id": "42d22742",
   "metadata": {
    "ExecuteTime": {
     "end_time": "2022-01-20T12:56:55.043024Z",
     "start_time": "2022-01-20T12:56:55.041453Z"
    }
   },
   "outputs": [],
   "source": [
    "resultados= [cloud_img2, img2]\n",
    "vis_params2=  [\n",
    "    {'palette':palette_nubes}, \n",
    "    vizParams]\n",
    "labels = [\n",
    "    'Nubes Mosaico 2',\n",
    "    'Mosaico 2']"
   ]
  },
  {
   "cell_type": "code",
   "execution_count": 177,
   "id": "5bdcab8c",
   "metadata": {
    "ExecuteTime": {
     "end_time": "2022-01-20T12:56:55.045749Z",
     "start_time": "2022-01-20T12:56:55.044080Z"
    }
   },
   "outputs": [],
   "source": [
    "# geemap.linked_maps(rows=1, cols=2, height=\"400px\", center=[-45, -75], zoom=4, \n",
    "#                    ee_objects=resultados, vis_params=vis_params2, labels=labels, label_position=\"topright\")"
   ]
  },
  {
   "cell_type": "code",
   "execution_count": 178,
   "id": "ca5f91e2",
   "metadata": {
    "ExecuteTime": {
     "end_time": "2022-01-20T12:56:55.048202Z",
     "start_time": "2022-01-20T12:56:55.046611Z"
    }
   },
   "outputs": [],
   "source": [
    "def llenado3(image):\n",
    "    return image.where(cloud_img2.gt(10), QM_NDVI_T3)"
   ]
  },
  {
   "cell_type": "code",
   "execution_count": 179,
   "id": "f52fddee",
   "metadata": {
    "ExecuteTime": {
     "end_time": "2022-01-20T12:56:55.050732Z",
     "start_time": "2022-01-20T12:56:55.049192Z"
    }
   },
   "outputs": [],
   "source": [
    "img3 = llenado3(img2)"
   ]
  },
  {
   "cell_type": "code",
   "execution_count": 180,
   "id": "6d41d9d0",
   "metadata": {
    "ExecuteTime": {
     "end_time": "2022-01-20T12:56:55.053568Z",
     "start_time": "2022-01-20T12:56:55.051777Z"
    }
   },
   "outputs": [],
   "source": [
    "img3_landsat = img3.set('SENSOR_ID', 'OLI_TIRS')\n",
    "cloud_img3 = ee.Algorithms.Landsat.simpleCloudScore(img3_landsat)\n",
    "cloud_img3 = cloud_img3.select('cloud')"
   ]
  },
  {
   "cell_type": "code",
   "execution_count": 181,
   "id": "3a000d62",
   "metadata": {
    "ExecuteTime": {
     "end_time": "2022-01-20T12:56:55.056470Z",
     "start_time": "2022-01-20T12:56:55.054672Z"
    }
   },
   "outputs": [],
   "source": [
    "resultados= [cloud_img3, img3]\n",
    "vis_params2=  [\n",
    "    {'palette':palette_nubes}, \n",
    "    vizParams]\n",
    "labels = [\n",
    "    'Nubes Mosaico 3',\n",
    "    'Mosaico 3']"
   ]
  },
  {
   "cell_type": "code",
   "execution_count": 182,
   "id": "bf275ed6",
   "metadata": {
    "ExecuteTime": {
     "end_time": "2022-01-20T12:56:55.058616Z",
     "start_time": "2022-01-20T12:56:55.057288Z"
    }
   },
   "outputs": [],
   "source": [
    "# geemap.linked_maps(rows=1, cols=2, height=\"400px\", center=[-45, -75], zoom=4, \n",
    "#                    ee_objects=resultados, vis_params=vis_params2, labels=labels, label_position=\"topright\")"
   ]
  },
  {
   "cell_type": "code",
   "execution_count": 183,
   "id": "9d0daae9",
   "metadata": {
    "ExecuteTime": {
     "end_time": "2022-01-20T12:56:55.061128Z",
     "start_time": "2022-01-20T12:56:55.059641Z"
    }
   },
   "outputs": [],
   "source": [
    "def llenado4(image):\n",
    "    return image.where(cloud_img3.gt(10), QM_NDVI_T4)"
   ]
  },
  {
   "cell_type": "code",
   "execution_count": 184,
   "id": "d37f16d5",
   "metadata": {
    "ExecuteTime": {
     "end_time": "2022-01-20T12:56:55.063786Z",
     "start_time": "2022-01-20T12:56:55.062232Z"
    }
   },
   "outputs": [],
   "source": [
    "img4 = llenado4(img3)"
   ]
  },
  {
   "cell_type": "code",
   "execution_count": 185,
   "id": "540d60d8",
   "metadata": {
    "ExecuteTime": {
     "end_time": "2022-01-20T12:56:55.066634Z",
     "start_time": "2022-01-20T12:56:55.064721Z"
    }
   },
   "outputs": [],
   "source": [
    "img4_landsat = img4.set('SENSOR_ID', 'OLI_TIRS')\n",
    "cloud_img4 = ee.Algorithms.Landsat.simpleCloudScore(img4_landsat)\n",
    "cloud_img4 = cloud_img4.select('cloud')"
   ]
  },
  {
   "cell_type": "code",
   "execution_count": 186,
   "id": "3f0e9719",
   "metadata": {
    "ExecuteTime": {
     "end_time": "2022-01-20T12:56:55.069157Z",
     "start_time": "2022-01-20T12:56:55.067513Z"
    }
   },
   "outputs": [],
   "source": [
    "resultados= [cloud_img4, img4]\n",
    "vis_params2=  [\n",
    "    {'palette':palette_nubes}, \n",
    "    vizParams]\n",
    "labels = [\n",
    "    'Nubes Mosaico 4',\n",
    "    'Mosaico 4']"
   ]
  },
  {
   "cell_type": "code",
   "execution_count": 187,
   "id": "41d9a7b8",
   "metadata": {
    "ExecuteTime": {
     "end_time": "2022-01-20T12:56:55.071629Z",
     "start_time": "2022-01-20T12:56:55.070284Z"
    }
   },
   "outputs": [],
   "source": [
    "# geemap.linked_maps(rows=1, cols=2, height=\"400px\", center=[-45, -75], zoom=4, \n",
    "#                    ee_objects=resultados, vis_params=vis_params2, labels=labels, label_position=\"topright\")"
   ]
  },
  {
   "cell_type": "code",
   "execution_count": 188,
   "id": "0cccc52b",
   "metadata": {
    "ExecuteTime": {
     "end_time": "2022-01-20T12:56:55.074313Z",
     "start_time": "2022-01-20T12:56:55.072743Z"
    }
   },
   "outputs": [],
   "source": [
    "hansenImage = ee.Image('UMD/hansen/global_forest_change_2015')\n",
    "datamask = hansenImage.select('datamask')"
   ]
  },
  {
   "cell_type": "code",
   "execution_count": 189,
   "id": "2e6b728e",
   "metadata": {
    "ExecuteTime": {
     "end_time": "2022-01-20T12:56:55.076984Z",
     "start_time": "2022-01-20T12:56:55.075179Z"
    }
   },
   "outputs": [],
   "source": [
    "def llenado5(image):\n",
    "    return image.where(datamask.eq(2), QM_NDWI_T1)"
   ]
  },
  {
   "cell_type": "code",
   "execution_count": 190,
   "id": "eeac700c",
   "metadata": {
    "ExecuteTime": {
     "end_time": "2022-01-20T12:56:55.079489Z",
     "start_time": "2022-01-20T12:56:55.078016Z"
    }
   },
   "outputs": [],
   "source": [
    "img5 = llenado5(img4)"
   ]
  },
  {
   "cell_type": "code",
   "execution_count": 191,
   "id": "82202db6",
   "metadata": {
    "ExecuteTime": {
     "end_time": "2022-01-20T12:56:55.082040Z",
     "start_time": "2022-01-20T12:56:55.080511Z"
    }
   },
   "outputs": [],
   "source": [
    "img5_landsat = img5.set('SENSOR_ID', 'OLI_TIRS')"
   ]
  },
  {
   "cell_type": "code",
   "execution_count": 192,
   "id": "823a7e18",
   "metadata": {
    "ExecuteTime": {
     "end_time": "2022-01-20T12:56:55.084904Z",
     "start_time": "2022-01-20T12:56:55.083182Z"
    }
   },
   "outputs": [],
   "source": [
    "resultados= [img4, img5]\n",
    "labels = [\n",
    "    'Mosaico 4',\n",
    "    'Mosaico 5']\n",
    "vis_params3=  [\n",
    "     vizParams, \n",
    "    vizParams]"
   ]
  },
  {
   "cell_type": "code",
   "execution_count": 193,
   "id": "87c07712",
   "metadata": {
    "ExecuteTime": {
     "end_time": "2022-01-20T12:56:58.919644Z",
     "start_time": "2022-01-20T12:56:55.085963Z"
    }
   },
   "outputs": [
    {
     "data": {
      "application/vnd.jupyter.widget-view+json": {
       "model_id": "4c87053487a34a8abdfd43bf87c368bd",
       "version_major": 2,
       "version_minor": 0
      },
      "text/plain": [
       "GridspecLayout(children=(Output(layout=Layout(grid_area='widget001')), Output(layout=Layout(grid_area='widget0…"
      ]
     },
     "metadata": {},
     "output_type": "display_data"
    }
   ],
   "source": [
    "geemap.linked_maps(rows=1, cols=2, height=\"400px\", center=[-45, -75], zoom=4, \n",
    "                   ee_objects=resultados, vis_params=vis_params3, labels=labels, label_position=\"topright\")"
   ]
  },
  {
   "cell_type": "code",
   "execution_count": 194,
   "id": "c76fddbf",
   "metadata": {
    "ExecuteTime": {
     "end_time": "2022-01-20T12:57:01.210450Z",
     "start_time": "2022-01-20T12:56:58.920541Z"
    }
   },
   "outputs": [
    {
     "data": {
      "text/plain": [
       "['B1',\n",
       " 'B2',\n",
       " 'B3',\n",
       " 'B4',\n",
       " 'B5',\n",
       " 'B6',\n",
       " 'B7',\n",
       " 'B8',\n",
       " 'B9',\n",
       " 'B10',\n",
       " 'B11',\n",
       " 'BQA',\n",
       " 'NDVI',\n",
       " 'NDWI',\n",
       " 'NDGI',\n",
       " 'SAVI',\n",
       " 'NDSI',\n",
       " 'date',\n",
       " 'nube']"
      ]
     },
     "execution_count": 194,
     "metadata": {},
     "output_type": "execute_result"
    }
   ],
   "source": [
    "img4.bandNames().getInfo()"
   ]
  },
  {
   "cell_type": "code",
   "execution_count": 195,
   "id": "03e0049e",
   "metadata": {
    "ExecuteTime": {
     "end_time": "2022-01-20T12:57:03.325104Z",
     "start_time": "2022-01-20T12:57:01.211342Z"
    }
   },
   "outputs": [
    {
     "data": {
      "text/plain": [
       "['B1',\n",
       " 'B2',\n",
       " 'B3',\n",
       " 'B4',\n",
       " 'B5',\n",
       " 'B6',\n",
       " 'B7',\n",
       " 'B8',\n",
       " 'B9',\n",
       " 'B10',\n",
       " 'B11',\n",
       " 'BQA',\n",
       " 'NDVI',\n",
       " 'NDWI',\n",
       " 'NDGI',\n",
       " 'SAVI',\n",
       " 'NDSI',\n",
       " 'date',\n",
       " 'nube']"
      ]
     },
     "execution_count": 195,
     "metadata": {},
     "output_type": "execute_result"
    }
   ],
   "source": [
    "img5.bandNames().getInfo()"
   ]
  },
  {
   "cell_type": "code",
   "execution_count": 196,
   "id": "20454023",
   "metadata": {
    "ExecuteTime": {
     "end_time": "2022-01-20T12:57:07.404794Z",
     "start_time": "2022-01-20T12:57:03.325956Z"
    }
   },
   "outputs": [
    {
     "data": {
      "application/vnd.jupyter.widget-view+json": {
       "model_id": "8a1f5be15d4d4df79e0c98c4a84447ea",
       "version_major": 2,
       "version_minor": 0
      },
      "text/plain": [
       "Map(center=[-45, -70], controls=(WidgetControl(options=['position', 'transparent_bg'], widget=HBox(children=(T…"
      ]
     },
     "metadata": {},
     "output_type": "display_data"
    }
   ],
   "source": [
    "Map10.addLayer(img4, vizParams, 'Mosaico 4')\n",
    "Map10.addLayer(img5, vizParams, 'Mosaico 5')\n",
    "Map10"
   ]
  },
  {
   "cell_type": "markdown",
   "id": "18c237e5",
   "metadata": {},
   "source": [
    "### Resultado Final"
   ]
  },
  {
   "cell_type": "code",
   "execution_count": 197,
   "id": "3e85d062",
   "metadata": {
    "ExecuteTime": {
     "end_time": "2022-01-20T12:57:09.354284Z",
     "start_time": "2022-01-20T12:57:07.405810Z"
    }
   },
   "outputs": [
    {
     "data": {
      "application/vnd.jupyter.widget-view+json": {
       "model_id": "8a1f5be15d4d4df79e0c98c4a84447ea",
       "version_major": 2,
       "version_minor": 0
      },
      "text/plain": [
       "Map(center=[-45, -70], controls=(WidgetControl(options=['position', 'transparent_bg'], widget=HBox(children=(T…"
      ]
     },
     "metadata": {},
     "output_type": "display_data"
    }
   ],
   "source": [
    "img5_b = img5.select(['B1','B2','B3','B4','B5','B6','B7'])\n",
    "Map10.addLayer(img5_b, vizParams, 'Mosaico 7bandas')\n",
    "Map10"
   ]
  },
  {
   "cell_type": "code",
   "execution_count": 198,
   "id": "f985c277",
   "metadata": {
    "ExecuteTime": {
     "end_time": "2022-01-20T12:57:09.356769Z",
     "start_time": "2022-01-20T12:57:09.355179Z"
    }
   },
   "outputs": [],
   "source": [
    "# type(img6)"
   ]
  },
  {
   "cell_type": "code",
   "execution_count": 199,
   "id": "3f26ae54",
   "metadata": {
    "ExecuteTime": {
     "end_time": "2022-01-20T12:57:09.359376Z",
     "start_time": "2022-01-20T12:57:09.357965Z"
    }
   },
   "outputs": [],
   "source": [
    "# img6.bandNames().getInfo()"
   ]
  },
  {
   "cell_type": "code",
   "execution_count": 200,
   "id": "9e384bfb",
   "metadata": {
    "ExecuteTime": {
     "end_time": "2022-01-20T12:57:09.361831Z",
     "start_time": "2022-01-20T12:57:09.360470Z"
    }
   },
   "outputs": [],
   "source": [
    "# colec7 = ee.ImageCollection(img7)"
   ]
  },
  {
   "cell_type": "code",
   "execution_count": 201,
   "id": "8bb269ec",
   "metadata": {
    "ExecuteTime": {
     "end_time": "2022-01-20T12:57:09.364457Z",
     "start_time": "2022-01-20T12:57:09.362841Z"
    }
   },
   "outputs": [],
   "source": [
    "# coleccion7 = colec7.map(addNDVI).map(addNDWI).map(addNDGI).map(addSAVI).map(addNDSI).map(addDate).map(addCloud)"
   ]
  },
  {
   "cell_type": "code",
   "execution_count": 202,
   "id": "67a2e0e2",
   "metadata": {
    "ExecuteTime": {
     "end_time": "2022-01-20T12:57:09.366897Z",
     "start_time": "2022-01-20T12:57:09.365421Z"
    }
   },
   "outputs": [],
   "source": [
    "property = 'date'"
   ]
  },
  {
   "cell_type": "code",
   "execution_count": 203,
   "id": "9fff05cd",
   "metadata": {
    "ExecuteTime": {
     "end_time": "2022-01-20T12:57:09.369394Z",
     "start_time": "2022-01-20T12:57:09.367774Z"
    }
   },
   "outputs": [],
   "source": [
    "options = {\"title\": 'Fechas Greenest 2021',\n",
    "          \"xlabel\": 'Date',\n",
    "          \"ylabel\": 'Pixel count',\n",
    "          \"colors\": ['#1d6b99']\n",
    "          }"
   ]
  },
  {
   "cell_type": "code",
   "execution_count": 204,
   "id": "1492f0d3",
   "metadata": {
    "ExecuteTime": {
     "end_time": "2022-01-20T12:57:09.371872Z",
     "start_time": "2022-01-20T12:57:09.370406Z"
    }
   },
   "outputs": [],
   "source": [
    "# muestra = img6.sample(patagonia_grande, 10000)"
   ]
  },
  {
   "cell_type": "code",
   "execution_count": 205,
   "id": "0ad9a685",
   "metadata": {
    "ExecuteTime": {
     "end_time": "2022-01-20T12:57:09.374384Z",
     "start_time": "2022-01-20T12:57:09.372954Z"
    }
   },
   "outputs": [],
   "source": [
    "# chart.feature_histogram(muestra, property, **options)"
   ]
  },
  {
   "cell_type": "code",
   "execution_count": 206,
   "id": "922e932e",
   "metadata": {
    "ExecuteTime": {
     "end_time": "2022-01-20T12:57:09.376800Z",
     "start_time": "2022-01-20T12:57:09.375219Z"
    }
   },
   "outputs": [],
   "source": [
    "# geemap.ee_export_image_to_drive(img5_b, description='mosaico_2021_m', folder='export', region=patagonia_grande.geometry(), scale=30)"
   ]
  },
  {
   "cell_type": "markdown",
   "id": "7267523f",
   "metadata": {},
   "source": [
    "### Tasseled cap"
   ]
  },
  {
   "cell_type": "code",
   "execution_count": 207,
   "id": "427e0fc3",
   "metadata": {
    "ExecuteTime": {
     "end_time": "2022-01-20T12:57:09.379936Z",
     "start_time": "2022-01-20T12:57:09.377702Z"
    }
   },
   "outputs": [],
   "source": [
    "coef = ee.Array([\n",
    "    [0.3029, 0.2786, 0.4733, 0.5599, 0.508, 0.1872], \n",
    "    [-0.2941, -0.243, -0.5424, 0.7276, 0.0713, -0.1608],\n",
    "    [0.1511, 0.1973, 0.3283, 0.3407, -0.7117, -0.4559],\n",
    "    [-0.8239, 0.0849, 0.4396, -0.058, 0.2013, -0.2773],\n",
    "    [-0.3294, 0.0557, 0.1056, 0.1855, -0.4349, 0.8085],\n",
    "    [0.1079, -0.9023, 0.4119, 0.0575, -0.0259, 0.0252]\n",
    "])"
   ]
  },
  {
   "cell_type": "code",
   "execution_count": 208,
   "id": "7ab0a347",
   "metadata": {
    "ExecuteTime": {
     "end_time": "2022-01-20T12:57:09.382684Z",
     "start_time": "2022-01-20T12:57:09.381091Z"
    }
   },
   "outputs": [],
   "source": [
    "tasse_img5 = img5.select(['B2', 'B3', 'B4', 'B5', 'B6', 'B7'])"
   ]
  },
  {
   "cell_type": "code",
   "execution_count": 209,
   "id": "9e34972d",
   "metadata": {
    "ExecuteTime": {
     "end_time": "2022-01-20T12:57:09.385331Z",
     "start_time": "2022-01-20T12:57:09.383641Z"
    }
   },
   "outputs": [],
   "source": [
    "arrayimage1d = tasse_img5.toArray()"
   ]
  },
  {
   "cell_type": "code",
   "execution_count": 210,
   "id": "3c3e3a70",
   "metadata": {
    "ExecuteTime": {
     "end_time": "2022-01-20T12:57:09.387989Z",
     "start_time": "2022-01-20T12:57:09.386300Z"
    }
   },
   "outputs": [],
   "source": [
    "arrayimage2d = arrayimage1d.toArray(1)"
   ]
  },
  {
   "cell_type": "code",
   "execution_count": 211,
   "id": "0ae9ab01",
   "metadata": {
    "ExecuteTime": {
     "end_time": "2022-01-20T12:57:09.390690Z",
     "start_time": "2022-01-20T12:57:09.388924Z"
    }
   },
   "outputs": [],
   "source": [
    "componentes = ee.Image(coef)\\\n",
    "                .matrixMultiply(arrayimage2d) \\\n",
    "                .arrayProject([0])\\\n",
    "                .arrayFlatten(\n",
    "                [['brightness','greenness','wetness','fourth','fifth','sixth']])"
   ]
  },
  {
   "cell_type": "code",
   "execution_count": 212,
   "id": "b058be26",
   "metadata": {
    "ExecuteTime": {
     "end_time": "2022-01-20T12:57:09.393369Z",
     "start_time": "2022-01-20T12:57:09.391685Z"
    }
   },
   "outputs": [],
   "source": [
    "vizParamstess = {\n",
    "  'bands': ['brightness', 'greenness', 'wetness'],\n",
    "    'min': -0.1,\n",
    "    'max': [0.6, 0.2, 0.2]\n",
    "}\n"
   ]
  },
  {
   "cell_type": "code",
   "execution_count": 213,
   "id": "9dc2abf8",
   "metadata": {
    "ExecuteTime": {
     "end_time": "2022-01-20T12:57:11.955714Z",
     "start_time": "2022-01-20T12:57:09.394234Z"
    }
   },
   "outputs": [
    {
     "data": {
      "application/vnd.jupyter.widget-view+json": {
       "model_id": "8a1f5be15d4d4df79e0c98c4a84447ea",
       "version_major": 2,
       "version_minor": 0
      },
      "text/plain": [
       "Map(center=[-45, -70], controls=(WidgetControl(options=['position', 'transparent_bg'], widget=HBox(children=(T…"
      ]
     },
     "metadata": {},
     "output_type": "display_data"
    }
   ],
   "source": [
    "Map10.addLayer(componentes,vizParamstess, 'Tesseled cap')\n",
    "Map10"
   ]
  },
  {
   "cell_type": "code",
   "execution_count": 214,
   "id": "7bc09ac4",
   "metadata": {
    "ExecuteTime": {
     "end_time": "2022-01-20T12:57:11.958130Z",
     "start_time": "2022-01-20T12:57:11.956658Z"
    }
   },
   "outputs": [],
   "source": [
    "# task = ee.batch.Export.image.toAsset(**{\n",
    "#     'image': componentes ,\n",
    "#     'description':'Tasseled 2021',\n",
    "#     'assetId':'users/franciscoalbornoz/Tasseled_2021',\n",
    "#     'scale': 30,\n",
    "#     'maxPixels': 1e13\n",
    "# })"
   ]
  },
  {
   "cell_type": "code",
   "execution_count": 215,
   "id": "6e3983e0",
   "metadata": {
    "ExecuteTime": {
     "end_time": "2022-01-20T12:57:11.960867Z",
     "start_time": "2022-01-20T12:57:11.959315Z"
    }
   },
   "outputs": [],
   "source": [
    "# task.start()"
   ]
  },
  {
   "cell_type": "markdown",
   "id": "c36bd436",
   "metadata": {},
   "source": [
    "### Combinación de bandas"
   ]
  },
  {
   "cell_type": "code",
   "execution_count": 216,
   "id": "9e796ad0",
   "metadata": {
    "ExecuteTime": {
     "end_time": "2022-01-20T12:57:11.963923Z",
     "start_time": "2022-01-20T12:57:11.961993Z"
    }
   },
   "outputs": [],
   "source": [
    "img_final = img5.select('B1','B2','B3','B4','B5','B6','B7','NDVI','NDWI','NDGI','SAVI','NDSI')\n",
    "img_final = img_final.addBands(componentes) "
   ]
  },
  {
   "cell_type": "code",
   "execution_count": 217,
   "id": "1946e239",
   "metadata": {
    "ExecuteTime": {
     "end_time": "2022-01-20T12:57:13.653874Z",
     "start_time": "2022-01-20T12:57:11.964770Z"
    }
   },
   "outputs": [
    {
     "data": {
      "text/plain": [
       "['B1',\n",
       " 'B2',\n",
       " 'B3',\n",
       " 'B4',\n",
       " 'B5',\n",
       " 'B6',\n",
       " 'B7',\n",
       " 'NDVI',\n",
       " 'NDWI',\n",
       " 'NDGI',\n",
       " 'SAVI',\n",
       " 'NDSI',\n",
       " 'brightness',\n",
       " 'greenness',\n",
       " 'wetness',\n",
       " 'fourth',\n",
       " 'fifth',\n",
       " 'sixth']"
      ]
     },
     "execution_count": 217,
     "metadata": {},
     "output_type": "execute_result"
    }
   ],
   "source": [
    "img_final.bandNames().getInfo()"
   ]
  },
  {
   "cell_type": "markdown",
   "id": "c8f38c76",
   "metadata": {},
   "source": [
    "## Mosaicos Matched"
   ]
  },
  {
   "cell_type": "code",
   "execution_count": 218,
   "id": "d5725d05",
   "metadata": {
    "ExecuteTime": {
     "end_time": "2022-01-20T12:57:13.657085Z",
     "start_time": "2022-01-20T12:57:13.654876Z"
    }
   },
   "outputs": [],
   "source": [
    "NDVI_2021_landsat_m = QM_NDVI_2021_m.set('SENSOR_ID', 'OLI_TIRS')"
   ]
  },
  {
   "cell_type": "code",
   "execution_count": 219,
   "id": "3ec3ce95",
   "metadata": {
    "ExecuteTime": {
     "end_time": "2022-01-20T12:57:13.659705Z",
     "start_time": "2022-01-20T12:57:13.657962Z"
    }
   },
   "outputs": [],
   "source": [
    "cloud_2021_m = ee.Algorithms.Landsat.simpleCloudScore(NDVI_2021_landsat_m)"
   ]
  },
  {
   "cell_type": "code",
   "execution_count": 220,
   "id": "1d06d4e6",
   "metadata": {
    "ExecuteTime": {
     "end_time": "2022-01-20T12:57:13.662263Z",
     "start_time": "2022-01-20T12:57:13.660744Z"
    }
   },
   "outputs": [],
   "source": [
    "cloud_2021_m = cloud_2021_m.select('cloud')"
   ]
  },
  {
   "cell_type": "code",
   "execution_count": 221,
   "id": "204cf196",
   "metadata": {
    "ExecuteTime": {
     "end_time": "2022-01-20T12:57:13.664996Z",
     "start_time": "2022-01-20T12:57:13.663366Z"
    }
   },
   "outputs": [],
   "source": [
    "palette_nubes = ['#1a9850', '#66bd63', '#a6d96a', '#d9ef8b', '#fee08b', '#fdae61', '#f46d43', '#d73027']"
   ]
  },
  {
   "cell_type": "code",
   "execution_count": 222,
   "id": "90667fcb",
   "metadata": {
    "ExecuteTime": {
     "end_time": "2022-01-20T12:57:13.667695Z",
     "start_time": "2022-01-20T12:57:13.666016Z"
    }
   },
   "outputs": [],
   "source": [
    "QM_NDVI_2021_m = ee.Image(QM_NDVI_2021_m)"
   ]
  },
  {
   "cell_type": "code",
   "execution_count": 223,
   "id": "8c7e8e20",
   "metadata": {
    "ExecuteTime": {
     "end_time": "2022-01-20T12:57:13.670514Z",
     "start_time": "2022-01-20T12:57:13.668658Z"
    }
   },
   "outputs": [],
   "source": [
    "resultados= [cloud_2021_m, QM_NDVI_2021_m]\n",
    "vis_params2=  [\n",
    "    {'palette':palette_nubes}, \n",
    "    vizParams]\n",
    "labels = [\n",
    "    'Nubes 2021',\n",
    "    'QM NDVI 2021']"
   ]
  },
  {
   "cell_type": "code",
   "execution_count": 224,
   "id": "37ff14a0",
   "metadata": {
    "ExecuteTime": {
     "end_time": "2022-01-20T12:57:13.672953Z",
     "start_time": "2022-01-20T12:57:13.671461Z"
    }
   },
   "outputs": [],
   "source": [
    "# geemap.linked_maps(rows=1, cols=2, height=\"400px\", center=[-45, -75], zoom=4, \n",
    "#                    ee_objects=resultados, vis_params=vis_params2, labels=labels, label_position=\"topright\")"
   ]
  },
  {
   "cell_type": "code",
   "execution_count": 225,
   "id": "dfb9ff31",
   "metadata": {
    "ExecuteTime": {
     "end_time": "2022-01-20T12:57:13.675641Z",
     "start_time": "2022-01-20T12:57:13.674063Z"
    }
   },
   "outputs": [],
   "source": [
    "def llenado(image):\n",
    "    return image.where(cloud_2021_m.gt(10),NDVI_tier1)"
   ]
  },
  {
   "cell_type": "code",
   "execution_count": 226,
   "id": "fcc244dd",
   "metadata": {
    "ExecuteTime": {
     "end_time": "2022-01-20T12:57:13.678277Z",
     "start_time": "2022-01-20T12:57:13.676699Z"
    }
   },
   "outputs": [],
   "source": [
    "img1_m = llenado(QM_NDVI_2021_m)"
   ]
  },
  {
   "cell_type": "code",
   "execution_count": 227,
   "id": "5966e81c",
   "metadata": {
    "ExecuteTime": {
     "end_time": "2022-01-20T12:57:13.681088Z",
     "start_time": "2022-01-20T12:57:13.679317Z"
    }
   },
   "outputs": [],
   "source": [
    "img1_landsat_m = img1_m.set('SENSOR_ID', 'OLI_TIRS')\n",
    "cloud_img1_m = ee.Algorithms.Landsat.simpleCloudScore(img1_landsat_m)\n",
    "cloud_img1_m = cloud_img1_m.select('cloud')"
   ]
  },
  {
   "cell_type": "code",
   "execution_count": 228,
   "id": "cb935b42",
   "metadata": {
    "ExecuteTime": {
     "end_time": "2022-01-20T12:57:13.683470Z",
     "start_time": "2022-01-20T12:57:13.682030Z"
    }
   },
   "outputs": [],
   "source": [
    "img1_m = ee.Image(img1_m)"
   ]
  },
  {
   "cell_type": "code",
   "execution_count": 229,
   "id": "a6038438",
   "metadata": {
    "ExecuteTime": {
     "end_time": "2022-01-20T12:57:13.686323Z",
     "start_time": "2022-01-20T12:57:13.684535Z"
    }
   },
   "outputs": [],
   "source": [
    "resultados= [cloud_img1_m, img1_m]\n",
    "vis_params2=  [\n",
    "    {'palette':palette_nubes}, \n",
    "    vizParams]\n",
    "labels = [\n",
    "    'Nubes Mosaico 1',\n",
    "    'Mosaico 1']"
   ]
  },
  {
   "cell_type": "code",
   "execution_count": 230,
   "id": "ff549bfe",
   "metadata": {
    "ExecuteTime": {
     "end_time": "2022-01-20T12:57:13.688759Z",
     "start_time": "2022-01-20T12:57:13.687298Z"
    }
   },
   "outputs": [],
   "source": [
    "# geemap.linked_maps(rows=1, cols=2, height=\"400px\", center=[-45, -75], zoom=4, \n",
    "#                    ee_objects=resultados, vis_params=vis_params2, labels=labels, label_position=\"topright\")"
   ]
  },
  {
   "cell_type": "code",
   "execution_count": 231,
   "id": "11700bca",
   "metadata": {
    "ExecuteTime": {
     "end_time": "2022-01-20T12:57:13.691575Z",
     "start_time": "2022-01-20T12:57:13.689925Z"
    }
   },
   "outputs": [],
   "source": [
    "def llenado2(image):\n",
    "    return image.where(cloud_img1_m.gt(10), NDVI_tier2)"
   ]
  },
  {
   "cell_type": "code",
   "execution_count": 232,
   "id": "b9a26883",
   "metadata": {
    "ExecuteTime": {
     "end_time": "2022-01-20T12:57:13.694321Z",
     "start_time": "2022-01-20T12:57:13.692616Z"
    }
   },
   "outputs": [],
   "source": [
    "img2_m = llenado2(img1_m)"
   ]
  },
  {
   "cell_type": "code",
   "execution_count": 233,
   "id": "47a8156c",
   "metadata": {
    "ExecuteTime": {
     "end_time": "2022-01-20T12:57:13.697101Z",
     "start_time": "2022-01-20T12:57:13.695313Z"
    }
   },
   "outputs": [],
   "source": [
    "img2_landsat_m = img2_m.set('SENSOR_ID', 'OLI_TIRS')\n",
    "cloud_img2_m = ee.Algorithms.Landsat.simpleCloudScore(img2_landsat_m)\n",
    "cloud_img2_m = cloud_img2_m.select('cloud')"
   ]
  },
  {
   "cell_type": "code",
   "execution_count": 234,
   "id": "b6747689",
   "metadata": {
    "ExecuteTime": {
     "end_time": "2022-01-20T12:57:13.699658Z",
     "start_time": "2022-01-20T12:57:13.698161Z"
    }
   },
   "outputs": [],
   "source": [
    "img2_m = ee.Image(img2_m)"
   ]
  },
  {
   "cell_type": "code",
   "execution_count": 235,
   "id": "8a4648ba",
   "metadata": {
    "ExecuteTime": {
     "end_time": "2022-01-20T12:57:13.702363Z",
     "start_time": "2022-01-20T12:57:13.700728Z"
    }
   },
   "outputs": [],
   "source": [
    "resultados= [cloud_img2_m, img2_m]\n",
    "vis_params2=  [\n",
    "    {'palette':palette_nubes}, \n",
    "    vizParams]\n",
    "labels = [\n",
    "    'Nubes Mosaico 2',\n",
    "    'Mosaico 2']"
   ]
  },
  {
   "cell_type": "code",
   "execution_count": 236,
   "id": "5c6eee6f",
   "metadata": {
    "ExecuteTime": {
     "end_time": "2022-01-20T12:57:13.704886Z",
     "start_time": "2022-01-20T12:57:13.703486Z"
    }
   },
   "outputs": [],
   "source": [
    "# geemap.linked_maps(rows=1, cols=2, height=\"400px\", center=[-45, -75], zoom=4, \n",
    "#                    ee_objects=resultados, vis_params=vis_params2, labels=labels, label_position=\"topright\")"
   ]
  },
  {
   "cell_type": "code",
   "execution_count": 237,
   "id": "c3c15ccb",
   "metadata": {
    "ExecuteTime": {
     "end_time": "2022-01-20T12:57:13.707655Z",
     "start_time": "2022-01-20T12:57:13.706007Z"
    }
   },
   "outputs": [],
   "source": [
    "def llenado3(image):\n",
    "    return image.where(cloud_img2_m.gt(10), NDVI_tier3)"
   ]
  },
  {
   "cell_type": "code",
   "execution_count": 238,
   "id": "be4d98dc",
   "metadata": {
    "ExecuteTime": {
     "end_time": "2022-01-20T12:57:13.710360Z",
     "start_time": "2022-01-20T12:57:13.708792Z"
    }
   },
   "outputs": [],
   "source": [
    "img3_m = llenado3(img2_m)"
   ]
  },
  {
   "cell_type": "code",
   "execution_count": 239,
   "id": "6afe5e92",
   "metadata": {
    "ExecuteTime": {
     "end_time": "2022-01-20T12:57:13.713287Z",
     "start_time": "2022-01-20T12:57:13.711484Z"
    }
   },
   "outputs": [],
   "source": [
    "img3_landsat_m = img3_m.set('SENSOR_ID', 'OLI_TIRS')\n",
    "cloud_img3_m = ee.Algorithms.Landsat.simpleCloudScore(img3_landsat_m)\n",
    "cloud_img3_m = cloud_img3_m.select('cloud')"
   ]
  },
  {
   "cell_type": "code",
   "execution_count": 240,
   "id": "63e6b3e5",
   "metadata": {
    "ExecuteTime": {
     "end_time": "2022-01-20T12:57:13.715943Z",
     "start_time": "2022-01-20T12:57:13.714363Z"
    }
   },
   "outputs": [],
   "source": [
    "img3_m = ee.Image(img3_m)"
   ]
  },
  {
   "cell_type": "code",
   "execution_count": 241,
   "id": "ae7dc873",
   "metadata": {
    "ExecuteTime": {
     "end_time": "2022-01-20T12:57:13.718727Z",
     "start_time": "2022-01-20T12:57:13.717162Z"
    }
   },
   "outputs": [],
   "source": [
    "resultados= [cloud_img3_m, img3_m]\n",
    "vis_params2=  [\n",
    "    {'palette':palette_nubes}, \n",
    "    vizParams]\n",
    "labels = [\n",
    "    'Nubes Mosaico 3',\n",
    "    'Mosaico 3']"
   ]
  },
  {
   "cell_type": "code",
   "execution_count": 242,
   "id": "9da14b29",
   "metadata": {
    "ExecuteTime": {
     "end_time": "2022-01-20T12:57:13.721223Z",
     "start_time": "2022-01-20T12:57:13.719866Z"
    }
   },
   "outputs": [],
   "source": [
    "# geemap.linked_maps(rows=1, cols=2, height=\"400px\", center=[-45, -75], zoom=4, \n",
    "#                    ee_objects=resultados, vis_params=vis_params2, labels=labels, label_position=\"topright\")"
   ]
  },
  {
   "cell_type": "code",
   "execution_count": 243,
   "id": "b4962662",
   "metadata": {
    "ExecuteTime": {
     "end_time": "2022-01-20T12:57:13.723935Z",
     "start_time": "2022-01-20T12:57:13.722336Z"
    }
   },
   "outputs": [],
   "source": [
    "def llenado4(image):\n",
    "    return image.where(cloud_img3_m.gt(10), NDVI_tier4)"
   ]
  },
  {
   "cell_type": "code",
   "execution_count": 244,
   "id": "d84c0a97",
   "metadata": {
    "ExecuteTime": {
     "end_time": "2022-01-20T12:57:13.742107Z",
     "start_time": "2022-01-20T12:57:13.740283Z"
    }
   },
   "outputs": [],
   "source": [
    "img4_m = llenado4(img3_m)"
   ]
  },
  {
   "cell_type": "code",
   "execution_count": 245,
   "id": "c39b50e8",
   "metadata": {
    "ExecuteTime": {
     "end_time": "2022-01-20T12:57:13.745105Z",
     "start_time": "2022-01-20T12:57:13.743308Z"
    }
   },
   "outputs": [],
   "source": [
    "img4_landsat_m = img4_m.set('SENSOR_ID', 'OLI_TIRS')\n",
    "cloud_img4_m = ee.Algorithms.Landsat.simpleCloudScore(img4_landsat_m)\n",
    "cloud_img4_m = cloud_img4_m.select('cloud')"
   ]
  },
  {
   "cell_type": "code",
   "execution_count": 246,
   "id": "7b4625f1",
   "metadata": {
    "ExecuteTime": {
     "end_time": "2022-01-20T12:57:13.747717Z",
     "start_time": "2022-01-20T12:57:13.746223Z"
    }
   },
   "outputs": [],
   "source": [
    "img4_m = ee.Image(img4_m)"
   ]
  },
  {
   "cell_type": "code",
   "execution_count": 247,
   "id": "b5eeb495",
   "metadata": {
    "ExecuteTime": {
     "end_time": "2022-01-20T12:57:13.750493Z",
     "start_time": "2022-01-20T12:57:13.748771Z"
    }
   },
   "outputs": [],
   "source": [
    "resultados= [cloud_img4_m, img4_m]\n",
    "vis_params2=  [\n",
    "    {'palette':palette_nubes}, \n",
    "    vizParams]\n",
    "labels = [\n",
    "    'Nubes Mosaico 4',\n",
    "    'Mosaico 4']"
   ]
  },
  {
   "cell_type": "code",
   "execution_count": 248,
   "id": "fb6d9f07",
   "metadata": {
    "ExecuteTime": {
     "end_time": "2022-01-20T12:57:13.753131Z",
     "start_time": "2022-01-20T12:57:13.751635Z"
    }
   },
   "outputs": [],
   "source": [
    "# geemap.linked_maps(rows=1, cols=2, height=\"400px\", center=[-45, -75], zoom=4, \n",
    "#                    ee_objects=resultados, vis_params=vis_params2, labels=labels, label_position=\"topright\")"
   ]
  },
  {
   "cell_type": "code",
   "execution_count": 249,
   "id": "6400890d",
   "metadata": {
    "ExecuteTime": {
     "end_time": "2022-01-20T12:57:13.755841Z",
     "start_time": "2022-01-20T12:57:13.754172Z"
    }
   },
   "outputs": [],
   "source": [
    "hansenImage = ee.Image('UMD/hansen/global_forest_change_2015')\n",
    "datamask = hansenImage.select('datamask')"
   ]
  },
  {
   "cell_type": "code",
   "execution_count": 250,
   "id": "25bc284f",
   "metadata": {
    "ExecuteTime": {
     "end_time": "2022-01-20T12:57:13.758536Z",
     "start_time": "2022-01-20T12:57:13.756661Z"
    }
   },
   "outputs": [],
   "source": [
    "def llenado5(image):\n",
    "    return image.where(datamask.eq(2), NWVI_tier)"
   ]
  },
  {
   "cell_type": "code",
   "execution_count": 251,
   "id": "056eee78",
   "metadata": {
    "ExecuteTime": {
     "end_time": "2022-01-20T12:57:13.761158Z",
     "start_time": "2022-01-20T12:57:13.759573Z"
    }
   },
   "outputs": [],
   "source": [
    "img5_m = llenado5(img4_m)"
   ]
  },
  {
   "cell_type": "code",
   "execution_count": 252,
   "id": "059bcbe2",
   "metadata": {
    "ExecuteTime": {
     "end_time": "2022-01-20T12:57:13.764068Z",
     "start_time": "2022-01-20T12:57:13.762279Z"
    }
   },
   "outputs": [],
   "source": [
    "img5_landsat_m = img5_m.set('SENSOR_ID', 'OLI_TIRS')\n",
    "cloud_img5_m = ee.Algorithms.Landsat.simpleCloudScore(img5_landsat_m)\n",
    "cloud_img5_m = cloud_img5_m.select('cloud')"
   ]
  },
  {
   "cell_type": "code",
   "execution_count": 253,
   "id": "bdcc43da",
   "metadata": {
    "ExecuteTime": {
     "end_time": "2022-01-20T12:57:13.766877Z",
     "start_time": "2022-01-20T12:57:13.765125Z"
    }
   },
   "outputs": [],
   "source": [
    "resultados= [cloud_img5_m, img5_m]\n",
    "vis_params2=  [\n",
    "    {'palette':palette_nubes}, \n",
    "    vizParams]\n",
    "labels = [\n",
    "    'Nubes Mosaico 5',\n",
    "    'Mosaico 5']"
   ]
  },
  {
   "cell_type": "code",
   "execution_count": 254,
   "id": "b3c90c9e",
   "metadata": {
    "ExecuteTime": {
     "end_time": "2022-01-20T12:57:13.769464Z",
     "start_time": "2022-01-20T12:57:13.768021Z"
    }
   },
   "outputs": [],
   "source": [
    "# geemap.linked_maps(rows=1, cols=2, height=\"400px\", center=[-45, -75], zoom=4, \n",
    "#                    ee_objects=resultados, vis_params=vis_params2, labels=labels, label_position=\"topright\")"
   ]
  },
  {
   "cell_type": "code",
   "execution_count": 255,
   "id": "70e58e52",
   "metadata": {
    "ExecuteTime": {
     "end_time": "2022-01-20T12:57:13.771974Z",
     "start_time": "2022-01-20T12:57:13.770438Z"
    }
   },
   "outputs": [],
   "source": [
    "# img6_m.bandNames().getInfo()"
   ]
  },
  {
   "cell_type": "code",
   "execution_count": 256,
   "id": "bf45a446",
   "metadata": {
    "ExecuteTime": {
     "end_time": "2022-01-20T12:57:13.774484Z",
     "start_time": "2022-01-20T12:57:13.773008Z"
    }
   },
   "outputs": [],
   "source": [
    "img5_m = ee.Image(img5_m)"
   ]
  },
  {
   "cell_type": "code",
   "execution_count": 257,
   "id": "73e9f0f9",
   "metadata": {
    "ExecuteTime": {
     "end_time": "2022-01-20T12:57:13.777111Z",
     "start_time": "2022-01-20T12:57:13.775481Z"
    }
   },
   "outputs": [],
   "source": [
    "resultados= [img4_m, img5_m]\n",
    "labels = [\n",
    "    'Mosaico 4',\n",
    "    'Mosaico 5']\n",
    "vis_params3=  [\n",
    "     vizParams, \n",
    "    vizParams]"
   ]
  },
  {
   "cell_type": "code",
   "execution_count": 258,
   "id": "47eb7b43",
   "metadata": {
    "ExecuteTime": {
     "end_time": "2022-01-20T12:57:13.779585Z",
     "start_time": "2022-01-20T12:57:13.778276Z"
    }
   },
   "outputs": [],
   "source": [
    "# geemap.linked_maps(rows=1, cols=2, height=\"400px\", center=[-45, -75], zoom=4, \n",
    "#                    ee_objects=resultados, vis_params=vis_params3, labels=labels, label_position=\"topright\")"
   ]
  },
  {
   "cell_type": "code",
   "execution_count": 259,
   "id": "6116e6db",
   "metadata": {
    "ExecuteTime": {
     "end_time": "2022-01-20T12:57:13.782042Z",
     "start_time": "2022-01-20T12:57:13.780614Z"
    }
   },
   "outputs": [],
   "source": [
    "# img5_m.bandNames().getInfo()"
   ]
  },
  {
   "cell_type": "code",
   "execution_count": 260,
   "id": "0645dcd8",
   "metadata": {
    "ExecuteTime": {
     "end_time": "2022-01-20T12:57:13.784765Z",
     "start_time": "2022-01-20T12:57:13.783076Z"
    }
   },
   "outputs": [],
   "source": [
    "img5_m_bandas = img5_m.select(['B1','B2','B3','B4','B5','B6','B7'])"
   ]
  },
  {
   "cell_type": "code",
   "execution_count": 261,
   "id": "eae34253",
   "metadata": {
    "ExecuteTime": {
     "end_time": "2022-01-20T12:57:13.787277Z",
     "start_time": "2022-01-20T12:57:13.785660Z"
    }
   },
   "outputs": [],
   "source": [
    "vizParams2 = {\n",
    "  'bands': ['B5', 'B4', 'B3'],\n",
    "  'min': 0,\n",
    "  'max': 0.2,\n",
    "  'gamma': [1, 1.1, 1]\n",
    "}"
   ]
  },
  {
   "cell_type": "markdown",
   "id": "71cfd395",
   "metadata": {},
   "source": [
    "### Resultado Final"
   ]
  },
  {
   "cell_type": "code",
   "execution_count": 262,
   "id": "f6becda0",
   "metadata": {
    "ExecuteTime": {
     "end_time": "2022-01-20T12:57:13.789807Z",
     "start_time": "2022-01-20T12:57:13.788359Z"
    }
   },
   "outputs": [],
   "source": [
    "# Map10.addLayer(img5_m_bandas, vizParams2, 'Mosaico 5m')\n",
    "# Map10"
   ]
  },
  {
   "cell_type": "code",
   "execution_count": 263,
   "id": "83a452f1",
   "metadata": {
    "ExecuteTime": {
     "end_time": "2022-01-20T12:57:13.792443Z",
     "start_time": "2022-01-20T12:57:13.790878Z"
    }
   },
   "outputs": [],
   "source": [
    "# Map12.addLayer(img6_m_bandas, vizParams2, 'Mosaico 6m')\n",
    "# Map12"
   ]
  },
  {
   "cell_type": "code",
   "execution_count": 264,
   "id": "6d9a5474",
   "metadata": {
    "ExecuteTime": {
     "end_time": "2022-01-20T12:57:13.794962Z",
     "start_time": "2022-01-20T12:57:13.793388Z"
    }
   },
   "outputs": [],
   "source": [
    "# img6_m.bandNames().getInfo()"
   ]
  },
  {
   "cell_type": "code",
   "execution_count": 265,
   "id": "92e28956",
   "metadata": {
    "ExecuteTime": {
     "end_time": "2022-01-20T12:57:13.797320Z",
     "start_time": "2022-01-20T12:57:13.796014Z"
    }
   },
   "outputs": [],
   "source": [
    "# geemap.ee_export_image_to_drive(img5_m, description='mosaico_2021_m', folder='export', region=patagonia_grande.geometry(), scale=30)"
   ]
  },
  {
   "cell_type": "markdown",
   "id": "1e872319",
   "metadata": {},
   "source": [
    "## Clasificación"
   ]
  },
  {
   "cell_type": "code",
   "execution_count": 266,
   "id": "3d3603e3",
   "metadata": {
    "ExecuteTime": {
     "end_time": "2022-01-20T12:57:13.799858Z",
     "start_time": "2022-01-20T12:57:13.798333Z"
    }
   },
   "outputs": [],
   "source": [
    "val_shp = os.path.join(work_dir, 'validacion.shp')\n",
    "merged_original = os.path.join(work_dir,'datos_1.shp')"
   ]
  },
  {
   "cell_type": "code",
   "execution_count": 267,
   "id": "8093616d",
   "metadata": {
    "ExecuteTime": {
     "end_time": "2022-01-20T12:57:21.384910Z",
     "start_time": "2022-01-20T12:57:13.800865Z"
    }
   },
   "outputs": [],
   "source": [
    "test1 = os.path.join(work_dir,'p9.shp')\n",
    "test1 = geemap.shp_to_ee(test1)\n",
    "Map13.addLayer(test1, {}, 'Áreas de entrenamiento')"
   ]
  },
  {
   "cell_type": "code",
   "execution_count": 268,
   "id": "bf7bfdeb",
   "metadata": {
    "ExecuteTime": {
     "end_time": "2022-01-20T12:57:21.811757Z",
     "start_time": "2022-01-20T12:57:21.386002Z"
    }
   },
   "outputs": [],
   "source": [
    "val = geemap.shp_to_ee(val_shp)\n",
    "# Map13.addLayer(val, {}, 'Áreas de Validación')"
   ]
  },
  {
   "cell_type": "code",
   "execution_count": 269,
   "id": "3b636946",
   "metadata": {
    "ExecuteTime": {
     "end_time": "2022-01-20T12:57:22.363952Z",
     "start_time": "2022-01-20T12:57:21.812788Z"
    }
   },
   "outputs": [],
   "source": [
    "mergedoriginal = geemap.shp_to_ee(merged_original)\n",
    "# Map13.addLayer( mergedoriginal, {}, 'Áreas de entrenamiento Original')"
   ]
  },
  {
   "cell_type": "code",
   "execution_count": 270,
   "id": "c266e87a",
   "metadata": {
    "ExecuteTime": {
     "end_time": "2022-01-20T12:57:22.369659Z",
     "start_time": "2022-01-20T12:57:22.365065Z"
    }
   },
   "outputs": [
    {
     "data": {
      "application/vnd.jupyter.widget-view+json": {
       "model_id": "6d535165582847f69d20b824778636d8",
       "version_major": 2,
       "version_minor": 0
      },
      "text/plain": [
       "Map(center=[-45, -70], controls=(WidgetControl(options=['position', 'transparent_bg'], widget=HBox(children=(T…"
      ]
     },
     "metadata": {},
     "output_type": "display_data"
    }
   ],
   "source": [
    "Map13"
   ]
  },
  {
   "cell_type": "code",
   "execution_count": 271,
   "id": "85616c66",
   "metadata": {
    "ExecuteTime": {
     "end_time": "2022-01-20T12:57:22.372678Z",
     "start_time": "2022-01-20T12:57:22.370947Z"
    }
   },
   "outputs": [],
   "source": [
    "# img6_m = addNDVI(img6_m)\n",
    "# img6_m = addNDWI(img6_m)\n",
    "# img6_m = addNDGI(img6_m)\n",
    "# img6_m = addSAVI(img6_m)\n",
    "# img6_m = addNDSI(img6_m)\n",
    "# img6_m = addDate(img6_m)\n",
    "# img6_m = addCloud(img6_m)"
   ]
  },
  {
   "cell_type": "code",
   "execution_count": 272,
   "id": "7f16c9ef",
   "metadata": {
    "ExecuteTime": {
     "end_time": "2022-01-20T12:57:22.375755Z",
     "start_time": "2022-01-20T12:57:22.373734Z"
    }
   },
   "outputs": [],
   "source": [
    "dataset = img_final.sampleRegions(**{\n",
    "    'collection': mergedoriginal,\n",
    "    'properties': ['ID'],\n",
    "    'scale': 30,\n",
    "    'tileScale': 2,\n",
    "})"
   ]
  },
  {
   "cell_type": "code",
   "execution_count": 273,
   "id": "19076563",
   "metadata": {
    "ExecuteTime": {
     "end_time": "2022-01-20T12:57:22.378606Z",
     "start_time": "2022-01-20T12:57:22.376756Z"
    }
   },
   "outputs": [],
   "source": [
    "datasetval = img_final.sampleRegions(**{\n",
    "    'collection': val,\n",
    "    'properties': ['ID'],\n",
    "    'scale': 30,\n",
    "    'tileScale': 2,\n",
    "})"
   ]
  },
  {
   "cell_type": "code",
   "execution_count": 274,
   "id": "613b1401",
   "metadata": {
    "ExecuteTime": {
     "end_time": "2022-01-20T12:57:22.381510Z",
     "start_time": "2022-01-20T12:57:22.379770Z"
    }
   },
   "outputs": [],
   "source": [
    "test_data = img_final.sampleRegions(**{\n",
    "    'collection': test1,\n",
    "    'properties': ['C_ID'],\n",
    "    'scale': 30,\n",
    "    'tileScale': 2,\n",
    "})"
   ]
  },
  {
   "cell_type": "code",
   "execution_count": 275,
   "id": "50297559",
   "metadata": {
    "ExecuteTime": {
     "end_time": "2022-01-20T12:57:22.384515Z",
     "start_time": "2022-01-20T12:57:22.382647Z"
    }
   },
   "outputs": [],
   "source": [
    "test_dataval = img_final.sampleRegions(**{\n",
    "    'collection': val,\n",
    "    'properties': ['C_ID'],\n",
    "    'scale': 30,\n",
    "    'tileScale': 2,\n",
    "})"
   ]
  },
  {
   "cell_type": "code",
   "execution_count": 276,
   "id": "5273b637",
   "metadata": {
    "ExecuteTime": {
     "end_time": "2022-01-20T12:57:22.387225Z",
     "start_time": "2022-01-20T12:57:22.385539Z"
    }
   },
   "outputs": [],
   "source": [
    "datasetMatch = img5_m.sampleRegions(**{\n",
    "    'collection': mergedoriginal,\n",
    "    'properties': ['ID'],\n",
    "    'scale': 30,\n",
    "    'tileScale': 2,\n",
    "})"
   ]
  },
  {
   "cell_type": "code",
   "execution_count": 277,
   "id": "e34adb30",
   "metadata": {
    "ExecuteTime": {
     "end_time": "2022-01-20T12:57:22.390032Z",
     "start_time": "2022-01-20T12:57:22.388349Z"
    }
   },
   "outputs": [],
   "source": [
    "datasetvalMatch= img5_m.sampleRegions(**{\n",
    "    'collection': val,\n",
    "    'properties': ['ID'],\n",
    "    'scale': 30,\n",
    "    'tileScale': 2,\n",
    "})"
   ]
  },
  {
   "cell_type": "code",
   "execution_count": 278,
   "id": "0be21169",
   "metadata": {
    "ExecuteTime": {
     "end_time": "2022-01-20T12:59:24.529615Z",
     "start_time": "2022-01-20T12:57:22.391223Z"
    }
   },
   "outputs": [
    {
     "name": "stdout",
     "output_type": "stream",
     "text": [
      "26633\n"
     ]
    }
   ],
   "source": [
    "print(test_data.size().getInfo())"
   ]
  },
  {
   "cell_type": "code",
   "execution_count": 279,
   "id": "0cdba8cd",
   "metadata": {
    "ExecuteTime": {
     "end_time": "2022-01-20T12:59:34.311292Z",
     "start_time": "2022-01-20T12:59:24.530633Z"
    }
   },
   "outputs": [
    {
     "name": "stdout",
     "output_type": "stream",
     "text": [
      "{'type': 'Feature', 'geometry': None, 'id': '0_0', 'properties': {'B1': 0.11252016574144363, 'B2': 0.09453023225069046, 'B3': 0.06702318787574768, 'B4': 0.02883610874414444, 'B5': 0.00901869684457779, 'B6': 0.001329067163169384, 'B7': 0.0006645311950705945, 'C_ID': 7, 'NDGI': 0.39836594462394714, 'NDSI': 0.9611112475395203, 'NDVI': -0.5235111117362976, 'NDWI': 0.7627965807914734, 'SAVI': -0.055267922756239984, 'brightness': 0.06680313497781754, 'fifth': -0.022727742791175842, 'fourth': -0.05995665490627289, 'greenness': -0.05317877233028412, 'sixth': -0.037896718829870224, 'wetness': 0.03879790008068085}}\n"
     ]
    }
   ],
   "source": [
    "print(test_data.first().getInfo())"
   ]
  },
  {
   "cell_type": "code",
   "execution_count": 280,
   "id": "5c27d8ab",
   "metadata": {
    "ExecuteTime": {
     "end_time": "2022-01-20T12:59:34.314016Z",
     "start_time": "2022-01-20T12:59:34.312321Z"
    }
   },
   "outputs": [],
   "source": [
    "# print(datasetval.first().getInfo())"
   ]
  },
  {
   "cell_type": "markdown",
   "id": "65efc69f",
   "metadata": {},
   "source": [
    "### Muestras y datos de validación"
   ]
  },
  {
   "cell_type": "code",
   "execution_count": 281,
   "id": "9f4082a9",
   "metadata": {
    "ExecuteTime": {
     "end_time": "2022-01-20T12:59:34.318020Z",
     "start_time": "2022-01-20T12:59:34.314707Z"
    }
   },
   "outputs": [],
   "source": [
    "# Guardamos las bandas\n",
    "\n",
    "# Esta propiedad guarda las clases de landcover\n",
    "# label = 'b1'\n",
    "label = 'IDH'\n",
    "label1 = 'ID'\n",
    "labeltest ='C_ID'\n",
    "# Overlay the points on the imagery to get training.\n",
    "# sample = landsat.select(bands).sampleRegions(**{\n",
    "#   'collection': points,\n",
    "#   'properties': [label],\n",
    "#   'scale': 30\n",
    "# })\n",
    "\n",
    "# # Adds a column of deterministic pseudorandom numbers. \n",
    "# sample = sample.randomColumn()\n",
    "\n",
    "# split = 0.7 \n",
    "\n",
    "# training = sample.filter(ee.Filter.lt('random', split))\n",
    "# validation = sample.filter(ee.Filter.gte('random', split))\n",
    "bands = ['B1',\n",
    " 'B2',\n",
    " 'B3',\n",
    " 'B4',\n",
    " 'B5',\n",
    " 'B6',\n",
    " 'B7',\n",
    " 'NDVI',\n",
    " 'NDWI',\n",
    " 'NDGI',\n",
    " 'SAVI',\n",
    " 'NDSI',\n",
    " 'brightness',\n",
    " 'greenness',\n",
    " 'wetness',\n",
    " 'fourth',\n",
    " 'fifth',\n",
    " 'sixth'\n",
    "]\n",
    "bands2 = ['B1',\n",
    " 'B2',\n",
    " 'B3',\n",
    " 'B4',\n",
    " 'B5',\n",
    " 'B6',\n",
    " 'B7',\n",
    " 'NDVI',\n",
    " 'NDWI',\n",
    " 'NDGI',\n",
    " 'SAVI',\n",
    " 'NDSI',\n",
    "]\n",
    "bands1 = ['B1',\n",
    " 'B2',\n",
    " 'B3',\n",
    " 'B4',\n",
    " 'B5',\n",
    " 'B6',\n",
    " 'B7',\n",
    " 'B8',\n",
    " 'B9',\n",
    " 'B10',\n",
    " 'B11']"
   ]
  },
  {
   "cell_type": "markdown",
   "id": "bb2b3b9b",
   "metadata": {},
   "source": [
    "### Entrenando el modelo"
   ]
  },
  {
   "cell_type": "code",
   "execution_count": 282,
   "id": "d2eab14d",
   "metadata": {
    "ExecuteTime": {
     "end_time": "2022-01-20T12:59:34.320545Z",
     "start_time": "2022-01-20T12:59:34.318732Z"
    }
   },
   "outputs": [],
   "source": [
    "classifier = ee.Classifier.smileRandomForest(100).train(dataset, label1, bands2)\n",
    "# classifierMatch = ee.Classifier.smileRandomForest(100).train(datasetMatch, label1, bands1)\n",
    "classifier_Test = ee.Classifier.smileRandomForest(100).train(test_data,labeltest,bands)"
   ]
  },
  {
   "cell_type": "code",
   "execution_count": 283,
   "id": "effbf7b9",
   "metadata": {
    "ExecuteTime": {
     "end_time": "2022-01-20T12:59:34.323056Z",
     "start_time": "2022-01-20T12:59:34.321410Z"
    }
   },
   "outputs": [],
   "source": [
    "result1 = img5.select(bands2).classify(classifier)\n",
    "# result2_M = img5_m.select(bands1).classify(classifierMatch)\n",
    "result_test = img_final.select(bands).classify(classifier_Test)"
   ]
  },
  {
   "cell_type": "markdown",
   "id": "7df7206f",
   "metadata": {},
   "source": [
    "### Categorizando"
   ]
  },
  {
   "cell_type": "code",
   "execution_count": 284,
   "id": "a9f7e136",
   "metadata": {
    "ExecuteTime": {
     "end_time": "2022-01-20T12:59:34.326561Z",
     "start_time": "2022-01-20T12:59:34.324266Z"
    }
   },
   "outputs": [],
   "source": [
    "class_values1 = [1,2,3,4,5,6,7,8,9,10,11,12,13,14,15,16,17,18]\n",
    "\n",
    "class_palette1 = ['6bee8c', # 1\n",
    " 'f0ff00',\n",
    " '0c40f1',\n",
    " '685205',\n",
    " '0d4404',\n",
    " 'e82d13',\n",
    " 'f99504',\n",
    " '17d4c6',\n",
    " 'dc07e7',\n",
    " '24ff00',\n",
    " '2de50f',\n",
    " 'ccba7d',\n",
    " 'dec61a',\n",
    " '023208',\n",
    " '03c2ff',\n",
    " '97ad0b',\n",
    " 'a4f8ff',\n",
    " 'c0c233',               \n",
    "]"
   ]
  },
  {
   "cell_type": "code",
   "execution_count": 285,
   "id": "997c3cbf",
   "metadata": {
    "ExecuteTime": {
     "end_time": "2022-01-20T12:59:34.331566Z",
     "start_time": "2022-01-20T12:59:34.327562Z"
    }
   },
   "outputs": [],
   "source": [
    "class_values2 = [1,2,3,4,5,6,7,8,9,10,11,12,13,14,15,16,17,19,20,23,28,30,31,32,33,34,35,36,39,40,43,45,47,48,56,57,58,60]\n",
    "\n",
    "class_palette2 = ['d1fbff', # 1 Hielo\n",
    " 'bfdadd', #2 lengua glaciar\n",
    " 'b9bfbf', #3 glaciar cubierto\n",
    " 'fe40fe', #4 nieve\n",
    " '8ac1ff', #5 fiordo glaciar\n",
    " '0c407b', #6 mar\n",
    " '2e8da0', #7 lago continental\n",
    " '16b2d1', #8 lago glaciar\n",
    " '27e1d8', #9 río\n",
    " 'eeb514', #10 suelo desnudo\n",
    " '927012', #11 cárcavas erosión \n",
    " 'e98c0f', #12 suelo río\n",
    " 'f7e8bd', #13 suelo duna/arenal\n",
    " '5b5b5b', #14 caminos\n",
    " 'e57104', #15 suelo desnudo / poca vegetación\n",
    " '5d1412', #16 tuberas / musgos\n",
    " '5d1412', #17 mallín                 \n",
    " '161163', #19 áreas inundables\n",
    " 'fff300', #20 plantación adulto\n",
    " 'ff0000', #23 ciudad urbano\n",
    " 'd4e794', #28 frutales\n",
    " 'dee842', #30 praderas pastoreo             \n",
    " 'ced118', #31 estepa abierta\n",
    " '7a7c0f', #32 estepa cerrada\n",
    " 'c39700', #33 palizales\n",
    " 'a1ff8a', #34 preaderas\n",
    " '138665', #35 matorrales densos\n",
    " '1bbd8e', #36 matorrales abiertos\n",
    " '195a09', #39 primario adulto\n",
    " '27c41d', #40 secundario adulto\n",
    " 'b2ff00', #43 renoval inicial\n",
    " 'f36605', #45 degradado\n",
    " '7729db', #47 Primario adulto caduco\n",
    " '9e60ec', #48 Secundario adulto caduco\n",
    " '000000', #56 sombra \n",
    " '7000ff', #57 Mixto Primario\n",
    " 'c598ff', #58 Mixto secundario\n",
    " '00ff87', #60 Coníferas nativas\n",
    "]"
   ]
  },
  {
   "cell_type": "code",
   "execution_count": null,
   "id": "13b56563",
   "metadata": {},
   "outputs": [],
   "source": []
  },
  {
   "cell_type": "code",
   "execution_count": 286,
   "id": "97b63b26",
   "metadata": {
    "ExecuteTime": {
     "end_time": "2022-01-20T12:59:34.334047Z",
     "start_time": "2022-01-20T12:59:34.332393Z"
    }
   },
   "outputs": [],
   "source": [
    "landcover1 = result1.set('classification_class_values', class_values1)\n",
    "landcover1 = landcover1.set('classification_class_palette', class_palette1)\n"
   ]
  },
  {
   "cell_type": "code",
   "execution_count": 287,
   "id": "d1ed6e92",
   "metadata": {
    "ExecuteTime": {
     "end_time": "2022-01-20T12:59:34.336731Z",
     "start_time": "2022-01-20T12:59:34.335080Z"
    }
   },
   "outputs": [],
   "source": [
    "landcovertest = result_test.set('classification_class_values', class_values2)\n",
    "landcovertest = landcovertest.set('classification_class_palette',class_palette2)"
   ]
  },
  {
   "cell_type": "code",
   "execution_count": 288,
   "id": "54eabf1f",
   "metadata": {
    "ExecuteTime": {
     "end_time": "2022-01-20T12:59:34.339730Z",
     "start_time": "2022-01-20T12:59:34.337838Z"
    }
   },
   "outputs": [],
   "source": [
    "# landcoverMatch = result2_M.set('classification_class_values', class_values1)\n",
    "# landcoverMatch = landcoverMatch.set('classification_class_palette', class_palette1)"
   ]
  },
  {
   "cell_type": "code",
   "execution_count": 289,
   "id": "a1ac673e",
   "metadata": {
    "ExecuteTime": {
     "end_time": "2022-01-20T12:59:34.341984Z",
     "start_time": "2022-01-20T12:59:34.340574Z"
    }
   },
   "outputs": [],
   "source": [
    "# array_landcover1 = landcover1.toArray().toArray(1)\n",
    "# array_landcoverm = landcoverMatch.toArray().toArray(1)"
   ]
  },
  {
   "cell_type": "code",
   "execution_count": 290,
   "id": "11e0ee3e",
   "metadata": {
    "ExecuteTime": {
     "end_time": "2022-01-20T12:59:59.391626Z",
     "start_time": "2022-01-20T12:59:34.343066Z"
    }
   },
   "outputs": [],
   "source": [
    "Map14.addLayer(landcovertest,{}, 'Land cover clasificado Random Forest' )"
   ]
  },
  {
   "cell_type": "code",
   "execution_count": 291,
   "id": "83059116",
   "metadata": {
    "ExecuteTime": {
     "end_time": "2022-01-20T12:59:59.393896Z",
     "start_time": "2022-01-20T12:59:59.392443Z"
    }
   },
   "outputs": [],
   "source": [
    "# Map14.addLayer(landcoverMatch, {}, 'Land cover clasificado Random Forest Match' )"
   ]
  },
  {
   "cell_type": "code",
   "execution_count": 292,
   "id": "882a5f91",
   "metadata": {
    "ExecuteTime": {
     "end_time": "2022-01-20T12:59:59.397601Z",
     "start_time": "2022-01-20T12:59:59.394517Z"
    }
   },
   "outputs": [
    {
     "data": {
      "text/plain": [
       "ee.image.Image"
      ]
     },
     "execution_count": 292,
     "metadata": {},
     "output_type": "execute_result"
    }
   ],
   "source": [
    "type(landcover1)"
   ]
  },
  {
   "cell_type": "code",
   "execution_count": 293,
   "id": "8111a0da",
   "metadata": {
    "ExecuteTime": {
     "end_time": "2022-01-20T12:59:59.400312Z",
     "start_time": "2022-01-20T12:59:59.398634Z"
    }
   },
   "outputs": [],
   "source": [
    "\n",
    "# legend_dict = {\n",
    "#     '01 Achaparrado': '6bee8c',\n",
    "#     '02 Agrícola': 'f0ff00',\n",
    "#     '03 Agua': '0c40f1',\n",
    "#     '04 Arenal o Roca': '685205',\n",
    "#     '05 Bosque Degradado': '0d4404',\n",
    "#     '06 Cuncunas': 'e82d13',\n",
    "#     '07 Estepa': 'f99504',\n",
    "#     '08 Humedal': '17d4c6',\n",
    "#     '09 Mallin': 'dc07e7',\n",
    "#     '10 Matorral abierto': '24ff00',\n",
    "#     '11 Matorral denso': '2de50f',\n",
    "#     '12 Plantaciones': 'ccba7d',\n",
    "#     '13 Praderas': 'dec61a',\n",
    "#     '14 Primario': '023208',\n",
    "#     '15 Ríos': '03c2ff',\n",
    "#     '16 Secundario': '97ad0b',\n",
    "#     '17 Glaciar': 'a4f8ff',\n",
    "#     '18 Suelo desnudo': 'c0c233',\n",
    "# }\n",
    "# Map14.add_legend(legend_title=\"Random Forest\", legend_dict=legend_dict)\n",
    "# Map14.addLayer(componentes,vizParamstess, 'Tesseled cap')\n",
    "# Map14"
   ]
  },
  {
   "cell_type": "markdown",
   "id": "d3ac6dae",
   "metadata": {},
   "source": [
    "#### Mapas"
   ]
  },
  {
   "cell_type": "code",
   "execution_count": 294,
   "id": "5065e0ff",
   "metadata": {
    "ExecuteTime": {
     "end_time": "2022-01-20T12:59:59.402864Z",
     "start_time": "2022-01-20T12:59:59.401317Z"
    }
   },
   "outputs": [],
   "source": [
    "NDVI_mosaico=img5.select('NDVI')"
   ]
  },
  {
   "cell_type": "code",
   "execution_count": 295,
   "id": "6c63b15a",
   "metadata": {
    "ExecuteTime": {
     "end_time": "2022-01-20T12:59:59.405876Z",
     "start_time": "2022-01-20T12:59:59.403909Z"
    }
   },
   "outputs": [],
   "source": [
    "vizNDVI =['#FF5733','#0cf5f5','#d89000','#039001','#003804']"
   ]
  },
  {
   "cell_type": "code",
   "execution_count": 296,
   "id": "e5d42f45",
   "metadata": {
    "ExecuteTime": {
     "end_time": "2022-01-20T13:00:01.322252Z",
     "start_time": "2022-01-20T12:59:59.406752Z"
    }
   },
   "outputs": [
    {
     "data": {
      "application/vnd.jupyter.widget-view+json": {
       "model_id": "3734ab5b07fc4385b2d45a3e19b57678",
       "version_major": 2,
       "version_minor": 0
      },
      "text/plain": [
       "Map(center=[-45, -70], controls=(WidgetControl(options=['position', 'transparent_bg'], widget=HBox(children=(T…"
      ]
     },
     "metadata": {},
     "output_type": "display_data"
    }
   ],
   "source": [
    "Map16.addLayer(NDVI_mosaico, {'palette':vizNDVI} ,'NDVI Mosaico 2021' )\n",
    "Map16"
   ]
  },
  {
   "cell_type": "code",
   "execution_count": 297,
   "id": "53d31ef4",
   "metadata": {
    "ExecuteTime": {
     "end_time": "2022-01-20T13:00:04.990905Z",
     "start_time": "2022-01-20T13:00:01.323199Z"
    }
   },
   "outputs": [
    {
     "data": {
      "application/vnd.jupyter.widget-view+json": {
       "model_id": "d3b745fd0984438c816524ffc4e6b560",
       "version_major": 2,
       "version_minor": 0
      },
      "text/plain": [
       "Map(center=[-45, -70], controls=(WidgetControl(options=['position', 'transparent_bg'], widget=HBox(children=(T…"
      ]
     },
     "metadata": {},
     "output_type": "display_data"
    }
   ],
   "source": [
    "legend_dict = {\n",
    "    '01 Hielo': 'd1fbff',\n",
    "    '02 lengua glaciar': 'bfdadd',\n",
    "    '03 glaciar cubierto': 'b9bfbf',\n",
    "    '04 nieve': 'fe40fe',\n",
    "    '05 fiordo glaciar': '8ac1ff',\n",
    "    '06 mar': '0c407b',\n",
    "    '07 lago continental': '2e8da0',\n",
    "    '08 lago glaciar': '16b2d1',\n",
    "    '09 río': '27e1d8',\n",
    "    '10 suelo desnudo': 'eeb514',\n",
    "    '11 cárcavas erosión': '927012',\n",
    "    '12 suelo río': 'e98c0f',\n",
    "    '13 suelo duna/arenal': 'f7e8bd',\n",
    "    '14 caminos': '5b5b5b',\n",
    "    '15 suelo denudo': 'e57104',\n",
    "    '16 tuberas / musgos': '5d1412',\n",
    "    '17 mallín': '5d1412',\n",
    "    '19 áreas inundables':'161163', \n",
    "    '20 plantación adulto': 'fff300',\n",
    "    '23 ciudad urbano': 'ff0000',\n",
    "    '28 frutales':'d4e794',\n",
    "    '30 praderas pastoreo':'dee842', \n",
    "    '31 estepa abierta': 'ced118',\n",
    "    '32 estepa cerrada': '7a7c0f',\n",
    "    '33 palizales': 'c39700',\n",
    "    '34 preaderas': 'a1ff8a',\n",
    "    '35 matorrales densos': '138665',\n",
    "    '36 matorrales abiertos': '1bbd8e',\n",
    "    '39 primario adulto': '195a09',\n",
    "    '40 secundario adulto': '27c41d',\n",
    "    '43 renoval inicial': 'b2ff00',\n",
    "    '45 degradado': 'f36605',\n",
    "    '47 Primario adulto caduco':'7729db',\n",
    "    '48 Secundario adulto caduco': '9e60ec',\n",
    "    '56 sombra': '000000',\n",
    "    '57 Mixto Primario': '7000ff', \n",
    "    '58 Mixto secundario':'c598ff',\n",
    "    '60 Coníferas nativas': '00ff87'\n",
    "}\n",
    "\n",
    "Map14.add_legend(legend_title=\"Random Forest Test\", legend_dict=legend_dict)\n",
    "Map14.addLayer(img5,vizParams, 'Mosaico 2021' )\n",
    "Map14.addLayer(componentes,vizParamstess, 'Tesseled cap')\n",
    "Map14"
   ]
  },
  {
   "cell_type": "code",
   "execution_count": 298,
   "id": "8feb899f",
   "metadata": {
    "ExecuteTime": {
     "end_time": "2022-01-20T13:01:32.101959Z",
     "start_time": "2022-01-20T13:00:04.991724Z"
    }
   },
   "outputs": [
    {
     "data": {
      "application/vnd.jupyter.widget-view+json": {
       "model_id": "7d8343c1457f4df984ca07389909566e",
       "version_major": 2,
       "version_minor": 0
      },
      "text/plain": [
       "Map(center=[-45, -70], controls=(WidgetControl(options=['position', 'transparent_bg'], widget=HBox(children=(T…"
      ]
     },
     "metadata": {},
     "output_type": "display_data"
    }
   ],
   "source": [
    "legend_dict = {\n",
    "    '01 Achaparrado': '6bee8c',\n",
    "    '02 Agrícola': 'f0ff00',\n",
    "    '03 Agua': '0c40f1',\n",
    "    '04 Arenal o Roca': '685205',\n",
    "    '05 Bosque Degradado': '0d4404',\n",
    "    '06 Cuncunas': 'e82d13',\n",
    "    '07 Estepa': 'f99504',\n",
    "    '08 Humedal': '17d4c6',\n",
    "    '09 Mallin': 'dc07e7',\n",
    "    '10 Matorral abierto': '24ff00',\n",
    "    '11 Matorral denso': '2de50f',\n",
    "    '12 Plantaciones': 'ccba7d',\n",
    "    '13 Praderas': 'dec61a',\n",
    "    '14 Primario': '023208',\n",
    "    '15 Ríos': '03c2ff',\n",
    "    '16 Secundario': '97ad0b',\n",
    "    '17 Glaciar': 'a4f8ff',\n",
    "    '18 Suelo desnudo': 'c0c233',\n",
    "}\n",
    "Map15.add_legend(legend_title=\"Random Forest 2018\", legend_dict=legend_dict)\n",
    "Map15.addLayer(landcover1, {}, 'Land cover clasificado Random Forest ')\n",
    "Map15"
   ]
  },
  {
   "cell_type": "markdown",
   "id": "e80b449e",
   "metadata": {},
   "source": [
    "### Exportando"
   ]
  },
  {
   "cell_type": "code",
   "execution_count": 299,
   "id": "33de305f",
   "metadata": {
    "ExecuteTime": {
     "end_time": "2022-01-20T13:01:34.477075Z",
     "start_time": "2022-01-20T13:01:32.102899Z"
    }
   },
   "outputs": [],
   "source": [
    "partes_1 = os.path.join(work_dir, '1.shp')\n",
    "partes1 = geemap.shp_to_ee(partes_1)\n",
    "\n",
    "partes_2 = os.path.join(work_dir, '2.shp')\n",
    "partes2 = geemap.shp_to_ee(partes_2)\n",
    "\n",
    "partes_3 = os.path.join(work_dir, '3.shp')\n",
    "partes3 = geemap.shp_to_ee(partes_3)\n",
    "\n",
    "partes_4 = os.path.join(work_dir, '4.shp')\n",
    "partes4 = geemap.shp_to_ee(partes_4)\n",
    "\n",
    "partes_5 = os.path.join(work_dir, '5.shp')\n",
    "partes5 = geemap.shp_to_ee(partes_5)\n",
    "\n",
    "partes_6 = os.path.join(work_dir, '6.shp')\n",
    "partes6 = geemap.shp_to_ee(partes_6)\n",
    "\n",
    "partes_7 = os.path.join(work_dir, '7.shp')\n",
    "partes7 = geemap.shp_to_ee(partes_7)\n",
    "\n",
    "partes_8 = os.path.join(work_dir, '8.shp')\n",
    "partes8 = geemap.shp_to_ee(partes_8)"
   ]
  },
  {
   "cell_type": "code",
   "execution_count": 300,
   "id": "8114cfea",
   "metadata": {
    "ExecuteTime": {
     "end_time": "2022-01-20T13:01:34.480746Z",
     "start_time": "2022-01-20T13:01:34.478166Z"
    }
   },
   "outputs": [],
   "source": [
    "img5_1 = img5_b.clip(partes1).unmask()\n",
    "img5_2 = img5_b.clip(partes2).unmask()\n",
    "img5_3 = img5_b.clip(partes3).unmask()\n",
    "img5_4 = img5_b.clip(partes4).unmask()\n",
    "img5_5 = img5_b.clip(partes5).unmask()\n",
    "img5_6 = img5_b.clip(partes6).unmask()\n",
    "img5_7 = img5_b.clip(partes7).unmask()\n",
    "img5_8 = img5_b.clip(partes8).unmask()"
   ]
  },
  {
   "cell_type": "code",
   "execution_count": 301,
   "id": "ae51d531",
   "metadata": {
    "ExecuteTime": {
     "end_time": "2022-01-20T13:01:34.484747Z",
     "start_time": "2022-01-20T13:01:34.481753Z"
    }
   },
   "outputs": [],
   "source": [
    "# img5_1 = img5_1.reproject(crs='EPSG:32719',scale = 30)\n",
    "# img5_2 = img5_2.reproject(crs='EPSG:32719',scale = 30)\n",
    "# img5_3 = img5_3.reproject(crs='EPSG:32719',scale = 30)\n",
    "# img5_4 = img5_4.reproject(crs='EPSG:32719',scale = 30)\n",
    "# img5_5 = img5_5.reproject(crs='EPSG:32719',scale = 30)\n",
    "# img5_6 = img5_6.reproject(crs='EPSG:32719',scale = 30)\n",
    "# img5_7 = img5_7.reproject(crs='EPSG:32719',scale = 30)\n",
    "# img5_8 = img5_8.reproject(crs='EPSG:32719',scale = 30)"
   ]
  },
  {
   "cell_type": "code",
   "execution_count": 302,
   "id": "7925ec43",
   "metadata": {
    "ExecuteTime": {
     "end_time": "2022-01-20T13:01:34.489412Z",
     "start_time": "2022-01-20T13:01:34.485689Z"
    }
   },
   "outputs": [],
   "source": [
    "# img5_B1 = img5.select('B1').clip(partes1).unmask()\n",
    "# img5_B1 = img5.select('B1').clip(partes2).unmask()\n",
    "# img5_B1 = img5.select('B1').clip(partes3).unmask()\n",
    "# img5_B1 = img5.select('B1').clip(partes4).unmask()\n",
    "# img5_B1 = img5.select('B1').clip(partes5).unmask()\n",
    "# img5_B1 = img5.select('B1').clip(partes6).unmask()\n",
    "# img5_B1 = img5.select('B1').clip(partes7).unmask()\n",
    "# img5_B1 = img5.select('B1').clip(partes8).unmask()#coastal aerosol\n",
    "# img5_B2 = img5.select('B2') #Blue\n",
    "img5_B2_p1 = img5.select('B2').clip(partes1).unmask()\n",
    "img5_B2_p2 = img5.select('B2').clip(partes2).unmask()\n",
    "img5_B2_p3 = img5.select('B2').clip(partes3).unmask()\n",
    "img5_B2_p4 = img5.select('B2').clip(partes4).unmask()\n",
    "img5_B2_p5 = img5.select('B2').clip(partes5).unmask()\n",
    "img5_B2_p6 = img5.select('B2').clip(partes6).unmask()\n",
    "img5_B2_p7 = img5.select('B2').clip(partes7).unmask()\n",
    "img5_B2_p8 = img5.select('B2').clip(partes8).unmask()#Blue\n",
    "# img5_B3 = img5.select('B3') #green\n",
    "# img5_B4 = img5.select('B4') #red\n",
    "# img5_B5 = img5.select('B5') #near red\n",
    "# img5_B6 = img5.select('B6') #shortwave infrared 1\n",
    "# img5_B7 = img5.select('B7') #shortwave infrared 2\n",
    "# img5_B8 = img5.select('B8') # panchromatic\n",
    "# img5_B9 = img5.select('B9') #cirrus\n",
    "# img5_B10 = img5.select('B10') #Thermal 1\n",
    "# img5_B11 = img5.select('B11') # Thermal 2\n",
    "# img5_NDVI = img5.select('NDVI') # NDVI\n",
    "# img5_NDWI = img5.select('NDWI') # 'NDWI'\n",
    "# img5_NDGI = img5.select('NDGI') # NDGI\n",
    "# img5_SAVI = img5.select('SAVI') #SAVI\n",
    "# img5_NDSI = img5.select('NDSI') #NDSI\n",
    "# img5_date = img5.select('date') #date\n",
    "# img5_nube = img5.select('nube') #nube"
   ]
  },
  {
   "cell_type": "code",
   "execution_count": 303,
   "id": "f61a3d7d",
   "metadata": {
    "ExecuteTime": {
     "end_time": "2022-01-20T13:01:34.492059Z",
     "start_time": "2022-01-20T13:01:34.490480Z"
    }
   },
   "outputs": [],
   "source": [
    "transf=ee.Array([30, 0, 214185, 0, -30, -4825185])"
   ]
  },
  {
   "cell_type": "code",
   "execution_count": 304,
   "id": "4c4da7ae",
   "metadata": {
    "ExecuteTime": {
     "end_time": "2022-01-20T13:01:34.774940Z",
     "start_time": "2022-01-20T13:01:34.493079Z"
    }
   },
   "outputs": [
    {
     "data": {
      "text/plain": [
       "[30, 0, 214185, 0, -30, -4825185]"
      ]
     },
     "execution_count": 304,
     "metadata": {},
     "output_type": "execute_result"
    }
   ],
   "source": [
    "transf.getInfo()"
   ]
  },
  {
   "cell_type": "code",
   "execution_count": 305,
   "id": "a27fe7ba",
   "metadata": {
    "ExecuteTime": {
     "end_time": "2022-01-20T13:01:34.778561Z",
     "start_time": "2022-01-20T13:01:34.775971Z"
    }
   },
   "outputs": [],
   "source": [
    "# task2_1 = ee.batch.Export.image.toDrive(**{\n",
    "#     'image': img5_B2_p1,\n",
    "#     'description':'B2_1',\n",
    "#     'folder':'exp2021_19s_B',\n",
    "#     'region': partes1.geometry(),\n",
    "#     'scale':30,\n",
    "#     'crsTransform':[30, 0, 214185, 0, -30, -4825185], \n",
    "#     'crs':'EPSG:32719',\n",
    "#     'maxPixels':1e13\n",
    "# })\n",
    "# task2_2 = ee.batch.Export.image.toDrive(**{\n",
    "#     'image': img5_B2_p2,\n",
    "#     'description':'B2_2',\n",
    "#     'folder':'exp2021_19s_B',\n",
    "#     'region': partes2.geometry(),\n",
    "#     'scale':30,\n",
    "#     'crsTransform':[30, 0, 214185, 0, -30, -4825185], \n",
    "#     'crs':'EPSG:32719',\n",
    "#     'maxPixels':1e13\n",
    "# })\n",
    "# task2_3 = ee.batch.Export.image.toDrive(**{\n",
    "#     'image': img5_B2_p3,\n",
    "#     'description':'B2_3',\n",
    "#     'folder':'exp2021_19s_B',\n",
    "#     'region': partes3.geometry(),\n",
    "#     'scale':30,\n",
    "#     'crsTransform':[30, 0, 214185, 0, -30, -4825185], \n",
    "#     'crs':'EPSG:32719',\n",
    "#     'maxPixels':1e13\n",
    "# })\n",
    "# task2_4 = ee.batch.Export.image.toDrive(**{\n",
    "#     'image': img5_B2_p4,\n",
    "#     'description':'B2_4',\n",
    "#     'folder':'exp2021_19s_B',\n",
    "#     'region': partes4.geometry(),\n",
    "#     'scale':30,\n",
    "#     'crsTransform':[30, 0, 214185, 0, -30, -4825185], \n",
    "#     'crs':'EPSG:32719',\n",
    "#     'maxPixels':1e13\n",
    "# })\n",
    "# task2_5 = ee.batch.Export.image.toDrive(**{\n",
    "#     'image': img5_B2_p5,\n",
    "#     'description':'B2_5',\n",
    "#     'folder':'exp2021_19s_B',\n",
    "#     'region': partes5.geometry(),\n",
    "#     'scale':30,\n",
    "#     'crsTransform':[30, 0, 214185, 0, -30, -4825185], \n",
    "#     'crs':'EPSG:32719',\n",
    "#     'maxPixels':1e13\n",
    "# })\n",
    "# task2_6 = ee.batch.Export.image.toDrive(**{\n",
    "#     'image': img5_B2_p6,\n",
    "#     'description':'B2_6',\n",
    "#     'folder':'exp2021_19s_B',\n",
    "#     'region': partes6.geometry(),\n",
    "#     'scale':30,\n",
    "#     'crsTransform':[30, 0, 214185, 0, -30, -4825185], \n",
    "#     'crs':'EPSG:32719',\n",
    "#     'maxPixels':1e13\n",
    "# })\n",
    "# task2_7 = ee.batch.Export.image.toDrive(**{\n",
    "#     'image': img5_B2_p7,\n",
    "#     'description':'B2_7',\n",
    "#     'folder':'exp2021_19s_B',\n",
    "#     'region': partes7.geometry(),\n",
    "#     'scale':30,\n",
    "#     'crsTransform':[30, 0, 214185, 0, -30, -4825185], \n",
    "#     'crs':'EPSG:32719',\n",
    "#     'maxPixels':1e13\n",
    "# })\n",
    "# task2_8 = ee.batch.Export.image.toDrive(**{\n",
    "#     'image': img5_B2_p8,\n",
    "#     'description':'B2_8',\n",
    "#     'folder':'exp2021_19s_B',\n",
    "#     'region': partes8.geometry(),\n",
    "#     'scale':30,\n",
    "#     'crsTransform':[30, 0, 214185, 0, -30, -4825185], \n",
    "#     'crs':'EPSG:32719',\n",
    "#     'maxPixels':1e13\n",
    "# })\n"
   ]
  },
  {
   "cell_type": "code",
   "execution_count": 306,
   "id": "40883640",
   "metadata": {
    "ExecuteTime": {
     "end_time": "2022-01-20T13:01:34.781277Z",
     "start_time": "2022-01-20T13:01:34.779476Z"
    }
   },
   "outputs": [],
   "source": [
    "# task2_1.start()\n",
    "# task2_2.start()\n",
    "# task2_3.start()\n",
    "# task2_4.start()\n",
    "# task2_5.start()\n",
    "# task2_6.start()\n",
    "# task2_7.start()\n",
    "# task2_8.start()"
   ]
  },
  {
   "cell_type": "code",
   "execution_count": 307,
   "id": "cceda41f",
   "metadata": {
    "ExecuteTime": {
     "end_time": "2022-01-20T13:01:34.784527Z",
     "start_time": "2022-01-20T13:01:34.782342Z"
    }
   },
   "outputs": [],
   "source": [
    "img5_B1 = img5.select(\"B1\")\n",
    "img5_B2 = img5.select(\"B2\")\n",
    "img5_B3 = img5.select(\"B3\")\n",
    "img5_B4 = img5.select(\"B4\")\n",
    "img5_B5 = img5.select(\"B5\")\n",
    "img5_B6 = img5.select(\"B6\")\n",
    "img5_B7 = img5.select(\"B7\")"
   ]
  },
  {
   "cell_type": "code",
   "execution_count": 308,
   "id": "5bf824d7",
   "metadata": {
    "ExecuteTime": {
     "end_time": "2022-01-20T13:01:34.791267Z",
     "start_time": "2022-01-20T13:01:34.785649Z"
    }
   },
   "outputs": [],
   "source": [
    "task1 = ee.batch.Export.image.toDrive(**{\n",
    "    'image': img5_B1,\n",
    "    'description':'B1',\n",
    "    'folder':'exp2021_19s_full',\n",
    "    'region': geometry_exp.bounds(),\n",
    "    'scale':30,\n",
    "    'crsTransform':[30, 0, 214185, 0, -30, -4825185], \n",
    "    'crs':'EPSG:32719',\n",
    "    'maxPixels':1e13\n",
    "})\n",
    "task2 = ee.batch.Export.image.toDrive(**{\n",
    "    'image': img5_B2,\n",
    "    'description':'B2',\n",
    "    'folder':'exp2021_19s_full',\n",
    "    'region': geometry_exp.bounds(),\n",
    "    'scale':30,\n",
    "    'crsTransform':[30, 0, 214185, 0, -30, -4825185], \n",
    "    'crs':'EPSG:32719',\n",
    "    'maxPixels':1e13\n",
    "})\n",
    "task3 = ee.batch.Export.image.toDrive(**{\n",
    "    'image': img5_B3,\n",
    "    'description':'B3',\n",
    "    'folder':'exp2021_19s_full',\n",
    "    'region': geometry_exp.bounds(),\n",
    "    'scale':30,\n",
    "    'crsTransform':[30, 0, 214185, 0, -30, -4825185], \n",
    "    'crs':'EPSG:32719',\n",
    "    'maxPixels':1e13\n",
    "})\n",
    "task4 = ee.batch.Export.image.toDrive(**{\n",
    "    'image': img5_B4,\n",
    "    'description':'B4',\n",
    "    'folder':'exp2021_19s_full',\n",
    "    'region': geometry_exp.bounds(),\n",
    "    'scale':30,\n",
    "    'crsTransform':[30, 0, 214185, 0, -30, -4825185], \n",
    "    'crs':'EPSG:32719',\n",
    "    'maxPixels':1e13\n",
    "})\n",
    "task5 = ee.batch.Export.image.toDrive(**{\n",
    "    'image': img5_B5,\n",
    "    'description':'B5',\n",
    "    'folder':'exp2021_19s_full',\n",
    "    'region': geometry_exp.bounds(),\n",
    "    'scale':30,\n",
    "    'crsTransform':[30, 0, 214185, 0, -30, -4825185], \n",
    "    'crs':'EPSG:32719',\n",
    "    'maxPixels':1e13\n",
    "})\n",
    "task6 = ee.batch.Export.image.toDrive(**{\n",
    "    'image': img5_B6,\n",
    "    'description':'B6',\n",
    "    'folder':'exp2021_19s_full',\n",
    "    'region': geometry_exp.bounds(),\n",
    "    'scale':30,\n",
    "    'crsTransform':[30, 0, 214185, 0, -30, -4825185], \n",
    "    'crs':'EPSG:32719',\n",
    "    'maxPixels':1e13\n",
    "})\n",
    "task7 = ee.batch.Export.image.toDrive(**{\n",
    "    'image': img5_B7,\n",
    "    'description':'B7',\n",
    "    'folder':'exp2021_19s_full',\n",
    "    'region': geometry_exp.bounds(),\n",
    "    'scale':30,\n",
    "    'crsTransform':[30, 0, 214185, 0, -30, -4825185], \n",
    "    'crs':'EPSG:32719',\n",
    "    'maxPixels':1e13\n",
    "})"
   ]
  },
  {
   "cell_type": "code",
   "execution_count": 309,
   "id": "dfee8042",
   "metadata": {
    "ExecuteTime": {
     "end_time": "2022-01-20T13:01:34.794011Z",
     "start_time": "2022-01-20T13:01:34.792544Z"
    }
   },
   "outputs": [],
   "source": [
    "# task1.start()\n",
    "# task2.start()\n",
    "# task3.start()\n",
    "# task4.start()\n",
    "# task5.start()\n",
    "# task6.start()\n",
    "# task7.start()"
   ]
  },
  {
   "cell_type": "code",
   "execution_count": 310,
   "id": "0633aa27",
   "metadata": {
    "ExecuteTime": {
     "end_time": "2022-01-20T13:01:34.796730Z",
     "start_time": "2022-01-20T13:01:34.795005Z"
    }
   },
   "outputs": [],
   "source": [
    "brillo = componentes.select('brightness')\n",
    "greenness = componentes.select('greenness')\n",
    "wetness = componentes.select('wetness')\n",
    "# ['brightness','greenness','wetness','fourth','fifth','sixth']"
   ]
  },
  {
   "cell_type": "code",
   "execution_count": 311,
   "id": "5cc31766",
   "metadata": {
    "ExecuteTime": {
     "end_time": "2022-01-20T13:01:34.801052Z",
     "start_time": "2022-01-20T13:01:34.797877Z"
    }
   },
   "outputs": [],
   "source": [
    "task8 = ee.batch.Export.image.toDrive(**{\n",
    "    'image': brillo,\n",
    "    'description':'brillo',\n",
    "    'folder':'exp2021_19s_full',\n",
    "    'region': geometry_exp.bounds(),\n",
    "    'scale':30,\n",
    "    'crsTransform':[30, 0, 214185, 0, -30, -4825185], \n",
    "    'crs':'EPSG:32719',\n",
    "    'maxPixels':1e13\n",
    "})\n",
    "task9 = ee.batch.Export.image.toDrive(**{\n",
    "    'image': greenness,\n",
    "    'description':'greenness',\n",
    "    'folder':'exp2021_19s_full',\n",
    "    'region': geometry_exp.bounds(),\n",
    "    'scale':30,\n",
    "    'crsTransform':[30, 0, 214185, 0, -30, -4825185], \n",
    "    'crs':'EPSG:32719',\n",
    "    'maxPixels':1e13\n",
    "})\n",
    "task10 = ee.batch.Export.image.toDrive(**{\n",
    "    'image': wetness,\n",
    "    'description':'wetness',\n",
    "    'folder':'exp2021_19s_full',\n",
    "    'region': geometry_exp.bounds(),\n",
    "    'scale':30,\n",
    "    'crsTransform':[30, 0, 214185, 0, -30, -4825185], \n",
    "    'crs':'EPSG:32719',\n",
    "    'maxPixels':1e13\n",
    "})"
   ]
  },
  {
   "cell_type": "code",
   "execution_count": 312,
   "id": "056a7102",
   "metadata": {
    "ExecuteTime": {
     "end_time": "2022-01-20T13:01:34.803484Z",
     "start_time": "2022-01-20T13:01:34.802112Z"
    }
   },
   "outputs": [],
   "source": [
    "# task8.start()\n",
    "# task9.start()\n",
    "# task10.start()"
   ]
  },
  {
   "cell_type": "code",
   "execution_count": 313,
   "id": "21943242",
   "metadata": {
    "ExecuteTime": {
     "end_time": "2022-01-20T13:01:34.806558Z",
     "start_time": "2022-01-20T13:01:34.804436Z"
    }
   },
   "outputs": [],
   "source": [
    "taskclas = ee.batch.Export.image.toDrive(**{\n",
    "    'image': landcovertest,\n",
    "    'description':'landcover_2021_final',\n",
    "    'folder':'Landcover 2021',\n",
    "    'region': geometry_exp.bounds(),\n",
    "    'scale':30,\n",
    "    'crsTransform':[30, 0, 214185, 0, -30, -4825185], \n",
    "    'crs':'EPSG:32719',\n",
    "    'maxPixels':1e13\n",
    "})"
   ]
  },
  {
   "cell_type": "code",
   "execution_count": 314,
   "id": "9af412b7",
   "metadata": {
    "ExecuteTime": {
     "end_time": "2022-01-20T13:01:42.514550Z",
     "start_time": "2022-01-20T13:01:34.807532Z"
    }
   },
   "outputs": [],
   "source": [
    "# taskclas.start()"
   ]
  }
 ],
 "metadata": {
  "kernelspec": {
   "display_name": "Python 3 (ipykernel)",
   "language": "python",
   "name": "python3"
  },
  "language_info": {
   "codemirror_mode": {
    "name": "ipython",
    "version": 3
   },
   "file_extension": ".py",
   "mimetype": "text/x-python",
   "name": "python",
   "nbconvert_exporter": "python",
   "pygments_lexer": "ipython3",
   "version": "3.8.12"
  },
  "toc": {
   "base_numbering": 1,
   "nav_menu": {},
   "number_sections": true,
   "sideBar": true,
   "skip_h1_title": false,
   "title_cell": "Table of Contents",
   "title_sidebar": "Contents",
   "toc_cell": false,
   "toc_position": {
    "height": "calc(100% - 180px)",
    "left": "10px",
    "top": "150px",
    "width": "384px"
   },
   "toc_section_display": true,
   "toc_window_display": true
  },
  "varInspector": {
   "cols": {
    "lenName": 16,
    "lenType": 16,
    "lenVar": 40
   },
   "kernels_config": {
    "python": {
     "delete_cmd_postfix": "",
     "delete_cmd_prefix": "del ",
     "library": "var_list.py",
     "varRefreshCmd": "print(var_dic_list())"
    },
    "r": {
     "delete_cmd_postfix": ") ",
     "delete_cmd_prefix": "rm(",
     "library": "var_list.r",
     "varRefreshCmd": "cat(var_dic_list()) "
    }
   },
   "types_to_exclude": [
    "module",
    "function",
    "builtin_function_or_method",
    "instance",
    "_Feature"
   ],
   "window_display": false
  }
 },
 "nbformat": 4,
 "nbformat_minor": 5
}
