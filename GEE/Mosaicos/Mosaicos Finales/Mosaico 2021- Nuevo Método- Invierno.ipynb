{
 "cells": [
  {
   "cell_type": "markdown",
   "id": "c8ee7fef",
   "metadata": {},
   "source": [
    "# Mosaico 2021"
   ]
  },
  {
   "cell_type": "markdown",
   "id": "203f76ca",
   "metadata": {},
   "source": [
    "Script trabajado por Francisco Albornoz (2021-04-13) / Última modificación / Mosaicos Patagonia"
   ]
  },
  {
   "cell_type": "markdown",
   "id": "2fb5cdeb",
   "metadata": {},
   "source": [
    "2021-08-05 13:07:09 "
   ]
  },
  {
   "cell_type": "code",
   "execution_count": 1,
   "id": "3057c761",
   "metadata": {
    "ExecuteTime": {
     "end_time": "2021-12-03T15:17:16.059243Z",
     "start_time": "2021-12-03T15:17:14.252212Z"
    }
   },
   "outputs": [],
   "source": [
    "import ee\n",
    "import geemap\n",
    "import geemap.chart as chart\n",
    "import os\n",
    "import folium\n",
    "import xarray_leaflet\n",
    "import rasterio \n",
    "from rasterio import plot\n",
    "import matplotlib.pyplot as plt\n",
    "import numpy as np\n",
    "%matplotlib inline"
   ]
  },
  {
   "cell_type": "markdown",
   "id": "1997eeb4",
   "metadata": {},
   "source": [
    "<img src=https://www.ecopaysen.cl/wp-content/uploads/2019/12/ecopaysen_marca_web.png>"
   ]
  },
  {
   "cell_type": "code",
   "execution_count": 2,
   "id": "fca49a56",
   "metadata": {
    "ExecuteTime": {
     "end_time": "2021-12-03T15:17:26.952313Z",
     "start_time": "2021-12-03T15:17:16.060246Z"
    }
   },
   "outputs": [],
   "source": [
    "Map = geemap.Map(center = [-45, -70], zoom = 4)\n",
    "Map1 = geemap.Map(center = [-45, -70], zoom = 4)\n",
    "Map2 = geemap.Map(center = [-45, -70], zoom = 4)\n",
    "Map3 = geemap.Map(center = [-45, -70], zoom = 4)\n",
    "Map4 = geemap.Map(center = [-45, -70], zoom = 4)\n",
    "Map5 = geemap.Map(center = [-45, -70], zoom = 4)\n",
    "Map6 = geemap.Map(center = [-45, -70], zoom = 4)\n",
    "Map7 = geemap.Map(center = [-45, -70], zoom = 4)\n",
    "Map8 = geemap.Map(center = [-45, -70], zoom = 4)\n",
    "Map9 = geemap.Map(center = [-45, -70], zoom = 4)\n",
    "Map10 = geemap.Map(center = [-45, -70], zoom = 4)\n",
    "Map11 = geemap.Map(center = [-45, -70], zoom = 4)\n",
    "Map12 = geemap.Map(center = [-45, -70], zoom = 4)\n",
    "Map13 = geemap.Map(center = [-45, -70], zoom = 4)\n",
    "Map14 = geemap.Map(center = [-45, -70], zoom = 4)\n",
    "Map15 = geemap.Map(center = [-45, -70], zoom = 4)"
   ]
  },
  {
   "cell_type": "markdown",
   "id": "f26fe1a2",
   "metadata": {},
   "source": [
    "## Área de Estudio"
   ]
  },
  {
   "cell_type": "code",
   "execution_count": 3,
   "id": "2aae613d",
   "metadata": {
    "ExecuteTime": {
     "end_time": "2021-12-03T15:17:27.576999Z",
     "start_time": "2021-12-03T15:17:26.953251Z"
    }
   },
   "outputs": [],
   "source": [
    "work_dir = os.path.expanduser('../../../Data/shapes/')\n",
    "patagonia = os.path.join(work_dir, 'patagonia_geo.shp')\n",
    "patagonia_grande = geemap.shp_to_ee(patagonia)\n",
    "base1 = os.path.join(work_dir, 'base_geo.shp')\n",
    "base = geemap.shp_to_ee(base1)"
   ]
  },
  {
   "cell_type": "code",
   "execution_count": 4,
   "id": "ebd00a21",
   "metadata": {
    "ExecuteTime": {
     "end_time": "2021-12-03T15:17:28.990256Z",
     "start_time": "2021-12-03T15:17:27.578015Z"
    }
   },
   "outputs": [],
   "source": [
    "base2 = os.path.join(work_dir, 'base2.shp')\n",
    "base2 = geemap.shp_to_ee(base2)\n",
    "base3 = os.path.join(work_dir, 'base3.shp')\n",
    "base3 = geemap.shp_to_ee(base3)\n",
    "base4 = os.path.join(work_dir, 'base4.shp')\n",
    "base4 = geemap.shp_to_ee(base4)\n",
    "base5 = os.path.join(work_dir, 'base5.shp')\n",
    "base5 = geemap.shp_to_ee(base5)\n",
    "base6 = os.path.join(work_dir, 'base6.shp')\n",
    "base6 = geemap.shp_to_ee(base6)"
   ]
  },
  {
   "cell_type": "code",
   "execution_count": 5,
   "id": "833630fa",
   "metadata": {
    "ExecuteTime": {
     "end_time": "2021-12-03T15:17:30.254805Z",
     "start_time": "2021-12-03T15:17:28.991360Z"
    }
   },
   "outputs": [],
   "source": [
    "geometria_base = os.path.join(work_dir, 'mapa_base_dis.shp') \n",
    "geometria_base = geemap.shp_to_ee(geometria_base)"
   ]
  },
  {
   "cell_type": "code",
   "execution_count": 6,
   "id": "8968a576",
   "metadata": {
    "ExecuteTime": {
     "end_time": "2021-12-03T15:17:30.577168Z",
     "start_time": "2021-12-03T15:17:30.256042Z"
    }
   },
   "outputs": [],
   "source": [
    "geometria_base2 = os.path.join(work_dir, 'area_base2_dis.shp') \n",
    "geometria_base2 = geemap.shp_to_ee(geometria_base2)"
   ]
  },
  {
   "cell_type": "code",
   "execution_count": 7,
   "id": "4dbbceda",
   "metadata": {
    "ExecuteTime": {
     "end_time": "2021-12-03T15:17:30.585182Z",
     "start_time": "2021-12-03T15:17:30.578030Z"
    }
   },
   "outputs": [],
   "source": [
    "geometry_exp = ee.Geometry.Polygon(\n",
    "        [[[-72.56281773604495, -33.81999514196144],\n",
    "          [-72.96381871260745, -35.294382843203024],\n",
    "          [-73.27692906416995, -35.25850698608905],\n",
    "          [-74.15583531416995, -38.13757615203617],\n",
    "          [-73.96357457198245, -38.16349478321529],\n",
    "          [-74.41603250978783, -39.59214901926122],\n",
    "          [-73.71840067385033, -39.70212049569608],\n",
    "          [-74.48057965994737, -41.961233926702086],\n",
    "          [-76.23199334221133, -46.599308425949715],\n",
    "          [-75.71838250236758, -46.6705186900265],\n",
    "          [-76.31583416780423, -48.08335993023956],\n",
    "          [-75.6739504332226, -48.17601084778724],\n",
    "          [-76.1812028986966, -49.3089458997328],\n",
    "          [-75.8516130549466, -49.35190435466257],\n",
    "          [-75.88182545729035, -49.42252520588146],\n",
    "          [-75.62776661939972, -49.4593908439046],\n",
    "          [-75.87838309772656, -50.0286830263256],\n",
    "          [-75.4746355391328, -50.08951678614621],\n",
    "          [-75.54325576346766, -50.23909657453096],\n",
    "          [-75.77780697097086, -50.76007049594944],\n",
    "          [-75.16119930495523, -50.84458853545005],\n",
    "          [-75.38504574050211, -51.344039508567974],\n",
    "          [-75.5541538866841, -51.71140521484993],\n",
    "          [-75.18336531246536, -51.75648162278235],\n",
    "          [-75.47788882049618, -52.3659753295982],\n",
    "          [-74.75894718310815, -52.46884703800526],\n",
    "          [-75.08565455837835, -53.06208069103826],\n",
    "          [-74.55801479059262, -53.126414996444055],\n",
    "          [-74.81690883977036, -53.6371915734125],\n",
    "          [-73.44408000172288, -53.83741753537409],\n",
    "          [-73.50862467945726, -53.95798563315933],\n",
    "          [-73.45231974781663, -53.967680681913386],\n",
    "          [-73.53197062672288, -54.11766576333605],\n",
    "          [-73.77219189508037, -54.57485104154676],\n",
    "          [-72.34049166499341, -54.77775087176573],\n",
    "          [-72.47759402717024, -55.03231503944354],\n",
    "          [-71.05285526571967, -55.24340674895388],\n",
    "          [-71.08306766806342, -55.29113504937561],\n",
    "          [-69.81960741798575, -55.47109132991434],\n",
    "          [-69.85119311134513, -55.51932330880519],\n",
    "          [-69.68227831642325, -55.544194128455445],\n",
    "          [-69.79214159767325, -55.75341614311607],\n",
    "          [-66.85410518726452, -56.21137383375629],\n",
    "          [-66.30968752348785, -55.25322454720416],\n",
    "          [-65.44176760161285, -55.378260612328376],\n",
    "          [-65.29222191220039, -55.084940556988364],\n",
    "          [-63.8145607793879, -55.29503930747886],\n",
    "          [-63.4410256231379, -54.559610949790994],\n",
    "          [-66.01731956845039, -54.18844646199444],\n",
    "          [-65.92942894345039, -53.97576673331468],\n",
    "          [-67.35765159970039, -53.77173637481835],\n",
    "          [-66.83490788218774, -52.56216102836118],\n",
    "          [-68.29059635875024, -52.351280557744616],\n",
    "          [-67.13664467133525, -49.5665018755825],\n",
    "          [-65.6891959408665, -49.77447361491692],\n",
    "          [-64.6040407061826, -46.886773053508534],\n",
    "          [-66.07346209290135, -46.670468623465915],\n",
    "          [-65.60651222417681, -45.29237148760689],\n",
    "          [-64.13159767339556, -45.51413819831776],\n",
    "          [-63.11762183127383, -42.44210625114028],\n",
    "          [-61.64820044455508, -42.65254570178212],\n",
    "          [-60.691700635610566, -39.58656313087865],\n",
    "          [-60.612049756704316, -39.597145764356114],\n",
    "          [-60.214053037778356, -38.26345264755797],\n",
    "          [-62.338430585556544, -37.86345563921212],\n",
    "          [-62.431814374619044, -38.13616213643378],\n",
    "          [-63.880475463562526, -37.8656239671591],\n",
    "          [-63.965619506531276, -38.12752037872568],\n",
    "          [-65.43863114657343, -37.86678770192114],\n",
    "          [-65.52652177157343, -38.12867996539086],\n",
    "          [-66.31753739657343, -37.98811028708228],\n",
    "          [-65.98609312949165, -36.82548737245019],\n",
    "          [-68.06866521074468, -36.43149799324939],\n",
    "          [-68.16204899980718, -36.70723234878123],\n",
    "          [-69.00250310136968, -36.55294237984414],\n",
    "          [-68.66838285254276, -35.38834808765389],\n",
    "          [-70.73190167990279, -35.008946233837705],\n",
    "          [-70.82528546896529, -35.29190694633577],\n",
    "          [-71.68771222677779, -35.11685679848462],\n",
    "          [-71.37460187521529, -33.95679291780399],\n",
    "          [-72.53365949240279, -33.733238932504804]]])"
   ]
  },
  {
   "cell_type": "markdown",
   "id": "fa8e2fea",
   "metadata": {},
   "source": [
    "## Colors Bars"
   ]
  },
  {
   "cell_type": "code",
   "execution_count": 8,
   "id": "1efebd11",
   "metadata": {
    "ExecuteTime": {
     "end_time": "2021-12-03T15:17:31.454865Z",
     "start_time": "2021-12-03T15:17:30.586186Z"
    }
   },
   "outputs": [],
   "source": [
    "import geemap.colormaps as cm"
   ]
  },
  {
   "cell_type": "code",
   "execution_count": 9,
   "id": "d159d70f",
   "metadata": {
    "ExecuteTime": {
     "end_time": "2021-12-03T15:17:31.457845Z",
     "start_time": "2021-12-03T15:17:31.455771Z"
    }
   },
   "outputs": [],
   "source": [
    "# cm.palettes.terrain"
   ]
  },
  {
   "cell_type": "code",
   "execution_count": 10,
   "id": "fe999a91",
   "metadata": {
    "ExecuteTime": {
     "end_time": "2021-12-03T15:17:31.461499Z",
     "start_time": "2021-12-03T15:17:31.459865Z"
    }
   },
   "outputs": [],
   "source": [
    "color_ndvi = cm.palettes.ndvi"
   ]
  },
  {
   "cell_type": "code",
   "execution_count": 11,
   "id": "05fb282a",
   "metadata": {
    "ExecuteTime": {
     "end_time": "2021-12-03T15:17:31.466505Z",
     "start_time": "2021-12-03T15:17:31.462210Z"
    }
   },
   "outputs": [],
   "source": [
    "color_ndwi = cm.palettes.ndwi"
   ]
  },
  {
   "cell_type": "code",
   "execution_count": 12,
   "id": "68161910",
   "metadata": {
    "ExecuteTime": {
     "end_time": "2021-12-03T15:17:31.471130Z",
     "start_time": "2021-12-03T15:17:31.467270Z"
    }
   },
   "outputs": [],
   "source": [
    "color_terrain = cm.palettes.terrain"
   ]
  },
  {
   "cell_type": "code",
   "execution_count": 13,
   "id": "8e99245f",
   "metadata": {
    "ExecuteTime": {
     "end_time": "2021-12-03T15:17:31.476136Z",
     "start_time": "2021-12-03T15:17:31.471939Z"
    }
   },
   "outputs": [],
   "source": [
    "color_glaciar = cm.palettes.PuBuGn_r"
   ]
  },
  {
   "cell_type": "code",
   "execution_count": 14,
   "id": "92b8cf41",
   "metadata": {
    "ExecuteTime": {
     "end_time": "2021-12-03T15:17:31.480647Z",
     "start_time": "2021-12-03T15:17:31.476865Z"
    }
   },
   "outputs": [],
   "source": [
    "color_nubes = cm.palettes.inferno"
   ]
  },
  {
   "cell_type": "code",
   "execution_count": 15,
   "id": "39930741",
   "metadata": {
    "ExecuteTime": {
     "end_time": "2021-12-03T15:17:31.485036Z",
     "start_time": "2021-12-03T15:17:31.481418Z"
    }
   },
   "outputs": [],
   "source": [
    "# cm.list_colormaps()"
   ]
  },
  {
   "cell_type": "code",
   "execution_count": 16,
   "id": "0ce61cbe",
   "metadata": {
    "ExecuteTime": {
     "end_time": "2021-12-03T15:17:31.490047Z",
     "start_time": "2021-12-03T15:17:31.485813Z"
    }
   },
   "outputs": [],
   "source": [
    "# cm.plot_colormaps(width=12, height=0.4)"
   ]
  },
  {
   "cell_type": "markdown",
   "id": "11666045",
   "metadata": {},
   "source": [
    "## Funciones"
   ]
  },
  {
   "cell_type": "code",
   "execution_count": 17,
   "id": "166db170",
   "metadata": {
    "ExecuteTime": {
     "end_time": "2021-12-03T15:17:31.494470Z",
     "start_time": "2021-12-03T15:17:31.490757Z"
    }
   },
   "outputs": [],
   "source": [
    "def add_ee_layer(self, ee_image_object, vis_params, name):\n",
    "  map_id_dict = ee.Image(ee_image_object).getMapId(vis_params)\n",
    "  folium.raster_layers.TileLayer(\n",
    "      tiles=map_id_dict['tile_fetcher'].url_format,\n",
    "      attr='Map Data &copy; <a href=\"https://earthengine.google.com/\">Google Earth Engine</a>',\n",
    "      name=name,\n",
    "      overlay=True,\n",
    "      control=True\n",
    "  ).add_to(self)\n",
    "\n",
    "folium.Map.add_ee_layer = add_ee_layer"
   ]
  },
  {
   "cell_type": "code",
   "execution_count": 18,
   "id": "b9e1cdaf",
   "metadata": {
    "ExecuteTime": {
     "end_time": "2021-12-03T15:17:31.499115Z",
     "start_time": "2021-12-03T15:17:31.495212Z"
    }
   },
   "outputs": [],
   "source": [
    "def addNDVI(image): \n",
    "    ndvi = image.normalizedDifference(['B5', 'B4']).rename('NDVI')\n",
    "    return image.addBands(ndvi)"
   ]
  },
  {
   "cell_type": "code",
   "execution_count": 19,
   "id": "4c83d08e",
   "metadata": {
    "ExecuteTime": {
     "end_time": "2021-12-03T15:17:31.501439Z",
     "start_time": "2021-12-03T15:17:31.499915Z"
    }
   },
   "outputs": [],
   "source": [
    "def addNDVI2(image): \n",
    "    ndvi = image.normalizedDifference(['B5', 'B4']).rename('NDVI2')\n",
    "    return image.addBands(ndvi)"
   ]
  },
  {
   "cell_type": "code",
   "execution_count": 20,
   "id": "ad105a37",
   "metadata": {
    "ExecuteTime": {
     "end_time": "2021-12-03T15:17:31.503709Z",
     "start_time": "2021-12-03T15:17:31.502132Z"
    }
   },
   "outputs": [],
   "source": [
    "def addNDWI(image):\n",
    "    ndwi = image.normalizedDifference(['B3','B5']).rename('NDWI')\n",
    "    return image.addBands(ndwi)"
   ]
  },
  {
   "cell_type": "code",
   "execution_count": 21,
   "id": "afd5a921",
   "metadata": {
    "ExecuteTime": {
     "end_time": "2021-12-03T15:17:31.505961Z",
     "start_time": "2021-12-03T15:17:31.504436Z"
    }
   },
   "outputs": [],
   "source": [
    "def addNDGI(image):\n",
    "    ndgi = image.normalizedDifference(['B3','B4']).rename('NDGI')\n",
    "    return image.addBands(ndgi)"
   ]
  },
  {
   "cell_type": "code",
   "execution_count": 22,
   "id": "786770f8",
   "metadata": {
    "ExecuteTime": {
     "end_time": "2021-12-03T15:17:31.508637Z",
     "start_time": "2021-12-03T15:17:31.506923Z"
    }
   },
   "outputs": [],
   "source": [
    "def addSAVI(image):\n",
    "    savi = image.expression(\n",
    "        '((b5 - b4)/(b5 + b4 + 0.5))*1.5', {\n",
    "            'b4':image.select('B4'),\n",
    "            'b5':image.select('B5')\n",
    "        }) \n",
    "    savi= savi.rename('SAVI')\n",
    "    return image.addBands(savi)"
   ]
  },
  {
   "cell_type": "code",
   "execution_count": 23,
   "id": "cffb72aa",
   "metadata": {
    "ExecuteTime": {
     "end_time": "2021-12-03T15:17:31.511195Z",
     "start_time": "2021-12-03T15:17:31.509485Z"
    }
   },
   "outputs": [],
   "source": [
    "def addNDSI(image):\n",
    "    ndsi = image.normalizedDifference(['B3','B6']).rename('NDSI')\n",
    "    return image.addBands(ndsi)"
   ]
  },
  {
   "cell_type": "code",
   "execution_count": 24,
   "id": "4889cabe",
   "metadata": {
    "ExecuteTime": {
     "end_time": "2021-12-03T15:17:31.513659Z",
     "start_time": "2021-12-03T15:17:31.511892Z"
    }
   },
   "outputs": [],
   "source": [
    "def addDate(image):\n",
    "    img_date = ee.Date(image.date())\n",
    "    img_date = ee.Number.parse(img_date.format('YYYYMMdd'))\n",
    "    return image.addBands(ee.Image(img_date).rename('date').toInt())"
   ]
  },
  {
   "cell_type": "code",
   "execution_count": 25,
   "id": "04720d6b",
   "metadata": {
    "ExecuteTime": {
     "end_time": "2021-12-03T15:17:31.516161Z",
     "start_time": "2021-12-03T15:17:31.514468Z"
    }
   },
   "outputs": [],
   "source": [
    "def Cloud40(image):\n",
    "    scored = ee.Algorithms.Landsat.simpleCloudScore(image)\n",
    "    return image.updateMask(scored.select(['cloud']).lt(40)) "
   ]
  },
  {
   "cell_type": "code",
   "execution_count": 26,
   "id": "3115c210",
   "metadata": {
    "ExecuteTime": {
     "end_time": "2021-12-03T15:17:31.518594Z",
     "start_time": "2021-12-03T15:17:31.516904Z"
    }
   },
   "outputs": [],
   "source": [
    "def Cloud30(image):\n",
    "    scored = ee.Algorithms.Landsat.simpleCloudScore(image)\n",
    "    return image.updateMask(scored.select(['cloud']).lt(30)) "
   ]
  },
  {
   "cell_type": "code",
   "execution_count": 27,
   "id": "f86cf507",
   "metadata": {
    "ExecuteTime": {
     "end_time": "2021-12-03T15:17:31.520901Z",
     "start_time": "2021-12-03T15:17:31.519343Z"
    }
   },
   "outputs": [],
   "source": [
    "def Cloud20(image):\n",
    "    scored = ee.Algorithms.Landsat.simpleCloudScore(image)\n",
    "    return image.updateMask(scored.select(['cloud']).lt(20)) "
   ]
  },
  {
   "cell_type": "code",
   "execution_count": 28,
   "id": "9d288b40",
   "metadata": {
    "ExecuteTime": {
     "end_time": "2021-12-03T15:17:31.524980Z",
     "start_time": "2021-12-03T15:17:31.523334Z"
    }
   },
   "outputs": [],
   "source": [
    "def Cloud10(image):\n",
    "    scored = ee.Algorithms.Landsat.simpleCloudScore(image)\n",
    "    return image.updateMask(scored.select(['cloud']).lt(10))"
   ]
  },
  {
   "cell_type": "code",
   "execution_count": 29,
   "id": "92d6ba1b",
   "metadata": {
    "ExecuteTime": {
     "end_time": "2021-12-03T15:17:31.527556Z",
     "start_time": "2021-12-03T15:17:31.525891Z"
    }
   },
   "outputs": [],
   "source": [
    "def addCloud(image):\n",
    "    nube = ee.Algorithms.Landsat.simpleCloudScore(image)\n",
    "    return image.addBands(ee.Image(nube.select(['cloud'])).rename('nube'))"
   ]
  },
  {
   "cell_type": "code",
   "execution_count": 30,
   "id": "4eb69ead",
   "metadata": {
    "ExecuteTime": {
     "end_time": "2021-12-03T15:17:31.531237Z",
     "start_time": "2021-12-03T15:17:31.528273Z"
    }
   },
   "outputs": [],
   "source": [
    "def find_closest(target_image, image_col, days):\n",
    "    \"\"\"Filter images in a collection by date proximity and spatial intersection to a target image.\n",
    "\n",
    "    Args:\n",
    "        target_image: An ee.Image whose observation date is used to find near-date images in\n",
    "          the provided image_col image collection. It must have a 'system:time_start' property.\n",
    "        image_col: An ee.ImageCollection to filter by date proximity and spatial intersection\n",
    "          to the target_image. Each image in the collection must have a 'system:time_start'\n",
    "          property.\n",
    "        days: A number that defines the maximum number of days difference allowed between\n",
    "          the target_image and images in the image_col.\n",
    "\n",
    "    Returns:\n",
    "        An ee.ImageCollection that has been filtered to include those images that are within the\n",
    "          given date proximity to target_image and intersect it spatially.\n",
    "    \"\"\"\n",
    "\n",
    "    # Compute the timespan for N days (in milliseconds).\n",
    "    range = ee.Number(days).multiply(1000 * 60 * 60 * 24)\n",
    "\n",
    "    filter = ee.Filter.And(\n",
    "        ee.Filter.maxDifference(range, 'system:time_start', None, 'system:time_start'),\n",
    "        ee.Filter.intersects('.geo', None, '.geo'))\n",
    "\n",
    "    closest = (ee.Join.saveAll('matches', 'measure')\n",
    "        .apply(ee.ImageCollection([target_image]), image_col, filter))\n",
    "\n",
    "    return ee.ImageCollection(ee.List(closest.first().get('matches')))"
   ]
  },
  {
   "cell_type": "code",
   "execution_count": 31,
   "id": "b54bde64",
   "metadata": {
    "ExecuteTime": {
     "end_time": "2021-12-03T15:17:31.533420Z",
     "start_time": "2021-12-03T15:17:31.531887Z"
    }
   },
   "outputs": [],
   "source": [
    "vizParams = {\n",
    "  'bands': ['B5', 'B4', 'B3'],\n",
    "  'min': 0,\n",
    "  'max': 0.5,\n",
    "  'gamma': [0.95, 1.1, 1]\n",
    "}"
   ]
  },
  {
   "cell_type": "code",
   "execution_count": 32,
   "id": "71bcb153",
   "metadata": {
    "ExecuteTime": {
     "end_time": "2021-12-03T15:17:31.535578Z",
     "start_time": "2021-12-03T15:17:31.534115Z"
    }
   },
   "outputs": [],
   "source": [
    "vizParams_m = {\n",
    "  'bands': ['B5', 'B4', 'B3'],\n",
    "  'min': 0,\n",
    "  'max': 0.6,\n",
    "  'gamma': [1, 1, 1]\n",
    "}"
   ]
  },
  {
   "cell_type": "code",
   "execution_count": 33,
   "id": "aa02e8e2",
   "metadata": {
    "ExecuteTime": {
     "end_time": "2021-12-03T15:17:31.538066Z",
     "start_time": "2021-12-03T15:17:31.536459Z"
    }
   },
   "outputs": [],
   "source": [
    "vis_nieve = {\n",
    "  'bands': ['B6', 'B4', 'B3'],\n",
    "  'min': 0,\n",
    "  'max': 0.5,\n",
    "  'gamma': [0.95, 1.1, 1]\n",
    "}"
   ]
  },
  {
   "cell_type": "markdown",
   "id": "d9a442fb",
   "metadata": {},
   "source": [
    "## Colecciones"
   ]
  },
  {
   "cell_type": "markdown",
   "id": "5d07b81d",
   "metadata": {},
   "source": [
    "### 2020 Invierno"
   ]
  },
  {
   "cell_type": "code",
   "execution_count": 34,
   "id": "0e0c1dfc",
   "metadata": {
    "ExecuteTime": {
     "end_time": "2021-12-03T15:17:31.541188Z",
     "start_time": "2021-12-03T15:17:31.538754Z"
    }
   },
   "outputs": [],
   "source": [
    "start_date = '2020-06-01'\n",
    "end_date = '2020-09-30'\n",
    "\n",
    "l8_2020 = ee.ImageCollection('LANDSAT/LC08/C01/T1_TOA') \\\n",
    "    .filterBounds(patagonia_grande) \\\n",
    "    .filterDate(start_date, end_date)  "
   ]
  },
  {
   "cell_type": "code",
   "execution_count": 35,
   "id": "74d427f9",
   "metadata": {
    "ExecuteTime": {
     "end_time": "2021-12-03T15:17:31.545920Z",
     "start_time": "2021-12-03T15:17:31.541848Z"
    }
   },
   "outputs": [],
   "source": [
    "coleccion2020 = l8_2020.map(addNDVI).map(addNDWI).map(addNDGI).map(addSAVI).map(addNDSI).map(addDate).map(addCloud)"
   ]
  },
  {
   "cell_type": "code",
   "execution_count": 36,
   "id": "e660d316",
   "metadata": {
    "ExecuteTime": {
     "end_time": "2021-12-03T15:17:31.548922Z",
     "start_time": "2021-12-03T15:17:31.546712Z"
    }
   },
   "outputs": [],
   "source": [
    "NDVI_2020 = coleccion2020.qualityMosaic('NDVI')\n",
    "NDWI_2020 = coleccion2020.qualityMosaic('NDWI')\n",
    "SAVI_2020 = coleccion2020.qualityMosaic('SAVI')\n",
    "NDGI_2020 = coleccion2020.qualityMosaic('NDGI')\n",
    "NDSI_2020 = coleccion2020.qualityMosaic('NDSI')"
   ]
  },
  {
   "cell_type": "code",
   "execution_count": 37,
   "id": "2b71385b",
   "metadata": {
    "ExecuteTime": {
     "end_time": "2021-12-03T15:17:31.551732Z",
     "start_time": "2021-12-03T15:17:31.549596Z"
    }
   },
   "outputs": [],
   "source": [
    "c2020_sn = coleccion2020.map(Cloud10)\n",
    "NDVI_2020_sn = c2020_sn.qualityMosaic('NDVI')\n",
    "NDWI_2020_sn = c2020_sn.qualityMosaic('NDWI')\n",
    "SAVI_2020_sn = c2020_sn.qualityMosaic('SAVI')\n",
    "NDGI_2020_sn = c2020_sn.qualityMosaic('NDGI')\n",
    "NDSI_2020_sn = c2020_sn.qualityMosaic('NDSI')"
   ]
  },
  {
   "cell_type": "code",
   "execution_count": 38,
   "id": "e2ee17c2",
   "metadata": {
    "ExecuteTime": {
     "end_time": "2021-12-03T15:17:35.562813Z",
     "start_time": "2021-12-03T15:17:31.552491Z"
    }
   },
   "outputs": [
    {
     "data": {
      "application/vnd.jupyter.widget-view+json": {
       "model_id": "3d09bbe581b9469cb336c206e929cdd8",
       "version_major": 2,
       "version_minor": 0
      },
      "text/plain": [
       "Map(center=[-45, -70], controls=(WidgetControl(options=['position', 'transparent_bg'], widget=HBox(children=(T…"
      ]
     },
     "metadata": {},
     "output_type": "display_data"
    }
   ],
   "source": [
    "Map.addLayer(NDVI_2020_sn, vizParams, 'QMsn de NDVI 2020')\n",
    "Map.addLayer(NDVI_2020, vizParams, 'QM de NDVI 2020')\n",
    "Map.addLayer(NDWI_2020_sn, vizParams, 'QMsn de NDWI 2020')\n",
    "Map.addLayer(SAVI_2020_sn, vizParams, 'QMsn de SAVI 2020')\n",
    "Map.addLayer(NDGI_2020_sn, vis_nieve, 'QMsn de NDGI 2020')\n",
    "Map.addLayer(NDSI_2020_sn, vis_nieve, 'QMsn de NDSI 2020')\n",
    "Map"
   ]
  },
  {
   "cell_type": "code",
   "execution_count": 39,
   "id": "1994dbdf",
   "metadata": {
    "ExecuteTime": {
     "end_time": "2021-12-03T15:17:35.565211Z",
     "start_time": "2021-12-03T15:17:35.563498Z"
    }
   },
   "outputs": [],
   "source": [
    "NDVI_2020_l8 = NDVI_2020.set('SENSOR_ID', 'OLI_TIRS')"
   ]
  },
  {
   "cell_type": "code",
   "execution_count": 40,
   "id": "60a91aeb",
   "metadata": {
    "ExecuteTime": {
     "end_time": "2021-12-03T15:17:35.567517Z",
     "start_time": "2021-12-03T15:17:35.565849Z"
    }
   },
   "outputs": [],
   "source": [
    "cloud_2020_l8 = ee.Algorithms.Landsat.simpleCloudScore(NDVI_2020_l8)\n",
    "cloud_2020_l8 = cloud_2020_l8.select('cloud')"
   ]
  },
  {
   "cell_type": "code",
   "execution_count": 41,
   "id": "27740f8b",
   "metadata": {
    "ExecuteTime": {
     "end_time": "2021-12-03T15:17:35.569647Z",
     "start_time": "2021-12-03T15:17:35.568203Z"
    }
   },
   "outputs": [],
   "source": [
    "palette_nubes = ['#1a9850', '#66bd63', '#a6d96a', '#d9ef8b', '#fee08b', '#fdae61', '#f46d43', '#d73027']"
   ]
  },
  {
   "cell_type": "code",
   "execution_count": 42,
   "id": "613ea840",
   "metadata": {
    "ExecuteTime": {
     "end_time": "2021-12-03T15:17:35.571998Z",
     "start_time": "2021-12-03T15:17:35.570387Z"
    }
   },
   "outputs": [],
   "source": [
    "resultados= [cloud_2020_l8, NDVI_2020]\n",
    "vis_params2=  [\n",
    "    {'palette':palette_nubes}, \n",
    "    vizParams]\n",
    "labels = [\n",
    "    'Nubes 2020',\n",
    "    'QM NDVI 2020']"
   ]
  },
  {
   "cell_type": "code",
   "execution_count": 43,
   "id": "cb0d5f26",
   "metadata": {
    "ExecuteTime": {
     "end_time": "2021-12-03T15:17:35.574041Z",
     "start_time": "2021-12-03T15:17:35.572755Z"
    }
   },
   "outputs": [],
   "source": [
    "# geemap.linked_maps(rows=1, cols=2, height=\"400px\", center=[-45, -75], zoom=4, \n",
    "#                    ee_objects=resultados, vis_params=vis_params2, labels=labels, label_position=\"topright\")"
   ]
  },
  {
   "cell_type": "markdown",
   "id": "b8617200",
   "metadata": {},
   "source": [
    "### 2019 Invierno"
   ]
  },
  {
   "cell_type": "code",
   "execution_count": 44,
   "id": "0401d370",
   "metadata": {
    "ExecuteTime": {
     "end_time": "2021-12-03T15:17:35.576456Z",
     "start_time": "2021-12-03T15:17:35.574723Z"
    }
   },
   "outputs": [],
   "source": [
    "start_date = '2019-06-01'\n",
    "end_date = '2019-09-30'\n",
    "\n",
    "l8_2019 = ee.ImageCollection('LANDSAT/LC08/C01/T1_TOA') \\\n",
    "    .filterBounds(patagonia_grande) \\\n",
    "    .filterDate(start_date, end_date)"
   ]
  },
  {
   "cell_type": "markdown",
   "id": "811a0128",
   "metadata": {},
   "source": [
    "### 2018 Invierno"
   ]
  },
  {
   "cell_type": "code",
   "execution_count": 45,
   "id": "d756b623",
   "metadata": {
    "ExecuteTime": {
     "end_time": "2021-12-03T15:17:35.578766Z",
     "start_time": "2021-12-03T15:17:35.577122Z"
    }
   },
   "outputs": [],
   "source": [
    "start_date = '2018-06-01'\n",
    "end_date = '2018-09-30'\n",
    "\n",
    "l8_2018 = ee.ImageCollection('LANDSAT/LC08/C01/T1_TOA') \\\n",
    "    .filterBounds(patagonia_grande) \\\n",
    "    .filterDate(start_date, end_date)"
   ]
  },
  {
   "cell_type": "markdown",
   "id": "158f0bb1",
   "metadata": {},
   "source": [
    "### 2017 Invierno"
   ]
  },
  {
   "cell_type": "code",
   "execution_count": 46,
   "id": "2c2ce2a2",
   "metadata": {
    "ExecuteTime": {
     "end_time": "2021-12-03T15:17:35.580983Z",
     "start_time": "2021-12-03T15:17:35.579472Z"
    }
   },
   "outputs": [],
   "source": [
    "start_date = '2017-06-01'\n",
    "end_date = '2017-09-30'\n",
    "\n",
    "l8_2017 = ee.ImageCollection('LANDSAT/LC08/C01/T1_TOA') \\\n",
    "    .filterBounds(patagonia_grande) \\\n",
    "    .filterDate(start_date, end_date)"
   ]
  },
  {
   "cell_type": "markdown",
   "id": "ad28b803",
   "metadata": {},
   "source": [
    "### 2016 Invierno"
   ]
  },
  {
   "cell_type": "code",
   "execution_count": 47,
   "id": "1917c893",
   "metadata": {
    "ExecuteTime": {
     "end_time": "2021-12-03T15:17:35.583436Z",
     "start_time": "2021-12-03T15:17:35.581793Z"
    }
   },
   "outputs": [],
   "source": [
    "start_date = '2016-06-01'\n",
    "end_date = '2016-09-30'\n",
    "\n",
    "l8_2016 = ee.ImageCollection('LANDSAT/LC08/C01/T1_TOA') \\\n",
    "    .filterBounds(patagonia_grande) \\\n",
    "    .filterDate(start_date, end_date)"
   ]
  },
  {
   "cell_type": "markdown",
   "id": "d0a1318e",
   "metadata": {},
   "source": [
    "### 2021-2017 Colección "
   ]
  },
  {
   "cell_type": "code",
   "execution_count": 48,
   "id": "73e05438",
   "metadata": {
    "ExecuteTime": {
     "end_time": "2021-12-03T15:17:35.585939Z",
     "start_time": "2021-12-03T15:17:35.584186Z"
    }
   },
   "outputs": [],
   "source": [
    "filterwinter = ee.Filter.Or(\n",
    "    ee.Filter.date('2020-06-01','2020-09-30'),\n",
    "    ee.Filter.date('2019-06-01','2019-09-30'),\n",
    "    ee.Filter.date('2018-06-01','2018-09-30'),\n",
    "    ee.Filter.date('2017-06-01','2017-09-30')\n",
    ")"
   ]
  },
  {
   "cell_type": "code",
   "execution_count": 49,
   "id": "e3459c31",
   "metadata": {
    "ExecuteTime": {
     "end_time": "2021-12-03T15:17:35.588244Z",
     "start_time": "2021-12-03T15:17:35.586735Z"
    }
   },
   "outputs": [],
   "source": [
    "coleccion2021_2017 = ee.ImageCollection('LANDSAT/LC08/C01/T1_TOA') \\\n",
    "    .filterDate('2017-06-01', '2021-09-30') \\\n",
    "    .filter(filterwinter) \\\n",
    "    .filterBounds(patagonia_grande)"
   ]
  },
  {
   "cell_type": "code",
   "execution_count": 50,
   "id": "b84c22d9",
   "metadata": {
    "ExecuteTime": {
     "end_time": "2021-12-03T15:17:35.592846Z",
     "start_time": "2021-12-03T15:17:35.589006Z"
    }
   },
   "outputs": [],
   "source": [
    "l8_winter= coleccion2021_2017.map(addNDVI).map(addNDWI).map(addNDGI).map(addSAVI).map(addNDSI).map(addDate).map(addCloud)"
   ]
  },
  {
   "cell_type": "code",
   "execution_count": 51,
   "id": "cbb613f8",
   "metadata": {
    "ExecuteTime": {
     "end_time": "2021-12-03T15:17:36.966308Z",
     "start_time": "2021-12-03T15:17:35.593609Z"
    },
    "scrolled": false
   },
   "outputs": [
    {
     "data": {
      "application/vnd.jupyter.widget-view+json": {
       "model_id": "fd3813117bf54dfda30847aac424934d",
       "version_major": 2,
       "version_minor": 0
      },
      "text/plain": [
       "Map(center=[-45, -70], controls=(WidgetControl(options=['position', 'transparent_bg'], widget=HBox(children=(T…"
      ]
     },
     "metadata": {},
     "output_type": "display_data"
    }
   ],
   "source": [
    "Map2.addLayer(l8_winter.median(), vizParams, 'median')\n",
    "Map2 "
   ]
  },
  {
   "cell_type": "markdown",
   "id": "12cf11b9",
   "metadata": {},
   "source": [
    "### Tier 1\n"
   ]
  },
  {
   "cell_type": "code",
   "execution_count": 52,
   "id": "65f6e56e",
   "metadata": {
    "ExecuteTime": {
     "end_time": "2021-12-03T15:17:36.968982Z",
     "start_time": "2021-12-03T15:17:36.967039Z"
    }
   },
   "outputs": [],
   "source": [
    "Tier1_sn = l8_winter.map(Cloud10)"
   ]
  },
  {
   "cell_type": "code",
   "execution_count": 53,
   "id": "61a35ad7",
   "metadata": {
    "ExecuteTime": {
     "end_time": "2021-12-03T15:17:36.971520Z",
     "start_time": "2021-12-03T15:17:36.969827Z"
    }
   },
   "outputs": [],
   "source": [
    "QM_NDVI_T1 = Tier1_sn.qualityMosaic('NDVI')# Normalized difference vegetation Index\n",
    "QM_NDWI_T1 = Tier1_sn.qualityMosaic('NDWI') # Normalize difference water index\n",
    "QM_SAVI_T1 = Tier1_sn.qualityMosaic('SAVI') # Soil Adjusted Vegetation Index \n",
    "QM_NDGI_T1 = Tier1_sn.qualityMosaic('NDGI') # Normalized difference glacier index\n",
    "QM_NDSI_T1 = Tier1_sn.qualityMosaic('NDSI') # Normalized difference snow index"
   ]
  },
  {
   "cell_type": "code",
   "execution_count": 54,
   "id": "416683d4",
   "metadata": {
    "ExecuteTime": {
     "end_time": "2021-12-03T15:17:45.215627Z",
     "start_time": "2021-12-03T15:17:36.972285Z"
    }
   },
   "outputs": [
    {
     "data": {
      "application/vnd.jupyter.widget-view+json": {
       "model_id": "fd3813117bf54dfda30847aac424934d",
       "version_major": 2,
       "version_minor": 0
      },
      "text/plain": [
       "Map(center=[-45, -70], controls=(WidgetControl(options=['position', 'transparent_bg'], widget=HBox(children=(T…"
      ]
     },
     "metadata": {},
     "output_type": "display_data"
    }
   ],
   "source": [
    "Map2.addLayer(QM_NDVI_T1, vizParams, 'QM de NDVI T1')\n",
    "Map2.addLayer(QM_NDWI_T1, vizParams, 'QM de NDWI T1')\n",
    "Map2.addLayer(QM_SAVI_T1, vizParams, 'QM de SAVI T1')\n",
    "Map2.addLayer(QM_NDGI_T1, vis_nieve, 'QM de NDGI T1')\n",
    "Map2.addLayer(QM_NDSI_T1, vis_nieve, 'QM de NDSI T1')\n",
    "\n",
    "Map2.addLayer(Tier1_sn.median(), vizParams, 'mediana de T1')\n",
    "Map2 "
   ]
  },
  {
   "cell_type": "markdown",
   "id": "5f58151c",
   "metadata": {},
   "source": [
    "### Tier 2"
   ]
  },
  {
   "cell_type": "code",
   "execution_count": 55,
   "id": "3f1efa8c",
   "metadata": {
    "ExecuteTime": {
     "end_time": "2021-12-03T15:17:45.218395Z",
     "start_time": "2021-12-03T15:17:45.216410Z"
    }
   },
   "outputs": [],
   "source": [
    "Tier2_sn = l8_winter.map(Cloud20)"
   ]
  },
  {
   "cell_type": "code",
   "execution_count": 56,
   "id": "888370aa",
   "metadata": {
    "ExecuteTime": {
     "end_time": "2021-12-03T15:17:45.221508Z",
     "start_time": "2021-12-03T15:17:45.219044Z"
    }
   },
   "outputs": [],
   "source": [
    "QM_NDVI_T2 = Tier2_sn.qualityMosaic('NDVI')# Normalized difference vegetation Index\n",
    "QM_NDWI_T2 = Tier2_sn.qualityMosaic('NDWI') # Normalize difference water index\n",
    "QM_SAVI_T2 = Tier2_sn.qualityMosaic('SAVI') # Soil Adjusted Vegetation Index \n",
    "QM_NDGI_T2 = Tier2_sn.qualityMosaic('NDGI') # Normalized difference glacier index\n",
    "QM_NDSI_T2 = Tier2_sn.qualityMosaic('NDSI') # Normalized difference snow index"
   ]
  },
  {
   "cell_type": "code",
   "execution_count": 57,
   "id": "bfe0fd96",
   "metadata": {
    "ExecuteTime": {
     "end_time": "2021-12-03T15:17:45.223683Z",
     "start_time": "2021-12-03T15:17:45.222207Z"
    }
   },
   "outputs": [],
   "source": [
    "# Map2.addLayer(QM_NDVI_T2, vizParams, 'QM de NDVI T2')\n",
    "# Map2.addLayer(QM_NDWI_T2, vizParams, 'QM de NDWI T2')\n",
    "# Map2.addLayer(QM_SAVI_T2, vizParams, 'QM de SAVI T2')\n",
    "# Map2.addLayer(QM_NDGI_T2, vis_nieve, 'QM de NDGI T2')\n",
    "# Map2.addLayer(QM_NDSI_T2, vis_nieve, 'QM de NDSI T2')\n",
    "# Map2 "
   ]
  },
  {
   "cell_type": "markdown",
   "id": "783d2e36",
   "metadata": {},
   "source": [
    "### Tier 3"
   ]
  },
  {
   "cell_type": "code",
   "execution_count": 58,
   "id": "cba970e0",
   "metadata": {
    "ExecuteTime": {
     "end_time": "2021-12-03T15:17:45.226229Z",
     "start_time": "2021-12-03T15:17:45.224596Z"
    }
   },
   "outputs": [],
   "source": [
    "Tier3_sn = l8_winter.map(Cloud30)"
   ]
  },
  {
   "cell_type": "code",
   "execution_count": 59,
   "id": "8a844166",
   "metadata": {
    "ExecuteTime": {
     "end_time": "2021-12-03T15:17:45.228807Z",
     "start_time": "2021-12-03T15:17:45.226963Z"
    }
   },
   "outputs": [],
   "source": [
    "QM_NDVI_T3 = Tier3_sn.qualityMosaic('NDVI')# Normalized difference vegetation Index\n",
    "QM_NDWI_T3 = Tier3_sn.qualityMosaic('NDWI') # Normalize difference water index\n",
    "QM_SAVI_T3 = Tier3_sn.qualityMosaic('SAVI') # Soil Adjusted Vegetation Index \n",
    "QM_NDGI_T3 = Tier3_sn.qualityMosaic('NDGI') # Normalized difference glacier index\n",
    "QM_NDSI_T3 = Tier3_sn.qualityMosaic('NDSI') # Normalized difference snow index"
   ]
  },
  {
   "cell_type": "markdown",
   "id": "b2453291",
   "metadata": {},
   "source": [
    "### Tier 4"
   ]
  },
  {
   "cell_type": "code",
   "execution_count": 60,
   "id": "7a204626",
   "metadata": {
    "ExecuteTime": {
     "end_time": "2021-12-03T15:17:45.231340Z",
     "start_time": "2021-12-03T15:17:45.229557Z"
    }
   },
   "outputs": [],
   "source": [
    "Tier4_sn = l8_winter.map(Cloud40)"
   ]
  },
  {
   "cell_type": "code",
   "execution_count": 61,
   "id": "7339980d",
   "metadata": {
    "ExecuteTime": {
     "end_time": "2021-12-03T15:17:45.233950Z",
     "start_time": "2021-12-03T15:17:45.232189Z"
    }
   },
   "outputs": [],
   "source": [
    "QM_NDVI_T4 = Tier4_sn.qualityMosaic('NDVI')# Normalized difference vegetation Index\n",
    "QM_NDWI_T4 = Tier4_sn.qualityMosaic('NDWI') # Normalize difference water index\n",
    "QM_SAVI_T4 = Tier4_sn.qualityMosaic('SAVI') # Soil Adjusted Vegetation Index \n",
    "QM_NDGI_T4 = Tier4_sn.qualityMosaic('NDGI') # Normalized difference glacier index\n",
    "QM_NDSI_T4 = Tier4_sn.qualityMosaic('NDSI') # Normalized difference snow index"
   ]
  },
  {
   "cell_type": "markdown",
   "id": "094d9e5d",
   "metadata": {},
   "source": [
    "### Img base"
   ]
  },
  {
   "cell_type": "markdown",
   "id": "c8735a0a",
   "metadata": {},
   "source": [
    "##### Muestras de imagenes del mosaico"
   ]
  },
  {
   "cell_type": "code",
   "execution_count": 62,
   "id": "4202edec",
   "metadata": {
    "ExecuteTime": {
     "end_time": "2021-12-03T15:17:45.236816Z",
     "start_time": "2021-12-03T15:17:45.234983Z"
    }
   },
   "outputs": [],
   "source": [
    "start_date = '2020-10-01'\n",
    "end_date = '2021-03-31'\n",
    "imgbase = ee.ImageCollection('LANDSAT/LC08/C01/T1_TOA') \\\n",
    "    .filterBounds(base) \\\n",
    "    .filterDate(start_date, end_date) \\\n",
    "    .sort('CLOUD_COVER') \\\n",
    "    .first() \n"
   ]
  },
  {
   "cell_type": "code",
   "execution_count": 63,
   "id": "05155459",
   "metadata": {
    "ExecuteTime": {
     "end_time": "2021-12-03T15:17:45.601979Z",
     "start_time": "2021-12-03T15:17:45.237711Z"
    },
    "scrolled": true
   },
   "outputs": [
    {
     "data": {
      "text/plain": [
       "['system:version',\n",
       " 'system:id',\n",
       " 'RADIANCE_MULT_BAND_5',\n",
       " 'RADIANCE_MULT_BAND_6',\n",
       " 'RADIANCE_MULT_BAND_3',\n",
       " 'RADIANCE_MULT_BAND_4',\n",
       " 'RADIANCE_MULT_BAND_1',\n",
       " 'RADIANCE_MULT_BAND_2',\n",
       " 'K2_CONSTANT_BAND_11',\n",
       " 'K2_CONSTANT_BAND_10',\n",
       " 'system:footprint',\n",
       " 'REFLECTIVE_SAMPLES',\n",
       " 'SUN_AZIMUTH',\n",
       " 'CPF_NAME',\n",
       " 'DATE_ACQUIRED',\n",
       " 'ELLIPSOID',\n",
       " 'google:registration_offset_x',\n",
       " 'google:registration_offset_y',\n",
       " 'STATION_ID',\n",
       " 'RESAMPLING_OPTION',\n",
       " 'ORIENTATION',\n",
       " 'WRS_ROW',\n",
       " 'RADIANCE_MULT_BAND_9',\n",
       " 'TARGET_WRS_ROW',\n",
       " 'RADIANCE_MULT_BAND_7',\n",
       " 'RADIANCE_MULT_BAND_8',\n",
       " 'IMAGE_QUALITY_TIRS',\n",
       " 'TRUNCATION_OLI',\n",
       " 'CLOUD_COVER',\n",
       " 'GEOMETRIC_RMSE_VERIFY',\n",
       " 'COLLECTION_CATEGORY',\n",
       " 'GRID_CELL_SIZE_REFLECTIVE',\n",
       " 'CLOUD_COVER_LAND',\n",
       " 'GEOMETRIC_RMSE_MODEL',\n",
       " 'COLLECTION_NUMBER',\n",
       " 'IMAGE_QUALITY_OLI',\n",
       " 'LANDSAT_SCENE_ID',\n",
       " 'WRS_PATH',\n",
       " 'google:registration_count',\n",
       " 'PANCHROMATIC_SAMPLES',\n",
       " 'PANCHROMATIC_LINES',\n",
       " 'GEOMETRIC_RMSE_MODEL_Y',\n",
       " 'REFLECTIVE_LINES',\n",
       " 'TIRS_STRAY_LIGHT_CORRECTION_SOURCE',\n",
       " 'GEOMETRIC_RMSE_MODEL_X',\n",
       " 'system:asset_size',\n",
       " 'system:index',\n",
       " 'REFLECTANCE_ADD_BAND_1',\n",
       " 'REFLECTANCE_ADD_BAND_2',\n",
       " 'DATUM',\n",
       " 'REFLECTANCE_ADD_BAND_3',\n",
       " 'REFLECTANCE_ADD_BAND_4',\n",
       " 'REFLECTANCE_ADD_BAND_5',\n",
       " 'REFLECTANCE_ADD_BAND_6',\n",
       " 'REFLECTANCE_ADD_BAND_7',\n",
       " 'REFLECTANCE_ADD_BAND_8',\n",
       " 'BPF_NAME_TIRS',\n",
       " 'GROUND_CONTROL_POINTS_VERSION',\n",
       " 'DATA_TYPE',\n",
       " 'UTM_ZONE',\n",
       " 'system:time_end',\n",
       " 'LANDSAT_PRODUCT_ID',\n",
       " 'REFLECTANCE_ADD_BAND_9',\n",
       " 'google:registration_ratio',\n",
       " 'GRID_CELL_SIZE_PANCHROMATIC',\n",
       " 'RADIANCE_ADD_BAND_4',\n",
       " 'REFLECTANCE_MULT_BAND_7',\n",
       " 'system:time_start',\n",
       " 'RADIANCE_ADD_BAND_5',\n",
       " 'REFLECTANCE_MULT_BAND_6',\n",
       " 'RADIANCE_ADD_BAND_6',\n",
       " 'REFLECTANCE_MULT_BAND_9',\n",
       " 'PROCESSING_SOFTWARE_VERSION',\n",
       " 'RADIANCE_ADD_BAND_7',\n",
       " 'REFLECTANCE_MULT_BAND_8',\n",
       " 'RADIANCE_ADD_BAND_1',\n",
       " 'RADIANCE_ADD_BAND_2',\n",
       " 'RADIANCE_ADD_BAND_3',\n",
       " 'REFLECTANCE_MULT_BAND_1',\n",
       " 'RADIANCE_ADD_BAND_8',\n",
       " 'REFLECTANCE_MULT_BAND_3',\n",
       " 'RADIANCE_ADD_BAND_9',\n",
       " 'REFLECTANCE_MULT_BAND_2',\n",
       " 'REFLECTANCE_MULT_BAND_5',\n",
       " 'REFLECTANCE_MULT_BAND_4',\n",
       " 'THERMAL_LINES',\n",
       " 'TIRS_SSM_POSITION_STATUS',\n",
       " 'GRID_CELL_SIZE_THERMAL',\n",
       " 'NADIR_OFFNADIR',\n",
       " 'RADIANCE_ADD_BAND_11',\n",
       " 'REQUEST_ID',\n",
       " 'EARTH_SUN_DISTANCE',\n",
       " 'TIRS_SSM_MODEL',\n",
       " 'FILE_DATE',\n",
       " 'SCENE_CENTER_TIME',\n",
       " 'SUN_ELEVATION',\n",
       " 'BPF_NAME_OLI',\n",
       " 'RADIANCE_ADD_BAND_10',\n",
       " 'ROLL_ANGLE',\n",
       " 'K1_CONSTANT_BAND_10',\n",
       " 'SATURATION_BAND_1',\n",
       " 'SATURATION_BAND_2',\n",
       " 'SATURATION_BAND_3',\n",
       " 'SATURATION_BAND_4',\n",
       " 'SATURATION_BAND_5',\n",
       " 'MAP_PROJECTION',\n",
       " 'SATURATION_BAND_6',\n",
       " 'SENSOR_ID',\n",
       " 'SATURATION_BAND_7',\n",
       " 'K1_CONSTANT_BAND_11',\n",
       " 'SATURATION_BAND_8',\n",
       " 'SATURATION_BAND_9',\n",
       " 'TARGET_WRS_PATH',\n",
       " 'RADIANCE_MULT_BAND_11',\n",
       " 'RADIANCE_MULT_BAND_10',\n",
       " 'GROUND_CONTROL_POINTS_MODEL',\n",
       " 'SPACECRAFT_ID',\n",
       " 'ELEVATION_SOURCE',\n",
       " 'THERMAL_SAMPLES',\n",
       " 'GROUND_CONTROL_POINTS_VERIFY',\n",
       " 'system:bands',\n",
       " 'system:band_names']"
      ]
     },
     "execution_count": 63,
     "metadata": {},
     "output_type": "execute_result"
    }
   ],
   "source": [
    "imgbase.propertyNames().getInfo()"
   ]
  },
  {
   "cell_type": "code",
   "execution_count": 64,
   "id": "01e09fbd",
   "metadata": {
    "ExecuteTime": {
     "end_time": "2021-12-03T15:17:45.604056Z",
     "start_time": "2021-12-03T15:17:45.602737Z"
    }
   },
   "outputs": [],
   "source": [
    "# imgbase.get('LANDSAT_PRODUCT_ID').getInfo()"
   ]
  },
  {
   "cell_type": "code",
   "execution_count": 65,
   "id": "5d142772",
   "metadata": {
    "ExecuteTime": {
     "end_time": "2021-12-03T15:17:45.606292Z",
     "start_time": "2021-12-03T15:17:45.605021Z"
    }
   },
   "outputs": [],
   "source": [
    "# imgbase.get('system:time_start').getInfo()"
   ]
  },
  {
   "cell_type": "code",
   "execution_count": 66,
   "id": "e5bfe513",
   "metadata": {
    "ExecuteTime": {
     "end_time": "2021-12-03T15:17:46.250185Z",
     "start_time": "2021-12-03T15:17:45.607023Z"
    }
   },
   "outputs": [
    {
     "data": {
      "text/plain": [
       "'WGS84'"
      ]
     },
     "execution_count": 66,
     "metadata": {},
     "output_type": "execute_result"
    }
   ],
   "source": [
    "imgbase.get('DATUM').getInfo()"
   ]
  },
  {
   "cell_type": "code",
   "execution_count": 67,
   "id": "f62917d7",
   "metadata": {
    "ExecuteTime": {
     "end_time": "2021-12-03T15:17:46.614074Z",
     "start_time": "2021-12-03T15:17:46.251034Z"
    }
   },
   "outputs": [
    {
     "data": {
      "text/plain": [
       "'WGS84'"
      ]
     },
     "execution_count": 67,
     "metadata": {},
     "output_type": "execute_result"
    }
   ],
   "source": [
    "imgbase.get('ELLIPSOID').getInfo()"
   ]
  },
  {
   "cell_type": "code",
   "execution_count": 68,
   "id": "10196aa5",
   "metadata": {
    "ExecuteTime": {
     "end_time": "2021-12-03T15:17:46.952242Z",
     "start_time": "2021-12-03T15:17:46.614734Z"
    }
   },
   "outputs": [
    {
     "data": {
      "text/plain": [
       "'UTM'"
      ]
     },
     "execution_count": 68,
     "metadata": {},
     "output_type": "execute_result"
    }
   ],
   "source": [
    "imgbase.get('MAP_PROJECTION').getInfo()"
   ]
  },
  {
   "cell_type": "code",
   "execution_count": 69,
   "id": "c46c1df8",
   "metadata": {
    "ExecuteTime": {
     "end_time": "2021-12-03T15:17:47.291353Z",
     "start_time": "2021-12-03T15:17:46.953128Z"
    }
   },
   "outputs": [
    {
     "data": {
      "text/plain": [
       "19"
      ]
     },
     "execution_count": 69,
     "metadata": {},
     "output_type": "execute_result"
    }
   ],
   "source": [
    "imgbase.get('UTM_ZONE').getInfo()"
   ]
  },
  {
   "cell_type": "code",
   "execution_count": 70,
   "id": "082be07e",
   "metadata": {
    "ExecuteTime": {
     "end_time": "2021-12-03T15:17:47.604939Z",
     "start_time": "2021-12-03T15:17:47.292234Z"
    }
   },
   "outputs": [
    {
     "name": "stdout",
     "output_type": "stream",
     "text": [
      "{'type': 'Projection', 'crs': 'EPSG:32619', 'transform': [30, 0, 214185, 0, -30, -4825185]}\n"
     ]
    }
   ],
   "source": [
    "print(imgbase.select(\"B2\").projection().getInfo())"
   ]
  },
  {
   "cell_type": "code",
   "execution_count": 71,
   "id": "3b8e5716",
   "metadata": {
    "ExecuteTime": {
     "end_time": "2021-12-03T15:17:47.607585Z",
     "start_time": "2021-12-03T15:17:47.606055Z"
    }
   },
   "outputs": [],
   "source": [
    "# print(imgbase.projection())"
   ]
  },
  {
   "cell_type": "code",
   "execution_count": 72,
   "id": "6d01d09a",
   "metadata": {
    "ExecuteTime": {
     "end_time": "2021-12-03T15:17:47.609871Z",
     "start_time": "2021-12-03T15:17:47.608496Z"
    }
   },
   "outputs": [],
   "source": [
    "# time_start = imgbase.get('system:time_start')"
   ]
  },
  {
   "cell_type": "code",
   "execution_count": 73,
   "id": "5fb26496",
   "metadata": {
    "ExecuteTime": {
     "end_time": "2021-12-03T15:17:47.612086Z",
     "start_time": "2021-12-03T15:17:47.610596Z"
    }
   },
   "outputs": [],
   "source": [
    "imgbase = ee.Image('LANDSAT/LC08/C01/T1_TOA/LC08_231091_20210130')"
   ]
  },
  {
   "cell_type": "code",
   "execution_count": 74,
   "id": "5a136189",
   "metadata": {
    "ExecuteTime": {
     "end_time": "2021-12-03T15:17:48.171817Z",
     "start_time": "2021-12-03T15:17:47.612859Z"
    }
   },
   "outputs": [],
   "source": [
    "base_pro = imgbase.select('B4').projection().getInfo()"
   ]
  },
  {
   "cell_type": "code",
   "execution_count": 75,
   "id": "693f233e",
   "metadata": {
    "ExecuteTime": {
     "end_time": "2021-12-03T15:17:48.174713Z",
     "start_time": "2021-12-03T15:17:48.172642Z"
    }
   },
   "outputs": [
    {
     "name": "stdout",
     "output_type": "stream",
     "text": [
      "{'type': 'Projection', 'crs': 'EPSG:32619', 'transform': [30, 0, 214185, 0, -30, -4825185]}\n"
     ]
    }
   ],
   "source": [
    "print(base_pro)"
   ]
  },
  {
   "cell_type": "code",
   "execution_count": 76,
   "id": "1c65268b",
   "metadata": {
    "ExecuteTime": {
     "end_time": "2021-12-03T15:17:48.176850Z",
     "start_time": "2021-12-03T15:17:48.175422Z"
    }
   },
   "outputs": [],
   "source": [
    "# Map1.addLayer(imgbase, vizParams, 'img base')\n",
    "# Map1.addLayer(geometria_base2)\n",
    "# Map1"
   ]
  },
  {
   "cell_type": "code",
   "execution_count": 77,
   "id": "8cc90996",
   "metadata": {
    "ExecuteTime": {
     "end_time": "2021-12-03T15:17:48.178869Z",
     "start_time": "2021-12-03T15:17:48.177644Z"
    }
   },
   "outputs": [],
   "source": [
    "# reproj= imgbase \\\n",
    "#     .reproject(crs='EPSG:3857',scale = 30)\\\n",
    "#     .reduceResolution(reducer= ee.Reducer.mean(),bestEffort=True, maxPixels = 65536)"
   ]
  },
  {
   "cell_type": "code",
   "execution_count": 78,
   "id": "0996d02f",
   "metadata": {
    "ExecuteTime": {
     "end_time": "2021-12-03T15:17:48.180815Z",
     "start_time": "2021-12-03T15:17:48.179578Z"
    }
   },
   "outputs": [],
   "source": [
    "# resampled = imgbase.resample('bicubic')"
   ]
  },
  {
   "cell_type": "code",
   "execution_count": 79,
   "id": "4bb96647",
   "metadata": {
    "ExecuteTime": {
     "end_time": "2021-12-03T15:17:48.182762Z",
     "start_time": "2021-12-03T15:17:48.181562Z"
    }
   },
   "outputs": [],
   "source": [
    "# landsat_pro = resampled.select('B4').projection().getInfo()"
   ]
  },
  {
   "cell_type": "code",
   "execution_count": 80,
   "id": "9e964413",
   "metadata": {
    "ExecuteTime": {
     "end_time": "2021-12-03T15:17:48.184664Z",
     "start_time": "2021-12-03T15:17:48.183442Z"
    }
   },
   "outputs": [],
   "source": [
    "# escala = resampled.select('B4').projection().nominalScale().getInfo()"
   ]
  },
  {
   "cell_type": "code",
   "execution_count": 81,
   "id": "fccfa3ef",
   "metadata": {
    "ExecuteTime": {
     "end_time": "2021-12-03T15:17:48.186710Z",
     "start_time": "2021-12-03T15:17:48.185325Z"
    }
   },
   "outputs": [],
   "source": [
    "# print(landsat_pro)"
   ]
  },
  {
   "cell_type": "code",
   "execution_count": 82,
   "id": "11826e85",
   "metadata": {
    "ExecuteTime": {
     "end_time": "2021-12-03T15:17:48.193492Z",
     "start_time": "2021-12-03T15:17:48.192259Z"
    }
   },
   "outputs": [],
   "source": [
    "# print(escala)"
   ]
  },
  {
   "cell_type": "code",
   "execution_count": 83,
   "id": "fca393f0",
   "metadata": {
    "ExecuteTime": {
     "end_time": "2021-12-03T15:17:48.195718Z",
     "start_time": "2021-12-03T15:17:48.194325Z"
    }
   },
   "outputs": [],
   "source": [
    "# print(imgbase.projection())"
   ]
  },
  {
   "cell_type": "code",
   "execution_count": 84,
   "id": "e3b8043e",
   "metadata": {
    "ExecuteTime": {
     "end_time": "2021-12-03T15:17:48.460115Z",
     "start_time": "2021-12-03T15:17:48.196458Z"
    }
   },
   "outputs": [
    {
     "data": {
      "text/plain": [
       "'UTM'"
      ]
     },
     "execution_count": 84,
     "metadata": {},
     "output_type": "execute_result"
    }
   ],
   "source": [
    "imgbase.get('MAP_PROJECTION').getInfo()"
   ]
  },
  {
   "cell_type": "code",
   "execution_count": 85,
   "id": "e6579f0c",
   "metadata": {
    "ExecuteTime": {
     "end_time": "2021-12-03T15:17:48.462815Z",
     "start_time": "2021-12-03T15:17:48.460834Z"
    }
   },
   "outputs": [],
   "source": [
    "start_date = '2020-10-01'\n",
    "end_date = '2021-03-31'\n",
    "imgbase2 = ee.ImageCollection('LANDSAT/LC08/C01/T1_TOA') \\\n",
    "    .filter(ee.Filter.eq('WRS_PATH', 230)) \\\n",
    "    .filter(ee.Filter.eq('WRS_ROW', 91)) \\\n",
    "    .filterDate(start_date, end_date) "
   ]
  },
  {
   "cell_type": "code",
   "execution_count": 86,
   "id": "a7e5933f",
   "metadata": {
    "ExecuteTime": {
     "end_time": "2021-12-03T15:17:48.465483Z",
     "start_time": "2021-12-03T15:17:48.463458Z"
    }
   },
   "outputs": [],
   "source": [
    "imgbase2 = find_closest(imgbase, imgbase2,14).sort('CLOUD_COVER').first()\n",
    "imgbase2 = ee.Image(imgbase2)"
   ]
  },
  {
   "cell_type": "code",
   "execution_count": 87,
   "id": "28f16564",
   "metadata": {
    "ExecuteTime": {
     "end_time": "2021-12-03T15:17:48.837938Z",
     "start_time": "2021-12-03T15:17:48.466157Z"
    }
   },
   "outputs": [
    {
     "name": "stdout",
     "output_type": "stream",
     "text": [
      "{'type': 'Projection', 'crs': 'EPSG:32619', 'transform': [30, 0, 335085, 0, -30, -4821885]}\n"
     ]
    }
   ],
   "source": [
    "print(imgbase2.select(\"B2\").projection().getInfo())"
   ]
  },
  {
   "cell_type": "code",
   "execution_count": 88,
   "id": "c646d7e2",
   "metadata": {
    "ExecuteTime": {
     "end_time": "2021-12-03T15:17:48.840432Z",
     "start_time": "2021-12-03T15:17:48.838851Z"
    }
   },
   "outputs": [],
   "source": [
    "# reproj2= imgbase2 \\\n",
    "#     .reproject(crs='EPSG:4326',crsTransform= [0.00025, 0, -180, 0, -0.00025, 80])"
   ]
  },
  {
   "cell_type": "code",
   "execution_count": 89,
   "id": "596b0a0b",
   "metadata": {
    "ExecuteTime": {
     "end_time": "2021-12-03T15:17:48.842670Z",
     "start_time": "2021-12-03T15:17:48.841100Z"
    }
   },
   "outputs": [],
   "source": [
    "# Map1.addLayer(imgbase2, vizParams, 'img base2')\n",
    "# Map1"
   ]
  },
  {
   "cell_type": "code",
   "execution_count": 90,
   "id": "d77a3cd7",
   "metadata": {
    "ExecuteTime": {
     "end_time": "2021-12-03T15:17:48.845166Z",
     "start_time": "2021-12-03T15:17:48.843393Z"
    }
   },
   "outputs": [],
   "source": [
    "start_date = '2020-10-01'\n",
    "end_date = '2021-03-31'\n",
    "imgbase3 = ee.ImageCollection('LANDSAT/LC08/C01/T1_TOA') \\\n",
    "    .filter(ee.Filter.eq('WRS_PATH', 229)) \\\n",
    "    .filter(ee.Filter.eq('WRS_ROW', 91)) \\\n",
    "    .filterDate(start_date, end_date) "
   ]
  },
  {
   "cell_type": "code",
   "execution_count": 91,
   "id": "3d44c9fc",
   "metadata": {
    "ExecuteTime": {
     "end_time": "2021-12-03T15:17:48.847730Z",
     "start_time": "2021-12-03T15:17:48.845981Z"
    }
   },
   "outputs": [],
   "source": [
    "imgbase3 = find_closest(imgbase2, imgbase3,21).sort('CLOUD_COVER').first()\n",
    "imgbase3 = ee.Image(imgbase3)"
   ]
  },
  {
   "cell_type": "code",
   "execution_count": 92,
   "id": "40df32d8",
   "metadata": {
    "ExecuteTime": {
     "end_time": "2021-12-03T15:17:49.167058Z",
     "start_time": "2021-12-03T15:17:48.848463Z"
    }
   },
   "outputs": [
    {
     "name": "stdout",
     "output_type": "stream",
     "text": [
      "{'type': 'Projection', 'crs': 'EPSG:32619', 'transform': [30, 0, 456585, 0, -30, -4820685]}\n"
     ]
    }
   ],
   "source": [
    "print(imgbase3.select(\"B2\").projection().getInfo())"
   ]
  },
  {
   "cell_type": "code",
   "execution_count": 93,
   "id": "23050d6f",
   "metadata": {
    "ExecuteTime": {
     "end_time": "2021-12-03T15:17:49.169113Z",
     "start_time": "2021-12-03T15:17:49.167803Z"
    }
   },
   "outputs": [],
   "source": [
    "# reproj3= imgbase3 \\\n",
    "#     .reproject(crs='EPSG:4326',crsTransform= [0.00025, 0, -180, 0, -0.00025, 80])"
   ]
  },
  {
   "cell_type": "code",
   "execution_count": 94,
   "id": "954b5ed0",
   "metadata": {
    "ExecuteTime": {
     "end_time": "2021-12-03T15:17:49.171096Z",
     "start_time": "2021-12-03T15:17:49.169836Z"
    }
   },
   "outputs": [],
   "source": [
    "# Map1.addLayer(imgbase3, vizParams, 'img base3')\n",
    "# Map1"
   ]
  },
  {
   "cell_type": "code",
   "execution_count": 95,
   "id": "f4b197cf",
   "metadata": {
    "ExecuteTime": {
     "end_time": "2021-12-03T15:17:49.173778Z",
     "start_time": "2021-12-03T15:17:49.171827Z"
    }
   },
   "outputs": [],
   "source": [
    "start_date = '2020-10-01'\n",
    "end_date = '2021-03-31'\n",
    "imgbase4 = ee.ImageCollection('LANDSAT/LC08/C01/T1_TOA') \\\n",
    "    .filter(ee.Filter.eq('WRS_PATH', 228)) \\\n",
    "    .filter(ee.Filter.eq('WRS_ROW', 91)) \\\n",
    "    .filterDate(start_date, end_date) "
   ]
  },
  {
   "cell_type": "code",
   "execution_count": 96,
   "id": "af926cee",
   "metadata": {
    "ExecuteTime": {
     "end_time": "2021-12-03T15:17:49.176203Z",
     "start_time": "2021-12-03T15:17:49.174523Z"
    }
   },
   "outputs": [],
   "source": [
    "imgbase4 = find_closest(imgbase3, imgbase4,14).sort('CLOUD_COVER').first()\n",
    "imgbase4 = ee.Image(imgbase4)"
   ]
  },
  {
   "cell_type": "code",
   "execution_count": 97,
   "id": "b306fa69",
   "metadata": {
    "ExecuteTime": {
     "end_time": "2021-12-03T15:17:49.901841Z",
     "start_time": "2021-12-03T15:17:49.176944Z"
    }
   },
   "outputs": [
    {
     "name": "stdout",
     "output_type": "stream",
     "text": [
      "{'type': 'Projection', 'crs': 'EPSG:32619', 'transform': [30, 0, 577785, 0, -30, -4821885]}\n"
     ]
    }
   ],
   "source": [
    "print(imgbase4.select(\"B2\").projection().getInfo())"
   ]
  },
  {
   "cell_type": "code",
   "execution_count": 98,
   "id": "e00c13e2",
   "metadata": {
    "ExecuteTime": {
     "end_time": "2021-12-03T15:17:49.904382Z",
     "start_time": "2021-12-03T15:17:49.902756Z"
    }
   },
   "outputs": [],
   "source": [
    "# reproj4= imgbase4 \\\n",
    "#     .reproject(crs='EPSG:4326',crsTransform= [0.00025, 0, -180, 0, -0.00025, 80])"
   ]
  },
  {
   "cell_type": "code",
   "execution_count": 99,
   "id": "ecc2e9e6",
   "metadata": {
    "ExecuteTime": {
     "end_time": "2021-12-03T15:17:49.906933Z",
     "start_time": "2021-12-03T15:17:49.905131Z"
    }
   },
   "outputs": [],
   "source": [
    "# Map1.addLayer(imgbase4, vizParams, 'img base4')\n",
    "# Map1"
   ]
  },
  {
   "cell_type": "code",
   "execution_count": 100,
   "id": "e305e5b4",
   "metadata": {
    "ExecuteTime": {
     "end_time": "2021-12-03T15:17:49.909448Z",
     "start_time": "2021-12-03T15:17:49.907596Z"
    }
   },
   "outputs": [],
   "source": [
    "start_date = '2020-10-01'\n",
    "end_date = '2021-03-31'\n",
    "imgbase5 = ee.ImageCollection('LANDSAT/LC08/C01/T1_TOA') \\\n",
    "    .filter(ee.Filter.eq('WRS_PATH', 232)) \\\n",
    "    .filter(ee.Filter.eq('WRS_ROW', 91)) \\\n",
    "    .filterDate(start_date, end_date) "
   ]
  },
  {
   "cell_type": "code",
   "execution_count": 101,
   "id": "e76971d2",
   "metadata": {
    "ExecuteTime": {
     "end_time": "2021-12-03T15:17:49.911764Z",
     "start_time": "2021-12-03T15:17:49.910156Z"
    }
   },
   "outputs": [],
   "source": [
    "imgbase5 = find_closest(imgbase, imgbase5,28).sort('CLOUD_COVER').first()\n",
    "imgbase5 = ee.Image(imgbase5)"
   ]
  },
  {
   "cell_type": "code",
   "execution_count": 102,
   "id": "b41cdef9",
   "metadata": {
    "ExecuteTime": {
     "end_time": "2021-12-03T15:17:50.209805Z",
     "start_time": "2021-12-03T15:17:49.912580Z"
    }
   },
   "outputs": [
    {
     "name": "stdout",
     "output_type": "stream",
     "text": [
      "{'type': 'Projection', 'crs': 'EPSG:32618', 'transform': [30, 0, 562785, 0, -30, -4821885]}\n"
     ]
    }
   ],
   "source": [
    "print(imgbase5.select(\"B2\").projection().getInfo())"
   ]
  },
  {
   "cell_type": "code",
   "execution_count": 103,
   "id": "daaac0ef",
   "metadata": {
    "ExecuteTime": {
     "end_time": "2021-12-03T15:17:50.212084Z",
     "start_time": "2021-12-03T15:17:50.210613Z"
    }
   },
   "outputs": [],
   "source": [
    "# reproj5= imgbase5 \\\n",
    "#     .reproject(crs='EPSG:4326',crsTransform= [0.00025, 0, -180, 0, -0.00025, 80])"
   ]
  },
  {
   "cell_type": "code",
   "execution_count": 104,
   "id": "ee78b984",
   "metadata": {
    "ExecuteTime": {
     "end_time": "2021-12-03T15:17:50.214145Z",
     "start_time": "2021-12-03T15:17:50.212828Z"
    }
   },
   "outputs": [],
   "source": [
    "# Map1.addLayer(imgbase5, vizParams, 'img base5')\n",
    "# Map1"
   ]
  },
  {
   "cell_type": "code",
   "execution_count": 105,
   "id": "cb677c38",
   "metadata": {
    "ExecuteTime": {
     "end_time": "2021-12-03T15:17:50.216608Z",
     "start_time": "2021-12-03T15:17:50.214837Z"
    }
   },
   "outputs": [],
   "source": [
    "start_date = '2020-10-01'\n",
    "end_date = '2021-03-31'\n",
    "imgbase6 = ee.ImageCollection('LANDSAT/LC08/C01/T1_TOA') \\\n",
    "    .filter(ee.Filter.eq('WRS_PATH', 233)) \\\n",
    "    .filter(ee.Filter.eq('WRS_ROW', 91)) \\\n",
    "    .filterDate(start_date, end_date) "
   ]
  },
  {
   "cell_type": "code",
   "execution_count": 106,
   "id": "a2772ed4",
   "metadata": {
    "ExecuteTime": {
     "end_time": "2021-12-03T15:17:50.219021Z",
     "start_time": "2021-12-03T15:17:50.217442Z"
    }
   },
   "outputs": [],
   "source": [
    "imgbase6 = find_closest(imgbase5, imgbase6,360).sort('CLOUD_COVER').first()\n",
    "imgbase6 = ee.Image(imgbase6)"
   ]
  },
  {
   "cell_type": "code",
   "execution_count": 107,
   "id": "9e2c0c8c",
   "metadata": {
    "ExecuteTime": {
     "end_time": "2021-12-03T15:17:50.612545Z",
     "start_time": "2021-12-03T15:17:50.219847Z"
    }
   },
   "outputs": [
    {
     "name": "stdout",
     "output_type": "stream",
     "text": [
      "{'type': 'Projection', 'crs': 'EPSG:32618', 'transform': [30, 0, 443985, 0, -30, -4820685]}\n"
     ]
    }
   ],
   "source": [
    "print(imgbase6.select(\"B2\").projection().getInfo())"
   ]
  },
  {
   "cell_type": "code",
   "execution_count": 108,
   "id": "075deb32",
   "metadata": {
    "ExecuteTime": {
     "end_time": "2021-12-03T15:17:50.614607Z",
     "start_time": "2021-12-03T15:17:50.613342Z"
    }
   },
   "outputs": [],
   "source": [
    "# reproj6= imgbase6 \\\n",
    "#     .reproject(crs='EPSG:4326',crsTransform= [0.00025, 0, -180, 0, -0.00025, 80])"
   ]
  },
  {
   "cell_type": "code",
   "execution_count": 109,
   "id": "489f204a",
   "metadata": {
    "ExecuteTime": {
     "end_time": "2021-12-03T15:17:50.616922Z",
     "start_time": "2021-12-03T15:17:50.615461Z"
    }
   },
   "outputs": [],
   "source": [
    "# Map1.addLayer(imgbase6, vizParams, 'img base6')\n",
    "# Map1"
   ]
  },
  {
   "cell_type": "code",
   "execution_count": 110,
   "id": "9d3185e1",
   "metadata": {
    "ExecuteTime": {
     "end_time": "2021-12-03T15:17:50.618993Z",
     "start_time": "2021-12-03T15:17:50.617658Z"
    }
   },
   "outputs": [],
   "source": [
    "# imgbase2.get('UTM_ZONE').getInfo()"
   ]
  },
  {
   "cell_type": "code",
   "execution_count": 111,
   "id": "9110a69a",
   "metadata": {
    "ExecuteTime": {
     "end_time": "2021-12-03T15:17:50.621068Z",
     "start_time": "2021-12-03T15:17:50.619704Z"
    }
   },
   "outputs": [],
   "source": [
    "# imgbase3.get('UTM_ZONE').getInfo()"
   ]
  },
  {
   "cell_type": "code",
   "execution_count": 112,
   "id": "22bbc7e9",
   "metadata": {
    "ExecuteTime": {
     "end_time": "2021-12-03T15:17:50.623036Z",
     "start_time": "2021-12-03T15:17:50.621785Z"
    }
   },
   "outputs": [],
   "source": [
    "# imgbase4.get('UTM_ZONE').getInfo()"
   ]
  },
  {
   "cell_type": "code",
   "execution_count": 113,
   "id": "25d8cfe0",
   "metadata": {
    "ExecuteTime": {
     "end_time": "2021-12-03T15:17:50.625068Z",
     "start_time": "2021-12-03T15:17:50.623806Z"
    }
   },
   "outputs": [],
   "source": [
    "# imgbase5.get('UTM_ZONE').getInfo()"
   ]
  },
  {
   "cell_type": "code",
   "execution_count": 114,
   "id": "abc6e09e",
   "metadata": {
    "ExecuteTime": {
     "end_time": "2021-12-03T15:17:50.627004Z",
     "start_time": "2021-12-03T15:17:50.625779Z"
    }
   },
   "outputs": [],
   "source": [
    "# imgbase6.get('UTM_ZONE').getInfo()"
   ]
  },
  {
   "cell_type": "code",
   "execution_count": 115,
   "id": "0b719c95",
   "metadata": {
    "ExecuteTime": {
     "end_time": "2021-12-03T15:17:50.629045Z",
     "start_time": "2021-12-03T15:17:50.627702Z"
    }
   },
   "outputs": [],
   "source": [
    "# imgbase = addNDVI(imgbase)\n",
    "# imgbase2 = addNDVI(imgbase2)\n",
    "# imgbase3 = addNDVI(imgbase3)\n",
    "# imgbase4 = addNDVI(imgbase4)\n",
    "# imgbase5 = addNDVI(imgbase5)\n",
    "# imgbase6 = addNDVI(imgbase6)"
   ]
  },
  {
   "cell_type": "code",
   "execution_count": 116,
   "id": "c0072a07",
   "metadata": {
    "ExecuteTime": {
     "end_time": "2021-12-03T15:17:50.631140Z",
     "start_time": "2021-12-03T15:17:50.629838Z"
    }
   },
   "outputs": [],
   "source": [
    "# imgbase = addNDWI(imgbase)\n",
    "# imgbase2 = addNDWI(imgbase2)\n",
    "# imgbase3 = addNDWI(imgbase3)\n",
    "# imgbase4 = addNDWI(imgbase4)\n",
    "# imgbase5 = addNDWI(imgbase5)\n",
    "# imgbase6 = addNDWI(imgbase6)"
   ]
  },
  {
   "cell_type": "code",
   "execution_count": 117,
   "id": "8865875d",
   "metadata": {
    "ExecuteTime": {
     "end_time": "2021-12-03T15:17:50.633097Z",
     "start_time": "2021-12-03T15:17:50.631843Z"
    }
   },
   "outputs": [],
   "source": [
    "# imgbase = addNDGI(imgbase)\n",
    "# imgbase2 = addNDGI(imgbase2)\n",
    "# imgbase3 = addNDGI(imgbase3)\n",
    "# imgbase4 = addNDGI(imgbase4)\n",
    "# imgbase5 = addNDGI(imgbase5)\n",
    "# imgbase6 = addNDGI(imgbase6)"
   ]
  },
  {
   "cell_type": "code",
   "execution_count": 118,
   "id": "0aa70e71",
   "metadata": {
    "ExecuteTime": {
     "end_time": "2021-12-03T15:17:50.635100Z",
     "start_time": "2021-12-03T15:17:50.633806Z"
    }
   },
   "outputs": [],
   "source": [
    "# imgbase = addSAVI(imgbase)\n",
    "# imgbase2 = addSAVI(imgbase2)\n",
    "# imgbase3 = addSAVI(imgbase3)\n",
    "# imgbase4 = addSAVI(imgbase4)\n",
    "# imgbase5 = addSAVI(imgbase5)\n",
    "# imgbase6 = addSAVI(imgbase6)"
   ]
  },
  {
   "cell_type": "code",
   "execution_count": 119,
   "id": "38e741d2",
   "metadata": {
    "ExecuteTime": {
     "end_time": "2021-12-03T15:17:50.637091Z",
     "start_time": "2021-12-03T15:17:50.635754Z"
    }
   },
   "outputs": [],
   "source": [
    "# imgbase = addNDSI(imgbase)\n",
    "# imgbase2 = addNDSI(imgbase2)\n",
    "# imgbase3 = addNDSI(imgbase3)\n",
    "# imgbase4 = addNDSI(imgbase4)\n",
    "# imgbase5 = addNDSI(imgbase5)\n",
    "# imgbase6 = addNDSI(imgbase6)"
   ]
  },
  {
   "cell_type": "code",
   "execution_count": 120,
   "id": "995744da",
   "metadata": {
    "ExecuteTime": {
     "end_time": "2021-12-03T15:17:50.639014Z",
     "start_time": "2021-12-03T15:17:50.637791Z"
    }
   },
   "outputs": [],
   "source": [
    "# imgbase = addDate(imgbase)\n",
    "# imgbase2 = addDate(imgbase2)\n",
    "# imgbase3 = addDate(imgbase3)\n",
    "# imgbase4 = addDate(imgbase4)\n",
    "# imgbase5 = addDate(imgbase5)\n",
    "# imgbase6 = addDate(imgbase6)"
   ]
  },
  {
   "cell_type": "code",
   "execution_count": 121,
   "id": "85657b4b",
   "metadata": {
    "ExecuteTime": {
     "end_time": "2021-12-03T15:17:50.641397Z",
     "start_time": "2021-12-03T15:17:50.639915Z"
    }
   },
   "outputs": [],
   "source": [
    "# imgbase = addCloud(imgbase)\n",
    "# imgbase2 = addCloud(imgbase2)\n",
    "# imgbase3 = addCloud(imgbase3)\n",
    "# imgbase4 = addCloud(imgbase4)\n",
    "# imgbase5 = addCloud(imgbase5)\n",
    "# imgbase6 = addCloud(imgbase6)"
   ]
  },
  {
   "cell_type": "code",
   "execution_count": 122,
   "id": "1c7f97bf",
   "metadata": {
    "ExecuteTime": {
     "end_time": "2021-12-03T15:17:50.643550Z",
     "start_time": "2021-12-03T15:17:50.642237Z"
    }
   },
   "outputs": [],
   "source": [
    "# imgbase.get('DATE_ACQUIRED').getInfo()"
   ]
  },
  {
   "cell_type": "code",
   "execution_count": 123,
   "id": "8b81a7a1",
   "metadata": {
    "ExecuteTime": {
     "end_time": "2021-12-03T15:17:50.645482Z",
     "start_time": "2021-12-03T15:17:50.644248Z"
    }
   },
   "outputs": [],
   "source": [
    "# imgbase2.get('DATE_ACQUIRED').getInfo()"
   ]
  },
  {
   "cell_type": "code",
   "execution_count": 124,
   "id": "ba5e16fa",
   "metadata": {
    "ExecuteTime": {
     "end_time": "2021-12-03T15:17:50.647517Z",
     "start_time": "2021-12-03T15:17:50.646186Z"
    }
   },
   "outputs": [],
   "source": [
    "# imgbase3.get('DATE_ACQUIRED').getInfo()"
   ]
  },
  {
   "cell_type": "code",
   "execution_count": 125,
   "id": "5d4829ff",
   "metadata": {
    "ExecuteTime": {
     "end_time": "2021-12-03T15:17:50.649444Z",
     "start_time": "2021-12-03T15:17:50.648198Z"
    }
   },
   "outputs": [],
   "source": [
    "# imgbase4.get('DATE_ACQUIRED').getInfo()"
   ]
  },
  {
   "cell_type": "code",
   "execution_count": 126,
   "id": "dfb567b7",
   "metadata": {
    "ExecuteTime": {
     "end_time": "2021-12-03T15:17:50.651448Z",
     "start_time": "2021-12-03T15:17:50.650130Z"
    }
   },
   "outputs": [],
   "source": [
    "# imgbase5.get('DATE_ACQUIRED').getInfo()"
   ]
  },
  {
   "cell_type": "code",
   "execution_count": 127,
   "id": "144e07cd",
   "metadata": {
    "ExecuteTime": {
     "end_time": "2021-12-03T15:17:50.653459Z",
     "start_time": "2021-12-03T15:17:50.652167Z"
    }
   },
   "outputs": [],
   "source": [
    "# imgbase6.get('DATE_ACQUIRED').getInfo()"
   ]
  },
  {
   "cell_type": "code",
   "execution_count": 128,
   "id": "75a6a249",
   "metadata": {
    "ExecuteTime": {
     "end_time": "2021-12-03T15:17:50.656607Z",
     "start_time": "2021-12-03T15:17:50.654151Z"
    }
   },
   "outputs": [],
   "source": [
    "imgbase_bandas = imgbase.select(['B1','B2','B3','B4','B5','B6','B7'])\n",
    "imgbase_bandas2 = imgbase2.select(['B1','B2','B3','B4','B5','B6','B7'])\n",
    "imgbase_bandas3 = imgbase3.select(['B1','B2','B3','B4','B5','B6','B7'])\n",
    "imgbase_bandas4 = imgbase4.select(['B1','B2','B3','B4','B5','B6','B7'])\n",
    "imgbase_bandas5 = imgbase5.select(['B1','B2','B3','B4','B5','B6','B7'])\n",
    "imgbase_bandas6 = imgbase6.select(['B1','B2','B3','B4','B5','B6','B7'])"
   ]
  },
  {
   "cell_type": "code",
   "execution_count": 129,
   "id": "20da5ec9",
   "metadata": {
    "ExecuteTime": {
     "end_time": "2021-12-03T15:17:51.592281Z",
     "start_time": "2021-12-03T15:17:50.657332Z"
    }
   },
   "outputs": [],
   "source": [
    "work_dir = os.path.expanduser('../../../Data/shapes/')\n",
    "geom1 = os.path.join(work_dir, 'geom_1.shp')\n",
    "geom1 = geemap.shp_to_ee(geom1)\n",
    "geom2 = os.path.join(work_dir, 'geom_2.shp')\n",
    "geom2 = geemap.shp_to_ee(geom2)\n",
    "geom3 = os.path.join(work_dir, 'geom_3.shp')\n",
    "geom3 = geemap.shp_to_ee(geom3)"
   ]
  },
  {
   "cell_type": "code",
   "execution_count": 130,
   "id": "650aeeba",
   "metadata": {
    "ExecuteTime": {
     "end_time": "2021-12-03T15:17:51.594809Z",
     "start_time": "2021-12-03T15:17:51.593109Z"
    }
   },
   "outputs": [],
   "source": [
    "colec_base = ee.ImageCollection([imgbase_bandas,imgbase_bandas2,imgbase_bandas3,imgbase_bandas4,imgbase_bandas5,imgbase_bandas6]).mosaic()"
   ]
  },
  {
   "cell_type": "code",
   "execution_count": 131,
   "id": "f65341ee",
   "metadata": {
    "ExecuteTime": {
     "end_time": "2021-12-03T15:17:51.597188Z",
     "start_time": "2021-12-03T15:17:51.595450Z"
    }
   },
   "outputs": [],
   "source": [
    "# colec_base_r = ee.ImageCollection([reproj,reproj2,reproj3,reproj4,reproj5,reproj6]).mosaic()"
   ]
  },
  {
   "cell_type": "code",
   "execution_count": 132,
   "id": "264778eb",
   "metadata": {
    "ExecuteTime": {
     "end_time": "2021-12-03T15:17:51.599415Z",
     "start_time": "2021-12-03T15:17:51.597902Z"
    }
   },
   "outputs": [],
   "source": [
    "c1 = colec_base.clip(geom1)\n",
    "c2 = colec_base.clip(geom2)\n",
    "c3 = colec_base.clip(geom3)"
   ]
  },
  {
   "cell_type": "code",
   "execution_count": 133,
   "id": "997ae2ea",
   "metadata": {
    "ExecuteTime": {
     "end_time": "2021-12-03T15:17:51.601974Z",
     "start_time": "2021-12-03T15:17:51.600180Z"
    }
   },
   "outputs": [],
   "source": [
    "# geemap.ee_export_image_to_drive(colec_base, description='img_base_mosaic', folder='export',region=colec_geom.geometry(),scale=30)"
   ]
  },
  {
   "cell_type": "code",
   "execution_count": 134,
   "id": "d98c2981",
   "metadata": {
    "ExecuteTime": {
     "end_time": "2021-12-03T15:17:51.604585Z",
     "start_time": "2021-12-03T15:17:51.602678Z"
    }
   },
   "outputs": [],
   "source": [
    "# geemap.ee_export_image_to_drive(c1, description='colec1', folder='Base',region=geom1.geometry(),scale=30)\n",
    "# geemap.ee_export_image_to_drive(c2, description='colec2', folder='Base',region=geom2.geometry(),scale=30)\n",
    "# geemap.ee_export_image_to_drive(c3, description='colec3', folder='Base',region=geom3.geometry(),scale=30)"
   ]
  },
  {
   "cell_type": "code",
   "execution_count": 135,
   "id": "00c5c6f9",
   "metadata": {
    "ExecuteTime": {
     "end_time": "2021-12-03T15:17:51.606671Z",
     "start_time": "2021-12-03T15:17:51.605243Z"
    }
   },
   "outputs": [],
   "source": [
    "# geemap.ee_export_image_to_drive(imgbase_bandas, description='img_base1', folder='Base',scale=30)\n",
    "# geemap.ee_export_image_to_drive(imgbase_bandas2, description='img_base2', folder='Base',scale=30)\n",
    "# geemap.ee_export_image_to_drive(imgbase_bandas3, description='img_base3', folder='Base',scale=30)\n",
    "# geemap.ee_export_image_to_drive(imgbase_bandas4, description='img_base4', folder='Base',scale=30)\n",
    "# geemap.ee_export_image_to_drive(imgbase_bandas5, description='img_base5', folder='Base',scale=30)\n",
    "# geemap.ee_export_image_to_drive(imgbase_bandas6, description='img_base6', folder='Base',scale=30)\n"
   ]
  },
  {
   "cell_type": "code",
   "execution_count": 136,
   "id": "2d3d99aa",
   "metadata": {
    "ExecuteTime": {
     "end_time": "2021-12-03T15:17:52.485027Z",
     "start_time": "2021-12-03T15:17:51.607401Z"
    },
    "scrolled": false
   },
   "outputs": [
    {
     "data": {
      "application/vnd.jupyter.widget-view+json": {
       "model_id": "9ab4d5f6b6444a8ca8eab957b4611e66",
       "version_major": 2,
       "version_minor": 0
      },
      "text/plain": [
       "Map(center=[-45, -70], controls=(WidgetControl(options=['position', 'transparent_bg'], widget=HBox(children=(T…"
      ]
     },
     "metadata": {},
     "output_type": "display_data"
    }
   ],
   "source": [
    "# Map1.addLayer(resampled, vizParams, 'img base r')\n",
    "Map1.addLayer(imgbase, vizParams, 'img base')\n",
    "# Map1.addLayer(imgbase_bandas2, vizParams, 'img base2')\n",
    "# Map1.addLayer(imgbase_bandas3, vizParams, 'img base3')\n",
    "# Map1.addLayer(imgbase_bandas4, vizParams, 'img base4')\n",
    "# Map1.addLayer(imgbase_bandas5, vizParams, 'img base5')\n",
    "# Map1.addLayer(imgbase_bandas6, vizParams, 'img base6')\n",
    "Map1.addLayer(colec_base, vizParams, 'coleccion')\n",
    "# Map1.addLayer(colec_base_r, vizParams, 'coleccion r')\n",
    "Map1"
   ]
  },
  {
   "cell_type": "markdown",
   "id": "dd7d911d",
   "metadata": {},
   "source": [
    "## Indices por colección"
   ]
  },
  {
   "cell_type": "markdown",
   "id": "4ea0a4cd",
   "metadata": {},
   "source": [
    "### Índices 2021"
   ]
  },
  {
   "cell_type": "code",
   "execution_count": 137,
   "id": "426dfca0",
   "metadata": {
    "ExecuteTime": {
     "end_time": "2021-12-03T15:17:52.487090Z",
     "start_time": "2021-12-03T15:17:52.485740Z"
    }
   },
   "outputs": [],
   "source": [
    "# NDVI_2021 = NDVI_2021_sn.select('NDVI')\n",
    "# NDWI_2021 = NDWI_2021_sn.select('NDWI')\n",
    "# SAVI_2021 = SAVI_2021_sn.select('SAVI')\n",
    "# NDGI_2021 = NDGI_2021_sn.select('NDGI')\n",
    "# NDSI_2021 = NDSI_2021_sn.select('NDSI')\n"
   ]
  },
  {
   "cell_type": "code",
   "execution_count": 138,
   "id": "eaf84698",
   "metadata": {
    "ExecuteTime": {
     "end_time": "2021-12-03T15:17:52.489185Z",
     "start_time": "2021-12-03T15:17:52.487749Z"
    }
   },
   "outputs": [],
   "source": [
    "# Map9.addLayer(NDVI_2021, {'palette': color_terrain}, 'QMsn de NDVI 2021')\n",
    "# Map9.addLayer(NDWI_2021, {'palette': color_ndwi}, 'QMsn de NDWI 2021')\n",
    "# Map9.addLayer(SAVI_2021, {'palette': color_ndvi}, 'QMsn de SAVI 2021')\n",
    "# Map9.addLayer(NDGI_2021, {'palette': color_glaciar}, 'QMsn de NDGI 2021')\n",
    "# Map9.addLayer(NDSI_2021, {'palette': color_ndwi}, 'QMsn de NDSI 2021')\n",
    "# Map9"
   ]
  },
  {
   "cell_type": "markdown",
   "id": "1e0309e1",
   "metadata": {},
   "source": [
    "### Índices 2020"
   ]
  },
  {
   "cell_type": "code",
   "execution_count": 139,
   "id": "cc1253c0",
   "metadata": {
    "ExecuteTime": {
     "end_time": "2021-12-03T15:17:52.491397Z",
     "start_time": "2021-12-03T15:17:52.489876Z"
    }
   },
   "outputs": [],
   "source": [
    "# NDVI_2020 = NDVI_2020_sn.select('NDVI')\n",
    "# NDWI_2020 = NDWI_2020_sn.select('NDWI')\n",
    "# SAVI_2020 = SAVI_2020_sn.select('SAVI')\n",
    "# NDGI_2020 = NDGI_2020_sn.select('NDGI')\n",
    "# NDSI_2020 = NDSI_2020_sn.select('NDSI')"
   ]
  },
  {
   "cell_type": "code",
   "execution_count": 140,
   "id": "3e0524d7",
   "metadata": {
    "ExecuteTime": {
     "end_time": "2021-12-03T15:17:52.493970Z",
     "start_time": "2021-12-03T15:17:52.492175Z"
    }
   },
   "outputs": [],
   "source": [
    "# Map5.addLayer(NDVI_2020, {'palette': color_terrain}, 'QMsn de NDVI 2020')\n",
    "# Map5.addLayer(NDWI_2020, {'palette': color_ndwi}, 'QMsn de NDWI 2020')\n",
    "# Map5.addLayer(SAVI_2020, {'palette': color_ndvi}, 'QMsn de SAVI 2020')\n",
    "# Map5.addLayer(NDGI_2020, {'palette': color_glaciar}, 'QMsn de NDGI 2020')\n",
    "# Map5.addLayer(NDSI_2020, {'palette': color_ndwi}, 'QMsn de NDSI 2020')\n",
    "# Map5"
   ]
  },
  {
   "cell_type": "markdown",
   "id": "4aee56c9",
   "metadata": {},
   "source": [
    "### Índices 2019"
   ]
  },
  {
   "cell_type": "code",
   "execution_count": 141,
   "id": "4a0a2445",
   "metadata": {
    "ExecuteTime": {
     "end_time": "2021-12-03T15:17:52.496561Z",
     "start_time": "2021-12-03T15:17:52.494789Z"
    }
   },
   "outputs": [],
   "source": [
    "# NDVI_2019 = NDVI_2019_sn.select('NDVI')\n",
    "# NDWI_2019 = NDWI_2019_sn.select('NDWI')\n",
    "# SAVI_2019 = SAVI_2019_sn.select('SAVI')\n",
    "# NDGI_2019 = NDGI_2019_sn.select('NDGI')\n",
    "# NDSI_2019 = NDSI_2019_sn.select('NDSI')"
   ]
  },
  {
   "cell_type": "code",
   "execution_count": 142,
   "id": "144629ba",
   "metadata": {
    "ExecuteTime": {
     "end_time": "2021-12-03T15:17:52.498529Z",
     "start_time": "2021-12-03T15:17:52.497208Z"
    }
   },
   "outputs": [],
   "source": [
    "# Map6.addLayer(NDVI_2019, {'palette': color_terrain}, 'QMsn de NDVI 2019')\n",
    "# Map6.addLayer(NDWI_2019, {'palette': color_ndwi}, 'QMsn de NDWI 2019')\n",
    "# Map6.addLayer(SAVI_2019, {'palette': color_ndvi}, 'QMsn de SAVI 2019')\n",
    "# Map6.addLayer(NDGI_2019, {'palette': color_glaciar}, 'QMsn de NDGI 2019')\n",
    "# Map6.addLayer(NDSI_2019, {'palette': color_ndwi}, 'QMsn de NDSI 2019')\n",
    "# Map6"
   ]
  },
  {
   "cell_type": "markdown",
   "id": "e765cd19",
   "metadata": {},
   "source": [
    "### Índices 2018"
   ]
  },
  {
   "cell_type": "code",
   "execution_count": 143,
   "id": "b4275190",
   "metadata": {
    "ExecuteTime": {
     "end_time": "2021-12-03T15:17:52.500540Z",
     "start_time": "2021-12-03T15:17:52.499277Z"
    }
   },
   "outputs": [],
   "source": [
    "# NDVI_2018 = NDVI_2018_sn.select('NDVI')\n",
    "# NDWI_2018 = NDWI_2018_sn.select('NDWI')\n",
    "# SAVI_2018 = SAVI_2018_sn.select('SAVI')\n",
    "# NDGI_2018 = NDGI_2018_sn.select('NDGI')\n",
    "# NDSI_2018 = NDSI_2018_sn.select('NDSI')"
   ]
  },
  {
   "cell_type": "code",
   "execution_count": 144,
   "id": "977e42e9",
   "metadata": {
    "ExecuteTime": {
     "end_time": "2021-12-03T15:17:52.502477Z",
     "start_time": "2021-12-03T15:17:52.501233Z"
    }
   },
   "outputs": [],
   "source": [
    "# Map6.addLayer(NDVI_2018, {'palette': color_terrain}, 'QMsn de NDVI 2018')\n",
    "# Map6.addLayer(NDWI_2018, {'palette': color_ndwi}, 'QMsn de NDWI 2018')\n",
    "# Map6.addLayer(SAVI_2018, {'palette': color_ndvi}, 'QMsn de SAVI 2018')\n",
    "# Map6.addLayer(NDGI_2018, {'palette': color_glaciar}, 'QMsn de NDGI 2018')\n",
    "# Map6.addLayer(NDSI_2018, {'palette': color_ndwi}, 'QMsn de NDSI 2018')\n",
    "# Map6"
   ]
  },
  {
   "cell_type": "markdown",
   "id": "158b36ac",
   "metadata": {},
   "source": [
    "## Matching de Histogramas"
   ]
  },
  {
   "cell_type": "code",
   "execution_count": 145,
   "id": "c8f22563",
   "metadata": {
    "ExecuteTime": {
     "end_time": "2021-12-03T15:17:52.505993Z",
     "start_time": "2021-12-03T15:17:52.503215Z"
    }
   },
   "outputs": [],
   "source": [
    "def lookup(source_hist, target_hist):\n",
    "    \"\"\"Creates a lookup table to make a source histogram match a target histogram.\n",
    "\n",
    "    Args:\n",
    "        source_hist: The histogram to modify. \n",
    "        Expects the Nx2 array format produced by ee.Reducer.autoHistogram.\n",
    "        target_hist: The histogram to match to. \n",
    "        Expects the Nx2 array format produced by ee.Reducer.autoHistogram.\n",
    "\n",
    "    Returns:\n",
    "        A dictionary with 'x' and 'y' properties that respectively represent the x and y\n",
    "        array inputs to the ee.Image.interpolate function.\n",
    "    \"\"\"\n",
    "\n",
    "    # Split the histograms by column and normalize the counts.\n",
    "    source_values = source_hist.slice(1, 0, 1).project([0])\n",
    "    source_counts = source_hist.slice(1, 1, 2).project([0])\n",
    "    source_counts = source_counts.divide(source_counts.get([-1]))\n",
    "\n",
    "    target_values = target_hist.slice(1, 0, 1).project([0])\n",
    "    target_counts = target_hist.slice(1, 1, 2).project([0])\n",
    "    target_counts = target_counts.divide(target_counts.get([-1]))\n",
    "\n",
    "    # Find first position in target where targetCount >= srcCount[i], for each i.\n",
    "    def make_lookup(n):\n",
    "        return target_values.get(target_counts.gte(n).argmax())\n",
    "\n",
    "    lookup = source_counts.toList().map(make_lookup)\n",
    "\n",
    "    return {'x': source_values.toList(), 'y': lookup}"
   ]
  },
  {
   "cell_type": "code",
   "execution_count": 146,
   "id": "9adbc7c2",
   "metadata": {
    "ExecuteTime": {
     "end_time": "2021-12-03T15:17:52.511351Z",
     "start_time": "2021-12-03T15:17:52.506813Z"
    }
   },
   "outputs": [],
   "source": [
    "def histogram_match(source_img, target_img, geometry):\n",
    "    \"\"\"Performs histogram matching for 3-band RGB images by forcing the histogram CDF of source_img to match target_img.\n",
    "\n",
    "    Args:\n",
    "        source_img: A 3-band ee.Image to be color matched. Must have bands named 'R', 'G', and 'B'.\n",
    "        target_img: A 3-band ee.Image for color reference. Must have bands named 'R', 'G', and 'B'.\n",
    "        geometry: An ee.Geometry that defines the region to generate RGB histograms for.\n",
    "          It should intersect both source_img and target_img inputs.\n",
    "\n",
    "    Returns:\n",
    "        A copy of src_img color-matched to target_img.\n",
    "    \"\"\"\n",
    "\n",
    "    args = {\n",
    "        'reducer': ee.Reducer.autoHistogram(**{'maxBuckets': 1024, 'cumulative': True}),\n",
    "        'geometry': geometry,\n",
    "        'scale': 1, # Need to specify a scale, but it doesn't matter what it is because bestEffort is true.\n",
    "        'maxPixels': 1048576 * 4 - 1,\n",
    "        'bestEffort': True\n",
    "    }\n",
    "\n",
    "    # Only use pixels in target that have a value in source (inside the footprint and unmasked).\n",
    "    source = source_img.reduceRegion(**args)\n",
    "    target = target_img.updateMask(source_img.mask()).reduceRegion(**args)\n",
    "\n",
    "    return ee.Image.cat(\n",
    "        source_img.select(['B1']).interpolate(**lookup(source.getArray('B1'), target.getArray('B1'))),\n",
    "        source_img.select(['B2']).interpolate(**lookup(source.getArray('B2'), target.getArray('B2'))),\n",
    "        source_img.select(['B3']).interpolate(**lookup(source.getArray('B3'), target.getArray('B3'))),\n",
    "        source_img.select(['B4']).interpolate(**lookup(source.getArray('B4'), target.getArray('B4'))),\n",
    "        source_img.select(['B5']).interpolate(**lookup(source.getArray('B5'), target.getArray('B5'))),\n",
    "        source_img.select(['B6']).interpolate(**lookup(source.getArray('B6'), target.getArray('B6'))),\n",
    "        source_img.select(['B7']).interpolate(**lookup(source.getArray('B7'), target.getArray('B7'))),\n",
    "        source_img.select(['B8']).interpolate(**lookup(source.getArray('B8'), target.getArray('B8'))),\n",
    "        source_img.select(['B9']).interpolate(**lookup(source.getArray('B9'), target.getArray('B9'))),\n",
    "        source_img.select(['B10']).interpolate(**lookup(source.getArray('B10'), target.getArray('B10'))),\n",
    "        source_img.select(['B11']).interpolate(**lookup(source.getArray('B11'), target.getArray('B11'))),\n",
    "    ).copyProperties(source_img, ['system:time_start'])"
   ]
  },
  {
   "cell_type": "code",
   "execution_count": 147,
   "id": "006690ff",
   "metadata": {
    "ExecuteTime": {
     "end_time": "2021-12-03T15:17:52.513474Z",
     "start_time": "2021-12-03T15:17:52.512134Z"
    }
   },
   "outputs": [],
   "source": [
    "geometry = geometria_base2.geometry()"
   ]
  },
  {
   "cell_type": "code",
   "execution_count": 148,
   "id": "15798156",
   "metadata": {
    "ExecuteTime": {
     "end_time": "2021-12-03T15:17:52.515484Z",
     "start_time": "2021-12-03T15:17:52.514194Z"
    }
   },
   "outputs": [],
   "source": [
    "# geometry = ee.Geometry({\n",
    "#   'type': 'Polygon',\n",
    "#   'coordinates':\n",
    "#     [[[-72.674, -45.045],\n",
    "#       [-71.603, -45.086],\n",
    "#       [-71.554, -46.027],\n",
    "#       [-72.674, -45.045]]]\n",
    "# });"
   ]
  },
  {
   "cell_type": "code",
   "execution_count": 149,
   "id": "96c0fdd4",
   "metadata": {
    "ExecuteTime": {
     "end_time": "2021-12-03T15:17:52.517519Z",
     "start_time": "2021-12-03T15:17:52.516168Z"
    }
   },
   "outputs": [],
   "source": [
    "# geometryCoordinates = geometry.coordinates()"
   ]
  },
  {
   "cell_type": "code",
   "execution_count": 150,
   "id": "fd5d4d96",
   "metadata": {
    "ExecuteTime": {
     "end_time": "2021-12-03T15:17:52.519505Z",
     "start_time": "2021-12-03T15:17:52.518218Z"
    }
   },
   "outputs": [],
   "source": [
    "# print('geometry.coordinates(...) =', geometryCoordinates)"
   ]
  },
  {
   "cell_type": "code",
   "execution_count": 152,
   "id": "6f2af1f8",
   "metadata": {
    "ExecuteTime": {
     "end_time": "2021-12-03T15:18:40.995128Z",
     "start_time": "2021-12-03T15:18:40.746471Z"
    }
   },
   "outputs": [],
   "source": [
    "QM_NDVI_2020_m = histogram_match(NDVI_2020,colec_base, geometry)"
   ]
  },
  {
   "cell_type": "code",
   "execution_count": 153,
   "id": "01c11fab",
   "metadata": {
    "ExecuteTime": {
     "end_time": "2021-12-03T15:18:41.171916Z",
     "start_time": "2021-12-03T15:18:40.996164Z"
    }
   },
   "outputs": [],
   "source": [
    "NDVI_tier1 = histogram_match(QM_NDVI_T1, colec_base, geometry)"
   ]
  },
  {
   "cell_type": "code",
   "execution_count": 154,
   "id": "da2c9ab0",
   "metadata": {
    "ExecuteTime": {
     "end_time": "2021-12-03T15:18:41.341405Z",
     "start_time": "2021-12-03T15:18:41.172782Z"
    }
   },
   "outputs": [],
   "source": [
    "NDVI_tier2 = histogram_match(QM_NDVI_T2, colec_base, geometry)"
   ]
  },
  {
   "cell_type": "code",
   "execution_count": 155,
   "id": "e775315a",
   "metadata": {
    "ExecuteTime": {
     "end_time": "2021-12-03T15:18:41.583520Z",
     "start_time": "2021-12-03T15:18:41.342488Z"
    }
   },
   "outputs": [],
   "source": [
    "NDVI_tier3 = histogram_match(QM_NDVI_T3, colec_base, geometry)"
   ]
  },
  {
   "cell_type": "code",
   "execution_count": 156,
   "id": "131e6318",
   "metadata": {
    "ExecuteTime": {
     "end_time": "2021-12-03T15:18:41.757895Z",
     "start_time": "2021-12-03T15:18:41.584311Z"
    }
   },
   "outputs": [],
   "source": [
    "NDVI_tier4 = histogram_match(QM_NDVI_T4, colec_base, geometry)"
   ]
  },
  {
   "cell_type": "code",
   "execution_count": 157,
   "id": "92a22c22",
   "metadata": {
    "ExecuteTime": {
     "end_time": "2021-12-03T15:18:41.916625Z",
     "start_time": "2021-12-03T15:18:41.758846Z"
    }
   },
   "outputs": [],
   "source": [
    "NWVI_tier = histogram_match(QM_NDWI_T1, colec_base, geometry)"
   ]
  },
  {
   "cell_type": "code",
   "execution_count": 158,
   "id": "0964556b",
   "metadata": {
    "ExecuteTime": {
     "end_time": "2021-12-03T15:18:41.918947Z",
     "start_time": "2021-12-03T15:18:41.917358Z"
    }
   },
   "outputs": [],
   "source": [
    "vis_params_refl = {'min': 0, 'max': 0.25} "
   ]
  },
  {
   "cell_type": "code",
   "execution_count": 159,
   "id": "02bda186",
   "metadata": {
    "ExecuteTime": {
     "end_time": "2021-12-03T15:18:41.921016Z",
     "start_time": "2021-12-03T15:18:41.919722Z"
    }
   },
   "outputs": [],
   "source": [
    "# import folium\n",
    "\n",
    "# def add_ee_layer(self, ee_image_object, vis_params, name):\n",
    "#   map_id_dict = ee.Image(ee_image_object).getMapId(vis_params)\n",
    "#   folium.raster_layers.TileLayer(\n",
    "#       tiles=map_id_dict['tile_fetcher'].url_format,\n",
    "#       attr='Map Data &copy; <a href=\"https://earthengine.google.com/\">Google Earth Engine</a>',\n",
    "#       name=name,\n",
    "#       overlay=True,\n",
    "#       control=True\n",
    "#   ).add_to(self)\n",
    "\n",
    "# folium.Map.add_ee_layer = add_ee_layer"
   ]
  },
  {
   "cell_type": "code",
   "execution_count": 160,
   "id": "54dc379c",
   "metadata": {
    "ExecuteTime": {
     "end_time": "2021-12-03T15:18:41.923165Z",
     "start_time": "2021-12-03T15:18:41.921728Z"
    }
   },
   "outputs": [],
   "source": [
    "# lon, lat, zoom = -45, -70 , 4\n",
    "# vis_params_refl = {'min': 0, 'max': 0.25}\n",
    "# map_matched = folium.Map(location=[lat, lon], zoom_start=zoom)\n",
    "# map_matched.add_ee_layer(QM_NDVI_2021_m, vizParams, 'matched')\n",
    "# display(map_matched.add_child(folium.LayerControl()))"
   ]
  },
  {
   "cell_type": "markdown",
   "id": "dd05e9e8",
   "metadata": {},
   "source": [
    "## Generación de Mosaico"
   ]
  },
  {
   "cell_type": "code",
   "execution_count": 161,
   "id": "9b229098",
   "metadata": {
    "ExecuteTime": {
     "end_time": "2021-12-03T15:18:41.926037Z",
     "start_time": "2021-12-03T15:18:41.924594Z"
    }
   },
   "outputs": [],
   "source": [
    "NDVI_2020_landsat = NDVI_2020.set('SENSOR_ID', 'OLI_TIRS')"
   ]
  },
  {
   "cell_type": "code",
   "execution_count": 162,
   "id": "a98110ba",
   "metadata": {
    "ExecuteTime": {
     "end_time": "2021-12-03T15:18:41.928152Z",
     "start_time": "2021-12-03T15:18:41.926753Z"
    }
   },
   "outputs": [],
   "source": [
    "cloud_2020 = ee.Algorithms.Landsat.simpleCloudScore(NDVI_2020_landsat)"
   ]
  },
  {
   "cell_type": "code",
   "execution_count": 163,
   "id": "745b712d",
   "metadata": {
    "ExecuteTime": {
     "end_time": "2021-12-03T15:18:41.930200Z",
     "start_time": "2021-12-03T15:18:41.928829Z"
    }
   },
   "outputs": [],
   "source": [
    "cloud_2020 = cloud_2020.select('cloud')"
   ]
  },
  {
   "cell_type": "code",
   "execution_count": 164,
   "id": "3351dfe9",
   "metadata": {
    "ExecuteTime": {
     "end_time": "2021-12-03T15:18:41.932334Z",
     "start_time": "2021-12-03T15:18:41.930958Z"
    }
   },
   "outputs": [],
   "source": [
    "palette_nubes = ['#1a9850', '#d73027']"
   ]
  },
  {
   "cell_type": "code",
   "execution_count": 165,
   "id": "aa1c77e2",
   "metadata": {
    "ExecuteTime": {
     "end_time": "2021-12-03T15:18:41.934574Z",
     "start_time": "2021-12-03T15:18:41.933019Z"
    }
   },
   "outputs": [],
   "source": [
    "resultados= [cloud_2020, NDVI_2020]\n",
    "vis_params2=  [\n",
    "    {'palette':palette_nubes}, \n",
    "    vizParams]\n",
    "labels = [\n",
    "    'Nubes 2020',\n",
    "    'QM NDVI 2020']"
   ]
  },
  {
   "cell_type": "code",
   "execution_count": 166,
   "id": "28e91129",
   "metadata": {
    "ExecuteTime": {
     "end_time": "2021-12-03T15:18:43.531806Z",
     "start_time": "2021-12-03T15:18:41.935313Z"
    }
   },
   "outputs": [
    {
     "data": {
      "application/vnd.jupyter.widget-view+json": {
       "model_id": "5fd1e606618a450a9dec1cc25f575205",
       "version_major": 2,
       "version_minor": 0
      },
      "text/plain": [
       "GridspecLayout(children=(Output(layout=Layout(grid_area='widget001')), Output(layout=Layout(grid_area='widget0…"
      ]
     },
     "metadata": {},
     "output_type": "display_data"
    }
   ],
   "source": [
    "geemap.linked_maps(rows=1, cols=2, height=\"400px\", center=[-45, -75], zoom=4, \n",
    "                   ee_objects=resultados, vis_params=vis_params2, labels=labels, label_position=\"topright\")"
   ]
  },
  {
   "cell_type": "code",
   "execution_count": 167,
   "id": "21067811",
   "metadata": {
    "ExecuteTime": {
     "end_time": "2021-12-03T15:18:44.711113Z",
     "start_time": "2021-12-03T15:18:43.532534Z"
    }
   },
   "outputs": [
    {
     "data": {
      "text/plain": [
       "['B1',\n",
       " 'B2',\n",
       " 'B3',\n",
       " 'B4',\n",
       " 'B5',\n",
       " 'B6',\n",
       " 'B7',\n",
       " 'B8',\n",
       " 'B9',\n",
       " 'B10',\n",
       " 'B11',\n",
       " 'BQA',\n",
       " 'NDVI',\n",
       " 'NDWI',\n",
       " 'NDGI',\n",
       " 'SAVI',\n",
       " 'NDSI',\n",
       " 'date',\n",
       " 'nube']"
      ]
     },
     "execution_count": 167,
     "metadata": {},
     "output_type": "execute_result"
    }
   ],
   "source": [
    "QM_NDVI_T1.bandNames().getInfo()"
   ]
  },
  {
   "cell_type": "code",
   "execution_count": 168,
   "id": "93ea56bf",
   "metadata": {
    "ExecuteTime": {
     "end_time": "2021-12-03T15:18:44.713772Z",
     "start_time": "2021-12-03T15:18:44.712058Z"
    }
   },
   "outputs": [],
   "source": [
    "def llenado(image):\n",
    "    return image.where(cloud_2020.gt(10),QM_NDVI_T1)"
   ]
  },
  {
   "cell_type": "code",
   "execution_count": 169,
   "id": "8287934f",
   "metadata": {
    "ExecuteTime": {
     "end_time": "2021-12-03T15:18:44.716124Z",
     "start_time": "2021-12-03T15:18:44.714723Z"
    }
   },
   "outputs": [],
   "source": [
    "img1 = llenado(NDVI_2020)"
   ]
  },
  {
   "cell_type": "code",
   "execution_count": 170,
   "id": "0ea4ebed",
   "metadata": {
    "ExecuteTime": {
     "end_time": "2021-12-03T15:18:44.718468Z",
     "start_time": "2021-12-03T15:18:44.716841Z"
    }
   },
   "outputs": [],
   "source": [
    "img1_landsat = img1.set('SENSOR_ID', 'OLI_TIRS')\n",
    "cloud_img1 = ee.Algorithms.Landsat.simpleCloudScore(img1_landsat)\n",
    "cloud_img1 = cloud_img1.select('cloud')"
   ]
  },
  {
   "cell_type": "code",
   "execution_count": 171,
   "id": "84dbb2d4",
   "metadata": {
    "ExecuteTime": {
     "end_time": "2021-12-03T15:18:44.720910Z",
     "start_time": "2021-12-03T15:18:44.719330Z"
    }
   },
   "outputs": [],
   "source": [
    "resultados= [cloud_img1, img1]\n",
    "vis_params2=  [\n",
    "    {'palette':palette_nubes}, \n",
    "    vizParams]\n",
    "labels = [\n",
    "    'Nubes Mosaico 1',\n",
    "    'Mosaico 1']"
   ]
  },
  {
   "cell_type": "code",
   "execution_count": 172,
   "id": "f3c2a996",
   "metadata": {
    "ExecuteTime": {
     "end_time": "2021-12-03T15:18:47.879166Z",
     "start_time": "2021-12-03T15:18:44.721591Z"
    }
   },
   "outputs": [
    {
     "data": {
      "application/vnd.jupyter.widget-view+json": {
       "model_id": "b5eb1019aa824333b01b53a0dfaae1a3",
       "version_major": 2,
       "version_minor": 0
      },
      "text/plain": [
       "GridspecLayout(children=(Output(layout=Layout(grid_area='widget001')), Output(layout=Layout(grid_area='widget0…"
      ]
     },
     "metadata": {},
     "output_type": "display_data"
    }
   ],
   "source": [
    "geemap.linked_maps(rows=1, cols=2, height=\"400px\", center=[-45, -75], zoom=4, \n",
    "                   ee_objects=resultados, vis_params=vis_params2, labels=labels, label_position=\"topright\")"
   ]
  },
  {
   "cell_type": "code",
   "execution_count": 173,
   "id": "9a243ac4",
   "metadata": {
    "ExecuteTime": {
     "end_time": "2021-12-03T15:18:47.881696Z",
     "start_time": "2021-12-03T15:18:47.879974Z"
    }
   },
   "outputs": [],
   "source": [
    "def llenado2(image):\n",
    "    return image.where(cloud_img1.gt(10), QM_NDVI_T2)"
   ]
  },
  {
   "cell_type": "code",
   "execution_count": 174,
   "id": "ada6d94e",
   "metadata": {
    "ExecuteTime": {
     "end_time": "2021-12-03T15:18:47.884071Z",
     "start_time": "2021-12-03T15:18:47.882336Z"
    }
   },
   "outputs": [],
   "source": [
    "img2 = llenado2(img1)"
   ]
  },
  {
   "cell_type": "code",
   "execution_count": 175,
   "id": "e3db0a52",
   "metadata": {
    "ExecuteTime": {
     "end_time": "2021-12-03T15:18:47.886482Z",
     "start_time": "2021-12-03T15:18:47.884857Z"
    }
   },
   "outputs": [],
   "source": [
    "img2_landsat = img2.set('SENSOR_ID', 'OLI_TIRS')\n",
    "cloud_img2 = ee.Algorithms.Landsat.simpleCloudScore(img2_landsat)\n",
    "cloud_img2 = cloud_img2.select('cloud')"
   ]
  },
  {
   "cell_type": "code",
   "execution_count": 176,
   "id": "42d22742",
   "metadata": {
    "ExecuteTime": {
     "end_time": "2021-12-03T15:18:47.888939Z",
     "start_time": "2021-12-03T15:18:47.887194Z"
    }
   },
   "outputs": [],
   "source": [
    "resultados= [cloud_img2, img2]\n",
    "vis_params2=  [\n",
    "    {'palette':palette_nubes}, \n",
    "    vizParams]\n",
    "labels = [\n",
    "    'Nubes Mosaico 2',\n",
    "    'Mosaico 2']"
   ]
  },
  {
   "cell_type": "code",
   "execution_count": 177,
   "id": "5bdcab8c",
   "metadata": {
    "ExecuteTime": {
     "end_time": "2021-12-03T15:18:47.891452Z",
     "start_time": "2021-12-03T15:18:47.889635Z"
    }
   },
   "outputs": [],
   "source": [
    "# geemap.linked_maps(rows=1, cols=2, height=\"400px\", center=[-45, -75], zoom=4, \n",
    "#                    ee_objects=resultados, vis_params=vis_params2, labels=labels, label_position=\"topright\")"
   ]
  },
  {
   "cell_type": "code",
   "execution_count": 178,
   "id": "ca5f91e2",
   "metadata": {
    "ExecuteTime": {
     "end_time": "2021-12-03T15:18:47.894452Z",
     "start_time": "2021-12-03T15:18:47.892094Z"
    }
   },
   "outputs": [],
   "source": [
    "def llenado3(image):\n",
    "    return image.where(cloud_img2.gt(10), QM_NDVI_T3)"
   ]
  },
  {
   "cell_type": "code",
   "execution_count": 179,
   "id": "f52fddee",
   "metadata": {
    "ExecuteTime": {
     "end_time": "2021-12-03T15:18:47.898159Z",
     "start_time": "2021-12-03T15:18:47.896793Z"
    }
   },
   "outputs": [],
   "source": [
    "img3 = llenado3(img2)"
   ]
  },
  {
   "cell_type": "code",
   "execution_count": 180,
   "id": "6d41d9d0",
   "metadata": {
    "ExecuteTime": {
     "end_time": "2021-12-03T15:18:47.900460Z",
     "start_time": "2021-12-03T15:18:47.898886Z"
    }
   },
   "outputs": [],
   "source": [
    "img3_landsat = img3.set('SENSOR_ID', 'OLI_TIRS')\n",
    "cloud_img3 = ee.Algorithms.Landsat.simpleCloudScore(img3_landsat)\n",
    "cloud_img3 = cloud_img3.select('cloud')"
   ]
  },
  {
   "cell_type": "code",
   "execution_count": 181,
   "id": "3a000d62",
   "metadata": {
    "ExecuteTime": {
     "end_time": "2021-12-03T15:18:47.902749Z",
     "start_time": "2021-12-03T15:18:47.901175Z"
    }
   },
   "outputs": [],
   "source": [
    "resultados= [cloud_img3, img3]\n",
    "vis_params2=  [\n",
    "    {'palette':palette_nubes}, \n",
    "    vizParams]\n",
    "labels = [\n",
    "    'Nubes Mosaico 3',\n",
    "    'Mosaico 3']"
   ]
  },
  {
   "cell_type": "code",
   "execution_count": 182,
   "id": "bf275ed6",
   "metadata": {
    "ExecuteTime": {
     "end_time": "2021-12-03T15:18:47.904629Z",
     "start_time": "2021-12-03T15:18:47.903443Z"
    }
   },
   "outputs": [],
   "source": [
    "# geemap.linked_maps(rows=1, cols=2, height=\"400px\", center=[-45, -75], zoom=4, \n",
    "#                    ee_objects=resultados, vis_params=vis_params2, labels=labels, label_position=\"topright\")"
   ]
  },
  {
   "cell_type": "code",
   "execution_count": 183,
   "id": "9d0daae9",
   "metadata": {
    "ExecuteTime": {
     "end_time": "2021-12-03T15:18:47.907078Z",
     "start_time": "2021-12-03T15:18:47.905473Z"
    }
   },
   "outputs": [],
   "source": [
    "def llenado4(image):\n",
    "    return image.where(cloud_img3.gt(10), QM_NDVI_T4)"
   ]
  },
  {
   "cell_type": "code",
   "execution_count": 184,
   "id": "d37f16d5",
   "metadata": {
    "ExecuteTime": {
     "end_time": "2021-12-03T15:18:47.909172Z",
     "start_time": "2021-12-03T15:18:47.907725Z"
    }
   },
   "outputs": [],
   "source": [
    "img4 = llenado4(img3)"
   ]
  },
  {
   "cell_type": "code",
   "execution_count": 185,
   "id": "540d60d8",
   "metadata": {
    "ExecuteTime": {
     "end_time": "2021-12-03T15:18:47.911444Z",
     "start_time": "2021-12-03T15:18:47.909854Z"
    }
   },
   "outputs": [],
   "source": [
    "img4_landsat = img4.set('SENSOR_ID', 'OLI_TIRS')\n",
    "cloud_img4 = ee.Algorithms.Landsat.simpleCloudScore(img4_landsat)\n",
    "cloud_img4 = cloud_img4.select('cloud')"
   ]
  },
  {
   "cell_type": "code",
   "execution_count": 186,
   "id": "3f0e9719",
   "metadata": {
    "ExecuteTime": {
     "end_time": "2021-12-03T15:18:47.913716Z",
     "start_time": "2021-12-03T15:18:47.912281Z"
    }
   },
   "outputs": [],
   "source": [
    "resultados= [cloud_img4, img4]\n",
    "vis_params2=  [\n",
    "    {'palette':palette_nubes}, \n",
    "    vizParams]\n",
    "labels = [\n",
    "    'Nubes Mosaico 4',\n",
    "    'Mosaico 4']"
   ]
  },
  {
   "cell_type": "code",
   "execution_count": 187,
   "id": "41d9a7b8",
   "metadata": {
    "ExecuteTime": {
     "end_time": "2021-12-03T15:18:47.915733Z",
     "start_time": "2021-12-03T15:18:47.914461Z"
    }
   },
   "outputs": [],
   "source": [
    "# geemap.linked_maps(rows=1, cols=2, height=\"400px\", center=[-45, -75], zoom=4, \n",
    "#                    ee_objects=resultados, vis_params=vis_params2, labels=labels, label_position=\"topright\")"
   ]
  },
  {
   "cell_type": "code",
   "execution_count": 188,
   "id": "0cccc52b",
   "metadata": {
    "ExecuteTime": {
     "end_time": "2021-12-03T15:18:47.917885Z",
     "start_time": "2021-12-03T15:18:47.916452Z"
    }
   },
   "outputs": [],
   "source": [
    "hansenImage = ee.Image('UMD/hansen/global_forest_change_2015')\n",
    "datamask = hansenImage.select('datamask')"
   ]
  },
  {
   "cell_type": "code",
   "execution_count": 189,
   "id": "2e6b728e",
   "metadata": {
    "ExecuteTime": {
     "end_time": "2021-12-03T15:18:47.920015Z",
     "start_time": "2021-12-03T15:18:47.918545Z"
    }
   },
   "outputs": [],
   "source": [
    "def llenado5(image):\n",
    "    return image.where(datamask.eq(2), QM_NDWI_T1)"
   ]
  },
  {
   "cell_type": "code",
   "execution_count": 190,
   "id": "eeac700c",
   "metadata": {
    "ExecuteTime": {
     "end_time": "2021-12-03T15:18:47.922118Z",
     "start_time": "2021-12-03T15:18:47.920664Z"
    }
   },
   "outputs": [],
   "source": [
    "img5 = llenado5(img4)"
   ]
  },
  {
   "cell_type": "code",
   "execution_count": 191,
   "id": "82202db6",
   "metadata": {
    "ExecuteTime": {
     "end_time": "2021-12-03T15:18:47.924297Z",
     "start_time": "2021-12-03T15:18:47.922853Z"
    }
   },
   "outputs": [],
   "source": [
    "img5_landsat = img5.set('SENSOR_ID', 'OLI_TIRS')"
   ]
  },
  {
   "cell_type": "code",
   "execution_count": 192,
   "id": "823a7e18",
   "metadata": {
    "ExecuteTime": {
     "end_time": "2021-12-03T15:18:47.926876Z",
     "start_time": "2021-12-03T15:18:47.925234Z"
    }
   },
   "outputs": [],
   "source": [
    "resultados= [img4, img5]\n",
    "labels = [\n",
    "    'Mosaico 4',\n",
    "    'Mosaico 5']\n",
    "vis_params3=  [\n",
    "     vizParams, \n",
    "    vizParams]"
   ]
  },
  {
   "cell_type": "code",
   "execution_count": 193,
   "id": "87c07712",
   "metadata": {
    "ExecuteTime": {
     "end_time": "2021-12-03T15:18:50.953373Z",
     "start_time": "2021-12-03T15:18:47.927742Z"
    }
   },
   "outputs": [
    {
     "data": {
      "application/vnd.jupyter.widget-view+json": {
       "model_id": "84c60f8bb5b94631b65ee2cb953b66fc",
       "version_major": 2,
       "version_minor": 0
      },
      "text/plain": [
       "GridspecLayout(children=(Output(layout=Layout(grid_area='widget001')), Output(layout=Layout(grid_area='widget0…"
      ]
     },
     "metadata": {},
     "output_type": "display_data"
    }
   ],
   "source": [
    "geemap.linked_maps(rows=1, cols=2, height=\"400px\", center=[-45, -75], zoom=4, \n",
    "                   ee_objects=resultados, vis_params=vis_params3, labels=labels, label_position=\"topright\")"
   ]
  },
  {
   "cell_type": "code",
   "execution_count": 194,
   "id": "c76fddbf",
   "metadata": {
    "ExecuteTime": {
     "end_time": "2021-12-03T15:18:52.265033Z",
     "start_time": "2021-12-03T15:18:50.954102Z"
    }
   },
   "outputs": [
    {
     "data": {
      "text/plain": [
       "['B1',\n",
       " 'B2',\n",
       " 'B3',\n",
       " 'B4',\n",
       " 'B5',\n",
       " 'B6',\n",
       " 'B7',\n",
       " 'B8',\n",
       " 'B9',\n",
       " 'B10',\n",
       " 'B11',\n",
       " 'BQA',\n",
       " 'NDVI',\n",
       " 'NDWI',\n",
       " 'NDGI',\n",
       " 'SAVI',\n",
       " 'NDSI',\n",
       " 'date',\n",
       " 'nube']"
      ]
     },
     "execution_count": 194,
     "metadata": {},
     "output_type": "execute_result"
    }
   ],
   "source": [
    "img4.bandNames().getInfo()"
   ]
  },
  {
   "cell_type": "code",
   "execution_count": 195,
   "id": "03e0049e",
   "metadata": {
    "ExecuteTime": {
     "end_time": "2021-12-03T15:18:53.742293Z",
     "start_time": "2021-12-03T15:18:52.265800Z"
    }
   },
   "outputs": [
    {
     "data": {
      "text/plain": [
       "['B1',\n",
       " 'B2',\n",
       " 'B3',\n",
       " 'B4',\n",
       " 'B5',\n",
       " 'B6',\n",
       " 'B7',\n",
       " 'B8',\n",
       " 'B9',\n",
       " 'B10',\n",
       " 'B11',\n",
       " 'BQA',\n",
       " 'NDVI',\n",
       " 'NDWI',\n",
       " 'NDGI',\n",
       " 'SAVI',\n",
       " 'NDSI',\n",
       " 'date',\n",
       " 'nube']"
      ]
     },
     "execution_count": 195,
     "metadata": {},
     "output_type": "execute_result"
    }
   ],
   "source": [
    "img5.bandNames().getInfo()"
   ]
  },
  {
   "cell_type": "code",
   "execution_count": 196,
   "id": "20454023",
   "metadata": {
    "ExecuteTime": {
     "end_time": "2021-12-03T15:18:56.412407Z",
     "start_time": "2021-12-03T15:18:53.743053Z"
    }
   },
   "outputs": [
    {
     "data": {
      "application/vnd.jupyter.widget-view+json": {
       "model_id": "18297c53435a44378fb4c978aca6fe21",
       "version_major": 2,
       "version_minor": 0
      },
      "text/plain": [
       "Map(center=[-45, -70], controls=(WidgetControl(options=['position', 'transparent_bg'], widget=HBox(children=(T…"
      ]
     },
     "metadata": {},
     "output_type": "display_data"
    }
   ],
   "source": [
    "Map10.addLayer(img4, vizParams, 'Mosaico 4')\n",
    "Map10.addLayer(img5, vizParams, 'Mosaico 5')\n",
    "Map10"
   ]
  },
  {
   "cell_type": "markdown",
   "id": "18c237e5",
   "metadata": {},
   "source": [
    "### Resultado Final"
   ]
  },
  {
   "cell_type": "code",
   "execution_count": 197,
   "id": "3e85d062",
   "metadata": {
    "ExecuteTime": {
     "end_time": "2021-12-03T15:18:58.036150Z",
     "start_time": "2021-12-03T15:18:56.413129Z"
    }
   },
   "outputs": [
    {
     "data": {
      "application/vnd.jupyter.widget-view+json": {
       "model_id": "18297c53435a44378fb4c978aca6fe21",
       "version_major": 2,
       "version_minor": 0
      },
      "text/plain": [
       "Map(center=[-45, -70], controls=(WidgetControl(options=['position', 'transparent_bg'], widget=HBox(children=(T…"
      ]
     },
     "metadata": {},
     "output_type": "display_data"
    }
   ],
   "source": [
    "img5_b = img5.select(['B1','B2','B3','B4','B5','B6','B7'])\n",
    "Map10.addLayer(img5_b, vizParams, 'Mosaico 7bandas')\n",
    "Map10"
   ]
  },
  {
   "cell_type": "code",
   "execution_count": 198,
   "id": "f985c277",
   "metadata": {
    "ExecuteTime": {
     "end_time": "2021-12-03T15:18:58.038538Z",
     "start_time": "2021-12-03T15:18:58.037113Z"
    }
   },
   "outputs": [],
   "source": [
    "# type(img6)"
   ]
  },
  {
   "cell_type": "code",
   "execution_count": 199,
   "id": "3f26ae54",
   "metadata": {
    "ExecuteTime": {
     "end_time": "2021-12-03T15:18:58.041101Z",
     "start_time": "2021-12-03T15:18:58.039261Z"
    }
   },
   "outputs": [],
   "source": [
    "# img6.bandNames().getInfo()"
   ]
  },
  {
   "cell_type": "code",
   "execution_count": 200,
   "id": "9e384bfb",
   "metadata": {
    "ExecuteTime": {
     "end_time": "2021-12-03T15:18:58.042985Z",
     "start_time": "2021-12-03T15:18:58.041723Z"
    }
   },
   "outputs": [],
   "source": [
    "# colec7 = ee.ImageCollection(img7)"
   ]
  },
  {
   "cell_type": "code",
   "execution_count": 201,
   "id": "8bb269ec",
   "metadata": {
    "ExecuteTime": {
     "end_time": "2021-12-03T15:18:58.045011Z",
     "start_time": "2021-12-03T15:18:58.043730Z"
    }
   },
   "outputs": [],
   "source": [
    "# coleccion7 = colec7.map(addNDVI).map(addNDWI).map(addNDGI).map(addSAVI).map(addNDSI).map(addDate).map(addCloud)"
   ]
  },
  {
   "cell_type": "code",
   "execution_count": 202,
   "id": "67a2e0e2",
   "metadata": {
    "ExecuteTime": {
     "end_time": "2021-12-03T15:18:58.047092Z",
     "start_time": "2021-12-03T15:18:58.045683Z"
    }
   },
   "outputs": [],
   "source": [
    "property = 'date'"
   ]
  },
  {
   "cell_type": "code",
   "execution_count": 203,
   "id": "9fff05cd",
   "metadata": {
    "ExecuteTime": {
     "end_time": "2021-12-03T15:18:58.049327Z",
     "start_time": "2021-12-03T15:18:58.047848Z"
    }
   },
   "outputs": [],
   "source": [
    "options = {\"title\": 'Fechas Greenest 2021',\n",
    "          \"xlabel\": 'Date',\n",
    "          \"ylabel\": 'Pixel count',\n",
    "          \"colors\": ['#1d6b99']\n",
    "          }"
   ]
  },
  {
   "cell_type": "code",
   "execution_count": 204,
   "id": "1492f0d3",
   "metadata": {
    "ExecuteTime": {
     "end_time": "2021-12-03T15:18:58.051505Z",
     "start_time": "2021-12-03T15:18:58.050205Z"
    }
   },
   "outputs": [],
   "source": [
    "# muestra = img6.sample(patagonia_grande, 10000)"
   ]
  },
  {
   "cell_type": "code",
   "execution_count": 205,
   "id": "0ad9a685",
   "metadata": {
    "ExecuteTime": {
     "end_time": "2021-12-03T15:18:58.053629Z",
     "start_time": "2021-12-03T15:18:58.052271Z"
    }
   },
   "outputs": [],
   "source": [
    "# chart.feature_histogram(muestra, property, **options)"
   ]
  },
  {
   "cell_type": "code",
   "execution_count": 206,
   "id": "922e932e",
   "metadata": {
    "ExecuteTime": {
     "end_time": "2021-12-03T15:18:58.055897Z",
     "start_time": "2021-12-03T15:18:58.054482Z"
    }
   },
   "outputs": [],
   "source": [
    "# geemap.ee_export_image_to_drive(img5_b, description='mosaico_2021_m', folder='export', region=patagonia_grande.geometry(), scale=30)"
   ]
  },
  {
   "cell_type": "markdown",
   "id": "7267523f",
   "metadata": {},
   "source": [
    "### Tasseled cap"
   ]
  },
  {
   "cell_type": "code",
   "execution_count": 207,
   "id": "427e0fc3",
   "metadata": {
    "ExecuteTime": {
     "end_time": "2021-12-03T15:18:58.058893Z",
     "start_time": "2021-12-03T15:18:58.056822Z"
    }
   },
   "outputs": [],
   "source": [
    "coef = ee.Array([\n",
    "    [0.3029, 0.2786, 0.4733, 0.5599, 0.508, 0.1872], \n",
    "    [-0.2941, -0.243, -0.5424, 0.7276, 0.0713, -0.1608],\n",
    "    [0.1511, 0.1973, 0.3283, 0.3407, -0.7117, -0.4559],\n",
    "    [-0.8239, 0.0849, 0.4396, -0.058, 0.2013, -0.2773],\n",
    "    [-0.3294, 0.0557, 0.1056, 0.1855, -0.4349, 0.8085],\n",
    "    [0.1079, -0.9023, 0.4119, 0.0575, -0.0259, 0.0252]\n",
    "])"
   ]
  },
  {
   "cell_type": "code",
   "execution_count": 208,
   "id": "7ab0a347",
   "metadata": {
    "ExecuteTime": {
     "end_time": "2021-12-03T15:18:58.061120Z",
     "start_time": "2021-12-03T15:18:58.059620Z"
    }
   },
   "outputs": [],
   "source": [
    "tasse_img5 = img5.select(['B2', 'B3', 'B4', 'B5', 'B6', 'B7'])"
   ]
  },
  {
   "cell_type": "code",
   "execution_count": 209,
   "id": "9e34972d",
   "metadata": {
    "ExecuteTime": {
     "end_time": "2021-12-03T15:18:58.063236Z",
     "start_time": "2021-12-03T15:18:58.061788Z"
    }
   },
   "outputs": [],
   "source": [
    "arrayimage1d = tasse_img5.toArray()"
   ]
  },
  {
   "cell_type": "code",
   "execution_count": 210,
   "id": "3c3e3a70",
   "metadata": {
    "ExecuteTime": {
     "end_time": "2021-12-03T15:18:58.065278Z",
     "start_time": "2021-12-03T15:18:58.063949Z"
    }
   },
   "outputs": [],
   "source": [
    "arrayimage2d = arrayimage1d.toArray(1)"
   ]
  },
  {
   "cell_type": "code",
   "execution_count": 211,
   "id": "0ae9ab01",
   "metadata": {
    "ExecuteTime": {
     "end_time": "2021-12-03T15:18:58.067648Z",
     "start_time": "2021-12-03T15:18:58.065962Z"
    }
   },
   "outputs": [],
   "source": [
    "componentes = ee.Image(coef)\\\n",
    "                .matrixMultiply(arrayimage2d) \\\n",
    "                .arrayProject([0])\\\n",
    "                .arrayFlatten(\n",
    "                [['brightness','greenness','wetness','fourth','fifth','sixth']])"
   ]
  },
  {
   "cell_type": "code",
   "execution_count": 212,
   "id": "b058be26",
   "metadata": {
    "ExecuteTime": {
     "end_time": "2021-12-03T15:18:58.069973Z",
     "start_time": "2021-12-03T15:18:58.068394Z"
    }
   },
   "outputs": [],
   "source": [
    "vizParamstess = {\n",
    "  'bands': ['brightness', 'greenness', 'wetness'],\n",
    "    'min': -0.1,\n",
    "    'max': [0.6, 0.2, 0.2]\n",
    "}\n"
   ]
  },
  {
   "cell_type": "code",
   "execution_count": 213,
   "id": "9dc2abf8",
   "metadata": {
    "ExecuteTime": {
     "end_time": "2021-12-03T15:19:00.040583Z",
     "start_time": "2021-12-03T15:18:58.070851Z"
    }
   },
   "outputs": [
    {
     "data": {
      "application/vnd.jupyter.widget-view+json": {
       "model_id": "18297c53435a44378fb4c978aca6fe21",
       "version_major": 2,
       "version_minor": 0
      },
      "text/plain": [
       "Map(center=[-45, -70], controls=(WidgetControl(options=['position', 'transparent_bg'], widget=HBox(children=(T…"
      ]
     },
     "metadata": {},
     "output_type": "display_data"
    }
   ],
   "source": [
    "Map10.addLayer(componentes,vizParamstess, 'Tesseled cap')\n",
    "Map10"
   ]
  },
  {
   "cell_type": "code",
   "execution_count": 214,
   "id": "7bc09ac4",
   "metadata": {
    "ExecuteTime": {
     "end_time": "2021-12-03T15:19:00.042930Z",
     "start_time": "2021-12-03T15:19:00.041464Z"
    }
   },
   "outputs": [],
   "source": [
    "# task = ee.batch.Export.image.toAsset(**{\n",
    "#     'image': componentes ,\n",
    "#     'description':'Tasseled 2021',\n",
    "#     'assetId':'users/franciscoalbornoz/Tasseled_2021',\n",
    "#     'scale': 30,\n",
    "#     'maxPixels': 1e13\n",
    "# })"
   ]
  },
  {
   "cell_type": "code",
   "execution_count": 215,
   "id": "6e3983e0",
   "metadata": {
    "ExecuteTime": {
     "end_time": "2021-12-03T15:19:00.046090Z",
     "start_time": "2021-12-03T15:19:00.043566Z"
    }
   },
   "outputs": [],
   "source": [
    "# task.start()"
   ]
  },
  {
   "cell_type": "markdown",
   "id": "c8f38c76",
   "metadata": {},
   "source": [
    "## Mosaicos Matched"
   ]
  },
  {
   "cell_type": "code",
   "execution_count": 216,
   "id": "d5725d05",
   "metadata": {
    "ExecuteTime": {
     "end_time": "2021-12-03T15:19:00.051294Z",
     "start_time": "2021-12-03T15:19:00.046852Z"
    }
   },
   "outputs": [
    {
     "ename": "NameError",
     "evalue": "name 'QM_NDVI_2021_m' is not defined",
     "output_type": "error",
     "traceback": [
      "\u001b[0;31m---------------------------------------------------------------------------\u001b[0m",
      "\u001b[0;31mNameError\u001b[0m                                 Traceback (most recent call last)",
      "\u001b[0;32m/tmp/ipykernel_185/2358805180.py\u001b[0m in \u001b[0;36m<module>\u001b[0;34m\u001b[0m\n\u001b[0;32m----> 1\u001b[0;31m \u001b[0mNDVI_2021_landsat_m\u001b[0m \u001b[0;34m=\u001b[0m \u001b[0mQM_NDVI_2021_m\u001b[0m\u001b[0;34m.\u001b[0m\u001b[0mset\u001b[0m\u001b[0;34m(\u001b[0m\u001b[0;34m'SENSOR_ID'\u001b[0m\u001b[0;34m,\u001b[0m \u001b[0;34m'OLI_TIRS'\u001b[0m\u001b[0;34m)\u001b[0m\u001b[0;34m\u001b[0m\u001b[0;34m\u001b[0m\u001b[0m\n\u001b[0m",
      "\u001b[0;31mNameError\u001b[0m: name 'QM_NDVI_2021_m' is not defined"
     ]
    }
   ],
   "source": [
    "NDVI_2021_landsat_m = QM_NDVI_2021_m.set('SENSOR_ID', 'OLI_TIRS')"
   ]
  },
  {
   "cell_type": "code",
   "execution_count": null,
   "id": "3ec3ce95",
   "metadata": {
    "ExecuteTime": {
     "end_time": "2021-12-03T15:19:00.059991Z",
     "start_time": "2021-12-03T15:19:00.059982Z"
    }
   },
   "outputs": [],
   "source": [
    "cloud_2021_m = ee.Algorithms.Landsat.simpleCloudScore(NDVI_2021_landsat_m)"
   ]
  },
  {
   "cell_type": "code",
   "execution_count": null,
   "id": "1d06d4e6",
   "metadata": {
    "ExecuteTime": {
     "end_time": "2021-12-03T15:19:00.060686Z",
     "start_time": "2021-12-03T15:19:00.060677Z"
    }
   },
   "outputs": [],
   "source": [
    "cloud_2021_m = cloud_2021_m.select('cloud')"
   ]
  },
  {
   "cell_type": "code",
   "execution_count": null,
   "id": "204cf196",
   "metadata": {
    "ExecuteTime": {
     "end_time": "2021-12-03T15:19:00.061165Z",
     "start_time": "2021-12-03T15:19:00.061158Z"
    }
   },
   "outputs": [],
   "source": [
    "palette_nubes = ['#1a9850', '#66bd63', '#a6d96a', '#d9ef8b', '#fee08b', '#fdae61', '#f46d43', '#d73027']"
   ]
  },
  {
   "cell_type": "code",
   "execution_count": null,
   "id": "90667fcb",
   "metadata": {
    "ExecuteTime": {
     "end_time": "2021-12-03T15:19:00.061712Z",
     "start_time": "2021-12-03T15:19:00.061704Z"
    }
   },
   "outputs": [],
   "source": [
    "QM_NDVI_2021_m = ee.Image(QM_NDVI_2021_m)"
   ]
  },
  {
   "cell_type": "code",
   "execution_count": null,
   "id": "8c7e8e20",
   "metadata": {
    "ExecuteTime": {
     "end_time": "2021-12-03T15:19:00.062164Z",
     "start_time": "2021-12-03T15:19:00.062158Z"
    }
   },
   "outputs": [],
   "source": [
    "resultados= [cloud_2021_m, QM_NDVI_2021_m]\n",
    "vis_params2=  [\n",
    "    {'palette':palette_nubes}, \n",
    "    vizParams]\n",
    "labels = [\n",
    "    'Nubes 2021',\n",
    "    'QM NDVI 2021']"
   ]
  },
  {
   "cell_type": "code",
   "execution_count": null,
   "id": "37ff14a0",
   "metadata": {
    "ExecuteTime": {
     "end_time": "2021-12-03T15:19:00.062937Z",
     "start_time": "2021-12-03T15:19:00.062928Z"
    }
   },
   "outputs": [],
   "source": [
    "# geemap.linked_maps(rows=1, cols=2, height=\"400px\", center=[-45, -75], zoom=4, \n",
    "#                    ee_objects=resultados, vis_params=vis_params2, labels=labels, label_position=\"topright\")"
   ]
  },
  {
   "cell_type": "code",
   "execution_count": null,
   "id": "dfb9ff31",
   "metadata": {
    "ExecuteTime": {
     "end_time": "2021-12-03T15:19:00.063394Z",
     "start_time": "2021-12-03T15:19:00.063388Z"
    }
   },
   "outputs": [],
   "source": [
    "def llenado(image):\n",
    "    return image.where(cloud_2021_m.gt(10),NDVI_tier1)"
   ]
  },
  {
   "cell_type": "code",
   "execution_count": null,
   "id": "fcc244dd",
   "metadata": {
    "ExecuteTime": {
     "end_time": "2021-12-03T15:19:00.064065Z",
     "start_time": "2021-12-03T15:19:00.064056Z"
    }
   },
   "outputs": [],
   "source": [
    "img1_m = llenado(QM_NDVI_2021_m)"
   ]
  },
  {
   "cell_type": "code",
   "execution_count": null,
   "id": "5966e81c",
   "metadata": {
    "ExecuteTime": {
     "end_time": "2021-12-03T15:19:00.064508Z",
     "start_time": "2021-12-03T15:19:00.064502Z"
    }
   },
   "outputs": [],
   "source": [
    "img1_landsat_m = img1_m.set('SENSOR_ID', 'OLI_TIRS')\n",
    "cloud_img1_m = ee.Algorithms.Landsat.simpleCloudScore(img1_landsat_m)\n",
    "cloud_img1_m = cloud_img1_m.select('cloud')"
   ]
  },
  {
   "cell_type": "code",
   "execution_count": null,
   "id": "cb935b42",
   "metadata": {
    "ExecuteTime": {
     "end_time": "2021-12-03T15:19:00.065130Z",
     "start_time": "2021-12-03T15:19:00.065122Z"
    }
   },
   "outputs": [],
   "source": [
    "img1_m = ee.Image(img1_m)"
   ]
  },
  {
   "cell_type": "code",
   "execution_count": null,
   "id": "a6038438",
   "metadata": {
    "ExecuteTime": {
     "end_time": "2021-12-03T15:19:00.065813Z",
     "start_time": "2021-12-03T15:19:00.065806Z"
    }
   },
   "outputs": [],
   "source": [
    "resultados= [cloud_img1_m, img1_m]\n",
    "vis_params2=  [\n",
    "    {'palette':palette_nubes}, \n",
    "    vizParams]\n",
    "labels = [\n",
    "    'Nubes Mosaico 1',\n",
    "    'Mosaico 1']"
   ]
  },
  {
   "cell_type": "code",
   "execution_count": null,
   "id": "ff549bfe",
   "metadata": {
    "ExecuteTime": {
     "end_time": "2021-12-03T15:19:00.066337Z",
     "start_time": "2021-12-03T15:19:00.066331Z"
    }
   },
   "outputs": [],
   "source": [
    "# geemap.linked_maps(rows=1, cols=2, height=\"400px\", center=[-45, -75], zoom=4, \n",
    "#                    ee_objects=resultados, vis_params=vis_params2, labels=labels, label_position=\"topright\")"
   ]
  },
  {
   "cell_type": "code",
   "execution_count": null,
   "id": "11700bca",
   "metadata": {
    "ExecuteTime": {
     "end_time": "2021-12-03T15:19:00.066847Z",
     "start_time": "2021-12-03T15:19:00.066836Z"
    }
   },
   "outputs": [],
   "source": [
    "def llenado2(image):\n",
    "    return image.where(cloud_img1_m.gt(10), NDVI_tier2)"
   ]
  },
  {
   "cell_type": "code",
   "execution_count": null,
   "id": "b9a26883",
   "metadata": {
    "ExecuteTime": {
     "end_time": "2021-12-03T15:19:00.067445Z",
     "start_time": "2021-12-03T15:19:00.067437Z"
    }
   },
   "outputs": [],
   "source": [
    "img2_m = llenado2(img1_m)"
   ]
  },
  {
   "cell_type": "code",
   "execution_count": null,
   "id": "47a8156c",
   "metadata": {
    "ExecuteTime": {
     "end_time": "2021-12-03T15:19:00.067916Z",
     "start_time": "2021-12-03T15:19:00.067906Z"
    }
   },
   "outputs": [],
   "source": [
    "img2_landsat_m = img2_m.set('SENSOR_ID', 'OLI_TIRS')\n",
    "cloud_img2_m = ee.Algorithms.Landsat.simpleCloudScore(img2_landsat_m)\n",
    "cloud_img2_m = cloud_img2_m.select('cloud')"
   ]
  },
  {
   "cell_type": "code",
   "execution_count": null,
   "id": "b6747689",
   "metadata": {
    "ExecuteTime": {
     "end_time": "2021-12-03T15:19:00.068457Z",
     "start_time": "2021-12-03T15:19:00.068450Z"
    }
   },
   "outputs": [],
   "source": [
    "img2_m = ee.Image(img2_m)"
   ]
  },
  {
   "cell_type": "code",
   "execution_count": null,
   "id": "8a4648ba",
   "metadata": {
    "ExecuteTime": {
     "end_time": "2021-12-03T15:19:00.068933Z",
     "start_time": "2021-12-03T15:19:00.068924Z"
    }
   },
   "outputs": [],
   "source": [
    "resultados= [cloud_img2_m, img2_m]\n",
    "vis_params2=  [\n",
    "    {'palette':palette_nubes}, \n",
    "    vizParams]\n",
    "labels = [\n",
    "    'Nubes Mosaico 2',\n",
    "    'Mosaico 2']"
   ]
  },
  {
   "cell_type": "code",
   "execution_count": null,
   "id": "5c6eee6f",
   "metadata": {
    "ExecuteTime": {
     "end_time": "2021-12-03T15:19:00.069580Z",
     "start_time": "2021-12-03T15:19:00.069573Z"
    }
   },
   "outputs": [],
   "source": [
    "# geemap.linked_maps(rows=1, cols=2, height=\"400px\", center=[-45, -75], zoom=4, \n",
    "#                    ee_objects=resultados, vis_params=vis_params2, labels=labels, label_position=\"topright\")"
   ]
  },
  {
   "cell_type": "code",
   "execution_count": null,
   "id": "c3c15ccb",
   "metadata": {
    "ExecuteTime": {
     "end_time": "2021-12-03T15:19:00.070318Z",
     "start_time": "2021-12-03T15:19:00.070309Z"
    }
   },
   "outputs": [],
   "source": [
    "def llenado3(image):\n",
    "    return image.where(cloud_img2_m.gt(10), NDVI_tier3)"
   ]
  },
  {
   "cell_type": "code",
   "execution_count": null,
   "id": "be4d98dc",
   "metadata": {
    "ExecuteTime": {
     "end_time": "2021-12-03T15:19:00.070984Z",
     "start_time": "2021-12-03T15:19:00.070974Z"
    }
   },
   "outputs": [],
   "source": [
    "img3_m = llenado3(img2_m)"
   ]
  },
  {
   "cell_type": "code",
   "execution_count": null,
   "id": "6afe5e92",
   "metadata": {
    "ExecuteTime": {
     "end_time": "2021-12-03T15:19:00.072120Z",
     "start_time": "2021-12-03T15:19:00.072112Z"
    }
   },
   "outputs": [],
   "source": [
    "img3_landsat_m = img3_m.set('SENSOR_ID', 'OLI_TIRS')\n",
    "cloud_img3_m = ee.Algorithms.Landsat.simpleCloudScore(img3_landsat_m)\n",
    "cloud_img3_m = cloud_img3_m.select('cloud')"
   ]
  },
  {
   "cell_type": "code",
   "execution_count": null,
   "id": "63e6b3e5",
   "metadata": {
    "ExecuteTime": {
     "end_time": "2021-12-03T15:19:00.072598Z",
     "start_time": "2021-12-03T15:19:00.072591Z"
    }
   },
   "outputs": [],
   "source": [
    "img3_m = ee.Image(img3_m)"
   ]
  },
  {
   "cell_type": "code",
   "execution_count": null,
   "id": "ae7dc873",
   "metadata": {
    "ExecuteTime": {
     "end_time": "2021-12-03T15:19:00.073417Z",
     "start_time": "2021-12-03T15:19:00.073403Z"
    }
   },
   "outputs": [],
   "source": [
    "resultados= [cloud_img3_m, img3_m]\n",
    "vis_params2=  [\n",
    "    {'palette':palette_nubes}, \n",
    "    vizParams]\n",
    "labels = [\n",
    "    'Nubes Mosaico 3',\n",
    "    'Mosaico 3']"
   ]
  },
  {
   "cell_type": "code",
   "execution_count": null,
   "id": "9da14b29",
   "metadata": {
    "ExecuteTime": {
     "end_time": "2021-12-03T15:19:00.074136Z",
     "start_time": "2021-12-03T15:19:00.074123Z"
    }
   },
   "outputs": [],
   "source": [
    "# geemap.linked_maps(rows=1, cols=2, height=\"400px\", center=[-45, -75], zoom=4, \n",
    "#                    ee_objects=resultados, vis_params=vis_params2, labels=labels, label_position=\"topright\")"
   ]
  },
  {
   "cell_type": "code",
   "execution_count": null,
   "id": "b4962662",
   "metadata": {
    "ExecuteTime": {
     "end_time": "2021-12-03T15:19:00.075011Z",
     "start_time": "2021-12-03T15:19:00.075002Z"
    }
   },
   "outputs": [],
   "source": [
    "def llenado4(image):\n",
    "    return image.where(cloud_img3_m.gt(10), NDVI_tier4)"
   ]
  },
  {
   "cell_type": "code",
   "execution_count": null,
   "id": "d84c0a97",
   "metadata": {
    "ExecuteTime": {
     "end_time": "2021-12-03T15:19:00.075717Z",
     "start_time": "2021-12-03T15:19:00.075710Z"
    }
   },
   "outputs": [],
   "source": [
    "img4_m = llenado4(img3_m)"
   ]
  },
  {
   "cell_type": "code",
   "execution_count": null,
   "id": "c39b50e8",
   "metadata": {
    "ExecuteTime": {
     "end_time": "2021-12-03T15:19:00.076513Z",
     "start_time": "2021-12-03T15:19:00.076501Z"
    }
   },
   "outputs": [],
   "source": [
    "img4_landsat_m = img4_m.set('SENSOR_ID', 'OLI_TIRS')\n",
    "cloud_img4_m = ee.Algorithms.Landsat.simpleCloudScore(img4_landsat_m)\n",
    "cloud_img4_m = cloud_img4_m.select('cloud')"
   ]
  },
  {
   "cell_type": "code",
   "execution_count": null,
   "id": "7b4625f1",
   "metadata": {
    "ExecuteTime": {
     "end_time": "2021-12-03T15:19:00.077102Z",
     "start_time": "2021-12-03T15:19:00.077095Z"
    }
   },
   "outputs": [],
   "source": [
    "img4_m = ee.Image(img4_m)"
   ]
  },
  {
   "cell_type": "code",
   "execution_count": null,
   "id": "b5eeb495",
   "metadata": {
    "ExecuteTime": {
     "end_time": "2021-12-03T15:19:00.077815Z",
     "start_time": "2021-12-03T15:19:00.077806Z"
    }
   },
   "outputs": [],
   "source": [
    "resultados= [cloud_img4_m, img4_m]\n",
    "vis_params2=  [\n",
    "    {'palette':palette_nubes}, \n",
    "    vizParams]\n",
    "labels = [\n",
    "    'Nubes Mosaico 4',\n",
    "    'Mosaico 4']"
   ]
  },
  {
   "cell_type": "code",
   "execution_count": null,
   "id": "fb6d9f07",
   "metadata": {
    "ExecuteTime": {
     "end_time": "2021-12-03T15:19:00.078620Z",
     "start_time": "2021-12-03T15:19:00.078606Z"
    }
   },
   "outputs": [],
   "source": [
    "# geemap.linked_maps(rows=1, cols=2, height=\"400px\", center=[-45, -75], zoom=4, \n",
    "#                    ee_objects=resultados, vis_params=vis_params2, labels=labels, label_position=\"topright\")"
   ]
  },
  {
   "cell_type": "code",
   "execution_count": null,
   "id": "6400890d",
   "metadata": {
    "ExecuteTime": {
     "end_time": "2021-12-03T15:19:00.079186Z",
     "start_time": "2021-12-03T15:19:00.079179Z"
    }
   },
   "outputs": [],
   "source": [
    "hansenImage = ee.Image('UMD/hansen/global_forest_change_2015')\n",
    "datamask = hansenImage.select('datamask')"
   ]
  },
  {
   "cell_type": "code",
   "execution_count": null,
   "id": "25bc284f",
   "metadata": {
    "ExecuteTime": {
     "end_time": "2021-12-03T15:19:00.080029Z",
     "start_time": "2021-12-03T15:19:00.080020Z"
    }
   },
   "outputs": [],
   "source": [
    "def llenado5(image):\n",
    "    return image.where(datamask.eq(2), NWVI_tier)"
   ]
  },
  {
   "cell_type": "code",
   "execution_count": null,
   "id": "056eee78",
   "metadata": {
    "ExecuteTime": {
     "end_time": "2021-12-03T15:19:00.080558Z",
     "start_time": "2021-12-03T15:19:00.080551Z"
    }
   },
   "outputs": [],
   "source": [
    "img5_m = llenado5(img4_m)"
   ]
  },
  {
   "cell_type": "code",
   "execution_count": null,
   "id": "059bcbe2",
   "metadata": {
    "ExecuteTime": {
     "end_time": "2021-12-03T15:19:00.081247Z",
     "start_time": "2021-12-03T15:19:00.081238Z"
    }
   },
   "outputs": [],
   "source": [
    "img5_landsat_m = img5_m.set('SENSOR_ID', 'OLI_TIRS')\n",
    "cloud_img5_m = ee.Algorithms.Landsat.simpleCloudScore(img5_landsat_m)\n",
    "cloud_img5_m = cloud_img5_m.select('cloud')"
   ]
  },
  {
   "cell_type": "code",
   "execution_count": null,
   "id": "bdcc43da",
   "metadata": {
    "ExecuteTime": {
     "end_time": "2021-12-03T15:19:00.081840Z",
     "start_time": "2021-12-03T15:19:00.081833Z"
    }
   },
   "outputs": [],
   "source": [
    "resultados= [cloud_img5_m, img5_m]\n",
    "vis_params2=  [\n",
    "    {'palette':palette_nubes}, \n",
    "    vizParams]\n",
    "labels = [\n",
    "    'Nubes Mosaico 5',\n",
    "    'Mosaico 5']"
   ]
  },
  {
   "cell_type": "code",
   "execution_count": null,
   "id": "b3c90c9e",
   "metadata": {
    "ExecuteTime": {
     "end_time": "2021-12-03T15:19:00.082514Z",
     "start_time": "2021-12-03T15:19:00.082502Z"
    }
   },
   "outputs": [],
   "source": [
    "# geemap.linked_maps(rows=1, cols=2, height=\"400px\", center=[-45, -75], zoom=4, \n",
    "#                    ee_objects=resultados, vis_params=vis_params2, labels=labels, label_position=\"topright\")"
   ]
  },
  {
   "cell_type": "code",
   "execution_count": null,
   "id": "70e58e52",
   "metadata": {
    "ExecuteTime": {
     "end_time": "2021-12-03T15:19:00.083408Z",
     "start_time": "2021-12-03T15:19:00.083399Z"
    }
   },
   "outputs": [],
   "source": [
    "# img6_m.bandNames().getInfo()"
   ]
  },
  {
   "cell_type": "code",
   "execution_count": null,
   "id": "bf45a446",
   "metadata": {
    "ExecuteTime": {
     "end_time": "2021-12-03T15:19:00.083999Z",
     "start_time": "2021-12-03T15:19:00.083992Z"
    }
   },
   "outputs": [],
   "source": [
    "img5_m = ee.Image(img5_m)"
   ]
  },
  {
   "cell_type": "code",
   "execution_count": null,
   "id": "73e9f0f9",
   "metadata": {
    "ExecuteTime": {
     "end_time": "2021-12-03T15:19:00.084755Z",
     "start_time": "2021-12-03T15:19:00.084745Z"
    }
   },
   "outputs": [],
   "source": [
    "resultados= [img4_m, img5_m]\n",
    "labels = [\n",
    "    'Mosaico 4',\n",
    "    'Mosaico 5']\n",
    "vis_params3=  [\n",
    "     vizParams, \n",
    "    vizParams]"
   ]
  },
  {
   "cell_type": "code",
   "execution_count": null,
   "id": "47eb7b43",
   "metadata": {
    "ExecuteTime": {
     "end_time": "2021-12-03T15:19:00.085381Z",
     "start_time": "2021-12-03T15:19:00.085374Z"
    }
   },
   "outputs": [],
   "source": [
    "# geemap.linked_maps(rows=1, cols=2, height=\"400px\", center=[-45, -75], zoom=4, \n",
    "#                    ee_objects=resultados, vis_params=vis_params3, labels=labels, label_position=\"topright\")"
   ]
  },
  {
   "cell_type": "code",
   "execution_count": null,
   "id": "6116e6db",
   "metadata": {
    "ExecuteTime": {
     "end_time": "2021-12-03T15:19:00.085999Z",
     "start_time": "2021-12-03T15:19:00.085990Z"
    }
   },
   "outputs": [],
   "source": [
    "# img5_m.bandNames().getInfo()"
   ]
  },
  {
   "cell_type": "code",
   "execution_count": null,
   "id": "0645dcd8",
   "metadata": {
    "ExecuteTime": {
     "end_time": "2021-12-03T15:19:00.086628Z",
     "start_time": "2021-12-03T15:19:00.086620Z"
    }
   },
   "outputs": [],
   "source": [
    "img5_m_bandas = img5_m.select(['B1','B2','B3','B4','B5','B6','B7'])"
   ]
  },
  {
   "cell_type": "code",
   "execution_count": null,
   "id": "eae34253",
   "metadata": {
    "ExecuteTime": {
     "end_time": "2021-12-03T15:19:00.087293Z",
     "start_time": "2021-12-03T15:19:00.087284Z"
    }
   },
   "outputs": [],
   "source": [
    "vizParams2 = {\n",
    "  'bands': ['B5', 'B4', 'B3'],\n",
    "  'min': 0,\n",
    "  'max': 0.2,\n",
    "  'gamma': [1, 1.1, 1]\n",
    "}"
   ]
  },
  {
   "cell_type": "markdown",
   "id": "71cfd395",
   "metadata": {},
   "source": [
    "### Resultado Final"
   ]
  },
  {
   "cell_type": "code",
   "execution_count": null,
   "id": "f6becda0",
   "metadata": {
    "ExecuteTime": {
     "end_time": "2021-12-03T15:19:00.087948Z",
     "start_time": "2021-12-03T15:19:00.087939Z"
    }
   },
   "outputs": [],
   "source": [
    "# Map10.addLayer(img5_m_bandas, vizParams2, 'Mosaico 5m')\n",
    "# Map10"
   ]
  },
  {
   "cell_type": "code",
   "execution_count": null,
   "id": "83a452f1",
   "metadata": {
    "ExecuteTime": {
     "end_time": "2021-12-03T15:19:00.088686Z",
     "start_time": "2021-12-03T15:19:00.088676Z"
    }
   },
   "outputs": [],
   "source": [
    "# Map12.addLayer(img6_m_bandas, vizParams2, 'Mosaico 6m')\n",
    "# Map12"
   ]
  },
  {
   "cell_type": "code",
   "execution_count": null,
   "id": "6d9a5474",
   "metadata": {
    "ExecuteTime": {
     "end_time": "2021-12-03T15:19:00.089345Z",
     "start_time": "2021-12-03T15:19:00.089335Z"
    }
   },
   "outputs": [],
   "source": [
    "# img6_m.bandNames().getInfo()"
   ]
  },
  {
   "cell_type": "code",
   "execution_count": null,
   "id": "92e28956",
   "metadata": {
    "ExecuteTime": {
     "end_time": "2021-12-03T15:19:00.089961Z",
     "start_time": "2021-12-03T15:19:00.089948Z"
    }
   },
   "outputs": [],
   "source": [
    "# geemap.ee_export_image_to_drive(img5_m, description='mosaico_2021_m', folder='export', region=patagonia_grande.geometry(), scale=30)"
   ]
  },
  {
   "cell_type": "markdown",
   "id": "1e872319",
   "metadata": {},
   "source": [
    "## Clasificación"
   ]
  },
  {
   "cell_type": "code",
   "execution_count": null,
   "id": "3d3603e3",
   "metadata": {
    "ExecuteTime": {
     "end_time": "2021-12-03T15:19:00.090529Z",
     "start_time": "2021-12-03T15:19:00.090523Z"
    }
   },
   "outputs": [],
   "source": [
    "val_shp = os.path.join(work_dir, 'validacion.shp')\n",
    "merged_original = os.path.join(work_dir,'datos_1.shp')"
   ]
  },
  {
   "cell_type": "code",
   "execution_count": null,
   "id": "7a9f898c",
   "metadata": {
    "ExecuteTime": {
     "end_time": "2021-12-03T15:19:00.091142Z",
     "start_time": "2021-12-03T15:19:00.091132Z"
    }
   },
   "outputs": [],
   "source": [
    "test1 = os.path.join(work_dir,'p2.shp')\n",
    "test1 = geemap.shp_to_ee(test1)\n",
    "Map13.addLayer(test1, {}, 'Áreas de entrenamiento')"
   ]
  },
  {
   "cell_type": "code",
   "execution_count": null,
   "id": "bf7bfdeb",
   "metadata": {
    "ExecuteTime": {
     "end_time": "2021-12-03T15:19:00.091634Z",
     "start_time": "2021-12-03T15:19:00.091627Z"
    }
   },
   "outputs": [],
   "source": [
    "val = geemap.shp_to_ee(val_shp)\n",
    "# Map13.addLayer(val, {}, 'Áreas de Validación')"
   ]
  },
  {
   "cell_type": "code",
   "execution_count": null,
   "id": "3b636946",
   "metadata": {
    "ExecuteTime": {
     "end_time": "2021-12-03T15:19:00.092404Z",
     "start_time": "2021-12-03T15:19:00.092392Z"
    }
   },
   "outputs": [],
   "source": [
    "mergedoriginal = geemap.shp_to_ee(merged_original)\n",
    "# Map13.addLayer( mergedoriginal, {}, 'Áreas de entrenamiento Original')"
   ]
  },
  {
   "cell_type": "code",
   "execution_count": null,
   "id": "85616c66",
   "metadata": {
    "ExecuteTime": {
     "end_time": "2021-12-03T15:19:00.093011Z",
     "start_time": "2021-12-03T15:19:00.093004Z"
    }
   },
   "outputs": [],
   "source": [
    "# img6_m = addNDVI(img6_m)\n",
    "# img6_m = addNDWI(img6_m)\n",
    "# img6_m = addNDGI(img6_m)\n",
    "# img6_m = addSAVI(img6_m)\n",
    "# img6_m = addNDSI(img6_m)\n",
    "# img6_m = addDate(img6_m)\n",
    "# img6_m = addCloud(img6_m)"
   ]
  },
  {
   "cell_type": "code",
   "execution_count": null,
   "id": "7f16c9ef",
   "metadata": {
    "ExecuteTime": {
     "end_time": "2021-12-03T15:19:00.093618Z",
     "start_time": "2021-12-03T15:19:00.093609Z"
    }
   },
   "outputs": [],
   "source": [
    "dataset = img5.sampleRegions(**{\n",
    "    'collection': mergedoriginal,\n",
    "    'properties': ['ID'],\n",
    "    'scale': 30,\n",
    "    'tileScale': 2,\n",
    "})"
   ]
  },
  {
   "cell_type": "code",
   "execution_count": null,
   "id": "19076563",
   "metadata": {
    "ExecuteTime": {
     "end_time": "2021-12-03T15:19:00.094255Z",
     "start_time": "2021-12-03T15:19:00.094248Z"
    }
   },
   "outputs": [],
   "source": [
    "datasetval = img5.sampleRegions(**{\n",
    "    'collection': val,\n",
    "    'properties': ['ID'],\n",
    "    'scale': 30,\n",
    "    'tileScale': 2,\n",
    "})"
   ]
  },
  {
   "cell_type": "code",
   "execution_count": null,
   "id": "0606ca7f",
   "metadata": {
    "ExecuteTime": {
     "end_time": "2021-12-03T15:19:00.094802Z",
     "start_time": "2021-12-03T15:19:00.094793Z"
    }
   },
   "outputs": [],
   "source": [
    "test_data = img5.sampleRegions(**{\n",
    "    'collection': test1,\n",
    "    'properties': ['C_ID'],\n",
    "    'scale': 30,\n",
    "    'tileScale': 2,\n",
    "})"
   ]
  },
  {
   "cell_type": "code",
   "execution_count": null,
   "id": "e81b0970",
   "metadata": {
    "ExecuteTime": {
     "end_time": "2021-12-03T15:19:00.095352Z",
     "start_time": "2021-12-03T15:19:00.095344Z"
    }
   },
   "outputs": [],
   "source": [
    "test_dataval = img5.sampleRegions(**{\n",
    "    'collection': val,\n",
    "    'properties': ['C_ID'],\n",
    "    'scale': 30,\n",
    "    'tileScale': 2,\n",
    "})"
   ]
  },
  {
   "cell_type": "code",
   "execution_count": null,
   "id": "5273b637",
   "metadata": {
    "ExecuteTime": {
     "end_time": "2021-12-03T15:19:00.096211Z",
     "start_time": "2021-12-03T15:19:00.096203Z"
    }
   },
   "outputs": [],
   "source": [
    "datasetMatch = img5_m.sampleRegions(**{\n",
    "    'collection': mergedoriginal,\n",
    "    'properties': ['ID'],\n",
    "    'scale': 30,\n",
    "    'tileScale': 2,\n",
    "})"
   ]
  },
  {
   "cell_type": "code",
   "execution_count": null,
   "id": "e34adb30",
   "metadata": {
    "ExecuteTime": {
     "end_time": "2021-12-03T15:19:00.096705Z",
     "start_time": "2021-12-03T15:19:00.096698Z"
    }
   },
   "outputs": [],
   "source": [
    "datasetvalMatch= img5_m.sampleRegions(**{\n",
    "    'collection': val,\n",
    "    'properties': ['ID'],\n",
    "    'scale': 30,\n",
    "    'tileScale': 2,\n",
    "})"
   ]
  },
  {
   "cell_type": "code",
   "execution_count": null,
   "id": "0be21169",
   "metadata": {
    "ExecuteTime": {
     "end_time": "2021-12-03T15:19:00.097382Z",
     "start_time": "2021-12-03T15:19:00.097373Z"
    }
   },
   "outputs": [],
   "source": [
    "print(test_data.size().getInfo())"
   ]
  },
  {
   "cell_type": "code",
   "execution_count": null,
   "id": "0cdba8cd",
   "metadata": {
    "ExecuteTime": {
     "end_time": "2021-12-03T15:19:00.097987Z",
     "start_time": "2021-12-03T15:19:00.097979Z"
    }
   },
   "outputs": [],
   "source": [
    "print(test_data.first().getInfo())"
   ]
  },
  {
   "cell_type": "code",
   "execution_count": null,
   "id": "5c27d8ab",
   "metadata": {
    "ExecuteTime": {
     "end_time": "2021-12-03T15:19:00.098637Z",
     "start_time": "2021-12-03T15:19:00.098627Z"
    }
   },
   "outputs": [],
   "source": [
    "# print(datasetval.first().getInfo())"
   ]
  },
  {
   "cell_type": "markdown",
   "id": "65efc69f",
   "metadata": {},
   "source": [
    "### Muestras y datos de validación"
   ]
  },
  {
   "cell_type": "code",
   "execution_count": null,
   "id": "9f4082a9",
   "metadata": {
    "ExecuteTime": {
     "end_time": "2021-12-03T15:19:00.099255Z",
     "start_time": "2021-12-03T15:19:00.099247Z"
    }
   },
   "outputs": [],
   "source": [
    "# Guardamos las bandas\n",
    "\n",
    "# Esta propiedad guarda las clases de landcover\n",
    "# label = 'b1'\n",
    "label = 'IDH'\n",
    "label1 = 'ID'\n",
    "labeltest ='C_ID'\n",
    "# Overlay the points on the imagery to get training.\n",
    "# sample = landsat.select(bands).sampleRegions(**{\n",
    "#   'collection': points,\n",
    "#   'properties': [label],\n",
    "#   'scale': 30\n",
    "# })\n",
    "\n",
    "# # Adds a column of deterministic pseudorandom numbers. \n",
    "# sample = sample.randomColumn()\n",
    "\n",
    "# split = 0.7 \n",
    "\n",
    "# training = sample.filter(ee.Filter.lt('random', split))\n",
    "# validation = sample.filter(ee.Filter.gte('random', split))\n",
    "bands = ['B1',\n",
    " 'B2',\n",
    " 'B3',\n",
    " 'B4',\n",
    " 'B5',\n",
    " 'B6',\n",
    " 'B7',\n",
    " 'B8',\n",
    " 'B9',\n",
    " 'B10',\n",
    " 'B11',\n",
    " 'NDVI',\n",
    " 'NDWI',\n",
    " 'NDGI',\n",
    " 'SAVI',\n",
    " 'NDSI',\n",
    "]\n",
    "bands1 = ['B1',\n",
    " 'B2',\n",
    " 'B3',\n",
    " 'B4',\n",
    " 'B5',\n",
    " 'B6',\n",
    " 'B7',\n",
    " 'B8',\n",
    " 'B9',\n",
    " 'B10',\n",
    " 'B11']"
   ]
  },
  {
   "cell_type": "markdown",
   "id": "bb2b3b9b",
   "metadata": {},
   "source": [
    "### Entrenando el modelo"
   ]
  },
  {
   "cell_type": "code",
   "execution_count": null,
   "id": "d2eab14d",
   "metadata": {
    "ExecuteTime": {
     "end_time": "2021-12-03T15:19:00.099878Z",
     "start_time": "2021-12-03T15:19:00.099870Z"
    }
   },
   "outputs": [],
   "source": [
    "classifier = ee.Classifier.smileRandomForest(100).train(dataset, label1, bands)\n",
    "classifierMatch = ee.Classifier.smileRandomForest(100).train(datasetMatch, label1, bands1)\n",
    "classifier_Test = ee.Classifier.smileRandomForest(100).train(test_data,labeltest,bands)"
   ]
  },
  {
   "cell_type": "code",
   "execution_count": null,
   "id": "effbf7b9",
   "metadata": {
    "ExecuteTime": {
     "end_time": "2021-12-03T15:19:00.100604Z",
     "start_time": "2021-12-03T15:19:00.100592Z"
    }
   },
   "outputs": [],
   "source": [
    "result1 = img5.select(bands).classify(classifier)\n",
    "result2_M = img5_m.select(bands1).classify(classifierMatch)\n",
    "result_test = img5.select(bands).classify(classifier_Test)"
   ]
  },
  {
   "cell_type": "markdown",
   "id": "7df7206f",
   "metadata": {},
   "source": [
    "### Categorizando"
   ]
  },
  {
   "cell_type": "code",
   "execution_count": null,
   "id": "a9f7e136",
   "metadata": {
    "ExecuteTime": {
     "end_time": "2021-12-03T15:19:00.101143Z",
     "start_time": "2021-12-03T15:19:00.101135Z"
    }
   },
   "outputs": [],
   "source": [
    "class_values1 = [1,2,3,4,5,6,7,8,9,10,11,12,13,14,15,16,17,18]\n",
    "\n",
    "class_palette1 = ['6bee8c', # 1\n",
    " 'f0ff00',\n",
    " '0c40f1',\n",
    " '685205',\n",
    " '0d4404',\n",
    " 'e82d13',\n",
    " 'f99504',\n",
    " '17d4c6',\n",
    " 'dc07e7',\n",
    " '24ff00',\n",
    " '2de50f',\n",
    " 'ccba7d',\n",
    " 'dec61a',\n",
    " '023208',\n",
    " '03c2ff',\n",
    " '97ad0b',\n",
    " 'a4f8ff',\n",
    " 'c0c233',               \n",
    "]"
   ]
  },
  {
   "cell_type": "code",
   "execution_count": null,
   "id": "5d18bdc9",
   "metadata": {
    "ExecuteTime": {
     "end_time": "2021-12-03T15:19:00.102369Z",
     "start_time": "2021-12-03T15:19:00.102360Z"
    }
   },
   "outputs": [],
   "source": [
    "class_values2 = [1,2,3,4,5,6,7,8,9,10,11,12,13,14,16,19,20,23,31,32,33,34,35,36,39,40]\n",
    "\n",
    "class_palette2 = ['d1fbff', # 1 Hielo\n",
    " 'bfdadd', #2 lengua glaciar\n",
    " 'b9bfbf', #3 glaciar cubierto\n",
    " 'fe40fe', #4 nieve\n",
    " '8ac1ff', #5 fiordo glaciar\n",
    " '0c407b', #6 mar\n",
    " '2e8da0', #7 lago continental\n",
    " '16b2d1', #8 lago glaciar\n",
    " '27e1d8', #9 río\n",
    " 'eeb514', #10 suelo desnudo\n",
    " '927012', #11 cárcavas erosión \n",
    " 'e98c0f', #12 suelo río\n",
    " 'f7e8bd', #13 suelo duna/arenal\n",
    " '5b5b5b', #14 caminos\n",
    " '5d1412', #16 tuberas / musgos\n",
    " '161163', #19 áreas inundables\n",
    " 'd8ff6f', #20 plantación adulto\n",
    " '070707', #23 ciudad urbano \n",
    " 'ced118', #31 estepa abierta\n",
    " '7a7c0f', #32 estepa cerrada\n",
    " 'c39700', #33 palizales\n",
    " 'a1ff8a', #34 preaderas\n",
    " '138665', #35 matorrales densos\n",
    " '1bbd8e', #36 matorrales abiertos\n",
    " '195a09', #39 primario adulto\n",
    " '27c41d' #40 secundario adulto                                 \n",
    "]"
   ]
  },
  {
   "cell_type": "code",
   "execution_count": null,
   "id": "c69dba5b",
   "metadata": {},
   "outputs": [],
   "source": []
  },
  {
   "cell_type": "code",
   "execution_count": null,
   "id": "97b63b26",
   "metadata": {
    "ExecuteTime": {
     "end_time": "2021-12-03T15:19:00.102953Z",
     "start_time": "2021-12-03T15:19:00.102945Z"
    }
   },
   "outputs": [],
   "source": [
    "landcover1 = result1.set('classification_class_values', class_values1)\n",
    "landcover1 = landcover1.set('classification_class_palette', class_palette1)\n"
   ]
  },
  {
   "cell_type": "code",
   "execution_count": null,
   "id": "edeaf69a",
   "metadata": {
    "ExecuteTime": {
     "end_time": "2021-12-03T15:19:00.103571Z",
     "start_time": "2021-12-03T15:19:00.103562Z"
    }
   },
   "outputs": [],
   "source": [
    "landcovertest = result_test.set('classification_class_values', class_values2)\n",
    "landcovertest = landcovertest.set('classification_class_palette',class_palette2)"
   ]
  },
  {
   "cell_type": "code",
   "execution_count": null,
   "id": "54eabf1f",
   "metadata": {
    "ExecuteTime": {
     "end_time": "2021-12-03T15:19:00.104172Z",
     "start_time": "2021-12-03T15:19:00.104165Z"
    }
   },
   "outputs": [],
   "source": [
    "landcoverMatch = result2_M.set('classification_class_values', class_values1)\n",
    "landcoverMatch = landcoverMatch.set('classification_class_palette', class_palette1)"
   ]
  },
  {
   "cell_type": "code",
   "execution_count": null,
   "id": "a1ac673e",
   "metadata": {
    "ExecuteTime": {
     "end_time": "2021-12-03T15:19:00.104809Z",
     "start_time": "2021-12-03T15:19:00.104800Z"
    }
   },
   "outputs": [],
   "source": [
    "# array_landcover1 = landcover1.toArray().toArray(1)\n",
    "# array_landcoverm = landcoverMatch.toArray().toArray(1)"
   ]
  },
  {
   "cell_type": "code",
   "execution_count": null,
   "id": "11e0ee3e",
   "metadata": {
    "ExecuteTime": {
     "end_time": "2021-12-03T15:19:00.105326Z",
     "start_time": "2021-12-03T15:19:00.105319Z"
    }
   },
   "outputs": [],
   "source": [
    "Map14.addLayer(landcovertest,{}, 'Land cover clasificado Random Forest' )"
   ]
  },
  {
   "cell_type": "code",
   "execution_count": null,
   "id": "83059116",
   "metadata": {
    "ExecuteTime": {
     "end_time": "2021-12-03T15:19:00.105957Z",
     "start_time": "2021-12-03T15:19:00.105947Z"
    }
   },
   "outputs": [],
   "source": [
    "# Map14.addLayer(landcoverMatch, {}, 'Land cover clasificado Random Forest Match' )"
   ]
  },
  {
   "cell_type": "code",
   "execution_count": null,
   "id": "882a5f91",
   "metadata": {
    "ExecuteTime": {
     "end_time": "2021-12-03T15:19:00.106615Z",
     "start_time": "2021-12-03T15:19:00.106607Z"
    }
   },
   "outputs": [],
   "source": [
    "type(landcover1)"
   ]
  },
  {
   "cell_type": "code",
   "execution_count": null,
   "id": "8111a0da",
   "metadata": {
    "ExecuteTime": {
     "end_time": "2021-12-03T15:19:00.107069Z",
     "start_time": "2021-12-03T15:19:00.107063Z"
    }
   },
   "outputs": [],
   "source": [
    "\n",
    "# legend_dict = {\n",
    "#     '01 Achaparrado': '6bee8c',\n",
    "#     '02 Agrícola': 'f0ff00',\n",
    "#     '03 Agua': '0c40f1',\n",
    "#     '04 Arenal o Roca': '685205',\n",
    "#     '05 Bosque Degradado': '0d4404',\n",
    "#     '06 Cuncunas': 'e82d13',\n",
    "#     '07 Estepa': 'f99504',\n",
    "#     '08 Humedal': '17d4c6',\n",
    "#     '09 Mallin': 'dc07e7',\n",
    "#     '10 Matorral abierto': '24ff00',\n",
    "#     '11 Matorral denso': '2de50f',\n",
    "#     '12 Plantaciones': 'ccba7d',\n",
    "#     '13 Praderas': 'dec61a',\n",
    "#     '14 Primario': '023208',\n",
    "#     '15 Ríos': '03c2ff',\n",
    "#     '16 Secundario': '97ad0b',\n",
    "#     '17 Glaciar': 'a4f8ff',\n",
    "#     '18 Suelo desnudo': 'c0c233',\n",
    "# }\n",
    "# Map14.add_legend(legend_title=\"Random Forest\", legend_dict=legend_dict)\n",
    "# Map14.addLayer(componentes,vizParamstess, 'Tesseled cap')\n",
    "# Map14"
   ]
  },
  {
   "cell_type": "code",
   "execution_count": null,
   "id": "508b2233",
   "metadata": {
    "ExecuteTime": {
     "end_time": "2021-12-03T15:19:00.107770Z",
     "start_time": "2021-12-03T15:19:00.107761Z"
    }
   },
   "outputs": [],
   "source": [
    "legend_dict = {\n",
    "    '01 Hielo': 'd1fbff',\n",
    "    '02 lengua glaciar': 'bfdadd',\n",
    "    '03 glaciar cubierto': 'b9bfbf',\n",
    "    '04 nieve': 'fe40fe',\n",
    "    '05 fiordo glaciar': '8ac1ff',\n",
    "    '06 mar': '0c407b',\n",
    "    '07 lago continental': '2e8da0',\n",
    "    '08 lago glaciar': '16b2d1',\n",
    "    '09 río': '27e1d8',\n",
    "    '10 suelo desnudo': 'eeb514',\n",
    "    '11 cárcavas erosión': '927012',\n",
    "    '12 suelo río': 'e98c0f',\n",
    "    '13 suelo duna/arenal': 'f7e8bd',\n",
    "    '14 caminos': '5b5b5b',\n",
    "    '16 tuberas / musgos': '5d1412',\n",
    "    '19 áreas inundables':'161163', \n",
    "    '20 plantación adulto': 'd8ff6f',\n",
    "    '23 ciudad urbano': '070707',\n",
    "    '31 estepa abierta': 'ced118',\n",
    "    '32 estepa cerrada': '7a7c0f',\n",
    "    '33 palizales': 'c39700',\n",
    "    '34 preaderas': 'a1ff8a',\n",
    "    '35 matorrales densos': '138665',\n",
    "    '36 matorrales abiertos': '1bbd8e',\n",
    "    '39 primario adulto': '195a09',\n",
    "    '40 secundario adulto': '27c41d',\n",
    "}\n",
    "Map14.addLayer(img5,vizParams, 'Mosaico 2021' )\n",
    "Map14.add_legend(legend_title=\"Random Forest\", legend_dict=legend_dict)\n",
    "Map14.addLayer(componentes,vizParamstess, 'Tesseled cap')\n",
    "Map14"
   ]
  },
  {
   "cell_type": "markdown",
   "id": "e80b449e",
   "metadata": {},
   "source": [
    "### Exportando"
   ]
  },
  {
   "cell_type": "code",
   "execution_count": null,
   "id": "33de305f",
   "metadata": {
    "ExecuteTime": {
     "end_time": "2021-12-03T15:19:00.108347Z",
     "start_time": "2021-12-03T15:19:00.108339Z"
    }
   },
   "outputs": [],
   "source": [
    "partes_1 = os.path.join(work_dir, '1.shp')\n",
    "partes1 = geemap.shp_to_ee(partes_1)\n",
    "\n",
    "partes_2 = os.path.join(work_dir, '2.shp')\n",
    "partes2 = geemap.shp_to_ee(partes_2)\n",
    "\n",
    "partes_3 = os.path.join(work_dir, '3.shp')\n",
    "partes3 = geemap.shp_to_ee(partes_3)\n",
    "\n",
    "partes_4 = os.path.join(work_dir, '4.shp')\n",
    "partes4 = geemap.shp_to_ee(partes_4)\n",
    "\n",
    "partes_5 = os.path.join(work_dir, '5.shp')\n",
    "partes5 = geemap.shp_to_ee(partes_5)\n",
    "\n",
    "partes_6 = os.path.join(work_dir, '6.shp')\n",
    "partes6 = geemap.shp_to_ee(partes_6)\n",
    "\n",
    "partes_7 = os.path.join(work_dir, '7.shp')\n",
    "partes7 = geemap.shp_to_ee(partes_7)\n",
    "\n",
    "partes_8 = os.path.join(work_dir, '8.shp')\n",
    "partes8 = geemap.shp_to_ee(partes_8)"
   ]
  },
  {
   "cell_type": "code",
   "execution_count": null,
   "id": "8114cfea",
   "metadata": {
    "ExecuteTime": {
     "end_time": "2021-12-03T15:19:00.109020Z",
     "start_time": "2021-12-03T15:19:00.109012Z"
    }
   },
   "outputs": [],
   "source": [
    "img5_1 = img5_b.clip(partes1).unmask()\n",
    "img5_2 = img5_b.clip(partes2).unmask()\n",
    "img5_3 = img5_b.clip(partes3).unmask()\n",
    "img5_4 = img5_b.clip(partes4).unmask()\n",
    "img5_5 = img5_b.clip(partes5).unmask()\n",
    "img5_6 = img5_b.clip(partes6).unmask()\n",
    "img5_7 = img5_b.clip(partes7).unmask()\n",
    "img5_8 = img5_b.clip(partes8).unmask()"
   ]
  },
  {
   "cell_type": "code",
   "execution_count": null,
   "id": "ae51d531",
   "metadata": {
    "ExecuteTime": {
     "end_time": "2021-12-03T15:19:00.109476Z",
     "start_time": "2021-12-03T15:19:00.109470Z"
    }
   },
   "outputs": [],
   "source": [
    "# img5_1 = img5_1.reproject(crs='EPSG:32719',scale = 30)\n",
    "# img5_2 = img5_2.reproject(crs='EPSG:32719',scale = 30)\n",
    "# img5_3 = img5_3.reproject(crs='EPSG:32719',scale = 30)\n",
    "# img5_4 = img5_4.reproject(crs='EPSG:32719',scale = 30)\n",
    "# img5_5 = img5_5.reproject(crs='EPSG:32719',scale = 30)\n",
    "# img5_6 = img5_6.reproject(crs='EPSG:32719',scale = 30)\n",
    "# img5_7 = img5_7.reproject(crs='EPSG:32719',scale = 30)\n",
    "# img5_8 = img5_8.reproject(crs='EPSG:32719',scale = 30)"
   ]
  },
  {
   "cell_type": "code",
   "execution_count": null,
   "id": "7925ec43",
   "metadata": {
    "ExecuteTime": {
     "end_time": "2021-12-03T15:19:00.110051Z",
     "start_time": "2021-12-03T15:19:00.110044Z"
    }
   },
   "outputs": [],
   "source": [
    "# img5_B1 = img5.select('B1').clip(partes1).unmask()\n",
    "# img5_B1 = img5.select('B1').clip(partes2).unmask()\n",
    "# img5_B1 = img5.select('B1').clip(partes3).unmask()\n",
    "# img5_B1 = img5.select('B1').clip(partes4).unmask()\n",
    "# img5_B1 = img5.select('B1').clip(partes5).unmask()\n",
    "# img5_B1 = img5.select('B1').clip(partes6).unmask()\n",
    "# img5_B1 = img5.select('B1').clip(partes7).unmask()\n",
    "# img5_B1 = img5.select('B1').clip(partes8).unmask()#coastal aerosol\n",
    "# img5_B2 = img5.select('B2') #Blue\n",
    "img5_B2_p1 = img5.select('B2').clip(partes1).unmask()\n",
    "img5_B2_p2 = img5.select('B2').clip(partes2).unmask()\n",
    "img5_B2_p3 = img5.select('B2').clip(partes3).unmask()\n",
    "img5_B2_p4 = img5.select('B2').clip(partes4).unmask()\n",
    "img5_B2_p5 = img5.select('B2').clip(partes5).unmask()\n",
    "img5_B2_p6 = img5.select('B2').clip(partes6).unmask()\n",
    "img5_B2_p7 = img5.select('B2').clip(partes7).unmask()\n",
    "img5_B2_p8 = img5.select('B2').clip(partes8).unmask()#Blue\n",
    "# img5_B3 = img5.select('B3') #green\n",
    "# img5_B4 = img5.select('B4') #red\n",
    "# img5_B5 = img5.select('B5') #near red\n",
    "# img5_B6 = img5.select('B6') #shortwave infrared 1\n",
    "# img5_B7 = img5.select('B7') #shortwave infrared 2\n",
    "# img5_B8 = img5.select('B8') # panchromatic\n",
    "# img5_B9 = img5.select('B9') #cirrus\n",
    "# img5_B10 = img5.select('B10') #Thermal 1\n",
    "# img5_B11 = img5.select('B11') # Thermal 2\n",
    "# img5_NDVI = img5.select('NDVI') # NDVI\n",
    "# img5_NDWI = img5.select('NDWI') # 'NDWI'\n",
    "# img5_NDGI = img5.select('NDGI') # NDGI\n",
    "# img5_SAVI = img5.select('SAVI') #SAVI\n",
    "# img5_NDSI = img5.select('NDSI') #NDSI\n",
    "# img5_date = img5.select('date') #date\n",
    "# img5_nube = img5.select('nube') #nube"
   ]
  },
  {
   "cell_type": "code",
   "execution_count": null,
   "id": "f61a3d7d",
   "metadata": {
    "ExecuteTime": {
     "end_time": "2021-12-03T15:19:00.110653Z",
     "start_time": "2021-12-03T15:19:00.110644Z"
    }
   },
   "outputs": [],
   "source": [
    "transf=ee.Array([30, 0, 214185, 0, -30, -4825185])"
   ]
  },
  {
   "cell_type": "code",
   "execution_count": null,
   "id": "4c4da7ae",
   "metadata": {
    "ExecuteTime": {
     "end_time": "2021-12-03T15:19:00.111616Z",
     "start_time": "2021-12-03T15:19:00.111603Z"
    }
   },
   "outputs": [],
   "source": [
    "transf.getInfo()"
   ]
  },
  {
   "cell_type": "code",
   "execution_count": null,
   "id": "a27fe7ba",
   "metadata": {
    "ExecuteTime": {
     "end_time": "2021-12-03T15:19:00.112262Z",
     "start_time": "2021-12-03T15:19:00.112252Z"
    }
   },
   "outputs": [],
   "source": [
    "task2_1 = ee.batch.Export.image.toDrive(**{\n",
    "    'image': img5_B2_p1,\n",
    "    'description':'B2_1',\n",
    "    'folder':'exp2021_19s_B',\n",
    "    'region': partes1.geometry(),\n",
    "    'scale':30,\n",
    "    'crsTransform':[30, 0, 214185, 0, -30, -4825185], \n",
    "    'crs':'EPSG:32719',\n",
    "    'maxPixels':1e13\n",
    "})\n",
    "task2_2 = ee.batch.Export.image.toDrive(**{\n",
    "    'image': img5_B2_p2,\n",
    "    'description':'B2_2',\n",
    "    'folder':'exp2021_19s_B',\n",
    "    'region': partes2.geometry(),\n",
    "    'scale':30,\n",
    "    'crsTransform':[30, 0, 214185, 0, -30, -4825185], \n",
    "    'crs':'EPSG:32719',\n",
    "    'maxPixels':1e13\n",
    "})\n",
    "task2_3 = ee.batch.Export.image.toDrive(**{\n",
    "    'image': img5_B2_p3,\n",
    "    'description':'B2_3',\n",
    "    'folder':'exp2021_19s_B',\n",
    "    'region': partes3.geometry(),\n",
    "    'scale':30,\n",
    "    'crsTransform':[30, 0, 214185, 0, -30, -4825185], \n",
    "    'crs':'EPSG:32719',\n",
    "    'maxPixels':1e13\n",
    "})\n",
    "task2_4 = ee.batch.Export.image.toDrive(**{\n",
    "    'image': img5_B2_p4,\n",
    "    'description':'B2_4',\n",
    "    'folder':'exp2021_19s_B',\n",
    "    'region': partes4.geometry(),\n",
    "    'scale':30,\n",
    "    'crsTransform':[30, 0, 214185, 0, -30, -4825185], \n",
    "    'crs':'EPSG:32719',\n",
    "    'maxPixels':1e13\n",
    "})\n",
    "task2_5 = ee.batch.Export.image.toDrive(**{\n",
    "    'image': img5_B2_p5,\n",
    "    'description':'B2_5',\n",
    "    'folder':'exp2021_19s_B',\n",
    "    'region': partes5.geometry(),\n",
    "    'scale':30,\n",
    "    'crsTransform':[30, 0, 214185, 0, -30, -4825185], \n",
    "    'crs':'EPSG:32719',\n",
    "    'maxPixels':1e13\n",
    "})\n",
    "task2_6 = ee.batch.Export.image.toDrive(**{\n",
    "    'image': img5_B2_p6,\n",
    "    'description':'B2_6',\n",
    "    'folder':'exp2021_19s_B',\n",
    "    'region': partes6.geometry(),\n",
    "    'scale':30,\n",
    "    'crsTransform':[30, 0, 214185, 0, -30, -4825185], \n",
    "    'crs':'EPSG:32719',\n",
    "    'maxPixels':1e13\n",
    "})\n",
    "task2_7 = ee.batch.Export.image.toDrive(**{\n",
    "    'image': img5_B2_p7,\n",
    "    'description':'B2_7',\n",
    "    'folder':'exp2021_19s_B',\n",
    "    'region': partes7.geometry(),\n",
    "    'scale':30,\n",
    "    'crsTransform':[30, 0, 214185, 0, -30, -4825185], \n",
    "    'crs':'EPSG:32719',\n",
    "    'maxPixels':1e13\n",
    "})\n",
    "task2_8 = ee.batch.Export.image.toDrive(**{\n",
    "    'image': img5_B2_p8,\n",
    "    'description':'B2_8',\n",
    "    'folder':'exp2021_19s_B',\n",
    "    'region': partes8.geometry(),\n",
    "    'scale':30,\n",
    "    'crsTransform':[30, 0, 214185, 0, -30, -4825185], \n",
    "    'crs':'EPSG:32719',\n",
    "    'maxPixels':1e13\n",
    "})\n"
   ]
  },
  {
   "cell_type": "code",
   "execution_count": null,
   "id": "40883640",
   "metadata": {
    "ExecuteTime": {
     "end_time": "2021-12-03T15:19:00.112905Z",
     "start_time": "2021-12-03T15:19:00.112897Z"
    }
   },
   "outputs": [],
   "source": [
    "# task2_1.start()\n",
    "# task2_2.start()\n",
    "# task2_3.start()\n",
    "# task2_4.start()\n",
    "# task2_5.start()\n",
    "# task2_6.start()\n",
    "# task2_7.start()\n",
    "# task2_8.start()"
   ]
  },
  {
   "cell_type": "code",
   "execution_count": null,
   "id": "cceda41f",
   "metadata": {
    "ExecuteTime": {
     "end_time": "2021-12-03T15:19:00.113516Z",
     "start_time": "2021-12-03T15:19:00.113507Z"
    }
   },
   "outputs": [],
   "source": [
    "img5_B1 = img5.select(\"B1\")\n",
    "img5_B2 = img5.select(\"B2\")\n",
    "img5_B3 = img5.select(\"B3\")\n",
    "img5_B4 = img5.select(\"B4\")\n",
    "img5_B5 = img5.select(\"B5\")\n",
    "img5_B6 = img5.select(\"B6\")\n",
    "img5_B7 = img5.select(\"B7\")"
   ]
  },
  {
   "cell_type": "code",
   "execution_count": null,
   "id": "5bf824d7",
   "metadata": {
    "ExecuteTime": {
     "end_time": "2021-12-03T15:19:00.114127Z",
     "start_time": "2021-12-03T15:19:00.114119Z"
    }
   },
   "outputs": [],
   "source": [
    "task1 = ee.batch.Export.image.toDrive(**{\n",
    "    'image': img5_B1,\n",
    "    'description':'B1',\n",
    "    'folder':'exp2021_19s_full',\n",
    "    'region': geometry_exp.bounds(),\n",
    "    'scale':30,\n",
    "    'crsTransform':[30, 0, 214185, 0, -30, -4825185], \n",
    "    'crs':'EPSG:32719',\n",
    "    'maxPixels':1e13\n",
    "})\n",
    "task2 = ee.batch.Export.image.toDrive(**{\n",
    "    'image': img5_B2,\n",
    "    'description':'B2',\n",
    "    'folder':'exp2021_19s_full',\n",
    "    'region': geometry_exp.bounds(),\n",
    "    'scale':30,\n",
    "    'crsTransform':[30, 0, 214185, 0, -30, -4825185], \n",
    "    'crs':'EPSG:32719',\n",
    "    'maxPixels':1e13\n",
    "})\n",
    "task3 = ee.batch.Export.image.toDrive(**{\n",
    "    'image': img5_B3,\n",
    "    'description':'B3',\n",
    "    'folder':'exp2021_19s_full',\n",
    "    'region': geometry_exp.bounds(),\n",
    "    'scale':30,\n",
    "    'crsTransform':[30, 0, 214185, 0, -30, -4825185], \n",
    "    'crs':'EPSG:32719',\n",
    "    'maxPixels':1e13\n",
    "})\n",
    "task4 = ee.batch.Export.image.toDrive(**{\n",
    "    'image': img5_B4,\n",
    "    'description':'B4',\n",
    "    'folder':'exp2021_19s_full',\n",
    "    'region': geometry_exp.bounds(),\n",
    "    'scale':30,\n",
    "    'crsTransform':[30, 0, 214185, 0, -30, -4825185], \n",
    "    'crs':'EPSG:32719',\n",
    "    'maxPixels':1e13\n",
    "})\n",
    "task5 = ee.batch.Export.image.toDrive(**{\n",
    "    'image': img5_B5,\n",
    "    'description':'B5',\n",
    "    'folder':'exp2021_19s_full',\n",
    "    'region': geometry_exp.bounds(),\n",
    "    'scale':30,\n",
    "    'crsTransform':[30, 0, 214185, 0, -30, -4825185], \n",
    "    'crs':'EPSG:32719',\n",
    "    'maxPixels':1e13\n",
    "})\n",
    "task6 = ee.batch.Export.image.toDrive(**{\n",
    "    'image': img5_B6,\n",
    "    'description':'B6',\n",
    "    'folder':'exp2021_19s_full',\n",
    "    'region': geometry_exp.bounds(),\n",
    "    'scale':30,\n",
    "    'crsTransform':[30, 0, 214185, 0, -30, -4825185], \n",
    "    'crs':'EPSG:32719',\n",
    "    'maxPixels':1e13\n",
    "})\n",
    "task7 = ee.batch.Export.image.toDrive(**{\n",
    "    'image': img5_B7,\n",
    "    'description':'B7',\n",
    "    'folder':'exp2021_19s_full',\n",
    "    'region': geometry_exp.bounds(),\n",
    "    'scale':30,\n",
    "    'crsTransform':[30, 0, 214185, 0, -30, -4825185], \n",
    "    'crs':'EPSG:32719',\n",
    "    'maxPixels':1e13\n",
    "})"
   ]
  },
  {
   "cell_type": "code",
   "execution_count": null,
   "id": "dfee8042",
   "metadata": {
    "ExecuteTime": {
     "end_time": "2021-12-03T15:19:00.114745Z",
     "start_time": "2021-12-03T15:19:00.114734Z"
    }
   },
   "outputs": [],
   "source": [
    "# task1.start()\n",
    "# task2.start()\n",
    "# task3.start()\n",
    "# task4.start()\n",
    "# task5.start()\n",
    "# task6.start()\n",
    "# task7.start()"
   ]
  },
  {
   "cell_type": "code",
   "execution_count": null,
   "id": "0633aa27",
   "metadata": {
    "ExecuteTime": {
     "end_time": "2021-12-03T15:19:00.115365Z",
     "start_time": "2021-12-03T15:19:00.115357Z"
    }
   },
   "outputs": [],
   "source": [
    "brillo = componentes.select('brightness')\n",
    "greenness = componentes.select('greenness')\n",
    "wetness = componentes.select('wetness')\n",
    "# ['brightness','greenness','wetness','fourth','fifth','sixth']"
   ]
  },
  {
   "cell_type": "code",
   "execution_count": null,
   "id": "5cc31766",
   "metadata": {
    "ExecuteTime": {
     "end_time": "2021-12-03T15:19:00.115986Z",
     "start_time": "2021-12-03T15:19:00.115978Z"
    }
   },
   "outputs": [],
   "source": [
    "task8 = ee.batch.Export.image.toDrive(**{\n",
    "    'image': brillo,\n",
    "    'description':'brillo',\n",
    "    'folder':'exp2021_19s_full',\n",
    "    'region': geometry_exp.bounds(),\n",
    "    'scale':30,\n",
    "    'crsTransform':[30, 0, 214185, 0, -30, -4825185], \n",
    "    'crs':'EPSG:32719',\n",
    "    'maxPixels':1e13\n",
    "})\n",
    "task9 = ee.batch.Export.image.toDrive(**{\n",
    "    'image': greenness,\n",
    "    'description':'greenness',\n",
    "    'folder':'exp2021_19s_full',\n",
    "    'region': geometry_exp.bounds(),\n",
    "    'scale':30,\n",
    "    'crsTransform':[30, 0, 214185, 0, -30, -4825185], \n",
    "    'crs':'EPSG:32719',\n",
    "    'maxPixels':1e13\n",
    "})\n",
    "task10 = ee.batch.Export.image.toDrive(**{\n",
    "    'image': wetness,\n",
    "    'description':'wetness',\n",
    "    'folder':'exp2021_19s_full',\n",
    "    'region': geometry_exp.bounds(),\n",
    "    'scale':30,\n",
    "    'crsTransform':[30, 0, 214185, 0, -30, -4825185], \n",
    "    'crs':'EPSG:32719',\n",
    "    'maxPixels':1e13\n",
    "})"
   ]
  },
  {
   "cell_type": "code",
   "execution_count": null,
   "id": "056a7102",
   "metadata": {
    "ExecuteTime": {
     "end_time": "2021-12-03T15:19:00.116434Z",
     "start_time": "2021-12-03T15:19:00.116427Z"
    }
   },
   "outputs": [],
   "source": [
    "# task8.start()\n",
    "# task9.start()\n",
    "# task10.start()"
   ]
  }
 ],
 "metadata": {
  "kernelspec": {
   "display_name": "Python 3 (ipykernel)",
   "language": "python",
   "name": "python3"
  },
  "language_info": {
   "codemirror_mode": {
    "name": "ipython",
    "version": 3
   },
   "file_extension": ".py",
   "mimetype": "text/x-python",
   "name": "python",
   "nbconvert_exporter": "python",
   "pygments_lexer": "ipython3",
   "version": "3.8.12"
  },
  "toc": {
   "base_numbering": 1,
   "nav_menu": {},
   "number_sections": true,
   "sideBar": true,
   "skip_h1_title": false,
   "title_cell": "Table of Contents",
   "title_sidebar": "Contents",
   "toc_cell": false,
   "toc_position": {
    "height": "calc(100% - 180px)",
    "left": "10px",
    "top": "150px",
    "width": "384px"
   },
   "toc_section_display": true,
   "toc_window_display": true
  },
  "varInspector": {
   "cols": {
    "lenName": 16,
    "lenType": 16,
    "lenVar": 40
   },
   "kernels_config": {
    "python": {
     "delete_cmd_postfix": "",
     "delete_cmd_prefix": "del ",
     "library": "var_list.py",
     "varRefreshCmd": "print(var_dic_list())"
    },
    "r": {
     "delete_cmd_postfix": ") ",
     "delete_cmd_prefix": "rm(",
     "library": "var_list.r",
     "varRefreshCmd": "cat(var_dic_list()) "
    }
   },
   "types_to_exclude": [
    "module",
    "function",
    "builtin_function_or_method",
    "instance",
    "_Feature"
   ],
   "window_display": false
  }
 },
 "nbformat": 4,
 "nbformat_minor": 5
}
