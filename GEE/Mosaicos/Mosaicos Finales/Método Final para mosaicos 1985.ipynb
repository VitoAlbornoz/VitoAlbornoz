{
 "cells": [
  {
   "cell_type": "markdown",
   "id": "c8ee7fef",
   "metadata": {},
   "source": [
    "# Mosaico 1985"
   ]
  },
  {
   "cell_type": "markdown",
   "id": "203f76ca",
   "metadata": {},
   "source": [
    "Script trabajado por Francisco Albornoz (2021-04-13) / Última modificación / Mosaicos Patagonia"
   ]
  },
  {
   "cell_type": "markdown",
   "id": "2fb5cdeb",
   "metadata": {},
   "source": [
    "2021-08-05 13:07:09 "
   ]
  },
  {
   "cell_type": "code",
   "execution_count": 1,
   "id": "3057c761",
   "metadata": {},
   "outputs": [],
   "source": [
    "import ee\n",
    "import geemap\n",
    "import geemap.chart as chart\n",
    "import os\n",
    "import folium"
   ]
  },
  {
   "cell_type": "markdown",
   "id": "1997eeb4",
   "metadata": {},
   "source": [
    "<img src=https://www.ecopaysen.cl/wp-content/uploads/2019/12/ecopaysen_marca_web.png>"
   ]
  },
  {
   "cell_type": "code",
   "execution_count": 2,
   "id": "fca49a56",
   "metadata": {},
   "outputs": [],
   "source": [
    "Map = geemap.Map(center = [-45, -70], zoom = 4)\n",
    "Map2 = geemap.Map(center = [-45, -70], zoom = 4)\n",
    "Map3 = geemap.Map(center = [-45, -70], zoom = 4)\n",
    "Map4 = geemap.Map(center = [-45, -70], zoom = 4)\n",
    "Map5 = geemap.Map(center = [-45, -70], zoom = 4)\n",
    "Map6 = geemap.Map(center = [-45, -70], zoom = 4)\n",
    "Map7 = geemap.Map(center = [-45, -70], zoom = 4)\n",
    "Map8 = geemap.Map(center = [-45, -70], zoom = 4)\n",
    "Map9 = geemap.Map(center = [-45, -70], zoom = 4)\n",
    "Map10 = geemap.Map(center = [-45, -70], zoom = 4)"
   ]
  },
  {
   "cell_type": "markdown",
   "id": "f26fe1a2",
   "metadata": {},
   "source": [
    "## Área de Estudio"
   ]
  },
  {
   "cell_type": "code",
   "execution_count": 3,
   "id": "2aae613d",
   "metadata": {},
   "outputs": [],
   "source": [
    "work_dir = os.path.expanduser('../../../Data/shapes/')\n",
    "patagonia = os.path.join(work_dir, 'patagonia_nueva.shp')\n",
    "patagonia_grande = geemap.shp_to_ee(patagonia)"
   ]
  },
  {
   "cell_type": "markdown",
   "id": "fa8e2fea",
   "metadata": {},
   "source": [
    "## Colors Bars"
   ]
  },
  {
   "cell_type": "code",
   "execution_count": 4,
   "id": "1efebd11",
   "metadata": {},
   "outputs": [],
   "source": [
    "import geemap.colormaps as cm"
   ]
  },
  {
   "cell_type": "code",
   "execution_count": 5,
   "id": "d159d70f",
   "metadata": {},
   "outputs": [],
   "source": [
    "# cm.palettes.terrain"
   ]
  },
  {
   "cell_type": "code",
   "execution_count": 6,
   "id": "fe999a91",
   "metadata": {},
   "outputs": [],
   "source": [
    "color_ndvi = cm.palettes.ndvi"
   ]
  },
  {
   "cell_type": "code",
   "execution_count": 7,
   "id": "05fb282a",
   "metadata": {},
   "outputs": [],
   "source": [
    "color_ndwi = cm.palettes.ndwi"
   ]
  },
  {
   "cell_type": "code",
   "execution_count": 8,
   "id": "68161910",
   "metadata": {},
   "outputs": [],
   "source": [
    "color_terrain = cm.palettes.terrain"
   ]
  },
  {
   "cell_type": "code",
   "execution_count": 9,
   "id": "8e99245f",
   "metadata": {},
   "outputs": [],
   "source": [
    "color_glaciar = cm.palettes.PuBuGn_r"
   ]
  },
  {
   "cell_type": "code",
   "execution_count": 10,
   "id": "92b8cf41",
   "metadata": {},
   "outputs": [],
   "source": [
    "color_nubes = cm.palettes.inferno"
   ]
  },
  {
   "cell_type": "code",
   "execution_count": 11,
   "id": "39930741",
   "metadata": {},
   "outputs": [],
   "source": [
    "# cm.list_colormaps()"
   ]
  },
  {
   "cell_type": "code",
   "execution_count": 12,
   "id": "0ce61cbe",
   "metadata": {},
   "outputs": [],
   "source": [
    "# cm.plot_colormaps(width=12, height=0.4)"
   ]
  },
  {
   "cell_type": "markdown",
   "id": "11666045",
   "metadata": {},
   "source": [
    "## Funciones"
   ]
  },
  {
   "cell_type": "code",
   "execution_count": 13,
   "id": "166db170",
   "metadata": {},
   "outputs": [],
   "source": [
    "def add_ee_layer(self, ee_image_object, vis_params, name):\n",
    "  map_id_dict = ee.Image(ee_image_object).getMapId(vis_params)\n",
    "  folium.raster_layers.TileLayer(\n",
    "      tiles=map_id_dict['tile_fetcher'].url_format,\n",
    "      attr='Map Data &copy; <a href=\"https://earthengine.google.com/\">Google Earth Engine</a>',\n",
    "      name=name,\n",
    "      overlay=True,\n",
    "      control=True\n",
    "  ).add_to(self)\n",
    "\n",
    "folium.Map.add_ee_layer = add_ee_layer"
   ]
  },
  {
   "cell_type": "code",
   "execution_count": 14,
   "id": "b9e1cdaf",
   "metadata": {},
   "outputs": [],
   "source": [
    "def addNDVI(image): \n",
    "    ndvi = image.normalizedDifference(['B4', 'B3']).rename('B11')\n",
    "    return image.addBands(ndvi)"
   ]
  },
  {
   "cell_type": "code",
   "execution_count": 15,
   "id": "ad105a37",
   "metadata": {},
   "outputs": [],
   "source": [
    "def addNDWI(image):\n",
    "    ndwi = image.normalizedDifference(['B2','B4']).rename('NDWI')\n",
    "    return image.addBands(ndwi)"
   ]
  },
  {
   "cell_type": "code",
   "execution_count": 16,
   "id": "afd5a921",
   "metadata": {},
   "outputs": [],
   "source": [
    "def addNDGI(image):\n",
    "    ndgi = image.normalizedDifference(['B2','B3']).rename('NDGI')\n",
    "    return image.addBands(ndgi)"
   ]
  },
  {
   "cell_type": "code",
   "execution_count": 17,
   "id": "786770f8",
   "metadata": {},
   "outputs": [],
   "source": [
    "def addSAVI(image):\n",
    "    savi = image.expression(\n",
    "        '((b4 - b3)/(b4 + b3 + 0.5))*1.5', {\n",
    "            'b3':image.select('B3'),\n",
    "            'b4':image.select('B4')\n",
    "        }) \n",
    "    savi= savi.rename('SAVI')\n",
    "    return image.addBands(savi)"
   ]
  },
  {
   "cell_type": "code",
   "execution_count": 18,
   "id": "cffb72aa",
   "metadata": {},
   "outputs": [],
   "source": [
    "def addNDSI(image):\n",
    "    ndsi = image.normalizedDifference(['B2','B5']).rename('NDSI')\n",
    "    return image.addBands(ndsi)"
   ]
  },
  {
   "cell_type": "code",
   "execution_count": 19,
   "id": "4889cabe",
   "metadata": {},
   "outputs": [],
   "source": [
    "def addDate(image):\n",
    "    img_date = ee.Date(image.date())\n",
    "    img_date = ee.Number.parse(img_date.format('YYYYMM'))\n",
    "    return image.addBands(ee.Image(img_date).rename('date').toInt())"
   ]
  },
  {
   "cell_type": "code",
   "execution_count": 20,
   "id": "3115c210",
   "metadata": {},
   "outputs": [],
   "source": [
    "def Cloud30(image):\n",
    "    scored = ee.Algorithms.Landsat.simpleCloudScore(image)\n",
    "    return image.updateMask(scored.select(['cloud']).lt(30)) "
   ]
  },
  {
   "cell_type": "code",
   "execution_count": 21,
   "id": "f86cf507",
   "metadata": {},
   "outputs": [],
   "source": [
    "def Cloud20(image):\n",
    "    scored = ee.Algorithms.Landsat.simpleCloudScore(image)\n",
    "    return image.updateMask(scored.select(['cloud']).lt(20)) "
   ]
  },
  {
   "cell_type": "code",
   "execution_count": 22,
   "id": "9d288b40",
   "metadata": {},
   "outputs": [],
   "source": [
    "def Cloud10(image):\n",
    "    scored = ee.Algorithms.Landsat.simpleCloudScore(image)\n",
    "    return image.updateMask(scored.select(['cloud']).lt(10))"
   ]
  },
  {
   "cell_type": "code",
   "execution_count": 23,
   "id": "92d6ba1b",
   "metadata": {},
   "outputs": [],
   "source": [
    "def addCloud(image):\n",
    "    nube = ee.Algorithms.Landsat.simpleCloudScore(image)\n",
    "    return image.addBands(ee.Image(nube.select(['cloud'])).rename('nube'))"
   ]
  },
  {
   "cell_type": "markdown",
   "id": "d9a442fb",
   "metadata": {},
   "source": [
    "## Colecciones"
   ]
  },
  {
   "cell_type": "markdown",
   "id": "93d1b620",
   "metadata": {},
   "source": [
    "### 1985"
   ]
  },
  {
   "cell_type": "code",
   "execution_count": 24,
   "id": "846c60d4",
   "metadata": {},
   "outputs": [],
   "source": [
    "start_date = '1984-10-01'\n",
    "end_date = '1985-03-31'\n",
    "\n",
    "l5_1985 = ee.ImageCollection('LANDSAT/LT05/C01/T1_TOA') \\\n",
    "    .filterBounds(patagonia_grande) \\\n",
    "    .filterDate(start_date, end_date)"
   ]
  },
  {
   "cell_type": "code",
   "execution_count": 25,
   "id": "ee974e97",
   "metadata": {},
   "outputs": [],
   "source": [
    "vizParams = {\n",
    "  'bands': ['B4', 'B3', 'B2'],\n",
    "  'min': 0,\n",
    "  'max': 0.5,\n",
    "  'gamma': [0.95, 1.1, 1]\n",
    "}"
   ]
  },
  {
   "cell_type": "code",
   "execution_count": 26,
   "id": "215db372",
   "metadata": {},
   "outputs": [],
   "source": [
    "vis_nieve = {\n",
    "  'bands': ['B5', 'B3', 'B2'],\n",
    "  'min': 0,\n",
    "  'max': 0.5,\n",
    "  'gamma': [0.95, 1.1, 1]\n",
    "}"
   ]
  },
  {
   "cell_type": "code",
   "execution_count": 27,
   "id": "d2d69a69",
   "metadata": {},
   "outputs": [],
   "source": [
    "coleccion1985 = l5_1985.map(addNDVI).map(addNDWI).map(addNDGI).map(addSAVI).map(addNDSI).map(addDate).map(addCloud)"
   ]
  },
  {
   "cell_type": "code",
   "execution_count": 28,
   "id": "787bf341",
   "metadata": {},
   "outputs": [],
   "source": [
    "QM_NDVI_1985 = coleccion1985.qualityMosaic('B11') # Normalized difference vegetation Index\n",
    "QM_NDWI_1985 = coleccion1985.qualityMosaic('NDWI') # Normalize difference water index\n",
    "QM_SAVI_1985 = coleccion1985.qualityMosaic('SAVI') # Soil Adjusted Vegetation Index \n",
    "QM_NDGI_1985 = coleccion1985.qualityMosaic('NDGI') # Normalized difference glacier index\n",
    "QM_NDSI_1985 = coleccion1985.qualityMosaic('NDSI') # Normalized difference snow index"
   ]
  },
  {
   "cell_type": "code",
   "execution_count": 29,
   "id": "f6d3a89c",
   "metadata": {},
   "outputs": [
    {
     "data": {
      "application/vnd.jupyter.widget-view+json": {
       "model_id": "55028048302442f786b81b1868c9ffdc",
       "version_major": 2,
       "version_minor": 0
      },
      "text/plain": [
       "Map(center=[-45, -70], controls=(WidgetControl(options=['position', 'transparent_bg'], widget=HBox(children=(T…"
      ]
     },
     "metadata": {},
     "output_type": "display_data"
    }
   ],
   "source": [
    "Map.addLayer(QM_NDVI_1985, vizParams, 'QM de NDVI 1985')\n",
    "Map.addLayer(QM_NDWI_1985, vizParams, 'QM de NDWI 1985')\n",
    "Map.addLayer(QM_SAVI_1985, vizParams, 'QM de SAVI 1985')\n",
    "Map.addLayer(QM_NDGI_1985, vis_nieve, 'QM de NDGI 1985')\n",
    "Map.addLayer(QM_NDSI_1985, vis_nieve, 'QM de NDSI 1985')\n",
    "Map "
   ]
  },
  {
   "cell_type": "code",
   "execution_count": 30,
   "id": "3e82cc9a",
   "metadata": {},
   "outputs": [],
   "source": [
    "c1985_sn = coleccion1985.map(Cloud20)\n",
    "NDVI_1985_sn = c1985_sn.qualityMosaic('B11')\n",
    "NDWI_1985_sn = c1985_sn.qualityMosaic('NDWI')\n",
    "SAVI_1985_sn = c1985_sn.qualityMosaic('SAVI')\n",
    "NDGI_1985_sn = c1985_sn.qualityMosaic('NDGI')\n",
    "NDSI_1985_sn = c1985_sn.qualityMosaic('NDSI')"
   ]
  },
  {
   "cell_type": "code",
   "execution_count": 31,
   "id": "c6117665",
   "metadata": {},
   "outputs": [],
   "source": [
    "Map2.addLayer(NDVI_1985_sn, vizParams, 'QMsn de NDVI 1985')\n",
    "Map2.addLayer(NDWI_1985_sn, vizParams, 'QMsn de NDWI 1985')\n",
    "Map2.addLayer(SAVI_1985_sn, vizParams, 'QMsn de SAVI 1985')\n",
    "Map2.addLayer(NDGI_1985_sn, vis_nieve, 'QMsn de NDGI 1985')\n",
    "Map2.addLayer(NDSI_1985_sn, vis_nieve, 'QMsn de NDSI 1985')\n",
    "# Map2"
   ]
  },
  {
   "cell_type": "markdown",
   "id": "ccec25b0",
   "metadata": {},
   "source": [
    "### 1986"
   ]
  },
  {
   "cell_type": "code",
   "execution_count": 32,
   "id": "ef53f13a",
   "metadata": {},
   "outputs": [],
   "source": [
    "start_date = '1985-10-01'\n",
    "end_date = '1986-03-31'\n",
    "\n",
    "l5_1986 = ee.ImageCollection('LANDSAT/LT05/C01/T1_TOA') \\\n",
    "    .filterBounds(patagonia_grande) \\\n",
    "    .filterDate(start_date, end_date)"
   ]
  },
  {
   "cell_type": "code",
   "execution_count": 33,
   "id": "06a293d6",
   "metadata": {},
   "outputs": [],
   "source": [
    "coleccion1986 = l5_1986.map(addNDVI).map(addNDWI).map(addNDGI).map(addSAVI).map(addNDSI).map(addDate).map(addCloud)"
   ]
  },
  {
   "cell_type": "code",
   "execution_count": 34,
   "id": "f724bb1b",
   "metadata": {},
   "outputs": [],
   "source": [
    "QM_NDVI_1986 = coleccion1986.qualityMosaic('B11') # Normalized difference vegetation Index\n",
    "QM_NDWI_1986 = coleccion1986.qualityMosaic('NDWI') # Normalize difference water index\n",
    "QM_SAVI_1986 = coleccion1986.qualityMosaic('SAVI') # Soil Adjusted Vegetation Index \n",
    "QM_NDGI_1986 = coleccion1986.qualityMosaic('NDGI') # Normalized difference glacier index\n",
    "QM_NDSI_1986 = coleccion1986.qualityMosaic('NDSI') # Normalized difference snow index"
   ]
  },
  {
   "cell_type": "code",
   "execution_count": 35,
   "id": "6c001bbc",
   "metadata": {},
   "outputs": [
    {
     "data": {
      "application/vnd.jupyter.widget-view+json": {
       "model_id": "55028048302442f786b81b1868c9ffdc",
       "version_major": 2,
       "version_minor": 0
      },
      "text/plain": [
       "Map(center=[-45, -70], controls=(WidgetControl(options=['position', 'transparent_bg'], widget=HBox(children=(T…"
      ]
     },
     "metadata": {},
     "output_type": "display_data"
    }
   ],
   "source": [
    "Map.addLayer(QM_NDVI_1986, vizParams, 'QM de NDVI 1986')\n",
    "Map.addLayer(QM_NDWI_1986, vizParams, 'QM de NDWI 1986')\n",
    "Map.addLayer(QM_SAVI_1986, vizParams, 'QM de SAVI 1986')\n",
    "Map.addLayer(QM_NDGI_1986, vis_nieve, 'QM de NDGI 1986')\n",
    "Map.addLayer(QM_NDSI_1986, vis_nieve, 'QM de NDSI 1986')\n",
    "Map "
   ]
  },
  {
   "cell_type": "code",
   "execution_count": 36,
   "id": "06eebe04",
   "metadata": {},
   "outputs": [],
   "source": [
    "c1986_sn = coleccion1986.map(Cloud20)\n",
    "NDVI_1986_sn = c1986_sn.qualityMosaic('B11')\n",
    "NDWI_1986_sn = c1986_sn.qualityMosaic('NDWI')\n",
    "SAVI_1986_sn = c1986_sn.qualityMosaic('SAVI')\n",
    "NDGI_1986_sn = c1986_sn.qualityMosaic('NDGI')\n",
    "NDSI_1986_sn = c1986_sn.qualityMosaic('NDSI')"
   ]
  },
  {
   "cell_type": "code",
   "execution_count": 37,
   "id": "7121bf75",
   "metadata": {},
   "outputs": [],
   "source": [
    "Map2.addLayer(NDVI_1986_sn, vizParams, 'QMsn de NDVI 1986')\n",
    "Map2.addLayer(NDWI_1986_sn, vizParams, 'QMsn de NDWI 1986')\n",
    "Map2.addLayer(SAVI_1986_sn, vizParams, 'QMsn de SAVI 1986')\n",
    "Map2.addLayer(NDGI_1986_sn, vis_nieve, 'QMsn de NDGI 1986')\n",
    "Map2.addLayer(NDSI_1986_sn, vis_nieve, 'QMsn de NDSI 1986')\n",
    "# Map2"
   ]
  },
  {
   "cell_type": "markdown",
   "id": "b1fff37f",
   "metadata": {},
   "source": [
    "### 1987"
   ]
  },
  {
   "cell_type": "code",
   "execution_count": 38,
   "id": "ed8a2ed2",
   "metadata": {},
   "outputs": [],
   "source": [
    "start_date = '1986-10-01'\n",
    "end_date = '1987-03-31'\n",
    "\n",
    "l5_1987 = ee.ImageCollection('LANDSAT/LT05/C01/T1_TOA') \\\n",
    "    .filterBounds(patagonia_grande) \\\n",
    "    .filterDate(start_date, end_date)"
   ]
  },
  {
   "cell_type": "code",
   "execution_count": 39,
   "id": "ac158dd0",
   "metadata": {},
   "outputs": [],
   "source": [
    "coleccion1987 = l5_1987.map(addNDVI).map(addNDWI).map(addNDGI).map(addSAVI).map(addNDSI).map(addDate).map(addCloud)"
   ]
  },
  {
   "cell_type": "code",
   "execution_count": 40,
   "id": "531b33cd",
   "metadata": {},
   "outputs": [],
   "source": [
    "QM_NDVI_1987 = coleccion1987.qualityMosaic('B11') # Normalized difference vegetation Index\n",
    "QM_NDWI_1987 = coleccion1987.qualityMosaic('NDWI') # Normalize difference water index\n",
    "QM_SAVI_1987 = coleccion1987.qualityMosaic('SAVI') # Soil Adjusted Vegetation Index \n",
    "QM_NDGI_1987 = coleccion1987.qualityMosaic('NDGI') # Normalized difference glacier index\n",
    "QM_NDSI_1987 = coleccion1987.qualityMosaic('NDSI') # Normalized difference snow index"
   ]
  },
  {
   "cell_type": "code",
   "execution_count": 41,
   "id": "22b9a628",
   "metadata": {},
   "outputs": [
    {
     "data": {
      "application/vnd.jupyter.widget-view+json": {
       "model_id": "14d4eba6f2564441b601e08ae798db5f",
       "version_major": 2,
       "version_minor": 0
      },
      "text/plain": [
       "Map(center=[-45, -70], controls=(WidgetControl(options=['position', 'transparent_bg'], widget=HBox(children=(T…"
      ]
     },
     "metadata": {},
     "output_type": "display_data"
    }
   ],
   "source": [
    "Map3.addLayer(QM_NDVI_1987, vizParams, 'QM de NDVI 1987')\n",
    "Map3.addLayer(QM_NDWI_1987, vizParams, 'QM de NDWI 1987')\n",
    "Map3.addLayer(QM_SAVI_1987, vizParams, 'QM de SAVI 1987')\n",
    "Map3.addLayer(QM_NDGI_1987, vis_nieve, 'QM de NDGI 1987')\n",
    "Map3.addLayer(QM_NDSI_1987, vis_nieve, 'QM de NDSI 1987')\n",
    "Map3"
   ]
  },
  {
   "cell_type": "code",
   "execution_count": 42,
   "id": "37413530",
   "metadata": {},
   "outputs": [],
   "source": [
    "c1987_sn = coleccion1987.map(Cloud20)\n",
    "NDVI_1987_sn = c1987_sn.qualityMosaic('B11')\n",
    "NDWI_1987_sn = c1987_sn.qualityMosaic('NDWI')\n",
    "SAVI_1987_sn = c1987_sn.qualityMosaic('SAVI')\n",
    "NDGI_1987_sn = c1987_sn.qualityMosaic('NDGI')\n",
    "NDSI_1987_sn = c1987_sn.qualityMosaic('NDSI')"
   ]
  },
  {
   "cell_type": "code",
   "execution_count": 43,
   "id": "ee1a2de2",
   "metadata": {},
   "outputs": [
    {
     "data": {
      "application/vnd.jupyter.widget-view+json": {
       "model_id": "b3c7488f64534f6d904a0b153a598afc",
       "version_major": 2,
       "version_minor": 0
      },
      "text/plain": [
       "Map(center=[-45, -70], controls=(WidgetControl(options=['position', 'transparent_bg'], widget=HBox(children=(T…"
      ]
     },
     "metadata": {},
     "output_type": "display_data"
    }
   ],
   "source": [
    "Map4.addLayer(NDVI_1987_sn, vizParams, 'QMsn de NDVI 1987')\n",
    "Map4.addLayer(NDWI_1987_sn, vizParams, 'QMsn de NDWI 1987')\n",
    "Map4.addLayer(SAVI_1987_sn, vizParams, 'QMsn de SAVI 1987')\n",
    "Map4.addLayer(NDGI_1987_sn, vis_nieve, 'QMsn de NDGI 1987')\n",
    "Map4.addLayer(NDSI_1987_sn, vis_nieve, 'QMsn de NDSI 1987')\n",
    "Map4"
   ]
  },
  {
   "cell_type": "markdown",
   "id": "d9e7e175",
   "metadata": {},
   "source": [
    "### 1988"
   ]
  },
  {
   "cell_type": "code",
   "execution_count": 44,
   "id": "80911c97",
   "metadata": {},
   "outputs": [],
   "source": [
    "start_date = '1987-10-01'\n",
    "end_date = '1988-03-31'\n",
    "\n",
    "l5_1988 = ee.ImageCollection('LANDSAT/LT05/C01/T1_TOA') \\\n",
    "    .filterBounds(patagonia_grande) \\\n",
    "    .filterDate(start_date, end_date)"
   ]
  },
  {
   "cell_type": "code",
   "execution_count": 45,
   "id": "596d9609",
   "metadata": {},
   "outputs": [],
   "source": [
    "coleccion1988 = l5_1988.map(addNDVI).map(addNDWI).map(addNDGI).map(addSAVI).map(addNDSI).map(addDate).map(addCloud)"
   ]
  },
  {
   "cell_type": "code",
   "execution_count": 46,
   "id": "67b699eb",
   "metadata": {},
   "outputs": [],
   "source": [
    "QM_NDVI_1988 = coleccion1988.qualityMosaic('B11') # Normalized difference vegetation Index\n",
    "QM_NDWI_1988 = coleccion1988.qualityMosaic('NDWI') # Normalize difference water index\n",
    "QM_SAVI_1988 = coleccion1988.qualityMosaic('SAVI') # Soil Adjusted Vegetation Index \n",
    "QM_NDGI_1988 = coleccion1988.qualityMosaic('NDGI') # Normalized difference glacier index\n",
    "QM_NDSI_1988 = coleccion1988.qualityMosaic('NDSI') # Normalized difference snow index"
   ]
  },
  {
   "cell_type": "code",
   "execution_count": 47,
   "id": "2698dd26",
   "metadata": {},
   "outputs": [
    {
     "data": {
      "application/vnd.jupyter.widget-view+json": {
       "model_id": "14d4eba6f2564441b601e08ae798db5f",
       "version_major": 2,
       "version_minor": 0
      },
      "text/plain": [
       "Map(center=[-45, -70], controls=(WidgetControl(options=['position', 'transparent_bg'], widget=HBox(children=(T…"
      ]
     },
     "metadata": {},
     "output_type": "display_data"
    }
   ],
   "source": [
    "Map3.addLayer(QM_NDVI_1988, vizParams, 'QM de NDVI 1988')\n",
    "Map3.addLayer(QM_NDWI_1988, vizParams, 'QM de NDWI 1988')\n",
    "Map3.addLayer(QM_SAVI_1988, vizParams, 'QM de SAVI 1988')\n",
    "Map3.addLayer(QM_NDGI_1988, vis_nieve, 'QM de NDGI 1988')\n",
    "Map3.addLayer(QM_NDSI_1988, vis_nieve, 'QM de NDSI 1988')\n",
    "Map3"
   ]
  },
  {
   "cell_type": "code",
   "execution_count": 48,
   "id": "ff28e9e5",
   "metadata": {},
   "outputs": [],
   "source": [
    "c1988_sn = coleccion1988.map(Cloud20)\n",
    "NDVI_1988_sn = c1988_sn.qualityMosaic('B11')\n",
    "NDWI_1988_sn = c1988_sn.qualityMosaic('NDWI')\n",
    "SAVI_1988_sn = c1988_sn.qualityMosaic('SAVI')\n",
    "NDGI_1988_sn = c1988_sn.qualityMosaic('NDGI')\n",
    "NDSI_1988_sn = c1988_sn.qualityMosaic('NDSI')"
   ]
  },
  {
   "cell_type": "code",
   "execution_count": 49,
   "id": "56dedb0c",
   "metadata": {},
   "outputs": [],
   "source": [
    "Map4.addLayer(NDVI_1988_sn, vizParams, 'QMsn de NDVI 1988')\n",
    "Map4.addLayer(NDWI_1988_sn, vizParams, 'QMsn de NDWI 1988')\n",
    "Map4.addLayer(SAVI_1988_sn, vizParams, 'QMsn de SAVI 1988')\n",
    "Map4.addLayer(NDGI_1988_sn, vis_nieve, 'QMsn de NDGI 1988')\n",
    "Map4.addLayer(NDSI_1988_sn, vis_nieve, 'QMsn de NDSI 1988')\n",
    "# Map4"
   ]
  },
  {
   "cell_type": "markdown",
   "id": "19f59336",
   "metadata": {},
   "source": [
    "### 1989"
   ]
  },
  {
   "cell_type": "code",
   "execution_count": 50,
   "id": "2d8f44b8",
   "metadata": {},
   "outputs": [],
   "source": [
    "start_date = '1988-10-01'\n",
    "end_date = '1989-03-31'\n",
    "\n",
    "l5_1989 = ee.ImageCollection('LANDSAT/LT05/C01/T1_TOA') \\\n",
    "    .filterBounds(patagonia_grande) \\\n",
    "    .filterDate(start_date, end_date)"
   ]
  },
  {
   "cell_type": "code",
   "execution_count": 51,
   "id": "e5f94824",
   "metadata": {},
   "outputs": [],
   "source": [
    "coleccion1989 = l5_1989.map(addNDVI).map(addNDWI).map(addNDGI).map(addSAVI).map(addNDSI).map(addDate).map(addCloud)"
   ]
  },
  {
   "cell_type": "code",
   "execution_count": 52,
   "id": "452d3007",
   "metadata": {},
   "outputs": [],
   "source": [
    "QM_NDVI_1989 = coleccion1989.qualityMosaic('B11') # Normalized difference vegetation Index\n",
    "QM_NDWI_1989 = coleccion1989.qualityMosaic('NDWI') # Normalize difference water index\n",
    "QM_SAVI_1989 = coleccion1989.qualityMosaic('SAVI') # Soil Adjusted Vegetation Index \n",
    "QM_NDGI_1989 = coleccion1989.qualityMosaic('NDGI') # Normalized difference glacier index\n",
    "QM_NDSI_1989 = coleccion1989.qualityMosaic('NDSI') # Normalized difference snow index"
   ]
  },
  {
   "cell_type": "code",
   "execution_count": 53,
   "id": "cf1389b6",
   "metadata": {},
   "outputs": [
    {
     "data": {
      "application/vnd.jupyter.widget-view+json": {
       "model_id": "457b58de7f3e44db88a5f5fd7f664c48",
       "version_major": 2,
       "version_minor": 0
      },
      "text/plain": [
       "Map(center=[-45, -70], controls=(WidgetControl(options=['position', 'transparent_bg'], widget=HBox(children=(T…"
      ]
     },
     "metadata": {},
     "output_type": "display_data"
    }
   ],
   "source": [
    "Map5.addLayer(QM_NDVI_1989, vizParams, 'QM de NDVI 1989')\n",
    "Map5.addLayer(QM_NDWI_1989, vizParams, 'QM de NDWI 1989')\n",
    "Map5.addLayer(QM_SAVI_1989, vizParams, 'QM de SAVI 1989')\n",
    "Map5.addLayer(QM_NDGI_1989, vis_nieve, 'QM de NDGI 1989')\n",
    "Map5.addLayer(QM_NDSI_1989, vis_nieve, 'QM de NDSI 1989')\n",
    "Map5"
   ]
  },
  {
   "cell_type": "code",
   "execution_count": 54,
   "id": "6a7d5ff4",
   "metadata": {},
   "outputs": [],
   "source": [
    "c1989_sn = coleccion1989.map(Cloud20)\n",
    "NDVI_1989_sn = c1989_sn.qualityMosaic('B11')\n",
    "NDWI_1989_sn = c1989_sn.qualityMosaic('NDWI')\n",
    "SAVI_1989_sn = c1989_sn.qualityMosaic('SAVI')\n",
    "NDGI_1989_sn = c1989_sn.qualityMosaic('NDGI')\n",
    "NDSI_1989_sn = c1989_sn.qualityMosaic('NDSI')"
   ]
  },
  {
   "cell_type": "code",
   "execution_count": 55,
   "id": "ec851683",
   "metadata": {},
   "outputs": [],
   "source": [
    "Map6.addLayer(NDVI_1989_sn, vizParams, 'QMsn de NDVI 1989')\n",
    "Map6.addLayer(NDWI_1989_sn, vizParams, 'QMsn de NDWI 1989')\n",
    "Map6.addLayer(SAVI_1989_sn, vizParams, 'QMsn de SAVI 1989')\n",
    "Map6.addLayer(NDGI_1989_sn, vis_nieve, 'QMsn de NDGI 1989')\n",
    "Map6.addLayer(NDSI_1989_sn, vis_nieve, 'QMsn de NDSI 1989')\n",
    "# Map6"
   ]
  },
  {
   "cell_type": "markdown",
   "id": "e5a72c8e",
   "metadata": {},
   "source": [
    "### Colección agua"
   ]
  },
  {
   "cell_type": "code",
   "execution_count": 56,
   "id": "cad6736b",
   "metadata": {},
   "outputs": [],
   "source": [
    "start_date = '1984-10-01'\n",
    "end_date = '1989-03-31'\n",
    "\n",
    "l5_sur = ee.ImageCollection('LANDSAT/LT05/C01/T1_TOA') \\\n",
    "    .filterBounds(patagonia_grande) \\\n",
    "    .filterDate(start_date, end_date)"
   ]
  },
  {
   "cell_type": "code",
   "execution_count": 57,
   "id": "bc193767",
   "metadata": {},
   "outputs": [],
   "source": [
    "coleccionsur = l5_sur.map(addNDVI).map(addNDWI).map(addNDGI).map(addSAVI).map(addNDSI).map(addDate).map(addCloud)"
   ]
  },
  {
   "cell_type": "code",
   "execution_count": 58,
   "id": "6febb595",
   "metadata": {},
   "outputs": [],
   "source": [
    "QM_NDVI_sur = coleccionsur.qualityMosaic('B11') # Normalized difference vegetation Index\n",
    "QM_NDWI_sur = coleccionsur.qualityMosaic('NDWI') # Normalize difference water index\n",
    "QM_SAVI_sur = coleccionsur.qualityMosaic('SAVI') # Soil Adjusted Vegetation Index \n",
    "QM_NDGI_sur = coleccionsur.qualityMosaic('NDGI') # Normalized difference glacier index\n",
    "QM_NDSI_sur = coleccionsur.qualityMosaic('NDSI') # Normalized difference snow index"
   ]
  },
  {
   "cell_type": "code",
   "execution_count": 59,
   "id": "bdf65d2d",
   "metadata": {},
   "outputs": [
    {
     "data": {
      "application/vnd.jupyter.widget-view+json": {
       "model_id": "457b58de7f3e44db88a5f5fd7f664c48",
       "version_major": 2,
       "version_minor": 0
      },
      "text/plain": [
       "Map(center=[-45, -70], controls=(WidgetControl(options=['position', 'transparent_bg'], widget=HBox(children=(T…"
      ]
     },
     "metadata": {},
     "output_type": "display_data"
    }
   ],
   "source": [
    "Map5.addLayer(QM_NDVI_sur, vizParams, 'QM de NDVI sur')\n",
    "Map5.addLayer(QM_NDWI_sur, vizParams, 'QM de NDWI sur')\n",
    "Map5.addLayer(QM_SAVI_sur, vizParams, 'QM de SAVI sur')\n",
    "Map5.addLayer(QM_NDGI_sur, vis_nieve, 'QM de NDGI sur')\n",
    "Map5.addLayer(QM_NDSI_sur, vis_nieve, 'QM de NDSI sur')\n",
    "Map5"
   ]
  },
  {
   "cell_type": "code",
   "execution_count": 60,
   "id": "31ce5716",
   "metadata": {},
   "outputs": [],
   "source": [
    "csur_sn = coleccionsur.map(Cloud20)\n",
    "NDVI_sur_sn = csur_sn.qualityMosaic('B11')\n",
    "NDWI_sur_sn = csur_sn.qualityMosaic('NDWI')\n",
    "SAVI_sur_sn = csur_sn.qualityMosaic('SAVI')\n",
    "NDGI_sur_sn = csur_sn.qualityMosaic('NDGI')\n",
    "NDSI_sur_sn = csur_sn.qualityMosaic('NDSI')"
   ]
  },
  {
   "cell_type": "code",
   "execution_count": 61,
   "id": "c16abbc8",
   "metadata": {},
   "outputs": [],
   "source": [
    "Map6.addLayer(NDVI_sur_sn, vizParams, 'QMsn de NDVI sur')\n",
    "Map6.addLayer(NDWI_sur_sn, vizParams, 'QMsn de NDWI sur')\n",
    "Map6.addLayer(SAVI_sur_sn, vizParams, 'QMsn de SAVI sur')\n",
    "Map6.addLayer(NDGI_sur_sn, vis_nieve, 'QMsn de NDGI sur')\n",
    "Map6.addLayer(NDSI_sur_sn, vis_nieve, 'QMsn de NDSI sur')\n",
    "# Map6"
   ]
  },
  {
   "cell_type": "markdown",
   "id": "dd7d911d",
   "metadata": {},
   "source": [
    "## Indices por colección"
   ]
  },
  {
   "cell_type": "markdown",
   "id": "4ea0a4cd",
   "metadata": {},
   "source": [
    "### Índices 1985"
   ]
  },
  {
   "cell_type": "code",
   "execution_count": 62,
   "id": "426dfca0",
   "metadata": {},
   "outputs": [],
   "source": [
    "NDVI_1985 = NDVI_1985_sn.select('B11')\n",
    "NDWI_1985 = NDWI_1985_sn.select('NDWI') \n",
    "SAVI_1985 = SAVI_1985_sn.select('SAVI')\n",
    "NDGI_1985 = NDGI_1985_sn.select('NDGI')\n",
    "NDSI_1985 = NDSI_1985_sn.select('NDSI')"
   ]
  },
  {
   "cell_type": "code",
   "execution_count": 63,
   "id": "eaf84698",
   "metadata": {},
   "outputs": [
    {
     "data": {
      "application/vnd.jupyter.widget-view+json": {
       "model_id": "4935ec01f4b64f6c9bc0836c83fed59b",
       "version_major": 2,
       "version_minor": 0
      },
      "text/plain": [
       "Map(center=[-45, -70], controls=(WidgetControl(options=['position', 'transparent_bg'], widget=HBox(children=(T…"
      ]
     },
     "metadata": {},
     "output_type": "display_data"
    }
   ],
   "source": [
    "Map7.addLayer(NDVI_1985, {'palette': color_terrain}, 'QMsn de NDVI 1985')\n",
    "Map7.addLayer(NDWI_1985, {'palette': color_ndwi}, 'QMsn de NDWI 1985')\n",
    "Map7.addLayer(SAVI_1985, {'palette': color_ndvi}, 'QMsn de SAVI 1985')\n",
    "# Map7.addLayer(NDGI_1985, {'palette': color_glaciar}, 'QMsn de NDGI 1985')\n",
    "# Map7.addLayer(NDSI_1985, {'palette': color_ndwi}, 'QMsn de NDSI 1985')\n",
    "Map7"
   ]
  },
  {
   "cell_type": "markdown",
   "id": "1e0309e1",
   "metadata": {},
   "source": [
    "### Índices 1986"
   ]
  },
  {
   "cell_type": "code",
   "execution_count": 64,
   "id": "cc1253c0",
   "metadata": {},
   "outputs": [],
   "source": [
    "NDVI_1986 = NDVI_1986_sn.select('B11')\n",
    "NDWI_1986 = NDWI_1986_sn.select('NDWI') \n",
    "SAVI_1986 = SAVI_1986_sn.select('SAVI')\n",
    "NDGI_1986 = NDGI_1986_sn.select('NDGI')\n",
    "NDSI_1986 = NDSI_1986_sn.select('NDSI')"
   ]
  },
  {
   "cell_type": "code",
   "execution_count": 65,
   "id": "3e0524d7",
   "metadata": {},
   "outputs": [
    {
     "data": {
      "application/vnd.jupyter.widget-view+json": {
       "model_id": "4935ec01f4b64f6c9bc0836c83fed59b",
       "version_major": 2,
       "version_minor": 0
      },
      "text/plain": [
       "Map(center=[-45, -70], controls=(WidgetControl(options=['position', 'transparent_bg'], widget=HBox(children=(T…"
      ]
     },
     "metadata": {},
     "output_type": "display_data"
    }
   ],
   "source": [
    "Map7.addLayer(NDVI_1986, {'palette': color_terrain}, 'QMsn de NDVI 1986')\n",
    "Map7.addLayer(NDWI_1986, {'palette': color_ndwi}, 'QMsn de NDWI 1986')\n",
    "Map7.addLayer(SAVI_1986, {'palette': color_ndvi}, 'QMsn de SAVI 1986')\n",
    "# Map7.addLayer(NDGI_1986, {'palette': color_glaciar}, 'QMsn de NDGI 1986')\n",
    "# Map7.addLayer(NDSI_1986, {'palette': color_ndwi}, 'QMsn de NDSI 1986')\n",
    "Map7"
   ]
  },
  {
   "cell_type": "markdown",
   "id": "4aee56c9",
   "metadata": {},
   "source": [
    "### Índices 1987"
   ]
  },
  {
   "cell_type": "code",
   "execution_count": 66,
   "id": "4a0a2445",
   "metadata": {},
   "outputs": [],
   "source": [
    "NDVI_1987 = NDVI_1987_sn.select('B11')\n",
    "NDWI_1987 = NDWI_1987_sn.select('NDWI') \n",
    "SAVI_1987 = SAVI_1987_sn.select('SAVI')\n",
    "NDGI_1987 = NDGI_1987_sn.select('NDGI')\n",
    "NDSI_1987 = NDSI_1987_sn.select('NDSI')"
   ]
  },
  {
   "cell_type": "code",
   "execution_count": 67,
   "id": "144629ba",
   "metadata": {},
   "outputs": [],
   "source": [
    "# Map8.addLayer(NDVI_1987, {'palette': color_terrain}, 'QMsn de NDVI 1987')\n",
    "# Map8.addLayer(NDWI_1987, {'palette': color_ndwi}, 'QMsn de NDWI 1987')\n",
    "# Map8.addLayer(SAVI_1987, {'palette': color_ndvi}, 'QMsn de SAVI 1987')\n",
    "# Map8.addLayer(NDGI_1987, {'palette': color_glaciar}, 'QMsn de NDGI 1987')\n",
    "# Map8.addLayer(NDSI_1987, {'palette': color_ndwi}, 'QMsn de NDSI 1987')\n",
    "# Map8"
   ]
  },
  {
   "cell_type": "markdown",
   "id": "e765cd19",
   "metadata": {},
   "source": [
    "### Índices 1988"
   ]
  },
  {
   "cell_type": "code",
   "execution_count": 68,
   "id": "b4275190",
   "metadata": {},
   "outputs": [],
   "source": [
    "NDVI_1988 = NDVI_1988_sn.select('B11')\n",
    "NDWI_1988 = NDWI_1988_sn.select('NDWI') \n",
    "SAVI_1988 = SAVI_1988_sn.select('SAVI')\n",
    "NDGI_1988 = NDGI_1988_sn.select('NDGI')\n",
    "NDSI_1988 = NDSI_1988_sn.select('NDSI')"
   ]
  },
  {
   "cell_type": "code",
   "execution_count": 69,
   "id": "977e42e9",
   "metadata": {},
   "outputs": [],
   "source": [
    "# Map8.addLayer(NDVI_1988, {'palette': color_terrain}, 'QMsn de NDVI 1988')\n",
    "# Map8.addLayer(NDWI_1988, {'palette': color_ndwi}, 'QMsn de NDWI 1988')\n",
    "# Map8.addLayer(SAVI_1988, {'palette': color_ndvi}, 'QMsn de SAVI 1988')\n",
    "# Map8.addLayer(NDGI_1988, {'palette': color_glaciar}, 'QMsn de NDGI 1988')\n",
    "# Map8.addLayer(NDSI_1988, {'palette': color_ndwi}, 'QMsn de NDSI 1988')\n",
    "# Map8"
   ]
  },
  {
   "cell_type": "markdown",
   "id": "58d5a86c",
   "metadata": {},
   "source": [
    "### Índices 1989"
   ]
  },
  {
   "cell_type": "code",
   "execution_count": 70,
   "id": "cbd5a65d",
   "metadata": {},
   "outputs": [],
   "source": [
    "NDVI_1989 = NDVI_1989_sn.select('B11')\n",
    "NDWI_1989 = NDWI_1989_sn.select('NDWI') \n",
    "SAVI_1989 = SAVI_1989_sn.select('SAVI')\n",
    "NDGI_1989 = NDGI_1989_sn.select('NDGI')\n",
    "NDSI_1989 = NDSI_1989_sn.select('NDSI')"
   ]
  },
  {
   "cell_type": "code",
   "execution_count": 71,
   "id": "23ae96a6",
   "metadata": {},
   "outputs": [],
   "source": [
    "# Map8.addLayer(NDVI_1989, {'palette': color_terrain}, 'QMsn de NDVI 1989')\n",
    "# Map8.addLayer(NDWI_1989, {'palette': color_ndwi}, 'QMsn de NDWI 1989')\n",
    "# Map8.addLayer(SAVI_1989, {'palette': color_ndvi}, 'QMsn de SAVI 1989')\n",
    "# Map8.addLayer(NDGI_1989, {'palette': color_glaciar}, 'QMsn de NDGI 1989')\n",
    "# Map8.addLayer(NDSI_1989, {'palette': color_ndwi}, 'QMsn de NDSI 1989')\n",
    "# Map8"
   ]
  },
  {
   "cell_type": "markdown",
   "id": "552ddf65",
   "metadata": {},
   "source": [
    "### Índices colección agua"
   ]
  },
  {
   "cell_type": "code",
   "execution_count": 149,
   "id": "bd6e70e1",
   "metadata": {},
   "outputs": [],
   "source": [
    "NDVI_sur = NDVI_sur_sn.select('B11')\n",
    "NDWI_sur = NDWI_sur_sn.select('NDWI') \n",
    "SAVI_sur = SAVI_sur_sn.select('SAVI')\n",
    "NDGI_sur = NDGI_sur_sn.select('NDGI')\n",
    "NDSI_sur = NDSI_sur_sn.select('NDSI')"
   ]
  },
  {
   "cell_type": "code",
   "execution_count": 150,
   "id": "e550e4e0",
   "metadata": {},
   "outputs": [
    {
     "data": {
      "application/vnd.jupyter.widget-view+json": {
       "model_id": "a6cc6e7f987d4aac91c7a7ebf3ff8548",
       "version_major": 2,
       "version_minor": 0
      },
      "text/plain": [
       "Map(center=[-45, -70], controls=(WidgetControl(options=['position', 'transparent_bg'], widget=HBox(children=(T…"
      ]
     },
     "metadata": {},
     "output_type": "display_data"
    }
   ],
   "source": [
    "Map8.addLayer(NDVI_sur, {'palette': color_terrain}, 'QMsn de NDVI sur')\n",
    "Map8.addLayer(NDWI_sur, {'palette': color_ndwi}, 'QMsn de NDWI sur')\n",
    "Map8.addLayer(SAVI_sur, {'palette': color_ndvi}, 'QMsn de SAVI sur')\n",
    "Map8.addLayer(NDGI_sur, {'palette': color_glaciar}, 'QMsn de NDGI sur')\n",
    "Map8.addLayer(NDSI_sur, {'palette': color_ndwi}, 'QMsn de NDSI sur')\n",
    "Map8"
   ]
  },
  {
   "cell_type": "markdown",
   "id": "dd05e9e8",
   "metadata": {},
   "source": [
    "## Generación de Mosaico"
   ]
  },
  {
   "cell_type": "code",
   "execution_count": 110,
   "id": "8778db11",
   "metadata": {},
   "outputs": [],
   "source": [
    "mosaic0= ee.ImageCollection([QM_NDVI_sur,QM_NDVI_1987]).mosaic()"
   ]
  },
  {
   "cell_type": "code",
   "execution_count": 111,
   "id": "a3f753d8",
   "metadata": {},
   "outputs": [],
   "source": [
    "mosaic1 = ee.ImageCollection([mosaic0,QM_NDVI_1985]).mosaic()"
   ]
  },
  {
   "cell_type": "code",
   "execution_count": 112,
   "id": "78fe189d",
   "metadata": {},
   "outputs": [],
   "source": [
    "mosaic2 = ee.ImageCollection([mosaic1,QM_NDVI_1986]).mosaic()"
   ]
  },
  {
   "cell_type": "code",
   "execution_count": 113,
   "id": "9b229098",
   "metadata": {},
   "outputs": [],
   "source": [
    "mosaic2_landsat = mosaic2.set('SENSOR_ID', 'OLI_TIRS')"
   ]
  },
  {
   "cell_type": "code",
   "execution_count": 114,
   "id": "a98110ba",
   "metadata": {},
   "outputs": [],
   "source": [
    "cloud_mosaic2 = ee.Algorithms.Landsat.simpleCloudScore(mosaic2_landsat)"
   ]
  },
  {
   "cell_type": "code",
   "execution_count": 115,
   "id": "745b712d",
   "metadata": {},
   "outputs": [],
   "source": [
    "cloud_mosaic2 = cloud_mosaic2.select('cloud')"
   ]
  },
  {
   "cell_type": "code",
   "execution_count": 116,
   "id": "3351dfe9",
   "metadata": {},
   "outputs": [],
   "source": [
    "palette_nubes = ['#1a9850', '#66bd63', '#a6d96a', '#d9ef8b', '#fee08b', '#fdae61', '#f46d43', '#d73027']"
   ]
  },
  {
   "cell_type": "code",
   "execution_count": 117,
   "id": "aa1c77e2",
   "metadata": {},
   "outputs": [],
   "source": [
    "resultados= [cloud_mosaic2, mosaic2]\n",
    "vis_params2=  [\n",
    "    {'palette':palette_nubes}, \n",
    "    vizParams]\n",
    "labels = [\n",
    "    'Nubes 1985',\n",
    "    'QM NDVI 1985']"
   ]
  },
  {
   "cell_type": "code",
   "execution_count": 118,
   "id": "28e91129",
   "metadata": {},
   "outputs": [
    {
     "data": {
      "application/vnd.jupyter.widget-view+json": {
       "model_id": "ce1970c9a2c1417da17727e773ea79ab",
       "version_major": 2,
       "version_minor": 0
      },
      "text/plain": [
       "GridspecLayout(children=(Output(layout=Layout(grid_area='widget001')), Output(layout=Layout(grid_area='widget0…"
      ]
     },
     "metadata": {},
     "output_type": "display_data"
    }
   ],
   "source": [
    "geemap.linked_maps(rows=1, cols=2, height=\"400px\", center=[-45, -75], zoom=4, \n",
    "                   ee_objects=resultados, vis_params=vis_params2, labels=labels, label_position=\"topright\")"
   ]
  },
  {
   "cell_type": "code",
   "execution_count": 119,
   "id": "93ea56bf",
   "metadata": {},
   "outputs": [],
   "source": [
    "def llenado(image):\n",
    "    return image.where(cloud_mosaic2.gt(20),NDVI_1985_sn)"
   ]
  },
  {
   "cell_type": "code",
   "execution_count": 120,
   "id": "8287934f",
   "metadata": {},
   "outputs": [],
   "source": [
    "img1 = llenado(mosaic2)"
   ]
  },
  {
   "cell_type": "code",
   "execution_count": 121,
   "id": "0ea4ebed",
   "metadata": {},
   "outputs": [],
   "source": [
    "img1_landsat = img1.set('SENSOR_ID', 'OLI_TIRS')\n",
    "cloud_img1 = ee.Algorithms.Landsat.simpleCloudScore(img1_landsat)\n",
    "cloud_img1 = cloud_img1.select('cloud')"
   ]
  },
  {
   "cell_type": "code",
   "execution_count": 122,
   "id": "84dbb2d4",
   "metadata": {},
   "outputs": [],
   "source": [
    "resultados= [cloud_img1, img1]\n",
    "vis_params2=  [\n",
    "    {'palette':palette_nubes}, \n",
    "    vizParams]\n",
    "labels = [\n",
    "    'Nubes Mosaico 1',\n",
    "    'Mosaico 1']"
   ]
  },
  {
   "cell_type": "code",
   "execution_count": 123,
   "id": "f3c2a996",
   "metadata": {},
   "outputs": [
    {
     "data": {
      "application/vnd.jupyter.widget-view+json": {
       "model_id": "22ecc24de9014c42a4f9aa99cf49efb6",
       "version_major": 2,
       "version_minor": 0
      },
      "text/plain": [
       "GridspecLayout(children=(Output(layout=Layout(grid_area='widget001')), Output(layout=Layout(grid_area='widget0…"
      ]
     },
     "metadata": {},
     "output_type": "display_data"
    }
   ],
   "source": [
    "geemap.linked_maps(rows=1, cols=2, height=\"400px\", center=[-45, -75], zoom=4, \n",
    "                   ee_objects=resultados, vis_params=vis_params2, labels=labels, label_position=\"topright\")"
   ]
  },
  {
   "cell_type": "code",
   "execution_count": 124,
   "id": "9a243ac4",
   "metadata": {},
   "outputs": [],
   "source": [
    "def llenado2(image):\n",
    "    return image.where(cloud_img1.gt(20), NDVI_1986_sn)"
   ]
  },
  {
   "cell_type": "code",
   "execution_count": 125,
   "id": "ada6d94e",
   "metadata": {},
   "outputs": [],
   "source": [
    "img2 = llenado2(img1)"
   ]
  },
  {
   "cell_type": "code",
   "execution_count": 126,
   "id": "e3db0a52",
   "metadata": {},
   "outputs": [],
   "source": [
    "img2_landsat = img2.set('SENSOR_ID', 'OLI_TIRS')\n",
    "cloud_img2 = ee.Algorithms.Landsat.simpleCloudScore(img2_landsat)\n",
    "cloud_img2 = cloud_img2.select('cloud')"
   ]
  },
  {
   "cell_type": "code",
   "execution_count": 127,
   "id": "42d22742",
   "metadata": {},
   "outputs": [],
   "source": [
    "resultados= [cloud_img2, img2]\n",
    "vis_params2=  [\n",
    "    {'palette':palette_nubes}, \n",
    "    vizParams]\n",
    "labels = [\n",
    "    'Nubes Mosaico 2',\n",
    "    'Mosaico 2']"
   ]
  },
  {
   "cell_type": "code",
   "execution_count": 128,
   "id": "5bdcab8c",
   "metadata": {},
   "outputs": [
    {
     "data": {
      "application/vnd.jupyter.widget-view+json": {
       "model_id": "fbb0b0ae800a45bf91e46b015271ab52",
       "version_major": 2,
       "version_minor": 0
      },
      "text/plain": [
       "GridspecLayout(children=(Output(layout=Layout(grid_area='widget001')), Output(layout=Layout(grid_area='widget0…"
      ]
     },
     "metadata": {},
     "output_type": "display_data"
    }
   ],
   "source": [
    "geemap.linked_maps(rows=1, cols=2, height=\"400px\", center=[-45, -75], zoom=4, \n",
    "                   ee_objects=resultados, vis_params=vis_params2, labels=labels, label_position=\"topright\")"
   ]
  },
  {
   "cell_type": "code",
   "execution_count": 129,
   "id": "ca5f91e2",
   "metadata": {},
   "outputs": [],
   "source": [
    "def llenado3(image):\n",
    "    return image.where(cloud_img2.gt(20), NDVI_1987_sn)"
   ]
  },
  {
   "cell_type": "code",
   "execution_count": 130,
   "id": "f52fddee",
   "metadata": {},
   "outputs": [],
   "source": [
    "img3 = llenado3(img2)"
   ]
  },
  {
   "cell_type": "code",
   "execution_count": 131,
   "id": "6d41d9d0",
   "metadata": {},
   "outputs": [],
   "source": [
    "img3_landsat = img3.set('SENSOR_ID', 'OLI_TIRS')\n",
    "cloud_img3 = ee.Algorithms.Landsat.simpleCloudScore(img3_landsat)\n",
    "cloud_img3 = cloud_img3.select('cloud')"
   ]
  },
  {
   "cell_type": "code",
   "execution_count": 132,
   "id": "3a000d62",
   "metadata": {},
   "outputs": [],
   "source": [
    "resultados= [cloud_img3, img3]\n",
    "vis_params2=  [\n",
    "    {'palette':palette_nubes}, \n",
    "    vizParams]\n",
    "labels = [\n",
    "    'Nubes Mosaico 3',\n",
    "    'Mosaico 3']"
   ]
  },
  {
   "cell_type": "code",
   "execution_count": 133,
   "id": "bf275ed6",
   "metadata": {},
   "outputs": [
    {
     "data": {
      "application/vnd.jupyter.widget-view+json": {
       "model_id": "fdfefb37748a4d62bb92d19f3361f70d",
       "version_major": 2,
       "version_minor": 0
      },
      "text/plain": [
       "GridspecLayout(children=(Output(layout=Layout(grid_area='widget001')), Output(layout=Layout(grid_area='widget0…"
      ]
     },
     "metadata": {},
     "output_type": "display_data"
    }
   ],
   "source": [
    "geemap.linked_maps(rows=1, cols=2, height=\"400px\", center=[-45, -75], zoom=4, \n",
    "                   ee_objects=resultados, vis_params=vis_params2, labels=labels, label_position=\"topright\")"
   ]
  },
  {
   "cell_type": "code",
   "execution_count": 134,
   "id": "9d0daae9",
   "metadata": {},
   "outputs": [],
   "source": [
    "def llenado4(image):\n",
    "    return image.where(cloud_img3.gt(20), NDVI_1988_sn)"
   ]
  },
  {
   "cell_type": "code",
   "execution_count": 135,
   "id": "d37f16d5",
   "metadata": {},
   "outputs": [],
   "source": [
    "img4 = llenado4(img3)"
   ]
  },
  {
   "cell_type": "code",
   "execution_count": 136,
   "id": "540d60d8",
   "metadata": {},
   "outputs": [],
   "source": [
    "img4_landsat = img4.set('SENSOR_ID', 'OLI_TIRS')\n",
    "cloud_img4 = ee.Algorithms.Landsat.simpleCloudScore(img4_landsat)\n",
    "cloud_img4 = cloud_img4.select('cloud')"
   ]
  },
  {
   "cell_type": "code",
   "execution_count": 137,
   "id": "3f0e9719",
   "metadata": {},
   "outputs": [],
   "source": [
    "resultados= [cloud_img4, img4]\n",
    "vis_params2=  [\n",
    "    {'palette':palette_nubes}, \n",
    "    vizParams]\n",
    "labels = [\n",
    "    'Nubes Mosaico 4',\n",
    "    'Mosaico 4']"
   ]
  },
  {
   "cell_type": "code",
   "execution_count": 138,
   "id": "41d9a7b8",
   "metadata": {},
   "outputs": [
    {
     "data": {
      "application/vnd.jupyter.widget-view+json": {
       "model_id": "924452f8569d4a37ae58a472f5d3e8e6",
       "version_major": 2,
       "version_minor": 0
      },
      "text/plain": [
       "GridspecLayout(children=(Output(layout=Layout(grid_area='widget001')), Output(layout=Layout(grid_area='widget0…"
      ]
     },
     "metadata": {},
     "output_type": "display_data"
    }
   ],
   "source": [
    "geemap.linked_maps(rows=1, cols=2, height=\"400px\", center=[-45, -75], zoom=4, \n",
    "                   ee_objects=resultados, vis_params=vis_params2, labels=labels, label_position=\"topright\")"
   ]
  },
  {
   "cell_type": "code",
   "execution_count": 139,
   "id": "c93604cb",
   "metadata": {},
   "outputs": [],
   "source": [
    "def llenado5(image):\n",
    "    return image.where(cloud_img4.gt(20), NDVI_1989_sn)"
   ]
  },
  {
   "cell_type": "code",
   "execution_count": 140,
   "id": "59e1291c",
   "metadata": {},
   "outputs": [],
   "source": [
    "img5 = llenado5(img4)"
   ]
  },
  {
   "cell_type": "code",
   "execution_count": 141,
   "id": "1b1462fa",
   "metadata": {},
   "outputs": [],
   "source": [
    "img5_landsat = img5.set('SENSOR_ID', 'OLI_TIRS')\n",
    "cloud_img5 = ee.Algorithms.Landsat.simpleCloudScore(img5_landsat)\n",
    "cloud_img5 = cloud_img5.select('cloud')"
   ]
  },
  {
   "cell_type": "code",
   "execution_count": 142,
   "id": "14081f40",
   "metadata": {},
   "outputs": [],
   "source": [
    "resultados= [cloud_img5, img5]\n",
    "vis_params2=  [\n",
    "    {'palette':palette_nubes}, \n",
    "    vizParams]\n",
    "labels = [\n",
    "    'Nubes Mosaico 5',\n",
    "    'Mosaico 5']"
   ]
  },
  {
   "cell_type": "code",
   "execution_count": 143,
   "id": "8593050e",
   "metadata": {},
   "outputs": [
    {
     "data": {
      "application/vnd.jupyter.widget-view+json": {
       "model_id": "280a631780484d1fba669b91244bd117",
       "version_major": 2,
       "version_minor": 0
      },
      "text/plain": [
       "GridspecLayout(children=(Output(layout=Layout(grid_area='widget001')), Output(layout=Layout(grid_area='widget0…"
      ]
     },
     "metadata": {},
     "output_type": "display_data"
    }
   ],
   "source": [
    "geemap.linked_maps(rows=1, cols=2, height=\"400px\", center=[-45, -75], zoom=4, \n",
    "                   ee_objects=resultados, vis_params=vis_params2, labels=labels, label_position=\"topright\")"
   ]
  },
  {
   "cell_type": "code",
   "execution_count": 144,
   "id": "2e6b728e",
   "metadata": {},
   "outputs": [],
   "source": [
    "def llenado6(image):\n",
    "    return image.where(NDVI_sur_sn.lt(0.25).And(NDWI_sur_sn.gt(0.3)), NDWI_sur_sn)"
   ]
  },
  {
   "cell_type": "code",
   "execution_count": 145,
   "id": "41daac25",
   "metadata": {},
   "outputs": [],
   "source": [
    "img6 = llenado6(img5)"
   ]
  },
  {
   "cell_type": "code",
   "execution_count": 146,
   "id": "f29c7288",
   "metadata": {},
   "outputs": [],
   "source": [
    "resultados= [img5, img6]\n",
    "labels = [\n",
    "    'Mosaico 5',\n",
    "    'Mosaico 6']\n",
    "vis_params3=  [\n",
    "     vizParams, \n",
    "    vizParams]"
   ]
  },
  {
   "cell_type": "code",
   "execution_count": 147,
   "id": "83d02d7a",
   "metadata": {},
   "outputs": [
    {
     "data": {
      "application/vnd.jupyter.widget-view+json": {
       "model_id": "f1a2c109c6ac4ad4ac7b4a00f92cfd62",
       "version_major": 2,
       "version_minor": 0
      },
      "text/plain": [
       "GridspecLayout(children=(Output(layout=Layout(grid_area='widget001')), Output(layout=Layout(grid_area='widget0…"
      ]
     },
     "metadata": {},
     "output_type": "display_data"
    }
   ],
   "source": [
    "geemap.linked_maps(rows=1, cols=2, height=\"400px\", center=[-45, -75], zoom=4, \n",
    "                   ee_objects=resultados, vis_params=vis_params3, labels=labels, label_position=\"topright\")"
   ]
  },
  {
   "cell_type": "code",
   "execution_count": 148,
   "id": "0ea95f9b",
   "metadata": {},
   "outputs": [
    {
     "data": {
      "application/vnd.jupyter.widget-view+json": {
       "model_id": "fac0206deb76441bac61b30ab90fbd34",
       "version_major": 2,
       "version_minor": 0
      },
      "text/plain": [
       "Map(bottom=5532.0, center=[-44.59046718130884, -61.12354727110302], controls=(WidgetControl(options=['position…"
      ]
     },
     "metadata": {},
     "output_type": "display_data"
    }
   ],
   "source": [
    "Map10.addLayer(img5, vizParams, 'Mosaico 5')\n",
    "Map10.addLayer(img6, vizParams, 'Mosaico 6')\n",
    "Map10"
   ]
  },
  {
   "cell_type": "code",
   "execution_count": null,
   "id": "ea7390c2",
   "metadata": {},
   "outputs": [],
   "source": []
  },
  {
   "cell_type": "code",
   "execution_count": null,
   "id": "1b0eec80",
   "metadata": {},
   "outputs": [],
   "source": []
  }
 ],
 "metadata": {
  "kernelspec": {
   "display_name": "Python 3 (ipykernel)",
   "language": "python",
   "name": "python3"
  },
  "language_info": {
   "codemirror_mode": {
    "name": "ipython",
    "version": 3
   },
   "file_extension": ".py",
   "mimetype": "text/x-python",
   "name": "python",
   "nbconvert_exporter": "python",
   "pygments_lexer": "ipython3",
   "version": "3.9.2"
  },
  "toc": {
   "base_numbering": 1,
   "nav_menu": {},
   "number_sections": true,
   "sideBar": true,
   "skip_h1_title": false,
   "title_cell": "Table of Contents",
   "title_sidebar": "Contents",
   "toc_cell": false,
   "toc_position": {
    "height": "calc(100% - 180px)",
    "left": "10px",
    "top": "150px",
    "width": "384px"
   },
   "toc_section_display": true,
   "toc_window_display": true
  },
  "varInspector": {
   "cols": {
    "lenName": 16,
    "lenType": 16,
    "lenVar": 40
   },
   "kernels_config": {
    "python": {
     "delete_cmd_postfix": "",
     "delete_cmd_prefix": "del ",
     "library": "var_list.py",
     "varRefreshCmd": "print(var_dic_list())"
    },
    "r": {
     "delete_cmd_postfix": ") ",
     "delete_cmd_prefix": "rm(",
     "library": "var_list.r",
     "varRefreshCmd": "cat(var_dic_list()) "
    }
   },
   "types_to_exclude": [
    "module",
    "function",
    "builtin_function_or_method",
    "instance",
    "_Feature"
   ],
   "window_display": false
  }
 },
 "nbformat": 4,
 "nbformat_minor": 5
}
