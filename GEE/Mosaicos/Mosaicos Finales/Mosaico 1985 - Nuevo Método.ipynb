{
 "cells": [
  {
   "cell_type": "markdown",
   "id": "c8ee7fef",
   "metadata": {},
   "source": [
    "# Mosaico 1985"
   ]
  },
  {
   "cell_type": "markdown",
   "id": "203f76ca",
   "metadata": {},
   "source": [
    "Script trabajado por Francisco Albornoz (2021-04-13) / Última modificación / Mosaicos Patagonia"
   ]
  },
  {
   "cell_type": "markdown",
   "id": "2fb5cdeb",
   "metadata": {},
   "source": [
    "2021-08-05 13:07:09 "
   ]
  },
  {
   "cell_type": "code",
   "execution_count": 1,
   "id": "3057c761",
   "metadata": {
    "ExecuteTime": {
     "end_time": "2021-10-22T14:38:16.705455Z",
     "start_time": "2021-10-22T14:38:14.743032Z"
    }
   },
   "outputs": [],
   "source": [
    "import ee\n",
    "import geemap\n",
    "import geemap.chart as chart\n",
    "import os\n",
    "import folium"
   ]
  },
  {
   "cell_type": "markdown",
   "id": "1997eeb4",
   "metadata": {},
   "source": [
    "<img src=https://www.ecopaysen.cl/wp-content/uploads/2019/12/ecopaysen_marca_web.png>"
   ]
  },
  {
   "cell_type": "code",
   "execution_count": 2,
   "id": "fca49a56",
   "metadata": {
    "ExecuteTime": {
     "end_time": "2021-10-22T14:38:27.137201Z",
     "start_time": "2021-10-22T14:38:16.706707Z"
    }
   },
   "outputs": [],
   "source": [
    "Map = geemap.Map(center = [-45, -70], zoom = 4)\n",
    "Map2 = geemap.Map(center = [-45, -70], zoom = 4)\n",
    "Map3 = geemap.Map(center = [-45, -70], zoom = 4)\n",
    "Map4 = geemap.Map(center = [-45, -70], zoom = 4)\n",
    "Map5 = geemap.Map(center = [-45, -70], zoom = 4)\n",
    "Map6 = geemap.Map(center = [-45, -70], zoom = 4)\n",
    "Map7 = geemap.Map(center = [-45, -70], zoom = 4)\n",
    "Map8 = geemap.Map(center = [-45, -70], zoom = 4)\n",
    "Map9 = geemap.Map(center = [-45, -70], zoom = 4)\n",
    "Map10 = geemap.Map(center = [-45, -70], zoom = 4)"
   ]
  },
  {
   "cell_type": "markdown",
   "id": "f26fe1a2",
   "metadata": {},
   "source": [
    "## Área de Estudio"
   ]
  },
  {
   "cell_type": "code",
   "execution_count": 3,
   "id": "2aae613d",
   "metadata": {
    "ExecuteTime": {
     "end_time": "2021-10-22T14:38:29.820049Z",
     "start_time": "2021-10-22T14:38:27.138126Z"
    }
   },
   "outputs": [],
   "source": [
    "work_dir = os.path.expanduser('../../../Data/shapes/')\n",
    "patagonia = os.path.join(work_dir, 'corte.shp')\n",
    "patagonia_grande = geemap.shp_to_ee(patagonia)"
   ]
  },
  {
   "cell_type": "markdown",
   "id": "fa8e2fea",
   "metadata": {},
   "source": [
    "## Colors Bars"
   ]
  },
  {
   "cell_type": "code",
   "execution_count": 4,
   "id": "1efebd11",
   "metadata": {
    "ExecuteTime": {
     "end_time": "2021-10-22T14:38:31.005275Z",
     "start_time": "2021-10-22T14:38:29.822121Z"
    }
   },
   "outputs": [],
   "source": [
    "import geemap.colormaps as cm"
   ]
  },
  {
   "cell_type": "code",
   "execution_count": 5,
   "id": "d159d70f",
   "metadata": {
    "ExecuteTime": {
     "end_time": "2021-10-22T14:38:31.008087Z",
     "start_time": "2021-10-22T14:38:31.006451Z"
    }
   },
   "outputs": [],
   "source": [
    "# cm.palettes.terrain"
   ]
  },
  {
   "cell_type": "code",
   "execution_count": 6,
   "id": "fe999a91",
   "metadata": {
    "ExecuteTime": {
     "end_time": "2021-10-22T14:38:31.014916Z",
     "start_time": "2021-10-22T14:38:31.009555Z"
    }
   },
   "outputs": [],
   "source": [
    "color_ndvi = cm.palettes.ndvi"
   ]
  },
  {
   "cell_type": "code",
   "execution_count": 7,
   "id": "05fb282a",
   "metadata": {
    "ExecuteTime": {
     "end_time": "2021-10-22T14:38:31.019757Z",
     "start_time": "2021-10-22T14:38:31.016013Z"
    }
   },
   "outputs": [],
   "source": [
    "color_ndwi = cm.palettes.ndwi"
   ]
  },
  {
   "cell_type": "code",
   "execution_count": 8,
   "id": "68161910",
   "metadata": {
    "ExecuteTime": {
     "end_time": "2021-10-22T14:38:31.025286Z",
     "start_time": "2021-10-22T14:38:31.020984Z"
    }
   },
   "outputs": [],
   "source": [
    "color_terrain = cm.palettes.terrain"
   ]
  },
  {
   "cell_type": "code",
   "execution_count": 9,
   "id": "8e99245f",
   "metadata": {
    "ExecuteTime": {
     "end_time": "2021-10-22T14:38:31.031169Z",
     "start_time": "2021-10-22T14:38:31.026037Z"
    }
   },
   "outputs": [],
   "source": [
    "color_glaciar = cm.palettes.PuBuGn_r"
   ]
  },
  {
   "cell_type": "code",
   "execution_count": 10,
   "id": "92b8cf41",
   "metadata": {
    "ExecuteTime": {
     "end_time": "2021-10-22T14:38:31.036226Z",
     "start_time": "2021-10-22T14:38:31.032806Z"
    }
   },
   "outputs": [],
   "source": [
    "color_nubes = cm.palettes.inferno"
   ]
  },
  {
   "cell_type": "code",
   "execution_count": 11,
   "id": "39930741",
   "metadata": {
    "ExecuteTime": {
     "end_time": "2021-10-22T14:38:31.041885Z",
     "start_time": "2021-10-22T14:38:31.037403Z"
    }
   },
   "outputs": [],
   "source": [
    "# cm.list_colormaps()"
   ]
  },
  {
   "cell_type": "code",
   "execution_count": 12,
   "id": "0ce61cbe",
   "metadata": {
    "ExecuteTime": {
     "end_time": "2021-10-22T14:38:31.047361Z",
     "start_time": "2021-10-22T14:38:31.043140Z"
    }
   },
   "outputs": [],
   "source": [
    "# cm.plot_colormaps(width=12, height=0.4)"
   ]
  },
  {
   "cell_type": "markdown",
   "id": "11666045",
   "metadata": {},
   "source": [
    "## Funciones"
   ]
  },
  {
   "cell_type": "code",
   "execution_count": 13,
   "id": "166db170",
   "metadata": {
    "ExecuteTime": {
     "end_time": "2021-10-22T14:38:31.053177Z",
     "start_time": "2021-10-22T14:38:31.048382Z"
    }
   },
   "outputs": [],
   "source": [
    "def add_ee_layer(self, ee_image_object, vis_params, name):\n",
    "  map_id_dict = ee.Image(ee_image_object).getMapId(vis_params)\n",
    "  folium.raster_layers.TileLayer(\n",
    "      tiles=map_id_dict['tile_fetcher'].url_format,\n",
    "      attr='Map Data &copy; <a href=\"https://earthengine.google.com/\">Google Earth Engine</a>',\n",
    "      name=name,\n",
    "      overlay=True,\n",
    "      control=True\n",
    "  ).add_to(self)\n",
    "\n",
    "folium.Map.add_ee_layer = add_ee_layer"
   ]
  },
  {
   "cell_type": "code",
   "execution_count": 14,
   "id": "b9e1cdaf",
   "metadata": {
    "ExecuteTime": {
     "end_time": "2021-10-22T14:38:31.058395Z",
     "start_time": "2021-10-22T14:38:31.054354Z"
    }
   },
   "outputs": [],
   "source": [
    "def addNDVI(image): \n",
    "    ndvi = image.normalizedDifference(['B4', 'B3']).rename('B11')\n",
    "    return image.addBands(ndvi)"
   ]
  },
  {
   "cell_type": "code",
   "execution_count": 15,
   "id": "ad105a37",
   "metadata": {
    "ExecuteTime": {
     "end_time": "2021-10-22T14:38:31.062338Z",
     "start_time": "2021-10-22T14:38:31.059247Z"
    }
   },
   "outputs": [],
   "source": [
    "def addNDWI(image):\n",
    "    ndwi = image.normalizedDifference(['B2','B4']).rename('NDWI')\n",
    "    return image.addBands(ndwi)"
   ]
  },
  {
   "cell_type": "code",
   "execution_count": 16,
   "id": "afd5a921",
   "metadata": {
    "ExecuteTime": {
     "end_time": "2021-10-22T14:38:31.068183Z",
     "start_time": "2021-10-22T14:38:31.063317Z"
    }
   },
   "outputs": [],
   "source": [
    "def addNDGI(image):\n",
    "    ndgi = image.normalizedDifference(['B2','B3']).rename('NDGI')\n",
    "    return image.addBands(ndgi)"
   ]
  },
  {
   "cell_type": "code",
   "execution_count": 17,
   "id": "786770f8",
   "metadata": {
    "ExecuteTime": {
     "end_time": "2021-10-22T14:38:31.073934Z",
     "start_time": "2021-10-22T14:38:31.069484Z"
    }
   },
   "outputs": [],
   "source": [
    "def addSAVI(image):\n",
    "    savi = image.expression(\n",
    "        '((b4 - b3)/(b4 + b3 + 0.5))*1.5', {\n",
    "            'b3':image.select('B3'),\n",
    "            'b4':image.select('B4')\n",
    "        }) \n",
    "    savi= savi.rename('SAVI')\n",
    "    return image.addBands(savi)"
   ]
  },
  {
   "cell_type": "code",
   "execution_count": 18,
   "id": "cffb72aa",
   "metadata": {
    "ExecuteTime": {
     "end_time": "2021-10-22T14:38:31.079484Z",
     "start_time": "2021-10-22T14:38:31.075098Z"
    }
   },
   "outputs": [],
   "source": [
    "def addNDSI(image):\n",
    "    ndsi = image.normalizedDifference(['B2','B5']).rename('NDSI')\n",
    "    return image.addBands(ndsi)"
   ]
  },
  {
   "cell_type": "code",
   "execution_count": 19,
   "id": "4889cabe",
   "metadata": {
    "ExecuteTime": {
     "end_time": "2021-10-22T14:38:31.085001Z",
     "start_time": "2021-10-22T14:38:31.080633Z"
    }
   },
   "outputs": [],
   "source": [
    "def addDate(image):\n",
    "    img_date = ee.Date(image.date())\n",
    "    img_date = ee.Number.parse(img_date.format('YYYYMM'))\n",
    "    return image.addBands(ee.Image(img_date).rename('date').toInt())"
   ]
  },
  {
   "cell_type": "code",
   "execution_count": 20,
   "id": "6cd5fe3f",
   "metadata": {
    "ExecuteTime": {
     "end_time": "2021-10-22T14:38:31.091205Z",
     "start_time": "2021-10-22T14:38:31.086240Z"
    }
   },
   "outputs": [],
   "source": [
    "def Cloud40(image):\n",
    "    scored = ee.Algorithms.Landsat.simpleCloudScore(image)\n",
    "    return image.updateMask(scored.select(['cloud']).lt(40)) "
   ]
  },
  {
   "cell_type": "code",
   "execution_count": 21,
   "id": "3115c210",
   "metadata": {
    "ExecuteTime": {
     "end_time": "2021-10-22T14:38:31.096615Z",
     "start_time": "2021-10-22T14:38:31.092388Z"
    }
   },
   "outputs": [],
   "source": [
    "def Cloud30(image):\n",
    "    scored = ee.Algorithms.Landsat.simpleCloudScore(image)\n",
    "    return image.updateMask(scored.select(['cloud']).lt(30)) "
   ]
  },
  {
   "cell_type": "code",
   "execution_count": 22,
   "id": "f86cf507",
   "metadata": {
    "ExecuteTime": {
     "end_time": "2021-10-22T14:38:31.099642Z",
     "start_time": "2021-10-22T14:38:31.097808Z"
    }
   },
   "outputs": [],
   "source": [
    "def Cloud20(image):\n",
    "    scored = ee.Algorithms.Landsat.simpleCloudScore(image)\n",
    "    return image.updateMask(scored.select(['cloud']).lt(20)) "
   ]
  },
  {
   "cell_type": "code",
   "execution_count": 23,
   "id": "9d288b40",
   "metadata": {
    "ExecuteTime": {
     "end_time": "2021-10-22T14:38:31.102561Z",
     "start_time": "2021-10-22T14:38:31.100784Z"
    }
   },
   "outputs": [],
   "source": [
    "def Cloud10(image):\n",
    "    scored = ee.Algorithms.Landsat.simpleCloudScore(image)\n",
    "    return image.updateMask(scored.select(['cloud']).lt(10))"
   ]
  },
  {
   "cell_type": "code",
   "execution_count": 24,
   "id": "92d6ba1b",
   "metadata": {
    "ExecuteTime": {
     "end_time": "2021-10-22T14:38:31.105602Z",
     "start_time": "2021-10-22T14:38:31.103748Z"
    }
   },
   "outputs": [],
   "source": [
    "def addCloud(image):\n",
    "    nube = ee.Algorithms.Landsat.simpleCloudScore(image)\n",
    "    return image.addBands(ee.Image(nube.select(['cloud'])).rename('nube'))"
   ]
  },
  {
   "cell_type": "markdown",
   "id": "d9a442fb",
   "metadata": {},
   "source": [
    "## Colecciones"
   ]
  },
  {
   "cell_type": "markdown",
   "id": "93d1b620",
   "metadata": {},
   "source": [
    "### 1985"
   ]
  },
  {
   "cell_type": "code",
   "execution_count": 25,
   "id": "846c60d4",
   "metadata": {
    "ExecuteTime": {
     "end_time": "2021-10-22T14:38:31.108727Z",
     "start_time": "2021-10-22T14:38:31.106794Z"
    }
   },
   "outputs": [],
   "source": [
    "start_date = '1984-10-01'\n",
    "end_date = '1985-03-31'\n",
    "\n",
    "l5_1985 = ee.ImageCollection('LANDSAT/LT05/C01/T1_TOA') \\\n",
    "    .filterBounds(patagonia_grande) \\\n",
    "    .filterDate(start_date, end_date)"
   ]
  },
  {
   "cell_type": "code",
   "execution_count": 26,
   "id": "ee974e97",
   "metadata": {
    "ExecuteTime": {
     "end_time": "2021-10-22T14:38:31.112067Z",
     "start_time": "2021-10-22T14:38:31.109979Z"
    }
   },
   "outputs": [],
   "source": [
    "vizParams = {\n",
    "  'bands': ['B4', 'B3', 'B2'],\n",
    "  'min': 0,\n",
    "  'max': 0.5,\n",
    "  'gamma': [0.95, 1.1, 1]\n",
    "}"
   ]
  },
  {
   "cell_type": "code",
   "execution_count": 27,
   "id": "215db372",
   "metadata": {
    "ExecuteTime": {
     "end_time": "2021-10-22T14:38:31.115060Z",
     "start_time": "2021-10-22T14:38:31.113315Z"
    }
   },
   "outputs": [],
   "source": [
    "vis_nieve = {\n",
    "  'bands': ['B5', 'B3', 'B2'],\n",
    "  'min': 0,\n",
    "  'max': 0.5,\n",
    "  'gamma': [0.95, 1.1, 1]\n",
    "}"
   ]
  },
  {
   "cell_type": "code",
   "execution_count": 28,
   "id": "d2d69a69",
   "metadata": {
    "ExecuteTime": {
     "end_time": "2021-10-22T14:38:31.122468Z",
     "start_time": "2021-10-22T14:38:31.118001Z"
    }
   },
   "outputs": [],
   "source": [
    "coleccion1985 = l5_1985.map(addNDVI).map(addNDWI).map(addNDGI).map(addSAVI).map(addNDSI).map(addDate).map(addCloud)"
   ]
  },
  {
   "cell_type": "code",
   "execution_count": 29,
   "id": "787bf341",
   "metadata": {
    "ExecuteTime": {
     "end_time": "2021-10-22T14:38:31.125591Z",
     "start_time": "2021-10-22T14:38:31.123438Z"
    }
   },
   "outputs": [],
   "source": [
    "QM_NDVI_1985 = coleccion1985.qualityMosaic('B11') # Normalized difference vegetation Index\n",
    "QM_NDWI_1985 = coleccion1985.qualityMosaic('NDWI') # Normalize difference water index\n",
    "QM_SAVI_1985 = coleccion1985.qualityMosaic('SAVI') # Soil Adjusted Vegetation Index \n",
    "QM_NDGI_1985 = coleccion1985.qualityMosaic('NDGI') # Normalized difference glacier index\n",
    "QM_NDSI_1985 = coleccion1985.qualityMosaic('NDSI') # Normalized difference snow index"
   ]
  },
  {
   "cell_type": "code",
   "execution_count": 30,
   "id": "f6d3a89c",
   "metadata": {
    "ExecuteTime": {
     "end_time": "2021-10-22T14:38:33.806537Z",
     "start_time": "2021-10-22T14:38:31.126593Z"
    }
   },
   "outputs": [
    {
     "data": {
      "application/vnd.jupyter.widget-view+json": {
       "model_id": "cc11184e6f6841ce85dc4092c5e5cf74",
       "version_major": 2,
       "version_minor": 0
      },
      "text/plain": [
       "Map(center=[-45, -70], controls=(WidgetControl(options=['position', 'transparent_bg'], widget=HBox(children=(T…"
      ]
     },
     "metadata": {},
     "output_type": "display_data"
    }
   ],
   "source": [
    "Map.addLayer(QM_NDVI_1985, vizParams, 'QM de NDVI 1985')\n",
    "Map.addLayer(QM_NDWI_1985, vizParams, 'QM de NDWI 1985')\n",
    "Map.addLayer(QM_SAVI_1985, vizParams, 'QM de SAVI 1985')\n",
    "Map.addLayer(QM_NDGI_1985, vis_nieve, 'QM de NDGI 1985')\n",
    "Map.addLayer(QM_NDSI_1985, vis_nieve, 'QM de NDSI 1985')\n",
    "Map "
   ]
  },
  {
   "cell_type": "code",
   "execution_count": 31,
   "id": "3e82cc9a",
   "metadata": {
    "ExecuteTime": {
     "end_time": "2021-10-22T14:38:33.810156Z",
     "start_time": "2021-10-22T14:38:33.807496Z"
    }
   },
   "outputs": [],
   "source": [
    "c1985_sn = coleccion1985.map(Cloud20)\n",
    "NDVI_1985_sn = c1985_sn.qualityMosaic('B11')\n",
    "NDWI_1985_sn = c1985_sn.qualityMosaic('NDWI')\n",
    "SAVI_1985_sn = c1985_sn.qualityMosaic('SAVI')\n",
    "NDGI_1985_sn = c1985_sn.qualityMosaic('NDGI')\n",
    "NDSI_1985_sn = c1985_sn.qualityMosaic('NDSI')"
   ]
  },
  {
   "cell_type": "code",
   "execution_count": 32,
   "id": "c6117665",
   "metadata": {
    "ExecuteTime": {
     "end_time": "2021-10-22T14:38:36.429219Z",
     "start_time": "2021-10-22T14:38:33.810944Z"
    }
   },
   "outputs": [],
   "source": [
    "Map2.addLayer(NDVI_1985_sn, vizParams, 'QMsn de NDVI 1985')\n",
    "Map2.addLayer(NDWI_1985_sn, vizParams, 'QMsn de NDWI 1985')\n",
    "Map2.addLayer(SAVI_1985_sn, vizParams, 'QMsn de SAVI 1985')\n",
    "Map2.addLayer(NDGI_1985_sn, vis_nieve, 'QMsn de NDGI 1985')\n",
    "Map2.addLayer(NDSI_1985_sn, vis_nieve, 'QMsn de NDSI 1985')\n",
    "# Map2"
   ]
  },
  {
   "cell_type": "markdown",
   "id": "ccec25b0",
   "metadata": {},
   "source": [
    "### 1986"
   ]
  },
  {
   "cell_type": "code",
   "execution_count": 33,
   "id": "ef53f13a",
   "metadata": {
    "ExecuteTime": {
     "end_time": "2021-10-22T14:38:36.432194Z",
     "start_time": "2021-10-22T14:38:36.430250Z"
    }
   },
   "outputs": [],
   "source": [
    "start_date = '1985-10-01'\n",
    "end_date = '1986-03-31'\n",
    "\n",
    "l5_1986 = ee.ImageCollection('LANDSAT/LT05/C01/T1_TOA') \\\n",
    "    .filterBounds(patagonia_grande) \\\n",
    "    .filterDate(start_date, end_date)"
   ]
  },
  {
   "cell_type": "code",
   "execution_count": 34,
   "id": "06a293d6",
   "metadata": {
    "ExecuteTime": {
     "end_time": "2021-10-22T14:38:36.437723Z",
     "start_time": "2021-10-22T14:38:36.433167Z"
    }
   },
   "outputs": [],
   "source": [
    "coleccion1986 = l5_1986.map(addNDVI).map(addNDWI).map(addNDGI).map(addSAVI).map(addNDSI).map(addDate).map(addCloud)"
   ]
  },
  {
   "cell_type": "code",
   "execution_count": 35,
   "id": "f724bb1b",
   "metadata": {
    "ExecuteTime": {
     "end_time": "2021-10-22T14:38:36.441065Z",
     "start_time": "2021-10-22T14:38:36.439013Z"
    }
   },
   "outputs": [],
   "source": [
    "QM_NDVI_1986 = coleccion1986.qualityMosaic('B11') # Normalized difference vegetation Index\n",
    "QM_NDWI_1986 = coleccion1986.qualityMosaic('NDWI') # Normalize difference water index\n",
    "QM_SAVI_1986 = coleccion1986.qualityMosaic('SAVI') # Soil Adjusted Vegetation Index \n",
    "QM_NDGI_1986 = coleccion1986.qualityMosaic('NDGI') # Normalized difference glacier index\n",
    "QM_NDSI_1986 = coleccion1986.qualityMosaic('NDSI') # Normalized difference snow index"
   ]
  },
  {
   "cell_type": "code",
   "execution_count": 36,
   "id": "6c001bbc",
   "metadata": {
    "ExecuteTime": {
     "end_time": "2021-10-22T14:38:38.864098Z",
     "start_time": "2021-10-22T14:38:36.442314Z"
    }
   },
   "outputs": [
    {
     "data": {
      "application/vnd.jupyter.widget-view+json": {
       "model_id": "cc11184e6f6841ce85dc4092c5e5cf74",
       "version_major": 2,
       "version_minor": 0
      },
      "text/plain": [
       "Map(center=[-45, -70], controls=(WidgetControl(options=['position', 'transparent_bg'], widget=HBox(children=(T…"
      ]
     },
     "metadata": {},
     "output_type": "display_data"
    }
   ],
   "source": [
    "Map.addLayer(QM_NDVI_1986, vizParams, 'QM de NDVI 1986')\n",
    "Map.addLayer(QM_NDWI_1986, vizParams, 'QM de NDWI 1986')\n",
    "Map.addLayer(QM_SAVI_1986, vizParams, 'QM de SAVI 1986')\n",
    "Map.addLayer(QM_NDGI_1986, vis_nieve, 'QM de NDGI 1986')\n",
    "Map.addLayer(QM_NDSI_1986, vis_nieve, 'QM de NDSI 1986')\n",
    "Map "
   ]
  },
  {
   "cell_type": "code",
   "execution_count": 37,
   "id": "06eebe04",
   "metadata": {
    "ExecuteTime": {
     "end_time": "2021-10-22T14:38:38.867566Z",
     "start_time": "2021-10-22T14:38:38.865107Z"
    }
   },
   "outputs": [],
   "source": [
    "c1986_sn = coleccion1986.map(Cloud20)\n",
    "NDVI_1986_sn = c1986_sn.qualityMosaic('B11')\n",
    "NDWI_1986_sn = c1986_sn.qualityMosaic('NDWI')\n",
    "SAVI_1986_sn = c1986_sn.qualityMosaic('SAVI')\n",
    "NDGI_1986_sn = c1986_sn.qualityMosaic('NDGI')\n",
    "NDSI_1986_sn = c1986_sn.qualityMosaic('NDSI')"
   ]
  },
  {
   "cell_type": "code",
   "execution_count": 38,
   "id": "7121bf75",
   "metadata": {
    "ExecuteTime": {
     "end_time": "2021-10-22T14:38:41.369034Z",
     "start_time": "2021-10-22T14:38:38.868326Z"
    }
   },
   "outputs": [],
   "source": [
    "Map2.addLayer(NDVI_1986_sn, vizParams, 'QMsn de NDVI 1986')\n",
    "Map2.addLayer(NDWI_1986_sn, vizParams, 'QMsn de NDWI 1986')\n",
    "Map2.addLayer(SAVI_1986_sn, vizParams, 'QMsn de SAVI 1986')\n",
    "Map2.addLayer(NDGI_1986_sn, vis_nieve, 'QMsn de NDGI 1986')\n",
    "Map2.addLayer(NDSI_1986_sn, vis_nieve, 'QMsn de NDSI 1986')\n",
    "# Map2"
   ]
  },
  {
   "cell_type": "markdown",
   "id": "b1fff37f",
   "metadata": {},
   "source": [
    "### 1987"
   ]
  },
  {
   "cell_type": "code",
   "execution_count": 39,
   "id": "ed8a2ed2",
   "metadata": {
    "ExecuteTime": {
     "end_time": "2021-10-22T14:38:41.372117Z",
     "start_time": "2021-10-22T14:38:41.370108Z"
    }
   },
   "outputs": [],
   "source": [
    "start_date = '1986-10-01'\n",
    "end_date = '1987-03-31'\n",
    "\n",
    "l5_1987 = ee.ImageCollection('LANDSAT/LT05/C01/T1_TOA') \\\n",
    "    .filterBounds(patagonia_grande) \\\n",
    "    .filterDate(start_date, end_date)"
   ]
  },
  {
   "cell_type": "code",
   "execution_count": 40,
   "id": "ac158dd0",
   "metadata": {
    "ExecuteTime": {
     "end_time": "2021-10-22T14:38:41.378143Z",
     "start_time": "2021-10-22T14:38:41.373056Z"
    }
   },
   "outputs": [],
   "source": [
    "coleccion1987 = l5_1987.map(addNDVI).map(addNDWI).map(addNDGI).map(addSAVI).map(addNDSI).map(addDate).map(addCloud)"
   ]
  },
  {
   "cell_type": "code",
   "execution_count": 41,
   "id": "531b33cd",
   "metadata": {
    "ExecuteTime": {
     "end_time": "2021-10-22T14:38:41.381304Z",
     "start_time": "2021-10-22T14:38:41.379063Z"
    }
   },
   "outputs": [],
   "source": [
    "QM_NDVI_1987 = coleccion1987.qualityMosaic('B11') # Normalized difference vegetation Index\n",
    "QM_NDWI_1987 = coleccion1987.qualityMosaic('NDWI') # Normalize difference water index\n",
    "QM_SAVI_1987 = coleccion1987.qualityMosaic('SAVI') # Soil Adjusted Vegetation Index \n",
    "QM_NDGI_1987 = coleccion1987.qualityMosaic('NDGI') # Normalized difference glacier index\n",
    "QM_NDSI_1987 = coleccion1987.qualityMosaic('NDSI') # Normalized difference snow index"
   ]
  },
  {
   "cell_type": "code",
   "execution_count": 42,
   "id": "22b9a628",
   "metadata": {
    "ExecuteTime": {
     "end_time": "2021-10-22T14:38:43.898923Z",
     "start_time": "2021-10-22T14:38:41.382308Z"
    }
   },
   "outputs": [
    {
     "data": {
      "application/vnd.jupyter.widget-view+json": {
       "model_id": "524a36128775405682f4566f373b19b4",
       "version_major": 2,
       "version_minor": 0
      },
      "text/plain": [
       "Map(center=[-45, -70], controls=(WidgetControl(options=['position', 'transparent_bg'], widget=HBox(children=(T…"
      ]
     },
     "metadata": {},
     "output_type": "display_data"
    }
   ],
   "source": [
    "Map3.addLayer(QM_NDVI_1987, vizParams, 'QM de NDVI 1987')\n",
    "Map3.addLayer(QM_NDWI_1987, vizParams, 'QM de NDWI 1987')\n",
    "Map3.addLayer(QM_SAVI_1987, vizParams, 'QM de SAVI 1987')\n",
    "Map3.addLayer(QM_NDGI_1987, vis_nieve, 'QM de NDGI 1987')\n",
    "Map3.addLayer(QM_NDSI_1987, vis_nieve, 'QM de NDSI 1987')\n",
    "Map3"
   ]
  },
  {
   "cell_type": "code",
   "execution_count": 43,
   "id": "37413530",
   "metadata": {
    "ExecuteTime": {
     "end_time": "2021-10-22T14:38:43.902607Z",
     "start_time": "2021-10-22T14:38:43.899907Z"
    }
   },
   "outputs": [],
   "source": [
    "c1987_sn = coleccion1987.map(Cloud20)\n",
    "NDVI_1987_sn = c1987_sn.qualityMosaic('B11')\n",
    "NDWI_1987_sn = c1987_sn.qualityMosaic('NDWI')\n",
    "SAVI_1987_sn = c1987_sn.qualityMosaic('SAVI')\n",
    "NDGI_1987_sn = c1987_sn.qualityMosaic('NDGI')\n",
    "NDSI_1987_sn = c1987_sn.qualityMosaic('NDSI')"
   ]
  },
  {
   "cell_type": "code",
   "execution_count": 44,
   "id": "ee1a2de2",
   "metadata": {
    "ExecuteTime": {
     "end_time": "2021-10-22T14:38:46.437451Z",
     "start_time": "2021-10-22T14:38:43.903561Z"
    }
   },
   "outputs": [
    {
     "data": {
      "application/vnd.jupyter.widget-view+json": {
       "model_id": "e2b1cf77c4324fafbb4a2ab2c2845319",
       "version_major": 2,
       "version_minor": 0
      },
      "text/plain": [
       "Map(center=[-45, -70], controls=(WidgetControl(options=['position', 'transparent_bg'], widget=HBox(children=(T…"
      ]
     },
     "metadata": {},
     "output_type": "display_data"
    }
   ],
   "source": [
    "Map4.addLayer(NDVI_1987_sn, vizParams, 'QMsn de NDVI 1987')\n",
    "Map4.addLayer(NDWI_1987_sn, vizParams, 'QMsn de NDWI 1987')\n",
    "Map4.addLayer(SAVI_1987_sn, vizParams, 'QMsn de SAVI 1987')\n",
    "Map4.addLayer(NDGI_1987_sn, vis_nieve, 'QMsn de NDGI 1987')\n",
    "Map4.addLayer(NDSI_1987_sn, vis_nieve, 'QMsn de NDSI 1987')\n",
    "Map4"
   ]
  },
  {
   "cell_type": "markdown",
   "id": "d9e7e175",
   "metadata": {},
   "source": [
    "### 1988"
   ]
  },
  {
   "cell_type": "code",
   "execution_count": 45,
   "id": "80911c97",
   "metadata": {
    "ExecuteTime": {
     "end_time": "2021-10-22T14:38:46.440322Z",
     "start_time": "2021-10-22T14:38:46.438353Z"
    }
   },
   "outputs": [],
   "source": [
    "start_date = '1987-10-01'\n",
    "end_date = '1988-03-31'\n",
    "\n",
    "l5_1988 = ee.ImageCollection('LANDSAT/LT05/C01/T1_TOA') \\\n",
    "    .filterBounds(patagonia_grande) \\\n",
    "    .filterDate(start_date, end_date)"
   ]
  },
  {
   "cell_type": "code",
   "execution_count": 46,
   "id": "596d9609",
   "metadata": {
    "ExecuteTime": {
     "end_time": "2021-10-22T14:38:46.445210Z",
     "start_time": "2021-10-22T14:38:46.441190Z"
    }
   },
   "outputs": [],
   "source": [
    "coleccion1988 = l5_1988.map(addNDVI).map(addNDWI).map(addNDGI).map(addSAVI).map(addNDSI).map(addDate).map(addCloud)"
   ]
  },
  {
   "cell_type": "code",
   "execution_count": 47,
   "id": "67b699eb",
   "metadata": {
    "ExecuteTime": {
     "end_time": "2021-10-22T14:38:46.448541Z",
     "start_time": "2021-10-22T14:38:46.446297Z"
    }
   },
   "outputs": [],
   "source": [
    "QM_NDVI_1988 = coleccion1988.qualityMosaic('B11') # Normalized difference vegetation Index\n",
    "QM_NDWI_1988 = coleccion1988.qualityMosaic('NDWI') # Normalize difference water index\n",
    "QM_SAVI_1988 = coleccion1988.qualityMosaic('SAVI') # Soil Adjusted Vegetation Index \n",
    "QM_NDGI_1988 = coleccion1988.qualityMosaic('NDGI') # Normalized difference glacier index\n",
    "QM_NDSI_1988 = coleccion1988.qualityMosaic('NDSI') # Normalized difference snow index"
   ]
  },
  {
   "cell_type": "code",
   "execution_count": 48,
   "id": "2698dd26",
   "metadata": {
    "ExecuteTime": {
     "end_time": "2021-10-22T14:38:49.224179Z",
     "start_time": "2021-10-22T14:38:46.449691Z"
    }
   },
   "outputs": [
    {
     "data": {
      "application/vnd.jupyter.widget-view+json": {
       "model_id": "524a36128775405682f4566f373b19b4",
       "version_major": 2,
       "version_minor": 0
      },
      "text/plain": [
       "Map(center=[-45, -70], controls=(WidgetControl(options=['position', 'transparent_bg'], widget=HBox(children=(T…"
      ]
     },
     "metadata": {},
     "output_type": "display_data"
    }
   ],
   "source": [
    "Map3.addLayer(QM_NDVI_1988, vizParams, 'QM de NDVI 1988')\n",
    "Map3.addLayer(QM_NDWI_1988, vizParams, 'QM de NDWI 1988')\n",
    "Map3.addLayer(QM_SAVI_1988, vizParams, 'QM de SAVI 1988')\n",
    "Map3.addLayer(QM_NDGI_1988, vis_nieve, 'QM de NDGI 1988')\n",
    "Map3.addLayer(QM_NDSI_1988, vis_nieve, 'QM de NDSI 1988')\n",
    "Map3"
   ]
  },
  {
   "cell_type": "code",
   "execution_count": 49,
   "id": "ff28e9e5",
   "metadata": {
    "ExecuteTime": {
     "end_time": "2021-10-22T14:38:49.227768Z",
     "start_time": "2021-10-22T14:38:49.225175Z"
    }
   },
   "outputs": [],
   "source": [
    "c1988_sn = coleccion1988.map(Cloud20)\n",
    "NDVI_1988_sn = c1988_sn.qualityMosaic('B11')\n",
    "NDWI_1988_sn = c1988_sn.qualityMosaic('NDWI')\n",
    "SAVI_1988_sn = c1988_sn.qualityMosaic('SAVI')\n",
    "NDGI_1988_sn = c1988_sn.qualityMosaic('NDGI')\n",
    "NDSI_1988_sn = c1988_sn.qualityMosaic('NDSI')"
   ]
  },
  {
   "cell_type": "code",
   "execution_count": 50,
   "id": "56dedb0c",
   "metadata": {
    "ExecuteTime": {
     "end_time": "2021-10-22T14:38:51.885053Z",
     "start_time": "2021-10-22T14:38:49.228757Z"
    }
   },
   "outputs": [],
   "source": [
    "Map4.addLayer(NDVI_1988_sn, vizParams, 'QMsn de NDVI 1988')\n",
    "Map4.addLayer(NDWI_1988_sn, vizParams, 'QMsn de NDWI 1988')\n",
    "Map4.addLayer(SAVI_1988_sn, vizParams, 'QMsn de SAVI 1988')\n",
    "Map4.addLayer(NDGI_1988_sn, vis_nieve, 'QMsn de NDGI 1988')\n",
    "Map4.addLayer(NDSI_1988_sn, vis_nieve, 'QMsn de NDSI 1988')\n",
    "# Map4"
   ]
  },
  {
   "cell_type": "markdown",
   "id": "19f59336",
   "metadata": {},
   "source": [
    "### 1989"
   ]
  },
  {
   "cell_type": "code",
   "execution_count": 51,
   "id": "2d8f44b8",
   "metadata": {
    "ExecuteTime": {
     "end_time": "2021-10-22T14:38:51.888164Z",
     "start_time": "2021-10-22T14:38:51.886219Z"
    }
   },
   "outputs": [],
   "source": [
    "start_date = '1988-10-01'\n",
    "end_date = '1989-03-31'\n",
    "\n",
    "l5_1989 = ee.ImageCollection('LANDSAT/LT05/C01/T1_TOA') \\\n",
    "    .filterBounds(patagonia_grande) \\\n",
    "    .filterDate(start_date, end_date)"
   ]
  },
  {
   "cell_type": "code",
   "execution_count": 52,
   "id": "e5f94824",
   "metadata": {
    "ExecuteTime": {
     "end_time": "2021-10-22T14:38:51.893145Z",
     "start_time": "2021-10-22T14:38:51.889120Z"
    }
   },
   "outputs": [],
   "source": [
    "coleccion1989 = l5_1989.map(addNDVI).map(addNDWI).map(addNDGI).map(addSAVI).map(addNDSI).map(addDate).map(addCloud)"
   ]
  },
  {
   "cell_type": "code",
   "execution_count": 53,
   "id": "452d3007",
   "metadata": {
    "ExecuteTime": {
     "end_time": "2021-10-22T14:38:51.896509Z",
     "start_time": "2021-10-22T14:38:51.894479Z"
    }
   },
   "outputs": [],
   "source": [
    "QM_NDVI_1989 = coleccion1989.qualityMosaic('B11') # Normalized difference vegetation Index\n",
    "QM_NDWI_1989 = coleccion1989.qualityMosaic('NDWI') # Normalize difference water index\n",
    "QM_SAVI_1989 = coleccion1989.qualityMosaic('SAVI') # Soil Adjusted Vegetation Index \n",
    "QM_NDGI_1989 = coleccion1989.qualityMosaic('NDGI') # Normalized difference glacier index\n",
    "QM_NDSI_1989 = coleccion1989.qualityMosaic('NDSI') # Normalized difference snow index"
   ]
  },
  {
   "cell_type": "code",
   "execution_count": 54,
   "id": "cf1389b6",
   "metadata": {
    "ExecuteTime": {
     "end_time": "2021-10-22T14:38:54.450604Z",
     "start_time": "2021-10-22T14:38:51.897620Z"
    }
   },
   "outputs": [
    {
     "data": {
      "application/vnd.jupyter.widget-view+json": {
       "model_id": "2d7beb10c2644bdfa7b518a34bc83cd9",
       "version_major": 2,
       "version_minor": 0
      },
      "text/plain": [
       "Map(center=[-45, -70], controls=(WidgetControl(options=['position', 'transparent_bg'], widget=HBox(children=(T…"
      ]
     },
     "metadata": {},
     "output_type": "display_data"
    }
   ],
   "source": [
    "Map5.addLayer(QM_NDVI_1989, vizParams, 'QM de NDVI 1989')\n",
    "Map5.addLayer(QM_NDWI_1989, vizParams, 'QM de NDWI 1989')\n",
    "Map5.addLayer(QM_SAVI_1989, vizParams, 'QM de SAVI 1989')\n",
    "Map5.addLayer(QM_NDGI_1989, vis_nieve, 'QM de NDGI 1989')\n",
    "Map5.addLayer(QM_NDSI_1989, vis_nieve, 'QM de NDSI 1989')\n",
    "Map5"
   ]
  },
  {
   "cell_type": "code",
   "execution_count": 55,
   "id": "6a7d5ff4",
   "metadata": {
    "ExecuteTime": {
     "end_time": "2021-10-22T14:38:54.454161Z",
     "start_time": "2021-10-22T14:38:54.451609Z"
    }
   },
   "outputs": [],
   "source": [
    "c1989_sn = coleccion1989.map(Cloud20)\n",
    "NDVI_1989_sn = c1989_sn.qualityMosaic('B11')\n",
    "NDWI_1989_sn = c1989_sn.qualityMosaic('NDWI')\n",
    "SAVI_1989_sn = c1989_sn.qualityMosaic('SAVI')\n",
    "NDGI_1989_sn = c1989_sn.qualityMosaic('NDGI')\n",
    "NDSI_1989_sn = c1989_sn.qualityMosaic('NDSI')"
   ]
  },
  {
   "cell_type": "code",
   "execution_count": 56,
   "id": "ec851683",
   "metadata": {
    "ExecuteTime": {
     "end_time": "2021-10-22T14:38:57.181111Z",
     "start_time": "2021-10-22T14:38:54.455014Z"
    }
   },
   "outputs": [],
   "source": [
    "Map6.addLayer(NDVI_1989_sn, vizParams, 'QMsn de NDVI 1989')\n",
    "Map6.addLayer(NDWI_1989_sn, vizParams, 'QMsn de NDWI 1989')\n",
    "Map6.addLayer(SAVI_1989_sn, vizParams, 'QMsn de SAVI 1989')\n",
    "Map6.addLayer(NDGI_1989_sn, vis_nieve, 'QMsn de NDGI 1989')\n",
    "Map6.addLayer(NDSI_1989_sn, vis_nieve, 'QMsn de NDSI 1989')\n",
    "# Map6"
   ]
  },
  {
   "cell_type": "markdown",
   "id": "e5a72c8e",
   "metadata": {},
   "source": [
    "### Colección agua"
   ]
  },
  {
   "cell_type": "code",
   "execution_count": 57,
   "id": "cad6736b",
   "metadata": {
    "ExecuteTime": {
     "end_time": "2021-10-22T14:38:57.183988Z",
     "start_time": "2021-10-22T14:38:57.182107Z"
    }
   },
   "outputs": [],
   "source": [
    "start_date = '1984-10-01'\n",
    "end_date = '1989-03-31'\n",
    "\n",
    "l5_sur = ee.ImageCollection('LANDSAT/LT05/C01/T1_TOA') \\\n",
    "    .filterBounds(patagonia_grande) \\\n",
    "    .filterDate(start_date, end_date)"
   ]
  },
  {
   "cell_type": "code",
   "execution_count": 58,
   "id": "bc193767",
   "metadata": {
    "ExecuteTime": {
     "end_time": "2021-10-22T14:38:57.189857Z",
     "start_time": "2021-10-22T14:38:57.184743Z"
    }
   },
   "outputs": [],
   "source": [
    "coleccionsur = l5_sur.map(addNDVI).map(addNDWI).map(addNDGI).map(addSAVI).map(addNDSI).map(addDate).map(addCloud)"
   ]
  },
  {
   "cell_type": "code",
   "execution_count": 59,
   "id": "6febb595",
   "metadata": {
    "ExecuteTime": {
     "end_time": "2021-10-22T14:38:57.192925Z",
     "start_time": "2021-10-22T14:38:57.191029Z"
    }
   },
   "outputs": [],
   "source": [
    "QM_NDVI_sur = coleccionsur.qualityMosaic('B11') # Normalized difference vegetation Index\n",
    "QM_NDWI_sur = coleccionsur.qualityMosaic('NDWI') # Normalize difference water index\n",
    "QM_SAVI_sur = coleccionsur.qualityMosaic('SAVI') # Soil Adjusted Vegetation Index \n",
    "QM_NDGI_sur = coleccionsur.qualityMosaic('NDGI') # Normalized difference glacier index\n",
    "QM_NDSI_sur = coleccionsur.qualityMosaic('NDSI') # Normalized difference snow index"
   ]
  },
  {
   "cell_type": "code",
   "execution_count": 60,
   "id": "bdf65d2d",
   "metadata": {
    "ExecuteTime": {
     "end_time": "2021-10-22T14:38:59.674768Z",
     "start_time": "2021-10-22T14:38:57.193804Z"
    }
   },
   "outputs": [
    {
     "data": {
      "application/vnd.jupyter.widget-view+json": {
       "model_id": "2d7beb10c2644bdfa7b518a34bc83cd9",
       "version_major": 2,
       "version_minor": 0
      },
      "text/plain": [
       "Map(center=[-45, -70], controls=(WidgetControl(options=['position', 'transparent_bg'], widget=HBox(children=(T…"
      ]
     },
     "metadata": {},
     "output_type": "display_data"
    }
   ],
   "source": [
    "Map5.addLayer(QM_NDVI_sur, vizParams, 'QM de NDVI sur')\n",
    "Map5.addLayer(QM_NDWI_sur, vizParams, 'QM de NDWI sur')\n",
    "Map5.addLayer(QM_SAVI_sur, vizParams, 'QM de SAVI sur')\n",
    "Map5.addLayer(QM_NDGI_sur, vis_nieve, 'QM de NDGI sur')\n",
    "Map5.addLayer(QM_NDSI_sur, vis_nieve, 'QM de NDSI sur')\n",
    "Map5"
   ]
  },
  {
   "cell_type": "code",
   "execution_count": 61,
   "id": "31ce5716",
   "metadata": {
    "ExecuteTime": {
     "end_time": "2021-10-22T14:38:59.678472Z",
     "start_time": "2021-10-22T14:38:59.675723Z"
    }
   },
   "outputs": [],
   "source": [
    "csur_sn = coleccionsur.map(Cloud20)\n",
    "NDVI_sur_sn = csur_sn.qualityMosaic('B11')\n",
    "NDWI_sur_sn = csur_sn.qualityMosaic('NDWI')\n",
    "SAVI_sur_sn = csur_sn.qualityMosaic('SAVI')\n",
    "NDGI_sur_sn = csur_sn.qualityMosaic('NDGI')\n",
    "NDSI_sur_sn = csur_sn.qualityMosaic('NDSI')"
   ]
  },
  {
   "cell_type": "code",
   "execution_count": 62,
   "id": "c16abbc8",
   "metadata": {
    "ExecuteTime": {
     "end_time": "2021-10-22T14:39:02.333373Z",
     "start_time": "2021-10-22T14:38:59.679346Z"
    }
   },
   "outputs": [],
   "source": [
    "Map6.addLayer(NDVI_sur_sn, vizParams, 'QMsn de NDVI sur')\n",
    "Map6.addLayer(NDWI_sur_sn, vizParams, 'QMsn de NDWI sur')\n",
    "Map6.addLayer(SAVI_sur_sn, vizParams, 'QMsn de SAVI sur')\n",
    "Map6.addLayer(NDGI_sur_sn, vis_nieve, 'QMsn de NDGI sur')\n",
    "Map6.addLayer(NDSI_sur_sn, vis_nieve, 'QMsn de NDSI sur')\n",
    "# Map6"
   ]
  },
  {
   "cell_type": "markdown",
   "id": "4f917302",
   "metadata": {},
   "source": [
    "### 1985 - 1989"
   ]
  },
  {
   "cell_type": "code",
   "execution_count": 63,
   "id": "e1011410",
   "metadata": {
    "ExecuteTime": {
     "end_time": "2021-10-22T14:39:02.336563Z",
     "start_time": "2021-10-22T14:39:02.334413Z"
    }
   },
   "outputs": [],
   "source": [
    "coleccion1985_1989 = ee.ImageCollection(l5_1989.merge(l5_1988).merge(l5_1987).merge(l5_1986).merge(l5_1985))"
   ]
  },
  {
   "cell_type": "code",
   "execution_count": 64,
   "id": "ffa5b510",
   "metadata": {
    "ExecuteTime": {
     "end_time": "2021-10-22T14:39:02.341570Z",
     "start_time": "2021-10-22T14:39:02.337506Z"
    }
   },
   "outputs": [],
   "source": [
    "l5_summer = coleccion1985_1989.map(addNDVI).map(addNDWI).map(addNDGI).map(addSAVI).map(addNDSI).map(addDate).map(addCloud)"
   ]
  },
  {
   "cell_type": "markdown",
   "id": "591b29d0",
   "metadata": {},
   "source": [
    "### Tier 1"
   ]
  },
  {
   "cell_type": "code",
   "execution_count": 65,
   "id": "8de79d7e",
   "metadata": {
    "ExecuteTime": {
     "end_time": "2021-10-22T14:39:02.344827Z",
     "start_time": "2021-10-22T14:39:02.342986Z"
    }
   },
   "outputs": [],
   "source": [
    "Tier1_sn = l5_summer.map(Cloud10)"
   ]
  },
  {
   "cell_type": "code",
   "execution_count": 66,
   "id": "600011a3",
   "metadata": {
    "ExecuteTime": {
     "end_time": "2021-10-22T14:39:02.348059Z",
     "start_time": "2021-10-22T14:39:02.346005Z"
    }
   },
   "outputs": [],
   "source": [
    "QM_NDVI_T1 = Tier1_sn.qualityMosaic('B11')# Normalized difference vegetation Index\n",
    "QM_NDWI_T1 = Tier1_sn.qualityMosaic('NDWI') # Normalize difference water index\n",
    "QM_SAVI_T1 = Tier1_sn.qualityMosaic('SAVI') # Soil Adjusted Vegetation Index \n",
    "QM_NDGI_T1 = Tier1_sn.qualityMosaic('NDGI') # Normalized difference glacier index\n",
    "QM_NDSI_T1 = Tier1_sn.qualityMosaic('NDSI') # Normalized difference snow index"
   ]
  },
  {
   "cell_type": "code",
   "execution_count": null,
   "id": "188fe3c3",
   "metadata": {},
   "outputs": [],
   "source": []
  },
  {
   "cell_type": "markdown",
   "id": "d2bb443e",
   "metadata": {},
   "source": [
    "### Tier 2"
   ]
  },
  {
   "cell_type": "code",
   "execution_count": 67,
   "id": "93d0c639",
   "metadata": {
    "ExecuteTime": {
     "end_time": "2021-10-22T14:39:02.350943Z",
     "start_time": "2021-10-22T14:39:02.349178Z"
    }
   },
   "outputs": [],
   "source": [
    "Tier2_sn = l5_summer.map(Cloud20)"
   ]
  },
  {
   "cell_type": "code",
   "execution_count": 68,
   "id": "1f18e9d2",
   "metadata": {
    "ExecuteTime": {
     "end_time": "2021-10-22T14:39:02.353808Z",
     "start_time": "2021-10-22T14:39:02.351976Z"
    }
   },
   "outputs": [],
   "source": [
    "QM_NDVI_T2 = Tier2_sn.qualityMosaic('B11')# Normalized difference vegetation Index\n",
    "QM_NDWI_T2 = Tier2_sn.qualityMosaic('NDWI') # Normalize difference water index\n",
    "QM_SAVI_T2 = Tier2_sn.qualityMosaic('SAVI') # Soil Adjusted Vegetation Index \n",
    "QM_NDGI_T2 = Tier2_sn.qualityMosaic('NDGI') # Normalized difference glacier index\n",
    "QM_NDSI_T2 = Tier2_sn.qualityMosaic('NDSI') # Normalized difference snow index"
   ]
  },
  {
   "cell_type": "code",
   "execution_count": null,
   "id": "762b05a8",
   "metadata": {},
   "outputs": [],
   "source": []
  },
  {
   "cell_type": "markdown",
   "id": "01cf5c64",
   "metadata": {},
   "source": [
    "### Tier 3"
   ]
  },
  {
   "cell_type": "code",
   "execution_count": 69,
   "id": "5106f6f7",
   "metadata": {
    "ExecuteTime": {
     "end_time": "2021-10-22T14:39:02.356869Z",
     "start_time": "2021-10-22T14:39:02.354957Z"
    }
   },
   "outputs": [],
   "source": [
    "Tier3_sn = l5_summer.map(Cloud30)"
   ]
  },
  {
   "cell_type": "code",
   "execution_count": 70,
   "id": "3ed9f87b",
   "metadata": {
    "ExecuteTime": {
     "end_time": "2021-10-22T14:39:02.360780Z",
     "start_time": "2021-10-22T14:39:02.358059Z"
    }
   },
   "outputs": [],
   "source": [
    "QM_NDVI_T3 = Tier3_sn.qualityMosaic('B11')# Normalized difference vegetation Index\n",
    "QM_NDWI_T3 = Tier3_sn.qualityMosaic('NDWI') # Normalize difference water index\n",
    "QM_SAVI_T3 = Tier3_sn.qualityMosaic('SAVI') # Soil Adjusted Vegetation Index \n",
    "QM_NDGI_T3 = Tier3_sn.qualityMosaic('NDGI') # Normalized difference glacier index\n",
    "QM_NDSI_T3 = Tier3_sn.qualityMosaic('NDSI') # Normalized difference snow index"
   ]
  },
  {
   "cell_type": "code",
   "execution_count": null,
   "id": "3b646cbe",
   "metadata": {},
   "outputs": [],
   "source": []
  },
  {
   "cell_type": "markdown",
   "id": "332cbbac",
   "metadata": {},
   "source": [
    "### Tier 4"
   ]
  },
  {
   "cell_type": "code",
   "execution_count": 71,
   "id": "dbacf051",
   "metadata": {
    "ExecuteTime": {
     "end_time": "2021-10-22T14:39:02.363642Z",
     "start_time": "2021-10-22T14:39:02.361961Z"
    }
   },
   "outputs": [],
   "source": [
    "Tier4_sn = l5_summer.map(Cloud40)"
   ]
  },
  {
   "cell_type": "code",
   "execution_count": 72,
   "id": "4f89d8f7",
   "metadata": {
    "ExecuteTime": {
     "end_time": "2021-10-22T14:39:02.366925Z",
     "start_time": "2021-10-22T14:39:02.364767Z"
    }
   },
   "outputs": [],
   "source": [
    "QM_NDVI_T4 = Tier4_sn.qualityMosaic('B11')# Normalized difference vegetation Index\n",
    "QM_NDWI_T4 = Tier4_sn.qualityMosaic('NDWI') # Normalize difference water index\n",
    "QM_SAVI_T4 = Tier4_sn.qualityMosaic('SAVI') # Soil Adjusted Vegetation Index \n",
    "QM_NDGI_T4 = Tier4_sn.qualityMosaic('NDGI') # Normalized difference glacier index\n",
    "QM_NDSI_T4 = Tier4_sn.qualityMosaic('NDSI') # Normalized difference snow index"
   ]
  },
  {
   "cell_type": "code",
   "execution_count": null,
   "id": "bef4f613",
   "metadata": {},
   "outputs": [],
   "source": []
  },
  {
   "cell_type": "markdown",
   "id": "dd7d911d",
   "metadata": {},
   "source": [
    "## Indices por colección"
   ]
  },
  {
   "cell_type": "markdown",
   "id": "4ea0a4cd",
   "metadata": {},
   "source": [
    "### Índices 1985"
   ]
  },
  {
   "cell_type": "code",
   "execution_count": 73,
   "id": "426dfca0",
   "metadata": {
    "ExecuteTime": {
     "end_time": "2021-10-22T14:39:02.369782Z",
     "start_time": "2021-10-22T14:39:02.367989Z"
    }
   },
   "outputs": [],
   "source": [
    "NDVI_1985 = NDVI_1985_sn.select('B11')\n",
    "NDWI_1985 = NDWI_1985_sn.select('NDWI') \n",
    "SAVI_1985 = SAVI_1985_sn.select('SAVI')\n",
    "NDGI_1985 = NDGI_1985_sn.select('NDGI')\n",
    "NDSI_1985 = NDSI_1985_sn.select('NDSI')"
   ]
  },
  {
   "cell_type": "code",
   "execution_count": 74,
   "id": "eaf84698",
   "metadata": {
    "ExecuteTime": {
     "end_time": "2021-10-22T14:39:04.046297Z",
     "start_time": "2021-10-22T14:39:02.370703Z"
    }
   },
   "outputs": [
    {
     "data": {
      "application/vnd.jupyter.widget-view+json": {
       "model_id": "3b5695a08d2e4befab135312341a281a",
       "version_major": 2,
       "version_minor": 0
      },
      "text/plain": [
       "Map(center=[-45, -70], controls=(WidgetControl(options=['position', 'transparent_bg'], widget=HBox(children=(T…"
      ]
     },
     "metadata": {},
     "output_type": "display_data"
    }
   ],
   "source": [
    "Map7.addLayer(NDVI_1985, {'palette': color_terrain}, 'QMsn de NDVI 1985')\n",
    "Map7.addLayer(NDWI_1985, {'palette': color_ndwi}, 'QMsn de NDWI 1985')\n",
    "Map7.addLayer(SAVI_1985, {'palette': color_ndvi}, 'QMsn de SAVI 1985')\n",
    "# Map7.addLayer(NDGI_1985, {'palette': color_glaciar}, 'QMsn de NDGI 1985')\n",
    "# Map7.addLayer(NDSI_1985, {'palette': color_ndwi}, 'QMsn de NDSI 1985')\n",
    "Map7"
   ]
  },
  {
   "cell_type": "markdown",
   "id": "1e0309e1",
   "metadata": {},
   "source": [
    "### Índices 1986"
   ]
  },
  {
   "cell_type": "code",
   "execution_count": 75,
   "id": "cc1253c0",
   "metadata": {
    "ExecuteTime": {
     "end_time": "2021-10-22T14:39:04.049121Z",
     "start_time": "2021-10-22T14:39:04.047246Z"
    }
   },
   "outputs": [],
   "source": [
    "NDVI_1986 = NDVI_1986_sn.select('B11')\n",
    "NDWI_1986 = NDWI_1986_sn.select('NDWI') \n",
    "SAVI_1986 = SAVI_1986_sn.select('SAVI')\n",
    "NDGI_1986 = NDGI_1986_sn.select('NDGI')\n",
    "NDSI_1986 = NDSI_1986_sn.select('NDSI')"
   ]
  },
  {
   "cell_type": "code",
   "execution_count": 76,
   "id": "3e0524d7",
   "metadata": {
    "ExecuteTime": {
     "end_time": "2021-10-22T14:39:05.605402Z",
     "start_time": "2021-10-22T14:39:04.050119Z"
    }
   },
   "outputs": [
    {
     "data": {
      "application/vnd.jupyter.widget-view+json": {
       "model_id": "3b5695a08d2e4befab135312341a281a",
       "version_major": 2,
       "version_minor": 0
      },
      "text/plain": [
       "Map(center=[-45, -70], controls=(WidgetControl(options=['position', 'transparent_bg'], widget=HBox(children=(T…"
      ]
     },
     "metadata": {},
     "output_type": "display_data"
    }
   ],
   "source": [
    "Map7.addLayer(NDVI_1986, {'palette': color_terrain}, 'QMsn de NDVI 1986')\n",
    "Map7.addLayer(NDWI_1986, {'palette': color_ndwi}, 'QMsn de NDWI 1986')\n",
    "Map7.addLayer(SAVI_1986, {'palette': color_ndvi}, 'QMsn de SAVI 1986')\n",
    "# Map7.addLayer(NDGI_1986, {'palette': color_glaciar}, 'QMsn de NDGI 1986')\n",
    "# Map7.addLayer(NDSI_1986, {'palette': color_ndwi}, 'QMsn de NDSI 1986')\n",
    "Map7"
   ]
  },
  {
   "cell_type": "markdown",
   "id": "4aee56c9",
   "metadata": {},
   "source": [
    "### Índices 1987"
   ]
  },
  {
   "cell_type": "code",
   "execution_count": 77,
   "id": "4a0a2445",
   "metadata": {
    "ExecuteTime": {
     "end_time": "2021-10-22T14:39:05.608194Z",
     "start_time": "2021-10-22T14:39:05.606238Z"
    }
   },
   "outputs": [],
   "source": [
    "NDVI_1987 = NDVI_1987_sn.select('B11')\n",
    "NDWI_1987 = NDWI_1987_sn.select('NDWI') \n",
    "SAVI_1987 = SAVI_1987_sn.select('SAVI')\n",
    "NDGI_1987 = NDGI_1987_sn.select('NDGI')\n",
    "NDSI_1987 = NDSI_1987_sn.select('NDSI')"
   ]
  },
  {
   "cell_type": "code",
   "execution_count": 78,
   "id": "144629ba",
   "metadata": {
    "ExecuteTime": {
     "end_time": "2021-10-22T14:39:05.610754Z",
     "start_time": "2021-10-22T14:39:05.609034Z"
    }
   },
   "outputs": [],
   "source": [
    "# Map8.addLayer(NDVI_1987, {'palette': color_terrain}, 'QMsn de NDVI 1987')\n",
    "# Map8.addLayer(NDWI_1987, {'palette': color_ndwi}, 'QMsn de NDWI 1987')\n",
    "# Map8.addLayer(SAVI_1987, {'palette': color_ndvi}, 'QMsn de SAVI 1987')\n",
    "# Map8.addLayer(NDGI_1987, {'palette': color_glaciar}, 'QMsn de NDGI 1987')\n",
    "# Map8.addLayer(NDSI_1987, {'palette': color_ndwi}, 'QMsn de NDSI 1987')\n",
    "# Map8"
   ]
  },
  {
   "cell_type": "markdown",
   "id": "e765cd19",
   "metadata": {},
   "source": [
    "### Índices 1988"
   ]
  },
  {
   "cell_type": "code",
   "execution_count": 79,
   "id": "b4275190",
   "metadata": {
    "ExecuteTime": {
     "end_time": "2021-10-22T14:39:05.613945Z",
     "start_time": "2021-10-22T14:39:05.611916Z"
    }
   },
   "outputs": [],
   "source": [
    "NDVI_1988 = NDVI_1988_sn.select('B11')\n",
    "NDWI_1988 = NDWI_1988_sn.select('NDWI') \n",
    "SAVI_1988 = SAVI_1988_sn.select('SAVI')\n",
    "NDGI_1988 = NDGI_1988_sn.select('NDGI')\n",
    "NDSI_1988 = NDSI_1988_sn.select('NDSI')"
   ]
  },
  {
   "cell_type": "code",
   "execution_count": 80,
   "id": "977e42e9",
   "metadata": {
    "ExecuteTime": {
     "end_time": "2021-10-22T14:39:05.616558Z",
     "start_time": "2021-10-22T14:39:05.614971Z"
    }
   },
   "outputs": [],
   "source": [
    "# Map8.addLayer(NDVI_1988, {'palette': color_terrain}, 'QMsn de NDVI 1988')\n",
    "# Map8.addLayer(NDWI_1988, {'palette': color_ndwi}, 'QMsn de NDWI 1988')\n",
    "# Map8.addLayer(SAVI_1988, {'palette': color_ndvi}, 'QMsn de SAVI 1988')\n",
    "# Map8.addLayer(NDGI_1988, {'palette': color_glaciar}, 'QMsn de NDGI 1988')\n",
    "# Map8.addLayer(NDSI_1988, {'palette': color_ndwi}, 'QMsn de NDSI 1988')\n",
    "# Map8"
   ]
  },
  {
   "cell_type": "markdown",
   "id": "58d5a86c",
   "metadata": {},
   "source": [
    "### Índices 1989"
   ]
  },
  {
   "cell_type": "code",
   "execution_count": 81,
   "id": "cbd5a65d",
   "metadata": {
    "ExecuteTime": {
     "end_time": "2021-10-22T14:39:05.619557Z",
     "start_time": "2021-10-22T14:39:05.617692Z"
    }
   },
   "outputs": [],
   "source": [
    "NDVI_1989 = NDVI_1989_sn.select('B11')\n",
    "NDWI_1989 = NDWI_1989_sn.select('NDWI') \n",
    "SAVI_1989 = SAVI_1989_sn.select('SAVI')\n",
    "NDGI_1989 = NDGI_1989_sn.select('NDGI')\n",
    "NDSI_1989 = NDSI_1989_sn.select('NDSI')"
   ]
  },
  {
   "cell_type": "code",
   "execution_count": 82,
   "id": "23ae96a6",
   "metadata": {
    "ExecuteTime": {
     "end_time": "2021-10-22T14:39:05.626952Z",
     "start_time": "2021-10-22T14:39:05.625482Z"
    }
   },
   "outputs": [],
   "source": [
    "# Map8.addLayer(NDVI_1989, {'palette': color_terrain}, 'QMsn de NDVI 1989')\n",
    "# Map8.addLayer(NDWI_1989, {'palette': color_ndwi}, 'QMsn de NDWI 1989')\n",
    "# Map8.addLayer(SAVI_1989, {'palette': color_ndvi}, 'QMsn de SAVI 1989')\n",
    "# Map8.addLayer(NDGI_1989, {'palette': color_glaciar}, 'QMsn de NDGI 1989')\n",
    "# Map8.addLayer(NDSI_1989, {'palette': color_ndwi}, 'QMsn de NDSI 1989')\n",
    "# Map8"
   ]
  },
  {
   "cell_type": "markdown",
   "id": "552ddf65",
   "metadata": {},
   "source": [
    "### Índices colección agua"
   ]
  },
  {
   "cell_type": "code",
   "execution_count": 83,
   "id": "bd6e70e1",
   "metadata": {
    "ExecuteTime": {
     "end_time": "2021-10-22T14:39:05.630466Z",
     "start_time": "2021-10-22T14:39:05.628309Z"
    }
   },
   "outputs": [],
   "source": [
    "NDVI_sur = NDVI_sur_sn.select('B11')\n",
    "NDWI_sur = NDWI_sur_sn.select('NDWI') \n",
    "SAVI_sur = SAVI_sur_sn.select('SAVI')\n",
    "NDGI_sur = NDGI_sur_sn.select('NDGI')\n",
    "NDSI_sur = NDSI_sur_sn.select('NDSI')"
   ]
  },
  {
   "cell_type": "code",
   "execution_count": 84,
   "id": "e550e4e0",
   "metadata": {
    "ExecuteTime": {
     "end_time": "2021-10-22T14:39:07.965029Z",
     "start_time": "2021-10-22T14:39:05.631603Z"
    }
   },
   "outputs": [
    {
     "data": {
      "application/vnd.jupyter.widget-view+json": {
       "model_id": "0e97f3e441474e4c92aea1cc9e6d7e05",
       "version_major": 2,
       "version_minor": 0
      },
      "text/plain": [
       "Map(center=[-45, -70], controls=(WidgetControl(options=['position', 'transparent_bg'], widget=HBox(children=(T…"
      ]
     },
     "metadata": {},
     "output_type": "display_data"
    }
   ],
   "source": [
    "Map8.addLayer(NDVI_sur, {'palette': color_terrain}, 'QMsn de NDVI sur')\n",
    "Map8.addLayer(NDWI_sur, {'palette': color_ndwi}, 'QMsn de NDWI sur')\n",
    "Map8.addLayer(SAVI_sur, {'palette': color_ndvi}, 'QMsn de SAVI sur')\n",
    "Map8.addLayer(NDGI_sur, {'palette': color_glaciar}, 'QMsn de NDGI sur')\n",
    "Map8.addLayer(NDSI_sur, {'palette': color_ndwi}, 'QMsn de NDSI sur')\n",
    "Map8"
   ]
  },
  {
   "cell_type": "markdown",
   "id": "dd05e9e8",
   "metadata": {},
   "source": [
    "## Generación de Mosaico"
   ]
  },
  {
   "cell_type": "code",
   "execution_count": 85,
   "id": "8778db11",
   "metadata": {
    "ExecuteTime": {
     "end_time": "2021-10-22T14:39:07.967851Z",
     "start_time": "2021-10-22T14:39:07.966003Z"
    }
   },
   "outputs": [],
   "source": [
    "mosaic0= ee.ImageCollection([QM_NDVI_sur,QM_NDVI_1987]).mosaic()"
   ]
  },
  {
   "cell_type": "code",
   "execution_count": 86,
   "id": "a3f753d8",
   "metadata": {
    "ExecuteTime": {
     "end_time": "2021-10-22T14:39:07.971582Z",
     "start_time": "2021-10-22T14:39:07.968759Z"
    }
   },
   "outputs": [],
   "source": [
    "mosaic1 = ee.ImageCollection([mosaic0,QM_NDVI_1985]).mosaic()"
   ]
  },
  {
   "cell_type": "code",
   "execution_count": 87,
   "id": "78fe189d",
   "metadata": {
    "ExecuteTime": {
     "end_time": "2021-10-22T14:39:07.974438Z",
     "start_time": "2021-10-22T14:39:07.972889Z"
    }
   },
   "outputs": [],
   "source": [
    "mosaic2 = ee.ImageCollection([mosaic1,QM_NDVI_1986]).mosaic()"
   ]
  },
  {
   "cell_type": "code",
   "execution_count": 88,
   "id": "9b229098",
   "metadata": {
    "ExecuteTime": {
     "end_time": "2021-10-22T14:39:07.976915Z",
     "start_time": "2021-10-22T14:39:07.975487Z"
    }
   },
   "outputs": [],
   "source": [
    "mosaic2_landsat = mosaic2.set('SENSOR_ID', 'OLI_TIRS')"
   ]
  },
  {
   "cell_type": "code",
   "execution_count": 89,
   "id": "a98110ba",
   "metadata": {
    "ExecuteTime": {
     "end_time": "2021-10-22T14:39:07.979872Z",
     "start_time": "2021-10-22T14:39:07.978105Z"
    }
   },
   "outputs": [],
   "source": [
    "cloud_mosaic2 = ee.Algorithms.Landsat.simpleCloudScore(mosaic2_landsat)"
   ]
  },
  {
   "cell_type": "code",
   "execution_count": 90,
   "id": "745b712d",
   "metadata": {
    "ExecuteTime": {
     "end_time": "2021-10-22T14:39:07.982752Z",
     "start_time": "2021-10-22T14:39:07.981115Z"
    }
   },
   "outputs": [],
   "source": [
    "cloud_mosaic2 = cloud_mosaic2.select('cloud')"
   ]
  },
  {
   "cell_type": "code",
   "execution_count": 91,
   "id": "3351dfe9",
   "metadata": {
    "ExecuteTime": {
     "end_time": "2021-10-22T14:39:07.985410Z",
     "start_time": "2021-10-22T14:39:07.983941Z"
    }
   },
   "outputs": [],
   "source": [
    "palette_nubes = ['#1a9850', '#66bd63', '#a6d96a', '#d9ef8b', '#fee08b', '#fdae61', '#f46d43', '#d73027']"
   ]
  },
  {
   "cell_type": "code",
   "execution_count": 92,
   "id": "aa1c77e2",
   "metadata": {
    "ExecuteTime": {
     "end_time": "2021-10-22T14:39:07.987966Z",
     "start_time": "2021-10-22T14:39:07.986376Z"
    }
   },
   "outputs": [],
   "source": [
    "resultados= [cloud_mosaic2, mosaic2]\n",
    "vis_params2=  [\n",
    "    {'palette':palette_nubes}, \n",
    "    vizParams]\n",
    "labels = [\n",
    "    'Nubes 1985',\n",
    "    'QM NDVI 1985']"
   ]
  },
  {
   "cell_type": "code",
   "execution_count": 93,
   "id": "28e91129",
   "metadata": {
    "ExecuteTime": {
     "end_time": "2021-10-22T14:39:09.322031Z",
     "start_time": "2021-10-22T14:39:07.989132Z"
    }
   },
   "outputs": [
    {
     "data": {
      "application/vnd.jupyter.widget-view+json": {
       "model_id": "e9b40f82612f447d8a73010521007263",
       "version_major": 2,
       "version_minor": 0
      },
      "text/plain": [
       "GridspecLayout(children=(Output(layout=Layout(grid_area='widget001')), Output(layout=Layout(grid_area='widget0…"
      ]
     },
     "metadata": {},
     "output_type": "display_data"
    }
   ],
   "source": [
    "geemap.linked_maps(rows=1, cols=2, height=\"400px\", center=[-45, -75], zoom=4, \n",
    "                   ee_objects=resultados, vis_params=vis_params2, labels=labels, label_position=\"topright\")"
   ]
  },
  {
   "cell_type": "code",
   "execution_count": 94,
   "id": "93ea56bf",
   "metadata": {
    "ExecuteTime": {
     "end_time": "2021-10-22T14:39:09.324798Z",
     "start_time": "2021-10-22T14:39:09.322978Z"
    }
   },
   "outputs": [],
   "source": [
    "def llenado(image):\n",
    "    return image.where(cloud_mosaic2.gt(10),QM_NDVI_T1)"
   ]
  },
  {
   "cell_type": "code",
   "execution_count": 95,
   "id": "8287934f",
   "metadata": {
    "ExecuteTime": {
     "end_time": "2021-10-22T14:39:09.328253Z",
     "start_time": "2021-10-22T14:39:09.325734Z"
    }
   },
   "outputs": [],
   "source": [
    "img1 = llenado(mosaic2)"
   ]
  },
  {
   "cell_type": "code",
   "execution_count": 96,
   "id": "0ea4ebed",
   "metadata": {
    "ExecuteTime": {
     "end_time": "2021-10-22T14:39:09.331099Z",
     "start_time": "2021-10-22T14:39:09.329180Z"
    }
   },
   "outputs": [],
   "source": [
    "img1_landsat = img1.set('SENSOR_ID', 'OLI_TIRS')\n",
    "cloud_img1 = ee.Algorithms.Landsat.simpleCloudScore(img1_landsat)\n",
    "cloud_img1 = cloud_img1.select('cloud')"
   ]
  },
  {
   "cell_type": "code",
   "execution_count": 97,
   "id": "84dbb2d4",
   "metadata": {
    "ExecuteTime": {
     "end_time": "2021-10-22T14:39:09.333988Z",
     "start_time": "2021-10-22T14:39:09.332329Z"
    }
   },
   "outputs": [],
   "source": [
    "resultados= [cloud_img1, img1]\n",
    "vis_params2=  [\n",
    "    {'palette':palette_nubes}, \n",
    "    vizParams]\n",
    "labels = [\n",
    "    'Nubes Mosaico 1',\n",
    "    'Mosaico 1']"
   ]
  },
  {
   "cell_type": "code",
   "execution_count": 98,
   "id": "f3c2a996",
   "metadata": {
    "ExecuteTime": {
     "end_time": "2021-10-22T14:39:10.754784Z",
     "start_time": "2021-10-22T14:39:09.335082Z"
    }
   },
   "outputs": [
    {
     "data": {
      "application/vnd.jupyter.widget-view+json": {
       "model_id": "f4b01e4d243e44e6affaef9af047a70b",
       "version_major": 2,
       "version_minor": 0
      },
      "text/plain": [
       "GridspecLayout(children=(Output(layout=Layout(grid_area='widget001')), Output(layout=Layout(grid_area='widget0…"
      ]
     },
     "metadata": {},
     "output_type": "display_data"
    }
   ],
   "source": [
    "geemap.linked_maps(rows=1, cols=2, height=\"400px\", center=[-45, -75], zoom=4, \n",
    "                   ee_objects=resultados, vis_params=vis_params2, labels=labels, label_position=\"topright\")"
   ]
  },
  {
   "cell_type": "code",
   "execution_count": 99,
   "id": "9a243ac4",
   "metadata": {
    "ExecuteTime": {
     "end_time": "2021-10-22T14:39:10.757634Z",
     "start_time": "2021-10-22T14:39:10.755798Z"
    }
   },
   "outputs": [],
   "source": [
    "def llenado2(image):\n",
    "    return image.where(cloud_img1.gt(10), QM_NDVI_T2)"
   ]
  },
  {
   "cell_type": "code",
   "execution_count": 100,
   "id": "ada6d94e",
   "metadata": {
    "ExecuteTime": {
     "end_time": "2021-10-22T14:39:10.760592Z",
     "start_time": "2021-10-22T14:39:10.758923Z"
    }
   },
   "outputs": [],
   "source": [
    "img2 = llenado2(img1)"
   ]
  },
  {
   "cell_type": "code",
   "execution_count": 101,
   "id": "e3db0a52",
   "metadata": {
    "ExecuteTime": {
     "end_time": "2021-10-22T14:39:10.763579Z",
     "start_time": "2021-10-22T14:39:10.761704Z"
    }
   },
   "outputs": [],
   "source": [
    "img2_landsat = img2.set('SENSOR_ID', 'OLI_TIRS')\n",
    "cloud_img2 = ee.Algorithms.Landsat.simpleCloudScore(img2_landsat)\n",
    "cloud_img2 = cloud_img2.select('cloud')"
   ]
  },
  {
   "cell_type": "code",
   "execution_count": 102,
   "id": "42d22742",
   "metadata": {
    "ExecuteTime": {
     "end_time": "2021-10-22T14:39:10.766343Z",
     "start_time": "2021-10-22T14:39:10.764550Z"
    }
   },
   "outputs": [],
   "source": [
    "resultados= [cloud_img2, img2]\n",
    "vis_params2=  [\n",
    "    {'palette':palette_nubes}, \n",
    "    vizParams]\n",
    "labels = [\n",
    "    'Nubes Mosaico 2',\n",
    "    'Mosaico 2']"
   ]
  },
  {
   "cell_type": "code",
   "execution_count": 103,
   "id": "5bdcab8c",
   "metadata": {
    "ExecuteTime": {
     "end_time": "2021-10-22T14:39:12.173865Z",
     "start_time": "2021-10-22T14:39:10.767536Z"
    }
   },
   "outputs": [
    {
     "data": {
      "application/vnd.jupyter.widget-view+json": {
       "model_id": "a3162503d0b84502b1832106bfb49210",
       "version_major": 2,
       "version_minor": 0
      },
      "text/plain": [
       "GridspecLayout(children=(Output(layout=Layout(grid_area='widget001')), Output(layout=Layout(grid_area='widget0…"
      ]
     },
     "metadata": {},
     "output_type": "display_data"
    }
   ],
   "source": [
    "geemap.linked_maps(rows=1, cols=2, height=\"400px\", center=[-45, -75], zoom=4, \n",
    "                   ee_objects=resultados, vis_params=vis_params2, labels=labels, label_position=\"topright\")"
   ]
  },
  {
   "cell_type": "code",
   "execution_count": 104,
   "id": "ca5f91e2",
   "metadata": {
    "ExecuteTime": {
     "end_time": "2021-10-22T14:39:12.176621Z",
     "start_time": "2021-10-22T14:39:12.174860Z"
    }
   },
   "outputs": [],
   "source": [
    "def llenado3(image):\n",
    "    return image.where(cloud_img2.gt(10), QM_NDVI_T3)"
   ]
  },
  {
   "cell_type": "code",
   "execution_count": 105,
   "id": "f52fddee",
   "metadata": {
    "ExecuteTime": {
     "end_time": "2021-10-22T14:39:12.179818Z",
     "start_time": "2021-10-22T14:39:12.177771Z"
    }
   },
   "outputs": [],
   "source": [
    "img3 = llenado3(img2)"
   ]
  },
  {
   "cell_type": "code",
   "execution_count": 106,
   "id": "6d41d9d0",
   "metadata": {
    "ExecuteTime": {
     "end_time": "2021-10-22T14:39:12.182596Z",
     "start_time": "2021-10-22T14:39:12.180925Z"
    }
   },
   "outputs": [],
   "source": [
    "img3_landsat = img3.set('SENSOR_ID', 'OLI_TIRS')\n",
    "cloud_img3 = ee.Algorithms.Landsat.simpleCloudScore(img3_landsat)\n",
    "cloud_img3 = cloud_img3.select('cloud')"
   ]
  },
  {
   "cell_type": "code",
   "execution_count": 107,
   "id": "3a000d62",
   "metadata": {
    "ExecuteTime": {
     "end_time": "2021-10-22T14:39:12.185323Z",
     "start_time": "2021-10-22T14:39:12.183709Z"
    }
   },
   "outputs": [],
   "source": [
    "resultados= [cloud_img3, img3]\n",
    "vis_params2=  [\n",
    "    {'palette':palette_nubes}, \n",
    "    vizParams]\n",
    "labels = [\n",
    "    'Nubes Mosaico 3',\n",
    "    'Mosaico 3']"
   ]
  },
  {
   "cell_type": "code",
   "execution_count": 108,
   "id": "bf275ed6",
   "metadata": {
    "ExecuteTime": {
     "end_time": "2021-10-22T14:39:13.691364Z",
     "start_time": "2021-10-22T14:39:12.186358Z"
    }
   },
   "outputs": [
    {
     "data": {
      "application/vnd.jupyter.widget-view+json": {
       "model_id": "1b6108e399be4833981a1f8e6093d1c0",
       "version_major": 2,
       "version_minor": 0
      },
      "text/plain": [
       "GridspecLayout(children=(Output(layout=Layout(grid_area='widget001')), Output(layout=Layout(grid_area='widget0…"
      ]
     },
     "metadata": {},
     "output_type": "display_data"
    }
   ],
   "source": [
    "geemap.linked_maps(rows=1, cols=2, height=\"400px\", center=[-45, -75], zoom=4, \n",
    "                   ee_objects=resultados, vis_params=vis_params2, labels=labels, label_position=\"topright\")"
   ]
  },
  {
   "cell_type": "code",
   "execution_count": 109,
   "id": "9d0daae9",
   "metadata": {
    "ExecuteTime": {
     "end_time": "2021-10-22T14:39:13.693893Z",
     "start_time": "2021-10-22T14:39:13.692180Z"
    }
   },
   "outputs": [],
   "source": [
    "def llenado4(image):\n",
    "    return image.where(cloud_img3.gt(10), QM_NDVI_T4)"
   ]
  },
  {
   "cell_type": "code",
   "execution_count": 110,
   "id": "d37f16d5",
   "metadata": {
    "ExecuteTime": {
     "end_time": "2021-10-22T14:39:13.697462Z",
     "start_time": "2021-10-22T14:39:13.694938Z"
    }
   },
   "outputs": [],
   "source": [
    "img4 = llenado4(img3)"
   ]
  },
  {
   "cell_type": "code",
   "execution_count": 111,
   "id": "540d60d8",
   "metadata": {
    "ExecuteTime": {
     "end_time": "2021-10-22T14:39:13.700369Z",
     "start_time": "2021-10-22T14:39:13.698650Z"
    }
   },
   "outputs": [],
   "source": [
    "img4_landsat = img4.set('SENSOR_ID', 'OLI_TIRS')\n",
    "cloud_img4 = ee.Algorithms.Landsat.simpleCloudScore(img4_landsat)\n",
    "cloud_img4 = cloud_img4.select('cloud')"
   ]
  },
  {
   "cell_type": "code",
   "execution_count": 112,
   "id": "3f0e9719",
   "metadata": {
    "ExecuteTime": {
     "end_time": "2021-10-22T14:39:13.703390Z",
     "start_time": "2021-10-22T14:39:13.701627Z"
    }
   },
   "outputs": [],
   "source": [
    "resultados= [cloud_img4, img4]\n",
    "vis_params2=  [\n",
    "    {'palette':palette_nubes}, \n",
    "    vizParams]\n",
    "labels = [\n",
    "    'Nubes Mosaico 4',\n",
    "    'Mosaico 4']"
   ]
  },
  {
   "cell_type": "code",
   "execution_count": 113,
   "id": "41d9a7b8",
   "metadata": {
    "ExecuteTime": {
     "end_time": "2021-10-22T14:39:15.184611Z",
     "start_time": "2021-10-22T14:39:13.704555Z"
    }
   },
   "outputs": [
    {
     "data": {
      "application/vnd.jupyter.widget-view+json": {
       "model_id": "b8334cdbaef7427e849034b232c825df",
       "version_major": 2,
       "version_minor": 0
      },
      "text/plain": [
       "GridspecLayout(children=(Output(layout=Layout(grid_area='widget001')), Output(layout=Layout(grid_area='widget0…"
      ]
     },
     "metadata": {},
     "output_type": "display_data"
    }
   ],
   "source": [
    "geemap.linked_maps(rows=1, cols=2, height=\"400px\", center=[-45, -75], zoom=4, \n",
    "                   ee_objects=resultados, vis_params=vis_params2, labels=labels, label_position=\"topright\")"
   ]
  },
  {
   "cell_type": "code",
   "execution_count": 114,
   "id": "4b6d899d",
   "metadata": {
    "ExecuteTime": {
     "end_time": "2021-10-22T14:39:15.187151Z",
     "start_time": "2021-10-22T14:39:15.185451Z"
    }
   },
   "outputs": [],
   "source": [
    "hansenImage = ee.Image('UMD/hansen/global_forest_change_2015')\n",
    "datamask = hansenImage.select('datamask')"
   ]
  },
  {
   "cell_type": "code",
   "execution_count": 115,
   "id": "c93604cb",
   "metadata": {
    "ExecuteTime": {
     "end_time": "2021-10-22T14:39:15.190259Z",
     "start_time": "2021-10-22T14:39:15.187977Z"
    }
   },
   "outputs": [],
   "source": [
    "def llenado5(image):\n",
    "    return image.where(datamask.eq(2), QM_NDWI_T1)"
   ]
  },
  {
   "cell_type": "code",
   "execution_count": 116,
   "id": "59e1291c",
   "metadata": {
    "ExecuteTime": {
     "end_time": "2021-10-22T14:39:15.193264Z",
     "start_time": "2021-10-22T14:39:15.191611Z"
    }
   },
   "outputs": [],
   "source": [
    "img5 = llenado5(img4)"
   ]
  },
  {
   "cell_type": "code",
   "execution_count": 117,
   "id": "1b1462fa",
   "metadata": {
    "ExecuteTime": {
     "end_time": "2021-10-22T14:39:15.196175Z",
     "start_time": "2021-10-22T14:39:15.194490Z"
    }
   },
   "outputs": [],
   "source": [
    "img5_landsat = img5.set('SENSOR_ID', 'OLI_TIRS')\n",
    "cloud_img5 = ee.Algorithms.Landsat.simpleCloudScore(img5_landsat)\n",
    "cloud_img5 = cloud_img5.select('cloud')"
   ]
  },
  {
   "cell_type": "code",
   "execution_count": 118,
   "id": "14081f40",
   "metadata": {
    "ExecuteTime": {
     "end_time": "2021-10-22T14:39:15.198900Z",
     "start_time": "2021-10-22T14:39:15.197205Z"
    }
   },
   "outputs": [],
   "source": [
    "resultados= [cloud_img5, img5]\n",
    "vis_params2=  [\n",
    "    {'palette':palette_nubes}, \n",
    "    vizParams]\n",
    "labels = [\n",
    "    'Nubes Mosaico 5',\n",
    "    'Mosaico 5']"
   ]
  },
  {
   "cell_type": "code",
   "execution_count": 119,
   "id": "8593050e",
   "metadata": {
    "ExecuteTime": {
     "end_time": "2021-10-22T14:39:16.729715Z",
     "start_time": "2021-10-22T14:39:15.200073Z"
    }
   },
   "outputs": [
    {
     "data": {
      "application/vnd.jupyter.widget-view+json": {
       "model_id": "71e6326cc997488aa73d3561f2b025f4",
       "version_major": 2,
       "version_minor": 0
      },
      "text/plain": [
       "GridspecLayout(children=(Output(layout=Layout(grid_area='widget001')), Output(layout=Layout(grid_area='widget0…"
      ]
     },
     "metadata": {},
     "output_type": "display_data"
    }
   ],
   "source": [
    "geemap.linked_maps(rows=1, cols=2, height=\"400px\", center=[-45, -75], zoom=4, \n",
    "                   ee_objects=resultados, vis_params=vis_params2, labels=labels, label_position=\"topright\")"
   ]
  },
  {
   "cell_type": "code",
   "execution_count": 120,
   "id": "0ea95f9b",
   "metadata": {
    "ExecuteTime": {
     "end_time": "2021-10-20T10:33:40.403397Z",
     "start_time": "2021-10-20T10:33:39.150963Z"
    }
   },
   "outputs": [
    {
     "data": {
      "application/vnd.jupyter.widget-view+json": {
       "model_id": "40d7c7df8f664a88b64ec0e4dd74ca72",
       "version_major": 2,
       "version_minor": 0
      },
      "text/plain": [
       "Map(center=[-45, -70], controls=(WidgetControl(options=['position', 'transparent_bg'], widget=HBox(children=(T…"
      ]
     },
     "metadata": {},
     "output_type": "display_data"
    }
   ],
   "source": [
    "Map10.addLayer(img4, vizParams, 'Mosaico 5')\n",
    "Map10.addLayer(img5, vizParams, 'Mosaico 6')\n",
    "Map10"
   ]
  },
  {
   "cell_type": "code",
   "execution_count": 120,
   "id": "ea7390c2",
   "metadata": {
    "ExecuteTime": {
     "end_time": "2021-10-22T14:58:19.816892Z",
     "start_time": "2021-10-22T14:58:19.814783Z"
    }
   },
   "outputs": [],
   "source": [
    "img5_b = img5.select(['B1','B2','B3','B4','B5','B6','B7'])"
   ]
  },
  {
   "cell_type": "code",
   "execution_count": 122,
   "id": "ae56eb94",
   "metadata": {
    "ExecuteTime": {
     "end_time": "2021-10-20T13:41:23.399783Z",
     "start_time": "2021-10-20T13:41:19.847988Z"
    }
   },
   "outputs": [],
   "source": [
    "# Map10.addLayer(reproj, vizParams, 'Mosaico R')"
   ]
  },
  {
   "cell_type": "code",
   "execution_count": 121,
   "id": "1d112e22",
   "metadata": {
    "ExecuteTime": {
     "end_time": "2021-10-22T14:58:24.875665Z",
     "start_time": "2021-10-22T14:58:24.873914Z"
    }
   },
   "outputs": [],
   "source": [
    "reproj1= img5_b \\\n",
    "    .reproject(crs='EPSG:4326',scale = 30)"
   ]
  },
  {
   "cell_type": "code",
   "execution_count": 122,
   "id": "d0a09420",
   "metadata": {
    "ExecuteTime": {
     "end_time": "2021-10-22T14:58:30.310223Z",
     "start_time": "2021-10-22T14:58:30.308176Z"
    }
   },
   "outputs": [],
   "source": [
    "reproj2= img5_b \\\n",
    "    .reproject(crs='EPSG:3857',scale = 30)"
   ]
  },
  {
   "cell_type": "code",
   "execution_count": 123,
   "id": "ffeb995d",
   "metadata": {
    "ExecuteTime": {
     "end_time": "2021-10-22T14:58:36.361093Z",
     "start_time": "2021-10-22T14:58:36.359370Z"
    }
   },
   "outputs": [],
   "source": [
    "reproj3= img5_b \\\n",
    "    .reproject(crs='EPSG:32719',scale = 30)"
   ]
  },
  {
   "cell_type": "code",
   "execution_count": 124,
   "id": "154a2848",
   "metadata": {
    "ExecuteTime": {
     "end_time": "2021-10-22T14:58:43.761868Z",
     "start_time": "2021-10-22T14:58:42.902985Z"
    }
   },
   "outputs": [],
   "source": [
    "molde = os.path.join(work_dir, 'molde.shp')\n",
    "molde_grande = geemap.shp_to_ee(molde)"
   ]
  },
  {
   "cell_type": "markdown",
   "id": "b3a166bc",
   "metadata": {},
   "source": [
    "## Exportación"
   ]
  },
  {
   "cell_type": "code",
   "execution_count": 125,
   "id": "6b87f344",
   "metadata": {
    "ExecuteTime": {
     "end_time": "2021-10-22T14:58:53.042903Z",
     "start_time": "2021-10-22T14:58:50.357502Z"
    }
   },
   "outputs": [],
   "source": [
    "partes_1 = os.path.join(work_dir, '1.shp')\n",
    "partes1 = geemap.shp_to_ee(partes_1)\n",
    "\n",
    "partes_2 = os.path.join(work_dir, '2.shp')\n",
    "partes2 = geemap.shp_to_ee(partes_2)\n",
    "\n",
    "partes_3 = os.path.join(work_dir, '3.shp')\n",
    "partes3 = geemap.shp_to_ee(partes_3)\n",
    "\n",
    "partes_4 = os.path.join(work_dir, '4.shp')\n",
    "partes4 = geemap.shp_to_ee(partes_4)\n",
    "\n",
    "partes_5 = os.path.join(work_dir, '5.shp')\n",
    "partes5 = geemap.shp_to_ee(partes_5)\n",
    "\n",
    "partes_6 = os.path.join(work_dir, '6.shp')\n",
    "partes6 = geemap.shp_to_ee(partes_6)\n",
    "\n",
    "partes_7 = os.path.join(work_dir, '7.shp')\n",
    "partes7 = geemap.shp_to_ee(partes_7)\n",
    "\n",
    "partes_8 = os.path.join(work_dir, '8.shp')\n",
    "partes8 = geemap.shp_to_ee(partes_8)"
   ]
  },
  {
   "cell_type": "code",
   "execution_count": 129,
   "id": "162837e3",
   "metadata": {
    "ExecuteTime": {
     "end_time": "2021-10-22T18:15:16.090247Z",
     "start_time": "2021-10-22T18:15:16.087551Z"
    }
   },
   "outputs": [],
   "source": [
    "img5_1 = img5_b.clip(partes1).unmask()\n",
    "img5_2 = img5_b.clip(partes2).unmask()\n",
    "img5_3 = img5_b.clip(partes3).unmask()\n",
    "img5_4 = img5_b.clip(partes4).unmask()\n",
    "img5_5 = img5_b.clip(partes5).unmask()\n",
    "img5_6 = img5_b.clip(partes6).unmask()\n",
    "img5_7 = img5_b.clip(partes7).unmask()\n",
    "img5_8 = img5_b.clip(partes8).unmask()"
   ]
  },
  {
   "cell_type": "code",
   "execution_count": null,
   "id": "8bf9ce16",
   "metadata": {},
   "outputs": [],
   "source": [
    "reproj1 = img5_1.reproject(crs='EPSG:32719',scale = 30)\n",
    "reproj2 = img5_2.reproject(crs='EPSG:32719',scale = 30)\n",
    "reproj3 = img5_3.reproject(crs='EPSG:32719',scale = 30)\n",
    "reproj4 = img5_4.reproject(crs='EPSG:32719',scale = 30)\n",
    "reproj5 = img5_5.reproject(crs='EPSG:32719',scale = 30)\n",
    "reproj6 = img5_6.reproject(crs='EPSG:32719',scale = 30)\n",
    "reproj7 = img5_7.reproject(crs='EPSG:32719',scale = 30)\n",
    "reproj8 = img5_8.reproject(crs='EPSG:32719',scale = 30)"
   ]
  },
  {
   "cell_type": "code",
   "execution_count": null,
   "id": "078dfd7b",
   "metadata": {},
   "outputs": [],
   "source": [
    "geemap.ee_export_image_to_drive(reproj1, description='mosaico_1985_1', folder='exp_1985_19s', region=partes1.geometry(), scale=30)\n",
    "geemap.ee_export_image_to_drive(reproj2, description='mosaico_1985_2', folder='exp_1985_19s', region=partes2.geometry(), scale=30)\n",
    "geemap.ee_export_image_to_drive(reproj3, description='mosaico_1985_3', folder='exp_1985_19s', region=partes3.geometry(), scale=30)\n",
    "geemap.ee_export_image_to_drive(reproj4, description='mosaico_1985_4', folder='exp_1985_19s', region=partes4.geometry(), scale=30)\n",
    "geemap.ee_export_image_to_drive(reproj5, description='mosaico_1985_5', folder='exp_1985_19s', region=partes5.geometry(), scale=30)\n",
    "geemap.ee_export_image_to_drive(reproj6, description='mosaico_1985_6', folder='exp_1985_19s', region=partes6.geometry(), scale=30)\n",
    "geemap.ee_export_image_to_drive(reproj7, description='mosaico_1985_7', folder='exp_1985_19s', region=partes7.geometry(), scale=30)\n",
    "geemap.ee_export_image_to_drive(reproj8, description='mosaico_1985_8', folder='exp_1985_19s', region=partes8.geometry(), scale=30)"
   ]
  },
  {
   "cell_type": "code",
   "execution_count": null,
   "id": "e00a49bd",
   "metadata": {},
   "outputs": [],
   "source": []
  },
  {
   "cell_type": "code",
   "execution_count": 126,
   "id": "cd012a64",
   "metadata": {
    "ExecuteTime": {
     "end_time": "2021-10-22T14:58:59.654468Z",
     "start_time": "2021-10-22T14:58:59.652535Z"
    }
   },
   "outputs": [],
   "source": [
    "# reproj1c = reproj1.clip(partes3).unmask()\n",
    "# reproj2c = reproj2.clip(partes3).unmask()\n",
    "# reproj3c = reproj3.clip(partes3).unmask()"
   ]
  },
  {
   "cell_type": "code",
   "execution_count": 131,
   "id": "77ef47fc",
   "metadata": {},
   "outputs": [
    {
     "name": "stdout",
     "output_type": "stream",
     "text": [
      "Exporting mosaico_1985_1 ...\n"
     ]
    }
   ],
   "source": [
    "# geemap.ee_export_image_to_drive(img5_1, description='mosaico_1985_1', folder='export2', region=partes1.geometry(), scale=30)"
   ]
  },
  {
   "cell_type": "code",
   "execution_count": 132,
   "id": "75ba4565",
   "metadata": {},
   "outputs": [
    {
     "name": "stdout",
     "output_type": "stream",
     "text": [
      "Exporting mosaico_1985_2 ...\n"
     ]
    }
   ],
   "source": [
    "# geemap.ee_export_image_to_drive(img5_2, description='mosaico_1985_2', folder='export2', region=partes2.geometry(), scale=30)"
   ]
  },
  {
   "cell_type": "code",
   "execution_count": 133,
   "id": "d153d312",
   "metadata": {},
   "outputs": [
    {
     "name": "stdout",
     "output_type": "stream",
     "text": [
      "Exporting mosaico_1985_3 ...\n"
     ]
    }
   ],
   "source": [
    "# geemap.ee_export_image_to_drive(img5_3, description='mosaico_1985_3', folder='export2', region=partes3.geometry(), scale=30)"
   ]
  },
  {
   "cell_type": "code",
   "execution_count": 134,
   "id": "52bc0093",
   "metadata": {},
   "outputs": [
    {
     "name": "stdout",
     "output_type": "stream",
     "text": [
      "Exporting mosaico_1985_4 ...\n"
     ]
    }
   ],
   "source": [
    "# geemap.ee_export_image_to_drive(img5_4, description='mosaico_1985_4', folder='export2', region=partes4.geometry(), scale=30)"
   ]
  },
  {
   "cell_type": "code",
   "execution_count": 135,
   "id": "cbba57d8",
   "metadata": {},
   "outputs": [
    {
     "name": "stdout",
     "output_type": "stream",
     "text": [
      "Exporting mosaico_1985_5 ...\n"
     ]
    }
   ],
   "source": [
    "# geemap.ee_export_image_to_drive(img5_5, description='mosaico_1985_5', folder='export2', region=partes5.geometry(), scale=30)"
   ]
  },
  {
   "cell_type": "code",
   "execution_count": 136,
   "id": "46e14431",
   "metadata": {},
   "outputs": [
    {
     "name": "stdout",
     "output_type": "stream",
     "text": [
      "Exporting mosaico_1985_6 ...\n"
     ]
    }
   ],
   "source": [
    "# geemap.ee_export_image_to_drive(img5_6, description='mosaico_1985_6', folder='export2', region=partes6.geometry(), scale=30)"
   ]
  },
  {
   "cell_type": "code",
   "execution_count": 137,
   "id": "4522b055",
   "metadata": {},
   "outputs": [
    {
     "name": "stdout",
     "output_type": "stream",
     "text": [
      "Exporting mosaico_1985_7 ...\n"
     ]
    }
   ],
   "source": [
    "# geemap.ee_export_image_to_drive(img5_7, description='mosaico_1985_7', folder='export2', region=partes7.geometry(), scale=30)"
   ]
  },
  {
   "cell_type": "code",
   "execution_count": 138,
   "id": "cf65508f",
   "metadata": {},
   "outputs": [
    {
     "name": "stdout",
     "output_type": "stream",
     "text": [
      "Exporting mosaico_1985_8 ...\n"
     ]
    }
   ],
   "source": [
    "# geemap.ee_export_image_to_drive(img5_8, description='mosaico_1985_8', folder='export2', region=partes8.geometry(), scale=30)"
   ]
  },
  {
   "cell_type": "code",
   "execution_count": null,
   "id": "357acd5b",
   "metadata": {},
   "outputs": [],
   "source": []
  },
  {
   "cell_type": "code",
   "execution_count": 127,
   "id": "bb8a1151",
   "metadata": {
    "ExecuteTime": {
     "end_time": "2021-10-22T14:59:12.570592Z",
     "start_time": "2021-10-22T14:59:07.979260Z"
    }
   },
   "outputs": [
    {
     "name": "stdout",
     "output_type": "stream",
     "text": [
      "Exporting mosaico_1985_1t ...\n",
      "Exporting mosaico_1985_2t ...\n",
      "Exporting mosaico_1985_3t ...\n"
     ]
    }
   ],
   "source": [
    "# geemap.ee_export_image_to_drive(reproj1c, description='mosaico_1985_1t', folder='export2', region=partes3.geometry(), scale=30)\n",
    "# geemap.ee_export_image_to_drive(reproj2c, description='mosaico_1985_2t', folder='export2', region=partes3.geometry(), scale=30)\n",
    "# geemap.ee_export_image_to_drive(reproj3c, description='mosaico_1985_3t', folder='export2', region=partes3.geometry(), scale=30)"
   ]
  },
  {
   "cell_type": "code",
   "execution_count": 130,
   "id": "aea893e3",
   "metadata": {
    "ExecuteTime": {
     "end_time": "2021-10-22T18:15:38.199701Z",
     "start_time": "2021-10-22T18:15:28.711881Z"
    },
    "scrolled": true
   },
   "outputs": [
    {
     "name": "stdout",
     "output_type": "stream",
     "text": [
      "Exporting mosaico_1985_4t ...\n"
     ]
    }
   ],
   "source": [
    "# geemap.ee_export_image_to_drive(img5_3, description='mosaico_1985_4t', folder='export2', region=partes3.geometry(), scale=30)"
   ]
  },
  {
   "cell_type": "code",
   "execution_count": 139,
   "id": "f3170c98",
   "metadata": {},
   "outputs": [],
   "source": [
    "# img5_b = img5_b.clip(molde_grande).unmask()"
   ]
  },
  {
   "cell_type": "code",
   "execution_count": 140,
   "id": "cd579679",
   "metadata": {
    "ExecuteTime": {
     "end_time": "2021-10-20T13:41:10.594898Z",
     "start_time": "2021-10-20T13:41:10.592653Z"
    }
   },
   "outputs": [],
   "source": [
    "# reproj= img5_b \\\n",
    "#     .reproject(crs='EPSG:4326',scale = 30)"
   ]
  },
  {
   "cell_type": "code",
   "execution_count": 141,
   "id": "1b0eec80",
   "metadata": {
    "ExecuteTime": {
     "end_time": "2021-10-20T13:42:34.722101Z",
     "start_time": "2021-10-20T13:42:33.159561Z"
    }
   },
   "outputs": [],
   "source": [
    "# geemap.ee_export_image_to_drive(reproj, description='mosaico_1985', folder='export1', region=molde_grande.geometry(), scale=30)"
   ]
  },
  {
   "cell_type": "code",
   "execution_count": null,
   "id": "fb55bf64",
   "metadata": {},
   "outputs": [],
   "source": []
  }
 ],
 "metadata": {
  "kernelspec": {
   "display_name": "Python 3 (ipykernel)",
   "language": "python",
   "name": "python3"
  },
  "language_info": {
   "codemirror_mode": {
    "name": "ipython",
    "version": 3
   },
   "file_extension": ".py",
   "mimetype": "text/x-python",
   "name": "python",
   "nbconvert_exporter": "python",
   "pygments_lexer": "ipython3",
   "version": "3.8.11"
  },
  "toc": {
   "base_numbering": 1,
   "nav_menu": {},
   "number_sections": true,
   "sideBar": true,
   "skip_h1_title": false,
   "title_cell": "Table of Contents",
   "title_sidebar": "Contents",
   "toc_cell": false,
   "toc_position": {
    "height": "calc(100% - 180px)",
    "left": "10px",
    "top": "150px",
    "width": "384px"
   },
   "toc_section_display": true,
   "toc_window_display": true
  },
  "varInspector": {
   "cols": {
    "lenName": 16,
    "lenType": 16,
    "lenVar": 40
   },
   "kernels_config": {
    "python": {
     "delete_cmd_postfix": "",
     "delete_cmd_prefix": "del ",
     "library": "var_list.py",
     "varRefreshCmd": "print(var_dic_list())"
    },
    "r": {
     "delete_cmd_postfix": ") ",
     "delete_cmd_prefix": "rm(",
     "library": "var_list.r",
     "varRefreshCmd": "cat(var_dic_list()) "
    }
   },
   "types_to_exclude": [
    "module",
    "function",
    "builtin_function_or_method",
    "instance",
    "_Feature"
   ],
   "window_display": false
  }
 },
 "nbformat": 4,
 "nbformat_minor": 5
}
