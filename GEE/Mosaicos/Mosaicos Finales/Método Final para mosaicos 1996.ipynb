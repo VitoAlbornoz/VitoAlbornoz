{
 "cells": [
  {
   "cell_type": "markdown",
   "id": "c8ee7fef",
   "metadata": {},
   "source": [
    "# Mosaico 1996"
   ]
  },
  {
   "cell_type": "markdown",
   "id": "203f76ca",
   "metadata": {},
   "source": [
    "Script trabajado por Francisco Albornoz (2021-04-13) / Última modificación / Mosaicos Patagonia"
   ]
  },
  {
   "cell_type": "markdown",
   "id": "2fb5cdeb",
   "metadata": {},
   "source": [
    "2021-08-05 13:07:09 "
   ]
  },
  {
   "cell_type": "code",
   "execution_count": 1,
   "id": "3057c761",
   "metadata": {},
   "outputs": [],
   "source": [
    "import ee\n",
    "import geemap\n",
    "import geemap.chart as chart\n",
    "import os\n",
    "import folium"
   ]
  },
  {
   "cell_type": "markdown",
   "id": "1997eeb4",
   "metadata": {},
   "source": [
    "<img src=https://www.ecopaysen.cl/wp-content/uploads/2019/12/ecopaysen_marca_web.png>"
   ]
  },
  {
   "cell_type": "code",
   "execution_count": 2,
   "id": "fca49a56",
   "metadata": {},
   "outputs": [],
   "source": [
    "Map = geemap.Map(center = [-45, -70], zoom = 4)\n",
    "Map2 = geemap.Map(center = [-45, -70], zoom = 4)\n",
    "Map3 = geemap.Map(center = [-45, -70], zoom = 4)\n",
    "Map4 = geemap.Map(center = [-45, -70], zoom = 4)\n",
    "Map5 = geemap.Map(center = [-45, -70], zoom = 4)\n",
    "Map6 = geemap.Map(center = [-45, -70], zoom = 4)\n",
    "Map7 = geemap.Map(center = [-45, -70], zoom = 4)\n",
    "Map8 = geemap.Map(center = [-45, -70], zoom = 4)\n",
    "Map9 = geemap.Map(center = [-45, -70], zoom = 4)\n",
    "Map10 = geemap.Map(center = [-45, -70], zoom = 4)"
   ]
  },
  {
   "cell_type": "markdown",
   "id": "f26fe1a2",
   "metadata": {},
   "source": [
    "## Área de Estudio"
   ]
  },
  {
   "cell_type": "code",
   "execution_count": 3,
   "id": "2aae613d",
   "metadata": {},
   "outputs": [],
   "source": [
    "work_dir = os.path.expanduser('../../../Data/shapes/')\n",
    "patagonia = os.path.join(work_dir, 'patagonia_nueva.shp')\n",
    "patagonia_grande = geemap.shp_to_ee(patagonia)"
   ]
  },
  {
   "cell_type": "markdown",
   "id": "fa8e2fea",
   "metadata": {},
   "source": [
    "## Colors Bars"
   ]
  },
  {
   "cell_type": "code",
   "execution_count": 4,
   "id": "1efebd11",
   "metadata": {},
   "outputs": [],
   "source": [
    "import geemap.colormaps as cm"
   ]
  },
  {
   "cell_type": "code",
   "execution_count": 5,
   "id": "d159d70f",
   "metadata": {},
   "outputs": [],
   "source": [
    "# cm.palettes.terrain"
   ]
  },
  {
   "cell_type": "code",
   "execution_count": 6,
   "id": "fe999a91",
   "metadata": {},
   "outputs": [],
   "source": [
    "color_ndvi = cm.palettes.ndvi"
   ]
  },
  {
   "cell_type": "code",
   "execution_count": 7,
   "id": "05fb282a",
   "metadata": {},
   "outputs": [],
   "source": [
    "color_ndwi = cm.palettes.ndwi"
   ]
  },
  {
   "cell_type": "code",
   "execution_count": 8,
   "id": "68161910",
   "metadata": {},
   "outputs": [],
   "source": [
    "color_terrain = cm.palettes.terrain"
   ]
  },
  {
   "cell_type": "code",
   "execution_count": 9,
   "id": "8e99245f",
   "metadata": {},
   "outputs": [],
   "source": [
    "color_glaciar = cm.palettes.PuBuGn_r"
   ]
  },
  {
   "cell_type": "code",
   "execution_count": 10,
   "id": "92b8cf41",
   "metadata": {},
   "outputs": [],
   "source": [
    "color_nubes = cm.palettes.inferno"
   ]
  },
  {
   "cell_type": "code",
   "execution_count": 11,
   "id": "39930741",
   "metadata": {},
   "outputs": [],
   "source": [
    "# cm.list_colormaps()"
   ]
  },
  {
   "cell_type": "code",
   "execution_count": 12,
   "id": "0ce61cbe",
   "metadata": {},
   "outputs": [],
   "source": [
    "# cm.plot_colormaps(width=12, height=0.4)"
   ]
  },
  {
   "cell_type": "markdown",
   "id": "11666045",
   "metadata": {},
   "source": [
    "## Funciones"
   ]
  },
  {
   "cell_type": "code",
   "execution_count": 13,
   "id": "166db170",
   "metadata": {},
   "outputs": [],
   "source": [
    "def add_ee_layer(self, ee_image_object, vis_params, name):\n",
    "  map_id_dict = ee.Image(ee_image_object).getMapId(vis_params)\n",
    "  folium.raster_layers.TileLayer(\n",
    "      tiles=map_id_dict['tile_fetcher'].url_format,\n",
    "      attr='Map Data &copy; <a href=\"https://earthengine.google.com/\">Google Earth Engine</a>',\n",
    "      name=name,\n",
    "      overlay=True,\n",
    "      control=True\n",
    "  ).add_to(self)\n",
    "\n",
    "folium.Map.add_ee_layer = add_ee_layer"
   ]
  },
  {
   "cell_type": "code",
   "execution_count": 14,
   "id": "b9e1cdaf",
   "metadata": {},
   "outputs": [],
   "source": [
    "def addNDVI(image): \n",
    "    ndvi = image.normalizedDifference(['B4', 'B3']).rename('B11')\n",
    "    return image.addBands(ndvi)"
   ]
  },
  {
   "cell_type": "code",
   "execution_count": 15,
   "id": "ad105a37",
   "metadata": {},
   "outputs": [],
   "source": [
    "def addNDWI(image):\n",
    "    ndwi = image.normalizedDifference(['B2','B4']).rename('NDWI')\n",
    "    return image.addBands(ndwi)"
   ]
  },
  {
   "cell_type": "code",
   "execution_count": 16,
   "id": "afd5a921",
   "metadata": {},
   "outputs": [],
   "source": [
    "def addNDGI(image):\n",
    "    ndgi = image.normalizedDifference(['B2','B3']).rename('NDGI')\n",
    "    return image.addBands(ndgi)"
   ]
  },
  {
   "cell_type": "code",
   "execution_count": 17,
   "id": "786770f8",
   "metadata": {},
   "outputs": [],
   "source": [
    "def addSAVI(image):\n",
    "    savi = image.expression(\n",
    "        '((b4 - b3)/(b4 + b3 + 0.5))*1.5', {\n",
    "            'b3':image.select('B3'),\n",
    "            'b4':image.select('B4')\n",
    "        }) \n",
    "    savi= savi.rename('SAVI')\n",
    "    return image.addBands(savi)"
   ]
  },
  {
   "cell_type": "code",
   "execution_count": 18,
   "id": "cffb72aa",
   "metadata": {},
   "outputs": [],
   "source": [
    "def addNDSI(image):\n",
    "    ndsi = image.normalizedDifference(['B2','B5']).rename('NDSI')\n",
    "    return image.addBands(ndsi)"
   ]
  },
  {
   "cell_type": "code",
   "execution_count": 19,
   "id": "4889cabe",
   "metadata": {},
   "outputs": [],
   "source": [
    "def addDate(image):\n",
    "    img_date = ee.Date(image.date())\n",
    "    img_date = ee.Number.parse(img_date.format('YYYYMM'))\n",
    "    return image.addBands(ee.Image(img_date).rename('date').toInt())"
   ]
  },
  {
   "cell_type": "code",
   "execution_count": 20,
   "id": "3115c210",
   "metadata": {},
   "outputs": [],
   "source": [
    "def Cloud30(image):\n",
    "    scored = ee.Algorithms.Landsat.simpleCloudScore(image)\n",
    "    return image.updateMask(scored.select(['cloud']).lt(30)) "
   ]
  },
  {
   "cell_type": "code",
   "execution_count": 21,
   "id": "f86cf507",
   "metadata": {},
   "outputs": [],
   "source": [
    "def Cloud20(image):\n",
    "    scored = ee.Algorithms.Landsat.simpleCloudScore(image)\n",
    "    return image.updateMask(scored.select(['cloud']).lt(20)) "
   ]
  },
  {
   "cell_type": "code",
   "execution_count": 22,
   "id": "9d288b40",
   "metadata": {},
   "outputs": [],
   "source": [
    "def Cloud10(image):\n",
    "    scored = ee.Algorithms.Landsat.simpleCloudScore(image)\n",
    "    return image.updateMask(scored.select(['cloud']).lt(10))"
   ]
  },
  {
   "cell_type": "code",
   "execution_count": 23,
   "id": "92d6ba1b",
   "metadata": {},
   "outputs": [],
   "source": [
    "def addCloud(image):\n",
    "    nube = ee.Algorithms.Landsat.simpleCloudScore(image)\n",
    "    return image.addBands(ee.Image(nube.select(['cloud'])).rename('nube'))"
   ]
  },
  {
   "cell_type": "markdown",
   "id": "d9a442fb",
   "metadata": {},
   "source": [
    "## Colecciones"
   ]
  },
  {
   "cell_type": "markdown",
   "id": "aa32151f",
   "metadata": {},
   "source": [
    "### 1996"
   ]
  },
  {
   "cell_type": "code",
   "execution_count": 24,
   "id": "38cbc7c1",
   "metadata": {},
   "outputs": [],
   "source": [
    "start_date = '1995-10-01'\n",
    "end_date = '1996-03-31'\n",
    "\n",
    "l5_1996 = ee.ImageCollection('LANDSAT/LT05/C01/T1_TOA') \\\n",
    "    .filterBounds(patagonia_grande) \\\n",
    "    .filterDate(start_date, end_date)"
   ]
  },
  {
   "cell_type": "code",
   "execution_count": 25,
   "id": "44318baf",
   "metadata": {},
   "outputs": [],
   "source": [
    "vizParams = {\n",
    "  'bands': ['B4', 'B3', 'B2'],\n",
    "  'min': 0,\n",
    "  'max': 0.5,\n",
    "  'gamma': [0.95, 1.1, 1]\n",
    "}"
   ]
  },
  {
   "cell_type": "code",
   "execution_count": 26,
   "id": "9352e244",
   "metadata": {},
   "outputs": [],
   "source": [
    "vis_nieve = {\n",
    "  'bands': ['B5', 'B3', 'B2'],\n",
    "  'min': 0,\n",
    "  'max': 0.5,\n",
    "  'gamma': [0.95, 1.1, 1]\n",
    "}"
   ]
  },
  {
   "cell_type": "code",
   "execution_count": 27,
   "id": "7a5d8ef0",
   "metadata": {},
   "outputs": [],
   "source": [
    "coleccion1996 = l5_1996.map(addNDVI).map(addNDWI).map(addNDGI).map(addSAVI).map(addNDSI).map(addDate).map(addCloud)"
   ]
  },
  {
   "cell_type": "code",
   "execution_count": 28,
   "id": "c1dec405",
   "metadata": {},
   "outputs": [],
   "source": [
    "QM_NDVI_1996 = coleccion1996.qualityMosaic('B11') # Normalized difference vegetation Index\n",
    "QM_NDWI_1996 = coleccion1996.qualityMosaic('NDWI') # Normalize difference water index\n",
    "QM_SAVI_1996 = coleccion1996.qualityMosaic('SAVI') # Soil Adjusted Vegetation Index \n",
    "QM_NDGI_1996 = coleccion1996.qualityMosaic('NDGI') # Normalized difference glacier index\n",
    "QM_NDSI_1996 = coleccion1996.qualityMosaic('NDSI') # Normalized difference snow index"
   ]
  },
  {
   "cell_type": "code",
   "execution_count": 29,
   "id": "0e8813c7",
   "metadata": {},
   "outputs": [
    {
     "data": {
      "application/vnd.jupyter.widget-view+json": {
       "model_id": "f0df861b355347c0a967af1af59e0552",
       "version_major": 2,
       "version_minor": 0
      },
      "text/plain": [
       "Map(center=[-45, -70], controls=(WidgetControl(options=['position', 'transparent_bg'], widget=HBox(children=(T…"
      ]
     },
     "metadata": {},
     "output_type": "display_data"
    }
   ],
   "source": [
    "Map.addLayer(QM_NDVI_1996, vizParams, 'QM de NDVI 1996')\n",
    "Map.addLayer(QM_NDWI_1996, vizParams, 'QM de NDWI 1996')\n",
    "Map.addLayer(QM_SAVI_1996, vizParams, 'QM de SAVI 1996')\n",
    "Map.addLayer(QM_NDGI_1996, vis_nieve, 'QM de NDGI 1996')\n",
    "Map.addLayer(QM_NDSI_1996, vis_nieve, 'QM de NDSI 1996')\n",
    "Map "
   ]
  },
  {
   "cell_type": "code",
   "execution_count": 30,
   "id": "0c24b2b0",
   "metadata": {},
   "outputs": [],
   "source": [
    "c1996_sn = coleccion1996.map(Cloud20)\n",
    "NDVI_1996_sn = c1996_sn.qualityMosaic('B11')\n",
    "NDWI_1996_sn = c1996_sn.qualityMosaic('NDWI')\n",
    "SAVI_1996_sn = c1996_sn.qualityMosaic('SAVI')\n",
    "NDGI_1996_sn = c1996_sn.qualityMosaic('NDGI')\n",
    "NDSI_1996_sn = c1996_sn.qualityMosaic('NDSI')"
   ]
  },
  {
   "cell_type": "code",
   "execution_count": 31,
   "id": "dcc165dc",
   "metadata": {},
   "outputs": [
    {
     "data": {
      "application/vnd.jupyter.widget-view+json": {
       "model_id": "146e8a9afd064897b4c79c62be0f3d56",
       "version_major": 2,
       "version_minor": 0
      },
      "text/plain": [
       "Map(center=[-45, -70], controls=(WidgetControl(options=['position', 'transparent_bg'], widget=HBox(children=(T…"
      ]
     },
     "metadata": {},
     "output_type": "display_data"
    }
   ],
   "source": [
    "Map2.addLayer(NDVI_1996_sn, vizParams, 'QMsn de NDVI 1996')\n",
    "Map2.addLayer(NDWI_1996_sn, vizParams, 'QMsn de NDWI 1996')\n",
    "Map2.addLayer(SAVI_1996_sn, vizParams, 'QMsn de SAVI 1996')\n",
    "Map2.addLayer(NDGI_1996_sn, vis_nieve, 'QMsn de NDGI 1996')\n",
    "Map2.addLayer(NDSI_1996_sn, vis_nieve, 'QMsn de NDSI 1996')\n",
    "Map2"
   ]
  },
  {
   "cell_type": "markdown",
   "id": "ccec25b0",
   "metadata": {},
   "source": [
    "### 1997"
   ]
  },
  {
   "cell_type": "code",
   "execution_count": 32,
   "id": "ef53f13a",
   "metadata": {},
   "outputs": [],
   "source": [
    "start_date = '1996-10-01'\n",
    "end_date = '1997-03-31'\n",
    "\n",
    "l5_1997 = ee.ImageCollection('LANDSAT/LT05/C01/T1_TOA') \\\n",
    "    .filterBounds(patagonia_grande) \\\n",
    "    .filterDate(start_date, end_date)"
   ]
  },
  {
   "cell_type": "code",
   "execution_count": 33,
   "id": "06a293d6",
   "metadata": {},
   "outputs": [],
   "source": [
    "coleccion1997 = l5_1997.map(addNDVI).map(addNDWI).map(addNDGI).map(addSAVI).map(addNDSI).map(addDate).map(addCloud)"
   ]
  },
  {
   "cell_type": "code",
   "execution_count": 34,
   "id": "f724bb1b",
   "metadata": {},
   "outputs": [],
   "source": [
    "QM_NDVI_1997 = coleccion1997.qualityMosaic('B11') # Normalized difference vegetation Index\n",
    "QM_NDWI_1997 = coleccion1997.qualityMosaic('NDWI') # Normalize difference water index\n",
    "QM_SAVI_1997 = coleccion1997.qualityMosaic('SAVI') # Soil Adjusted Vegetation Index \n",
    "QM_NDGI_1997 = coleccion1997.qualityMosaic('NDGI') # Normalized difference glacier index\n",
    "QM_NDSI_1997 = coleccion1997.qualityMosaic('NDSI') # Normalized difference snow index"
   ]
  },
  {
   "cell_type": "code",
   "execution_count": 35,
   "id": "6c001bbc",
   "metadata": {},
   "outputs": [
    {
     "data": {
      "application/vnd.jupyter.widget-view+json": {
       "model_id": "f0df861b355347c0a967af1af59e0552",
       "version_major": 2,
       "version_minor": 0
      },
      "text/plain": [
       "Map(center=[-45, -70], controls=(WidgetControl(options=['position', 'transparent_bg'], widget=HBox(children=(T…"
      ]
     },
     "metadata": {},
     "output_type": "display_data"
    }
   ],
   "source": [
    "Map.addLayer(QM_NDVI_1997, vizParams, 'QM de NDVI 1997')\n",
    "Map.addLayer(QM_NDWI_1997, vizParams, 'QM de NDWI 1997')\n",
    "Map.addLayer(QM_SAVI_1997, vizParams, 'QM de SAVI 1997')\n",
    "Map.addLayer(QM_NDGI_1997, vis_nieve, 'QM de NDGI 1997')\n",
    "Map.addLayer(QM_NDSI_1997, vis_nieve, 'QM de NDSI 1997')\n",
    "Map "
   ]
  },
  {
   "cell_type": "code",
   "execution_count": 36,
   "id": "06eebe04",
   "metadata": {},
   "outputs": [],
   "source": [
    "c1997_sn = coleccion1997.map(Cloud20)\n",
    "NDVI_1997_sn = c1997_sn.qualityMosaic('B11')\n",
    "NDWI_1997_sn = c1997_sn.qualityMosaic('NDWI')\n",
    "SAVI_1997_sn = c1997_sn.qualityMosaic('SAVI')\n",
    "NDGI_1997_sn = c1997_sn.qualityMosaic('NDGI')\n",
    "NDSI_1997_sn = c1997_sn.qualityMosaic('NDSI')"
   ]
  },
  {
   "cell_type": "code",
   "execution_count": 37,
   "id": "7121bf75",
   "metadata": {},
   "outputs": [
    {
     "data": {
      "application/vnd.jupyter.widget-view+json": {
       "model_id": "146e8a9afd064897b4c79c62be0f3d56",
       "version_major": 2,
       "version_minor": 0
      },
      "text/plain": [
       "Map(center=[-45, -70], controls=(WidgetControl(options=['position', 'transparent_bg'], widget=HBox(children=(T…"
      ]
     },
     "metadata": {},
     "output_type": "display_data"
    }
   ],
   "source": [
    "Map2.addLayer(NDVI_1997_sn, vizParams, 'QMsn de NDVI 1997')\n",
    "Map2.addLayer(NDWI_1997_sn, vizParams, 'QMsn de NDWI 1997')\n",
    "Map2.addLayer(SAVI_1997_sn, vizParams, 'QMsn de SAVI 1997')\n",
    "Map2.addLayer(NDGI_1997_sn, vis_nieve, 'QMsn de NDGI 1997')\n",
    "Map2.addLayer(NDSI_1997_sn, vis_nieve, 'QMsn de NDSI 1997')\n",
    "Map2"
   ]
  },
  {
   "cell_type": "markdown",
   "id": "b1fff37f",
   "metadata": {},
   "source": [
    "### 1998"
   ]
  },
  {
   "cell_type": "code",
   "execution_count": 38,
   "id": "ed8a2ed2",
   "metadata": {},
   "outputs": [],
   "source": [
    "start_date = '1997-10-01'\n",
    "end_date = '1998-03-31'\n",
    "\n",
    "l5_1998 = ee.ImageCollection('LANDSAT/LT05/C01/T1_TOA') \\\n",
    "    .filterBounds(patagonia_grande) \\\n",
    "    .filterDate(start_date, end_date)"
   ]
  },
  {
   "cell_type": "code",
   "execution_count": 39,
   "id": "ac158dd0",
   "metadata": {},
   "outputs": [],
   "source": [
    "coleccion1998 = l5_1998.map(addNDVI).map(addNDWI).map(addNDGI).map(addSAVI).map(addNDSI).map(addDate).map(addCloud)"
   ]
  },
  {
   "cell_type": "code",
   "execution_count": 40,
   "id": "531b33cd",
   "metadata": {},
   "outputs": [],
   "source": [
    "QM_NDVI_1998 = coleccion1998.qualityMosaic('B11') # Normalized difference vegetation Index\n",
    "QM_NDWI_1998 = coleccion1998.qualityMosaic('NDWI') # Normalize difference water index\n",
    "QM_SAVI_1998 = coleccion1998.qualityMosaic('SAVI') # Soil Adjusted Vegetation Index \n",
    "QM_NDGI_1998 = coleccion1998.qualityMosaic('NDGI') # Normalized difference glacier index\n",
    "QM_NDSI_1998 = coleccion1998.qualityMosaic('NDSI') # Normalized difference snow index"
   ]
  },
  {
   "cell_type": "code",
   "execution_count": 41,
   "id": "22b9a628",
   "metadata": {},
   "outputs": [],
   "source": [
    "Map3.addLayer(QM_NDVI_1998, vizParams, 'QM de NDVI 1998')\n",
    "Map3.addLayer(QM_NDWI_1998, vizParams, 'QM de NDWI 1998')\n",
    "Map3.addLayer(QM_SAVI_1998, vizParams, 'QM de SAVI 1998')\n",
    "Map3.addLayer(QM_NDGI_1998, vis_nieve, 'QM de NDGI 1998')\n",
    "Map3.addLayer(QM_NDSI_1998, vis_nieve, 'QM de NDSI 1998')\n",
    "# Map3"
   ]
  },
  {
   "cell_type": "code",
   "execution_count": 42,
   "id": "37413530",
   "metadata": {},
   "outputs": [],
   "source": [
    "c1998_sn = coleccion1998.map(Cloud20)\n",
    "NDVI_1998_sn = c1998_sn.qualityMosaic('B11')\n",
    "NDWI_1998_sn = c1998_sn.qualityMosaic('NDWI')\n",
    "SAVI_1998_sn = c1998_sn.qualityMosaic('SAVI')\n",
    "NDGI_1998_sn = c1998_sn.qualityMosaic('NDGI')\n",
    "NDSI_1998_sn = c1998_sn.qualityMosaic('NDSI')"
   ]
  },
  {
   "cell_type": "code",
   "execution_count": 43,
   "id": "ee1a2de2",
   "metadata": {},
   "outputs": [
    {
     "data": {
      "application/vnd.jupyter.widget-view+json": {
       "model_id": "399291fff6e24b8e94bb06fedc1e96c9",
       "version_major": 2,
       "version_minor": 0
      },
      "text/plain": [
       "Map(center=[-45, -70], controls=(WidgetControl(options=['position', 'transparent_bg'], widget=HBox(children=(T…"
      ]
     },
     "metadata": {},
     "output_type": "display_data"
    }
   ],
   "source": [
    "Map4.addLayer(NDVI_1998_sn, vizParams, 'QMsn de NDVI 1998')\n",
    "Map4.addLayer(NDWI_1998_sn, vizParams, 'QMsn de NDWI 1998')\n",
    "Map4.addLayer(SAVI_1998_sn, vizParams, 'QMsn de SAVI 1998')\n",
    "Map4.addLayer(NDGI_1998_sn, vis_nieve, 'QMsn de NDGI 1998')\n",
    "Map4.addLayer(NDSI_1998_sn, vis_nieve, 'QMsn de NDSI 1998')\n",
    "Map4"
   ]
  },
  {
   "cell_type": "markdown",
   "id": "3ca14015",
   "metadata": {},
   "source": [
    "### 1999 "
   ]
  },
  {
   "cell_type": "code",
   "execution_count": 44,
   "id": "d59e13c5",
   "metadata": {},
   "outputs": [],
   "source": [
    "start_date = '1998-10-01'\n",
    "end_date = '1999-03-31'\n",
    "\n",
    "l5_1999 = ee.ImageCollection('LANDSAT/LT05/C01/T1_TOA') \\\n",
    "    .filterBounds(patagonia_grande) \\\n",
    "    .filterDate(start_date, end_date)"
   ]
  },
  {
   "cell_type": "code",
   "execution_count": 45,
   "id": "2950acf4",
   "metadata": {},
   "outputs": [],
   "source": [
    "coleccion1999 = l5_1999.map(addNDVI).map(addNDWI).map(addNDGI).map(addSAVI).map(addNDSI).map(addDate).map(addCloud)"
   ]
  },
  {
   "cell_type": "code",
   "execution_count": 46,
   "id": "5a597254",
   "metadata": {},
   "outputs": [],
   "source": [
    "QM_NDVI_1999 = coleccion1999.qualityMosaic('B11') # Normalized difference vegetation Index\n",
    "QM_NDWI_1999 = coleccion1999.qualityMosaic('NDWI') # Normalize difference water index\n",
    "QM_SAVI_1999 = coleccion1999.qualityMosaic('SAVI') # Soil Adjusted Vegetation Index \n",
    "QM_NDGI_1999 = coleccion1999.qualityMosaic('NDGI') # Normalized difference glacier index\n",
    "QM_NDSI_1999 = coleccion1999.qualityMosaic('NDSI') # Normalized difference snow index"
   ]
  },
  {
   "cell_type": "code",
   "execution_count": 47,
   "id": "a5ebcefb",
   "metadata": {},
   "outputs": [],
   "source": [
    "Map3.addLayer(QM_NDVI_1999, vizParams, 'QM de NDVI 1999')\n",
    "Map3.addLayer(QM_NDWI_1999, vizParams, 'QM de NDWI 1999')\n",
    "Map3.addLayer(QM_SAVI_1999, vizParams, 'QM de SAVI 1999')\n",
    "Map3.addLayer(QM_NDGI_1999, vis_nieve, 'QM de NDGI 1999')\n",
    "Map3.addLayer(QM_NDSI_1999, vis_nieve, 'QM de NDSI 1999')\n",
    "# Map3"
   ]
  },
  {
   "cell_type": "code",
   "execution_count": 48,
   "id": "f1ff7467",
   "metadata": {},
   "outputs": [],
   "source": [
    "c1999_sn = coleccion1999.map(Cloud20)\n",
    "NDVI_1999_sn = c1999_sn.qualityMosaic('B11')\n",
    "NDWI_1999_sn = c1999_sn.qualityMosaic('NDWI')\n",
    "SAVI_1999_sn = c1999_sn.qualityMosaic('SAVI')\n",
    "NDGI_1999_sn = c1999_sn.qualityMosaic('NDGI')\n",
    "NDSI_1999_sn = c1999_sn.qualityMosaic('NDSI')"
   ]
  },
  {
   "cell_type": "code",
   "execution_count": 49,
   "id": "fd655c06",
   "metadata": {},
   "outputs": [
    {
     "data": {
      "application/vnd.jupyter.widget-view+json": {
       "model_id": "399291fff6e24b8e94bb06fedc1e96c9",
       "version_major": 2,
       "version_minor": 0
      },
      "text/plain": [
       "Map(center=[-45, -70], controls=(WidgetControl(options=['position', 'transparent_bg'], widget=HBox(children=(T…"
      ]
     },
     "metadata": {},
     "output_type": "display_data"
    }
   ],
   "source": [
    "Map4.addLayer(NDVI_1999_sn, vizParams, 'QMsn de NDVI 1999')\n",
    "Map4.addLayer(NDWI_1999_sn, vizParams, 'QMsn de NDWI 1999')\n",
    "Map4.addLayer(SAVI_1999_sn, vizParams, 'QMsn de SAVI 1999')\n",
    "Map4.addLayer(NDGI_1999_sn, vis_nieve, 'QMsn de NDGI 1999')\n",
    "Map4.addLayer(NDSI_1999_sn, vis_nieve, 'QMsn de NDSI 1999')\n",
    "Map4"
   ]
  },
  {
   "cell_type": "markdown",
   "id": "d7f0b6de",
   "metadata": {},
   "source": [
    "### 2000"
   ]
  },
  {
   "cell_type": "code",
   "execution_count": 50,
   "id": "491cf237",
   "metadata": {},
   "outputs": [],
   "source": [
    "start_date = '1999-10-01'\n",
    "end_date = '2000-03-31'\n",
    "\n",
    "l5_2000 = ee.ImageCollection('LANDSAT/LT05/C01/T1_TOA') \\\n",
    "    .filterBounds(patagonia_grande) \\\n",
    "    .filterDate(start_date, end_date)"
   ]
  },
  {
   "cell_type": "code",
   "execution_count": 51,
   "id": "e3614c15",
   "metadata": {},
   "outputs": [],
   "source": [
    "coleccion2000 = l5_2000.map(addNDVI).map(addNDWI).map(addNDGI).map(addSAVI).map(addNDSI).map(addDate).map(addCloud)"
   ]
  },
  {
   "cell_type": "code",
   "execution_count": 52,
   "id": "920753f5",
   "metadata": {},
   "outputs": [],
   "source": [
    "QM_NDVI_2000 = coleccion2000.qualityMosaic('B11') # Normalized difference vegetation Index\n",
    "QM_NDWI_2000 = coleccion2000.qualityMosaic('NDWI') # Normalize difference water index\n",
    "QM_SAVI_2000 = coleccion2000.qualityMosaic('SAVI') # Soil Adjusted Vegetation Index \n",
    "QM_NDGI_2000 = coleccion2000.qualityMosaic('NDGI') # Normalized difference glacier index\n",
    "QM_NDSI_2000 = coleccion2000.qualityMosaic('NDSI') # Normalized difference snow index"
   ]
  },
  {
   "cell_type": "code",
   "execution_count": 53,
   "id": "cc8d0a3c",
   "metadata": {},
   "outputs": [],
   "source": [
    "Map3.addLayer(QM_NDVI_2000, vizParams, 'QM de NDVI 2000')\n",
    "Map3.addLayer(QM_NDWI_2000, vizParams, 'QM de NDWI 2000')\n",
    "Map3.addLayer(QM_SAVI_2000, vizParams, 'QM de SAVI 2000')\n",
    "Map3.addLayer(QM_NDGI_2000, vis_nieve, 'QM de NDGI 2000')\n",
    "Map3.addLayer(QM_NDSI_2000, vis_nieve, 'QM de NDSI 2000')\n",
    "# Map3"
   ]
  },
  {
   "cell_type": "code",
   "execution_count": 54,
   "id": "ebf9f100",
   "metadata": {},
   "outputs": [],
   "source": [
    "c2000_sn = coleccion2000.map(Cloud20)\n",
    "NDVI_2000_sn = c2000_sn.qualityMosaic('B11')\n",
    "NDWI_2000_sn = c2000_sn.qualityMosaic('NDWI')\n",
    "SAVI_2000_sn = c2000_sn.qualityMosaic('SAVI')\n",
    "NDGI_2000_sn = c2000_sn.qualityMosaic('NDGI')\n",
    "NDSI_2000_sn = c2000_sn.qualityMosaic('NDSI')"
   ]
  },
  {
   "cell_type": "code",
   "execution_count": 55,
   "id": "6a4270ee",
   "metadata": {},
   "outputs": [
    {
     "data": {
      "application/vnd.jupyter.widget-view+json": {
       "model_id": "399291fff6e24b8e94bb06fedc1e96c9",
       "version_major": 2,
       "version_minor": 0
      },
      "text/plain": [
       "Map(center=[-45, -70], controls=(WidgetControl(options=['position', 'transparent_bg'], widget=HBox(children=(T…"
      ]
     },
     "metadata": {},
     "output_type": "display_data"
    }
   ],
   "source": [
    "Map4.addLayer(NDVI_2000_sn, vizParams, 'QMsn de NDVI 2000')\n",
    "Map4.addLayer(NDWI_2000_sn, vizParams, 'QMsn de NDWI 2000')\n",
    "Map4.addLayer(SAVI_2000_sn, vizParams, 'QMsn de SAVI 2000')\n",
    "Map4.addLayer(NDGI_2000_sn, vis_nieve, 'QMsn de NDGI 2000')\n",
    "Map4.addLayer(NDSI_2000_sn, vis_nieve, 'QMsn de NDSI 2000')\n",
    "Map4"
   ]
  },
  {
   "cell_type": "markdown",
   "id": "92186d5f",
   "metadata": {},
   "source": [
    "#### Colección agua 1996-1999"
   ]
  },
  {
   "cell_type": "code",
   "execution_count": 56,
   "id": "db661337",
   "metadata": {},
   "outputs": [],
   "source": [
    "start_date = '1995-10-01'\n",
    "end_date = '2000-03-31'\n",
    "\n",
    "l5_sur = ee.ImageCollection('LANDSAT/LT05/C01/T1_TOA') \\\n",
    "    .filterBounds(patagonia_grande) \\\n",
    "    .filterDate(start_date, end_date)"
   ]
  },
  {
   "cell_type": "code",
   "execution_count": 57,
   "id": "7b8ccf86",
   "metadata": {},
   "outputs": [],
   "source": [
    "coleccionsur = l5_sur.map(addNDVI).map(addNDWI).map(addNDGI).map(addSAVI).map(addNDSI).map(addDate).map(addCloud)"
   ]
  },
  {
   "cell_type": "code",
   "execution_count": 58,
   "id": "f78eb911",
   "metadata": {},
   "outputs": [],
   "source": [
    "QM_NDVI_sur = coleccionsur.qualityMosaic('B11') # Normalized difference vegetation Index\n",
    "QM_NDWI_sur = coleccionsur.qualityMosaic('NDWI') # Normalize difference water index\n",
    "QM_SAVI_sur = coleccionsur.qualityMosaic('SAVI') # Soil Adjusted Vegetation Index \n",
    "QM_NDGI_sur = coleccionsur.qualityMosaic('NDGI') # Normalized difference glacier index\n",
    "QM_NDSI_sur = coleccionsur.qualityMosaic('NDSI') # Normalized difference snow index"
   ]
  },
  {
   "cell_type": "code",
   "execution_count": 59,
   "id": "4c8d2ed0",
   "metadata": {},
   "outputs": [],
   "source": [
    "Map3.addLayer(QM_NDVI_sur, vizParams, 'QM de NDVI sur')\n",
    "Map3.addLayer(QM_NDWI_sur, vizParams, 'QM de NDWI sur')\n",
    "Map3.addLayer(QM_SAVI_sur, vizParams, 'QM de SAVI sur')\n",
    "Map3.addLayer(QM_NDGI_sur, vis_nieve, 'QM de NDGI sur')\n",
    "Map3.addLayer(QM_NDSI_sur, vis_nieve, 'QM de NDSI sur')\n",
    "# Map3"
   ]
  },
  {
   "cell_type": "code",
   "execution_count": 60,
   "id": "a27259e6",
   "metadata": {},
   "outputs": [],
   "source": [
    "csur_sn = coleccionsur.map(Cloud20)\n",
    "NDVI_sur_sn = csur_sn.qualityMosaic('B11')\n",
    "NDWI_sur_sn = csur_sn.qualityMosaic('NDWI')\n",
    "SAVI_sur_sn = csur_sn.qualityMosaic('SAVI')\n",
    "NDGI_sur_sn = csur_sn.qualityMosaic('NDGI')\n",
    "NDSI_sur_sn = csur_sn.qualityMosaic('NDSI')"
   ]
  },
  {
   "cell_type": "code",
   "execution_count": 61,
   "id": "20179bf9",
   "metadata": {},
   "outputs": [
    {
     "data": {
      "application/vnd.jupyter.widget-view+json": {
       "model_id": "399291fff6e24b8e94bb06fedc1e96c9",
       "version_major": 2,
       "version_minor": 0
      },
      "text/plain": [
       "Map(center=[-45, -70], controls=(WidgetControl(options=['position', 'transparent_bg'], widget=HBox(children=(T…"
      ]
     },
     "metadata": {},
     "output_type": "display_data"
    }
   ],
   "source": [
    "Map4.addLayer(NDVI_sur_sn, vizParams, 'QMsn de NDVI sur')\n",
    "Map4.addLayer(NDWI_sur_sn, vizParams, 'QMsn de NDWI sur')\n",
    "Map4.addLayer(SAVI_sur_sn, vizParams, 'QMsn de SAVI sur')\n",
    "Map4.addLayer(NDGI_sur_sn, vis_nieve, 'QMsn de NDGI sur')\n",
    "Map4.addLayer(NDSI_sur_sn, vis_nieve, 'QMsn de NDSI sur')\n",
    "Map4"
   ]
  },
  {
   "cell_type": "markdown",
   "id": "dd7d911d",
   "metadata": {},
   "source": [
    "## Indices por colección"
   ]
  },
  {
   "cell_type": "markdown",
   "id": "4ea0a4cd",
   "metadata": {},
   "source": [
    "### Índices 1996"
   ]
  },
  {
   "cell_type": "code",
   "execution_count": 62,
   "id": "426dfca0",
   "metadata": {},
   "outputs": [],
   "source": [
    "NDVI_1996 = NDVI_1996_sn.select('B11')\n",
    "NDWI_1996 = NDWI_1996_sn.select('NDWI') \n",
    "SAVI_1996 = SAVI_1996_sn.select('SAVI')\n",
    "NDGI_1996 = NDGI_1996_sn.select('NDGI')\n",
    "NDSI_1996 = NDSI_1996_sn.select('NDSI')"
   ]
  },
  {
   "cell_type": "code",
   "execution_count": 63,
   "id": "eaf84698",
   "metadata": {},
   "outputs": [
    {
     "data": {
      "application/vnd.jupyter.widget-view+json": {
       "model_id": "a08da675a5dc4d709476b7ae7c95d252",
       "version_major": 2,
       "version_minor": 0
      },
      "text/plain": [
       "Map(center=[-45, -70], controls=(WidgetControl(options=['position', 'transparent_bg'], widget=HBox(children=(T…"
      ]
     },
     "metadata": {},
     "output_type": "display_data"
    }
   ],
   "source": [
    "Map7.addLayer(NDVI_1996, {'palette': color_terrain}, 'QMsn de NDVI 1996')\n",
    "Map7.addLayer(NDWI_1996, {'palette': color_ndwi}, 'QMsn de NDWI 1996')\n",
    "Map7.addLayer(SAVI_1996, {'palette': color_ndvi}, 'QMsn de SAVI 1996')\n",
    "# Map7.addLayer(NDGI_1996, {'palette': color_glaciar}, 'QMsn de NDGI 1996')\n",
    "# Map7.addLayer(NDSI_1996, {'palette': color_ndwi}, 'QMsn de NDSI 1996')\n",
    "Map7"
   ]
  },
  {
   "cell_type": "markdown",
   "id": "1e0309e1",
   "metadata": {},
   "source": [
    "### Índices 1997"
   ]
  },
  {
   "cell_type": "code",
   "execution_count": 64,
   "id": "cc1253c0",
   "metadata": {},
   "outputs": [],
   "source": [
    "NDVI_1997 = NDVI_1997_sn.select('B11')\n",
    "NDWI_1997 = NDWI_1997_sn.select('NDWI') \n",
    "SAVI_1997 = SAVI_1997_sn.select('SAVI')\n",
    "NDGI_1997 = NDGI_1997_sn.select('NDGI')\n",
    "NDSI_1997 = NDSI_1997_sn.select('NDSI')"
   ]
  },
  {
   "cell_type": "code",
   "execution_count": 65,
   "id": "3e0524d7",
   "metadata": {},
   "outputs": [
    {
     "data": {
      "application/vnd.jupyter.widget-view+json": {
       "model_id": "a08da675a5dc4d709476b7ae7c95d252",
       "version_major": 2,
       "version_minor": 0
      },
      "text/plain": [
       "Map(center=[-45, -70], controls=(WidgetControl(options=['position', 'transparent_bg'], widget=HBox(children=(T…"
      ]
     },
     "metadata": {},
     "output_type": "display_data"
    }
   ],
   "source": [
    "Map7.addLayer(NDVI_1997, {'palette': color_terrain}, 'QMsn de NDVI 1997')\n",
    "Map7.addLayer(NDWI_1997, {'palette': color_ndwi}, 'QMsn de NDWI 1997')\n",
    "Map7.addLayer(SAVI_1997, {'palette': color_ndvi}, 'QMsn de SAVI 1997')\n",
    "# Map7.addLayer(NDGI_1997, {'palette': color_glaciar}, 'QMsn de NDGI 1997')\n",
    "# Map7.addLayer(NDSI_1997, {'palette': color_ndwi}, 'QMsn de NDSI 1997')\n",
    "Map7"
   ]
  },
  {
   "cell_type": "markdown",
   "id": "4aee56c9",
   "metadata": {},
   "source": [
    "### Índices 1998"
   ]
  },
  {
   "cell_type": "code",
   "execution_count": 66,
   "id": "4a0a2445",
   "metadata": {},
   "outputs": [],
   "source": [
    "NDVI_1998 = NDVI_1998_sn.select('B11')\n",
    "NDWI_1998 = NDWI_1998_sn.select('NDWI') \n",
    "SAVI_1998 = SAVI_1998_sn.select('SAVI')\n",
    "NDGI_1998 = NDGI_1998_sn.select('NDGI')\n",
    "NDSI_1998 = NDSI_1998_sn.select('NDSI')"
   ]
  },
  {
   "cell_type": "code",
   "execution_count": 67,
   "id": "144629ba",
   "metadata": {},
   "outputs": [
    {
     "data": {
      "application/vnd.jupyter.widget-view+json": {
       "model_id": "b03784848efc4173a9afe18b95416580",
       "version_major": 2,
       "version_minor": 0
      },
      "text/plain": [
       "Map(center=[-45, -70], controls=(WidgetControl(options=['position', 'transparent_bg'], widget=HBox(children=(T…"
      ]
     },
     "metadata": {},
     "output_type": "display_data"
    }
   ],
   "source": [
    "Map8.addLayer(NDVI_1998, {'palette': color_terrain}, 'QMsn de NDVI 1998')\n",
    "Map8.addLayer(NDWI_1998, {'palette': color_ndwi}, 'QMsn de NDWI 1998')\n",
    "Map8.addLayer(SAVI_1998, {'palette': color_ndvi}, 'QMsn de SAVI 1998')\n",
    "# Map8.addLayer(NDGI_1998, {'palette': color_glaciar}, 'QMsn de NDGI 1998')\n",
    "# Map8.addLayer(NDSI_1998, {'palette': color_ndwi}, 'QMsn de NDSI 1998')\n",
    "Map8"
   ]
  },
  {
   "cell_type": "markdown",
   "id": "4d623e13",
   "metadata": {},
   "source": [
    "### Índices 1999"
   ]
  },
  {
   "cell_type": "code",
   "execution_count": 68,
   "id": "6fcc2adb",
   "metadata": {},
   "outputs": [],
   "source": [
    "NDVI_1999 = NDVI_1999_sn.select('B11')\n",
    "NDWI_1999 = NDWI_1999_sn.select('NDWI') \n",
    "SAVI_1999 = SAVI_1999_sn.select('SAVI')\n",
    "NDGI_1999 = NDGI_1999_sn.select('NDGI')\n",
    "NDSI_1999 = NDSI_1999_sn.select('NDSI')"
   ]
  },
  {
   "cell_type": "code",
   "execution_count": 69,
   "id": "e1eb9022",
   "metadata": {},
   "outputs": [
    {
     "data": {
      "application/vnd.jupyter.widget-view+json": {
       "model_id": "b03784848efc4173a9afe18b95416580",
       "version_major": 2,
       "version_minor": 0
      },
      "text/plain": [
       "Map(center=[-45, -70], controls=(WidgetControl(options=['position', 'transparent_bg'], widget=HBox(children=(T…"
      ]
     },
     "metadata": {},
     "output_type": "display_data"
    }
   ],
   "source": [
    "Map8.addLayer(NDVI_1999, {'palette': color_terrain}, 'QMsn de NDVI 1999')\n",
    "Map8.addLayer(NDWI_1999, {'palette': color_ndwi}, 'QMsn de NDWI 1999')\n",
    "Map8.addLayer(SAVI_1999, {'palette': color_ndvi}, 'QMsn de SAVI 1999')\n",
    "# Map8.addLayer(NDGI_1999, {'palette': color_glaciar}, 'QMsn de NDGI 1999')\n",
    "# Map8.addLayer(NDSI_1999, {'palette': color_ndwi}, 'QMsn de NDSI 1999')\n",
    "Map8"
   ]
  },
  {
   "cell_type": "markdown",
   "id": "dd05e9e8",
   "metadata": {},
   "source": [
    "## Generación de Mosaico"
   ]
  },
  {
   "cell_type": "code",
   "execution_count": 70,
   "id": "5643cdaf",
   "metadata": {},
   "outputs": [],
   "source": [
    "mosaic = ee.ImageCollection([QM_NDVI_sur,QM_NDVI_1996]).mosaic()"
   ]
  },
  {
   "cell_type": "code",
   "execution_count": 71,
   "id": "9b229098",
   "metadata": {},
   "outputs": [],
   "source": [
    "mosaic_landsat = mosaic.set('SENSOR_ID', 'OLI_TIRS')"
   ]
  },
  {
   "cell_type": "code",
   "execution_count": 72,
   "id": "a98110ba",
   "metadata": {},
   "outputs": [],
   "source": [
    "cloud_mosaic = ee.Algorithms.Landsat.simpleCloudScore(mosaic_landsat)"
   ]
  },
  {
   "cell_type": "code",
   "execution_count": 73,
   "id": "745b712d",
   "metadata": {},
   "outputs": [],
   "source": [
    "cloud_mosaic = cloud_mosaic.select('cloud')"
   ]
  },
  {
   "cell_type": "code",
   "execution_count": 74,
   "id": "3351dfe9",
   "metadata": {},
   "outputs": [],
   "source": [
    "palette_nubes = ['#1a9850', '#66bd63', '#a6d96a', '#d9ef8b', '#fee08b', '#fdae61', '#f46d43', '#d73027']"
   ]
  },
  {
   "cell_type": "code",
   "execution_count": 75,
   "id": "aa1c77e2",
   "metadata": {},
   "outputs": [],
   "source": [
    "resultados= [cloud_mosaic, mosaic]\n",
    "vis_params2=  [\n",
    "    {'palette':palette_nubes}, \n",
    "    vizParams]\n",
    "labels = [\n",
    "    'Nubes mosaico',\n",
    "    'mosaico inicial']"
   ]
  },
  {
   "cell_type": "code",
   "execution_count": 76,
   "id": "28e91129",
   "metadata": {},
   "outputs": [
    {
     "data": {
      "application/vnd.jupyter.widget-view+json": {
       "model_id": "20b3b1258d574e4caa1aaf88bb914711",
       "version_major": 2,
       "version_minor": 0
      },
      "text/plain": [
       "GridspecLayout(children=(Output(layout=Layout(grid_area='widget001')), Output(layout=Layout(grid_area='widget0…"
      ]
     },
     "metadata": {},
     "output_type": "display_data"
    }
   ],
   "source": [
    "geemap.linked_maps(rows=1, cols=2, height=\"400px\", center=[-45, -75], zoom=4, \n",
    "                   ee_objects=resultados, vis_params=vis_params2, labels=labels, label_position=\"topright\")"
   ]
  },
  {
   "cell_type": "code",
   "execution_count": 77,
   "id": "93ea56bf",
   "metadata": {},
   "outputs": [],
   "source": [
    "def llenado(image):\n",
    "    return image.where(cloud_mosaic.gt(20),NDVI_1996_sn)"
   ]
  },
  {
   "cell_type": "code",
   "execution_count": 78,
   "id": "8287934f",
   "metadata": {},
   "outputs": [],
   "source": [
    "img1 = llenado(mosaic)"
   ]
  },
  {
   "cell_type": "code",
   "execution_count": 79,
   "id": "0ea4ebed",
   "metadata": {},
   "outputs": [],
   "source": [
    "img1_landsat = img1.set('SENSOR_ID', 'OLI_TIRS')\n",
    "cloud_img1 = ee.Algorithms.Landsat.simpleCloudScore(img1_landsat)\n",
    "cloud_img1 = cloud_img1.select('cloud')"
   ]
  },
  {
   "cell_type": "code",
   "execution_count": 80,
   "id": "84dbb2d4",
   "metadata": {},
   "outputs": [],
   "source": [
    "resultados= [cloud_img1, img1]\n",
    "vis_params2=  [\n",
    "    {'palette':palette_nubes}, \n",
    "    vizParams]\n",
    "labels = [\n",
    "    'Nubes Mosaico 1',\n",
    "    'Mosaico 1']"
   ]
  },
  {
   "cell_type": "code",
   "execution_count": 81,
   "id": "f3c2a996",
   "metadata": {},
   "outputs": [
    {
     "data": {
      "application/vnd.jupyter.widget-view+json": {
       "model_id": "ec150358c9074eb39c709f734328a1e3",
       "version_major": 2,
       "version_minor": 0
      },
      "text/plain": [
       "GridspecLayout(children=(Output(layout=Layout(grid_area='widget001')), Output(layout=Layout(grid_area='widget0…"
      ]
     },
     "metadata": {},
     "output_type": "display_data"
    }
   ],
   "source": [
    "geemap.linked_maps(rows=1, cols=2, height=\"400px\", center=[-45, -75], zoom=4, \n",
    "                   ee_objects=resultados, vis_params=vis_params2, labels=labels, label_position=\"topright\")"
   ]
  },
  {
   "cell_type": "code",
   "execution_count": 82,
   "id": "9a243ac4",
   "metadata": {},
   "outputs": [],
   "source": [
    "def llenado2(image):\n",
    "    return image.where(cloud_img1.gt(20), NDVI_1998_sn)"
   ]
  },
  {
   "cell_type": "code",
   "execution_count": 83,
   "id": "ada6d94e",
   "metadata": {},
   "outputs": [],
   "source": [
    "img2 = llenado2(img1)"
   ]
  },
  {
   "cell_type": "code",
   "execution_count": 84,
   "id": "e3db0a52",
   "metadata": {},
   "outputs": [],
   "source": [
    "img2_landsat = img2.set('SENSOR_ID', 'OLI_TIRS')\n",
    "cloud_img2 = ee.Algorithms.Landsat.simpleCloudScore(img2_landsat)\n",
    "cloud_img2 = cloud_img2.select('cloud')"
   ]
  },
  {
   "cell_type": "code",
   "execution_count": 85,
   "id": "42d22742",
   "metadata": {},
   "outputs": [],
   "source": [
    "resultados= [cloud_img2, img2]\n",
    "vis_params2=  [\n",
    "    {'palette':palette_nubes}, \n",
    "    vizParams]\n",
    "labels = [\n",
    "    'Nubes Mosaico 2',\n",
    "    'Mosaico 2']"
   ]
  },
  {
   "cell_type": "code",
   "execution_count": 86,
   "id": "5bdcab8c",
   "metadata": {},
   "outputs": [
    {
     "data": {
      "application/vnd.jupyter.widget-view+json": {
       "model_id": "b7a5d2eefd3e4d81994843278aa2f5b6",
       "version_major": 2,
       "version_minor": 0
      },
      "text/plain": [
       "GridspecLayout(children=(Output(layout=Layout(grid_area='widget001')), Output(layout=Layout(grid_area='widget0…"
      ]
     },
     "metadata": {},
     "output_type": "display_data"
    }
   ],
   "source": [
    "geemap.linked_maps(rows=1, cols=2, height=\"400px\", center=[-45, -75], zoom=4, \n",
    "                   ee_objects=resultados, vis_params=vis_params2, labels=labels, label_position=\"topright\")"
   ]
  },
  {
   "cell_type": "code",
   "execution_count": 87,
   "id": "ca5f91e2",
   "metadata": {},
   "outputs": [],
   "source": [
    "def llenado3(image):\n",
    "    return image.where(cloud_img2.gt(20), NDVI_1999_sn)"
   ]
  },
  {
   "cell_type": "code",
   "execution_count": 88,
   "id": "f52fddee",
   "metadata": {},
   "outputs": [],
   "source": [
    "img3 = llenado3(img2)"
   ]
  },
  {
   "cell_type": "code",
   "execution_count": 89,
   "id": "6d41d9d0",
   "metadata": {},
   "outputs": [],
   "source": [
    "img3_landsat = img3.set('SENSOR_ID', 'OLI_TIRS')\n",
    "cloud_img3 = ee.Algorithms.Landsat.simpleCloudScore(img3_landsat)\n",
    "cloud_img3 = cloud_img3.select('cloud')"
   ]
  },
  {
   "cell_type": "code",
   "execution_count": 90,
   "id": "3a000d62",
   "metadata": {},
   "outputs": [],
   "source": [
    "resultados= [cloud_img3, img3]\n",
    "vis_params2=  [\n",
    "    {'palette':palette_nubes}, \n",
    "    vizParams]\n",
    "labels = [\n",
    "    'Nubes Mosaico 3',\n",
    "    'Mosaico 3']"
   ]
  },
  {
   "cell_type": "code",
   "execution_count": 91,
   "id": "bf275ed6",
   "metadata": {},
   "outputs": [
    {
     "data": {
      "application/vnd.jupyter.widget-view+json": {
       "model_id": "b94cbf8e05224fb2b7d930abd6254103",
       "version_major": 2,
       "version_minor": 0
      },
      "text/plain": [
       "GridspecLayout(children=(Output(layout=Layout(grid_area='widget001')), Output(layout=Layout(grid_area='widget0…"
      ]
     },
     "metadata": {},
     "output_type": "display_data"
    }
   ],
   "source": [
    "geemap.linked_maps(rows=1, cols=2, height=\"400px\", center=[-45, -75], zoom=4, \n",
    "                   ee_objects=resultados, vis_params=vis_params2, labels=labels, label_position=\"topright\")"
   ]
  },
  {
   "cell_type": "code",
   "execution_count": 92,
   "id": "9d0daae9",
   "metadata": {},
   "outputs": [],
   "source": [
    "def llenado4(image):\n",
    "    return image.where(cloud_img3.gt(50), NDVI_1997_sn)"
   ]
  },
  {
   "cell_type": "code",
   "execution_count": 93,
   "id": "d37f16d5",
   "metadata": {},
   "outputs": [],
   "source": [
    "img4 = llenado4(img3)"
   ]
  },
  {
   "cell_type": "code",
   "execution_count": 94,
   "id": "540d60d8",
   "metadata": {},
   "outputs": [],
   "source": [
    "img4_landsat = img4.set('SENSOR_ID', 'OLI_TIRS')\n",
    "cloud_img4 = ee.Algorithms.Landsat.simpleCloudScore(img4_landsat)\n",
    "cloud_img4 = cloud_img4.select('cloud')"
   ]
  },
  {
   "cell_type": "code",
   "execution_count": 95,
   "id": "3f0e9719",
   "metadata": {},
   "outputs": [],
   "source": [
    "resultados= [cloud_img4, img4]\n",
    "vis_params2=  [\n",
    "    {'palette':palette_nubes}, \n",
    "    vizParams]\n",
    "labels = [\n",
    "    'Nubes Mosaico 4',\n",
    "    'Mosaico 4']"
   ]
  },
  {
   "cell_type": "code",
   "execution_count": 96,
   "id": "41d9a7b8",
   "metadata": {},
   "outputs": [
    {
     "data": {
      "application/vnd.jupyter.widget-view+json": {
       "model_id": "9da297f397704936aaf7a637776e0924",
       "version_major": 2,
       "version_minor": 0
      },
      "text/plain": [
       "GridspecLayout(children=(Output(layout=Layout(grid_area='widget001')), Output(layout=Layout(grid_area='widget0…"
      ]
     },
     "metadata": {},
     "output_type": "display_data"
    }
   ],
   "source": [
    "geemap.linked_maps(rows=1, cols=2, height=\"400px\", center=[-45, -75], zoom=4, \n",
    "                   ee_objects=resultados, vis_params=vis_params2, labels=labels, label_position=\"topright\")"
   ]
  },
  {
   "cell_type": "code",
   "execution_count": 97,
   "id": "c93604cb",
   "metadata": {},
   "outputs": [],
   "source": [
    "def llenado5(image):\n",
    "    return image.where(cloud_img4.gt(50), NDVI_2000_sn)"
   ]
  },
  {
   "cell_type": "code",
   "execution_count": 98,
   "id": "59e1291c",
   "metadata": {},
   "outputs": [],
   "source": [
    "img5 = llenado5(img4)"
   ]
  },
  {
   "cell_type": "code",
   "execution_count": 99,
   "id": "1b1462fa",
   "metadata": {},
   "outputs": [],
   "source": [
    "img5_landsat = img5.set('SENSOR_ID', 'OLI_TIRS')\n",
    "cloud_img5 = ee.Algorithms.Landsat.simpleCloudScore(img5_landsat)\n",
    "cloud_img5 = cloud_img5.select('cloud')"
   ]
  },
  {
   "cell_type": "code",
   "execution_count": 100,
   "id": "14081f40",
   "metadata": {},
   "outputs": [],
   "source": [
    "resultados= [cloud_img5, img5]\n",
    "vis_params2=  [\n",
    "    {'palette':palette_nubes}, \n",
    "    vizParams]\n",
    "labels = [\n",
    "    'Nubes Mosaico 5',\n",
    "    'Mosaico 5']"
   ]
  },
  {
   "cell_type": "code",
   "execution_count": 101,
   "id": "8593050e",
   "metadata": {},
   "outputs": [
    {
     "data": {
      "application/vnd.jupyter.widget-view+json": {
       "model_id": "e31a119b96e24791bf6259792ad47ba6",
       "version_major": 2,
       "version_minor": 0
      },
      "text/plain": [
       "GridspecLayout(children=(Output(layout=Layout(grid_area='widget001')), Output(layout=Layout(grid_area='widget0…"
      ]
     },
     "metadata": {},
     "output_type": "display_data"
    }
   ],
   "source": [
    "geemap.linked_maps(rows=1, cols=2, height=\"400px\", center=[-45, -75], zoom=4, \n",
    "                   ee_objects=resultados, vis_params=vis_params2, labels=labels, label_position=\"topright\")"
   ]
  },
  {
   "cell_type": "code",
   "execution_count": 102,
   "id": "257f8c41",
   "metadata": {},
   "outputs": [],
   "source": [
    "def llenado6(image):\n",
    "    return image.where(cloud_img5.gt(20), NDVI_sur_sn)"
   ]
  },
  {
   "cell_type": "code",
   "execution_count": 103,
   "id": "086cb0b9",
   "metadata": {},
   "outputs": [],
   "source": [
    "img6 = llenado6(img5)"
   ]
  },
  {
   "cell_type": "code",
   "execution_count": 104,
   "id": "0e7b5767",
   "metadata": {},
   "outputs": [],
   "source": [
    "img6_landsat = img6.set('SENSOR_ID', 'OLI_TIRS')\n",
    "cloud_img6 = ee.Algorithms.Landsat.simpleCloudScore(img6_landsat)\n",
    "cloud_img6 = cloud_img6.select('cloud')"
   ]
  },
  {
   "cell_type": "code",
   "execution_count": 105,
   "id": "2de38dec",
   "metadata": {},
   "outputs": [],
   "source": [
    "resultados= [cloud_img6, img6]\n",
    "vis_params2=  [\n",
    "    {'palette':palette_nubes}, \n",
    "    vizParams]\n",
    "labels = [\n",
    "    'Nubes Mosaico 6',\n",
    "    'Mosaico 6']"
   ]
  },
  {
   "cell_type": "code",
   "execution_count": 106,
   "id": "85f66eae",
   "metadata": {},
   "outputs": [
    {
     "data": {
      "application/vnd.jupyter.widget-view+json": {
       "model_id": "6d72508362a74f5f92bdd199ae041ad3",
       "version_major": 2,
       "version_minor": 0
      },
      "text/plain": [
       "GridspecLayout(children=(Output(layout=Layout(grid_area='widget001')), Output(layout=Layout(grid_area='widget0…"
      ]
     },
     "metadata": {},
     "output_type": "display_data"
    }
   ],
   "source": [
    "geemap.linked_maps(rows=1, cols=2, height=\"400px\", center=[-45, -75], zoom=4, \n",
    "                   ee_objects=resultados, vis_params=vis_params2, labels=labels, label_position=\"topright\")"
   ]
  },
  {
   "cell_type": "code",
   "execution_count": 107,
   "id": "2e6b728e",
   "metadata": {},
   "outputs": [],
   "source": [
    "def llenado7(image):\n",
    "    return image.where(NDVI_1999.lt(0.25).And(NDWI_1999.gt(0.3)), NDWI_sur_sn)"
   ]
  },
  {
   "cell_type": "code",
   "execution_count": 108,
   "id": "0d36d866",
   "metadata": {},
   "outputs": [],
   "source": [
    "img7 = llenado7(img6)"
   ]
  },
  {
   "cell_type": "code",
   "execution_count": 109,
   "id": "e1b3cbbe",
   "metadata": {},
   "outputs": [],
   "source": [
    "img7_landsat = img7.set('SENSOR_ID', 'OLI_TIRS')\n",
    "cloud_img7 = ee.Algorithms.Landsat.simpleCloudScore(img7_landsat)\n",
    "cloud_img7 = cloud_img7.select('cloud')"
   ]
  },
  {
   "cell_type": "code",
   "execution_count": 110,
   "id": "32376b80",
   "metadata": {},
   "outputs": [],
   "source": [
    "resultados= [cloud_img7, img7]\n",
    "vis_params2=  [\n",
    "    {'palette':palette_nubes}, \n",
    "    vizParams]\n",
    "labels = [\n",
    "    'Nubes Mosaico 7',\n",
    "    'Mosaico 7']"
   ]
  },
  {
   "cell_type": "code",
   "execution_count": 111,
   "id": "7b37ec26",
   "metadata": {},
   "outputs": [
    {
     "data": {
      "application/vnd.jupyter.widget-view+json": {
       "model_id": "29bd5454f5ff4e6b924a1f22bef76e5f",
       "version_major": 2,
       "version_minor": 0
      },
      "text/plain": [
       "GridspecLayout(children=(Output(layout=Layout(grid_area='widget001')), Output(layout=Layout(grid_area='widget0…"
      ]
     },
     "metadata": {},
     "output_type": "display_data"
    }
   ],
   "source": [
    "geemap.linked_maps(rows=1, cols=2, height=\"400px\", center=[-45, -75], zoom=4, \n",
    "                   ee_objects=resultados, vis_params=vis_params2, labels=labels, label_position=\"topright\")"
   ]
  },
  {
   "cell_type": "code",
   "execution_count": null,
   "id": "bfab2cd7",
   "metadata": {},
   "outputs": [],
   "source": []
  },
  {
   "cell_type": "code",
   "execution_count": null,
   "id": "5b730d05",
   "metadata": {},
   "outputs": [],
   "source": []
  }
 ],
 "metadata": {
  "kernelspec": {
   "display_name": "Python 3 (ipykernel)",
   "language": "python",
   "name": "python3"
  },
  "language_info": {
   "codemirror_mode": {
    "name": "ipython",
    "version": 3
   },
   "file_extension": ".py",
   "mimetype": "text/x-python",
   "name": "python",
   "nbconvert_exporter": "python",
   "pygments_lexer": "ipython3",
   "version": "3.9.2"
  },
  "toc": {
   "base_numbering": 1,
   "nav_menu": {},
   "number_sections": true,
   "sideBar": true,
   "skip_h1_title": false,
   "title_cell": "Table of Contents",
   "title_sidebar": "Contents",
   "toc_cell": false,
   "toc_position": {
    "height": "calc(100% - 180px)",
    "left": "10px",
    "top": "150px",
    "width": "384px"
   },
   "toc_section_display": true,
   "toc_window_display": true
  },
  "varInspector": {
   "cols": {
    "lenName": 16,
    "lenType": 16,
    "lenVar": 40
   },
   "kernels_config": {
    "python": {
     "delete_cmd_postfix": "",
     "delete_cmd_prefix": "del ",
     "library": "var_list.py",
     "varRefreshCmd": "print(var_dic_list())"
    },
    "r": {
     "delete_cmd_postfix": ") ",
     "delete_cmd_prefix": "rm(",
     "library": "var_list.r",
     "varRefreshCmd": "cat(var_dic_list()) "
    }
   },
   "types_to_exclude": [
    "module",
    "function",
    "builtin_function_or_method",
    "instance",
    "_Feature"
   ],
   "window_display": false
  }
 },
 "nbformat": 4,
 "nbformat_minor": 5
}
