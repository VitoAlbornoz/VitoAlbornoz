{
 "cells": [
  {
   "cell_type": "markdown",
   "id": "c8ee7fef",
   "metadata": {},
   "source": [
    "# Mosaico 2008"
   ]
  },
  {
   "cell_type": "markdown",
   "id": "203f76ca",
   "metadata": {},
   "source": [
    "Script trabajado por Francisco Albornoz (2021-04-13) / Última modificación / Mosaicos Patagonia"
   ]
  },
  {
   "cell_type": "markdown",
   "id": "2fb5cdeb",
   "metadata": {},
   "source": [
    "2021-08-05 13:07:09 "
   ]
  },
  {
   "cell_type": "code",
   "execution_count": 1,
   "id": "3057c761",
   "metadata": {
    "ExecuteTime": {
     "end_time": "2022-01-20T13:05:54.054961Z",
     "start_time": "2022-01-20T13:05:52.866045Z"
    }
   },
   "outputs": [],
   "source": [
    "import ee\n",
    "import geemap\n",
    "import geemap.chart as chart\n",
    "import os\n",
    "import folium\n",
    "import xarray_leaflet\n",
    "import rasterio \n",
    "from rasterio import plot\n",
    "import matplotlib.pyplot as plt\n",
    "import numpy as np\n",
    "%matplotlib inline"
   ]
  },
  {
   "cell_type": "markdown",
   "id": "1997eeb4",
   "metadata": {},
   "source": [
    "<img src=https://www.ecopaysen.cl/wp-content/uploads/2019/12/ecopaysen_marca_web.png>"
   ]
  },
  {
   "cell_type": "code",
   "execution_count": 2,
   "id": "fca49a56",
   "metadata": {
    "ExecuteTime": {
     "end_time": "2022-01-20T13:06:05.208003Z",
     "start_time": "2022-01-20T13:05:54.056208Z"
    }
   },
   "outputs": [],
   "source": [
    "Map = geemap.Map(center = [-45, -70], zoom = 4)\n",
    "Map1 = geemap.Map(center = [-45, -70], zoom = 4)\n",
    "Map2 = geemap.Map(center = [-45, -70], zoom = 4)\n",
    "Map3 = geemap.Map(center = [-45, -70], zoom = 4)\n",
    "Map4 = geemap.Map(center = [-45, -70], zoom = 4)\n",
    "Map5 = geemap.Map(center = [-45, -70], zoom = 4)\n",
    "Map6 = geemap.Map(center = [-45, -70], zoom = 4)\n",
    "Map7 = geemap.Map(center = [-45, -70], zoom = 4)\n",
    "Map8 = geemap.Map(center = [-45, -70], zoom = 4)\n",
    "Map9 = geemap.Map(center = [-45, -70], zoom = 4)\n",
    "Map10 = geemap.Map(center = [-45, -70], zoom = 4)\n",
    "Map11 = geemap.Map(center = [-45, -70], zoom = 4)\n",
    "Map12 = geemap.Map(center = [-45, -70], zoom = 4)\n",
    "Map13 = geemap.Map(center = [-45, -70], zoom = 4)\n",
    "Map14 = geemap.Map(center = [-45, -70], zoom = 4)\n",
    "Map15 = geemap.Map(center = [-45, -70], zoom = 4)"
   ]
  },
  {
   "cell_type": "markdown",
   "id": "f26fe1a2",
   "metadata": {},
   "source": [
    "## Área de Estudio"
   ]
  },
  {
   "cell_type": "code",
   "execution_count": 3,
   "id": "2aae613d",
   "metadata": {
    "ExecuteTime": {
     "end_time": "2022-01-20T13:06:05.819469Z",
     "start_time": "2022-01-20T13:06:05.208931Z"
    }
   },
   "outputs": [],
   "source": [
    "work_dir = os.path.expanduser('../../../Data/shapes/')\n",
    "patagonia = os.path.join(work_dir, 'corte.shp')\n",
    "patagonia_grande = geemap.shp_to_ee(patagonia)"
   ]
  },
  {
   "cell_type": "code",
   "execution_count": 4,
   "id": "36b34e2d",
   "metadata": {
    "ExecuteTime": {
     "end_time": "2022-01-20T13:06:06.067641Z",
     "start_time": "2022-01-20T13:06:05.821356Z"
    }
   },
   "outputs": [],
   "source": [
    "base1 = os.path.join(work_dir, 'base_geo.shp')\n",
    "base = geemap.shp_to_ee(base1)"
   ]
  },
  {
   "cell_type": "code",
   "execution_count": 5,
   "id": "5533cb67",
   "metadata": {
    "ExecuteTime": {
     "end_time": "2022-01-20T13:06:07.310019Z",
     "start_time": "2022-01-20T13:06:06.068578Z"
    }
   },
   "outputs": [],
   "source": [
    "base2 = os.path.join(work_dir, 'base2.shp')\n",
    "base2 = geemap.shp_to_ee(base2)\n",
    "base3 = os.path.join(work_dir, 'base3.shp')\n",
    "base3 = geemap.shp_to_ee(base3)\n",
    "base4 = os.path.join(work_dir, 'base4.shp')\n",
    "base4 = geemap.shp_to_ee(base4)\n",
    "base5 = os.path.join(work_dir, 'base5.shp')\n",
    "base5 = geemap.shp_to_ee(base5)\n",
    "base6 = os.path.join(work_dir, 'base6.shp')\n",
    "base6 = geemap.shp_to_ee(base6)"
   ]
  },
  {
   "cell_type": "code",
   "execution_count": 6,
   "id": "1673e634",
   "metadata": {
    "ExecuteTime": {
     "end_time": "2022-01-20T13:06:07.613261Z",
     "start_time": "2022-01-20T13:06:07.310912Z"
    }
   },
   "outputs": [],
   "source": [
    "geometria_base = os.path.join(work_dir, 'mapa_base_dis.shp') \n",
    "geometria_base = geemap.shp_to_ee(geometria_base)"
   ]
  },
  {
   "cell_type": "code",
   "execution_count": 7,
   "id": "fe73a428",
   "metadata": {
    "ExecuteTime": {
     "end_time": "2022-01-20T13:06:07.892322Z",
     "start_time": "2022-01-20T13:06:07.614308Z"
    }
   },
   "outputs": [],
   "source": [
    "geometria_base2 = os.path.join(work_dir, 'area_base2_dis.shp') \n",
    "geometria_base2 = geemap.shp_to_ee(geometria_base2)"
   ]
  },
  {
   "cell_type": "markdown",
   "id": "fa8e2fea",
   "metadata": {},
   "source": [
    "## Colors Bars"
   ]
  },
  {
   "cell_type": "code",
   "execution_count": 8,
   "id": "1efebd11",
   "metadata": {
    "ExecuteTime": {
     "end_time": "2022-01-20T13:06:08.741508Z",
     "start_time": "2022-01-20T13:06:07.893321Z"
    }
   },
   "outputs": [],
   "source": [
    "import geemap.colormaps as cm"
   ]
  },
  {
   "cell_type": "code",
   "execution_count": 9,
   "id": "d159d70f",
   "metadata": {
    "ExecuteTime": {
     "end_time": "2022-01-20T13:06:08.744010Z",
     "start_time": "2022-01-20T13:06:08.742330Z"
    }
   },
   "outputs": [],
   "source": [
    "# cm.palettes.terrain"
   ]
  },
  {
   "cell_type": "code",
   "execution_count": 10,
   "id": "fe999a91",
   "metadata": {
    "ExecuteTime": {
     "end_time": "2022-01-20T13:06:08.751022Z",
     "start_time": "2022-01-20T13:06:08.745506Z"
    }
   },
   "outputs": [],
   "source": [
    "color_ndvi = cm.palettes.ndvi"
   ]
  },
  {
   "cell_type": "code",
   "execution_count": 11,
   "id": "05fb282a",
   "metadata": {
    "ExecuteTime": {
     "end_time": "2022-01-20T13:06:08.755637Z",
     "start_time": "2022-01-20T13:06:08.751828Z"
    }
   },
   "outputs": [],
   "source": [
    "color_ndwi = cm.palettes.ndwi"
   ]
  },
  {
   "cell_type": "code",
   "execution_count": 12,
   "id": "68161910",
   "metadata": {
    "ExecuteTime": {
     "end_time": "2022-01-20T13:06:08.760731Z",
     "start_time": "2022-01-20T13:06:08.756652Z"
    }
   },
   "outputs": [],
   "source": [
    "color_terrain = cm.palettes.terrain"
   ]
  },
  {
   "cell_type": "code",
   "execution_count": 13,
   "id": "8e99245f",
   "metadata": {
    "ExecuteTime": {
     "end_time": "2022-01-20T13:06:08.766013Z",
     "start_time": "2022-01-20T13:06:08.761585Z"
    }
   },
   "outputs": [],
   "source": [
    "color_glaciar = cm.palettes.PuBuGn_r"
   ]
  },
  {
   "cell_type": "code",
   "execution_count": 14,
   "id": "92b8cf41",
   "metadata": {
    "ExecuteTime": {
     "end_time": "2022-01-20T13:06:08.771132Z",
     "start_time": "2022-01-20T13:06:08.766876Z"
    }
   },
   "outputs": [],
   "source": [
    "color_nubes = cm.palettes.inferno"
   ]
  },
  {
   "cell_type": "code",
   "execution_count": 15,
   "id": "39930741",
   "metadata": {
    "ExecuteTime": {
     "end_time": "2022-01-20T13:06:08.776066Z",
     "start_time": "2022-01-20T13:06:08.772086Z"
    }
   },
   "outputs": [],
   "source": [
    "# cm.list_colormaps()"
   ]
  },
  {
   "cell_type": "code",
   "execution_count": 16,
   "id": "0ce61cbe",
   "metadata": {
    "ExecuteTime": {
     "end_time": "2022-01-20T13:06:08.781030Z",
     "start_time": "2022-01-20T13:06:08.777010Z"
    }
   },
   "outputs": [],
   "source": [
    "# cm.plot_colormaps(width=12, height=0.4)"
   ]
  },
  {
   "cell_type": "markdown",
   "id": "11666045",
   "metadata": {},
   "source": [
    "## Funciones"
   ]
  },
  {
   "cell_type": "code",
   "execution_count": 17,
   "id": "166db170",
   "metadata": {
    "ExecuteTime": {
     "end_time": "2022-01-20T13:06:08.786432Z",
     "start_time": "2022-01-20T13:06:08.782011Z"
    }
   },
   "outputs": [],
   "source": [
    "def add_ee_layer(self, ee_image_object, vis_params, name):\n",
    "  map_id_dict = ee.Image(ee_image_object).getMapId(vis_params)\n",
    "  folium.raster_layers.TileLayer(\n",
    "      tiles=map_id_dict['tile_fetcher'].url_format,\n",
    "      attr='Map Data &copy; <a href=\"https://earthengine.google.com/\">Google Earth Engine</a>',\n",
    "      name=name,\n",
    "      overlay=True,\n",
    "      control=True\n",
    "  ).add_to(self)\n",
    "\n",
    "folium.Map.add_ee_layer = add_ee_layer"
   ]
  },
  {
   "cell_type": "code",
   "execution_count": 18,
   "id": "b9e1cdaf",
   "metadata": {
    "ExecuteTime": {
     "end_time": "2022-01-20T13:06:08.791423Z",
     "start_time": "2022-01-20T13:06:08.787450Z"
    }
   },
   "outputs": [],
   "source": [
    "def addNDVI(image): \n",
    "    ndvi = image.normalizedDifference(['B4', 'B3']).rename('B11')\n",
    "    return image.addBands(ndvi)"
   ]
  },
  {
   "cell_type": "code",
   "execution_count": 19,
   "id": "38b0bfd0",
   "metadata": {
    "ExecuteTime": {
     "end_time": "2022-01-20T13:06:08.794136Z",
     "start_time": "2022-01-20T13:06:08.792440Z"
    }
   },
   "outputs": [],
   "source": [
    "def addNDVI7(image): \n",
    "    ndvi = image.normalizedDifference(['B4', 'B3']).rename('NDVI')\n",
    "    return image.addBands(ndvi)"
   ]
  },
  {
   "cell_type": "code",
   "execution_count": 20,
   "id": "ad105a37",
   "metadata": {
    "ExecuteTime": {
     "end_time": "2022-01-20T13:06:08.796914Z",
     "start_time": "2022-01-20T13:06:08.795294Z"
    }
   },
   "outputs": [],
   "source": [
    "def addNDWI(image):\n",
    "    ndwi = image.normalizedDifference(['B2','B4']).rename('NDWI')\n",
    "    return image.addBands(ndwi)"
   ]
  },
  {
   "cell_type": "code",
   "execution_count": 21,
   "id": "afd5a921",
   "metadata": {
    "ExecuteTime": {
     "end_time": "2022-01-20T13:06:08.799533Z",
     "start_time": "2022-01-20T13:06:08.797696Z"
    }
   },
   "outputs": [],
   "source": [
    "def addNDGI(image):\n",
    "    ndgi = image.normalizedDifference(['B2','B3']).rename('NDGI')\n",
    "    return image.addBands(ndgi)"
   ]
  },
  {
   "cell_type": "code",
   "execution_count": 22,
   "id": "786770f8",
   "metadata": {
    "ExecuteTime": {
     "end_time": "2022-01-20T13:06:08.802585Z",
     "start_time": "2022-01-20T13:06:08.800586Z"
    }
   },
   "outputs": [],
   "source": [
    "def addSAVI(image):\n",
    "    savi = image.expression(\n",
    "        '((b4 - b3)/(b4 + b3 + 0.5))*1.5', {\n",
    "            'b3':image.select('B3'),\n",
    "            'b4':image.select('B4')\n",
    "        }) \n",
    "    savi= savi.rename('SAVI')\n",
    "    return image.addBands(savi)"
   ]
  },
  {
   "cell_type": "code",
   "execution_count": 23,
   "id": "cffb72aa",
   "metadata": {
    "ExecuteTime": {
     "end_time": "2022-01-20T13:06:08.805602Z",
     "start_time": "2022-01-20T13:06:08.803543Z"
    }
   },
   "outputs": [],
   "source": [
    "def addNDSI(image):\n",
    "    ndsi = image.normalizedDifference(['B2','B5']).rename('NDSI')\n",
    "    return image.addBands(ndsi)"
   ]
  },
  {
   "cell_type": "code",
   "execution_count": 24,
   "id": "4889cabe",
   "metadata": {
    "ExecuteTime": {
     "end_time": "2022-01-20T13:06:08.808689Z",
     "start_time": "2022-01-20T13:06:08.806508Z"
    }
   },
   "outputs": [],
   "source": [
    "def addDate(image):\n",
    "    img_date = ee.Date(image.date())\n",
    "    img_date = ee.Number.parse(img_date.format('YYYYMM'))\n",
    "    return image.addBands(ee.Image(img_date).rename('date').toInt())"
   ]
  },
  {
   "cell_type": "code",
   "execution_count": 25,
   "id": "11abf688",
   "metadata": {
    "ExecuteTime": {
     "end_time": "2022-01-20T13:06:08.812203Z",
     "start_time": "2022-01-20T13:06:08.809659Z"
    }
   },
   "outputs": [],
   "source": [
    "def Cloud40(image):\n",
    "    scored = ee.Algorithms.Landsat.simpleCloudScore(image)\n",
    "    return image.updateMask(scored.select(['cloud']).lt(40)) "
   ]
  },
  {
   "cell_type": "code",
   "execution_count": 26,
   "id": "3115c210",
   "metadata": {
    "ExecuteTime": {
     "end_time": "2022-01-20T13:06:08.815026Z",
     "start_time": "2022-01-20T13:06:08.813108Z"
    }
   },
   "outputs": [],
   "source": [
    "def Cloud30(image):\n",
    "    scored = ee.Algorithms.Landsat.simpleCloudScore(image)\n",
    "    return image.updateMask(scored.select(['cloud']).lt(30)) "
   ]
  },
  {
   "cell_type": "code",
   "execution_count": 27,
   "id": "f86cf507",
   "metadata": {
    "ExecuteTime": {
     "end_time": "2022-01-20T13:06:08.817791Z",
     "start_time": "2022-01-20T13:06:08.816003Z"
    }
   },
   "outputs": [],
   "source": [
    "def Cloud20(image):\n",
    "    scored = ee.Algorithms.Landsat.simpleCloudScore(image)\n",
    "    return image.updateMask(scored.select(['cloud']).lt(20)) "
   ]
  },
  {
   "cell_type": "code",
   "execution_count": 28,
   "id": "9d288b40",
   "metadata": {
    "ExecuteTime": {
     "end_time": "2022-01-20T13:06:08.822792Z",
     "start_time": "2022-01-20T13:06:08.820733Z"
    }
   },
   "outputs": [],
   "source": [
    "def Cloud10(image):\n",
    "    scored = ee.Algorithms.Landsat.simpleCloudScore(image)\n",
    "    return image.updateMask(scored.select(['cloud']).lt(10))"
   ]
  },
  {
   "cell_type": "code",
   "execution_count": 29,
   "id": "92d6ba1b",
   "metadata": {
    "ExecuteTime": {
     "end_time": "2022-01-20T13:06:08.825572Z",
     "start_time": "2022-01-20T13:06:08.823672Z"
    }
   },
   "outputs": [],
   "source": [
    "def addCloud(image):\n",
    "    nube = ee.Algorithms.Landsat.simpleCloudScore(image)\n",
    "    return image.addBands(ee.Image(nube.select(['cloud'])).rename('nube'))"
   ]
  },
  {
   "cell_type": "code",
   "execution_count": 30,
   "id": "f4a18534",
   "metadata": {
    "ExecuteTime": {
     "end_time": "2022-01-20T13:06:08.829855Z",
     "start_time": "2022-01-20T13:06:08.826744Z"
    }
   },
   "outputs": [],
   "source": [
    "def find_closest(target_image, image_col, days):\n",
    "    \"\"\"Filter images in a collection by date proximity and spatial intersection to a target image.\n",
    "\n",
    "    Args:\n",
    "        target_image: An ee.Image whose observation date is used to find near-date images in\n",
    "          the provided image_col image collection. It must have a 'system:time_start' property.\n",
    "        image_col: An ee.ImageCollection to filter by date proximity and spatial intersection\n",
    "          to the target_image. Each image in the collection must have a 'system:time_start'\n",
    "          property.\n",
    "        days: A number that defines the maximum number of days difference allowed between\n",
    "          the target_image and images in the image_col.\n",
    "\n",
    "    Returns:\n",
    "        An ee.ImageCollection that has been filtered to include those images that are within the\n",
    "          given date proximity to target_image and intersect it spatially.\n",
    "    \"\"\"\n",
    "\n",
    "    # Compute the timespan for N days (in milliseconds).\n",
    "    range = ee.Number(days).multiply(1000 * 60 * 60 * 24)\n",
    "\n",
    "    filter = ee.Filter.And(\n",
    "        ee.Filter.maxDifference(range, 'system:time_start', None, 'system:time_start'),\n",
    "        ee.Filter.intersects('.geo', None, '.geo'))\n",
    "\n",
    "    closest = (ee.Join.saveAll('matches', 'measure')\n",
    "        .apply(ee.ImageCollection([target_image]), image_col, filter))\n",
    "\n",
    "    return ee.ImageCollection(ee.List(closest.first().get('matches')))"
   ]
  },
  {
   "cell_type": "code",
   "execution_count": 31,
   "id": "c9e4c70a",
   "metadata": {
    "ExecuteTime": {
     "end_time": "2022-01-20T13:06:08.832864Z",
     "start_time": "2022-01-20T13:06:08.831022Z"
    }
   },
   "outputs": [],
   "source": [
    "vizParams = {\n",
    "  'bands': ['B5', 'B4', 'B3'],\n",
    "  'min': 0,\n",
    "  'max': 0.5,\n",
    "  'gamma': [0.95, 1.1, 1]\n",
    "}"
   ]
  },
  {
   "cell_type": "code",
   "execution_count": 32,
   "id": "52b4f264",
   "metadata": {
    "ExecuteTime": {
     "end_time": "2022-01-20T13:06:08.835558Z",
     "start_time": "2022-01-20T13:06:08.833797Z"
    }
   },
   "outputs": [],
   "source": [
    "vizParams_m = {\n",
    "  'bands': ['B5', 'B4', 'B3'],\n",
    "  'min': 0,\n",
    "  'max': 0.6,\n",
    "  'gamma': [1, 1, 1]\n",
    "}"
   ]
  },
  {
   "cell_type": "code",
   "execution_count": 33,
   "id": "c5095a1c",
   "metadata": {
    "ExecuteTime": {
     "end_time": "2022-01-20T13:06:08.838083Z",
     "start_time": "2022-01-20T13:06:08.836454Z"
    }
   },
   "outputs": [],
   "source": [
    "vis_nieve = {\n",
    "  'bands': ['B6', 'B4', 'B3'],\n",
    "  'min': 0,\n",
    "  'max': 0.5,\n",
    "  'gamma': [0.95, 1.1, 1]\n",
    "}"
   ]
  },
  {
   "cell_type": "markdown",
   "id": "d9a442fb",
   "metadata": {},
   "source": [
    "## Colecciones"
   ]
  },
  {
   "cell_type": "markdown",
   "id": "6c980301",
   "metadata": {},
   "source": [
    "### 2009"
   ]
  },
  {
   "cell_type": "code",
   "execution_count": 34,
   "id": "53c83f22",
   "metadata": {
    "ExecuteTime": {
     "end_time": "2022-01-20T13:06:08.841093Z",
     "start_time": "2022-01-20T13:06:08.839094Z"
    }
   },
   "outputs": [],
   "source": [
    "start_date = '2008-10-01'\n",
    "end_date = '2009-03-31'\n",
    "\n",
    "l5_2009 = ee.ImageCollection('LANDSAT/LT05/C01/T1_TOA') \\\n",
    "    .filterBounds(patagonia_grande) \\\n",
    "    .filterDate(start_date, end_date)"
   ]
  },
  {
   "cell_type": "code",
   "execution_count": 35,
   "id": "05dbdd99",
   "metadata": {
    "ExecuteTime": {
     "end_time": "2022-01-20T13:06:08.843915Z",
     "start_time": "2022-01-20T13:06:08.842334Z"
    }
   },
   "outputs": [],
   "source": [
    "vizParams = {\n",
    "  'bands': ['B4', 'B3', 'B2'],\n",
    "  'min': 0,\n",
    "  'max': 0.5,\n",
    "  'gamma': [0.95, 1.1, 1]\n",
    "}"
   ]
  },
  {
   "cell_type": "code",
   "execution_count": 36,
   "id": "2c56e896",
   "metadata": {
    "ExecuteTime": {
     "end_time": "2022-01-20T13:06:08.846739Z",
     "start_time": "2022-01-20T13:06:08.844811Z"
    }
   },
   "outputs": [],
   "source": [
    "vis_nieve = {\n",
    "  'bands': ['B5', 'B3', 'B2'],\n",
    "  'min': 0,\n",
    "  'max': 0.5,\n",
    "  'gamma': [0.95, 1.1, 1]\n",
    "}"
   ]
  },
  {
   "cell_type": "code",
   "execution_count": 37,
   "id": "3d08df17",
   "metadata": {
    "ExecuteTime": {
     "end_time": "2022-01-20T13:06:08.852148Z",
     "start_time": "2022-01-20T13:06:08.847835Z"
    }
   },
   "outputs": [],
   "source": [
    "coleccion2009 = l5_2009.map(addNDVI).map(addNDWI).map(addNDGI).map(addSAVI).map(addNDSI).map(addDate).map(addCloud)"
   ]
  },
  {
   "cell_type": "code",
   "execution_count": 38,
   "id": "842248bc",
   "metadata": {
    "ExecuteTime": {
     "end_time": "2022-01-20T13:06:08.855712Z",
     "start_time": "2022-01-20T13:06:08.853256Z"
    }
   },
   "outputs": [],
   "source": [
    "QM_NDVI_2009 = coleccion2009.qualityMosaic('B11') # Normalized difference vegetation Index\n",
    "QM_NDWI_2009 = coleccion2009.qualityMosaic('NDWI') # Normalize difference water index\n",
    "QM_SAVI_2009 = coleccion2009.qualityMosaic('SAVI') # Soil Adjusted Vegetation Index \n",
    "QM_NDGI_2009 = coleccion2009.qualityMosaic('NDGI') # Normalized difference glacier index\n",
    "QM_NDSI_2009 = coleccion2009.qualityMosaic('NDSI') # Normalized difference snow index"
   ]
  },
  {
   "cell_type": "code",
   "execution_count": 39,
   "id": "2ffe439c",
   "metadata": {
    "ExecuteTime": {
     "end_time": "2022-01-20T13:06:13.303059Z",
     "start_time": "2022-01-20T13:06:08.856677Z"
    }
   },
   "outputs": [
    {
     "data": {
      "application/vnd.jupyter.widget-view+json": {
       "model_id": "fe92d3ef68e44d548e94b19768367a4e",
       "version_major": 2,
       "version_minor": 0
      },
      "text/plain": [
       "Map(center=[-45, -70], controls=(WidgetControl(options=['position', 'transparent_bg'], widget=HBox(children=(T…"
      ]
     },
     "metadata": {},
     "output_type": "display_data"
    }
   ],
   "source": [
    "Map.addLayer(QM_NDVI_2009, vizParams, 'QM de NDVI 2009')\n",
    "Map.addLayer(QM_NDWI_2009, vizParams, 'QM de NDWI 2009')\n",
    "Map.addLayer(QM_SAVI_2009, vizParams, 'QM de SAVI 2009')\n",
    "Map.addLayer(QM_NDGI_2009, vis_nieve, 'QM de NDGI 2009')\n",
    "Map.addLayer(QM_NDSI_2009, vis_nieve, 'QM de NDSI 2009')\n",
    "Map "
   ]
  },
  {
   "cell_type": "code",
   "execution_count": 40,
   "id": "2bfc974d",
   "metadata": {
    "ExecuteTime": {
     "end_time": "2022-01-20T13:06:13.306578Z",
     "start_time": "2022-01-20T13:06:13.303920Z"
    }
   },
   "outputs": [],
   "source": [
    "c2009_sn = coleccion2009.map(Cloud20)\n",
    "NDVI_2009_sn = c2009_sn.qualityMosaic('B11')\n",
    "NDWI_2009_sn = c2009_sn.qualityMosaic('NDWI')\n",
    "SAVI_2009_sn = c2009_sn.qualityMosaic('SAVI')\n",
    "NDGI_2009_sn = c2009_sn.qualityMosaic('NDGI')\n",
    "NDSI_2009_sn = c2009_sn.qualityMosaic('NDSI')"
   ]
  },
  {
   "cell_type": "code",
   "execution_count": 41,
   "id": "a2c9c98a",
   "metadata": {
    "ExecuteTime": {
     "end_time": "2022-01-20T13:06:13.310087Z",
     "start_time": "2022-01-20T13:06:13.307585Z"
    }
   },
   "outputs": [],
   "source": [
    "# Map2.addLayer(NDVI_2009_sn, vizParams, 'QMsn de NDVI 2009')\n",
    "# Map2.addLayer(NDWI_2009_sn, vizParams, 'QMsn de NDWI 2009')\n",
    "# Map2.addLayer(SAVI_2009_sn, vizParams, 'QMsn de SAVI 2009')\n",
    "# Map2.addLayer(NDGI_2009_sn, vis_nieve, 'QMsn de NDGI 2009')\n",
    "# Map2.addLayer(NDSI_2009_sn, vis_nieve, 'QMsn de NDSI 2009')\n",
    "# Map2"
   ]
  },
  {
   "cell_type": "markdown",
   "id": "ccec25b0",
   "metadata": {},
   "source": [
    "### 2008"
   ]
  },
  {
   "cell_type": "code",
   "execution_count": 42,
   "id": "ef53f13a",
   "metadata": {
    "ExecuteTime": {
     "end_time": "2022-01-20T13:06:13.313086Z",
     "start_time": "2022-01-20T13:06:13.311064Z"
    }
   },
   "outputs": [],
   "source": [
    "start_date = '2007-10-01'\n",
    "end_date = '2008-03-31'\n",
    "\n",
    "l5_2008 = ee.ImageCollection('LANDSAT/LT05/C01/T1_TOA') \\\n",
    "    .filterBounds(patagonia_grande) \\\n",
    "    .filterDate(start_date, end_date)"
   ]
  },
  {
   "cell_type": "code",
   "execution_count": 43,
   "id": "015e69de",
   "metadata": {
    "ExecuteTime": {
     "end_time": "2022-01-20T13:06:13.316091Z",
     "start_time": "2022-01-20T13:06:13.314154Z"
    }
   },
   "outputs": [],
   "source": [
    "vizParams = {\n",
    "  'bands': ['B4', 'B3', 'B2'],\n",
    "  'min': 0,\n",
    "  'max': 0.5,\n",
    "  'gamma': [0.95, 1.1, 1]\n",
    "}"
   ]
  },
  {
   "cell_type": "code",
   "execution_count": 44,
   "id": "5621cb6b",
   "metadata": {
    "ExecuteTime": {
     "end_time": "2022-01-20T13:06:13.318742Z",
     "start_time": "2022-01-20T13:06:13.317093Z"
    }
   },
   "outputs": [],
   "source": [
    "vis_nieve = {\n",
    "  'bands': ['B5', 'B3', 'B2'],\n",
    "  'min': 0,\n",
    "  'max': 0.5,\n",
    "  'gamma': [0.95, 1.1, 1]\n",
    "}"
   ]
  },
  {
   "cell_type": "code",
   "execution_count": 45,
   "id": "06a293d6",
   "metadata": {
    "ExecuteTime": {
     "end_time": "2022-01-20T13:06:13.324249Z",
     "start_time": "2022-01-20T13:06:13.319837Z"
    }
   },
   "outputs": [],
   "source": [
    "coleccion2008 = l5_2008.map(addNDVI).map(addNDWI).map(addNDGI).map(addSAVI).map(addNDSI).map(addDate).map(addCloud)"
   ]
  },
  {
   "cell_type": "code",
   "execution_count": 46,
   "id": "f724bb1b",
   "metadata": {
    "ExecuteTime": {
     "end_time": "2022-01-20T13:06:13.326987Z",
     "start_time": "2022-01-20T13:06:13.324954Z"
    }
   },
   "outputs": [],
   "source": [
    "QM_NDVI_2008 = coleccion2008.qualityMosaic('B11') # Normalized difference vegetation Index\n",
    "QM_NDWI_2008 = coleccion2008.qualityMosaic('NDWI') # Normalize difference water index\n",
    "QM_SAVI_2008 = coleccion2008.qualityMosaic('SAVI') # Soil Adjusted Vegetation Index \n",
    "QM_NDGI_2008 = coleccion2008.qualityMosaic('NDGI') # Normalized difference glacier index\n",
    "QM_NDSI_2008 = coleccion2008.qualityMosaic('NDSI') # Normalized difference snow index"
   ]
  },
  {
   "cell_type": "code",
   "execution_count": 47,
   "id": "6c001bbc",
   "metadata": {
    "ExecuteTime": {
     "end_time": "2022-01-20T13:06:16.673916Z",
     "start_time": "2022-01-20T13:06:13.328071Z"
    }
   },
   "outputs": [
    {
     "data": {
      "application/vnd.jupyter.widget-view+json": {
       "model_id": "fe92d3ef68e44d548e94b19768367a4e",
       "version_major": 2,
       "version_minor": 0
      },
      "text/plain": [
       "Map(center=[-45, -70], controls=(WidgetControl(options=['position', 'transparent_bg'], widget=HBox(children=(T…"
      ]
     },
     "metadata": {},
     "output_type": "display_data"
    }
   ],
   "source": [
    "Map.addLayer(QM_NDVI_2008, vizParams, 'QM de NDVI 2008')\n",
    "Map.addLayer(QM_NDWI_2008, vizParams, 'QM de NDWI 2008')\n",
    "Map.addLayer(QM_SAVI_2008, vizParams, 'QM de SAVI 2008')\n",
    "Map.addLayer(QM_NDGI_2008, vis_nieve, 'QM de NDGI 2008')\n",
    "Map.addLayer(QM_NDSI_2008, vis_nieve, 'QM de NDSI 2008')\n",
    "Map "
   ]
  },
  {
   "cell_type": "code",
   "execution_count": 48,
   "id": "06eebe04",
   "metadata": {
    "ExecuteTime": {
     "end_time": "2022-01-20T13:06:16.677921Z",
     "start_time": "2022-01-20T13:06:16.674909Z"
    }
   },
   "outputs": [],
   "source": [
    "c2008_sn = coleccion2008.map(Cloud20)\n",
    "NDVI_2008_sn = c2008_sn.qualityMosaic('B11')\n",
    "NDWI_2008_sn = c2008_sn.qualityMosaic('NDWI')\n",
    "SAVI_2008_sn = c2008_sn.qualityMosaic('SAVI')\n",
    "NDGI_2008_sn = c2008_sn.qualityMosaic('NDGI')\n",
    "NDSI_2008_sn = c2008_sn.qualityMosaic('NDSI')"
   ]
  },
  {
   "cell_type": "code",
   "execution_count": 49,
   "id": "7121bf75",
   "metadata": {
    "ExecuteTime": {
     "end_time": "2022-01-20T13:06:16.680713Z",
     "start_time": "2022-01-20T13:06:16.679043Z"
    }
   },
   "outputs": [],
   "source": [
    "# Map2.addLayer(NDVI_2008_sn, vizParams, 'QMsn de NDVI 2008')\n",
    "# Map2.addLayer(NDWI_2008_sn, vizParams, 'QMsn de NDWI 2008')\n",
    "# Map2.addLayer(SAVI_2008_sn, vizParams, 'QMsn de SAVI 2008')\n",
    "# Map2.addLayer(NDGI_2008_sn, vis_nieve, 'QMsn de NDGI 2008')\n",
    "# Map2.addLayer(NDSI_2008_sn, vis_nieve, 'QMsn de NDSI 2008')\n",
    "# Map2"
   ]
  },
  {
   "cell_type": "markdown",
   "id": "b1fff37f",
   "metadata": {},
   "source": [
    "### 2007"
   ]
  },
  {
   "cell_type": "code",
   "execution_count": 50,
   "id": "ed8a2ed2",
   "metadata": {
    "ExecuteTime": {
     "end_time": "2022-01-20T13:06:16.683611Z",
     "start_time": "2022-01-20T13:06:16.681811Z"
    }
   },
   "outputs": [],
   "source": [
    "start_date = '2006-10-01'\n",
    "end_date = '2007-03-31'\n",
    "\n",
    "l5_2007 = ee.ImageCollection('LANDSAT/LT05/C01/T1_TOA') \\\n",
    "    .filterBounds(patagonia_grande) \\\n",
    "    .filterDate(start_date, end_date)"
   ]
  },
  {
   "cell_type": "code",
   "execution_count": 51,
   "id": "ac158dd0",
   "metadata": {
    "ExecuteTime": {
     "end_time": "2022-01-20T13:06:16.689619Z",
     "start_time": "2022-01-20T13:06:16.684682Z"
    }
   },
   "outputs": [],
   "source": [
    "coleccion2007 = l5_2007.map(addNDVI).map(addNDWI).map(addNDGI).map(addSAVI).map(addNDSI).map(addDate).map(addCloud)"
   ]
  },
  {
   "cell_type": "code",
   "execution_count": 52,
   "id": "531b33cd",
   "metadata": {
    "ExecuteTime": {
     "end_time": "2022-01-20T13:06:16.693626Z",
     "start_time": "2022-01-20T13:06:16.690579Z"
    }
   },
   "outputs": [],
   "source": [
    "QM_NDVI_2007 = coleccion2007.qualityMosaic('B11') # Normalized difference vegetation Index\n",
    "QM_NDWI_2007 = coleccion2007.qualityMosaic('NDWI') # Normalize difference water index\n",
    "QM_SAVI_2007 = coleccion2007.qualityMosaic('SAVI') # Soil Adjusted Vegetation Index \n",
    "QM_NDGI_2007 = coleccion2007.qualityMosaic('NDGI') # Normalized difference glacier index\n",
    "QM_NDSI_2007 = coleccion2007.qualityMosaic('NDSI') # Normalized difference snow index"
   ]
  },
  {
   "cell_type": "code",
   "execution_count": 53,
   "id": "22b9a628",
   "metadata": {
    "ExecuteTime": {
     "end_time": "2022-01-20T13:06:21.741214Z",
     "start_time": "2022-01-20T13:06:16.694539Z"
    }
   },
   "outputs": [],
   "source": [
    "Map.addLayer(QM_NDVI_2007, vizParams, 'QM de NDVI 2007')\n",
    "Map.addLayer(QM_NDWI_2007, vizParams, 'QM de NDWI 2007')\n",
    "Map.addLayer(QM_SAVI_2007, vizParams, 'QM de SAVI 2007')\n",
    "Map.addLayer(QM_NDGI_2007, vis_nieve, 'QM de NDGI 2007')\n",
    "Map.addLayer(QM_NDSI_2007, vis_nieve, 'QM de NDSI 2007')\n",
    "# Map3"
   ]
  },
  {
   "cell_type": "code",
   "execution_count": 54,
   "id": "37413530",
   "metadata": {
    "ExecuteTime": {
     "end_time": "2022-01-20T13:06:21.745213Z",
     "start_time": "2022-01-20T13:06:21.742207Z"
    }
   },
   "outputs": [],
   "source": [
    "c2007_sn = coleccion2007.map(Cloud20)\n",
    "NDVI_2007_sn = c2007_sn.qualityMosaic('B11')\n",
    "NDWI_2007_sn = c2007_sn.qualityMosaic('NDWI')\n",
    "SAVI_2007_sn = c2007_sn.qualityMosaic('SAVI')\n",
    "NDGI_2007_sn = c2007_sn.qualityMosaic('NDGI')\n",
    "NDSI_2007_sn = c2007_sn.qualityMosaic('NDSI')"
   ]
  },
  {
   "cell_type": "code",
   "execution_count": 55,
   "id": "ee1a2de2",
   "metadata": {
    "ExecuteTime": {
     "end_time": "2022-01-20T13:06:26.496922Z",
     "start_time": "2022-01-20T13:06:21.746544Z"
    }
   },
   "outputs": [
    {
     "data": {
      "application/vnd.jupyter.widget-view+json": {
       "model_id": "da49e8f68a1340adbc44b9f5eb9dc01f",
       "version_major": 2,
       "version_minor": 0
      },
      "text/plain": [
       "Map(center=[-45, -70], controls=(WidgetControl(options=['position', 'transparent_bg'], widget=HBox(children=(T…"
      ]
     },
     "metadata": {},
     "output_type": "display_data"
    }
   ],
   "source": [
    "Map2.addLayer(NDVI_2007_sn, vizParams, 'QMsn de NDVI 2007')\n",
    "Map2.addLayer(NDWI_2007_sn, vizParams, 'QMsn de NDWI 2007')\n",
    "Map2.addLayer(SAVI_2007_sn, vizParams, 'QMsn de SAVI 2007')\n",
    "Map2.addLayer(NDGI_2007_sn, vis_nieve, 'QMsn de NDGI 2007')\n",
    "Map2.addLayer(NDSI_2007_sn, vis_nieve, 'QMsn de NDSI 2007')\n",
    "Map2"
   ]
  },
  {
   "cell_type": "markdown",
   "id": "d9e7e175",
   "metadata": {},
   "source": [
    "### 2006"
   ]
  },
  {
   "cell_type": "code",
   "execution_count": 56,
   "id": "80911c97",
   "metadata": {
    "ExecuteTime": {
     "end_time": "2022-01-20T13:06:26.499914Z",
     "start_time": "2022-01-20T13:06:26.497732Z"
    }
   },
   "outputs": [],
   "source": [
    "start_date = '2005-10-01'\n",
    "end_date = '2006-03-31'\n",
    "\n",
    "l5_2006 = ee.ImageCollection('LANDSAT/LT05/C01/T1_TOA') \\\n",
    "    .filterBounds(patagonia_grande) \\\n",
    "    .filterDate(start_date, end_date)"
   ]
  },
  {
   "cell_type": "code",
   "execution_count": 57,
   "id": "596d9609",
   "metadata": {
    "ExecuteTime": {
     "end_time": "2022-01-20T13:06:26.505507Z",
     "start_time": "2022-01-20T13:06:26.501121Z"
    }
   },
   "outputs": [],
   "source": [
    "coleccion2006 = l5_2006.map(addNDVI).map(addNDWI).map(addNDGI).map(addSAVI).map(addNDSI).map(addDate).map(addCloud)"
   ]
  },
  {
   "cell_type": "code",
   "execution_count": 58,
   "id": "67b699eb",
   "metadata": {
    "ExecuteTime": {
     "end_time": "2022-01-20T13:06:26.508610Z",
     "start_time": "2022-01-20T13:06:26.506348Z"
    }
   },
   "outputs": [],
   "source": [
    "QM_NDVI_2006 = coleccion2006.qualityMosaic('B11') # Normalized difference vegetation Index\n",
    "QM_NDWI_2006 = coleccion2006.qualityMosaic('NDWI') # Normalize difference water index\n",
    "QM_SAVI_2006 = coleccion2006.qualityMosaic('SAVI') # Soil Adjusted Vegetation Index \n",
    "QM_NDGI_2006 = coleccion2006.qualityMosaic('NDGI') # Normalized difference glacier index\n",
    "QM_NDSI_2006 = coleccion2006.qualityMosaic('NDSI') # Normalized difference snow index"
   ]
  },
  {
   "cell_type": "code",
   "execution_count": 59,
   "id": "2698dd26",
   "metadata": {
    "ExecuteTime": {
     "end_time": "2022-01-20T13:06:30.466742Z",
     "start_time": "2022-01-20T13:06:26.509588Z"
    }
   },
   "outputs": [],
   "source": [
    "Map3.addLayer(QM_NDVI_2006, vizParams, 'QM de NDVI 2006')\n",
    "Map3.addLayer(QM_NDWI_2006, vizParams, 'QM de NDWI 2006')\n",
    "Map3.addLayer(QM_SAVI_2006, vizParams, 'QM de SAVI 2006')\n",
    "Map3.addLayer(QM_NDGI_2006, vis_nieve, 'QM de NDGI 2006')\n",
    "Map3.addLayer(QM_NDSI_2006, vis_nieve, 'QM de NDSI 2006')\n",
    "# Map3"
   ]
  },
  {
   "cell_type": "code",
   "execution_count": 60,
   "id": "ff28e9e5",
   "metadata": {
    "ExecuteTime": {
     "end_time": "2022-01-20T13:06:30.470295Z",
     "start_time": "2022-01-20T13:06:30.467592Z"
    }
   },
   "outputs": [],
   "source": [
    "c2006_sn = coleccion2006.map(Cloud20)\n",
    "NDVI_2006_sn = c2006_sn.qualityMosaic('B11')\n",
    "NDWI_2006_sn = c2006_sn.qualityMosaic('NDWI')\n",
    "SAVI_2006_sn = c2006_sn.qualityMosaic('SAVI')\n",
    "NDGI_2006_sn = c2006_sn.qualityMosaic('NDGI')\n",
    "NDSI_2006_sn = c2006_sn.qualityMosaic('NDSI')"
   ]
  },
  {
   "cell_type": "code",
   "execution_count": 61,
   "id": "56dedb0c",
   "metadata": {
    "ExecuteTime": {
     "end_time": "2022-01-20T13:06:34.387691Z",
     "start_time": "2022-01-20T13:06:30.471225Z"
    }
   },
   "outputs": [
    {
     "data": {
      "application/vnd.jupyter.widget-view+json": {
       "model_id": "b08afa214d9244a7b114743c80ff04d4",
       "version_major": 2,
       "version_minor": 0
      },
      "text/plain": [
       "Map(center=[-45, -70], controls=(WidgetControl(options=['position', 'transparent_bg'], widget=HBox(children=(T…"
      ]
     },
     "metadata": {},
     "output_type": "display_data"
    }
   ],
   "source": [
    "Map4.addLayer(NDVI_2006_sn, vizParams, 'QMsn de NDVI 2006')\n",
    "Map4.addLayer(NDWI_2006_sn, vizParams, 'QMsn de NDWI 2006')\n",
    "Map4.addLayer(SAVI_2006_sn, vizParams, 'QMsn de SAVI 2006')\n",
    "Map4.addLayer(NDGI_2006_sn, vis_nieve, 'QMsn de NDGI 2006')\n",
    "Map4.addLayer(NDSI_2006_sn, vis_nieve, 'QMsn de NDSI 2006')\n",
    "Map4"
   ]
  },
  {
   "cell_type": "markdown",
   "id": "840d00c3",
   "metadata": {},
   "source": [
    "### 2005"
   ]
  },
  {
   "cell_type": "code",
   "execution_count": 62,
   "id": "8f97e666",
   "metadata": {
    "ExecuteTime": {
     "end_time": "2022-01-20T13:06:34.390823Z",
     "start_time": "2022-01-20T13:06:34.388627Z"
    }
   },
   "outputs": [],
   "source": [
    "start_date = '2004-10-01'\n",
    "end_date = '2005-03-31'\n",
    "\n",
    "l5_2005 = ee.ImageCollection('LANDSAT/LT05/C01/T1_TOA') \\\n",
    "    .filterBounds(patagonia_grande) \\\n",
    "    .filterDate(start_date, end_date)"
   ]
  },
  {
   "cell_type": "code",
   "execution_count": 63,
   "id": "933551b1",
   "metadata": {
    "ExecuteTime": {
     "end_time": "2022-01-20T13:06:34.396830Z",
     "start_time": "2022-01-20T13:06:34.391617Z"
    }
   },
   "outputs": [],
   "source": [
    "coleccion2005 = l5_2005.map(addNDVI).map(addNDWI).map(addNDGI).map(addSAVI).map(addNDSI).map(addDate).map(addCloud)"
   ]
  },
  {
   "cell_type": "code",
   "execution_count": 64,
   "id": "b17be12d",
   "metadata": {
    "ExecuteTime": {
     "end_time": "2022-01-20T13:06:34.399910Z",
     "start_time": "2022-01-20T13:06:34.398006Z"
    }
   },
   "outputs": [],
   "source": [
    "QM_NDVI_2005 = coleccion2005.qualityMosaic('B11') # Normalized difference vegetation Index\n",
    "QM_NDWI_2005 = coleccion2005.qualityMosaic('NDWI') # Normalize difference water index\n",
    "QM_SAVI_2005 = coleccion2005.qualityMosaic('SAVI') # Soil Adjusted Vegetation Index \n",
    "QM_NDGI_2005 = coleccion2005.qualityMosaic('NDGI') # Normalized difference glacier index\n",
    "QM_NDSI_2005 = coleccion2005.qualityMosaic('NDSI') # Normalized difference snow index"
   ]
  },
  {
   "cell_type": "code",
   "execution_count": 65,
   "id": "6ab37322",
   "metadata": {
    "ExecuteTime": {
     "end_time": "2022-01-20T13:06:39.045044Z",
     "start_time": "2022-01-20T13:06:34.400971Z"
    }
   },
   "outputs": [],
   "source": [
    "Map3.addLayer(QM_NDVI_2005, vizParams, 'QM de NDVI 2005')\n",
    "Map3.addLayer(QM_NDWI_2005, vizParams, 'QM de NDWI 2005')\n",
    "Map3.addLayer(QM_SAVI_2005, vizParams, 'QM de SAVI 2005')\n",
    "Map3.addLayer(QM_NDGI_2005, vis_nieve, 'QM de NDGI 2005')\n",
    "Map3.addLayer(QM_NDSI_2005, vis_nieve, 'QM de NDSI 2005')\n",
    "# Map3"
   ]
  },
  {
   "cell_type": "code",
   "execution_count": 66,
   "id": "30b437d8",
   "metadata": {
    "ExecuteTime": {
     "end_time": "2022-01-20T13:06:39.048923Z",
     "start_time": "2022-01-20T13:06:39.046202Z"
    }
   },
   "outputs": [],
   "source": [
    "c2005_sn = coleccion2005.map(Cloud20)\n",
    "NDVI_2005_sn = c2005_sn.qualityMosaic('B11')\n",
    "NDWI_2005_sn = c2005_sn.qualityMosaic('NDWI')\n",
    "SAVI_2005_sn = c2005_sn.qualityMosaic('SAVI')\n",
    "NDGI_2005_sn = c2005_sn.qualityMosaic('NDGI')\n",
    "NDSI_2005_sn = c2005_sn.qualityMosaic('NDSI')"
   ]
  },
  {
   "cell_type": "code",
   "execution_count": 67,
   "id": "183da129",
   "metadata": {
    "ExecuteTime": {
     "end_time": "2022-01-20T13:06:43.852451Z",
     "start_time": "2022-01-20T13:06:39.049827Z"
    }
   },
   "outputs": [
    {
     "data": {
      "application/vnd.jupyter.widget-view+json": {
       "model_id": "b08afa214d9244a7b114743c80ff04d4",
       "version_major": 2,
       "version_minor": 0
      },
      "text/plain": [
       "Map(center=[-45, -70], controls=(WidgetControl(options=['position', 'transparent_bg'], widget=HBox(children=(T…"
      ]
     },
     "metadata": {},
     "output_type": "display_data"
    }
   ],
   "source": [
    "Map4.addLayer(NDVI_2005_sn, vizParams, 'QMsn de NDVI 2005')\n",
    "Map4.addLayer(NDWI_2005_sn, vizParams, 'QMsn de NDWI 2005')\n",
    "Map4.addLayer(SAVI_2005_sn, vizParams, 'QMsn de SAVI 2005')\n",
    "Map4.addLayer(NDGI_2005_sn, vis_nieve, 'QMsn de NDGI 2005')\n",
    "Map4.addLayer(NDSI_2005_sn, vis_nieve, 'QMsn de NDSI 2005')\n",
    "Map4"
   ]
  },
  {
   "cell_type": "markdown",
   "id": "24141155",
   "metadata": {},
   "source": [
    "### 2009 L7"
   ]
  },
  {
   "cell_type": "code",
   "execution_count": 68,
   "id": "546ae4bd",
   "metadata": {
    "ExecuteTime": {
     "end_time": "2022-01-20T13:06:43.856464Z",
     "start_time": "2022-01-20T13:06:43.853388Z"
    }
   },
   "outputs": [],
   "source": [
    "start_date = '2008-10-01'\n",
    "end_date = '2009-03-31'\n",
    "\n",
    "l7_2009 = ee.ImageCollection('LANDSAT/LE07/C01/T1_TOA') \\\n",
    "    .filterBounds(patagonia_grande) \\\n",
    "    .filterDate(start_date, end_date)"
   ]
  },
  {
   "cell_type": "code",
   "execution_count": 69,
   "id": "671d83f5",
   "metadata": {
    "ExecuteTime": {
     "end_time": "2022-01-20T13:06:43.862468Z",
     "start_time": "2022-01-20T13:06:43.857864Z"
    }
   },
   "outputs": [],
   "source": [
    "coleccion_l7_2009 = l7_2009.map(addNDVI7).map(addNDWI).map(addNDGI).map(addSAVI).map(addNDSI).map(addDate).map(addCloud)"
   ]
  },
  {
   "cell_type": "code",
   "execution_count": 70,
   "id": "868510a8",
   "metadata": {
    "ExecuteTime": {
     "end_time": "2022-01-20T13:06:43.865472Z",
     "start_time": "2022-01-20T13:06:43.863460Z"
    }
   },
   "outputs": [],
   "source": [
    "coleccion_l7_2009 = coleccion_l7_2009.set('SENSOR_ID', 'OLI_TIRS')"
   ]
  },
  {
   "cell_type": "code",
   "execution_count": 71,
   "id": "f2a33ba2",
   "metadata": {
    "ExecuteTime": {
     "end_time": "2022-01-20T13:06:43.868482Z",
     "start_time": "2022-01-20T13:06:43.866444Z"
    }
   },
   "outputs": [],
   "source": [
    "QM_NDVI_2009_l7 = coleccion_l7_2009.qualityMosaic('NDVI') # Normalized difference vegetation Index\n",
    "QM_NDWI_2009_l7 = coleccion_l7_2009.qualityMosaic('NDWI') # Normalize difference water index\n",
    "QM_SAVI_2009_l7 = coleccion_l7_2009.qualityMosaic('SAVI') # Soil Adjusted Vegetation Index \n",
    "QM_NDGI_2009_l7 = coleccion_l7_2009.qualityMosaic('NDGI') # Normalized difference glacier index\n",
    "QM_NDSI_2009_l7 = coleccion_l7_2009.qualityMosaic('NDSI') # Normalized difference snow index"
   ]
  },
  {
   "cell_type": "code",
   "execution_count": 72,
   "id": "370670f2",
   "metadata": {
    "ExecuteTime": {
     "end_time": "2022-01-20T13:06:49.605065Z",
     "start_time": "2022-01-20T13:06:43.869729Z"
    }
   },
   "outputs": [],
   "source": [
    "Map5.addLayer(QM_NDVI_2009_l7, vizParams, 'QM de NDVI 2009_l7')\n",
    "Map5.addLayer(QM_NDWI_2009_l7, vizParams, 'QM de NDWI 2009_l7')\n",
    "Map5.addLayer(QM_SAVI_2009_l7, vizParams, 'QM de SAVI 2009_l7')\n",
    "Map5.addLayer(QM_NDGI_2009_l7, vis_nieve, 'QM de NDGI 2009_l7')\n",
    "Map5.addLayer(QM_NDSI_2009_l7, vis_nieve, 'QM de NDSI 2009_l7')\n",
    "# Map5"
   ]
  },
  {
   "cell_type": "code",
   "execution_count": 73,
   "id": "e0d06d58",
   "metadata": {
    "ExecuteTime": {
     "end_time": "2022-01-20T13:06:49.608786Z",
     "start_time": "2022-01-20T13:06:49.606110Z"
    }
   },
   "outputs": [],
   "source": [
    "c2009_l7_sn = coleccion_l7_2009.map(Cloud20)\n",
    "NDVI_2009_l7_sn = c2009_l7_sn.qualityMosaic('NDVI')\n",
    "NDWI_2009_l7_sn = c2009_l7_sn.qualityMosaic('NDWI')\n",
    "SAVI_2009_l7_sn = c2009_l7_sn.qualityMosaic('SAVI')\n",
    "NDGI_2009_l7_sn = c2009_l7_sn.qualityMosaic('NDGI')\n",
    "NDSI_2009_l7_sn = c2009_l7_sn.qualityMosaic('NDSI')"
   ]
  },
  {
   "cell_type": "code",
   "execution_count": 74,
   "id": "a908e3c7",
   "metadata": {
    "ExecuteTime": {
     "end_time": "2022-01-20T13:06:56.007526Z",
     "start_time": "2022-01-20T13:06:49.609609Z"
    }
   },
   "outputs": [
    {
     "data": {
      "application/vnd.jupyter.widget-view+json": {
       "model_id": "48343f5ec5604280bc926dd92fd70862",
       "version_major": 2,
       "version_minor": 0
      },
      "text/plain": [
       "Map(center=[-45, -70], controls=(WidgetControl(options=['position', 'transparent_bg'], widget=HBox(children=(T…"
      ]
     },
     "metadata": {},
     "output_type": "display_data"
    }
   ],
   "source": [
    "Map6.addLayer(NDVI_2009_l7_sn, vizParams, 'QMsn de NDVI 2009_l7')\n",
    "Map6.addLayer(NDWI_2009_l7_sn, vizParams, 'QMsn de NDWI 2009_l7')\n",
    "Map6.addLayer(SAVI_2009_l7_sn, vizParams, 'QMsn de SAVI 2009_l7')\n",
    "Map6.addLayer(NDGI_2009_l7_sn, vis_nieve, 'QMsn de NDGI 2009_l7')\n",
    "Map6.addLayer(NDSI_2009_l7_sn, vis_nieve, 'QMsn de NDSI 2009_l7')\n",
    "Map6"
   ]
  },
  {
   "cell_type": "markdown",
   "id": "19f59336",
   "metadata": {},
   "source": [
    "### 2008 L7"
   ]
  },
  {
   "cell_type": "code",
   "execution_count": 75,
   "id": "2d8f44b8",
   "metadata": {
    "ExecuteTime": {
     "end_time": "2022-01-20T13:06:56.011067Z",
     "start_time": "2022-01-20T13:06:56.008568Z"
    }
   },
   "outputs": [],
   "source": [
    "start_date = '2007-10-01'\n",
    "end_date = '2008-03-31'\n",
    "\n",
    "l7_2008 = ee.ImageCollection('LANDSAT/LE07/C01/T1_TOA') \\\n",
    "    .filterBounds(patagonia_grande) \\\n",
    "    .filterDate(start_date, end_date)"
   ]
  },
  {
   "cell_type": "code",
   "execution_count": 76,
   "id": "e5f94824",
   "metadata": {
    "ExecuteTime": {
     "end_time": "2022-01-20T13:06:56.017752Z",
     "start_time": "2022-01-20T13:06:56.012798Z"
    }
   },
   "outputs": [],
   "source": [
    "coleccion_l7_2008 = l7_2008.map(addNDVI7).map(addNDWI).map(addNDGI).map(addSAVI).map(addNDSI).map(addDate).map(addCloud)"
   ]
  },
  {
   "cell_type": "code",
   "execution_count": 77,
   "id": "ab3ed17f",
   "metadata": {
    "ExecuteTime": {
     "end_time": "2022-01-20T13:06:56.020878Z",
     "start_time": "2022-01-20T13:06:56.019091Z"
    }
   },
   "outputs": [],
   "source": [
    "coleccion_l7_2008 = coleccion_l7_2008.set('SENSOR_ID', 'OLI_TIRS')"
   ]
  },
  {
   "cell_type": "code",
   "execution_count": 78,
   "id": "452d3007",
   "metadata": {
    "ExecuteTime": {
     "end_time": "2022-01-20T13:06:56.024485Z",
     "start_time": "2022-01-20T13:06:56.022144Z"
    }
   },
   "outputs": [],
   "source": [
    "QM_NDVI_2008_l7 = coleccion_l7_2008.qualityMosaic('NDVI') # Normalized difference vegetation Index\n",
    "QM_NDWI_2008_l7 = coleccion_l7_2008.qualityMosaic('NDWI') # Normalize difference water index\n",
    "QM_SAVI_2008_l7 = coleccion_l7_2008.qualityMosaic('SAVI') # Soil Adjusted Vegetation Index \n",
    "QM_NDGI_2008_l7 = coleccion_l7_2008.qualityMosaic('NDGI') # Normalized difference glacier index\n",
    "QM_NDSI_2008_l7 = coleccion_l7_2008.qualityMosaic('NDSI') # Normalized difference snow index"
   ]
  },
  {
   "cell_type": "code",
   "execution_count": 79,
   "id": "cf1389b6",
   "metadata": {
    "ExecuteTime": {
     "end_time": "2022-01-20T13:07:02.034495Z",
     "start_time": "2022-01-20T13:06:56.025642Z"
    }
   },
   "outputs": [
    {
     "data": {
      "application/vnd.jupyter.widget-view+json": {
       "model_id": "5afd3121d2f84f5ea26913205b865aca",
       "version_major": 2,
       "version_minor": 0
      },
      "text/plain": [
       "Map(center=[-45, -70], controls=(WidgetControl(options=['position', 'transparent_bg'], widget=HBox(children=(T…"
      ]
     },
     "metadata": {},
     "output_type": "display_data"
    }
   ],
   "source": [
    "Map5.addLayer(QM_NDVI_2008_l7, vizParams, 'QM de NDVI 2008_l7')\n",
    "Map5.addLayer(QM_NDWI_2008_l7, vizParams, 'QM de NDWI 2008_l7')\n",
    "Map5.addLayer(QM_SAVI_2008_l7, vizParams, 'QM de SAVI 2008_l7')\n",
    "Map5.addLayer(QM_NDGI_2008_l7, vis_nieve, 'QM de NDGI 2008_l7')\n",
    "Map5.addLayer(QM_NDSI_2008_l7, vis_nieve, 'QM de NDSI 2008_l7')\n",
    "Map5"
   ]
  },
  {
   "cell_type": "code",
   "execution_count": 80,
   "id": "6a7d5ff4",
   "metadata": {
    "ExecuteTime": {
     "end_time": "2022-01-20T13:07:02.038078Z",
     "start_time": "2022-01-20T13:07:02.035456Z"
    }
   },
   "outputs": [],
   "source": [
    "c2008_l7_sn = coleccion_l7_2008.map(Cloud20)\n",
    "NDVI_2008_l7_sn = c2008_l7_sn.qualityMosaic('NDVI')\n",
    "NDWI_2008_l7_sn = c2008_l7_sn.qualityMosaic('NDWI')\n",
    "SAVI_2008_l7_sn = c2008_l7_sn.qualityMosaic('SAVI')\n",
    "NDGI_2008_l7_sn = c2008_l7_sn.qualityMosaic('NDGI')\n",
    "NDSI_2008_l7_sn = c2008_l7_sn.qualityMosaic('NDSI')"
   ]
  },
  {
   "cell_type": "code",
   "execution_count": 81,
   "id": "ec851683",
   "metadata": {
    "ExecuteTime": {
     "end_time": "2022-01-20T13:07:08.870085Z",
     "start_time": "2022-01-20T13:07:02.039163Z"
    }
   },
   "outputs": [
    {
     "data": {
      "application/vnd.jupyter.widget-view+json": {
       "model_id": "48343f5ec5604280bc926dd92fd70862",
       "version_major": 2,
       "version_minor": 0
      },
      "text/plain": [
       "Map(center=[-45, -70], controls=(WidgetControl(options=['position', 'transparent_bg'], widget=HBox(children=(T…"
      ]
     },
     "metadata": {},
     "output_type": "display_data"
    }
   ],
   "source": [
    "Map6.addLayer(NDVI_2008_l7_sn, vizParams, 'QMsn de NDVI 2008_l7')\n",
    "Map6.addLayer(NDWI_2008_l7_sn, vizParams, 'QMsn de NDWI 2008_l7')\n",
    "Map6.addLayer(SAVI_2008_l7_sn, vizParams, 'QMsn de SAVI 2008_l7')\n",
    "Map6.addLayer(NDGI_2008_l7_sn, vis_nieve, 'QMsn de NDGI 2008_l7')\n",
    "Map6.addLayer(NDSI_2008_l7_sn, vis_nieve, 'QMsn de NDSI 2008_l7')\n",
    "Map6"
   ]
  },
  {
   "cell_type": "markdown",
   "id": "4f69c36f",
   "metadata": {},
   "source": [
    "### 2007 L7"
   ]
  },
  {
   "cell_type": "code",
   "execution_count": 82,
   "id": "a817f842",
   "metadata": {
    "ExecuteTime": {
     "end_time": "2022-01-20T13:07:08.878616Z",
     "start_time": "2022-01-20T13:07:08.876219Z"
    }
   },
   "outputs": [],
   "source": [
    "start_date = '2006-10-01'\n",
    "end_date = '2007-03-31'\n",
    "\n",
    "l7_2007 = ee.ImageCollection('LANDSAT/LE07/C01/T1_TOA') \\\n",
    "    .filterBounds(patagonia_grande) \\\n",
    "    .filterDate(start_date, end_date)"
   ]
  },
  {
   "cell_type": "code",
   "execution_count": 83,
   "id": "815566d1",
   "metadata": {
    "ExecuteTime": {
     "end_time": "2022-01-20T13:07:08.886136Z",
     "start_time": "2022-01-20T13:07:08.880026Z"
    }
   },
   "outputs": [],
   "source": [
    "coleccion_l7_2007 = l7_2007.map(addNDVI7).map(addNDWI).map(addNDGI).map(addSAVI).map(addNDSI).map(addDate).map(addCloud)"
   ]
  },
  {
   "cell_type": "code",
   "execution_count": 84,
   "id": "33ff1e34",
   "metadata": {
    "ExecuteTime": {
     "end_time": "2022-01-20T13:07:08.890128Z",
     "start_time": "2022-01-20T13:07:08.887026Z"
    }
   },
   "outputs": [],
   "source": [
    "QM_NDVI_2007_l7 = coleccion_l7_2007.qualityMosaic('NDVI') # Normalized difference vegetation Index\n",
    "QM_NDWI_2007_l7 = coleccion_l7_2007.qualityMosaic('NDWI') # Normalize difference water index\n",
    "QM_SAVI_2007_l7 = coleccion_l7_2007.qualityMosaic('SAVI') # Soil Adjusted Vegetation Index \n",
    "QM_NDGI_2007_l7 = coleccion_l7_2007.qualityMosaic('NDGI') # Normalized difference glacier index\n",
    "QM_NDSI_2007_l7 = coleccion_l7_2007.qualityMosaic('NDSI') # Normalized difference snow index"
   ]
  },
  {
   "cell_type": "code",
   "execution_count": 85,
   "id": "1e28dffd",
   "metadata": {
    "ExecuteTime": {
     "end_time": "2022-01-20T13:07:14.837937Z",
     "start_time": "2022-01-20T13:07:08.890923Z"
    }
   },
   "outputs": [],
   "source": [
    "Map5.addLayer(QM_NDVI_2007_l7, vizParams, 'QM de NDVI 2007_l7')\n",
    "Map5.addLayer(QM_NDWI_2007_l7, vizParams, 'QM de NDWI 2007_l7')\n",
    "Map5.addLayer(QM_SAVI_2007_l7, vizParams, 'QM de SAVI 2007_l7')\n",
    "Map5.addLayer(QM_NDGI_2007_l7, vis_nieve, 'QM de NDGI 2007_l7')\n",
    "Map5.addLayer(QM_NDSI_2007_l7, vis_nieve, 'QM de NDSI 2007_l7')\n",
    "# Map5"
   ]
  },
  {
   "cell_type": "code",
   "execution_count": 86,
   "id": "2f07d694",
   "metadata": {
    "ExecuteTime": {
     "end_time": "2022-01-20T13:07:14.842088Z",
     "start_time": "2022-01-20T13:07:14.839022Z"
    }
   },
   "outputs": [],
   "source": [
    "c2007_l7_sn = coleccion_l7_2007.map(Cloud20)\n",
    "NDVI_2007_l7_sn = c2007_l7_sn.qualityMosaic('NDVI')\n",
    "NDWI_2007_l7_sn = c2007_l7_sn.qualityMosaic('NDWI')\n",
    "SAVI_2007_l7_sn = c2007_l7_sn.qualityMosaic('SAVI')\n",
    "NDGI_2007_l7_sn = c2007_l7_sn.qualityMosaic('NDGI')\n",
    "NDSI_2007_l7_sn = c2007_l7_sn.qualityMosaic('NDSI')"
   ]
  },
  {
   "cell_type": "code",
   "execution_count": 87,
   "id": "0e26e3a5",
   "metadata": {
    "ExecuteTime": {
     "end_time": "2022-01-20T13:07:20.662322Z",
     "start_time": "2022-01-20T13:07:14.842856Z"
    }
   },
   "outputs": [
    {
     "data": {
      "application/vnd.jupyter.widget-view+json": {
       "model_id": "48343f5ec5604280bc926dd92fd70862",
       "version_major": 2,
       "version_minor": 0
      },
      "text/plain": [
       "Map(center=[-45, -70], controls=(WidgetControl(options=['position', 'transparent_bg'], widget=HBox(children=(T…"
      ]
     },
     "metadata": {},
     "output_type": "display_data"
    }
   ],
   "source": [
    "Map6.addLayer(NDVI_2007_l7_sn, vizParams, 'QMsn de NDVI 2007_l7')\n",
    "Map6.addLayer(NDWI_2007_l7_sn, vizParams, 'QMsn de NDWI 2007_l7')\n",
    "Map6.addLayer(SAVI_2007_l7_sn, vizParams, 'QMsn de SAVI 2007_l7')\n",
    "Map6.addLayer(NDGI_2007_l7_sn, vis_nieve, 'QMsn de NDGI 2007_l7')\n",
    "Map6.addLayer(NDSI_2007_l7_sn, vis_nieve, 'QMsn de NDSI 2007_l7')\n",
    "Map6"
   ]
  },
  {
   "cell_type": "markdown",
   "id": "36356b0d",
   "metadata": {},
   "source": [
    "### 2006 L7"
   ]
  },
  {
   "cell_type": "code",
   "execution_count": 88,
   "id": "d9779e07",
   "metadata": {
    "ExecuteTime": {
     "end_time": "2022-01-20T13:07:20.665323Z",
     "start_time": "2022-01-20T13:07:20.663227Z"
    }
   },
   "outputs": [],
   "source": [
    "start_date = '2005-10-01'\n",
    "end_date = '2006-03-31'\n",
    "\n",
    "l7_2006 = ee.ImageCollection('LANDSAT/LE07/C01/T1_TOA') \\\n",
    "    .filterBounds(patagonia_grande) \\\n",
    "    .filterDate(start_date, end_date)"
   ]
  },
  {
   "cell_type": "code",
   "execution_count": 89,
   "id": "e97b8a3f",
   "metadata": {
    "ExecuteTime": {
     "end_time": "2022-01-20T13:07:20.670828Z",
     "start_time": "2022-01-20T13:07:20.666508Z"
    }
   },
   "outputs": [],
   "source": [
    "coleccion_l7_2006 = l7_2006.map(addNDVI7).map(addNDWI).map(addNDGI).map(addSAVI).map(addNDSI).map(addDate).map(addCloud)"
   ]
  },
  {
   "cell_type": "code",
   "execution_count": 90,
   "id": "8c15e974",
   "metadata": {
    "ExecuteTime": {
     "end_time": "2022-01-20T13:07:20.674340Z",
     "start_time": "2022-01-20T13:07:20.671873Z"
    }
   },
   "outputs": [],
   "source": [
    "QM_NDVI_2006_l7 = coleccion_l7_2006.qualityMosaic('NDVI') # Normalized difference vegetation Index\n",
    "QM_NDWI_2006_l7 = coleccion_l7_2006.qualityMosaic('NDWI') # Normalize difference water index\n",
    "QM_SAVI_2006_l7 = coleccion_l7_2006.qualityMosaic('SAVI') # Soil Adjusted Vegetation Index \n",
    "QM_NDGI_2006_l7 = coleccion_l7_2006.qualityMosaic('NDGI') # Normalized difference glacier index\n",
    "QM_NDSI_2006_l7 = coleccion_l7_2006.qualityMosaic('NDSI') # Normalized difference snow index"
   ]
  },
  {
   "cell_type": "code",
   "execution_count": 91,
   "id": "cdb313e2",
   "metadata": {
    "ExecuteTime": {
     "end_time": "2022-01-20T13:07:26.815205Z",
     "start_time": "2022-01-20T13:07:20.675334Z"
    }
   },
   "outputs": [],
   "source": [
    "Map5.addLayer(QM_NDVI_2006_l7, vizParams, 'QM de NDVI 2006_l7')\n",
    "Map5.addLayer(QM_NDWI_2006_l7, vizParams, 'QM de NDWI 2006_l7')\n",
    "Map5.addLayer(QM_SAVI_2006_l7, vizParams, 'QM de SAVI 2006_l7')\n",
    "Map5.addLayer(QM_NDGI_2006_l7, vis_nieve, 'QM de NDGI 2006_l7')\n",
    "Map5.addLayer(QM_NDSI_2006_l7, vis_nieve, 'QM de NDSI 2006_l7')\n",
    "# Map5"
   ]
  },
  {
   "cell_type": "code",
   "execution_count": 92,
   "id": "9819ceea",
   "metadata": {
    "ExecuteTime": {
     "end_time": "2022-01-20T13:07:26.818682Z",
     "start_time": "2022-01-20T13:07:26.816268Z"
    }
   },
   "outputs": [],
   "source": [
    "c2006_l7_sn = coleccion_l7_2006.map(Cloud20)\n",
    "NDVI_2006_l7_sn = c2006_l7_sn.qualityMosaic('NDVI')\n",
    "NDWI_2006_l7_sn = c2006_l7_sn.qualityMosaic('NDWI')\n",
    "SAVI_2006_l7_sn = c2006_l7_sn.qualityMosaic('SAVI')\n",
    "NDGI_2006_l7_sn = c2006_l7_sn.qualityMosaic('NDGI')\n",
    "NDSI_2006_l7_sn = c2006_l7_sn.qualityMosaic('NDSI')"
   ]
  },
  {
   "cell_type": "code",
   "execution_count": 93,
   "id": "507a4780",
   "metadata": {
    "ExecuteTime": {
     "end_time": "2022-01-20T13:07:26.821215Z",
     "start_time": "2022-01-20T13:07:26.819518Z"
    }
   },
   "outputs": [],
   "source": [
    "# Map8.addLayer(NDVI_2006_l7_sn, vizParams, 'QMsn de NDVI 2006_l7')\n",
    "# Map8.addLayer(NDWI_2006_l7_sn, vizParams, 'QMsn de NDWI 2006_l7')\n",
    "# Map8.addLayer(SAVI_2006_l7_sn, vizParams, 'QMsn de SAVI 2006_l7')\n",
    "# Map8.addLayer(NDGI_2006_l7_sn, vis_nieve, 'QMsn de NDGI 2006_l7')\n",
    "# Map8.addLayer(NDSI_2006_l7_sn, vis_nieve, 'QMsn de NDSI 2006_l7')\n",
    "# Map8"
   ]
  },
  {
   "cell_type": "markdown",
   "id": "d379e7db",
   "metadata": {},
   "source": [
    "### 2006-2009 Colección"
   ]
  },
  {
   "cell_type": "code",
   "execution_count": 94,
   "id": "cb964937",
   "metadata": {
    "ExecuteTime": {
     "end_time": "2022-01-20T13:07:26.824772Z",
     "start_time": "2022-01-20T13:07:26.822360Z"
    }
   },
   "outputs": [],
   "source": [
    "coleccion2006_2009 = ee.ImageCollection(l7_2009.merge(l7_2008).merge(l7_2007).merge(l7_2006))"
   ]
  },
  {
   "cell_type": "code",
   "execution_count": 95,
   "id": "6d3e4bac",
   "metadata": {
    "ExecuteTime": {
     "end_time": "2022-01-20T13:07:26.827668Z",
     "start_time": "2022-01-20T13:07:26.825918Z"
    }
   },
   "outputs": [],
   "source": [
    "coleccion2006_2009_l5 = ee.ImageCollection(l5_2009.merge(l5_2008).merge(l5_2007).merge(l5_2006).merge(l5_2005))"
   ]
  },
  {
   "cell_type": "code",
   "execution_count": 96,
   "id": "c6ca746f",
   "metadata": {
    "ExecuteTime": {
     "end_time": "2022-01-20T13:07:26.832771Z",
     "start_time": "2022-01-20T13:07:26.828830Z"
    }
   },
   "outputs": [],
   "source": [
    "l7_summer = coleccion2006_2009.map(addNDVI7).map(addNDWI).map(addNDGI).map(addSAVI).map(addNDSI).map(addDate).map(addCloud)"
   ]
  },
  {
   "cell_type": "code",
   "execution_count": 97,
   "id": "dd601bba",
   "metadata": {
    "ExecuteTime": {
     "end_time": "2022-01-20T13:07:26.838004Z",
     "start_time": "2022-01-20T13:07:26.833877Z"
    }
   },
   "outputs": [],
   "source": [
    "l5_summer = coleccion2006_2009_l5.map(addNDVI).map(addNDWI).map(addNDGI).map(addSAVI).map(addNDSI).map(addDate).map(addCloud)"
   ]
  },
  {
   "cell_type": "markdown",
   "id": "be4bfba3",
   "metadata": {},
   "source": [
    "### Tier 1"
   ]
  },
  {
   "cell_type": "code",
   "execution_count": 98,
   "id": "7cf131d3",
   "metadata": {
    "ExecuteTime": {
     "end_time": "2022-01-20T13:07:26.840877Z",
     "start_time": "2022-01-20T13:07:26.839021Z"
    }
   },
   "outputs": [],
   "source": [
    "Tier1_l5_sn = l5_summer.map(Cloud10)"
   ]
  },
  {
   "cell_type": "code",
   "execution_count": 99,
   "id": "19ec44bd",
   "metadata": {
    "ExecuteTime": {
     "end_time": "2022-01-20T13:07:26.843863Z",
     "start_time": "2022-01-20T13:07:26.841776Z"
    }
   },
   "outputs": [],
   "source": [
    "QM_NDVI_T1_l5 = Tier1_l5_sn.qualityMosaic('B11')# Normalized difference vegetation Index\n",
    "QM_NDWI_T1_l5 = Tier1_l5_sn.qualityMosaic('NDWI') # Normalize difference water index\n",
    "QM_SAVI_T1_l5 = Tier1_l5_sn.qualityMosaic('SAVI') # Soil Adjusted Vegetation Index \n",
    "QM_NDGI_T1_l5 = Tier1_l5_sn.qualityMosaic('NDGI') # Normalized difference glacier index\n",
    "QM_NDSI_T1_l5 = Tier1_l5_sn.qualityMosaic('NDSI') # Normalized difference snow index"
   ]
  },
  {
   "cell_type": "code",
   "execution_count": 100,
   "id": "c3ce326a",
   "metadata": {
    "ExecuteTime": {
     "end_time": "2022-01-20T13:07:26.846533Z",
     "start_time": "2022-01-20T13:07:26.844826Z"
    }
   },
   "outputs": [],
   "source": [
    "T_median = Tier1_l5_sn.median()"
   ]
  },
  {
   "cell_type": "code",
   "execution_count": 101,
   "id": "1f50e82b",
   "metadata": {
    "ExecuteTime": {
     "end_time": "2022-01-20T13:07:29.607720Z",
     "start_time": "2022-01-20T13:07:26.847562Z"
    }
   },
   "outputs": [
    {
     "data": {
      "application/vnd.jupyter.widget-view+json": {
       "model_id": "da49e8f68a1340adbc44b9f5eb9dc01f",
       "version_major": 2,
       "version_minor": 0
      },
      "text/plain": [
       "Map(center=[-45, -70], controls=(WidgetControl(options=['position', 'transparent_bg'], widget=HBox(children=(T…"
      ]
     },
     "metadata": {},
     "output_type": "display_data"
    }
   ],
   "source": [
    "Map2.addLayer(QM_NDVI_T1_l5, vizParams, 'QM de NDVI T1 L5')\n",
    "Map2.addLayer(QM_NDWI_T1_l5, vizParams, 'QM de NDWI T1 L5')\n",
    "Map2.addLayer(T_median, vizParams, 'mediana')\n",
    "Map2 "
   ]
  },
  {
   "cell_type": "code",
   "execution_count": 102,
   "id": "1ecf6c6c",
   "metadata": {
    "ExecuteTime": {
     "end_time": "2022-01-20T13:07:29.611236Z",
     "start_time": "2022-01-20T13:07:29.608727Z"
    }
   },
   "outputs": [],
   "source": [
    "Tier1_sn = l7_summer.map(Cloud10)"
   ]
  },
  {
   "cell_type": "code",
   "execution_count": 103,
   "id": "9296c453",
   "metadata": {
    "ExecuteTime": {
     "end_time": "2022-01-20T13:07:29.614231Z",
     "start_time": "2022-01-20T13:07:29.612065Z"
    }
   },
   "outputs": [],
   "source": [
    "QM_NDVI_T1 = Tier1_sn.qualityMosaic('NDVI')# Normalized difference vegetation Index\n",
    "QM_NDWI_T1 = Tier1_sn.qualityMosaic('NDWI') # Normalize difference water index\n",
    "QM_SAVI_T1 = Tier1_sn.qualityMosaic('SAVI') # Soil Adjusted Vegetation Index \n",
    "QM_NDGI_T1 = Tier1_sn.qualityMosaic('NDGI') # Normalized difference glacier index\n",
    "QM_NDSI_T1 = Tier1_sn.qualityMosaic('NDSI') # Normalized difference snow index"
   ]
  },
  {
   "cell_type": "code",
   "execution_count": 104,
   "id": "72a28a5a",
   "metadata": {
    "ExecuteTime": {
     "end_time": "2022-01-20T13:07:30.706159Z",
     "start_time": "2022-01-20T13:07:29.615448Z"
    }
   },
   "outputs": [
    {
     "data": {
      "application/vnd.jupyter.widget-view+json": {
       "model_id": "da49e8f68a1340adbc44b9f5eb9dc01f",
       "version_major": 2,
       "version_minor": 0
      },
      "text/plain": [
       "Map(center=[-45, -70], controls=(WidgetControl(options=['position', 'transparent_bg'], widget=HBox(children=(T…"
      ]
     },
     "metadata": {},
     "output_type": "display_data"
    }
   ],
   "source": [
    "Map2.addLayer(QM_NDVI_T1, vizParams, 'QM de NDVI T1')\n",
    "# Map2.addLayer(QM_NDWI_T1, vizParams, 'QM de NDWI T1')\n",
    "# Map2.addLayer(QM_SAVI_T1, vizParams, 'QM de SAVI T1')\n",
    "# Map2.addLayer(QM_NDGI_T1, vis_nieve, 'QM de NDGI T1')\n",
    "# Map2.addLayer(QM_NDSI_T1, vis_nieve, 'QM de NDSI T1')\n",
    "Map2 "
   ]
  },
  {
   "cell_type": "markdown",
   "id": "2884a8b8",
   "metadata": {},
   "source": [
    "### Tier 2"
   ]
  },
  {
   "cell_type": "code",
   "execution_count": 105,
   "id": "5963584f",
   "metadata": {
    "ExecuteTime": {
     "end_time": "2022-01-20T13:07:30.710156Z",
     "start_time": "2022-01-20T13:07:30.707080Z"
    }
   },
   "outputs": [],
   "source": [
    "Tier2_l5_sn = l5_summer.map(Cloud20)"
   ]
  },
  {
   "cell_type": "code",
   "execution_count": 106,
   "id": "78541c2c",
   "metadata": {
    "ExecuteTime": {
     "end_time": "2022-01-20T13:07:30.713155Z",
     "start_time": "2022-01-20T13:07:30.711005Z"
    }
   },
   "outputs": [],
   "source": [
    "QM_NDVI_T2_l5 = Tier2_l5_sn.qualityMosaic('B11')# Normalized difference vegetation Index\n",
    "QM_NDWI_T2_l5 = Tier2_l5_sn.qualityMosaic('NDWI') # Normalize difference water index\n",
    "QM_SAVI_T2_l5 = Tier2_l5_sn.qualityMosaic('SAVI') # Soil Adjusted Vegetation Index \n",
    "QM_NDGI_T2_l5 = Tier2_l5_sn.qualityMosaic('NDGI') # Normalized difference glacier index\n",
    "QM_NDSI_T2_l5 = Tier2_l5_sn.qualityMosaic('NDSI') # Normalized difference snow index"
   ]
  },
  {
   "cell_type": "code",
   "execution_count": 107,
   "id": "cb006b10",
   "metadata": {
    "ExecuteTime": {
     "end_time": "2022-01-20T13:07:30.716160Z",
     "start_time": "2022-01-20T13:07:30.714359Z"
    }
   },
   "outputs": [],
   "source": [
    "T2_median = Tier2_l5_sn.median()"
   ]
  },
  {
   "cell_type": "code",
   "execution_count": 108,
   "id": "3a5f325d",
   "metadata": {
    "ExecuteTime": {
     "end_time": "2022-01-20T13:07:30.719048Z",
     "start_time": "2022-01-20T13:07:30.717151Z"
    }
   },
   "outputs": [],
   "source": [
    "Tier2_sn = l7_summer.map(Cloud20)"
   ]
  },
  {
   "cell_type": "code",
   "execution_count": 109,
   "id": "4707f7e8",
   "metadata": {
    "ExecuteTime": {
     "end_time": "2022-01-20T13:07:30.722090Z",
     "start_time": "2022-01-20T13:07:30.720149Z"
    }
   },
   "outputs": [],
   "source": [
    "QM_NDVI_T2 = Tier2_sn.qualityMosaic('NDVI')# Normalized difference vegetation Index\n",
    "QM_NDWI_T2 = Tier2_sn.qualityMosaic('NDWI') # Normalize difference water index\n",
    "QM_SAVI_T2 = Tier2_sn.qualityMosaic('SAVI') # Soil Adjusted Vegetation Index \n",
    "QM_NDGI_T2 = Tier2_sn.qualityMosaic('NDGI') # Normalized difference glacier index\n",
    "QM_NDSI_T2 = Tier2_sn.qualityMosaic('NDSI') # Normalized difference snow index"
   ]
  },
  {
   "cell_type": "code",
   "execution_count": null,
   "id": "d3f273ca",
   "metadata": {},
   "outputs": [],
   "source": []
  },
  {
   "cell_type": "markdown",
   "id": "c2d4ae42",
   "metadata": {},
   "source": [
    "### Tier 3"
   ]
  },
  {
   "cell_type": "code",
   "execution_count": 110,
   "id": "e42261a9",
   "metadata": {
    "ExecuteTime": {
     "end_time": "2022-01-20T13:07:30.726111Z",
     "start_time": "2022-01-20T13:07:30.723279Z"
    }
   },
   "outputs": [],
   "source": [
    "Tier3_l5_sn = l5_summer.map(Cloud30)"
   ]
  },
  {
   "cell_type": "code",
   "execution_count": 111,
   "id": "8bfe5b09",
   "metadata": {
    "ExecuteTime": {
     "end_time": "2022-01-20T13:07:30.729022Z",
     "start_time": "2022-01-20T13:07:30.727011Z"
    }
   },
   "outputs": [],
   "source": [
    "QM_NDVI_T3_l5 = Tier3_l5_sn.qualityMosaic('B11')# Normalized difference vegetation Index\n",
    "QM_NDWI_T3_l5 = Tier3_l5_sn.qualityMosaic('NDWI') # Normalize difference water index\n",
    "QM_SAVI_T3_l5 = Tier3_l5_sn.qualityMosaic('SAVI') # Soil Adjusted Vegetation Index \n",
    "QM_NDGI_T3_l5 = Tier3_l5_sn.qualityMosaic('NDGI') # Normalized difference glacier index\n",
    "QM_NDSI_T3_l5 = Tier3_l5_sn.qualityMosaic('NDSI') # Normalized difference snow index"
   ]
  },
  {
   "cell_type": "code",
   "execution_count": 112,
   "id": "4c2c696d",
   "metadata": {
    "ExecuteTime": {
     "end_time": "2022-01-20T13:07:30.731811Z",
     "start_time": "2022-01-20T13:07:30.730189Z"
    }
   },
   "outputs": [],
   "source": [
    "T3_median = Tier3_l5_sn.median()"
   ]
  },
  {
   "cell_type": "code",
   "execution_count": 113,
   "id": "3ab15dfb",
   "metadata": {
    "ExecuteTime": {
     "end_time": "2022-01-20T13:07:30.735811Z",
     "start_time": "2022-01-20T13:07:30.732973Z"
    }
   },
   "outputs": [],
   "source": [
    "Tier3_sn = l7_summer.map(Cloud30)"
   ]
  },
  {
   "cell_type": "code",
   "execution_count": 114,
   "id": "cd65ca0f",
   "metadata": {
    "ExecuteTime": {
     "end_time": "2022-01-20T13:07:30.738690Z",
     "start_time": "2022-01-20T13:07:30.736669Z"
    }
   },
   "outputs": [],
   "source": [
    "QM_NDVI_T3 = Tier3_sn.qualityMosaic('NDVI')# Normalized difference vegetation Index\n",
    "QM_NDWI_T3 = Tier3_sn.qualityMosaic('NDWI') # Normalize difference water index\n",
    "QM_SAVI_T3 = Tier3_sn.qualityMosaic('SAVI') # Soil Adjusted Vegetation Index \n",
    "QM_NDGI_T3 = Tier3_sn.qualityMosaic('NDGI') # Normalized difference glacier index\n",
    "QM_NDSI_T3 = Tier3_sn.qualityMosaic('NDSI') # Normalized difference snow index"
   ]
  },
  {
   "cell_type": "code",
   "execution_count": null,
   "id": "83210bf4",
   "metadata": {},
   "outputs": [],
   "source": []
  },
  {
   "cell_type": "markdown",
   "id": "5e4e9dd1",
   "metadata": {},
   "source": [
    "### Tier 4"
   ]
  },
  {
   "cell_type": "code",
   "execution_count": 115,
   "id": "d578116f",
   "metadata": {
    "ExecuteTime": {
     "end_time": "2022-01-20T13:07:30.741692Z",
     "start_time": "2022-01-20T13:07:30.739862Z"
    }
   },
   "outputs": [],
   "source": [
    "Tier4_l5_sn = l5_summer.map(Cloud40)"
   ]
  },
  {
   "cell_type": "code",
   "execution_count": 116,
   "id": "b78ca89a",
   "metadata": {
    "ExecuteTime": {
     "end_time": "2022-01-20T13:07:30.745198Z",
     "start_time": "2022-01-20T13:07:30.742789Z"
    }
   },
   "outputs": [],
   "source": [
    "QM_NDVI_T4_l5 = Tier4_l5_sn.qualityMosaic('B11')# Normalized difference vegetation Index\n",
    "QM_NDWI_T4_l5 = Tier4_l5_sn.qualityMosaic('NDWI') # Normalize difference water index\n",
    "QM_SAVI_T4_l5 = Tier4_l5_sn.qualityMosaic('SAVI') # Soil Adjusted Vegetation Index \n",
    "QM_NDGI_T4_l5 = Tier4_l5_sn.qualityMosaic('NDGI') # Normalized difference glacier index\n",
    "QM_NDSI_T4_l5 = Tier4_l5_sn.qualityMosaic('NDSI') # Normalized difference snow index"
   ]
  },
  {
   "cell_type": "code",
   "execution_count": 117,
   "id": "57561a8f",
   "metadata": {
    "ExecuteTime": {
     "end_time": "2022-01-20T13:07:30.747840Z",
     "start_time": "2022-01-20T13:07:30.746127Z"
    }
   },
   "outputs": [],
   "source": [
    "T4_median = Tier4_l5_sn.median()"
   ]
  },
  {
   "cell_type": "code",
   "execution_count": 118,
   "id": "a1aff937",
   "metadata": {
    "ExecuteTime": {
     "end_time": "2022-01-20T13:07:30.750877Z",
     "start_time": "2022-01-20T13:07:30.748909Z"
    }
   },
   "outputs": [],
   "source": [
    "Tier4_sn = l7_summer.map(Cloud40)"
   ]
  },
  {
   "cell_type": "code",
   "execution_count": 119,
   "id": "4ffe9a5a",
   "metadata": {
    "ExecuteTime": {
     "end_time": "2022-01-20T13:07:30.754901Z",
     "start_time": "2022-01-20T13:07:30.752049Z"
    }
   },
   "outputs": [],
   "source": [
    "QM_NDVI_T4 = Tier4_sn.qualityMosaic('NDVI')# Normalized difference vegetation Index\n",
    "QM_NDWI_T4 = Tier4_sn.qualityMosaic('NDWI') # Normalize difference water index\n",
    "QM_SAVI_T4 = Tier4_sn.qualityMosaic('SAVI') # Soil Adjusted Vegetation Index \n",
    "QM_NDGI_T4 = Tier4_sn.qualityMosaic('NDGI') # Normalized difference glacier index\n",
    "QM_NDSI_T4 = Tier4_sn.qualityMosaic('NDSI') # Normalized difference snow index"
   ]
  },
  {
   "cell_type": "code",
   "execution_count": 120,
   "id": "67529e0d",
   "metadata": {
    "ExecuteTime": {
     "end_time": "2022-01-20T13:07:30.757413Z",
     "start_time": "2022-01-20T13:07:30.755918Z"
    }
   },
   "outputs": [],
   "source": [
    "T4_median_l7 = Tier4_sn.median()"
   ]
  },
  {
   "cell_type": "code",
   "execution_count": 121,
   "id": "52b6c09f",
   "metadata": {
    "ExecuteTime": {
     "end_time": "2022-01-20T13:07:32.858032Z",
     "start_time": "2022-01-20T13:07:30.758470Z"
    }
   },
   "outputs": [
    {
     "data": {
      "application/vnd.jupyter.widget-view+json": {
       "model_id": "da49e8f68a1340adbc44b9f5eb9dc01f",
       "version_major": 2,
       "version_minor": 0
      },
      "text/plain": [
       "Map(center=[-45, -70], controls=(WidgetControl(options=['position', 'transparent_bg'], widget=HBox(children=(T…"
      ]
     },
     "metadata": {},
     "output_type": "display_data"
    }
   ],
   "source": [
    "Map2.addLayer(T4_median, vizParams, 'mediana4')\n",
    "Map2.addLayer(T4_median_l7, vizParams, 'mediana4 l7')\n",
    "Map2"
   ]
  },
  {
   "cell_type": "markdown",
   "id": "a950e2c5",
   "metadata": {},
   "source": [
    "## Img base"
   ]
  },
  {
   "cell_type": "code",
   "execution_count": 122,
   "id": "d8f89941",
   "metadata": {
    "ExecuteTime": {
     "end_time": "2022-01-20T13:07:32.861366Z",
     "start_time": "2022-01-20T13:07:32.858991Z"
    }
   },
   "outputs": [],
   "source": [
    "start_date = '2008-10-01'\n",
    "end_date = '2009-03-31'\n",
    "imgbase = ee.ImageCollection('LANDSAT/LE07/C01/T1_TOA') \\\n",
    "    .filterBounds(base) \\\n",
    "    .filterDate(start_date, end_date) \\\n",
    "    .sort('CLOUD_COVER') \\\n",
    "    .first() \n"
   ]
  },
  {
   "cell_type": "code",
   "execution_count": 123,
   "id": "5377d40d",
   "metadata": {
    "ExecuteTime": {
     "end_time": "2022-01-20T13:07:32.864178Z",
     "start_time": "2022-01-20T13:07:32.862257Z"
    }
   },
   "outputs": [],
   "source": [
    "# imgbase.get('LANDSAT_PRODUCT_ID').getInfo()"
   ]
  },
  {
   "cell_type": "code",
   "execution_count": 124,
   "id": "8b238026",
   "metadata": {
    "ExecuteTime": {
     "end_time": "2022-01-20T13:07:32.866855Z",
     "start_time": "2022-01-20T13:07:32.865272Z"
    }
   },
   "outputs": [],
   "source": [
    "# imgbase = ee.Image('LANDSAT/LE07/C01/T1_TOA/LE07_230092_20081213')"
   ]
  },
  {
   "cell_type": "code",
   "execution_count": 125,
   "id": "800ae60f",
   "metadata": {
    "ExecuteTime": {
     "end_time": "2022-01-20T13:07:32.869401Z",
     "start_time": "2022-01-20T13:07:32.867772Z"
    }
   },
   "outputs": [],
   "source": [
    "# Map.addLayer(colec_base, vizParams,'1')\n",
    "# Map"
   ]
  },
  {
   "cell_type": "code",
   "execution_count": 126,
   "id": "8340f2f4",
   "metadata": {
    "ExecuteTime": {
     "end_time": "2022-01-20T13:07:32.872460Z",
     "start_time": "2022-01-20T13:07:32.870341Z"
    }
   },
   "outputs": [],
   "source": [
    "start_date = '2008-10-01'\n",
    "end_date = '2009-03-31'\n",
    "imgbase2 = ee.ImageCollection('LANDSAT/LE07/C01/T1_TOA') \\\n",
    "    .filter(ee.Filter.eq('WRS_PATH', 230)) \\\n",
    "    .filter(ee.Filter.eq('WRS_ROW', 91)) \\\n",
    "    .filterDate(start_date, end_date) "
   ]
  },
  {
   "cell_type": "code",
   "execution_count": 127,
   "id": "bb9c7677",
   "metadata": {
    "ExecuteTime": {
     "end_time": "2022-01-20T13:07:32.876082Z",
     "start_time": "2022-01-20T13:07:32.873552Z"
    }
   },
   "outputs": [],
   "source": [
    "imgbase2 = find_closest(imgbase, imgbase2,14).sort('CLOUD_COVER').first()\n",
    "imgbase2 = ee.Image(imgbase2)"
   ]
  },
  {
   "cell_type": "code",
   "execution_count": 128,
   "id": "b46862d1",
   "metadata": {
    "ExecuteTime": {
     "end_time": "2022-01-20T13:07:32.878429Z",
     "start_time": "2022-01-20T13:07:32.876872Z"
    }
   },
   "outputs": [],
   "source": [
    "# Map1.addLayer(imgbase2, vizParams, 'img base2')\n",
    "# Map1"
   ]
  },
  {
   "cell_type": "code",
   "execution_count": 129,
   "id": "857c24c0",
   "metadata": {
    "ExecuteTime": {
     "end_time": "2022-01-20T13:07:32.881492Z",
     "start_time": "2022-01-20T13:07:32.879350Z"
    }
   },
   "outputs": [],
   "source": [
    "start_date = '2008-10-01'\n",
    "end_date = '2009-03-31'\n",
    "imgbase3 = ee.ImageCollection('LANDSAT/LC08/C01/T1_TOA') \\\n",
    "    .filter(ee.Filter.eq('WRS_PATH', 229)) \\\n",
    "    .filter(ee.Filter.eq('WRS_ROW', 91)) \\\n",
    "    .filterDate(start_date, end_date) "
   ]
  },
  {
   "cell_type": "code",
   "execution_count": 130,
   "id": "bb2d610e",
   "metadata": {
    "ExecuteTime": {
     "end_time": "2022-01-20T13:07:32.884622Z",
     "start_time": "2022-01-20T13:07:32.882567Z"
    }
   },
   "outputs": [],
   "source": [
    "imgbase3 = find_closest(imgbase2, imgbase3,21).sort('CLOUD_COVER').first()\n",
    "imgbase3 = ee.Image(imgbase3)"
   ]
  },
  {
   "cell_type": "code",
   "execution_count": 131,
   "id": "37eb1d2c",
   "metadata": {
    "ExecuteTime": {
     "end_time": "2022-01-20T13:07:32.887844Z",
     "start_time": "2022-01-20T13:07:32.885648Z"
    }
   },
   "outputs": [],
   "source": [
    "start_date = '2008-10-01'\n",
    "end_date = '2009-03-31'\n",
    "imgbase4 = ee.ImageCollection('LANDSAT/LC08/C01/T1_TOA') \\\n",
    "    .filter(ee.Filter.eq('WRS_PATH', 228)) \\\n",
    "    .filter(ee.Filter.eq('WRS_ROW', 91)) \\\n",
    "    .filterDate(start_date, end_date) "
   ]
  },
  {
   "cell_type": "code",
   "execution_count": 132,
   "id": "a8ddb22d",
   "metadata": {
    "ExecuteTime": {
     "end_time": "2022-01-20T13:07:32.891062Z",
     "start_time": "2022-01-20T13:07:32.888795Z"
    }
   },
   "outputs": [],
   "source": [
    "imgbase4 = find_closest(imgbase3, imgbase4,14).sort('CLOUD_COVER').first()\n",
    "imgbase4 = ee.Image(imgbase4)"
   ]
  },
  {
   "cell_type": "code",
   "execution_count": 133,
   "id": "e3fa66be",
   "metadata": {
    "ExecuteTime": {
     "end_time": "2022-01-20T13:07:32.894167Z",
     "start_time": "2022-01-20T13:07:32.892097Z"
    }
   },
   "outputs": [],
   "source": [
    "start_date = '2008-10-01'\n",
    "end_date = '2009-03-31'\n",
    "imgbase5 = ee.ImageCollection('LANDSAT/LC08/C01/T1_TOA') \\\n",
    "    .filter(ee.Filter.eq('WRS_PATH', 232)) \\\n",
    "    .filter(ee.Filter.eq('WRS_ROW', 91)) \\\n",
    "    .filterDate(start_date, end_date) "
   ]
  },
  {
   "cell_type": "code",
   "execution_count": 134,
   "id": "b935e51f",
   "metadata": {
    "ExecuteTime": {
     "end_time": "2022-01-20T13:07:32.897143Z",
     "start_time": "2022-01-20T13:07:32.895294Z"
    }
   },
   "outputs": [],
   "source": [
    "imgbase5 = find_closest(imgbase, imgbase5,28).sort('CLOUD_COVER').first()\n",
    "imgbase5 = ee.Image(imgbase5)"
   ]
  },
  {
   "cell_type": "code",
   "execution_count": 135,
   "id": "5f2ef39d",
   "metadata": {
    "ExecuteTime": {
     "end_time": "2022-01-20T13:07:32.900756Z",
     "start_time": "2022-01-20T13:07:32.898243Z"
    }
   },
   "outputs": [],
   "source": [
    "start_date = '2008-10-01'\n",
    "end_date = '2009-03-31'\n",
    "imgbase6 = ee.ImageCollection('LANDSAT/LC08/C01/T1_TOA') \\\n",
    "    .filter(ee.Filter.eq('WRS_PATH', 233)) \\\n",
    "    .filter(ee.Filter.eq('WRS_ROW', 91)) \\\n",
    "    .filterDate(start_date, end_date) "
   ]
  },
  {
   "cell_type": "code",
   "execution_count": 136,
   "id": "75597f73",
   "metadata": {
    "ExecuteTime": {
     "end_time": "2022-01-20T13:07:32.903524Z",
     "start_time": "2022-01-20T13:07:32.901584Z"
    }
   },
   "outputs": [],
   "source": [
    "imgbase6 = find_closest(imgbase5, imgbase6,360).sort('CLOUD_COVER').first()\n",
    "imgbase6 = ee.Image(imgbase6)"
   ]
  },
  {
   "cell_type": "code",
   "execution_count": 137,
   "id": "5c32385b",
   "metadata": {
    "ExecuteTime": {
     "end_time": "2022-01-20T13:07:32.906318Z",
     "start_time": "2022-01-20T13:07:32.904493Z"
    }
   },
   "outputs": [],
   "source": [
    "colec_base = ee.ImageCollection([imgbase,imgbase2,imgbase3,imgbase4,imgbase5,imgbase6]).mosaic()"
   ]
  },
  {
   "cell_type": "code",
   "execution_count": 138,
   "id": "436a77fb",
   "metadata": {
    "ExecuteTime": {
     "end_time": "2022-01-20T13:07:32.909016Z",
     "start_time": "2022-01-20T13:07:32.907472Z"
    }
   },
   "outputs": [],
   "source": [
    "\n",
    "# Map1.addLayer(imgbase, vizParams, 'img base')\n",
    "# Map1.addLayer(imgbase2, vizParams, 'img base2')\n",
    "# Map1.addLayer(imgbase3, vizParams, 'img base3')\n",
    "# Map1.addLayer(imgbase4, vizParams, 'img base4')\n",
    "# Map1.addLayer(imgbase5, vizParams, 'img base5')\n",
    "# Map1.addLayer(imgbase6, vizParams, 'img base6')\n",
    "# # Map1.addLayer(colec_base, vizParams, 'coleccion')\n",
    "# # Map1.addLayer(colec_base_r, vizParams, 'coleccion r')\n",
    "# Map1"
   ]
  },
  {
   "cell_type": "markdown",
   "id": "dd7d911d",
   "metadata": {},
   "source": [
    "## Indices por colección"
   ]
  },
  {
   "cell_type": "markdown",
   "id": "4ea0a4cd",
   "metadata": {},
   "source": [
    "### Índices 2008"
   ]
  },
  {
   "cell_type": "code",
   "execution_count": 139,
   "id": "426dfca0",
   "metadata": {
    "ExecuteTime": {
     "end_time": "2022-01-20T13:07:32.912283Z",
     "start_time": "2022-01-20T13:07:32.910064Z"
    }
   },
   "outputs": [],
   "source": [
    "NDVI_2008 = NDVI_2008_sn.select('B11')\n",
    "NDWI_2008 = NDWI_2008_sn.select('NDWI') \n",
    "SAVI_2008 = SAVI_2008_sn.select('SAVI')\n",
    "NDGI_2008 = NDGI_2008_sn.select('NDGI')\n",
    "NDSI_2008 = NDSI_2008_sn.select('NDSI')"
   ]
  },
  {
   "cell_type": "code",
   "execution_count": 140,
   "id": "eaf84698",
   "metadata": {
    "ExecuteTime": {
     "end_time": "2022-01-20T13:07:32.915287Z",
     "start_time": "2022-01-20T13:07:32.913429Z"
    }
   },
   "outputs": [],
   "source": [
    "# Map7.addLayer(NDVI_2008, {'palette': color_terrain}, 'QMsn de NDVI 2008')\n",
    "# Map7.addLayer(NDWI_2008, {'palette': color_ndwi}, 'QMsn de NDWI 2008')\n",
    "# Map7.addLayer(SAVI_2008, {'palette': color_ndvi}, 'QMsn de SAVI 2008')\n",
    "# # Map7.addLayer(NDGI_2008, {'palette': color_glaciar}, 'QMsn de NDGI 2008')\n",
    "# # Map7.addLayer(NDSI_2008, {'palette': color_ndwi}, 'QMsn de NDSI 2008')\n",
    "# Map7"
   ]
  },
  {
   "cell_type": "markdown",
   "id": "1e0309e1",
   "metadata": {},
   "source": [
    "### Índices 2007"
   ]
  },
  {
   "cell_type": "code",
   "execution_count": 141,
   "id": "cc1253c0",
   "metadata": {
    "ExecuteTime": {
     "end_time": "2022-01-20T13:07:32.918201Z",
     "start_time": "2022-01-20T13:07:32.916252Z"
    }
   },
   "outputs": [],
   "source": [
    "NDVI_2007 = NDVI_2007_sn.select('B11')\n",
    "NDWI_2007 = NDWI_2007_sn.select('NDWI') \n",
    "SAVI_2007 = SAVI_2007_sn.select('SAVI')\n",
    "NDGI_2007 = NDGI_2007_sn.select('NDGI')\n",
    "NDSI_2007 = NDSI_2007_sn.select('NDSI')"
   ]
  },
  {
   "cell_type": "code",
   "execution_count": 142,
   "id": "3e0524d7",
   "metadata": {
    "ExecuteTime": {
     "end_time": "2022-01-20T13:07:32.920816Z",
     "start_time": "2022-01-20T13:07:32.919300Z"
    }
   },
   "outputs": [],
   "source": [
    "# Map7.addLayer(NDVI_2007, {'palette': color_terrain}, 'QMsn de NDVI 2007')\n",
    "# Map7.addLayer(NDWI_2007, {'palette': color_ndwi}, 'QMsn de NDWI 2007')\n",
    "# Map7.addLayer(SAVI_2007, {'palette': color_ndvi}, 'QMsn de SAVI 2007')\n",
    "# # Map7.addLayer(NDGI_2007, {'palette': color_glaciar}, 'QMsn de NDGI 2007')\n",
    "# # Map7.addLayer(NDSI_2007, {'palette': color_ndwi}, 'QMsn de NDSI 2007')\n",
    "# Map7"
   ]
  },
  {
   "cell_type": "markdown",
   "id": "4aee56c9",
   "metadata": {},
   "source": [
    "### Índices 2006"
   ]
  },
  {
   "cell_type": "code",
   "execution_count": 143,
   "id": "4a0a2445",
   "metadata": {
    "ExecuteTime": {
     "end_time": "2022-01-20T13:07:32.923965Z",
     "start_time": "2022-01-20T13:07:32.921998Z"
    }
   },
   "outputs": [],
   "source": [
    "NDVI_2006 = NDVI_2006_sn.select('B11')\n",
    "NDWI_2006 = NDWI_2006_sn.select('NDWI') \n",
    "SAVI_2006 = SAVI_2006_sn.select('SAVI')\n",
    "NDGI_2006 = NDGI_2006_sn.select('NDGI')\n",
    "NDSI_2006 = NDSI_2006_sn.select('NDSI')"
   ]
  },
  {
   "cell_type": "code",
   "execution_count": 144,
   "id": "144629ba",
   "metadata": {
    "ExecuteTime": {
     "end_time": "2022-01-20T13:07:32.926614Z",
     "start_time": "2022-01-20T13:07:32.925108Z"
    }
   },
   "outputs": [],
   "source": [
    "# Map8.addLayer(NDVI_2006, {'palette': color_terrain}, 'QMsn de NDVI 2006')\n",
    "# Map8.addLayer(NDWI_2006, {'palette': color_ndwi}, 'QMsn de NDWI 2006')\n",
    "# Map8.addLayer(SAVI_2006, {'palette': color_ndvi}, 'QMsn de SAVI 2006')\n",
    "# # Map8.addLayer(NDGI_2006, {'palette': color_glaciar}, 'QMsn de NDGI 2006')\n",
    "# # Map8.addLayer(NDSI_2006, {'palette': color_ndwi}, 'QMsn de NDSI 2006')\n",
    "# Map8"
   ]
  },
  {
   "cell_type": "markdown",
   "id": "6d3d753e",
   "metadata": {},
   "source": [
    "### Índices 2005 "
   ]
  },
  {
   "cell_type": "code",
   "execution_count": 145,
   "id": "149bf201",
   "metadata": {
    "ExecuteTime": {
     "end_time": "2022-01-20T13:07:32.930637Z",
     "start_time": "2022-01-20T13:07:32.927826Z"
    }
   },
   "outputs": [],
   "source": [
    "NDVI_2005 = NDVI_2005_sn.select('B11')\n",
    "NDWI_2005 = NDWI_2005_sn.select('NDWI') \n",
    "SAVI_2005 = SAVI_2005_sn.select('SAVI')\n",
    "NDGI_2005 = NDGI_2005_sn.select('NDGI')\n",
    "NDSI_2005 = NDSI_2005_sn.select('NDSI')"
   ]
  },
  {
   "cell_type": "code",
   "execution_count": 146,
   "id": "bf8b2aad",
   "metadata": {
    "ExecuteTime": {
     "end_time": "2022-01-20T13:07:32.933146Z",
     "start_time": "2022-01-20T13:07:32.931500Z"
    }
   },
   "outputs": [],
   "source": [
    "# Map8.addLayer(NDVI_2005, {'palette': color_terrain}, 'QMsn de NDVI 2005')\n",
    "# Map8.addLayer(NDWI_2005, {'palette': color_ndwi}, 'QMsn de NDWI 2005')\n",
    "# Map8.addLayer(SAVI_2005, {'palette': color_ndvi}, 'QMsn de SAVI 2005')\n",
    "# # Map8.addLayer(NDGI_2005, {'palette': color_glaciar}, 'QMsn de NDGI 2005')\n",
    "# # Map8.addLayer(NDSI_2005, {'palette': color_ndwi}, 'QMsn de NDSI 2005')\n",
    "# Map8"
   ]
  },
  {
   "cell_type": "markdown",
   "id": "e765cd19",
   "metadata": {},
   "source": [
    "### Índices 2008 L7"
   ]
  },
  {
   "cell_type": "code",
   "execution_count": 147,
   "id": "b4275190",
   "metadata": {
    "ExecuteTime": {
     "end_time": "2022-01-20T13:07:32.936131Z",
     "start_time": "2022-01-20T13:07:32.934080Z"
    }
   },
   "outputs": [],
   "source": [
    "NDVI_2008_l7 = NDVI_2008_l7_sn.select('NDVI')\n",
    "NDWI_2008_l7 = NDWI_2008_l7_sn.select('NDWI')\n",
    "SAVI_2008_l7 = SAVI_2008_l7_sn.select('SAVI')\n",
    "NDGI_2008_l7 = NDGI_2008_l7_sn.select('NDGI')\n",
    "NDSI_2008_l7 = NDSI_2008_l7_sn.select('NDSI')"
   ]
  },
  {
   "cell_type": "code",
   "execution_count": 148,
   "id": "977e42e9",
   "metadata": {
    "ExecuteTime": {
     "end_time": "2022-01-20T13:07:32.938634Z",
     "start_time": "2022-01-20T13:07:32.937156Z"
    }
   },
   "outputs": [],
   "source": [
    "# Map8.addLayer(NDVI_2008_l7, {'palette': color_terrain}, 'QMsn de NDVI 2008_l7')\n",
    "# Map8.addLayer(NDWI_2008_l7, {'palette': color_ndwi}, 'QMsn de NDWI 2008_l7')\n",
    "# Map8.addLayer(SAVI_2008_l7, {'palette': color_ndvi}, 'QMsn de SAVI 2008_l7')\n",
    "# # Map8.addLayer(NDGI_2008_l7, {'palette': color_glaciar}, 'QMsn de NDGI 2008_l7')\n",
    "# # Map8.addLayer(NDSI_2008_l7, {'palette': color_ndwi}, 'QMsn de NDSI 2008_l7')\n",
    "# Map8"
   ]
  },
  {
   "cell_type": "code",
   "execution_count": null,
   "id": "215936ce",
   "metadata": {},
   "outputs": [],
   "source": []
  },
  {
   "cell_type": "markdown",
   "id": "dd05e9e8",
   "metadata": {},
   "source": [
    "## Generación de Mosaico L7"
   ]
  },
  {
   "cell_type": "code",
   "execution_count": 149,
   "id": "ddfd5f61",
   "metadata": {
    "ExecuteTime": {
     "end_time": "2022-01-20T13:07:32.941632Z",
     "start_time": "2022-01-20T13:07:32.939843Z"
    }
   },
   "outputs": [],
   "source": [
    "# mosaic = ee.ImageCollection([QM_NDGI_2009_l7,NDVI_2008_l7_sn]).mosaic()"
   ]
  },
  {
   "cell_type": "code",
   "execution_count": 150,
   "id": "c852427b",
   "metadata": {
    "ExecuteTime": {
     "end_time": "2022-01-20T13:07:32.944635Z",
     "start_time": "2022-01-20T13:07:32.942571Z"
    }
   },
   "outputs": [],
   "source": [
    "NDVI_landsat_7 = QM_NDVI_2008_l7.set('SENSOR_ID', 'ETM+')"
   ]
  },
  {
   "cell_type": "code",
   "execution_count": 151,
   "id": "e97dfca9",
   "metadata": {
    "ExecuteTime": {
     "end_time": "2022-01-20T13:07:32.947364Z",
     "start_time": "2022-01-20T13:07:32.945537Z"
    }
   },
   "outputs": [],
   "source": [
    "cloud_ = ee.Algorithms.Landsat.simpleCloudScore(NDVI_landsat_7)"
   ]
  },
  {
   "cell_type": "code",
   "execution_count": 152,
   "id": "e4cbfef0",
   "metadata": {
    "ExecuteTime": {
     "end_time": "2022-01-20T13:07:32.950368Z",
     "start_time": "2022-01-20T13:07:32.948490Z"
    }
   },
   "outputs": [],
   "source": [
    "cloud_ = cloud_.select('cloud')"
   ]
  },
  {
   "cell_type": "code",
   "execution_count": 153,
   "id": "21774c4c",
   "metadata": {
    "ExecuteTime": {
     "end_time": "2022-01-20T13:07:32.953062Z",
     "start_time": "2022-01-20T13:07:32.951317Z"
    }
   },
   "outputs": [],
   "source": [
    "palette_nubes = ['#1a9850', '#66bd63', '#a6d96a', '#d9ef8b', '#fee08b', '#fdae61', '#f46d43', '#d73027']"
   ]
  },
  {
   "cell_type": "code",
   "execution_count": 154,
   "id": "01f59e64",
   "metadata": {
    "ExecuteTime": {
     "end_time": "2022-01-20T13:07:32.956072Z",
     "start_time": "2022-01-20T13:07:32.954076Z"
    }
   },
   "outputs": [],
   "source": [
    "resultados= [cloud_,NDVI_landsat_7]\n",
    "vis_params2=  [\n",
    "    {'palette':palette_nubes}, \n",
    "    vizParams]\n",
    "labels = [\n",
    "    'Nubes',\n",
    "    'QM NDVI']"
   ]
  },
  {
   "cell_type": "code",
   "execution_count": 155,
   "id": "2f4324dc",
   "metadata": {
    "ExecuteTime": {
     "end_time": "2022-01-20T13:07:35.412682Z",
     "start_time": "2022-01-20T13:07:32.957042Z"
    }
   },
   "outputs": [
    {
     "data": {
      "application/vnd.jupyter.widget-view+json": {
       "model_id": "0d0b85ee36fc415698515fcc6e01bb65",
       "version_major": 2,
       "version_minor": 0
      },
      "text/plain": [
       "GridspecLayout(children=(Output(layout=Layout(grid_area='widget001')), Output(layout=Layout(grid_area='widget0…"
      ]
     },
     "metadata": {},
     "output_type": "display_data"
    }
   ],
   "source": [
    "geemap.linked_maps(rows=1, cols=2, height=\"400px\", center=[-45, -75], zoom=4, \n",
    "                   ee_objects=resultados, vis_params=vis_params2, labels=labels, label_position=\"topright\")"
   ]
  },
  {
   "cell_type": "code",
   "execution_count": 156,
   "id": "93ea56bf",
   "metadata": {
    "ExecuteTime": {
     "end_time": "2022-01-20T13:07:35.415684Z",
     "start_time": "2022-01-20T13:07:35.413612Z"
    }
   },
   "outputs": [],
   "source": [
    "def llenado(image):\n",
    "    return image.where(cloud_.gt(10),QM_NDVI_T1)"
   ]
  },
  {
   "cell_type": "code",
   "execution_count": 157,
   "id": "8287934f",
   "metadata": {
    "ExecuteTime": {
     "end_time": "2022-01-20T13:07:35.419690Z",
     "start_time": "2022-01-20T13:07:35.416569Z"
    }
   },
   "outputs": [],
   "source": [
    "img1 = llenado(NDVI_landsat_7)"
   ]
  },
  {
   "cell_type": "code",
   "execution_count": 158,
   "id": "0ea4ebed",
   "metadata": {
    "ExecuteTime": {
     "end_time": "2022-01-20T13:07:35.422580Z",
     "start_time": "2022-01-20T13:07:35.420644Z"
    }
   },
   "outputs": [],
   "source": [
    "img1_landsat = img1.set('SENSOR_ID', 'ETM+')\n",
    "cloud_img1 = ee.Algorithms.Landsat.simpleCloudScore(img1_landsat)\n",
    "cloud_img1 = cloud_img1.select('cloud')"
   ]
  },
  {
   "cell_type": "code",
   "execution_count": 159,
   "id": "84dbb2d4",
   "metadata": {
    "ExecuteTime": {
     "end_time": "2022-01-20T13:07:35.425579Z",
     "start_time": "2022-01-20T13:07:35.423630Z"
    }
   },
   "outputs": [],
   "source": [
    "resultados= [cloud_img1, img1]\n",
    "vis_params2=  [\n",
    "    {'palette':palette_nubes}, \n",
    "    vizParams]\n",
    "labels = [\n",
    "    'Nubes Mosaico 1',\n",
    "    'Mosaico 1']"
   ]
  },
  {
   "cell_type": "code",
   "execution_count": 160,
   "id": "f3c2a996",
   "metadata": {
    "ExecuteTime": {
     "end_time": "2022-01-20T13:07:38.567443Z",
     "start_time": "2022-01-20T13:07:35.426768Z"
    }
   },
   "outputs": [
    {
     "data": {
      "application/vnd.jupyter.widget-view+json": {
       "model_id": "97212427390d4f5ca6e82a706b15f46f",
       "version_major": 2,
       "version_minor": 0
      },
      "text/plain": [
       "GridspecLayout(children=(Output(layout=Layout(grid_area='widget001')), Output(layout=Layout(grid_area='widget0…"
      ]
     },
     "metadata": {},
     "output_type": "display_data"
    }
   ],
   "source": [
    "geemap.linked_maps(rows=1, cols=2, height=\"400px\", center=[-45, -75], zoom=4, \n",
    "                   ee_objects=resultados, vis_params=vis_params2, labels=labels, label_position=\"topright\")"
   ]
  },
  {
   "cell_type": "code",
   "execution_count": 161,
   "id": "9a243ac4",
   "metadata": {
    "ExecuteTime": {
     "end_time": "2022-01-20T13:07:38.570157Z",
     "start_time": "2022-01-20T13:07:38.568375Z"
    }
   },
   "outputs": [],
   "source": [
    "def llenado2(image):\n",
    "    return image.where(cloud_img1.gt(10), QM_NDVI_T2)"
   ]
  },
  {
   "cell_type": "code",
   "execution_count": 162,
   "id": "ada6d94e",
   "metadata": {
    "ExecuteTime": {
     "end_time": "2022-01-20T13:07:38.574041Z",
     "start_time": "2022-01-20T13:07:38.571096Z"
    }
   },
   "outputs": [],
   "source": [
    "img2 = llenado2(img1)"
   ]
  },
  {
   "cell_type": "code",
   "execution_count": 163,
   "id": "e3db0a52",
   "metadata": {
    "ExecuteTime": {
     "end_time": "2022-01-20T13:07:38.576981Z",
     "start_time": "2022-01-20T13:07:38.575089Z"
    }
   },
   "outputs": [],
   "source": [
    "img2_landsat = img2.set('SENSOR_ID', 'ETM+')\n",
    "cloud_img2 = ee.Algorithms.Landsat.simpleCloudScore(img2_landsat)\n",
    "cloud_img2 = cloud_img2.select('cloud')"
   ]
  },
  {
   "cell_type": "code",
   "execution_count": 164,
   "id": "42d22742",
   "metadata": {
    "ExecuteTime": {
     "end_time": "2022-01-20T13:07:38.580153Z",
     "start_time": "2022-01-20T13:07:38.578180Z"
    }
   },
   "outputs": [],
   "source": [
    "resultados= [cloud_img2, img2]\n",
    "vis_params2=  [\n",
    "    {'palette':palette_nubes}, \n",
    "    vizParams]\n",
    "labels = [\n",
    "    'Nubes Mosaico 2',\n",
    "    'Mosaico 2']"
   ]
  },
  {
   "cell_type": "code",
   "execution_count": 165,
   "id": "5bdcab8c",
   "metadata": {
    "ExecuteTime": {
     "end_time": "2022-01-20T13:07:42.119180Z",
     "start_time": "2022-01-20T13:07:38.581196Z"
    }
   },
   "outputs": [
    {
     "data": {
      "application/vnd.jupyter.widget-view+json": {
       "model_id": "51af17cfa24942cfa320179c80af1534",
       "version_major": 2,
       "version_minor": 0
      },
      "text/plain": [
       "GridspecLayout(children=(Output(layout=Layout(grid_area='widget001')), Output(layout=Layout(grid_area='widget0…"
      ]
     },
     "metadata": {},
     "output_type": "display_data"
    }
   ],
   "source": [
    "geemap.linked_maps(rows=1, cols=2, height=\"400px\", center=[-45, -75], zoom=4, \n",
    "                   ee_objects=resultados, vis_params=vis_params2, labels=labels, label_position=\"topright\")"
   ]
  },
  {
   "cell_type": "code",
   "execution_count": 166,
   "id": "ca5f91e2",
   "metadata": {
    "ExecuteTime": {
     "end_time": "2022-01-20T13:07:42.122012Z",
     "start_time": "2022-01-20T13:07:42.120123Z"
    }
   },
   "outputs": [],
   "source": [
    "def llenado3(image):\n",
    "    return image.where(cloud_img2.gt(10), QM_NDVI_T3)"
   ]
  },
  {
   "cell_type": "code",
   "execution_count": 167,
   "id": "f52fddee",
   "metadata": {
    "ExecuteTime": {
     "end_time": "2022-01-20T13:07:42.125015Z",
     "start_time": "2022-01-20T13:07:42.123176Z"
    }
   },
   "outputs": [],
   "source": [
    "img3 = llenado3(img2)"
   ]
  },
  {
   "cell_type": "code",
   "execution_count": 168,
   "id": "6d41d9d0",
   "metadata": {
    "ExecuteTime": {
     "end_time": "2022-01-20T13:07:42.128580Z",
     "start_time": "2022-01-20T13:07:42.126248Z"
    }
   },
   "outputs": [],
   "source": [
    "img3_landsat = img3.set('SENSOR_ID', 'ETM+')\n",
    "cloud_img3 = ee.Algorithms.Landsat.simpleCloudScore(img3_landsat)\n",
    "cloud_img3 = cloud_img3.select('cloud')"
   ]
  },
  {
   "cell_type": "code",
   "execution_count": 169,
   "id": "3a000d62",
   "metadata": {
    "ExecuteTime": {
     "end_time": "2022-01-20T13:07:42.131510Z",
     "start_time": "2022-01-20T13:07:42.129519Z"
    }
   },
   "outputs": [],
   "source": [
    "resultados= [cloud_img3, img3]\n",
    "vis_params2=  [\n",
    "    {'palette':palette_nubes}, \n",
    "    vizParams]\n",
    "labels = [\n",
    "    'Nubes Mosaico 3',\n",
    "    'Mosaico 3']"
   ]
  },
  {
   "cell_type": "code",
   "execution_count": 170,
   "id": "bf275ed6",
   "metadata": {
    "ExecuteTime": {
     "end_time": "2022-01-20T13:07:45.326401Z",
     "start_time": "2022-01-20T13:07:42.132713Z"
    }
   },
   "outputs": [
    {
     "data": {
      "application/vnd.jupyter.widget-view+json": {
       "model_id": "7fa75fad2281410d8d8ecb4ec1609200",
       "version_major": 2,
       "version_minor": 0
      },
      "text/plain": [
       "GridspecLayout(children=(Output(layout=Layout(grid_area='widget001')), Output(layout=Layout(grid_area='widget0…"
      ]
     },
     "metadata": {},
     "output_type": "display_data"
    }
   ],
   "source": [
    "geemap.linked_maps(rows=1, cols=2, height=\"400px\", center=[-45, -75], zoom=4, \n",
    "                   ee_objects=resultados, vis_params=vis_params2, labels=labels, label_position=\"topright\")"
   ]
  },
  {
   "cell_type": "code",
   "execution_count": 171,
   "id": "9d0daae9",
   "metadata": {
    "ExecuteTime": {
     "end_time": "2022-01-20T13:07:45.329111Z",
     "start_time": "2022-01-20T13:07:45.327322Z"
    }
   },
   "outputs": [],
   "source": [
    "def llenado4(image):\n",
    "    return image.where(cloud_img3.gt(10), QM_NDVI_T4)"
   ]
  },
  {
   "cell_type": "code",
   "execution_count": 172,
   "id": "d37f16d5",
   "metadata": {
    "ExecuteTime": {
     "end_time": "2022-01-20T13:07:45.332401Z",
     "start_time": "2022-01-20T13:07:45.329851Z"
    }
   },
   "outputs": [],
   "source": [
    "img4 = llenado4(img3)"
   ]
  },
  {
   "cell_type": "code",
   "execution_count": 173,
   "id": "540d60d8",
   "metadata": {
    "ExecuteTime": {
     "end_time": "2022-01-20T13:07:45.335403Z",
     "start_time": "2022-01-20T13:07:45.333575Z"
    }
   },
   "outputs": [],
   "source": [
    "img4_landsat = img4.set('SENSOR_ID', 'ETM+')\n",
    "cloud_img4 = ee.Algorithms.Landsat.simpleCloudScore(img4_landsat)\n",
    "cloud_img4 = cloud_img4.select('cloud')"
   ]
  },
  {
   "cell_type": "code",
   "execution_count": 174,
   "id": "3f0e9719",
   "metadata": {
    "ExecuteTime": {
     "end_time": "2022-01-20T13:07:45.338414Z",
     "start_time": "2022-01-20T13:07:45.336503Z"
    }
   },
   "outputs": [],
   "source": [
    "resultados= [cloud_img4, img4]\n",
    "vis_params2=  [\n",
    "    {'palette':palette_nubes}, \n",
    "    vizParams]\n",
    "labels = [\n",
    "    'Nubes Mosaico 4',\n",
    "    'Mosaico 4']"
   ]
  },
  {
   "cell_type": "code",
   "execution_count": 175,
   "id": "41d9a7b8",
   "metadata": {
    "ExecuteTime": {
     "end_time": "2022-01-20T13:07:48.908621Z",
     "start_time": "2022-01-20T13:07:45.339449Z"
    }
   },
   "outputs": [
    {
     "data": {
      "application/vnd.jupyter.widget-view+json": {
       "model_id": "16c22f2ef94e49849a88846c391ad7ea",
       "version_major": 2,
       "version_minor": 0
      },
      "text/plain": [
       "GridspecLayout(children=(Output(layout=Layout(grid_area='widget001')), Output(layout=Layout(grid_area='widget0…"
      ]
     },
     "metadata": {},
     "output_type": "display_data"
    }
   ],
   "source": [
    "geemap.linked_maps(rows=1, cols=2, height=\"400px\", center=[-45, -75], zoom=4, \n",
    "                   ee_objects=resultados, vis_params=vis_params2, labels=labels, label_position=\"topright\")"
   ]
  },
  {
   "cell_type": "code",
   "execution_count": 176,
   "id": "eb9d6a80",
   "metadata": {
    "ExecuteTime": {
     "end_time": "2022-01-20T13:07:48.911569Z",
     "start_time": "2022-01-20T13:07:48.909644Z"
    }
   },
   "outputs": [],
   "source": [
    "hansenImage = ee.Image('UMD/hansen/global_forest_change_2015')\n",
    "datamask = hansenImage.select('datamask')"
   ]
  },
  {
   "cell_type": "code",
   "execution_count": 177,
   "id": "dc42098d",
   "metadata": {
    "ExecuteTime": {
     "end_time": "2022-01-20T13:07:48.915081Z",
     "start_time": "2022-01-20T13:07:48.912672Z"
    }
   },
   "outputs": [],
   "source": [
    "def llenado5(image):\n",
    "    return image.where(datamask.eq(2), QM_NDWI_T1)"
   ]
  },
  {
   "cell_type": "code",
   "execution_count": 178,
   "id": "d494173a",
   "metadata": {
    "ExecuteTime": {
     "end_time": "2022-01-20T13:07:48.918316Z",
     "start_time": "2022-01-20T13:07:48.916533Z"
    }
   },
   "outputs": [],
   "source": [
    "img5 = llenado5(img4)"
   ]
  },
  {
   "cell_type": "code",
   "execution_count": 179,
   "id": "45546a04",
   "metadata": {
    "ExecuteTime": {
     "end_time": "2022-01-20T13:07:48.921621Z",
     "start_time": "2022-01-20T13:07:48.919705Z"
    }
   },
   "outputs": [],
   "source": [
    "resultados= [img4, img5]\n",
    "labels = [\n",
    "    'Mosaico 4',\n",
    "    'Mosaico 5']\n",
    "vis_params3=  [\n",
    "     vizParams, \n",
    "    vizParams]"
   ]
  },
  {
   "cell_type": "code",
   "execution_count": 180,
   "id": "e59d0286",
   "metadata": {
    "ExecuteTime": {
     "end_time": "2022-01-20T13:07:52.568325Z",
     "start_time": "2022-01-20T13:07:48.923139Z"
    }
   },
   "outputs": [
    {
     "data": {
      "application/vnd.jupyter.widget-view+json": {
       "model_id": "f1f80290b2f84d49b5580f509e0a9a09",
       "version_major": 2,
       "version_minor": 0
      },
      "text/plain": [
       "GridspecLayout(children=(Output(layout=Layout(grid_area='widget001')), Output(layout=Layout(grid_area='widget0…"
      ]
     },
     "metadata": {},
     "output_type": "display_data"
    }
   ],
   "source": [
    "geemap.linked_maps(rows=1, cols=2, height=\"400px\", center=[-45, -75], zoom=4, \n",
    "                   ee_objects=resultados, vis_params=vis_params3, labels=labels, label_position=\"topright\")"
   ]
  },
  {
   "cell_type": "code",
   "execution_count": 181,
   "id": "b5709218",
   "metadata": {
    "ExecuteTime": {
     "end_time": "2022-01-20T13:07:55.609791Z",
     "start_time": "2022-01-20T13:07:52.569223Z"
    }
   },
   "outputs": [
    {
     "data": {
      "application/vnd.jupyter.widget-view+json": {
       "model_id": "f458872a7bd84ff7b71c727a594559ae",
       "version_major": 2,
       "version_minor": 0
      },
      "text/plain": [
       "Map(center=[-45, -70], controls=(WidgetControl(options=['position', 'transparent_bg'], widget=HBox(children=(T…"
      ]
     },
     "metadata": {},
     "output_type": "display_data"
    }
   ],
   "source": [
    "Map10.addLayer(img4, vizParams, 'Mosaico 4')\n",
    "Map10.addLayer(img5, vizParams, 'Mosaico 5')\n",
    "Map10"
   ]
  },
  {
   "cell_type": "markdown",
   "id": "4ad82149",
   "metadata": {},
   "source": [
    "## Generación Mosaico L5"
   ]
  },
  {
   "cell_type": "code",
   "execution_count": 182,
   "id": "bf2cadb4",
   "metadata": {
    "ExecuteTime": {
     "end_time": "2022-01-20T13:07:55.612571Z",
     "start_time": "2022-01-20T13:07:55.610744Z"
    }
   },
   "outputs": [],
   "source": [
    "# mosaic_landsat = coleccion2007.median()"
   ]
  },
  {
   "cell_type": "code",
   "execution_count": 183,
   "id": "8b8bb7ac",
   "metadata": {
    "ExecuteTime": {
     "end_time": "2022-01-20T13:07:55.616574Z",
     "start_time": "2022-01-20T13:07:55.613416Z"
    }
   },
   "outputs": [],
   "source": [
    "mosaic_landsat = T4_median.set('SENSOR_ID', 'OLI_TIRS')"
   ]
  },
  {
   "cell_type": "code",
   "execution_count": 184,
   "id": "d6c348a7",
   "metadata": {
    "ExecuteTime": {
     "end_time": "2022-01-20T13:07:55.619594Z",
     "start_time": "2022-01-20T13:07:55.617453Z"
    }
   },
   "outputs": [],
   "source": [
    "cloud_mosaic = ee.Algorithms.Landsat.simpleCloudScore(mosaic_landsat)"
   ]
  },
  {
   "cell_type": "code",
   "execution_count": 185,
   "id": "687ec51e",
   "metadata": {
    "ExecuteTime": {
     "end_time": "2022-01-20T13:07:55.622108Z",
     "start_time": "2022-01-20T13:07:55.620385Z"
    }
   },
   "outputs": [],
   "source": [
    "cloud_mosaic = cloud_mosaic.select('cloud')"
   ]
  },
  {
   "cell_type": "code",
   "execution_count": 186,
   "id": "3079ca3c",
   "metadata": {
    "ExecuteTime": {
     "end_time": "2022-01-20T13:07:55.625115Z",
     "start_time": "2022-01-20T13:07:55.623396Z"
    }
   },
   "outputs": [],
   "source": [
    "palette_nubes = ['#1a9850', '#66bd63', '#a6d96a', '#d9ef8b', '#fee08b', '#fdae61', '#f46d43', '#d73027']"
   ]
  },
  {
   "cell_type": "code",
   "execution_count": 187,
   "id": "129a6537",
   "metadata": {
    "ExecuteTime": {
     "end_time": "2022-01-20T13:07:55.628119Z",
     "start_time": "2022-01-20T13:07:55.626086Z"
    }
   },
   "outputs": [],
   "source": [
    "resultados= [cloud_mosaic, T4_median]\n",
    "vis_params2=  [\n",
    "    {'palette':palette_nubes}, \n",
    "    vizParams]\n",
    "labels = [\n",
    "    'Nubes mosaico',\n",
    "    'mosaico inicial']"
   ]
  },
  {
   "cell_type": "code",
   "execution_count": 188,
   "id": "4168c896",
   "metadata": {
    "ExecuteTime": {
     "end_time": "2022-01-20T13:07:57.813485Z",
     "start_time": "2022-01-20T13:07:55.628998Z"
    }
   },
   "outputs": [
    {
     "data": {
      "application/vnd.jupyter.widget-view+json": {
       "model_id": "2f313f6ae8d14fd8850274d7edd4c5e2",
       "version_major": 2,
       "version_minor": 0
      },
      "text/plain": [
       "GridspecLayout(children=(Output(layout=Layout(grid_area='widget001')), Output(layout=Layout(grid_area='widget0…"
      ]
     },
     "metadata": {},
     "output_type": "display_data"
    }
   ],
   "source": [
    "geemap.linked_maps(rows=1, cols=2, height=\"400px\", center=[-45, -75], zoom=4, \n",
    "                   ee_objects=resultados, vis_params=vis_params2, labels=labels, label_position=\"topright\")"
   ]
  },
  {
   "cell_type": "code",
   "execution_count": 189,
   "id": "137377f9",
   "metadata": {
    "ExecuteTime": {
     "end_time": "2022-01-20T13:07:57.816389Z",
     "start_time": "2022-01-20T13:07:57.814432Z"
    }
   },
   "outputs": [],
   "source": [
    "def llenado(image):\n",
    "    return image.where(cloud_mosaic.gt(10),T_median)"
   ]
  },
  {
   "cell_type": "code",
   "execution_count": 190,
   "id": "c047da1b",
   "metadata": {
    "ExecuteTime": {
     "end_time": "2022-01-20T13:07:57.819667Z",
     "start_time": "2022-01-20T13:07:57.817247Z"
    }
   },
   "outputs": [],
   "source": [
    "img1 = llenado(T4_median)"
   ]
  },
  {
   "cell_type": "code",
   "execution_count": 191,
   "id": "d5d3e2d4",
   "metadata": {
    "ExecuteTime": {
     "end_time": "2022-01-20T13:07:57.822661Z",
     "start_time": "2022-01-20T13:07:57.820912Z"
    }
   },
   "outputs": [],
   "source": [
    "img1_landsat = img1.set('SENSOR_ID', 'OLI_TIRS')\n",
    "cloud_img1 = ee.Algorithms.Landsat.simpleCloudScore(img1_landsat)\n",
    "cloud_img1 = cloud_img1.select('cloud')"
   ]
  },
  {
   "cell_type": "code",
   "execution_count": 192,
   "id": "6cfb436c",
   "metadata": {
    "ExecuteTime": {
     "end_time": "2022-01-20T13:07:57.825657Z",
     "start_time": "2022-01-20T13:07:57.823847Z"
    }
   },
   "outputs": [],
   "source": [
    "resultados= [cloud_img1, img1]\n",
    "vis_params2=  [\n",
    "    {'palette':palette_nubes}, \n",
    "    vizParams]\n",
    "labels = [\n",
    "    'Nubes Mosaico 1',\n",
    "    'Mosaico 1']"
   ]
  },
  {
   "cell_type": "code",
   "execution_count": 193,
   "id": "291bba3f",
   "metadata": {
    "ExecuteTime": {
     "end_time": "2022-01-20T13:08:00.419196Z",
     "start_time": "2022-01-20T13:07:57.826885Z"
    }
   },
   "outputs": [
    {
     "data": {
      "application/vnd.jupyter.widget-view+json": {
       "model_id": "dc4f878441b24e95aadec5e44bcd2542",
       "version_major": 2,
       "version_minor": 0
      },
      "text/plain": [
       "GridspecLayout(children=(Output(layout=Layout(grid_area='widget001')), Output(layout=Layout(grid_area='widget0…"
      ]
     },
     "metadata": {},
     "output_type": "display_data"
    }
   ],
   "source": [
    "geemap.linked_maps(rows=1, cols=2, height=\"400px\", center=[-45, -75], zoom=4, \n",
    "                   ee_objects=resultados, vis_params=vis_params2, labels=labels, label_position=\"topright\")"
   ]
  },
  {
   "cell_type": "code",
   "execution_count": 194,
   "id": "a3ddf544",
   "metadata": {
    "ExecuteTime": {
     "end_time": "2022-01-20T13:08:00.422199Z",
     "start_time": "2022-01-20T13:08:00.420180Z"
    }
   },
   "outputs": [],
   "source": [
    "def llenado2(image):\n",
    "    return image.where(cloud_img1.gt(10), T2_median)"
   ]
  },
  {
   "cell_type": "code",
   "execution_count": 195,
   "id": "98a13516",
   "metadata": {
    "ExecuteTime": {
     "end_time": "2022-01-20T13:08:00.425436Z",
     "start_time": "2022-01-20T13:08:00.423090Z"
    }
   },
   "outputs": [],
   "source": [
    "img2 = llenado2(img1)"
   ]
  },
  {
   "cell_type": "code",
   "execution_count": 196,
   "id": "3934042b",
   "metadata": {
    "ExecuteTime": {
     "end_time": "2022-01-20T13:08:00.428796Z",
     "start_time": "2022-01-20T13:08:00.426831Z"
    }
   },
   "outputs": [],
   "source": [
    "img2_landsat = img2.set('SENSOR_ID', 'OLI_TIRS')\n",
    "cloud_img2 = ee.Algorithms.Landsat.simpleCloudScore(img2_landsat)\n",
    "cloud_img2 = cloud_img2.select('cloud')"
   ]
  },
  {
   "cell_type": "code",
   "execution_count": 197,
   "id": "4de67148",
   "metadata": {
    "ExecuteTime": {
     "end_time": "2022-01-20T13:08:00.432021Z",
     "start_time": "2022-01-20T13:08:00.430042Z"
    }
   },
   "outputs": [],
   "source": [
    "resultados= [cloud_img2, img2]\n",
    "vis_params2=  [\n",
    "    {'palette':palette_nubes}, \n",
    "    vizParams]\n",
    "labels = [\n",
    "    'Nubes Mosaico 2',\n",
    "    'Mosaico 2']"
   ]
  },
  {
   "cell_type": "code",
   "execution_count": 198,
   "id": "61d0f16b",
   "metadata": {
    "ExecuteTime": {
     "end_time": "2022-01-20T13:08:02.985565Z",
     "start_time": "2022-01-20T13:08:00.433148Z"
    }
   },
   "outputs": [
    {
     "data": {
      "application/vnd.jupyter.widget-view+json": {
       "model_id": "6ccd6fe18a5e4118979f4076154619f4",
       "version_major": 2,
       "version_minor": 0
      },
      "text/plain": [
       "GridspecLayout(children=(Output(layout=Layout(grid_area='widget001')), Output(layout=Layout(grid_area='widget0…"
      ]
     },
     "metadata": {},
     "output_type": "display_data"
    }
   ],
   "source": [
    "geemap.linked_maps(rows=1, cols=2, height=\"400px\", center=[-45, -75], zoom=4, \n",
    "                   ee_objects=resultados, vis_params=vis_params2, labels=labels, label_position=\"topright\")"
   ]
  },
  {
   "cell_type": "code",
   "execution_count": 199,
   "id": "4297c4a7",
   "metadata": {
    "ExecuteTime": {
     "end_time": "2022-01-20T13:08:02.988609Z",
     "start_time": "2022-01-20T13:08:02.986639Z"
    }
   },
   "outputs": [],
   "source": [
    "def llenado3(image):\n",
    "    return image.where(cloud_img2.gt(10), T3_median)"
   ]
  },
  {
   "cell_type": "code",
   "execution_count": 200,
   "id": "5db0ac27",
   "metadata": {
    "ExecuteTime": {
     "end_time": "2022-01-20T13:08:02.992061Z",
     "start_time": "2022-01-20T13:08:02.989748Z"
    }
   },
   "outputs": [],
   "source": [
    "img3 = llenado3(img2)"
   ]
  },
  {
   "cell_type": "code",
   "execution_count": 201,
   "id": "9f5eaef5",
   "metadata": {
    "ExecuteTime": {
     "end_time": "2022-01-20T13:08:02.995572Z",
     "start_time": "2022-01-20T13:08:02.993196Z"
    }
   },
   "outputs": [],
   "source": [
    "img3_landsat = img3.set('SENSOR_ID', 'OLI_TIRS')\n",
    "cloud_img3 = ee.Algorithms.Landsat.simpleCloudScore(img3_landsat)\n",
    "cloud_img3 = cloud_img3.select('cloud')"
   ]
  },
  {
   "cell_type": "code",
   "execution_count": 202,
   "id": "f502e3e1",
   "metadata": {
    "ExecuteTime": {
     "end_time": "2022-01-20T13:08:02.998617Z",
     "start_time": "2022-01-20T13:08:02.996865Z"
    }
   },
   "outputs": [],
   "source": [
    "resultados= [cloud_img3, img3]\n",
    "vis_params2=  [\n",
    "    {'palette':palette_nubes}, \n",
    "    vizParams]\n",
    "labels = [\n",
    "    'Nubes Mosaico 3',\n",
    "    'Mosaico 3']"
   ]
  },
  {
   "cell_type": "code",
   "execution_count": 203,
   "id": "a6b02f45",
   "metadata": {
    "ExecuteTime": {
     "end_time": "2022-01-20T13:08:05.747322Z",
     "start_time": "2022-01-20T13:08:02.999858Z"
    }
   },
   "outputs": [
    {
     "data": {
      "application/vnd.jupyter.widget-view+json": {
       "model_id": "3a60ccf7b1304f59952754d259c363aa",
       "version_major": 2,
       "version_minor": 0
      },
      "text/plain": [
       "GridspecLayout(children=(Output(layout=Layout(grid_area='widget001')), Output(layout=Layout(grid_area='widget0…"
      ]
     },
     "metadata": {},
     "output_type": "display_data"
    }
   ],
   "source": [
    "geemap.linked_maps(rows=1, cols=2, height=\"400px\", center=[-45, -75], zoom=4, \n",
    "                   ee_objects=resultados, vis_params=vis_params2, labels=labels, label_position=\"topright\")"
   ]
  },
  {
   "cell_type": "code",
   "execution_count": 204,
   "id": "86e87b44",
   "metadata": {
    "ExecuteTime": {
     "end_time": "2022-01-20T13:08:05.750075Z",
     "start_time": "2022-01-20T13:08:05.748215Z"
    }
   },
   "outputs": [],
   "source": [
    "def llenado4(image):\n",
    "    return image.where(cloud_img3.gt(10), T4_median)"
   ]
  },
  {
   "cell_type": "code",
   "execution_count": 205,
   "id": "3d5a46a4",
   "metadata": {
    "ExecuteTime": {
     "end_time": "2022-01-20T13:08:05.753376Z",
     "start_time": "2022-01-20T13:08:05.750799Z"
    }
   },
   "outputs": [],
   "source": [
    "img4 = llenado4(img3)"
   ]
  },
  {
   "cell_type": "code",
   "execution_count": 206,
   "id": "299e31f9",
   "metadata": {
    "ExecuteTime": {
     "end_time": "2022-01-20T13:08:05.756375Z",
     "start_time": "2022-01-20T13:08:05.754544Z"
    }
   },
   "outputs": [],
   "source": [
    "img4_landsat = img4.set('SENSOR_ID', 'OLI_TIRS')\n",
    "cloud_img4 = ee.Algorithms.Landsat.simpleCloudScore(img4_landsat)\n",
    "cloud_img4 = cloud_img4.select('cloud')"
   ]
  },
  {
   "cell_type": "code",
   "execution_count": 207,
   "id": "57298140",
   "metadata": {
    "ExecuteTime": {
     "end_time": "2022-01-20T13:08:05.759388Z",
     "start_time": "2022-01-20T13:08:05.757542Z"
    }
   },
   "outputs": [],
   "source": [
    "resultados= [cloud_img4, img4]\n",
    "vis_params2=  [\n",
    "    {'palette':palette_nubes}, \n",
    "    vizParams]\n",
    "labels = [\n",
    "    'Nubes Mosaico 4',\n",
    "    'Mosaico 4']"
   ]
  },
  {
   "cell_type": "code",
   "execution_count": 208,
   "id": "f0a51d8a",
   "metadata": {
    "ExecuteTime": {
     "end_time": "2022-01-20T13:08:11.097254Z",
     "start_time": "2022-01-20T13:08:05.760411Z"
    }
   },
   "outputs": [
    {
     "data": {
      "application/vnd.jupyter.widget-view+json": {
       "model_id": "480323ee1ff2479a86c45720292faf7d",
       "version_major": 2,
       "version_minor": 0
      },
      "text/plain": [
       "GridspecLayout(children=(Output(layout=Layout(grid_area='widget001')), Output(layout=Layout(grid_area='widget0…"
      ]
     },
     "metadata": {},
     "output_type": "display_data"
    }
   ],
   "source": [
    "geemap.linked_maps(rows=1, cols=2, height=\"400px\", center=[-45, -75], zoom=4, \n",
    "                   ee_objects=resultados, vis_params=vis_params2, labels=labels, label_position=\"topright\")"
   ]
  },
  {
   "cell_type": "code",
   "execution_count": 209,
   "id": "6f5efe7b",
   "metadata": {
    "ExecuteTime": {
     "end_time": "2022-01-20T13:08:11.100311Z",
     "start_time": "2022-01-20T13:08:11.098178Z"
    }
   },
   "outputs": [],
   "source": [
    "hansenImage = ee.Image('UMD/hansen/global_forest_change_2015')\n",
    "datamask = hansenImage.select('datamask')"
   ]
  },
  {
   "cell_type": "code",
   "execution_count": 210,
   "id": "f33d1fe7",
   "metadata": {
    "ExecuteTime": {
     "end_time": "2022-01-20T13:08:11.103222Z",
     "start_time": "2022-01-20T13:08:11.101585Z"
    }
   },
   "outputs": [],
   "source": [
    "def llenado5(image):\n",
    "    return image.where(datamask.eq(2), QM_NDWI_T1_l5)"
   ]
  },
  {
   "cell_type": "code",
   "execution_count": 211,
   "id": "a04a6bc4",
   "metadata": {
    "ExecuteTime": {
     "end_time": "2022-01-20T13:08:11.106322Z",
     "start_time": "2022-01-20T13:08:11.104379Z"
    }
   },
   "outputs": [],
   "source": [
    "img5 = llenado5(img4)"
   ]
  },
  {
   "cell_type": "code",
   "execution_count": 212,
   "id": "86957e48",
   "metadata": {
    "ExecuteTime": {
     "end_time": "2022-01-20T13:08:11.109948Z",
     "start_time": "2022-01-20T13:08:11.107464Z"
    }
   },
   "outputs": [],
   "source": [
    "img5_landsat = img5.set('SENSOR_ID', 'OLI_TIRS')\n",
    "cloud_img5 = ee.Algorithms.Landsat.simpleCloudScore(img5_landsat)\n",
    "cloud_img5 = cloud_img5.select('cloud')"
   ]
  },
  {
   "cell_type": "code",
   "execution_count": 213,
   "id": "572220e7",
   "metadata": {
    "ExecuteTime": {
     "end_time": "2022-01-20T13:08:11.112596Z",
     "start_time": "2022-01-20T13:08:11.110849Z"
    }
   },
   "outputs": [],
   "source": [
    "resultados= [img4, img5]\n",
    "labels = [\n",
    "    'Mosaico 4',\n",
    "    'Mosaico 5']\n",
    "vis_params3=  [\n",
    "     vizParams, \n",
    "    vizParams]"
   ]
  },
  {
   "cell_type": "code",
   "execution_count": 214,
   "id": "59baffa8",
   "metadata": {
    "ExecuteTime": {
     "end_time": "2022-01-20T13:08:13.550575Z",
     "start_time": "2022-01-20T13:08:11.113684Z"
    }
   },
   "outputs": [
    {
     "data": {
      "application/vnd.jupyter.widget-view+json": {
       "model_id": "f458872a7bd84ff7b71c727a594559ae",
       "version_major": 2,
       "version_minor": 0
      },
      "text/plain": [
       "Map(center=[-45, -70], controls=(WidgetControl(options=['position', 'transparent_bg'], widget=HBox(children=(T…"
      ]
     },
     "metadata": {},
     "output_type": "display_data"
    }
   ],
   "source": [
    "Map10.addLayer(img4, vizParams, 'Mosaico 4')\n",
    "Map10.addLayer(img5, vizParams, 'Mosaico 5')\n",
    "Map10"
   ]
  },
  {
   "cell_type": "code",
   "execution_count": 215,
   "id": "024f7ec4",
   "metadata": {
    "ExecuteTime": {
     "end_time": "2022-01-20T13:08:13.553301Z",
     "start_time": "2022-01-20T13:08:13.551513Z"
    }
   },
   "outputs": [],
   "source": [
    "img5_b = img5.select(['B1','B2','B3','B4','B5','B6','B7'])"
   ]
  },
  {
   "cell_type": "code",
   "execution_count": 216,
   "id": "f83b9a88",
   "metadata": {
    "ExecuteTime": {
     "end_time": "2022-01-20T13:08:13.819911Z",
     "start_time": "2022-01-20T13:08:13.554086Z"
    }
   },
   "outputs": [],
   "source": [
    "molde = os.path.join(work_dir, 'molde.shp')\n",
    "molde_grande = geemap.shp_to_ee(molde)"
   ]
  },
  {
   "cell_type": "code",
   "execution_count": 217,
   "id": "bc076138",
   "metadata": {
    "ExecuteTime": {
     "end_time": "2022-01-20T13:08:13.822692Z",
     "start_time": "2022-01-20T13:08:13.820891Z"
    }
   },
   "outputs": [],
   "source": [
    "# img5_b_c = img5_b.clip(molde_grande).unmask()"
   ]
  },
  {
   "cell_type": "markdown",
   "id": "7699eb14",
   "metadata": {},
   "source": [
    "## Exportación"
   ]
  },
  {
   "cell_type": "code",
   "execution_count": 218,
   "id": "b15d8ed8",
   "metadata": {
    "ExecuteTime": {
     "end_time": "2022-01-20T13:08:13.825728Z",
     "start_time": "2022-01-20T13:08:13.823614Z"
    }
   },
   "outputs": [],
   "source": [
    "img4_b = img4.select(['B1','B2','B3','B4','B5','B6','B7'])"
   ]
  },
  {
   "cell_type": "code",
   "execution_count": 219,
   "id": "3cd9a1ef",
   "metadata": {
    "ExecuteTime": {
     "end_time": "2022-01-20T13:08:16.258128Z",
     "start_time": "2022-01-20T13:08:13.826760Z"
    }
   },
   "outputs": [],
   "source": [
    "partes_1 = os.path.join(work_dir, '1.shp')\n",
    "partes1 = geemap.shp_to_ee(partes_1)\n",
    "\n",
    "partes_2 = os.path.join(work_dir, '2.shp')\n",
    "partes2 = geemap.shp_to_ee(partes_2)\n",
    "\n",
    "partes_3 = os.path.join(work_dir, '3.shp')\n",
    "partes3 = geemap.shp_to_ee(partes_3)\n",
    "\n",
    "partes_4 = os.path.join(work_dir, '4.shp')\n",
    "partes4 = geemap.shp_to_ee(partes_4)\n",
    "\n",
    "partes_5 = os.path.join(work_dir, '5.shp')\n",
    "partes5 = geemap.shp_to_ee(partes_5)\n",
    "\n",
    "partes_6 = os.path.join(work_dir, '6.shp')\n",
    "partes6 = geemap.shp_to_ee(partes_6)\n",
    "\n",
    "partes_7 = os.path.join(work_dir, '7.shp')\n",
    "partes7 = geemap.shp_to_ee(partes_7)\n",
    "\n",
    "partes_8 = os.path.join(work_dir, '8.shp')\n",
    "partes8 = geemap.shp_to_ee(partes_8)"
   ]
  },
  {
   "cell_type": "code",
   "execution_count": 220,
   "id": "498b7180",
   "metadata": {
    "ExecuteTime": {
     "end_time": "2022-01-20T13:08:16.260761Z",
     "start_time": "2022-01-20T13:08:16.259249Z"
    }
   },
   "outputs": [],
   "source": [
    "# reproj = img5_b \\\n",
    "#     .reproject(crs='EPSG:32719',scale = 30)"
   ]
  },
  {
   "cell_type": "code",
   "execution_count": 221,
   "id": "5941fced",
   "metadata": {
    "ExecuteTime": {
     "end_time": "2022-01-20T13:08:16.269934Z",
     "start_time": "2022-01-20T13:08:16.262027Z"
    }
   },
   "outputs": [],
   "source": [
    "geometry_exp = ee.Geometry.Polygon(\n",
    "        [[[-72.56281773604495, -33.81999514196144],\n",
    "          [-72.96381871260745, -35.294382843203024],\n",
    "          [-73.27692906416995, -35.25850698608905],\n",
    "          [-74.15583531416995, -38.13757615203617],\n",
    "          [-73.96357457198245, -38.16349478321529],\n",
    "          [-74.41603250978783, -39.59214901926122],\n",
    "          [-73.71840067385033, -39.70212049569608],\n",
    "          [-74.48057965994737, -41.961233926702086],\n",
    "          [-76.23199334221133, -46.599308425949715],\n",
    "          [-75.71838250236758, -46.6705186900265],\n",
    "          [-76.31583416780423, -48.08335993023956],\n",
    "          [-75.6739504332226, -48.17601084778724],\n",
    "          [-76.1812028986966, -49.3089458997328],\n",
    "          [-75.8516130549466, -49.35190435466257],\n",
    "          [-75.88182545729035, -49.42252520588146],\n",
    "          [-75.62776661939972, -49.4593908439046],\n",
    "          [-75.87838309772656, -50.0286830263256],\n",
    "          [-75.4746355391328, -50.08951678614621],\n",
    "          [-75.54325576346766, -50.23909657453096],\n",
    "          [-75.77780697097086, -50.76007049594944],\n",
    "          [-75.16119930495523, -50.84458853545005],\n",
    "          [-75.38504574050211, -51.344039508567974],\n",
    "          [-75.5541538866841, -51.71140521484993],\n",
    "          [-75.18336531246536, -51.75648162278235],\n",
    "          [-75.47788882049618, -52.3659753295982],\n",
    "          [-74.75894718310815, -52.46884703800526],\n",
    "          [-75.08565455837835, -53.06208069103826],\n",
    "          [-74.55801479059262, -53.126414996444055],\n",
    "          [-74.81690883977036, -53.6371915734125],\n",
    "          [-73.44408000172288, -53.83741753537409],\n",
    "          [-73.50862467945726, -53.95798563315933],\n",
    "          [-73.45231974781663, -53.967680681913386],\n",
    "          [-73.53197062672288, -54.11766576333605],\n",
    "          [-73.77219189508037, -54.57485104154676],\n",
    "          [-72.34049166499341, -54.77775087176573],\n",
    "          [-72.47759402717024, -55.03231503944354],\n",
    "          [-71.05285526571967, -55.24340674895388],\n",
    "          [-71.08306766806342, -55.29113504937561],\n",
    "          [-69.81960741798575, -55.47109132991434],\n",
    "          [-69.85119311134513, -55.51932330880519],\n",
    "          [-69.68227831642325, -55.544194128455445],\n",
    "          [-69.79214159767325, -55.75341614311607],\n",
    "          [-66.85410518726452, -56.21137383375629],\n",
    "          [-66.30968752348785, -55.25322454720416],\n",
    "          [-65.44176760161285, -55.378260612328376],\n",
    "          [-65.29222191220039, -55.084940556988364],\n",
    "          [-63.8145607793879, -55.29503930747886],\n",
    "          [-63.4410256231379, -54.559610949790994],\n",
    "          [-66.01731956845039, -54.18844646199444],\n",
    "          [-65.92942894345039, -53.97576673331468],\n",
    "          [-67.35765159970039, -53.77173637481835],\n",
    "          [-66.83490788218774, -52.56216102836118],\n",
    "          [-68.29059635875024, -52.351280557744616],\n",
    "          [-67.13664467133525, -49.5665018755825],\n",
    "          [-65.6891959408665, -49.77447361491692],\n",
    "          [-64.6040407061826, -46.886773053508534],\n",
    "          [-66.07346209290135, -46.670468623465915],\n",
    "          [-65.60651222417681, -45.29237148760689],\n",
    "          [-64.13159767339556, -45.51413819831776],\n",
    "          [-63.11762183127383, -42.44210625114028],\n",
    "          [-61.64820044455508, -42.65254570178212],\n",
    "          [-60.691700635610566, -39.58656313087865],\n",
    "          [-60.612049756704316, -39.597145764356114],\n",
    "          [-60.214053037778356, -38.26345264755797],\n",
    "          [-62.338430585556544, -37.86345563921212],\n",
    "          [-62.431814374619044, -38.13616213643378],\n",
    "          [-63.880475463562526, -37.8656239671591],\n",
    "          [-63.965619506531276, -38.12752037872568],\n",
    "          [-65.43863114657343, -37.86678770192114],\n",
    "          [-65.52652177157343, -38.12867996539086],\n",
    "          [-66.31753739657343, -37.98811028708228],\n",
    "          [-65.98609312949165, -36.82548737245019],\n",
    "          [-68.06866521074468, -36.43149799324939],\n",
    "          [-68.16204899980718, -36.70723234878123],\n",
    "          [-69.00250310136968, -36.55294237984414],\n",
    "          [-68.66838285254276, -35.38834808765389],\n",
    "          [-70.73190167990279, -35.008946233837705],\n",
    "          [-70.82528546896529, -35.29190694633577],\n",
    "          [-71.68771222677779, -35.11685679848462],\n",
    "          [-71.37460187521529, -33.95679291780399],\n",
    "          [-72.53365949240279, -33.733238932504804]]])"
   ]
  },
  {
   "cell_type": "code",
   "execution_count": 239,
   "id": "ddce81f7",
   "metadata": {
    "ExecuteTime": {
     "end_time": "2022-01-20T13:28:00.890095Z",
     "start_time": "2022-01-20T13:28:00.766467Z"
    }
   },
   "outputs": [
    {
     "data": {
      "text/plain": [
       "['B1',\n",
       " 'B2',\n",
       " 'B3',\n",
       " 'B4',\n",
       " 'B5',\n",
       " 'B6',\n",
       " 'B7',\n",
       " 'BQA',\n",
       " 'B11',\n",
       " 'NDWI',\n",
       " 'NDGI',\n",
       " 'SAVI',\n",
       " 'NDSI',\n",
       " 'date',\n",
       " 'nube']"
      ]
     },
     "execution_count": 239,
     "metadata": {},
     "output_type": "execute_result"
    }
   ],
   "source": [
    "img5.bandNames().getInfo()"
   ]
  },
  {
   "cell_type": "code",
   "execution_count": 222,
   "id": "5879a2a6",
   "metadata": {
    "ExecuteTime": {
     "end_time": "2022-01-20T13:08:16.273933Z",
     "start_time": "2022-01-20T13:08:16.271189Z"
    }
   },
   "outputs": [],
   "source": [
    "img5_B1 = img5.select(\"B1\")\n",
    "img5_B2 = img5.select(\"B2\")\n",
    "img5_B3 = img5.select(\"B3\")\n",
    "img5_B4 = img5.select(\"B4\")\n",
    "img5_B5 = img5.select(\"B5\")\n",
    "img5_B6 = img5.select(\"B6\")\n",
    "img5_B7 = img5.select(\"B7\")"
   ]
  },
  {
   "cell_type": "code",
   "execution_count": 223,
   "id": "3f5de711",
   "metadata": {
    "ExecuteTime": {
     "end_time": "2022-01-20T13:08:16.280385Z",
     "start_time": "2022-01-20T13:08:16.274847Z"
    }
   },
   "outputs": [],
   "source": [
    "task1 = ee.batch.Export.image.toDrive(**{\n",
    "    'image': img5_B1,\n",
    "    'description':'B1',\n",
    "    'folder':'exp2021_19s_full',\n",
    "    'region': geometry_exp.bounds(),\n",
    "    'scale':30,\n",
    "    'crsTransform':[30, 0, 214185, 0, -30, -4825185], \n",
    "    'crs':'EPSG:32719',\n",
    "    'maxPixels':1e13\n",
    "})\n",
    "task2 = ee.batch.Export.image.toDrive(**{\n",
    "    'image': img5_B2,\n",
    "    'description':'B2',\n",
    "    'folder':'exp2021_19s_full',\n",
    "    'region': geometry_exp.bounds(),\n",
    "    'scale':30,\n",
    "    'crsTransform':[30, 0, 214185, 0, -30, -4825185], \n",
    "    'crs':'EPSG:32719',\n",
    "    'maxPixels':1e13\n",
    "})\n",
    "task3 = ee.batch.Export.image.toDrive(**{\n",
    "    'image': img5_B3,\n",
    "    'description':'B3',\n",
    "    'folder':'exp2021_19s_full',\n",
    "    'region': geometry_exp.bounds(),\n",
    "    'scale':30,\n",
    "    'crsTransform':[30, 0, 214185, 0, -30, -4825185], \n",
    "    'crs':'EPSG:32719',\n",
    "    'maxPixels':1e13\n",
    "})\n",
    "task4 = ee.batch.Export.image.toDrive(**{\n",
    "    'image': img5_B4,\n",
    "    'description':'B4',\n",
    "    'folder':'exp2021_19s_full',\n",
    "    'region': geometry_exp.bounds(),\n",
    "    'scale':30,\n",
    "    'crsTransform':[30, 0, 214185, 0, -30, -4825185], \n",
    "    'crs':'EPSG:32719',\n",
    "    'maxPixels':1e13\n",
    "})\n",
    "task5 = ee.batch.Export.image.toDrive(**{\n",
    "    'image': img5_B5,\n",
    "    'description':'B5',\n",
    "    'folder':'exp2021_19s_full',\n",
    "    'region': geometry_exp.bounds(),\n",
    "    'scale':30,\n",
    "    'crsTransform':[30, 0, 214185, 0, -30, -4825185], \n",
    "    'crs':'EPSG:32719',\n",
    "    'maxPixels':1e13\n",
    "})\n",
    "task6 = ee.batch.Export.image.toDrive(**{\n",
    "    'image': img5_B6,\n",
    "    'description':'B6',\n",
    "    'folder':'exp2021_19s_full',\n",
    "    'region': geometry_exp.bounds(),\n",
    "    'scale':30,\n",
    "    'crsTransform':[30, 0, 214185, 0, -30, -4825185], \n",
    "    'crs':'EPSG:32719',\n",
    "    'maxPixels':1e13\n",
    "})\n",
    "task7 = ee.batch.Export.image.toDrive(**{\n",
    "    'image': img5_B7,\n",
    "    'description':'B7',\n",
    "    'folder':'exp2021_19s_full',\n",
    "    'region': geometry_exp.bounds(),\n",
    "    'scale':30,\n",
    "    'crsTransform':[30, 0, 214185, 0, -30, -4825185], \n",
    "    'crs':'EPSG:32719',\n",
    "    'maxPixels':1e13\n",
    "})"
   ]
  },
  {
   "cell_type": "code",
   "execution_count": 224,
   "id": "751a76b5",
   "metadata": {
    "ExecuteTime": {
     "end_time": "2022-01-20T13:08:16.291403Z",
     "start_time": "2022-01-20T13:08:16.281135Z"
    }
   },
   "outputs": [],
   "source": [
    "# task1.start()\n",
    "# task2.start()\n",
    "# task3.start()\n",
    "# task4.start()\n",
    "# task5.start()\n",
    "# task6.start()\n",
    "# task7.start()"
   ]
  },
  {
   "cell_type": "code",
   "execution_count": 225,
   "id": "e89580f5",
   "metadata": {
    "ExecuteTime": {
     "end_time": "2022-01-20T13:08:16.296613Z",
     "start_time": "2022-01-20T13:08:16.292436Z"
    }
   },
   "outputs": [],
   "source": [
    "# img5_1 = reproj.clip(partes1).unmask()\n",
    "# img5_2 = reproj.clip(partes2).unmask()\n",
    "# img5_3 = reproj.clip(partes3).unmask()\n",
    "# img5_4 = reproj.clip(partes4).unmask()\n",
    "# img5_5 = reproj.clip(partes5).unmask()\n",
    "# img5_6 = reproj.clip(partes6).unmask()\n",
    "# img5_7 = reproj.clip(partes7).unmask()\n",
    "# img5_8 = reproj.clip(partes8).unmask()"
   ]
  },
  {
   "cell_type": "code",
   "execution_count": 226,
   "id": "ef43e561",
   "metadata": {
    "ExecuteTime": {
     "end_time": "2022-01-20T13:08:16.302451Z",
     "start_time": "2022-01-20T13:08:16.297462Z"
    },
    "scrolled": true
   },
   "outputs": [],
   "source": [
    "# geemap.ee_export_image_to_drive(img4_1, description='mosaico4_2008_1', folder='exp_2008_19s', region=partes1.geometry(), scale=30)\n",
    "# geemap.ee_export_image_to_drive(img4_2, description='mosaico4_2008_2', folder='exp_2008_19s', region=partes2.geometry(), scale=30)\n",
    "# geemap.ee_export_image_to_drive(img4_3, description='mosaico4_2008_3', folder='exp_2008_19s', region=partes3.geometry(), scale=30)\n",
    "# geemap.ee_export_image_to_drive(img4_4, description='mosaico4_2008_4', folder='exp_2008_19s', region=partes4.geometry(), scale=30)\n",
    "# geemap.ee_export_image_to_drive(img4_5, description='mosaico4_2008_5', folder='exp_2008_19s', region=partes5.geometry(), scale=30)\n",
    "# geemap.ee_export_image_to_drive(img4_6, description='mosaico4_2008_6', folder='exp_2008_19s', region=partes6.geometry(), scale=30)\n",
    "# geemap.ee_export_image_to_drive(img4_7, description='mosaico4_2008_7', folder='exp_2008_19s', region=partes7.geometry(), scale=30)\n",
    "# geemap.ee_export_image_to_drive(img4_8, description='mosaico4_2008_8', folder='exp_2008_19s', region=partes8.geometry(), scale=30)"
   ]
  },
  {
   "cell_type": "code",
   "execution_count": 227,
   "id": "80169bc3",
   "metadata": {
    "ExecuteTime": {
     "end_time": "2022-01-20T13:08:16.305467Z",
     "start_time": "2022-01-20T13:08:16.303686Z"
    }
   },
   "outputs": [],
   "source": [
    "# geemap.ee_export_image_to_drive(reproj1, description='mosaico_2008_1', folder='exp_2008_19s', region=partes1.geometry(), scale=30)\n",
    "# geemap.ee_export_image_to_drive(reproj2, description='mosaico_2008_2', folder='exp_2008_19s', region=partes2.geometry(), scale=30)\n",
    "# geemap.ee_export_image_to_drive(reproj3, description='mosaico_2008_3', folder='exp_2008_19s', region=partes3.geometry(), scale=30)\n",
    "# geemap.ee_export_image_to_drive(reproj4, description='mosaico_2008_4', folder='exp_2008_19s', region=partes4.geometry(), scale=30)\n",
    "# geemap.ee_export_image_to_drive(reproj5, description='mosaico_2008_5', folder='exp_2008_19s', region=partes5.geometry(), scale=30)\n",
    "# geemap.ee_export_image_to_drive(reproj6, description='mosaico_2008_6', folder='exp_2008_19s', region=partes6.geometry(), scale=30)\n",
    "# geemap.ee_export_image_to_drive(reproj7, description='mosaico_2008_7', folder='exp_2008_19s', region=partes7.geometry(), scale=30)\n",
    "# geemap.ee_export_image_to_drive(reproj8, description='mosaico_2008_8', folder='exp_2008_19s', region=partes8.geometry(), scale=30)"
   ]
  },
  {
   "cell_type": "code",
   "execution_count": 228,
   "id": "ed01881d",
   "metadata": {
    "ExecuteTime": {
     "end_time": "2022-01-20T13:08:16.308119Z",
     "start_time": "2022-01-20T13:08:16.306640Z"
    }
   },
   "outputs": [],
   "source": [
    "# geemap.ee_export_image_to_drive(img5_1, description='mosaico_2008_1', folder='expR', region=partes1.geometry(), scale=30)"
   ]
  },
  {
   "cell_type": "code",
   "execution_count": 229,
   "id": "4f2a474e",
   "metadata": {
    "ExecuteTime": {
     "end_time": "2022-01-20T13:08:16.310644Z",
     "start_time": "2022-01-20T13:08:16.309156Z"
    }
   },
   "outputs": [],
   "source": [
    "# geemap.ee_export_image_to_drive(img5_2, description='mosaico_2008_2', folder='expR', region=partes2.geometry(), scale=30)"
   ]
  },
  {
   "cell_type": "code",
   "execution_count": 230,
   "id": "9ebf988b",
   "metadata": {
    "ExecuteTime": {
     "end_time": "2022-01-20T13:08:16.313646Z",
     "start_time": "2022-01-20T13:08:16.311945Z"
    }
   },
   "outputs": [],
   "source": [
    "# geemap.ee_export_image_to_drive(img5_3, description='mosaico_19s_3', folder='expR', region=partes3.geometry(), scale=30)"
   ]
  },
  {
   "cell_type": "code",
   "execution_count": 231,
   "id": "efaac393",
   "metadata": {
    "ExecuteTime": {
     "end_time": "2022-01-20T13:08:16.316166Z",
     "start_time": "2022-01-20T13:08:16.314598Z"
    }
   },
   "outputs": [],
   "source": [
    "# geemap.ee_export_image_to_drive(img5_4, description='mosaico_2008_4', folder='expR', region=partes4.geometry(), scale=30)"
   ]
  },
  {
   "cell_type": "code",
   "execution_count": 232,
   "id": "40c8541c",
   "metadata": {
    "ExecuteTime": {
     "end_time": "2022-01-20T13:08:16.318741Z",
     "start_time": "2022-01-20T13:08:16.317303Z"
    }
   },
   "outputs": [],
   "source": [
    "# geemap.ee_export_image_to_drive(img5_5, description='mosaico_2008_5', folder='expR', region=partes5.geometry(), scale=30)"
   ]
  },
  {
   "cell_type": "code",
   "execution_count": 233,
   "id": "71109d1a",
   "metadata": {
    "ExecuteTime": {
     "end_time": "2022-01-20T13:08:16.321061Z",
     "start_time": "2022-01-20T13:08:16.319682Z"
    }
   },
   "outputs": [],
   "source": [
    "# geemap.ee_export_image_to_drive(img5_6, description='mosaico_2008_6', folder='expR', region=partes6.geometry(), scale=30)"
   ]
  },
  {
   "cell_type": "code",
   "execution_count": 234,
   "id": "86ad30af",
   "metadata": {
    "ExecuteTime": {
     "end_time": "2022-01-20T13:08:16.324067Z",
     "start_time": "2022-01-20T13:08:16.322161Z"
    }
   },
   "outputs": [],
   "source": [
    "# geemap.ee_export_image_to_drive(img5_7, description='mosaico_2008_7', folder='expR', region=partes7.geometry(), scale=30)"
   ]
  },
  {
   "cell_type": "code",
   "execution_count": 235,
   "id": "d31d8a10",
   "metadata": {
    "ExecuteTime": {
     "end_time": "2022-01-20T13:08:16.327073Z",
     "start_time": "2022-01-20T13:08:16.325099Z"
    }
   },
   "outputs": [],
   "source": [
    "# geemap.ee_export_image_to_drive(img5_8, description='mosaico_2008_8', folder='expR', region=partes8.geometry(), scale=30)"
   ]
  },
  {
   "cell_type": "code",
   "execution_count": 236,
   "id": "d1439211",
   "metadata": {
    "ExecuteTime": {
     "end_time": "2022-01-20T13:08:16.329559Z",
     "start_time": "2022-01-20T13:08:16.328125Z"
    }
   },
   "outputs": [],
   "source": [
    "# reproj= img5_b \\\n",
    "#     .reproject(crs='EPSG:4326',scale = 30)"
   ]
  },
  {
   "cell_type": "code",
   "execution_count": 237,
   "id": "fb49fa78",
   "metadata": {
    "ExecuteTime": {
     "end_time": "2022-01-20T13:08:16.331966Z",
     "start_time": "2022-01-20T13:08:16.330591Z"
    }
   },
   "outputs": [],
   "source": [
    "# geemap.ee_export_image_to_drive(reproj, description='mosaico_2008', folder='export2', region=patagonia_grande.geometry(), scale=30)"
   ]
  }
 ],
 "metadata": {
  "kernelspec": {
   "display_name": "Python 3 (ipykernel)",
   "language": "python",
   "name": "python3"
  },
  "language_info": {
   "codemirror_mode": {
    "name": "ipython",
    "version": 3
   },
   "file_extension": ".py",
   "mimetype": "text/x-python",
   "name": "python",
   "nbconvert_exporter": "python",
   "pygments_lexer": "ipython3",
   "version": "3.8.12"
  },
  "toc": {
   "base_numbering": 1,
   "nav_menu": {},
   "number_sections": true,
   "sideBar": true,
   "skip_h1_title": false,
   "title_cell": "Table of Contents",
   "title_sidebar": "Contents",
   "toc_cell": false,
   "toc_position": {
    "height": "calc(100% - 180px)",
    "left": "10px",
    "top": "150px",
    "width": "384px"
   },
   "toc_section_display": true,
   "toc_window_display": true
  },
  "varInspector": {
   "cols": {
    "lenName": 16,
    "lenType": 16,
    "lenVar": 40
   },
   "kernels_config": {
    "python": {
     "delete_cmd_postfix": "",
     "delete_cmd_prefix": "del ",
     "library": "var_list.py",
     "varRefreshCmd": "print(var_dic_list())"
    },
    "r": {
     "delete_cmd_postfix": ") ",
     "delete_cmd_prefix": "rm(",
     "library": "var_list.r",
     "varRefreshCmd": "cat(var_dic_list()) "
    }
   },
   "types_to_exclude": [
    "module",
    "function",
    "builtin_function_or_method",
    "instance",
    "_Feature"
   ],
   "window_display": false
  }
 },
 "nbformat": 4,
 "nbformat_minor": 5
}
