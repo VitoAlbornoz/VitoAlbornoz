{
 "cells": [
  {
   "cell_type": "markdown",
   "id": "c8ee7fef",
   "metadata": {},
   "source": [
    "# Mosaico 2008"
   ]
  },
  {
   "cell_type": "markdown",
   "id": "203f76ca",
   "metadata": {},
   "source": [
    "Script trabajado por Francisco Albornoz (2021-04-13) / Última modificación / Mosaicos Patagonia"
   ]
  },
  {
   "cell_type": "markdown",
   "id": "2fb5cdeb",
   "metadata": {},
   "source": [
    "2021-08-05 13:07:09 "
   ]
  },
  {
   "cell_type": "code",
   "execution_count": 1,
   "id": "3057c761",
   "metadata": {
    "ExecuteTime": {
     "end_time": "2021-10-28T13:03:15.767758Z",
     "start_time": "2021-10-28T13:03:14.394290Z"
    }
   },
   "outputs": [],
   "source": [
    "import ee\n",
    "import geemap\n",
    "import geemap.chart as chart\n",
    "import os\n",
    "import folium\n",
    "import xarray_leaflet\n",
    "import rasterio \n",
    "from rasterio import plot\n",
    "import matplotlib.pyplot as plt\n",
    "import numpy as np\n",
    "%matplotlib inline"
   ]
  },
  {
   "cell_type": "markdown",
   "id": "1997eeb4",
   "metadata": {},
   "source": [
    "<img src=https://www.ecopaysen.cl/wp-content/uploads/2019/12/ecopaysen_marca_web.png>"
   ]
  },
  {
   "cell_type": "code",
   "execution_count": 2,
   "id": "fca49a56",
   "metadata": {
    "ExecuteTime": {
     "end_time": "2021-10-28T13:03:26.322474Z",
     "start_time": "2021-10-28T13:03:15.769066Z"
    }
   },
   "outputs": [],
   "source": [
    "Map = geemap.Map(center = [-45, -70], zoom = 4)\n",
    "Map1 = geemap.Map(center = [-45, -70], zoom = 4)\n",
    "Map2 = geemap.Map(center = [-45, -70], zoom = 4)\n",
    "Map3 = geemap.Map(center = [-45, -70], zoom = 4)\n",
    "Map4 = geemap.Map(center = [-45, -70], zoom = 4)\n",
    "Map5 = geemap.Map(center = [-45, -70], zoom = 4)\n",
    "Map6 = geemap.Map(center = [-45, -70], zoom = 4)\n",
    "Map7 = geemap.Map(center = [-45, -70], zoom = 4)\n",
    "Map8 = geemap.Map(center = [-45, -70], zoom = 4)\n",
    "Map9 = geemap.Map(center = [-45, -70], zoom = 4)\n",
    "Map10 = geemap.Map(center = [-45, -70], zoom = 4)\n",
    "Map11 = geemap.Map(center = [-45, -70], zoom = 4)\n",
    "Map12 = geemap.Map(center = [-45, -70], zoom = 4)\n",
    "Map13 = geemap.Map(center = [-45, -70], zoom = 4)\n",
    "Map14 = geemap.Map(center = [-45, -70], zoom = 4)\n",
    "Map15 = geemap.Map(center = [-45, -70], zoom = 4)"
   ]
  },
  {
   "cell_type": "markdown",
   "id": "f26fe1a2",
   "metadata": {},
   "source": [
    "## Área de Estudio"
   ]
  },
  {
   "cell_type": "code",
   "execution_count": 3,
   "id": "2aae613d",
   "metadata": {
    "ExecuteTime": {
     "end_time": "2021-10-28T13:03:27.055481Z",
     "start_time": "2021-10-28T13:03:26.323435Z"
    }
   },
   "outputs": [],
   "source": [
    "work_dir = os.path.expanduser('../../../Data/shapes/')\n",
    "patagonia = os.path.join(work_dir, 'corte.shp')\n",
    "patagonia_grande = geemap.shp_to_ee(patagonia)"
   ]
  },
  {
   "cell_type": "code",
   "execution_count": 4,
   "id": "36b34e2d",
   "metadata": {
    "ExecuteTime": {
     "end_time": "2021-10-28T13:03:27.361321Z",
     "start_time": "2021-10-28T13:03:27.057466Z"
    }
   },
   "outputs": [],
   "source": [
    "base1 = os.path.join(work_dir, 'base_geo.shp')\n",
    "base = geemap.shp_to_ee(base1)"
   ]
  },
  {
   "cell_type": "code",
   "execution_count": 5,
   "id": "5533cb67",
   "metadata": {
    "ExecuteTime": {
     "end_time": "2021-10-28T13:03:28.610613Z",
     "start_time": "2021-10-28T13:03:27.362339Z"
    }
   },
   "outputs": [],
   "source": [
    "base2 = os.path.join(work_dir, 'base2.shp')\n",
    "base2 = geemap.shp_to_ee(base2)\n",
    "base3 = os.path.join(work_dir, 'base3.shp')\n",
    "base3 = geemap.shp_to_ee(base3)\n",
    "base4 = os.path.join(work_dir, 'base4.shp')\n",
    "base4 = geemap.shp_to_ee(base4)\n",
    "base5 = os.path.join(work_dir, 'base5.shp')\n",
    "base5 = geemap.shp_to_ee(base5)\n",
    "base6 = os.path.join(work_dir, 'base6.shp')\n",
    "base6 = geemap.shp_to_ee(base6)"
   ]
  },
  {
   "cell_type": "code",
   "execution_count": 6,
   "id": "1673e634",
   "metadata": {
    "ExecuteTime": {
     "end_time": "2021-10-28T13:03:28.902585Z",
     "start_time": "2021-10-28T13:03:28.611594Z"
    }
   },
   "outputs": [],
   "source": [
    "geometria_base = os.path.join(work_dir, 'mapa_base_dis.shp') \n",
    "geometria_base = geemap.shp_to_ee(geometria_base)"
   ]
  },
  {
   "cell_type": "code",
   "execution_count": 7,
   "id": "fe73a428",
   "metadata": {
    "ExecuteTime": {
     "end_time": "2021-10-28T13:03:29.198274Z",
     "start_time": "2021-10-28T13:03:28.903635Z"
    }
   },
   "outputs": [],
   "source": [
    "geometria_base2 = os.path.join(work_dir, 'area_base2_dis.shp') \n",
    "geometria_base2 = geemap.shp_to_ee(geometria_base2)"
   ]
  },
  {
   "cell_type": "markdown",
   "id": "fa8e2fea",
   "metadata": {},
   "source": [
    "## Colors Bars"
   ]
  },
  {
   "cell_type": "code",
   "execution_count": 8,
   "id": "1efebd11",
   "metadata": {
    "ExecuteTime": {
     "end_time": "2021-10-28T13:03:30.094896Z",
     "start_time": "2021-10-28T13:03:29.199291Z"
    }
   },
   "outputs": [],
   "source": [
    "import geemap.colormaps as cm"
   ]
  },
  {
   "cell_type": "code",
   "execution_count": 9,
   "id": "d159d70f",
   "metadata": {
    "ExecuteTime": {
     "end_time": "2021-10-28T13:03:30.097919Z",
     "start_time": "2021-10-28T13:03:30.096002Z"
    }
   },
   "outputs": [],
   "source": [
    "# cm.palettes.terrain"
   ]
  },
  {
   "cell_type": "code",
   "execution_count": 10,
   "id": "fe999a91",
   "metadata": {
    "ExecuteTime": {
     "end_time": "2021-10-28T13:03:30.102670Z",
     "start_time": "2021-10-28T13:03:30.099840Z"
    }
   },
   "outputs": [],
   "source": [
    "color_ndvi = cm.palettes.ndvi"
   ]
  },
  {
   "cell_type": "code",
   "execution_count": 11,
   "id": "05fb282a",
   "metadata": {
    "ExecuteTime": {
     "end_time": "2021-10-28T13:03:30.107698Z",
     "start_time": "2021-10-28T13:03:30.103766Z"
    }
   },
   "outputs": [],
   "source": [
    "color_ndwi = cm.palettes.ndwi"
   ]
  },
  {
   "cell_type": "code",
   "execution_count": 12,
   "id": "68161910",
   "metadata": {
    "ExecuteTime": {
     "end_time": "2021-10-28T13:03:30.112581Z",
     "start_time": "2021-10-28T13:03:30.108819Z"
    }
   },
   "outputs": [],
   "source": [
    "color_terrain = cm.palettes.terrain"
   ]
  },
  {
   "cell_type": "code",
   "execution_count": 13,
   "id": "8e99245f",
   "metadata": {
    "ExecuteTime": {
     "end_time": "2021-10-28T13:03:30.118107Z",
     "start_time": "2021-10-28T13:03:30.113791Z"
    }
   },
   "outputs": [],
   "source": [
    "color_glaciar = cm.palettes.PuBuGn_r"
   ]
  },
  {
   "cell_type": "code",
   "execution_count": 14,
   "id": "92b8cf41",
   "metadata": {
    "ExecuteTime": {
     "end_time": "2021-10-28T13:03:30.122602Z",
     "start_time": "2021-10-28T13:03:30.118955Z"
    }
   },
   "outputs": [],
   "source": [
    "color_nubes = cm.palettes.inferno"
   ]
  },
  {
   "cell_type": "code",
   "execution_count": 15,
   "id": "39930741",
   "metadata": {
    "ExecuteTime": {
     "end_time": "2021-10-28T13:03:30.127625Z",
     "start_time": "2021-10-28T13:03:30.123637Z"
    }
   },
   "outputs": [],
   "source": [
    "# cm.list_colormaps()"
   ]
  },
  {
   "cell_type": "code",
   "execution_count": 16,
   "id": "0ce61cbe",
   "metadata": {
    "ExecuteTime": {
     "end_time": "2021-10-28T13:03:30.132496Z",
     "start_time": "2021-10-28T13:03:30.128669Z"
    }
   },
   "outputs": [],
   "source": [
    "# cm.plot_colormaps(width=12, height=0.4)"
   ]
  },
  {
   "cell_type": "markdown",
   "id": "11666045",
   "metadata": {},
   "source": [
    "## Funciones"
   ]
  },
  {
   "cell_type": "code",
   "execution_count": 17,
   "id": "166db170",
   "metadata": {
    "ExecuteTime": {
     "end_time": "2021-10-28T13:03:30.138036Z",
     "start_time": "2021-10-28T13:03:30.133629Z"
    }
   },
   "outputs": [],
   "source": [
    "def add_ee_layer(self, ee_image_object, vis_params, name):\n",
    "  map_id_dict = ee.Image(ee_image_object).getMapId(vis_params)\n",
    "  folium.raster_layers.TileLayer(\n",
    "      tiles=map_id_dict['tile_fetcher'].url_format,\n",
    "      attr='Map Data &copy; <a href=\"https://earthengine.google.com/\">Google Earth Engine</a>',\n",
    "      name=name,\n",
    "      overlay=True,\n",
    "      control=True\n",
    "  ).add_to(self)\n",
    "\n",
    "folium.Map.add_ee_layer = add_ee_layer"
   ]
  },
  {
   "cell_type": "code",
   "execution_count": 18,
   "id": "b9e1cdaf",
   "metadata": {
    "ExecuteTime": {
     "end_time": "2021-10-28T13:03:30.142795Z",
     "start_time": "2021-10-28T13:03:30.138955Z"
    }
   },
   "outputs": [],
   "source": [
    "def addNDVI(image): \n",
    "    ndvi = image.normalizedDifference(['B4', 'B3']).rename('B11')\n",
    "    return image.addBands(ndvi)"
   ]
  },
  {
   "cell_type": "code",
   "execution_count": 19,
   "id": "38b0bfd0",
   "metadata": {
    "ExecuteTime": {
     "end_time": "2021-10-28T13:03:30.145798Z",
     "start_time": "2021-10-28T13:03:30.144009Z"
    }
   },
   "outputs": [],
   "source": [
    "def addNDVI7(image): \n",
    "    ndvi = image.normalizedDifference(['B4', 'B3']).rename('NDVI')\n",
    "    return image.addBands(ndvi)"
   ]
  },
  {
   "cell_type": "code",
   "execution_count": 20,
   "id": "ad105a37",
   "metadata": {
    "ExecuteTime": {
     "end_time": "2021-10-28T13:03:30.148624Z",
     "start_time": "2021-10-28T13:03:30.146937Z"
    }
   },
   "outputs": [],
   "source": [
    "def addNDWI(image):\n",
    "    ndwi = image.normalizedDifference(['B2','B4']).rename('NDWI')\n",
    "    return image.addBands(ndwi)"
   ]
  },
  {
   "cell_type": "code",
   "execution_count": 21,
   "id": "afd5a921",
   "metadata": {
    "ExecuteTime": {
     "end_time": "2021-10-28T13:03:30.151357Z",
     "start_time": "2021-10-28T13:03:30.149643Z"
    }
   },
   "outputs": [],
   "source": [
    "def addNDGI(image):\n",
    "    ndgi = image.normalizedDifference(['B2','B3']).rename('NDGI')\n",
    "    return image.addBands(ndgi)"
   ]
  },
  {
   "cell_type": "code",
   "execution_count": 22,
   "id": "786770f8",
   "metadata": {
    "ExecuteTime": {
     "end_time": "2021-10-28T13:03:30.154391Z",
     "start_time": "2021-10-28T13:03:30.152416Z"
    }
   },
   "outputs": [],
   "source": [
    "def addSAVI(image):\n",
    "    savi = image.expression(\n",
    "        '((b4 - b3)/(b4 + b3 + 0.5))*1.5', {\n",
    "            'b3':image.select('B3'),\n",
    "            'b4':image.select('B4')\n",
    "        }) \n",
    "    savi= savi.rename('SAVI')\n",
    "    return image.addBands(savi)"
   ]
  },
  {
   "cell_type": "code",
   "execution_count": 23,
   "id": "cffb72aa",
   "metadata": {
    "ExecuteTime": {
     "end_time": "2021-10-28T13:03:30.157089Z",
     "start_time": "2021-10-28T13:03:30.155338Z"
    }
   },
   "outputs": [],
   "source": [
    "def addNDSI(image):\n",
    "    ndsi = image.normalizedDifference(['B2','B5']).rename('NDSI')\n",
    "    return image.addBands(ndsi)"
   ]
  },
  {
   "cell_type": "code",
   "execution_count": 24,
   "id": "4889cabe",
   "metadata": {
    "ExecuteTime": {
     "end_time": "2021-10-28T13:03:30.160109Z",
     "start_time": "2021-10-28T13:03:30.158031Z"
    }
   },
   "outputs": [],
   "source": [
    "def addDate(image):\n",
    "    img_date = ee.Date(image.date())\n",
    "    img_date = ee.Number.parse(img_date.format('YYYYMM'))\n",
    "    return image.addBands(ee.Image(img_date).rename('date').toInt())"
   ]
  },
  {
   "cell_type": "code",
   "execution_count": 25,
   "id": "11abf688",
   "metadata": {
    "ExecuteTime": {
     "end_time": "2021-10-28T13:03:30.162660Z",
     "start_time": "2021-10-28T13:03:30.160965Z"
    }
   },
   "outputs": [],
   "source": [
    "def Cloud40(image):\n",
    "    scored = ee.Algorithms.Landsat.simpleCloudScore(image)\n",
    "    return image.updateMask(scored.select(['cloud']).lt(40)) "
   ]
  },
  {
   "cell_type": "code",
   "execution_count": 26,
   "id": "3115c210",
   "metadata": {
    "ExecuteTime": {
     "end_time": "2021-10-28T13:03:30.165648Z",
     "start_time": "2021-10-28T13:03:30.163790Z"
    }
   },
   "outputs": [],
   "source": [
    "def Cloud30(image):\n",
    "    scored = ee.Algorithms.Landsat.simpleCloudScore(image)\n",
    "    return image.updateMask(scored.select(['cloud']).lt(30)) "
   ]
  },
  {
   "cell_type": "code",
   "execution_count": 27,
   "id": "f86cf507",
   "metadata": {
    "ExecuteTime": {
     "end_time": "2021-10-28T13:03:30.168679Z",
     "start_time": "2021-10-28T13:03:30.166652Z"
    }
   },
   "outputs": [],
   "source": [
    "def Cloud20(image):\n",
    "    scored = ee.Algorithms.Landsat.simpleCloudScore(image)\n",
    "    return image.updateMask(scored.select(['cloud']).lt(20)) "
   ]
  },
  {
   "cell_type": "code",
   "execution_count": 28,
   "id": "9d288b40",
   "metadata": {
    "ExecuteTime": {
     "end_time": "2021-10-28T13:03:30.173180Z",
     "start_time": "2021-10-28T13:03:30.171392Z"
    }
   },
   "outputs": [],
   "source": [
    "def Cloud10(image):\n",
    "    scored = ee.Algorithms.Landsat.simpleCloudScore(image)\n",
    "    return image.updateMask(scored.select(['cloud']).lt(10))"
   ]
  },
  {
   "cell_type": "code",
   "execution_count": 29,
   "id": "92d6ba1b",
   "metadata": {
    "ExecuteTime": {
     "end_time": "2021-10-28T13:03:30.176223Z",
     "start_time": "2021-10-28T13:03:30.174192Z"
    }
   },
   "outputs": [],
   "source": [
    "def addCloud(image):\n",
    "    nube = ee.Algorithms.Landsat.simpleCloudScore(image)\n",
    "    return image.addBands(ee.Image(nube.select(['cloud'])).rename('nube'))"
   ]
  },
  {
   "cell_type": "code",
   "execution_count": 30,
   "id": "f4a18534",
   "metadata": {
    "ExecuteTime": {
     "end_time": "2021-10-28T13:03:30.180234Z",
     "start_time": "2021-10-28T13:03:30.177270Z"
    }
   },
   "outputs": [],
   "source": [
    "def find_closest(target_image, image_col, days):\n",
    "    \"\"\"Filter images in a collection by date proximity and spatial intersection to a target image.\n",
    "\n",
    "    Args:\n",
    "        target_image: An ee.Image whose observation date is used to find near-date images in\n",
    "          the provided image_col image collection. It must have a 'system:time_start' property.\n",
    "        image_col: An ee.ImageCollection to filter by date proximity and spatial intersection\n",
    "          to the target_image. Each image in the collection must have a 'system:time_start'\n",
    "          property.\n",
    "        days: A number that defines the maximum number of days difference allowed between\n",
    "          the target_image and images in the image_col.\n",
    "\n",
    "    Returns:\n",
    "        An ee.ImageCollection that has been filtered to include those images that are within the\n",
    "          given date proximity to target_image and intersect it spatially.\n",
    "    \"\"\"\n",
    "\n",
    "    # Compute the timespan for N days (in milliseconds).\n",
    "    range = ee.Number(days).multiply(1000 * 60 * 60 * 24)\n",
    "\n",
    "    filter = ee.Filter.And(\n",
    "        ee.Filter.maxDifference(range, 'system:time_start', None, 'system:time_start'),\n",
    "        ee.Filter.intersects('.geo', None, '.geo'))\n",
    "\n",
    "    closest = (ee.Join.saveAll('matches', 'measure')\n",
    "        .apply(ee.ImageCollection([target_image]), image_col, filter))\n",
    "\n",
    "    return ee.ImageCollection(ee.List(closest.first().get('matches')))"
   ]
  },
  {
   "cell_type": "code",
   "execution_count": 31,
   "id": "c9e4c70a",
   "metadata": {
    "ExecuteTime": {
     "end_time": "2021-10-28T13:03:30.182965Z",
     "start_time": "2021-10-28T13:03:30.181324Z"
    }
   },
   "outputs": [],
   "source": [
    "vizParams = {\n",
    "  'bands': ['B5', 'B4', 'B3'],\n",
    "  'min': 0,\n",
    "  'max': 0.5,\n",
    "  'gamma': [0.95, 1.1, 1]\n",
    "}"
   ]
  },
  {
   "cell_type": "code",
   "execution_count": 32,
   "id": "52b4f264",
   "metadata": {
    "ExecuteTime": {
     "end_time": "2021-10-28T13:03:30.185977Z",
     "start_time": "2021-10-28T13:03:30.183952Z"
    }
   },
   "outputs": [],
   "source": [
    "vizParams_m = {\n",
    "  'bands': ['B5', 'B4', 'B3'],\n",
    "  'min': 0,\n",
    "  'max': 0.6,\n",
    "  'gamma': [1, 1, 1]\n",
    "}"
   ]
  },
  {
   "cell_type": "code",
   "execution_count": 33,
   "id": "c5095a1c",
   "metadata": {
    "ExecuteTime": {
     "end_time": "2021-10-28T13:03:30.188564Z",
     "start_time": "2021-10-28T13:03:30.186872Z"
    }
   },
   "outputs": [],
   "source": [
    "vis_nieve = {\n",
    "  'bands': ['B6', 'B4', 'B3'],\n",
    "  'min': 0,\n",
    "  'max': 0.5,\n",
    "  'gamma': [0.95, 1.1, 1]\n",
    "}"
   ]
  },
  {
   "cell_type": "markdown",
   "id": "d9a442fb",
   "metadata": {},
   "source": [
    "## Colecciones"
   ]
  },
  {
   "cell_type": "markdown",
   "id": "6c980301",
   "metadata": {},
   "source": [
    "### 2009"
   ]
  },
  {
   "cell_type": "code",
   "execution_count": 34,
   "id": "53c83f22",
   "metadata": {
    "ExecuteTime": {
     "end_time": "2021-10-28T13:03:30.191645Z",
     "start_time": "2021-10-28T13:03:30.189678Z"
    }
   },
   "outputs": [],
   "source": [
    "start_date = '2008-10-01'\n",
    "end_date = '2009-03-31'\n",
    "\n",
    "l5_2009 = ee.ImageCollection('LANDSAT/LT05/C01/T1_TOA') \\\n",
    "    .filterBounds(patagonia_grande) \\\n",
    "    .filterDate(start_date, end_date)"
   ]
  },
  {
   "cell_type": "code",
   "execution_count": 35,
   "id": "05dbdd99",
   "metadata": {
    "ExecuteTime": {
     "end_time": "2021-10-28T13:03:30.194246Z",
     "start_time": "2021-10-28T13:03:30.192635Z"
    }
   },
   "outputs": [],
   "source": [
    "vizParams = {\n",
    "  'bands': ['B4', 'B3', 'B2'],\n",
    "  'min': 0,\n",
    "  'max': 0.5,\n",
    "  'gamma': [0.95, 1.1, 1]\n",
    "}"
   ]
  },
  {
   "cell_type": "code",
   "execution_count": 36,
   "id": "2c56e896",
   "metadata": {
    "ExecuteTime": {
     "end_time": "2021-10-28T13:03:30.196995Z",
     "start_time": "2021-10-28T13:03:30.195343Z"
    }
   },
   "outputs": [],
   "source": [
    "vis_nieve = {\n",
    "  'bands': ['B5', 'B3', 'B2'],\n",
    "  'min': 0,\n",
    "  'max': 0.5,\n",
    "  'gamma': [0.95, 1.1, 1]\n",
    "}"
   ]
  },
  {
   "cell_type": "code",
   "execution_count": 37,
   "id": "3d08df17",
   "metadata": {
    "ExecuteTime": {
     "end_time": "2021-10-28T13:03:30.202160Z",
     "start_time": "2021-10-28T13:03:30.197987Z"
    }
   },
   "outputs": [],
   "source": [
    "coleccion2009 = l5_2009.map(addNDVI).map(addNDWI).map(addNDGI).map(addSAVI).map(addNDSI).map(addDate).map(addCloud)"
   ]
  },
  {
   "cell_type": "code",
   "execution_count": 38,
   "id": "842248bc",
   "metadata": {
    "ExecuteTime": {
     "end_time": "2021-10-28T13:03:30.205346Z",
     "start_time": "2021-10-28T13:03:30.203153Z"
    }
   },
   "outputs": [],
   "source": [
    "QM_NDVI_2009 = coleccion2009.qualityMosaic('B11') # Normalized difference vegetation Index\n",
    "QM_NDWI_2009 = coleccion2009.qualityMosaic('NDWI') # Normalize difference water index\n",
    "QM_SAVI_2009 = coleccion2009.qualityMosaic('SAVI') # Soil Adjusted Vegetation Index \n",
    "QM_NDGI_2009 = coleccion2009.qualityMosaic('NDGI') # Normalized difference glacier index\n",
    "QM_NDSI_2009 = coleccion2009.qualityMosaic('NDSI') # Normalized difference snow index"
   ]
  },
  {
   "cell_type": "code",
   "execution_count": 39,
   "id": "2ffe439c",
   "metadata": {
    "ExecuteTime": {
     "end_time": "2021-10-28T13:03:33.137224Z",
     "start_time": "2021-10-28T13:03:30.206373Z"
    }
   },
   "outputs": [
    {
     "data": {
      "application/vnd.jupyter.widget-view+json": {
       "model_id": "7d01041421e6435ea908d94e1d317404",
       "version_major": 2,
       "version_minor": 0
      },
      "text/plain": [
       "Map(center=[-45, -70], controls=(WidgetControl(options=['position', 'transparent_bg'], widget=HBox(children=(T…"
      ]
     },
     "metadata": {},
     "output_type": "display_data"
    }
   ],
   "source": [
    "Map.addLayer(QM_NDVI_2009, vizParams, 'QM de NDVI 2009')\n",
    "Map.addLayer(QM_NDWI_2009, vizParams, 'QM de NDWI 2009')\n",
    "Map.addLayer(QM_SAVI_2009, vizParams, 'QM de SAVI 2009')\n",
    "Map.addLayer(QM_NDGI_2009, vis_nieve, 'QM de NDGI 2009')\n",
    "Map.addLayer(QM_NDSI_2009, vis_nieve, 'QM de NDSI 2009')\n",
    "Map "
   ]
  },
  {
   "cell_type": "code",
   "execution_count": 40,
   "id": "2bfc974d",
   "metadata": {
    "ExecuteTime": {
     "end_time": "2021-10-28T13:03:33.140961Z",
     "start_time": "2021-10-28T13:03:33.138248Z"
    }
   },
   "outputs": [],
   "source": [
    "c2009_sn = coleccion2009.map(Cloud20)\n",
    "NDVI_2009_sn = c2009_sn.qualityMosaic('B11')\n",
    "NDWI_2009_sn = c2009_sn.qualityMosaic('NDWI')\n",
    "SAVI_2009_sn = c2009_sn.qualityMosaic('SAVI')\n",
    "NDGI_2009_sn = c2009_sn.qualityMosaic('NDGI')\n",
    "NDSI_2009_sn = c2009_sn.qualityMosaic('NDSI')"
   ]
  },
  {
   "cell_type": "code",
   "execution_count": 41,
   "id": "a2c9c98a",
   "metadata": {
    "ExecuteTime": {
     "end_time": "2021-10-28T13:03:33.144064Z",
     "start_time": "2021-10-28T13:03:33.141876Z"
    }
   },
   "outputs": [],
   "source": [
    "# Map2.addLayer(NDVI_2009_sn, vizParams, 'QMsn de NDVI 2009')\n",
    "# Map2.addLayer(NDWI_2009_sn, vizParams, 'QMsn de NDWI 2009')\n",
    "# Map2.addLayer(SAVI_2009_sn, vizParams, 'QMsn de SAVI 2009')\n",
    "# Map2.addLayer(NDGI_2009_sn, vis_nieve, 'QMsn de NDGI 2009')\n",
    "# Map2.addLayer(NDSI_2009_sn, vis_nieve, 'QMsn de NDSI 2009')\n",
    "# Map2"
   ]
  },
  {
   "cell_type": "markdown",
   "id": "ccec25b0",
   "metadata": {},
   "source": [
    "### 2008"
   ]
  },
  {
   "cell_type": "code",
   "execution_count": 42,
   "id": "ef53f13a",
   "metadata": {
    "ExecuteTime": {
     "end_time": "2021-10-28T13:03:33.147053Z",
     "start_time": "2021-10-28T13:03:33.145179Z"
    }
   },
   "outputs": [],
   "source": [
    "start_date = '2007-10-01'\n",
    "end_date = '2008-03-31'\n",
    "\n",
    "l5_2008 = ee.ImageCollection('LANDSAT/LT05/C01/T1_TOA') \\\n",
    "    .filterBounds(patagonia_grande) \\\n",
    "    .filterDate(start_date, end_date)"
   ]
  },
  {
   "cell_type": "code",
   "execution_count": 43,
   "id": "015e69de",
   "metadata": {
    "ExecuteTime": {
     "end_time": "2021-10-28T13:03:33.149794Z",
     "start_time": "2021-10-28T13:03:33.148193Z"
    }
   },
   "outputs": [],
   "source": [
    "vizParams = {\n",
    "  'bands': ['B4', 'B3', 'B2'],\n",
    "  'min': 0,\n",
    "  'max': 0.5,\n",
    "  'gamma': [0.95, 1.1, 1]\n",
    "}"
   ]
  },
  {
   "cell_type": "code",
   "execution_count": 44,
   "id": "5621cb6b",
   "metadata": {
    "ExecuteTime": {
     "end_time": "2021-10-28T13:03:33.152673Z",
     "start_time": "2021-10-28T13:03:33.151036Z"
    }
   },
   "outputs": [],
   "source": [
    "vis_nieve = {\n",
    "  'bands': ['B5', 'B3', 'B2'],\n",
    "  'min': 0,\n",
    "  'max': 0.5,\n",
    "  'gamma': [0.95, 1.1, 1]\n",
    "}"
   ]
  },
  {
   "cell_type": "code",
   "execution_count": 45,
   "id": "06a293d6",
   "metadata": {
    "ExecuteTime": {
     "end_time": "2021-10-28T13:03:33.157848Z",
     "start_time": "2021-10-28T13:03:33.153741Z"
    }
   },
   "outputs": [],
   "source": [
    "coleccion2008 = l5_2008.map(addNDVI).map(addNDWI).map(addNDGI).map(addSAVI).map(addNDSI).map(addDate).map(addCloud)"
   ]
  },
  {
   "cell_type": "code",
   "execution_count": 46,
   "id": "f724bb1b",
   "metadata": {
    "ExecuteTime": {
     "end_time": "2021-10-28T13:03:33.160943Z",
     "start_time": "2021-10-28T13:03:33.158975Z"
    }
   },
   "outputs": [],
   "source": [
    "QM_NDVI_2008 = coleccion2008.qualityMosaic('B11') # Normalized difference vegetation Index\n",
    "QM_NDWI_2008 = coleccion2008.qualityMosaic('NDWI') # Normalize difference water index\n",
    "QM_SAVI_2008 = coleccion2008.qualityMosaic('SAVI') # Soil Adjusted Vegetation Index \n",
    "QM_NDGI_2008 = coleccion2008.qualityMosaic('NDGI') # Normalized difference glacier index\n",
    "QM_NDSI_2008 = coleccion2008.qualityMosaic('NDSI') # Normalized difference snow index"
   ]
  },
  {
   "cell_type": "code",
   "execution_count": 47,
   "id": "6c001bbc",
   "metadata": {
    "ExecuteTime": {
     "end_time": "2021-10-28T13:03:35.625971Z",
     "start_time": "2021-10-28T13:03:33.162043Z"
    }
   },
   "outputs": [
    {
     "data": {
      "application/vnd.jupyter.widget-view+json": {
       "model_id": "7d01041421e6435ea908d94e1d317404",
       "version_major": 2,
       "version_minor": 0
      },
      "text/plain": [
       "Map(center=[-45, -70], controls=(WidgetControl(options=['position', 'transparent_bg'], widget=HBox(children=(T…"
      ]
     },
     "metadata": {},
     "output_type": "display_data"
    }
   ],
   "source": [
    "Map.addLayer(QM_NDVI_2008, vizParams, 'QM de NDVI 2008')\n",
    "Map.addLayer(QM_NDWI_2008, vizParams, 'QM de NDWI 2008')\n",
    "Map.addLayer(QM_SAVI_2008, vizParams, 'QM de SAVI 2008')\n",
    "Map.addLayer(QM_NDGI_2008, vis_nieve, 'QM de NDGI 2008')\n",
    "Map.addLayer(QM_NDSI_2008, vis_nieve, 'QM de NDSI 2008')\n",
    "Map "
   ]
  },
  {
   "cell_type": "code",
   "execution_count": 48,
   "id": "06eebe04",
   "metadata": {
    "ExecuteTime": {
     "end_time": "2021-10-28T13:03:35.629657Z",
     "start_time": "2021-10-28T13:03:35.627058Z"
    }
   },
   "outputs": [],
   "source": [
    "c2008_sn = coleccion2008.map(Cloud20)\n",
    "NDVI_2008_sn = c2008_sn.qualityMosaic('B11')\n",
    "NDWI_2008_sn = c2008_sn.qualityMosaic('NDWI')\n",
    "SAVI_2008_sn = c2008_sn.qualityMosaic('SAVI')\n",
    "NDGI_2008_sn = c2008_sn.qualityMosaic('NDGI')\n",
    "NDSI_2008_sn = c2008_sn.qualityMosaic('NDSI')"
   ]
  },
  {
   "cell_type": "code",
   "execution_count": 49,
   "id": "7121bf75",
   "metadata": {
    "ExecuteTime": {
     "end_time": "2021-10-28T13:03:35.632230Z",
     "start_time": "2021-10-28T13:03:35.630819Z"
    }
   },
   "outputs": [],
   "source": [
    "# Map2.addLayer(NDVI_2008_sn, vizParams, 'QMsn de NDVI 2008')\n",
    "# Map2.addLayer(NDWI_2008_sn, vizParams, 'QMsn de NDWI 2008')\n",
    "# Map2.addLayer(SAVI_2008_sn, vizParams, 'QMsn de SAVI 2008')\n",
    "# Map2.addLayer(NDGI_2008_sn, vis_nieve, 'QMsn de NDGI 2008')\n",
    "# Map2.addLayer(NDSI_2008_sn, vis_nieve, 'QMsn de NDSI 2008')\n",
    "# Map2"
   ]
  },
  {
   "cell_type": "markdown",
   "id": "b1fff37f",
   "metadata": {},
   "source": [
    "### 2007"
   ]
  },
  {
   "cell_type": "code",
   "execution_count": 50,
   "id": "ed8a2ed2",
   "metadata": {
    "ExecuteTime": {
     "end_time": "2021-10-28T13:03:35.635310Z",
     "start_time": "2021-10-28T13:03:35.633406Z"
    }
   },
   "outputs": [],
   "source": [
    "start_date = '2006-10-01'\n",
    "end_date = '2007-03-31'\n",
    "\n",
    "l5_2007 = ee.ImageCollection('LANDSAT/LT05/C01/T1_TOA') \\\n",
    "    .filterBounds(patagonia_grande) \\\n",
    "    .filterDate(start_date, end_date)"
   ]
  },
  {
   "cell_type": "code",
   "execution_count": 51,
   "id": "ac158dd0",
   "metadata": {
    "ExecuteTime": {
     "end_time": "2021-10-28T13:03:35.639917Z",
     "start_time": "2021-10-28T13:03:35.636298Z"
    }
   },
   "outputs": [],
   "source": [
    "coleccion2007 = l5_2007.map(addNDVI).map(addNDWI).map(addNDGI).map(addSAVI).map(addNDSI).map(addDate).map(addCloud)"
   ]
  },
  {
   "cell_type": "code",
   "execution_count": 52,
   "id": "531b33cd",
   "metadata": {
    "ExecuteTime": {
     "end_time": "2021-10-28T13:03:35.642778Z",
     "start_time": "2021-10-28T13:03:35.640856Z"
    }
   },
   "outputs": [],
   "source": [
    "QM_NDVI_2007 = coleccion2007.qualityMosaic('B11') # Normalized difference vegetation Index\n",
    "QM_NDWI_2007 = coleccion2007.qualityMosaic('NDWI') # Normalize difference water index\n",
    "QM_SAVI_2007 = coleccion2007.qualityMosaic('SAVI') # Soil Adjusted Vegetation Index \n",
    "QM_NDGI_2007 = coleccion2007.qualityMosaic('NDGI') # Normalized difference glacier index\n",
    "QM_NDSI_2007 = coleccion2007.qualityMosaic('NDSI') # Normalized difference snow index"
   ]
  },
  {
   "cell_type": "code",
   "execution_count": 53,
   "id": "22b9a628",
   "metadata": {
    "ExecuteTime": {
     "end_time": "2021-10-28T13:03:38.121492Z",
     "start_time": "2021-10-28T13:03:35.643875Z"
    }
   },
   "outputs": [],
   "source": [
    "Map.addLayer(QM_NDVI_2007, vizParams, 'QM de NDVI 2007')\n",
    "Map.addLayer(QM_NDWI_2007, vizParams, 'QM de NDWI 2007')\n",
    "Map.addLayer(QM_SAVI_2007, vizParams, 'QM de SAVI 2007')\n",
    "Map.addLayer(QM_NDGI_2007, vis_nieve, 'QM de NDGI 2007')\n",
    "Map.addLayer(QM_NDSI_2007, vis_nieve, 'QM de NDSI 2007')\n",
    "# Map3"
   ]
  },
  {
   "cell_type": "code",
   "execution_count": 54,
   "id": "37413530",
   "metadata": {
    "ExecuteTime": {
     "end_time": "2021-10-28T13:03:38.125361Z",
     "start_time": "2021-10-28T13:03:38.122592Z"
    }
   },
   "outputs": [],
   "source": [
    "c2007_sn = coleccion2007.map(Cloud20)\n",
    "NDVI_2007_sn = c2007_sn.qualityMosaic('B11')\n",
    "NDWI_2007_sn = c2007_sn.qualityMosaic('NDWI')\n",
    "SAVI_2007_sn = c2007_sn.qualityMosaic('SAVI')\n",
    "NDGI_2007_sn = c2007_sn.qualityMosaic('NDGI')\n",
    "NDSI_2007_sn = c2007_sn.qualityMosaic('NDSI')"
   ]
  },
  {
   "cell_type": "code",
   "execution_count": 55,
   "id": "ee1a2de2",
   "metadata": {
    "ExecuteTime": {
     "end_time": "2021-10-28T13:03:40.664066Z",
     "start_time": "2021-10-28T13:03:38.126613Z"
    }
   },
   "outputs": [
    {
     "data": {
      "application/vnd.jupyter.widget-view+json": {
       "model_id": "6064fe9c833f4836a8c76ceff14987a3",
       "version_major": 2,
       "version_minor": 0
      },
      "text/plain": [
       "Map(center=[-45, -70], controls=(WidgetControl(options=['position', 'transparent_bg'], widget=HBox(children=(T…"
      ]
     },
     "metadata": {},
     "output_type": "display_data"
    }
   ],
   "source": [
    "Map2.addLayer(NDVI_2007_sn, vizParams, 'QMsn de NDVI 2007')\n",
    "Map2.addLayer(NDWI_2007_sn, vizParams, 'QMsn de NDWI 2007')\n",
    "Map2.addLayer(SAVI_2007_sn, vizParams, 'QMsn de SAVI 2007')\n",
    "Map2.addLayer(NDGI_2007_sn, vis_nieve, 'QMsn de NDGI 2007')\n",
    "Map2.addLayer(NDSI_2007_sn, vis_nieve, 'QMsn de NDSI 2007')\n",
    "Map2"
   ]
  },
  {
   "cell_type": "markdown",
   "id": "d9e7e175",
   "metadata": {},
   "source": [
    "### 2006"
   ]
  },
  {
   "cell_type": "code",
   "execution_count": 56,
   "id": "80911c97",
   "metadata": {
    "ExecuteTime": {
     "end_time": "2021-10-28T13:03:40.666979Z",
     "start_time": "2021-10-28T13:03:40.664959Z"
    }
   },
   "outputs": [],
   "source": [
    "start_date = '2005-10-01'\n",
    "end_date = '2006-03-31'\n",
    "\n",
    "l5_2006 = ee.ImageCollection('LANDSAT/LT05/C01/T1_TOA') \\\n",
    "    .filterBounds(patagonia_grande) \\\n",
    "    .filterDate(start_date, end_date)"
   ]
  },
  {
   "cell_type": "code",
   "execution_count": 57,
   "id": "596d9609",
   "metadata": {
    "ExecuteTime": {
     "end_time": "2021-10-28T13:03:40.671989Z",
     "start_time": "2021-10-28T13:03:40.668196Z"
    }
   },
   "outputs": [],
   "source": [
    "coleccion2006 = l5_2006.map(addNDVI).map(addNDWI).map(addNDGI).map(addSAVI).map(addNDSI).map(addDate).map(addCloud)"
   ]
  },
  {
   "cell_type": "code",
   "execution_count": 58,
   "id": "67b699eb",
   "metadata": {
    "ExecuteTime": {
     "end_time": "2021-10-28T13:03:40.675451Z",
     "start_time": "2021-10-28T13:03:40.673185Z"
    }
   },
   "outputs": [],
   "source": [
    "QM_NDVI_2006 = coleccion2006.qualityMosaic('B11') # Normalized difference vegetation Index\n",
    "QM_NDWI_2006 = coleccion2006.qualityMosaic('NDWI') # Normalize difference water index\n",
    "QM_SAVI_2006 = coleccion2006.qualityMosaic('SAVI') # Soil Adjusted Vegetation Index \n",
    "QM_NDGI_2006 = coleccion2006.qualityMosaic('NDGI') # Normalized difference glacier index\n",
    "QM_NDSI_2006 = coleccion2006.qualityMosaic('NDSI') # Normalized difference snow index"
   ]
  },
  {
   "cell_type": "code",
   "execution_count": 59,
   "id": "2698dd26",
   "metadata": {
    "ExecuteTime": {
     "end_time": "2021-10-28T13:03:43.416037Z",
     "start_time": "2021-10-28T13:03:40.676487Z"
    }
   },
   "outputs": [],
   "source": [
    "Map3.addLayer(QM_NDVI_2006, vizParams, 'QM de NDVI 2006')\n",
    "Map3.addLayer(QM_NDWI_2006, vizParams, 'QM de NDWI 2006')\n",
    "Map3.addLayer(QM_SAVI_2006, vizParams, 'QM de SAVI 2006')\n",
    "Map3.addLayer(QM_NDGI_2006, vis_nieve, 'QM de NDGI 2006')\n",
    "Map3.addLayer(QM_NDSI_2006, vis_nieve, 'QM de NDSI 2006')\n",
    "# Map3"
   ]
  },
  {
   "cell_type": "code",
   "execution_count": 60,
   "id": "ff28e9e5",
   "metadata": {
    "ExecuteTime": {
     "end_time": "2021-10-28T13:03:43.419514Z",
     "start_time": "2021-10-28T13:03:43.417111Z"
    }
   },
   "outputs": [],
   "source": [
    "c2006_sn = coleccion2006.map(Cloud20)\n",
    "NDVI_2006_sn = c2006_sn.qualityMosaic('B11')\n",
    "NDWI_2006_sn = c2006_sn.qualityMosaic('NDWI')\n",
    "SAVI_2006_sn = c2006_sn.qualityMosaic('SAVI')\n",
    "NDGI_2006_sn = c2006_sn.qualityMosaic('NDGI')\n",
    "NDSI_2006_sn = c2006_sn.qualityMosaic('NDSI')"
   ]
  },
  {
   "cell_type": "code",
   "execution_count": 61,
   "id": "56dedb0c",
   "metadata": {
    "ExecuteTime": {
     "end_time": "2021-10-28T13:03:46.089275Z",
     "start_time": "2021-10-28T13:03:43.420694Z"
    }
   },
   "outputs": [
    {
     "data": {
      "application/vnd.jupyter.widget-view+json": {
       "model_id": "bd0a6f6d977b4cdaa6be6a88701da915",
       "version_major": 2,
       "version_minor": 0
      },
      "text/plain": [
       "Map(center=[-45, -70], controls=(WidgetControl(options=['position', 'transparent_bg'], widget=HBox(children=(T…"
      ]
     },
     "metadata": {},
     "output_type": "display_data"
    }
   ],
   "source": [
    "Map4.addLayer(NDVI_2006_sn, vizParams, 'QMsn de NDVI 2006')\n",
    "Map4.addLayer(NDWI_2006_sn, vizParams, 'QMsn de NDWI 2006')\n",
    "Map4.addLayer(SAVI_2006_sn, vizParams, 'QMsn de SAVI 2006')\n",
    "Map4.addLayer(NDGI_2006_sn, vis_nieve, 'QMsn de NDGI 2006')\n",
    "Map4.addLayer(NDSI_2006_sn, vis_nieve, 'QMsn de NDSI 2006')\n",
    "Map4"
   ]
  },
  {
   "cell_type": "markdown",
   "id": "840d00c3",
   "metadata": {},
   "source": [
    "### 2005"
   ]
  },
  {
   "cell_type": "code",
   "execution_count": 62,
   "id": "8f97e666",
   "metadata": {
    "ExecuteTime": {
     "end_time": "2021-10-28T13:03:46.092047Z",
     "start_time": "2021-10-28T13:03:46.090202Z"
    }
   },
   "outputs": [],
   "source": [
    "start_date = '2004-10-01'\n",
    "end_date = '2005-03-31'\n",
    "\n",
    "l5_2005 = ee.ImageCollection('LANDSAT/LT05/C01/T1_TOA') \\\n",
    "    .filterBounds(patagonia_grande) \\\n",
    "    .filterDate(start_date, end_date)"
   ]
  },
  {
   "cell_type": "code",
   "execution_count": 63,
   "id": "933551b1",
   "metadata": {
    "ExecuteTime": {
     "end_time": "2021-10-28T13:03:46.097441Z",
     "start_time": "2021-10-28T13:03:46.092809Z"
    }
   },
   "outputs": [],
   "source": [
    "coleccion2005 = l5_2005.map(addNDVI).map(addNDWI).map(addNDGI).map(addSAVI).map(addNDSI).map(addDate).map(addCloud)"
   ]
  },
  {
   "cell_type": "code",
   "execution_count": 64,
   "id": "b17be12d",
   "metadata": {
    "ExecuteTime": {
     "end_time": "2021-10-28T13:03:46.100306Z",
     "start_time": "2021-10-28T13:03:46.098417Z"
    }
   },
   "outputs": [],
   "source": [
    "QM_NDVI_2005 = coleccion2005.qualityMosaic('B11') # Normalized difference vegetation Index\n",
    "QM_NDWI_2005 = coleccion2005.qualityMosaic('NDWI') # Normalize difference water index\n",
    "QM_SAVI_2005 = coleccion2005.qualityMosaic('SAVI') # Soil Adjusted Vegetation Index \n",
    "QM_NDGI_2005 = coleccion2005.qualityMosaic('NDGI') # Normalized difference glacier index\n",
    "QM_NDSI_2005 = coleccion2005.qualityMosaic('NDSI') # Normalized difference snow index"
   ]
  },
  {
   "cell_type": "code",
   "execution_count": 65,
   "id": "6ab37322",
   "metadata": {
    "ExecuteTime": {
     "end_time": "2021-10-28T13:03:48.681937Z",
     "start_time": "2021-10-28T13:03:46.101223Z"
    }
   },
   "outputs": [],
   "source": [
    "Map3.addLayer(QM_NDVI_2005, vizParams, 'QM de NDVI 2005')\n",
    "Map3.addLayer(QM_NDWI_2005, vizParams, 'QM de NDWI 2005')\n",
    "Map3.addLayer(QM_SAVI_2005, vizParams, 'QM de SAVI 2005')\n",
    "Map3.addLayer(QM_NDGI_2005, vis_nieve, 'QM de NDGI 2005')\n",
    "Map3.addLayer(QM_NDSI_2005, vis_nieve, 'QM de NDSI 2005')\n",
    "# Map3"
   ]
  },
  {
   "cell_type": "code",
   "execution_count": 66,
   "id": "30b437d8",
   "metadata": {
    "ExecuteTime": {
     "end_time": "2021-10-28T13:03:48.685939Z",
     "start_time": "2021-10-28T13:03:48.683035Z"
    }
   },
   "outputs": [],
   "source": [
    "c2005_sn = coleccion2005.map(Cloud20)\n",
    "NDVI_2005_sn = c2005_sn.qualityMosaic('B11')\n",
    "NDWI_2005_sn = c2005_sn.qualityMosaic('NDWI')\n",
    "SAVI_2005_sn = c2005_sn.qualityMosaic('SAVI')\n",
    "NDGI_2005_sn = c2005_sn.qualityMosaic('NDGI')\n",
    "NDSI_2005_sn = c2005_sn.qualityMosaic('NDSI')"
   ]
  },
  {
   "cell_type": "code",
   "execution_count": 67,
   "id": "183da129",
   "metadata": {
    "ExecuteTime": {
     "end_time": "2021-10-28T13:03:51.243102Z",
     "start_time": "2021-10-28T13:03:48.687246Z"
    }
   },
   "outputs": [
    {
     "data": {
      "application/vnd.jupyter.widget-view+json": {
       "model_id": "bd0a6f6d977b4cdaa6be6a88701da915",
       "version_major": 2,
       "version_minor": 0
      },
      "text/plain": [
       "Map(center=[-45, -70], controls=(WidgetControl(options=['position', 'transparent_bg'], widget=HBox(children=(T…"
      ]
     },
     "metadata": {},
     "output_type": "display_data"
    }
   ],
   "source": [
    "Map4.addLayer(NDVI_2005_sn, vizParams, 'QMsn de NDVI 2005')\n",
    "Map4.addLayer(NDWI_2005_sn, vizParams, 'QMsn de NDWI 2005')\n",
    "Map4.addLayer(SAVI_2005_sn, vizParams, 'QMsn de SAVI 2005')\n",
    "Map4.addLayer(NDGI_2005_sn, vis_nieve, 'QMsn de NDGI 2005')\n",
    "Map4.addLayer(NDSI_2005_sn, vis_nieve, 'QMsn de NDSI 2005')\n",
    "Map4"
   ]
  },
  {
   "cell_type": "markdown",
   "id": "24141155",
   "metadata": {},
   "source": [
    "### 2009 L7"
   ]
  },
  {
   "cell_type": "code",
   "execution_count": 68,
   "id": "546ae4bd",
   "metadata": {
    "ExecuteTime": {
     "end_time": "2021-10-28T13:03:51.246104Z",
     "start_time": "2021-10-28T13:03:51.244018Z"
    }
   },
   "outputs": [],
   "source": [
    "start_date = '2008-10-01'\n",
    "end_date = '2009-03-31'\n",
    "\n",
    "l7_2009 = ee.ImageCollection('LANDSAT/LE07/C01/T1_TOA') \\\n",
    "    .filterBounds(patagonia_grande) \\\n",
    "    .filterDate(start_date, end_date)"
   ]
  },
  {
   "cell_type": "code",
   "execution_count": 69,
   "id": "671d83f5",
   "metadata": {
    "ExecuteTime": {
     "end_time": "2021-10-28T13:03:51.251144Z",
     "start_time": "2021-10-28T13:03:51.247327Z"
    }
   },
   "outputs": [],
   "source": [
    "coleccion_l7_2009 = l7_2009.map(addNDVI7).map(addNDWI).map(addNDGI).map(addSAVI).map(addNDSI).map(addDate).map(addCloud)"
   ]
  },
  {
   "cell_type": "code",
   "execution_count": 70,
   "id": "868510a8",
   "metadata": {
    "ExecuteTime": {
     "end_time": "2021-10-28T13:03:51.254001Z",
     "start_time": "2021-10-28T13:03:51.252305Z"
    }
   },
   "outputs": [],
   "source": [
    "coleccion_l7_2009 = coleccion_l7_2009.set('SENSOR_ID', 'OLI_TIRS')"
   ]
  },
  {
   "cell_type": "code",
   "execution_count": 71,
   "id": "f2a33ba2",
   "metadata": {
    "ExecuteTime": {
     "end_time": "2021-10-28T13:03:51.257091Z",
     "start_time": "2021-10-28T13:03:51.254931Z"
    }
   },
   "outputs": [],
   "source": [
    "QM_NDVI_2009_l7 = coleccion_l7_2009.qualityMosaic('NDVI') # Normalized difference vegetation Index\n",
    "QM_NDWI_2009_l7 = coleccion_l7_2009.qualityMosaic('NDWI') # Normalize difference water index\n",
    "QM_SAVI_2009_l7 = coleccion_l7_2009.qualityMosaic('SAVI') # Soil Adjusted Vegetation Index \n",
    "QM_NDGI_2009_l7 = coleccion_l7_2009.qualityMosaic('NDGI') # Normalized difference glacier index\n",
    "QM_NDSI_2009_l7 = coleccion_l7_2009.qualityMosaic('NDSI') # Normalized difference snow index"
   ]
  },
  {
   "cell_type": "code",
   "execution_count": 72,
   "id": "370670f2",
   "metadata": {
    "ExecuteTime": {
     "end_time": "2021-10-28T13:03:53.845708Z",
     "start_time": "2021-10-28T13:03:51.258068Z"
    }
   },
   "outputs": [],
   "source": [
    "Map5.addLayer(QM_NDVI_2009_l7, vizParams, 'QM de NDVI 2009_l7')\n",
    "Map5.addLayer(QM_NDWI_2009_l7, vizParams, 'QM de NDWI 2009_l7')\n",
    "Map5.addLayer(QM_SAVI_2009_l7, vizParams, 'QM de SAVI 2009_l7')\n",
    "Map5.addLayer(QM_NDGI_2009_l7, vis_nieve, 'QM de NDGI 2009_l7')\n",
    "Map5.addLayer(QM_NDSI_2009_l7, vis_nieve, 'QM de NDSI 2009_l7')\n",
    "# Map5"
   ]
  },
  {
   "cell_type": "code",
   "execution_count": 73,
   "id": "e0d06d58",
   "metadata": {
    "ExecuteTime": {
     "end_time": "2021-10-28T13:03:53.849422Z",
     "start_time": "2021-10-28T13:03:53.846839Z"
    }
   },
   "outputs": [],
   "source": [
    "c2009_l7_sn = coleccion_l7_2009.map(Cloud20)\n",
    "NDVI_2009_l7_sn = c2009_l7_sn.qualityMosaic('NDVI')\n",
    "NDWI_2009_l7_sn = c2009_l7_sn.qualityMosaic('NDWI')\n",
    "SAVI_2009_l7_sn = c2009_l7_sn.qualityMosaic('SAVI')\n",
    "NDGI_2009_l7_sn = c2009_l7_sn.qualityMosaic('NDGI')\n",
    "NDSI_2009_l7_sn = c2009_l7_sn.qualityMosaic('NDSI')"
   ]
  },
  {
   "cell_type": "code",
   "execution_count": 74,
   "id": "a908e3c7",
   "metadata": {
    "ExecuteTime": {
     "end_time": "2021-10-28T13:03:56.455743Z",
     "start_time": "2021-10-28T13:03:53.850642Z"
    }
   },
   "outputs": [
    {
     "data": {
      "application/vnd.jupyter.widget-view+json": {
       "model_id": "cbfefd9465364fdcb4caaa7b91fa1071",
       "version_major": 2,
       "version_minor": 0
      },
      "text/plain": [
       "Map(center=[-45, -70], controls=(WidgetControl(options=['position', 'transparent_bg'], widget=HBox(children=(T…"
      ]
     },
     "metadata": {},
     "output_type": "display_data"
    }
   ],
   "source": [
    "Map6.addLayer(NDVI_2009_l7_sn, vizParams, 'QMsn de NDVI 2009_l7')\n",
    "Map6.addLayer(NDWI_2009_l7_sn, vizParams, 'QMsn de NDWI 2009_l7')\n",
    "Map6.addLayer(SAVI_2009_l7_sn, vizParams, 'QMsn de SAVI 2009_l7')\n",
    "Map6.addLayer(NDGI_2009_l7_sn, vis_nieve, 'QMsn de NDGI 2009_l7')\n",
    "Map6.addLayer(NDSI_2009_l7_sn, vis_nieve, 'QMsn de NDSI 2009_l7')\n",
    "Map6"
   ]
  },
  {
   "cell_type": "markdown",
   "id": "19f59336",
   "metadata": {},
   "source": [
    "### 2008 L7"
   ]
  },
  {
   "cell_type": "code",
   "execution_count": 75,
   "id": "2d8f44b8",
   "metadata": {
    "ExecuteTime": {
     "end_time": "2021-10-28T13:03:56.458684Z",
     "start_time": "2021-10-28T13:03:56.456776Z"
    }
   },
   "outputs": [],
   "source": [
    "start_date = '2007-10-01'\n",
    "end_date = '2008-03-31'\n",
    "\n",
    "l7_2008 = ee.ImageCollection('LANDSAT/LE07/C01/T1_TOA') \\\n",
    "    .filterBounds(patagonia_grande) \\\n",
    "    .filterDate(start_date, end_date)"
   ]
  },
  {
   "cell_type": "code",
   "execution_count": 76,
   "id": "e5f94824",
   "metadata": {
    "ExecuteTime": {
     "end_time": "2021-10-28T13:03:56.463617Z",
     "start_time": "2021-10-28T13:03:56.459843Z"
    }
   },
   "outputs": [],
   "source": [
    "coleccion_l7_2008 = l7_2008.map(addNDVI7).map(addNDWI).map(addNDGI).map(addSAVI).map(addNDSI).map(addDate).map(addCloud)"
   ]
  },
  {
   "cell_type": "code",
   "execution_count": 77,
   "id": "ab3ed17f",
   "metadata": {
    "ExecuteTime": {
     "end_time": "2021-10-28T13:03:56.466321Z",
     "start_time": "2021-10-28T13:03:56.464705Z"
    }
   },
   "outputs": [],
   "source": [
    "coleccion_l7_2008 = coleccion_l7_2008.set('SENSOR_ID', 'OLI_TIRS')"
   ]
  },
  {
   "cell_type": "code",
   "execution_count": 78,
   "id": "452d3007",
   "metadata": {
    "ExecuteTime": {
     "end_time": "2021-10-28T13:03:56.469229Z",
     "start_time": "2021-10-28T13:03:56.467312Z"
    }
   },
   "outputs": [],
   "source": [
    "QM_NDVI_2008_l7 = coleccion_l7_2008.qualityMosaic('NDVI') # Normalized difference vegetation Index\n",
    "QM_NDWI_2008_l7 = coleccion_l7_2008.qualityMosaic('NDWI') # Normalize difference water index\n",
    "QM_SAVI_2008_l7 = coleccion_l7_2008.qualityMosaic('SAVI') # Soil Adjusted Vegetation Index \n",
    "QM_NDGI_2008_l7 = coleccion_l7_2008.qualityMosaic('NDGI') # Normalized difference glacier index\n",
    "QM_NDSI_2008_l7 = coleccion_l7_2008.qualityMosaic('NDSI') # Normalized difference snow index"
   ]
  },
  {
   "cell_type": "code",
   "execution_count": 79,
   "id": "cf1389b6",
   "metadata": {
    "ExecuteTime": {
     "end_time": "2021-10-28T13:03:59.077959Z",
     "start_time": "2021-10-28T13:03:56.470422Z"
    }
   },
   "outputs": [
    {
     "data": {
      "application/vnd.jupyter.widget-view+json": {
       "model_id": "d549958c67d54ac98dad68fb2e4f7a37",
       "version_major": 2,
       "version_minor": 0
      },
      "text/plain": [
       "Map(center=[-45, -70], controls=(WidgetControl(options=['position', 'transparent_bg'], widget=HBox(children=(T…"
      ]
     },
     "metadata": {},
     "output_type": "display_data"
    }
   ],
   "source": [
    "Map5.addLayer(QM_NDVI_2008_l7, vizParams, 'QM de NDVI 2008_l7')\n",
    "Map5.addLayer(QM_NDWI_2008_l7, vizParams, 'QM de NDWI 2008_l7')\n",
    "Map5.addLayer(QM_SAVI_2008_l7, vizParams, 'QM de SAVI 2008_l7')\n",
    "Map5.addLayer(QM_NDGI_2008_l7, vis_nieve, 'QM de NDGI 2008_l7')\n",
    "Map5.addLayer(QM_NDSI_2008_l7, vis_nieve, 'QM de NDSI 2008_l7')\n",
    "Map5"
   ]
  },
  {
   "cell_type": "code",
   "execution_count": 80,
   "id": "6a7d5ff4",
   "metadata": {
    "ExecuteTime": {
     "end_time": "2021-10-28T13:03:59.081398Z",
     "start_time": "2021-10-28T13:03:59.078845Z"
    }
   },
   "outputs": [],
   "source": [
    "c2008_l7_sn = coleccion_l7_2008.map(Cloud20)\n",
    "NDVI_2008_l7_sn = c2008_l7_sn.qualityMosaic('NDVI')\n",
    "NDWI_2008_l7_sn = c2008_l7_sn.qualityMosaic('NDWI')\n",
    "SAVI_2008_l7_sn = c2008_l7_sn.qualityMosaic('SAVI')\n",
    "NDGI_2008_l7_sn = c2008_l7_sn.qualityMosaic('NDGI')\n",
    "NDSI_2008_l7_sn = c2008_l7_sn.qualityMosaic('NDSI')"
   ]
  },
  {
   "cell_type": "code",
   "execution_count": 81,
   "id": "ec851683",
   "metadata": {
    "ExecuteTime": {
     "end_time": "2021-10-28T13:04:01.878580Z",
     "start_time": "2021-10-28T13:03:59.082413Z"
    }
   },
   "outputs": [
    {
     "data": {
      "application/vnd.jupyter.widget-view+json": {
       "model_id": "cbfefd9465364fdcb4caaa7b91fa1071",
       "version_major": 2,
       "version_minor": 0
      },
      "text/plain": [
       "Map(center=[-45, -70], controls=(WidgetControl(options=['position', 'transparent_bg'], widget=HBox(children=(T…"
      ]
     },
     "metadata": {},
     "output_type": "display_data"
    }
   ],
   "source": [
    "Map6.addLayer(NDVI_2008_l7_sn, vizParams, 'QMsn de NDVI 2008_l7')\n",
    "Map6.addLayer(NDWI_2008_l7_sn, vizParams, 'QMsn de NDWI 2008_l7')\n",
    "Map6.addLayer(SAVI_2008_l7_sn, vizParams, 'QMsn de SAVI 2008_l7')\n",
    "Map6.addLayer(NDGI_2008_l7_sn, vis_nieve, 'QMsn de NDGI 2008_l7')\n",
    "Map6.addLayer(NDSI_2008_l7_sn, vis_nieve, 'QMsn de NDSI 2008_l7')\n",
    "Map6"
   ]
  },
  {
   "cell_type": "markdown",
   "id": "4f69c36f",
   "metadata": {},
   "source": [
    "### 2007 L7"
   ]
  },
  {
   "cell_type": "code",
   "execution_count": 82,
   "id": "a817f842",
   "metadata": {
    "ExecuteTime": {
     "end_time": "2021-10-28T13:04:01.886493Z",
     "start_time": "2021-10-28T13:04:01.884453Z"
    }
   },
   "outputs": [],
   "source": [
    "start_date = '2006-10-01'\n",
    "end_date = '2007-03-31'\n",
    "\n",
    "l7_2007 = ee.ImageCollection('LANDSAT/LE07/C01/T1_TOA') \\\n",
    "    .filterBounds(patagonia_grande) \\\n",
    "    .filterDate(start_date, end_date)"
   ]
  },
  {
   "cell_type": "code",
   "execution_count": 83,
   "id": "815566d1",
   "metadata": {
    "ExecuteTime": {
     "end_time": "2021-10-28T13:04:01.891863Z",
     "start_time": "2021-10-28T13:04:01.887757Z"
    }
   },
   "outputs": [],
   "source": [
    "coleccion_l7_2007 = l7_2007.map(addNDVI7).map(addNDWI).map(addNDGI).map(addSAVI).map(addNDSI).map(addDate).map(addCloud)"
   ]
  },
  {
   "cell_type": "code",
   "execution_count": 84,
   "id": "33ff1e34",
   "metadata": {
    "ExecuteTime": {
     "end_time": "2021-10-28T13:04:01.895241Z",
     "start_time": "2021-10-28T13:04:01.893069Z"
    }
   },
   "outputs": [],
   "source": [
    "QM_NDVI_2007_l7 = coleccion_l7_2007.qualityMosaic('NDVI') # Normalized difference vegetation Index\n",
    "QM_NDWI_2007_l7 = coleccion_l7_2007.qualityMosaic('NDWI') # Normalize difference water index\n",
    "QM_SAVI_2007_l7 = coleccion_l7_2007.qualityMosaic('SAVI') # Soil Adjusted Vegetation Index \n",
    "QM_NDGI_2007_l7 = coleccion_l7_2007.qualityMosaic('NDGI') # Normalized difference glacier index\n",
    "QM_NDSI_2007_l7 = coleccion_l7_2007.qualityMosaic('NDSI') # Normalized difference snow index"
   ]
  },
  {
   "cell_type": "code",
   "execution_count": 85,
   "id": "1e28dffd",
   "metadata": {
    "ExecuteTime": {
     "end_time": "2021-10-28T13:04:04.604695Z",
     "start_time": "2021-10-28T13:04:01.896538Z"
    }
   },
   "outputs": [],
   "source": [
    "Map5.addLayer(QM_NDVI_2007_l7, vizParams, 'QM de NDVI 2007_l7')\n",
    "Map5.addLayer(QM_NDWI_2007_l7, vizParams, 'QM de NDWI 2007_l7')\n",
    "Map5.addLayer(QM_SAVI_2007_l7, vizParams, 'QM de SAVI 2007_l7')\n",
    "Map5.addLayer(QM_NDGI_2007_l7, vis_nieve, 'QM de NDGI 2007_l7')\n",
    "Map5.addLayer(QM_NDSI_2007_l7, vis_nieve, 'QM de NDSI 2007_l7')\n",
    "# Map5"
   ]
  },
  {
   "cell_type": "code",
   "execution_count": 86,
   "id": "2f07d694",
   "metadata": {
    "ExecuteTime": {
     "end_time": "2021-10-28T13:04:04.608216Z",
     "start_time": "2021-10-28T13:04:04.605632Z"
    }
   },
   "outputs": [],
   "source": [
    "c2007_l7_sn = coleccion_l7_2007.map(Cloud20)\n",
    "NDVI_2007_l7_sn = c2007_l7_sn.qualityMosaic('NDVI')\n",
    "NDWI_2007_l7_sn = c2007_l7_sn.qualityMosaic('NDWI')\n",
    "SAVI_2007_l7_sn = c2007_l7_sn.qualityMosaic('SAVI')\n",
    "NDGI_2007_l7_sn = c2007_l7_sn.qualityMosaic('NDGI')\n",
    "NDSI_2007_l7_sn = c2007_l7_sn.qualityMosaic('NDSI')"
   ]
  },
  {
   "cell_type": "code",
   "execution_count": 87,
   "id": "0e26e3a5",
   "metadata": {
    "ExecuteTime": {
     "end_time": "2021-10-28T13:04:07.134810Z",
     "start_time": "2021-10-28T13:04:04.609428Z"
    }
   },
   "outputs": [
    {
     "data": {
      "application/vnd.jupyter.widget-view+json": {
       "model_id": "cbfefd9465364fdcb4caaa7b91fa1071",
       "version_major": 2,
       "version_minor": 0
      },
      "text/plain": [
       "Map(center=[-45, -70], controls=(WidgetControl(options=['position', 'transparent_bg'], widget=HBox(children=(T…"
      ]
     },
     "metadata": {},
     "output_type": "display_data"
    }
   ],
   "source": [
    "Map6.addLayer(NDVI_2007_l7_sn, vizParams, 'QMsn de NDVI 2007_l7')\n",
    "Map6.addLayer(NDWI_2007_l7_sn, vizParams, 'QMsn de NDWI 2007_l7')\n",
    "Map6.addLayer(SAVI_2007_l7_sn, vizParams, 'QMsn de SAVI 2007_l7')\n",
    "Map6.addLayer(NDGI_2007_l7_sn, vis_nieve, 'QMsn de NDGI 2007_l7')\n",
    "Map6.addLayer(NDSI_2007_l7_sn, vis_nieve, 'QMsn de NDSI 2007_l7')\n",
    "Map6"
   ]
  },
  {
   "cell_type": "markdown",
   "id": "36356b0d",
   "metadata": {},
   "source": [
    "### 2006 L7"
   ]
  },
  {
   "cell_type": "code",
   "execution_count": 88,
   "id": "d9779e07",
   "metadata": {
    "ExecuteTime": {
     "end_time": "2021-10-28T13:04:07.137569Z",
     "start_time": "2021-10-28T13:04:07.135723Z"
    }
   },
   "outputs": [],
   "source": [
    "start_date = '2005-10-01'\n",
    "end_date = '2006-03-31'\n",
    "\n",
    "l7_2006 = ee.ImageCollection('LANDSAT/LE07/C01/T1_TOA') \\\n",
    "    .filterBounds(patagonia_grande) \\\n",
    "    .filterDate(start_date, end_date)"
   ]
  },
  {
   "cell_type": "code",
   "execution_count": 89,
   "id": "e97b8a3f",
   "metadata": {
    "ExecuteTime": {
     "end_time": "2021-10-28T13:04:07.142310Z",
     "start_time": "2021-10-28T13:04:07.138885Z"
    }
   },
   "outputs": [],
   "source": [
    "coleccion_l7_2006 = l7_2006.map(addNDVI7).map(addNDWI).map(addNDGI).map(addSAVI).map(addNDSI).map(addDate).map(addCloud)"
   ]
  },
  {
   "cell_type": "code",
   "execution_count": 90,
   "id": "8c15e974",
   "metadata": {
    "ExecuteTime": {
     "end_time": "2021-10-28T13:04:07.145465Z",
     "start_time": "2021-10-28T13:04:07.143457Z"
    }
   },
   "outputs": [],
   "source": [
    "QM_NDVI_2006_l7 = coleccion_l7_2006.qualityMosaic('NDVI') # Normalized difference vegetation Index\n",
    "QM_NDWI_2006_l7 = coleccion_l7_2006.qualityMosaic('NDWI') # Normalize difference water index\n",
    "QM_SAVI_2006_l7 = coleccion_l7_2006.qualityMosaic('SAVI') # Soil Adjusted Vegetation Index \n",
    "QM_NDGI_2006_l7 = coleccion_l7_2006.qualityMosaic('NDGI') # Normalized difference glacier index\n",
    "QM_NDSI_2006_l7 = coleccion_l7_2006.qualityMosaic('NDSI') # Normalized difference snow index"
   ]
  },
  {
   "cell_type": "code",
   "execution_count": 91,
   "id": "cdb313e2",
   "metadata": {
    "ExecuteTime": {
     "end_time": "2021-10-28T13:04:09.775417Z",
     "start_time": "2021-10-28T13:04:07.146275Z"
    }
   },
   "outputs": [],
   "source": [
    "Map5.addLayer(QM_NDVI_2006_l7, vizParams, 'QM de NDVI 2006_l7')\n",
    "Map5.addLayer(QM_NDWI_2006_l7, vizParams, 'QM de NDWI 2006_l7')\n",
    "Map5.addLayer(QM_SAVI_2006_l7, vizParams, 'QM de SAVI 2006_l7')\n",
    "Map5.addLayer(QM_NDGI_2006_l7, vis_nieve, 'QM de NDGI 2006_l7')\n",
    "Map5.addLayer(QM_NDSI_2006_l7, vis_nieve, 'QM de NDSI 2006_l7')\n",
    "# Map5"
   ]
  },
  {
   "cell_type": "code",
   "execution_count": 92,
   "id": "9819ceea",
   "metadata": {
    "ExecuteTime": {
     "end_time": "2021-10-28T13:04:09.778701Z",
     "start_time": "2021-10-28T13:04:09.776307Z"
    }
   },
   "outputs": [],
   "source": [
    "c2006_l7_sn = coleccion_l7_2006.map(Cloud20)\n",
    "NDVI_2006_l7_sn = c2006_l7_sn.qualityMosaic('NDVI')\n",
    "NDWI_2006_l7_sn = c2006_l7_sn.qualityMosaic('NDWI')\n",
    "SAVI_2006_l7_sn = c2006_l7_sn.qualityMosaic('SAVI')\n",
    "NDGI_2006_l7_sn = c2006_l7_sn.qualityMosaic('NDGI')\n",
    "NDSI_2006_l7_sn = c2006_l7_sn.qualityMosaic('NDSI')"
   ]
  },
  {
   "cell_type": "code",
   "execution_count": 93,
   "id": "507a4780",
   "metadata": {
    "ExecuteTime": {
     "end_time": "2021-10-28T13:04:09.781565Z",
     "start_time": "2021-10-28T13:04:09.779884Z"
    }
   },
   "outputs": [],
   "source": [
    "# Map8.addLayer(NDVI_2006_l7_sn, vizParams, 'QMsn de NDVI 2006_l7')\n",
    "# Map8.addLayer(NDWI_2006_l7_sn, vizParams, 'QMsn de NDWI 2006_l7')\n",
    "# Map8.addLayer(SAVI_2006_l7_sn, vizParams, 'QMsn de SAVI 2006_l7')\n",
    "# Map8.addLayer(NDGI_2006_l7_sn, vis_nieve, 'QMsn de NDGI 2006_l7')\n",
    "# Map8.addLayer(NDSI_2006_l7_sn, vis_nieve, 'QMsn de NDSI 2006_l7')\n",
    "# Map8"
   ]
  },
  {
   "cell_type": "markdown",
   "id": "d379e7db",
   "metadata": {},
   "source": [
    "### 2006-2009 Colección"
   ]
  },
  {
   "cell_type": "code",
   "execution_count": 94,
   "id": "cb964937",
   "metadata": {
    "ExecuteTime": {
     "end_time": "2021-10-28T13:04:09.784332Z",
     "start_time": "2021-10-28T13:04:09.782720Z"
    }
   },
   "outputs": [],
   "source": [
    "coleccion2006_2009 = ee.ImageCollection(l7_2009.merge(l7_2008).merge(l7_2007).merge(l7_2006))"
   ]
  },
  {
   "cell_type": "code",
   "execution_count": 95,
   "id": "6d3e4bac",
   "metadata": {
    "ExecuteTime": {
     "end_time": "2021-10-28T13:04:09.787190Z",
     "start_time": "2021-10-28T13:04:09.785382Z"
    }
   },
   "outputs": [],
   "source": [
    "coleccion2006_2009_l5 = ee.ImageCollection(l5_2009.merge(l5_2008).merge(l5_2007).merge(l5_2006).merge(l5_2005))"
   ]
  },
  {
   "cell_type": "code",
   "execution_count": 96,
   "id": "c6ca746f",
   "metadata": {
    "ExecuteTime": {
     "end_time": "2021-10-28T13:04:09.791873Z",
     "start_time": "2021-10-28T13:04:09.788228Z"
    }
   },
   "outputs": [],
   "source": [
    "l7_summer = coleccion2006_2009.map(addNDVI7).map(addNDWI).map(addNDGI).map(addSAVI).map(addNDSI).map(addDate).map(addCloud)"
   ]
  },
  {
   "cell_type": "code",
   "execution_count": 97,
   "id": "dd601bba",
   "metadata": {
    "ExecuteTime": {
     "end_time": "2021-10-28T13:04:09.796645Z",
     "start_time": "2021-10-28T13:04:09.792966Z"
    }
   },
   "outputs": [],
   "source": [
    "l5_summer = coleccion2006_2009_l5.map(addNDVI).map(addNDWI).map(addNDGI).map(addSAVI).map(addNDSI).map(addDate).map(addCloud)"
   ]
  },
  {
   "cell_type": "markdown",
   "id": "be4bfba3",
   "metadata": {},
   "source": [
    "### Tier 1"
   ]
  },
  {
   "cell_type": "code",
   "execution_count": 98,
   "id": "7cf131d3",
   "metadata": {
    "ExecuteTime": {
     "end_time": "2021-10-28T13:04:09.799536Z",
     "start_time": "2021-10-28T13:04:09.797787Z"
    }
   },
   "outputs": [],
   "source": [
    "Tier1_l5_sn = l5_summer.map(Cloud10)"
   ]
  },
  {
   "cell_type": "code",
   "execution_count": 99,
   "id": "19ec44bd",
   "metadata": {
    "ExecuteTime": {
     "end_time": "2021-10-28T13:04:09.802770Z",
     "start_time": "2021-10-28T13:04:09.800676Z"
    }
   },
   "outputs": [],
   "source": [
    "QM_NDVI_T1_l5 = Tier1_l5_sn.qualityMosaic('B11')# Normalized difference vegetation Index\n",
    "QM_NDWI_T1_l5 = Tier1_l5_sn.qualityMosaic('NDWI') # Normalize difference water index\n",
    "QM_SAVI_T1_l5 = Tier1_l5_sn.qualityMosaic('SAVI') # Soil Adjusted Vegetation Index \n",
    "QM_NDGI_T1_l5 = Tier1_l5_sn.qualityMosaic('NDGI') # Normalized difference glacier index\n",
    "QM_NDSI_T1_l5 = Tier1_l5_sn.qualityMosaic('NDSI') # Normalized difference snow index"
   ]
  },
  {
   "cell_type": "code",
   "execution_count": 100,
   "id": "c3ce326a",
   "metadata": {
    "ExecuteTime": {
     "end_time": "2021-10-28T13:04:09.805778Z",
     "start_time": "2021-10-28T13:04:09.803906Z"
    }
   },
   "outputs": [],
   "source": [
    "T_median = Tier1_l5_sn.median()"
   ]
  },
  {
   "cell_type": "code",
   "execution_count": 234,
   "id": "1f50e82b",
   "metadata": {
    "ExecuteTime": {
     "end_time": "2021-10-28T15:29:59.222020Z",
     "start_time": "2021-10-28T15:29:56.952942Z"
    }
   },
   "outputs": [
    {
     "data": {
      "application/vnd.jupyter.widget-view+json": {
       "model_id": "6064fe9c833f4836a8c76ceff14987a3",
       "version_major": 2,
       "version_minor": 0
      },
      "text/plain": [
       "Map(bottom=2923.0, center=[-45, -70], controls=(WidgetControl(options=['position', 'transparent_bg'], widget=H…"
      ]
     },
     "metadata": {},
     "output_type": "display_data"
    }
   ],
   "source": [
    "Map2.addLayer(QM_NDVI_T1_l5, vizParams, 'QM de NDVI T1 L5')\n",
    "Map2.addLayer(QM_NDWI_T1_l5, vizParams, 'QM de NDWI T1 L5')\n",
    "Map2.addLayer(T_median, vizParams, 'mediana')\n",
    "Map2 "
   ]
  },
  {
   "cell_type": "code",
   "execution_count": 102,
   "id": "1ecf6c6c",
   "metadata": {
    "ExecuteTime": {
     "end_time": "2021-10-28T13:04:10.854168Z",
     "start_time": "2021-10-28T13:04:10.852209Z"
    }
   },
   "outputs": [],
   "source": [
    "Tier1_sn = l7_summer.map(Cloud10)"
   ]
  },
  {
   "cell_type": "code",
   "execution_count": 103,
   "id": "9296c453",
   "metadata": {
    "ExecuteTime": {
     "end_time": "2021-10-28T13:04:10.857471Z",
     "start_time": "2021-10-28T13:04:10.855349Z"
    }
   },
   "outputs": [],
   "source": [
    "QM_NDVI_T1 = Tier1_sn.qualityMosaic('NDVI')# Normalized difference vegetation Index\n",
    "QM_NDWI_T1 = Tier1_sn.qualityMosaic('NDWI') # Normalize difference water index\n",
    "QM_SAVI_T1 = Tier1_sn.qualityMosaic('SAVI') # Soil Adjusted Vegetation Index \n",
    "QM_NDGI_T1 = Tier1_sn.qualityMosaic('NDGI') # Normalized difference glacier index\n",
    "QM_NDSI_T1 = Tier1_sn.qualityMosaic('NDSI') # Normalized difference snow index"
   ]
  },
  {
   "cell_type": "code",
   "execution_count": 104,
   "id": "72a28a5a",
   "metadata": {
    "ExecuteTime": {
     "end_time": "2021-10-28T13:04:11.310713Z",
     "start_time": "2021-10-28T13:04:10.858650Z"
    }
   },
   "outputs": [
    {
     "data": {
      "application/vnd.jupyter.widget-view+json": {
       "model_id": "6064fe9c833f4836a8c76ceff14987a3",
       "version_major": 2,
       "version_minor": 0
      },
      "text/plain": [
       "Map(center=[-45, -70], controls=(WidgetControl(options=['position', 'transparent_bg'], widget=HBox(children=(T…"
      ]
     },
     "metadata": {},
     "output_type": "display_data"
    }
   ],
   "source": [
    "Map2.addLayer(QM_NDVI_T1, vizParams, 'QM de NDVI T1')\n",
    "# Map2.addLayer(QM_NDWI_T1, vizParams, 'QM de NDWI T1')\n",
    "# Map2.addLayer(QM_SAVI_T1, vizParams, 'QM de SAVI T1')\n",
    "# Map2.addLayer(QM_NDGI_T1, vis_nieve, 'QM de NDGI T1')\n",
    "# Map2.addLayer(QM_NDSI_T1, vis_nieve, 'QM de NDSI T1')\n",
    "Map2 "
   ]
  },
  {
   "cell_type": "markdown",
   "id": "2884a8b8",
   "metadata": {},
   "source": [
    "### Tier 2"
   ]
  },
  {
   "cell_type": "code",
   "execution_count": 105,
   "id": "5963584f",
   "metadata": {
    "ExecuteTime": {
     "end_time": "2021-10-28T13:04:11.313702Z",
     "start_time": "2021-10-28T13:04:11.311651Z"
    }
   },
   "outputs": [],
   "source": [
    "Tier2_l5_sn = l5_summer.map(Cloud20)"
   ]
  },
  {
   "cell_type": "code",
   "execution_count": 106,
   "id": "78541c2c",
   "metadata": {
    "ExecuteTime": {
     "end_time": "2021-10-28T13:04:11.317233Z",
     "start_time": "2021-10-28T13:04:11.315041Z"
    }
   },
   "outputs": [],
   "source": [
    "QM_NDVI_T2_l5 = Tier2_l5_sn.qualityMosaic('B11')# Normalized difference vegetation Index\n",
    "QM_NDWI_T2_l5 = Tier2_l5_sn.qualityMosaic('NDWI') # Normalize difference water index\n",
    "QM_SAVI_T2_l5 = Tier2_l5_sn.qualityMosaic('SAVI') # Soil Adjusted Vegetation Index \n",
    "QM_NDGI_T2_l5 = Tier2_l5_sn.qualityMosaic('NDGI') # Normalized difference glacier index\n",
    "QM_NDSI_T2_l5 = Tier2_l5_sn.qualityMosaic('NDSI') # Normalized difference snow index"
   ]
  },
  {
   "cell_type": "code",
   "execution_count": 107,
   "id": "cb006b10",
   "metadata": {
    "ExecuteTime": {
     "end_time": "2021-10-28T13:04:11.319935Z",
     "start_time": "2021-10-28T13:04:11.318371Z"
    }
   },
   "outputs": [],
   "source": [
    "T2_median = Tier2_l5_sn.median()"
   ]
  },
  {
   "cell_type": "code",
   "execution_count": 108,
   "id": "3a5f325d",
   "metadata": {
    "ExecuteTime": {
     "end_time": "2021-10-28T13:04:11.322825Z",
     "start_time": "2021-10-28T13:04:11.321052Z"
    }
   },
   "outputs": [],
   "source": [
    "Tier2_sn = l7_summer.map(Cloud20)"
   ]
  },
  {
   "cell_type": "code",
   "execution_count": 109,
   "id": "4707f7e8",
   "metadata": {
    "ExecuteTime": {
     "end_time": "2021-10-28T13:04:11.326341Z",
     "start_time": "2021-10-28T13:04:11.323870Z"
    }
   },
   "outputs": [],
   "source": [
    "QM_NDVI_T2 = Tier2_sn.qualityMosaic('NDVI')# Normalized difference vegetation Index\n",
    "QM_NDWI_T2 = Tier2_sn.qualityMosaic('NDWI') # Normalize difference water index\n",
    "QM_SAVI_T2 = Tier2_sn.qualityMosaic('SAVI') # Soil Adjusted Vegetation Index \n",
    "QM_NDGI_T2 = Tier2_sn.qualityMosaic('NDGI') # Normalized difference glacier index\n",
    "QM_NDSI_T2 = Tier2_sn.qualityMosaic('NDSI') # Normalized difference snow index"
   ]
  },
  {
   "cell_type": "code",
   "execution_count": null,
   "id": "d3f273ca",
   "metadata": {},
   "outputs": [],
   "source": []
  },
  {
   "cell_type": "markdown",
   "id": "c2d4ae42",
   "metadata": {},
   "source": [
    "### Tier 3"
   ]
  },
  {
   "cell_type": "code",
   "execution_count": 110,
   "id": "e42261a9",
   "metadata": {
    "ExecuteTime": {
     "end_time": "2021-10-28T13:04:11.329328Z",
     "start_time": "2021-10-28T13:04:11.327379Z"
    }
   },
   "outputs": [],
   "source": [
    "Tier3_l5_sn = l5_summer.map(Cloud30)"
   ]
  },
  {
   "cell_type": "code",
   "execution_count": 111,
   "id": "8bfe5b09",
   "metadata": {
    "ExecuteTime": {
     "end_time": "2021-10-28T13:04:11.332997Z",
     "start_time": "2021-10-28T13:04:11.330289Z"
    }
   },
   "outputs": [],
   "source": [
    "QM_NDVI_T3_l5 = Tier3_l5_sn.qualityMosaic('B11')# Normalized difference vegetation Index\n",
    "QM_NDWI_T3_l5 = Tier3_l5_sn.qualityMosaic('NDWI') # Normalize difference water index\n",
    "QM_SAVI_T3_l5 = Tier3_l5_sn.qualityMosaic('SAVI') # Soil Adjusted Vegetation Index \n",
    "QM_NDGI_T3_l5 = Tier3_l5_sn.qualityMosaic('NDGI') # Normalized difference glacier index\n",
    "QM_NDSI_T3_l5 = Tier3_l5_sn.qualityMosaic('NDSI') # Normalized difference snow index"
   ]
  },
  {
   "cell_type": "code",
   "execution_count": 112,
   "id": "4c2c696d",
   "metadata": {
    "ExecuteTime": {
     "end_time": "2021-10-28T13:04:11.336260Z",
     "start_time": "2021-10-28T13:04:11.334283Z"
    }
   },
   "outputs": [],
   "source": [
    "T3_median = Tier3_l5_sn.median()"
   ]
  },
  {
   "cell_type": "code",
   "execution_count": 113,
   "id": "3ab15dfb",
   "metadata": {
    "ExecuteTime": {
     "end_time": "2021-10-28T13:04:11.339459Z",
     "start_time": "2021-10-28T13:04:11.337539Z"
    }
   },
   "outputs": [],
   "source": [
    "Tier3_sn = l7_summer.map(Cloud30)"
   ]
  },
  {
   "cell_type": "code",
   "execution_count": 114,
   "id": "cd65ca0f",
   "metadata": {
    "ExecuteTime": {
     "end_time": "2021-10-28T13:04:11.342483Z",
     "start_time": "2021-10-28T13:04:11.340526Z"
    }
   },
   "outputs": [],
   "source": [
    "QM_NDVI_T3 = Tier3_sn.qualityMosaic('NDVI')# Normalized difference vegetation Index\n",
    "QM_NDWI_T3 = Tier3_sn.qualityMosaic('NDWI') # Normalize difference water index\n",
    "QM_SAVI_T3 = Tier3_sn.qualityMosaic('SAVI') # Soil Adjusted Vegetation Index \n",
    "QM_NDGI_T3 = Tier3_sn.qualityMosaic('NDGI') # Normalized difference glacier index\n",
    "QM_NDSI_T3 = Tier3_sn.qualityMosaic('NDSI') # Normalized difference snow index"
   ]
  },
  {
   "cell_type": "code",
   "execution_count": null,
   "id": "83210bf4",
   "metadata": {},
   "outputs": [],
   "source": []
  },
  {
   "cell_type": "markdown",
   "id": "5e4e9dd1",
   "metadata": {},
   "source": [
    "### Tier 4"
   ]
  },
  {
   "cell_type": "code",
   "execution_count": 115,
   "id": "d578116f",
   "metadata": {
    "ExecuteTime": {
     "end_time": "2021-10-28T13:04:11.345401Z",
     "start_time": "2021-10-28T13:04:11.343518Z"
    }
   },
   "outputs": [],
   "source": [
    "Tier4_l5_sn = l5_summer.map(Cloud40)"
   ]
  },
  {
   "cell_type": "code",
   "execution_count": 116,
   "id": "b78ca89a",
   "metadata": {
    "ExecuteTime": {
     "end_time": "2021-10-28T13:04:11.348449Z",
     "start_time": "2021-10-28T13:04:11.346380Z"
    }
   },
   "outputs": [],
   "source": [
    "QM_NDVI_T4_l5 = Tier4_l5_sn.qualityMosaic('B11')# Normalized difference vegetation Index\n",
    "QM_NDWI_T4_l5 = Tier4_l5_sn.qualityMosaic('NDWI') # Normalize difference water index\n",
    "QM_SAVI_T4_l5 = Tier4_l5_sn.qualityMosaic('SAVI') # Soil Adjusted Vegetation Index \n",
    "QM_NDGI_T4_l5 = Tier4_l5_sn.qualityMosaic('NDGI') # Normalized difference glacier index\n",
    "QM_NDSI_T4_l5 = Tier4_l5_sn.qualityMosaic('NDSI') # Normalized difference snow index"
   ]
  },
  {
   "cell_type": "code",
   "execution_count": 117,
   "id": "57561a8f",
   "metadata": {
    "ExecuteTime": {
     "end_time": "2021-10-28T13:04:11.351211Z",
     "start_time": "2021-10-28T13:04:11.349550Z"
    }
   },
   "outputs": [],
   "source": [
    "T4_median = Tier4_l5_sn.median()"
   ]
  },
  {
   "cell_type": "code",
   "execution_count": 118,
   "id": "a1aff937",
   "metadata": {
    "ExecuteTime": {
     "end_time": "2021-10-28T13:04:11.354401Z",
     "start_time": "2021-10-28T13:04:11.352458Z"
    }
   },
   "outputs": [],
   "source": [
    "Tier4_sn = l7_summer.map(Cloud40)"
   ]
  },
  {
   "cell_type": "code",
   "execution_count": 119,
   "id": "4ffe9a5a",
   "metadata": {
    "ExecuteTime": {
     "end_time": "2021-10-28T13:04:11.357381Z",
     "start_time": "2021-10-28T13:04:11.355307Z"
    }
   },
   "outputs": [],
   "source": [
    "QM_NDVI_T4 = Tier4_sn.qualityMosaic('NDVI')# Normalized difference vegetation Index\n",
    "QM_NDWI_T4 = Tier4_sn.qualityMosaic('NDWI') # Normalize difference water index\n",
    "QM_SAVI_T4 = Tier4_sn.qualityMosaic('SAVI') # Soil Adjusted Vegetation Index \n",
    "QM_NDGI_T4 = Tier4_sn.qualityMosaic('NDGI') # Normalized difference glacier index\n",
    "QM_NDSI_T4 = Tier4_sn.qualityMosaic('NDSI') # Normalized difference snow index"
   ]
  },
  {
   "cell_type": "code",
   "execution_count": 120,
   "id": "67529e0d",
   "metadata": {
    "ExecuteTime": {
     "end_time": "2021-10-28T13:04:11.360146Z",
     "start_time": "2021-10-28T13:04:11.358603Z"
    }
   },
   "outputs": [],
   "source": [
    "T4_median_l7 = Tier4_sn.median()"
   ]
  },
  {
   "cell_type": "code",
   "execution_count": 121,
   "id": "52b6c09f",
   "metadata": {
    "ExecuteTime": {
     "end_time": "2021-10-28T13:04:12.384086Z",
     "start_time": "2021-10-28T13:04:11.361294Z"
    }
   },
   "outputs": [
    {
     "data": {
      "application/vnd.jupyter.widget-view+json": {
       "model_id": "6064fe9c833f4836a8c76ceff14987a3",
       "version_major": 2,
       "version_minor": 0
      },
      "text/plain": [
       "Map(center=[-45, -70], controls=(WidgetControl(options=['position', 'transparent_bg'], widget=HBox(children=(T…"
      ]
     },
     "metadata": {},
     "output_type": "display_data"
    }
   ],
   "source": [
    "Map2.addLayer(T4_median, vizParams, 'mediana4')\n",
    "Map2.addLayer(T4_median_l7, vizParams, 'mediana4 l7')\n",
    "Map2"
   ]
  },
  {
   "cell_type": "markdown",
   "id": "a950e2c5",
   "metadata": {},
   "source": [
    "## Img base"
   ]
  },
  {
   "cell_type": "code",
   "execution_count": 122,
   "id": "d8f89941",
   "metadata": {
    "ExecuteTime": {
     "end_time": "2021-10-28T13:04:12.387494Z",
     "start_time": "2021-10-28T13:04:12.385038Z"
    }
   },
   "outputs": [],
   "source": [
    "start_date = '2008-10-01'\n",
    "end_date = '2009-03-31'\n",
    "imgbase = ee.ImageCollection('LANDSAT/LE07/C01/T1_TOA') \\\n",
    "    .filterBounds(base) \\\n",
    "    .filterDate(start_date, end_date) \\\n",
    "    .sort('CLOUD_COVER') \\\n",
    "    .first() \n"
   ]
  },
  {
   "cell_type": "code",
   "execution_count": 123,
   "id": "5377d40d",
   "metadata": {
    "ExecuteTime": {
     "end_time": "2021-10-28T13:04:12.391030Z",
     "start_time": "2021-10-28T13:04:12.388496Z"
    }
   },
   "outputs": [],
   "source": [
    "# imgbase.get('LANDSAT_PRODUCT_ID').getInfo()"
   ]
  },
  {
   "cell_type": "code",
   "execution_count": 124,
   "id": "8b238026",
   "metadata": {
    "ExecuteTime": {
     "end_time": "2021-10-28T13:04:12.393476Z",
     "start_time": "2021-10-28T13:04:12.392180Z"
    }
   },
   "outputs": [],
   "source": [
    "# imgbase = ee.Image('LANDSAT/LE07/C01/T1_TOA/LE07_230092_20081213')"
   ]
  },
  {
   "cell_type": "code",
   "execution_count": 125,
   "id": "800ae60f",
   "metadata": {
    "ExecuteTime": {
     "end_time": "2021-10-28T13:04:12.396220Z",
     "start_time": "2021-10-28T13:04:12.394718Z"
    }
   },
   "outputs": [],
   "source": [
    "# Map.addLayer(colec_base, vizParams,'1')\n",
    "# Map"
   ]
  },
  {
   "cell_type": "code",
   "execution_count": 126,
   "id": "8340f2f4",
   "metadata": {
    "ExecuteTime": {
     "end_time": "2021-10-28T13:04:12.399541Z",
     "start_time": "2021-10-28T13:04:12.397213Z"
    }
   },
   "outputs": [],
   "source": [
    "start_date = '2008-10-01'\n",
    "end_date = '2009-03-31'\n",
    "imgbase2 = ee.ImageCollection('LANDSAT/LE07/C01/T1_TOA') \\\n",
    "    .filter(ee.Filter.eq('WRS_PATH', 230)) \\\n",
    "    .filter(ee.Filter.eq('WRS_ROW', 91)) \\\n",
    "    .filterDate(start_date, end_date) "
   ]
  },
  {
   "cell_type": "code",
   "execution_count": 127,
   "id": "bb9c7677",
   "metadata": {
    "ExecuteTime": {
     "end_time": "2021-10-28T13:04:12.402438Z",
     "start_time": "2021-10-28T13:04:12.400604Z"
    }
   },
   "outputs": [],
   "source": [
    "imgbase2 = find_closest(imgbase, imgbase2,14).sort('CLOUD_COVER').first()\n",
    "imgbase2 = ee.Image(imgbase2)"
   ]
  },
  {
   "cell_type": "code",
   "execution_count": 128,
   "id": "b46862d1",
   "metadata": {
    "ExecuteTime": {
     "end_time": "2021-10-28T13:04:12.404896Z",
     "start_time": "2021-10-28T13:04:12.403606Z"
    }
   },
   "outputs": [],
   "source": [
    "# Map1.addLayer(imgbase2, vizParams, 'img base2')\n",
    "# Map1"
   ]
  },
  {
   "cell_type": "code",
   "execution_count": 129,
   "id": "857c24c0",
   "metadata": {
    "ExecuteTime": {
     "end_time": "2021-10-28T13:04:12.408434Z",
     "start_time": "2021-10-28T13:04:12.406032Z"
    }
   },
   "outputs": [],
   "source": [
    "start_date = '2008-10-01'\n",
    "end_date = '2009-03-31'\n",
    "imgbase3 = ee.ImageCollection('LANDSAT/LC08/C01/T1_TOA') \\\n",
    "    .filter(ee.Filter.eq('WRS_PATH', 229)) \\\n",
    "    .filter(ee.Filter.eq('WRS_ROW', 91)) \\\n",
    "    .filterDate(start_date, end_date) "
   ]
  },
  {
   "cell_type": "code",
   "execution_count": 130,
   "id": "bb2d610e",
   "metadata": {
    "ExecuteTime": {
     "end_time": "2021-10-28T13:04:12.411130Z",
     "start_time": "2021-10-28T13:04:12.409387Z"
    }
   },
   "outputs": [],
   "source": [
    "imgbase3 = find_closest(imgbase2, imgbase3,21).sort('CLOUD_COVER').first()\n",
    "imgbase3 = ee.Image(imgbase3)"
   ]
  },
  {
   "cell_type": "code",
   "execution_count": 131,
   "id": "37eb1d2c",
   "metadata": {
    "ExecuteTime": {
     "end_time": "2021-10-28T13:04:12.414018Z",
     "start_time": "2021-10-28T13:04:12.412190Z"
    }
   },
   "outputs": [],
   "source": [
    "start_date = '2008-10-01'\n",
    "end_date = '2009-03-31'\n",
    "imgbase4 = ee.ImageCollection('LANDSAT/LC08/C01/T1_TOA') \\\n",
    "    .filter(ee.Filter.eq('WRS_PATH', 228)) \\\n",
    "    .filter(ee.Filter.eq('WRS_ROW', 91)) \\\n",
    "    .filterDate(start_date, end_date) "
   ]
  },
  {
   "cell_type": "code",
   "execution_count": 132,
   "id": "a8ddb22d",
   "metadata": {
    "ExecuteTime": {
     "end_time": "2021-10-28T13:04:12.416651Z",
     "start_time": "2021-10-28T13:04:12.414876Z"
    }
   },
   "outputs": [],
   "source": [
    "imgbase4 = find_closest(imgbase3, imgbase4,14).sort('CLOUD_COVER').first()\n",
    "imgbase4 = ee.Image(imgbase4)"
   ]
  },
  {
   "cell_type": "code",
   "execution_count": 133,
   "id": "e3fa66be",
   "metadata": {
    "ExecuteTime": {
     "end_time": "2021-10-28T13:04:12.419677Z",
     "start_time": "2021-10-28T13:04:12.417670Z"
    }
   },
   "outputs": [],
   "source": [
    "start_date = '2008-10-01'\n",
    "end_date = '2009-03-31'\n",
    "imgbase5 = ee.ImageCollection('LANDSAT/LC08/C01/T1_TOA') \\\n",
    "    .filter(ee.Filter.eq('WRS_PATH', 232)) \\\n",
    "    .filter(ee.Filter.eq('WRS_ROW', 91)) \\\n",
    "    .filterDate(start_date, end_date) "
   ]
  },
  {
   "cell_type": "code",
   "execution_count": 134,
   "id": "b935e51f",
   "metadata": {
    "ExecuteTime": {
     "end_time": "2021-10-28T13:04:12.422556Z",
     "start_time": "2021-10-28T13:04:12.420788Z"
    }
   },
   "outputs": [],
   "source": [
    "imgbase5 = find_closest(imgbase, imgbase5,28).sort('CLOUD_COVER').first()\n",
    "imgbase5 = ee.Image(imgbase5)"
   ]
  },
  {
   "cell_type": "code",
   "execution_count": 135,
   "id": "5f2ef39d",
   "metadata": {
    "ExecuteTime": {
     "end_time": "2021-10-28T13:04:12.426077Z",
     "start_time": "2021-10-28T13:04:12.423722Z"
    }
   },
   "outputs": [],
   "source": [
    "start_date = '2008-10-01'\n",
    "end_date = '2009-03-31'\n",
    "imgbase6 = ee.ImageCollection('LANDSAT/LC08/C01/T1_TOA') \\\n",
    "    .filter(ee.Filter.eq('WRS_PATH', 233)) \\\n",
    "    .filter(ee.Filter.eq('WRS_ROW', 91)) \\\n",
    "    .filterDate(start_date, end_date) "
   ]
  },
  {
   "cell_type": "code",
   "execution_count": 136,
   "id": "75597f73",
   "metadata": {
    "ExecuteTime": {
     "end_time": "2021-10-28T13:04:12.429051Z",
     "start_time": "2021-10-28T13:04:12.427244Z"
    }
   },
   "outputs": [],
   "source": [
    "imgbase6 = find_closest(imgbase5, imgbase6,360).sort('CLOUD_COVER').first()\n",
    "imgbase6 = ee.Image(imgbase6)"
   ]
  },
  {
   "cell_type": "code",
   "execution_count": 137,
   "id": "5c32385b",
   "metadata": {
    "ExecuteTime": {
     "end_time": "2021-10-28T13:04:12.431802Z",
     "start_time": "2021-10-28T13:04:12.430221Z"
    }
   },
   "outputs": [],
   "source": [
    "colec_base = ee.ImageCollection([imgbase,imgbase2,imgbase3,imgbase4,imgbase5,imgbase6]).mosaic()"
   ]
  },
  {
   "cell_type": "code",
   "execution_count": 138,
   "id": "436a77fb",
   "metadata": {
    "ExecuteTime": {
     "end_time": "2021-10-28T13:04:12.434394Z",
     "start_time": "2021-10-28T13:04:12.432903Z"
    }
   },
   "outputs": [],
   "source": [
    "\n",
    "# Map1.addLayer(imgbase, vizParams, 'img base')\n",
    "# Map1.addLayer(imgbase2, vizParams, 'img base2')\n",
    "# Map1.addLayer(imgbase3, vizParams, 'img base3')\n",
    "# Map1.addLayer(imgbase4, vizParams, 'img base4')\n",
    "# Map1.addLayer(imgbase5, vizParams, 'img base5')\n",
    "# Map1.addLayer(imgbase6, vizParams, 'img base6')\n",
    "# # Map1.addLayer(colec_base, vizParams, 'coleccion')\n",
    "# # Map1.addLayer(colec_base_r, vizParams, 'coleccion r')\n",
    "# Map1"
   ]
  },
  {
   "cell_type": "markdown",
   "id": "dd7d911d",
   "metadata": {},
   "source": [
    "## Indices por colección"
   ]
  },
  {
   "cell_type": "markdown",
   "id": "4ea0a4cd",
   "metadata": {},
   "source": [
    "### Índices 2008"
   ]
  },
  {
   "cell_type": "code",
   "execution_count": 139,
   "id": "426dfca0",
   "metadata": {
    "ExecuteTime": {
     "end_time": "2021-10-28T13:04:12.437516Z",
     "start_time": "2021-10-28T13:04:12.435562Z"
    }
   },
   "outputs": [],
   "source": [
    "NDVI_2008 = NDVI_2008_sn.select('B11')\n",
    "NDWI_2008 = NDWI_2008_sn.select('NDWI') \n",
    "SAVI_2008 = SAVI_2008_sn.select('SAVI')\n",
    "NDGI_2008 = NDGI_2008_sn.select('NDGI')\n",
    "NDSI_2008 = NDSI_2008_sn.select('NDSI')"
   ]
  },
  {
   "cell_type": "code",
   "execution_count": 140,
   "id": "eaf84698",
   "metadata": {
    "ExecuteTime": {
     "end_time": "2021-10-28T13:04:12.440144Z",
     "start_time": "2021-10-28T13:04:12.438687Z"
    }
   },
   "outputs": [],
   "source": [
    "# Map7.addLayer(NDVI_2008, {'palette': color_terrain}, 'QMsn de NDVI 2008')\n",
    "# Map7.addLayer(NDWI_2008, {'palette': color_ndwi}, 'QMsn de NDWI 2008')\n",
    "# Map7.addLayer(SAVI_2008, {'palette': color_ndvi}, 'QMsn de SAVI 2008')\n",
    "# # Map7.addLayer(NDGI_2008, {'palette': color_glaciar}, 'QMsn de NDGI 2008')\n",
    "# # Map7.addLayer(NDSI_2008, {'palette': color_ndwi}, 'QMsn de NDSI 2008')\n",
    "# Map7"
   ]
  },
  {
   "cell_type": "markdown",
   "id": "1e0309e1",
   "metadata": {},
   "source": [
    "### Índices 2007"
   ]
  },
  {
   "cell_type": "code",
   "execution_count": 141,
   "id": "cc1253c0",
   "metadata": {
    "ExecuteTime": {
     "end_time": "2021-10-28T13:04:12.443103Z",
     "start_time": "2021-10-28T13:04:12.441155Z"
    }
   },
   "outputs": [],
   "source": [
    "NDVI_2007 = NDVI_2007_sn.select('B11')\n",
    "NDWI_2007 = NDWI_2007_sn.select('NDWI') \n",
    "SAVI_2007 = SAVI_2007_sn.select('SAVI')\n",
    "NDGI_2007 = NDGI_2007_sn.select('NDGI')\n",
    "NDSI_2007 = NDSI_2007_sn.select('NDSI')"
   ]
  },
  {
   "cell_type": "code",
   "execution_count": 142,
   "id": "3e0524d7",
   "metadata": {
    "ExecuteTime": {
     "end_time": "2021-10-28T13:04:12.445640Z",
     "start_time": "2021-10-28T13:04:12.444230Z"
    }
   },
   "outputs": [],
   "source": [
    "# Map7.addLayer(NDVI_2007, {'palette': color_terrain}, 'QMsn de NDVI 2007')\n",
    "# Map7.addLayer(NDWI_2007, {'palette': color_ndwi}, 'QMsn de NDWI 2007')\n",
    "# Map7.addLayer(SAVI_2007, {'palette': color_ndvi}, 'QMsn de SAVI 2007')\n",
    "# # Map7.addLayer(NDGI_2007, {'palette': color_glaciar}, 'QMsn de NDGI 2007')\n",
    "# # Map7.addLayer(NDSI_2007, {'palette': color_ndwi}, 'QMsn de NDSI 2007')\n",
    "# Map7"
   ]
  },
  {
   "cell_type": "markdown",
   "id": "4aee56c9",
   "metadata": {},
   "source": [
    "### Índices 2006"
   ]
  },
  {
   "cell_type": "code",
   "execution_count": 143,
   "id": "4a0a2445",
   "metadata": {
    "ExecuteTime": {
     "end_time": "2021-10-28T13:04:12.448858Z",
     "start_time": "2021-10-28T13:04:12.446801Z"
    }
   },
   "outputs": [],
   "source": [
    "NDVI_2006 = NDVI_2006_sn.select('B11')\n",
    "NDWI_2006 = NDWI_2006_sn.select('NDWI') \n",
    "SAVI_2006 = SAVI_2006_sn.select('SAVI')\n",
    "NDGI_2006 = NDGI_2006_sn.select('NDGI')\n",
    "NDSI_2006 = NDSI_2006_sn.select('NDSI')"
   ]
  },
  {
   "cell_type": "code",
   "execution_count": 144,
   "id": "144629ba",
   "metadata": {
    "ExecuteTime": {
     "end_time": "2021-10-28T13:04:12.451332Z",
     "start_time": "2021-10-28T13:04:12.449977Z"
    }
   },
   "outputs": [],
   "source": [
    "# Map8.addLayer(NDVI_2006, {'palette': color_terrain}, 'QMsn de NDVI 2006')\n",
    "# Map8.addLayer(NDWI_2006, {'palette': color_ndwi}, 'QMsn de NDWI 2006')\n",
    "# Map8.addLayer(SAVI_2006, {'palette': color_ndvi}, 'QMsn de SAVI 2006')\n",
    "# # Map8.addLayer(NDGI_2006, {'palette': color_glaciar}, 'QMsn de NDGI 2006')\n",
    "# # Map8.addLayer(NDSI_2006, {'palette': color_ndwi}, 'QMsn de NDSI 2006')\n",
    "# Map8"
   ]
  },
  {
   "cell_type": "markdown",
   "id": "6d3d753e",
   "metadata": {},
   "source": [
    "### Índices 2005 "
   ]
  },
  {
   "cell_type": "code",
   "execution_count": 145,
   "id": "149bf201",
   "metadata": {
    "ExecuteTime": {
     "end_time": "2021-10-28T13:04:12.454126Z",
     "start_time": "2021-10-28T13:04:12.452385Z"
    }
   },
   "outputs": [],
   "source": [
    "NDVI_2005 = NDVI_2005_sn.select('B11')\n",
    "NDWI_2005 = NDWI_2005_sn.select('NDWI') \n",
    "SAVI_2005 = SAVI_2005_sn.select('SAVI')\n",
    "NDGI_2005 = NDGI_2005_sn.select('NDGI')\n",
    "NDSI_2005 = NDSI_2005_sn.select('NDSI')"
   ]
  },
  {
   "cell_type": "code",
   "execution_count": 146,
   "id": "bf8b2aad",
   "metadata": {
    "ExecuteTime": {
     "end_time": "2021-10-28T13:04:12.456504Z",
     "start_time": "2021-10-28T13:04:12.455148Z"
    }
   },
   "outputs": [],
   "source": [
    "# Map8.addLayer(NDVI_2005, {'palette': color_terrain}, 'QMsn de NDVI 2005')\n",
    "# Map8.addLayer(NDWI_2005, {'palette': color_ndwi}, 'QMsn de NDWI 2005')\n",
    "# Map8.addLayer(SAVI_2005, {'palette': color_ndvi}, 'QMsn de SAVI 2005')\n",
    "# # Map8.addLayer(NDGI_2005, {'palette': color_glaciar}, 'QMsn de NDGI 2005')\n",
    "# # Map8.addLayer(NDSI_2005, {'palette': color_ndwi}, 'QMsn de NDSI 2005')\n",
    "# Map8"
   ]
  },
  {
   "cell_type": "markdown",
   "id": "e765cd19",
   "metadata": {},
   "source": [
    "### Índices 2008 L7"
   ]
  },
  {
   "cell_type": "code",
   "execution_count": 147,
   "id": "b4275190",
   "metadata": {
    "ExecuteTime": {
     "end_time": "2021-10-28T13:04:12.459526Z",
     "start_time": "2021-10-28T13:04:12.457653Z"
    }
   },
   "outputs": [],
   "source": [
    "NDVI_2008_l7 = NDVI_2008_l7_sn.select('NDVI')\n",
    "NDWI_2008_l7 = NDWI_2008_l7_sn.select('NDWI')\n",
    "SAVI_2008_l7 = SAVI_2008_l7_sn.select('SAVI')\n",
    "NDGI_2008_l7 = NDGI_2008_l7_sn.select('NDGI')\n",
    "NDSI_2008_l7 = NDSI_2008_l7_sn.select('NDSI')"
   ]
  },
  {
   "cell_type": "code",
   "execution_count": 148,
   "id": "977e42e9",
   "metadata": {
    "ExecuteTime": {
     "end_time": "2021-10-28T13:04:12.462265Z",
     "start_time": "2021-10-28T13:04:12.460714Z"
    }
   },
   "outputs": [],
   "source": [
    "# Map8.addLayer(NDVI_2008_l7, {'palette': color_terrain}, 'QMsn de NDVI 2008_l7')\n",
    "# Map8.addLayer(NDWI_2008_l7, {'palette': color_ndwi}, 'QMsn de NDWI 2008_l7')\n",
    "# Map8.addLayer(SAVI_2008_l7, {'palette': color_ndvi}, 'QMsn de SAVI 2008_l7')\n",
    "# # Map8.addLayer(NDGI_2008_l7, {'palette': color_glaciar}, 'QMsn de NDGI 2008_l7')\n",
    "# # Map8.addLayer(NDSI_2008_l7, {'palette': color_ndwi}, 'QMsn de NDSI 2008_l7')\n",
    "# Map8"
   ]
  },
  {
   "cell_type": "code",
   "execution_count": null,
   "id": "215936ce",
   "metadata": {},
   "outputs": [],
   "source": []
  },
  {
   "cell_type": "markdown",
   "id": "dd05e9e8",
   "metadata": {},
   "source": [
    "## Generación de Mosaico L7"
   ]
  },
  {
   "cell_type": "code",
   "execution_count": 149,
   "id": "ddfd5f61",
   "metadata": {
    "ExecuteTime": {
     "end_time": "2021-10-28T13:04:12.464807Z",
     "start_time": "2021-10-28T13:04:12.463394Z"
    }
   },
   "outputs": [],
   "source": [
    "# mosaic = ee.ImageCollection([QM_NDGI_2009_l7,NDVI_2008_l7_sn]).mosaic()"
   ]
  },
  {
   "cell_type": "code",
   "execution_count": 150,
   "id": "c852427b",
   "metadata": {
    "ExecuteTime": {
     "end_time": "2021-10-28T13:04:12.467342Z",
     "start_time": "2021-10-28T13:04:12.465737Z"
    }
   },
   "outputs": [],
   "source": [
    "NDVI_landsat_7 = QM_NDVI_2008_l7.set('SENSOR_ID', 'ETM+')"
   ]
  },
  {
   "cell_type": "code",
   "execution_count": 151,
   "id": "e97dfca9",
   "metadata": {
    "ExecuteTime": {
     "end_time": "2021-10-28T13:04:12.469898Z",
     "start_time": "2021-10-28T13:04:12.468464Z"
    }
   },
   "outputs": [],
   "source": [
    "cloud_ = ee.Algorithms.Landsat.simpleCloudScore(NDVI_landsat_7)"
   ]
  },
  {
   "cell_type": "code",
   "execution_count": 152,
   "id": "e4cbfef0",
   "metadata": {
    "ExecuteTime": {
     "end_time": "2021-10-28T13:04:12.472396Z",
     "start_time": "2021-10-28T13:04:12.470897Z"
    }
   },
   "outputs": [],
   "source": [
    "cloud_ = cloud_.select('cloud')"
   ]
  },
  {
   "cell_type": "code",
   "execution_count": 153,
   "id": "21774c4c",
   "metadata": {
    "ExecuteTime": {
     "end_time": "2021-10-28T13:04:12.475263Z",
     "start_time": "2021-10-28T13:04:12.473421Z"
    }
   },
   "outputs": [],
   "source": [
    "palette_nubes = ['#1a9850', '#66bd63', '#a6d96a', '#d9ef8b', '#fee08b', '#fdae61', '#f46d43', '#d73027']"
   ]
  },
  {
   "cell_type": "code",
   "execution_count": 154,
   "id": "01f59e64",
   "metadata": {
    "ExecuteTime": {
     "end_time": "2021-10-28T13:04:12.478016Z",
     "start_time": "2021-10-28T13:04:12.476300Z"
    }
   },
   "outputs": [],
   "source": [
    "resultados= [cloud_,NDVI_landsat_7]\n",
    "vis_params2=  [\n",
    "    {'palette':palette_nubes}, \n",
    "    vizParams]\n",
    "labels = [\n",
    "    'Nubes',\n",
    "    'QM NDVI']"
   ]
  },
  {
   "cell_type": "code",
   "execution_count": 155,
   "id": "2f4324dc",
   "metadata": {
    "ExecuteTime": {
     "end_time": "2021-10-28T13:04:13.666732Z",
     "start_time": "2021-10-28T13:04:12.479098Z"
    }
   },
   "outputs": [
    {
     "data": {
      "application/vnd.jupyter.widget-view+json": {
       "model_id": "770c7f6d71f2421f9706f0c771433d10",
       "version_major": 2,
       "version_minor": 0
      },
      "text/plain": [
       "GridspecLayout(children=(Output(layout=Layout(grid_area='widget001')), Output(layout=Layout(grid_area='widget0…"
      ]
     },
     "metadata": {},
     "output_type": "display_data"
    }
   ],
   "source": [
    "geemap.linked_maps(rows=1, cols=2, height=\"400px\", center=[-45, -75], zoom=4, \n",
    "                   ee_objects=resultados, vis_params=vis_params2, labels=labels, label_position=\"topright\")"
   ]
  },
  {
   "cell_type": "code",
   "execution_count": 156,
   "id": "93ea56bf",
   "metadata": {
    "ExecuteTime": {
     "end_time": "2021-10-28T13:04:13.669720Z",
     "start_time": "2021-10-28T13:04:13.667763Z"
    }
   },
   "outputs": [],
   "source": [
    "def llenado(image):\n",
    "    return image.where(cloud_.gt(10),QM_NDVI_T1)"
   ]
  },
  {
   "cell_type": "code",
   "execution_count": 157,
   "id": "8287934f",
   "metadata": {
    "ExecuteTime": {
     "end_time": "2021-10-28T13:04:13.672573Z",
     "start_time": "2021-10-28T13:04:13.671057Z"
    }
   },
   "outputs": [],
   "source": [
    "img1 = llenado(NDVI_landsat_7)"
   ]
  },
  {
   "cell_type": "code",
   "execution_count": 158,
   "id": "0ea4ebed",
   "metadata": {
    "ExecuteTime": {
     "end_time": "2021-10-28T13:04:13.675521Z",
     "start_time": "2021-10-28T13:04:13.673579Z"
    }
   },
   "outputs": [],
   "source": [
    "img1_landsat = img1.set('SENSOR_ID', 'ETM+')\n",
    "cloud_img1 = ee.Algorithms.Landsat.simpleCloudScore(img1_landsat)\n",
    "cloud_img1 = cloud_img1.select('cloud')"
   ]
  },
  {
   "cell_type": "code",
   "execution_count": 159,
   "id": "84dbb2d4",
   "metadata": {
    "ExecuteTime": {
     "end_time": "2021-10-28T13:04:13.678212Z",
     "start_time": "2021-10-28T13:04:13.676599Z"
    }
   },
   "outputs": [],
   "source": [
    "resultados= [cloud_img1, img1]\n",
    "vis_params2=  [\n",
    "    {'palette':palette_nubes}, \n",
    "    vizParams]\n",
    "labels = [\n",
    "    'Nubes Mosaico 1',\n",
    "    'Mosaico 1']"
   ]
  },
  {
   "cell_type": "code",
   "execution_count": 160,
   "id": "f3c2a996",
   "metadata": {
    "ExecuteTime": {
     "end_time": "2021-10-28T13:04:14.914435Z",
     "start_time": "2021-10-28T13:04:13.679230Z"
    }
   },
   "outputs": [
    {
     "data": {
      "application/vnd.jupyter.widget-view+json": {
       "model_id": "6c60426a8faf49d6817d5308f1204c3e",
       "version_major": 2,
       "version_minor": 0
      },
      "text/plain": [
       "GridspecLayout(children=(Output(layout=Layout(grid_area='widget001')), Output(layout=Layout(grid_area='widget0…"
      ]
     },
     "metadata": {},
     "output_type": "display_data"
    }
   ],
   "source": [
    "geemap.linked_maps(rows=1, cols=2, height=\"400px\", center=[-45, -75], zoom=4, \n",
    "                   ee_objects=resultados, vis_params=vis_params2, labels=labels, label_position=\"topright\")"
   ]
  },
  {
   "cell_type": "code",
   "execution_count": 161,
   "id": "9a243ac4",
   "metadata": {
    "ExecuteTime": {
     "end_time": "2021-10-28T13:04:14.917382Z",
     "start_time": "2021-10-28T13:04:14.915467Z"
    }
   },
   "outputs": [],
   "source": [
    "def llenado2(image):\n",
    "    return image.where(cloud_img1.gt(10), QM_NDVI_T2)"
   ]
  },
  {
   "cell_type": "code",
   "execution_count": 162,
   "id": "ada6d94e",
   "metadata": {
    "ExecuteTime": {
     "end_time": "2021-10-28T13:04:14.920303Z",
     "start_time": "2021-10-28T13:04:14.918717Z"
    }
   },
   "outputs": [],
   "source": [
    "img2 = llenado2(img1)"
   ]
  },
  {
   "cell_type": "code",
   "execution_count": 163,
   "id": "e3db0a52",
   "metadata": {
    "ExecuteTime": {
     "end_time": "2021-10-28T13:04:14.923213Z",
     "start_time": "2021-10-28T13:04:14.921464Z"
    }
   },
   "outputs": [],
   "source": [
    "img2_landsat = img2.set('SENSOR_ID', 'ETM+')\n",
    "cloud_img2 = ee.Algorithms.Landsat.simpleCloudScore(img2_landsat)\n",
    "cloud_img2 = cloud_img2.select('cloud')"
   ]
  },
  {
   "cell_type": "code",
   "execution_count": 164,
   "id": "42d22742",
   "metadata": {
    "ExecuteTime": {
     "end_time": "2021-10-28T13:04:14.926244Z",
     "start_time": "2021-10-28T13:04:14.924481Z"
    }
   },
   "outputs": [],
   "source": [
    "resultados= [cloud_img2, img2]\n",
    "vis_params2=  [\n",
    "    {'palette':palette_nubes}, \n",
    "    vizParams]\n",
    "labels = [\n",
    "    'Nubes Mosaico 2',\n",
    "    'Mosaico 2']"
   ]
  },
  {
   "cell_type": "code",
   "execution_count": 165,
   "id": "5bdcab8c",
   "metadata": {
    "ExecuteTime": {
     "end_time": "2021-10-28T13:04:16.288143Z",
     "start_time": "2021-10-28T13:04:14.927211Z"
    }
   },
   "outputs": [
    {
     "data": {
      "application/vnd.jupyter.widget-view+json": {
       "model_id": "8dc4726b12ba47688d41f33703d37d54",
       "version_major": 2,
       "version_minor": 0
      },
      "text/plain": [
       "GridspecLayout(children=(Output(layout=Layout(grid_area='widget001')), Output(layout=Layout(grid_area='widget0…"
      ]
     },
     "metadata": {},
     "output_type": "display_data"
    }
   ],
   "source": [
    "geemap.linked_maps(rows=1, cols=2, height=\"400px\", center=[-45, -75], zoom=4, \n",
    "                   ee_objects=resultados, vis_params=vis_params2, labels=labels, label_position=\"topright\")"
   ]
  },
  {
   "cell_type": "code",
   "execution_count": 166,
   "id": "ca5f91e2",
   "metadata": {
    "ExecuteTime": {
     "end_time": "2021-10-28T13:04:16.290976Z",
     "start_time": "2021-10-28T13:04:16.289025Z"
    }
   },
   "outputs": [],
   "source": [
    "def llenado3(image):\n",
    "    return image.where(cloud_img2.gt(10), QM_NDVI_T3)"
   ]
  },
  {
   "cell_type": "code",
   "execution_count": 167,
   "id": "f52fddee",
   "metadata": {
    "ExecuteTime": {
     "end_time": "2021-10-28T13:04:16.293736Z",
     "start_time": "2021-10-28T13:04:16.292299Z"
    }
   },
   "outputs": [],
   "source": [
    "img3 = llenado3(img2)"
   ]
  },
  {
   "cell_type": "code",
   "execution_count": 168,
   "id": "6d41d9d0",
   "metadata": {
    "ExecuteTime": {
     "end_time": "2021-10-28T13:04:16.296493Z",
     "start_time": "2021-10-28T13:04:16.294813Z"
    }
   },
   "outputs": [],
   "source": [
    "img3_landsat = img3.set('SENSOR_ID', 'ETM+')\n",
    "cloud_img3 = ee.Algorithms.Landsat.simpleCloudScore(img3_landsat)\n",
    "cloud_img3 = cloud_img3.select('cloud')"
   ]
  },
  {
   "cell_type": "code",
   "execution_count": 169,
   "id": "3a000d62",
   "metadata": {
    "ExecuteTime": {
     "end_time": "2021-10-28T13:04:16.299147Z",
     "start_time": "2021-10-28T13:04:16.297556Z"
    }
   },
   "outputs": [],
   "source": [
    "resultados= [cloud_img3, img3]\n",
    "vis_params2=  [\n",
    "    {'palette':palette_nubes}, \n",
    "    vizParams]\n",
    "labels = [\n",
    "    'Nubes Mosaico 3',\n",
    "    'Mosaico 3']"
   ]
  },
  {
   "cell_type": "code",
   "execution_count": 170,
   "id": "bf275ed6",
   "metadata": {
    "ExecuteTime": {
     "end_time": "2021-10-28T13:04:17.600029Z",
     "start_time": "2021-10-28T13:04:16.300256Z"
    }
   },
   "outputs": [
    {
     "data": {
      "application/vnd.jupyter.widget-view+json": {
       "model_id": "0b168996384a4eeab8a59d30a2bf28f5",
       "version_major": 2,
       "version_minor": 0
      },
      "text/plain": [
       "GridspecLayout(children=(Output(layout=Layout(grid_area='widget001')), Output(layout=Layout(grid_area='widget0…"
      ]
     },
     "metadata": {},
     "output_type": "display_data"
    }
   ],
   "source": [
    "geemap.linked_maps(rows=1, cols=2, height=\"400px\", center=[-45, -75], zoom=4, \n",
    "                   ee_objects=resultados, vis_params=vis_params2, labels=labels, label_position=\"topright\")"
   ]
  },
  {
   "cell_type": "code",
   "execution_count": 171,
   "id": "9d0daae9",
   "metadata": {
    "ExecuteTime": {
     "end_time": "2021-10-28T13:04:17.602816Z",
     "start_time": "2021-10-28T13:04:17.601039Z"
    }
   },
   "outputs": [],
   "source": [
    "def llenado4(image):\n",
    "    return image.where(cloud_img3.gt(10), QM_NDVI_T4)"
   ]
  },
  {
   "cell_type": "code",
   "execution_count": 172,
   "id": "d37f16d5",
   "metadata": {
    "ExecuteTime": {
     "end_time": "2021-10-28T13:04:17.605845Z",
     "start_time": "2021-10-28T13:04:17.603835Z"
    }
   },
   "outputs": [],
   "source": [
    "img4 = llenado4(img3)"
   ]
  },
  {
   "cell_type": "code",
   "execution_count": 173,
   "id": "540d60d8",
   "metadata": {
    "ExecuteTime": {
     "end_time": "2021-10-28T13:04:17.608647Z",
     "start_time": "2021-10-28T13:04:17.606846Z"
    }
   },
   "outputs": [],
   "source": [
    "img4_landsat = img4.set('SENSOR_ID', 'ETM+')\n",
    "cloud_img4 = ee.Algorithms.Landsat.simpleCloudScore(img4_landsat)\n",
    "cloud_img4 = cloud_img4.select('cloud')"
   ]
  },
  {
   "cell_type": "code",
   "execution_count": 174,
   "id": "3f0e9719",
   "metadata": {
    "ExecuteTime": {
     "end_time": "2021-10-28T13:04:17.611315Z",
     "start_time": "2021-10-28T13:04:17.609705Z"
    }
   },
   "outputs": [],
   "source": [
    "resultados= [cloud_img4, img4]\n",
    "vis_params2=  [\n",
    "    {'palette':palette_nubes}, \n",
    "    vizParams]\n",
    "labels = [\n",
    "    'Nubes Mosaico 4',\n",
    "    'Mosaico 4']"
   ]
  },
  {
   "cell_type": "code",
   "execution_count": 175,
   "id": "41d9a7b8",
   "metadata": {
    "ExecuteTime": {
     "end_time": "2021-10-28T13:04:19.069279Z",
     "start_time": "2021-10-28T13:04:17.612381Z"
    }
   },
   "outputs": [
    {
     "data": {
      "application/vnd.jupyter.widget-view+json": {
       "model_id": "3701453106da4ea1b3841f798a388bf2",
       "version_major": 2,
       "version_minor": 0
      },
      "text/plain": [
       "GridspecLayout(children=(Output(layout=Layout(grid_area='widget001')), Output(layout=Layout(grid_area='widget0…"
      ]
     },
     "metadata": {},
     "output_type": "display_data"
    }
   ],
   "source": [
    "geemap.linked_maps(rows=1, cols=2, height=\"400px\", center=[-45, -75], zoom=4, \n",
    "                   ee_objects=resultados, vis_params=vis_params2, labels=labels, label_position=\"topright\")"
   ]
  },
  {
   "cell_type": "code",
   "execution_count": 176,
   "id": "eb9d6a80",
   "metadata": {
    "ExecuteTime": {
     "end_time": "2021-10-28T13:04:19.072090Z",
     "start_time": "2021-10-28T13:04:19.070319Z"
    }
   },
   "outputs": [],
   "source": [
    "hansenImage = ee.Image('UMD/hansen/global_forest_change_2015')\n",
    "datamask = hansenImage.select('datamask')"
   ]
  },
  {
   "cell_type": "code",
   "execution_count": 177,
   "id": "dc42098d",
   "metadata": {
    "ExecuteTime": {
     "end_time": "2021-10-28T13:04:19.074898Z",
     "start_time": "2021-10-28T13:04:19.073380Z"
    }
   },
   "outputs": [],
   "source": [
    "def llenado5(image):\n",
    "    return image.where(datamask.eq(2), QM_NDWI_T1)"
   ]
  },
  {
   "cell_type": "code",
   "execution_count": 178,
   "id": "d494173a",
   "metadata": {
    "ExecuteTime": {
     "end_time": "2021-10-28T13:04:19.077596Z",
     "start_time": "2021-10-28T13:04:19.076079Z"
    }
   },
   "outputs": [],
   "source": [
    "img5 = llenado5(img4)"
   ]
  },
  {
   "cell_type": "code",
   "execution_count": 179,
   "id": "45546a04",
   "metadata": {
    "ExecuteTime": {
     "end_time": "2021-10-28T13:04:19.080177Z",
     "start_time": "2021-10-28T13:04:19.078626Z"
    }
   },
   "outputs": [],
   "source": [
    "resultados= [img4, img5]\n",
    "labels = [\n",
    "    'Mosaico 4',\n",
    "    'Mosaico 5']\n",
    "vis_params3=  [\n",
    "     vizParams, \n",
    "    vizParams]"
   ]
  },
  {
   "cell_type": "code",
   "execution_count": 180,
   "id": "e59d0286",
   "metadata": {
    "ExecuteTime": {
     "end_time": "2021-10-28T13:04:20.724113Z",
     "start_time": "2021-10-28T13:04:19.081398Z"
    }
   },
   "outputs": [
    {
     "data": {
      "application/vnd.jupyter.widget-view+json": {
       "model_id": "9f9267d907c449a586777b1772e7fb88",
       "version_major": 2,
       "version_minor": 0
      },
      "text/plain": [
       "GridspecLayout(children=(Output(layout=Layout(grid_area='widget001')), Output(layout=Layout(grid_area='widget0…"
      ]
     },
     "metadata": {},
     "output_type": "display_data"
    }
   ],
   "source": [
    "geemap.linked_maps(rows=1, cols=2, height=\"400px\", center=[-45, -75], zoom=4, \n",
    "                   ee_objects=resultados, vis_params=vis_params3, labels=labels, label_position=\"topright\")"
   ]
  },
  {
   "cell_type": "code",
   "execution_count": 181,
   "id": "b5709218",
   "metadata": {
    "ExecuteTime": {
     "end_time": "2021-10-28T13:04:21.980334Z",
     "start_time": "2021-10-28T13:04:20.725103Z"
    }
   },
   "outputs": [
    {
     "data": {
      "application/vnd.jupyter.widget-view+json": {
       "model_id": "abdd1e3e4f3c4f6d88c2afc48e25e751",
       "version_major": 2,
       "version_minor": 0
      },
      "text/plain": [
       "Map(center=[-45, -70], controls=(WidgetControl(options=['position', 'transparent_bg'], widget=HBox(children=(T…"
      ]
     },
     "metadata": {},
     "output_type": "display_data"
    }
   ],
   "source": [
    "Map10.addLayer(img4, vizParams, 'Mosaico 4')\n",
    "Map10.addLayer(img5, vizParams, 'Mosaico 5')\n",
    "Map10"
   ]
  },
  {
   "cell_type": "markdown",
   "id": "4ad82149",
   "metadata": {},
   "source": [
    "## Generación Mosaico L5"
   ]
  },
  {
   "cell_type": "code",
   "execution_count": 182,
   "id": "bf2cadb4",
   "metadata": {
    "ExecuteTime": {
     "end_time": "2021-10-28T13:04:21.982585Z",
     "start_time": "2021-10-28T13:04:21.981144Z"
    }
   },
   "outputs": [],
   "source": [
    "# mosaic_landsat = coleccion2007.median()"
   ]
  },
  {
   "cell_type": "code",
   "execution_count": 183,
   "id": "8b8bb7ac",
   "metadata": {
    "ExecuteTime": {
     "end_time": "2021-10-28T13:04:21.986093Z",
     "start_time": "2021-10-28T13:04:21.983622Z"
    }
   },
   "outputs": [],
   "source": [
    "mosaic_landsat = T4_median.set('SENSOR_ID', 'OLI_TIRS')"
   ]
  },
  {
   "cell_type": "code",
   "execution_count": 184,
   "id": "d6c348a7",
   "metadata": {
    "ExecuteTime": {
     "end_time": "2021-10-28T13:04:21.988856Z",
     "start_time": "2021-10-28T13:04:21.987257Z"
    }
   },
   "outputs": [],
   "source": [
    "cloud_mosaic = ee.Algorithms.Landsat.simpleCloudScore(mosaic_landsat)"
   ]
  },
  {
   "cell_type": "code",
   "execution_count": 185,
   "id": "687ec51e",
   "metadata": {
    "ExecuteTime": {
     "end_time": "2021-10-28T13:04:21.991402Z",
     "start_time": "2021-10-28T13:04:21.989864Z"
    }
   },
   "outputs": [],
   "source": [
    "cloud_mosaic = cloud_mosaic.select('cloud')"
   ]
  },
  {
   "cell_type": "code",
   "execution_count": 186,
   "id": "3079ca3c",
   "metadata": {
    "ExecuteTime": {
     "end_time": "2021-10-28T13:04:21.993982Z",
     "start_time": "2021-10-28T13:04:21.992422Z"
    }
   },
   "outputs": [],
   "source": [
    "palette_nubes = ['#1a9850', '#66bd63', '#a6d96a', '#d9ef8b', '#fee08b', '#fdae61', '#f46d43', '#d73027']"
   ]
  },
  {
   "cell_type": "code",
   "execution_count": 187,
   "id": "129a6537",
   "metadata": {
    "ExecuteTime": {
     "end_time": "2021-10-28T13:04:21.996535Z",
     "start_time": "2021-10-28T13:04:21.994932Z"
    }
   },
   "outputs": [],
   "source": [
    "resultados= [cloud_mosaic, T4_median]\n",
    "vis_params2=  [\n",
    "    {'palette':palette_nubes}, \n",
    "    vizParams]\n",
    "labels = [\n",
    "    'Nubes mosaico',\n",
    "    'mosaico inicial']"
   ]
  },
  {
   "cell_type": "code",
   "execution_count": 188,
   "id": "4168c896",
   "metadata": {
    "ExecuteTime": {
     "end_time": "2021-10-28T13:04:23.199998Z",
     "start_time": "2021-10-28T13:04:21.997728Z"
    }
   },
   "outputs": [
    {
     "data": {
      "application/vnd.jupyter.widget-view+json": {
       "model_id": "20a889b59d094c24b9a416018c58d87d",
       "version_major": 2,
       "version_minor": 0
      },
      "text/plain": [
       "GridspecLayout(children=(Output(layout=Layout(grid_area='widget001')), Output(layout=Layout(grid_area='widget0…"
      ]
     },
     "metadata": {},
     "output_type": "display_data"
    }
   ],
   "source": [
    "geemap.linked_maps(rows=1, cols=2, height=\"400px\", center=[-45, -75], zoom=4, \n",
    "                   ee_objects=resultados, vis_params=vis_params2, labels=labels, label_position=\"topright\")"
   ]
  },
  {
   "cell_type": "code",
   "execution_count": 189,
   "id": "137377f9",
   "metadata": {
    "ExecuteTime": {
     "end_time": "2021-10-28T13:04:23.202793Z",
     "start_time": "2021-10-28T13:04:23.201025Z"
    }
   },
   "outputs": [],
   "source": [
    "def llenado(image):\n",
    "    return image.where(cloud_mosaic.gt(10),T_median)"
   ]
  },
  {
   "cell_type": "code",
   "execution_count": 190,
   "id": "c047da1b",
   "metadata": {
    "ExecuteTime": {
     "end_time": "2021-10-28T13:04:23.205806Z",
     "start_time": "2021-10-28T13:04:23.204070Z"
    }
   },
   "outputs": [],
   "source": [
    "img1 = llenado(T4_median)"
   ]
  },
  {
   "cell_type": "code",
   "execution_count": 191,
   "id": "d5d3e2d4",
   "metadata": {
    "ExecuteTime": {
     "end_time": "2021-10-28T13:04:23.208830Z",
     "start_time": "2021-10-28T13:04:23.207016Z"
    }
   },
   "outputs": [],
   "source": [
    "img1_landsat = img1.set('SENSOR_ID', 'OLI_TIRS')\n",
    "cloud_img1 = ee.Algorithms.Landsat.simpleCloudScore(img1_landsat)\n",
    "cloud_img1 = cloud_img1.select('cloud')"
   ]
  },
  {
   "cell_type": "code",
   "execution_count": 192,
   "id": "6cfb436c",
   "metadata": {
    "ExecuteTime": {
     "end_time": "2021-10-28T13:04:23.211618Z",
     "start_time": "2021-10-28T13:04:23.209899Z"
    }
   },
   "outputs": [],
   "source": [
    "resultados= [cloud_img1, img1]\n",
    "vis_params2=  [\n",
    "    {'palette':palette_nubes}, \n",
    "    vizParams]\n",
    "labels = [\n",
    "    'Nubes Mosaico 1',\n",
    "    'Mosaico 1']"
   ]
  },
  {
   "cell_type": "code",
   "execution_count": 193,
   "id": "291bba3f",
   "metadata": {
    "ExecuteTime": {
     "end_time": "2021-10-28T13:04:24.481263Z",
     "start_time": "2021-10-28T13:04:23.212452Z"
    }
   },
   "outputs": [
    {
     "data": {
      "application/vnd.jupyter.widget-view+json": {
       "model_id": "5f5586fb32734979a7d93c9b976521fc",
       "version_major": 2,
       "version_minor": 0
      },
      "text/plain": [
       "GridspecLayout(children=(Output(layout=Layout(grid_area='widget001')), Output(layout=Layout(grid_area='widget0…"
      ]
     },
     "metadata": {},
     "output_type": "display_data"
    }
   ],
   "source": [
    "geemap.linked_maps(rows=1, cols=2, height=\"400px\", center=[-45, -75], zoom=4, \n",
    "                   ee_objects=resultados, vis_params=vis_params2, labels=labels, label_position=\"topright\")"
   ]
  },
  {
   "cell_type": "code",
   "execution_count": 194,
   "id": "a3ddf544",
   "metadata": {
    "ExecuteTime": {
     "end_time": "2021-10-28T13:04:24.483918Z",
     "start_time": "2021-10-28T13:04:24.482159Z"
    }
   },
   "outputs": [],
   "source": [
    "def llenado2(image):\n",
    "    return image.where(cloud_img1.gt(10), T2_median)"
   ]
  },
  {
   "cell_type": "code",
   "execution_count": 195,
   "id": "98a13516",
   "metadata": {
    "ExecuteTime": {
     "end_time": "2021-10-28T13:04:24.487091Z",
     "start_time": "2021-10-28T13:04:24.484742Z"
    }
   },
   "outputs": [],
   "source": [
    "img2 = llenado2(img1)"
   ]
  },
  {
   "cell_type": "code",
   "execution_count": 196,
   "id": "3934042b",
   "metadata": {
    "ExecuteTime": {
     "end_time": "2021-10-28T13:04:24.490040Z",
     "start_time": "2021-10-28T13:04:24.488366Z"
    }
   },
   "outputs": [],
   "source": [
    "img2_landsat = img2.set('SENSOR_ID', 'OLI_TIRS')\n",
    "cloud_img2 = ee.Algorithms.Landsat.simpleCloudScore(img2_landsat)\n",
    "cloud_img2 = cloud_img2.select('cloud')"
   ]
  },
  {
   "cell_type": "code",
   "execution_count": 197,
   "id": "4de67148",
   "metadata": {
    "ExecuteTime": {
     "end_time": "2021-10-28T13:04:24.492638Z",
     "start_time": "2021-10-28T13:04:24.491096Z"
    }
   },
   "outputs": [],
   "source": [
    "resultados= [cloud_img2, img2]\n",
    "vis_params2=  [\n",
    "    {'palette':palette_nubes}, \n",
    "    vizParams]\n",
    "labels = [\n",
    "    'Nubes Mosaico 2',\n",
    "    'Mosaico 2']"
   ]
  },
  {
   "cell_type": "code",
   "execution_count": 198,
   "id": "61d0f16b",
   "metadata": {
    "ExecuteTime": {
     "end_time": "2021-10-28T13:04:25.794460Z",
     "start_time": "2021-10-28T13:04:24.493765Z"
    }
   },
   "outputs": [
    {
     "data": {
      "application/vnd.jupyter.widget-view+json": {
       "model_id": "c5d4bcd1b15547ab82aa1af9ae85dcf3",
       "version_major": 2,
       "version_minor": 0
      },
      "text/plain": [
       "GridspecLayout(children=(Output(layout=Layout(grid_area='widget001')), Output(layout=Layout(grid_area='widget0…"
      ]
     },
     "metadata": {},
     "output_type": "display_data"
    }
   ],
   "source": [
    "geemap.linked_maps(rows=1, cols=2, height=\"400px\", center=[-45, -75], zoom=4, \n",
    "                   ee_objects=resultados, vis_params=vis_params2, labels=labels, label_position=\"topright\")"
   ]
  },
  {
   "cell_type": "code",
   "execution_count": 199,
   "id": "4297c4a7",
   "metadata": {
    "ExecuteTime": {
     "end_time": "2021-10-28T13:04:25.797233Z",
     "start_time": "2021-10-28T13:04:25.795585Z"
    }
   },
   "outputs": [],
   "source": [
    "def llenado3(image):\n",
    "    return image.where(cloud_img2.gt(10), T3_median)"
   ]
  },
  {
   "cell_type": "code",
   "execution_count": 200,
   "id": "5db0ac27",
   "metadata": {
    "ExecuteTime": {
     "end_time": "2021-10-28T13:04:25.800237Z",
     "start_time": "2021-10-28T13:04:25.798537Z"
    }
   },
   "outputs": [],
   "source": [
    "img3 = llenado3(img2)"
   ]
  },
  {
   "cell_type": "code",
   "execution_count": 201,
   "id": "9f5eaef5",
   "metadata": {
    "ExecuteTime": {
     "end_time": "2021-10-28T13:04:25.803288Z",
     "start_time": "2021-10-28T13:04:25.801452Z"
    }
   },
   "outputs": [],
   "source": [
    "img3_landsat = img3.set('SENSOR_ID', 'OLI_TIRS')\n",
    "cloud_img3 = ee.Algorithms.Landsat.simpleCloudScore(img3_landsat)\n",
    "cloud_img3 = cloud_img3.select('cloud')"
   ]
  },
  {
   "cell_type": "code",
   "execution_count": 202,
   "id": "f502e3e1",
   "metadata": {
    "ExecuteTime": {
     "end_time": "2021-10-28T13:04:25.806295Z",
     "start_time": "2021-10-28T13:04:25.804407Z"
    }
   },
   "outputs": [],
   "source": [
    "resultados= [cloud_img3, img3]\n",
    "vis_params2=  [\n",
    "    {'palette':palette_nubes}, \n",
    "    vizParams]\n",
    "labels = [\n",
    "    'Nubes Mosaico 3',\n",
    "    'Mosaico 3']"
   ]
  },
  {
   "cell_type": "code",
   "execution_count": 203,
   "id": "a6b02f45",
   "metadata": {
    "ExecuteTime": {
     "end_time": "2021-10-28T13:04:27.154529Z",
     "start_time": "2021-10-28T13:04:25.807150Z"
    }
   },
   "outputs": [
    {
     "data": {
      "application/vnd.jupyter.widget-view+json": {
       "model_id": "977f8b63be2a4cf5940115a82cddb326",
       "version_major": 2,
       "version_minor": 0
      },
      "text/plain": [
       "GridspecLayout(children=(Output(layout=Layout(grid_area='widget001')), Output(layout=Layout(grid_area='widget0…"
      ]
     },
     "metadata": {},
     "output_type": "display_data"
    }
   ],
   "source": [
    "geemap.linked_maps(rows=1, cols=2, height=\"400px\", center=[-45, -75], zoom=4, \n",
    "                   ee_objects=resultados, vis_params=vis_params2, labels=labels, label_position=\"topright\")"
   ]
  },
  {
   "cell_type": "code",
   "execution_count": 204,
   "id": "86e87b44",
   "metadata": {
    "ExecuteTime": {
     "end_time": "2021-10-28T13:04:27.157400Z",
     "start_time": "2021-10-28T13:04:27.155411Z"
    }
   },
   "outputs": [],
   "source": [
    "def llenado4(image):\n",
    "    return image.where(cloud_img3.gt(10), T4_median)"
   ]
  },
  {
   "cell_type": "code",
   "execution_count": 205,
   "id": "3d5a46a4",
   "metadata": {
    "ExecuteTime": {
     "end_time": "2021-10-28T13:04:27.160184Z",
     "start_time": "2021-10-28T13:04:27.158610Z"
    }
   },
   "outputs": [],
   "source": [
    "img4 = llenado4(img3)"
   ]
  },
  {
   "cell_type": "code",
   "execution_count": 206,
   "id": "299e31f9",
   "metadata": {
    "ExecuteTime": {
     "end_time": "2021-10-28T13:04:27.163200Z",
     "start_time": "2021-10-28T13:04:27.161383Z"
    }
   },
   "outputs": [],
   "source": [
    "img4_landsat = img4.set('SENSOR_ID', 'OLI_TIRS')\n",
    "cloud_img4 = ee.Algorithms.Landsat.simpleCloudScore(img4_landsat)\n",
    "cloud_img4 = cloud_img4.select('cloud')"
   ]
  },
  {
   "cell_type": "code",
   "execution_count": 207,
   "id": "57298140",
   "metadata": {
    "ExecuteTime": {
     "end_time": "2021-10-28T13:04:27.166220Z",
     "start_time": "2021-10-28T13:04:27.164361Z"
    }
   },
   "outputs": [],
   "source": [
    "resultados= [cloud_img4, img4]\n",
    "vis_params2=  [\n",
    "    {'palette':palette_nubes}, \n",
    "    vizParams]\n",
    "labels = [\n",
    "    'Nubes Mosaico 4',\n",
    "    'Mosaico 4']"
   ]
  },
  {
   "cell_type": "code",
   "execution_count": 208,
   "id": "f0a51d8a",
   "metadata": {
    "ExecuteTime": {
     "end_time": "2021-10-28T13:04:28.610376Z",
     "start_time": "2021-10-28T13:04:27.167179Z"
    }
   },
   "outputs": [
    {
     "data": {
      "application/vnd.jupyter.widget-view+json": {
       "model_id": "35253b0afa5a4c5dbbe614a47d0cd443",
       "version_major": 2,
       "version_minor": 0
      },
      "text/plain": [
       "GridspecLayout(children=(Output(layout=Layout(grid_area='widget001')), Output(layout=Layout(grid_area='widget0…"
      ]
     },
     "metadata": {},
     "output_type": "display_data"
    }
   ],
   "source": [
    "geemap.linked_maps(rows=1, cols=2, height=\"400px\", center=[-45, -75], zoom=4, \n",
    "                   ee_objects=resultados, vis_params=vis_params2, labels=labels, label_position=\"topright\")"
   ]
  },
  {
   "cell_type": "code",
   "execution_count": 209,
   "id": "6f5efe7b",
   "metadata": {
    "ExecuteTime": {
     "end_time": "2021-10-28T13:04:28.613158Z",
     "start_time": "2021-10-28T13:04:28.611280Z"
    }
   },
   "outputs": [],
   "source": [
    "hansenImage = ee.Image('UMD/hansen/global_forest_change_2015')\n",
    "datamask = hansenImage.select('datamask')"
   ]
  },
  {
   "cell_type": "code",
   "execution_count": 210,
   "id": "f33d1fe7",
   "metadata": {
    "ExecuteTime": {
     "end_time": "2021-10-28T13:04:28.616232Z",
     "start_time": "2021-10-28T13:04:28.614442Z"
    }
   },
   "outputs": [],
   "source": [
    "def llenado5(image):\n",
    "    return image.where(datamask.eq(2), QM_NDWI_T1_l5)"
   ]
  },
  {
   "cell_type": "code",
   "execution_count": 211,
   "id": "a04a6bc4",
   "metadata": {
    "ExecuteTime": {
     "end_time": "2021-10-28T13:04:28.618909Z",
     "start_time": "2021-10-28T13:04:28.617282Z"
    }
   },
   "outputs": [],
   "source": [
    "img5 = llenado5(img4)"
   ]
  },
  {
   "cell_type": "code",
   "execution_count": 212,
   "id": "86957e48",
   "metadata": {
    "ExecuteTime": {
     "end_time": "2021-10-28T13:04:28.621876Z",
     "start_time": "2021-10-28T13:04:28.620124Z"
    }
   },
   "outputs": [],
   "source": [
    "img5_landsat = img5.set('SENSOR_ID', 'OLI_TIRS')\n",
    "cloud_img5 = ee.Algorithms.Landsat.simpleCloudScore(img5_landsat)\n",
    "cloud_img5 = cloud_img5.select('cloud')"
   ]
  },
  {
   "cell_type": "code",
   "execution_count": 213,
   "id": "572220e7",
   "metadata": {
    "ExecuteTime": {
     "end_time": "2021-10-28T13:04:28.624517Z",
     "start_time": "2021-10-28T13:04:28.622942Z"
    }
   },
   "outputs": [],
   "source": [
    "resultados= [img4, img5]\n",
    "labels = [\n",
    "    'Mosaico 4',\n",
    "    'Mosaico 5']\n",
    "vis_params3=  [\n",
    "     vizParams, \n",
    "    vizParams]"
   ]
  },
  {
   "cell_type": "code",
   "execution_count": 214,
   "id": "59baffa8",
   "metadata": {
    "ExecuteTime": {
     "end_time": "2021-10-28T13:04:29.875993Z",
     "start_time": "2021-10-28T13:04:28.625594Z"
    }
   },
   "outputs": [
    {
     "data": {
      "application/vnd.jupyter.widget-view+json": {
       "model_id": "abdd1e3e4f3c4f6d88c2afc48e25e751",
       "version_major": 2,
       "version_minor": 0
      },
      "text/plain": [
       "Map(center=[-45, -70], controls=(WidgetControl(options=['position', 'transparent_bg'], widget=HBox(children=(T…"
      ]
     },
     "metadata": {},
     "output_type": "display_data"
    }
   ],
   "source": [
    "Map10.addLayer(img4, vizParams, 'Mosaico 4')\n",
    "Map10.addLayer(img5, vizParams, 'Mosaico 5')\n",
    "Map10"
   ]
  },
  {
   "cell_type": "code",
   "execution_count": 215,
   "id": "024f7ec4",
   "metadata": {
    "ExecuteTime": {
     "end_time": "2021-10-28T13:04:29.878768Z",
     "start_time": "2021-10-28T13:04:29.876875Z"
    }
   },
   "outputs": [],
   "source": [
    "img5_b = img5.select(['B1','B2','B3','B4','B5','B6','B7'])"
   ]
  },
  {
   "cell_type": "code",
   "execution_count": 216,
   "id": "f83b9a88",
   "metadata": {
    "ExecuteTime": {
     "end_time": "2021-10-28T13:04:30.163439Z",
     "start_time": "2021-10-28T13:04:29.879913Z"
    }
   },
   "outputs": [],
   "source": [
    "molde = os.path.join(work_dir, 'molde.shp')\n",
    "molde_grande = geemap.shp_to_ee(molde)"
   ]
  },
  {
   "cell_type": "code",
   "execution_count": 217,
   "id": "bc076138",
   "metadata": {
    "ExecuteTime": {
     "end_time": "2021-10-28T13:04:30.166043Z",
     "start_time": "2021-10-28T13:04:30.164494Z"
    }
   },
   "outputs": [],
   "source": [
    "# img5_b_c = img5_b.clip(molde_grande).unmask()"
   ]
  },
  {
   "cell_type": "code",
   "execution_count": 235,
   "id": "b15d8ed8",
   "metadata": {
    "ExecuteTime": {
     "end_time": "2021-10-28T15:42:22.211109Z",
     "start_time": "2021-10-28T15:42:22.209068Z"
    }
   },
   "outputs": [],
   "source": [
    "img4_b = img4.select(['B1','B2','B3','B4','B5','B6','B7'])"
   ]
  },
  {
   "cell_type": "code",
   "execution_count": 218,
   "id": "3cd9a1ef",
   "metadata": {
    "ExecuteTime": {
     "end_time": "2021-10-28T13:04:32.707888Z",
     "start_time": "2021-10-28T13:04:30.167289Z"
    }
   },
   "outputs": [],
   "source": [
    "partes_1 = os.path.join(work_dir, '1.shp')\n",
    "partes1 = geemap.shp_to_ee(partes_1)\n",
    "\n",
    "partes_2 = os.path.join(work_dir, '2.shp')\n",
    "partes2 = geemap.shp_to_ee(partes_2)\n",
    "\n",
    "partes_3 = os.path.join(work_dir, '3.shp')\n",
    "partes3 = geemap.shp_to_ee(partes_3)\n",
    "\n",
    "partes_4 = os.path.join(work_dir, '4.shp')\n",
    "partes4 = geemap.shp_to_ee(partes_4)\n",
    "\n",
    "partes_5 = os.path.join(work_dir, '5.shp')\n",
    "partes5 = geemap.shp_to_ee(partes_5)\n",
    "\n",
    "partes_6 = os.path.join(work_dir, '6.shp')\n",
    "partes6 = geemap.shp_to_ee(partes_6)\n",
    "\n",
    "partes_7 = os.path.join(work_dir, '7.shp')\n",
    "partes7 = geemap.shp_to_ee(partes_7)\n",
    "\n",
    "partes_8 = os.path.join(work_dir, '8.shp')\n",
    "partes8 = geemap.shp_to_ee(partes_8)"
   ]
  },
  {
   "cell_type": "code",
   "execution_count": 219,
   "id": "498b7180",
   "metadata": {
    "ExecuteTime": {
     "end_time": "2021-10-28T13:04:32.710540Z",
     "start_time": "2021-10-28T13:04:32.709010Z"
    }
   },
   "outputs": [],
   "source": [
    "# reproj = img5_b \\\n",
    "#     .reproject(crs='EPSG:32719',scale = 30)"
   ]
  },
  {
   "cell_type": "code",
   "execution_count": 220,
   "id": "c46679a4",
   "metadata": {
    "ExecuteTime": {
     "end_time": "2021-10-28T13:04:32.714248Z",
     "start_time": "2021-10-28T13:04:32.711753Z"
    }
   },
   "outputs": [],
   "source": [
    "img5_1 = img5_b.clip(partes1).unmask()\n",
    "img5_2 = img5_b.clip(partes2).unmask()\n",
    "img5_3 = img5_b.clip(partes3).unmask()\n",
    "img5_4 = img5_b.clip(partes4).unmask()\n",
    "img5_5 = img5_b.clip(partes5).unmask()\n",
    "img5_6 = img5_b.clip(partes6).unmask()\n",
    "img5_7 = img5_b.clip(partes7).unmask()\n",
    "img5_8 = img5_b.clip(partes8).unmask()"
   ]
  },
  {
   "cell_type": "code",
   "execution_count": 236,
   "id": "b1d44049",
   "metadata": {
    "ExecuteTime": {
     "end_time": "2021-10-28T15:46:11.084842Z",
     "start_time": "2021-10-28T15:46:11.082094Z"
    }
   },
   "outputs": [],
   "source": [
    "img4_1 = img4_b.clip(partes1).unmask()\n",
    "img4_2 = img4_b.clip(partes2).unmask()\n",
    "img4_3 = img4_b.clip(partes3).unmask()\n",
    "img4_4 = img4_b.clip(partes4).unmask()\n",
    "img4_5 = img4_b.clip(partes5).unmask()\n",
    "img4_6 = img4_b.clip(partes6).unmask()\n",
    "img4_7 = img4_b.clip(partes7).unmask()\n",
    "img4_8 = img4_b.clip(partes8).unmask()"
   ]
  },
  {
   "cell_type": "code",
   "execution_count": 221,
   "id": "9a5a31b1",
   "metadata": {
    "ExecuteTime": {
     "end_time": "2021-10-28T13:04:32.717229Z",
     "start_time": "2021-10-28T13:04:32.715437Z"
    }
   },
   "outputs": [],
   "source": [
    "# reproj1 = img5_1.reproject(crs='EPSG:32719',scale = 30)\n",
    "# reproj2 = img5_2.reproject(crs='EPSG:32719',scale = 30)\n",
    "# reproj3 = img5_3.reproject(crs='EPSG:32719',scale = 30)\n",
    "# reproj4 = img5_4.reproject(crs='EPSG:32719',scale = 30)\n",
    "# reproj5 = img5_5.reproject(crs='EPSG:32719',scale = 30)\n",
    "# reproj6 = img5_6.reproject(crs='EPSG:32719',scale = 30)\n",
    "# reproj7 = img5_7.reproject(crs='EPSG:32719',scale = 30)\n",
    "# reproj8 = img5_8.reproject(crs='EPSG:32719',scale = 30)"
   ]
  },
  {
   "cell_type": "code",
   "execution_count": 222,
   "id": "e89580f5",
   "metadata": {
    "ExecuteTime": {
     "end_time": "2021-10-28T13:04:32.719781Z",
     "start_time": "2021-10-28T13:04:32.718235Z"
    }
   },
   "outputs": [],
   "source": [
    "# img5_1 = reproj.clip(partes1).unmask()\n",
    "# img5_2 = reproj.clip(partes2).unmask()\n",
    "# img5_3 = reproj.clip(partes3).unmask()\n",
    "# img5_4 = reproj.clip(partes4).unmask()\n",
    "# img5_5 = reproj.clip(partes5).unmask()\n",
    "# img5_6 = reproj.clip(partes6).unmask()\n",
    "# img5_7 = reproj.clip(partes7).unmask()\n",
    "# img5_8 = reproj.clip(partes8).unmask()"
   ]
  },
  {
   "cell_type": "code",
   "execution_count": 237,
   "id": "70204d08",
   "metadata": {
    "ExecuteTime": {
     "end_time": "2021-10-28T15:47:04.481797Z",
     "start_time": "2021-10-28T15:46:54.954596Z"
    }
   },
   "outputs": [
    {
     "name": "stdout",
     "output_type": "stream",
     "text": [
      "Exporting mosaico4_2008_1 ...\n",
      "Exporting mosaico4_2008_2 ...\n",
      "Exporting mosaico4_2008_3 ...\n",
      "Exporting mosaico4_2008_4 ...\n",
      "Exporting mosaico4_2008_5 ...\n",
      "Exporting mosaico4_2008_6 ...\n",
      "Exporting mosaico4_2008_7 ...\n",
      "Exporting mosaico4_2008_8 ...\n"
     ]
    }
   ],
   "source": [
    "geemap.ee_export_image_to_drive(img4_1, description='mosaico4_2008_1', folder='expR', region=partes1.geometry(), scale=30)\n",
    "geemap.ee_export_image_to_drive(img4_2, description='mosaico4_2008_2', folder='expR', region=partes2.geometry(), scale=30)\n",
    "geemap.ee_export_image_to_drive(img4_3, description='mosaico4_2008_3', folder='expR', region=partes3.geometry(), scale=30)\n",
    "geemap.ee_export_image_to_drive(img4_4, description='mosaico4_2008_4', folder='expR', region=partes4.geometry(), scale=30)\n",
    "geemap.ee_export_image_to_drive(img4_5, description='mosaico4_2008_5', folder='expR', region=partes5.geometry(), scale=30)\n",
    "geemap.ee_export_image_to_drive(img4_6, description='mosaico4_2008_6', folder='expR', region=partes6.geometry(), scale=30)\n",
    "geemap.ee_export_image_to_drive(img4_7, description='mosaico4_2008_7', folder='expR', region=partes7.geometry(), scale=30)\n",
    "geemap.ee_export_image_to_drive(img4_8, description='mosaico4_2008_8', folder='expR', region=partes8.geometry(), scale=30)"
   ]
  },
  {
   "cell_type": "code",
   "execution_count": 223,
   "id": "ed01881d",
   "metadata": {
    "ExecuteTime": {
     "end_time": "2021-10-28T13:04:32.722444Z",
     "start_time": "2021-10-28T13:04:32.720885Z"
    }
   },
   "outputs": [],
   "source": [
    "# geemap.ee_export_image_to_drive(img5_1, description='mosaico_2008_1', folder='expR', region=partes1.geometry(), scale=30)"
   ]
  },
  {
   "cell_type": "code",
   "execution_count": 224,
   "id": "4f2a474e",
   "metadata": {
    "ExecuteTime": {
     "end_time": "2021-10-28T13:04:32.724790Z",
     "start_time": "2021-10-28T13:04:32.723436Z"
    }
   },
   "outputs": [],
   "source": [
    "# geemap.ee_export_image_to_drive(img5_2, description='mosaico_2008_2', folder='expR', region=partes2.geometry(), scale=30)"
   ]
  },
  {
   "cell_type": "code",
   "execution_count": 225,
   "id": "9ebf988b",
   "metadata": {
    "ExecuteTime": {
     "end_time": "2021-10-28T13:04:33.407843Z",
     "start_time": "2021-10-28T13:04:32.725819Z"
    }
   },
   "outputs": [
    {
     "name": "stdout",
     "output_type": "stream",
     "text": [
      "Exporting mosaico_19s_3 ...\n"
     ]
    }
   ],
   "source": [
    "# geemap.ee_export_image_to_drive(img5_3, description='mosaico_19s_3', folder='expR', region=partes3.geometry(), scale=30)"
   ]
  },
  {
   "cell_type": "code",
   "execution_count": 226,
   "id": "efaac393",
   "metadata": {
    "ExecuteTime": {
     "end_time": "2021-10-28T13:04:33.410583Z",
     "start_time": "2021-10-28T13:04:33.409039Z"
    }
   },
   "outputs": [],
   "source": [
    "# geemap.ee_export_image_to_drive(img5_4, description='mosaico_2008_4', folder='expR', region=partes4.geometry(), scale=30)"
   ]
  },
  {
   "cell_type": "code",
   "execution_count": 227,
   "id": "40c8541c",
   "metadata": {
    "ExecuteTime": {
     "end_time": "2021-10-28T13:04:33.413273Z",
     "start_time": "2021-10-28T13:04:33.411725Z"
    }
   },
   "outputs": [],
   "source": [
    "# geemap.ee_export_image_to_drive(img5_5, description='mosaico_2008_5', folder='expR', region=partes5.geometry(), scale=30)"
   ]
  },
  {
   "cell_type": "code",
   "execution_count": 228,
   "id": "71109d1a",
   "metadata": {
    "ExecuteTime": {
     "end_time": "2021-10-28T13:04:33.416298Z",
     "start_time": "2021-10-28T13:04:33.414507Z"
    }
   },
   "outputs": [],
   "source": [
    "# geemap.ee_export_image_to_drive(img5_6, description='mosaico_2008_6', folder='expR', region=partes6.geometry(), scale=30)"
   ]
  },
  {
   "cell_type": "code",
   "execution_count": 229,
   "id": "86ad30af",
   "metadata": {
    "ExecuteTime": {
     "end_time": "2021-10-28T13:04:33.418759Z",
     "start_time": "2021-10-28T13:04:33.417275Z"
    }
   },
   "outputs": [],
   "source": [
    "# geemap.ee_export_image_to_drive(img5_7, description='mosaico_2008_7', folder='expR', region=partes7.geometry(), scale=30)"
   ]
  },
  {
   "cell_type": "code",
   "execution_count": 230,
   "id": "d31d8a10",
   "metadata": {
    "ExecuteTime": {
     "end_time": "2021-10-28T13:04:33.421308Z",
     "start_time": "2021-10-28T13:04:33.419757Z"
    }
   },
   "outputs": [],
   "source": [
    "# geemap.ee_export_image_to_drive(img5_8, description='mosaico_2008_8', folder='expR', region=partes8.geometry(), scale=30)"
   ]
  },
  {
   "cell_type": "code",
   "execution_count": 231,
   "id": "d1439211",
   "metadata": {
    "ExecuteTime": {
     "end_time": "2021-10-28T13:04:33.423800Z",
     "start_time": "2021-10-28T13:04:33.422501Z"
    }
   },
   "outputs": [],
   "source": [
    "# reproj= img5_b \\\n",
    "#     .reproject(crs='EPSG:4326',scale = 30)"
   ]
  },
  {
   "cell_type": "code",
   "execution_count": 232,
   "id": "fb49fa78",
   "metadata": {
    "ExecuteTime": {
     "end_time": "2021-10-28T13:04:33.426382Z",
     "start_time": "2021-10-28T13:04:33.424876Z"
    }
   },
   "outputs": [],
   "source": [
    "# geemap.ee_export_image_to_drive(reproj, description='mosaico_2008', folder='export2', region=patagonia_grande.geometry(), scale=30)"
   ]
  }
 ],
 "metadata": {
  "kernelspec": {
   "display_name": "Python 3 (ipykernel)",
   "language": "python",
   "name": "python3"
  },
  "language_info": {
   "codemirror_mode": {
    "name": "ipython",
    "version": 3
   },
   "file_extension": ".py",
   "mimetype": "text/x-python",
   "name": "python",
   "nbconvert_exporter": "python",
   "pygments_lexer": "ipython3",
   "version": "3.8.11"
  },
  "toc": {
   "base_numbering": 1,
   "nav_menu": {},
   "number_sections": true,
   "sideBar": true,
   "skip_h1_title": false,
   "title_cell": "Table of Contents",
   "title_sidebar": "Contents",
   "toc_cell": false,
   "toc_position": {
    "height": "calc(100% - 180px)",
    "left": "10px",
    "top": "150px",
    "width": "384px"
   },
   "toc_section_display": true,
   "toc_window_display": true
  },
  "varInspector": {
   "cols": {
    "lenName": 16,
    "lenType": 16,
    "lenVar": 40
   },
   "kernels_config": {
    "python": {
     "delete_cmd_postfix": "",
     "delete_cmd_prefix": "del ",
     "library": "var_list.py",
     "varRefreshCmd": "print(var_dic_list())"
    },
    "r": {
     "delete_cmd_postfix": ") ",
     "delete_cmd_prefix": "rm(",
     "library": "var_list.r",
     "varRefreshCmd": "cat(var_dic_list()) "
    }
   },
   "types_to_exclude": [
    "module",
    "function",
    "builtin_function_or_method",
    "instance",
    "_Feature"
   ],
   "window_display": false
  }
 },
 "nbformat": 4,
 "nbformat_minor": 5
}
