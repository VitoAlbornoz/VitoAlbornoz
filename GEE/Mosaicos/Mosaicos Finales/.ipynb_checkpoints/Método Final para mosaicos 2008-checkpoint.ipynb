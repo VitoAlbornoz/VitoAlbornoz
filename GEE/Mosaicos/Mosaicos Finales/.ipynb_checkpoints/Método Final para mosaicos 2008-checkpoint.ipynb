{
 "cells": [
  {
   "cell_type": "markdown",
   "id": "c8ee7fef",
   "metadata": {},
   "source": [
    "# Mosaico 2008"
   ]
  },
  {
   "cell_type": "markdown",
   "id": "203f76ca",
   "metadata": {},
   "source": [
    "Script trabajado por Francisco Albornoz (2021-04-13) / Última modificación / Mosaicos Patagonia"
   ]
  },
  {
   "cell_type": "markdown",
   "id": "2fb5cdeb",
   "metadata": {},
   "source": [
    "2021-08-05 13:07:09 "
   ]
  },
  {
   "cell_type": "code",
   "execution_count": 1,
   "id": "3057c761",
   "metadata": {
    "ExecuteTime": {
     "end_time": "2021-10-19T13:13:06.576070Z",
     "start_time": "2021-10-19T13:13:05.994701Z"
    }
   },
   "outputs": [],
   "source": [
    "import ee\n",
    "import geemap\n",
    "import geemap.chart as chart\n",
    "import os\n",
    "import folium"
   ]
  },
  {
   "cell_type": "markdown",
   "id": "1997eeb4",
   "metadata": {},
   "source": [
    "<img src=https://www.ecopaysen.cl/wp-content/uploads/2019/12/ecopaysen_marca_web.png>"
   ]
  },
  {
   "cell_type": "code",
   "execution_count": 2,
   "id": "fca49a56",
   "metadata": {
    "ExecuteTime": {
     "end_time": "2021-10-19T13:13:16.266777Z",
     "start_time": "2021-10-19T13:13:06.577132Z"
    }
   },
   "outputs": [],
   "source": [
    "Map = geemap.Map(center = [-45, -70], zoom = 4)\n",
    "Map2 = geemap.Map(center = [-45, -70], zoom = 4)\n",
    "Map3 = geemap.Map(center = [-45, -70], zoom = 4)\n",
    "Map4 = geemap.Map(center = [-45, -70], zoom = 4)\n",
    "Map5 = geemap.Map(center = [-45, -70], zoom = 4)\n",
    "Map6 = geemap.Map(center = [-45, -70], zoom = 4)\n",
    "Map7 = geemap.Map(center = [-45, -70], zoom = 4)\n",
    "Map8 = geemap.Map(center = [-45, -70], zoom = 4)\n",
    "Map9 = geemap.Map(center = [-45, -70], zoom = 4)\n",
    "Map10 = geemap.Map(center = [-45, -70], zoom = 4)"
   ]
  },
  {
   "cell_type": "markdown",
   "id": "f26fe1a2",
   "metadata": {},
   "source": [
    "## Área de Estudio"
   ]
  },
  {
   "cell_type": "code",
   "execution_count": 3,
   "id": "2aae613d",
   "metadata": {
    "ExecuteTime": {
     "end_time": "2021-10-19T13:13:16.961856Z",
     "start_time": "2021-10-19T13:13:16.267583Z"
    }
   },
   "outputs": [],
   "source": [
    "work_dir = os.path.expanduser('../../../Data/shapes/')\n",
    "patagonia = os.path.join(work_dir, 'patagonia_nueva.shp')\n",
    "patagonia_grande = geemap.shp_to_ee(patagonia)"
   ]
  },
  {
   "cell_type": "markdown",
   "id": "fa8e2fea",
   "metadata": {},
   "source": [
    "## Colors Bars"
   ]
  },
  {
   "cell_type": "code",
   "execution_count": 4,
   "id": "1efebd11",
   "metadata": {
    "ExecuteTime": {
     "end_time": "2021-10-19T13:13:17.947047Z",
     "start_time": "2021-10-19T13:13:16.963292Z"
    }
   },
   "outputs": [],
   "source": [
    "import geemap.colormaps as cm"
   ]
  },
  {
   "cell_type": "code",
   "execution_count": 5,
   "id": "d159d70f",
   "metadata": {
    "ExecuteTime": {
     "end_time": "2021-10-19T13:13:17.949618Z",
     "start_time": "2021-10-19T13:13:17.948183Z"
    }
   },
   "outputs": [],
   "source": [
    "# cm.palettes.terrain"
   ]
  },
  {
   "cell_type": "code",
   "execution_count": 6,
   "id": "fe999a91",
   "metadata": {
    "ExecuteTime": {
     "end_time": "2021-10-19T13:13:17.955982Z",
     "start_time": "2021-10-19T13:13:17.950613Z"
    }
   },
   "outputs": [],
   "source": [
    "color_ndvi = cm.palettes.ndvi"
   ]
  },
  {
   "cell_type": "code",
   "execution_count": 7,
   "id": "05fb282a",
   "metadata": {
    "ExecuteTime": {
     "end_time": "2021-10-19T13:13:17.961495Z",
     "start_time": "2021-10-19T13:13:17.957030Z"
    }
   },
   "outputs": [],
   "source": [
    "color_ndwi = cm.palettes.ndwi"
   ]
  },
  {
   "cell_type": "code",
   "execution_count": 8,
   "id": "68161910",
   "metadata": {
    "ExecuteTime": {
     "end_time": "2021-10-19T13:13:17.965980Z",
     "start_time": "2021-10-19T13:13:17.962340Z"
    }
   },
   "outputs": [],
   "source": [
    "color_terrain = cm.palettes.terrain"
   ]
  },
  {
   "cell_type": "code",
   "execution_count": 9,
   "id": "8e99245f",
   "metadata": {
    "ExecuteTime": {
     "end_time": "2021-10-19T13:13:17.971230Z",
     "start_time": "2021-10-19T13:13:17.966906Z"
    }
   },
   "outputs": [],
   "source": [
    "color_glaciar = cm.palettes.PuBuGn_r"
   ]
  },
  {
   "cell_type": "code",
   "execution_count": 10,
   "id": "92b8cf41",
   "metadata": {
    "ExecuteTime": {
     "end_time": "2021-10-19T13:13:17.976038Z",
     "start_time": "2021-10-19T13:13:17.972776Z"
    }
   },
   "outputs": [],
   "source": [
    "color_nubes = cm.palettes.inferno"
   ]
  },
  {
   "cell_type": "code",
   "execution_count": 11,
   "id": "39930741",
   "metadata": {
    "ExecuteTime": {
     "end_time": "2021-10-19T13:13:17.980974Z",
     "start_time": "2021-10-19T13:13:17.976988Z"
    }
   },
   "outputs": [],
   "source": [
    "# cm.list_colormaps()"
   ]
  },
  {
   "cell_type": "code",
   "execution_count": 12,
   "id": "0ce61cbe",
   "metadata": {
    "ExecuteTime": {
     "end_time": "2021-10-19T13:13:17.985970Z",
     "start_time": "2021-10-19T13:13:17.981984Z"
    }
   },
   "outputs": [],
   "source": [
    "# cm.plot_colormaps(width=12, height=0.4)"
   ]
  },
  {
   "cell_type": "markdown",
   "id": "11666045",
   "metadata": {},
   "source": [
    "## Funciones"
   ]
  },
  {
   "cell_type": "code",
   "execution_count": 13,
   "id": "166db170",
   "metadata": {
    "ExecuteTime": {
     "end_time": "2021-10-19T13:13:17.990998Z",
     "start_time": "2021-10-19T13:13:17.986831Z"
    }
   },
   "outputs": [],
   "source": [
    "def add_ee_layer(self, ee_image_object, vis_params, name):\n",
    "  map_id_dict = ee.Image(ee_image_object).getMapId(vis_params)\n",
    "  folium.raster_layers.TileLayer(\n",
    "      tiles=map_id_dict['tile_fetcher'].url_format,\n",
    "      attr='Map Data &copy; <a href=\"https://earthengine.google.com/\">Google Earth Engine</a>',\n",
    "      name=name,\n",
    "      overlay=True,\n",
    "      control=True\n",
    "  ).add_to(self)\n",
    "\n",
    "folium.Map.add_ee_layer = add_ee_layer"
   ]
  },
  {
   "cell_type": "code",
   "execution_count": 14,
   "id": "b9e1cdaf",
   "metadata": {
    "ExecuteTime": {
     "end_time": "2021-10-19T13:13:17.996205Z",
     "start_time": "2021-10-19T13:13:17.991866Z"
    }
   },
   "outputs": [],
   "source": [
    "def addNDVI(image): \n",
    "    ndvi = image.normalizedDifference(['B4', 'B3']).rename('B11')\n",
    "    return image.addBands(ndvi)"
   ]
  },
  {
   "cell_type": "code",
   "execution_count": 15,
   "id": "38b0bfd0",
   "metadata": {
    "ExecuteTime": {
     "end_time": "2021-10-19T13:13:18.001137Z",
     "start_time": "2021-10-19T13:13:17.997253Z"
    }
   },
   "outputs": [],
   "source": [
    "def addNDVI7(image): \n",
    "    ndvi = image.normalizedDifference(['B4', 'B3']).rename('NDVI')\n",
    "    return image.addBands(ndvi)"
   ]
  },
  {
   "cell_type": "code",
   "execution_count": 16,
   "id": "ad105a37",
   "metadata": {
    "ExecuteTime": {
     "end_time": "2021-10-19T13:13:18.006210Z",
     "start_time": "2021-10-19T13:13:18.002226Z"
    }
   },
   "outputs": [],
   "source": [
    "def addNDWI(image):\n",
    "    ndwi = image.normalizedDifference(['B2','B4']).rename('NDWI')\n",
    "    return image.addBands(ndwi)"
   ]
  },
  {
   "cell_type": "code",
   "execution_count": 17,
   "id": "afd5a921",
   "metadata": {
    "ExecuteTime": {
     "end_time": "2021-10-19T13:13:18.011367Z",
     "start_time": "2021-10-19T13:13:18.007128Z"
    }
   },
   "outputs": [],
   "source": [
    "def addNDGI(image):\n",
    "    ndgi = image.normalizedDifference(['B2','B3']).rename('NDGI')\n",
    "    return image.addBands(ndgi)"
   ]
  },
  {
   "cell_type": "code",
   "execution_count": 18,
   "id": "786770f8",
   "metadata": {
    "ExecuteTime": {
     "end_time": "2021-10-19T13:13:18.016275Z",
     "start_time": "2021-10-19T13:13:18.012332Z"
    }
   },
   "outputs": [],
   "source": [
    "def addSAVI(image):\n",
    "    savi = image.expression(\n",
    "        '((b4 - b3)/(b4 + b3 + 0.5))*1.5', {\n",
    "            'b3':image.select('B3'),\n",
    "            'b4':image.select('B4')\n",
    "        }) \n",
    "    savi= savi.rename('SAVI')\n",
    "    return image.addBands(savi)"
   ]
  },
  {
   "cell_type": "code",
   "execution_count": 19,
   "id": "cffb72aa",
   "metadata": {
    "ExecuteTime": {
     "end_time": "2021-10-19T13:13:18.018890Z",
     "start_time": "2021-10-19T13:13:18.017297Z"
    }
   },
   "outputs": [],
   "source": [
    "def addNDSI(image):\n",
    "    ndsi = image.normalizedDifference(['B2','B5']).rename('NDSI')\n",
    "    return image.addBands(ndsi)"
   ]
  },
  {
   "cell_type": "code",
   "execution_count": 20,
   "id": "4889cabe",
   "metadata": {
    "ExecuteTime": {
     "end_time": "2021-10-19T13:13:18.021692Z",
     "start_time": "2021-10-19T13:13:18.019937Z"
    }
   },
   "outputs": [],
   "source": [
    "def addDate(image):\n",
    "    img_date = ee.Date(image.date())\n",
    "    img_date = ee.Number.parse(img_date.format('YYYYMM'))\n",
    "    return image.addBands(ee.Image(img_date).rename('date').toInt())"
   ]
  },
  {
   "cell_type": "code",
   "execution_count": 21,
   "id": "3115c210",
   "metadata": {
    "ExecuteTime": {
     "end_time": "2021-10-19T13:13:18.024192Z",
     "start_time": "2021-10-19T13:13:18.022594Z"
    }
   },
   "outputs": [],
   "source": [
    "def Cloud30(image):\n",
    "    scored = ee.Algorithms.Landsat.simpleCloudScore(image)\n",
    "    return image.updateMask(scored.select(['cloud']).lt(30)) "
   ]
  },
  {
   "cell_type": "code",
   "execution_count": 22,
   "id": "f86cf507",
   "metadata": {
    "ExecuteTime": {
     "end_time": "2021-10-19T13:13:18.026791Z",
     "start_time": "2021-10-19T13:13:18.025168Z"
    }
   },
   "outputs": [],
   "source": [
    "def Cloud20(image):\n",
    "    scored = ee.Algorithms.Landsat.simpleCloudScore(image)\n",
    "    return image.updateMask(scored.select(['cloud']).lt(20)) "
   ]
  },
  {
   "cell_type": "code",
   "execution_count": 23,
   "id": "9d288b40",
   "metadata": {
    "ExecuteTime": {
     "end_time": "2021-10-19T13:13:18.029564Z",
     "start_time": "2021-10-19T13:13:18.027999Z"
    }
   },
   "outputs": [],
   "source": [
    "def Cloud10(image):\n",
    "    scored = ee.Algorithms.Landsat.simpleCloudScore(image)\n",
    "    return image.updateMask(scored.select(['cloud']).lt(10))"
   ]
  },
  {
   "cell_type": "code",
   "execution_count": 24,
   "id": "92d6ba1b",
   "metadata": {
    "ExecuteTime": {
     "end_time": "2021-10-19T13:13:18.032423Z",
     "start_time": "2021-10-19T13:13:18.030595Z"
    }
   },
   "outputs": [],
   "source": [
    "def addCloud(image):\n",
    "    nube = ee.Algorithms.Landsat.simpleCloudScore(image)\n",
    "    return image.addBands(ee.Image(nube.select(['cloud'])).rename('nube'))"
   ]
  },
  {
   "cell_type": "markdown",
   "id": "d9a442fb",
   "metadata": {},
   "source": [
    "## Colecciones"
   ]
  },
  {
   "cell_type": "markdown",
   "id": "6c980301",
   "metadata": {},
   "source": [
    "### 2009"
   ]
  },
  {
   "cell_type": "code",
   "execution_count": 25,
   "id": "53c83f22",
   "metadata": {
    "ExecuteTime": {
     "end_time": "2021-10-19T13:13:18.035587Z",
     "start_time": "2021-10-19T13:13:18.033277Z"
    }
   },
   "outputs": [],
   "source": [
    "start_date = '2008-10-01'\n",
    "end_date = '2009-03-31'\n",
    "\n",
    "l5_2009 = ee.ImageCollection('LANDSAT/LT05/C01/T1_TOA') \\\n",
    "    .filterBounds(patagonia_grande) \\\n",
    "    .filterDate(start_date, end_date)"
   ]
  },
  {
   "cell_type": "code",
   "execution_count": 26,
   "id": "05dbdd99",
   "metadata": {
    "ExecuteTime": {
     "end_time": "2021-10-19T13:13:18.038111Z",
     "start_time": "2021-10-19T13:13:18.036613Z"
    }
   },
   "outputs": [],
   "source": [
    "vizParams = {\n",
    "  'bands': ['B4', 'B3', 'B2'],\n",
    "  'min': 0,\n",
    "  'max': 0.5,\n",
    "  'gamma': [0.95, 1.1, 1]\n",
    "}"
   ]
  },
  {
   "cell_type": "code",
   "execution_count": 27,
   "id": "2c56e896",
   "metadata": {
    "ExecuteTime": {
     "end_time": "2021-10-19T13:13:18.040906Z",
     "start_time": "2021-10-19T13:13:18.039169Z"
    }
   },
   "outputs": [],
   "source": [
    "vis_nieve = {\n",
    "  'bands': ['B5', 'B3', 'B2'],\n",
    "  'min': 0,\n",
    "  'max': 0.5,\n",
    "  'gamma': [0.95, 1.1, 1]\n",
    "}"
   ]
  },
  {
   "cell_type": "code",
   "execution_count": 28,
   "id": "3d08df17",
   "metadata": {
    "ExecuteTime": {
     "end_time": "2021-10-19T13:13:18.047583Z",
     "start_time": "2021-10-19T13:13:18.043632Z"
    }
   },
   "outputs": [],
   "source": [
    "coleccion2009 = l5_2009.map(addNDVI).map(addNDWI).map(addNDGI).map(addSAVI).map(addNDSI).map(addDate).map(addCloud)"
   ]
  },
  {
   "cell_type": "code",
   "execution_count": 29,
   "id": "842248bc",
   "metadata": {
    "ExecuteTime": {
     "end_time": "2021-10-19T13:13:18.050374Z",
     "start_time": "2021-10-19T13:13:18.048476Z"
    }
   },
   "outputs": [],
   "source": [
    "QM_NDVI_2009 = coleccion2009.qualityMosaic('B11') # Normalized difference vegetation Index\n",
    "QM_NDWI_2009 = coleccion2009.qualityMosaic('NDWI') # Normalize difference water index\n",
    "QM_SAVI_2009 = coleccion2009.qualityMosaic('SAVI') # Soil Adjusted Vegetation Index \n",
    "QM_NDGI_2009 = coleccion2009.qualityMosaic('NDGI') # Normalized difference glacier index\n",
    "QM_NDSI_2009 = coleccion2009.qualityMosaic('NDSI') # Normalized difference snow index"
   ]
  },
  {
   "cell_type": "code",
   "execution_count": 30,
   "id": "2ffe439c",
   "metadata": {
    "ExecuteTime": {
     "end_time": "2021-10-19T13:13:21.858671Z",
     "start_time": "2021-10-19T13:13:18.051337Z"
    }
   },
   "outputs": [
    {
     "data": {
      "application/vnd.jupyter.widget-view+json": {
       "model_id": "fe8c52ae6d3446ffb83f38616005e37c",
       "version_major": 2,
       "version_minor": 0
      },
      "text/plain": [
       "Map(center=[-45, -70], controls=(WidgetControl(options=['position', 'transparent_bg'], widget=HBox(children=(T…"
      ]
     },
     "metadata": {},
     "output_type": "display_data"
    }
   ],
   "source": [
    "Map.addLayer(QM_NDVI_2009, vizParams, 'QM de NDVI 2009')\n",
    "Map.addLayer(QM_NDWI_2009, vizParams, 'QM de NDWI 2009')\n",
    "Map.addLayer(QM_SAVI_2009, vizParams, 'QM de SAVI 2009')\n",
    "Map.addLayer(QM_NDGI_2009, vis_nieve, 'QM de NDGI 2009')\n",
    "Map.addLayer(QM_NDSI_2009, vis_nieve, 'QM de NDSI 2009')\n",
    "Map "
   ]
  },
  {
   "cell_type": "code",
   "execution_count": 31,
   "id": "2bfc974d",
   "metadata": {
    "ExecuteTime": {
     "end_time": "2021-10-19T13:13:21.861770Z",
     "start_time": "2021-10-19T13:13:21.859532Z"
    }
   },
   "outputs": [],
   "source": [
    "c2009_sn = coleccion2009.map(Cloud20)\n",
    "NDVI_2009_sn = c2009_sn.qualityMosaic('B11')\n",
    "NDWI_2009_sn = c2009_sn.qualityMosaic('NDWI')\n",
    "SAVI_2009_sn = c2009_sn.qualityMosaic('SAVI')\n",
    "NDGI_2009_sn = c2009_sn.qualityMosaic('NDGI')\n",
    "NDSI_2009_sn = c2009_sn.qualityMosaic('NDSI')"
   ]
  },
  {
   "cell_type": "code",
   "execution_count": 32,
   "id": "a2c9c98a",
   "metadata": {
    "ExecuteTime": {
     "end_time": "2021-10-19T13:13:21.864523Z",
     "start_time": "2021-10-19T13:13:21.862573Z"
    }
   },
   "outputs": [],
   "source": [
    "# Map2.addLayer(NDVI_2009_sn, vizParams, 'QMsn de NDVI 2009')\n",
    "# Map2.addLayer(NDWI_2009_sn, vizParams, 'QMsn de NDWI 2009')\n",
    "# Map2.addLayer(SAVI_2009_sn, vizParams, 'QMsn de SAVI 2009')\n",
    "# Map2.addLayer(NDGI_2009_sn, vis_nieve, 'QMsn de NDGI 2009')\n",
    "# Map2.addLayer(NDSI_2009_sn, vis_nieve, 'QMsn de NDSI 2009')\n",
    "# Map2"
   ]
  },
  {
   "cell_type": "markdown",
   "id": "ccec25b0",
   "metadata": {},
   "source": [
    "### 2008"
   ]
  },
  {
   "cell_type": "code",
   "execution_count": 33,
   "id": "ef53f13a",
   "metadata": {
    "ExecuteTime": {
     "end_time": "2021-10-19T13:13:21.867172Z",
     "start_time": "2021-10-19T13:13:21.865477Z"
    }
   },
   "outputs": [],
   "source": [
    "start_date = '2007-10-01'\n",
    "end_date = '2008-03-31'\n",
    "\n",
    "l5_2008 = ee.ImageCollection('LANDSAT/LT05/C01/T1_TOA') \\\n",
    "    .filterBounds(patagonia_grande) \\\n",
    "    .filterDate(start_date, end_date)"
   ]
  },
  {
   "cell_type": "code",
   "execution_count": 34,
   "id": "015e69de",
   "metadata": {
    "ExecuteTime": {
     "end_time": "2021-10-19T13:13:21.869517Z",
     "start_time": "2021-10-19T13:13:21.868036Z"
    }
   },
   "outputs": [],
   "source": [
    "vizParams = {\n",
    "  'bands': ['B4', 'B3', 'B2'],\n",
    "  'min': 0,\n",
    "  'max': 0.5,\n",
    "  'gamma': [0.95, 1.1, 1]\n",
    "}"
   ]
  },
  {
   "cell_type": "code",
   "execution_count": 35,
   "id": "5621cb6b",
   "metadata": {
    "ExecuteTime": {
     "end_time": "2021-10-19T13:13:21.871994Z",
     "start_time": "2021-10-19T13:13:21.870435Z"
    }
   },
   "outputs": [],
   "source": [
    "vis_nieve = {\n",
    "  'bands': ['B5', 'B3', 'B2'],\n",
    "  'min': 0,\n",
    "  'max': 0.5,\n",
    "  'gamma': [0.95, 1.1, 1]\n",
    "}"
   ]
  },
  {
   "cell_type": "code",
   "execution_count": 36,
   "id": "06a293d6",
   "metadata": {
    "ExecuteTime": {
     "end_time": "2021-10-19T13:13:21.876762Z",
     "start_time": "2021-10-19T13:13:21.873014Z"
    }
   },
   "outputs": [],
   "source": [
    "coleccion2008 = l5_2008.map(addNDVI).map(addNDWI).map(addNDGI).map(addSAVI).map(addNDSI).map(addDate).map(addCloud)"
   ]
  },
  {
   "cell_type": "code",
   "execution_count": 37,
   "id": "f724bb1b",
   "metadata": {
    "ExecuteTime": {
     "end_time": "2021-10-19T13:13:21.879604Z",
     "start_time": "2021-10-19T13:13:21.877707Z"
    }
   },
   "outputs": [],
   "source": [
    "QM_NDVI_2008 = coleccion2008.qualityMosaic('B11') # Normalized difference vegetation Index\n",
    "QM_NDWI_2008 = coleccion2008.qualityMosaic('NDWI') # Normalize difference water index\n",
    "QM_SAVI_2008 = coleccion2008.qualityMosaic('SAVI') # Soil Adjusted Vegetation Index \n",
    "QM_NDGI_2008 = coleccion2008.qualityMosaic('NDGI') # Normalized difference glacier index\n",
    "QM_NDSI_2008 = coleccion2008.qualityMosaic('NDSI') # Normalized difference snow index"
   ]
  },
  {
   "cell_type": "code",
   "execution_count": 38,
   "id": "6c001bbc",
   "metadata": {
    "ExecuteTime": {
     "end_time": "2021-10-19T13:13:25.020151Z",
     "start_time": "2021-10-19T13:13:21.880559Z"
    }
   },
   "outputs": [
    {
     "data": {
      "application/vnd.jupyter.widget-view+json": {
       "model_id": "fe8c52ae6d3446ffb83f38616005e37c",
       "version_major": 2,
       "version_minor": 0
      },
      "text/plain": [
       "Map(center=[-45, -70], controls=(WidgetControl(options=['position', 'transparent_bg'], widget=HBox(children=(T…"
      ]
     },
     "metadata": {},
     "output_type": "display_data"
    }
   ],
   "source": [
    "Map.addLayer(QM_NDVI_2008, vizParams, 'QM de NDVI 2008')\n",
    "Map.addLayer(QM_NDWI_2008, vizParams, 'QM de NDWI 2008')\n",
    "Map.addLayer(QM_SAVI_2008, vizParams, 'QM de SAVI 2008')\n",
    "Map.addLayer(QM_NDGI_2008, vis_nieve, 'QM de NDGI 2008')\n",
    "Map.addLayer(QM_NDSI_2008, vis_nieve, 'QM de NDSI 2008')\n",
    "Map "
   ]
  },
  {
   "cell_type": "code",
   "execution_count": 39,
   "id": "06eebe04",
   "metadata": {
    "ExecuteTime": {
     "end_time": "2021-10-19T13:13:25.023488Z",
     "start_time": "2021-10-19T13:13:25.020980Z"
    }
   },
   "outputs": [],
   "source": [
    "c2008_sn = coleccion2008.map(Cloud20)\n",
    "NDVI_2008_sn = c2008_sn.qualityMosaic('B11')\n",
    "NDWI_2008_sn = c2008_sn.qualityMosaic('NDWI')\n",
    "SAVI_2008_sn = c2008_sn.qualityMosaic('SAVI')\n",
    "NDGI_2008_sn = c2008_sn.qualityMosaic('NDGI')\n",
    "NDSI_2008_sn = c2008_sn.qualityMosaic('NDSI')"
   ]
  },
  {
   "cell_type": "code",
   "execution_count": 40,
   "id": "7121bf75",
   "metadata": {
    "ExecuteTime": {
     "end_time": "2021-10-19T13:13:25.026023Z",
     "start_time": "2021-10-19T13:13:25.024624Z"
    }
   },
   "outputs": [],
   "source": [
    "# Map2.addLayer(NDVI_2008_sn, vizParams, 'QMsn de NDVI 2008')\n",
    "# Map2.addLayer(NDWI_2008_sn, vizParams, 'QMsn de NDWI 2008')\n",
    "# Map2.addLayer(SAVI_2008_sn, vizParams, 'QMsn de SAVI 2008')\n",
    "# Map2.addLayer(NDGI_2008_sn, vis_nieve, 'QMsn de NDGI 2008')\n",
    "# Map2.addLayer(NDSI_2008_sn, vis_nieve, 'QMsn de NDSI 2008')\n",
    "# Map2"
   ]
  },
  {
   "cell_type": "markdown",
   "id": "b1fff37f",
   "metadata": {},
   "source": [
    "### 2007"
   ]
  },
  {
   "cell_type": "code",
   "execution_count": 41,
   "id": "ed8a2ed2",
   "metadata": {
    "ExecuteTime": {
     "end_time": "2021-10-19T13:13:25.028867Z",
     "start_time": "2021-10-19T13:13:25.027170Z"
    }
   },
   "outputs": [],
   "source": [
    "start_date = '2006-10-01'\n",
    "end_date = '2007-03-31'\n",
    "\n",
    "l5_2007 = ee.ImageCollection('LANDSAT/LT05/C01/T1_TOA') \\\n",
    "    .filterBounds(patagonia_grande) \\\n",
    "    .filterDate(start_date, end_date)"
   ]
  },
  {
   "cell_type": "code",
   "execution_count": 42,
   "id": "ac158dd0",
   "metadata": {
    "ExecuteTime": {
     "end_time": "2021-10-19T13:13:25.033416Z",
     "start_time": "2021-10-19T13:13:25.029748Z"
    }
   },
   "outputs": [],
   "source": [
    "coleccion2007 = l5_2007.map(addNDVI).map(addNDWI).map(addNDGI).map(addSAVI).map(addNDSI).map(addDate).map(addCloud)"
   ]
  },
  {
   "cell_type": "code",
   "execution_count": 43,
   "id": "531b33cd",
   "metadata": {
    "ExecuteTime": {
     "end_time": "2021-10-19T13:13:25.036550Z",
     "start_time": "2021-10-19T13:13:25.034658Z"
    }
   },
   "outputs": [],
   "source": [
    "QM_NDVI_2007 = coleccion2007.qualityMosaic('B11') # Normalized difference vegetation Index\n",
    "QM_NDWI_2007 = coleccion2007.qualityMosaic('NDWI') # Normalize difference water index\n",
    "QM_SAVI_2007 = coleccion2007.qualityMosaic('SAVI') # Soil Adjusted Vegetation Index \n",
    "QM_NDGI_2007 = coleccion2007.qualityMosaic('NDGI') # Normalized difference glacier index\n",
    "QM_NDSI_2007 = coleccion2007.qualityMosaic('NDSI') # Normalized difference snow index"
   ]
  },
  {
   "cell_type": "code",
   "execution_count": 44,
   "id": "22b9a628",
   "metadata": {
    "ExecuteTime": {
     "end_time": "2021-10-19T13:13:28.200418Z",
     "start_time": "2021-10-19T13:13:25.037566Z"
    }
   },
   "outputs": [],
   "source": [
    "Map.addLayer(QM_NDVI_2007, vizParams, 'QM de NDVI 2007')\n",
    "Map.addLayer(QM_NDWI_2007, vizParams, 'QM de NDWI 2007')\n",
    "Map.addLayer(QM_SAVI_2007, vizParams, 'QM de SAVI 2007')\n",
    "Map.addLayer(QM_NDGI_2007, vis_nieve, 'QM de NDGI 2007')\n",
    "Map.addLayer(QM_NDSI_2007, vis_nieve, 'QM de NDSI 2007')\n",
    "# Map3"
   ]
  },
  {
   "cell_type": "code",
   "execution_count": 45,
   "id": "37413530",
   "metadata": {
    "ExecuteTime": {
     "end_time": "2021-10-19T13:13:28.203683Z",
     "start_time": "2021-10-19T13:13:28.201331Z"
    }
   },
   "outputs": [],
   "source": [
    "c2007_sn = coleccion2007.map(Cloud20)\n",
    "NDVI_2007_sn = c2007_sn.qualityMosaic('B11')\n",
    "NDWI_2007_sn = c2007_sn.qualityMosaic('NDWI')\n",
    "SAVI_2007_sn = c2007_sn.qualityMosaic('SAVI')\n",
    "NDGI_2007_sn = c2007_sn.qualityMosaic('NDGI')\n",
    "NDSI_2007_sn = c2007_sn.qualityMosaic('NDSI')"
   ]
  },
  {
   "cell_type": "code",
   "execution_count": 46,
   "id": "ee1a2de2",
   "metadata": {
    "ExecuteTime": {
     "end_time": "2021-10-19T13:13:31.365911Z",
     "start_time": "2021-10-19T13:13:28.204778Z"
    }
   },
   "outputs": [
    {
     "data": {
      "application/vnd.jupyter.widget-view+json": {
       "model_id": "7c842c389ed74a6d8eff939fb38d831d",
       "version_major": 2,
       "version_minor": 0
      },
      "text/plain": [
       "Map(center=[-45, -70], controls=(WidgetControl(options=['position', 'transparent_bg'], widget=HBox(children=(T…"
      ]
     },
     "metadata": {},
     "output_type": "display_data"
    }
   ],
   "source": [
    "Map2.addLayer(NDVI_2007_sn, vizParams, 'QMsn de NDVI 2007')\n",
    "Map2.addLayer(NDWI_2007_sn, vizParams, 'QMsn de NDWI 2007')\n",
    "Map2.addLayer(SAVI_2007_sn, vizParams, 'QMsn de SAVI 2007')\n",
    "Map2.addLayer(NDGI_2007_sn, vis_nieve, 'QMsn de NDGI 2007')\n",
    "Map2.addLayer(NDSI_2007_sn, vis_nieve, 'QMsn de NDSI 2007')\n",
    "Map2"
   ]
  },
  {
   "cell_type": "markdown",
   "id": "d9e7e175",
   "metadata": {},
   "source": [
    "### 2006"
   ]
  },
  {
   "cell_type": "code",
   "execution_count": 47,
   "id": "80911c97",
   "metadata": {
    "ExecuteTime": {
     "end_time": "2021-10-19T13:13:31.368793Z",
     "start_time": "2021-10-19T13:13:31.366868Z"
    }
   },
   "outputs": [],
   "source": [
    "start_date = '2005-10-01'\n",
    "end_date = '2006-03-31'\n",
    "\n",
    "l5_2006 = ee.ImageCollection('LANDSAT/LT05/C01/T1_TOA') \\\n",
    "    .filterBounds(patagonia_grande) \\\n",
    "    .filterDate(start_date, end_date)"
   ]
  },
  {
   "cell_type": "code",
   "execution_count": 48,
   "id": "596d9609",
   "metadata": {
    "ExecuteTime": {
     "end_time": "2021-10-19T13:13:31.373476Z",
     "start_time": "2021-10-19T13:13:31.369630Z"
    }
   },
   "outputs": [],
   "source": [
    "coleccion2006 = l5_2006.map(addNDVI).map(addNDWI).map(addNDGI).map(addSAVI).map(addNDSI).map(addDate).map(addCloud)"
   ]
  },
  {
   "cell_type": "code",
   "execution_count": 49,
   "id": "67b699eb",
   "metadata": {
    "ExecuteTime": {
     "end_time": "2021-10-19T13:13:31.376415Z",
     "start_time": "2021-10-19T13:13:31.374511Z"
    }
   },
   "outputs": [],
   "source": [
    "QM_NDVI_2006 = coleccion2006.qualityMosaic('B11') # Normalized difference vegetation Index\n",
    "QM_NDWI_2006 = coleccion2006.qualityMosaic('NDWI') # Normalize difference water index\n",
    "QM_SAVI_2006 = coleccion2006.qualityMosaic('SAVI') # Soil Adjusted Vegetation Index \n",
    "QM_NDGI_2006 = coleccion2006.qualityMosaic('NDGI') # Normalized difference glacier index\n",
    "QM_NDSI_2006 = coleccion2006.qualityMosaic('NDSI') # Normalized difference snow index"
   ]
  },
  {
   "cell_type": "code",
   "execution_count": 50,
   "id": "2698dd26",
   "metadata": {
    "ExecuteTime": {
     "end_time": "2021-10-19T13:13:34.795880Z",
     "start_time": "2021-10-19T13:13:31.377364Z"
    }
   },
   "outputs": [],
   "source": [
    "Map3.addLayer(QM_NDVI_2006, vizParams, 'QM de NDVI 2006')\n",
    "Map3.addLayer(QM_NDWI_2006, vizParams, 'QM de NDWI 2006')\n",
    "Map3.addLayer(QM_SAVI_2006, vizParams, 'QM de SAVI 2006')\n",
    "Map3.addLayer(QM_NDGI_2006, vis_nieve, 'QM de NDGI 2006')\n",
    "Map3.addLayer(QM_NDSI_2006, vis_nieve, 'QM de NDSI 2006')\n",
    "# Map3"
   ]
  },
  {
   "cell_type": "code",
   "execution_count": 51,
   "id": "ff28e9e5",
   "metadata": {
    "ExecuteTime": {
     "end_time": "2021-10-19T13:13:34.799259Z",
     "start_time": "2021-10-19T13:13:34.796820Z"
    }
   },
   "outputs": [],
   "source": [
    "c2006_sn = coleccion2006.map(Cloud20)\n",
    "NDVI_2006_sn = c2006_sn.qualityMosaic('B11')\n",
    "NDWI_2006_sn = c2006_sn.qualityMosaic('NDWI')\n",
    "SAVI_2006_sn = c2006_sn.qualityMosaic('SAVI')\n",
    "NDGI_2006_sn = c2006_sn.qualityMosaic('NDGI')\n",
    "NDSI_2006_sn = c2006_sn.qualityMosaic('NDSI')"
   ]
  },
  {
   "cell_type": "code",
   "execution_count": 52,
   "id": "56dedb0c",
   "metadata": {
    "ExecuteTime": {
     "end_time": "2021-10-19T13:13:37.956916Z",
     "start_time": "2021-10-19T13:13:34.800498Z"
    }
   },
   "outputs": [
    {
     "data": {
      "application/vnd.jupyter.widget-view+json": {
       "model_id": "a2078a1107cd43528f5e396f0fb911ad",
       "version_major": 2,
       "version_minor": 0
      },
      "text/plain": [
       "Map(center=[-45, -70], controls=(WidgetControl(options=['position', 'transparent_bg'], widget=HBox(children=(T…"
      ]
     },
     "metadata": {},
     "output_type": "display_data"
    }
   ],
   "source": [
    "Map4.addLayer(NDVI_2006_sn, vizParams, 'QMsn de NDVI 2006')\n",
    "Map4.addLayer(NDWI_2006_sn, vizParams, 'QMsn de NDWI 2006')\n",
    "Map4.addLayer(SAVI_2006_sn, vizParams, 'QMsn de SAVI 2006')\n",
    "Map4.addLayer(NDGI_2006_sn, vis_nieve, 'QMsn de NDGI 2006')\n",
    "Map4.addLayer(NDSI_2006_sn, vis_nieve, 'QMsn de NDSI 2006')\n",
    "Map4"
   ]
  },
  {
   "cell_type": "markdown",
   "id": "840d00c3",
   "metadata": {},
   "source": [
    "### 2005"
   ]
  },
  {
   "cell_type": "code",
   "execution_count": 53,
   "id": "8f97e666",
   "metadata": {
    "ExecuteTime": {
     "end_time": "2021-10-19T13:13:37.959631Z",
     "start_time": "2021-10-19T13:13:37.957890Z"
    }
   },
   "outputs": [],
   "source": [
    "start_date = '2004-10-01'\n",
    "end_date = '2005-03-31'\n",
    "\n",
    "l5_2005 = ee.ImageCollection('LANDSAT/LT05/C01/T1_TOA') \\\n",
    "    .filterBounds(patagonia_grande) \\\n",
    "    .filterDate(start_date, end_date)"
   ]
  },
  {
   "cell_type": "code",
   "execution_count": 54,
   "id": "933551b1",
   "metadata": {
    "ExecuteTime": {
     "end_time": "2021-10-19T13:13:37.964374Z",
     "start_time": "2021-10-19T13:13:37.960580Z"
    }
   },
   "outputs": [],
   "source": [
    "coleccion2005 = l5_2005.map(addNDVI).map(addNDWI).map(addNDGI).map(addSAVI).map(addNDSI).map(addDate).map(addCloud)"
   ]
  },
  {
   "cell_type": "code",
   "execution_count": 55,
   "id": "b17be12d",
   "metadata": {
    "ExecuteTime": {
     "end_time": "2021-10-19T13:13:37.967375Z",
     "start_time": "2021-10-19T13:13:37.965474Z"
    }
   },
   "outputs": [],
   "source": [
    "QM_NDVI_2005 = coleccion2005.qualityMosaic('B11') # Normalized difference vegetation Index\n",
    "QM_NDWI_2005 = coleccion2005.qualityMosaic('NDWI') # Normalize difference water index\n",
    "QM_SAVI_2005 = coleccion2005.qualityMosaic('SAVI') # Soil Adjusted Vegetation Index \n",
    "QM_NDGI_2005 = coleccion2005.qualityMosaic('NDGI') # Normalized difference glacier index\n",
    "QM_NDSI_2005 = coleccion2005.qualityMosaic('NDSI') # Normalized difference snow index"
   ]
  },
  {
   "cell_type": "code",
   "execution_count": 56,
   "id": "6ab37322",
   "metadata": {
    "ExecuteTime": {
     "end_time": "2021-10-19T13:13:41.238157Z",
     "start_time": "2021-10-19T13:13:37.968407Z"
    }
   },
   "outputs": [],
   "source": [
    "Map3.addLayer(QM_NDVI_2005, vizParams, 'QM de NDVI 2005')\n",
    "Map3.addLayer(QM_NDWI_2005, vizParams, 'QM de NDWI 2005')\n",
    "Map3.addLayer(QM_SAVI_2005, vizParams, 'QM de SAVI 2005')\n",
    "Map3.addLayer(QM_NDGI_2005, vis_nieve, 'QM de NDGI 2005')\n",
    "Map3.addLayer(QM_NDSI_2005, vis_nieve, 'QM de NDSI 2005')\n",
    "# Map3"
   ]
  },
  {
   "cell_type": "code",
   "execution_count": 57,
   "id": "30b437d8",
   "metadata": {
    "ExecuteTime": {
     "end_time": "2021-10-19T13:13:41.241353Z",
     "start_time": "2021-10-19T13:13:41.238940Z"
    }
   },
   "outputs": [],
   "source": [
    "c2005_sn = coleccion2005.map(Cloud20)\n",
    "NDVI_2005_sn = c2005_sn.qualityMosaic('B11')\n",
    "NDWI_2005_sn = c2005_sn.qualityMosaic('NDWI')\n",
    "SAVI_2005_sn = c2005_sn.qualityMosaic('SAVI')\n",
    "NDGI_2005_sn = c2005_sn.qualityMosaic('NDGI')\n",
    "NDSI_2005_sn = c2005_sn.qualityMosaic('NDSI')"
   ]
  },
  {
   "cell_type": "code",
   "execution_count": 58,
   "id": "183da129",
   "metadata": {
    "ExecuteTime": {
     "end_time": "2021-10-19T13:13:44.423367Z",
     "start_time": "2021-10-19T13:13:41.242431Z"
    }
   },
   "outputs": [
    {
     "data": {
      "application/vnd.jupyter.widget-view+json": {
       "model_id": "a2078a1107cd43528f5e396f0fb911ad",
       "version_major": 2,
       "version_minor": 0
      },
      "text/plain": [
       "Map(center=[-45, -70], controls=(WidgetControl(options=['position', 'transparent_bg'], widget=HBox(children=(T…"
      ]
     },
     "metadata": {},
     "output_type": "display_data"
    }
   ],
   "source": [
    "Map4.addLayer(NDVI_2005_sn, vizParams, 'QMsn de NDVI 2005')\n",
    "Map4.addLayer(NDWI_2005_sn, vizParams, 'QMsn de NDWI 2005')\n",
    "Map4.addLayer(SAVI_2005_sn, vizParams, 'QMsn de SAVI 2005')\n",
    "Map4.addLayer(NDGI_2005_sn, vis_nieve, 'QMsn de NDGI 2005')\n",
    "Map4.addLayer(NDSI_2005_sn, vis_nieve, 'QMsn de NDSI 2005')\n",
    "Map4"
   ]
  },
  {
   "cell_type": "markdown",
   "id": "24141155",
   "metadata": {},
   "source": [
    "### 2009 L7"
   ]
  },
  {
   "cell_type": "code",
   "execution_count": 59,
   "id": "546ae4bd",
   "metadata": {
    "ExecuteTime": {
     "end_time": "2021-10-19T13:13:44.426047Z",
     "start_time": "2021-10-19T13:13:44.424170Z"
    }
   },
   "outputs": [],
   "source": [
    "start_date = '2008-10-01'\n",
    "end_date = '2009-03-31'\n",
    "\n",
    "l7_2009 = ee.ImageCollection('LANDSAT/LE07/C01/T1_TOA') \\\n",
    "    .filterBounds(patagonia_grande) \\\n",
    "    .filterDate(start_date, end_date)"
   ]
  },
  {
   "cell_type": "code",
   "execution_count": 60,
   "id": "671d83f5",
   "metadata": {
    "ExecuteTime": {
     "end_time": "2021-10-19T13:13:44.431086Z",
     "start_time": "2021-10-19T13:13:44.426932Z"
    }
   },
   "outputs": [],
   "source": [
    "coleccion_l7_2009 = l7_2009.map(addNDVI7).map(addNDWI).map(addNDGI).map(addSAVI).map(addNDSI).map(addDate).map(addCloud)"
   ]
  },
  {
   "cell_type": "code",
   "execution_count": 61,
   "id": "868510a8",
   "metadata": {
    "ExecuteTime": {
     "end_time": "2021-10-19T13:13:44.433979Z",
     "start_time": "2021-10-19T13:13:44.432028Z"
    }
   },
   "outputs": [],
   "source": [
    "coleccion_l7_2009 = coleccion_l7_2009.set('SENSOR_ID', 'OLI_TIRS')"
   ]
  },
  {
   "cell_type": "code",
   "execution_count": 62,
   "id": "f2a33ba2",
   "metadata": {
    "ExecuteTime": {
     "end_time": "2021-10-19T13:13:44.437205Z",
     "start_time": "2021-10-19T13:13:44.435133Z"
    }
   },
   "outputs": [],
   "source": [
    "QM_NDVI_2009_l7 = coleccion_l7_2009.qualityMosaic('NDVI') # Normalized difference vegetation Index\n",
    "QM_NDWI_2009_l7 = coleccion_l7_2009.qualityMosaic('NDWI') # Normalize difference water index\n",
    "QM_SAVI_2009_l7 = coleccion_l7_2009.qualityMosaic('SAVI') # Soil Adjusted Vegetation Index \n",
    "QM_NDGI_2009_l7 = coleccion_l7_2009.qualityMosaic('NDGI') # Normalized difference glacier index\n",
    "QM_NDSI_2009_l7 = coleccion_l7_2009.qualityMosaic('NDSI') # Normalized difference snow index"
   ]
  },
  {
   "cell_type": "code",
   "execution_count": 63,
   "id": "370670f2",
   "metadata": {
    "ExecuteTime": {
     "end_time": "2021-10-19T13:13:47.644679Z",
     "start_time": "2021-10-19T13:13:44.438105Z"
    }
   },
   "outputs": [],
   "source": [
    "Map5.addLayer(QM_NDVI_2009_l7, vizParams, 'QM de NDVI 2009_l7')\n",
    "Map5.addLayer(QM_NDWI_2009_l7, vizParams, 'QM de NDWI 2009_l7')\n",
    "Map5.addLayer(QM_SAVI_2009_l7, vizParams, 'QM de SAVI 2009_l7')\n",
    "Map5.addLayer(QM_NDGI_2009_l7, vis_nieve, 'QM de NDGI 2009_l7')\n",
    "Map5.addLayer(QM_NDSI_2009_l7, vis_nieve, 'QM de NDSI 2009_l7')\n",
    "# Map5"
   ]
  },
  {
   "cell_type": "code",
   "execution_count": 64,
   "id": "e0d06d58",
   "metadata": {
    "ExecuteTime": {
     "end_time": "2021-10-19T13:13:47.647964Z",
     "start_time": "2021-10-19T13:13:47.645551Z"
    }
   },
   "outputs": [],
   "source": [
    "c2009_l7_sn = coleccion_l7_2009.map(Cloud20)\n",
    "NDVI_2009_l7_sn = c2009_l7_sn.qualityMosaic('NDVI')\n",
    "NDWI_2009_l7_sn = c2009_l7_sn.qualityMosaic('NDWI')\n",
    "SAVI_2009_l7_sn = c2009_l7_sn.qualityMosaic('SAVI')\n",
    "NDGI_2009_l7_sn = c2009_l7_sn.qualityMosaic('NDGI')\n",
    "NDSI_2009_l7_sn = c2009_l7_sn.qualityMosaic('NDSI')"
   ]
  },
  {
   "cell_type": "code",
   "execution_count": 65,
   "id": "a908e3c7",
   "metadata": {
    "ExecuteTime": {
     "end_time": "2021-10-19T13:13:50.825962Z",
     "start_time": "2021-10-19T13:13:47.648866Z"
    }
   },
   "outputs": [
    {
     "data": {
      "application/vnd.jupyter.widget-view+json": {
       "model_id": "7f74932f9c04442897f0cd014447c049",
       "version_major": 2,
       "version_minor": 0
      },
      "text/plain": [
       "Map(center=[-45, -70], controls=(WidgetControl(options=['position', 'transparent_bg'], widget=HBox(children=(T…"
      ]
     },
     "metadata": {},
     "output_type": "display_data"
    }
   ],
   "source": [
    "Map6.addLayer(NDVI_2009_l7_sn, vizParams, 'QMsn de NDVI 2009_l7')\n",
    "Map6.addLayer(NDWI_2009_l7_sn, vizParams, 'QMsn de NDWI 2009_l7')\n",
    "Map6.addLayer(SAVI_2009_l7_sn, vizParams, 'QMsn de SAVI 2009_l7')\n",
    "Map6.addLayer(NDGI_2009_l7_sn, vis_nieve, 'QMsn de NDGI 2009_l7')\n",
    "Map6.addLayer(NDSI_2009_l7_sn, vis_nieve, 'QMsn de NDSI 2009_l7')\n",
    "Map6"
   ]
  },
  {
   "cell_type": "markdown",
   "id": "19f59336",
   "metadata": {},
   "source": [
    "### 2008 L7"
   ]
  },
  {
   "cell_type": "code",
   "execution_count": 66,
   "id": "2d8f44b8",
   "metadata": {
    "ExecuteTime": {
     "end_time": "2021-10-19T13:13:50.828736Z",
     "start_time": "2021-10-19T13:13:50.826881Z"
    }
   },
   "outputs": [],
   "source": [
    "start_date = '2007-10-01'\n",
    "end_date = '2008-03-31'\n",
    "\n",
    "l7_2008 = ee.ImageCollection('LANDSAT/LE07/C01/T1_TOA') \\\n",
    "    .filterBounds(patagonia_grande) \\\n",
    "    .filterDate(start_date, end_date)"
   ]
  },
  {
   "cell_type": "code",
   "execution_count": 67,
   "id": "e5f94824",
   "metadata": {
    "ExecuteTime": {
     "end_time": "2021-10-19T13:13:50.833475Z",
     "start_time": "2021-10-19T13:13:50.829851Z"
    }
   },
   "outputs": [],
   "source": [
    "coleccion_l7_2008 = l7_2008.map(addNDVI7).map(addNDWI).map(addNDGI).map(addSAVI).map(addNDSI).map(addDate).map(addCloud)"
   ]
  },
  {
   "cell_type": "code",
   "execution_count": 68,
   "id": "ab3ed17f",
   "metadata": {
    "ExecuteTime": {
     "end_time": "2021-10-19T13:13:50.835939Z",
     "start_time": "2021-10-19T13:13:50.834460Z"
    }
   },
   "outputs": [],
   "source": [
    "coleccion_l7_2008 = coleccion_l7_2008.set('SENSOR_ID', 'OLI_TIRS')"
   ]
  },
  {
   "cell_type": "code",
   "execution_count": 69,
   "id": "452d3007",
   "metadata": {
    "ExecuteTime": {
     "end_time": "2021-10-19T13:13:50.838746Z",
     "start_time": "2021-10-19T13:13:50.836906Z"
    }
   },
   "outputs": [],
   "source": [
    "QM_NDVI_2008_l7 = coleccion_l7_2008.qualityMosaic('NDVI') # Normalized difference vegetation Index\n",
    "QM_NDWI_2008_l7 = coleccion_l7_2008.qualityMosaic('NDWI') # Normalize difference water index\n",
    "QM_SAVI_2008_l7 = coleccion_l7_2008.qualityMosaic('SAVI') # Soil Adjusted Vegetation Index \n",
    "QM_NDGI_2008_l7 = coleccion_l7_2008.qualityMosaic('NDGI') # Normalized difference glacier index\n",
    "QM_NDSI_2008_l7 = coleccion_l7_2008.qualityMosaic('NDSI') # Normalized difference snow index"
   ]
  },
  {
   "cell_type": "code",
   "execution_count": 70,
   "id": "cf1389b6",
   "metadata": {
    "ExecuteTime": {
     "end_time": "2021-10-19T13:13:53.962178Z",
     "start_time": "2021-10-19T13:13:50.839606Z"
    }
   },
   "outputs": [
    {
     "data": {
      "application/vnd.jupyter.widget-view+json": {
       "model_id": "492bc212f0ce4c20871ad910d17ac8d0",
       "version_major": 2,
       "version_minor": 0
      },
      "text/plain": [
       "Map(center=[-45, -70], controls=(WidgetControl(options=['position', 'transparent_bg'], widget=HBox(children=(T…"
      ]
     },
     "metadata": {},
     "output_type": "display_data"
    }
   ],
   "source": [
    "Map5.addLayer(QM_NDVI_2008_l7, vizParams, 'QM de NDVI 2008_l7')\n",
    "Map5.addLayer(QM_NDWI_2008_l7, vizParams, 'QM de NDWI 2008_l7')\n",
    "Map5.addLayer(QM_SAVI_2008_l7, vizParams, 'QM de SAVI 2008_l7')\n",
    "Map5.addLayer(QM_NDGI_2008_l7, vis_nieve, 'QM de NDGI 2008_l7')\n",
    "Map5.addLayer(QM_NDSI_2008_l7, vis_nieve, 'QM de NDSI 2008_l7')\n",
    "Map5"
   ]
  },
  {
   "cell_type": "code",
   "execution_count": 71,
   "id": "6a7d5ff4",
   "metadata": {
    "ExecuteTime": {
     "end_time": "2021-10-19T13:13:53.965376Z",
     "start_time": "2021-10-19T13:13:53.963186Z"
    }
   },
   "outputs": [],
   "source": [
    "c2008_l7_sn = coleccion_l7_2008.map(Cloud20)\n",
    "NDVI_2008_l7_sn = c2008_l7_sn.qualityMosaic('NDVI')\n",
    "NDWI_2008_l7_sn = c2008_l7_sn.qualityMosaic('NDWI')\n",
    "SAVI_2008_l7_sn = c2008_l7_sn.qualityMosaic('SAVI')\n",
    "NDGI_2008_l7_sn = c2008_l7_sn.qualityMosaic('NDGI')\n",
    "NDSI_2008_l7_sn = c2008_l7_sn.qualityMosaic('NDSI')"
   ]
  },
  {
   "cell_type": "code",
   "execution_count": 72,
   "id": "ec851683",
   "metadata": {
    "ExecuteTime": {
     "end_time": "2021-10-19T13:13:57.118257Z",
     "start_time": "2021-10-19T13:13:53.966329Z"
    }
   },
   "outputs": [
    {
     "data": {
      "application/vnd.jupyter.widget-view+json": {
       "model_id": "7f74932f9c04442897f0cd014447c049",
       "version_major": 2,
       "version_minor": 0
      },
      "text/plain": [
       "Map(center=[-45, -70], controls=(WidgetControl(options=['position', 'transparent_bg'], widget=HBox(children=(T…"
      ]
     },
     "metadata": {},
     "output_type": "display_data"
    }
   ],
   "source": [
    "Map6.addLayer(NDVI_2008_l7_sn, vizParams, 'QMsn de NDVI 2008_l7')\n",
    "Map6.addLayer(NDWI_2008_l7_sn, vizParams, 'QMsn de NDWI 2008_l7')\n",
    "Map6.addLayer(SAVI_2008_l7_sn, vizParams, 'QMsn de SAVI 2008_l7')\n",
    "Map6.addLayer(NDGI_2008_l7_sn, vis_nieve, 'QMsn de NDGI 2008_l7')\n",
    "Map6.addLayer(NDSI_2008_l7_sn, vis_nieve, 'QMsn de NDSI 2008_l7')\n",
    "Map6"
   ]
  },
  {
   "cell_type": "markdown",
   "id": "4f69c36f",
   "metadata": {},
   "source": [
    "### 2007 L7"
   ]
  },
  {
   "cell_type": "code",
   "execution_count": 73,
   "id": "a817f842",
   "metadata": {
    "ExecuteTime": {
     "end_time": "2021-10-19T13:13:57.121047Z",
     "start_time": "2021-10-19T13:13:57.119244Z"
    }
   },
   "outputs": [],
   "source": [
    "start_date = '2006-10-01'\n",
    "end_date = '2007-03-31'\n",
    "\n",
    "l7_2007 = ee.ImageCollection('LANDSAT/LE07/C01/T1_TOA') \\\n",
    "    .filterBounds(patagonia_grande) \\\n",
    "    .filterDate(start_date, end_date)"
   ]
  },
  {
   "cell_type": "code",
   "execution_count": 74,
   "id": "815566d1",
   "metadata": {
    "ExecuteTime": {
     "end_time": "2021-10-19T13:13:57.125730Z",
     "start_time": "2021-10-19T13:13:57.122201Z"
    }
   },
   "outputs": [],
   "source": [
    "coleccion_l7_2007 = l7_2007.map(addNDVI7).map(addNDWI).map(addNDGI).map(addSAVI).map(addNDSI).map(addDate).map(addCloud)"
   ]
  },
  {
   "cell_type": "code",
   "execution_count": 75,
   "id": "33ff1e34",
   "metadata": {
    "ExecuteTime": {
     "end_time": "2021-10-19T13:13:57.128490Z",
     "start_time": "2021-10-19T13:13:57.126665Z"
    }
   },
   "outputs": [],
   "source": [
    "QM_NDVI_2007_l7 = coleccion_l7_2007.qualityMosaic('NDVI') # Normalized difference vegetation Index\n",
    "QM_NDWI_2007_l7 = coleccion_l7_2007.qualityMosaic('NDWI') # Normalize difference water index\n",
    "QM_SAVI_2007_l7 = coleccion_l7_2007.qualityMosaic('SAVI') # Soil Adjusted Vegetation Index \n",
    "QM_NDGI_2007_l7 = coleccion_l7_2007.qualityMosaic('NDGI') # Normalized difference glacier index\n",
    "QM_NDSI_2007_l7 = coleccion_l7_2007.qualityMosaic('NDSI') # Normalized difference snow index"
   ]
  },
  {
   "cell_type": "code",
   "execution_count": 76,
   "id": "1e28dffd",
   "metadata": {
    "ExecuteTime": {
     "end_time": "2021-10-19T13:14:00.315376Z",
     "start_time": "2021-10-19T13:13:57.129485Z"
    }
   },
   "outputs": [],
   "source": [
    "Map5.addLayer(QM_NDVI_2007_l7, vizParams, 'QM de NDVI 2007_l7')\n",
    "Map5.addLayer(QM_NDWI_2007_l7, vizParams, 'QM de NDWI 2007_l7')\n",
    "Map5.addLayer(QM_SAVI_2007_l7, vizParams, 'QM de SAVI 2007_l7')\n",
    "Map5.addLayer(QM_NDGI_2007_l7, vis_nieve, 'QM de NDGI 2007_l7')\n",
    "Map5.addLayer(QM_NDSI_2007_l7, vis_nieve, 'QM de NDSI 2007_l7')\n",
    "# Map5"
   ]
  },
  {
   "cell_type": "code",
   "execution_count": 77,
   "id": "2f07d694",
   "metadata": {
    "ExecuteTime": {
     "end_time": "2021-10-19T13:14:00.318555Z",
     "start_time": "2021-10-19T13:14:00.316225Z"
    }
   },
   "outputs": [],
   "source": [
    "c2007_l7_sn = coleccion_l7_2007.map(Cloud20)\n",
    "NDVI_2007_l7_sn = c2007_l7_sn.qualityMosaic('NDVI')\n",
    "NDWI_2007_l7_sn = c2007_l7_sn.qualityMosaic('NDWI')\n",
    "SAVI_2007_l7_sn = c2007_l7_sn.qualityMosaic('SAVI')\n",
    "NDGI_2007_l7_sn = c2007_l7_sn.qualityMosaic('NDGI')\n",
    "NDSI_2007_l7_sn = c2007_l7_sn.qualityMosaic('NDSI')"
   ]
  },
  {
   "cell_type": "code",
   "execution_count": 78,
   "id": "0e26e3a5",
   "metadata": {
    "ExecuteTime": {
     "end_time": "2021-10-19T13:14:03.506442Z",
     "start_time": "2021-10-19T13:14:00.319708Z"
    }
   },
   "outputs": [
    {
     "data": {
      "application/vnd.jupyter.widget-view+json": {
       "model_id": "7f74932f9c04442897f0cd014447c049",
       "version_major": 2,
       "version_minor": 0
      },
      "text/plain": [
       "Map(center=[-45, -70], controls=(WidgetControl(options=['position', 'transparent_bg'], widget=HBox(children=(T…"
      ]
     },
     "metadata": {},
     "output_type": "display_data"
    }
   ],
   "source": [
    "Map6.addLayer(NDVI_2007_l7_sn, vizParams, 'QMsn de NDVI 2007_l7')\n",
    "Map6.addLayer(NDWI_2007_l7_sn, vizParams, 'QMsn de NDWI 2007_l7')\n",
    "Map6.addLayer(SAVI_2007_l7_sn, vizParams, 'QMsn de SAVI 2007_l7')\n",
    "Map6.addLayer(NDGI_2007_l7_sn, vis_nieve, 'QMsn de NDGI 2007_l7')\n",
    "Map6.addLayer(NDSI_2007_l7_sn, vis_nieve, 'QMsn de NDSI 2007_l7')\n",
    "Map6"
   ]
  },
  {
   "cell_type": "markdown",
   "id": "36356b0d",
   "metadata": {},
   "source": [
    "### 2006 L7"
   ]
  },
  {
   "cell_type": "code",
   "execution_count": 79,
   "id": "d9779e07",
   "metadata": {
    "ExecuteTime": {
     "end_time": "2021-10-19T13:14:03.509202Z",
     "start_time": "2021-10-19T13:14:03.507503Z"
    }
   },
   "outputs": [],
   "source": [
    "start_date = '2005-10-01'\n",
    "end_date = '2006-03-31'\n",
    "\n",
    "l7_2006 = ee.ImageCollection('LANDSAT/LE07/C01/T1_TOA') \\\n",
    "    .filterBounds(patagonia_grande) \\\n",
    "    .filterDate(start_date, end_date)"
   ]
  },
  {
   "cell_type": "code",
   "execution_count": 80,
   "id": "e97b8a3f",
   "metadata": {
    "ExecuteTime": {
     "end_time": "2021-10-19T13:14:03.513801Z",
     "start_time": "2021-10-19T13:14:03.510362Z"
    }
   },
   "outputs": [],
   "source": [
    "coleccion_l7_2006 = l7_2006.map(addNDVI7).map(addNDWI).map(addNDGI).map(addSAVI).map(addNDSI).map(addDate).map(addCloud)"
   ]
  },
  {
   "cell_type": "code",
   "execution_count": 81,
   "id": "8c15e974",
   "metadata": {
    "ExecuteTime": {
     "end_time": "2021-10-19T13:14:03.516662Z",
     "start_time": "2021-10-19T13:14:03.514752Z"
    }
   },
   "outputs": [],
   "source": [
    "QM_NDVI_2006_l7 = coleccion_l7_2006.qualityMosaic('NDVI') # Normalized difference vegetation Index\n",
    "QM_NDWI_2006_l7 = coleccion_l7_2006.qualityMosaic('NDWI') # Normalize difference water index\n",
    "QM_SAVI_2006_l7 = coleccion_l7_2006.qualityMosaic('SAVI') # Soil Adjusted Vegetation Index \n",
    "QM_NDGI_2006_l7 = coleccion_l7_2006.qualityMosaic('NDGI') # Normalized difference glacier index\n",
    "QM_NDSI_2006_l7 = coleccion_l7_2006.qualityMosaic('NDSI') # Normalized difference snow index"
   ]
  },
  {
   "cell_type": "code",
   "execution_count": 82,
   "id": "cdb313e2",
   "metadata": {
    "ExecuteTime": {
     "end_time": "2021-10-19T13:14:06.669399Z",
     "start_time": "2021-10-19T13:14:03.522358Z"
    }
   },
   "outputs": [],
   "source": [
    "Map5.addLayer(QM_NDVI_2006_l7, vizParams, 'QM de NDVI 2006_l7')\n",
    "Map5.addLayer(QM_NDWI_2006_l7, vizParams, 'QM de NDWI 2006_l7')\n",
    "Map5.addLayer(QM_SAVI_2006_l7, vizParams, 'QM de SAVI 2006_l7')\n",
    "Map5.addLayer(QM_NDGI_2006_l7, vis_nieve, 'QM de NDGI 2006_l7')\n",
    "Map5.addLayer(QM_NDSI_2006_l7, vis_nieve, 'QM de NDSI 2006_l7')\n",
    "# Map5"
   ]
  },
  {
   "cell_type": "code",
   "execution_count": 83,
   "id": "9819ceea",
   "metadata": {
    "ExecuteTime": {
     "end_time": "2021-10-19T13:14:06.672760Z",
     "start_time": "2021-10-19T13:14:06.670384Z"
    }
   },
   "outputs": [],
   "source": [
    "c2006_l7_sn = coleccion_l7_2006.map(Cloud20)\n",
    "NDVI_2006_l7_sn = c2006_l7_sn.qualityMosaic('NDVI')\n",
    "NDWI_2006_l7_sn = c2006_l7_sn.qualityMosaic('NDWI')\n",
    "SAVI_2006_l7_sn = c2006_l7_sn.qualityMosaic('SAVI')\n",
    "NDGI_2006_l7_sn = c2006_l7_sn.qualityMosaic('NDGI')\n",
    "NDSI_2006_l7_sn = c2006_l7_sn.qualityMosaic('NDSI')"
   ]
  },
  {
   "cell_type": "code",
   "execution_count": 84,
   "id": "507a4780",
   "metadata": {
    "ExecuteTime": {
     "end_time": "2021-10-19T13:14:09.722618Z",
     "start_time": "2021-10-19T13:14:06.673573Z"
    }
   },
   "outputs": [
    {
     "data": {
      "application/vnd.jupyter.widget-view+json": {
       "model_id": "5b0aca615a3847cea497268eff54b3c7",
       "version_major": 2,
       "version_minor": 0
      },
      "text/plain": [
       "Map(center=[-45, -70], controls=(WidgetControl(options=['position', 'transparent_bg'], widget=HBox(children=(T…"
      ]
     },
     "metadata": {},
     "output_type": "display_data"
    }
   ],
   "source": [
    "Map8.addLayer(NDVI_2006_l7_sn, vizParams, 'QMsn de NDVI 2006_l7')\n",
    "Map8.addLayer(NDWI_2006_l7_sn, vizParams, 'QMsn de NDWI 2006_l7')\n",
    "Map8.addLayer(SAVI_2006_l7_sn, vizParams, 'QMsn de SAVI 2006_l7')\n",
    "Map8.addLayer(NDGI_2006_l7_sn, vis_nieve, 'QMsn de NDGI 2006_l7')\n",
    "Map8.addLayer(NDSI_2006_l7_sn, vis_nieve, 'QMsn de NDSI 2006_l7')\n",
    "Map8"
   ]
  },
  {
   "cell_type": "markdown",
   "id": "dd7d911d",
   "metadata": {},
   "source": [
    "## Indices por colección"
   ]
  },
  {
   "cell_type": "markdown",
   "id": "4ea0a4cd",
   "metadata": {},
   "source": [
    "### Índices 2008"
   ]
  },
  {
   "cell_type": "code",
   "execution_count": 85,
   "id": "426dfca0",
   "metadata": {
    "ExecuteTime": {
     "end_time": "2021-10-19T13:14:09.725649Z",
     "start_time": "2021-10-19T13:14:09.723732Z"
    }
   },
   "outputs": [],
   "source": [
    "NDVI_2008 = NDVI_2008_sn.select('B11')\n",
    "NDWI_2008 = NDWI_2008_sn.select('NDWI') \n",
    "SAVI_2008 = SAVI_2008_sn.select('SAVI')\n",
    "NDGI_2008 = NDGI_2008_sn.select('NDGI')\n",
    "NDSI_2008 = NDSI_2008_sn.select('NDSI')"
   ]
  },
  {
   "cell_type": "code",
   "execution_count": 86,
   "id": "eaf84698",
   "metadata": {
    "ExecuteTime": {
     "end_time": "2021-10-19T13:14:11.654601Z",
     "start_time": "2021-10-19T13:14:09.726474Z"
    }
   },
   "outputs": [
    {
     "data": {
      "application/vnd.jupyter.widget-view+json": {
       "model_id": "fd4155e987c548a1b0544c0069d75417",
       "version_major": 2,
       "version_minor": 0
      },
      "text/plain": [
       "Map(center=[-45, -70], controls=(WidgetControl(options=['position', 'transparent_bg'], widget=HBox(children=(T…"
      ]
     },
     "metadata": {},
     "output_type": "display_data"
    }
   ],
   "source": [
    "Map7.addLayer(NDVI_2008, {'palette': color_terrain}, 'QMsn de NDVI 2008')\n",
    "Map7.addLayer(NDWI_2008, {'palette': color_ndwi}, 'QMsn de NDWI 2008')\n",
    "Map7.addLayer(SAVI_2008, {'palette': color_ndvi}, 'QMsn de SAVI 2008')\n",
    "# Map7.addLayer(NDGI_2008, {'palette': color_glaciar}, 'QMsn de NDGI 2008')\n",
    "# Map7.addLayer(NDSI_2008, {'palette': color_ndwi}, 'QMsn de NDSI 2008')\n",
    "Map7"
   ]
  },
  {
   "cell_type": "markdown",
   "id": "1e0309e1",
   "metadata": {},
   "source": [
    "### Índices 2007"
   ]
  },
  {
   "cell_type": "code",
   "execution_count": 87,
   "id": "cc1253c0",
   "metadata": {
    "ExecuteTime": {
     "end_time": "2021-10-19T13:14:11.657462Z",
     "start_time": "2021-10-19T13:14:11.655578Z"
    }
   },
   "outputs": [],
   "source": [
    "NDVI_2007 = NDVI_2007_sn.select('B11')\n",
    "NDWI_2007 = NDWI_2007_sn.select('NDWI') \n",
    "SAVI_2007 = SAVI_2007_sn.select('SAVI')\n",
    "NDGI_2007 = NDGI_2007_sn.select('NDGI')\n",
    "NDSI_2007 = NDSI_2007_sn.select('NDSI')"
   ]
  },
  {
   "cell_type": "code",
   "execution_count": 88,
   "id": "3e0524d7",
   "metadata": {
    "ExecuteTime": {
     "end_time": "2021-10-19T13:14:13.540134Z",
     "start_time": "2021-10-19T13:14:11.658695Z"
    }
   },
   "outputs": [
    {
     "data": {
      "application/vnd.jupyter.widget-view+json": {
       "model_id": "fd4155e987c548a1b0544c0069d75417",
       "version_major": 2,
       "version_minor": 0
      },
      "text/plain": [
       "Map(center=[-45, -70], controls=(WidgetControl(options=['position', 'transparent_bg'], widget=HBox(children=(T…"
      ]
     },
     "metadata": {},
     "output_type": "display_data"
    }
   ],
   "source": [
    "Map7.addLayer(NDVI_2007, {'palette': color_terrain}, 'QMsn de NDVI 2007')\n",
    "Map7.addLayer(NDWI_2007, {'palette': color_ndwi}, 'QMsn de NDWI 2007')\n",
    "Map7.addLayer(SAVI_2007, {'palette': color_ndvi}, 'QMsn de SAVI 2007')\n",
    "# Map7.addLayer(NDGI_2007, {'palette': color_glaciar}, 'QMsn de NDGI 2007')\n",
    "# Map7.addLayer(NDSI_2007, {'palette': color_ndwi}, 'QMsn de NDSI 2007')\n",
    "Map7"
   ]
  },
  {
   "cell_type": "markdown",
   "id": "4aee56c9",
   "metadata": {},
   "source": [
    "### Índices 2006"
   ]
  },
  {
   "cell_type": "code",
   "execution_count": 89,
   "id": "4a0a2445",
   "metadata": {
    "ExecuteTime": {
     "end_time": "2021-10-19T13:14:13.542831Z",
     "start_time": "2021-10-19T13:14:13.540941Z"
    }
   },
   "outputs": [],
   "source": [
    "NDVI_2006 = NDVI_2006_sn.select('B11')\n",
    "NDWI_2006 = NDWI_2006_sn.select('NDWI') \n",
    "SAVI_2006 = SAVI_2006_sn.select('SAVI')\n",
    "NDGI_2006 = NDGI_2006_sn.select('NDGI')\n",
    "NDSI_2006 = NDSI_2006_sn.select('NDSI')"
   ]
  },
  {
   "cell_type": "code",
   "execution_count": 90,
   "id": "144629ba",
   "metadata": {
    "ExecuteTime": {
     "end_time": "2021-10-19T13:14:15.538402Z",
     "start_time": "2021-10-19T13:14:13.543930Z"
    }
   },
   "outputs": [
    {
     "data": {
      "application/vnd.jupyter.widget-view+json": {
       "model_id": "5b0aca615a3847cea497268eff54b3c7",
       "version_major": 2,
       "version_minor": 0
      },
      "text/plain": [
       "Map(center=[-45, -70], controls=(WidgetControl(options=['position', 'transparent_bg'], widget=HBox(children=(T…"
      ]
     },
     "metadata": {},
     "output_type": "display_data"
    }
   ],
   "source": [
    "Map8.addLayer(NDVI_2006, {'palette': color_terrain}, 'QMsn de NDVI 2006')\n",
    "Map8.addLayer(NDWI_2006, {'palette': color_ndwi}, 'QMsn de NDWI 2006')\n",
    "Map8.addLayer(SAVI_2006, {'palette': color_ndvi}, 'QMsn de SAVI 2006')\n",
    "# Map8.addLayer(NDGI_2006, {'palette': color_glaciar}, 'QMsn de NDGI 2006')\n",
    "# Map8.addLayer(NDSI_2006, {'palette': color_ndwi}, 'QMsn de NDSI 2006')\n",
    "Map8"
   ]
  },
  {
   "cell_type": "markdown",
   "id": "6d3d753e",
   "metadata": {},
   "source": [
    "### Índices 2005 "
   ]
  },
  {
   "cell_type": "code",
   "execution_count": 91,
   "id": "149bf201",
   "metadata": {
    "ExecuteTime": {
     "end_time": "2021-10-19T13:14:15.541304Z",
     "start_time": "2021-10-19T13:14:15.539420Z"
    }
   },
   "outputs": [],
   "source": [
    "NDVI_2005 = NDVI_2005_sn.select('B11')\n",
    "NDWI_2005 = NDWI_2005_sn.select('NDWI') \n",
    "SAVI_2005 = SAVI_2005_sn.select('SAVI')\n",
    "NDGI_2005 = NDGI_2005_sn.select('NDGI')\n",
    "NDSI_2005 = NDSI_2005_sn.select('NDSI')"
   ]
  },
  {
   "cell_type": "code",
   "execution_count": 92,
   "id": "bf8b2aad",
   "metadata": {
    "ExecuteTime": {
     "end_time": "2021-10-19T13:14:17.795700Z",
     "start_time": "2021-10-19T13:14:15.542034Z"
    }
   },
   "outputs": [
    {
     "data": {
      "application/vnd.jupyter.widget-view+json": {
       "model_id": "5b0aca615a3847cea497268eff54b3c7",
       "version_major": 2,
       "version_minor": 0
      },
      "text/plain": [
       "Map(center=[-45, -70], controls=(WidgetControl(options=['position', 'transparent_bg'], widget=HBox(children=(T…"
      ]
     },
     "metadata": {},
     "output_type": "display_data"
    }
   ],
   "source": [
    "Map8.addLayer(NDVI_2005, {'palette': color_terrain}, 'QMsn de NDVI 2005')\n",
    "Map8.addLayer(NDWI_2005, {'palette': color_ndwi}, 'QMsn de NDWI 2005')\n",
    "Map8.addLayer(SAVI_2005, {'palette': color_ndvi}, 'QMsn de SAVI 2005')\n",
    "# Map8.addLayer(NDGI_2005, {'palette': color_glaciar}, 'QMsn de NDGI 2005')\n",
    "# Map8.addLayer(NDSI_2005, {'palette': color_ndwi}, 'QMsn de NDSI 2005')\n",
    "Map8"
   ]
  },
  {
   "cell_type": "markdown",
   "id": "e765cd19",
   "metadata": {},
   "source": [
    "### Índices 2008 L7"
   ]
  },
  {
   "cell_type": "code",
   "execution_count": 93,
   "id": "b4275190",
   "metadata": {
    "ExecuteTime": {
     "end_time": "2021-10-19T13:14:17.798526Z",
     "start_time": "2021-10-19T13:14:17.796733Z"
    }
   },
   "outputs": [],
   "source": [
    "NDVI_2008_l7 = NDVI_2008_l7_sn.select('NDVI')\n",
    "NDWI_2008_l7 = NDWI_2008_l7_sn.select('NDWI')\n",
    "SAVI_2008_l7 = SAVI_2008_l7_sn.select('SAVI')\n",
    "NDGI_2008_l7 = NDGI_2008_l7_sn.select('NDGI')\n",
    "NDSI_2008_l7 = NDSI_2008_l7_sn.select('NDSI')"
   ]
  },
  {
   "cell_type": "code",
   "execution_count": 94,
   "id": "977e42e9",
   "metadata": {
    "ExecuteTime": {
     "end_time": "2021-10-19T13:14:19.786744Z",
     "start_time": "2021-10-19T13:14:17.799304Z"
    }
   },
   "outputs": [
    {
     "data": {
      "application/vnd.jupyter.widget-view+json": {
       "model_id": "5b0aca615a3847cea497268eff54b3c7",
       "version_major": 2,
       "version_minor": 0
      },
      "text/plain": [
       "Map(center=[-45, -70], controls=(WidgetControl(options=['position', 'transparent_bg'], widget=HBox(children=(T…"
      ]
     },
     "metadata": {},
     "output_type": "display_data"
    }
   ],
   "source": [
    "Map8.addLayer(NDVI_2008_l7, {'palette': color_terrain}, 'QMsn de NDVI 2008_l7')\n",
    "Map8.addLayer(NDWI_2008_l7, {'palette': color_ndwi}, 'QMsn de NDWI 2008_l7')\n",
    "Map8.addLayer(SAVI_2008_l7, {'palette': color_ndvi}, 'QMsn de SAVI 2008_l7')\n",
    "# Map8.addLayer(NDGI_2008_l7, {'palette': color_glaciar}, 'QMsn de NDGI 2008_l7')\n",
    "# Map8.addLayer(NDSI_2008_l7, {'palette': color_ndwi}, 'QMsn de NDSI 2008_l7')\n",
    "Map8"
   ]
  },
  {
   "cell_type": "markdown",
   "id": "dd05e9e8",
   "metadata": {},
   "source": [
    "## Generación de Mosaico"
   ]
  },
  {
   "cell_type": "code",
   "execution_count": 95,
   "id": "ddfd5f61",
   "metadata": {
    "ExecuteTime": {
     "end_time": "2021-10-19T13:14:19.789219Z",
     "start_time": "2021-10-19T13:14:19.787571Z"
    }
   },
   "outputs": [],
   "source": [
    "mosaic = ee.ImageCollection([QM_NDGI_2009_l7,NDVI_2008_l7_sn]).mosaic()"
   ]
  },
  {
   "cell_type": "code",
   "execution_count": 96,
   "id": "c852427b",
   "metadata": {
    "ExecuteTime": {
     "end_time": "2021-10-19T13:14:19.792199Z",
     "start_time": "2021-10-19T13:14:19.790016Z"
    }
   },
   "outputs": [],
   "source": [
    "NDVI_landsat_7 = mosaic.set('SENSOR_ID', 'ETM+')"
   ]
  },
  {
   "cell_type": "code",
   "execution_count": 97,
   "id": "e97dfca9",
   "metadata": {
    "ExecuteTime": {
     "end_time": "2021-10-19T13:14:19.794533Z",
     "start_time": "2021-10-19T13:14:19.793114Z"
    }
   },
   "outputs": [],
   "source": [
    "cloud_ = ee.Algorithms.Landsat.simpleCloudScore(NDVI_landsat_7)"
   ]
  },
  {
   "cell_type": "code",
   "execution_count": 98,
   "id": "e4cbfef0",
   "metadata": {
    "ExecuteTime": {
     "end_time": "2021-10-19T13:14:19.796944Z",
     "start_time": "2021-10-19T13:14:19.795464Z"
    }
   },
   "outputs": [],
   "source": [
    "cloud_ = cloud_.select('cloud')"
   ]
  },
  {
   "cell_type": "code",
   "execution_count": 99,
   "id": "21774c4c",
   "metadata": {
    "ExecuteTime": {
     "end_time": "2021-10-19T13:14:19.799433Z",
     "start_time": "2021-10-19T13:14:19.797827Z"
    }
   },
   "outputs": [],
   "source": [
    "palette_nubes = ['#1a9850', '#66bd63', '#a6d96a', '#d9ef8b', '#fee08b', '#fdae61', '#f46d43', '#d73027']"
   ]
  },
  {
   "cell_type": "code",
   "execution_count": 100,
   "id": "01f59e64",
   "metadata": {
    "ExecuteTime": {
     "end_time": "2021-10-19T13:14:19.802182Z",
     "start_time": "2021-10-19T13:14:19.800536Z"
    }
   },
   "outputs": [],
   "source": [
    "resultados= [cloud_, mosaic]\n",
    "vis_params2=  [\n",
    "    {'palette':palette_nubes}, \n",
    "    vizParams]\n",
    "labels = [\n",
    "    'Nubes',\n",
    "    'QM NDVI']"
   ]
  },
  {
   "cell_type": "code",
   "execution_count": 101,
   "id": "2f4324dc",
   "metadata": {
    "ExecuteTime": {
     "end_time": "2021-10-19T13:14:21.450982Z",
     "start_time": "2021-10-19T13:14:19.803047Z"
    }
   },
   "outputs": [
    {
     "data": {
      "application/vnd.jupyter.widget-view+json": {
       "model_id": "ee29b490437a4344974b703bfa2d4056",
       "version_major": 2,
       "version_minor": 0
      },
      "text/plain": [
       "GridspecLayout(children=(Output(layout=Layout(grid_area='widget001')), Output(layout=Layout(grid_area='widget0…"
      ]
     },
     "metadata": {},
     "output_type": "display_data"
    }
   ],
   "source": [
    "geemap.linked_maps(rows=1, cols=2, height=\"400px\", center=[-45, -75], zoom=4, \n",
    "                   ee_objects=resultados, vis_params=vis_params2, labels=labels, label_position=\"topright\")"
   ]
  },
  {
   "cell_type": "code",
   "execution_count": 102,
   "id": "93ea56bf",
   "metadata": {
    "ExecuteTime": {
     "end_time": "2021-10-19T13:14:21.453736Z",
     "start_time": "2021-10-19T13:14:21.452014Z"
    }
   },
   "outputs": [],
   "source": [
    "def llenado(image):\n",
    "    return image.where(cloud_.gt(20),NDVI_2009_l7_sn)"
   ]
  },
  {
   "cell_type": "code",
   "execution_count": 103,
   "id": "8287934f",
   "metadata": {
    "ExecuteTime": {
     "end_time": "2021-10-19T13:14:21.456001Z",
     "start_time": "2021-10-19T13:14:21.454492Z"
    }
   },
   "outputs": [],
   "source": [
    "img1 = llenado(mosaic)"
   ]
  },
  {
   "cell_type": "code",
   "execution_count": 104,
   "id": "0ea4ebed",
   "metadata": {
    "ExecuteTime": {
     "end_time": "2021-10-19T13:14:21.458653Z",
     "start_time": "2021-10-19T13:14:21.456958Z"
    }
   },
   "outputs": [],
   "source": [
    "img1_landsat = img1.set('SENSOR_ID', 'ETM+')\n",
    "cloud_img1 = ee.Algorithms.Landsat.simpleCloudScore(img1_landsat)\n",
    "cloud_img1 = cloud_img1.select('cloud')"
   ]
  },
  {
   "cell_type": "code",
   "execution_count": 105,
   "id": "84dbb2d4",
   "metadata": {
    "ExecuteTime": {
     "end_time": "2021-10-19T13:14:21.461041Z",
     "start_time": "2021-10-19T13:14:21.459423Z"
    }
   },
   "outputs": [],
   "source": [
    "resultados= [cloud_img1, img1]\n",
    "vis_params2=  [\n",
    "    {'palette':palette_nubes}, \n",
    "    vizParams]\n",
    "labels = [\n",
    "    'Nubes Mosaico 1',\n",
    "    'Mosaico 1']"
   ]
  },
  {
   "cell_type": "code",
   "execution_count": 106,
   "id": "f3c2a996",
   "metadata": {
    "ExecuteTime": {
     "end_time": "2021-10-19T13:14:23.038036Z",
     "start_time": "2021-10-19T13:14:21.461963Z"
    }
   },
   "outputs": [
    {
     "data": {
      "application/vnd.jupyter.widget-view+json": {
       "model_id": "2817c62efffc43bab841b11a5ee91903",
       "version_major": 2,
       "version_minor": 0
      },
      "text/plain": [
       "GridspecLayout(children=(Output(layout=Layout(grid_area='widget001')), Output(layout=Layout(grid_area='widget0…"
      ]
     },
     "metadata": {},
     "output_type": "display_data"
    }
   ],
   "source": [
    "geemap.linked_maps(rows=1, cols=2, height=\"400px\", center=[-45, -75], zoom=4, \n",
    "                   ee_objects=resultados, vis_params=vis_params2, labels=labels, label_position=\"topright\")"
   ]
  },
  {
   "cell_type": "code",
   "execution_count": 107,
   "id": "9a243ac4",
   "metadata": {
    "ExecuteTime": {
     "end_time": "2021-10-19T13:14:23.040400Z",
     "start_time": "2021-10-19T13:14:23.038856Z"
    }
   },
   "outputs": [],
   "source": [
    "def llenado2(image):\n",
    "    return image.where(cloud_img1.gt(20), NDVI_2008_l7_sn)"
   ]
  },
  {
   "cell_type": "code",
   "execution_count": 108,
   "id": "ada6d94e",
   "metadata": {
    "ExecuteTime": {
     "end_time": "2021-10-19T13:14:23.043299Z",
     "start_time": "2021-10-19T13:14:23.041098Z"
    }
   },
   "outputs": [],
   "source": [
    "img2 = llenado2(img1)"
   ]
  },
  {
   "cell_type": "code",
   "execution_count": 109,
   "id": "e3db0a52",
   "metadata": {
    "ExecuteTime": {
     "end_time": "2021-10-19T13:14:23.045900Z",
     "start_time": "2021-10-19T13:14:23.044248Z"
    }
   },
   "outputs": [],
   "source": [
    "img2_landsat = img2.set('SENSOR_ID', 'ETM+')\n",
    "cloud_img2 = ee.Algorithms.Landsat.simpleCloudScore(img2_landsat)\n",
    "cloud_img2 = cloud_img2.select('cloud')"
   ]
  },
  {
   "cell_type": "code",
   "execution_count": 110,
   "id": "42d22742",
   "metadata": {
    "ExecuteTime": {
     "end_time": "2021-10-19T13:14:23.048454Z",
     "start_time": "2021-10-19T13:14:23.046798Z"
    }
   },
   "outputs": [],
   "source": [
    "resultados= [cloud_img2, img2]\n",
    "vis_params2=  [\n",
    "    {'palette':palette_nubes}, \n",
    "    vizParams]\n",
    "labels = [\n",
    "    'Nubes Mosaico 2',\n",
    "    'Mosaico 2']"
   ]
  },
  {
   "cell_type": "code",
   "execution_count": 111,
   "id": "5bdcab8c",
   "metadata": {
    "ExecuteTime": {
     "end_time": "2021-10-19T13:14:24.653742Z",
     "start_time": "2021-10-19T13:14:23.049409Z"
    }
   },
   "outputs": [
    {
     "data": {
      "application/vnd.jupyter.widget-view+json": {
       "model_id": "3967c4a270e74e9088e2679a3ec68ac1",
       "version_major": 2,
       "version_minor": 0
      },
      "text/plain": [
       "GridspecLayout(children=(Output(layout=Layout(grid_area='widget001')), Output(layout=Layout(grid_area='widget0…"
      ]
     },
     "metadata": {},
     "output_type": "display_data"
    }
   ],
   "source": [
    "geemap.linked_maps(rows=1, cols=2, height=\"400px\", center=[-45, -75], zoom=4, \n",
    "                   ee_objects=resultados, vis_params=vis_params2, labels=labels, label_position=\"topright\")"
   ]
  },
  {
   "cell_type": "code",
   "execution_count": 112,
   "id": "ca5f91e2",
   "metadata": {
    "ExecuteTime": {
     "end_time": "2021-10-19T13:14:24.656120Z",
     "start_time": "2021-10-19T13:14:24.654548Z"
    }
   },
   "outputs": [],
   "source": [
    "def llenado3(image):\n",
    "    return image.where(cloud_img2.gt(20), NDVI_2007_l7_sn)"
   ]
  },
  {
   "cell_type": "code",
   "execution_count": 113,
   "id": "f52fddee",
   "metadata": {
    "ExecuteTime": {
     "end_time": "2021-10-19T13:14:24.659108Z",
     "start_time": "2021-10-19T13:14:24.656941Z"
    }
   },
   "outputs": [],
   "source": [
    "img3 = llenado3(img2)"
   ]
  },
  {
   "cell_type": "code",
   "execution_count": 114,
   "id": "6d41d9d0",
   "metadata": {
    "ExecuteTime": {
     "end_time": "2021-10-19T13:14:24.661673Z",
     "start_time": "2021-10-19T13:14:24.660040Z"
    }
   },
   "outputs": [],
   "source": [
    "img3_landsat = img3.set('SENSOR_ID', 'ETM+')\n",
    "cloud_img3 = ee.Algorithms.Landsat.simpleCloudScore(img3_landsat)\n",
    "cloud_img3 = cloud_img3.select('cloud')"
   ]
  },
  {
   "cell_type": "code",
   "execution_count": 115,
   "id": "3a000d62",
   "metadata": {
    "ExecuteTime": {
     "end_time": "2021-10-19T13:14:24.664227Z",
     "start_time": "2021-10-19T13:14:24.662644Z"
    }
   },
   "outputs": [],
   "source": [
    "resultados= [cloud_img3, img3]\n",
    "vis_params2=  [\n",
    "    {'palette':palette_nubes}, \n",
    "    vizParams]\n",
    "labels = [\n",
    "    'Nubes Mosaico 3',\n",
    "    'Mosaico 3']"
   ]
  },
  {
   "cell_type": "code",
   "execution_count": 116,
   "id": "bf275ed6",
   "metadata": {
    "ExecuteTime": {
     "end_time": "2021-10-19T13:14:26.297610Z",
     "start_time": "2021-10-19T13:14:24.665118Z"
    }
   },
   "outputs": [
    {
     "data": {
      "application/vnd.jupyter.widget-view+json": {
       "model_id": "c7310adec574465480d765dd322cfa3a",
       "version_major": 2,
       "version_minor": 0
      },
      "text/plain": [
       "GridspecLayout(children=(Output(layout=Layout(grid_area='widget001')), Output(layout=Layout(grid_area='widget0…"
      ]
     },
     "metadata": {},
     "output_type": "display_data"
    }
   ],
   "source": [
    "geemap.linked_maps(rows=1, cols=2, height=\"400px\", center=[-45, -75], zoom=4, \n",
    "                   ee_objects=resultados, vis_params=vis_params2, labels=labels, label_position=\"topright\")"
   ]
  },
  {
   "cell_type": "code",
   "execution_count": 117,
   "id": "9d0daae9",
   "metadata": {
    "ExecuteTime": {
     "end_time": "2021-10-19T13:14:26.300150Z",
     "start_time": "2021-10-19T13:14:26.298394Z"
    }
   },
   "outputs": [],
   "source": [
    "def llenado4(image):\n",
    "    return image.where(cloud_img3.gt(20), NDVI_2006_l7_sn)"
   ]
  },
  {
   "cell_type": "code",
   "execution_count": 118,
   "id": "d37f16d5",
   "metadata": {
    "ExecuteTime": {
     "end_time": "2021-10-19T13:14:26.302605Z",
     "start_time": "2021-10-19T13:14:26.301225Z"
    }
   },
   "outputs": [],
   "source": [
    "img4 = llenado4(img3)"
   ]
  },
  {
   "cell_type": "code",
   "execution_count": 119,
   "id": "540d60d8",
   "metadata": {
    "ExecuteTime": {
     "end_time": "2021-10-19T13:14:26.305120Z",
     "start_time": "2021-10-19T13:14:26.303543Z"
    }
   },
   "outputs": [],
   "source": [
    "img4_landsat = img4.set('SENSOR_ID', 'ETM+')\n",
    "cloud_img4 = ee.Algorithms.Landsat.simpleCloudScore(img4_landsat)\n",
    "cloud_img4 = cloud_img4.select('cloud')"
   ]
  },
  {
   "cell_type": "code",
   "execution_count": 120,
   "id": "3f0e9719",
   "metadata": {
    "ExecuteTime": {
     "end_time": "2021-10-19T13:14:26.307725Z",
     "start_time": "2021-10-19T13:14:26.306088Z"
    }
   },
   "outputs": [],
   "source": [
    "resultados= [cloud_img4, img4]\n",
    "vis_params2=  [\n",
    "    {'palette':palette_nubes}, \n",
    "    vizParams]\n",
    "labels = [\n",
    "    'Nubes Mosaico 4',\n",
    "    'Mosaico 4']"
   ]
  },
  {
   "cell_type": "code",
   "execution_count": 121,
   "id": "41d9a7b8",
   "metadata": {
    "ExecuteTime": {
     "end_time": "2021-10-19T13:14:27.945222Z",
     "start_time": "2021-10-19T13:14:26.308631Z"
    }
   },
   "outputs": [
    {
     "data": {
      "application/vnd.jupyter.widget-view+json": {
       "model_id": "0c9ed63d2da74d3682e79fdc4a4a362d",
       "version_major": 2,
       "version_minor": 0
      },
      "text/plain": [
       "GridspecLayout(children=(Output(layout=Layout(grid_area='widget001')), Output(layout=Layout(grid_area='widget0…"
      ]
     },
     "metadata": {},
     "output_type": "display_data"
    }
   ],
   "source": [
    "geemap.linked_maps(rows=1, cols=2, height=\"400px\", center=[-45, -75], zoom=4, \n",
    "                   ee_objects=resultados, vis_params=vis_params2, labels=labels, label_position=\"topright\")"
   ]
  },
  {
   "cell_type": "code",
   "execution_count": 122,
   "id": "eb9d6a80",
   "metadata": {
    "ExecuteTime": {
     "end_time": "2021-10-19T13:14:27.947732Z",
     "start_time": "2021-10-19T13:14:27.946046Z"
    }
   },
   "outputs": [],
   "source": [
    "NDVI_img4 = img4.select('NDVI')\n",
    "NDWI_img4 = img4.select('NDWI')"
   ]
  },
  {
   "cell_type": "code",
   "execution_count": 123,
   "id": "2e6b728e",
   "metadata": {
    "ExecuteTime": {
     "end_time": "2021-10-19T13:14:28.559303Z",
     "start_time": "2021-10-19T13:14:27.948757Z"
    }
   },
   "outputs": [
    {
     "data": {
      "text/html": [
       "<div style=\"width:100%;\"><div style=\"position:relative;width:100%;height:0;padding-bottom:60%;\"><span style=\"color:#565656\">Make this Notebook Trusted to load map: File -> Trust Notebook</span><iframe src=\"about:blank\" style=\"position:absolute;width:100%;height:100%;left:0;top:0;border:none !important;\" data-html=%3C%21DOCTYPE%20html%3E%0A%3Chead%3E%20%20%20%20%0A%20%20%20%20%3Cmeta%20http-equiv%3D%22content-type%22%20content%3D%22text/html%3B%20charset%3DUTF-8%22%20/%3E%0A%20%20%20%20%0A%20%20%20%20%20%20%20%20%3Cscript%3E%0A%20%20%20%20%20%20%20%20%20%20%20%20L_NO_TOUCH%20%3D%20false%3B%0A%20%20%20%20%20%20%20%20%20%20%20%20L_DISABLE_3D%20%3D%20false%3B%0A%20%20%20%20%20%20%20%20%3C/script%3E%0A%20%20%20%20%0A%20%20%20%20%3Cstyle%3Ehtml%2C%20body%20%7Bwidth%3A%20100%25%3Bheight%3A%20100%25%3Bmargin%3A%200%3Bpadding%3A%200%3B%7D%3C/style%3E%0A%20%20%20%20%3Cstyle%3E%23map%20%7Bposition%3Aabsolute%3Btop%3A0%3Bbottom%3A0%3Bright%3A0%3Bleft%3A0%3B%7D%3C/style%3E%0A%20%20%20%20%3Cscript%20src%3D%22https%3A//cdn.jsdelivr.net/npm/leaflet%401.6.0/dist/leaflet.js%22%3E%3C/script%3E%0A%20%20%20%20%3Cscript%20src%3D%22https%3A//code.jquery.com/jquery-1.12.4.min.js%22%3E%3C/script%3E%0A%20%20%20%20%3Cscript%20src%3D%22https%3A//maxcdn.bootstrapcdn.com/bootstrap/3.2.0/js/bootstrap.min.js%22%3E%3C/script%3E%0A%20%20%20%20%3Cscript%20src%3D%22https%3A//cdnjs.cloudflare.com/ajax/libs/Leaflet.awesome-markers/2.0.2/leaflet.awesome-markers.js%22%3E%3C/script%3E%0A%20%20%20%20%3Clink%20rel%3D%22stylesheet%22%20href%3D%22https%3A//cdn.jsdelivr.net/npm/leaflet%401.6.0/dist/leaflet.css%22/%3E%0A%20%20%20%20%3Clink%20rel%3D%22stylesheet%22%20href%3D%22https%3A//maxcdn.bootstrapcdn.com/bootstrap/3.2.0/css/bootstrap.min.css%22/%3E%0A%20%20%20%20%3Clink%20rel%3D%22stylesheet%22%20href%3D%22https%3A//maxcdn.bootstrapcdn.com/bootstrap/3.2.0/css/bootstrap-theme.min.css%22/%3E%0A%20%20%20%20%3Clink%20rel%3D%22stylesheet%22%20href%3D%22https%3A//maxcdn.bootstrapcdn.com/font-awesome/4.6.3/css/font-awesome.min.css%22/%3E%0A%20%20%20%20%3Clink%20rel%3D%22stylesheet%22%20href%3D%22https%3A//cdnjs.cloudflare.com/ajax/libs/Leaflet.awesome-markers/2.0.2/leaflet.awesome-markers.css%22/%3E%0A%20%20%20%20%3Clink%20rel%3D%22stylesheet%22%20href%3D%22https%3A//cdn.jsdelivr.net/gh/python-visualization/folium/folium/templates/leaflet.awesome.rotate.min.css%22/%3E%0A%20%20%20%20%0A%20%20%20%20%20%20%20%20%20%20%20%20%3Cmeta%20name%3D%22viewport%22%20content%3D%22width%3Ddevice-width%2C%0A%20%20%20%20%20%20%20%20%20%20%20%20%20%20%20%20initial-scale%3D1.0%2C%20maximum-scale%3D1.0%2C%20user-scalable%3Dno%22%20/%3E%0A%20%20%20%20%20%20%20%20%20%20%20%20%3Cstyle%3E%0A%20%20%20%20%20%20%20%20%20%20%20%20%20%20%20%20%23map_3baf2ff5e8bb42e58abbac375cba3b4d%20%7B%0A%20%20%20%20%20%20%20%20%20%20%20%20%20%20%20%20%20%20%20%20position%3A%20relative%3B%0A%20%20%20%20%20%20%20%20%20%20%20%20%20%20%20%20%20%20%20%20width%3A%20100.0%25%3B%0A%20%20%20%20%20%20%20%20%20%20%20%20%20%20%20%20%20%20%20%20height%3A%20100.0%25%3B%0A%20%20%20%20%20%20%20%20%20%20%20%20%20%20%20%20%20%20%20%20left%3A%200.0%25%3B%0A%20%20%20%20%20%20%20%20%20%20%20%20%20%20%20%20%20%20%20%20top%3A%200.0%25%3B%0A%20%20%20%20%20%20%20%20%20%20%20%20%20%20%20%20%7D%0A%20%20%20%20%20%20%20%20%20%20%20%20%3C/style%3E%0A%20%20%20%20%20%20%20%20%0A%3C/head%3E%0A%3Cbody%3E%20%20%20%20%0A%20%20%20%20%0A%20%20%20%20%20%20%20%20%20%20%20%20%3Cdiv%20class%3D%22folium-map%22%20id%3D%22map_3baf2ff5e8bb42e58abbac375cba3b4d%22%20%3E%3C/div%3E%0A%20%20%20%20%20%20%20%20%0A%3C/body%3E%0A%3Cscript%3E%20%20%20%20%0A%20%20%20%20%0A%20%20%20%20%20%20%20%20%20%20%20%20var%20map_3baf2ff5e8bb42e58abbac375cba3b4d%20%3D%20L.map%28%0A%20%20%20%20%20%20%20%20%20%20%20%20%20%20%20%20%22map_3baf2ff5e8bb42e58abbac375cba3b4d%22%2C%0A%20%20%20%20%20%20%20%20%20%20%20%20%20%20%20%20%7B%0A%20%20%20%20%20%20%20%20%20%20%20%20%20%20%20%20%20%20%20%20center%3A%20%5B-45.0%2C%20-73.0%5D%2C%0A%20%20%20%20%20%20%20%20%20%20%20%20%20%20%20%20%20%20%20%20crs%3A%20L.CRS.EPSG3857%2C%0A%20%20%20%20%20%20%20%20%20%20%20%20%20%20%20%20%20%20%20%20zoom%3A%205%2C%0A%20%20%20%20%20%20%20%20%20%20%20%20%20%20%20%20%20%20%20%20zoomControl%3A%20true%2C%0A%20%20%20%20%20%20%20%20%20%20%20%20%20%20%20%20%20%20%20%20preferCanvas%3A%20false%2C%0A%20%20%20%20%20%20%20%20%20%20%20%20%20%20%20%20%7D%0A%20%20%20%20%20%20%20%20%20%20%20%20%29%3B%0A%0A%20%20%20%20%20%20%20%20%20%20%20%20%0A%0A%20%20%20%20%20%20%20%20%0A%20%20%20%20%0A%20%20%20%20%20%20%20%20%20%20%20%20var%20tile_layer_4b9d8c1af7e34e068bb7abc7de1d2d09%20%3D%20L.tileLayer%28%0A%20%20%20%20%20%20%20%20%20%20%20%20%20%20%20%20%22https%3A//%7Bs%7D.tile.openstreetmap.org/%7Bz%7D/%7Bx%7D/%7By%7D.png%22%2C%0A%20%20%20%20%20%20%20%20%20%20%20%20%20%20%20%20%7B%22attribution%22%3A%20%22Data%20by%20%5Cu0026copy%3B%20%5Cu003ca%20href%3D%5C%22http%3A//openstreetmap.org%5C%22%5Cu003eOpenStreetMap%5Cu003c/a%5Cu003e%2C%20under%20%5Cu003ca%20href%3D%5C%22http%3A//www.openstreetmap.org/copyright%5C%22%5Cu003eODbL%5Cu003c/a%5Cu003e.%22%2C%20%22detectRetina%22%3A%20false%2C%20%22maxNativeZoom%22%3A%2018%2C%20%22maxZoom%22%3A%2018%2C%20%22minZoom%22%3A%200%2C%20%22noWrap%22%3A%20false%2C%20%22opacity%22%3A%201%2C%20%22subdomains%22%3A%20%22abc%22%2C%20%22tms%22%3A%20false%7D%0A%20%20%20%20%20%20%20%20%20%20%20%20%29.addTo%28map_3baf2ff5e8bb42e58abbac375cba3b4d%29%3B%0A%20%20%20%20%20%20%20%20%0A%20%20%20%20%0A%20%20%20%20%20%20%20%20%20%20%20%20var%20tile_layer_ca389144903b4fa5a70b851ae45ebcb7%20%3D%20L.tileLayer%28%0A%20%20%20%20%20%20%20%20%20%20%20%20%20%20%20%20%22https%3A//earthengine.googleapis.com/v1alpha/projects/earthengine-legacy/maps/dd50174138b230e75d0c72023467cdd2-6e11f56faea2ac240aacbb49e7a1b85e/tiles/%7Bz%7D/%7Bx%7D/%7By%7D%22%2C%0A%20%20%20%20%20%20%20%20%20%20%20%20%20%20%20%20%7B%22attribution%22%3A%20%22Map%20Data%20%5Cu0026copy%3B%20%5Cu003ca%20href%3D%5C%22https%3A//earthengine.google.com/%5C%22%5Cu003eGoogle%20Earth%20Engine%5Cu003c/a%5Cu003e%22%2C%20%22detectRetina%22%3A%20false%2C%20%22maxNativeZoom%22%3A%2018%2C%20%22maxZoom%22%3A%2018%2C%20%22minZoom%22%3A%200%2C%20%22noWrap%22%3A%20false%2C%20%22opacity%22%3A%201%2C%20%22subdomains%22%3A%20%22abc%22%2C%20%22tms%22%3A%20false%7D%0A%20%20%20%20%20%20%20%20%20%20%20%20%29.addTo%28map_3baf2ff5e8bb42e58abbac375cba3b4d%29%3B%0A%20%20%20%20%20%20%20%20%0A%3C/script%3E onload=\"this.contentDocument.open();this.contentDocument.write(    decodeURIComponent(this.getAttribute('data-html')));this.contentDocument.close();\" allowfullscreen webkitallowfullscreen mozallowfullscreen></iframe></div></div>"
      ],
      "text/plain": [
       "<folium.folium.Map at 0x7f72e172b910>"
      ]
     },
     "metadata": {},
     "output_type": "display_data"
    }
   ],
   "source": [
    "map_img4 = folium.Map(location = [-45, -73], zoom_start = 5)\n",
    "map_img4.add_ee_layer(NDVI_img4, color_terrain, 'IMG4')\n",
    "display(map_img4)"
   ]
  },
  {
   "cell_type": "code",
   "execution_count": 124,
   "id": "dc42098d",
   "metadata": {
    "ExecuteTime": {
     "end_time": "2021-10-19T13:14:28.561980Z",
     "start_time": "2021-10-19T13:14:28.560159Z"
    }
   },
   "outputs": [],
   "source": [
    "def llenado5(image):\n",
    "    return image.where(NDVI_2008_l7.lt(0.25).And(NDWI_2008_l7.gt(0.3)), NDWI_2008_l7_sn)"
   ]
  },
  {
   "cell_type": "code",
   "execution_count": 125,
   "id": "d494173a",
   "metadata": {
    "ExecuteTime": {
     "end_time": "2021-10-19T13:14:28.564802Z",
     "start_time": "2021-10-19T13:14:28.563361Z"
    }
   },
   "outputs": [],
   "source": [
    "img5 = llenado5(img4)"
   ]
  },
  {
   "cell_type": "code",
   "execution_count": 126,
   "id": "45546a04",
   "metadata": {
    "ExecuteTime": {
     "end_time": "2021-10-19T13:14:28.567736Z",
     "start_time": "2021-10-19T13:14:28.565914Z"
    }
   },
   "outputs": [],
   "source": [
    "resultados= [img4, img5]\n",
    "labels = [\n",
    "    'Mosaico 4',\n",
    "    'Mosaico 5']\n",
    "vis_params3=  [\n",
    "     vizParams, \n",
    "    vizParams]"
   ]
  },
  {
   "cell_type": "code",
   "execution_count": 127,
   "id": "e59d0286",
   "metadata": {
    "ExecuteTime": {
     "end_time": "2021-10-19T13:14:30.337353Z",
     "start_time": "2021-10-19T13:14:28.568597Z"
    }
   },
   "outputs": [
    {
     "data": {
      "application/vnd.jupyter.widget-view+json": {
       "model_id": "687749404abb4e2f887baf3cf85b224b",
       "version_major": 2,
       "version_minor": 0
      },
      "text/plain": [
       "GridspecLayout(children=(Output(layout=Layout(grid_area='widget001')), Output(layout=Layout(grid_area='widget0…"
      ]
     },
     "metadata": {},
     "output_type": "display_data"
    }
   ],
   "source": [
    "geemap.linked_maps(rows=1, cols=2, height=\"400px\", center=[-45, -75], zoom=4, \n",
    "                   ee_objects=resultados, vis_params=vis_params3, labels=labels, label_position=\"topright\")"
   ]
  },
  {
   "cell_type": "code",
   "execution_count": 128,
   "id": "b5709218",
   "metadata": {
    "ExecuteTime": {
     "end_time": "2021-10-19T13:14:31.707117Z",
     "start_time": "2021-10-19T13:14:30.338137Z"
    }
   },
   "outputs": [
    {
     "data": {
      "application/vnd.jupyter.widget-view+json": {
       "model_id": "7c61df684f2546168f92529ff6da8ce9",
       "version_major": 2,
       "version_minor": 0
      },
      "text/plain": [
       "Map(center=[-45, -70], controls=(WidgetControl(options=['position', 'transparent_bg'], widget=HBox(children=(T…"
      ]
     },
     "metadata": {},
     "output_type": "display_data"
    }
   ],
   "source": [
    "Map10.addLayer(img4, vizParams, 'Mosaico 4')\n",
    "Map10.addLayer(img5, vizParams, 'Mosaico 5')\n",
    "Map10"
   ]
  },
  {
   "cell_type": "code",
   "execution_count": null,
   "id": "fb49fa78",
   "metadata": {},
   "outputs": [],
   "source": []
  }
 ],
 "metadata": {
  "kernelspec": {
   "display_name": "Python 3 (ipykernel)",
   "language": "python",
   "name": "python3"
  },
  "language_info": {
   "codemirror_mode": {
    "name": "ipython",
    "version": 3
   },
   "file_extension": ".py",
   "mimetype": "text/x-python",
   "name": "python",
   "nbconvert_exporter": "python",
   "pygments_lexer": "ipython3",
   "version": "3.8.11"
  },
  "toc": {
   "base_numbering": 1,
   "nav_menu": {},
   "number_sections": true,
   "sideBar": true,
   "skip_h1_title": false,
   "title_cell": "Table of Contents",
   "title_sidebar": "Contents",
   "toc_cell": false,
   "toc_position": {
    "height": "calc(100% - 180px)",
    "left": "10px",
    "top": "150px",
    "width": "384px"
   },
   "toc_section_display": true,
   "toc_window_display": true
  },
  "varInspector": {
   "cols": {
    "lenName": 16,
    "lenType": 16,
    "lenVar": 40
   },
   "kernels_config": {
    "python": {
     "delete_cmd_postfix": "",
     "delete_cmd_prefix": "del ",
     "library": "var_list.py",
     "varRefreshCmd": "print(var_dic_list())"
    },
    "r": {
     "delete_cmd_postfix": ") ",
     "delete_cmd_prefix": "rm(",
     "library": "var_list.r",
     "varRefreshCmd": "cat(var_dic_list()) "
    }
   },
   "types_to_exclude": [
    "module",
    "function",
    "builtin_function_or_method",
    "instance",
    "_Feature"
   ],
   "window_display": false
  }
 },
 "nbformat": 4,
 "nbformat_minor": 5
}
