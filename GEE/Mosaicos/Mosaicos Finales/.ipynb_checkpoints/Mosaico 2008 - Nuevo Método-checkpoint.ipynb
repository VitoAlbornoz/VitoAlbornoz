{
 "cells": [
  {
   "cell_type": "markdown",
   "id": "c8ee7fef",
   "metadata": {},
   "source": [
    "# Mosaico 2008"
   ]
  },
  {
   "cell_type": "markdown",
   "id": "203f76ca",
   "metadata": {},
   "source": [
    "Script trabajado por Francisco Albornoz (2021-04-13) / Última modificación / Mosaicos Patagonia"
   ]
  },
  {
   "cell_type": "markdown",
   "id": "2fb5cdeb",
   "metadata": {},
   "source": [
    "2021-08-05 13:07:09 "
   ]
  },
  {
   "cell_type": "code",
   "execution_count": 1,
   "id": "3057c761",
   "metadata": {
    "ExecuteTime": {
     "end_time": "2022-01-24T15:08:13.294077Z",
     "start_time": "2022-01-24T15:08:12.144183Z"
    }
   },
   "outputs": [],
   "source": [
    "import ee\n",
    "import geemap\n",
    "import geemap.chart as chart\n",
    "import os\n",
    "import folium\n",
    "import xarray_leaflet\n",
    "import rasterio \n",
    "from rasterio import plot\n",
    "import matplotlib.pyplot as plt\n",
    "import numpy as np\n",
    "%matplotlib inline"
   ]
  },
  {
   "cell_type": "markdown",
   "id": "1997eeb4",
   "metadata": {},
   "source": [
    "<img src=https://www.ecopaysen.cl/wp-content/uploads/2019/12/ecopaysen_marca_web.png>"
   ]
  },
  {
   "cell_type": "code",
   "execution_count": 2,
   "id": "fca49a56",
   "metadata": {
    "ExecuteTime": {
     "end_time": "2022-01-24T15:08:24.461267Z",
     "start_time": "2022-01-24T15:08:13.295179Z"
    }
   },
   "outputs": [],
   "source": [
    "Map = geemap.Map(center = [-45, -70], zoom = 4)\n",
    "Map1 = geemap.Map(center = [-45, -70], zoom = 4)\n",
    "Map2 = geemap.Map(center = [-45, -70], zoom = 4)\n",
    "Map3 = geemap.Map(center = [-45, -70], zoom = 4)\n",
    "Map4 = geemap.Map(center = [-45, -70], zoom = 4)\n",
    "Map5 = geemap.Map(center = [-45, -70], zoom = 4)\n",
    "Map6 = geemap.Map(center = [-45, -70], zoom = 4)\n",
    "Map7 = geemap.Map(center = [-45, -70], zoom = 4)\n",
    "Map8 = geemap.Map(center = [-45, -70], zoom = 4)\n",
    "Map9 = geemap.Map(center = [-45, -70], zoom = 4)\n",
    "Map10 = geemap.Map(center = [-45, -70], zoom = 4)\n",
    "Map11 = geemap.Map(center = [-45, -70], zoom = 4)\n",
    "Map12 = geemap.Map(center = [-45, -70], zoom = 4)\n",
    "Map13 = geemap.Map(center = [-45, -70], zoom = 4)\n",
    "Map14 = geemap.Map(center = [-45, -70], zoom = 4)\n",
    "Map15 = geemap.Map(center = [-45, -70], zoom = 4)"
   ]
  },
  {
   "cell_type": "markdown",
   "id": "f26fe1a2",
   "metadata": {},
   "source": [
    "## Área de Estudio"
   ]
  },
  {
   "cell_type": "code",
   "execution_count": 3,
   "id": "2aae613d",
   "metadata": {
    "ExecuteTime": {
     "end_time": "2022-01-24T15:08:25.186027Z",
     "start_time": "2022-01-24T15:08:24.461953Z"
    }
   },
   "outputs": [],
   "source": [
    "work_dir = os.path.expanduser('../../../Data/shapes/')\n",
    "patagonia = os.path.join(work_dir, 'corte.shp')\n",
    "patagonia_grande = geemap.shp_to_ee(patagonia)"
   ]
  },
  {
   "cell_type": "code",
   "execution_count": 4,
   "id": "36b34e2d",
   "metadata": {
    "ExecuteTime": {
     "end_time": "2022-01-24T15:08:25.458582Z",
     "start_time": "2022-01-24T15:08:25.187566Z"
    }
   },
   "outputs": [],
   "source": [
    "base1 = os.path.join(work_dir, 'base_geo.shp')\n",
    "base = geemap.shp_to_ee(base1)"
   ]
  },
  {
   "cell_type": "code",
   "execution_count": 5,
   "id": "5533cb67",
   "metadata": {
    "ExecuteTime": {
     "end_time": "2022-01-24T15:08:26.737030Z",
     "start_time": "2022-01-24T15:08:25.459332Z"
    }
   },
   "outputs": [],
   "source": [
    "base2 = os.path.join(work_dir, 'base2.shp')\n",
    "base2 = geemap.shp_to_ee(base2)\n",
    "base3 = os.path.join(work_dir, 'base3.shp')\n",
    "base3 = geemap.shp_to_ee(base3)\n",
    "base4 = os.path.join(work_dir, 'base4.shp')\n",
    "base4 = geemap.shp_to_ee(base4)\n",
    "base5 = os.path.join(work_dir, 'base5.shp')\n",
    "base5 = geemap.shp_to_ee(base5)\n",
    "base6 = os.path.join(work_dir, 'base6.shp')\n",
    "base6 = geemap.shp_to_ee(base6)"
   ]
  },
  {
   "cell_type": "code",
   "execution_count": 6,
   "id": "1673e634",
   "metadata": {
    "ExecuteTime": {
     "end_time": "2022-01-24T15:08:27.024851Z",
     "start_time": "2022-01-24T15:08:26.737840Z"
    }
   },
   "outputs": [],
   "source": [
    "geometria_base = os.path.join(work_dir, 'mapa_base_dis.shp') \n",
    "geometria_base = geemap.shp_to_ee(geometria_base)"
   ]
  },
  {
   "cell_type": "code",
   "execution_count": 7,
   "id": "fe73a428",
   "metadata": {
    "ExecuteTime": {
     "end_time": "2022-01-24T15:08:27.359108Z",
     "start_time": "2022-01-24T15:08:27.025714Z"
    }
   },
   "outputs": [],
   "source": [
    "geometria_base2 = os.path.join(work_dir, 'area_base2_dis.shp') \n",
    "geometria_base2 = geemap.shp_to_ee(geometria_base2)"
   ]
  },
  {
   "cell_type": "markdown",
   "id": "fa8e2fea",
   "metadata": {},
   "source": [
    "## Colors Bars"
   ]
  },
  {
   "cell_type": "code",
   "execution_count": 8,
   "id": "1efebd11",
   "metadata": {
    "ExecuteTime": {
     "end_time": "2022-01-24T15:08:28.202172Z",
     "start_time": "2022-01-24T15:08:27.359949Z"
    }
   },
   "outputs": [],
   "source": [
    "import geemap.colormaps as cm"
   ]
  },
  {
   "cell_type": "code",
   "execution_count": 9,
   "id": "d159d70f",
   "metadata": {
    "ExecuteTime": {
     "end_time": "2022-01-24T15:08:28.205141Z",
     "start_time": "2022-01-24T15:08:28.203196Z"
    }
   },
   "outputs": [],
   "source": [
    "# cm.palettes.terrain"
   ]
  },
  {
   "cell_type": "code",
   "execution_count": 10,
   "id": "fe999a91",
   "metadata": {
    "ExecuteTime": {
     "end_time": "2022-01-24T15:08:28.210941Z",
     "start_time": "2022-01-24T15:08:28.206821Z"
    }
   },
   "outputs": [],
   "source": [
    "color_ndvi = cm.palettes.ndvi"
   ]
  },
  {
   "cell_type": "code",
   "execution_count": 11,
   "id": "05fb282a",
   "metadata": {
    "ExecuteTime": {
     "end_time": "2022-01-24T15:08:28.215942Z",
     "start_time": "2022-01-24T15:08:28.211963Z"
    }
   },
   "outputs": [],
   "source": [
    "color_ndwi = cm.palettes.ndwi"
   ]
  },
  {
   "cell_type": "code",
   "execution_count": 12,
   "id": "68161910",
   "metadata": {
    "ExecuteTime": {
     "end_time": "2022-01-24T15:08:28.220714Z",
     "start_time": "2022-01-24T15:08:28.216884Z"
    }
   },
   "outputs": [],
   "source": [
    "color_terrain = cm.palettes.terrain"
   ]
  },
  {
   "cell_type": "code",
   "execution_count": 13,
   "id": "8e99245f",
   "metadata": {
    "ExecuteTime": {
     "end_time": "2022-01-24T15:08:28.226225Z",
     "start_time": "2022-01-24T15:08:28.221642Z"
    }
   },
   "outputs": [],
   "source": [
    "color_glaciar = cm.palettes.PuBuGn_r"
   ]
  },
  {
   "cell_type": "code",
   "execution_count": 14,
   "id": "92b8cf41",
   "metadata": {
    "ExecuteTime": {
     "end_time": "2022-01-24T15:08:28.231308Z",
     "start_time": "2022-01-24T15:08:28.226995Z"
    }
   },
   "outputs": [],
   "source": [
    "color_nubes = cm.palettes.inferno"
   ]
  },
  {
   "cell_type": "code",
   "execution_count": 15,
   "id": "39930741",
   "metadata": {
    "ExecuteTime": {
     "end_time": "2022-01-24T15:08:28.236131Z",
     "start_time": "2022-01-24T15:08:28.232191Z"
    }
   },
   "outputs": [],
   "source": [
    "# cm.list_colormaps()"
   ]
  },
  {
   "cell_type": "code",
   "execution_count": 16,
   "id": "0ce61cbe",
   "metadata": {
    "ExecuteTime": {
     "end_time": "2022-01-24T15:08:28.241033Z",
     "start_time": "2022-01-24T15:08:28.237084Z"
    }
   },
   "outputs": [],
   "source": [
    "# cm.plot_colormaps(width=12, height=0.4)"
   ]
  },
  {
   "cell_type": "markdown",
   "id": "11666045",
   "metadata": {},
   "source": [
    "## Funciones"
   ]
  },
  {
   "cell_type": "code",
   "execution_count": 17,
   "id": "166db170",
   "metadata": {
    "ExecuteTime": {
     "end_time": "2022-01-24T15:08:28.246131Z",
     "start_time": "2022-01-24T15:08:28.241878Z"
    }
   },
   "outputs": [],
   "source": [
    "def add_ee_layer(self, ee_image_object, vis_params, name):\n",
    "  map_id_dict = ee.Image(ee_image_object).getMapId(vis_params)\n",
    "  folium.raster_layers.TileLayer(\n",
    "      tiles=map_id_dict['tile_fetcher'].url_format,\n",
    "      attr='Map Data &copy; <a href=\"https://earthengine.google.com/\">Google Earth Engine</a>',\n",
    "      name=name,\n",
    "      overlay=True,\n",
    "      control=True\n",
    "  ).add_to(self)\n",
    "\n",
    "folium.Map.add_ee_layer = add_ee_layer"
   ]
  },
  {
   "cell_type": "code",
   "execution_count": 18,
   "id": "b9e1cdaf",
   "metadata": {
    "ExecuteTime": {
     "end_time": "2022-01-24T15:08:28.251228Z",
     "start_time": "2022-01-24T15:08:28.247128Z"
    }
   },
   "outputs": [],
   "source": [
    "def addNDVI(image): \n",
    "    ndvi = image.normalizedDifference(['B4', 'B3']).rename('B11')\n",
    "    return image.addBands(ndvi)"
   ]
  },
  {
   "cell_type": "code",
   "execution_count": 19,
   "id": "38b0bfd0",
   "metadata": {
    "ExecuteTime": {
     "end_time": "2022-01-24T15:08:28.254223Z",
     "start_time": "2022-01-24T15:08:28.252166Z"
    }
   },
   "outputs": [],
   "source": [
    "def addNDVI7(image): \n",
    "    ndvi = image.normalizedDifference(['B4', 'B3']).rename('NDVI')\n",
    "    return image.addBands(ndvi)"
   ]
  },
  {
   "cell_type": "code",
   "execution_count": 20,
   "id": "ad105a37",
   "metadata": {
    "ExecuteTime": {
     "end_time": "2022-01-24T15:08:28.256482Z",
     "start_time": "2022-01-24T15:08:28.254884Z"
    }
   },
   "outputs": [],
   "source": [
    "def addNDWI(image):\n",
    "    ndwi = image.normalizedDifference(['B2','B4']).rename('NDWI')\n",
    "    return image.addBands(ndwi)"
   ]
  },
  {
   "cell_type": "code",
   "execution_count": 21,
   "id": "afd5a921",
   "metadata": {
    "ExecuteTime": {
     "end_time": "2022-01-24T15:08:28.259500Z",
     "start_time": "2022-01-24T15:08:28.257418Z"
    }
   },
   "outputs": [],
   "source": [
    "def addNDGI(image):\n",
    "    ndgi = image.normalizedDifference(['B2','B3']).rename('NDGI')\n",
    "    return image.addBands(ndgi)"
   ]
  },
  {
   "cell_type": "code",
   "execution_count": 22,
   "id": "786770f8",
   "metadata": {
    "ExecuteTime": {
     "end_time": "2022-01-24T15:08:28.262053Z",
     "start_time": "2022-01-24T15:08:28.260203Z"
    }
   },
   "outputs": [],
   "source": [
    "def addSAVI(image):\n",
    "    savi = image.expression(\n",
    "        '((b4 - b3)/(b4 + b3 + 0.5))*1.5', {\n",
    "            'b3':image.select('B3'),\n",
    "            'b4':image.select('B4')\n",
    "        }) \n",
    "    savi= savi.rename('SAVI')\n",
    "    return image.addBands(savi)"
   ]
  },
  {
   "cell_type": "code",
   "execution_count": 23,
   "id": "cffb72aa",
   "metadata": {
    "ExecuteTime": {
     "end_time": "2022-01-24T15:08:28.264569Z",
     "start_time": "2022-01-24T15:08:28.262883Z"
    }
   },
   "outputs": [],
   "source": [
    "def addNDSI(image):\n",
    "    ndsi = image.normalizedDifference(['B2','B5']).rename('NDSI')\n",
    "    return image.addBands(ndsi)"
   ]
  },
  {
   "cell_type": "code",
   "execution_count": 24,
   "id": "4889cabe",
   "metadata": {
    "ExecuteTime": {
     "end_time": "2022-01-24T15:08:28.267059Z",
     "start_time": "2022-01-24T15:08:28.265379Z"
    }
   },
   "outputs": [],
   "source": [
    "def addDate(image):\n",
    "    img_date = ee.Date(image.date())\n",
    "    img_date = ee.Number.parse(img_date.format('YYYYMM'))\n",
    "    return image.addBands(ee.Image(img_date).rename('date').toInt())"
   ]
  },
  {
   "cell_type": "code",
   "execution_count": 25,
   "id": "11abf688",
   "metadata": {
    "ExecuteTime": {
     "end_time": "2022-01-24T15:08:28.269439Z",
     "start_time": "2022-01-24T15:08:28.267909Z"
    }
   },
   "outputs": [],
   "source": [
    "def Cloud40(image):\n",
    "    scored = ee.Algorithms.Landsat.simpleCloudScore(image)\n",
    "    return image.updateMask(scored.select(['cloud']).lt(40)) "
   ]
  },
  {
   "cell_type": "code",
   "execution_count": 26,
   "id": "3115c210",
   "metadata": {
    "ExecuteTime": {
     "end_time": "2022-01-24T15:08:28.272019Z",
     "start_time": "2022-01-24T15:08:28.270315Z"
    }
   },
   "outputs": [],
   "source": [
    "def Cloud30(image):\n",
    "    scored = ee.Algorithms.Landsat.simpleCloudScore(image)\n",
    "    return image.updateMask(scored.select(['cloud']).lt(30)) "
   ]
  },
  {
   "cell_type": "code",
   "execution_count": 27,
   "id": "f86cf507",
   "metadata": {
    "ExecuteTime": {
     "end_time": "2022-01-24T15:08:28.274688Z",
     "start_time": "2022-01-24T15:08:28.272874Z"
    }
   },
   "outputs": [],
   "source": [
    "def Cloud20(image):\n",
    "    scored = ee.Algorithms.Landsat.simpleCloudScore(image)\n",
    "    return image.updateMask(scored.select(['cloud']).lt(20)) "
   ]
  },
  {
   "cell_type": "code",
   "execution_count": 28,
   "id": "9d288b40",
   "metadata": {
    "ExecuteTime": {
     "end_time": "2022-01-24T15:08:28.278990Z",
     "start_time": "2022-01-24T15:08:28.277275Z"
    }
   },
   "outputs": [],
   "source": [
    "def Cloud10(image):\n",
    "    scored = ee.Algorithms.Landsat.simpleCloudScore(image)\n",
    "    return image.updateMask(scored.select(['cloud']).lt(10))"
   ]
  },
  {
   "cell_type": "code",
   "execution_count": 29,
   "id": "92d6ba1b",
   "metadata": {
    "ExecuteTime": {
     "end_time": "2022-01-24T15:08:28.281575Z",
     "start_time": "2022-01-24T15:08:28.279885Z"
    }
   },
   "outputs": [],
   "source": [
    "def addCloud(image):\n",
    "    nube = ee.Algorithms.Landsat.simpleCloudScore(image)\n",
    "    return image.addBands(ee.Image(nube.select(['cloud'])).rename('nube'))"
   ]
  },
  {
   "cell_type": "code",
   "execution_count": 30,
   "id": "f4a18534",
   "metadata": {
    "ExecuteTime": {
     "end_time": "2022-01-24T15:08:28.285552Z",
     "start_time": "2022-01-24T15:08:28.282465Z"
    }
   },
   "outputs": [],
   "source": [
    "def find_closest(target_image, image_col, days):\n",
    "    \"\"\"Filter images in a collection by date proximity and spatial intersection to a target image.\n",
    "\n",
    "    Args:\n",
    "        target_image: An ee.Image whose observation date is used to find near-date images in\n",
    "          the provided image_col image collection. It must have a 'system:time_start' property.\n",
    "        image_col: An ee.ImageCollection to filter by date proximity and spatial intersection\n",
    "          to the target_image. Each image in the collection must have a 'system:time_start'\n",
    "          property.\n",
    "        days: A number that defines the maximum number of days difference allowed between\n",
    "          the target_image and images in the image_col.\n",
    "\n",
    "    Returns:\n",
    "        An ee.ImageCollection that has been filtered to include those images that are within the\n",
    "          given date proximity to target_image and intersect it spatially.\n",
    "    \"\"\"\n",
    "\n",
    "    # Compute the timespan for N days (in milliseconds).\n",
    "    range = ee.Number(days).multiply(1000 * 60 * 60 * 24)\n",
    "\n",
    "    filter = ee.Filter.And(\n",
    "        ee.Filter.maxDifference(range, 'system:time_start', None, 'system:time_start'),\n",
    "        ee.Filter.intersects('.geo', None, '.geo'))\n",
    "\n",
    "    closest = (ee.Join.saveAll('matches', 'measure')\n",
    "        .apply(ee.ImageCollection([target_image]), image_col, filter))\n",
    "\n",
    "    return ee.ImageCollection(ee.List(closest.first().get('matches')))"
   ]
  },
  {
   "cell_type": "code",
   "execution_count": 31,
   "id": "c9e4c70a",
   "metadata": {
    "ExecuteTime": {
     "end_time": "2022-01-24T15:08:28.287875Z",
     "start_time": "2022-01-24T15:08:28.286244Z"
    }
   },
   "outputs": [],
   "source": [
    "vizParams = {\n",
    "  'bands': ['B5', 'B4', 'B3'],\n",
    "  'min': 0,\n",
    "  'max': 0.5,\n",
    "  'gamma': [0.95, 1.1, 1]\n",
    "}"
   ]
  },
  {
   "cell_type": "code",
   "execution_count": 32,
   "id": "52b4f264",
   "metadata": {
    "ExecuteTime": {
     "end_time": "2022-01-24T15:08:28.290479Z",
     "start_time": "2022-01-24T15:08:28.288845Z"
    }
   },
   "outputs": [],
   "source": [
    "vizParams_m = {\n",
    "  'bands': ['B5', 'B4', 'B3'],\n",
    "  'min': 0,\n",
    "  'max': 0.6,\n",
    "  'gamma': [1, 1, 1]\n",
    "}"
   ]
  },
  {
   "cell_type": "code",
   "execution_count": 33,
   "id": "c5095a1c",
   "metadata": {
    "ExecuteTime": {
     "end_time": "2022-01-24T15:08:28.293175Z",
     "start_time": "2022-01-24T15:08:28.291283Z"
    }
   },
   "outputs": [],
   "source": [
    "vis_nieve = {\n",
    "  'bands': ['B6', 'B4', 'B3'],\n",
    "  'min': 0,\n",
    "  'max': 0.5,\n",
    "  'gamma': [0.95, 1.1, 1]\n",
    "}"
   ]
  },
  {
   "cell_type": "markdown",
   "id": "d9a442fb",
   "metadata": {},
   "source": [
    "## Colecciones"
   ]
  },
  {
   "cell_type": "markdown",
   "id": "6c980301",
   "metadata": {},
   "source": [
    "### 2009"
   ]
  },
  {
   "cell_type": "code",
   "execution_count": 34,
   "id": "53c83f22",
   "metadata": {
    "ExecuteTime": {
     "end_time": "2022-01-24T15:08:28.295608Z",
     "start_time": "2022-01-24T15:08:28.293872Z"
    }
   },
   "outputs": [],
   "source": [
    "start_date = '2008-10-01'\n",
    "end_date = '2009-03-31'\n",
    "\n",
    "l5_2009 = ee.ImageCollection('LANDSAT/LT05/C01/T1_TOA') \\\n",
    "    .filterBounds(patagonia_grande) \\\n",
    "    .filterDate(start_date, end_date)"
   ]
  },
  {
   "cell_type": "code",
   "execution_count": 35,
   "id": "05dbdd99",
   "metadata": {
    "ExecuteTime": {
     "end_time": "2022-01-24T15:08:28.298060Z",
     "start_time": "2022-01-24T15:08:28.296408Z"
    }
   },
   "outputs": [],
   "source": [
    "vizParams = {\n",
    "  'bands': ['B4', 'B3', 'B2'],\n",
    "  'min': 0,\n",
    "  'max': 0.5,\n",
    "  'gamma': [0.95, 1.1, 1]\n",
    "}"
   ]
  },
  {
   "cell_type": "code",
   "execution_count": 36,
   "id": "2c56e896",
   "metadata": {
    "ExecuteTime": {
     "end_time": "2022-01-24T15:08:28.300421Z",
     "start_time": "2022-01-24T15:08:28.298901Z"
    }
   },
   "outputs": [],
   "source": [
    "vis_nieve = {\n",
    "  'bands': ['B5', 'B3', 'B2'],\n",
    "  'min': 0,\n",
    "  'max': 0.5,\n",
    "  'gamma': [0.95, 1.1, 1]\n",
    "}"
   ]
  },
  {
   "cell_type": "code",
   "execution_count": 37,
   "id": "3d08df17",
   "metadata": {
    "ExecuteTime": {
     "end_time": "2022-01-24T15:08:28.305652Z",
     "start_time": "2022-01-24T15:08:28.301380Z"
    }
   },
   "outputs": [],
   "source": [
    "coleccion2009 = l5_2009.map(addNDVI).map(addNDWI).map(addNDGI).map(addSAVI).map(addNDSI).map(addDate).map(addCloud)"
   ]
  },
  {
   "cell_type": "code",
   "execution_count": 38,
   "id": "842248bc",
   "metadata": {
    "ExecuteTime": {
     "end_time": "2022-01-24T15:08:28.308512Z",
     "start_time": "2022-01-24T15:08:28.306536Z"
    }
   },
   "outputs": [],
   "source": [
    "QM_NDVI_2009 = coleccion2009.qualityMosaic('B11') # Normalized difference vegetation Index\n",
    "QM_NDWI_2009 = coleccion2009.qualityMosaic('NDWI') # Normalize difference water index\n",
    "QM_SAVI_2009 = coleccion2009.qualityMosaic('SAVI') # Soil Adjusted Vegetation Index \n",
    "QM_NDGI_2009 = coleccion2009.qualityMosaic('NDGI') # Normalized difference glacier index\n",
    "QM_NDSI_2009 = coleccion2009.qualityMosaic('NDSI') # Normalized difference snow index"
   ]
  },
  {
   "cell_type": "code",
   "execution_count": 39,
   "id": "2ffe439c",
   "metadata": {
    "ExecuteTime": {
     "end_time": "2022-01-24T15:08:32.955250Z",
     "start_time": "2022-01-24T15:08:28.309319Z"
    }
   },
   "outputs": [
    {
     "data": {
      "application/vnd.jupyter.widget-view+json": {
       "model_id": "9779793df2394beca62bfc4e3d641c48",
       "version_major": 2,
       "version_minor": 0
      },
      "text/plain": [
       "Map(center=[-45, -70], controls=(WidgetControl(options=['position', 'transparent_bg'], widget=HBox(children=(T…"
      ]
     },
     "metadata": {},
     "output_type": "display_data"
    }
   ],
   "source": [
    "Map.addLayer(QM_NDVI_2009, vizParams, 'QM de NDVI 2009')\n",
    "Map.addLayer(QM_NDWI_2009, vizParams, 'QM de NDWI 2009')\n",
    "Map.addLayer(QM_SAVI_2009, vizParams, 'QM de SAVI 2009')\n",
    "Map.addLayer(QM_NDGI_2009, vis_nieve, 'QM de NDGI 2009')\n",
    "Map.addLayer(QM_NDSI_2009, vis_nieve, 'QM de NDSI 2009')\n",
    "Map "
   ]
  },
  {
   "cell_type": "code",
   "execution_count": 40,
   "id": "2bfc974d",
   "metadata": {
    "ExecuteTime": {
     "end_time": "2022-01-24T15:08:32.958404Z",
     "start_time": "2022-01-24T15:08:32.955968Z"
    }
   },
   "outputs": [],
   "source": [
    "c2009_sn = coleccion2009.map(Cloud20)\n",
    "NDVI_2009_sn = c2009_sn.qualityMosaic('B11')\n",
    "NDWI_2009_sn = c2009_sn.qualityMosaic('NDWI')\n",
    "SAVI_2009_sn = c2009_sn.qualityMosaic('SAVI')\n",
    "NDGI_2009_sn = c2009_sn.qualityMosaic('NDGI')\n",
    "NDSI_2009_sn = c2009_sn.qualityMosaic('NDSI')"
   ]
  },
  {
   "cell_type": "code",
   "execution_count": 41,
   "id": "a2c9c98a",
   "metadata": {
    "ExecuteTime": {
     "end_time": "2022-01-24T15:08:32.960764Z",
     "start_time": "2022-01-24T15:08:32.959318Z"
    }
   },
   "outputs": [],
   "source": [
    "# Map2.addLayer(NDVI_2009_sn, vizParams, 'QMsn de NDVI 2009')\n",
    "# Map2.addLayer(NDWI_2009_sn, vizParams, 'QMsn de NDWI 2009')\n",
    "# Map2.addLayer(SAVI_2009_sn, vizParams, 'QMsn de SAVI 2009')\n",
    "# Map2.addLayer(NDGI_2009_sn, vis_nieve, 'QMsn de NDGI 2009')\n",
    "# Map2.addLayer(NDSI_2009_sn, vis_nieve, 'QMsn de NDSI 2009')\n",
    "# Map2"
   ]
  },
  {
   "cell_type": "markdown",
   "id": "ccec25b0",
   "metadata": {},
   "source": [
    "### 2008"
   ]
  },
  {
   "cell_type": "code",
   "execution_count": 42,
   "id": "ef53f13a",
   "metadata": {
    "ExecuteTime": {
     "end_time": "2022-01-24T15:08:32.963781Z",
     "start_time": "2022-01-24T15:08:32.961577Z"
    }
   },
   "outputs": [],
   "source": [
    "start_date = '2007-10-01'\n",
    "end_date = '2008-03-31'\n",
    "\n",
    "l5_2008 = ee.ImageCollection('LANDSAT/LT05/C01/T1_TOA') \\\n",
    "    .filterBounds(patagonia_grande) \\\n",
    "    .filterDate(start_date, end_date)"
   ]
  },
  {
   "cell_type": "code",
   "execution_count": 43,
   "id": "015e69de",
   "metadata": {
    "ExecuteTime": {
     "end_time": "2022-01-24T15:08:32.966076Z",
     "start_time": "2022-01-24T15:08:32.964478Z"
    }
   },
   "outputs": [],
   "source": [
    "vizParams = {\n",
    "  'bands': ['B4', 'B3', 'B2'],\n",
    "  'min': 0,\n",
    "  'max': 0.5,\n",
    "  'gamma': [0.95, 1.1, 1]\n",
    "}"
   ]
  },
  {
   "cell_type": "code",
   "execution_count": 44,
   "id": "5621cb6b",
   "metadata": {
    "ExecuteTime": {
     "end_time": "2022-01-24T15:08:32.968659Z",
     "start_time": "2022-01-24T15:08:32.967105Z"
    }
   },
   "outputs": [],
   "source": [
    "vis_nieve = {\n",
    "  'bands': ['B5', 'B3', 'B2'],\n",
    "  'min': 0,\n",
    "  'max': 0.5,\n",
    "  'gamma': [0.95, 1.1, 1]\n",
    "}"
   ]
  },
  {
   "cell_type": "code",
   "execution_count": 45,
   "id": "06a293d6",
   "metadata": {
    "ExecuteTime": {
     "end_time": "2022-01-24T15:08:32.973331Z",
     "start_time": "2022-01-24T15:08:32.969522Z"
    }
   },
   "outputs": [],
   "source": [
    "coleccion2008 = l5_2008.map(addNDVI).map(addNDWI).map(addNDGI).map(addSAVI).map(addNDSI).map(addDate).map(addCloud)"
   ]
  },
  {
   "cell_type": "code",
   "execution_count": 46,
   "id": "f724bb1b",
   "metadata": {
    "ExecuteTime": {
     "end_time": "2022-01-24T15:08:32.976358Z",
     "start_time": "2022-01-24T15:08:32.974189Z"
    }
   },
   "outputs": [],
   "source": [
    "QM_NDVI_2008 = coleccion2008.qualityMosaic('B11') # Normalized difference vegetation Index\n",
    "QM_NDWI_2008 = coleccion2008.qualityMosaic('NDWI') # Normalize difference water index\n",
    "QM_SAVI_2008 = coleccion2008.qualityMosaic('SAVI') # Soil Adjusted Vegetation Index \n",
    "QM_NDGI_2008 = coleccion2008.qualityMosaic('NDGI') # Normalized difference glacier index\n",
    "QM_NDSI_2008 = coleccion2008.qualityMosaic('NDSI') # Normalized difference snow index"
   ]
  },
  {
   "cell_type": "code",
   "execution_count": 47,
   "id": "6c001bbc",
   "metadata": {
    "ExecuteTime": {
     "end_time": "2022-01-24T15:08:36.610133Z",
     "start_time": "2022-01-24T15:08:32.977017Z"
    }
   },
   "outputs": [
    {
     "data": {
      "application/vnd.jupyter.widget-view+json": {
       "model_id": "9779793df2394beca62bfc4e3d641c48",
       "version_major": 2,
       "version_minor": 0
      },
      "text/plain": [
       "Map(center=[-45, -70], controls=(WidgetControl(options=['position', 'transparent_bg'], widget=HBox(children=(T…"
      ]
     },
     "metadata": {},
     "output_type": "display_data"
    }
   ],
   "source": [
    "Map.addLayer(QM_NDVI_2008, vizParams, 'QM de NDVI 2008')\n",
    "Map.addLayer(QM_NDWI_2008, vizParams, 'QM de NDWI 2008')\n",
    "Map.addLayer(QM_SAVI_2008, vizParams, 'QM de SAVI 2008')\n",
    "Map.addLayer(QM_NDGI_2008, vis_nieve, 'QM de NDGI 2008')\n",
    "Map.addLayer(QM_NDSI_2008, vis_nieve, 'QM de NDSI 2008')\n",
    "Map "
   ]
  },
  {
   "cell_type": "code",
   "execution_count": 48,
   "id": "06eebe04",
   "metadata": {
    "ExecuteTime": {
     "end_time": "2022-01-24T15:08:36.613547Z",
     "start_time": "2022-01-24T15:08:36.610930Z"
    }
   },
   "outputs": [],
   "source": [
    "c2008_sn = coleccion2008.map(Cloud20)\n",
    "NDVI_2008_sn = c2008_sn.qualityMosaic('B11')\n",
    "NDWI_2008_sn = c2008_sn.qualityMosaic('NDWI')\n",
    "SAVI_2008_sn = c2008_sn.qualityMosaic('SAVI')\n",
    "NDGI_2008_sn = c2008_sn.qualityMosaic('NDGI')\n",
    "NDSI_2008_sn = c2008_sn.qualityMosaic('NDSI')"
   ]
  },
  {
   "cell_type": "code",
   "execution_count": 49,
   "id": "7121bf75",
   "metadata": {
    "ExecuteTime": {
     "end_time": "2022-01-24T15:08:36.617709Z",
     "start_time": "2022-01-24T15:08:36.616300Z"
    }
   },
   "outputs": [],
   "source": [
    "# Map2.addLayer(NDVI_2008_sn, vizParams, 'QMsn de NDVI 2008')\n",
    "# Map2.addLayer(NDWI_2008_sn, vizParams, 'QMsn de NDWI 2008')\n",
    "# Map2.addLayer(SAVI_2008_sn, vizParams, 'QMsn de SAVI 2008')\n",
    "# Map2.addLayer(NDGI_2008_sn, vis_nieve, 'QMsn de NDGI 2008')\n",
    "# Map2.addLayer(NDSI_2008_sn, vis_nieve, 'QMsn de NDSI 2008')\n",
    "# Map2"
   ]
  },
  {
   "cell_type": "markdown",
   "id": "b1fff37f",
   "metadata": {},
   "source": [
    "### 2007"
   ]
  },
  {
   "cell_type": "code",
   "execution_count": 50,
   "id": "ed8a2ed2",
   "metadata": {
    "ExecuteTime": {
     "end_time": "2022-01-24T15:08:36.620314Z",
     "start_time": "2022-01-24T15:08:36.618609Z"
    }
   },
   "outputs": [],
   "source": [
    "start_date = '2006-10-01'\n",
    "end_date = '2007-03-31'\n",
    "\n",
    "l5_2007 = ee.ImageCollection('LANDSAT/LT05/C01/T1_TOA') \\\n",
    "    .filterBounds(patagonia_grande) \\\n",
    "    .filterDate(start_date, end_date)"
   ]
  },
  {
   "cell_type": "code",
   "execution_count": 51,
   "id": "ac158dd0",
   "metadata": {
    "ExecuteTime": {
     "end_time": "2022-01-24T15:08:36.624677Z",
     "start_time": "2022-01-24T15:08:36.621160Z"
    }
   },
   "outputs": [],
   "source": [
    "coleccion2007 = l5_2007.map(addNDVI).map(addNDWI).map(addNDGI).map(addSAVI).map(addNDSI).map(addDate).map(addCloud)"
   ]
  },
  {
   "cell_type": "code",
   "execution_count": 52,
   "id": "531b33cd",
   "metadata": {
    "ExecuteTime": {
     "end_time": "2022-01-24T15:08:36.627350Z",
     "start_time": "2022-01-24T15:08:36.625594Z"
    }
   },
   "outputs": [],
   "source": [
    "QM_NDVI_2007 = coleccion2007.qualityMosaic('B11') # Normalized difference vegetation Index\n",
    "QM_NDWI_2007 = coleccion2007.qualityMosaic('NDWI') # Normalize difference water index\n",
    "QM_SAVI_2007 = coleccion2007.qualityMosaic('SAVI') # Soil Adjusted Vegetation Index \n",
    "QM_NDGI_2007 = coleccion2007.qualityMosaic('NDGI') # Normalized difference glacier index\n",
    "QM_NDSI_2007 = coleccion2007.qualityMosaic('NDSI') # Normalized difference snow index"
   ]
  },
  {
   "cell_type": "code",
   "execution_count": 53,
   "id": "22b9a628",
   "metadata": {
    "ExecuteTime": {
     "end_time": "2022-01-24T15:08:41.365429Z",
     "start_time": "2022-01-24T15:08:36.628235Z"
    }
   },
   "outputs": [],
   "source": [
    "Map.addLayer(QM_NDVI_2007, vizParams, 'QM de NDVI 2007')\n",
    "Map.addLayer(QM_NDWI_2007, vizParams, 'QM de NDWI 2007')\n",
    "Map.addLayer(QM_SAVI_2007, vizParams, 'QM de SAVI 2007')\n",
    "Map.addLayer(QM_NDGI_2007, vis_nieve, 'QM de NDGI 2007')\n",
    "Map.addLayer(QM_NDSI_2007, vis_nieve, 'QM de NDSI 2007')\n",
    "# Map3"
   ]
  },
  {
   "cell_type": "code",
   "execution_count": 54,
   "id": "37413530",
   "metadata": {
    "ExecuteTime": {
     "end_time": "2022-01-24T15:08:41.368490Z",
     "start_time": "2022-01-24T15:08:41.366174Z"
    }
   },
   "outputs": [],
   "source": [
    "c2007_sn = coleccion2007.map(Cloud20)\n",
    "NDVI_2007_sn = c2007_sn.qualityMosaic('B11')\n",
    "NDWI_2007_sn = c2007_sn.qualityMosaic('NDWI')\n",
    "SAVI_2007_sn = c2007_sn.qualityMosaic('SAVI')\n",
    "NDGI_2007_sn = c2007_sn.qualityMosaic('NDGI')\n",
    "NDSI_2007_sn = c2007_sn.qualityMosaic('NDSI')"
   ]
  },
  {
   "cell_type": "code",
   "execution_count": 55,
   "id": "ee1a2de2",
   "metadata": {
    "ExecuteTime": {
     "end_time": "2022-01-24T15:08:46.116043Z",
     "start_time": "2022-01-24T15:08:41.369456Z"
    }
   },
   "outputs": [
    {
     "data": {
      "application/vnd.jupyter.widget-view+json": {
       "model_id": "88f5f0f3a59b491dad4fe22ca6c2156f",
       "version_major": 2,
       "version_minor": 0
      },
      "text/plain": [
       "Map(center=[-45, -70], controls=(WidgetControl(options=['position', 'transparent_bg'], widget=HBox(children=(T…"
      ]
     },
     "metadata": {},
     "output_type": "display_data"
    }
   ],
   "source": [
    "Map2.addLayer(NDVI_2007_sn, vizParams, 'QMsn de NDVI 2007')\n",
    "Map2.addLayer(NDWI_2007_sn, vizParams, 'QMsn de NDWI 2007')\n",
    "Map2.addLayer(SAVI_2007_sn, vizParams, 'QMsn de SAVI 2007')\n",
    "Map2.addLayer(NDGI_2007_sn, vis_nieve, 'QMsn de NDGI 2007')\n",
    "Map2.addLayer(NDSI_2007_sn, vis_nieve, 'QMsn de NDSI 2007')\n",
    "Map2"
   ]
  },
  {
   "cell_type": "markdown",
   "id": "d9e7e175",
   "metadata": {},
   "source": [
    "### 2006"
   ]
  },
  {
   "cell_type": "code",
   "execution_count": 56,
   "id": "80911c97",
   "metadata": {
    "ExecuteTime": {
     "end_time": "2022-01-24T15:08:46.118631Z",
     "start_time": "2022-01-24T15:08:46.116787Z"
    }
   },
   "outputs": [],
   "source": [
    "start_date = '2005-10-01'\n",
    "end_date = '2006-03-31'\n",
    "\n",
    "l5_2006 = ee.ImageCollection('LANDSAT/LT05/C01/T1_TOA') \\\n",
    "    .filterBounds(patagonia_grande) \\\n",
    "    .filterDate(start_date, end_date)"
   ]
  },
  {
   "cell_type": "code",
   "execution_count": 57,
   "id": "596d9609",
   "metadata": {
    "ExecuteTime": {
     "end_time": "2022-01-24T15:08:46.123633Z",
     "start_time": "2022-01-24T15:08:46.119327Z"
    }
   },
   "outputs": [],
   "source": [
    "coleccion2006 = l5_2006.map(addNDVI).map(addNDWI).map(addNDGI).map(addSAVI).map(addNDSI).map(addDate).map(addCloud)"
   ]
  },
  {
   "cell_type": "code",
   "execution_count": 58,
   "id": "67b699eb",
   "metadata": {
    "ExecuteTime": {
     "end_time": "2022-01-24T15:08:46.126481Z",
     "start_time": "2022-01-24T15:08:46.124380Z"
    }
   },
   "outputs": [],
   "source": [
    "QM_NDVI_2006 = coleccion2006.qualityMosaic('B11') # Normalized difference vegetation Index\n",
    "QM_NDWI_2006 = coleccion2006.qualityMosaic('NDWI') # Normalize difference water index\n",
    "QM_SAVI_2006 = coleccion2006.qualityMosaic('SAVI') # Soil Adjusted Vegetation Index \n",
    "QM_NDGI_2006 = coleccion2006.qualityMosaic('NDGI') # Normalized difference glacier index\n",
    "QM_NDSI_2006 = coleccion2006.qualityMosaic('NDSI') # Normalized difference snow index"
   ]
  },
  {
   "cell_type": "code",
   "execution_count": 59,
   "id": "2698dd26",
   "metadata": {
    "ExecuteTime": {
     "end_time": "2022-01-24T15:08:49.884244Z",
     "start_time": "2022-01-24T15:08:46.127253Z"
    }
   },
   "outputs": [],
   "source": [
    "Map3.addLayer(QM_NDVI_2006, vizParams, 'QM de NDVI 2006')\n",
    "Map3.addLayer(QM_NDWI_2006, vizParams, 'QM de NDWI 2006')\n",
    "Map3.addLayer(QM_SAVI_2006, vizParams, 'QM de SAVI 2006')\n",
    "Map3.addLayer(QM_NDGI_2006, vis_nieve, 'QM de NDGI 2006')\n",
    "Map3.addLayer(QM_NDSI_2006, vis_nieve, 'QM de NDSI 2006')\n",
    "# Map3"
   ]
  },
  {
   "cell_type": "code",
   "execution_count": 60,
   "id": "ff28e9e5",
   "metadata": {
    "ExecuteTime": {
     "end_time": "2022-01-24T15:08:49.887316Z",
     "start_time": "2022-01-24T15:08:49.885045Z"
    }
   },
   "outputs": [],
   "source": [
    "c2006_sn = coleccion2006.map(Cloud20)\n",
    "NDVI_2006_sn = c2006_sn.qualityMosaic('B11')\n",
    "NDWI_2006_sn = c2006_sn.qualityMosaic('NDWI')\n",
    "SAVI_2006_sn = c2006_sn.qualityMosaic('SAVI')\n",
    "NDGI_2006_sn = c2006_sn.qualityMosaic('NDGI')\n",
    "NDSI_2006_sn = c2006_sn.qualityMosaic('NDSI')"
   ]
  },
  {
   "cell_type": "code",
   "execution_count": 61,
   "id": "56dedb0c",
   "metadata": {
    "ExecuteTime": {
     "end_time": "2022-01-24T15:08:53.697372Z",
     "start_time": "2022-01-24T15:08:49.888046Z"
    }
   },
   "outputs": [
    {
     "data": {
      "application/vnd.jupyter.widget-view+json": {
       "model_id": "9ed3ad496b644f4bb14bf8886ed1327c",
       "version_major": 2,
       "version_minor": 0
      },
      "text/plain": [
       "Map(center=[-45, -70], controls=(WidgetControl(options=['position', 'transparent_bg'], widget=HBox(children=(T…"
      ]
     },
     "metadata": {},
     "output_type": "display_data"
    }
   ],
   "source": [
    "Map4.addLayer(NDVI_2006_sn, vizParams, 'QMsn de NDVI 2006')\n",
    "Map4.addLayer(NDWI_2006_sn, vizParams, 'QMsn de NDWI 2006')\n",
    "Map4.addLayer(SAVI_2006_sn, vizParams, 'QMsn de SAVI 2006')\n",
    "Map4.addLayer(NDGI_2006_sn, vis_nieve, 'QMsn de NDGI 2006')\n",
    "Map4.addLayer(NDSI_2006_sn, vis_nieve, 'QMsn de NDSI 2006')\n",
    "Map4"
   ]
  },
  {
   "cell_type": "markdown",
   "id": "840d00c3",
   "metadata": {},
   "source": [
    "### 2005"
   ]
  },
  {
   "cell_type": "code",
   "execution_count": 62,
   "id": "8f97e666",
   "metadata": {
    "ExecuteTime": {
     "end_time": "2022-01-24T15:08:53.699946Z",
     "start_time": "2022-01-24T15:08:53.698083Z"
    }
   },
   "outputs": [],
   "source": [
    "start_date = '2004-10-01'\n",
    "end_date = '2005-03-31'\n",
    "\n",
    "l5_2005 = ee.ImageCollection('LANDSAT/LT05/C01/T1_TOA') \\\n",
    "    .filterBounds(patagonia_grande) \\\n",
    "    .filterDate(start_date, end_date)"
   ]
  },
  {
   "cell_type": "code",
   "execution_count": 63,
   "id": "933551b1",
   "metadata": {
    "ExecuteTime": {
     "end_time": "2022-01-24T15:08:53.705060Z",
     "start_time": "2022-01-24T15:08:53.700635Z"
    }
   },
   "outputs": [],
   "source": [
    "coleccion2005 = l5_2005.map(addNDVI).map(addNDWI).map(addNDGI).map(addSAVI).map(addNDSI).map(addDate).map(addCloud)"
   ]
  },
  {
   "cell_type": "code",
   "execution_count": 64,
   "id": "b17be12d",
   "metadata": {
    "ExecuteTime": {
     "end_time": "2022-01-24T15:08:53.708472Z",
     "start_time": "2022-01-24T15:08:53.705967Z"
    }
   },
   "outputs": [],
   "source": [
    "QM_NDVI_2005 = coleccion2005.qualityMosaic('B11') # Normalized difference vegetation Index\n",
    "QM_NDWI_2005 = coleccion2005.qualityMosaic('NDWI') # Normalize difference water index\n",
    "QM_SAVI_2005 = coleccion2005.qualityMosaic('SAVI') # Soil Adjusted Vegetation Index \n",
    "QM_NDGI_2005 = coleccion2005.qualityMosaic('NDGI') # Normalized difference glacier index\n",
    "QM_NDSI_2005 = coleccion2005.qualityMosaic('NDSI') # Normalized difference snow index"
   ]
  },
  {
   "cell_type": "code",
   "execution_count": 65,
   "id": "6ab37322",
   "metadata": {
    "ExecuteTime": {
     "end_time": "2022-01-24T15:08:58.128429Z",
     "start_time": "2022-01-24T15:08:53.709395Z"
    }
   },
   "outputs": [],
   "source": [
    "Map3.addLayer(QM_NDVI_2005, vizParams, 'QM de NDVI 2005')\n",
    "Map3.addLayer(QM_NDWI_2005, vizParams, 'QM de NDWI 2005')\n",
    "Map3.addLayer(QM_SAVI_2005, vizParams, 'QM de SAVI 2005')\n",
    "Map3.addLayer(QM_NDGI_2005, vis_nieve, 'QM de NDGI 2005')\n",
    "Map3.addLayer(QM_NDSI_2005, vis_nieve, 'QM de NDSI 2005')\n",
    "# Map3"
   ]
  },
  {
   "cell_type": "code",
   "execution_count": 66,
   "id": "30b437d8",
   "metadata": {
    "ExecuteTime": {
     "end_time": "2022-01-24T15:08:58.131501Z",
     "start_time": "2022-01-24T15:08:58.129144Z"
    }
   },
   "outputs": [],
   "source": [
    "c2005_sn = coleccion2005.map(Cloud20)\n",
    "NDVI_2005_sn = c2005_sn.qualityMosaic('B11')\n",
    "NDWI_2005_sn = c2005_sn.qualityMosaic('NDWI')\n",
    "SAVI_2005_sn = c2005_sn.qualityMosaic('SAVI')\n",
    "NDGI_2005_sn = c2005_sn.qualityMosaic('NDGI')\n",
    "NDSI_2005_sn = c2005_sn.qualityMosaic('NDSI')"
   ]
  },
  {
   "cell_type": "code",
   "execution_count": 67,
   "id": "183da129",
   "metadata": {
    "ExecuteTime": {
     "end_time": "2022-01-24T15:09:04.078414Z",
     "start_time": "2022-01-24T15:08:58.132213Z"
    }
   },
   "outputs": [
    {
     "data": {
      "application/vnd.jupyter.widget-view+json": {
       "model_id": "9ed3ad496b644f4bb14bf8886ed1327c",
       "version_major": 2,
       "version_minor": 0
      },
      "text/plain": [
       "Map(center=[-45, -70], controls=(WidgetControl(options=['position', 'transparent_bg'], widget=HBox(children=(T…"
      ]
     },
     "metadata": {},
     "output_type": "display_data"
    }
   ],
   "source": [
    "Map4.addLayer(NDVI_2005_sn, vizParams, 'QMsn de NDVI 2005')\n",
    "Map4.addLayer(NDWI_2005_sn, vizParams, 'QMsn de NDWI 2005')\n",
    "Map4.addLayer(SAVI_2005_sn, vizParams, 'QMsn de SAVI 2005')\n",
    "Map4.addLayer(NDGI_2005_sn, vis_nieve, 'QMsn de NDGI 2005')\n",
    "Map4.addLayer(NDSI_2005_sn, vis_nieve, 'QMsn de NDSI 2005')\n",
    "Map4"
   ]
  },
  {
   "cell_type": "markdown",
   "id": "24141155",
   "metadata": {},
   "source": [
    "### 2009 L7"
   ]
  },
  {
   "cell_type": "code",
   "execution_count": 68,
   "id": "546ae4bd",
   "metadata": {
    "ExecuteTime": {
     "end_time": "2022-01-24T15:09:04.080866Z",
     "start_time": "2022-01-24T15:09:04.079130Z"
    }
   },
   "outputs": [],
   "source": [
    "start_date = '2008-10-01'\n",
    "end_date = '2009-03-31'\n",
    "\n",
    "l7_2009 = ee.ImageCollection('LANDSAT/LE07/C01/T1_TOA') \\\n",
    "    .filterBounds(patagonia_grande) \\\n",
    "    .filterDate(start_date, end_date)"
   ]
  },
  {
   "cell_type": "code",
   "execution_count": 69,
   "id": "671d83f5",
   "metadata": {
    "ExecuteTime": {
     "end_time": "2022-01-24T15:09:04.085757Z",
     "start_time": "2022-01-24T15:09:04.082088Z"
    }
   },
   "outputs": [],
   "source": [
    "coleccion_l7_2009 = l7_2009.map(addNDVI7).map(addNDWI).map(addNDGI).map(addSAVI).map(addNDSI).map(addDate).map(addCloud)"
   ]
  },
  {
   "cell_type": "code",
   "execution_count": 70,
   "id": "868510a8",
   "metadata": {
    "ExecuteTime": {
     "end_time": "2022-01-24T15:09:04.088057Z",
     "start_time": "2022-01-24T15:09:04.086617Z"
    }
   },
   "outputs": [],
   "source": [
    "coleccion_l7_2009 = coleccion_l7_2009.set('SENSOR_ID', 'OLI_TIRS')"
   ]
  },
  {
   "cell_type": "code",
   "execution_count": 71,
   "id": "f2a33ba2",
   "metadata": {
    "ExecuteTime": {
     "end_time": "2022-01-24T15:09:04.090918Z",
     "start_time": "2022-01-24T15:09:04.089100Z"
    }
   },
   "outputs": [],
   "source": [
    "QM_NDVI_2009_l7 = coleccion_l7_2009.qualityMosaic('NDVI') # Normalized difference vegetation Index\n",
    "QM_NDWI_2009_l7 = coleccion_l7_2009.qualityMosaic('NDWI') # Normalize difference water index\n",
    "QM_SAVI_2009_l7 = coleccion_l7_2009.qualityMosaic('SAVI') # Soil Adjusted Vegetation Index \n",
    "QM_NDGI_2009_l7 = coleccion_l7_2009.qualityMosaic('NDGI') # Normalized difference glacier index\n",
    "QM_NDSI_2009_l7 = coleccion_l7_2009.qualityMosaic('NDSI') # Normalized difference snow index"
   ]
  },
  {
   "cell_type": "code",
   "execution_count": 72,
   "id": "370670f2",
   "metadata": {
    "ExecuteTime": {
     "end_time": "2022-01-24T15:09:10.677367Z",
     "start_time": "2022-01-24T15:09:04.091786Z"
    }
   },
   "outputs": [],
   "source": [
    "Map5.addLayer(QM_NDVI_2009_l7, vizParams, 'QM de NDVI 2009_l7')\n",
    "Map5.addLayer(QM_NDWI_2009_l7, vizParams, 'QM de NDWI 2009_l7')\n",
    "Map5.addLayer(QM_SAVI_2009_l7, vizParams, 'QM de SAVI 2009_l7')\n",
    "Map5.addLayer(QM_NDGI_2009_l7, vis_nieve, 'QM de NDGI 2009_l7')\n",
    "Map5.addLayer(QM_NDSI_2009_l7, vis_nieve, 'QM de NDSI 2009_l7')\n",
    "# Map5"
   ]
  },
  {
   "cell_type": "code",
   "execution_count": 73,
   "id": "e0d06d58",
   "metadata": {
    "ExecuteTime": {
     "end_time": "2022-01-24T15:09:10.680501Z",
     "start_time": "2022-01-24T15:09:10.678282Z"
    }
   },
   "outputs": [],
   "source": [
    "c2009_l7_sn = coleccion_l7_2009.map(Cloud20)\n",
    "NDVI_2009_l7_sn = c2009_l7_sn.qualityMosaic('NDVI')\n",
    "NDWI_2009_l7_sn = c2009_l7_sn.qualityMosaic('NDWI')\n",
    "SAVI_2009_l7_sn = c2009_l7_sn.qualityMosaic('SAVI')\n",
    "NDGI_2009_l7_sn = c2009_l7_sn.qualityMosaic('NDGI')\n",
    "NDSI_2009_l7_sn = c2009_l7_sn.qualityMosaic('NDSI')"
   ]
  },
  {
   "cell_type": "code",
   "execution_count": 74,
   "id": "a908e3c7",
   "metadata": {
    "ExecuteTime": {
     "end_time": "2022-01-24T15:09:16.724655Z",
     "start_time": "2022-01-24T15:09:10.681496Z"
    }
   },
   "outputs": [
    {
     "data": {
      "application/vnd.jupyter.widget-view+json": {
       "model_id": "12b18055a6f14134aa417ad41bedf199",
       "version_major": 2,
       "version_minor": 0
      },
      "text/plain": [
       "Map(center=[-45, -70], controls=(WidgetControl(options=['position', 'transparent_bg'], widget=HBox(children=(T…"
      ]
     },
     "metadata": {},
     "output_type": "display_data"
    }
   ],
   "source": [
    "Map6.addLayer(NDVI_2009_l7_sn, vizParams, 'QMsn de NDVI 2009_l7')\n",
    "Map6.addLayer(NDWI_2009_l7_sn, vizParams, 'QMsn de NDWI 2009_l7')\n",
    "Map6.addLayer(SAVI_2009_l7_sn, vizParams, 'QMsn de SAVI 2009_l7')\n",
    "Map6.addLayer(NDGI_2009_l7_sn, vis_nieve, 'QMsn de NDGI 2009_l7')\n",
    "Map6.addLayer(NDSI_2009_l7_sn, vis_nieve, 'QMsn de NDSI 2009_l7')\n",
    "Map6"
   ]
  },
  {
   "cell_type": "markdown",
   "id": "19f59336",
   "metadata": {},
   "source": [
    "### 2008 L7"
   ]
  },
  {
   "cell_type": "code",
   "execution_count": 75,
   "id": "2d8f44b8",
   "metadata": {
    "ExecuteTime": {
     "end_time": "2022-01-24T15:09:16.727144Z",
     "start_time": "2022-01-24T15:09:16.725394Z"
    }
   },
   "outputs": [],
   "source": [
    "start_date = '2007-10-01'\n",
    "end_date = '2008-03-31'\n",
    "\n",
    "l7_2008 = ee.ImageCollection('LANDSAT/LE07/C01/T1_TOA') \\\n",
    "    .filterBounds(patagonia_grande) \\\n",
    "    .filterDate(start_date, end_date)"
   ]
  },
  {
   "cell_type": "code",
   "execution_count": 76,
   "id": "e5f94824",
   "metadata": {
    "ExecuteTime": {
     "end_time": "2022-01-24T15:09:16.731771Z",
     "start_time": "2022-01-24T15:09:16.727787Z"
    }
   },
   "outputs": [],
   "source": [
    "coleccion_l7_2008 = l7_2008.map(addNDVI7).map(addNDWI).map(addNDGI).map(addSAVI).map(addNDSI).map(addDate).map(addCloud)"
   ]
  },
  {
   "cell_type": "code",
   "execution_count": 77,
   "id": "ab3ed17f",
   "metadata": {
    "ExecuteTime": {
     "end_time": "2022-01-24T15:09:16.734468Z",
     "start_time": "2022-01-24T15:09:16.732681Z"
    }
   },
   "outputs": [],
   "source": [
    "coleccion_l7_2008 = coleccion_l7_2008.set('SENSOR_ID', 'OLI_TIRS')"
   ]
  },
  {
   "cell_type": "code",
   "execution_count": 78,
   "id": "452d3007",
   "metadata": {
    "ExecuteTime": {
     "end_time": "2022-01-24T15:09:16.737140Z",
     "start_time": "2022-01-24T15:09:16.735162Z"
    }
   },
   "outputs": [],
   "source": [
    "QM_NDVI_2008_l7 = coleccion_l7_2008.qualityMosaic('NDVI') # Normalized difference vegetation Index\n",
    "QM_NDWI_2008_l7 = coleccion_l7_2008.qualityMosaic('NDWI') # Normalize difference water index\n",
    "QM_SAVI_2008_l7 = coleccion_l7_2008.qualityMosaic('SAVI') # Soil Adjusted Vegetation Index \n",
    "QM_NDGI_2008_l7 = coleccion_l7_2008.qualityMosaic('NDGI') # Normalized difference glacier index\n",
    "QM_NDSI_2008_l7 = coleccion_l7_2008.qualityMosaic('NDSI') # Normalized difference snow index"
   ]
  },
  {
   "cell_type": "code",
   "execution_count": 79,
   "id": "cf1389b6",
   "metadata": {
    "ExecuteTime": {
     "end_time": "2022-01-24T15:09:21.999622Z",
     "start_time": "2022-01-24T15:09:16.737993Z"
    }
   },
   "outputs": [
    {
     "data": {
      "application/vnd.jupyter.widget-view+json": {
       "model_id": "b8db981bc6bb43178bf6c673f5b8de3d",
       "version_major": 2,
       "version_minor": 0
      },
      "text/plain": [
       "Map(center=[-45, -70], controls=(WidgetControl(options=['position', 'transparent_bg'], widget=HBox(children=(T…"
      ]
     },
     "metadata": {},
     "output_type": "display_data"
    }
   ],
   "source": [
    "Map5.addLayer(QM_NDVI_2008_l7, vizParams, 'QM de NDVI 2008_l7')\n",
    "Map5.addLayer(QM_NDWI_2008_l7, vizParams, 'QM de NDWI 2008_l7')\n",
    "Map5.addLayer(QM_SAVI_2008_l7, vizParams, 'QM de SAVI 2008_l7')\n",
    "Map5.addLayer(QM_NDGI_2008_l7, vis_nieve, 'QM de NDGI 2008_l7')\n",
    "Map5.addLayer(QM_NDSI_2008_l7, vis_nieve, 'QM de NDSI 2008_l7')\n",
    "Map5"
   ]
  },
  {
   "cell_type": "code",
   "execution_count": 80,
   "id": "6a7d5ff4",
   "metadata": {
    "ExecuteTime": {
     "end_time": "2022-01-24T15:09:22.002697Z",
     "start_time": "2022-01-24T15:09:22.000329Z"
    }
   },
   "outputs": [],
   "source": [
    "c2008_l7_sn = coleccion_l7_2008.map(Cloud20)\n",
    "NDVI_2008_l7_sn = c2008_l7_sn.qualityMosaic('NDVI')\n",
    "NDWI_2008_l7_sn = c2008_l7_sn.qualityMosaic('NDWI')\n",
    "SAVI_2008_l7_sn = c2008_l7_sn.qualityMosaic('SAVI')\n",
    "NDGI_2008_l7_sn = c2008_l7_sn.qualityMosaic('NDGI')\n",
    "NDSI_2008_l7_sn = c2008_l7_sn.qualityMosaic('NDSI')"
   ]
  },
  {
   "cell_type": "code",
   "execution_count": 81,
   "id": "ec851683",
   "metadata": {
    "ExecuteTime": {
     "end_time": "2022-01-24T15:09:27.735161Z",
     "start_time": "2022-01-24T15:09:22.003326Z"
    }
   },
   "outputs": [
    {
     "data": {
      "application/vnd.jupyter.widget-view+json": {
       "model_id": "12b18055a6f14134aa417ad41bedf199",
       "version_major": 2,
       "version_minor": 0
      },
      "text/plain": [
       "Map(center=[-45, -70], controls=(WidgetControl(options=['position', 'transparent_bg'], widget=HBox(children=(T…"
      ]
     },
     "metadata": {},
     "output_type": "display_data"
    }
   ],
   "source": [
    "Map6.addLayer(NDVI_2008_l7_sn, vizParams, 'QMsn de NDVI 2008_l7')\n",
    "Map6.addLayer(NDWI_2008_l7_sn, vizParams, 'QMsn de NDWI 2008_l7')\n",
    "Map6.addLayer(SAVI_2008_l7_sn, vizParams, 'QMsn de SAVI 2008_l7')\n",
    "Map6.addLayer(NDGI_2008_l7_sn, vis_nieve, 'QMsn de NDGI 2008_l7')\n",
    "Map6.addLayer(NDSI_2008_l7_sn, vis_nieve, 'QMsn de NDSI 2008_l7')\n",
    "Map6"
   ]
  },
  {
   "cell_type": "markdown",
   "id": "4f69c36f",
   "metadata": {},
   "source": [
    "### 2007 L7"
   ]
  },
  {
   "cell_type": "code",
   "execution_count": 82,
   "id": "a817f842",
   "metadata": {
    "ExecuteTime": {
     "end_time": "2022-01-24T15:09:27.743509Z",
     "start_time": "2022-01-24T15:09:27.740813Z"
    }
   },
   "outputs": [],
   "source": [
    "start_date = '2006-10-01'\n",
    "end_date = '2007-03-31'\n",
    "\n",
    "l7_2007 = ee.ImageCollection('LANDSAT/LE07/C01/T1_TOA') \\\n",
    "    .filterBounds(patagonia_grande) \\\n",
    "    .filterDate(start_date, end_date)"
   ]
  },
  {
   "cell_type": "code",
   "execution_count": 83,
   "id": "815566d1",
   "metadata": {
    "ExecuteTime": {
     "end_time": "2022-01-24T15:09:27.748223Z",
     "start_time": "2022-01-24T15:09:27.744487Z"
    }
   },
   "outputs": [],
   "source": [
    "coleccion_l7_2007 = l7_2007.map(addNDVI7).map(addNDWI).map(addNDGI).map(addSAVI).map(addNDSI).map(addDate).map(addCloud)"
   ]
  },
  {
   "cell_type": "code",
   "execution_count": 84,
   "id": "33ff1e34",
   "metadata": {
    "ExecuteTime": {
     "end_time": "2022-01-24T15:09:27.751039Z",
     "start_time": "2022-01-24T15:09:27.749112Z"
    }
   },
   "outputs": [],
   "source": [
    "QM_NDVI_2007_l7 = coleccion_l7_2007.qualityMosaic('NDVI') # Normalized difference vegetation Index\n",
    "QM_NDWI_2007_l7 = coleccion_l7_2007.qualityMosaic('NDWI') # Normalize difference water index\n",
    "QM_SAVI_2007_l7 = coleccion_l7_2007.qualityMosaic('SAVI') # Soil Adjusted Vegetation Index \n",
    "QM_NDGI_2007_l7 = coleccion_l7_2007.qualityMosaic('NDGI') # Normalized difference glacier index\n",
    "QM_NDSI_2007_l7 = coleccion_l7_2007.qualityMosaic('NDSI') # Normalized difference snow index"
   ]
  },
  {
   "cell_type": "code",
   "execution_count": 85,
   "id": "1e28dffd",
   "metadata": {
    "ExecuteTime": {
     "end_time": "2022-01-24T15:09:33.747393Z",
     "start_time": "2022-01-24T15:09:27.751914Z"
    }
   },
   "outputs": [],
   "source": [
    "Map5.addLayer(QM_NDVI_2007_l7, vizParams, 'QM de NDVI 2007_l7')\n",
    "Map5.addLayer(QM_NDWI_2007_l7, vizParams, 'QM de NDWI 2007_l7')\n",
    "Map5.addLayer(QM_SAVI_2007_l7, vizParams, 'QM de SAVI 2007_l7')\n",
    "Map5.addLayer(QM_NDGI_2007_l7, vis_nieve, 'QM de NDGI 2007_l7')\n",
    "Map5.addLayer(QM_NDSI_2007_l7, vis_nieve, 'QM de NDSI 2007_l7')\n",
    "# Map5"
   ]
  },
  {
   "cell_type": "code",
   "execution_count": 86,
   "id": "2f07d694",
   "metadata": {
    "ExecuteTime": {
     "end_time": "2022-01-24T15:09:33.750366Z",
     "start_time": "2022-01-24T15:09:33.748120Z"
    }
   },
   "outputs": [],
   "source": [
    "c2007_l7_sn = coleccion_l7_2007.map(Cloud20)\n",
    "NDVI_2007_l7_sn = c2007_l7_sn.qualityMosaic('NDVI')\n",
    "NDWI_2007_l7_sn = c2007_l7_sn.qualityMosaic('NDWI')\n",
    "SAVI_2007_l7_sn = c2007_l7_sn.qualityMosaic('SAVI')\n",
    "NDGI_2007_l7_sn = c2007_l7_sn.qualityMosaic('NDGI')\n",
    "NDSI_2007_l7_sn = c2007_l7_sn.qualityMosaic('NDSI')"
   ]
  },
  {
   "cell_type": "code",
   "execution_count": 87,
   "id": "0e26e3a5",
   "metadata": {
    "ExecuteTime": {
     "end_time": "2022-01-24T15:09:38.909930Z",
     "start_time": "2022-01-24T15:09:33.751243Z"
    }
   },
   "outputs": [
    {
     "data": {
      "application/vnd.jupyter.widget-view+json": {
       "model_id": "12b18055a6f14134aa417ad41bedf199",
       "version_major": 2,
       "version_minor": 0
      },
      "text/plain": [
       "Map(center=[-45, -70], controls=(WidgetControl(options=['position', 'transparent_bg'], widget=HBox(children=(T…"
      ]
     },
     "metadata": {},
     "output_type": "display_data"
    }
   ],
   "source": [
    "Map6.addLayer(NDVI_2007_l7_sn, vizParams, 'QMsn de NDVI 2007_l7')\n",
    "Map6.addLayer(NDWI_2007_l7_sn, vizParams, 'QMsn de NDWI 2007_l7')\n",
    "Map6.addLayer(SAVI_2007_l7_sn, vizParams, 'QMsn de SAVI 2007_l7')\n",
    "Map6.addLayer(NDGI_2007_l7_sn, vis_nieve, 'QMsn de NDGI 2007_l7')\n",
    "Map6.addLayer(NDSI_2007_l7_sn, vis_nieve, 'QMsn de NDSI 2007_l7')\n",
    "Map6"
   ]
  },
  {
   "cell_type": "markdown",
   "id": "36356b0d",
   "metadata": {},
   "source": [
    "### 2006 L7"
   ]
  },
  {
   "cell_type": "code",
   "execution_count": 88,
   "id": "d9779e07",
   "metadata": {
    "ExecuteTime": {
     "end_time": "2022-01-24T15:09:38.912508Z",
     "start_time": "2022-01-24T15:09:38.910642Z"
    }
   },
   "outputs": [],
   "source": [
    "start_date = '2005-10-01'\n",
    "end_date = '2006-03-31'\n",
    "\n",
    "l7_2006 = ee.ImageCollection('LANDSAT/LE07/C01/T1_TOA') \\\n",
    "    .filterBounds(patagonia_grande) \\\n",
    "    .filterDate(start_date, end_date)"
   ]
  },
  {
   "cell_type": "code",
   "execution_count": 89,
   "id": "e97b8a3f",
   "metadata": {
    "ExecuteTime": {
     "end_time": "2022-01-24T15:09:38.918614Z",
     "start_time": "2022-01-24T15:09:38.914918Z"
    }
   },
   "outputs": [],
   "source": [
    "coleccion_l7_2006 = l7_2006.map(addNDVI7).map(addNDWI).map(addNDGI).map(addSAVI).map(addNDSI).map(addDate).map(addCloud)"
   ]
  },
  {
   "cell_type": "code",
   "execution_count": 90,
   "id": "8c15e974",
   "metadata": {
    "ExecuteTime": {
     "end_time": "2022-01-24T15:09:38.921327Z",
     "start_time": "2022-01-24T15:09:38.919463Z"
    }
   },
   "outputs": [],
   "source": [
    "QM_NDVI_2006_l7 = coleccion_l7_2006.qualityMosaic('NDVI') # Normalized difference vegetation Index\n",
    "QM_NDWI_2006_l7 = coleccion_l7_2006.qualityMosaic('NDWI') # Normalize difference water index\n",
    "QM_SAVI_2006_l7 = coleccion_l7_2006.qualityMosaic('SAVI') # Soil Adjusted Vegetation Index \n",
    "QM_NDGI_2006_l7 = coleccion_l7_2006.qualityMosaic('NDGI') # Normalized difference glacier index\n",
    "QM_NDSI_2006_l7 = coleccion_l7_2006.qualityMosaic('NDSI') # Normalized difference snow index"
   ]
  },
  {
   "cell_type": "code",
   "execution_count": 91,
   "id": "cdb313e2",
   "metadata": {
    "ExecuteTime": {
     "end_time": "2022-01-24T15:09:45.283257Z",
     "start_time": "2022-01-24T15:09:38.922131Z"
    }
   },
   "outputs": [],
   "source": [
    "Map5.addLayer(QM_NDVI_2006_l7, vizParams, 'QM de NDVI 2006_l7')\n",
    "Map5.addLayer(QM_NDWI_2006_l7, vizParams, 'QM de NDWI 2006_l7')\n",
    "Map5.addLayer(QM_SAVI_2006_l7, vizParams, 'QM de SAVI 2006_l7')\n",
    "Map5.addLayer(QM_NDGI_2006_l7, vis_nieve, 'QM de NDGI 2006_l7')\n",
    "Map5.addLayer(QM_NDSI_2006_l7, vis_nieve, 'QM de NDSI 2006_l7')\n",
    "# Map5"
   ]
  },
  {
   "cell_type": "code",
   "execution_count": 92,
   "id": "9819ceea",
   "metadata": {
    "ExecuteTime": {
     "end_time": "2022-01-24T15:09:45.286297Z",
     "start_time": "2022-01-24T15:09:45.284057Z"
    }
   },
   "outputs": [],
   "source": [
    "c2006_l7_sn = coleccion_l7_2006.map(Cloud20)\n",
    "NDVI_2006_l7_sn = c2006_l7_sn.qualityMosaic('NDVI')\n",
    "NDWI_2006_l7_sn = c2006_l7_sn.qualityMosaic('NDWI')\n",
    "SAVI_2006_l7_sn = c2006_l7_sn.qualityMosaic('SAVI')\n",
    "NDGI_2006_l7_sn = c2006_l7_sn.qualityMosaic('NDGI')\n",
    "NDSI_2006_l7_sn = c2006_l7_sn.qualityMosaic('NDSI')"
   ]
  },
  {
   "cell_type": "code",
   "execution_count": 93,
   "id": "507a4780",
   "metadata": {
    "ExecuteTime": {
     "end_time": "2022-01-24T15:09:45.288634Z",
     "start_time": "2022-01-24T15:09:45.287310Z"
    }
   },
   "outputs": [],
   "source": [
    "# Map8.addLayer(NDVI_2006_l7_sn, vizParams, 'QMsn de NDVI 2006_l7')\n",
    "# Map8.addLayer(NDWI_2006_l7_sn, vizParams, 'QMsn de NDWI 2006_l7')\n",
    "# Map8.addLayer(SAVI_2006_l7_sn, vizParams, 'QMsn de SAVI 2006_l7')\n",
    "# Map8.addLayer(NDGI_2006_l7_sn, vis_nieve, 'QMsn de NDGI 2006_l7')\n",
    "# Map8.addLayer(NDSI_2006_l7_sn, vis_nieve, 'QMsn de NDSI 2006_l7')\n",
    "# Map8"
   ]
  },
  {
   "cell_type": "markdown",
   "id": "d379e7db",
   "metadata": {},
   "source": [
    "### 2006-2009 Colección"
   ]
  },
  {
   "cell_type": "code",
   "execution_count": 94,
   "id": "cb964937",
   "metadata": {
    "ExecuteTime": {
     "end_time": "2022-01-24T15:09:45.291639Z",
     "start_time": "2022-01-24T15:09:45.289525Z"
    }
   },
   "outputs": [],
   "source": [
    "coleccion2006_2009 = ee.ImageCollection(l7_2009.merge(l7_2008).merge(l7_2007).merge(l7_2006))"
   ]
  },
  {
   "cell_type": "code",
   "execution_count": 95,
   "id": "6d3e4bac",
   "metadata": {
    "ExecuteTime": {
     "end_time": "2022-01-24T15:09:45.294220Z",
     "start_time": "2022-01-24T15:09:45.292380Z"
    }
   },
   "outputs": [],
   "source": [
    "coleccion2006_2009_l5 = ee.ImageCollection(l5_2009.merge(l5_2008).merge(l5_2007).merge(l5_2006).merge(l5_2005))"
   ]
  },
  {
   "cell_type": "code",
   "execution_count": 96,
   "id": "c6ca746f",
   "metadata": {
    "ExecuteTime": {
     "end_time": "2022-01-24T15:09:45.298378Z",
     "start_time": "2022-01-24T15:09:45.294912Z"
    }
   },
   "outputs": [],
   "source": [
    "l7_summer = coleccion2006_2009.map(addNDVI7).map(addNDWI).map(addNDGI).map(addSAVI).map(addNDSI).map(addDate).map(addCloud)"
   ]
  },
  {
   "cell_type": "code",
   "execution_count": 97,
   "id": "dd601bba",
   "metadata": {
    "ExecuteTime": {
     "end_time": "2022-01-24T15:09:45.303407Z",
     "start_time": "2022-01-24T15:09:45.299300Z"
    }
   },
   "outputs": [],
   "source": [
    "l5_summer = coleccion2006_2009_l5.map(addNDVI).map(addNDWI).map(addNDGI).map(addSAVI).map(addNDSI).map(addDate).map(addCloud)"
   ]
  },
  {
   "cell_type": "markdown",
   "id": "be4bfba3",
   "metadata": {},
   "source": [
    "### Tier 1"
   ]
  },
  {
   "cell_type": "code",
   "execution_count": 98,
   "id": "7cf131d3",
   "metadata": {
    "ExecuteTime": {
     "end_time": "2022-01-24T15:09:45.306074Z",
     "start_time": "2022-01-24T15:09:45.304310Z"
    }
   },
   "outputs": [],
   "source": [
    "Tier1_l5_sn = l5_summer.map(Cloud10)"
   ]
  },
  {
   "cell_type": "code",
   "execution_count": 99,
   "id": "19ec44bd",
   "metadata": {
    "ExecuteTime": {
     "end_time": "2022-01-24T15:09:45.308941Z",
     "start_time": "2022-01-24T15:09:45.307035Z"
    }
   },
   "outputs": [],
   "source": [
    "QM_NDVI_T1_l5 = Tier1_l5_sn.qualityMosaic('B11')# Normalized difference vegetation Index\n",
    "QM_NDWI_T1_l5 = Tier1_l5_sn.qualityMosaic('NDWI') # Normalize difference water index\n",
    "QM_SAVI_T1_l5 = Tier1_l5_sn.qualityMosaic('SAVI') # Soil Adjusted Vegetation Index \n",
    "QM_NDGI_T1_l5 = Tier1_l5_sn.qualityMosaic('NDGI') # Normalized difference glacier index\n",
    "QM_NDSI_T1_l5 = Tier1_l5_sn.qualityMosaic('NDSI') # Normalized difference snow index"
   ]
  },
  {
   "cell_type": "code",
   "execution_count": 100,
   "id": "c3ce326a",
   "metadata": {
    "ExecuteTime": {
     "end_time": "2022-01-24T15:09:45.311220Z",
     "start_time": "2022-01-24T15:09:45.309739Z"
    }
   },
   "outputs": [],
   "source": [
    "T_median = Tier1_l5_sn.median()"
   ]
  },
  {
   "cell_type": "code",
   "execution_count": 101,
   "id": "1f50e82b",
   "metadata": {
    "ExecuteTime": {
     "end_time": "2022-01-24T15:09:48.034965Z",
     "start_time": "2022-01-24T15:09:45.312032Z"
    }
   },
   "outputs": [
    {
     "data": {
      "application/vnd.jupyter.widget-view+json": {
       "model_id": "88f5f0f3a59b491dad4fe22ca6c2156f",
       "version_major": 2,
       "version_minor": 0
      },
      "text/plain": [
       "Map(center=[-45, -70], controls=(WidgetControl(options=['position', 'transparent_bg'], widget=HBox(children=(T…"
      ]
     },
     "metadata": {},
     "output_type": "display_data"
    }
   ],
   "source": [
    "Map2.addLayer(QM_NDVI_T1_l5, vizParams, 'QM de NDVI T1 L5')\n",
    "Map2.addLayer(QM_NDWI_T1_l5, vizParams, 'QM de NDWI T1 L5')\n",
    "Map2.addLayer(T_median, vizParams, 'mediana')\n",
    "Map2 "
   ]
  },
  {
   "cell_type": "code",
   "execution_count": 102,
   "id": "1ecf6c6c",
   "metadata": {
    "ExecuteTime": {
     "end_time": "2022-01-24T15:09:48.037461Z",
     "start_time": "2022-01-24T15:09:48.035660Z"
    }
   },
   "outputs": [],
   "source": [
    "Tier1_sn = l7_summer.map(Cloud10)"
   ]
  },
  {
   "cell_type": "code",
   "execution_count": 103,
   "id": "9296c453",
   "metadata": {
    "ExecuteTime": {
     "end_time": "2022-01-24T15:09:48.040273Z",
     "start_time": "2022-01-24T15:09:48.038421Z"
    }
   },
   "outputs": [],
   "source": [
    "QM_NDVI_T1 = Tier1_sn.qualityMosaic('NDVI')# Normalized difference vegetation Index\n",
    "QM_NDWI_T1 = Tier1_sn.qualityMosaic('NDWI') # Normalize difference water index\n",
    "QM_SAVI_T1 = Tier1_sn.qualityMosaic('SAVI') # Soil Adjusted Vegetation Index \n",
    "QM_NDGI_T1 = Tier1_sn.qualityMosaic('NDGI') # Normalized difference glacier index\n",
    "QM_NDSI_T1 = Tier1_sn.qualityMosaic('NDSI') # Normalized difference snow index"
   ]
  },
  {
   "cell_type": "code",
   "execution_count": 104,
   "id": "72a28a5a",
   "metadata": {
    "ExecuteTime": {
     "end_time": "2022-01-24T15:09:49.259922Z",
     "start_time": "2022-01-24T15:09:48.040949Z"
    }
   },
   "outputs": [
    {
     "data": {
      "application/vnd.jupyter.widget-view+json": {
       "model_id": "88f5f0f3a59b491dad4fe22ca6c2156f",
       "version_major": 2,
       "version_minor": 0
      },
      "text/plain": [
       "Map(center=[-45, -70], controls=(WidgetControl(options=['position', 'transparent_bg'], widget=HBox(children=(T…"
      ]
     },
     "metadata": {},
     "output_type": "display_data"
    }
   ],
   "source": [
    "Map2.addLayer(QM_NDVI_T1, vizParams, 'QM de NDVI T1')\n",
    "# Map2.addLayer(QM_NDWI_T1, vizParams, 'QM de NDWI T1')\n",
    "# Map2.addLayer(QM_SAVI_T1, vizParams, 'QM de SAVI T1')\n",
    "# Map2.addLayer(QM_NDGI_T1, vis_nieve, 'QM de NDGI T1')\n",
    "# Map2.addLayer(QM_NDSI_T1, vis_nieve, 'QM de NDSI T1')\n",
    "Map2 "
   ]
  },
  {
   "cell_type": "markdown",
   "id": "2884a8b8",
   "metadata": {},
   "source": [
    "### Tier 2"
   ]
  },
  {
   "cell_type": "code",
   "execution_count": 105,
   "id": "5963584f",
   "metadata": {
    "ExecuteTime": {
     "end_time": "2022-01-24T15:09:49.262615Z",
     "start_time": "2022-01-24T15:09:49.260626Z"
    }
   },
   "outputs": [],
   "source": [
    "Tier2_l5_sn = l5_summer.map(Cloud20)"
   ]
  },
  {
   "cell_type": "code",
   "execution_count": 106,
   "id": "78541c2c",
   "metadata": {
    "ExecuteTime": {
     "end_time": "2022-01-24T15:09:49.265349Z",
     "start_time": "2022-01-24T15:09:49.263603Z"
    }
   },
   "outputs": [],
   "source": [
    "QM_NDVI_T2_l5 = Tier2_l5_sn.qualityMosaic('B11')# Normalized difference vegetation Index\n",
    "QM_NDWI_T2_l5 = Tier2_l5_sn.qualityMosaic('NDWI') # Normalize difference water index\n",
    "QM_SAVI_T2_l5 = Tier2_l5_sn.qualityMosaic('SAVI') # Soil Adjusted Vegetation Index \n",
    "QM_NDGI_T2_l5 = Tier2_l5_sn.qualityMosaic('NDGI') # Normalized difference glacier index\n",
    "QM_NDSI_T2_l5 = Tier2_l5_sn.qualityMosaic('NDSI') # Normalized difference snow index"
   ]
  },
  {
   "cell_type": "code",
   "execution_count": 107,
   "id": "cb006b10",
   "metadata": {
    "ExecuteTime": {
     "end_time": "2022-01-24T15:09:49.267625Z",
     "start_time": "2022-01-24T15:09:49.266367Z"
    }
   },
   "outputs": [],
   "source": [
    "T2_median = Tier2_l5_sn.median()"
   ]
  },
  {
   "cell_type": "code",
   "execution_count": 108,
   "id": "3a5f325d",
   "metadata": {
    "ExecuteTime": {
     "end_time": "2022-01-24T15:09:49.270437Z",
     "start_time": "2022-01-24T15:09:49.268669Z"
    }
   },
   "outputs": [],
   "source": [
    "Tier2_sn = l7_summer.map(Cloud20)"
   ]
  },
  {
   "cell_type": "code",
   "execution_count": 109,
   "id": "4707f7e8",
   "metadata": {
    "ExecuteTime": {
     "end_time": "2022-01-24T15:09:49.273126Z",
     "start_time": "2022-01-24T15:09:49.271246Z"
    }
   },
   "outputs": [],
   "source": [
    "QM_NDVI_T2 = Tier2_sn.qualityMosaic('NDVI')# Normalized difference vegetation Index\n",
    "QM_NDWI_T2 = Tier2_sn.qualityMosaic('NDWI') # Normalize difference water index\n",
    "QM_SAVI_T2 = Tier2_sn.qualityMosaic('SAVI') # Soil Adjusted Vegetation Index \n",
    "QM_NDGI_T2 = Tier2_sn.qualityMosaic('NDGI') # Normalized difference glacier index\n",
    "QM_NDSI_T2 = Tier2_sn.qualityMosaic('NDSI') # Normalized difference snow index"
   ]
  },
  {
   "cell_type": "code",
   "execution_count": null,
   "id": "d3f273ca",
   "metadata": {},
   "outputs": [],
   "source": []
  },
  {
   "cell_type": "markdown",
   "id": "c2d4ae42",
   "metadata": {},
   "source": [
    "### Tier 3"
   ]
  },
  {
   "cell_type": "code",
   "execution_count": 110,
   "id": "e42261a9",
   "metadata": {
    "ExecuteTime": {
     "end_time": "2022-01-24T15:09:49.275901Z",
     "start_time": "2022-01-24T15:09:49.274046Z"
    }
   },
   "outputs": [],
   "source": [
    "Tier3_l5_sn = l5_summer.map(Cloud30)"
   ]
  },
  {
   "cell_type": "code",
   "execution_count": 111,
   "id": "8bfe5b09",
   "metadata": {
    "ExecuteTime": {
     "end_time": "2022-01-24T15:09:49.278479Z",
     "start_time": "2022-01-24T15:09:49.276675Z"
    }
   },
   "outputs": [],
   "source": [
    "QM_NDVI_T3_l5 = Tier3_l5_sn.qualityMosaic('B11')# Normalized difference vegetation Index\n",
    "QM_NDWI_T3_l5 = Tier3_l5_sn.qualityMosaic('NDWI') # Normalize difference water index\n",
    "QM_SAVI_T3_l5 = Tier3_l5_sn.qualityMosaic('SAVI') # Soil Adjusted Vegetation Index \n",
    "QM_NDGI_T3_l5 = Tier3_l5_sn.qualityMosaic('NDGI') # Normalized difference glacier index\n",
    "QM_NDSI_T3_l5 = Tier3_l5_sn.qualityMosaic('NDSI') # Normalized difference snow index"
   ]
  },
  {
   "cell_type": "code",
   "execution_count": 112,
   "id": "4c2c696d",
   "metadata": {
    "ExecuteTime": {
     "end_time": "2022-01-24T15:09:49.280721Z",
     "start_time": "2022-01-24T15:09:49.279315Z"
    }
   },
   "outputs": [],
   "source": [
    "T3_median = Tier3_l5_sn.median()"
   ]
  },
  {
   "cell_type": "code",
   "execution_count": 113,
   "id": "3ab15dfb",
   "metadata": {
    "ExecuteTime": {
     "end_time": "2022-01-24T15:09:49.283201Z",
     "start_time": "2022-01-24T15:09:49.281448Z"
    }
   },
   "outputs": [],
   "source": [
    "Tier3_sn = l7_summer.map(Cloud30)"
   ]
  },
  {
   "cell_type": "code",
   "execution_count": 114,
   "id": "cd65ca0f",
   "metadata": {
    "ExecuteTime": {
     "end_time": "2022-01-24T15:09:49.285749Z",
     "start_time": "2022-01-24T15:09:49.283975Z"
    }
   },
   "outputs": [],
   "source": [
    "QM_NDVI_T3 = Tier3_sn.qualityMosaic('NDVI')# Normalized difference vegetation Index\n",
    "QM_NDWI_T3 = Tier3_sn.qualityMosaic('NDWI') # Normalize difference water index\n",
    "QM_SAVI_T3 = Tier3_sn.qualityMosaic('SAVI') # Soil Adjusted Vegetation Index \n",
    "QM_NDGI_T3 = Tier3_sn.qualityMosaic('NDGI') # Normalized difference glacier index\n",
    "QM_NDSI_T3 = Tier3_sn.qualityMosaic('NDSI') # Normalized difference snow index"
   ]
  },
  {
   "cell_type": "code",
   "execution_count": null,
   "id": "83210bf4",
   "metadata": {},
   "outputs": [],
   "source": []
  },
  {
   "cell_type": "markdown",
   "id": "5e4e9dd1",
   "metadata": {},
   "source": [
    "### Tier 4"
   ]
  },
  {
   "cell_type": "code",
   "execution_count": 115,
   "id": "d578116f",
   "metadata": {
    "ExecuteTime": {
     "end_time": "2022-01-24T15:09:49.288999Z",
     "start_time": "2022-01-24T15:09:49.286857Z"
    }
   },
   "outputs": [],
   "source": [
    "Tier4_l5_sn = l5_summer.map(Cloud40)"
   ]
  },
  {
   "cell_type": "code",
   "execution_count": 116,
   "id": "b78ca89a",
   "metadata": {
    "ExecuteTime": {
     "end_time": "2022-01-24T15:09:49.291966Z",
     "start_time": "2022-01-24T15:09:49.289937Z"
    }
   },
   "outputs": [],
   "source": [
    "QM_NDVI_T4_l5 = Tier4_l5_sn.qualityMosaic('B11')# Normalized difference vegetation Index\n",
    "QM_NDWI_T4_l5 = Tier4_l5_sn.qualityMosaic('NDWI') # Normalize difference water index\n",
    "QM_SAVI_T4_l5 = Tier4_l5_sn.qualityMosaic('SAVI') # Soil Adjusted Vegetation Index \n",
    "QM_NDGI_T4_l5 = Tier4_l5_sn.qualityMosaic('NDGI') # Normalized difference glacier index\n",
    "QM_NDSI_T4_l5 = Tier4_l5_sn.qualityMosaic('NDSI') # Normalized difference snow index"
   ]
  },
  {
   "cell_type": "code",
   "execution_count": 117,
   "id": "57561a8f",
   "metadata": {
    "ExecuteTime": {
     "end_time": "2022-01-24T15:09:49.294490Z",
     "start_time": "2022-01-24T15:09:49.293100Z"
    }
   },
   "outputs": [],
   "source": [
    "T4_median = Tier4_l5_sn.median()"
   ]
  },
  {
   "cell_type": "code",
   "execution_count": 118,
   "id": "a1aff937",
   "metadata": {
    "ExecuteTime": {
     "end_time": "2022-01-24T15:09:49.297139Z",
     "start_time": "2022-01-24T15:09:49.295463Z"
    }
   },
   "outputs": [],
   "source": [
    "Tier4_sn = l7_summer.map(Cloud40)"
   ]
  },
  {
   "cell_type": "code",
   "execution_count": 119,
   "id": "4ffe9a5a",
   "metadata": {
    "ExecuteTime": {
     "end_time": "2022-01-24T15:09:49.300437Z",
     "start_time": "2022-01-24T15:09:49.298254Z"
    }
   },
   "outputs": [],
   "source": [
    "QM_NDVI_T4 = Tier4_sn.qualityMosaic('NDVI')# Normalized difference vegetation Index\n",
    "QM_NDWI_T4 = Tier4_sn.qualityMosaic('NDWI') # Normalize difference water index\n",
    "QM_SAVI_T4 = Tier4_sn.qualityMosaic('SAVI') # Soil Adjusted Vegetation Index \n",
    "QM_NDGI_T4 = Tier4_sn.qualityMosaic('NDGI') # Normalized difference glacier index\n",
    "QM_NDSI_T4 = Tier4_sn.qualityMosaic('NDSI') # Normalized difference snow index"
   ]
  },
  {
   "cell_type": "code",
   "execution_count": 120,
   "id": "67529e0d",
   "metadata": {
    "ExecuteTime": {
     "end_time": "2022-01-24T15:09:49.302706Z",
     "start_time": "2022-01-24T15:09:49.301349Z"
    }
   },
   "outputs": [],
   "source": [
    "T4_median_l7 = Tier4_sn.median()"
   ]
  },
  {
   "cell_type": "code",
   "execution_count": 121,
   "id": "52b6c09f",
   "metadata": {
    "ExecuteTime": {
     "end_time": "2022-01-24T15:09:51.845113Z",
     "start_time": "2022-01-24T15:09:49.303594Z"
    }
   },
   "outputs": [
    {
     "data": {
      "application/vnd.jupyter.widget-view+json": {
       "model_id": "88f5f0f3a59b491dad4fe22ca6c2156f",
       "version_major": 2,
       "version_minor": 0
      },
      "text/plain": [
       "Map(center=[-45, -70], controls=(WidgetControl(options=['position', 'transparent_bg'], widget=HBox(children=(T…"
      ]
     },
     "metadata": {},
     "output_type": "display_data"
    }
   ],
   "source": [
    "Map2.addLayer(T4_median, vizParams, 'mediana4')\n",
    "Map2.addLayer(T4_median_l7, vizParams, 'mediana4 l7')\n",
    "Map2"
   ]
  },
  {
   "cell_type": "markdown",
   "id": "a950e2c5",
   "metadata": {},
   "source": [
    "## Img base"
   ]
  },
  {
   "cell_type": "code",
   "execution_count": 122,
   "id": "d8f89941",
   "metadata": {
    "ExecuteTime": {
     "end_time": "2022-01-24T15:09:51.847668Z",
     "start_time": "2022-01-24T15:09:51.845836Z"
    }
   },
   "outputs": [],
   "source": [
    "start_date = '2008-10-01'\n",
    "end_date = '2009-03-31'\n",
    "imgbase = ee.ImageCollection('LANDSAT/LE07/C01/T1_TOA') \\\n",
    "    .filterBounds(base) \\\n",
    "    .filterDate(start_date, end_date) \\\n",
    "    .sort('CLOUD_COVER') \\\n",
    "    .first() \n"
   ]
  },
  {
   "cell_type": "code",
   "execution_count": 123,
   "id": "5377d40d",
   "metadata": {
    "ExecuteTime": {
     "end_time": "2022-01-24T15:09:51.850448Z",
     "start_time": "2022-01-24T15:09:51.848316Z"
    }
   },
   "outputs": [],
   "source": [
    "# imgbase.get('LANDSAT_PRODUCT_ID').getInfo()"
   ]
  },
  {
   "cell_type": "code",
   "execution_count": 124,
   "id": "8b238026",
   "metadata": {
    "ExecuteTime": {
     "end_time": "2022-01-24T15:09:51.852480Z",
     "start_time": "2022-01-24T15:09:51.851244Z"
    }
   },
   "outputs": [],
   "source": [
    "# imgbase = ee.Image('LANDSAT/LE07/C01/T1_TOA/LE07_230092_20081213')"
   ]
  },
  {
   "cell_type": "code",
   "execution_count": 125,
   "id": "800ae60f",
   "metadata": {
    "ExecuteTime": {
     "end_time": "2022-01-24T15:09:51.854616Z",
     "start_time": "2022-01-24T15:09:51.853315Z"
    }
   },
   "outputs": [],
   "source": [
    "# Map.addLayer(colec_base, vizParams,'1')\n",
    "# Map"
   ]
  },
  {
   "cell_type": "code",
   "execution_count": 126,
   "id": "8340f2f4",
   "metadata": {
    "ExecuteTime": {
     "end_time": "2022-01-24T15:09:51.857367Z",
     "start_time": "2022-01-24T15:09:51.855419Z"
    }
   },
   "outputs": [],
   "source": [
    "start_date = '2008-10-01'\n",
    "end_date = '2009-03-31'\n",
    "imgbase2 = ee.ImageCollection('LANDSAT/LE07/C01/T1_TOA') \\\n",
    "    .filter(ee.Filter.eq('WRS_PATH', 230)) \\\n",
    "    .filter(ee.Filter.eq('WRS_ROW', 91)) \\\n",
    "    .filterDate(start_date, end_date) "
   ]
  },
  {
   "cell_type": "code",
   "execution_count": 127,
   "id": "bb9c7677",
   "metadata": {
    "ExecuteTime": {
     "end_time": "2022-01-24T15:09:51.859730Z",
     "start_time": "2022-01-24T15:09:51.858134Z"
    }
   },
   "outputs": [],
   "source": [
    "imgbase2 = find_closest(imgbase, imgbase2,14).sort('CLOUD_COVER').first()\n",
    "imgbase2 = ee.Image(imgbase2)"
   ]
  },
  {
   "cell_type": "code",
   "execution_count": 128,
   "id": "b46862d1",
   "metadata": {
    "ExecuteTime": {
     "end_time": "2022-01-24T15:09:51.861793Z",
     "start_time": "2022-01-24T15:09:51.860620Z"
    }
   },
   "outputs": [],
   "source": [
    "# Map1.addLayer(imgbase2, vizParams, 'img base2')\n",
    "# Map1"
   ]
  },
  {
   "cell_type": "code",
   "execution_count": 129,
   "id": "857c24c0",
   "metadata": {
    "ExecuteTime": {
     "end_time": "2022-01-24T15:09:51.864601Z",
     "start_time": "2022-01-24T15:09:51.862812Z"
    }
   },
   "outputs": [],
   "source": [
    "start_date = '2008-10-01'\n",
    "end_date = '2009-03-31'\n",
    "imgbase3 = ee.ImageCollection('LANDSAT/LC08/C01/T1_TOA') \\\n",
    "    .filter(ee.Filter.eq('WRS_PATH', 229)) \\\n",
    "    .filter(ee.Filter.eq('WRS_ROW', 91)) \\\n",
    "    .filterDate(start_date, end_date) "
   ]
  },
  {
   "cell_type": "code",
   "execution_count": 130,
   "id": "bb2d610e",
   "metadata": {
    "ExecuteTime": {
     "end_time": "2022-01-24T15:09:51.867042Z",
     "start_time": "2022-01-24T15:09:51.865482Z"
    }
   },
   "outputs": [],
   "source": [
    "imgbase3 = find_closest(imgbase2, imgbase3,21).sort('CLOUD_COVER').first()\n",
    "imgbase3 = ee.Image(imgbase3)"
   ]
  },
  {
   "cell_type": "code",
   "execution_count": 131,
   "id": "37eb1d2c",
   "metadata": {
    "ExecuteTime": {
     "end_time": "2022-01-24T15:09:51.869661Z",
     "start_time": "2022-01-24T15:09:51.867832Z"
    }
   },
   "outputs": [],
   "source": [
    "start_date = '2008-10-01'\n",
    "end_date = '2009-03-31'\n",
    "imgbase4 = ee.ImageCollection('LANDSAT/LC08/C01/T1_TOA') \\\n",
    "    .filter(ee.Filter.eq('WRS_PATH', 228)) \\\n",
    "    .filter(ee.Filter.eq('WRS_ROW', 91)) \\\n",
    "    .filterDate(start_date, end_date) "
   ]
  },
  {
   "cell_type": "code",
   "execution_count": 132,
   "id": "a8ddb22d",
   "metadata": {
    "ExecuteTime": {
     "end_time": "2022-01-24T15:09:51.872548Z",
     "start_time": "2022-01-24T15:09:51.870496Z"
    }
   },
   "outputs": [],
   "source": [
    "imgbase4 = find_closest(imgbase3, imgbase4,14).sort('CLOUD_COVER').first()\n",
    "imgbase4 = ee.Image(imgbase4)"
   ]
  },
  {
   "cell_type": "code",
   "execution_count": 133,
   "id": "e3fa66be",
   "metadata": {
    "ExecuteTime": {
     "end_time": "2022-01-24T15:09:51.875201Z",
     "start_time": "2022-01-24T15:09:51.873435Z"
    }
   },
   "outputs": [],
   "source": [
    "start_date = '2008-10-01'\n",
    "end_date = '2009-03-31'\n",
    "imgbase5 = ee.ImageCollection('LANDSAT/LC08/C01/T1_TOA') \\\n",
    "    .filter(ee.Filter.eq('WRS_PATH', 232)) \\\n",
    "    .filter(ee.Filter.eq('WRS_ROW', 91)) \\\n",
    "    .filterDate(start_date, end_date) "
   ]
  },
  {
   "cell_type": "code",
   "execution_count": 134,
   "id": "b935e51f",
   "metadata": {
    "ExecuteTime": {
     "end_time": "2022-01-24T15:09:51.878161Z",
     "start_time": "2022-01-24T15:09:51.876347Z"
    }
   },
   "outputs": [],
   "source": [
    "imgbase5 = find_closest(imgbase, imgbase5,28).sort('CLOUD_COVER').first()\n",
    "imgbase5 = ee.Image(imgbase5)"
   ]
  },
  {
   "cell_type": "code",
   "execution_count": 135,
   "id": "5f2ef39d",
   "metadata": {
    "ExecuteTime": {
     "end_time": "2022-01-24T15:09:51.880947Z",
     "start_time": "2022-01-24T15:09:51.879105Z"
    }
   },
   "outputs": [],
   "source": [
    "start_date = '2008-10-01'\n",
    "end_date = '2009-03-31'\n",
    "imgbase6 = ee.ImageCollection('LANDSAT/LC08/C01/T1_TOA') \\\n",
    "    .filter(ee.Filter.eq('WRS_PATH', 233)) \\\n",
    "    .filter(ee.Filter.eq('WRS_ROW', 91)) \\\n",
    "    .filterDate(start_date, end_date) "
   ]
  },
  {
   "cell_type": "code",
   "execution_count": 136,
   "id": "75597f73",
   "metadata": {
    "ExecuteTime": {
     "end_time": "2022-01-24T15:09:51.883952Z",
     "start_time": "2022-01-24T15:09:51.881882Z"
    }
   },
   "outputs": [],
   "source": [
    "imgbase6 = find_closest(imgbase5, imgbase6,360).sort('CLOUD_COVER').first()\n",
    "imgbase6 = ee.Image(imgbase6)"
   ]
  },
  {
   "cell_type": "code",
   "execution_count": 137,
   "id": "5c32385b",
   "metadata": {
    "ExecuteTime": {
     "end_time": "2022-01-24T15:09:51.886454Z",
     "start_time": "2022-01-24T15:09:51.884712Z"
    }
   },
   "outputs": [],
   "source": [
    "colec_base = ee.ImageCollection([imgbase,imgbase2,imgbase3,imgbase4,imgbase5,imgbase6]).mosaic()"
   ]
  },
  {
   "cell_type": "code",
   "execution_count": 138,
   "id": "436a77fb",
   "metadata": {
    "ExecuteTime": {
     "end_time": "2022-01-24T15:09:51.888749Z",
     "start_time": "2022-01-24T15:09:51.887218Z"
    }
   },
   "outputs": [],
   "source": [
    "\n",
    "# Map1.addLayer(imgbase, vizParams, 'img base')\n",
    "# Map1.addLayer(imgbase2, vizParams, 'img base2')\n",
    "# Map1.addLayer(imgbase3, vizParams, 'img base3')\n",
    "# Map1.addLayer(imgbase4, vizParams, 'img base4')\n",
    "# Map1.addLayer(imgbase5, vizParams, 'img base5')\n",
    "# Map1.addLayer(imgbase6, vizParams, 'img base6')\n",
    "# # Map1.addLayer(colec_base, vizParams, 'coleccion')\n",
    "# # Map1.addLayer(colec_base_r, vizParams, 'coleccion r')\n",
    "# Map1"
   ]
  },
  {
   "cell_type": "markdown",
   "id": "dd7d911d",
   "metadata": {},
   "source": [
    "## Indices por colección"
   ]
  },
  {
   "cell_type": "markdown",
   "id": "4ea0a4cd",
   "metadata": {},
   "source": [
    "### Índices 2008"
   ]
  },
  {
   "cell_type": "code",
   "execution_count": 139,
   "id": "426dfca0",
   "metadata": {
    "ExecuteTime": {
     "end_time": "2022-01-24T15:09:51.891452Z",
     "start_time": "2022-01-24T15:09:51.889625Z"
    }
   },
   "outputs": [],
   "source": [
    "NDVI_2008 = NDVI_2008_sn.select('B11')\n",
    "NDWI_2008 = NDWI_2008_sn.select('NDWI') \n",
    "SAVI_2008 = SAVI_2008_sn.select('SAVI')\n",
    "NDGI_2008 = NDGI_2008_sn.select('NDGI')\n",
    "NDSI_2008 = NDSI_2008_sn.select('NDSI')"
   ]
  },
  {
   "cell_type": "code",
   "execution_count": 140,
   "id": "eaf84698",
   "metadata": {
    "ExecuteTime": {
     "end_time": "2022-01-24T15:09:51.894003Z",
     "start_time": "2022-01-24T15:09:51.892521Z"
    }
   },
   "outputs": [],
   "source": [
    "# Map7.addLayer(NDVI_2008, {'palette': color_terrain}, 'QMsn de NDVI 2008')\n",
    "# Map7.addLayer(NDWI_2008, {'palette': color_ndwi}, 'QMsn de NDWI 2008')\n",
    "# Map7.addLayer(SAVI_2008, {'palette': color_ndvi}, 'QMsn de SAVI 2008')\n",
    "# # Map7.addLayer(NDGI_2008, {'palette': color_glaciar}, 'QMsn de NDGI 2008')\n",
    "# # Map7.addLayer(NDSI_2008, {'palette': color_ndwi}, 'QMsn de NDSI 2008')\n",
    "# Map7"
   ]
  },
  {
   "cell_type": "markdown",
   "id": "1e0309e1",
   "metadata": {},
   "source": [
    "### Índices 2007"
   ]
  },
  {
   "cell_type": "code",
   "execution_count": 141,
   "id": "cc1253c0",
   "metadata": {
    "ExecuteTime": {
     "end_time": "2022-01-24T15:09:51.896594Z",
     "start_time": "2022-01-24T15:09:51.894860Z"
    }
   },
   "outputs": [],
   "source": [
    "NDVI_2007 = NDVI_2007_sn.select('B11')\n",
    "NDWI_2007 = NDWI_2007_sn.select('NDWI') \n",
    "SAVI_2007 = SAVI_2007_sn.select('SAVI')\n",
    "NDGI_2007 = NDGI_2007_sn.select('NDGI')\n",
    "NDSI_2007 = NDSI_2007_sn.select('NDSI')"
   ]
  },
  {
   "cell_type": "code",
   "execution_count": 142,
   "id": "3e0524d7",
   "metadata": {
    "ExecuteTime": {
     "end_time": "2022-01-24T15:09:51.898989Z",
     "start_time": "2022-01-24T15:09:51.897613Z"
    }
   },
   "outputs": [],
   "source": [
    "# Map7.addLayer(NDVI_2007, {'palette': color_terrain}, 'QMsn de NDVI 2007')\n",
    "# Map7.addLayer(NDWI_2007, {'palette': color_ndwi}, 'QMsn de NDWI 2007')\n",
    "# Map7.addLayer(SAVI_2007, {'palette': color_ndvi}, 'QMsn de SAVI 2007')\n",
    "# # Map7.addLayer(NDGI_2007, {'palette': color_glaciar}, 'QMsn de NDGI 2007')\n",
    "# # Map7.addLayer(NDSI_2007, {'palette': color_ndwi}, 'QMsn de NDSI 2007')\n",
    "# Map7"
   ]
  },
  {
   "cell_type": "markdown",
   "id": "4aee56c9",
   "metadata": {},
   "source": [
    "### Índices 2006"
   ]
  },
  {
   "cell_type": "code",
   "execution_count": 143,
   "id": "4a0a2445",
   "metadata": {
    "ExecuteTime": {
     "end_time": "2022-01-24T15:09:51.901905Z",
     "start_time": "2022-01-24T15:09:51.899914Z"
    }
   },
   "outputs": [],
   "source": [
    "NDVI_2006 = NDVI_2006_sn.select('B11')\n",
    "NDWI_2006 = NDWI_2006_sn.select('NDWI') \n",
    "SAVI_2006 = SAVI_2006_sn.select('SAVI')\n",
    "NDGI_2006 = NDGI_2006_sn.select('NDGI')\n",
    "NDSI_2006 = NDSI_2006_sn.select('NDSI')"
   ]
  },
  {
   "cell_type": "code",
   "execution_count": 144,
   "id": "144629ba",
   "metadata": {
    "ExecuteTime": {
     "end_time": "2022-01-24T15:09:51.904435Z",
     "start_time": "2022-01-24T15:09:51.902736Z"
    }
   },
   "outputs": [],
   "source": [
    "# Map8.addLayer(NDVI_2006, {'palette': color_terrain}, 'QMsn de NDVI 2006')\n",
    "# Map8.addLayer(NDWI_2006, {'palette': color_ndwi}, 'QMsn de NDWI 2006')\n",
    "# Map8.addLayer(SAVI_2006, {'palette': color_ndvi}, 'QMsn de SAVI 2006')\n",
    "# # Map8.addLayer(NDGI_2006, {'palette': color_glaciar}, 'QMsn de NDGI 2006')\n",
    "# # Map8.addLayer(NDSI_2006, {'palette': color_ndwi}, 'QMsn de NDSI 2006')\n",
    "# Map8"
   ]
  },
  {
   "cell_type": "markdown",
   "id": "6d3d753e",
   "metadata": {},
   "source": [
    "### Índices 2005 "
   ]
  },
  {
   "cell_type": "code",
   "execution_count": 145,
   "id": "149bf201",
   "metadata": {
    "ExecuteTime": {
     "end_time": "2022-01-24T15:09:51.906884Z",
     "start_time": "2022-01-24T15:09:51.905147Z"
    }
   },
   "outputs": [],
   "source": [
    "NDVI_2005 = NDVI_2005_sn.select('B11')\n",
    "NDWI_2005 = NDWI_2005_sn.select('NDWI') \n",
    "SAVI_2005 = SAVI_2005_sn.select('SAVI')\n",
    "NDGI_2005 = NDGI_2005_sn.select('NDGI')\n",
    "NDSI_2005 = NDSI_2005_sn.select('NDSI')"
   ]
  },
  {
   "cell_type": "code",
   "execution_count": 146,
   "id": "bf8b2aad",
   "metadata": {
    "ExecuteTime": {
     "end_time": "2022-01-24T15:09:51.909306Z",
     "start_time": "2022-01-24T15:09:51.907761Z"
    }
   },
   "outputs": [],
   "source": [
    "# Map8.addLayer(NDVI_2005, {'palette': color_terrain}, 'QMsn de NDVI 2005')\n",
    "# Map8.addLayer(NDWI_2005, {'palette': color_ndwi}, 'QMsn de NDWI 2005')\n",
    "# Map8.addLayer(SAVI_2005, {'palette': color_ndvi}, 'QMsn de SAVI 2005')\n",
    "# # Map8.addLayer(NDGI_2005, {'palette': color_glaciar}, 'QMsn de NDGI 2005')\n",
    "# # Map8.addLayer(NDSI_2005, {'palette': color_ndwi}, 'QMsn de NDSI 2005')\n",
    "# Map8"
   ]
  },
  {
   "cell_type": "markdown",
   "id": "e765cd19",
   "metadata": {},
   "source": [
    "### Índices 2008 L7"
   ]
  },
  {
   "cell_type": "code",
   "execution_count": 147,
   "id": "b4275190",
   "metadata": {
    "ExecuteTime": {
     "end_time": "2022-01-24T15:09:51.911935Z",
     "start_time": "2022-01-24T15:09:51.910095Z"
    }
   },
   "outputs": [],
   "source": [
    "NDVI_2008_l7 = NDVI_2008_l7_sn.select('NDVI')\n",
    "NDWI_2008_l7 = NDWI_2008_l7_sn.select('NDWI')\n",
    "SAVI_2008_l7 = SAVI_2008_l7_sn.select('SAVI')\n",
    "NDGI_2008_l7 = NDGI_2008_l7_sn.select('NDGI')\n",
    "NDSI_2008_l7 = NDSI_2008_l7_sn.select('NDSI')"
   ]
  },
  {
   "cell_type": "code",
   "execution_count": 148,
   "id": "977e42e9",
   "metadata": {
    "ExecuteTime": {
     "end_time": "2022-01-24T15:09:51.914521Z",
     "start_time": "2022-01-24T15:09:51.912864Z"
    }
   },
   "outputs": [],
   "source": [
    "# Map8.addLayer(NDVI_2008_l7, {'palette': color_terrain}, 'QMsn de NDVI 2008_l7')\n",
    "# Map8.addLayer(NDWI_2008_l7, {'palette': color_ndwi}, 'QMsn de NDWI 2008_l7')\n",
    "# Map8.addLayer(SAVI_2008_l7, {'palette': color_ndvi}, 'QMsn de SAVI 2008_l7')\n",
    "# # Map8.addLayer(NDGI_2008_l7, {'palette': color_glaciar}, 'QMsn de NDGI 2008_l7')\n",
    "# # Map8.addLayer(NDSI_2008_l7, {'palette': color_ndwi}, 'QMsn de NDSI 2008_l7')\n",
    "# Map8"
   ]
  },
  {
   "cell_type": "code",
   "execution_count": null,
   "id": "215936ce",
   "metadata": {},
   "outputs": [],
   "source": []
  },
  {
   "cell_type": "markdown",
   "id": "dd05e9e8",
   "metadata": {},
   "source": [
    "## Generación de Mosaico L7"
   ]
  },
  {
   "cell_type": "code",
   "execution_count": 149,
   "id": "ddfd5f61",
   "metadata": {
    "ExecuteTime": {
     "end_time": "2022-01-24T15:09:51.916714Z",
     "start_time": "2022-01-24T15:09:51.915328Z"
    }
   },
   "outputs": [],
   "source": [
    "# mosaic = ee.ImageCollection([QM_NDGI_2009_l7,NDVI_2008_l7_sn]).mosaic()"
   ]
  },
  {
   "cell_type": "code",
   "execution_count": 150,
   "id": "c852427b",
   "metadata": {
    "ExecuteTime": {
     "end_time": "2022-01-24T15:09:51.919234Z",
     "start_time": "2022-01-24T15:09:51.917732Z"
    }
   },
   "outputs": [],
   "source": [
    "NDVI_landsat_7 = QM_NDVI_2008_l7.set('SENSOR_ID', 'ETM+')"
   ]
  },
  {
   "cell_type": "code",
   "execution_count": 151,
   "id": "e97dfca9",
   "metadata": {
    "ExecuteTime": {
     "end_time": "2022-01-24T15:09:51.921490Z",
     "start_time": "2022-01-24T15:09:51.920038Z"
    }
   },
   "outputs": [],
   "source": [
    "cloud_ = ee.Algorithms.Landsat.simpleCloudScore(NDVI_landsat_7)"
   ]
  },
  {
   "cell_type": "code",
   "execution_count": 152,
   "id": "e4cbfef0",
   "metadata": {
    "ExecuteTime": {
     "end_time": "2022-01-24T15:09:51.924014Z",
     "start_time": "2022-01-24T15:09:51.922326Z"
    }
   },
   "outputs": [],
   "source": [
    "cloud_ = cloud_.select('cloud')"
   ]
  },
  {
   "cell_type": "code",
   "execution_count": 153,
   "id": "21774c4c",
   "metadata": {
    "ExecuteTime": {
     "end_time": "2022-01-24T15:09:51.926626Z",
     "start_time": "2022-01-24T15:09:51.924901Z"
    }
   },
   "outputs": [],
   "source": [
    "palette_nubes = ['#1a9850', '#66bd63', '#a6d96a', '#d9ef8b', '#fee08b', '#fdae61', '#f46d43', '#d73027']"
   ]
  },
  {
   "cell_type": "code",
   "execution_count": 154,
   "id": "01f59e64",
   "metadata": {
    "ExecuteTime": {
     "end_time": "2022-01-24T15:09:51.929018Z",
     "start_time": "2022-01-24T15:09:51.927360Z"
    }
   },
   "outputs": [],
   "source": [
    "resultados= [cloud_,NDVI_landsat_7]\n",
    "vis_params2=  [\n",
    "    {'palette':palette_nubes}, \n",
    "    vizParams]\n",
    "labels = [\n",
    "    'Nubes',\n",
    "    'QM NDVI']"
   ]
  },
  {
   "cell_type": "code",
   "execution_count": 155,
   "id": "2f4324dc",
   "metadata": {
    "ExecuteTime": {
     "end_time": "2022-01-24T15:09:54.539977Z",
     "start_time": "2022-01-24T15:09:51.929896Z"
    }
   },
   "outputs": [
    {
     "data": {
      "application/vnd.jupyter.widget-view+json": {
       "model_id": "95b45186466d43dab5ae0f98b1567aa8",
       "version_major": 2,
       "version_minor": 0
      },
      "text/plain": [
       "GridspecLayout(children=(Output(layout=Layout(grid_area='widget001')), Output(layout=Layout(grid_area='widget0…"
      ]
     },
     "metadata": {},
     "output_type": "display_data"
    }
   ],
   "source": [
    "geemap.linked_maps(rows=1, cols=2, height=\"400px\", center=[-45, -75], zoom=4, \n",
    "                   ee_objects=resultados, vis_params=vis_params2, labels=labels, label_position=\"topright\")"
   ]
  },
  {
   "cell_type": "code",
   "execution_count": 156,
   "id": "93ea56bf",
   "metadata": {
    "ExecuteTime": {
     "end_time": "2022-01-24T15:09:54.542546Z",
     "start_time": "2022-01-24T15:09:54.540714Z"
    }
   },
   "outputs": [],
   "source": [
    "def llenado(image):\n",
    "    return image.where(cloud_.gt(10),QM_NDVI_T1)"
   ]
  },
  {
   "cell_type": "code",
   "execution_count": 157,
   "id": "8287934f",
   "metadata": {
    "ExecuteTime": {
     "end_time": "2022-01-24T15:09:54.545061Z",
     "start_time": "2022-01-24T15:09:54.543255Z"
    }
   },
   "outputs": [],
   "source": [
    "img1 = llenado(NDVI_landsat_7)"
   ]
  },
  {
   "cell_type": "code",
   "execution_count": 158,
   "id": "0ea4ebed",
   "metadata": {
    "ExecuteTime": {
     "end_time": "2022-01-24T15:09:54.547508Z",
     "start_time": "2022-01-24T15:09:54.545884Z"
    }
   },
   "outputs": [],
   "source": [
    "img1_landsat = img1.set('SENSOR_ID', 'ETM+')\n",
    "cloud_img1 = ee.Algorithms.Landsat.simpleCloudScore(img1_landsat)\n",
    "cloud_img1 = cloud_img1.select('cloud')"
   ]
  },
  {
   "cell_type": "code",
   "execution_count": 159,
   "id": "84dbb2d4",
   "metadata": {
    "ExecuteTime": {
     "end_time": "2022-01-24T15:09:54.549838Z",
     "start_time": "2022-01-24T15:09:54.548292Z"
    }
   },
   "outputs": [],
   "source": [
    "resultados= [cloud_img1, img1]\n",
    "vis_params2=  [\n",
    "    {'palette':palette_nubes}, \n",
    "    vizParams]\n",
    "labels = [\n",
    "    'Nubes Mosaico 1',\n",
    "    'Mosaico 1']"
   ]
  },
  {
   "cell_type": "code",
   "execution_count": 160,
   "id": "f3c2a996",
   "metadata": {
    "ExecuteTime": {
     "end_time": "2022-01-24T15:09:57.725186Z",
     "start_time": "2022-01-24T15:09:54.550576Z"
    }
   },
   "outputs": [
    {
     "data": {
      "application/vnd.jupyter.widget-view+json": {
       "model_id": "410cb2f5f9f84f308adea106ebdc1adf",
       "version_major": 2,
       "version_minor": 0
      },
      "text/plain": [
       "GridspecLayout(children=(Output(layout=Layout(grid_area='widget001')), Output(layout=Layout(grid_area='widget0…"
      ]
     },
     "metadata": {},
     "output_type": "display_data"
    }
   ],
   "source": [
    "geemap.linked_maps(rows=1, cols=2, height=\"400px\", center=[-45, -75], zoom=4, \n",
    "                   ee_objects=resultados, vis_params=vis_params2, labels=labels, label_position=\"topright\")"
   ]
  },
  {
   "cell_type": "code",
   "execution_count": 161,
   "id": "9a243ac4",
   "metadata": {
    "ExecuteTime": {
     "end_time": "2022-01-24T15:09:57.727590Z",
     "start_time": "2022-01-24T15:09:57.725934Z"
    }
   },
   "outputs": [],
   "source": [
    "def llenado2(image):\n",
    "    return image.where(cloud_img1.gt(10), QM_NDVI_T2)"
   ]
  },
  {
   "cell_type": "code",
   "execution_count": 162,
   "id": "ada6d94e",
   "metadata": {
    "ExecuteTime": {
     "end_time": "2022-01-24T15:09:57.730466Z",
     "start_time": "2022-01-24T15:09:57.728217Z"
    }
   },
   "outputs": [],
   "source": [
    "img2 = llenado2(img1)"
   ]
  },
  {
   "cell_type": "code",
   "execution_count": 163,
   "id": "e3db0a52",
   "metadata": {
    "ExecuteTime": {
     "end_time": "2022-01-24T15:09:57.732974Z",
     "start_time": "2022-01-24T15:09:57.731301Z"
    }
   },
   "outputs": [],
   "source": [
    "img2_landsat = img2.set('SENSOR_ID', 'ETM+')\n",
    "cloud_img2 = ee.Algorithms.Landsat.simpleCloudScore(img2_landsat)\n",
    "cloud_img2 = cloud_img2.select('cloud')"
   ]
  },
  {
   "cell_type": "code",
   "execution_count": 164,
   "id": "42d22742",
   "metadata": {
    "ExecuteTime": {
     "end_time": "2022-01-24T15:09:57.735470Z",
     "start_time": "2022-01-24T15:09:57.733866Z"
    }
   },
   "outputs": [],
   "source": [
    "resultados= [cloud_img2, img2]\n",
    "vis_params2=  [\n",
    "    {'palette':palette_nubes}, \n",
    "    vizParams]\n",
    "labels = [\n",
    "    'Nubes Mosaico 2',\n",
    "    'Mosaico 2']"
   ]
  },
  {
   "cell_type": "code",
   "execution_count": 165,
   "id": "5bdcab8c",
   "metadata": {
    "ExecuteTime": {
     "end_time": "2022-01-24T15:10:01.118936Z",
     "start_time": "2022-01-24T15:09:57.736369Z"
    }
   },
   "outputs": [
    {
     "data": {
      "application/vnd.jupyter.widget-view+json": {
       "model_id": "3d4c36c0c2e04e78bafb6350dd4e11a5",
       "version_major": 2,
       "version_minor": 0
      },
      "text/plain": [
       "GridspecLayout(children=(Output(layout=Layout(grid_area='widget001')), Output(layout=Layout(grid_area='widget0…"
      ]
     },
     "metadata": {},
     "output_type": "display_data"
    }
   ],
   "source": [
    "geemap.linked_maps(rows=1, cols=2, height=\"400px\", center=[-45, -75], zoom=4, \n",
    "                   ee_objects=resultados, vis_params=vis_params2, labels=labels, label_position=\"topright\")"
   ]
  },
  {
   "cell_type": "code",
   "execution_count": 166,
   "id": "ca5f91e2",
   "metadata": {
    "ExecuteTime": {
     "end_time": "2022-01-24T15:10:01.121190Z",
     "start_time": "2022-01-24T15:10:01.119625Z"
    }
   },
   "outputs": [],
   "source": [
    "def llenado3(image):\n",
    "    return image.where(cloud_img2.gt(10), QM_NDVI_T3)"
   ]
  },
  {
   "cell_type": "code",
   "execution_count": 167,
   "id": "f52fddee",
   "metadata": {
    "ExecuteTime": {
     "end_time": "2022-01-24T15:10:01.124874Z",
     "start_time": "2022-01-24T15:10:01.121862Z"
    }
   },
   "outputs": [],
   "source": [
    "img3 = llenado3(img2)"
   ]
  },
  {
   "cell_type": "code",
   "execution_count": 168,
   "id": "6d41d9d0",
   "metadata": {
    "ExecuteTime": {
     "end_time": "2022-01-24T15:10:01.127318Z",
     "start_time": "2022-01-24T15:10:01.125608Z"
    }
   },
   "outputs": [],
   "source": [
    "img3_landsat = img3.set('SENSOR_ID', 'ETM+')\n",
    "cloud_img3 = ee.Algorithms.Landsat.simpleCloudScore(img3_landsat)\n",
    "cloud_img3 = cloud_img3.select('cloud')"
   ]
  },
  {
   "cell_type": "code",
   "execution_count": 169,
   "id": "3a000d62",
   "metadata": {
    "ExecuteTime": {
     "end_time": "2022-01-24T15:10:01.129749Z",
     "start_time": "2022-01-24T15:10:01.128253Z"
    }
   },
   "outputs": [],
   "source": [
    "resultados= [cloud_img3, img3]\n",
    "vis_params2=  [\n",
    "    {'palette':palette_nubes}, \n",
    "    vizParams]\n",
    "labels = [\n",
    "    'Nubes Mosaico 3',\n",
    "    'Mosaico 3']"
   ]
  },
  {
   "cell_type": "code",
   "execution_count": 170,
   "id": "bf275ed6",
   "metadata": {
    "ExecuteTime": {
     "end_time": "2022-01-24T15:10:05.230696Z",
     "start_time": "2022-01-24T15:10:01.130663Z"
    }
   },
   "outputs": [
    {
     "data": {
      "application/vnd.jupyter.widget-view+json": {
       "model_id": "72178c02d5814403acda6d0abfe6b583",
       "version_major": 2,
       "version_minor": 0
      },
      "text/plain": [
       "GridspecLayout(children=(Output(layout=Layout(grid_area='widget001')), Output(layout=Layout(grid_area='widget0…"
      ]
     },
     "metadata": {},
     "output_type": "display_data"
    }
   ],
   "source": [
    "geemap.linked_maps(rows=1, cols=2, height=\"400px\", center=[-45, -75], zoom=4, \n",
    "                   ee_objects=resultados, vis_params=vis_params2, labels=labels, label_position=\"topright\")"
   ]
  },
  {
   "cell_type": "code",
   "execution_count": 171,
   "id": "9d0daae9",
   "metadata": {
    "ExecuteTime": {
     "end_time": "2022-01-24T15:10:05.232935Z",
     "start_time": "2022-01-24T15:10:05.231437Z"
    }
   },
   "outputs": [],
   "source": [
    "def llenado4(image):\n",
    "    return image.where(cloud_img3.gt(10), QM_NDVI_T4)"
   ]
  },
  {
   "cell_type": "code",
   "execution_count": 172,
   "id": "d37f16d5",
   "metadata": {
    "ExecuteTime": {
     "end_time": "2022-01-24T15:10:05.235794Z",
     "start_time": "2022-01-24T15:10:05.233706Z"
    }
   },
   "outputs": [],
   "source": [
    "img4 = llenado4(img3)"
   ]
  },
  {
   "cell_type": "code",
   "execution_count": 173,
   "id": "540d60d8",
   "metadata": {
    "ExecuteTime": {
     "end_time": "2022-01-24T15:10:05.238271Z",
     "start_time": "2022-01-24T15:10:05.236725Z"
    }
   },
   "outputs": [],
   "source": [
    "img4_landsat = img4.set('SENSOR_ID', 'ETM+')\n",
    "cloud_img4 = ee.Algorithms.Landsat.simpleCloudScore(img4_landsat)\n",
    "cloud_img4 = cloud_img4.select('cloud')"
   ]
  },
  {
   "cell_type": "code",
   "execution_count": 174,
   "id": "3f0e9719",
   "metadata": {
    "ExecuteTime": {
     "end_time": "2022-01-24T15:10:05.240792Z",
     "start_time": "2022-01-24T15:10:05.239153Z"
    }
   },
   "outputs": [],
   "source": [
    "resultados= [cloud_img4, img4]\n",
    "vis_params2=  [\n",
    "    {'palette':palette_nubes}, \n",
    "    vizParams]\n",
    "labels = [\n",
    "    'Nubes Mosaico 4',\n",
    "    'Mosaico 4']"
   ]
  },
  {
   "cell_type": "code",
   "execution_count": 175,
   "id": "41d9a7b8",
   "metadata": {
    "ExecuteTime": {
     "end_time": "2022-01-24T15:10:09.245672Z",
     "start_time": "2022-01-24T15:10:05.241567Z"
    }
   },
   "outputs": [
    {
     "data": {
      "application/vnd.jupyter.widget-view+json": {
       "model_id": "ae4e2def5c7247a0abe2ee119fba2470",
       "version_major": 2,
       "version_minor": 0
      },
      "text/plain": [
       "GridspecLayout(children=(Output(layout=Layout(grid_area='widget001')), Output(layout=Layout(grid_area='widget0…"
      ]
     },
     "metadata": {},
     "output_type": "display_data"
    }
   ],
   "source": [
    "geemap.linked_maps(rows=1, cols=2, height=\"400px\", center=[-45, -75], zoom=4, \n",
    "                   ee_objects=resultados, vis_params=vis_params2, labels=labels, label_position=\"topright\")"
   ]
  },
  {
   "cell_type": "code",
   "execution_count": 176,
   "id": "eb9d6a80",
   "metadata": {
    "ExecuteTime": {
     "end_time": "2022-01-24T15:10:09.248099Z",
     "start_time": "2022-01-24T15:10:09.246395Z"
    }
   },
   "outputs": [],
   "source": [
    "hansenImage = ee.Image('UMD/hansen/global_forest_change_2015')\n",
    "datamask = hansenImage.select('datamask')"
   ]
  },
  {
   "cell_type": "code",
   "execution_count": 177,
   "id": "dc42098d",
   "metadata": {
    "ExecuteTime": {
     "end_time": "2022-01-24T15:10:09.251106Z",
     "start_time": "2022-01-24T15:10:09.248810Z"
    }
   },
   "outputs": [],
   "source": [
    "def llenado5(image):\n",
    "    return image.where(datamask.eq(2), QM_NDWI_T1)"
   ]
  },
  {
   "cell_type": "code",
   "execution_count": 178,
   "id": "d494173a",
   "metadata": {
    "ExecuteTime": {
     "end_time": "2022-01-24T15:10:09.253466Z",
     "start_time": "2022-01-24T15:10:09.251957Z"
    }
   },
   "outputs": [],
   "source": [
    "img5 = llenado5(img4)"
   ]
  },
  {
   "cell_type": "code",
   "execution_count": 179,
   "id": "45546a04",
   "metadata": {
    "ExecuteTime": {
     "end_time": "2022-01-24T15:10:09.255831Z",
     "start_time": "2022-01-24T15:10:09.254227Z"
    }
   },
   "outputs": [],
   "source": [
    "resultados= [img4, img5]\n",
    "labels = [\n",
    "    'Mosaico 4',\n",
    "    'Mosaico 5']\n",
    "vis_params3=  [\n",
    "     vizParams, \n",
    "    vizParams]"
   ]
  },
  {
   "cell_type": "code",
   "execution_count": 180,
   "id": "e59d0286",
   "metadata": {
    "ExecuteTime": {
     "end_time": "2022-01-24T15:10:12.738531Z",
     "start_time": "2022-01-24T15:10:09.256821Z"
    }
   },
   "outputs": [
    {
     "data": {
      "application/vnd.jupyter.widget-view+json": {
       "model_id": "114b5944ee534d2c9bde37baab6a52a9",
       "version_major": 2,
       "version_minor": 0
      },
      "text/plain": [
       "GridspecLayout(children=(Output(layout=Layout(grid_area='widget001')), Output(layout=Layout(grid_area='widget0…"
      ]
     },
     "metadata": {},
     "output_type": "display_data"
    }
   ],
   "source": [
    "geemap.linked_maps(rows=1, cols=2, height=\"400px\", center=[-45, -75], zoom=4, \n",
    "                   ee_objects=resultados, vis_params=vis_params3, labels=labels, label_position=\"topright\")"
   ]
  },
  {
   "cell_type": "code",
   "execution_count": 181,
   "id": "b5709218",
   "metadata": {
    "ExecuteTime": {
     "end_time": "2022-01-24T15:10:16.276237Z",
     "start_time": "2022-01-24T15:10:12.739253Z"
    }
   },
   "outputs": [
    {
     "data": {
      "application/vnd.jupyter.widget-view+json": {
       "model_id": "1c9d27f6bae440518b6c84d613913ba0",
       "version_major": 2,
       "version_minor": 0
      },
      "text/plain": [
       "Map(center=[-45, -70], controls=(WidgetControl(options=['position', 'transparent_bg'], widget=HBox(children=(T…"
      ]
     },
     "metadata": {},
     "output_type": "display_data"
    }
   ],
   "source": [
    "Map10.addLayer(img4, vizParams, 'Mosaico 4')\n",
    "Map10.addLayer(img5, vizParams, 'Mosaico 5')\n",
    "Map10"
   ]
  },
  {
   "cell_type": "markdown",
   "id": "4ad82149",
   "metadata": {},
   "source": [
    "## Generación Mosaico L5"
   ]
  },
  {
   "cell_type": "code",
   "execution_count": 182,
   "id": "bf2cadb4",
   "metadata": {
    "ExecuteTime": {
     "end_time": "2022-01-24T15:10:16.278441Z",
     "start_time": "2022-01-24T15:10:16.277042Z"
    }
   },
   "outputs": [],
   "source": [
    "# mosaic_landsat = coleccion2007.median()"
   ]
  },
  {
   "cell_type": "code",
   "execution_count": 183,
   "id": "8b8bb7ac",
   "metadata": {
    "ExecuteTime": {
     "end_time": "2022-01-24T15:10:16.280769Z",
     "start_time": "2022-01-24T15:10:16.279348Z"
    }
   },
   "outputs": [],
   "source": [
    "mosaic_landsat = T4_median.set('SENSOR_ID', 'OLI_TIRS')"
   ]
  },
  {
   "cell_type": "code",
   "execution_count": 184,
   "id": "d6c348a7",
   "metadata": {
    "ExecuteTime": {
     "end_time": "2022-01-24T15:10:16.282992Z",
     "start_time": "2022-01-24T15:10:16.281602Z"
    }
   },
   "outputs": [],
   "source": [
    "cloud_mosaic = ee.Algorithms.Landsat.simpleCloudScore(mosaic_landsat)"
   ]
  },
  {
   "cell_type": "code",
   "execution_count": 185,
   "id": "687ec51e",
   "metadata": {
    "ExecuteTime": {
     "end_time": "2022-01-24T15:10:16.285327Z",
     "start_time": "2022-01-24T15:10:16.283902Z"
    }
   },
   "outputs": [],
   "source": [
    "cloud_mosaic = cloud_mosaic.select('cloud')"
   ]
  },
  {
   "cell_type": "code",
   "execution_count": 186,
   "id": "3079ca3c",
   "metadata": {
    "ExecuteTime": {
     "end_time": "2022-01-24T15:10:16.287577Z",
     "start_time": "2022-01-24T15:10:16.286197Z"
    }
   },
   "outputs": [],
   "source": [
    "palette_nubes = ['#1a9850', '#66bd63', '#a6d96a', '#d9ef8b', '#fee08b', '#fdae61', '#f46d43', '#d73027']"
   ]
  },
  {
   "cell_type": "code",
   "execution_count": 187,
   "id": "129a6537",
   "metadata": {
    "ExecuteTime": {
     "end_time": "2022-01-24T15:10:16.290268Z",
     "start_time": "2022-01-24T15:10:16.288425Z"
    }
   },
   "outputs": [],
   "source": [
    "resultados= [cloud_mosaic, T4_median]\n",
    "vis_params2=  [\n",
    "    {'palette':palette_nubes}, \n",
    "    vizParams]\n",
    "labels = [\n",
    "    'Nubes mosaico',\n",
    "    'mosaico inicial']"
   ]
  },
  {
   "cell_type": "code",
   "execution_count": 188,
   "id": "4168c896",
   "metadata": {
    "ExecuteTime": {
     "end_time": "2022-01-24T15:10:18.414096Z",
     "start_time": "2022-01-24T15:10:16.290984Z"
    }
   },
   "outputs": [
    {
     "data": {
      "application/vnd.jupyter.widget-view+json": {
       "model_id": "88ce206d1b844fb6b58a02c36e99462d",
       "version_major": 2,
       "version_minor": 0
      },
      "text/plain": [
       "GridspecLayout(children=(Output(layout=Layout(grid_area='widget001')), Output(layout=Layout(grid_area='widget0…"
      ]
     },
     "metadata": {},
     "output_type": "display_data"
    }
   ],
   "source": [
    "geemap.linked_maps(rows=1, cols=2, height=\"400px\", center=[-45, -75], zoom=4, \n",
    "                   ee_objects=resultados, vis_params=vis_params2, labels=labels, label_position=\"topright\")"
   ]
  },
  {
   "cell_type": "code",
   "execution_count": 189,
   "id": "137377f9",
   "metadata": {
    "ExecuteTime": {
     "end_time": "2022-01-24T15:10:18.416481Z",
     "start_time": "2022-01-24T15:10:18.414832Z"
    }
   },
   "outputs": [],
   "source": [
    "def llenado(image):\n",
    "    return image.where(cloud_mosaic.gt(10),T_median)"
   ]
  },
  {
   "cell_type": "code",
   "execution_count": 190,
   "id": "c047da1b",
   "metadata": {
    "ExecuteTime": {
     "end_time": "2022-01-24T15:10:18.419284Z",
     "start_time": "2022-01-24T15:10:18.417152Z"
    }
   },
   "outputs": [],
   "source": [
    "img1 = llenado(T4_median)"
   ]
  },
  {
   "cell_type": "code",
   "execution_count": 191,
   "id": "d5d3e2d4",
   "metadata": {
    "ExecuteTime": {
     "end_time": "2022-01-24T15:10:18.421777Z",
     "start_time": "2022-01-24T15:10:18.420215Z"
    }
   },
   "outputs": [],
   "source": [
    "img1_landsat = img1.set('SENSOR_ID', 'OLI_TIRS')\n",
    "cloud_img1 = ee.Algorithms.Landsat.simpleCloudScore(img1_landsat)\n",
    "cloud_img1 = cloud_img1.select('cloud')"
   ]
  },
  {
   "cell_type": "code",
   "execution_count": 192,
   "id": "6cfb436c",
   "metadata": {
    "ExecuteTime": {
     "end_time": "2022-01-24T15:10:18.424336Z",
     "start_time": "2022-01-24T15:10:18.422675Z"
    }
   },
   "outputs": [],
   "source": [
    "resultados= [cloud_img1, img1]\n",
    "vis_params2=  [\n",
    "    {'palette':palette_nubes}, \n",
    "    vizParams]\n",
    "labels = [\n",
    "    'Nubes Mosaico 1',\n",
    "    'Mosaico 1']"
   ]
  },
  {
   "cell_type": "code",
   "execution_count": 193,
   "id": "291bba3f",
   "metadata": {
    "ExecuteTime": {
     "end_time": "2022-01-24T15:10:20.722853Z",
     "start_time": "2022-01-24T15:10:18.425079Z"
    }
   },
   "outputs": [
    {
     "data": {
      "application/vnd.jupyter.widget-view+json": {
       "model_id": "2e34a9ba4a464b8cb2dee4d911c29c73",
       "version_major": 2,
       "version_minor": 0
      },
      "text/plain": [
       "GridspecLayout(children=(Output(layout=Layout(grid_area='widget001')), Output(layout=Layout(grid_area='widget0…"
      ]
     },
     "metadata": {},
     "output_type": "display_data"
    }
   ],
   "source": [
    "geemap.linked_maps(rows=1, cols=2, height=\"400px\", center=[-45, -75], zoom=4, \n",
    "                   ee_objects=resultados, vis_params=vis_params2, labels=labels, label_position=\"topright\")"
   ]
  },
  {
   "cell_type": "code",
   "execution_count": 194,
   "id": "a3ddf544",
   "metadata": {
    "ExecuteTime": {
     "end_time": "2022-01-24T15:10:20.725309Z",
     "start_time": "2022-01-24T15:10:20.723559Z"
    }
   },
   "outputs": [],
   "source": [
    "def llenado2(image):\n",
    "    return image.where(cloud_img1.gt(10), T2_median)"
   ]
  },
  {
   "cell_type": "code",
   "execution_count": 195,
   "id": "98a13516",
   "metadata": {
    "ExecuteTime": {
     "end_time": "2022-01-24T15:10:20.727586Z",
     "start_time": "2022-01-24T15:10:20.726100Z"
    }
   },
   "outputs": [],
   "source": [
    "img2 = llenado2(img1)"
   ]
  },
  {
   "cell_type": "code",
   "execution_count": 196,
   "id": "3934042b",
   "metadata": {
    "ExecuteTime": {
     "end_time": "2022-01-24T15:10:20.730122Z",
     "start_time": "2022-01-24T15:10:20.728464Z"
    }
   },
   "outputs": [],
   "source": [
    "img2_landsat = img2.set('SENSOR_ID', 'OLI_TIRS')\n",
    "cloud_img2 = ee.Algorithms.Landsat.simpleCloudScore(img2_landsat)\n",
    "cloud_img2 = cloud_img2.select('cloud')"
   ]
  },
  {
   "cell_type": "code",
   "execution_count": 197,
   "id": "4de67148",
   "metadata": {
    "ExecuteTime": {
     "end_time": "2022-01-24T15:10:20.732655Z",
     "start_time": "2022-01-24T15:10:20.731064Z"
    }
   },
   "outputs": [],
   "source": [
    "resultados= [cloud_img2, img2]\n",
    "vis_params2=  [\n",
    "    {'palette':palette_nubes}, \n",
    "    vizParams]\n",
    "labels = [\n",
    "    'Nubes Mosaico 2',\n",
    "    'Mosaico 2']"
   ]
  },
  {
   "cell_type": "code",
   "execution_count": 198,
   "id": "61d0f16b",
   "metadata": {
    "ExecuteTime": {
     "end_time": "2022-01-24T15:10:23.048399Z",
     "start_time": "2022-01-24T15:10:20.733462Z"
    }
   },
   "outputs": [
    {
     "data": {
      "application/vnd.jupyter.widget-view+json": {
       "model_id": "8aac379976df4a868930f5e1ffb25037",
       "version_major": 2,
       "version_minor": 0
      },
      "text/plain": [
       "GridspecLayout(children=(Output(layout=Layout(grid_area='widget001')), Output(layout=Layout(grid_area='widget0…"
      ]
     },
     "metadata": {},
     "output_type": "display_data"
    }
   ],
   "source": [
    "geemap.linked_maps(rows=1, cols=2, height=\"400px\", center=[-45, -75], zoom=4, \n",
    "                   ee_objects=resultados, vis_params=vis_params2, labels=labels, label_position=\"topright\")"
   ]
  },
  {
   "cell_type": "code",
   "execution_count": 199,
   "id": "4297c4a7",
   "metadata": {
    "ExecuteTime": {
     "end_time": "2022-01-24T15:10:23.050683Z",
     "start_time": "2022-01-24T15:10:23.049129Z"
    }
   },
   "outputs": [],
   "source": [
    "def llenado3(image):\n",
    "    return image.where(cloud_img2.gt(10), T3_median)"
   ]
  },
  {
   "cell_type": "code",
   "execution_count": 200,
   "id": "5db0ac27",
   "metadata": {
    "ExecuteTime": {
     "end_time": "2022-01-24T15:10:23.053694Z",
     "start_time": "2022-01-24T15:10:23.051339Z"
    }
   },
   "outputs": [],
   "source": [
    "img3 = llenado3(img2)"
   ]
  },
  {
   "cell_type": "code",
   "execution_count": 201,
   "id": "9f5eaef5",
   "metadata": {
    "ExecuteTime": {
     "end_time": "2022-01-24T15:10:23.056405Z",
     "start_time": "2022-01-24T15:10:23.054648Z"
    }
   },
   "outputs": [],
   "source": [
    "img3_landsat = img3.set('SENSOR_ID', 'OLI_TIRS')\n",
    "cloud_img3 = ee.Algorithms.Landsat.simpleCloudScore(img3_landsat)\n",
    "cloud_img3 = cloud_img3.select('cloud')"
   ]
  },
  {
   "cell_type": "code",
   "execution_count": 202,
   "id": "f502e3e1",
   "metadata": {
    "ExecuteTime": {
     "end_time": "2022-01-24T15:10:23.058813Z",
     "start_time": "2022-01-24T15:10:23.057318Z"
    }
   },
   "outputs": [],
   "source": [
    "resultados= [cloud_img3, img3]\n",
    "vis_params2=  [\n",
    "    {'palette':palette_nubes}, \n",
    "    vizParams]\n",
    "labels = [\n",
    "    'Nubes Mosaico 3',\n",
    "    'Mosaico 3']"
   ]
  },
  {
   "cell_type": "code",
   "execution_count": 203,
   "id": "a6b02f45",
   "metadata": {
    "ExecuteTime": {
     "end_time": "2022-01-24T15:10:25.639955Z",
     "start_time": "2022-01-24T15:10:23.059750Z"
    }
   },
   "outputs": [
    {
     "data": {
      "application/vnd.jupyter.widget-view+json": {
       "model_id": "f3fc6fc5fcc84eff99deb1e940f616aa",
       "version_major": 2,
       "version_minor": 0
      },
      "text/plain": [
       "GridspecLayout(children=(Output(layout=Layout(grid_area='widget001')), Output(layout=Layout(grid_area='widget0…"
      ]
     },
     "metadata": {},
     "output_type": "display_data"
    }
   ],
   "source": [
    "geemap.linked_maps(rows=1, cols=2, height=\"400px\", center=[-45, -75], zoom=4, \n",
    "                   ee_objects=resultados, vis_params=vis_params2, labels=labels, label_position=\"topright\")"
   ]
  },
  {
   "cell_type": "code",
   "execution_count": 204,
   "id": "86e87b44",
   "metadata": {
    "ExecuteTime": {
     "end_time": "2022-01-24T15:10:25.642198Z",
     "start_time": "2022-01-24T15:10:25.640670Z"
    }
   },
   "outputs": [],
   "source": [
    "def llenado4(image):\n",
    "    return image.where(cloud_img3.gt(10), T4_median)"
   ]
  },
  {
   "cell_type": "code",
   "execution_count": 205,
   "id": "3d5a46a4",
   "metadata": {
    "ExecuteTime": {
     "end_time": "2022-01-24T15:10:25.645023Z",
     "start_time": "2022-01-24T15:10:25.642961Z"
    }
   },
   "outputs": [],
   "source": [
    "img4 = llenado4(img3)"
   ]
  },
  {
   "cell_type": "code",
   "execution_count": 206,
   "id": "299e31f9",
   "metadata": {
    "ExecuteTime": {
     "end_time": "2022-01-24T15:10:25.647506Z",
     "start_time": "2022-01-24T15:10:25.645969Z"
    }
   },
   "outputs": [],
   "source": [
    "img4_landsat = img4.set('SENSOR_ID', 'OLI_TIRS')\n",
    "cloud_img4 = ee.Algorithms.Landsat.simpleCloudScore(img4_landsat)\n",
    "cloud_img4 = cloud_img4.select('cloud')"
   ]
  },
  {
   "cell_type": "code",
   "execution_count": 207,
   "id": "57298140",
   "metadata": {
    "ExecuteTime": {
     "end_time": "2022-01-24T15:10:25.649916Z",
     "start_time": "2022-01-24T15:10:25.648312Z"
    }
   },
   "outputs": [],
   "source": [
    "resultados= [cloud_img4, img4]\n",
    "vis_params2=  [\n",
    "    {'palette':palette_nubes}, \n",
    "    vizParams]\n",
    "labels = [\n",
    "    'Nubes Mosaico 4',\n",
    "    'Mosaico 4']"
   ]
  },
  {
   "cell_type": "code",
   "execution_count": 208,
   "id": "f0a51d8a",
   "metadata": {
    "ExecuteTime": {
     "end_time": "2022-01-24T15:10:28.307653Z",
     "start_time": "2022-01-24T15:10:25.650710Z"
    }
   },
   "outputs": [
    {
     "data": {
      "application/vnd.jupyter.widget-view+json": {
       "model_id": "cecd432c39a14be49755d92424835cc5",
       "version_major": 2,
       "version_minor": 0
      },
      "text/plain": [
       "GridspecLayout(children=(Output(layout=Layout(grid_area='widget001')), Output(layout=Layout(grid_area='widget0…"
      ]
     },
     "metadata": {},
     "output_type": "display_data"
    }
   ],
   "source": [
    "geemap.linked_maps(rows=1, cols=2, height=\"400px\", center=[-45, -75], zoom=4, \n",
    "                   ee_objects=resultados, vis_params=vis_params2, labels=labels, label_position=\"topright\")"
   ]
  },
  {
   "cell_type": "code",
   "execution_count": 209,
   "id": "6f5efe7b",
   "metadata": {
    "ExecuteTime": {
     "end_time": "2022-01-24T15:10:28.310058Z",
     "start_time": "2022-01-24T15:10:28.308372Z"
    }
   },
   "outputs": [],
   "source": [
    "hansenImage = ee.Image('UMD/hansen/global_forest_change_2015')\n",
    "datamask = hansenImage.select('datamask')"
   ]
  },
  {
   "cell_type": "code",
   "execution_count": 210,
   "id": "f33d1fe7",
   "metadata": {
    "ExecuteTime": {
     "end_time": "2022-01-24T15:10:28.312547Z",
     "start_time": "2022-01-24T15:10:28.310840Z"
    }
   },
   "outputs": [],
   "source": [
    "def llenado5(image):\n",
    "    return image.where(datamask.eq(2), QM_NDWI_T1_l5)"
   ]
  },
  {
   "cell_type": "code",
   "execution_count": 211,
   "id": "a04a6bc4",
   "metadata": {
    "ExecuteTime": {
     "end_time": "2022-01-24T15:10:28.314713Z",
     "start_time": "2022-01-24T15:10:28.313230Z"
    }
   },
   "outputs": [],
   "source": [
    "img5 = llenado5(img4)"
   ]
  },
  {
   "cell_type": "code",
   "execution_count": 212,
   "id": "86957e48",
   "metadata": {
    "ExecuteTime": {
     "end_time": "2022-01-24T15:10:28.317531Z",
     "start_time": "2022-01-24T15:10:28.315530Z"
    }
   },
   "outputs": [],
   "source": [
    "img5_landsat = img5.set('SENSOR_ID', 'OLI_TIRS')\n",
    "cloud_img5 = ee.Algorithms.Landsat.simpleCloudScore(img5_landsat)\n",
    "cloud_img5 = cloud_img5.select('cloud')"
   ]
  },
  {
   "cell_type": "code",
   "execution_count": 213,
   "id": "572220e7",
   "metadata": {
    "ExecuteTime": {
     "end_time": "2022-01-24T15:10:28.319931Z",
     "start_time": "2022-01-24T15:10:28.318464Z"
    }
   },
   "outputs": [],
   "source": [
    "resultados= [img4, img5]\n",
    "labels = [\n",
    "    'Mosaico 4',\n",
    "    'Mosaico 5']\n",
    "vis_params3=  [\n",
    "     vizParams, \n",
    "    vizParams]"
   ]
  },
  {
   "cell_type": "code",
   "execution_count": 214,
   "id": "59baffa8",
   "metadata": {
    "ExecuteTime": {
     "end_time": "2022-01-24T15:10:30.888420Z",
     "start_time": "2022-01-24T15:10:28.320856Z"
    }
   },
   "outputs": [
    {
     "data": {
      "application/vnd.jupyter.widget-view+json": {
       "model_id": "1c9d27f6bae440518b6c84d613913ba0",
       "version_major": 2,
       "version_minor": 0
      },
      "text/plain": [
       "Map(center=[-45, -70], controls=(WidgetControl(options=['position', 'transparent_bg'], widget=HBox(children=(T…"
      ]
     },
     "metadata": {},
     "output_type": "display_data"
    }
   ],
   "source": [
    "Map10.addLayer(img4, vizParams, 'Mosaico 4')\n",
    "Map10.addLayer(img5, vizParams, 'Mosaico 5')\n",
    "Map10"
   ]
  },
  {
   "cell_type": "code",
   "execution_count": 215,
   "id": "024f7ec4",
   "metadata": {
    "ExecuteTime": {
     "end_time": "2022-01-24T15:10:30.890839Z",
     "start_time": "2022-01-24T15:10:30.889261Z"
    }
   },
   "outputs": [],
   "source": [
    "img5_b = img5.select(['B1','B2','B3','B4','B5','B6','B7'])"
   ]
  },
  {
   "cell_type": "code",
   "execution_count": 216,
   "id": "f83b9a88",
   "metadata": {
    "ExecuteTime": {
     "end_time": "2022-01-24T15:10:31.189826Z",
     "start_time": "2022-01-24T15:10:30.891516Z"
    }
   },
   "outputs": [],
   "source": [
    "molde = os.path.join(work_dir, 'molde.shp')\n",
    "molde_grande = geemap.shp_to_ee(molde)"
   ]
  },
  {
   "cell_type": "code",
   "execution_count": 217,
   "id": "bc076138",
   "metadata": {
    "ExecuteTime": {
     "end_time": "2022-01-24T15:10:31.192823Z",
     "start_time": "2022-01-24T15:10:31.190638Z"
    }
   },
   "outputs": [],
   "source": [
    "# img5_b_c = img5_b.clip(molde_grande).unmask()"
   ]
  },
  {
   "cell_type": "markdown",
   "id": "7699eb14",
   "metadata": {},
   "source": [
    "## Exportación"
   ]
  },
  {
   "cell_type": "code",
   "execution_count": 218,
   "id": "b15d8ed8",
   "metadata": {
    "ExecuteTime": {
     "end_time": "2022-01-24T15:10:31.195333Z",
     "start_time": "2022-01-24T15:10:31.193677Z"
    }
   },
   "outputs": [],
   "source": [
    "img4_b = img4.select(['B1','B2','B3','B4','B5','B6','B7'])"
   ]
  },
  {
   "cell_type": "code",
   "execution_count": 219,
   "id": "3cd9a1ef",
   "metadata": {
    "ExecuteTime": {
     "end_time": "2022-01-24T15:10:33.647189Z",
     "start_time": "2022-01-24T15:10:31.196376Z"
    }
   },
   "outputs": [],
   "source": [
    "partes_1 = os.path.join(work_dir, '1.shp')\n",
    "partes1 = geemap.shp_to_ee(partes_1)\n",
    "\n",
    "partes_2 = os.path.join(work_dir, '2.shp')\n",
    "partes2 = geemap.shp_to_ee(partes_2)\n",
    "\n",
    "partes_3 = os.path.join(work_dir, '3.shp')\n",
    "partes3 = geemap.shp_to_ee(partes_3)\n",
    "\n",
    "partes_4 = os.path.join(work_dir, '4.shp')\n",
    "partes4 = geemap.shp_to_ee(partes_4)\n",
    "\n",
    "partes_5 = os.path.join(work_dir, '5.shp')\n",
    "partes5 = geemap.shp_to_ee(partes_5)\n",
    "\n",
    "partes_6 = os.path.join(work_dir, '6.shp')\n",
    "partes6 = geemap.shp_to_ee(partes_6)\n",
    "\n",
    "partes_7 = os.path.join(work_dir, '7.shp')\n",
    "partes7 = geemap.shp_to_ee(partes_7)\n",
    "\n",
    "partes_8 = os.path.join(work_dir, '8.shp')\n",
    "partes8 = geemap.shp_to_ee(partes_8)"
   ]
  },
  {
   "cell_type": "code",
   "execution_count": 220,
   "id": "498b7180",
   "metadata": {
    "ExecuteTime": {
     "end_time": "2022-01-24T15:10:33.650181Z",
     "start_time": "2022-01-24T15:10:33.647987Z"
    }
   },
   "outputs": [],
   "source": [
    "# reproj = img5_b \\\n",
    "#     .reproject(crs='EPSG:32719',scale = 30)"
   ]
  },
  {
   "cell_type": "code",
   "execution_count": 221,
   "id": "5941fced",
   "metadata": {
    "ExecuteTime": {
     "end_time": "2022-01-24T15:10:33.658748Z",
     "start_time": "2022-01-24T15:10:33.650942Z"
    }
   },
   "outputs": [],
   "source": [
    "geometry_exp = ee.Geometry.Polygon(\n",
    "        [[[-72.56281773604495, -33.81999514196144],\n",
    "          [-72.96381871260745, -35.294382843203024],\n",
    "          [-73.27692906416995, -35.25850698608905],\n",
    "          [-74.15583531416995, -38.13757615203617],\n",
    "          [-73.96357457198245, -38.16349478321529],\n",
    "          [-74.41603250978783, -39.59214901926122],\n",
    "          [-73.71840067385033, -39.70212049569608],\n",
    "          [-74.48057965994737, -41.961233926702086],\n",
    "          [-76.23199334221133, -46.599308425949715],\n",
    "          [-75.71838250236758, -46.6705186900265],\n",
    "          [-76.31583416780423, -48.08335993023956],\n",
    "          [-75.6739504332226, -48.17601084778724],\n",
    "          [-76.1812028986966, -49.3089458997328],\n",
    "          [-75.8516130549466, -49.35190435466257],\n",
    "          [-75.88182545729035, -49.42252520588146],\n",
    "          [-75.62776661939972, -49.4593908439046],\n",
    "          [-75.87838309772656, -50.0286830263256],\n",
    "          [-75.4746355391328, -50.08951678614621],\n",
    "          [-75.54325576346766, -50.23909657453096],\n",
    "          [-75.77780697097086, -50.76007049594944],\n",
    "          [-75.16119930495523, -50.84458853545005],\n",
    "          [-75.38504574050211, -51.344039508567974],\n",
    "          [-75.5541538866841, -51.71140521484993],\n",
    "          [-75.18336531246536, -51.75648162278235],\n",
    "          [-75.47788882049618, -52.3659753295982],\n",
    "          [-74.75894718310815, -52.46884703800526],\n",
    "          [-75.08565455837835, -53.06208069103826],\n",
    "          [-74.55801479059262, -53.126414996444055],\n",
    "          [-74.81690883977036, -53.6371915734125],\n",
    "          [-73.44408000172288, -53.83741753537409],\n",
    "          [-73.50862467945726, -53.95798563315933],\n",
    "          [-73.45231974781663, -53.967680681913386],\n",
    "          [-73.53197062672288, -54.11766576333605],\n",
    "          [-73.77219189508037, -54.57485104154676],\n",
    "          [-72.34049166499341, -54.77775087176573],\n",
    "          [-72.47759402717024, -55.03231503944354],\n",
    "          [-71.05285526571967, -55.24340674895388],\n",
    "          [-71.08306766806342, -55.29113504937561],\n",
    "          [-69.81960741798575, -55.47109132991434],\n",
    "          [-69.85119311134513, -55.51932330880519],\n",
    "          [-69.68227831642325, -55.544194128455445],\n",
    "          [-69.79214159767325, -55.75341614311607],\n",
    "          [-66.85410518726452, -56.21137383375629],\n",
    "          [-66.30968752348785, -55.25322454720416],\n",
    "          [-65.44176760161285, -55.378260612328376],\n",
    "          [-65.29222191220039, -55.084940556988364],\n",
    "          [-63.8145607793879, -55.29503930747886],\n",
    "          [-63.4410256231379, -54.559610949790994],\n",
    "          [-66.01731956845039, -54.18844646199444],\n",
    "          [-65.92942894345039, -53.97576673331468],\n",
    "          [-67.35765159970039, -53.77173637481835],\n",
    "          [-66.83490788218774, -52.56216102836118],\n",
    "          [-68.29059635875024, -52.351280557744616],\n",
    "          [-67.13664467133525, -49.5665018755825],\n",
    "          [-65.6891959408665, -49.77447361491692],\n",
    "          [-64.6040407061826, -46.886773053508534],\n",
    "          [-66.07346209290135, -46.670468623465915],\n",
    "          [-65.60651222417681, -45.29237148760689],\n",
    "          [-64.13159767339556, -45.51413819831776],\n",
    "          [-63.11762183127383, -42.44210625114028],\n",
    "          [-61.64820044455508, -42.65254570178212],\n",
    "          [-60.691700635610566, -39.58656313087865],\n",
    "          [-60.612049756704316, -39.597145764356114],\n",
    "          [-60.214053037778356, -38.26345264755797],\n",
    "          [-62.338430585556544, -37.86345563921212],\n",
    "          [-62.431814374619044, -38.13616213643378],\n",
    "          [-63.880475463562526, -37.8656239671591],\n",
    "          [-63.965619506531276, -38.12752037872568],\n",
    "          [-65.43863114657343, -37.86678770192114],\n",
    "          [-65.52652177157343, -38.12867996539086],\n",
    "          [-66.31753739657343, -37.98811028708228],\n",
    "          [-65.98609312949165, -36.82548737245019],\n",
    "          [-68.06866521074468, -36.43149799324939],\n",
    "          [-68.16204899980718, -36.70723234878123],\n",
    "          [-69.00250310136968, -36.55294237984414],\n",
    "          [-68.66838285254276, -35.38834808765389],\n",
    "          [-70.73190167990279, -35.008946233837705],\n",
    "          [-70.82528546896529, -35.29190694633577],\n",
    "          [-71.68771222677779, -35.11685679848462],\n",
    "          [-71.37460187521529, -33.95679291780399],\n",
    "          [-72.53365949240279, -33.733238932504804]]])"
   ]
  },
  {
   "cell_type": "code",
   "execution_count": 222,
   "id": "ddce81f7",
   "metadata": {
    "ExecuteTime": {
     "end_time": "2022-01-24T15:10:35.025379Z",
     "start_time": "2022-01-24T15:10:33.659733Z"
    }
   },
   "outputs": [
    {
     "data": {
      "text/plain": [
       "['B1',\n",
       " 'B2',\n",
       " 'B3',\n",
       " 'B4',\n",
       " 'B5',\n",
       " 'B6',\n",
       " 'B7',\n",
       " 'BQA',\n",
       " 'B11',\n",
       " 'NDWI',\n",
       " 'NDGI',\n",
       " 'SAVI',\n",
       " 'NDSI',\n",
       " 'date',\n",
       " 'nube']"
      ]
     },
     "execution_count": 222,
     "metadata": {},
     "output_type": "execute_result"
    }
   ],
   "source": [
    "img5.bandNames().getInfo()"
   ]
  },
  {
   "cell_type": "code",
   "execution_count": 223,
   "id": "5879a2a6",
   "metadata": {
    "ExecuteTime": {
     "end_time": "2022-01-24T15:10:35.028359Z",
     "start_time": "2022-01-24T15:10:35.026237Z"
    }
   },
   "outputs": [],
   "source": [
    "img5_B1 = img5.select(\"B1\")\n",
    "img5_B2 = img5.select(\"B2\")\n",
    "img5_B3 = img5.select(\"B3\")\n",
    "img5_B4 = img5.select(\"B4\")\n",
    "img5_B5 = img5.select(\"B5\")\n",
    "img5_B6 = img5.select(\"B6\")\n",
    "img5_B7 = img5.select(\"B7\")"
   ]
  },
  {
   "cell_type": "code",
   "execution_count": 224,
   "id": "3f5de711",
   "metadata": {
    "ExecuteTime": {
     "end_time": "2022-01-24T15:10:35.034996Z",
     "start_time": "2022-01-24T15:10:35.029014Z"
    }
   },
   "outputs": [],
   "source": [
    "task1 = ee.batch.Export.image.toDrive(**{\n",
    "    'image': img5_B1,\n",
    "    'description':'B1',\n",
    "    'folder':'exp2021_19s_full',\n",
    "    'region': geometry_exp.bounds(),\n",
    "    'scale':30,\n",
    "    'crsTransform':[30, 0, 214185, 0, -30, -4825185], \n",
    "    'crs':'EPSG:32719',\n",
    "    'maxPixels':1e13\n",
    "})\n",
    "task2 = ee.batch.Export.image.toDrive(**{\n",
    "    'image': img5_B2,\n",
    "    'description':'B2',\n",
    "    'folder':'exp2021_19s_full',\n",
    "    'region': geometry_exp.bounds(),\n",
    "    'scale':30,\n",
    "    'crsTransform':[30, 0, 214185, 0, -30, -4825185], \n",
    "    'crs':'EPSG:32719',\n",
    "    'maxPixels':1e13\n",
    "})\n",
    "task3 = ee.batch.Export.image.toDrive(**{\n",
    "    'image': img5_B3,\n",
    "    'description':'B3',\n",
    "    'folder':'exp2021_19s_full',\n",
    "    'region': geometry_exp.bounds(),\n",
    "    'scale':30,\n",
    "    'crsTransform':[30, 0, 214185, 0, -30, -4825185], \n",
    "    'crs':'EPSG:32719',\n",
    "    'maxPixels':1e13\n",
    "})\n",
    "task4 = ee.batch.Export.image.toDrive(**{\n",
    "    'image': img5_B4,\n",
    "    'description':'B4',\n",
    "    'folder':'exp2021_19s_full',\n",
    "    'region': geometry_exp.bounds(),\n",
    "    'scale':30,\n",
    "    'crsTransform':[30, 0, 214185, 0, -30, -4825185], \n",
    "    'crs':'EPSG:32719',\n",
    "    'maxPixels':1e13\n",
    "})\n",
    "task5 = ee.batch.Export.image.toDrive(**{\n",
    "    'image': img5_B5,\n",
    "    'description':'B5',\n",
    "    'folder':'exp2021_19s_full',\n",
    "    'region': geometry_exp.bounds(),\n",
    "    'scale':30,\n",
    "    'crsTransform':[30, 0, 214185, 0, -30, -4825185], \n",
    "    'crs':'EPSG:32719',\n",
    "    'maxPixels':1e13\n",
    "})\n",
    "task6 = ee.batch.Export.image.toDrive(**{\n",
    "    'image': img5_B6,\n",
    "    'description':'B6',\n",
    "    'folder':'exp2021_19s_full',\n",
    "    'region': geometry_exp.bounds(),\n",
    "    'scale':30,\n",
    "    'crsTransform':[30, 0, 214185, 0, -30, -4825185], \n",
    "    'crs':'EPSG:32719',\n",
    "    'maxPixels':1e13\n",
    "})\n",
    "task7 = ee.batch.Export.image.toDrive(**{\n",
    "    'image': img5_B7,\n",
    "    'description':'B7',\n",
    "    'folder':'exp2021_19s_full',\n",
    "    'region': geometry_exp.bounds(),\n",
    "    'scale':30,\n",
    "    'crsTransform':[30, 0, 214185, 0, -30, -4825185], \n",
    "    'crs':'EPSG:32719',\n",
    "    'maxPixels':1e13\n",
    "})"
   ]
  },
  {
   "cell_type": "code",
   "execution_count": 225,
   "id": "751a76b5",
   "metadata": {
    "ExecuteTime": {
     "end_time": "2022-01-24T15:10:35.037198Z",
     "start_time": "2022-01-24T15:10:35.035998Z"
    }
   },
   "outputs": [],
   "source": [
    "# task1.start()\n",
    "# task2.start()\n",
    "# task3.start()\n",
    "# task4.start()\n",
    "# task5.start()\n",
    "# task6.start()\n",
    "# task7.start()"
   ]
  },
  {
   "cell_type": "code",
   "execution_count": 226,
   "id": "e89580f5",
   "metadata": {
    "ExecuteTime": {
     "end_time": "2022-01-24T15:10:35.039550Z",
     "start_time": "2022-01-24T15:10:35.038139Z"
    }
   },
   "outputs": [],
   "source": [
    "# img5_1 = reproj.clip(partes1).unmask()\n",
    "# img5_2 = reproj.clip(partes2).unmask()\n",
    "# img5_3 = reproj.clip(partes3).unmask()\n",
    "# img5_4 = reproj.clip(partes4).unmask()\n",
    "# img5_5 = reproj.clip(partes5).unmask()\n",
    "# img5_6 = reproj.clip(partes6).unmask()\n",
    "# img5_7 = reproj.clip(partes7).unmask()\n",
    "# img5_8 = reproj.clip(partes8).unmask()"
   ]
  },
  {
   "cell_type": "code",
   "execution_count": 227,
   "id": "ef43e561",
   "metadata": {
    "ExecuteTime": {
     "end_time": "2022-01-24T15:10:35.041986Z",
     "start_time": "2022-01-24T15:10:35.040530Z"
    },
    "scrolled": true
   },
   "outputs": [],
   "source": [
    "# geemap.ee_export_image_to_drive(img4_1, description='mosaico4_2008_1', folder='exp_2008_19s', region=partes1.geometry(), scale=30)\n",
    "# geemap.ee_export_image_to_drive(img4_2, description='mosaico4_2008_2', folder='exp_2008_19s', region=partes2.geometry(), scale=30)\n",
    "# geemap.ee_export_image_to_drive(img4_3, description='mosaico4_2008_3', folder='exp_2008_19s', region=partes3.geometry(), scale=30)\n",
    "# geemap.ee_export_image_to_drive(img4_4, description='mosaico4_2008_4', folder='exp_2008_19s', region=partes4.geometry(), scale=30)\n",
    "# geemap.ee_export_image_to_drive(img4_5, description='mosaico4_2008_5', folder='exp_2008_19s', region=partes5.geometry(), scale=30)\n",
    "# geemap.ee_export_image_to_drive(img4_6, description='mosaico4_2008_6', folder='exp_2008_19s', region=partes6.geometry(), scale=30)\n",
    "# geemap.ee_export_image_to_drive(img4_7, description='mosaico4_2008_7', folder='exp_2008_19s', region=partes7.geometry(), scale=30)\n",
    "# geemap.ee_export_image_to_drive(img4_8, description='mosaico4_2008_8', folder='exp_2008_19s', region=partes8.geometry(), scale=30)"
   ]
  },
  {
   "cell_type": "code",
   "execution_count": 228,
   "id": "80169bc3",
   "metadata": {
    "ExecuteTime": {
     "end_time": "2022-01-24T15:10:35.044596Z",
     "start_time": "2022-01-24T15:10:35.042790Z"
    }
   },
   "outputs": [],
   "source": [
    "# geemap.ee_export_image_to_drive(reproj1, description='mosaico_2008_1', folder='exp_2008_19s', region=partes1.geometry(), scale=30)\n",
    "# geemap.ee_export_image_to_drive(reproj2, description='mosaico_2008_2', folder='exp_2008_19s', region=partes2.geometry(), scale=30)\n",
    "# geemap.ee_export_image_to_drive(reproj3, description='mosaico_2008_3', folder='exp_2008_19s', region=partes3.geometry(), scale=30)\n",
    "# geemap.ee_export_image_to_drive(reproj4, description='mosaico_2008_4', folder='exp_2008_19s', region=partes4.geometry(), scale=30)\n",
    "# geemap.ee_export_image_to_drive(reproj5, description='mosaico_2008_5', folder='exp_2008_19s', region=partes5.geometry(), scale=30)\n",
    "# geemap.ee_export_image_to_drive(reproj6, description='mosaico_2008_6', folder='exp_2008_19s', region=partes6.geometry(), scale=30)\n",
    "# geemap.ee_export_image_to_drive(reproj7, description='mosaico_2008_7', folder='exp_2008_19s', region=partes7.geometry(), scale=30)\n",
    "# geemap.ee_export_image_to_drive(reproj8, description='mosaico_2008_8', folder='exp_2008_19s', region=partes8.geometry(), scale=30)"
   ]
  },
  {
   "cell_type": "code",
   "execution_count": 229,
   "id": "ed01881d",
   "metadata": {
    "ExecuteTime": {
     "end_time": "2022-01-24T15:10:35.046934Z",
     "start_time": "2022-01-24T15:10:35.045420Z"
    }
   },
   "outputs": [],
   "source": [
    "# geemap.ee_export_image_to_drive(img5_1, description='mosaico_2008_1', folder='expR', region=partes1.geometry(), scale=30)"
   ]
  },
  {
   "cell_type": "code",
   "execution_count": 230,
   "id": "4f2a474e",
   "metadata": {
    "ExecuteTime": {
     "end_time": "2022-01-24T15:10:35.049002Z",
     "start_time": "2022-01-24T15:10:35.047776Z"
    }
   },
   "outputs": [],
   "source": [
    "# geemap.ee_export_image_to_drive(img5_2, description='mosaico_2008_2', folder='expR', region=partes2.geometry(), scale=30)"
   ]
  },
  {
   "cell_type": "code",
   "execution_count": 231,
   "id": "9ebf988b",
   "metadata": {
    "ExecuteTime": {
     "end_time": "2022-01-24T15:10:35.051601Z",
     "start_time": "2022-01-24T15:10:35.049892Z"
    }
   },
   "outputs": [],
   "source": [
    "# geemap.ee_export_image_to_drive(img5_3, description='mosaico_19s_3', folder='expR', region=partes3.geometry(), scale=30)"
   ]
  },
  {
   "cell_type": "code",
   "execution_count": 232,
   "id": "efaac393",
   "metadata": {
    "ExecuteTime": {
     "end_time": "2022-01-24T15:10:35.054131Z",
     "start_time": "2022-01-24T15:10:35.052269Z"
    }
   },
   "outputs": [],
   "source": [
    "# geemap.ee_export_image_to_drive(img5_4, description='mosaico_2008_4', folder='expR', region=partes4.geometry(), scale=30)"
   ]
  },
  {
   "cell_type": "code",
   "execution_count": 233,
   "id": "40c8541c",
   "metadata": {
    "ExecuteTime": {
     "end_time": "2022-01-24T15:10:35.056079Z",
     "start_time": "2022-01-24T15:10:35.054736Z"
    }
   },
   "outputs": [],
   "source": [
    "# geemap.ee_export_image_to_drive(img5_5, description='mosaico_2008_5', folder='expR', region=partes5.geometry(), scale=30)"
   ]
  },
  {
   "cell_type": "code",
   "execution_count": 234,
   "id": "71109d1a",
   "metadata": {
    "ExecuteTime": {
     "end_time": "2022-01-24T15:10:35.058344Z",
     "start_time": "2022-01-24T15:10:35.056924Z"
    }
   },
   "outputs": [],
   "source": [
    "# geemap.ee_export_image_to_drive(img5_6, description='mosaico_2008_6', folder='expR', region=partes6.geometry(), scale=30)"
   ]
  },
  {
   "cell_type": "code",
   "execution_count": 235,
   "id": "86ad30af",
   "metadata": {
    "ExecuteTime": {
     "end_time": "2022-01-24T15:10:35.060865Z",
     "start_time": "2022-01-24T15:10:35.059297Z"
    }
   },
   "outputs": [],
   "source": [
    "# geemap.ee_export_image_to_drive(img5_7, description='mosaico_2008_7', folder='expR', region=partes7.geometry(), scale=30)"
   ]
  },
  {
   "cell_type": "code",
   "execution_count": 236,
   "id": "d31d8a10",
   "metadata": {
    "ExecuteTime": {
     "end_time": "2022-01-24T15:10:35.062923Z",
     "start_time": "2022-01-24T15:10:35.061625Z"
    }
   },
   "outputs": [],
   "source": [
    "# geemap.ee_export_image_to_drive(img5_8, description='mosaico_2008_8', folder='expR', region=partes8.geometry(), scale=30)"
   ]
  },
  {
   "cell_type": "code",
   "execution_count": 237,
   "id": "d1439211",
   "metadata": {
    "ExecuteTime": {
     "end_time": "2022-01-24T15:10:35.065286Z",
     "start_time": "2022-01-24T15:10:35.063885Z"
    }
   },
   "outputs": [],
   "source": [
    "# reproj= img5_b \\\n",
    "#     .reproject(crs='EPSG:4326',scale = 30)"
   ]
  },
  {
   "cell_type": "code",
   "execution_count": 238,
   "id": "fb49fa78",
   "metadata": {
    "ExecuteTime": {
     "end_time": "2022-01-24T15:10:35.067475Z",
     "start_time": "2022-01-24T15:10:35.066072Z"
    }
   },
   "outputs": [],
   "source": [
    "# geemap.ee_export_image_to_drive(reproj, description='mosaico_2008', folder='export2', region=patagonia_grande.geometry(), scale=30)"
   ]
  }
 ],
 "metadata": {
  "kernelspec": {
   "display_name": "Python 3 (ipykernel)",
   "language": "python",
   "name": "python3"
  },
  "language_info": {
   "codemirror_mode": {
    "name": "ipython",
    "version": 3
   },
   "file_extension": ".py",
   "mimetype": "text/x-python",
   "name": "python",
   "nbconvert_exporter": "python",
   "pygments_lexer": "ipython3",
   "version": "3.8.12"
  },
  "toc": {
   "base_numbering": 1,
   "nav_menu": {},
   "number_sections": true,
   "sideBar": true,
   "skip_h1_title": false,
   "title_cell": "Table of Contents",
   "title_sidebar": "Contents",
   "toc_cell": false,
   "toc_position": {
    "height": "calc(100% - 180px)",
    "left": "10px",
    "top": "150px",
    "width": "384px"
   },
   "toc_section_display": true,
   "toc_window_display": true
  },
  "varInspector": {
   "cols": {
    "lenName": 16,
    "lenType": 16,
    "lenVar": 40
   },
   "kernels_config": {
    "python": {
     "delete_cmd_postfix": "",
     "delete_cmd_prefix": "del ",
     "library": "var_list.py",
     "varRefreshCmd": "print(var_dic_list())"
    },
    "r": {
     "delete_cmd_postfix": ") ",
     "delete_cmd_prefix": "rm(",
     "library": "var_list.r",
     "varRefreshCmd": "cat(var_dic_list()) "
    }
   },
   "types_to_exclude": [
    "module",
    "function",
    "builtin_function_or_method",
    "instance",
    "_Feature"
   ],
   "window_display": false
  }
 },
 "nbformat": 4,
 "nbformat_minor": 5
}
