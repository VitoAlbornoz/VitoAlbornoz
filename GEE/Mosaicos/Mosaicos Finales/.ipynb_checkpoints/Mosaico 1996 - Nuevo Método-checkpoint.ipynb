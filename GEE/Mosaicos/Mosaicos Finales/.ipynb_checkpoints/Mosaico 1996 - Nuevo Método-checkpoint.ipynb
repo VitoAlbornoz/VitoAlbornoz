{
 "cells": [
  {
   "cell_type": "markdown",
   "id": "c8ee7fef",
   "metadata": {},
   "source": [
    "# Mosaico 1996"
   ]
  },
  {
   "cell_type": "markdown",
   "id": "203f76ca",
   "metadata": {},
   "source": [
    "Script trabajado por Francisco Albornoz (2021-04-13) / Última modificación / Mosaicos Patagonia"
   ]
  },
  {
   "cell_type": "markdown",
   "id": "2fb5cdeb",
   "metadata": {},
   "source": [
    "2021-08-05 13:07:09 "
   ]
  },
  {
   "cell_type": "code",
   "execution_count": 1,
   "id": "3057c761",
   "metadata": {
    "ExecuteTime": {
     "end_time": "2021-10-20T00:35:19.293544Z",
     "start_time": "2021-10-20T00:35:17.352429Z"
    }
   },
   "outputs": [],
   "source": [
    "import ee\n",
    "import geemap\n",
    "import geemap.chart as chart\n",
    "import os\n",
    "import folium"
   ]
  },
  {
   "cell_type": "markdown",
   "id": "1997eeb4",
   "metadata": {},
   "source": [
    "<img src=https://www.ecopaysen.cl/wp-content/uploads/2019/12/ecopaysen_marca_web.png>"
   ]
  },
  {
   "cell_type": "code",
   "execution_count": 2,
   "id": "fca49a56",
   "metadata": {
    "ExecuteTime": {
     "end_time": "2021-10-20T00:35:29.279074Z",
     "start_time": "2021-10-20T00:35:19.294787Z"
    }
   },
   "outputs": [],
   "source": [
    "Map = geemap.Map(center = [-45, -70], zoom = 4)\n",
    "Map2 = geemap.Map(center = [-45, -70], zoom = 4)\n",
    "Map3 = geemap.Map(center = [-45, -70], zoom = 4)\n",
    "Map4 = geemap.Map(center = [-45, -70], zoom = 4)\n",
    "Map5 = geemap.Map(center = [-45, -70], zoom = 4)\n",
    "Map6 = geemap.Map(center = [-45, -70], zoom = 4)\n",
    "Map7 = geemap.Map(center = [-45, -70], zoom = 4)\n",
    "Map8 = geemap.Map(center = [-45, -70], zoom = 4)\n",
    "Map9 = geemap.Map(center = [-45, -70], zoom = 4)\n",
    "Map10 = geemap.Map(center = [-45, -70], zoom = 4)"
   ]
  },
  {
   "cell_type": "markdown",
   "id": "f26fe1a2",
   "metadata": {},
   "source": [
    "## Área de Estudio"
   ]
  },
  {
   "cell_type": "code",
   "execution_count": 3,
   "id": "2aae613d",
   "metadata": {
    "ExecuteTime": {
     "end_time": "2021-10-20T00:35:30.830028Z",
     "start_time": "2021-10-20T00:35:29.279988Z"
    }
   },
   "outputs": [],
   "source": [
    "work_dir = os.path.expanduser('../../../Data/shapes/')\n",
    "patagonia = os.path.join(work_dir, 'patagonia_nueva.shp')\n",
    "patagonia_grande = geemap.shp_to_ee(patagonia)"
   ]
  },
  {
   "cell_type": "markdown",
   "id": "fa8e2fea",
   "metadata": {},
   "source": [
    "## Colors Bars"
   ]
  },
  {
   "cell_type": "code",
   "execution_count": 4,
   "id": "1efebd11",
   "metadata": {
    "ExecuteTime": {
     "end_time": "2021-10-20T00:35:32.055283Z",
     "start_time": "2021-10-20T00:35:30.831693Z"
    }
   },
   "outputs": [],
   "source": [
    "import geemap.colormaps as cm"
   ]
  },
  {
   "cell_type": "code",
   "execution_count": 5,
   "id": "d159d70f",
   "metadata": {
    "ExecuteTime": {
     "end_time": "2021-10-20T00:35:32.058181Z",
     "start_time": "2021-10-20T00:35:32.056534Z"
    }
   },
   "outputs": [],
   "source": [
    "# cm.palettes.terrain"
   ]
  },
  {
   "cell_type": "code",
   "execution_count": 6,
   "id": "fe999a91",
   "metadata": {
    "ExecuteTime": {
     "end_time": "2021-10-20T00:35:32.064498Z",
     "start_time": "2021-10-20T00:35:32.059453Z"
    }
   },
   "outputs": [],
   "source": [
    "color_ndvi = cm.palettes.ndvi"
   ]
  },
  {
   "cell_type": "code",
   "execution_count": 7,
   "id": "05fb282a",
   "metadata": {
    "ExecuteTime": {
     "end_time": "2021-10-20T00:35:32.067364Z",
     "start_time": "2021-10-20T00:35:32.065767Z"
    }
   },
   "outputs": [],
   "source": [
    "color_ndwi = cm.palettes.ndwi"
   ]
  },
  {
   "cell_type": "code",
   "execution_count": 8,
   "id": "68161910",
   "metadata": {
    "ExecuteTime": {
     "end_time": "2021-10-20T00:35:32.073537Z",
     "start_time": "2021-10-20T00:35:32.068251Z"
    }
   },
   "outputs": [],
   "source": [
    "color_terrain = cm.palettes.terrain"
   ]
  },
  {
   "cell_type": "code",
   "execution_count": 9,
   "id": "8e99245f",
   "metadata": {
    "ExecuteTime": {
     "end_time": "2021-10-20T00:35:32.078580Z",
     "start_time": "2021-10-20T00:35:32.074652Z"
    }
   },
   "outputs": [],
   "source": [
    "color_glaciar = cm.palettes.PuBuGn_r"
   ]
  },
  {
   "cell_type": "code",
   "execution_count": 10,
   "id": "92b8cf41",
   "metadata": {
    "ExecuteTime": {
     "end_time": "2021-10-20T00:35:32.083990Z",
     "start_time": "2021-10-20T00:35:32.080509Z"
    }
   },
   "outputs": [],
   "source": [
    "color_nubes = cm.palettes.inferno"
   ]
  },
  {
   "cell_type": "code",
   "execution_count": 11,
   "id": "39930741",
   "metadata": {
    "ExecuteTime": {
     "end_time": "2021-10-20T00:35:32.088988Z",
     "start_time": "2021-10-20T00:35:32.085113Z"
    }
   },
   "outputs": [],
   "source": [
    "# cm.list_colormaps()"
   ]
  },
  {
   "cell_type": "code",
   "execution_count": 12,
   "id": "0ce61cbe",
   "metadata": {
    "ExecuteTime": {
     "end_time": "2021-10-20T00:35:32.094336Z",
     "start_time": "2021-10-20T00:35:32.090191Z"
    }
   },
   "outputs": [],
   "source": [
    "# cm.plot_colormaps(width=12, height=0.4)"
   ]
  },
  {
   "cell_type": "markdown",
   "id": "11666045",
   "metadata": {},
   "source": [
    "## Funciones"
   ]
  },
  {
   "cell_type": "code",
   "execution_count": 13,
   "id": "166db170",
   "metadata": {
    "ExecuteTime": {
     "end_time": "2021-10-20T00:35:32.099798Z",
     "start_time": "2021-10-20T00:35:32.095352Z"
    }
   },
   "outputs": [],
   "source": [
    "def add_ee_layer(self, ee_image_object, vis_params, name):\n",
    "  map_id_dict = ee.Image(ee_image_object).getMapId(vis_params)\n",
    "  folium.raster_layers.TileLayer(\n",
    "      tiles=map_id_dict['tile_fetcher'].url_format,\n",
    "      attr='Map Data &copy; <a href=\"https://earthengine.google.com/\">Google Earth Engine</a>',\n",
    "      name=name,\n",
    "      overlay=True,\n",
    "      control=True\n",
    "  ).add_to(self)\n",
    "\n",
    "folium.Map.add_ee_layer = add_ee_layer"
   ]
  },
  {
   "cell_type": "code",
   "execution_count": 14,
   "id": "b9e1cdaf",
   "metadata": {
    "ExecuteTime": {
     "end_time": "2021-10-20T00:35:32.105080Z",
     "start_time": "2021-10-20T00:35:32.100825Z"
    }
   },
   "outputs": [],
   "source": [
    "def addNDVI(image): \n",
    "    ndvi = image.normalizedDifference(['B4', 'B3']).rename('B11')\n",
    "    return image.addBands(ndvi)"
   ]
  },
  {
   "cell_type": "code",
   "execution_count": 15,
   "id": "ad105a37",
   "metadata": {
    "ExecuteTime": {
     "end_time": "2021-10-20T00:35:32.110247Z",
     "start_time": "2021-10-20T00:35:32.106103Z"
    }
   },
   "outputs": [],
   "source": [
    "def addNDWI(image):\n",
    "    ndwi = image.normalizedDifference(['B2','B4']).rename('NDWI')\n",
    "    return image.addBands(ndwi)"
   ]
  },
  {
   "cell_type": "code",
   "execution_count": 16,
   "id": "afd5a921",
   "metadata": {
    "ExecuteTime": {
     "end_time": "2021-10-20T00:35:32.115420Z",
     "start_time": "2021-10-20T00:35:32.111381Z"
    }
   },
   "outputs": [],
   "source": [
    "def addNDGI(image):\n",
    "    ndgi = image.normalizedDifference(['B2','B3']).rename('NDGI')\n",
    "    return image.addBands(ndgi)"
   ]
  },
  {
   "cell_type": "code",
   "execution_count": 17,
   "id": "786770f8",
   "metadata": {
    "ExecuteTime": {
     "end_time": "2021-10-20T00:35:32.120563Z",
     "start_time": "2021-10-20T00:35:32.116557Z"
    }
   },
   "outputs": [],
   "source": [
    "def addSAVI(image):\n",
    "    savi = image.expression(\n",
    "        '((b4 - b3)/(b4 + b3 + 0.5))*1.5', {\n",
    "            'b3':image.select('B3'),\n",
    "            'b4':image.select('B4')\n",
    "        }) \n",
    "    savi= savi.rename('SAVI')\n",
    "    return image.addBands(savi)"
   ]
  },
  {
   "cell_type": "code",
   "execution_count": 18,
   "id": "cffb72aa",
   "metadata": {
    "ExecuteTime": {
     "end_time": "2021-10-20T00:35:32.125671Z",
     "start_time": "2021-10-20T00:35:32.121691Z"
    }
   },
   "outputs": [],
   "source": [
    "def addNDSI(image):\n",
    "    ndsi = image.normalizedDifference(['B2','B5']).rename('NDSI')\n",
    "    return image.addBands(ndsi)"
   ]
  },
  {
   "cell_type": "code",
   "execution_count": 19,
   "id": "4889cabe",
   "metadata": {
    "ExecuteTime": {
     "end_time": "2021-10-20T00:35:32.128676Z",
     "start_time": "2021-10-20T00:35:32.126873Z"
    }
   },
   "outputs": [],
   "source": [
    "def addDate(image):\n",
    "    img_date = ee.Date(image.date())\n",
    "    img_date = ee.Number.parse(img_date.format('YYYYMM'))\n",
    "    return image.addBands(ee.Image(img_date).rename('date').toInt())"
   ]
  },
  {
   "cell_type": "code",
   "execution_count": 20,
   "id": "37d4c44d",
   "metadata": {
    "ExecuteTime": {
     "end_time": "2021-10-20T00:35:32.131593Z",
     "start_time": "2021-10-20T00:35:32.129820Z"
    }
   },
   "outputs": [],
   "source": [
    "def Cloud40(image):\n",
    "    scored = ee.Algorithms.Landsat.simpleCloudScore(image)\n",
    "    return image.updateMask(scored.select(['cloud']).lt(40)) "
   ]
  },
  {
   "cell_type": "code",
   "execution_count": 21,
   "id": "3115c210",
   "metadata": {
    "ExecuteTime": {
     "end_time": "2021-10-20T00:35:32.134592Z",
     "start_time": "2021-10-20T00:35:32.132823Z"
    }
   },
   "outputs": [],
   "source": [
    "def Cloud30(image):\n",
    "    scored = ee.Algorithms.Landsat.simpleCloudScore(image)\n",
    "    return image.updateMask(scored.select(['cloud']).lt(30)) "
   ]
  },
  {
   "cell_type": "code",
   "execution_count": 22,
   "id": "f86cf507",
   "metadata": {
    "ExecuteTime": {
     "end_time": "2021-10-20T00:35:32.137575Z",
     "start_time": "2021-10-20T00:35:32.135820Z"
    }
   },
   "outputs": [],
   "source": [
    "def Cloud20(image):\n",
    "    scored = ee.Algorithms.Landsat.simpleCloudScore(image)\n",
    "    return image.updateMask(scored.select(['cloud']).lt(20)) "
   ]
  },
  {
   "cell_type": "code",
   "execution_count": 23,
   "id": "9d288b40",
   "metadata": {
    "ExecuteTime": {
     "end_time": "2021-10-20T00:35:32.140449Z",
     "start_time": "2021-10-20T00:35:32.138699Z"
    }
   },
   "outputs": [],
   "source": [
    "def Cloud10(image):\n",
    "    scored = ee.Algorithms.Landsat.simpleCloudScore(image)\n",
    "    return image.updateMask(scored.select(['cloud']).lt(10))"
   ]
  },
  {
   "cell_type": "code",
   "execution_count": 24,
   "id": "92d6ba1b",
   "metadata": {
    "ExecuteTime": {
     "end_time": "2021-10-20T00:35:32.143554Z",
     "start_time": "2021-10-20T00:35:32.141653Z"
    }
   },
   "outputs": [],
   "source": [
    "def addCloud(image):\n",
    "    nube = ee.Algorithms.Landsat.simpleCloudScore(image)\n",
    "    return image.addBands(ee.Image(nube.select(['cloud'])).rename('nube'))"
   ]
  },
  {
   "cell_type": "markdown",
   "id": "d9a442fb",
   "metadata": {},
   "source": [
    "## Colecciones"
   ]
  },
  {
   "cell_type": "markdown",
   "id": "aa32151f",
   "metadata": {},
   "source": [
    "### 1996"
   ]
  },
  {
   "cell_type": "code",
   "execution_count": 25,
   "id": "38cbc7c1",
   "metadata": {
    "ExecuteTime": {
     "end_time": "2021-10-20T00:35:32.146589Z",
     "start_time": "2021-10-20T00:35:32.144679Z"
    }
   },
   "outputs": [],
   "source": [
    "start_date = '1995-10-01'\n",
    "end_date = '1996-03-31'\n",
    "\n",
    "l5_1996 = ee.ImageCollection('LANDSAT/LT05/C01/T1_TOA') \\\n",
    "    .filterBounds(patagonia_grande) \\\n",
    "    .filterDate(start_date, end_date)"
   ]
  },
  {
   "cell_type": "code",
   "execution_count": 26,
   "id": "44318baf",
   "metadata": {
    "ExecuteTime": {
     "end_time": "2021-10-20T00:35:32.149581Z",
     "start_time": "2021-10-20T00:35:32.147846Z"
    }
   },
   "outputs": [],
   "source": [
    "vizParams = {\n",
    "  'bands': ['B4', 'B3', 'B2'],\n",
    "  'min': 0,\n",
    "  'max': 0.5,\n",
    "  'gamma': [0.95, 1.1, 1]\n",
    "}"
   ]
  },
  {
   "cell_type": "code",
   "execution_count": 27,
   "id": "9352e244",
   "metadata": {
    "ExecuteTime": {
     "end_time": "2021-10-20T00:35:32.152455Z",
     "start_time": "2021-10-20T00:35:32.150765Z"
    }
   },
   "outputs": [],
   "source": [
    "vis_nieve = {\n",
    "  'bands': ['B5', 'B3', 'B2'],\n",
    "  'min': 0,\n",
    "  'max': 0.5,\n",
    "  'gamma': [0.95, 1.1, 1]\n",
    "}"
   ]
  },
  {
   "cell_type": "code",
   "execution_count": 28,
   "id": "7a5d8ef0",
   "metadata": {
    "ExecuteTime": {
     "end_time": "2021-10-20T00:35:32.159959Z",
     "start_time": "2021-10-20T00:35:32.155558Z"
    }
   },
   "outputs": [],
   "source": [
    "coleccion1996 = l5_1996.map(addNDVI).map(addNDWI).map(addNDGI).map(addSAVI).map(addNDSI).map(addDate).map(addCloud)"
   ]
  },
  {
   "cell_type": "code",
   "execution_count": 29,
   "id": "c1dec405",
   "metadata": {
    "ExecuteTime": {
     "end_time": "2021-10-20T00:35:32.163032Z",
     "start_time": "2021-10-20T00:35:32.160898Z"
    }
   },
   "outputs": [],
   "source": [
    "QM_NDVI_1996 = coleccion1996.qualityMosaic('B11') # Normalized difference vegetation Index\n",
    "QM_NDWI_1996 = coleccion1996.qualityMosaic('NDWI') # Normalize difference water index\n",
    "QM_SAVI_1996 = coleccion1996.qualityMosaic('SAVI') # Soil Adjusted Vegetation Index \n",
    "QM_NDGI_1996 = coleccion1996.qualityMosaic('NDGI') # Normalized difference glacier index\n",
    "QM_NDSI_1996 = coleccion1996.qualityMosaic('NDSI') # Normalized difference snow index"
   ]
  },
  {
   "cell_type": "code",
   "execution_count": 30,
   "id": "0e8813c7",
   "metadata": {
    "ExecuteTime": {
     "end_time": "2021-10-20T00:35:36.083552Z",
     "start_time": "2021-10-20T00:35:32.164044Z"
    }
   },
   "outputs": [
    {
     "data": {
      "application/vnd.jupyter.widget-view+json": {
       "model_id": "3e66708989e04cdd807cbcbbd58348a9",
       "version_major": 2,
       "version_minor": 0
      },
      "text/plain": [
       "Map(center=[-45, -70], controls=(WidgetControl(options=['position', 'transparent_bg'], widget=HBox(children=(T…"
      ]
     },
     "metadata": {},
     "output_type": "display_data"
    }
   ],
   "source": [
    "Map.addLayer(QM_NDVI_1996, vizParams, 'QM de NDVI 1996')\n",
    "Map.addLayer(QM_NDWI_1996, vizParams, 'QM de NDWI 1996')\n",
    "Map.addLayer(QM_SAVI_1996, vizParams, 'QM de SAVI 1996')\n",
    "Map.addLayer(QM_NDGI_1996, vis_nieve, 'QM de NDGI 1996')\n",
    "Map.addLayer(QM_NDSI_1996, vis_nieve, 'QM de NDSI 1996')\n",
    "Map "
   ]
  },
  {
   "cell_type": "code",
   "execution_count": 31,
   "id": "0c24b2b0",
   "metadata": {
    "ExecuteTime": {
     "end_time": "2021-10-20T00:35:36.087039Z",
     "start_time": "2021-10-20T00:35:36.084554Z"
    }
   },
   "outputs": [],
   "source": [
    "c1996_sn = coleccion1996.map(Cloud20)\n",
    "NDVI_1996_sn = c1996_sn.qualityMosaic('B11')\n",
    "NDWI_1996_sn = c1996_sn.qualityMosaic('NDWI')\n",
    "SAVI_1996_sn = c1996_sn.qualityMosaic('SAVI')\n",
    "NDGI_1996_sn = c1996_sn.qualityMosaic('NDGI')\n",
    "NDSI_1996_sn = c1996_sn.qualityMosaic('NDSI')"
   ]
  },
  {
   "cell_type": "code",
   "execution_count": 32,
   "id": "dcc165dc",
   "metadata": {
    "ExecuteTime": {
     "end_time": "2021-10-20T00:35:39.332363Z",
     "start_time": "2021-10-20T00:35:36.088384Z"
    }
   },
   "outputs": [
    {
     "data": {
      "application/vnd.jupyter.widget-view+json": {
       "model_id": "3161b2b523d54c60abdcf92c70815473",
       "version_major": 2,
       "version_minor": 0
      },
      "text/plain": [
       "Map(center=[-45, -70], controls=(WidgetControl(options=['position', 'transparent_bg'], widget=HBox(children=(T…"
      ]
     },
     "metadata": {},
     "output_type": "display_data"
    }
   ],
   "source": [
    "Map2.addLayer(NDVI_1996_sn, vizParams, 'QMsn de NDVI 1996')\n",
    "Map2.addLayer(NDWI_1996_sn, vizParams, 'QMsn de NDWI 1996')\n",
    "Map2.addLayer(SAVI_1996_sn, vizParams, 'QMsn de SAVI 1996')\n",
    "Map2.addLayer(NDGI_1996_sn, vis_nieve, 'QMsn de NDGI 1996')\n",
    "Map2.addLayer(NDSI_1996_sn, vis_nieve, 'QMsn de NDSI 1996')\n",
    "Map2"
   ]
  },
  {
   "cell_type": "markdown",
   "id": "ccec25b0",
   "metadata": {},
   "source": [
    "### 1997"
   ]
  },
  {
   "cell_type": "code",
   "execution_count": 33,
   "id": "ef53f13a",
   "metadata": {
    "ExecuteTime": {
     "end_time": "2021-10-20T00:35:39.335264Z",
     "start_time": "2021-10-20T00:35:39.333321Z"
    }
   },
   "outputs": [],
   "source": [
    "start_date = '1996-10-01'\n",
    "end_date = '1997-03-31'\n",
    "\n",
    "l5_1997 = ee.ImageCollection('LANDSAT/LT05/C01/T1_TOA') \\\n",
    "    .filterBounds(patagonia_grande) \\\n",
    "    .filterDate(start_date, end_date)"
   ]
  },
  {
   "cell_type": "code",
   "execution_count": 34,
   "id": "06a293d6",
   "metadata": {
    "ExecuteTime": {
     "end_time": "2021-10-20T00:35:39.340456Z",
     "start_time": "2021-10-20T00:35:39.336480Z"
    }
   },
   "outputs": [],
   "source": [
    "coleccion1997 = l5_1997.map(addNDVI).map(addNDWI).map(addNDGI).map(addSAVI).map(addNDSI).map(addDate).map(addCloud)"
   ]
  },
  {
   "cell_type": "code",
   "execution_count": 35,
   "id": "f724bb1b",
   "metadata": {
    "ExecuteTime": {
     "end_time": "2021-10-20T00:35:39.343697Z",
     "start_time": "2021-10-20T00:35:39.341635Z"
    }
   },
   "outputs": [],
   "source": [
    "QM_NDVI_1997 = coleccion1997.qualityMosaic('B11') # Normalized difference vegetation Index\n",
    "QM_NDWI_1997 = coleccion1997.qualityMosaic('NDWI') # Normalize difference water index\n",
    "QM_SAVI_1997 = coleccion1997.qualityMosaic('SAVI') # Soil Adjusted Vegetation Index \n",
    "QM_NDGI_1997 = coleccion1997.qualityMosaic('NDGI') # Normalized difference glacier index\n",
    "QM_NDSI_1997 = coleccion1997.qualityMosaic('NDSI') # Normalized difference snow index"
   ]
  },
  {
   "cell_type": "code",
   "execution_count": 36,
   "id": "6c001bbc",
   "metadata": {
    "ExecuteTime": {
     "end_time": "2021-10-20T00:35:42.680173Z",
     "start_time": "2021-10-20T00:35:39.344665Z"
    }
   },
   "outputs": [
    {
     "data": {
      "application/vnd.jupyter.widget-view+json": {
       "model_id": "3e66708989e04cdd807cbcbbd58348a9",
       "version_major": 2,
       "version_minor": 0
      },
      "text/plain": [
       "Map(center=[-45, -70], controls=(WidgetControl(options=['position', 'transparent_bg'], widget=HBox(children=(T…"
      ]
     },
     "metadata": {},
     "output_type": "display_data"
    }
   ],
   "source": [
    "Map.addLayer(QM_NDVI_1997, vizParams, 'QM de NDVI 1997')\n",
    "Map.addLayer(QM_NDWI_1997, vizParams, 'QM de NDWI 1997')\n",
    "Map.addLayer(QM_SAVI_1997, vizParams, 'QM de SAVI 1997')\n",
    "Map.addLayer(QM_NDGI_1997, vis_nieve, 'QM de NDGI 1997')\n",
    "Map.addLayer(QM_NDSI_1997, vis_nieve, 'QM de NDSI 1997')\n",
    "Map "
   ]
  },
  {
   "cell_type": "code",
   "execution_count": 37,
   "id": "06eebe04",
   "metadata": {
    "ExecuteTime": {
     "end_time": "2021-10-20T00:35:42.683562Z",
     "start_time": "2021-10-20T00:35:42.681197Z"
    }
   },
   "outputs": [],
   "source": [
    "c1997_sn = coleccion1997.map(Cloud20)\n",
    "NDVI_1997_sn = c1997_sn.qualityMosaic('B11')\n",
    "NDWI_1997_sn = c1997_sn.qualityMosaic('NDWI')\n",
    "SAVI_1997_sn = c1997_sn.qualityMosaic('SAVI')\n",
    "NDGI_1997_sn = c1997_sn.qualityMosaic('NDGI')\n",
    "NDSI_1997_sn = c1997_sn.qualityMosaic('NDSI')"
   ]
  },
  {
   "cell_type": "code",
   "execution_count": 38,
   "id": "7121bf75",
   "metadata": {
    "ExecuteTime": {
     "end_time": "2021-10-20T00:35:46.282140Z",
     "start_time": "2021-10-20T00:35:42.685424Z"
    }
   },
   "outputs": [
    {
     "data": {
      "application/vnd.jupyter.widget-view+json": {
       "model_id": "3161b2b523d54c60abdcf92c70815473",
       "version_major": 2,
       "version_minor": 0
      },
      "text/plain": [
       "Map(center=[-45, -70], controls=(WidgetControl(options=['position', 'transparent_bg'], widget=HBox(children=(T…"
      ]
     },
     "metadata": {},
     "output_type": "display_data"
    }
   ],
   "source": [
    "Map2.addLayer(NDVI_1997_sn, vizParams, 'QMsn de NDVI 1997')\n",
    "Map2.addLayer(NDWI_1997_sn, vizParams, 'QMsn de NDWI 1997')\n",
    "Map2.addLayer(SAVI_1997_sn, vizParams, 'QMsn de SAVI 1997')\n",
    "Map2.addLayer(NDGI_1997_sn, vis_nieve, 'QMsn de NDGI 1997')\n",
    "Map2.addLayer(NDSI_1997_sn, vis_nieve, 'QMsn de NDSI 1997')\n",
    "Map2"
   ]
  },
  {
   "cell_type": "markdown",
   "id": "b1fff37f",
   "metadata": {},
   "source": [
    "### 1998"
   ]
  },
  {
   "cell_type": "code",
   "execution_count": 39,
   "id": "ed8a2ed2",
   "metadata": {
    "ExecuteTime": {
     "end_time": "2021-10-20T00:35:46.285115Z",
     "start_time": "2021-10-20T00:35:46.283105Z"
    }
   },
   "outputs": [],
   "source": [
    "start_date = '1997-10-01'\n",
    "end_date = '1998-03-31'\n",
    "\n",
    "l5_1998 = ee.ImageCollection('LANDSAT/LT05/C01/T1_TOA') \\\n",
    "    .filterBounds(patagonia_grande) \\\n",
    "    .filterDate(start_date, end_date)"
   ]
  },
  {
   "cell_type": "code",
   "execution_count": 40,
   "id": "ac158dd0",
   "metadata": {
    "ExecuteTime": {
     "end_time": "2021-10-20T00:35:46.300332Z",
     "start_time": "2021-10-20T00:35:46.285978Z"
    }
   },
   "outputs": [],
   "source": [
    "coleccion1998 = l5_1998.map(addNDVI).map(addNDWI).map(addNDGI).map(addSAVI).map(addNDSI).map(addDate).map(addCloud)"
   ]
  },
  {
   "cell_type": "code",
   "execution_count": 41,
   "id": "531b33cd",
   "metadata": {
    "ExecuteTime": {
     "end_time": "2021-10-20T00:35:46.303572Z",
     "start_time": "2021-10-20T00:35:46.301344Z"
    }
   },
   "outputs": [],
   "source": [
    "QM_NDVI_1998 = coleccion1998.qualityMosaic('B11') # Normalized difference vegetation Index\n",
    "QM_NDWI_1998 = coleccion1998.qualityMosaic('NDWI') # Normalize difference water index\n",
    "QM_SAVI_1998 = coleccion1998.qualityMosaic('SAVI') # Soil Adjusted Vegetation Index \n",
    "QM_NDGI_1998 = coleccion1998.qualityMosaic('NDGI') # Normalized difference glacier index\n",
    "QM_NDSI_1998 = coleccion1998.qualityMosaic('NDSI') # Normalized difference snow index"
   ]
  },
  {
   "cell_type": "code",
   "execution_count": 42,
   "id": "22b9a628",
   "metadata": {
    "ExecuteTime": {
     "end_time": "2021-10-20T00:35:49.568893Z",
     "start_time": "2021-10-20T00:35:46.304546Z"
    }
   },
   "outputs": [],
   "source": [
    "Map3.addLayer(QM_NDVI_1998, vizParams, 'QM de NDVI 1998')\n",
    "Map3.addLayer(QM_NDWI_1998, vizParams, 'QM de NDWI 1998')\n",
    "Map3.addLayer(QM_SAVI_1998, vizParams, 'QM de SAVI 1998')\n",
    "Map3.addLayer(QM_NDGI_1998, vis_nieve, 'QM de NDGI 1998')\n",
    "Map3.addLayer(QM_NDSI_1998, vis_nieve, 'QM de NDSI 1998')\n",
    "# Map3"
   ]
  },
  {
   "cell_type": "code",
   "execution_count": 43,
   "id": "37413530",
   "metadata": {
    "ExecuteTime": {
     "end_time": "2021-10-20T00:35:49.572381Z",
     "start_time": "2021-10-20T00:35:49.570039Z"
    }
   },
   "outputs": [],
   "source": [
    "c1998_sn = coleccion1998.map(Cloud20)\n",
    "NDVI_1998_sn = c1998_sn.qualityMosaic('B11')\n",
    "NDWI_1998_sn = c1998_sn.qualityMosaic('NDWI')\n",
    "SAVI_1998_sn = c1998_sn.qualityMosaic('SAVI')\n",
    "NDGI_1998_sn = c1998_sn.qualityMosaic('NDGI')\n",
    "NDSI_1998_sn = c1998_sn.qualityMosaic('NDSI')"
   ]
  },
  {
   "cell_type": "code",
   "execution_count": 44,
   "id": "ee1a2de2",
   "metadata": {
    "ExecuteTime": {
     "end_time": "2021-10-20T00:35:52.927812Z",
     "start_time": "2021-10-20T00:35:49.573732Z"
    }
   },
   "outputs": [
    {
     "data": {
      "application/vnd.jupyter.widget-view+json": {
       "model_id": "d7b64222f4c1498987fba1819637b2f5",
       "version_major": 2,
       "version_minor": 0
      },
      "text/plain": [
       "Map(center=[-45, -70], controls=(WidgetControl(options=['position', 'transparent_bg'], widget=HBox(children=(T…"
      ]
     },
     "metadata": {},
     "output_type": "display_data"
    }
   ],
   "source": [
    "Map4.addLayer(NDVI_1998_sn, vizParams, 'QMsn de NDVI 1998')\n",
    "Map4.addLayer(NDWI_1998_sn, vizParams, 'QMsn de NDWI 1998')\n",
    "Map4.addLayer(SAVI_1998_sn, vizParams, 'QMsn de SAVI 1998')\n",
    "Map4.addLayer(NDGI_1998_sn, vis_nieve, 'QMsn de NDGI 1998')\n",
    "Map4.addLayer(NDSI_1998_sn, vis_nieve, 'QMsn de NDSI 1998')\n",
    "Map4"
   ]
  },
  {
   "cell_type": "markdown",
   "id": "3ca14015",
   "metadata": {},
   "source": [
    "### 1999 "
   ]
  },
  {
   "cell_type": "code",
   "execution_count": 45,
   "id": "d59e13c5",
   "metadata": {
    "ExecuteTime": {
     "end_time": "2021-10-20T00:35:52.930549Z",
     "start_time": "2021-10-20T00:35:52.928803Z"
    }
   },
   "outputs": [],
   "source": [
    "start_date = '1998-10-01'\n",
    "end_date = '1999-03-31'\n",
    "\n",
    "l5_1999 = ee.ImageCollection('LANDSAT/LT05/C01/T1_TOA') \\\n",
    "    .filterBounds(patagonia_grande) \\\n",
    "    .filterDate(start_date, end_date)"
   ]
  },
  {
   "cell_type": "code",
   "execution_count": 46,
   "id": "2950acf4",
   "metadata": {
    "ExecuteTime": {
     "end_time": "2021-10-20T00:35:52.935696Z",
     "start_time": "2021-10-20T00:35:52.931894Z"
    }
   },
   "outputs": [],
   "source": [
    "coleccion1999 = l5_1999.map(addNDVI).map(addNDWI).map(addNDGI).map(addSAVI).map(addNDSI).map(addDate).map(addCloud)"
   ]
  },
  {
   "cell_type": "code",
   "execution_count": 47,
   "id": "5a597254",
   "metadata": {
    "ExecuteTime": {
     "end_time": "2021-10-20T00:35:52.938772Z",
     "start_time": "2021-10-20T00:35:52.936818Z"
    }
   },
   "outputs": [],
   "source": [
    "QM_NDVI_1999 = coleccion1999.qualityMosaic('B11') # Normalized difference vegetation Index\n",
    "QM_NDWI_1999 = coleccion1999.qualityMosaic('NDWI') # Normalize difference water index\n",
    "QM_SAVI_1999 = coleccion1999.qualityMosaic('SAVI') # Soil Adjusted Vegetation Index \n",
    "QM_NDGI_1999 = coleccion1999.qualityMosaic('NDGI') # Normalized difference glacier index\n",
    "QM_NDSI_1999 = coleccion1999.qualityMosaic('NDSI') # Normalized difference snow index"
   ]
  },
  {
   "cell_type": "code",
   "execution_count": 48,
   "id": "a5ebcefb",
   "metadata": {
    "ExecuteTime": {
     "end_time": "2021-10-20T00:35:53.898224Z",
     "start_time": "2021-10-20T00:35:52.939825Z"
    }
   },
   "outputs": [
    {
     "ename": "KeyboardInterrupt",
     "evalue": "",
     "output_type": "error",
     "traceback": [
      "\u001b[0;31m---------------------------------------------------------------------------\u001b[0m",
      "\u001b[0;31mKeyboardInterrupt\u001b[0m                         Traceback (most recent call last)",
      "\u001b[0;32m/tmp/ipykernel_838/3289874848.py\u001b[0m in \u001b[0;36m<module>\u001b[0;34m\u001b[0m\n\u001b[1;32m      1\u001b[0m \u001b[0mMap3\u001b[0m\u001b[0;34m.\u001b[0m\u001b[0maddLayer\u001b[0m\u001b[0;34m(\u001b[0m\u001b[0mQM_NDVI_1999\u001b[0m\u001b[0;34m,\u001b[0m \u001b[0mvizParams\u001b[0m\u001b[0;34m,\u001b[0m \u001b[0;34m'QM de NDVI 1999'\u001b[0m\u001b[0;34m)\u001b[0m\u001b[0;34m\u001b[0m\u001b[0;34m\u001b[0m\u001b[0m\n\u001b[0;32m----> 2\u001b[0;31m \u001b[0mMap3\u001b[0m\u001b[0;34m.\u001b[0m\u001b[0maddLayer\u001b[0m\u001b[0;34m(\u001b[0m\u001b[0mQM_NDWI_1999\u001b[0m\u001b[0;34m,\u001b[0m \u001b[0mvizParams\u001b[0m\u001b[0;34m,\u001b[0m \u001b[0;34m'QM de NDWI 1999'\u001b[0m\u001b[0;34m)\u001b[0m\u001b[0;34m\u001b[0m\u001b[0;34m\u001b[0m\u001b[0m\n\u001b[0m\u001b[1;32m      3\u001b[0m \u001b[0mMap3\u001b[0m\u001b[0;34m.\u001b[0m\u001b[0maddLayer\u001b[0m\u001b[0;34m(\u001b[0m\u001b[0mQM_SAVI_1999\u001b[0m\u001b[0;34m,\u001b[0m \u001b[0mvizParams\u001b[0m\u001b[0;34m,\u001b[0m \u001b[0;34m'QM de SAVI 1999'\u001b[0m\u001b[0;34m)\u001b[0m\u001b[0;34m\u001b[0m\u001b[0;34m\u001b[0m\u001b[0m\n\u001b[1;32m      4\u001b[0m \u001b[0mMap3\u001b[0m\u001b[0;34m.\u001b[0m\u001b[0maddLayer\u001b[0m\u001b[0;34m(\u001b[0m\u001b[0mQM_NDGI_1999\u001b[0m\u001b[0;34m,\u001b[0m \u001b[0mvis_nieve\u001b[0m\u001b[0;34m,\u001b[0m \u001b[0;34m'QM de NDGI 1999'\u001b[0m\u001b[0;34m)\u001b[0m\u001b[0;34m\u001b[0m\u001b[0;34m\u001b[0m\u001b[0m\n\u001b[1;32m      5\u001b[0m \u001b[0mMap3\u001b[0m\u001b[0;34m.\u001b[0m\u001b[0maddLayer\u001b[0m\u001b[0;34m(\u001b[0m\u001b[0mQM_NDSI_1999\u001b[0m\u001b[0;34m,\u001b[0m \u001b[0mvis_nieve\u001b[0m\u001b[0;34m,\u001b[0m \u001b[0;34m'QM de NDSI 1999'\u001b[0m\u001b[0;34m)\u001b[0m\u001b[0;34m\u001b[0m\u001b[0;34m\u001b[0m\u001b[0m\n",
      "\u001b[0;32m~/anaconda3/envs/gee/lib/python3.8/site-packages/geemap/geemap.py\u001b[0m in \u001b[0;36madd_ee_layer\u001b[0;34m(self, ee_object, vis_params, name, shown, opacity)\u001b[0m\n\u001b[1;32m   1363\u001b[0m                 \u001b[0;32mraise\u001b[0m \u001b[0mException\u001b[0m\u001b[0;34m(\u001b[0m\u001b[0me\u001b[0m\u001b[0;34m)\u001b[0m\u001b[0;34m\u001b[0m\u001b[0;34m\u001b[0m\u001b[0m\n\u001b[1;32m   1364\u001b[0m \u001b[0;34m\u001b[0m\u001b[0m\n\u001b[0;32m-> 1365\u001b[0;31m         \u001b[0mmap_id_dict\u001b[0m \u001b[0;34m=\u001b[0m \u001b[0mee\u001b[0m\u001b[0;34m.\u001b[0m\u001b[0mImage\u001b[0m\u001b[0;34m(\u001b[0m\u001b[0mimage\u001b[0m\u001b[0;34m)\u001b[0m\u001b[0;34m.\u001b[0m\u001b[0mgetMapId\u001b[0m\u001b[0;34m(\u001b[0m\u001b[0mvis_params\u001b[0m\u001b[0;34m)\u001b[0m\u001b[0;34m\u001b[0m\u001b[0;34m\u001b[0m\u001b[0m\n\u001b[0m\u001b[1;32m   1366\u001b[0m         tile_layer = TileLayer(\n\u001b[1;32m   1367\u001b[0m             \u001b[0murl\u001b[0m\u001b[0;34m=\u001b[0m\u001b[0mmap_id_dict\u001b[0m\u001b[0;34m[\u001b[0m\u001b[0;34m\"tile_fetcher\"\u001b[0m\u001b[0;34m]\u001b[0m\u001b[0;34m.\u001b[0m\u001b[0murl_format\u001b[0m\u001b[0;34m,\u001b[0m\u001b[0;34m\u001b[0m\u001b[0;34m\u001b[0m\u001b[0m\n",
      "\u001b[0;32m~/anaconda3/envs/gee/lib/python3.8/site-packages/ee/image.py\u001b[0m in \u001b[0;36mgetMapId\u001b[0;34m(self, vis_params)\u001b[0m\n\u001b[1;32m    128\u001b[0m     \u001b[0mvis_image\u001b[0m\u001b[0;34m,\u001b[0m \u001b[0mrequest\u001b[0m \u001b[0;34m=\u001b[0m \u001b[0mself\u001b[0m\u001b[0;34m.\u001b[0m\u001b[0m_apply_visualization\u001b[0m\u001b[0;34m(\u001b[0m\u001b[0mvis_params\u001b[0m\u001b[0;34m)\u001b[0m\u001b[0;34m\u001b[0m\u001b[0;34m\u001b[0m\u001b[0m\n\u001b[1;32m    129\u001b[0m     \u001b[0mrequest\u001b[0m\u001b[0;34m[\u001b[0m\u001b[0;34m'image'\u001b[0m\u001b[0;34m]\u001b[0m \u001b[0;34m=\u001b[0m \u001b[0mvis_image\u001b[0m\u001b[0;34m\u001b[0m\u001b[0;34m\u001b[0m\u001b[0m\n\u001b[0;32m--> 130\u001b[0;31m     \u001b[0mresponse\u001b[0m \u001b[0;34m=\u001b[0m \u001b[0mdata\u001b[0m\u001b[0;34m.\u001b[0m\u001b[0mgetMapId\u001b[0m\u001b[0;34m(\u001b[0m\u001b[0mrequest\u001b[0m\u001b[0;34m)\u001b[0m\u001b[0;34m\u001b[0m\u001b[0;34m\u001b[0m\u001b[0m\n\u001b[0m\u001b[1;32m    131\u001b[0m     \u001b[0mresponse\u001b[0m\u001b[0;34m[\u001b[0m\u001b[0;34m'image'\u001b[0m\u001b[0;34m]\u001b[0m \u001b[0;34m=\u001b[0m \u001b[0mself\u001b[0m\u001b[0;34m\u001b[0m\u001b[0;34m\u001b[0m\u001b[0m\n\u001b[1;32m    132\u001b[0m     \u001b[0;32mreturn\u001b[0m \u001b[0mresponse\u001b[0m\u001b[0;34m\u001b[0m\u001b[0;34m\u001b[0m\u001b[0m\n",
      "\u001b[0;32m~/anaconda3/envs/gee/lib/python3.8/site-packages/ee/data.py\u001b[0m in \u001b[0;36mgetMapId\u001b[0;34m(params)\u001b[0m\n\u001b[1;32m    572\u001b[0m   \u001b[0;31m# request, which might be large.\u001b[0m\u001b[0;34m\u001b[0m\u001b[0;34m\u001b[0m\u001b[0;34m\u001b[0m\u001b[0m\n\u001b[1;32m    573\u001b[0m   result = _execute_cloud_call(\n\u001b[0;32m--> 574\u001b[0;31m       _get_cloud_api_resource().projects().maps().create(\n\u001b[0m\u001b[1;32m    575\u001b[0m           parent=_get_projects_path(), fields='name', body=request))\n\u001b[1;32m    576\u001b[0m   \u001b[0mmap_name\u001b[0m \u001b[0;34m=\u001b[0m \u001b[0mresult\u001b[0m\u001b[0;34m[\u001b[0m\u001b[0;34m'name'\u001b[0m\u001b[0;34m]\u001b[0m\u001b[0;34m\u001b[0m\u001b[0;34m\u001b[0m\u001b[0m\n",
      "\u001b[0;32m~/anaconda3/envs/gee/lib/python3.8/site-packages/googleapiclient/discovery.py\u001b[0m in \u001b[0;36mmethod\u001b[0;34m(self, **kwargs)\u001b[0m\n\u001b[1;32m   1011\u001b[0m                 \u001b[0mcast_value\u001b[0m \u001b[0;34m=\u001b[0m \u001b[0;34m[\u001b[0m\u001b[0m_cast\u001b[0m\u001b[0;34m(\u001b[0m\u001b[0mx\u001b[0m\u001b[0;34m,\u001b[0m \u001b[0mto_type\u001b[0m\u001b[0;34m)\u001b[0m \u001b[0;32mfor\u001b[0m \u001b[0mx\u001b[0m \u001b[0;32min\u001b[0m \u001b[0mvalue\u001b[0m\u001b[0;34m]\u001b[0m\u001b[0;34m\u001b[0m\u001b[0;34m\u001b[0m\u001b[0m\n\u001b[1;32m   1012\u001b[0m             \u001b[0;32melse\u001b[0m\u001b[0;34m:\u001b[0m\u001b[0;34m\u001b[0m\u001b[0;34m\u001b[0m\u001b[0m\n\u001b[0;32m-> 1013\u001b[0;31m                 \u001b[0mcast_value\u001b[0m \u001b[0;34m=\u001b[0m \u001b[0m_cast\u001b[0m\u001b[0;34m(\u001b[0m\u001b[0mvalue\u001b[0m\u001b[0;34m,\u001b[0m \u001b[0mto_type\u001b[0m\u001b[0;34m)\u001b[0m\u001b[0;34m\u001b[0m\u001b[0;34m\u001b[0m\u001b[0m\n\u001b[0m\u001b[1;32m   1014\u001b[0m             \u001b[0;32mif\u001b[0m \u001b[0mkey\u001b[0m \u001b[0;32min\u001b[0m \u001b[0mparameters\u001b[0m\u001b[0;34m.\u001b[0m\u001b[0mquery_params\u001b[0m\u001b[0;34m:\u001b[0m\u001b[0;34m\u001b[0m\u001b[0;34m\u001b[0m\u001b[0m\n\u001b[1;32m   1015\u001b[0m                 \u001b[0mactual_query_params\u001b[0m\u001b[0;34m[\u001b[0m\u001b[0mparameters\u001b[0m\u001b[0;34m.\u001b[0m\u001b[0margmap\u001b[0m\u001b[0;34m[\u001b[0m\u001b[0mkey\u001b[0m\u001b[0;34m]\u001b[0m\u001b[0;34m]\u001b[0m \u001b[0;34m=\u001b[0m \u001b[0mcast_value\u001b[0m\u001b[0;34m\u001b[0m\u001b[0;34m\u001b[0m\u001b[0m\n",
      "\u001b[0;32m~/anaconda3/envs/gee/lib/python3.8/site-packages/googleapiclient/discovery.py\u001b[0m in \u001b[0;36m_cast\u001b[0;34m(value, schema_type)\u001b[0m\n\u001b[1;32m    647\u001b[0m             \u001b[0;32mreturn\u001b[0m \u001b[0mvalue\u001b[0m\u001b[0;34m\u001b[0m\u001b[0;34m\u001b[0m\u001b[0m\n\u001b[1;32m    648\u001b[0m         \u001b[0;32melse\u001b[0m\u001b[0;34m:\u001b[0m\u001b[0;34m\u001b[0m\u001b[0;34m\u001b[0m\u001b[0m\n\u001b[0;32m--> 649\u001b[0;31m             \u001b[0;32mreturn\u001b[0m \u001b[0mstr\u001b[0m\u001b[0;34m(\u001b[0m\u001b[0mvalue\u001b[0m\u001b[0;34m)\u001b[0m\u001b[0;34m\u001b[0m\u001b[0;34m\u001b[0m\u001b[0m\n\u001b[0m\u001b[1;32m    650\u001b[0m \u001b[0;34m\u001b[0m\u001b[0m\n\u001b[1;32m    651\u001b[0m \u001b[0;34m\u001b[0m\u001b[0m\n",
      "\u001b[0;31mKeyboardInterrupt\u001b[0m: "
     ]
    }
   ],
   "source": [
    "Map3.addLayer(QM_NDVI_1999, vizParams, 'QM de NDVI 1999')\n",
    "Map3.addLayer(QM_NDWI_1999, vizParams, 'QM de NDWI 1999')\n",
    "Map3.addLayer(QM_SAVI_1999, vizParams, 'QM de SAVI 1999')\n",
    "Map3.addLayer(QM_NDGI_1999, vis_nieve, 'QM de NDGI 1999')\n",
    "Map3.addLayer(QM_NDSI_1999, vis_nieve, 'QM de NDSI 1999')\n",
    "# Map3"
   ]
  },
  {
   "cell_type": "code",
   "execution_count": null,
   "id": "f1ff7467",
   "metadata": {
    "ExecuteTime": {
     "end_time": "2021-10-20T00:35:53.960067Z",
     "start_time": "2021-10-20T00:35:53.960053Z"
    }
   },
   "outputs": [],
   "source": [
    "c1999_sn = coleccion1999.map(Cloud20)\n",
    "NDVI_1999_sn = c1999_sn.qualityMosaic('B11')\n",
    "NDWI_1999_sn = c1999_sn.qualityMosaic('NDWI')\n",
    "SAVI_1999_sn = c1999_sn.qualityMosaic('SAVI')\n",
    "NDGI_1999_sn = c1999_sn.qualityMosaic('NDGI')\n",
    "NDSI_1999_sn = c1999_sn.qualityMosaic('NDSI')"
   ]
  },
  {
   "cell_type": "code",
   "execution_count": null,
   "id": "fd655c06",
   "metadata": {
    "ExecuteTime": {
     "end_time": "2021-10-20T00:35:53.960956Z",
     "start_time": "2021-10-20T00:35:53.960947Z"
    }
   },
   "outputs": [],
   "source": [
    "Map4.addLayer(NDVI_1999_sn, vizParams, 'QMsn de NDVI 1999')\n",
    "Map4.addLayer(NDWI_1999_sn, vizParams, 'QMsn de NDWI 1999')\n",
    "Map4.addLayer(SAVI_1999_sn, vizParams, 'QMsn de SAVI 1999')\n",
    "Map4.addLayer(NDGI_1999_sn, vis_nieve, 'QMsn de NDGI 1999')\n",
    "Map4.addLayer(NDSI_1999_sn, vis_nieve, 'QMsn de NDSI 1999')\n",
    "Map4"
   ]
  },
  {
   "cell_type": "markdown",
   "id": "d7f0b6de",
   "metadata": {},
   "source": [
    "### 2000"
   ]
  },
  {
   "cell_type": "code",
   "execution_count": null,
   "id": "491cf237",
   "metadata": {
    "ExecuteTime": {
     "end_time": "2021-10-20T00:35:53.961508Z",
     "start_time": "2021-10-20T00:35:53.961501Z"
    }
   },
   "outputs": [],
   "source": [
    "start_date = '1999-10-01'\n",
    "end_date = '2000-03-31'\n",
    "\n",
    "l5_2000 = ee.ImageCollection('LANDSAT/LT05/C01/T1_TOA') \\\n",
    "    .filterBounds(patagonia_grande) \\\n",
    "    .filterDate(start_date, end_date)"
   ]
  },
  {
   "cell_type": "code",
   "execution_count": null,
   "id": "e3614c15",
   "metadata": {
    "ExecuteTime": {
     "end_time": "2021-10-20T00:35:53.962337Z",
     "start_time": "2021-10-20T00:35:53.962327Z"
    }
   },
   "outputs": [],
   "source": [
    "coleccion2000 = l5_2000.map(addNDVI).map(addNDWI).map(addNDGI).map(addSAVI).map(addNDSI).map(addDate).map(addCloud)"
   ]
  },
  {
   "cell_type": "code",
   "execution_count": null,
   "id": "920753f5",
   "metadata": {
    "ExecuteTime": {
     "end_time": "2021-10-20T00:35:53.962831Z",
     "start_time": "2021-10-20T00:35:53.962824Z"
    }
   },
   "outputs": [],
   "source": [
    "QM_NDVI_2000 = coleccion2000.qualityMosaic('B11') # Normalized difference vegetation Index\n",
    "QM_NDWI_2000 = coleccion2000.qualityMosaic('NDWI') # Normalize difference water index\n",
    "QM_SAVI_2000 = coleccion2000.qualityMosaic('SAVI') # Soil Adjusted Vegetation Index \n",
    "QM_NDGI_2000 = coleccion2000.qualityMosaic('NDGI') # Normalized difference glacier index\n",
    "QM_NDSI_2000 = coleccion2000.qualityMosaic('NDSI') # Normalized difference snow index"
   ]
  },
  {
   "cell_type": "code",
   "execution_count": null,
   "id": "cc8d0a3c",
   "metadata": {
    "ExecuteTime": {
     "end_time": "2021-10-20T00:35:53.963602Z",
     "start_time": "2021-10-20T00:35:53.963594Z"
    }
   },
   "outputs": [],
   "source": [
    "Map3.addLayer(QM_NDVI_2000, vizParams, 'QM de NDVI 2000')\n",
    "Map3.addLayer(QM_NDWI_2000, vizParams, 'QM de NDWI 2000')\n",
    "Map3.addLayer(QM_SAVI_2000, vizParams, 'QM de SAVI 2000')\n",
    "Map3.addLayer(QM_NDGI_2000, vis_nieve, 'QM de NDGI 2000')\n",
    "Map3.addLayer(QM_NDSI_2000, vis_nieve, 'QM de NDSI 2000')\n",
    "# Map3"
   ]
  },
  {
   "cell_type": "code",
   "execution_count": null,
   "id": "ebf9f100",
   "metadata": {
    "ExecuteTime": {
     "end_time": "2021-10-20T00:35:53.964260Z",
     "start_time": "2021-10-20T00:35:53.964252Z"
    }
   },
   "outputs": [],
   "source": [
    "c2000_sn = coleccion2000.map(Cloud20)\n",
    "NDVI_2000_sn = c2000_sn.qualityMosaic('B11')\n",
    "NDWI_2000_sn = c2000_sn.qualityMosaic('NDWI')\n",
    "SAVI_2000_sn = c2000_sn.qualityMosaic('SAVI')\n",
    "NDGI_2000_sn = c2000_sn.qualityMosaic('NDGI')\n",
    "NDSI_2000_sn = c2000_sn.qualityMosaic('NDSI')"
   ]
  },
  {
   "cell_type": "code",
   "execution_count": null,
   "id": "6a4270ee",
   "metadata": {
    "ExecuteTime": {
     "end_time": "2021-10-20T00:35:53.965141Z",
     "start_time": "2021-10-20T00:35:53.965134Z"
    }
   },
   "outputs": [],
   "source": [
    "Map4.addLayer(NDVI_2000_sn, vizParams, 'QMsn de NDVI 2000')\n",
    "Map4.addLayer(NDWI_2000_sn, vizParams, 'QMsn de NDWI 2000')\n",
    "Map4.addLayer(SAVI_2000_sn, vizParams, 'QMsn de SAVI 2000')\n",
    "Map4.addLayer(NDGI_2000_sn, vis_nieve, 'QMsn de NDGI 2000')\n",
    "Map4.addLayer(NDSI_2000_sn, vis_nieve, 'QMsn de NDSI 2000')\n",
    "Map4"
   ]
  },
  {
   "cell_type": "markdown",
   "id": "92186d5f",
   "metadata": {},
   "source": [
    "#### Colección agua 1996-1999"
   ]
  },
  {
   "cell_type": "code",
   "execution_count": null,
   "id": "db661337",
   "metadata": {
    "ExecuteTime": {
     "end_time": "2021-10-20T00:35:53.965908Z",
     "start_time": "2021-10-20T00:35:53.965899Z"
    }
   },
   "outputs": [],
   "source": [
    "start_date = '1995-10-01'\n",
    "end_date = '2000-03-31'\n",
    "\n",
    "l5_sur = ee.ImageCollection('LANDSAT/LT05/C01/T1_TOA') \\\n",
    "    .filterBounds(patagonia_grande) \\\n",
    "    .filterDate(start_date, end_date)"
   ]
  },
  {
   "cell_type": "code",
   "execution_count": null,
   "id": "7b8ccf86",
   "metadata": {
    "ExecuteTime": {
     "end_time": "2021-10-20T00:35:53.966552Z",
     "start_time": "2021-10-20T00:35:53.966543Z"
    }
   },
   "outputs": [],
   "source": [
    "coleccionsur = l5_sur.map(addNDVI).map(addNDWI).map(addNDGI).map(addSAVI).map(addNDSI).map(addDate).map(addCloud)"
   ]
  },
  {
   "cell_type": "code",
   "execution_count": null,
   "id": "f78eb911",
   "metadata": {
    "ExecuteTime": {
     "end_time": "2021-10-20T00:35:53.967225Z",
     "start_time": "2021-10-20T00:35:53.967217Z"
    }
   },
   "outputs": [],
   "source": [
    "QM_NDVI_sur = coleccionsur.qualityMosaic('B11') # Normalized difference vegetation Index\n",
    "QM_NDWI_sur = coleccionsur.qualityMosaic('NDWI') # Normalize difference water index\n",
    "QM_SAVI_sur = coleccionsur.qualityMosaic('SAVI') # Soil Adjusted Vegetation Index \n",
    "QM_NDGI_sur = coleccionsur.qualityMosaic('NDGI') # Normalized difference glacier index\n",
    "QM_NDSI_sur = coleccionsur.qualityMosaic('NDSI') # Normalized difference snow index"
   ]
  },
  {
   "cell_type": "code",
   "execution_count": null,
   "id": "4c8d2ed0",
   "metadata": {
    "ExecuteTime": {
     "end_time": "2021-10-20T00:35:53.968140Z",
     "start_time": "2021-10-20T00:35:53.968128Z"
    }
   },
   "outputs": [],
   "source": [
    "Map3.addLayer(QM_NDVI_sur, vizParams, 'QM de NDVI sur')\n",
    "Map3.addLayer(QM_NDWI_sur, vizParams, 'QM de NDWI sur')\n",
    "Map3.addLayer(QM_SAVI_sur, vizParams, 'QM de SAVI sur')\n",
    "Map3.addLayer(QM_NDGI_sur, vis_nieve, 'QM de NDGI sur')\n",
    "Map3.addLayer(QM_NDSI_sur, vis_nieve, 'QM de NDSI sur')\n",
    "# Map3"
   ]
  },
  {
   "cell_type": "code",
   "execution_count": null,
   "id": "a27259e6",
   "metadata": {
    "ExecuteTime": {
     "end_time": "2021-10-20T00:35:53.969024Z",
     "start_time": "2021-10-20T00:35:53.969013Z"
    }
   },
   "outputs": [],
   "source": [
    "csur_sn = coleccionsur.map(Cloud20)\n",
    "NDVI_sur_sn = csur_sn.qualityMosaic('B11')\n",
    "NDWI_sur_sn = csur_sn.qualityMosaic('NDWI')\n",
    "SAVI_sur_sn = csur_sn.qualityMosaic('SAVI')\n",
    "NDGI_sur_sn = csur_sn.qualityMosaic('NDGI')\n",
    "NDSI_sur_sn = csur_sn.qualityMosaic('NDSI')"
   ]
  },
  {
   "cell_type": "code",
   "execution_count": null,
   "id": "20179bf9",
   "metadata": {
    "ExecuteTime": {
     "end_time": "2021-10-20T00:35:53.969909Z",
     "start_time": "2021-10-20T00:35:53.969898Z"
    }
   },
   "outputs": [],
   "source": [
    "Map4.addLayer(NDVI_sur_sn, vizParams, 'QMsn de NDVI sur')\n",
    "Map4.addLayer(NDWI_sur_sn, vizParams, 'QMsn de NDWI sur')\n",
    "Map4.addLayer(SAVI_sur_sn, vizParams, 'QMsn de SAVI sur')\n",
    "Map4.addLayer(NDGI_sur_sn, vis_nieve, 'QMsn de NDGI sur')\n",
    "Map4.addLayer(NDSI_sur_sn, vis_nieve, 'QMsn de NDSI sur')\n",
    "Map4"
   ]
  },
  {
   "cell_type": "markdown",
   "id": "fb497f8a",
   "metadata": {},
   "source": [
    "### 1996 - 2000"
   ]
  },
  {
   "cell_type": "code",
   "execution_count": null,
   "id": "19995891",
   "metadata": {
    "ExecuteTime": {
     "end_time": "2021-10-20T00:35:53.970627Z",
     "start_time": "2021-10-20T00:35:53.970620Z"
    }
   },
   "outputs": [],
   "source": [
    "coleccion1996_2000 = ee.ImageCollection(l5_2000.merge(l5_1999).merge(l5_1998).merge(l5_1997).merge(l5_1996))"
   ]
  },
  {
   "cell_type": "code",
   "execution_count": null,
   "id": "118442b0",
   "metadata": {
    "ExecuteTime": {
     "end_time": "2021-10-20T00:35:53.971474Z",
     "start_time": "2021-10-20T00:35:53.971466Z"
    }
   },
   "outputs": [],
   "source": [
    "l5_summer = coleccion1996_2000.map(addNDVI).map(addNDWI).map(addNDGI).map(addSAVI).map(addNDSI).map(addDate).map(addCloud)"
   ]
  },
  {
   "cell_type": "markdown",
   "id": "758da82f",
   "metadata": {},
   "source": [
    "### Tier 1"
   ]
  },
  {
   "cell_type": "code",
   "execution_count": null,
   "id": "36aef001",
   "metadata": {
    "ExecuteTime": {
     "end_time": "2021-10-20T00:35:53.972411Z",
     "start_time": "2021-10-20T00:35:53.972401Z"
    }
   },
   "outputs": [],
   "source": [
    "Tier1_sn = l5_summer.map(Cloud10)"
   ]
  },
  {
   "cell_type": "code",
   "execution_count": null,
   "id": "d5e0fc7f",
   "metadata": {
    "ExecuteTime": {
     "end_time": "2021-10-20T00:35:53.973282Z",
     "start_time": "2021-10-20T00:35:53.973270Z"
    }
   },
   "outputs": [],
   "source": [
    "QM_NDVI_T1 = Tier1_sn.qualityMosaic('B11')# Normalized difference vegetation Index\n",
    "QM_NDWI_T1 = Tier1_sn.qualityMosaic('NDWI') # Normalize difference water index\n",
    "QM_SAVI_T1 = Tier1_sn.qualityMosaic('SAVI') # Soil Adjusted Vegetation Index \n",
    "QM_NDGI_T1 = Tier1_sn.qualityMosaic('NDGI') # Normalized difference glacier index\n",
    "QM_NDSI_T1 = Tier1_sn.qualityMosaic('NDSI') # Normalized difference snow index"
   ]
  },
  {
   "cell_type": "code",
   "execution_count": null,
   "id": "c4bee1c6",
   "metadata": {},
   "outputs": [],
   "source": []
  },
  {
   "cell_type": "markdown",
   "id": "37754dfe",
   "metadata": {},
   "source": [
    "### Tier 2"
   ]
  },
  {
   "cell_type": "code",
   "execution_count": null,
   "id": "3b55c21d",
   "metadata": {
    "ExecuteTime": {
     "end_time": "2021-10-20T00:35:53.973991Z",
     "start_time": "2021-10-20T00:35:53.973983Z"
    }
   },
   "outputs": [],
   "source": [
    "Tier2_sn = l5_summer.map(Cloud20)"
   ]
  },
  {
   "cell_type": "code",
   "execution_count": null,
   "id": "46cbe329",
   "metadata": {
    "ExecuteTime": {
     "end_time": "2021-10-20T00:35:53.974874Z",
     "start_time": "2021-10-20T00:35:53.974865Z"
    }
   },
   "outputs": [],
   "source": [
    "QM_NDVI_T2 = Tier2_sn.qualityMosaic('B11')# Normalized difference vegetation Index\n",
    "QM_NDWI_T2 = Tier2_sn.qualityMosaic('NDWI') # Normalize difference water index\n",
    "QM_SAVI_T2 = Tier2_sn.qualityMosaic('SAVI') # Soil Adjusted Vegetation Index \n",
    "QM_NDGI_T2 = Tier2_sn.qualityMosaic('NDGI') # Normalized difference glacier index\n",
    "QM_NDSI_T2 = Tier2_sn.qualityMosaic('NDSI') # Normalized difference snow index"
   ]
  },
  {
   "cell_type": "code",
   "execution_count": null,
   "id": "55b37742",
   "metadata": {},
   "outputs": [],
   "source": []
  },
  {
   "cell_type": "markdown",
   "id": "84c752ef",
   "metadata": {},
   "source": [
    "### Tier 3"
   ]
  },
  {
   "cell_type": "code",
   "execution_count": null,
   "id": "a695ee19",
   "metadata": {
    "ExecuteTime": {
     "end_time": "2021-10-20T00:35:53.975754Z",
     "start_time": "2021-10-20T00:35:53.975744Z"
    }
   },
   "outputs": [],
   "source": [
    "Tier3_sn = l5_summer.map(Cloud30)"
   ]
  },
  {
   "cell_type": "code",
   "execution_count": null,
   "id": "b88ec1d9",
   "metadata": {
    "ExecuteTime": {
     "end_time": "2021-10-20T00:35:53.976406Z",
     "start_time": "2021-10-20T00:35:53.976399Z"
    }
   },
   "outputs": [],
   "source": [
    "QM_NDVI_T3 = Tier3_sn.qualityMosaic('B11')# Normalized difference vegetation Index\n",
    "QM_NDWI_T3 = Tier3_sn.qualityMosaic('NDWI') # Normalize difference water index\n",
    "QM_SAVI_T3 = Tier3_sn.qualityMosaic('SAVI') # Soil Adjusted Vegetation Index \n",
    "QM_NDGI_T3 = Tier3_sn.qualityMosaic('NDGI') # Normalized difference glacier index\n",
    "QM_NDSI_T3 = Tier3_sn.qualityMosaic('NDSI') # Normalized difference snow index"
   ]
  },
  {
   "cell_type": "code",
   "execution_count": null,
   "id": "1c3cea6d",
   "metadata": {},
   "outputs": [],
   "source": []
  },
  {
   "cell_type": "markdown",
   "id": "6cc7caf3",
   "metadata": {},
   "source": [
    "### Tier 4"
   ]
  },
  {
   "cell_type": "code",
   "execution_count": null,
   "id": "847b8fbc",
   "metadata": {
    "ExecuteTime": {
     "end_time": "2021-10-20T00:35:53.977360Z",
     "start_time": "2021-10-20T00:35:53.977346Z"
    }
   },
   "outputs": [],
   "source": [
    "Tier4_sn = l5_summer.map(Cloud40)"
   ]
  },
  {
   "cell_type": "code",
   "execution_count": null,
   "id": "6362b2f6",
   "metadata": {
    "ExecuteTime": {
     "end_time": "2021-10-20T00:35:53.978045Z",
     "start_time": "2021-10-20T00:35:53.978035Z"
    }
   },
   "outputs": [],
   "source": [
    "QM_NDVI_T4 = Tier4_sn.qualityMosaic('B11')# Normalized difference vegetation Index\n",
    "QM_NDWI_T4 = Tier4_sn.qualityMosaic('NDWI') # Normalize difference water index\n",
    "QM_SAVI_T4 = Tier4_sn.qualityMosaic('SAVI') # Soil Adjusted Vegetation Index \n",
    "QM_NDGI_T4 = Tier4_sn.qualityMosaic('NDGI') # Normalized difference glacier index\n",
    "QM_NDSI_T4 = Tier4_sn.qualityMosaic('NDSI') # Normalized difference snow index"
   ]
  },
  {
   "cell_type": "code",
   "execution_count": null,
   "id": "267cefd4",
   "metadata": {},
   "outputs": [],
   "source": []
  },
  {
   "cell_type": "markdown",
   "id": "dd7d911d",
   "metadata": {},
   "source": [
    "## Indices por colección"
   ]
  },
  {
   "cell_type": "markdown",
   "id": "4ea0a4cd",
   "metadata": {},
   "source": [
    "### Índices 1996"
   ]
  },
  {
   "cell_type": "code",
   "execution_count": null,
   "id": "426dfca0",
   "metadata": {
    "ExecuteTime": {
     "end_time": "2021-10-20T00:35:53.979091Z",
     "start_time": "2021-10-20T00:35:53.979082Z"
    }
   },
   "outputs": [],
   "source": [
    "NDVI_1996 = NDVI_1996_sn.select('B11')\n",
    "NDWI_1996 = NDWI_1996_sn.select('NDWI') \n",
    "SAVI_1996 = SAVI_1996_sn.select('SAVI')\n",
    "NDGI_1996 = NDGI_1996_sn.select('NDGI')\n",
    "NDSI_1996 = NDSI_1996_sn.select('NDSI')"
   ]
  },
  {
   "cell_type": "code",
   "execution_count": null,
   "id": "eaf84698",
   "metadata": {
    "ExecuteTime": {
     "end_time": "2021-10-20T00:35:53.979804Z",
     "start_time": "2021-10-20T00:35:53.979793Z"
    }
   },
   "outputs": [],
   "source": [
    "Map7.addLayer(NDVI_1996, {'palette': color_terrain}, 'QMsn de NDVI 1996')\n",
    "Map7.addLayer(NDWI_1996, {'palette': color_ndwi}, 'QMsn de NDWI 1996')\n",
    "Map7.addLayer(SAVI_1996, {'palette': color_ndvi}, 'QMsn de SAVI 1996')\n",
    "# Map7.addLayer(NDGI_1996, {'palette': color_glaciar}, 'QMsn de NDGI 1996')\n",
    "# Map7.addLayer(NDSI_1996, {'palette': color_ndwi}, 'QMsn de NDSI 1996')\n",
    "Map7"
   ]
  },
  {
   "cell_type": "markdown",
   "id": "1e0309e1",
   "metadata": {},
   "source": [
    "### Índices 1997"
   ]
  },
  {
   "cell_type": "code",
   "execution_count": null,
   "id": "cc1253c0",
   "metadata": {
    "ExecuteTime": {
     "end_time": "2021-10-20T00:35:53.980615Z",
     "start_time": "2021-10-20T00:35:53.980607Z"
    }
   },
   "outputs": [],
   "source": [
    "NDVI_1997 = NDVI_1997_sn.select('B11')\n",
    "NDWI_1997 = NDWI_1997_sn.select('NDWI') \n",
    "SAVI_1997 = SAVI_1997_sn.select('SAVI')\n",
    "NDGI_1997 = NDGI_1997_sn.select('NDGI')\n",
    "NDSI_1997 = NDSI_1997_sn.select('NDSI')"
   ]
  },
  {
   "cell_type": "code",
   "execution_count": null,
   "id": "3e0524d7",
   "metadata": {
    "ExecuteTime": {
     "end_time": "2021-10-20T00:35:53.981481Z",
     "start_time": "2021-10-20T00:35:53.981468Z"
    }
   },
   "outputs": [],
   "source": [
    "Map7.addLayer(NDVI_1997, {'palette': color_terrain}, 'QMsn de NDVI 1997')\n",
    "Map7.addLayer(NDWI_1997, {'palette': color_ndwi}, 'QMsn de NDWI 1997')\n",
    "Map7.addLayer(SAVI_1997, {'palette': color_ndvi}, 'QMsn de SAVI 1997')\n",
    "# Map7.addLayer(NDGI_1997, {'palette': color_glaciar}, 'QMsn de NDGI 1997')\n",
    "# Map7.addLayer(NDSI_1997, {'palette': color_ndwi}, 'QMsn de NDSI 1997')\n",
    "Map7"
   ]
  },
  {
   "cell_type": "markdown",
   "id": "4aee56c9",
   "metadata": {},
   "source": [
    "### Índices 1998"
   ]
  },
  {
   "cell_type": "code",
   "execution_count": null,
   "id": "4a0a2445",
   "metadata": {
    "ExecuteTime": {
     "end_time": "2021-10-20T00:35:53.982328Z",
     "start_time": "2021-10-20T00:35:53.982318Z"
    }
   },
   "outputs": [],
   "source": [
    "NDVI_1998 = NDVI_1998_sn.select('B11')\n",
    "NDWI_1998 = NDWI_1998_sn.select('NDWI') \n",
    "SAVI_1998 = SAVI_1998_sn.select('SAVI')\n",
    "NDGI_1998 = NDGI_1998_sn.select('NDGI')\n",
    "NDSI_1998 = NDSI_1998_sn.select('NDSI')"
   ]
  },
  {
   "cell_type": "code",
   "execution_count": null,
   "id": "144629ba",
   "metadata": {
    "ExecuteTime": {
     "end_time": "2021-10-20T00:35:53.983119Z",
     "start_time": "2021-10-20T00:35:53.983109Z"
    }
   },
   "outputs": [],
   "source": [
    "Map8.addLayer(NDVI_1998, {'palette': color_terrain}, 'QMsn de NDVI 1998')\n",
    "Map8.addLayer(NDWI_1998, {'palette': color_ndwi}, 'QMsn de NDWI 1998')\n",
    "Map8.addLayer(SAVI_1998, {'palette': color_ndvi}, 'QMsn de SAVI 1998')\n",
    "# Map8.addLayer(NDGI_1998, {'palette': color_glaciar}, 'QMsn de NDGI 1998')\n",
    "# Map8.addLayer(NDSI_1998, {'palette': color_ndwi}, 'QMsn de NDSI 1998')\n",
    "Map8"
   ]
  },
  {
   "cell_type": "markdown",
   "id": "4d623e13",
   "metadata": {},
   "source": [
    "### Índices 1999"
   ]
  },
  {
   "cell_type": "code",
   "execution_count": null,
   "id": "6fcc2adb",
   "metadata": {
    "ExecuteTime": {
     "end_time": "2021-10-20T00:35:53.983744Z",
     "start_time": "2021-10-20T00:35:53.983737Z"
    }
   },
   "outputs": [],
   "source": [
    "NDVI_1999 = NDVI_1999_sn.select('B11')\n",
    "NDWI_1999 = NDWI_1999_sn.select('NDWI') \n",
    "SAVI_1999 = SAVI_1999_sn.select('SAVI')\n",
    "NDGI_1999 = NDGI_1999_sn.select('NDGI')\n",
    "NDSI_1999 = NDSI_1999_sn.select('NDSI')"
   ]
  },
  {
   "cell_type": "code",
   "execution_count": null,
   "id": "e1eb9022",
   "metadata": {
    "ExecuteTime": {
     "end_time": "2021-10-20T00:35:53.984665Z",
     "start_time": "2021-10-20T00:35:53.984655Z"
    }
   },
   "outputs": [],
   "source": [
    "Map8.addLayer(NDVI_1999, {'palette': color_terrain}, 'QMsn de NDVI 1999')\n",
    "Map8.addLayer(NDWI_1999, {'palette': color_ndwi}, 'QMsn de NDWI 1999')\n",
    "Map8.addLayer(SAVI_1999, {'palette': color_ndvi}, 'QMsn de SAVI 1999')\n",
    "# Map8.addLayer(NDGI_1999, {'palette': color_glaciar}, 'QMsn de NDGI 1999')\n",
    "# Map8.addLayer(NDSI_1999, {'palette': color_ndwi}, 'QMsn de NDSI 1999')\n",
    "Map8"
   ]
  },
  {
   "cell_type": "markdown",
   "id": "dd05e9e8",
   "metadata": {},
   "source": [
    "## Generación de Mosaico"
   ]
  },
  {
   "cell_type": "code",
   "execution_count": null,
   "id": "5643cdaf",
   "metadata": {
    "ExecuteTime": {
     "end_time": "2021-10-20T00:35:53.985636Z",
     "start_time": "2021-10-20T00:35:53.985625Z"
    }
   },
   "outputs": [],
   "source": [
    "mosaic = ee.ImageCollection([QM_NDVI_sur,QM_NDVI_1996]).mosaic()"
   ]
  },
  {
   "cell_type": "code",
   "execution_count": null,
   "id": "9b229098",
   "metadata": {
    "ExecuteTime": {
     "end_time": "2021-10-20T00:35:53.986631Z",
     "start_time": "2021-10-20T00:35:53.986616Z"
    }
   },
   "outputs": [],
   "source": [
    "mosaic_landsat = mosaic.set('SENSOR_ID', 'OLI_TIRS')"
   ]
  },
  {
   "cell_type": "code",
   "execution_count": null,
   "id": "a98110ba",
   "metadata": {
    "ExecuteTime": {
     "end_time": "2021-10-20T00:35:53.987289Z",
     "start_time": "2021-10-20T00:35:53.987279Z"
    }
   },
   "outputs": [],
   "source": [
    "cloud_mosaic = ee.Algorithms.Landsat.simpleCloudScore(mosaic_landsat)"
   ]
  },
  {
   "cell_type": "code",
   "execution_count": null,
   "id": "745b712d",
   "metadata": {
    "ExecuteTime": {
     "end_time": "2021-10-20T00:35:53.988133Z",
     "start_time": "2021-10-20T00:35:53.988123Z"
    }
   },
   "outputs": [],
   "source": [
    "cloud_mosaic = cloud_mosaic.select('cloud')"
   ]
  },
  {
   "cell_type": "code",
   "execution_count": null,
   "id": "3351dfe9",
   "metadata": {
    "ExecuteTime": {
     "end_time": "2021-10-20T00:35:53.988855Z",
     "start_time": "2021-10-20T00:35:53.988847Z"
    }
   },
   "outputs": [],
   "source": [
    "palette_nubes = ['#1a9850', '#66bd63', '#a6d96a', '#d9ef8b', '#fee08b', '#fdae61', '#f46d43', '#d73027']"
   ]
  },
  {
   "cell_type": "code",
   "execution_count": null,
   "id": "aa1c77e2",
   "metadata": {
    "ExecuteTime": {
     "end_time": "2021-10-20T00:35:53.989730Z",
     "start_time": "2021-10-20T00:35:53.989717Z"
    }
   },
   "outputs": [],
   "source": [
    "resultados= [cloud_mosaic, mosaic]\n",
    "vis_params2=  [\n",
    "    {'palette':palette_nubes}, \n",
    "    vizParams]\n",
    "labels = [\n",
    "    'Nubes mosaico',\n",
    "    'mosaico inicial']"
   ]
  },
  {
   "cell_type": "code",
   "execution_count": null,
   "id": "28e91129",
   "metadata": {
    "ExecuteTime": {
     "end_time": "2021-10-20T00:35:53.990596Z",
     "start_time": "2021-10-20T00:35:53.990587Z"
    }
   },
   "outputs": [],
   "source": [
    "geemap.linked_maps(rows=1, cols=2, height=\"400px\", center=[-45, -75], zoom=4, \n",
    "                   ee_objects=resultados, vis_params=vis_params2, labels=labels, label_position=\"topright\")"
   ]
  },
  {
   "cell_type": "code",
   "execution_count": null,
   "id": "93ea56bf",
   "metadata": {
    "ExecuteTime": {
     "end_time": "2021-10-20T00:35:53.991618Z",
     "start_time": "2021-10-20T00:35:53.991608Z"
    }
   },
   "outputs": [],
   "source": [
    "def llenado(image):\n",
    "    return image.where(cloud_mosaic.gt(10),QM_NDVI_T1)"
   ]
  },
  {
   "cell_type": "code",
   "execution_count": null,
   "id": "8287934f",
   "metadata": {
    "ExecuteTime": {
     "end_time": "2021-10-20T00:35:53.992218Z",
     "start_time": "2021-10-20T00:35:53.992210Z"
    }
   },
   "outputs": [],
   "source": [
    "img1 = llenado(mosaic)"
   ]
  },
  {
   "cell_type": "code",
   "execution_count": null,
   "id": "0ea4ebed",
   "metadata": {
    "ExecuteTime": {
     "end_time": "2021-10-20T00:35:53.993084Z",
     "start_time": "2021-10-20T00:35:53.993074Z"
    }
   },
   "outputs": [],
   "source": [
    "img1_landsat = img1.set('SENSOR_ID', 'OLI_TIRS')\n",
    "cloud_img1 = ee.Algorithms.Landsat.simpleCloudScore(img1_landsat)\n",
    "cloud_img1 = cloud_img1.select('cloud')"
   ]
  },
  {
   "cell_type": "code",
   "execution_count": null,
   "id": "84dbb2d4",
   "metadata": {
    "ExecuteTime": {
     "end_time": "2021-10-20T00:35:53.993878Z",
     "start_time": "2021-10-20T00:35:53.993869Z"
    }
   },
   "outputs": [],
   "source": [
    "resultados= [cloud_img1, img1]\n",
    "vis_params2=  [\n",
    "    {'palette':palette_nubes}, \n",
    "    vizParams]\n",
    "labels = [\n",
    "    'Nubes Mosaico 1',\n",
    "    'Mosaico 1']"
   ]
  },
  {
   "cell_type": "code",
   "execution_count": null,
   "id": "f3c2a996",
   "metadata": {
    "ExecuteTime": {
     "end_time": "2021-10-20T00:35:53.994761Z",
     "start_time": "2021-10-20T00:35:53.994747Z"
    }
   },
   "outputs": [],
   "source": [
    "geemap.linked_maps(rows=1, cols=2, height=\"400px\", center=[-45, -75], zoom=4, \n",
    "                   ee_objects=resultados, vis_params=vis_params2, labels=labels, label_position=\"topright\")"
   ]
  },
  {
   "cell_type": "code",
   "execution_count": null,
   "id": "9a243ac4",
   "metadata": {
    "ExecuteTime": {
     "end_time": "2021-10-20T00:35:53.995583Z",
     "start_time": "2021-10-20T00:35:53.995574Z"
    }
   },
   "outputs": [],
   "source": [
    "def llenado2(image):\n",
    "    return image.where(cloud_img1.gt(10), QM_NDVI_T2)"
   ]
  },
  {
   "cell_type": "code",
   "execution_count": null,
   "id": "ada6d94e",
   "metadata": {
    "ExecuteTime": {
     "end_time": "2021-10-20T00:35:53.996372Z",
     "start_time": "2021-10-20T00:35:53.996362Z"
    }
   },
   "outputs": [],
   "source": [
    "img2 = llenado2(img1)"
   ]
  },
  {
   "cell_type": "code",
   "execution_count": null,
   "id": "e3db0a52",
   "metadata": {
    "ExecuteTime": {
     "end_time": "2021-10-20T00:35:53.997129Z",
     "start_time": "2021-10-20T00:35:53.997119Z"
    }
   },
   "outputs": [],
   "source": [
    "img2_landsat = img2.set('SENSOR_ID', 'OLI_TIRS')\n",
    "cloud_img2 = ee.Algorithms.Landsat.simpleCloudScore(img2_landsat)\n",
    "cloud_img2 = cloud_img2.select('cloud')"
   ]
  },
  {
   "cell_type": "code",
   "execution_count": null,
   "id": "42d22742",
   "metadata": {
    "ExecuteTime": {
     "end_time": "2021-10-20T00:35:53.998153Z",
     "start_time": "2021-10-20T00:35:53.998139Z"
    }
   },
   "outputs": [],
   "source": [
    "resultados= [cloud_img2, img2]\n",
    "vis_params2=  [\n",
    "    {'palette':palette_nubes}, \n",
    "    vizParams]\n",
    "labels = [\n",
    "    'Nubes Mosaico 2',\n",
    "    'Mosaico 2']"
   ]
  },
  {
   "cell_type": "code",
   "execution_count": null,
   "id": "5bdcab8c",
   "metadata": {
    "ExecuteTime": {
     "end_time": "2021-10-20T00:35:53.999021Z",
     "start_time": "2021-10-20T00:35:53.999011Z"
    }
   },
   "outputs": [],
   "source": [
    "geemap.linked_maps(rows=1, cols=2, height=\"400px\", center=[-45, -75], zoom=4, \n",
    "                   ee_objects=resultados, vis_params=vis_params2, labels=labels, label_position=\"topright\")"
   ]
  },
  {
   "cell_type": "code",
   "execution_count": null,
   "id": "ca5f91e2",
   "metadata": {
    "ExecuteTime": {
     "end_time": "2021-10-20T00:35:53.999841Z",
     "start_time": "2021-10-20T00:35:53.999831Z"
    }
   },
   "outputs": [],
   "source": [
    "def llenado3(image):\n",
    "    return image.where(cloud_img2.gt(10), QM_NDVI_T3)"
   ]
  },
  {
   "cell_type": "code",
   "execution_count": null,
   "id": "f52fddee",
   "metadata": {
    "ExecuteTime": {
     "end_time": "2021-10-20T00:35:54.000620Z",
     "start_time": "2021-10-20T00:35:54.000611Z"
    }
   },
   "outputs": [],
   "source": [
    "img3 = llenado3(img2)"
   ]
  },
  {
   "cell_type": "code",
   "execution_count": null,
   "id": "6d41d9d0",
   "metadata": {
    "ExecuteTime": {
     "end_time": "2021-10-20T00:35:54.001360Z",
     "start_time": "2021-10-20T00:35:54.001351Z"
    }
   },
   "outputs": [],
   "source": [
    "img3_landsat = img3.set('SENSOR_ID', 'OLI_TIRS')\n",
    "cloud_img3 = ee.Algorithms.Landsat.simpleCloudScore(img3_landsat)\n",
    "cloud_img3 = cloud_img3.select('cloud')"
   ]
  },
  {
   "cell_type": "code",
   "execution_count": null,
   "id": "3a000d62",
   "metadata": {
    "ExecuteTime": {
     "end_time": "2021-10-20T00:35:54.001874Z",
     "start_time": "2021-10-20T00:35:54.001867Z"
    }
   },
   "outputs": [],
   "source": [
    "resultados= [cloud_img3, img3]\n",
    "vis_params2=  [\n",
    "    {'palette':palette_nubes}, \n",
    "    vizParams]\n",
    "labels = [\n",
    "    'Nubes Mosaico 3',\n",
    "    'Mosaico 3']"
   ]
  },
  {
   "cell_type": "code",
   "execution_count": null,
   "id": "bf275ed6",
   "metadata": {
    "ExecuteTime": {
     "end_time": "2021-10-20T00:35:54.002688Z",
     "start_time": "2021-10-20T00:35:54.002678Z"
    }
   },
   "outputs": [],
   "source": [
    "geemap.linked_maps(rows=1, cols=2, height=\"400px\", center=[-45, -75], zoom=4, \n",
    "                   ee_objects=resultados, vis_params=vis_params2, labels=labels, label_position=\"topright\")"
   ]
  },
  {
   "cell_type": "code",
   "execution_count": null,
   "id": "9d0daae9",
   "metadata": {
    "ExecuteTime": {
     "end_time": "2021-10-20T00:35:54.003497Z",
     "start_time": "2021-10-20T00:35:54.003485Z"
    }
   },
   "outputs": [],
   "source": [
    "def llenado4(image):\n",
    "    return image.where(cloud_img3.gt(10), QM_NDVI_T4)"
   ]
  },
  {
   "cell_type": "code",
   "execution_count": null,
   "id": "d37f16d5",
   "metadata": {
    "ExecuteTime": {
     "end_time": "2021-10-20T00:35:54.004262Z",
     "start_time": "2021-10-20T00:35:54.004250Z"
    }
   },
   "outputs": [],
   "source": [
    "img4 = llenado4(img3)"
   ]
  },
  {
   "cell_type": "code",
   "execution_count": null,
   "id": "540d60d8",
   "metadata": {
    "ExecuteTime": {
     "end_time": "2021-10-20T00:35:54.004993Z",
     "start_time": "2021-10-20T00:35:54.004979Z"
    }
   },
   "outputs": [],
   "source": [
    "img4_landsat = img4.set('SENSOR_ID', 'OLI_TIRS')\n",
    "cloud_img4 = ee.Algorithms.Landsat.simpleCloudScore(img4_landsat)\n",
    "cloud_img4 = cloud_img4.select('cloud')"
   ]
  },
  {
   "cell_type": "code",
   "execution_count": null,
   "id": "3f0e9719",
   "metadata": {
    "ExecuteTime": {
     "end_time": "2021-10-20T00:35:54.005984Z",
     "start_time": "2021-10-20T00:35:54.005971Z"
    }
   },
   "outputs": [],
   "source": [
    "resultados= [cloud_img4, img4]\n",
    "vis_params2=  [\n",
    "    {'palette':palette_nubes}, \n",
    "    vizParams]\n",
    "labels = [\n",
    "    'Nubes Mosaico 4',\n",
    "    'Mosaico 4']"
   ]
  },
  {
   "cell_type": "code",
   "execution_count": null,
   "id": "41d9a7b8",
   "metadata": {
    "ExecuteTime": {
     "end_time": "2021-10-20T00:35:54.006792Z",
     "start_time": "2021-10-20T00:35:54.006779Z"
    }
   },
   "outputs": [],
   "source": [
    "geemap.linked_maps(rows=1, cols=2, height=\"400px\", center=[-45, -75], zoom=4, \n",
    "                   ee_objects=resultados, vis_params=vis_params2, labels=labels, label_position=\"topright\")"
   ]
  },
  {
   "cell_type": "code",
   "execution_count": null,
   "id": "c80a8202",
   "metadata": {
    "ExecuteTime": {
     "end_time": "2021-10-20T00:35:54.007504Z",
     "start_time": "2021-10-20T00:35:54.007497Z"
    }
   },
   "outputs": [],
   "source": [
    "hansenImage = ee.Image('UMD/hansen/global_forest_change_2015')\n",
    "datamask = hansenImage.select('datamask')"
   ]
  },
  {
   "cell_type": "code",
   "execution_count": null,
   "id": "c93604cb",
   "metadata": {
    "ExecuteTime": {
     "end_time": "2021-10-20T00:35:54.008395Z",
     "start_time": "2021-10-20T00:35:54.008386Z"
    }
   },
   "outputs": [],
   "source": [
    "def llenado5(image):\n",
    "    return image.where(datamask.eq(2), QM_NDWI_T3)"
   ]
  },
  {
   "cell_type": "code",
   "execution_count": null,
   "id": "59e1291c",
   "metadata": {
    "ExecuteTime": {
     "end_time": "2021-10-20T00:35:54.009169Z",
     "start_time": "2021-10-20T00:35:54.009161Z"
    }
   },
   "outputs": [],
   "source": [
    "img5 = llenado5(img4)"
   ]
  },
  {
   "cell_type": "code",
   "execution_count": null,
   "id": "1b1462fa",
   "metadata": {
    "ExecuteTime": {
     "end_time": "2021-10-20T00:35:54.010097Z",
     "start_time": "2021-10-20T00:35:54.010087Z"
    }
   },
   "outputs": [],
   "source": [
    "img5_landsat = img5.set('SENSOR_ID', 'OLI_TIRS')\n",
    "cloud_img5 = ee.Algorithms.Landsat.simpleCloudScore(img5_landsat)\n",
    "cloud_img5 = cloud_img5.select('cloud')"
   ]
  },
  {
   "cell_type": "code",
   "execution_count": null,
   "id": "14081f40",
   "metadata": {
    "ExecuteTime": {
     "end_time": "2021-10-20T00:35:54.010885Z",
     "start_time": "2021-10-20T00:35:54.010877Z"
    }
   },
   "outputs": [],
   "source": [
    "resultados= [cloud_img5, img5]\n",
    "vis_params2=  [\n",
    "    {'palette':palette_nubes}, \n",
    "    vizParams]\n",
    "labels = [\n",
    "    'Nubes Mosaico 5',\n",
    "    'Mosaico 5']"
   ]
  },
  {
   "cell_type": "code",
   "execution_count": null,
   "id": "8593050e",
   "metadata": {
    "ExecuteTime": {
     "end_time": "2021-10-20T00:35:54.011636Z",
     "start_time": "2021-10-20T00:35:54.011627Z"
    }
   },
   "outputs": [],
   "source": [
    "geemap.linked_maps(rows=1, cols=2, height=\"400px\", center=[-45, -75], zoom=4, \n",
    "                   ee_objects=resultados, vis_params=vis_params2, labels=labels, label_position=\"topright\")"
   ]
  },
  {
   "cell_type": "code",
   "execution_count": null,
   "id": "bfab2cd7",
   "metadata": {
    "ExecuteTime": {
     "end_time": "2021-10-20T00:35:54.012307Z",
     "start_time": "2021-10-20T00:35:54.012299Z"
    }
   },
   "outputs": [],
   "source": [
    "Map10.addLayer(img4, vizParams, 'Mosaico 4')\n",
    "Map10.addLayer(img5, vizParams, 'Mosaico 5')\n",
    "Map10"
   ]
  },
  {
   "cell_type": "code",
   "execution_count": null,
   "id": "cc1730b3",
   "metadata": {
    "ExecuteTime": {
     "end_time": "2021-10-20T00:35:54.013312Z",
     "start_time": "2021-10-20T00:35:54.013302Z"
    }
   },
   "outputs": [],
   "source": [
    "img5 = img5.select(['B1','B2','B3','B4','B5','B6','B7'])"
   ]
  },
  {
   "cell_type": "code",
   "execution_count": null,
   "id": "5b730d05",
   "metadata": {
    "ExecuteTime": {
     "end_time": "2021-10-20T00:35:54.014184Z",
     "start_time": "2021-10-20T00:35:54.014174Z"
    }
   },
   "outputs": [],
   "source": [
    "geemap.ee_export_image_to_drive(img5, description='mosaico_1996', folder='export', region=patagonia_grande.geometry(), scale=30)"
   ]
  }
 ],
 "metadata": {
  "kernelspec": {
   "display_name": "Python 3 (ipykernel)",
   "language": "python",
   "name": "python3"
  },
  "language_info": {
   "codemirror_mode": {
    "name": "ipython",
    "version": 3
   },
   "file_extension": ".py",
   "mimetype": "text/x-python",
   "name": "python",
   "nbconvert_exporter": "python",
   "pygments_lexer": "ipython3",
   "version": "3.8.11"
  },
  "toc": {
   "base_numbering": 1,
   "nav_menu": {},
   "number_sections": true,
   "sideBar": true,
   "skip_h1_title": false,
   "title_cell": "Table of Contents",
   "title_sidebar": "Contents",
   "toc_cell": false,
   "toc_position": {
    "height": "calc(100% - 180px)",
    "left": "10px",
    "top": "150px",
    "width": "384px"
   },
   "toc_section_display": true,
   "toc_window_display": true
  },
  "varInspector": {
   "cols": {
    "lenName": 16,
    "lenType": 16,
    "lenVar": 40
   },
   "kernels_config": {
    "python": {
     "delete_cmd_postfix": "",
     "delete_cmd_prefix": "del ",
     "library": "var_list.py",
     "varRefreshCmd": "print(var_dic_list())"
    },
    "r": {
     "delete_cmd_postfix": ") ",
     "delete_cmd_prefix": "rm(",
     "library": "var_list.r",
     "varRefreshCmd": "cat(var_dic_list()) "
    }
   },
   "types_to_exclude": [
    "module",
    "function",
    "builtin_function_or_method",
    "instance",
    "_Feature"
   ],
   "window_display": false
  }
 },
 "nbformat": 4,
 "nbformat_minor": 5
}
