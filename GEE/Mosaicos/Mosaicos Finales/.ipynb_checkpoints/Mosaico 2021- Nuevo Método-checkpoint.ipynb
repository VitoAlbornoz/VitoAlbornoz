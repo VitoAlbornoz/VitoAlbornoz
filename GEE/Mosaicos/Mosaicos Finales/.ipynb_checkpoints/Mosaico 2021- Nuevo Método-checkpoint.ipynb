{
 "cells": [
  {
   "cell_type": "markdown",
   "id": "c8ee7fef",
   "metadata": {},
   "source": [
    "# Mosaico 2021"
   ]
  },
  {
   "cell_type": "markdown",
   "id": "203f76ca",
   "metadata": {},
   "source": [
    "Script trabajado por Francisco Albornoz (2021-04-13) / Última modificación / Mosaicos Patagonia"
   ]
  },
  {
   "cell_type": "markdown",
   "id": "2fb5cdeb",
   "metadata": {},
   "source": [
    "2021-08-05 13:07:09 "
   ]
  },
  {
   "cell_type": "code",
   "execution_count": 1,
   "id": "3057c761",
   "metadata": {
    "ExecuteTime": {
     "end_time": "2021-11-23T12:43:32.558169Z",
     "start_time": "2021-11-23T12:43:30.794332Z"
    }
   },
   "outputs": [],
   "source": [
    "import ee\n",
    "import geemap\n",
    "import geemap.chart as chart\n",
    "import os\n",
    "import folium\n",
    "import xarray_leaflet\n",
    "import rasterio \n",
    "from rasterio import plot\n",
    "import matplotlib.pyplot as plt\n",
    "import numpy as np\n",
    "%matplotlib inline"
   ]
  },
  {
   "cell_type": "markdown",
   "id": "1997eeb4",
   "metadata": {},
   "source": [
    "<img src=https://www.ecopaysen.cl/wp-content/uploads/2019/12/ecopaysen_marca_web.png>"
   ]
  },
  {
   "cell_type": "code",
   "execution_count": 2,
   "id": "fca49a56",
   "metadata": {
    "ExecuteTime": {
     "end_time": "2021-11-23T12:43:49.198884Z",
     "start_time": "2021-11-23T12:43:32.559400Z"
    }
   },
   "outputs": [],
   "source": [
    "Map = geemap.Map(center = [-45, -70], zoom = 4)\n",
    "Map1 = geemap.Map(center = [-45, -70], zoom = 4)\n",
    "Map2 = geemap.Map(center = [-45, -70], zoom = 4)\n",
    "Map3 = geemap.Map(center = [-45, -70], zoom = 4)\n",
    "Map4 = geemap.Map(center = [-45, -70], zoom = 4)\n",
    "Map5 = geemap.Map(center = [-45, -70], zoom = 4)\n",
    "Map6 = geemap.Map(center = [-45, -70], zoom = 4)\n",
    "Map7 = geemap.Map(center = [-45, -70], zoom = 4)\n",
    "Map8 = geemap.Map(center = [-45, -70], zoom = 4)\n",
    "Map9 = geemap.Map(center = [-45, -70], zoom = 4)\n",
    "Map10 = geemap.Map(center = [-45, -70], zoom = 4)\n",
    "Map11 = geemap.Map(center = [-45, -70], zoom = 4)\n",
    "Map12 = geemap.Map(center = [-45, -70], zoom = 4)\n",
    "Map13 = geemap.Map(center = [-45, -70], zoom = 4)\n",
    "Map14 = geemap.Map(center = [-45, -70], zoom = 4)\n",
    "Map15 = geemap.Map(center = [-45, -70], zoom = 4)"
   ]
  },
  {
   "cell_type": "markdown",
   "id": "f26fe1a2",
   "metadata": {},
   "source": [
    "## Área de Estudio"
   ]
  },
  {
   "cell_type": "code",
   "execution_count": 3,
   "id": "2aae613d",
   "metadata": {
    "ExecuteTime": {
     "end_time": "2021-11-23T12:43:50.341049Z",
     "start_time": "2021-11-23T12:43:49.199612Z"
    }
   },
   "outputs": [],
   "source": [
    "work_dir = os.path.expanduser('../../../Data/shapes/')\n",
    "patagonia = os.path.join(work_dir, 'patagonia_geo.shp')\n",
    "patagonia_grande = geemap.shp_to_ee(patagonia)\n",
    "base1 = os.path.join(work_dir, 'base_geo.shp')\n",
    "base = geemap.shp_to_ee(base1)"
   ]
  },
  {
   "cell_type": "code",
   "execution_count": 4,
   "id": "ebd00a21",
   "metadata": {
    "ExecuteTime": {
     "end_time": "2021-11-23T12:43:51.773365Z",
     "start_time": "2021-11-23T12:43:50.342290Z"
    }
   },
   "outputs": [],
   "source": [
    "base2 = os.path.join(work_dir, 'base2.shp')\n",
    "base2 = geemap.shp_to_ee(base2)\n",
    "base3 = os.path.join(work_dir, 'base3.shp')\n",
    "base3 = geemap.shp_to_ee(base3)\n",
    "base4 = os.path.join(work_dir, 'base4.shp')\n",
    "base4 = geemap.shp_to_ee(base4)\n",
    "base5 = os.path.join(work_dir, 'base5.shp')\n",
    "base5 = geemap.shp_to_ee(base5)\n",
    "base6 = os.path.join(work_dir, 'base6.shp')\n",
    "base6 = geemap.shp_to_ee(base6)"
   ]
  },
  {
   "cell_type": "code",
   "execution_count": 5,
   "id": "833630fa",
   "metadata": {
    "ExecuteTime": {
     "end_time": "2021-11-23T12:43:53.055096Z",
     "start_time": "2021-11-23T12:43:51.774447Z"
    }
   },
   "outputs": [],
   "source": [
    "geometria_base = os.path.join(work_dir, 'mapa_base_dis.shp') \n",
    "geometria_base = geemap.shp_to_ee(geometria_base)"
   ]
  },
  {
   "cell_type": "code",
   "execution_count": 6,
   "id": "8968a576",
   "metadata": {
    "ExecuteTime": {
     "end_time": "2021-11-23T12:43:53.382909Z",
     "start_time": "2021-11-23T12:43:53.056443Z"
    }
   },
   "outputs": [],
   "source": [
    "geometria_base2 = os.path.join(work_dir, 'area_base2_dis.shp') \n",
    "geometria_base2 = geemap.shp_to_ee(geometria_base2)"
   ]
  },
  {
   "cell_type": "markdown",
   "id": "fa8e2fea",
   "metadata": {},
   "source": [
    "## Colors Bars"
   ]
  },
  {
   "cell_type": "code",
   "execution_count": 7,
   "id": "1efebd11",
   "metadata": {
    "ExecuteTime": {
     "end_time": "2021-11-23T12:43:54.218541Z",
     "start_time": "2021-11-23T12:43:53.384027Z"
    }
   },
   "outputs": [],
   "source": [
    "import geemap.colormaps as cm"
   ]
  },
  {
   "cell_type": "code",
   "execution_count": 8,
   "id": "d159d70f",
   "metadata": {
    "ExecuteTime": {
     "end_time": "2021-11-23T12:43:54.221580Z",
     "start_time": "2021-11-23T12:43:54.219992Z"
    }
   },
   "outputs": [],
   "source": [
    "# cm.palettes.terrain"
   ]
  },
  {
   "cell_type": "code",
   "execution_count": 9,
   "id": "fe999a91",
   "metadata": {
    "ExecuteTime": {
     "end_time": "2021-11-23T12:43:54.227098Z",
     "start_time": "2021-11-23T12:43:54.222540Z"
    }
   },
   "outputs": [],
   "source": [
    "color_ndvi = cm.palettes.ndvi"
   ]
  },
  {
   "cell_type": "code",
   "execution_count": 10,
   "id": "05fb282a",
   "metadata": {
    "ExecuteTime": {
     "end_time": "2021-11-23T12:43:54.232095Z",
     "start_time": "2021-11-23T12:43:54.228774Z"
    }
   },
   "outputs": [],
   "source": [
    "color_ndwi = cm.palettes.ndwi"
   ]
  },
  {
   "cell_type": "code",
   "execution_count": 11,
   "id": "68161910",
   "metadata": {
    "ExecuteTime": {
     "end_time": "2021-11-23T12:43:54.237405Z",
     "start_time": "2021-11-23T12:43:54.233069Z"
    }
   },
   "outputs": [],
   "source": [
    "color_terrain = cm.palettes.terrain"
   ]
  },
  {
   "cell_type": "code",
   "execution_count": 12,
   "id": "8e99245f",
   "metadata": {
    "ExecuteTime": {
     "end_time": "2021-11-23T12:43:54.242601Z",
     "start_time": "2021-11-23T12:43:54.238323Z"
    }
   },
   "outputs": [],
   "source": [
    "color_glaciar = cm.palettes.PuBuGn_r"
   ]
  },
  {
   "cell_type": "code",
   "execution_count": 13,
   "id": "92b8cf41",
   "metadata": {
    "ExecuteTime": {
     "end_time": "2021-11-23T12:43:54.248362Z",
     "start_time": "2021-11-23T12:43:54.243251Z"
    }
   },
   "outputs": [],
   "source": [
    "color_nubes = cm.palettes.inferno"
   ]
  },
  {
   "cell_type": "code",
   "execution_count": 14,
   "id": "39930741",
   "metadata": {
    "ExecuteTime": {
     "end_time": "2021-11-23T12:43:54.254529Z",
     "start_time": "2021-11-23T12:43:54.249395Z"
    }
   },
   "outputs": [],
   "source": [
    "# cm.list_colormaps()"
   ]
  },
  {
   "cell_type": "code",
   "execution_count": 15,
   "id": "0ce61cbe",
   "metadata": {
    "ExecuteTime": {
     "end_time": "2021-11-23T12:43:54.259647Z",
     "start_time": "2021-11-23T12:43:54.255197Z"
    }
   },
   "outputs": [],
   "source": [
    "# cm.plot_colormaps(width=12, height=0.4)"
   ]
  },
  {
   "cell_type": "markdown",
   "id": "11666045",
   "metadata": {},
   "source": [
    "## Funciones"
   ]
  },
  {
   "cell_type": "code",
   "execution_count": 16,
   "id": "166db170",
   "metadata": {
    "ExecuteTime": {
     "end_time": "2021-11-23T12:43:54.264983Z",
     "start_time": "2021-11-23T12:43:54.260370Z"
    }
   },
   "outputs": [],
   "source": [
    "def add_ee_layer(self, ee_image_object, vis_params, name):\n",
    "  map_id_dict = ee.Image(ee_image_object).getMapId(vis_params)\n",
    "  folium.raster_layers.TileLayer(\n",
    "      tiles=map_id_dict['tile_fetcher'].url_format,\n",
    "      attr='Map Data &copy; <a href=\"https://earthengine.google.com/\">Google Earth Engine</a>',\n",
    "      name=name,\n",
    "      overlay=True,\n",
    "      control=True\n",
    "  ).add_to(self)\n",
    "\n",
    "folium.Map.add_ee_layer = add_ee_layer"
   ]
  },
  {
   "cell_type": "code",
   "execution_count": 17,
   "id": "b9e1cdaf",
   "metadata": {
    "ExecuteTime": {
     "end_time": "2021-11-23T12:43:54.270147Z",
     "start_time": "2021-11-23T12:43:54.265893Z"
    }
   },
   "outputs": [],
   "source": [
    "def addNDVI(image): \n",
    "    ndvi = image.normalizedDifference(['B5', 'B4']).rename('NDVI')\n",
    "    return image.addBands(ndvi)"
   ]
  },
  {
   "cell_type": "code",
   "execution_count": 18,
   "id": "4c83d08e",
   "metadata": {
    "ExecuteTime": {
     "end_time": "2021-11-23T12:43:54.275187Z",
     "start_time": "2021-11-23T12:43:54.271116Z"
    }
   },
   "outputs": [],
   "source": [
    "def addNDVI2(image): \n",
    "    ndvi = image.normalizedDifference(['B5', 'B4']).rename('NDVI2')\n",
    "    return image.addBands(ndvi)"
   ]
  },
  {
   "cell_type": "code",
   "execution_count": 19,
   "id": "ad105a37",
   "metadata": {
    "ExecuteTime": {
     "end_time": "2021-11-23T12:43:54.277775Z",
     "start_time": "2021-11-23T12:43:54.276116Z"
    }
   },
   "outputs": [],
   "source": [
    "def addNDWI(image):\n",
    "    ndwi = image.normalizedDifference(['B3','B5']).rename('NDWI')\n",
    "    return image.addBands(ndwi)"
   ]
  },
  {
   "cell_type": "code",
   "execution_count": 20,
   "id": "afd5a921",
   "metadata": {
    "ExecuteTime": {
     "end_time": "2021-11-23T12:43:54.280208Z",
     "start_time": "2021-11-23T12:43:54.278618Z"
    }
   },
   "outputs": [],
   "source": [
    "def addNDGI(image):\n",
    "    ndgi = image.normalizedDifference(['B3','B4']).rename('NDGI')\n",
    "    return image.addBands(ndgi)"
   ]
  },
  {
   "cell_type": "code",
   "execution_count": 21,
   "id": "786770f8",
   "metadata": {
    "ExecuteTime": {
     "end_time": "2021-11-23T12:43:54.282941Z",
     "start_time": "2021-11-23T12:43:54.281100Z"
    }
   },
   "outputs": [],
   "source": [
    "def addSAVI(image):\n",
    "    savi = image.expression(\n",
    "        '((b5 - b4)/(b5 + b4 + 0.5))*1.5', {\n",
    "            'b4':image.select('B4'),\n",
    "            'b5':image.select('B5')\n",
    "        }) \n",
    "    savi= savi.rename('SAVI')\n",
    "    return image.addBands(savi)"
   ]
  },
  {
   "cell_type": "code",
   "execution_count": 22,
   "id": "cffb72aa",
   "metadata": {
    "ExecuteTime": {
     "end_time": "2021-11-23T12:43:54.285326Z",
     "start_time": "2021-11-23T12:43:54.283744Z"
    }
   },
   "outputs": [],
   "source": [
    "def addNDSI(image):\n",
    "    ndsi = image.normalizedDifference(['B3','B6']).rename('NDSI')\n",
    "    return image.addBands(ndsi)"
   ]
  },
  {
   "cell_type": "code",
   "execution_count": 23,
   "id": "4889cabe",
   "metadata": {
    "ExecuteTime": {
     "end_time": "2021-11-23T12:43:54.288109Z",
     "start_time": "2021-11-23T12:43:54.286148Z"
    }
   },
   "outputs": [],
   "source": [
    "def addDate(image):\n",
    "    img_date = ee.Date(image.date())\n",
    "    img_date = ee.Number.parse(img_date.format('YYYYMMdd'))\n",
    "    return image.addBands(ee.Image(img_date).rename('date').toInt())"
   ]
  },
  {
   "cell_type": "code",
   "execution_count": 24,
   "id": "04720d6b",
   "metadata": {
    "ExecuteTime": {
     "end_time": "2021-11-23T12:43:54.290928Z",
     "start_time": "2021-11-23T12:43:54.289048Z"
    }
   },
   "outputs": [],
   "source": [
    "def Cloud40(image):\n",
    "    scored = ee.Algorithms.Landsat.simpleCloudScore(image)\n",
    "    return image.updateMask(scored.select(['cloud']).lt(40)) "
   ]
  },
  {
   "cell_type": "code",
   "execution_count": 25,
   "id": "3115c210",
   "metadata": {
    "ExecuteTime": {
     "end_time": "2021-11-23T12:43:54.293601Z",
     "start_time": "2021-11-23T12:43:54.291795Z"
    }
   },
   "outputs": [],
   "source": [
    "def Cloud30(image):\n",
    "    scored = ee.Algorithms.Landsat.simpleCloudScore(image)\n",
    "    return image.updateMask(scored.select(['cloud']).lt(30)) "
   ]
  },
  {
   "cell_type": "code",
   "execution_count": 26,
   "id": "f86cf507",
   "metadata": {
    "ExecuteTime": {
     "end_time": "2021-11-23T12:43:54.296082Z",
     "start_time": "2021-11-23T12:43:54.294395Z"
    }
   },
   "outputs": [],
   "source": [
    "def Cloud20(image):\n",
    "    scored = ee.Algorithms.Landsat.simpleCloudScore(image)\n",
    "    return image.updateMask(scored.select(['cloud']).lt(20)) "
   ]
  },
  {
   "cell_type": "code",
   "execution_count": 27,
   "id": "9d288b40",
   "metadata": {
    "ExecuteTime": {
     "end_time": "2021-11-23T12:43:54.298790Z",
     "start_time": "2021-11-23T12:43:54.297078Z"
    }
   },
   "outputs": [],
   "source": [
    "def Cloud10(image):\n",
    "    scored = ee.Algorithms.Landsat.simpleCloudScore(image)\n",
    "    return image.updateMask(scored.select(['cloud']).lt(10))"
   ]
  },
  {
   "cell_type": "code",
   "execution_count": 28,
   "id": "92d6ba1b",
   "metadata": {
    "ExecuteTime": {
     "end_time": "2021-11-23T12:43:54.303321Z",
     "start_time": "2021-11-23T12:43:54.301462Z"
    }
   },
   "outputs": [],
   "source": [
    "def addCloud(image):\n",
    "    nube = ee.Algorithms.Landsat.simpleCloudScore(image)\n",
    "    return image.addBands(ee.Image(nube.select(['cloud'])).rename('nube'))"
   ]
  },
  {
   "cell_type": "code",
   "execution_count": 29,
   "id": "4eb69ead",
   "metadata": {
    "ExecuteTime": {
     "end_time": "2021-11-23T12:43:54.307544Z",
     "start_time": "2021-11-23T12:43:54.304257Z"
    }
   },
   "outputs": [],
   "source": [
    "def find_closest(target_image, image_col, days):\n",
    "    \"\"\"Filter images in a collection by date proximity and spatial intersection to a target image.\n",
    "\n",
    "    Args:\n",
    "        target_image: An ee.Image whose observation date is used to find near-date images in\n",
    "          the provided image_col image collection. It must have a 'system:time_start' property.\n",
    "        image_col: An ee.ImageCollection to filter by date proximity and spatial intersection\n",
    "          to the target_image. Each image in the collection must have a 'system:time_start'\n",
    "          property.\n",
    "        days: A number that defines the maximum number of days difference allowed between\n",
    "          the target_image and images in the image_col.\n",
    "\n",
    "    Returns:\n",
    "        An ee.ImageCollection that has been filtered to include those images that are within the\n",
    "          given date proximity to target_image and intersect it spatially.\n",
    "    \"\"\"\n",
    "\n",
    "    # Compute the timespan for N days (in milliseconds).\n",
    "    range = ee.Number(days).multiply(1000 * 60 * 60 * 24)\n",
    "\n",
    "    filter = ee.Filter.And(\n",
    "        ee.Filter.maxDifference(range, 'system:time_start', None, 'system:time_start'),\n",
    "        ee.Filter.intersects('.geo', None, '.geo'))\n",
    "\n",
    "    closest = (ee.Join.saveAll('matches', 'measure')\n",
    "        .apply(ee.ImageCollection([target_image]), image_col, filter))\n",
    "\n",
    "    return ee.ImageCollection(ee.List(closest.first().get('matches')))"
   ]
  },
  {
   "cell_type": "code",
   "execution_count": 30,
   "id": "b54bde64",
   "metadata": {
    "ExecuteTime": {
     "end_time": "2021-11-23T12:43:54.310053Z",
     "start_time": "2021-11-23T12:43:54.308428Z"
    }
   },
   "outputs": [],
   "source": [
    "vizParams = {\n",
    "  'bands': ['B5', 'B4', 'B3'],\n",
    "  'min': 0,\n",
    "  'max': 0.5,\n",
    "  'gamma': [0.95, 1.1, 1]\n",
    "}"
   ]
  },
  {
   "cell_type": "code",
   "execution_count": 31,
   "id": "71bcb153",
   "metadata": {
    "ExecuteTime": {
     "end_time": "2021-11-23T12:43:54.312712Z",
     "start_time": "2021-11-23T12:43:54.310972Z"
    }
   },
   "outputs": [],
   "source": [
    "vizParams_m = {\n",
    "  'bands': ['B5', 'B4', 'B3'],\n",
    "  'min': 0,\n",
    "  'max': 0.6,\n",
    "  'gamma': [1, 1, 1]\n",
    "}"
   ]
  },
  {
   "cell_type": "code",
   "execution_count": 32,
   "id": "aa02e8e2",
   "metadata": {
    "ExecuteTime": {
     "end_time": "2021-11-23T12:43:54.315755Z",
     "start_time": "2021-11-23T12:43:54.313529Z"
    }
   },
   "outputs": [],
   "source": [
    "vis_nieve = {\n",
    "  'bands': ['B6', 'B4', 'B3'],\n",
    "  'min': 0,\n",
    "  'max': 0.5,\n",
    "  'gamma': [0.95, 1.1, 1]\n",
    "}"
   ]
  },
  {
   "cell_type": "markdown",
   "id": "d9a442fb",
   "metadata": {},
   "source": [
    "## Colecciones"
   ]
  },
  {
   "cell_type": "markdown",
   "id": "5d07b81d",
   "metadata": {},
   "source": [
    "### 2021 Verano"
   ]
  },
  {
   "cell_type": "code",
   "execution_count": 33,
   "id": "0e0c1dfc",
   "metadata": {
    "ExecuteTime": {
     "end_time": "2021-11-23T12:43:54.318529Z",
     "start_time": "2021-11-23T12:43:54.316412Z"
    }
   },
   "outputs": [],
   "source": [
    "start_date = '2020-11-01'\n",
    "end_date = '2021-03-31'\n",
    "\n",
    "l8_2021 = ee.ImageCollection('LANDSAT/LC08/C01/T1_TOA') \\\n",
    "    .filterBounds(patagonia_grande) \\\n",
    "    .filterDate(start_date, end_date)  "
   ]
  },
  {
   "cell_type": "code",
   "execution_count": 34,
   "id": "74d427f9",
   "metadata": {
    "ExecuteTime": {
     "end_time": "2021-11-23T12:43:54.323759Z",
     "start_time": "2021-11-23T12:43:54.319266Z"
    }
   },
   "outputs": [],
   "source": [
    "coleccion2021 = l8_2021.map(addNDVI).map(addNDWI).map(addNDGI).map(addSAVI).map(addNDSI).map(addDate).map(addCloud)"
   ]
  },
  {
   "cell_type": "code",
   "execution_count": 35,
   "id": "e660d316",
   "metadata": {
    "ExecuteTime": {
     "end_time": "2021-11-23T12:43:54.326635Z",
     "start_time": "2021-11-23T12:43:54.324636Z"
    }
   },
   "outputs": [],
   "source": [
    "NDVI_2021 = coleccion2021.qualityMosaic('NDVI')\n",
    "NDWI_2021 = coleccion2021.qualityMosaic('NDWI')\n",
    "SAVI_2021 = coleccion2021.qualityMosaic('SAVI')\n",
    "NDGI_2021 = coleccion2021.qualityMosaic('NDGI')\n",
    "NDSI_2021 = coleccion2021.qualityMosaic('NDSI')"
   ]
  },
  {
   "cell_type": "code",
   "execution_count": 36,
   "id": "2b71385b",
   "metadata": {
    "ExecuteTime": {
     "end_time": "2021-11-23T12:43:54.329869Z",
     "start_time": "2021-11-23T12:43:54.327517Z"
    }
   },
   "outputs": [],
   "source": [
    "c2021_sn = coleccion2021.map(Cloud10)\n",
    "NDVI_2021_sn = c2021_sn.qualityMosaic('NDVI')\n",
    "NDWI_2021_sn = c2021_sn.qualityMosaic('NDWI')\n",
    "SAVI_2021_sn = c2021_sn.qualityMosaic('SAVI')\n",
    "NDGI_2021_sn = c2021_sn.qualityMosaic('NDGI')\n",
    "NDSI_2021_sn = c2021_sn.qualityMosaic('NDSI')"
   ]
  },
  {
   "cell_type": "code",
   "execution_count": 37,
   "id": "e2ee17c2",
   "metadata": {
    "ExecuteTime": {
     "end_time": "2021-11-23T12:43:58.076917Z",
     "start_time": "2021-11-23T12:43:54.330753Z"
    }
   },
   "outputs": [
    {
     "data": {
      "application/vnd.jupyter.widget-view+json": {
       "model_id": "e66b25b974094df1ba177da86be79329",
       "version_major": 2,
       "version_minor": 0
      },
      "text/plain": [
       "Map(center=[-45, -70], controls=(WidgetControl(options=['position', 'transparent_bg'], widget=HBox(children=(T…"
      ]
     },
     "metadata": {},
     "output_type": "display_data"
    }
   ],
   "source": [
    "Map.addLayer(NDVI_2021_sn, vizParams, 'QMsn de NDVI 2021')\n",
    "Map.addLayer(NDVI_2021, vizParams, 'QM de NDVI 2021')\n",
    "Map.addLayer(NDWI_2021_sn, vizParams, 'QMsn de NDWI 2021')\n",
    "Map.addLayer(SAVI_2021_sn, vizParams, 'QMsn de SAVI 2021')\n",
    "Map.addLayer(NDGI_2021_sn, vis_nieve, 'QMsn de NDGI 2021')\n",
    "Map.addLayer(NDSI_2021_sn, vis_nieve, 'QMsn de NDSI 2021')\n",
    "Map"
   ]
  },
  {
   "cell_type": "code",
   "execution_count": 38,
   "id": "1994dbdf",
   "metadata": {
    "ExecuteTime": {
     "end_time": "2021-11-23T12:43:58.079921Z",
     "start_time": "2021-11-23T12:43:58.077864Z"
    }
   },
   "outputs": [],
   "source": [
    "NDVI_2021_l8 = NDVI_2021.set('SENSOR_ID', 'OLI_TIRS')"
   ]
  },
  {
   "cell_type": "code",
   "execution_count": 39,
   "id": "60a91aeb",
   "metadata": {
    "ExecuteTime": {
     "end_time": "2021-11-23T12:43:58.082304Z",
     "start_time": "2021-11-23T12:43:58.080581Z"
    }
   },
   "outputs": [],
   "source": [
    "cloud_2021_l8 = ee.Algorithms.Landsat.simpleCloudScore(NDVI_2021_l8)\n",
    "cloud_2021_l8 = cloud_2021_l8.select('cloud')"
   ]
  },
  {
   "cell_type": "code",
   "execution_count": 40,
   "id": "27740f8b",
   "metadata": {
    "ExecuteTime": {
     "end_time": "2021-11-23T12:43:58.084663Z",
     "start_time": "2021-11-23T12:43:58.083195Z"
    }
   },
   "outputs": [],
   "source": [
    "palette_nubes = ['#1a9850', '#66bd63', '#a6d96a', '#d9ef8b', '#fee08b', '#fdae61', '#f46d43', '#d73027']"
   ]
  },
  {
   "cell_type": "code",
   "execution_count": 41,
   "id": "613ea840",
   "metadata": {
    "ExecuteTime": {
     "end_time": "2021-11-23T12:43:58.087335Z",
     "start_time": "2021-11-23T12:43:58.085598Z"
    }
   },
   "outputs": [],
   "source": [
    "resultados= [cloud_2021_l8, NDVI_2021]\n",
    "vis_params2=  [\n",
    "    {'palette':palette_nubes}, \n",
    "    vizParams]\n",
    "labels = [\n",
    "    'Nubes 2021',\n",
    "    'QM NDVI 2021']"
   ]
  },
  {
   "cell_type": "code",
   "execution_count": 42,
   "id": "cb0d5f26",
   "metadata": {
    "ExecuteTime": {
     "end_time": "2021-11-23T12:43:58.089508Z",
     "start_time": "2021-11-23T12:43:58.088082Z"
    }
   },
   "outputs": [],
   "source": [
    "# geemap.linked_maps(rows=1, cols=2, height=\"400px\", center=[-45, -75], zoom=4, \n",
    "#                    ee_objects=resultados, vis_params=vis_params2, labels=labels, label_position=\"topright\")"
   ]
  },
  {
   "cell_type": "markdown",
   "id": "b8617200",
   "metadata": {},
   "source": [
    "### 2020 Verano"
   ]
  },
  {
   "cell_type": "code",
   "execution_count": 43,
   "id": "0401d370",
   "metadata": {
    "ExecuteTime": {
     "end_time": "2021-11-23T12:43:58.092285Z",
     "start_time": "2021-11-23T12:43:58.090431Z"
    }
   },
   "outputs": [],
   "source": [
    "start_date = '2019-11-01'\n",
    "end_date = '2020-03-31'\n",
    "\n",
    "l8_2020 = ee.ImageCollection('LANDSAT/LC08/C01/T1_TOA') \\\n",
    "    .filterBounds(patagonia_grande) \\\n",
    "    .filterDate(start_date, end_date)"
   ]
  },
  {
   "cell_type": "markdown",
   "id": "811a0128",
   "metadata": {},
   "source": [
    "### 2019 Verano"
   ]
  },
  {
   "cell_type": "code",
   "execution_count": 44,
   "id": "d756b623",
   "metadata": {
    "ExecuteTime": {
     "end_time": "2021-11-23T12:43:58.094993Z",
     "start_time": "2021-11-23T12:43:58.093207Z"
    }
   },
   "outputs": [],
   "source": [
    "start_date = '2018-11-01'\n",
    "end_date = '2019-03-31'\n",
    "\n",
    "l8_2019 = ee.ImageCollection('LANDSAT/LC08/C01/T1_TOA') \\\n",
    "    .filterBounds(patagonia_grande) \\\n",
    "    .filterDate(start_date, end_date)"
   ]
  },
  {
   "cell_type": "markdown",
   "id": "158f0bb1",
   "metadata": {},
   "source": [
    "### 2018 Verano"
   ]
  },
  {
   "cell_type": "code",
   "execution_count": 45,
   "id": "2c2ce2a2",
   "metadata": {
    "ExecuteTime": {
     "end_time": "2021-11-23T12:43:58.097639Z",
     "start_time": "2021-11-23T12:43:58.095873Z"
    }
   },
   "outputs": [],
   "source": [
    "start_date = '2017-11-01'\n",
    "end_date = '2018-03-31'\n",
    "\n",
    "l8_2018 = ee.ImageCollection('LANDSAT/LC08/C01/T1_TOA') \\\n",
    "    .filterBounds(patagonia_grande) \\\n",
    "    .filterDate(start_date, end_date)"
   ]
  },
  {
   "cell_type": "markdown",
   "id": "ad28b803",
   "metadata": {},
   "source": [
    "### 2017 Verano"
   ]
  },
  {
   "cell_type": "code",
   "execution_count": 46,
   "id": "1917c893",
   "metadata": {
    "ExecuteTime": {
     "end_time": "2021-11-23T12:43:58.100394Z",
     "start_time": "2021-11-23T12:43:58.098582Z"
    }
   },
   "outputs": [],
   "source": [
    "start_date = '2016-11-01'\n",
    "end_date = '2017-03-31'\n",
    "\n",
    "l8_2017 = ee.ImageCollection('LANDSAT/LC08/C01/T1_TOA') \\\n",
    "    .filterBounds(patagonia_grande) \\\n",
    "    .filterDate(start_date, end_date)"
   ]
  },
  {
   "cell_type": "markdown",
   "id": "d0a1318e",
   "metadata": {},
   "source": [
    "### 2021-2017 Colección "
   ]
  },
  {
   "cell_type": "code",
   "execution_count": 47,
   "id": "73e05438",
   "metadata": {
    "ExecuteTime": {
     "end_time": "2021-11-23T12:43:58.103247Z",
     "start_time": "2021-11-23T12:43:58.101147Z"
    }
   },
   "outputs": [],
   "source": [
    "filtersummer = ee.Filter.Or(\n",
    "    ee.Filter.date('2020-11-01','2021-03-31'),\n",
    "    ee.Filter.date('2019-11-01','2020-03-31'),\n",
    "    ee.Filter.date('2018-11-01','2019-03-31'),\n",
    "    ee.Filter.date('2017-11-01','2018-03-31')\n",
    ")"
   ]
  },
  {
   "cell_type": "code",
   "execution_count": 48,
   "id": "e3459c31",
   "metadata": {
    "ExecuteTime": {
     "end_time": "2021-11-23T12:43:58.105890Z",
     "start_time": "2021-11-23T12:43:58.104114Z"
    }
   },
   "outputs": [],
   "source": [
    "coleccion2021_2017 = ee.ImageCollection('LANDSAT/LC08/C01/T1_TOA') \\\n",
    "    .filterDate('2017-11-01', '2021-03-31') \\\n",
    "    .filter(filtersummer) \\\n",
    "    .filterBounds(patagonia_grande)"
   ]
  },
  {
   "cell_type": "code",
   "execution_count": 49,
   "id": "b84c22d9",
   "metadata": {
    "ExecuteTime": {
     "end_time": "2021-11-23T12:43:58.110629Z",
     "start_time": "2021-11-23T12:43:58.106786Z"
    }
   },
   "outputs": [],
   "source": [
    "l8_summer= coleccion2021_2017.map(addNDVI).map(addNDWI).map(addNDGI).map(addSAVI).map(addNDSI).map(addDate).map(addCloud)"
   ]
  },
  {
   "cell_type": "code",
   "execution_count": 50,
   "id": "cbb613f8",
   "metadata": {
    "ExecuteTime": {
     "end_time": "2021-11-23T12:43:59.547938Z",
     "start_time": "2021-11-23T12:43:58.111526Z"
    },
    "scrolled": false
   },
   "outputs": [
    {
     "data": {
      "application/vnd.jupyter.widget-view+json": {
       "model_id": "88422581ec9a4cae9147e9e89c9d11b1",
       "version_major": 2,
       "version_minor": 0
      },
      "text/plain": [
       "Map(center=[-45, -70], controls=(WidgetControl(options=['position', 'transparent_bg'], widget=HBox(children=(T…"
      ]
     },
     "metadata": {},
     "output_type": "display_data"
    }
   ],
   "source": [
    "Map2.addLayer(l8_summer.median(), vizParams, 'median')\n",
    "Map2 "
   ]
  },
  {
   "cell_type": "markdown",
   "id": "12cf11b9",
   "metadata": {},
   "source": [
    "### Tier 1\n"
   ]
  },
  {
   "cell_type": "code",
   "execution_count": 51,
   "id": "65f6e56e",
   "metadata": {
    "ExecuteTime": {
     "end_time": "2021-11-23T12:43:59.550822Z",
     "start_time": "2021-11-23T12:43:59.548845Z"
    }
   },
   "outputs": [],
   "source": [
    "Tier1_sn = l8_summer.map(Cloud10)"
   ]
  },
  {
   "cell_type": "code",
   "execution_count": 52,
   "id": "61a35ad7",
   "metadata": {
    "ExecuteTime": {
     "end_time": "2021-11-23T12:43:59.553934Z",
     "start_time": "2021-11-23T12:43:59.551938Z"
    }
   },
   "outputs": [],
   "source": [
    "QM_NDVI_T1 = Tier1_sn.qualityMosaic('NDVI')# Normalized difference vegetation Index\n",
    "QM_NDWI_T1 = Tier1_sn.qualityMosaic('NDWI') # Normalize difference water index\n",
    "QM_SAVI_T1 = Tier1_sn.qualityMosaic('SAVI') # Soil Adjusted Vegetation Index \n",
    "QM_NDGI_T1 = Tier1_sn.qualityMosaic('NDGI') # Normalized difference glacier index\n",
    "QM_NDSI_T1 = Tier1_sn.qualityMosaic('NDSI') # Normalized difference snow index"
   ]
  },
  {
   "cell_type": "code",
   "execution_count": 53,
   "id": "416683d4",
   "metadata": {
    "ExecuteTime": {
     "end_time": "2021-11-23T12:44:08.414746Z",
     "start_time": "2021-11-23T12:43:59.554836Z"
    }
   },
   "outputs": [
    {
     "data": {
      "application/vnd.jupyter.widget-view+json": {
       "model_id": "88422581ec9a4cae9147e9e89c9d11b1",
       "version_major": 2,
       "version_minor": 0
      },
      "text/plain": [
       "Map(center=[-45, -70], controls=(WidgetControl(options=['position', 'transparent_bg'], widget=HBox(children=(T…"
      ]
     },
     "metadata": {},
     "output_type": "display_data"
    }
   ],
   "source": [
    "Map2.addLayer(QM_NDVI_T1, vizParams, 'QM de NDVI T1')\n",
    "Map2.addLayer(QM_NDWI_T1, vizParams, 'QM de NDWI T1')\n",
    "Map2.addLayer(QM_SAVI_T1, vizParams, 'QM de SAVI T1')\n",
    "Map2.addLayer(QM_NDGI_T1, vis_nieve, 'QM de NDGI T1')\n",
    "Map2.addLayer(QM_NDSI_T1, vis_nieve, 'QM de NDSI T1')\n",
    "\n",
    "Map2.addLayer(Tier1_sn.median(), vizParams, 'mediana de T1')\n",
    "Map2 "
   ]
  },
  {
   "cell_type": "markdown",
   "id": "5f58151c",
   "metadata": {},
   "source": [
    "### Tier 2"
   ]
  },
  {
   "cell_type": "code",
   "execution_count": 54,
   "id": "3f1efa8c",
   "metadata": {
    "ExecuteTime": {
     "end_time": "2021-11-23T12:44:08.417855Z",
     "start_time": "2021-11-23T12:44:08.415680Z"
    }
   },
   "outputs": [],
   "source": [
    "Tier2_sn = l8_summer.map(Cloud20)"
   ]
  },
  {
   "cell_type": "code",
   "execution_count": 55,
   "id": "888370aa",
   "metadata": {
    "ExecuteTime": {
     "end_time": "2021-11-23T12:44:08.420819Z",
     "start_time": "2021-11-23T12:44:08.418567Z"
    }
   },
   "outputs": [],
   "source": [
    "QM_NDVI_T2 = Tier2_sn.qualityMosaic('NDVI')# Normalized difference vegetation Index\n",
    "QM_NDWI_T2 = Tier2_sn.qualityMosaic('NDWI') # Normalize difference water index\n",
    "QM_SAVI_T2 = Tier2_sn.qualityMosaic('SAVI') # Soil Adjusted Vegetation Index \n",
    "QM_NDGI_T2 = Tier2_sn.qualityMosaic('NDGI') # Normalized difference glacier index\n",
    "QM_NDSI_T2 = Tier2_sn.qualityMosaic('NDSI') # Normalized difference snow index"
   ]
  },
  {
   "cell_type": "code",
   "execution_count": 56,
   "id": "bfe0fd96",
   "metadata": {
    "ExecuteTime": {
     "end_time": "2021-11-23T12:44:08.423192Z",
     "start_time": "2021-11-23T12:44:08.421736Z"
    }
   },
   "outputs": [],
   "source": [
    "# Map2.addLayer(QM_NDVI_T2, vizParams, 'QM de NDVI T2')\n",
    "# Map2.addLayer(QM_NDWI_T2, vizParams, 'QM de NDWI T2')\n",
    "# Map2.addLayer(QM_SAVI_T2, vizParams, 'QM de SAVI T2')\n",
    "# Map2.addLayer(QM_NDGI_T2, vis_nieve, 'QM de NDGI T2')\n",
    "# Map2.addLayer(QM_NDSI_T2, vis_nieve, 'QM de NDSI T2')\n",
    "# Map2 "
   ]
  },
  {
   "cell_type": "markdown",
   "id": "783d2e36",
   "metadata": {},
   "source": [
    "### Tier 3"
   ]
  },
  {
   "cell_type": "code",
   "execution_count": 57,
   "id": "cba970e0",
   "metadata": {
    "ExecuteTime": {
     "end_time": "2021-11-23T12:44:08.425886Z",
     "start_time": "2021-11-23T12:44:08.424091Z"
    }
   },
   "outputs": [],
   "source": [
    "Tier3_sn = l8_summer.map(Cloud30)"
   ]
  },
  {
   "cell_type": "code",
   "execution_count": 58,
   "id": "8a844166",
   "metadata": {
    "ExecuteTime": {
     "end_time": "2021-11-23T12:44:08.428919Z",
     "start_time": "2021-11-23T12:44:08.426748Z"
    }
   },
   "outputs": [],
   "source": [
    "QM_NDVI_T3 = Tier3_sn.qualityMosaic('NDVI')# Normalized difference vegetation Index\n",
    "QM_NDWI_T3 = Tier3_sn.qualityMosaic('NDWI') # Normalize difference water index\n",
    "QM_SAVI_T3 = Tier3_sn.qualityMosaic('SAVI') # Soil Adjusted Vegetation Index \n",
    "QM_NDGI_T3 = Tier3_sn.qualityMosaic('NDGI') # Normalized difference glacier index\n",
    "QM_NDSI_T3 = Tier3_sn.qualityMosaic('NDSI') # Normalized difference snow index"
   ]
  },
  {
   "cell_type": "markdown",
   "id": "b2453291",
   "metadata": {},
   "source": [
    "### Tier 4"
   ]
  },
  {
   "cell_type": "code",
   "execution_count": 59,
   "id": "7a204626",
   "metadata": {
    "ExecuteTime": {
     "end_time": "2021-11-23T12:44:08.431707Z",
     "start_time": "2021-11-23T12:44:08.429851Z"
    }
   },
   "outputs": [],
   "source": [
    "Tier4_sn = l8_summer.map(Cloud40)"
   ]
  },
  {
   "cell_type": "code",
   "execution_count": 60,
   "id": "7339980d",
   "metadata": {
    "ExecuteTime": {
     "end_time": "2021-11-23T12:44:08.434569Z",
     "start_time": "2021-11-23T12:44:08.432589Z"
    }
   },
   "outputs": [],
   "source": [
    "QM_NDVI_T4 = Tier4_sn.qualityMosaic('NDVI')# Normalized difference vegetation Index\n",
    "QM_NDWI_T4 = Tier4_sn.qualityMosaic('NDWI') # Normalize difference water index\n",
    "QM_SAVI_T4 = Tier4_sn.qualityMosaic('SAVI') # Soil Adjusted Vegetation Index \n",
    "QM_NDGI_T4 = Tier4_sn.qualityMosaic('NDGI') # Normalized difference glacier index\n",
    "QM_NDSI_T4 = Tier4_sn.qualityMosaic('NDSI') # Normalized difference snow index"
   ]
  },
  {
   "cell_type": "markdown",
   "id": "094d9e5d",
   "metadata": {},
   "source": [
    "### Img base"
   ]
  },
  {
   "cell_type": "markdown",
   "id": "c8735a0a",
   "metadata": {},
   "source": [
    "##### Muestras de imagenes del mosaico"
   ]
  },
  {
   "cell_type": "code",
   "execution_count": 61,
   "id": "4202edec",
   "metadata": {
    "ExecuteTime": {
     "end_time": "2021-11-23T12:44:08.437452Z",
     "start_time": "2021-11-23T12:44:08.435487Z"
    }
   },
   "outputs": [],
   "source": [
    "start_date = '2020-10-01'\n",
    "end_date = '2021-03-31'\n",
    "imgbase = ee.ImageCollection('LANDSAT/LC08/C01/T1_TOA') \\\n",
    "    .filterBounds(base) \\\n",
    "    .filterDate(start_date, end_date) \\\n",
    "    .sort('CLOUD_COVER') \\\n",
    "    .first() \n"
   ]
  },
  {
   "cell_type": "code",
   "execution_count": 62,
   "id": "05155459",
   "metadata": {
    "ExecuteTime": {
     "end_time": "2021-11-23T12:44:08.783883Z",
     "start_time": "2021-11-23T12:44:08.438302Z"
    },
    "scrolled": true
   },
   "outputs": [
    {
     "data": {
      "text/plain": [
       "['system:version',\n",
       " 'system:id',\n",
       " 'RADIANCE_MULT_BAND_5',\n",
       " 'RADIANCE_MULT_BAND_6',\n",
       " 'RADIANCE_MULT_BAND_3',\n",
       " 'RADIANCE_MULT_BAND_4',\n",
       " 'RADIANCE_MULT_BAND_1',\n",
       " 'RADIANCE_MULT_BAND_2',\n",
       " 'K2_CONSTANT_BAND_11',\n",
       " 'K2_CONSTANT_BAND_10',\n",
       " 'system:footprint',\n",
       " 'REFLECTIVE_SAMPLES',\n",
       " 'SUN_AZIMUTH',\n",
       " 'CPF_NAME',\n",
       " 'DATE_ACQUIRED',\n",
       " 'ELLIPSOID',\n",
       " 'google:registration_offset_x',\n",
       " 'google:registration_offset_y',\n",
       " 'STATION_ID',\n",
       " 'RESAMPLING_OPTION',\n",
       " 'ORIENTATION',\n",
       " 'WRS_ROW',\n",
       " 'RADIANCE_MULT_BAND_9',\n",
       " 'TARGET_WRS_ROW',\n",
       " 'RADIANCE_MULT_BAND_7',\n",
       " 'RADIANCE_MULT_BAND_8',\n",
       " 'IMAGE_QUALITY_TIRS',\n",
       " 'TRUNCATION_OLI',\n",
       " 'CLOUD_COVER',\n",
       " 'GEOMETRIC_RMSE_VERIFY',\n",
       " 'COLLECTION_CATEGORY',\n",
       " 'GRID_CELL_SIZE_REFLECTIVE',\n",
       " 'CLOUD_COVER_LAND',\n",
       " 'GEOMETRIC_RMSE_MODEL',\n",
       " 'COLLECTION_NUMBER',\n",
       " 'IMAGE_QUALITY_OLI',\n",
       " 'LANDSAT_SCENE_ID',\n",
       " 'WRS_PATH',\n",
       " 'google:registration_count',\n",
       " 'PANCHROMATIC_SAMPLES',\n",
       " 'PANCHROMATIC_LINES',\n",
       " 'GEOMETRIC_RMSE_MODEL_Y',\n",
       " 'REFLECTIVE_LINES',\n",
       " 'TIRS_STRAY_LIGHT_CORRECTION_SOURCE',\n",
       " 'GEOMETRIC_RMSE_MODEL_X',\n",
       " 'system:asset_size',\n",
       " 'system:index',\n",
       " 'REFLECTANCE_ADD_BAND_1',\n",
       " 'REFLECTANCE_ADD_BAND_2',\n",
       " 'DATUM',\n",
       " 'REFLECTANCE_ADD_BAND_3',\n",
       " 'REFLECTANCE_ADD_BAND_4',\n",
       " 'REFLECTANCE_ADD_BAND_5',\n",
       " 'REFLECTANCE_ADD_BAND_6',\n",
       " 'REFLECTANCE_ADD_BAND_7',\n",
       " 'REFLECTANCE_ADD_BAND_8',\n",
       " 'BPF_NAME_TIRS',\n",
       " 'GROUND_CONTROL_POINTS_VERSION',\n",
       " 'DATA_TYPE',\n",
       " 'UTM_ZONE',\n",
       " 'system:time_end',\n",
       " 'LANDSAT_PRODUCT_ID',\n",
       " 'REFLECTANCE_ADD_BAND_9',\n",
       " 'google:registration_ratio',\n",
       " 'GRID_CELL_SIZE_PANCHROMATIC',\n",
       " 'RADIANCE_ADD_BAND_4',\n",
       " 'REFLECTANCE_MULT_BAND_7',\n",
       " 'system:time_start',\n",
       " 'RADIANCE_ADD_BAND_5',\n",
       " 'REFLECTANCE_MULT_BAND_6',\n",
       " 'RADIANCE_ADD_BAND_6',\n",
       " 'REFLECTANCE_MULT_BAND_9',\n",
       " 'PROCESSING_SOFTWARE_VERSION',\n",
       " 'RADIANCE_ADD_BAND_7',\n",
       " 'REFLECTANCE_MULT_BAND_8',\n",
       " 'RADIANCE_ADD_BAND_1',\n",
       " 'RADIANCE_ADD_BAND_2',\n",
       " 'RADIANCE_ADD_BAND_3',\n",
       " 'REFLECTANCE_MULT_BAND_1',\n",
       " 'RADIANCE_ADD_BAND_8',\n",
       " 'REFLECTANCE_MULT_BAND_3',\n",
       " 'RADIANCE_ADD_BAND_9',\n",
       " 'REFLECTANCE_MULT_BAND_2',\n",
       " 'REFLECTANCE_MULT_BAND_5',\n",
       " 'REFLECTANCE_MULT_BAND_4',\n",
       " 'THERMAL_LINES',\n",
       " 'TIRS_SSM_POSITION_STATUS',\n",
       " 'GRID_CELL_SIZE_THERMAL',\n",
       " 'NADIR_OFFNADIR',\n",
       " 'RADIANCE_ADD_BAND_11',\n",
       " 'REQUEST_ID',\n",
       " 'EARTH_SUN_DISTANCE',\n",
       " 'TIRS_SSM_MODEL',\n",
       " 'FILE_DATE',\n",
       " 'SCENE_CENTER_TIME',\n",
       " 'SUN_ELEVATION',\n",
       " 'BPF_NAME_OLI',\n",
       " 'RADIANCE_ADD_BAND_10',\n",
       " 'ROLL_ANGLE',\n",
       " 'K1_CONSTANT_BAND_10',\n",
       " 'SATURATION_BAND_1',\n",
       " 'SATURATION_BAND_2',\n",
       " 'SATURATION_BAND_3',\n",
       " 'SATURATION_BAND_4',\n",
       " 'SATURATION_BAND_5',\n",
       " 'MAP_PROJECTION',\n",
       " 'SATURATION_BAND_6',\n",
       " 'SENSOR_ID',\n",
       " 'SATURATION_BAND_7',\n",
       " 'K1_CONSTANT_BAND_11',\n",
       " 'SATURATION_BAND_8',\n",
       " 'SATURATION_BAND_9',\n",
       " 'TARGET_WRS_PATH',\n",
       " 'RADIANCE_MULT_BAND_11',\n",
       " 'RADIANCE_MULT_BAND_10',\n",
       " 'GROUND_CONTROL_POINTS_MODEL',\n",
       " 'SPACECRAFT_ID',\n",
       " 'ELEVATION_SOURCE',\n",
       " 'THERMAL_SAMPLES',\n",
       " 'GROUND_CONTROL_POINTS_VERIFY',\n",
       " 'system:bands',\n",
       " 'system:band_names']"
      ]
     },
     "execution_count": 62,
     "metadata": {},
     "output_type": "execute_result"
    }
   ],
   "source": [
    "imgbase.propertyNames().getInfo()"
   ]
  },
  {
   "cell_type": "code",
   "execution_count": 63,
   "id": "01e09fbd",
   "metadata": {
    "ExecuteTime": {
     "end_time": "2021-11-23T12:44:08.786322Z",
     "start_time": "2021-11-23T12:44:08.784806Z"
    }
   },
   "outputs": [],
   "source": [
    "# imgbase.get('LANDSAT_PRODUCT_ID').getInfo()"
   ]
  },
  {
   "cell_type": "code",
   "execution_count": 64,
   "id": "5d142772",
   "metadata": {
    "ExecuteTime": {
     "end_time": "2021-11-23T12:44:08.788839Z",
     "start_time": "2021-11-23T12:44:08.787248Z"
    }
   },
   "outputs": [],
   "source": [
    "# imgbase.get('system:time_start').getInfo()"
   ]
  },
  {
   "cell_type": "code",
   "execution_count": 65,
   "id": "e5bfe513",
   "metadata": {
    "ExecuteTime": {
     "end_time": "2021-11-23T12:44:09.136438Z",
     "start_time": "2021-11-23T12:44:08.789665Z"
    }
   },
   "outputs": [
    {
     "data": {
      "text/plain": [
       "'WGS84'"
      ]
     },
     "execution_count": 65,
     "metadata": {},
     "output_type": "execute_result"
    }
   ],
   "source": [
    "imgbase.get('DATUM').getInfo()"
   ]
  },
  {
   "cell_type": "code",
   "execution_count": 66,
   "id": "f62917d7",
   "metadata": {
    "ExecuteTime": {
     "end_time": "2021-11-23T12:44:09.458102Z",
     "start_time": "2021-11-23T12:44:09.137459Z"
    }
   },
   "outputs": [
    {
     "data": {
      "text/plain": [
       "'WGS84'"
      ]
     },
     "execution_count": 66,
     "metadata": {},
     "output_type": "execute_result"
    }
   ],
   "source": [
    "imgbase.get('ELLIPSOID').getInfo()"
   ]
  },
  {
   "cell_type": "code",
   "execution_count": 67,
   "id": "10196aa5",
   "metadata": {
    "ExecuteTime": {
     "end_time": "2021-11-23T12:44:10.103189Z",
     "start_time": "2021-11-23T12:44:09.459037Z"
    }
   },
   "outputs": [
    {
     "data": {
      "text/plain": [
       "'UTM'"
      ]
     },
     "execution_count": 67,
     "metadata": {},
     "output_type": "execute_result"
    }
   ],
   "source": [
    "imgbase.get('MAP_PROJECTION').getInfo()"
   ]
  },
  {
   "cell_type": "code",
   "execution_count": 68,
   "id": "c46c1df8",
   "metadata": {
    "ExecuteTime": {
     "end_time": "2021-11-23T12:44:10.451030Z",
     "start_time": "2021-11-23T12:44:10.104212Z"
    }
   },
   "outputs": [
    {
     "data": {
      "text/plain": [
       "19"
      ]
     },
     "execution_count": 68,
     "metadata": {},
     "output_type": "execute_result"
    }
   ],
   "source": [
    "imgbase.get('UTM_ZONE').getInfo()"
   ]
  },
  {
   "cell_type": "code",
   "execution_count": 69,
   "id": "3b8e5716",
   "metadata": {
    "ExecuteTime": {
     "end_time": "2021-11-23T12:44:10.453317Z",
     "start_time": "2021-11-23T12:44:10.451978Z"
    }
   },
   "outputs": [],
   "source": [
    "# print(imgbase.projection())"
   ]
  },
  {
   "cell_type": "code",
   "execution_count": 70,
   "id": "6d01d09a",
   "metadata": {
    "ExecuteTime": {
     "end_time": "2021-11-23T12:44:10.455901Z",
     "start_time": "2021-11-23T12:44:10.453952Z"
    }
   },
   "outputs": [],
   "source": [
    "# time_start = imgbase.get('system:time_start')"
   ]
  },
  {
   "cell_type": "code",
   "execution_count": 71,
   "id": "5fb26496",
   "metadata": {
    "ExecuteTime": {
     "end_time": "2021-11-23T12:44:10.458339Z",
     "start_time": "2021-11-23T12:44:10.456675Z"
    }
   },
   "outputs": [],
   "source": [
    "imgbase = ee.Image('LANDSAT/LC08/C01/T1_TOA/LC08_231091_20210130')"
   ]
  },
  {
   "cell_type": "code",
   "execution_count": 72,
   "id": "5a136189",
   "metadata": {
    "ExecuteTime": {
     "end_time": "2021-11-23T12:44:10.963923Z",
     "start_time": "2021-11-23T12:44:10.459227Z"
    }
   },
   "outputs": [],
   "source": [
    "base_pro = imgbase.select('B4').projection().getInfo()"
   ]
  },
  {
   "cell_type": "code",
   "execution_count": 73,
   "id": "693f233e",
   "metadata": {
    "ExecuteTime": {
     "end_time": "2021-11-23T12:44:10.967015Z",
     "start_time": "2021-11-23T12:44:10.964847Z"
    }
   },
   "outputs": [
    {
     "name": "stdout",
     "output_type": "stream",
     "text": [
      "{'type': 'Projection', 'crs': 'EPSG:32619', 'transform': [30, 0, 214185, 0, -30, -4825185]}\n"
     ]
    }
   ],
   "source": [
    "print(base_pro)"
   ]
  },
  {
   "cell_type": "code",
   "execution_count": 74,
   "id": "1c65268b",
   "metadata": {
    "ExecuteTime": {
     "end_time": "2021-11-23T12:44:10.969429Z",
     "start_time": "2021-11-23T12:44:10.967840Z"
    }
   },
   "outputs": [],
   "source": [
    "# Map1.addLayer(imgbase, vizParams, 'img base')\n",
    "# Map1.addLayer(geometria_base2)\n",
    "# Map1"
   ]
  },
  {
   "cell_type": "code",
   "execution_count": 75,
   "id": "8cc90996",
   "metadata": {
    "ExecuteTime": {
     "end_time": "2021-11-23T12:44:10.971763Z",
     "start_time": "2021-11-23T12:44:10.970348Z"
    }
   },
   "outputs": [],
   "source": [
    "# reproj= imgbase \\\n",
    "#     .reproject(crs='EPSG:3857',scale = 30)\\\n",
    "#     .reduceResolution(reducer= ee.Reducer.mean(),bestEffort=True, maxPixels = 65536)"
   ]
  },
  {
   "cell_type": "code",
   "execution_count": 76,
   "id": "0996d02f",
   "metadata": {
    "ExecuteTime": {
     "end_time": "2021-11-23T12:44:10.974271Z",
     "start_time": "2021-11-23T12:44:10.972734Z"
    }
   },
   "outputs": [],
   "source": [
    "# resampled = imgbase.resample('bicubic')"
   ]
  },
  {
   "cell_type": "code",
   "execution_count": 77,
   "id": "4bb96647",
   "metadata": {
    "ExecuteTime": {
     "end_time": "2021-11-23T12:44:10.976743Z",
     "start_time": "2021-11-23T12:44:10.975188Z"
    }
   },
   "outputs": [],
   "source": [
    "# landsat_pro = resampled.select('B4').projection().getInfo()"
   ]
  },
  {
   "cell_type": "code",
   "execution_count": 78,
   "id": "9e964413",
   "metadata": {
    "ExecuteTime": {
     "end_time": "2021-11-23T12:44:10.979204Z",
     "start_time": "2021-11-23T12:44:10.977676Z"
    }
   },
   "outputs": [],
   "source": [
    "# escala = resampled.select('B4').projection().nominalScale().getInfo()"
   ]
  },
  {
   "cell_type": "code",
   "execution_count": 79,
   "id": "fccfa3ef",
   "metadata": {
    "ExecuteTime": {
     "end_time": "2021-11-23T12:44:10.981452Z",
     "start_time": "2021-11-23T12:44:10.980097Z"
    }
   },
   "outputs": [],
   "source": [
    "# print(landsat_pro)"
   ]
  },
  {
   "cell_type": "code",
   "execution_count": 80,
   "id": "11826e85",
   "metadata": {
    "ExecuteTime": {
     "end_time": "2021-11-23T12:44:10.984059Z",
     "start_time": "2021-11-23T12:44:10.982296Z"
    }
   },
   "outputs": [],
   "source": [
    "# print(escala)"
   ]
  },
  {
   "cell_type": "code",
   "execution_count": 81,
   "id": "fca393f0",
   "metadata": {
    "ExecuteTime": {
     "end_time": "2021-11-23T12:44:10.986586Z",
     "start_time": "2021-11-23T12:44:10.984704Z"
    }
   },
   "outputs": [],
   "source": [
    "# print(imgbase.projection())"
   ]
  },
  {
   "cell_type": "code",
   "execution_count": 82,
   "id": "e3b8043e",
   "metadata": {
    "ExecuteTime": {
     "end_time": "2021-11-23T12:44:11.277828Z",
     "start_time": "2021-11-23T12:44:10.992206Z"
    }
   },
   "outputs": [
    {
     "data": {
      "text/plain": [
       "'UTM'"
      ]
     },
     "execution_count": 82,
     "metadata": {},
     "output_type": "execute_result"
    }
   ],
   "source": [
    "imgbase.get('MAP_PROJECTION').getInfo()"
   ]
  },
  {
   "cell_type": "code",
   "execution_count": 83,
   "id": "e6579f0c",
   "metadata": {
    "ExecuteTime": {
     "end_time": "2021-11-23T12:44:11.281832Z",
     "start_time": "2021-11-23T12:44:11.278682Z"
    }
   },
   "outputs": [],
   "source": [
    "start_date = '2020-10-01'\n",
    "end_date = '2021-03-31'\n",
    "imgbase2 = ee.ImageCollection('LANDSAT/LC08/C01/T1_TOA') \\\n",
    "    .filter(ee.Filter.eq('WRS_PATH', 230)) \\\n",
    "    .filter(ee.Filter.eq('WRS_ROW', 91)) \\\n",
    "    .filterDate(start_date, end_date) "
   ]
  },
  {
   "cell_type": "code",
   "execution_count": 84,
   "id": "a7e5933f",
   "metadata": {
    "ExecuteTime": {
     "end_time": "2021-11-23T12:44:11.284835Z",
     "start_time": "2021-11-23T12:44:11.282848Z"
    }
   },
   "outputs": [],
   "source": [
    "imgbase2 = find_closest(imgbase, imgbase2,14).sort('CLOUD_COVER').first()\n",
    "imgbase2 = ee.Image(imgbase2)"
   ]
  },
  {
   "cell_type": "code",
   "execution_count": 85,
   "id": "c646d7e2",
   "metadata": {
    "ExecuteTime": {
     "end_time": "2021-11-23T12:44:11.287500Z",
     "start_time": "2021-11-23T12:44:11.285783Z"
    }
   },
   "outputs": [],
   "source": [
    "# reproj2= imgbase2 \\\n",
    "#     .reproject(crs='EPSG:4326',crsTransform= [0.00025, 0, -180, 0, -0.00025, 80])"
   ]
  },
  {
   "cell_type": "code",
   "execution_count": 86,
   "id": "596b0a0b",
   "metadata": {
    "ExecuteTime": {
     "end_time": "2021-11-23T12:44:11.289535Z",
     "start_time": "2021-11-23T12:44:11.288178Z"
    }
   },
   "outputs": [],
   "source": [
    "# Map1.addLayer(imgbase2, vizParams, 'img base2')\n",
    "# Map1"
   ]
  },
  {
   "cell_type": "code",
   "execution_count": 87,
   "id": "d77a3cd7",
   "metadata": {
    "ExecuteTime": {
     "end_time": "2021-11-23T12:44:11.292416Z",
     "start_time": "2021-11-23T12:44:11.290458Z"
    }
   },
   "outputs": [],
   "source": [
    "start_date = '2020-10-01'\n",
    "end_date = '2021-03-31'\n",
    "imgbase3 = ee.ImageCollection('LANDSAT/LC08/C01/T1_TOA') \\\n",
    "    .filter(ee.Filter.eq('WRS_PATH', 229)) \\\n",
    "    .filter(ee.Filter.eq('WRS_ROW', 91)) \\\n",
    "    .filterDate(start_date, end_date) "
   ]
  },
  {
   "cell_type": "code",
   "execution_count": 88,
   "id": "3d44c9fc",
   "metadata": {
    "ExecuteTime": {
     "end_time": "2021-11-23T12:44:11.295420Z",
     "start_time": "2021-11-23T12:44:11.293337Z"
    }
   },
   "outputs": [],
   "source": [
    "imgbase3 = find_closest(imgbase2, imgbase3,21).sort('CLOUD_COVER').first()\n",
    "imgbase3 = ee.Image(imgbase3)"
   ]
  },
  {
   "cell_type": "code",
   "execution_count": 89,
   "id": "23050d6f",
   "metadata": {
    "ExecuteTime": {
     "end_time": "2021-11-23T12:44:11.298017Z",
     "start_time": "2021-11-23T12:44:11.296271Z"
    }
   },
   "outputs": [],
   "source": [
    "# reproj3= imgbase3 \\\n",
    "#     .reproject(crs='EPSG:4326',crsTransform= [0.00025, 0, -180, 0, -0.00025, 80])"
   ]
  },
  {
   "cell_type": "code",
   "execution_count": 90,
   "id": "954b5ed0",
   "metadata": {
    "ExecuteTime": {
     "end_time": "2021-11-23T12:44:11.300111Z",
     "start_time": "2021-11-23T12:44:11.298725Z"
    }
   },
   "outputs": [],
   "source": [
    "# Map1.addLayer(imgbase3, vizParams, 'img base3')\n",
    "# Map1"
   ]
  },
  {
   "cell_type": "code",
   "execution_count": 91,
   "id": "f4b197cf",
   "metadata": {
    "ExecuteTime": {
     "end_time": "2021-11-23T12:44:11.302912Z",
     "start_time": "2021-11-23T12:44:11.301085Z"
    }
   },
   "outputs": [],
   "source": [
    "start_date = '2020-10-01'\n",
    "end_date = '2021-03-31'\n",
    "imgbase4 = ee.ImageCollection('LANDSAT/LC08/C01/T1_TOA') \\\n",
    "    .filter(ee.Filter.eq('WRS_PATH', 228)) \\\n",
    "    .filter(ee.Filter.eq('WRS_ROW', 91)) \\\n",
    "    .filterDate(start_date, end_date) "
   ]
  },
  {
   "cell_type": "code",
   "execution_count": 92,
   "id": "af926cee",
   "metadata": {
    "ExecuteTime": {
     "end_time": "2021-11-23T12:44:11.305926Z",
     "start_time": "2021-11-23T12:44:11.303713Z"
    }
   },
   "outputs": [],
   "source": [
    "imgbase4 = find_closest(imgbase3, imgbase4,14).sort('CLOUD_COVER').first()\n",
    "imgbase4 = ee.Image(imgbase4)"
   ]
  },
  {
   "cell_type": "code",
   "execution_count": 93,
   "id": "e00c13e2",
   "metadata": {
    "ExecuteTime": {
     "end_time": "2021-11-23T12:44:11.308514Z",
     "start_time": "2021-11-23T12:44:11.306673Z"
    }
   },
   "outputs": [],
   "source": [
    "# reproj4= imgbase4 \\\n",
    "#     .reproject(crs='EPSG:4326',crsTransform= [0.00025, 0, -180, 0, -0.00025, 80])"
   ]
  },
  {
   "cell_type": "code",
   "execution_count": 94,
   "id": "ecc2e9e6",
   "metadata": {
    "ExecuteTime": {
     "end_time": "2021-11-23T12:44:11.310508Z",
     "start_time": "2021-11-23T12:44:11.309185Z"
    }
   },
   "outputs": [],
   "source": [
    "# Map1.addLayer(imgbase4, vizParams, 'img base4')\n",
    "# Map1"
   ]
  },
  {
   "cell_type": "code",
   "execution_count": 95,
   "id": "e305e5b4",
   "metadata": {
    "ExecuteTime": {
     "end_time": "2021-11-23T12:44:11.313510Z",
     "start_time": "2021-11-23T12:44:11.311378Z"
    }
   },
   "outputs": [],
   "source": [
    "start_date = '2020-10-01'\n",
    "end_date = '2021-03-31'\n",
    "imgbase5 = ee.ImageCollection('LANDSAT/LC08/C01/T1_TOA') \\\n",
    "    .filter(ee.Filter.eq('WRS_PATH', 232)) \\\n",
    "    .filter(ee.Filter.eq('WRS_ROW', 91)) \\\n",
    "    .filterDate(start_date, end_date) "
   ]
  },
  {
   "cell_type": "code",
   "execution_count": 96,
   "id": "e76971d2",
   "metadata": {
    "ExecuteTime": {
     "end_time": "2021-11-23T12:44:11.316517Z",
     "start_time": "2021-11-23T12:44:11.314193Z"
    }
   },
   "outputs": [],
   "source": [
    "imgbase5 = find_closest(imgbase, imgbase5,28).sort('CLOUD_COVER').first()\n",
    "imgbase5 = ee.Image(imgbase5)"
   ]
  },
  {
   "cell_type": "code",
   "execution_count": 97,
   "id": "daaac0ef",
   "metadata": {
    "ExecuteTime": {
     "end_time": "2021-11-23T12:44:11.319111Z",
     "start_time": "2021-11-23T12:44:11.317384Z"
    }
   },
   "outputs": [],
   "source": [
    "# reproj5= imgbase5 \\\n",
    "#     .reproject(crs='EPSG:4326',crsTransform= [0.00025, 0, -180, 0, -0.00025, 80])"
   ]
  },
  {
   "cell_type": "code",
   "execution_count": 98,
   "id": "ee78b984",
   "metadata": {
    "ExecuteTime": {
     "end_time": "2021-11-23T12:44:11.321202Z",
     "start_time": "2021-11-23T12:44:11.319875Z"
    }
   },
   "outputs": [],
   "source": [
    "# Map1.addLayer(imgbase5, vizParams, 'img base5')\n",
    "# Map1"
   ]
  },
  {
   "cell_type": "code",
   "execution_count": 99,
   "id": "cb677c38",
   "metadata": {
    "ExecuteTime": {
     "end_time": "2021-11-23T12:44:11.324266Z",
     "start_time": "2021-11-23T12:44:11.322197Z"
    }
   },
   "outputs": [],
   "source": [
    "start_date = '2020-10-01'\n",
    "end_date = '2021-03-31'\n",
    "imgbase6 = ee.ImageCollection('LANDSAT/LC08/C01/T1_TOA') \\\n",
    "    .filter(ee.Filter.eq('WRS_PATH', 233)) \\\n",
    "    .filter(ee.Filter.eq('WRS_ROW', 91)) \\\n",
    "    .filterDate(start_date, end_date) "
   ]
  },
  {
   "cell_type": "code",
   "execution_count": 100,
   "id": "a2772ed4",
   "metadata": {
    "ExecuteTime": {
     "end_time": "2021-11-23T12:44:11.327274Z",
     "start_time": "2021-11-23T12:44:11.325170Z"
    }
   },
   "outputs": [],
   "source": [
    "imgbase6 = find_closest(imgbase5, imgbase6,360).sort('CLOUD_COVER').first()\n",
    "imgbase6 = ee.Image(imgbase6)"
   ]
  },
  {
   "cell_type": "code",
   "execution_count": 101,
   "id": "075deb32",
   "metadata": {
    "ExecuteTime": {
     "end_time": "2021-11-23T12:44:11.329826Z",
     "start_time": "2021-11-23T12:44:11.328010Z"
    }
   },
   "outputs": [],
   "source": [
    "# reproj6= imgbase6 \\\n",
    "#     .reproject(crs='EPSG:4326',crsTransform= [0.00025, 0, -180, 0, -0.00025, 80])"
   ]
  },
  {
   "cell_type": "code",
   "execution_count": 102,
   "id": "489f204a",
   "metadata": {
    "ExecuteTime": {
     "end_time": "2021-11-23T12:44:11.331850Z",
     "start_time": "2021-11-23T12:44:11.330486Z"
    }
   },
   "outputs": [],
   "source": [
    "# Map1.addLayer(imgbase6, vizParams, 'img base6')\n",
    "# Map1"
   ]
  },
  {
   "cell_type": "code",
   "execution_count": 103,
   "id": "9d3185e1",
   "metadata": {
    "ExecuteTime": {
     "end_time": "2021-11-23T12:44:11.334223Z",
     "start_time": "2021-11-23T12:44:11.332682Z"
    }
   },
   "outputs": [],
   "source": [
    "# imgbase2.get('UTM_ZONE').getInfo()"
   ]
  },
  {
   "cell_type": "code",
   "execution_count": 104,
   "id": "9110a69a",
   "metadata": {
    "ExecuteTime": {
     "end_time": "2021-11-23T12:44:11.336450Z",
     "start_time": "2021-11-23T12:44:11.335058Z"
    }
   },
   "outputs": [],
   "source": [
    "# imgbase3.get('UTM_ZONE').getInfo()"
   ]
  },
  {
   "cell_type": "code",
   "execution_count": 105,
   "id": "22bbc7e9",
   "metadata": {
    "ExecuteTime": {
     "end_time": "2021-11-23T12:44:11.338707Z",
     "start_time": "2021-11-23T12:44:11.337308Z"
    }
   },
   "outputs": [],
   "source": [
    "# imgbase4.get('UTM_ZONE').getInfo()"
   ]
  },
  {
   "cell_type": "code",
   "execution_count": 106,
   "id": "25d8cfe0",
   "metadata": {
    "ExecuteTime": {
     "end_time": "2021-11-23T12:44:11.340930Z",
     "start_time": "2021-11-23T12:44:11.339550Z"
    }
   },
   "outputs": [],
   "source": [
    "# imgbase5.get('UTM_ZONE').getInfo()"
   ]
  },
  {
   "cell_type": "code",
   "execution_count": 107,
   "id": "abc6e09e",
   "metadata": {
    "ExecuteTime": {
     "end_time": "2021-11-23T12:44:11.343218Z",
     "start_time": "2021-11-23T12:44:11.341815Z"
    }
   },
   "outputs": [],
   "source": [
    "# imgbase6.get('UTM_ZONE').getInfo()"
   ]
  },
  {
   "cell_type": "code",
   "execution_count": 108,
   "id": "0b719c95",
   "metadata": {
    "ExecuteTime": {
     "end_time": "2021-11-23T12:44:11.345730Z",
     "start_time": "2021-11-23T12:44:11.344094Z"
    }
   },
   "outputs": [],
   "source": [
    "# imgbase = addNDVI(imgbase)\n",
    "# imgbase2 = addNDVI(imgbase2)\n",
    "# imgbase3 = addNDVI(imgbase3)\n",
    "# imgbase4 = addNDVI(imgbase4)\n",
    "# imgbase5 = addNDVI(imgbase5)\n",
    "# imgbase6 = addNDVI(imgbase6)"
   ]
  },
  {
   "cell_type": "code",
   "execution_count": 109,
   "id": "c0072a07",
   "metadata": {
    "ExecuteTime": {
     "end_time": "2021-11-23T12:44:11.348235Z",
     "start_time": "2021-11-23T12:44:11.346579Z"
    }
   },
   "outputs": [],
   "source": [
    "# imgbase = addNDWI(imgbase)\n",
    "# imgbase2 = addNDWI(imgbase2)\n",
    "# imgbase3 = addNDWI(imgbase3)\n",
    "# imgbase4 = addNDWI(imgbase4)\n",
    "# imgbase5 = addNDWI(imgbase5)\n",
    "# imgbase6 = addNDWI(imgbase6)"
   ]
  },
  {
   "cell_type": "code",
   "execution_count": 110,
   "id": "8865875d",
   "metadata": {
    "ExecuteTime": {
     "end_time": "2021-11-23T12:44:11.350854Z",
     "start_time": "2021-11-23T12:44:11.349067Z"
    }
   },
   "outputs": [],
   "source": [
    "# imgbase = addNDGI(imgbase)\n",
    "# imgbase2 = addNDGI(imgbase2)\n",
    "# imgbase3 = addNDGI(imgbase3)\n",
    "# imgbase4 = addNDGI(imgbase4)\n",
    "# imgbase5 = addNDGI(imgbase5)\n",
    "# imgbase6 = addNDGI(imgbase6)"
   ]
  },
  {
   "cell_type": "code",
   "execution_count": 111,
   "id": "0aa70e71",
   "metadata": {
    "ExecuteTime": {
     "end_time": "2021-11-23T12:44:11.352961Z",
     "start_time": "2021-11-23T12:44:11.351554Z"
    }
   },
   "outputs": [],
   "source": [
    "# imgbase = addSAVI(imgbase)\n",
    "# imgbase2 = addSAVI(imgbase2)\n",
    "# imgbase3 = addSAVI(imgbase3)\n",
    "# imgbase4 = addSAVI(imgbase4)\n",
    "# imgbase5 = addSAVI(imgbase5)\n",
    "# imgbase6 = addSAVI(imgbase6)"
   ]
  },
  {
   "cell_type": "code",
   "execution_count": 112,
   "id": "38e741d2",
   "metadata": {
    "ExecuteTime": {
     "end_time": "2021-11-23T12:44:11.355489Z",
     "start_time": "2021-11-23T12:44:11.353866Z"
    }
   },
   "outputs": [],
   "source": [
    "# imgbase = addNDSI(imgbase)\n",
    "# imgbase2 = addNDSI(imgbase2)\n",
    "# imgbase3 = addNDSI(imgbase3)\n",
    "# imgbase4 = addNDSI(imgbase4)\n",
    "# imgbase5 = addNDSI(imgbase5)\n",
    "# imgbase6 = addNDSI(imgbase6)"
   ]
  },
  {
   "cell_type": "code",
   "execution_count": 113,
   "id": "995744da",
   "metadata": {
    "ExecuteTime": {
     "end_time": "2021-11-23T12:44:11.357990Z",
     "start_time": "2021-11-23T12:44:11.356482Z"
    }
   },
   "outputs": [],
   "source": [
    "# imgbase = addDate(imgbase)\n",
    "# imgbase2 = addDate(imgbase2)\n",
    "# imgbase3 = addDate(imgbase3)\n",
    "# imgbase4 = addDate(imgbase4)\n",
    "# imgbase5 = addDate(imgbase5)\n",
    "# imgbase6 = addDate(imgbase6)"
   ]
  },
  {
   "cell_type": "code",
   "execution_count": 114,
   "id": "85657b4b",
   "metadata": {
    "ExecuteTime": {
     "end_time": "2021-11-23T12:44:11.360124Z",
     "start_time": "2021-11-23T12:44:11.358817Z"
    }
   },
   "outputs": [],
   "source": [
    "# imgbase = addCloud(imgbase)\n",
    "# imgbase2 = addCloud(imgbase2)\n",
    "# imgbase3 = addCloud(imgbase3)\n",
    "# imgbase4 = addCloud(imgbase4)\n",
    "# imgbase5 = addCloud(imgbase5)\n",
    "# imgbase6 = addCloud(imgbase6)"
   ]
  },
  {
   "cell_type": "code",
   "execution_count": 115,
   "id": "1c7f97bf",
   "metadata": {
    "ExecuteTime": {
     "end_time": "2021-11-23T12:44:11.362597Z",
     "start_time": "2021-11-23T12:44:11.361103Z"
    }
   },
   "outputs": [],
   "source": [
    "# imgbase.get('DATE_ACQUIRED').getInfo()"
   ]
  },
  {
   "cell_type": "code",
   "execution_count": 116,
   "id": "8b81a7a1",
   "metadata": {
    "ExecuteTime": {
     "end_time": "2021-11-23T12:44:11.364769Z",
     "start_time": "2021-11-23T12:44:11.363408Z"
    }
   },
   "outputs": [],
   "source": [
    "# imgbase2.get('DATE_ACQUIRED').getInfo()"
   ]
  },
  {
   "cell_type": "code",
   "execution_count": 117,
   "id": "ba5e16fa",
   "metadata": {
    "ExecuteTime": {
     "end_time": "2021-11-23T12:44:11.367049Z",
     "start_time": "2021-11-23T12:44:11.365588Z"
    }
   },
   "outputs": [],
   "source": [
    "# imgbase3.get('DATE_ACQUIRED').getInfo()"
   ]
  },
  {
   "cell_type": "code",
   "execution_count": 118,
   "id": "5d4829ff",
   "metadata": {
    "ExecuteTime": {
     "end_time": "2021-11-23T12:44:11.369586Z",
     "start_time": "2021-11-23T12:44:11.367988Z"
    }
   },
   "outputs": [],
   "source": [
    "# imgbase4.get('DATE_ACQUIRED').getInfo()"
   ]
  },
  {
   "cell_type": "code",
   "execution_count": 119,
   "id": "dfb567b7",
   "metadata": {
    "ExecuteTime": {
     "end_time": "2021-11-23T12:44:11.372166Z",
     "start_time": "2021-11-23T12:44:11.370465Z"
    }
   },
   "outputs": [],
   "source": [
    "# imgbase5.get('DATE_ACQUIRED').getInfo()"
   ]
  },
  {
   "cell_type": "code",
   "execution_count": 120,
   "id": "144e07cd",
   "metadata": {
    "ExecuteTime": {
     "end_time": "2021-11-23T12:44:11.374134Z",
     "start_time": "2021-11-23T12:44:11.372834Z"
    }
   },
   "outputs": [],
   "source": [
    "# imgbase6.get('DATE_ACQUIRED').getInfo()"
   ]
  },
  {
   "cell_type": "code",
   "execution_count": 121,
   "id": "75a6a249",
   "metadata": {
    "ExecuteTime": {
     "end_time": "2021-11-23T12:44:11.377350Z",
     "start_time": "2021-11-23T12:44:11.374961Z"
    }
   },
   "outputs": [],
   "source": [
    "imgbase_bandas = imgbase.select(['B1','B2','B3','B4','B5','B6','B7'])\n",
    "imgbase_bandas2 = imgbase2.select(['B1','B2','B3','B4','B5','B6','B7'])\n",
    "imgbase_bandas3 = imgbase3.select(['B1','B2','B3','B4','B5','B6','B7'])\n",
    "imgbase_bandas4 = imgbase4.select(['B1','B2','B3','B4','B5','B6','B7'])\n",
    "imgbase_bandas5 = imgbase5.select(['B1','B2','B3','B4','B5','B6','B7'])\n",
    "imgbase_bandas6 = imgbase6.select(['B1','B2','B3','B4','B5','B6','B7'])"
   ]
  },
  {
   "cell_type": "code",
   "execution_count": 122,
   "id": "20da5ec9",
   "metadata": {
    "ExecuteTime": {
     "end_time": "2021-11-23T12:44:12.703390Z",
     "start_time": "2021-11-23T12:44:11.378269Z"
    }
   },
   "outputs": [],
   "source": [
    "work_dir = os.path.expanduser('../../../Data/shapes/')\n",
    "geom1 = os.path.join(work_dir, 'geom_1.shp')\n",
    "geom1 = geemap.shp_to_ee(geom1)\n",
    "geom2 = os.path.join(work_dir, 'geom_2.shp')\n",
    "geom2 = geemap.shp_to_ee(geom2)\n",
    "geom3 = os.path.join(work_dir, 'geom_3.shp')\n",
    "geom3 = geemap.shp_to_ee(geom3)"
   ]
  },
  {
   "cell_type": "code",
   "execution_count": 123,
   "id": "650aeeba",
   "metadata": {
    "ExecuteTime": {
     "end_time": "2021-11-23T12:44:12.706321Z",
     "start_time": "2021-11-23T12:44:12.704477Z"
    }
   },
   "outputs": [],
   "source": [
    "colec_base = ee.ImageCollection([imgbase_bandas,imgbase_bandas2,imgbase_bandas3,imgbase_bandas4,imgbase_bandas5,imgbase_bandas6]).mosaic()"
   ]
  },
  {
   "cell_type": "code",
   "execution_count": 124,
   "id": "f65341ee",
   "metadata": {
    "ExecuteTime": {
     "end_time": "2021-11-23T12:44:12.709083Z",
     "start_time": "2021-11-23T12:44:12.707113Z"
    }
   },
   "outputs": [],
   "source": [
    "# colec_base_r = ee.ImageCollection([reproj,reproj2,reproj3,reproj4,reproj5,reproj6]).mosaic()"
   ]
  },
  {
   "cell_type": "code",
   "execution_count": 125,
   "id": "264778eb",
   "metadata": {
    "ExecuteTime": {
     "end_time": "2021-11-23T12:44:12.711686Z",
     "start_time": "2021-11-23T12:44:12.709930Z"
    }
   },
   "outputs": [],
   "source": [
    "c1 = colec_base.clip(geom1)\n",
    "c2 = colec_base.clip(geom2)\n",
    "c3 = colec_base.clip(geom3)"
   ]
  },
  {
   "cell_type": "code",
   "execution_count": 126,
   "id": "997ae2ea",
   "metadata": {
    "ExecuteTime": {
     "end_time": "2021-11-23T12:44:12.714093Z",
     "start_time": "2021-11-23T12:44:12.712559Z"
    }
   },
   "outputs": [],
   "source": [
    "# geemap.ee_export_image_to_drive(colec_base, description='img_base_mosaic', folder='export',region=colec_geom.geometry(),scale=30)"
   ]
  },
  {
   "cell_type": "code",
   "execution_count": 127,
   "id": "d98c2981",
   "metadata": {
    "ExecuteTime": {
     "end_time": "2021-11-23T12:44:12.716494Z",
     "start_time": "2021-11-23T12:44:12.715049Z"
    }
   },
   "outputs": [],
   "source": [
    "# geemap.ee_export_image_to_drive(c1, description='colec1', folder='Base',region=geom1.geometry(),scale=30)\n",
    "# geemap.ee_export_image_to_drive(c2, description='colec2', folder='Base',region=geom2.geometry(),scale=30)\n",
    "# geemap.ee_export_image_to_drive(c3, description='colec3', folder='Base',region=geom3.geometry(),scale=30)"
   ]
  },
  {
   "cell_type": "code",
   "execution_count": 128,
   "id": "00c5c6f9",
   "metadata": {
    "ExecuteTime": {
     "end_time": "2021-11-23T12:44:12.718838Z",
     "start_time": "2021-11-23T12:44:12.717343Z"
    }
   },
   "outputs": [],
   "source": [
    "# geemap.ee_export_image_to_drive(imgbase_bandas, description='img_base1', folder='Base',scale=30)\n",
    "# geemap.ee_export_image_to_drive(imgbase_bandas2, description='img_base2', folder='Base',scale=30)\n",
    "# geemap.ee_export_image_to_drive(imgbase_bandas3, description='img_base3', folder='Base',scale=30)\n",
    "# geemap.ee_export_image_to_drive(imgbase_bandas4, description='img_base4', folder='Base',scale=30)\n",
    "# geemap.ee_export_image_to_drive(imgbase_bandas5, description='img_base5', folder='Base',scale=30)\n",
    "# geemap.ee_export_image_to_drive(imgbase_bandas6, description='img_base6', folder='Base',scale=30)\n"
   ]
  },
  {
   "cell_type": "code",
   "execution_count": 129,
   "id": "2d3d99aa",
   "metadata": {
    "ExecuteTime": {
     "end_time": "2021-11-23T12:44:13.573357Z",
     "start_time": "2021-11-23T12:44:12.719623Z"
    },
    "scrolled": false
   },
   "outputs": [
    {
     "data": {
      "application/vnd.jupyter.widget-view+json": {
       "model_id": "d26f403334ec407597d11d2f92a68326",
       "version_major": 2,
       "version_minor": 0
      },
      "text/plain": [
       "Map(center=[-45, -70], controls=(WidgetControl(options=['position', 'transparent_bg'], widget=HBox(children=(T…"
      ]
     },
     "metadata": {},
     "output_type": "display_data"
    }
   ],
   "source": [
    "# Map1.addLayer(resampled, vizParams, 'img base r')\n",
    "Map1.addLayer(imgbase, vizParams, 'img base')\n",
    "# Map1.addLayer(imgbase_bandas2, vizParams, 'img base2')\n",
    "# Map1.addLayer(imgbase_bandas3, vizParams, 'img base3')\n",
    "# Map1.addLayer(imgbase_bandas4, vizParams, 'img base4')\n",
    "# Map1.addLayer(imgbase_bandas5, vizParams, 'img base5')\n",
    "# Map1.addLayer(imgbase_bandas6, vizParams, 'img base6')\n",
    "Map1.addLayer(colec_base, vizParams, 'coleccion')\n",
    "# Map1.addLayer(colec_base_r, vizParams, 'coleccion r')\n",
    "Map1"
   ]
  },
  {
   "cell_type": "markdown",
   "id": "dd7d911d",
   "metadata": {},
   "source": [
    "## Indices por colección"
   ]
  },
  {
   "cell_type": "markdown",
   "id": "4ea0a4cd",
   "metadata": {},
   "source": [
    "### Índices 2021"
   ]
  },
  {
   "cell_type": "code",
   "execution_count": 130,
   "id": "426dfca0",
   "metadata": {
    "ExecuteTime": {
     "end_time": "2021-11-23T12:44:13.575592Z",
     "start_time": "2021-11-23T12:44:13.574180Z"
    }
   },
   "outputs": [],
   "source": [
    "# NDVI_2021 = NDVI_2021_sn.select('NDVI')\n",
    "# NDWI_2021 = NDWI_2021_sn.select('NDWI')\n",
    "# SAVI_2021 = SAVI_2021_sn.select('SAVI')\n",
    "# NDGI_2021 = NDGI_2021_sn.select('NDGI')\n",
    "# NDSI_2021 = NDSI_2021_sn.select('NDSI')\n"
   ]
  },
  {
   "cell_type": "code",
   "execution_count": 131,
   "id": "eaf84698",
   "metadata": {
    "ExecuteTime": {
     "end_time": "2021-11-23T12:44:13.578417Z",
     "start_time": "2021-11-23T12:44:13.576395Z"
    }
   },
   "outputs": [],
   "source": [
    "# Map9.addLayer(NDVI_2021, {'palette': color_terrain}, 'QMsn de NDVI 2021')\n",
    "# Map9.addLayer(NDWI_2021, {'palette': color_ndwi}, 'QMsn de NDWI 2021')\n",
    "# Map9.addLayer(SAVI_2021, {'palette': color_ndvi}, 'QMsn de SAVI 2021')\n",
    "# Map9.addLayer(NDGI_2021, {'palette': color_glaciar}, 'QMsn de NDGI 2021')\n",
    "# Map9.addLayer(NDSI_2021, {'palette': color_ndwi}, 'QMsn de NDSI 2021')\n",
    "# Map9"
   ]
  },
  {
   "cell_type": "markdown",
   "id": "1e0309e1",
   "metadata": {},
   "source": [
    "### Índices 2020"
   ]
  },
  {
   "cell_type": "code",
   "execution_count": 132,
   "id": "cc1253c0",
   "metadata": {
    "ExecuteTime": {
     "end_time": "2021-11-23T12:44:13.580861Z",
     "start_time": "2021-11-23T12:44:13.579360Z"
    }
   },
   "outputs": [],
   "source": [
    "# NDVI_2020 = NDVI_2020_sn.select('NDVI')\n",
    "# NDWI_2020 = NDWI_2020_sn.select('NDWI')\n",
    "# SAVI_2020 = SAVI_2020_sn.select('SAVI')\n",
    "# NDGI_2020 = NDGI_2020_sn.select('NDGI')\n",
    "# NDSI_2020 = NDSI_2020_sn.select('NDSI')"
   ]
  },
  {
   "cell_type": "code",
   "execution_count": 133,
   "id": "3e0524d7",
   "metadata": {
    "ExecuteTime": {
     "end_time": "2021-11-23T12:44:13.583216Z",
     "start_time": "2021-11-23T12:44:13.581715Z"
    }
   },
   "outputs": [],
   "source": [
    "# Map5.addLayer(NDVI_2020, {'palette': color_terrain}, 'QMsn de NDVI 2020')\n",
    "# Map5.addLayer(NDWI_2020, {'palette': color_ndwi}, 'QMsn de NDWI 2020')\n",
    "# Map5.addLayer(SAVI_2020, {'palette': color_ndvi}, 'QMsn de SAVI 2020')\n",
    "# Map5.addLayer(NDGI_2020, {'palette': color_glaciar}, 'QMsn de NDGI 2020')\n",
    "# Map5.addLayer(NDSI_2020, {'palette': color_ndwi}, 'QMsn de NDSI 2020')\n",
    "# Map5"
   ]
  },
  {
   "cell_type": "markdown",
   "id": "4aee56c9",
   "metadata": {},
   "source": [
    "### Índices 2019"
   ]
  },
  {
   "cell_type": "code",
   "execution_count": 134,
   "id": "4a0a2445",
   "metadata": {
    "ExecuteTime": {
     "end_time": "2021-11-23T12:44:13.585742Z",
     "start_time": "2021-11-23T12:44:13.584068Z"
    }
   },
   "outputs": [],
   "source": [
    "# NDVI_2019 = NDVI_2019_sn.select('NDVI')\n",
    "# NDWI_2019 = NDWI_2019_sn.select('NDWI')\n",
    "# SAVI_2019 = SAVI_2019_sn.select('SAVI')\n",
    "# NDGI_2019 = NDGI_2019_sn.select('NDGI')\n",
    "# NDSI_2019 = NDSI_2019_sn.select('NDSI')"
   ]
  },
  {
   "cell_type": "code",
   "execution_count": 135,
   "id": "144629ba",
   "metadata": {
    "ExecuteTime": {
     "end_time": "2021-11-23T12:44:13.588313Z",
     "start_time": "2021-11-23T12:44:13.586548Z"
    }
   },
   "outputs": [],
   "source": [
    "# Map6.addLayer(NDVI_2019, {'palette': color_terrain}, 'QMsn de NDVI 2019')\n",
    "# Map6.addLayer(NDWI_2019, {'palette': color_ndwi}, 'QMsn de NDWI 2019')\n",
    "# Map6.addLayer(SAVI_2019, {'palette': color_ndvi}, 'QMsn de SAVI 2019')\n",
    "# Map6.addLayer(NDGI_2019, {'palette': color_glaciar}, 'QMsn de NDGI 2019')\n",
    "# Map6.addLayer(NDSI_2019, {'palette': color_ndwi}, 'QMsn de NDSI 2019')\n",
    "# Map6"
   ]
  },
  {
   "cell_type": "markdown",
   "id": "e765cd19",
   "metadata": {},
   "source": [
    "### Índices 2018"
   ]
  },
  {
   "cell_type": "code",
   "execution_count": 136,
   "id": "b4275190",
   "metadata": {
    "ExecuteTime": {
     "end_time": "2021-11-23T12:44:13.590429Z",
     "start_time": "2021-11-23T12:44:13.589091Z"
    }
   },
   "outputs": [],
   "source": [
    "# NDVI_2018 = NDVI_2018_sn.select('NDVI')\n",
    "# NDWI_2018 = NDWI_2018_sn.select('NDWI')\n",
    "# SAVI_2018 = SAVI_2018_sn.select('SAVI')\n",
    "# NDGI_2018 = NDGI_2018_sn.select('NDGI')\n",
    "# NDSI_2018 = NDSI_2018_sn.select('NDSI')"
   ]
  },
  {
   "cell_type": "code",
   "execution_count": 137,
   "id": "977e42e9",
   "metadata": {
    "ExecuteTime": {
     "end_time": "2021-11-23T12:44:13.592698Z",
     "start_time": "2021-11-23T12:44:13.591305Z"
    }
   },
   "outputs": [],
   "source": [
    "# Map6.addLayer(NDVI_2018, {'palette': color_terrain}, 'QMsn de NDVI 2018')\n",
    "# Map6.addLayer(NDWI_2018, {'palette': color_ndwi}, 'QMsn de NDWI 2018')\n",
    "# Map6.addLayer(SAVI_2018, {'palette': color_ndvi}, 'QMsn de SAVI 2018')\n",
    "# Map6.addLayer(NDGI_2018, {'palette': color_glaciar}, 'QMsn de NDGI 2018')\n",
    "# Map6.addLayer(NDSI_2018, {'palette': color_ndwi}, 'QMsn de NDSI 2018')\n",
    "# Map6"
   ]
  },
  {
   "cell_type": "markdown",
   "id": "158b36ac",
   "metadata": {},
   "source": [
    "## Matching de Histogramas"
   ]
  },
  {
   "cell_type": "code",
   "execution_count": 138,
   "id": "c8f22563",
   "metadata": {
    "ExecuteTime": {
     "end_time": "2021-11-23T12:44:13.596778Z",
     "start_time": "2021-11-23T12:44:13.593496Z"
    }
   },
   "outputs": [],
   "source": [
    "def lookup(source_hist, target_hist):\n",
    "    \"\"\"Creates a lookup table to make a source histogram match a target histogram.\n",
    "\n",
    "    Args:\n",
    "        source_hist: The histogram to modify. \n",
    "        Expects the Nx2 array format produced by ee.Reducer.autoHistogram.\n",
    "        target_hist: The histogram to match to. \n",
    "        Expects the Nx2 array format produced by ee.Reducer.autoHistogram.\n",
    "\n",
    "    Returns:\n",
    "        A dictionary with 'x' and 'y' properties that respectively represent the x and y\n",
    "        array inputs to the ee.Image.interpolate function.\n",
    "    \"\"\"\n",
    "\n",
    "    # Split the histograms by column and normalize the counts.\n",
    "    source_values = source_hist.slice(1, 0, 1).project([0])\n",
    "    source_counts = source_hist.slice(1, 1, 2).project([0])\n",
    "    source_counts = source_counts.divide(source_counts.get([-1]))\n",
    "\n",
    "    target_values = target_hist.slice(1, 0, 1).project([0])\n",
    "    target_counts = target_hist.slice(1, 1, 2).project([0])\n",
    "    target_counts = target_counts.divide(target_counts.get([-1]))\n",
    "\n",
    "    # Find first position in target where targetCount >= srcCount[i], for each i.\n",
    "    def make_lookup(n):\n",
    "        return target_values.get(target_counts.gte(n).argmax())\n",
    "\n",
    "    lookup = source_counts.toList().map(make_lookup)\n",
    "\n",
    "    return {'x': source_values.toList(), 'y': lookup}"
   ]
  },
  {
   "cell_type": "code",
   "execution_count": 139,
   "id": "9adbc7c2",
   "metadata": {
    "ExecuteTime": {
     "end_time": "2021-11-23T12:44:13.602254Z",
     "start_time": "2021-11-23T12:44:13.597707Z"
    }
   },
   "outputs": [],
   "source": [
    "def histogram_match(source_img, target_img, geometry):\n",
    "    \"\"\"Performs histogram matching for 3-band RGB images by forcing the histogram CDF of source_img to match target_img.\n",
    "\n",
    "    Args:\n",
    "        source_img: A 3-band ee.Image to be color matched. Must have bands named 'R', 'G', and 'B'.\n",
    "        target_img: A 3-band ee.Image for color reference. Must have bands named 'R', 'G', and 'B'.\n",
    "        geometry: An ee.Geometry that defines the region to generate RGB histograms for.\n",
    "          It should intersect both source_img and target_img inputs.\n",
    "\n",
    "    Returns:\n",
    "        A copy of src_img color-matched to target_img.\n",
    "    \"\"\"\n",
    "\n",
    "    args = {\n",
    "        'reducer': ee.Reducer.autoHistogram(**{'maxBuckets': 1024, 'cumulative': True}),\n",
    "        'geometry': geometry,\n",
    "        'scale': 1, # Need to specify a scale, but it doesn't matter what it is because bestEffort is true.\n",
    "        'maxPixels': 1048576 * 4 - 1,\n",
    "        'bestEffort': True\n",
    "    }\n",
    "\n",
    "    # Only use pixels in target that have a value in source (inside the footprint and unmasked).\n",
    "    source = source_img.reduceRegion(**args)\n",
    "    target = target_img.updateMask(source_img.mask()).reduceRegion(**args)\n",
    "\n",
    "    return ee.Image.cat(\n",
    "        source_img.select(['B1']).interpolate(**lookup(source.getArray('B1'), target.getArray('B1'))),\n",
    "        source_img.select(['B2']).interpolate(**lookup(source.getArray('B2'), target.getArray('B2'))),\n",
    "        source_img.select(['B3']).interpolate(**lookup(source.getArray('B3'), target.getArray('B3'))),\n",
    "        source_img.select(['B4']).interpolate(**lookup(source.getArray('B4'), target.getArray('B4'))),\n",
    "        source_img.select(['B5']).interpolate(**lookup(source.getArray('B5'), target.getArray('B5'))),\n",
    "        source_img.select(['B6']).interpolate(**lookup(source.getArray('B6'), target.getArray('B6'))),\n",
    "        source_img.select(['B7']).interpolate(**lookup(source.getArray('B7'), target.getArray('B7'))),\n",
    "        source_img.select(['B8']).interpolate(**lookup(source.getArray('B8'), target.getArray('B8'))),\n",
    "        source_img.select(['B9']).interpolate(**lookup(source.getArray('B9'), target.getArray('B9'))),\n",
    "        source_img.select(['B10']).interpolate(**lookup(source.getArray('B10'), target.getArray('B10'))),\n",
    "        source_img.select(['B11']).interpolate(**lookup(source.getArray('B11'), target.getArray('B11'))),\n",
    "    ).copyProperties(source_img, ['system:time_start'])"
   ]
  },
  {
   "cell_type": "code",
   "execution_count": 140,
   "id": "006690ff",
   "metadata": {
    "ExecuteTime": {
     "end_time": "2021-11-23T12:44:13.604684Z",
     "start_time": "2021-11-23T12:44:13.603091Z"
    }
   },
   "outputs": [],
   "source": [
    "geometry = geometria_base2.geometry()"
   ]
  },
  {
   "cell_type": "code",
   "execution_count": 141,
   "id": "15798156",
   "metadata": {
    "ExecuteTime": {
     "end_time": "2021-11-23T12:44:13.606954Z",
     "start_time": "2021-11-23T12:44:13.605517Z"
    }
   },
   "outputs": [],
   "source": [
    "# geometry = ee.Geometry({\n",
    "#   'type': 'Polygon',\n",
    "#   'coordinates':\n",
    "#     [[[-72.674, -45.045],\n",
    "#       [-71.603, -45.086],\n",
    "#       [-71.554, -46.027],\n",
    "#       [-72.674, -45.045]]]\n",
    "# });"
   ]
  },
  {
   "cell_type": "code",
   "execution_count": 142,
   "id": "96c0fdd4",
   "metadata": {
    "ExecuteTime": {
     "end_time": "2021-11-23T12:44:13.609355Z",
     "start_time": "2021-11-23T12:44:13.607820Z"
    }
   },
   "outputs": [],
   "source": [
    "# geometryCoordinates = geometry.coordinates()"
   ]
  },
  {
   "cell_type": "code",
   "execution_count": 143,
   "id": "fd5d4d96",
   "metadata": {
    "ExecuteTime": {
     "end_time": "2021-11-23T12:44:13.611614Z",
     "start_time": "2021-11-23T12:44:13.610172Z"
    }
   },
   "outputs": [],
   "source": [
    "# print('geometry.coordinates(...) =', geometryCoordinates)"
   ]
  },
  {
   "cell_type": "code",
   "execution_count": 144,
   "id": "6f2af1f8",
   "metadata": {
    "ExecuteTime": {
     "end_time": "2021-11-23T12:44:13.779771Z",
     "start_time": "2021-11-23T12:44:13.612500Z"
    }
   },
   "outputs": [],
   "source": [
    "QM_NDVI_2021_m = histogram_match(NDVI_2021,colec_base, geometry)"
   ]
  },
  {
   "cell_type": "code",
   "execution_count": 145,
   "id": "01c11fab",
   "metadata": {
    "ExecuteTime": {
     "end_time": "2021-11-23T12:44:14.004732Z",
     "start_time": "2021-11-23T12:44:13.780745Z"
    }
   },
   "outputs": [],
   "source": [
    "NDVI_tier1 = histogram_match(QM_NDVI_T1, colec_base, geometry)"
   ]
  },
  {
   "cell_type": "code",
   "execution_count": 146,
   "id": "da2c9ab0",
   "metadata": {
    "ExecuteTime": {
     "end_time": "2021-11-23T12:44:14.171956Z",
     "start_time": "2021-11-23T12:44:14.005648Z"
    }
   },
   "outputs": [],
   "source": [
    "NDVI_tier2 = histogram_match(QM_NDVI_T2, colec_base, geometry)"
   ]
  },
  {
   "cell_type": "code",
   "execution_count": 147,
   "id": "e775315a",
   "metadata": {
    "ExecuteTime": {
     "end_time": "2021-11-23T12:44:14.397217Z",
     "start_time": "2021-11-23T12:44:14.172902Z"
    }
   },
   "outputs": [],
   "source": [
    "NDVI_tier3 = histogram_match(QM_NDVI_T3, colec_base, geometry)"
   ]
  },
  {
   "cell_type": "code",
   "execution_count": 148,
   "id": "131e6318",
   "metadata": {
    "ExecuteTime": {
     "end_time": "2021-11-23T12:44:14.565541Z",
     "start_time": "2021-11-23T12:44:14.398156Z"
    }
   },
   "outputs": [],
   "source": [
    "NDVI_tier4 = histogram_match(QM_NDVI_T4, colec_base, geometry)"
   ]
  },
  {
   "cell_type": "code",
   "execution_count": 149,
   "id": "92a22c22",
   "metadata": {
    "ExecuteTime": {
     "end_time": "2021-11-23T12:44:14.787970Z",
     "start_time": "2021-11-23T12:44:14.566492Z"
    }
   },
   "outputs": [],
   "source": [
    "NWVI_tier = histogram_match(QM_NDWI_T1, colec_base, geometry)"
   ]
  },
  {
   "cell_type": "code",
   "execution_count": 150,
   "id": "0964556b",
   "metadata": {
    "ExecuteTime": {
     "end_time": "2021-11-23T12:44:14.790779Z",
     "start_time": "2021-11-23T12:44:14.788934Z"
    }
   },
   "outputs": [],
   "source": [
    "vis_params_refl = {'min': 0, 'max': 0.25} "
   ]
  },
  {
   "cell_type": "code",
   "execution_count": 151,
   "id": "02bda186",
   "metadata": {
    "ExecuteTime": {
     "end_time": "2021-11-23T12:44:14.793102Z",
     "start_time": "2021-11-23T12:44:14.791611Z"
    }
   },
   "outputs": [],
   "source": [
    "# import folium\n",
    "\n",
    "# def add_ee_layer(self, ee_image_object, vis_params, name):\n",
    "#   map_id_dict = ee.Image(ee_image_object).getMapId(vis_params)\n",
    "#   folium.raster_layers.TileLayer(\n",
    "#       tiles=map_id_dict['tile_fetcher'].url_format,\n",
    "#       attr='Map Data &copy; <a href=\"https://earthengine.google.com/\">Google Earth Engine</a>',\n",
    "#       name=name,\n",
    "#       overlay=True,\n",
    "#       control=True\n",
    "#   ).add_to(self)\n",
    "\n",
    "# folium.Map.add_ee_layer = add_ee_layer"
   ]
  },
  {
   "cell_type": "code",
   "execution_count": 152,
   "id": "54dc379c",
   "metadata": {
    "ExecuteTime": {
     "end_time": "2021-11-23T12:44:14.795389Z",
     "start_time": "2021-11-23T12:44:14.793973Z"
    }
   },
   "outputs": [],
   "source": [
    "# lon, lat, zoom = -45, -70 , 4\n",
    "# vis_params_refl = {'min': 0, 'max': 0.25}\n",
    "# map_matched = folium.Map(location=[lat, lon], zoom_start=zoom)\n",
    "# map_matched.add_ee_layer(QM_NDVI_2021_m, vizParams, 'matched')\n",
    "# display(map_matched.add_child(folium.LayerControl()))"
   ]
  },
  {
   "cell_type": "markdown",
   "id": "dd05e9e8",
   "metadata": {},
   "source": [
    "## Generación de Mosaico"
   ]
  },
  {
   "cell_type": "code",
   "execution_count": 153,
   "id": "9b229098",
   "metadata": {
    "ExecuteTime": {
     "end_time": "2021-11-23T12:44:14.797834Z",
     "start_time": "2021-11-23T12:44:14.796183Z"
    }
   },
   "outputs": [],
   "source": [
    "NDVI_2021_landsat = NDVI_2021.set('SENSOR_ID', 'OLI_TIRS')"
   ]
  },
  {
   "cell_type": "code",
   "execution_count": 154,
   "id": "a98110ba",
   "metadata": {
    "ExecuteTime": {
     "end_time": "2021-11-23T12:44:14.800347Z",
     "start_time": "2021-11-23T12:44:14.798692Z"
    }
   },
   "outputs": [],
   "source": [
    "cloud_2021 = ee.Algorithms.Landsat.simpleCloudScore(NDVI_2021_landsat)"
   ]
  },
  {
   "cell_type": "code",
   "execution_count": 155,
   "id": "745b712d",
   "metadata": {
    "ExecuteTime": {
     "end_time": "2021-11-23T12:44:14.802760Z",
     "start_time": "2021-11-23T12:44:14.801222Z"
    }
   },
   "outputs": [],
   "source": [
    "cloud_2021 = cloud_2021.select('cloud')"
   ]
  },
  {
   "cell_type": "code",
   "execution_count": 156,
   "id": "3351dfe9",
   "metadata": {
    "ExecuteTime": {
     "end_time": "2021-11-23T12:44:14.805157Z",
     "start_time": "2021-11-23T12:44:14.803611Z"
    }
   },
   "outputs": [],
   "source": [
    "palette_nubes = ['#1a9850', '#d73027']"
   ]
  },
  {
   "cell_type": "code",
   "execution_count": 157,
   "id": "aa1c77e2",
   "metadata": {
    "ExecuteTime": {
     "end_time": "2021-11-23T12:44:14.807733Z",
     "start_time": "2021-11-23T12:44:14.806062Z"
    }
   },
   "outputs": [],
   "source": [
    "resultados= [cloud_2021, NDVI_2021]\n",
    "vis_params2=  [\n",
    "    {'palette':palette_nubes}, \n",
    "    vizParams]\n",
    "labels = [\n",
    "    'Nubes 2021',\n",
    "    'QM NDVI 2021']"
   ]
  },
  {
   "cell_type": "code",
   "execution_count": 158,
   "id": "28e91129",
   "metadata": {
    "ExecuteTime": {
     "end_time": "2021-11-23T12:44:16.337523Z",
     "start_time": "2021-11-23T12:44:14.808524Z"
    }
   },
   "outputs": [
    {
     "data": {
      "application/vnd.jupyter.widget-view+json": {
       "model_id": "fb691ab2dd434f419b3d283c8cd62524",
       "version_major": 2,
       "version_minor": 0
      },
      "text/plain": [
       "GridspecLayout(children=(Output(layout=Layout(grid_area='widget001')), Output(layout=Layout(grid_area='widget0…"
      ]
     },
     "metadata": {},
     "output_type": "display_data"
    }
   ],
   "source": [
    "geemap.linked_maps(rows=1, cols=2, height=\"400px\", center=[-45, -75], zoom=4, \n",
    "                   ee_objects=resultados, vis_params=vis_params2, labels=labels, label_position=\"topright\")"
   ]
  },
  {
   "cell_type": "code",
   "execution_count": 159,
   "id": "21067811",
   "metadata": {
    "ExecuteTime": {
     "end_time": "2021-11-23T12:44:17.607017Z",
     "start_time": "2021-11-23T12:44:16.338366Z"
    }
   },
   "outputs": [
    {
     "data": {
      "text/plain": [
       "['B1',\n",
       " 'B2',\n",
       " 'B3',\n",
       " 'B4',\n",
       " 'B5',\n",
       " 'B6',\n",
       " 'B7',\n",
       " 'B8',\n",
       " 'B9',\n",
       " 'B10',\n",
       " 'B11',\n",
       " 'BQA',\n",
       " 'NDVI',\n",
       " 'NDWI',\n",
       " 'NDGI',\n",
       " 'SAVI',\n",
       " 'NDSI',\n",
       " 'date',\n",
       " 'nube']"
      ]
     },
     "execution_count": 159,
     "metadata": {},
     "output_type": "execute_result"
    }
   ],
   "source": [
    "QM_NDVI_T1.bandNames().getInfo()"
   ]
  },
  {
   "cell_type": "code",
   "execution_count": 160,
   "id": "93ea56bf",
   "metadata": {
    "ExecuteTime": {
     "end_time": "2021-11-23T12:44:17.609826Z",
     "start_time": "2021-11-23T12:44:17.607976Z"
    }
   },
   "outputs": [],
   "source": [
    "def llenado(image):\n",
    "    return image.where(cloud_2021.gt(10),QM_NDVI_T1)"
   ]
  },
  {
   "cell_type": "code",
   "execution_count": 161,
   "id": "8287934f",
   "metadata": {
    "ExecuteTime": {
     "end_time": "2021-11-23T12:44:17.612676Z",
     "start_time": "2021-11-23T12:44:17.610646Z"
    }
   },
   "outputs": [],
   "source": [
    "img1 = llenado(NDVI_2021)"
   ]
  },
  {
   "cell_type": "code",
   "execution_count": 162,
   "id": "0ea4ebed",
   "metadata": {
    "ExecuteTime": {
     "end_time": "2021-11-23T12:44:17.615381Z",
     "start_time": "2021-11-23T12:44:17.613499Z"
    }
   },
   "outputs": [],
   "source": [
    "img1_landsat = img1.set('SENSOR_ID', 'OLI_TIRS')\n",
    "cloud_img1 = ee.Algorithms.Landsat.simpleCloudScore(img1_landsat)\n",
    "cloud_img1 = cloud_img1.select('cloud')"
   ]
  },
  {
   "cell_type": "code",
   "execution_count": 163,
   "id": "84dbb2d4",
   "metadata": {
    "ExecuteTime": {
     "end_time": "2021-11-23T12:44:17.617831Z",
     "start_time": "2021-11-23T12:44:17.616168Z"
    }
   },
   "outputs": [],
   "source": [
    "resultados= [cloud_img1, img1]\n",
    "vis_params2=  [\n",
    "    {'palette':palette_nubes}, \n",
    "    vizParams]\n",
    "labels = [\n",
    "    'Nubes Mosaico 1',\n",
    "    'Mosaico 1']"
   ]
  },
  {
   "cell_type": "code",
   "execution_count": 164,
   "id": "f3c2a996",
   "metadata": {
    "ExecuteTime": {
     "end_time": "2021-11-23T12:44:20.908415Z",
     "start_time": "2021-11-23T12:44:17.618647Z"
    }
   },
   "outputs": [
    {
     "data": {
      "application/vnd.jupyter.widget-view+json": {
       "model_id": "50ab3b392f974ec6a2ec209825bf5eba",
       "version_major": 2,
       "version_minor": 0
      },
      "text/plain": [
       "GridspecLayout(children=(Output(layout=Layout(grid_area='widget001')), Output(layout=Layout(grid_area='widget0…"
      ]
     },
     "metadata": {},
     "output_type": "display_data"
    }
   ],
   "source": [
    "geemap.linked_maps(rows=1, cols=2, height=\"400px\", center=[-45, -75], zoom=4, \n",
    "                   ee_objects=resultados, vis_params=vis_params2, labels=labels, label_position=\"topright\")"
   ]
  },
  {
   "cell_type": "code",
   "execution_count": 165,
   "id": "9a243ac4",
   "metadata": {
    "ExecuteTime": {
     "end_time": "2021-11-23T12:44:20.911096Z",
     "start_time": "2021-11-23T12:44:20.909354Z"
    }
   },
   "outputs": [],
   "source": [
    "def llenado2(image):\n",
    "    return image.where(cloud_img1.gt(10), QM_NDVI_T2)"
   ]
  },
  {
   "cell_type": "code",
   "execution_count": 166,
   "id": "ada6d94e",
   "metadata": {
    "ExecuteTime": {
     "end_time": "2021-11-23T12:44:20.913817Z",
     "start_time": "2021-11-23T12:44:20.911841Z"
    }
   },
   "outputs": [],
   "source": [
    "img2 = llenado2(img1)"
   ]
  },
  {
   "cell_type": "code",
   "execution_count": 167,
   "id": "e3db0a52",
   "metadata": {
    "ExecuteTime": {
     "end_time": "2021-11-23T12:44:20.916586Z",
     "start_time": "2021-11-23T12:44:20.914751Z"
    }
   },
   "outputs": [],
   "source": [
    "img2_landsat = img2.set('SENSOR_ID', 'OLI_TIRS')\n",
    "cloud_img2 = ee.Algorithms.Landsat.simpleCloudScore(img2_landsat)\n",
    "cloud_img2 = cloud_img2.select('cloud')"
   ]
  },
  {
   "cell_type": "code",
   "execution_count": 168,
   "id": "42d22742",
   "metadata": {
    "ExecuteTime": {
     "end_time": "2021-11-23T12:44:20.919336Z",
     "start_time": "2021-11-23T12:44:20.917523Z"
    }
   },
   "outputs": [],
   "source": [
    "resultados= [cloud_img2, img2]\n",
    "vis_params2=  [\n",
    "    {'palette':palette_nubes}, \n",
    "    vizParams]\n",
    "labels = [\n",
    "    'Nubes Mosaico 2',\n",
    "    'Mosaico 2']"
   ]
  },
  {
   "cell_type": "code",
   "execution_count": 169,
   "id": "5bdcab8c",
   "metadata": {
    "ExecuteTime": {
     "end_time": "2021-11-23T12:44:20.921628Z",
     "start_time": "2021-11-23T12:44:20.920232Z"
    }
   },
   "outputs": [],
   "source": [
    "# geemap.linked_maps(rows=1, cols=2, height=\"400px\", center=[-45, -75], zoom=4, \n",
    "#                    ee_objects=resultados, vis_params=vis_params2, labels=labels, label_position=\"topright\")"
   ]
  },
  {
   "cell_type": "code",
   "execution_count": 170,
   "id": "ca5f91e2",
   "metadata": {
    "ExecuteTime": {
     "end_time": "2021-11-23T12:44:20.924112Z",
     "start_time": "2021-11-23T12:44:20.922537Z"
    }
   },
   "outputs": [],
   "source": [
    "def llenado3(image):\n",
    "    return image.where(cloud_img2.gt(10), QM_NDVI_T3)"
   ]
  },
  {
   "cell_type": "code",
   "execution_count": 171,
   "id": "f52fddee",
   "metadata": {
    "ExecuteTime": {
     "end_time": "2021-11-23T12:44:20.926487Z",
     "start_time": "2021-11-23T12:44:20.925009Z"
    }
   },
   "outputs": [],
   "source": [
    "img3 = llenado3(img2)"
   ]
  },
  {
   "cell_type": "code",
   "execution_count": 172,
   "id": "6d41d9d0",
   "metadata": {
    "ExecuteTime": {
     "end_time": "2021-11-23T12:44:20.929484Z",
     "start_time": "2021-11-23T12:44:20.927377Z"
    }
   },
   "outputs": [],
   "source": [
    "img3_landsat = img3.set('SENSOR_ID', 'OLI_TIRS')\n",
    "cloud_img3 = ee.Algorithms.Landsat.simpleCloudScore(img3_landsat)\n",
    "cloud_img3 = cloud_img3.select('cloud')"
   ]
  },
  {
   "cell_type": "code",
   "execution_count": 173,
   "id": "3a000d62",
   "metadata": {
    "ExecuteTime": {
     "end_time": "2021-11-23T12:44:20.932189Z",
     "start_time": "2021-11-23T12:44:20.930361Z"
    }
   },
   "outputs": [],
   "source": [
    "resultados= [cloud_img3, img3]\n",
    "vis_params2=  [\n",
    "    {'palette':palette_nubes}, \n",
    "    vizParams]\n",
    "labels = [\n",
    "    'Nubes Mosaico 3',\n",
    "    'Mosaico 3']"
   ]
  },
  {
   "cell_type": "code",
   "execution_count": 174,
   "id": "bf275ed6",
   "metadata": {
    "ExecuteTime": {
     "end_time": "2021-11-23T12:44:20.936259Z",
     "start_time": "2021-11-23T12:44:20.933014Z"
    }
   },
   "outputs": [],
   "source": [
    "# geemap.linked_maps(rows=1, cols=2, height=\"400px\", center=[-45, -75], zoom=4, \n",
    "#                    ee_objects=resultados, vis_params=vis_params2, labels=labels, label_position=\"topright\")"
   ]
  },
  {
   "cell_type": "code",
   "execution_count": 175,
   "id": "9d0daae9",
   "metadata": {
    "ExecuteTime": {
     "end_time": "2021-11-23T12:44:20.938706Z",
     "start_time": "2021-11-23T12:44:20.937128Z"
    }
   },
   "outputs": [],
   "source": [
    "def llenado4(image):\n",
    "    return image.where(cloud_img3.gt(10), QM_NDVI_T4)"
   ]
  },
  {
   "cell_type": "code",
   "execution_count": 176,
   "id": "d37f16d5",
   "metadata": {
    "ExecuteTime": {
     "end_time": "2021-11-23T12:44:20.941028Z",
     "start_time": "2021-11-23T12:44:20.939471Z"
    }
   },
   "outputs": [],
   "source": [
    "img4 = llenado4(img3)"
   ]
  },
  {
   "cell_type": "code",
   "execution_count": 177,
   "id": "540d60d8",
   "metadata": {
    "ExecuteTime": {
     "end_time": "2021-11-23T12:44:20.943539Z",
     "start_time": "2021-11-23T12:44:20.941836Z"
    }
   },
   "outputs": [],
   "source": [
    "img4_landsat = img4.set('SENSOR_ID', 'OLI_TIRS')\n",
    "cloud_img4 = ee.Algorithms.Landsat.simpleCloudScore(img4_landsat)\n",
    "cloud_img4 = cloud_img4.select('cloud')"
   ]
  },
  {
   "cell_type": "code",
   "execution_count": 178,
   "id": "3f0e9719",
   "metadata": {
    "ExecuteTime": {
     "end_time": "2021-11-23T12:44:20.946597Z",
     "start_time": "2021-11-23T12:44:20.944448Z"
    }
   },
   "outputs": [],
   "source": [
    "resultados= [cloud_img4, img4]\n",
    "vis_params2=  [\n",
    "    {'palette':palette_nubes}, \n",
    "    vizParams]\n",
    "labels = [\n",
    "    'Nubes Mosaico 4',\n",
    "    'Mosaico 4']"
   ]
  },
  {
   "cell_type": "code",
   "execution_count": 179,
   "id": "41d9a7b8",
   "metadata": {
    "ExecuteTime": {
     "end_time": "2021-11-23T12:44:20.948913Z",
     "start_time": "2021-11-23T12:44:20.947488Z"
    }
   },
   "outputs": [],
   "source": [
    "# geemap.linked_maps(rows=1, cols=2, height=\"400px\", center=[-45, -75], zoom=4, \n",
    "#                    ee_objects=resultados, vis_params=vis_params2, labels=labels, label_position=\"topright\")"
   ]
  },
  {
   "cell_type": "code",
   "execution_count": 180,
   "id": "0cccc52b",
   "metadata": {
    "ExecuteTime": {
     "end_time": "2021-11-23T12:44:20.951429Z",
     "start_time": "2021-11-23T12:44:20.949824Z"
    }
   },
   "outputs": [],
   "source": [
    "hansenImage = ee.Image('UMD/hansen/global_forest_change_2015')\n",
    "datamask = hansenImage.select('datamask')"
   ]
  },
  {
   "cell_type": "code",
   "execution_count": 181,
   "id": "2e6b728e",
   "metadata": {
    "ExecuteTime": {
     "end_time": "2021-11-23T12:44:20.953959Z",
     "start_time": "2021-11-23T12:44:20.952257Z"
    }
   },
   "outputs": [],
   "source": [
    "def llenado5(image):\n",
    "    return image.where(datamask.eq(2), QM_NDWI_T1)"
   ]
  },
  {
   "cell_type": "code",
   "execution_count": 182,
   "id": "eeac700c",
   "metadata": {
    "ExecuteTime": {
     "end_time": "2021-11-23T12:44:20.956358Z",
     "start_time": "2021-11-23T12:44:20.954881Z"
    }
   },
   "outputs": [],
   "source": [
    "img5 = llenado5(img4)"
   ]
  },
  {
   "cell_type": "code",
   "execution_count": 183,
   "id": "82202db6",
   "metadata": {
    "ExecuteTime": {
     "end_time": "2021-11-23T12:44:20.958899Z",
     "start_time": "2021-11-23T12:44:20.957239Z"
    }
   },
   "outputs": [],
   "source": [
    "img5_landsat = img5.set('SENSOR_ID', 'OLI_TIRS')"
   ]
  },
  {
   "cell_type": "code",
   "execution_count": 184,
   "id": "823a7e18",
   "metadata": {
    "ExecuteTime": {
     "end_time": "2021-11-23T12:44:20.961359Z",
     "start_time": "2021-11-23T12:44:20.959743Z"
    }
   },
   "outputs": [],
   "source": [
    "resultados= [img4, img5]\n",
    "labels = [\n",
    "    'Mosaico 4',\n",
    "    'Mosaico 5']\n",
    "vis_params3=  [\n",
    "     vizParams, \n",
    "    vizParams]"
   ]
  },
  {
   "cell_type": "code",
   "execution_count": 185,
   "id": "87c07712",
   "metadata": {
    "ExecuteTime": {
     "end_time": "2021-11-23T12:44:23.964375Z",
     "start_time": "2021-11-23T12:44:20.962213Z"
    }
   },
   "outputs": [
    {
     "data": {
      "application/vnd.jupyter.widget-view+json": {
       "model_id": "575bd4da3eb847ab9d8c059019a59308",
       "version_major": 2,
       "version_minor": 0
      },
      "text/plain": [
       "GridspecLayout(children=(Output(layout=Layout(grid_area='widget001')), Output(layout=Layout(grid_area='widget0…"
      ]
     },
     "metadata": {},
     "output_type": "display_data"
    }
   ],
   "source": [
    "geemap.linked_maps(rows=1, cols=2, height=\"400px\", center=[-45, -75], zoom=4, \n",
    "                   ee_objects=resultados, vis_params=vis_params3, labels=labels, label_position=\"topright\")"
   ]
  },
  {
   "cell_type": "code",
   "execution_count": 186,
   "id": "c76fddbf",
   "metadata": {
    "ExecuteTime": {
     "end_time": "2021-11-23T12:44:25.256231Z",
     "start_time": "2021-11-23T12:44:23.965295Z"
    }
   },
   "outputs": [
    {
     "data": {
      "text/plain": [
       "['B1',\n",
       " 'B2',\n",
       " 'B3',\n",
       " 'B4',\n",
       " 'B5',\n",
       " 'B6',\n",
       " 'B7',\n",
       " 'B8',\n",
       " 'B9',\n",
       " 'B10',\n",
       " 'B11',\n",
       " 'BQA',\n",
       " 'NDVI',\n",
       " 'NDWI',\n",
       " 'NDGI',\n",
       " 'SAVI',\n",
       " 'NDSI',\n",
       " 'date',\n",
       " 'nube']"
      ]
     },
     "execution_count": 186,
     "metadata": {},
     "output_type": "execute_result"
    }
   ],
   "source": [
    "img4.bandNames().getInfo()"
   ]
  },
  {
   "cell_type": "code",
   "execution_count": 187,
   "id": "03e0049e",
   "metadata": {
    "ExecuteTime": {
     "end_time": "2021-11-23T12:44:26.804325Z",
     "start_time": "2021-11-23T12:44:25.257240Z"
    }
   },
   "outputs": [
    {
     "data": {
      "text/plain": [
       "['B1',\n",
       " 'B2',\n",
       " 'B3',\n",
       " 'B4',\n",
       " 'B5',\n",
       " 'B6',\n",
       " 'B7',\n",
       " 'B8',\n",
       " 'B9',\n",
       " 'B10',\n",
       " 'B11',\n",
       " 'BQA',\n",
       " 'NDVI',\n",
       " 'NDWI',\n",
       " 'NDGI',\n",
       " 'SAVI',\n",
       " 'NDSI',\n",
       " 'date',\n",
       " 'nube']"
      ]
     },
     "execution_count": 187,
     "metadata": {},
     "output_type": "execute_result"
    }
   ],
   "source": [
    "img5.bandNames().getInfo()"
   ]
  },
  {
   "cell_type": "code",
   "execution_count": 188,
   "id": "20454023",
   "metadata": {
    "ExecuteTime": {
     "end_time": "2021-11-23T12:44:32.232679Z",
     "start_time": "2021-11-23T12:44:26.805311Z"
    }
   },
   "outputs": [
    {
     "data": {
      "application/vnd.jupyter.widget-view+json": {
       "model_id": "f9d6ff4532b948bc9a3c722ea950703f",
       "version_major": 2,
       "version_minor": 0
      },
      "text/plain": [
       "Map(center=[-45, -70], controls=(WidgetControl(options=['position', 'transparent_bg'], widget=HBox(children=(T…"
      ]
     },
     "metadata": {},
     "output_type": "display_data"
    }
   ],
   "source": [
    "Map10.addLayer(img4, vizParams, 'Mosaico 4')\n",
    "Map10.addLayer(img5, vizParams, 'Mosaico 5')\n",
    "Map10"
   ]
  },
  {
   "cell_type": "markdown",
   "id": "18c237e5",
   "metadata": {},
   "source": [
    "### Resultado Final"
   ]
  },
  {
   "cell_type": "code",
   "execution_count": 189,
   "id": "3e85d062",
   "metadata": {
    "ExecuteTime": {
     "end_time": "2021-11-23T12:44:34.225113Z",
     "start_time": "2021-11-23T12:44:32.233524Z"
    }
   },
   "outputs": [
    {
     "data": {
      "application/vnd.jupyter.widget-view+json": {
       "model_id": "f9d6ff4532b948bc9a3c722ea950703f",
       "version_major": 2,
       "version_minor": 0
      },
      "text/plain": [
       "Map(center=[-45, -70], controls=(WidgetControl(options=['position', 'transparent_bg'], widget=HBox(children=(T…"
      ]
     },
     "metadata": {},
     "output_type": "display_data"
    }
   ],
   "source": [
    "img5_b = img5.select(['B1','B2','B3','B4','B5','B6','B7'])\n",
    "Map10.addLayer(img5_b, vizParams, 'Mosaico 7bandas')\n",
    "Map10"
   ]
  },
  {
   "cell_type": "code",
   "execution_count": 190,
   "id": "f985c277",
   "metadata": {
    "ExecuteTime": {
     "end_time": "2021-11-23T12:44:34.227489Z",
     "start_time": "2021-11-23T12:44:34.225948Z"
    }
   },
   "outputs": [],
   "source": [
    "# type(img6)"
   ]
  },
  {
   "cell_type": "code",
   "execution_count": 191,
   "id": "3f26ae54",
   "metadata": {
    "ExecuteTime": {
     "end_time": "2021-11-23T12:44:34.229593Z",
     "start_time": "2021-11-23T12:44:34.228290Z"
    }
   },
   "outputs": [],
   "source": [
    "# img6.bandNames().getInfo()"
   ]
  },
  {
   "cell_type": "code",
   "execution_count": 192,
   "id": "9e384bfb",
   "metadata": {
    "ExecuteTime": {
     "end_time": "2021-11-23T12:44:34.231747Z",
     "start_time": "2021-11-23T12:44:34.230495Z"
    }
   },
   "outputs": [],
   "source": [
    "# colec7 = ee.ImageCollection(img7)"
   ]
  },
  {
   "cell_type": "code",
   "execution_count": 193,
   "id": "8bb269ec",
   "metadata": {
    "ExecuteTime": {
     "end_time": "2021-11-23T12:44:34.233778Z",
     "start_time": "2021-11-23T12:44:34.232563Z"
    }
   },
   "outputs": [],
   "source": [
    "# coleccion7 = colec7.map(addNDVI).map(addNDWI).map(addNDGI).map(addSAVI).map(addNDSI).map(addDate).map(addCloud)"
   ]
  },
  {
   "cell_type": "code",
   "execution_count": 194,
   "id": "67a2e0e2",
   "metadata": {
    "ExecuteTime": {
     "end_time": "2021-11-23T12:44:34.236204Z",
     "start_time": "2021-11-23T12:44:34.234638Z"
    }
   },
   "outputs": [],
   "source": [
    "property = 'date'"
   ]
  },
  {
   "cell_type": "code",
   "execution_count": 195,
   "id": "9fff05cd",
   "metadata": {
    "ExecuteTime": {
     "end_time": "2021-11-23T12:44:34.238794Z",
     "start_time": "2021-11-23T12:44:34.237083Z"
    }
   },
   "outputs": [],
   "source": [
    "options = {\"title\": 'Fechas Greenest 2021',\n",
    "          \"xlabel\": 'Date',\n",
    "          \"ylabel\": 'Pixel count',\n",
    "          \"colors\": ['#1d6b99']\n",
    "          }"
   ]
  },
  {
   "cell_type": "code",
   "execution_count": 196,
   "id": "1492f0d3",
   "metadata": {
    "ExecuteTime": {
     "end_time": "2021-11-23T12:44:34.241050Z",
     "start_time": "2021-11-23T12:44:34.239614Z"
    }
   },
   "outputs": [],
   "source": [
    "# muestra = img6.sample(patagonia_grande, 10000)"
   ]
  },
  {
   "cell_type": "code",
   "execution_count": 197,
   "id": "0ad9a685",
   "metadata": {
    "ExecuteTime": {
     "end_time": "2021-11-23T12:44:34.243129Z",
     "start_time": "2021-11-23T12:44:34.241794Z"
    }
   },
   "outputs": [],
   "source": [
    "# chart.feature_histogram(muestra, property, **options)"
   ]
  },
  {
   "cell_type": "code",
   "execution_count": 198,
   "id": "922e932e",
   "metadata": {
    "ExecuteTime": {
     "end_time": "2021-11-23T12:44:34.245419Z",
     "start_time": "2021-11-23T12:44:34.243981Z"
    }
   },
   "outputs": [],
   "source": [
    "# geemap.ee_export_image_to_drive(img5_b, description='mosaico_2021_m', folder='export', region=patagonia_grande.geometry(), scale=30)"
   ]
  },
  {
   "cell_type": "markdown",
   "id": "7267523f",
   "metadata": {},
   "source": [
    "### Tasseled cap"
   ]
  },
  {
   "cell_type": "code",
   "execution_count": 199,
   "id": "427e0fc3",
   "metadata": {
    "ExecuteTime": {
     "end_time": "2021-11-23T12:44:34.248676Z",
     "start_time": "2021-11-23T12:44:34.246331Z"
    }
   },
   "outputs": [],
   "source": [
    "coef = ee.Array([\n",
    "    [0.3029, 0.2786, 0.4733, 0.5599, 0.508, 0.1872], \n",
    "    [-0.2941, -0.243, -0.5424, 0.7276, 0.0713, -0.1608],\n",
    "    [0.1511, 0.1973, 0.3283, 0.3407, -0.7117, -0.4559],\n",
    "    [-0.8239, 0.0849, 0.4396, -0.058, 0.2013, -0.2773],\n",
    "    [-0.3294, 0.0557, 0.1056, 0.1855, -0.4349, 0.8085],\n",
    "    [0.1079, -0.9023, 0.4119, 0.0575, -0.0259, 0.0252]\n",
    "])"
   ]
  },
  {
   "cell_type": "code",
   "execution_count": 200,
   "id": "7ab0a347",
   "metadata": {
    "ExecuteTime": {
     "end_time": "2021-11-23T12:44:34.251787Z",
     "start_time": "2021-11-23T12:44:34.249579Z"
    }
   },
   "outputs": [],
   "source": [
    "tasse_img5 = img5.select(['B2', 'B3', 'B4', 'B5', 'B6', 'B7'])"
   ]
  },
  {
   "cell_type": "code",
   "execution_count": 201,
   "id": "9e34972d",
   "metadata": {
    "ExecuteTime": {
     "end_time": "2021-11-23T12:44:34.254148Z",
     "start_time": "2021-11-23T12:44:34.252590Z"
    }
   },
   "outputs": [],
   "source": [
    "arrayimage1d = tasse_img5.toArray()"
   ]
  },
  {
   "cell_type": "code",
   "execution_count": 202,
   "id": "3c3e3a70",
   "metadata": {
    "ExecuteTime": {
     "end_time": "2021-11-23T12:44:34.256715Z",
     "start_time": "2021-11-23T12:44:34.255115Z"
    }
   },
   "outputs": [],
   "source": [
    "arrayimage2d = arrayimage1d.toArray(1)"
   ]
  },
  {
   "cell_type": "code",
   "execution_count": 203,
   "id": "0ae9ab01",
   "metadata": {
    "ExecuteTime": {
     "end_time": "2021-11-23T12:44:34.259344Z",
     "start_time": "2021-11-23T12:44:34.257562Z"
    }
   },
   "outputs": [],
   "source": [
    "componentes = ee.Image(coef)\\\n",
    "                .matrixMultiply(arrayimage2d) \\\n",
    "                .arrayProject([0])\\\n",
    "                .arrayFlatten(\n",
    "                [['brightness','greenness','wetness','fourth','fifth','sixth']])"
   ]
  },
  {
   "cell_type": "code",
   "execution_count": 204,
   "id": "b058be26",
   "metadata": {
    "ExecuteTime": {
     "end_time": "2021-11-23T12:44:34.261921Z",
     "start_time": "2021-11-23T12:44:34.260184Z"
    }
   },
   "outputs": [],
   "source": [
    "vizParamstess = {\n",
    "  'bands': ['brightness', 'greenness', 'wetness'],\n",
    "    'min': -0.1,\n",
    "    'max': [0.6, 0.2, 0.2]\n",
    "}\n"
   ]
  },
  {
   "cell_type": "code",
   "execution_count": 205,
   "id": "9dc2abf8",
   "metadata": {
    "ExecuteTime": {
     "end_time": "2021-11-23T12:44:35.797571Z",
     "start_time": "2021-11-23T12:44:34.262887Z"
    }
   },
   "outputs": [
    {
     "data": {
      "application/vnd.jupyter.widget-view+json": {
       "model_id": "f9d6ff4532b948bc9a3c722ea950703f",
       "version_major": 2,
       "version_minor": 0
      },
      "text/plain": [
       "Map(center=[-45, -70], controls=(WidgetControl(options=['position', 'transparent_bg'], widget=HBox(children=(T…"
      ]
     },
     "metadata": {},
     "output_type": "display_data"
    }
   ],
   "source": [
    "Map10.addLayer(componentes,vizParamstess, 'Tesseled cap')\n",
    "Map10"
   ]
  },
  {
   "cell_type": "code",
   "execution_count": 206,
   "id": "7bc09ac4",
   "metadata": {
    "ExecuteTime": {
     "end_time": "2021-11-23T12:44:35.799997Z",
     "start_time": "2021-11-23T12:44:35.798497Z"
    }
   },
   "outputs": [],
   "source": [
    "# task = ee.batch.Export.image.toAsset(**{\n",
    "#     'image': componentes ,\n",
    "#     'description':'Tasseled 2021',\n",
    "#     'assetId':'users/franciscoalbornoz/Tasseled_2021',\n",
    "#     'scale': 30,\n",
    "#     'maxPixels': 1e13\n",
    "# })"
   ]
  },
  {
   "cell_type": "code",
   "execution_count": 207,
   "id": "6e3983e0",
   "metadata": {
    "ExecuteTime": {
     "end_time": "2021-11-23T12:44:35.802404Z",
     "start_time": "2021-11-23T12:44:35.800881Z"
    }
   },
   "outputs": [],
   "source": [
    "# task.start()"
   ]
  },
  {
   "cell_type": "markdown",
   "id": "c8f38c76",
   "metadata": {},
   "source": [
    "## Mosaicos Matched"
   ]
  },
  {
   "cell_type": "code",
   "execution_count": 208,
   "id": "d5725d05",
   "metadata": {
    "ExecuteTime": {
     "end_time": "2021-11-23T12:44:35.804854Z",
     "start_time": "2021-11-23T12:44:35.803258Z"
    }
   },
   "outputs": [],
   "source": [
    "NDVI_2021_landsat_m = QM_NDVI_2021_m.set('SENSOR_ID', 'OLI_TIRS')"
   ]
  },
  {
   "cell_type": "code",
   "execution_count": 209,
   "id": "3ec3ce95",
   "metadata": {
    "ExecuteTime": {
     "end_time": "2021-11-23T12:44:35.807363Z",
     "start_time": "2021-11-23T12:44:35.805750Z"
    }
   },
   "outputs": [],
   "source": [
    "cloud_2021_m = ee.Algorithms.Landsat.simpleCloudScore(NDVI_2021_landsat_m)"
   ]
  },
  {
   "cell_type": "code",
   "execution_count": 210,
   "id": "1d06d4e6",
   "metadata": {
    "ExecuteTime": {
     "end_time": "2021-11-23T12:44:35.809940Z",
     "start_time": "2021-11-23T12:44:35.808209Z"
    }
   },
   "outputs": [],
   "source": [
    "cloud_2021_m = cloud_2021_m.select('cloud')"
   ]
  },
  {
   "cell_type": "code",
   "execution_count": 211,
   "id": "204cf196",
   "metadata": {
    "ExecuteTime": {
     "end_time": "2021-11-23T12:44:35.812946Z",
     "start_time": "2021-11-23T12:44:35.810800Z"
    }
   },
   "outputs": [],
   "source": [
    "palette_nubes = ['#1a9850', '#66bd63', '#a6d96a', '#d9ef8b', '#fee08b', '#fdae61', '#f46d43', '#d73027']"
   ]
  },
  {
   "cell_type": "code",
   "execution_count": 212,
   "id": "90667fcb",
   "metadata": {
    "ExecuteTime": {
     "end_time": "2021-11-23T12:44:35.815455Z",
     "start_time": "2021-11-23T12:44:35.813846Z"
    }
   },
   "outputs": [],
   "source": [
    "QM_NDVI_2021_m = ee.Image(QM_NDVI_2021_m)"
   ]
  },
  {
   "cell_type": "code",
   "execution_count": 213,
   "id": "8c7e8e20",
   "metadata": {
    "ExecuteTime": {
     "end_time": "2021-11-23T12:44:35.817975Z",
     "start_time": "2021-11-23T12:44:35.816321Z"
    }
   },
   "outputs": [],
   "source": [
    "resultados= [cloud_2021_m, QM_NDVI_2021_m]\n",
    "vis_params2=  [\n",
    "    {'palette':palette_nubes}, \n",
    "    vizParams]\n",
    "labels = [\n",
    "    'Nubes 2021',\n",
    "    'QM NDVI 2021']"
   ]
  },
  {
   "cell_type": "code",
   "execution_count": 214,
   "id": "37ff14a0",
   "metadata": {
    "ExecuteTime": {
     "end_time": "2021-11-23T12:44:35.820317Z",
     "start_time": "2021-11-23T12:44:35.818854Z"
    }
   },
   "outputs": [],
   "source": [
    "# geemap.linked_maps(rows=1, cols=2, height=\"400px\", center=[-45, -75], zoom=4, \n",
    "#                    ee_objects=resultados, vis_params=vis_params2, labels=labels, label_position=\"topright\")"
   ]
  },
  {
   "cell_type": "code",
   "execution_count": 215,
   "id": "dfb9ff31",
   "metadata": {
    "ExecuteTime": {
     "end_time": "2021-11-23T12:44:35.822974Z",
     "start_time": "2021-11-23T12:44:35.821209Z"
    }
   },
   "outputs": [],
   "source": [
    "def llenado(image):\n",
    "    return image.where(cloud_2021_m.gt(10),NDVI_tier1)"
   ]
  },
  {
   "cell_type": "code",
   "execution_count": 216,
   "id": "fcc244dd",
   "metadata": {
    "ExecuteTime": {
     "end_time": "2021-11-23T12:44:35.825455Z",
     "start_time": "2021-11-23T12:44:35.823861Z"
    }
   },
   "outputs": [],
   "source": [
    "img1_m = llenado(QM_NDVI_2021_m)"
   ]
  },
  {
   "cell_type": "code",
   "execution_count": 217,
   "id": "5966e81c",
   "metadata": {
    "ExecuteTime": {
     "end_time": "2021-11-23T12:44:35.828181Z",
     "start_time": "2021-11-23T12:44:35.826375Z"
    }
   },
   "outputs": [],
   "source": [
    "img1_landsat_m = img1_m.set('SENSOR_ID', 'OLI_TIRS')\n",
    "cloud_img1_m = ee.Algorithms.Landsat.simpleCloudScore(img1_landsat_m)\n",
    "cloud_img1_m = cloud_img1_m.select('cloud')"
   ]
  },
  {
   "cell_type": "code",
   "execution_count": 218,
   "id": "cb935b42",
   "metadata": {
    "ExecuteTime": {
     "end_time": "2021-11-23T12:44:35.830643Z",
     "start_time": "2021-11-23T12:44:35.829070Z"
    }
   },
   "outputs": [],
   "source": [
    "img1_m = ee.Image(img1_m)"
   ]
  },
  {
   "cell_type": "code",
   "execution_count": 219,
   "id": "a6038438",
   "metadata": {
    "ExecuteTime": {
     "end_time": "2021-11-23T12:44:35.833286Z",
     "start_time": "2021-11-23T12:44:35.831543Z"
    }
   },
   "outputs": [],
   "source": [
    "resultados= [cloud_img1_m, img1_m]\n",
    "vis_params2=  [\n",
    "    {'palette':palette_nubes}, \n",
    "    vizParams]\n",
    "labels = [\n",
    "    'Nubes Mosaico 1',\n",
    "    'Mosaico 1']"
   ]
  },
  {
   "cell_type": "code",
   "execution_count": 220,
   "id": "ff549bfe",
   "metadata": {
    "ExecuteTime": {
     "end_time": "2021-11-23T12:44:35.835755Z",
     "start_time": "2021-11-23T12:44:35.834288Z"
    }
   },
   "outputs": [],
   "source": [
    "# geemap.linked_maps(rows=1, cols=2, height=\"400px\", center=[-45, -75], zoom=4, \n",
    "#                    ee_objects=resultados, vis_params=vis_params2, labels=labels, label_position=\"topright\")"
   ]
  },
  {
   "cell_type": "code",
   "execution_count": 221,
   "id": "11700bca",
   "metadata": {
    "ExecuteTime": {
     "end_time": "2021-11-23T12:44:35.838411Z",
     "start_time": "2021-11-23T12:44:35.836666Z"
    }
   },
   "outputs": [],
   "source": [
    "def llenado2(image):\n",
    "    return image.where(cloud_img1_m.gt(10), NDVI_tier2)"
   ]
  },
  {
   "cell_type": "code",
   "execution_count": 222,
   "id": "b9a26883",
   "metadata": {
    "ExecuteTime": {
     "end_time": "2021-11-23T12:44:35.840898Z",
     "start_time": "2021-11-23T12:44:35.839330Z"
    }
   },
   "outputs": [],
   "source": [
    "img2_m = llenado2(img1_m)"
   ]
  },
  {
   "cell_type": "code",
   "execution_count": 223,
   "id": "47a8156c",
   "metadata": {
    "ExecuteTime": {
     "end_time": "2021-11-23T12:44:35.843543Z",
     "start_time": "2021-11-23T12:44:35.841827Z"
    }
   },
   "outputs": [],
   "source": [
    "img2_landsat_m = img2_m.set('SENSOR_ID', 'OLI_TIRS')\n",
    "cloud_img2_m = ee.Algorithms.Landsat.simpleCloudScore(img2_landsat_m)\n",
    "cloud_img2_m = cloud_img2_m.select('cloud')"
   ]
  },
  {
   "cell_type": "code",
   "execution_count": 224,
   "id": "b6747689",
   "metadata": {
    "ExecuteTime": {
     "end_time": "2021-11-23T12:44:35.846060Z",
     "start_time": "2021-11-23T12:44:35.844513Z"
    }
   },
   "outputs": [],
   "source": [
    "img2_m = ee.Image(img2_m)"
   ]
  },
  {
   "cell_type": "code",
   "execution_count": 225,
   "id": "8a4648ba",
   "metadata": {
    "ExecuteTime": {
     "end_time": "2021-11-23T12:44:35.848955Z",
     "start_time": "2021-11-23T12:44:35.847098Z"
    }
   },
   "outputs": [],
   "source": [
    "resultados= [cloud_img2_m, img2_m]\n",
    "vis_params2=  [\n",
    "    {'palette':palette_nubes}, \n",
    "    vizParams]\n",
    "labels = [\n",
    "    'Nubes Mosaico 2',\n",
    "    'Mosaico 2']"
   ]
  },
  {
   "cell_type": "code",
   "execution_count": 226,
   "id": "5c6eee6f",
   "metadata": {
    "ExecuteTime": {
     "end_time": "2021-11-23T12:44:35.851173Z",
     "start_time": "2021-11-23T12:44:35.849832Z"
    }
   },
   "outputs": [],
   "source": [
    "# geemap.linked_maps(rows=1, cols=2, height=\"400px\", center=[-45, -75], zoom=4, \n",
    "#                    ee_objects=resultados, vis_params=vis_params2, labels=labels, label_position=\"topright\")"
   ]
  },
  {
   "cell_type": "code",
   "execution_count": 227,
   "id": "c3c15ccb",
   "metadata": {
    "ExecuteTime": {
     "end_time": "2021-11-23T12:44:35.853789Z",
     "start_time": "2021-11-23T12:44:35.852023Z"
    }
   },
   "outputs": [],
   "source": [
    "def llenado3(image):\n",
    "    return image.where(cloud_img2_m.gt(10), NDVI_tier3)"
   ]
  },
  {
   "cell_type": "code",
   "execution_count": 228,
   "id": "be4d98dc",
   "metadata": {
    "ExecuteTime": {
     "end_time": "2021-11-23T12:44:35.856234Z",
     "start_time": "2021-11-23T12:44:35.854652Z"
    }
   },
   "outputs": [],
   "source": [
    "img3_m = llenado3(img2_m)"
   ]
  },
  {
   "cell_type": "code",
   "execution_count": 229,
   "id": "6afe5e92",
   "metadata": {
    "ExecuteTime": {
     "end_time": "2021-11-23T12:44:35.858974Z",
     "start_time": "2021-11-23T12:44:35.857158Z"
    }
   },
   "outputs": [],
   "source": [
    "img3_landsat_m = img3_m.set('SENSOR_ID', 'OLI_TIRS')\n",
    "cloud_img3_m = ee.Algorithms.Landsat.simpleCloudScore(img3_landsat_m)\n",
    "cloud_img3_m = cloud_img3_m.select('cloud')"
   ]
  },
  {
   "cell_type": "code",
   "execution_count": 230,
   "id": "63e6b3e5",
   "metadata": {
    "ExecuteTime": {
     "end_time": "2021-11-23T12:44:35.861371Z",
     "start_time": "2021-11-23T12:44:35.859820Z"
    }
   },
   "outputs": [],
   "source": [
    "img3_m = ee.Image(img3_m)"
   ]
  },
  {
   "cell_type": "code",
   "execution_count": 231,
   "id": "ae7dc873",
   "metadata": {
    "ExecuteTime": {
     "end_time": "2021-11-23T12:44:35.863887Z",
     "start_time": "2021-11-23T12:44:35.862246Z"
    }
   },
   "outputs": [],
   "source": [
    "resultados= [cloud_img3_m, img3_m]\n",
    "vis_params2=  [\n",
    "    {'palette':palette_nubes}, \n",
    "    vizParams]\n",
    "labels = [\n",
    "    'Nubes Mosaico 3',\n",
    "    'Mosaico 3']"
   ]
  },
  {
   "cell_type": "code",
   "execution_count": 232,
   "id": "9da14b29",
   "metadata": {
    "ExecuteTime": {
     "end_time": "2021-11-23T12:44:35.866321Z",
     "start_time": "2021-11-23T12:44:35.864817Z"
    }
   },
   "outputs": [],
   "source": [
    "# geemap.linked_maps(rows=1, cols=2, height=\"400px\", center=[-45, -75], zoom=4, \n",
    "#                    ee_objects=resultados, vis_params=vis_params2, labels=labels, label_position=\"topright\")"
   ]
  },
  {
   "cell_type": "code",
   "execution_count": 233,
   "id": "b4962662",
   "metadata": {
    "ExecuteTime": {
     "end_time": "2021-11-23T12:44:35.868833Z",
     "start_time": "2021-11-23T12:44:35.867194Z"
    }
   },
   "outputs": [],
   "source": [
    "def llenado4(image):\n",
    "    return image.where(cloud_img3_m.gt(10), NDVI_tier4)"
   ]
  },
  {
   "cell_type": "code",
   "execution_count": 234,
   "id": "d84c0a97",
   "metadata": {
    "ExecuteTime": {
     "end_time": "2021-11-23T12:44:35.871365Z",
     "start_time": "2021-11-23T12:44:35.869677Z"
    }
   },
   "outputs": [],
   "source": [
    "img4_m = llenado4(img3_m)"
   ]
  },
  {
   "cell_type": "code",
   "execution_count": 235,
   "id": "c39b50e8",
   "metadata": {
    "ExecuteTime": {
     "end_time": "2021-11-23T12:44:35.873796Z",
     "start_time": "2021-11-23T12:44:35.872104Z"
    }
   },
   "outputs": [],
   "source": [
    "img4_landsat_m = img4_m.set('SENSOR_ID', 'OLI_TIRS')\n",
    "cloud_img4_m = ee.Algorithms.Landsat.simpleCloudScore(img4_landsat_m)\n",
    "cloud_img4_m = cloud_img4_m.select('cloud')"
   ]
  },
  {
   "cell_type": "code",
   "execution_count": 236,
   "id": "7b4625f1",
   "metadata": {
    "ExecuteTime": {
     "end_time": "2021-11-23T12:44:35.876008Z",
     "start_time": "2021-11-23T12:44:35.874471Z"
    }
   },
   "outputs": [],
   "source": [
    "img4_m = ee.Image(img4_m)"
   ]
  },
  {
   "cell_type": "code",
   "execution_count": 237,
   "id": "b5eeb495",
   "metadata": {
    "ExecuteTime": {
     "end_time": "2021-11-23T12:44:35.878835Z",
     "start_time": "2021-11-23T12:44:35.876926Z"
    }
   },
   "outputs": [],
   "source": [
    "resultados= [cloud_img4_m, img4_m]\n",
    "vis_params2=  [\n",
    "    {'palette':palette_nubes}, \n",
    "    vizParams]\n",
    "labels = [\n",
    "    'Nubes Mosaico 4',\n",
    "    'Mosaico 4']"
   ]
  },
  {
   "cell_type": "code",
   "execution_count": 238,
   "id": "fb6d9f07",
   "metadata": {
    "ExecuteTime": {
     "end_time": "2021-11-23T12:44:35.881358Z",
     "start_time": "2021-11-23T12:44:35.879594Z"
    }
   },
   "outputs": [],
   "source": [
    "# geemap.linked_maps(rows=1, cols=2, height=\"400px\", center=[-45, -75], zoom=4, \n",
    "#                    ee_objects=resultados, vis_params=vis_params2, labels=labels, label_position=\"topright\")"
   ]
  },
  {
   "cell_type": "code",
   "execution_count": 239,
   "id": "6400890d",
   "metadata": {
    "ExecuteTime": {
     "end_time": "2021-11-23T12:44:35.883737Z",
     "start_time": "2021-11-23T12:44:35.882082Z"
    }
   },
   "outputs": [],
   "source": [
    "hansenImage = ee.Image('UMD/hansen/global_forest_change_2015')\n",
    "datamask = hansenImage.select('datamask')"
   ]
  },
  {
   "cell_type": "code",
   "execution_count": 240,
   "id": "25bc284f",
   "metadata": {
    "ExecuteTime": {
     "end_time": "2021-11-23T12:44:35.886328Z",
     "start_time": "2021-11-23T12:44:35.884630Z"
    }
   },
   "outputs": [],
   "source": [
    "def llenado5(image):\n",
    "    return image.where(datamask.eq(2), NWVI_tier)"
   ]
  },
  {
   "cell_type": "code",
   "execution_count": 241,
   "id": "056eee78",
   "metadata": {
    "ExecuteTime": {
     "end_time": "2021-11-23T12:44:35.888715Z",
     "start_time": "2021-11-23T12:44:35.887188Z"
    }
   },
   "outputs": [],
   "source": [
    "img5_m = llenado5(img4_m)"
   ]
  },
  {
   "cell_type": "code",
   "execution_count": 242,
   "id": "059bcbe2",
   "metadata": {
    "ExecuteTime": {
     "end_time": "2021-11-23T12:44:35.891474Z",
     "start_time": "2021-11-23T12:44:35.889623Z"
    }
   },
   "outputs": [],
   "source": [
    "img5_landsat_m = img5_m.set('SENSOR_ID', 'OLI_TIRS')\n",
    "cloud_img5_m = ee.Algorithms.Landsat.simpleCloudScore(img5_landsat_m)\n",
    "cloud_img5_m = cloud_img5_m.select('cloud')"
   ]
  },
  {
   "cell_type": "code",
   "execution_count": 243,
   "id": "bdcc43da",
   "metadata": {
    "ExecuteTime": {
     "end_time": "2021-11-23T12:44:35.894148Z",
     "start_time": "2021-11-23T12:44:35.892387Z"
    }
   },
   "outputs": [],
   "source": [
    "resultados= [cloud_img5_m, img5_m]\n",
    "vis_params2=  [\n",
    "    {'palette':palette_nubes}, \n",
    "    vizParams]\n",
    "labels = [\n",
    "    'Nubes Mosaico 5',\n",
    "    'Mosaico 5']"
   ]
  },
  {
   "cell_type": "code",
   "execution_count": 244,
   "id": "b3c90c9e",
   "metadata": {
    "ExecuteTime": {
     "end_time": "2021-11-23T12:44:35.911565Z",
     "start_time": "2021-11-23T12:44:35.910144Z"
    }
   },
   "outputs": [],
   "source": [
    "# geemap.linked_maps(rows=1, cols=2, height=\"400px\", center=[-45, -75], zoom=4, \n",
    "#                    ee_objects=resultados, vis_params=vis_params2, labels=labels, label_position=\"topright\")"
   ]
  },
  {
   "cell_type": "code",
   "execution_count": 245,
   "id": "70e58e52",
   "metadata": {
    "ExecuteTime": {
     "end_time": "2021-11-23T12:44:35.913748Z",
     "start_time": "2021-11-23T12:44:35.912407Z"
    }
   },
   "outputs": [],
   "source": [
    "# img6_m.bandNames().getInfo()"
   ]
  },
  {
   "cell_type": "code",
   "execution_count": 246,
   "id": "bf45a446",
   "metadata": {
    "ExecuteTime": {
     "end_time": "2021-11-23T12:44:35.916014Z",
     "start_time": "2021-11-23T12:44:35.914544Z"
    }
   },
   "outputs": [],
   "source": [
    "img5_m = ee.Image(img5_m)"
   ]
  },
  {
   "cell_type": "code",
   "execution_count": 247,
   "id": "73e9f0f9",
   "metadata": {
    "ExecuteTime": {
     "end_time": "2021-11-23T12:44:35.918648Z",
     "start_time": "2021-11-23T12:44:35.916775Z"
    }
   },
   "outputs": [],
   "source": [
    "resultados= [img4_m, img5_m]\n",
    "labels = [\n",
    "    'Mosaico 4',\n",
    "    'Mosaico 5']\n",
    "vis_params3=  [\n",
    "     vizParams, \n",
    "    vizParams]"
   ]
  },
  {
   "cell_type": "code",
   "execution_count": 248,
   "id": "47eb7b43",
   "metadata": {
    "ExecuteTime": {
     "end_time": "2021-11-23T12:44:35.921041Z",
     "start_time": "2021-11-23T12:44:35.919548Z"
    }
   },
   "outputs": [],
   "source": [
    "# geemap.linked_maps(rows=1, cols=2, height=\"400px\", center=[-45, -75], zoom=4, \n",
    "#                    ee_objects=resultados, vis_params=vis_params3, labels=labels, label_position=\"topright\")"
   ]
  },
  {
   "cell_type": "code",
   "execution_count": 249,
   "id": "6116e6db",
   "metadata": {
    "ExecuteTime": {
     "end_time": "2021-11-23T12:44:35.923342Z",
     "start_time": "2021-11-23T12:44:35.921929Z"
    }
   },
   "outputs": [],
   "source": [
    "# img5_m.bandNames().getInfo()"
   ]
  },
  {
   "cell_type": "code",
   "execution_count": 250,
   "id": "0645dcd8",
   "metadata": {
    "ExecuteTime": {
     "end_time": "2021-11-23T12:44:35.925950Z",
     "start_time": "2021-11-23T12:44:35.924286Z"
    }
   },
   "outputs": [],
   "source": [
    "img5_m_bandas = img5_m.select(['B1','B2','B3','B4','B5','B6','B7'])"
   ]
  },
  {
   "cell_type": "code",
   "execution_count": 251,
   "id": "eae34253",
   "metadata": {
    "ExecuteTime": {
     "end_time": "2021-11-23T12:44:35.928424Z",
     "start_time": "2021-11-23T12:44:35.926799Z"
    }
   },
   "outputs": [],
   "source": [
    "vizParams2 = {\n",
    "  'bands': ['B5', 'B4', 'B3'],\n",
    "  'min': 0,\n",
    "  'max': 0.2,\n",
    "  'gamma': [1, 1.1, 1]\n",
    "}"
   ]
  },
  {
   "cell_type": "markdown",
   "id": "71cfd395",
   "metadata": {},
   "source": [
    "### Resultado Final"
   ]
  },
  {
   "cell_type": "code",
   "execution_count": 252,
   "id": "f6becda0",
   "metadata": {
    "ExecuteTime": {
     "end_time": "2021-11-23T12:44:35.930975Z",
     "start_time": "2021-11-23T12:44:35.929329Z"
    }
   },
   "outputs": [],
   "source": [
    "# Map10.addLayer(img5_m_bandas, vizParams2, 'Mosaico 5m')\n",
    "# Map10"
   ]
  },
  {
   "cell_type": "code",
   "execution_count": 253,
   "id": "83a452f1",
   "metadata": {
    "ExecuteTime": {
     "end_time": "2021-11-23T12:44:35.935564Z",
     "start_time": "2021-11-23T12:44:35.931810Z"
    }
   },
   "outputs": [],
   "source": [
    "# Map12.addLayer(img6_m_bandas, vizParams2, 'Mosaico 6m')\n",
    "# Map12"
   ]
  },
  {
   "cell_type": "code",
   "execution_count": 254,
   "id": "6d9a5474",
   "metadata": {
    "ExecuteTime": {
     "end_time": "2021-11-23T12:44:35.938558Z",
     "start_time": "2021-11-23T12:44:35.936362Z"
    }
   },
   "outputs": [],
   "source": [
    "# img6_m.bandNames().getInfo()"
   ]
  },
  {
   "cell_type": "code",
   "execution_count": 255,
   "id": "92e28956",
   "metadata": {
    "ExecuteTime": {
     "end_time": "2021-11-23T12:44:35.940974Z",
     "start_time": "2021-11-23T12:44:35.939391Z"
    }
   },
   "outputs": [],
   "source": [
    "# geemap.ee_export_image_to_drive(img5_m, description='mosaico_2021_m', folder='export', region=patagonia_grande.geometry(), scale=30)"
   ]
  },
  {
   "cell_type": "markdown",
   "id": "1e872319",
   "metadata": {},
   "source": [
    "## Clasificación"
   ]
  },
  {
   "cell_type": "code",
   "execution_count": 256,
   "id": "3d3603e3",
   "metadata": {
    "ExecuteTime": {
     "end_time": "2021-11-23T12:44:35.943398Z",
     "start_time": "2021-11-23T12:44:35.941829Z"
    }
   },
   "outputs": [],
   "source": [
    "val_shp = os.path.join(work_dir, 'validacion.shp')\n",
    "merged_original = os.path.join(work_dir,'datos_1.shp')"
   ]
  },
  {
   "cell_type": "code",
   "execution_count": 257,
   "id": "bf7bfdeb",
   "metadata": {
    "ExecuteTime": {
     "end_time": "2021-11-23T12:44:36.494535Z",
     "start_time": "2021-11-23T12:44:35.944264Z"
    }
   },
   "outputs": [],
   "source": [
    "val = geemap.shp_to_ee(val_shp)\n",
    "# Map13.addLayer(val, {}, 'Áreas de Validación')"
   ]
  },
  {
   "cell_type": "code",
   "execution_count": 258,
   "id": "3b636946",
   "metadata": {
    "ExecuteTime": {
     "end_time": "2021-11-23T12:44:37.185601Z",
     "start_time": "2021-11-23T12:44:36.495293Z"
    }
   },
   "outputs": [],
   "source": [
    "mergedoriginal = geemap.shp_to_ee(merged_original)\n",
    "# Map13.addLayer( mergedoriginal, {}, 'Áreas de entrenamiento Original')"
   ]
  },
  {
   "cell_type": "code",
   "execution_count": 259,
   "id": "85616c66",
   "metadata": {
    "ExecuteTime": {
     "end_time": "2021-11-23T12:44:37.188521Z",
     "start_time": "2021-11-23T12:44:37.186713Z"
    }
   },
   "outputs": [],
   "source": [
    "# img6_m = addNDVI(img6_m)\n",
    "# img6_m = addNDWI(img6_m)\n",
    "# img6_m = addNDGI(img6_m)\n",
    "# img6_m = addSAVI(img6_m)\n",
    "# img6_m = addNDSI(img6_m)\n",
    "# img6_m = addDate(img6_m)\n",
    "# img6_m = addCloud(img6_m)"
   ]
  },
  {
   "cell_type": "code",
   "execution_count": 260,
   "id": "7f16c9ef",
   "metadata": {
    "ExecuteTime": {
     "end_time": "2021-11-23T12:44:37.191179Z",
     "start_time": "2021-11-23T12:44:37.189262Z"
    }
   },
   "outputs": [],
   "source": [
    "dataset = img5.sampleRegions(**{\n",
    "    'collection': mergedoriginal,\n",
    "    'properties': ['ID'],\n",
    "    'scale': 30,\n",
    "    'tileScale': 2,\n",
    "})"
   ]
  },
  {
   "cell_type": "code",
   "execution_count": 261,
   "id": "19076563",
   "metadata": {
    "ExecuteTime": {
     "end_time": "2021-11-23T12:44:37.193864Z",
     "start_time": "2021-11-23T12:44:37.192179Z"
    }
   },
   "outputs": [],
   "source": [
    "datasetval = img5.sampleRegions(**{\n",
    "    'collection': val,\n",
    "    'properties': ['ID'],\n",
    "    'scale': 30,\n",
    "    'tileScale': 2,\n",
    "})"
   ]
  },
  {
   "cell_type": "code",
   "execution_count": 262,
   "id": "5273b637",
   "metadata": {
    "ExecuteTime": {
     "end_time": "2021-11-23T12:44:37.196585Z",
     "start_time": "2021-11-23T12:44:37.194746Z"
    }
   },
   "outputs": [],
   "source": [
    "datasetMatch = img5_m.sampleRegions(**{\n",
    "    'collection': mergedoriginal,\n",
    "    'properties': ['ID'],\n",
    "    'scale': 30,\n",
    "    'tileScale': 2,\n",
    "})"
   ]
  },
  {
   "cell_type": "code",
   "execution_count": 263,
   "id": "e34adb30",
   "metadata": {
    "ExecuteTime": {
     "end_time": "2021-11-23T12:44:37.199184Z",
     "start_time": "2021-11-23T12:44:37.197431Z"
    }
   },
   "outputs": [],
   "source": [
    "datasetvalMatch= img5_m.sampleRegions(**{\n",
    "    'collection': val,\n",
    "    'properties': ['ID'],\n",
    "    'scale': 30,\n",
    "    'tileScale': 2,\n",
    "})"
   ]
  },
  {
   "cell_type": "code",
   "execution_count": 264,
   "id": "0be21169",
   "metadata": {
    "ExecuteTime": {
     "end_time": "2021-11-23T12:46:18.829610Z",
     "start_time": "2021-11-23T12:44:37.200113Z"
    }
   },
   "outputs": [
    {
     "name": "stdout",
     "output_type": "stream",
     "text": [
      "22637\n"
     ]
    }
   ],
   "source": [
    "print(dataset.size().getInfo())"
   ]
  },
  {
   "cell_type": "code",
   "execution_count": 265,
   "id": "0cdba8cd",
   "metadata": {
    "ExecuteTime": {
     "end_time": "2021-11-23T12:46:23.968506Z",
     "start_time": "2021-11-23T12:46:18.830537Z"
    }
   },
   "outputs": [
    {
     "name": "stdout",
     "output_type": "stream",
     "text": [
      "{'type': 'Feature', 'geometry': None, 'id': '0_0', 'properties': {'B1': 0.08925435692071915, 'B10': 292.0626220703125, 'B11': 292.143798828125, 'B2': 0.06809869408607483, 'B3': 0.051249273121356964, 'B4': 0.03142053633928299, 'B5': 0.3350105583667755, 'B6': 0.11977358907461166, 'B7': 0.044714801013469696, 'B8': 0.04191073775291443, 'B9': 0.005282651633024216, 'BQA': 2720, 'ID': 1, 'NDGI': 0.239854633808136, 'NDSI': -0.40067341923713684, 'NDVI': 0.8285050988197327, 'NDWI': -0.7346383333206177, 'SAVI': 0.5255871307293405, 'date': 20210105, 'nube': 0}}\n"
     ]
    }
   ],
   "source": [
    "print(dataset.first().getInfo())"
   ]
  },
  {
   "cell_type": "code",
   "execution_count": 266,
   "id": "5c27d8ab",
   "metadata": {
    "ExecuteTime": {
     "end_time": "2021-11-23T12:46:23.971034Z",
     "start_time": "2021-11-23T12:46:23.969476Z"
    }
   },
   "outputs": [],
   "source": [
    "# print(datasetval.first().getInfo())"
   ]
  },
  {
   "cell_type": "markdown",
   "id": "65efc69f",
   "metadata": {},
   "source": [
    "### Muestras y datos de validación"
   ]
  },
  {
   "cell_type": "code",
   "execution_count": 267,
   "id": "9f4082a9",
   "metadata": {
    "ExecuteTime": {
     "end_time": "2021-11-23T12:46:23.973937Z",
     "start_time": "2021-11-23T12:46:23.971816Z"
    }
   },
   "outputs": [],
   "source": [
    "# Guardamos las bandas\n",
    "\n",
    "# Esta propiedad guarda las clases de landcover\n",
    "# label = 'b1'\n",
    "label = 'IDH'\n",
    "label1 = 'ID'\n",
    "# Overlay the points on the imagery to get training.\n",
    "# sample = landsat.select(bands).sampleRegions(**{\n",
    "#   'collection': points,\n",
    "#   'properties': [label],\n",
    "#   'scale': 30\n",
    "# })\n",
    "\n",
    "# # Adds a column of deterministic pseudorandom numbers. \n",
    "# sample = sample.randomColumn()\n",
    "\n",
    "# split = 0.7 \n",
    "\n",
    "# training = sample.filter(ee.Filter.lt('random', split))\n",
    "# validation = sample.filter(ee.Filter.gte('random', split))\n",
    "bands = ['B1',\n",
    " 'B2',\n",
    " 'B3',\n",
    " 'B4',\n",
    " 'B5',\n",
    " 'B6',\n",
    " 'B7',\n",
    " 'B8',\n",
    " 'B9',\n",
    " 'B10',\n",
    " 'B11',\n",
    " 'NDVI',\n",
    " 'NDWI',\n",
    " 'NDGI',\n",
    " 'SAVI',\n",
    " 'NDSI',\n",
    "]\n",
    "bands1 = ['B1',\n",
    " 'B2',\n",
    " 'B3',\n",
    " 'B4',\n",
    " 'B5',\n",
    " 'B6',\n",
    " 'B7',\n",
    " 'B8',\n",
    " 'B9',\n",
    " 'B10',\n",
    " 'B11']"
   ]
  },
  {
   "cell_type": "markdown",
   "id": "bb2b3b9b",
   "metadata": {},
   "source": [
    "### Entrenando el modelo"
   ]
  },
  {
   "cell_type": "code",
   "execution_count": 268,
   "id": "d2eab14d",
   "metadata": {
    "ExecuteTime": {
     "end_time": "2021-11-23T12:46:23.976680Z",
     "start_time": "2021-11-23T12:46:23.974854Z"
    }
   },
   "outputs": [],
   "source": [
    "classifier = ee.Classifier.smileRandomForest(100).train(dataset, label1, bands)\n",
    "classifierMatch = ee.Classifier.smileRandomForest(100).train(datasetMatch, label1, bands1)"
   ]
  },
  {
   "cell_type": "code",
   "execution_count": 269,
   "id": "effbf7b9",
   "metadata": {
    "ExecuteTime": {
     "end_time": "2021-11-23T12:46:23.979056Z",
     "start_time": "2021-11-23T12:46:23.977406Z"
    }
   },
   "outputs": [],
   "source": [
    "result1 = img5.select(bands).classify(classifier)\n",
    "result2_M = img5_m.select(bands1).classify(classifierMatch)"
   ]
  },
  {
   "cell_type": "markdown",
   "id": "7df7206f",
   "metadata": {},
   "source": [
    "### Categorizando"
   ]
  },
  {
   "cell_type": "code",
   "execution_count": 270,
   "id": "a9f7e136",
   "metadata": {
    "ExecuteTime": {
     "end_time": "2021-11-23T12:46:23.981730Z",
     "start_time": "2021-11-23T12:46:23.979796Z"
    }
   },
   "outputs": [],
   "source": [
    "class_values1 = [1,2,3,4,5,6,7,8,9,10,11,12,13,14,15,16,17,18]\n",
    "\n",
    "class_palette1 = ['6bee8c', # 1\n",
    " 'f0ff00',\n",
    " '0c40f1',\n",
    " '685205',\n",
    " '0d4404',\n",
    " 'e82d13',\n",
    " 'f99504',\n",
    " '17d4c6',\n",
    " 'dc07e7',\n",
    " '24ff00',\n",
    " '2de50f',\n",
    " 'ccba7d',\n",
    " 'dec61a',\n",
    " '023208',\n",
    " '03c2ff',\n",
    " '97ad0b',\n",
    " 'a4f8ff',\n",
    " 'c0c233',               \n",
    "]"
   ]
  },
  {
   "cell_type": "code",
   "execution_count": 271,
   "id": "97b63b26",
   "metadata": {
    "ExecuteTime": {
     "end_time": "2021-11-23T12:46:23.984477Z",
     "start_time": "2021-11-23T12:46:23.982763Z"
    }
   },
   "outputs": [],
   "source": [
    "landcover1 = result1.set('classification_class_values', class_values1)\n",
    "landcover1 = landcover1.set('classification_class_palette', class_palette1)"
   ]
  },
  {
   "cell_type": "code",
   "execution_count": 272,
   "id": "54eabf1f",
   "metadata": {
    "ExecuteTime": {
     "end_time": "2021-11-23T12:46:23.987003Z",
     "start_time": "2021-11-23T12:46:23.985394Z"
    }
   },
   "outputs": [],
   "source": [
    "landcoverMatch = result2_M.set('classification_class_values', class_values1)\n",
    "landcoverMatch = landcoverMatch.set('classification_class_palette', class_palette1)"
   ]
  },
  {
   "cell_type": "code",
   "execution_count": 273,
   "id": "a1ac673e",
   "metadata": {
    "ExecuteTime": {
     "end_time": "2021-11-23T12:46:23.989354Z",
     "start_time": "2021-11-23T12:46:23.987948Z"
    }
   },
   "outputs": [],
   "source": [
    "# array_landcover1 = landcover1.toArray().toArray(1)\n",
    "# array_landcoverm = landcoverMatch.toArray().toArray(1)"
   ]
  },
  {
   "cell_type": "code",
   "execution_count": 274,
   "id": "11e0ee3e",
   "metadata": {
    "ExecuteTime": {
     "end_time": "2021-11-23T12:46:38.109261Z",
     "start_time": "2021-11-23T12:46:23.990271Z"
    }
   },
   "outputs": [],
   "source": [
    "Map14.addLayer(landcover1,{}, 'Land cover clasificado Random Forest' )"
   ]
  },
  {
   "cell_type": "code",
   "execution_count": 275,
   "id": "83059116",
   "metadata": {
    "ExecuteTime": {
     "end_time": "2021-11-23T12:46:38.112121Z",
     "start_time": "2021-11-23T12:46:38.110213Z"
    }
   },
   "outputs": [],
   "source": [
    "# Map14.addLayer(landcoverMatch, {}, 'Land cover clasificado Random Forest Match' )"
   ]
  },
  {
   "cell_type": "code",
   "execution_count": 276,
   "id": "882a5f91",
   "metadata": {
    "ExecuteTime": {
     "end_time": "2021-11-23T12:46:38.115531Z",
     "start_time": "2021-11-23T12:46:38.112805Z"
    }
   },
   "outputs": [
    {
     "data": {
      "text/plain": [
       "ee.image.Image"
      ]
     },
     "execution_count": 276,
     "metadata": {},
     "output_type": "execute_result"
    }
   ],
   "source": [
    "type(landcover1)"
   ]
  },
  {
   "cell_type": "code",
   "execution_count": 277,
   "id": "8111a0da",
   "metadata": {
    "ExecuteTime": {
     "end_time": "2021-11-23T12:46:39.558339Z",
     "start_time": "2021-11-23T12:46:38.116423Z"
    }
   },
   "outputs": [
    {
     "data": {
      "application/vnd.jupyter.widget-view+json": {
       "model_id": "2699d34f0be4454981c200a57d8019d7",
       "version_major": 2,
       "version_minor": 0
      },
      "text/plain": [
       "Map(center=[-45, -70], controls=(WidgetControl(options=['position', 'transparent_bg'], widget=HBox(children=(T…"
      ]
     },
     "metadata": {},
     "output_type": "display_data"
    }
   ],
   "source": [
    "\n",
    "legend_dict = {\n",
    "    '01 Achaparrado': '6bee8c',\n",
    "    '02 Agrícola': 'f0ff00',\n",
    "    '03 Agua': '0c40f1',\n",
    "    '04 Arenal o Roca': '685205',\n",
    "    '05 Bosque Degradado': '0d4404',\n",
    "    '06 Cuncunas': 'e82d13',\n",
    "    '07 Estepa': 'f99504',\n",
    "    '08 Humedal': '17d4c6',\n",
    "    '09 Mallin': 'dc07e7',\n",
    "    '10 Matorral abierto': '24ff00',\n",
    "    '11 Matorral denso': '2de50f',\n",
    "    '12 Plantaciones': 'ccba7d',\n",
    "    '13 Praderas': 'dec61a',\n",
    "    '14 Primario': '023208',\n",
    "    '15 Ríos': '03c2ff',\n",
    "    '16 Secundario': '97ad0b',\n",
    "    '17 Glaciar': 'a4f8ff',\n",
    "    '18 Suelo desnudo': 'c0c233',\n",
    "}\n",
    "Map14.add_legend(legend_title=\"Random Forest\", legend_dict=legend_dict)\n",
    "Map14.addLayer(componentes,vizParamstess, 'Tesseled cap')\n",
    "Map14"
   ]
  },
  {
   "cell_type": "markdown",
   "id": "e80b449e",
   "metadata": {},
   "source": [
    "### Exportando"
   ]
  },
  {
   "cell_type": "code",
   "execution_count": 278,
   "id": "4f5f83d5",
   "metadata": {
    "ExecuteTime": {
     "end_time": "2021-11-23T12:46:39.561348Z",
     "start_time": "2021-11-23T12:46:39.559399Z"
    }
   },
   "outputs": [],
   "source": [
    "# landcover_resampleado = landcover1.resample('bicubic')"
   ]
  },
  {
   "cell_type": "code",
   "execution_count": 279,
   "id": "3b3e4208",
   "metadata": {
    "ExecuteTime": {
     "end_time": "2021-11-23T12:46:39.563580Z",
     "start_time": "2021-11-23T12:46:39.562095Z"
    }
   },
   "outputs": [],
   "source": [
    "# print('es(...)', ee.Geometry(landcover1).isUnbounded())"
   ]
  },
  {
   "cell_type": "code",
   "execution_count": 280,
   "id": "d38f6b01",
   "metadata": {
    "ExecuteTime": {
     "end_time": "2021-11-23T12:46:39.565906Z",
     "start_time": "2021-11-23T12:46:39.564489Z"
    }
   },
   "outputs": [],
   "source": [
    "# landcover1 = landcover1.set('Geometry',patagonia.geometries())\n",
    "# landcover1 = ee.Image(landcover1)"
   ]
  },
  {
   "cell_type": "code",
   "execution_count": 281,
   "id": "83527290",
   "metadata": {
    "ExecuteTime": {
     "end_time": "2021-11-23T12:46:39.567886Z",
     "start_time": "2021-11-23T12:46:39.566620Z"
    }
   },
   "outputs": [],
   "source": [
    "# work_dir = os.path.expanduser('../../../Data/shapes/')\n",
    "# corte = os.path.join(work_dir, 'img_base.shp')\n",
    "# corte = geemap.shp_to_ee(corte)"
   ]
  },
  {
   "cell_type": "code",
   "execution_count": 282,
   "id": "6893f397",
   "metadata": {
    "ExecuteTime": {
     "end_time": "2021-11-23T12:46:39.569828Z",
     "start_time": "2021-11-23T12:46:39.568574Z"
    }
   },
   "outputs": [],
   "source": [
    "# clipped = landcover1.clip(corte)"
   ]
  },
  {
   "cell_type": "code",
   "execution_count": 283,
   "id": "490e6b52",
   "metadata": {
    "ExecuteTime": {
     "end_time": "2021-11-23T12:46:39.571771Z",
     "start_time": "2021-11-23T12:46:39.570586Z"
    }
   },
   "outputs": [],
   "source": [
    "# Map15.addLayer(clipped,{},'corte')\n",
    "# Map15"
   ]
  },
  {
   "cell_type": "code",
   "execution_count": 284,
   "id": "92df3f9f",
   "metadata": {
    "ExecuteTime": {
     "end_time": "2021-11-23T12:46:39.573957Z",
     "start_time": "2021-11-23T12:46:39.572446Z"
    }
   },
   "outputs": [],
   "source": [
    "# type(clipped)"
   ]
  },
  {
   "cell_type": "code",
   "execution_count": 285,
   "id": "44f35a34",
   "metadata": {
    "ExecuteTime": {
     "end_time": "2021-11-23T12:46:39.576461Z",
     "start_time": "2021-11-23T12:46:39.574882Z"
    }
   },
   "outputs": [],
   "source": [
    "# geemap.ee_export_image_to_drive(landcover1, description='pixel_fix', folder='export', region=patagonia_grande.geometry(), scale=40)"
   ]
  },
  {
   "cell_type": "code",
   "execution_count": 286,
   "id": "0ff24163",
   "metadata": {
    "ExecuteTime": {
     "end_time": "2021-11-23T12:46:39.578752Z",
     "start_time": "2021-11-23T12:46:39.577331Z"
    }
   },
   "outputs": [],
   "source": [
    "# geemap.ee_export_image_to_drive(img7, description='mosaico_final', folder='export', region=patagonia_grande.geometry(), scale=40)"
   ]
  },
  {
   "cell_type": "code",
   "execution_count": 287,
   "id": "e07b6fa6",
   "metadata": {
    "ExecuteTime": {
     "end_time": "2021-11-23T12:46:39.581025Z",
     "start_time": "2021-11-23T12:46:39.579519Z"
    }
   },
   "outputs": [],
   "source": [
    "# geemap.ee_export_image_to_drive(img6_m_bandas, description='mosaico_final_match', folder='export', region=patagonia_grande.geometry(), scale=40)"
   ]
  },
  {
   "cell_type": "code",
   "execution_count": 288,
   "id": "fe80c2a1",
   "metadata": {
    "ExecuteTime": {
     "end_time": "2021-11-23T12:46:39.583376Z",
     "start_time": "2021-11-23T12:46:39.581893Z"
    }
   },
   "outputs": [],
   "source": [
    "# geemap.ee_export_image_to_drive(img5_b, description='mosaico_7bands', folder='export', region=patagonia_grande.geometry(), scale=30)"
   ]
  },
  {
   "cell_type": "code",
   "execution_count": 289,
   "id": "f981e353",
   "metadata": {
    "ExecuteTime": {
     "end_time": "2021-11-23T12:46:39.585825Z",
     "start_time": "2021-11-23T12:46:39.584366Z"
    }
   },
   "outputs": [],
   "source": [
    "# geemap.ee_export_image_to_drive(img5_m, description='mosaico_hist_m', folder='export', region=patagonia_grande.geometry(), scale=30)"
   ]
  },
  {
   "cell_type": "code",
   "execution_count": 290,
   "id": "33de305f",
   "metadata": {
    "ExecuteTime": {
     "end_time": "2021-11-23T12:46:42.038708Z",
     "start_time": "2021-11-23T12:46:39.586721Z"
    }
   },
   "outputs": [],
   "source": [
    "partes_1 = os.path.join(work_dir, '1.shp')\n",
    "partes1 = geemap.shp_to_ee(partes_1)\n",
    "\n",
    "partes_2 = os.path.join(work_dir, '2.shp')\n",
    "partes2 = geemap.shp_to_ee(partes_2)\n",
    "\n",
    "partes_3 = os.path.join(work_dir, '3.shp')\n",
    "partes3 = geemap.shp_to_ee(partes_3)\n",
    "\n",
    "partes_4 = os.path.join(work_dir, '4.shp')\n",
    "partes4 = geemap.shp_to_ee(partes_4)\n",
    "\n",
    "partes_5 = os.path.join(work_dir, '5.shp')\n",
    "partes5 = geemap.shp_to_ee(partes_5)\n",
    "\n",
    "partes_6 = os.path.join(work_dir, '6.shp')\n",
    "partes6 = geemap.shp_to_ee(partes_6)\n",
    "\n",
    "partes_7 = os.path.join(work_dir, '7.shp')\n",
    "partes7 = geemap.shp_to_ee(partes_7)\n",
    "\n",
    "partes_8 = os.path.join(work_dir, '8.shp')\n",
    "partes8 = geemap.shp_to_ee(partes_8)"
   ]
  },
  {
   "cell_type": "code",
   "execution_count": 291,
   "id": "8114cfea",
   "metadata": {
    "ExecuteTime": {
     "end_time": "2021-11-23T12:46:42.042304Z",
     "start_time": "2021-11-23T12:46:42.039710Z"
    }
   },
   "outputs": [],
   "source": [
    "img5_1 = img5_b.clip(partes1).unmask()\n",
    "img5_2 = img5_b.clip(partes2).unmask()\n",
    "img5_3 = img5_b.clip(partes3).unmask()\n",
    "img5_4 = img5_b.clip(partes4).unmask()\n",
    "img5_5 = img5_b.clip(partes5).unmask()\n",
    "img5_6 = img5_b.clip(partes6).unmask()\n",
    "img5_7 = img5_b.clip(partes7).unmask()\n",
    "img5_8 = img5_b.clip(partes8).unmask()"
   ]
  },
  {
   "cell_type": "code",
   "execution_count": 292,
   "id": "ae51d531",
   "metadata": {
    "ExecuteTime": {
     "end_time": "2021-11-23T12:46:42.045714Z",
     "start_time": "2021-11-23T12:46:42.043227Z"
    }
   },
   "outputs": [],
   "source": [
    "img5_1 = img5_1.reproject(crs='EPSG:32719',scale = 30)\n",
    "img5_2 = img5_2.reproject(crs='EPSG:32719',scale = 30)\n",
    "img5_3 = img5_3.reproject(crs='EPSG:32719',scale = 30)\n",
    "img5_4 = img5_4.reproject(crs='EPSG:32719',scale = 30)\n",
    "img5_5 = img5_5.reproject(crs='EPSG:32719',scale = 30)\n",
    "img5_6 = img5_6.reproject(crs='EPSG:32719',scale = 30)\n",
    "img5_7 = img5_7.reproject(crs='EPSG:32719',scale = 30)\n",
    "img5_8 = img5_8.reproject(crs='EPSG:32719',scale = 30)"
   ]
  },
  {
   "cell_type": "code",
   "execution_count": 299,
   "id": "31cbdac1",
   "metadata": {
    "ExecuteTime": {
     "end_time": "2021-11-23T13:30:45.713148Z",
     "start_time": "2021-11-23T13:30:45.709537Z"
    }
   },
   "outputs": [],
   "source": [
    "img5_B1 = img5.select('B1') #coastal aerosol\n",
    "img5_B2 = img5.select('B2') #Blue\n",
    "img5_B3 = img5.select('B3') #green\n",
    "img5_B4 = img5.select('B4') #red\n",
    "img5_B5 = img5.select('B5') #near red\n",
    "img5_B6 = img5.select('B6') #shortwave infrared 1\n",
    "img5_B7 = img5.select('B7') #shortwave infrared 2\n",
    "img5_B8 = img5.select('B8') # panchromatic\n",
    "img5_B9 = img5.select('B9') #cirrus\n",
    "img5_B10 = img5.select('B10') #Thermal 1\n",
    "img5_B11 = img5.select('B11') # Thermal 2\n",
    "img5_NDVI = img5.select('NDVI') # NDVI\n",
    "img5_NDWI = img5.select('NDWI') # 'NDWI'\n",
    "img5_NDGI = img5.select('NDGI') # NDGI\n",
    "img5_SAVI = img5.select('SAVI') #SAVI\n",
    "img5_NDSI = img5.select('NDSI') #NDSI\n",
    "img5_date = img5.select('date') #date\n",
    "img5_nube = img5.select('nube') #nube"
   ]
  },
  {
   "cell_type": "code",
   "execution_count": 341,
   "id": "7ad8f89a",
   "metadata": {
    "ExecuteTime": {
     "end_time": "2021-11-23T17:21:11.943541Z",
     "start_time": "2021-11-23T17:21:11.941420Z"
    }
   },
   "outputs": [],
   "source": [
    "transf=ee.Array([1, 0, 0, 0, 1, 0])"
   ]
  },
  {
   "cell_type": "code",
   "execution_count": 343,
   "id": "6e150d13",
   "metadata": {
    "ExecuteTime": {
     "end_time": "2021-11-23T17:21:49.818242Z",
     "start_time": "2021-11-23T17:21:45.230270Z"
    }
   },
   "outputs": [
    {
     "data": {
      "text/plain": [
       "[1, 0, 0, 0, 1, 0]"
      ]
     },
     "execution_count": 343,
     "metadata": {},
     "output_type": "execute_result"
    }
   ],
   "source": [
    "transf.getInfo()"
   ]
  },
  {
   "cell_type": "code",
   "execution_count": 354,
   "id": "993bd5f5",
   "metadata": {
    "ExecuteTime": {
     "end_time": "2021-11-23T18:30:34.645809Z",
     "start_time": "2021-11-23T18:30:34.643474Z"
    }
   },
   "outputs": [],
   "source": [
    "task = ee.batch.Export.image.toDrive(**{\n",
    "    'image': img5_B2,\n",
    "    'description':'B2_2',\n",
    "    'folder':'exp2021_19s',\n",
    "    'region': patagonia_grande.geometry(),\n",
    "    'scale':30,\n",
    "    'crsTransform':[1, 0, 0, 0, 1, 0], \n",
    "    'crs':'EPSG:32719',\n",
    "    'maxPixels':1e13\n",
    "})"
   ]
  },
  {
   "cell_type": "code",
   "execution_count": 355,
   "id": "db7a6a4d",
   "metadata": {
    "ExecuteTime": {
     "end_time": "2021-11-23T18:30:42.594873Z",
     "start_time": "2021-11-23T18:30:39.939131Z"
    }
   },
   "outputs": [],
   "source": [
    "task.start()"
   ]
  },
  {
   "cell_type": "code",
   "execution_count": 346,
   "id": "81e1da3f",
   "metadata": {
    "ExecuteTime": {
     "end_time": "2021-11-23T17:23:12.724199Z",
     "start_time": "2021-11-23T17:23:12.717931Z"
    }
   },
   "outputs": [
    {
     "ename": "TypeError",
     "evalue": "ee_export_image_to_drive() got an unexpected keyword argument 'maxPixels'",
     "output_type": "error",
     "traceback": [
      "\u001b[0;31m---------------------------------------------------------------------------\u001b[0m",
      "\u001b[0;31mTypeError\u001b[0m                                 Traceback (most recent call last)",
      "\u001b[0;32m/tmp/ipykernel_184/2392175198.py\u001b[0m in \u001b[0;36m<module>\u001b[0;34m\u001b[0m\n\u001b[0;32m----> 1\u001b[0;31m geemap.ee_export_image_to_drive(img5_B2,\n\u001b[0m\u001b[1;32m      2\u001b[0m     \u001b[0mdescription\u001b[0m\u001b[0;34m=\u001b[0m\u001b[0;34m'B2_2'\u001b[0m\u001b[0;34m,\u001b[0m\u001b[0;34m\u001b[0m\u001b[0;34m\u001b[0m\u001b[0m\n\u001b[1;32m      3\u001b[0m     \u001b[0mfolder\u001b[0m\u001b[0;34m=\u001b[0m\u001b[0;34m'exp2021_19s'\u001b[0m\u001b[0;34m,\u001b[0m\u001b[0;34m\u001b[0m\u001b[0;34m\u001b[0m\u001b[0m\n\u001b[1;32m      4\u001b[0m     \u001b[0mregion\u001b[0m\u001b[0;34m=\u001b[0m \u001b[0mpatagonia_grande\u001b[0m\u001b[0;34m,\u001b[0m\u001b[0;34m\u001b[0m\u001b[0;34m\u001b[0m\u001b[0m\n\u001b[1;32m      5\u001b[0m     \u001b[0mscale\u001b[0m\u001b[0;34m=\u001b[0m\u001b[0;36m30\u001b[0m\u001b[0;34m,\u001b[0m\u001b[0;34m\u001b[0m\u001b[0;34m\u001b[0m\u001b[0m\n",
      "\u001b[0;31mTypeError\u001b[0m: ee_export_image_to_drive() got an unexpected keyword argument 'maxPixels'"
     ]
    }
   ],
   "source": [
    "geemap.ee_export_image_to_drive(img5_B2,\n",
    "    description='B2_2',\n",
    "    folder='exp2021_19s',\n",
    "    region= patagonia_grande,\n",
    "    scale=30,\n",
    "    crsTransform=transf, \n",
    "    crs='EPSG:32719',\n",
    "    maxPixels = 1e13\n",
    ")\n",
    "# geemap.ee_export_image_to_drive(img5_B3, description='B3_2021', folder='exp2021_19s', scale=30, crs='EPSG:32719')\n",
    "# geemap.ee_export_image_to_drive(img5_B4, description='B4_2021', folder='exp2021_19s', scale=30, crs='EPSG:32719')\n",
    "# geemap.ee_export_image_to_drive(img5_B5, description='B5_2021', folder='exp2021_19s', scale=30, crs='EPSG:32719')\n",
    "# geemap.ee_export_image_to_drive(img5_B6, description='B6_2021', folder='exp2021_19s', scale=30, crs='EPSG:32719')\n",
    "# geemap.ee_export_image_to_drive(img5_B7, description='B7_2021', folder='exp2021_19s', scale=30, crs='EPSG:32719')\n",
    "# geemap.ee_export_image_to_drive(img5_NDVI, description='NDVI_2021', folder='exp2021_19s', scale=30, crs='EPSG:32719')\n",
    "# geemap.ee_export_image_to_drive(img5_NDWI, description='NDWI_2021', folder='exp2021_19s', scale=30, crs='EPSG:32719')\n",
    "# geemap.ee_export_image_to_drive(img5_NDGI, description='NDGI_2021', folder='exp2021_19s', scale=30, crs='EPSG:32719')\n",
    "# geemap.ee_export_image_to_drive(img5_SAVI, description='SAVI_2021', folder='exp2021_19s', scale=30, crs='EPSG:32719')\n",
    "# geemap.ee_export_image_to_drive(img5_NDSI, description='NDSI_2021', folder='exp2021_19s', scale=30, crs='EPSG:32719')"
   ]
  },
  {
   "cell_type": "code",
   "execution_count": 336,
   "id": "560e863d",
   "metadata": {
    "ExecuteTime": {
     "end_time": "2021-11-23T17:10:40.826913Z",
     "start_time": "2021-11-23T17:10:37.861423Z"
    }
   },
   "outputs": [
    {
     "name": "stdout",
     "output_type": "stream",
     "text": [
      "{'type': 'Projection', 'crs': 'EPSG:4326', 'transform': [1, 0, 0, 0, 1, 0]}\n"
     ]
    }
   ],
   "source": [
    "print(img5.projection().getInfo())"
   ]
  },
  {
   "cell_type": "code",
   "execution_count": 301,
   "id": "8ab3a750",
   "metadata": {
    "ExecuteTime": {
     "end_time": "2021-11-23T13:30:57.929389Z",
     "start_time": "2021-11-23T13:30:57.927719Z"
    }
   },
   "outputs": [],
   "source": [
    "# geemap.ee_export_image_to_drive(img5_1, description='mosaico_2021_1', folder='exp2021_19s', region=partes1.geometry(), scale=30)\n",
    "# geemap.ee_export_image_to_drive(img5_2, description='mosaico_2021_2', folder='exp2021_19s', region=partes2.geometry(), scale=30)\n",
    "# geemap.ee_export_image_to_drive(img5_3, description='mosaico_2021_3', folder='exp2021_19s', region=partes3.geometry(), scale=30)\n",
    "# geemap.ee_export_image_to_drive(img5_4, description='mosaico_2021_4', folder='exp2021_19s', region=partes4.geometry(), scale=30)\n",
    "# geemap.ee_export_image_to_drive(img5_5, description='mosaico_2021_5', folder='exp2021_19s', region=partes5.geometry(), scale=30)\n",
    "# geemap.ee_export_image_to_drive(img5_6, description='mosaico_2021_6', folder='exp2021_19s', region=partes6.geometry(), scale=30)\n",
    "# geemap.ee_export_image_to_drive(img5_7, description='mosaico_2021_7', folder='exp2021_19s', region=partes7.geometry(), scale=30)\n",
    "# geemap.ee_export_image_to_drive(img5_8, description='mosaico_2021_8', folder='exp2021_19s', region=partes8.geometry(), scale=30)"
   ]
  },
  {
   "cell_type": "code",
   "execution_count": 302,
   "id": "e5d8b4e9",
   "metadata": {
    "ExecuteTime": {
     "end_time": "2021-11-23T13:30:57.931852Z",
     "start_time": "2021-11-23T13:30:57.930052Z"
    }
   },
   "outputs": [],
   "source": [
    "# geemap.ee_export_image_to_drive(img5_1, description='mosaico_2021_1', folder='exp2021_19s', region=partes1.geometry(), scale=30)"
   ]
  },
  {
   "cell_type": "code",
   "execution_count": 303,
   "id": "056a7102",
   "metadata": {
    "ExecuteTime": {
     "end_time": "2021-11-23T13:30:57.934271Z",
     "start_time": "2021-11-23T13:30:57.932850Z"
    }
   },
   "outputs": [],
   "source": [
    "# geemap.ee_export_image_to_drive(componentes, description='tasseled_2021', folder='taseeled', region=patagonia_grande.geometry(), scale=40)"
   ]
  }
 ],
 "metadata": {
  "kernelspec": {
   "display_name": "Python 3 (ipykernel)",
   "language": "python",
   "name": "python3"
  },
  "language_info": {
   "codemirror_mode": {
    "name": "ipython",
    "version": 3
   },
   "file_extension": ".py",
   "mimetype": "text/x-python",
   "name": "python",
   "nbconvert_exporter": "python",
   "pygments_lexer": "ipython3",
   "version": "3.8.12"
  },
  "toc": {
   "base_numbering": 1,
   "nav_menu": {},
   "number_sections": true,
   "sideBar": true,
   "skip_h1_title": false,
   "title_cell": "Table of Contents",
   "title_sidebar": "Contents",
   "toc_cell": false,
   "toc_position": {
    "height": "calc(100% - 180px)",
    "left": "10px",
    "top": "150px",
    "width": "384px"
   },
   "toc_section_display": true,
   "toc_window_display": true
  },
  "varInspector": {
   "cols": {
    "lenName": 16,
    "lenType": 16,
    "lenVar": 40
   },
   "kernels_config": {
    "python": {
     "delete_cmd_postfix": "",
     "delete_cmd_prefix": "del ",
     "library": "var_list.py",
     "varRefreshCmd": "print(var_dic_list())"
    },
    "r": {
     "delete_cmd_postfix": ") ",
     "delete_cmd_prefix": "rm(",
     "library": "var_list.r",
     "varRefreshCmd": "cat(var_dic_list()) "
    }
   },
   "types_to_exclude": [
    "module",
    "function",
    "builtin_function_or_method",
    "instance",
    "_Feature"
   ],
   "window_display": false
  }
 },
 "nbformat": 4,
 "nbformat_minor": 5
}
