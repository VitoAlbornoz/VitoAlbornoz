{
 "cells": [
  {
   "cell_type": "markdown",
   "id": "c8ee7fef",
   "metadata": {},
   "source": [
    "# Mosaico 1985"
   ]
  },
  {
   "cell_type": "markdown",
   "id": "203f76ca",
   "metadata": {},
   "source": [
    "Script trabajado por Francisco Albornoz (2021-04-13) / Última modificación / Mosaicos Patagonia"
   ]
  },
  {
   "cell_type": "markdown",
   "id": "2fb5cdeb",
   "metadata": {},
   "source": [
    "2021-08-05 13:07:09 "
   ]
  },
  {
   "cell_type": "code",
   "execution_count": 1,
   "id": "3057c761",
   "metadata": {
    "ExecuteTime": {
     "end_time": "2021-10-19T19:13:01.268887Z",
     "start_time": "2021-10-19T19:13:00.689597Z"
    }
   },
   "outputs": [],
   "source": [
    "import ee\n",
    "import geemap\n",
    "import geemap.chart as chart\n",
    "import os\n",
    "import folium"
   ]
  },
  {
   "cell_type": "markdown",
   "id": "1997eeb4",
   "metadata": {},
   "source": [
    "<img src=https://www.ecopaysen.cl/wp-content/uploads/2019/12/ecopaysen_marca_web.png>"
   ]
  },
  {
   "cell_type": "code",
   "execution_count": 2,
   "id": "fca49a56",
   "metadata": {
    "ExecuteTime": {
     "end_time": "2021-10-19T19:13:11.038787Z",
     "start_time": "2021-10-19T19:13:01.269962Z"
    }
   },
   "outputs": [],
   "source": [
    "Map = geemap.Map(center = [-45, -70], zoom = 4)\n",
    "Map2 = geemap.Map(center = [-45, -70], zoom = 4)\n",
    "Map3 = geemap.Map(center = [-45, -70], zoom = 4)\n",
    "Map4 = geemap.Map(center = [-45, -70], zoom = 4)\n",
    "Map5 = geemap.Map(center = [-45, -70], zoom = 4)\n",
    "Map6 = geemap.Map(center = [-45, -70], zoom = 4)\n",
    "Map7 = geemap.Map(center = [-45, -70], zoom = 4)\n",
    "Map8 = geemap.Map(center = [-45, -70], zoom = 4)\n",
    "Map9 = geemap.Map(center = [-45, -70], zoom = 4)\n",
    "Map10 = geemap.Map(center = [-45, -70], zoom = 4)"
   ]
  },
  {
   "cell_type": "markdown",
   "id": "f26fe1a2",
   "metadata": {},
   "source": [
    "## Área de Estudio"
   ]
  },
  {
   "cell_type": "code",
   "execution_count": 3,
   "id": "2aae613d",
   "metadata": {
    "ExecuteTime": {
     "end_time": "2021-10-19T19:13:11.841667Z",
     "start_time": "2021-10-19T19:13:11.039561Z"
    }
   },
   "outputs": [],
   "source": [
    "work_dir = os.path.expanduser('../../../Data/shapes/')\n",
    "patagonia = os.path.join(work_dir, 'patagonia_nueva.shp')\n",
    "patagonia_grande = geemap.shp_to_ee(patagonia)"
   ]
  },
  {
   "cell_type": "markdown",
   "id": "fa8e2fea",
   "metadata": {},
   "source": [
    "## Colors Bars"
   ]
  },
  {
   "cell_type": "code",
   "execution_count": 4,
   "id": "1efebd11",
   "metadata": {
    "ExecuteTime": {
     "end_time": "2021-10-19T19:13:12.835877Z",
     "start_time": "2021-10-19T19:13:11.843529Z"
    }
   },
   "outputs": [],
   "source": [
    "import geemap.colormaps as cm"
   ]
  },
  {
   "cell_type": "code",
   "execution_count": 5,
   "id": "d159d70f",
   "metadata": {
    "ExecuteTime": {
     "end_time": "2021-10-19T19:13:12.838586Z",
     "start_time": "2021-10-19T19:13:12.836885Z"
    }
   },
   "outputs": [],
   "source": [
    "# cm.palettes.terrain"
   ]
  },
  {
   "cell_type": "code",
   "execution_count": 6,
   "id": "fe999a91",
   "metadata": {
    "ExecuteTime": {
     "end_time": "2021-10-19T19:13:12.846587Z",
     "start_time": "2021-10-19T19:13:12.839485Z"
    }
   },
   "outputs": [],
   "source": [
    "color_ndvi = cm.palettes.ndvi"
   ]
  },
  {
   "cell_type": "code",
   "execution_count": 7,
   "id": "05fb282a",
   "metadata": {
    "ExecuteTime": {
     "end_time": "2021-10-19T19:13:12.849708Z",
     "start_time": "2021-10-19T19:13:12.847393Z"
    }
   },
   "outputs": [],
   "source": [
    "color_ndwi = cm.palettes.ndwi"
   ]
  },
  {
   "cell_type": "code",
   "execution_count": 8,
   "id": "68161910",
   "metadata": {
    "ExecuteTime": {
     "end_time": "2021-10-19T19:13:12.854706Z",
     "start_time": "2021-10-19T19:13:12.850636Z"
    }
   },
   "outputs": [],
   "source": [
    "color_terrain = cm.palettes.terrain"
   ]
  },
  {
   "cell_type": "code",
   "execution_count": 9,
   "id": "8e99245f",
   "metadata": {
    "ExecuteTime": {
     "end_time": "2021-10-19T19:13:12.859616Z",
     "start_time": "2021-10-19T19:13:12.855712Z"
    }
   },
   "outputs": [],
   "source": [
    "color_glaciar = cm.palettes.PuBuGn_r"
   ]
  },
  {
   "cell_type": "code",
   "execution_count": 10,
   "id": "92b8cf41",
   "metadata": {
    "ExecuteTime": {
     "end_time": "2021-10-19T19:13:12.865139Z",
     "start_time": "2021-10-19T19:13:12.861486Z"
    }
   },
   "outputs": [],
   "source": [
    "color_nubes = cm.palettes.inferno"
   ]
  },
  {
   "cell_type": "code",
   "execution_count": 11,
   "id": "39930741",
   "metadata": {
    "ExecuteTime": {
     "end_time": "2021-10-19T19:13:12.870806Z",
     "start_time": "2021-10-19T19:13:12.865955Z"
    }
   },
   "outputs": [],
   "source": [
    "# cm.list_colormaps()"
   ]
  },
  {
   "cell_type": "code",
   "execution_count": 12,
   "id": "0ce61cbe",
   "metadata": {
    "ExecuteTime": {
     "end_time": "2021-10-19T19:13:12.875555Z",
     "start_time": "2021-10-19T19:13:12.871978Z"
    }
   },
   "outputs": [],
   "source": [
    "# cm.plot_colormaps(width=12, height=0.4)"
   ]
  },
  {
   "cell_type": "markdown",
   "id": "11666045",
   "metadata": {},
   "source": [
    "## Funciones"
   ]
  },
  {
   "cell_type": "code",
   "execution_count": 13,
   "id": "166db170",
   "metadata": {
    "ExecuteTime": {
     "end_time": "2021-10-19T19:13:12.881249Z",
     "start_time": "2021-10-19T19:13:12.876531Z"
    }
   },
   "outputs": [],
   "source": [
    "def add_ee_layer(self, ee_image_object, vis_params, name):\n",
    "  map_id_dict = ee.Image(ee_image_object).getMapId(vis_params)\n",
    "  folium.raster_layers.TileLayer(\n",
    "      tiles=map_id_dict['tile_fetcher'].url_format,\n",
    "      attr='Map Data &copy; <a href=\"https://earthengine.google.com/\">Google Earth Engine</a>',\n",
    "      name=name,\n",
    "      overlay=True,\n",
    "      control=True\n",
    "  ).add_to(self)\n",
    "\n",
    "folium.Map.add_ee_layer = add_ee_layer"
   ]
  },
  {
   "cell_type": "code",
   "execution_count": 14,
   "id": "b9e1cdaf",
   "metadata": {
    "ExecuteTime": {
     "end_time": "2021-10-19T19:13:12.886366Z",
     "start_time": "2021-10-19T19:13:12.882139Z"
    }
   },
   "outputs": [],
   "source": [
    "def addNDVI(image): \n",
    "    ndvi = image.normalizedDifference(['B4', 'B3']).rename('B11')\n",
    "    return image.addBands(ndvi)"
   ]
  },
  {
   "cell_type": "code",
   "execution_count": 15,
   "id": "ad105a37",
   "metadata": {
    "ExecuteTime": {
     "end_time": "2021-10-19T19:13:12.891654Z",
     "start_time": "2021-10-19T19:13:12.887359Z"
    }
   },
   "outputs": [],
   "source": [
    "def addNDWI(image):\n",
    "    ndwi = image.normalizedDifference(['B2','B4']).rename('NDWI')\n",
    "    return image.addBands(ndwi)"
   ]
  },
  {
   "cell_type": "code",
   "execution_count": 16,
   "id": "afd5a921",
   "metadata": {
    "ExecuteTime": {
     "end_time": "2021-10-19T19:13:12.896696Z",
     "start_time": "2021-10-19T19:13:12.892643Z"
    }
   },
   "outputs": [],
   "source": [
    "def addNDGI(image):\n",
    "    ndgi = image.normalizedDifference(['B2','B3']).rename('NDGI')\n",
    "    return image.addBands(ndgi)"
   ]
  },
  {
   "cell_type": "code",
   "execution_count": 17,
   "id": "786770f8",
   "metadata": {
    "ExecuteTime": {
     "end_time": "2021-10-19T19:13:12.902104Z",
     "start_time": "2021-10-19T19:13:12.897540Z"
    }
   },
   "outputs": [],
   "source": [
    "def addSAVI(image):\n",
    "    savi = image.expression(\n",
    "        '((b4 - b3)/(b4 + b3 + 0.5))*1.5', {\n",
    "            'b3':image.select('B3'),\n",
    "            'b4':image.select('B4')\n",
    "        }) \n",
    "    savi= savi.rename('SAVI')\n",
    "    return image.addBands(savi)"
   ]
  },
  {
   "cell_type": "code",
   "execution_count": 18,
   "id": "cffb72aa",
   "metadata": {
    "ExecuteTime": {
     "end_time": "2021-10-19T19:13:12.907325Z",
     "start_time": "2021-10-19T19:13:12.903016Z"
    }
   },
   "outputs": [],
   "source": [
    "def addNDSI(image):\n",
    "    ndsi = image.normalizedDifference(['B2','B5']).rename('NDSI')\n",
    "    return image.addBands(ndsi)"
   ]
  },
  {
   "cell_type": "code",
   "execution_count": 19,
   "id": "4889cabe",
   "metadata": {
    "ExecuteTime": {
     "end_time": "2021-10-19T19:13:12.910271Z",
     "start_time": "2021-10-19T19:13:12.908411Z"
    }
   },
   "outputs": [],
   "source": [
    "def addDate(image):\n",
    "    img_date = ee.Date(image.date())\n",
    "    img_date = ee.Number.parse(img_date.format('YYYYMM'))\n",
    "    return image.addBands(ee.Image(img_date).rename('date').toInt())"
   ]
  },
  {
   "cell_type": "code",
   "execution_count": 20,
   "id": "6cd5fe3f",
   "metadata": {
    "ExecuteTime": {
     "end_time": "2021-10-19T19:13:12.912839Z",
     "start_time": "2021-10-19T19:13:12.911213Z"
    }
   },
   "outputs": [],
   "source": [
    "def Cloud40(image):\n",
    "    scored = ee.Algorithms.Landsat.simpleCloudScore(image)\n",
    "    return image.updateMask(scored.select(['cloud']).lt(40)) "
   ]
  },
  {
   "cell_type": "code",
   "execution_count": 21,
   "id": "3115c210",
   "metadata": {
    "ExecuteTime": {
     "end_time": "2021-10-19T19:13:12.915413Z",
     "start_time": "2021-10-19T19:13:12.913789Z"
    }
   },
   "outputs": [],
   "source": [
    "def Cloud30(image):\n",
    "    scored = ee.Algorithms.Landsat.simpleCloudScore(image)\n",
    "    return image.updateMask(scored.select(['cloud']).lt(30)) "
   ]
  },
  {
   "cell_type": "code",
   "execution_count": 22,
   "id": "f86cf507",
   "metadata": {
    "ExecuteTime": {
     "end_time": "2021-10-19T19:13:12.918200Z",
     "start_time": "2021-10-19T19:13:12.916471Z"
    }
   },
   "outputs": [],
   "source": [
    "def Cloud20(image):\n",
    "    scored = ee.Algorithms.Landsat.simpleCloudScore(image)\n",
    "    return image.updateMask(scored.select(['cloud']).lt(20)) "
   ]
  },
  {
   "cell_type": "code",
   "execution_count": 23,
   "id": "9d288b40",
   "metadata": {
    "ExecuteTime": {
     "end_time": "2021-10-19T19:13:12.920869Z",
     "start_time": "2021-10-19T19:13:12.919173Z"
    }
   },
   "outputs": [],
   "source": [
    "def Cloud10(image):\n",
    "    scored = ee.Algorithms.Landsat.simpleCloudScore(image)\n",
    "    return image.updateMask(scored.select(['cloud']).lt(10))"
   ]
  },
  {
   "cell_type": "code",
   "execution_count": 24,
   "id": "92d6ba1b",
   "metadata": {
    "ExecuteTime": {
     "end_time": "2021-10-19T19:13:12.923393Z",
     "start_time": "2021-10-19T19:13:12.921804Z"
    }
   },
   "outputs": [],
   "source": [
    "def addCloud(image):\n",
    "    nube = ee.Algorithms.Landsat.simpleCloudScore(image)\n",
    "    return image.addBands(ee.Image(nube.select(['cloud'])).rename('nube'))"
   ]
  },
  {
   "cell_type": "markdown",
   "id": "d9a442fb",
   "metadata": {},
   "source": [
    "## Colecciones"
   ]
  },
  {
   "cell_type": "markdown",
   "id": "93d1b620",
   "metadata": {},
   "source": [
    "### 1985"
   ]
  },
  {
   "cell_type": "code",
   "execution_count": 25,
   "id": "846c60d4",
   "metadata": {
    "ExecuteTime": {
     "end_time": "2021-10-19T19:13:12.926112Z",
     "start_time": "2021-10-19T19:13:12.924357Z"
    }
   },
   "outputs": [],
   "source": [
    "start_date = '1984-10-01'\n",
    "end_date = '1985-03-31'\n",
    "\n",
    "l5_1985 = ee.ImageCollection('LANDSAT/LT05/C01/T1_TOA') \\\n",
    "    .filterBounds(patagonia_grande) \\\n",
    "    .filterDate(start_date, end_date)"
   ]
  },
  {
   "cell_type": "code",
   "execution_count": 26,
   "id": "ee974e97",
   "metadata": {
    "ExecuteTime": {
     "end_time": "2021-10-19T19:13:12.928643Z",
     "start_time": "2021-10-19T19:13:12.927079Z"
    }
   },
   "outputs": [],
   "source": [
    "vizParams = {\n",
    "  'bands': ['B4', 'B3', 'B2'],\n",
    "  'min': 0,\n",
    "  'max': 0.5,\n",
    "  'gamma': [0.95, 1.1, 1]\n",
    "}"
   ]
  },
  {
   "cell_type": "code",
   "execution_count": 27,
   "id": "215db372",
   "metadata": {
    "ExecuteTime": {
     "end_time": "2021-10-19T19:13:12.931118Z",
     "start_time": "2021-10-19T19:13:12.929655Z"
    }
   },
   "outputs": [],
   "source": [
    "vis_nieve = {\n",
    "  'bands': ['B5', 'B3', 'B2'],\n",
    "  'min': 0,\n",
    "  'max': 0.5,\n",
    "  'gamma': [0.95, 1.1, 1]\n",
    "}"
   ]
  },
  {
   "cell_type": "code",
   "execution_count": 28,
   "id": "d2d69a69",
   "metadata": {
    "ExecuteTime": {
     "end_time": "2021-10-19T19:13:12.938979Z",
     "start_time": "2021-10-19T19:13:12.933886Z"
    }
   },
   "outputs": [],
   "source": [
    "coleccion1985 = l5_1985.map(addNDVI).map(addNDWI).map(addNDGI).map(addSAVI).map(addNDSI).map(addDate).map(addCloud)"
   ]
  },
  {
   "cell_type": "code",
   "execution_count": 29,
   "id": "787bf341",
   "metadata": {
    "ExecuteTime": {
     "end_time": "2021-10-19T19:13:12.941838Z",
     "start_time": "2021-10-19T19:13:12.939946Z"
    }
   },
   "outputs": [],
   "source": [
    "QM_NDVI_1985 = coleccion1985.qualityMosaic('B11') # Normalized difference vegetation Index\n",
    "QM_NDWI_1985 = coleccion1985.qualityMosaic('NDWI') # Normalize difference water index\n",
    "QM_SAVI_1985 = coleccion1985.qualityMosaic('SAVI') # Soil Adjusted Vegetation Index \n",
    "QM_NDGI_1985 = coleccion1985.qualityMosaic('NDGI') # Normalized difference glacier index\n",
    "QM_NDSI_1985 = coleccion1985.qualityMosaic('NDSI') # Normalized difference snow index"
   ]
  },
  {
   "cell_type": "code",
   "execution_count": 30,
   "id": "f6d3a89c",
   "metadata": {
    "ExecuteTime": {
     "end_time": "2021-10-19T19:13:16.797457Z",
     "start_time": "2021-10-19T19:13:12.942794Z"
    }
   },
   "outputs": [
    {
     "data": {
      "application/vnd.jupyter.widget-view+json": {
       "model_id": "fec03257638d4e0a9f24641d6f32e5b5",
       "version_major": 2,
       "version_minor": 0
      },
      "text/plain": [
       "Map(center=[-45, -70], controls=(WidgetControl(options=['position', 'transparent_bg'], widget=HBox(children=(T…"
      ]
     },
     "metadata": {},
     "output_type": "display_data"
    }
   ],
   "source": [
    "Map.addLayer(QM_NDVI_1985, vizParams, 'QM de NDVI 1985')\n",
    "Map.addLayer(QM_NDWI_1985, vizParams, 'QM de NDWI 1985')\n",
    "Map.addLayer(QM_SAVI_1985, vizParams, 'QM de SAVI 1985')\n",
    "Map.addLayer(QM_NDGI_1985, vis_nieve, 'QM de NDGI 1985')\n",
    "Map.addLayer(QM_NDSI_1985, vis_nieve, 'QM de NDSI 1985')\n",
    "Map "
   ]
  },
  {
   "cell_type": "code",
   "execution_count": 31,
   "id": "3e82cc9a",
   "metadata": {
    "ExecuteTime": {
     "end_time": "2021-10-19T19:13:16.800665Z",
     "start_time": "2021-10-19T19:13:16.798241Z"
    }
   },
   "outputs": [],
   "source": [
    "c1985_sn = coleccion1985.map(Cloud20)\n",
    "NDVI_1985_sn = c1985_sn.qualityMosaic('B11')\n",
    "NDWI_1985_sn = c1985_sn.qualityMosaic('NDWI')\n",
    "SAVI_1985_sn = c1985_sn.qualityMosaic('SAVI')\n",
    "NDGI_1985_sn = c1985_sn.qualityMosaic('NDGI')\n",
    "NDSI_1985_sn = c1985_sn.qualityMosaic('NDSI')"
   ]
  },
  {
   "cell_type": "code",
   "execution_count": 32,
   "id": "c6117665",
   "metadata": {
    "ExecuteTime": {
     "end_time": "2021-10-19T19:13:20.113107Z",
     "start_time": "2021-10-19T19:13:16.801377Z"
    }
   },
   "outputs": [],
   "source": [
    "Map2.addLayer(NDVI_1985_sn, vizParams, 'QMsn de NDVI 1985')\n",
    "Map2.addLayer(NDWI_1985_sn, vizParams, 'QMsn de NDWI 1985')\n",
    "Map2.addLayer(SAVI_1985_sn, vizParams, 'QMsn de SAVI 1985')\n",
    "Map2.addLayer(NDGI_1985_sn, vis_nieve, 'QMsn de NDGI 1985')\n",
    "Map2.addLayer(NDSI_1985_sn, vis_nieve, 'QMsn de NDSI 1985')\n",
    "# Map2"
   ]
  },
  {
   "cell_type": "markdown",
   "id": "ccec25b0",
   "metadata": {},
   "source": [
    "### 1986"
   ]
  },
  {
   "cell_type": "code",
   "execution_count": 33,
   "id": "ef53f13a",
   "metadata": {
    "ExecuteTime": {
     "end_time": "2021-10-19T19:13:20.116316Z",
     "start_time": "2021-10-19T19:13:20.114096Z"
    }
   },
   "outputs": [],
   "source": [
    "start_date = '1985-10-01'\n",
    "end_date = '1986-03-31'\n",
    "\n",
    "l5_1986 = ee.ImageCollection('LANDSAT/LT05/C01/T1_TOA') \\\n",
    "    .filterBounds(patagonia_grande) \\\n",
    "    .filterDate(start_date, end_date)"
   ]
  },
  {
   "cell_type": "code",
   "execution_count": 34,
   "id": "06a293d6",
   "metadata": {
    "ExecuteTime": {
     "end_time": "2021-10-19T19:13:20.121316Z",
     "start_time": "2021-10-19T19:13:20.117121Z"
    }
   },
   "outputs": [],
   "source": [
    "coleccion1986 = l5_1986.map(addNDVI).map(addNDWI).map(addNDGI).map(addSAVI).map(addNDSI).map(addDate).map(addCloud)"
   ]
  },
  {
   "cell_type": "code",
   "execution_count": 35,
   "id": "f724bb1b",
   "metadata": {
    "ExecuteTime": {
     "end_time": "2021-10-19T19:13:20.124174Z",
     "start_time": "2021-10-19T19:13:20.122490Z"
    }
   },
   "outputs": [],
   "source": [
    "QM_NDVI_1986 = coleccion1986.qualityMosaic('B11') # Normalized difference vegetation Index\n",
    "QM_NDWI_1986 = coleccion1986.qualityMosaic('NDWI') # Normalize difference water index\n",
    "QM_SAVI_1986 = coleccion1986.qualityMosaic('SAVI') # Soil Adjusted Vegetation Index \n",
    "QM_NDGI_1986 = coleccion1986.qualityMosaic('NDGI') # Normalized difference glacier index\n",
    "QM_NDSI_1986 = coleccion1986.qualityMosaic('NDSI') # Normalized difference snow index"
   ]
  },
  {
   "cell_type": "code",
   "execution_count": 36,
   "id": "6c001bbc",
   "metadata": {
    "ExecuteTime": {
     "end_time": "2021-10-19T19:13:23.697391Z",
     "start_time": "2021-10-19T19:13:20.125500Z"
    }
   },
   "outputs": [
    {
     "data": {
      "application/vnd.jupyter.widget-view+json": {
       "model_id": "fec03257638d4e0a9f24641d6f32e5b5",
       "version_major": 2,
       "version_minor": 0
      },
      "text/plain": [
       "Map(center=[-45, -70], controls=(WidgetControl(options=['position', 'transparent_bg'], widget=HBox(children=(T…"
      ]
     },
     "metadata": {},
     "output_type": "display_data"
    }
   ],
   "source": [
    "Map.addLayer(QM_NDVI_1986, vizParams, 'QM de NDVI 1986')\n",
    "Map.addLayer(QM_NDWI_1986, vizParams, 'QM de NDWI 1986')\n",
    "Map.addLayer(QM_SAVI_1986, vizParams, 'QM de SAVI 1986')\n",
    "Map.addLayer(QM_NDGI_1986, vis_nieve, 'QM de NDGI 1986')\n",
    "Map.addLayer(QM_NDSI_1986, vis_nieve, 'QM de NDSI 1986')\n",
    "Map "
   ]
  },
  {
   "cell_type": "code",
   "execution_count": 37,
   "id": "06eebe04",
   "metadata": {
    "ExecuteTime": {
     "end_time": "2021-10-19T19:13:23.700726Z",
     "start_time": "2021-10-19T19:13:23.698300Z"
    }
   },
   "outputs": [],
   "source": [
    "c1986_sn = coleccion1986.map(Cloud20)\n",
    "NDVI_1986_sn = c1986_sn.qualityMosaic('B11')\n",
    "NDWI_1986_sn = c1986_sn.qualityMosaic('NDWI')\n",
    "SAVI_1986_sn = c1986_sn.qualityMosaic('SAVI')\n",
    "NDGI_1986_sn = c1986_sn.qualityMosaic('NDGI')\n",
    "NDSI_1986_sn = c1986_sn.qualityMosaic('NDSI')"
   ]
  },
  {
   "cell_type": "code",
   "execution_count": 38,
   "id": "7121bf75",
   "metadata": {
    "ExecuteTime": {
     "end_time": "2021-10-19T19:13:27.006268Z",
     "start_time": "2021-10-19T19:13:23.701505Z"
    }
   },
   "outputs": [],
   "source": [
    "Map2.addLayer(NDVI_1986_sn, vizParams, 'QMsn de NDVI 1986')\n",
    "Map2.addLayer(NDWI_1986_sn, vizParams, 'QMsn de NDWI 1986')\n",
    "Map2.addLayer(SAVI_1986_sn, vizParams, 'QMsn de SAVI 1986')\n",
    "Map2.addLayer(NDGI_1986_sn, vis_nieve, 'QMsn de NDGI 1986')\n",
    "Map2.addLayer(NDSI_1986_sn, vis_nieve, 'QMsn de NDSI 1986')\n",
    "# Map2"
   ]
  },
  {
   "cell_type": "markdown",
   "id": "b1fff37f",
   "metadata": {},
   "source": [
    "### 1987"
   ]
  },
  {
   "cell_type": "code",
   "execution_count": 39,
   "id": "ed8a2ed2",
   "metadata": {
    "ExecuteTime": {
     "end_time": "2021-10-19T19:13:27.009168Z",
     "start_time": "2021-10-19T19:13:27.007245Z"
    }
   },
   "outputs": [],
   "source": [
    "start_date = '1986-10-01'\n",
    "end_date = '1987-03-31'\n",
    "\n",
    "l5_1987 = ee.ImageCollection('LANDSAT/LT05/C01/T1_TOA') \\\n",
    "    .filterBounds(patagonia_grande) \\\n",
    "    .filterDate(start_date, end_date)"
   ]
  },
  {
   "cell_type": "code",
   "execution_count": 40,
   "id": "ac158dd0",
   "metadata": {
    "ExecuteTime": {
     "end_time": "2021-10-19T19:13:27.014111Z",
     "start_time": "2021-10-19T19:13:27.010016Z"
    }
   },
   "outputs": [],
   "source": [
    "coleccion1987 = l5_1987.map(addNDVI).map(addNDWI).map(addNDGI).map(addSAVI).map(addNDSI).map(addDate).map(addCloud)"
   ]
  },
  {
   "cell_type": "code",
   "execution_count": 41,
   "id": "531b33cd",
   "metadata": {
    "ExecuteTime": {
     "end_time": "2021-10-19T19:13:27.016898Z",
     "start_time": "2021-10-19T19:13:27.015056Z"
    }
   },
   "outputs": [],
   "source": [
    "QM_NDVI_1987 = coleccion1987.qualityMosaic('B11') # Normalized difference vegetation Index\n",
    "QM_NDWI_1987 = coleccion1987.qualityMosaic('NDWI') # Normalize difference water index\n",
    "QM_SAVI_1987 = coleccion1987.qualityMosaic('SAVI') # Soil Adjusted Vegetation Index \n",
    "QM_NDGI_1987 = coleccion1987.qualityMosaic('NDGI') # Normalized difference glacier index\n",
    "QM_NDSI_1987 = coleccion1987.qualityMosaic('NDSI') # Normalized difference snow index"
   ]
  },
  {
   "cell_type": "code",
   "execution_count": 42,
   "id": "22b9a628",
   "metadata": {
    "ExecuteTime": {
     "end_time": "2021-10-19T19:13:30.306413Z",
     "start_time": "2021-10-19T19:13:27.017862Z"
    }
   },
   "outputs": [
    {
     "data": {
      "application/vnd.jupyter.widget-view+json": {
       "model_id": "44423ae0a667467a96b7b406047633cf",
       "version_major": 2,
       "version_minor": 0
      },
      "text/plain": [
       "Map(center=[-45, -70], controls=(WidgetControl(options=['position', 'transparent_bg'], widget=HBox(children=(T…"
      ]
     },
     "metadata": {},
     "output_type": "display_data"
    }
   ],
   "source": [
    "Map3.addLayer(QM_NDVI_1987, vizParams, 'QM de NDVI 1987')\n",
    "Map3.addLayer(QM_NDWI_1987, vizParams, 'QM de NDWI 1987')\n",
    "Map3.addLayer(QM_SAVI_1987, vizParams, 'QM de SAVI 1987')\n",
    "Map3.addLayer(QM_NDGI_1987, vis_nieve, 'QM de NDGI 1987')\n",
    "Map3.addLayer(QM_NDSI_1987, vis_nieve, 'QM de NDSI 1987')\n",
    "Map3"
   ]
  },
  {
   "cell_type": "code",
   "execution_count": 43,
   "id": "37413530",
   "metadata": {
    "ExecuteTime": {
     "end_time": "2021-10-19T19:13:30.309481Z",
     "start_time": "2021-10-19T19:13:30.307209Z"
    }
   },
   "outputs": [],
   "source": [
    "c1987_sn = coleccion1987.map(Cloud20)\n",
    "NDVI_1987_sn = c1987_sn.qualityMosaic('B11')\n",
    "NDWI_1987_sn = c1987_sn.qualityMosaic('NDWI')\n",
    "SAVI_1987_sn = c1987_sn.qualityMosaic('SAVI')\n",
    "NDGI_1987_sn = c1987_sn.qualityMosaic('NDGI')\n",
    "NDSI_1987_sn = c1987_sn.qualityMosaic('NDSI')"
   ]
  },
  {
   "cell_type": "code",
   "execution_count": 44,
   "id": "ee1a2de2",
   "metadata": {
    "ExecuteTime": {
     "end_time": "2021-10-19T19:13:33.851119Z",
     "start_time": "2021-10-19T19:13:30.310343Z"
    }
   },
   "outputs": [
    {
     "data": {
      "application/vnd.jupyter.widget-view+json": {
       "model_id": "75f7a516a1d3438382d62067ffebbd7e",
       "version_major": 2,
       "version_minor": 0
      },
      "text/plain": [
       "Map(center=[-45, -70], controls=(WidgetControl(options=['position', 'transparent_bg'], widget=HBox(children=(T…"
      ]
     },
     "metadata": {},
     "output_type": "display_data"
    }
   ],
   "source": [
    "Map4.addLayer(NDVI_1987_sn, vizParams, 'QMsn de NDVI 1987')\n",
    "Map4.addLayer(NDWI_1987_sn, vizParams, 'QMsn de NDWI 1987')\n",
    "Map4.addLayer(SAVI_1987_sn, vizParams, 'QMsn de SAVI 1987')\n",
    "Map4.addLayer(NDGI_1987_sn, vis_nieve, 'QMsn de NDGI 1987')\n",
    "Map4.addLayer(NDSI_1987_sn, vis_nieve, 'QMsn de NDSI 1987')\n",
    "Map4"
   ]
  },
  {
   "cell_type": "markdown",
   "id": "d9e7e175",
   "metadata": {},
   "source": [
    "### 1988"
   ]
  },
  {
   "cell_type": "code",
   "execution_count": 45,
   "id": "80911c97",
   "metadata": {
    "ExecuteTime": {
     "end_time": "2021-10-19T19:13:33.854025Z",
     "start_time": "2021-10-19T19:13:33.852059Z"
    }
   },
   "outputs": [],
   "source": [
    "start_date = '1987-10-01'\n",
    "end_date = '1988-03-31'\n",
    "\n",
    "l5_1988 = ee.ImageCollection('LANDSAT/LT05/C01/T1_TOA') \\\n",
    "    .filterBounds(patagonia_grande) \\\n",
    "    .filterDate(start_date, end_date)"
   ]
  },
  {
   "cell_type": "code",
   "execution_count": 46,
   "id": "596d9609",
   "metadata": {
    "ExecuteTime": {
     "end_time": "2021-10-19T19:13:33.858714Z",
     "start_time": "2021-10-19T19:13:33.854819Z"
    }
   },
   "outputs": [],
   "source": [
    "coleccion1988 = l5_1988.map(addNDVI).map(addNDWI).map(addNDGI).map(addSAVI).map(addNDSI).map(addDate).map(addCloud)"
   ]
  },
  {
   "cell_type": "code",
   "execution_count": 47,
   "id": "67b699eb",
   "metadata": {
    "ExecuteTime": {
     "end_time": "2021-10-19T19:13:33.861806Z",
     "start_time": "2021-10-19T19:13:33.859935Z"
    }
   },
   "outputs": [],
   "source": [
    "QM_NDVI_1988 = coleccion1988.qualityMosaic('B11') # Normalized difference vegetation Index\n",
    "QM_NDWI_1988 = coleccion1988.qualityMosaic('NDWI') # Normalize difference water index\n",
    "QM_SAVI_1988 = coleccion1988.qualityMosaic('SAVI') # Soil Adjusted Vegetation Index \n",
    "QM_NDGI_1988 = coleccion1988.qualityMosaic('NDGI') # Normalized difference glacier index\n",
    "QM_NDSI_1988 = coleccion1988.qualityMosaic('NDSI') # Normalized difference snow index"
   ]
  },
  {
   "cell_type": "code",
   "execution_count": 48,
   "id": "2698dd26",
   "metadata": {
    "ExecuteTime": {
     "end_time": "2021-10-19T19:13:37.285949Z",
     "start_time": "2021-10-19T19:13:33.862684Z"
    }
   },
   "outputs": [
    {
     "data": {
      "application/vnd.jupyter.widget-view+json": {
       "model_id": "44423ae0a667467a96b7b406047633cf",
       "version_major": 2,
       "version_minor": 0
      },
      "text/plain": [
       "Map(center=[-45, -70], controls=(WidgetControl(options=['position', 'transparent_bg'], widget=HBox(children=(T…"
      ]
     },
     "metadata": {},
     "output_type": "display_data"
    }
   ],
   "source": [
    "Map3.addLayer(QM_NDVI_1988, vizParams, 'QM de NDVI 1988')\n",
    "Map3.addLayer(QM_NDWI_1988, vizParams, 'QM de NDWI 1988')\n",
    "Map3.addLayer(QM_SAVI_1988, vizParams, 'QM de SAVI 1988')\n",
    "Map3.addLayer(QM_NDGI_1988, vis_nieve, 'QM de NDGI 1988')\n",
    "Map3.addLayer(QM_NDSI_1988, vis_nieve, 'QM de NDSI 1988')\n",
    "Map3"
   ]
  },
  {
   "cell_type": "code",
   "execution_count": 49,
   "id": "ff28e9e5",
   "metadata": {
    "ExecuteTime": {
     "end_time": "2021-10-19T19:13:37.289485Z",
     "start_time": "2021-10-19T19:13:37.286973Z"
    }
   },
   "outputs": [],
   "source": [
    "c1988_sn = coleccion1988.map(Cloud20)\n",
    "NDVI_1988_sn = c1988_sn.qualityMosaic('B11')\n",
    "NDWI_1988_sn = c1988_sn.qualityMosaic('NDWI')\n",
    "SAVI_1988_sn = c1988_sn.qualityMosaic('SAVI')\n",
    "NDGI_1988_sn = c1988_sn.qualityMosaic('NDGI')\n",
    "NDSI_1988_sn = c1988_sn.qualityMosaic('NDSI')"
   ]
  },
  {
   "cell_type": "code",
   "execution_count": 50,
   "id": "56dedb0c",
   "metadata": {
    "ExecuteTime": {
     "end_time": "2021-10-19T19:13:40.689232Z",
     "start_time": "2021-10-19T19:13:37.290594Z"
    }
   },
   "outputs": [],
   "source": [
    "Map4.addLayer(NDVI_1988_sn, vizParams, 'QMsn de NDVI 1988')\n",
    "Map4.addLayer(NDWI_1988_sn, vizParams, 'QMsn de NDWI 1988')\n",
    "Map4.addLayer(SAVI_1988_sn, vizParams, 'QMsn de SAVI 1988')\n",
    "Map4.addLayer(NDGI_1988_sn, vis_nieve, 'QMsn de NDGI 1988')\n",
    "Map4.addLayer(NDSI_1988_sn, vis_nieve, 'QMsn de NDSI 1988')\n",
    "# Map4"
   ]
  },
  {
   "cell_type": "markdown",
   "id": "19f59336",
   "metadata": {},
   "source": [
    "### 1989"
   ]
  },
  {
   "cell_type": "code",
   "execution_count": 51,
   "id": "2d8f44b8",
   "metadata": {
    "ExecuteTime": {
     "end_time": "2021-10-19T19:13:40.691963Z",
     "start_time": "2021-10-19T19:13:40.690347Z"
    }
   },
   "outputs": [],
   "source": [
    "start_date = '1988-10-01'\n",
    "end_date = '1989-03-31'\n",
    "\n",
    "l5_1989 = ee.ImageCollection('LANDSAT/LT05/C01/T1_TOA') \\\n",
    "    .filterBounds(patagonia_grande) \\\n",
    "    .filterDate(start_date, end_date)"
   ]
  },
  {
   "cell_type": "code",
   "execution_count": 52,
   "id": "e5f94824",
   "metadata": {
    "ExecuteTime": {
     "end_time": "2021-10-19T19:13:40.696511Z",
     "start_time": "2021-10-19T19:13:40.692885Z"
    }
   },
   "outputs": [],
   "source": [
    "coleccion1989 = l5_1989.map(addNDVI).map(addNDWI).map(addNDGI).map(addSAVI).map(addNDSI).map(addDate).map(addCloud)"
   ]
  },
  {
   "cell_type": "code",
   "execution_count": 53,
   "id": "452d3007",
   "metadata": {
    "ExecuteTime": {
     "end_time": "2021-10-19T19:13:40.699361Z",
     "start_time": "2021-10-19T19:13:40.697513Z"
    }
   },
   "outputs": [],
   "source": [
    "QM_NDVI_1989 = coleccion1989.qualityMosaic('B11') # Normalized difference vegetation Index\n",
    "QM_NDWI_1989 = coleccion1989.qualityMosaic('NDWI') # Normalize difference water index\n",
    "QM_SAVI_1989 = coleccion1989.qualityMosaic('SAVI') # Soil Adjusted Vegetation Index \n",
    "QM_NDGI_1989 = coleccion1989.qualityMosaic('NDGI') # Normalized difference glacier index\n",
    "QM_NDSI_1989 = coleccion1989.qualityMosaic('NDSI') # Normalized difference snow index"
   ]
  },
  {
   "cell_type": "code",
   "execution_count": 54,
   "id": "cf1389b6",
   "metadata": {
    "ExecuteTime": {
     "end_time": "2021-10-19T19:13:43.930792Z",
     "start_time": "2021-10-19T19:13:40.700248Z"
    }
   },
   "outputs": [
    {
     "data": {
      "application/vnd.jupyter.widget-view+json": {
       "model_id": "8f8e16b4e3ba495192db7676242c6765",
       "version_major": 2,
       "version_minor": 0
      },
      "text/plain": [
       "Map(center=[-45, -70], controls=(WidgetControl(options=['position', 'transparent_bg'], widget=HBox(children=(T…"
      ]
     },
     "metadata": {},
     "output_type": "display_data"
    }
   ],
   "source": [
    "Map5.addLayer(QM_NDVI_1989, vizParams, 'QM de NDVI 1989')\n",
    "Map5.addLayer(QM_NDWI_1989, vizParams, 'QM de NDWI 1989')\n",
    "Map5.addLayer(QM_SAVI_1989, vizParams, 'QM de SAVI 1989')\n",
    "Map5.addLayer(QM_NDGI_1989, vis_nieve, 'QM de NDGI 1989')\n",
    "Map5.addLayer(QM_NDSI_1989, vis_nieve, 'QM de NDSI 1989')\n",
    "Map5"
   ]
  },
  {
   "cell_type": "code",
   "execution_count": 55,
   "id": "6a7d5ff4",
   "metadata": {
    "ExecuteTime": {
     "end_time": "2021-10-19T19:13:43.933969Z",
     "start_time": "2021-10-19T19:13:43.931721Z"
    }
   },
   "outputs": [],
   "source": [
    "c1989_sn = coleccion1989.map(Cloud20)\n",
    "NDVI_1989_sn = c1989_sn.qualityMosaic('B11')\n",
    "NDWI_1989_sn = c1989_sn.qualityMosaic('NDWI')\n",
    "SAVI_1989_sn = c1989_sn.qualityMosaic('SAVI')\n",
    "NDGI_1989_sn = c1989_sn.qualityMosaic('NDGI')\n",
    "NDSI_1989_sn = c1989_sn.qualityMosaic('NDSI')"
   ]
  },
  {
   "cell_type": "code",
   "execution_count": 56,
   "id": "ec851683",
   "metadata": {
    "ExecuteTime": {
     "end_time": "2021-10-19T19:13:47.302372Z",
     "start_time": "2021-10-19T19:13:43.934691Z"
    }
   },
   "outputs": [],
   "source": [
    "Map6.addLayer(NDVI_1989_sn, vizParams, 'QMsn de NDVI 1989')\n",
    "Map6.addLayer(NDWI_1989_sn, vizParams, 'QMsn de NDWI 1989')\n",
    "Map6.addLayer(SAVI_1989_sn, vizParams, 'QMsn de SAVI 1989')\n",
    "Map6.addLayer(NDGI_1989_sn, vis_nieve, 'QMsn de NDGI 1989')\n",
    "Map6.addLayer(NDSI_1989_sn, vis_nieve, 'QMsn de NDSI 1989')\n",
    "# Map6"
   ]
  },
  {
   "cell_type": "markdown",
   "id": "e5a72c8e",
   "metadata": {},
   "source": [
    "### Colección agua"
   ]
  },
  {
   "cell_type": "code",
   "execution_count": 57,
   "id": "cad6736b",
   "metadata": {
    "ExecuteTime": {
     "end_time": "2021-10-19T19:13:47.305431Z",
     "start_time": "2021-10-19T19:13:47.303479Z"
    }
   },
   "outputs": [],
   "source": [
    "start_date = '1984-10-01'\n",
    "end_date = '1989-03-31'\n",
    "\n",
    "l5_sur = ee.ImageCollection('LANDSAT/LT05/C01/T1_TOA') \\\n",
    "    .filterBounds(patagonia_grande) \\\n",
    "    .filterDate(start_date, end_date)"
   ]
  },
  {
   "cell_type": "code",
   "execution_count": 58,
   "id": "bc193767",
   "metadata": {
    "ExecuteTime": {
     "end_time": "2021-10-19T19:13:47.310133Z",
     "start_time": "2021-10-19T19:13:47.306299Z"
    }
   },
   "outputs": [],
   "source": [
    "coleccionsur = l5_sur.map(addNDVI).map(addNDWI).map(addNDGI).map(addSAVI).map(addNDSI).map(addDate).map(addCloud)"
   ]
  },
  {
   "cell_type": "code",
   "execution_count": 59,
   "id": "6febb595",
   "metadata": {
    "ExecuteTime": {
     "end_time": "2021-10-19T19:13:47.313129Z",
     "start_time": "2021-10-19T19:13:47.311242Z"
    }
   },
   "outputs": [],
   "source": [
    "QM_NDVI_sur = coleccionsur.qualityMosaic('B11') # Normalized difference vegetation Index\n",
    "QM_NDWI_sur = coleccionsur.qualityMosaic('NDWI') # Normalize difference water index\n",
    "QM_SAVI_sur = coleccionsur.qualityMosaic('SAVI') # Soil Adjusted Vegetation Index \n",
    "QM_NDGI_sur = coleccionsur.qualityMosaic('NDGI') # Normalized difference glacier index\n",
    "QM_NDSI_sur = coleccionsur.qualityMosaic('NDSI') # Normalized difference snow index"
   ]
  },
  {
   "cell_type": "code",
   "execution_count": 60,
   "id": "bdf65d2d",
   "metadata": {
    "ExecuteTime": {
     "end_time": "2021-10-19T19:13:50.743310Z",
     "start_time": "2021-10-19T19:13:47.314132Z"
    }
   },
   "outputs": [
    {
     "data": {
      "application/vnd.jupyter.widget-view+json": {
       "model_id": "8f8e16b4e3ba495192db7676242c6765",
       "version_major": 2,
       "version_minor": 0
      },
      "text/plain": [
       "Map(center=[-45, -70], controls=(WidgetControl(options=['position', 'transparent_bg'], widget=HBox(children=(T…"
      ]
     },
     "metadata": {},
     "output_type": "display_data"
    }
   ],
   "source": [
    "Map5.addLayer(QM_NDVI_sur, vizParams, 'QM de NDVI sur')\n",
    "Map5.addLayer(QM_NDWI_sur, vizParams, 'QM de NDWI sur')\n",
    "Map5.addLayer(QM_SAVI_sur, vizParams, 'QM de SAVI sur')\n",
    "Map5.addLayer(QM_NDGI_sur, vis_nieve, 'QM de NDGI sur')\n",
    "Map5.addLayer(QM_NDSI_sur, vis_nieve, 'QM de NDSI sur')\n",
    "Map5"
   ]
  },
  {
   "cell_type": "code",
   "execution_count": 61,
   "id": "31ce5716",
   "metadata": {
    "ExecuteTime": {
     "end_time": "2021-10-19T19:13:50.746549Z",
     "start_time": "2021-10-19T19:13:50.744258Z"
    }
   },
   "outputs": [],
   "source": [
    "csur_sn = coleccionsur.map(Cloud20)\n",
    "NDVI_sur_sn = csur_sn.qualityMosaic('B11')\n",
    "NDWI_sur_sn = csur_sn.qualityMosaic('NDWI')\n",
    "SAVI_sur_sn = csur_sn.qualityMosaic('SAVI')\n",
    "NDGI_sur_sn = csur_sn.qualityMosaic('NDGI')\n",
    "NDSI_sur_sn = csur_sn.qualityMosaic('NDSI')"
   ]
  },
  {
   "cell_type": "code",
   "execution_count": 62,
   "id": "c16abbc8",
   "metadata": {
    "ExecuteTime": {
     "end_time": "2021-10-19T19:13:54.047310Z",
     "start_time": "2021-10-19T19:13:50.747763Z"
    }
   },
   "outputs": [],
   "source": [
    "Map6.addLayer(NDVI_sur_sn, vizParams, 'QMsn de NDVI sur')\n",
    "Map6.addLayer(NDWI_sur_sn, vizParams, 'QMsn de NDWI sur')\n",
    "Map6.addLayer(SAVI_sur_sn, vizParams, 'QMsn de SAVI sur')\n",
    "Map6.addLayer(NDGI_sur_sn, vis_nieve, 'QMsn de NDGI sur')\n",
    "Map6.addLayer(NDSI_sur_sn, vis_nieve, 'QMsn de NDSI sur')\n",
    "# Map6"
   ]
  },
  {
   "cell_type": "markdown",
   "id": "4f917302",
   "metadata": {},
   "source": [
    "### 1985 - 1989"
   ]
  },
  {
   "cell_type": "code",
   "execution_count": 63,
   "id": "e1011410",
   "metadata": {
    "ExecuteTime": {
     "end_time": "2021-10-19T19:13:54.050092Z",
     "start_time": "2021-10-19T19:13:54.048408Z"
    }
   },
   "outputs": [],
   "source": [
    "coleccion1985_1989 = ee.ImageCollection(l5_1989.merge(l5_1988).merge(l5_1987).merge(l5_1986).merge(l5_1985))"
   ]
  },
  {
   "cell_type": "code",
   "execution_count": 64,
   "id": "ffa5b510",
   "metadata": {
    "ExecuteTime": {
     "end_time": "2021-10-19T19:13:54.055139Z",
     "start_time": "2021-10-19T19:13:54.050813Z"
    }
   },
   "outputs": [],
   "source": [
    "l5_summer = coleccion1985_1989.map(addNDVI).map(addNDWI).map(addNDGI).map(addSAVI).map(addNDSI).map(addDate).map(addCloud)"
   ]
  },
  {
   "cell_type": "markdown",
   "id": "591b29d0",
   "metadata": {},
   "source": [
    "### Tier 1"
   ]
  },
  {
   "cell_type": "code",
   "execution_count": 65,
   "id": "8de79d7e",
   "metadata": {
    "ExecuteTime": {
     "end_time": "2021-10-19T19:13:54.057822Z",
     "start_time": "2021-10-19T19:13:54.056207Z"
    }
   },
   "outputs": [],
   "source": [
    "Tier1_sn = l5_summer.map(Cloud10)"
   ]
  },
  {
   "cell_type": "code",
   "execution_count": 66,
   "id": "600011a3",
   "metadata": {
    "ExecuteTime": {
     "end_time": "2021-10-19T19:13:54.061133Z",
     "start_time": "2021-10-19T19:13:54.058890Z"
    }
   },
   "outputs": [],
   "source": [
    "QM_NDVI_T1 = Tier1_sn.qualityMosaic('B11')# Normalized difference vegetation Index\n",
    "QM_NDWI_T1 = Tier1_sn.qualityMosaic('NDWI') # Normalize difference water index\n",
    "QM_SAVI_T1 = Tier1_sn.qualityMosaic('SAVI') # Soil Adjusted Vegetation Index \n",
    "QM_NDGI_T1 = Tier1_sn.qualityMosaic('NDGI') # Normalized difference glacier index\n",
    "QM_NDSI_T1 = Tier1_sn.qualityMosaic('NDSI') # Normalized difference snow index"
   ]
  },
  {
   "cell_type": "code",
   "execution_count": null,
   "id": "188fe3c3",
   "metadata": {},
   "outputs": [],
   "source": []
  },
  {
   "cell_type": "markdown",
   "id": "d2bb443e",
   "metadata": {},
   "source": [
    "### Tier 2"
   ]
  },
  {
   "cell_type": "code",
   "execution_count": 67,
   "id": "93d0c639",
   "metadata": {
    "ExecuteTime": {
     "end_time": "2021-10-19T19:13:54.063944Z",
     "start_time": "2021-10-19T19:13:54.062142Z"
    }
   },
   "outputs": [],
   "source": [
    "Tier2_sn = l5_summer.map(Cloud20)"
   ]
  },
  {
   "cell_type": "code",
   "execution_count": 68,
   "id": "1f18e9d2",
   "metadata": {
    "ExecuteTime": {
     "end_time": "2021-10-19T19:13:54.066749Z",
     "start_time": "2021-10-19T19:13:54.064955Z"
    }
   },
   "outputs": [],
   "source": [
    "QM_NDVI_T2 = Tier2_sn.qualityMosaic('B11')# Normalized difference vegetation Index\n",
    "QM_NDWI_T2 = Tier2_sn.qualityMosaic('NDWI') # Normalize difference water index\n",
    "QM_SAVI_T2 = Tier2_sn.qualityMosaic('SAVI') # Soil Adjusted Vegetation Index \n",
    "QM_NDGI_T2 = Tier2_sn.qualityMosaic('NDGI') # Normalized difference glacier index\n",
    "QM_NDSI_T2 = Tier2_sn.qualityMosaic('NDSI') # Normalized difference snow index"
   ]
  },
  {
   "cell_type": "code",
   "execution_count": null,
   "id": "762b05a8",
   "metadata": {},
   "outputs": [],
   "source": []
  },
  {
   "cell_type": "markdown",
   "id": "01cf5c64",
   "metadata": {},
   "source": [
    "### Tier 3"
   ]
  },
  {
   "cell_type": "code",
   "execution_count": 69,
   "id": "5106f6f7",
   "metadata": {
    "ExecuteTime": {
     "end_time": "2021-10-19T19:13:54.069433Z",
     "start_time": "2021-10-19T19:13:54.067649Z"
    }
   },
   "outputs": [],
   "source": [
    "Tier3_sn = l5_summer.map(Cloud30)"
   ]
  },
  {
   "cell_type": "code",
   "execution_count": 70,
   "id": "3ed9f87b",
   "metadata": {
    "ExecuteTime": {
     "end_time": "2021-10-19T19:13:54.072256Z",
     "start_time": "2021-10-19T19:13:54.070420Z"
    }
   },
   "outputs": [],
   "source": [
    "QM_NDVI_T3 = Tier3_sn.qualityMosaic('B11')# Normalized difference vegetation Index\n",
    "QM_NDWI_T3 = Tier3_sn.qualityMosaic('NDWI') # Normalize difference water index\n",
    "QM_SAVI_T3 = Tier3_sn.qualityMosaic('SAVI') # Soil Adjusted Vegetation Index \n",
    "QM_NDGI_T3 = Tier3_sn.qualityMosaic('NDGI') # Normalized difference glacier index\n",
    "QM_NDSI_T3 = Tier3_sn.qualityMosaic('NDSI') # Normalized difference snow index"
   ]
  },
  {
   "cell_type": "code",
   "execution_count": null,
   "id": "3b646cbe",
   "metadata": {},
   "outputs": [],
   "source": []
  },
  {
   "cell_type": "markdown",
   "id": "332cbbac",
   "metadata": {},
   "source": [
    "### Tier 4"
   ]
  },
  {
   "cell_type": "code",
   "execution_count": 71,
   "id": "dbacf051",
   "metadata": {
    "ExecuteTime": {
     "end_time": "2021-10-19T19:13:54.074890Z",
     "start_time": "2021-10-19T19:13:54.073130Z"
    }
   },
   "outputs": [],
   "source": [
    "Tier4_sn = l5_summer.map(Cloud40)"
   ]
  },
  {
   "cell_type": "code",
   "execution_count": 72,
   "id": "4f89d8f7",
   "metadata": {
    "ExecuteTime": {
     "end_time": "2021-10-19T19:13:54.077541Z",
     "start_time": "2021-10-19T19:13:54.075716Z"
    }
   },
   "outputs": [],
   "source": [
    "QM_NDVI_T4 = Tier4_sn.qualityMosaic('B11')# Normalized difference vegetation Index\n",
    "QM_NDWI_T4 = Tier4_sn.qualityMosaic('NDWI') # Normalize difference water index\n",
    "QM_SAVI_T4 = Tier4_sn.qualityMosaic('SAVI') # Soil Adjusted Vegetation Index \n",
    "QM_NDGI_T4 = Tier4_sn.qualityMosaic('NDGI') # Normalized difference glacier index\n",
    "QM_NDSI_T4 = Tier4_sn.qualityMosaic('NDSI') # Normalized difference snow index"
   ]
  },
  {
   "cell_type": "code",
   "execution_count": null,
   "id": "bef4f613",
   "metadata": {},
   "outputs": [],
   "source": []
  },
  {
   "cell_type": "markdown",
   "id": "dd7d911d",
   "metadata": {},
   "source": [
    "## Indices por colección"
   ]
  },
  {
   "cell_type": "markdown",
   "id": "4ea0a4cd",
   "metadata": {},
   "source": [
    "### Índices 1985"
   ]
  },
  {
   "cell_type": "code",
   "execution_count": 73,
   "id": "426dfca0",
   "metadata": {
    "ExecuteTime": {
     "end_time": "2021-10-19T19:13:54.080320Z",
     "start_time": "2021-10-19T19:13:54.078551Z"
    }
   },
   "outputs": [],
   "source": [
    "NDVI_1985 = NDVI_1985_sn.select('B11')\n",
    "NDWI_1985 = NDWI_1985_sn.select('NDWI') \n",
    "SAVI_1985 = SAVI_1985_sn.select('SAVI')\n",
    "NDGI_1985 = NDGI_1985_sn.select('NDGI')\n",
    "NDSI_1985 = NDSI_1985_sn.select('NDSI')"
   ]
  },
  {
   "cell_type": "code",
   "execution_count": 74,
   "id": "eaf84698",
   "metadata": {
    "ExecuteTime": {
     "end_time": "2021-10-19T19:13:56.105110Z",
     "start_time": "2021-10-19T19:13:54.081471Z"
    }
   },
   "outputs": [
    {
     "data": {
      "application/vnd.jupyter.widget-view+json": {
       "model_id": "2a96bd7640f845279127d56e4fbc53fd",
       "version_major": 2,
       "version_minor": 0
      },
      "text/plain": [
       "Map(center=[-45, -70], controls=(WidgetControl(options=['position', 'transparent_bg'], widget=HBox(children=(T…"
      ]
     },
     "metadata": {},
     "output_type": "display_data"
    }
   ],
   "source": [
    "Map7.addLayer(NDVI_1985, {'palette': color_terrain}, 'QMsn de NDVI 1985')\n",
    "Map7.addLayer(NDWI_1985, {'palette': color_ndwi}, 'QMsn de NDWI 1985')\n",
    "Map7.addLayer(SAVI_1985, {'palette': color_ndvi}, 'QMsn de SAVI 1985')\n",
    "# Map7.addLayer(NDGI_1985, {'palette': color_glaciar}, 'QMsn de NDGI 1985')\n",
    "# Map7.addLayer(NDSI_1985, {'palette': color_ndwi}, 'QMsn de NDSI 1985')\n",
    "Map7"
   ]
  },
  {
   "cell_type": "markdown",
   "id": "1e0309e1",
   "metadata": {},
   "source": [
    "### Índices 1986"
   ]
  },
  {
   "cell_type": "code",
   "execution_count": 75,
   "id": "cc1253c0",
   "metadata": {
    "ExecuteTime": {
     "end_time": "2021-10-19T19:13:56.107971Z",
     "start_time": "2021-10-19T19:13:56.105990Z"
    }
   },
   "outputs": [],
   "source": [
    "NDVI_1986 = NDVI_1986_sn.select('B11')\n",
    "NDWI_1986 = NDWI_1986_sn.select('NDWI') \n",
    "SAVI_1986 = SAVI_1986_sn.select('SAVI')\n",
    "NDGI_1986 = NDGI_1986_sn.select('NDGI')\n",
    "NDSI_1986 = NDSI_1986_sn.select('NDSI')"
   ]
  },
  {
   "cell_type": "code",
   "execution_count": 76,
   "id": "3e0524d7",
   "metadata": {
    "ExecuteTime": {
     "end_time": "2021-10-19T19:13:58.065991Z",
     "start_time": "2021-10-19T19:13:56.108810Z"
    }
   },
   "outputs": [
    {
     "data": {
      "application/vnd.jupyter.widget-view+json": {
       "model_id": "2a96bd7640f845279127d56e4fbc53fd",
       "version_major": 2,
       "version_minor": 0
      },
      "text/plain": [
       "Map(center=[-45, -70], controls=(WidgetControl(options=['position', 'transparent_bg'], widget=HBox(children=(T…"
      ]
     },
     "metadata": {},
     "output_type": "display_data"
    }
   ],
   "source": [
    "Map7.addLayer(NDVI_1986, {'palette': color_terrain}, 'QMsn de NDVI 1986')\n",
    "Map7.addLayer(NDWI_1986, {'palette': color_ndwi}, 'QMsn de NDWI 1986')\n",
    "Map7.addLayer(SAVI_1986, {'palette': color_ndvi}, 'QMsn de SAVI 1986')\n",
    "# Map7.addLayer(NDGI_1986, {'palette': color_glaciar}, 'QMsn de NDGI 1986')\n",
    "# Map7.addLayer(NDSI_1986, {'palette': color_ndwi}, 'QMsn de NDSI 1986')\n",
    "Map7"
   ]
  },
  {
   "cell_type": "markdown",
   "id": "4aee56c9",
   "metadata": {},
   "source": [
    "### Índices 1987"
   ]
  },
  {
   "cell_type": "code",
   "execution_count": 77,
   "id": "4a0a2445",
   "metadata": {
    "ExecuteTime": {
     "end_time": "2021-10-19T19:13:58.068764Z",
     "start_time": "2021-10-19T19:13:58.066984Z"
    }
   },
   "outputs": [],
   "source": [
    "NDVI_1987 = NDVI_1987_sn.select('B11')\n",
    "NDWI_1987 = NDWI_1987_sn.select('NDWI') \n",
    "SAVI_1987 = SAVI_1987_sn.select('SAVI')\n",
    "NDGI_1987 = NDGI_1987_sn.select('NDGI')\n",
    "NDSI_1987 = NDSI_1987_sn.select('NDSI')"
   ]
  },
  {
   "cell_type": "code",
   "execution_count": 78,
   "id": "144629ba",
   "metadata": {
    "ExecuteTime": {
     "end_time": "2021-10-19T19:13:58.072129Z",
     "start_time": "2021-10-19T19:13:58.069477Z"
    }
   },
   "outputs": [],
   "source": [
    "# Map8.addLayer(NDVI_1987, {'palette': color_terrain}, 'QMsn de NDVI 1987')\n",
    "# Map8.addLayer(NDWI_1987, {'palette': color_ndwi}, 'QMsn de NDWI 1987')\n",
    "# Map8.addLayer(SAVI_1987, {'palette': color_ndvi}, 'QMsn de SAVI 1987')\n",
    "# Map8.addLayer(NDGI_1987, {'palette': color_glaciar}, 'QMsn de NDGI 1987')\n",
    "# Map8.addLayer(NDSI_1987, {'palette': color_ndwi}, 'QMsn de NDSI 1987')\n",
    "# Map8"
   ]
  },
  {
   "cell_type": "markdown",
   "id": "e765cd19",
   "metadata": {},
   "source": [
    "### Índices 1988"
   ]
  },
  {
   "cell_type": "code",
   "execution_count": 79,
   "id": "b4275190",
   "metadata": {
    "ExecuteTime": {
     "end_time": "2021-10-19T19:13:58.074884Z",
     "start_time": "2021-10-19T19:13:58.073156Z"
    }
   },
   "outputs": [],
   "source": [
    "NDVI_1988 = NDVI_1988_sn.select('B11')\n",
    "NDWI_1988 = NDWI_1988_sn.select('NDWI') \n",
    "SAVI_1988 = SAVI_1988_sn.select('SAVI')\n",
    "NDGI_1988 = NDGI_1988_sn.select('NDGI')\n",
    "NDSI_1988 = NDSI_1988_sn.select('NDSI')"
   ]
  },
  {
   "cell_type": "code",
   "execution_count": 80,
   "id": "977e42e9",
   "metadata": {
    "ExecuteTime": {
     "end_time": "2021-10-19T19:13:58.077424Z",
     "start_time": "2021-10-19T19:13:58.075999Z"
    }
   },
   "outputs": [],
   "source": [
    "# Map8.addLayer(NDVI_1988, {'palette': color_terrain}, 'QMsn de NDVI 1988')\n",
    "# Map8.addLayer(NDWI_1988, {'palette': color_ndwi}, 'QMsn de NDWI 1988')\n",
    "# Map8.addLayer(SAVI_1988, {'palette': color_ndvi}, 'QMsn de SAVI 1988')\n",
    "# Map8.addLayer(NDGI_1988, {'palette': color_glaciar}, 'QMsn de NDGI 1988')\n",
    "# Map8.addLayer(NDSI_1988, {'palette': color_ndwi}, 'QMsn de NDSI 1988')\n",
    "# Map8"
   ]
  },
  {
   "cell_type": "markdown",
   "id": "58d5a86c",
   "metadata": {},
   "source": [
    "### Índices 1989"
   ]
  },
  {
   "cell_type": "code",
   "execution_count": 81,
   "id": "cbd5a65d",
   "metadata": {
    "ExecuteTime": {
     "end_time": "2021-10-19T19:13:58.080157Z",
     "start_time": "2021-10-19T19:13:58.078465Z"
    }
   },
   "outputs": [],
   "source": [
    "NDVI_1989 = NDVI_1989_sn.select('B11')\n",
    "NDWI_1989 = NDWI_1989_sn.select('NDWI') \n",
    "SAVI_1989 = SAVI_1989_sn.select('SAVI')\n",
    "NDGI_1989 = NDGI_1989_sn.select('NDGI')\n",
    "NDSI_1989 = NDSI_1989_sn.select('NDSI')"
   ]
  },
  {
   "cell_type": "code",
   "execution_count": 82,
   "id": "23ae96a6",
   "metadata": {
    "ExecuteTime": {
     "end_time": "2021-10-19T19:13:58.087411Z",
     "start_time": "2021-10-19T19:13:58.085936Z"
    }
   },
   "outputs": [],
   "source": [
    "# Map8.addLayer(NDVI_1989, {'palette': color_terrain}, 'QMsn de NDVI 1989')\n",
    "# Map8.addLayer(NDWI_1989, {'palette': color_ndwi}, 'QMsn de NDWI 1989')\n",
    "# Map8.addLayer(SAVI_1989, {'palette': color_ndvi}, 'QMsn de SAVI 1989')\n",
    "# Map8.addLayer(NDGI_1989, {'palette': color_glaciar}, 'QMsn de NDGI 1989')\n",
    "# Map8.addLayer(NDSI_1989, {'palette': color_ndwi}, 'QMsn de NDSI 1989')\n",
    "# Map8"
   ]
  },
  {
   "cell_type": "markdown",
   "id": "552ddf65",
   "metadata": {},
   "source": [
    "### Índices colección agua"
   ]
  },
  {
   "cell_type": "code",
   "execution_count": 83,
   "id": "bd6e70e1",
   "metadata": {
    "ExecuteTime": {
     "end_time": "2021-10-19T19:13:58.089969Z",
     "start_time": "2021-10-19T19:13:58.088202Z"
    }
   },
   "outputs": [],
   "source": [
    "NDVI_sur = NDVI_sur_sn.select('B11')\n",
    "NDWI_sur = NDWI_sur_sn.select('NDWI') \n",
    "SAVI_sur = SAVI_sur_sn.select('SAVI')\n",
    "NDGI_sur = NDGI_sur_sn.select('NDGI')\n",
    "NDSI_sur = NDSI_sur_sn.select('NDSI')"
   ]
  },
  {
   "cell_type": "code",
   "execution_count": 84,
   "id": "e550e4e0",
   "metadata": {
    "ExecuteTime": {
     "end_time": "2021-10-19T19:14:01.326982Z",
     "start_time": "2021-10-19T19:13:58.090874Z"
    }
   },
   "outputs": [
    {
     "data": {
      "application/vnd.jupyter.widget-view+json": {
       "model_id": "47ad2cb39716425e904d641a75529ac5",
       "version_major": 2,
       "version_minor": 0
      },
      "text/plain": [
       "Map(center=[-45, -70], controls=(WidgetControl(options=['position', 'transparent_bg'], widget=HBox(children=(T…"
      ]
     },
     "metadata": {},
     "output_type": "display_data"
    }
   ],
   "source": [
    "Map8.addLayer(NDVI_sur, {'palette': color_terrain}, 'QMsn de NDVI sur')\n",
    "Map8.addLayer(NDWI_sur, {'palette': color_ndwi}, 'QMsn de NDWI sur')\n",
    "Map8.addLayer(SAVI_sur, {'palette': color_ndvi}, 'QMsn de SAVI sur')\n",
    "Map8.addLayer(NDGI_sur, {'palette': color_glaciar}, 'QMsn de NDGI sur')\n",
    "Map8.addLayer(NDSI_sur, {'palette': color_ndwi}, 'QMsn de NDSI sur')\n",
    "Map8"
   ]
  },
  {
   "cell_type": "markdown",
   "id": "dd05e9e8",
   "metadata": {},
   "source": [
    "## Generación de Mosaico"
   ]
  },
  {
   "cell_type": "code",
   "execution_count": 85,
   "id": "8778db11",
   "metadata": {
    "ExecuteTime": {
     "end_time": "2021-10-19T19:14:01.329367Z",
     "start_time": "2021-10-19T19:14:01.327785Z"
    }
   },
   "outputs": [],
   "source": [
    "mosaic0= ee.ImageCollection([QM_NDVI_sur,QM_NDVI_1987]).mosaic()"
   ]
  },
  {
   "cell_type": "code",
   "execution_count": 86,
   "id": "a3f753d8",
   "metadata": {
    "ExecuteTime": {
     "end_time": "2021-10-19T19:14:01.332033Z",
     "start_time": "2021-10-19T19:14:01.330415Z"
    }
   },
   "outputs": [],
   "source": [
    "mosaic1 = ee.ImageCollection([mosaic0,QM_NDVI_1985]).mosaic()"
   ]
  },
  {
   "cell_type": "code",
   "execution_count": 87,
   "id": "78fe189d",
   "metadata": {
    "ExecuteTime": {
     "end_time": "2021-10-19T19:14:01.334935Z",
     "start_time": "2021-10-19T19:14:01.333062Z"
    }
   },
   "outputs": [],
   "source": [
    "mosaic2 = ee.ImageCollection([mosaic1,QM_NDVI_1986]).mosaic()"
   ]
  },
  {
   "cell_type": "code",
   "execution_count": 88,
   "id": "9b229098",
   "metadata": {
    "ExecuteTime": {
     "end_time": "2021-10-19T19:14:01.337333Z",
     "start_time": "2021-10-19T19:14:01.335784Z"
    }
   },
   "outputs": [],
   "source": [
    "mosaic2_landsat = mosaic2.set('SENSOR_ID', 'OLI_TIRS')"
   ]
  },
  {
   "cell_type": "code",
   "execution_count": 89,
   "id": "a98110ba",
   "metadata": {
    "ExecuteTime": {
     "end_time": "2021-10-19T19:14:01.339709Z",
     "start_time": "2021-10-19T19:14:01.338292Z"
    }
   },
   "outputs": [],
   "source": [
    "cloud_mosaic2 = ee.Algorithms.Landsat.simpleCloudScore(mosaic2_landsat)"
   ]
  },
  {
   "cell_type": "code",
   "execution_count": 90,
   "id": "745b712d",
   "metadata": {
    "ExecuteTime": {
     "end_time": "2021-10-19T19:14:01.342135Z",
     "start_time": "2021-10-19T19:14:01.340717Z"
    }
   },
   "outputs": [],
   "source": [
    "cloud_mosaic2 = cloud_mosaic2.select('cloud')"
   ]
  },
  {
   "cell_type": "code",
   "execution_count": 91,
   "id": "3351dfe9",
   "metadata": {
    "ExecuteTime": {
     "end_time": "2021-10-19T19:14:01.344484Z",
     "start_time": "2021-10-19T19:14:01.343063Z"
    }
   },
   "outputs": [],
   "source": [
    "palette_nubes = ['#1a9850', '#66bd63', '#a6d96a', '#d9ef8b', '#fee08b', '#fdae61', '#f46d43', '#d73027']"
   ]
  },
  {
   "cell_type": "code",
   "execution_count": 92,
   "id": "aa1c77e2",
   "metadata": {
    "ExecuteTime": {
     "end_time": "2021-10-19T19:14:01.346977Z",
     "start_time": "2021-10-19T19:14:01.345407Z"
    }
   },
   "outputs": [],
   "source": [
    "resultados= [cloud_mosaic2, mosaic2]\n",
    "vis_params2=  [\n",
    "    {'palette':palette_nubes}, \n",
    "    vizParams]\n",
    "labels = [\n",
    "    'Nubes 1985',\n",
    "    'QM NDVI 1985']"
   ]
  },
  {
   "cell_type": "code",
   "execution_count": 93,
   "id": "28e91129",
   "metadata": {
    "ExecuteTime": {
     "end_time": "2021-10-19T19:14:03.017286Z",
     "start_time": "2021-10-19T19:14:01.348156Z"
    }
   },
   "outputs": [
    {
     "data": {
      "application/vnd.jupyter.widget-view+json": {
       "model_id": "9c4d1092ba5d4bcfa1405bf1dd1e9acb",
       "version_major": 2,
       "version_minor": 0
      },
      "text/plain": [
       "GridspecLayout(children=(Output(layout=Layout(grid_area='widget001')), Output(layout=Layout(grid_area='widget0…"
      ]
     },
     "metadata": {},
     "output_type": "display_data"
    }
   ],
   "source": [
    "geemap.linked_maps(rows=1, cols=2, height=\"400px\", center=[-45, -75], zoom=4, \n",
    "                   ee_objects=resultados, vis_params=vis_params2, labels=labels, label_position=\"topright\")"
   ]
  },
  {
   "cell_type": "code",
   "execution_count": 94,
   "id": "93ea56bf",
   "metadata": {
    "ExecuteTime": {
     "end_time": "2021-10-19T19:14:03.019726Z",
     "start_time": "2021-10-19T19:14:03.018096Z"
    }
   },
   "outputs": [],
   "source": [
    "def llenado(image):\n",
    "    return image.where(cloud_mosaic2.gt(10),QM_NDVI_T1)"
   ]
  },
  {
   "cell_type": "code",
   "execution_count": 95,
   "id": "8287934f",
   "metadata": {
    "ExecuteTime": {
     "end_time": "2021-10-19T19:14:03.022515Z",
     "start_time": "2021-10-19T19:14:03.020430Z"
    }
   },
   "outputs": [],
   "source": [
    "img1 = llenado(mosaic2)"
   ]
  },
  {
   "cell_type": "code",
   "execution_count": 96,
   "id": "0ea4ebed",
   "metadata": {
    "ExecuteTime": {
     "end_time": "2021-10-19T19:14:03.025003Z",
     "start_time": "2021-10-19T19:14:03.023422Z"
    }
   },
   "outputs": [],
   "source": [
    "img1_landsat = img1.set('SENSOR_ID', 'OLI_TIRS')\n",
    "cloud_img1 = ee.Algorithms.Landsat.simpleCloudScore(img1_landsat)\n",
    "cloud_img1 = cloud_img1.select('cloud')"
   ]
  },
  {
   "cell_type": "code",
   "execution_count": 97,
   "id": "84dbb2d4",
   "metadata": {
    "ExecuteTime": {
     "end_time": "2021-10-19T19:14:03.027539Z",
     "start_time": "2021-10-19T19:14:03.026013Z"
    }
   },
   "outputs": [],
   "source": [
    "resultados= [cloud_img1, img1]\n",
    "vis_params2=  [\n",
    "    {'palette':palette_nubes}, \n",
    "    vizParams]\n",
    "labels = [\n",
    "    'Nubes Mosaico 1',\n",
    "    'Mosaico 1']"
   ]
  },
  {
   "cell_type": "code",
   "execution_count": 98,
   "id": "f3c2a996",
   "metadata": {
    "ExecuteTime": {
     "end_time": "2021-10-19T19:14:04.774702Z",
     "start_time": "2021-10-19T19:14:03.028464Z"
    }
   },
   "outputs": [
    {
     "data": {
      "application/vnd.jupyter.widget-view+json": {
       "model_id": "c7b57dee74eb4a2e8193a693df7c51dc",
       "version_major": 2,
       "version_minor": 0
      },
      "text/plain": [
       "GridspecLayout(children=(Output(layout=Layout(grid_area='widget001')), Output(layout=Layout(grid_area='widget0…"
      ]
     },
     "metadata": {},
     "output_type": "display_data"
    }
   ],
   "source": [
    "geemap.linked_maps(rows=1, cols=2, height=\"400px\", center=[-45, -75], zoom=4, \n",
    "                   ee_objects=resultados, vis_params=vis_params2, labels=labels, label_position=\"topright\")"
   ]
  },
  {
   "cell_type": "code",
   "execution_count": 99,
   "id": "9a243ac4",
   "metadata": {
    "ExecuteTime": {
     "end_time": "2021-10-19T19:14:04.777265Z",
     "start_time": "2021-10-19T19:14:04.775486Z"
    }
   },
   "outputs": [],
   "source": [
    "def llenado2(image):\n",
    "    return image.where(cloud_img1.gt(10), QM_NDVI_T2)"
   ]
  },
  {
   "cell_type": "code",
   "execution_count": 100,
   "id": "ada6d94e",
   "metadata": {
    "ExecuteTime": {
     "end_time": "2021-10-19T19:14:04.780171Z",
     "start_time": "2021-10-19T19:14:04.778129Z"
    }
   },
   "outputs": [],
   "source": [
    "img2 = llenado2(img1)"
   ]
  },
  {
   "cell_type": "code",
   "execution_count": 101,
   "id": "e3db0a52",
   "metadata": {
    "ExecuteTime": {
     "end_time": "2021-10-19T19:14:04.782883Z",
     "start_time": "2021-10-19T19:14:04.781266Z"
    }
   },
   "outputs": [],
   "source": [
    "img2_landsat = img2.set('SENSOR_ID', 'OLI_TIRS')\n",
    "cloud_img2 = ee.Algorithms.Landsat.simpleCloudScore(img2_landsat)\n",
    "cloud_img2 = cloud_img2.select('cloud')"
   ]
  },
  {
   "cell_type": "code",
   "execution_count": 102,
   "id": "42d22742",
   "metadata": {
    "ExecuteTime": {
     "end_time": "2021-10-19T19:14:04.785476Z",
     "start_time": "2021-10-19T19:14:04.783863Z"
    }
   },
   "outputs": [],
   "source": [
    "resultados= [cloud_img2, img2]\n",
    "vis_params2=  [\n",
    "    {'palette':palette_nubes}, \n",
    "    vizParams]\n",
    "labels = [\n",
    "    'Nubes Mosaico 2',\n",
    "    'Mosaico 2']"
   ]
  },
  {
   "cell_type": "code",
   "execution_count": 103,
   "id": "5bdcab8c",
   "metadata": {
    "ExecuteTime": {
     "end_time": "2021-10-19T19:14:06.548073Z",
     "start_time": "2021-10-19T19:14:04.786440Z"
    }
   },
   "outputs": [
    {
     "data": {
      "application/vnd.jupyter.widget-view+json": {
       "model_id": "5c34e7f110d743b9b38d1207dd0a9037",
       "version_major": 2,
       "version_minor": 0
      },
      "text/plain": [
       "GridspecLayout(children=(Output(layout=Layout(grid_area='widget001')), Output(layout=Layout(grid_area='widget0…"
      ]
     },
     "metadata": {},
     "output_type": "display_data"
    }
   ],
   "source": [
    "geemap.linked_maps(rows=1, cols=2, height=\"400px\", center=[-45, -75], zoom=4, \n",
    "                   ee_objects=resultados, vis_params=vis_params2, labels=labels, label_position=\"topright\")"
   ]
  },
  {
   "cell_type": "code",
   "execution_count": 104,
   "id": "ca5f91e2",
   "metadata": {
    "ExecuteTime": {
     "end_time": "2021-10-19T19:14:06.550506Z",
     "start_time": "2021-10-19T19:14:06.548939Z"
    }
   },
   "outputs": [],
   "source": [
    "def llenado3(image):\n",
    "    return image.where(cloud_img2.gt(10), QM_NDVI_T3)"
   ]
  },
  {
   "cell_type": "code",
   "execution_count": 105,
   "id": "f52fddee",
   "metadata": {
    "ExecuteTime": {
     "end_time": "2021-10-19T19:14:06.552942Z",
     "start_time": "2021-10-19T19:14:06.551561Z"
    }
   },
   "outputs": [],
   "source": [
    "img3 = llenado3(img2)"
   ]
  },
  {
   "cell_type": "code",
   "execution_count": 106,
   "id": "6d41d9d0",
   "metadata": {
    "ExecuteTime": {
     "end_time": "2021-10-19T19:14:06.555529Z",
     "start_time": "2021-10-19T19:14:06.553884Z"
    }
   },
   "outputs": [],
   "source": [
    "img3_landsat = img3.set('SENSOR_ID', 'OLI_TIRS')\n",
    "cloud_img3 = ee.Algorithms.Landsat.simpleCloudScore(img3_landsat)\n",
    "cloud_img3 = cloud_img3.select('cloud')"
   ]
  },
  {
   "cell_type": "code",
   "execution_count": 107,
   "id": "3a000d62",
   "metadata": {
    "ExecuteTime": {
     "end_time": "2021-10-19T19:14:06.557935Z",
     "start_time": "2021-10-19T19:14:06.556423Z"
    }
   },
   "outputs": [],
   "source": [
    "resultados= [cloud_img3, img3]\n",
    "vis_params2=  [\n",
    "    {'palette':palette_nubes}, \n",
    "    vizParams]\n",
    "labels = [\n",
    "    'Nubes Mosaico 3',\n",
    "    'Mosaico 3']"
   ]
  },
  {
   "cell_type": "code",
   "execution_count": 108,
   "id": "bf275ed6",
   "metadata": {
    "ExecuteTime": {
     "end_time": "2021-10-19T19:14:08.317060Z",
     "start_time": "2021-10-19T19:14:06.558817Z"
    }
   },
   "outputs": [
    {
     "data": {
      "application/vnd.jupyter.widget-view+json": {
       "model_id": "de8deb48116f4a82a0e4a64d151c04c9",
       "version_major": 2,
       "version_minor": 0
      },
      "text/plain": [
       "GridspecLayout(children=(Output(layout=Layout(grid_area='widget001')), Output(layout=Layout(grid_area='widget0…"
      ]
     },
     "metadata": {},
     "output_type": "display_data"
    }
   ],
   "source": [
    "geemap.linked_maps(rows=1, cols=2, height=\"400px\", center=[-45, -75], zoom=4, \n",
    "                   ee_objects=resultados, vis_params=vis_params2, labels=labels, label_position=\"topright\")"
   ]
  },
  {
   "cell_type": "code",
   "execution_count": 109,
   "id": "9d0daae9",
   "metadata": {
    "ExecuteTime": {
     "end_time": "2021-10-19T19:14:08.319422Z",
     "start_time": "2021-10-19T19:14:08.317853Z"
    }
   },
   "outputs": [],
   "source": [
    "def llenado4(image):\n",
    "    return image.where(cloud_img3.gt(10), QM_NDVI_T4)"
   ]
  },
  {
   "cell_type": "code",
   "execution_count": 110,
   "id": "d37f16d5",
   "metadata": {
    "ExecuteTime": {
     "end_time": "2021-10-19T19:14:08.322256Z",
     "start_time": "2021-10-19T19:14:08.320207Z"
    }
   },
   "outputs": [],
   "source": [
    "img4 = llenado4(img3)"
   ]
  },
  {
   "cell_type": "code",
   "execution_count": 111,
   "id": "540d60d8",
   "metadata": {
    "ExecuteTime": {
     "end_time": "2021-10-19T19:14:08.324873Z",
     "start_time": "2021-10-19T19:14:08.323210Z"
    }
   },
   "outputs": [],
   "source": [
    "img4_landsat = img4.set('SENSOR_ID', 'OLI_TIRS')\n",
    "cloud_img4 = ee.Algorithms.Landsat.simpleCloudScore(img4_landsat)\n",
    "cloud_img4 = cloud_img4.select('cloud')"
   ]
  },
  {
   "cell_type": "code",
   "execution_count": 112,
   "id": "3f0e9719",
   "metadata": {
    "ExecuteTime": {
     "end_time": "2021-10-19T19:14:08.327294Z",
     "start_time": "2021-10-19T19:14:08.325788Z"
    }
   },
   "outputs": [],
   "source": [
    "resultados= [cloud_img4, img4]\n",
    "vis_params2=  [\n",
    "    {'palette':palette_nubes}, \n",
    "    vizParams]\n",
    "labels = [\n",
    "    'Nubes Mosaico 4',\n",
    "    'Mosaico 4']"
   ]
  },
  {
   "cell_type": "code",
   "execution_count": 113,
   "id": "41d9a7b8",
   "metadata": {
    "ExecuteTime": {
     "end_time": "2021-10-19T19:14:10.110234Z",
     "start_time": "2021-10-19T19:14:08.328206Z"
    }
   },
   "outputs": [
    {
     "data": {
      "application/vnd.jupyter.widget-view+json": {
       "model_id": "e2fb3a82a9ec4a21a5935547f818afaf",
       "version_major": 2,
       "version_minor": 0
      },
      "text/plain": [
       "GridspecLayout(children=(Output(layout=Layout(grid_area='widget001')), Output(layout=Layout(grid_area='widget0…"
      ]
     },
     "metadata": {},
     "output_type": "display_data"
    }
   ],
   "source": [
    "geemap.linked_maps(rows=1, cols=2, height=\"400px\", center=[-45, -75], zoom=4, \n",
    "                   ee_objects=resultados, vis_params=vis_params2, labels=labels, label_position=\"topright\")"
   ]
  },
  {
   "cell_type": "code",
   "execution_count": 114,
   "id": "4b6d899d",
   "metadata": {
    "ExecuteTime": {
     "end_time": "2021-10-19T19:14:10.112733Z",
     "start_time": "2021-10-19T19:14:10.111205Z"
    }
   },
   "outputs": [],
   "source": [
    "hansenImage = ee.Image('UMD/hansen/global_forest_change_2015')\n",
    "datamask = hansenImage.select('datamask')"
   ]
  },
  {
   "cell_type": "code",
   "execution_count": 115,
   "id": "c93604cb",
   "metadata": {
    "ExecuteTime": {
     "end_time": "2021-10-19T19:14:10.115835Z",
     "start_time": "2021-10-19T19:14:10.113522Z"
    }
   },
   "outputs": [],
   "source": [
    "def llenado5(image):\n",
    "    return image.where(datamask.eq(2), QM_NDWI_T1)"
   ]
  },
  {
   "cell_type": "code",
   "execution_count": 116,
   "id": "59e1291c",
   "metadata": {
    "ExecuteTime": {
     "end_time": "2021-10-19T19:14:10.118445Z",
     "start_time": "2021-10-19T19:14:10.116873Z"
    }
   },
   "outputs": [],
   "source": [
    "img5 = llenado5(img4)"
   ]
  },
  {
   "cell_type": "code",
   "execution_count": 117,
   "id": "1b1462fa",
   "metadata": {
    "ExecuteTime": {
     "end_time": "2021-10-19T19:14:10.120910Z",
     "start_time": "2021-10-19T19:14:10.119299Z"
    }
   },
   "outputs": [],
   "source": [
    "img5_landsat = img5.set('SENSOR_ID', 'OLI_TIRS')\n",
    "cloud_img5 = ee.Algorithms.Landsat.simpleCloudScore(img5_landsat)\n",
    "cloud_img5 = cloud_img5.select('cloud')"
   ]
  },
  {
   "cell_type": "code",
   "execution_count": 118,
   "id": "14081f40",
   "metadata": {
    "ExecuteTime": {
     "end_time": "2021-10-19T19:14:10.123508Z",
     "start_time": "2021-10-19T19:14:10.121900Z"
    }
   },
   "outputs": [],
   "source": [
    "resultados= [cloud_img5, img5]\n",
    "vis_params2=  [\n",
    "    {'palette':palette_nubes}, \n",
    "    vizParams]\n",
    "labels = [\n",
    "    'Nubes Mosaico 5',\n",
    "    'Mosaico 5']"
   ]
  },
  {
   "cell_type": "code",
   "execution_count": 119,
   "id": "8593050e",
   "metadata": {
    "ExecuteTime": {
     "end_time": "2021-10-19T19:14:13.673404Z",
     "start_time": "2021-10-19T19:14:10.124484Z"
    }
   },
   "outputs": [
    {
     "data": {
      "application/vnd.jupyter.widget-view+json": {
       "model_id": "db7b09148dbf42a0a04291d7b8e27068",
       "version_major": 2,
       "version_minor": 0
      },
      "text/plain": [
       "GridspecLayout(children=(Output(layout=Layout(grid_area='widget001')), Output(layout=Layout(grid_area='widget0…"
      ]
     },
     "metadata": {},
     "output_type": "display_data"
    }
   ],
   "source": [
    "geemap.linked_maps(rows=1, cols=2, height=\"400px\", center=[-45, -75], zoom=4, \n",
    "                   ee_objects=resultados, vis_params=vis_params2, labels=labels, label_position=\"topright\")"
   ]
  },
  {
   "cell_type": "code",
   "execution_count": 120,
   "id": "0ea95f9b",
   "metadata": {
    "ExecuteTime": {
     "end_time": "2021-10-19T19:14:15.250384Z",
     "start_time": "2021-10-19T19:14:13.674202Z"
    }
   },
   "outputs": [
    {
     "data": {
      "application/vnd.jupyter.widget-view+json": {
       "model_id": "37a023d39b324c868959758ee3d992db",
       "version_major": 2,
       "version_minor": 0
      },
      "text/plain": [
       "Map(center=[-45, -70], controls=(WidgetControl(options=['position', 'transparent_bg'], widget=HBox(children=(T…"
      ]
     },
     "metadata": {},
     "output_type": "display_data"
    }
   ],
   "source": [
    "Map10.addLayer(img4, vizParams, 'Mosaico 5')\n",
    "Map10.addLayer(img5, vizParams, 'Mosaico 6')\n",
    "Map10"
   ]
  },
  {
   "cell_type": "code",
   "execution_count": 121,
   "id": "ea7390c2",
   "metadata": {
    "ExecuteTime": {
     "end_time": "2021-10-19T19:14:15.253111Z",
     "start_time": "2021-10-19T19:14:15.251359Z"
    }
   },
   "outputs": [],
   "source": [
    "img5 = img5.select(['B1','B2','B3','B4','B5','B6','B7'])"
   ]
  },
  {
   "cell_type": "code",
   "execution_count": 122,
   "id": "1b0eec80",
   "metadata": {
    "ExecuteTime": {
     "end_time": "2021-10-19T19:14:16.115835Z",
     "start_time": "2021-10-19T19:14:15.254273Z"
    }
   },
   "outputs": [
    {
     "name": "stdout",
     "output_type": "stream",
     "text": [
      "Exporting mosaico_1985 ...\n"
     ]
    }
   ],
   "source": [
    "geemap.ee_export_image_to_drive(img5, description='mosaico_1985', folder='export', region=patagonia_grande.geometry(), scale=30)"
   ]
  }
 ],
 "metadata": {
  "kernelspec": {
   "display_name": "Python 3 (ipykernel)",
   "language": "python",
   "name": "python3"
  },
  "language_info": {
   "codemirror_mode": {
    "name": "ipython",
    "version": 3
   },
   "file_extension": ".py",
   "mimetype": "text/x-python",
   "name": "python",
   "nbconvert_exporter": "python",
   "pygments_lexer": "ipython3",
   "version": "3.8.11"
  },
  "toc": {
   "base_numbering": 1,
   "nav_menu": {},
   "number_sections": true,
   "sideBar": true,
   "skip_h1_title": false,
   "title_cell": "Table of Contents",
   "title_sidebar": "Contents",
   "toc_cell": false,
   "toc_position": {
    "height": "calc(100% - 180px)",
    "left": "10px",
    "top": "150px",
    "width": "384px"
   },
   "toc_section_display": true,
   "toc_window_display": true
  },
  "varInspector": {
   "cols": {
    "lenName": 16,
    "lenType": 16,
    "lenVar": 40
   },
   "kernels_config": {
    "python": {
     "delete_cmd_postfix": "",
     "delete_cmd_prefix": "del ",
     "library": "var_list.py",
     "varRefreshCmd": "print(var_dic_list())"
    },
    "r": {
     "delete_cmd_postfix": ") ",
     "delete_cmd_prefix": "rm(",
     "library": "var_list.r",
     "varRefreshCmd": "cat(var_dic_list()) "
    }
   },
   "types_to_exclude": [
    "module",
    "function",
    "builtin_function_or_method",
    "instance",
    "_Feature"
   ],
   "window_display": false
  }
 },
 "nbformat": 4,
 "nbformat_minor": 5
}
