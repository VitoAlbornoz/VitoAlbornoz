{
 "cells": [
  {
   "cell_type": "markdown",
   "id": "c8ee7fef",
   "metadata": {},
   "source": [
    "# Mosaico 1985"
   ]
  },
  {
   "cell_type": "markdown",
   "id": "203f76ca",
   "metadata": {},
   "source": [
    "Script trabajado por Francisco Albornoz (2021-04-13) / Última modificación / Mosaicos Patagonia"
   ]
  },
  {
   "cell_type": "markdown",
   "id": "2fb5cdeb",
   "metadata": {},
   "source": [
    "2021-08-05 13:07:09 "
   ]
  },
  {
   "cell_type": "code",
   "execution_count": 142,
   "id": "3057c761",
   "metadata": {},
   "outputs": [],
   "source": [
    "import ee\n",
    "import geemap\n",
    "import geemap.chart as chart\n",
    "import os\n",
    "import folium"
   ]
  },
  {
   "cell_type": "markdown",
   "id": "1997eeb4",
   "metadata": {},
   "source": [
    "<img src=https://www.ecopaysen.cl/wp-content/uploads/2019/12/ecopaysen_marca_web.png>"
   ]
  },
  {
   "cell_type": "code",
   "execution_count": 143,
   "id": "fca49a56",
   "metadata": {},
   "outputs": [],
   "source": [
    "Map = geemap.Map(center = [-45, -70], zoom = 4)\n",
    "Map2 = geemap.Map(center = [-45, -70], zoom = 4)\n",
    "Map3 = geemap.Map(center = [-45, -70], zoom = 4)\n",
    "Map4 = geemap.Map(center = [-45, -70], zoom = 4)\n",
    "Map5 = geemap.Map(center = [-45, -70], zoom = 4)\n",
    "Map6 = geemap.Map(center = [-45, -70], zoom = 4)\n",
    "Map7 = geemap.Map(center = [-45, -70], zoom = 4)\n",
    "Map8 = geemap.Map(center = [-45, -70], zoom = 4)\n",
    "Map9 = geemap.Map(center = [-45, -70], zoom = 4)\n",
    "Map10 = geemap.Map(center = [-45, -70], zoom = 4)"
   ]
  },
  {
   "cell_type": "markdown",
   "id": "f26fe1a2",
   "metadata": {},
   "source": [
    "## Área de Estudio"
   ]
  },
  {
   "cell_type": "code",
   "execution_count": 144,
   "id": "2aae613d",
   "metadata": {},
   "outputs": [],
   "source": [
    "work_dir = os.path.expanduser('../../../Data/shapes/')\n",
    "patagonia = os.path.join(work_dir, 'patagonia_nueva.shp')\n",
    "patagonia_grande = geemap.shp_to_ee(patagonia)"
   ]
  },
  {
   "cell_type": "markdown",
   "id": "fa8e2fea",
   "metadata": {},
   "source": [
    "## Colors Bars"
   ]
  },
  {
   "cell_type": "code",
   "execution_count": 145,
   "id": "1efebd11",
   "metadata": {},
   "outputs": [],
   "source": [
    "import geemap.colormaps as cm"
   ]
  },
  {
   "cell_type": "code",
   "execution_count": 146,
   "id": "d159d70f",
   "metadata": {},
   "outputs": [],
   "source": [
    "# cm.palettes.terrain"
   ]
  },
  {
   "cell_type": "code",
   "execution_count": 147,
   "id": "fe999a91",
   "metadata": {},
   "outputs": [],
   "source": [
    "color_ndvi = cm.palettes.ndvi"
   ]
  },
  {
   "cell_type": "code",
   "execution_count": 148,
   "id": "05fb282a",
   "metadata": {},
   "outputs": [],
   "source": [
    "color_ndwi = cm.palettes.ndwi"
   ]
  },
  {
   "cell_type": "code",
   "execution_count": 149,
   "id": "68161910",
   "metadata": {},
   "outputs": [],
   "source": [
    "color_terrain = cm.palettes.terrain"
   ]
  },
  {
   "cell_type": "code",
   "execution_count": 150,
   "id": "8e99245f",
   "metadata": {},
   "outputs": [],
   "source": [
    "color_glaciar = cm.palettes.PuBuGn_r"
   ]
  },
  {
   "cell_type": "code",
   "execution_count": 151,
   "id": "92b8cf41",
   "metadata": {},
   "outputs": [],
   "source": [
    "color_nubes = cm.palettes.inferno"
   ]
  },
  {
   "cell_type": "code",
   "execution_count": 152,
   "id": "39930741",
   "metadata": {},
   "outputs": [],
   "source": [
    "# cm.list_colormaps()"
   ]
  },
  {
   "cell_type": "code",
   "execution_count": 153,
   "id": "0ce61cbe",
   "metadata": {},
   "outputs": [],
   "source": [
    "# cm.plot_colormaps(width=12, height=0.4)"
   ]
  },
  {
   "cell_type": "markdown",
   "id": "11666045",
   "metadata": {},
   "source": [
    "## Funciones"
   ]
  },
  {
   "cell_type": "code",
   "execution_count": 154,
   "id": "166db170",
   "metadata": {},
   "outputs": [],
   "source": [
    "def add_ee_layer(self, ee_image_object, vis_params, name):\n",
    "  map_id_dict = ee.Image(ee_image_object).getMapId(vis_params)\n",
    "  folium.raster_layers.TileLayer(\n",
    "      tiles=map_id_dict['tile_fetcher'].url_format,\n",
    "      attr='Map Data &copy; <a href=\"https://earthengine.google.com/\">Google Earth Engine</a>',\n",
    "      name=name,\n",
    "      overlay=True,\n",
    "      control=True\n",
    "  ).add_to(self)\n",
    "\n",
    "folium.Map.add_ee_layer = add_ee_layer"
   ]
  },
  {
   "cell_type": "code",
   "execution_count": 155,
   "id": "b9e1cdaf",
   "metadata": {},
   "outputs": [],
   "source": [
    "def addNDVI(image): \n",
    "    ndvi = image.normalizedDifference(['B4', 'B3']).rename('B11')\n",
    "    return image.addBands(ndvi)"
   ]
  },
  {
   "cell_type": "code",
   "execution_count": 156,
   "id": "ad105a37",
   "metadata": {},
   "outputs": [],
   "source": [
    "def addNDWI(image):\n",
    "    ndwi = image.normalizedDifference(['B2','B4']).rename('NDWI')\n",
    "    return image.addBands(ndwi)"
   ]
  },
  {
   "cell_type": "code",
   "execution_count": 157,
   "id": "afd5a921",
   "metadata": {},
   "outputs": [],
   "source": [
    "def addNDGI(image):\n",
    "    ndgi = image.normalizedDifference(['B2','B3']).rename('NDGI')\n",
    "    return image.addBands(ndgi)"
   ]
  },
  {
   "cell_type": "code",
   "execution_count": 158,
   "id": "786770f8",
   "metadata": {},
   "outputs": [],
   "source": [
    "def addSAVI(image):\n",
    "    savi = image.expression(\n",
    "        '((b4 - b3)/(b4 + b3 + 0.5))*1.5', {\n",
    "            'b3':image.select('B3'),\n",
    "            'b4':image.select('B4')\n",
    "        }) \n",
    "    savi= savi.rename('SAVI')\n",
    "    return image.addBands(savi)"
   ]
  },
  {
   "cell_type": "code",
   "execution_count": 159,
   "id": "cffb72aa",
   "metadata": {},
   "outputs": [],
   "source": [
    "def addNDSI(image):\n",
    "    ndsi = image.normalizedDifference(['B2','B5']).rename('NDSI')\n",
    "    return image.addBands(ndsi)"
   ]
  },
  {
   "cell_type": "code",
   "execution_count": 160,
   "id": "4889cabe",
   "metadata": {},
   "outputs": [],
   "source": [
    "def addDate(image):\n",
    "    img_date = ee.Date(image.date())\n",
    "    img_date = ee.Number.parse(img_date.format('YYYYMM'))\n",
    "    return image.addBands(ee.Image(img_date).rename('date').toInt())"
   ]
  },
  {
   "cell_type": "code",
   "execution_count": 161,
   "id": "3115c210",
   "metadata": {},
   "outputs": [],
   "source": [
    "def Cloud30(image):\n",
    "    scored = ee.Algorithms.Landsat.simpleCloudScore(image)\n",
    "    return image.updateMask(scored.select(['cloud']).lt(30)) "
   ]
  },
  {
   "cell_type": "code",
   "execution_count": 162,
   "id": "f86cf507",
   "metadata": {},
   "outputs": [],
   "source": [
    "def Cloud20(image):\n",
    "    scored = ee.Algorithms.Landsat.simpleCloudScore(image)\n",
    "    return image.updateMask(scored.select(['cloud']).lt(20)) "
   ]
  },
  {
   "cell_type": "code",
   "execution_count": 163,
   "id": "9d288b40",
   "metadata": {},
   "outputs": [],
   "source": [
    "def Cloud10(image):\n",
    "    scored = ee.Algorithms.Landsat.simpleCloudScore(image)\n",
    "    return image.updateMask(scored.select(['cloud']).lt(10))"
   ]
  },
  {
   "cell_type": "code",
   "execution_count": 164,
   "id": "92d6ba1b",
   "metadata": {},
   "outputs": [],
   "source": [
    "def addCloud(image):\n",
    "    nube = ee.Algorithms.Landsat.simpleCloudScore(image)\n",
    "    return image.addBands(ee.Image(nube.select(['cloud'])).rename('nube'))"
   ]
  },
  {
   "cell_type": "markdown",
   "id": "d9a442fb",
   "metadata": {},
   "source": [
    "## Colecciones"
   ]
  },
  {
   "cell_type": "markdown",
   "id": "93d1b620",
   "metadata": {},
   "source": [
    "### 1985"
   ]
  },
  {
   "cell_type": "code",
   "execution_count": 165,
   "id": "846c60d4",
   "metadata": {},
   "outputs": [],
   "source": [
    "start_date = '1984-10-01'\n",
    "end_date = '1985-03-31'\n",
    "\n",
    "l5_1985 = ee.ImageCollection('LANDSAT/LT05/C01/T1_TOA') \\\n",
    "    .filterBounds(patagonia_grande) \\\n",
    "    .filterDate(start_date, end_date)"
   ]
  },
  {
   "cell_type": "code",
   "execution_count": 166,
   "id": "ee974e97",
   "metadata": {},
   "outputs": [],
   "source": [
    "vizParams = {\n",
    "  'bands': ['B4', 'B3', 'B2'],\n",
    "  'min': 0,\n",
    "  'max': 0.5,\n",
    "  'gamma': [0.95, 1.1, 1]\n",
    "}"
   ]
  },
  {
   "cell_type": "code",
   "execution_count": 167,
   "id": "215db372",
   "metadata": {},
   "outputs": [],
   "source": [
    "vis_nieve = {\n",
    "  'bands': ['B5', 'B3', 'B2'],\n",
    "  'min': 0,\n",
    "  'max': 0.5,\n",
    "  'gamma': [0.95, 1.1, 1]\n",
    "}"
   ]
  },
  {
   "cell_type": "code",
   "execution_count": 168,
   "id": "d2d69a69",
   "metadata": {},
   "outputs": [],
   "source": [
    "coleccion1985 = l5_1985.map(addNDVI).map(addNDWI).map(addNDGI).map(addSAVI).map(addNDSI).map(addDate).map(addCloud)"
   ]
  },
  {
   "cell_type": "code",
   "execution_count": 169,
   "id": "787bf341",
   "metadata": {},
   "outputs": [],
   "source": [
    "QM_NDVI_1985 = coleccion1985.qualityMosaic('B11') # Normalized difference vegetation Index\n",
    "QM_NDWI_1985 = coleccion1985.qualityMosaic('NDWI') # Normalize difference water index\n",
    "QM_SAVI_1985 = coleccion1985.qualityMosaic('SAVI') # Soil Adjusted Vegetation Index \n",
    "QM_NDGI_1985 = coleccion1985.qualityMosaic('NDGI') # Normalized difference glacier index\n",
    "QM_NDSI_1985 = coleccion1985.qualityMosaic('NDSI') # Normalized difference snow index"
   ]
  },
  {
   "cell_type": "code",
   "execution_count": 170,
   "id": "f6d3a89c",
   "metadata": {},
   "outputs": [
    {
     "data": {
      "application/vnd.jupyter.widget-view+json": {
       "model_id": "31a4e6cd5eed4c3bb62fa3dc199f877d",
       "version_major": 2,
       "version_minor": 0
      },
      "text/plain": [
       "Map(center=[-45, -70], controls=(WidgetControl(options=['position', 'transparent_bg'], widget=HBox(children=(T…"
      ]
     },
     "metadata": {},
     "output_type": "display_data"
    }
   ],
   "source": [
    "Map.addLayer(QM_NDVI_1985, vizParams, 'QM de NDVI 1985')\n",
    "Map.addLayer(QM_NDWI_1985, vizParams, 'QM de NDWI 1985')\n",
    "Map.addLayer(QM_SAVI_1985, vizParams, 'QM de SAVI 1985')\n",
    "Map.addLayer(QM_NDGI_1985, vis_nieve, 'QM de NDGI 1985')\n",
    "Map.addLayer(QM_NDSI_1985, vis_nieve, 'QM de NDSI 1985')\n",
    "Map "
   ]
  },
  {
   "cell_type": "code",
   "execution_count": 171,
   "id": "3e82cc9a",
   "metadata": {},
   "outputs": [],
   "source": [
    "c1985_sn = coleccion1985.map(Cloud20)\n",
    "NDVI_1985_sn = c1985_sn.qualityMosaic('B11')\n",
    "NDWI_1985_sn = c1985_sn.qualityMosaic('NDWI')\n",
    "SAVI_1985_sn = c1985_sn.qualityMosaic('SAVI')\n",
    "NDGI_1985_sn = c1985_sn.qualityMosaic('NDGI')\n",
    "NDSI_1985_sn = c1985_sn.qualityMosaic('NDSI')"
   ]
  },
  {
   "cell_type": "code",
   "execution_count": 172,
   "id": "c6117665",
   "metadata": {},
   "outputs": [],
   "source": [
    "Map2.addLayer(NDVI_1985_sn, vizParams, 'QMsn de NDVI 1985')\n",
    "Map2.addLayer(NDWI_1985_sn, vizParams, 'QMsn de NDWI 1985')\n",
    "Map2.addLayer(SAVI_1985_sn, vizParams, 'QMsn de SAVI 1985')\n",
    "Map2.addLayer(NDGI_1985_sn, vis_nieve, 'QMsn de NDGI 1985')\n",
    "Map2.addLayer(NDSI_1985_sn, vis_nieve, 'QMsn de NDSI 1985')\n",
    "# Map2"
   ]
  },
  {
   "cell_type": "markdown",
   "id": "ccec25b0",
   "metadata": {},
   "source": [
    "### 1986"
   ]
  },
  {
   "cell_type": "code",
   "execution_count": 173,
   "id": "ef53f13a",
   "metadata": {},
   "outputs": [],
   "source": [
    "start_date = '1985-10-01'\n",
    "end_date = '1986-03-31'\n",
    "\n",
    "l5_1986 = ee.ImageCollection('LANDSAT/LT05/C01/T1_TOA') \\\n",
    "    .filterBounds(patagonia_grande) \\\n",
    "    .filterDate(start_date, end_date)"
   ]
  },
  {
   "cell_type": "code",
   "execution_count": 174,
   "id": "06a293d6",
   "metadata": {},
   "outputs": [],
   "source": [
    "coleccion1986 = l5_1986.map(addNDVI).map(addNDWI).map(addNDGI).map(addSAVI).map(addNDSI).map(addDate).map(addCloud)"
   ]
  },
  {
   "cell_type": "code",
   "execution_count": 175,
   "id": "f724bb1b",
   "metadata": {},
   "outputs": [],
   "source": [
    "QM_NDVI_1986 = coleccion1986.qualityMosaic('B11') # Normalized difference vegetation Index\n",
    "QM_NDWI_1986 = coleccion1986.qualityMosaic('NDWI') # Normalize difference water index\n",
    "QM_SAVI_1986 = coleccion1986.qualityMosaic('SAVI') # Soil Adjusted Vegetation Index \n",
    "QM_NDGI_1986 = coleccion1986.qualityMosaic('NDGI') # Normalized difference glacier index\n",
    "QM_NDSI_1986 = coleccion1986.qualityMosaic('NDSI') # Normalized difference snow index"
   ]
  },
  {
   "cell_type": "code",
   "execution_count": 176,
   "id": "6c001bbc",
   "metadata": {},
   "outputs": [
    {
     "data": {
      "application/vnd.jupyter.widget-view+json": {
       "model_id": "31a4e6cd5eed4c3bb62fa3dc199f877d",
       "version_major": 2,
       "version_minor": 0
      },
      "text/plain": [
       "Map(center=[-45, -70], controls=(WidgetControl(options=['position', 'transparent_bg'], widget=HBox(children=(T…"
      ]
     },
     "metadata": {},
     "output_type": "display_data"
    }
   ],
   "source": [
    "Map.addLayer(QM_NDVI_1986, vizParams, 'QM de NDVI 1986')\n",
    "Map.addLayer(QM_NDWI_1986, vizParams, 'QM de NDWI 1986')\n",
    "Map.addLayer(QM_SAVI_1986, vizParams, 'QM de SAVI 1986')\n",
    "Map.addLayer(QM_NDGI_1986, vis_nieve, 'QM de NDGI 1986')\n",
    "Map.addLayer(QM_NDSI_1986, vis_nieve, 'QM de NDSI 1986')\n",
    "Map "
   ]
  },
  {
   "cell_type": "code",
   "execution_count": 177,
   "id": "06eebe04",
   "metadata": {},
   "outputs": [],
   "source": [
    "c1986_sn = coleccion1986.map(Cloud20)\n",
    "NDVI_1986_sn = c1986_sn.qualityMosaic('B11')\n",
    "NDWI_1986_sn = c1986_sn.qualityMosaic('NDWI')\n",
    "SAVI_1986_sn = c1986_sn.qualityMosaic('SAVI')\n",
    "NDGI_1986_sn = c1986_sn.qualityMosaic('NDGI')\n",
    "NDSI_1986_sn = c1986_sn.qualityMosaic('NDSI')"
   ]
  },
  {
   "cell_type": "code",
   "execution_count": 178,
   "id": "7121bf75",
   "metadata": {},
   "outputs": [],
   "source": [
    "Map2.addLayer(NDVI_1986_sn, vizParams, 'QMsn de NDVI 1986')\n",
    "Map2.addLayer(NDWI_1986_sn, vizParams, 'QMsn de NDWI 1986')\n",
    "Map2.addLayer(SAVI_1986_sn, vizParams, 'QMsn de SAVI 1986')\n",
    "Map2.addLayer(NDGI_1986_sn, vis_nieve, 'QMsn de NDGI 1986')\n",
    "Map2.addLayer(NDSI_1986_sn, vis_nieve, 'QMsn de NDSI 1986')\n",
    "# Map2"
   ]
  },
  {
   "cell_type": "markdown",
   "id": "b1fff37f",
   "metadata": {},
   "source": [
    "### 1987"
   ]
  },
  {
   "cell_type": "code",
   "execution_count": 179,
   "id": "ed8a2ed2",
   "metadata": {},
   "outputs": [],
   "source": [
    "start_date = '1986-10-01'\n",
    "end_date = '1987-03-31'\n",
    "\n",
    "l5_1987 = ee.ImageCollection('LANDSAT/LT05/C01/T1_TOA') \\\n",
    "    .filterBounds(patagonia_grande) \\\n",
    "    .filterDate(start_date, end_date)"
   ]
  },
  {
   "cell_type": "code",
   "execution_count": 180,
   "id": "ac158dd0",
   "metadata": {},
   "outputs": [],
   "source": [
    "coleccion1987 = l5_1987.map(addNDVI).map(addNDWI).map(addNDGI).map(addSAVI).map(addNDSI).map(addDate).map(addCloud)"
   ]
  },
  {
   "cell_type": "code",
   "execution_count": 181,
   "id": "531b33cd",
   "metadata": {},
   "outputs": [],
   "source": [
    "QM_NDVI_1987 = coleccion1987.qualityMosaic('B11') # Normalized difference vegetation Index\n",
    "QM_NDWI_1987 = coleccion1987.qualityMosaic('NDWI') # Normalize difference water index\n",
    "QM_SAVI_1987 = coleccion1987.qualityMosaic('SAVI') # Soil Adjusted Vegetation Index \n",
    "QM_NDGI_1987 = coleccion1987.qualityMosaic('NDGI') # Normalized difference glacier index\n",
    "QM_NDSI_1987 = coleccion1987.qualityMosaic('NDSI') # Normalized difference snow index"
   ]
  },
  {
   "cell_type": "code",
   "execution_count": 182,
   "id": "22b9a628",
   "metadata": {},
   "outputs": [
    {
     "data": {
      "application/vnd.jupyter.widget-view+json": {
       "model_id": "1e5807b99fa6489f8483809a0bd8f3e1",
       "version_major": 2,
       "version_minor": 0
      },
      "text/plain": [
       "Map(center=[-45, -70], controls=(WidgetControl(options=['position', 'transparent_bg'], widget=HBox(children=(T…"
      ]
     },
     "metadata": {},
     "output_type": "display_data"
    }
   ],
   "source": [
    "Map3.addLayer(QM_NDVI_1987, vizParams, 'QM de NDVI 1987')\n",
    "Map3.addLayer(QM_NDWI_1987, vizParams, 'QM de NDWI 1987')\n",
    "Map3.addLayer(QM_SAVI_1987, vizParams, 'QM de SAVI 1987')\n",
    "Map3.addLayer(QM_NDGI_1987, vis_nieve, 'QM de NDGI 1987')\n",
    "Map3.addLayer(QM_NDSI_1987, vis_nieve, 'QM de NDSI 1987')\n",
    "Map3"
   ]
  },
  {
   "cell_type": "code",
   "execution_count": 183,
   "id": "37413530",
   "metadata": {},
   "outputs": [],
   "source": [
    "c1987_sn = coleccion1987.map(Cloud20)\n",
    "NDVI_1987_sn = c1987_sn.qualityMosaic('B11')\n",
    "NDWI_1987_sn = c1987_sn.qualityMosaic('NDWI')\n",
    "SAVI_1987_sn = c1987_sn.qualityMosaic('SAVI')\n",
    "NDGI_1987_sn = c1987_sn.qualityMosaic('NDGI')\n",
    "NDSI_1987_sn = c1987_sn.qualityMosaic('NDSI')"
   ]
  },
  {
   "cell_type": "code",
   "execution_count": 184,
   "id": "ee1a2de2",
   "metadata": {},
   "outputs": [
    {
     "data": {
      "application/vnd.jupyter.widget-view+json": {
       "model_id": "c067d5fbdcf14ee59a0c3ac4f2397e56",
       "version_major": 2,
       "version_minor": 0
      },
      "text/plain": [
       "Map(center=[-45, -70], controls=(WidgetControl(options=['position', 'transparent_bg'], widget=HBox(children=(T…"
      ]
     },
     "metadata": {},
     "output_type": "display_data"
    }
   ],
   "source": [
    "Map4.addLayer(NDVI_1987_sn, vizParams, 'QMsn de NDVI 1987')\n",
    "Map4.addLayer(NDWI_1987_sn, vizParams, 'QMsn de NDWI 1987')\n",
    "Map4.addLayer(SAVI_1987_sn, vizParams, 'QMsn de SAVI 1987')\n",
    "Map4.addLayer(NDGI_1987_sn, vis_nieve, 'QMsn de NDGI 1987')\n",
    "Map4.addLayer(NDSI_1987_sn, vis_nieve, 'QMsn de NDSI 1987')\n",
    "Map4"
   ]
  },
  {
   "cell_type": "markdown",
   "id": "d9e7e175",
   "metadata": {},
   "source": [
    "### 1988"
   ]
  },
  {
   "cell_type": "code",
   "execution_count": 185,
   "id": "80911c97",
   "metadata": {},
   "outputs": [],
   "source": [
    "start_date = '1987-10-01'\n",
    "end_date = '1988-03-31'\n",
    "\n",
    "l5_1988 = ee.ImageCollection('LANDSAT/LT05/C01/T1_TOA') \\\n",
    "    .filterBounds(patagonia_grande) \\\n",
    "    .filterDate(start_date, end_date)"
   ]
  },
  {
   "cell_type": "code",
   "execution_count": 186,
   "id": "596d9609",
   "metadata": {},
   "outputs": [],
   "source": [
    "coleccion1988 = l5_1988.map(addNDVI).map(addNDWI).map(addNDGI).map(addSAVI).map(addNDSI).map(addDate).map(addCloud)"
   ]
  },
  {
   "cell_type": "code",
   "execution_count": 187,
   "id": "67b699eb",
   "metadata": {},
   "outputs": [],
   "source": [
    "QM_NDVI_1988 = coleccion1988.qualityMosaic('B11') # Normalized difference vegetation Index\n",
    "QM_NDWI_1988 = coleccion1988.qualityMosaic('NDWI') # Normalize difference water index\n",
    "QM_SAVI_1988 = coleccion1988.qualityMosaic('SAVI') # Soil Adjusted Vegetation Index \n",
    "QM_NDGI_1988 = coleccion1988.qualityMosaic('NDGI') # Normalized difference glacier index\n",
    "QM_NDSI_1988 = coleccion1988.qualityMosaic('NDSI') # Normalized difference snow index"
   ]
  },
  {
   "cell_type": "code",
   "execution_count": 188,
   "id": "2698dd26",
   "metadata": {},
   "outputs": [],
   "source": [
    "Map3.addLayer(QM_NDVI_1988, vizParams, 'QM de NDVI 1988')\n",
    "Map3.addLayer(QM_NDWI_1988, vizParams, 'QM de NDWI 1988')\n",
    "Map3.addLayer(QM_SAVI_1988, vizParams, 'QM de SAVI 1988')\n",
    "Map3.addLayer(QM_NDGI_1988, vis_nieve, 'QM de NDGI 1988')\n",
    "Map3.addLayer(QM_NDSI_1988, vis_nieve, 'QM de NDSI 1988')\n",
    "# Map3"
   ]
  },
  {
   "cell_type": "code",
   "execution_count": 189,
   "id": "ff28e9e5",
   "metadata": {},
   "outputs": [],
   "source": [
    "c1988_sn = coleccion1988.map(Cloud20)\n",
    "NDVI_1988_sn = c1988_sn.qualityMosaic('B11')\n",
    "NDWI_1988_sn = c1988_sn.qualityMosaic('NDWI')\n",
    "SAVI_1988_sn = c1988_sn.qualityMosaic('SAVI')\n",
    "NDGI_1988_sn = c1988_sn.qualityMosaic('NDGI')\n",
    "NDSI_1988_sn = c1988_sn.qualityMosaic('NDSI')"
   ]
  },
  {
   "cell_type": "code",
   "execution_count": 190,
   "id": "56dedb0c",
   "metadata": {},
   "outputs": [],
   "source": [
    "Map4.addLayer(NDVI_1988_sn, vizParams, 'QMsn de NDVI 1988')\n",
    "Map4.addLayer(NDWI_1988_sn, vizParams, 'QMsn de NDWI 1988')\n",
    "Map4.addLayer(SAVI_1988_sn, vizParams, 'QMsn de SAVI 1988')\n",
    "Map4.addLayer(NDGI_1988_sn, vis_nieve, 'QMsn de NDGI 1988')\n",
    "Map4.addLayer(NDSI_1988_sn, vis_nieve, 'QMsn de NDSI 1988')\n",
    "# Map4"
   ]
  },
  {
   "cell_type": "markdown",
   "id": "19f59336",
   "metadata": {},
   "source": [
    "### 1999"
   ]
  },
  {
   "cell_type": "code",
   "execution_count": 191,
   "id": "2d8f44b8",
   "metadata": {},
   "outputs": [],
   "source": [
    "start_date = '1988-10-01'\n",
    "end_date = '1989-03-31'\n",
    "\n",
    "l5_1989 = ee.ImageCollection('LANDSAT/LT05/C01/T1_TOA') \\\n",
    "    .filterBounds(patagonia_grande) \\\n",
    "    .filterDate(start_date, end_date)"
   ]
  },
  {
   "cell_type": "code",
   "execution_count": 192,
   "id": "e5f94824",
   "metadata": {},
   "outputs": [],
   "source": [
    "coleccion1989 = l5_1989.map(addNDVI).map(addNDWI).map(addNDGI).map(addSAVI).map(addNDSI).map(addDate).map(addCloud)"
   ]
  },
  {
   "cell_type": "code",
   "execution_count": 193,
   "id": "452d3007",
   "metadata": {},
   "outputs": [],
   "source": [
    "QM_NDVI_1989 = coleccion1989.qualityMosaic('B11') # Normalized difference vegetation Index\n",
    "QM_NDWI_1989 = coleccion1989.qualityMosaic('NDWI') # Normalize difference water index\n",
    "QM_SAVI_1989 = coleccion1989.qualityMosaic('SAVI') # Soil Adjusted Vegetation Index \n",
    "QM_NDGI_1989 = coleccion1989.qualityMosaic('NDGI') # Normalized difference glacier index\n",
    "QM_NDSI_1989 = coleccion1989.qualityMosaic('NDSI') # Normalized difference snow index"
   ]
  },
  {
   "cell_type": "code",
   "execution_count": 194,
   "id": "cf1389b6",
   "metadata": {},
   "outputs": [],
   "source": [
    "Map3.addLayer(QM_NDVI_1989, vizParams, 'QM de NDVI 1989')\n",
    "Map3.addLayer(QM_NDWI_1989, vizParams, 'QM de NDWI 1989')\n",
    "Map3.addLayer(QM_SAVI_1989, vizParams, 'QM de SAVI 1989')\n",
    "Map3.addLayer(QM_NDGI_1989, vis_nieve, 'QM de NDGI 1989')\n",
    "Map3.addLayer(QM_NDSI_1989, vis_nieve, 'QM de NDSI 1989')\n",
    "# Map3"
   ]
  },
  {
   "cell_type": "code",
   "execution_count": 195,
   "id": "6a7d5ff4",
   "metadata": {},
   "outputs": [],
   "source": [
    "c1989_sn = coleccion1989.map(Cloud20)\n",
    "NDVI_1989_sn = c1989_sn.qualityMosaic('B11')\n",
    "NDWI_1989_sn = c1989_sn.qualityMosaic('NDWI')\n",
    "SAVI_1989_sn = c1989_sn.qualityMosaic('SAVI')\n",
    "NDGI_1989_sn = c1989_sn.qualityMosaic('NDGI')\n",
    "NDSI_1989_sn = c1989_sn.qualityMosaic('NDSI')"
   ]
  },
  {
   "cell_type": "code",
   "execution_count": 196,
   "id": "ec851683",
   "metadata": {},
   "outputs": [],
   "source": [
    "Map4.addLayer(NDVI_1989_sn, vizParams, 'QMsn de NDVI 1989')\n",
    "Map4.addLayer(NDWI_1989_sn, vizParams, 'QMsn de NDWI 1989')\n",
    "Map4.addLayer(SAVI_1989_sn, vizParams, 'QMsn de SAVI 1989')\n",
    "Map4.addLayer(NDGI_1989_sn, vis_nieve, 'QMsn de NDGI 1989')\n",
    "Map4.addLayer(NDSI_1989_sn, vis_nieve, 'QMsn de NDSI 1989')\n",
    "# Map4"
   ]
  },
  {
   "cell_type": "markdown",
   "id": "dd7d911d",
   "metadata": {},
   "source": [
    "## Indices por colección"
   ]
  },
  {
   "cell_type": "markdown",
   "id": "4ea0a4cd",
   "metadata": {},
   "source": [
    "### Índices 1985"
   ]
  },
  {
   "cell_type": "code",
   "execution_count": 197,
   "id": "426dfca0",
   "metadata": {},
   "outputs": [],
   "source": [
    "NDVI_1985 = NDVI_1985_sn.select('B11')\n",
    "NDWI_1985 = NDWI_1985_sn.select('NDWI') \n",
    "SAVI_1985 = SAVI_1985_sn.select('SAVI')\n",
    "NDGI_1985 = NDGI_1985_sn.select('NDGI')\n",
    "NDSI_1985 = NDSI_1985_sn.select('NDSI')"
   ]
  },
  {
   "cell_type": "code",
   "execution_count": 198,
   "id": "eaf84698",
   "metadata": {},
   "outputs": [
    {
     "data": {
      "application/vnd.jupyter.widget-view+json": {
       "model_id": "8cfff8dff34b444191a54536e1d056d4",
       "version_major": 2,
       "version_minor": 0
      },
      "text/plain": [
       "Map(center=[-45, -70], controls=(WidgetControl(options=['position', 'transparent_bg'], widget=HBox(children=(T…"
      ]
     },
     "metadata": {},
     "output_type": "display_data"
    }
   ],
   "source": [
    "Map7.addLayer(NDVI_1985, {'palette': color_terrain}, 'QMsn de NDVI 1985')\n",
    "Map7.addLayer(NDWI_1985, {'palette': color_ndwi}, 'QMsn de NDWI 1985')\n",
    "Map7.addLayer(SAVI_1985, {'palette': color_ndvi}, 'QMsn de SAVI 1985')\n",
    "# Map7.addLayer(NDGI_1985, {'palette': color_glaciar}, 'QMsn de NDGI 1985')\n",
    "# Map7.addLayer(NDSI_1985, {'palette': color_ndwi}, 'QMsn de NDSI 1985')\n",
    "Map7"
   ]
  },
  {
   "cell_type": "markdown",
   "id": "1e0309e1",
   "metadata": {},
   "source": [
    "### Índices 1986"
   ]
  },
  {
   "cell_type": "code",
   "execution_count": 199,
   "id": "cc1253c0",
   "metadata": {},
   "outputs": [],
   "source": [
    "NDVI_1986 = NDVI_1986_sn.select('B11')\n",
    "NDWI_1986 = NDWI_1986_sn.select('NDWI') \n",
    "SAVI_1986 = SAVI_1986_sn.select('SAVI')\n",
    "NDGI_1986 = NDGI_1986_sn.select('NDGI')\n",
    "NDSI_1986 = NDSI_1986_sn.select('NDSI')"
   ]
  },
  {
   "cell_type": "code",
   "execution_count": 200,
   "id": "3e0524d7",
   "metadata": {},
   "outputs": [
    {
     "data": {
      "application/vnd.jupyter.widget-view+json": {
       "model_id": "8cfff8dff34b444191a54536e1d056d4",
       "version_major": 2,
       "version_minor": 0
      },
      "text/plain": [
       "Map(center=[-45, -70], controls=(WidgetControl(options=['position', 'transparent_bg'], widget=HBox(children=(T…"
      ]
     },
     "metadata": {},
     "output_type": "display_data"
    }
   ],
   "source": [
    "Map7.addLayer(NDVI_1986, {'palette': color_terrain}, 'QMsn de NDVI 1986')\n",
    "Map7.addLayer(NDWI_1986, {'palette': color_ndwi}, 'QMsn de NDWI 1986')\n",
    "Map7.addLayer(SAVI_1986, {'palette': color_ndvi}, 'QMsn de SAVI 1986')\n",
    "# Map7.addLayer(NDGI_1986, {'palette': color_glaciar}, 'QMsn de NDGI 1986')\n",
    "# Map7.addLayer(NDSI_1986, {'palette': color_ndwi}, 'QMsn de NDSI 1986')\n",
    "Map7"
   ]
  },
  {
   "cell_type": "markdown",
   "id": "4aee56c9",
   "metadata": {},
   "source": [
    "### Índices 1987"
   ]
  },
  {
   "cell_type": "code",
   "execution_count": 201,
   "id": "4a0a2445",
   "metadata": {},
   "outputs": [],
   "source": [
    "NDVI_1987 = NDVI_1987_sn.select('B11')\n",
    "NDWI_1987 = NDWI_1987_sn.select('NDWI') \n",
    "SAVI_1987 = SAVI_1987_sn.select('SAVI')\n",
    "NDGI_1987 = NDGI_1987_sn.select('NDGI')\n",
    "NDSI_1987 = NDSI_1987_sn.select('NDSI')"
   ]
  },
  {
   "cell_type": "code",
   "execution_count": 202,
   "id": "144629ba",
   "metadata": {},
   "outputs": [],
   "source": [
    "# Map8.addLayer(NDVI_1987, {'palette': color_terrain}, 'QMsn de NDVI 1987')\n",
    "# Map8.addLayer(NDWI_1987, {'palette': color_ndwi}, 'QMsn de NDWI 1987')\n",
    "# Map8.addLayer(SAVI_1987, {'palette': color_ndvi}, 'QMsn de SAVI 1987')\n",
    "# Map8.addLayer(NDGI_1987, {'palette': color_glaciar}, 'QMsn de NDGI 1987')\n",
    "# Map8.addLayer(NDSI_1987, {'palette': color_ndwi}, 'QMsn de NDSI 1987')\n",
    "# Map8"
   ]
  },
  {
   "cell_type": "markdown",
   "id": "e765cd19",
   "metadata": {},
   "source": [
    "### Índices 1988"
   ]
  },
  {
   "cell_type": "code",
   "execution_count": 203,
   "id": "b4275190",
   "metadata": {},
   "outputs": [],
   "source": [
    "NDVI_1988 = NDVI_1988_sn.select('B11')\n",
    "NDWI_1988 = NDWI_1988_sn.select('NDWI') \n",
    "SAVI_1988 = SAVI_1988_sn.select('SAVI')\n",
    "NDGI_1988 = NDGI_1988_sn.select('NDGI')\n",
    "NDSI_1988 = NDSI_1988_sn.select('NDSI')"
   ]
  },
  {
   "cell_type": "code",
   "execution_count": 204,
   "id": "977e42e9",
   "metadata": {},
   "outputs": [],
   "source": [
    "# Map8.addLayer(NDVI_1988, {'palette': color_terrain}, 'QMsn de NDVI 1988')\n",
    "# Map8.addLayer(NDWI_1988, {'palette': color_ndwi}, 'QMsn de NDWI 1988')\n",
    "# Map8.addLayer(SAVI_1988, {'palette': color_ndvi}, 'QMsn de SAVI 1988')\n",
    "# Map8.addLayer(NDGI_1988, {'palette': color_glaciar}, 'QMsn de NDGI 1988')\n",
    "# Map8.addLayer(NDSI_1988, {'palette': color_ndwi}, 'QMsn de NDSI 1988')\n",
    "# Map8"
   ]
  },
  {
   "cell_type": "markdown",
   "id": "58d5a86c",
   "metadata": {},
   "source": [
    "### Índices 1989"
   ]
  },
  {
   "cell_type": "code",
   "execution_count": 205,
   "id": "cbd5a65d",
   "metadata": {},
   "outputs": [],
   "source": [
    "NDVI_1989 = NDVI_1989_sn.select('B11')\n",
    "NDWI_1989 = NDWI_1989_sn.select('NDWI') \n",
    "SAVI_1989 = SAVI_1989_sn.select('SAVI')\n",
    "NDGI_1989 = NDGI_1989_sn.select('NDGI')\n",
    "NDSI_1989 = NDSI_1989_sn.select('NDSI')"
   ]
  },
  {
   "cell_type": "code",
   "execution_count": 206,
   "id": "23ae96a6",
   "metadata": {},
   "outputs": [],
   "source": [
    "# Map8.addLayer(NDVI_1989, {'palette': color_terrain}, 'QMsn de NDVI 1989')\n",
    "# Map8.addLayer(NDWI_1989, {'palette': color_ndwi}, 'QMsn de NDWI 1989')\n",
    "# Map8.addLayer(SAVI_1989, {'palette': color_ndvi}, 'QMsn de SAVI 1989')\n",
    "# Map8.addLayer(NDGI_1989, {'palette': color_glaciar}, 'QMsn de NDGI 1989')\n",
    "# Map8.addLayer(NDSI_1989, {'palette': color_ndwi}, 'QMsn de NDSI 1989')\n",
    "# Map8"
   ]
  },
  {
   "cell_type": "markdown",
   "id": "dd05e9e8",
   "metadata": {},
   "source": [
    "## Generación de Mosaico"
   ]
  },
  {
   "cell_type": "code",
   "execution_count": 207,
   "id": "9b229098",
   "metadata": {},
   "outputs": [],
   "source": [
    "NDVI_1985_landsat = QM_NDVI_1985.set('SENSOR_ID', 'OLI_TIRS')"
   ]
  },
  {
   "cell_type": "code",
   "execution_count": 208,
   "id": "a98110ba",
   "metadata": {},
   "outputs": [],
   "source": [
    "cloud_1985 = ee.Algorithms.Landsat.simpleCloudScore(NDVI_1985_landsat)"
   ]
  },
  {
   "cell_type": "code",
   "execution_count": 209,
   "id": "745b712d",
   "metadata": {},
   "outputs": [],
   "source": [
    "cloud_1985 = cloud_1985.select('cloud')"
   ]
  },
  {
   "cell_type": "code",
   "execution_count": 210,
   "id": "3351dfe9",
   "metadata": {},
   "outputs": [],
   "source": [
    "palette_nubes = ['#1a9850', '#66bd63', '#a6d96a', '#d9ef8b', '#fee08b', '#fdae61', '#f46d43', '#d73027']"
   ]
  },
  {
   "cell_type": "code",
   "execution_count": 211,
   "id": "aa1c77e2",
   "metadata": {},
   "outputs": [],
   "source": [
    "resultados= [cloud_1985, QM_NDVI_1985]\n",
    "vis_params2=  [\n",
    "    {'palette':palette_nubes}, \n",
    "    vizParams]\n",
    "labels = [\n",
    "    'Nubes 1985',\n",
    "    'QM NDVI 1985']"
   ]
  },
  {
   "cell_type": "code",
   "execution_count": 212,
   "id": "28e91129",
   "metadata": {},
   "outputs": [
    {
     "data": {
      "application/vnd.jupyter.widget-view+json": {
       "model_id": "140e5263f5914c5b87b4303cb1c1924b",
       "version_major": 2,
       "version_minor": 0
      },
      "text/plain": [
       "GridspecLayout(children=(Output(layout=Layout(grid_area='widget001')), Output(layout=Layout(grid_area='widget0…"
      ]
     },
     "metadata": {},
     "output_type": "display_data"
    }
   ],
   "source": [
    "geemap.linked_maps(rows=1, cols=2, height=\"400px\", center=[-45, -75], zoom=4, \n",
    "                   ee_objects=resultados, vis_params=vis_params2, labels=labels, label_position=\"topright\")"
   ]
  },
  {
   "cell_type": "code",
   "execution_count": null,
   "id": "93ea56bf",
   "metadata": {},
   "outputs": [],
   "source": [
    "def llenado(image):\n",
    "    return image.where(cloud_2008.gt(20),NDVI_2008_sn)"
   ]
  },
  {
   "cell_type": "code",
   "execution_count": null,
   "id": "8287934f",
   "metadata": {},
   "outputs": [],
   "source": [
    "img1 = llenado(QM_NDVI_2021)"
   ]
  },
  {
   "cell_type": "code",
   "execution_count": null,
   "id": "0ea4ebed",
   "metadata": {},
   "outputs": [],
   "source": [
    "img1_landsat = img1.set('SENSOR_ID', 'OLI_TIRS')\n",
    "cloud_img1 = ee.Algorithms.Landsat.simpleCloudScore(img1_landsat)\n",
    "cloud_img1 = cloud_img1.select('cloud')"
   ]
  },
  {
   "cell_type": "code",
   "execution_count": null,
   "id": "84dbb2d4",
   "metadata": {},
   "outputs": [],
   "source": [
    "resultados= [cloud_img1, img1]\n",
    "vis_params2=  [\n",
    "    {'palette':palette_nubes}, \n",
    "    vizParams]\n",
    "labels = [\n",
    "    'Nubes Mosaico 1',\n",
    "    'Mosaico 1']"
   ]
  },
  {
   "cell_type": "code",
   "execution_count": null,
   "id": "f3c2a996",
   "metadata": {},
   "outputs": [],
   "source": [
    "geemap.linked_maps(rows=1, cols=2, height=\"400px\", center=[-45, -75], zoom=4, \n",
    "                   ee_objects=resultados, vis_params=vis_params2, labels=labels, label_position=\"topright\")"
   ]
  },
  {
   "cell_type": "code",
   "execution_count": null,
   "id": "9a243ac4",
   "metadata": {},
   "outputs": [],
   "source": [
    "def llenado2(image):\n",
    "    return image.where(cloud_img1.gt(20), NDVI_2020_sn)"
   ]
  },
  {
   "cell_type": "code",
   "execution_count": null,
   "id": "ada6d94e",
   "metadata": {},
   "outputs": [],
   "source": [
    "img2 = llenado2(img1)"
   ]
  },
  {
   "cell_type": "code",
   "execution_count": null,
   "id": "e3db0a52",
   "metadata": {},
   "outputs": [],
   "source": [
    "img2_landsat = img2.set('SENSOR_ID', 'OLI_TIRS')\n",
    "cloud_img2 = ee.Algorithms.Landsat.simpleCloudScore(img2_landsat)\n",
    "cloud_img2 = cloud_img2.select('cloud')"
   ]
  },
  {
   "cell_type": "code",
   "execution_count": null,
   "id": "42d22742",
   "metadata": {},
   "outputs": [],
   "source": [
    "resultados= [cloud_img2, img2]\n",
    "vis_params2=  [\n",
    "    {'palette':palette_nubes}, \n",
    "    vizParams]\n",
    "labels = [\n",
    "    'Nubes Mosaico 2',\n",
    "    'Mosaico 2']"
   ]
  },
  {
   "cell_type": "code",
   "execution_count": null,
   "id": "5bdcab8c",
   "metadata": {},
   "outputs": [],
   "source": [
    "geemap.linked_maps(rows=1, cols=2, height=\"400px\", center=[-45, -75], zoom=4, \n",
    "                   ee_objects=resultados, vis_params=vis_params2, labels=labels, label_position=\"topright\")"
   ]
  },
  {
   "cell_type": "code",
   "execution_count": null,
   "id": "ca5f91e2",
   "metadata": {},
   "outputs": [],
   "source": [
    "def llenado3(image):\n",
    "    return image.where(cloud_img2.gt(20), NDVI_2019_sn)"
   ]
  },
  {
   "cell_type": "code",
   "execution_count": null,
   "id": "f52fddee",
   "metadata": {},
   "outputs": [],
   "source": [
    "img3 = llenado3(img2)"
   ]
  },
  {
   "cell_type": "code",
   "execution_count": null,
   "id": "6d41d9d0",
   "metadata": {},
   "outputs": [],
   "source": [
    "img3_landsat = img3.set('SENSOR_ID', 'OLI_TIRS')\n",
    "cloud_img3 = ee.Algorithms.Landsat.simpleCloudScore(img3_landsat)\n",
    "cloud_img3 = cloud_img3.select('cloud')"
   ]
  },
  {
   "cell_type": "code",
   "execution_count": null,
   "id": "3a000d62",
   "metadata": {},
   "outputs": [],
   "source": [
    "resultados= [cloud_img3, img3]\n",
    "vis_params2=  [\n",
    "    {'palette':palette_nubes}, \n",
    "    vizParams]\n",
    "labels = [\n",
    "    'Nubes Mosaico 3',\n",
    "    'Mosaico 3']"
   ]
  },
  {
   "cell_type": "code",
   "execution_count": null,
   "id": "bf275ed6",
   "metadata": {},
   "outputs": [],
   "source": [
    "geemap.linked_maps(rows=1, cols=2, height=\"400px\", center=[-45, -75], zoom=4, \n",
    "                   ee_objects=resultados, vis_params=vis_params2, labels=labels, label_position=\"topright\")"
   ]
  },
  {
   "cell_type": "code",
   "execution_count": null,
   "id": "9d0daae9",
   "metadata": {},
   "outputs": [],
   "source": [
    "def llenado4(image):\n",
    "    return image.where(cloud_img3.gt(20), NDVI_2018_sn)"
   ]
  },
  {
   "cell_type": "code",
   "execution_count": null,
   "id": "d37f16d5",
   "metadata": {},
   "outputs": [],
   "source": [
    "img4 = llenado4(img3)"
   ]
  },
  {
   "cell_type": "code",
   "execution_count": null,
   "id": "540d60d8",
   "metadata": {},
   "outputs": [],
   "source": [
    "img4_landsat = img4.set('SENSOR_ID', 'OLI_TIRS')\n",
    "cloud_img4 = ee.Algorithms.Landsat.simpleCloudScore(img4_landsat)\n",
    "cloud_img4 = cloud_img4.select('cloud')"
   ]
  },
  {
   "cell_type": "code",
   "execution_count": null,
   "id": "3f0e9719",
   "metadata": {},
   "outputs": [],
   "source": [
    "resultados= [cloud_img4, img4]\n",
    "vis_params2=  [\n",
    "    {'palette':palette_nubes}, \n",
    "    vizParams]\n",
    "labels = [\n",
    "    'Nubes Mosaico 4',\n",
    "    'Mosaico 4']"
   ]
  },
  {
   "cell_type": "code",
   "execution_count": null,
   "id": "41d9a7b8",
   "metadata": {},
   "outputs": [],
   "source": [
    "geemap.linked_maps(rows=1, cols=2, height=\"400px\", center=[-45, -75], zoom=4, \n",
    "                   ee_objects=resultados, vis_params=vis_params2, labels=labels, label_position=\"topright\")"
   ]
  },
  {
   "cell_type": "code",
   "execution_count": null,
   "id": "c93604cb",
   "metadata": {},
   "outputs": [],
   "source": [
    "def llenado5(image):\n",
    "    return image.where(cloud_img4.gt(20), NDVI_2017_sn)"
   ]
  },
  {
   "cell_type": "code",
   "execution_count": null,
   "id": "59e1291c",
   "metadata": {},
   "outputs": [],
   "source": [
    "img5 = llenado5(img4)"
   ]
  },
  {
   "cell_type": "code",
   "execution_count": null,
   "id": "1b1462fa",
   "metadata": {},
   "outputs": [],
   "source": [
    "img5_landsat = img5.set('SENSOR_ID', 'OLI_TIRS')\n",
    "cloud_img5 = ee.Algorithms.Landsat.simpleCloudScore(img5_landsat)\n",
    "cloud_img5 = cloud_img5.select('cloud')"
   ]
  },
  {
   "cell_type": "code",
   "execution_count": null,
   "id": "14081f40",
   "metadata": {},
   "outputs": [],
   "source": [
    "resultados= [cloud_img5, img5]\n",
    "vis_params2=  [\n",
    "    {'palette':palette_nubes}, \n",
    "    vizParams]\n",
    "labels = [\n",
    "    'Nubes Mosaico 5',\n",
    "    'Mosaico 5']"
   ]
  },
  {
   "cell_type": "code",
   "execution_count": null,
   "id": "8593050e",
   "metadata": {},
   "outputs": [],
   "source": [
    "geemap.linked_maps(rows=1, cols=2, height=\"400px\", center=[-45, -75], zoom=4, \n",
    "                   ee_objects=resultados, vis_params=vis_params2, labels=labels, label_position=\"topright\")"
   ]
  },
  {
   "cell_type": "code",
   "execution_count": null,
   "id": "2e6b728e",
   "metadata": {},
   "outputs": [],
   "source": []
  }
 ],
 "metadata": {
  "kernelspec": {
   "display_name": "Python 3 (ipykernel)",
   "language": "python",
   "name": "python3"
  },
  "language_info": {
   "codemirror_mode": {
    "name": "ipython",
    "version": 3
   },
   "file_extension": ".py",
   "mimetype": "text/x-python",
   "name": "python",
   "nbconvert_exporter": "python",
   "pygments_lexer": "ipython3",
   "version": "3.9.2"
  },
  "toc": {
   "base_numbering": 1,
   "nav_menu": {},
   "number_sections": true,
   "sideBar": true,
   "skip_h1_title": false,
   "title_cell": "Table of Contents",
   "title_sidebar": "Contents",
   "toc_cell": false,
   "toc_position": {
    "height": "calc(100% - 180px)",
    "left": "10px",
    "top": "150px",
    "width": "384px"
   },
   "toc_section_display": true,
   "toc_window_display": true
  },
  "varInspector": {
   "cols": {
    "lenName": 16,
    "lenType": 16,
    "lenVar": 40
   },
   "kernels_config": {
    "python": {
     "delete_cmd_postfix": "",
     "delete_cmd_prefix": "del ",
     "library": "var_list.py",
     "varRefreshCmd": "print(var_dic_list())"
    },
    "r": {
     "delete_cmd_postfix": ") ",
     "delete_cmd_prefix": "rm(",
     "library": "var_list.r",
     "varRefreshCmd": "cat(var_dic_list()) "
    }
   },
   "types_to_exclude": [
    "module",
    "function",
    "builtin_function_or_method",
    "instance",
    "_Feature"
   ],
   "window_display": false
  }
 },
 "nbformat": 4,
 "nbformat_minor": 5
}
