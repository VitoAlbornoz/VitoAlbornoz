{
 "cells": [
  {
   "cell_type": "markdown",
   "id": "c8ee7fef",
   "metadata": {},
   "source": [
    "# Mosaico 2021"
   ]
  },
  {
   "cell_type": "markdown",
   "id": "203f76ca",
   "metadata": {},
   "source": [
    "Script trabajado por Francisco Albornoz (2021-04-13) / Última modificación / Mosaicos Patagonia"
   ]
  },
  {
   "cell_type": "markdown",
   "id": "2fb5cdeb",
   "metadata": {},
   "source": [
    "2021-08-05 13:07:09 "
   ]
  },
  {
   "cell_type": "code",
   "execution_count": 1,
   "id": "3057c761",
   "metadata": {
    "ExecuteTime": {
     "end_time": "2021-10-05T18:58:41.583954Z",
     "start_time": "2021-10-05T18:58:40.653493Z"
    }
   },
   "outputs": [],
   "source": [
    "import ee\n",
    "import geemap\n",
    "import geemap.chart as chart\n",
    "import os\n",
    "import folium\n",
    "import xarray_leaflet\n",
    "import rasterio \n",
    "from rasterio import plot\n",
    "import matplotlib.pyplot as plt\n",
    "import numpy as np\n",
    "%matplotlib inline"
   ]
  },
  {
   "cell_type": "markdown",
   "id": "1997eeb4",
   "metadata": {},
   "source": [
    "<img src=https://www.ecopaysen.cl/wp-content/uploads/2019/12/ecopaysen_marca_web.png>"
   ]
  },
  {
   "cell_type": "code",
   "execution_count": 2,
   "id": "fca49a56",
   "metadata": {
    "ExecuteTime": {
     "end_time": "2021-10-05T18:58:52.736248Z",
     "start_time": "2021-10-05T18:58:41.585349Z"
    }
   },
   "outputs": [],
   "source": [
    "Map = geemap.Map(center = [-45, -70], zoom = 4)\n",
    "Map1 = geemap.Map(center = [-45, -70], zoom = 4)\n",
    "Map2 = geemap.Map(center = [-45, -70], zoom = 4)\n",
    "Map3 = geemap.Map(center = [-45, -70], zoom = 4)\n",
    "Map4 = geemap.Map(center = [-45, -70], zoom = 4)\n",
    "Map5 = geemap.Map(center = [-45, -70], zoom = 4)\n",
    "Map6 = geemap.Map(center = [-45, -70], zoom = 4)\n",
    "Map7 = geemap.Map(center = [-45, -70], zoom = 4)\n",
    "Map8 = geemap.Map(center = [-45, -70], zoom = 4)\n",
    "Map9 = geemap.Map(center = [-45, -70], zoom = 4)\n",
    "Map10 = geemap.Map(center = [-45, -70], zoom = 4)\n",
    "Map11 = geemap.Map(center = [-45, -70], zoom = 4)\n",
    "Map12 = geemap.Map(center = [-45, -70], zoom = 4)\n",
    "Map13 = geemap.Map(center = [-45, -70], zoom = 4)\n",
    "Map14 = geemap.Map(center = [-45, -70], zoom = 4)\n",
    "Map15 = geemap.Map(center = [-45, -70], zoom = 4)"
   ]
  },
  {
   "cell_type": "markdown",
   "id": "f26fe1a2",
   "metadata": {},
   "source": [
    "## Área de Estudio"
   ]
  },
  {
   "cell_type": "code",
   "execution_count": 3,
   "id": "2aae613d",
   "metadata": {
    "ExecuteTime": {
     "end_time": "2021-10-05T18:58:55.719731Z",
     "start_time": "2021-10-05T18:58:52.737041Z"
    }
   },
   "outputs": [],
   "source": [
    "work_dir = os.path.expanduser('../../../Data/shapes/')\n",
    "patagonia = os.path.join(work_dir, 'patagonia_geo.shp')\n",
    "patagonia_grande = geemap.shp_to_ee(patagonia)\n",
    "base1 = os.path.join(work_dir, 'base_geo.shp')\n",
    "base = geemap.shp_to_ee(base1)"
   ]
  },
  {
   "cell_type": "code",
   "execution_count": 4,
   "id": "ebd00a21",
   "metadata": {
    "ExecuteTime": {
     "end_time": "2021-10-05T18:59:02.359685Z",
     "start_time": "2021-10-05T18:58:55.720888Z"
    }
   },
   "outputs": [],
   "source": [
    "base2 = os.path.join(work_dir, 'base2.shp')\n",
    "base2 = geemap.shp_to_ee(base2)\n",
    "base3 = os.path.join(work_dir, 'base3.shp')\n",
    "base3 = geemap.shp_to_ee(base3)\n",
    "base4 = os.path.join(work_dir, 'base4.shp')\n",
    "base4 = geemap.shp_to_ee(base4)\n",
    "base5 = os.path.join(work_dir, 'base5.shp')\n",
    "base5 = geemap.shp_to_ee(base5)\n",
    "base6 = os.path.join(work_dir, 'base6.shp')\n",
    "base6 = geemap.shp_to_ee(base6)"
   ]
  },
  {
   "cell_type": "code",
   "execution_count": 5,
   "id": "833630fa",
   "metadata": {
    "ExecuteTime": {
     "end_time": "2021-10-05T18:59:03.990093Z",
     "start_time": "2021-10-05T18:59:02.360495Z"
    }
   },
   "outputs": [],
   "source": [
    "geometria_base = os.path.join(work_dir, 'mapa_base_dis.shp') \n",
    "geometria_base = geemap.shp_to_ee(geometria_base)"
   ]
  },
  {
   "cell_type": "code",
   "execution_count": 6,
   "id": "8968a576",
   "metadata": {
    "ExecuteTime": {
     "end_time": "2021-10-05T18:59:05.354714Z",
     "start_time": "2021-10-05T18:59:03.991401Z"
    }
   },
   "outputs": [],
   "source": [
    "geometria_base2 = os.path.join(work_dir, 'area_base2_dis.shp') \n",
    "geometria_base2 = geemap.shp_to_ee(geometria_base2)"
   ]
  },
  {
   "cell_type": "markdown",
   "id": "fa8e2fea",
   "metadata": {},
   "source": [
    "## Colors Bars"
   ]
  },
  {
   "cell_type": "code",
   "execution_count": 7,
   "id": "1efebd11",
   "metadata": {
    "ExecuteTime": {
     "end_time": "2021-10-05T18:59:06.229670Z",
     "start_time": "2021-10-05T18:59:05.355680Z"
    }
   },
   "outputs": [],
   "source": [
    "import geemap.colormaps as cm"
   ]
  },
  {
   "cell_type": "code",
   "execution_count": 8,
   "id": "d159d70f",
   "metadata": {
    "ExecuteTime": {
     "end_time": "2021-10-05T18:59:06.232313Z",
     "start_time": "2021-10-05T18:59:06.230713Z"
    }
   },
   "outputs": [],
   "source": [
    "# cm.palettes.terrain"
   ]
  },
  {
   "cell_type": "code",
   "execution_count": 9,
   "id": "fe999a91",
   "metadata": {
    "ExecuteTime": {
     "end_time": "2021-10-05T18:59:06.237521Z",
     "start_time": "2021-10-05T18:59:06.233067Z"
    }
   },
   "outputs": [],
   "source": [
    "color_ndvi = cm.palettes.ndvi"
   ]
  },
  {
   "cell_type": "code",
   "execution_count": 10,
   "id": "05fb282a",
   "metadata": {
    "ExecuteTime": {
     "end_time": "2021-10-05T18:59:06.240748Z",
     "start_time": "2021-10-05T18:59:06.239223Z"
    }
   },
   "outputs": [],
   "source": [
    "color_ndwi = cm.palettes.ndwi"
   ]
  },
  {
   "cell_type": "code",
   "execution_count": 11,
   "id": "68161910",
   "metadata": {
    "ExecuteTime": {
     "end_time": "2021-10-05T18:59:06.243210Z",
     "start_time": "2021-10-05T18:59:06.241730Z"
    }
   },
   "outputs": [],
   "source": [
    "color_terrain = cm.palettes.terrain"
   ]
  },
  {
   "cell_type": "code",
   "execution_count": 12,
   "id": "8e99245f",
   "metadata": {
    "ExecuteTime": {
     "end_time": "2021-10-05T18:59:06.245312Z",
     "start_time": "2021-10-05T18:59:06.244005Z"
    }
   },
   "outputs": [],
   "source": [
    "color_glaciar = cm.palettes.PuBuGn_r"
   ]
  },
  {
   "cell_type": "code",
   "execution_count": 13,
   "id": "92b8cf41",
   "metadata": {
    "ExecuteTime": {
     "end_time": "2021-10-05T18:59:06.247869Z",
     "start_time": "2021-10-05T18:59:06.246320Z"
    }
   },
   "outputs": [],
   "source": [
    "color_nubes = cm.palettes.inferno"
   ]
  },
  {
   "cell_type": "code",
   "execution_count": 14,
   "id": "39930741",
   "metadata": {
    "ExecuteTime": {
     "end_time": "2021-10-05T18:59:06.250104Z",
     "start_time": "2021-10-05T18:59:06.248751Z"
    }
   },
   "outputs": [],
   "source": [
    "# cm.list_colormaps()"
   ]
  },
  {
   "cell_type": "code",
   "execution_count": 15,
   "id": "0ce61cbe",
   "metadata": {
    "ExecuteTime": {
     "end_time": "2021-10-05T18:59:06.252361Z",
     "start_time": "2021-10-05T18:59:06.251002Z"
    }
   },
   "outputs": [],
   "source": [
    "# cm.plot_colormaps(width=12, height=0.4)"
   ]
  },
  {
   "cell_type": "markdown",
   "id": "11666045",
   "metadata": {},
   "source": [
    "## Funciones"
   ]
  },
  {
   "cell_type": "code",
   "execution_count": 16,
   "id": "166db170",
   "metadata": {
    "ExecuteTime": {
     "end_time": "2021-10-05T18:59:06.255614Z",
     "start_time": "2021-10-05T18:59:06.253150Z"
    }
   },
   "outputs": [],
   "source": [
    "def add_ee_layer(self, ee_image_object, vis_params, name):\n",
    "  map_id_dict = ee.Image(ee_image_object).getMapId(vis_params)\n",
    "  folium.raster_layers.TileLayer(\n",
    "      tiles=map_id_dict['tile_fetcher'].url_format,\n",
    "      attr='Map Data &copy; <a href=\"https://earthengine.google.com/\">Google Earth Engine</a>',\n",
    "      name=name,\n",
    "      overlay=True,\n",
    "      control=True\n",
    "  ).add_to(self)\n",
    "\n",
    "folium.Map.add_ee_layer = add_ee_layer"
   ]
  },
  {
   "cell_type": "code",
   "execution_count": 17,
   "id": "b9e1cdaf",
   "metadata": {
    "ExecuteTime": {
     "end_time": "2021-10-05T18:59:06.258081Z",
     "start_time": "2021-10-05T18:59:06.256461Z"
    }
   },
   "outputs": [],
   "source": [
    "def addNDVI(image): \n",
    "    ndvi = image.normalizedDifference(['B5', 'B4']).rename('NDVI')\n",
    "    return image.addBands(ndvi)"
   ]
  },
  {
   "cell_type": "code",
   "execution_count": 18,
   "id": "4c83d08e",
   "metadata": {
    "ExecuteTime": {
     "end_time": "2021-10-05T18:59:06.260536Z",
     "start_time": "2021-10-05T18:59:06.258845Z"
    }
   },
   "outputs": [],
   "source": [
    "def addNDVI2(image): \n",
    "    ndvi = image.normalizedDifference(['B5', 'B4']).rename('NDVI2')\n",
    "    return image.addBands(ndvi)"
   ]
  },
  {
   "cell_type": "code",
   "execution_count": 19,
   "id": "ad105a37",
   "metadata": {
    "ExecuteTime": {
     "end_time": "2021-10-05T18:59:06.263035Z",
     "start_time": "2021-10-05T18:59:06.261451Z"
    }
   },
   "outputs": [],
   "source": [
    "def addNDWI(image):\n",
    "    ndwi = image.normalizedDifference(['B3','B5']).rename('NDWI')\n",
    "    return image.addBands(ndwi)"
   ]
  },
  {
   "cell_type": "code",
   "execution_count": 20,
   "id": "afd5a921",
   "metadata": {
    "ExecuteTime": {
     "end_time": "2021-10-05T18:59:06.265725Z",
     "start_time": "2021-10-05T18:59:06.263896Z"
    }
   },
   "outputs": [],
   "source": [
    "def addNDGI(image):\n",
    "    ndgi = image.normalizedDifference(['B3','B4']).rename('NDGI')\n",
    "    return image.addBands(ndgi)"
   ]
  },
  {
   "cell_type": "code",
   "execution_count": 21,
   "id": "786770f8",
   "metadata": {
    "ExecuteTime": {
     "end_time": "2021-10-05T18:59:06.270628Z",
     "start_time": "2021-10-05T18:59:06.266494Z"
    }
   },
   "outputs": [],
   "source": [
    "def addSAVI(image):\n",
    "    savi = image.expression(\n",
    "        '((b5 - b4)/(b5 + b4 + 0.5))*1.5', {\n",
    "            'b4':image.select('B4'),\n",
    "            'b5':image.select('B5')\n",
    "        }) \n",
    "    savi= savi.rename('SAVI')\n",
    "    return image.addBands(savi)"
   ]
  },
  {
   "cell_type": "code",
   "execution_count": 22,
   "id": "cffb72aa",
   "metadata": {
    "ExecuteTime": {
     "end_time": "2021-10-05T18:59:06.273316Z",
     "start_time": "2021-10-05T18:59:06.271598Z"
    }
   },
   "outputs": [],
   "source": [
    "def addNDSI(image):\n",
    "    ndsi = image.normalizedDifference(['B3','B6']).rename('NDSI')\n",
    "    return image.addBands(ndsi)"
   ]
  },
  {
   "cell_type": "code",
   "execution_count": 23,
   "id": "4889cabe",
   "metadata": {
    "ExecuteTime": {
     "end_time": "2021-10-05T18:59:06.276074Z",
     "start_time": "2021-10-05T18:59:06.274121Z"
    }
   },
   "outputs": [],
   "source": [
    "def addDate(image):\n",
    "    img_date = ee.Date(image.date())\n",
    "    img_date = ee.Number.parse(img_date.format('YYYYMMdd'))\n",
    "    return image.addBands(ee.Image(img_date).rename('date').toInt())"
   ]
  },
  {
   "cell_type": "code",
   "execution_count": 24,
   "id": "3115c210",
   "metadata": {
    "ExecuteTime": {
     "end_time": "2021-10-05T18:59:06.278719Z",
     "start_time": "2021-10-05T18:59:06.276927Z"
    }
   },
   "outputs": [],
   "source": [
    "def Cloud30(image):\n",
    "    scored = ee.Algorithms.Landsat.simpleCloudScore(image)\n",
    "    return image.updateMask(scored.select(['cloud']).lt(30)) "
   ]
  },
  {
   "cell_type": "code",
   "execution_count": 25,
   "id": "f86cf507",
   "metadata": {
    "ExecuteTime": {
     "end_time": "2021-10-05T18:59:06.281894Z",
     "start_time": "2021-10-05T18:59:06.279625Z"
    }
   },
   "outputs": [],
   "source": [
    "def Cloud20(image):\n",
    "    scored = ee.Algorithms.Landsat.simpleCloudScore(image)\n",
    "    return image.updateMask(scored.select(['cloud']).lt(20)) "
   ]
  },
  {
   "cell_type": "code",
   "execution_count": 26,
   "id": "9d288b40",
   "metadata": {
    "ExecuteTime": {
     "end_time": "2021-10-05T18:59:06.284748Z",
     "start_time": "2021-10-05T18:59:06.282997Z"
    }
   },
   "outputs": [],
   "source": [
    "def Cloud10(image):\n",
    "    scored = ee.Algorithms.Landsat.simpleCloudScore(image)\n",
    "    return image.updateMask(scored.select(['cloud']).lt(10))"
   ]
  },
  {
   "cell_type": "code",
   "execution_count": 27,
   "id": "92d6ba1b",
   "metadata": {
    "ExecuteTime": {
     "end_time": "2021-10-05T18:59:06.287368Z",
     "start_time": "2021-10-05T18:59:06.285717Z"
    }
   },
   "outputs": [],
   "source": [
    "def addCloud(image):\n",
    "    nube = ee.Algorithms.Landsat.simpleCloudScore(image)\n",
    "    return image.addBands(ee.Image(nube.select(['cloud'])).rename('nube'))"
   ]
  },
  {
   "cell_type": "code",
   "execution_count": 28,
   "id": "4eb69ead",
   "metadata": {
    "ExecuteTime": {
     "end_time": "2021-10-05T18:59:06.295580Z",
     "start_time": "2021-10-05T18:59:06.292603Z"
    }
   },
   "outputs": [],
   "source": [
    "def find_closest(target_image, image_col, days):\n",
    "    \"\"\"Filter images in a collection by date proximity and spatial intersection to a target image.\n",
    "\n",
    "    Args:\n",
    "        target_image: An ee.Image whose observation date is used to find near-date images in\n",
    "          the provided image_col image collection. It must have a 'system:time_start' property.\n",
    "        image_col: An ee.ImageCollection to filter by date proximity and spatial intersection\n",
    "          to the target_image. Each image in the collection must have a 'system:time_start'\n",
    "          property.\n",
    "        days: A number that defines the maximum number of days difference allowed between\n",
    "          the target_image and images in the image_col.\n",
    "\n",
    "    Returns:\n",
    "        An ee.ImageCollection that has been filtered to include those images that are within the\n",
    "          given date proximity to target_image and intersect it spatially.\n",
    "    \"\"\"\n",
    "\n",
    "    # Compute the timespan for N days (in milliseconds).\n",
    "    range = ee.Number(days).multiply(1000 * 60 * 60 * 24)\n",
    "\n",
    "    filter = ee.Filter.And(\n",
    "        ee.Filter.maxDifference(range, 'system:time_start', None, 'system:time_start'),\n",
    "        ee.Filter.intersects('.geo', None, '.geo'))\n",
    "\n",
    "    closest = (ee.Join.saveAll('matches', 'measure')\n",
    "        .apply(ee.ImageCollection([target_image]), image_col, filter))\n",
    "\n",
    "    return ee.ImageCollection(ee.List(closest.first().get('matches')))"
   ]
  },
  {
   "cell_type": "markdown",
   "id": "d9a442fb",
   "metadata": {},
   "source": [
    "## Colecciones"
   ]
  },
  {
   "cell_type": "markdown",
   "id": "ccec25b0",
   "metadata": {},
   "source": [
    "### 2021"
   ]
  },
  {
   "cell_type": "code",
   "execution_count": 29,
   "id": "ef53f13a",
   "metadata": {
    "ExecuteTime": {
     "end_time": "2021-10-05T18:59:06.298403Z",
     "start_time": "2021-10-05T18:59:06.296573Z"
    }
   },
   "outputs": [],
   "source": [
    "start_date = '2020-10-01'\n",
    "end_date = '2021-03-31'\n",
    "\n",
    "l8_2021 = ee.ImageCollection('LANDSAT/LC08/C01/T1_TOA') \\\n",
    "    .filterBounds(patagonia_grande) \\\n",
    "    .filterDate(start_date, end_date)  "
   ]
  },
  {
   "cell_type": "code",
   "execution_count": 30,
   "id": "628e2fc7",
   "metadata": {
    "ExecuteTime": {
     "end_time": "2021-10-05T18:59:06.300697Z",
     "start_time": "2021-10-05T18:59:06.299356Z"
    }
   },
   "outputs": [],
   "source": [
    "def reprojectar(image):\n",
    "    return image.reproject(crs='EPSG:3857',crsTransform=None, scale = 30)\\\n",
    "                .reduceResolution(reducer= ee.Reducer.mean(),bestEffort=True,maxPixels= 65536)\\\n",
    "                .copyProperties(image)"
   ]
  },
  {
   "cell_type": "code",
   "execution_count": 31,
   "id": "1f8b3f45",
   "metadata": {},
   "outputs": [],
   "source": [
    "count = l8_2021.size().getInfo()"
   ]
  },
  {
   "cell_type": "code",
   "execution_count": 32,
   "id": "b497f862",
   "metadata": {},
   "outputs": [
    {
     "name": "stdout",
     "output_type": "stream",
     "text": [
      "949\n"
     ]
    }
   ],
   "source": [
    "print(count)"
   ]
  },
  {
   "cell_type": "code",
   "execution_count": 33,
   "id": "015e69de",
   "metadata": {
    "ExecuteTime": {
     "end_time": "2021-10-05T18:59:06.303145Z",
     "start_time": "2021-10-05T18:59:06.301604Z"
    }
   },
   "outputs": [],
   "source": [
    "vizParams = {\n",
    "  'bands': ['B5', 'B4', 'B3'],\n",
    "  'min': 0,\n",
    "  'max': 0.5,\n",
    "  'gamma': [0.95, 1.1, 1]\n",
    "}"
   ]
  },
  {
   "cell_type": "code",
   "execution_count": 34,
   "id": "5621cb6b",
   "metadata": {
    "ExecuteTime": {
     "end_time": "2021-10-05T18:59:06.305647Z",
     "start_time": "2021-10-05T18:59:06.304055Z"
    }
   },
   "outputs": [],
   "source": [
    "vis_nieve = {\n",
    "  'bands': ['B6', 'B4', 'B3'],\n",
    "  'min': 0,\n",
    "  'max': 0.5,\n",
    "  'gamma': [0.95, 1.1, 1]\n",
    "}"
   ]
  },
  {
   "cell_type": "code",
   "execution_count": 35,
   "id": "e858966f",
   "metadata": {},
   "outputs": [],
   "source": [
    "l8_2021 = l8_2021.map(reprojectar)"
   ]
  },
  {
   "cell_type": "code",
   "execution_count": 36,
   "id": "e704b1c2",
   "metadata": {},
   "outputs": [],
   "source": [
    "def addNDVIr(image): \n",
    "    ndvi = image.normalizedDifference(['B5_1', 'B4_1']).rename('NDVI')\n",
    "    return image.addBands(ndvi)"
   ]
  },
  {
   "cell_type": "code",
   "execution_count": 37,
   "id": "06a293d6",
   "metadata": {
    "ExecuteTime": {
     "end_time": "2021-10-05T18:59:06.310760Z",
     "start_time": "2021-10-05T18:59:06.306600Z"
    }
   },
   "outputs": [],
   "source": [
    "coleccion2021 = l8_2021.map(addNDVI).map(addNDWI).map(addNDGI).map(addSAVI).map(addNDSI).map(addDate).map(addCloud)"
   ]
  },
  {
   "cell_type": "code",
   "execution_count": null,
   "id": "5ac11ae7",
   "metadata": {},
   "outputs": [],
   "source": []
  },
  {
   "cell_type": "code",
   "execution_count": 38,
   "id": "f724bb1b",
   "metadata": {
    "ExecuteTime": {
     "end_time": "2021-10-05T18:59:06.313806Z",
     "start_time": "2021-10-05T18:59:06.311825Z"
    }
   },
   "outputs": [],
   "source": [
    "QM_NDVI_2021 = coleccion2021.qualityMosaic('NDVI')\n",
    "# Normalized difference vegetation Index\n",
    "QM_NDWI_2021 = coleccion2021.qualityMosaic('NDWI') # Normalize difference water index\n",
    "\n",
    "QM_SAVI_2021 = coleccion2021.qualityMosaic('SAVI') # Soil Adjusted Vegetation Index \n",
    "\n",
    "QM_NDGI_2021 = coleccion2021.qualityMosaic('NDGI') # Normalized difference glacier index\n",
    "\n",
    "QM_NDSI_2021 = coleccion2021.qualityMosaic('NDSI') # Normalized difference snow index\n"
   ]
  },
  {
   "cell_type": "code",
   "execution_count": 39,
   "id": "6c001bbc",
   "metadata": {
    "ExecuteTime": {
     "end_time": "2021-10-05T18:59:06.982029Z",
     "start_time": "2021-10-05T18:59:06.314697Z"
    },
    "scrolled": false
   },
   "outputs": [
    {
     "data": {
      "application/vnd.jupyter.widget-view+json": {
       "model_id": "de318d00f2874c37bc73f13647a6787c",
       "version_major": 2,
       "version_minor": 0
      },
      "text/plain": [
       "Map(center=[-45, -70], controls=(WidgetControl(options=['position', 'transparent_bg'], widget=HBox(children=(T…"
      ]
     },
     "metadata": {},
     "output_type": "display_data"
    }
   ],
   "source": [
    "Map.addLayer(QM_NDVI_2021, vizParams, 'QM de NDVI 2021')\n",
    "# Map.addLayer(QM_NDWI_2021, vizParams, 'QM de NDWI 2021')\n",
    "# Map.addLayer(QM_SAVI_2021, vizParams, 'QM de SAVI 2021')\n",
    "# Map.addLayer(QM_NDGI_2021, vis_nieve, 'QM de NDGI 2021')\n",
    "# Map.addLayer(QM_NDSI_2021, vis_nieve, 'QM de NDSI 2021')\n",
    "Map "
   ]
  },
  {
   "cell_type": "code",
   "execution_count": 40,
   "id": "06eebe04",
   "metadata": {
    "ExecuteTime": {
     "end_time": "2021-10-05T18:59:06.985733Z",
     "start_time": "2021-10-05T18:59:06.983007Z"
    }
   },
   "outputs": [],
   "source": [
    "c2021_sn = coleccion2021.map(Cloud20)\n",
    "NDVI_2021_sn = c2021_sn.qualityMosaic('NDVI')\n",
    "NDWI_2021_sn = c2021_sn.qualityMosaic('NDWI')\n",
    "SAVI_2021_sn = c2021_sn.qualityMosaic('SAVI')\n",
    "NDGI_2021_sn = c2021_sn.qualityMosaic('NDGI')\n",
    "NDSI_2021_sn = c2021_sn.qualityMosaic('NDSI')"
   ]
  },
  {
   "cell_type": "code",
   "execution_count": 41,
   "id": "7121bf75",
   "metadata": {
    "ExecuteTime": {
     "end_time": "2021-10-05T18:59:06.988308Z",
     "start_time": "2021-10-05T18:59:06.986968Z"
    }
   },
   "outputs": [],
   "source": [
    "# Map2.addLayer(NDVI_2021_sn, vizParams, 'QMsn de NDVI 2021')\n",
    "# Map2.addLayer(NDWI_2021_sn, vizParams, 'QMsn de NDWI 2021')\n",
    "# Map2.addLayer(SAVI_2021_sn, vizParams, 'QMsn de SAVI 2021')\n",
    "# Map2.addLayer(NDGI_2021_sn, vis_nieve, 'QMsn de NDGI 2021')\n",
    "# Map2.addLayer(NDSI_2021_sn, vis_nieve, 'QMsn de NDSI 2021')\n",
    "# Map2"
   ]
  },
  {
   "cell_type": "markdown",
   "id": "094d9e5d",
   "metadata": {},
   "source": [
    "#### Img base"
   ]
  },
  {
   "cell_type": "markdown",
   "id": "c8735a0a",
   "metadata": {},
   "source": [
    "##### Muestras de imagenes del mosaico"
   ]
  },
  {
   "cell_type": "code",
   "execution_count": 42,
   "id": "4202edec",
   "metadata": {
    "ExecuteTime": {
     "end_time": "2021-10-05T18:59:06.991197Z",
     "start_time": "2021-10-05T18:59:06.989367Z"
    }
   },
   "outputs": [],
   "source": [
    "start_date = '2020-10-01'\n",
    "end_date = '2021-03-31'\n",
    "imgbase = ee.ImageCollection('LANDSAT/LC08/C01/T1_TOA') \\\n",
    "    .filterBounds(base) \\\n",
    "    .filterDate(start_date, end_date) \\\n",
    "    .sort('CLOUD_COVER') \\\n",
    "    .first() \n"
   ]
  },
  {
   "cell_type": "code",
   "execution_count": 43,
   "id": "05155459",
   "metadata": {
    "ExecuteTime": {
     "end_time": "2021-10-05T18:59:07.322365Z",
     "start_time": "2021-10-05T18:59:06.991997Z"
    },
    "scrolled": true
   },
   "outputs": [
    {
     "data": {
      "text/plain": [
       "['system:version',\n",
       " 'system:id',\n",
       " 'RADIANCE_MULT_BAND_5',\n",
       " 'RADIANCE_MULT_BAND_6',\n",
       " 'RADIANCE_MULT_BAND_3',\n",
       " 'RADIANCE_MULT_BAND_4',\n",
       " 'RADIANCE_MULT_BAND_1',\n",
       " 'RADIANCE_MULT_BAND_2',\n",
       " 'K2_CONSTANT_BAND_11',\n",
       " 'K2_CONSTANT_BAND_10',\n",
       " 'system:footprint',\n",
       " 'REFLECTIVE_SAMPLES',\n",
       " 'SUN_AZIMUTH',\n",
       " 'CPF_NAME',\n",
       " 'DATE_ACQUIRED',\n",
       " 'ELLIPSOID',\n",
       " 'google:registration_offset_x',\n",
       " 'google:registration_offset_y',\n",
       " 'STATION_ID',\n",
       " 'RESAMPLING_OPTION',\n",
       " 'ORIENTATION',\n",
       " 'WRS_ROW',\n",
       " 'RADIANCE_MULT_BAND_9',\n",
       " 'TARGET_WRS_ROW',\n",
       " 'RADIANCE_MULT_BAND_7',\n",
       " 'RADIANCE_MULT_BAND_8',\n",
       " 'IMAGE_QUALITY_TIRS',\n",
       " 'TRUNCATION_OLI',\n",
       " 'CLOUD_COVER',\n",
       " 'GEOMETRIC_RMSE_VERIFY',\n",
       " 'COLLECTION_CATEGORY',\n",
       " 'GRID_CELL_SIZE_REFLECTIVE',\n",
       " 'CLOUD_COVER_LAND',\n",
       " 'GEOMETRIC_RMSE_MODEL',\n",
       " 'COLLECTION_NUMBER',\n",
       " 'IMAGE_QUALITY_OLI',\n",
       " 'LANDSAT_SCENE_ID',\n",
       " 'WRS_PATH',\n",
       " 'google:registration_count',\n",
       " 'PANCHROMATIC_SAMPLES',\n",
       " 'PANCHROMATIC_LINES',\n",
       " 'GEOMETRIC_RMSE_MODEL_Y',\n",
       " 'REFLECTIVE_LINES',\n",
       " 'TIRS_STRAY_LIGHT_CORRECTION_SOURCE',\n",
       " 'GEOMETRIC_RMSE_MODEL_X',\n",
       " 'system:asset_size',\n",
       " 'system:index',\n",
       " 'REFLECTANCE_ADD_BAND_1',\n",
       " 'REFLECTANCE_ADD_BAND_2',\n",
       " 'DATUM',\n",
       " 'REFLECTANCE_ADD_BAND_3',\n",
       " 'REFLECTANCE_ADD_BAND_4',\n",
       " 'REFLECTANCE_ADD_BAND_5',\n",
       " 'REFLECTANCE_ADD_BAND_6',\n",
       " 'REFLECTANCE_ADD_BAND_7',\n",
       " 'REFLECTANCE_ADD_BAND_8',\n",
       " 'BPF_NAME_TIRS',\n",
       " 'GROUND_CONTROL_POINTS_VERSION',\n",
       " 'DATA_TYPE',\n",
       " 'UTM_ZONE',\n",
       " 'system:time_end',\n",
       " 'LANDSAT_PRODUCT_ID',\n",
       " 'REFLECTANCE_ADD_BAND_9',\n",
       " 'google:registration_ratio',\n",
       " 'GRID_CELL_SIZE_PANCHROMATIC',\n",
       " 'RADIANCE_ADD_BAND_4',\n",
       " 'REFLECTANCE_MULT_BAND_7',\n",
       " 'system:time_start',\n",
       " 'RADIANCE_ADD_BAND_5',\n",
       " 'REFLECTANCE_MULT_BAND_6',\n",
       " 'RADIANCE_ADD_BAND_6',\n",
       " 'REFLECTANCE_MULT_BAND_9',\n",
       " 'PROCESSING_SOFTWARE_VERSION',\n",
       " 'RADIANCE_ADD_BAND_7',\n",
       " 'REFLECTANCE_MULT_BAND_8',\n",
       " 'RADIANCE_ADD_BAND_1',\n",
       " 'RADIANCE_ADD_BAND_2',\n",
       " 'RADIANCE_ADD_BAND_3',\n",
       " 'REFLECTANCE_MULT_BAND_1',\n",
       " 'RADIANCE_ADD_BAND_8',\n",
       " 'REFLECTANCE_MULT_BAND_3',\n",
       " 'RADIANCE_ADD_BAND_9',\n",
       " 'REFLECTANCE_MULT_BAND_2',\n",
       " 'REFLECTANCE_MULT_BAND_5',\n",
       " 'REFLECTANCE_MULT_BAND_4',\n",
       " 'THERMAL_LINES',\n",
       " 'TIRS_SSM_POSITION_STATUS',\n",
       " 'GRID_CELL_SIZE_THERMAL',\n",
       " 'NADIR_OFFNADIR',\n",
       " 'RADIANCE_ADD_BAND_11',\n",
       " 'REQUEST_ID',\n",
       " 'EARTH_SUN_DISTANCE',\n",
       " 'TIRS_SSM_MODEL',\n",
       " 'FILE_DATE',\n",
       " 'SCENE_CENTER_TIME',\n",
       " 'SUN_ELEVATION',\n",
       " 'BPF_NAME_OLI',\n",
       " 'RADIANCE_ADD_BAND_10',\n",
       " 'ROLL_ANGLE',\n",
       " 'K1_CONSTANT_BAND_10',\n",
       " 'SATURATION_BAND_1',\n",
       " 'SATURATION_BAND_2',\n",
       " 'SATURATION_BAND_3',\n",
       " 'SATURATION_BAND_4',\n",
       " 'SATURATION_BAND_5',\n",
       " 'MAP_PROJECTION',\n",
       " 'SATURATION_BAND_6',\n",
       " 'SENSOR_ID',\n",
       " 'SATURATION_BAND_7',\n",
       " 'K1_CONSTANT_BAND_11',\n",
       " 'SATURATION_BAND_8',\n",
       " 'SATURATION_BAND_9',\n",
       " 'TARGET_WRS_PATH',\n",
       " 'RADIANCE_MULT_BAND_11',\n",
       " 'RADIANCE_MULT_BAND_10',\n",
       " 'GROUND_CONTROL_POINTS_MODEL',\n",
       " 'SPACECRAFT_ID',\n",
       " 'ELEVATION_SOURCE',\n",
       " 'THERMAL_SAMPLES',\n",
       " 'GROUND_CONTROL_POINTS_VERIFY',\n",
       " 'system:bands',\n",
       " 'system:band_names']"
      ]
     },
     "execution_count": 43,
     "metadata": {},
     "output_type": "execute_result"
    }
   ],
   "source": [
    "imgbase.propertyNames().getInfo()"
   ]
  },
  {
   "cell_type": "code",
   "execution_count": 44,
   "id": "01e09fbd",
   "metadata": {
    "ExecuteTime": {
     "end_time": "2021-10-05T18:59:07.325103Z",
     "start_time": "2021-10-05T18:59:07.323226Z"
    }
   },
   "outputs": [],
   "source": [
    "# imgbase.get('LANDSAT_PRODUCT_ID').getInfo()"
   ]
  },
  {
   "cell_type": "code",
   "execution_count": 45,
   "id": "5d142772",
   "metadata": {
    "ExecuteTime": {
     "end_time": "2021-10-05T18:59:07.327863Z",
     "start_time": "2021-10-05T18:59:07.325865Z"
    }
   },
   "outputs": [],
   "source": [
    "# imgbase.get('system:time_start').getInfo()"
   ]
  },
  {
   "cell_type": "code",
   "execution_count": 46,
   "id": "e5bfe513",
   "metadata": {
    "ExecuteTime": {
     "end_time": "2021-10-05T18:59:07.927045Z",
     "start_time": "2021-10-05T18:59:07.328742Z"
    }
   },
   "outputs": [
    {
     "data": {
      "text/plain": [
       "'WGS84'"
      ]
     },
     "execution_count": 46,
     "metadata": {},
     "output_type": "execute_result"
    }
   ],
   "source": [
    "imgbase.get('DATUM').getInfo()"
   ]
  },
  {
   "cell_type": "code",
   "execution_count": 47,
   "id": "f62917d7",
   "metadata": {
    "ExecuteTime": {
     "end_time": "2021-10-05T18:59:08.250179Z",
     "start_time": "2021-10-05T18:59:07.928041Z"
    }
   },
   "outputs": [
    {
     "data": {
      "text/plain": [
       "'WGS84'"
      ]
     },
     "execution_count": 47,
     "metadata": {},
     "output_type": "execute_result"
    }
   ],
   "source": [
    "imgbase.get('ELLIPSOID').getInfo()"
   ]
  },
  {
   "cell_type": "code",
   "execution_count": 48,
   "id": "10196aa5",
   "metadata": {
    "ExecuteTime": {
     "end_time": "2021-10-05T18:59:08.593921Z",
     "start_time": "2021-10-05T18:59:08.250981Z"
    }
   },
   "outputs": [
    {
     "data": {
      "text/plain": [
       "'UTM'"
      ]
     },
     "execution_count": 48,
     "metadata": {},
     "output_type": "execute_result"
    }
   ],
   "source": [
    "imgbase.get('MAP_PROJECTION').getInfo()"
   ]
  },
  {
   "cell_type": "code",
   "execution_count": 49,
   "id": "c46c1df8",
   "metadata": {
    "ExecuteTime": {
     "end_time": "2021-10-05T18:59:09.120548Z",
     "start_time": "2021-10-05T18:59:08.594718Z"
    }
   },
   "outputs": [
    {
     "data": {
      "text/plain": [
       "19"
      ]
     },
     "execution_count": 49,
     "metadata": {},
     "output_type": "execute_result"
    }
   ],
   "source": [
    "imgbase.get('UTM_ZONE').getInfo()"
   ]
  },
  {
   "cell_type": "code",
   "execution_count": 50,
   "id": "3b8e5716",
   "metadata": {
    "ExecuteTime": {
     "end_time": "2021-10-05T18:59:09.122785Z",
     "start_time": "2021-10-05T18:59:09.121325Z"
    }
   },
   "outputs": [],
   "source": [
    "# print(imgbase.projection())"
   ]
  },
  {
   "cell_type": "code",
   "execution_count": 51,
   "id": "6d01d09a",
   "metadata": {
    "ExecuteTime": {
     "end_time": "2021-10-05T18:59:09.125588Z",
     "start_time": "2021-10-05T18:59:09.123533Z"
    }
   },
   "outputs": [],
   "source": [
    "# time_start = imgbase.get('system:time_start')"
   ]
  },
  {
   "cell_type": "code",
   "execution_count": 52,
   "id": "5fb26496",
   "metadata": {
    "ExecuteTime": {
     "end_time": "2021-10-05T18:59:09.128044Z",
     "start_time": "2021-10-05T18:59:09.126516Z"
    }
   },
   "outputs": [],
   "source": [
    "imgbase = ee.Image('LANDSAT/LC08/C01/T1_TOA/LC08_231091_20210130')"
   ]
  },
  {
   "cell_type": "code",
   "execution_count": 53,
   "id": "5a136189",
   "metadata": {},
   "outputs": [],
   "source": [
    "base_pro = imgbase.select('B4').projection().getInfo()"
   ]
  },
  {
   "cell_type": "code",
   "execution_count": 54,
   "id": "693f233e",
   "metadata": {},
   "outputs": [
    {
     "name": "stdout",
     "output_type": "stream",
     "text": [
      "{'type': 'Projection', 'crs': 'EPSG:32619', 'transform': [30, 0, 214185, 0, -30, -4825185]}\n"
     ]
    }
   ],
   "source": [
    "print(base_pro)"
   ]
  },
  {
   "cell_type": "code",
   "execution_count": 55,
   "id": "1c65268b",
   "metadata": {
    "ExecuteTime": {
     "end_time": "2021-10-05T18:59:09.130276Z",
     "start_time": "2021-10-05T18:59:09.128976Z"
    }
   },
   "outputs": [],
   "source": [
    "# Map1.addLayer(imgbase, vizParams, 'img base')\n",
    "# Map1.addLayer(geometria_base2)\n",
    "# Map1"
   ]
  },
  {
   "cell_type": "code",
   "execution_count": 56,
   "id": "8cc90996",
   "metadata": {
    "ExecuteTime": {
     "end_time": "2021-10-05T18:59:09.133009Z",
     "start_time": "2021-10-05T18:59:09.131474Z"
    }
   },
   "outputs": [],
   "source": [
    "reproj= imgbase \\\n",
    "    .reproject(crs='EPSG:3857',crsTransform= None, scale = 40)\n",
    "    "
   ]
  },
  {
   "cell_type": "code",
   "execution_count": 57,
   "id": "4bb96647",
   "metadata": {},
   "outputs": [],
   "source": [
    "landsat_pro = reproj.select('B4').projection().getInfo()"
   ]
  },
  {
   "cell_type": "code",
   "execution_count": 58,
   "id": "9e964413",
   "metadata": {},
   "outputs": [],
   "source": [
    "escala = reproj.select('B4').projection().nominalScale().getInfo()"
   ]
  },
  {
   "cell_type": "code",
   "execution_count": 59,
   "id": "fccfa3ef",
   "metadata": {},
   "outputs": [
    {
     "name": "stdout",
     "output_type": "stream",
     "text": [
      "{'type': 'Projection', 'crs': 'EPSG:3857', 'transform': [40, 0, 0, 0, -40, 0]}\n"
     ]
    }
   ],
   "source": [
    "print(landsat_pro)"
   ]
  },
  {
   "cell_type": "code",
   "execution_count": 60,
   "id": "11826e85",
   "metadata": {},
   "outputs": [
    {
     "name": "stdout",
     "output_type": "stream",
     "text": [
      "40\n"
     ]
    }
   ],
   "source": [
    "print(escala)"
   ]
  },
  {
   "cell_type": "code",
   "execution_count": 61,
   "id": "fca393f0",
   "metadata": {
    "ExecuteTime": {
     "end_time": "2021-10-05T18:59:09.135368Z",
     "start_time": "2021-10-05T18:59:09.134021Z"
    }
   },
   "outputs": [],
   "source": [
    "# print(imgbase.projection())"
   ]
  },
  {
   "cell_type": "code",
   "execution_count": 62,
   "id": "e3b8043e",
   "metadata": {
    "ExecuteTime": {
     "end_time": "2021-10-05T18:59:09.407901Z",
     "start_time": "2021-10-05T18:59:09.136208Z"
    }
   },
   "outputs": [
    {
     "data": {
      "text/plain": [
       "'UTM'"
      ]
     },
     "execution_count": 62,
     "metadata": {},
     "output_type": "execute_result"
    }
   ],
   "source": [
    "imgbase.get('MAP_PROJECTION').getInfo()"
   ]
  },
  {
   "cell_type": "code",
   "execution_count": 63,
   "id": "e6579f0c",
   "metadata": {
    "ExecuteTime": {
     "end_time": "2021-10-05T18:59:09.410745Z",
     "start_time": "2021-10-05T18:59:09.408722Z"
    }
   },
   "outputs": [],
   "source": [
    "start_date = '2020-10-01'\n",
    "end_date = '2021-03-31'\n",
    "imgbase2 = ee.ImageCollection('LANDSAT/LC08/C01/T1_TOA') \\\n",
    "    .filter(ee.Filter.eq('WRS_PATH', 230)) \\\n",
    "    .filter(ee.Filter.eq('WRS_ROW', 91)) \\\n",
    "    .filterDate(start_date, end_date) "
   ]
  },
  {
   "cell_type": "code",
   "execution_count": 64,
   "id": "a7e5933f",
   "metadata": {
    "ExecuteTime": {
     "end_time": "2021-10-05T18:59:09.414280Z",
     "start_time": "2021-10-05T18:59:09.411527Z"
    }
   },
   "outputs": [],
   "source": [
    "imgbase2 = find_closest(imgbase, imgbase2,14).sort('CLOUD_COVER').first()\n",
    "imgbase2 = ee.Image(imgbase2)"
   ]
  },
  {
   "cell_type": "code",
   "execution_count": 65,
   "id": "c646d7e2",
   "metadata": {
    "ExecuteTime": {
     "end_time": "2021-10-05T18:59:09.416989Z",
     "start_time": "2021-10-05T18:59:09.415457Z"
    }
   },
   "outputs": [],
   "source": [
    "reproj2= imgbase2 \\\n",
    "    .reproject(crs='EPSG:3857',crsTransform= None, scale = 40)"
   ]
  },
  {
   "cell_type": "code",
   "execution_count": 66,
   "id": "596b0a0b",
   "metadata": {
    "ExecuteTime": {
     "end_time": "2021-10-05T18:59:09.419220Z",
     "start_time": "2021-10-05T18:59:09.417898Z"
    }
   },
   "outputs": [],
   "source": [
    "# Map1.addLayer(imgbase2, vizParams, 'img base2')\n",
    "# Map1"
   ]
  },
  {
   "cell_type": "code",
   "execution_count": 67,
   "id": "d77a3cd7",
   "metadata": {
    "ExecuteTime": {
     "end_time": "2021-10-05T18:59:09.421905Z",
     "start_time": "2021-10-05T18:59:09.420011Z"
    }
   },
   "outputs": [],
   "source": [
    "start_date = '2020-10-01'\n",
    "end_date = '2021-03-31'\n",
    "imgbase3 = ee.ImageCollection('LANDSAT/LC08/C01/T1_TOA') \\\n",
    "    .filter(ee.Filter.eq('WRS_PATH', 229)) \\\n",
    "    .filter(ee.Filter.eq('WRS_ROW', 91)) \\\n",
    "    .filterDate(start_date, end_date) "
   ]
  },
  {
   "cell_type": "code",
   "execution_count": 68,
   "id": "3d44c9fc",
   "metadata": {
    "ExecuteTime": {
     "end_time": "2021-10-05T18:59:09.424918Z",
     "start_time": "2021-10-05T18:59:09.422925Z"
    }
   },
   "outputs": [],
   "source": [
    "imgbase3 = find_closest(imgbase2, imgbase3,21).sort('CLOUD_COVER').first()\n",
    "imgbase3 = ee.Image(imgbase3)"
   ]
  },
  {
   "cell_type": "code",
   "execution_count": 69,
   "id": "23050d6f",
   "metadata": {
    "ExecuteTime": {
     "end_time": "2021-10-05T18:59:09.427249Z",
     "start_time": "2021-10-05T18:59:09.425735Z"
    }
   },
   "outputs": [],
   "source": [
    "reproj3= imgbase3 \\\n",
    "    .reproject(crs='EPSG:3857',crsTransform= None, scale = 40)"
   ]
  },
  {
   "cell_type": "code",
   "execution_count": 70,
   "id": "954b5ed0",
   "metadata": {
    "ExecuteTime": {
     "end_time": "2021-10-05T18:59:09.429249Z",
     "start_time": "2021-10-05T18:59:09.428043Z"
    }
   },
   "outputs": [],
   "source": [
    "# Map1.addLayer(imgbase3, vizParams, 'img base3')\n",
    "# Map1"
   ]
  },
  {
   "cell_type": "code",
   "execution_count": 71,
   "id": "f4b197cf",
   "metadata": {
    "ExecuteTime": {
     "end_time": "2021-10-05T18:59:09.432154Z",
     "start_time": "2021-10-05T18:59:09.430165Z"
    }
   },
   "outputs": [],
   "source": [
    "start_date = '2020-10-01'\n",
    "end_date = '2021-03-31'\n",
    "imgbase4 = ee.ImageCollection('LANDSAT/LC08/C01/T1_TOA') \\\n",
    "    .filter(ee.Filter.eq('WRS_PATH', 228)) \\\n",
    "    .filter(ee.Filter.eq('WRS_ROW', 91)) \\\n",
    "    .filterDate(start_date, end_date) "
   ]
  },
  {
   "cell_type": "code",
   "execution_count": 72,
   "id": "af926cee",
   "metadata": {
    "ExecuteTime": {
     "end_time": "2021-10-05T18:59:09.439209Z",
     "start_time": "2021-10-05T18:59:09.432988Z"
    }
   },
   "outputs": [],
   "source": [
    "imgbase4 = find_closest(imgbase3, imgbase4,14).sort('CLOUD_COVER').first()\n",
    "imgbase4 = ee.Image(imgbase4)"
   ]
  },
  {
   "cell_type": "code",
   "execution_count": 73,
   "id": "e00c13e2",
   "metadata": {
    "ExecuteTime": {
     "end_time": "2021-10-05T18:59:09.441680Z",
     "start_time": "2021-10-05T18:59:09.440159Z"
    }
   },
   "outputs": [],
   "source": [
    "reproj4= imgbase4 \\\n",
    "    .reproject(crs='EPSG:3857',crsTransform= None, scale = 40)"
   ]
  },
  {
   "cell_type": "code",
   "execution_count": 74,
   "id": "ecc2e9e6",
   "metadata": {
    "ExecuteTime": {
     "end_time": "2021-10-05T18:59:09.444010Z",
     "start_time": "2021-10-05T18:59:09.442533Z"
    }
   },
   "outputs": [],
   "source": [
    "# Map1.addLayer(imgbase4, vizParams, 'img base4')\n",
    "# Map1"
   ]
  },
  {
   "cell_type": "code",
   "execution_count": 75,
   "id": "e305e5b4",
   "metadata": {
    "ExecuteTime": {
     "end_time": "2021-10-05T18:59:09.446823Z",
     "start_time": "2021-10-05T18:59:09.444959Z"
    }
   },
   "outputs": [],
   "source": [
    "start_date = '2020-10-01'\n",
    "end_date = '2021-03-31'\n",
    "imgbase5 = ee.ImageCollection('LANDSAT/LC08/C01/T1_TOA') \\\n",
    "    .filter(ee.Filter.eq('WRS_PATH', 232)) \\\n",
    "    .filter(ee.Filter.eq('WRS_ROW', 91)) \\\n",
    "    .filterDate(start_date, end_date) "
   ]
  },
  {
   "cell_type": "code",
   "execution_count": 76,
   "id": "e76971d2",
   "metadata": {
    "ExecuteTime": {
     "end_time": "2021-10-05T18:59:09.449524Z",
     "start_time": "2021-10-05T18:59:09.447892Z"
    }
   },
   "outputs": [],
   "source": [
    "imgbase5 = find_closest(imgbase, imgbase5,28).sort('CLOUD_COVER').first()\n",
    "imgbase5 = ee.Image(imgbase5)"
   ]
  },
  {
   "cell_type": "code",
   "execution_count": 77,
   "id": "daaac0ef",
   "metadata": {
    "ExecuteTime": {
     "end_time": "2021-10-05T18:59:09.452429Z",
     "start_time": "2021-10-05T18:59:09.450523Z"
    }
   },
   "outputs": [],
   "source": [
    "reproj5= imgbase5 \\\n",
    "    .reproject(crs='EPSG:3857',crsTransform= None, scale = 40)"
   ]
  },
  {
   "cell_type": "code",
   "execution_count": 78,
   "id": "ee78b984",
   "metadata": {
    "ExecuteTime": {
     "end_time": "2021-10-05T18:59:09.454987Z",
     "start_time": "2021-10-05T18:59:09.453279Z"
    }
   },
   "outputs": [],
   "source": [
    "# Map1.addLayer(imgbase5, vizParams, 'img base5')\n",
    "# Map1"
   ]
  },
  {
   "cell_type": "code",
   "execution_count": 79,
   "id": "cb677c38",
   "metadata": {
    "ExecuteTime": {
     "end_time": "2021-10-05T18:59:09.457579Z",
     "start_time": "2021-10-05T18:59:09.455728Z"
    }
   },
   "outputs": [],
   "source": [
    "start_date = '2020-10-01'\n",
    "end_date = '2021-03-31'\n",
    "imgbase6 = ee.ImageCollection('LANDSAT/LC08/C01/T1_TOA') \\\n",
    "    .filter(ee.Filter.eq('WRS_PATH', 233)) \\\n",
    "    .filter(ee.Filter.eq('WRS_ROW', 91)) \\\n",
    "    .filterDate(start_date, end_date) "
   ]
  },
  {
   "cell_type": "code",
   "execution_count": 80,
   "id": "a2772ed4",
   "metadata": {
    "ExecuteTime": {
     "end_time": "2021-10-05T18:59:09.460095Z",
     "start_time": "2021-10-05T18:59:09.458470Z"
    }
   },
   "outputs": [],
   "source": [
    "imgbase6 = find_closest(imgbase5, imgbase6,360).sort('CLOUD_COVER').first()\n",
    "imgbase6 = ee.Image(imgbase6)"
   ]
  },
  {
   "cell_type": "code",
   "execution_count": 81,
   "id": "075deb32",
   "metadata": {
    "ExecuteTime": {
     "end_time": "2021-10-05T18:59:09.462469Z",
     "start_time": "2021-10-05T18:59:09.460998Z"
    }
   },
   "outputs": [],
   "source": [
    "reproj6= imgbase6 \\\n",
    "    .reproject(crs='EPSG:3857',crsTransform= None, scale = 40)"
   ]
  },
  {
   "cell_type": "code",
   "execution_count": 82,
   "id": "489f204a",
   "metadata": {
    "ExecuteTime": {
     "end_time": "2021-10-05T18:59:09.465063Z",
     "start_time": "2021-10-05T18:59:09.463221Z"
    }
   },
   "outputs": [],
   "source": [
    "# Map1.addLayer(imgbase6, vizParams, 'img base6')\n",
    "# Map1"
   ]
  },
  {
   "cell_type": "code",
   "execution_count": 83,
   "id": "9d3185e1",
   "metadata": {
    "ExecuteTime": {
     "end_time": "2021-10-05T18:59:09.467594Z",
     "start_time": "2021-10-05T18:59:09.465959Z"
    }
   },
   "outputs": [],
   "source": [
    "# imgbase2.get('UTM_ZONE').getInfo()"
   ]
  },
  {
   "cell_type": "code",
   "execution_count": 84,
   "id": "9110a69a",
   "metadata": {
    "ExecuteTime": {
     "end_time": "2021-10-05T18:59:09.469828Z",
     "start_time": "2021-10-05T18:59:09.468473Z"
    }
   },
   "outputs": [],
   "source": [
    "# imgbase3.get('UTM_ZONE').getInfo()"
   ]
  },
  {
   "cell_type": "code",
   "execution_count": 85,
   "id": "22bbc7e9",
   "metadata": {
    "ExecuteTime": {
     "end_time": "2021-10-05T18:59:09.472060Z",
     "start_time": "2021-10-05T18:59:09.470698Z"
    }
   },
   "outputs": [],
   "source": [
    "# imgbase4.get('UTM_ZONE').getInfo()"
   ]
  },
  {
   "cell_type": "code",
   "execution_count": 86,
   "id": "25d8cfe0",
   "metadata": {
    "ExecuteTime": {
     "end_time": "2021-10-05T18:59:09.474603Z",
     "start_time": "2021-10-05T18:59:09.472834Z"
    }
   },
   "outputs": [],
   "source": [
    "# imgbase5.get('UTM_ZONE').getInfo()"
   ]
  },
  {
   "cell_type": "code",
   "execution_count": 87,
   "id": "abc6e09e",
   "metadata": {
    "ExecuteTime": {
     "end_time": "2021-10-05T18:59:09.476696Z",
     "start_time": "2021-10-05T18:59:09.475343Z"
    }
   },
   "outputs": [],
   "source": [
    "# imgbase6.get('UTM_ZONE').getInfo()"
   ]
  },
  {
   "cell_type": "code",
   "execution_count": 88,
   "id": "0b719c95",
   "metadata": {
    "ExecuteTime": {
     "end_time": "2021-10-05T18:59:09.479534Z",
     "start_time": "2021-10-05T18:59:09.477642Z"
    }
   },
   "outputs": [],
   "source": [
    "imgbase = addNDVI(imgbase)\n",
    "imgbase2 = addNDVI(imgbase2)\n",
    "imgbase3 = addNDVI(imgbase3)\n",
    "imgbase4 = addNDVI(imgbase4)\n",
    "imgbase5 = addNDVI(imgbase5)\n",
    "imgbase6 = addNDVI(imgbase6)"
   ]
  },
  {
   "cell_type": "code",
   "execution_count": 89,
   "id": "c0072a07",
   "metadata": {
    "ExecuteTime": {
     "end_time": "2021-10-05T18:59:09.482346Z",
     "start_time": "2021-10-05T18:59:09.480404Z"
    }
   },
   "outputs": [],
   "source": [
    "imgbase = addNDWI(imgbase)\n",
    "imgbase2 = addNDWI(imgbase2)\n",
    "imgbase3 = addNDWI(imgbase3)\n",
    "imgbase4 = addNDWI(imgbase4)\n",
    "imgbase5 = addNDWI(imgbase5)\n",
    "imgbase6 = addNDWI(imgbase6)"
   ]
  },
  {
   "cell_type": "code",
   "execution_count": 90,
   "id": "8865875d",
   "metadata": {
    "ExecuteTime": {
     "end_time": "2021-10-05T18:59:09.485130Z",
     "start_time": "2021-10-05T18:59:09.483152Z"
    }
   },
   "outputs": [],
   "source": [
    "imgbase = addNDGI(imgbase)\n",
    "imgbase2 = addNDGI(imgbase2)\n",
    "imgbase3 = addNDGI(imgbase3)\n",
    "imgbase4 = addNDGI(imgbase4)\n",
    "imgbase5 = addNDGI(imgbase5)\n",
    "imgbase6 = addNDGI(imgbase6)"
   ]
  },
  {
   "cell_type": "code",
   "execution_count": 91,
   "id": "0aa70e71",
   "metadata": {
    "ExecuteTime": {
     "end_time": "2021-10-05T18:59:09.492835Z",
     "start_time": "2021-10-05T18:59:09.490724Z"
    }
   },
   "outputs": [],
   "source": [
    "imgbase = addSAVI(imgbase)\n",
    "imgbase2 = addSAVI(imgbase2)\n",
    "imgbase3 = addSAVI(imgbase3)\n",
    "imgbase4 = addSAVI(imgbase4)\n",
    "imgbase5 = addSAVI(imgbase5)\n",
    "imgbase6 = addSAVI(imgbase6)"
   ]
  },
  {
   "cell_type": "code",
   "execution_count": 92,
   "id": "38e741d2",
   "metadata": {
    "ExecuteTime": {
     "end_time": "2021-10-05T18:59:09.495708Z",
     "start_time": "2021-10-05T18:59:09.493773Z"
    }
   },
   "outputs": [],
   "source": [
    "imgbase = addNDSI(imgbase)\n",
    "imgbase2 = addNDSI(imgbase2)\n",
    "imgbase3 = addNDSI(imgbase3)\n",
    "imgbase4 = addNDSI(imgbase4)\n",
    "imgbase5 = addNDSI(imgbase5)\n",
    "imgbase6 = addNDSI(imgbase6)"
   ]
  },
  {
   "cell_type": "code",
   "execution_count": 93,
   "id": "995744da",
   "metadata": {
    "ExecuteTime": {
     "end_time": "2021-10-05T18:59:09.498645Z",
     "start_time": "2021-10-05T18:59:09.496592Z"
    }
   },
   "outputs": [],
   "source": [
    "imgbase = addDate(imgbase)\n",
    "imgbase2 = addDate(imgbase2)\n",
    "imgbase3 = addDate(imgbase3)\n",
    "imgbase4 = addDate(imgbase4)\n",
    "imgbase5 = addDate(imgbase5)\n",
    "imgbase6 = addDate(imgbase6)"
   ]
  },
  {
   "cell_type": "code",
   "execution_count": 94,
   "id": "85657b4b",
   "metadata": {
    "ExecuteTime": {
     "end_time": "2021-10-05T18:59:09.501315Z",
     "start_time": "2021-10-05T18:59:09.499442Z"
    }
   },
   "outputs": [],
   "source": [
    "imgbase = addCloud(imgbase)\n",
    "imgbase2 = addCloud(imgbase2)\n",
    "imgbase3 = addCloud(imgbase3)\n",
    "imgbase4 = addCloud(imgbase4)\n",
    "imgbase5 = addCloud(imgbase5)\n",
    "imgbase6 = addCloud(imgbase6)"
   ]
  },
  {
   "cell_type": "code",
   "execution_count": 95,
   "id": "1c7f97bf",
   "metadata": {
    "ExecuteTime": {
     "end_time": "2021-10-05T18:59:09.503481Z",
     "start_time": "2021-10-05T18:59:09.502335Z"
    }
   },
   "outputs": [],
   "source": [
    "# imgbase.get('DATE_ACQUIRED').getInfo()"
   ]
  },
  {
   "cell_type": "code",
   "execution_count": 96,
   "id": "8b81a7a1",
   "metadata": {
    "ExecuteTime": {
     "end_time": "2021-10-05T18:59:09.505644Z",
     "start_time": "2021-10-05T18:59:09.504383Z"
    }
   },
   "outputs": [],
   "source": [
    "# imgbase2.get('DATE_ACQUIRED').getInfo()"
   ]
  },
  {
   "cell_type": "code",
   "execution_count": 97,
   "id": "ba5e16fa",
   "metadata": {
    "ExecuteTime": {
     "end_time": "2021-10-05T18:59:09.507913Z",
     "start_time": "2021-10-05T18:59:09.506523Z"
    }
   },
   "outputs": [],
   "source": [
    "# imgbase3.get('DATE_ACQUIRED').getInfo()"
   ]
  },
  {
   "cell_type": "code",
   "execution_count": 98,
   "id": "5d4829ff",
   "metadata": {
    "ExecuteTime": {
     "end_time": "2021-10-05T18:59:09.510140Z",
     "start_time": "2021-10-05T18:59:09.508824Z"
    }
   },
   "outputs": [],
   "source": [
    "# imgbase4.get('DATE_ACQUIRED').getInfo()"
   ]
  },
  {
   "cell_type": "code",
   "execution_count": 99,
   "id": "dfb567b7",
   "metadata": {
    "ExecuteTime": {
     "end_time": "2021-10-05T18:59:09.512361Z",
     "start_time": "2021-10-05T18:59:09.510922Z"
    }
   },
   "outputs": [],
   "source": [
    "# imgbase5.get('DATE_ACQUIRED').getInfo()"
   ]
  },
  {
   "cell_type": "code",
   "execution_count": 100,
   "id": "144e07cd",
   "metadata": {
    "ExecuteTime": {
     "end_time": "2021-10-05T18:59:09.514997Z",
     "start_time": "2021-10-05T18:59:09.513215Z"
    }
   },
   "outputs": [],
   "source": [
    "# imgbase6.get('DATE_ACQUIRED').getInfo()"
   ]
  },
  {
   "cell_type": "code",
   "execution_count": 101,
   "id": "75a6a249",
   "metadata": {
    "ExecuteTime": {
     "end_time": "2021-10-05T18:59:09.518547Z",
     "start_time": "2021-10-05T18:59:09.515815Z"
    }
   },
   "outputs": [],
   "source": [
    "imgbase_bandas = imgbase.select(['B1','B2','B3','B4','B5','B6','B7'])\n",
    "imgbase_bandas2 = imgbase2.select(['B1','B2','B3','B4','B5','B6','B7'])\n",
    "imgbase_bandas3 = imgbase3.select(['B1','B2','B3','B4','B5','B6','B7'])\n",
    "imgbase_bandas4 = imgbase4.select(['B1','B2','B3','B4','B5','B6','B7'])\n",
    "imgbase_bandas5 = imgbase5.select(['B1','B2','B3','B4','B5','B6','B7'])\n",
    "imgbase_bandas6 = imgbase6.select(['B1','B2','B3','B4','B5','B6','B7'])"
   ]
  },
  {
   "cell_type": "code",
   "execution_count": 102,
   "id": "650aeeba",
   "metadata": {
    "ExecuteTime": {
     "end_time": "2021-10-05T18:59:09.520912Z",
     "start_time": "2021-10-05T18:59:09.519379Z"
    }
   },
   "outputs": [],
   "source": [
    "colec_base = ee.ImageCollection([imgbase,imgbase2,imgbase3,imgbase4,imgbase5,imgbase6]).mosaic()"
   ]
  },
  {
   "cell_type": "code",
   "execution_count": 103,
   "id": "f65341ee",
   "metadata": {
    "ExecuteTime": {
     "end_time": "2021-10-05T18:59:09.523376Z",
     "start_time": "2021-10-05T18:59:09.521842Z"
    }
   },
   "outputs": [],
   "source": [
    "colec_base_r = ee.ImageCollection([reproj,reproj2,reproj3,reproj4,reproj5,reproj6]).mosaic()"
   ]
  },
  {
   "cell_type": "code",
   "execution_count": 104,
   "id": "2d3d99aa",
   "metadata": {
    "ExecuteTime": {
     "end_time": "2021-10-05T18:59:11.532852Z",
     "start_time": "2021-10-05T18:59:09.524407Z"
    },
    "scrolled": false
   },
   "outputs": [
    {
     "data": {
      "application/vnd.jupyter.widget-view+json": {
       "model_id": "492e72e1771b496ca2e69f18d4bea51a",
       "version_major": 2,
       "version_minor": 0
      },
      "text/plain": [
       "Map(center=[-45, -70], controls=(WidgetControl(options=['position', 'transparent_bg'], widget=HBox(children=(T…"
      ]
     },
     "metadata": {},
     "output_type": "display_data"
    }
   ],
   "source": [
    "Map1.addLayer(reproj, vizParams, 'img base r')\n",
    "Map1.addLayer(imgbase, vizParams, 'img base')\n",
    "# Map1.addLayer(imgbase_bandas2, vizParams, 'img base2')\n",
    "# Map1.addLayer(imgbase_bandas3, vizParams, 'img base3')\n",
    "# Map1.addLayer(imgbase_bandas4, vizParams, 'img base4')\n",
    "# Map1.addLayer(imgbase_bandas5, vizParams, 'img base5')\n",
    "# Map1.addLayer(imgbase_bandas6, vizParams, 'img base6')\n",
    "Map1.addLayer(colec_base, vizParams, 'coleccion')\n",
    "Map1.addLayer(colec_base_r, vizParams, 'coleccion r')\n",
    "Map1"
   ]
  },
  {
   "cell_type": "markdown",
   "id": "b1fff37f",
   "metadata": {},
   "source": [
    "### 2020"
   ]
  },
  {
   "cell_type": "code",
   "execution_count": 105,
   "id": "ed8a2ed2",
   "metadata": {
    "ExecuteTime": {
     "end_time": "2021-10-05T18:59:11.535696Z",
     "start_time": "2021-10-05T18:59:11.533644Z"
    }
   },
   "outputs": [],
   "source": [
    "start_date = '2019-10-01'\n",
    "end_date = '2020-03-31'\n",
    "\n",
    "l8_2020 = ee.ImageCollection('LANDSAT/LC08/C01/T1_TOA') \\\n",
    "    .filterBounds(patagonia_grande) \\\n",
    "    .filterDate(start_date, end_date)"
   ]
  },
  {
   "cell_type": "code",
   "execution_count": 106,
   "id": "62ab552a",
   "metadata": {},
   "outputs": [],
   "source": [
    "l8_2020 = l8_2020.map(reprojectar)"
   ]
  },
  {
   "cell_type": "code",
   "execution_count": 107,
   "id": "ac158dd0",
   "metadata": {
    "ExecuteTime": {
     "end_time": "2021-10-05T18:59:11.540693Z",
     "start_time": "2021-10-05T18:59:11.536486Z"
    }
   },
   "outputs": [],
   "source": [
    "coleccion2020 = l8_2020.map(addNDVI).map(addNDWI).map(addNDGI).map(addSAVI).map(addNDSI).map(addDate).map(addCloud)"
   ]
  },
  {
   "cell_type": "code",
   "execution_count": 108,
   "id": "531b33cd",
   "metadata": {
    "ExecuteTime": {
     "end_time": "2021-10-05T18:59:11.543633Z",
     "start_time": "2021-10-05T18:59:11.541749Z"
    }
   },
   "outputs": [],
   "source": [
    "QM_NDVI_2020 = coleccion2020.qualityMosaic('NDVI') # Normalized difference vegetation Index\n",
    "QM_NDWI_2020 = coleccion2020.qualityMosaic('NDWI') # Normalize difference water index\n",
    "QM_SAVI_2020 = coleccion2020.qualityMosaic('SAVI') # Soil Adjusted Vegetation Index \n",
    "QM_NDGI_2020 = coleccion2020.qualityMosaic('NDGI') # Normalized difference glacier index\n",
    "QM_NDSI_2020 = coleccion2020.qualityMosaic('NDSI') # Normalized difference snow index"
   ]
  },
  {
   "cell_type": "code",
   "execution_count": 109,
   "id": "22b9a628",
   "metadata": {
    "ExecuteTime": {
     "end_time": "2021-10-05T18:59:11.545706Z",
     "start_time": "2021-10-05T18:59:11.544416Z"
    }
   },
   "outputs": [],
   "source": [
    "# Map.addLayer(QM_NDVI_2020, vizParams, 'QM de NDVI 2020')\n",
    "# Map.addLayer(QM_NDWI_2020, vizParams, 'QM de NDWI 2020')\n",
    "# Map.addLayer(QM_SAVI_2020, vizParams, 'QM de SAVI 2020')\n",
    "# Map.addLayer(QM_NDGI_2020, vis_nieve, 'QM de NDGI 2020')\n",
    "# Map.addLayer(QM_NDSI_2020, vis_nieve, 'QM de NDSI 2020')\n",
    "# Map"
   ]
  },
  {
   "cell_type": "code",
   "execution_count": 110,
   "id": "37413530",
   "metadata": {
    "ExecuteTime": {
     "end_time": "2021-10-05T18:59:11.549095Z",
     "start_time": "2021-10-05T18:59:11.546640Z"
    }
   },
   "outputs": [],
   "source": [
    "c2020_sn = coleccion2020.map(Cloud20)\n",
    "NDVI_2020_sn = c2020_sn.qualityMosaic('NDVI')\n",
    "NDWI_2020_sn = c2020_sn.qualityMosaic('NDWI')\n",
    "SAVI_2020_sn = c2020_sn.qualityMosaic('SAVI')\n",
    "NDGI_2020_sn = c2020_sn.qualityMosaic('NDGI')\n",
    "NDSI_2020_sn = c2020_sn.qualityMosaic('NDSI')"
   ]
  },
  {
   "cell_type": "code",
   "execution_count": 111,
   "id": "ee1a2de2",
   "metadata": {
    "ExecuteTime": {
     "end_time": "2021-10-05T18:59:11.551431Z",
     "start_time": "2021-10-05T18:59:11.549932Z"
    }
   },
   "outputs": [],
   "source": [
    "# Map2.addLayer(NDVI_2020_sn, vizParams, 'QMsn de NDVI 2020')\n",
    "# Map2.addLayer(NDWI_2020_sn, vizParams, 'QMsn de NDWI 2020')\n",
    "# Map2.addLayer(SAVI_2020_sn, vizParams, 'QMsn de SAVI 2020')\n",
    "# Map2.addLayer(NDGI_2020_sn, vis_nieve, 'QMsn de NDGI 2020')\n",
    "# Map2.addLayer(NDSI_2020_sn, vis_nieve, 'QMsn de NDSI 2020')\n",
    "# Map2"
   ]
  },
  {
   "cell_type": "markdown",
   "id": "d9e7e175",
   "metadata": {},
   "source": [
    "### 2019"
   ]
  },
  {
   "cell_type": "code",
   "execution_count": 112,
   "id": "80911c97",
   "metadata": {
    "ExecuteTime": {
     "end_time": "2021-10-05T18:59:11.554432Z",
     "start_time": "2021-10-05T18:59:11.552268Z"
    }
   },
   "outputs": [],
   "source": [
    "start_date = '2018-10-01'\n",
    "end_date = '2019-03-31'\n",
    "\n",
    "l8_2019 = ee.ImageCollection('LANDSAT/LC08/C01/T1_TOA') \\\n",
    "    .filterBounds(patagonia_grande) \\\n",
    "    .filterDate(start_date, end_date)"
   ]
  },
  {
   "cell_type": "code",
   "execution_count": 113,
   "id": "4dcb5690",
   "metadata": {},
   "outputs": [],
   "source": [
    "l8_2019 = l8_2019.map(reprojectar)"
   ]
  },
  {
   "cell_type": "code",
   "execution_count": 114,
   "id": "596d9609",
   "metadata": {
    "ExecuteTime": {
     "end_time": "2021-10-05T18:59:11.558837Z",
     "start_time": "2021-10-05T18:59:11.555248Z"
    }
   },
   "outputs": [],
   "source": [
    "coleccion2019 = l8_2019.map(addNDVI).map(addNDWI).map(addNDGI).map(addSAVI).map(addNDSI).map(addDate).map(addCloud)"
   ]
  },
  {
   "cell_type": "code",
   "execution_count": 115,
   "id": "67b699eb",
   "metadata": {
    "ExecuteTime": {
     "end_time": "2021-10-05T18:59:11.561698Z",
     "start_time": "2021-10-05T18:59:11.559804Z"
    }
   },
   "outputs": [],
   "source": [
    "QM_NDVI_2019 = coleccion2019.qualityMosaic('NDVI') # Normalized difference vegetation Index\n",
    "QM_NDWI_2019 = coleccion2019.qualityMosaic('NDWI') # Normalize difference water index\n",
    "QM_SAVI_2019 = coleccion2019.qualityMosaic('SAVI') # Soil Adjusted Vegetation Index \n",
    "QM_NDGI_2019 = coleccion2019.qualityMosaic('NDGI') # Normalized difference glacier index\n",
    "QM_NDSI_2019 = coleccion2019.qualityMosaic('NDSI') # Normalized difference snow index"
   ]
  },
  {
   "cell_type": "code",
   "execution_count": 116,
   "id": "2698dd26",
   "metadata": {
    "ExecuteTime": {
     "end_time": "2021-10-05T18:59:11.564124Z",
     "start_time": "2021-10-05T18:59:11.562649Z"
    }
   },
   "outputs": [],
   "source": [
    "# Map3.addLayer(QM_NDVI_2019, vizParams, 'QM de NDVI 2019')\n",
    "# Map3.addLayer(QM_NDWI_2019, vizParams, 'QM de NDWI 2019')\n",
    "# Map3.addLayer(QM_SAVI_2019, vizParams, 'QM de SAVI 2019')\n",
    "# Map3.addLayer(QM_NDGI_2019, vis_nieve, 'QM de NDGI 2019')\n",
    "# Map3.addLayer(QM_NDSI_2019, vis_nieve, 'QM de NDSI 2019')\n",
    "# Map3"
   ]
  },
  {
   "cell_type": "code",
   "execution_count": 117,
   "id": "ff28e9e5",
   "metadata": {
    "ExecuteTime": {
     "end_time": "2021-10-05T18:59:11.567734Z",
     "start_time": "2021-10-05T18:59:11.565064Z"
    }
   },
   "outputs": [],
   "source": [
    "c2019_sn = coleccion2019.map(Cloud20)\n",
    "NDVI_2019_sn = c2019_sn.qualityMosaic('NDVI')\n",
    "NDWI_2019_sn = c2019_sn.qualityMosaic('NDWI')\n",
    "SAVI_2019_sn = c2019_sn.qualityMosaic('SAVI')\n",
    "NDGI_2019_sn = c2019_sn.qualityMosaic('NDGI')\n",
    "NDSI_2019_sn = c2019_sn.qualityMosaic('NDSI')"
   ]
  },
  {
   "cell_type": "code",
   "execution_count": 118,
   "id": "56dedb0c",
   "metadata": {
    "ExecuteTime": {
     "end_time": "2021-10-05T18:59:11.570087Z",
     "start_time": "2021-10-05T18:59:11.568572Z"
    }
   },
   "outputs": [],
   "source": [
    "# Map4.addLayer(NDVI_2019_sn, vizParams, 'QMsn de NDVI 2019')\n",
    "# Map4.addLayer(NDWI_2019_sn, vizParams, 'QMsn de NDWI 2019')\n",
    "# Map4.addLayer(SAVI_2019_sn, vizParams, 'QMsn de SAVI 2019')\n",
    "# Map4.addLayer(NDGI_2019_sn, vis_nieve, 'QMsn de NDGI 2019')\n",
    "# Map4.addLayer(NDSI_2019_sn, vis_nieve, 'QMsn de NDSI 2019')\n",
    "# Map4"
   ]
  },
  {
   "cell_type": "markdown",
   "id": "19f59336",
   "metadata": {},
   "source": [
    "### 2018"
   ]
  },
  {
   "cell_type": "code",
   "execution_count": 119,
   "id": "2d8f44b8",
   "metadata": {
    "ExecuteTime": {
     "end_time": "2021-10-05T18:59:11.572597Z",
     "start_time": "2021-10-05T18:59:11.570949Z"
    }
   },
   "outputs": [],
   "source": [
    "start_date = '2017-10-01'\n",
    "end_date = '2018-03-31'\n",
    "\n",
    "l8_2018 = ee.ImageCollection('LANDSAT/LC08/C01/T1_TOA') \\\n",
    "    .filterBounds(patagonia_grande) \\\n",
    "    .filterDate(start_date, end_date)"
   ]
  },
  {
   "cell_type": "code",
   "execution_count": 120,
   "id": "e19a871e",
   "metadata": {},
   "outputs": [],
   "source": [
    "l8_2018 = l8_2018.map(reprojectar)"
   ]
  },
  {
   "cell_type": "code",
   "execution_count": 121,
   "id": "e5f94824",
   "metadata": {
    "ExecuteTime": {
     "end_time": "2021-10-05T18:59:11.577577Z",
     "start_time": "2021-10-05T18:59:11.573543Z"
    }
   },
   "outputs": [],
   "source": [
    "coleccion2018 = l8_2018.map(addNDVI).map(addNDWI).map(addNDGI).map(addSAVI).map(addNDSI).map(addDate).map(addCloud)"
   ]
  },
  {
   "cell_type": "code",
   "execution_count": 122,
   "id": "452d3007",
   "metadata": {
    "ExecuteTime": {
     "end_time": "2021-10-05T18:59:11.580635Z",
     "start_time": "2021-10-05T18:59:11.578746Z"
    }
   },
   "outputs": [],
   "source": [
    "QM_NDVI_2018 = coleccion2018.qualityMosaic('NDVI') # Normalized difference vegetation Index\n",
    "QM_NDWI_2018 = coleccion2018.qualityMosaic('NDWI') # Normalize difference water index\n",
    "QM_SAVI_2018 = coleccion2018.qualityMosaic('SAVI') # Soil Adjusted Vegetation Index \n",
    "QM_NDGI_2018 = coleccion2018.qualityMosaic('NDGI') # Normalized difference glacier index\n",
    "QM_NDSI_2018 = coleccion2018.qualityMosaic('NDSI') # Normalized difference snow index"
   ]
  },
  {
   "cell_type": "code",
   "execution_count": 123,
   "id": "cf1389b6",
   "metadata": {
    "ExecuteTime": {
     "end_time": "2021-10-05T18:59:11.582812Z",
     "start_time": "2021-10-05T18:59:11.581510Z"
    }
   },
   "outputs": [],
   "source": [
    "# Map3.addLayer(QM_NDVI_2018, vizParams, 'QM de NDVI 2018')\n",
    "# Map3.addLayer(QM_NDWI_2018, vizParams, 'QM de NDWI 2018')\n",
    "# Map3.addLayer(QM_SAVI_2018, vizParams, 'QM de SAVI 2018')\n",
    "# Map3.addLayer(QM_NDGI_2018, vis_nieve, 'QM de NDGI 2018')\n",
    "# Map3.addLayer(QM_NDSI_2018, vis_nieve, 'QM de NDSI 2018')\n",
    "# Map3"
   ]
  },
  {
   "cell_type": "code",
   "execution_count": 124,
   "id": "6a7d5ff4",
   "metadata": {
    "ExecuteTime": {
     "end_time": "2021-10-05T18:59:11.585936Z",
     "start_time": "2021-10-05T18:59:11.583771Z"
    }
   },
   "outputs": [],
   "source": [
    "c2018_sn = coleccion2018.map(Cloud20)\n",
    "NDVI_2018_sn = c2018_sn.qualityMosaic('NDVI')\n",
    "NDWI_2018_sn = c2018_sn.qualityMosaic('NDWI')\n",
    "SAVI_2018_sn = c2018_sn.qualityMosaic('SAVI')\n",
    "NDGI_2018_sn = c2018_sn.qualityMosaic('NDGI')\n",
    "NDSI_2018_sn = c2018_sn.qualityMosaic('NDSI')"
   ]
  },
  {
   "cell_type": "code",
   "execution_count": 125,
   "id": "ec851683",
   "metadata": {
    "ExecuteTime": {
     "end_time": "2021-10-05T18:59:11.588169Z",
     "start_time": "2021-10-05T18:59:11.586863Z"
    }
   },
   "outputs": [],
   "source": [
    "# Map4.addLayer(NDVI_2018_sn, vizParams, 'QMsn de NDVI 2018')\n",
    "# Map4.addLayer(NDWI_2018_sn, vizParams, 'QMsn de NDWI 2018')\n",
    "# Map4.addLayer(SAVI_2018_sn, vizParams, 'QMsn de SAVI 2018')\n",
    "# Map4.addLayer(NDGI_2018_sn, vis_nieve, 'QMsn de NDGI 2018')\n",
    "# Map4.addLayer(NDSI_2018_sn, vis_nieve, 'QMsn de NDSI 2018')\n",
    "# Map4"
   ]
  },
  {
   "cell_type": "markdown",
   "id": "4f69c36f",
   "metadata": {},
   "source": [
    "### 2017"
   ]
  },
  {
   "cell_type": "code",
   "execution_count": 126,
   "id": "a817f842",
   "metadata": {
    "ExecuteTime": {
     "end_time": "2021-10-05T18:59:11.590919Z",
     "start_time": "2021-10-05T18:59:11.589146Z"
    }
   },
   "outputs": [],
   "source": [
    "start_date = '2016-10-01'\n",
    "end_date = '2017-03-31'\n",
    "\n",
    "l8_2017 = ee.ImageCollection('LANDSAT/LC08/C01/T1_TOA') \\\n",
    "    .filterBounds(patagonia_grande) \\\n",
    "    .filterDate(start_date, end_date)"
   ]
  },
  {
   "cell_type": "code",
   "execution_count": 127,
   "id": "45726c8b",
   "metadata": {},
   "outputs": [],
   "source": [
    "l8_2017 = l8_2017.map(reprojectar)"
   ]
  },
  {
   "cell_type": "code",
   "execution_count": 128,
   "id": "815566d1",
   "metadata": {
    "ExecuteTime": {
     "end_time": "2021-10-05T18:59:11.595669Z",
     "start_time": "2021-10-05T18:59:11.591707Z"
    }
   },
   "outputs": [],
   "source": [
    "coleccion2017 = l8_2017.map(addNDVI).map(addNDWI).map(addNDGI).map(addSAVI).map(addNDSI).map(addDate).map(addCloud)"
   ]
  },
  {
   "cell_type": "code",
   "execution_count": 129,
   "id": "33ff1e34",
   "metadata": {
    "ExecuteTime": {
     "end_time": "2021-10-05T18:59:11.598298Z",
     "start_time": "2021-10-05T18:59:11.596447Z"
    }
   },
   "outputs": [],
   "source": [
    "QM_NDVI_2017 = coleccion2017.qualityMosaic('NDVI') # Normalized difference vegetation Index\n",
    "QM_NDWI_2017 = coleccion2017.qualityMosaic('NDWI') # Normalize difference water index\n",
    "QM_SAVI_2017 = coleccion2017.qualityMosaic('SAVI') # Soil Adjusted Vegetation Index \n",
    "QM_NDGI_2017 = coleccion2017.qualityMosaic('NDGI') # Normalized difference glacier index\n",
    "QM_NDSI_2017 = coleccion2017.qualityMosaic('NDSI') # Normalized difference snow index"
   ]
  },
  {
   "cell_type": "code",
   "execution_count": 130,
   "id": "1e28dffd",
   "metadata": {
    "ExecuteTime": {
     "end_time": "2021-10-05T18:59:11.600888Z",
     "start_time": "2021-10-05T18:59:11.599190Z"
    }
   },
   "outputs": [],
   "source": [
    "# Map7.addLayer(QM_NDVI_2017, vizParams, 'QM de NDVI 2017')\n",
    "# Map7.addLayer(QM_NDWI_2017, vizParams, 'QM de NDWI 2017')\n",
    "# Map7.addLayer(QM_SAVI_2017, vizParams, 'QM de SAVI 2017')\n",
    "# Map7.addLayer(QM_NDGI_2017, vis_nieve, 'QM de NDGI 2017')\n",
    "# Map7.addLayer(QM_NDSI_2017, vis_nieve, 'QM de NDSI 2017')\n",
    "# Map7"
   ]
  },
  {
   "cell_type": "code",
   "execution_count": 131,
   "id": "2f07d694",
   "metadata": {
    "ExecuteTime": {
     "end_time": "2021-10-05T18:59:11.604083Z",
     "start_time": "2021-10-05T18:59:11.601753Z"
    }
   },
   "outputs": [],
   "source": [
    "c2017_sn = coleccion2017.map(Cloud20)\n",
    "NDVI_2017_sn = c2017_sn.qualityMosaic('NDVI')\n",
    "NDWI_2017_sn = c2017_sn.qualityMosaic('NDWI')\n",
    "SAVI_2017_sn = c2017_sn.qualityMosaic('SAVI')\n",
    "NDGI_2017_sn = c2017_sn.qualityMosaic('NDGI')\n",
    "NDSI_2017_sn = c2017_sn.qualityMosaic('NDSI')"
   ]
  },
  {
   "cell_type": "code",
   "execution_count": 132,
   "id": "0e26e3a5",
   "metadata": {
    "ExecuteTime": {
     "end_time": "2021-10-05T18:59:11.606339Z",
     "start_time": "2021-10-05T18:59:11.605016Z"
    }
   },
   "outputs": [],
   "source": [
    "# Map8.addLayer(NDVI_2017_sn, vizParams, 'QMsn de NDVI 2017')\n",
    "# Map8.addLayer(NDWI_2017_sn, vizParams, 'QMsn de NDWI 2017')\n",
    "# Map8.addLayer(SAVI_2017_sn, vizParams, 'QMsn de SAVI 2017')\n",
    "# Map8.addLayer(NDGI_2017_sn, vis_nieve, 'QMsn de NDGI 2017')\n",
    "# Map8.addLayer(NDSI_2017_sn, vis_nieve, 'QMsn de NDSI 2017')\n",
    "# Map8"
   ]
  },
  {
   "cell_type": "markdown",
   "id": "0b1ed84e",
   "metadata": {},
   "source": [
    "#### Colección agua 2019-2021"
   ]
  },
  {
   "cell_type": "code",
   "execution_count": 133,
   "id": "a36b9987",
   "metadata": {
    "ExecuteTime": {
     "end_time": "2021-10-05T18:59:11.608850Z",
     "start_time": "2021-10-05T18:59:11.607230Z"
    }
   },
   "outputs": [],
   "source": [
    "start_date = '2018-10-01'\n",
    "end_date = '2021-03-31'\n",
    "\n",
    "l8_2021_sur = ee.ImageCollection('LANDSAT/LC08/C01/T1_TOA') \\\n",
    "    .filterBounds(patagonia_grande) \\\n",
    "    .filterDate(start_date, end_date)"
   ]
  },
  {
   "cell_type": "code",
   "execution_count": 134,
   "id": "cbd523f7",
   "metadata": {
    "ExecuteTime": {
     "end_time": "2021-10-05T18:59:11.613821Z",
     "start_time": "2021-10-05T18:59:11.609842Z"
    }
   },
   "outputs": [],
   "source": [
    "coleccion2021_sur = l8_2021_sur.map(addNDVI).map(addNDWI).map(addNDGI).map(addSAVI).map(addNDSI).map(addDate).map(addCloud)"
   ]
  },
  {
   "cell_type": "code",
   "execution_count": 135,
   "id": "d0acd1f8",
   "metadata": {
    "ExecuteTime": {
     "end_time": "2021-10-05T18:59:11.616911Z",
     "start_time": "2021-10-05T18:59:11.614939Z"
    }
   },
   "outputs": [],
   "source": [
    "QM_NDVI_2021_sur = coleccion2021_sur.qualityMosaic('NDVI') # Normalized difference vegetation Index\n",
    "QM_NDWI_2021_sur = coleccion2021_sur.qualityMosaic('NDWI') # Normalize difference water index\n",
    "QM_SAVI_2021_sur = coleccion2021_sur.qualityMosaic('SAVI') # Soil Adjusted Vegetation Index \n",
    "QM_NDGI_2021_sur = coleccion2021_sur.qualityMosaic('NDGI') # Normalized difference glacier index\n",
    "QM_NDSI_2021_sur = coleccion2021_sur.qualityMosaic('NDSI') # Normalized difference snow index"
   ]
  },
  {
   "cell_type": "code",
   "execution_count": 136,
   "id": "5505ddb6",
   "metadata": {
    "ExecuteTime": {
     "end_time": "2021-10-05T18:59:11.620123Z",
     "start_time": "2021-10-05T18:59:11.617876Z"
    }
   },
   "outputs": [],
   "source": [
    "c2021_sur_sn = coleccion2021_sur.map(Cloud20)\n",
    "NDVI_2021_sur_sn = c2021_sur_sn.qualityMosaic('NDVI')\n",
    "NDWI_2021_sur_sn = c2021_sur_sn.qualityMosaic('NDWI')\n",
    "SAVI_2021_sur_sn = c2021_sur_sn.qualityMosaic('SAVI')\n",
    "NDGI_2021_sur_sn = c2021_sur_sn.qualityMosaic('NDGI')\n",
    "NDSI_2021_sur_sn = c2021_sur_sn.qualityMosaic('NDSI')"
   ]
  },
  {
   "cell_type": "code",
   "execution_count": 137,
   "id": "fe1d026e",
   "metadata": {
    "ExecuteTime": {
     "end_time": "2021-10-05T18:59:11.622189Z",
     "start_time": "2021-10-05T18:59:11.620963Z"
    }
   },
   "outputs": [],
   "source": [
    "# type(NDWI_2021_sur_sn)"
   ]
  },
  {
   "cell_type": "code",
   "execution_count": 138,
   "id": "dbdf6ee9",
   "metadata": {
    "ExecuteTime": {
     "end_time": "2021-10-05T18:59:11.624769Z",
     "start_time": "2021-10-05T18:59:11.623154Z"
    }
   },
   "outputs": [],
   "source": [
    "# NDWI_2021_sur_sn.bandNames().getInfo()"
   ]
  },
  {
   "cell_type": "markdown",
   "id": "dd7d911d",
   "metadata": {},
   "source": [
    "## Indices por colección"
   ]
  },
  {
   "cell_type": "markdown",
   "id": "4ea0a4cd",
   "metadata": {},
   "source": [
    "### Índices 2021"
   ]
  },
  {
   "cell_type": "code",
   "execution_count": 139,
   "id": "426dfca0",
   "metadata": {
    "ExecuteTime": {
     "end_time": "2021-10-05T18:59:11.627202Z",
     "start_time": "2021-10-05T18:59:11.625496Z"
    }
   },
   "outputs": [],
   "source": [
    "NDVI_2021 = NDVI_2021_sn.select('NDVI')\n",
    "NDWI_2021 = NDWI_2021_sn.select('NDWI')\n",
    "SAVI_2021 = SAVI_2021_sn.select('SAVI')\n",
    "NDGI_2021 = NDGI_2021_sn.select('NDGI')\n",
    "NDSI_2021 = NDSI_2021_sn.select('NDSI')"
   ]
  },
  {
   "cell_type": "code",
   "execution_count": 140,
   "id": "eaf84698",
   "metadata": {
    "ExecuteTime": {
     "end_time": "2021-10-05T18:59:11.629323Z",
     "start_time": "2021-10-05T18:59:11.628019Z"
    }
   },
   "outputs": [],
   "source": [
    "# Map9.addLayer(NDVI_2021, {'palette': color_terrain}, 'QMsn de NDVI 2021')\n",
    "# Map9.addLayer(NDWI_2021, {'palette': color_ndwi}, 'QMsn de NDWI 2021')\n",
    "# Map9.addLayer(SAVI_2021, {'palette': color_ndvi}, 'QMsn de SAVI 2021')\n",
    "# Map9.addLayer(NDGI_2021, {'palette': color_glaciar}, 'QMsn de NDGI 2021')\n",
    "# Map9.addLayer(NDSI_2021, {'palette': color_ndwi}, 'QMsn de NDSI 2021')\n",
    "# Map9"
   ]
  },
  {
   "cell_type": "markdown",
   "id": "1e0309e1",
   "metadata": {},
   "source": [
    "### Índices 2020"
   ]
  },
  {
   "cell_type": "code",
   "execution_count": 141,
   "id": "cc1253c0",
   "metadata": {
    "ExecuteTime": {
     "end_time": "2021-10-05T18:59:11.632305Z",
     "start_time": "2021-10-05T18:59:11.630267Z"
    }
   },
   "outputs": [],
   "source": [
    "NDVI_2020 = NDVI_2020_sn.select('NDVI')\n",
    "NDWI_2020 = NDWI_2020_sn.select('NDWI')\n",
    "SAVI_2020 = SAVI_2020_sn.select('SAVI')\n",
    "NDGI_2020 = NDGI_2020_sn.select('NDGI')\n",
    "NDSI_2020 = NDSI_2020_sn.select('NDSI')"
   ]
  },
  {
   "cell_type": "code",
   "execution_count": 142,
   "id": "3e0524d7",
   "metadata": {
    "ExecuteTime": {
     "end_time": "2021-10-05T18:59:11.634754Z",
     "start_time": "2021-10-05T18:59:11.633206Z"
    }
   },
   "outputs": [],
   "source": [
    "# Map5.addLayer(NDVI_2020, {'palette': color_terrain}, 'QMsn de NDVI 2020')\n",
    "# Map5.addLayer(NDWI_2020, {'palette': color_ndwi}, 'QMsn de NDWI 2020')\n",
    "# Map5.addLayer(SAVI_2020, {'palette': color_ndvi}, 'QMsn de SAVI 2020')\n",
    "# Map5.addLayer(NDGI_2020, {'palette': color_glaciar}, 'QMsn de NDGI 2020')\n",
    "# Map5.addLayer(NDSI_2020, {'palette': color_ndwi}, 'QMsn de NDSI 2020')\n",
    "# Map5"
   ]
  },
  {
   "cell_type": "markdown",
   "id": "4aee56c9",
   "metadata": {},
   "source": [
    "### Índices 2019"
   ]
  },
  {
   "cell_type": "code",
   "execution_count": 143,
   "id": "4a0a2445",
   "metadata": {
    "ExecuteTime": {
     "end_time": "2021-10-05T18:59:11.637328Z",
     "start_time": "2021-10-05T18:59:11.635565Z"
    }
   },
   "outputs": [],
   "source": [
    "NDVI_2019 = NDVI_2019_sn.select('NDVI')\n",
    "NDWI_2019 = NDWI_2019_sn.select('NDWI')\n",
    "SAVI_2019 = SAVI_2019_sn.select('SAVI')\n",
    "NDGI_2019 = NDGI_2019_sn.select('NDGI')\n",
    "NDSI_2019 = NDSI_2019_sn.select('NDSI')"
   ]
  },
  {
   "cell_type": "code",
   "execution_count": 144,
   "id": "144629ba",
   "metadata": {
    "ExecuteTime": {
     "end_time": "2021-10-05T18:59:11.639713Z",
     "start_time": "2021-10-05T18:59:11.638189Z"
    }
   },
   "outputs": [],
   "source": [
    "# Map6.addLayer(NDVI_2019, {'palette': color_terrain}, 'QMsn de NDVI 2019')\n",
    "# Map6.addLayer(NDWI_2019, {'palette': color_ndwi}, 'QMsn de NDWI 2019')\n",
    "# Map6.addLayer(SAVI_2019, {'palette': color_ndvi}, 'QMsn de SAVI 2019')\n",
    "# Map6.addLayer(NDGI_2019, {'palette': color_glaciar}, 'QMsn de NDGI 2019')\n",
    "# Map6.addLayer(NDSI_2019, {'palette': color_ndwi}, 'QMsn de NDSI 2019')\n",
    "# Map6"
   ]
  },
  {
   "cell_type": "markdown",
   "id": "e765cd19",
   "metadata": {},
   "source": [
    "### Índices 2018"
   ]
  },
  {
   "cell_type": "code",
   "execution_count": 145,
   "id": "b4275190",
   "metadata": {
    "ExecuteTime": {
     "end_time": "2021-10-05T18:59:11.642325Z",
     "start_time": "2021-10-05T18:59:11.640620Z"
    }
   },
   "outputs": [],
   "source": [
    "NDVI_2018 = NDVI_2018_sn.select('NDVI')\n",
    "NDWI_2018 = NDWI_2018_sn.select('NDWI')\n",
    "SAVI_2018 = SAVI_2018_sn.select('SAVI')\n",
    "NDGI_2018 = NDGI_2018_sn.select('NDGI')\n",
    "NDSI_2018 = NDSI_2018_sn.select('NDSI')"
   ]
  },
  {
   "cell_type": "code",
   "execution_count": 146,
   "id": "977e42e9",
   "metadata": {
    "ExecuteTime": {
     "end_time": "2021-10-05T18:59:11.644988Z",
     "start_time": "2021-10-05T18:59:11.643399Z"
    }
   },
   "outputs": [],
   "source": [
    "# Map6.addLayer(NDVI_2018, {'palette': color_terrain}, 'QMsn de NDVI 2018')\n",
    "# Map6.addLayer(NDWI_2018, {'palette': color_ndwi}, 'QMsn de NDWI 2018')\n",
    "# Map6.addLayer(SAVI_2018, {'palette': color_ndvi}, 'QMsn de SAVI 2018')\n",
    "# Map6.addLayer(NDGI_2018, {'palette': color_glaciar}, 'QMsn de NDGI 2018')\n",
    "# Map6.addLayer(NDSI_2018, {'palette': color_ndwi}, 'QMsn de NDSI 2018')\n",
    "# Map6"
   ]
  },
  {
   "cell_type": "markdown",
   "id": "158b36ac",
   "metadata": {},
   "source": [
    "## Matching de Histogramas"
   ]
  },
  {
   "cell_type": "code",
   "execution_count": 147,
   "id": "c8f22563",
   "metadata": {
    "ExecuteTime": {
     "end_time": "2021-10-05T18:59:11.648801Z",
     "start_time": "2021-10-05T18:59:11.645854Z"
    }
   },
   "outputs": [],
   "source": [
    "def lookup(source_hist, target_hist):\n",
    "    \"\"\"Creates a lookup table to make a source histogram match a target histogram.\n",
    "\n",
    "    Args:\n",
    "        source_hist: The histogram to modify. \n",
    "        Expects the Nx2 array format produced by ee.Reducer.autoHistogram.\n",
    "        target_hist: The histogram to match to. \n",
    "        Expects the Nx2 array format produced by ee.Reducer.autoHistogram.\n",
    "\n",
    "    Returns:\n",
    "        A dictionary with 'x' and 'y' properties that respectively represent the x and y\n",
    "        array inputs to the ee.Image.interpolate function.\n",
    "    \"\"\"\n",
    "\n",
    "    # Split the histograms by column and normalize the counts.\n",
    "    source_values = source_hist.slice(1, 0, 1).project([0])\n",
    "    source_counts = source_hist.slice(1, 1, 2).project([0])\n",
    "    source_counts = source_counts.divide(source_counts.get([-1]))\n",
    "\n",
    "    target_values = target_hist.slice(1, 0, 1).project([0])\n",
    "    target_counts = target_hist.slice(1, 1, 2).project([0])\n",
    "    target_counts = target_counts.divide(target_counts.get([-1]))\n",
    "\n",
    "    # Find first position in target where targetCount >= srcCount[i], for each i.\n",
    "    def make_lookup(n):\n",
    "        return target_values.get(target_counts.gte(n).argmax())\n",
    "\n",
    "    lookup = source_counts.toList().map(make_lookup)\n",
    "\n",
    "    return {'x': source_values.toList(), 'y': lookup}"
   ]
  },
  {
   "cell_type": "code",
   "execution_count": 148,
   "id": "9adbc7c2",
   "metadata": {
    "ExecuteTime": {
     "end_time": "2021-10-05T18:59:11.654835Z",
     "start_time": "2021-10-05T18:59:11.649878Z"
    }
   },
   "outputs": [],
   "source": [
    "def histogram_match(source_img, target_img, geometry):\n",
    "    \"\"\"Performs histogram matching for 3-band RGB images by forcing the histogram CDF of source_img to match target_img.\n",
    "\n",
    "    Args:\n",
    "        source_img: A 3-band ee.Image to be color matched. Must have bands named 'R', 'G', and 'B'.\n",
    "        target_img: A 3-band ee.Image for color reference. Must have bands named 'R', 'G', and 'B'.\n",
    "        geometry: An ee.Geometry that defines the region to generate RGB histograms for.\n",
    "          It should intersect both source_img and target_img inputs.\n",
    "\n",
    "    Returns:\n",
    "        A copy of src_img color-matched to target_img.\n",
    "    \"\"\"\n",
    "\n",
    "    args = {\n",
    "        'reducer': ee.Reducer.autoHistogram(**{'maxBuckets': 1024, 'cumulative': True}),\n",
    "        'geometry': geometry,\n",
    "        'scale': 1, # Need to specify a scale, but it doesn't matter what it is because bestEffort is true.\n",
    "        'maxPixels': 1048576 * 4 - 1,\n",
    "        'bestEffort': True\n",
    "    }\n",
    "\n",
    "    # Only use pixels in target that have a value in source (inside the footprint and unmasked).\n",
    "    source = source_img.reduceRegion(**args)\n",
    "    target = target_img.updateMask(source_img.mask()).reduceRegion(**args)\n",
    "\n",
    "    return ee.Image.cat(\n",
    "        source_img.select(['B1']).interpolate(**lookup(source.getArray('B1'), target.getArray('B1'))),\n",
    "        source_img.select(['B2']).interpolate(**lookup(source.getArray('B2'), target.getArray('B2'))),\n",
    "        source_img.select(['B3']).interpolate(**lookup(source.getArray('B3'), target.getArray('B3'))),\n",
    "        source_img.select(['B4']).interpolate(**lookup(source.getArray('B4'), target.getArray('B4'))),\n",
    "        source_img.select(['B5']).interpolate(**lookup(source.getArray('B5'), target.getArray('B5'))),\n",
    "        source_img.select(['B6']).interpolate(**lookup(source.getArray('B6'), target.getArray('B6'))),\n",
    "        source_img.select(['B7']).interpolate(**lookup(source.getArray('B7'), target.getArray('B7'))),\n",
    "        source_img.select(['B8']).interpolate(**lookup(source.getArray('B8'), target.getArray('B8'))),\n",
    "        source_img.select(['B9']).interpolate(**lookup(source.getArray('B9'), target.getArray('B9'))),\n",
    "        source_img.select(['B10']).interpolate(**lookup(source.getArray('B10'), target.getArray('B10'))),\n",
    "        source_img.select(['B11']).interpolate(**lookup(source.getArray('B11'), target.getArray('B11'))),\n",
    "    ).copyProperties(source_img, ['system:time_start'])"
   ]
  },
  {
   "cell_type": "code",
   "execution_count": 149,
   "id": "006690ff",
   "metadata": {
    "ExecuteTime": {
     "end_time": "2021-10-05T18:59:11.657042Z",
     "start_time": "2021-10-05T18:59:11.655631Z"
    }
   },
   "outputs": [],
   "source": [
    "geometry = geometria_base2.geometry()"
   ]
  },
  {
   "cell_type": "code",
   "execution_count": 150,
   "id": "15798156",
   "metadata": {
    "ExecuteTime": {
     "end_time": "2021-10-05T18:59:11.659418Z",
     "start_time": "2021-10-05T18:59:11.657999Z"
    }
   },
   "outputs": [],
   "source": [
    "# geometry = ee.Geometry({\n",
    "#   'type': 'Polygon',\n",
    "#   'coordinates':\n",
    "#     [[[-72.674, -45.045],\n",
    "#       [-71.603, -45.086],\n",
    "#       [-71.554, -46.027],\n",
    "#       [-72.674, -45.045]]]\n",
    "# });"
   ]
  },
  {
   "cell_type": "code",
   "execution_count": 151,
   "id": "96c0fdd4",
   "metadata": {
    "ExecuteTime": {
     "end_time": "2021-10-05T18:59:11.661548Z",
     "start_time": "2021-10-05T18:59:11.660310Z"
    }
   },
   "outputs": [],
   "source": [
    "# geometryCoordinates = geometry.coordinates()"
   ]
  },
  {
   "cell_type": "code",
   "execution_count": 152,
   "id": "fd5d4d96",
   "metadata": {
    "ExecuteTime": {
     "end_time": "2021-10-05T18:59:11.663927Z",
     "start_time": "2021-10-05T18:59:11.662422Z"
    }
   },
   "outputs": [],
   "source": [
    "# print('geometry.coordinates(...) =', geometryCoordinates)"
   ]
  },
  {
   "cell_type": "code",
   "execution_count": 153,
   "id": "6f2af1f8",
   "metadata": {
    "ExecuteTime": {
     "end_time": "2021-10-05T18:59:11.937818Z",
     "start_time": "2021-10-05T18:59:11.664942Z"
    }
   },
   "outputs": [],
   "source": [
    "QM_NDVI_2021_m = histogram_match(QM_NDVI_2021,colec_base, geometry)"
   ]
  },
  {
   "cell_type": "code",
   "execution_count": 154,
   "id": "01c11fab",
   "metadata": {
    "ExecuteTime": {
     "end_time": "2021-10-05T18:59:12.190159Z",
     "start_time": "2021-10-05T18:59:11.938746Z"
    }
   },
   "outputs": [],
   "source": [
    "NDVI_2021_sn_m = histogram_match(NDVI_2021_sn, colec_base, geometry)"
   ]
  },
  {
   "cell_type": "code",
   "execution_count": 155,
   "id": "da2c9ab0",
   "metadata": {
    "ExecuteTime": {
     "end_time": "2021-10-05T18:59:12.385631Z",
     "start_time": "2021-10-05T18:59:12.191040Z"
    }
   },
   "outputs": [],
   "source": [
    "NDVI_2020_sn_m = histogram_match(NDVI_2020_sn, colec_base, geometry)"
   ]
  },
  {
   "cell_type": "code",
   "execution_count": 156,
   "id": "e775315a",
   "metadata": {
    "ExecuteTime": {
     "end_time": "2021-10-05T18:59:12.640246Z",
     "start_time": "2021-10-05T18:59:12.386542Z"
    }
   },
   "outputs": [],
   "source": [
    "NDVI_2019_sn_m = histogram_match(NDVI_2019_sn, colec_base, geometry)"
   ]
  },
  {
   "cell_type": "code",
   "execution_count": 157,
   "id": "131e6318",
   "metadata": {
    "ExecuteTime": {
     "end_time": "2021-10-05T18:59:12.834213Z",
     "start_time": "2021-10-05T18:59:12.641283Z"
    }
   },
   "outputs": [],
   "source": [
    "NDVI_2018_sn_m = histogram_match(NDVI_2018_sn, colec_base, geometry)"
   ]
  },
  {
   "cell_type": "code",
   "execution_count": 158,
   "id": "53b28336",
   "metadata": {
    "ExecuteTime": {
     "end_time": "2021-10-05T18:59:13.090313Z",
     "start_time": "2021-10-05T18:59:12.835083Z"
    }
   },
   "outputs": [],
   "source": [
    "NDVI_2017_sn_m = histogram_match(NDVI_2017_sn, colec_base, geometry)"
   ]
  },
  {
   "cell_type": "code",
   "execution_count": 159,
   "id": "edf7eecc",
   "metadata": {
    "ExecuteTime": {
     "end_time": "2021-10-05T18:59:13.348939Z",
     "start_time": "2021-10-05T18:59:13.091263Z"
    }
   },
   "outputs": [],
   "source": [
    "NDWI_2021_sur_sn_m = histogram_match(NDWI_2021_sn, colec_base, geometry)"
   ]
  },
  {
   "cell_type": "code",
   "execution_count": 160,
   "id": "0964556b",
   "metadata": {
    "ExecuteTime": {
     "end_time": "2021-10-05T18:59:13.351438Z",
     "start_time": "2021-10-05T18:59:13.349844Z"
    }
   },
   "outputs": [],
   "source": [
    "vis_params_refl = {'min': 0, 'max': 0.25} "
   ]
  },
  {
   "cell_type": "code",
   "execution_count": 161,
   "id": "02bda186",
   "metadata": {
    "ExecuteTime": {
     "end_time": "2021-10-05T18:59:13.354459Z",
     "start_time": "2021-10-05T18:59:13.352717Z"
    }
   },
   "outputs": [],
   "source": [
    "# import folium\n",
    "\n",
    "# def add_ee_layer(self, ee_image_object, vis_params, name):\n",
    "#   map_id_dict = ee.Image(ee_image_object).getMapId(vis_params)\n",
    "#   folium.raster_layers.TileLayer(\n",
    "#       tiles=map_id_dict['tile_fetcher'].url_format,\n",
    "#       attr='Map Data &copy; <a href=\"https://earthengine.google.com/\">Google Earth Engine</a>',\n",
    "#       name=name,\n",
    "#       overlay=True,\n",
    "#       control=True\n",
    "#   ).add_to(self)\n",
    "\n",
    "# folium.Map.add_ee_layer = add_ee_layer"
   ]
  },
  {
   "cell_type": "code",
   "execution_count": 162,
   "id": "54dc379c",
   "metadata": {
    "ExecuteTime": {
     "end_time": "2021-10-05T18:59:13.356703Z",
     "start_time": "2021-10-05T18:59:13.355193Z"
    }
   },
   "outputs": [],
   "source": [
    "# lon, lat, zoom = -45, -70 , 4\n",
    "# vis_params_refl = {'min': 0, 'max': 0.25}\n",
    "# map_matched = folium.Map(location=[lat, lon], zoom_start=zoom)\n",
    "# map_matched.add_ee_layer(QM_NDVI_2021_m, vizParams, 'matched')\n",
    "# display(map_matched.add_child(folium.LayerControl()))"
   ]
  },
  {
   "cell_type": "markdown",
   "id": "dd05e9e8",
   "metadata": {},
   "source": [
    "## Generación de Mosaico"
   ]
  },
  {
   "cell_type": "code",
   "execution_count": 163,
   "id": "9b229098",
   "metadata": {
    "ExecuteTime": {
     "end_time": "2021-10-05T18:59:13.359684Z",
     "start_time": "2021-10-05T18:59:13.357770Z"
    }
   },
   "outputs": [],
   "source": [
    "NDVI_2021_landsat = QM_NDVI_2021.set('SENSOR_ID', 'OLI_TIRS')"
   ]
  },
  {
   "cell_type": "code",
   "execution_count": 164,
   "id": "a98110ba",
   "metadata": {
    "ExecuteTime": {
     "end_time": "2021-10-05T18:59:13.362280Z",
     "start_time": "2021-10-05T18:59:13.360417Z"
    }
   },
   "outputs": [],
   "source": [
    "cloud_2021 = ee.Algorithms.Landsat.simpleCloudScore(NDVI_2021_landsat)"
   ]
  },
  {
   "cell_type": "code",
   "execution_count": 165,
   "id": "745b712d",
   "metadata": {
    "ExecuteTime": {
     "end_time": "2021-10-05T18:59:13.364843Z",
     "start_time": "2021-10-05T18:59:13.363054Z"
    }
   },
   "outputs": [],
   "source": [
    "cloud_2021 = cloud_2021.select('cloud')"
   ]
  },
  {
   "cell_type": "code",
   "execution_count": 166,
   "id": "3351dfe9",
   "metadata": {
    "ExecuteTime": {
     "end_time": "2021-10-05T18:59:13.367329Z",
     "start_time": "2021-10-05T18:59:13.365788Z"
    }
   },
   "outputs": [],
   "source": [
    "palette_nubes = ['#1a9850', '#66bd63', '#a6d96a', '#d9ef8b', '#fee08b', '#fdae61', '#f46d43', '#d73027']"
   ]
  },
  {
   "cell_type": "code",
   "execution_count": 167,
   "id": "aa1c77e2",
   "metadata": {
    "ExecuteTime": {
     "end_time": "2021-10-05T18:59:13.369838Z",
     "start_time": "2021-10-05T18:59:13.368176Z"
    }
   },
   "outputs": [],
   "source": [
    "resultados= [cloud_2021, QM_NDVI_2021]\n",
    "vis_params2=  [\n",
    "    {'palette':palette_nubes}, \n",
    "    vizParams]\n",
    "labels = [\n",
    "    'Nubes 2021',\n",
    "    'QM NDVI 2021']"
   ]
  },
  {
   "cell_type": "code",
   "execution_count": 168,
   "id": "28e91129",
   "metadata": {
    "ExecuteTime": {
     "end_time": "2021-10-05T18:59:13.372529Z",
     "start_time": "2021-10-05T18:59:13.370654Z"
    }
   },
   "outputs": [],
   "source": [
    "# geemap.linked_maps(rows=1, cols=2, height=\"400px\", center=[-45, -75], zoom=4, \n",
    "#                    ee_objects=resultados, vis_params=vis_params2, labels=labels, label_position=\"topright\")"
   ]
  },
  {
   "cell_type": "code",
   "execution_count": 169,
   "id": "93ea56bf",
   "metadata": {
    "ExecuteTime": {
     "end_time": "2021-10-05T18:59:13.375275Z",
     "start_time": "2021-10-05T18:59:13.373261Z"
    }
   },
   "outputs": [],
   "source": [
    "def llenado(image):\n",
    "    return image.where(cloud_2021.gt(20),NDVI_2021_sn)"
   ]
  },
  {
   "cell_type": "code",
   "execution_count": 170,
   "id": "8287934f",
   "metadata": {
    "ExecuteTime": {
     "end_time": "2021-10-05T18:59:13.377458Z",
     "start_time": "2021-10-05T18:59:13.376072Z"
    }
   },
   "outputs": [],
   "source": [
    "img1 = llenado(QM_NDVI_2021)"
   ]
  },
  {
   "cell_type": "code",
   "execution_count": 171,
   "id": "0ea4ebed",
   "metadata": {
    "ExecuteTime": {
     "end_time": "2021-10-05T18:59:13.380467Z",
     "start_time": "2021-10-05T18:59:13.378371Z"
    }
   },
   "outputs": [],
   "source": [
    "img1_landsat = img1.set('SENSOR_ID', 'OLI_TIRS')\n",
    "cloud_img1 = ee.Algorithms.Landsat.simpleCloudScore(img1_landsat)\n",
    "cloud_img1 = cloud_img1.select('cloud')"
   ]
  },
  {
   "cell_type": "code",
   "execution_count": 172,
   "id": "84dbb2d4",
   "metadata": {
    "ExecuteTime": {
     "end_time": "2021-10-05T18:59:13.382839Z",
     "start_time": "2021-10-05T18:59:13.381219Z"
    }
   },
   "outputs": [],
   "source": [
    "resultados= [cloud_img1, img1]\n",
    "vis_params2=  [\n",
    "    {'palette':palette_nubes}, \n",
    "    vizParams]\n",
    "labels = [\n",
    "    'Nubes Mosaico 1',\n",
    "    'Mosaico 1']"
   ]
  },
  {
   "cell_type": "code",
   "execution_count": 173,
   "id": "f3c2a996",
   "metadata": {
    "ExecuteTime": {
     "end_time": "2021-10-05T18:59:13.385563Z",
     "start_time": "2021-10-05T18:59:13.383847Z"
    }
   },
   "outputs": [],
   "source": [
    "# geemap.linked_maps(rows=1, cols=2, height=\"400px\", center=[-45, -75], zoom=4, \n",
    "#                    ee_objects=resultados, vis_params=vis_params2, labels=labels, label_position=\"topright\")"
   ]
  },
  {
   "cell_type": "code",
   "execution_count": 174,
   "id": "9a243ac4",
   "metadata": {
    "ExecuteTime": {
     "end_time": "2021-10-05T18:59:13.388131Z",
     "start_time": "2021-10-05T18:59:13.386355Z"
    }
   },
   "outputs": [],
   "source": [
    "def llenado2(image):\n",
    "    return image.where(cloud_img1.gt(20), NDVI_2020_sn)"
   ]
  },
  {
   "cell_type": "code",
   "execution_count": 175,
   "id": "ada6d94e",
   "metadata": {
    "ExecuteTime": {
     "end_time": "2021-10-05T18:59:13.391134Z",
     "start_time": "2021-10-05T18:59:13.389069Z"
    }
   },
   "outputs": [],
   "source": [
    "img2 = llenado2(img1)"
   ]
  },
  {
   "cell_type": "code",
   "execution_count": 176,
   "id": "e3db0a52",
   "metadata": {
    "ExecuteTime": {
     "end_time": "2021-10-05T18:59:13.393672Z",
     "start_time": "2021-10-05T18:59:13.391879Z"
    }
   },
   "outputs": [],
   "source": [
    "img2_landsat = img2.set('SENSOR_ID', 'OLI_TIRS')\n",
    "cloud_img2 = ee.Algorithms.Landsat.simpleCloudScore(img2_landsat)\n",
    "cloud_img2 = cloud_img2.select('cloud')"
   ]
  },
  {
   "cell_type": "code",
   "execution_count": 177,
   "id": "42d22742",
   "metadata": {
    "ExecuteTime": {
     "end_time": "2021-10-05T18:59:13.396097Z",
     "start_time": "2021-10-05T18:59:13.394523Z"
    }
   },
   "outputs": [],
   "source": [
    "resultados= [cloud_img2, img2]\n",
    "vis_params2=  [\n",
    "    {'palette':palette_nubes}, \n",
    "    vizParams]\n",
    "labels = [\n",
    "    'Nubes Mosaico 2',\n",
    "    'Mosaico 2']"
   ]
  },
  {
   "cell_type": "code",
   "execution_count": 178,
   "id": "5bdcab8c",
   "metadata": {
    "ExecuteTime": {
     "end_time": "2021-10-05T18:59:13.398362Z",
     "start_time": "2021-10-05T18:59:13.396980Z"
    }
   },
   "outputs": [],
   "source": [
    "# geemap.linked_maps(rows=1, cols=2, height=\"400px\", center=[-45, -75], zoom=4, \n",
    "#                    ee_objects=resultados, vis_params=vis_params2, labels=labels, label_position=\"topright\")"
   ]
  },
  {
   "cell_type": "code",
   "execution_count": 179,
   "id": "ca5f91e2",
   "metadata": {
    "ExecuteTime": {
     "end_time": "2021-10-05T18:59:13.401403Z",
     "start_time": "2021-10-05T18:59:13.399288Z"
    }
   },
   "outputs": [],
   "source": [
    "def llenado3(image):\n",
    "    return image.where(cloud_img2.gt(20), NDVI_2019_sn)"
   ]
  },
  {
   "cell_type": "code",
   "execution_count": 180,
   "id": "f52fddee",
   "metadata": {
    "ExecuteTime": {
     "end_time": "2021-10-05T18:59:13.403743Z",
     "start_time": "2021-10-05T18:59:13.402159Z"
    }
   },
   "outputs": [],
   "source": [
    "img3 = llenado3(img2)"
   ]
  },
  {
   "cell_type": "code",
   "execution_count": 181,
   "id": "6d41d9d0",
   "metadata": {
    "ExecuteTime": {
     "end_time": "2021-10-05T18:59:13.406277Z",
     "start_time": "2021-10-05T18:59:13.404595Z"
    }
   },
   "outputs": [],
   "source": [
    "img3_landsat = img3.set('SENSOR_ID', 'OLI_TIRS')\n",
    "cloud_img3 = ee.Algorithms.Landsat.simpleCloudScore(img3_landsat)\n",
    "cloud_img3 = cloud_img3.select('cloud')"
   ]
  },
  {
   "cell_type": "code",
   "execution_count": 182,
   "id": "3a000d62",
   "metadata": {
    "ExecuteTime": {
     "end_time": "2021-10-05T18:59:13.408736Z",
     "start_time": "2021-10-05T18:59:13.407194Z"
    }
   },
   "outputs": [],
   "source": [
    "resultados= [cloud_img3, img3]\n",
    "vis_params2=  [\n",
    "    {'palette':palette_nubes}, \n",
    "    vizParams]\n",
    "labels = [\n",
    "    'Nubes Mosaico 3',\n",
    "    'Mosaico 3']"
   ]
  },
  {
   "cell_type": "code",
   "execution_count": 183,
   "id": "bf275ed6",
   "metadata": {
    "ExecuteTime": {
     "end_time": "2021-10-05T18:59:13.411088Z",
     "start_time": "2021-10-05T18:59:13.409639Z"
    }
   },
   "outputs": [],
   "source": [
    "# geemap.linked_maps(rows=1, cols=2, height=\"400px\", center=[-45, -75], zoom=4, \n",
    "#                    ee_objects=resultados, vis_params=vis_params2, labels=labels, label_position=\"topright\")"
   ]
  },
  {
   "cell_type": "code",
   "execution_count": 184,
   "id": "9d0daae9",
   "metadata": {
    "ExecuteTime": {
     "end_time": "2021-10-05T18:59:13.413356Z",
     "start_time": "2021-10-05T18:59:13.411862Z"
    }
   },
   "outputs": [],
   "source": [
    "def llenado4(image):\n",
    "    return image.where(cloud_img3.gt(20), NDVI_2018_sn)"
   ]
  },
  {
   "cell_type": "code",
   "execution_count": 185,
   "id": "d37f16d5",
   "metadata": {
    "ExecuteTime": {
     "end_time": "2021-10-05T18:59:13.415646Z",
     "start_time": "2021-10-05T18:59:13.414344Z"
    }
   },
   "outputs": [],
   "source": [
    "img4 = llenado4(img3)"
   ]
  },
  {
   "cell_type": "code",
   "execution_count": 186,
   "id": "540d60d8",
   "metadata": {
    "ExecuteTime": {
     "end_time": "2021-10-05T18:59:13.418550Z",
     "start_time": "2021-10-05T18:59:13.416554Z"
    }
   },
   "outputs": [],
   "source": [
    "img4_landsat = img4.set('SENSOR_ID', 'OLI_TIRS')\n",
    "cloud_img4 = ee.Algorithms.Landsat.simpleCloudScore(img4_landsat)\n",
    "cloud_img4 = cloud_img4.select('cloud')"
   ]
  },
  {
   "cell_type": "code",
   "execution_count": 187,
   "id": "3f0e9719",
   "metadata": {
    "ExecuteTime": {
     "end_time": "2021-10-05T18:59:13.421138Z",
     "start_time": "2021-10-05T18:59:13.419428Z"
    }
   },
   "outputs": [],
   "source": [
    "resultados= [cloud_img4, img4]\n",
    "vis_params2=  [\n",
    "    {'palette':palette_nubes}, \n",
    "    vizParams]\n",
    "labels = [\n",
    "    'Nubes Mosaico 4',\n",
    "    'Mosaico 4']"
   ]
  },
  {
   "cell_type": "code",
   "execution_count": 188,
   "id": "41d9a7b8",
   "metadata": {
    "ExecuteTime": {
     "end_time": "2021-10-05T18:59:13.423263Z",
     "start_time": "2021-10-05T18:59:13.421918Z"
    }
   },
   "outputs": [],
   "source": [
    "# geemap.linked_maps(rows=1, cols=2, height=\"400px\", center=[-45, -75], zoom=4, \n",
    "#                    ee_objects=resultados, vis_params=vis_params2, labels=labels, label_position=\"topright\")"
   ]
  },
  {
   "cell_type": "code",
   "execution_count": 189,
   "id": "c93604cb",
   "metadata": {
    "ExecuteTime": {
     "end_time": "2021-10-05T18:59:13.425789Z",
     "start_time": "2021-10-05T18:59:13.424203Z"
    }
   },
   "outputs": [],
   "source": [
    "def llenado5(image):\n",
    "    return image.where(cloud_img4.gt(20), NDVI_2017_sn)"
   ]
  },
  {
   "cell_type": "code",
   "execution_count": 190,
   "id": "59e1291c",
   "metadata": {
    "ExecuteTime": {
     "end_time": "2021-10-05T18:59:13.428040Z",
     "start_time": "2021-10-05T18:59:13.426694Z"
    }
   },
   "outputs": [],
   "source": [
    "img5 = llenado5(img4)"
   ]
  },
  {
   "cell_type": "code",
   "execution_count": 191,
   "id": "1b1462fa",
   "metadata": {
    "ExecuteTime": {
     "end_time": "2021-10-05T18:59:13.430399Z",
     "start_time": "2021-10-05T18:59:13.428858Z"
    }
   },
   "outputs": [],
   "source": [
    "img5_landsat = img5.set('SENSOR_ID', 'OLI_TIRS')\n",
    "cloud_img5 = ee.Algorithms.Landsat.simpleCloudScore(img5_landsat)\n",
    "cloud_img5 = cloud_img5.select('cloud')"
   ]
  },
  {
   "cell_type": "code",
   "execution_count": 192,
   "id": "14081f40",
   "metadata": {
    "ExecuteTime": {
     "end_time": "2021-10-05T18:59:13.433085Z",
     "start_time": "2021-10-05T18:59:13.431370Z"
    }
   },
   "outputs": [],
   "source": [
    "resultados= [cloud_img5, img5]\n",
    "vis_params2=  [\n",
    "    {'palette':palette_nubes}, \n",
    "    vizParams]\n",
    "labels = [\n",
    "    'Nubes Mosaico 5',\n",
    "    'Mosaico 5']"
   ]
  },
  {
   "cell_type": "code",
   "execution_count": 193,
   "id": "8593050e",
   "metadata": {
    "ExecuteTime": {
     "end_time": "2021-10-05T18:59:13.435119Z",
     "start_time": "2021-10-05T18:59:13.433852Z"
    }
   },
   "outputs": [],
   "source": [
    "# geemap.linked_maps(rows=1, cols=2, height=\"400px\", center=[-45, -75], zoom=4, \n",
    "#                    ee_objects=resultados, vis_params=vis_params2, labels=labels, label_position=\"topright\")"
   ]
  },
  {
   "cell_type": "code",
   "execution_count": 194,
   "id": "2e6b728e",
   "metadata": {
    "ExecuteTime": {
     "end_time": "2021-10-05T18:59:13.437775Z",
     "start_time": "2021-10-05T18:59:13.436157Z"
    }
   },
   "outputs": [],
   "source": [
    "def llenado6(image):\n",
    "    return image.where(NDVI_2021.lt(0.25).And(NDWI_2021.gt(0.3)), NDWI_2021_sn)"
   ]
  },
  {
   "cell_type": "code",
   "execution_count": 195,
   "id": "eeac700c",
   "metadata": {
    "ExecuteTime": {
     "end_time": "2021-10-05T18:59:13.439999Z",
     "start_time": "2021-10-05T18:59:13.438557Z"
    }
   },
   "outputs": [],
   "source": [
    "img6 = llenado6(img5)"
   ]
  },
  {
   "cell_type": "code",
   "execution_count": 196,
   "id": "82202db6",
   "metadata": {
    "ExecuteTime": {
     "end_time": "2021-10-05T18:59:13.442441Z",
     "start_time": "2021-10-05T18:59:13.440979Z"
    }
   },
   "outputs": [],
   "source": [
    "img6_landsat = img6.set('SENSOR_ID', 'OLI_TIRS')"
   ]
  },
  {
   "cell_type": "code",
   "execution_count": 197,
   "id": "823a7e18",
   "metadata": {
    "ExecuteTime": {
     "end_time": "2021-10-05T18:59:13.445014Z",
     "start_time": "2021-10-05T18:59:13.443355Z"
    }
   },
   "outputs": [],
   "source": [
    "resultados= [img5, img6]\n",
    "labels = [\n",
    "    'Mosaico 5',\n",
    "    'Mosaico 6']\n",
    "vis_params3=  [\n",
    "     vizParams, \n",
    "    vizParams]"
   ]
  },
  {
   "cell_type": "code",
   "execution_count": 198,
   "id": "87c07712",
   "metadata": {
    "ExecuteTime": {
     "end_time": "2021-10-05T18:59:13.447276Z",
     "start_time": "2021-10-05T18:59:13.445997Z"
    }
   },
   "outputs": [],
   "source": [
    "# geemap.linked_maps(rows=1, cols=2, height=\"400px\", center=[-45, -75], zoom=4, \n",
    "#                    ee_objects=resultados, vis_params=vis_params3, labels=labels, label_position=\"topright\")"
   ]
  },
  {
   "cell_type": "code",
   "execution_count": 199,
   "id": "20454023",
   "metadata": {
    "ExecuteTime": {
     "end_time": "2021-10-05T18:59:13.449554Z",
     "start_time": "2021-10-05T18:59:13.448186Z"
    }
   },
   "outputs": [],
   "source": [
    "# Map10.addLayer(img5, vizParams, 'Mosaico 5')\n",
    "# Map10.addLayer(img6, vizParams, 'Mosaico 6')\n",
    "# Map10"
   ]
  },
  {
   "cell_type": "markdown",
   "id": "18c237e5",
   "metadata": {},
   "source": [
    "### Resultado Final"
   ]
  },
  {
   "cell_type": "code",
   "execution_count": 200,
   "id": "3e85d062",
   "metadata": {
    "ExecuteTime": {
     "end_time": "2021-10-05T18:59:13.452234Z",
     "start_time": "2021-10-05T18:59:13.450584Z"
    }
   },
   "outputs": [],
   "source": [
    "img7 = img6.select(['B1','B2','B3','B4','B5','B6','B7'])\n",
    "# Map10.addLayer(img7, vizParams, 'Mosaico 7')\n",
    "# Map10"
   ]
  },
  {
   "cell_type": "code",
   "execution_count": 201,
   "id": "f985c277",
   "metadata": {
    "ExecuteTime": {
     "end_time": "2021-10-05T18:59:13.454902Z",
     "start_time": "2021-10-05T18:59:13.453095Z"
    }
   },
   "outputs": [],
   "source": [
    "# type(img6)"
   ]
  },
  {
   "cell_type": "code",
   "execution_count": 202,
   "id": "3f26ae54",
   "metadata": {
    "ExecuteTime": {
     "end_time": "2021-10-05T18:59:13.457040Z",
     "start_time": "2021-10-05T18:59:13.455650Z"
    }
   },
   "outputs": [],
   "source": [
    "# img6.bandNames().getInfo()"
   ]
  },
  {
   "cell_type": "code",
   "execution_count": 203,
   "id": "9e384bfb",
   "metadata": {
    "ExecuteTime": {
     "end_time": "2021-10-05T18:59:13.459260Z",
     "start_time": "2021-10-05T18:59:13.457851Z"
    }
   },
   "outputs": [],
   "source": [
    "colec7 = ee.ImageCollection(img7)"
   ]
  },
  {
   "cell_type": "code",
   "execution_count": 204,
   "id": "8bb269ec",
   "metadata": {
    "ExecuteTime": {
     "end_time": "2021-10-05T18:59:13.463783Z",
     "start_time": "2021-10-05T18:59:13.460181Z"
    }
   },
   "outputs": [],
   "source": [
    "coleccion7 = colec7.map(addNDVI).map(addNDWI).map(addNDGI).map(addSAVI).map(addNDSI).map(addDate).map(addCloud)"
   ]
  },
  {
   "cell_type": "code",
   "execution_count": 205,
   "id": "67a2e0e2",
   "metadata": {
    "ExecuteTime": {
     "end_time": "2021-10-05T18:59:13.466324Z",
     "start_time": "2021-10-05T18:59:13.464859Z"
    }
   },
   "outputs": [],
   "source": [
    "property = 'date'"
   ]
  },
  {
   "cell_type": "code",
   "execution_count": 206,
   "id": "9fff05cd",
   "metadata": {
    "ExecuteTime": {
     "end_time": "2021-10-05T18:59:13.468767Z",
     "start_time": "2021-10-05T18:59:13.467251Z"
    }
   },
   "outputs": [],
   "source": [
    "options = {\"title\": 'Fechas Greenest 2021',\n",
    "          \"xlabel\": 'Date',\n",
    "          \"ylabel\": 'Pixel count',\n",
    "          \"colors\": ['#1d6b99']\n",
    "          }"
   ]
  },
  {
   "cell_type": "code",
   "execution_count": 207,
   "id": "1492f0d3",
   "metadata": {
    "ExecuteTime": {
     "end_time": "2021-10-05T18:59:13.471105Z",
     "start_time": "2021-10-05T18:59:13.469701Z"
    }
   },
   "outputs": [],
   "source": [
    "# muestra = img6.sample(patagonia_grande, 10000)"
   ]
  },
  {
   "cell_type": "code",
   "execution_count": 208,
   "id": "0ad9a685",
   "metadata": {
    "ExecuteTime": {
     "end_time": "2021-10-05T18:59:13.473133Z",
     "start_time": "2021-10-05T18:59:13.471915Z"
    }
   },
   "outputs": [],
   "source": [
    "# chart.feature_histogram(muestra, property, **options)"
   ]
  },
  {
   "cell_type": "markdown",
   "id": "c8f38c76",
   "metadata": {},
   "source": [
    "## Mosaicos Matched"
   ]
  },
  {
   "cell_type": "code",
   "execution_count": 209,
   "id": "d5725d05",
   "metadata": {
    "ExecuteTime": {
     "end_time": "2021-10-05T18:59:13.475587Z",
     "start_time": "2021-10-05T18:59:13.474126Z"
    }
   },
   "outputs": [],
   "source": [
    "NDVI_2021_landsat_m = QM_NDVI_2021_m.set('SENSOR_ID', 'OLI_TIRS')"
   ]
  },
  {
   "cell_type": "code",
   "execution_count": 210,
   "id": "3ec3ce95",
   "metadata": {
    "ExecuteTime": {
     "end_time": "2021-10-05T18:59:13.477898Z",
     "start_time": "2021-10-05T18:59:13.476444Z"
    }
   },
   "outputs": [],
   "source": [
    "cloud_2021_m = ee.Algorithms.Landsat.simpleCloudScore(NDVI_2021_landsat_m)"
   ]
  },
  {
   "cell_type": "code",
   "execution_count": 211,
   "id": "1d06d4e6",
   "metadata": {
    "ExecuteTime": {
     "end_time": "2021-10-05T18:59:13.480269Z",
     "start_time": "2021-10-05T18:59:13.478841Z"
    }
   },
   "outputs": [],
   "source": [
    "cloud_2021_m = cloud_2021_m.select('cloud')"
   ]
  },
  {
   "cell_type": "code",
   "execution_count": 212,
   "id": "204cf196",
   "metadata": {
    "ExecuteTime": {
     "end_time": "2021-10-05T18:59:13.483262Z",
     "start_time": "2021-10-05T18:59:13.481360Z"
    }
   },
   "outputs": [],
   "source": [
    "palette_nubes = ['#1a9850', '#66bd63', '#a6d96a', '#d9ef8b', '#fee08b', '#fdae61', '#f46d43', '#d73027']"
   ]
  },
  {
   "cell_type": "code",
   "execution_count": 213,
   "id": "90667fcb",
   "metadata": {
    "ExecuteTime": {
     "end_time": "2021-10-05T18:59:13.485339Z",
     "start_time": "2021-10-05T18:59:13.483987Z"
    }
   },
   "outputs": [],
   "source": [
    "QM_NDVI_2021_m = ee.Image(QM_NDVI_2021_m)"
   ]
  },
  {
   "cell_type": "code",
   "execution_count": 214,
   "id": "8c7e8e20",
   "metadata": {
    "ExecuteTime": {
     "end_time": "2021-10-05T18:59:13.487871Z",
     "start_time": "2021-10-05T18:59:13.486326Z"
    }
   },
   "outputs": [],
   "source": [
    "resultados= [cloud_2021_m, QM_NDVI_2021_m]\n",
    "vis_params2=  [\n",
    "    {'palette':palette_nubes}, \n",
    "    vizParams]\n",
    "labels = [\n",
    "    'Nubes 2021',\n",
    "    'QM NDVI 2021']"
   ]
  },
  {
   "cell_type": "code",
   "execution_count": 215,
   "id": "37ff14a0",
   "metadata": {
    "ExecuteTime": {
     "end_time": "2021-10-05T18:59:13.490159Z",
     "start_time": "2021-10-05T18:59:13.488834Z"
    }
   },
   "outputs": [],
   "source": [
    "# geemap.linked_maps(rows=1, cols=2, height=\"400px\", center=[-45, -75], zoom=4, \n",
    "#                    ee_objects=resultados, vis_params=vis_params2, labels=labels, label_position=\"topright\")"
   ]
  },
  {
   "cell_type": "code",
   "execution_count": 216,
   "id": "dfb9ff31",
   "metadata": {
    "ExecuteTime": {
     "end_time": "2021-10-05T18:59:13.492543Z",
     "start_time": "2021-10-05T18:59:13.491126Z"
    }
   },
   "outputs": [],
   "source": [
    "def llenado(image):\n",
    "    return image.where(cloud_2021_m.gt(20),NDVI_2021_sn_m)"
   ]
  },
  {
   "cell_type": "code",
   "execution_count": 217,
   "id": "fcc244dd",
   "metadata": {
    "ExecuteTime": {
     "end_time": "2021-10-05T18:59:13.495186Z",
     "start_time": "2021-10-05T18:59:13.493448Z"
    }
   },
   "outputs": [],
   "source": [
    "img1_m = llenado(QM_NDVI_2021_m)"
   ]
  },
  {
   "cell_type": "code",
   "execution_count": 218,
   "id": "5966e81c",
   "metadata": {
    "ExecuteTime": {
     "end_time": "2021-10-05T18:59:13.497855Z",
     "start_time": "2021-10-05T18:59:13.496085Z"
    }
   },
   "outputs": [],
   "source": [
    "img1_landsat_m = img1_m.set('SENSOR_ID', 'OLI_TIRS')\n",
    "cloud_img1_m = ee.Algorithms.Landsat.simpleCloudScore(img1_landsat_m)\n",
    "cloud_img1_m = cloud_img1_m.select('cloud')"
   ]
  },
  {
   "cell_type": "code",
   "execution_count": 219,
   "id": "cb935b42",
   "metadata": {
    "ExecuteTime": {
     "end_time": "2021-10-05T18:59:13.500685Z",
     "start_time": "2021-10-05T18:59:13.498996Z"
    }
   },
   "outputs": [],
   "source": [
    "img1_m = ee.Image(img1_m)"
   ]
  },
  {
   "cell_type": "code",
   "execution_count": 220,
   "id": "a6038438",
   "metadata": {
    "ExecuteTime": {
     "end_time": "2021-10-05T18:59:13.502940Z",
     "start_time": "2021-10-05T18:59:13.501472Z"
    }
   },
   "outputs": [],
   "source": [
    "resultados= [cloud_img1_m, img1_m]\n",
    "vis_params2=  [\n",
    "    {'palette':palette_nubes}, \n",
    "    vizParams]\n",
    "labels = [\n",
    "    'Nubes Mosaico 1',\n",
    "    'Mosaico 1']"
   ]
  },
  {
   "cell_type": "code",
   "execution_count": 221,
   "id": "ff549bfe",
   "metadata": {
    "ExecuteTime": {
     "end_time": "2021-10-05T18:59:13.505457Z",
     "start_time": "2021-10-05T18:59:13.503850Z"
    }
   },
   "outputs": [],
   "source": [
    "# geemap.linked_maps(rows=1, cols=2, height=\"400px\", center=[-45, -75], zoom=4, \n",
    "#                    ee_objects=resultados, vis_params=vis_params2, labels=labels, label_position=\"topright\")"
   ]
  },
  {
   "cell_type": "code",
   "execution_count": 222,
   "id": "11700bca",
   "metadata": {
    "ExecuteTime": {
     "end_time": "2021-10-05T18:59:13.507763Z",
     "start_time": "2021-10-05T18:59:13.506248Z"
    }
   },
   "outputs": [],
   "source": [
    "def llenado2(image):\n",
    "    return image.where(cloud_img1_m.gt(20), NDVI_2020_sn_m)"
   ]
  },
  {
   "cell_type": "code",
   "execution_count": 223,
   "id": "b9a26883",
   "metadata": {
    "ExecuteTime": {
     "end_time": "2021-10-05T18:59:13.510108Z",
     "start_time": "2021-10-05T18:59:13.508685Z"
    }
   },
   "outputs": [],
   "source": [
    "img2_m = llenado2(img1_m)"
   ]
  },
  {
   "cell_type": "code",
   "execution_count": 224,
   "id": "47a8156c",
   "metadata": {
    "ExecuteTime": {
     "end_time": "2021-10-05T18:59:13.512731Z",
     "start_time": "2021-10-05T18:59:13.510959Z"
    }
   },
   "outputs": [],
   "source": [
    "img2_landsat_m = img2_m.set('SENSOR_ID', 'OLI_TIRS')\n",
    "cloud_img2_m = ee.Algorithms.Landsat.simpleCloudScore(img2_landsat_m)\n",
    "cloud_img2_m = cloud_img2_m.select('cloud')"
   ]
  },
  {
   "cell_type": "code",
   "execution_count": 225,
   "id": "b6747689",
   "metadata": {
    "ExecuteTime": {
     "end_time": "2021-10-05T18:59:13.515286Z",
     "start_time": "2021-10-05T18:59:13.513555Z"
    }
   },
   "outputs": [],
   "source": [
    "img2_m = ee.Image(img2_m)"
   ]
  },
  {
   "cell_type": "code",
   "execution_count": 226,
   "id": "8a4648ba",
   "metadata": {
    "ExecuteTime": {
     "end_time": "2021-10-05T18:59:13.517663Z",
     "start_time": "2021-10-05T18:59:13.516036Z"
    }
   },
   "outputs": [],
   "source": [
    "resultados= [cloud_img2_m, img2_m]\n",
    "vis_params2=  [\n",
    "    {'palette':palette_nubes}, \n",
    "    vizParams]\n",
    "labels = [\n",
    "    'Nubes Mosaico 2',\n",
    "    'Mosaico 2']"
   ]
  },
  {
   "cell_type": "code",
   "execution_count": 227,
   "id": "5c6eee6f",
   "metadata": {
    "ExecuteTime": {
     "end_time": "2021-10-05T18:59:13.519812Z",
     "start_time": "2021-10-05T18:59:13.518454Z"
    }
   },
   "outputs": [],
   "source": [
    "# geemap.linked_maps(rows=1, cols=2, height=\"400px\", center=[-45, -75], zoom=4, \n",
    "#                    ee_objects=resultados, vis_params=vis_params2, labels=labels, label_position=\"topright\")"
   ]
  },
  {
   "cell_type": "code",
   "execution_count": 228,
   "id": "c3c15ccb",
   "metadata": {
    "ExecuteTime": {
     "end_time": "2021-10-05T18:59:13.522234Z",
     "start_time": "2021-10-05T18:59:13.520696Z"
    }
   },
   "outputs": [],
   "source": [
    "def llenado3(image):\n",
    "    return image.where(cloud_img2_m.gt(20), NDVI_2019_sn_m)"
   ]
  },
  {
   "cell_type": "code",
   "execution_count": 229,
   "id": "be4d98dc",
   "metadata": {
    "ExecuteTime": {
     "end_time": "2021-10-05T18:59:13.524921Z",
     "start_time": "2021-10-05T18:59:13.523090Z"
    }
   },
   "outputs": [],
   "source": [
    "img3_m = llenado3(img2_m)"
   ]
  },
  {
   "cell_type": "code",
   "execution_count": 230,
   "id": "6afe5e92",
   "metadata": {
    "ExecuteTime": {
     "end_time": "2021-10-05T18:59:13.527473Z",
     "start_time": "2021-10-05T18:59:13.525821Z"
    }
   },
   "outputs": [],
   "source": [
    "img3_landsat_m = img3_m.set('SENSOR_ID', 'OLI_TIRS')\n",
    "cloud_img3_m = ee.Algorithms.Landsat.simpleCloudScore(img3_landsat_m)\n",
    "cloud_img3_m = cloud_img3_m.select('cloud')"
   ]
  },
  {
   "cell_type": "code",
   "execution_count": 231,
   "id": "63e6b3e5",
   "metadata": {
    "ExecuteTime": {
     "end_time": "2021-10-05T18:59:13.529958Z",
     "start_time": "2021-10-05T18:59:13.528375Z"
    }
   },
   "outputs": [],
   "source": [
    "img3_m = ee.Image(img3_m)"
   ]
  },
  {
   "cell_type": "code",
   "execution_count": 232,
   "id": "ae7dc873",
   "metadata": {
    "ExecuteTime": {
     "end_time": "2021-10-05T18:59:13.532507Z",
     "start_time": "2021-10-05T18:59:13.530844Z"
    }
   },
   "outputs": [],
   "source": [
    "resultados= [cloud_img3_m, img3_m]\n",
    "vis_params2=  [\n",
    "    {'palette':palette_nubes}, \n",
    "    vizParams]\n",
    "labels = [\n",
    "    'Nubes Mosaico 3',\n",
    "    'Mosaico 3']"
   ]
  },
  {
   "cell_type": "code",
   "execution_count": 233,
   "id": "9da14b29",
   "metadata": {
    "ExecuteTime": {
     "end_time": "2021-10-05T18:59:13.535045Z",
     "start_time": "2021-10-05T18:59:13.533300Z"
    }
   },
   "outputs": [],
   "source": [
    "# geemap.linked_maps(rows=1, cols=2, height=\"400px\", center=[-45, -75], zoom=4, \n",
    "#                    ee_objects=resultados, vis_params=vis_params2, labels=labels, label_position=\"topright\")"
   ]
  },
  {
   "cell_type": "code",
   "execution_count": 234,
   "id": "b4962662",
   "metadata": {
    "ExecuteTime": {
     "end_time": "2021-10-05T18:59:13.537229Z",
     "start_time": "2021-10-05T18:59:13.535764Z"
    }
   },
   "outputs": [],
   "source": [
    "def llenado4(image):\n",
    "    return image.where(cloud_img3_m.gt(20), NDVI_2018_sn_m)"
   ]
  },
  {
   "cell_type": "code",
   "execution_count": 235,
   "id": "d84c0a97",
   "metadata": {
    "ExecuteTime": {
     "end_time": "2021-10-05T18:59:13.539584Z",
     "start_time": "2021-10-05T18:59:13.538158Z"
    }
   },
   "outputs": [],
   "source": [
    "img4_m = llenado4(img3_m)"
   ]
  },
  {
   "cell_type": "code",
   "execution_count": 236,
   "id": "c39b50e8",
   "metadata": {
    "ExecuteTime": {
     "end_time": "2021-10-05T18:59:13.541992Z",
     "start_time": "2021-10-05T18:59:13.540434Z"
    }
   },
   "outputs": [],
   "source": [
    "img4_landsat_m = img4_m.set('SENSOR_ID', 'OLI_TIRS')\n",
    "cloud_img4_m = ee.Algorithms.Landsat.simpleCloudScore(img4_landsat_m)\n",
    "cloud_img4_m = cloud_img4_m.select('cloud')"
   ]
  },
  {
   "cell_type": "code",
   "execution_count": 237,
   "id": "7b4625f1",
   "metadata": {
    "ExecuteTime": {
     "end_time": "2021-10-05T18:59:13.544996Z",
     "start_time": "2021-10-05T18:59:13.542944Z"
    }
   },
   "outputs": [],
   "source": [
    "img4_m = ee.Image(img4_m)"
   ]
  },
  {
   "cell_type": "code",
   "execution_count": 238,
   "id": "b5eeb495",
   "metadata": {
    "ExecuteTime": {
     "end_time": "2021-10-05T18:59:13.547338Z",
     "start_time": "2021-10-05T18:59:13.545776Z"
    }
   },
   "outputs": [],
   "source": [
    "resultados= [cloud_img4_m, img4_m]\n",
    "vis_params2=  [\n",
    "    {'palette':palette_nubes}, \n",
    "    vizParams]\n",
    "labels = [\n",
    "    'Nubes Mosaico 4',\n",
    "    'Mosaico 4']"
   ]
  },
  {
   "cell_type": "code",
   "execution_count": 239,
   "id": "fb6d9f07",
   "metadata": {
    "ExecuteTime": {
     "end_time": "2021-10-05T18:59:13.550018Z",
     "start_time": "2021-10-05T18:59:13.548302Z"
    }
   },
   "outputs": [],
   "source": [
    "# geemap.linked_maps(rows=1, cols=2, height=\"400px\", center=[-45, -75], zoom=4, \n",
    "#                    ee_objects=resultados, vis_params=vis_params2, labels=labels, label_position=\"topright\")"
   ]
  },
  {
   "cell_type": "code",
   "execution_count": 240,
   "id": "c7e17a5c",
   "metadata": {
    "ExecuteTime": {
     "end_time": "2021-10-05T18:59:13.552371Z",
     "start_time": "2021-10-05T18:59:13.550741Z"
    }
   },
   "outputs": [],
   "source": [
    "def llenado5(image):\n",
    "    return image.where(cloud_img4_m.gt(20), NDVI_2017_sn_m)"
   ]
  },
  {
   "cell_type": "code",
   "execution_count": 241,
   "id": "3f49ffa5",
   "metadata": {
    "ExecuteTime": {
     "end_time": "2021-10-05T18:59:13.555037Z",
     "start_time": "2021-10-05T18:59:13.553239Z"
    }
   },
   "outputs": [],
   "source": [
    "img5_m = llenado5(img4_m)"
   ]
  },
  {
   "cell_type": "code",
   "execution_count": 242,
   "id": "16dddde0",
   "metadata": {
    "ExecuteTime": {
     "end_time": "2021-10-05T18:59:13.557338Z",
     "start_time": "2021-10-05T18:59:13.555813Z"
    }
   },
   "outputs": [],
   "source": [
    "img5_landsat_m = img5_m.set('SENSOR_ID', 'OLI_TIRS')\n",
    "cloud_img5_m = ee.Algorithms.Landsat.simpleCloudScore(img5_landsat_m)\n",
    "cloud_img5_m = cloud_img5_m.select('cloud')"
   ]
  },
  {
   "cell_type": "code",
   "execution_count": 243,
   "id": "cc9ea7b8",
   "metadata": {
    "ExecuteTime": {
     "end_time": "2021-10-05T18:59:13.559696Z",
     "start_time": "2021-10-05T18:59:13.558252Z"
    }
   },
   "outputs": [],
   "source": [
    "img5_m = ee.Image(img5_m)"
   ]
  },
  {
   "cell_type": "code",
   "execution_count": 244,
   "id": "992869c7",
   "metadata": {
    "ExecuteTime": {
     "end_time": "2021-10-05T18:59:13.562076Z",
     "start_time": "2021-10-05T18:59:13.560550Z"
    }
   },
   "outputs": [],
   "source": [
    "resultados= [cloud_img5_m, img5_m]\n",
    "vis_params2=  [\n",
    "    {'palette':palette_nubes}, \n",
    "    vizParams]\n",
    "labels = [\n",
    "    'Nubes Mosaico 5',\n",
    "    'Mosaico 5']"
   ]
  },
  {
   "cell_type": "code",
   "execution_count": 245,
   "id": "b8d7e3f8",
   "metadata": {
    "ExecuteTime": {
     "end_time": "2021-10-05T18:59:13.564700Z",
     "start_time": "2021-10-05T18:59:13.562944Z"
    }
   },
   "outputs": [],
   "source": [
    "# geemap.linked_maps(rows=1, cols=2, height=\"400px\", center=[-45, -75], zoom=4, \n",
    "#                    ee_objects=resultados, vis_params=vis_params2, labels=labels, label_position=\"topright\")"
   ]
  },
  {
   "cell_type": "code",
   "execution_count": 246,
   "id": "25bc284f",
   "metadata": {
    "ExecuteTime": {
     "end_time": "2021-10-05T18:59:13.567336Z",
     "start_time": "2021-10-05T18:59:13.565505Z"
    }
   },
   "outputs": [],
   "source": [
    "def llenado6(image):\n",
    "    return image.where(NDVI_2021.lt(0.25).And(NDWI_2021.gt(0.3)), NDWI_2021_sur_sn_m)"
   ]
  },
  {
   "cell_type": "code",
   "execution_count": 247,
   "id": "056eee78",
   "metadata": {
    "ExecuteTime": {
     "end_time": "2021-10-05T18:59:13.569595Z",
     "start_time": "2021-10-05T18:59:13.568134Z"
    }
   },
   "outputs": [],
   "source": [
    "img6_m = llenado6(img5_m)"
   ]
  },
  {
   "cell_type": "code",
   "execution_count": 248,
   "id": "70e58e52",
   "metadata": {
    "ExecuteTime": {
     "end_time": "2021-10-05T18:59:57.627408Z",
     "start_time": "2021-10-05T18:59:13.570502Z"
    }
   },
   "outputs": [],
   "source": [
    "# img6_m.bandNames().getInfo()"
   ]
  },
  {
   "cell_type": "code",
   "execution_count": 249,
   "id": "bf45a446",
   "metadata": {
    "ExecuteTime": {
     "end_time": "2021-10-05T18:59:57.629650Z",
     "start_time": "2021-10-05T18:59:57.628181Z"
    }
   },
   "outputs": [],
   "source": [
    "img6_m = ee.Image(img6_m)"
   ]
  },
  {
   "cell_type": "code",
   "execution_count": 250,
   "id": "73e9f0f9",
   "metadata": {
    "ExecuteTime": {
     "end_time": "2021-10-05T18:59:57.634064Z",
     "start_time": "2021-10-05T18:59:57.630403Z"
    }
   },
   "outputs": [],
   "source": [
    "resultados= [img5_m, img6_m]\n",
    "labels = [\n",
    "    'Mosaico 5',\n",
    "    'Mosaico 6']\n",
    "vis_params3=  [\n",
    "     vizParams, \n",
    "    vizParams]"
   ]
  },
  {
   "cell_type": "code",
   "execution_count": 251,
   "id": "47eb7b43",
   "metadata": {
    "ExecuteTime": {
     "end_time": "2021-10-05T18:59:57.636264Z",
     "start_time": "2021-10-05T18:59:57.634880Z"
    }
   },
   "outputs": [
    {
     "ename": "EEException",
     "evalue": "Reprojection output too large (33652x10159 pixels).",
     "output_type": "error",
     "traceback": [
      "\u001b[0;31m---------------------------------------------------------------------------\u001b[0m",
      "\u001b[0;31mHttpError\u001b[0m                                 Traceback (most recent call last)",
      "\u001b[0;32m~/anaconda3/envs/gee/lib/python3.9/site-packages/ee/data.py\u001b[0m in \u001b[0;36m_execute_cloud_call\u001b[0;34m(call, num_retries)\u001b[0m\n\u001b[1;32m    333\u001b[0m   \u001b[0;32mtry\u001b[0m\u001b[0;34m:\u001b[0m\u001b[0;34m\u001b[0m\u001b[0;34m\u001b[0m\u001b[0m\n\u001b[0;32m--> 334\u001b[0;31m     \u001b[0;32mreturn\u001b[0m \u001b[0mcall\u001b[0m\u001b[0;34m.\u001b[0m\u001b[0mexecute\u001b[0m\u001b[0;34m(\u001b[0m\u001b[0mnum_retries\u001b[0m\u001b[0;34m=\u001b[0m\u001b[0mnum_retries\u001b[0m\u001b[0;34m)\u001b[0m\u001b[0;34m\u001b[0m\u001b[0;34m\u001b[0m\u001b[0m\n\u001b[0m\u001b[1;32m    335\u001b[0m   \u001b[0;32mexcept\u001b[0m \u001b[0mgoogleapiclient\u001b[0m\u001b[0;34m.\u001b[0m\u001b[0merrors\u001b[0m\u001b[0;34m.\u001b[0m\u001b[0mHttpError\u001b[0m \u001b[0;32mas\u001b[0m \u001b[0me\u001b[0m\u001b[0;34m:\u001b[0m\u001b[0;34m\u001b[0m\u001b[0;34m\u001b[0m\u001b[0m\n",
      "\u001b[0;32m~/anaconda3/envs/gee/lib/python3.9/site-packages/googleapiclient/_helpers.py\u001b[0m in \u001b[0;36mpositional_wrapper\u001b[0;34m(*args, **kwargs)\u001b[0m\n\u001b[1;32m    133\u001b[0m                     \u001b[0mlogger\u001b[0m\u001b[0;34m.\u001b[0m\u001b[0mwarning\u001b[0m\u001b[0;34m(\u001b[0m\u001b[0mmessage\u001b[0m\u001b[0;34m)\u001b[0m\u001b[0;34m\u001b[0m\u001b[0;34m\u001b[0m\u001b[0m\n\u001b[0;32m--> 134\u001b[0;31m             \u001b[0;32mreturn\u001b[0m \u001b[0mwrapped\u001b[0m\u001b[0;34m(\u001b[0m\u001b[0;34m*\u001b[0m\u001b[0margs\u001b[0m\u001b[0;34m,\u001b[0m \u001b[0;34m**\u001b[0m\u001b[0mkwargs\u001b[0m\u001b[0;34m)\u001b[0m\u001b[0;34m\u001b[0m\u001b[0;34m\u001b[0m\u001b[0m\n\u001b[0m\u001b[1;32m    135\u001b[0m \u001b[0;34m\u001b[0m\u001b[0m\n",
      "\u001b[0;32m~/anaconda3/envs/gee/lib/python3.9/site-packages/googleapiclient/http.py\u001b[0m in \u001b[0;36mexecute\u001b[0;34m(self, http, num_retries)\u001b[0m\n\u001b[1;32m    914\u001b[0m         \u001b[0;32mif\u001b[0m \u001b[0mresp\u001b[0m\u001b[0;34m.\u001b[0m\u001b[0mstatus\u001b[0m \u001b[0;34m>=\u001b[0m \u001b[0;36m300\u001b[0m\u001b[0;34m:\u001b[0m\u001b[0;34m\u001b[0m\u001b[0;34m\u001b[0m\u001b[0m\n\u001b[0;32m--> 915\u001b[0;31m             \u001b[0;32mraise\u001b[0m \u001b[0mHttpError\u001b[0m\u001b[0;34m(\u001b[0m\u001b[0mresp\u001b[0m\u001b[0;34m,\u001b[0m \u001b[0mcontent\u001b[0m\u001b[0;34m,\u001b[0m \u001b[0muri\u001b[0m\u001b[0;34m=\u001b[0m\u001b[0mself\u001b[0m\u001b[0;34m.\u001b[0m\u001b[0muri\u001b[0m\u001b[0;34m)\u001b[0m\u001b[0;34m\u001b[0m\u001b[0;34m\u001b[0m\u001b[0m\n\u001b[0m\u001b[1;32m    916\u001b[0m         \u001b[0;32mreturn\u001b[0m \u001b[0mself\u001b[0m\u001b[0;34m.\u001b[0m\u001b[0mpostproc\u001b[0m\u001b[0;34m(\u001b[0m\u001b[0mresp\u001b[0m\u001b[0;34m,\u001b[0m \u001b[0mcontent\u001b[0m\u001b[0;34m)\u001b[0m\u001b[0;34m\u001b[0m\u001b[0;34m\u001b[0m\u001b[0m\n",
      "\u001b[0;31mHttpError\u001b[0m: <HttpError 400 when requesting https://earthengine.googleapis.com/v1alpha/projects/earthengine-legacy/maps?fields=name&alt=json returned \"Reprojection output too large (33652x10159 pixels).\". Details: \"Reprojection output too large (33652x10159 pixels).\">",
      "\nDuring handling of the above exception, another exception occurred:\n",
      "\u001b[0;31mEEException\u001b[0m                               Traceback (most recent call last)",
      "\u001b[0;32m/tmp/ipykernel_491/4128284770.py\u001b[0m in \u001b[0;36m<module>\u001b[0;34m\u001b[0m\n\u001b[0;32m----> 1\u001b[0;31m geemap.linked_maps(rows=1, cols=2, height=\"400px\", center=[-45, -75], zoom=4, \n\u001b[0m\u001b[1;32m      2\u001b[0m                    ee_objects=resultados, vis_params=vis_params3, labels=labels, label_position=\"topright\")\n",
      "\u001b[0;32m~/anaconda3/envs/gee/lib/python3.9/site-packages/geemap/geemap.py\u001b[0m in \u001b[0;36mlinked_maps\u001b[0;34m(rows, cols, height, ee_objects, vis_params, labels, label_position, **kwargs)\u001b[0m\n\u001b[1;32m   5575\u001b[0m \u001b[0;34m\u001b[0m\u001b[0m\n\u001b[1;32m   5576\u001b[0m             \u001b[0;32mif\u001b[0m \u001b[0mlen\u001b[0m\u001b[0;34m(\u001b[0m\u001b[0mee_objects\u001b[0m\u001b[0;34m)\u001b[0m \u001b[0;34m>\u001b[0m \u001b[0;36m0\u001b[0m\u001b[0;34m:\u001b[0m\u001b[0;34m\u001b[0m\u001b[0;34m\u001b[0m\u001b[0m\n\u001b[0;32m-> 5577\u001b[0;31m                 \u001b[0mm\u001b[0m\u001b[0;34m.\u001b[0m\u001b[0maddLayer\u001b[0m\u001b[0;34m(\u001b[0m\u001b[0mee_objects\u001b[0m\u001b[0;34m[\u001b[0m\u001b[0mindex\u001b[0m\u001b[0;34m]\u001b[0m\u001b[0;34m,\u001b[0m \u001b[0mvis_params\u001b[0m\u001b[0;34m[\u001b[0m\u001b[0mindex\u001b[0m\u001b[0;34m]\u001b[0m\u001b[0;34m,\u001b[0m \u001b[0mlabels\u001b[0m\u001b[0;34m[\u001b[0m\u001b[0mindex\u001b[0m\u001b[0;34m]\u001b[0m\u001b[0;34m)\u001b[0m\u001b[0;34m\u001b[0m\u001b[0;34m\u001b[0m\u001b[0m\n\u001b[0m\u001b[1;32m   5578\u001b[0m \u001b[0;34m\u001b[0m\u001b[0m\n\u001b[1;32m   5579\u001b[0m             \u001b[0;32mif\u001b[0m \u001b[0mlen\u001b[0m\u001b[0;34m(\u001b[0m\u001b[0mlabels\u001b[0m\u001b[0;34m)\u001b[0m \u001b[0;34m>\u001b[0m \u001b[0;36m0\u001b[0m\u001b[0;34m:\u001b[0m\u001b[0;34m\u001b[0m\u001b[0;34m\u001b[0m\u001b[0m\n",
      "\u001b[0;32m~/anaconda3/envs/gee/lib/python3.9/site-packages/geemap/geemap.py\u001b[0m in \u001b[0;36madd_ee_layer\u001b[0;34m(self, ee_object, vis_params, name, shown, opacity)\u001b[0m\n\u001b[1;32m   1386\u001b[0m                 \u001b[0;32mraise\u001b[0m \u001b[0mException\u001b[0m\u001b[0;34m(\u001b[0m\u001b[0me\u001b[0m\u001b[0;34m)\u001b[0m\u001b[0;34m\u001b[0m\u001b[0;34m\u001b[0m\u001b[0m\n\u001b[1;32m   1387\u001b[0m \u001b[0;34m\u001b[0m\u001b[0m\n\u001b[0;32m-> 1388\u001b[0;31m         \u001b[0mmap_id_dict\u001b[0m \u001b[0;34m=\u001b[0m \u001b[0mee\u001b[0m\u001b[0;34m.\u001b[0m\u001b[0mImage\u001b[0m\u001b[0;34m(\u001b[0m\u001b[0mimage\u001b[0m\u001b[0;34m)\u001b[0m\u001b[0;34m.\u001b[0m\u001b[0mgetMapId\u001b[0m\u001b[0;34m(\u001b[0m\u001b[0mvis_params\u001b[0m\u001b[0;34m)\u001b[0m\u001b[0;34m\u001b[0m\u001b[0;34m\u001b[0m\u001b[0m\n\u001b[0m\u001b[1;32m   1389\u001b[0m         tile_layer = ipyleaflet.TileLayer(\n\u001b[1;32m   1390\u001b[0m             \u001b[0murl\u001b[0m\u001b[0;34m=\u001b[0m\u001b[0mmap_id_dict\u001b[0m\u001b[0;34m[\u001b[0m\u001b[0;34m\"tile_fetcher\"\u001b[0m\u001b[0;34m]\u001b[0m\u001b[0;34m.\u001b[0m\u001b[0murl_format\u001b[0m\u001b[0;34m,\u001b[0m\u001b[0;34m\u001b[0m\u001b[0;34m\u001b[0m\u001b[0m\n",
      "\u001b[0;32m~/anaconda3/envs/gee/lib/python3.9/site-packages/ee/image.py\u001b[0m in \u001b[0;36mgetMapId\u001b[0;34m(self, vis_params)\u001b[0m\n\u001b[1;32m    128\u001b[0m     \u001b[0mvis_image\u001b[0m\u001b[0;34m,\u001b[0m \u001b[0mrequest\u001b[0m \u001b[0;34m=\u001b[0m \u001b[0mself\u001b[0m\u001b[0;34m.\u001b[0m\u001b[0m_apply_visualization\u001b[0m\u001b[0;34m(\u001b[0m\u001b[0mvis_params\u001b[0m\u001b[0;34m)\u001b[0m\u001b[0;34m\u001b[0m\u001b[0;34m\u001b[0m\u001b[0m\n\u001b[1;32m    129\u001b[0m     \u001b[0mrequest\u001b[0m\u001b[0;34m[\u001b[0m\u001b[0;34m'image'\u001b[0m\u001b[0;34m]\u001b[0m \u001b[0;34m=\u001b[0m \u001b[0mvis_image\u001b[0m\u001b[0;34m\u001b[0m\u001b[0;34m\u001b[0m\u001b[0m\n\u001b[0;32m--> 130\u001b[0;31m     \u001b[0mresponse\u001b[0m \u001b[0;34m=\u001b[0m \u001b[0mdata\u001b[0m\u001b[0;34m.\u001b[0m\u001b[0mgetMapId\u001b[0m\u001b[0;34m(\u001b[0m\u001b[0mrequest\u001b[0m\u001b[0;34m)\u001b[0m\u001b[0;34m\u001b[0m\u001b[0;34m\u001b[0m\u001b[0m\n\u001b[0m\u001b[1;32m    131\u001b[0m     \u001b[0mresponse\u001b[0m\u001b[0;34m[\u001b[0m\u001b[0;34m'image'\u001b[0m\u001b[0;34m]\u001b[0m \u001b[0;34m=\u001b[0m \u001b[0mself\u001b[0m\u001b[0;34m\u001b[0m\u001b[0;34m\u001b[0m\u001b[0m\n\u001b[1;32m    132\u001b[0m     \u001b[0;32mreturn\u001b[0m \u001b[0mresponse\u001b[0m\u001b[0;34m\u001b[0m\u001b[0;34m\u001b[0m\u001b[0m\n",
      "\u001b[0;32m~/anaconda3/envs/gee/lib/python3.9/site-packages/ee/data.py\u001b[0m in \u001b[0;36mgetMapId\u001b[0;34m(params)\u001b[0m\n\u001b[1;32m    571\u001b[0m   \u001b[0;31m# Make it return only the name field, as otherwise it echoes the entire\u001b[0m\u001b[0;34m\u001b[0m\u001b[0;34m\u001b[0m\u001b[0;34m\u001b[0m\u001b[0m\n\u001b[1;32m    572\u001b[0m   \u001b[0;31m# request, which might be large.\u001b[0m\u001b[0;34m\u001b[0m\u001b[0;34m\u001b[0m\u001b[0;34m\u001b[0m\u001b[0m\n\u001b[0;32m--> 573\u001b[0;31m   result = _execute_cloud_call(\n\u001b[0m\u001b[1;32m    574\u001b[0m       _get_cloud_api_resource().projects().maps().create(\n\u001b[1;32m    575\u001b[0m           parent=_get_projects_path(), fields='name', body=request))\n",
      "\u001b[0;32m~/anaconda3/envs/gee/lib/python3.9/site-packages/ee/data.py\u001b[0m in \u001b[0;36m_execute_cloud_call\u001b[0;34m(call, num_retries)\u001b[0m\n\u001b[1;32m    334\u001b[0m     \u001b[0;32mreturn\u001b[0m \u001b[0mcall\u001b[0m\u001b[0;34m.\u001b[0m\u001b[0mexecute\u001b[0m\u001b[0;34m(\u001b[0m\u001b[0mnum_retries\u001b[0m\u001b[0;34m=\u001b[0m\u001b[0mnum_retries\u001b[0m\u001b[0;34m)\u001b[0m\u001b[0;34m\u001b[0m\u001b[0;34m\u001b[0m\u001b[0m\n\u001b[1;32m    335\u001b[0m   \u001b[0;32mexcept\u001b[0m \u001b[0mgoogleapiclient\u001b[0m\u001b[0;34m.\u001b[0m\u001b[0merrors\u001b[0m\u001b[0;34m.\u001b[0m\u001b[0mHttpError\u001b[0m \u001b[0;32mas\u001b[0m \u001b[0me\u001b[0m\u001b[0;34m:\u001b[0m\u001b[0;34m\u001b[0m\u001b[0;34m\u001b[0m\u001b[0m\n\u001b[0;32m--> 336\u001b[0;31m     \u001b[0;32mraise\u001b[0m \u001b[0m_translate_cloud_exception\u001b[0m\u001b[0;34m(\u001b[0m\u001b[0me\u001b[0m\u001b[0;34m)\u001b[0m\u001b[0;34m\u001b[0m\u001b[0;34m\u001b[0m\u001b[0m\n\u001b[0m\u001b[1;32m    337\u001b[0m \u001b[0;34m\u001b[0m\u001b[0m\n\u001b[1;32m    338\u001b[0m \u001b[0;34m\u001b[0m\u001b[0m\n",
      "\u001b[0;31mEEException\u001b[0m: Reprojection output too large (33652x10159 pixels)."
     ]
    }
   ],
   "source": [
    "geemap.linked_maps(rows=1, cols=2, height=\"400px\", center=[-45, -75], zoom=4, \n",
    "                   ee_objects=resultados, vis_params=vis_params3, labels=labels, label_position=\"topright\")"
   ]
  },
  {
   "cell_type": "code",
   "execution_count": null,
   "id": "0645dcd8",
   "metadata": {
    "ExecuteTime": {
     "end_time": "2021-10-05T18:59:57.638867Z",
     "start_time": "2021-10-05T18:59:57.637086Z"
    }
   },
   "outputs": [],
   "source": [
    "img6_m_bandas = img6_m.select(['B1','B2','B3','B4','B5','B6','B7'])"
   ]
  },
  {
   "cell_type": "code",
   "execution_count": null,
   "id": "eae34253",
   "metadata": {
    "ExecuteTime": {
     "end_time": "2021-10-05T18:59:57.641294Z",
     "start_time": "2021-10-05T18:59:57.639751Z"
    }
   },
   "outputs": [],
   "source": [
    "vizParams2 = {\n",
    "  'bands': ['B5', 'B4', 'B3'],\n",
    "  'min': 0,\n",
    "  'max': 0.2,\n",
    "  'gamma': [1, 1.1, 1]\n",
    "}"
   ]
  },
  {
   "cell_type": "markdown",
   "id": "71cfd395",
   "metadata": {},
   "source": [
    "### Resultado Final"
   ]
  },
  {
   "cell_type": "code",
   "execution_count": null,
   "id": "f6becda0",
   "metadata": {
    "ExecuteTime": {
     "end_time": "2021-10-05T18:59:57.643434Z",
     "start_time": "2021-10-05T18:59:57.642067Z"
    }
   },
   "outputs": [],
   "source": [
    "Map10.addLayer(img6_m_bandas, vizParams, 'Mosaico 6m')\n",
    "Map10"
   ]
  },
  {
   "cell_type": "code",
   "execution_count": null,
   "id": "83a452f1",
   "metadata": {
    "ExecuteTime": {
     "end_time": "2021-10-05T18:59:57.645637Z",
     "start_time": "2021-10-05T18:59:57.644304Z"
    }
   },
   "outputs": [],
   "source": [
    "# Map12.addLayer(img6_m_bandas, vizParams2, 'Mosaico 6m')\n",
    "# Map12"
   ]
  },
  {
   "cell_type": "code",
   "execution_count": null,
   "id": "6d9a5474",
   "metadata": {
    "ExecuteTime": {
     "end_time": "2021-10-05T19:00:07.195718Z",
     "start_time": "2021-10-05T18:59:57.646593Z"
    }
   },
   "outputs": [],
   "source": [
    "# img6_m.bandNames().getInfo()"
   ]
  },
  {
   "cell_type": "markdown",
   "id": "1e872319",
   "metadata": {},
   "source": [
    "## Clasificación"
   ]
  },
  {
   "cell_type": "code",
   "execution_count": null,
   "id": "3d3603e3",
   "metadata": {
    "ExecuteTime": {
     "end_time": "2021-10-05T19:00:07.213667Z",
     "start_time": "2021-10-05T19:00:07.211571Z"
    }
   },
   "outputs": [],
   "source": [
    "val_shp = os.path.join(work_dir, 'validacion.shp')\n",
    "merged_original = os.path.join(work_dir,'roi_merged.shp')"
   ]
  },
  {
   "cell_type": "code",
   "execution_count": null,
   "id": "bf7bfdeb",
   "metadata": {
    "ExecuteTime": {
     "end_time": "2021-10-05T19:00:08.555414Z",
     "start_time": "2021-10-05T19:00:07.214453Z"
    }
   },
   "outputs": [],
   "source": [
    "val = geemap.shp_to_ee(val_shp)\n",
    "# Map13.addLayer(val, {}, 'Áreas de Validación')"
   ]
  },
  {
   "cell_type": "code",
   "execution_count": null,
   "id": "3b636946",
   "metadata": {
    "ExecuteTime": {
     "end_time": "2021-10-05T19:00:10.251799Z",
     "start_time": "2021-10-05T19:00:08.556353Z"
    }
   },
   "outputs": [],
   "source": [
    "mergedoriginal = geemap.shp_to_ee(merged_original)\n",
    "# Map13.addLayer( mergedoriginal, {}, 'Áreas de entrenamiento Original')"
   ]
  },
  {
   "cell_type": "code",
   "execution_count": null,
   "id": "85616c66",
   "metadata": {
    "ExecuteTime": {
     "end_time": "2021-10-05T19:00:10.254772Z",
     "start_time": "2021-10-05T19:00:10.252824Z"
    }
   },
   "outputs": [],
   "source": [
    "# img6_m = addNDVI(img6_m)\n",
    "# img6_m = addNDWI(img6_m)\n",
    "# img6_m = addNDGI(img6_m)\n",
    "# img6_m = addSAVI(img6_m)\n",
    "# img6_m = addNDSI(img6_m)\n",
    "# img6_m = addDate(img6_m)\n",
    "# img6_m = addCloud(img6_m)"
   ]
  },
  {
   "cell_type": "code",
   "execution_count": null,
   "id": "7f16c9ef",
   "metadata": {
    "ExecuteTime": {
     "end_time": "2021-10-05T19:00:10.257801Z",
     "start_time": "2021-10-05T19:00:10.255485Z"
    }
   },
   "outputs": [],
   "source": [
    "dataset = img6.sampleRegions(**{\n",
    "    'collection': mergedoriginal,\n",
    "    'properties': ['ID'],\n",
    "    'scale': 30,\n",
    "})"
   ]
  },
  {
   "cell_type": "code",
   "execution_count": null,
   "id": "19076563",
   "metadata": {
    "ExecuteTime": {
     "end_time": "2021-10-05T19:00:10.260287Z",
     "start_time": "2021-10-05T19:00:10.258771Z"
    }
   },
   "outputs": [],
   "source": [
    "datasetval = img6.sampleRegions(**{\n",
    "    'collection': val,\n",
    "    'properties': ['ID'],\n",
    "    'scale': 10,\n",
    "})"
   ]
  },
  {
   "cell_type": "code",
   "execution_count": null,
   "id": "5273b637",
   "metadata": {
    "ExecuteTime": {
     "end_time": "2021-10-05T19:00:10.262795Z",
     "start_time": "2021-10-05T19:00:10.261227Z"
    }
   },
   "outputs": [],
   "source": [
    "datasetMatch = img6_m.sampleRegions(**{\n",
    "    'collection': mergedoriginal,\n",
    "    'properties': ['ID'],\n",
    "    'scale': 30,\n",
    "})"
   ]
  },
  {
   "cell_type": "code",
   "execution_count": null,
   "id": "e34adb30",
   "metadata": {
    "ExecuteTime": {
     "end_time": "2021-10-05T19:00:10.265504Z",
     "start_time": "2021-10-05T19:00:10.263879Z"
    }
   },
   "outputs": [],
   "source": [
    "datasetvalMatch= img6_m.sampleRegions(**{\n",
    "    'collection': val,\n",
    "    'properties': ['ID'],\n",
    "    'scale': 10,\n",
    "})"
   ]
  },
  {
   "cell_type": "code",
   "execution_count": null,
   "id": "0be21169",
   "metadata": {
    "ExecuteTime": {
     "end_time": "2021-10-05T19:00:10.267678Z",
     "start_time": "2021-10-05T19:00:10.266331Z"
    }
   },
   "outputs": [],
   "source": [
    "# print(dataset.size().getInfo())"
   ]
  },
  {
   "cell_type": "code",
   "execution_count": null,
   "id": "0cdba8cd",
   "metadata": {
    "ExecuteTime": {
     "end_time": "2021-10-05T19:00:10.269774Z",
     "start_time": "2021-10-05T19:00:10.268538Z"
    }
   },
   "outputs": [],
   "source": [
    "# print(dataset.first().getInfo())"
   ]
  },
  {
   "cell_type": "code",
   "execution_count": null,
   "id": "5c27d8ab",
   "metadata": {
    "ExecuteTime": {
     "end_time": "2021-10-05T19:00:10.272131Z",
     "start_time": "2021-10-05T19:00:10.270843Z"
    }
   },
   "outputs": [],
   "source": [
    "# print(datasetval.first().getInfo())"
   ]
  },
  {
   "cell_type": "markdown",
   "id": "65efc69f",
   "metadata": {},
   "source": [
    "### Muestras y datos de validación"
   ]
  },
  {
   "cell_type": "code",
   "execution_count": null,
   "id": "9f4082a9",
   "metadata": {
    "ExecuteTime": {
     "end_time": "2021-10-05T19:00:10.275196Z",
     "start_time": "2021-10-05T19:00:10.272994Z"
    }
   },
   "outputs": [],
   "source": [
    "# Guardamos las bandas\n",
    "\n",
    "# Esta propiedad guarda las clases de landcover\n",
    "# label = 'b1'\n",
    "label = 'IDH'\n",
    "label1 = 'ID'\n",
    "# Overlay the points on the imagery to get training.\n",
    "# sample = landsat.select(bands).sampleRegions(**{\n",
    "#   'collection': points,\n",
    "#   'properties': [label],\n",
    "#   'scale': 30\n",
    "# })\n",
    "\n",
    "# # Adds a column of deterministic pseudorandom numbers. \n",
    "# sample = sample.randomColumn()\n",
    "\n",
    "# split = 0.7 \n",
    "\n",
    "# training = sample.filter(ee.Filter.lt('random', split))\n",
    "# validation = sample.filter(ee.Filter.gte('random', split))\n",
    "bands = ['B1',\n",
    " 'B2',\n",
    " 'B3',\n",
    " 'B4',\n",
    " 'B5',\n",
    " 'B6',\n",
    " 'B7',\n",
    " 'B8',\n",
    " 'B9',\n",
    " 'B10',\n",
    " 'B11',\n",
    " 'NDVI',\n",
    " 'NDWI',\n",
    " 'NDGI',\n",
    " 'SAVI',\n",
    " 'NDSI',\n",
    "]\n",
    "bands1 = ['B1',\n",
    " 'B2',\n",
    " 'B3',\n",
    " 'B4',\n",
    " 'B5',\n",
    " 'B6',\n",
    " 'B7',\n",
    " 'B8',\n",
    " 'B9',\n",
    " 'B10',\n",
    " 'B11']"
   ]
  },
  {
   "cell_type": "markdown",
   "id": "bb2b3b9b",
   "metadata": {},
   "source": [
    "### Entrenando el modelo"
   ]
  },
  {
   "cell_type": "code",
   "execution_count": null,
   "id": "d2eab14d",
   "metadata": {
    "ExecuteTime": {
     "end_time": "2021-10-05T19:00:10.278096Z",
     "start_time": "2021-10-05T19:00:10.276256Z"
    }
   },
   "outputs": [],
   "source": [
    "classifier = ee.Classifier.smileRandomForest(100).train(dataset, label1, bands)\n",
    "classifierMatch = ee.Classifier.smileRandomForest(100).train(datasetMatch, label1, bands1)"
   ]
  },
  {
   "cell_type": "code",
   "execution_count": null,
   "id": "effbf7b9",
   "metadata": {
    "ExecuteTime": {
     "end_time": "2021-10-05T19:00:10.280572Z",
     "start_time": "2021-10-05T19:00:10.278954Z"
    }
   },
   "outputs": [],
   "source": [
    "result1 = img6.select(bands).classify(classifier)\n",
    "result2_M = img6_m.select(bands1).classify(classifierMatch)"
   ]
  },
  {
   "cell_type": "markdown",
   "id": "7df7206f",
   "metadata": {},
   "source": [
    "### Categorizando"
   ]
  },
  {
   "cell_type": "code",
   "execution_count": null,
   "id": "a9f7e136",
   "metadata": {
    "ExecuteTime": {
     "end_time": "2021-10-05T19:00:10.283638Z",
     "start_time": "2021-10-05T19:00:10.281648Z"
    }
   },
   "outputs": [],
   "source": [
    "class_values1 = [1,2,3,4,5,6,7,8,9,10,11,12,13,14,15,16,17,18]\n",
    "\n",
    "class_palette1 = ['6bee8c', # 1\n",
    " 'f0ff00',\n",
    " '0c40f1',\n",
    " '685205',\n",
    " '0d4404',\n",
    " 'e82d13',\n",
    " 'f99504',\n",
    " '17d4c6',\n",
    " 'dc07e7',\n",
    " '24ff00',\n",
    " '2de50f',\n",
    " 'ccba7d',\n",
    " 'dec61a',\n",
    " '023208',\n",
    " '03c2ff',\n",
    " '97ad0b',\n",
    " 'fdfdfd',\n",
    " 'c0c233'\n",
    "]"
   ]
  },
  {
   "cell_type": "code",
   "execution_count": null,
   "id": "97b63b26",
   "metadata": {
    "ExecuteTime": {
     "end_time": "2021-10-05T19:00:10.285941Z",
     "start_time": "2021-10-05T19:00:10.284403Z"
    }
   },
   "outputs": [],
   "source": [
    "landcover1 = result1.set('classification_class_values', class_values1)\n",
    "landcover1 = landcover1.set('classification_class_palette', class_palette1)"
   ]
  },
  {
   "cell_type": "code",
   "execution_count": null,
   "id": "54eabf1f",
   "metadata": {
    "ExecuteTime": {
     "end_time": "2021-10-05T19:00:10.288524Z",
     "start_time": "2021-10-05T19:00:10.286930Z"
    }
   },
   "outputs": [],
   "source": [
    "landcoverMatch = result2_M.set('classification_class_values', class_values1)\n",
    "landcoverMatch = landcoverMatch.set('classification_class_palette', class_palette1)"
   ]
  },
  {
   "cell_type": "code",
   "execution_count": null,
   "id": "11e0ee3e",
   "metadata": {
    "ExecuteTime": {
     "end_time": "2021-10-05T19:02:31.899347Z",
     "start_time": "2021-10-05T19:00:10.289389Z"
    }
   },
   "outputs": [],
   "source": [
    "Map14.addLayer(landcover1, {}, 'Land cover clasificado Random Forest' )\n",
    "Map14.addLayer(landcoverMatch, {}, 'Land cover clasificado Random Forest Match' )"
   ]
  },
  {
   "cell_type": "code",
   "execution_count": null,
   "id": "882a5f91",
   "metadata": {
    "ExecuteTime": {
     "end_time": "2021-10-05T19:02:31.902500Z",
     "start_time": "2021-10-05T19:02:31.900259Z"
    }
   },
   "outputs": [],
   "source": [
    "type(landcover1)"
   ]
  },
  {
   "cell_type": "code",
   "execution_count": null,
   "id": "8111a0da",
   "metadata": {
    "ExecuteTime": {
     "end_time": "2021-10-05T19:02:31.916856Z",
     "start_time": "2021-10-05T19:02:31.903544Z"
    }
   },
   "outputs": [],
   "source": [
    "\n",
    "legend_dict = {\n",
    "    '01 Achaparrado': '6bee8c',\n",
    "    '02 Agrícola': 'f0ff00',\n",
    "    '03 Agua': '0c40f1',\n",
    "    '04 Arenal o Roca': '685205',\n",
    "    '05 Bosque Degradado': '0d4404',\n",
    "    '06 Cuncunas': 'e82d13',\n",
    "    '07 Estepa': 'f99504',\n",
    "    '08 Humedal': '17d4c6',\n",
    "    '09 Mallin': 'dc07e7',\n",
    "    '10 Matorral abierto': '24ff00',\n",
    "    '11 Matorral denso': '2de50f',\n",
    "    '12 Plantaciones': 'ccba7d',\n",
    "    '13 Praderas': 'dec61a',\n",
    "    '14 Primario': '023208',\n",
    "    '15 Ríos': '03c2ff',\n",
    "    '16 Secundario': '97ad0b',\n",
    "    '17 Sombra topo': 'fdfdfd',\n",
    "    '18 Suelo desnudo': 'c0c233'\n",
    "}\n",
    "Map14.add_legend(legend_title=\"Random Forest\", legend_dict=legend_dict)\n",
    "Map14"
   ]
  },
  {
   "cell_type": "markdown",
   "id": "e80b449e",
   "metadata": {},
   "source": [
    "### Exportando"
   ]
  },
  {
   "cell_type": "code",
   "execution_count": null,
   "id": "4f5f83d5",
   "metadata": {
    "ExecuteTime": {
     "end_time": "2021-10-05T19:02:31.918958Z",
     "start_time": "2021-10-05T19:02:31.917589Z"
    }
   },
   "outputs": [],
   "source": [
    "# landcover_resampleado = landcover1.resample('bicubic')"
   ]
  },
  {
   "cell_type": "code",
   "execution_count": null,
   "id": "3b3e4208",
   "metadata": {
    "ExecuteTime": {
     "end_time": "2021-10-05T19:02:31.921186Z",
     "start_time": "2021-10-05T19:02:31.919879Z"
    }
   },
   "outputs": [],
   "source": [
    "# print('es(...)', ee.Geometry(landcover1).isUnbounded())"
   ]
  },
  {
   "cell_type": "code",
   "execution_count": null,
   "id": "d38f6b01",
   "metadata": {
    "ExecuteTime": {
     "end_time": "2021-10-05T19:02:31.923314Z",
     "start_time": "2021-10-05T19:02:31.922059Z"
    }
   },
   "outputs": [],
   "source": [
    "# landcover1 = landcover1.set('Geometry',patagonia.geometries())\n",
    "# landcover1 = ee.Image(landcover1)"
   ]
  },
  {
   "cell_type": "code",
   "execution_count": null,
   "id": "83527290",
   "metadata": {
    "ExecuteTime": {
     "end_time": "2021-10-05T19:02:33.239427Z",
     "start_time": "2021-10-05T19:02:31.924303Z"
    }
   },
   "outputs": [],
   "source": [
    "work_dir = os.path.expanduser('../../../Data/shapes/')\n",
    "corte = os.path.join(work_dir, 'img_base.shp')\n",
    "corte = geemap.shp_to_ee(corte)"
   ]
  },
  {
   "cell_type": "code",
   "execution_count": null,
   "id": "6893f397",
   "metadata": {
    "ExecuteTime": {
     "end_time": "2021-10-05T19:02:33.242095Z",
     "start_time": "2021-10-05T19:02:33.240333Z"
    }
   },
   "outputs": [],
   "source": [
    "clipped = landcover1.clip(corte)"
   ]
  },
  {
   "cell_type": "code",
   "execution_count": null,
   "id": "490e6b52",
   "metadata": {
    "ExecuteTime": {
     "end_time": "2021-10-05T19:02:33.244956Z",
     "start_time": "2021-10-05T19:02:33.242825Z"
    }
   },
   "outputs": [],
   "source": [
    "# Map15.addLayer(clipped,{},'corte')\n",
    "# Map15"
   ]
  },
  {
   "cell_type": "code",
   "execution_count": null,
   "id": "92df3f9f",
   "metadata": {
    "ExecuteTime": {
     "end_time": "2021-10-05T19:02:33.247646Z",
     "start_time": "2021-10-05T19:02:33.245827Z"
    }
   },
   "outputs": [],
   "source": [
    "# type(clipped)"
   ]
  },
  {
   "cell_type": "code",
   "execution_count": null,
   "id": "44f35a34",
   "metadata": {
    "ExecuteTime": {
     "end_time": "2021-10-05T19:02:33.249781Z",
     "start_time": "2021-10-05T19:02:33.248409Z"
    }
   },
   "outputs": [],
   "source": [
    "geemap.ee_export_image_to_drive(landcover1, description='pixel_fix', folder='export', region=patagonia_grande.geometry(), scale=900)"
   ]
  },
  {
   "cell_type": "code",
   "execution_count": null,
   "id": "0ff24163",
   "metadata": {},
   "outputs": [],
   "source": []
  }
 ],
 "metadata": {
  "kernelspec": {
   "display_name": "Python 3 (ipykernel)",
   "language": "python",
   "name": "python3"
  },
  "language_info": {
   "codemirror_mode": {
    "name": "ipython",
    "version": 3
   },
   "file_extension": ".py",
   "mimetype": "text/x-python",
   "name": "python",
   "nbconvert_exporter": "python",
   "pygments_lexer": "ipython3",
   "version": "3.9.2"
  },
  "toc": {
   "base_numbering": 1,
   "nav_menu": {},
   "number_sections": true,
   "sideBar": true,
   "skip_h1_title": false,
   "title_cell": "Table of Contents",
   "title_sidebar": "Contents",
   "toc_cell": false,
   "toc_position": {
    "height": "calc(100% - 180px)",
    "left": "10px",
    "top": "150px",
    "width": "384px"
   },
   "toc_section_display": true,
   "toc_window_display": true
  },
  "varInspector": {
   "cols": {
    "lenName": 16,
    "lenType": 16,
    "lenVar": 40
   },
   "kernels_config": {
    "python": {
     "delete_cmd_postfix": "",
     "delete_cmd_prefix": "del ",
     "library": "var_list.py",
     "varRefreshCmd": "print(var_dic_list())"
    },
    "r": {
     "delete_cmd_postfix": ") ",
     "delete_cmd_prefix": "rm(",
     "library": "var_list.r",
     "varRefreshCmd": "cat(var_dic_list()) "
    }
   },
   "types_to_exclude": [
    "module",
    "function",
    "builtin_function_or_method",
    "instance",
    "_Feature"
   ],
   "window_display": false
  }
 },
 "nbformat": 4,
 "nbformat_minor": 5
}
