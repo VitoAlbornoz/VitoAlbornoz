{
 "cells": [
  {
   "cell_type": "markdown",
   "id": "c8ee7fef",
   "metadata": {},
   "source": [
    "# Mosaico 2021"
   ]
  },
  {
   "cell_type": "markdown",
   "id": "203f76ca",
   "metadata": {},
   "source": [
    "Script trabajado por Francisco Albornoz (2021-04-13) / Última modificación / Mosaicos Patagonia"
   ]
  },
  {
   "cell_type": "markdown",
   "id": "2fb5cdeb",
   "metadata": {},
   "source": [
    "2021-08-05 13:07:09 "
   ]
  },
  {
   "cell_type": "code",
   "execution_count": 1,
   "id": "3057c761",
   "metadata": {
    "ExecuteTime": {
     "end_time": "2021-11-22T15:59:39.055666Z",
     "start_time": "2021-11-22T15:59:38.133117Z"
    }
   },
   "outputs": [],
   "source": [
    "import ee\n",
    "import geemap\n",
    "import geemap.chart as chart\n",
    "import os\n",
    "import folium\n",
    "import xarray_leaflet\n",
    "import rasterio \n",
    "from rasterio import plot\n",
    "import matplotlib.pyplot as plt\n",
    "import numpy as np\n",
    "%matplotlib inline"
   ]
  },
  {
   "cell_type": "markdown",
   "id": "1997eeb4",
   "metadata": {},
   "source": [
    "<img src=https://www.ecopaysen.cl/wp-content/uploads/2019/12/ecopaysen_marca_web.png>"
   ]
  },
  {
   "cell_type": "code",
   "execution_count": 2,
   "id": "fca49a56",
   "metadata": {
    "ExecuteTime": {
     "end_time": "2021-11-22T15:59:49.381207Z",
     "start_time": "2021-11-22T15:59:39.056749Z"
    }
   },
   "outputs": [],
   "source": [
    "Map = geemap.Map(center = [-45, -70], zoom = 4)\n",
    "Map1 = geemap.Map(center = [-45, -70], zoom = 4)\n",
    "Map2 = geemap.Map(center = [-45, -70], zoom = 4)\n",
    "Map3 = geemap.Map(center = [-45, -70], zoom = 4)\n",
    "Map4 = geemap.Map(center = [-45, -70], zoom = 4)\n",
    "Map5 = geemap.Map(center = [-45, -70], zoom = 4)\n",
    "Map6 = geemap.Map(center = [-45, -70], zoom = 4)\n",
    "Map7 = geemap.Map(center = [-45, -70], zoom = 4)\n",
    "Map8 = geemap.Map(center = [-45, -70], zoom = 4)\n",
    "Map9 = geemap.Map(center = [-45, -70], zoom = 4)\n",
    "Map10 = geemap.Map(center = [-45, -70], zoom = 4)\n",
    "Map11 = geemap.Map(center = [-45, -70], zoom = 4)\n",
    "Map12 = geemap.Map(center = [-45, -70], zoom = 4)\n",
    "Map13 = geemap.Map(center = [-45, -70], zoom = 4)\n",
    "Map14 = geemap.Map(center = [-45, -70], zoom = 4)\n",
    "Map15 = geemap.Map(center = [-45, -70], zoom = 4)"
   ]
  },
  {
   "cell_type": "markdown",
   "id": "f26fe1a2",
   "metadata": {},
   "source": [
    "## Área de Estudio"
   ]
  },
  {
   "cell_type": "code",
   "execution_count": 3,
   "id": "2aae613d",
   "metadata": {
    "ExecuteTime": {
     "end_time": "2021-11-22T15:59:49.942121Z",
     "start_time": "2021-11-22T15:59:49.381984Z"
    }
   },
   "outputs": [],
   "source": [
    "work_dir = os.path.expanduser('../../../Data/shapes/')\n",
    "patagonia = os.path.join(work_dir, 'patagonia_geo.shp')\n",
    "patagonia_grande = geemap.shp_to_ee(patagonia)\n",
    "base1 = os.path.join(work_dir, 'base_geo.shp')\n",
    "base = geemap.shp_to_ee(base1)"
   ]
  },
  {
   "cell_type": "code",
   "execution_count": 4,
   "id": "ebd00a21",
   "metadata": {
    "ExecuteTime": {
     "end_time": "2021-11-22T15:59:51.341438Z",
     "start_time": "2021-11-22T15:59:49.943213Z"
    }
   },
   "outputs": [],
   "source": [
    "base2 = os.path.join(work_dir, 'base2.shp')\n",
    "base2 = geemap.shp_to_ee(base2)\n",
    "base3 = os.path.join(work_dir, 'base3.shp')\n",
    "base3 = geemap.shp_to_ee(base3)\n",
    "base4 = os.path.join(work_dir, 'base4.shp')\n",
    "base4 = geemap.shp_to_ee(base4)\n",
    "base5 = os.path.join(work_dir, 'base5.shp')\n",
    "base5 = geemap.shp_to_ee(base5)\n",
    "base6 = os.path.join(work_dir, 'base6.shp')\n",
    "base6 = geemap.shp_to_ee(base6)"
   ]
  },
  {
   "cell_type": "code",
   "execution_count": 5,
   "id": "833630fa",
   "metadata": {
    "ExecuteTime": {
     "end_time": "2021-11-22T15:59:51.938640Z",
     "start_time": "2021-11-22T15:59:51.342264Z"
    }
   },
   "outputs": [],
   "source": [
    "geometria_base = os.path.join(work_dir, 'mapa_base_dis.shp') \n",
    "geometria_base = geemap.shp_to_ee(geometria_base)"
   ]
  },
  {
   "cell_type": "code",
   "execution_count": 6,
   "id": "8968a576",
   "metadata": {
    "ExecuteTime": {
     "end_time": "2021-11-22T15:59:52.243782Z",
     "start_time": "2021-11-22T15:59:51.940141Z"
    }
   },
   "outputs": [],
   "source": [
    "geometria_base2 = os.path.join(work_dir, 'area_base2_dis.shp') \n",
    "geometria_base2 = geemap.shp_to_ee(geometria_base2)"
   ]
  },
  {
   "cell_type": "markdown",
   "id": "fa8e2fea",
   "metadata": {},
   "source": [
    "## Colors Bars"
   ]
  },
  {
   "cell_type": "code",
   "execution_count": 7,
   "id": "1efebd11",
   "metadata": {
    "ExecuteTime": {
     "end_time": "2021-11-22T15:59:53.086460Z",
     "start_time": "2021-11-22T15:59:52.244618Z"
    }
   },
   "outputs": [],
   "source": [
    "import geemap.colormaps as cm"
   ]
  },
  {
   "cell_type": "code",
   "execution_count": 8,
   "id": "d159d70f",
   "metadata": {
    "ExecuteTime": {
     "end_time": "2021-11-22T15:59:53.089124Z",
     "start_time": "2021-11-22T15:59:53.087373Z"
    }
   },
   "outputs": [],
   "source": [
    "# cm.palettes.terrain"
   ]
  },
  {
   "cell_type": "code",
   "execution_count": 9,
   "id": "fe999a91",
   "metadata": {
    "ExecuteTime": {
     "end_time": "2021-11-22T15:59:53.095139Z",
     "start_time": "2021-11-22T15:59:53.089866Z"
    }
   },
   "outputs": [],
   "source": [
    "color_ndvi = cm.palettes.ndvi"
   ]
  },
  {
   "cell_type": "code",
   "execution_count": 10,
   "id": "05fb282a",
   "metadata": {
    "ExecuteTime": {
     "end_time": "2021-11-22T15:59:53.099897Z",
     "start_time": "2021-11-22T15:59:53.097021Z"
    }
   },
   "outputs": [],
   "source": [
    "color_ndwi = cm.palettes.ndwi"
   ]
  },
  {
   "cell_type": "code",
   "execution_count": 11,
   "id": "68161910",
   "metadata": {
    "ExecuteTime": {
     "end_time": "2021-11-22T15:59:53.104959Z",
     "start_time": "2021-11-22T15:59:53.100796Z"
    }
   },
   "outputs": [],
   "source": [
    "color_terrain = cm.palettes.terrain"
   ]
  },
  {
   "cell_type": "code",
   "execution_count": 12,
   "id": "8e99245f",
   "metadata": {
    "ExecuteTime": {
     "end_time": "2021-11-22T15:59:53.110044Z",
     "start_time": "2021-11-22T15:59:53.105953Z"
    }
   },
   "outputs": [],
   "source": [
    "color_glaciar = cm.palettes.PuBuGn_r"
   ]
  },
  {
   "cell_type": "code",
   "execution_count": 13,
   "id": "92b8cf41",
   "metadata": {
    "ExecuteTime": {
     "end_time": "2021-11-22T15:59:53.115227Z",
     "start_time": "2021-11-22T15:59:53.110942Z"
    }
   },
   "outputs": [],
   "source": [
    "color_nubes = cm.palettes.inferno"
   ]
  },
  {
   "cell_type": "code",
   "execution_count": 14,
   "id": "39930741",
   "metadata": {
    "ExecuteTime": {
     "end_time": "2021-11-22T15:59:53.120110Z",
     "start_time": "2021-11-22T15:59:53.116132Z"
    }
   },
   "outputs": [],
   "source": [
    "# cm.list_colormaps()"
   ]
  },
  {
   "cell_type": "code",
   "execution_count": 15,
   "id": "0ce61cbe",
   "metadata": {
    "ExecuteTime": {
     "end_time": "2021-11-22T15:59:53.125143Z",
     "start_time": "2021-11-22T15:59:53.120984Z"
    }
   },
   "outputs": [],
   "source": [
    "# cm.plot_colormaps(width=12, height=0.4)"
   ]
  },
  {
   "cell_type": "markdown",
   "id": "11666045",
   "metadata": {},
   "source": [
    "## Funciones"
   ]
  },
  {
   "cell_type": "code",
   "execution_count": 16,
   "id": "166db170",
   "metadata": {
    "ExecuteTime": {
     "end_time": "2021-11-22T15:59:53.130400Z",
     "start_time": "2021-11-22T15:59:53.126031Z"
    }
   },
   "outputs": [],
   "source": [
    "def add_ee_layer(self, ee_image_object, vis_params, name):\n",
    "  map_id_dict = ee.Image(ee_image_object).getMapId(vis_params)\n",
    "  folium.raster_layers.TileLayer(\n",
    "      tiles=map_id_dict['tile_fetcher'].url_format,\n",
    "      attr='Map Data &copy; <a href=\"https://earthengine.google.com/\">Google Earth Engine</a>',\n",
    "      name=name,\n",
    "      overlay=True,\n",
    "      control=True\n",
    "  ).add_to(self)\n",
    "\n",
    "folium.Map.add_ee_layer = add_ee_layer"
   ]
  },
  {
   "cell_type": "code",
   "execution_count": 17,
   "id": "b9e1cdaf",
   "metadata": {
    "ExecuteTime": {
     "end_time": "2021-11-22T15:59:53.135724Z",
     "start_time": "2021-11-22T15:59:53.131105Z"
    }
   },
   "outputs": [],
   "source": [
    "def addNDVI(image): \n",
    "    ndvi = image.normalizedDifference(['B5', 'B4']).rename('NDVI')\n",
    "    return image.addBands(ndvi)"
   ]
  },
  {
   "cell_type": "code",
   "execution_count": 18,
   "id": "4c83d08e",
   "metadata": {
    "ExecuteTime": {
     "end_time": "2021-11-22T15:59:53.140515Z",
     "start_time": "2021-11-22T15:59:53.136620Z"
    }
   },
   "outputs": [],
   "source": [
    "def addNDVI2(image): \n",
    "    ndvi = image.normalizedDifference(['B5', 'B4']).rename('NDVI2')\n",
    "    return image.addBands(ndvi)"
   ]
  },
  {
   "cell_type": "code",
   "execution_count": 19,
   "id": "ad105a37",
   "metadata": {
    "ExecuteTime": {
     "end_time": "2021-11-22T15:59:53.142927Z",
     "start_time": "2021-11-22T15:59:53.141351Z"
    }
   },
   "outputs": [],
   "source": [
    "def addNDWI(image):\n",
    "    ndwi = image.normalizedDifference(['B3','B5']).rename('NDWI')\n",
    "    return image.addBands(ndwi)"
   ]
  },
  {
   "cell_type": "code",
   "execution_count": 20,
   "id": "afd5a921",
   "metadata": {
    "ExecuteTime": {
     "end_time": "2021-11-22T15:59:53.145624Z",
     "start_time": "2021-11-22T15:59:53.143709Z"
    }
   },
   "outputs": [],
   "source": [
    "def addNDGI(image):\n",
    "    ndgi = image.normalizedDifference(['B3','B4']).rename('NDGI')\n",
    "    return image.addBands(ndgi)"
   ]
  },
  {
   "cell_type": "code",
   "execution_count": 21,
   "id": "786770f8",
   "metadata": {
    "ExecuteTime": {
     "end_time": "2021-11-22T15:59:53.148630Z",
     "start_time": "2021-11-22T15:59:53.146299Z"
    }
   },
   "outputs": [],
   "source": [
    "def addSAVI(image):\n",
    "    savi = image.expression(\n",
    "        '((b5 - b4)/(b5 + b4 + 0.5))*1.5', {\n",
    "            'b4':image.select('B4'),\n",
    "            'b5':image.select('B5')\n",
    "        }) \n",
    "    savi= savi.rename('SAVI')\n",
    "    return image.addBands(savi)"
   ]
  },
  {
   "cell_type": "code",
   "execution_count": 22,
   "id": "cffb72aa",
   "metadata": {
    "ExecuteTime": {
     "end_time": "2021-11-22T15:59:53.150918Z",
     "start_time": "2021-11-22T15:59:53.149367Z"
    }
   },
   "outputs": [],
   "source": [
    "def addNDSI(image):\n",
    "    ndsi = image.normalizedDifference(['B3','B6']).rename('NDSI')\n",
    "    return image.addBands(ndsi)"
   ]
  },
  {
   "cell_type": "code",
   "execution_count": 23,
   "id": "4889cabe",
   "metadata": {
    "ExecuteTime": {
     "end_time": "2021-11-22T15:59:53.153430Z",
     "start_time": "2021-11-22T15:59:53.151768Z"
    }
   },
   "outputs": [],
   "source": [
    "def addDate(image):\n",
    "    img_date = ee.Date(image.date())\n",
    "    img_date = ee.Number.parse(img_date.format('YYYYMMdd'))\n",
    "    return image.addBands(ee.Image(img_date).rename('date').toInt())"
   ]
  },
  {
   "cell_type": "code",
   "execution_count": 24,
   "id": "3115c210",
   "metadata": {
    "ExecuteTime": {
     "end_time": "2021-11-22T15:59:53.155972Z",
     "start_time": "2021-11-22T15:59:53.154245Z"
    }
   },
   "outputs": [],
   "source": [
    "def Cloud30(image):\n",
    "    scored = ee.Algorithms.Landsat.simpleCloudScore(image)\n",
    "    return image.updateMask(scored.select(['cloud']).lt(30)) "
   ]
  },
  {
   "cell_type": "code",
   "execution_count": 25,
   "id": "f86cf507",
   "metadata": {
    "ExecuteTime": {
     "end_time": "2021-11-22T15:59:53.158522Z",
     "start_time": "2021-11-22T15:59:53.156697Z"
    }
   },
   "outputs": [],
   "source": [
    "def Cloud20(image):\n",
    "    scored = ee.Algorithms.Landsat.simpleCloudScore(image)\n",
    "    return image.updateMask(scored.select(['cloud']).lt(20)) "
   ]
  },
  {
   "cell_type": "code",
   "execution_count": 26,
   "id": "9d288b40",
   "metadata": {
    "ExecuteTime": {
     "end_time": "2021-11-22T15:59:53.160808Z",
     "start_time": "2021-11-22T15:59:53.159228Z"
    }
   },
   "outputs": [],
   "source": [
    "def Cloud10(image):\n",
    "    scored = ee.Algorithms.Landsat.simpleCloudScore(image)\n",
    "    return image.updateMask(scored.select(['cloud']).lt(10))"
   ]
  },
  {
   "cell_type": "code",
   "execution_count": 27,
   "id": "92d6ba1b",
   "metadata": {
    "ExecuteTime": {
     "end_time": "2021-11-22T15:59:53.163307Z",
     "start_time": "2021-11-22T15:59:53.161705Z"
    }
   },
   "outputs": [],
   "source": [
    "def addCloud(image):\n",
    "    nube = ee.Algorithms.Landsat.simpleCloudScore(image)\n",
    "    return image.addBands(ee.Image(nube.select(['cloud'])).rename('nube'))"
   ]
  },
  {
   "cell_type": "code",
   "execution_count": 28,
   "id": "4eb69ead",
   "metadata": {
    "ExecuteTime": {
     "end_time": "2021-11-22T15:59:53.169381Z",
     "start_time": "2021-11-22T15:59:53.166622Z"
    }
   },
   "outputs": [],
   "source": [
    "def find_closest(target_image, image_col, days):\n",
    "    \"\"\"Filter images in a collection by date proximity and spatial intersection to a target image.\n",
    "\n",
    "    Args:\n",
    "        target_image: An ee.Image whose observation date is used to find near-date images in\n",
    "          the provided image_col image collection. It must have a 'system:time_start' property.\n",
    "        image_col: An ee.ImageCollection to filter by date proximity and spatial intersection\n",
    "          to the target_image. Each image in the collection must have a 'system:time_start'\n",
    "          property.\n",
    "        days: A number that defines the maximum number of days difference allowed between\n",
    "          the target_image and images in the image_col.\n",
    "\n",
    "    Returns:\n",
    "        An ee.ImageCollection that has been filtered to include those images that are within the\n",
    "          given date proximity to target_image and intersect it spatially.\n",
    "    \"\"\"\n",
    "\n",
    "    # Compute the timespan for N days (in milliseconds).\n",
    "    range = ee.Number(days).multiply(1000 * 60 * 60 * 24)\n",
    "\n",
    "    filter = ee.Filter.And(\n",
    "        ee.Filter.maxDifference(range, 'system:time_start', None, 'system:time_start'),\n",
    "        ee.Filter.intersects('.geo', None, '.geo'))\n",
    "\n",
    "    closest = (ee.Join.saveAll('matches', 'measure')\n",
    "        .apply(ee.ImageCollection([target_image]), image_col, filter))\n",
    "\n",
    "    return ee.ImageCollection(ee.List(closest.first().get('matches')))"
   ]
  },
  {
   "cell_type": "markdown",
   "id": "d9a442fb",
   "metadata": {},
   "source": [
    "## Colecciones"
   ]
  },
  {
   "cell_type": "markdown",
   "id": "ccec25b0",
   "metadata": {},
   "source": [
    "### 2021"
   ]
  },
  {
   "cell_type": "code",
   "execution_count": 29,
   "id": "ef53f13a",
   "metadata": {
    "ExecuteTime": {
     "end_time": "2021-11-22T15:59:53.172027Z",
     "start_time": "2021-11-22T15:59:53.170249Z"
    }
   },
   "outputs": [],
   "source": [
    "start_date = '2020-10-01'\n",
    "end_date = '2021-03-31'\n",
    "\n",
    "l8_2021 = ee.ImageCollection('LANDSAT/LC08/C01/T1_TOA') \\\n",
    "    .filterBounds(patagonia_grande) \\\n",
    "    .filterDate(start_date, end_date)  "
   ]
  },
  {
   "cell_type": "code",
   "execution_count": 30,
   "id": "628e2fc7",
   "metadata": {
    "ExecuteTime": {
     "end_time": "2021-11-22T15:59:53.174541Z",
     "start_time": "2021-11-22T15:59:53.172911Z"
    }
   },
   "outputs": [],
   "source": [
    "# def reprojectar(image):\n",
    "#     return image.reproject(crs='EPSG:4326',crsTransform= [0.00025, 0, -180, 0, -0.00025, 80], scale= 30)\\\n",
    "#                 .reduceResolution(reducer= ee.Reducer.mean(),bestEffort=True, maxPixels = 1)\\\n",
    "#                 .copyProperties(image)"
   ]
  },
  {
   "cell_type": "code",
   "execution_count": 31,
   "id": "983511f0",
   "metadata": {
    "ExecuteTime": {
     "end_time": "2021-11-22T15:59:53.177154Z",
     "start_time": "2021-11-22T15:59:53.175394Z"
    }
   },
   "outputs": [],
   "source": [
    "# pr = ee.Projection('EPSG:4326')"
   ]
  },
  {
   "cell_type": "code",
   "execution_count": 32,
   "id": "a059c933",
   "metadata": {
    "ExecuteTime": {
     "end_time": "2021-11-22T15:59:53.179390Z",
     "start_time": "2021-11-22T15:59:53.178067Z"
    }
   },
   "outputs": [],
   "source": [
    "# output_l8 = l8_2021.reduce(ee.Reducer.mean()).reproject(pr)"
   ]
  },
  {
   "cell_type": "code",
   "execution_count": null,
   "id": "458bc5c8",
   "metadata": {},
   "outputs": [],
   "source": []
  },
  {
   "cell_type": "code",
   "execution_count": 33,
   "id": "1f8b3f45",
   "metadata": {
    "ExecuteTime": {
     "end_time": "2021-11-22T15:59:54.322976Z",
     "start_time": "2021-11-22T15:59:53.180258Z"
    }
   },
   "outputs": [],
   "source": [
    "count = l8_2021.size().getInfo()"
   ]
  },
  {
   "cell_type": "code",
   "execution_count": 34,
   "id": "b497f862",
   "metadata": {
    "ExecuteTime": {
     "end_time": "2021-11-22T15:59:54.325935Z",
     "start_time": "2021-11-22T15:59:54.323803Z"
    }
   },
   "outputs": [
    {
     "name": "stdout",
     "output_type": "stream",
     "text": [
      "949\n"
     ]
    }
   ],
   "source": [
    "print(count)"
   ]
  },
  {
   "cell_type": "code",
   "execution_count": 35,
   "id": "015e69de",
   "metadata": {
    "ExecuteTime": {
     "end_time": "2021-11-22T15:59:54.328941Z",
     "start_time": "2021-11-22T15:59:54.326621Z"
    }
   },
   "outputs": [],
   "source": [
    "vizParams = {\n",
    "  'bands': ['B5', 'B4', 'B3'],\n",
    "  'min': 0,\n",
    "  'max': 0.5,\n",
    "  'gamma': [0.95, 1.1, 1]\n",
    "}"
   ]
  },
  {
   "cell_type": "code",
   "execution_count": 36,
   "id": "5621cb6b",
   "metadata": {
    "ExecuteTime": {
     "end_time": "2021-11-22T15:59:54.331943Z",
     "start_time": "2021-11-22T15:59:54.329945Z"
    }
   },
   "outputs": [],
   "source": [
    "vis_nieve = {\n",
    "  'bands': ['B6', 'B4', 'B3'],\n",
    "  'min': 0,\n",
    "  'max': 0.5,\n",
    "  'gamma': [0.95, 1.1, 1]\n",
    "}"
   ]
  },
  {
   "cell_type": "code",
   "execution_count": 37,
   "id": "e858966f",
   "metadata": {
    "ExecuteTime": {
     "end_time": "2021-11-22T15:59:54.333955Z",
     "start_time": "2021-11-22T15:59:54.332598Z"
    }
   },
   "outputs": [],
   "source": [
    "# l8_2021 = l8_2021.map(reprojectar)"
   ]
  },
  {
   "cell_type": "code",
   "execution_count": 38,
   "id": "e704b1c2",
   "metadata": {
    "ExecuteTime": {
     "end_time": "2021-11-22T15:59:54.336423Z",
     "start_time": "2021-11-22T15:59:54.334807Z"
    }
   },
   "outputs": [],
   "source": [
    "def addNDVIr(image): \n",
    "    ndvi = image.normalizedDifference(['B5_1', 'B4_1']).rename('NDVI')\n",
    "    return image.addBands(ndvi)"
   ]
  },
  {
   "cell_type": "code",
   "execution_count": 39,
   "id": "06a293d6",
   "metadata": {
    "ExecuteTime": {
     "end_time": "2021-11-22T15:59:54.341435Z",
     "start_time": "2021-11-22T15:59:54.337272Z"
    }
   },
   "outputs": [],
   "source": [
    "coleccion2021 = l8_2021.map(addNDVI).map(addNDWI).map(addNDGI).map(addSAVI).map(addNDSI).map(addDate).map(addCloud)"
   ]
  },
  {
   "cell_type": "code",
   "execution_count": 40,
   "id": "f724bb1b",
   "metadata": {
    "ExecuteTime": {
     "end_time": "2021-11-22T15:59:54.344428Z",
     "start_time": "2021-11-22T15:59:54.342339Z"
    }
   },
   "outputs": [],
   "source": [
    "QM_NDVI_2021 = coleccion2021.qualityMosaic('NDVI')\n",
    "# Normalized difference vegetation Index\n",
    "QM_NDWI_2021 = coleccion2021.qualityMosaic('NDWI') # Normalize difference water index\n",
    "\n",
    "QM_SAVI_2021 = coleccion2021.qualityMosaic('SAVI') # Soil Adjusted Vegetation Index \n",
    "\n",
    "QM_NDGI_2021 = coleccion2021.qualityMosaic('NDGI') # Normalized difference glacier index\n",
    "\n",
    "QM_NDSI_2021 = coleccion2021.qualityMosaic('NDSI') # Normalized difference snow index\n"
   ]
  },
  {
   "cell_type": "code",
   "execution_count": 41,
   "id": "6c001bbc",
   "metadata": {
    "ExecuteTime": {
     "end_time": "2021-11-22T15:59:55.035683Z",
     "start_time": "2021-11-22T15:59:54.345190Z"
    },
    "scrolled": false
   },
   "outputs": [
    {
     "data": {
      "application/vnd.jupyter.widget-view+json": {
       "model_id": "0d892b629e5c471e90822a2880f14656",
       "version_major": 2,
       "version_minor": 0
      },
      "text/plain": [
       "Map(center=[-45, -70], controls=(WidgetControl(options=['position', 'transparent_bg'], widget=HBox(children=(T…"
      ]
     },
     "metadata": {},
     "output_type": "display_data"
    }
   ],
   "source": [
    "Map.addLayer(QM_NDVI_2021, vizParams, 'QM de NDVI 2021')\n",
    "# Map.addLayer(QM_NDWI_2021, vizParams, 'QM de NDWI 2021')\n",
    "# Map.addLayer(QM_SAVI_2021, vizParams, 'QM de SAVI 2021')\n",
    "# Map.addLayer(QM_NDGI_2021, vis_nieve, 'QM de NDGI 2021')\n",
    "# Map.addLayer(QM_NDSI_2021, vis_nieve, 'QM de NDSI 2021')\n",
    "Map "
   ]
  },
  {
   "cell_type": "code",
   "execution_count": 42,
   "id": "06eebe04",
   "metadata": {
    "ExecuteTime": {
     "end_time": "2021-11-22T15:59:55.039189Z",
     "start_time": "2021-11-22T15:59:55.036516Z"
    }
   },
   "outputs": [],
   "source": [
    "c2021_sn = coleccion2021.map(Cloud20)\n",
    "NDVI_2021_sn = c2021_sn.qualityMosaic('NDVI')\n",
    "NDWI_2021_sn = c2021_sn.qualityMosaic('NDWI')\n",
    "SAVI_2021_sn = c2021_sn.qualityMosaic('SAVI')\n",
    "NDGI_2021_sn = c2021_sn.qualityMosaic('NDGI')\n",
    "NDSI_2021_sn = c2021_sn.qualityMosaic('NDSI')"
   ]
  },
  {
   "cell_type": "code",
   "execution_count": 43,
   "id": "7121bf75",
   "metadata": {
    "ExecuteTime": {
     "end_time": "2021-11-22T15:59:55.041676Z",
     "start_time": "2021-11-22T15:59:55.039920Z"
    }
   },
   "outputs": [],
   "source": [
    "# Map2.addLayer(NDVI_2021_sn, vizParams, 'QMsn de NDVI 2021')\n",
    "# Map2.addLayer(NDWI_2021_sn, vizParams, 'QMsn de NDWI 2021')\n",
    "# Map2.addLayer(SAVI_2021_sn, vizParams, 'QMsn de SAVI 2021')\n",
    "# Map2.addLayer(NDGI_2021_sn, vis_nieve, 'QMsn de NDGI 2021')\n",
    "# Map2.addLayer(NDSI_2021_sn, vis_nieve, 'QMsn de NDSI 2021')\n",
    "# Map2"
   ]
  },
  {
   "cell_type": "markdown",
   "id": "094d9e5d",
   "metadata": {},
   "source": [
    "#### Img base"
   ]
  },
  {
   "cell_type": "markdown",
   "id": "c8735a0a",
   "metadata": {},
   "source": [
    "##### Muestras de imagenes del mosaico"
   ]
  },
  {
   "cell_type": "code",
   "execution_count": 44,
   "id": "4202edec",
   "metadata": {
    "ExecuteTime": {
     "end_time": "2021-11-22T15:59:55.044684Z",
     "start_time": "2021-11-22T15:59:55.042464Z"
    }
   },
   "outputs": [],
   "source": [
    "start_date = '2020-10-01'\n",
    "end_date = '2021-03-31'\n",
    "imgbase = ee.ImageCollection('LANDSAT/LC08/C01/T1_TOA') \\\n",
    "    .filterBounds(base) \\\n",
    "    .filterDate(start_date, end_date) \\\n",
    "    .sort('CLOUD_COVER') \\\n",
    "    .first() \n"
   ]
  },
  {
   "cell_type": "code",
   "execution_count": 45,
   "id": "05155459",
   "metadata": {
    "ExecuteTime": {
     "end_time": "2021-11-22T15:59:55.416242Z",
     "start_time": "2021-11-22T15:59:55.045363Z"
    },
    "scrolled": true
   },
   "outputs": [
    {
     "data": {
      "text/plain": [
       "['system:version',\n",
       " 'system:id',\n",
       " 'RADIANCE_MULT_BAND_5',\n",
       " 'RADIANCE_MULT_BAND_6',\n",
       " 'RADIANCE_MULT_BAND_3',\n",
       " 'RADIANCE_MULT_BAND_4',\n",
       " 'RADIANCE_MULT_BAND_1',\n",
       " 'RADIANCE_MULT_BAND_2',\n",
       " 'K2_CONSTANT_BAND_11',\n",
       " 'K2_CONSTANT_BAND_10',\n",
       " 'system:footprint',\n",
       " 'REFLECTIVE_SAMPLES',\n",
       " 'SUN_AZIMUTH',\n",
       " 'CPF_NAME',\n",
       " 'DATE_ACQUIRED',\n",
       " 'ELLIPSOID',\n",
       " 'google:registration_offset_x',\n",
       " 'google:registration_offset_y',\n",
       " 'STATION_ID',\n",
       " 'RESAMPLING_OPTION',\n",
       " 'ORIENTATION',\n",
       " 'WRS_ROW',\n",
       " 'RADIANCE_MULT_BAND_9',\n",
       " 'TARGET_WRS_ROW',\n",
       " 'RADIANCE_MULT_BAND_7',\n",
       " 'RADIANCE_MULT_BAND_8',\n",
       " 'IMAGE_QUALITY_TIRS',\n",
       " 'TRUNCATION_OLI',\n",
       " 'CLOUD_COVER',\n",
       " 'GEOMETRIC_RMSE_VERIFY',\n",
       " 'COLLECTION_CATEGORY',\n",
       " 'GRID_CELL_SIZE_REFLECTIVE',\n",
       " 'CLOUD_COVER_LAND',\n",
       " 'GEOMETRIC_RMSE_MODEL',\n",
       " 'COLLECTION_NUMBER',\n",
       " 'IMAGE_QUALITY_OLI',\n",
       " 'LANDSAT_SCENE_ID',\n",
       " 'WRS_PATH',\n",
       " 'google:registration_count',\n",
       " 'PANCHROMATIC_SAMPLES',\n",
       " 'PANCHROMATIC_LINES',\n",
       " 'GEOMETRIC_RMSE_MODEL_Y',\n",
       " 'REFLECTIVE_LINES',\n",
       " 'TIRS_STRAY_LIGHT_CORRECTION_SOURCE',\n",
       " 'GEOMETRIC_RMSE_MODEL_X',\n",
       " 'system:asset_size',\n",
       " 'system:index',\n",
       " 'REFLECTANCE_ADD_BAND_1',\n",
       " 'REFLECTANCE_ADD_BAND_2',\n",
       " 'DATUM',\n",
       " 'REFLECTANCE_ADD_BAND_3',\n",
       " 'REFLECTANCE_ADD_BAND_4',\n",
       " 'REFLECTANCE_ADD_BAND_5',\n",
       " 'REFLECTANCE_ADD_BAND_6',\n",
       " 'REFLECTANCE_ADD_BAND_7',\n",
       " 'REFLECTANCE_ADD_BAND_8',\n",
       " 'BPF_NAME_TIRS',\n",
       " 'GROUND_CONTROL_POINTS_VERSION',\n",
       " 'DATA_TYPE',\n",
       " 'UTM_ZONE',\n",
       " 'system:time_end',\n",
       " 'LANDSAT_PRODUCT_ID',\n",
       " 'REFLECTANCE_ADD_BAND_9',\n",
       " 'google:registration_ratio',\n",
       " 'GRID_CELL_SIZE_PANCHROMATIC',\n",
       " 'RADIANCE_ADD_BAND_4',\n",
       " 'REFLECTANCE_MULT_BAND_7',\n",
       " 'system:time_start',\n",
       " 'RADIANCE_ADD_BAND_5',\n",
       " 'REFLECTANCE_MULT_BAND_6',\n",
       " 'RADIANCE_ADD_BAND_6',\n",
       " 'REFLECTANCE_MULT_BAND_9',\n",
       " 'PROCESSING_SOFTWARE_VERSION',\n",
       " 'RADIANCE_ADD_BAND_7',\n",
       " 'REFLECTANCE_MULT_BAND_8',\n",
       " 'RADIANCE_ADD_BAND_1',\n",
       " 'RADIANCE_ADD_BAND_2',\n",
       " 'RADIANCE_ADD_BAND_3',\n",
       " 'REFLECTANCE_MULT_BAND_1',\n",
       " 'RADIANCE_ADD_BAND_8',\n",
       " 'REFLECTANCE_MULT_BAND_3',\n",
       " 'RADIANCE_ADD_BAND_9',\n",
       " 'REFLECTANCE_MULT_BAND_2',\n",
       " 'REFLECTANCE_MULT_BAND_5',\n",
       " 'REFLECTANCE_MULT_BAND_4',\n",
       " 'THERMAL_LINES',\n",
       " 'TIRS_SSM_POSITION_STATUS',\n",
       " 'GRID_CELL_SIZE_THERMAL',\n",
       " 'NADIR_OFFNADIR',\n",
       " 'RADIANCE_ADD_BAND_11',\n",
       " 'REQUEST_ID',\n",
       " 'EARTH_SUN_DISTANCE',\n",
       " 'TIRS_SSM_MODEL',\n",
       " 'FILE_DATE',\n",
       " 'SCENE_CENTER_TIME',\n",
       " 'SUN_ELEVATION',\n",
       " 'BPF_NAME_OLI',\n",
       " 'RADIANCE_ADD_BAND_10',\n",
       " 'ROLL_ANGLE',\n",
       " 'K1_CONSTANT_BAND_10',\n",
       " 'SATURATION_BAND_1',\n",
       " 'SATURATION_BAND_2',\n",
       " 'SATURATION_BAND_3',\n",
       " 'SATURATION_BAND_4',\n",
       " 'SATURATION_BAND_5',\n",
       " 'MAP_PROJECTION',\n",
       " 'SATURATION_BAND_6',\n",
       " 'SENSOR_ID',\n",
       " 'SATURATION_BAND_7',\n",
       " 'K1_CONSTANT_BAND_11',\n",
       " 'SATURATION_BAND_8',\n",
       " 'SATURATION_BAND_9',\n",
       " 'TARGET_WRS_PATH',\n",
       " 'RADIANCE_MULT_BAND_11',\n",
       " 'RADIANCE_MULT_BAND_10',\n",
       " 'GROUND_CONTROL_POINTS_MODEL',\n",
       " 'SPACECRAFT_ID',\n",
       " 'ELEVATION_SOURCE',\n",
       " 'THERMAL_SAMPLES',\n",
       " 'GROUND_CONTROL_POINTS_VERIFY',\n",
       " 'system:bands',\n",
       " 'system:band_names']"
      ]
     },
     "execution_count": 45,
     "metadata": {},
     "output_type": "execute_result"
    }
   ],
   "source": [
    "imgbase.propertyNames().getInfo()"
   ]
  },
  {
   "cell_type": "code",
   "execution_count": 46,
   "id": "01e09fbd",
   "metadata": {
    "ExecuteTime": {
     "end_time": "2021-11-22T15:59:55.419247Z",
     "start_time": "2021-11-22T15:59:55.416949Z"
    }
   },
   "outputs": [],
   "source": [
    "# imgbase.get('LANDSAT_PRODUCT_ID').getInfo()"
   ]
  },
  {
   "cell_type": "code",
   "execution_count": 47,
   "id": "5d142772",
   "metadata": {
    "ExecuteTime": {
     "end_time": "2021-11-22T15:59:55.421365Z",
     "start_time": "2021-11-22T15:59:55.420046Z"
    }
   },
   "outputs": [],
   "source": [
    "# imgbase.get('system:time_start').getInfo()"
   ]
  },
  {
   "cell_type": "code",
   "execution_count": 48,
   "id": "e5bfe513",
   "metadata": {
    "ExecuteTime": {
     "end_time": "2021-11-22T15:59:56.054379Z",
     "start_time": "2021-11-22T15:59:55.422146Z"
    }
   },
   "outputs": [
    {
     "data": {
      "text/plain": [
       "'WGS84'"
      ]
     },
     "execution_count": 48,
     "metadata": {},
     "output_type": "execute_result"
    }
   ],
   "source": [
    "imgbase.get('DATUM').getInfo()"
   ]
  },
  {
   "cell_type": "code",
   "execution_count": 49,
   "id": "f62917d7",
   "metadata": {
    "ExecuteTime": {
     "end_time": "2021-11-22T15:59:56.373414Z",
     "start_time": "2021-11-22T15:59:56.055133Z"
    }
   },
   "outputs": [
    {
     "data": {
      "text/plain": [
       "'WGS84'"
      ]
     },
     "execution_count": 49,
     "metadata": {},
     "output_type": "execute_result"
    }
   ],
   "source": [
    "imgbase.get('ELLIPSOID').getInfo()"
   ]
  },
  {
   "cell_type": "code",
   "execution_count": 50,
   "id": "10196aa5",
   "metadata": {
    "ExecuteTime": {
     "end_time": "2021-11-22T15:59:56.776677Z",
     "start_time": "2021-11-22T15:59:56.374200Z"
    }
   },
   "outputs": [
    {
     "data": {
      "text/plain": [
       "'UTM'"
      ]
     },
     "execution_count": 50,
     "metadata": {},
     "output_type": "execute_result"
    }
   ],
   "source": [
    "imgbase.get('MAP_PROJECTION').getInfo()"
   ]
  },
  {
   "cell_type": "code",
   "execution_count": 51,
   "id": "c46c1df8",
   "metadata": {
    "ExecuteTime": {
     "end_time": "2021-11-22T15:59:57.398346Z",
     "start_time": "2021-11-22T15:59:56.777480Z"
    }
   },
   "outputs": [
    {
     "data": {
      "text/plain": [
       "19"
      ]
     },
     "execution_count": 51,
     "metadata": {},
     "output_type": "execute_result"
    }
   ],
   "source": [
    "imgbase.get('UTM_ZONE').getInfo()"
   ]
  },
  {
   "cell_type": "code",
   "execution_count": 52,
   "id": "3b8e5716",
   "metadata": {
    "ExecuteTime": {
     "end_time": "2021-11-22T15:59:57.400845Z",
     "start_time": "2021-11-22T15:59:57.399137Z"
    }
   },
   "outputs": [],
   "source": [
    "# print(imgbase.projection())"
   ]
  },
  {
   "cell_type": "code",
   "execution_count": 53,
   "id": "6d01d09a",
   "metadata": {
    "ExecuteTime": {
     "end_time": "2021-11-22T15:59:57.403210Z",
     "start_time": "2021-11-22T15:59:57.401565Z"
    }
   },
   "outputs": [],
   "source": [
    "# time_start = imgbase.get('system:time_start')"
   ]
  },
  {
   "cell_type": "code",
   "execution_count": 54,
   "id": "5fb26496",
   "metadata": {
    "ExecuteTime": {
     "end_time": "2021-11-22T15:59:57.405486Z",
     "start_time": "2021-11-22T15:59:57.404114Z"
    }
   },
   "outputs": [],
   "source": [
    "imgbase = ee.Image('LANDSAT/LC08/C01/T1_TOA/LC08_231091_20210130')"
   ]
  },
  {
   "cell_type": "code",
   "execution_count": 55,
   "id": "5a136189",
   "metadata": {
    "ExecuteTime": {
     "end_time": "2021-11-22T15:59:57.719462Z",
     "start_time": "2021-11-22T15:59:57.406326Z"
    }
   },
   "outputs": [],
   "source": [
    "base_pro = imgbase.select('B4').projection().getInfo()"
   ]
  },
  {
   "cell_type": "code",
   "execution_count": 56,
   "id": "693f233e",
   "metadata": {
    "ExecuteTime": {
     "end_time": "2021-11-22T15:59:57.721971Z",
     "start_time": "2021-11-22T15:59:57.720292Z"
    }
   },
   "outputs": [
    {
     "name": "stdout",
     "output_type": "stream",
     "text": [
      "{'type': 'Projection', 'crs': 'EPSG:32619', 'transform': [30, 0, 214185, 0, -30, -4825185]}\n"
     ]
    }
   ],
   "source": [
    "print(base_pro)"
   ]
  },
  {
   "cell_type": "code",
   "execution_count": 57,
   "id": "1c65268b",
   "metadata": {
    "ExecuteTime": {
     "end_time": "2021-11-22T15:59:57.724390Z",
     "start_time": "2021-11-22T15:59:57.722646Z"
    }
   },
   "outputs": [],
   "source": [
    "# Map1.addLayer(imgbase, vizParams, 'img base')\n",
    "# Map1.addLayer(geometria_base2)\n",
    "# Map1"
   ]
  },
  {
   "cell_type": "code",
   "execution_count": 58,
   "id": "8cc90996",
   "metadata": {
    "ExecuteTime": {
     "end_time": "2021-11-22T15:59:57.726736Z",
     "start_time": "2021-11-22T15:59:57.725216Z"
    }
   },
   "outputs": [],
   "source": [
    "# reproj= imgbase \\\n",
    "#     .reproject(crs='EPSG:3857',scale = 30)\\\n",
    "#     .reduceResolution(reducer= ee.Reducer.mean(),bestEffort=True, maxPixels = 65536)"
   ]
  },
  {
   "cell_type": "code",
   "execution_count": 59,
   "id": "0996d02f",
   "metadata": {
    "ExecuteTime": {
     "end_time": "2021-11-22T15:59:57.729259Z",
     "start_time": "2021-11-22T15:59:57.727545Z"
    }
   },
   "outputs": [],
   "source": [
    "resampled = imgbase.resample('bicubic')"
   ]
  },
  {
   "cell_type": "code",
   "execution_count": 60,
   "id": "4bb96647",
   "metadata": {
    "ExecuteTime": {
     "end_time": "2021-11-22T15:59:58.028747Z",
     "start_time": "2021-11-22T15:59:57.730308Z"
    }
   },
   "outputs": [],
   "source": [
    "landsat_pro = resampled.select('B4').projection().getInfo()"
   ]
  },
  {
   "cell_type": "code",
   "execution_count": 61,
   "id": "9e964413",
   "metadata": {
    "ExecuteTime": {
     "end_time": "2021-11-22T15:59:58.563341Z",
     "start_time": "2021-11-22T15:59:58.029728Z"
    }
   },
   "outputs": [],
   "source": [
    "escala = resampled.select('B4').projection().nominalScale().getInfo()"
   ]
  },
  {
   "cell_type": "code",
   "execution_count": 62,
   "id": "fccfa3ef",
   "metadata": {
    "ExecuteTime": {
     "end_time": "2021-11-22T15:59:58.566009Z",
     "start_time": "2021-11-22T15:59:58.564139Z"
    }
   },
   "outputs": [
    {
     "name": "stdout",
     "output_type": "stream",
     "text": [
      "{'type': 'Projection', 'crs': 'EPSG:32619', 'transform': [30, 0, 214185, 0, -30, -4825185]}\n"
     ]
    }
   ],
   "source": [
    "print(landsat_pro)"
   ]
  },
  {
   "cell_type": "code",
   "execution_count": 63,
   "id": "11826e85",
   "metadata": {
    "ExecuteTime": {
     "end_time": "2021-11-22T15:59:58.568552Z",
     "start_time": "2021-11-22T15:59:58.566665Z"
    }
   },
   "outputs": [
    {
     "name": "stdout",
     "output_type": "stream",
     "text": [
      "30\n"
     ]
    }
   ],
   "source": [
    "print(escala)"
   ]
  },
  {
   "cell_type": "code",
   "execution_count": 64,
   "id": "fca393f0",
   "metadata": {
    "ExecuteTime": {
     "end_time": "2021-11-22T15:59:58.570551Z",
     "start_time": "2021-11-22T15:59:58.569347Z"
    }
   },
   "outputs": [],
   "source": [
    "# print(imgbase.projection())"
   ]
  },
  {
   "cell_type": "code",
   "execution_count": 65,
   "id": "e3b8043e",
   "metadata": {
    "ExecuteTime": {
     "end_time": "2021-11-22T15:59:58.921149Z",
     "start_time": "2021-11-22T15:59:58.571437Z"
    }
   },
   "outputs": [
    {
     "data": {
      "text/plain": [
       "'UTM'"
      ]
     },
     "execution_count": 65,
     "metadata": {},
     "output_type": "execute_result"
    }
   ],
   "source": [
    "imgbase.get('MAP_PROJECTION').getInfo()"
   ]
  },
  {
   "cell_type": "code",
   "execution_count": 66,
   "id": "e6579f0c",
   "metadata": {
    "ExecuteTime": {
     "end_time": "2021-11-22T15:59:58.923959Z",
     "start_time": "2021-11-22T15:59:58.922002Z"
    }
   },
   "outputs": [],
   "source": [
    "start_date = '2020-10-01'\n",
    "end_date = '2021-03-31'\n",
    "imgbase2 = ee.ImageCollection('LANDSAT/LC08/C01/T1_TOA') \\\n",
    "    .filter(ee.Filter.eq('WRS_PATH', 230)) \\\n",
    "    .filter(ee.Filter.eq('WRS_ROW', 91)) \\\n",
    "    .filterDate(start_date, end_date) "
   ]
  },
  {
   "cell_type": "code",
   "execution_count": 67,
   "id": "a7e5933f",
   "metadata": {
    "ExecuteTime": {
     "end_time": "2021-11-22T15:59:58.927546Z",
     "start_time": "2021-11-22T15:59:58.924622Z"
    }
   },
   "outputs": [],
   "source": [
    "imgbase2 = find_closest(imgbase, imgbase2,14).sort('CLOUD_COVER').first()\n",
    "imgbase2 = ee.Image(imgbase2)"
   ]
  },
  {
   "cell_type": "code",
   "execution_count": 68,
   "id": "c646d7e2",
   "metadata": {
    "ExecuteTime": {
     "end_time": "2021-11-22T15:59:58.929467Z",
     "start_time": "2021-11-22T15:59:58.928260Z"
    }
   },
   "outputs": [],
   "source": [
    "# reproj2= imgbase2 \\\n",
    "#     .reproject(crs='EPSG:4326',crsTransform= [0.00025, 0, -180, 0, -0.00025, 80])"
   ]
  },
  {
   "cell_type": "code",
   "execution_count": 69,
   "id": "596b0a0b",
   "metadata": {
    "ExecuteTime": {
     "end_time": "2021-11-22T15:59:58.932076Z",
     "start_time": "2021-11-22T15:59:58.930350Z"
    }
   },
   "outputs": [],
   "source": [
    "# Map1.addLayer(imgbase2, vizParams, 'img base2')\n",
    "# Map1"
   ]
  },
  {
   "cell_type": "code",
   "execution_count": 70,
   "id": "d77a3cd7",
   "metadata": {
    "ExecuteTime": {
     "end_time": "2021-11-22T15:59:58.935078Z",
     "start_time": "2021-11-22T15:59:58.932869Z"
    }
   },
   "outputs": [],
   "source": [
    "start_date = '2020-10-01'\n",
    "end_date = '2021-03-31'\n",
    "imgbase3 = ee.ImageCollection('LANDSAT/LC08/C01/T1_TOA') \\\n",
    "    .filter(ee.Filter.eq('WRS_PATH', 229)) \\\n",
    "    .filter(ee.Filter.eq('WRS_ROW', 91)) \\\n",
    "    .filterDate(start_date, end_date) "
   ]
  },
  {
   "cell_type": "code",
   "execution_count": 71,
   "id": "3d44c9fc",
   "metadata": {
    "ExecuteTime": {
     "end_time": "2021-11-22T15:59:58.937795Z",
     "start_time": "2021-11-22T15:59:58.935852Z"
    }
   },
   "outputs": [],
   "source": [
    "imgbase3 = find_closest(imgbase2, imgbase3,21).sort('CLOUD_COVER').first()\n",
    "imgbase3 = ee.Image(imgbase3)"
   ]
  },
  {
   "cell_type": "code",
   "execution_count": 72,
   "id": "23050d6f",
   "metadata": {
    "ExecuteTime": {
     "end_time": "2021-11-22T15:59:58.940002Z",
     "start_time": "2021-11-22T15:59:58.938733Z"
    }
   },
   "outputs": [],
   "source": [
    "# reproj3= imgbase3 \\\n",
    "#     .reproject(crs='EPSG:4326',crsTransform= [0.00025, 0, -180, 0, -0.00025, 80])"
   ]
  },
  {
   "cell_type": "code",
   "execution_count": 73,
   "id": "954b5ed0",
   "metadata": {
    "ExecuteTime": {
     "end_time": "2021-11-22T15:59:58.942132Z",
     "start_time": "2021-11-22T15:59:58.940883Z"
    }
   },
   "outputs": [],
   "source": [
    "# Map1.addLayer(imgbase3, vizParams, 'img base3')\n",
    "# Map1"
   ]
  },
  {
   "cell_type": "code",
   "execution_count": 74,
   "id": "f4b197cf",
   "metadata": {
    "ExecuteTime": {
     "end_time": "2021-11-22T15:59:58.944647Z",
     "start_time": "2021-11-22T15:59:58.942843Z"
    }
   },
   "outputs": [],
   "source": [
    "start_date = '2020-10-01'\n",
    "end_date = '2021-03-31'\n",
    "imgbase4 = ee.ImageCollection('LANDSAT/LC08/C01/T1_TOA') \\\n",
    "    .filter(ee.Filter.eq('WRS_PATH', 228)) \\\n",
    "    .filter(ee.Filter.eq('WRS_ROW', 91)) \\\n",
    "    .filterDate(start_date, end_date) "
   ]
  },
  {
   "cell_type": "code",
   "execution_count": 75,
   "id": "af926cee",
   "metadata": {
    "ExecuteTime": {
     "end_time": "2021-11-22T15:59:58.947162Z",
     "start_time": "2021-11-22T15:59:58.945556Z"
    }
   },
   "outputs": [],
   "source": [
    "imgbase4 = find_closest(imgbase3, imgbase4,14).sort('CLOUD_COVER').first()\n",
    "imgbase4 = ee.Image(imgbase4)"
   ]
  },
  {
   "cell_type": "code",
   "execution_count": 76,
   "id": "e00c13e2",
   "metadata": {
    "ExecuteTime": {
     "end_time": "2021-11-22T15:59:58.949274Z",
     "start_time": "2021-11-22T15:59:58.948044Z"
    }
   },
   "outputs": [],
   "source": [
    "# reproj4= imgbase4 \\\n",
    "#     .reproject(crs='EPSG:4326',crsTransform= [0.00025, 0, -180, 0, -0.00025, 80])"
   ]
  },
  {
   "cell_type": "code",
   "execution_count": 77,
   "id": "ecc2e9e6",
   "metadata": {
    "ExecuteTime": {
     "end_time": "2021-11-22T15:59:58.951514Z",
     "start_time": "2021-11-22T15:59:58.950260Z"
    }
   },
   "outputs": [],
   "source": [
    "# Map1.addLayer(imgbase4, vizParams, 'img base4')\n",
    "# Map1"
   ]
  },
  {
   "cell_type": "code",
   "execution_count": 78,
   "id": "e305e5b4",
   "metadata": {
    "ExecuteTime": {
     "end_time": "2021-11-22T15:59:58.954057Z",
     "start_time": "2021-11-22T15:59:58.952328Z"
    }
   },
   "outputs": [],
   "source": [
    "start_date = '2020-10-01'\n",
    "end_date = '2021-03-31'\n",
    "imgbase5 = ee.ImageCollection('LANDSAT/LC08/C01/T1_TOA') \\\n",
    "    .filter(ee.Filter.eq('WRS_PATH', 232)) \\\n",
    "    .filter(ee.Filter.eq('WRS_ROW', 91)) \\\n",
    "    .filterDate(start_date, end_date) "
   ]
  },
  {
   "cell_type": "code",
   "execution_count": 79,
   "id": "e76971d2",
   "metadata": {
    "ExecuteTime": {
     "end_time": "2021-11-22T15:59:58.956563Z",
     "start_time": "2021-11-22T15:59:58.954961Z"
    }
   },
   "outputs": [],
   "source": [
    "imgbase5 = find_closest(imgbase, imgbase5,28).sort('CLOUD_COVER').first()\n",
    "imgbase5 = ee.Image(imgbase5)"
   ]
  },
  {
   "cell_type": "code",
   "execution_count": 80,
   "id": "daaac0ef",
   "metadata": {
    "ExecuteTime": {
     "end_time": "2021-11-22T15:59:58.958752Z",
     "start_time": "2021-11-22T15:59:58.957477Z"
    }
   },
   "outputs": [],
   "source": [
    "# reproj5= imgbase5 \\\n",
    "#     .reproject(crs='EPSG:4326',crsTransform= [0.00025, 0, -180, 0, -0.00025, 80])"
   ]
  },
  {
   "cell_type": "code",
   "execution_count": 81,
   "id": "ee78b984",
   "metadata": {
    "ExecuteTime": {
     "end_time": "2021-11-22T15:59:58.960722Z",
     "start_time": "2021-11-22T15:59:58.959440Z"
    }
   },
   "outputs": [],
   "source": [
    "# Map1.addLayer(imgbase5, vizParams, 'img base5')\n",
    "# Map1"
   ]
  },
  {
   "cell_type": "code",
   "execution_count": 82,
   "id": "cb677c38",
   "metadata": {
    "ExecuteTime": {
     "end_time": "2021-11-22T15:59:58.968249Z",
     "start_time": "2021-11-22T15:59:58.966368Z"
    }
   },
   "outputs": [],
   "source": [
    "start_date = '2020-10-01'\n",
    "end_date = '2021-03-31'\n",
    "imgbase6 = ee.ImageCollection('LANDSAT/LC08/C01/T1_TOA') \\\n",
    "    .filter(ee.Filter.eq('WRS_PATH', 233)) \\\n",
    "    .filter(ee.Filter.eq('WRS_ROW', 91)) \\\n",
    "    .filterDate(start_date, end_date) "
   ]
  },
  {
   "cell_type": "code",
   "execution_count": 83,
   "id": "a2772ed4",
   "metadata": {
    "ExecuteTime": {
     "end_time": "2021-11-22T15:59:58.970672Z",
     "start_time": "2021-11-22T15:59:58.969097Z"
    }
   },
   "outputs": [],
   "source": [
    "imgbase6 = find_closest(imgbase5, imgbase6,360).sort('CLOUD_COVER').first()\n",
    "imgbase6 = ee.Image(imgbase6)"
   ]
  },
  {
   "cell_type": "code",
   "execution_count": 84,
   "id": "075deb32",
   "metadata": {
    "ExecuteTime": {
     "end_time": "2021-11-22T15:59:58.972969Z",
     "start_time": "2021-11-22T15:59:58.971686Z"
    }
   },
   "outputs": [],
   "source": [
    "# reproj6= imgbase6 \\\n",
    "#     .reproject(crs='EPSG:4326',crsTransform= [0.00025, 0, -180, 0, -0.00025, 80])"
   ]
  },
  {
   "cell_type": "code",
   "execution_count": 85,
   "id": "489f204a",
   "metadata": {
    "ExecuteTime": {
     "end_time": "2021-11-22T15:59:58.975972Z",
     "start_time": "2021-11-22T15:59:58.973862Z"
    }
   },
   "outputs": [],
   "source": [
    "# Map1.addLayer(imgbase6, vizParams, 'img base6')\n",
    "# Map1"
   ]
  },
  {
   "cell_type": "code",
   "execution_count": 86,
   "id": "9d3185e1",
   "metadata": {
    "ExecuteTime": {
     "end_time": "2021-11-22T15:59:58.978505Z",
     "start_time": "2021-11-22T15:59:58.976629Z"
    }
   },
   "outputs": [],
   "source": [
    "# imgbase2.get('UTM_ZONE').getInfo()"
   ]
  },
  {
   "cell_type": "code",
   "execution_count": 87,
   "id": "9110a69a",
   "metadata": {
    "ExecuteTime": {
     "end_time": "2021-11-22T15:59:58.980917Z",
     "start_time": "2021-11-22T15:59:58.979167Z"
    }
   },
   "outputs": [],
   "source": [
    "# imgbase3.get('UTM_ZONE').getInfo()"
   ]
  },
  {
   "cell_type": "code",
   "execution_count": 88,
   "id": "22bbc7e9",
   "metadata": {
    "ExecuteTime": {
     "end_time": "2021-11-22T15:59:58.983156Z",
     "start_time": "2021-11-22T15:59:58.981744Z"
    }
   },
   "outputs": [],
   "source": [
    "# imgbase4.get('UTM_ZONE').getInfo()"
   ]
  },
  {
   "cell_type": "code",
   "execution_count": 89,
   "id": "25d8cfe0",
   "metadata": {
    "ExecuteTime": {
     "end_time": "2021-11-22T15:59:58.985247Z",
     "start_time": "2021-11-22T15:59:58.984058Z"
    }
   },
   "outputs": [],
   "source": [
    "# imgbase5.get('UTM_ZONE').getInfo()"
   ]
  },
  {
   "cell_type": "code",
   "execution_count": 90,
   "id": "abc6e09e",
   "metadata": {
    "ExecuteTime": {
     "end_time": "2021-11-22T15:59:58.987594Z",
     "start_time": "2021-11-22T15:59:58.986097Z"
    }
   },
   "outputs": [],
   "source": [
    "# imgbase6.get('UTM_ZONE').getInfo()"
   ]
  },
  {
   "cell_type": "code",
   "execution_count": 91,
   "id": "0b719c95",
   "metadata": {
    "ExecuteTime": {
     "end_time": "2021-11-22T15:59:58.990099Z",
     "start_time": "2021-11-22T15:59:58.988303Z"
    }
   },
   "outputs": [],
   "source": [
    "imgbase = addNDVI(imgbase)\n",
    "imgbase2 = addNDVI(imgbase2)\n",
    "imgbase3 = addNDVI(imgbase3)\n",
    "imgbase4 = addNDVI(imgbase4)\n",
    "imgbase5 = addNDVI(imgbase5)\n",
    "imgbase6 = addNDVI(imgbase6)"
   ]
  },
  {
   "cell_type": "code",
   "execution_count": 92,
   "id": "c0072a07",
   "metadata": {
    "ExecuteTime": {
     "end_time": "2021-11-22T15:59:58.992847Z",
     "start_time": "2021-11-22T15:59:58.990996Z"
    }
   },
   "outputs": [],
   "source": [
    "imgbase = addNDWI(imgbase)\n",
    "imgbase2 = addNDWI(imgbase2)\n",
    "imgbase3 = addNDWI(imgbase3)\n",
    "imgbase4 = addNDWI(imgbase4)\n",
    "imgbase5 = addNDWI(imgbase5)\n",
    "imgbase6 = addNDWI(imgbase6)"
   ]
  },
  {
   "cell_type": "code",
   "execution_count": 93,
   "id": "8865875d",
   "metadata": {
    "ExecuteTime": {
     "end_time": "2021-11-22T15:59:58.995630Z",
     "start_time": "2021-11-22T15:59:58.993711Z"
    }
   },
   "outputs": [],
   "source": [
    "imgbase = addNDGI(imgbase)\n",
    "imgbase2 = addNDGI(imgbase2)\n",
    "imgbase3 = addNDGI(imgbase3)\n",
    "imgbase4 = addNDGI(imgbase4)\n",
    "imgbase5 = addNDGI(imgbase5)\n",
    "imgbase6 = addNDGI(imgbase6)"
   ]
  },
  {
   "cell_type": "code",
   "execution_count": 94,
   "id": "0aa70e71",
   "metadata": {
    "ExecuteTime": {
     "end_time": "2021-11-22T15:59:58.998772Z",
     "start_time": "2021-11-22T15:59:58.996468Z"
    }
   },
   "outputs": [],
   "source": [
    "imgbase = addSAVI(imgbase)\n",
    "imgbase2 = addSAVI(imgbase2)\n",
    "imgbase3 = addSAVI(imgbase3)\n",
    "imgbase4 = addSAVI(imgbase4)\n",
    "imgbase5 = addSAVI(imgbase5)\n",
    "imgbase6 = addSAVI(imgbase6)"
   ]
  },
  {
   "cell_type": "code",
   "execution_count": 95,
   "id": "38e741d2",
   "metadata": {
    "ExecuteTime": {
     "end_time": "2021-11-22T15:59:59.001725Z",
     "start_time": "2021-11-22T15:59:58.999571Z"
    }
   },
   "outputs": [],
   "source": [
    "imgbase = addNDSI(imgbase)\n",
    "imgbase2 = addNDSI(imgbase2)\n",
    "imgbase3 = addNDSI(imgbase3)\n",
    "imgbase4 = addNDSI(imgbase4)\n",
    "imgbase5 = addNDSI(imgbase5)\n",
    "imgbase6 = addNDSI(imgbase6)"
   ]
  },
  {
   "cell_type": "code",
   "execution_count": 96,
   "id": "995744da",
   "metadata": {
    "ExecuteTime": {
     "end_time": "2021-11-22T15:59:59.004508Z",
     "start_time": "2021-11-22T15:59:59.002545Z"
    }
   },
   "outputs": [],
   "source": [
    "imgbase = addDate(imgbase)\n",
    "imgbase2 = addDate(imgbase2)\n",
    "imgbase3 = addDate(imgbase3)\n",
    "imgbase4 = addDate(imgbase4)\n",
    "imgbase5 = addDate(imgbase5)\n",
    "imgbase6 = addDate(imgbase6)"
   ]
  },
  {
   "cell_type": "code",
   "execution_count": 97,
   "id": "85657b4b",
   "metadata": {
    "ExecuteTime": {
     "end_time": "2021-11-22T15:59:59.007630Z",
     "start_time": "2021-11-22T15:59:59.005484Z"
    }
   },
   "outputs": [],
   "source": [
    "imgbase = addCloud(imgbase)\n",
    "imgbase2 = addCloud(imgbase2)\n",
    "imgbase3 = addCloud(imgbase3)\n",
    "imgbase4 = addCloud(imgbase4)\n",
    "imgbase5 = addCloud(imgbase5)\n",
    "imgbase6 = addCloud(imgbase6)"
   ]
  },
  {
   "cell_type": "code",
   "execution_count": 98,
   "id": "1c7f97bf",
   "metadata": {
    "ExecuteTime": {
     "end_time": "2021-11-22T15:59:59.010141Z",
     "start_time": "2021-11-22T15:59:59.008624Z"
    }
   },
   "outputs": [],
   "source": [
    "# imgbase.get('DATE_ACQUIRED').getInfo()"
   ]
  },
  {
   "cell_type": "code",
   "execution_count": 99,
   "id": "8b81a7a1",
   "metadata": {
    "ExecuteTime": {
     "end_time": "2021-11-22T15:59:59.012484Z",
     "start_time": "2021-11-22T15:59:59.011140Z"
    }
   },
   "outputs": [],
   "source": [
    "# imgbase2.get('DATE_ACQUIRED').getInfo()"
   ]
  },
  {
   "cell_type": "code",
   "execution_count": 100,
   "id": "ba5e16fa",
   "metadata": {
    "ExecuteTime": {
     "end_time": "2021-11-22T15:59:59.015026Z",
     "start_time": "2021-11-22T15:59:59.013475Z"
    }
   },
   "outputs": [],
   "source": [
    "# imgbase3.get('DATE_ACQUIRED').getInfo()"
   ]
  },
  {
   "cell_type": "code",
   "execution_count": 101,
   "id": "5d4829ff",
   "metadata": {
    "ExecuteTime": {
     "end_time": "2021-11-22T15:59:59.017732Z",
     "start_time": "2021-11-22T15:59:59.015779Z"
    }
   },
   "outputs": [],
   "source": [
    "# imgbase4.get('DATE_ACQUIRED').getInfo()"
   ]
  },
  {
   "cell_type": "code",
   "execution_count": 102,
   "id": "dfb567b7",
   "metadata": {
    "ExecuteTime": {
     "end_time": "2021-11-22T15:59:59.020272Z",
     "start_time": "2021-11-22T15:59:59.018510Z"
    }
   },
   "outputs": [],
   "source": [
    "# imgbase5.get('DATE_ACQUIRED').getInfo()"
   ]
  },
  {
   "cell_type": "code",
   "execution_count": 103,
   "id": "144e07cd",
   "metadata": {
    "ExecuteTime": {
     "end_time": "2021-11-22T15:59:59.022256Z",
     "start_time": "2021-11-22T15:59:59.020945Z"
    }
   },
   "outputs": [],
   "source": [
    "# imgbase6.get('DATE_ACQUIRED').getInfo()"
   ]
  },
  {
   "cell_type": "code",
   "execution_count": 104,
   "id": "75a6a249",
   "metadata": {
    "ExecuteTime": {
     "end_time": "2021-11-22T15:59:59.025450Z",
     "start_time": "2021-11-22T15:59:59.023091Z"
    }
   },
   "outputs": [],
   "source": [
    "imgbase_bandas = imgbase.select(['B1','B2','B3','B4','B5','B6','B7'])\n",
    "imgbase_bandas2 = imgbase2.select(['B1','B2','B3','B4','B5','B6','B7'])\n",
    "imgbase_bandas3 = imgbase3.select(['B1','B2','B3','B4','B5','B6','B7'])\n",
    "imgbase_bandas4 = imgbase4.select(['B1','B2','B3','B4','B5','B6','B7'])\n",
    "imgbase_bandas5 = imgbase5.select(['B1','B2','B3','B4','B5','B6','B7'])\n",
    "imgbase_bandas6 = imgbase6.select(['B1','B2','B3','B4','B5','B6','B7'])"
   ]
  },
  {
   "cell_type": "code",
   "execution_count": 105,
   "id": "650aeeba",
   "metadata": {
    "ExecuteTime": {
     "end_time": "2021-11-22T15:59:59.028457Z",
     "start_time": "2021-11-22T15:59:59.026368Z"
    }
   },
   "outputs": [],
   "source": [
    "colec_base = ee.ImageCollection([imgbase,imgbase2,imgbase3,imgbase4,imgbase5,imgbase6]).mosaic()"
   ]
  },
  {
   "cell_type": "code",
   "execution_count": 106,
   "id": "f65341ee",
   "metadata": {
    "ExecuteTime": {
     "end_time": "2021-11-22T15:59:59.030991Z",
     "start_time": "2021-11-22T15:59:59.029206Z"
    }
   },
   "outputs": [],
   "source": [
    "# colec_base_r = ee.ImageCollection([reproj,reproj2,reproj3,reproj4,reproj5,reproj6]).mosaic()"
   ]
  },
  {
   "cell_type": "code",
   "execution_count": 107,
   "id": "2d3d99aa",
   "metadata": {
    "ExecuteTime": {
     "end_time": "2021-11-22T16:00:00.822320Z",
     "start_time": "2021-11-22T15:59:59.031807Z"
    },
    "scrolled": false
   },
   "outputs": [
    {
     "data": {
      "application/vnd.jupyter.widget-view+json": {
       "model_id": "baf498265a7a45f1a3906c232d652d08",
       "version_major": 2,
       "version_minor": 0
      },
      "text/plain": [
       "Map(center=[-45, -70], controls=(WidgetControl(options=['position', 'transparent_bg'], widget=HBox(children=(T…"
      ]
     },
     "metadata": {},
     "output_type": "display_data"
    }
   ],
   "source": [
    "Map1.addLayer(resampled, vizParams, 'img base r')\n",
    "Map1.addLayer(imgbase, vizParams, 'img base')\n",
    "# Map1.addLayer(imgbase_bandas2, vizParams, 'img base2')\n",
    "# Map1.addLayer(imgbase_bandas3, vizParams, 'img base3')\n",
    "# Map1.addLayer(imgbase_bandas4, vizParams, 'img base4')\n",
    "# Map1.addLayer(imgbase_bandas5, vizParams, 'img base5')\n",
    "# Map1.addLayer(imgbase_bandas6, vizParams, 'img base6')\n",
    "Map1.addLayer(colec_base, vizParams, 'coleccion')\n",
    "# Map1.addLayer(colec_base_r, vizParams, 'coleccion r')\n",
    "Map1"
   ]
  },
  {
   "cell_type": "markdown",
   "id": "b1fff37f",
   "metadata": {},
   "source": [
    "### 2020"
   ]
  },
  {
   "cell_type": "code",
   "execution_count": 108,
   "id": "ed8a2ed2",
   "metadata": {
    "ExecuteTime": {
     "end_time": "2021-11-22T16:00:00.825509Z",
     "start_time": "2021-11-22T16:00:00.823128Z"
    }
   },
   "outputs": [],
   "source": [
    "start_date = '2019-10-01'\n",
    "end_date = '2020-03-31'\n",
    "\n",
    "l8_2020 = ee.ImageCollection('LANDSAT/LC08/C01/T1_TOA') \\\n",
    "    .filterBounds(patagonia_grande) \\\n",
    "    .filterDate(start_date, end_date)"
   ]
  },
  {
   "cell_type": "code",
   "execution_count": 109,
   "id": "62ab552a",
   "metadata": {
    "ExecuteTime": {
     "end_time": "2021-11-22T16:00:00.828517Z",
     "start_time": "2021-11-22T16:00:00.826331Z"
    }
   },
   "outputs": [],
   "source": [
    "# l8_2020 = l8_2020.map(reprojectar)"
   ]
  },
  {
   "cell_type": "code",
   "execution_count": 110,
   "id": "ac158dd0",
   "metadata": {
    "ExecuteTime": {
     "end_time": "2021-11-22T16:00:00.833166Z",
     "start_time": "2021-11-22T16:00:00.829470Z"
    }
   },
   "outputs": [],
   "source": [
    "coleccion2020 = l8_2020.map(addNDVI).map(addNDWI).map(addNDGI).map(addSAVI).map(addNDSI).map(addDate).map(addCloud)"
   ]
  },
  {
   "cell_type": "code",
   "execution_count": 111,
   "id": "531b33cd",
   "metadata": {
    "ExecuteTime": {
     "end_time": "2021-11-22T16:00:00.835870Z",
     "start_time": "2021-11-22T16:00:00.834016Z"
    }
   },
   "outputs": [],
   "source": [
    "QM_NDVI_2020 = coleccion2020.qualityMosaic('NDVI') # Normalized difference vegetation Index\n",
    "QM_NDWI_2020 = coleccion2020.qualityMosaic('NDWI') # Normalize difference water index\n",
    "QM_SAVI_2020 = coleccion2020.qualityMosaic('SAVI') # Soil Adjusted Vegetation Index \n",
    "QM_NDGI_2020 = coleccion2020.qualityMosaic('NDGI') # Normalized difference glacier index\n",
    "QM_NDSI_2020 = coleccion2020.qualityMosaic('NDSI') # Normalized difference snow index"
   ]
  },
  {
   "cell_type": "code",
   "execution_count": 112,
   "id": "22b9a628",
   "metadata": {
    "ExecuteTime": {
     "end_time": "2021-11-22T16:00:00.838597Z",
     "start_time": "2021-11-22T16:00:00.836893Z"
    }
   },
   "outputs": [],
   "source": [
    "# Map.addLayer(QM_NDVI_2020, vizParams, 'QM de NDVI 2020')\n",
    "# Map.addLayer(QM_NDWI_2020, vizParams, 'QM de NDWI 2020')\n",
    "# Map.addLayer(QM_SAVI_2020, vizParams, 'QM de SAVI 2020')\n",
    "# Map.addLayer(QM_NDGI_2020, vis_nieve, 'QM de NDGI 2020')\n",
    "# Map.addLayer(QM_NDSI_2020, vis_nieve, 'QM de NDSI 2020')\n",
    "# Map"
   ]
  },
  {
   "cell_type": "code",
   "execution_count": 113,
   "id": "37413530",
   "metadata": {
    "ExecuteTime": {
     "end_time": "2021-11-22T16:00:00.841554Z",
     "start_time": "2021-11-22T16:00:00.839376Z"
    }
   },
   "outputs": [],
   "source": [
    "c2020_sn = coleccion2020.map(Cloud20)\n",
    "NDVI_2020_sn = c2020_sn.qualityMosaic('NDVI')\n",
    "NDWI_2020_sn = c2020_sn.qualityMosaic('NDWI')\n",
    "SAVI_2020_sn = c2020_sn.qualityMosaic('SAVI')\n",
    "NDGI_2020_sn = c2020_sn.qualityMosaic('NDGI')\n",
    "NDSI_2020_sn = c2020_sn.qualityMosaic('NDSI')"
   ]
  },
  {
   "cell_type": "code",
   "execution_count": 114,
   "id": "ee1a2de2",
   "metadata": {
    "ExecuteTime": {
     "end_time": "2021-11-22T16:00:00.844103Z",
     "start_time": "2021-11-22T16:00:00.842335Z"
    }
   },
   "outputs": [],
   "source": [
    "# Map2.addLayer(NDVI_2020_sn, vizParams, 'QMsn de NDVI 2020')\n",
    "# Map2.addLayer(NDWI_2020_sn, vizParams, 'QMsn de NDWI 2020')\n",
    "# Map2.addLayer(SAVI_2020_sn, vizParams, 'QMsn de SAVI 2020')\n",
    "# Map2.addLayer(NDGI_2020_sn, vis_nieve, 'QMsn de NDGI 2020')\n",
    "# Map2.addLayer(NDSI_2020_sn, vis_nieve, 'QMsn de NDSI 2020')\n",
    "# Map2"
   ]
  },
  {
   "cell_type": "markdown",
   "id": "d9e7e175",
   "metadata": {},
   "source": [
    "### 2019"
   ]
  },
  {
   "cell_type": "code",
   "execution_count": 115,
   "id": "80911c97",
   "metadata": {
    "ExecuteTime": {
     "end_time": "2021-11-22T16:00:00.846980Z",
     "start_time": "2021-11-22T16:00:00.844753Z"
    }
   },
   "outputs": [],
   "source": [
    "start_date = '2018-10-01'\n",
    "end_date = '2019-03-31'\n",
    "\n",
    "l8_2019 = ee.ImageCollection('LANDSAT/LC08/C01/T1_TOA') \\\n",
    "    .filterBounds(patagonia_grande) \\\n",
    "    .filterDate(start_date, end_date)"
   ]
  },
  {
   "cell_type": "code",
   "execution_count": 116,
   "id": "4dcb5690",
   "metadata": {
    "ExecuteTime": {
     "end_time": "2021-11-22T16:00:00.849360Z",
     "start_time": "2021-11-22T16:00:00.847797Z"
    }
   },
   "outputs": [],
   "source": [
    "# l8_2019 = l8_2019.map(reprojectar)"
   ]
  },
  {
   "cell_type": "code",
   "execution_count": 117,
   "id": "596d9609",
   "metadata": {
    "ExecuteTime": {
     "end_time": "2021-11-22T16:00:00.853947Z",
     "start_time": "2021-11-22T16:00:00.850254Z"
    }
   },
   "outputs": [],
   "source": [
    "coleccion2019 = l8_2019.map(addNDVI).map(addNDWI).map(addNDGI).map(addSAVI).map(addNDSI).map(addDate).map(addCloud)"
   ]
  },
  {
   "cell_type": "code",
   "execution_count": 118,
   "id": "67b699eb",
   "metadata": {
    "ExecuteTime": {
     "end_time": "2021-11-22T16:00:00.856640Z",
     "start_time": "2021-11-22T16:00:00.854728Z"
    }
   },
   "outputs": [],
   "source": [
    "QM_NDVI_2019 = coleccion2019.qualityMosaic('NDVI') # Normalized difference vegetation Index\n",
    "QM_NDWI_2019 = coleccion2019.qualityMosaic('NDWI') # Normalize difference water index\n",
    "QM_SAVI_2019 = coleccion2019.qualityMosaic('SAVI') # Soil Adjusted Vegetation Index \n",
    "QM_NDGI_2019 = coleccion2019.qualityMosaic('NDGI') # Normalized difference glacier index\n",
    "QM_NDSI_2019 = coleccion2019.qualityMosaic('NDSI') # Normalized difference snow index"
   ]
  },
  {
   "cell_type": "code",
   "execution_count": 119,
   "id": "2698dd26",
   "metadata": {
    "ExecuteTime": {
     "end_time": "2021-11-22T16:00:00.858901Z",
     "start_time": "2021-11-22T16:00:00.857414Z"
    }
   },
   "outputs": [],
   "source": [
    "# Map3.addLayer(QM_NDVI_2019, vizParams, 'QM de NDVI 2019')\n",
    "# Map3.addLayer(QM_NDWI_2019, vizParams, 'QM de NDWI 2019')\n",
    "# Map3.addLayer(QM_SAVI_2019, vizParams, 'QM de SAVI 2019')\n",
    "# Map3.addLayer(QM_NDGI_2019, vis_nieve, 'QM de NDGI 2019')\n",
    "# Map3.addLayer(QM_NDSI_2019, vis_nieve, 'QM de NDSI 2019')\n",
    "# Map3"
   ]
  },
  {
   "cell_type": "code",
   "execution_count": 120,
   "id": "ff28e9e5",
   "metadata": {
    "ExecuteTime": {
     "end_time": "2021-11-22T16:00:00.863108Z",
     "start_time": "2021-11-22T16:00:00.859769Z"
    }
   },
   "outputs": [],
   "source": [
    "c2019_sn = coleccion2019.map(Cloud20)\n",
    "NDVI_2019_sn = c2019_sn.qualityMosaic('NDVI')\n",
    "NDWI_2019_sn = c2019_sn.qualityMosaic('NDWI')\n",
    "SAVI_2019_sn = c2019_sn.qualityMosaic('SAVI')\n",
    "NDGI_2019_sn = c2019_sn.qualityMosaic('NDGI')\n",
    "NDSI_2019_sn = c2019_sn.qualityMosaic('NDSI')"
   ]
  },
  {
   "cell_type": "code",
   "execution_count": 121,
   "id": "56dedb0c",
   "metadata": {
    "ExecuteTime": {
     "end_time": "2021-11-22T16:00:00.865416Z",
     "start_time": "2021-11-22T16:00:00.863892Z"
    }
   },
   "outputs": [],
   "source": [
    "# Map4.addLayer(NDVI_2019_sn, vizParams, 'QMsn de NDVI 2019')\n",
    "# Map4.addLayer(NDWI_2019_sn, vizParams, 'QMsn de NDWI 2019')\n",
    "# Map4.addLayer(SAVI_2019_sn, vizParams, 'QMsn de SAVI 2019')\n",
    "# Map4.addLayer(NDGI_2019_sn, vis_nieve, 'QMsn de NDGI 2019')\n",
    "# Map4.addLayer(NDSI_2019_sn, vis_nieve, 'QMsn de NDSI 2019')\n",
    "# Map4"
   ]
  },
  {
   "cell_type": "markdown",
   "id": "19f59336",
   "metadata": {},
   "source": [
    "### 2018"
   ]
  },
  {
   "cell_type": "code",
   "execution_count": 122,
   "id": "2d8f44b8",
   "metadata": {
    "ExecuteTime": {
     "end_time": "2021-11-22T16:00:00.867929Z",
     "start_time": "2021-11-22T16:00:00.866153Z"
    }
   },
   "outputs": [],
   "source": [
    "start_date = '2017-10-01'\n",
    "end_date = '2018-03-31'\n",
    "\n",
    "l8_2018 = ee.ImageCollection('LANDSAT/LC08/C01/T1_TOA') \\\n",
    "    .filterBounds(patagonia_grande) \\\n",
    "    .filterDate(start_date, end_date)"
   ]
  },
  {
   "cell_type": "code",
   "execution_count": 123,
   "id": "e19a871e",
   "metadata": {
    "ExecuteTime": {
     "end_time": "2021-11-22T16:00:00.869956Z",
     "start_time": "2021-11-22T16:00:00.868737Z"
    }
   },
   "outputs": [],
   "source": [
    "# l8_2018 = l8_2018.map(reprojectar)"
   ]
  },
  {
   "cell_type": "code",
   "execution_count": 124,
   "id": "e5f94824",
   "metadata": {
    "ExecuteTime": {
     "end_time": "2021-11-22T16:00:00.874604Z",
     "start_time": "2021-11-22T16:00:00.870793Z"
    }
   },
   "outputs": [],
   "source": [
    "coleccion2018 = l8_2018.map(addNDVI).map(addNDWI).map(addNDGI).map(addSAVI).map(addNDSI).map(addDate).map(addCloud)"
   ]
  },
  {
   "cell_type": "code",
   "execution_count": 125,
   "id": "452d3007",
   "metadata": {
    "ExecuteTime": {
     "end_time": "2021-11-22T16:00:00.877247Z",
     "start_time": "2021-11-22T16:00:00.875386Z"
    }
   },
   "outputs": [],
   "source": [
    "QM_NDVI_2018 = coleccion2018.qualityMosaic('NDVI') # Normalized difference vegetation Index\n",
    "QM_NDWI_2018 = coleccion2018.qualityMosaic('NDWI') # Normalize difference water index\n",
    "QM_SAVI_2018 = coleccion2018.qualityMosaic('SAVI') # Soil Adjusted Vegetation Index \n",
    "QM_NDGI_2018 = coleccion2018.qualityMosaic('NDGI') # Normalized difference glacier index\n",
    "QM_NDSI_2018 = coleccion2018.qualityMosaic('NDSI') # Normalized difference snow index"
   ]
  },
  {
   "cell_type": "code",
   "execution_count": 126,
   "id": "cf1389b6",
   "metadata": {
    "ExecuteTime": {
     "end_time": "2021-11-22T16:00:00.879375Z",
     "start_time": "2021-11-22T16:00:00.878010Z"
    }
   },
   "outputs": [],
   "source": [
    "# Map3.addLayer(QM_NDVI_2018, vizParams, 'QM de NDVI 2018')\n",
    "# Map3.addLayer(QM_NDWI_2018, vizParams, 'QM de NDWI 2018')\n",
    "# Map3.addLayer(QM_SAVI_2018, vizParams, 'QM de SAVI 2018')\n",
    "# Map3.addLayer(QM_NDGI_2018, vis_nieve, 'QM de NDGI 2018')\n",
    "# Map3.addLayer(QM_NDSI_2018, vis_nieve, 'QM de NDSI 2018')\n",
    "# Map3"
   ]
  },
  {
   "cell_type": "code",
   "execution_count": 127,
   "id": "6a7d5ff4",
   "metadata": {
    "ExecuteTime": {
     "end_time": "2021-11-22T16:00:00.882882Z",
     "start_time": "2021-11-22T16:00:00.880224Z"
    }
   },
   "outputs": [],
   "source": [
    "c2018_sn = coleccion2018.map(Cloud20)\n",
    "NDVI_2018_sn = c2018_sn.qualityMosaic('NDVI')\n",
    "NDWI_2018_sn = c2018_sn.qualityMosaic('NDWI')\n",
    "SAVI_2018_sn = c2018_sn.qualityMosaic('SAVI')\n",
    "NDGI_2018_sn = c2018_sn.qualityMosaic('NDGI')\n",
    "NDSI_2018_sn = c2018_sn.qualityMosaic('NDSI')"
   ]
  },
  {
   "cell_type": "code",
   "execution_count": 128,
   "id": "ec851683",
   "metadata": {
    "ExecuteTime": {
     "end_time": "2021-11-22T16:00:00.885477Z",
     "start_time": "2021-11-22T16:00:00.883693Z"
    }
   },
   "outputs": [],
   "source": [
    "# Map4.addLayer(NDVI_2018_sn, vizParams, 'QMsn de NDVI 2018')\n",
    "# Map4.addLayer(NDWI_2018_sn, vizParams, 'QMsn de NDWI 2018')\n",
    "# Map4.addLayer(SAVI_2018_sn, vizParams, 'QMsn de SAVI 2018')\n",
    "# Map4.addLayer(NDGI_2018_sn, vis_nieve, 'QMsn de NDGI 2018')\n",
    "# Map4.addLayer(NDSI_2018_sn, vis_nieve, 'QMsn de NDSI 2018')\n",
    "# Map4"
   ]
  },
  {
   "cell_type": "markdown",
   "id": "4f69c36f",
   "metadata": {},
   "source": [
    "### 2017"
   ]
  },
  {
   "cell_type": "code",
   "execution_count": 129,
   "id": "a817f842",
   "metadata": {
    "ExecuteTime": {
     "end_time": "2021-11-22T16:00:00.888159Z",
     "start_time": "2021-11-22T16:00:00.886144Z"
    }
   },
   "outputs": [],
   "source": [
    "start_date = '2016-10-01'\n",
    "end_date = '2017-03-31'\n",
    "\n",
    "l8_2017 = ee.ImageCollection('LANDSAT/LC08/C01/T1_TOA') \\\n",
    "    .filterBounds(patagonia_grande) \\\n",
    "    .filterDate(start_date, end_date)"
   ]
  },
  {
   "cell_type": "code",
   "execution_count": 130,
   "id": "45726c8b",
   "metadata": {
    "ExecuteTime": {
     "end_time": "2021-11-22T16:00:00.890212Z",
     "start_time": "2021-11-22T16:00:00.888884Z"
    }
   },
   "outputs": [],
   "source": [
    "# l8_2017 = l8_2017.map(reprojectar)"
   ]
  },
  {
   "cell_type": "code",
   "execution_count": 131,
   "id": "815566d1",
   "metadata": {
    "ExecuteTime": {
     "end_time": "2021-11-22T16:00:00.894568Z",
     "start_time": "2021-11-22T16:00:00.891070Z"
    }
   },
   "outputs": [],
   "source": [
    "coleccion2017 = l8_2017.map(addNDVI).map(addNDWI).map(addNDGI).map(addSAVI).map(addNDSI).map(addDate).map(addCloud)"
   ]
  },
  {
   "cell_type": "code",
   "execution_count": 132,
   "id": "33ff1e34",
   "metadata": {
    "ExecuteTime": {
     "end_time": "2021-11-22T16:00:00.898179Z",
     "start_time": "2021-11-22T16:00:00.895562Z"
    }
   },
   "outputs": [],
   "source": [
    "QM_NDVI_2017 = coleccion2017.qualityMosaic('NDVI') # Normalized difference vegetation Index\n",
    "QM_NDWI_2017 = coleccion2017.qualityMosaic('NDWI') # Normalize difference water index\n",
    "QM_SAVI_2017 = coleccion2017.qualityMosaic('SAVI') # Soil Adjusted Vegetation Index \n",
    "QM_NDGI_2017 = coleccion2017.qualityMosaic('NDGI') # Normalized difference glacier index\n",
    "QM_NDSI_2017 = coleccion2017.qualityMosaic('NDSI') # Normalized difference snow index"
   ]
  },
  {
   "cell_type": "code",
   "execution_count": 133,
   "id": "1e28dffd",
   "metadata": {
    "ExecuteTime": {
     "end_time": "2021-11-22T16:00:00.900254Z",
     "start_time": "2021-11-22T16:00:00.898821Z"
    }
   },
   "outputs": [],
   "source": [
    "# Map7.addLayer(QM_NDVI_2017, vizParams, 'QM de NDVI 2017')\n",
    "# Map7.addLayer(QM_NDWI_2017, vizParams, 'QM de NDWI 2017')\n",
    "# Map7.addLayer(QM_SAVI_2017, vizParams, 'QM de SAVI 2017')\n",
    "# Map7.addLayer(QM_NDGI_2017, vis_nieve, 'QM de NDGI 2017')\n",
    "# Map7.addLayer(QM_NDSI_2017, vis_nieve, 'QM de NDSI 2017')\n",
    "# Map7"
   ]
  },
  {
   "cell_type": "code",
   "execution_count": 134,
   "id": "2f07d694",
   "metadata": {
    "ExecuteTime": {
     "end_time": "2021-11-22T16:00:00.903398Z",
     "start_time": "2021-11-22T16:00:00.901177Z"
    }
   },
   "outputs": [],
   "source": [
    "c2017_sn = coleccion2017.map(Cloud20)\n",
    "NDVI_2017_sn = c2017_sn.qualityMosaic('NDVI')\n",
    "NDWI_2017_sn = c2017_sn.qualityMosaic('NDWI')\n",
    "SAVI_2017_sn = c2017_sn.qualityMosaic('SAVI')\n",
    "NDGI_2017_sn = c2017_sn.qualityMosaic('NDGI')\n",
    "NDSI_2017_sn = c2017_sn.qualityMosaic('NDSI')"
   ]
  },
  {
   "cell_type": "code",
   "execution_count": 135,
   "id": "0e26e3a5",
   "metadata": {
    "ExecuteTime": {
     "end_time": "2021-11-22T16:00:00.905958Z",
     "start_time": "2021-11-22T16:00:00.904230Z"
    }
   },
   "outputs": [],
   "source": [
    "# Map8.addLayer(NDVI_2017_sn, vizParams, 'QMsn de NDVI 2017')\n",
    "# Map8.addLayer(NDWI_2017_sn, vizParams, 'QMsn de NDWI 2017')\n",
    "# Map8.addLayer(SAVI_2017_sn, vizParams, 'QMsn de SAVI 2017')\n",
    "# Map8.addLayer(NDGI_2017_sn, vis_nieve, 'QMsn de NDGI 2017')\n",
    "# Map8.addLayer(NDSI_2017_sn, vis_nieve, 'QMsn de NDSI 2017')\n",
    "# Map8"
   ]
  },
  {
   "cell_type": "markdown",
   "id": "0b1ed84e",
   "metadata": {},
   "source": [
    "#### Colección agua 2019-2021"
   ]
  },
  {
   "cell_type": "code",
   "execution_count": 136,
   "id": "a36b9987",
   "metadata": {
    "ExecuteTime": {
     "end_time": "2021-11-22T16:00:00.908643Z",
     "start_time": "2021-11-22T16:00:00.906645Z"
    }
   },
   "outputs": [],
   "source": [
    "start_date = '2018-10-01'\n",
    "end_date = '2021-03-31'\n",
    "\n",
    "l8_2021_sur = ee.ImageCollection('LANDSAT/LC08/C01/T1_TOA') \\\n",
    "    .filterBounds(patagonia_grande) \\\n",
    "    .filterDate(start_date, end_date)"
   ]
  },
  {
   "cell_type": "code",
   "execution_count": 137,
   "id": "cbd523f7",
   "metadata": {
    "ExecuteTime": {
     "end_time": "2021-11-22T16:00:00.912902Z",
     "start_time": "2021-11-22T16:00:00.909327Z"
    }
   },
   "outputs": [],
   "source": [
    "coleccion2021_sur = l8_2021_sur.map(addNDVI).map(addNDWI).map(addNDGI).map(addSAVI).map(addNDSI).map(addDate).map(addCloud)"
   ]
  },
  {
   "cell_type": "code",
   "execution_count": 138,
   "id": "d0acd1f8",
   "metadata": {
    "ExecuteTime": {
     "end_time": "2021-11-22T16:00:00.915758Z",
     "start_time": "2021-11-22T16:00:00.913734Z"
    }
   },
   "outputs": [],
   "source": [
    "QM_NDVI_2021_sur = coleccion2021_sur.qualityMosaic('NDVI') # Normalized difference vegetation Index\n",
    "QM_NDWI_2021_sur = coleccion2021_sur.qualityMosaic('NDWI') # Normalize difference water index\n",
    "QM_SAVI_2021_sur = coleccion2021_sur.qualityMosaic('SAVI') # Soil Adjusted Vegetation Index \n",
    "QM_NDGI_2021_sur = coleccion2021_sur.qualityMosaic('NDGI') # Normalized difference glacier index\n",
    "QM_NDSI_2021_sur = coleccion2021_sur.qualityMosaic('NDSI') # Normalized difference snow index"
   ]
  },
  {
   "cell_type": "code",
   "execution_count": 139,
   "id": "5505ddb6",
   "metadata": {
    "ExecuteTime": {
     "end_time": "2021-11-22T16:00:00.918906Z",
     "start_time": "2021-11-22T16:00:00.916577Z"
    }
   },
   "outputs": [],
   "source": [
    "c2021_sur_sn = coleccion2021_sur.map(Cloud20)\n",
    "NDVI_2021_sur_sn = c2021_sur_sn.qualityMosaic('NDVI')\n",
    "NDWI_2021_sur_sn = c2021_sur_sn.qualityMosaic('NDWI')\n",
    "SAVI_2021_sur_sn = c2021_sur_sn.qualityMosaic('SAVI')\n",
    "NDGI_2021_sur_sn = c2021_sur_sn.qualityMosaic('NDGI')\n",
    "NDSI_2021_sur_sn = c2021_sur_sn.qualityMosaic('NDSI')"
   ]
  },
  {
   "cell_type": "code",
   "execution_count": 140,
   "id": "fe1d026e",
   "metadata": {
    "ExecuteTime": {
     "end_time": "2021-11-22T16:00:00.921034Z",
     "start_time": "2021-11-22T16:00:00.919784Z"
    }
   },
   "outputs": [],
   "source": [
    "# type(NDWI_2021_sur_sn)"
   ]
  },
  {
   "cell_type": "code",
   "execution_count": 141,
   "id": "dbdf6ee9",
   "metadata": {
    "ExecuteTime": {
     "end_time": "2021-11-22T16:00:00.923184Z",
     "start_time": "2021-11-22T16:00:00.921856Z"
    }
   },
   "outputs": [],
   "source": [
    "# NDWI_2021_sur_sn.bandNames().getInfo()"
   ]
  },
  {
   "cell_type": "markdown",
   "id": "dd7d911d",
   "metadata": {},
   "source": [
    "## Indices por colección"
   ]
  },
  {
   "cell_type": "markdown",
   "id": "4ea0a4cd",
   "metadata": {},
   "source": [
    "### Índices 2021"
   ]
  },
  {
   "cell_type": "code",
   "execution_count": 142,
   "id": "426dfca0",
   "metadata": {
    "ExecuteTime": {
     "end_time": "2021-11-22T16:00:00.926189Z",
     "start_time": "2021-11-22T16:00:00.924030Z"
    }
   },
   "outputs": [],
   "source": [
    "NDVI_2021 = NDVI_2021_sn.select('NDVI')\n",
    "NDWI_2021 = NDWI_2021_sn.select('NDWI')\n",
    "SAVI_2021 = SAVI_2021_sn.select('SAVI')\n",
    "NDGI_2021 = NDGI_2021_sn.select('NDGI')\n",
    "NDSI_2021 = NDSI_2021_sn.select('NDSI')"
   ]
  },
  {
   "cell_type": "code",
   "execution_count": 143,
   "id": "eaf84698",
   "metadata": {
    "ExecuteTime": {
     "end_time": "2021-11-22T16:00:00.928717Z",
     "start_time": "2021-11-22T16:00:00.926919Z"
    }
   },
   "outputs": [],
   "source": [
    "# Map9.addLayer(NDVI_2021, {'palette': color_terrain}, 'QMsn de NDVI 2021')\n",
    "# Map9.addLayer(NDWI_2021, {'palette': color_ndwi}, 'QMsn de NDWI 2021')\n",
    "# Map9.addLayer(SAVI_2021, {'palette': color_ndvi}, 'QMsn de SAVI 2021')\n",
    "# Map9.addLayer(NDGI_2021, {'palette': color_glaciar}, 'QMsn de NDGI 2021')\n",
    "# Map9.addLayer(NDSI_2021, {'palette': color_ndwi}, 'QMsn de NDSI 2021')\n",
    "# Map9"
   ]
  },
  {
   "cell_type": "markdown",
   "id": "1e0309e1",
   "metadata": {},
   "source": [
    "### Índices 2020"
   ]
  },
  {
   "cell_type": "code",
   "execution_count": 144,
   "id": "cc1253c0",
   "metadata": {
    "ExecuteTime": {
     "end_time": "2021-11-22T16:00:00.931724Z",
     "start_time": "2021-11-22T16:00:00.929531Z"
    }
   },
   "outputs": [],
   "source": [
    "NDVI_2020 = NDVI_2020_sn.select('NDVI')\n",
    "NDWI_2020 = NDWI_2020_sn.select('NDWI')\n",
    "SAVI_2020 = SAVI_2020_sn.select('SAVI')\n",
    "NDGI_2020 = NDGI_2020_sn.select('NDGI')\n",
    "NDSI_2020 = NDSI_2020_sn.select('NDSI')"
   ]
  },
  {
   "cell_type": "code",
   "execution_count": 145,
   "id": "3e0524d7",
   "metadata": {
    "ExecuteTime": {
     "end_time": "2021-11-22T16:00:00.933863Z",
     "start_time": "2021-11-22T16:00:00.932580Z"
    }
   },
   "outputs": [],
   "source": [
    "# Map5.addLayer(NDVI_2020, {'palette': color_terrain}, 'QMsn de NDVI 2020')\n",
    "# Map5.addLayer(NDWI_2020, {'palette': color_ndwi}, 'QMsn de NDWI 2020')\n",
    "# Map5.addLayer(SAVI_2020, {'palette': color_ndvi}, 'QMsn de SAVI 2020')\n",
    "# Map5.addLayer(NDGI_2020, {'palette': color_glaciar}, 'QMsn de NDGI 2020')\n",
    "# Map5.addLayer(NDSI_2020, {'palette': color_ndwi}, 'QMsn de NDSI 2020')\n",
    "# Map5"
   ]
  },
  {
   "cell_type": "markdown",
   "id": "4aee56c9",
   "metadata": {},
   "source": [
    "### Índices 2019"
   ]
  },
  {
   "cell_type": "code",
   "execution_count": 146,
   "id": "4a0a2445",
   "metadata": {
    "ExecuteTime": {
     "end_time": "2021-11-22T16:00:00.936866Z",
     "start_time": "2021-11-22T16:00:00.934645Z"
    }
   },
   "outputs": [],
   "source": [
    "NDVI_2019 = NDVI_2019_sn.select('NDVI')\n",
    "NDWI_2019 = NDWI_2019_sn.select('NDWI')\n",
    "SAVI_2019 = SAVI_2019_sn.select('SAVI')\n",
    "NDGI_2019 = NDGI_2019_sn.select('NDGI')\n",
    "NDSI_2019 = NDSI_2019_sn.select('NDSI')"
   ]
  },
  {
   "cell_type": "code",
   "execution_count": 147,
   "id": "144629ba",
   "metadata": {
    "ExecuteTime": {
     "end_time": "2021-11-22T16:00:00.938984Z",
     "start_time": "2021-11-22T16:00:00.937522Z"
    }
   },
   "outputs": [],
   "source": [
    "# Map6.addLayer(NDVI_2019, {'palette': color_terrain}, 'QMsn de NDVI 2019')\n",
    "# Map6.addLayer(NDWI_2019, {'palette': color_ndwi}, 'QMsn de NDWI 2019')\n",
    "# Map6.addLayer(SAVI_2019, {'palette': color_ndvi}, 'QMsn de SAVI 2019')\n",
    "# Map6.addLayer(NDGI_2019, {'palette': color_glaciar}, 'QMsn de NDGI 2019')\n",
    "# Map6.addLayer(NDSI_2019, {'palette': color_ndwi}, 'QMsn de NDSI 2019')\n",
    "# Map6"
   ]
  },
  {
   "cell_type": "markdown",
   "id": "e765cd19",
   "metadata": {},
   "source": [
    "### Índices 2018"
   ]
  },
  {
   "cell_type": "code",
   "execution_count": 148,
   "id": "b4275190",
   "metadata": {
    "ExecuteTime": {
     "end_time": "2021-11-22T16:00:00.941342Z",
     "start_time": "2021-11-22T16:00:00.939680Z"
    }
   },
   "outputs": [],
   "source": [
    "NDVI_2018 = NDVI_2018_sn.select('NDVI')\n",
    "NDWI_2018 = NDWI_2018_sn.select('NDWI')\n",
    "SAVI_2018 = SAVI_2018_sn.select('SAVI')\n",
    "NDGI_2018 = NDGI_2018_sn.select('NDGI')\n",
    "NDSI_2018 = NDSI_2018_sn.select('NDSI')"
   ]
  },
  {
   "cell_type": "code",
   "execution_count": 149,
   "id": "977e42e9",
   "metadata": {
    "ExecuteTime": {
     "end_time": "2021-11-22T16:00:00.943429Z",
     "start_time": "2021-11-22T16:00:00.942166Z"
    }
   },
   "outputs": [],
   "source": [
    "# Map6.addLayer(NDVI_2018, {'palette': color_terrain}, 'QMsn de NDVI 2018')\n",
    "# Map6.addLayer(NDWI_2018, {'palette': color_ndwi}, 'QMsn de NDWI 2018')\n",
    "# Map6.addLayer(SAVI_2018, {'palette': color_ndvi}, 'QMsn de SAVI 2018')\n",
    "# Map6.addLayer(NDGI_2018, {'palette': color_glaciar}, 'QMsn de NDGI 2018')\n",
    "# Map6.addLayer(NDSI_2018, {'palette': color_ndwi}, 'QMsn de NDSI 2018')\n",
    "# Map6"
   ]
  },
  {
   "cell_type": "markdown",
   "id": "158b36ac",
   "metadata": {},
   "source": [
    "## Matching de Histogramas"
   ]
  },
  {
   "cell_type": "code",
   "execution_count": 150,
   "id": "c8f22563",
   "metadata": {
    "ExecuteTime": {
     "end_time": "2021-11-22T16:00:00.947434Z",
     "start_time": "2021-11-22T16:00:00.944296Z"
    }
   },
   "outputs": [],
   "source": [
    "def lookup(source_hist, target_hist):\n",
    "    \"\"\"Creates a lookup table to make a source histogram match a target histogram.\n",
    "\n",
    "    Args:\n",
    "        source_hist: The histogram to modify. \n",
    "        Expects the Nx2 array format produced by ee.Reducer.autoHistogram.\n",
    "        target_hist: The histogram to match to. \n",
    "        Expects the Nx2 array format produced by ee.Reducer.autoHistogram.\n",
    "\n",
    "    Returns:\n",
    "        A dictionary with 'x' and 'y' properties that respectively represent the x and y\n",
    "        array inputs to the ee.Image.interpolate function.\n",
    "    \"\"\"\n",
    "\n",
    "    # Split the histograms by column and normalize the counts.\n",
    "    source_values = source_hist.slice(1, 0, 1).project([0])\n",
    "    source_counts = source_hist.slice(1, 1, 2).project([0])\n",
    "    source_counts = source_counts.divide(source_counts.get([-1]))\n",
    "\n",
    "    target_values = target_hist.slice(1, 0, 1).project([0])\n",
    "    target_counts = target_hist.slice(1, 1, 2).project([0])\n",
    "    target_counts = target_counts.divide(target_counts.get([-1]))\n",
    "\n",
    "    # Find first position in target where targetCount >= srcCount[i], for each i.\n",
    "    def make_lookup(n):\n",
    "        return target_values.get(target_counts.gte(n).argmax())\n",
    "\n",
    "    lookup = source_counts.toList().map(make_lookup)\n",
    "\n",
    "    return {'x': source_values.toList(), 'y': lookup}"
   ]
  },
  {
   "cell_type": "code",
   "execution_count": 151,
   "id": "9adbc7c2",
   "metadata": {
    "ExecuteTime": {
     "end_time": "2021-11-22T16:00:00.952566Z",
     "start_time": "2021-11-22T16:00:00.948144Z"
    }
   },
   "outputs": [],
   "source": [
    "def histogram_match(source_img, target_img, geometry):\n",
    "    \"\"\"Performs histogram matching for 3-band RGB images by forcing the histogram CDF of source_img to match target_img.\n",
    "\n",
    "    Args:\n",
    "        source_img: A 3-band ee.Image to be color matched. Must have bands named 'R', 'G', and 'B'.\n",
    "        target_img: A 3-band ee.Image for color reference. Must have bands named 'R', 'G', and 'B'.\n",
    "        geometry: An ee.Geometry that defines the region to generate RGB histograms for.\n",
    "          It should intersect both source_img and target_img inputs.\n",
    "\n",
    "    Returns:\n",
    "        A copy of src_img color-matched to target_img.\n",
    "    \"\"\"\n",
    "\n",
    "    args = {\n",
    "        'reducer': ee.Reducer.autoHistogram(**{'maxBuckets': 1024, 'cumulative': True}),\n",
    "        'geometry': geometry,\n",
    "        'scale': 1, # Need to specify a scale, but it doesn't matter what it is because bestEffort is true.\n",
    "        'maxPixels': 1048576 * 4 - 1,\n",
    "        'bestEffort': True\n",
    "    }\n",
    "\n",
    "    # Only use pixels in target that have a value in source (inside the footprint and unmasked).\n",
    "    source = source_img.reduceRegion(**args)\n",
    "    target = target_img.updateMask(source_img.mask()).reduceRegion(**args)\n",
    "\n",
    "    return ee.Image.cat(\n",
    "        source_img.select(['B1']).interpolate(**lookup(source.getArray('B1'), target.getArray('B1'))),\n",
    "        source_img.select(['B2']).interpolate(**lookup(source.getArray('B2'), target.getArray('B2'))),\n",
    "        source_img.select(['B3']).interpolate(**lookup(source.getArray('B3'), target.getArray('B3'))),\n",
    "        source_img.select(['B4']).interpolate(**lookup(source.getArray('B4'), target.getArray('B4'))),\n",
    "        source_img.select(['B5']).interpolate(**lookup(source.getArray('B5'), target.getArray('B5'))),\n",
    "        source_img.select(['B6']).interpolate(**lookup(source.getArray('B6'), target.getArray('B6'))),\n",
    "        source_img.select(['B7']).interpolate(**lookup(source.getArray('B7'), target.getArray('B7'))),\n",
    "        source_img.select(['B8']).interpolate(**lookup(source.getArray('B8'), target.getArray('B8'))),\n",
    "        source_img.select(['B9']).interpolate(**lookup(source.getArray('B9'), target.getArray('B9'))),\n",
    "        source_img.select(['B10']).interpolate(**lookup(source.getArray('B10'), target.getArray('B10'))),\n",
    "        source_img.select(['B11']).interpolate(**lookup(source.getArray('B11'), target.getArray('B11'))),\n",
    "    ).copyProperties(source_img, ['system:time_start'])"
   ]
  },
  {
   "cell_type": "code",
   "execution_count": 152,
   "id": "006690ff",
   "metadata": {
    "ExecuteTime": {
     "end_time": "2021-11-22T16:00:00.954975Z",
     "start_time": "2021-11-22T16:00:00.953402Z"
    }
   },
   "outputs": [],
   "source": [
    "geometry = geometria_base2.geometry()"
   ]
  },
  {
   "cell_type": "code",
   "execution_count": 153,
   "id": "15798156",
   "metadata": {
    "ExecuteTime": {
     "end_time": "2021-11-22T16:00:00.957107Z",
     "start_time": "2021-11-22T16:00:00.955758Z"
    }
   },
   "outputs": [],
   "source": [
    "# geometry = ee.Geometry({\n",
    "#   'type': 'Polygon',\n",
    "#   'coordinates':\n",
    "#     [[[-72.674, -45.045],\n",
    "#       [-71.603, -45.086],\n",
    "#       [-71.554, -46.027],\n",
    "#       [-72.674, -45.045]]]\n",
    "# });"
   ]
  },
  {
   "cell_type": "code",
   "execution_count": 154,
   "id": "96c0fdd4",
   "metadata": {
    "ExecuteTime": {
     "end_time": "2021-11-22T16:00:00.959127Z",
     "start_time": "2021-11-22T16:00:00.957827Z"
    }
   },
   "outputs": [],
   "source": [
    "# geometryCoordinates = geometry.coordinates()"
   ]
  },
  {
   "cell_type": "code",
   "execution_count": 155,
   "id": "fd5d4d96",
   "metadata": {
    "ExecuteTime": {
     "end_time": "2021-11-22T16:00:00.961214Z",
     "start_time": "2021-11-22T16:00:00.959940Z"
    }
   },
   "outputs": [],
   "source": [
    "# print('geometry.coordinates(...) =', geometryCoordinates)"
   ]
  },
  {
   "cell_type": "code",
   "execution_count": 156,
   "id": "6f2af1f8",
   "metadata": {
    "ExecuteTime": {
     "end_time": "2021-11-22T16:00:01.233009Z",
     "start_time": "2021-11-22T16:00:00.962008Z"
    }
   },
   "outputs": [],
   "source": [
    "QM_NDVI_2021_m = histogram_match(QM_NDVI_2021,colec_base, geometry)"
   ]
  },
  {
   "cell_type": "code",
   "execution_count": 157,
   "id": "01c11fab",
   "metadata": {
    "ExecuteTime": {
     "end_time": "2021-11-22T16:00:01.485899Z",
     "start_time": "2021-11-22T16:00:01.233946Z"
    }
   },
   "outputs": [],
   "source": [
    "NDVI_2021_sn_m = histogram_match(NDVI_2021_sn, colec_base, geometry)"
   ]
  },
  {
   "cell_type": "code",
   "execution_count": 158,
   "id": "da2c9ab0",
   "metadata": {
    "ExecuteTime": {
     "end_time": "2021-11-22T16:00:01.682090Z",
     "start_time": "2021-11-22T16:00:01.486696Z"
    }
   },
   "outputs": [],
   "source": [
    "NDVI_2020_sn_m = histogram_match(NDVI_2020_sn, colec_base, geometry)"
   ]
  },
  {
   "cell_type": "code",
   "execution_count": 159,
   "id": "e775315a",
   "metadata": {
    "ExecuteTime": {
     "end_time": "2021-11-22T16:00:01.942354Z",
     "start_time": "2021-11-22T16:00:01.682876Z"
    }
   },
   "outputs": [],
   "source": [
    "NDVI_2019_sn_m = histogram_match(NDVI_2019_sn, colec_base, geometry)"
   ]
  },
  {
   "cell_type": "code",
   "execution_count": 160,
   "id": "131e6318",
   "metadata": {
    "ExecuteTime": {
     "end_time": "2021-11-22T16:00:02.193597Z",
     "start_time": "2021-11-22T16:00:01.943224Z"
    }
   },
   "outputs": [],
   "source": [
    "NDVI_2018_sn_m = histogram_match(NDVI_2018_sn, colec_base, geometry)"
   ]
  },
  {
   "cell_type": "code",
   "execution_count": 161,
   "id": "53b28336",
   "metadata": {
    "ExecuteTime": {
     "end_time": "2021-11-22T16:00:02.386360Z",
     "start_time": "2021-11-22T16:00:02.194420Z"
    }
   },
   "outputs": [],
   "source": [
    "NDVI_2017_sn_m = histogram_match(NDVI_2017_sn, colec_base, geometry)"
   ]
  },
  {
   "cell_type": "code",
   "execution_count": 162,
   "id": "edf7eecc",
   "metadata": {
    "ExecuteTime": {
     "end_time": "2021-11-22T16:00:02.644713Z",
     "start_time": "2021-11-22T16:00:02.387318Z"
    }
   },
   "outputs": [],
   "source": [
    "NDWI_2021_sur_sn_m = histogram_match(NDWI_2021_sn, colec_base, geometry)"
   ]
  },
  {
   "cell_type": "code",
   "execution_count": 163,
   "id": "0964556b",
   "metadata": {
    "ExecuteTime": {
     "end_time": "2021-11-22T16:00:02.647231Z",
     "start_time": "2021-11-22T16:00:02.645580Z"
    }
   },
   "outputs": [],
   "source": [
    "vis_params_refl = {'min': 0, 'max': 0.25} "
   ]
  },
  {
   "cell_type": "code",
   "execution_count": 164,
   "id": "02bda186",
   "metadata": {
    "ExecuteTime": {
     "end_time": "2021-11-22T16:00:02.649699Z",
     "start_time": "2021-11-22T16:00:02.648104Z"
    }
   },
   "outputs": [],
   "source": [
    "# import folium\n",
    "\n",
    "# def add_ee_layer(self, ee_image_object, vis_params, name):\n",
    "#   map_id_dict = ee.Image(ee_image_object).getMapId(vis_params)\n",
    "#   folium.raster_layers.TileLayer(\n",
    "#       tiles=map_id_dict['tile_fetcher'].url_format,\n",
    "#       attr='Map Data &copy; <a href=\"https://earthengine.google.com/\">Google Earth Engine</a>',\n",
    "#       name=name,\n",
    "#       overlay=True,\n",
    "#       control=True\n",
    "#   ).add_to(self)\n",
    "\n",
    "# folium.Map.add_ee_layer = add_ee_layer"
   ]
  },
  {
   "cell_type": "code",
   "execution_count": 165,
   "id": "54dc379c",
   "metadata": {
    "ExecuteTime": {
     "end_time": "2021-11-22T16:00:02.651879Z",
     "start_time": "2021-11-22T16:00:02.650619Z"
    }
   },
   "outputs": [],
   "source": [
    "# lon, lat, zoom = -45, -70 , 4\n",
    "# vis_params_refl = {'min': 0, 'max': 0.25}\n",
    "# map_matched = folium.Map(location=[lat, lon], zoom_start=zoom)\n",
    "# map_matched.add_ee_layer(QM_NDVI_2021_m, vizParams, 'matched')\n",
    "# display(map_matched.add_child(folium.LayerControl()))"
   ]
  },
  {
   "cell_type": "markdown",
   "id": "dd05e9e8",
   "metadata": {},
   "source": [
    "## Generación de Mosaico"
   ]
  },
  {
   "cell_type": "code",
   "execution_count": 166,
   "id": "9b229098",
   "metadata": {
    "ExecuteTime": {
     "end_time": "2021-11-22T16:00:02.654561Z",
     "start_time": "2021-11-22T16:00:02.652708Z"
    }
   },
   "outputs": [],
   "source": [
    "NDVI_2021_landsat = QM_NDVI_2021.set('SENSOR_ID', 'OLI_TIRS')"
   ]
  },
  {
   "cell_type": "code",
   "execution_count": 167,
   "id": "a98110ba",
   "metadata": {
    "ExecuteTime": {
     "end_time": "2021-11-22T16:00:02.657149Z",
     "start_time": "2021-11-22T16:00:02.655256Z"
    }
   },
   "outputs": [],
   "source": [
    "cloud_2021 = ee.Algorithms.Landsat.simpleCloudScore(NDVI_2021_landsat)"
   ]
  },
  {
   "cell_type": "code",
   "execution_count": 168,
   "id": "745b712d",
   "metadata": {
    "ExecuteTime": {
     "end_time": "2021-11-22T16:00:02.659228Z",
     "start_time": "2021-11-22T16:00:02.657855Z"
    }
   },
   "outputs": [],
   "source": [
    "cloud_2021 = cloud_2021.select('cloud')"
   ]
  },
  {
   "cell_type": "code",
   "execution_count": 169,
   "id": "3351dfe9",
   "metadata": {
    "ExecuteTime": {
     "end_time": "2021-11-22T16:00:02.661418Z",
     "start_time": "2021-11-22T16:00:02.660075Z"
    }
   },
   "outputs": [],
   "source": [
    "palette_nubes = ['#1a9850', '#66bd63', '#a6d96a', '#d9ef8b', '#fee08b', '#fdae61', '#f46d43', '#d73027']"
   ]
  },
  {
   "cell_type": "code",
   "execution_count": 170,
   "id": "aa1c77e2",
   "metadata": {
    "ExecuteTime": {
     "end_time": "2021-11-22T16:00:02.663740Z",
     "start_time": "2021-11-22T16:00:02.662248Z"
    }
   },
   "outputs": [],
   "source": [
    "resultados= [cloud_2021, QM_NDVI_2021]\n",
    "vis_params2=  [\n",
    "    {'palette':palette_nubes}, \n",
    "    vizParams]\n",
    "labels = [\n",
    "    'Nubes 2021',\n",
    "    'QM NDVI 2021']"
   ]
  },
  {
   "cell_type": "code",
   "execution_count": 171,
   "id": "28e91129",
   "metadata": {
    "ExecuteTime": {
     "end_time": "2021-11-22T16:00:04.262348Z",
     "start_time": "2021-11-22T16:00:02.664581Z"
    }
   },
   "outputs": [
    {
     "data": {
      "application/vnd.jupyter.widget-view+json": {
       "model_id": "642291c3e3de4de3aac1649c4bdfe433",
       "version_major": 2,
       "version_minor": 0
      },
      "text/plain": [
       "GridspecLayout(children=(Output(layout=Layout(grid_area='widget001')), Output(layout=Layout(grid_area='widget0…"
      ]
     },
     "metadata": {},
     "output_type": "display_data"
    }
   ],
   "source": [
    "geemap.linked_maps(rows=1, cols=2, height=\"400px\", center=[-45, -75], zoom=4, \n",
    "                   ee_objects=resultados, vis_params=vis_params2, labels=labels, label_position=\"topright\")"
   ]
  },
  {
   "cell_type": "code",
   "execution_count": 172,
   "id": "93ea56bf",
   "metadata": {
    "ExecuteTime": {
     "end_time": "2021-11-22T16:00:04.265353Z",
     "start_time": "2021-11-22T16:00:04.263087Z"
    }
   },
   "outputs": [],
   "source": [
    "def llenado(image):\n",
    "    return image.where(cloud_2021.gt(20),NDVI_2021_sn)"
   ]
  },
  {
   "cell_type": "code",
   "execution_count": 173,
   "id": "8287934f",
   "metadata": {
    "ExecuteTime": {
     "end_time": "2021-11-22T16:00:04.268352Z",
     "start_time": "2021-11-22T16:00:04.266327Z"
    }
   },
   "outputs": [],
   "source": [
    "img1 = llenado(QM_NDVI_2021)"
   ]
  },
  {
   "cell_type": "code",
   "execution_count": 174,
   "id": "0ea4ebed",
   "metadata": {
    "ExecuteTime": {
     "end_time": "2021-11-22T16:00:04.271357Z",
     "start_time": "2021-11-22T16:00:04.269063Z"
    }
   },
   "outputs": [],
   "source": [
    "img1_landsat = img1.set('SENSOR_ID', 'OLI_TIRS')\n",
    "cloud_img1 = ee.Algorithms.Landsat.simpleCloudScore(img1_landsat)\n",
    "cloud_img1 = cloud_img1.select('cloud')"
   ]
  },
  {
   "cell_type": "code",
   "execution_count": 294,
   "id": "84dbb2d4",
   "metadata": {
    "ExecuteTime": {
     "end_time": "2021-11-22T17:10:19.432667Z",
     "start_time": "2021-11-22T17:10:19.430629Z"
    }
   },
   "outputs": [],
   "source": [
    "resultados= [cloud_img1, img1]\n",
    "vis_params2=  [\n",
    "    {'palette':palette_nubes}, \n",
    "    vizParams]\n",
    "labels = [\n",
    "    'Nubes Mosaico 1',\n",
    "    'Mosaico 1']"
   ]
  },
  {
   "cell_type": "code",
   "execution_count": 295,
   "id": "f3c2a996",
   "metadata": {
    "ExecuteTime": {
     "end_time": "2021-11-22T17:10:26.119552Z",
     "start_time": "2021-11-22T17:10:23.966558Z"
    },
    "scrolled": false
   },
   "outputs": [
    {
     "data": {
      "application/vnd.jupyter.widget-view+json": {
       "model_id": "c7b7aba5fa084c5aa38010cb3c75313e",
       "version_major": 2,
       "version_minor": 0
      },
      "text/plain": [
       "GridspecLayout(children=(Output(layout=Layout(grid_area='widget001')), Output(layout=Layout(grid_area='widget0…"
      ]
     },
     "metadata": {},
     "output_type": "display_data"
    }
   ],
   "source": [
    "geemap.linked_maps(rows=1, cols=2, height=\"400px\", center=[-45, -75], zoom=4, \n",
    "                   ee_objects=resultados, vis_params=vis_params2, labels=labels, label_position=\"topright\")"
   ]
  },
  {
   "cell_type": "code",
   "execution_count": 177,
   "id": "9a243ac4",
   "metadata": {
    "ExecuteTime": {
     "end_time": "2021-11-22T16:00:04.278920Z",
     "start_time": "2021-11-22T16:00:04.276770Z"
    }
   },
   "outputs": [],
   "source": [
    "def llenado2(image):\n",
    "    return image.where(cloud_img1.gt(20), NDVI_2020_sn)"
   ]
  },
  {
   "cell_type": "code",
   "execution_count": 178,
   "id": "ada6d94e",
   "metadata": {
    "ExecuteTime": {
     "end_time": "2021-11-22T16:00:04.281924Z",
     "start_time": "2021-11-22T16:00:04.279613Z"
    }
   },
   "outputs": [],
   "source": [
    "img2 = llenado2(img1)"
   ]
  },
  {
   "cell_type": "code",
   "execution_count": 179,
   "id": "e3db0a52",
   "metadata": {
    "ExecuteTime": {
     "end_time": "2021-11-22T16:00:04.284287Z",
     "start_time": "2021-11-22T16:00:04.282642Z"
    }
   },
   "outputs": [],
   "source": [
    "img2_landsat = img2.set('SENSOR_ID', 'OLI_TIRS')\n",
    "cloud_img2 = ee.Algorithms.Landsat.simpleCloudScore(img2_landsat)\n",
    "cloud_img2 = cloud_img2.select('cloud')"
   ]
  },
  {
   "cell_type": "code",
   "execution_count": 180,
   "id": "42d22742",
   "metadata": {
    "ExecuteTime": {
     "end_time": "2021-11-22T16:00:04.286593Z",
     "start_time": "2021-11-22T16:00:04.285070Z"
    }
   },
   "outputs": [],
   "source": [
    "resultados= [cloud_img2, img2]\n",
    "vis_params2=  [\n",
    "    {'palette':palette_nubes}, \n",
    "    vizParams]\n",
    "labels = [\n",
    "    'Nubes Mosaico 2',\n",
    "    'Mosaico 2']"
   ]
  },
  {
   "cell_type": "code",
   "execution_count": 181,
   "id": "5bdcab8c",
   "metadata": {
    "ExecuteTime": {
     "end_time": "2021-11-22T16:00:04.289601Z",
     "start_time": "2021-11-22T16:00:04.287433Z"
    }
   },
   "outputs": [],
   "source": [
    "# geemap.linked_maps(rows=1, cols=2, height=\"400px\", center=[-45, -75], zoom=4, \n",
    "#                    ee_objects=resultados, vis_params=vis_params2, labels=labels, label_position=\"topright\")"
   ]
  },
  {
   "cell_type": "code",
   "execution_count": 182,
   "id": "ca5f91e2",
   "metadata": {
    "ExecuteTime": {
     "end_time": "2021-11-22T16:00:04.292603Z",
     "start_time": "2021-11-22T16:00:04.290287Z"
    }
   },
   "outputs": [],
   "source": [
    "def llenado3(image):\n",
    "    return image.where(cloud_img2.gt(20), NDVI_2019_sn)"
   ]
  },
  {
   "cell_type": "code",
   "execution_count": 183,
   "id": "f52fddee",
   "metadata": {
    "ExecuteTime": {
     "end_time": "2021-11-22T16:00:04.294837Z",
     "start_time": "2021-11-22T16:00:04.293338Z"
    }
   },
   "outputs": [],
   "source": [
    "img3 = llenado3(img2)"
   ]
  },
  {
   "cell_type": "code",
   "execution_count": 184,
   "id": "6d41d9d0",
   "metadata": {
    "ExecuteTime": {
     "end_time": "2021-11-22T16:00:04.297838Z",
     "start_time": "2021-11-22T16:00:04.295751Z"
    }
   },
   "outputs": [],
   "source": [
    "img3_landsat = img3.set('SENSOR_ID', 'OLI_TIRS')\n",
    "cloud_img3 = ee.Algorithms.Landsat.simpleCloudScore(img3_landsat)\n",
    "cloud_img3 = cloud_img3.select('cloud')"
   ]
  },
  {
   "cell_type": "code",
   "execution_count": 185,
   "id": "3a000d62",
   "metadata": {
    "ExecuteTime": {
     "end_time": "2021-11-22T16:00:04.300841Z",
     "start_time": "2021-11-22T16:00:04.298488Z"
    }
   },
   "outputs": [],
   "source": [
    "resultados= [cloud_img3, img3]\n",
    "vis_params2=  [\n",
    "    {'palette':palette_nubes}, \n",
    "    vizParams]\n",
    "labels = [\n",
    "    'Nubes Mosaico 3',\n",
    "    'Mosaico 3']"
   ]
  },
  {
   "cell_type": "code",
   "execution_count": 186,
   "id": "bf275ed6",
   "metadata": {
    "ExecuteTime": {
     "end_time": "2021-11-22T16:00:04.302843Z",
     "start_time": "2021-11-22T16:00:04.301482Z"
    }
   },
   "outputs": [],
   "source": [
    "# geemap.linked_maps(rows=1, cols=2, height=\"400px\", center=[-45, -75], zoom=4, \n",
    "#                    ee_objects=resultados, vis_params=vis_params2, labels=labels, label_position=\"topright\")"
   ]
  },
  {
   "cell_type": "code",
   "execution_count": 187,
   "id": "9d0daae9",
   "metadata": {
    "ExecuteTime": {
     "end_time": "2021-11-22T16:00:04.305175Z",
     "start_time": "2021-11-22T16:00:04.303713Z"
    }
   },
   "outputs": [],
   "source": [
    "def llenado4(image):\n",
    "    return image.where(cloud_img3.gt(20), NDVI_2018_sn)"
   ]
  },
  {
   "cell_type": "code",
   "execution_count": 188,
   "id": "d37f16d5",
   "metadata": {
    "ExecuteTime": {
     "end_time": "2021-11-22T16:00:04.307696Z",
     "start_time": "2021-11-22T16:00:04.306008Z"
    }
   },
   "outputs": [],
   "source": [
    "img4 = llenado4(img3)"
   ]
  },
  {
   "cell_type": "code",
   "execution_count": 189,
   "id": "540d60d8",
   "metadata": {
    "ExecuteTime": {
     "end_time": "2021-11-22T16:00:04.310700Z",
     "start_time": "2021-11-22T16:00:04.308402Z"
    }
   },
   "outputs": [],
   "source": [
    "img4_landsat = img4.set('SENSOR_ID', 'OLI_TIRS')\n",
    "cloud_img4 = ee.Algorithms.Landsat.simpleCloudScore(img4_landsat)\n",
    "cloud_img4 = cloud_img4.select('cloud')"
   ]
  },
  {
   "cell_type": "code",
   "execution_count": 190,
   "id": "3f0e9719",
   "metadata": {
    "ExecuteTime": {
     "end_time": "2021-11-22T16:00:04.313196Z",
     "start_time": "2021-11-22T16:00:04.311388Z"
    }
   },
   "outputs": [],
   "source": [
    "resultados= [cloud_img4, img4]\n",
    "vis_params2=  [\n",
    "    {'palette':palette_nubes}, \n",
    "    vizParams]\n",
    "labels = [\n",
    "    'Nubes Mosaico 4',\n",
    "    'Mosaico 4']"
   ]
  },
  {
   "cell_type": "code",
   "execution_count": 191,
   "id": "41d9a7b8",
   "metadata": {
    "ExecuteTime": {
     "end_time": "2021-11-22T16:00:06.013814Z",
     "start_time": "2021-11-22T16:00:04.314000Z"
    }
   },
   "outputs": [
    {
     "data": {
      "application/vnd.jupyter.widget-view+json": {
       "model_id": "3821fcd324f4401c95662efaf3f990e0",
       "version_major": 2,
       "version_minor": 0
      },
      "text/plain": [
       "GridspecLayout(children=(Output(layout=Layout(grid_area='widget001')), Output(layout=Layout(grid_area='widget0…"
      ]
     },
     "metadata": {},
     "output_type": "display_data"
    }
   ],
   "source": [
    "geemap.linked_maps(rows=1, cols=2, height=\"400px\", center=[-45, -75], zoom=4, \n",
    "                   ee_objects=resultados, vis_params=vis_params2, labels=labels, label_position=\"topright\")"
   ]
  },
  {
   "cell_type": "code",
   "execution_count": 192,
   "id": "c93604cb",
   "metadata": {
    "ExecuteTime": {
     "end_time": "2021-11-22T16:00:06.016318Z",
     "start_time": "2021-11-22T16:00:06.014609Z"
    }
   },
   "outputs": [],
   "source": [
    "def llenado5(image):\n",
    "    return image.where(cloud_img4.gt(20), NDVI_2017_sn)"
   ]
  },
  {
   "cell_type": "code",
   "execution_count": 193,
   "id": "59e1291c",
   "metadata": {
    "ExecuteTime": {
     "end_time": "2021-11-22T16:00:06.019323Z",
     "start_time": "2021-11-22T16:00:06.016952Z"
    }
   },
   "outputs": [],
   "source": [
    "img5 = llenado5(img4)"
   ]
  },
  {
   "cell_type": "code",
   "execution_count": 194,
   "id": "1b1462fa",
   "metadata": {
    "ExecuteTime": {
     "end_time": "2021-11-22T16:00:06.021813Z",
     "start_time": "2021-11-22T16:00:06.020198Z"
    }
   },
   "outputs": [],
   "source": [
    "img5_landsat = img5.set('SENSOR_ID', 'OLI_TIRS')\n",
    "cloud_img5 = ee.Algorithms.Landsat.simpleCloudScore(img5_landsat)\n",
    "cloud_img5 = cloud_img5.select('cloud')"
   ]
  },
  {
   "cell_type": "code",
   "execution_count": 195,
   "id": "14081f40",
   "metadata": {
    "ExecuteTime": {
     "end_time": "2021-11-22T16:00:06.024318Z",
     "start_time": "2021-11-22T16:00:06.022766Z"
    }
   },
   "outputs": [],
   "source": [
    "resultados= [cloud_img5, img5]\n",
    "vis_params2=  [\n",
    "    {'palette':palette_nubes}, \n",
    "    vizParams]\n",
    "labels = [\n",
    "    'Nubes Mosaico 5',\n",
    "    'Mosaico 5']"
   ]
  },
  {
   "cell_type": "code",
   "execution_count": 196,
   "id": "8593050e",
   "metadata": {
    "ExecuteTime": {
     "end_time": "2021-11-22T16:00:07.750594Z",
     "start_time": "2021-11-22T16:00:06.025115Z"
    }
   },
   "outputs": [
    {
     "data": {
      "application/vnd.jupyter.widget-view+json": {
       "model_id": "8c752c6fa6c74e49ba6fda6407a9a8d8",
       "version_major": 2,
       "version_minor": 0
      },
      "text/plain": [
       "GridspecLayout(children=(Output(layout=Layout(grid_area='widget001')), Output(layout=Layout(grid_area='widget0…"
      ]
     },
     "metadata": {},
     "output_type": "display_data"
    }
   ],
   "source": [
    "geemap.linked_maps(rows=1, cols=2, height=\"400px\", center=[-45, -75], zoom=4, \n",
    "                   ee_objects=resultados, vis_params=vis_params2, labels=labels, label_position=\"topright\")"
   ]
  },
  {
   "cell_type": "code",
   "execution_count": 197,
   "id": "0cccc52b",
   "metadata": {
    "ExecuteTime": {
     "end_time": "2021-11-22T16:00:07.753009Z",
     "start_time": "2021-11-22T16:00:07.751404Z"
    }
   },
   "outputs": [],
   "source": [
    "hansenImage = ee.Image('UMD/hansen/global_forest_change_2015')\n",
    "datamask = hansenImage.select('datamask')"
   ]
  },
  {
   "cell_type": "code",
   "execution_count": 198,
   "id": "2e6b728e",
   "metadata": {
    "ExecuteTime": {
     "end_time": "2021-11-22T16:00:07.755490Z",
     "start_time": "2021-11-22T16:00:07.753892Z"
    }
   },
   "outputs": [],
   "source": [
    "def llenado6(image):\n",
    "    return image.where(datamask.eq(2), NDWI_2021_sn)"
   ]
  },
  {
   "cell_type": "code",
   "execution_count": 199,
   "id": "eeac700c",
   "metadata": {
    "ExecuteTime": {
     "end_time": "2021-11-22T16:00:07.758043Z",
     "start_time": "2021-11-22T16:00:07.756502Z"
    }
   },
   "outputs": [],
   "source": [
    "img6 = llenado6(img5)"
   ]
  },
  {
   "cell_type": "code",
   "execution_count": 200,
   "id": "82202db6",
   "metadata": {
    "ExecuteTime": {
     "end_time": "2021-11-22T16:00:07.760604Z",
     "start_time": "2021-11-22T16:00:07.758786Z"
    }
   },
   "outputs": [],
   "source": [
    "img6_landsat = img6.set('SENSOR_ID', 'OLI_TIRS')"
   ]
  },
  {
   "cell_type": "code",
   "execution_count": 201,
   "id": "823a7e18",
   "metadata": {
    "ExecuteTime": {
     "end_time": "2021-11-22T16:00:07.763132Z",
     "start_time": "2021-11-22T16:00:07.761345Z"
    }
   },
   "outputs": [],
   "source": [
    "resultados= [img5, img6]\n",
    "labels = [\n",
    "    'Mosaico 5',\n",
    "    'Mosaico 6']\n",
    "vis_params3=  [\n",
    "     vizParams, \n",
    "    vizParams]"
   ]
  },
  {
   "cell_type": "code",
   "execution_count": 202,
   "id": "87c07712",
   "metadata": {
    "ExecuteTime": {
     "end_time": "2021-11-22T16:00:07.765723Z",
     "start_time": "2021-11-22T16:00:07.764042Z"
    }
   },
   "outputs": [],
   "source": [
    "# geemap.linked_maps(rows=1, cols=2, height=\"400px\", center=[-45, -75], zoom=4, \n",
    "#                    ee_objects=resultados, vis_params=vis_params3, labels=labels, label_position=\"topright\")"
   ]
  },
  {
   "cell_type": "code",
   "execution_count": 203,
   "id": "20454023",
   "metadata": {
    "ExecuteTime": {
     "end_time": "2021-11-22T16:00:07.767724Z",
     "start_time": "2021-11-22T16:00:07.766431Z"
    }
   },
   "outputs": [],
   "source": [
    "# Map10.addLayer(img5, vizParams, 'Mosaico 5')\n",
    "# Map10.addLayer(img6, vizParams, 'Mosaico 6')\n",
    "# Map10"
   ]
  },
  {
   "cell_type": "markdown",
   "id": "18c237e5",
   "metadata": {},
   "source": [
    "### Resultado Final"
   ]
  },
  {
   "cell_type": "code",
   "execution_count": 204,
   "id": "3e85d062",
   "metadata": {
    "ExecuteTime": {
     "end_time": "2021-11-22T16:00:08.556225Z",
     "start_time": "2021-11-22T16:00:07.768623Z"
    }
   },
   "outputs": [
    {
     "data": {
      "application/vnd.jupyter.widget-view+json": {
       "model_id": "082881572dfa424685c40492017dd065",
       "version_major": 2,
       "version_minor": 0
      },
      "text/plain": [
       "Map(center=[-45, -70], controls=(WidgetControl(options=['position', 'transparent_bg'], widget=HBox(children=(T…"
      ]
     },
     "metadata": {},
     "output_type": "display_data"
    }
   ],
   "source": [
    "img7 = img6.select(['B1','B2','B3','B4','B5','B6','B7'])\n",
    "Map10.addLayer(img7, vizParams, 'Mosaico 7')\n",
    "Map10"
   ]
  },
  {
   "cell_type": "code",
   "execution_count": 205,
   "id": "f985c277",
   "metadata": {
    "ExecuteTime": {
     "end_time": "2021-11-22T16:00:08.558810Z",
     "start_time": "2021-11-22T16:00:08.556954Z"
    }
   },
   "outputs": [],
   "source": [
    "# type(img6)"
   ]
  },
  {
   "cell_type": "code",
   "execution_count": 206,
   "id": "3f26ae54",
   "metadata": {
    "ExecuteTime": {
     "end_time": "2021-11-22T16:00:08.561333Z",
     "start_time": "2021-11-22T16:00:08.559899Z"
    }
   },
   "outputs": [],
   "source": [
    "# img6.bandNames().getInfo()"
   ]
  },
  {
   "cell_type": "code",
   "execution_count": 207,
   "id": "9e384bfb",
   "metadata": {
    "ExecuteTime": {
     "end_time": "2021-11-22T16:00:08.564117Z",
     "start_time": "2021-11-22T16:00:08.562364Z"
    }
   },
   "outputs": [],
   "source": [
    "colec7 = ee.ImageCollection(img7)"
   ]
  },
  {
   "cell_type": "code",
   "execution_count": 208,
   "id": "8bb269ec",
   "metadata": {
    "ExecuteTime": {
     "end_time": "2021-11-22T16:00:08.568683Z",
     "start_time": "2021-11-22T16:00:08.564988Z"
    }
   },
   "outputs": [],
   "source": [
    "coleccion7 = colec7.map(addNDVI).map(addNDWI).map(addNDGI).map(addSAVI).map(addNDSI).map(addDate).map(addCloud)"
   ]
  },
  {
   "cell_type": "code",
   "execution_count": 209,
   "id": "67a2e0e2",
   "metadata": {
    "ExecuteTime": {
     "end_time": "2021-11-22T16:00:08.571040Z",
     "start_time": "2021-11-22T16:00:08.569409Z"
    }
   },
   "outputs": [],
   "source": [
    "property = 'date'"
   ]
  },
  {
   "cell_type": "code",
   "execution_count": 210,
   "id": "9fff05cd",
   "metadata": {
    "ExecuteTime": {
     "end_time": "2021-11-22T16:00:08.573375Z",
     "start_time": "2021-11-22T16:00:08.571811Z"
    }
   },
   "outputs": [],
   "source": [
    "options = {\"title\": 'Fechas Greenest 2021',\n",
    "          \"xlabel\": 'Date',\n",
    "          \"ylabel\": 'Pixel count',\n",
    "          \"colors\": ['#1d6b99']\n",
    "          }"
   ]
  },
  {
   "cell_type": "code",
   "execution_count": 211,
   "id": "1492f0d3",
   "metadata": {
    "ExecuteTime": {
     "end_time": "2021-11-22T16:00:08.575504Z",
     "start_time": "2021-11-22T16:00:08.574272Z"
    }
   },
   "outputs": [],
   "source": [
    "# muestra = img6.sample(patagonia_grande, 10000)"
   ]
  },
  {
   "cell_type": "code",
   "execution_count": 212,
   "id": "0ad9a685",
   "metadata": {
    "ExecuteTime": {
     "end_time": "2021-11-22T16:00:08.577697Z",
     "start_time": "2021-11-22T16:00:08.576259Z"
    }
   },
   "outputs": [],
   "source": [
    "# chart.feature_histogram(muestra, property, **options)"
   ]
  },
  {
   "cell_type": "markdown",
   "id": "c8f38c76",
   "metadata": {},
   "source": [
    "## Mosaicos Matched"
   ]
  },
  {
   "cell_type": "code",
   "execution_count": 213,
   "id": "d5725d05",
   "metadata": {
    "ExecuteTime": {
     "end_time": "2021-11-22T16:00:08.579958Z",
     "start_time": "2021-11-22T16:00:08.578418Z"
    }
   },
   "outputs": [],
   "source": [
    "NDVI_2021_landsat_m = QM_NDVI_2021_m.set('SENSOR_ID', 'OLI_TIRS')"
   ]
  },
  {
   "cell_type": "code",
   "execution_count": 214,
   "id": "3ec3ce95",
   "metadata": {
    "ExecuteTime": {
     "end_time": "2021-11-22T16:00:08.582589Z",
     "start_time": "2021-11-22T16:00:08.580800Z"
    }
   },
   "outputs": [],
   "source": [
    "cloud_2021_m = ee.Algorithms.Landsat.simpleCloudScore(NDVI_2021_landsat_m)"
   ]
  },
  {
   "cell_type": "code",
   "execution_count": 215,
   "id": "1d06d4e6",
   "metadata": {
    "ExecuteTime": {
     "end_time": "2021-11-22T16:00:08.585143Z",
     "start_time": "2021-11-22T16:00:08.583281Z"
    }
   },
   "outputs": [],
   "source": [
    "cloud_2021_m = cloud_2021_m.select('cloud')"
   ]
  },
  {
   "cell_type": "code",
   "execution_count": 216,
   "id": "204cf196",
   "metadata": {
    "ExecuteTime": {
     "end_time": "2021-11-22T16:00:08.587585Z",
     "start_time": "2021-11-22T16:00:08.585820Z"
    }
   },
   "outputs": [],
   "source": [
    "palette_nubes = ['#1a9850', '#66bd63', '#a6d96a', '#d9ef8b', '#fee08b', '#fdae61', '#f46d43', '#d73027']"
   ]
  },
  {
   "cell_type": "code",
   "execution_count": 217,
   "id": "90667fcb",
   "metadata": {
    "ExecuteTime": {
     "end_time": "2021-11-22T16:00:08.589680Z",
     "start_time": "2021-11-22T16:00:08.588384Z"
    }
   },
   "outputs": [],
   "source": [
    "QM_NDVI_2021_m = ee.Image(QM_NDVI_2021_m)"
   ]
  },
  {
   "cell_type": "code",
   "execution_count": 218,
   "id": "8c7e8e20",
   "metadata": {
    "ExecuteTime": {
     "end_time": "2021-11-22T16:00:08.592093Z",
     "start_time": "2021-11-22T16:00:08.590504Z"
    }
   },
   "outputs": [],
   "source": [
    "resultados= [cloud_2021_m, QM_NDVI_2021_m]\n",
    "vis_params2=  [\n",
    "    {'palette':palette_nubes}, \n",
    "    vizParams]\n",
    "labels = [\n",
    "    'Nubes 2021',\n",
    "    'QM NDVI 2021']"
   ]
  },
  {
   "cell_type": "code",
   "execution_count": 219,
   "id": "37ff14a0",
   "metadata": {
    "ExecuteTime": {
     "end_time": "2021-11-22T16:00:08.594191Z",
     "start_time": "2021-11-22T16:00:08.592838Z"
    }
   },
   "outputs": [],
   "source": [
    "# geemap.linked_maps(rows=1, cols=2, height=\"400px\", center=[-45, -75], zoom=4, \n",
    "#                    ee_objects=resultados, vis_params=vis_params2, labels=labels, label_position=\"topright\")"
   ]
  },
  {
   "cell_type": "code",
   "execution_count": 220,
   "id": "dfb9ff31",
   "metadata": {
    "ExecuteTime": {
     "end_time": "2021-11-22T16:00:08.596553Z",
     "start_time": "2021-11-22T16:00:08.594991Z"
    }
   },
   "outputs": [],
   "source": [
    "def llenado(image):\n",
    "    return image.where(cloud_2021_m.gt(20),NDVI_2021_sn_m)"
   ]
  },
  {
   "cell_type": "code",
   "execution_count": 221,
   "id": "fcc244dd",
   "metadata": {
    "ExecuteTime": {
     "end_time": "2021-11-22T16:00:08.599221Z",
     "start_time": "2021-11-22T16:00:08.597413Z"
    }
   },
   "outputs": [],
   "source": [
    "img1_m = llenado(QM_NDVI_2021_m)"
   ]
  },
  {
   "cell_type": "code",
   "execution_count": 222,
   "id": "5966e81c",
   "metadata": {
    "ExecuteTime": {
     "end_time": "2021-11-22T16:00:08.601797Z",
     "start_time": "2021-11-22T16:00:08.599904Z"
    }
   },
   "outputs": [],
   "source": [
    "img1_landsat_m = img1_m.set('SENSOR_ID', 'OLI_TIRS')\n",
    "cloud_img1_m = ee.Algorithms.Landsat.simpleCloudScore(img1_landsat_m)\n",
    "cloud_img1_m = cloud_img1_m.select('cloud')"
   ]
  },
  {
   "cell_type": "code",
   "execution_count": 223,
   "id": "cb935b42",
   "metadata": {
    "ExecuteTime": {
     "end_time": "2021-11-22T16:00:08.604142Z",
     "start_time": "2021-11-22T16:00:08.602701Z"
    }
   },
   "outputs": [],
   "source": [
    "img1_m = ee.Image(img1_m)"
   ]
  },
  {
   "cell_type": "code",
   "execution_count": 224,
   "id": "a6038438",
   "metadata": {
    "ExecuteTime": {
     "end_time": "2021-11-22T16:00:08.606367Z",
     "start_time": "2021-11-22T16:00:08.604874Z"
    }
   },
   "outputs": [],
   "source": [
    "resultados= [cloud_img1_m, img1_m]\n",
    "vis_params2=  [\n",
    "    {'palette':palette_nubes}, \n",
    "    vizParams]\n",
    "labels = [\n",
    "    'Nubes Mosaico 1',\n",
    "    'Mosaico 1']"
   ]
  },
  {
   "cell_type": "code",
   "execution_count": 225,
   "id": "ff549bfe",
   "metadata": {
    "ExecuteTime": {
     "end_time": "2021-11-22T16:00:08.608915Z",
     "start_time": "2021-11-22T16:00:08.607357Z"
    }
   },
   "outputs": [],
   "source": [
    "# geemap.linked_maps(rows=1, cols=2, height=\"400px\", center=[-45, -75], zoom=4, \n",
    "#                    ee_objects=resultados, vis_params=vis_params2, labels=labels, label_position=\"topright\")"
   ]
  },
  {
   "cell_type": "code",
   "execution_count": 226,
   "id": "11700bca",
   "metadata": {
    "ExecuteTime": {
     "end_time": "2021-11-22T16:00:08.611033Z",
     "start_time": "2021-11-22T16:00:08.609653Z"
    }
   },
   "outputs": [],
   "source": [
    "def llenado2(image):\n",
    "    return image.where(cloud_img1_m.gt(20), NDVI_2020_sn_m)"
   ]
  },
  {
   "cell_type": "code",
   "execution_count": 227,
   "id": "b9a26883",
   "metadata": {
    "ExecuteTime": {
     "end_time": "2021-11-22T16:00:08.613643Z",
     "start_time": "2021-11-22T16:00:08.611872Z"
    }
   },
   "outputs": [],
   "source": [
    "img2_m = llenado2(img1_m)"
   ]
  },
  {
   "cell_type": "code",
   "execution_count": 228,
   "id": "47a8156c",
   "metadata": {
    "ExecuteTime": {
     "end_time": "2021-11-22T16:00:08.616407Z",
     "start_time": "2021-11-22T16:00:08.614467Z"
    }
   },
   "outputs": [],
   "source": [
    "img2_landsat_m = img2_m.set('SENSOR_ID', 'OLI_TIRS')\n",
    "cloud_img2_m = ee.Algorithms.Landsat.simpleCloudScore(img2_landsat_m)\n",
    "cloud_img2_m = cloud_img2_m.select('cloud')"
   ]
  },
  {
   "cell_type": "code",
   "execution_count": 229,
   "id": "b6747689",
   "metadata": {
    "ExecuteTime": {
     "end_time": "2021-11-22T16:00:08.619058Z",
     "start_time": "2021-11-22T16:00:08.617180Z"
    }
   },
   "outputs": [],
   "source": [
    "img2_m = ee.Image(img2_m)"
   ]
  },
  {
   "cell_type": "code",
   "execution_count": 230,
   "id": "8a4648ba",
   "metadata": {
    "ExecuteTime": {
     "end_time": "2021-11-22T16:00:08.621297Z",
     "start_time": "2021-11-22T16:00:08.619738Z"
    }
   },
   "outputs": [],
   "source": [
    "resultados= [cloud_img2_m, img2_m]\n",
    "vis_params2=  [\n",
    "    {'palette':palette_nubes}, \n",
    "    vizParams]\n",
    "labels = [\n",
    "    'Nubes Mosaico 2',\n",
    "    'Mosaico 2']"
   ]
  },
  {
   "cell_type": "code",
   "execution_count": 231,
   "id": "5c6eee6f",
   "metadata": {
    "ExecuteTime": {
     "end_time": "2021-11-22T16:00:08.624304Z",
     "start_time": "2021-11-22T16:00:08.622183Z"
    }
   },
   "outputs": [],
   "source": [
    "# geemap.linked_maps(rows=1, cols=2, height=\"400px\", center=[-45, -75], zoom=4, \n",
    "#                    ee_objects=resultados, vis_params=vis_params2, labels=labels, label_position=\"topright\")"
   ]
  },
  {
   "cell_type": "code",
   "execution_count": 232,
   "id": "c3c15ccb",
   "metadata": {
    "ExecuteTime": {
     "end_time": "2021-11-22T16:00:08.626982Z",
     "start_time": "2021-11-22T16:00:08.625001Z"
    }
   },
   "outputs": [],
   "source": [
    "def llenado3(image):\n",
    "    return image.where(cloud_img2_m.gt(20), NDVI_2019_sn_m)"
   ]
  },
  {
   "cell_type": "code",
   "execution_count": 233,
   "id": "be4d98dc",
   "metadata": {
    "ExecuteTime": {
     "end_time": "2021-11-22T16:00:08.629171Z",
     "start_time": "2021-11-22T16:00:08.627661Z"
    }
   },
   "outputs": [],
   "source": [
    "img3_m = llenado3(img2_m)"
   ]
  },
  {
   "cell_type": "code",
   "execution_count": 234,
   "id": "6afe5e92",
   "metadata": {
    "ExecuteTime": {
     "end_time": "2021-11-22T16:00:08.631692Z",
     "start_time": "2021-11-22T16:00:08.630076Z"
    }
   },
   "outputs": [],
   "source": [
    "img3_landsat_m = img3_m.set('SENSOR_ID', 'OLI_TIRS')\n",
    "cloud_img3_m = ee.Algorithms.Landsat.simpleCloudScore(img3_landsat_m)\n",
    "cloud_img3_m = cloud_img3_m.select('cloud')"
   ]
  },
  {
   "cell_type": "code",
   "execution_count": 235,
   "id": "63e6b3e5",
   "metadata": {
    "ExecuteTime": {
     "end_time": "2021-11-22T16:00:08.633990Z",
     "start_time": "2021-11-22T16:00:08.632566Z"
    }
   },
   "outputs": [],
   "source": [
    "img3_m = ee.Image(img3_m)"
   ]
  },
  {
   "cell_type": "code",
   "execution_count": 236,
   "id": "ae7dc873",
   "metadata": {
    "ExecuteTime": {
     "end_time": "2021-11-22T16:00:08.636496Z",
     "start_time": "2021-11-22T16:00:08.634773Z"
    }
   },
   "outputs": [],
   "source": [
    "resultados= [cloud_img3_m, img3_m]\n",
    "vis_params2=  [\n",
    "    {'palette':palette_nubes}, \n",
    "    vizParams]\n",
    "labels = [\n",
    "    'Nubes Mosaico 3',\n",
    "    'Mosaico 3']"
   ]
  },
  {
   "cell_type": "code",
   "execution_count": 237,
   "id": "9da14b29",
   "metadata": {
    "ExecuteTime": {
     "end_time": "2021-11-22T16:00:08.638511Z",
     "start_time": "2021-11-22T16:00:08.637242Z"
    }
   },
   "outputs": [],
   "source": [
    "# geemap.linked_maps(rows=1, cols=2, height=\"400px\", center=[-45, -75], zoom=4, \n",
    "#                    ee_objects=resultados, vis_params=vis_params2, labels=labels, label_position=\"topright\")"
   ]
  },
  {
   "cell_type": "code",
   "execution_count": 238,
   "id": "b4962662",
   "metadata": {
    "ExecuteTime": {
     "end_time": "2021-11-22T16:00:08.640809Z",
     "start_time": "2021-11-22T16:00:08.639451Z"
    }
   },
   "outputs": [],
   "source": [
    "def llenado4(image):\n",
    "    return image.where(cloud_img3_m.gt(20), NDVI_2018_sn_m)"
   ]
  },
  {
   "cell_type": "code",
   "execution_count": 239,
   "id": "d84c0a97",
   "metadata": {
    "ExecuteTime": {
     "end_time": "2021-11-22T16:00:08.642950Z",
     "start_time": "2021-11-22T16:00:08.641599Z"
    }
   },
   "outputs": [],
   "source": [
    "img4_m = llenado4(img3_m)"
   ]
  },
  {
   "cell_type": "code",
   "execution_count": 240,
   "id": "c39b50e8",
   "metadata": {
    "ExecuteTime": {
     "end_time": "2021-11-22T16:00:08.645659Z",
     "start_time": "2021-11-22T16:00:08.643755Z"
    }
   },
   "outputs": [],
   "source": [
    "img4_landsat_m = img4_m.set('SENSOR_ID', 'OLI_TIRS')\n",
    "cloud_img4_m = ee.Algorithms.Landsat.simpleCloudScore(img4_landsat_m)\n",
    "cloud_img4_m = cloud_img4_m.select('cloud')"
   ]
  },
  {
   "cell_type": "code",
   "execution_count": 241,
   "id": "7b4625f1",
   "metadata": {
    "ExecuteTime": {
     "end_time": "2021-11-22T16:00:08.648266Z",
     "start_time": "2021-11-22T16:00:08.646398Z"
    }
   },
   "outputs": [],
   "source": [
    "img4_m = ee.Image(img4_m)"
   ]
  },
  {
   "cell_type": "code",
   "execution_count": 242,
   "id": "b5eeb495",
   "metadata": {
    "ExecuteTime": {
     "end_time": "2021-11-22T16:00:08.650701Z",
     "start_time": "2021-11-22T16:00:08.648952Z"
    }
   },
   "outputs": [],
   "source": [
    "resultados= [cloud_img4_m, img4_m]\n",
    "vis_params2=  [\n",
    "    {'palette':palette_nubes}, \n",
    "    vizParams]\n",
    "labels = [\n",
    "    'Nubes Mosaico 4',\n",
    "    'Mosaico 4']"
   ]
  },
  {
   "cell_type": "code",
   "execution_count": 243,
   "id": "fb6d9f07",
   "metadata": {
    "ExecuteTime": {
     "end_time": "2021-11-22T16:00:08.652818Z",
     "start_time": "2021-11-22T16:00:08.651532Z"
    }
   },
   "outputs": [],
   "source": [
    "# geemap.linked_maps(rows=1, cols=2, height=\"400px\", center=[-45, -75], zoom=4, \n",
    "#                    ee_objects=resultados, vis_params=vis_params2, labels=labels, label_position=\"topright\")"
   ]
  },
  {
   "cell_type": "code",
   "execution_count": 244,
   "id": "c7e17a5c",
   "metadata": {
    "ExecuteTime": {
     "end_time": "2021-11-22T16:00:08.741710Z",
     "start_time": "2021-11-22T16:00:08.740011Z"
    }
   },
   "outputs": [],
   "source": [
    "def llenado5(image):\n",
    "    return image.where(cloud_img4_m.gt(20), NDVI_2017_sn_m)"
   ]
  },
  {
   "cell_type": "code",
   "execution_count": 245,
   "id": "3f49ffa5",
   "metadata": {
    "ExecuteTime": {
     "end_time": "2021-11-22T16:00:08.744400Z",
     "start_time": "2021-11-22T16:00:08.742820Z"
    }
   },
   "outputs": [],
   "source": [
    "img5_m = llenado5(img4_m)"
   ]
  },
  {
   "cell_type": "code",
   "execution_count": 246,
   "id": "16dddde0",
   "metadata": {
    "ExecuteTime": {
     "end_time": "2021-11-22T16:00:08.746984Z",
     "start_time": "2021-11-22T16:00:08.745242Z"
    }
   },
   "outputs": [],
   "source": [
    "img5_landsat_m = img5_m.set('SENSOR_ID', 'OLI_TIRS')\n",
    "cloud_img5_m = ee.Algorithms.Landsat.simpleCloudScore(img5_landsat_m)\n",
    "cloud_img5_m = cloud_img5_m.select('cloud')"
   ]
  },
  {
   "cell_type": "code",
   "execution_count": 247,
   "id": "cc9ea7b8",
   "metadata": {
    "ExecuteTime": {
     "end_time": "2021-11-22T16:00:08.749317Z",
     "start_time": "2021-11-22T16:00:08.747758Z"
    }
   },
   "outputs": [],
   "source": [
    "img5_m = ee.Image(img5_m)"
   ]
  },
  {
   "cell_type": "code",
   "execution_count": 248,
   "id": "992869c7",
   "metadata": {
    "ExecuteTime": {
     "end_time": "2021-11-22T16:00:08.751655Z",
     "start_time": "2021-11-22T16:00:08.750087Z"
    }
   },
   "outputs": [],
   "source": [
    "resultados= [cloud_img5_m, img5_m]\n",
    "vis_params2=  [\n",
    "    {'palette':palette_nubes}, \n",
    "    vizParams]\n",
    "labels = [\n",
    "    'Nubes Mosaico 5',\n",
    "    'Mosaico 5']"
   ]
  },
  {
   "cell_type": "code",
   "execution_count": 249,
   "id": "b8d7e3f8",
   "metadata": {
    "ExecuteTime": {
     "end_time": "2021-11-22T16:00:08.753840Z",
     "start_time": "2021-11-22T16:00:08.752614Z"
    }
   },
   "outputs": [],
   "source": [
    "# geemap.linked_maps(rows=1, cols=2, height=\"400px\", center=[-45, -75], zoom=4, \n",
    "#                    ee_objects=resultados, vis_params=vis_params2, labels=labels, label_position=\"topright\")"
   ]
  },
  {
   "cell_type": "code",
   "execution_count": 250,
   "id": "6400890d",
   "metadata": {
    "ExecuteTime": {
     "end_time": "2021-11-22T16:00:08.756118Z",
     "start_time": "2021-11-22T16:00:08.754638Z"
    }
   },
   "outputs": [],
   "source": [
    "hansenImage = ee.Image('UMD/hansen/global_forest_change_2015')\n",
    "datamask = hansenImage.select('datamask')"
   ]
  },
  {
   "cell_type": "code",
   "execution_count": null,
   "id": "3a923362",
   "metadata": {},
   "outputs": [],
   "source": []
  },
  {
   "cell_type": "code",
   "execution_count": 251,
   "id": "25bc284f",
   "metadata": {
    "ExecuteTime": {
     "end_time": "2021-11-22T16:00:08.758691Z",
     "start_time": "2021-11-22T16:00:08.756944Z"
    }
   },
   "outputs": [],
   "source": [
    "def llenado6(image):\n",
    "    return image.where(datamask.eq(2), NDWI_2021_sur_sn_m)"
   ]
  },
  {
   "cell_type": "code",
   "execution_count": 252,
   "id": "056eee78",
   "metadata": {
    "ExecuteTime": {
     "end_time": "2021-11-22T16:00:08.761291Z",
     "start_time": "2021-11-22T16:00:08.759429Z"
    }
   },
   "outputs": [],
   "source": [
    "img6_m = llenado6(img5_m)"
   ]
  },
  {
   "cell_type": "code",
   "execution_count": 253,
   "id": "70e58e52",
   "metadata": {
    "ExecuteTime": {
     "end_time": "2021-11-22T16:00:08.763362Z",
     "start_time": "2021-11-22T16:00:08.762017Z"
    }
   },
   "outputs": [],
   "source": [
    "# img6_m.bandNames().getInfo()"
   ]
  },
  {
   "cell_type": "code",
   "execution_count": 254,
   "id": "bf45a446",
   "metadata": {
    "ExecuteTime": {
     "end_time": "2021-11-22T16:00:08.765811Z",
     "start_time": "2021-11-22T16:00:08.764433Z"
    }
   },
   "outputs": [],
   "source": [
    "img6_m = ee.Image(img6_m)"
   ]
  },
  {
   "cell_type": "code",
   "execution_count": 255,
   "id": "73e9f0f9",
   "metadata": {
    "ExecuteTime": {
     "end_time": "2021-11-22T16:00:08.768596Z",
     "start_time": "2021-11-22T16:00:08.766654Z"
    }
   },
   "outputs": [],
   "source": [
    "resultados= [img5_m, img6_m]\n",
    "labels = [\n",
    "    'Mosaico 5',\n",
    "    'Mosaico 6']\n",
    "vis_params3=  [\n",
    "     vizParams, \n",
    "    vizParams]"
   ]
  },
  {
   "cell_type": "code",
   "execution_count": 256,
   "id": "47eb7b43",
   "metadata": {
    "ExecuteTime": {
     "end_time": "2021-11-22T16:00:39.495156Z",
     "start_time": "2021-11-22T16:00:08.769306Z"
    }
   },
   "outputs": [
    {
     "data": {
      "application/vnd.jupyter.widget-view+json": {
       "model_id": "cd73082139794e8a90288a2b60dddcf1",
       "version_major": 2,
       "version_minor": 0
      },
      "text/plain": [
       "GridspecLayout(children=(Output(layout=Layout(grid_area='widget001')), Output(layout=Layout(grid_area='widget0…"
      ]
     },
     "metadata": {},
     "output_type": "display_data"
    }
   ],
   "source": [
    "geemap.linked_maps(rows=1, cols=2, height=\"400px\", center=[-45, -75], zoom=4, \n",
    "                   ee_objects=resultados, vis_params=vis_params3, labels=labels, label_position=\"topright\")"
   ]
  },
  {
   "cell_type": "code",
   "execution_count": 257,
   "id": "0645dcd8",
   "metadata": {
    "ExecuteTime": {
     "end_time": "2021-11-22T16:00:39.498158Z",
     "start_time": "2021-11-22T16:00:39.495967Z"
    }
   },
   "outputs": [],
   "source": [
    "img6_m_bandas = img6_m.select(['B1','B2','B3','B4','B5','B6','B7'])"
   ]
  },
  {
   "cell_type": "code",
   "execution_count": 258,
   "id": "eae34253",
   "metadata": {
    "ExecuteTime": {
     "end_time": "2021-11-22T16:00:39.501098Z",
     "start_time": "2021-11-22T16:00:39.498823Z"
    }
   },
   "outputs": [],
   "source": [
    "vizParams2 = {\n",
    "  'bands': ['B5', 'B4', 'B3'],\n",
    "  'min': 0,\n",
    "  'max': 0.2,\n",
    "  'gamma': [1, 1.1, 1]\n",
    "}"
   ]
  },
  {
   "cell_type": "markdown",
   "id": "71cfd395",
   "metadata": {},
   "source": [
    "### Resultado Final"
   ]
  },
  {
   "cell_type": "code",
   "execution_count": 259,
   "id": "f6becda0",
   "metadata": {
    "ExecuteTime": {
     "end_time": "2021-11-22T16:00:54.981779Z",
     "start_time": "2021-11-22T16:00:39.501996Z"
    }
   },
   "outputs": [
    {
     "data": {
      "application/vnd.jupyter.widget-view+json": {
       "model_id": "082881572dfa424685c40492017dd065",
       "version_major": 2,
       "version_minor": 0
      },
      "text/plain": [
       "Map(center=[-45, -70], controls=(WidgetControl(options=['position', 'transparent_bg'], widget=HBox(children=(T…"
      ]
     },
     "metadata": {},
     "output_type": "display_data"
    }
   ],
   "source": [
    "Map10.addLayer(img6_m_bandas, vizParams, 'Mosaico 6m')\n",
    "Map10"
   ]
  },
  {
   "cell_type": "code",
   "execution_count": 260,
   "id": "83a452f1",
   "metadata": {
    "ExecuteTime": {
     "end_time": "2021-11-22T16:00:54.984098Z",
     "start_time": "2021-11-22T16:00:54.982544Z"
    }
   },
   "outputs": [],
   "source": [
    "# Map12.addLayer(img6_m_bandas, vizParams2, 'Mosaico 6m')\n",
    "# Map12"
   ]
  },
  {
   "cell_type": "code",
   "execution_count": 261,
   "id": "6d9a5474",
   "metadata": {
    "ExecuteTime": {
     "end_time": "2021-11-22T16:00:54.987086Z",
     "start_time": "2021-11-22T16:00:54.984754Z"
    }
   },
   "outputs": [],
   "source": [
    "# img6_m.bandNames().getInfo()"
   ]
  },
  {
   "cell_type": "markdown",
   "id": "1e872319",
   "metadata": {},
   "source": [
    "## Clasificación"
   ]
  },
  {
   "cell_type": "code",
   "execution_count": 262,
   "id": "3d3603e3",
   "metadata": {
    "ExecuteTime": {
     "end_time": "2021-11-22T16:00:54.989535Z",
     "start_time": "2021-11-22T16:00:54.987971Z"
    }
   },
   "outputs": [],
   "source": [
    "val_shp = os.path.join(work_dir, 'validacion.shp')\n",
    "merged_original = os.path.join(work_dir,'datos_1.shp')"
   ]
  },
  {
   "cell_type": "code",
   "execution_count": 263,
   "id": "bf7bfdeb",
   "metadata": {
    "ExecuteTime": {
     "end_time": "2021-11-22T16:00:55.455522Z",
     "start_time": "2021-11-22T16:00:54.990329Z"
    }
   },
   "outputs": [],
   "source": [
    "val = geemap.shp_to_ee(val_shp)\n",
    "# Map13.addLayer(val, {}, 'Áreas de Validación')"
   ]
  },
  {
   "cell_type": "code",
   "execution_count": 264,
   "id": "3b636946",
   "metadata": {
    "ExecuteTime": {
     "end_time": "2021-11-22T16:00:55.975468Z",
     "start_time": "2021-11-22T16:00:55.456364Z"
    }
   },
   "outputs": [],
   "source": [
    "mergedoriginal = geemap.shp_to_ee(merged_original)\n",
    "# Map13.addLayer( mergedoriginal, {}, 'Áreas de entrenamiento Original')"
   ]
  },
  {
   "cell_type": "code",
   "execution_count": 265,
   "id": "85616c66",
   "metadata": {
    "ExecuteTime": {
     "end_time": "2021-11-22T16:00:55.978468Z",
     "start_time": "2021-11-22T16:00:55.976336Z"
    }
   },
   "outputs": [],
   "source": [
    "# img6_m = addNDVI(img6_m)\n",
    "# img6_m = addNDWI(img6_m)\n",
    "# img6_m = addNDGI(img6_m)\n",
    "# img6_m = addSAVI(img6_m)\n",
    "# img6_m = addNDSI(img6_m)\n",
    "# img6_m = addDate(img6_m)\n",
    "# img6_m = addCloud(img6_m)"
   ]
  },
  {
   "cell_type": "code",
   "execution_count": 266,
   "id": "7f16c9ef",
   "metadata": {
    "ExecuteTime": {
     "end_time": "2021-11-22T16:00:55.981535Z",
     "start_time": "2021-11-22T16:00:55.979815Z"
    }
   },
   "outputs": [],
   "source": [
    "dataset = img6.sampleRegions(**{\n",
    "    'collection': mergedoriginal,\n",
    "    'properties': ['ID'],\n",
    "    'scale': 30,\n",
    "})"
   ]
  },
  {
   "cell_type": "code",
   "execution_count": 267,
   "id": "19076563",
   "metadata": {
    "ExecuteTime": {
     "end_time": "2021-11-22T16:00:55.984298Z",
     "start_time": "2021-11-22T16:00:55.982539Z"
    }
   },
   "outputs": [],
   "source": [
    "datasetval = img6.sampleRegions(**{\n",
    "    'collection': val,\n",
    "    'properties': ['ID'],\n",
    "    'scale': 10,\n",
    "})"
   ]
  },
  {
   "cell_type": "code",
   "execution_count": 268,
   "id": "5273b637",
   "metadata": {
    "ExecuteTime": {
     "end_time": "2021-11-22T16:00:55.986995Z",
     "start_time": "2021-11-22T16:00:55.985179Z"
    }
   },
   "outputs": [],
   "source": [
    "datasetMatch = img6_m.sampleRegions(**{\n",
    "    'collection': mergedoriginal,\n",
    "    'properties': ['ID'],\n",
    "    'scale': 30,\n",
    "})"
   ]
  },
  {
   "cell_type": "code",
   "execution_count": 269,
   "id": "e34adb30",
   "metadata": {
    "ExecuteTime": {
     "end_time": "2021-11-22T16:00:55.989664Z",
     "start_time": "2021-11-22T16:00:55.988036Z"
    }
   },
   "outputs": [],
   "source": [
    "datasetvalMatch= img6_m.sampleRegions(**{\n",
    "    'collection': val,\n",
    "    'properties': ['ID'],\n",
    "    'scale': 10,\n",
    "})"
   ]
  },
  {
   "cell_type": "code",
   "execution_count": 270,
   "id": "0be21169",
   "metadata": {
    "ExecuteTime": {
     "end_time": "2021-11-22T16:01:01.032714Z",
     "start_time": "2021-11-22T16:00:55.990552Z"
    }
   },
   "outputs": [
    {
     "name": "stdout",
     "output_type": "stream",
     "text": [
      "22637\n"
     ]
    }
   ],
   "source": [
    "print(dataset.size().getInfo())"
   ]
  },
  {
   "cell_type": "code",
   "execution_count": 271,
   "id": "0cdba8cd",
   "metadata": {
    "ExecuteTime": {
     "end_time": "2021-11-22T16:01:01.034962Z",
     "start_time": "2021-11-22T16:01:01.033489Z"
    }
   },
   "outputs": [],
   "source": [
    "# print(dataset.first().getInfo())"
   ]
  },
  {
   "cell_type": "code",
   "execution_count": 272,
   "id": "5c27d8ab",
   "metadata": {
    "ExecuteTime": {
     "end_time": "2021-11-22T16:01:01.038657Z",
     "start_time": "2021-11-22T16:01:01.035852Z"
    }
   },
   "outputs": [],
   "source": [
    "# print(datasetval.first().getInfo())"
   ]
  },
  {
   "cell_type": "markdown",
   "id": "65efc69f",
   "metadata": {},
   "source": [
    "### Muestras y datos de validación"
   ]
  },
  {
   "cell_type": "code",
   "execution_count": 273,
   "id": "9f4082a9",
   "metadata": {
    "ExecuteTime": {
     "end_time": "2021-11-22T16:01:01.041497Z",
     "start_time": "2021-11-22T16:01:01.039412Z"
    }
   },
   "outputs": [],
   "source": [
    "# Guardamos las bandas\n",
    "\n",
    "# Esta propiedad guarda las clases de landcover\n",
    "# label = 'b1'\n",
    "label = 'IDH'\n",
    "label1 = 'ID'\n",
    "# Overlay the points on the imagery to get training.\n",
    "# sample = landsat.select(bands).sampleRegions(**{\n",
    "#   'collection': points,\n",
    "#   'properties': [label],\n",
    "#   'scale': 30\n",
    "# })\n",
    "\n",
    "# # Adds a column of deterministic pseudorandom numbers. \n",
    "# sample = sample.randomColumn()\n",
    "\n",
    "# split = 0.7 \n",
    "\n",
    "# training = sample.filter(ee.Filter.lt('random', split))\n",
    "# validation = sample.filter(ee.Filter.gte('random', split))\n",
    "bands = ['B1',\n",
    " 'B2',\n",
    " 'B3',\n",
    " 'B4',\n",
    " 'B5',\n",
    " 'B6',\n",
    " 'B7',\n",
    " 'B8',\n",
    " 'B9',\n",
    " 'B10',\n",
    " 'B11',\n",
    " 'NDVI',\n",
    " 'NDWI',\n",
    " 'NDGI',\n",
    " 'SAVI',\n",
    " 'NDSI',\n",
    "]\n",
    "bands1 = ['B1',\n",
    " 'B2',\n",
    " 'B3',\n",
    " 'B4',\n",
    " 'B5',\n",
    " 'B6',\n",
    " 'B7',\n",
    " 'B8',\n",
    " 'B9',\n",
    " 'B10',\n",
    " 'B11']"
   ]
  },
  {
   "cell_type": "markdown",
   "id": "bb2b3b9b",
   "metadata": {},
   "source": [
    "### Entrenando el modelo"
   ]
  },
  {
   "cell_type": "code",
   "execution_count": 274,
   "id": "d2eab14d",
   "metadata": {
    "ExecuteTime": {
     "end_time": "2021-11-22T16:01:01.044017Z",
     "start_time": "2021-11-22T16:01:01.042372Z"
    }
   },
   "outputs": [],
   "source": [
    "classifier = ee.Classifier.smileRandomForest(100).train(dataset, label1, bands)\n",
    "classifierMatch = ee.Classifier.smileRandomForest(100).train(datasetMatch, label1, bands1)"
   ]
  },
  {
   "cell_type": "code",
   "execution_count": 275,
   "id": "effbf7b9",
   "metadata": {
    "ExecuteTime": {
     "end_time": "2021-11-22T16:01:01.047053Z",
     "start_time": "2021-11-22T16:01:01.045082Z"
    }
   },
   "outputs": [],
   "source": [
    "result1 = img6.select(bands).classify(classifier)\n",
    "result2_M = img6_m.select(bands1).classify(classifierMatch)"
   ]
  },
  {
   "cell_type": "markdown",
   "id": "7df7206f",
   "metadata": {},
   "source": [
    "### Categorizando"
   ]
  },
  {
   "cell_type": "code",
   "execution_count": 276,
   "id": "a9f7e136",
   "metadata": {
    "ExecuteTime": {
     "end_time": "2021-11-22T16:01:01.049778Z",
     "start_time": "2021-11-22T16:01:01.047855Z"
    }
   },
   "outputs": [],
   "source": [
    "class_values1 = [1,2,3,4,5,6,7,8,9,10,11,12,13,14,15,16,17,18]\n",
    "\n",
    "class_palette1 = ['6bee8c', # 1\n",
    " 'f0ff00',\n",
    " '0c40f1',\n",
    " '685205',\n",
    " '0d4404',\n",
    " 'e82d13',\n",
    " 'f99504',\n",
    " '17d4c6',\n",
    " 'dc07e7',\n",
    " '24ff00',\n",
    " '2de50f',\n",
    " 'ccba7d',\n",
    " 'dec61a',\n",
    " '023208',\n",
    " '03c2ff',\n",
    " '97ad0b',\n",
    " 'a4f8ff',\n",
    " 'c0c233',               \n",
    "]"
   ]
  },
  {
   "cell_type": "code",
   "execution_count": 277,
   "id": "97b63b26",
   "metadata": {
    "ExecuteTime": {
     "end_time": "2021-11-22T16:01:01.052215Z",
     "start_time": "2021-11-22T16:01:01.050710Z"
    }
   },
   "outputs": [],
   "source": [
    "landcover1 = result1.set('classification_class_values', class_values1)\n",
    "landcover1 = landcover1.set('classification_class_palette', class_palette1)"
   ]
  },
  {
   "cell_type": "code",
   "execution_count": 278,
   "id": "54eabf1f",
   "metadata": {
    "ExecuteTime": {
     "end_time": "2021-11-22T16:01:01.054648Z",
     "start_time": "2021-11-22T16:01:01.052952Z"
    }
   },
   "outputs": [],
   "source": [
    "landcoverMatch = result2_M.set('classification_class_values', class_values1)\n",
    "landcoverMatch = landcoverMatch.set('classification_class_palette', class_palette1)"
   ]
  },
  {
   "cell_type": "code",
   "execution_count": 279,
   "id": "11e0ee3e",
   "metadata": {
    "ExecuteTime": {
     "end_time": "2021-11-22T16:01:24.182805Z",
     "start_time": "2021-11-22T16:01:01.055570Z"
    }
   },
   "outputs": [],
   "source": [
    "Map14.addLayer(landcover1, {}, 'Land cover clasificado Random Forest' )\n",
    "Map14.addLayer(landcoverMatch, {}, 'Land cover clasificado Random Forest Match' )"
   ]
  },
  {
   "cell_type": "code",
   "execution_count": 280,
   "id": "882a5f91",
   "metadata": {
    "ExecuteTime": {
     "end_time": "2021-11-22T16:01:24.185914Z",
     "start_time": "2021-11-22T16:01:24.183776Z"
    }
   },
   "outputs": [
    {
     "data": {
      "text/plain": [
       "ee.image.Image"
      ]
     },
     "execution_count": 280,
     "metadata": {},
     "output_type": "execute_result"
    }
   ],
   "source": [
    "type(landcover1)"
   ]
  },
  {
   "cell_type": "code",
   "execution_count": 281,
   "id": "8111a0da",
   "metadata": {
    "ExecuteTime": {
     "end_time": "2021-11-22T16:01:24.199934Z",
     "start_time": "2021-11-22T16:01:24.186683Z"
    }
   },
   "outputs": [
    {
     "data": {
      "application/vnd.jupyter.widget-view+json": {
       "model_id": "23c27ec43df7485386092abec568cfbc",
       "version_major": 2,
       "version_minor": 0
      },
      "text/plain": [
       "Map(center=[-45, -70], controls=(WidgetControl(options=['position', 'transparent_bg'], widget=HBox(children=(T…"
      ]
     },
     "metadata": {},
     "output_type": "display_data"
    }
   ],
   "source": [
    "\n",
    "legend_dict = {\n",
    "    '01 Achaparrado': '6bee8c',\n",
    "    '02 Agrícola': 'f0ff00',\n",
    "    '03 Agua': '0c40f1',\n",
    "    '04 Arenal o Roca': '685205',\n",
    "    '05 Bosque Degradado': '0d4404',\n",
    "    '06 Cuncunas': 'e82d13',\n",
    "    '07 Estepa': 'f99504',\n",
    "    '08 Humedal': '17d4c6',\n",
    "    '09 Mallin': 'dc07e7',\n",
    "    '10 Matorral abierto': '24ff00',\n",
    "    '11 Matorral denso': '2de50f',\n",
    "    '12 Plantaciones': 'ccba7d',\n",
    "    '13 Praderas': 'dec61a',\n",
    "    '14 Primario': '023208',\n",
    "    '15 Ríos': '03c2ff',\n",
    "    '16 Secundario': '97ad0b',\n",
    "    '17 Glaciar': 'a4f8ff',\n",
    "    '18 Suelo desnudo': 'c0c233',\n",
    "}\n",
    "Map14.add_legend(legend_title=\"Random Forest\", legend_dict=legend_dict)\n",
    "Map14"
   ]
  },
  {
   "cell_type": "markdown",
   "id": "e80b449e",
   "metadata": {},
   "source": [
    "### Exportando"
   ]
  },
  {
   "cell_type": "code",
   "execution_count": 282,
   "id": "4f5f83d5",
   "metadata": {
    "ExecuteTime": {
     "end_time": "2021-11-22T16:01:24.202074Z",
     "start_time": "2021-11-22T16:01:24.200681Z"
    }
   },
   "outputs": [],
   "source": [
    "# landcover_resampleado = landcover1.resample('bicubic')"
   ]
  },
  {
   "cell_type": "code",
   "execution_count": 283,
   "id": "3b3e4208",
   "metadata": {
    "ExecuteTime": {
     "end_time": "2021-11-22T16:01:24.204248Z",
     "start_time": "2021-11-22T16:01:24.202988Z"
    }
   },
   "outputs": [],
   "source": [
    "# print('es(...)', ee.Geometry(landcover1).isUnbounded())"
   ]
  },
  {
   "cell_type": "code",
   "execution_count": 284,
   "id": "d38f6b01",
   "metadata": {
    "ExecuteTime": {
     "end_time": "2021-11-22T16:01:24.206327Z",
     "start_time": "2021-11-22T16:01:24.205038Z"
    }
   },
   "outputs": [],
   "source": [
    "# landcover1 = landcover1.set('Geometry',patagonia.geometries())\n",
    "# landcover1 = ee.Image(landcover1)"
   ]
  },
  {
   "cell_type": "code",
   "execution_count": 285,
   "id": "83527290",
   "metadata": {
    "ExecuteTime": {
     "end_time": "2021-11-22T16:01:24.511141Z",
     "start_time": "2021-11-22T16:01:24.207232Z"
    }
   },
   "outputs": [],
   "source": [
    "work_dir = os.path.expanduser('../../../Data/shapes/')\n",
    "corte = os.path.join(work_dir, 'img_base.shp')\n",
    "corte = geemap.shp_to_ee(corte)"
   ]
  },
  {
   "cell_type": "code",
   "execution_count": 286,
   "id": "6893f397",
   "metadata": {
    "ExecuteTime": {
     "end_time": "2021-11-22T16:01:24.513871Z",
     "start_time": "2021-11-22T16:01:24.512044Z"
    }
   },
   "outputs": [],
   "source": [
    "clipped = landcover1.clip(corte)"
   ]
  },
  {
   "cell_type": "code",
   "execution_count": 287,
   "id": "490e6b52",
   "metadata": {
    "ExecuteTime": {
     "end_time": "2021-11-22T16:01:24.516509Z",
     "start_time": "2021-11-22T16:01:24.514607Z"
    }
   },
   "outputs": [],
   "source": [
    "# Map15.addLayer(clipped,{},'corte')\n",
    "# Map15"
   ]
  },
  {
   "cell_type": "code",
   "execution_count": 288,
   "id": "92df3f9f",
   "metadata": {
    "ExecuteTime": {
     "end_time": "2021-11-22T16:01:24.519513Z",
     "start_time": "2021-11-22T16:01:24.517693Z"
    }
   },
   "outputs": [],
   "source": [
    "# type(clipped)"
   ]
  },
  {
   "cell_type": "code",
   "execution_count": 289,
   "id": "44f35a34",
   "metadata": {
    "ExecuteTime": {
     "end_time": "2021-11-22T16:01:24.521530Z",
     "start_time": "2021-11-22T16:01:24.520200Z"
    }
   },
   "outputs": [],
   "source": [
    "# geemap.ee_export_image_to_drive(landcover1, description='pixel_fix', folder='export', region=patagonia_grande.geometry(), scale=40)"
   ]
  },
  {
   "cell_type": "code",
   "execution_count": 290,
   "id": "0ff24163",
   "metadata": {
    "ExecuteTime": {
     "end_time": "2021-11-22T16:01:24.524022Z",
     "start_time": "2021-11-22T16:01:24.522367Z"
    }
   },
   "outputs": [],
   "source": [
    "# geemap.ee_export_image_to_drive(img7, description='mosaico_final', folder='export', region=patagonia_grande.geometry(), scale=40)"
   ]
  },
  {
   "cell_type": "code",
   "execution_count": 291,
   "id": "e07b6fa6",
   "metadata": {
    "ExecuteTime": {
     "end_time": "2021-11-22T16:01:24.526074Z",
     "start_time": "2021-11-22T16:01:24.524713Z"
    }
   },
   "outputs": [],
   "source": [
    "# geemap.ee_export_image_to_drive(img6_m_bandas, description='mosaico_final_match', folder='export', region=patagonia_grande.geometry(), scale=40)"
   ]
  },
  {
   "cell_type": "code",
   "execution_count": null,
   "id": "fe80c2a1",
   "metadata": {},
   "outputs": [],
   "source": []
  }
 ],
 "metadata": {
  "kernelspec": {
   "display_name": "Python 3 (ipykernel)",
   "language": "python",
   "name": "python3"
  },
  "language_info": {
   "codemirror_mode": {
    "name": "ipython",
    "version": 3
   },
   "file_extension": ".py",
   "mimetype": "text/x-python",
   "name": "python",
   "nbconvert_exporter": "python",
   "pygments_lexer": "ipython3",
   "version": "3.8.12"
  },
  "toc": {
   "base_numbering": 1,
   "nav_menu": {},
   "number_sections": true,
   "sideBar": true,
   "skip_h1_title": false,
   "title_cell": "Table of Contents",
   "title_sidebar": "Contents",
   "toc_cell": false,
   "toc_position": {
    "height": "calc(100% - 180px)",
    "left": "10px",
    "top": "150px",
    "width": "384px"
   },
   "toc_section_display": true,
   "toc_window_display": true
  },
  "varInspector": {
   "cols": {
    "lenName": 16,
    "lenType": 16,
    "lenVar": 40
   },
   "kernels_config": {
    "python": {
     "delete_cmd_postfix": "",
     "delete_cmd_prefix": "del ",
     "library": "var_list.py",
     "varRefreshCmd": "print(var_dic_list())"
    },
    "r": {
     "delete_cmd_postfix": ") ",
     "delete_cmd_prefix": "rm(",
     "library": "var_list.r",
     "varRefreshCmd": "cat(var_dic_list()) "
    }
   },
   "types_to_exclude": [
    "module",
    "function",
    "builtin_function_or_method",
    "instance",
    "_Feature"
   ],
   "window_display": false
  }
 },
 "nbformat": 4,
 "nbformat_minor": 5
}
