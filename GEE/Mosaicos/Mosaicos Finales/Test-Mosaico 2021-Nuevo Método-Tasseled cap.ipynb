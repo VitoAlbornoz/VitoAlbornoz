{
 "cells": [
  {
   "cell_type": "markdown",
   "id": "c8ee7fef",
   "metadata": {},
   "source": [
    "# Mosaico 2021"
   ]
  },
  {
   "cell_type": "markdown",
   "id": "203f76ca",
   "metadata": {},
   "source": [
    "Script trabajado por Francisco Albornoz (2021-04-13) / Última modificación / Mosaicos Patagonia"
   ]
  },
  {
   "cell_type": "markdown",
   "id": "2fb5cdeb",
   "metadata": {},
   "source": [
    "2021-08-05 13:07:09 "
   ]
  },
  {
   "cell_type": "code",
   "execution_count": 1,
   "id": "3057c761",
   "metadata": {
    "ExecuteTime": {
     "end_time": "2021-10-15T17:57:27.128071Z",
     "start_time": "2021-10-15T17:57:26.123973Z"
    }
   },
   "outputs": [],
   "source": [
    "import ee\n",
    "import geemap\n",
    "import geemap.chart as chart\n",
    "import os\n",
    "import folium\n",
    "import xarray_leaflet\n",
    "import rasterio \n",
    "from rasterio import plot\n",
    "import matplotlib.pyplot as plt\n",
    "import numpy as np\n",
    "%matplotlib inline"
   ]
  },
  {
   "cell_type": "markdown",
   "id": "1997eeb4",
   "metadata": {},
   "source": [
    "<img src=https://www.ecopaysen.cl/wp-content/uploads/2019/12/ecopaysen_marca_web.png>"
   ]
  },
  {
   "cell_type": "code",
   "execution_count": 2,
   "id": "fca49a56",
   "metadata": {
    "ExecuteTime": {
     "end_time": "2021-10-15T17:57:39.089645Z",
     "start_time": "2021-10-15T17:57:27.129373Z"
    }
   },
   "outputs": [],
   "source": [
    "Map = geemap.Map(center = [-45, -70], zoom = 4)\n",
    "Map1 = geemap.Map(center = [-45, -70], zoom = 4)\n",
    "Map2 = geemap.Map(center = [-45, -70], zoom = 4)\n",
    "Map3 = geemap.Map(center = [-45, -70], zoom = 4)\n",
    "Map4 = geemap.Map(center = [-45, -70], zoom = 4)\n",
    "Map5 = geemap.Map(center = [-45, -70], zoom = 4)\n",
    "Map6 = geemap.Map(center = [-45, -70], zoom = 4)\n",
    "Map7 = geemap.Map(center = [-45, -70], zoom = 4)\n",
    "Map8 = geemap.Map(center = [-45, -70], zoom = 4)\n",
    "Map9 = geemap.Map(center = [-45, -70], zoom = 4)\n",
    "Map10 = geemap.Map(center = [-45, -70], zoom = 4)\n",
    "Map11 = geemap.Map(center = [-45, -70], zoom = 4)\n",
    "Map12 = geemap.Map(center = [-45, -70], zoom = 4)\n",
    "Map13 = geemap.Map(center = [-45, -70], zoom = 4)\n",
    "Map14 = geemap.Map(center = [-45, -70], zoom = 4)\n",
    "Map15 = geemap.Map(center = [-45, -70], zoom = 4)"
   ]
  },
  {
   "cell_type": "markdown",
   "id": "f26fe1a2",
   "metadata": {},
   "source": [
    "## Área de Estudio"
   ]
  },
  {
   "cell_type": "code",
   "execution_count": 3,
   "id": "2aae613d",
   "metadata": {
    "ExecuteTime": {
     "end_time": "2021-10-15T17:57:40.147390Z",
     "start_time": "2021-10-15T17:57:39.090468Z"
    }
   },
   "outputs": [],
   "source": [
    "work_dir = os.path.expanduser('../../../Data/shapes/')\n",
    "patagonia = os.path.join(work_dir, 'corte.shp')\n",
    "patagonia_grande = geemap.shp_to_ee(patagonia)\n",
    "base1 = os.path.join(work_dir, 'base_geo.shp')\n",
    "base = geemap.shp_to_ee(base1)"
   ]
  },
  {
   "cell_type": "code",
   "execution_count": 4,
   "id": "ebd00a21",
   "metadata": {
    "ExecuteTime": {
     "end_time": "2021-10-15T17:57:42.581492Z",
     "start_time": "2021-10-15T17:57:40.149439Z"
    }
   },
   "outputs": [],
   "source": [
    "base2 = os.path.join(work_dir, 'base2.shp')\n",
    "base2 = geemap.shp_to_ee(base2)\n",
    "base3 = os.path.join(work_dir, 'base3.shp')\n",
    "base3 = geemap.shp_to_ee(base3)\n",
    "base4 = os.path.join(work_dir, 'base4.shp')\n",
    "base4 = geemap.shp_to_ee(base4)\n",
    "base5 = os.path.join(work_dir, 'base5.shp')\n",
    "base5 = geemap.shp_to_ee(base5)\n",
    "base6 = os.path.join(work_dir, 'base6.shp')\n",
    "base6 = geemap.shp_to_ee(base6)"
   ]
  },
  {
   "cell_type": "code",
   "execution_count": 5,
   "id": "833630fa",
   "metadata": {
    "ExecuteTime": {
     "end_time": "2021-10-15T17:57:42.924193Z",
     "start_time": "2021-10-15T17:57:42.582509Z"
    }
   },
   "outputs": [],
   "source": [
    "geometria_base = os.path.join(work_dir, 'mapa_base_dis.shp') \n",
    "geometria_base = geemap.shp_to_ee(geometria_base)"
   ]
  },
  {
   "cell_type": "code",
   "execution_count": 6,
   "id": "8968a576",
   "metadata": {
    "ExecuteTime": {
     "end_time": "2021-10-15T17:57:43.259785Z",
     "start_time": "2021-10-15T17:57:42.925174Z"
    }
   },
   "outputs": [],
   "source": [
    "geometria_base2 = os.path.join(work_dir, 'area_base2_dis.shp') \n",
    "geometria_base2 = geemap.shp_to_ee(geometria_base2)"
   ]
  },
  {
   "cell_type": "markdown",
   "id": "fa8e2fea",
   "metadata": {},
   "source": [
    "## Colors Bars"
   ]
  },
  {
   "cell_type": "code",
   "execution_count": 7,
   "id": "1efebd11",
   "metadata": {
    "ExecuteTime": {
     "end_time": "2021-10-15T17:57:44.143089Z",
     "start_time": "2021-10-15T17:57:43.260804Z"
    }
   },
   "outputs": [],
   "source": [
    "import geemap.colormaps as cm"
   ]
  },
  {
   "cell_type": "code",
   "execution_count": 8,
   "id": "d159d70f",
   "metadata": {
    "ExecuteTime": {
     "end_time": "2021-10-15T17:57:44.146081Z",
     "start_time": "2021-10-15T17:57:44.144304Z"
    }
   },
   "outputs": [],
   "source": [
    "# cm.palettes.terrain"
   ]
  },
  {
   "cell_type": "code",
   "execution_count": 9,
   "id": "fe999a91",
   "metadata": {
    "ExecuteTime": {
     "end_time": "2021-10-15T17:57:44.152682Z",
     "start_time": "2021-10-15T17:57:44.147140Z"
    }
   },
   "outputs": [],
   "source": [
    "color_ndvi = cm.palettes.ndvi"
   ]
  },
  {
   "cell_type": "code",
   "execution_count": 10,
   "id": "05fb282a",
   "metadata": {
    "ExecuteTime": {
     "end_time": "2021-10-15T17:57:44.158223Z",
     "start_time": "2021-10-15T17:57:44.154690Z"
    }
   },
   "outputs": [],
   "source": [
    "color_ndwi = cm.palettes.ndwi"
   ]
  },
  {
   "cell_type": "code",
   "execution_count": 11,
   "id": "68161910",
   "metadata": {
    "ExecuteTime": {
     "end_time": "2021-10-15T17:57:44.163822Z",
     "start_time": "2021-10-15T17:57:44.159191Z"
    }
   },
   "outputs": [],
   "source": [
    "color_terrain = cm.palettes.terrain"
   ]
  },
  {
   "cell_type": "code",
   "execution_count": 12,
   "id": "8e99245f",
   "metadata": {
    "ExecuteTime": {
     "end_time": "2021-10-15T17:57:44.169425Z",
     "start_time": "2021-10-15T17:57:44.164649Z"
    }
   },
   "outputs": [],
   "source": [
    "color_glaciar = cm.palettes.PuBuGn_r"
   ]
  },
  {
   "cell_type": "code",
   "execution_count": 13,
   "id": "92b8cf41",
   "metadata": {
    "ExecuteTime": {
     "end_time": "2021-10-15T17:57:44.175296Z",
     "start_time": "2021-10-15T17:57:44.170389Z"
    }
   },
   "outputs": [],
   "source": [
    "color_nubes = cm.palettes.inferno"
   ]
  },
  {
   "cell_type": "code",
   "execution_count": 14,
   "id": "39930741",
   "metadata": {
    "ExecuteTime": {
     "end_time": "2021-10-15T17:57:44.180060Z",
     "start_time": "2021-10-15T17:57:44.176081Z"
    }
   },
   "outputs": [],
   "source": [
    "# cm.list_colormaps()"
   ]
  },
  {
   "cell_type": "code",
   "execution_count": 15,
   "id": "0ce61cbe",
   "metadata": {
    "ExecuteTime": {
     "end_time": "2021-10-15T17:57:44.185564Z",
     "start_time": "2021-10-15T17:57:44.180980Z"
    }
   },
   "outputs": [],
   "source": [
    "# cm.plot_colormaps(width=12, height=0.4)"
   ]
  },
  {
   "cell_type": "markdown",
   "id": "11666045",
   "metadata": {},
   "source": [
    "## Funciones"
   ]
  },
  {
   "cell_type": "code",
   "execution_count": 16,
   "id": "166db170",
   "metadata": {
    "ExecuteTime": {
     "end_time": "2021-10-15T17:57:44.191093Z",
     "start_time": "2021-10-15T17:57:44.186616Z"
    }
   },
   "outputs": [],
   "source": [
    "def add_ee_layer(self, ee_image_object, vis_params, name):\n",
    "  map_id_dict = ee.Image(ee_image_object).getMapId(vis_params)\n",
    "  folium.raster_layers.TileLayer(\n",
    "      tiles=map_id_dict['tile_fetcher'].url_format,\n",
    "      attr='Map Data &copy; <a href=\"https://earthengine.google.com/\">Google Earth Engine</a>',\n",
    "      name=name,\n",
    "      overlay=True,\n",
    "      control=True\n",
    "  ).add_to(self)\n",
    "\n",
    "folium.Map.add_ee_layer = add_ee_layer"
   ]
  },
  {
   "cell_type": "code",
   "execution_count": 17,
   "id": "b9e1cdaf",
   "metadata": {
    "ExecuteTime": {
     "end_time": "2021-10-15T17:57:44.196726Z",
     "start_time": "2021-10-15T17:57:44.192133Z"
    }
   },
   "outputs": [],
   "source": [
    "def addNDVI(image): \n",
    "    ndvi = image.normalizedDifference(['B5', 'B4']).rename('NDVI')\n",
    "    return image.addBands(ndvi)"
   ]
  },
  {
   "cell_type": "code",
   "execution_count": 18,
   "id": "4c83d08e",
   "metadata": {
    "ExecuteTime": {
     "end_time": "2021-10-15T17:57:44.201710Z",
     "start_time": "2021-10-15T17:57:44.197849Z"
    }
   },
   "outputs": [],
   "source": [
    "def addNDVI2(image): \n",
    "    ndvi = image.normalizedDifference(['B5', 'B4']).rename('NDVI2')\n",
    "    return image.addBands(ndvi)"
   ]
  },
  {
   "cell_type": "code",
   "execution_count": 19,
   "id": "ad105a37",
   "metadata": {
    "ExecuteTime": {
     "end_time": "2021-10-15T17:57:44.204665Z",
     "start_time": "2021-10-15T17:57:44.202880Z"
    }
   },
   "outputs": [],
   "source": [
    "def addNDWI(image):\n",
    "    ndwi = image.normalizedDifference(['B3','B5']).rename('NDWI')\n",
    "    return image.addBands(ndwi)"
   ]
  },
  {
   "cell_type": "code",
   "execution_count": 20,
   "id": "afd5a921",
   "metadata": {
    "ExecuteTime": {
     "end_time": "2021-10-15T17:57:44.207696Z",
     "start_time": "2021-10-15T17:57:44.205812Z"
    }
   },
   "outputs": [],
   "source": [
    "def addNDGI(image):\n",
    "    ndgi = image.normalizedDifference(['B3','B4']).rename('NDGI')\n",
    "    return image.addBands(ndgi)"
   ]
  },
  {
   "cell_type": "code",
   "execution_count": 21,
   "id": "786770f8",
   "metadata": {
    "ExecuteTime": {
     "end_time": "2021-10-15T17:57:44.210417Z",
     "start_time": "2021-10-15T17:57:44.208687Z"
    }
   },
   "outputs": [],
   "source": [
    "def addSAVI(image):\n",
    "    savi = image.expression(\n",
    "        '((b5 - b4)/(b5 + b4 + 0.5))*1.5', {\n",
    "            'b4':image.select('B4'),\n",
    "            'b5':image.select('B5')\n",
    "        }) \n",
    "    savi= savi.rename('SAVI')\n",
    "    return image.addBands(savi)"
   ]
  },
  {
   "cell_type": "code",
   "execution_count": 22,
   "id": "cffb72aa",
   "metadata": {
    "ExecuteTime": {
     "end_time": "2021-10-15T17:57:44.213158Z",
     "start_time": "2021-10-15T17:57:44.211428Z"
    }
   },
   "outputs": [],
   "source": [
    "def addNDSI(image):\n",
    "    ndsi = image.normalizedDifference(['B3','B6']).rename('NDSI')\n",
    "    return image.addBands(ndsi)"
   ]
  },
  {
   "cell_type": "code",
   "execution_count": 23,
   "id": "4889cabe",
   "metadata": {
    "ExecuteTime": {
     "end_time": "2021-10-15T17:57:44.216708Z",
     "start_time": "2021-10-15T17:57:44.214262Z"
    }
   },
   "outputs": [],
   "source": [
    "def addDate(image):\n",
    "    img_date = ee.Date(image.date())\n",
    "    img_date = ee.Number.parse(img_date.format('YYYYMMdd'))\n",
    "    return image.addBands(ee.Image(img_date).rename('date').toInt())"
   ]
  },
  {
   "cell_type": "code",
   "execution_count": 24,
   "id": "04720d6b",
   "metadata": {
    "ExecuteTime": {
     "end_time": "2021-10-15T17:57:44.219495Z",
     "start_time": "2021-10-15T17:57:44.217635Z"
    }
   },
   "outputs": [],
   "source": [
    "def Cloud40(image):\n",
    "    scored = ee.Algorithms.Landsat.simpleCloudScore(image)\n",
    "    return image.updateMask(scored.select(['cloud']).lt(40)) "
   ]
  },
  {
   "cell_type": "code",
   "execution_count": 25,
   "id": "3115c210",
   "metadata": {
    "ExecuteTime": {
     "end_time": "2021-10-15T17:57:44.222558Z",
     "start_time": "2021-10-15T17:57:44.220668Z"
    }
   },
   "outputs": [],
   "source": [
    "def Cloud30(image):\n",
    "    scored = ee.Algorithms.Landsat.simpleCloudScore(image)\n",
    "    return image.updateMask(scored.select(['cloud']).lt(30)) "
   ]
  },
  {
   "cell_type": "code",
   "execution_count": 26,
   "id": "f86cf507",
   "metadata": {
    "ExecuteTime": {
     "end_time": "2021-10-15T17:57:44.225416Z",
     "start_time": "2021-10-15T17:57:44.223554Z"
    }
   },
   "outputs": [],
   "source": [
    "def Cloud20(image):\n",
    "    scored = ee.Algorithms.Landsat.simpleCloudScore(image)\n",
    "    return image.updateMask(scored.select(['cloud']).lt(20)) "
   ]
  },
  {
   "cell_type": "code",
   "execution_count": 27,
   "id": "9d288b40",
   "metadata": {
    "ExecuteTime": {
     "end_time": "2021-10-15T17:57:44.228202Z",
     "start_time": "2021-10-15T17:57:44.226359Z"
    }
   },
   "outputs": [],
   "source": [
    "def Cloud10(image):\n",
    "    scored = ee.Algorithms.Landsat.simpleCloudScore(image)\n",
    "    return image.updateMask(scored.select(['cloud']).lt(10))"
   ]
  },
  {
   "cell_type": "code",
   "execution_count": 28,
   "id": "92d6ba1b",
   "metadata": {
    "ExecuteTime": {
     "end_time": "2021-10-15T17:57:44.233191Z",
     "start_time": "2021-10-15T17:57:44.230936Z"
    }
   },
   "outputs": [],
   "source": [
    "def addCloud(image):\n",
    "    nube = ee.Algorithms.Landsat.simpleCloudScore(image)\n",
    "    return image.addBands(ee.Image(nube.select(['cloud'])).rename('nube'))"
   ]
  },
  {
   "cell_type": "code",
   "execution_count": 29,
   "id": "4eb69ead",
   "metadata": {
    "ExecuteTime": {
     "end_time": "2021-10-15T17:57:44.237192Z",
     "start_time": "2021-10-15T17:57:44.234267Z"
    }
   },
   "outputs": [],
   "source": [
    "def find_closest(target_image, image_col, days):\n",
    "    \"\"\"Filter images in a collection by date proximity and spatial intersection to a target image.\n",
    "\n",
    "    Args:\n",
    "        target_image: An ee.Image whose observation date is used to find near-date images in\n",
    "          the provided image_col image collection. It must have a 'system:time_start' property.\n",
    "        image_col: An ee.ImageCollection to filter by date proximity and spatial intersection\n",
    "          to the target_image. Each image in the collection must have a 'system:time_start'\n",
    "          property.\n",
    "        days: A number that defines the maximum number of days difference allowed between\n",
    "          the target_image and images in the image_col.\n",
    "\n",
    "    Returns:\n",
    "        An ee.ImageCollection that has been filtered to include those images that are within the\n",
    "          given date proximity to target_image and intersect it spatially.\n",
    "    \"\"\"\n",
    "\n",
    "    # Compute the timespan for N days (in milliseconds).\n",
    "    range = ee.Number(days).multiply(1000 * 60 * 60 * 24)\n",
    "\n",
    "    filter = ee.Filter.And(\n",
    "        ee.Filter.maxDifference(range, 'system:time_start', None, 'system:time_start'),\n",
    "        ee.Filter.intersects('.geo', None, '.geo'))\n",
    "\n",
    "    closest = (ee.Join.saveAll('matches', 'measure')\n",
    "        .apply(ee.ImageCollection([target_image]), image_col, filter))\n",
    "\n",
    "    return ee.ImageCollection(ee.List(closest.first().get('matches')))"
   ]
  },
  {
   "cell_type": "code",
   "execution_count": 30,
   "id": "b54bde64",
   "metadata": {
    "ExecuteTime": {
     "end_time": "2021-10-15T17:57:44.240047Z",
     "start_time": "2021-10-15T17:57:44.238275Z"
    }
   },
   "outputs": [],
   "source": [
    "vizParams = {\n",
    "  'bands': ['B5', 'B4', 'B3'],\n",
    "  'min': 0,\n",
    "  'max': 0.5,\n",
    "  'gamma': [0.95, 1.1, 1]\n",
    "}"
   ]
  },
  {
   "cell_type": "code",
   "execution_count": 31,
   "id": "71bcb153",
   "metadata": {
    "ExecuteTime": {
     "end_time": "2021-10-15T17:57:44.242712Z",
     "start_time": "2021-10-15T17:57:44.241092Z"
    }
   },
   "outputs": [],
   "source": [
    "vizParams_m = {\n",
    "  'bands': ['B5', 'B4', 'B3'],\n",
    "  'min': 0,\n",
    "  'max': 0.6,\n",
    "  'gamma': [1, 1, 1]\n",
    "}"
   ]
  },
  {
   "cell_type": "code",
   "execution_count": 32,
   "id": "aa02e8e2",
   "metadata": {
    "ExecuteTime": {
     "end_time": "2021-10-15T17:57:44.245468Z",
     "start_time": "2021-10-15T17:57:44.243746Z"
    }
   },
   "outputs": [],
   "source": [
    "vis_nieve = {\n",
    "  'bands': ['B6', 'B4', 'B3'],\n",
    "  'min': 0,\n",
    "  'max': 0.5,\n",
    "  'gamma': [0.95, 1.1, 1]\n",
    "}"
   ]
  },
  {
   "cell_type": "markdown",
   "id": "d9a442fb",
   "metadata": {},
   "source": [
    "## Colecciones"
   ]
  },
  {
   "cell_type": "markdown",
   "id": "5d07b81d",
   "metadata": {},
   "source": [
    "### 2021 Verano"
   ]
  },
  {
   "cell_type": "code",
   "execution_count": 33,
   "id": "0e0c1dfc",
   "metadata": {
    "ExecuteTime": {
     "end_time": "2021-10-15T17:57:44.249042Z",
     "start_time": "2021-10-15T17:57:44.246513Z"
    }
   },
   "outputs": [],
   "source": [
    "start_date = '2020-11-01'\n",
    "end_date = '2021-03-31'\n",
    "\n",
    "l8_2021 = ee.ImageCollection('LANDSAT/LC08/C01/T1_TOA') \\\n",
    "    .filterBounds(patagonia_grande) \\\n",
    "    .filterDate(start_date, end_date)  "
   ]
  },
  {
   "cell_type": "code",
   "execution_count": 34,
   "id": "74d427f9",
   "metadata": {
    "ExecuteTime": {
     "end_time": "2021-10-15T17:57:44.254392Z",
     "start_time": "2021-10-15T17:57:44.249952Z"
    }
   },
   "outputs": [],
   "source": [
    "coleccion2021 = l8_2021.map(addNDVI).map(addNDWI).map(addNDGI).map(addSAVI).map(addNDSI).map(addDate).map(addCloud)"
   ]
  },
  {
   "cell_type": "code",
   "execution_count": 35,
   "id": "e660d316",
   "metadata": {
    "ExecuteTime": {
     "end_time": "2021-10-15T17:57:44.257366Z",
     "start_time": "2021-10-15T17:57:44.255388Z"
    }
   },
   "outputs": [],
   "source": [
    "NDVI_2021 = coleccion2021.qualityMosaic('NDVI')\n",
    "NDWI_2021 = coleccion2021.qualityMosaic('NDWI')\n",
    "SAVI_2021 = coleccion2021.qualityMosaic('SAVI')\n",
    "NDGI_2021 = coleccion2021.qualityMosaic('NDGI')\n",
    "NDSI_2021 = coleccion2021.qualityMosaic('NDSI')"
   ]
  },
  {
   "cell_type": "code",
   "execution_count": 36,
   "id": "2b71385b",
   "metadata": {
    "ExecuteTime": {
     "end_time": "2021-10-15T17:57:44.260898Z",
     "start_time": "2021-10-15T17:57:44.258471Z"
    }
   },
   "outputs": [],
   "source": [
    "c2021_sn = coleccion2021.map(Cloud10)\n",
    "NDVI_2021_sn = c2021_sn.qualityMosaic('NDVI')\n",
    "NDWI_2021_sn = c2021_sn.qualityMosaic('NDWI')\n",
    "SAVI_2021_sn = c2021_sn.qualityMosaic('SAVI')\n",
    "NDGI_2021_sn = c2021_sn.qualityMosaic('NDGI')\n",
    "NDSI_2021_sn = c2021_sn.qualityMosaic('NDSI')"
   ]
  },
  {
   "cell_type": "code",
   "execution_count": 37,
   "id": "e2ee17c2",
   "metadata": {
    "ExecuteTime": {
     "end_time": "2021-10-15T17:57:44.263494Z",
     "start_time": "2021-10-15T17:57:44.262057Z"
    }
   },
   "outputs": [],
   "source": [
    "# Map.addLayer(NDVI_2021_sn, vizParams, 'QMsn de NDVI 2021')\n",
    "# Map.addLayer(NDVI_2021, vizParams, 'QM de NDVI 2021')\n",
    "# Map.addLayer(NDWI_2021_sn, vizParams, 'QMsn de NDWI 2021')\n",
    "# Map.addLayer(SAVI_2021_sn, vizParams, 'QMsn de SAVI 2021')\n",
    "# Map.addLayer(NDGI_2021_sn, vis_nieve, 'QMsn de NDGI 2021')\n",
    "# Map.addLayer(NDSI_2021_sn, vis_nieve, 'QMsn de NDSI 2021')\n",
    "# Map"
   ]
  },
  {
   "cell_type": "code",
   "execution_count": 38,
   "id": "1994dbdf",
   "metadata": {
    "ExecuteTime": {
     "end_time": "2021-10-15T17:57:44.266204Z",
     "start_time": "2021-10-15T17:57:44.264633Z"
    }
   },
   "outputs": [],
   "source": [
    "NDVI_2021_l8 = NDVI_2021.set('SENSOR_ID', 'OLI_TIRS')"
   ]
  },
  {
   "cell_type": "code",
   "execution_count": 39,
   "id": "60a91aeb",
   "metadata": {
    "ExecuteTime": {
     "end_time": "2021-10-15T17:57:44.268725Z",
     "start_time": "2021-10-15T17:57:44.267182Z"
    }
   },
   "outputs": [],
   "source": [
    "cloud_2021_l8 = ee.Algorithms.Landsat.simpleCloudScore(NDVI_2021_l8)\n",
    "cloud_2021_l8 = cloud_2021_l8.select('cloud')"
   ]
  },
  {
   "cell_type": "code",
   "execution_count": 40,
   "id": "27740f8b",
   "metadata": {
    "ExecuteTime": {
     "end_time": "2021-10-15T17:57:44.271027Z",
     "start_time": "2021-10-15T17:57:44.269618Z"
    }
   },
   "outputs": [],
   "source": [
    "palette_nubes = ['#1a9850', '#66bd63', '#a6d96a', '#d9ef8b', '#fee08b', '#fdae61', '#f46d43', '#d73027']"
   ]
  },
  {
   "cell_type": "code",
   "execution_count": 41,
   "id": "613ea840",
   "metadata": {
    "ExecuteTime": {
     "end_time": "2021-10-15T17:57:44.273858Z",
     "start_time": "2021-10-15T17:57:44.272109Z"
    }
   },
   "outputs": [],
   "source": [
    "resultados= [cloud_2021_l8, NDVI_2021]\n",
    "vis_params2=  [\n",
    "    {'palette':palette_nubes}, \n",
    "    vizParams]\n",
    "labels = [\n",
    "    'Nubes 2021',\n",
    "    'QM NDVI 2021']"
   ]
  },
  {
   "cell_type": "code",
   "execution_count": 42,
   "id": "cb0d5f26",
   "metadata": {
    "ExecuteTime": {
     "end_time": "2021-10-15T17:57:44.276579Z",
     "start_time": "2021-10-15T17:57:44.274794Z"
    }
   },
   "outputs": [],
   "source": [
    "# geemap.linked_maps(rows=1, cols=2, height=\"400px\", center=[-45, -75], zoom=4, \n",
    "#                    ee_objects=resultados, vis_params=vis_params2, labels=labels, label_position=\"topright\")"
   ]
  },
  {
   "cell_type": "markdown",
   "id": "b8617200",
   "metadata": {},
   "source": [
    "### 2020 Verano"
   ]
  },
  {
   "cell_type": "code",
   "execution_count": 43,
   "id": "0401d370",
   "metadata": {
    "ExecuteTime": {
     "end_time": "2021-10-15T17:57:44.279418Z",
     "start_time": "2021-10-15T17:57:44.277501Z"
    }
   },
   "outputs": [],
   "source": [
    "start_date = '2019-11-01'\n",
    "end_date = '2020-03-31'\n",
    "\n",
    "l8_2020 = ee.ImageCollection('LANDSAT/LC08/C01/T1_TOA') \\\n",
    "    .filterBounds(patagonia_grande) \\\n",
    "    .filterDate(start_date, end_date)"
   ]
  },
  {
   "cell_type": "markdown",
   "id": "811a0128",
   "metadata": {},
   "source": [
    "### 2019 Verano"
   ]
  },
  {
   "cell_type": "code",
   "execution_count": 44,
   "id": "d756b623",
   "metadata": {
    "ExecuteTime": {
     "end_time": "2021-10-15T17:57:44.282250Z",
     "start_time": "2021-10-15T17:57:44.280432Z"
    }
   },
   "outputs": [],
   "source": [
    "start_date = '2018-11-01'\n",
    "end_date = '2019-03-31'\n",
    "\n",
    "l8_2019 = ee.ImageCollection('LANDSAT/LC08/C01/T1_TOA') \\\n",
    "    .filterBounds(patagonia_grande) \\\n",
    "    .filterDate(start_date, end_date)"
   ]
  },
  {
   "cell_type": "markdown",
   "id": "158f0bb1",
   "metadata": {},
   "source": [
    "### 2018 Verano"
   ]
  },
  {
   "cell_type": "code",
   "execution_count": 45,
   "id": "2c2ce2a2",
   "metadata": {
    "ExecuteTime": {
     "end_time": "2021-10-15T17:57:44.285243Z",
     "start_time": "2021-10-15T17:57:44.283456Z"
    }
   },
   "outputs": [],
   "source": [
    "start_date = '2017-11-01'\n",
    "end_date = '2018-03-31'\n",
    "\n",
    "l8_2018 = ee.ImageCollection('LANDSAT/LC08/C01/T1_TOA') \\\n",
    "    .filterBounds(patagonia_grande) \\\n",
    "    .filterDate(start_date, end_date)"
   ]
  },
  {
   "cell_type": "markdown",
   "id": "ad28b803",
   "metadata": {},
   "source": [
    "### 2017 Verano"
   ]
  },
  {
   "cell_type": "code",
   "execution_count": 46,
   "id": "1917c893",
   "metadata": {
    "ExecuteTime": {
     "end_time": "2021-10-15T17:57:44.287741Z",
     "start_time": "2021-10-15T17:57:44.286047Z"
    }
   },
   "outputs": [],
   "source": [
    "start_date = '2016-11-01'\n",
    "end_date = '2017-03-31'\n",
    "\n",
    "l8_2017 = ee.ImageCollection('LANDSAT/LC08/C01/T1_TOA') \\\n",
    "    .filterBounds(patagonia_grande) \\\n",
    "    .filterDate(start_date, end_date)"
   ]
  },
  {
   "cell_type": "markdown",
   "id": "d0a1318e",
   "metadata": {},
   "source": [
    "### 2021-2017 Colección "
   ]
  },
  {
   "cell_type": "code",
   "execution_count": 47,
   "id": "e3459c31",
   "metadata": {
    "ExecuteTime": {
     "end_time": "2021-10-15T17:57:44.290271Z",
     "start_time": "2021-10-15T17:57:44.288687Z"
    }
   },
   "outputs": [],
   "source": [
    "coleccion2021_2017 = ee.ImageCollection(l8_2021.merge(l8_2020).merge(l8_2019).merge(l8_2018).merge(l8_2017))"
   ]
  },
  {
   "cell_type": "code",
   "execution_count": 48,
   "id": "b84c22d9",
   "metadata": {
    "ExecuteTime": {
     "end_time": "2021-10-15T17:57:44.296306Z",
     "start_time": "2021-10-15T17:57:44.291332Z"
    }
   },
   "outputs": [],
   "source": [
    "l8_summer= coleccion2021_2017.map(addNDVI).map(addNDWI).map(addNDGI).map(addSAVI).map(addNDSI).map(addDate).map(addCloud)"
   ]
  },
  {
   "cell_type": "markdown",
   "id": "12cf11b9",
   "metadata": {},
   "source": [
    "### Tier 1\n"
   ]
  },
  {
   "cell_type": "code",
   "execution_count": 49,
   "id": "65f6e56e",
   "metadata": {
    "ExecuteTime": {
     "end_time": "2021-10-15T17:57:44.299315Z",
     "start_time": "2021-10-15T17:57:44.297244Z"
    }
   },
   "outputs": [],
   "source": [
    "Tier1_sn = l8_summer.map(Cloud10)"
   ]
  },
  {
   "cell_type": "code",
   "execution_count": 50,
   "id": "61a35ad7",
   "metadata": {
    "ExecuteTime": {
     "end_time": "2021-10-15T17:57:44.302461Z",
     "start_time": "2021-10-15T17:57:44.300425Z"
    }
   },
   "outputs": [],
   "source": [
    "QM_NDVI_T1 = Tier1_sn.qualityMosaic('NDVI')# Normalized difference vegetation Index\n",
    "QM_NDWI_T1 = Tier1_sn.qualityMosaic('NDWI') # Normalize difference water index\n",
    "QM_SAVI_T1 = Tier1_sn.qualityMosaic('SAVI') # Soil Adjusted Vegetation Index \n",
    "QM_NDGI_T1 = Tier1_sn.qualityMosaic('NDGI') # Normalized difference glacier index\n",
    "QM_NDSI_T1 = Tier1_sn.qualityMosaic('NDSI') # Normalized difference snow index"
   ]
  },
  {
   "cell_type": "code",
   "execution_count": 51,
   "id": "416683d4",
   "metadata": {
    "ExecuteTime": {
     "end_time": "2021-10-15T17:57:44.304874Z",
     "start_time": "2021-10-15T17:57:44.303513Z"
    }
   },
   "outputs": [],
   "source": [
    "# Map2.addLayer(QM_NDVI_T1, vizParams, 'QM de NDVI T1')\n",
    "# Map2.addLayer(QM_NDWI_T1, vizParams, 'QM de NDWI T1')\n",
    "# Map2.addLayer(QM_SAVI_T1, vizParams, 'QM de SAVI T1')\n",
    "# Map2.addLayer(QM_NDGI_T1, vis_nieve, 'QM de NDGI T1')\n",
    "# Map2.addLayer(QM_NDSI_T1, vis_nieve, 'QM de NDSI T1')\n",
    "# Map2 "
   ]
  },
  {
   "cell_type": "markdown",
   "id": "5f58151c",
   "metadata": {},
   "source": [
    "### Tier 2"
   ]
  },
  {
   "cell_type": "code",
   "execution_count": 52,
   "id": "3f1efa8c",
   "metadata": {
    "ExecuteTime": {
     "end_time": "2021-10-15T17:57:44.307927Z",
     "start_time": "2021-10-15T17:57:44.305983Z"
    }
   },
   "outputs": [],
   "source": [
    "Tier2_sn = l8_summer.map(Cloud20)"
   ]
  },
  {
   "cell_type": "code",
   "execution_count": 53,
   "id": "888370aa",
   "metadata": {
    "ExecuteTime": {
     "end_time": "2021-10-15T17:57:44.310899Z",
     "start_time": "2021-10-15T17:57:44.308909Z"
    }
   },
   "outputs": [],
   "source": [
    "QM_NDVI_T2 = Tier2_sn.qualityMosaic('NDVI')# Normalized difference vegetation Index\n",
    "QM_NDWI_T2 = Tier2_sn.qualityMosaic('NDWI') # Normalize difference water index\n",
    "QM_SAVI_T2 = Tier2_sn.qualityMosaic('SAVI') # Soil Adjusted Vegetation Index \n",
    "QM_NDGI_T2 = Tier2_sn.qualityMosaic('NDGI') # Normalized difference glacier index\n",
    "QM_NDSI_T2 = Tier2_sn.qualityMosaic('NDSI') # Normalized difference snow index"
   ]
  },
  {
   "cell_type": "code",
   "execution_count": 54,
   "id": "bfe0fd96",
   "metadata": {
    "ExecuteTime": {
     "end_time": "2021-10-15T17:57:44.313178Z",
     "start_time": "2021-10-15T17:57:44.311889Z"
    }
   },
   "outputs": [],
   "source": [
    "# Map2.addLayer(QM_NDVI_T2, vizParams, 'QM de NDVI T2')\n",
    "# Map2.addLayer(QM_NDWI_T2, vizParams, 'QM de NDWI T2')\n",
    "# Map2.addLayer(QM_SAVI_T2, vizParams, 'QM de SAVI T2')\n",
    "# Map2.addLayer(QM_NDGI_T2, vis_nieve, 'QM de NDGI T2')\n",
    "# Map2.addLayer(QM_NDSI_T2, vis_nieve, 'QM de NDSI T2')\n",
    "# Map2 "
   ]
  },
  {
   "cell_type": "markdown",
   "id": "783d2e36",
   "metadata": {},
   "source": [
    "### Tier 3"
   ]
  },
  {
   "cell_type": "code",
   "execution_count": 55,
   "id": "cba970e0",
   "metadata": {
    "ExecuteTime": {
     "end_time": "2021-10-15T17:57:44.316869Z",
     "start_time": "2021-10-15T17:57:44.314279Z"
    }
   },
   "outputs": [],
   "source": [
    "Tier3_sn = l8_summer.map(Cloud30)"
   ]
  },
  {
   "cell_type": "code",
   "execution_count": 56,
   "id": "8a844166",
   "metadata": {
    "ExecuteTime": {
     "end_time": "2021-10-15T17:57:44.319940Z",
     "start_time": "2021-10-15T17:57:44.317958Z"
    }
   },
   "outputs": [],
   "source": [
    "QM_NDVI_T3 = Tier3_sn.qualityMosaic('NDVI')# Normalized difference vegetation Index\n",
    "QM_NDWI_T3 = Tier3_sn.qualityMosaic('NDWI') # Normalize difference water index\n",
    "QM_SAVI_T3 = Tier3_sn.qualityMosaic('SAVI') # Soil Adjusted Vegetation Index \n",
    "QM_NDGI_T3 = Tier3_sn.qualityMosaic('NDGI') # Normalized difference glacier index\n",
    "QM_NDSI_T3 = Tier3_sn.qualityMosaic('NDSI') # Normalized difference snow index"
   ]
  },
  {
   "cell_type": "markdown",
   "id": "b2453291",
   "metadata": {},
   "source": [
    "### Tier 4"
   ]
  },
  {
   "cell_type": "code",
   "execution_count": 57,
   "id": "7a204626",
   "metadata": {
    "ExecuteTime": {
     "end_time": "2021-10-15T17:57:44.322946Z",
     "start_time": "2021-10-15T17:57:44.321167Z"
    }
   },
   "outputs": [],
   "source": [
    "Tier4_sn = l8_summer.map(Cloud40)"
   ]
  },
  {
   "cell_type": "code",
   "execution_count": 58,
   "id": "7339980d",
   "metadata": {
    "ExecuteTime": {
     "end_time": "2021-10-15T17:57:44.326662Z",
     "start_time": "2021-10-15T17:57:44.324047Z"
    }
   },
   "outputs": [],
   "source": [
    "QM_NDVI_T4 = Tier4_sn.qualityMosaic('NDVI')# Normalized difference vegetation Index\n",
    "QM_NDWI_T4 = Tier4_sn.qualityMosaic('NDWI') # Normalize difference water index\n",
    "QM_SAVI_T4 = Tier4_sn.qualityMosaic('SAVI') # Soil Adjusted Vegetation Index \n",
    "QM_NDGI_T4 = Tier4_sn.qualityMosaic('NDGI') # Normalized difference glacier index\n",
    "QM_NDSI_T4 = Tier4_sn.qualityMosaic('NDSI') # Normalized difference snow index"
   ]
  },
  {
   "cell_type": "markdown",
   "id": "094d9e5d",
   "metadata": {},
   "source": [
    "### Img base"
   ]
  },
  {
   "cell_type": "markdown",
   "id": "c8735a0a",
   "metadata": {},
   "source": [
    "##### Muestras de imagenes del mosaico"
   ]
  },
  {
   "cell_type": "code",
   "execution_count": 59,
   "id": "4202edec",
   "metadata": {
    "ExecuteTime": {
     "end_time": "2021-10-15T17:57:44.329597Z",
     "start_time": "2021-10-15T17:57:44.327548Z"
    }
   },
   "outputs": [],
   "source": [
    "start_date = '2020-10-01'\n",
    "end_date = '2021-03-31'\n",
    "imgbase = ee.ImageCollection('LANDSAT/LC08/C01/T1_TOA') \\\n",
    "    .filterBounds(base) \\\n",
    "    .filterDate(start_date, end_date) \\\n",
    "    .sort('CLOUD_COVER') \\\n",
    "    .first() \n"
   ]
  },
  {
   "cell_type": "code",
   "execution_count": 60,
   "id": "05155459",
   "metadata": {
    "ExecuteTime": {
     "end_time": "2021-10-15T17:57:44.785117Z",
     "start_time": "2021-10-15T17:57:44.330890Z"
    },
    "scrolled": true
   },
   "outputs": [
    {
     "data": {
      "text/plain": [
       "['system:version',\n",
       " 'system:id',\n",
       " 'RADIANCE_MULT_BAND_5',\n",
       " 'RADIANCE_MULT_BAND_6',\n",
       " 'RADIANCE_MULT_BAND_3',\n",
       " 'RADIANCE_MULT_BAND_4',\n",
       " 'RADIANCE_MULT_BAND_1',\n",
       " 'RADIANCE_MULT_BAND_2',\n",
       " 'K2_CONSTANT_BAND_11',\n",
       " 'K2_CONSTANT_BAND_10',\n",
       " 'system:footprint',\n",
       " 'REFLECTIVE_SAMPLES',\n",
       " 'SUN_AZIMUTH',\n",
       " 'CPF_NAME',\n",
       " 'DATE_ACQUIRED',\n",
       " 'ELLIPSOID',\n",
       " 'google:registration_offset_x',\n",
       " 'google:registration_offset_y',\n",
       " 'STATION_ID',\n",
       " 'RESAMPLING_OPTION',\n",
       " 'ORIENTATION',\n",
       " 'WRS_ROW',\n",
       " 'RADIANCE_MULT_BAND_9',\n",
       " 'TARGET_WRS_ROW',\n",
       " 'RADIANCE_MULT_BAND_7',\n",
       " 'RADIANCE_MULT_BAND_8',\n",
       " 'IMAGE_QUALITY_TIRS',\n",
       " 'TRUNCATION_OLI',\n",
       " 'CLOUD_COVER',\n",
       " 'GEOMETRIC_RMSE_VERIFY',\n",
       " 'COLLECTION_CATEGORY',\n",
       " 'GRID_CELL_SIZE_REFLECTIVE',\n",
       " 'CLOUD_COVER_LAND',\n",
       " 'GEOMETRIC_RMSE_MODEL',\n",
       " 'COLLECTION_NUMBER',\n",
       " 'IMAGE_QUALITY_OLI',\n",
       " 'LANDSAT_SCENE_ID',\n",
       " 'WRS_PATH',\n",
       " 'google:registration_count',\n",
       " 'PANCHROMATIC_SAMPLES',\n",
       " 'PANCHROMATIC_LINES',\n",
       " 'GEOMETRIC_RMSE_MODEL_Y',\n",
       " 'REFLECTIVE_LINES',\n",
       " 'TIRS_STRAY_LIGHT_CORRECTION_SOURCE',\n",
       " 'GEOMETRIC_RMSE_MODEL_X',\n",
       " 'system:asset_size',\n",
       " 'system:index',\n",
       " 'REFLECTANCE_ADD_BAND_1',\n",
       " 'REFLECTANCE_ADD_BAND_2',\n",
       " 'DATUM',\n",
       " 'REFLECTANCE_ADD_BAND_3',\n",
       " 'REFLECTANCE_ADD_BAND_4',\n",
       " 'REFLECTANCE_ADD_BAND_5',\n",
       " 'REFLECTANCE_ADD_BAND_6',\n",
       " 'REFLECTANCE_ADD_BAND_7',\n",
       " 'REFLECTANCE_ADD_BAND_8',\n",
       " 'BPF_NAME_TIRS',\n",
       " 'GROUND_CONTROL_POINTS_VERSION',\n",
       " 'DATA_TYPE',\n",
       " 'UTM_ZONE',\n",
       " 'system:time_end',\n",
       " 'LANDSAT_PRODUCT_ID',\n",
       " 'REFLECTANCE_ADD_BAND_9',\n",
       " 'google:registration_ratio',\n",
       " 'GRID_CELL_SIZE_PANCHROMATIC',\n",
       " 'RADIANCE_ADD_BAND_4',\n",
       " 'REFLECTANCE_MULT_BAND_7',\n",
       " 'system:time_start',\n",
       " 'RADIANCE_ADD_BAND_5',\n",
       " 'REFLECTANCE_MULT_BAND_6',\n",
       " 'RADIANCE_ADD_BAND_6',\n",
       " 'REFLECTANCE_MULT_BAND_9',\n",
       " 'PROCESSING_SOFTWARE_VERSION',\n",
       " 'RADIANCE_ADD_BAND_7',\n",
       " 'REFLECTANCE_MULT_BAND_8',\n",
       " 'RADIANCE_ADD_BAND_1',\n",
       " 'RADIANCE_ADD_BAND_2',\n",
       " 'RADIANCE_ADD_BAND_3',\n",
       " 'REFLECTANCE_MULT_BAND_1',\n",
       " 'RADIANCE_ADD_BAND_8',\n",
       " 'REFLECTANCE_MULT_BAND_3',\n",
       " 'RADIANCE_ADD_BAND_9',\n",
       " 'REFLECTANCE_MULT_BAND_2',\n",
       " 'REFLECTANCE_MULT_BAND_5',\n",
       " 'REFLECTANCE_MULT_BAND_4',\n",
       " 'THERMAL_LINES',\n",
       " 'TIRS_SSM_POSITION_STATUS',\n",
       " 'GRID_CELL_SIZE_THERMAL',\n",
       " 'NADIR_OFFNADIR',\n",
       " 'RADIANCE_ADD_BAND_11',\n",
       " 'REQUEST_ID',\n",
       " 'EARTH_SUN_DISTANCE',\n",
       " 'TIRS_SSM_MODEL',\n",
       " 'FILE_DATE',\n",
       " 'SCENE_CENTER_TIME',\n",
       " 'SUN_ELEVATION',\n",
       " 'BPF_NAME_OLI',\n",
       " 'RADIANCE_ADD_BAND_10',\n",
       " 'ROLL_ANGLE',\n",
       " 'K1_CONSTANT_BAND_10',\n",
       " 'SATURATION_BAND_1',\n",
       " 'SATURATION_BAND_2',\n",
       " 'SATURATION_BAND_3',\n",
       " 'SATURATION_BAND_4',\n",
       " 'SATURATION_BAND_5',\n",
       " 'MAP_PROJECTION',\n",
       " 'SATURATION_BAND_6',\n",
       " 'SENSOR_ID',\n",
       " 'SATURATION_BAND_7',\n",
       " 'K1_CONSTANT_BAND_11',\n",
       " 'SATURATION_BAND_8',\n",
       " 'SATURATION_BAND_9',\n",
       " 'TARGET_WRS_PATH',\n",
       " 'RADIANCE_MULT_BAND_11',\n",
       " 'RADIANCE_MULT_BAND_10',\n",
       " 'GROUND_CONTROL_POINTS_MODEL',\n",
       " 'SPACECRAFT_ID',\n",
       " 'ELEVATION_SOURCE',\n",
       " 'THERMAL_SAMPLES',\n",
       " 'GROUND_CONTROL_POINTS_VERIFY',\n",
       " 'system:bands',\n",
       " 'system:band_names']"
      ]
     },
     "execution_count": 60,
     "metadata": {},
     "output_type": "execute_result"
    }
   ],
   "source": [
    "imgbase.propertyNames().getInfo()"
   ]
  },
  {
   "cell_type": "code",
   "execution_count": 61,
   "id": "01e09fbd",
   "metadata": {
    "ExecuteTime": {
     "end_time": "2021-10-15T17:57:44.787751Z",
     "start_time": "2021-10-15T17:57:44.786147Z"
    }
   },
   "outputs": [],
   "source": [
    "# imgbase.get('LANDSAT_PRODUCT_ID').getInfo()"
   ]
  },
  {
   "cell_type": "code",
   "execution_count": 62,
   "id": "5d142772",
   "metadata": {
    "ExecuteTime": {
     "end_time": "2021-10-15T17:57:44.790089Z",
     "start_time": "2021-10-15T17:57:44.788571Z"
    }
   },
   "outputs": [],
   "source": [
    "# imgbase.get('system:time_start').getInfo()"
   ]
  },
  {
   "cell_type": "code",
   "execution_count": 63,
   "id": "e5bfe513",
   "metadata": {
    "ExecuteTime": {
     "end_time": "2021-10-15T17:57:45.222889Z",
     "start_time": "2021-10-15T17:57:44.791013Z"
    }
   },
   "outputs": [
    {
     "data": {
      "text/plain": [
       "'WGS84'"
      ]
     },
     "execution_count": 63,
     "metadata": {},
     "output_type": "execute_result"
    }
   ],
   "source": [
    "imgbase.get('DATUM').getInfo()"
   ]
  },
  {
   "cell_type": "code",
   "execution_count": 64,
   "id": "f62917d7",
   "metadata": {
    "ExecuteTime": {
     "end_time": "2021-10-15T17:57:45.547136Z",
     "start_time": "2021-10-15T17:57:45.223781Z"
    }
   },
   "outputs": [
    {
     "data": {
      "text/plain": [
       "'WGS84'"
      ]
     },
     "execution_count": 64,
     "metadata": {},
     "output_type": "execute_result"
    }
   ],
   "source": [
    "imgbase.get('ELLIPSOID').getInfo()"
   ]
  },
  {
   "cell_type": "code",
   "execution_count": 65,
   "id": "10196aa5",
   "metadata": {
    "ExecuteTime": {
     "end_time": "2021-10-15T17:57:46.172123Z",
     "start_time": "2021-10-15T17:57:45.548208Z"
    }
   },
   "outputs": [
    {
     "data": {
      "text/plain": [
       "'UTM'"
      ]
     },
     "execution_count": 65,
     "metadata": {},
     "output_type": "execute_result"
    }
   ],
   "source": [
    "imgbase.get('MAP_PROJECTION').getInfo()"
   ]
  },
  {
   "cell_type": "code",
   "execution_count": 66,
   "id": "c46c1df8",
   "metadata": {
    "ExecuteTime": {
     "end_time": "2021-10-15T17:57:46.504464Z",
     "start_time": "2021-10-15T17:57:46.173209Z"
    }
   },
   "outputs": [
    {
     "data": {
      "text/plain": [
       "19"
      ]
     },
     "execution_count": 66,
     "metadata": {},
     "output_type": "execute_result"
    }
   ],
   "source": [
    "imgbase.get('UTM_ZONE').getInfo()"
   ]
  },
  {
   "cell_type": "code",
   "execution_count": 67,
   "id": "3b8e5716",
   "metadata": {
    "ExecuteTime": {
     "end_time": "2021-10-15T17:57:46.507435Z",
     "start_time": "2021-10-15T17:57:46.505513Z"
    }
   },
   "outputs": [],
   "source": [
    "# print(imgbase.projection())"
   ]
  },
  {
   "cell_type": "code",
   "execution_count": 68,
   "id": "6d01d09a",
   "metadata": {
    "ExecuteTime": {
     "end_time": "2021-10-15T17:57:46.510271Z",
     "start_time": "2021-10-15T17:57:46.508338Z"
    }
   },
   "outputs": [],
   "source": [
    "# time_start = imgbase.get('system:time_start')"
   ]
  },
  {
   "cell_type": "code",
   "execution_count": 69,
   "id": "5fb26496",
   "metadata": {
    "ExecuteTime": {
     "end_time": "2021-10-15T17:57:46.512939Z",
     "start_time": "2021-10-15T17:57:46.511265Z"
    }
   },
   "outputs": [],
   "source": [
    "imgbase = ee.Image('LANDSAT/LC08/C01/T1_TOA/LC08_231091_20210130')"
   ]
  },
  {
   "cell_type": "code",
   "execution_count": 70,
   "id": "5a136189",
   "metadata": {
    "ExecuteTime": {
     "end_time": "2021-10-15T17:57:46.792586Z",
     "start_time": "2021-10-15T17:57:46.514020Z"
    }
   },
   "outputs": [],
   "source": [
    "base_pro = imgbase.select('B4').projection().getInfo()"
   ]
  },
  {
   "cell_type": "code",
   "execution_count": 71,
   "id": "693f233e",
   "metadata": {
    "ExecuteTime": {
     "end_time": "2021-10-15T17:57:46.796175Z",
     "start_time": "2021-10-15T17:57:46.793688Z"
    }
   },
   "outputs": [
    {
     "name": "stdout",
     "output_type": "stream",
     "text": [
      "{'type': 'Projection', 'crs': 'EPSG:32619', 'transform': [30, 0, 214185, 0, -30, -4825185]}\n"
     ]
    }
   ],
   "source": [
    "print(base_pro)"
   ]
  },
  {
   "cell_type": "code",
   "execution_count": 72,
   "id": "1c65268b",
   "metadata": {
    "ExecuteTime": {
     "end_time": "2021-10-15T17:57:46.799358Z",
     "start_time": "2021-10-15T17:57:46.797490Z"
    }
   },
   "outputs": [],
   "source": [
    "# Map1.addLayer(imgbase, vizParams, 'img base')\n",
    "# Map1.addLayer(geometria_base2)\n",
    "# Map1"
   ]
  },
  {
   "cell_type": "code",
   "execution_count": 73,
   "id": "8cc90996",
   "metadata": {
    "ExecuteTime": {
     "end_time": "2021-10-15T17:57:46.801848Z",
     "start_time": "2021-10-15T17:57:46.800456Z"
    }
   },
   "outputs": [],
   "source": [
    "# reproj= imgbase \\\n",
    "#     .reproject(crs='EPSG:3857',scale = 30)\\\n",
    "#     .reduceResolution(reducer= ee.Reducer.mean(),bestEffort=True, maxPixels = 65536)"
   ]
  },
  {
   "cell_type": "code",
   "execution_count": 74,
   "id": "0996d02f",
   "metadata": {
    "ExecuteTime": {
     "end_time": "2021-10-15T17:57:46.804517Z",
     "start_time": "2021-10-15T17:57:46.802963Z"
    }
   },
   "outputs": [],
   "source": [
    "resampled = imgbase.resample('bicubic')"
   ]
  },
  {
   "cell_type": "code",
   "execution_count": 75,
   "id": "4bb96647",
   "metadata": {
    "ExecuteTime": {
     "end_time": "2021-10-15T17:57:47.439419Z",
     "start_time": "2021-10-15T17:57:46.805652Z"
    }
   },
   "outputs": [],
   "source": [
    "landsat_pro = resampled.select('B4').projection().getInfo()"
   ]
  },
  {
   "cell_type": "code",
   "execution_count": 76,
   "id": "9e964413",
   "metadata": {
    "ExecuteTime": {
     "end_time": "2021-10-15T17:57:47.757487Z",
     "start_time": "2021-10-15T17:57:47.440560Z"
    }
   },
   "outputs": [],
   "source": [
    "escala = resampled.select('B4').projection().nominalScale().getInfo()"
   ]
  },
  {
   "cell_type": "code",
   "execution_count": 77,
   "id": "fccfa3ef",
   "metadata": {
    "ExecuteTime": {
     "end_time": "2021-10-15T17:57:47.760583Z",
     "start_time": "2021-10-15T17:57:47.758562Z"
    }
   },
   "outputs": [
    {
     "name": "stdout",
     "output_type": "stream",
     "text": [
      "{'type': 'Projection', 'crs': 'EPSG:32619', 'transform': [30, 0, 214185, 0, -30, -4825185]}\n"
     ]
    }
   ],
   "source": [
    "print(landsat_pro)"
   ]
  },
  {
   "cell_type": "code",
   "execution_count": 78,
   "id": "11826e85",
   "metadata": {
    "ExecuteTime": {
     "end_time": "2021-10-15T17:57:47.763776Z",
     "start_time": "2021-10-15T17:57:47.761799Z"
    }
   },
   "outputs": [
    {
     "name": "stdout",
     "output_type": "stream",
     "text": [
      "30\n"
     ]
    }
   ],
   "source": [
    "print(escala)"
   ]
  },
  {
   "cell_type": "code",
   "execution_count": 79,
   "id": "fca393f0",
   "metadata": {
    "ExecuteTime": {
     "end_time": "2021-10-15T17:57:47.766331Z",
     "start_time": "2021-10-15T17:57:47.764870Z"
    }
   },
   "outputs": [],
   "source": [
    "# print(imgbase.projection())"
   ]
  },
  {
   "cell_type": "code",
   "execution_count": 80,
   "id": "e3b8043e",
   "metadata": {
    "ExecuteTime": {
     "end_time": "2021-10-15T17:57:48.027641Z",
     "start_time": "2021-10-15T17:57:47.767209Z"
    }
   },
   "outputs": [
    {
     "data": {
      "text/plain": [
       "'UTM'"
      ]
     },
     "execution_count": 80,
     "metadata": {},
     "output_type": "execute_result"
    }
   ],
   "source": [
    "imgbase.get('MAP_PROJECTION').getInfo()"
   ]
  },
  {
   "cell_type": "code",
   "execution_count": 81,
   "id": "e6579f0c",
   "metadata": {
    "ExecuteTime": {
     "end_time": "2021-10-15T17:57:48.031278Z",
     "start_time": "2021-10-15T17:57:48.028676Z"
    }
   },
   "outputs": [],
   "source": [
    "start_date = '2020-10-01'\n",
    "end_date = '2021-03-31'\n",
    "imgbase2 = ee.ImageCollection('LANDSAT/LC08/C01/T1_TOA') \\\n",
    "    .filter(ee.Filter.eq('WRS_PATH', 230)) \\\n",
    "    .filter(ee.Filter.eq('WRS_ROW', 91)) \\\n",
    "    .filterDate(start_date, end_date) "
   ]
  },
  {
   "cell_type": "code",
   "execution_count": 82,
   "id": "a7e5933f",
   "metadata": {
    "ExecuteTime": {
     "end_time": "2021-10-15T17:57:48.039464Z",
     "start_time": "2021-10-15T17:57:48.037494Z"
    }
   },
   "outputs": [],
   "source": [
    "imgbase2 = find_closest(imgbase, imgbase2,14).sort('CLOUD_COVER').first()\n",
    "imgbase2 = ee.Image(imgbase2)"
   ]
  },
  {
   "cell_type": "code",
   "execution_count": 83,
   "id": "c646d7e2",
   "metadata": {
    "ExecuteTime": {
     "end_time": "2021-10-15T17:57:48.042446Z",
     "start_time": "2021-10-15T17:57:48.040581Z"
    }
   },
   "outputs": [],
   "source": [
    "# reproj2= imgbase2 \\\n",
    "#     .reproject(crs='EPSG:4326',crsTransform= [0.00025, 0, -180, 0, -0.00025, 80])"
   ]
  },
  {
   "cell_type": "code",
   "execution_count": 84,
   "id": "596b0a0b",
   "metadata": {
    "ExecuteTime": {
     "end_time": "2021-10-15T17:57:48.044730Z",
     "start_time": "2021-10-15T17:57:48.043364Z"
    }
   },
   "outputs": [],
   "source": [
    "# Map1.addLayer(imgbase2, vizParams, 'img base2')\n",
    "# Map1"
   ]
  },
  {
   "cell_type": "code",
   "execution_count": 85,
   "id": "d77a3cd7",
   "metadata": {
    "ExecuteTime": {
     "end_time": "2021-10-15T17:57:48.047909Z",
     "start_time": "2021-10-15T17:57:48.045876Z"
    }
   },
   "outputs": [],
   "source": [
    "start_date = '2020-10-01'\n",
    "end_date = '2021-03-31'\n",
    "imgbase3 = ee.ImageCollection('LANDSAT/LC08/C01/T1_TOA') \\\n",
    "    .filter(ee.Filter.eq('WRS_PATH', 229)) \\\n",
    "    .filter(ee.Filter.eq('WRS_ROW', 91)) \\\n",
    "    .filterDate(start_date, end_date) "
   ]
  },
  {
   "cell_type": "code",
   "execution_count": 86,
   "id": "3d44c9fc",
   "metadata": {
    "ExecuteTime": {
     "end_time": "2021-10-15T17:57:48.050747Z",
     "start_time": "2021-10-15T17:57:48.049049Z"
    }
   },
   "outputs": [],
   "source": [
    "imgbase3 = find_closest(imgbase2, imgbase3,21).sort('CLOUD_COVER').first()\n",
    "imgbase3 = ee.Image(imgbase3)"
   ]
  },
  {
   "cell_type": "code",
   "execution_count": 87,
   "id": "23050d6f",
   "metadata": {
    "ExecuteTime": {
     "end_time": "2021-10-15T17:57:48.053426Z",
     "start_time": "2021-10-15T17:57:48.051837Z"
    }
   },
   "outputs": [],
   "source": [
    "# reproj3= imgbase3 \\\n",
    "#     .reproject(crs='EPSG:4326',crsTransform= [0.00025, 0, -180, 0, -0.00025, 80])"
   ]
  },
  {
   "cell_type": "code",
   "execution_count": 88,
   "id": "954b5ed0",
   "metadata": {
    "ExecuteTime": {
     "end_time": "2021-10-15T17:57:48.056026Z",
     "start_time": "2021-10-15T17:57:48.054326Z"
    }
   },
   "outputs": [],
   "source": [
    "# Map1.addLayer(imgbase3, vizParams, 'img base3')\n",
    "# Map1"
   ]
  },
  {
   "cell_type": "code",
   "execution_count": 89,
   "id": "f4b197cf",
   "metadata": {
    "ExecuteTime": {
     "end_time": "2021-10-15T17:57:48.059019Z",
     "start_time": "2021-10-15T17:57:48.057077Z"
    }
   },
   "outputs": [],
   "source": [
    "start_date = '2020-10-01'\n",
    "end_date = '2021-03-31'\n",
    "imgbase4 = ee.ImageCollection('LANDSAT/LC08/C01/T1_TOA') \\\n",
    "    .filter(ee.Filter.eq('WRS_PATH', 228)) \\\n",
    "    .filter(ee.Filter.eq('WRS_ROW', 91)) \\\n",
    "    .filterDate(start_date, end_date) "
   ]
  },
  {
   "cell_type": "code",
   "execution_count": 90,
   "id": "af926cee",
   "metadata": {
    "ExecuteTime": {
     "end_time": "2021-10-15T17:57:48.062256Z",
     "start_time": "2021-10-15T17:57:48.060062Z"
    }
   },
   "outputs": [],
   "source": [
    "imgbase4 = find_closest(imgbase3, imgbase4,14).sort('CLOUD_COVER').first()\n",
    "imgbase4 = ee.Image(imgbase4)"
   ]
  },
  {
   "cell_type": "code",
   "execution_count": 91,
   "id": "e00c13e2",
   "metadata": {
    "ExecuteTime": {
     "end_time": "2021-10-15T17:57:48.064760Z",
     "start_time": "2021-10-15T17:57:48.063320Z"
    }
   },
   "outputs": [],
   "source": [
    "# reproj4= imgbase4 \\\n",
    "#     .reproject(crs='EPSG:4326',crsTransform= [0.00025, 0, -180, 0, -0.00025, 80])"
   ]
  },
  {
   "cell_type": "code",
   "execution_count": 92,
   "id": "ecc2e9e6",
   "metadata": {
    "ExecuteTime": {
     "end_time": "2021-10-15T17:57:48.067229Z",
     "start_time": "2021-10-15T17:57:48.066007Z"
    }
   },
   "outputs": [],
   "source": [
    "# Map1.addLayer(imgbase4, vizParams, 'img base4')\n",
    "# Map1"
   ]
  },
  {
   "cell_type": "code",
   "execution_count": 93,
   "id": "e305e5b4",
   "metadata": {
    "ExecuteTime": {
     "end_time": "2021-10-15T17:57:48.070513Z",
     "start_time": "2021-10-15T17:57:48.068332Z"
    }
   },
   "outputs": [],
   "source": [
    "start_date = '2020-10-01'\n",
    "end_date = '2021-03-31'\n",
    "imgbase5 = ee.ImageCollection('LANDSAT/LC08/C01/T1_TOA') \\\n",
    "    .filter(ee.Filter.eq('WRS_PATH', 232)) \\\n",
    "    .filter(ee.Filter.eq('WRS_ROW', 91)) \\\n",
    "    .filterDate(start_date, end_date) "
   ]
  },
  {
   "cell_type": "code",
   "execution_count": 94,
   "id": "e76971d2",
   "metadata": {
    "ExecuteTime": {
     "end_time": "2021-10-15T17:57:48.073512Z",
     "start_time": "2021-10-15T17:57:48.071412Z"
    }
   },
   "outputs": [],
   "source": [
    "imgbase5 = find_closest(imgbase, imgbase5,28).sort('CLOUD_COVER').first()\n",
    "imgbase5 = ee.Image(imgbase5)"
   ]
  },
  {
   "cell_type": "code",
   "execution_count": 95,
   "id": "daaac0ef",
   "metadata": {
    "ExecuteTime": {
     "end_time": "2021-10-15T17:57:48.076278Z",
     "start_time": "2021-10-15T17:57:48.074441Z"
    }
   },
   "outputs": [],
   "source": [
    "# reproj5= imgbase5 \\\n",
    "#     .reproject(crs='EPSG:4326',crsTransform= [0.00025, 0, -180, 0, -0.00025, 80])"
   ]
  },
  {
   "cell_type": "code",
   "execution_count": 96,
   "id": "ee78b984",
   "metadata": {
    "ExecuteTime": {
     "end_time": "2021-10-15T17:57:48.078748Z",
     "start_time": "2021-10-15T17:57:48.077234Z"
    }
   },
   "outputs": [],
   "source": [
    "# Map1.addLayer(imgbase5, vizParams, 'img base5')\n",
    "# Map1"
   ]
  },
  {
   "cell_type": "code",
   "execution_count": 97,
   "id": "cb677c38",
   "metadata": {
    "ExecuteTime": {
     "end_time": "2021-10-15T17:57:48.081851Z",
     "start_time": "2021-10-15T17:57:48.079911Z"
    }
   },
   "outputs": [],
   "source": [
    "start_date = '2020-10-01'\n",
    "end_date = '2021-03-31'\n",
    "imgbase6 = ee.ImageCollection('LANDSAT/LC08/C01/T1_TOA') \\\n",
    "    .filter(ee.Filter.eq('WRS_PATH', 233)) \\\n",
    "    .filter(ee.Filter.eq('WRS_ROW', 91)) \\\n",
    "    .filterDate(start_date, end_date) "
   ]
  },
  {
   "cell_type": "code",
   "execution_count": 98,
   "id": "a2772ed4",
   "metadata": {
    "ExecuteTime": {
     "end_time": "2021-10-15T17:57:48.084921Z",
     "start_time": "2021-10-15T17:57:48.082944Z"
    }
   },
   "outputs": [],
   "source": [
    "imgbase6 = find_closest(imgbase5, imgbase6,360).sort('CLOUD_COVER').first()\n",
    "imgbase6 = ee.Image(imgbase6)"
   ]
  },
  {
   "cell_type": "code",
   "execution_count": 99,
   "id": "075deb32",
   "metadata": {
    "ExecuteTime": {
     "end_time": "2021-10-15T17:57:48.087175Z",
     "start_time": "2021-10-15T17:57:48.085831Z"
    }
   },
   "outputs": [],
   "source": [
    "# reproj6= imgbase6 \\\n",
    "#     .reproject(crs='EPSG:4326',crsTransform= [0.00025, 0, -180, 0, -0.00025, 80])"
   ]
  },
  {
   "cell_type": "code",
   "execution_count": 100,
   "id": "489f204a",
   "metadata": {
    "ExecuteTime": {
     "end_time": "2021-10-15T17:57:48.089518Z",
     "start_time": "2021-10-15T17:57:48.088174Z"
    }
   },
   "outputs": [],
   "source": [
    "# Map1.addLayer(imgbase6, vizParams, 'img base6')\n",
    "# Map1"
   ]
  },
  {
   "cell_type": "code",
   "execution_count": 101,
   "id": "9d3185e1",
   "metadata": {
    "ExecuteTime": {
     "end_time": "2021-10-15T17:57:48.091855Z",
     "start_time": "2021-10-15T17:57:48.090448Z"
    }
   },
   "outputs": [],
   "source": [
    "# imgbase2.get('UTM_ZONE').getInfo()"
   ]
  },
  {
   "cell_type": "code",
   "execution_count": 102,
   "id": "9110a69a",
   "metadata": {
    "ExecuteTime": {
     "end_time": "2021-10-15T17:57:48.094542Z",
     "start_time": "2021-10-15T17:57:48.092870Z"
    }
   },
   "outputs": [],
   "source": [
    "# imgbase3.get('UTM_ZONE').getInfo()"
   ]
  },
  {
   "cell_type": "code",
   "execution_count": 103,
   "id": "22bbc7e9",
   "metadata": {
    "ExecuteTime": {
     "end_time": "2021-10-15T17:57:48.097230Z",
     "start_time": "2021-10-15T17:57:48.095449Z"
    }
   },
   "outputs": [],
   "source": [
    "# imgbase4.get('UTM_ZONE').getInfo()"
   ]
  },
  {
   "cell_type": "code",
   "execution_count": 104,
   "id": "25d8cfe0",
   "metadata": {
    "ExecuteTime": {
     "end_time": "2021-10-15T17:57:48.099571Z",
     "start_time": "2021-10-15T17:57:48.098162Z"
    }
   },
   "outputs": [],
   "source": [
    "# imgbase5.get('UTM_ZONE').getInfo()"
   ]
  },
  {
   "cell_type": "code",
   "execution_count": 105,
   "id": "abc6e09e",
   "metadata": {
    "ExecuteTime": {
     "end_time": "2021-10-15T17:57:48.102071Z",
     "start_time": "2021-10-15T17:57:48.100631Z"
    }
   },
   "outputs": [],
   "source": [
    "# imgbase6.get('UTM_ZONE').getInfo()"
   ]
  },
  {
   "cell_type": "code",
   "execution_count": 106,
   "id": "0b719c95",
   "metadata": {
    "ExecuteTime": {
     "end_time": "2021-10-15T17:57:48.105085Z",
     "start_time": "2021-10-15T17:57:48.103004Z"
    }
   },
   "outputs": [],
   "source": [
    "imgbase = addNDVI(imgbase)\n",
    "imgbase2 = addNDVI(imgbase2)\n",
    "imgbase3 = addNDVI(imgbase3)\n",
    "imgbase4 = addNDVI(imgbase4)\n",
    "imgbase5 = addNDVI(imgbase5)\n",
    "imgbase6 = addNDVI(imgbase6)"
   ]
  },
  {
   "cell_type": "code",
   "execution_count": 107,
   "id": "c0072a07",
   "metadata": {
    "ExecuteTime": {
     "end_time": "2021-10-15T17:57:48.108115Z",
     "start_time": "2021-10-15T17:57:48.106120Z"
    }
   },
   "outputs": [],
   "source": [
    "imgbase = addNDWI(imgbase)\n",
    "imgbase2 = addNDWI(imgbase2)\n",
    "imgbase3 = addNDWI(imgbase3)\n",
    "imgbase4 = addNDWI(imgbase4)\n",
    "imgbase5 = addNDWI(imgbase5)\n",
    "imgbase6 = addNDWI(imgbase6)"
   ]
  },
  {
   "cell_type": "code",
   "execution_count": 108,
   "id": "8865875d",
   "metadata": {
    "ExecuteTime": {
     "end_time": "2021-10-15T17:57:48.111309Z",
     "start_time": "2021-10-15T17:57:48.109216Z"
    }
   },
   "outputs": [],
   "source": [
    "imgbase = addNDGI(imgbase)\n",
    "imgbase2 = addNDGI(imgbase2)\n",
    "imgbase3 = addNDGI(imgbase3)\n",
    "imgbase4 = addNDGI(imgbase4)\n",
    "imgbase5 = addNDGI(imgbase5)\n",
    "imgbase6 = addNDGI(imgbase6)"
   ]
  },
  {
   "cell_type": "code",
   "execution_count": 109,
   "id": "0aa70e71",
   "metadata": {
    "ExecuteTime": {
     "end_time": "2021-10-15T17:57:48.115294Z",
     "start_time": "2021-10-15T17:57:48.112397Z"
    }
   },
   "outputs": [],
   "source": [
    "imgbase = addSAVI(imgbase)\n",
    "imgbase2 = addSAVI(imgbase2)\n",
    "imgbase3 = addSAVI(imgbase3)\n",
    "imgbase4 = addSAVI(imgbase4)\n",
    "imgbase5 = addSAVI(imgbase5)\n",
    "imgbase6 = addSAVI(imgbase6)"
   ]
  },
  {
   "cell_type": "code",
   "execution_count": 110,
   "id": "38e741d2",
   "metadata": {
    "ExecuteTime": {
     "end_time": "2021-10-15T17:57:48.118558Z",
     "start_time": "2021-10-15T17:57:48.116253Z"
    }
   },
   "outputs": [],
   "source": [
    "imgbase = addNDSI(imgbase)\n",
    "imgbase2 = addNDSI(imgbase2)\n",
    "imgbase3 = addNDSI(imgbase3)\n",
    "imgbase4 = addNDSI(imgbase4)\n",
    "imgbase5 = addNDSI(imgbase5)\n",
    "imgbase6 = addNDSI(imgbase6)"
   ]
  },
  {
   "cell_type": "code",
   "execution_count": 111,
   "id": "995744da",
   "metadata": {
    "ExecuteTime": {
     "end_time": "2021-10-15T17:57:48.121742Z",
     "start_time": "2021-10-15T17:57:48.119425Z"
    }
   },
   "outputs": [],
   "source": [
    "imgbase = addDate(imgbase)\n",
    "imgbase2 = addDate(imgbase2)\n",
    "imgbase3 = addDate(imgbase3)\n",
    "imgbase4 = addDate(imgbase4)\n",
    "imgbase5 = addDate(imgbase5)\n",
    "imgbase6 = addDate(imgbase6)"
   ]
  },
  {
   "cell_type": "code",
   "execution_count": 112,
   "id": "85657b4b",
   "metadata": {
    "ExecuteTime": {
     "end_time": "2021-10-15T17:57:48.124907Z",
     "start_time": "2021-10-15T17:57:48.122812Z"
    }
   },
   "outputs": [],
   "source": [
    "imgbase = addCloud(imgbase)\n",
    "imgbase2 = addCloud(imgbase2)\n",
    "imgbase3 = addCloud(imgbase3)\n",
    "imgbase4 = addCloud(imgbase4)\n",
    "imgbase5 = addCloud(imgbase5)\n",
    "imgbase6 = addCloud(imgbase6)"
   ]
  },
  {
   "cell_type": "code",
   "execution_count": 113,
   "id": "1c7f97bf",
   "metadata": {
    "ExecuteTime": {
     "end_time": "2021-10-15T17:57:48.127459Z",
     "start_time": "2021-10-15T17:57:48.126065Z"
    }
   },
   "outputs": [],
   "source": [
    "# imgbase.get('DATE_ACQUIRED').getInfo()"
   ]
  },
  {
   "cell_type": "code",
   "execution_count": 114,
   "id": "8b81a7a1",
   "metadata": {
    "ExecuteTime": {
     "end_time": "2021-10-15T17:57:48.129850Z",
     "start_time": "2021-10-15T17:57:48.128445Z"
    }
   },
   "outputs": [],
   "source": [
    "# imgbase2.get('DATE_ACQUIRED').getInfo()"
   ]
  },
  {
   "cell_type": "code",
   "execution_count": 115,
   "id": "ba5e16fa",
   "metadata": {
    "ExecuteTime": {
     "end_time": "2021-10-15T17:57:48.132271Z",
     "start_time": "2021-10-15T17:57:48.130793Z"
    }
   },
   "outputs": [],
   "source": [
    "# imgbase3.get('DATE_ACQUIRED').getInfo()"
   ]
  },
  {
   "cell_type": "code",
   "execution_count": 116,
   "id": "5d4829ff",
   "metadata": {
    "ExecuteTime": {
     "end_time": "2021-10-15T17:57:48.134731Z",
     "start_time": "2021-10-15T17:57:48.133259Z"
    }
   },
   "outputs": [],
   "source": [
    "# imgbase4.get('DATE_ACQUIRED').getInfo()"
   ]
  },
  {
   "cell_type": "code",
   "execution_count": 117,
   "id": "dfb567b7",
   "metadata": {
    "ExecuteTime": {
     "end_time": "2021-10-15T17:57:48.137626Z",
     "start_time": "2021-10-15T17:57:48.135789Z"
    }
   },
   "outputs": [],
   "source": [
    "# imgbase5.get('DATE_ACQUIRED').getInfo()"
   ]
  },
  {
   "cell_type": "code",
   "execution_count": 118,
   "id": "144e07cd",
   "metadata": {
    "ExecuteTime": {
     "end_time": "2021-10-15T17:57:48.140294Z",
     "start_time": "2021-10-15T17:57:48.138538Z"
    }
   },
   "outputs": [],
   "source": [
    "# imgbase6.get('DATE_ACQUIRED').getInfo()"
   ]
  },
  {
   "cell_type": "code",
   "execution_count": 119,
   "id": "75a6a249",
   "metadata": {
    "ExecuteTime": {
     "end_time": "2021-10-15T17:57:48.144031Z",
     "start_time": "2021-10-15T17:57:48.141242Z"
    }
   },
   "outputs": [],
   "source": [
    "imgbase_bandas = imgbase.select(['B1','B2','B3','B4','B5','B6','B7'])\n",
    "imgbase_bandas2 = imgbase2.select(['B1','B2','B3','B4','B5','B6','B7'])\n",
    "imgbase_bandas3 = imgbase3.select(['B1','B2','B3','B4','B5','B6','B7'])\n",
    "imgbase_bandas4 = imgbase4.select(['B1','B2','B3','B4','B5','B6','B7'])\n",
    "imgbase_bandas5 = imgbase5.select(['B1','B2','B3','B4','B5','B6','B7'])\n",
    "imgbase_bandas6 = imgbase6.select(['B1','B2','B3','B4','B5','B6','B7'])"
   ]
  },
  {
   "cell_type": "code",
   "execution_count": 120,
   "id": "650aeeba",
   "metadata": {
    "ExecuteTime": {
     "end_time": "2021-10-15T17:57:48.146907Z",
     "start_time": "2021-10-15T17:57:48.145082Z"
    }
   },
   "outputs": [],
   "source": [
    "colec_base = ee.ImageCollection([imgbase,imgbase2,imgbase3,imgbase4,imgbase5,imgbase6]).mosaic()"
   ]
  },
  {
   "cell_type": "code",
   "execution_count": 121,
   "id": "f65341ee",
   "metadata": {
    "ExecuteTime": {
     "end_time": "2021-10-15T17:57:48.149418Z",
     "start_time": "2021-10-15T17:57:48.147906Z"
    }
   },
   "outputs": [],
   "source": [
    "# colec_base_r = ee.ImageCollection([reproj,reproj2,reproj3,reproj4,reproj5,reproj6]).mosaic()"
   ]
  },
  {
   "cell_type": "code",
   "execution_count": 122,
   "id": "2d3d99aa",
   "metadata": {
    "ExecuteTime": {
     "end_time": "2021-10-15T17:57:48.152010Z",
     "start_time": "2021-10-15T17:57:48.150369Z"
    },
    "scrolled": false
   },
   "outputs": [],
   "source": [
    "# Map1.addLayer(resampled, vizParams, 'img base r')\n",
    "# Map1.addLayer(imgbase, vizParams, 'img base')\n",
    "# Map1.addLayer(imgbase_bandas2, vizParams, 'img base2')\n",
    "# Map1.addLayer(imgbase_bandas3, vizParams, 'img base3')\n",
    "# Map1.addLayer(imgbase_bandas4, vizParams, 'img base4')\n",
    "# Map1.addLayer(imgbase_bandas5, vizParams, 'img base5')\n",
    "# Map1.addLayer(imgbase_bandas6, vizParams, 'img base6')\n",
    "# Map1.addLayer(colec_base, vizParams, 'coleccion')\n",
    "# Map1.addLayer(colec_base_r, vizParams, 'coleccion r')\n",
    "# Map1"
   ]
  },
  {
   "cell_type": "markdown",
   "id": "dd7d911d",
   "metadata": {},
   "source": [
    "## Indices por colección"
   ]
  },
  {
   "cell_type": "markdown",
   "id": "4ea0a4cd",
   "metadata": {},
   "source": [
    "### Índices 2021"
   ]
  },
  {
   "cell_type": "code",
   "execution_count": 123,
   "id": "426dfca0",
   "metadata": {
    "ExecuteTime": {
     "end_time": "2021-10-15T17:57:48.154509Z",
     "start_time": "2021-10-15T17:57:48.153107Z"
    }
   },
   "outputs": [],
   "source": [
    "# NDVI_2021 = NDVI_2021_sn.select('NDVI')\n",
    "# NDWI_2021 = NDWI_2021_sn.select('NDWI')\n",
    "# SAVI_2021 = SAVI_2021_sn.select('SAVI')\n",
    "# NDGI_2021 = NDGI_2021_sn.select('NDGI')\n",
    "# NDSI_2021 = NDSI_2021_sn.select('NDSI')"
   ]
  },
  {
   "cell_type": "code",
   "execution_count": 124,
   "id": "eaf84698",
   "metadata": {
    "ExecuteTime": {
     "end_time": "2021-10-15T17:57:48.157033Z",
     "start_time": "2021-10-15T17:57:48.155604Z"
    }
   },
   "outputs": [],
   "source": [
    "# Map9.addLayer(NDVI_2021, {'palette': color_terrain}, 'QMsn de NDVI 2021')\n",
    "# Map9.addLayer(NDWI_2021, {'palette': color_ndwi}, 'QMsn de NDWI 2021')\n",
    "# Map9.addLayer(SAVI_2021, {'palette': color_ndvi}, 'QMsn de SAVI 2021')\n",
    "# Map9.addLayer(NDGI_2021, {'palette': color_glaciar}, 'QMsn de NDGI 2021')\n",
    "# Map9.addLayer(NDSI_2021, {'palette': color_ndwi}, 'QMsn de NDSI 2021')\n",
    "# Map9"
   ]
  },
  {
   "cell_type": "markdown",
   "id": "1e0309e1",
   "metadata": {},
   "source": [
    "### Índices 2020"
   ]
  },
  {
   "cell_type": "code",
   "execution_count": 125,
   "id": "cc1253c0",
   "metadata": {
    "ExecuteTime": {
     "end_time": "2021-10-15T17:57:48.159497Z",
     "start_time": "2021-10-15T17:57:48.157992Z"
    }
   },
   "outputs": [],
   "source": [
    "# NDVI_2020 = NDVI_2020_sn.select('NDVI')\n",
    "# NDWI_2020 = NDWI_2020_sn.select('NDWI')\n",
    "# SAVI_2020 = SAVI_2020_sn.select('SAVI')\n",
    "# NDGI_2020 = NDGI_2020_sn.select('NDGI')\n",
    "# NDSI_2020 = NDSI_2020_sn.select('NDSI')"
   ]
  },
  {
   "cell_type": "code",
   "execution_count": 126,
   "id": "3e0524d7",
   "metadata": {
    "ExecuteTime": {
     "end_time": "2021-10-15T17:57:48.161850Z",
     "start_time": "2021-10-15T17:57:48.160374Z"
    }
   },
   "outputs": [],
   "source": [
    "# Map5.addLayer(NDVI_2020, {'palette': color_terrain}, 'QMsn de NDVI 2020')\n",
    "# Map5.addLayer(NDWI_2020, {'palette': color_ndwi}, 'QMsn de NDWI 2020')\n",
    "# Map5.addLayer(SAVI_2020, {'palette': color_ndvi}, 'QMsn de SAVI 2020')\n",
    "# Map5.addLayer(NDGI_2020, {'palette': color_glaciar}, 'QMsn de NDGI 2020')\n",
    "# Map5.addLayer(NDSI_2020, {'palette': color_ndwi}, 'QMsn de NDSI 2020')\n",
    "# Map5"
   ]
  },
  {
   "cell_type": "markdown",
   "id": "4aee56c9",
   "metadata": {},
   "source": [
    "### Índices 2019"
   ]
  },
  {
   "cell_type": "code",
   "execution_count": 127,
   "id": "4a0a2445",
   "metadata": {
    "ExecuteTime": {
     "end_time": "2021-10-15T17:57:48.164276Z",
     "start_time": "2021-10-15T17:57:48.162786Z"
    }
   },
   "outputs": [],
   "source": [
    "# NDVI_2019 = NDVI_2019_sn.select('NDVI')\n",
    "# NDWI_2019 = NDWI_2019_sn.select('NDWI')\n",
    "# SAVI_2019 = SAVI_2019_sn.select('SAVI')\n",
    "# NDGI_2019 = NDGI_2019_sn.select('NDGI')\n",
    "# NDSI_2019 = NDSI_2019_sn.select('NDSI')"
   ]
  },
  {
   "cell_type": "code",
   "execution_count": 128,
   "id": "144629ba",
   "metadata": {
    "ExecuteTime": {
     "end_time": "2021-10-15T17:57:48.166941Z",
     "start_time": "2021-10-15T17:57:48.165352Z"
    }
   },
   "outputs": [],
   "source": [
    "# Map6.addLayer(NDVI_2019, {'palette': color_terrain}, 'QMsn de NDVI 2019')\n",
    "# Map6.addLayer(NDWI_2019, {'palette': color_ndwi}, 'QMsn de NDWI 2019')\n",
    "# Map6.addLayer(SAVI_2019, {'palette': color_ndvi}, 'QMsn de SAVI 2019')\n",
    "# Map6.addLayer(NDGI_2019, {'palette': color_glaciar}, 'QMsn de NDGI 2019')\n",
    "# Map6.addLayer(NDSI_2019, {'palette': color_ndwi}, 'QMsn de NDSI 2019')\n",
    "# Map6"
   ]
  },
  {
   "cell_type": "markdown",
   "id": "e765cd19",
   "metadata": {},
   "source": [
    "### Índices 2018"
   ]
  },
  {
   "cell_type": "code",
   "execution_count": 129,
   "id": "b4275190",
   "metadata": {
    "ExecuteTime": {
     "end_time": "2021-10-15T17:57:48.169346Z",
     "start_time": "2021-10-15T17:57:48.167967Z"
    }
   },
   "outputs": [],
   "source": [
    "# NDVI_2018 = NDVI_2018_sn.select('NDVI')\n",
    "# NDWI_2018 = NDWI_2018_sn.select('NDWI')\n",
    "# SAVI_2018 = SAVI_2018_sn.select('SAVI')\n",
    "# NDGI_2018 = NDGI_2018_sn.select('NDGI')\n",
    "# NDSI_2018 = NDSI_2018_sn.select('NDSI')"
   ]
  },
  {
   "cell_type": "code",
   "execution_count": 130,
   "id": "977e42e9",
   "metadata": {
    "ExecuteTime": {
     "end_time": "2021-10-15T17:57:48.172101Z",
     "start_time": "2021-10-15T17:57:48.170311Z"
    }
   },
   "outputs": [],
   "source": [
    "# Map6.addLayer(NDVI_2018, {'palette': color_terrain}, 'QMsn de NDVI 2018')\n",
    "# Map6.addLayer(NDWI_2018, {'palette': color_ndwi}, 'QMsn de NDWI 2018')\n",
    "# Map6.addLayer(SAVI_2018, {'palette': color_ndvi}, 'QMsn de SAVI 2018')\n",
    "# Map6.addLayer(NDGI_2018, {'palette': color_glaciar}, 'QMsn de NDGI 2018')\n",
    "# Map6.addLayer(NDSI_2018, {'palette': color_ndwi}, 'QMsn de NDSI 2018')\n",
    "# Map6"
   ]
  },
  {
   "cell_type": "markdown",
   "id": "158b36ac",
   "metadata": {},
   "source": [
    "## Matching de Histogramas"
   ]
  },
  {
   "cell_type": "code",
   "execution_count": 131,
   "id": "c8f22563",
   "metadata": {
    "ExecuteTime": {
     "end_time": "2021-10-15T17:57:48.176768Z",
     "start_time": "2021-10-15T17:57:48.173167Z"
    }
   },
   "outputs": [],
   "source": [
    "def lookup(source_hist, target_hist):\n",
    "    \"\"\"Creates a lookup table to make a source histogram match a target histogram.\n",
    "\n",
    "    Args:\n",
    "        source_hist: The histogram to modify. \n",
    "        Expects the Nx2 array format produced by ee.Reducer.autoHistogram.\n",
    "        target_hist: The histogram to match to. \n",
    "        Expects the Nx2 array format produced by ee.Reducer.autoHistogram.\n",
    "\n",
    "    Returns:\n",
    "        A dictionary with 'x' and 'y' properties that respectively represent the x and y\n",
    "        array inputs to the ee.Image.interpolate function.\n",
    "    \"\"\"\n",
    "\n",
    "    # Split the histograms by column and normalize the counts.\n",
    "    source_values = source_hist.slice(1, 0, 1).project([0])\n",
    "    source_counts = source_hist.slice(1, 1, 2).project([0])\n",
    "    source_counts = source_counts.divide(source_counts.get([-1]))\n",
    "\n",
    "    target_values = target_hist.slice(1, 0, 1).project([0])\n",
    "    target_counts = target_hist.slice(1, 1, 2).project([0])\n",
    "    target_counts = target_counts.divide(target_counts.get([-1]))\n",
    "\n",
    "    # Find first position in target where targetCount >= srcCount[i], for each i.\n",
    "    def make_lookup(n):\n",
    "        return target_values.get(target_counts.gte(n).argmax())\n",
    "\n",
    "    lookup = source_counts.toList().map(make_lookup)\n",
    "\n",
    "    return {'x': source_values.toList(), 'y': lookup}"
   ]
  },
  {
   "cell_type": "code",
   "execution_count": 132,
   "id": "9adbc7c2",
   "metadata": {
    "ExecuteTime": {
     "end_time": "2021-10-15T17:57:48.182775Z",
     "start_time": "2021-10-15T17:57:48.177693Z"
    }
   },
   "outputs": [],
   "source": [
    "def histogram_match(source_img, target_img, geometry):\n",
    "    \"\"\"Performs histogram matching for 3-band RGB images by forcing the histogram CDF of source_img to match target_img.\n",
    "\n",
    "    Args:\n",
    "        source_img: A 3-band ee.Image to be color matched. Must have bands named 'R', 'G', and 'B'.\n",
    "        target_img: A 3-band ee.Image for color reference. Must have bands named 'R', 'G', and 'B'.\n",
    "        geometry: An ee.Geometry that defines the region to generate RGB histograms for.\n",
    "          It should intersect both source_img and target_img inputs.\n",
    "\n",
    "    Returns:\n",
    "        A copy of src_img color-matched to target_img.\n",
    "    \"\"\"\n",
    "\n",
    "    args = {\n",
    "        'reducer': ee.Reducer.autoHistogram(**{'maxBuckets': 1024, 'cumulative': True}),\n",
    "        'geometry': geometry,\n",
    "        'scale': 1, # Need to specify a scale, but it doesn't matter what it is because bestEffort is true.\n",
    "        'maxPixels': 1048576 * 4 - 1,\n",
    "        'bestEffort': True\n",
    "    }\n",
    "\n",
    "    # Only use pixels in target that have a value in source (inside the footprint and unmasked).\n",
    "    source = source_img.reduceRegion(**args)\n",
    "    target = target_img.updateMask(source_img.mask()).reduceRegion(**args)\n",
    "\n",
    "    return ee.Image.cat(\n",
    "        source_img.select(['B1']).interpolate(**lookup(source.getArray('B1'), target.getArray('B1'))),\n",
    "        source_img.select(['B2']).interpolate(**lookup(source.getArray('B2'), target.getArray('B2'))),\n",
    "        source_img.select(['B3']).interpolate(**lookup(source.getArray('B3'), target.getArray('B3'))),\n",
    "        source_img.select(['B4']).interpolate(**lookup(source.getArray('B4'), target.getArray('B4'))),\n",
    "        source_img.select(['B5']).interpolate(**lookup(source.getArray('B5'), target.getArray('B5'))),\n",
    "        source_img.select(['B6']).interpolate(**lookup(source.getArray('B6'), target.getArray('B6'))),\n",
    "        source_img.select(['B7']).interpolate(**lookup(source.getArray('B7'), target.getArray('B7'))),\n",
    "        source_img.select(['B8']).interpolate(**lookup(source.getArray('B8'), target.getArray('B8'))),\n",
    "        source_img.select(['B9']).interpolate(**lookup(source.getArray('B9'), target.getArray('B9'))),\n",
    "        source_img.select(['B10']).interpolate(**lookup(source.getArray('B10'), target.getArray('B10'))),\n",
    "        source_img.select(['B11']).interpolate(**lookup(source.getArray('B11'), target.getArray('B11'))),\n",
    "    ).copyProperties(source_img, ['system:time_start'])"
   ]
  },
  {
   "cell_type": "code",
   "execution_count": 133,
   "id": "006690ff",
   "metadata": {
    "ExecuteTime": {
     "end_time": "2021-10-15T17:57:48.185453Z",
     "start_time": "2021-10-15T17:57:48.183781Z"
    }
   },
   "outputs": [],
   "source": [
    "geometry = geometria_base2.geometry()"
   ]
  },
  {
   "cell_type": "code",
   "execution_count": 134,
   "id": "15798156",
   "metadata": {
    "ExecuteTime": {
     "end_time": "2021-10-15T17:57:48.187949Z",
     "start_time": "2021-10-15T17:57:48.186418Z"
    }
   },
   "outputs": [],
   "source": [
    "# geometry = ee.Geometry({\n",
    "#   'type': 'Polygon',\n",
    "#   'coordinates':\n",
    "#     [[[-72.674, -45.045],\n",
    "#       [-71.603, -45.086],\n",
    "#       [-71.554, -46.027],\n",
    "#       [-72.674, -45.045]]]\n",
    "# });"
   ]
  },
  {
   "cell_type": "code",
   "execution_count": 135,
   "id": "96c0fdd4",
   "metadata": {
    "ExecuteTime": {
     "end_time": "2021-10-15T17:57:48.190641Z",
     "start_time": "2021-10-15T17:57:48.188862Z"
    }
   },
   "outputs": [],
   "source": [
    "# geometryCoordinates = geometry.coordinates()"
   ]
  },
  {
   "cell_type": "code",
   "execution_count": 136,
   "id": "fd5d4d96",
   "metadata": {
    "ExecuteTime": {
     "end_time": "2021-10-15T17:57:48.193201Z",
     "start_time": "2021-10-15T17:57:48.191791Z"
    }
   },
   "outputs": [],
   "source": [
    "# print('geometry.coordinates(...) =', geometryCoordinates)"
   ]
  },
  {
   "cell_type": "code",
   "execution_count": 137,
   "id": "6f2af1f8",
   "metadata": {
    "ExecuteTime": {
     "end_time": "2021-10-15T17:57:48.277293Z",
     "start_time": "2021-10-15T17:57:48.194165Z"
    }
   },
   "outputs": [],
   "source": [
    "QM_NDVI_2021_m = histogram_match(NDVI_2021,colec_base, geometry)"
   ]
  },
  {
   "cell_type": "code",
   "execution_count": 138,
   "id": "01c11fab",
   "metadata": {
    "ExecuteTime": {
     "end_time": "2021-10-15T17:57:48.455342Z",
     "start_time": "2021-10-15T17:57:48.278495Z"
    }
   },
   "outputs": [],
   "source": [
    "NDVI_tier1 = histogram_match(QM_NDVI_T1, colec_base, geometry)"
   ]
  },
  {
   "cell_type": "code",
   "execution_count": 139,
   "id": "da2c9ab0",
   "metadata": {
    "ExecuteTime": {
     "end_time": "2021-10-15T17:57:48.550401Z",
     "start_time": "2021-10-15T17:57:48.456531Z"
    }
   },
   "outputs": [],
   "source": [
    "NDVI_tier2 = histogram_match(QM_NDVI_T2, colec_base, geometry)"
   ]
  },
  {
   "cell_type": "code",
   "execution_count": 140,
   "id": "e775315a",
   "metadata": {
    "ExecuteTime": {
     "end_time": "2021-10-15T17:57:48.649341Z",
     "start_time": "2021-10-15T17:57:48.551493Z"
    }
   },
   "outputs": [],
   "source": [
    "NDVI_tier3 = histogram_match(QM_NDVI_T3, colec_base, geometry)"
   ]
  },
  {
   "cell_type": "code",
   "execution_count": 141,
   "id": "131e6318",
   "metadata": {
    "ExecuteTime": {
     "end_time": "2021-10-15T17:57:48.741340Z",
     "start_time": "2021-10-15T17:57:48.650784Z"
    }
   },
   "outputs": [],
   "source": [
    "NDVI_tier4 = histogram_match(QM_NDVI_T4, colec_base, geometry)"
   ]
  },
  {
   "cell_type": "code",
   "execution_count": 142,
   "id": "92a22c22",
   "metadata": {
    "ExecuteTime": {
     "end_time": "2021-10-15T17:57:48.894572Z",
     "start_time": "2021-10-15T17:57:48.742585Z"
    }
   },
   "outputs": [],
   "source": [
    "NWVI_tier = histogram_match(QM_NDWI_T1, colec_base, geometry)"
   ]
  },
  {
   "cell_type": "code",
   "execution_count": 143,
   "id": "0964556b",
   "metadata": {
    "ExecuteTime": {
     "end_time": "2021-10-15T17:57:48.897306Z",
     "start_time": "2021-10-15T17:57:48.895542Z"
    }
   },
   "outputs": [],
   "source": [
    "vis_params_refl = {'min': 0, 'max': 0.25} "
   ]
  },
  {
   "cell_type": "code",
   "execution_count": 144,
   "id": "02bda186",
   "metadata": {
    "ExecuteTime": {
     "end_time": "2021-10-15T17:57:48.900160Z",
     "start_time": "2021-10-15T17:57:48.898472Z"
    }
   },
   "outputs": [],
   "source": [
    "# import folium\n",
    "\n",
    "# def add_ee_layer(self, ee_image_object, vis_params, name):\n",
    "#   map_id_dict = ee.Image(ee_image_object).getMapId(vis_params)\n",
    "#   folium.raster_layers.TileLayer(\n",
    "#       tiles=map_id_dict['tile_fetcher'].url_format,\n",
    "#       attr='Map Data &copy; <a href=\"https://earthengine.google.com/\">Google Earth Engine</a>',\n",
    "#       name=name,\n",
    "#       overlay=True,\n",
    "#       control=True\n",
    "#   ).add_to(self)\n",
    "\n",
    "# folium.Map.add_ee_layer = add_ee_layer"
   ]
  },
  {
   "cell_type": "code",
   "execution_count": 145,
   "id": "54dc379c",
   "metadata": {
    "ExecuteTime": {
     "end_time": "2021-10-15T17:57:48.902943Z",
     "start_time": "2021-10-15T17:57:48.901101Z"
    }
   },
   "outputs": [],
   "source": [
    "# lon, lat, zoom = -45, -70 , 4\n",
    "# vis_params_refl = {'min': 0, 'max': 0.25}\n",
    "# map_matched = folium.Map(location=[lat, lon], zoom_start=zoom)\n",
    "# map_matched.add_ee_layer(QM_NDVI_2021_m, vizParams, 'matched')\n",
    "# display(map_matched.add_child(folium.LayerControl()))"
   ]
  },
  {
   "cell_type": "markdown",
   "id": "dd05e9e8",
   "metadata": {},
   "source": [
    "## Generación de Mosaico"
   ]
  },
  {
   "cell_type": "code",
   "execution_count": 146,
   "id": "9b229098",
   "metadata": {
    "ExecuteTime": {
     "end_time": "2021-10-15T17:57:48.905941Z",
     "start_time": "2021-10-15T17:57:48.904102Z"
    }
   },
   "outputs": [],
   "source": [
    "NDVI_2021_landsat = NDVI_2021.set('SENSOR_ID', 'OLI_TIRS')"
   ]
  },
  {
   "cell_type": "code",
   "execution_count": 147,
   "id": "a98110ba",
   "metadata": {
    "ExecuteTime": {
     "end_time": "2021-10-15T17:57:48.908483Z",
     "start_time": "2021-10-15T17:57:48.906877Z"
    }
   },
   "outputs": [],
   "source": [
    "cloud_2021 = ee.Algorithms.Landsat.simpleCloudScore(NDVI_2021_landsat)"
   ]
  },
  {
   "cell_type": "code",
   "execution_count": 148,
   "id": "745b712d",
   "metadata": {
    "ExecuteTime": {
     "end_time": "2021-10-15T17:57:48.911018Z",
     "start_time": "2021-10-15T17:57:48.909575Z"
    }
   },
   "outputs": [],
   "source": [
    "cloud_2021 = cloud_2021.select('cloud')"
   ]
  },
  {
   "cell_type": "code",
   "execution_count": 149,
   "id": "3351dfe9",
   "metadata": {
    "ExecuteTime": {
     "end_time": "2021-10-15T17:57:48.913673Z",
     "start_time": "2021-10-15T17:57:48.912089Z"
    }
   },
   "outputs": [],
   "source": [
    "palette_nubes = ['#1a9850', '#66bd63', '#a6d96a', '#d9ef8b', '#fee08b', '#fdae61', '#f46d43', '#d73027']"
   ]
  },
  {
   "cell_type": "code",
   "execution_count": 150,
   "id": "aa1c77e2",
   "metadata": {
    "ExecuteTime": {
     "end_time": "2021-10-15T17:57:48.916595Z",
     "start_time": "2021-10-15T17:57:48.914694Z"
    }
   },
   "outputs": [],
   "source": [
    "resultados= [cloud_2021, NDVI_2021]\n",
    "vis_params2=  [\n",
    "    {'palette':palette_nubes}, \n",
    "    vizParams]\n",
    "labels = [\n",
    "    'Nubes 2021',\n",
    "    'QM NDVI 2021']"
   ]
  },
  {
   "cell_type": "code",
   "execution_count": 151,
   "id": "28e91129",
   "metadata": {
    "ExecuteTime": {
     "end_time": "2021-10-15T17:57:48.919046Z",
     "start_time": "2021-10-15T17:57:48.917612Z"
    }
   },
   "outputs": [],
   "source": [
    "# geemap.linked_maps(rows=1, cols=2, height=\"400px\", center=[-45, -75], zoom=4, \n",
    "#                    ee_objects=resultados, vis_params=vis_params2, labels=labels, label_position=\"topright\")"
   ]
  },
  {
   "cell_type": "code",
   "execution_count": 152,
   "id": "93ea56bf",
   "metadata": {
    "ExecuteTime": {
     "end_time": "2021-10-15T17:57:48.921608Z",
     "start_time": "2021-10-15T17:57:48.920029Z"
    }
   },
   "outputs": [],
   "source": [
    "def llenado(image):\n",
    "    return image.where(cloud_2021.gt(10),QM_NDVI_T1)"
   ]
  },
  {
   "cell_type": "code",
   "execution_count": 153,
   "id": "8287934f",
   "metadata": {
    "ExecuteTime": {
     "end_time": "2021-10-15T17:57:48.924349Z",
     "start_time": "2021-10-15T17:57:48.922648Z"
    }
   },
   "outputs": [],
   "source": [
    "img1 = llenado(NDVI_2021)"
   ]
  },
  {
   "cell_type": "code",
   "execution_count": 154,
   "id": "0ea4ebed",
   "metadata": {
    "ExecuteTime": {
     "end_time": "2021-10-15T17:57:48.927303Z",
     "start_time": "2021-10-15T17:57:48.925475Z"
    }
   },
   "outputs": [],
   "source": [
    "img1_landsat = img1.set('SENSOR_ID', 'OLI_TIRS')\n",
    "cloud_img1 = ee.Algorithms.Landsat.simpleCloudScore(img1_landsat)\n",
    "cloud_img1 = cloud_img1.select('cloud')"
   ]
  },
  {
   "cell_type": "code",
   "execution_count": 155,
   "id": "84dbb2d4",
   "metadata": {
    "ExecuteTime": {
     "end_time": "2021-10-15T17:57:48.930106Z",
     "start_time": "2021-10-15T17:57:48.928344Z"
    }
   },
   "outputs": [],
   "source": [
    "resultados= [cloud_img1, img1]\n",
    "vis_params2=  [\n",
    "    {'palette':palette_nubes}, \n",
    "    vizParams]\n",
    "labels = [\n",
    "    'Nubes Mosaico 1',\n",
    "    'Mosaico 1']"
   ]
  },
  {
   "cell_type": "code",
   "execution_count": 156,
   "id": "f3c2a996",
   "metadata": {
    "ExecuteTime": {
     "end_time": "2021-10-15T17:57:48.932457Z",
     "start_time": "2021-10-15T17:57:48.931023Z"
    }
   },
   "outputs": [],
   "source": [
    "# geemap.linked_maps(rows=1, cols=2, height=\"400px\", center=[-45, -75], zoom=4, \n",
    "#                    ee_objects=resultados, vis_params=vis_params2, labels=labels, label_position=\"topright\")"
   ]
  },
  {
   "cell_type": "code",
   "execution_count": 157,
   "id": "9a243ac4",
   "metadata": {
    "ExecuteTime": {
     "end_time": "2021-10-15T17:57:48.935221Z",
     "start_time": "2021-10-15T17:57:48.933398Z"
    }
   },
   "outputs": [],
   "source": [
    "def llenado2(image):\n",
    "    return image.where(cloud_img1.gt(10), QM_NDVI_T2)"
   ]
  },
  {
   "cell_type": "code",
   "execution_count": 158,
   "id": "ada6d94e",
   "metadata": {
    "ExecuteTime": {
     "end_time": "2021-10-15T17:57:48.937789Z",
     "start_time": "2021-10-15T17:57:48.936199Z"
    }
   },
   "outputs": [],
   "source": [
    "img2 = llenado2(img1)"
   ]
  },
  {
   "cell_type": "code",
   "execution_count": 159,
   "id": "e3db0a52",
   "metadata": {
    "ExecuteTime": {
     "end_time": "2021-10-15T17:57:48.940556Z",
     "start_time": "2021-10-15T17:57:48.938905Z"
    }
   },
   "outputs": [],
   "source": [
    "img2_landsat = img2.set('SENSOR_ID', 'OLI_TIRS')\n",
    "cloud_img2 = ee.Algorithms.Landsat.simpleCloudScore(img2_landsat)\n",
    "cloud_img2 = cloud_img2.select('cloud')"
   ]
  },
  {
   "cell_type": "code",
   "execution_count": 160,
   "id": "42d22742",
   "metadata": {
    "ExecuteTime": {
     "end_time": "2021-10-15T17:57:48.943208Z",
     "start_time": "2021-10-15T17:57:48.941619Z"
    }
   },
   "outputs": [],
   "source": [
    "resultados= [cloud_img2, img2]\n",
    "vis_params2=  [\n",
    "    {'palette':palette_nubes}, \n",
    "    vizParams]\n",
    "labels = [\n",
    "    'Nubes Mosaico 2',\n",
    "    'Mosaico 2']"
   ]
  },
  {
   "cell_type": "code",
   "execution_count": 161,
   "id": "5bdcab8c",
   "metadata": {
    "ExecuteTime": {
     "end_time": "2021-10-15T17:57:48.946198Z",
     "start_time": "2021-10-15T17:57:48.944326Z"
    }
   },
   "outputs": [],
   "source": [
    "# geemap.linked_maps(rows=1, cols=2, height=\"400px\", center=[-45, -75], zoom=4, \n",
    "#                    ee_objects=resultados, vis_params=vis_params2, labels=labels, label_position=\"topright\")"
   ]
  },
  {
   "cell_type": "code",
   "execution_count": 162,
   "id": "ca5f91e2",
   "metadata": {
    "ExecuteTime": {
     "end_time": "2021-10-15T17:57:48.948840Z",
     "start_time": "2021-10-15T17:57:48.947075Z"
    }
   },
   "outputs": [],
   "source": [
    "def llenado3(image):\n",
    "    return image.where(cloud_img2.gt(10), QM_NDVI_T3)"
   ]
  },
  {
   "cell_type": "code",
   "execution_count": 163,
   "id": "f52fddee",
   "metadata": {
    "ExecuteTime": {
     "end_time": "2021-10-15T17:57:48.951353Z",
     "start_time": "2021-10-15T17:57:48.949878Z"
    }
   },
   "outputs": [],
   "source": [
    "img3 = llenado3(img2)"
   ]
  },
  {
   "cell_type": "code",
   "execution_count": 164,
   "id": "6d41d9d0",
   "metadata": {
    "ExecuteTime": {
     "end_time": "2021-10-15T17:57:48.954233Z",
     "start_time": "2021-10-15T17:57:48.952374Z"
    }
   },
   "outputs": [],
   "source": [
    "img3_landsat = img3.set('SENSOR_ID', 'OLI_TIRS')\n",
    "cloud_img3 = ee.Algorithms.Landsat.simpleCloudScore(img3_landsat)\n",
    "cloud_img3 = cloud_img3.select('cloud')"
   ]
  },
  {
   "cell_type": "code",
   "execution_count": 165,
   "id": "3a000d62",
   "metadata": {
    "ExecuteTime": {
     "end_time": "2021-10-15T17:57:48.957099Z",
     "start_time": "2021-10-15T17:57:48.955317Z"
    }
   },
   "outputs": [],
   "source": [
    "resultados= [cloud_img3, img3]\n",
    "vis_params2=  [\n",
    "    {'palette':palette_nubes}, \n",
    "    vizParams]\n",
    "labels = [\n",
    "    'Nubes Mosaico 3',\n",
    "    'Mosaico 3']"
   ]
  },
  {
   "cell_type": "code",
   "execution_count": 166,
   "id": "bf275ed6",
   "metadata": {
    "ExecuteTime": {
     "end_time": "2021-10-15T17:57:48.959368Z",
     "start_time": "2021-10-15T17:57:48.958145Z"
    }
   },
   "outputs": [],
   "source": [
    "# geemap.linked_maps(rows=1, cols=2, height=\"400px\", center=[-45, -75], zoom=4, \n",
    "#                    ee_objects=resultados, vis_params=vis_params2, labels=labels, label_position=\"topright\")"
   ]
  },
  {
   "cell_type": "code",
   "execution_count": 167,
   "id": "9d0daae9",
   "metadata": {
    "ExecuteTime": {
     "end_time": "2021-10-15T17:57:48.961974Z",
     "start_time": "2021-10-15T17:57:48.960394Z"
    }
   },
   "outputs": [],
   "source": [
    "def llenado4(image):\n",
    "    return image.where(cloud_img3.gt(10), QM_NDVI_T4)"
   ]
  },
  {
   "cell_type": "code",
   "execution_count": 168,
   "id": "d37f16d5",
   "metadata": {
    "ExecuteTime": {
     "end_time": "2021-10-15T17:57:48.964609Z",
     "start_time": "2021-10-15T17:57:48.963055Z"
    }
   },
   "outputs": [],
   "source": [
    "img4 = llenado4(img3)"
   ]
  },
  {
   "cell_type": "code",
   "execution_count": 169,
   "id": "540d60d8",
   "metadata": {
    "ExecuteTime": {
     "end_time": "2021-10-15T17:57:48.967435Z",
     "start_time": "2021-10-15T17:57:48.965621Z"
    }
   },
   "outputs": [],
   "source": [
    "img4_landsat = img4.set('SENSOR_ID', 'OLI_TIRS')\n",
    "cloud_img4 = ee.Algorithms.Landsat.simpleCloudScore(img4_landsat)\n",
    "cloud_img4 = cloud_img4.select('cloud')"
   ]
  },
  {
   "cell_type": "code",
   "execution_count": 170,
   "id": "3f0e9719",
   "metadata": {
    "ExecuteTime": {
     "end_time": "2021-10-15T17:57:48.970127Z",
     "start_time": "2021-10-15T17:57:48.968495Z"
    }
   },
   "outputs": [],
   "source": [
    "resultados= [cloud_img4, img4]\n",
    "vis_params2=  [\n",
    "    {'palette':palette_nubes}, \n",
    "    vizParams]\n",
    "labels = [\n",
    "    'Nubes Mosaico 4',\n",
    "    'Mosaico 4']"
   ]
  },
  {
   "cell_type": "code",
   "execution_count": 171,
   "id": "41d9a7b8",
   "metadata": {
    "ExecuteTime": {
     "end_time": "2021-10-15T17:57:48.972512Z",
     "start_time": "2021-10-15T17:57:48.971112Z"
    }
   },
   "outputs": [],
   "source": [
    "# geemap.linked_maps(rows=1, cols=2, height=\"400px\", center=[-45, -75], zoom=4, \n",
    "#                    ee_objects=resultados, vis_params=vis_params2, labels=labels, label_position=\"topright\")"
   ]
  },
  {
   "cell_type": "code",
   "execution_count": 172,
   "id": "0cccc52b",
   "metadata": {
    "ExecuteTime": {
     "end_time": "2021-10-15T17:57:48.975103Z",
     "start_time": "2021-10-15T17:57:48.973513Z"
    }
   },
   "outputs": [],
   "source": [
    "hansenImage = ee.Image('UMD/hansen/global_forest_change_2015')\n",
    "datamask = hansenImage.select('datamask')"
   ]
  },
  {
   "cell_type": "code",
   "execution_count": 173,
   "id": "2e6b728e",
   "metadata": {
    "ExecuteTime": {
     "end_time": "2021-10-15T17:57:48.977790Z",
     "start_time": "2021-10-15T17:57:48.976065Z"
    }
   },
   "outputs": [],
   "source": [
    "def llenado5(image):\n",
    "    return image.where(datamask.eq(2), QM_NDWI_T1)"
   ]
  },
  {
   "cell_type": "code",
   "execution_count": 174,
   "id": "eeac700c",
   "metadata": {
    "ExecuteTime": {
     "end_time": "2021-10-15T17:57:48.980248Z",
     "start_time": "2021-10-15T17:57:48.978691Z"
    }
   },
   "outputs": [],
   "source": [
    "img5 = llenado5(img4)"
   ]
  },
  {
   "cell_type": "code",
   "execution_count": 175,
   "id": "1988e4d9",
   "metadata": {
    "ExecuteTime": {
     "end_time": "2021-10-15T17:57:48.982547Z",
     "start_time": "2021-10-15T17:57:48.981111Z"
    }
   },
   "outputs": [],
   "source": [
    "img5 = ee.Image(img5)"
   ]
  },
  {
   "cell_type": "code",
   "execution_count": 176,
   "id": "82202db6",
   "metadata": {
    "ExecuteTime": {
     "end_time": "2021-10-15T17:57:48.985095Z",
     "start_time": "2021-10-15T17:57:48.983531Z"
    }
   },
   "outputs": [],
   "source": [
    "img5 = img5.set('SENSOR_ID', 'OLI_TIRS')"
   ]
  },
  {
   "cell_type": "code",
   "execution_count": 177,
   "id": "823a7e18",
   "metadata": {
    "ExecuteTime": {
     "end_time": "2021-10-15T17:57:48.987848Z",
     "start_time": "2021-10-15T17:57:48.986092Z"
    }
   },
   "outputs": [],
   "source": [
    "resultados= [img4, img5]\n",
    "labels = [\n",
    "    'Mosaico 4',\n",
    "    'Mosaico 5']\n",
    "vis_params3=  [\n",
    "     vizParams, \n",
    "    vizParams]"
   ]
  },
  {
   "cell_type": "code",
   "execution_count": 178,
   "id": "87c07712",
   "metadata": {
    "ExecuteTime": {
     "end_time": "2021-10-15T17:57:48.990267Z",
     "start_time": "2021-10-15T17:57:48.988841Z"
    }
   },
   "outputs": [],
   "source": [
    "# geemap.linked_maps(rows=1, cols=2, height=\"400px\", center=[-45, -75], zoom=4, \n",
    "#                    ee_objects=resultados, vis_params=vis_params3, labels=labels, label_position=\"topright\")"
   ]
  },
  {
   "cell_type": "code",
   "execution_count": 179,
   "id": "20454023",
   "metadata": {
    "ExecuteTime": {
     "end_time": "2021-10-15T17:57:48.992514Z",
     "start_time": "2021-10-15T17:57:48.991159Z"
    }
   },
   "outputs": [],
   "source": [
    "# Map10.addLayer(img4, vizParams, 'Mosaico 4')\n",
    "# Map10.addLayer(img5, vizParams, 'Mosaico 5')\n",
    "# Map10"
   ]
  },
  {
   "cell_type": "markdown",
   "id": "18c237e5",
   "metadata": {},
   "source": [
    "### Resultado Final"
   ]
  },
  {
   "cell_type": "code",
   "execution_count": 180,
   "id": "3e85d062",
   "metadata": {
    "ExecuteTime": {
     "end_time": "2021-10-15T17:57:49.532028Z",
     "start_time": "2021-10-15T17:57:48.993508Z"
    }
   },
   "outputs": [
    {
     "data": {
      "application/vnd.jupyter.widget-view+json": {
       "model_id": "63d3478397fb4efd87b9424a41b57b84",
       "version_major": 2,
       "version_minor": 0
      },
      "text/plain": [
       "Map(center=[-45, -70], controls=(WidgetControl(options=['position', 'transparent_bg'], widget=HBox(children=(T…"
      ]
     },
     "metadata": {},
     "output_type": "display_data"
    }
   ],
   "source": [
    "img5_b = img5.select(['B1','B2','B3','B4','B5','B6','B7'])\n",
    "Map10.addLayer(img5_b, vizParams, 'Mosaico 7bandas')\n",
    "Map10"
   ]
  },
  {
   "cell_type": "code",
   "execution_count": 181,
   "id": "f985c277",
   "metadata": {
    "ExecuteTime": {
     "end_time": "2021-10-15T17:57:49.534607Z",
     "start_time": "2021-10-15T17:57:49.533060Z"
    }
   },
   "outputs": [],
   "source": [
    "# type(img6)"
   ]
  },
  {
   "cell_type": "code",
   "execution_count": 182,
   "id": "3f26ae54",
   "metadata": {
    "ExecuteTime": {
     "end_time": "2021-10-15T17:57:49.537549Z",
     "start_time": "2021-10-15T17:57:49.535371Z"
    }
   },
   "outputs": [],
   "source": [
    "# img6.bandNames().getInfo()"
   ]
  },
  {
   "cell_type": "code",
   "execution_count": 183,
   "id": "9e384bfb",
   "metadata": {
    "ExecuteTime": {
     "end_time": "2021-10-15T17:57:49.540062Z",
     "start_time": "2021-10-15T17:57:49.538667Z"
    }
   },
   "outputs": [],
   "source": [
    "# colec7 = ee.ImageCollection(img7)"
   ]
  },
  {
   "cell_type": "code",
   "execution_count": 184,
   "id": "8bb269ec",
   "metadata": {
    "ExecuteTime": {
     "end_time": "2021-10-15T17:57:49.542519Z",
     "start_time": "2021-10-15T17:57:49.541097Z"
    }
   },
   "outputs": [],
   "source": [
    "# coleccion7 = colec7.map(addNDVI).map(addNDWI).map(addNDGI).map(addSAVI).map(addNDSI).map(addDate).map(addCloud)"
   ]
  },
  {
   "cell_type": "code",
   "execution_count": 185,
   "id": "67a2e0e2",
   "metadata": {
    "ExecuteTime": {
     "end_time": "2021-10-15T17:57:49.545193Z",
     "start_time": "2021-10-15T17:57:49.543575Z"
    }
   },
   "outputs": [],
   "source": [
    "property = 'date'"
   ]
  },
  {
   "cell_type": "code",
   "execution_count": 186,
   "id": "9fff05cd",
   "metadata": {
    "ExecuteTime": {
     "end_time": "2021-10-15T17:57:49.547745Z",
     "start_time": "2021-10-15T17:57:49.546084Z"
    }
   },
   "outputs": [],
   "source": [
    "options = {\"title\": 'Fechas Greenest 2021',\n",
    "          \"xlabel\": 'Date',\n",
    "          \"ylabel\": 'Pixel count',\n",
    "          \"colors\": ['#1d6b99']\n",
    "          }"
   ]
  },
  {
   "cell_type": "code",
   "execution_count": 187,
   "id": "1492f0d3",
   "metadata": {
    "ExecuteTime": {
     "end_time": "2021-10-15T17:57:49.550182Z",
     "start_time": "2021-10-15T17:57:49.548750Z"
    }
   },
   "outputs": [],
   "source": [
    "# muestra = img6.sample(patagonia_grande, 10000)"
   ]
  },
  {
   "cell_type": "code",
   "execution_count": 188,
   "id": "0ad9a685",
   "metadata": {
    "ExecuteTime": {
     "end_time": "2021-10-15T17:57:49.552522Z",
     "start_time": "2021-10-15T17:57:49.551141Z"
    }
   },
   "outputs": [],
   "source": [
    "# chart.feature_histogram(muestra, property, **options)"
   ]
  },
  {
   "cell_type": "code",
   "execution_count": 189,
   "id": "ee889dca",
   "metadata": {
    "ExecuteTime": {
     "end_time": "2021-10-15T17:57:49.554835Z",
     "start_time": "2021-10-15T17:57:49.553445Z"
    }
   },
   "outputs": [],
   "source": [
    "# geemap.ee_export_image_to_drive(img5_b, description='mosaico_2021_m', folder='export', region=patagonia_grande.geometry(), scale=30)"
   ]
  },
  {
   "cell_type": "markdown",
   "id": "ee510298",
   "metadata": {},
   "source": [
    "#### Tasseled"
   ]
  },
  {
   "cell_type": "code",
   "execution_count": 190,
   "id": "fa0e3d32",
   "metadata": {
    "ExecuteTime": {
     "end_time": "2021-10-15T17:57:49.558085Z",
     "start_time": "2021-10-15T17:57:49.555878Z"
    }
   },
   "outputs": [],
   "source": [
    "coef = ee.Array([\n",
    "    [0.3029, 0.2786, 0.4733, 0.5599, 0.508, 0.1872], \n",
    "    [-0.2941, -0.243, -0.5424, 0.7276, 0.0713, -0.1608],\n",
    "    [0.1511, 0.1973, 0.3283, 0.3407, -0.7117, -0.4559],\n",
    "    [-0.8239, 0.0849, 0.4396, -0.058, 0.2013, -0.2773],\n",
    "    [-0.3294, 0.0557, 0.1056, 0.1855, -0.4349, 0.8085],\n",
    "    [0.1079, -0.9023, 0.4119, 0.0575, -0.0259, 0.0252]\n",
    "])"
   ]
  },
  {
   "cell_type": "code",
   "execution_count": 191,
   "id": "6e01514e",
   "metadata": {
    "ExecuteTime": {
     "end_time": "2021-10-15T17:57:49.560830Z",
     "start_time": "2021-10-15T17:57:49.559216Z"
    }
   },
   "outputs": [],
   "source": [
    "tasse_img5 = img5.select(['B2', 'B3', 'B4', 'B5', 'B6', 'B7'])"
   ]
  },
  {
   "cell_type": "code",
   "execution_count": 192,
   "id": "17e256e2",
   "metadata": {
    "ExecuteTime": {
     "end_time": "2021-10-15T17:57:49.563368Z",
     "start_time": "2021-10-15T17:57:49.561830Z"
    }
   },
   "outputs": [],
   "source": [
    "arrayimage1d = tasse_img5.toArray()"
   ]
  },
  {
   "cell_type": "code",
   "execution_count": 193,
   "id": "bd716cd6",
   "metadata": {
    "ExecuteTime": {
     "end_time": "2021-10-15T17:57:49.566055Z",
     "start_time": "2021-10-15T17:57:49.564434Z"
    }
   },
   "outputs": [],
   "source": [
    "arrayimage2d = arrayimage1d.toArray(1)"
   ]
  },
  {
   "cell_type": "code",
   "execution_count": 194,
   "id": "9b5c05f8",
   "metadata": {
    "ExecuteTime": {
     "end_time": "2021-10-15T17:57:49.568668Z",
     "start_time": "2021-10-15T17:57:49.566915Z"
    }
   },
   "outputs": [],
   "source": [
    "componentes = ee.Image(coef)\\\n",
    "                .matrixMultiply(arrayimage2d) \\\n",
    "                .arrayProject([0])\\\n",
    "                .arrayFlatten(\n",
    "                [['brightness','greenness','wetness','fourth','fifth','sixth']])"
   ]
  },
  {
   "cell_type": "code",
   "execution_count": 195,
   "id": "cc87d072",
   "metadata": {
    "ExecuteTime": {
     "end_time": "2021-10-15T17:57:49.571301Z",
     "start_time": "2021-10-15T17:57:49.569667Z"
    }
   },
   "outputs": [],
   "source": [
    "vizParamstess = {\n",
    "  'bands': ['brightness', 'greenness', 'wetness'],\n",
    "    'min': -0.1,\n",
    "    'max': [0.5, 0.1, 0.1]\n",
    "}\n"
   ]
  },
  {
   "cell_type": "code",
   "execution_count": 196,
   "id": "20ea48a8",
   "metadata": {
    "ExecuteTime": {
     "end_time": "2021-10-15T17:57:49.573643Z",
     "start_time": "2021-10-15T17:57:49.572364Z"
    }
   },
   "outputs": [],
   "source": [
    "# Map10.addLayer(componentes,vizParamstess, 'Tesseled cap')\n",
    "# Map10"
   ]
  },
  {
   "cell_type": "markdown",
   "id": "c8f38c76",
   "metadata": {},
   "source": [
    "## Mosaicos Matched"
   ]
  },
  {
   "cell_type": "code",
   "execution_count": 197,
   "id": "d5725d05",
   "metadata": {
    "ExecuteTime": {
     "end_time": "2021-10-15T17:57:49.576493Z",
     "start_time": "2021-10-15T17:57:49.574684Z"
    }
   },
   "outputs": [],
   "source": [
    "NDVI_2021_landsat_m = QM_NDVI_2021_m.set('SENSOR_ID', 'OLI_TIRS')"
   ]
  },
  {
   "cell_type": "code",
   "execution_count": 198,
   "id": "3ec3ce95",
   "metadata": {
    "ExecuteTime": {
     "end_time": "2021-10-15T17:57:49.579220Z",
     "start_time": "2021-10-15T17:57:49.577482Z"
    }
   },
   "outputs": [],
   "source": [
    "cloud_2021_m = ee.Algorithms.Landsat.simpleCloudScore(NDVI_2021_landsat_m)"
   ]
  },
  {
   "cell_type": "code",
   "execution_count": 199,
   "id": "1d06d4e6",
   "metadata": {
    "ExecuteTime": {
     "end_time": "2021-10-15T17:57:49.581849Z",
     "start_time": "2021-10-15T17:57:49.580180Z"
    }
   },
   "outputs": [],
   "source": [
    "cloud_2021_m = cloud_2021_m.select('cloud')"
   ]
  },
  {
   "cell_type": "code",
   "execution_count": 200,
   "id": "204cf196",
   "metadata": {
    "ExecuteTime": {
     "end_time": "2021-10-15T17:57:49.584385Z",
     "start_time": "2021-10-15T17:57:49.582780Z"
    }
   },
   "outputs": [],
   "source": [
    "palette_nubes = ['#1a9850', '#66bd63', '#a6d96a', '#d9ef8b', '#fee08b', '#fdae61', '#f46d43', '#d73027']"
   ]
  },
  {
   "cell_type": "code",
   "execution_count": 201,
   "id": "90667fcb",
   "metadata": {
    "ExecuteTime": {
     "end_time": "2021-10-15T17:57:49.587049Z",
     "start_time": "2021-10-15T17:57:49.585454Z"
    }
   },
   "outputs": [],
   "source": [
    "QM_NDVI_2021_m = ee.Image(QM_NDVI_2021_m)"
   ]
  },
  {
   "cell_type": "code",
   "execution_count": 202,
   "id": "8c7e8e20",
   "metadata": {
    "ExecuteTime": {
     "end_time": "2021-10-15T17:57:49.589777Z",
     "start_time": "2021-10-15T17:57:49.588105Z"
    }
   },
   "outputs": [],
   "source": [
    "resultados= [cloud_2021_m, QM_NDVI_2021_m]\n",
    "vis_params2=  [\n",
    "    {'palette':palette_nubes}, \n",
    "    vizParams]\n",
    "labels = [\n",
    "    'Nubes 2021',\n",
    "    'QM NDVI 2021']"
   ]
  },
  {
   "cell_type": "code",
   "execution_count": 203,
   "id": "37ff14a0",
   "metadata": {
    "ExecuteTime": {
     "end_time": "2021-10-15T17:57:49.592123Z",
     "start_time": "2021-10-15T17:57:49.590677Z"
    }
   },
   "outputs": [],
   "source": [
    "# geemap.linked_maps(rows=1, cols=2, height=\"400px\", center=[-45, -75], zoom=4, \n",
    "#                    ee_objects=resultados, vis_params=vis_params2, labels=labels, label_position=\"topright\")"
   ]
  },
  {
   "cell_type": "code",
   "execution_count": 204,
   "id": "dfb9ff31",
   "metadata": {
    "ExecuteTime": {
     "end_time": "2021-10-15T17:57:49.594690Z",
     "start_time": "2021-10-15T17:57:49.593095Z"
    }
   },
   "outputs": [],
   "source": [
    "def llenado(image):\n",
    "    return image.where(cloud_2021_m.gt(10),NDVI_tier1)"
   ]
  },
  {
   "cell_type": "code",
   "execution_count": 205,
   "id": "fcc244dd",
   "metadata": {
    "ExecuteTime": {
     "end_time": "2021-10-15T17:57:49.597202Z",
     "start_time": "2021-10-15T17:57:49.595714Z"
    }
   },
   "outputs": [],
   "source": [
    "img1_m = llenado(QM_NDVI_2021_m)"
   ]
  },
  {
   "cell_type": "code",
   "execution_count": 206,
   "id": "5966e81c",
   "metadata": {
    "ExecuteTime": {
     "end_time": "2021-10-15T17:57:49.600213Z",
     "start_time": "2021-10-15T17:57:49.598308Z"
    }
   },
   "outputs": [],
   "source": [
    "img1_landsat_m = img1_m.set('SENSOR_ID', 'OLI_TIRS')\n",
    "cloud_img1_m = ee.Algorithms.Landsat.simpleCloudScore(img1_landsat_m)\n",
    "cloud_img1_m = cloud_img1_m.select('cloud')"
   ]
  },
  {
   "cell_type": "code",
   "execution_count": 207,
   "id": "cb935b42",
   "metadata": {
    "ExecuteTime": {
     "end_time": "2021-10-15T17:57:49.602703Z",
     "start_time": "2021-10-15T17:57:49.601201Z"
    }
   },
   "outputs": [],
   "source": [
    "img1_m = ee.Image(img1_m)"
   ]
  },
  {
   "cell_type": "code",
   "execution_count": 208,
   "id": "a6038438",
   "metadata": {
    "ExecuteTime": {
     "end_time": "2021-10-15T17:57:49.605437Z",
     "start_time": "2021-10-15T17:57:49.603615Z"
    }
   },
   "outputs": [],
   "source": [
    "resultados= [cloud_img1_m, img1_m]\n",
    "vis_params2=  [\n",
    "    {'palette':palette_nubes}, \n",
    "    vizParams]\n",
    "labels = [\n",
    "    'Nubes Mosaico 1',\n",
    "    'Mosaico 1']"
   ]
  },
  {
   "cell_type": "code",
   "execution_count": 209,
   "id": "ff549bfe",
   "metadata": {
    "ExecuteTime": {
     "end_time": "2021-10-15T17:57:49.607974Z",
     "start_time": "2021-10-15T17:57:49.606557Z"
    }
   },
   "outputs": [],
   "source": [
    "# geemap.linked_maps(rows=1, cols=2, height=\"400px\", center=[-45, -75], zoom=4, \n",
    "#                    ee_objects=resultados, vis_params=vis_params2, labels=labels, label_position=\"topright\")"
   ]
  },
  {
   "cell_type": "code",
   "execution_count": 210,
   "id": "11700bca",
   "metadata": {
    "ExecuteTime": {
     "end_time": "2021-10-15T17:57:49.610563Z",
     "start_time": "2021-10-15T17:57:49.608972Z"
    }
   },
   "outputs": [],
   "source": [
    "def llenado2(image):\n",
    "    return image.where(cloud_img1_m.gt(10), NDVI_tier2)"
   ]
  },
  {
   "cell_type": "code",
   "execution_count": 211,
   "id": "b9a26883",
   "metadata": {
    "ExecuteTime": {
     "end_time": "2021-10-15T17:57:49.613277Z",
     "start_time": "2021-10-15T17:57:49.611656Z"
    }
   },
   "outputs": [],
   "source": [
    "img2_m = llenado2(img1_m)"
   ]
  },
  {
   "cell_type": "code",
   "execution_count": 212,
   "id": "47a8156c",
   "metadata": {
    "ExecuteTime": {
     "end_time": "2021-10-15T17:57:49.616445Z",
     "start_time": "2021-10-15T17:57:49.614235Z"
    }
   },
   "outputs": [],
   "source": [
    "img2_landsat_m = img2_m.set('SENSOR_ID', 'OLI_TIRS')\n",
    "cloud_img2_m = ee.Algorithms.Landsat.simpleCloudScore(img2_landsat_m)\n",
    "cloud_img2_m = cloud_img2_m.select('cloud')"
   ]
  },
  {
   "cell_type": "code",
   "execution_count": 213,
   "id": "b6747689",
   "metadata": {
    "ExecuteTime": {
     "end_time": "2021-10-15T17:57:49.618935Z",
     "start_time": "2021-10-15T17:57:49.617382Z"
    }
   },
   "outputs": [],
   "source": [
    "img2_m = ee.Image(img2_m)"
   ]
  },
  {
   "cell_type": "code",
   "execution_count": 214,
   "id": "8a4648ba",
   "metadata": {
    "ExecuteTime": {
     "end_time": "2021-10-15T17:57:49.621579Z",
     "start_time": "2021-10-15T17:57:49.619948Z"
    }
   },
   "outputs": [],
   "source": [
    "resultados= [cloud_img2_m, img2_m]\n",
    "vis_params2=  [\n",
    "    {'palette':palette_nubes}, \n",
    "    vizParams]\n",
    "labels = [\n",
    "    'Nubes Mosaico 2',\n",
    "    'Mosaico 2']"
   ]
  },
  {
   "cell_type": "code",
   "execution_count": 215,
   "id": "5c6eee6f",
   "metadata": {
    "ExecuteTime": {
     "end_time": "2021-10-15T17:57:49.623977Z",
     "start_time": "2021-10-15T17:57:49.622601Z"
    }
   },
   "outputs": [],
   "source": [
    "# geemap.linked_maps(rows=1, cols=2, height=\"400px\", center=[-45, -75], zoom=4, \n",
    "#                    ee_objects=resultados, vis_params=vis_params2, labels=labels, label_position=\"topright\")"
   ]
  },
  {
   "cell_type": "code",
   "execution_count": 216,
   "id": "c3c15ccb",
   "metadata": {
    "ExecuteTime": {
     "end_time": "2021-10-15T17:57:49.626489Z",
     "start_time": "2021-10-15T17:57:49.624912Z"
    }
   },
   "outputs": [],
   "source": [
    "def llenado3(image):\n",
    "    return image.where(cloud_img2_m.gt(10), NDVI_tier3)"
   ]
  },
  {
   "cell_type": "code",
   "execution_count": 217,
   "id": "be4d98dc",
   "metadata": {
    "ExecuteTime": {
     "end_time": "2021-10-15T17:57:49.629158Z",
     "start_time": "2021-10-15T17:57:49.627601Z"
    }
   },
   "outputs": [],
   "source": [
    "img3_m = llenado3(img2_m)"
   ]
  },
  {
   "cell_type": "code",
   "execution_count": 218,
   "id": "6afe5e92",
   "metadata": {
    "ExecuteTime": {
     "end_time": "2021-10-15T17:57:49.631812Z",
     "start_time": "2021-10-15T17:57:49.629972Z"
    }
   },
   "outputs": [],
   "source": [
    "img3_landsat_m = img3_m.set('SENSOR_ID', 'OLI_TIRS')\n",
    "cloud_img3_m = ee.Algorithms.Landsat.simpleCloudScore(img3_landsat_m)\n",
    "cloud_img3_m = cloud_img3_m.select('cloud')"
   ]
  },
  {
   "cell_type": "code",
   "execution_count": 219,
   "id": "63e6b3e5",
   "metadata": {
    "ExecuteTime": {
     "end_time": "2021-10-15T17:57:49.634382Z",
     "start_time": "2021-10-15T17:57:49.632910Z"
    }
   },
   "outputs": [],
   "source": [
    "img3_m = ee.Image(img3_m)"
   ]
  },
  {
   "cell_type": "code",
   "execution_count": 220,
   "id": "ae7dc873",
   "metadata": {
    "ExecuteTime": {
     "end_time": "2021-10-15T17:57:49.637177Z",
     "start_time": "2021-10-15T17:57:49.635345Z"
    }
   },
   "outputs": [],
   "source": [
    "resultados= [cloud_img3_m, img3_m]\n",
    "vis_params2=  [\n",
    "    {'palette':palette_nubes}, \n",
    "    vizParams]\n",
    "labels = [\n",
    "    'Nubes Mosaico 3',\n",
    "    'Mosaico 3']"
   ]
  },
  {
   "cell_type": "code",
   "execution_count": 221,
   "id": "9da14b29",
   "metadata": {
    "ExecuteTime": {
     "end_time": "2021-10-15T17:57:49.639627Z",
     "start_time": "2021-10-15T17:57:49.638225Z"
    }
   },
   "outputs": [],
   "source": [
    "# geemap.linked_maps(rows=1, cols=2, height=\"400px\", center=[-45, -75], zoom=4, \n",
    "#                    ee_objects=resultados, vis_params=vis_params2, labels=labels, label_position=\"topright\")"
   ]
  },
  {
   "cell_type": "code",
   "execution_count": 222,
   "id": "b4962662",
   "metadata": {
    "ExecuteTime": {
     "end_time": "2021-10-15T17:57:49.642161Z",
     "start_time": "2021-10-15T17:57:49.640690Z"
    }
   },
   "outputs": [],
   "source": [
    "def llenado4(image):\n",
    "    return image.where(cloud_img3_m.gt(10), NDVI_tier4)"
   ]
  },
  {
   "cell_type": "code",
   "execution_count": 223,
   "id": "d84c0a97",
   "metadata": {
    "ExecuteTime": {
     "end_time": "2021-10-15T17:57:49.644753Z",
     "start_time": "2021-10-15T17:57:49.643241Z"
    }
   },
   "outputs": [],
   "source": [
    "img4_m = llenado4(img3_m)"
   ]
  },
  {
   "cell_type": "code",
   "execution_count": 224,
   "id": "c39b50e8",
   "metadata": {
    "ExecuteTime": {
     "end_time": "2021-10-15T17:57:49.647470Z",
     "start_time": "2021-10-15T17:57:49.645670Z"
    }
   },
   "outputs": [],
   "source": [
    "img4_landsat_m = img4_m.set('SENSOR_ID', 'OLI_TIRS')\n",
    "cloud_img4_m = ee.Algorithms.Landsat.simpleCloudScore(img4_landsat_m)\n",
    "cloud_img4_m = cloud_img4_m.select('cloud')"
   ]
  },
  {
   "cell_type": "code",
   "execution_count": 225,
   "id": "7b4625f1",
   "metadata": {
    "ExecuteTime": {
     "end_time": "2021-10-15T17:57:49.649836Z",
     "start_time": "2021-10-15T17:57:49.648414Z"
    }
   },
   "outputs": [],
   "source": [
    "img4_m = ee.Image(img4_m)"
   ]
  },
  {
   "cell_type": "code",
   "execution_count": 226,
   "id": "b5eeb495",
   "metadata": {
    "ExecuteTime": {
     "end_time": "2021-10-15T17:57:49.652615Z",
     "start_time": "2021-10-15T17:57:49.650985Z"
    }
   },
   "outputs": [],
   "source": [
    "resultados= [cloud_img4_m, img4_m]\n",
    "vis_params2=  [\n",
    "    {'palette':palette_nubes}, \n",
    "    vizParams]\n",
    "labels = [\n",
    "    'Nubes Mosaico 4',\n",
    "    'Mosaico 4']"
   ]
  },
  {
   "cell_type": "code",
   "execution_count": 227,
   "id": "fb6d9f07",
   "metadata": {
    "ExecuteTime": {
     "end_time": "2021-10-15T17:57:49.655274Z",
     "start_time": "2021-10-15T17:57:49.653798Z"
    }
   },
   "outputs": [],
   "source": [
    "# geemap.linked_maps(rows=1, cols=2, height=\"400px\", center=[-45, -75], zoom=4, \n",
    "#                    ee_objects=resultados, vis_params=vis_params2, labels=labels, label_position=\"topright\")"
   ]
  },
  {
   "cell_type": "code",
   "execution_count": 228,
   "id": "6400890d",
   "metadata": {
    "ExecuteTime": {
     "end_time": "2021-10-15T17:57:49.658092Z",
     "start_time": "2021-10-15T17:57:49.656372Z"
    }
   },
   "outputs": [],
   "source": [
    "hansenImage = ee.Image('UMD/hansen/global_forest_change_2015')\n",
    "datamask = hansenImage.select('datamask')"
   ]
  },
  {
   "cell_type": "code",
   "execution_count": 229,
   "id": "25bc284f",
   "metadata": {
    "ExecuteTime": {
     "end_time": "2021-10-15T17:57:49.660745Z",
     "start_time": "2021-10-15T17:57:49.659169Z"
    }
   },
   "outputs": [],
   "source": [
    "def llenado5(image):\n",
    "    return image.where(datamask.eq(2), NWVI_tier)"
   ]
  },
  {
   "cell_type": "code",
   "execution_count": 230,
   "id": "056eee78",
   "metadata": {
    "ExecuteTime": {
     "end_time": "2021-10-15T17:57:49.663322Z",
     "start_time": "2021-10-15T17:57:49.661765Z"
    }
   },
   "outputs": [],
   "source": [
    "img5_m = llenado5(img4_m)"
   ]
  },
  {
   "cell_type": "code",
   "execution_count": 231,
   "id": "059bcbe2",
   "metadata": {
    "ExecuteTime": {
     "end_time": "2021-10-15T17:57:49.666331Z",
     "start_time": "2021-10-15T17:57:49.664381Z"
    }
   },
   "outputs": [],
   "source": [
    "img5_landsat_m = img5_m.set('SENSOR_ID', 'OLI_TIRS')\n",
    "cloud_img5_m = ee.Algorithms.Landsat.simpleCloudScore(img5_landsat_m)\n",
    "cloud_img5_m = cloud_img5_m.select('cloud')"
   ]
  },
  {
   "cell_type": "code",
   "execution_count": 232,
   "id": "bdcc43da",
   "metadata": {
    "ExecuteTime": {
     "end_time": "2021-10-15T17:57:49.669130Z",
     "start_time": "2021-10-15T17:57:49.667404Z"
    }
   },
   "outputs": [],
   "source": [
    "resultados= [cloud_img5_m, img5_m]\n",
    "vis_params2=  [\n",
    "    {'palette':palette_nubes}, \n",
    "    vizParams]\n",
    "labels = [\n",
    "    'Nubes Mosaico 5',\n",
    "    'Mosaico 5']"
   ]
  },
  {
   "cell_type": "code",
   "execution_count": 233,
   "id": "b3c90c9e",
   "metadata": {
    "ExecuteTime": {
     "end_time": "2021-10-15T17:57:49.671422Z",
     "start_time": "2021-10-15T17:57:49.670035Z"
    }
   },
   "outputs": [],
   "source": [
    "# geemap.linked_maps(rows=1, cols=2, height=\"400px\", center=[-45, -75], zoom=4, \n",
    "#                    ee_objects=resultados, vis_params=vis_params2, labels=labels, label_position=\"topright\")"
   ]
  },
  {
   "cell_type": "code",
   "execution_count": 234,
   "id": "70e58e52",
   "metadata": {
    "ExecuteTime": {
     "end_time": "2021-10-15T17:57:49.673833Z",
     "start_time": "2021-10-15T17:57:49.672406Z"
    }
   },
   "outputs": [],
   "source": [
    "# img6_m.bandNames().getInfo()"
   ]
  },
  {
   "cell_type": "code",
   "execution_count": 235,
   "id": "bf45a446",
   "metadata": {
    "ExecuteTime": {
     "end_time": "2021-10-15T17:57:49.676425Z",
     "start_time": "2021-10-15T17:57:49.674779Z"
    }
   },
   "outputs": [],
   "source": [
    "img5_m = ee.Image(img5_m)"
   ]
  },
  {
   "cell_type": "code",
   "execution_count": 236,
   "id": "73e9f0f9",
   "metadata": {
    "ExecuteTime": {
     "end_time": "2021-10-15T17:57:49.679119Z",
     "start_time": "2021-10-15T17:57:49.677411Z"
    }
   },
   "outputs": [],
   "source": [
    "resultados= [img4_m, img5_m]\n",
    "labels = [\n",
    "    'Mosaico 4',\n",
    "    'Mosaico 5']\n",
    "vis_params3=  [\n",
    "     vizParams, \n",
    "    vizParams]"
   ]
  },
  {
   "cell_type": "code",
   "execution_count": 237,
   "id": "47eb7b43",
   "metadata": {
    "ExecuteTime": {
     "end_time": "2021-10-15T17:57:49.681717Z",
     "start_time": "2021-10-15T17:57:49.680139Z"
    }
   },
   "outputs": [],
   "source": [
    "# geemap.linked_maps(rows=1, cols=2, height=\"400px\", center=[-45, -75], zoom=4, \n",
    "#                    ee_objects=resultados, vis_params=vis_params3, labels=labels, label_position=\"topright\")"
   ]
  },
  {
   "cell_type": "code",
   "execution_count": null,
   "id": "6116e6db",
   "metadata": {},
   "outputs": [],
   "source": []
  },
  {
   "cell_type": "code",
   "execution_count": 238,
   "id": "0645dcd8",
   "metadata": {
    "ExecuteTime": {
     "end_time": "2021-10-15T17:57:49.684222Z",
     "start_time": "2021-10-15T17:57:49.682662Z"
    }
   },
   "outputs": [],
   "source": [
    "# img5_m_bandas = img5_m.select(['B1','B2','B3','B4','B5','B6','B7'])"
   ]
  },
  {
   "cell_type": "code",
   "execution_count": 239,
   "id": "eae34253",
   "metadata": {
    "ExecuteTime": {
     "end_time": "2021-10-15T17:57:49.686917Z",
     "start_time": "2021-10-15T17:57:49.685126Z"
    }
   },
   "outputs": [],
   "source": [
    "vizParams2 = {\n",
    "  'bands': ['B5', 'B4', 'B3'],\n",
    "  'min': 0,\n",
    "  'max': 0.2,\n",
    "  'gamma': [1, 1.1, 1]\n",
    "}"
   ]
  },
  {
   "cell_type": "markdown",
   "id": "71cfd395",
   "metadata": {},
   "source": [
    "### Resultado Final"
   ]
  },
  {
   "cell_type": "code",
   "execution_count": 240,
   "id": "f6becda0",
   "metadata": {
    "ExecuteTime": {
     "end_time": "2021-10-15T17:57:49.689303Z",
     "start_time": "2021-10-15T17:57:49.687886Z"
    }
   },
   "outputs": [],
   "source": [
    "# Map10.addLayer(img5_m_bandas, vizParams_m, 'Mosaico 5m')\n",
    "# Map10"
   ]
  },
  {
   "cell_type": "code",
   "execution_count": 241,
   "id": "83a452f1",
   "metadata": {
    "ExecuteTime": {
     "end_time": "2021-10-15T17:57:49.691639Z",
     "start_time": "2021-10-15T17:57:49.690255Z"
    }
   },
   "outputs": [],
   "source": [
    "# Map12.addLayer(img6_m_bandas, vizParams2, 'Mosaico 6m')\n",
    "# Map12"
   ]
  },
  {
   "cell_type": "code",
   "execution_count": 242,
   "id": "6d9a5474",
   "metadata": {
    "ExecuteTime": {
     "end_time": "2021-10-15T17:57:49.694003Z",
     "start_time": "2021-10-15T17:57:49.692587Z"
    }
   },
   "outputs": [],
   "source": [
    "# img6_m.bandNames().getInfo()"
   ]
  },
  {
   "cell_type": "code",
   "execution_count": 243,
   "id": "92e28956",
   "metadata": {
    "ExecuteTime": {
     "end_time": "2021-10-15T17:57:49.696735Z",
     "start_time": "2021-10-15T17:57:49.695017Z"
    }
   },
   "outputs": [],
   "source": [
    "# geemap.ee_export_image_to_drive(img5_m, description='mosaico_2021_m', folder='export', region=patagonia_grande.geometry(), scale=30)"
   ]
  },
  {
   "cell_type": "markdown",
   "id": "1e872319",
   "metadata": {},
   "source": [
    "## Clasificación"
   ]
  },
  {
   "cell_type": "code",
   "execution_count": 244,
   "id": "3d3603e3",
   "metadata": {
    "ExecuteTime": {
     "end_time": "2021-10-15T17:57:49.714277Z",
     "start_time": "2021-10-15T17:57:49.712612Z"
    }
   },
   "outputs": [],
   "source": [
    "val_shp = os.path.join(work_dir, 'validacion.shp')\n",
    "merged_original = os.path.join(work_dir,'datos_1.shp')"
   ]
  },
  {
   "cell_type": "code",
   "execution_count": 245,
   "id": "bf7bfdeb",
   "metadata": {
    "ExecuteTime": {
     "end_time": "2021-10-15T17:57:50.173563Z",
     "start_time": "2021-10-15T17:57:49.715294Z"
    }
   },
   "outputs": [],
   "source": [
    "val = geemap.shp_to_ee(val_shp)\n",
    "# Map13.addLayer(val, {}, 'Áreas de Validación')"
   ]
  },
  {
   "cell_type": "code",
   "execution_count": 246,
   "id": "3b636946",
   "metadata": {
    "ExecuteTime": {
     "end_time": "2021-10-15T17:57:54.696273Z",
     "start_time": "2021-10-15T17:57:50.174565Z"
    }
   },
   "outputs": [
    {
     "data": {
      "application/vnd.jupyter.widget-view+json": {
       "model_id": "556c289330fa454daf04cc90324ef578",
       "version_major": 2,
       "version_minor": 0
      },
      "text/plain": [
       "Map(center=[-45, -70], controls=(WidgetControl(options=['position', 'transparent_bg'], widget=HBox(children=(T…"
      ]
     },
     "metadata": {},
     "output_type": "display_data"
    }
   ],
   "source": [
    "mergedoriginal = geemap.shp_to_ee(merged_original)\n",
    "Map13.addLayer( mergedoriginal, {}, 'Áreas de entrenamiento Original')\n",
    "Map13"
   ]
  },
  {
   "cell_type": "code",
   "execution_count": 247,
   "id": "85616c66",
   "metadata": {
    "ExecuteTime": {
     "end_time": "2021-10-15T17:57:54.698792Z",
     "start_time": "2021-10-15T17:57:54.697207Z"
    }
   },
   "outputs": [],
   "source": [
    "# img6_m = addNDVI(img6_m)\n",
    "# img6_m = addNDWI(img6_m)\n",
    "# img6_m = addNDGI(img6_m)\n",
    "# img6_m = addSAVI(img6_m)\n",
    "# img6_m = addNDSI(img6_m)\n",
    "# img6_m = addDate(img6_m)\n",
    "# img6_m = addCloud(img6_m)"
   ]
  },
  {
   "cell_type": "code",
   "execution_count": 248,
   "id": "7f16c9ef",
   "metadata": {
    "ExecuteTime": {
     "end_time": "2021-10-15T17:57:54.701838Z",
     "start_time": "2021-10-15T17:57:54.699701Z"
    }
   },
   "outputs": [],
   "source": [
    "dataset = img5.sampleRegions(**{\n",
    "    'collection': mergedoriginal,\n",
    "    'properties': ['ID'],\n",
    "    'scale': 30,\n",
    "})"
   ]
  },
  {
   "cell_type": "code",
   "execution_count": 249,
   "id": "19076563",
   "metadata": {
    "ExecuteTime": {
     "end_time": "2021-10-15T17:57:54.704653Z",
     "start_time": "2021-10-15T17:57:54.702927Z"
    }
   },
   "outputs": [],
   "source": [
    "datasetval = img5.sampleRegions(**{\n",
    "    'collection': val,\n",
    "    'properties': ['ID'],\n",
    "    'scale': 10,\n",
    "})"
   ]
  },
  {
   "cell_type": "code",
   "execution_count": 250,
   "id": "5273b637",
   "metadata": {
    "ExecuteTime": {
     "end_time": "2021-10-15T17:57:54.707353Z",
     "start_time": "2021-10-15T17:57:54.705582Z"
    }
   },
   "outputs": [],
   "source": [
    "datasetMatch = img5_m.sampleRegions(**{\n",
    "    'collection': mergedoriginal,\n",
    "    'properties': ['ID'],\n",
    "    'scale': 30,\n",
    "})"
   ]
  },
  {
   "cell_type": "code",
   "execution_count": 251,
   "id": "e34adb30",
   "metadata": {
    "ExecuteTime": {
     "end_time": "2021-10-15T17:57:54.709944Z",
     "start_time": "2021-10-15T17:57:54.708371Z"
    }
   },
   "outputs": [],
   "source": [
    "datasetvalMatch= img5_m.sampleRegions(**{\n",
    "    'collection': val,\n",
    "    'properties': ['ID'],\n",
    "    'scale': 10,\n",
    "})"
   ]
  },
  {
   "cell_type": "code",
   "execution_count": 252,
   "id": "0be21169",
   "metadata": {
    "ExecuteTime": {
     "end_time": "2021-10-15T17:57:54.711969Z",
     "start_time": "2021-10-15T17:57:54.710739Z"
    }
   },
   "outputs": [],
   "source": [
    "# print(dataset.size().getInfo())"
   ]
  },
  {
   "cell_type": "code",
   "execution_count": 253,
   "id": "0cdba8cd",
   "metadata": {
    "ExecuteTime": {
     "end_time": "2021-10-15T17:57:54.715025Z",
     "start_time": "2021-10-15T17:57:54.713033Z"
    }
   },
   "outputs": [],
   "source": [
    "# print(dataset.first().getInfo())"
   ]
  },
  {
   "cell_type": "code",
   "execution_count": 254,
   "id": "5c27d8ab",
   "metadata": {
    "ExecuteTime": {
     "end_time": "2021-10-15T17:57:54.717539Z",
     "start_time": "2021-10-15T17:57:54.715806Z"
    }
   },
   "outputs": [],
   "source": [
    "# print(datasetval.first().getInfo())"
   ]
  },
  {
   "cell_type": "markdown",
   "id": "65efc69f",
   "metadata": {},
   "source": [
    "### Muestras y datos de validación"
   ]
  },
  {
   "cell_type": "code",
   "execution_count": 255,
   "id": "9f4082a9",
   "metadata": {
    "ExecuteTime": {
     "end_time": "2021-10-15T17:57:54.720565Z",
     "start_time": "2021-10-15T17:57:54.718396Z"
    }
   },
   "outputs": [],
   "source": [
    "# Guardamos las bandas\n",
    "\n",
    "# Esta propiedad guarda las clases de landcover\n",
    "# label = 'b1'\n",
    "label = 'IDH'\n",
    "label1 = 'ID'\n",
    "# Overlay the points on the imagery to get training.\n",
    "# sample = landsat.select(bands).sampleRegions(**{\n",
    "#   'collection': points,\n",
    "#   'properties': [label],\n",
    "#   'scale': 30\n",
    "# })\n",
    "\n",
    "# # Adds a column of deterministic pseudorandom numbers. \n",
    "# sample = sample.randomColumn()\n",
    "\n",
    "# split = 0.7 \n",
    "\n",
    "# training = sample.filter(ee.Filter.lt('random', split))\n",
    "# validation = sample.filter(ee.Filter.gte('random', split))\n",
    "bands = ['B1',\n",
    " 'B2',\n",
    " 'B3',\n",
    " 'B4',\n",
    " 'B5',\n",
    " 'B6',\n",
    " 'B7',\n",
    " 'B8',\n",
    " 'B9',\n",
    " 'B10',\n",
    " 'B11',\n",
    " 'NDVI',\n",
    " 'NDWI',\n",
    " 'NDGI',\n",
    " 'SAVI',\n",
    " 'NDSI',\n",
    "]\n",
    "bands1 = ['B1',\n",
    " 'B2',\n",
    " 'B3',\n",
    " 'B4',\n",
    " 'B5',\n",
    " 'B6',\n",
    " 'B7',\n",
    " 'B8',\n",
    " 'B9',\n",
    " 'B10',\n",
    " 'B11']"
   ]
  },
  {
   "cell_type": "markdown",
   "id": "bb2b3b9b",
   "metadata": {},
   "source": [
    "### Entrenando el modelo"
   ]
  },
  {
   "cell_type": "code",
   "execution_count": 256,
   "id": "d2eab14d",
   "metadata": {
    "ExecuteTime": {
     "end_time": "2021-10-15T17:57:54.723489Z",
     "start_time": "2021-10-15T17:57:54.721687Z"
    }
   },
   "outputs": [],
   "source": [
    "classifier = ee.Classifier.smileRandomForest(100).train(dataset, label1, bands)\n",
    "classifierMatch = ee.Classifier.smileRandomForest(100).train(datasetMatch, label1, bands1)"
   ]
  },
  {
   "cell_type": "code",
   "execution_count": 257,
   "id": "effbf7b9",
   "metadata": {
    "ExecuteTime": {
     "end_time": "2021-10-15T17:57:54.726323Z",
     "start_time": "2021-10-15T17:57:54.724497Z"
    }
   },
   "outputs": [],
   "source": [
    "result1 = img5.select(bands).classify(classifier)\n",
    "result2_M = img5_m.select(bands1).classify(classifierMatch)"
   ]
  },
  {
   "cell_type": "markdown",
   "id": "7df7206f",
   "metadata": {},
   "source": [
    "### Categorizando"
   ]
  },
  {
   "cell_type": "code",
   "execution_count": 258,
   "id": "a9f7e136",
   "metadata": {
    "ExecuteTime": {
     "end_time": "2021-10-15T17:57:54.729163Z",
     "start_time": "2021-10-15T17:57:54.727174Z"
    }
   },
   "outputs": [],
   "source": [
    "class_values1 = [1,2,3,4,5,6,7,8,9,10,11,12,13,14,15,16,17,18]\n",
    "\n",
    "class_palette1 = ['6bee8c', # 1\n",
    " 'f0ff00',\n",
    " '0c40f1',\n",
    " '685205',\n",
    " '0d4404',\n",
    " 'e82d13',\n",
    " 'f99504',\n",
    " '17d4c6',\n",
    " 'dc07e7',\n",
    " '24ff00',\n",
    " '2de50f',\n",
    " 'ccba7d',\n",
    " 'dec61a',\n",
    " '023208',\n",
    " '03c2ff',\n",
    " '97ad0b',\n",
    " 'a4f8ff',\n",
    " 'c0c233',               \n",
    "]"
   ]
  },
  {
   "cell_type": "code",
   "execution_count": 259,
   "id": "3f307e49",
   "metadata": {
    "ExecuteTime": {
     "end_time": "2021-10-15T17:57:54.731889Z",
     "start_time": "2021-10-15T17:57:54.730310Z"
    }
   },
   "outputs": [],
   "source": [
    "# result1.propertyNames().getInfo()"
   ]
  },
  {
   "cell_type": "code",
   "execution_count": 260,
   "id": "97b63b26",
   "metadata": {
    "ExecuteTime": {
     "end_time": "2021-10-15T17:57:54.734962Z",
     "start_time": "2021-10-15T17:57:54.732924Z"
    }
   },
   "outputs": [],
   "source": [
    "landcover1 = result1.set('classification_class_values', class_values1)\n",
    "landcover1 = landcover1.set('classification_class_palette', class_palette1)"
   ]
  },
  {
   "cell_type": "code",
   "execution_count": 261,
   "id": "54eabf1f",
   "metadata": {
    "ExecuteTime": {
     "end_time": "2021-10-15T17:57:54.737506Z",
     "start_time": "2021-10-15T17:57:54.735856Z"
    }
   },
   "outputs": [],
   "source": [
    "landcoverMatch = result2_M.set('classification_class_values', class_values1)\n",
    "landcoverMatch = landcoverMatch.set('classification_class_palette', class_palette1)"
   ]
  },
  {
   "cell_type": "code",
   "execution_count": 262,
   "id": "a1ac673e",
   "metadata": {
    "ExecuteTime": {
     "end_time": "2021-10-15T17:57:54.739922Z",
     "start_time": "2021-10-15T17:57:54.738509Z"
    }
   },
   "outputs": [],
   "source": [
    "# array_landcover1 = landcover1.toArray()\n",
    "# array_landcoverm = landcoverMatch.toArray()"
   ]
  },
  {
   "cell_type": "code",
   "execution_count": 263,
   "id": "9c1b71c4",
   "metadata": {
    "ExecuteTime": {
     "end_time": "2021-10-15T17:57:54.742922Z",
     "start_time": "2021-10-15T17:57:54.740956Z"
    }
   },
   "outputs": [],
   "source": [
    "# landcover_patagonia = array_landcover1.arrayProject([0])\n",
    "# Landcover_patagonia_m = array_landcoverm.arrayProject([0])"
   ]
  },
  {
   "cell_type": "code",
   "execution_count": 264,
   "id": "11e0ee3e",
   "metadata": {
    "ExecuteTime": {
     "end_time": "2021-10-15T17:58:02.722382Z",
     "start_time": "2021-10-15T17:57:54.743848Z"
    }
   },
   "outputs": [
    {
     "ename": "EEException",
     "evalue": "User memory limit exceeded.",
     "output_type": "error",
     "traceback": [
      "\u001b[0;31m---------------------------------------------------------------------------\u001b[0m",
      "\u001b[0;31mHttpError\u001b[0m                                 Traceback (most recent call last)",
      "\u001b[0;32m~/anaconda3/envs/gee/lib/python3.8/site-packages/ee/data.py\u001b[0m in \u001b[0;36m_execute_cloud_call\u001b[0;34m(call, num_retries)\u001b[0m\n\u001b[1;32m    333\u001b[0m   \u001b[0;32mtry\u001b[0m\u001b[0;34m:\u001b[0m\u001b[0;34m\u001b[0m\u001b[0;34m\u001b[0m\u001b[0m\n\u001b[0;32m--> 334\u001b[0;31m     \u001b[0;32mreturn\u001b[0m \u001b[0mcall\u001b[0m\u001b[0;34m.\u001b[0m\u001b[0mexecute\u001b[0m\u001b[0;34m(\u001b[0m\u001b[0mnum_retries\u001b[0m\u001b[0;34m=\u001b[0m\u001b[0mnum_retries\u001b[0m\u001b[0;34m)\u001b[0m\u001b[0;34m\u001b[0m\u001b[0;34m\u001b[0m\u001b[0m\n\u001b[0m\u001b[1;32m    335\u001b[0m   \u001b[0;32mexcept\u001b[0m \u001b[0mgoogleapiclient\u001b[0m\u001b[0;34m.\u001b[0m\u001b[0merrors\u001b[0m\u001b[0;34m.\u001b[0m\u001b[0mHttpError\u001b[0m \u001b[0;32mas\u001b[0m \u001b[0me\u001b[0m\u001b[0;34m:\u001b[0m\u001b[0;34m\u001b[0m\u001b[0;34m\u001b[0m\u001b[0m\n",
      "\u001b[0;32m~/anaconda3/envs/gee/lib/python3.8/site-packages/googleapiclient/_helpers.py\u001b[0m in \u001b[0;36mpositional_wrapper\u001b[0;34m(*args, **kwargs)\u001b[0m\n\u001b[1;32m    133\u001b[0m                     \u001b[0mlogger\u001b[0m\u001b[0;34m.\u001b[0m\u001b[0mwarning\u001b[0m\u001b[0;34m(\u001b[0m\u001b[0mmessage\u001b[0m\u001b[0;34m)\u001b[0m\u001b[0;34m\u001b[0m\u001b[0;34m\u001b[0m\u001b[0m\n\u001b[0;32m--> 134\u001b[0;31m             \u001b[0;32mreturn\u001b[0m \u001b[0mwrapped\u001b[0m\u001b[0;34m(\u001b[0m\u001b[0;34m*\u001b[0m\u001b[0margs\u001b[0m\u001b[0;34m,\u001b[0m \u001b[0;34m**\u001b[0m\u001b[0mkwargs\u001b[0m\u001b[0;34m)\u001b[0m\u001b[0;34m\u001b[0m\u001b[0;34m\u001b[0m\u001b[0m\n\u001b[0m\u001b[1;32m    135\u001b[0m \u001b[0;34m\u001b[0m\u001b[0m\n",
      "\u001b[0;32m~/anaconda3/envs/gee/lib/python3.8/site-packages/googleapiclient/http.py\u001b[0m in \u001b[0;36mexecute\u001b[0;34m(self, http, num_retries)\u001b[0m\n\u001b[1;32m    914\u001b[0m         \u001b[0;32mif\u001b[0m \u001b[0mresp\u001b[0m\u001b[0;34m.\u001b[0m\u001b[0mstatus\u001b[0m \u001b[0;34m>=\u001b[0m \u001b[0;36m300\u001b[0m\u001b[0;34m:\u001b[0m\u001b[0;34m\u001b[0m\u001b[0;34m\u001b[0m\u001b[0m\n\u001b[0;32m--> 915\u001b[0;31m             \u001b[0;32mraise\u001b[0m \u001b[0mHttpError\u001b[0m\u001b[0;34m(\u001b[0m\u001b[0mresp\u001b[0m\u001b[0;34m,\u001b[0m \u001b[0mcontent\u001b[0m\u001b[0;34m,\u001b[0m \u001b[0muri\u001b[0m\u001b[0;34m=\u001b[0m\u001b[0mself\u001b[0m\u001b[0;34m.\u001b[0m\u001b[0muri\u001b[0m\u001b[0;34m)\u001b[0m\u001b[0;34m\u001b[0m\u001b[0;34m\u001b[0m\u001b[0m\n\u001b[0m\u001b[1;32m    916\u001b[0m         \u001b[0;32mreturn\u001b[0m \u001b[0mself\u001b[0m\u001b[0;34m.\u001b[0m\u001b[0mpostproc\u001b[0m\u001b[0;34m(\u001b[0m\u001b[0mresp\u001b[0m\u001b[0;34m,\u001b[0m \u001b[0mcontent\u001b[0m\u001b[0;34m)\u001b[0m\u001b[0;34m\u001b[0m\u001b[0;34m\u001b[0m\u001b[0m\n",
      "\u001b[0;31mHttpError\u001b[0m: <HttpError 400 when requesting https://earthengine.googleapis.com/v1alpha/projects/earthengine-legacy/maps?fields=name&alt=json returned \"User memory limit exceeded.\". Details: \"User memory limit exceeded.\">",
      "\nDuring handling of the above exception, another exception occurred:\n",
      "\u001b[0;31mEEException\u001b[0m                               Traceback (most recent call last)",
      "\u001b[0;32m/tmp/ipykernel_429/2615547587.py\u001b[0m in \u001b[0;36m<module>\u001b[0;34m\u001b[0m\n\u001b[0;32m----> 1\u001b[0;31m \u001b[0mMap14\u001b[0m\u001b[0;34m.\u001b[0m\u001b[0maddLayer\u001b[0m\u001b[0;34m(\u001b[0m\u001b[0mlandcover1\u001b[0m\u001b[0;34m,\u001b[0m\u001b[0;34m{\u001b[0m\u001b[0;34m}\u001b[0m\u001b[0;34m,\u001b[0m \u001b[0;34m'Land cover clasificado Random Forest'\u001b[0m \u001b[0;34m)\u001b[0m\u001b[0;34m\u001b[0m\u001b[0;34m\u001b[0m\u001b[0m\n\u001b[0m",
      "\u001b[0;32m~/anaconda3/envs/gee/lib/python3.8/site-packages/geemap/geemap.py\u001b[0m in \u001b[0;36madd_ee_layer\u001b[0;34m(self, ee_object, vis_params, name, shown, opacity)\u001b[0m\n\u001b[1;32m   1363\u001b[0m                 \u001b[0;32mraise\u001b[0m \u001b[0mException\u001b[0m\u001b[0;34m(\u001b[0m\u001b[0me\u001b[0m\u001b[0;34m)\u001b[0m\u001b[0;34m\u001b[0m\u001b[0;34m\u001b[0m\u001b[0m\n\u001b[1;32m   1364\u001b[0m \u001b[0;34m\u001b[0m\u001b[0m\n\u001b[0;32m-> 1365\u001b[0;31m         \u001b[0mmap_id_dict\u001b[0m \u001b[0;34m=\u001b[0m \u001b[0mee\u001b[0m\u001b[0;34m.\u001b[0m\u001b[0mImage\u001b[0m\u001b[0;34m(\u001b[0m\u001b[0mimage\u001b[0m\u001b[0;34m)\u001b[0m\u001b[0;34m.\u001b[0m\u001b[0mgetMapId\u001b[0m\u001b[0;34m(\u001b[0m\u001b[0mvis_params\u001b[0m\u001b[0;34m)\u001b[0m\u001b[0;34m\u001b[0m\u001b[0;34m\u001b[0m\u001b[0m\n\u001b[0m\u001b[1;32m   1366\u001b[0m         tile_layer = TileLayer(\n\u001b[1;32m   1367\u001b[0m             \u001b[0murl\u001b[0m\u001b[0;34m=\u001b[0m\u001b[0mmap_id_dict\u001b[0m\u001b[0;34m[\u001b[0m\u001b[0;34m\"tile_fetcher\"\u001b[0m\u001b[0;34m]\u001b[0m\u001b[0;34m.\u001b[0m\u001b[0murl_format\u001b[0m\u001b[0;34m,\u001b[0m\u001b[0;34m\u001b[0m\u001b[0;34m\u001b[0m\u001b[0m\n",
      "\u001b[0;32m~/anaconda3/envs/gee/lib/python3.8/site-packages/ee/image.py\u001b[0m in \u001b[0;36mgetMapId\u001b[0;34m(self, vis_params)\u001b[0m\n\u001b[1;32m    128\u001b[0m     \u001b[0mvis_image\u001b[0m\u001b[0;34m,\u001b[0m \u001b[0mrequest\u001b[0m \u001b[0;34m=\u001b[0m \u001b[0mself\u001b[0m\u001b[0;34m.\u001b[0m\u001b[0m_apply_visualization\u001b[0m\u001b[0;34m(\u001b[0m\u001b[0mvis_params\u001b[0m\u001b[0;34m)\u001b[0m\u001b[0;34m\u001b[0m\u001b[0;34m\u001b[0m\u001b[0m\n\u001b[1;32m    129\u001b[0m     \u001b[0mrequest\u001b[0m\u001b[0;34m[\u001b[0m\u001b[0;34m'image'\u001b[0m\u001b[0;34m]\u001b[0m \u001b[0;34m=\u001b[0m \u001b[0mvis_image\u001b[0m\u001b[0;34m\u001b[0m\u001b[0;34m\u001b[0m\u001b[0m\n\u001b[0;32m--> 130\u001b[0;31m     \u001b[0mresponse\u001b[0m \u001b[0;34m=\u001b[0m \u001b[0mdata\u001b[0m\u001b[0;34m.\u001b[0m\u001b[0mgetMapId\u001b[0m\u001b[0;34m(\u001b[0m\u001b[0mrequest\u001b[0m\u001b[0;34m)\u001b[0m\u001b[0;34m\u001b[0m\u001b[0;34m\u001b[0m\u001b[0m\n\u001b[0m\u001b[1;32m    131\u001b[0m     \u001b[0mresponse\u001b[0m\u001b[0;34m[\u001b[0m\u001b[0;34m'image'\u001b[0m\u001b[0;34m]\u001b[0m \u001b[0;34m=\u001b[0m \u001b[0mself\u001b[0m\u001b[0;34m\u001b[0m\u001b[0;34m\u001b[0m\u001b[0m\n\u001b[1;32m    132\u001b[0m     \u001b[0;32mreturn\u001b[0m \u001b[0mresponse\u001b[0m\u001b[0;34m\u001b[0m\u001b[0;34m\u001b[0m\u001b[0m\n",
      "\u001b[0;32m~/anaconda3/envs/gee/lib/python3.8/site-packages/ee/data.py\u001b[0m in \u001b[0;36mgetMapId\u001b[0;34m(params)\u001b[0m\n\u001b[1;32m    571\u001b[0m   \u001b[0;31m# Make it return only the name field, as otherwise it echoes the entire\u001b[0m\u001b[0;34m\u001b[0m\u001b[0;34m\u001b[0m\u001b[0;34m\u001b[0m\u001b[0m\n\u001b[1;32m    572\u001b[0m   \u001b[0;31m# request, which might be large.\u001b[0m\u001b[0;34m\u001b[0m\u001b[0;34m\u001b[0m\u001b[0;34m\u001b[0m\u001b[0m\n\u001b[0;32m--> 573\u001b[0;31m   result = _execute_cloud_call(\n\u001b[0m\u001b[1;32m    574\u001b[0m       _get_cloud_api_resource().projects().maps().create(\n\u001b[1;32m    575\u001b[0m           parent=_get_projects_path(), fields='name', body=request))\n",
      "\u001b[0;32m~/anaconda3/envs/gee/lib/python3.8/site-packages/ee/data.py\u001b[0m in \u001b[0;36m_execute_cloud_call\u001b[0;34m(call, num_retries)\u001b[0m\n\u001b[1;32m    334\u001b[0m     \u001b[0;32mreturn\u001b[0m \u001b[0mcall\u001b[0m\u001b[0;34m.\u001b[0m\u001b[0mexecute\u001b[0m\u001b[0;34m(\u001b[0m\u001b[0mnum_retries\u001b[0m\u001b[0;34m=\u001b[0m\u001b[0mnum_retries\u001b[0m\u001b[0;34m)\u001b[0m\u001b[0;34m\u001b[0m\u001b[0;34m\u001b[0m\u001b[0m\n\u001b[1;32m    335\u001b[0m   \u001b[0;32mexcept\u001b[0m \u001b[0mgoogleapiclient\u001b[0m\u001b[0;34m.\u001b[0m\u001b[0merrors\u001b[0m\u001b[0;34m.\u001b[0m\u001b[0mHttpError\u001b[0m \u001b[0;32mas\u001b[0m \u001b[0me\u001b[0m\u001b[0;34m:\u001b[0m\u001b[0;34m\u001b[0m\u001b[0;34m\u001b[0m\u001b[0m\n\u001b[0;32m--> 336\u001b[0;31m     \u001b[0;32mraise\u001b[0m \u001b[0m_translate_cloud_exception\u001b[0m\u001b[0;34m(\u001b[0m\u001b[0me\u001b[0m\u001b[0;34m)\u001b[0m\u001b[0;34m\u001b[0m\u001b[0;34m\u001b[0m\u001b[0m\n\u001b[0m\u001b[1;32m    337\u001b[0m \u001b[0;34m\u001b[0m\u001b[0m\n\u001b[1;32m    338\u001b[0m \u001b[0;34m\u001b[0m\u001b[0m\n",
      "\u001b[0;31mEEException\u001b[0m: User memory limit exceeded."
     ]
    }
   ],
   "source": [
    "Map14.addLayer(landcover1,{}, 'Land cover clasificado Random Forest' )"
   ]
  },
  {
   "cell_type": "code",
   "execution_count": null,
   "id": "83059116",
   "metadata": {
    "ExecuteTime": {
     "end_time": "2021-10-15T17:58:02.805118Z",
     "start_time": "2021-10-15T17:58:02.805096Z"
    }
   },
   "outputs": [],
   "source": [
    "Map14.addLayer(landcoverMatch, {}, 'Land cover clasificado Random Forest Match' )"
   ]
  },
  {
   "cell_type": "code",
   "execution_count": null,
   "id": "882a5f91",
   "metadata": {
    "ExecuteTime": {
     "end_time": "2021-10-15T17:58:02.806117Z",
     "start_time": "2021-10-15T17:58:02.806102Z"
    }
   },
   "outputs": [],
   "source": [
    "type(landcover1)"
   ]
  },
  {
   "cell_type": "code",
   "execution_count": null,
   "id": "8111a0da",
   "metadata": {
    "ExecuteTime": {
     "end_time": "2021-10-15T17:58:02.806795Z",
     "start_time": "2021-10-15T17:58:02.806787Z"
    }
   },
   "outputs": [],
   "source": [
    "\n",
    "legend_dict = {\n",
    "    '01 Achaparrado': '6bee8c',\n",
    "    '02 Agrícola': 'f0ff00',\n",
    "    '03 Agua': '0c40f1',\n",
    "    '04 Arenal o Roca': '685205',\n",
    "    '05 Bosque Degradado': '0d4404',\n",
    "    '06 Cuncunas': 'e82d13',\n",
    "    '07 Estepa': 'f99504',\n",
    "    '08 Humedal': '17d4c6',\n",
    "    '09 Mallin': 'dc07e7',\n",
    "    '10 Matorral abierto': '24ff00',\n",
    "    '11 Matorral denso': '2de50f',\n",
    "    '12 Plantaciones': 'ccba7d',\n",
    "    '13 Praderas': 'dec61a',\n",
    "    '14 Primario': '023208',\n",
    "    '15 Ríos': '03c2ff',\n",
    "    '16 Secundario': '97ad0b',\n",
    "    '17 Glaciar': 'a4f8ff',\n",
    "    '18 Suelo desnudo': 'c0c233',\n",
    "}\n",
    "Map14.add_legend(legend_title=\"Random Forest\", legend_dict=legend_dict)\n",
    "Map14"
   ]
  },
  {
   "cell_type": "markdown",
   "id": "e80b449e",
   "metadata": {},
   "source": [
    "### Exportando"
   ]
  },
  {
   "cell_type": "code",
   "execution_count": null,
   "id": "4f5f83d5",
   "metadata": {
    "ExecuteTime": {
     "end_time": "2021-10-15T17:58:02.807819Z",
     "start_time": "2021-10-15T17:58:02.807808Z"
    }
   },
   "outputs": [],
   "source": [
    "# landcover_resampleado = landcover1.resample('bicubic')"
   ]
  },
  {
   "cell_type": "code",
   "execution_count": null,
   "id": "3b3e4208",
   "metadata": {
    "ExecuteTime": {
     "end_time": "2021-10-15T17:58:02.808568Z",
     "start_time": "2021-10-15T17:58:02.808559Z"
    }
   },
   "outputs": [],
   "source": [
    "# print('es(...)', ee.Geometry(landcover1).isUnbounded())"
   ]
  },
  {
   "cell_type": "code",
   "execution_count": null,
   "id": "d38f6b01",
   "metadata": {
    "ExecuteTime": {
     "end_time": "2021-10-15T17:58:02.809268Z",
     "start_time": "2021-10-15T17:58:02.809259Z"
    }
   },
   "outputs": [],
   "source": [
    "# landcover1 = landcover1.set('Geometry',patagonia.geometries())\n",
    "# landcover1 = ee.Image(landcover1)"
   ]
  },
  {
   "cell_type": "code",
   "execution_count": null,
   "id": "83527290",
   "metadata": {
    "ExecuteTime": {
     "end_time": "2021-10-15T17:58:02.809930Z",
     "start_time": "2021-10-15T17:58:02.809922Z"
    }
   },
   "outputs": [],
   "source": [
    "# work_dir = os.path.expanduser('../../../Data/shapes/')\n",
    "# corte = os.path.join(work_dir, 'img_base.shp')\n",
    "# corte = geemap.shp_to_ee(corte)"
   ]
  },
  {
   "cell_type": "code",
   "execution_count": null,
   "id": "6893f397",
   "metadata": {
    "ExecuteTime": {
     "end_time": "2021-10-15T17:58:02.810728Z",
     "start_time": "2021-10-15T17:58:02.810718Z"
    }
   },
   "outputs": [],
   "source": [
    "# clipped = landcover1.clip(corte)"
   ]
  },
  {
   "cell_type": "code",
   "execution_count": null,
   "id": "490e6b52",
   "metadata": {
    "ExecuteTime": {
     "end_time": "2021-10-15T17:58:02.811420Z",
     "start_time": "2021-10-15T17:58:02.811411Z"
    }
   },
   "outputs": [],
   "source": [
    "# Map15.addLayer(clipped,{},'corte')\n",
    "# Map15"
   ]
  },
  {
   "cell_type": "code",
   "execution_count": null,
   "id": "92df3f9f",
   "metadata": {
    "ExecuteTime": {
     "end_time": "2021-10-15T17:58:02.812185Z",
     "start_time": "2021-10-15T17:58:02.812173Z"
    }
   },
   "outputs": [],
   "source": [
    "# type(clipped)"
   ]
  },
  {
   "cell_type": "code",
   "execution_count": null,
   "id": "44f35a34",
   "metadata": {
    "ExecuteTime": {
     "end_time": "2021-10-15T17:58:02.812999Z",
     "start_time": "2021-10-15T17:58:02.812990Z"
    }
   },
   "outputs": [],
   "source": [
    "# geemap.ee_export_image_to_drive(landcover1, description='pixel_fix', folder='export', region=patagonia_grande.geometry(), scale=40)"
   ]
  },
  {
   "cell_type": "code",
   "execution_count": null,
   "id": "0ff24163",
   "metadata": {
    "ExecuteTime": {
     "end_time": "2021-10-15T17:58:02.813750Z",
     "start_time": "2021-10-15T17:58:02.813741Z"
    }
   },
   "outputs": [],
   "source": [
    "# geemap.ee_export_image_to_drive(img7, description='mosaico_final', folder='export', region=patagonia_grande.geometry(), scale=40)"
   ]
  },
  {
   "cell_type": "code",
   "execution_count": null,
   "id": "e07b6fa6",
   "metadata": {
    "ExecuteTime": {
     "end_time": "2021-10-15T17:58:02.814566Z",
     "start_time": "2021-10-15T17:58:02.814557Z"
    }
   },
   "outputs": [],
   "source": [
    "# geemap.ee_export_image_to_drive(img6_m_bandas, description='mosaico_final_match', folder='export', region=patagonia_grande.geometry(), scale=40)"
   ]
  },
  {
   "cell_type": "code",
   "execution_count": null,
   "id": "fe80c2a1",
   "metadata": {
    "ExecuteTime": {
     "end_time": "2021-10-15T17:58:02.815318Z",
     "start_time": "2021-10-15T17:58:02.815310Z"
    }
   },
   "outputs": [],
   "source": [
    "# geemap.ee_export_image_to_drive(img5_b, description='mosaico_7bands', folder='export', region=patagonia_grande.geometry(), scale=30)"
   ]
  },
  {
   "cell_type": "code",
   "execution_count": null,
   "id": "66d3b6dc",
   "metadata": {
    "ExecuteTime": {
     "end_time": "2021-10-15T17:58:02.816016Z",
     "start_time": "2021-10-15T17:58:02.816007Z"
    }
   },
   "outputs": [],
   "source": [
    "# geemap.ee_export_image_to_drive(img5_m, description='mosaico_match', folder='export', region=patagonia_grande.geometry(), scale=30)"
   ]
  }
 ],
 "metadata": {
  "kernelspec": {
   "display_name": "Python 3 (ipykernel)",
   "language": "python",
   "name": "python3"
  },
  "language_info": {
   "codemirror_mode": {
    "name": "ipython",
    "version": 3
   },
   "file_extension": ".py",
   "mimetype": "text/x-python",
   "name": "python",
   "nbconvert_exporter": "python",
   "pygments_lexer": "ipython3",
   "version": "3.8.11"
  },
  "toc": {
   "base_numbering": 1,
   "nav_menu": {},
   "number_sections": true,
   "sideBar": true,
   "skip_h1_title": false,
   "title_cell": "Table of Contents",
   "title_sidebar": "Contents",
   "toc_cell": false,
   "toc_position": {
    "height": "calc(100% - 180px)",
    "left": "10px",
    "top": "150px",
    "width": "384px"
   },
   "toc_section_display": true,
   "toc_window_display": true
  },
  "varInspector": {
   "cols": {
    "lenName": 16,
    "lenType": 16,
    "lenVar": 40
   },
   "kernels_config": {
    "python": {
     "delete_cmd_postfix": "",
     "delete_cmd_prefix": "del ",
     "library": "var_list.py",
     "varRefreshCmd": "print(var_dic_list())"
    },
    "r": {
     "delete_cmd_postfix": ") ",
     "delete_cmd_prefix": "rm(",
     "library": "var_list.r",
     "varRefreshCmd": "cat(var_dic_list()) "
    }
   },
   "types_to_exclude": [
    "module",
    "function",
    "builtin_function_or_method",
    "instance",
    "_Feature"
   ],
   "window_display": false
  }
 },
 "nbformat": 4,
 "nbformat_minor": 5
}
