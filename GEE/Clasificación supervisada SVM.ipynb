{
 "cells": [
  {
   "cell_type": "markdown",
   "metadata": {},
   "source": [
    "<table class=\"ee-notebook-buttons\" align=\"left\">\n",
    "    <td><a target=\"_blank\"  href=\"https://github.com/giswqs/geemap/tree/master/examples/template/template.ipynb\"><img width=32px src=\"https://www.tensorflow.org/images/GitHub-Mark-32px.png\" /> View source on GitHub</a></td>\n",
    "    <td><a target=\"_blank\"  href=\"https://nbviewer.jupyter.org/github/giswqs/geemap/blob/master/examples/template/template.ipynb\"><img width=26px src=\"https://upload.wikimedia.org/wikipedia/commons/thumb/3/38/Jupyter_logo.svg/883px-Jupyter_logo.svg.png\" />Notebook Viewer</a></td>\n",
    "    <td><a target=\"_blank\"  href=\"https://colab.research.google.com/github/giswqs/geemap/blob/master/examples/template/template.ipynb\"><img src=\"https://www.tensorflow.org/images/colab_logo_32px.png\" /> Run in Google Colab</a></td>\n",
    "</table>"
   ]
  },
  {
   "cell_type": "markdown",
   "metadata": {},
   "source": [
    "# Clasificación supervisada SVM\n",
    "Script trabajado por Francisco Albornoz (2021-04-13) / Última modificación / Análisis y clasificación supervisada región de Aysen\n",
    "\n",
    "<img src=https://www.ecopaysen.cl/wp-content/uploads/2019/12/ecopaysen_marca_web.png>"
   ]
  },
  {
   "cell_type": "code",
   "execution_count": 1,
   "metadata": {},
   "outputs": [],
   "source": [
    "# Installs geemap package\n",
    "# import subprocess\n",
    "\n",
    "# try:\n",
    "#     import geemap\n",
    "# except ImportError:\n",
    "#     print(\"Installing geemap ...\")\n",
    "#     subprocess.check_call([\"python\", \"-m\", \"pip\", \"install\", \"geemap\"])\n",
    "# !pip install scikit_learn\n"
   ]
  },
  {
   "cell_type": "code",
   "execution_count": 2,
   "metadata": {},
   "outputs": [],
   "source": [
    "import os\n",
    "import ee\n",
    "import geemap\n",
    "import xarray_leaflet\n",
    "import rasterio \n",
    "from rasterio import plot\n",
    "import matplotlib.pyplot as plt\n",
    "import numpy as np\n",
    "%matplotlib inline\n",
    "import pandas as pd"
   ]
  },
  {
   "cell_type": "markdown",
   "metadata": {},
   "source": [
    "## Crear un mapa interactivo \n",
    "The default basemap is `Google Maps`. [Additional basemaps](https://github.com/giswqs/geemap/blob/master/geemap/basemaps.py) can be added using the `Map.add_basemap()` function. "
   ]
  },
  {
   "cell_type": "code",
   "execution_count": 3,
   "metadata": {},
   "outputs": [
    {
     "data": {
      "application/vnd.jupyter.widget-view+json": {
       "model_id": "69a8bf10234f46dbbb21401d2fe7c0b4",
       "version_major": 2,
       "version_minor": 0
      },
      "text/plain": [
       "Map(center=[40, -100], controls=(WidgetControl(options=['position'], widget=HBox(children=(ToggleButton(value=…"
      ]
     },
     "metadata": {},
     "output_type": "display_data"
    }
   ],
   "source": [
    "Map = geemap.Map()\n",
    "Map"
   ]
  },
  {
   "cell_type": "markdown",
   "metadata": {},
   "source": [
    "## Escogemos la imagen landsat "
   ]
  },
  {
   "cell_type": "code",
   "execution_count": 4,
   "metadata": {},
   "outputs": [],
   "source": [
    "centroid = ee.Geometry.Point([-72, -44])\n",
    "\n",
    "landsat = ee.ImageCollection('LANDSAT/LC08/C01/T1_SR') \\\n",
    "    .filterBounds(centroid) \\\n",
    "    .filterDate('2020-01-01', '2021-03-31') \\\n",
    "    .sort('CLOUD_COVER') \\\n",
    "    .first() \\\n",
    "    .select('B[1-7]')\n",
    "\n",
    "landsat_vis = {\n",
    "    'min': 0,\n",
    "    'max': 3000,\n",
    "    'bands': ['B5', 'B4', 'B3']\n",
    "}\n",
    "\n",
    "Map.centerObject(centroid, 8)\n",
    "Map.addLayer(landsat, landsat_vis, \"Landsat-8\")\n"
   ]
  },
  {
   "cell_type": "markdown",
   "metadata": {},
   "source": [
    "## Importar rasters locales "
   ]
  },
  {
   "cell_type": "code",
   "execution_count": 5,
   "metadata": {},
   "outputs": [
    {
     "data": {
      "text/plain": [
       "'/mnt/c/users/usuario/Documents/GitHub/VitoAlbornoz/GEE'"
      ]
     },
     "execution_count": 5,
     "metadata": {},
     "output_type": "execute_result"
    }
   ],
   "source": [
    "%pwd"
   ]
  },
  {
   "cell_type": "code",
   "execution_count": 6,
   "metadata": {},
   "outputs": [],
   "source": [
    "# verificar en el sistema del pc cual es la ruta\n",
    "# os.path.expanduser('/mnt/c/Users/R7 3700X/Documents/GitHub/VitoAlbornoz/') "
   ]
  },
  {
   "cell_type": "code",
   "execution_count": 7,
   "metadata": {},
   "outputs": [],
   "source": [
    "# verificar en el sistema del pc cual es la ruta\n",
    "out_dir = os.path.join(os.path.expanduser('/mnt/c/Users/Usuario/Documents/GitHub/VitoAlbornoz/'), 'Data')\n",
    "if not os.path.exists(out_dir):\n",
    "    os.makedirs(out_dir)\n",
    "\n",
    "raster_aysen = os.path.join(out_dir, 'landcover_2018_aysen.tif')"
   ]
  },
  {
   "cell_type": "code",
   "execution_count": 8,
   "metadata": {},
   "outputs": [
    {
     "data": {
      "text/plain": [
       "'/mnt/c/Users/Usuario/Documents/GitHub/VitoAlbornoz/Data'"
      ]
     },
     "execution_count": 8,
     "metadata": {},
     "output_type": "execute_result"
    }
   ],
   "source": [
    "out_dir"
   ]
  },
  {
   "cell_type": "code",
   "execution_count": 9,
   "metadata": {},
   "outputs": [
    {
     "data": {
      "text/plain": [
       "'/mnt/c/Users/Usuario/Documents/GitHub/VitoAlbornoz/Data/landcover_2018_aysen.tif'"
      ]
     },
     "execution_count": 9,
     "metadata": {},
     "output_type": "execute_result"
    }
   ],
   "source": [
    "raster_aysen"
   ]
  },
  {
   "cell_type": "code",
   "execution_count": 10,
   "metadata": {},
   "outputs": [
    {
     "data": {
      "application/vnd.jupyter.widget-view+json": {
       "model_id": "69a8bf10234f46dbbb21401d2fe7c0b4",
       "version_major": 2,
       "version_minor": 0
      },
      "text/plain": [
       "Map(center=[-44, -72], controls=(WidgetControl(options=['position'], widget=HBox(children=(ToggleButton(value=…"
      ]
     },
     "metadata": {},
     "output_type": "display_data"
    }
   ],
   "source": [
    "Map.add_raster(raster_aysen, colormap= 'terrain', layer_name='Landcover 2018')\n",
    "Map"
   ]
  },
  {
   "cell_type": "code",
   "execution_count": 11,
   "metadata": {},
   "outputs": [
    {
     "data": {
      "text/plain": [
       "<ee.image.Image at 0x7f23ab36d130>"
      ]
     },
     "execution_count": 11,
     "metadata": {},
     "output_type": "execute_result"
    }
   ],
   "source": [
    "landcover = ee.Image(\"users/franciscoalbornoz/landcover_sur\")\n",
    "landcover"
   ]
  },
  {
   "cell_type": "code",
   "execution_count": 12,
   "metadata": {},
   "outputs": [],
   "source": [
    "raster = rasterio.open(out_dir+'/landcover_2018_aysen.tif')"
   ]
  },
  {
   "cell_type": "code",
   "execution_count": 13,
   "metadata": {},
   "outputs": [
    {
     "data": {
      "text/plain": [
       "BoundingBox(left=-73.169644655, bottom=-46.394042378, right=-70.719691266, top=-43.705745621)"
      ]
     },
     "execution_count": 13,
     "metadata": {},
     "output_type": "execute_result"
    }
   ],
   "source": [
    "raster.bounds"
   ]
  },
  {
   "cell_type": "code",
   "execution_count": 14,
   "metadata": {},
   "outputs": [
    {
     "data": {
      "text/plain": [
       "CRS.from_epsg(4326)"
      ]
     },
     "execution_count": 14,
     "metadata": {},
     "output_type": "execute_result"
    }
   ],
   "source": [
    "raster.crs"
   ]
  },
  {
   "cell_type": "code",
   "execution_count": 15,
   "metadata": {},
   "outputs": [
    {
     "data": {
      "text/plain": [
       "<open DatasetReader name='/mnt/c/Users/Usuario/Documents/GitHub/VitoAlbornoz/Data/landcover_2018_aysen.tif' mode='r'>"
      ]
     },
     "execution_count": 15,
     "metadata": {},
     "output_type": "execute_result"
    }
   ],
   "source": [
    "raster"
   ]
  },
  {
   "cell_type": "code",
   "execution_count": 16,
   "metadata": {},
   "outputs": [
    {
     "data": {
      "application/vnd.jupyter.widget-view+json": {
       "model_id": "69a8bf10234f46dbbb21401d2fe7c0b4",
       "version_major": 2,
       "version_minor": 0
      },
      "text/plain": [
       "Map(center=[-44, -72], controls=(WidgetControl(options=['position'], widget=HBox(children=(ToggleButton(value=…"
      ]
     },
     "metadata": {},
     "output_type": "display_data"
    }
   ],
   "source": [
    "mosaico = ee.Image(\"users/franciscoalbornoz/Mosaico_2018\")\n",
    "clasificacion_2018 = ee.Image(\"users/franciscoalbornoz/clasificacion_2018\")\n",
    "\n",
    "landsat_vis = {\n",
    "    'min': 0,\n",
    "    'max': 1,\n",
    "    'bands': ['b5', 'b4', 'b3']\n",
    "}\n",
    "Map.addLayer(mosaico, landsat_vis, \"Landsat-8-2018\")\n",
    "Map.addLayer(clasificacion_2018.randomVisualizer(), {}, \"clasificación 2018\")\n",
    "\n",
    "Map"
   ]
  },
  {
   "cell_type": "markdown",
   "metadata": {},
   "source": [
    "## Obteniendo los valores para el Training Datasets"
   ]
  },
  {
   "cell_type": "code",
   "execution_count": 17,
   "metadata": {},
   "outputs": [],
   "source": [
    "work_dir = os.path.expanduser('../Data/shapes/')\n",
    "achaparrado_shp = os.path.join(work_dir, 'achaparrado_2018_2210_grande.shp')\n",
    "agricolas_shp = os.path.join(work_dir, 'agricolas_2018_2610_grande.shp')\n",
    "agua_shp = os.path.join(work_dir, 'agua_2018_0310_grande.shp')\n",
    "arenalroca_shp = os.path.join(work_dir, 'arenal_roca_2018_0310_grande.shp')\n",
    "bosquedegradado_shp = os.path.join(work_dir, 'bosques_degradados_2018_22112018.shp')\n",
    "cuncuna_shp = os.path.join(work_dir, 'cuncunas_2018_2210_grande.shp')\n",
    "estepa_shp = os.path.join(work_dir, 'estepa_2018_0310_grande.shp')\n",
    "humedal_shp = os.path.join(work_dir, 'humedal_agua_2018_0310_grande.shp')\n",
    "mallin_shp = os.path.join(work_dir, 'mallin_2018_0510_grande.shp')\n",
    "matorralabierto_shp = os.path.join(work_dir, 'matorrales_abiertos_2018_22102018.shp')\n",
    "matorraldenso_shp = os.path.join(work_dir, 'matorrales_densos_2018_22102018.shp')\n",
    "plantacion1_shp = os.path.join(work_dir, 'plantaciones_2018_0310_grande.shp')\n",
    "plantacion2_shp = os.path.join(work_dir, 'plantaciones_2018_23112018_grande.shp')\n",
    "plantacion3_shp = os.path.join(work_dir, 'plantaciones_2018_26112018_grande.shp')\n",
    "pradera_shp = os.path.join(work_dir, 'praderas_2018_0310_grande.shp')\n",
    "primario_shp = os.path.join(work_dir, 'primario_2018_0310_grande.shp')\n",
    "secundario_shp = os.path.join(work_dir, 'secundario_2018_0310_grande.shp')\n",
    "sombra_shp = os.path.join(work_dir, 'sombras_topograficas_2018_0310_grande.shp')\n",
    "suelo_shp = os.path.join(work_dir, 'suelo_desnudo_agricola_2018_0310_grande.shp')\n",
    "merged_shp = os.path.join(work_dir, 'roi_merged.shp')"
   ]
  },
  {
   "cell_type": "code",
   "execution_count": 18,
   "metadata": {},
   "outputs": [],
   "source": [
    "merged =geemap.shp_to_ee(merged_shp)\n",
    "Map.addLayer(merged, {}, 'Áreas de entrenamiento')"
   ]
  },
  {
   "cell_type": "code",
   "execution_count": 19,
   "metadata": {},
   "outputs": [],
   "source": [
    "dataset = mosaico.sampleRegions(**{\n",
    "    'collection': merged,\n",
    "    'properties': ['ID'],\n",
    "    'scale' : 30 ,\n",
    "})"
   ]
  },
  {
   "cell_type": "code",
   "execution_count": 20,
   "metadata": {},
   "outputs": [
    {
     "name": "stdout",
     "output_type": "stream",
     "text": [
      "14254\n"
     ]
    }
   ],
   "source": [
    "print(dataset.size().getInfo())"
   ]
  },
  {
   "cell_type": "code",
   "execution_count": 21,
   "metadata": {},
   "outputs": [
    {
     "data": {
      "text/plain": [
       "<ee.ee_list.List at 0x7f23ab37dcd0>"
      ]
     },
     "execution_count": 21,
     "metadata": {},
     "output_type": "execute_result"
    }
   ],
   "source": [
    "dataset.propertyNames()"
   ]
  },
  {
   "cell_type": "code",
   "execution_count": 22,
   "metadata": {},
   "outputs": [
    {
     "name": "stdout",
     "output_type": "stream",
     "text": [
      "{'type': 'Feature', 'geometry': None, 'id': '0_0', 'properties': {'ID': 1, 'b1': 0.026168961077928543, 'b2': 0.04253531992435455, 'b3': 0.03470490872859955, 'b4': 0.33766427636146545, 'b5': 0.1495322287082672, 'b6': 0.06873124837875366, 'b7': 0.8135994672775269, 'b8': 0.7762474417686462, 'b9': 0.5209251642227173}}\n"
     ]
    }
   ],
   "source": [
    "print(dataset.first().getInfo())"
   ]
  },
  {
   "cell_type": "code",
   "execution_count": 24,
   "metadata": {},
   "outputs": [],
   "source": [
    "out_csv = os.path.join(out_dir, 'Dataset_1.csv')\n",
    "# geemap.extract_values_to_points(merged, mosaico, out_csv)"
   ]
  },
  {
   "cell_type": "code",
   "execution_count": 25,
   "metadata": {},
   "outputs": [],
   "source": [
    "df = pd.read_csv(out_csv)"
   ]
  },
  {
   "cell_type": "code",
   "execution_count": 26,
   "metadata": {},
   "outputs": [
    {
     "data": {
      "text/html": [
       "<div>\n",
       "<style scoped>\n",
       "    .dataframe tbody tr th:only-of-type {\n",
       "        vertical-align: middle;\n",
       "    }\n",
       "\n",
       "    .dataframe tbody tr th {\n",
       "        vertical-align: top;\n",
       "    }\n",
       "\n",
       "    .dataframe thead th {\n",
       "        text-align: right;\n",
       "    }\n",
       "</style>\n",
       "<table border=\"1\" class=\"dataframe\">\n",
       "  <thead>\n",
       "    <tr style=\"text-align: right;\">\n",
       "      <th></th>\n",
       "      <th>path</th>\n",
       "      <th>RF</th>\n",
       "      <th>CLASS_CLRS</th>\n",
       "      <th>FILL_CLASS</th>\n",
       "      <th>POLY_TYPE</th>\n",
       "      <th>ID</th>\n",
       "      <th>CLASS_ID</th>\n",
       "      <th>CLASS_NAME</th>\n",
       "      <th>layer</th>\n",
       "      <th>b2</th>\n",
       "      <th>b3</th>\n",
       "      <th>b4</th>\n",
       "      <th>b5</th>\n",
       "      <th>b6</th>\n",
       "      <th>b7</th>\n",
       "      <th>b8</th>\n",
       "      <th>b9</th>\n",
       "      <th>system:index</th>\n",
       "      <th>b1</th>\n",
       "    </tr>\n",
       "  </thead>\n",
       "  <tbody>\n",
       "    <tr>\n",
       "      <th>0</th>\n",
       "      <td>E:/Carpeta de Trabajo (Fco)/Datos para github/...</td>\n",
       "      <td>ACHAPARRADO</td>\n",
       "      <td>0,205,0</td>\n",
       "      <td>1</td>\n",
       "      <td>5</td>\n",
       "      <td>1</td>\n",
       "      <td>0</td>\n",
       "      <td>ACHAPARRAD</td>\n",
       "      <td>achaparrado_2018_2210_grande</td>\n",
       "      <td>0.042535</td>\n",
       "      <td>0.034705</td>\n",
       "      <td>0.337664</td>\n",
       "      <td>0.149532</td>\n",
       "      <td>0.068731</td>\n",
       "      <td>0.813599</td>\n",
       "      <td>0.776247</td>\n",
       "      <td>0.520925</td>\n",
       "      <td>0_0</td>\n",
       "      <td>0.026169</td>\n",
       "    </tr>\n",
       "    <tr>\n",
       "      <th>1</th>\n",
       "      <td>E:/Carpeta de Trabajo (Fco)/Datos para github/...</td>\n",
       "      <td>ACHAPARRADO</td>\n",
       "      <td>0,205,0</td>\n",
       "      <td>1</td>\n",
       "      <td>5</td>\n",
       "      <td>1</td>\n",
       "      <td>0</td>\n",
       "      <td>ACHAPARRAD</td>\n",
       "      <td>achaparrado_2018_2210_grande</td>\n",
       "      <td>0.039025</td>\n",
       "      <td>0.030058</td>\n",
       "      <td>0.313210</td>\n",
       "      <td>0.130905</td>\n",
       "      <td>0.061290</td>\n",
       "      <td>0.824872</td>\n",
       "      <td>0.778417</td>\n",
       "      <td>0.503669</td>\n",
       "      <td>0_1</td>\n",
       "      <td>0.024665</td>\n",
       "    </tr>\n",
       "    <tr>\n",
       "      <th>2</th>\n",
       "      <td>E:/Carpeta de Trabajo (Fco)/Datos para github/...</td>\n",
       "      <td>ACHAPARRADO</td>\n",
       "      <td>0,205,0</td>\n",
       "      <td>1</td>\n",
       "      <td>5</td>\n",
       "      <td>1</td>\n",
       "      <td>0</td>\n",
       "      <td>ACHAPARRAD</td>\n",
       "      <td>achaparrado_2018_2210_grande</td>\n",
       "      <td>0.034077</td>\n",
       "      <td>0.025750</td>\n",
       "      <td>0.324303</td>\n",
       "      <td>0.129287</td>\n",
       "      <td>0.055219</td>\n",
       "      <td>0.852881</td>\n",
       "      <td>0.809826</td>\n",
       "      <td>0.526826</td>\n",
       "      <td>0_2</td>\n",
       "      <td>0.018188</td>\n",
       "    </tr>\n",
       "    <tr>\n",
       "      <th>3</th>\n",
       "      <td>E:/Carpeta de Trabajo (Fco)/Datos para github/...</td>\n",
       "      <td>ACHAPARRADO</td>\n",
       "      <td>0,205,0</td>\n",
       "      <td>1</td>\n",
       "      <td>5</td>\n",
       "      <td>1</td>\n",
       "      <td>0</td>\n",
       "      <td>ACHAPARRAD</td>\n",
       "      <td>achaparrado_2018_2210_grande</td>\n",
       "      <td>0.038736</td>\n",
       "      <td>0.027363</td>\n",
       "      <td>0.350001</td>\n",
       "      <td>0.148841</td>\n",
       "      <td>0.065440</td>\n",
       "      <td>0.854979</td>\n",
       "      <td>0.800706</td>\n",
       "      <td>0.551604</td>\n",
       "      <td>0_3</td>\n",
       "      <td>0.022684</td>\n",
       "    </tr>\n",
       "    <tr>\n",
       "      <th>4</th>\n",
       "      <td>E:/Carpeta de Trabajo (Fco)/Datos para github/...</td>\n",
       "      <td>ACHAPARRADO</td>\n",
       "      <td>0,205,0</td>\n",
       "      <td>1</td>\n",
       "      <td>5</td>\n",
       "      <td>1</td>\n",
       "      <td>0</td>\n",
       "      <td>ACHAPARRAD</td>\n",
       "      <td>achaparrado_2018_2210_grande</td>\n",
       "      <td>0.036138</td>\n",
       "      <td>0.026296</td>\n",
       "      <td>0.328300</td>\n",
       "      <td>0.131833</td>\n",
       "      <td>0.057624</td>\n",
       "      <td>0.851684</td>\n",
       "      <td>0.801680</td>\n",
       "      <td>0.530082</td>\n",
       "      <td>0_4</td>\n",
       "      <td>0.021386</td>\n",
       "    </tr>\n",
       "    <tr>\n",
       "      <th>...</th>\n",
       "      <td>...</td>\n",
       "      <td>...</td>\n",
       "      <td>...</td>\n",
       "      <td>...</td>\n",
       "      <td>...</td>\n",
       "      <td>...</td>\n",
       "      <td>...</td>\n",
       "      <td>...</td>\n",
       "      <td>...</td>\n",
       "      <td>...</td>\n",
       "      <td>...</td>\n",
       "      <td>...</td>\n",
       "      <td>...</td>\n",
       "      <td>...</td>\n",
       "      <td>...</td>\n",
       "      <td>...</td>\n",
       "      <td>...</td>\n",
       "      <td>...</td>\n",
       "      <td>...</td>\n",
       "    </tr>\n",
       "    <tr>\n",
       "      <th>14249</th>\n",
       "      <td>E:/Carpeta de Trabajo (Fco)/Datos para github/...</td>\n",
       "      <td>SUELO DES</td>\n",
       "      <td>255,255,0</td>\n",
       "      <td>1</td>\n",
       "      <td>5</td>\n",
       "      <td>18</td>\n",
       "      <td>4</td>\n",
       "      <td>BARBECHO3</td>\n",
       "      <td>suelo_desnudo_agricola_2018_0310_grande</td>\n",
       "      <td>0.061346</td>\n",
       "      <td>0.058328</td>\n",
       "      <td>0.325896</td>\n",
       "      <td>0.180328</td>\n",
       "      <td>0.089545</td>\n",
       "      <td>0.696385</td>\n",
       "      <td>0.683163</td>\n",
       "      <td>0.453903</td>\n",
       "      <td>954_15</td>\n",
       "      <td>0.028166</td>\n",
       "    </tr>\n",
       "    <tr>\n",
       "      <th>14250</th>\n",
       "      <td>E:/Carpeta de Trabajo (Fco)/Datos para github/...</td>\n",
       "      <td>SUELO DES</td>\n",
       "      <td>255,255,0</td>\n",
       "      <td>1</td>\n",
       "      <td>5</td>\n",
       "      <td>18</td>\n",
       "      <td>4</td>\n",
       "      <td>BARBECHO3</td>\n",
       "      <td>suelo_desnudo_agricola_2018_0310_grande</td>\n",
       "      <td>0.065845</td>\n",
       "      <td>0.065742</td>\n",
       "      <td>0.318638</td>\n",
       "      <td>0.191173</td>\n",
       "      <td>0.096099</td>\n",
       "      <td>0.657933</td>\n",
       "      <td>0.657487</td>\n",
       "      <td>0.428938</td>\n",
       "      <td>954_16</td>\n",
       "      <td>0.032137</td>\n",
       "    </tr>\n",
       "    <tr>\n",
       "      <th>14251</th>\n",
       "      <td>E:/Carpeta de Trabajo (Fco)/Datos para github/...</td>\n",
       "      <td>SUELO DES</td>\n",
       "      <td>255,255,0</td>\n",
       "      <td>1</td>\n",
       "      <td>5</td>\n",
       "      <td>18</td>\n",
       "      <td>4</td>\n",
       "      <td>BARBECHO3</td>\n",
       "      <td>suelo_desnudo_agricola_2018_0310_grande</td>\n",
       "      <td>0.067506</td>\n",
       "      <td>0.066192</td>\n",
       "      <td>0.318410</td>\n",
       "      <td>0.193196</td>\n",
       "      <td>0.096287</td>\n",
       "      <td>0.655789</td>\n",
       "      <td>0.650152</td>\n",
       "      <td>0.427680</td>\n",
       "      <td>954_17</td>\n",
       "      <td>0.031339</td>\n",
       "    </tr>\n",
       "    <tr>\n",
       "      <th>14252</th>\n",
       "      <td>E:/Carpeta de Trabajo (Fco)/Datos para github/...</td>\n",
       "      <td>SUELO DES</td>\n",
       "      <td>255,255,0</td>\n",
       "      <td>1</td>\n",
       "      <td>5</td>\n",
       "      <td>18</td>\n",
       "      <td>4</td>\n",
       "      <td>BARBECHO3</td>\n",
       "      <td>suelo_desnudo_agricola_2018_0310_grande</td>\n",
       "      <td>0.068516</td>\n",
       "      <td>0.067344</td>\n",
       "      <td>0.329149</td>\n",
       "      <td>0.199751</td>\n",
       "      <td>0.098366</td>\n",
       "      <td>0.660301</td>\n",
       "      <td>0.655408</td>\n",
       "      <td>0.438048</td>\n",
       "      <td>954_18</td>\n",
       "      <td>0.032496</td>\n",
       "    </tr>\n",
       "    <tr>\n",
       "      <th>14253</th>\n",
       "      <td>E:/Carpeta de Trabajo (Fco)/Datos para github/...</td>\n",
       "      <td>SUELO DES</td>\n",
       "      <td>255,255,0</td>\n",
       "      <td>1</td>\n",
       "      <td>5</td>\n",
       "      <td>18</td>\n",
       "      <td>4</td>\n",
       "      <td>BARBECHO3</td>\n",
       "      <td>suelo_desnudo_agricola_2018_0310_grande</td>\n",
       "      <td>0.068183</td>\n",
       "      <td>0.068066</td>\n",
       "      <td>0.326440</td>\n",
       "      <td>0.199169</td>\n",
       "      <td>0.098234</td>\n",
       "      <td>0.654931</td>\n",
       "      <td>0.654439</td>\n",
       "      <td>0.433269</td>\n",
       "      <td>954_19</td>\n",
       "      <td>0.032445</td>\n",
       "    </tr>\n",
       "  </tbody>\n",
       "</table>\n",
       "<p>14254 rows × 19 columns</p>\n",
       "</div>"
      ],
      "text/plain": [
       "                                                    path           RF  \\\n",
       "0      E:/Carpeta de Trabajo (Fco)/Datos para github/...  ACHAPARRADO   \n",
       "1      E:/Carpeta de Trabajo (Fco)/Datos para github/...  ACHAPARRADO   \n",
       "2      E:/Carpeta de Trabajo (Fco)/Datos para github/...  ACHAPARRADO   \n",
       "3      E:/Carpeta de Trabajo (Fco)/Datos para github/...  ACHAPARRADO   \n",
       "4      E:/Carpeta de Trabajo (Fco)/Datos para github/...  ACHAPARRADO   \n",
       "...                                                  ...          ...   \n",
       "14249  E:/Carpeta de Trabajo (Fco)/Datos para github/...    SUELO DES   \n",
       "14250  E:/Carpeta de Trabajo (Fco)/Datos para github/...    SUELO DES   \n",
       "14251  E:/Carpeta de Trabajo (Fco)/Datos para github/...    SUELO DES   \n",
       "14252  E:/Carpeta de Trabajo (Fco)/Datos para github/...    SUELO DES   \n",
       "14253  E:/Carpeta de Trabajo (Fco)/Datos para github/...    SUELO DES   \n",
       "\n",
       "      CLASS_CLRS  FILL_CLASS  POLY_TYPE  ID  CLASS_ID  CLASS_NAME  \\\n",
       "0        0,205,0           1          5   1         0  ACHAPARRAD   \n",
       "1        0,205,0           1          5   1         0  ACHAPARRAD   \n",
       "2        0,205,0           1          5   1         0  ACHAPARRAD   \n",
       "3        0,205,0           1          5   1         0  ACHAPARRAD   \n",
       "4        0,205,0           1          5   1         0  ACHAPARRAD   \n",
       "...          ...         ...        ...  ..       ...         ...   \n",
       "14249  255,255,0           1          5  18         4   BARBECHO3   \n",
       "14250  255,255,0           1          5  18         4   BARBECHO3   \n",
       "14251  255,255,0           1          5  18         4   BARBECHO3   \n",
       "14252  255,255,0           1          5  18         4   BARBECHO3   \n",
       "14253  255,255,0           1          5  18         4   BARBECHO3   \n",
       "\n",
       "                                         layer        b2        b3        b4  \\\n",
       "0                 achaparrado_2018_2210_grande  0.042535  0.034705  0.337664   \n",
       "1                 achaparrado_2018_2210_grande  0.039025  0.030058  0.313210   \n",
       "2                 achaparrado_2018_2210_grande  0.034077  0.025750  0.324303   \n",
       "3                 achaparrado_2018_2210_grande  0.038736  0.027363  0.350001   \n",
       "4                 achaparrado_2018_2210_grande  0.036138  0.026296  0.328300   \n",
       "...                                        ...       ...       ...       ...   \n",
       "14249  suelo_desnudo_agricola_2018_0310_grande  0.061346  0.058328  0.325896   \n",
       "14250  suelo_desnudo_agricola_2018_0310_grande  0.065845  0.065742  0.318638   \n",
       "14251  suelo_desnudo_agricola_2018_0310_grande  0.067506  0.066192  0.318410   \n",
       "14252  suelo_desnudo_agricola_2018_0310_grande  0.068516  0.067344  0.329149   \n",
       "14253  suelo_desnudo_agricola_2018_0310_grande  0.068183  0.068066  0.326440   \n",
       "\n",
       "             b5        b6        b7        b8        b9 system:index        b1  \n",
       "0      0.149532  0.068731  0.813599  0.776247  0.520925          0_0  0.026169  \n",
       "1      0.130905  0.061290  0.824872  0.778417  0.503669          0_1  0.024665  \n",
       "2      0.129287  0.055219  0.852881  0.809826  0.526826          0_2  0.018188  \n",
       "3      0.148841  0.065440  0.854979  0.800706  0.551604          0_3  0.022684  \n",
       "4      0.131833  0.057624  0.851684  0.801680  0.530082          0_4  0.021386  \n",
       "...         ...       ...       ...       ...       ...          ...       ...  \n",
       "14249  0.180328  0.089545  0.696385  0.683163  0.453903       954_15  0.028166  \n",
       "14250  0.191173  0.096099  0.657933  0.657487  0.428938       954_16  0.032137  \n",
       "14251  0.193196  0.096287  0.655789  0.650152  0.427680       954_17  0.031339  \n",
       "14252  0.199751  0.098366  0.660301  0.655408  0.438048       954_18  0.032496  \n",
       "14253  0.199169  0.098234  0.654931  0.654439  0.433269       954_19  0.032445  \n",
       "\n",
       "[14254 rows x 19 columns]"
      ]
     },
     "execution_count": 26,
     "metadata": {},
     "output_type": "execute_result"
    }
   ],
   "source": [
    "df"
   ]
  },
  {
   "cell_type": "markdown",
   "metadata": {},
   "source": [
    "### Dividiendo en muestras y datos de validación"
   ]
  },
  {
   "cell_type": "code",
   "execution_count": 27,
   "metadata": {},
   "outputs": [],
   "source": [
    "# Guardamos las bandas\n",
    "bands = ['b1', 'b2', 'b3', 'b4', 'b5', 'b6', 'b7', 'b8', 'b9']\n",
    "\n",
    "# Esta propiedad guarda las clases de landcover\n",
    "label = 'ID'\n",
    "\n",
    "# Overlay the points on the imagery to get training.\n",
    "# sample = landsat.select(bands).sampleRegions(**{\n",
    "#   'collection': points,\n",
    "#   'properties': [label],\n",
    "#   'scale': 30\n",
    "# })\n",
    "\n",
    "# Adds a column of deterministic pseudorandom numbers. \n",
    "sample = dataset.randomColumn()\n",
    "\n",
    "split = 0.7 \n",
    "\n",
    "training = sample.filter(ee.Filter.lt('random', split))\n",
    "validation = sample.filter(ee.Filter.gte('random', split))"
   ]
  },
  {
   "cell_type": "code",
   "execution_count": 28,
   "metadata": {},
   "outputs": [
    {
     "data": {
      "text/plain": [
       "{'type': 'Feature',\n",
       " 'geometry': None,\n",
       " 'id': '0_1',\n",
       " 'properties': {'ID': 1,\n",
       "  'b1': 0.02466532774269581,\n",
       "  'b2': 0.03902462124824524,\n",
       "  'b3': 0.03005797602236271,\n",
       "  'b4': 0.31321027874946594,\n",
       "  'b5': 0.13090473413467407,\n",
       "  'b6': 0.061290204524993896,\n",
       "  'b7': 0.8248717784881592,\n",
       "  'b8': 0.7784170508384705,\n",
       "  'b9': 0.5036694407463074,\n",
       "  'random': 0.16340030157546792}}"
      ]
     },
     "execution_count": 28,
     "metadata": {},
     "output_type": "execute_result"
    }
   ],
   "source": [
    "training.first().getInfo()"
   ]
  },
  {
   "cell_type": "code",
   "execution_count": 29,
   "metadata": {},
   "outputs": [
    {
     "data": {
      "text/plain": [
       "{'type': 'Feature',\n",
       " 'geometry': None,\n",
       " 'id': '0_0',\n",
       " 'properties': {'ID': 1,\n",
       "  'b1': 0.026168961077928543,\n",
       "  'b2': 0.04253531992435455,\n",
       "  'b3': 0.03470490872859955,\n",
       "  'b4': 0.33766427636146545,\n",
       "  'b5': 0.1495322287082672,\n",
       "  'b6': 0.06873124837875366,\n",
       "  'b7': 0.8135994672775269,\n",
       "  'b8': 0.7762474417686462,\n",
       "  'b9': 0.5209251642227173,\n",
       "  'random': 0.9956806624347441}}"
      ]
     },
     "execution_count": 29,
     "metadata": {},
     "output_type": "execute_result"
    }
   ],
   "source": [
    "validation.first().getInfo()"
   ]
  },
  {
   "cell_type": "markdown",
   "metadata": {},
   "source": [
    "## Entrenando el modelo "
   ]
  },
  {
   "cell_type": "code",
   "execution_count": null,
   "metadata": {},
   "outputs": [],
   "source": [
    "from sklearn import svm\n",
    "from sklearn import ensemble"
   ]
  },
  {
   "cell_type": "code",
   "execution_count": 30,
   "metadata": {},
   "outputs": [],
   "source": [
    "feature_names = ['b1', 'b2', 'b3', 'b4', 'b5', 'b6', 'b7', 'b8', 'b9']\n",
    "label = \"ID\""
   ]
  },
  {
   "cell_type": "code",
   "execution_count": null,
   "metadata": {},
   "outputs": [],
   "source": [
    "# X = df[feature_names]\n",
    "# y= df[label]"
   ]
  },
  {
   "cell_type": "code",
   "execution_count": 31,
   "metadata": {},
   "outputs": [],
   "source": [
    "classifi = ee.Classifier.libsvm('Voting','C_SVC','RBF', gamma = 0.5 , cost = 10 )"
   ]
  },
  {
   "cell_type": "code",
   "execution_count": null,
   "metadata": {},
   "outputs": [],
   "source": [
    "# clf =svm.SVC()\n",
    "# clf.fit(X, y)"
   ]
  },
  {
   "cell_type": "code",
   "execution_count": 32,
   "metadata": {},
   "outputs": [],
   "source": [
    "trained = classifi.train(sample, label, bands)\n",
    "classified = mosaico.classify(trained)"
   ]
  },
  {
   "cell_type": "code",
   "execution_count": 33,
   "metadata": {},
   "outputs": [
    {
     "data": {
      "text/plain": [
       "<ee.Classifier at 0x7f241039a4f0>"
      ]
     },
     "execution_count": 33,
     "metadata": {},
     "output_type": "execute_result"
    }
   ],
   "source": [
    "trained"
   ]
  },
  {
   "cell_type": "code",
   "execution_count": 34,
   "metadata": {},
   "outputs": [
    {
     "data": {
      "text/plain": [
       "<ee.image.Image at 0x7f241039a760>"
      ]
     },
     "execution_count": 34,
     "metadata": {},
     "output_type": "execute_result"
    }
   ],
   "source": [
    "classified"
   ]
  },
  {
   "cell_type": "markdown",
   "metadata": {},
   "source": [
    "### Clasificando la imagen"
   ]
  },
  {
   "cell_type": "code",
   "execution_count": 35,
   "metadata": {},
   "outputs": [],
   "source": [
    "class_values = [1,2,3,4,5,6,7,8,9,10,11,12,13,14,15,16,17,18\n",
    "    ]\n",
    "class_palette = ['22c129',\n",
    " 'f0ff00',\n",
    " '0c40f1',\n",
    " '685205',\n",
    " '0d4404',\n",
    " 'e82d13',\n",
    " 'f99504',\n",
    " '17d4c6',\n",
    " '1c6330',\n",
    " '24ff00',\n",
    " '2de50f',\n",
    " 'ccba7d',\n",
    " 'dec61a',\n",
    " '28d909',\n",
    " '03c2ff',\n",
    " '4e8c44',\n",
    " 'fdfdfd',\n",
    " 'c0c233'\n",
    "]"
   ]
  },
  {
   "cell_type": "code",
   "execution_count": 36,
   "metadata": {},
   "outputs": [],
   "source": [
    "land = classified.set('classification_class_values', class_values)\n",
    "landcoverf = land.set('classification_class_palette', class_palette)"
   ]
  },
  {
   "cell_type": "code",
   "execution_count": 37,
   "metadata": {},
   "outputs": [
    {
     "data": {
      "application/vnd.jupyter.widget-view+json": {
       "model_id": "69a8bf10234f46dbbb21401d2fe7c0b4",
       "version_major": 2,
       "version_minor": 0
      },
      "text/plain": [
       "Map(bottom=10794.0, center=[-45.05024026979461, -71.94396972656251], controls=(WidgetControl(options=['positio…"
      ]
     },
     "metadata": {},
     "output_type": "display_data"
    }
   ],
   "source": [
    "Map.addLayer(landcoverf, {}, 'Land cover SVM')\n",
    "Map"
   ]
  },
  {
   "cell_type": "code",
   "execution_count": null,
   "metadata": {},
   "outputs": [],
   "source": [
    "# land = classified.set('classification_class_values', class_values)\n",
    "# landcoverf = land.set('classification_class_palette', class_palette)"
   ]
  },
  {
   "cell_type": "code",
   "execution_count": null,
   "metadata": {},
   "outputs": [],
   "source": [
    "# Map.addLayer(landcoverf, {}, 'Land cover simle Cart')\n",
    "# Map"
   ]
  },
  {
   "cell_type": "markdown",
   "metadata": {},
   "source": [
    "### Categorizando según las clases "
   ]
  },
  {
   "cell_type": "code",
   "execution_count": null,
   "metadata": {},
   "outputs": [],
   "source": [
    "# landcover.getInfo()"
   ]
  },
  {
   "cell_type": "code",
   "execution_count": null,
   "metadata": {},
   "outputs": [],
   "source": [
    "# class_values = [1,\n",
    "#  2,\n",
    "#  3,\n",
    "#  4,\n",
    "#  5,\n",
    "#  6,\n",
    "#  7,\n",
    "#  8,\n",
    "#  9,\n",
    "#  10,\n",
    "#  11,\n",
    "#  12,\n",
    "#  13,\n",
    "#  14,\n",
    "#  15,\n",
    "#  16]"
   ]
  },
  {
   "cell_type": "code",
   "execution_count": null,
   "metadata": {},
   "outputs": [],
   "source": [
    "# class_palette = ['476ba1',\n",
    "#  'd1defa',\n",
    "#  'decaca',\n",
    "#  'd99482',\n",
    "#  'ee0000',\n",
    "#  'ab0000',\n",
    "#  'b3aea3',\n",
    "#  '68ab63',\n",
    "#  '1c6330',\n",
    "#  'b5ca8f',\n",
    "#  'a68c30',\n",
    "#  'ccba7d',\n",
    "#  'e3e3c2',\n",
    "#  'caca78',\n",
    "#  '99c247',\n",
    "#  '78ae94']\n"
   ]
  },
  {
   "cell_type": "code",
   "execution_count": null,
   "metadata": {},
   "outputs": [],
   "source": [
    "# landcoverf = result.set('classification_class_values', class_values)\n",
    "# landcoverf = landcoverf.set('classification_class_palette', class_palette)"
   ]
  },
  {
   "cell_type": "code",
   "execution_count": null,
   "metadata": {},
   "outputs": [],
   "source": [
    "# Map.addLayer(landcoverf, {}, 'Land cover clasificado' )\n",
    "# Map"
   ]
  },
  {
   "cell_type": "markdown",
   "metadata": {},
   "source": [
    "### Visualizando el resultado\n"
   ]
  },
  {
   "cell_type": "code",
   "execution_count": null,
   "metadata": {},
   "outputs": [],
   "source": [
    "print('Change layer opacity:')\n",
    "cluster_layer = Map.layers[-1]\n",
    "cluster_layer.interact(opacity=(0, 1, 0.1))\n"
   ]
  },
  {
   "cell_type": "code",
   "execution_count": null,
   "metadata": {},
   "outputs": [],
   "source": [
    "Map"
   ]
  },
  {
   "cell_type": "markdown",
   "metadata": {},
   "source": [
    "### Agregando título al mapa"
   ]
  },
  {
   "cell_type": "code",
   "execution_count": null,
   "metadata": {},
   "outputs": [],
   "source": [
    "# Map.add_legend('Clasificación supervisada CART')\n",
    "# Map"
   ]
  },
  {
   "cell_type": "markdown",
   "metadata": {},
   "source": [
    "### Evaluación de presición / Accuracy assessment"
   ]
  },
  {
   "cell_type": "code",
   "execution_count": 38,
   "metadata": {},
   "outputs": [],
   "source": [
    "train_accuracy = trained.confusionMatrix()"
   ]
  },
  {
   "cell_type": "code",
   "execution_count": 39,
   "metadata": {},
   "outputs": [
    {
     "data": {
      "text/plain": [
       "[[0, 0, 0, 0, 0, 0, 0, 0, 0, 0, 0, 0, 0, 0, 0, 0, 0, 0, 0],\n",
       " [0, 600, 1, 0, 0, 0, 0, 0, 0, 0, 0, 0, 0, 0, 20, 0, 4, 0, 0],\n",
       " [0, 1, 768, 0, 0, 0, 0, 0, 0, 0, 0, 0, 0, 0, 0, 0, 11, 0, 26],\n",
       " [0, 0, 0, 3019, 0, 0, 0, 0, 0, 0, 0, 0, 0, 0, 0, 0, 0, 1, 0],\n",
       " [0, 0, 0, 0, 1428, 0, 7, 187, 0, 0, 1, 0, 0, 0, 0, 0, 0, 0, 0],\n",
       " [0, 0, 0, 0, 0, 0, 20, 0, 0, 0, 4, 76, 0, 0, 0, 0, 0, 0, 0],\n",
       " [0, 0, 0, 0, 0, 0, 909, 0, 0, 0, 0, 13, 3, 0, 6, 0, 0, 0, 0],\n",
       " [0, 0, 0, 0, 23, 0, 0, 598, 0, 0, 0, 0, 0, 0, 0, 0, 0, 0, 0],\n",
       " [0, 0, 0, 49, 0, 0, 0, 0, 0, 0, 0, 0, 0, 0, 0, 0, 0, 0, 0],\n",
       " [0, 0, 0, 0, 0, 0, 0, 0, 0, 84, 0, 0, 0, 0, 0, 0, 0, 0, 2],\n",
       " [0, 0, 0, 0, 0, 0, 0, 0, 0, 0, 221, 1, 0, 0, 0, 0, 0, 0, 0],\n",
       " [0, 0, 0, 0, 0, 0, 45, 0, 0, 0, 3, 108, 0, 0, 6, 0, 0, 0, 0],\n",
       " [0, 0, 2, 0, 0, 0, 0, 0, 0, 0, 1, 4, 3091, 0, 0, 0, 0, 0, 0],\n",
       " [0, 0, 28, 0, 6, 0, 0, 22, 0, 0, 0, 0, 0, 130, 0, 0, 0, 0, 72],\n",
       " [0, 6, 0, 0, 0, 0, 0, 0, 0, 0, 0, 5, 24, 0, 744, 0, 2, 0, 0],\n",
       " [0, 0, 0, 122, 0, 0, 0, 0, 0, 0, 0, 0, 0, 0, 0, 95, 0, 0, 0],\n",
       " [0, 170, 7, 0, 0, 0, 0, 0, 0, 0, 0, 0, 0, 0, 0, 0, 503, 0, 0],\n",
       " [0, 0, 0, 0, 0, 0, 0, 0, 0, 0, 0, 0, 0, 0, 0, 0, 0, 155, 0],\n",
       " [0, 0, 1, 0, 6, 0, 0, 6, 0, 0, 0, 0, 0, 3, 0, 0, 0, 0, 804]]"
      ]
     },
     "execution_count": 39,
     "metadata": {},
     "output_type": "execute_result"
    }
   ],
   "source": [
    "train_accuracy.getInfo()"
   ]
  },
  {
   "cell_type": "code",
   "execution_count": 40,
   "metadata": {},
   "outputs": [
    {
     "data": {
      "text/plain": [
       "0.9300547214816893"
      ]
     },
     "execution_count": 40,
     "metadata": {},
     "output_type": "execute_result"
    }
   ],
   "source": [
    "train_accuracy.accuracy().getInfo()"
   ]
  },
  {
   "cell_type": "code",
   "execution_count": 41,
   "metadata": {},
   "outputs": [
    {
     "data": {
      "text/plain": [
       "0.91974796573592"
      ]
     },
     "execution_count": 41,
     "metadata": {},
     "output_type": "execute_result"
    }
   ],
   "source": [
    "train_accuracy.kappa().getInfo()"
   ]
  },
  {
   "cell_type": "code",
   "execution_count": 42,
   "metadata": {},
   "outputs": [
    {
     "data": {
      "text/plain": [
       "[[0],\n",
       " [0.96],\n",
       " [0.9528535980148883],\n",
       " [0.9996688741721854],\n",
       " [0.8798521256931608],\n",
       " [0],\n",
       " [0.9763694951664876],\n",
       " [0.9629629629629629],\n",
       " [0],\n",
       " [0.9767441860465116],\n",
       " [0.9954954954954955],\n",
       " [0.6666666666666666],\n",
       " [0.9977404777275661],\n",
       " [0.5038759689922481],\n",
       " [0.9526248399487837],\n",
       " [0.4377880184331797],\n",
       " [0.7397058823529412],\n",
       " [1],\n",
       " [0.9804878048780488]]"
      ]
     },
     "execution_count": 42,
     "metadata": {},
     "output_type": "execute_result"
    }
   ],
   "source": [
    "train_accuracy.producersAccuracy().getInfo()"
   ]
  },
  {
   "cell_type": "code",
   "execution_count": 43,
   "metadata": {},
   "outputs": [
    {
     "data": {
      "text/plain": [
       "[[0,\n",
       "  0.7722007722007722,\n",
       "  0.9516728624535316,\n",
       "  0.9463949843260188,\n",
       "  0.9760765550239234,\n",
       "  0,\n",
       "  0.926605504587156,\n",
       "  0.7355473554735548,\n",
       "  0,\n",
       "  1,\n",
       "  0.9608695652173913,\n",
       "  0.5217391304347826,\n",
       "  0.9913406029506093,\n",
       "  0.9774436090225563,\n",
       "  0.9587628865979382,\n",
       "  1,\n",
       "  0.9673076923076923,\n",
       "  0.9935897435897436,\n",
       "  0.8893805309734514]]"
      ]
     },
     "execution_count": 43,
     "metadata": {},
     "output_type": "execute_result"
    }
   ],
   "source": [
    "train_accuracy.consumersAccuracy().getInfo()"
   ]
  },
  {
   "cell_type": "markdown",
   "metadata": {},
   "source": [
    "#### Set de datos de validación"
   ]
  },
  {
   "cell_type": "code",
   "execution_count": 44,
   "metadata": {},
   "outputs": [],
   "source": [
    "validated = validation.classify(trained)"
   ]
  },
  {
   "cell_type": "code",
   "execution_count": 45,
   "metadata": {},
   "outputs": [
    {
     "data": {
      "text/plain": [
       "{'type': 'Feature',\n",
       " 'geometry': None,\n",
       " 'id': '0_0',\n",
       " 'properties': {'ID': 1,\n",
       "  'b1': 0.026168961077928543,\n",
       "  'b2': 0.04253531992435455,\n",
       "  'b3': 0.03470490872859955,\n",
       "  'b4': 0.33766427636146545,\n",
       "  'b5': 0.1495322287082672,\n",
       "  'b6': 0.06873124837875366,\n",
       "  'b7': 0.8135994672775269,\n",
       "  'b8': 0.7762474417686462,\n",
       "  'b9': 0.5209251642227173,\n",
       "  'classification': 1,\n",
       "  'random': 0.9956806624347441}}"
      ]
     },
     "execution_count": 45,
     "metadata": {},
     "output_type": "execute_result"
    }
   ],
   "source": [
    "validated.first().getInfo()"
   ]
  },
  {
   "cell_type": "code",
   "execution_count": 46,
   "metadata": {},
   "outputs": [],
   "source": [
    "test_accuracy = validated.errorMatrix('ID', 'classification')"
   ]
  },
  {
   "cell_type": "code",
   "execution_count": 47,
   "metadata": {},
   "outputs": [
    {
     "data": {
      "text/plain": [
       "[[0, 0, 0, 0, 0, 0, 0, 0, 0, 0, 0, 0, 0, 0, 0, 0, 0, 0, 0],\n",
       " [0, 196, 0, 0, 0, 0, 0, 0, 0, 0, 0, 0, 0, 0, 6, 0, 3, 0, 0],\n",
       " [0, 0, 243, 0, 0, 0, 0, 0, 0, 0, 0, 0, 0, 0, 0, 0, 4, 0, 5],\n",
       " [0, 0, 0, 882, 0, 0, 0, 0, 0, 0, 0, 0, 0, 0, 0, 0, 0, 1, 0],\n",
       " [0, 0, 0, 0, 438, 0, 2, 60, 0, 0, 1, 0, 0, 0, 0, 0, 0, 0, 0],\n",
       " [0, 0, 0, 0, 0, 0, 10, 0, 0, 0, 0, 18, 0, 0, 0, 0, 0, 0, 0],\n",
       " [0, 0, 0, 0, 0, 0, 273, 0, 0, 0, 0, 5, 1, 0, 1, 0, 0, 0, 0],\n",
       " [0, 0, 0, 0, 9, 0, 0, 190, 0, 0, 0, 0, 0, 0, 0, 0, 0, 0, 0],\n",
       " [0, 0, 0, 11, 0, 0, 0, 0, 0, 0, 0, 0, 0, 0, 0, 0, 0, 0, 0],\n",
       " [0, 0, 0, 0, 0, 0, 0, 0, 0, 25, 0, 0, 0, 0, 0, 0, 0, 0, 0],\n",
       " [0, 0, 0, 0, 0, 0, 0, 0, 0, 0, 68, 1, 0, 0, 0, 0, 0, 0, 0],\n",
       " [0, 0, 0, 0, 0, 0, 14, 0, 0, 0, 2, 31, 0, 0, 1, 0, 0, 0, 0],\n",
       " [0, 0, 0, 0, 0, 0, 0, 0, 0, 0, 1, 1, 957, 0, 0, 0, 0, 0, 0],\n",
       " [0, 0, 9, 0, 1, 0, 0, 5, 0, 0, 0, 0, 0, 35, 0, 0, 0, 0, 19],\n",
       " [0, 2, 0, 0, 0, 0, 0, 0, 0, 0, 0, 1, 9, 0, 221, 0, 1, 0, 0],\n",
       " [0, 0, 0, 44, 0, 0, 0, 0, 0, 0, 0, 0, 0, 0, 0, 24, 0, 0, 0],\n",
       " [0, 54, 2, 0, 0, 0, 0, 0, 0, 0, 0, 0, 0, 0, 0, 0, 144, 0, 0],\n",
       " [0, 0, 0, 0, 0, 0, 0, 0, 0, 0, 0, 0, 0, 0, 0, 0, 0, 49, 0],\n",
       " [0, 0, 0, 0, 1, 0, 0, 1, 0, 0, 0, 0, 0, 0, 0, 0, 0, 0, 250]]"
      ]
     },
     "execution_count": 47,
     "metadata": {},
     "output_type": "execute_result"
    }
   ],
   "source": [
    "test_accuracy.getInfo()"
   ]
  },
  {
   "cell_type": "code",
   "execution_count": 48,
   "metadata": {},
   "outputs": [
    {
     "data": {
      "text/plain": [
       "0.9293628808864266"
      ]
     },
     "execution_count": 48,
     "metadata": {},
     "output_type": "execute_result"
    }
   ],
   "source": [
    "test_accuracy.accuracy().getInfo()"
   ]
  },
  {
   "cell_type": "code",
   "execution_count": 49,
   "metadata": {},
   "outputs": [
    {
     "data": {
      "text/plain": [
       "0.9190149727287873"
      ]
     },
     "execution_count": 49,
     "metadata": {},
     "output_type": "execute_result"
    }
   ],
   "source": [
    "test_accuracy.kappa().getInfo()"
   ]
  },
  {
   "cell_type": "code",
   "execution_count": 50,
   "metadata": {},
   "outputs": [
    {
     "data": {
      "text/plain": [
       "[[0],\n",
       " [0.9560975609756097],\n",
       " [0.9642857142857143],\n",
       " [0.9988674971687429],\n",
       " [0.874251497005988],\n",
       " [0],\n",
       " [0.975],\n",
       " [0.9547738693467337],\n",
       " [0],\n",
       " [1],\n",
       " [0.9855072463768116],\n",
       " [0.6458333333333334],\n",
       " [0.9979144942648592],\n",
       " [0.5072463768115942],\n",
       " [0.9444444444444444],\n",
       " [0.35294117647058826],\n",
       " [0.72],\n",
       " [1],\n",
       " [0.9920634920634921]]"
      ]
     },
     "execution_count": 50,
     "metadata": {},
     "output_type": "execute_result"
    }
   ],
   "source": [
    "test_accuracy.producersAccuracy().getInfo()"
   ]
  },
  {
   "cell_type": "code",
   "execution_count": 51,
   "metadata": {},
   "outputs": [
    {
     "data": {
      "text/plain": [
       "[[0,\n",
       "  0.7777777777777778,\n",
       "  0.9566929133858267,\n",
       "  0.9413020277481323,\n",
       "  0.9755011135857461,\n",
       "  0,\n",
       "  0.9130434782608695,\n",
       "  0.7421875,\n",
       "  0,\n",
       "  1,\n",
       "  0.9444444444444444,\n",
       "  0.543859649122807,\n",
       "  0.9896587383660806,\n",
       "  1,\n",
       "  0.9650655021834061,\n",
       "  1,\n",
       "  0.9473684210526315,\n",
       "  0.98,\n",
       "  0.9124087591240876]]"
      ]
     },
     "execution_count": 51,
     "metadata": {},
     "output_type": "execute_result"
    }
   ],
   "source": [
    "test_accuracy.consumersAccuracy().getInfo()"
   ]
  },
  {
   "cell_type": "markdown",
   "metadata": {},
   "source": [
    "### Descargando la matrix"
   ]
  },
  {
   "cell_type": "code",
   "execution_count": null,
   "metadata": {},
   "outputs": [],
   "source": [
    "# import csv\n",
    "# import os\n",
    "\n",
    "# out_dir = os.path.join(os.path.expanduser('/mnt/c/Users/R7 3700X/'), 'Desktop')\n",
    "# training_csv = os.path.join(out_dir, 'train_accuracy.csv')\n",
    "# testing_csv = os.path.join(out_dir, 'test_accuracy.csv')\n",
    "\n",
    "# with open(training_csv, \"w\", newline=\"\") as f:\n",
    "#     writer = csv.writer(f)\n",
    "#     writer.writerows(train_accuracy.getInfo())\n",
    "    \n",
    "# with open(testing_csv, \"w\", newline=\"\") as f:\n",
    "#     writer = csv.writer(f)\n",
    "#     writer.writerows(test_accuracy.getInfo())"
   ]
  },
  {
   "cell_type": "code",
   "execution_count": null,
   "metadata": {},
   "outputs": [],
   "source": []
  },
  {
   "cell_type": "markdown",
   "metadata": {},
   "source": [
    "### Exportando "
   ]
  },
  {
   "cell_type": "code",
   "execution_count": null,
   "metadata": {},
   "outputs": [],
   "source": [
    "# import os\n",
    "# out_dir = os.path.join(os.path.expanduser('/mnt/c/Users/R7 3700X/'), 'Desktop')\n",
    "# out_file = os.path.join(out_dir, 'landcover.tif')"
   ]
  },
  {
   "cell_type": "code",
   "execution_count": null,
   "metadata": {},
   "outputs": [],
   "source": [
    "# geemap.ee_export_image(landcover, filename=out_file, scale=900)\n"
   ]
  },
  {
   "cell_type": "code",
   "execution_count": null,
   "metadata": {},
   "outputs": [],
   "source": [
    "# geemap.ee_export_image_to_drive(landcover, description='landcover', folder='export', scale=900)"
   ]
  }
 ],
 "metadata": {
  "anaconda-cloud": {},
  "kernelspec": {
   "display_name": "Python 3",
   "language": "python",
   "name": "python3"
  },
  "language_info": {
   "codemirror_mode": {
    "name": "ipython",
    "version": 3
   },
   "file_extension": ".py",
   "mimetype": "text/x-python",
   "name": "python",
   "nbconvert_exporter": "python",
   "pygments_lexer": "ipython3",
   "version": "3.9.2"
  },
  "toc": {
   "base_numbering": 1,
   "nav_menu": {},
   "number_sections": true,
   "sideBar": true,
   "skip_h1_title": false,
   "title_cell": "Table of Contents",
   "title_sidebar": "Contents",
   "toc_cell": false,
   "toc_position": {
    "height": "calc(100% - 180px)",
    "left": "10px",
    "top": "150px",
    "width": "344px"
   },
   "toc_section_display": true,
   "toc_window_display": true
  },
  "varInspector": {
   "cols": {
    "lenName": 16,
    "lenType": 16,
    "lenVar": 40
   },
   "kernels_config": {
    "python": {
     "delete_cmd_postfix": "",
     "delete_cmd_prefix": "del ",
     "library": "var_list.py",
     "varRefreshCmd": "print(var_dic_list())"
    },
    "r": {
     "delete_cmd_postfix": ") ",
     "delete_cmd_prefix": "rm(",
     "library": "var_list.r",
     "varRefreshCmd": "cat(var_dic_list()) "
    }
   },
   "types_to_exclude": [
    "module",
    "function",
    "builtin_function_or_method",
    "instance",
    "_Feature"
   ],
   "window_display": false
  }
 },
 "nbformat": 4,
 "nbformat_minor": 4
}
