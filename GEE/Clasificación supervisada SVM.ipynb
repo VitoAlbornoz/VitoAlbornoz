{
 "cells": [
  {
   "cell_type": "markdown",
   "metadata": {},
   "source": [
    "<table class=\"ee-notebook-buttons\" align=\"left\">\n",
    "    <td><a target=\"_blank\"  href=\"https://github.com/giswqs/geemap/tree/master/examples/template/template.ipynb\"><img width=32px src=\"https://www.tensorflow.org/images/GitHub-Mark-32px.png\" /> View source on GitHub</a></td>\n",
    "    <td><a target=\"_blank\"  href=\"https://nbviewer.jupyter.org/github/giswqs/geemap/blob/master/examples/template/template.ipynb\"><img width=26px src=\"https://upload.wikimedia.org/wikipedia/commons/thumb/3/38/Jupyter_logo.svg/883px-Jupyter_logo.svg.png\" />Notebook Viewer</a></td>\n",
    "    <td><a target=\"_blank\"  href=\"https://colab.research.google.com/github/giswqs/geemap/blob/master/examples/template/template.ipynb\"><img src=\"https://www.tensorflow.org/images/colab_logo_32px.png\" /> Run in Google Colab</a></td>\n",
    "</table>"
   ]
  },
  {
   "cell_type": "markdown",
   "metadata": {},
   "source": [
    "# Clasificación supervisada SVM\n",
    "Script trabajado por Francisco Albornoz (2021-04-28 12:51:11 ) / Última modificación / Análisis y clasificación supervisada región de Aysen\n",
    "\n",
    "<img src=https://www.ecopaysen.cl/wp-content/uploads/2019/12/ecopaysen_marca_web.png>"
   ]
  },
  {
   "cell_type": "code",
   "execution_count": null,
   "metadata": {},
   "outputs": [],
   "source": [
    "# Installs geemap package\n",
    "# import subprocess\n",
    "\n",
    "# try:\n",
    "#     import geemap\n",
    "# except ImportError:\n",
    "#     print(\"Installing geemap ...\")\n",
    "#     subprocess.check_call([\"python\", \"-m\", \"pip\", \"install\", \"geemap\"])\n",
    "# !pip install scikit_learn\n"
   ]
  },
  {
   "cell_type": "code",
   "execution_count": 1,
   "metadata": {},
   "outputs": [],
   "source": [
    "import os\n",
    "import ee\n",
    "import geemap\n",
    "import xarray_leaflet\n",
    "import rasterio \n",
    "from rasterio import plot\n",
    "import matplotlib.pyplot as plt\n",
    "import numpy as np\n",
    "%matplotlib inline\n",
    "import pandas as pd"
   ]
  },
  {
   "cell_type": "markdown",
   "metadata": {},
   "source": [
    "## Crear un mapa interactivo \n",
    "The default basemap is `Google Maps`. [Additional basemaps](https://github.com/giswqs/geemap/blob/master/geemap/basemaps.py) can be added using the `Map.add_basemap()` function. "
   ]
  },
  {
   "cell_type": "code",
   "execution_count": 2,
   "metadata": {},
   "outputs": [
    {
     "data": {
      "application/vnd.jupyter.widget-view+json": {
       "model_id": "4f26fdd8ce81433ba90a852e34ecb3ef",
       "version_major": 2,
       "version_minor": 0
      },
      "text/plain": [
       "Map(center=[40, -100], controls=(WidgetControl(options=['position'], widget=HBox(children=(ToggleButton(value=…"
      ]
     },
     "metadata": {},
     "output_type": "display_data"
    }
   ],
   "source": [
    "Map = geemap.Map()\n",
    "Map"
   ]
  },
  {
   "cell_type": "markdown",
   "metadata": {},
   "source": [
    "## Escogemos la imagen landsat "
   ]
  },
  {
   "cell_type": "code",
   "execution_count": 3,
   "metadata": {},
   "outputs": [],
   "source": [
    "centroid = ee.Geometry.Point([-72, -44])\n",
    "\n",
    "landsat = ee.ImageCollection('LANDSAT/LC08/C01/T1_SR') \\\n",
    "    .filterBounds(centroid) \\\n",
    "    .filterDate('2020-01-01', '2021-03-31') \\\n",
    "    .sort('CLOUD_COVER') \\\n",
    "    .first() \\\n",
    "    .select('B[1-7]')\n",
    "\n",
    "landsat_vis = {\n",
    "    'min': 0,\n",
    "    'max': 3000,\n",
    "    'bands': ['B5', 'B4', 'B3']\n",
    "}\n",
    "\n",
    "Map.centerObject(centroid, 8)\n",
    "Map.addLayer(landsat, landsat_vis, \"Landsat-8\")\n"
   ]
  },
  {
   "cell_type": "markdown",
   "metadata": {},
   "source": [
    "## Importar rasters locales "
   ]
  },
  {
   "cell_type": "code",
   "execution_count": 4,
   "metadata": {},
   "outputs": [
    {
     "data": {
      "text/plain": [
       "'/mnt/c/users/usuario/Documents/GitHub/VitoAlbornoz/GEE'"
      ]
     },
     "execution_count": 4,
     "metadata": {},
     "output_type": "execute_result"
    }
   ],
   "source": [
    "%pwd"
   ]
  },
  {
   "cell_type": "code",
   "execution_count": 5,
   "metadata": {},
   "outputs": [],
   "source": [
    "# verificar en el sistema del pc cual es la ruta\n",
    "# os.path.expanduser('/mnt/c/Users/R7 3700X/Documents/GitHub/VitoAlbornoz/') \n",
    "# os.path.expanduser('/mnt/c/Users/Usuario/Documents/Github/Vitoalbornoz/')"
   ]
  },
  {
   "cell_type": "code",
   "execution_count": 6,
   "metadata": {},
   "outputs": [],
   "source": [
    "# verificar en el sistema del pc cual es la ruta\n",
    "out_dir = os.path.join(os.path.expanduser('/mnt/c/Users/Usuario/Documents/GitHub/VitoAlbornoz/'), 'Data')\n",
    "if not os.path.exists(out_dir):\n",
    "    os.makedirs(out_dir)\n",
    "\n",
    "raster_aysen = os.path.join(out_dir, 'landcover_2018_aysen.tif')"
   ]
  },
  {
   "cell_type": "code",
   "execution_count": 7,
   "metadata": {},
   "outputs": [
    {
     "data": {
      "text/plain": [
       "'/mnt/c/Users/Usuario/Documents/GitHub/VitoAlbornoz/Data'"
      ]
     },
     "execution_count": 7,
     "metadata": {},
     "output_type": "execute_result"
    }
   ],
   "source": [
    "out_dir"
   ]
  },
  {
   "cell_type": "code",
   "execution_count": 8,
   "metadata": {},
   "outputs": [
    {
     "data": {
      "text/plain": [
       "'/mnt/c/Users/Usuario/Documents/GitHub/VitoAlbornoz/Data/landcover_2018_aysen.tif'"
      ]
     },
     "execution_count": 8,
     "metadata": {},
     "output_type": "execute_result"
    }
   ],
   "source": [
    "raster_aysen"
   ]
  },
  {
   "cell_type": "code",
   "execution_count": 9,
   "metadata": {},
   "outputs": [],
   "source": [
    "Map.add_raster(raster_aysen, colormap= 'terrain', layer_name='Landcover 2018')"
   ]
  },
  {
   "cell_type": "code",
   "execution_count": 10,
   "metadata": {},
   "outputs": [
    {
     "data": {
      "text/plain": [
       "<ee.image.Image at 0x7f64d1873760>"
      ]
     },
     "execution_count": 10,
     "metadata": {},
     "output_type": "execute_result"
    }
   ],
   "source": [
    "landcover = ee.Image(\"users/franciscoalbornoz/landcover_sur\")\n",
    "landcover"
   ]
  },
  {
   "cell_type": "code",
   "execution_count": 11,
   "metadata": {},
   "outputs": [],
   "source": [
    "raster = rasterio.open(out_dir+'/landcover_2018_aysen.tif')"
   ]
  },
  {
   "cell_type": "code",
   "execution_count": 12,
   "metadata": {},
   "outputs": [
    {
     "data": {
      "text/plain": [
       "BoundingBox(left=-73.169644655, bottom=-46.394042378, right=-70.719691266, top=-43.705745621)"
      ]
     },
     "execution_count": 12,
     "metadata": {},
     "output_type": "execute_result"
    }
   ],
   "source": [
    "raster.bounds"
   ]
  },
  {
   "cell_type": "code",
   "execution_count": 13,
   "metadata": {},
   "outputs": [
    {
     "data": {
      "text/plain": [
       "CRS.from_epsg(4326)"
      ]
     },
     "execution_count": 13,
     "metadata": {},
     "output_type": "execute_result"
    }
   ],
   "source": [
    "raster.crs"
   ]
  },
  {
   "cell_type": "code",
   "execution_count": 14,
   "metadata": {},
   "outputs": [
    {
     "data": {
      "text/plain": [
       "<open DatasetReader name='/mnt/c/Users/Usuario/Documents/GitHub/VitoAlbornoz/Data/landcover_2018_aysen.tif' mode='r'>"
      ]
     },
     "execution_count": 14,
     "metadata": {},
     "output_type": "execute_result"
    }
   ],
   "source": [
    "raster"
   ]
  },
  {
   "cell_type": "code",
   "execution_count": 15,
   "metadata": {},
   "outputs": [
    {
     "data": {
      "application/vnd.jupyter.widget-view+json": {
       "model_id": "4f26fdd8ce81433ba90a852e34ecb3ef",
       "version_major": 2,
       "version_minor": 0
      },
      "text/plain": [
       "Map(center=[-45.0498939995, -71.9446679605], controls=(WidgetControl(options=['position'], widget=HBox(childre…"
      ]
     },
     "metadata": {},
     "output_type": "display_data"
    }
   ],
   "source": [
    "mosaico = ee.Image(\"users/franciscoalbornoz/Mosaico_2018\")\n",
    "clasificacion_2018 = ee.Image(\"users/franciscoalbornoz/clasificacion_2018\")\n",
    "\n",
    "landsat_vis = {\n",
    "    'min': 0,\n",
    "    'max': 1,\n",
    "    'bands': ['b5', 'b4', 'b3']\n",
    "}\n",
    "Map.addLayer(mosaico, landsat_vis, \"Landsat-8-2018\")\n",
    "Map.addLayer(clasificacion_2018.randomVisualizer(), {}, \"clasificación 2018\")\n",
    "\n",
    "Map"
   ]
  },
  {
   "cell_type": "markdown",
   "metadata": {},
   "source": [
    "## Obteniendo los valores para el Training Datasets"
   ]
  },
  {
   "cell_type": "code",
   "execution_count": 22,
   "metadata": {},
   "outputs": [],
   "source": [
    "work_dir = os.path.expanduser('../Data/shapes/')\n",
    "\n",
    "merged_shp = os.path.join(work_dir, 'roi_h.shp')\n",
    "val_shp= os.path.join(work_dir, 'puntos_validacion.shp')"
   ]
  },
  {
   "cell_type": "code",
   "execution_count": 23,
   "metadata": {},
   "outputs": [],
   "source": [
    "merged = geemap.shp_to_ee(merged_shp)\n",
    "Map.addLayer(merged, {}, 'Áreas de entrenamiento')"
   ]
  },
  {
   "cell_type": "code",
   "execution_count": 24,
   "metadata": {},
   "outputs": [],
   "source": [
    "val = geemap.shp_to_ee(val_shp)\n",
    "Map.addLayer(val, {}, 'Áreas de entrenamiento2')"
   ]
  },
  {
   "cell_type": "code",
   "execution_count": 25,
   "metadata": {},
   "outputs": [],
   "source": [
    "dataset = mosaico.sampleRegions(**{\n",
    "    'collection': merged,\n",
    "    'properties': ['IDH'],\n",
    "    'scale' : 30 ,\n",
    "})"
   ]
  },
  {
   "cell_type": "code",
   "execution_count": 26,
   "metadata": {},
   "outputs": [],
   "source": [
    "datasetval = mosaico.sampleRegions(**{\n",
    "    'collection': val,\n",
    "    'properties': ['IDH'],\n",
    "    'scale': 30,\n",
    "})"
   ]
  },
  {
   "cell_type": "code",
   "execution_count": 27,
   "metadata": {
    "scrolled": true
   },
   "outputs": [
    {
     "name": "stdout",
     "output_type": "stream",
     "text": [
      "14099\n"
     ]
    }
   ],
   "source": [
    "print(dataset.size().getInfo())"
   ]
  },
  {
   "cell_type": "code",
   "execution_count": 28,
   "metadata": {},
   "outputs": [
    {
     "name": "stdout",
     "output_type": "stream",
     "text": [
      "328\n"
     ]
    }
   ],
   "source": [
    "print(datasetval.size().getInfo())"
   ]
  },
  {
   "cell_type": "code",
   "execution_count": 29,
   "metadata": {},
   "outputs": [
    {
     "data": {
      "text/plain": [
       "<ee.ee_list.List at 0x7f64d12983d0>"
      ]
     },
     "execution_count": 29,
     "metadata": {},
     "output_type": "execute_result"
    }
   ],
   "source": [
    "dataset.propertyNames()"
   ]
  },
  {
   "cell_type": "code",
   "execution_count": 30,
   "metadata": {},
   "outputs": [
    {
     "data": {
      "text/plain": [
       "<ee.ee_list.List at 0x7f64d1298ac0>"
      ]
     },
     "execution_count": 30,
     "metadata": {},
     "output_type": "execute_result"
    }
   ],
   "source": [
    "datasetval.propertyNames()"
   ]
  },
  {
   "cell_type": "code",
   "execution_count": 31,
   "metadata": {},
   "outputs": [
    {
     "name": "stdout",
     "output_type": "stream",
     "text": [
      "{'type': 'Feature', 'geometry': None, 'id': '0_0', 'properties': {'IDH': 14, 'b1': 0.026168961077928543, 'b2': 0.04253531992435455, 'b3': 0.03470490872859955, 'b4': 0.33766427636146545, 'b5': 0.1495322287082672, 'b6': 0.06873124837875366, 'b7': 0.8135994672775269, 'b8': 0.7762474417686462, 'b9': 0.5209251642227173}}\n"
     ]
    }
   ],
   "source": [
    "print(dataset.first().getInfo())"
   ]
  },
  {
   "cell_type": "code",
   "execution_count": 32,
   "metadata": {},
   "outputs": [
    {
     "name": "stdout",
     "output_type": "stream",
     "text": [
      "{'type': 'Feature', 'geometry': None, 'id': '0_0', 'properties': {'IDH': 1, 'b1': 0.01979999989271164, 'b2': 0.017999999225139618, 'b3': 0.010499999858438969, 'b4': 0.01730000041425228, 'b5': 0.00989999994635582, 'b6': 0.0071000000461936, 'b7': 0.24460433423519135, 'b8': -0.019829994067549706, 'b9': 0.019325504079461098}}\n"
     ]
    }
   ],
   "source": [
    "print(datasetval.first().getInfo())"
   ]
  },
  {
   "cell_type": "code",
   "execution_count": 42,
   "metadata": {},
   "outputs": [
    {
     "name": "stdout",
     "output_type": "stream",
     "text": [
      "Generating URL ...\n",
      "Downloading data from https://earthengine.googleapis.com/v1alpha/projects/earthengine-legacy/tables/67d18a7b109538619563c7a04aff41f8-e1f58eba59996ce53dcade52a77f405c:getFeatures\n",
      "Please wait ...\n",
      "Data downloaded to /mnt/c/Users/Usuario/Documents/GitHub/VitoAlbornoz/Data/Dataset_1.csv\n"
     ]
    }
   ],
   "source": [
    "out_csv = os.path.join(out_dir, 'Dataset_1.csv')\n",
    "geemap.extract_values_to_points(merged, mosaico, out_csv)"
   ]
  },
  {
   "cell_type": "code",
   "execution_count": 39,
   "metadata": {},
   "outputs": [
    {
     "name": "stdout",
     "output_type": "stream",
     "text": [
      "Generating URL ...\n",
      "Downloading data from https://earthengine.googleapis.com/v1alpha/projects/earthengine-legacy/tables/e4957fa27b7a350017c0e8f70644ced3-3e08ad8165124fdea2983008021d1fa2:getFeatures\n",
      "Please wait ...\n",
      "Data downloaded to /mnt/c/Users/Usuario/Documents/GitHub/VitoAlbornoz/Data/Dataset_2.csv\n"
     ]
    }
   ],
   "source": [
    "out_csv2 =os.path.join(out_dir, 'Dataset_2.csv')\n",
    "geemap.extract_values_to_points(val, mosaico, out_csv2)"
   ]
  },
  {
   "cell_type": "code",
   "execution_count": 43,
   "metadata": {},
   "outputs": [],
   "source": [
    "df = pd.read_csv(out_csv)"
   ]
  },
  {
   "cell_type": "code",
   "execution_count": 44,
   "metadata": {},
   "outputs": [
    {
     "data": {
      "text/html": [
       "<div>\n",
       "<style scoped>\n",
       "    .dataframe tbody tr th:only-of-type {\n",
       "        vertical-align: middle;\n",
       "    }\n",
       "\n",
       "    .dataframe tbody tr th {\n",
       "        vertical-align: top;\n",
       "    }\n",
       "\n",
       "    .dataframe thead th {\n",
       "        text-align: right;\n",
       "    }\n",
       "</style>\n",
       "<table border=\"1\" class=\"dataframe\">\n",
       "  <thead>\n",
       "    <tr style=\"text-align: right;\">\n",
       "      <th></th>\n",
       "      <th>path</th>\n",
       "      <th>RF</th>\n",
       "      <th>CLASS_CLRS</th>\n",
       "      <th>FILL_CLASS</th>\n",
       "      <th>POLY_TYPE</th>\n",
       "      <th>ID</th>\n",
       "      <th>IDH</th>\n",
       "      <th>CLASS_ID</th>\n",
       "      <th>CLASS_NAME</th>\n",
       "      <th>layer</th>\n",
       "      <th>b2</th>\n",
       "      <th>b3</th>\n",
       "      <th>b4</th>\n",
       "      <th>b5</th>\n",
       "      <th>b6</th>\n",
       "      <th>b7</th>\n",
       "      <th>b8</th>\n",
       "      <th>b9</th>\n",
       "      <th>system:index</th>\n",
       "      <th>b1</th>\n",
       "    </tr>\n",
       "  </thead>\n",
       "  <tbody>\n",
       "    <tr>\n",
       "      <th>0</th>\n",
       "      <td>E:/Carpeta de Trabajo (Fco)/Datos para github/...</td>\n",
       "      <td>ACHAPARRADO</td>\n",
       "      <td>0,205,0</td>\n",
       "      <td>1</td>\n",
       "      <td>5</td>\n",
       "      <td>1</td>\n",
       "      <td>14</td>\n",
       "      <td>0</td>\n",
       "      <td>ACHAPARRAD</td>\n",
       "      <td>achaparrado_2018_2210_grande</td>\n",
       "      <td>0.042535</td>\n",
       "      <td>0.034705</td>\n",
       "      <td>0.337664</td>\n",
       "      <td>0.149532</td>\n",
       "      <td>0.068731</td>\n",
       "      <td>0.813599</td>\n",
       "      <td>0.776247</td>\n",
       "      <td>0.520925</td>\n",
       "      <td>0_0</td>\n",
       "      <td>0.026169</td>\n",
       "    </tr>\n",
       "    <tr>\n",
       "      <th>1</th>\n",
       "      <td>E:/Carpeta de Trabajo (Fco)/Datos para github/...</td>\n",
       "      <td>ACHAPARRADO</td>\n",
       "      <td>0,205,0</td>\n",
       "      <td>1</td>\n",
       "      <td>5</td>\n",
       "      <td>1</td>\n",
       "      <td>14</td>\n",
       "      <td>0</td>\n",
       "      <td>ACHAPARRAD</td>\n",
       "      <td>achaparrado_2018_2210_grande</td>\n",
       "      <td>0.039025</td>\n",
       "      <td>0.030058</td>\n",
       "      <td>0.313210</td>\n",
       "      <td>0.130905</td>\n",
       "      <td>0.061290</td>\n",
       "      <td>0.824872</td>\n",
       "      <td>0.778417</td>\n",
       "      <td>0.503669</td>\n",
       "      <td>0_1</td>\n",
       "      <td>0.024665</td>\n",
       "    </tr>\n",
       "    <tr>\n",
       "      <th>2</th>\n",
       "      <td>E:/Carpeta de Trabajo (Fco)/Datos para github/...</td>\n",
       "      <td>ACHAPARRADO</td>\n",
       "      <td>0,205,0</td>\n",
       "      <td>1</td>\n",
       "      <td>5</td>\n",
       "      <td>1</td>\n",
       "      <td>14</td>\n",
       "      <td>0</td>\n",
       "      <td>ACHAPARRAD</td>\n",
       "      <td>achaparrado_2018_2210_grande</td>\n",
       "      <td>0.034077</td>\n",
       "      <td>0.025750</td>\n",
       "      <td>0.324303</td>\n",
       "      <td>0.129287</td>\n",
       "      <td>0.055219</td>\n",
       "      <td>0.852881</td>\n",
       "      <td>0.809826</td>\n",
       "      <td>0.526826</td>\n",
       "      <td>0_2</td>\n",
       "      <td>0.018188</td>\n",
       "    </tr>\n",
       "    <tr>\n",
       "      <th>3</th>\n",
       "      <td>E:/Carpeta de Trabajo (Fco)/Datos para github/...</td>\n",
       "      <td>ACHAPARRADO</td>\n",
       "      <td>0,205,0</td>\n",
       "      <td>1</td>\n",
       "      <td>5</td>\n",
       "      <td>1</td>\n",
       "      <td>14</td>\n",
       "      <td>0</td>\n",
       "      <td>ACHAPARRAD</td>\n",
       "      <td>achaparrado_2018_2210_grande</td>\n",
       "      <td>0.038736</td>\n",
       "      <td>0.027363</td>\n",
       "      <td>0.350001</td>\n",
       "      <td>0.148841</td>\n",
       "      <td>0.065440</td>\n",
       "      <td>0.854979</td>\n",
       "      <td>0.800706</td>\n",
       "      <td>0.551604</td>\n",
       "      <td>0_3</td>\n",
       "      <td>0.022684</td>\n",
       "    </tr>\n",
       "    <tr>\n",
       "      <th>4</th>\n",
       "      <td>E:/Carpeta de Trabajo (Fco)/Datos para github/...</td>\n",
       "      <td>ACHAPARRADO</td>\n",
       "      <td>0,205,0</td>\n",
       "      <td>1</td>\n",
       "      <td>5</td>\n",
       "      <td>1</td>\n",
       "      <td>14</td>\n",
       "      <td>0</td>\n",
       "      <td>ACHAPARRAD</td>\n",
       "      <td>achaparrado_2018_2210_grande</td>\n",
       "      <td>0.036138</td>\n",
       "      <td>0.026296</td>\n",
       "      <td>0.328300</td>\n",
       "      <td>0.131833</td>\n",
       "      <td>0.057624</td>\n",
       "      <td>0.851684</td>\n",
       "      <td>0.801680</td>\n",
       "      <td>0.530082</td>\n",
       "      <td>0_4</td>\n",
       "      <td>0.021386</td>\n",
       "    </tr>\n",
       "    <tr>\n",
       "      <th>...</th>\n",
       "      <td>...</td>\n",
       "      <td>...</td>\n",
       "      <td>...</td>\n",
       "      <td>...</td>\n",
       "      <td>...</td>\n",
       "      <td>...</td>\n",
       "      <td>...</td>\n",
       "      <td>...</td>\n",
       "      <td>...</td>\n",
       "      <td>...</td>\n",
       "      <td>...</td>\n",
       "      <td>...</td>\n",
       "      <td>...</td>\n",
       "      <td>...</td>\n",
       "      <td>...</td>\n",
       "      <td>...</td>\n",
       "      <td>...</td>\n",
       "      <td>...</td>\n",
       "      <td>...</td>\n",
       "      <td>...</td>\n",
       "    </tr>\n",
       "    <tr>\n",
       "      <th>14094</th>\n",
       "      <td>E:/Carpeta de Trabajo (Fco)/Datos para github/...</td>\n",
       "      <td>SUELO DES</td>\n",
       "      <td>255,255,0</td>\n",
       "      <td>1</td>\n",
       "      <td>5</td>\n",
       "      <td>18</td>\n",
       "      <td>12</td>\n",
       "      <td>4</td>\n",
       "      <td>BARBECHO3</td>\n",
       "      <td>suelo_desnudo_agricola_2018_0310_grande</td>\n",
       "      <td>0.061346</td>\n",
       "      <td>0.058328</td>\n",
       "      <td>0.325896</td>\n",
       "      <td>0.180328</td>\n",
       "      <td>0.089545</td>\n",
       "      <td>0.696385</td>\n",
       "      <td>0.683163</td>\n",
       "      <td>0.453903</td>\n",
       "      <td>936_15</td>\n",
       "      <td>0.028166</td>\n",
       "    </tr>\n",
       "    <tr>\n",
       "      <th>14095</th>\n",
       "      <td>E:/Carpeta de Trabajo (Fco)/Datos para github/...</td>\n",
       "      <td>SUELO DES</td>\n",
       "      <td>255,255,0</td>\n",
       "      <td>1</td>\n",
       "      <td>5</td>\n",
       "      <td>18</td>\n",
       "      <td>12</td>\n",
       "      <td>4</td>\n",
       "      <td>BARBECHO3</td>\n",
       "      <td>suelo_desnudo_agricola_2018_0310_grande</td>\n",
       "      <td>0.065845</td>\n",
       "      <td>0.065742</td>\n",
       "      <td>0.318638</td>\n",
       "      <td>0.191173</td>\n",
       "      <td>0.096099</td>\n",
       "      <td>0.657933</td>\n",
       "      <td>0.657487</td>\n",
       "      <td>0.428938</td>\n",
       "      <td>936_16</td>\n",
       "      <td>0.032137</td>\n",
       "    </tr>\n",
       "    <tr>\n",
       "      <th>14096</th>\n",
       "      <td>E:/Carpeta de Trabajo (Fco)/Datos para github/...</td>\n",
       "      <td>SUELO DES</td>\n",
       "      <td>255,255,0</td>\n",
       "      <td>1</td>\n",
       "      <td>5</td>\n",
       "      <td>18</td>\n",
       "      <td>12</td>\n",
       "      <td>4</td>\n",
       "      <td>BARBECHO3</td>\n",
       "      <td>suelo_desnudo_agricola_2018_0310_grande</td>\n",
       "      <td>0.067506</td>\n",
       "      <td>0.066192</td>\n",
       "      <td>0.318410</td>\n",
       "      <td>0.193196</td>\n",
       "      <td>0.096287</td>\n",
       "      <td>0.655789</td>\n",
       "      <td>0.650152</td>\n",
       "      <td>0.427680</td>\n",
       "      <td>936_17</td>\n",
       "      <td>0.031339</td>\n",
       "    </tr>\n",
       "    <tr>\n",
       "      <th>14097</th>\n",
       "      <td>E:/Carpeta de Trabajo (Fco)/Datos para github/...</td>\n",
       "      <td>SUELO DES</td>\n",
       "      <td>255,255,0</td>\n",
       "      <td>1</td>\n",
       "      <td>5</td>\n",
       "      <td>18</td>\n",
       "      <td>12</td>\n",
       "      <td>4</td>\n",
       "      <td>BARBECHO3</td>\n",
       "      <td>suelo_desnudo_agricola_2018_0310_grande</td>\n",
       "      <td>0.068516</td>\n",
       "      <td>0.067344</td>\n",
       "      <td>0.329149</td>\n",
       "      <td>0.199751</td>\n",
       "      <td>0.098366</td>\n",
       "      <td>0.660301</td>\n",
       "      <td>0.655408</td>\n",
       "      <td>0.438048</td>\n",
       "      <td>936_18</td>\n",
       "      <td>0.032496</td>\n",
       "    </tr>\n",
       "    <tr>\n",
       "      <th>14098</th>\n",
       "      <td>E:/Carpeta de Trabajo (Fco)/Datos para github/...</td>\n",
       "      <td>SUELO DES</td>\n",
       "      <td>255,255,0</td>\n",
       "      <td>1</td>\n",
       "      <td>5</td>\n",
       "      <td>18</td>\n",
       "      <td>12</td>\n",
       "      <td>4</td>\n",
       "      <td>BARBECHO3</td>\n",
       "      <td>suelo_desnudo_agricola_2018_0310_grande</td>\n",
       "      <td>0.068183</td>\n",
       "      <td>0.068066</td>\n",
       "      <td>0.326440</td>\n",
       "      <td>0.199169</td>\n",
       "      <td>0.098234</td>\n",
       "      <td>0.654931</td>\n",
       "      <td>0.654439</td>\n",
       "      <td>0.433269</td>\n",
       "      <td>936_19</td>\n",
       "      <td>0.032445</td>\n",
       "    </tr>\n",
       "  </tbody>\n",
       "</table>\n",
       "<p>14099 rows × 20 columns</p>\n",
       "</div>"
      ],
      "text/plain": [
       "                                                    path           RF  \\\n",
       "0      E:/Carpeta de Trabajo (Fco)/Datos para github/...  ACHAPARRADO   \n",
       "1      E:/Carpeta de Trabajo (Fco)/Datos para github/...  ACHAPARRADO   \n",
       "2      E:/Carpeta de Trabajo (Fco)/Datos para github/...  ACHAPARRADO   \n",
       "3      E:/Carpeta de Trabajo (Fco)/Datos para github/...  ACHAPARRADO   \n",
       "4      E:/Carpeta de Trabajo (Fco)/Datos para github/...  ACHAPARRADO   \n",
       "...                                                  ...          ...   \n",
       "14094  E:/Carpeta de Trabajo (Fco)/Datos para github/...    SUELO DES   \n",
       "14095  E:/Carpeta de Trabajo (Fco)/Datos para github/...    SUELO DES   \n",
       "14096  E:/Carpeta de Trabajo (Fco)/Datos para github/...    SUELO DES   \n",
       "14097  E:/Carpeta de Trabajo (Fco)/Datos para github/...    SUELO DES   \n",
       "14098  E:/Carpeta de Trabajo (Fco)/Datos para github/...    SUELO DES   \n",
       "\n",
       "      CLASS_CLRS  FILL_CLASS  POLY_TYPE  ID  IDH  CLASS_ID  CLASS_NAME  \\\n",
       "0        0,205,0           1          5   1   14         0  ACHAPARRAD   \n",
       "1        0,205,0           1          5   1   14         0  ACHAPARRAD   \n",
       "2        0,205,0           1          5   1   14         0  ACHAPARRAD   \n",
       "3        0,205,0           1          5   1   14         0  ACHAPARRAD   \n",
       "4        0,205,0           1          5   1   14         0  ACHAPARRAD   \n",
       "...          ...         ...        ...  ..  ...       ...         ...   \n",
       "14094  255,255,0           1          5  18   12         4   BARBECHO3   \n",
       "14095  255,255,0           1          5  18   12         4   BARBECHO3   \n",
       "14096  255,255,0           1          5  18   12         4   BARBECHO3   \n",
       "14097  255,255,0           1          5  18   12         4   BARBECHO3   \n",
       "14098  255,255,0           1          5  18   12         4   BARBECHO3   \n",
       "\n",
       "                                         layer        b2        b3        b4  \\\n",
       "0                 achaparrado_2018_2210_grande  0.042535  0.034705  0.337664   \n",
       "1                 achaparrado_2018_2210_grande  0.039025  0.030058  0.313210   \n",
       "2                 achaparrado_2018_2210_grande  0.034077  0.025750  0.324303   \n",
       "3                 achaparrado_2018_2210_grande  0.038736  0.027363  0.350001   \n",
       "4                 achaparrado_2018_2210_grande  0.036138  0.026296  0.328300   \n",
       "...                                        ...       ...       ...       ...   \n",
       "14094  suelo_desnudo_agricola_2018_0310_grande  0.061346  0.058328  0.325896   \n",
       "14095  suelo_desnudo_agricola_2018_0310_grande  0.065845  0.065742  0.318638   \n",
       "14096  suelo_desnudo_agricola_2018_0310_grande  0.067506  0.066192  0.318410   \n",
       "14097  suelo_desnudo_agricola_2018_0310_grande  0.068516  0.067344  0.329149   \n",
       "14098  suelo_desnudo_agricola_2018_0310_grande  0.068183  0.068066  0.326440   \n",
       "\n",
       "             b5        b6        b7        b8        b9 system:index        b1  \n",
       "0      0.149532  0.068731  0.813599  0.776247  0.520925          0_0  0.026169  \n",
       "1      0.130905  0.061290  0.824872  0.778417  0.503669          0_1  0.024665  \n",
       "2      0.129287  0.055219  0.852881  0.809826  0.526826          0_2  0.018188  \n",
       "3      0.148841  0.065440  0.854979  0.800706  0.551604          0_3  0.022684  \n",
       "4      0.131833  0.057624  0.851684  0.801680  0.530082          0_4  0.021386  \n",
       "...         ...       ...       ...       ...       ...          ...       ...  \n",
       "14094  0.180328  0.089545  0.696385  0.683163  0.453903       936_15  0.028166  \n",
       "14095  0.191173  0.096099  0.657933  0.657487  0.428938       936_16  0.032137  \n",
       "14096  0.193196  0.096287  0.655789  0.650152  0.427680       936_17  0.031339  \n",
       "14097  0.199751  0.098366  0.660301  0.655408  0.438048       936_18  0.032496  \n",
       "14098  0.199169  0.098234  0.654931  0.654439  0.433269       936_19  0.032445  \n",
       "\n",
       "[14099 rows x 20 columns]"
      ]
     },
     "execution_count": 44,
     "metadata": {},
     "output_type": "execute_result"
    }
   ],
   "source": [
    "df"
   ]
  },
  {
   "cell_type": "code",
   "execution_count": 40,
   "metadata": {},
   "outputs": [],
   "source": [
    "df2 = pd.read_csv(out_csv2)"
   ]
  },
  {
   "cell_type": "code",
   "execution_count": 41,
   "metadata": {},
   "outputs": [
    {
     "data": {
      "text/html": [
       "<div>\n",
       "<style scoped>\n",
       "    .dataframe tbody tr th:only-of-type {\n",
       "        vertical-align: middle;\n",
       "    }\n",
       "\n",
       "    .dataframe tbody tr th {\n",
       "        vertical-align: top;\n",
       "    }\n",
       "\n",
       "    .dataframe thead th {\n",
       "        text-align: right;\n",
       "    }\n",
       "</style>\n",
       "<table border=\"1\" class=\"dataframe\">\n",
       "  <thead>\n",
       "    <tr style=\"text-align: right;\">\n",
       "      <th></th>\n",
       "      <th>cobertura</th>\n",
       "      <th>OBJECTID_1</th>\n",
       "      <th>ID</th>\n",
       "      <th>IDH</th>\n",
       "      <th>layer</th>\n",
       "      <th>b2</th>\n",
       "      <th>b3</th>\n",
       "      <th>b4</th>\n",
       "      <th>b5</th>\n",
       "      <th>b6</th>\n",
       "      <th>b7</th>\n",
       "      <th>b8</th>\n",
       "      <th>b9</th>\n",
       "      <th>system:index</th>\n",
       "      <th>b1</th>\n",
       "    </tr>\n",
       "  </thead>\n",
       "  <tbody>\n",
       "    <tr>\n",
       "      <th>0</th>\n",
       "      <td>agua</td>\n",
       "      <td>10.0</td>\n",
       "      <td>NaN</td>\n",
       "      <td>1</td>\n",
       "      <td>02_agua_val_subset</td>\n",
       "      <td>0.018000</td>\n",
       "      <td>0.010500</td>\n",
       "      <td>0.017300</td>\n",
       "      <td>0.009900</td>\n",
       "      <td>0.007100</td>\n",
       "      <td>0.244604</td>\n",
       "      <td>-0.019830</td>\n",
       "      <td>0.019326</td>\n",
       "      <td>0_0</td>\n",
       "      <td>0.019800</td>\n",
       "    </tr>\n",
       "    <tr>\n",
       "      <th>1</th>\n",
       "      <td>agua</td>\n",
       "      <td>167.0</td>\n",
       "      <td>NaN</td>\n",
       "      <td>1</td>\n",
       "      <td>02_agua_val_subset</td>\n",
       "      <td>0.022920</td>\n",
       "      <td>0.016848</td>\n",
       "      <td>0.187948</td>\n",
       "      <td>0.065009</td>\n",
       "      <td>0.031107</td>\n",
       "      <td>0.835466</td>\n",
       "      <td>0.782612</td>\n",
       "      <td>0.364149</td>\n",
       "      <td>2_0</td>\n",
       "      <td>0.010910</td>\n",
       "    </tr>\n",
       "    <tr>\n",
       "      <th>2</th>\n",
       "      <td>agua</td>\n",
       "      <td>168.0</td>\n",
       "      <td>NaN</td>\n",
       "      <td>1</td>\n",
       "      <td>02_agua_val_subset</td>\n",
       "      <td>0.021857</td>\n",
       "      <td>0.013616</td>\n",
       "      <td>0.026286</td>\n",
       "      <td>0.016476</td>\n",
       "      <td>0.011934</td>\n",
       "      <td>0.317549</td>\n",
       "      <td>0.091999</td>\n",
       "      <td>0.035203</td>\n",
       "      <td>3_0</td>\n",
       "      <td>0.021381</td>\n",
       "    </tr>\n",
       "    <tr>\n",
       "      <th>3</th>\n",
       "      <td>agua</td>\n",
       "      <td>170.0</td>\n",
       "      <td>NaN</td>\n",
       "      <td>1</td>\n",
       "      <td>02_agua_val_subset</td>\n",
       "      <td>0.020023</td>\n",
       "      <td>0.013502</td>\n",
       "      <td>0.025011</td>\n",
       "      <td>0.014753</td>\n",
       "      <td>0.010921</td>\n",
       "      <td>0.298824</td>\n",
       "      <td>0.110768</td>\n",
       "      <td>0.032057</td>\n",
       "      <td>5_0</td>\n",
       "      <td>0.020570</td>\n",
       "    </tr>\n",
       "    <tr>\n",
       "      <th>4</th>\n",
       "      <td>agua</td>\n",
       "      <td>171.0</td>\n",
       "      <td>NaN</td>\n",
       "      <td>1</td>\n",
       "      <td>02_agua_val_subset</td>\n",
       "      <td>0.021874</td>\n",
       "      <td>0.015821</td>\n",
       "      <td>0.029951</td>\n",
       "      <td>0.018179</td>\n",
       "      <td>0.012739</td>\n",
       "      <td>0.308702</td>\n",
       "      <td>0.155859</td>\n",
       "      <td>0.038835</td>\n",
       "      <td>6_0</td>\n",
       "      <td>0.024914</td>\n",
       "    </tr>\n",
       "    <tr>\n",
       "      <th>...</th>\n",
       "      <td>...</td>\n",
       "      <td>...</td>\n",
       "      <td>...</td>\n",
       "      <td>...</td>\n",
       "      <td>...</td>\n",
       "      <td>...</td>\n",
       "      <td>...</td>\n",
       "      <td>...</td>\n",
       "      <td>...</td>\n",
       "      <td>...</td>\n",
       "      <td>...</td>\n",
       "      <td>...</td>\n",
       "      <td>...</td>\n",
       "      <td>...</td>\n",
       "      <td>...</td>\n",
       "    </tr>\n",
       "    <tr>\n",
       "      <th>323</th>\n",
       "      <td>vegetacion altura</td>\n",
       "      <td>NaN</td>\n",
       "      <td>0.0</td>\n",
       "      <td>14</td>\n",
       "      <td>17_vegetacion_altura_val</td>\n",
       "      <td>0.055472</td>\n",
       "      <td>0.054559</td>\n",
       "      <td>0.260036</td>\n",
       "      <td>0.168895</td>\n",
       "      <td>0.094470</td>\n",
       "      <td>0.653148</td>\n",
       "      <td>0.648362</td>\n",
       "      <td>0.378367</td>\n",
       "      <td>458_0</td>\n",
       "      <td>0.031737</td>\n",
       "    </tr>\n",
       "    <tr>\n",
       "      <th>324</th>\n",
       "      <td>vegetacion altura</td>\n",
       "      <td>NaN</td>\n",
       "      <td>0.0</td>\n",
       "      <td>14</td>\n",
       "      <td>17_vegetacion_altura_val</td>\n",
       "      <td>0.057084</td>\n",
       "      <td>0.057905</td>\n",
       "      <td>0.236421</td>\n",
       "      <td>0.192860</td>\n",
       "      <td>0.112964</td>\n",
       "      <td>0.606527</td>\n",
       "      <td>0.611018</td>\n",
       "      <td>0.337109</td>\n",
       "      <td>459_0</td>\n",
       "      <td>0.037315</td>\n",
       "    </tr>\n",
       "    <tr>\n",
       "      <th>325</th>\n",
       "      <td>vegetacion altura</td>\n",
       "      <td>NaN</td>\n",
       "      <td>0.0</td>\n",
       "      <td>14</td>\n",
       "      <td>17_vegetacion_altura_val</td>\n",
       "      <td>0.059564</td>\n",
       "      <td>0.060805</td>\n",
       "      <td>0.285315</td>\n",
       "      <td>0.192619</td>\n",
       "      <td>0.106765</td>\n",
       "      <td>0.648650</td>\n",
       "      <td>0.654579</td>\n",
       "      <td>0.398012</td>\n",
       "      <td>461_0</td>\n",
       "      <td>0.035541</td>\n",
       "    </tr>\n",
       "    <tr>\n",
       "      <th>326</th>\n",
       "      <td>vegetacion altura</td>\n",
       "      <td>NaN</td>\n",
       "      <td>0.0</td>\n",
       "      <td>14</td>\n",
       "      <td>17_vegetacion_altura_val</td>\n",
       "      <td>0.060853</td>\n",
       "      <td>0.060434</td>\n",
       "      <td>0.270101</td>\n",
       "      <td>0.213666</td>\n",
       "      <td>0.121309</td>\n",
       "      <td>0.634328</td>\n",
       "      <td>0.632257</td>\n",
       "      <td>0.378673</td>\n",
       "      <td>462_0</td>\n",
       "      <td>0.036502</td>\n",
       "    </tr>\n",
       "    <tr>\n",
       "      <th>327</th>\n",
       "      <td>vegetacion altura</td>\n",
       "      <td>NaN</td>\n",
       "      <td>0.0</td>\n",
       "      <td>14</td>\n",
       "      <td>17_vegetacion_altura_val</td>\n",
       "      <td>0.056659</td>\n",
       "      <td>0.051516</td>\n",
       "      <td>0.285851</td>\n",
       "      <td>0.184623</td>\n",
       "      <td>0.093777</td>\n",
       "      <td>0.694600</td>\n",
       "      <td>0.669153</td>\n",
       "      <td>0.419771</td>\n",
       "      <td>463_0</td>\n",
       "      <td>0.031695</td>\n",
       "    </tr>\n",
       "  </tbody>\n",
       "</table>\n",
       "<p>328 rows × 15 columns</p>\n",
       "</div>"
      ],
      "text/plain": [
       "             cobertura  OBJECTID_1   ID  IDH                     layer  \\\n",
       "0                 agua        10.0  NaN    1        02_agua_val_subset   \n",
       "1                 agua       167.0  NaN    1        02_agua_val_subset   \n",
       "2                 agua       168.0  NaN    1        02_agua_val_subset   \n",
       "3                 agua       170.0  NaN    1        02_agua_val_subset   \n",
       "4                 agua       171.0  NaN    1        02_agua_val_subset   \n",
       "..                 ...         ...  ...  ...                       ...   \n",
       "323  vegetacion altura         NaN  0.0   14  17_vegetacion_altura_val   \n",
       "324  vegetacion altura         NaN  0.0   14  17_vegetacion_altura_val   \n",
       "325  vegetacion altura         NaN  0.0   14  17_vegetacion_altura_val   \n",
       "326  vegetacion altura         NaN  0.0   14  17_vegetacion_altura_val   \n",
       "327  vegetacion altura         NaN  0.0   14  17_vegetacion_altura_val   \n",
       "\n",
       "           b2        b3        b4        b5        b6        b7        b8  \\\n",
       "0    0.018000  0.010500  0.017300  0.009900  0.007100  0.244604 -0.019830   \n",
       "1    0.022920  0.016848  0.187948  0.065009  0.031107  0.835466  0.782612   \n",
       "2    0.021857  0.013616  0.026286  0.016476  0.011934  0.317549  0.091999   \n",
       "3    0.020023  0.013502  0.025011  0.014753  0.010921  0.298824  0.110768   \n",
       "4    0.021874  0.015821  0.029951  0.018179  0.012739  0.308702  0.155859   \n",
       "..        ...       ...       ...       ...       ...       ...       ...   \n",
       "323  0.055472  0.054559  0.260036  0.168895  0.094470  0.653148  0.648362   \n",
       "324  0.057084  0.057905  0.236421  0.192860  0.112964  0.606527  0.611018   \n",
       "325  0.059564  0.060805  0.285315  0.192619  0.106765  0.648650  0.654579   \n",
       "326  0.060853  0.060434  0.270101  0.213666  0.121309  0.634328  0.632257   \n",
       "327  0.056659  0.051516  0.285851  0.184623  0.093777  0.694600  0.669153   \n",
       "\n",
       "           b9 system:index        b1  \n",
       "0    0.019326          0_0  0.019800  \n",
       "1    0.364149          2_0  0.010910  \n",
       "2    0.035203          3_0  0.021381  \n",
       "3    0.032057          5_0  0.020570  \n",
       "4    0.038835          6_0  0.024914  \n",
       "..        ...          ...       ...  \n",
       "323  0.378367        458_0  0.031737  \n",
       "324  0.337109        459_0  0.037315  \n",
       "325  0.398012        461_0  0.035541  \n",
       "326  0.378673        462_0  0.036502  \n",
       "327  0.419771        463_0  0.031695  \n",
       "\n",
       "[328 rows x 15 columns]"
      ]
     },
     "execution_count": 41,
     "metadata": {},
     "output_type": "execute_result"
    }
   ],
   "source": [
    "df2"
   ]
  },
  {
   "cell_type": "markdown",
   "metadata": {},
   "source": [
    "### Dividiendo en muestras y datos de validación"
   ]
  },
  {
   "cell_type": "code",
   "execution_count": 45,
   "metadata": {},
   "outputs": [],
   "source": [
    "# Guardamos las bandas\n",
    "bands = ['b1', 'b2', 'b3', 'b4', 'b5', 'b6', 'b7', 'b8', 'b9']\n",
    "\n",
    "# Esta propiedad guarda las clases de landcover\n",
    "label = 'IDH'\n",
    "\n",
    "# Overlay the points on the imagery to get training.\n",
    "# sample = landsat.select(bands).sampleRegions(**{\n",
    "#   'collection': points,\n",
    "#   'properties': [label],\n",
    "#   'scale': 30\n",
    "# })\n",
    "\n",
    "# Adds a column of deterministic pseudorandom numbers. \n",
    "# sample = dataset.randomColumn()\n",
    "\n",
    "# split = 0.7 \n",
    "\n",
    "# training = sample.filter(ee.Filter.lt('random', split))\n",
    "# validation = sample.filter(ee.Filter.gte('random', split))"
   ]
  },
  {
   "cell_type": "code",
   "execution_count": null,
   "metadata": {},
   "outputs": [],
   "source": [
    "# training.first().getInfo()"
   ]
  },
  {
   "cell_type": "code",
   "execution_count": null,
   "metadata": {},
   "outputs": [],
   "source": [
    "# validation.first().getInfo()"
   ]
  },
  {
   "cell_type": "markdown",
   "metadata": {},
   "source": [
    "## Entrenando el modelo "
   ]
  },
  {
   "cell_type": "code",
   "execution_count": null,
   "metadata": {},
   "outputs": [],
   "source": [
    "# from sklearn import svm\n",
    "# from sklearn import ensemble"
   ]
  },
  {
   "cell_type": "code",
   "execution_count": null,
   "metadata": {},
   "outputs": [],
   "source": [
    "# feature_names = ['b1', 'b2', 'b3', 'b4', 'b5', 'b6', 'b7', 'b8', 'b9']\n",
    "# label = \"IDH\""
   ]
  },
  {
   "cell_type": "code",
   "execution_count": null,
   "metadata": {},
   "outputs": [],
   "source": [
    "# X = df[feature_names]\n",
    "# y= df[label]"
   ]
  },
  {
   "cell_type": "code",
   "execution_count": 46,
   "metadata": {},
   "outputs": [],
   "source": [
    "classifi = ee.Classifier.libsvm('Voting','C_SVC','RBF', gamma = 0.5 , cost = 10 )"
   ]
  },
  {
   "cell_type": "code",
   "execution_count": null,
   "metadata": {},
   "outputs": [],
   "source": [
    "# clf =svm.SVC()\n",
    "# clf.fit(X, y)"
   ]
  },
  {
   "cell_type": "code",
   "execution_count": 47,
   "metadata": {},
   "outputs": [],
   "source": [
    "trained = classifi.train(dataset, label, bands)\n",
    "classified = mosaico.classify(trained)"
   ]
  },
  {
   "cell_type": "code",
   "execution_count": 48,
   "metadata": {},
   "outputs": [
    {
     "data": {
      "text/plain": [
       "<ee.Classifier at 0x7f651ceec4c0>"
      ]
     },
     "execution_count": 48,
     "metadata": {},
     "output_type": "execute_result"
    }
   ],
   "source": [
    "trained"
   ]
  },
  {
   "cell_type": "code",
   "execution_count": 49,
   "metadata": {},
   "outputs": [
    {
     "data": {
      "text/plain": [
       "<ee.image.Image at 0x7f651ceeca30>"
      ]
     },
     "execution_count": 49,
     "metadata": {},
     "output_type": "execute_result"
    }
   ],
   "source": [
    "classified"
   ]
  },
  {
   "cell_type": "markdown",
   "metadata": {},
   "source": [
    "### Clasificando la imagen"
   ]
  },
  {
   "cell_type": "code",
   "execution_count": null,
   "metadata": {},
   "outputs": [],
   "source": [
    "class_values = [1,2,3,4,5,6,7,8,9,10,11,12,13,14,15\n",
    "    ]\n",
    "class_palette = ['0c40f1', #1 agua*\n",
    " 'f0ff00', #2 cultivo*\n",
    " 'f99504', #3 estepa*\n",
    " '17d4c6', #4 humedal*\n",
    " '24ff00', #5 matorral abierto*\n",
    " '2de50f', #6 matorral arborescente*\n",
    " 'ccba7d', #7 plantaciones*\n",
    " 'dec61a', #8 praderas\n",
    " '2de50f', #9 pastoreo\n",
    " 'ccba7d', #10 primario\n",
    " 'dec61a', #11 secundario\n",
    " '28d909', #12 suelo desnudo\n",
    " '4e8c44', #13 suelo desnudo altura\n",
    " '22c129', #14* vegetacion altura*\n",
    " 'c0c233' #15 estepa abierta\n",
    "]\n",
    "# class_palette =  \n",
    "# ['22c129',achaparrado\n",
    "#  'f0ff00',agricola \n",
    "#  '0c40f1', agua\n",
    "#  '685205',arenal roca\n",
    "#  '0d4404',bosque degradado\n",
    "#  'e82d13',cuncuna\n",
    "#  'f99504',estepa\n",
    "#  '17d4c6', humedal\n",
    "#  '1c6330',mallin\n",
    "#  '24ff00',matorral abierto\n",
    "#  '2de50f', matorral denso\n",
    "#  'ccba7d',plantacion\n",
    "#  'dec61a',praderas\n",
    "#  '28d909',primario\n",
    "#  '03c2ff',rios\n",
    "#  '4e8c44',secundario\n",
    "#  'fdfdfd', sombra topo\n",
    "#  'c0c233' suelo desnudo\n",
    "# ]\n"
   ]
  },
  {
   "cell_type": "code",
   "execution_count": null,
   "metadata": {},
   "outputs": [],
   "source": [
    "land = classified.set('classification_class_values', class_values)\n",
    "landcoverf = land.set('classification_class_palette', class_palette)"
   ]
  },
  {
   "cell_type": "code",
   "execution_count": null,
   "metadata": {},
   "outputs": [],
   "source": [
    "Map.addLayer(landcoverf, {}, 'Land cover SVM')\n",
    "Map"
   ]
  },
  {
   "cell_type": "markdown",
   "metadata": {},
   "source": [
    "### Categorizando según las clases "
   ]
  },
  {
   "cell_type": "code",
   "execution_count": null,
   "metadata": {},
   "outputs": [],
   "source": [
    "# landcover.getInfo()"
   ]
  },
  {
   "cell_type": "code",
   "execution_count": null,
   "metadata": {},
   "outputs": [],
   "source": [
    "# class_values = [1,\n",
    "#  2,\n",
    "#  3,\n",
    "#  4,\n",
    "#  5,\n",
    "#  6,\n",
    "#  7,\n",
    "#  8,\n",
    "#  9,\n",
    "#  10,\n",
    "#  11,\n",
    "#  12,\n",
    "#  13,\n",
    "#  14,\n",
    "#  15,\n",
    "#  16]"
   ]
  },
  {
   "cell_type": "code",
   "execution_count": null,
   "metadata": {},
   "outputs": [],
   "source": [
    "# class_palette = ['476ba1',\n",
    "#  'd1defa',\n",
    "#  'decaca',\n",
    "#  'd99482',\n",
    "#  'ee0000',\n",
    "#  'ab0000',\n",
    "#  'b3aea3',\n",
    "#  '68ab63',\n",
    "#  '1c6330',\n",
    "#  'b5ca8f',\n",
    "#  'a68c30',\n",
    "#  'ccba7d',\n",
    "#  'e3e3c2',\n",
    "#  'caca78',\n",
    "#  '99c247',\n",
    "#  '78ae94']\n"
   ]
  },
  {
   "cell_type": "code",
   "execution_count": null,
   "metadata": {},
   "outputs": [],
   "source": [
    "# landcoverf = result.set('classification_class_values', class_values)\n",
    "# landcoverf = landcoverf.set('classification_class_palette', class_palette)"
   ]
  },
  {
   "cell_type": "code",
   "execution_count": null,
   "metadata": {},
   "outputs": [],
   "source": [
    "# Map.addLayer(landcoverf, {}, 'Land cover clasificado' )\n",
    "# Map"
   ]
  },
  {
   "cell_type": "markdown",
   "metadata": {},
   "source": [
    "### Visualizando el resultado\n"
   ]
  },
  {
   "cell_type": "code",
   "execution_count": null,
   "metadata": {},
   "outputs": [],
   "source": [
    "print('Change layer opacity:')\n",
    "cluster_layer = Map.layers[-1]\n",
    "cluster_layer.interact(opacity=(0, 1, 0.1))\n"
   ]
  },
  {
   "cell_type": "code",
   "execution_count": null,
   "metadata": {},
   "outputs": [],
   "source": [
    "Map"
   ]
  },
  {
   "cell_type": "markdown",
   "metadata": {},
   "source": [
    "### Agregando título al mapa"
   ]
  },
  {
   "cell_type": "code",
   "execution_count": null,
   "metadata": {},
   "outputs": [],
   "source": [
    "# Map.add_legend('Clasificación supervisada CART')\n",
    "# Map"
   ]
  },
  {
   "cell_type": "markdown",
   "metadata": {},
   "source": [
    "### Evaluación de presición / Accuracy assessment"
   ]
  },
  {
   "cell_type": "code",
   "execution_count": null,
   "metadata": {},
   "outputs": [],
   "source": [
    "train_accuracy = trained.confusionMatrix()"
   ]
  },
  {
   "cell_type": "code",
   "execution_count": null,
   "metadata": {},
   "outputs": [],
   "source": [
    "train_accuracy.getInfo()"
   ]
  },
  {
   "cell_type": "code",
   "execution_count": null,
   "metadata": {},
   "outputs": [],
   "source": [
    "train_accuracy.accuracy().getInfo()"
   ]
  },
  {
   "cell_type": "code",
   "execution_count": null,
   "metadata": {},
   "outputs": [],
   "source": [
    "train_accuracy.kappa().getInfo()"
   ]
  },
  {
   "cell_type": "code",
   "execution_count": null,
   "metadata": {},
   "outputs": [],
   "source": [
    "train_accuracy.producersAccuracy().getInfo()"
   ]
  },
  {
   "cell_type": "code",
   "execution_count": null,
   "metadata": {},
   "outputs": [],
   "source": [
    "train_accuracy.consumersAccuracy().getInfo()"
   ]
  },
  {
   "cell_type": "markdown",
   "metadata": {},
   "source": [
    "#### Set de datos de validación"
   ]
  },
  {
   "cell_type": "code",
   "execution_count": null,
   "metadata": {},
   "outputs": [],
   "source": [
    "validated = datasetval.classify(trained)"
   ]
  },
  {
   "cell_type": "code",
   "execution_count": null,
   "metadata": {},
   "outputs": [],
   "source": [
    "validated.first().getInfo()"
   ]
  },
  {
   "cell_type": "code",
   "execution_count": null,
   "metadata": {},
   "outputs": [],
   "source": [
    "test_accuracy = validated.errorMatrix('IDH', 'classification')"
   ]
  },
  {
   "cell_type": "code",
   "execution_count": null,
   "metadata": {},
   "outputs": [],
   "source": [
    "test_accuracy.getInfo()"
   ]
  },
  {
   "cell_type": "code",
   "execution_count": null,
   "metadata": {},
   "outputs": [],
   "source": [
    "test_accuracy.accuracy().getInfo()"
   ]
  },
  {
   "cell_type": "code",
   "execution_count": null,
   "metadata": {},
   "outputs": [],
   "source": [
    "test_accuracy.kappa().getInfo()"
   ]
  },
  {
   "cell_type": "code",
   "execution_count": null,
   "metadata": {},
   "outputs": [],
   "source": [
    "test_accuracy.producersAccuracy().getInfo()"
   ]
  },
  {
   "cell_type": "code",
   "execution_count": null,
   "metadata": {},
   "outputs": [],
   "source": [
    "test_accuracy.consumersAccuracy().getInfo()"
   ]
  },
  {
   "cell_type": "markdown",
   "metadata": {},
   "source": [
    "### Descargando la matrix"
   ]
  },
  {
   "cell_type": "code",
   "execution_count": null,
   "metadata": {},
   "outputs": [],
   "source": [
    "# import csv\n",
    "# import os\n",
    "\n",
    "# out_dir = os.path.join(os.path.expanduser('/mnt/c/Users/R7 3700X/'), 'Desktop')\n",
    "# training_csv = os.path.join(out_dir, 'train_accuracy.csv')\n",
    "# testing_csv = os.path.join(out_dir, 'test_accuracy.csv')\n",
    "\n",
    "# with open(training_csv, \"w\", newline=\"\") as f:\n",
    "#     writer = csv.writer(f)\n",
    "#     writer.writerows(train_accuracy.getInfo())\n",
    "    \n",
    "# with open(testing_csv, \"w\", newline=\"\") as f:\n",
    "#     writer = csv.writer(f)\n",
    "#     writer.writerows(test_accuracy.getInfo())"
   ]
  },
  {
   "cell_type": "code",
   "execution_count": null,
   "metadata": {},
   "outputs": [],
   "source": []
  },
  {
   "cell_type": "markdown",
   "metadata": {},
   "source": [
    "### Exportando "
   ]
  },
  {
   "cell_type": "code",
   "execution_count": null,
   "metadata": {},
   "outputs": [],
   "source": [
    "# import os\n",
    "# out_dir = os.path.join(os.path.expanduser('/mnt/c/Users/R7 3700X/'), 'Desktop')\n",
    "# out_file = os.path.join(out_dir, 'landcover.tif')"
   ]
  },
  {
   "cell_type": "code",
   "execution_count": null,
   "metadata": {},
   "outputs": [],
   "source": [
    "# geemap.ee_export_image(landcover, filename=out_file, scale=900)\n"
   ]
  },
  {
   "cell_type": "code",
   "execution_count": null,
   "metadata": {},
   "outputs": [],
   "source": [
    "# geemap.ee_export_image_to_drive(landcover, description='landcover', folder='export', scale=900)"
   ]
  }
 ],
 "metadata": {
  "anaconda-cloud": {},
  "kernelspec": {
   "display_name": "Python 3",
   "language": "python",
   "name": "python3"
  },
  "language_info": {
   "codemirror_mode": {
    "name": "ipython",
    "version": 3
   },
   "file_extension": ".py",
   "mimetype": "text/x-python",
   "name": "python",
   "nbconvert_exporter": "python",
   "pygments_lexer": "ipython3",
   "version": "3.9.2"
  },
  "toc": {
   "base_numbering": 1,
   "nav_menu": {},
   "number_sections": true,
   "sideBar": true,
   "skip_h1_title": false,
   "title_cell": "Table of Contents",
   "title_sidebar": "Contents",
   "toc_cell": false,
   "toc_position": {
    "height": "calc(100% - 180px)",
    "left": "10px",
    "top": "150px",
    "width": "344px"
   },
   "toc_section_display": true,
   "toc_window_display": true
  },
  "varInspector": {
   "cols": {
    "lenName": 16,
    "lenType": 16,
    "lenVar": 40
   },
   "kernels_config": {
    "python": {
     "delete_cmd_postfix": "",
     "delete_cmd_prefix": "del ",
     "library": "var_list.py",
     "varRefreshCmd": "print(var_dic_list())"
    },
    "r": {
     "delete_cmd_postfix": ") ",
     "delete_cmd_prefix": "rm(",
     "library": "var_list.r",
     "varRefreshCmd": "cat(var_dic_list()) "
    }
   },
   "types_to_exclude": [
    "module",
    "function",
    "builtin_function_or_method",
    "instance",
    "_Feature"
   ],
   "window_display": false
  }
 },
 "nbformat": 4,
 "nbformat_minor": 4
}
