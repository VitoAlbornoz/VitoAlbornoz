{
 "cells": [
  {
   "cell_type": "code",
   "execution_count": 1,
   "id": "joined-delicious",
   "metadata": {
    "ExecuteTime": {
     "end_time": "2021-09-09T16:20:57.581771Z",
     "start_time": "2021-09-09T16:20:57.167519Z"
    }
   },
   "outputs": [],
   "source": [
    "import ee\n",
    "import geemap\n",
    "import os\n"
   ]
  },
  {
   "cell_type": "code",
   "execution_count": 2,
   "id": "26676695",
   "metadata": {
    "ExecuteTime": {
     "end_time": "2021-09-09T16:20:57.584401Z",
     "start_time": "2021-09-09T16:20:57.582884Z"
    }
   },
   "outputs": [],
   "source": [
    "# geemap.update_package()"
   ]
  },
  {
   "cell_type": "code",
   "execution_count": 3,
   "id": "departmental-bridal",
   "metadata": {
    "ExecuteTime": {
     "end_time": "2021-09-09T16:21:06.574598Z",
     "start_time": "2021-09-09T16:20:57.585456Z"
    }
   },
   "outputs": [],
   "source": [
    "Map = geemap.Map()\n"
   ]
  },
  {
   "cell_type": "code",
   "execution_count": 4,
   "id": "adolescent-tsunami",
   "metadata": {
    "ExecuteTime": {
     "end_time": "2021-09-09T16:21:06.577973Z",
     "start_time": "2021-09-09T16:21:06.575934Z"
    }
   },
   "outputs": [],
   "source": [
    "# mosaico = ee.Image(\"users/franciscoalbornoz/Mosaico_2018\")\n",
    "# clasificacion_2018 = ee.Image(\"users/franciscoalbornoz/clasificacion_2018\")\n",
    "# landcover_2018 = ee.Image(\"users/franciscoalbornoz/landcover_sur\")\n",
    "# landsat_vis = {\n",
    "#     'min': 0,\n",
    "#     'max': 1,\n",
    "#     'bands': ['b5', 'b4', 'b3']\n",
    "# }\n",
    "# Map.addLayer(mosaico, landsat_vis, \"Landsat-8-2018\")\n",
    "# Map.addLayer(clasificacion_2018.randomVisualizer(), {}, \"clasificación 2018\")\n",
    "# Map.addLayer(landcover_2018.randomVisualizer(), {} , \"landcover provincia\")\n",
    "# Map"
   ]
  },
  {
   "cell_type": "code",
   "execution_count": 5,
   "id": "bef2af38",
   "metadata": {
    "ExecuteTime": {
     "end_time": "2021-09-09T16:21:07.531077Z",
     "start_time": "2021-09-09T16:21:06.578806Z"
    }
   },
   "outputs": [],
   "source": [
    "countries = ee.FeatureCollection('users/giswqs/public/countries')\n",
    "Map.addLayer(countries, {}, 'countries')\n"
   ]
  },
  {
   "cell_type": "code",
   "execution_count": 6,
   "id": "38be2532",
   "metadata": {
    "ExecuteTime": {
     "end_time": "2021-09-09T16:21:07.874178Z",
     "start_time": "2021-09-09T16:21:07.531959Z"
    }
   },
   "outputs": [],
   "source": [
    "roi = countries.filter(ee.Filter.eq('id', 'CHL'))\n",
    "Map.addLayer(roi, {}, 'roi')"
   ]
  },
  {
   "cell_type": "code",
   "execution_count": 7,
   "id": "51936c07",
   "metadata": {
    "ExecuteTime": {
     "end_time": "2021-09-09T16:21:08.316956Z",
     "start_time": "2021-09-09T16:21:07.875100Z"
    }
   },
   "outputs": [],
   "source": [
    "region = ee.FeatureCollection('users/franciscoalbornoz/Aysen')\n",
    "Map.addLayer(region, {}, 'Aysen')"
   ]
  },
  {
   "cell_type": "code",
   "execution_count": 8,
   "id": "0b0baf76",
   "metadata": {
    "ExecuteTime": {
     "end_time": "2021-09-09T16:21:08.319778Z",
     "start_time": "2021-09-09T16:21:08.317843Z"
    }
   },
   "outputs": [],
   "source": [
    "start_date = '2018-12-01'\n",
    "end_date = '2019-03-31'\n",
    "\n",
    "l8 = ee.ImageCollection('LANDSAT/LC08/C01/T1_TOA') \\\n",
    "    .filterBounds(roi) \\\n",
    "    .filterDate(start_date, end_date)"
   ]
  },
  {
   "cell_type": "code",
   "execution_count": 9,
   "id": "9a8c3eda",
   "metadata": {
    "ExecuteTime": {
     "end_time": "2021-09-09T16:21:10.096126Z",
     "start_time": "2021-09-09T16:21:08.320596Z"
    }
   },
   "outputs": [
    {
     "data": {
      "application/vnd.jupyter.widget-view+json": {
       "model_id": "ae13693e68e74779af97e9157fb7aab4",
       "version_major": 2,
       "version_minor": 0
      },
      "text/plain": [
       "Map(center=[-37.30779156528291, -71.17818286898157], controls=(WidgetControl(options=['position', 'transparent…"
      ]
     },
     "metadata": {},
     "output_type": "display_data"
    }
   ],
   "source": [
    "median = l8.median()\n",
    "\n",
    "visParams = {\n",
    "  'bands': ['B4', 'B3', 'B2'],\n",
    "  'min': 0,\n",
    "  'max': 0.4,\n",
    "}\n",
    "\n",
    "Map.addLayer(median, visParams, 'Median')\n",
    "Map.centerObject(roi, 10)\n",
    "Map"
   ]
  },
  {
   "cell_type": "code",
   "execution_count": 10,
   "id": "379663d2",
   "metadata": {
    "ExecuteTime": {
     "end_time": "2021-09-09T16:21:10.099178Z",
     "start_time": "2021-09-09T16:21:10.097514Z"
    }
   },
   "outputs": [],
   "source": [
    "def addNDVI(image): \n",
    "    ndvi = image.normalizedDifference(['B5', 'B4']).rename('NDVI')\n",
    "    return image.addBands(ndvi)"
   ]
  },
  {
   "cell_type": "code",
   "execution_count": 11,
   "id": "ac36c683",
   "metadata": {
    "ExecuteTime": {
     "end_time": "2021-09-09T16:21:10.105636Z",
     "start_time": "2021-09-09T16:21:10.099904Z"
    }
   },
   "outputs": [],
   "source": [
    "def addDate(image):\n",
    "    img_date = ee.Date(image.date())\n",
    "    img_date = ee.Number.parse(img_date.format('YYYYMMdd'))\n",
    "    return image.addBands(ee.Image(img_date).rename('date').toInt())"
   ]
  },
  {
   "cell_type": "code",
   "execution_count": 12,
   "id": "8b1bf6b8",
   "metadata": {
    "ExecuteTime": {
     "end_time": "2021-09-09T16:21:10.110710Z",
     "start_time": "2021-09-09T16:21:10.106528Z"
    }
   },
   "outputs": [],
   "source": [
    "def addMonth(image):\n",
    "    img_date = ee.Date(image.date())\n",
    "    img_doy = ee.Number.parse(img_date.format('M'))\n",
    "    return image.addBands(ee.Image(img_doy).rename('month').toInt())"
   ]
  },
  {
   "cell_type": "code",
   "execution_count": 13,
   "id": "6bc512f2",
   "metadata": {
    "ExecuteTime": {
     "end_time": "2021-09-09T16:21:10.116177Z",
     "start_time": "2021-09-09T16:21:10.111760Z"
    }
   },
   "outputs": [],
   "source": [
    "def addDOY(image):\n",
    "    img_date = ee.Date(image.date())\n",
    "    img_doy = ee.Number.parse(img_date.format('D'))\n",
    "    return image.addBands(ee.Image(img_doy).rename('doy').toInt())"
   ]
  },
  {
   "cell_type": "code",
   "execution_count": 14,
   "id": "e5c1416b",
   "metadata": {
    "ExecuteTime": {
     "end_time": "2021-09-09T16:21:10.122651Z",
     "start_time": "2021-09-09T16:21:10.117196Z"
    }
   },
   "outputs": [],
   "source": [
    "withNDVI = l8.map(addNDVI).map(addDate).map(addMonth).map(addDOY)"
   ]
  },
  {
   "cell_type": "code",
   "execution_count": 15,
   "id": "a6ce3775",
   "metadata": {
    "ExecuteTime": {
     "end_time": "2021-09-09T16:21:10.130659Z",
     "start_time": "2021-09-09T16:21:10.123703Z"
    }
   },
   "outputs": [],
   "source": [
    "greenest = withNDVI.qualityMosaic('NDVI').clip(region)"
   ]
  },
  {
   "cell_type": "code",
   "execution_count": 16,
   "id": "96d6ee29",
   "metadata": {
    "ExecuteTime": {
     "end_time": "2021-09-09T16:21:11.007333Z",
     "start_time": "2021-09-09T16:21:10.131588Z"
    }
   },
   "outputs": [
    {
     "data": {
      "text/plain": [
       "['B1',\n",
       " 'B2',\n",
       " 'B3',\n",
       " 'B4',\n",
       " 'B5',\n",
       " 'B6',\n",
       " 'B7',\n",
       " 'B8',\n",
       " 'B9',\n",
       " 'B10',\n",
       " 'B11',\n",
       " 'BQA',\n",
       " 'NDVI',\n",
       " 'date',\n",
       " 'month',\n",
       " 'doy']"
      ]
     },
     "execution_count": 16,
     "metadata": {},
     "output_type": "execute_result"
    }
   ],
   "source": [
    "greenest.bandNames().getInfo()"
   ]
  },
  {
   "cell_type": "code",
   "execution_count": 17,
   "id": "cc847ca0",
   "metadata": {
    "ExecuteTime": {
     "end_time": "2021-09-09T16:21:12.253797Z",
     "start_time": "2021-09-09T16:21:11.008309Z"
    }
   },
   "outputs": [],
   "source": [
    "ndvi = greenest.select('NDVI')\n",
    "palette = ['#d73027', '#f46d43', '#fdae61', '#fee08b', '#d9ef8b', '#a6d96a', '#66bd63', '#1a9850']\n",
    "Map.addLayer(ndvi, {'palette': palette}, 'NDVI')"
   ]
  },
  {
   "cell_type": "code",
   "execution_count": 18,
   "id": "b071ec69",
   "metadata": {
    "ExecuteTime": {
     "end_time": "2021-09-09T16:21:13.543927Z",
     "start_time": "2021-09-09T16:21:12.254655Z"
    }
   },
   "outputs": [
    {
     "data": {
      "application/vnd.jupyter.widget-view+json": {
       "model_id": "ae13693e68e74779af97e9157fb7aab4",
       "version_major": 2,
       "version_minor": 0
      },
      "text/plain": [
       "Map(center=[-37.30779156528291, -71.17818286898157], controls=(WidgetControl(options=['position', 'transparent…"
      ]
     },
     "metadata": {},
     "output_type": "display_data"
    }
   ],
   "source": [
    "Map.addLayer(greenest, visParams, 'Greenest pixel')\n",
    "Map"
   ]
  },
  {
   "cell_type": "code",
   "execution_count": 19,
   "id": "f0819773",
   "metadata": {
    "ExecuteTime": {
     "end_time": "2021-09-09T16:21:15.106082Z",
     "start_time": "2021-09-09T16:21:13.544716Z"
    }
   },
   "outputs": [
    {
     "data": {
      "application/vnd.jupyter.widget-view+json": {
       "model_id": "ae13693e68e74779af97e9157fb7aab4",
       "version_major": 2,
       "version_minor": 0
      },
      "text/plain": [
       "Map(center=[-37.30779156528291, -71.17818286898157], controls=(WidgetControl(options=['position', 'transparent…"
      ]
     },
     "metadata": {},
     "output_type": "display_data"
    }
   ],
   "source": [
    "mosaico = ee.Image(\"users/franciscoalbornoz/Mosaico_2018\")\n",
    "clasificacion_2018 = ee.Image(\"users/franciscoalbornoz/clasificacion_2018\")\n",
    "landcover_2018 = ee.Image(\"users/franciscoalbornoz/landcover_sur\")\n",
    "landsat_vis = {\n",
    "    'min': 0,\n",
    "    'max': 1,\n",
    "    'bands': ['b5', 'b4', 'b3']\n",
    "}\n",
    "Map.addLayer(mosaico, landsat_vis, \"Landsat-8-2018\")\n",
    "Map.addLayer(clasificacion_2018.randomVisualizer(), {}, \"clasificación 2018\")\n",
    "Map.addLayer(landcover_2018.randomVisualizer(), {} , \"landcover provincia\")\n",
    "Map"
   ]
  },
  {
   "cell_type": "code",
   "execution_count": 20,
   "id": "0dbb0df5",
   "metadata": {
    "ExecuteTime": {
     "end_time": "2021-09-09T16:21:15.108978Z",
     "start_time": "2021-09-09T16:21:15.107081Z"
    }
   },
   "outputs": [],
   "source": [
    "class_palette = ['22c129',\n",
    " 'f0ff00',\n",
    " '0c40f1',\n",
    " '685205',\n",
    " '0d4404',\n",
    " 'e82d13',\n",
    " 'f99504',\n",
    " '17d4c6',\n",
    " '1c6330',\n",
    " '24ff00',\n",
    " '2de50f',\n",
    " 'ccba7d',\n",
    " 'dec61a',\n",
    " '28d909',\n",
    " '03c2ff',\n",
    " '4e8c44',\n",
    " 'fdfdfd',\n",
    " 'c0c233'\n",
    "]\n",
    "# paleta de 18 colores\n"
   ]
  },
  {
   "cell_type": "code",
   "execution_count": 21,
   "id": "fd4e4fdf",
   "metadata": {
    "ExecuteTime": {
     "end_time": "2021-09-09T16:21:15.111818Z",
     "start_time": "2021-09-09T16:21:15.110024Z"
    }
   },
   "outputs": [],
   "source": [
    "class_values = [1,2,3,4,5,6,7,8,9,10,11,12,13,14,15,16,17,18\n",
    "    ]"
   ]
  },
  {
   "cell_type": "code",
   "execution_count": 22,
   "id": "b28686e6",
   "metadata": {
    "ExecuteTime": {
     "end_time": "2021-09-09T16:21:15.327500Z",
     "start_time": "2021-09-09T16:21:15.112727Z"
    }
   },
   "outputs": [
    {
     "data": {
      "text/plain": [
       "['b1']"
      ]
     },
     "execution_count": 22,
     "metadata": {},
     "output_type": "execute_result"
    }
   ],
   "source": [
    "landcover_2018.bandNames().getInfo()"
   ]
  },
  {
   "cell_type": "code",
   "execution_count": 23,
   "id": "0f667c56",
   "metadata": {
    "ExecuteTime": {
     "end_time": "2021-09-09T16:21:15.658776Z",
     "start_time": "2021-09-09T16:21:15.328348Z"
    }
   },
   "outputs": [
    {
     "data": {
      "text/plain": [
       "{'b1': {'type': 'PixelType', 'precision': 'int', 'min': 0, 'max': 255}}"
      ]
     },
     "execution_count": 23,
     "metadata": {},
     "output_type": "execute_result"
    }
   ],
   "source": [
    "clasificacion_2018.bandTypes().getInfo()\n"
   ]
  },
  {
   "cell_type": "code",
   "execution_count": 24,
   "id": "26ba0fad",
   "metadata": {
    "ExecuteTime": {
     "end_time": "2021-09-09T16:21:15.661012Z",
     "start_time": "2021-09-09T16:21:15.659691Z"
    }
   },
   "outputs": [],
   "source": [
    "# land2018 = landcover_2018.set('classification_class_values', class_values)\n",
    "# land2018f = land2018.set('classification_class_palette', class_palette)"
   ]
  },
  {
   "cell_type": "code",
   "execution_count": 25,
   "id": "234d5974",
   "metadata": {
    "ExecuteTime": {
     "end_time": "2021-09-09T16:21:15.663965Z",
     "start_time": "2021-09-09T16:21:15.661716Z"
    }
   },
   "outputs": [],
   "source": [
    "# class2018 = clasificacion_2018.set('classification_class_values', class_values)\n",
    "# class2018f = class2018.set('classification_class_palette', class_palette)"
   ]
  },
  {
   "cell_type": "code",
   "execution_count": 26,
   "id": "c85ae479",
   "metadata": {
    "ExecuteTime": {
     "end_time": "2021-09-09T16:21:15.665997Z",
     "start_time": "2021-09-09T16:21:15.664755Z"
    }
   },
   "outputs": [],
   "source": [
    "# Map.addLayer(land2018f, {}, 'landcover_prov_coyhaique' )\n",
    "# Map.addLayer(class2018f,{},'clasificacion 2018')"
   ]
  },
  {
   "cell_type": "code",
   "execution_count": 27,
   "id": "2f97f3a9",
   "metadata": {
    "ExecuteTime": {
     "end_time": "2021-09-09T16:21:15.889893Z",
     "start_time": "2021-09-09T16:21:15.666992Z"
    }
   },
   "outputs": [
    {
     "data": {
      "text/plain": [
       "['b1', 'b2', 'b3', 'b4', 'b5', 'b6', 'b7', 'b8', 'b9']"
      ]
     },
     "execution_count": 27,
     "metadata": {},
     "output_type": "execute_result"
    }
   ],
   "source": [
    "mosaico.bandNames().getInfo()"
   ]
  },
  {
   "cell_type": "code",
   "execution_count": 28,
   "id": "flush-raleigh",
   "metadata": {
    "ExecuteTime": {
     "end_time": "2021-09-09T16:21:15.894063Z",
     "start_time": "2021-09-09T16:21:15.892320Z"
    }
   },
   "outputs": [],
   "source": [
    "work_dir = os.path.expanduser('../Data/shapes/')\n",
    "\n",
    "val_shp= os.path.join(work_dir, 'validacion.shp')\n",
    "merged_shp = os.path.join(work_dir, 'roi_merged.shp')"
   ]
  },
  {
   "cell_type": "code",
   "execution_count": 29,
   "id": "340bcd66",
   "metadata": {
    "ExecuteTime": {
     "end_time": "2021-09-09T16:21:20.771249Z",
     "start_time": "2021-09-09T16:21:15.894789Z"
    }
   },
   "outputs": [],
   "source": [
    "merged =geemap.shp_to_ee(merged_shp)\n",
    "Map.addLayer(merged, {}, 'Áreas de entrenamiento')"
   ]
  },
  {
   "cell_type": "code",
   "execution_count": 30,
   "id": "8fbc884e",
   "metadata": {
    "ExecuteTime": {
     "end_time": "2021-09-09T16:21:28.061461Z",
     "start_time": "2021-09-09T16:21:20.772192Z"
    }
   },
   "outputs": [],
   "source": [
    "val = geemap.shp_to_ee(val_shp)\n",
    "Map.addLayer(val, {}, 'Áreas de Validación')\n"
   ]
  },
  {
   "cell_type": "code",
   "execution_count": 31,
   "id": "696742ae",
   "metadata": {
    "ExecuteTime": {
     "end_time": "2021-09-09T16:21:28.064790Z",
     "start_time": "2021-09-09T16:21:28.062425Z"
    }
   },
   "outputs": [
    {
     "data": {
      "text/plain": [
       "'../Data/shapes/roi_merged.shp'"
      ]
     },
     "execution_count": 31,
     "metadata": {},
     "output_type": "execute_result"
    }
   ],
   "source": [
    "merged_shp"
   ]
  },
  {
   "cell_type": "code",
   "execution_count": 32,
   "id": "76339414",
   "metadata": {
    "ExecuteTime": {
     "end_time": "2021-09-09T16:21:28.068112Z",
     "start_time": "2021-09-09T16:21:28.065567Z"
    },
    "scrolled": true
   },
   "outputs": [],
   "source": [
    "dataset = greenest.sampleRegions(**{\n",
    "    'collection': merged,\n",
    "    'properties': ['ID'],\n",
    "    'scale' : 30 ,\n",
    "})"
   ]
  },
  {
   "cell_type": "code",
   "execution_count": 33,
   "id": "eeb9cd65",
   "metadata": {
    "ExecuteTime": {
     "end_time": "2021-09-09T16:21:28.070765Z",
     "start_time": "2021-09-09T16:21:28.069041Z"
    }
   },
   "outputs": [],
   "source": [
    "datasetval = greenest.sampleRegions(**{\n",
    "    'collection': val,\n",
    "    'properties': ['ID'],\n",
    "    'scale': 10,\n",
    "})"
   ]
  },
  {
   "cell_type": "code",
   "execution_count": 34,
   "id": "ea580180",
   "metadata": {
    "ExecuteTime": {
     "end_time": "2021-09-09T16:21:58.581057Z",
     "start_time": "2021-09-09T16:21:28.071989Z"
    }
   },
   "outputs": [
    {
     "data": {
      "text/plain": [
       "20322"
      ]
     },
     "execution_count": 34,
     "metadata": {},
     "output_type": "execute_result"
    }
   ],
   "source": [
    "dataset.size().getInfo()"
   ]
  },
  {
   "cell_type": "code",
   "execution_count": 35,
   "id": "439c0c2b",
   "metadata": {
    "ExecuteTime": {
     "end_time": "2021-09-09T16:22:45.948583Z",
     "start_time": "2021-09-09T16:21:58.582028Z"
    }
   },
   "outputs": [
    {
     "data": {
      "text/plain": [
       "4679"
      ]
     },
     "execution_count": 35,
     "metadata": {},
     "output_type": "execute_result"
    }
   ],
   "source": [
    "datasetval.size().getInfo()"
   ]
  },
  {
   "cell_type": "code",
   "execution_count": 36,
   "id": "42a44c4f",
   "metadata": {
    "ExecuteTime": {
     "end_time": "2021-09-09T16:22:51.250256Z",
     "start_time": "2021-09-09T16:22:45.949514Z"
    }
   },
   "outputs": [
    {
     "name": "stdout",
     "output_type": "stream",
     "text": [
      "{'type': 'Feature', 'geometry': None, 'id': '0_0', 'properties': {'B1': 0.10622850805521011, 'B10': 277.4976806640625, 'B11': 277.0090026855469, 'B2': 0.08158686012029648, 'B3': 0.05989211052656174, 'B4': 0.03704666346311569, 'B5': 0.3357214033603668, 'B6': 0.08223237097263336, 'B7': 0.02972152642905712, 'B8': 0.04830099269747734, 'B9': 0.0024417066015303135, 'BQA': 2720, 'ID': 1, 'NDVI': 0.801234781742096, 'date': 20190210, 'doy': 41, 'month': 2}}\n"
     ]
    }
   ],
   "source": [
    "print(dataset.first().getInfo())"
   ]
  },
  {
   "cell_type": "code",
   "execution_count": 37,
   "id": "another-dubai",
   "metadata": {
    "ExecuteTime": {
     "end_time": "2021-09-09T16:22:51.253922Z",
     "start_time": "2021-09-09T16:22:51.251318Z"
    }
   },
   "outputs": [],
   "source": [
    "# Guardamos las bandas\n",
    "bands = ['B1',\n",
    " 'B2',\n",
    " 'B3',\n",
    " 'B4',\n",
    " 'B5',\n",
    " 'B6',\n",
    " 'B7',\n",
    " 'B8',\n",
    " 'B9',\n",
    " 'B10',\n",
    " 'B11',\n",
    " 'BQA',\n",
    " 'NDVI',\n",
    " 'date',\n",
    " 'month',\n",
    " 'doy']\n",
    "\n",
    "# Esta propiedad guarda las clases de landcover\n",
    "label = 'ID'\n",
    "\n",
    "# Overlay the points on the imagery to get training.\n",
    "# sample = mosaico.select(bands).sampleRegions(**{\n",
    "#   'collection': dataset,\n",
    "#   'properties': ['RF'],\n",
    "#   'scale': 30\n",
    "# })\n",
    "\n",
    "# Adds a column of deterministic pseudorandom numbers. \n",
    "# sample = dataset.randomColumn()\n",
    "\n",
    "# split = 0.7 \n",
    "\n",
    "# training = sample.filter(ee.Filter.lt('random', split))\n",
    "# validation = sample.filter(ee.Filter.gte('random', split))"
   ]
  },
  {
   "cell_type": "code",
   "execution_count": 38,
   "id": "13b91725",
   "metadata": {
    "ExecuteTime": {
     "end_time": "2021-09-09T16:22:51.256813Z",
     "start_time": "2021-09-09T16:22:51.254702Z"
    }
   },
   "outputs": [],
   "source": [
    "# print(training.first().getInfo())"
   ]
  },
  {
   "cell_type": "code",
   "execution_count": 39,
   "id": "eb79f472",
   "metadata": {
    "ExecuteTime": {
     "end_time": "2021-09-09T16:22:51.259025Z",
     "start_time": "2021-09-09T16:22:51.257697Z"
    }
   },
   "outputs": [],
   "source": [
    "# print(validation.first().getInfo())"
   ]
  },
  {
   "cell_type": "code",
   "execution_count": 40,
   "id": "ba74718f",
   "metadata": {
    "ExecuteTime": {
     "end_time": "2021-09-09T16:22:51.261654Z",
     "start_time": "2021-09-09T16:22:51.259891Z"
    }
   },
   "outputs": [],
   "source": [
    "randomforest = ee.Classifier.smileRandomForest(100).train(dataset, label, bands)\n",
    "resultRF = greenest.select(bands).classify(randomforest)"
   ]
  },
  {
   "cell_type": "code",
   "execution_count": 41,
   "id": "155e1bb9",
   "metadata": {
    "ExecuteTime": {
     "end_time": "2021-09-09T16:22:51.264842Z",
     "start_time": "2021-09-09T16:22:51.262737Z"
    }
   },
   "outputs": [],
   "source": [
    "SVM = ee.Classifier.libsvm('Voting','C_SVC','RBF', gamma = 0.5 , cost = 10 )\n",
    "trained = SVM.train(dataset, label, bands)\n",
    "classifiedSVM = greenest.classify(trained)"
   ]
  },
  {
   "cell_type": "code",
   "execution_count": 42,
   "id": "b17e3095",
   "metadata": {
    "ExecuteTime": {
     "end_time": "2021-09-09T16:22:51.267695Z",
     "start_time": "2021-09-09T16:22:51.265819Z"
    }
   },
   "outputs": [],
   "source": [
    "smc = ee.Classifier.smileCart().train(dataset, label, bands)\n",
    "classifiedsmc = greenest.select(bands).classify(smc)"
   ]
  },
  {
   "cell_type": "code",
   "execution_count": 43,
   "id": "f3581c1a",
   "metadata": {
    "ExecuteTime": {
     "end_time": "2021-09-09T16:22:51.270022Z",
     "start_time": "2021-09-09T16:22:51.268613Z"
    }
   },
   "outputs": [],
   "source": [
    "# Clasificando con las mismas bandas de entrenamiento\n",
    "# result1 = greenest.select(bands).classify(randomforest)\n",
    "# result2 = greenest.select(bands).classify(SVM)\n",
    "# # Display the clusters with random colors.\n",
    "# Map.addLayer(result.randomVisualizer(), {}, 'classificado')\n",
    "# Map"
   ]
  },
  {
   "cell_type": "code",
   "execution_count": 44,
   "id": "19bfc50d",
   "metadata": {
    "ExecuteTime": {
     "end_time": "2021-09-09T16:22:51.272537Z",
     "start_time": "2021-09-09T16:22:51.270924Z"
    }
   },
   "outputs": [],
   "source": [
    "# result.getInfo()"
   ]
  },
  {
   "cell_type": "code",
   "execution_count": 45,
   "id": "2f9ff9f4",
   "metadata": {
    "ExecuteTime": {
     "end_time": "2021-09-09T16:22:51.275289Z",
     "start_time": "2021-09-09T16:22:51.273663Z"
    }
   },
   "outputs": [],
   "source": [
    "class_values = [1,2,3,4,5,6,7,8,9,10,11,12,13,14,15,16,17,18\n",
    "    ]"
   ]
  },
  {
   "cell_type": "code",
   "execution_count": 46,
   "id": "bf9f0f78",
   "metadata": {
    "ExecuteTime": {
     "end_time": "2021-09-09T16:22:51.277910Z",
     "start_time": "2021-09-09T16:22:51.276162Z"
    }
   },
   "outputs": [],
   "source": [
    "class_palette = ['22c129',\n",
    " 'f0ff00',\n",
    " '0c40f1',\n",
    " '685205',\n",
    " '0d4404',\n",
    " 'e82d13',\n",
    " 'f99504',\n",
    " '17d4c6',\n",
    " '1c6330',\n",
    " '24ff00',\n",
    " '2de50f',\n",
    " 'ccba7d',\n",
    " 'dec61a',\n",
    " '28d909',\n",
    " '03c2ff',\n",
    " '4e8c44',\n",
    " 'fdfdfd',\n",
    " 'c0c233'\n",
    "]"
   ]
  },
  {
   "cell_type": "code",
   "execution_count": 47,
   "id": "69b62656",
   "metadata": {
    "ExecuteTime": {
     "end_time": "2021-09-09T16:22:51.280572Z",
     "start_time": "2021-09-09T16:22:51.278983Z"
    }
   },
   "outputs": [],
   "source": [
    "landcover_randomforest = resultRF.set('classification_class_values', class_values)\n",
    "landcover_randomforest = landcover_randomforest.set('classification_class_palette', class_palette)"
   ]
  },
  {
   "cell_type": "code",
   "execution_count": 48,
   "id": "22f87ea4",
   "metadata": {
    "ExecuteTime": {
     "end_time": "2021-09-09T16:23:06.651734Z",
     "start_time": "2021-09-09T16:22:51.281583Z"
    }
   },
   "outputs": [],
   "source": [
    "Map.addLayer(landcover_randomforest, {}, 'Land cover Random Forest Región')"
   ]
  },
  {
   "cell_type": "code",
   "execution_count": 49,
   "id": "732a6579",
   "metadata": {
    "ExecuteTime": {
     "end_time": "2021-09-09T16:23:06.654532Z",
     "start_time": "2021-09-09T16:23:06.652624Z"
    }
   },
   "outputs": [],
   "source": [
    "landcover_svm = classifiedSVM.set('classification_class_values', class_values)\n",
    "landcover_svm = landcover_svm.set('classification_class_palette', class_palette)"
   ]
  },
  {
   "cell_type": "code",
   "execution_count": 50,
   "id": "922e7510",
   "metadata": {
    "ExecuteTime": {
     "end_time": "2021-09-09T16:23:33.360225Z",
     "start_time": "2021-09-09T16:23:06.655257Z"
    }
   },
   "outputs": [],
   "source": [
    "Map.addLayer(landcover_svm, {}, 'Land cover SVM Región')"
   ]
  },
  {
   "cell_type": "code",
   "execution_count": 51,
   "id": "6ac3d049",
   "metadata": {
    "ExecuteTime": {
     "end_time": "2021-09-09T16:23:33.363206Z",
     "start_time": "2021-09-09T16:23:33.361312Z"
    }
   },
   "outputs": [],
   "source": [
    "landcover_cart = classifiedsmc.set('classification_class_values', class_values)\n",
    "landcover_cart = landcover_cart.set('classification_class_palette', class_palette)"
   ]
  },
  {
   "cell_type": "code",
   "execution_count": 52,
   "id": "5c9158b3",
   "metadata": {
    "ExecuteTime": {
     "end_time": "2021-09-09T16:23:41.903631Z",
     "start_time": "2021-09-09T16:23:33.364079Z"
    }
   },
   "outputs": [],
   "source": [
    "Map.addLayer(landcover_cart, {}, 'Land cover SCART Región')"
   ]
  },
  {
   "cell_type": "code",
   "execution_count": 53,
   "id": "ddc5d110",
   "metadata": {
    "ExecuteTime": {
     "end_time": "2021-09-09T16:23:41.909838Z",
     "start_time": "2021-09-09T16:23:41.904589Z"
    }
   },
   "outputs": [
    {
     "data": {
      "application/vnd.jupyter.widget-view+json": {
       "model_id": "ae13693e68e74779af97e9157fb7aab4",
       "version_major": 2,
       "version_minor": 0
      },
      "text/plain": [
       "Map(center=[-37.30779156528291, -71.17818286898157], controls=(WidgetControl(options=['position', 'transparent…"
      ]
     },
     "metadata": {},
     "output_type": "display_data"
    }
   ],
   "source": [
    "Map"
   ]
  },
  {
   "cell_type": "markdown",
   "id": "0910e3ca",
   "metadata": {},
   "source": [
    "RF"
   ]
  },
  {
   "cell_type": "code",
   "execution_count": 54,
   "id": "299a227d",
   "metadata": {
    "ExecuteTime": {
     "end_time": "2021-09-09T16:23:41.912357Z",
     "start_time": "2021-09-09T16:23:41.910566Z"
    }
   },
   "outputs": [],
   "source": [
    "train_accuracy = randomforest.confusionMatrix()"
   ]
  },
  {
   "cell_type": "code",
   "execution_count": 55,
   "id": "611c9899",
   "metadata": {
    "ExecuteTime": {
     "end_time": "2021-09-09T16:23:51.196502Z",
     "start_time": "2021-09-09T16:23:41.913266Z"
    }
   },
   "outputs": [
    {
     "data": {
      "text/plain": [
       "[[0, 0, 0, 0, 0, 0, 0, 0, 0, 0, 0, 0, 0, 0, 0, 0, 0, 0, 0],\n",
       " [0, 890, 0, 0, 0, 0, 0, 0, 0, 0, 0, 0, 0, 0, 0, 0, 0, 0, 0],\n",
       " [0, 0, 1118, 0, 0, 0, 0, 0, 0, 0, 0, 0, 0, 0, 0, 0, 0, 0, 1],\n",
       " [0, 0, 0, 4319, 0, 0, 0, 0, 0, 0, 0, 0, 0, 0, 0, 0, 0, 0, 0],\n",
       " [0, 0, 0, 0, 2302, 0, 0, 0, 0, 0, 0, 0, 0, 0, 0, 0, 0, 0, 0],\n",
       " [0, 0, 0, 0, 0, 139, 0, 0, 0, 0, 0, 0, 0, 0, 0, 0, 0, 0, 0],\n",
       " [0, 0, 0, 0, 0, 0, 1331, 0, 0, 0, 0, 0, 0, 0, 0, 0, 0, 0, 0],\n",
       " [0, 0, 0, 0, 0, 0, 0, 881, 0, 0, 0, 0, 0, 0, 0, 0, 0, 0, 0],\n",
       " [0, 0, 0, 1, 0, 0, 0, 0, 72, 0, 0, 0, 0, 0, 0, 0, 0, 1, 0],\n",
       " [0, 0, 0, 0, 0, 0, 0, 0, 0, 120, 0, 0, 0, 0, 0, 0, 0, 0, 0],\n",
       " [0, 0, 0, 0, 0, 0, 0, 0, 0, 0, 320, 0, 0, 0, 0, 0, 0, 0, 0],\n",
       " [0, 0, 0, 0, 0, 0, 0, 0, 0, 0, 0, 232, 0, 0, 0, 0, 0, 0, 0],\n",
       " [0, 0, 0, 0, 0, 0, 0, 0, 0, 0, 0, 0, 4473, 0, 0, 0, 0, 0, 0],\n",
       " [0, 0, 0, 0, 0, 0, 0, 0, 0, 0, 0, 0, 0, 366, 0, 0, 0, 0, 0],\n",
       " [0, 1, 0, 0, 0, 0, 0, 0, 0, 0, 0, 0, 0, 0, 1107, 0, 0, 0, 0],\n",
       " [0, 0, 0, 2, 0, 0, 0, 0, 0, 0, 0, 0, 0, 0, 0, 306, 0, 0, 0],\n",
       " [0, 0, 0, 0, 0, 0, 0, 0, 0, 0, 0, 0, 0, 0, 0, 0, 959, 0, 0],\n",
       " [0, 0, 0, 0, 0, 0, 0, 0, 0, 0, 0, 0, 0, 0, 0, 0, 0, 216, 0],\n",
       " [0, 0, 0, 0, 0, 0, 0, 0, 0, 0, 0, 0, 0, 0, 0, 0, 0, 0, 1165]]"
      ]
     },
     "execution_count": 55,
     "metadata": {},
     "output_type": "execute_result"
    }
   ],
   "source": [
    "train_accuracy.getInfo()"
   ]
  },
  {
   "cell_type": "code",
   "execution_count": 56,
   "id": "c1693f22",
   "metadata": {
    "ExecuteTime": {
     "end_time": "2021-09-09T16:23:56.144317Z",
     "start_time": "2021-09-09T16:23:51.197525Z"
    }
   },
   "outputs": [
    {
     "data": {
      "text/plain": [
       "0.9997047534691468"
      ]
     },
     "execution_count": 56,
     "metadata": {},
     "output_type": "execute_result"
    }
   ],
   "source": [
    "train_accuracy.accuracy().getInfo()"
   ]
  },
  {
   "cell_type": "code",
   "execution_count": 57,
   "id": "410b951b",
   "metadata": {
    "ExecuteTime": {
     "end_time": "2021-09-09T16:24:00.979958Z",
     "start_time": "2021-09-09T16:23:56.145200Z"
    }
   },
   "outputs": [
    {
     "data": {
      "text/plain": [
       "0.9996617165612868"
      ]
     },
     "execution_count": 57,
     "metadata": {},
     "output_type": "execute_result"
    }
   ],
   "source": [
    "train_accuracy.kappa().getInfo()"
   ]
  },
  {
   "cell_type": "code",
   "execution_count": 58,
   "id": "2b29f647",
   "metadata": {
    "ExecuteTime": {
     "end_time": "2021-09-09T16:24:05.914687Z",
     "start_time": "2021-09-09T16:24:00.980910Z"
    }
   },
   "outputs": [
    {
     "data": {
      "text/plain": [
       "[[0],\n",
       " [1],\n",
       " [0.9991063449508489],\n",
       " [1],\n",
       " [1],\n",
       " [1],\n",
       " [1],\n",
       " [1],\n",
       " [0.972972972972973],\n",
       " [1],\n",
       " [1],\n",
       " [1],\n",
       " [1],\n",
       " [1],\n",
       " [0.9990974729241877],\n",
       " [0.9935064935064936],\n",
       " [1],\n",
       " [1],\n",
       " [1]]"
      ]
     },
     "execution_count": 58,
     "metadata": {},
     "output_type": "execute_result"
    }
   ],
   "source": [
    "train_accuracy.producersAccuracy().getInfo()"
   ]
  },
  {
   "cell_type": "code",
   "execution_count": 59,
   "id": "32bbd6be",
   "metadata": {
    "ExecuteTime": {
     "end_time": "2021-09-09T16:24:10.604566Z",
     "start_time": "2021-09-09T16:24:05.915560Z"
    }
   },
   "outputs": [
    {
     "data": {
      "text/plain": [
       "[[0,\n",
       "  0.9988776655443322,\n",
       "  1,\n",
       "  0.9993058769088385,\n",
       "  1,\n",
       "  1,\n",
       "  1,\n",
       "  1,\n",
       "  1,\n",
       "  1,\n",
       "  1,\n",
       "  1,\n",
       "  1,\n",
       "  1,\n",
       "  1,\n",
       "  1,\n",
       "  1,\n",
       "  0.9953917050691244,\n",
       "  0.9991423670668954]]"
      ]
     },
     "execution_count": 59,
     "metadata": {},
     "output_type": "execute_result"
    }
   ],
   "source": [
    "train_accuracy.consumersAccuracy().getInfo()"
   ]
  },
  {
   "cell_type": "code",
   "execution_count": 60,
   "id": "ec4e2627",
   "metadata": {
    "ExecuteTime": {
     "end_time": "2021-09-09T16:24:10.608073Z",
     "start_time": "2021-09-09T16:24:10.605942Z"
    }
   },
   "outputs": [],
   "source": [
    "validacion = datasetval.classify(randomforest)"
   ]
  },
  {
   "cell_type": "code",
   "execution_count": 61,
   "id": "5fa5aa61",
   "metadata": {
    "ExecuteTime": {
     "end_time": "2021-09-09T16:24:22.027371Z",
     "start_time": "2021-09-09T16:24:10.608886Z"
    }
   },
   "outputs": [
    {
     "data": {
      "text/plain": [
       "{'type': 'Feature',\n",
       " 'geometry': None,\n",
       " 'id': '0_0',\n",
       " 'properties': {'B1': 0.1297835111618042,\n",
       "  'B10': 278.9761047363281,\n",
       "  'B11': 276.3595275878906,\n",
       "  'B2': 0.10309768468141556,\n",
       "  'B3': 0.06259501725435257,\n",
       "  'B4': 0.046153344213962555,\n",
       "  'B5': 0.0707976296544075,\n",
       "  'B6': 0.03525298461318016,\n",
       "  'B7': 0.027852408587932587,\n",
       "  'B8': 0.05712661147117615,\n",
       "  'B9': 0.0011301300255581737,\n",
       "  'BQA': 2976,\n",
       "  'ID': 3,\n",
       "  'NDVI': 0.21072322130203247,\n",
       "  'classification': 3,\n",
       "  'date': 20190321,\n",
       "  'doy': 80,\n",
       "  'month': 3}}"
      ]
     },
     "execution_count": 61,
     "metadata": {},
     "output_type": "execute_result"
    }
   ],
   "source": [
    "validacion.first().getInfo()"
   ]
  },
  {
   "cell_type": "code",
   "execution_count": 62,
   "id": "511f36f3",
   "metadata": {
    "ExecuteTime": {
     "end_time": "2021-09-09T16:24:22.030283Z",
     "start_time": "2021-09-09T16:24:22.028259Z"
    }
   },
   "outputs": [],
   "source": [
    "testAccuracy = validacion.errorMatrix('ID', 'classification')"
   ]
  },
  {
   "cell_type": "code",
   "execution_count": 63,
   "id": "73b8fa6e",
   "metadata": {
    "ExecuteTime": {
     "end_time": "2021-09-09T16:24:35.862624Z",
     "start_time": "2021-09-09T16:24:22.031049Z"
    }
   },
   "outputs": [
    {
     "data": {
      "text/plain": [
       "[[0, 0, 0, 0, 0, 0, 0, 0, 0, 0, 0, 0, 0, 0, 0, 0, 0, 0, 0],\n",
       " [0, 2, 0, 0, 0, 0, 0, 0, 0, 0, 0, 0, 0, 0, 0, 0, 0, 0, 0],\n",
       " [0, 0, 46, 0, 0, 0, 0, 0, 0, 0, 0, 0, 0, 0, 1, 0, 0, 0, 14],\n",
       " [0, 0, 0, 41, 0, 0, 0, 0, 0, 0, 0, 0, 0, 0, 9, 16, 0, 0, 0],\n",
       " [0, 0, 0, 371, 468, 0, 0, 3, 9, 0, 0, 0, 0, 10, 0, 24, 0, 0, 0],\n",
       " [0, 0, 0, 0, 0, 2, 1, 0, 0, 0, 0, 0, 0, 0, 0, 0, 0, 0, 0],\n",
       " [0, 0, 0, 0, 0, 0, 1, 0, 0, 0, 0, 0, 0, 0, 0, 0, 0, 0, 0],\n",
       " [0, 0, 39, 4, 108, 0, 0, 240, 0, 0, 32, 0, 0, 80, 0, 0, 0, 0, 82],\n",
       " [0, 0, 0, 0, 0, 0, 0, 0, 1, 0, 0, 11, 0, 0, 0, 0, 0, 0, 0],\n",
       " [0, 0, 0, 0, 0, 0, 0, 0, 0, 3, 0, 0, 0, 0, 0, 0, 0, 0, 0],\n",
       " [0, 1, 52, 0, 2, 1, 22, 19, 0, 0, 23, 9, 28, 22, 4, 0, 0, 0, 24],\n",
       " [0, 5, 48, 0, 0, 9, 132, 0, 0, 0, 0, 64, 7, 23, 56, 0, 32, 0, 1],\n",
       " [0, 0, 0, 0, 0, 0, 0, 0, 0, 0, 0, 0, 40, 0, 10, 0, 0, 0, 0],\n",
       " [0, 6, 151, 0, 4, 10, 11, 4, 0, 0, 5, 4, 3, 54, 0, 0, 1, 0, 170],\n",
       " [0, 588, 9, 0, 10, 1, 255, 0, 0, 0, 0, 10, 37, 0, 486, 0, 132, 30, 0],\n",
       " [0, 0, 0, 0, 0, 0, 0, 0, 0, 0, 0, 0, 0, 0, 0, 1, 0, 0, 0],\n",
       " [0, 40, 5, 0, 0, 0, 53, 0, 0, 0, 0, 8, 1, 0, 48, 0, 237, 0, 12],\n",
       " [0, 0, 0, 0, 0, 0, 0, 0, 0, 0, 0, 0, 0, 0, 0, 0, 0, 0, 0],\n",
       " [0, 0, 0, 36, 5, 0, 0, 0, 0, 0, 0, 0, 0, 0, 0, 0, 0, 0, 0]]"
      ]
     },
     "execution_count": 63,
     "metadata": {},
     "output_type": "execute_result"
    }
   ],
   "source": [
    "testAccuracy.getInfo()"
   ]
  },
  {
   "cell_type": "code",
   "execution_count": 64,
   "id": "733c4428",
   "metadata": {
    "ExecuteTime": {
     "end_time": "2021-09-09T16:24:49.973146Z",
     "start_time": "2021-09-09T16:24:35.863551Z"
    }
   },
   "outputs": [
    {
     "data": {
      "text/plain": [
       "0.36524898482581747"
      ]
     },
     "execution_count": 64,
     "metadata": {},
     "output_type": "execute_result"
    }
   ],
   "source": [
    "testAccuracy.accuracy().getInfo()"
   ]
  },
  {
   "cell_type": "code",
   "execution_count": 65,
   "id": "55dcc06a",
   "metadata": {
    "ExecuteTime": {
     "end_time": "2021-09-09T16:25:02.558226Z",
     "start_time": "2021-09-09T16:24:49.974241Z"
    }
   },
   "outputs": [
    {
     "data": {
      "text/plain": [
       "0.30119699286957563"
      ]
     },
     "execution_count": 65,
     "metadata": {},
     "output_type": "execute_result"
    }
   ],
   "source": [
    "testAccuracy.kappa().getInfo()"
   ]
  },
  {
   "cell_type": "code",
   "execution_count": 66,
   "id": "6309124a",
   "metadata": {
    "ExecuteTime": {
     "end_time": "2021-09-09T16:25:16.250720Z",
     "start_time": "2021-09-09T16:25:02.559056Z"
    }
   },
   "outputs": [
    {
     "data": {
      "text/plain": [
       "[[0],\n",
       " [1],\n",
       " [0.7540983606557377],\n",
       " [0.6212121212121212],\n",
       " [0.5288135593220339],\n",
       " [0.6666666666666666],\n",
       " [1],\n",
       " [0.41025641025641024],\n",
       " [0.08333333333333333],\n",
       " [1],\n",
       " [0.1111111111111111],\n",
       " [0.16976127320954906],\n",
       " [0.8],\n",
       " [0.1276595744680851],\n",
       " [0.3119383825417201],\n",
       " [1],\n",
       " [0.5866336633663366],\n",
       " [0],\n",
       " [0]]"
      ]
     },
     "execution_count": 66,
     "metadata": {},
     "output_type": "execute_result"
    }
   ],
   "source": [
    "testAccuracy.producersAccuracy().getInfo()"
   ]
  },
  {
   "cell_type": "code",
   "execution_count": 67,
   "id": "1e6064d1",
   "metadata": {
    "ExecuteTime": {
     "end_time": "2021-09-09T16:25:28.204519Z",
     "start_time": "2021-09-09T16:25:16.251753Z"
    }
   },
   "outputs": [
    {
     "data": {
      "text/plain": [
       "[[0,\n",
       "  0.003115264797507788,\n",
       "  0.13142857142857142,\n",
       "  0.09070796460176991,\n",
       "  0.7839195979899497,\n",
       "  0.08695652173913043,\n",
       "  0.002105263157894737,\n",
       "  0.9022556390977443,\n",
       "  0.1,\n",
       "  1,\n",
       "  0.38333333333333336,\n",
       "  0.6037735849056604,\n",
       "  0.3448275862068966,\n",
       "  0.2857142857142857,\n",
       "  0.7915309446254072,\n",
       "  0.024390243902439025,\n",
       "  0.5895522388059702,\n",
       "  0,\n",
       "  0]]"
      ]
     },
     "execution_count": 67,
     "metadata": {},
     "output_type": "execute_result"
    }
   ],
   "source": [
    "testAccuracy.consumersAccuracy().getInfo()"
   ]
  },
  {
   "cell_type": "markdown",
   "id": "4e1c7fc9",
   "metadata": {},
   "source": [
    "SVM"
   ]
  },
  {
   "cell_type": "code",
   "execution_count": 68,
   "id": "5b593944",
   "metadata": {
    "ExecuteTime": {
     "end_time": "2021-09-09T16:25:28.207126Z",
     "start_time": "2021-09-09T16:25:28.205416Z"
    }
   },
   "outputs": [],
   "source": [
    "train_accuracy1 = trained.confusionMatrix()"
   ]
  },
  {
   "cell_type": "code",
   "execution_count": 69,
   "id": "6b35e7a3",
   "metadata": {
    "ExecuteTime": {
     "end_time": "2021-09-09T16:26:07.123342Z",
     "start_time": "2021-09-09T16:25:28.207841Z"
    }
   },
   "outputs": [
    {
     "data": {
      "text/plain": [
       "[[0, 0, 0, 0, 0, 0, 0, 0, 0, 0, 0, 0, 0, 0, 0, 0, 0, 0, 0],\n",
       " [0, 633, 11, 0, 0, 0, 58, 0, 0, 0, 0, 0, 97, 0, 18, 0, 69, 0, 4],\n",
       " [0, 6, 608, 0, 0, 0, 1, 0, 0, 4, 0, 0, 1, 1, 0, 0, 37, 0, 461],\n",
       " [0, 0, 0, 4297, 17, 0, 0, 0, 0, 0, 0, 0, 0, 0, 0, 5, 0, 0, 0],\n",
       " [0, 0, 0, 64, 2160, 1, 0, 56, 0, 0, 2, 0, 0, 9, 0, 9, 0, 1, 0],\n",
       " [0, 0, 0, 0, 0, 52, 5, 0, 0, 0, 4, 15, 60, 0, 2, 0, 1, 0, 0],\n",
       " [0, 36, 2, 0, 0, 0, 651, 0, 0, 0, 0, 3, 507, 0, 26, 0, 105, 1, 0],\n",
       " [0, 0, 0, 0, 77, 0, 0, 804, 0, 0, 0, 0, 0, 0, 0, 0, 0, 0, 0],\n",
       " [0, 0, 0, 2, 2, 0, 0, 0, 70, 0, 0, 0, 0, 0, 0, 0, 0, 0, 0],\n",
       " [0, 0, 3, 0, 0, 0, 0, 0, 0, 116, 0, 0, 1, 0, 0, 0, 0, 0, 0],\n",
       " [0, 0, 0, 0, 13, 3, 0, 1, 0, 0, 297, 0, 0, 0, 0, 0, 0, 0, 6],\n",
       " [0, 0, 7, 0, 0, 11, 3, 0, 0, 5, 5, 145, 38, 1, 2, 0, 1, 0, 14],\n",
       " [0, 11, 3, 0, 0, 0, 136, 7, 0, 0, 0, 0, 4282, 0, 31, 0, 3, 0, 0],\n",
       " [0, 0, 0, 0, 4, 6, 0, 0, 0, 3, 4, 2, 10, 259, 0, 0, 0, 0, 78],\n",
       " [0, 62, 0, 0, 0, 0, 109, 0, 0, 0, 0, 0, 110, 0, 710, 0, 116, 1, 0],\n",
       " [0, 0, 0, 73, 12, 1, 0, 0, 0, 0, 0, 1, 1, 0, 0, 220, 0, 0, 0],\n",
       " [0, 45, 9, 0, 0, 0, 83, 0, 0, 0, 0, 0, 109, 0, 12, 0, 699, 0, 2],\n",
       " [0, 5, 0, 6, 0, 0, 26, 0, 0, 0, 0, 0, 28, 0, 1, 1, 3, 146, 0],\n",
       " [0, 1, 76, 0, 0, 0, 0, 0, 0, 0, 1, 0, 5, 3, 0, 0, 1, 0, 1078]]"
      ]
     },
     "execution_count": 69,
     "metadata": {},
     "output_type": "execute_result"
    }
   ],
   "source": [
    "train_accuracy1.getInfo()"
   ]
  },
  {
   "cell_type": "code",
   "execution_count": 70,
   "id": "52f2b3e2",
   "metadata": {
    "ExecuteTime": {
     "end_time": "2021-09-09T16:26:12.526111Z",
     "start_time": "2021-09-09T16:26:07.124402Z"
    }
   },
   "outputs": [
    {
     "data": {
      "text/plain": [
       "0.8477019978348588"
      ]
     },
     "execution_count": 70,
     "metadata": {},
     "output_type": "execute_result"
    }
   ],
   "source": [
    "train_accuracy1.accuracy().getInfo()"
   ]
  },
  {
   "cell_type": "code",
   "execution_count": 71,
   "id": "2acef59d",
   "metadata": {
    "ExecuteTime": {
     "end_time": "2021-09-09T16:26:17.770275Z",
     "start_time": "2021-09-09T16:26:12.527202Z"
    }
   },
   "outputs": [
    {
     "data": {
      "text/plain": [
       "0.8239095239853439"
      ]
     },
     "execution_count": 71,
     "metadata": {},
     "output_type": "execute_result"
    }
   ],
   "source": [
    "train_accuracy1.kappa().getInfo()"
   ]
  },
  {
   "cell_type": "code",
   "execution_count": 72,
   "id": "792140c6",
   "metadata": {
    "ExecuteTime": {
     "end_time": "2021-09-09T16:26:22.311030Z",
     "start_time": "2021-09-09T16:26:17.771200Z"
    }
   },
   "outputs": [
    {
     "data": {
      "text/plain": [
       "[[0],\n",
       " [0.7112359550561798],\n",
       " [0.5433422698838248],\n",
       " [0.9949062282935864],\n",
       " [0.9383145091225021],\n",
       " [0.37410071942446044],\n",
       " [0.48910593538692715],\n",
       " [0.9125993189557321],\n",
       " [0.9459459459459459],\n",
       " [0.9666666666666667],\n",
       " [0.928125],\n",
       " [0.625],\n",
       " [0.9572993516655488],\n",
       " [0.7076502732240437],\n",
       " [0.6407942238267148],\n",
       " [0.7142857142857143],\n",
       " [0.7288842544316997],\n",
       " [0.6759259259259259],\n",
       " [0.9253218884120171]]"
      ]
     },
     "execution_count": 72,
     "metadata": {},
     "output_type": "execute_result"
    }
   ],
   "source": [
    "train_accuracy1.producersAccuracy().getInfo()"
   ]
  },
  {
   "cell_type": "code",
   "execution_count": 73,
   "id": "b6eba2fa",
   "metadata": {
    "ExecuteTime": {
     "end_time": "2021-09-09T16:26:26.760093Z",
     "start_time": "2021-09-09T16:26:22.312158Z"
    }
   },
   "outputs": [
    {
     "data": {
      "text/plain": [
       "[[0,\n",
       "  0.7922403003754693,\n",
       "  0.8456189151599444,\n",
       "  0.9673570463755066,\n",
       "  0.9452954048140044,\n",
       "  0.7027027027027027,\n",
       "  0.6072761194029851,\n",
       "  0.9262672811059908,\n",
       "  1,\n",
       "  0.90625,\n",
       "  0.9488817891373802,\n",
       "  0.8734939759036144,\n",
       "  0.8157744332253762,\n",
       "  0.9487179487179487,\n",
       "  0.885286783042394,\n",
       "  0.9361702127659575,\n",
       "  0.6753623188405797,\n",
       "  0.9798657718120806,\n",
       "  0.6561168594035302]]"
      ]
     },
     "execution_count": 73,
     "metadata": {},
     "output_type": "execute_result"
    }
   ],
   "source": [
    "train_accuracy1.consumersAccuracy().getInfo()"
   ]
  },
  {
   "cell_type": "code",
   "execution_count": 74,
   "id": "0af6bde8",
   "metadata": {
    "ExecuteTime": {
     "end_time": "2021-09-09T16:26:26.763006Z",
     "start_time": "2021-09-09T16:26:26.761174Z"
    }
   },
   "outputs": [],
   "source": [
    "validacion1 = datasetval.classify(trained)"
   ]
  },
  {
   "cell_type": "code",
   "execution_count": 75,
   "id": "e2e81bee",
   "metadata": {
    "ExecuteTime": {
     "end_time": "2021-09-09T16:26:26.766606Z",
     "start_time": "2021-09-09T16:26:26.764027Z"
    }
   },
   "outputs": [],
   "source": [
    "testAccuracy1 = validacion1.errorMatrix('ID', 'classification')"
   ]
  },
  {
   "cell_type": "code",
   "execution_count": 76,
   "id": "55906497",
   "metadata": {
    "ExecuteTime": {
     "end_time": "2021-09-09T16:26:46.267437Z",
     "start_time": "2021-09-09T16:26:26.767647Z"
    }
   },
   "outputs": [
    {
     "data": {
      "text/plain": [
       "[[0, 0, 0, 0, 0, 0, 0, 0, 0, 0, 0, 0, 0, 0, 0, 0, 0, 0, 0],\n",
       " [0, 0, 0, 0, 0, 0, 1, 0, 0, 0, 0, 0, 1, 0, 0, 0, 0, 0, 0],\n",
       " [0, 0, 19, 0, 0, 1, 0, 0, 0, 11, 0, 0, 0, 0, 0, 0, 9, 0, 21],\n",
       " [0, 0, 0, 47, 3, 0, 0, 0, 0, 0, 0, 0, 0, 0, 0, 0, 9, 7, 0],\n",
       " [0, 4, 7, 462, 233, 0, 10, 10, 19, 1, 0, 0, 5, 10, 8, 109, 0, 7, 0],\n",
       " [0, 1, 0, 0, 0, 2, 0, 0, 0, 0, 0, 0, 0, 0, 0, 0, 0, 0, 0],\n",
       " [0, 1, 0, 0, 0, 0, 0, 0, 0, 0, 0, 0, 0, 0, 0, 0, 0, 0, 0],\n",
       " [0, 4, 16, 51, 116, 19, 7, 169, 0, 15, 63, 9, 21, 21, 10, 0, 2, 9, 53],\n",
       " [0, 0, 0, 1, 0, 0, 0, 0, 0, 0, 0, 0, 11, 0, 0, 0, 0, 0, 0],\n",
       " [0, 0, 0, 0, 1, 0, 0, 0, 0, 2, 0, 0, 0, 0, 0, 0, 0, 0, 0],\n",
       " [0, 6, 32, 0, 36, 12, 3, 7, 0, 17, 5, 15, 41, 13, 6, 0, 0, 0, 14],\n",
       " [0, 10, 35, 9, 20, 10, 14, 11, 0, 11, 10, 30, 137, 9, 31, 0, 10, 0, 30],\n",
       " [0, 0, 8, 0, 0, 0, 13, 0, 0, 2, 0, 0, 17, 0, 0, 0, 10, 0, 0],\n",
       " [0, 9, 36, 14, 3, 18, 0, 16, 0, 56, 47, 0, 21, 55, 0, 0, 10, 0, 138],\n",
       " [0, 319, 18, 7, 20, 0, 461, 2, 0, 9, 0, 10, 266, 0, 222, 6, 130, 40, 48],\n",
       " [0, 0, 0, 0, 0, 0, 0, 0, 0, 0, 0, 0, 0, 0, 0, 1, 0, 0, 0],\n",
       " [0, 70, 13, 10, 6, 6, 36, 0, 0, 11, 0, 19, 122, 2, 26, 0, 58, 0, 25],\n",
       " [0, 0, 0, 0, 0, 0, 0, 0, 0, 0, 0, 0, 0, 0, 0, 0, 0, 0, 0],\n",
       " [0, 0, 0, 18, 15, 0, 0, 0, 0, 0, 0, 0, 0, 0, 0, 8, 0, 0, 0]]"
      ]
     },
     "execution_count": 76,
     "metadata": {},
     "output_type": "execute_result"
    }
   ],
   "source": [
    "testAccuracy1.getInfo()"
   ]
  },
  {
   "cell_type": "code",
   "execution_count": 77,
   "id": "f88a855f",
   "metadata": {
    "ExecuteTime": {
     "end_time": "2021-09-09T16:27:08.420625Z",
     "start_time": "2021-09-09T16:26:46.268546Z"
    }
   },
   "outputs": [
    {
     "data": {
      "text/plain": [
       "0.1837999572558239"
      ]
     },
     "execution_count": 77,
     "metadata": {},
     "output_type": "execute_result"
    }
   ],
   "source": [
    "testAccuracy1.accuracy().getInfo()"
   ]
  },
  {
   "cell_type": "code",
   "execution_count": 78,
   "id": "5a95868c",
   "metadata": {
    "ExecuteTime": {
     "end_time": "2021-09-09T16:27:27.046009Z",
     "start_time": "2021-09-09T16:27:08.421804Z"
    }
   },
   "outputs": [
    {
     "data": {
      "text/plain": [
       "0.13233280008204165"
      ]
     },
     "execution_count": 78,
     "metadata": {},
     "output_type": "execute_result"
    }
   ],
   "source": [
    "testAccuracy1.kappa().getInfo()"
   ]
  },
  {
   "cell_type": "code",
   "execution_count": 79,
   "id": "ded3a4fe",
   "metadata": {
    "ExecuteTime": {
     "end_time": "2021-09-09T16:27:45.200573Z",
     "start_time": "2021-09-09T16:27:27.046922Z"
    }
   },
   "outputs": [
    {
     "data": {
      "text/plain": [
       "[[0],\n",
       " [0],\n",
       " [0.3114754098360656],\n",
       " [0.7121212121212122],\n",
       " [0.2632768361581921],\n",
       " [0.6666666666666666],\n",
       " [0],\n",
       " [0.28888888888888886],\n",
       " [0],\n",
       " [0.6666666666666666],\n",
       " [0.024154589371980676],\n",
       " [0.07957559681697612],\n",
       " [0.34],\n",
       " [0.13002364066193853],\n",
       " [0.14249037227214378],\n",
       " [1],\n",
       " [0.14356435643564355],\n",
       " [0],\n",
       " [0]]"
      ]
     },
     "execution_count": 79,
     "metadata": {},
     "output_type": "execute_result"
    }
   ],
   "source": [
    "testAccuracy1.producersAccuracy().getInfo()"
   ]
  },
  {
   "cell_type": "code",
   "execution_count": 80,
   "id": "63b715bd",
   "metadata": {
    "ExecuteTime": {
     "end_time": "2021-09-09T16:28:14.049341Z",
     "start_time": "2021-09-09T16:27:45.201369Z"
    }
   },
   "outputs": [
    {
     "data": {
      "text/plain": [
       "[[0,\n",
       "  0,\n",
       "  0.10326086956521739,\n",
       "  0.07592891760904685,\n",
       "  0.5143487858719646,\n",
       "  0.029411764705882353,\n",
       "  0,\n",
       "  0.786046511627907,\n",
       "  0,\n",
       "  0.014814814814814815,\n",
       "  0.04,\n",
       "  0.3614457831325301,\n",
       "  0.0264797507788162,\n",
       "  0.5,\n",
       "  0.7326732673267327,\n",
       "  0.008064516129032258,\n",
       "  0.24369747899159663,\n",
       "  0,\n",
       "  0]]"
      ]
     },
     "execution_count": 80,
     "metadata": {},
     "output_type": "execute_result"
    }
   ],
   "source": [
    "testAccuracy1.consumersAccuracy().getInfo()"
   ]
  },
  {
   "cell_type": "markdown",
   "id": "0514b957",
   "metadata": {},
   "source": [
    "SCART"
   ]
  },
  {
   "cell_type": "code",
   "execution_count": 81,
   "id": "0b07886b",
   "metadata": {
    "ExecuteTime": {
     "end_time": "2021-09-09T16:28:14.052232Z",
     "start_time": "2021-09-09T16:28:14.050451Z"
    }
   },
   "outputs": [],
   "source": [
    "train_accuracy = smc.confusionMatrix()"
   ]
  },
  {
   "cell_type": "code",
   "execution_count": 82,
   "id": "f9a78201",
   "metadata": {
    "ExecuteTime": {
     "end_time": "2021-09-09T16:28:22.732693Z",
     "start_time": "2021-09-09T16:28:14.058812Z"
    }
   },
   "outputs": [
    {
     "data": {
      "text/plain": [
       "[[0, 0, 0, 0, 0, 0, 0, 0, 0, 0, 0, 0, 0, 0, 0, 0, 0, 0, 0],\n",
       " [0, 890, 0, 0, 0, 0, 0, 0, 0, 0, 0, 0, 0, 0, 0, 0, 0, 0, 0],\n",
       " [0, 0, 1119, 0, 0, 0, 0, 0, 0, 0, 0, 0, 0, 0, 0, 0, 0, 0, 0],\n",
       " [0, 0, 0, 4319, 0, 0, 0, 0, 0, 0, 0, 0, 0, 0, 0, 0, 0, 0, 0],\n",
       " [0, 0, 0, 0, 2302, 0, 0, 0, 0, 0, 0, 0, 0, 0, 0, 0, 0, 0, 0],\n",
       " [0, 0, 0, 0, 0, 139, 0, 0, 0, 0, 0, 0, 0, 0, 0, 0, 0, 0, 0],\n",
       " [0, 0, 0, 0, 0, 0, 1331, 0, 0, 0, 0, 0, 0, 0, 0, 0, 0, 0, 0],\n",
       " [0, 0, 0, 0, 0, 0, 0, 881, 0, 0, 0, 0, 0, 0, 0, 0, 0, 0, 0],\n",
       " [0, 0, 0, 0, 0, 0, 0, 0, 74, 0, 0, 0, 0, 0, 0, 0, 0, 0, 0],\n",
       " [0, 0, 0, 0, 0, 0, 0, 0, 0, 120, 0, 0, 0, 0, 0, 0, 0, 0, 0],\n",
       " [0, 0, 0, 0, 0, 0, 0, 0, 0, 0, 320, 0, 0, 0, 0, 0, 0, 0, 0],\n",
       " [0, 0, 0, 0, 0, 0, 0, 0, 0, 0, 0, 232, 0, 0, 0, 0, 0, 0, 0],\n",
       " [0, 0, 0, 0, 0, 0, 0, 0, 0, 0, 0, 0, 4473, 0, 0, 0, 0, 0, 0],\n",
       " [0, 0, 0, 0, 0, 0, 0, 0, 0, 0, 0, 0, 0, 366, 0, 0, 0, 0, 0],\n",
       " [0, 0, 0, 0, 0, 0, 0, 0, 0, 0, 0, 0, 0, 0, 1108, 0, 0, 0, 0],\n",
       " [0, 0, 0, 0, 0, 0, 0, 0, 0, 0, 0, 0, 0, 0, 0, 308, 0, 0, 0],\n",
       " [0, 0, 0, 0, 0, 0, 0, 0, 0, 0, 0, 0, 0, 0, 0, 0, 959, 0, 0],\n",
       " [0, 0, 0, 0, 0, 0, 0, 0, 0, 0, 0, 0, 0, 0, 0, 0, 0, 216, 0],\n",
       " [0, 0, 0, 0, 0, 0, 0, 0, 0, 0, 0, 0, 0, 0, 0, 0, 0, 0, 1165]]"
      ]
     },
     "execution_count": 82,
     "metadata": {},
     "output_type": "execute_result"
    }
   ],
   "source": [
    "train_accuracy.getInfo()"
   ]
  },
  {
   "cell_type": "code",
   "execution_count": 83,
   "id": "5b7132c1",
   "metadata": {
    "ExecuteTime": {
     "end_time": "2021-09-09T16:28:27.715548Z",
     "start_time": "2021-09-09T16:28:22.733845Z"
    }
   },
   "outputs": [
    {
     "data": {
      "text/plain": [
       "1"
      ]
     },
     "execution_count": 83,
     "metadata": {},
     "output_type": "execute_result"
    }
   ],
   "source": [
    "train_accuracy.accuracy().getInfo()"
   ]
  },
  {
   "cell_type": "code",
   "execution_count": 84,
   "id": "d6067b63",
   "metadata": {
    "ExecuteTime": {
     "end_time": "2021-09-09T16:28:32.350415Z",
     "start_time": "2021-09-09T16:28:27.716726Z"
    }
   },
   "outputs": [
    {
     "data": {
      "text/plain": [
       "1"
      ]
     },
     "execution_count": 84,
     "metadata": {},
     "output_type": "execute_result"
    }
   ],
   "source": [
    "train_accuracy.kappa().getInfo()"
   ]
  },
  {
   "cell_type": "code",
   "execution_count": 85,
   "id": "4ee87732",
   "metadata": {
    "ExecuteTime": {
     "end_time": "2021-09-09T16:28:37.170487Z",
     "start_time": "2021-09-09T16:28:32.351228Z"
    }
   },
   "outputs": [
    {
     "data": {
      "text/plain": [
       "[[0],\n",
       " [1],\n",
       " [1],\n",
       " [1],\n",
       " [1],\n",
       " [1],\n",
       " [1],\n",
       " [1],\n",
       " [1],\n",
       " [1],\n",
       " [1],\n",
       " [1],\n",
       " [1],\n",
       " [1],\n",
       " [1],\n",
       " [1],\n",
       " [1],\n",
       " [1],\n",
       " [1]]"
      ]
     },
     "execution_count": 85,
     "metadata": {},
     "output_type": "execute_result"
    }
   ],
   "source": [
    "train_accuracy.producersAccuracy().getInfo()"
   ]
  },
  {
   "cell_type": "code",
   "execution_count": 86,
   "id": "057a2ae5",
   "metadata": {
    "ExecuteTime": {
     "end_time": "2021-09-09T16:28:42.211616Z",
     "start_time": "2021-09-09T16:28:37.171638Z"
    }
   },
   "outputs": [
    {
     "data": {
      "text/plain": [
       "[[0, 1, 1, 1, 1, 1, 1, 1, 1, 1, 1, 1, 1, 1, 1, 1, 1, 1, 1]]"
      ]
     },
     "execution_count": 86,
     "metadata": {},
     "output_type": "execute_result"
    }
   ],
   "source": [
    "train_accuracy.consumersAccuracy().getInfo()"
   ]
  },
  {
   "cell_type": "code",
   "execution_count": 87,
   "id": "6071447e",
   "metadata": {
    "ExecuteTime": {
     "end_time": "2021-09-09T16:28:42.214579Z",
     "start_time": "2021-09-09T16:28:42.212833Z"
    }
   },
   "outputs": [],
   "source": [
    "validated = datasetval.classify(smc)"
   ]
  },
  {
   "cell_type": "code",
   "execution_count": 88,
   "id": "00f56ee5",
   "metadata": {
    "ExecuteTime": {
     "end_time": "2021-09-09T16:28:53.148328Z",
     "start_time": "2021-09-09T16:28:42.215519Z"
    }
   },
   "outputs": [
    {
     "data": {
      "text/plain": [
       "{'type': 'Feature',\n",
       " 'geometry': None,\n",
       " 'id': '0_0',\n",
       " 'properties': {'B1': 0.1297835111618042,\n",
       "  'B10': 278.9761047363281,\n",
       "  'B11': 276.3595275878906,\n",
       "  'B2': 0.10309768468141556,\n",
       "  'B3': 0.06259501725435257,\n",
       "  'B4': 0.046153344213962555,\n",
       "  'B5': 0.0707976296544075,\n",
       "  'B6': 0.03525298461318016,\n",
       "  'B7': 0.027852408587932587,\n",
       "  'B8': 0.05712661147117615,\n",
       "  'B9': 0.0011301300255581737,\n",
       "  'BQA': 2976,\n",
       "  'ID': 3,\n",
       "  'NDVI': 0.21072322130203247,\n",
       "  'classification': 3,\n",
       "  'date': 20190321,\n",
       "  'doy': 80,\n",
       "  'month': 3}}"
      ]
     },
     "execution_count": 88,
     "metadata": {},
     "output_type": "execute_result"
    }
   ],
   "source": [
    "validated.first().getInfo()"
   ]
  },
  {
   "cell_type": "code",
   "execution_count": 89,
   "id": "136497dd",
   "metadata": {
    "ExecuteTime": {
     "end_time": "2021-09-09T16:28:53.150950Z",
     "start_time": "2021-09-09T16:28:53.149460Z"
    }
   },
   "outputs": [],
   "source": [
    "test_accuracy = validated.errorMatrix('ID', 'classification')"
   ]
  },
  {
   "cell_type": "code",
   "execution_count": 90,
   "id": "c0a1b125",
   "metadata": {
    "ExecuteTime": {
     "end_time": "2021-09-09T16:29:05.853021Z",
     "start_time": "2021-09-09T16:28:53.151804Z"
    }
   },
   "outputs": [
    {
     "data": {
      "text/plain": [
       "[[0, 0, 0, 0, 0, 0, 0, 0, 0, 0, 0, 0, 0, 0, 0, 0, 0, 0, 0],\n",
       " [0, 1, 0, 0, 0, 0, 0, 0, 0, 0, 0, 0, 0, 0, 0, 0, 1, 0, 0],\n",
       " [0, 0, 39, 0, 0, 0, 0, 0, 0, 0, 0, 0, 0, 0, 1, 0, 0, 0, 21],\n",
       " [0, 0, 0, 28, 6, 0, 0, 0, 0, 0, 0, 0, 0, 0, 0, 22, 5, 1, 4],\n",
       " [0, 0, 0, 348, 434, 6, 0, 3, 21, 0, 0, 0, 0, 7, 0, 66, 0, 0, 0],\n",
       " [0, 0, 0, 0, 0, 3, 0, 0, 0, 0, 0, 0, 0, 0, 0, 0, 0, 0, 0],\n",
       " [0, 0, 0, 0, 0, 0, 1, 0, 0, 0, 0, 0, 0, 0, 0, 0, 0, 0, 0],\n",
       " [0, 0, 51, 4, 104, 0, 0, 241, 0, 0, 38, 3, 0, 60, 0, 17, 0, 0, 67],\n",
       " [0, 0, 0, 0, 0, 0, 0, 0, 1, 0, 0, 11, 0, 0, 0, 0, 0, 0, 0],\n",
       " [0, 0, 1, 0, 0, 0, 0, 0, 0, 2, 0, 0, 0, 0, 0, 0, 0, 0, 0],\n",
       " [0, 33, 35, 0, 9, 2, 18, 10, 0, 0, 28, 15, 16, 21, 1, 0, 0, 4, 15],\n",
       " [0, 28, 12, 0, 2, 7, 133, 0, 0, 6, 7, 58, 14, 8, 43, 0, 19, 14, 26],\n",
       " [0, 0, 0, 0, 0, 0, 0, 0, 0, 0, 0, 0, 40, 0, 0, 0, 2, 0, 8],\n",
       " [0, 17, 167, 0, 4, 10, 6, 4, 0, 10, 3, 5, 3, 55, 0, 0, 2, 0, 137],\n",
       " [0, 539, 17, 9, 1, 1, 231, 0, 0, 0, 0, 14, 47, 0, 473, 4, 171, 51, 0],\n",
       " [0, 0, 0, 0, 0, 0, 0, 0, 0, 0, 0, 0, 0, 0, 0, 1, 0, 0, 0],\n",
       " [0, 49, 36, 0, 0, 0, 41, 0, 0, 0, 0, 14, 10, 0, 58, 0, 186, 2, 8],\n",
       " [0, 0, 0, 0, 0, 0, 0, 0, 0, 0, 0, 0, 0, 0, 0, 0, 0, 0, 0],\n",
       " [0, 0, 0, 37, 1, 0, 0, 0, 0, 0, 0, 0, 0, 0, 0, 3, 0, 0, 0]]"
      ]
     },
     "execution_count": 90,
     "metadata": {},
     "output_type": "execute_result"
    }
   ],
   "source": [
    "test_accuracy.getInfo()"
   ]
  },
  {
   "cell_type": "code",
   "execution_count": 91,
   "id": "68ae5ac6",
   "metadata": {
    "ExecuteTime": {
     "end_time": "2021-09-09T16:29:16.971748Z",
     "start_time": "2021-09-09T16:29:05.853906Z"
    }
   },
   "outputs": [
    {
     "data": {
      "text/plain": [
       "0.3400299209232742"
      ]
     },
     "execution_count": 91,
     "metadata": {},
     "output_type": "execute_result"
    }
   ],
   "source": [
    "test_accuracy.accuracy().getInfo()"
   ]
  },
  {
   "cell_type": "code",
   "execution_count": 92,
   "id": "ea47e667",
   "metadata": {
    "ExecuteTime": {
     "end_time": "2021-09-09T16:29:29.488171Z",
     "start_time": "2021-09-09T16:29:16.972542Z"
    }
   },
   "outputs": [
    {
     "data": {
      "text/plain": [
       "0.2774528257210206"
      ]
     },
     "execution_count": 92,
     "metadata": {},
     "output_type": "execute_result"
    }
   ],
   "source": [
    "test_accuracy.kappa().getInfo()"
   ]
  },
  {
   "cell_type": "code",
   "execution_count": 93,
   "id": "e65fba42",
   "metadata": {
    "ExecuteTime": {
     "end_time": "2021-09-09T16:29:42.396824Z",
     "start_time": "2021-09-09T16:29:29.489450Z"
    }
   },
   "outputs": [
    {
     "data": {
      "text/plain": [
       "[[0],\n",
       " [0.5],\n",
       " [0.639344262295082],\n",
       " [0.42424242424242425],\n",
       " [0.4903954802259887],\n",
       " [1],\n",
       " [1],\n",
       " [0.41196581196581195],\n",
       " [0.08333333333333333],\n",
       " [0.6666666666666666],\n",
       " [0.13526570048309178],\n",
       " [0.15384615384615385],\n",
       " [0.8],\n",
       " [0.13002364066193853],\n",
       " [0.30359435173299104],\n",
       " [1],\n",
       " [0.4603960396039604],\n",
       " [0],\n",
       " [0]]"
      ]
     },
     "execution_count": 93,
     "metadata": {},
     "output_type": "execute_result"
    }
   ],
   "source": [
    "test_accuracy.producersAccuracy().getInfo()"
   ]
  },
  {
   "cell_type": "code",
   "execution_count": 94,
   "id": "e47ea162",
   "metadata": {
    "ExecuteTime": {
     "end_time": "2021-09-09T16:29:55.350629Z",
     "start_time": "2021-09-09T16:29:42.397858Z"
    }
   },
   "outputs": [
    {
     "data": {
      "text/plain": [
       "[[0,\n",
       "  0.0014992503748125937,\n",
       "  0.10893854748603352,\n",
       "  0.06572769953051644,\n",
       "  0.7736185383244206,\n",
       "  0.10344827586206896,\n",
       "  0.002325581395348837,\n",
       "  0.9341085271317829,\n",
       "  0.045454545454545456,\n",
       "  0.1111111111111111,\n",
       "  0.3684210526315789,\n",
       "  0.48333333333333334,\n",
       "  0.3076923076923077,\n",
       "  0.36423841059602646,\n",
       "  0.8211805555555556,\n",
       "  0.008849557522123894,\n",
       "  0.48186528497409326,\n",
       "  0,\n",
       "  0]]"
      ]
     },
     "execution_count": 94,
     "metadata": {},
     "output_type": "execute_result"
    }
   ],
   "source": [
    "test_accuracy.consumersAccuracy().getInfo()"
   ]
  }
 ],
 "metadata": {
  "kernelspec": {
   "display_name": "Python 3 (ipykernel)",
   "language": "python",
   "name": "python3"
  },
  "language_info": {
   "codemirror_mode": {
    "name": "ipython",
    "version": 3
   },
   "file_extension": ".py",
   "mimetype": "text/x-python",
   "name": "python",
   "nbconvert_exporter": "python",
   "pygments_lexer": "ipython3",
   "version": "3.8.11"
  },
  "toc": {
   "base_numbering": 1,
   "nav_menu": {},
   "number_sections": true,
   "sideBar": true,
   "skip_h1_title": false,
   "title_cell": "Table of Contents",
   "title_sidebar": "Contents",
   "toc_cell": false,
   "toc_position": {},
   "toc_section_display": true,
   "toc_window_display": false
  },
  "varInspector": {
   "cols": {
    "lenName": 16,
    "lenType": 16,
    "lenVar": 40
   },
   "kernels_config": {
    "python": {
     "delete_cmd_postfix": "",
     "delete_cmd_prefix": "del ",
     "library": "var_list.py",
     "varRefreshCmd": "print(var_dic_list())"
    },
    "r": {
     "delete_cmd_postfix": ") ",
     "delete_cmd_prefix": "rm(",
     "library": "var_list.r",
     "varRefreshCmd": "cat(var_dic_list()) "
    }
   },
   "types_to_exclude": [
    "module",
    "function",
    "builtin_function_or_method",
    "instance",
    "_Feature"
   ],
   "window_display": false
  }
 },
 "nbformat": 4,
 "nbformat_minor": 5
}
