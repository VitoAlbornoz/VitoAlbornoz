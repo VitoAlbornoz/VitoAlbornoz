{
 "cells": [
  {
   "cell_type": "code",
   "execution_count": 1,
   "id": "joined-delicious",
   "metadata": {},
   "outputs": [],
   "source": [
    "import ee\n",
    "import geemap\n",
    "import os\n"
   ]
  },
  {
   "cell_type": "code",
   "execution_count": 2,
   "id": "26676695",
   "metadata": {},
   "outputs": [],
   "source": [
    "# geemap.update_package()"
   ]
  },
  {
   "cell_type": "code",
   "execution_count": 3,
   "id": "departmental-bridal",
   "metadata": {},
   "outputs": [],
   "source": [
    "Map = geemap.Map()\n"
   ]
  },
  {
   "cell_type": "code",
   "execution_count": 4,
   "id": "adolescent-tsunami",
   "metadata": {},
   "outputs": [],
   "source": [
    "# mosaico = ee.Image(\"users/franciscoalbornoz/Mosaico_2018\")\n",
    "# clasificacion_2018 = ee.Image(\"users/franciscoalbornoz/clasificacion_2018\")\n",
    "# landcover_2018 = ee.Image(\"users/franciscoalbornoz/landcover_sur\")\n",
    "# landsat_vis = {\n",
    "#     'min': 0,\n",
    "#     'max': 1,\n",
    "#     'bands': ['b5', 'b4', 'b3']\n",
    "# }\n",
    "# Map.addLayer(mosaico, landsat_vis, \"Landsat-8-2018\")\n",
    "# Map.addLayer(clasificacion_2018.randomVisualizer(), {}, \"clasificación 2018\")\n",
    "# Map.addLayer(landcover_2018.randomVisualizer(), {} , \"landcover provincia\")\n",
    "# Map"
   ]
  },
  {
   "cell_type": "code",
   "execution_count": 5,
   "id": "bef2af38",
   "metadata": {},
   "outputs": [],
   "source": [
    "countries = ee.FeatureCollection('users/giswqs/public/countries')\n",
    "Map.addLayer(countries, {}, 'countries')\n"
   ]
  },
  {
   "cell_type": "code",
   "execution_count": 6,
   "id": "38be2532",
   "metadata": {},
   "outputs": [],
   "source": [
    "roi = countries.filter(ee.Filter.eq('id', 'CHL'))\n",
    "Map.addLayer(roi, {}, 'roi')"
   ]
  },
  {
   "cell_type": "code",
   "execution_count": 7,
   "id": "51936c07",
   "metadata": {},
   "outputs": [],
   "source": [
    "region = ee.FeatureCollection('users/franciscoalbornoz/Aysen')\n",
    "Map.addLayer(region, {}, 'Aysen')"
   ]
  },
  {
   "cell_type": "code",
   "execution_count": 8,
   "id": "0b0baf76",
   "metadata": {},
   "outputs": [],
   "source": [
    "start_date = '2018-12-01'\n",
    "end_date = '2019-03-31'\n",
    "\n",
    "l8 = ee.ImageCollection('LANDSAT/LC08/C01/T1_TOA') \\\n",
    "    .filterBounds(roi) \\\n",
    "    .filterDate(start_date, end_date)"
   ]
  },
  {
   "cell_type": "code",
   "execution_count": 9,
   "id": "9a8c3eda",
   "metadata": {},
   "outputs": [
    {
     "data": {
      "application/vnd.jupyter.widget-view+json": {
       "model_id": "c6e681335e764b5aa7029b329c6d12c6",
       "version_major": 2,
       "version_minor": 0
      },
      "text/plain": [
       "Map(center=[-37.30779156528291, -71.17818286898157], controls=(WidgetControl(options=['position'], widget=HBox…"
      ]
     },
     "metadata": {},
     "output_type": "display_data"
    }
   ],
   "source": [
    "median = l8.median()\n",
    "\n",
    "visParams = {\n",
    "  'bands': ['B4', 'B3', 'B2'],\n",
    "  'min': 0,\n",
    "  'max': 0.4,\n",
    "}\n",
    "\n",
    "Map.addLayer(median, visParams, 'Median')\n",
    "Map.centerObject(roi, 10)\n",
    "Map"
   ]
  },
  {
   "cell_type": "code",
   "execution_count": 10,
   "id": "379663d2",
   "metadata": {},
   "outputs": [],
   "source": [
    "def addNDVI(image): \n",
    "    ndvi = image.normalizedDifference(['B5', 'B4']).rename('NDVI')\n",
    "    return image.addBands(ndvi)"
   ]
  },
  {
   "cell_type": "code",
   "execution_count": 11,
   "id": "ac36c683",
   "metadata": {},
   "outputs": [],
   "source": [
    "def addDate(image):\n",
    "    img_date = ee.Date(image.date())\n",
    "    img_date = ee.Number.parse(img_date.format('YYYYMMdd'))\n",
    "    return image.addBands(ee.Image(img_date).rename('date').toInt())"
   ]
  },
  {
   "cell_type": "code",
   "execution_count": 12,
   "id": "8b1bf6b8",
   "metadata": {},
   "outputs": [],
   "source": [
    "def addMonth(image):\n",
    "    img_date = ee.Date(image.date())\n",
    "    img_doy = ee.Number.parse(img_date.format('M'))\n",
    "    return image.addBands(ee.Image(img_doy).rename('month').toInt())"
   ]
  },
  {
   "cell_type": "code",
   "execution_count": 13,
   "id": "6bc512f2",
   "metadata": {},
   "outputs": [],
   "source": [
    "def addDOY(image):\n",
    "    img_date = ee.Date(image.date())\n",
    "    img_doy = ee.Number.parse(img_date.format('D'))\n",
    "    return image.addBands(ee.Image(img_doy).rename('doy').toInt())"
   ]
  },
  {
   "cell_type": "code",
   "execution_count": 14,
   "id": "e5c1416b",
   "metadata": {},
   "outputs": [],
   "source": [
    "withNDVI = l8.map(addNDVI).map(addDate).map(addMonth).map(addDOY)"
   ]
  },
  {
   "cell_type": "code",
   "execution_count": 15,
   "id": "a6ce3775",
   "metadata": {},
   "outputs": [],
   "source": [
    "greenest = withNDVI.qualityMosaic('NDVI').clip(region)"
   ]
  },
  {
   "cell_type": "code",
   "execution_count": 16,
   "id": "96d6ee29",
   "metadata": {},
   "outputs": [
    {
     "data": {
      "text/plain": [
       "['B1',\n",
       " 'B2',\n",
       " 'B3',\n",
       " 'B4',\n",
       " 'B5',\n",
       " 'B6',\n",
       " 'B7',\n",
       " 'B8',\n",
       " 'B9',\n",
       " 'B10',\n",
       " 'B11',\n",
       " 'BQA',\n",
       " 'NDVI',\n",
       " 'date',\n",
       " 'month',\n",
       " 'doy']"
      ]
     },
     "execution_count": 16,
     "metadata": {},
     "output_type": "execute_result"
    }
   ],
   "source": [
    "greenest.bandNames().getInfo()"
   ]
  },
  {
   "cell_type": "code",
   "execution_count": 17,
   "id": "cc847ca0",
   "metadata": {},
   "outputs": [],
   "source": [
    "ndvi = greenest.select('NDVI')\n",
    "palette = ['#d73027', '#f46d43', '#fdae61', '#fee08b', '#d9ef8b', '#a6d96a', '#66bd63', '#1a9850']\n",
    "Map.addLayer(ndvi, {'palette': palette}, 'NDVI')"
   ]
  },
  {
   "cell_type": "code",
   "execution_count": 18,
   "id": "b071ec69",
   "metadata": {},
   "outputs": [
    {
     "data": {
      "application/vnd.jupyter.widget-view+json": {
       "model_id": "c6e681335e764b5aa7029b329c6d12c6",
       "version_major": 2,
       "version_minor": 0
      },
      "text/plain": [
       "Map(center=[-37.30779156528291, -71.17818286898157], controls=(WidgetControl(options=['position'], widget=HBox…"
      ]
     },
     "metadata": {},
     "output_type": "display_data"
    }
   ],
   "source": [
    "Map.addLayer(greenest, visParams, 'Greenest pixel')\n",
    "Map"
   ]
  },
  {
   "cell_type": "code",
   "execution_count": 19,
   "id": "f0819773",
   "metadata": {},
   "outputs": [
    {
     "data": {
      "application/vnd.jupyter.widget-view+json": {
       "model_id": "c6e681335e764b5aa7029b329c6d12c6",
       "version_major": 2,
       "version_minor": 0
      },
      "text/plain": [
       "Map(center=[-37.30779156528291, -71.17818286898157], controls=(WidgetControl(options=['position'], widget=HBox…"
      ]
     },
     "metadata": {},
     "output_type": "display_data"
    }
   ],
   "source": [
    "mosaico = ee.Image(\"users/franciscoalbornoz/Mosaico_2018\")\n",
    "clasificacion_2018 = ee.Image(\"users/franciscoalbornoz/clasificacion_2018\")\n",
    "landcover_2018 = ee.Image(\"users/franciscoalbornoz/landcover_sur\")\n",
    "landsat_vis = {\n",
    "    'min': 0,\n",
    "    'max': 1,\n",
    "    'bands': ['b5', 'b4', 'b3']\n",
    "}\n",
    "Map.addLayer(mosaico, landsat_vis, \"Landsat-8-2018\")\n",
    "Map.addLayer(clasificacion_2018.randomVisualizer(), {}, \"clasificación 2018\")\n",
    "Map.addLayer(landcover_2018.randomVisualizer(), {} , \"landcover provincia\")\n",
    "Map"
   ]
  },
  {
   "cell_type": "code",
   "execution_count": 20,
   "id": "0dbb0df5",
   "metadata": {},
   "outputs": [],
   "source": [
    "class_palette = ['22c129',\n",
    " 'f0ff00',\n",
    " '0c40f1',\n",
    " '685205',\n",
    " '0d4404',\n",
    " 'e82d13',\n",
    " 'f99504',\n",
    " '17d4c6',\n",
    " '1c6330',\n",
    " '24ff00',\n",
    " '2de50f',\n",
    " 'ccba7d',\n",
    " 'dec61a',\n",
    " '28d909',\n",
    " '03c2ff',\n",
    " '4e8c44',\n",
    " 'fdfdfd',\n",
    " 'c0c233'\n",
    "]\n",
    "# paleta de 18 colores\n"
   ]
  },
  {
   "cell_type": "code",
   "execution_count": 21,
   "id": "fd4e4fdf",
   "metadata": {},
   "outputs": [],
   "source": [
    "class_values = [1,2,3,4,5,6,7,8,9,10,11,12,13,14,15,16,17,18\n",
    "    ]"
   ]
  },
  {
   "cell_type": "code",
   "execution_count": 22,
   "id": "b28686e6",
   "metadata": {},
   "outputs": [
    {
     "data": {
      "text/plain": [
       "['b1']"
      ]
     },
     "execution_count": 22,
     "metadata": {},
     "output_type": "execute_result"
    }
   ],
   "source": [
    "landcover_2018.bandNames().getInfo()"
   ]
  },
  {
   "cell_type": "code",
   "execution_count": 23,
   "id": "0f667c56",
   "metadata": {},
   "outputs": [
    {
     "data": {
      "text/plain": [
       "{'b1': {'type': 'PixelType', 'precision': 'int', 'min': 0, 'max': 255}}"
      ]
     },
     "execution_count": 23,
     "metadata": {},
     "output_type": "execute_result"
    }
   ],
   "source": [
    "clasificacion_2018.bandTypes().getInfo()\n"
   ]
  },
  {
   "cell_type": "code",
   "execution_count": 24,
   "id": "26ba0fad",
   "metadata": {},
   "outputs": [],
   "source": [
    "# land2018 = landcover_2018.set('classification_class_values', class_values)\n",
    "# land2018f = land2018.set('classification_class_palette', class_palette)"
   ]
  },
  {
   "cell_type": "code",
   "execution_count": 25,
   "id": "234d5974",
   "metadata": {},
   "outputs": [],
   "source": [
    "# class2018 = clasificacion_2018.set('classification_class_values', class_values)\n",
    "# class2018f = class2018.set('classification_class_palette', class_palette)"
   ]
  },
  {
   "cell_type": "code",
   "execution_count": 26,
   "id": "c85ae479",
   "metadata": {},
   "outputs": [],
   "source": [
    "# Map.addLayer(land2018f, {}, 'landcover_prov_coyhaique' )\n",
    "# Map.addLayer(class2018f,{},'clasificacion 2018')"
   ]
  },
  {
   "cell_type": "code",
   "execution_count": 27,
   "id": "2f97f3a9",
   "metadata": {},
   "outputs": [
    {
     "data": {
      "text/plain": [
       "['b1', 'b2', 'b3', 'b4', 'b5', 'b6', 'b7', 'b8', 'b9']"
      ]
     },
     "execution_count": 27,
     "metadata": {},
     "output_type": "execute_result"
    }
   ],
   "source": [
    "mosaico.bandNames().getInfo()"
   ]
  },
  {
   "cell_type": "code",
   "execution_count": 28,
   "id": "flush-raleigh",
   "metadata": {},
   "outputs": [],
   "source": [
    "work_dir = os.path.expanduser('../Data/shapes/')\n",
    "\n",
    "val_shp= os.path.join(work_dir, 'validacion.shp')\n",
    "merged_shp = os.path.join(work_dir, 'roi_merged.shp')"
   ]
  },
  {
   "cell_type": "code",
   "execution_count": 29,
   "id": "340bcd66",
   "metadata": {},
   "outputs": [],
   "source": [
    "merged =geemap.shp_to_ee(merged_shp)\n",
    "Map.addLayer(merged, {}, 'Áreas de entrenamiento')"
   ]
  },
  {
   "cell_type": "code",
   "execution_count": 30,
   "id": "8fbc884e",
   "metadata": {},
   "outputs": [],
   "source": [
    "val = geemap.shp_to_ee(val_shp)\n",
    "Map.addLayer(val, {}, 'Áreas de Validación')\n"
   ]
  },
  {
   "cell_type": "code",
   "execution_count": 31,
   "id": "696742ae",
   "metadata": {},
   "outputs": [
    {
     "data": {
      "text/plain": [
       "'../Data/shapes/roi_merged.shp'"
      ]
     },
     "execution_count": 31,
     "metadata": {},
     "output_type": "execute_result"
    }
   ],
   "source": [
    "merged_shp"
   ]
  },
  {
   "cell_type": "code",
   "execution_count": 32,
   "id": "76339414",
   "metadata": {
    "scrolled": true
   },
   "outputs": [],
   "source": [
    "dataset = greenest.sampleRegions(**{\n",
    "    'collection': merged,\n",
    "    'properties': ['ID'],\n",
    "    'scale' : 30 ,\n",
    "})"
   ]
  },
  {
   "cell_type": "code",
   "execution_count": 33,
   "id": "7a29d55e",
   "metadata": {},
   "outputs": [],
   "source": [
    "datasetval = greenest.sampleRegions(**{\n",
    "    'collection': val,\n",
    "    'properties': ['ID'],\n",
    "    'scale': 10,\n",
    "})"
   ]
  },
  {
   "cell_type": "code",
   "execution_count": 34,
   "id": "ea580180",
   "metadata": {},
   "outputs": [
    {
     "data": {
      "text/plain": [
       "20322"
      ]
     },
     "execution_count": 34,
     "metadata": {},
     "output_type": "execute_result"
    }
   ],
   "source": [
    "dataset.size().getInfo()"
   ]
  },
  {
   "cell_type": "code",
   "execution_count": 35,
   "id": "5480c0cd",
   "metadata": {},
   "outputs": [
    {
     "data": {
      "text/plain": [
       "4679"
      ]
     },
     "execution_count": 35,
     "metadata": {},
     "output_type": "execute_result"
    }
   ],
   "source": [
    "datasetval.size().getInfo()"
   ]
  },
  {
   "cell_type": "code",
   "execution_count": 36,
   "id": "42a44c4f",
   "metadata": {},
   "outputs": [
    {
     "name": "stdout",
     "output_type": "stream",
     "text": [
      "{'type': 'Feature', 'geometry': None, 'id': '0_0', 'properties': {'B1': 0.10622850805521011, 'B10': 277.4976806640625, 'B11': 277.0090026855469, 'B2': 0.08158686012029648, 'B3': 0.05989211052656174, 'B4': 0.03704666346311569, 'B5': 0.3357214033603668, 'B6': 0.08223237097263336, 'B7': 0.02972152642905712, 'B8': 0.04830099269747734, 'B9': 0.0024417066015303135, 'BQA': 2720, 'ID': 1, 'NDVI': 0.801234781742096, 'date': 20190210, 'doy': 41, 'month': 2}}\n"
     ]
    }
   ],
   "source": [
    "print(dataset.first().getInfo())"
   ]
  },
  {
   "cell_type": "code",
   "execution_count": 37,
   "id": "another-dubai",
   "metadata": {},
   "outputs": [],
   "source": [
    "# Guardamos las bandas\n",
    "bands = ['B1',\n",
    " 'B2',\n",
    " 'B3',\n",
    " 'B4',\n",
    " 'B5',\n",
    " 'B6',\n",
    " 'B7',\n",
    " 'B8',\n",
    " 'B9',\n",
    " 'B10',\n",
    " 'B11',\n",
    " 'BQA',\n",
    " 'NDVI',\n",
    " 'date',\n",
    " 'month',\n",
    " 'doy']\n",
    "\n",
    "# Esta propiedad guarda las clases de landcover\n",
    "label = 'ID'\n",
    "\n",
    "# Overlay the points on the imagery to get training.\n",
    "# sample = mosaico.select(bands).sampleRegions(**{\n",
    "#   'collection': dataset,\n",
    "#   'properties': ['RF'],\n",
    "#   'scale': 30\n",
    "# })\n",
    "\n",
    "# Adds a column of deterministic pseudorandom numbers. \n",
    "# sample = dataset.randomColumn()\n",
    "\n",
    "# split = 0.7 \n",
    "\n",
    "# training = sample.filter(ee.Filter.lt('random', split))\n",
    "# validation = sample.filter(ee.Filter.gte('random', split))"
   ]
  },
  {
   "cell_type": "code",
   "execution_count": 38,
   "id": "13b91725",
   "metadata": {},
   "outputs": [],
   "source": [
    "# print(training.first().getInfo())"
   ]
  },
  {
   "cell_type": "code",
   "execution_count": 39,
   "id": "eb79f472",
   "metadata": {},
   "outputs": [],
   "source": [
    "# print(validation.first().getInfo())"
   ]
  },
  {
   "cell_type": "code",
   "execution_count": 40,
   "id": "ba74718f",
   "metadata": {},
   "outputs": [],
   "source": [
    "randomforest = ee.Classifier.smileRandomForest(100).train(dataset, label, bands)\n",
    "resultRF = greenest.select(bands).classify(randomforest)"
   ]
  },
  {
   "cell_type": "code",
   "execution_count": 41,
   "id": "08471d6f",
   "metadata": {},
   "outputs": [],
   "source": [
    "SVM = ee.Classifier.libsvm('Voting','C_SVC','RBF', gamma = 0.5 , cost = 10 )\n",
    "trained = SVM.train(dataset, label, bands)\n",
    "classifiedSVM = greenest.classify(trained)"
   ]
  },
  {
   "cell_type": "code",
   "execution_count": 42,
   "id": "cdda0850",
   "metadata": {},
   "outputs": [],
   "source": [
    "smc = ee.Classifier.smileCart().train(dataset, label, bands)\n",
    "classifiedsmc = greenest.select(bands).classify(smc)"
   ]
  },
  {
   "cell_type": "code",
   "execution_count": 43,
   "id": "f3581c1a",
   "metadata": {},
   "outputs": [],
   "source": [
    "# Clasificando con las mismas bandas de entrenamiento\n",
    "# result1 = greenest.select(bands).classify(randomforest)\n",
    "# result2 = greenest.select(bands).classify(SVM)\n",
    "# # Display the clusters with random colors.\n",
    "# Map.addLayer(result.randomVisualizer(), {}, 'classificado')\n",
    "# Map"
   ]
  },
  {
   "cell_type": "code",
   "execution_count": 44,
   "id": "19bfc50d",
   "metadata": {},
   "outputs": [],
   "source": [
    "# result.getInfo()"
   ]
  },
  {
   "cell_type": "code",
   "execution_count": 45,
   "id": "2f9ff9f4",
   "metadata": {},
   "outputs": [],
   "source": [
    "class_values = [1,2,3,4,5,6,7,8,9,10,11,12,13,14,15,16,17,18\n",
    "    ]"
   ]
  },
  {
   "cell_type": "code",
   "execution_count": 46,
   "id": "bf9f0f78",
   "metadata": {},
   "outputs": [],
   "source": [
    "class_palette = ['22c129',\n",
    " 'f0ff00',\n",
    " '0c40f1',\n",
    " '685205',\n",
    " '0d4404',\n",
    " 'e82d13',\n",
    " 'f99504',\n",
    " '17d4c6',\n",
    " '1c6330',\n",
    " '24ff00',\n",
    " '2de50f',\n",
    " 'ccba7d',\n",
    " 'dec61a',\n",
    " '28d909',\n",
    " '03c2ff',\n",
    " '4e8c44',\n",
    " 'fdfdfd',\n",
    " 'c0c233'\n",
    "]"
   ]
  },
  {
   "cell_type": "code",
   "execution_count": 47,
   "id": "69b62656",
   "metadata": {},
   "outputs": [],
   "source": [
    "landcover_randomforest = resultRF.set('classification_class_values', class_values)\n",
    "landcover_randomforest = landcover_randomforest.set('classification_class_palette', class_palette)"
   ]
  },
  {
   "cell_type": "code",
   "execution_count": 48,
   "id": "22f87ea4",
   "metadata": {},
   "outputs": [],
   "source": [
    "Map.addLayer(landcover_randomforest, {}, 'Land cover Random Forest Región')"
   ]
  },
  {
   "cell_type": "code",
   "execution_count": 50,
   "id": "60f8a75b",
   "metadata": {},
   "outputs": [],
   "source": [
    "landcover_svm = classifiedSVM.set('classification_class_values', class_values)\n",
    "landcover_svm = landcover_svm.set('classification_class_palette', class_palette)"
   ]
  },
  {
   "cell_type": "code",
   "execution_count": 51,
   "id": "6db16603",
   "metadata": {},
   "outputs": [],
   "source": [
    "Map.addLayer(landcover_svm, {}, 'Land cover SVM Región')"
   ]
  },
  {
   "cell_type": "code",
   "execution_count": 52,
   "id": "74bd7ebf",
   "metadata": {},
   "outputs": [],
   "source": [
    "landcover_cart = classifiedsmc.set('classification_class_values', class_values)\n",
    "landcover_cart = landcover_cart.set('classification_class_palette', class_palette)"
   ]
  },
  {
   "cell_type": "code",
   "execution_count": 53,
   "id": "0607e3da",
   "metadata": {},
   "outputs": [],
   "source": [
    "Map.addLayer(landcover_cart, {}, 'Land cover SCART Región')"
   ]
  },
  {
   "cell_type": "code",
   "execution_count": 54,
   "id": "e82390c2",
   "metadata": {},
   "outputs": [
    {
     "data": {
      "application/vnd.jupyter.widget-view+json": {
       "model_id": "c6e681335e764b5aa7029b329c6d12c6",
       "version_major": 2,
       "version_minor": 0
      },
      "text/plain": [
       "Map(bottom=160691.0, center=[-37.30779156528291, -71.17818286898157], controls=(WidgetControl(options=['positi…"
      ]
     },
     "metadata": {},
     "output_type": "display_data"
    }
   ],
   "source": [
    "Map"
   ]
  },
  {
   "cell_type": "markdown",
   "id": "c0f4c3ee",
   "metadata": {},
   "source": [
    "RF"
   ]
  },
  {
   "cell_type": "code",
   "execution_count": 55,
   "id": "299a227d",
   "metadata": {},
   "outputs": [],
   "source": [
    "train_accuracy = randomforest.confusionMatrix()"
   ]
  },
  {
   "cell_type": "code",
   "execution_count": 56,
   "id": "611c9899",
   "metadata": {},
   "outputs": [
    {
     "data": {
      "text/plain": [
       "[[0, 0, 0, 0, 0, 0, 0, 0, 0, 0, 0, 0, 0, 0, 0, 0, 0, 0, 0],\n",
       " [0, 890, 0, 0, 0, 0, 0, 0, 0, 0, 0, 0, 0, 0, 0, 0, 0, 0, 0],\n",
       " [0, 0, 1119, 0, 0, 0, 0, 0, 0, 0, 0, 0, 0, 0, 0, 0, 0, 0, 0],\n",
       " [0, 0, 0, 4319, 0, 0, 0, 0, 0, 0, 0, 0, 0, 0, 0, 0, 0, 0, 0],\n",
       " [0, 0, 0, 0, 2302, 0, 0, 0, 0, 0, 0, 0, 0, 0, 0, 0, 0, 0, 0],\n",
       " [0, 0, 0, 0, 0, 139, 0, 0, 0, 0, 0, 0, 0, 0, 0, 0, 0, 0, 0],\n",
       " [0, 0, 0, 0, 0, 0, 1331, 0, 0, 0, 0, 0, 0, 0, 0, 0, 0, 0, 0],\n",
       " [0, 0, 0, 0, 0, 0, 0, 881, 0, 0, 0, 0, 0, 0, 0, 0, 0, 0, 0],\n",
       " [0, 0, 0, 0, 0, 0, 0, 0, 73, 0, 0, 0, 0, 0, 0, 0, 0, 1, 0],\n",
       " [0, 0, 0, 0, 0, 0, 0, 0, 0, 120, 0, 0, 0, 0, 0, 0, 0, 0, 0],\n",
       " [0, 0, 0, 0, 0, 0, 0, 0, 0, 0, 320, 0, 0, 0, 0, 0, 0, 0, 0],\n",
       " [0, 0, 0, 0, 0, 0, 0, 0, 0, 0, 0, 232, 0, 0, 0, 0, 0, 0, 0],\n",
       " [0, 0, 0, 0, 0, 0, 0, 0, 0, 0, 0, 0, 4473, 0, 0, 0, 0, 0, 0],\n",
       " [0, 0, 0, 0, 0, 0, 0, 0, 0, 0, 0, 0, 0, 366, 0, 0, 0, 0, 0],\n",
       " [0, 1, 0, 0, 0, 0, 0, 0, 0, 0, 0, 0, 0, 0, 1107, 0, 0, 0, 0],\n",
       " [0, 0, 0, 2, 0, 0, 0, 0, 0, 0, 0, 0, 0, 0, 0, 306, 0, 0, 0],\n",
       " [0, 0, 0, 0, 0, 0, 0, 0, 0, 0, 0, 0, 0, 0, 0, 0, 959, 0, 0],\n",
       " [0, 0, 0, 0, 0, 0, 0, 0, 0, 0, 0, 0, 0, 0, 0, 0, 0, 216, 0],\n",
       " [0, 0, 0, 0, 0, 0, 0, 0, 0, 0, 0, 0, 0, 0, 0, 0, 0, 0, 1165]]"
      ]
     },
     "execution_count": 56,
     "metadata": {},
     "output_type": "execute_result"
    }
   ],
   "source": [
    "train_accuracy.getInfo()"
   ]
  },
  {
   "cell_type": "code",
   "execution_count": 57,
   "id": "c1693f22",
   "metadata": {},
   "outputs": [
    {
     "data": {
      "text/plain": [
       "0.9998031689794311"
      ]
     },
     "execution_count": 57,
     "metadata": {},
     "output_type": "execute_result"
    }
   ],
   "source": [
    "train_accuracy.accuracy().getInfo()"
   ]
  },
  {
   "cell_type": "code",
   "execution_count": 58,
   "id": "410b951b",
   "metadata": {},
   "outputs": [
    {
     "data": {
      "text/plain": [
       "0.9997744803922869"
      ]
     },
     "execution_count": 58,
     "metadata": {},
     "output_type": "execute_result"
    }
   ],
   "source": [
    "train_accuracy.kappa().getInfo()"
   ]
  },
  {
   "cell_type": "code",
   "execution_count": 59,
   "id": "2b29f647",
   "metadata": {},
   "outputs": [
    {
     "data": {
      "text/plain": [
       "[[0],\n",
       " [1],\n",
       " [1],\n",
       " [1],\n",
       " [1],\n",
       " [1],\n",
       " [1],\n",
       " [1],\n",
       " [0.9864864864864865],\n",
       " [1],\n",
       " [1],\n",
       " [1],\n",
       " [1],\n",
       " [1],\n",
       " [0.9990974729241877],\n",
       " [0.9935064935064936],\n",
       " [1],\n",
       " [1],\n",
       " [1]]"
      ]
     },
     "execution_count": 59,
     "metadata": {},
     "output_type": "execute_result"
    }
   ],
   "source": [
    "train_accuracy.producersAccuracy().getInfo()"
   ]
  },
  {
   "cell_type": "code",
   "execution_count": 60,
   "id": "32bbd6be",
   "metadata": {},
   "outputs": [
    {
     "data": {
      "text/plain": [
       "[[0,\n",
       "  0.9988776655443322,\n",
       "  1,\n",
       "  0.999537144179588,\n",
       "  1,\n",
       "  1,\n",
       "  1,\n",
       "  1,\n",
       "  1,\n",
       "  1,\n",
       "  1,\n",
       "  1,\n",
       "  1,\n",
       "  1,\n",
       "  1,\n",
       "  1,\n",
       "  1,\n",
       "  0.9953917050691244,\n",
       "  1]]"
      ]
     },
     "execution_count": 60,
     "metadata": {},
     "output_type": "execute_result"
    }
   ],
   "source": [
    "train_accuracy.consumersAccuracy().getInfo()"
   ]
  },
  {
   "cell_type": "code",
   "execution_count": 61,
   "id": "ec4e2627",
   "metadata": {},
   "outputs": [],
   "source": [
    "validacion = datasetval.classify(randomforest)"
   ]
  },
  {
   "cell_type": "code",
   "execution_count": 62,
   "id": "ef3eedf7",
   "metadata": {},
   "outputs": [
    {
     "data": {
      "text/plain": [
       "{'type': 'Feature',\n",
       " 'geometry': None,\n",
       " 'id': '0_0',\n",
       " 'properties': {'B1': 0.1297835111618042,\n",
       "  'B10': 278.9761047363281,\n",
       "  'B11': 276.3595275878906,\n",
       "  'B2': 0.10309768468141556,\n",
       "  'B3': 0.06259501725435257,\n",
       "  'B4': 0.046153344213962555,\n",
       "  'B5': 0.0707976296544075,\n",
       "  'B6': 0.03525298461318016,\n",
       "  'B7': 0.027852408587932587,\n",
       "  'B8': 0.05712661147117615,\n",
       "  'B9': 0.0011301300255581737,\n",
       "  'BQA': 2976,\n",
       "  'ID': 3,\n",
       "  'NDVI': 0.21072322130203247,\n",
       "  'classification': 3,\n",
       "  'date': 20190321,\n",
       "  'doy': 80,\n",
       "  'month': 3}}"
      ]
     },
     "execution_count": 62,
     "metadata": {},
     "output_type": "execute_result"
    }
   ],
   "source": [
    "validacion.first().getInfo()"
   ]
  },
  {
   "cell_type": "code",
   "execution_count": 63,
   "id": "511f36f3",
   "metadata": {},
   "outputs": [],
   "source": [
    "testAccuracy = validacion.errorMatrix('ID', 'classification')"
   ]
  },
  {
   "cell_type": "code",
   "execution_count": 64,
   "id": "6b7ad322",
   "metadata": {},
   "outputs": [
    {
     "data": {
      "text/plain": [
       "[[0, 0, 0, 0, 0, 0, 0, 0, 0, 0, 0, 0, 0, 0, 0, 0, 0, 0, 0],\n",
       " [0, 2, 0, 0, 0, 0, 0, 0, 0, 0, 0, 0, 0, 0, 0, 0, 0, 0, 0],\n",
       " [0, 0, 46, 0, 0, 0, 0, 0, 0, 0, 0, 0, 0, 0, 1, 0, 0, 0, 14],\n",
       " [0, 0, 0, 41, 0, 0, 0, 0, 0, 0, 0, 0, 0, 0, 9, 16, 0, 0, 0],\n",
       " [0, 0, 0, 357, 472, 0, 0, 3, 8, 0, 0, 0, 0, 10, 0, 35, 0, 0, 0],\n",
       " [0, 0, 0, 0, 0, 3, 0, 0, 0, 0, 0, 0, 0, 0, 0, 0, 0, 0, 0],\n",
       " [0, 0, 0, 0, 0, 0, 1, 0, 0, 0, 0, 0, 0, 0, 0, 0, 0, 0, 0],\n",
       " [0, 0, 37, 4, 101, 0, 0, 245, 0, 0, 36, 0, 0, 78, 0, 0, 0, 0, 84],\n",
       " [0, 0, 0, 0, 0, 4, 2, 0, 1, 0, 0, 5, 0, 0, 0, 0, 0, 0, 0],\n",
       " [0, 0, 1, 0, 0, 0, 0, 0, 0, 2, 0, 0, 0, 0, 0, 0, 0, 0, 0],\n",
       " [0, 2, 55, 0, 1, 1, 17, 19, 0, 0, 20, 9, 28, 22, 4, 0, 0, 0, 29],\n",
       " [0, 10, 40, 0, 0, 3, 117, 0, 0, 0, 0, 73, 8, 15, 64, 0, 30, 4, 13],\n",
       " [0, 0, 0, 0, 0, 0, 0, 0, 0, 0, 0, 0, 40, 0, 10, 0, 0, 0, 0],\n",
       " [0, 2, 157, 0, 4, 10, 11, 4, 0, 0, 5, 4, 3, 63, 0, 0, 0, 0, 160],\n",
       " [0, 612, 8, 0, 10, 2, 243, 0, 0, 0, 0, 8, 41, 0, 494, 0, 130, 10, 0],\n",
       " [0, 0, 0, 0, 0, 0, 0, 0, 0, 0, 0, 0, 0, 0, 0, 1, 0, 0, 0],\n",
       " [0, 35, 6, 0, 0, 0, 53, 0, 0, 0, 0, 8, 2, 0, 46, 0, 243, 0, 11],\n",
       " [0, 0, 0, 0, 0, 0, 0, 0, 0, 0, 0, 0, 0, 0, 0, 0, 0, 0, 0],\n",
       " [0, 0, 0, 35, 6, 0, 0, 0, 0, 0, 0, 0, 0, 0, 0, 0, 0, 0, 0]]"
      ]
     },
     "execution_count": 64,
     "metadata": {},
     "output_type": "execute_result"
    }
   ],
   "source": [
    "testAccuracy.getInfo()"
   ]
  },
  {
   "cell_type": "code",
   "execution_count": 65,
   "id": "733c4428",
   "metadata": {},
   "outputs": [
    {
     "data": {
      "text/plain": [
       "0.37337037828595854"
      ]
     },
     "execution_count": 65,
     "metadata": {},
     "output_type": "execute_result"
    }
   ],
   "source": [
    "testAccuracy.accuracy().getInfo()"
   ]
  },
  {
   "cell_type": "code",
   "execution_count": 66,
   "id": "eb636b73",
   "metadata": {},
   "outputs": [
    {
     "data": {
      "text/plain": [
       "0.30936372365704823"
      ]
     },
     "execution_count": 66,
     "metadata": {},
     "output_type": "execute_result"
    }
   ],
   "source": [
    "testAccuracy.kappa().getInfo()"
   ]
  },
  {
   "cell_type": "code",
   "execution_count": 67,
   "id": "12f73fd4",
   "metadata": {},
   "outputs": [
    {
     "data": {
      "text/plain": [
       "[[0],\n",
       " [1],\n",
       " [0.7540983606557377],\n",
       " [0.6212121212121212],\n",
       " [0.5333333333333333],\n",
       " [1],\n",
       " [1],\n",
       " [0.4188034188034188],\n",
       " [0.08333333333333333],\n",
       " [0.6666666666666666],\n",
       " [0.0966183574879227],\n",
       " [0.19363395225464192],\n",
       " [0.8],\n",
       " [0.14893617021276595],\n",
       " [0.3170731707317073],\n",
       " [1],\n",
       " [0.6014851485148515],\n",
       " [0],\n",
       " [0]]"
      ]
     },
     "execution_count": 67,
     "metadata": {},
     "output_type": "execute_result"
    }
   ],
   "source": [
    "testAccuracy.producersAccuracy().getInfo()"
   ]
  },
  {
   "cell_type": "code",
   "execution_count": 68,
   "id": "836cd6ad",
   "metadata": {},
   "outputs": [
    {
     "data": {
      "text/plain": [
       "[[0,\n",
       "  0.0030165912518853697,\n",
       "  0.13142857142857142,\n",
       "  0.09382151029748284,\n",
       "  0.7946127946127947,\n",
       "  0.13043478260869565,\n",
       "  0.0022522522522522522,\n",
       "  0.9040590405904059,\n",
       "  0.1111111111111111,\n",
       "  1,\n",
       "  0.32786885245901637,\n",
       "  0.6822429906542056,\n",
       "  0.32786885245901637,\n",
       "  0.3351063829787234,\n",
       "  0.7866242038216561,\n",
       "  0.019230769230769232,\n",
       "  0.6029776674937966,\n",
       "  0,\n",
       "  0]]"
      ]
     },
     "execution_count": 68,
     "metadata": {},
     "output_type": "execute_result"
    }
   ],
   "source": [
    "testAccuracy.consumersAccuracy().getInfo()"
   ]
  },
  {
   "cell_type": "markdown",
   "id": "4cab70a2",
   "metadata": {},
   "source": [
    "SVM"
   ]
  },
  {
   "cell_type": "code",
   "execution_count": 69,
   "id": "21628345",
   "metadata": {},
   "outputs": [],
   "source": [
    "train_accuracy1 = trained.confusionMatrix()"
   ]
  },
  {
   "cell_type": "code",
   "execution_count": 70,
   "id": "27fac20a",
   "metadata": {},
   "outputs": [
    {
     "data": {
      "text/plain": [
       "[[0, 0, 0, 0, 0, 0, 0, 0, 0, 0, 0, 0, 0, 0, 0, 0, 0, 0, 0],\n",
       " [0, 633, 11, 0, 0, 0, 58, 0, 0, 0, 0, 0, 97, 0, 18, 0, 69, 0, 4],\n",
       " [0, 6, 608, 0, 0, 0, 1, 0, 0, 4, 0, 0, 1, 1, 0, 0, 37, 0, 461],\n",
       " [0, 0, 0, 4297, 17, 0, 0, 0, 0, 0, 0, 0, 0, 0, 0, 5, 0, 0, 0],\n",
       " [0, 0, 0, 64, 2160, 1, 0, 56, 0, 0, 2, 0, 0, 9, 0, 9, 0, 1, 0],\n",
       " [0, 0, 0, 0, 0, 52, 5, 0, 0, 0, 4, 15, 60, 0, 2, 0, 1, 0, 0],\n",
       " [0, 36, 2, 0, 0, 0, 651, 0, 0, 0, 0, 3, 507, 0, 26, 0, 105, 1, 0],\n",
       " [0, 0, 0, 0, 77, 0, 0, 804, 0, 0, 0, 0, 0, 0, 0, 0, 0, 0, 0],\n",
       " [0, 0, 0, 2, 2, 0, 0, 0, 70, 0, 0, 0, 0, 0, 0, 0, 0, 0, 0],\n",
       " [0, 0, 3, 0, 0, 0, 0, 0, 0, 116, 0, 0, 1, 0, 0, 0, 0, 0, 0],\n",
       " [0, 0, 0, 0, 13, 3, 0, 1, 0, 0, 297, 0, 0, 0, 0, 0, 0, 0, 6],\n",
       " [0, 0, 7, 0, 0, 11, 3, 0, 0, 5, 5, 145, 38, 1, 2, 0, 1, 0, 14],\n",
       " [0, 11, 3, 0, 0, 0, 136, 7, 0, 0, 0, 0, 4282, 0, 31, 0, 3, 0, 0],\n",
       " [0, 0, 0, 0, 4, 6, 0, 0, 0, 3, 4, 2, 10, 259, 0, 0, 0, 0, 78],\n",
       " [0, 62, 0, 0, 0, 0, 109, 0, 0, 0, 0, 0, 110, 0, 710, 0, 116, 1, 0],\n",
       " [0, 0, 0, 73, 12, 1, 0, 0, 0, 0, 0, 1, 1, 0, 0, 220, 0, 0, 0],\n",
       " [0, 45, 9, 0, 0, 0, 83, 0, 0, 0, 0, 0, 109, 0, 12, 0, 699, 0, 2],\n",
       " [0, 5, 0, 6, 0, 0, 26, 0, 0, 0, 0, 0, 28, 0, 1, 1, 3, 146, 0],\n",
       " [0, 1, 76, 0, 0, 0, 0, 0, 0, 0, 1, 0, 5, 3, 0, 0, 1, 0, 1078]]"
      ]
     },
     "execution_count": 70,
     "metadata": {},
     "output_type": "execute_result"
    }
   ],
   "source": [
    "train_accuracy1.getInfo()"
   ]
  },
  {
   "cell_type": "code",
   "execution_count": 71,
   "id": "025c992c",
   "metadata": {},
   "outputs": [
    {
     "data": {
      "text/plain": [
       "0.8477019978348588"
      ]
     },
     "execution_count": 71,
     "metadata": {},
     "output_type": "execute_result"
    }
   ],
   "source": [
    "train_accuracy1.accuracy().getInfo()"
   ]
  },
  {
   "cell_type": "code",
   "execution_count": 72,
   "id": "cc5df1ba",
   "metadata": {},
   "outputs": [
    {
     "data": {
      "text/plain": [
       "0.8239095239853439"
      ]
     },
     "execution_count": 72,
     "metadata": {},
     "output_type": "execute_result"
    }
   ],
   "source": [
    "train_accuracy1.kappa().getInfo()"
   ]
  },
  {
   "cell_type": "code",
   "execution_count": 73,
   "id": "7e6d45a9",
   "metadata": {},
   "outputs": [
    {
     "data": {
      "text/plain": [
       "[[0],\n",
       " [0.7112359550561798],\n",
       " [0.5433422698838248],\n",
       " [0.9949062282935864],\n",
       " [0.9383145091225021],\n",
       " [0.37410071942446044],\n",
       " [0.48910593538692715],\n",
       " [0.9125993189557321],\n",
       " [0.9459459459459459],\n",
       " [0.9666666666666667],\n",
       " [0.928125],\n",
       " [0.625],\n",
       " [0.9572993516655488],\n",
       " [0.7076502732240437],\n",
       " [0.6407942238267148],\n",
       " [0.7142857142857143],\n",
       " [0.7288842544316997],\n",
       " [0.6759259259259259],\n",
       " [0.9253218884120171]]"
      ]
     },
     "execution_count": 73,
     "metadata": {},
     "output_type": "execute_result"
    }
   ],
   "source": [
    "train_accuracy1.producersAccuracy().getInfo()"
   ]
  },
  {
   "cell_type": "code",
   "execution_count": 74,
   "id": "a4271ab1",
   "metadata": {},
   "outputs": [
    {
     "data": {
      "text/plain": [
       "[[0,\n",
       "  0.7922403003754693,\n",
       "  0.8456189151599444,\n",
       "  0.9673570463755066,\n",
       "  0.9452954048140044,\n",
       "  0.7027027027027027,\n",
       "  0.6072761194029851,\n",
       "  0.9262672811059908,\n",
       "  1,\n",
       "  0.90625,\n",
       "  0.9488817891373802,\n",
       "  0.8734939759036144,\n",
       "  0.8157744332253762,\n",
       "  0.9487179487179487,\n",
       "  0.885286783042394,\n",
       "  0.9361702127659575,\n",
       "  0.6753623188405797,\n",
       "  0.9798657718120806,\n",
       "  0.6561168594035302]]"
      ]
     },
     "execution_count": 74,
     "metadata": {},
     "output_type": "execute_result"
    }
   ],
   "source": [
    "train_accuracy1.consumersAccuracy().getInfo()"
   ]
  },
  {
   "cell_type": "code",
   "execution_count": 76,
   "id": "efee95e0",
   "metadata": {},
   "outputs": [],
   "source": [
    "validacion1 = datasetval.classify(trained)"
   ]
  },
  {
   "cell_type": "code",
   "execution_count": 77,
   "id": "1233e031",
   "metadata": {},
   "outputs": [],
   "source": [
    "testAccuracy1 = validacion1.errorMatrix('ID', 'classification')"
   ]
  },
  {
   "cell_type": "code",
   "execution_count": 78,
   "id": "69ede161",
   "metadata": {},
   "outputs": [
    {
     "data": {
      "text/plain": [
       "0.1837999572558239"
      ]
     },
     "execution_count": 78,
     "metadata": {},
     "output_type": "execute_result"
    }
   ],
   "source": [
    "testAccuracy1.accuracy().getInfo()"
   ]
  },
  {
   "cell_type": "code",
   "execution_count": 79,
   "id": "b2163219",
   "metadata": {},
   "outputs": [
    {
     "data": {
      "text/plain": [
       "0.1837999572558239"
      ]
     },
     "execution_count": 79,
     "metadata": {},
     "output_type": "execute_result"
    }
   ],
   "source": [
    "testAccuracy1.accuracy().getInfo()"
   ]
  },
  {
   "cell_type": "code",
   "execution_count": null,
   "id": "5d57952e",
   "metadata": {},
   "outputs": [],
   "source": [
    "testAccuracy1.kappa().getInfo()"
   ]
  },
  {
   "cell_type": "code",
   "execution_count": null,
   "id": "c63dbc55",
   "metadata": {},
   "outputs": [],
   "source": [
    "testAccuracy1.producersAccuracy().getInfo()"
   ]
  },
  {
   "cell_type": "code",
   "execution_count": null,
   "id": "56a96f62",
   "metadata": {},
   "outputs": [],
   "source": [
    "testAccuracy1.consumersAccuracy().getInfo()"
   ]
  },
  {
   "cell_type": "markdown",
   "id": "4ffab65d",
   "metadata": {},
   "source": [
    "SCART"
   ]
  },
  {
   "cell_type": "code",
   "execution_count": null,
   "id": "7b70cdbc",
   "metadata": {},
   "outputs": [],
   "source": [
    "train_accuracy = smc.confusionMatrix()"
   ]
  },
  {
   "cell_type": "code",
   "execution_count": null,
   "id": "2591bd0c",
   "metadata": {},
   "outputs": [],
   "source": [
    "train_accuracy.getInfo()"
   ]
  },
  {
   "cell_type": "code",
   "execution_count": null,
   "id": "f8a0129b",
   "metadata": {},
   "outputs": [],
   "source": [
    "train_accuracy.accuracy().getInfo()"
   ]
  },
  {
   "cell_type": "code",
   "execution_count": null,
   "id": "82e376e2",
   "metadata": {},
   "outputs": [],
   "source": [
    "train_accuracy.kappa().getInfo()"
   ]
  },
  {
   "cell_type": "code",
   "execution_count": null,
   "id": "71f88977",
   "metadata": {},
   "outputs": [],
   "source": [
    "train_accuracy.producersAccuracy().getInfo()"
   ]
  },
  {
   "cell_type": "code",
   "execution_count": null,
   "id": "4e5eb1e1",
   "metadata": {},
   "outputs": [],
   "source": [
    "train_accuracy.consumersAccuracy().getInfo()"
   ]
  },
  {
   "cell_type": "code",
   "execution_count": null,
   "id": "a2f3991d",
   "metadata": {},
   "outputs": [],
   "source": [
    "validated = datasetval.classify(smc)"
   ]
  },
  {
   "cell_type": "code",
   "execution_count": null,
   "id": "e0f8e220",
   "metadata": {},
   "outputs": [],
   "source": [
    "validated.first().getInfo()"
   ]
  },
  {
   "cell_type": "code",
   "execution_count": null,
   "id": "ab5ce636",
   "metadata": {},
   "outputs": [],
   "source": [
    "test_accuracy = validated.errorMatrix('ID', 'classification')"
   ]
  },
  {
   "cell_type": "code",
   "execution_count": null,
   "id": "54449a18",
   "metadata": {},
   "outputs": [],
   "source": [
    "test_accuracy.getInfo()"
   ]
  },
  {
   "cell_type": "code",
   "execution_count": null,
   "id": "f5177247",
   "metadata": {},
   "outputs": [],
   "source": [
    "test_accuracy.accuracy().getInfo()"
   ]
  },
  {
   "cell_type": "code",
   "execution_count": null,
   "id": "5b1fbaf9",
   "metadata": {},
   "outputs": [],
   "source": [
    "test_accuracy.kappa().getInfo()"
   ]
  },
  {
   "cell_type": "code",
   "execution_count": null,
   "id": "db35580a",
   "metadata": {},
   "outputs": [],
   "source": [
    "test_accuracy.producersAccuracy().getInfo()"
   ]
  },
  {
   "cell_type": "code",
   "execution_count": null,
   "id": "b9c5b35e",
   "metadata": {},
   "outputs": [],
   "source": [
    "test_accuracy.consumersAccuracy().getInfo()"
   ]
  }
 ],
 "metadata": {
  "kernelspec": {
   "display_name": "Python 3",
   "language": "python",
   "name": "python3"
  },
  "language_info": {
   "codemirror_mode": {
    "name": "ipython",
    "version": 3
   },
   "file_extension": ".py",
   "mimetype": "text/x-python",
   "name": "python",
   "nbconvert_exporter": "python",
   "pygments_lexer": "ipython3",
   "version": "3.9.2"
  },
  "toc": {
   "base_numbering": 1,
   "nav_menu": {},
   "number_sections": true,
   "sideBar": true,
   "skip_h1_title": false,
   "title_cell": "Table of Contents",
   "title_sidebar": "Contents",
   "toc_cell": false,
   "toc_position": {},
   "toc_section_display": true,
   "toc_window_display": false
  },
  "varInspector": {
   "cols": {
    "lenName": 16,
    "lenType": 16,
    "lenVar": 40
   },
   "kernels_config": {
    "python": {
     "delete_cmd_postfix": "",
     "delete_cmd_prefix": "del ",
     "library": "var_list.py",
     "varRefreshCmd": "print(var_dic_list())"
    },
    "r": {
     "delete_cmd_postfix": ") ",
     "delete_cmd_prefix": "rm(",
     "library": "var_list.r",
     "varRefreshCmd": "cat(var_dic_list()) "
    }
   },
   "types_to_exclude": [
    "module",
    "function",
    "builtin_function_or_method",
    "instance",
    "_Feature"
   ],
   "window_display": false
  }
 },
 "nbformat": 4,
 "nbformat_minor": 5
}
