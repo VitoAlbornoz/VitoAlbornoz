{
 "cells": [
  {
   "cell_type": "markdown",
   "metadata": {},
   "source": [
    "<table class=\"ee-notebook-buttons\" align=\"left\">\n",
    "    <td><a target=\"_blank\"  href=\"https://github.com/giswqs/geemap/tree/master/examples/template/template.ipynb\"><img width=32px src=\"https://www.tensorflow.org/images/GitHub-Mark-32px.png\" /> View source on GitHub</a></td>\n",
    "    <td><a target=\"_blank\"  href=\"https://nbviewer.jupyter.org/github/giswqs/geemap/blob/master/examples/template/template.ipynb\"><img width=26px src=\"https://upload.wikimedia.org/wikipedia/commons/thumb/3/38/Jupyter_logo.svg/883px-Jupyter_logo.svg.png\" />Notebook Viewer</a></td>\n",
    "    <td><a target=\"_blank\"  href=\"https://colab.research.google.com/github/giswqs/geemap/blob/master/examples/template/template.ipynb\"><img src=\"https://www.tensorflow.org/images/colab_logo_32px.png\" /> Run in Google Colab</a></td>\n",
    "</table>"
   ]
  },
  {
   "cell_type": "markdown",
   "metadata": {},
   "source": [
    "# Clasificación supervisada Random Forest\n",
    "Script trabajado por Francisco Albornoz (2021-04-13) / Última modificación / Análisis y clasificación supervisada región de Aysen"
   ]
  },
  {
   "cell_type": "markdown",
   "metadata": {},
   "source": [
    "<img src=https://www.ecopaysen.cl/wp-content/uploads/2019/12/ecopaysen_marca_web.png>"
   ]
  },
  {
   "cell_type": "code",
   "execution_count": 1,
   "metadata": {
    "ExecuteTime": {
     "end_time": "2021-09-09T15:03:52.149892Z",
     "start_time": "2021-09-09T15:03:52.147270Z"
    }
   },
   "outputs": [],
   "source": [
    "# Installs geemap package\n",
    "# import subprocess\n",
    "\n",
    "# try:\n",
    "#     import geemap\n",
    "# except ImportError:\n",
    "#     print(\"Installing geemap ...\")\n",
    "#     subprocess.check_call([\"python\", \"-m\", \"pip\", \"install\", \"geemap\"])"
   ]
  },
  {
   "cell_type": "code",
   "execution_count": 2,
   "metadata": {
    "ExecuteTime": {
     "end_time": "2021-09-09T15:03:52.882912Z",
     "start_time": "2021-09-09T15:03:52.151111Z"
    }
   },
   "outputs": [],
   "source": [
    "import os\n",
    "import ee\n",
    "import geemap\n",
    "import xarray_leaflet\n",
    "import rasterio \n",
    "from rasterio import plot\n",
    "import matplotlib.pyplot as plt\n",
    "import numpy as np\n",
    "%matplotlib inline"
   ]
  },
  {
   "cell_type": "markdown",
   "metadata": {},
   "source": [
    "## Crear un mapa interactivo \n",
    "The default basemap is `Google Maps`. [Additional basemaps](https://github.com/giswqs/geemap/blob/master/geemap/basemaps.py) can be added using the `Map.add_basemap()` function. "
   ]
  },
  {
   "cell_type": "code",
   "execution_count": 3,
   "metadata": {
    "ExecuteTime": {
     "end_time": "2021-09-09T15:04:02.204117Z",
     "start_time": "2021-09-09T15:03:52.884111Z"
    }
   },
   "outputs": [
    {
     "data": {
      "application/vnd.jupyter.widget-view+json": {
       "model_id": "74067dc31461490b91760c193707671f",
       "version_major": 2,
       "version_minor": 0
      },
      "text/plain": [
       "Map(center=[40, -100], controls=(WidgetControl(options=['position', 'transparent_bg'], widget=HBox(children=(T…"
      ]
     },
     "metadata": {},
     "output_type": "display_data"
    }
   ],
   "source": [
    "Map = geemap.Map()\n",
    "Map"
   ]
  },
  {
   "cell_type": "markdown",
   "metadata": {},
   "source": [
    "## Escogemos la imagen landsat "
   ]
  },
  {
   "cell_type": "code",
   "execution_count": 4,
   "metadata": {
    "ExecuteTime": {
     "end_time": "2021-09-09T15:04:03.501282Z",
     "start_time": "2021-09-09T15:04:02.204902Z"
    }
   },
   "outputs": [],
   "source": [
    "centroid = ee.Geometry.Point([-72, -44])\n",
    "\n",
    "landsat = ee.ImageCollection('LANDSAT/LC08/C01/T1_SR') \\\n",
    "    .filterBounds(centroid) \\\n",
    "    .filterDate('2020-01-01', '2021-03-31') \\\n",
    "    .sort('CLOUD_COVER') \\\n",
    "    .first() \\\n",
    "    .select('B[1-7]')\n",
    "\n",
    "landsat_vis = {\n",
    "    'min': 0,\n",
    "    'max': 3000,\n",
    "    'bands': ['B5', 'B4', 'B3']\n",
    "}\n",
    "\n",
    "Map.centerObject(centroid, 8)\n",
    "Map.addLayer(landsat, landsat_vis, \"Landsat-8\")\n"
   ]
  },
  {
   "cell_type": "code",
   "execution_count": 5,
   "metadata": {
    "ExecuteTime": {
     "end_time": "2021-09-09T15:04:04.884397Z",
     "start_time": "2021-09-09T15:04:03.502349Z"
    }
   },
   "outputs": [
    {
     "data": {
      "application/vnd.jupyter.widget-view+json": {
       "model_id": "74067dc31461490b91760c193707671f",
       "version_major": 2,
       "version_minor": 0
      },
      "text/plain": [
       "Map(center=[-44, -72], controls=(WidgetControl(options=['position', 'transparent_bg'], widget=HBox(children=(T…"
      ]
     },
     "metadata": {},
     "output_type": "display_data"
    }
   ],
   "source": [
    "mosaico = ee.Image(\"users/franciscoalbornoz/Mosaico_2018\")\n",
    "clasificacion_2018 = ee.Image(\"users/franciscoalbornoz/clasificacion_2018\")\n",
    "clasificacion_18c = ee.Image(\"users/franciscoalbornoz/clasificacion_18c\")\n",
    "landsat_vis = {\n",
    "    'min': 0,\n",
    "    'max': 1,\n",
    "    'bands': ['b5', 'b4', 'b3']\n",
    "}\n",
    "Map.addLayer(mosaico, landsat_vis, \"Landsat-8-2018\")\n",
    "Map.addLayer(clasificacion_2018.randomVisualizer(), {}, \"clasificación 2018\")\n",
    "Map.addLayer(clasificacion_18c.randomVisualizer(), {}, \"clasificación 2018\")\n",
    "Map"
   ]
  },
  {
   "cell_type": "markdown",
   "metadata": {},
   "source": [
    "## Importar rasters locales "
   ]
  },
  {
   "cell_type": "code",
   "execution_count": 6,
   "metadata": {
    "ExecuteTime": {
     "end_time": "2021-09-09T15:04:04.888033Z",
     "start_time": "2021-09-09T15:04:04.885188Z"
    }
   },
   "outputs": [
    {
     "data": {
      "text/plain": [
       "'/mnt/d/Francisco Albornoz/Github/VitoAlbornoz/GEE'"
      ]
     },
     "execution_count": 6,
     "metadata": {},
     "output_type": "execute_result"
    }
   ],
   "source": [
    "%pwd"
   ]
  },
  {
   "cell_type": "code",
   "execution_count": 7,
   "metadata": {
    "ExecuteTime": {
     "end_time": "2021-09-09T15:04:04.891181Z",
     "start_time": "2021-09-09T15:04:04.889000Z"
    }
   },
   "outputs": [],
   "source": [
    "# verificar en el sistema del pc cual es la ruta\n",
    "# os.path.expanduser('/mnt/c/Users/R7 3700X/Documents/GitHub/VitoAlbornoz/') "
   ]
  },
  {
   "cell_type": "code",
   "execution_count": 8,
   "metadata": {
    "ExecuteTime": {
     "end_time": "2021-09-09T15:04:04.894059Z",
     "start_time": "2021-09-09T15:04:04.891936Z"
    }
   },
   "outputs": [],
   "source": [
    "# verificar en el sistema del pc cual es la ruta\n",
    "out_dir = os.path.join(os.path.expanduser('/mnt/c/Users/Usuario/Documents/GitHub/VitoAlbornoz/'), 'Data')\n",
    "if not os.path.exists(out_dir):\n",
    "    os.makedirs(out_dir)\n",
    "\n",
    "raster_aysen = os.path.join(out_dir, 'landcover_2018_aysen.tif')"
   ]
  },
  {
   "cell_type": "code",
   "execution_count": 9,
   "metadata": {
    "ExecuteTime": {
     "end_time": "2021-09-09T15:04:04.896770Z",
     "start_time": "2021-09-09T15:04:04.894786Z"
    }
   },
   "outputs": [
    {
     "data": {
      "text/plain": [
       "'/mnt/c/Users/Usuario/Documents/GitHub/VitoAlbornoz/Data'"
      ]
     },
     "execution_count": 9,
     "metadata": {},
     "output_type": "execute_result"
    }
   ],
   "source": [
    "out_dir"
   ]
  },
  {
   "cell_type": "code",
   "execution_count": 10,
   "metadata": {
    "ExecuteTime": {
     "end_time": "2021-09-09T15:04:04.899460Z",
     "start_time": "2021-09-09T15:04:04.897520Z"
    }
   },
   "outputs": [
    {
     "data": {
      "text/plain": [
       "'/mnt/c/Users/Usuario/Documents/GitHub/VitoAlbornoz/Data/landcover_2018_aysen.tif'"
      ]
     },
     "execution_count": 10,
     "metadata": {},
     "output_type": "execute_result"
    }
   ],
   "source": [
    "raster_aysen"
   ]
  },
  {
   "cell_type": "code",
   "execution_count": 11,
   "metadata": {
    "ExecuteTime": {
     "end_time": "2021-09-09T15:04:04.953847Z",
     "start_time": "2021-09-09T15:04:04.900824Z"
    }
   },
   "outputs": [
    {
     "name": "stdout",
     "output_type": "stream",
     "text": [
      "The image file does not exist.\n"
     ]
    },
    {
     "data": {
      "application/vnd.jupyter.widget-view+json": {
       "model_id": "74067dc31461490b91760c193707671f",
       "version_major": 2,
       "version_minor": 0
      },
      "text/plain": [
       "Map(center=[-44, -72], controls=(WidgetControl(options=['position', 'transparent_bg'], widget=HBox(children=(T…"
      ]
     },
     "metadata": {},
     "output_type": "display_data"
    }
   ],
   "source": [
    "Map.add_raster(raster_aysen, colormap= 'terrain', layer_name='Landcover 2018')\n",
    "Map"
   ]
  },
  {
   "cell_type": "code",
   "execution_count": 12,
   "metadata": {
    "ExecuteTime": {
     "end_time": "2021-09-09T15:04:04.957077Z",
     "start_time": "2021-09-09T15:04:04.954742Z"
    }
   },
   "outputs": [
    {
     "data": {
      "text/plain": [
       "<ee.image.Image at 0x7f1141c456a0>"
      ]
     },
     "execution_count": 12,
     "metadata": {},
     "output_type": "execute_result"
    }
   ],
   "source": [
    "landcover = ee.Image(\"users/franciscoalbornoz/landcover_sur\")\n",
    "landcover"
   ]
  },
  {
   "cell_type": "code",
   "execution_count": 13,
   "metadata": {
    "ExecuteTime": {
     "end_time": "2021-09-09T15:04:04.960443Z",
     "start_time": "2021-09-09T15:04:04.958209Z"
    }
   },
   "outputs": [],
   "source": [
    "# raster = rasterio.open(out_dir+'/landcover_2018_aysen.tif')"
   ]
  },
  {
   "cell_type": "code",
   "execution_count": 14,
   "metadata": {
    "ExecuteTime": {
     "end_time": "2021-09-09T15:04:04.963025Z",
     "start_time": "2021-09-09T15:04:04.961613Z"
    }
   },
   "outputs": [],
   "source": [
    "# raster.bounds"
   ]
  },
  {
   "cell_type": "code",
   "execution_count": 15,
   "metadata": {
    "ExecuteTime": {
     "end_time": "2021-09-09T15:04:04.965358Z",
     "start_time": "2021-09-09T15:04:04.963988Z"
    }
   },
   "outputs": [],
   "source": [
    "# raster.crs"
   ]
  },
  {
   "cell_type": "code",
   "execution_count": 16,
   "metadata": {
    "ExecuteTime": {
     "end_time": "2021-09-09T15:04:04.967988Z",
     "start_time": "2021-09-09T15:04:04.966403Z"
    }
   },
   "outputs": [],
   "source": [
    "# raster"
   ]
  },
  {
   "cell_type": "markdown",
   "metadata": {},
   "source": [
    "## Obteniendo los valores para el Training Datasets"
   ]
  },
  {
   "cell_type": "code",
   "execution_count": 17,
   "metadata": {
    "ExecuteTime": {
     "end_time": "2021-09-09T15:04:04.970250Z",
     "start_time": "2021-09-09T15:04:04.968851Z"
    }
   },
   "outputs": [],
   "source": [
    "# points = landcover.sample(**{\n",
    "# #     'region': landsat.geometry(),\n",
    "#     'scale': 30,\n",
    "#     'numPixels': 20000,\n",
    "#     'seed': 0,\n",
    "#     'geometries': True  # Set this to False to ignore geometries\n",
    "# })\n",
    "\n",
    "# Map.addLayer(points, {}, 'training', False)\n",
    "# Map"
   ]
  },
  {
   "cell_type": "code",
   "execution_count": 18,
   "metadata": {
    "ExecuteTime": {
     "end_time": "2021-09-09T15:04:04.973806Z",
     "start_time": "2021-09-09T15:04:04.971353Z"
    }
   },
   "outputs": [],
   "source": [
    "work_dir = os.path.expanduser('../Data/shapes/')\n",
    "\n",
    "\n",
    "merged_shp = os.path.join(work_dir, 'roi_h.shp')\n",
    "val_shp= os.path.join(work_dir, 'validacion.shp')\n",
    "merged_original =os.path.join(work_dir,'roi_merged.shp')"
   ]
  },
  {
   "cell_type": "code",
   "execution_count": 19,
   "metadata": {
    "ExecuteTime": {
     "end_time": "2021-09-09T15:04:09.899626Z",
     "start_time": "2021-09-09T15:04:04.974922Z"
    }
   },
   "outputs": [],
   "source": [
    "merged = geemap.shp_to_ee(merged_shp)\n",
    "Map.addLayer(merged, {}, 'Áreas de entrenamiento')"
   ]
  },
  {
   "cell_type": "code",
   "execution_count": 20,
   "metadata": {
    "ExecuteTime": {
     "end_time": "2021-09-09T15:04:17.271686Z",
     "start_time": "2021-09-09T15:04:09.901008Z"
    }
   },
   "outputs": [],
   "source": [
    "val = geemap.shp_to_ee(val_shp)\n",
    "Map.addLayer(val, {}, 'Áreas de Validación')"
   ]
  },
  {
   "cell_type": "code",
   "execution_count": 21,
   "metadata": {
    "ExecuteTime": {
     "end_time": "2021-09-09T15:04:22.329545Z",
     "start_time": "2021-09-09T15:04:17.272551Z"
    }
   },
   "outputs": [],
   "source": [
    "mergedoriginal =geemap.shp_to_ee(merged_original)\n",
    "Map.addLayer(mergedoriginal, {}, 'Áreas de entrenamiento Original')"
   ]
  },
  {
   "cell_type": "code",
   "execution_count": 22,
   "metadata": {
    "ExecuteTime": {
     "end_time": "2021-09-09T15:04:22.332394Z",
     "start_time": "2021-09-09T15:04:22.330460Z"
    }
   },
   "outputs": [],
   "source": [
    "dataset = mosaico.sampleRegions(**{\n",
    "    'collection': merged,\n",
    "    'properties': ['IDH'],\n",
    "    'scale' : 30 ,\n",
    "})"
   ]
  },
  {
   "cell_type": "code",
   "execution_count": 23,
   "metadata": {
    "ExecuteTime": {
     "end_time": "2021-09-09T15:04:22.335195Z",
     "start_time": "2021-09-09T15:04:22.333508Z"
    }
   },
   "outputs": [],
   "source": [
    "dataset1 = mosaico.sampleRegions(**{\n",
    "    'collection': mergedoriginal,\n",
    "    'properties': ['ID'],\n",
    "    'scale': 30,\n",
    "})"
   ]
  },
  {
   "cell_type": "code",
   "execution_count": 24,
   "metadata": {
    "ExecuteTime": {
     "end_time": "2021-09-09T15:04:22.337530Z",
     "start_time": "2021-09-09T15:04:22.336016Z"
    }
   },
   "outputs": [],
   "source": [
    "datasetval = mosaico.sampleRegions(**{\n",
    "    'collection': val,\n",
    "    'properties': ['ID'],\n",
    "    'scale': 10,\n",
    "})"
   ]
  },
  {
   "cell_type": "code",
   "execution_count": 25,
   "metadata": {
    "ExecuteTime": {
     "end_time": "2021-09-09T15:04:22.339918Z",
     "start_time": "2021-09-09T15:04:22.338394Z"
    }
   },
   "outputs": [],
   "source": [
    "dataextrac = clasificacion_18c.sampleRegions(**{\n",
    "    'collection': val,\n",
    "    'properties': ['ID'],\n",
    "    'scale': 10,\n",
    "})"
   ]
  },
  {
   "cell_type": "code",
   "execution_count": 26,
   "metadata": {
    "ExecuteTime": {
     "end_time": "2021-09-09T15:04:30.767395Z",
     "start_time": "2021-09-09T15:04:22.340850Z"
    }
   },
   "outputs": [
    {
     "name": "stdout",
     "output_type": "stream",
     "text": [
      "14254\n"
     ]
    }
   ],
   "source": [
    "print(dataset1.size().getInfo())"
   ]
  },
  {
   "cell_type": "code",
   "execution_count": 27,
   "metadata": {
    "ExecuteTime": {
     "end_time": "2021-09-09T15:04:43.614168Z",
     "start_time": "2021-09-09T15:04:30.768228Z"
    }
   },
   "outputs": [
    {
     "name": "stdout",
     "output_type": "stream",
     "text": [
      "{'type': 'Feature', 'geometry': None, 'id': '0_0', 'properties': {'ID': 3, 'b1': 0.01979999989271164, 'b2': 0.017999999225139618, 'b3': 0.010499999858438969, 'b4': 0.01730000041425228, 'b5': 0.00989999994635582, 'b6': 0.0071000000461936, 'b7': 0.24460433423519135, 'b8': -0.019829994067549706, 'b9': 0.019325504079461098}}\n"
     ]
    }
   ],
   "source": [
    "print(datasetval.first().getInfo())"
   ]
  },
  {
   "cell_type": "markdown",
   "metadata": {},
   "source": [
    "### Dividiendo en muestras y datos de validación"
   ]
  },
  {
   "cell_type": "code",
   "execution_count": 28,
   "metadata": {
    "ExecuteTime": {
     "end_time": "2021-09-09T15:04:43.617136Z",
     "start_time": "2021-09-09T15:04:43.615070Z"
    }
   },
   "outputs": [],
   "source": [
    "# Guardamos las bandas\n",
    "band = ['B1', 'B2', 'B3', 'B4', 'B5', 'B6', 'B7']\n",
    "bands = ['b1', 'b2', 'b3', 'b4', 'b5', 'b6', 'b7', 'b8', 'b9']\n",
    "# Esta propiedad guarda las clases de landcover\n",
    "# label = 'b1'\n",
    "label = 'IDH'\n",
    "label1 ='ID'\n",
    "# Overlay the points on the imagery to get training.\n",
    "# sample = landsat.select(bands).sampleRegions(**{\n",
    "#   'collection': points,\n",
    "#   'properties': [label],\n",
    "#   'scale': 30\n",
    "# })\n",
    "\n",
    "# # Adds a column of deterministic pseudorandom numbers. \n",
    "# sample = sample.randomColumn()\n",
    "\n",
    "# split = 0.7 \n",
    "\n",
    "# training = sample.filter(ee.Filter.lt('random', split))\n",
    "# validation = sample.filter(ee.Filter.gte('random', split))"
   ]
  },
  {
   "cell_type": "code",
   "execution_count": 29,
   "metadata": {
    "ExecuteTime": {
     "end_time": "2021-09-09T15:04:43.621429Z",
     "start_time": "2021-09-09T15:04:43.620001Z"
    }
   },
   "outputs": [],
   "source": [
    "# training.first().getInfo()"
   ]
  },
  {
   "cell_type": "code",
   "execution_count": 30,
   "metadata": {
    "ExecuteTime": {
     "end_time": "2021-09-09T15:04:43.623694Z",
     "start_time": "2021-09-09T15:04:43.622393Z"
    }
   },
   "outputs": [],
   "source": [
    "# validation.first().getInfo()"
   ]
  },
  {
   "cell_type": "markdown",
   "metadata": {},
   "source": [
    "## Entrenando el modelo "
   ]
  },
  {
   "cell_type": "code",
   "execution_count": 31,
   "metadata": {
    "ExecuteTime": {
     "end_time": "2021-09-09T15:04:43.626261Z",
     "start_time": "2021-09-09T15:04:43.624674Z"
    }
   },
   "outputs": [],
   "source": [
    "classifier = ee.Classifier.smileRandomForest(10).train(dataset, label, bands)"
   ]
  },
  {
   "cell_type": "code",
   "execution_count": 32,
   "metadata": {
    "ExecuteTime": {
     "end_time": "2021-09-09T15:04:43.629016Z",
     "start_time": "2021-09-09T15:04:43.627206Z"
    }
   },
   "outputs": [],
   "source": [
    "classifier1 = ee.Classifier.smileRandomForest(10).train(dataset1, label1, bands)"
   ]
  },
  {
   "cell_type": "code",
   "execution_count": 33,
   "metadata": {
    "ExecuteTime": {
     "end_time": "2021-09-09T15:04:43.631538Z",
     "start_time": "2021-09-09T15:04:43.629921Z"
    }
   },
   "outputs": [],
   "source": [
    "classifier100 = ee.Classifier.smileRandomForest(100).train(dataset1, label1, bands)"
   ]
  },
  {
   "cell_type": "markdown",
   "metadata": {},
   "source": [
    "### Clasificando la imagen"
   ]
  },
  {
   "cell_type": "code",
   "execution_count": 34,
   "metadata": {
    "ExecuteTime": {
     "end_time": "2021-09-09T15:04:43.634352Z",
     "start_time": "2021-09-09T15:04:43.632508Z"
    }
   },
   "outputs": [],
   "source": [
    "# Clasificando con las mismas bandas de entrenamiento\n",
    "result1 = mosaico.select(bands).classify(classifier)\n",
    "result2 = mosaico.select(bands).classify(classifier1)\n",
    "result3 = mosaico.select(bands).classify(classifier100)\n",
    "# # Display the clusters with random colors.\n",
    "# Map.addLayer(result.randomVisualizer(), {}, 'classificado')\n",
    "# Map"
   ]
  },
  {
   "cell_type": "code",
   "execution_count": 35,
   "metadata": {
    "ExecuteTime": {
     "end_time": "2021-09-09T15:04:43.636631Z",
     "start_time": "2021-09-09T15:04:43.635336Z"
    }
   },
   "outputs": [],
   "source": [
    "# result.getInfo()"
   ]
  },
  {
   "cell_type": "markdown",
   "metadata": {},
   "source": [
    "### Categorizando según las clases "
   ]
  },
  {
   "cell_type": "code",
   "execution_count": 36,
   "metadata": {
    "ExecuteTime": {
     "end_time": "2021-09-09T15:04:43.638953Z",
     "start_time": "2021-09-09T15:04:43.637542Z"
    }
   },
   "outputs": [],
   "source": [
    "# landcover.getInfo()"
   ]
  },
  {
   "cell_type": "code",
   "execution_count": 37,
   "metadata": {
    "ExecuteTime": {
     "end_time": "2021-09-09T15:04:43.642353Z",
     "start_time": "2021-09-09T15:04:43.639924Z"
    }
   },
   "outputs": [],
   "source": [
    "class_values = [1,2,3,4,5,6,7,8,9,10,11]\n",
    "class_values1 = [1,2,3,4,5,6,7,8,9,10,11,12,13,14,15,16,17,18]\n",
    "class_palette = ['0c40f1', #1 agua*\n",
    " 'f0ff00', #2 cultivo*\n",
    " 'f99504', #3 estepa*\n",
    " '17d4c6', #4 humedal*\n",
    " '24ff00', #5 matorral abierto*\n",
    " '2de50f', #6 matorral arborescente*\n",
    " 'ccba7d', #7 plantaciones*\n",
    " 'dec61a', #8 praderas*\n",
    " '28d909', #9 primario*\n",
    " '4e8c44', #10 secundario*\n",
    " '685205', #11 suelo desnudo*\n",
    "]\n",
    "class_palette1 = ['22c129', # 1\n",
    " 'f0ff00',\n",
    " '0c40f1',\n",
    " '685205',\n",
    " '0d4404',\n",
    " 'e82d13',\n",
    " 'f99504',\n",
    " '17d4c6',\n",
    " '1c6330',\n",
    " '24ff00',\n",
    " '2de50f',\n",
    " 'ccba7d',\n",
    " 'dec61a',\n",
    " '28d909',\n",
    " '03c2ff',\n",
    " '4e8c44',\n",
    " 'fdfdfd',\n",
    " 'c0c233'\n",
    "]"
   ]
  },
  {
   "cell_type": "code",
   "execution_count": 38,
   "metadata": {
    "ExecuteTime": {
     "end_time": "2021-09-09T15:04:43.644412Z",
     "start_time": "2021-09-09T15:04:43.643239Z"
    }
   },
   "outputs": [],
   "source": [
    "# clasificacion_18c= ee.Image(\"users/franciscoalbornoz/clasificacion_18c\")\n",
    "# Map.addLayer(clasificacion_18c, class_palette1 , 'Land cover clasificado Random Forest Mosaico 2018' )"
   ]
  },
  {
   "cell_type": "code",
   "execution_count": 39,
   "metadata": {
    "ExecuteTime": {
     "end_time": "2021-09-09T15:04:43.646619Z",
     "start_time": "2021-09-09T15:04:43.645291Z"
    }
   },
   "outputs": [],
   "source": [
    "# class_values = [1,\n",
    "#  2,\n",
    "#  3,\n",
    "#  4,\n",
    "#  5,\n",
    "#  6,\n",
    "#  7,\n",
    "#  8,\n",
    "#  9,\n",
    "#  10,\n",
    "#  11,\n",
    "#  12,\n",
    "#  13,\n",
    "#  14,\n",
    "#  15,\n",
    "#  16]"
   ]
  },
  {
   "cell_type": "code",
   "execution_count": 40,
   "metadata": {
    "ExecuteTime": {
     "end_time": "2021-09-09T15:04:43.648982Z",
     "start_time": "2021-09-09T15:04:43.647590Z"
    }
   },
   "outputs": [],
   "source": [
    "# class_palette = ['22c129',\n",
    "#  'f0ff00',\n",
    "#  '0c40f1',\n",
    "#  '685205',\n",
    "#  '0d4404',\n",
    "#  'e82d13',\n",
    "#  'f99504',\n",
    "#  '17d4c6',\n",
    "#  '1c6330',\n",
    "#  '24ff00',\n",
    "#  '2de50f',\n",
    "#  'ccba7d',\n",
    "#  'e3e3c2',\n",
    "#  '28d909',\n",
    "#  '03c2ff',\n",
    "#  '4e8c44',\n",
    "# ]\n"
   ]
  },
  {
   "cell_type": "code",
   "execution_count": 41,
   "metadata": {
    "ExecuteTime": {
     "end_time": "2021-09-09T15:04:43.651586Z",
     "start_time": "2021-09-09T15:04:43.650037Z"
    }
   },
   "outputs": [],
   "source": [
    "# clases = [\"Bosque Adulto\",       #1\n",
    "#            \"Renoval\",             #2\n",
    "#            \"Matorrales\",          #3\n",
    "#            \"Praderas\",            #4\n",
    "#            \"Agropecuario\",        #5\n",
    "#            \"Agua\",                #6\n",
    "#            \"Humedales\",           #7 \n",
    "#            \"Suelo Desnudo\",       #8\n",
    "#            \"Plantación Forestal\", #9\n",
    "#            \"Incendio\",            #10\n",
    "#            \"Urbano\",              #11\n",
    "#            \"Estepa\",              #12\n",
    "#            \"Estepa abierta\",      #13\n",
    "#            \"Glaciares-Nieve\",     #14\n",
    "#            \"Vegetación de altura\",#15\n",
    "#            \"No clasificado\"]     #16"
   ]
  },
  {
   "cell_type": "code",
   "execution_count": 42,
   "metadata": {
    "ExecuteTime": {
     "end_time": "2021-09-09T15:04:43.654037Z",
     "start_time": "2021-09-09T15:04:43.652449Z"
    }
   },
   "outputs": [],
   "source": [
    "landcover1 = result1.set('classification_class_values', class_values)\n",
    "landcover1 = landcover1.set('classification_class_palette', class_palette)"
   ]
  },
  {
   "cell_type": "code",
   "execution_count": 43,
   "metadata": {
    "ExecuteTime": {
     "end_time": "2021-09-09T15:04:43.656723Z",
     "start_time": "2021-09-09T15:04:43.655137Z"
    }
   },
   "outputs": [],
   "source": [
    "landcover2 = result2.set('classification_class_values', class_values1)\n",
    "landcover2 = landcover2.set('classification_class_palette', class_palette1)"
   ]
  },
  {
   "cell_type": "code",
   "execution_count": 44,
   "metadata": {
    "ExecuteTime": {
     "end_time": "2021-09-09T15:04:43.659167Z",
     "start_time": "2021-09-09T15:04:43.657593Z"
    }
   },
   "outputs": [],
   "source": [
    "landcover3 = result3.set('classification_class_values', class_values1)\n",
    "landcover3 = landcover3.set('classification_class_palette', class_palette1)"
   ]
  },
  {
   "cell_type": "code",
   "execution_count": 45,
   "metadata": {
    "ExecuteTime": {
     "end_time": "2021-09-09T15:04:43.661577Z",
     "start_time": "2021-09-09T15:04:43.660006Z"
    }
   },
   "outputs": [],
   "source": [
    "landcoveroriginal = result3.set('classification_class_values', class_values1)\n",
    "landcoveroriginal = landcover3.set('classification_class_palette', class_palette1)"
   ]
  },
  {
   "cell_type": "code",
   "execution_count": 46,
   "metadata": {
    "ExecuteTime": {
     "end_time": "2021-09-09T15:04:51.950551Z",
     "start_time": "2021-09-09T15:04:43.662504Z"
    }
   },
   "outputs": [],
   "source": [
    "Map.addLayer(landcover1, {}, 'Land cover clasificado Random Forest Mosaico 2018' )"
   ]
  },
  {
   "cell_type": "code",
   "execution_count": 47,
   "metadata": {
    "ExecuteTime": {
     "end_time": "2021-09-09T15:04:58.680887Z",
     "start_time": "2021-09-09T15:04:51.951369Z"
    }
   },
   "outputs": [],
   "source": [
    "Map.addLayer(landcover2, {}, 'Land cover clasificado RF 10' )"
   ]
  },
  {
   "cell_type": "code",
   "execution_count": 48,
   "metadata": {
    "ExecuteTime": {
     "end_time": "2021-09-09T15:05:07.999662Z",
     "start_time": "2021-09-09T15:04:58.681693Z"
    }
   },
   "outputs": [
    {
     "data": {
      "application/vnd.jupyter.widget-view+json": {
       "model_id": "74067dc31461490b91760c193707671f",
       "version_major": 2,
       "version_minor": 0
      },
      "text/plain": [
       "Map(center=[-44, -72], controls=(WidgetControl(options=['position', 'transparent_bg'], widget=HBox(children=(T…"
      ]
     },
     "metadata": {},
     "output_type": "display_data"
    }
   ],
   "source": [
    "Map.addLayer(landcover3, {}, 'Land cover clasificado RF 100' )\n",
    "legend_dict = {\n",
    "    '01 Achaparrado': '22c129',\n",
    "    '02 Agrícola': 'f0ff00',\n",
    "    '03 Agua': '0c40f1',\n",
    "    '04 Arenal o Roca': '685205',\n",
    "    '05 Bosque Degradado': '0d4404',\n",
    "    '06 Cuncunas': 'e82d13',\n",
    "    '07 Estepa': 'f99504',\n",
    "    '08 Humedal': '17d4c6',\n",
    "    '09 Mallin': '1c6330',\n",
    "    '10 Matorral abierto': '24ff00',\n",
    "    '11 Matorral denso': '2de50f',\n",
    "    '12 Plantaciones': 'ccba7d',\n",
    "    '13 Praderas': 'dec61a',\n",
    "    '14 Primario': '28d909',\n",
    "    '15 Ríos': '03c2ff',\n",
    "    '16 Secundario': '4e8c44',\n",
    "    '17 Sombra topo': 'fdfdfd',\n",
    "    '18 Suelo desnudo': 'c0c233'\n",
    "}\n",
    "Map.add_legend(legend_title=\"Random Forest\", legend_dict=legend_dict)\n",
    "Map\n"
   ]
  },
  {
   "cell_type": "markdown",
   "metadata": {},
   "source": [
    "### Visualizando el resultado\n"
   ]
  },
  {
   "cell_type": "code",
   "execution_count": 49,
   "metadata": {
    "ExecuteTime": {
     "end_time": "2021-09-09T15:05:08.002172Z",
     "start_time": "2021-09-09T15:05:08.000760Z"
    }
   },
   "outputs": [],
   "source": [
    "# print('Change layer opacity:')\n",
    "# cluster_layer = Map.layers[-1]\n",
    "# cluster_layer.interact(opacity=(0, 1, 0.1))"
   ]
  },
  {
   "cell_type": "markdown",
   "metadata": {},
   "source": [
    "### Agregando título al mapa"
   ]
  },
  {
   "cell_type": "code",
   "execution_count": 50,
   "metadata": {
    "ExecuteTime": {
     "end_time": "2021-09-09T15:05:08.004577Z",
     "start_time": "2021-09-09T15:05:08.003146Z"
    }
   },
   "outputs": [],
   "source": [
    "# Map.add_legend('Clasificación supervisada Random Forest')\n",
    "# Map"
   ]
  },
  {
   "cell_type": "markdown",
   "metadata": {},
   "source": [
    "### Evaluación de presición / Accuracy assessment"
   ]
  },
  {
   "cell_type": "code",
   "execution_count": 51,
   "metadata": {
    "ExecuteTime": {
     "end_time": "2021-09-09T15:05:08.007168Z",
     "start_time": "2021-09-09T15:05:08.005517Z"
    }
   },
   "outputs": [],
   "source": [
    "train_accuracy = classifier1.confusionMatrix()"
   ]
  },
  {
   "cell_type": "code",
   "execution_count": 52,
   "metadata": {
    "ExecuteTime": {
     "end_time": "2021-09-09T15:05:13.723635Z",
     "start_time": "2021-09-09T15:05:08.008242Z"
    }
   },
   "outputs": [
    {
     "data": {
      "text/plain": [
       "[[0, 0, 0, 0, 0, 0, 0, 0, 0, 0, 0, 0, 0, 0, 0, 0, 0, 0, 0],\n",
       " [0, 624, 1, 0, 0, 0, 0, 0, 0, 0, 0, 0, 0, 0, 0, 0, 0, 0, 0],\n",
       " [0, 0, 806, 0, 0, 0, 0, 0, 0, 0, 0, 0, 0, 0, 0, 0, 0, 0, 0],\n",
       " [0, 0, 0, 3020, 0, 0, 0, 0, 0, 0, 0, 0, 0, 0, 0, 0, 0, 0, 0],\n",
       " [0, 0, 0, 0, 1622, 0, 1, 0, 0, 0, 0, 0, 0, 0, 0, 0, 0, 0, 0],\n",
       " [0, 0, 0, 0, 0, 97, 2, 0, 0, 0, 0, 1, 0, 0, 0, 0, 0, 0, 0],\n",
       " [0, 0, 0, 0, 0, 0, 930, 0, 0, 0, 0, 1, 0, 0, 0, 0, 0, 0, 0],\n",
       " [0, 0, 0, 0, 4, 0, 0, 617, 0, 0, 0, 0, 0, 0, 0, 0, 0, 0, 0],\n",
       " [0, 0, 0, 1, 0, 0, 0, 0, 48, 0, 0, 0, 0, 0, 0, 0, 0, 0, 0],\n",
       " [0, 0, 0, 0, 0, 0, 0, 0, 0, 86, 0, 0, 0, 0, 0, 0, 0, 0, 0],\n",
       " [0, 0, 0, 0, 0, 0, 0, 0, 0, 0, 222, 0, 0, 0, 0, 0, 0, 0, 0],\n",
       " [0, 0, 0, 0, 0, 1, 7, 0, 0, 0, 2, 150, 0, 0, 2, 0, 0, 0, 0],\n",
       " [0, 0, 1, 0, 0, 0, 0, 0, 0, 0, 0, 0, 3097, 0, 0, 0, 0, 0, 0],\n",
       " [0, 0, 2, 0, 1, 0, 0, 1, 0, 0, 0, 0, 0, 252, 0, 0, 0, 0, 2],\n",
       " [0, 2, 0, 0, 0, 0, 0, 0, 0, 0, 0, 0, 0, 0, 779, 0, 0, 0, 0],\n",
       " [0, 0, 0, 0, 0, 0, 0, 0, 0, 0, 0, 0, 0, 0, 0, 217, 0, 0, 0],\n",
       " [0, 7, 0, 0, 0, 0, 0, 0, 0, 0, 0, 0, 0, 0, 0, 0, 673, 0, 0],\n",
       " [0, 0, 0, 0, 0, 0, 0, 0, 0, 0, 0, 0, 0, 0, 0, 0, 0, 155, 0],\n",
       " [0, 0, 0, 0, 0, 0, 0, 0, 0, 0, 0, 0, 0, 0, 0, 0, 0, 0, 820]]"
      ]
     },
     "execution_count": 52,
     "metadata": {},
     "output_type": "execute_result"
    }
   ],
   "source": [
    "train_accuracy.getInfo()"
   ]
  },
  {
   "cell_type": "code",
   "execution_count": 53,
   "metadata": {
    "ExecuteTime": {
     "end_time": "2021-09-09T15:05:17.287477Z",
     "start_time": "2021-09-09T15:05:13.724736Z"
    }
   },
   "outputs": [
    {
     "data": {
      "text/plain": [
       "0.9972639259155325"
      ]
     },
     "execution_count": 53,
     "metadata": {},
     "output_type": "execute_result"
    }
   ],
   "source": [
    "train_accuracy.accuracy().getInfo()"
   ]
  },
  {
   "cell_type": "code",
   "execution_count": 54,
   "metadata": {
    "ExecuteTime": {
     "end_time": "2021-09-09T15:05:21.323914Z",
     "start_time": "2021-09-09T15:05:17.288317Z"
    }
   },
   "outputs": [
    {
     "data": {
      "text/plain": [
       "0.9968688213363049"
      ]
     },
     "execution_count": 54,
     "metadata": {},
     "output_type": "execute_result"
    }
   ],
   "source": [
    "train_accuracy.kappa().getInfo()"
   ]
  },
  {
   "cell_type": "code",
   "execution_count": 55,
   "metadata": {
    "ExecuteTime": {
     "end_time": "2021-09-09T15:05:28.257390Z",
     "start_time": "2021-09-09T15:05:21.324742Z"
    }
   },
   "outputs": [
    {
     "data": {
      "text/plain": [
       "[[0],\n",
       " [0.9984],\n",
       " [1],\n",
       " [1],\n",
       " [0.9993838570548367],\n",
       " [0.97],\n",
       " [0.9989258861439313],\n",
       " [0.9935587761674718],\n",
       " [0.9795918367346939],\n",
       " [1],\n",
       " [1],\n",
       " [0.9259259259259259],\n",
       " [0.999677211103938],\n",
       " [0.9767441860465116],\n",
       " [0.9974391805377721],\n",
       " [1],\n",
       " [0.9897058823529412],\n",
       " [1],\n",
       " [1]]"
      ]
     },
     "execution_count": 55,
     "metadata": {},
     "output_type": "execute_result"
    }
   ],
   "source": [
    "train_accuracy.producersAccuracy().getInfo()"
   ]
  },
  {
   "cell_type": "code",
   "execution_count": 56,
   "metadata": {
    "ExecuteTime": {
     "end_time": "2021-09-09T15:05:32.470960Z",
     "start_time": "2021-09-09T15:05:28.258262Z"
    }
   },
   "outputs": [
    {
     "data": {
      "text/plain": [
       "[[0,\n",
       "  0.985781990521327,\n",
       "  0.9950617283950617,\n",
       "  0.9996689837802052,\n",
       "  0.9969268592501537,\n",
       "  0.9897959183673469,\n",
       "  0.9893617021276596,\n",
       "  0.9983818770226537,\n",
       "  1,\n",
       "  1,\n",
       "  0.9910714285714286,\n",
       "  0.9868421052631579,\n",
       "  1,\n",
       "  1,\n",
       "  0.9974391805377721,\n",
       "  1,\n",
       "  1,\n",
       "  1,\n",
       "  0.9975669099756691]]"
      ]
     },
     "execution_count": 56,
     "metadata": {},
     "output_type": "execute_result"
    }
   ],
   "source": [
    "train_accuracy.consumersAccuracy().getInfo()"
   ]
  },
  {
   "cell_type": "markdown",
   "metadata": {},
   "source": [
    "Random Forest 100"
   ]
  },
  {
   "cell_type": "code",
   "execution_count": 57,
   "metadata": {
    "ExecuteTime": {
     "end_time": "2021-09-09T15:05:32.473703Z",
     "start_time": "2021-09-09T15:05:32.472041Z"
    }
   },
   "outputs": [],
   "source": [
    "train_accuracy1 = classifier100.confusionMatrix()"
   ]
  },
  {
   "cell_type": "code",
   "execution_count": 58,
   "metadata": {
    "ExecuteTime": {
     "end_time": "2021-09-09T15:05:38.704401Z",
     "start_time": "2021-09-09T15:05:32.474704Z"
    }
   },
   "outputs": [
    {
     "data": {
      "text/plain": [
       "[[0, 0, 0, 0, 0, 0, 0, 0, 0, 0, 0, 0, 0, 0, 0, 0, 0, 0, 0],\n",
       " [0, 625, 0, 0, 0, 0, 0, 0, 0, 0, 0, 0, 0, 0, 0, 0, 0, 0, 0],\n",
       " [0, 0, 806, 0, 0, 0, 0, 0, 0, 0, 0, 0, 0, 0, 0, 0, 0, 0, 0],\n",
       " [0, 0, 0, 3020, 0, 0, 0, 0, 0, 0, 0, 0, 0, 0, 0, 0, 0, 0, 0],\n",
       " [0, 0, 0, 0, 1622, 0, 1, 0, 0, 0, 0, 0, 0, 0, 0, 0, 0, 0, 0],\n",
       " [0, 0, 0, 0, 0, 100, 0, 0, 0, 0, 0, 0, 0, 0, 0, 0, 0, 0, 0],\n",
       " [0, 0, 0, 0, 0, 0, 931, 0, 0, 0, 0, 0, 0, 0, 0, 0, 0, 0, 0],\n",
       " [0, 0, 0, 0, 0, 0, 0, 621, 0, 0, 0, 0, 0, 0, 0, 0, 0, 0, 0],\n",
       " [0, 0, 0, 0, 0, 0, 0, 0, 49, 0, 0, 0, 0, 0, 0, 0, 0, 0, 0],\n",
       " [0, 0, 0, 0, 0, 0, 0, 0, 0, 86, 0, 0, 0, 0, 0, 0, 0, 0, 0],\n",
       " [0, 0, 0, 0, 0, 0, 0, 0, 0, 0, 221, 1, 0, 0, 0, 0, 0, 0, 0],\n",
       " [0, 0, 0, 0, 0, 0, 1, 0, 0, 0, 0, 161, 0, 0, 0, 0, 0, 0, 0],\n",
       " [0, 0, 1, 0, 0, 0, 0, 0, 0, 0, 0, 0, 3097, 0, 0, 0, 0, 0, 0],\n",
       " [0, 0, 0, 0, 0, 0, 0, 0, 0, 0, 0, 0, 0, 258, 0, 0, 0, 0, 0],\n",
       " [0, 0, 0, 0, 0, 0, 0, 0, 0, 0, 0, 0, 0, 0, 781, 0, 0, 0, 0],\n",
       " [0, 0, 0, 0, 0, 0, 0, 0, 0, 0, 0, 0, 0, 0, 0, 217, 0, 0, 0],\n",
       " [0, 1, 0, 0, 0, 0, 0, 0, 0, 0, 0, 0, 0, 0, 0, 0, 679, 0, 0],\n",
       " [0, 0, 0, 0, 0, 0, 0, 0, 0, 0, 0, 0, 0, 0, 0, 0, 0, 155, 0],\n",
       " [0, 0, 0, 0, 0, 0, 0, 0, 0, 0, 0, 0, 0, 0, 0, 0, 0, 0, 820]]"
      ]
     },
     "execution_count": 58,
     "metadata": {},
     "output_type": "execute_result"
    }
   ],
   "source": [
    "train_accuracy1.getInfo()"
   ]
  },
  {
   "cell_type": "code",
   "execution_count": 59,
   "metadata": {
    "ExecuteTime": {
     "end_time": "2021-09-09T15:05:42.883090Z",
     "start_time": "2021-09-09T15:05:38.705201Z"
    }
   },
   "outputs": [
    {
     "data": {
      "text/plain": [
       "0.9996492212712221"
      ]
     },
     "execution_count": 59,
     "metadata": {},
     "output_type": "execute_result"
    }
   ],
   "source": [
    "train_accuracy1.accuracy().getInfo()"
   ]
  },
  {
   "cell_type": "code",
   "execution_count": 60,
   "metadata": {
    "ExecuteTime": {
     "end_time": "2021-09-09T15:05:47.333755Z",
     "start_time": "2021-09-09T15:05:42.884054Z"
    }
   },
   "outputs": [
    {
     "data": {
      "text/plain": [
       "0.9995986061569231"
      ]
     },
     "execution_count": 60,
     "metadata": {},
     "output_type": "execute_result"
    }
   ],
   "source": [
    "train_accuracy1.kappa().getInfo()"
   ]
  },
  {
   "cell_type": "code",
   "execution_count": 61,
   "metadata": {
    "ExecuteTime": {
     "end_time": "2021-09-09T15:05:51.257404Z",
     "start_time": "2021-09-09T15:05:47.334654Z"
    }
   },
   "outputs": [
    {
     "data": {
      "text/plain": [
       "[[0],\n",
       " [1],\n",
       " [1],\n",
       " [1],\n",
       " [0.9993838570548367],\n",
       " [1],\n",
       " [1],\n",
       " [1],\n",
       " [1],\n",
       " [1],\n",
       " [0.9954954954954955],\n",
       " [0.9938271604938271],\n",
       " [0.999677211103938],\n",
       " [1],\n",
       " [1],\n",
       " [1],\n",
       " [0.9985294117647059],\n",
       " [1],\n",
       " [1]]"
      ]
     },
     "execution_count": 61,
     "metadata": {},
     "output_type": "execute_result"
    }
   ],
   "source": [
    "train_accuracy1.producersAccuracy().getInfo()"
   ]
  },
  {
   "cell_type": "code",
   "execution_count": 62,
   "metadata": {
    "ExecuteTime": {
     "end_time": "2021-09-09T15:05:55.438235Z",
     "start_time": "2021-09-09T15:05:51.258274Z"
    }
   },
   "outputs": [
    {
     "data": {
      "text/plain": [
       "[[0,\n",
       "  0.9984025559105432,\n",
       "  0.9987608426270136,\n",
       "  1,\n",
       "  1,\n",
       "  1,\n",
       "  0.9978563772775991,\n",
       "  1,\n",
       "  1,\n",
       "  1,\n",
       "  1,\n",
       "  0.9938271604938271,\n",
       "  1,\n",
       "  1,\n",
       "  1,\n",
       "  1,\n",
       "  1,\n",
       "  1,\n",
       "  1]]"
      ]
     },
     "execution_count": 62,
     "metadata": {},
     "output_type": "execute_result"
    }
   ],
   "source": [
    "train_accuracy1.consumersAccuracy().getInfo()"
   ]
  },
  {
   "cell_type": "markdown",
   "metadata": {},
   "source": [
    "#### Set de datos de validación"
   ]
  },
  {
   "cell_type": "code",
   "execution_count": 63,
   "metadata": {
    "ExecuteTime": {
     "end_time": "2021-09-09T15:05:55.440791Z",
     "start_time": "2021-09-09T15:05:55.439075Z"
    }
   },
   "outputs": [],
   "source": [
    "validated = datasetval.classify(classifier1)"
   ]
  },
  {
   "cell_type": "code",
   "execution_count": 64,
   "metadata": {
    "ExecuteTime": {
     "end_time": "2021-09-09T15:06:06.497462Z",
     "start_time": "2021-09-09T15:05:55.441798Z"
    }
   },
   "outputs": [
    {
     "data": {
      "text/plain": [
       "{'type': 'Feature',\n",
       " 'geometry': None,\n",
       " 'id': '0_0',\n",
       " 'properties': {'ID': 3,\n",
       "  'b1': 0.01979999989271164,\n",
       "  'b2': 0.017999999225139618,\n",
       "  'b3': 0.010499999858438969,\n",
       "  'b4': 0.01730000041425228,\n",
       "  'b5': 0.00989999994635582,\n",
       "  'b6': 0.0071000000461936,\n",
       "  'b7': 0.24460433423519135,\n",
       "  'b8': -0.019829994067549706,\n",
       "  'b9': 0.019325504079461098,\n",
       "  'classification': 3}}"
      ]
     },
     "execution_count": 64,
     "metadata": {},
     "output_type": "execute_result"
    }
   ],
   "source": [
    "validated.first().getInfo()"
   ]
  },
  {
   "cell_type": "code",
   "execution_count": 65,
   "metadata": {
    "ExecuteTime": {
     "end_time": "2021-09-09T15:06:06.499959Z",
     "start_time": "2021-09-09T15:06:06.498283Z"
    }
   },
   "outputs": [],
   "source": [
    "test_accuracy = validated.errorMatrix('ID', 'classification')"
   ]
  },
  {
   "cell_type": "code",
   "execution_count": 66,
   "metadata": {
    "ExecuteTime": {
     "end_time": "2021-09-09T15:06:17.600361Z",
     "start_time": "2021-09-09T15:06:06.500753Z"
    }
   },
   "outputs": [
    {
     "data": {
      "text/plain": [
       "[[0, 0, 0, 0, 0, 0, 0, 0, 0, 0, 0, 0, 0, 0, 0, 0, 0, 0, 0],\n",
       " [0, 3, 0, 0, 0, 0, 0, 0, 0, 0, 0, 0, 0, 0, 0, 0, 0, 0, 0],\n",
       " [0, 0, 38, 0, 0, 0, 0, 0, 0, 0, 0, 0, 0, 0, 0, 0, 0, 0, 3],\n",
       " [0, 0, 0, 44, 0, 0, 0, 0, 0, 0, 0, 0, 2, 0, 5, 0, 0, 0, 0],\n",
       " [0, 0, 0, 0, 607, 0, 0, 8, 0, 0, 3, 0, 0, 7, 0, 0, 0, 0, 4],\n",
       " [0, 0, 0, 0, 0, 3, 0, 0, 0, 0, 0, 1, 0, 0, 0, 0, 0, 0, 0],\n",
       " [0, 0, 0, 0, 0, 0, 0, 0, 0, 0, 0, 0, 0, 0, 0, 0, 0, 0, 0],\n",
       " [0, 0, 0, 0, 51, 0, 0, 204, 0, 0, 0, 0, 0, 3, 0, 0, 0, 0, 80],\n",
       " [0, 0, 0, 1, 0, 0, 7, 0, 0, 0, 0, 0, 0, 0, 0, 0, 0, 0, 0],\n",
       " [0, 0, 0, 0, 0, 0, 0, 0, 0, 1, 0, 0, 0, 0, 0, 0, 0, 0, 1],\n",
       " [0, 5, 24, 0, 10, 14, 0, 0, 0, 0, 20, 21, 15, 12, 6, 0, 0, 3, 12],\n",
       " [0, 43, 13, 0, 0, 17, 6, 0, 0, 0, 7, 64, 12, 2, 80, 0, 23, 0, 0],\n",
       " [0, 0, 0, 0, 0, 0, 0, 0, 0, 0, 0, 0, 26, 0, 6, 0, 0, 0, 0],\n",
       " [0, 0, 127, 0, 0, 2, 0, 8, 0, 0, 7, 12, 0, 66, 0, 0, 0, 0, 69],\n",
       " [0, 445, 22, 0, 8, 7, 14, 0, 0, 0, 0, 17, 19, 0, 408, 0, 160, 0, 0],\n",
       " [0, 0, 0, 0, 0, 0, 0, 0, 0, 0, 0, 0, 0, 0, 0, 0, 0, 0, 0],\n",
       " [0, 18, 2, 0, 0, 0, 4, 0, 0, 0, 0, 0, 3, 0, 33, 0, 104, 0, 0],\n",
       " [0, 0, 0, 0, 0, 0, 0, 0, 0, 0, 0, 0, 0, 0, 0, 0, 0, 0, 0],\n",
       " [0, 0, 0, 0, 25, 0, 0, 0, 0, 0, 0, 0, 0, 0, 0, 0, 0, 0, 0]]"
      ]
     },
     "execution_count": 66,
     "metadata": {},
     "output_type": "execute_result"
    }
   ],
   "source": [
    "test_accuracy.getInfo()"
   ]
  },
  {
   "cell_type": "code",
   "execution_count": 67,
   "metadata": {
    "ExecuteTime": {
     "end_time": "2021-09-09T15:06:27.889593Z",
     "start_time": "2021-09-09T15:06:17.601208Z"
    }
   },
   "outputs": [
    {
     "data": {
      "text/plain": [
       "0.5127542783338714"
      ]
     },
     "execution_count": 67,
     "metadata": {},
     "output_type": "execute_result"
    }
   ],
   "source": [
    "test_accuracy.accuracy().getInfo()"
   ]
  },
  {
   "cell_type": "code",
   "execution_count": 68,
   "metadata": {
    "ExecuteTime": {
     "end_time": "2021-09-09T15:06:38.938199Z",
     "start_time": "2021-09-09T15:06:27.890629Z"
    }
   },
   "outputs": [
    {
     "data": {
      "text/plain": [
       "0.4406587228910788"
      ]
     },
     "execution_count": 68,
     "metadata": {},
     "output_type": "execute_result"
    }
   ],
   "source": [
    "test_accuracy.kappa().getInfo()"
   ]
  },
  {
   "cell_type": "code",
   "execution_count": 69,
   "metadata": {
    "ExecuteTime": {
     "end_time": "2021-09-09T15:06:49.078400Z",
     "start_time": "2021-09-09T15:06:38.939076Z"
    }
   },
   "outputs": [
    {
     "data": {
      "text/plain": [
       "[[0],\n",
       " [1],\n",
       " [0.926829268292683],\n",
       " [0.8627450980392157],\n",
       " [0.9650238473767886],\n",
       " [0.75],\n",
       " [0],\n",
       " [0.6035502958579881],\n",
       " [0],\n",
       " [0.5],\n",
       " [0.14084507042253522],\n",
       " [0.2397003745318352],\n",
       " [0.8125],\n",
       " [0.2268041237113402],\n",
       " [0.3709090909090909],\n",
       " [0],\n",
       " [0.6341463414634146],\n",
       " [0],\n",
       " [0]]"
      ]
     },
     "execution_count": 69,
     "metadata": {},
     "output_type": "execute_result"
    }
   ],
   "source": [
    "test_accuracy.producersAccuracy().getInfo()"
   ]
  },
  {
   "cell_type": "code",
   "execution_count": 70,
   "metadata": {
    "ExecuteTime": {
     "end_time": "2021-09-09T15:07:00.368250Z",
     "start_time": "2021-09-09T15:06:49.079214Z"
    }
   },
   "outputs": [
    {
     "data": {
      "text/plain": [
       "[[0,\n",
       "  0.005836575875486381,\n",
       "  0.168141592920354,\n",
       "  0.9777777777777777,\n",
       "  0.8659058487874465,\n",
       "  0.06976744186046512,\n",
       "  0,\n",
       "  0.9272727272727272,\n",
       "  0,\n",
       "  1,\n",
       "  0.5405405405405406,\n",
       "  0.5565217391304348,\n",
       "  0.33766233766233766,\n",
       "  0.7333333333333333,\n",
       "  0.758364312267658,\n",
       "  0,\n",
       "  0.3623693379790941,\n",
       "  0,\n",
       "  0]]"
      ]
     },
     "execution_count": 70,
     "metadata": {},
     "output_type": "execute_result"
    }
   ],
   "source": [
    "test_accuracy.consumersAccuracy().getInfo()"
   ]
  },
  {
   "cell_type": "markdown",
   "metadata": {},
   "source": [
    "RF 100 Validación"
   ]
  },
  {
   "cell_type": "code",
   "execution_count": 71,
   "metadata": {
    "ExecuteTime": {
     "end_time": "2021-09-09T15:07:00.370941Z",
     "start_time": "2021-09-09T15:07:00.369139Z"
    }
   },
   "outputs": [],
   "source": [
    "validated1 = datasetval.classify(classifier100)"
   ]
  },
  {
   "cell_type": "code",
   "execution_count": 72,
   "metadata": {
    "ExecuteTime": {
     "end_time": "2021-09-09T15:07:10.790255Z",
     "start_time": "2021-09-09T15:07:00.371747Z"
    }
   },
   "outputs": [
    {
     "data": {
      "text/plain": [
       "{'type': 'Feature',\n",
       " 'geometry': None,\n",
       " 'id': '0_0',\n",
       " 'properties': {'ID': 3,\n",
       "  'b1': 0.01979999989271164,\n",
       "  'b2': 0.017999999225139618,\n",
       "  'b3': 0.010499999858438969,\n",
       "  'b4': 0.01730000041425228,\n",
       "  'b5': 0.00989999994635582,\n",
       "  'b6': 0.0071000000461936,\n",
       "  'b7': 0.24460433423519135,\n",
       "  'b8': -0.019829994067549706,\n",
       "  'b9': 0.019325504079461098,\n",
       "  'classification': 3}}"
      ]
     },
     "execution_count": 72,
     "metadata": {},
     "output_type": "execute_result"
    }
   ],
   "source": [
    "validated1.first().getInfo()"
   ]
  },
  {
   "cell_type": "code",
   "execution_count": 73,
   "metadata": {
    "ExecuteTime": {
     "end_time": "2021-09-09T15:07:10.792598Z",
     "start_time": "2021-09-09T15:07:10.791095Z"
    }
   },
   "outputs": [],
   "source": [
    "test_accuracy1 = validated1.errorMatrix('ID', 'classification')"
   ]
  },
  {
   "cell_type": "code",
   "execution_count": 74,
   "metadata": {
    "ExecuteTime": {
     "end_time": "2021-09-09T15:07:22.080693Z",
     "start_time": "2021-09-09T15:07:10.793291Z"
    }
   },
   "outputs": [
    {
     "data": {
      "text/plain": [
       "[[0, 0, 0, 0, 0, 0, 0, 0, 0, 0, 0, 0, 0, 0, 0, 0, 0, 0, 0],\n",
       " [0, 3, 0, 0, 0, 0, 0, 0, 0, 0, 0, 0, 0, 0, 0, 0, 0, 0, 0],\n",
       " [0, 0, 38, 0, 0, 0, 0, 0, 0, 0, 0, 0, 0, 0, 0, 0, 0, 0, 3],\n",
       " [0, 0, 0, 44, 0, 0, 0, 0, 0, 0, 0, 0, 7, 0, 0, 0, 0, 0, 0],\n",
       " [0, 0, 0, 0, 610, 0, 0, 5, 0, 0, 0, 0, 0, 14, 0, 0, 0, 0, 0],\n",
       " [0, 0, 0, 0, 0, 4, 0, 0, 0, 0, 0, 0, 0, 0, 0, 0, 0, 0, 0],\n",
       " [0, 0, 0, 0, 0, 0, 0, 0, 0, 0, 0, 0, 0, 0, 0, 0, 0, 0, 0],\n",
       " [0, 0, 0, 0, 35, 0, 0, 202, 0, 0, 0, 0, 0, 8, 0, 0, 0, 0, 93],\n",
       " [0, 0, 0, 1, 0, 0, 7, 0, 0, 0, 0, 0, 0, 0, 0, 0, 0, 0, 0],\n",
       " [0, 0, 0, 0, 0, 0, 0, 0, 0, 1, 0, 0, 0, 0, 0, 0, 0, 0, 1],\n",
       " [0, 6, 16, 0, 8, 14, 0, 0, 0, 0, 16, 35, 6, 21, 12, 0, 0, 3, 5],\n",
       " [0, 36, 15, 0, 0, 7, 5, 0, 0, 0, 2, 81, 11, 2, 88, 0, 20, 0, 0],\n",
       " [0, 0, 0, 0, 0, 0, 0, 0, 0, 0, 0, 0, 27, 0, 5, 0, 0, 0, 0],\n",
       " [0, 0, 125, 0, 0, 0, 0, 8, 0, 0, 7, 14, 0, 66, 0, 0, 0, 0, 71],\n",
       " [0, 464, 32, 0, 8, 1, 8, 0, 0, 0, 0, 31, 12, 0, 408, 0, 128, 8, 0],\n",
       " [0, 0, 0, 0, 0, 0, 0, 0, 0, 0, 0, 0, 0, 0, 0, 0, 0, 0, 0],\n",
       " [0, 20, 2, 0, 0, 0, 4, 0, 0, 0, 0, 0, 0, 0, 35, 0, 103, 0, 0],\n",
       " [0, 0, 0, 0, 0, 0, 0, 0, 0, 0, 0, 0, 0, 0, 0, 0, 0, 0, 0],\n",
       " [0, 0, 0, 0, 25, 0, 0, 0, 0, 0, 0, 0, 0, 0, 0, 0, 0, 0, 0]]"
      ]
     },
     "execution_count": 74,
     "metadata": {},
     "output_type": "execute_result"
    }
   ],
   "source": [
    "test_accuracy1.getInfo()"
   ]
  },
  {
   "cell_type": "code",
   "execution_count": 75,
   "metadata": {
    "ExecuteTime": {
     "end_time": "2021-09-09T15:07:40.614690Z",
     "start_time": "2021-09-09T15:07:22.081543Z"
    }
   },
   "outputs": [
    {
     "data": {
      "text/plain": [
       "0.5175976751695189"
      ]
     },
     "execution_count": 75,
     "metadata": {},
     "output_type": "execute_result"
    }
   ],
   "source": [
    "test_accuracy1.accuracy().getInfo()"
   ]
  },
  {
   "cell_type": "code",
   "execution_count": 76,
   "metadata": {
    "ExecuteTime": {
     "end_time": "2021-09-09T15:07:52.348279Z",
     "start_time": "2021-09-09T15:07:40.615658Z"
    }
   },
   "outputs": [
    {
     "data": {
      "text/plain": [
       "0.44553052775835783"
      ]
     },
     "execution_count": 76,
     "metadata": {},
     "output_type": "execute_result"
    }
   ],
   "source": [
    "test_accuracy1.kappa().getInfo()"
   ]
  },
  {
   "cell_type": "code",
   "execution_count": 77,
   "metadata": {
    "ExecuteTime": {
     "end_time": "2021-09-09T15:08:04.697010Z",
     "start_time": "2021-09-09T15:07:52.349120Z"
    }
   },
   "outputs": [
    {
     "data": {
      "text/plain": [
       "[[0],\n",
       " [1],\n",
       " [0.926829268292683],\n",
       " [0.8627450980392157],\n",
       " [0.9697933227344993],\n",
       " [1],\n",
       " [0],\n",
       " [0.5976331360946746],\n",
       " [0],\n",
       " [0.5],\n",
       " [0.11267605633802817],\n",
       " [0.30337078651685395],\n",
       " [0.84375],\n",
       " [0.2268041237113402],\n",
       " [0.3709090909090909],\n",
       " [0],\n",
       " [0.6280487804878049],\n",
       " [0],\n",
       " [0]]"
      ]
     },
     "execution_count": 77,
     "metadata": {},
     "output_type": "execute_result"
    }
   ],
   "source": [
    "test_accuracy1.producersAccuracy().getInfo()"
   ]
  },
  {
   "cell_type": "code",
   "execution_count": 78,
   "metadata": {
    "ExecuteTime": {
     "end_time": "2021-09-09T15:08:15.798515Z",
     "start_time": "2021-09-09T15:08:04.697795Z"
    }
   },
   "outputs": [
    {
     "data": {
      "text/plain": [
       "[[0,\n",
       "  0.005671077504725898,\n",
       "  0.16666666666666666,\n",
       "  0.9777777777777777,\n",
       "  0.8892128279883382,\n",
       "  0.15384615384615385,\n",
       "  0,\n",
       "  0.9395348837209302,\n",
       "  0,\n",
       "  1,\n",
       "  0.64,\n",
       "  0.5031055900621118,\n",
       "  0.42857142857142855,\n",
       "  0.5945945945945946,\n",
       "  0.7445255474452555,\n",
       "  0,\n",
       "  0.4103585657370518,\n",
       "  0,\n",
       "  0]]"
      ]
     },
     "execution_count": 78,
     "metadata": {},
     "output_type": "execute_result"
    }
   ],
   "source": [
    "test_accuracy1.consumersAccuracy().getInfo()"
   ]
  },
  {
   "cell_type": "code",
   "execution_count": 79,
   "metadata": {
    "ExecuteTime": {
     "end_time": "2021-09-09T15:08:15.800779Z",
     "start_time": "2021-09-09T15:08:15.799406Z"
    }
   },
   "outputs": [],
   "source": [
    "# validated100 = dataextrac.classify(classifier100)"
   ]
  },
  {
   "cell_type": "code",
   "execution_count": 80,
   "metadata": {
    "ExecuteTime": {
     "end_time": "2021-09-09T15:08:15.803633Z",
     "start_time": "2021-09-09T15:08:15.801753Z"
    }
   },
   "outputs": [],
   "source": [
    "# validated100.first().getInfo()"
   ]
  },
  {
   "cell_type": "code",
   "execution_count": 81,
   "metadata": {
    "ExecuteTime": {
     "end_time": "2021-09-09T15:08:15.806147Z",
     "start_time": "2021-09-09T15:08:15.804510Z"
    }
   },
   "outputs": [],
   "source": [
    "# dataextrac.first().getInfo()"
   ]
  },
  {
   "cell_type": "code",
   "execution_count": 82,
   "metadata": {
    "ExecuteTime": {
     "end_time": "2021-09-09T15:08:15.808235Z",
     "start_time": "2021-09-09T15:08:15.806865Z"
    }
   },
   "outputs": [],
   "source": [
    "# test_accuracy100 = dataextrac.errorMatrix('ID', 'b1')"
   ]
  },
  {
   "cell_type": "code",
   "execution_count": 83,
   "metadata": {
    "ExecuteTime": {
     "end_time": "2021-09-09T15:08:15.815698Z",
     "start_time": "2021-09-09T15:08:15.814232Z"
    }
   },
   "outputs": [],
   "source": [
    "# test_accuracy100.getInfo()"
   ]
  },
  {
   "cell_type": "code",
   "execution_count": 84,
   "metadata": {
    "ExecuteTime": {
     "end_time": "2021-09-09T15:08:15.817802Z",
     "start_time": "2021-09-09T15:08:15.816528Z"
    }
   },
   "outputs": [],
   "source": [
    "# test_accuracy100.accuracy().getInfo()"
   ]
  },
  {
   "cell_type": "code",
   "execution_count": 85,
   "metadata": {
    "ExecuteTime": {
     "end_time": "2021-09-09T15:08:15.820262Z",
     "start_time": "2021-09-09T15:08:15.818780Z"
    }
   },
   "outputs": [],
   "source": [
    "# test_accuracy100.kappa().getInfo()"
   ]
  },
  {
   "cell_type": "code",
   "execution_count": 86,
   "metadata": {
    "ExecuteTime": {
     "end_time": "2021-09-09T15:08:15.822336Z",
     "start_time": "2021-09-09T15:08:15.821078Z"
    }
   },
   "outputs": [],
   "source": [
    "# test_accuracy100.producersAccuracy().getInfo()"
   ]
  },
  {
   "cell_type": "code",
   "execution_count": 87,
   "metadata": {
    "ExecuteTime": {
     "end_time": "2021-09-09T15:08:15.824521Z",
     "start_time": "2021-09-09T15:08:15.823270Z"
    }
   },
   "outputs": [],
   "source": [
    "# test_accuracy100.consumersAccuracy().getInfo()"
   ]
  },
  {
   "cell_type": "markdown",
   "metadata": {},
   "source": [
    "### Descargando la matrix"
   ]
  },
  {
   "cell_type": "code",
   "execution_count": 88,
   "metadata": {
    "ExecuteTime": {
     "end_time": "2021-09-09T15:08:15.826850Z",
     "start_time": "2021-09-09T15:08:15.825379Z"
    }
   },
   "outputs": [],
   "source": [
    "# import csv\n",
    "# import os\n",
    "\n",
    "# out_dir = os.path.join(os.path.expanduser('/mnt/c/Users/Usuario/'), 'Desktop')\n",
    "# training_csv = os.path.join(out_dir, 'train_accuracy.csv')\n",
    "# testing_csv = os.path.join(out_dir, 'test_accuracy.csv')\n",
    "\n",
    "# with open(training_csv, \"w\", newline=\"\") as f:\n",
    "#     writer = csv.writer(f)\n",
    "#     writer.writerows(train_accuracy.getInfo())\n",
    "    \n",
    "# with open(testing_csv, \"w\", newline=\"\") as f:\n",
    "#     writer = csv.writer(f)\n",
    "#     writer.writerows(test_accuracy.getInfo())"
   ]
  },
  {
   "cell_type": "code",
   "execution_count": null,
   "metadata": {},
   "outputs": [],
   "source": []
  },
  {
   "cell_type": "markdown",
   "metadata": {},
   "source": [
    "### Exportando "
   ]
  },
  {
   "cell_type": "code",
   "execution_count": 89,
   "metadata": {
    "ExecuteTime": {
     "end_time": "2021-09-09T15:08:15.829209Z",
     "start_time": "2021-09-09T15:08:15.827850Z"
    }
   },
   "outputs": [],
   "source": [
    "# import os\n",
    "# out_dir = os.path.join(os.path.expanduser('/mnt/c/Users/Usuario/'), 'Desktop')\n",
    "# out_file = os.path.join(out_dir, 'landcover.tif')"
   ]
  },
  {
   "cell_type": "code",
   "execution_count": 90,
   "metadata": {
    "ExecuteTime": {
     "end_time": "2021-09-09T15:08:15.831462Z",
     "start_time": "2021-09-09T15:08:15.830150Z"
    }
   },
   "outputs": [],
   "source": [
    "# geemap.ee_export_image(landcover, filename=out_file, scale=900)\n"
   ]
  },
  {
   "cell_type": "code",
   "execution_count": 91,
   "metadata": {
    "ExecuteTime": {
     "end_time": "2021-09-09T15:08:15.833647Z",
     "start_time": "2021-09-09T15:08:15.832355Z"
    }
   },
   "outputs": [],
   "source": [
    "# geemap.ee_export_image_to_drive(landcover, description='landcover', folder='export', scale=900)"
   ]
  }
 ],
 "metadata": {
  "anaconda-cloud": {},
  "kernelspec": {
   "display_name": "Python 3 (ipykernel)",
   "language": "python",
   "name": "python3"
  },
  "language_info": {
   "codemirror_mode": {
    "name": "ipython",
    "version": 3
   },
   "file_extension": ".py",
   "mimetype": "text/x-python",
   "name": "python",
   "nbconvert_exporter": "python",
   "pygments_lexer": "ipython3",
   "version": "3.8.11"
  },
  "toc": {
   "base_numbering": 1,
   "nav_menu": {},
   "number_sections": true,
   "sideBar": true,
   "skip_h1_title": false,
   "title_cell": "Table of Contents",
   "title_sidebar": "Contents",
   "toc_cell": false,
   "toc_position": {
    "height": "calc(100% - 180px)",
    "left": "10px",
    "top": "150px",
    "width": "384px"
   },
   "toc_section_display": true,
   "toc_window_display": true
  },
  "varInspector": {
   "cols": {
    "lenName": 16,
    "lenType": 16,
    "lenVar": 40
   },
   "kernels_config": {
    "python": {
     "delete_cmd_postfix": "",
     "delete_cmd_prefix": "del ",
     "library": "var_list.py",
     "varRefreshCmd": "print(var_dic_list())"
    },
    "r": {
     "delete_cmd_postfix": ") ",
     "delete_cmd_prefix": "rm(",
     "library": "var_list.r",
     "varRefreshCmd": "cat(var_dic_list()) "
    }
   },
   "types_to_exclude": [
    "module",
    "function",
    "builtin_function_or_method",
    "instance",
    "_Feature"
   ],
   "window_display": false
  }
 },
 "nbformat": 4,
 "nbformat_minor": 4
}
